{
 "cells": [
  {
   "cell_type": "code",
   "execution_count": 1,
   "id": "3d55dbd4",
   "metadata": {},
   "outputs": [],
   "source": [
    "import tensorflow as tf"
   ]
  },
  {
   "cell_type": "code",
   "execution_count": 2,
   "id": "ad188626",
   "metadata": {
    "scrolled": true
   },
   "outputs": [],
   "source": [
    "import os\n",
    "import pandas as pd\n",
    "import numpy as np\n",
    "import scipy as sp\n",
    "import scipy.stats\n",
    "import librosa\n",
    "import librosa.display\n",
    "import math\n",
    "import sys\n",
    "#sys.path.insert(0,'/home/ikwak2/hmd/notebooks')\n",
    "sys.path.insert(0,'lucashnegri-peakutils-51a679cd8428')\n",
    "# sys.path.insert(0,'S1-S1-Phonocardiogram-Peak-Detection-Method-in-Python')\n",
    "sys.path.insert(0,'utils')\n",
    "from helper_code import *\n",
    "from get_feature import *\n",
    "from models import *\n",
    "from Generator0 import *\n",
    "from keras.preprocessing import sequence\n",
    "# import peakutils\n",
    "from scipy import special\n",
    "import scipy.io as sio\n",
    "from keras.preprocessing.sequence import pad_sequences\n",
    "import peakutils\n",
    "from tensorflow import keras\n",
    "from tensorflow.keras import layers\n",
    "from tensorflow.keras.callbacks import LearningRateScheduler,ModelCheckpoint"
   ]
  },
  {
   "cell_type": "code",
   "execution_count": 3,
   "id": "f8c573ff",
   "metadata": {},
   "outputs": [
    {
     "data": {
      "text/plain": [
       "'/home/jk21/Documents/hmd/jk_classifier'"
      ]
     },
     "execution_count": 3,
     "metadata": {},
     "output_type": "execute_result"
    }
   ],
   "source": [
    "pwd"
   ]
  },
  {
   "cell_type": "code",
   "execution_count": 4,
   "id": "42f5dd9c",
   "metadata": {},
   "outputs": [],
   "source": [
    "# data_folder =  'physionet.org/files/circor-heart-sound/1.0.3/training_data'\n",
    "train_folder =  '/home/jk21/Downloads/Data/data/murmur/train'\n",
    "test_folder = '/home/jk21/Downloads/Data/data/murmur/test'\n"
   ]
  },
  {
   "cell_type": "code",
   "execution_count": 5,
   "id": "ca657f78",
   "metadata": {},
   "outputs": [],
   "source": [
    "model_folder = 'lcnn2'"
   ]
  },
  {
   "cell_type": "code",
   "execution_count": 6,
   "id": "e49f868b",
   "metadata": {},
   "outputs": [
    {
     "data": {
      "text/plain": [
       "'lcnn2'"
      ]
     },
     "execution_count": 6,
     "metadata": {},
     "output_type": "execute_result"
    }
   ],
   "source": [
    "model_folder"
   ]
  },
  {
   "cell_type": "code",
   "execution_count": 7,
   "id": "e76c75d5",
   "metadata": {},
   "outputs": [],
   "source": [
    "def sigmoidal_decay(e, start=0, end=100, lr_start=1e-3, lr_end=1e-5):\n",
    "    if e < start:\n",
    "        return lr_start\n",
    "    elif e > end:\n",
    "        return lr_end\n",
    "\n",
    "    middle = (start + end) / 2\n",
    "    s = lambda x: 1 / (1 + np.exp(-x))\n",
    "\n",
    "    return s(13 * (-e + middle) / np.abs(end - start)) * np.abs(lr_start - lr_end) + lr_end"
   ]
  },
  {
   "cell_type": "code",
   "execution_count": 8,
   "id": "ac7432d8",
   "metadata": {},
   "outputs": [],
   "source": [
    "patient_files_trn = find_patient_files(train_folder)\n",
    "patient_files_test = find_patient_files(test_folder)"
   ]
  },
  {
   "cell_type": "code",
   "execution_count": null,
   "id": "df0c4bee",
   "metadata": {},
   "outputs": [],
   "source": []
  },
  {
   "cell_type": "code",
   "execution_count": 75,
   "id": "79f59c5e",
   "metadata": {
    "scrolled": true
   },
   "outputs": [],
   "source": [
    "with open('/home/jk21/Downloads/Data/features_trn_4sec.pickle', 'rb') as f:\n",
    "    features_trn = pickle.load(f)"
   ]
  },
  {
   "cell_type": "code",
   "execution_count": 76,
   "id": "dd412feb",
   "metadata": {},
   "outputs": [],
   "source": [
    "with open('/home/jk21/Downloads/Data/features_test_4sec.pickle', 'rb') as f:\n",
    "    features_test = pickle.load(f)"
   ]
  },
  {
   "cell_type": "code",
   "execution_count": 84,
   "id": "694c12ef",
   "metadata": {},
   "outputs": [],
   "source": [
    "# from IPython.display import clear_output"
   ]
  },
  {
   "cell_type": "code",
   "execution_count": 11,
   "id": "08bc0fa0",
   "metadata": {},
   "outputs": [],
   "source": [
    "## 꼭 바꾸기\n",
    "\n",
    "per_sec=16000"
   ]
  },
  {
   "cell_type": "code",
   "execution_count": 12,
   "id": "a30c2ab2",
   "metadata": {},
   "outputs": [],
   "source": [
    "winlen = 512\n",
    "hoplen = 256\n",
    "nmel = 120 \n",
    "nsec = 20 \n",
    "trim = 1 \n",
    "use_mel=True\n",
    "use_cqt = False \n",
    "use_stft = False\n",
    "use_raw=False\n",
    "use_interval=True\n",
    "use_wav2=True\n",
    "maxlen1 = 246000\n",
    "min_dist = 500\n",
    "max_interval_len = 192\n"
   ]
  },
  {
   "cell_type": "code",
   "execution_count": 13,
   "id": "701e9583",
   "metadata": {},
   "outputs": [],
   "source": [
    "model1_callback = tf.keras.callbacks.ModelCheckpoint(\n",
    "    filepath=model_folder,\n",
    "    monitor='val_accuracy',\n",
    "    verbose=0,\n",
    "    save_best_only=True,\n",
    "    save_weights_only=True,\n",
    "    mode='auto',\n",
    "    save_freq='epoch',\n",
    "    options=None,\n",
    "    initial_value_threshold=None\n",
    ")\n"
   ]
  },
  {
   "cell_type": "code",
   "execution_count": 14,
   "id": "d03a4cfb",
   "metadata": {},
   "outputs": [],
   "source": [
    "model2_callback = tf.keras.callbacks.ModelCheckpoint(\n",
    "    filepath=model_folder,\n",
    "    monitor='val_loss',\n",
    "    verbose=0,\n",
    "    save_best_only=True,\n",
    "    save_weights_only=True,\n",
    "    mode='auto',\n",
    "    save_freq='epoch',\n",
    "    options=None,\n",
    "    initial_value_threshold=None\n",
    ")    "
   ]
  },
  {
   "cell_type": "code",
   "execution_count": 16,
   "id": "6fe1fd1e",
   "metadata": {
    "scrolled": false
   },
   "outputs": [
    {
     "name": "stderr",
     "output_type": "stream",
     "text": [
      "100%|█████████████████████████████████████████| 751/751 [15:30<00:00,  1.24s/it]\n"
     ]
    },
    {
     "name": "stdout",
     "output_type": "stream",
     "text": [
      "melspec:  120 313\n",
      "cqt:  1 1\n",
      "stft:  1 1\n",
      "interval:  229 1\n",
      "wav2:  (246000,)\n"
     ]
    },
    {
     "name": "stderr",
     "output_type": "stream",
     "text": [
      "100%|█████████████████████████████████████████| 191/191 [04:35<00:00,  1.44s/it]\n"
     ]
    },
    {
     "name": "stdout",
     "output_type": "stream",
     "text": [
      "melspec:  120 313\n",
      "cqt:  1 1\n",
      "stft:  1 1\n",
      "interval:  229 1\n",
      "wav2:  (246000,)\n",
      "done\n"
     ]
    }
   ],
   "source": [
    "# per_sec_number=np.array([16000,20000,24000,28000,32000])\n",
    "\n",
    "\n",
    "# winlen = 512\n",
    "# hoplen = 256\n",
    "# nmel = 120 \n",
    "# nsec = 20 \n",
    "# trim = 1 \n",
    "# use_mel=True\n",
    "# use_cqt = False \n",
    "# use_stft = False\n",
    "# use_raw=False\n",
    "# use_interval=True\n",
    "# use_wav2=True\n",
    "# maxlen1 = 246000\n",
    "# min_dist = 500\n",
    "# per_sec=8000\n",
    "# max_interval_len = 229\n",
    "    \n",
    "# params_feature = {'samp_sec': nsec,\n",
    "                  \n",
    "#                   #### melspec, stft 피쳐 옵션들  \n",
    "#                   'pre_emphasis': 0,\n",
    "                  \n",
    "#                   'hop_length': hoplen,\n",
    "                  \n",
    "#                   'win_length': winlen,\n",
    "                  \n",
    "#                   'n_mels': nmel,\n",
    "#                   #### cqt 피쳐 옵션들  \n",
    "#                   'filter_scale': 1,\n",
    "#                   'n_bins': 80,\n",
    "#                   'fmin': 10,\n",
    "#                   'maxlen1': maxlen1,\n",
    "#                   'min_dist':min_dist,\n",
    "#                   'trim' :1,\n",
    "#                   'use_mel' : use_mel,\n",
    "#                   'use_cqt' : use_cqt,\n",
    "#                   'use_stft' : use_stft,\n",
    "#                   'use_interval' : use_interval,\n",
    "                  \n",
    "#                   'use_wav2' : use_wav2,\n",
    "                  \n",
    "#                   'per_sec' : per_sec,\n",
    "#                   'max_interval_len' : 229}\n",
    "\n",
    "# features_trn, mel_input_shape, cqt_input_shape,stft_input_shape,interval_input_shape,wav2_input_shape = get_features_3lb_all_ord(train_folder, patient_files_trn, **params_feature)\n",
    "# features_test, mel_input_shape, cqt_input_shape,stft_input_shape,interval_input_shape,wav2_input_shape= get_features_3lb_all_ord(test_folder, patient_files_test, **params_feature)\n",
    "# with open('/home/jk21/Downloads/Data/features_trn_' + str(int(8000/4000)) + 'sec.pickle', 'wb') as f:\n",
    "#     pickle.dump(features_trn, f, pickle.HIGHEST_PROTOCOL)\n",
    "# with open('/home/jk21/Downloads/Data/features_test_' + str(int(8000/4000)) + 'sec.pickle', 'wb') as f:\n",
    "#     pickle.dump(features_test, f, pickle.HIGHEST_PROTOCOL)    \n",
    "\n",
    "    \n",
    "# print('done')"
   ]
  },
  {
   "cell_type": "code",
   "execution_count": null,
   "id": "09bcd292",
   "metadata": {},
   "outputs": [],
   "source": []
  },
  {
   "cell_type": "code",
   "execution_count": null,
   "id": "0c3b284f",
   "metadata": {},
   "outputs": [],
   "source": []
  },
  {
   "cell_type": "code",
   "execution_count": 15,
   "id": "ca1fabdb",
   "metadata": {},
   "outputs": [],
   "source": [
    "params_feature = {'samp_sec': nsec,\n",
    "                  #### melspec, stft 피쳐 옵션들  \n",
    "                  'pre_emphasis': 0,\n",
    "                  'hop_length': hoplen,\n",
    "                  'win_length': winlen,\n",
    "                  'n_mels': nmel,\n",
    "                  #### cqt 피쳐 옵션들  \n",
    "                  'filter_scale': 1,\n",
    "                  'n_bins': 80,\n",
    "                  'fmin': 10,\n",
    "                  'maxlen1': maxlen1,\n",
    "                  'min_dist':min_dist,\n",
    "                  'max_interval_len' : max_interval_len,\n",
    "                  'trim' :1,\n",
    "                  'use_mel' : use_mel,\n",
    "                  'use_cqt' : use_cqt,\n",
    "                  'use_stft' : use_stft,\n",
    "                  'use_interval' : use_interval,\n",
    "                  'use_wav2' : use_wav2,\n",
    "                  'per_sec' : per_sec\n",
    "}"
   ]
  },
  {
   "cell_type": "code",
   "execution_count": null,
   "id": "a4acff06",
   "metadata": {},
   "outputs": [],
   "source": []
  },
  {
   "cell_type": "code",
   "execution_count": null,
   "id": "c01a8f6e",
   "metadata": {},
   "outputs": [],
   "source": []
  },
  {
   "cell_type": "code",
   "execution_count": 165,
   "id": "caa0f60d",
   "metadata": {},
   "outputs": [],
   "source": [
    "# features_trn, mel_input_shape, cqt_input_shape,stft_input_shape,interval_input_shape,wav2_input_shape = get_features_3lb_all_ord(train_folder, patient_files_trn, **params_feature)\n"
   ]
  },
  {
   "cell_type": "code",
   "execution_count": 166,
   "id": "b04d2593",
   "metadata": {},
   "outputs": [],
   "source": [
    "# features_test, mel_input_shape, cqt_input_shape,stft_input_shape,interval_input_shape,wav2_input_shape= get_features_3lb_all_ord(test_folder, patient_files_test, **params_feature)"
   ]
  },
  {
   "cell_type": "code",
   "execution_count": null,
   "id": "7e13f1af",
   "metadata": {},
   "outputs": [],
   "source": []
  },
  {
   "cell_type": "code",
   "execution_count": null,
   "id": "cd3db089",
   "metadata": {},
   "outputs": [],
   "source": []
  },
  {
   "cell_type": "code",
   "execution_count": null,
   "id": "c062bb96",
   "metadata": {},
   "outputs": [],
   "source": []
  },
  {
   "cell_type": "code",
   "execution_count": 16,
   "id": "c05f1a96",
   "metadata": {},
   "outputs": [],
   "source": [
    "mm_weight = 3 #np.random.choice([2,3,4,5])\n",
    "oo_weight = 3 #np.random.choice([2,3,4,5,6])\n",
    "ord1 = True #np.random.choice([True,False])\n",
    "mm_mean = False #np.random.choice([True,False])\n",
    "dp = 0 #np.random.choice([0, .1, .2, .3])\n",
    "fc = False #np.random.choice([True,False])\n",
    "ext = True\n",
    "chaug = 10 #np.random.choice([0, 10])\n",
    "mixup = True #np.random.choice([True,False])\n",
    "cout = .8 #np.random.choice([0, 0.8])\n",
    "wunknown = 1 #np.random.choice([1, 0.7, .5, .2])\n",
    "n1 = 0 #np.random.choice([0,2])\n",
    "if n1 == 0 :\n",
    "    ranfil = False\n",
    "else :\n",
    "    ranfil = [n1, [18,19,20,21,22,23]]"
   ]
  },
  {
   "cell_type": "code",
   "execution_count": 17,
   "id": "9fe819a9",
   "metadata": {},
   "outputs": [],
   "source": [
    "params_feature['ord1'] = ord1\n",
    "params_feature['mm_mean'] = mm_mean\n",
    "params_feature['dp'] = dp\n",
    "params_feature['fc'] = fc\n",
    "params_feature['ext'] = ext\n",
    "params_feature['oo_weight'] = oo_weight\n",
    "params_feature['mm_weight'] = mm_weight\n",
    "params_feature['chaug'] = chaug\n",
    "params_feature['cout'] = cout\n",
    "params_feature['wunknown'] = wunknown\n",
    "params_feature['mixup'] = mixup\n",
    "params_feature['n1'] = n1"
   ]
  },
  {
   "cell_type": "code",
   "execution_count": 18,
   "id": "12a59049",
   "metadata": {},
   "outputs": [
    {
     "data": {
      "text/plain": [
       "{'samp_sec': 20,\n",
       " 'pre_emphasis': 0,\n",
       " 'hop_length': 256,\n",
       " 'win_length': 512,\n",
       " 'n_mels': 120,\n",
       " 'filter_scale': 1,\n",
       " 'n_bins': 80,\n",
       " 'fmin': 10,\n",
       " 'maxlen1': 246000,\n",
       " 'min_dist': 500,\n",
       " 'max_interval_len': 229,\n",
       " 'trim': 1,\n",
       " 'use_mel': True,\n",
       " 'use_cqt': False,\n",
       " 'use_stft': False,\n",
       " 'use_interval': True,\n",
       " 'use_wav2': True,\n",
       " 'per_sec': 8000,\n",
       " 'ord1': True,\n",
       " 'mm_mean': False,\n",
       " 'dp': 0,\n",
       " 'fc': False,\n",
       " 'ext': True,\n",
       " 'oo_weight': 3,\n",
       " 'mm_weight': 3,\n",
       " 'chaug': 10,\n",
       " 'cout': 0.8,\n",
       " 'wunknown': 1,\n",
       " 'mixup': True,\n",
       " 'n1': 0}"
      ]
     },
     "execution_count": 18,
     "metadata": {},
     "output_type": "execute_result"
    }
   ],
   "source": [
    "params_feature"
   ]
  },
  {
   "cell_type": "code",
   "execution_count": null,
   "id": "17cd191d",
   "metadata": {},
   "outputs": [],
   "source": []
  },
  {
   "cell_type": "code",
   "execution_count": null,
   "id": "24434998",
   "metadata": {},
   "outputs": [],
   "source": []
  },
  {
   "cell_type": "code",
   "execution_count": null,
   "id": "ee510fdf",
   "metadata": {},
   "outputs": [],
   "source": []
  },
  {
   "cell_type": "code",
   "execution_count": null,
   "id": "dd6457f0",
   "metadata": {},
   "outputs": [],
   "source": []
  },
  {
   "cell_type": "code",
   "execution_count": 97,
   "id": "8b2ff2db",
   "metadata": {
    "scrolled": true
   },
   "outputs": [],
   "source": [
    "# with open('/home/jk21/Downloads/Data/features_trn_3sec.pickle', 'wb') as f:\n",
    "#     pickle.dump(features_trn, f, pickle.HIGHEST_PROTOCOL)"
   ]
  },
  {
   "cell_type": "code",
   "execution_count": 98,
   "id": "b9f7179a",
   "metadata": {
    "scrolled": true
   },
   "outputs": [],
   "source": [
    "# with open('/home/jk21/Downloads/Data/features_test_3sec.pickle', 'wb') as f:\n",
    "#     pickle.dump(features_test, f, pickle.HIGHEST_PROTOCOL)"
   ]
  },
  {
   "cell_type": "code",
   "execution_count": null,
   "id": "1499b589",
   "metadata": {},
   "outputs": [],
   "source": []
  },
  {
   "cell_type": "code",
   "execution_count": null,
   "id": "400ceb7b",
   "metadata": {},
   "outputs": [],
   "source": [
    "#################################################"
   ]
  },
  {
   "cell_type": "code",
   "execution_count": 17,
   "id": "ce38e56d",
   "metadata": {},
   "outputs": [],
   "source": [
    "from skimage.transform import resize\n",
    "import matplotlib.pyplot as plt"
   ]
  },
  {
   "cell_type": "code",
   "execution_count": 18,
   "id": "48ced533",
   "metadata": {
    "scrolled": true
   },
   "outputs": [],
   "source": [
    "tmp_wav2 = np.zeros((2532,32,374,1))\n",
    "for i in range(len(features_trn['wav2'])):\n",
    "    test_ary=features_trn['wav2'][i]\n",
    "    res = resize(test_ary, (32,374,1))\n",
    "    tmp_wav2[i]=res\n",
    "    "
   ]
  },
  {
   "cell_type": "code",
   "execution_count": 19,
   "id": "5c97584d",
   "metadata": {},
   "outputs": [],
   "source": [
    "features_trn['wav2'] = tmp_wav2"
   ]
  },
  {
   "cell_type": "code",
   "execution_count": 25,
   "id": "0d02ec74",
   "metadata": {},
   "outputs": [
    {
     "data": {
      "text/plain": [
       "<matplotlib.image.AxesImage at 0x7ff7442acd60>"
      ]
     },
     "execution_count": 25,
     "metadata": {},
     "output_type": "execute_result"
    },
    {
     "data": {
      "image/png": "[encoded data removed]",
      "text/plain": [
       "<Figure size 432x288 with 1 Axes>"
      ]
     },
     "metadata": {
      "needs_background": "light"
     },
     "output_type": "display_data"
    }
   ],
   "source": [
    "plt.imshow(features_trn['wav2'][30])"
   ]
  },
  {
   "cell_type": "code",
   "execution_count": 20,
   "id": "31a6445a",
   "metadata": {},
   "outputs": [],
   "source": [
    "tmp_wav2 = np.zeros((631,32,374,1))\n",
    "for i in range(len(features_test['wav2'])):\n",
    "    test_ary=features_test['wav2'][i]\n",
    "    res = resize(test_ary, (32,374,1))\n",
    "    tmp_wav2[i]=res"
   ]
  },
  {
   "cell_type": "code",
   "execution_count": 21,
   "id": "84a44f20",
   "metadata": {},
   "outputs": [],
   "source": [
    "features_test['wav2'] = tmp_wav2"
   ]
  },
  {
   "cell_type": "code",
   "execution_count": null,
   "id": "0c6ed279",
   "metadata": {},
   "outputs": [],
   "source": [
    "##################################################"
   ]
  },
  {
   "cell_type": "code",
   "execution_count": null,
   "id": "50bc780b",
   "metadata": {},
   "outputs": [],
   "source": []
  },
  {
   "cell_type": "code",
   "execution_count": null,
   "id": "6f410772",
   "metadata": {},
   "outputs": [],
   "source": []
  },
  {
   "cell_type": "code",
   "execution_count": null,
   "id": "b3a0769f",
   "metadata": {},
   "outputs": [],
   "source": []
  },
  {
   "cell_type": "code",
   "execution_count": 19,
   "id": "460de784",
   "metadata": {},
   "outputs": [],
   "source": [
    "mel_input_shape = features_trn['mel1'].shape[1:]"
   ]
  },
  {
   "cell_type": "code",
   "execution_count": 20,
   "id": "5d0291cb",
   "metadata": {},
   "outputs": [
    {
     "data": {
      "text/plain": [
       "(120, 313, 1)"
      ]
     },
     "execution_count": 20,
     "metadata": {},
     "output_type": "execute_result"
    }
   ],
   "source": [
    "mel_input_shape"
   ]
  },
  {
   "cell_type": "code",
   "execution_count": 21,
   "id": "ec06d09a",
   "metadata": {},
   "outputs": [],
   "source": [
    "cqt_input_shape = features_trn['cqt1'].shape[1:]"
   ]
  },
  {
   "cell_type": "code",
   "execution_count": 22,
   "id": "31599947",
   "metadata": {},
   "outputs": [
    {
     "data": {
      "text/plain": [
       "(1, 1, 1)"
      ]
     },
     "execution_count": 22,
     "metadata": {},
     "output_type": "execute_result"
    }
   ],
   "source": [
    "cqt_input_shape"
   ]
  },
  {
   "cell_type": "code",
   "execution_count": 23,
   "id": "861213a4",
   "metadata": {},
   "outputs": [],
   "source": [
    "stft_input_shape = features_trn['stft1'].shape[1:]"
   ]
  },
  {
   "cell_type": "code",
   "execution_count": 24,
   "id": "6e151a70",
   "metadata": {},
   "outputs": [
    {
     "data": {
      "text/plain": [
       "(1, 1, 1)"
      ]
     },
     "execution_count": 24,
     "metadata": {},
     "output_type": "execute_result"
    }
   ],
   "source": [
    "stft_input_shape"
   ]
  },
  {
   "cell_type": "code",
   "execution_count": 25,
   "id": "0b7eb1dd",
   "metadata": {},
   "outputs": [],
   "source": [
    "interval_input_shape= features_trn['interval'].shape[1:]"
   ]
  },
  {
   "cell_type": "code",
   "execution_count": 26,
   "id": "6c31f94d",
   "metadata": {
    "scrolled": true
   },
   "outputs": [
    {
     "data": {
      "text/plain": [
       "(229, 1)"
      ]
     },
     "execution_count": 26,
     "metadata": {},
     "output_type": "execute_result"
    }
   ],
   "source": [
    "interval_input_shape"
   ]
  },
  {
   "cell_type": "code",
   "execution_count": 27,
   "id": "c26d851e",
   "metadata": {},
   "outputs": [],
   "source": [
    "wav2_input_shape= features_trn['wav2'].shape[1:]"
   ]
  },
  {
   "cell_type": "code",
   "execution_count": 28,
   "id": "7553a46c",
   "metadata": {},
   "outputs": [
    {
     "data": {
      "text/plain": [
       "(246000,)"
      ]
     },
     "execution_count": 28,
     "metadata": {},
     "output_type": "execute_result"
    }
   ],
   "source": [
    "wav2_input_shape"
   ]
  },
  {
   "cell_type": "code",
   "execution_count": 29,
   "id": "a5be4116",
   "metadata": {},
   "outputs": [],
   "source": [
    "for i in range(len(features_trn['interval'])):\n",
    "    features_trn['interval'][i]=np.array(features_trn['interval'][i])"
   ]
  },
  {
   "cell_type": "code",
   "execution_count": 30,
   "id": "7e660a58",
   "metadata": {},
   "outputs": [],
   "source": [
    "for i in range(len(features_trn['mel1'])):\n",
    "    features_trn['mel1'][i]=np.array(features_trn['mel1'][i])"
   ]
  },
  {
   "cell_type": "code",
   "execution_count": null,
   "id": "8751f8fd",
   "metadata": {},
   "outputs": [],
   "source": []
  },
  {
   "cell_type": "code",
   "execution_count": 37,
   "id": "5ffbed82",
   "metadata": {
    "scrolled": true
   },
   "outputs": [],
   "source": [
    "model1 = get_LCNN_o_4_dr_1(mel_input_shape, cqt_input_shape, stft_input_shape,interval_input_shape,wav2_input_shape, use_mel = use_mel, use_cqt = use_cqt, use_stft = use_stft, ord1 = ord1, dp = dp, fc = fc, ext = ext,use_wav2=use_wav2)"
   ]
  },
  {
   "cell_type": "code",
   "execution_count": 38,
   "id": "9ccc8685",
   "metadata": {},
   "outputs": [],
   "source": [
    "\n",
    "model2 = get_LCNN_o_4_dr_1(mel_input_shape, cqt_input_shape, stft_input_shape,interval_input_shape,wav2_input_shape, use_mel = use_mel, use_cqt = use_cqt, use_stft = use_stft, ord1 = ord1, dp = dp, fc = fc, ext = ext,use_wav2=use_wav2)\n"
   ]
  },
  {
   "cell_type": "code",
   "execution_count": 39,
   "id": "4e462fa8",
   "metadata": {},
   "outputs": [
    {
     "name": "stdout",
     "output_type": "stream",
     "text": [
      "Model: \"model_2\"\n",
      "__________________________________________________________________________________________________\n",
      " Layer (type)                   Output Shape         Param #     Connected to                     \n",
      "==================================================================================================\n",
      " wav2 (InputLayer)              [(None, 246000)]     0           []                               \n",
      "                                                                                                  \n",
      " interval (InputLayer)          [(None, 229, 1)]     0           []                               \n",
      "                                                                                                  \n",
      " reshape_2 (Reshape)            (None, 300, 820)     0           ['wav2[0][0]']                   \n",
      "                                                                                                  \n",
      " conv1d_160 (Conv1D)            (None, 229, 9)       36          ['interval[0][0]']               \n",
      "                                                                                                  \n",
      " conv1d_161 (Conv1D)            (None, 229, 9)       36          ['interval[0][0]']               \n",
      "                                                                                                  \n",
      " conv1d_200 (Conv1D)            (None, 300, 9)       22149       ['reshape_2[0][0]']              \n",
      "                                                                                                  \n",
      " conv1d_201 (Conv1D)            (None, 300, 9)       22149       ['reshape_2[0][0]']              \n",
      "                                                                                                  \n",
      " maximum_98 (Maximum)           (None, 229, 9)       0           ['conv1d_160[0][0]',             \n",
      "                                                                  'conv1d_161[0][0]']             \n",
      "                                                                                                  \n",
      " maximum_118 (Maximum)          (None, 300, 9)       0           ['conv1d_200[0][0]',             \n",
      "                                                                  'conv1d_201[0][0]']             \n",
      "                                                                                                  \n",
      " max_pooling1d_80 (MaxPooling1D  (None, 228, 9)      0           ['maximum_98[0][0]']             \n",
      " )                                                                                                \n",
      "                                                                                                  \n",
      " max_pooling1d_100 (MaxPooling1  (None, 299, 9)      0           ['maximum_118[0][0]']            \n",
      " D)                                                                                               \n",
      "                                                                                                  \n",
      " conv1d_162 (Conv1D)            (None, 228, 9)       171         ['max_pooling1d_80[0][0]']       \n",
      "                                                                                                  \n",
      " conv1d_163 (Conv1D)            (None, 228, 9)       171         ['max_pooling1d_80[0][0]']       \n",
      "                                                                                                  \n",
      " conv1d_202 (Conv1D)            (None, 299, 9)       171         ['max_pooling1d_100[0][0]']      \n",
      "                                                                                                  \n",
      " conv1d_203 (Conv1D)            (None, 299, 9)       171         ['max_pooling1d_100[0][0]']      \n",
      "                                                                                                  \n",
      " maximum_99 (Maximum)           (None, 228, 9)       0           ['conv1d_162[0][0]',             \n",
      "                                                                  'conv1d_163[0][0]']             \n",
      "                                                                                                  \n",
      " maximum_119 (Maximum)          (None, 299, 9)       0           ['conv1d_202[0][0]',             \n",
      "                                                                  'conv1d_203[0][0]']             \n",
      "                                                                                                  \n",
      " max_pooling1d_81 (MaxPooling1D  (None, 227, 9)      0           ['maximum_99[0][0]']             \n",
      " )                                                                                                \n",
      "                                                                                                  \n",
      " max_pooling1d_101 (MaxPooling1  (None, 298, 9)      0           ['maximum_119[0][0]']            \n",
      " D)                                                                                               \n",
      "                                                                                                  \n",
      " conv1d_164 (Conv1D)            (None, 227, 9)       171         ['max_pooling1d_81[0][0]']       \n",
      "                                                                                                  \n",
      " conv1d_165 (Conv1D)            (None, 227, 9)       171         ['max_pooling1d_81[0][0]']       \n",
      "                                                                                                  \n",
      " conv1d_204 (Conv1D)            (None, 298, 9)       171         ['max_pooling1d_101[0][0]']      \n",
      "                                                                                                  \n",
      " conv1d_205 (Conv1D)            (None, 298, 9)       171         ['max_pooling1d_101[0][0]']      \n",
      "                                                                                                  \n",
      " maximum_100 (Maximum)          (None, 227, 9)       0           ['conv1d_164[0][0]',             \n",
      "                                                                  'conv1d_165[0][0]']             \n",
      "                                                                                                  \n",
      " maximum_120 (Maximum)          (None, 298, 9)       0           ['conv1d_204[0][0]',             \n",
      "                                                                  'conv1d_205[0][0]']             \n",
      "                                                                                                  \n",
      " max_pooling1d_82 (MaxPooling1D  (None, 226, 9)      0           ['maximum_100[0][0]']            \n",
      " )                                                                                                \n",
      "                                                                                                  \n",
      " max_pooling1d_102 (MaxPooling1  (None, 297, 9)      0           ['maximum_120[0][0]']            \n",
      " D)                                                                                               \n",
      "                                                                                                  \n",
      " conv1d_166 (Conv1D)            (None, 226, 9)       171         ['max_pooling1d_82[0][0]']       \n",
      "                                                                                                  \n",
      " conv1d_167 (Conv1D)            (None, 226, 9)       171         ['max_pooling1d_82[0][0]']       \n",
      "                                                                                                  \n",
      " conv1d_206 (Conv1D)            (None, 297, 9)       171         ['max_pooling1d_102[0][0]']      \n",
      "                                                                                                  \n",
      " conv1d_207 (Conv1D)            (None, 297, 9)       171         ['max_pooling1d_102[0][0]']      \n",
      "                                                                                                  \n",
      " maximum_101 (Maximum)          (None, 226, 9)       0           ['conv1d_166[0][0]',             \n",
      "                                                                  'conv1d_167[0][0]']             \n",
      "                                                                                                  \n",
      " maximum_121 (Maximum)          (None, 297, 9)       0           ['conv1d_206[0][0]',             \n",
      "                                                                  'conv1d_207[0][0]']             \n",
      "                                                                                                  \n"
     ]
    },
    {
     "name": "stdout",
     "output_type": "stream",
     "text": [
      " max_pooling1d_83 (MaxPooling1D  (None, 225, 9)      0           ['maximum_101[0][0]']            \n",
      " )                                                                                                \n",
      "                                                                                                  \n",
      " max_pooling1d_103 (MaxPooling1  (None, 296, 9)      0           ['maximum_121[0][0]']            \n",
      " D)                                                                                               \n",
      "                                                                                                  \n",
      " conv1d_168 (Conv1D)            (None, 225, 9)       171         ['max_pooling1d_83[0][0]']       \n",
      "                                                                                                  \n",
      " conv1d_208 (Conv1D)            (None, 296, 9)       171         ['max_pooling1d_103[0][0]']      \n",
      "                                                                                                  \n",
      " maximum_102 (Maximum)          (None, 225, 9)       0           ['conv1d_168[0][0]',             \n",
      "                                                                  'conv1d_168[0][0]']             \n",
      "                                                                                                  \n",
      " maximum_122 (Maximum)          (None, 296, 9)       0           ['conv1d_208[0][0]',             \n",
      "                                                                  'conv1d_208[0][0]']             \n",
      "                                                                                                  \n",
      " max_pooling1d_84 (MaxPooling1D  (None, 224, 9)      0           ['maximum_102[0][0]']            \n",
      " )                                                                                                \n",
      "                                                                                                  \n",
      " max_pooling1d_104 (MaxPooling1  (None, 295, 9)      0           ['maximum_122[0][0]']            \n",
      " D)                                                                                               \n",
      "                                                                                                  \n",
      " conv1d_170 (Conv1D)            (None, 224, 9)       171         ['max_pooling1d_84[0][0]']       \n",
      "                                                                                                  \n",
      " conv1d_171 (Conv1D)            (None, 224, 9)       171         ['max_pooling1d_84[0][0]']       \n",
      "                                                                                                  \n",
      " conv1d_210 (Conv1D)            (None, 295, 9)       171         ['max_pooling1d_104[0][0]']      \n",
      "                                                                                                  \n",
      " conv1d_211 (Conv1D)            (None, 295, 9)       171         ['max_pooling1d_104[0][0]']      \n",
      "                                                                                                  \n",
      " maximum_103 (Maximum)          (None, 224, 9)       0           ['conv1d_170[0][0]',             \n",
      "                                                                  'conv1d_171[0][0]']             \n",
      "                                                                                                  \n",
      " maximum_123 (Maximum)          (None, 295, 9)       0           ['conv1d_210[0][0]',             \n",
      "                                                                  'conv1d_211[0][0]']             \n",
      "                                                                                                  \n",
      " max_pooling1d_85 (MaxPooling1D  (None, 223, 9)      0           ['maximum_103[0][0]']            \n",
      " )                                                                                                \n",
      "                                                                                                  \n",
      " max_pooling1d_105 (MaxPooling1  (None, 294, 9)      0           ['maximum_123[0][0]']            \n",
      " D)                                                                                               \n",
      "                                                                                                  \n",
      " conv1d_172 (Conv1D)            (None, 223, 9)       171         ['max_pooling1d_85[0][0]']       \n",
      "                                                                                                  \n",
      " conv1d_173 (Conv1D)            (None, 223, 9)       171         ['max_pooling1d_85[0][0]']       \n",
      "                                                                                                  \n",
      " conv1d_212 (Conv1D)            (None, 294, 9)       171         ['max_pooling1d_105[0][0]']      \n",
      "                                                                                                  \n",
      " conv1d_213 (Conv1D)            (None, 294, 9)       171         ['max_pooling1d_105[0][0]']      \n",
      "                                                                                                  \n",
      " maximum_104 (Maximum)          (None, 223, 9)       0           ['conv1d_172[0][0]',             \n",
      "                                                                  'conv1d_173[0][0]']             \n",
      "                                                                                                  \n",
      " maximum_124 (Maximum)          (None, 294, 9)       0           ['conv1d_212[0][0]',             \n",
      "                                                                  'conv1d_213[0][0]']             \n",
      "                                                                                                  \n",
      " max_pooling1d_86 (MaxPooling1D  (None, 222, 9)      0           ['maximum_104[0][0]']            \n",
      " )                                                                                                \n",
      "                                                                                                  \n",
      " max_pooling1d_106 (MaxPooling1  (None, 293, 9)      0           ['maximum_124[0][0]']            \n",
      " D)                                                                                               \n",
      "                                                                                                  \n",
      " conv1d_174 (Conv1D)            (None, 222, 9)       171         ['max_pooling1d_86[0][0]']       \n",
      "                                                                                                  \n",
      " conv1d_175 (Conv1D)            (None, 222, 9)       171         ['max_pooling1d_86[0][0]']       \n",
      "                                                                                                  \n",
      " conv1d_214 (Conv1D)            (None, 293, 9)       171         ['max_pooling1d_106[0][0]']      \n",
      "                                                                                                  \n",
      " conv1d_215 (Conv1D)            (None, 293, 9)       171         ['max_pooling1d_106[0][0]']      \n",
      "                                                                                                  \n",
      " maximum_105 (Maximum)          (None, 222, 9)       0           ['conv1d_174[0][0]',             \n",
      "                                                                  'conv1d_175[0][0]']             \n",
      "                                                                                                  \n",
      " maximum_125 (Maximum)          (None, 293, 9)       0           ['conv1d_214[0][0]',             \n",
      "                                                                  'conv1d_215[0][0]']             \n",
      "                                                                                                  \n",
      " max_pooling1d_87 (MaxPooling1D  (None, 221, 9)      0           ['maximum_105[0][0]']            \n",
      " )                                                                                                \n",
      "                                                                                                  \n",
      " max_pooling1d_107 (MaxPooling1  (None, 292, 9)      0           ['maximum_125[0][0]']            \n",
      " D)                                                                                               \n",
      "                                                                                                  \n",
      " conv1d_176 (Conv1D)            (None, 221, 9)       171         ['max_pooling1d_87[0][0]']       \n"
     ]
    },
    {
     "name": "stdout",
     "output_type": "stream",
     "text": [
      "                                                                                                  \n",
      " conv1d_177 (Conv1D)            (None, 221, 9)       171         ['max_pooling1d_87[0][0]']       \n",
      "                                                                                                  \n",
      " conv1d_216 (Conv1D)            (None, 292, 9)       171         ['max_pooling1d_107[0][0]']      \n",
      "                                                                                                  \n",
      " conv1d_217 (Conv1D)            (None, 292, 9)       171         ['max_pooling1d_107[0][0]']      \n",
      "                                                                                                  \n",
      " maximum_106 (Maximum)          (None, 221, 9)       0           ['conv1d_176[0][0]',             \n",
      "                                                                  'conv1d_177[0][0]']             \n",
      "                                                                                                  \n",
      " maximum_126 (Maximum)          (None, 292, 9)       0           ['conv1d_216[0][0]',             \n",
      "                                                                  'conv1d_217[0][0]']             \n",
      "                                                                                                  \n",
      " max_pooling1d_88 (MaxPooling1D  (None, 220, 9)      0           ['maximum_106[0][0]']            \n",
      " )                                                                                                \n",
      "                                                                                                  \n",
      " max_pooling1d_108 (MaxPooling1  (None, 291, 9)      0           ['maximum_126[0][0]']            \n",
      " D)                                                                                               \n",
      "                                                                                                  \n",
      " conv1d_178 (Conv1D)            (None, 220, 9)       171         ['max_pooling1d_88[0][0]']       \n",
      "                                                                                                  \n",
      " conv1d_179 (Conv1D)            (None, 220, 9)       171         ['max_pooling1d_88[0][0]']       \n",
      "                                                                                                  \n",
      " conv1d_218 (Conv1D)            (None, 291, 9)       171         ['max_pooling1d_108[0][0]']      \n",
      "                                                                                                  \n",
      " conv1d_219 (Conv1D)            (None, 291, 9)       171         ['max_pooling1d_108[0][0]']      \n",
      "                                                                                                  \n",
      " maximum_107 (Maximum)          (None, 220, 9)       0           ['conv1d_178[0][0]',             \n",
      "                                                                  'conv1d_179[0][0]']             \n",
      "                                                                                                  \n",
      " maximum_127 (Maximum)          (None, 291, 9)       0           ['conv1d_218[0][0]',             \n",
      "                                                                  'conv1d_219[0][0]']             \n",
      "                                                                                                  \n",
      " max_pooling1d_89 (MaxPooling1D  (None, 219, 9)      0           ['maximum_107[0][0]']            \n",
      " )                                                                                                \n",
      "                                                                                                  \n",
      " max_pooling1d_109 (MaxPooling1  (None, 290, 9)      0           ['maximum_127[0][0]']            \n",
      " D)                                                                                               \n",
      "                                                                                                  \n",
      " conv1d_180 (Conv1D)            (None, 219, 9)       252         ['max_pooling1d_89[0][0]']       \n",
      "                                                                                                  \n",
      " conv1d_220 (Conv1D)            (None, 290, 9)       252         ['max_pooling1d_109[0][0]']      \n",
      "                                                                                                  \n",
      " mel (InputLayer)               [(None, 120, 313, 1  0           []                               \n",
      "                                )]                                                                \n",
      "                                                                                                  \n",
      " maximum_108 (Maximum)          (None, 219, 9)       0           ['conv1d_180[0][0]',             \n",
      "                                                                  'conv1d_180[0][0]']             \n",
      "                                                                                                  \n",
      " maximum_128 (Maximum)          (None, 290, 9)       0           ['conv1d_220[0][0]',             \n",
      "                                                                  'conv1d_220[0][0]']             \n",
      "                                                                                                  \n",
      " conv2d_36 (Conv2D)             (None, 120, 313, 32  832         ['mel[0][0]']                    \n",
      "                                )                                                                 \n",
      "                                                                                                  \n",
      " conv2d_37 (Conv2D)             (None, 120, 313, 32  832         ['mel[0][0]']                    \n",
      "                                )                                                                 \n",
      "                                                                                                  \n",
      " max_pooling1d_90 (MaxPooling1D  (None, 218, 9)      0           ['maximum_108[0][0]']            \n",
      " )                                                                                                \n",
      "                                                                                                  \n",
      " max_pooling1d_110 (MaxPooling1  (None, 289, 9)      0           ['maximum_128[0][0]']            \n",
      " D)                                                                                               \n",
      "                                                                                                  \n",
      " maximum_138 (Maximum)          (None, 120, 313, 32  0           ['conv2d_36[0][0]',              \n",
      "                                )                                 'conv2d_37[0][0]']              \n",
      "                                                                                                  \n",
      " conv1d_182 (Conv1D)            (None, 218, 9)       171         ['max_pooling1d_90[0][0]']       \n",
      "                                                                                                  \n",
      " conv1d_183 (Conv1D)            (None, 218, 9)       171         ['max_pooling1d_90[0][0]']       \n",
      "                                                                                                  \n",
      " conv1d_222 (Conv1D)            (None, 289, 9)       171         ['max_pooling1d_110[0][0]']      \n",
      "                                                                                                  \n",
      " conv1d_223 (Conv1D)            (None, 289, 9)       171         ['max_pooling1d_110[0][0]']      \n",
      "                                                                                                  \n",
      " max_pooling2d_8 (MaxPooling2D)  (None, 60, 157, 32)  0          ['maximum_138[0][0]']            \n",
      "                                                                                                  \n",
      " maximum_109 (Maximum)          (None, 218, 9)       0           ['conv1d_182[0][0]',             \n",
      "                                                                  'conv1d_183[0][0]']             \n",
      "                                                                                                  \n",
      " maximum_129 (Maximum)          (None, 289, 9)       0           ['conv1d_222[0][0]',             \n",
      "                                                                  'conv1d_223[0][0]']             \n",
      "                                                                                                  \n"
     ]
    },
    {
     "name": "stdout",
     "output_type": "stream",
     "text": [
      " conv2d_38 (Conv2D)             (None, 60, 157, 32)  1056        ['max_pooling2d_8[0][0]']        \n",
      "                                                                                                  \n",
      " conv2d_39 (Conv2D)             (None, 60, 157, 32)  1056        ['max_pooling2d_8[0][0]']        \n",
      "                                                                                                  \n",
      " max_pooling1d_91 (MaxPooling1D  (None, 217, 9)      0           ['maximum_109[0][0]']            \n",
      " )                                                                                                \n",
      "                                                                                                  \n",
      " max_pooling1d_111 (MaxPooling1  (None, 288, 9)      0           ['maximum_129[0][0]']            \n",
      " D)                                                                                               \n",
      "                                                                                                  \n",
      " maximum_139 (Maximum)          (None, 60, 157, 32)  0           ['conv2d_38[0][0]',              \n",
      "                                                                  'conv2d_39[0][0]']              \n",
      "                                                                                                  \n",
      " conv1d_184 (Conv1D)            (None, 217, 9)       171         ['max_pooling1d_91[0][0]']       \n",
      "                                                                                                  \n",
      " conv1d_185 (Conv1D)            (None, 217, 9)       171         ['max_pooling1d_91[0][0]']       \n",
      "                                                                                                  \n",
      " conv1d_224 (Conv1D)            (None, 288, 9)       171         ['max_pooling1d_111[0][0]']      \n",
      "                                                                                                  \n",
      " conv1d_225 (Conv1D)            (None, 288, 9)       171         ['max_pooling1d_111[0][0]']      \n",
      "                                                                                                  \n",
      " batch_normalization_12 (BatchN  (None, 60, 157, 32)  96         ['maximum_139[0][0]']            \n",
      " ormalization)                                                                                    \n",
      "                                                                                                  \n",
      " maximum_110 (Maximum)          (None, 217, 9)       0           ['conv1d_184[0][0]',             \n",
      "                                                                  'conv1d_185[0][0]']             \n",
      "                                                                                                  \n",
      " maximum_130 (Maximum)          (None, 288, 9)       0           ['conv1d_224[0][0]',             \n",
      "                                                                  'conv1d_225[0][0]']             \n",
      "                                                                                                  \n",
      " conv2d_40 (Conv2D)             (None, 60, 157, 48)  13872       ['batch_normalization_12[0][0]'] \n",
      "                                                                                                  \n",
      " conv2d_41 (Conv2D)             (None, 60, 157, 48)  13872       ['batch_normalization_12[0][0]'] \n",
      "                                                                                                  \n",
      " max_pooling1d_92 (MaxPooling1D  (None, 216, 9)      0           ['maximum_110[0][0]']            \n",
      " )                                                                                                \n",
      "                                                                                                  \n",
      " max_pooling1d_112 (MaxPooling1  (None, 287, 9)      0           ['maximum_130[0][0]']            \n",
      " D)                                                                                               \n",
      "                                                                                                  \n",
      " maximum_140 (Maximum)          (None, 60, 157, 48)  0           ['conv2d_40[0][0]',              \n",
      "                                                                  'conv2d_41[0][0]']              \n",
      "                                                                                                  \n",
      " conv1d_186 (Conv1D)            (None, 216, 9)       171         ['max_pooling1d_92[0][0]']       \n",
      "                                                                                                  \n",
      " conv1d_187 (Conv1D)            (None, 216, 9)       171         ['max_pooling1d_92[0][0]']       \n",
      "                                                                                                  \n",
      " conv1d_226 (Conv1D)            (None, 287, 9)       171         ['max_pooling1d_112[0][0]']      \n",
      "                                                                                                  \n",
      " conv1d_227 (Conv1D)            (None, 287, 9)       171         ['max_pooling1d_112[0][0]']      \n",
      "                                                                                                  \n",
      " max_pooling2d_9 (MaxPooling2D)  (None, 30, 79, 48)  0           ['maximum_140[0][0]']            \n",
      "                                                                                                  \n",
      " maximum_111 (Maximum)          (None, 216, 9)       0           ['conv1d_186[0][0]',             \n",
      "                                                                  'conv1d_187[0][0]']             \n",
      "                                                                                                  \n",
      " maximum_131 (Maximum)          (None, 287, 9)       0           ['conv1d_226[0][0]',             \n",
      "                                                                  'conv1d_227[0][0]']             \n",
      "                                                                                                  \n",
      " batch_normalization_13 (BatchN  (None, 30, 79, 48)  144         ['max_pooling2d_9[0][0]']        \n",
      " ormalization)                                                                                    \n",
      "                                                                                                  \n",
      " max_pooling1d_93 (MaxPooling1D  (None, 215, 9)      0           ['maximum_111[0][0]']            \n",
      " )                                                                                                \n",
      "                                                                                                  \n",
      " max_pooling1d_113 (MaxPooling1  (None, 286, 9)      0           ['maximum_131[0][0]']            \n",
      " D)                                                                                               \n",
      "                                                                                                  \n",
      " conv2d_42 (Conv2D)             (None, 30, 79, 48)   2352        ['batch_normalization_13[0][0]'] \n",
      "                                                                                                  \n",
      " conv2d_43 (Conv2D)             (None, 30, 79, 48)   2352        ['batch_normalization_13[0][0]'] \n",
      "                                                                                                  \n",
      " conv1d_188 (Conv1D)            (None, 215, 9)       171         ['max_pooling1d_93[0][0]']       \n",
      "                                                                                                  \n",
      " conv1d_228 (Conv1D)            (None, 286, 9)       171         ['max_pooling1d_113[0][0]']      \n",
      "                                                                                                  \n",
      " maximum_141 (Maximum)          (None, 30, 79, 48)   0           ['conv2d_42[0][0]',              \n",
      "                                                                  'conv2d_43[0][0]']              \n",
      "                                                                                                  \n",
      " maximum_112 (Maximum)          (None, 215, 9)       0           ['conv1d_188[0][0]',             \n",
      "                                                                  'conv1d_188[0][0]']             \n",
      "                                                                                                  \n",
      " maximum_132 (Maximum)          (None, 286, 9)       0           ['conv1d_228[0][0]',             \n"
     ]
    },
    {
     "name": "stdout",
     "output_type": "stream",
     "text": [
      "                                                                  'conv1d_228[0][0]']             \n",
      "                                                                                                  \n",
      " batch_normalization_14 (BatchN  (None, 30, 79, 48)  144         ['maximum_141[0][0]']            \n",
      " ormalization)                                                                                    \n",
      "                                                                                                  \n",
      " max_pooling1d_94 (MaxPooling1D  (None, 214, 9)      0           ['maximum_112[0][0]']            \n",
      " )                                                                                                \n",
      "                                                                                                  \n",
      " max_pooling1d_114 (MaxPooling1  (None, 285, 9)      0           ['maximum_132[0][0]']            \n",
      " D)                                                                                               \n",
      "                                                                                                  \n",
      " conv2d_44 (Conv2D)             (None, 30, 79, 64)   27712       ['batch_normalization_14[0][0]'] \n",
      "                                                                                                  \n",
      " conv2d_45 (Conv2D)             (None, 30, 79, 64)   27712       ['batch_normalization_14[0][0]'] \n",
      "                                                                                                  \n",
      " conv1d_190 (Conv1D)            (None, 214, 64)      1216        ['max_pooling1d_94[0][0]']       \n",
      "                                                                                                  \n",
      " conv1d_191 (Conv1D)            (None, 214, 64)      1216        ['max_pooling1d_94[0][0]']       \n",
      "                                                                                                  \n",
      " conv1d_230 (Conv1D)            (None, 285, 64)      1216        ['max_pooling1d_114[0][0]']      \n",
      "                                                                                                  \n",
      " conv1d_231 (Conv1D)            (None, 285, 64)      1216        ['max_pooling1d_114[0][0]']      \n",
      "                                                                                                  \n",
      " maximum_142 (Maximum)          (None, 30, 79, 64)   0           ['conv2d_44[0][0]',              \n",
      "                                                                  'conv2d_45[0][0]']              \n",
      "                                                                                                  \n",
      " maximum_113 (Maximum)          (None, 214, 64)      0           ['conv1d_190[0][0]',             \n",
      "                                                                  'conv1d_191[0][0]']             \n",
      "                                                                                                  \n",
      " maximum_133 (Maximum)          (None, 285, 64)      0           ['conv1d_230[0][0]',             \n",
      "                                                                  'conv1d_231[0][0]']             \n",
      "                                                                                                  \n",
      " max_pooling2d_10 (MaxPooling2D  (None, 15, 40, 64)  0           ['maximum_142[0][0]']            \n",
      " )                                                                                                \n",
      "                                                                                                  \n",
      " max_pooling1d_95 (MaxPooling1D  (None, 213, 64)     0           ['maximum_113[0][0]']            \n",
      " )                                                                                                \n",
      "                                                                                                  \n",
      " max_pooling1d_115 (MaxPooling1  (None, 284, 64)     0           ['maximum_133[0][0]']            \n",
      " D)                                                                                               \n",
      "                                                                                                  \n",
      " conv2d_46 (Conv2D)             (None, 15, 40, 64)   4160        ['max_pooling2d_10[0][0]']       \n",
      "                                                                                                  \n",
      " conv2d_47 (Conv2D)             (None, 15, 40, 64)   4160        ['max_pooling2d_10[0][0]']       \n",
      "                                                                                                  \n",
      " conv1d_192 (Conv1D)            (None, 213, 9)       1161        ['max_pooling1d_95[0][0]']       \n",
      "                                                                                                  \n",
      " conv1d_193 (Conv1D)            (None, 213, 9)       1161        ['max_pooling1d_95[0][0]']       \n",
      "                                                                                                  \n",
      " conv1d_232 (Conv1D)            (None, 284, 9)       1161        ['max_pooling1d_115[0][0]']      \n",
      "                                                                                                  \n",
      " conv1d_233 (Conv1D)            (None, 284, 9)       1161        ['max_pooling1d_115[0][0]']      \n",
      "                                                                                                  \n",
      " maximum_143 (Maximum)          (None, 15, 40, 64)   0           ['conv2d_46[0][0]',              \n",
      "                                                                  'conv2d_47[0][0]']              \n",
      "                                                                                                  \n",
      " maximum_114 (Maximum)          (None, 213, 9)       0           ['conv1d_192[0][0]',             \n",
      "                                                                  'conv1d_193[0][0]']             \n",
      "                                                                                                  \n",
      " maximum_134 (Maximum)          (None, 284, 9)       0           ['conv1d_232[0][0]',             \n",
      "                                                                  'conv1d_233[0][0]']             \n",
      "                                                                                                  \n",
      " batch_normalization_15 (BatchN  (None, 15, 40, 64)  192         ['maximum_143[0][0]']            \n",
      " ormalization)                                                                                    \n",
      "                                                                                                  \n",
      " max_pooling1d_96 (MaxPooling1D  (None, 212, 9)      0           ['maximum_114[0][0]']            \n",
      " )                                                                                                \n",
      "                                                                                                  \n",
      " max_pooling1d_116 (MaxPooling1  (None, 283, 9)      0           ['maximum_134[0][0]']            \n",
      " D)                                                                                               \n",
      "                                                                                                  \n",
      " conv2d_48 (Conv2D)             (None, 15, 40, 32)   18464       ['batch_normalization_15[0][0]'] \n",
      "                                                                                                  \n",
      " conv2d_49 (Conv2D)             (None, 15, 40, 32)   18464       ['batch_normalization_15[0][0]'] \n",
      "                                                                                                  \n",
      " conv1d_194 (Conv1D)            (None, 212, 9)       171         ['max_pooling1d_96[0][0]']       \n",
      "                                                                                                  \n",
      " conv1d_195 (Conv1D)            (None, 212, 9)       171         ['max_pooling1d_96[0][0]']       \n",
      "                                                                                                  \n",
      " conv1d_234 (Conv1D)            (None, 283, 9)       171         ['max_pooling1d_116[0][0]']      \n",
      "                                                                                                  \n",
      " conv1d_235 (Conv1D)            (None, 283, 9)       171         ['max_pooling1d_116[0][0]']      \n",
      "                                                                                                  \n"
     ]
    },
    {
     "name": "stdout",
     "output_type": "stream",
     "text": [
      " maximum_144 (Maximum)          (None, 15, 40, 32)   0           ['conv2d_48[0][0]',              \n",
      "                                                                  'conv2d_49[0][0]']              \n",
      "                                                                                                  \n",
      " maximum_115 (Maximum)          (None, 212, 9)       0           ['conv1d_194[0][0]',             \n",
      "                                                                  'conv1d_195[0][0]']             \n",
      "                                                                                                  \n",
      " maximum_135 (Maximum)          (None, 283, 9)       0           ['conv1d_234[0][0]',             \n",
      "                                                                  'conv1d_235[0][0]']             \n",
      "                                                                                                  \n",
      " batch_normalization_16 (BatchN  (None, 15, 40, 32)  96          ['maximum_144[0][0]']            \n",
      " ormalization)                                                                                    \n",
      "                                                                                                  \n",
      " max_pooling1d_97 (MaxPooling1D  (None, 211, 9)      0           ['maximum_115[0][0]']            \n",
      " )                                                                                                \n",
      "                                                                                                  \n",
      " max_pooling1d_117 (MaxPooling1  (None, 282, 9)      0           ['maximum_135[0][0]']            \n",
      " D)                                                                                               \n",
      "                                                                                                  \n",
      " conv2d_50 (Conv2D)             (None, 15, 40, 32)   1056        ['batch_normalization_16[0][0]'] \n",
      "                                                                                                  \n",
      " conv2d_51 (Conv2D)             (None, 15, 40, 32)   1056        ['batch_normalization_16[0][0]'] \n",
      "                                                                                                  \n",
      " conv1d_196 (Conv1D)            (None, 211, 9)       171         ['max_pooling1d_97[0][0]']       \n",
      "                                                                                                  \n",
      " conv1d_197 (Conv1D)            (None, 211, 9)       171         ['max_pooling1d_97[0][0]']       \n",
      "                                                                                                  \n",
      " conv1d_236 (Conv1D)            (None, 282, 9)       171         ['max_pooling1d_117[0][0]']      \n",
      "                                                                                                  \n",
      " conv1d_237 (Conv1D)            (None, 282, 9)       171         ['max_pooling1d_117[0][0]']      \n",
      "                                                                                                  \n",
      " maximum_145 (Maximum)          (None, 15, 40, 32)   0           ['conv2d_50[0][0]',              \n",
      "                                                                  'conv2d_51[0][0]']              \n",
      "                                                                                                  \n",
      " maximum_116 (Maximum)          (None, 211, 9)       0           ['conv1d_196[0][0]',             \n",
      "                                                                  'conv1d_197[0][0]']             \n",
      "                                                                                                  \n",
      " maximum_136 (Maximum)          (None, 282, 9)       0           ['conv1d_236[0][0]',             \n",
      "                                                                  'conv1d_237[0][0]']             \n",
      "                                                                                                  \n",
      " batch_normalization_17 (BatchN  (None, 15, 40, 32)  96          ['maximum_145[0][0]']            \n",
      " ormalization)                                                                                    \n",
      "                                                                                                  \n",
      " max_pooling1d_98 (MaxPooling1D  (None, 210, 9)      0           ['maximum_116[0][0]']            \n",
      " )                                                                                                \n",
      "                                                                                                  \n",
      " max_pooling1d_118 (MaxPooling1  (None, 281, 9)      0           ['maximum_136[0][0]']            \n",
      " D)                                                                                               \n",
      "                                                                                                  \n",
      " conv2d_52 (Conv2D)             (None, 15, 40, 32)   1056        ['batch_normalization_17[0][0]'] \n",
      "                                                                                                  \n",
      " conv2d_53 (Conv2D)             (None, 15, 40, 32)   1056        ['batch_normalization_17[0][0]'] \n",
      "                                                                                                  \n",
      " conv1d_198 (Conv1D)            (None, 210, 9)       171         ['max_pooling1d_98[0][0]']       \n",
      "                                                                                                  \n",
      " conv1d_199 (Conv1D)            (None, 210, 9)       171         ['max_pooling1d_98[0][0]']       \n",
      "                                                                                                  \n",
      " conv1d_238 (Conv1D)            (None, 281, 9)       171         ['max_pooling1d_118[0][0]']      \n",
      "                                                                                                  \n",
      " conv1d_239 (Conv1D)            (None, 281, 9)       171         ['max_pooling1d_118[0][0]']      \n",
      "                                                                                                  \n",
      " maximum_146 (Maximum)          (None, 15, 40, 32)   0           ['conv2d_52[0][0]',              \n",
      "                                                                  'conv2d_53[0][0]']              \n",
      "                                                                                                  \n",
      " age_cat (InputLayer)           [(None, 6)]          0           []                               \n",
      "                                                                                                  \n",
      " sex_cat (InputLayer)           [(None, 2)]          0           []                               \n",
      "                                                                                                  \n",
      " height_weight (InputLayer)     [(None, 2)]          0           []                               \n",
      "                                                                                                  \n",
      " loc (InputLayer)               [(None, 5)]          0           []                               \n",
      "                                                                                                  \n",
      " maximum_117 (Maximum)          (None, 210, 9)       0           ['conv1d_198[0][0]',             \n",
      "                                                                  'conv1d_199[0][0]']             \n",
      "                                                                                                  \n",
      " maximum_137 (Maximum)          (None, 281, 9)       0           ['conv1d_238[0][0]',             \n",
      "                                                                  'conv1d_239[0][0]']             \n",
      "                                                                                                  \n",
      " max_pooling2d_11 (MaxPooling2D  (None, 7, 20, 32)   0           ['maximum_146[0][0]']            \n",
      " )                                                                                                \n",
      "                                                                                                  \n",
      " dense_12 (Dense)               (None, 2)            14          ['age_cat[0][0]']                \n",
      "                                                                                                  \n",
      " dense_13 (Dense)               (None, 1)            3           ['sex_cat[0][0]']                \n"
     ]
    },
    {
     "name": "stdout",
     "output_type": "stream",
     "text": [
      "                                                                                                  \n",
      " dense_14 (Dense)               (None, 1)            3           ['height_weight[0][0]']          \n",
      "                                                                                                  \n",
      " dense_15 (Dense)               (None, 3)            18          ['loc[0][0]']                    \n",
      "                                                                                                  \n",
      " is_preg (InputLayer)           [(None, 1)]          0           []                               \n",
      "                                                                                                  \n",
      " max_pooling1d_99 (MaxPooling1D  (None, 209, 9)      0           ['maximum_117[0][0]']            \n",
      " )                                                                                                \n",
      "                                                                                                  \n",
      " max_pooling1d_119 (MaxPooling1  (None, 280, 9)      0           ['maximum_137[0][0]']            \n",
      " D)                                                                                               \n",
      "                                                                                                  \n",
      " global_average_pooling2d_2 (Gl  (None, 32)          0           ['max_pooling2d_11[0][0]']       \n",
      " obalAveragePooling2D)                                                                            \n",
      "                                                                                                  \n",
      " concatenate_4 (Concatenate)    (None, 8)            0           ['dense_12[0][0]',               \n",
      "                                                                  'dense_13[0][0]',               \n",
      "                                                                  'dense_14[0][0]',               \n",
      "                                                                  'dense_15[0][0]',               \n",
      "                                                                  'is_preg[0][0]']                \n",
      "                                                                                                  \n",
      " global_average_pooling1d_4 (Gl  (None, 9)           0           ['max_pooling1d_99[0][0]']       \n",
      " obalAveragePooling1D)                                                                            \n",
      "                                                                                                  \n",
      " global_average_pooling1d_5 (Gl  (None, 9)           0           ['max_pooling1d_119[0][0]']      \n",
      " obalAveragePooling1D)                                                                            \n",
      "                                                                                                  \n",
      " dropout_8 (Dropout)            (None, 32)           0           ['global_average_pooling2d_2[0][0\n",
      "                                                                 ]']                              \n",
      "                                                                                                  \n",
      " dense_16 (Dense)               (None, 10)           90          ['concatenate_4[0][0]']          \n",
      "                                                                                                  \n",
      " dropout_6 (Dropout)            (None, 9)            0           ['global_average_pooling1d_4[0][0\n",
      "                                                                 ]']                              \n",
      "                                                                                                  \n",
      " dropout_7 (Dropout)            (None, 9)            0           ['global_average_pooling1d_5[0][0\n",
      "                                                                 ]']                              \n",
      "                                                                                                  \n",
      " concatenate_5 (Concatenate)    (None, 60)           0           ['dropout_8[0][0]',              \n",
      "                                                                  'dense_16[0][0]',               \n",
      "                                                                  'dropout_6[0][0]',              \n",
      "                                                                  'dropout_7[0][0]']              \n",
      "                                                                                                  \n",
      " stft (InputLayer)              [(None, 1, 1, 1)]    0           []                               \n",
      "                                                                                                  \n",
      " cqt (InputLayer)               [(None, 1, 1, 1)]    0           []                               \n",
      "                                                                                                  \n",
      " dense_17 (Dense)               (None, 2)            122         ['concatenate_5[0][0]']          \n",
      "                                                                                                  \n",
      "==================================================================================================\n",
      "Total params: 206,780\n",
      "Trainable params: 206,268\n",
      "Non-trainable params: 512\n",
      "__________________________________________________________________________________________________\n"
     ]
    }
   ],
   "source": [
    "model1.summary()"
   ]
  },
  {
   "cell_type": "code",
   "execution_count": 40,
   "id": "8d2279ce",
   "metadata": {
    "scrolled": true
   },
   "outputs": [
    {
     "name": "stdout",
     "output_type": "stream",
     "text": [
      "Model: \"model_3\"\n",
      "__________________________________________________________________________________________________\n",
      " Layer (type)                   Output Shape         Param #     Connected to                     \n",
      "==================================================================================================\n",
      " wav2 (InputLayer)              [(None, 246000)]     0           []                               \n",
      "                                                                                                  \n",
      " interval (InputLayer)          [(None, 229, 1)]     0           []                               \n",
      "                                                                                                  \n",
      " reshape_3 (Reshape)            (None, 300, 820)     0           ['wav2[0][0]']                   \n",
      "                                                                                                  \n",
      " conv1d_240 (Conv1D)            (None, 229, 9)       36          ['interval[0][0]']               \n",
      "                                                                                                  \n",
      " conv1d_241 (Conv1D)            (None, 229, 9)       36          ['interval[0][0]']               \n",
      "                                                                                                  \n",
      " conv1d_280 (Conv1D)            (None, 300, 9)       22149       ['reshape_3[0][0]']              \n",
      "                                                                                                  \n",
      " conv1d_281 (Conv1D)            (None, 300, 9)       22149       ['reshape_3[0][0]']              \n",
      "                                                                                                  \n",
      " maximum_147 (Maximum)          (None, 229, 9)       0           ['conv1d_240[0][0]',             \n",
      "                                                                  'conv1d_241[0][0]']             \n",
      "                                                                                                  \n",
      " maximum_167 (Maximum)          (None, 300, 9)       0           ['conv1d_280[0][0]',             \n",
      "                                                                  'conv1d_281[0][0]']             \n",
      "                                                                                                  \n",
      " max_pooling1d_120 (MaxPooling1  (None, 228, 9)      0           ['maximum_147[0][0]']            \n",
      " D)                                                                                               \n",
      "                                                                                                  \n",
      " max_pooling1d_140 (MaxPooling1  (None, 299, 9)      0           ['maximum_167[0][0]']            \n",
      " D)                                                                                               \n",
      "                                                                                                  \n",
      " conv1d_242 (Conv1D)            (None, 228, 9)       171         ['max_pooling1d_120[0][0]']      \n",
      "                                                                                                  \n",
      " conv1d_243 (Conv1D)            (None, 228, 9)       171         ['max_pooling1d_120[0][0]']      \n",
      "                                                                                                  \n",
      " conv1d_282 (Conv1D)            (None, 299, 9)       171         ['max_pooling1d_140[0][0]']      \n",
      "                                                                                                  \n",
      " conv1d_283 (Conv1D)            (None, 299, 9)       171         ['max_pooling1d_140[0][0]']      \n",
      "                                                                                                  \n",
      " maximum_148 (Maximum)          (None, 228, 9)       0           ['conv1d_242[0][0]',             \n",
      "                                                                  'conv1d_243[0][0]']             \n",
      "                                                                                                  \n",
      " maximum_168 (Maximum)          (None, 299, 9)       0           ['conv1d_282[0][0]',             \n",
      "                                                                  'conv1d_283[0][0]']             \n",
      "                                                                                                  \n",
      " max_pooling1d_121 (MaxPooling1  (None, 227, 9)      0           ['maximum_148[0][0]']            \n",
      " D)                                                                                               \n",
      "                                                                                                  \n",
      " max_pooling1d_141 (MaxPooling1  (None, 298, 9)      0           ['maximum_168[0][0]']            \n",
      " D)                                                                                               \n",
      "                                                                                                  \n",
      " conv1d_244 (Conv1D)            (None, 227, 9)       171         ['max_pooling1d_121[0][0]']      \n",
      "                                                                                                  \n",
      " conv1d_245 (Conv1D)            (None, 227, 9)       171         ['max_pooling1d_121[0][0]']      \n",
      "                                                                                                  \n",
      " conv1d_284 (Conv1D)            (None, 298, 9)       171         ['max_pooling1d_141[0][0]']      \n",
      "                                                                                                  \n",
      " conv1d_285 (Conv1D)            (None, 298, 9)       171         ['max_pooling1d_141[0][0]']      \n",
      "                                                                                                  \n",
      " maximum_149 (Maximum)          (None, 227, 9)       0           ['conv1d_244[0][0]',             \n",
      "                                                                  'conv1d_245[0][0]']             \n",
      "                                                                                                  \n",
      " maximum_169 (Maximum)          (None, 298, 9)       0           ['conv1d_284[0][0]',             \n",
      "                                                                  'conv1d_285[0][0]']             \n",
      "                                                                                                  \n",
      " max_pooling1d_122 (MaxPooling1  (None, 226, 9)      0           ['maximum_149[0][0]']            \n",
      " D)                                                                                               \n",
      "                                                                                                  \n",
      " max_pooling1d_142 (MaxPooling1  (None, 297, 9)      0           ['maximum_169[0][0]']            \n",
      " D)                                                                                               \n",
      "                                                                                                  \n",
      " conv1d_246 (Conv1D)            (None, 226, 9)       171         ['max_pooling1d_122[0][0]']      \n",
      "                                                                                                  \n",
      " conv1d_247 (Conv1D)            (None, 226, 9)       171         ['max_pooling1d_122[0][0]']      \n",
      "                                                                                                  \n",
      " conv1d_286 (Conv1D)            (None, 297, 9)       171         ['max_pooling1d_142[0][0]']      \n",
      "                                                                                                  \n",
      " conv1d_287 (Conv1D)            (None, 297, 9)       171         ['max_pooling1d_142[0][0]']      \n",
      "                                                                                                  \n",
      " maximum_150 (Maximum)          (None, 226, 9)       0           ['conv1d_246[0][0]',             \n",
      "                                                                  'conv1d_247[0][0]']             \n",
      "                                                                                                  \n",
      " maximum_170 (Maximum)          (None, 297, 9)       0           ['conv1d_286[0][0]',             \n",
      "                                                                  'conv1d_287[0][0]']             \n",
      "                                                                                                  \n"
     ]
    },
    {
     "name": "stdout",
     "output_type": "stream",
     "text": [
      " max_pooling1d_123 (MaxPooling1  (None, 225, 9)      0           ['maximum_150[0][0]']            \n",
      " D)                                                                                               \n",
      "                                                                                                  \n",
      " max_pooling1d_143 (MaxPooling1  (None, 296, 9)      0           ['maximum_170[0][0]']            \n",
      " D)                                                                                               \n",
      "                                                                                                  \n",
      " conv1d_248 (Conv1D)            (None, 225, 9)       171         ['max_pooling1d_123[0][0]']      \n",
      "                                                                                                  \n",
      " conv1d_288 (Conv1D)            (None, 296, 9)       171         ['max_pooling1d_143[0][0]']      \n",
      "                                                                                                  \n",
      " maximum_151 (Maximum)          (None, 225, 9)       0           ['conv1d_248[0][0]',             \n",
      "                                                                  'conv1d_248[0][0]']             \n",
      "                                                                                                  \n",
      " maximum_171 (Maximum)          (None, 296, 9)       0           ['conv1d_288[0][0]',             \n",
      "                                                                  'conv1d_288[0][0]']             \n",
      "                                                                                                  \n",
      " max_pooling1d_124 (MaxPooling1  (None, 224, 9)      0           ['maximum_151[0][0]']            \n",
      " D)                                                                                               \n",
      "                                                                                                  \n",
      " max_pooling1d_144 (MaxPooling1  (None, 295, 9)      0           ['maximum_171[0][0]']            \n",
      " D)                                                                                               \n",
      "                                                                                                  \n",
      " conv1d_250 (Conv1D)            (None, 224, 9)       171         ['max_pooling1d_124[0][0]']      \n",
      "                                                                                                  \n",
      " conv1d_251 (Conv1D)            (None, 224, 9)       171         ['max_pooling1d_124[0][0]']      \n",
      "                                                                                                  \n",
      " conv1d_290 (Conv1D)            (None, 295, 9)       171         ['max_pooling1d_144[0][0]']      \n",
      "                                                                                                  \n",
      " conv1d_291 (Conv1D)            (None, 295, 9)       171         ['max_pooling1d_144[0][0]']      \n",
      "                                                                                                  \n",
      " maximum_152 (Maximum)          (None, 224, 9)       0           ['conv1d_250[0][0]',             \n",
      "                                                                  'conv1d_251[0][0]']             \n",
      "                                                                                                  \n",
      " maximum_172 (Maximum)          (None, 295, 9)       0           ['conv1d_290[0][0]',             \n",
      "                                                                  'conv1d_291[0][0]']             \n",
      "                                                                                                  \n",
      " max_pooling1d_125 (MaxPooling1  (None, 223, 9)      0           ['maximum_152[0][0]']            \n",
      " D)                                                                                               \n",
      "                                                                                                  \n",
      " max_pooling1d_145 (MaxPooling1  (None, 294, 9)      0           ['maximum_172[0][0]']            \n",
      " D)                                                                                               \n",
      "                                                                                                  \n",
      " conv1d_252 (Conv1D)            (None, 223, 9)       171         ['max_pooling1d_125[0][0]']      \n",
      "                                                                                                  \n",
      " conv1d_253 (Conv1D)            (None, 223, 9)       171         ['max_pooling1d_125[0][0]']      \n",
      "                                                                                                  \n",
      " conv1d_292 (Conv1D)            (None, 294, 9)       171         ['max_pooling1d_145[0][0]']      \n",
      "                                                                                                  \n",
      " conv1d_293 (Conv1D)            (None, 294, 9)       171         ['max_pooling1d_145[0][0]']      \n",
      "                                                                                                  \n",
      " maximum_153 (Maximum)          (None, 223, 9)       0           ['conv1d_252[0][0]',             \n",
      "                                                                  'conv1d_253[0][0]']             \n",
      "                                                                                                  \n",
      " maximum_173 (Maximum)          (None, 294, 9)       0           ['conv1d_292[0][0]',             \n",
      "                                                                  'conv1d_293[0][0]']             \n",
      "                                                                                                  \n",
      " max_pooling1d_126 (MaxPooling1  (None, 222, 9)      0           ['maximum_153[0][0]']            \n",
      " D)                                                                                               \n",
      "                                                                                                  \n",
      " max_pooling1d_146 (MaxPooling1  (None, 293, 9)      0           ['maximum_173[0][0]']            \n",
      " D)                                                                                               \n",
      "                                                                                                  \n",
      " conv1d_254 (Conv1D)            (None, 222, 9)       171         ['max_pooling1d_126[0][0]']      \n",
      "                                                                                                  \n",
      " conv1d_255 (Conv1D)            (None, 222, 9)       171         ['max_pooling1d_126[0][0]']      \n",
      "                                                                                                  \n",
      " conv1d_294 (Conv1D)            (None, 293, 9)       171         ['max_pooling1d_146[0][0]']      \n",
      "                                                                                                  \n",
      " conv1d_295 (Conv1D)            (None, 293, 9)       171         ['max_pooling1d_146[0][0]']      \n",
      "                                                                                                  \n",
      " maximum_154 (Maximum)          (None, 222, 9)       0           ['conv1d_254[0][0]',             \n",
      "                                                                  'conv1d_255[0][0]']             \n",
      "                                                                                                  \n",
      " maximum_174 (Maximum)          (None, 293, 9)       0           ['conv1d_294[0][0]',             \n",
      "                                                                  'conv1d_295[0][0]']             \n",
      "                                                                                                  \n",
      " max_pooling1d_127 (MaxPooling1  (None, 221, 9)      0           ['maximum_154[0][0]']            \n",
      " D)                                                                                               \n",
      "                                                                                                  \n",
      " max_pooling1d_147 (MaxPooling1  (None, 292, 9)      0           ['maximum_174[0][0]']            \n",
      " D)                                                                                               \n",
      "                                                                                                  \n",
      " conv1d_256 (Conv1D)            (None, 221, 9)       171         ['max_pooling1d_127[0][0]']      \n"
     ]
    },
    {
     "name": "stdout",
     "output_type": "stream",
     "text": [
      "                                                                                                  \n",
      " conv1d_257 (Conv1D)            (None, 221, 9)       171         ['max_pooling1d_127[0][0]']      \n",
      "                                                                                                  \n",
      " conv1d_296 (Conv1D)            (None, 292, 9)       171         ['max_pooling1d_147[0][0]']      \n",
      "                                                                                                  \n",
      " conv1d_297 (Conv1D)            (None, 292, 9)       171         ['max_pooling1d_147[0][0]']      \n",
      "                                                                                                  \n",
      " maximum_155 (Maximum)          (None, 221, 9)       0           ['conv1d_256[0][0]',             \n",
      "                                                                  'conv1d_257[0][0]']             \n",
      "                                                                                                  \n",
      " maximum_175 (Maximum)          (None, 292, 9)       0           ['conv1d_296[0][0]',             \n",
      "                                                                  'conv1d_297[0][0]']             \n",
      "                                                                                                  \n",
      " max_pooling1d_128 (MaxPooling1  (None, 220, 9)      0           ['maximum_155[0][0]']            \n",
      " D)                                                                                               \n",
      "                                                                                                  \n",
      " max_pooling1d_148 (MaxPooling1  (None, 291, 9)      0           ['maximum_175[0][0]']            \n",
      " D)                                                                                               \n",
      "                                                                                                  \n",
      " conv1d_258 (Conv1D)            (None, 220, 9)       171         ['max_pooling1d_128[0][0]']      \n",
      "                                                                                                  \n",
      " conv1d_259 (Conv1D)            (None, 220, 9)       171         ['max_pooling1d_128[0][0]']      \n",
      "                                                                                                  \n",
      " conv1d_298 (Conv1D)            (None, 291, 9)       171         ['max_pooling1d_148[0][0]']      \n",
      "                                                                                                  \n",
      " conv1d_299 (Conv1D)            (None, 291, 9)       171         ['max_pooling1d_148[0][0]']      \n",
      "                                                                                                  \n",
      " maximum_156 (Maximum)          (None, 220, 9)       0           ['conv1d_258[0][0]',             \n",
      "                                                                  'conv1d_259[0][0]']             \n",
      "                                                                                                  \n",
      " maximum_176 (Maximum)          (None, 291, 9)       0           ['conv1d_298[0][0]',             \n",
      "                                                                  'conv1d_299[0][0]']             \n",
      "                                                                                                  \n",
      " max_pooling1d_129 (MaxPooling1  (None, 219, 9)      0           ['maximum_156[0][0]']            \n",
      " D)                                                                                               \n",
      "                                                                                                  \n",
      " max_pooling1d_149 (MaxPooling1  (None, 290, 9)      0           ['maximum_176[0][0]']            \n",
      " D)                                                                                               \n",
      "                                                                                                  \n",
      " conv1d_260 (Conv1D)            (None, 219, 9)       252         ['max_pooling1d_129[0][0]']      \n",
      "                                                                                                  \n",
      " conv1d_300 (Conv1D)            (None, 290, 9)       252         ['max_pooling1d_149[0][0]']      \n",
      "                                                                                                  \n",
      " mel (InputLayer)               [(None, 120, 313, 1  0           []                               \n",
      "                                )]                                                                \n",
      "                                                                                                  \n",
      " maximum_157 (Maximum)          (None, 219, 9)       0           ['conv1d_260[0][0]',             \n",
      "                                                                  'conv1d_260[0][0]']             \n",
      "                                                                                                  \n",
      " maximum_177 (Maximum)          (None, 290, 9)       0           ['conv1d_300[0][0]',             \n",
      "                                                                  'conv1d_300[0][0]']             \n",
      "                                                                                                  \n",
      " conv2d_54 (Conv2D)             (None, 120, 313, 32  832         ['mel[0][0]']                    \n",
      "                                )                                                                 \n",
      "                                                                                                  \n",
      " conv2d_55 (Conv2D)             (None, 120, 313, 32  832         ['mel[0][0]']                    \n",
      "                                )                                                                 \n",
      "                                                                                                  \n",
      " max_pooling1d_130 (MaxPooling1  (None, 218, 9)      0           ['maximum_157[0][0]']            \n",
      " D)                                                                                               \n",
      "                                                                                                  \n",
      " max_pooling1d_150 (MaxPooling1  (None, 289, 9)      0           ['maximum_177[0][0]']            \n",
      " D)                                                                                               \n",
      "                                                                                                  \n",
      " maximum_187 (Maximum)          (None, 120, 313, 32  0           ['conv2d_54[0][0]',              \n",
      "                                )                                 'conv2d_55[0][0]']              \n",
      "                                                                                                  \n",
      " conv1d_262 (Conv1D)            (None, 218, 9)       171         ['max_pooling1d_130[0][0]']      \n",
      "                                                                                                  \n",
      " conv1d_263 (Conv1D)            (None, 218, 9)       171         ['max_pooling1d_130[0][0]']      \n",
      "                                                                                                  \n",
      " conv1d_302 (Conv1D)            (None, 289, 9)       171         ['max_pooling1d_150[0][0]']      \n",
      "                                                                                                  \n",
      " conv1d_303 (Conv1D)            (None, 289, 9)       171         ['max_pooling1d_150[0][0]']      \n",
      "                                                                                                  \n",
      " max_pooling2d_12 (MaxPooling2D  (None, 60, 157, 32)  0          ['maximum_187[0][0]']            \n",
      " )                                                                                                \n",
      "                                                                                                  \n",
      " maximum_158 (Maximum)          (None, 218, 9)       0           ['conv1d_262[0][0]',             \n",
      "                                                                  'conv1d_263[0][0]']             \n",
      "                                                                                                  \n",
      " maximum_178 (Maximum)          (None, 289, 9)       0           ['conv1d_302[0][0]',             \n",
      "                                                                  'conv1d_303[0][0]']             \n"
     ]
    },
    {
     "name": "stdout",
     "output_type": "stream",
     "text": [
      "                                                                                                  \n",
      " conv2d_56 (Conv2D)             (None, 60, 157, 32)  1056        ['max_pooling2d_12[0][0]']       \n",
      "                                                                                                  \n",
      " conv2d_57 (Conv2D)             (None, 60, 157, 32)  1056        ['max_pooling2d_12[0][0]']       \n",
      "                                                                                                  \n",
      " max_pooling1d_131 (MaxPooling1  (None, 217, 9)      0           ['maximum_158[0][0]']            \n",
      " D)                                                                                               \n",
      "                                                                                                  \n",
      " max_pooling1d_151 (MaxPooling1  (None, 288, 9)      0           ['maximum_178[0][0]']            \n",
      " D)                                                                                               \n",
      "                                                                                                  \n",
      " maximum_188 (Maximum)          (None, 60, 157, 32)  0           ['conv2d_56[0][0]',              \n",
      "                                                                  'conv2d_57[0][0]']              \n",
      "                                                                                                  \n",
      " conv1d_264 (Conv1D)            (None, 217, 9)       171         ['max_pooling1d_131[0][0]']      \n",
      "                                                                                                  \n",
      " conv1d_265 (Conv1D)            (None, 217, 9)       171         ['max_pooling1d_131[0][0]']      \n",
      "                                                                                                  \n",
      " conv1d_304 (Conv1D)            (None, 288, 9)       171         ['max_pooling1d_151[0][0]']      \n",
      "                                                                                                  \n",
      " conv1d_305 (Conv1D)            (None, 288, 9)       171         ['max_pooling1d_151[0][0]']      \n",
      "                                                                                                  \n",
      " batch_normalization_18 (BatchN  (None, 60, 157, 32)  96         ['maximum_188[0][0]']            \n",
      " ormalization)                                                                                    \n",
      "                                                                                                  \n",
      " maximum_159 (Maximum)          (None, 217, 9)       0           ['conv1d_264[0][0]',             \n",
      "                                                                  'conv1d_265[0][0]']             \n",
      "                                                                                                  \n",
      " maximum_179 (Maximum)          (None, 288, 9)       0           ['conv1d_304[0][0]',             \n",
      "                                                                  'conv1d_305[0][0]']             \n",
      "                                                                                                  \n",
      " conv2d_58 (Conv2D)             (None, 60, 157, 48)  13872       ['batch_normalization_18[0][0]'] \n",
      "                                                                                                  \n",
      " conv2d_59 (Conv2D)             (None, 60, 157, 48)  13872       ['batch_normalization_18[0][0]'] \n",
      "                                                                                                  \n",
      " max_pooling1d_132 (MaxPooling1  (None, 216, 9)      0           ['maximum_159[0][0]']            \n",
      " D)                                                                                               \n",
      "                                                                                                  \n",
      " max_pooling1d_152 (MaxPooling1  (None, 287, 9)      0           ['maximum_179[0][0]']            \n",
      " D)                                                                                               \n",
      "                                                                                                  \n",
      " maximum_189 (Maximum)          (None, 60, 157, 48)  0           ['conv2d_58[0][0]',              \n",
      "                                                                  'conv2d_59[0][0]']              \n",
      "                                                                                                  \n",
      " conv1d_266 (Conv1D)            (None, 216, 9)       171         ['max_pooling1d_132[0][0]']      \n",
      "                                                                                                  \n",
      " conv1d_267 (Conv1D)            (None, 216, 9)       171         ['max_pooling1d_132[0][0]']      \n",
      "                                                                                                  \n",
      " conv1d_306 (Conv1D)            (None, 287, 9)       171         ['max_pooling1d_152[0][0]']      \n",
      "                                                                                                  \n",
      " conv1d_307 (Conv1D)            (None, 287, 9)       171         ['max_pooling1d_152[0][0]']      \n",
      "                                                                                                  \n",
      " max_pooling2d_13 (MaxPooling2D  (None, 30, 79, 48)  0           ['maximum_189[0][0]']            \n",
      " )                                                                                                \n",
      "                                                                                                  \n",
      " maximum_160 (Maximum)          (None, 216, 9)       0           ['conv1d_266[0][0]',             \n",
      "                                                                  'conv1d_267[0][0]']             \n",
      "                                                                                                  \n",
      " maximum_180 (Maximum)          (None, 287, 9)       0           ['conv1d_306[0][0]',             \n",
      "                                                                  'conv1d_307[0][0]']             \n",
      "                                                                                                  \n",
      " batch_normalization_19 (BatchN  (None, 30, 79, 48)  144         ['max_pooling2d_13[0][0]']       \n",
      " ormalization)                                                                                    \n",
      "                                                                                                  \n",
      " max_pooling1d_133 (MaxPooling1  (None, 215, 9)      0           ['maximum_160[0][0]']            \n",
      " D)                                                                                               \n",
      "                                                                                                  \n",
      " max_pooling1d_153 (MaxPooling1  (None, 286, 9)      0           ['maximum_180[0][0]']            \n",
      " D)                                                                                               \n",
      "                                                                                                  \n",
      " conv2d_60 (Conv2D)             (None, 30, 79, 48)   2352        ['batch_normalization_19[0][0]'] \n",
      "                                                                                                  \n",
      " conv2d_61 (Conv2D)             (None, 30, 79, 48)   2352        ['batch_normalization_19[0][0]'] \n",
      "                                                                                                  \n",
      " conv1d_268 (Conv1D)            (None, 215, 9)       171         ['max_pooling1d_133[0][0]']      \n",
      "                                                                                                  \n",
      " conv1d_308 (Conv1D)            (None, 286, 9)       171         ['max_pooling1d_153[0][0]']      \n",
      "                                                                                                  \n",
      " maximum_190 (Maximum)          (None, 30, 79, 48)   0           ['conv2d_60[0][0]',              \n",
      "                                                                  'conv2d_61[0][0]']              \n",
      "                                                                                                  \n",
      " maximum_161 (Maximum)          (None, 215, 9)       0           ['conv1d_268[0][0]',             \n",
      "                                                                  'conv1d_268[0][0]']             \n"
     ]
    },
    {
     "name": "stdout",
     "output_type": "stream",
     "text": [
      "                                                                                                  \n",
      " maximum_181 (Maximum)          (None, 286, 9)       0           ['conv1d_308[0][0]',             \n",
      "                                                                  'conv1d_308[0][0]']             \n",
      "                                                                                                  \n",
      " batch_normalization_20 (BatchN  (None, 30, 79, 48)  144         ['maximum_190[0][0]']            \n",
      " ormalization)                                                                                    \n",
      "                                                                                                  \n",
      " max_pooling1d_134 (MaxPooling1  (None, 214, 9)      0           ['maximum_161[0][0]']            \n",
      " D)                                                                                               \n",
      "                                                                                                  \n",
      " max_pooling1d_154 (MaxPooling1  (None, 285, 9)      0           ['maximum_181[0][0]']            \n",
      " D)                                                                                               \n",
      "                                                                                                  \n",
      " conv2d_62 (Conv2D)             (None, 30, 79, 64)   27712       ['batch_normalization_20[0][0]'] \n",
      "                                                                                                  \n",
      " conv2d_63 (Conv2D)             (None, 30, 79, 64)   27712       ['batch_normalization_20[0][0]'] \n",
      "                                                                                                  \n",
      " conv1d_270 (Conv1D)            (None, 214, 64)      1216        ['max_pooling1d_134[0][0]']      \n",
      "                                                                                                  \n",
      " conv1d_271 (Conv1D)            (None, 214, 64)      1216        ['max_pooling1d_134[0][0]']      \n",
      "                                                                                                  \n",
      " conv1d_310 (Conv1D)            (None, 285, 64)      1216        ['max_pooling1d_154[0][0]']      \n",
      "                                                                                                  \n",
      " conv1d_311 (Conv1D)            (None, 285, 64)      1216        ['max_pooling1d_154[0][0]']      \n",
      "                                                                                                  \n",
      " maximum_191 (Maximum)          (None, 30, 79, 64)   0           ['conv2d_62[0][0]',              \n",
      "                                                                  'conv2d_63[0][0]']              \n",
      "                                                                                                  \n",
      " maximum_162 (Maximum)          (None, 214, 64)      0           ['conv1d_270[0][0]',             \n",
      "                                                                  'conv1d_271[0][0]']             \n",
      "                                                                                                  \n",
      " maximum_182 (Maximum)          (None, 285, 64)      0           ['conv1d_310[0][0]',             \n",
      "                                                                  'conv1d_311[0][0]']             \n",
      "                                                                                                  \n",
      " max_pooling2d_14 (MaxPooling2D  (None, 15, 40, 64)  0           ['maximum_191[0][0]']            \n",
      " )                                                                                                \n",
      "                                                                                                  \n",
      " max_pooling1d_135 (MaxPooling1  (None, 213, 64)     0           ['maximum_162[0][0]']            \n",
      " D)                                                                                               \n",
      "                                                                                                  \n",
      " max_pooling1d_155 (MaxPooling1  (None, 284, 64)     0           ['maximum_182[0][0]']            \n",
      " D)                                                                                               \n",
      "                                                                                                  \n",
      " conv2d_64 (Conv2D)             (None, 15, 40, 64)   4160        ['max_pooling2d_14[0][0]']       \n",
      "                                                                                                  \n",
      " conv2d_65 (Conv2D)             (None, 15, 40, 64)   4160        ['max_pooling2d_14[0][0]']       \n",
      "                                                                                                  \n",
      " conv1d_272 (Conv1D)            (None, 213, 9)       1161        ['max_pooling1d_135[0][0]']      \n",
      "                                                                                                  \n",
      " conv1d_273 (Conv1D)            (None, 213, 9)       1161        ['max_pooling1d_135[0][0]']      \n",
      "                                                                                                  \n",
      " conv1d_312 (Conv1D)            (None, 284, 9)       1161        ['max_pooling1d_155[0][0]']      \n",
      "                                                                                                  \n",
      " conv1d_313 (Conv1D)            (None, 284, 9)       1161        ['max_pooling1d_155[0][0]']      \n",
      "                                                                                                  \n",
      " maximum_192 (Maximum)          (None, 15, 40, 64)   0           ['conv2d_64[0][0]',              \n",
      "                                                                  'conv2d_65[0][0]']              \n",
      "                                                                                                  \n",
      " maximum_163 (Maximum)          (None, 213, 9)       0           ['conv1d_272[0][0]',             \n",
      "                                                                  'conv1d_273[0][0]']             \n",
      "                                                                                                  \n",
      " maximum_183 (Maximum)          (None, 284, 9)       0           ['conv1d_312[0][0]',             \n",
      "                                                                  'conv1d_313[0][0]']             \n",
      "                                                                                                  \n",
      " batch_normalization_21 (BatchN  (None, 15, 40, 64)  192         ['maximum_192[0][0]']            \n",
      " ormalization)                                                                                    \n",
      "                                                                                                  \n",
      " max_pooling1d_136 (MaxPooling1  (None, 212, 9)      0           ['maximum_163[0][0]']            \n",
      " D)                                                                                               \n",
      "                                                                                                  \n",
      " max_pooling1d_156 (MaxPooling1  (None, 283, 9)      0           ['maximum_183[0][0]']            \n",
      " D)                                                                                               \n",
      "                                                                                                  \n",
      " conv2d_66 (Conv2D)             (None, 15, 40, 32)   18464       ['batch_normalization_21[0][0]'] \n",
      "                                                                                                  \n",
      " conv2d_67 (Conv2D)             (None, 15, 40, 32)   18464       ['batch_normalization_21[0][0]'] \n",
      "                                                                                                  \n",
      " conv1d_274 (Conv1D)            (None, 212, 9)       171         ['max_pooling1d_136[0][0]']      \n",
      "                                                                                                  \n",
      " conv1d_275 (Conv1D)            (None, 212, 9)       171         ['max_pooling1d_136[0][0]']      \n",
      "                                                                                                  \n",
      " conv1d_314 (Conv1D)            (None, 283, 9)       171         ['max_pooling1d_156[0][0]']      \n",
      "                                                                                                  \n"
     ]
    },
    {
     "name": "stdout",
     "output_type": "stream",
     "text": [
      " conv1d_315 (Conv1D)            (None, 283, 9)       171         ['max_pooling1d_156[0][0]']      \n",
      "                                                                                                  \n",
      " maximum_193 (Maximum)          (None, 15, 40, 32)   0           ['conv2d_66[0][0]',              \n",
      "                                                                  'conv2d_67[0][0]']              \n",
      "                                                                                                  \n",
      " maximum_164 (Maximum)          (None, 212, 9)       0           ['conv1d_274[0][0]',             \n",
      "                                                                  'conv1d_275[0][0]']             \n",
      "                                                                                                  \n",
      " maximum_184 (Maximum)          (None, 283, 9)       0           ['conv1d_314[0][0]',             \n",
      "                                                                  'conv1d_315[0][0]']             \n",
      "                                                                                                  \n",
      " batch_normalization_22 (BatchN  (None, 15, 40, 32)  96          ['maximum_193[0][0]']            \n",
      " ormalization)                                                                                    \n",
      "                                                                                                  \n",
      " max_pooling1d_137 (MaxPooling1  (None, 211, 9)      0           ['maximum_164[0][0]']            \n",
      " D)                                                                                               \n",
      "                                                                                                  \n",
      " max_pooling1d_157 (MaxPooling1  (None, 282, 9)      0           ['maximum_184[0][0]']            \n",
      " D)                                                                                               \n",
      "                                                                                                  \n",
      " conv2d_68 (Conv2D)             (None, 15, 40, 32)   1056        ['batch_normalization_22[0][0]'] \n",
      "                                                                                                  \n",
      " conv2d_69 (Conv2D)             (None, 15, 40, 32)   1056        ['batch_normalization_22[0][0]'] \n",
      "                                                                                                  \n",
      " conv1d_276 (Conv1D)            (None, 211, 9)       171         ['max_pooling1d_137[0][0]']      \n",
      "                                                                                                  \n",
      " conv1d_277 (Conv1D)            (None, 211, 9)       171         ['max_pooling1d_137[0][0]']      \n",
      "                                                                                                  \n",
      " conv1d_316 (Conv1D)            (None, 282, 9)       171         ['max_pooling1d_157[0][0]']      \n",
      "                                                                                                  \n",
      " conv1d_317 (Conv1D)            (None, 282, 9)       171         ['max_pooling1d_157[0][0]']      \n",
      "                                                                                                  \n",
      " maximum_194 (Maximum)          (None, 15, 40, 32)   0           ['conv2d_68[0][0]',              \n",
      "                                                                  'conv2d_69[0][0]']              \n",
      "                                                                                                  \n",
      " maximum_165 (Maximum)          (None, 211, 9)       0           ['conv1d_276[0][0]',             \n",
      "                                                                  'conv1d_277[0][0]']             \n",
      "                                                                                                  \n",
      " maximum_185 (Maximum)          (None, 282, 9)       0           ['conv1d_316[0][0]',             \n",
      "                                                                  'conv1d_317[0][0]']             \n",
      "                                                                                                  \n",
      " batch_normalization_23 (BatchN  (None, 15, 40, 32)  96          ['maximum_194[0][0]']            \n",
      " ormalization)                                                                                    \n",
      "                                                                                                  \n",
      " max_pooling1d_138 (MaxPooling1  (None, 210, 9)      0           ['maximum_165[0][0]']            \n",
      " D)                                                                                               \n",
      "                                                                                                  \n",
      " max_pooling1d_158 (MaxPooling1  (None, 281, 9)      0           ['maximum_185[0][0]']            \n",
      " D)                                                                                               \n",
      "                                                                                                  \n",
      " conv2d_70 (Conv2D)             (None, 15, 40, 32)   1056        ['batch_normalization_23[0][0]'] \n",
      "                                                                                                  \n",
      " conv2d_71 (Conv2D)             (None, 15, 40, 32)   1056        ['batch_normalization_23[0][0]'] \n",
      "                                                                                                  \n",
      " conv1d_278 (Conv1D)            (None, 210, 9)       171         ['max_pooling1d_138[0][0]']      \n",
      "                                                                                                  \n",
      " conv1d_279 (Conv1D)            (None, 210, 9)       171         ['max_pooling1d_138[0][0]']      \n",
      "                                                                                                  \n",
      " conv1d_318 (Conv1D)            (None, 281, 9)       171         ['max_pooling1d_158[0][0]']      \n",
      "                                                                                                  \n",
      " conv1d_319 (Conv1D)            (None, 281, 9)       171         ['max_pooling1d_158[0][0]']      \n",
      "                                                                                                  \n",
      " maximum_195 (Maximum)          (None, 15, 40, 32)   0           ['conv2d_70[0][0]',              \n",
      "                                                                  'conv2d_71[0][0]']              \n",
      "                                                                                                  \n",
      " age_cat (InputLayer)           [(None, 6)]          0           []                               \n",
      "                                                                                                  \n",
      " sex_cat (InputLayer)           [(None, 2)]          0           []                               \n",
      "                                                                                                  \n",
      " height_weight (InputLayer)     [(None, 2)]          0           []                               \n",
      "                                                                                                  \n",
      " loc (InputLayer)               [(None, 5)]          0           []                               \n",
      "                                                                                                  \n",
      " maximum_166 (Maximum)          (None, 210, 9)       0           ['conv1d_278[0][0]',             \n",
      "                                                                  'conv1d_279[0][0]']             \n",
      "                                                                                                  \n",
      " maximum_186 (Maximum)          (None, 281, 9)       0           ['conv1d_318[0][0]',             \n",
      "                                                                  'conv1d_319[0][0]']             \n",
      "                                                                                                  \n",
      " max_pooling2d_15 (MaxPooling2D  (None, 7, 20, 32)   0           ['maximum_195[0][0]']            \n",
      " )                                                                                                \n",
      "                                                                                                  \n",
      " dense_18 (Dense)               (None, 2)            14          ['age_cat[0][0]']                \n"
     ]
    },
    {
     "name": "stdout",
     "output_type": "stream",
     "text": [
      "                                                                                                  \n",
      " dense_19 (Dense)               (None, 1)            3           ['sex_cat[0][0]']                \n",
      "                                                                                                  \n",
      " dense_20 (Dense)               (None, 1)            3           ['height_weight[0][0]']          \n",
      "                                                                                                  \n",
      " dense_21 (Dense)               (None, 3)            18          ['loc[0][0]']                    \n",
      "                                                                                                  \n",
      " is_preg (InputLayer)           [(None, 1)]          0           []                               \n",
      "                                                                                                  \n",
      " max_pooling1d_139 (MaxPooling1  (None, 209, 9)      0           ['maximum_166[0][0]']            \n",
      " D)                                                                                               \n",
      "                                                                                                  \n",
      " max_pooling1d_159 (MaxPooling1  (None, 280, 9)      0           ['maximum_186[0][0]']            \n",
      " D)                                                                                               \n",
      "                                                                                                  \n",
      " global_average_pooling2d_3 (Gl  (None, 32)          0           ['max_pooling2d_15[0][0]']       \n",
      " obalAveragePooling2D)                                                                            \n",
      "                                                                                                  \n",
      " concatenate_6 (Concatenate)    (None, 8)            0           ['dense_18[0][0]',               \n",
      "                                                                  'dense_19[0][0]',               \n",
      "                                                                  'dense_20[0][0]',               \n",
      "                                                                  'dense_21[0][0]',               \n",
      "                                                                  'is_preg[0][0]']                \n",
      "                                                                                                  \n",
      " global_average_pooling1d_6 (Gl  (None, 9)           0           ['max_pooling1d_139[0][0]']      \n",
      " obalAveragePooling1D)                                                                            \n",
      "                                                                                                  \n",
      " global_average_pooling1d_7 (Gl  (None, 9)           0           ['max_pooling1d_159[0][0]']      \n",
      " obalAveragePooling1D)                                                                            \n",
      "                                                                                                  \n",
      " dropout_11 (Dropout)           (None, 32)           0           ['global_average_pooling2d_3[0][0\n",
      "                                                                 ]']                              \n",
      "                                                                                                  \n",
      " dense_22 (Dense)               (None, 10)           90          ['concatenate_6[0][0]']          \n",
      "                                                                                                  \n",
      " dropout_9 (Dropout)            (None, 9)            0           ['global_average_pooling1d_6[0][0\n",
      "                                                                 ]']                              \n",
      "                                                                                                  \n",
      " dropout_10 (Dropout)           (None, 9)            0           ['global_average_pooling1d_7[0][0\n",
      "                                                                 ]']                              \n",
      "                                                                                                  \n",
      " concatenate_7 (Concatenate)    (None, 60)           0           ['dropout_11[0][0]',             \n",
      "                                                                  'dense_22[0][0]',               \n",
      "                                                                  'dropout_9[0][0]',              \n",
      "                                                                  'dropout_10[0][0]']             \n",
      "                                                                                                  \n",
      " stft (InputLayer)              [(None, 1, 1, 1)]    0           []                               \n",
      "                                                                                                  \n",
      " cqt (InputLayer)               [(None, 1, 1, 1)]    0           []                               \n",
      "                                                                                                  \n",
      " dense_23 (Dense)               (None, 2)            122         ['concatenate_7[0][0]']          \n",
      "                                                                                                  \n",
      "==================================================================================================\n",
      "Total params: 206,780\n",
      "Trainable params: 206,268\n",
      "Non-trainable params: 512\n",
      "__________________________________________________________________________________________________\n"
     ]
    }
   ],
   "source": [
    "model2.summary()"
   ]
  },
  {
   "cell_type": "code",
   "execution_count": null,
   "id": "222b2f6f",
   "metadata": {},
   "outputs": [],
   "source": []
  },
  {
   "cell_type": "code",
   "execution_count": null,
   "id": "48bbf746",
   "metadata": {},
   "outputs": [],
   "source": []
  },
  {
   "cell_type": "code",
   "execution_count": 41,
   "id": "57a145f2",
   "metadata": {
    "scrolled": false
   },
   "outputs": [
    {
     "name": "stdout",
     "output_type": "stream",
     "text": [
      "Epoch 1/100\n",
      "40/40 [==============================] - 17s 265ms/step - loss: 12.8563 - accuracy: 0.5938 - auc: 0.6346 - val_loss: 1.3724 - val_accuracy: 0.4976 - val_auc: 0.4738 - lr: 9.9851e-04\n",
      "Epoch 2/100\n",
      "40/40 [==============================] - 5s 133ms/step - loss: 1.3213 - accuracy: 0.6500 - auc: 0.7034 - val_loss: 0.5981 - val_accuracy: 0.7813 - val_auc: 0.8271 - lr: 9.9831e-04\n",
      "Epoch 3/100\n",
      "40/40 [==============================] - 6s 162ms/step - loss: 1.0135 - accuracy: 0.6953 - auc: 0.7683 - val_loss: 0.5368 - val_accuracy: 0.7876 - val_auc: 0.8397 - lr: 9.9807e-04\n",
      "Epoch 4/100\n",
      "40/40 [==============================] - 6s 162ms/step - loss: 0.9565 - accuracy: 0.7047 - auc: 0.7894 - val_loss: 0.6231 - val_accuracy: 0.7242 - val_auc: 0.7640 - lr: 9.9781e-04\n",
      "Epoch 5/100\n",
      "40/40 [==============================] - 6s 163ms/step - loss: 0.9564 - accuracy: 0.7324 - auc: 0.7964 - val_loss: 0.5952 - val_accuracy: 0.7496 - val_auc: 0.7871 - lr: 9.9750e-04\n",
      "Epoch 6/100\n",
      "40/40 [==============================] - 6s 164ms/step - loss: 0.8679 - accuracy: 0.7875 - auc: 0.8408 - val_loss: 0.6863 - val_accuracy: 0.6719 - val_auc: 0.7042 - lr: 9.9716e-04\n",
      "Epoch 7/100\n",
      "40/40 [==============================] - 6s 163ms/step - loss: 0.8477 - accuracy: 0.7781 - auc: 0.8445 - val_loss: 0.5948 - val_accuracy: 0.7765 - val_auc: 0.8320 - lr: 9.9676e-04\n",
      "Epoch 8/100\n",
      "40/40 [==============================] - 7s 165ms/step - loss: 0.9234 - accuracy: 0.7570 - auc: 0.8149 - val_loss: 0.7665 - val_accuracy: 0.5531 - val_auc: 0.5682 - lr: 9.9632e-04\n",
      "Epoch 9/100\n",
      "40/40 [==============================] - 7s 167ms/step - loss: 0.9034 - accuracy: 0.7531 - auc: 0.8359 - val_loss: 1.6239 - val_accuracy: 0.2409 - val_auc: 0.2502 - lr: 9.9581e-04\n",
      "Epoch 10/100\n",
      "40/40 [==============================] - 7s 172ms/step - loss: 0.8386 - accuracy: 0.7937 - auc: 0.8579 - val_loss: 0.6479 - val_accuracy: 0.7971 - val_auc: 0.8478 - lr: 9.9523e-04\n",
      "Epoch 11/100\n",
      "40/40 [==============================] - 6s 160ms/step - loss: 0.8863 - accuracy: 0.7785 - auc: 0.8495 - val_loss: 0.9549 - val_accuracy: 0.3566 - val_auc: 0.3973 - lr: 9.9457e-04\n",
      "Epoch 12/100\n",
      "40/40 [==============================] - 7s 165ms/step - loss: 0.8564 - accuracy: 0.7855 - auc: 0.8520 - val_loss: 0.5801 - val_accuracy: 0.7258 - val_auc: 0.7925 - lr: 9.9382e-04\n",
      "Epoch 13/100\n",
      "40/40 [==============================] - 7s 167ms/step - loss: 0.8926 - accuracy: 0.7688 - auc: 0.8468 - val_loss: 1.1688 - val_accuracy: 0.2916 - val_auc: 0.3246 - lr: 9.9297e-04\n",
      "Epoch 14/100\n",
      "40/40 [==============================] - 7s 171ms/step - loss: 0.7965 - accuracy: 0.8102 - auc: 0.8663 - val_loss: 0.4511 - val_accuracy: 0.8114 - val_auc: 0.8861 - lr: 9.9200e-04\n",
      "Epoch 15/100\n",
      "40/40 [==============================] - 6s 160ms/step - loss: 0.8820 - accuracy: 0.7879 - auc: 0.8581 - val_loss: 0.5982 - val_accuracy: 0.7021 - val_auc: 0.7592 - lr: 9.9090e-04\n",
      "Epoch 16/100\n",
      "40/40 [==============================] - 7s 166ms/step - loss: 0.8598 - accuracy: 0.7848 - auc: 0.8549 - val_loss: 1.1106 - val_accuracy: 0.2425 - val_auc: 0.3204 - lr: 9.8965e-04\n",
      "Epoch 17/100\n",
      "40/40 [==============================] - 7s 166ms/step - loss: 0.8706 - accuracy: 0.7695 - auc: 0.8514 - val_loss: 0.5373 - val_accuracy: 0.8082 - val_auc: 0.8519 - lr: 9.8823e-04\n",
      "Epoch 18/100\n",
      "40/40 [==============================] - 7s 167ms/step - loss: 0.8356 - accuracy: 0.7977 - auc: 0.8693 - val_loss: 0.7519 - val_accuracy: 0.5452 - val_auc: 0.5499 - lr: 9.8662e-04\n",
      "Epoch 19/100\n",
      "40/40 [==============================] - 7s 171ms/step - loss: 0.8445 - accuracy: 0.8027 - auc: 0.8643 - val_loss: 0.4414 - val_accuracy: 0.8526 - val_auc: 0.8998 - lr: 9.8479e-04\n",
      "Epoch 20/100\n",
      "40/40 [==============================] - 6s 162ms/step - loss: 0.8374 - accuracy: 0.8016 - auc: 0.8691 - val_loss: 0.4706 - val_accuracy: 0.8336 - val_auc: 0.8947 - lr: 9.8271e-04\n",
      "Epoch 21/100\n",
      "40/40 [==============================] - 6s 163ms/step - loss: 0.8244 - accuracy: 0.7910 - auc: 0.8603 - val_loss: 0.6852 - val_accuracy: 0.5705 - val_auc: 0.5979 - lr: 9.8036e-04\n",
      "Epoch 22/100\n",
      "40/40 [==============================] - 6s 161ms/step - loss: 0.8226 - accuracy: 0.8059 - auc: 0.8761 - val_loss: 0.5866 - val_accuracy: 0.7116 - val_auc: 0.7646 - lr: 9.7769e-04\n",
      "Epoch 23/100\n",
      "40/40 [==============================] - 7s 169ms/step - loss: 0.7997 - accuracy: 0.8035 - auc: 0.8728 - val_loss: 0.3555 - val_accuracy: 0.8748 - val_auc: 0.9265 - lr: 9.7468e-04\n",
      "Epoch 24/100\n",
      "40/40 [==============================] - 6s 161ms/step - loss: 0.7718 - accuracy: 0.8223 - auc: 0.8819 - val_loss: 0.3859 - val_accuracy: 0.8526 - val_auc: 0.9147 - lr: 9.7126e-04\n",
      "Epoch 25/100\n",
      "40/40 [==============================] - 6s 164ms/step - loss: 0.8149 - accuracy: 0.7973 - auc: 0.8829 - val_loss: 0.6990 - val_accuracy: 0.5341 - val_auc: 0.5674 - lr: 9.6740e-04\n",
      "Epoch 26/100\n",
      "40/40 [==============================] - 6s 163ms/step - loss: 0.7987 - accuracy: 0.8113 - auc: 0.8815 - val_loss: 0.6632 - val_accuracy: 0.5975 - val_auc: 0.6438 - lr: 9.6305e-04\n",
      "Epoch 27/100\n",
      "40/40 [==============================] - 6s 163ms/step - loss: 0.7808 - accuracy: 0.8145 - auc: 0.8935 - val_loss: 0.4048 - val_accuracy: 0.8257 - val_auc: 0.9120 - lr: 9.5813e-04\n",
      "Epoch 28/100\n",
      "40/40 [==============================] - 7s 165ms/step - loss: 0.8088 - accuracy: 0.8121 - auc: 0.8856 - val_loss: 0.4861 - val_accuracy: 0.8542 - val_auc: 0.9101 - lr: 9.5260e-04\n",
      "Epoch 29/100\n",
      "40/40 [==============================] - 7s 164ms/step - loss: 0.7818 - accuracy: 0.8180 - auc: 0.8817 - val_loss: 0.5777 - val_accuracy: 0.7258 - val_auc: 0.8006 - lr: 9.4637e-04\n",
      "Epoch 30/100\n",
      "40/40 [==============================] - 7s 164ms/step - loss: 0.7974 - accuracy: 0.7984 - auc: 0.8870 - val_loss: 0.4393 - val_accuracy: 0.8463 - val_auc: 0.9172 - lr: 9.3939e-04\n",
      "Epoch 31/100\n",
      "40/40 [==============================] - 6s 163ms/step - loss: 0.7988 - accuracy: 0.8094 - auc: 0.8860 - val_loss: 0.3577 - val_accuracy: 0.8574 - val_auc: 0.9319 - lr: 9.3155e-04\n",
      "Epoch 32/100\n",
      "40/40 [==============================] - 7s 164ms/step - loss: 0.7631 - accuracy: 0.8281 - auc: 0.8911 - val_loss: 0.4520 - val_accuracy: 0.8494 - val_auc: 0.9080 - lr: 9.2279e-04\n",
      "Epoch 33/100\n",
      "40/40 [==============================] - 7s 164ms/step - loss: 0.8059 - accuracy: 0.7895 - auc: 0.8732 - val_loss: 0.4921 - val_accuracy: 0.8526 - val_auc: 0.9116 - lr: 9.1301e-04\n",
      "Epoch 34/100\n",
      "40/40 [==============================] - 7s 166ms/step - loss: 0.8251 - accuracy: 0.8086 - auc: 0.8751 - val_loss: 0.3454 - val_accuracy: 0.8700 - val_auc: 0.9287 - lr: 9.0213e-04\n",
      "Epoch 35/100\n",
      "40/40 [==============================] - 7s 166ms/step - loss: 0.7779 - accuracy: 0.8223 - auc: 0.8940 - val_loss: 0.3565 - val_accuracy: 0.8669 - val_auc: 0.9277 - lr: 8.9005e-04\n",
      "Epoch 36/100\n",
      "40/40 [==============================] - 7s 167ms/step - loss: 0.7833 - accuracy: 0.8109 - auc: 0.8954 - val_loss: 0.7636 - val_accuracy: 0.5071 - val_auc: 0.5441 - lr: 8.7669e-04\n",
      "Epoch 37/100\n",
      "40/40 [==============================] - 7s 168ms/step - loss: 0.7943 - accuracy: 0.8246 - auc: 0.8897 - val_loss: 0.5588 - val_accuracy: 0.7781 - val_auc: 0.8467 - lr: 8.6196e-04\n",
      "Epoch 38/100\n",
      "40/40 [==============================] - 7s 174ms/step - loss: 0.8151 - accuracy: 0.8051 - auc: 0.8803 - val_loss: 0.4164 - val_accuracy: 0.8827 - val_auc: 0.9308 - lr: 8.4578e-04\n",
      "Epoch 39/100\n",
      "40/40 [==============================] - 6s 161ms/step - loss: 0.7920 - accuracy: 0.8164 - auc: 0.8986 - val_loss: 0.5116 - val_accuracy: 0.8352 - val_auc: 0.8921 - lr: 8.2809e-04\n",
      "Epoch 40/100\n",
      "40/40 [==============================] - 7s 165ms/step - loss: 0.7842 - accuracy: 0.8141 - auc: 0.8963 - val_loss: 0.3791 - val_accuracy: 0.8811 - val_auc: 0.9395 - lr: 8.0883e-04\n",
      "Epoch 41/100\n",
      "40/40 [==============================] - 7s 165ms/step - loss: 0.7911 - accuracy: 0.8137 - auc: 0.8894 - val_loss: 0.6946 - val_accuracy: 0.5452 - val_auc: 0.5831 - lr: 7.8798e-04\n",
      "Epoch 42/100\n",
      "40/40 [==============================] - 6s 163ms/step - loss: 0.7673 - accuracy: 0.8125 - auc: 0.8973 - val_loss: 0.3635 - val_accuracy: 0.8621 - val_auc: 0.9251 - lr: 7.6551e-04\n",
      "Epoch 43/100\n",
      "40/40 [==============================] - 7s 165ms/step - loss: 0.8092 - accuracy: 0.8020 - auc: 0.8868 - val_loss: 0.4489 - val_accuracy: 0.8130 - val_auc: 0.9086 - lr: 7.4146e-04\n",
      "Epoch 44/100\n",
      "40/40 [==============================] - 7s 164ms/step - loss: 0.7774 - accuracy: 0.8078 - auc: 0.8962 - val_loss: 0.3463 - val_accuracy: 0.8827 - val_auc: 0.9336 - lr: 7.1587e-04\n",
      "Epoch 45/100\n",
      "40/40 [==============================] - 7s 165ms/step - loss: 0.7971 - accuracy: 0.8074 - auc: 0.8950 - val_loss: 0.3954 - val_accuracy: 0.8796 - val_auc: 0.9401 - lr: 6.8882e-04\n",
      "Epoch 46/100\n",
      "40/40 [==============================] - 7s 181ms/step - loss: 0.7896 - accuracy: 0.8117 - auc: 0.8891 - val_loss: 0.3751 - val_accuracy: 0.8970 - val_auc: 0.9420 - lr: 6.6044e-04\n",
      "Epoch 47/100\n",
      "40/40 [==============================] - 6s 156ms/step - loss: 0.8251 - accuracy: 0.7883 - auc: 0.8765 - val_loss: 0.9729 - val_accuracy: 0.2694 - val_auc: 0.3384 - lr: 6.3088e-04\n",
      "Epoch 48/100\n",
      "40/40 [==============================] - 7s 166ms/step - loss: 0.7705 - accuracy: 0.8195 - auc: 0.9056 - val_loss: 0.3520 - val_accuracy: 0.8700 - val_auc: 0.9346 - lr: 6.0032e-04\n",
      "Epoch 49/100\n",
      "40/40 [==============================] - 7s 173ms/step - loss: 0.7777 - accuracy: 0.8223 - auc: 0.8925 - val_loss: 0.3406 - val_accuracy: 0.8986 - val_auc: 0.9425 - lr: 5.6899e-04\n",
      "Epoch 50/100\n",
      "40/40 [==============================] - 6s 161ms/step - loss: 0.7758 - accuracy: 0.8191 - auc: 0.8879 - val_loss: 0.3553 - val_accuracy: 0.8764 - val_auc: 0.9421 - lr: 5.3713e-04\n",
      "Epoch 51/100\n",
      "40/40 [==============================] - 7s 168ms/step - loss: 0.7775 - accuracy: 0.8258 - auc: 0.9033 - val_loss: 0.4377 - val_accuracy: 0.8431 - val_auc: 0.9246 - lr: 5.0500e-04\n",
      "Epoch 52/100\n",
      "40/40 [==============================] - 7s 165ms/step - loss: 0.7668 - accuracy: 0.8184 - auc: 0.9025 - val_loss: 0.3961 - val_accuracy: 0.8827 - val_auc: 0.9388 - lr: 4.7287e-04\n",
      "Epoch 53/100\n",
      "40/40 [==============================] - 7s 166ms/step - loss: 0.7763 - accuracy: 0.8066 - auc: 0.9004 - val_loss: 0.4293 - val_accuracy: 0.8558 - val_auc: 0.9257 - lr: 4.4101e-04\n",
      "Epoch 54/100\n",
      "40/40 [==============================] - 7s 166ms/step - loss: 0.7586 - accuracy: 0.8133 - auc: 0.9068 - val_loss: 0.3496 - val_accuracy: 0.8716 - val_auc: 0.9426 - lr: 4.0968e-04\n",
      "Epoch 55/100\n",
      "40/40 [==============================] - 7s 166ms/step - loss: 0.7579 - accuracy: 0.8367 - auc: 0.8987 - val_loss: 0.3587 - val_accuracy: 0.8938 - val_auc: 0.9472 - lr: 3.7912e-04\n",
      "Epoch 56/100\n",
      "40/40 [==============================] - 7s 167ms/step - loss: 0.7610 - accuracy: 0.8313 - auc: 0.9118 - val_loss: 0.3280 - val_accuracy: 0.8906 - val_auc: 0.9432 - lr: 3.4956e-04\n",
      "Epoch 57/100\n",
      "40/40 [==============================] - 7s 164ms/step - loss: 0.7681 - accuracy: 0.8105 - auc: 0.9029 - val_loss: 0.3777 - val_accuracy: 0.8938 - val_auc: 0.9440 - lr: 3.2118e-04\n",
      "Epoch 58/100\n",
      "40/40 [==============================] - 7s 167ms/step - loss: 0.7487 - accuracy: 0.8324 - auc: 0.9083 - val_loss: 0.4262 - val_accuracy: 0.8653 - val_auc: 0.9331 - lr: 2.9413e-04\n",
      "Epoch 59/100\n",
      "40/40 [==============================] - 7s 164ms/step - loss: 0.7498 - accuracy: 0.8309 - auc: 0.9119 - val_loss: 0.3464 - val_accuracy: 0.8938 - val_auc: 0.9505 - lr: 2.6854e-04\n",
      "Epoch 60/100\n",
      "40/40 [==============================] - 7s 166ms/step - loss: 0.7578 - accuracy: 0.8293 - auc: 0.9129 - val_loss: 0.5596 - val_accuracy: 0.7163 - val_auc: 0.8058 - lr: 2.4449e-04\n",
      "Epoch 61/100\n",
      "40/40 [==============================] - 7s 165ms/step - loss: 0.7662 - accuracy: 0.8301 - auc: 0.9026 - val_loss: 0.4322 - val_accuracy: 0.8526 - val_auc: 0.9309 - lr: 2.2202e-04\n",
      "Epoch 62/100\n",
      "40/40 [==============================] - 7s 165ms/step - loss: 0.7444 - accuracy: 0.8297 - auc: 0.9090 - val_loss: 0.4476 - val_accuracy: 0.8621 - val_auc: 0.9300 - lr: 2.0117e-04\n",
      "Epoch 63/100\n",
      "40/40 [==============================] - 6s 163ms/step - loss: 0.7475 - accuracy: 0.8207 - auc: 0.9057 - val_loss: 0.3401 - val_accuracy: 0.8922 - val_auc: 0.9449 - lr: 1.8191e-04\n",
      "Epoch 64/100\n",
      "40/40 [==============================] - 7s 164ms/step - loss: 0.7931 - accuracy: 0.8137 - auc: 0.9057 - val_loss: 0.3648 - val_accuracy: 0.8891 - val_auc: 0.9496 - lr: 1.6422e-04\n",
      "Epoch 65/100\n",
      "40/40 [==============================] - 6s 164ms/step - loss: 0.7762 - accuracy: 0.8277 - auc: 0.8970 - val_loss: 0.4100 - val_accuracy: 0.8748 - val_auc: 0.9384 - lr: 1.4804e-04\n",
      "Epoch 66/100\n",
      "40/40 [==============================] - 6s 163ms/step - loss: 0.7470 - accuracy: 0.8297 - auc: 0.9151 - val_loss: 0.3718 - val_accuracy: 0.8827 - val_auc: 0.9423 - lr: 1.3331e-04\n",
      "Epoch 67/100\n",
      "40/40 [==============================] - 6s 164ms/step - loss: 0.7489 - accuracy: 0.8387 - auc: 0.9136 - val_loss: 0.3701 - val_accuracy: 0.8780 - val_auc: 0.9453 - lr: 1.1995e-04\n",
      "Epoch 68/100\n",
      "40/40 [==============================] - 7s 165ms/step - loss: 0.7564 - accuracy: 0.8223 - auc: 0.9093 - val_loss: 0.4394 - val_accuracy: 0.8384 - val_auc: 0.9186 - lr: 1.0787e-04\n",
      "Epoch 69/100\n",
      "40/40 [==============================] - 6s 162ms/step - loss: 0.7867 - accuracy: 0.8273 - auc: 0.9124 - val_loss: 0.4376 - val_accuracy: 0.8732 - val_auc: 0.9324 - lr: 9.6985e-05\n",
      "Epoch 70/100\n",
      "40/40 [==============================] - 7s 165ms/step - loss: 0.7655 - accuracy: 0.8184 - auc: 0.9080 - val_loss: 0.4459 - val_accuracy: 0.8621 - val_auc: 0.9315 - lr: 8.7208e-05\n",
      "Epoch 71/100\n",
      "40/40 [==============================] - 7s 165ms/step - loss: 0.7561 - accuracy: 0.8227 - auc: 0.9075 - val_loss: 0.3927 - val_accuracy: 0.8859 - val_auc: 0.9464 - lr: 7.8447e-05\n",
      "Epoch 72/100\n",
      "40/40 [==============================] - 7s 165ms/step - loss: 0.7711 - accuracy: 0.8176 - auc: 0.9124 - val_loss: 0.4292 - val_accuracy: 0.8621 - val_auc: 0.9316 - lr: 7.0614e-05\n",
      "Epoch 73/100\n",
      "40/40 [==============================] - 6s 161ms/step - loss: 0.7250 - accuracy: 0.8301 - auc: 0.9070 - val_loss: 0.3654 - val_accuracy: 0.8891 - val_auc: 0.9463 - lr: 6.3625e-05\n",
      "Epoch 74/100\n",
      "40/40 [==============================] - 7s 166ms/step - loss: 0.7645 - accuracy: 0.8281 - auc: 0.9074 - val_loss: 0.3545 - val_accuracy: 0.8954 - val_auc: 0.9457 - lr: 5.7401e-05\n",
      "Epoch 75/100\n",
      "40/40 [==============================] - 7s 165ms/step - loss: 0.7532 - accuracy: 0.8203 - auc: 0.9116 - val_loss: 0.3574 - val_accuracy: 0.8938 - val_auc: 0.9432 - lr: 5.1867e-05\n",
      "Epoch 76/100\n",
      "40/40 [==============================] - 7s 167ms/step - loss: 0.7667 - accuracy: 0.8199 - auc: 0.9031 - val_loss: 0.3848 - val_accuracy: 0.8780 - val_auc: 0.9433 - lr: 4.6954e-05\n",
      "Epoch 77/100\n",
      "40/40 [==============================] - 7s 167ms/step - loss: 0.7795 - accuracy: 0.8219 - auc: 0.9063 - val_loss: 0.3803 - val_accuracy: 0.8891 - val_auc: 0.9452 - lr: 4.2597e-05\n",
      "Epoch 78/100\n",
      "40/40 [==============================] - 7s 167ms/step - loss: 0.7519 - accuracy: 0.8082 - auc: 0.9156 - val_loss: 0.3721 - val_accuracy: 0.8891 - val_auc: 0.9475 - lr: 3.8739e-05\n",
      "Epoch 79/100\n",
      "40/40 [==============================] - 7s 165ms/step - loss: 0.7455 - accuracy: 0.8273 - auc: 0.9098 - val_loss: 0.4000 - val_accuracy: 0.8716 - val_auc: 0.9424 - lr: 3.5325e-05\n",
      "Epoch 80/100\n",
      "40/40 [==============================] - 7s 165ms/step - loss: 0.7214 - accuracy: 0.8422 - auc: 0.9172 - val_loss: 0.3850 - val_accuracy: 0.8906 - val_auc: 0.9466 - lr: 3.2307e-05\n",
      "Epoch 81/100\n",
      "40/40 [==============================] - 7s 167ms/step - loss: 0.7307 - accuracy: 0.8328 - auc: 0.9130 - val_loss: 0.3922 - val_accuracy: 0.8843 - val_auc: 0.9454 - lr: 2.9642e-05\n",
      "Epoch 82/100\n",
      "40/40 [==============================] - 7s 168ms/step - loss: 0.7389 - accuracy: 0.8305 - auc: 0.9184 - val_loss: 0.3946 - val_accuracy: 0.8843 - val_auc: 0.9436 - lr: 2.7289e-05\n",
      "Epoch 83/100\n",
      "40/40 [==============================] - 7s 168ms/step - loss: 0.7305 - accuracy: 0.8305 - auc: 0.9117 - val_loss: 0.3840 - val_accuracy: 0.8796 - val_auc: 0.9433 - lr: 2.5214e-05\n",
      "Epoch 84/100\n",
      "40/40 [==============================] - 7s 166ms/step - loss: 0.7325 - accuracy: 0.8418 - auc: 0.9127 - val_loss: 0.3839 - val_accuracy: 0.8827 - val_auc: 0.9425 - lr: 2.3384e-05\n",
      "Epoch 85/100\n"
     ]
    },
    {
     "name": "stdout",
     "output_type": "stream",
     "text": [
      "40/40 [==============================] - 7s 165ms/step - loss: 0.7387 - accuracy: 0.8383 - auc: 0.9168 - val_loss: 0.3917 - val_accuracy: 0.8811 - val_auc: 0.9422 - lr: 2.1772e-05\n",
      "Epoch 86/100\n",
      "40/40 [==============================] - 7s 166ms/step - loss: 0.7469 - accuracy: 0.8270 - auc: 0.9088 - val_loss: 0.3998 - val_accuracy: 0.8700 - val_auc: 0.9404 - lr: 2.0352e-05\n",
      "Epoch 87/100\n",
      "40/40 [==============================] - 7s 165ms/step - loss: 0.7532 - accuracy: 0.8336 - auc: 0.9132 - val_loss: 0.3875 - val_accuracy: 0.8811 - val_auc: 0.9440 - lr: 1.9102e-05\n",
      "Epoch 88/100\n",
      "40/40 [==============================] - 7s 166ms/step - loss: 0.7343 - accuracy: 0.8359 - auc: 0.9206 - val_loss: 0.3832 - val_accuracy: 0.8843 - val_auc: 0.9446 - lr: 1.8001e-05\n",
      "Epoch 89/100\n",
      "40/40 [==============================] - 7s 167ms/step - loss: 0.7499 - accuracy: 0.8254 - auc: 0.9142 - val_loss: 0.3930 - val_accuracy: 0.8796 - val_auc: 0.9429 - lr: 1.7033e-05\n",
      "Epoch 90/100\n",
      "40/40 [==============================] - 7s 165ms/step - loss: 0.7567 - accuracy: 0.8254 - auc: 0.9171 - val_loss: 0.3924 - val_accuracy: 0.8780 - val_auc: 0.9427 - lr: 1.6181e-05\n",
      "Epoch 91/100\n",
      "40/40 [==============================] - 7s 164ms/step - loss: 0.7448 - accuracy: 0.8371 - auc: 0.9118 - val_loss: 0.3894 - val_accuracy: 0.8827 - val_auc: 0.9425 - lr: 1.5431e-05\n",
      "Epoch 92/100\n",
      "40/40 [==============================] - 7s 165ms/step - loss: 0.7322 - accuracy: 0.8383 - auc: 0.9114 - val_loss: 0.3899 - val_accuracy: 0.8796 - val_auc: 0.9425 - lr: 1.4773e-05\n",
      "Epoch 93/100\n",
      "40/40 [==============================] - 7s 165ms/step - loss: 0.7489 - accuracy: 0.8328 - auc: 0.9117 - val_loss: 0.3900 - val_accuracy: 0.8780 - val_auc: 0.9424 - lr: 1.4193e-05\n",
      "Epoch 94/100\n",
      "40/40 [==============================] - 7s 165ms/step - loss: 0.7539 - accuracy: 0.8219 - auc: 0.9097 - val_loss: 0.3943 - val_accuracy: 0.8827 - val_auc: 0.9420 - lr: 1.3684e-05\n",
      "Epoch 95/100\n",
      "40/40 [==============================] - 7s 165ms/step - loss: 0.7364 - accuracy: 0.8293 - auc: 0.9150 - val_loss: 0.3876 - val_accuracy: 0.8827 - val_auc: 0.9428 - lr: 1.3236e-05\n",
      "Epoch 96/100\n",
      "40/40 [==============================] - 7s 166ms/step - loss: 0.7220 - accuracy: 0.8406 - auc: 0.9162 - val_loss: 0.3762 - val_accuracy: 0.8827 - val_auc: 0.9454 - lr: 1.2843e-05\n",
      "Epoch 97/100\n",
      "40/40 [==============================] - 7s 167ms/step - loss: 0.7663 - accuracy: 0.8277 - auc: 0.9114 - val_loss: 0.3900 - val_accuracy: 0.8780 - val_auc: 0.9432 - lr: 1.2497e-05\n",
      "Epoch 98/100\n",
      "40/40 [==============================] - 7s 165ms/step - loss: 0.7709 - accuracy: 0.8273 - auc: 0.9119 - val_loss: 0.3952 - val_accuracy: 0.8827 - val_auc: 0.9414 - lr: 1.2193e-05\n",
      "Epoch 99/100\n",
      "40/40 [==============================] - 7s 166ms/step - loss: 0.7324 - accuracy: 0.8324 - auc: 0.9157 - val_loss: 0.3899 - val_accuracy: 0.8859 - val_auc: 0.9434 - lr: 1.1927e-05\n",
      "Epoch 100/100\n",
      "40/40 [==============================] - 7s 168ms/step - loss: 0.7286 - accuracy: 0.8391 - auc: 0.9187 - val_loss: 0.3877 - val_accuracy: 0.8796 - val_auc: 0.9437 - lr: 1.1692e-05\n"
     ]
    }
   ],
   "source": [
    "n_epoch = 100\n",
    "lr = LearningRateScheduler(lambda e: sigmoidal_decay(e, end=n_epoch))\n",
    "batch_size = 64\n",
    "\n",
    "if mixup :\n",
    "    beta_param = .7\n",
    "else :\n",
    "    beta_param = 0\n",
    "    \n",
    "\n",
    "\n",
    "params = {'batch_size': batch_size,\n",
    "          #          'input_shape': (100, 313, 1),\n",
    "          'shuffle': True,\n",
    "          'chaug': chaug,\n",
    "          'beta_param': beta_param,\n",
    "          'cout': cout\n",
    "#              'mixup': mixup,\n",
    "          #          'lowpass': [.5, [11,12,13,14,15,16,17,18]]\n",
    "          #          'highpass': [.5, [78,79,80,81,82,83,84,85]]\n",
    "#              'ranfilter2' : [3, [18,19,20,21,22,23]]\n",
    "          #           'dropblock' : [30, 100]\n",
    "          #'device' : device\n",
    "}\n",
    "\n",
    "if mixup :\n",
    "    params['mixup'] = mixup\n",
    "    params['ranfilter2'] = ranfil\n",
    "else :\n",
    "    params['cutout'] = cout\n",
    "\n",
    "params_no_shuffle = {'batch_size': batch_size,\n",
    "                     #          'input_shape': (100, 313, 1),\n",
    "                     'shuffle': False,\n",
    "                     'beta_param': 0.7,\n",
    "                     'mixup': False\n",
    "                     #'device': device\n",
    "}\n",
    "\n",
    "\n",
    "# TrainDGen_1 = Generator0([features_trn['age'],features_trn['sex'], features_trn['hw'], features_trn['preg'], features_trn['loc'],\n",
    "#             features_trn['interval'],features_trn['wav2'],features_trn['mel1'],features_trn['cqt1'],features_trn['stft1']], \n",
    "#            features_trn['mm_labels'],  ## our Y\n",
    "#                         **params)()\n",
    "\n",
    "\n",
    "# ValidDGen_1 = Generator0([features_test['age'],features_test['sex'], features_test['hw'], \n",
    "#                               features_test['preg'], features_test['loc'],features_test['interval'],\n",
    "#                               features_test['wav2'], features_test['mel1'],features_test['cqt1'],features_test['stft1']], \n",
    "#                              features_test['mm_labels'],  ## our Y\n",
    "                         \n",
    "#                          **params)()\n",
    "\n",
    "\n",
    "\n",
    "\n",
    "\n",
    "if ord1 :\n",
    "    class_weight = {0: mm_weight, 1: 1.}\n",
    "else :\n",
    "    class_weight = {0: mm_weight, 1: wunknown, 2:1.}\n",
    "\n",
    "    \n",
    "    \n",
    "    \n",
    "    \n",
    "\n",
    "if mixup :\n",
    "    \n",
    "    \n",
    "    TrainDGen_1 = Generator0([features_trn['age'],features_trn['sex'], features_trn['hw'], \n",
    "                              features_trn['preg'], features_trn['loc'],features_trn['interval'],features_trn['wav2'],\n",
    "                              features_trn['mel1'],\n",
    "                              features_trn['cqt1'],\n",
    "                              features_trn['stft1']],features_trn['mm_labels'],**params)()\n",
    "    \n",
    "    model1.fit(TrainDGen_1,\n",
    "               validation_data = ([features_test['age'],features_test['sex'], features_test['hw'],                                   \n",
    "                                   features_test['preg'], features_test['loc'],features_test['interval'],features_test['wav2'],\n",
    "                                   features_test['mel1'],\n",
    "                                   features_test['cqt1'],\n",
    "                                   features_test['stft1']],features_test['mm_labels']),\n",
    "               \n",
    "               callbacks=[lr,model1_callback],\n",
    "               steps_per_epoch=np.ceil(len(features_trn['mm_labels'])/batch_size),\n",
    "               class_weight=class_weight, \n",
    "               epochs = n_epoch)\n",
    "    \n",
    "    \n",
    " \n"
   ]
  },
  {
   "cell_type": "code",
   "execution_count": null,
   "id": "e84f3f23",
   "metadata": {},
   "outputs": [],
   "source": []
  },
  {
   "cell_type": "code",
   "execution_count": 42,
   "id": "90bdd466",
   "metadata": {
    "scrolled": true
   },
   "outputs": [
    {
     "name": "stdout",
     "output_type": "stream",
     "text": [
      "Epoch 1/100\n",
      "40/40 [==============================] - 14s 228ms/step - loss: 11.8720 - accuracy: 0.4605 - auc: 0.4672 - val_loss: 23.3569 - val_accuracy: 0.5008 - val_auc: 0.5008 - lr: 9.9851e-04\n",
      "Epoch 2/100\n",
      "40/40 [==============================] - 5s 129ms/step - loss: 2.3787 - accuracy: 0.4602 - auc: 0.4798 - val_loss: 5.5245 - val_accuracy: 0.5040 - val_auc: 0.5175 - lr: 9.9831e-04\n",
      "Epoch 3/100\n",
      "40/40 [==============================] - 6s 153ms/step - loss: 1.7962 - accuracy: 0.5113 - auc: 0.5118 - val_loss: 1.0879 - val_accuracy: 0.5119 - val_auc: 0.5206 - lr: 9.9807e-04\n",
      "Epoch 4/100\n",
      "40/40 [==============================] - 6s 158ms/step - loss: 1.5821 - accuracy: 0.5031 - auc: 0.5152 - val_loss: 1.5111 - val_accuracy: 0.5309 - val_auc: 0.5523 - lr: 9.9781e-04\n",
      "Epoch 5/100\n",
      "40/40 [==============================] - 7s 167ms/step - loss: 1.5035 - accuracy: 0.4961 - auc: 0.5224 - val_loss: 0.9987 - val_accuracy: 0.5040 - val_auc: 0.5083 - lr: 9.9750e-04\n",
      "Epoch 6/100\n",
      "40/40 [==============================] - 6s 164ms/step - loss: 1.3599 - accuracy: 0.5121 - auc: 0.5273 - val_loss: 0.8480 - val_accuracy: 0.4992 - val_auc: 0.5319 - lr: 9.9716e-04\n",
      "Epoch 7/100\n",
      "40/40 [==============================] - 6s 159ms/step - loss: 1.3475 - accuracy: 0.5160 - auc: 0.5253 - val_loss: 0.8975 - val_accuracy: 0.4929 - val_auc: 0.5361 - lr: 9.9676e-04\n",
      "Epoch 8/100\n",
      "40/40 [==============================] - 7s 171ms/step - loss: 1.2919 - accuracy: 0.5156 - auc: 0.5261 - val_loss: 0.6742 - val_accuracy: 0.5864 - val_auc: 0.6385 - lr: 9.9632e-04\n",
      "Epoch 9/100\n",
      "40/40 [==============================] - 6s 160ms/step - loss: 1.2597 - accuracy: 0.4984 - auc: 0.5402 - val_loss: 0.7101 - val_accuracy: 0.5230 - val_auc: 0.5801 - lr: 9.9581e-04\n",
      "Epoch 10/100\n",
      "40/40 [==============================] - 6s 163ms/step - loss: 1.2579 - accuracy: 0.5188 - auc: 0.5437 - val_loss: 0.7919 - val_accuracy: 0.5135 - val_auc: 0.5879 - lr: 9.9523e-04\n",
      "Epoch 11/100\n",
      "40/40 [==============================] - 7s 164ms/step - loss: 1.2531 - accuracy: 0.5113 - auc: 0.5337 - val_loss: 0.7896 - val_accuracy: 0.5008 - val_auc: 0.5802 - lr: 9.9457e-04\n",
      "Epoch 12/100\n",
      "40/40 [==============================] - 6s 163ms/step - loss: 1.2502 - accuracy: 0.5117 - auc: 0.5485 - val_loss: 0.6751 - val_accuracy: 0.5753 - val_auc: 0.6237 - lr: 9.9382e-04\n",
      "Epoch 13/100\n",
      "40/40 [==============================] - 7s 170ms/step - loss: 1.2277 - accuracy: 0.5016 - auc: 0.5376 - val_loss: 0.6362 - val_accuracy: 0.6244 - val_auc: 0.6879 - lr: 9.9297e-04\n",
      "Epoch 14/100\n",
      "40/40 [==============================] - 6s 161ms/step - loss: 1.2248 - accuracy: 0.4875 - auc: 0.5401 - val_loss: 0.6989 - val_accuracy: 0.5610 - val_auc: 0.6013 - lr: 9.9200e-04\n",
      "Epoch 15/100\n",
      "40/40 [==============================] - 7s 165ms/step - loss: 1.2675 - accuracy: 0.5137 - auc: 0.5553 - val_loss: 1.0064 - val_accuracy: 0.4992 - val_auc: 0.5922 - lr: 9.9090e-04\n",
      "Epoch 16/100\n",
      "40/40 [==============================] - 6s 163ms/step - loss: 1.2634 - accuracy: 0.5137 - auc: 0.5322 - val_loss: 0.6732 - val_accuracy: 0.5483 - val_auc: 0.6178 - lr: 9.8965e-04\n",
      "Epoch 17/100\n",
      "40/40 [==============================] - 7s 170ms/step - loss: 1.2061 - accuracy: 0.4824 - auc: 0.5489 - val_loss: 0.6350 - val_accuracy: 0.6339 - val_auc: 0.6864 - lr: 9.8823e-04\n",
      "Epoch 18/100\n",
      "40/40 [==============================] - 6s 162ms/step - loss: 1.2300 - accuracy: 0.4973 - auc: 0.5440 - val_loss: 0.6635 - val_accuracy: 0.5848 - val_auc: 0.6272 - lr: 9.8662e-04\n",
      "Epoch 19/100\n",
      "40/40 [==============================] - 7s 165ms/step - loss: 1.2099 - accuracy: 0.5035 - auc: 0.5503 - val_loss: 0.7135 - val_accuracy: 0.5135 - val_auc: 0.5839 - lr: 9.8479e-04\n",
      "Epoch 20/100\n",
      "40/40 [==============================] - 7s 166ms/step - loss: 1.2298 - accuracy: 0.5074 - auc: 0.5477 - val_loss: 0.8401 - val_accuracy: 0.4992 - val_auc: 0.6123 - lr: 9.8271e-04\n",
      "Epoch 21/100\n",
      "40/40 [==============================] - 7s 165ms/step - loss: 1.2499 - accuracy: 0.5156 - auc: 0.5463 - val_loss: 0.7153 - val_accuracy: 0.5071 - val_auc: 0.5370 - lr: 9.8036e-04\n",
      "Epoch 22/100\n",
      "40/40 [==============================] - 6s 163ms/step - loss: 1.2221 - accuracy: 0.5023 - auc: 0.5489 - val_loss: 0.8241 - val_accuracy: 0.5008 - val_auc: 0.5988 - lr: 9.7769e-04\n",
      "Epoch 23/100\n",
      "40/40 [==============================] - 7s 165ms/step - loss: 1.2205 - accuracy: 0.5109 - auc: 0.5487 - val_loss: 0.6927 - val_accuracy: 0.5230 - val_auc: 0.6188 - lr: 9.7468e-04\n",
      "Epoch 24/100\n",
      "40/40 [==============================] - 7s 166ms/step - loss: 1.2135 - accuracy: 0.5031 - auc: 0.5504 - val_loss: 0.6364 - val_accuracy: 0.5975 - val_auc: 0.6735 - lr: 9.7126e-04\n",
      "Epoch 25/100\n",
      "40/40 [==============================] - 7s 165ms/step - loss: 1.2115 - accuracy: 0.4883 - auc: 0.5441 - val_loss: 0.7506 - val_accuracy: 0.5040 - val_auc: 0.5888 - lr: 9.6740e-04\n",
      "Epoch 26/100\n",
      "40/40 [==============================] - 7s 167ms/step - loss: 1.2176 - accuracy: 0.5070 - auc: 0.5481 - val_loss: 0.7637 - val_accuracy: 0.5040 - val_auc: 0.5607 - lr: 9.6305e-04\n",
      "Epoch 27/100\n",
      "40/40 [==============================] - 6s 163ms/step - loss: 1.2056 - accuracy: 0.5129 - auc: 0.5663 - val_loss: 0.6964 - val_accuracy: 0.6022 - val_auc: 0.6378 - lr: 9.5813e-04\n",
      "Epoch 28/100\n",
      "40/40 [==============================] - 7s 165ms/step - loss: 1.2039 - accuracy: 0.5121 - auc: 0.5588 - val_loss: 0.8181 - val_accuracy: 0.4992 - val_auc: 0.6042 - lr: 9.5260e-04\n",
      "Epoch 29/100\n",
      "40/40 [==============================] - 7s 165ms/step - loss: 1.2057 - accuracy: 0.4980 - auc: 0.5593 - val_loss: 0.6411 - val_accuracy: 0.6133 - val_auc: 0.6744 - lr: 9.4637e-04\n",
      "Epoch 30/100\n",
      "40/40 [==============================] - 7s 169ms/step - loss: 1.1896 - accuracy: 0.5098 - auc: 0.5710 - val_loss: 0.6314 - val_accuracy: 0.6244 - val_auc: 0.6853 - lr: 9.3939e-04\n",
      "Epoch 31/100\n",
      "40/40 [==============================] - 6s 160ms/step - loss: 1.2033 - accuracy: 0.5070 - auc: 0.5628 - val_loss: 0.7628 - val_accuracy: 0.5024 - val_auc: 0.5843 - lr: 9.3155e-04\n",
      "Epoch 32/100\n",
      "40/40 [==============================] - 6s 163ms/step - loss: 1.2108 - accuracy: 0.5035 - auc: 0.5587 - val_loss: 0.6729 - val_accuracy: 0.5277 - val_auc: 0.6069 - lr: 9.2279e-04\n",
      "Epoch 33/100\n",
      "40/40 [==============================] - 6s 164ms/step - loss: 1.2112 - accuracy: 0.4988 - auc: 0.5507 - val_loss: 0.7122 - val_accuracy: 0.5087 - val_auc: 0.6070 - lr: 9.1301e-04\n",
      "Epoch 34/100\n",
      "40/40 [==============================] - 6s 162ms/step - loss: 1.1995 - accuracy: 0.4938 - auc: 0.5677 - val_loss: 0.7119 - val_accuracy: 0.5087 - val_auc: 0.5951 - lr: 9.0213e-04\n",
      "Epoch 35/100\n",
      "40/40 [==============================] - 6s 161ms/step - loss: 1.2023 - accuracy: 0.4996 - auc: 0.5586 - val_loss: 0.6918 - val_accuracy: 0.5087 - val_auc: 0.5889 - lr: 8.9005e-04\n",
      "Epoch 36/100\n",
      "40/40 [==============================] - 6s 163ms/step - loss: 1.1826 - accuracy: 0.5203 - auc: 0.5762 - val_loss: 0.7451 - val_accuracy: 0.4945 - val_auc: 0.5891 - lr: 8.7669e-04\n",
      "Epoch 37/100\n",
      "40/40 [==============================] - 7s 165ms/step - loss: 1.1952 - accuracy: 0.4992 - auc: 0.5639 - val_loss: 0.6888 - val_accuracy: 0.5895 - val_auc: 0.6249 - lr: 8.6196e-04\n",
      "Epoch 38/100\n",
      "40/40 [==============================] - 7s 165ms/step - loss: 1.2089 - accuracy: 0.5090 - auc: 0.5633 - val_loss: 0.7316 - val_accuracy: 0.5087 - val_auc: 0.5959 - lr: 8.4578e-04\n",
      "Epoch 39/100\n",
      "40/40 [==============================] - 7s 167ms/step - loss: 1.2133 - accuracy: 0.5129 - auc: 0.5663 - val_loss: 1.0749 - val_accuracy: 0.4992 - val_auc: 0.5847 - lr: 8.2809e-04\n",
      "Epoch 40/100\n",
      "40/40 [==============================] - 6s 163ms/step - loss: 1.1830 - accuracy: 0.5156 - auc: 0.5776 - val_loss: 0.8057 - val_accuracy: 0.5008 - val_auc: 0.5810 - lr: 8.0883e-04\n",
      "Epoch 41/100\n",
      "40/40 [==============================] - 7s 164ms/step - loss: 1.1868 - accuracy: 0.5109 - auc: 0.5828 - val_loss: 0.7981 - val_accuracy: 0.5008 - val_auc: 0.5919 - lr: 7.8798e-04\n",
      "Epoch 42/100\n",
      "40/40 [==============================] - 7s 166ms/step - loss: 1.2038 - accuracy: 0.5082 - auc: 0.5740 - val_loss: 0.7205 - val_accuracy: 0.5103 - val_auc: 0.5955 - lr: 7.6551e-04\n",
      "Epoch 43/100\n",
      "40/40 [==============================] - 7s 164ms/step - loss: 1.1948 - accuracy: 0.5113 - auc: 0.5788 - val_loss: 0.7095 - val_accuracy: 0.5119 - val_auc: 0.5934 - lr: 7.4146e-04\n",
      "Epoch 44/100\n",
      "40/40 [==============================] - 7s 165ms/step - loss: 1.2115 - accuracy: 0.5156 - auc: 0.5641 - val_loss: 0.8684 - val_accuracy: 0.4992 - val_auc: 0.5813 - lr: 7.1587e-04\n",
      "Epoch 45/100\n",
      "40/40 [==============================] - 6s 163ms/step - loss: 1.1815 - accuracy: 0.5023 - auc: 0.5764 - val_loss: 0.7110 - val_accuracy: 0.5198 - val_auc: 0.6013 - lr: 6.8882e-04\n",
      "Epoch 46/100\n",
      "40/40 [==============================] - 7s 167ms/step - loss: 1.1872 - accuracy: 0.4891 - auc: 0.5722 - val_loss: 0.6393 - val_accuracy: 0.5959 - val_auc: 0.6690 - lr: 6.6044e-04\n",
      "Epoch 47/100\n",
      "40/40 [==============================] - 7s 165ms/step - loss: 1.1857 - accuracy: 0.5051 - auc: 0.5772 - val_loss: 0.7060 - val_accuracy: 0.5135 - val_auc: 0.5930 - lr: 6.3088e-04\n",
      "Epoch 48/100\n",
      "40/40 [==============================] - 6s 163ms/step - loss: 1.1780 - accuracy: 0.5184 - auc: 0.5759 - val_loss: 0.6881 - val_accuracy: 0.5357 - val_auc: 0.6232 - lr: 6.0032e-04\n",
      "Epoch 49/100\n",
      "40/40 [==============================] - 7s 165ms/step - loss: 1.1752 - accuracy: 0.5078 - auc: 0.5916 - val_loss: 0.8253 - val_accuracy: 0.4992 - val_auc: 0.5766 - lr: 5.6899e-04\n",
      "Epoch 50/100\n",
      "40/40 [==============================] - 6s 163ms/step - loss: 1.1826 - accuracy: 0.5176 - auc: 0.5859 - val_loss: 0.7635 - val_accuracy: 0.4992 - val_auc: 0.5848 - lr: 5.3713e-04\n",
      "Epoch 51/100\n",
      "40/40 [==============================] - 6s 164ms/step - loss: 1.1736 - accuracy: 0.5125 - auc: 0.5883 - val_loss: 0.6902 - val_accuracy: 0.5388 - val_auc: 0.6223 - lr: 5.0500e-04\n",
      "Epoch 52/100\n",
      "40/40 [==============================] - 7s 165ms/step - loss: 1.1988 - accuracy: 0.5254 - auc: 0.5866 - val_loss: 0.6344 - val_accuracy: 0.6022 - val_auc: 0.6768 - lr: 4.7287e-04\n",
      "Epoch 53/100\n",
      "40/40 [==============================] - 6s 163ms/step - loss: 1.1618 - accuracy: 0.5098 - auc: 0.5936 - val_loss: 0.7138 - val_accuracy: 0.5166 - val_auc: 0.5959 - lr: 4.4101e-04\n",
      "Epoch 54/100\n",
      "40/40 [==============================] - 7s 165ms/step - loss: 1.1667 - accuracy: 0.5098 - auc: 0.5979 - val_loss: 0.8546 - val_accuracy: 0.4992 - val_auc: 0.5815 - lr: 4.0968e-04\n",
      "Epoch 55/100\n",
      "40/40 [==============================] - 7s 165ms/step - loss: 1.1670 - accuracy: 0.5211 - auc: 0.6024 - val_loss: 0.6809 - val_accuracy: 0.5309 - val_auc: 0.5980 - lr: 3.7912e-04\n",
      "Epoch 56/100\n",
      "40/40 [==============================] - 7s 166ms/step - loss: 1.1692 - accuracy: 0.5238 - auc: 0.5989 - val_loss: 0.7917 - val_accuracy: 0.4976 - val_auc: 0.5701 - lr: 3.4956e-04\n",
      "Epoch 57/100\n",
      "40/40 [==============================] - 7s 165ms/step - loss: 1.1674 - accuracy: 0.5258 - auc: 0.6016 - val_loss: 0.6544 - val_accuracy: 0.6101 - val_auc: 0.6634 - lr: 3.2118e-04\n",
      "Epoch 58/100\n",
      "40/40 [==============================] - 7s 165ms/step - loss: 1.1724 - accuracy: 0.5281 - auc: 0.6006 - val_loss: 0.8541 - val_accuracy: 0.4976 - val_auc: 0.5748 - lr: 2.9413e-04\n",
      "Epoch 59/100\n",
      "40/40 [==============================] - 7s 166ms/step - loss: 1.1745 - accuracy: 0.5309 - auc: 0.6101 - val_loss: 0.8089 - val_accuracy: 0.4945 - val_auc: 0.5556 - lr: 2.6854e-04\n",
      "Epoch 60/100\n",
      "40/40 [==============================] - 7s 165ms/step - loss: 1.1621 - accuracy: 0.5234 - auc: 0.6045 - val_loss: 0.7806 - val_accuracy: 0.5040 - val_auc: 0.5736 - lr: 2.4449e-04\n",
      "Epoch 61/100\n",
      "40/40 [==============================] - 7s 164ms/step - loss: 1.1567 - accuracy: 0.5246 - auc: 0.6138 - val_loss: 0.7299 - val_accuracy: 0.5135 - val_auc: 0.5911 - lr: 2.2202e-04\n",
      "Epoch 62/100\n",
      "40/40 [==============================] - 7s 165ms/step - loss: 1.1491 - accuracy: 0.5125 - auc: 0.6098 - val_loss: 0.6319 - val_accuracy: 0.6371 - val_auc: 0.6947 - lr: 2.0117e-04\n",
      "Epoch 63/100\n",
      "40/40 [==============================] - 7s 164ms/step - loss: 1.1585 - accuracy: 0.5250 - auc: 0.6259 - val_loss: 0.6349 - val_accuracy: 0.6339 - val_auc: 0.6858 - lr: 1.8191e-04\n",
      "Epoch 64/100\n",
      "40/40 [==============================] - 7s 164ms/step - loss: 1.1382 - accuracy: 0.5289 - auc: 0.6147 - val_loss: 0.7668 - val_accuracy: 0.5087 - val_auc: 0.5863 - lr: 1.6422e-04\n",
      "Epoch 65/100\n",
      "40/40 [==============================] - 6s 164ms/step - loss: 1.1557 - accuracy: 0.5258 - auc: 0.6224 - val_loss: 0.7712 - val_accuracy: 0.5071 - val_auc: 0.5846 - lr: 1.4804e-04\n",
      "Epoch 66/100\n",
      "40/40 [==============================] - 7s 166ms/step - loss: 1.1503 - accuracy: 0.5273 - auc: 0.6218 - val_loss: 0.7248 - val_accuracy: 0.5135 - val_auc: 0.5881 - lr: 1.3331e-04\n",
      "Epoch 67/100\n",
      "40/40 [==============================] - 6s 164ms/step - loss: 1.1381 - accuracy: 0.5410 - auc: 0.6231 - val_loss: 0.6467 - val_accuracy: 0.6022 - val_auc: 0.6614 - lr: 1.1995e-04\n",
      "Epoch 68/100\n",
      "40/40 [==============================] - 6s 162ms/step - loss: 1.1376 - accuracy: 0.5328 - auc: 0.6290 - val_loss: 0.6479 - val_accuracy: 0.6038 - val_auc: 0.6680 - lr: 1.0787e-04\n",
      "Epoch 69/100\n",
      "40/40 [==============================] - 7s 165ms/step - loss: 1.1351 - accuracy: 0.5414 - auc: 0.6339 - val_loss: 0.7336 - val_accuracy: 0.5119 - val_auc: 0.5875 - lr: 9.6985e-05\n",
      "Epoch 70/100\n",
      "40/40 [==============================] - 6s 163ms/step - loss: 1.1293 - accuracy: 0.5437 - auc: 0.6468 - val_loss: 0.6870 - val_accuracy: 0.5357 - val_auc: 0.6135 - lr: 8.7208e-05\n",
      "Epoch 71/100\n",
      "40/40 [==============================] - 7s 166ms/step - loss: 1.1193 - accuracy: 0.5402 - auc: 0.6313 - val_loss: 0.7428 - val_accuracy: 0.5008 - val_auc: 0.5811 - lr: 7.8447e-05\n",
      "Epoch 72/100\n",
      "40/40 [==============================] - 6s 162ms/step - loss: 1.1412 - accuracy: 0.5453 - auc: 0.6469 - val_loss: 0.6858 - val_accuracy: 0.5325 - val_auc: 0.6136 - lr: 7.0614e-05\n",
      "Epoch 73/100\n",
      "40/40 [==============================] - 6s 162ms/step - loss: 1.1322 - accuracy: 0.5344 - auc: 0.6391 - val_loss: 0.6739 - val_accuracy: 0.5515 - val_auc: 0.6183 - lr: 6.3625e-05\n",
      "Epoch 74/100\n",
      "40/40 [==============================] - 6s 163ms/step - loss: 1.1394 - accuracy: 0.5578 - auc: 0.6376 - val_loss: 0.7476 - val_accuracy: 0.5087 - val_auc: 0.5800 - lr: 5.7401e-05\n",
      "Epoch 75/100\n",
      "40/40 [==============================] - 7s 164ms/step - loss: 1.1343 - accuracy: 0.5477 - auc: 0.6439 - val_loss: 0.7862 - val_accuracy: 0.5119 - val_auc: 0.5788 - lr: 5.1867e-05\n",
      "Epoch 76/100\n",
      "40/40 [==============================] - 6s 163ms/step - loss: 1.1103 - accuracy: 0.5434 - auc: 0.6499 - val_loss: 0.7963 - val_accuracy: 0.5071 - val_auc: 0.5765 - lr: 4.6954e-05\n",
      "Epoch 77/100\n",
      "40/40 [==============================] - 7s 164ms/step - loss: 1.1276 - accuracy: 0.5508 - auc: 0.6479 - val_loss: 0.7152 - val_accuracy: 0.5151 - val_auc: 0.5926 - lr: 4.2597e-05\n",
      "Epoch 78/100\n",
      "40/40 [==============================] - 6s 162ms/step - loss: 1.1211 - accuracy: 0.5480 - auc: 0.6443 - val_loss: 0.8075 - val_accuracy: 0.5071 - val_auc: 0.5829 - lr: 3.8739e-05\n",
      "Epoch 79/100\n",
      "40/40 [==============================] - 7s 165ms/step - loss: 1.1238 - accuracy: 0.5426 - auc: 0.6402 - val_loss: 0.6957 - val_accuracy: 0.5246 - val_auc: 0.5980 - lr: 3.5325e-05\n",
      "Epoch 80/100\n",
      "40/40 [==============================] - 6s 163ms/step - loss: 1.1202 - accuracy: 0.5605 - auc: 0.6553 - val_loss: 0.7101 - val_accuracy: 0.5198 - val_auc: 0.5980 - lr: 3.2307e-05\n",
      "Epoch 81/100\n",
      "40/40 [==============================] - 7s 165ms/step - loss: 1.1164 - accuracy: 0.5387 - auc: 0.6471 - val_loss: 0.8215 - val_accuracy: 0.5040 - val_auc: 0.5715 - lr: 2.9642e-05\n",
      "Epoch 82/100\n",
      "40/40 [==============================] - 6s 164ms/step - loss: 1.1315 - accuracy: 0.5473 - auc: 0.6420 - val_loss: 0.7307 - val_accuracy: 0.5151 - val_auc: 0.5934 - lr: 2.7289e-05\n",
      "Epoch 83/100\n",
      "40/40 [==============================] - 7s 165ms/step - loss: 1.1277 - accuracy: 0.5527 - auc: 0.6565 - val_loss: 0.6859 - val_accuracy: 0.5246 - val_auc: 0.6085 - lr: 2.5214e-05\n",
      "Epoch 84/100\n",
      "40/40 [==============================] - 6s 164ms/step - loss: 1.1431 - accuracy: 0.5496 - auc: 0.6465 - val_loss: 0.7665 - val_accuracy: 0.5040 - val_auc: 0.5819 - lr: 2.3384e-05\n",
      "Epoch 85/100\n"
     ]
    },
    {
     "name": "stdout",
     "output_type": "stream",
     "text": [
      "40/40 [==============================] - 7s 164ms/step - loss: 1.1185 - accuracy: 0.5437 - auc: 0.6571 - val_loss: 0.6885 - val_accuracy: 0.5372 - val_auc: 0.6103 - lr: 2.1772e-05\n",
      "Epoch 86/100\n",
      "40/40 [==============================] - 7s 165ms/step - loss: 1.1335 - accuracy: 0.5609 - auc: 0.6532 - val_loss: 0.7322 - val_accuracy: 0.5119 - val_auc: 0.5888 - lr: 2.0352e-05\n",
      "Epoch 87/100\n",
      "40/40 [==============================] - 7s 165ms/step - loss: 1.1366 - accuracy: 0.5555 - auc: 0.6622 - val_loss: 0.7177 - val_accuracy: 0.5135 - val_auc: 0.5949 - lr: 1.9102e-05\n",
      "Epoch 88/100\n",
      "40/40 [==============================] - 6s 163ms/step - loss: 1.1150 - accuracy: 0.5574 - auc: 0.6560 - val_loss: 0.6950 - val_accuracy: 0.5293 - val_auc: 0.6045 - lr: 1.8001e-05\n",
      "Epoch 89/100\n",
      "40/40 [==============================] - 7s 165ms/step - loss: 1.1151 - accuracy: 0.5539 - auc: 0.6549 - val_loss: 0.7278 - val_accuracy: 0.5182 - val_auc: 0.5887 - lr: 1.7033e-05\n",
      "Epoch 90/100\n",
      "40/40 [==============================] - 6s 161ms/step - loss: 1.1287 - accuracy: 0.5430 - auc: 0.6411 - val_loss: 0.7227 - val_accuracy: 0.5151 - val_auc: 0.5942 - lr: 1.6181e-05\n",
      "Epoch 91/100\n",
      "40/40 [==============================] - 6s 161ms/step - loss: 1.1171 - accuracy: 0.5523 - auc: 0.6537 - val_loss: 0.6981 - val_accuracy: 0.5261 - val_auc: 0.6023 - lr: 1.5431e-05\n",
      "Epoch 92/100\n",
      "40/40 [==============================] - 7s 164ms/step - loss: 1.1159 - accuracy: 0.5605 - auc: 0.6532 - val_loss: 0.6797 - val_accuracy: 0.5547 - val_auc: 0.6169 - lr: 1.4773e-05\n",
      "Epoch 93/100\n",
      "40/40 [==============================] - 6s 161ms/step - loss: 1.1139 - accuracy: 0.5527 - auc: 0.6586 - val_loss: 0.6788 - val_accuracy: 0.5563 - val_auc: 0.6172 - lr: 1.4193e-05\n",
      "Epoch 94/100\n",
      "40/40 [==============================] - 7s 166ms/step - loss: 1.1282 - accuracy: 0.5590 - auc: 0.6627 - val_loss: 0.6964 - val_accuracy: 0.5325 - val_auc: 0.6071 - lr: 1.3684e-05\n",
      "Epoch 95/100\n",
      "40/40 [==============================] - 7s 164ms/step - loss: 1.1012 - accuracy: 0.5543 - auc: 0.6668 - val_loss: 0.7139 - val_accuracy: 0.5182 - val_auc: 0.5985 - lr: 1.3236e-05\n",
      "Epoch 96/100\n",
      "40/40 [==============================] - 7s 165ms/step - loss: 1.1199 - accuracy: 0.5680 - auc: 0.6531 - val_loss: 0.7199 - val_accuracy: 0.5119 - val_auc: 0.5953 - lr: 1.2843e-05\n",
      "Epoch 97/100\n",
      "40/40 [==============================] - 6s 162ms/step - loss: 1.1121 - accuracy: 0.5527 - auc: 0.6603 - val_loss: 0.7241 - val_accuracy: 0.5071 - val_auc: 0.5894 - lr: 1.2497e-05\n",
      "Epoch 98/100\n",
      "40/40 [==============================] - 6s 163ms/step - loss: 1.1195 - accuracy: 0.5477 - auc: 0.6537 - val_loss: 0.7062 - val_accuracy: 0.5246 - val_auc: 0.5960 - lr: 1.2193e-05\n",
      "Epoch 99/100\n",
      "40/40 [==============================] - 7s 164ms/step - loss: 1.1397 - accuracy: 0.5652 - auc: 0.6610 - val_loss: 0.7192 - val_accuracy: 0.5166 - val_auc: 0.5917 - lr: 1.1927e-05\n",
      "Epoch 100/100\n",
      "40/40 [==============================] - 6s 163ms/step - loss: 1.1212 - accuracy: 0.5539 - auc: 0.6546 - val_loss: 0.7217 - val_accuracy: 0.5135 - val_auc: 0.5910 - lr: 1.1692e-05\n"
     ]
    }
   ],
   "source": [
    "n_epoch = 100\n",
    "lr = LearningRateScheduler(lambda e: sigmoidal_decay(e, end=n_epoch))\n",
    "\n",
    "batch_size = 64\n",
    "\n",
    "if mixup :\n",
    "    beta_param = .7\n",
    "else :\n",
    "    beta_param = 0\n",
    "    \n",
    "params = {'batch_size': batch_size,\n",
    "          #          'input_shape': (100, 313, 1),\n",
    "          'shuffle': True,\n",
    "          'chaug': 0,\n",
    "          'beta_param': beta_param,\n",
    "          'cout': cout,\n",
    "#              'mixup': True,\n",
    "          #          'lowpass': [.5, [11,12,13,14,15,16,17,18]]\n",
    "#            'highpass': [.5, [78,79,80,81,82,83,84,85]],\n",
    "#              'ranfilter2' : [3, [18,19,20,21,22,23]]\n",
    "        #           'dropblock' : [30, 100]\n",
    "          #'device' : device\n",
    "}\n",
    "\n",
    "\n",
    "\n",
    "if mixup :\n",
    "    params['mixup'] = mixup\n",
    "    params['ranfilter2'] = ranfil\n",
    "else :\n",
    "    params['cutout'] = cout\n",
    "\n",
    "\n",
    "params_no_shuffle = {'batch_size': batch_size,\n",
    "                     #          'input_shape': (100, 313, 1),\n",
    "                     'shuffle': False,\n",
    "                     'beta_param': 0.7,\n",
    "                     'mixup': False\n",
    "                     #'device': device\n",
    "}\n",
    "\n",
    "\n",
    "\n",
    "\n",
    "if mixup :\n",
    "\n",
    "    \n",
    "    class_weight = {0: oo_weight, 1: 1.}\n",
    "    TrainDGen_1 = Generator0([features_trn['age'],features_trn['sex'], features_trn['hw'], \n",
    "                              features_trn['preg'], features_trn['loc'],features_trn['interval'],\n",
    "                              features_trn['wav2'],features_trn['mel1'], features_trn['cqt1'],\n",
    "                              features_trn['stft1']],  features_trn['out_labels'], **params)()\n",
    "\n",
    "    model2.fit(TrainDGen_1,\n",
    "               validation_data = ([features_test['age'],features_test['sex'], features_test['hw'],                                   \n",
    "                                   features_test['preg'], features_test['loc'],features_test['interval'],\n",
    "                                   features_test['wav2'],\n",
    "                                   features_test['mel1'],\n",
    "                                   features_test['cqt1'],\n",
    "                                   features_test['stft1']],features_test['out_labels']), \n",
    "               \n",
    "               callbacks=[lr,model2_callback],\n",
    "               steps_per_epoch=np.ceil(len(features_trn['out_labels'])/batch_size),\n",
    "               class_weight=class_weight, \n",
    "               epochs = n_epoch)\n",
    "    \n"
   ]
  },
  {
   "cell_type": "code",
   "execution_count": 43,
   "id": "5d9abb6a",
   "metadata": {},
   "outputs": [
    {
     "data": {
      "text/plain": [
       "{'samp_sec': 20,\n",
       " 'pre_emphasis': 0,\n",
       " 'hop_length': 256,\n",
       " 'win_length': 512,\n",
       " 'n_mels': 120,\n",
       " 'filter_scale': 1,\n",
       " 'n_bins': 80,\n",
       " 'fmin': 10,\n",
       " 'maxlen1': 246000,\n",
       " 'min_dist': 500,\n",
       " 'max_interval_len': 229,\n",
       " 'trim': 1,\n",
       " 'use_mel': True,\n",
       " 'use_cqt': False,\n",
       " 'use_stft': False,\n",
       " 'use_interval': True,\n",
       " 'use_wav2': True,\n",
       " 'per_sec': 8000,\n",
       " 'ord1': True,\n",
       " 'mm_mean': False,\n",
       " 'dp': 0,\n",
       " 'fc': False,\n",
       " 'ext': True,\n",
       " 'oo_weight': 3,\n",
       " 'mm_weight': 3,\n",
       " 'chaug': 10,\n",
       " 'cout': 0.8,\n",
       " 'wunknown': 1,\n",
       " 'mixup': True,\n",
       " 'n1': 0}"
      ]
     },
     "execution_count": 43,
     "metadata": {},
     "output_type": "execute_result"
    }
   ],
   "source": [
    "params_feature"
   ]
  },
  {
   "cell_type": "code",
   "execution_count": 44,
   "id": "08f47fb7",
   "metadata": {},
   "outputs": [],
   "source": [
    "params_feature['mel_shape'] = mel_input_shape\n",
    "params_feature['cqt_shape'] = cqt_input_shape\n",
    "params_feature['stft_shape'] = stft_input_shape\n",
    "params_feature['interval_input_shape'] = interval_input_shape\n",
    "params_feature['wav2_input_shape'] = wav2_input_shape\n",
    "params_feature['max_interval_len'] = max_interval_len"
   ]
  },
  {
   "cell_type": "code",
   "execution_count": null,
   "id": "7bf05dc7",
   "metadata": {},
   "outputs": [],
   "source": []
  },
  {
   "cell_type": "code",
   "execution_count": 45,
   "id": "7e94993e",
   "metadata": {},
   "outputs": [
    {
     "data": {
      "text/plain": [
       "{'samp_sec': 20,\n",
       " 'pre_emphasis': 0,\n",
       " 'hop_length': 256,\n",
       " 'win_length': 512,\n",
       " 'n_mels': 120,\n",
       " 'filter_scale': 1,\n",
       " 'n_bins': 80,\n",
       " 'fmin': 10,\n",
       " 'maxlen1': 246000,\n",
       " 'min_dist': 500,\n",
       " 'max_interval_len': 229,\n",
       " 'trim': 1,\n",
       " 'use_mel': True,\n",
       " 'use_cqt': False,\n",
       " 'use_stft': False,\n",
       " 'use_interval': True,\n",
       " 'use_wav2': True,\n",
       " 'per_sec': 8000,\n",
       " 'ord1': True,\n",
       " 'mm_mean': False,\n",
       " 'dp': 0,\n",
       " 'fc': False,\n",
       " 'ext': True,\n",
       " 'oo_weight': 3,\n",
       " 'mm_weight': 3,\n",
       " 'chaug': 10,\n",
       " 'cout': 0.8,\n",
       " 'wunknown': 1,\n",
       " 'mixup': True,\n",
       " 'n1': 0,\n",
       " 'mel_shape': (120, 313, 1),\n",
       " 'cqt_shape': (1, 1, 1),\n",
       " 'stft_shape': (1, 1, 1),\n",
       " 'interval_input_shape': (229, 1),\n",
       " 'wav2_input_shape': (246000,)}"
      ]
     },
     "execution_count": 45,
     "metadata": {},
     "output_type": "execute_result"
    }
   ],
   "source": [
    "params_feature"
   ]
  },
  {
   "cell_type": "code",
   "execution_count": 46,
   "id": "786d2ba7",
   "metadata": {},
   "outputs": [],
   "source": [
    "import pickle as pk\n",
    "def save_challenge_model(model_folder, model1, model2, m_name1, m_name2, param_feature) :\n",
    "    os.makedirs(model_folder, exist_ok=True)\n",
    "    info_fnm = os.path.join(model_folder, 'desc.pk')\n",
    "    filename1 = os.path.join(model_folder, m_name1 + '_model1.hdf5')\n",
    "    filename2 = os.path.join(model_folder, m_name2 + '_model2.hdf5')\n",
    "    model1.save(filename1)\n",
    "    model2.save(filename2)\n",
    "    param_feature['model1'] = m_name1\n",
    "    param_feature['model2'] = m_name2\n",
    "    param_feature['model_fnm1'] = filename1\n",
    "    param_feature['model_fnm2'] = filename2\n",
    "    with open(info_fnm, 'wb') as f:\n",
    "        pk.dump(param_feature, f, pk.HIGHEST_PROTOCOL)\n",
    "    return 1\n",
    "\n",
    "    with open(info_fnm, 'wb') as f:\n",
    "        pk.dump(param_feature, f, pk.HIGHEST_PROTOCOL)\n",
    "    return 1\n",
    "    "
   ]
  },
  {
   "cell_type": "code",
   "execution_count": 47,
   "id": "6b9ae924",
   "metadata": {},
   "outputs": [
    {
     "data": {
      "text/plain": [
       "'lcnn2'"
      ]
     },
     "execution_count": 47,
     "metadata": {},
     "output_type": "execute_result"
    }
   ],
   "source": [
    "model_folder"
   ]
  },
  {
   "cell_type": "code",
   "execution_count": 48,
   "id": "ed1124d7",
   "metadata": {},
   "outputs": [
    {
     "data": {
      "text/plain": [
       "1"
      ]
     },
     "execution_count": 48,
     "metadata": {},
     "output_type": "execute_result"
    }
   ],
   "source": [
    "save_challenge_model(model_folder, model1, model2, m_name1 = 'lcnn1', m_name2 = 'lcnn2', param_feature = params_feature)"
   ]
  },
  {
   "cell_type": "code",
   "execution_count": 49,
   "id": "ba030c37",
   "metadata": {},
   "outputs": [],
   "source": [
    "def load_challenge_model(model_folder, verbose):\n",
    "    info_fnm = os.path.join(model_folder, 'desc.pk')\n",
    "    with open(info_fnm, 'rb') as f:\n",
    "        info_m = pk.load(f)\n",
    "\n",
    "    return info_m"
   ]
  },
  {
   "cell_type": "code",
   "execution_count": 50,
   "id": "19a747dc",
   "metadata": {},
   "outputs": [],
   "source": [
    "def run_challenge_model(model, data, recordings, verbose):\n",
    "    \n",
    "    murmur_classes = ['Present', 'Unknown', 'Absent']\n",
    "    outcome_classes = ['Abnormal', 'Normal']\n",
    "\n",
    "##########################################################################    \n",
    "    if model['model1'] == 'lcnn1' :\n",
    "        model1 = get_LCNN_o_4_dr_1(model['mel_shape'],model['cqt_shape'],model['stft_shape'], model['interval_input_shape'],model['wav2_input_shape']\n",
    "                                 , use_mel = model['use_mel'],use_cqt = model['use_cqt'], use_stft = model['use_stft'], \n",
    "                                 ord1 = model['ord1'], dp = model['dp'], fc = model['fc'], ext = model['ext'],use_wav2=model['use_wav2'])    \n",
    "    if model['model1'] == 'lcnn2' :\n",
    "        model1 = get_LCNN_o_4_dr_1(model['mel_shape'],model['cqt_shape'],model['stft_shape'], model['interval_input_shape'],model['wav2_input_shape']\n",
    "                                 , use_mel = model['use_mel'],use_cqt = model['use_cqt'], use_stft = model['use_stft'], \n",
    "                                 ord1 = model['ord1'], dp = model['dp'], fc = model['fc'], ext = model['ext'],use_wav2=model['use_wav2'])   \n",
    "    model1.load_weights(model['model_fnm1'])\n",
    "    model2.load_weights(model['model_fnm2'])\n",
    "############################################################################ \n",
    "\n",
    "\n",
    "    maxlen1 = params_feature['maxlen1']\n",
    "    min_dist = params_feature['min_dist']\n",
    "    max_interval_len = params_feature['max_interval_len']\n",
    "    \n",
    "    \n",
    "    # Load features.\n",
    "    features = get_feature_one(data, verbose = 0)\n",
    "\n",
    "    samp_sec = model['samp_sec'] \n",
    "    pre_emphasis = model['pre_emphasis']\n",
    "    hop_length = model['hop_length']\n",
    "    win_length = model['win_length']\n",
    "    n_mels = model['n_mels']\n",
    "    filter_scale = model['filter_scale']\n",
    "    n_bins = model['n_bins']\n",
    "    fmin = model['fmin']\n",
    "    trim = model['trim']\n",
    "    use_mel = model['use_mel']\n",
    "    use_cqt = model['use_cqt']\n",
    "    use_stft = model['use_stft']\n",
    "    use_interval = model['use_interval']\n",
    "    use_wav2 = model['use_wav2']\n",
    "    maxlen1 = model['maxlen1']\n",
    "    min_dist = model['min_dist']\n",
    "    per_sec = model['per_sec']\n",
    "    \n",
    "#    use_raw = model['use_raw']\n",
    "    features['wav2'] = []\n",
    "    tmp_wav=[] \n",
    "    features['interval'] = []\n",
    "    tmp_total_interval = [] \n",
    "         \n",
    "    if use_wav2:\n",
    "\n",
    "        for i in range(len(recordings)):\n",
    "            data = recordings[i]\n",
    "            tmp_wav.append(data)\n",
    "\n",
    "        padded =pad_sequences(tmp_wav, maxlen=maxlen1, dtype='float64', padding='post', truncating='post', value=0.0)\n",
    "\n",
    "        padded=np.array(padded, dtype=np.float32)\n",
    "        for i in range(len(padded)):\n",
    "            features['wav2'].append(padded[i])\n",
    "\n",
    "        features['wav2'] = np.array(features['wav2'])\n",
    "    \n",
    "\n",
    "       \n",
    "    if use_interval:\n",
    "\n",
    "\n",
    "        for i in tqdm.tqdm(range(len(recordings))) :\n",
    "            \n",
    "            datos=recordings[i]\n",
    "            filtros=sio.loadmat('./Filters1')\n",
    "            tmp_interval = []\n",
    "            n_samp = len(datos)//per_sec\n",
    "\n",
    "\n",
    "            try:\n",
    "                for k in range(n_samp):\n",
    "                    \n",
    "                    X = datos[k*per_sec:(k+1)*per_sec]\n",
    "                    Fs= per_sec\n",
    "                    Fpa20=filtros['Fpa20'];\t\t\t        # High pass filter\n",
    "                    Fpa20=Fpa20[0];\t\t\t\t\t# High pass filter\n",
    "                    Fpb100=filtros['Fpb100'];\t\t        # Low-pass Filter\n",
    "                    Fpb100=Fpb100[0];\t\t\t\t# Low-pass Filter\n",
    "                    Xf=FpassBand(X,Fpa20,Fpb100); \t                # Apply a passband filter\n",
    "                    Xf=vec_nor(Xf);\t\t\t\n",
    "\n",
    "                # Derivate of the Signal\n",
    "                    dX=derivate(Xf);\t\t\t\t# Derivate of the signal\n",
    "                    dX=vec_nor(dX);\t\t\t\t\t# Vector Normalizing\n",
    "                # Square of the signal\n",
    "                    dy=np.square(Xf);\n",
    "                    dy=vec_nor(dy);\n",
    "\n",
    "                    size=np.shape(Xf)\t\t\t\t# Rank or dimension of the array\n",
    "                    fil=size[0];\t\t\t\t\t# Number of rows\n",
    "\n",
    "                    positive=np.zeros((1,fil+1));                   # Initializating Positives Values Vector \n",
    "                    positive=positive[0];                           # Getting the Vector\n",
    "\n",
    "                    points=np.zeros((1,fil));                       # Initializating the all Peak Points Vector\n",
    "                    points=points[0];                               # Getting the point vector\n",
    "\n",
    "                    peaks=np.zeros((1,fil));                        # Initializating the s1-s1 Peak Vector\n",
    "                    peaks=peaks[0];                                 # Getting the point vector\n",
    "\n",
    "\n",
    "                    for i in range(0,fil):\n",
    "                        if dX[i]>0:\n",
    "                            positive[i]=1;\n",
    "                        else:\n",
    "                            positive[i]=0;\n",
    "\n",
    "                    for i in range(0,fil):\n",
    "                        if (positive[i]==1 and positive[i+1]==0):\n",
    "                            points[i]=Xf[i];\n",
    "                        else:\n",
    "                            points[i]=0;\n",
    "\n",
    "                    indexes=peakutils.indexes(points,thres=0.5/max(points), min_dist=min_dist);\n",
    "                    lenght=np.shape(indexes)\t\t\t# Get the length of the index vector\t\t\n",
    "                    lenght=lenght[0];\t\t\t\t# Get the value of the index vector\n",
    "\n",
    "                    for i in range(0,lenght):\n",
    "                        p=indexes[i];\n",
    "                        peaks[p]=points[p];\n",
    "\n",
    "                    n=np.arange(0,fil);                            # Vector to the X axes (Number of Samples)\n",
    "                    indexes =indexes+(k*per_sec)    \n",
    "                    tmp_peaks = np.array(indexes)\n",
    "\n",
    "\n",
    "                    tmp_interval.extend(tmp_peaks)\n",
    "\n",
    "                tmp_interval = np.array(tmp_interval)\n",
    "                tmp_interval = np.diff(tmp_interval)\n",
    "\n",
    "                tmp_total_interval.append(tmp_interval)\n",
    "\n",
    "\n",
    "            except:\n",
    "                print(i)\n",
    "                tmp_peaks = np.zeros(max_interval_len)\n",
    "                tmp_total_interval.append(tmp_peaks)\n",
    "\n",
    "    else :\n",
    "\n",
    "        tmp_peaks = np.zeros(max_interval_len)\n",
    "        tmp_total_interval.append(tmp_peaks)       \n",
    "\n",
    "\n",
    "    if use_interval:\n",
    "          \n",
    "        padded =pad_sequences(tmp_total_interval, maxlen=max_interval_len, dtype='float64', padding='post', truncating='post', value=0.0)\n",
    "\n",
    "        for i in range(len(padded)):\n",
    "            features['interval'].append(padded[i])\n",
    "             \n",
    "        for i in range(len(features['interval'])):\n",
    "            features['interval'][i]= features['interval'][i].reshape(-1,1)\n",
    "    \n",
    "        features['interval']=np.array(features['interval'])\n",
    "    \n",
    "        \n",
    "    else:\n",
    "        for i in range(len(tmp_interval)):\n",
    "            features['interval'].append(tmp_total_interval[i])\n",
    "        \n",
    "        for i in range(len(features['interval'])):\n",
    "            features['interval'][i]= features['interval'][i].reshape(-1,1)\n",
    "        features['interval']=np.array(features['interval'])\n",
    "    \n",
    "    \n",
    "    \n",
    "    features['mel1'] = []\n",
    "    for i in range(len(recordings)) :\n",
    "        if use_mel :\n",
    "            mel1 = feature_extract_melspec(recordings[i]/ 32768, samp_sec=samp_sec, pre_emphasis = pre_emphasis, hop_length=hop_length, \n",
    "                                           win_length = win_length, n_mels = n_mels)[0]\n",
    "        else :\n",
    "            mel1 = np.zeros( (1,1) )\n",
    "            \n",
    "        features['mel1'].append(mel1)\n",
    "        \n",
    "    M, N = features['mel1'][0].shape\n",
    "    \n",
    "    if use_mel :\n",
    "        for i in range(len(features['mel1'])) :\n",
    "            features['mel1'][i] = features['mel1'][i].reshape(M,N,1)   \n",
    "    \n",
    "    features['mel1'] = np.array(features['mel1'])\n",
    "\n",
    "    \n",
    "  \n",
    "    features['cqt1'] = []\n",
    "    for i in range(len(recordings)) :\n",
    "        if use_cqt :\n",
    "            mel1 = feature_extract_cqt(recordings[i], samp_sec=samp_sec, pre_emphasis = pre_emphasis, filter_scale = filter_scale, \n",
    "                                        n_bins = n_bins, fmin = fmin)[0]\n",
    "        else:\n",
    "            mel1 = np.zeros( (1,1,1) )\n",
    "            \n",
    "        features['cqt1'].append(mel1)\n",
    "        \n",
    "    M, N,__ = features['cqt1'][0].shape\n",
    "    \n",
    "    if use_cqt :\n",
    "        for i in range(len(features['cqt1'])) :\n",
    "            features['cqt1'][i] = features['cqt1'][i].reshape(M,N,1)   \n",
    "    \n",
    "    features['cqt1'] = np.array(features['cqt1'])\n",
    "    \n",
    "    \n",
    "    features['stft1'] = []\n",
    "    for i in range(len(recordings)) :\n",
    "        if use_stft :\n",
    "            mel1 = feature_extract_stft(recordings[i]/ 32768, samp_sec=samp_sec, pre_emphasis = pre_emphasis, hop_length=hop_length, \n",
    "                                        win_length = win_length)[0]\n",
    "        else :\n",
    "            mel1 = np.zeros( (1,1,1) )\n",
    "        \n",
    "        features['stft1'].append(mel1)\n",
    "        \n",
    "    M, N,__ = features['stft1'][0].shape\n",
    "    if use_stft :\n",
    "        for i in range(len(features['stft1'])) :\n",
    "            features['stft1'][i] = features['stft1'][i].reshape(M,N,1)           \n",
    "    features['stft1'] = np.array(features['stft1'])\n",
    "    \n",
    "#     return features       \n",
    "\n",
    "    #    print(features)\n",
    "    # Impute missing data.\n",
    "    res1 = model1.predict([features['age'], features['sex'], features['hw'], features['preg'], \n",
    "                           features['loc'], features['interval'],features['wav2'],features['mel1'], features['stft1'], features['cqt1']])\n",
    "    res2 = model2.predict([features['age'], features['sex'], features['hw'], features['preg'], \n",
    "                           features['loc'], features['interval'],features['wav2'],features['mel1'], features['stft1'], features['cqt1']])\n",
    "    if model['ord1'] :\n",
    "        idx1 = res1.argmax(axis=0)[0]\n",
    "        murmur_p = res1[idx1,]  ## mumur 확률 최대화 되는 애 뽑기\n",
    "        murmur_probabilities = np.zeros((3,))\n",
    "        murmur_probabilities[0] = murmur_p[0]\n",
    "        murmur_probabilities[1] = 0\n",
    "        murmur_probabilities[2] = murmur_p[1]\n",
    "        outcome_probabilities = res2.mean(axis = 0) ##  outcome 은 그냥 평균으로 뽑기\n",
    "    else :\n",
    "        if model['mm_mean'] :\n",
    "            murmur_probabilities = res1.mean(axis = 0)\n",
    "        else :\n",
    "            idx1 = res1.argmax(axis=0)[0]\n",
    "            murmur_probabilities = res1[idx1,]  ## mumur 확률 최대화 되는 애 뽑기\n",
    "        outcome_probabilities = res2.mean(axis = 0) ##  outcome 은 그냥 평균으로 뽑기\n",
    "\n",
    "        \n",
    "    murmur_labels = np.zeros(len(murmur_classes), dtype=np.int_)\n",
    "    \n",
    "    \n",
    "    if murmur_probabilities[0] > 0.482 :\n",
    "        idx = 0\n",
    "    else :\n",
    "        idx = 2\n",
    "    murmur_labels[idx] = 1\n",
    "\n",
    "    outcome_labels = np.zeros(len(outcome_classes), dtype=np.int_)\n",
    "    if outcome_probabilities[0] > 0.607 :\n",
    "        idx = 0\n",
    "    else :\n",
    "        idx = 1    \n",
    "        # idx = np.argmax(outcome_probabilities)\n",
    "    outcome_labels[idx] = 1\n",
    "    \n",
    "    # Concatenate classes, labels, and probabilities.\n",
    "    classes = murmur_classes + outcome_classes\n",
    "    labels = np.concatenate((murmur_labels, outcome_labels))\n",
    "    probabilities = np.concatenate((murmur_probabilities, outcome_probabilities))\n",
    "    \n",
    "    return classes, labels, probabilities"
   ]
  },
  {
   "cell_type": "code",
   "execution_count": 51,
   "id": "b5eecd4a",
   "metadata": {
    "scrolled": true
   },
   "outputs": [
    {
     "data": {
      "text/plain": [
       "'lcnn2'"
      ]
     },
     "execution_count": 51,
     "metadata": {},
     "output_type": "execute_result"
    }
   ],
   "source": [
    "model_folder"
   ]
  },
  {
   "cell_type": "code",
   "execution_count": 52,
   "id": "cd5b523f",
   "metadata": {},
   "outputs": [],
   "source": [
    "data_folder = test_folder"
   ]
  },
  {
   "cell_type": "code",
   "execution_count": 53,
   "id": "1f523ff0",
   "metadata": {},
   "outputs": [
    {
     "data": {
      "text/plain": [
       "'/home/jk21/Downloads/Data/data/murmur/test'"
      ]
     },
     "execution_count": 53,
     "metadata": {},
     "output_type": "execute_result"
    }
   ],
   "source": [
    "data_folder"
   ]
  },
  {
   "cell_type": "code",
   "execution_count": 54,
   "id": "c67ffdf6",
   "metadata": {},
   "outputs": [],
   "source": [
    "output_folder ='/home/jk21/Documents/hmd/jk_classifier/out_lcnn2'"
   ]
  },
  {
   "cell_type": "code",
   "execution_count": 55,
   "id": "89e8d650",
   "metadata": {},
   "outputs": [],
   "source": [
    "allow_failures=True"
   ]
  },
  {
   "cell_type": "code",
   "execution_count": 56,
   "id": "bccc27ef",
   "metadata": {},
   "outputs": [],
   "source": [
    "verbose=1"
   ]
  },
  {
   "cell_type": "code",
   "execution_count": null,
   "id": "101c582c",
   "metadata": {},
   "outputs": [],
   "source": []
  },
  {
   "cell_type": "code",
   "execution_count": 57,
   "id": "73579324",
   "metadata": {},
   "outputs": [],
   "source": [
    "model = load_challenge_model(model_folder, verbose)"
   ]
  },
  {
   "cell_type": "code",
   "execution_count": 58,
   "id": "20a7edc2",
   "metadata": {},
   "outputs": [],
   "source": [
    "patient_files = find_patient_files(data_folder)"
   ]
  },
  {
   "cell_type": "code",
   "execution_count": 59,
   "id": "450b3026",
   "metadata": {},
   "outputs": [],
   "source": [
    "num_patient_files = len(patient_files)"
   ]
  },
  {
   "cell_type": "code",
   "execution_count": 60,
   "id": "2ed2bb8f",
   "metadata": {},
   "outputs": [],
   "source": [
    "patient_data = load_patient_data(patient_files[0])"
   ]
  },
  {
   "cell_type": "code",
   "execution_count": 61,
   "id": "18f0a77e",
   "metadata": {},
   "outputs": [
    {
     "data": {
      "text/plain": [
       "'33151 4 4000\\nAV 33151_AV.hea 33151_AV.wav 33151_AV.tsv\\nPV 33151_PV.hea 33151_PV.wav 33151_PV.tsv\\nTV 33151_TV.hea 33151_TV.wav 33151_TV.tsv\\nMV 33151_MV.hea 33151_MV.wav 33151_MV.tsv\\n#Age: Child\\n#Sex: Female\\n#Height: 141.0\\n#Weight: 30.9\\n#Pregnancy status: False\\n#Murmur: Present\\n#Murmur locations: MV+TV\\n#Most audible location: TV\\n#Systolic murmur timing: Holosystolic\\n#Systolic murmur shape: Plateau\\n#Systolic murmur grading: I/VI\\n#Systolic murmur pitch: Low\\n#Systolic murmur quality: Harsh\\n#Diastolic murmur timing: nan\\n#Diastolic murmur shape: nan\\n#Diastolic murmur grading: nan\\n#Diastolic murmur pitch: nan\\n#Diastolic murmur quality: nan\\n#Outcome: Abnormal\\n#Campaign: CC2015\\n#Additional ID: nan\\n'"
      ]
     },
     "execution_count": 61,
     "metadata": {},
     "output_type": "execute_result"
    }
   ],
   "source": [
    "patient_data"
   ]
  },
  {
   "cell_type": "code",
   "execution_count": 62,
   "id": "f039e162",
   "metadata": {},
   "outputs": [],
   "source": [
    "recordings = load_recordings(data_folder, patient_data)"
   ]
  },
  {
   "cell_type": "code",
   "execution_count": 63,
   "id": "d3acd534",
   "metadata": {
    "scrolled": true
   },
   "outputs": [
    {
     "name": "stderr",
     "output_type": "stream",
     "text": [
      "100%|█████████████████████████████████████████████| 4/4 [00:00<00:00,  8.96it/s]\n"
     ]
    }
   ],
   "source": [
    "classes, labels, probabilities = run_challenge_model(model, patient_data, recordings, verbose)"
   ]
  },
  {
   "cell_type": "code",
   "execution_count": 64,
   "id": "9bb40d85",
   "metadata": {},
   "outputs": [
    {
     "data": {
      "text/plain": [
       "array([0.83421528, 0.        , 0.16578473, 0.79729801, 0.20270196])"
      ]
     },
     "execution_count": 64,
     "metadata": {},
     "output_type": "execute_result"
    }
   ],
   "source": [
    "probabilities"
   ]
  },
  {
   "cell_type": "code",
   "execution_count": 65,
   "id": "970b87e5",
   "metadata": {},
   "outputs": [
    {
     "data": {
      "text/plain": [
       "['Present', 'Unknown', 'Absent', 'Abnormal', 'Normal']"
      ]
     },
     "execution_count": 65,
     "metadata": {},
     "output_type": "execute_result"
    }
   ],
   "source": [
    "classes"
   ]
  },
  {
   "cell_type": "code",
   "execution_count": 66,
   "id": "b6a44c38",
   "metadata": {},
   "outputs": [],
   "source": [
    "# Run model.\n",
    "def run_model(model_folder, data_folder, output_folder, allow_failures, verbose=1):\n",
    "    # Load models.\n",
    "    if verbose >= 1:\n",
    "        print('Loading Challenge model...')\n",
    "\n",
    "    model = load_challenge_model(model_folder, verbose) ### Teams: Implement this function!!!\n",
    "\n",
    "    # Find the patient data files.\n",
    "    patient_files = find_patient_files(data_folder)\n",
    "    num_patient_files = len(patient_files)\n",
    "\n",
    "    if num_patient_files==0:\n",
    "        raise Exception('No data was provided.')\n",
    "\n",
    "    # Create a folder for the Challenge outputs if it does not already exist.\n",
    "    os.makedirs(output_folder, exist_ok=True)\n",
    "\n",
    "    # Run the team's model on the Challenge data.\n",
    "    if verbose >= 1:\n",
    "        print('Running model on Challenge data...')\n",
    "\n",
    "    # Iterate over the patient files.\n",
    "    for i in range(num_patient_files):\n",
    "        if verbose >= 2:\n",
    "            print('    {}/{}...'.format(i+1, num_patient_files))\n",
    "\n",
    "        patient_data = load_patient_data(patient_files[i])\n",
    "        recordings = load_recordings(data_folder, patient_data)\n",
    "\n",
    "        # Allow or disallow the model to fail on parts of the data; helpful for debugging.\n",
    "        try:\n",
    "            classes, labels, probabilities = run_challenge_model(model, patient_data, recordings, verbose) ### Teams: Implement this function!!!\n",
    "        except:\n",
    "            if allow_failures:\n",
    "                if verbose >= 2:\n",
    "                    print('... failed.')\n",
    "                classes, labels, probabilities = list(), list(), list()\n",
    "            else:\n",
    "                raise\n",
    "\n",
    "        # Save Challenge outputs.\n",
    "        head, tail = os.path.split(patient_files[i])\n",
    "        root, extension = os.path.splitext(tail)\n",
    "        output_file = os.path.join(output_folder, root + '.csv')\n",
    "        patient_id = get_patient_id(patient_data)\n",
    "        save_challenge_outputs(output_file, patient_id, classes, labels, probabilities)\n",
    "\n",
    "    if verbose >= 1:\n",
    "        print('Done.')"
   ]
  },
  {
   "cell_type": "code",
   "execution_count": 67,
   "id": "7fe188c6",
   "metadata": {},
   "outputs": [
    {
     "data": {
      "text/plain": [
       "'/home/jk21/Downloads/Data/data/murmur/test'"
      ]
     },
     "execution_count": 67,
     "metadata": {},
     "output_type": "execute_result"
    }
   ],
   "source": [
    "test_folder"
   ]
  },
  {
   "cell_type": "code",
   "execution_count": 68,
   "id": "38ee9f70",
   "metadata": {},
   "outputs": [],
   "source": [
    "output_folder = '/home/jk21/Documents/hmd/jk_classifier/out_lcnn2'"
   ]
  },
  {
   "cell_type": "code",
   "execution_count": 69,
   "id": "9a8580ab",
   "metadata": {},
   "outputs": [
    {
     "data": {
      "text/plain": [
       "'lcnn2'"
      ]
     },
     "execution_count": 69,
     "metadata": {},
     "output_type": "execute_result"
    }
   ],
   "source": [
    "model_folder"
   ]
  },
  {
   "cell_type": "code",
   "execution_count": 70,
   "id": "d4be81f7",
   "metadata": {},
   "outputs": [
    {
     "name": "stdout",
     "output_type": "stream",
     "text": [
      "Loading Challenge model...\n",
      "Running model on Challenge data...\n",
      "    1/191...\n"
     ]
    },
    {
     "name": "stderr",
     "output_type": "stream",
     "text": [
      "100%|█████████████████████████████████████████████| 4/4 [00:00<00:00,  8.90it/s]\n"
     ]
    },
    {
     "name": "stdout",
     "output_type": "stream",
     "text": [
      "    2/191...\n"
     ]
    },
    {
     "name": "stderr",
     "output_type": "stream",
     "text": [
      "100%|█████████████████████████████████████████████| 2/2 [00:00<00:00,  7.97it/s]\n"
     ]
    },
    {
     "name": "stdout",
     "output_type": "stream",
     "text": [
      "    3/191...\n"
     ]
    },
    {
     "name": "stderr",
     "output_type": "stream",
     "text": [
      "100%|█████████████████████████████████████████████| 4/4 [00:00<00:00,  6.31it/s]\n"
     ]
    },
    {
     "name": "stdout",
     "output_type": "stream",
     "text": [
      "WARNING:tensorflow:5 out of the last 7 calls to <function Model.make_predict_function.<locals>.predict_function at 0x7f1c9c522ee0> triggered tf.function retracing. Tracing is expensive and the excessive number of tracings could be due to (1) creating @tf.function repeatedly in a loop, (2) passing tensors with different shapes, (3) passing Python objects instead of tensors. For (1), please define your @tf.function outside of the loop. For (2), @tf.function has experimental_relax_shapes=True option that relaxes argument shapes that can avoid unnecessary retracing. For (3), please refer to https://www.tensorflow.org/guide/function#controlling_retracing and https://www.tensorflow.org/api_docs/python/tf/function for  more details.\n",
      "    4/191...\n"
     ]
    },
    {
     "name": "stderr",
     "output_type": "stream",
     "text": [
      "100%|█████████████████████████████████████████████| 2/2 [00:00<00:00,  4.53it/s]\n"
     ]
    },
    {
     "name": "stdout",
     "output_type": "stream",
     "text": [
      "WARNING:tensorflow:6 out of the last 9 calls to <function Model.make_predict_function.<locals>.predict_function at 0x7f18ce2d5040> triggered tf.function retracing. Tracing is expensive and the excessive number of tracings could be due to (1) creating @tf.function repeatedly in a loop, (2) passing tensors with different shapes, (3) passing Python objects instead of tensors. For (1), please define your @tf.function outside of the loop. For (2), @tf.function has experimental_relax_shapes=True option that relaxes argument shapes that can avoid unnecessary retracing. For (3), please refer to https://www.tensorflow.org/guide/function#controlling_retracing and https://www.tensorflow.org/api_docs/python/tf/function for  more details.\n",
      "    5/191...\n"
     ]
    },
    {
     "name": "stderr",
     "output_type": "stream",
     "text": [
      "100%|█████████████████████████████████████████████| 3/3 [00:00<00:00,  5.33it/s]\n"
     ]
    },
    {
     "name": "stdout",
     "output_type": "stream",
     "text": [
      "    6/191...\n"
     ]
    },
    {
     "name": "stderr",
     "output_type": "stream",
     "text": [
      "100%|█████████████████████████████████████████████| 1/1 [00:00<00:00,  3.07it/s]\n"
     ]
    },
    {
     "name": "stdout",
     "output_type": "stream",
     "text": [
      "    7/191...\n"
     ]
    },
    {
     "name": "stderr",
     "output_type": "stream",
     "text": [
      "100%|█████████████████████████████████████████████| 4/4 [00:00<00:00,  4.86it/s]\n"
     ]
    },
    {
     "name": "stdout",
     "output_type": "stream",
     "text": [
      "    8/191...\n"
     ]
    },
    {
     "name": "stderr",
     "output_type": "stream",
     "text": [
      "100%|█████████████████████████████████████████████| 4/4 [00:00<00:00, 10.19it/s]\n"
     ]
    },
    {
     "name": "stdout",
     "output_type": "stream",
     "text": [
      "    9/191...\n"
     ]
    },
    {
     "name": "stderr",
     "output_type": "stream",
     "text": [
      "100%|█████████████████████████████████████████████| 4/4 [00:00<00:00,  4.62it/s]\n"
     ]
    },
    {
     "name": "stdout",
     "output_type": "stream",
     "text": [
      "    10/191...\n"
     ]
    },
    {
     "name": "stderr",
     "output_type": "stream",
     "text": [
      "100%|█████████████████████████████████████████████| 4/4 [00:00<00:00,  4.93it/s]\n"
     ]
    },
    {
     "name": "stdout",
     "output_type": "stream",
     "text": [
      "    11/191...\n"
     ]
    },
    {
     "name": "stderr",
     "output_type": "stream",
     "text": [
      "100%|█████████████████████████████████████████████| 4/4 [00:00<00:00,  4.68it/s]\n"
     ]
    },
    {
     "name": "stdout",
     "output_type": "stream",
     "text": [
      "    12/191...\n"
     ]
    },
    {
     "name": "stderr",
     "output_type": "stream",
     "text": [
      "100%|█████████████████████████████████████████████| 2/2 [00:00<00:00,  4.64it/s]\n"
     ]
    },
    {
     "name": "stdout",
     "output_type": "stream",
     "text": [
      "    13/191...\n"
     ]
    },
    {
     "name": "stderr",
     "output_type": "stream",
     "text": [
      "100%|█████████████████████████████████████████████| 3/3 [00:00<00:00,  6.73it/s]\n"
     ]
    },
    {
     "name": "stdout",
     "output_type": "stream",
     "text": [
      "    14/191...\n"
     ]
    },
    {
     "name": "stderr",
     "output_type": "stream",
     "text": [
      "100%|█████████████████████████████████████████████| 4/4 [00:00<00:00,  5.04it/s]\n"
     ]
    },
    {
     "name": "stdout",
     "output_type": "stream",
     "text": [
      "    15/191...\n"
     ]
    },
    {
     "name": "stderr",
     "output_type": "stream",
     "text": [
      "100%|█████████████████████████████████████████████| 2/2 [00:00<00:00,  4.80it/s]\n"
     ]
    },
    {
     "name": "stdout",
     "output_type": "stream",
     "text": [
      "    16/191...\n"
     ]
    },
    {
     "name": "stderr",
     "output_type": "stream",
     "text": [
      "100%|█████████████████████████████████████████████| 4/4 [00:00<00:00,  5.80it/s]\n"
     ]
    },
    {
     "name": "stdout",
     "output_type": "stream",
     "text": [
      "    17/191...\n"
     ]
    },
    {
     "name": "stderr",
     "output_type": "stream",
     "text": [
      "100%|█████████████████████████████████████████████| 5/5 [00:00<00:00,  8.23it/s]\n"
     ]
    },
    {
     "name": "stdout",
     "output_type": "stream",
     "text": [
      "    18/191...\n"
     ]
    },
    {
     "name": "stderr",
     "output_type": "stream",
     "text": [
      "100%|█████████████████████████████████████████████| 1/1 [00:00<00:00,  9.87it/s]\n"
     ]
    },
    {
     "name": "stdout",
     "output_type": "stream",
     "text": [
      "    19/191...\n"
     ]
    },
    {
     "name": "stderr",
     "output_type": "stream",
     "text": [
      "100%|█████████████████████████████████████████████| 4/4 [00:00<00:00,  8.19it/s]\n"
     ]
    },
    {
     "name": "stdout",
     "output_type": "stream",
     "text": [
      "    20/191...\n"
     ]
    },
    {
     "name": "stderr",
     "output_type": "stream",
     "text": [
      "100%|█████████████████████████████████████████████| 4/4 [00:00<00:00,  9.61it/s]\n"
     ]
    },
    {
     "name": "stdout",
     "output_type": "stream",
     "text": [
      "    21/191...\n"
     ]
    },
    {
     "name": "stderr",
     "output_type": "stream",
     "text": [
      "100%|█████████████████████████████████████████████| 2/2 [00:00<00:00,  4.35it/s]\n"
     ]
    },
    {
     "name": "stdout",
     "output_type": "stream",
     "text": [
      "    22/191...\n"
     ]
    },
    {
     "name": "stderr",
     "output_type": "stream",
     "text": [
      "100%|█████████████████████████████████████████████| 1/1 [00:00<00:00,  5.86it/s]\n"
     ]
    },
    {
     "name": "stdout",
     "output_type": "stream",
     "text": [
      "    23/191...\n"
     ]
    },
    {
     "name": "stderr",
     "output_type": "stream",
     "text": [
      "100%|█████████████████████████████████████████████| 2/2 [00:00<00:00,  5.42it/s]\n"
     ]
    },
    {
     "name": "stdout",
     "output_type": "stream",
     "text": [
      "    24/191...\n"
     ]
    },
    {
     "name": "stderr",
     "output_type": "stream",
     "text": [
      "100%|█████████████████████████████████████████████| 3/3 [00:00<00:00,  4.86it/s]\n"
     ]
    },
    {
     "name": "stdout",
     "output_type": "stream",
     "text": [
      "    25/191...\n"
     ]
    },
    {
     "name": "stderr",
     "output_type": "stream",
     "text": [
      "100%|█████████████████████████████████████████████| 4/4 [00:00<00:00,  5.78it/s]\n"
     ]
    },
    {
     "name": "stdout",
     "output_type": "stream",
     "text": [
      "    26/191...\n"
     ]
    },
    {
     "name": "stderr",
     "output_type": "stream",
     "text": [
      "100%|█████████████████████████████████████████████| 3/3 [00:00<00:00,  4.81it/s]\n"
     ]
    },
    {
     "name": "stdout",
     "output_type": "stream",
     "text": [
      "    27/191...\n"
     ]
    },
    {
     "name": "stderr",
     "output_type": "stream",
     "text": [
      "100%|█████████████████████████████████████████████| 2/2 [00:00<00:00,  4.25it/s]\n"
     ]
    },
    {
     "name": "stdout",
     "output_type": "stream",
     "text": [
      "    28/191...\n"
     ]
    },
    {
     "name": "stderr",
     "output_type": "stream",
     "text": [
      "100%|█████████████████████████████████████████████| 3/3 [00:00<00:00,  5.47it/s]\n"
     ]
    },
    {
     "name": "stdout",
     "output_type": "stream",
     "text": [
      "    29/191...\n"
     ]
    },
    {
     "name": "stderr",
     "output_type": "stream",
     "text": [
      "100%|█████████████████████████████████████████████| 3/3 [00:00<00:00,  4.82it/s]\n"
     ]
    },
    {
     "name": "stdout",
     "output_type": "stream",
     "text": [
      "    30/191...\n"
     ]
    },
    {
     "name": "stderr",
     "output_type": "stream",
     "text": [
      "100%|█████████████████████████████████████████████| 4/4 [00:00<00:00,  5.30it/s]\n"
     ]
    },
    {
     "name": "stdout",
     "output_type": "stream",
     "text": [
      "    31/191...\n"
     ]
    },
    {
     "name": "stderr",
     "output_type": "stream",
     "text": [
      "100%|█████████████████████████████████████████████| 3/3 [00:00<00:00,  5.70it/s]\n"
     ]
    },
    {
     "name": "stdout",
     "output_type": "stream",
     "text": [
      "    32/191...\n"
     ]
    },
    {
     "name": "stderr",
     "output_type": "stream",
     "text": [
      "100%|█████████████████████████████████████████████| 2/2 [00:00<00:00,  5.52it/s]\n"
     ]
    },
    {
     "name": "stdout",
     "output_type": "stream",
     "text": [
      "    33/191...\n"
     ]
    },
    {
     "name": "stderr",
     "output_type": "stream",
     "text": [
      "100%|█████████████████████████████████████████████| 1/1 [00:00<00:00,  4.40it/s]\n"
     ]
    },
    {
     "name": "stdout",
     "output_type": "stream",
     "text": [
      "    34/191...\n"
     ]
    },
    {
     "name": "stderr",
     "output_type": "stream",
     "text": [
      "100%|█████████████████████████████████████████████| 3/3 [00:00<00:00,  4.76it/s]\n"
     ]
    },
    {
     "name": "stdout",
     "output_type": "stream",
     "text": [
      "    35/191...\n"
     ]
    },
    {
     "name": "stderr",
     "output_type": "stream",
     "text": [
      "100%|█████████████████████████████████████████████| 3/3 [00:00<00:00,  4.52it/s]\n"
     ]
    },
    {
     "name": "stdout",
     "output_type": "stream",
     "text": [
      "    36/191...\n"
     ]
    },
    {
     "name": "stderr",
     "output_type": "stream",
     "text": [
      "100%|█████████████████████████████████████████████| 3/3 [00:00<00:00,  6.45it/s]\n"
     ]
    },
    {
     "name": "stdout",
     "output_type": "stream",
     "text": [
      "    37/191...\n"
     ]
    },
    {
     "name": "stderr",
     "output_type": "stream",
     "text": [
      "100%|█████████████████████████████████████████████| 3/3 [00:00<00:00,  8.50it/s]\n"
     ]
    },
    {
     "name": "stdout",
     "output_type": "stream",
     "text": [
      "    38/191...\n"
     ]
    },
    {
     "name": "stderr",
     "output_type": "stream",
     "text": [
      "100%|█████████████████████████████████████████████| 5/5 [00:00<00:00,  5.49it/s]\n"
     ]
    },
    {
     "name": "stdout",
     "output_type": "stream",
     "text": [
      "    39/191...\n"
     ]
    },
    {
     "name": "stderr",
     "output_type": "stream",
     "text": [
      "100%|█████████████████████████████████████████████| 4/4 [00:00<00:00,  4.82it/s]\n"
     ]
    },
    {
     "name": "stdout",
     "output_type": "stream",
     "text": [
      "    40/191...\n"
     ]
    },
    {
     "name": "stderr",
     "output_type": "stream",
     "text": [
      "100%|█████████████████████████████████████████████| 2/2 [00:00<00:00,  4.41it/s]\n"
     ]
    },
    {
     "name": "stdout",
     "output_type": "stream",
     "text": [
      "    41/191...\n"
     ]
    },
    {
     "name": "stderr",
     "output_type": "stream",
     "text": [
      "100%|█████████████████████████████████████████████| 4/4 [00:00<00:00,  6.97it/s]\n"
     ]
    },
    {
     "name": "stdout",
     "output_type": "stream",
     "text": [
      "    42/191...\n"
     ]
    },
    {
     "name": "stderr",
     "output_type": "stream",
     "text": [
      "100%|█████████████████████████████████████████████| 3/3 [00:00<00:00,  5.12it/s]\n"
     ]
    },
    {
     "name": "stdout",
     "output_type": "stream",
     "text": [
      "    43/191...\n"
     ]
    },
    {
     "name": "stderr",
     "output_type": "stream",
     "text": [
      "100%|█████████████████████████████████████████████| 3/3 [00:00<00:00,  6.53it/s]\n"
     ]
    },
    {
     "name": "stdout",
     "output_type": "stream",
     "text": [
      "    44/191...\n"
     ]
    },
    {
     "name": "stderr",
     "output_type": "stream",
     "text": [
      "100%|█████████████████████████████████████████████| 2/2 [00:00<00:00,  3.99it/s]\n"
     ]
    },
    {
     "name": "stdout",
     "output_type": "stream",
     "text": [
      "    45/191...\n"
     ]
    },
    {
     "name": "stderr",
     "output_type": "stream",
     "text": [
      "100%|█████████████████████████████████████████████| 4/4 [00:00<00:00,  4.66it/s]\n"
     ]
    },
    {
     "name": "stdout",
     "output_type": "stream",
     "text": [
      "    46/191...\n"
     ]
    },
    {
     "name": "stderr",
     "output_type": "stream",
     "text": [
      "100%|█████████████████████████████████████████████| 4/4 [00:00<00:00,  4.88it/s]\n"
     ]
    },
    {
     "name": "stdout",
     "output_type": "stream",
     "text": [
      "    47/191...\n"
     ]
    },
    {
     "name": "stderr",
     "output_type": "stream",
     "text": [
      "100%|█████████████████████████████████████████████| 4/4 [00:00<00:00,  4.98it/s]\n"
     ]
    },
    {
     "name": "stdout",
     "output_type": "stream",
     "text": [
      "    48/191...\n"
     ]
    },
    {
     "name": "stderr",
     "output_type": "stream",
     "text": [
      "100%|█████████████████████████████████████████████| 4/4 [00:00<00:00,  4.72it/s]\n"
     ]
    },
    {
     "name": "stdout",
     "output_type": "stream",
     "text": [
      "    49/191...\n"
     ]
    },
    {
     "name": "stderr",
     "output_type": "stream",
     "text": [
      "100%|█████████████████████████████████████████████| 2/2 [00:00<00:00,  4.52it/s]\n"
     ]
    },
    {
     "name": "stdout",
     "output_type": "stream",
     "text": [
      "    50/191...\n"
     ]
    },
    {
     "name": "stderr",
     "output_type": "stream",
     "text": [
      "100%|█████████████████████████████████████████████| 2/2 [00:00<00:00,  4.98it/s]\n"
     ]
    },
    {
     "name": "stdout",
     "output_type": "stream",
     "text": [
      "    51/191...\n"
     ]
    },
    {
     "name": "stderr",
     "output_type": "stream",
     "text": [
      "100%|█████████████████████████████████████████████| 2/2 [00:00<00:00,  6.66it/s]\n"
     ]
    },
    {
     "name": "stdout",
     "output_type": "stream",
     "text": [
      "    52/191...\n"
     ]
    },
    {
     "name": "stderr",
     "output_type": "stream",
     "text": [
      "100%|█████████████████████████████████████████████| 5/5 [00:00<00:00,  6.16it/s]\n"
     ]
    },
    {
     "name": "stdout",
     "output_type": "stream",
     "text": [
      "    53/191...\n"
     ]
    },
    {
     "name": "stderr",
     "output_type": "stream",
     "text": [
      "100%|█████████████████████████████████████████████| 2/2 [00:00<00:00,  4.52it/s]\n"
     ]
    },
    {
     "name": "stdout",
     "output_type": "stream",
     "text": [
      "    54/191...\n"
     ]
    },
    {
     "name": "stderr",
     "output_type": "stream",
     "text": [
      "100%|█████████████████████████████████████████████| 4/4 [00:00<00:00,  4.56it/s]\n"
     ]
    },
    {
     "name": "stdout",
     "output_type": "stream",
     "text": [
      "    55/191...\n"
     ]
    },
    {
     "name": "stderr",
     "output_type": "stream",
     "text": [
      "100%|█████████████████████████████████████████████| 4/4 [00:00<00:00,  4.96it/s]\n"
     ]
    },
    {
     "name": "stdout",
     "output_type": "stream",
     "text": [
      "    56/191...\n"
     ]
    },
    {
     "name": "stderr",
     "output_type": "stream",
     "text": [
      "100%|█████████████████████████████████████████████| 4/4 [00:00<00:00,  4.87it/s]\n"
     ]
    },
    {
     "name": "stdout",
     "output_type": "stream",
     "text": [
      "    57/191...\n"
     ]
    },
    {
     "name": "stderr",
     "output_type": "stream",
     "text": [
      "100%|█████████████████████████████████████████████| 2/2 [00:00<00:00,  4.33it/s]\n"
     ]
    },
    {
     "name": "stdout",
     "output_type": "stream",
     "text": [
      "    58/191...\n"
     ]
    },
    {
     "name": "stderr",
     "output_type": "stream",
     "text": [
      "100%|█████████████████████████████████████████████| 1/1 [00:00<00:00,  3.93it/s]\n"
     ]
    },
    {
     "name": "stdout",
     "output_type": "stream",
     "text": [
      "    59/191...\n"
     ]
    },
    {
     "name": "stderr",
     "output_type": "stream",
     "text": [
      "100%|█████████████████████████████████████████████| 3/3 [00:00<00:00,  4.66it/s]\n"
     ]
    },
    {
     "name": "stdout",
     "output_type": "stream",
     "text": [
      "    60/191...\n"
     ]
    },
    {
     "name": "stderr",
     "output_type": "stream",
     "text": [
      "100%|█████████████████████████████████████████████| 2/2 [00:00<00:00,  4.88it/s]\n"
     ]
    },
    {
     "name": "stdout",
     "output_type": "stream",
     "text": [
      "    61/191...\n"
     ]
    },
    {
     "name": "stderr",
     "output_type": "stream",
     "text": [
      "100%|█████████████████████████████████████████████| 2/2 [00:00<00:00,  5.08it/s]\n"
     ]
    },
    {
     "name": "stdout",
     "output_type": "stream",
     "text": [
      "    62/191...\n"
     ]
    },
    {
     "name": "stderr",
     "output_type": "stream",
     "text": [
      "100%|█████████████████████████████████████████████| 5/5 [00:01<00:00,  4.68it/s]\n"
     ]
    },
    {
     "name": "stdout",
     "output_type": "stream",
     "text": [
      "    63/191...\n"
     ]
    },
    {
     "name": "stderr",
     "output_type": "stream",
     "text": [
      "100%|█████████████████████████████████████████████| 4/4 [00:00<00:00,  4.67it/s]\n"
     ]
    },
    {
     "name": "stdout",
     "output_type": "stream",
     "text": [
      "    64/191...\n"
     ]
    },
    {
     "name": "stderr",
     "output_type": "stream",
     "text": [
      "100%|█████████████████████████████████████████████| 2/2 [00:00<00:00,  4.59it/s]\n"
     ]
    },
    {
     "name": "stdout",
     "output_type": "stream",
     "text": [
      "    65/191...\n"
     ]
    },
    {
     "name": "stderr",
     "output_type": "stream",
     "text": [
      "100%|█████████████████████████████████████████████| 1/1 [00:00<00:00,  6.26it/s]\n"
     ]
    },
    {
     "name": "stdout",
     "output_type": "stream",
     "text": [
      "    66/191...\n"
     ]
    },
    {
     "name": "stderr",
     "output_type": "stream",
     "text": [
      "100%|█████████████████████████████████████████████| 3/3 [00:00<00:00,  4.55it/s]\n"
     ]
    },
    {
     "name": "stdout",
     "output_type": "stream",
     "text": [
      "    67/191...\n"
     ]
    },
    {
     "name": "stderr",
     "output_type": "stream",
     "text": [
      "100%|█████████████████████████████████████████████| 4/4 [00:00<00:00,  4.58it/s]\n"
     ]
    },
    {
     "name": "stdout",
     "output_type": "stream",
     "text": [
      "    68/191...\n"
     ]
    },
    {
     "name": "stderr",
     "output_type": "stream",
     "text": [
      "100%|█████████████████████████████████████████████| 4/4 [00:00<00:00,  4.90it/s]\n"
     ]
    },
    {
     "name": "stdout",
     "output_type": "stream",
     "text": [
      "    69/191...\n"
     ]
    },
    {
     "name": "stderr",
     "output_type": "stream",
     "text": [
      "100%|█████████████████████████████████████████████| 4/4 [00:00<00:00,  4.71it/s]\n"
     ]
    },
    {
     "name": "stdout",
     "output_type": "stream",
     "text": [
      "    70/191...\n"
     ]
    },
    {
     "name": "stderr",
     "output_type": "stream",
     "text": [
      "100%|█████████████████████████████████████████████| 5/5 [00:01<00:00,  2.62it/s]\n"
     ]
    },
    {
     "name": "stdout",
     "output_type": "stream",
     "text": [
      "    71/191...\n"
     ]
    },
    {
     "name": "stderr",
     "output_type": "stream",
     "text": [
      "100%|█████████████████████████████████████████████| 3/3 [00:00<00:00,  4.23it/s]\n"
     ]
    },
    {
     "name": "stdout",
     "output_type": "stream",
     "text": [
      "    72/191...\n"
     ]
    },
    {
     "name": "stderr",
     "output_type": "stream",
     "text": [
      "100%|█████████████████████████████████████████████| 4/4 [00:00<00:00,  6.26it/s]\n"
     ]
    },
    {
     "name": "stdout",
     "output_type": "stream",
     "text": [
      "    73/191...\n"
     ]
    },
    {
     "name": "stderr",
     "output_type": "stream",
     "text": [
      "100%|█████████████████████████████████████████████| 4/4 [00:00<00:00,  5.72it/s]\n"
     ]
    },
    {
     "name": "stdout",
     "output_type": "stream",
     "text": [
      "    74/191...\n"
     ]
    },
    {
     "name": "stderr",
     "output_type": "stream",
     "text": [
      "100%|█████████████████████████████████████████████| 4/4 [00:00<00:00,  5.08it/s]\n"
     ]
    },
    {
     "name": "stdout",
     "output_type": "stream",
     "text": [
      "    75/191...\n"
     ]
    },
    {
     "name": "stderr",
     "output_type": "stream",
     "text": [
      "100%|█████████████████████████████████████████████| 3/3 [00:00<00:00,  4.82it/s]\n"
     ]
    },
    {
     "name": "stdout",
     "output_type": "stream",
     "text": [
      "    76/191...\n"
     ]
    },
    {
     "name": "stderr",
     "output_type": "stream",
     "text": [
      "100%|█████████████████████████████████████████████| 4/4 [00:00<00:00,  5.21it/s]\n"
     ]
    },
    {
     "name": "stdout",
     "output_type": "stream",
     "text": [
      "    77/191...\n"
     ]
    },
    {
     "name": "stderr",
     "output_type": "stream",
     "text": [
      "100%|█████████████████████████████████████████████| 4/4 [00:00<00:00,  4.83it/s]\n"
     ]
    },
    {
     "name": "stdout",
     "output_type": "stream",
     "text": [
      "    78/191...\n"
     ]
    },
    {
     "name": "stderr",
     "output_type": "stream",
     "text": [
      "100%|█████████████████████████████████████████████| 4/4 [00:00<00:00,  5.14it/s]\n"
     ]
    },
    {
     "name": "stdout",
     "output_type": "stream",
     "text": [
      "    79/191...\n"
     ]
    },
    {
     "name": "stderr",
     "output_type": "stream",
     "text": [
      "100%|█████████████████████████████████████████████| 1/1 [00:00<00:00,  6.02it/s]\n"
     ]
    },
    {
     "name": "stdout",
     "output_type": "stream",
     "text": [
      "    80/191...\n"
     ]
    },
    {
     "name": "stderr",
     "output_type": "stream",
     "text": [
      "100%|█████████████████████████████████████████████| 2/2 [00:00<00:00,  5.20it/s]\n"
     ]
    },
    {
     "name": "stdout",
     "output_type": "stream",
     "text": [
      "    81/191...\n"
     ]
    },
    {
     "name": "stderr",
     "output_type": "stream",
     "text": [
      "100%|█████████████████████████████████████████████| 4/4 [00:00<00:00, 16.03it/s]\n"
     ]
    },
    {
     "name": "stdout",
     "output_type": "stream",
     "text": [
      "    82/191...\n"
     ]
    },
    {
     "name": "stderr",
     "output_type": "stream",
     "text": [
      "100%|█████████████████████████████████████████████| 4/4 [00:00<00:00,  7.07it/s]\n"
     ]
    },
    {
     "name": "stdout",
     "output_type": "stream",
     "text": [
      "    83/191...\n"
     ]
    },
    {
     "name": "stderr",
     "output_type": "stream",
     "text": [
      "100%|█████████████████████████████████████████████| 4/4 [00:00<00:00,  5.53it/s]\n"
     ]
    },
    {
     "name": "stdout",
     "output_type": "stream",
     "text": [
      "    84/191...\n"
     ]
    },
    {
     "name": "stderr",
     "output_type": "stream",
     "text": [
      "100%|█████████████████████████████████████████████| 4/4 [00:00<00:00,  8.09it/s]\n"
     ]
    },
    {
     "name": "stdout",
     "output_type": "stream",
     "text": [
      "    85/191...\n"
     ]
    },
    {
     "name": "stderr",
     "output_type": "stream",
     "text": [
      "100%|█████████████████████████████████████████████| 1/1 [00:00<00:00,  5.67it/s]\n"
     ]
    },
    {
     "name": "stdout",
     "output_type": "stream",
     "text": [
      "    86/191...\n"
     ]
    },
    {
     "name": "stderr",
     "output_type": "stream",
     "text": [
      "100%|█████████████████████████████████████████████| 3/3 [00:00<00:00,  9.70it/s]\n"
     ]
    },
    {
     "name": "stdout",
     "output_type": "stream",
     "text": [
      "    87/191...\n"
     ]
    },
    {
     "name": "stderr",
     "output_type": "stream",
     "text": [
      "100%|█████████████████████████████████████████████| 4/4 [00:00<00:00,  8.21it/s]\n"
     ]
    },
    {
     "name": "stdout",
     "output_type": "stream",
     "text": [
      "    88/191...\n"
     ]
    },
    {
     "name": "stderr",
     "output_type": "stream",
     "text": [
      "100%|█████████████████████████████████████████████| 4/4 [00:00<00:00, 11.43it/s]\n"
     ]
    },
    {
     "name": "stdout",
     "output_type": "stream",
     "text": [
      "    89/191...\n"
     ]
    },
    {
     "name": "stderr",
     "output_type": "stream",
     "text": [
      "100%|█████████████████████████████████████████████| 4/4 [00:00<00:00,  5.99it/s]\n"
     ]
    },
    {
     "name": "stdout",
     "output_type": "stream",
     "text": [
      "    90/191...\n"
     ]
    },
    {
     "name": "stderr",
     "output_type": "stream",
     "text": [
      "100%|█████████████████████████████████████████████| 2/2 [00:00<00:00,  7.08it/s]\n"
     ]
    },
    {
     "name": "stdout",
     "output_type": "stream",
     "text": [
      "    91/191...\n"
     ]
    },
    {
     "name": "stderr",
     "output_type": "stream",
     "text": [
      "100%|█████████████████████████████████████████████| 4/4 [00:00<00:00,  7.47it/s]\n"
     ]
    },
    {
     "name": "stdout",
     "output_type": "stream",
     "text": [
      "    92/191...\n"
     ]
    },
    {
     "name": "stderr",
     "output_type": "stream",
     "text": [
      "100%|█████████████████████████████████████████████| 3/3 [00:00<00:00,  7.22it/s]\n"
     ]
    },
    {
     "name": "stdout",
     "output_type": "stream",
     "text": [
      "    93/191...\n"
     ]
    },
    {
     "name": "stderr",
     "output_type": "stream",
     "text": [
      "100%|█████████████████████████████████████████████| 4/4 [00:00<00:00,  7.14it/s]\n"
     ]
    },
    {
     "name": "stdout",
     "output_type": "stream",
     "text": [
      "    94/191...\n"
     ]
    },
    {
     "name": "stderr",
     "output_type": "stream",
     "text": [
      "100%|█████████████████████████████████████████████| 4/4 [00:00<00:00, 13.09it/s]\n"
     ]
    },
    {
     "name": "stdout",
     "output_type": "stream",
     "text": [
      "    95/191...\n"
     ]
    },
    {
     "name": "stderr",
     "output_type": "stream",
     "text": [
      "100%|█████████████████████████████████████████████| 4/4 [00:00<00:00,  5.82it/s]\n"
     ]
    },
    {
     "name": "stdout",
     "output_type": "stream",
     "text": [
      "    96/191...\n"
     ]
    },
    {
     "name": "stderr",
     "output_type": "stream",
     "text": [
      "100%|█████████████████████████████████████████████| 4/4 [00:00<00:00, 10.68it/s]\n"
     ]
    },
    {
     "name": "stdout",
     "output_type": "stream",
     "text": [
      "    97/191...\n"
     ]
    },
    {
     "name": "stderr",
     "output_type": "stream",
     "text": [
      "100%|█████████████████████████████████████████████| 4/4 [00:00<00:00, 15.64it/s]\n"
     ]
    },
    {
     "name": "stdout",
     "output_type": "stream",
     "text": [
      "    98/191...\n"
     ]
    },
    {
     "name": "stderr",
     "output_type": "stream",
     "text": [
      "100%|█████████████████████████████████████████████| 4/4 [00:00<00:00,  8.91it/s]\n"
     ]
    },
    {
     "name": "stdout",
     "output_type": "stream",
     "text": [
      "    99/191...\n"
     ]
    },
    {
     "name": "stderr",
     "output_type": "stream",
     "text": [
      "100%|█████████████████████████████████████████████| 4/4 [00:00<00:00,  5.75it/s]\n"
     ]
    },
    {
     "name": "stdout",
     "output_type": "stream",
     "text": [
      "    100/191...\n"
     ]
    },
    {
     "name": "stderr",
     "output_type": "stream",
     "text": [
      "100%|█████████████████████████████████████████████| 3/3 [00:00<00:00,  7.81it/s]\n"
     ]
    },
    {
     "name": "stdout",
     "output_type": "stream",
     "text": [
      "    101/191...\n"
     ]
    },
    {
     "name": "stderr",
     "output_type": "stream",
     "text": [
      "100%|█████████████████████████████████████████████| 4/4 [00:00<00:00,  8.05it/s]\n"
     ]
    },
    {
     "name": "stdout",
     "output_type": "stream",
     "text": [
      "    102/191...\n"
     ]
    },
    {
     "name": "stderr",
     "output_type": "stream",
     "text": [
      "100%|█████████████████████████████████████████████| 4/4 [00:00<00:00,  7.01it/s]\n"
     ]
    },
    {
     "name": "stdout",
     "output_type": "stream",
     "text": [
      "    103/191...\n"
     ]
    },
    {
     "name": "stderr",
     "output_type": "stream",
     "text": [
      "100%|█████████████████████████████████████████████| 4/4 [00:00<00:00,  6.24it/s]\n"
     ]
    },
    {
     "name": "stdout",
     "output_type": "stream",
     "text": [
      "    104/191...\n"
     ]
    },
    {
     "name": "stderr",
     "output_type": "stream",
     "text": [
      "100%|█████████████████████████████████████████████| 4/4 [00:00<00:00, 14.91it/s]\n"
     ]
    },
    {
     "name": "stdout",
     "output_type": "stream",
     "text": [
      "    105/191...\n"
     ]
    },
    {
     "name": "stderr",
     "output_type": "stream",
     "text": [
      "100%|█████████████████████████████████████████████| 4/4 [00:00<00:00,  7.03it/s]\n"
     ]
    },
    {
     "name": "stdout",
     "output_type": "stream",
     "text": [
      "    106/191...\n"
     ]
    },
    {
     "name": "stderr",
     "output_type": "stream",
     "text": [
      "100%|█████████████████████████████████████████████| 4/4 [00:00<00:00,  5.87it/s]\n"
     ]
    },
    {
     "name": "stdout",
     "output_type": "stream",
     "text": [
      "    107/191...\n"
     ]
    },
    {
     "name": "stderr",
     "output_type": "stream",
     "text": [
      "100%|█████████████████████████████████████████████| 4/4 [00:00<00:00,  9.57it/s]\n"
     ]
    },
    {
     "name": "stdout",
     "output_type": "stream",
     "text": [
      "    108/191...\n"
     ]
    },
    {
     "name": "stderr",
     "output_type": "stream",
     "text": [
      "100%|█████████████████████████████████████████████| 2/2 [00:00<00:00,  5.99it/s]\n"
     ]
    },
    {
     "name": "stdout",
     "output_type": "stream",
     "text": [
      "    109/191...\n"
     ]
    },
    {
     "name": "stderr",
     "output_type": "stream",
     "text": [
      "100%|█████████████████████████████████████████████| 4/4 [00:00<00:00,  9.92it/s]\n"
     ]
    },
    {
     "name": "stdout",
     "output_type": "stream",
     "text": [
      "    110/191...\n"
     ]
    },
    {
     "name": "stderr",
     "output_type": "stream",
     "text": [
      "100%|█████████████████████████████████████████████| 4/4 [00:00<00:00, 10.91it/s]\n"
     ]
    },
    {
     "name": "stdout",
     "output_type": "stream",
     "text": [
      "    111/191...\n"
     ]
    },
    {
     "name": "stderr",
     "output_type": "stream",
     "text": [
      "100%|█████████████████████████████████████████████| 4/4 [00:00<00:00,  8.23it/s]\n"
     ]
    },
    {
     "name": "stdout",
     "output_type": "stream",
     "text": [
      "    112/191...\n"
     ]
    },
    {
     "name": "stderr",
     "output_type": "stream",
     "text": [
      "100%|█████████████████████████████████████████████| 1/1 [00:00<00:00,  7.67it/s]\n"
     ]
    },
    {
     "name": "stdout",
     "output_type": "stream",
     "text": [
      "    113/191...\n"
     ]
    },
    {
     "name": "stderr",
     "output_type": "stream",
     "text": [
      "100%|█████████████████████████████████████████████| 4/4 [00:00<00:00, 10.05it/s]\n"
     ]
    },
    {
     "name": "stdout",
     "output_type": "stream",
     "text": [
      "    114/191...\n"
     ]
    },
    {
     "name": "stderr",
     "output_type": "stream",
     "text": [
      "100%|█████████████████████████████████████████████| 2/2 [00:00<00:00,  5.62it/s]\n"
     ]
    },
    {
     "name": "stdout",
     "output_type": "stream",
     "text": [
      "    115/191...\n"
     ]
    },
    {
     "name": "stderr",
     "output_type": "stream",
     "text": [
      "100%|█████████████████████████████████████████████| 4/4 [00:00<00:00, 10.63it/s]\n"
     ]
    },
    {
     "name": "stdout",
     "output_type": "stream",
     "text": [
      "    116/191...\n"
     ]
    },
    {
     "name": "stderr",
     "output_type": "stream",
     "text": [
      "100%|█████████████████████████████████████████████| 1/1 [00:00<00:00, 10.06it/s]\n"
     ]
    },
    {
     "name": "stdout",
     "output_type": "stream",
     "text": [
      "    117/191...\n"
     ]
    },
    {
     "name": "stderr",
     "output_type": "stream",
     "text": [
      "100%|█████████████████████████████████████████████| 4/4 [00:00<00:00,  8.13it/s]\n"
     ]
    },
    {
     "name": "stdout",
     "output_type": "stream",
     "text": [
      "    118/191...\n"
     ]
    },
    {
     "name": "stderr",
     "output_type": "stream",
     "text": [
      "100%|█████████████████████████████████████████████| 4/4 [00:00<00:00,  7.10it/s]\n"
     ]
    },
    {
     "name": "stdout",
     "output_type": "stream",
     "text": [
      "    119/191...\n"
     ]
    },
    {
     "name": "stderr",
     "output_type": "stream",
     "text": [
      "100%|█████████████████████████████████████████████| 4/4 [00:00<00:00,  9.94it/s]\n"
     ]
    },
    {
     "name": "stdout",
     "output_type": "stream",
     "text": [
      "    120/191...\n"
     ]
    },
    {
     "name": "stderr",
     "output_type": "stream",
     "text": [
      "100%|█████████████████████████████████████████████| 4/4 [00:00<00:00,  6.10it/s]\n"
     ]
    },
    {
     "name": "stdout",
     "output_type": "stream",
     "text": [
      "    121/191...\n"
     ]
    },
    {
     "name": "stderr",
     "output_type": "stream",
     "text": [
      "100%|█████████████████████████████████████████████| 3/3 [00:00<00:00,  6.63it/s]\n"
     ]
    },
    {
     "name": "stdout",
     "output_type": "stream",
     "text": [
      "    122/191...\n"
     ]
    },
    {
     "name": "stderr",
     "output_type": "stream",
     "text": [
      "100%|█████████████████████████████████████████████| 4/4 [00:00<00:00, 15.17it/s]\n"
     ]
    },
    {
     "name": "stdout",
     "output_type": "stream",
     "text": [
      "    123/191...\n"
     ]
    },
    {
     "name": "stderr",
     "output_type": "stream",
     "text": [
      "100%|█████████████████████████████████████████████| 2/2 [00:00<00:00,  7.13it/s]\n"
     ]
    },
    {
     "name": "stdout",
     "output_type": "stream",
     "text": [
      "    124/191...\n"
     ]
    },
    {
     "name": "stderr",
     "output_type": "stream",
     "text": [
      "100%|█████████████████████████████████████████████| 4/4 [00:00<00:00,  8.22it/s]\n"
     ]
    },
    {
     "name": "stdout",
     "output_type": "stream",
     "text": [
      "    125/191...\n"
     ]
    },
    {
     "name": "stderr",
     "output_type": "stream",
     "text": [
      "100%|█████████████████████████████████████████████| 4/4 [00:00<00:00,  8.10it/s]\n"
     ]
    },
    {
     "name": "stdout",
     "output_type": "stream",
     "text": [
      "    126/191...\n"
     ]
    },
    {
     "name": "stderr",
     "output_type": "stream",
     "text": [
      "100%|█████████████████████████████████████████████| 4/4 [00:00<00:00,  7.33it/s]\n"
     ]
    },
    {
     "name": "stdout",
     "output_type": "stream",
     "text": [
      "    127/191...\n"
     ]
    },
    {
     "name": "stderr",
     "output_type": "stream",
     "text": [
      "100%|█████████████████████████████████████████████| 2/2 [00:00<00:00, 13.98it/s]\n"
     ]
    },
    {
     "name": "stdout",
     "output_type": "stream",
     "text": [
      "    128/191...\n"
     ]
    },
    {
     "name": "stderr",
     "output_type": "stream",
     "text": [
      "100%|█████████████████████████████████████████████| 4/4 [00:00<00:00,  5.98it/s]\n"
     ]
    },
    {
     "name": "stdout",
     "output_type": "stream",
     "text": [
      "    129/191...\n"
     ]
    },
    {
     "name": "stderr",
     "output_type": "stream",
     "text": [
      "100%|█████████████████████████████████████████████| 3/3 [00:00<00:00,  6.41it/s]\n"
     ]
    },
    {
     "name": "stdout",
     "output_type": "stream",
     "text": [
      "    130/191...\n"
     ]
    },
    {
     "name": "stderr",
     "output_type": "stream",
     "text": [
      "100%|█████████████████████████████████████████████| 4/4 [00:00<00:00,  8.94it/s]\n"
     ]
    },
    {
     "name": "stdout",
     "output_type": "stream",
     "text": [
      "    131/191...\n"
     ]
    },
    {
     "name": "stderr",
     "output_type": "stream",
     "text": [
      "100%|█████████████████████████████████████████████| 2/2 [00:00<00:00,  6.83it/s]\n"
     ]
    },
    {
     "name": "stdout",
     "output_type": "stream",
     "text": [
      "    132/191...\n"
     ]
    },
    {
     "name": "stderr",
     "output_type": "stream",
     "text": [
      "100%|█████████████████████████████████████████████| 4/4 [00:00<00:00,  6.62it/s]\n"
     ]
    },
    {
     "name": "stdout",
     "output_type": "stream",
     "text": [
      "    133/191...\n"
     ]
    },
    {
     "name": "stderr",
     "output_type": "stream",
     "text": [
      "100%|█████████████████████████████████████████████| 4/4 [00:00<00:00, 11.23it/s]\n"
     ]
    },
    {
     "name": "stdout",
     "output_type": "stream",
     "text": [
      "    134/191...\n"
     ]
    },
    {
     "name": "stderr",
     "output_type": "stream",
     "text": [
      "100%|█████████████████████████████████████████████| 4/4 [00:00<00:00,  7.40it/s]\n"
     ]
    },
    {
     "name": "stdout",
     "output_type": "stream",
     "text": [
      "    135/191...\n"
     ]
    },
    {
     "name": "stderr",
     "output_type": "stream",
     "text": [
      "100%|█████████████████████████████████████████████| 2/2 [00:00<00:00,  5.90it/s]\n"
     ]
    },
    {
     "name": "stdout",
     "output_type": "stream",
     "text": [
      "    136/191...\n"
     ]
    },
    {
     "name": "stderr",
     "output_type": "stream",
     "text": [
      "100%|█████████████████████████████████████████████| 4/4 [00:00<00:00,  6.84it/s]\n"
     ]
    },
    {
     "name": "stdout",
     "output_type": "stream",
     "text": [
      "    137/191...\n"
     ]
    },
    {
     "name": "stderr",
     "output_type": "stream",
     "text": [
      "100%|█████████████████████████████████████████████| 2/2 [00:00<00:00,  5.86it/s]\n"
     ]
    },
    {
     "name": "stdout",
     "output_type": "stream",
     "text": [
      "    138/191...\n"
     ]
    },
    {
     "name": "stderr",
     "output_type": "stream",
     "text": [
      "100%|█████████████████████████████████████████████| 4/4 [00:00<00:00,  7.22it/s]\n"
     ]
    },
    {
     "name": "stdout",
     "output_type": "stream",
     "text": [
      "    139/191...\n"
     ]
    },
    {
     "name": "stderr",
     "output_type": "stream",
     "text": [
      "100%|█████████████████████████████████████████████| 4/4 [00:00<00:00, 10.97it/s]\n"
     ]
    },
    {
     "name": "stdout",
     "output_type": "stream",
     "text": [
      "    140/191...\n"
     ]
    },
    {
     "name": "stderr",
     "output_type": "stream",
     "text": [
      "100%|█████████████████████████████████████████████| 4/4 [00:00<00:00, 13.16it/s]\n"
     ]
    },
    {
     "name": "stdout",
     "output_type": "stream",
     "text": [
      "    141/191...\n"
     ]
    },
    {
     "name": "stderr",
     "output_type": "stream",
     "text": [
      "100%|█████████████████████████████████████████████| 4/4 [00:00<00:00,  7.34it/s]\n"
     ]
    },
    {
     "name": "stdout",
     "output_type": "stream",
     "text": [
      "    142/191...\n"
     ]
    },
    {
     "name": "stderr",
     "output_type": "stream",
     "text": [
      "100%|█████████████████████████████████████████████| 3/3 [00:00<00:00,  6.31it/s]\n"
     ]
    },
    {
     "name": "stdout",
     "output_type": "stream",
     "text": [
      "    143/191...\n"
     ]
    },
    {
     "name": "stderr",
     "output_type": "stream",
     "text": [
      "100%|█████████████████████████████████████████████| 4/4 [00:00<00:00,  6.73it/s]\n"
     ]
    },
    {
     "name": "stdout",
     "output_type": "stream",
     "text": [
      "    144/191...\n"
     ]
    },
    {
     "name": "stderr",
     "output_type": "stream",
     "text": [
      "100%|█████████████████████████████████████████████| 4/4 [00:00<00:00,  6.50it/s]\n"
     ]
    },
    {
     "name": "stdout",
     "output_type": "stream",
     "text": [
      "    145/191...\n"
     ]
    },
    {
     "name": "stderr",
     "output_type": "stream",
     "text": [
      "100%|█████████████████████████████████████████████| 4/4 [00:00<00:00,  8.38it/s]\n"
     ]
    },
    {
     "name": "stdout",
     "output_type": "stream",
     "text": [
      "    146/191...\n"
     ]
    },
    {
     "name": "stderr",
     "output_type": "stream",
     "text": [
      "100%|█████████████████████████████████████████████| 4/4 [00:00<00:00,  6.61it/s]\n"
     ]
    },
    {
     "name": "stdout",
     "output_type": "stream",
     "text": [
      "    147/191...\n"
     ]
    },
    {
     "name": "stderr",
     "output_type": "stream",
     "text": [
      "100%|█████████████████████████████████████████████| 4/4 [00:00<00:00,  7.64it/s]\n"
     ]
    },
    {
     "name": "stdout",
     "output_type": "stream",
     "text": [
      "    148/191...\n"
     ]
    },
    {
     "name": "stderr",
     "output_type": "stream",
     "text": [
      "100%|█████████████████████████████████████████████| 4/4 [00:00<00:00, 10.96it/s]\n"
     ]
    },
    {
     "name": "stdout",
     "output_type": "stream",
     "text": [
      "    149/191...\n"
     ]
    },
    {
     "name": "stderr",
     "output_type": "stream",
     "text": [
      "100%|█████████████████████████████████████████████| 4/4 [00:00<00:00, 11.03it/s]\n"
     ]
    },
    {
     "name": "stdout",
     "output_type": "stream",
     "text": [
      "    150/191...\n"
     ]
    },
    {
     "name": "stderr",
     "output_type": "stream",
     "text": [
      "100%|█████████████████████████████████████████████| 4/4 [00:00<00:00,  7.12it/s]\n"
     ]
    },
    {
     "name": "stdout",
     "output_type": "stream",
     "text": [
      "    151/191...\n"
     ]
    },
    {
     "name": "stderr",
     "output_type": "stream",
     "text": [
      "100%|█████████████████████████████████████████████| 4/4 [00:00<00:00,  7.22it/s]\n"
     ]
    },
    {
     "name": "stdout",
     "output_type": "stream",
     "text": [
      "    152/191...\n"
     ]
    },
    {
     "name": "stderr",
     "output_type": "stream",
     "text": [
      "100%|█████████████████████████████████████████████| 3/3 [00:00<00:00,  6.24it/s]\n"
     ]
    },
    {
     "name": "stdout",
     "output_type": "stream",
     "text": [
      "    153/191...\n"
     ]
    },
    {
     "name": "stderr",
     "output_type": "stream",
     "text": [
      "100%|█████████████████████████████████████████████| 4/4 [00:00<00:00, 16.86it/s]\n"
     ]
    },
    {
     "name": "stdout",
     "output_type": "stream",
     "text": [
      "    154/191...\n"
     ]
    },
    {
     "name": "stderr",
     "output_type": "stream",
     "text": [
      "100%|█████████████████████████████████████████████| 4/4 [00:00<00:00,  6.15it/s]\n"
     ]
    },
    {
     "name": "stdout",
     "output_type": "stream",
     "text": [
      "    155/191...\n"
     ]
    },
    {
     "name": "stderr",
     "output_type": "stream",
     "text": [
      "100%|█████████████████████████████████████████████| 2/2 [00:00<00:00,  5.96it/s]\n"
     ]
    },
    {
     "name": "stdout",
     "output_type": "stream",
     "text": [
      "    156/191...\n"
     ]
    },
    {
     "name": "stderr",
     "output_type": "stream",
     "text": [
      "100%|█████████████████████████████████████████████| 3/3 [00:00<00:00,  5.95it/s]\n"
     ]
    },
    {
     "name": "stdout",
     "output_type": "stream",
     "text": [
      "    157/191...\n"
     ]
    },
    {
     "name": "stderr",
     "output_type": "stream",
     "text": [
      "100%|█████████████████████████████████████████████| 2/2 [00:00<00:00,  6.40it/s]\n"
     ]
    },
    {
     "name": "stdout",
     "output_type": "stream",
     "text": [
      "    158/191...\n"
     ]
    },
    {
     "name": "stderr",
     "output_type": "stream",
     "text": [
      "100%|█████████████████████████████████████████████| 4/4 [00:00<00:00, 12.65it/s]\n"
     ]
    },
    {
     "name": "stdout",
     "output_type": "stream",
     "text": [
      "    159/191...\n"
     ]
    },
    {
     "name": "stderr",
     "output_type": "stream",
     "text": [
      "100%|█████████████████████████████████████████████| 4/4 [00:00<00:00, 10.01it/s]\n"
     ]
    },
    {
     "name": "stdout",
     "output_type": "stream",
     "text": [
      "    160/191...\n"
     ]
    },
    {
     "name": "stderr",
     "output_type": "stream",
     "text": [
      "100%|█████████████████████████████████████████████| 4/4 [00:00<00:00,  6.14it/s]\n"
     ]
    },
    {
     "name": "stdout",
     "output_type": "stream",
     "text": [
      "    161/191...\n"
     ]
    },
    {
     "name": "stderr",
     "output_type": "stream",
     "text": [
      "100%|█████████████████████████████████████████████| 4/4 [00:00<00:00,  6.56it/s]\n"
     ]
    },
    {
     "name": "stdout",
     "output_type": "stream",
     "text": [
      "    162/191...\n"
     ]
    },
    {
     "name": "stderr",
     "output_type": "stream",
     "text": [
      "100%|█████████████████████████████████████████████| 4/4 [00:00<00:00,  6.69it/s]\n"
     ]
    },
    {
     "name": "stdout",
     "output_type": "stream",
     "text": [
      "    163/191...\n"
     ]
    },
    {
     "name": "stderr",
     "output_type": "stream",
     "text": [
      "100%|█████████████████████████████████████████████| 4/4 [00:00<00:00,  7.09it/s]\n"
     ]
    },
    {
     "name": "stdout",
     "output_type": "stream",
     "text": [
      "    164/191...\n"
     ]
    },
    {
     "name": "stderr",
     "output_type": "stream",
     "text": [
      "100%|█████████████████████████████████████████████| 4/4 [00:00<00:00,  8.75it/s]\n"
     ]
    },
    {
     "name": "stdout",
     "output_type": "stream",
     "text": [
      "    165/191...\n"
     ]
    },
    {
     "name": "stderr",
     "output_type": "stream",
     "text": [
      "100%|█████████████████████████████████████████████| 4/4 [00:00<00:00,  5.93it/s]\n"
     ]
    },
    {
     "name": "stdout",
     "output_type": "stream",
     "text": [
      "    166/191...\n"
     ]
    },
    {
     "name": "stderr",
     "output_type": "stream",
     "text": [
      "100%|█████████████████████████████████████████████| 3/3 [00:00<00:00, 12.57it/s]\n"
     ]
    },
    {
     "name": "stdout",
     "output_type": "stream",
     "text": [
      "    167/191...\n"
     ]
    },
    {
     "name": "stderr",
     "output_type": "stream",
     "text": [
      "100%|█████████████████████████████████████████████| 2/2 [00:00<00:00,  5.09it/s]\n"
     ]
    },
    {
     "name": "stdout",
     "output_type": "stream",
     "text": [
      "    168/191...\n"
     ]
    },
    {
     "name": "stderr",
     "output_type": "stream",
     "text": [
      "100%|█████████████████████████████████████████████| 1/1 [00:00<00:00,  4.94it/s]\n"
     ]
    },
    {
     "name": "stdout",
     "output_type": "stream",
     "text": [
      "    169/191...\n"
     ]
    },
    {
     "name": "stderr",
     "output_type": "stream",
     "text": [
      "100%|█████████████████████████████████████████████| 4/4 [00:00<00:00,  6.84it/s]\n"
     ]
    },
    {
     "name": "stdout",
     "output_type": "stream",
     "text": [
      "    170/191...\n"
     ]
    },
    {
     "name": "stderr",
     "output_type": "stream",
     "text": [
      "100%|█████████████████████████████████████████████| 1/1 [00:00<00:00,  9.35it/s]\n"
     ]
    },
    {
     "name": "stdout",
     "output_type": "stream",
     "text": [
      "    171/191...\n"
     ]
    },
    {
     "name": "stderr",
     "output_type": "stream",
     "text": [
      "100%|█████████████████████████████████████████████| 4/4 [00:00<00:00,  6.35it/s]\n"
     ]
    },
    {
     "name": "stdout",
     "output_type": "stream",
     "text": [
      "    172/191...\n"
     ]
    },
    {
     "name": "stderr",
     "output_type": "stream",
     "text": [
      "100%|█████████████████████████████████████████████| 2/2 [00:00<00:00,  6.73it/s]\n"
     ]
    },
    {
     "name": "stdout",
     "output_type": "stream",
     "text": [
      "    173/191...\n"
     ]
    },
    {
     "name": "stderr",
     "output_type": "stream",
     "text": [
      "100%|█████████████████████████████████████████████| 4/4 [00:00<00:00,  6.69it/s]\n"
     ]
    },
    {
     "name": "stdout",
     "output_type": "stream",
     "text": [
      "    174/191...\n"
     ]
    },
    {
     "name": "stderr",
     "output_type": "stream",
     "text": [
      "100%|█████████████████████████████████████████████| 2/2 [00:00<00:00,  6.21it/s]\n"
     ]
    },
    {
     "name": "stdout",
     "output_type": "stream",
     "text": [
      "    175/191...\n"
     ]
    },
    {
     "name": "stderr",
     "output_type": "stream",
     "text": [
      "100%|█████████████████████████████████████████████| 2/2 [00:00<00:00,  5.84it/s]\n"
     ]
    },
    {
     "name": "stdout",
     "output_type": "stream",
     "text": [
      "    176/191...\n"
     ]
    },
    {
     "name": "stderr",
     "output_type": "stream",
     "text": [
      "100%|█████████████████████████████████████████████| 4/4 [00:00<00:00,  7.83it/s]\n"
     ]
    },
    {
     "name": "stdout",
     "output_type": "stream",
     "text": [
      "    177/191...\n"
     ]
    },
    {
     "name": "stderr",
     "output_type": "stream",
     "text": [
      "100%|█████████████████████████████████████████████| 4/4 [00:00<00:00,  7.57it/s]\n"
     ]
    },
    {
     "name": "stdout",
     "output_type": "stream",
     "text": [
      "    178/191...\n"
     ]
    },
    {
     "name": "stderr",
     "output_type": "stream",
     "text": [
      "100%|█████████████████████████████████████████████| 4/4 [00:00<00:00,  7.72it/s]\n"
     ]
    },
    {
     "name": "stdout",
     "output_type": "stream",
     "text": [
      "    179/191...\n"
     ]
    },
    {
     "name": "stderr",
     "output_type": "stream",
     "text": [
      "100%|█████████████████████████████████████████████| 4/4 [00:00<00:00,  7.51it/s]\n"
     ]
    },
    {
     "name": "stdout",
     "output_type": "stream",
     "text": [
      "    180/191...\n"
     ]
    },
    {
     "name": "stderr",
     "output_type": "stream",
     "text": [
      "100%|█████████████████████████████████████████████| 1/1 [00:00<00:00,  9.03it/s]\n"
     ]
    },
    {
     "name": "stdout",
     "output_type": "stream",
     "text": [
      "    181/191...\n"
     ]
    },
    {
     "name": "stderr",
     "output_type": "stream",
     "text": [
      "100%|█████████████████████████████████████████████| 4/4 [00:00<00:00,  7.99it/s]\n"
     ]
    },
    {
     "name": "stdout",
     "output_type": "stream",
     "text": [
      "    182/191...\n"
     ]
    },
    {
     "name": "stderr",
     "output_type": "stream",
     "text": [
      "100%|█████████████████████████████████████████████| 4/4 [00:00<00:00,  8.22it/s]\n"
     ]
    },
    {
     "name": "stdout",
     "output_type": "stream",
     "text": [
      "    183/191...\n"
     ]
    },
    {
     "name": "stderr",
     "output_type": "stream",
     "text": [
      "100%|█████████████████████████████████████████████| 4/4 [00:00<00:00,  5.81it/s]\n"
     ]
    },
    {
     "name": "stdout",
     "output_type": "stream",
     "text": [
      "    184/191...\n"
     ]
    },
    {
     "name": "stderr",
     "output_type": "stream",
     "text": [
      "100%|█████████████████████████████████████████████| 4/4 [00:00<00:00,  9.54it/s]\n"
     ]
    },
    {
     "name": "stdout",
     "output_type": "stream",
     "text": [
      "    185/191...\n"
     ]
    },
    {
     "name": "stderr",
     "output_type": "stream",
     "text": [
      "100%|█████████████████████████████████████████████| 4/4 [00:00<00:00,  7.43it/s]\n"
     ]
    },
    {
     "name": "stdout",
     "output_type": "stream",
     "text": [
      "    186/191...\n"
     ]
    },
    {
     "name": "stderr",
     "output_type": "stream",
     "text": [
      "100%|█████████████████████████████████████████████| 2/2 [00:00<00:00,  6.37it/s]\n"
     ]
    },
    {
     "name": "stdout",
     "output_type": "stream",
     "text": [
      "    187/191...\n"
     ]
    },
    {
     "name": "stderr",
     "output_type": "stream",
     "text": [
      "100%|█████████████████████████████████████████████| 4/4 [00:00<00:00,  6.06it/s]\n"
     ]
    },
    {
     "name": "stdout",
     "output_type": "stream",
     "text": [
      "    188/191...\n"
     ]
    },
    {
     "name": "stderr",
     "output_type": "stream",
     "text": [
      "100%|█████████████████████████████████████████████| 2/2 [00:00<00:00,  6.91it/s]\n"
     ]
    },
    {
     "name": "stdout",
     "output_type": "stream",
     "text": [
      "    189/191...\n"
     ]
    },
    {
     "name": "stderr",
     "output_type": "stream",
     "text": [
      "100%|█████████████████████████████████████████████| 4/4 [00:00<00:00,  6.42it/s]\n"
     ]
    },
    {
     "name": "stdout",
     "output_type": "stream",
     "text": [
      "    190/191...\n"
     ]
    },
    {
     "name": "stderr",
     "output_type": "stream",
     "text": [
      "100%|█████████████████████████████████████████████| 4/4 [00:00<00:00,  6.45it/s]\n"
     ]
    },
    {
     "name": "stdout",
     "output_type": "stream",
     "text": [
      "    191/191...\n"
     ]
    },
    {
     "name": "stderr",
     "output_type": "stream",
     "text": [
      "100%|█████████████████████████████████████████████| 1/1 [00:00<00:00,  6.00it/s]\n"
     ]
    },
    {
     "name": "stdout",
     "output_type": "stream",
     "text": [
      "Done.\n"
     ]
    }
   ],
   "source": [
    "run_model(model_folder, test_folder, output_folder, allow_failures = True, verbose = 2)"
   ]
  },
  {
   "cell_type": "code",
   "execution_count": 71,
   "id": "247a6478",
   "metadata": {},
   "outputs": [],
   "source": [
    "from evaluate_model import *\n",
    "\n"
   ]
  },
  {
   "cell_type": "code",
   "execution_count": 72,
   "id": "b770afd6",
   "metadata": {
    "scrolled": false
   },
   "outputs": [
    {
     "name": "stdout",
     "output_type": "stream",
     "text": [
      "#Murmur scores\n",
      "AUROC,AUPRC,F-measure,Accuracy,Weighted Accuracy,Cost\n",
      "0.763,0.609,0.512,0.780,0.768,16343.109\n",
      "\n",
      "#Outcome scores\n",
      "AUROC,AUPRC,F-measure,Accuracy,Weighted Accuracy,Cost\n",
      "0.707,0.687,0.553,0.597,0.792,11336.284\n",
      "\n",
      "#Murmur scores (per class)\n",
      "Classes,Present,Unknown,Absent\n",
      "AUROC,0.932,0.500,0.858\n",
      "AUPRC,0.833,0.073,0.920\n",
      "F-measure,0.673,0.000,0.861\n",
      "Accuracy,0.895,0.000,0.827\n",
      "\n",
      "#Outcome scores (per class)\n",
      "Classes,Abnormal,Normal\n",
      "AUROC,0.707,0.707\n",
      "AUPRC,0.710,0.664\n",
      "F-measure,0.693,0.412\n",
      "Accuracy,0.888,0.290\n",
      "\n"
     ]
    }
   ],
   "source": [
    "murmur_scores, outcome_scores = evaluate_model(test_folder, output_folder)\n",
    "classes, auroc, auprc, auroc_classes, auprc_classes, f_measure, f_measure_classes, accuracy, accuracy_classes, weighted_accuracy, cost = murmur_scores\n",
    "murmur_output_string = 'AUROC,AUPRC,F-measure,Accuracy,Weighted Accuracy,Cost\\n{:.3f},{:.3f},{:.3f},{:.3f},{:.3f},{:.3f}\\n'.format(auroc, auprc, f_measure, accuracy, weighted_accuracy, cost)\n",
    "murmur_class_output_string = 'Classes,{}\\nAUROC,{}\\nAUPRC,{}\\nF-measure,{}\\nAccuracy,{}\\n'.format(\n",
    "    ','.join(classes),\n",
    "    ','.join('{:.3f}'.format(x) for x in auroc_classes),\n",
    "    ','.join('{:.3f}'.format(x) for x in auprc_classes),\n",
    "    ','.join('{:.3f}'.format(x) for x in f_measure_classes),\n",
    "    ','.join('{:.3f}'.format(x) for x in accuracy_classes))\n",
    "\n",
    "classes, auroc, auprc, auroc_classes, auprc_classes, f_measure, f_measure_classes, accuracy, accuracy_classes, weighted_accuracy, cost = outcome_scores\n",
    "outcome_output_string = 'AUROC,AUPRC,F-measure,Accuracy,Weighted Accuracy,Cost\\n{:.3f},{:.3f},{:.3f},{:.3f},{:.3f},{:.3f}\\n'.format(auroc, auprc, f_measure, accuracy, weighted_accuracy, cost)\n",
    "outcome_class_output_string = 'Classes,{}\\nAUROC,{}\\nAUPRC,{}\\nF-measure,{}\\nAccuracy,{}\\n'.format(\n",
    "    ','.join(classes),\n",
    "    ','.join('{:.3f}'.format(x) for x in auroc_classes),\n",
    "    ','.join('{:.3f}'.format(x) for x in auprc_classes),\n",
    "    ','.join('{:.3f}'.format(x) for x in f_measure_classes),\n",
    "    ','.join('{:.3f}'.format(x) for x in accuracy_classes))\n",
    "\n",
    "output_string = '#Murmur scores\\n' + murmur_output_string + '\\n#Outcome scores\\n' + outcome_output_string \\\n",
    "    + '\\n#Murmur scores (per class)\\n' + murmur_class_output_string + '\\n#Outcome scores (per class)\\n' + outcome_class_output_string\n",
    "\n",
    "if len(sys.argv) == 3:\n",
    "    print(output_string)\n",
    "elif len(sys.argv) == 4:\n",
    "    with open(sys.argv[3], 'w') as f:\n",
    "        f.write(output_string)"
   ]
  },
  {
   "cell_type": "code",
   "execution_count": null,
   "id": "72a27458",
   "metadata": {},
   "outputs": [],
   "source": []
  },
  {
   "cell_type": "code",
   "execution_count": 73,
   "id": "4235c97d",
   "metadata": {},
   "outputs": [
    {
     "name": "stdout",
     "output_type": "stream",
     "text": [
      "0.4272452720796875\n",
      "0.5727547300267594\n",
      "0.6831670692141768\n",
      "0.3168329288549136\n"
     ]
    }
   ],
   "source": [
    "label_folder = test_folder\n",
    "murmur_classes = ['Present', 'Unknown', 'Absent']\n",
    "outcome_classes = ['Abnormal', 'Normal']\n",
    "\n",
    "# Load and parse label and model output files.\n",
    "label_files, output_files = find_challenge_files(label_folder, output_folder)\n",
    "murmur_labels = load_murmurs(label_files, murmur_classes)\n",
    "murmur_binary_outputs, murmur_scalar_outputs = load_classifier_outputs(output_files, murmur_classes)\n",
    "outcome_labels = load_outcomes(label_files, outcome_classes)\n",
    "outcome_binary_outputs, outcome_scalar_outputs = load_classifier_outputs(output_files, outcome_classes)\n",
    "\n",
    "\n",
    "print(np.mean(murmur_scalar_outputs[:,0]))\n",
    "print(np.mean(murmur_scalar_outputs[:,2]))\n",
    "print(np.mean(outcome_scalar_outputs[:,0]))\n",
    "print(np.mean(outcome_scalar_outputs[:,1]))"
   ]
  },
  {
   "cell_type": "code",
   "execution_count": 74,
   "id": "3fb59f7c",
   "metadata": {
    "scrolled": false
   },
   "outputs": [
    {
     "name": "stdout",
     "output_type": "stream",
     "text": [
      "threshold:  0.01\n",
      "#Murmur scores\n",
      "AUROC,AUPRC,F-measure,Accuracy,Weighted Accuracy,Cost\n",
      "0.763,0.609,0.111,0.199,0.512,15140.890\n",
      "\n",
      "#Outcome scores\n",
      "AUROC,AUPRC,F-measure,Accuracy,Weighted Accuracy,Cost\n",
      "0.707,0.687,0.339,0.513,0.840,15140.890\n",
      "\n",
      "#Murmur scores (per class)\n",
      "Classes,Present,Unknown,Absent\n",
      "AUROC,0.932,0.500,0.858\n",
      "AUPRC,0.833,0.073,0.920\n",
      "F-measure,0.332,0.000,0.000\n",
      "Accuracy,1.000,0.000,0.000\n",
      "\n",
      "#Outcome scores (per class)\n",
      "Classes,Abnormal,Normal\n",
      "AUROC,0.707,0.707\n",
      "AUPRC,0.710,0.664\n",
      "F-measure,0.678,0.000\n",
      "Accuracy,1.000,0.000\n",
      "\n",
      "-------------\n",
      "threshold:  0.05\n",
      "#Murmur scores\n",
      "AUROC,AUPRC,F-measure,Accuracy,Weighted Accuracy,Cost\n",
      "0.763,0.609,0.111,0.199,0.512,15140.890\n",
      "\n",
      "#Outcome scores\n",
      "AUROC,AUPRC,F-measure,Accuracy,Weighted Accuracy,Cost\n",
      "0.707,0.687,0.339,0.513,0.840,15140.890\n",
      "\n",
      "#Murmur scores (per class)\n",
      "Classes,Present,Unknown,Absent\n",
      "AUROC,0.932,0.500,0.858\n",
      "AUPRC,0.833,0.073,0.920\n",
      "F-measure,0.332,0.000,0.000\n",
      "Accuracy,1.000,0.000,0.000\n",
      "\n",
      "#Outcome scores (per class)\n",
      "Classes,Abnormal,Normal\n",
      "AUROC,0.707,0.707\n",
      "AUPRC,0.710,0.664\n",
      "F-measure,0.678,0.000\n",
      "Accuracy,1.000,0.000\n",
      "\n",
      "-------------\n",
      "threshold:  0.1\n",
      "#Murmur scores\n",
      "AUROC,AUPRC,F-measure,Accuracy,Weighted Accuracy,Cost\n",
      "0.763,0.609,0.116,0.204,0.515,15131.464\n",
      "\n",
      "#Outcome scores\n",
      "AUROC,AUPRC,F-measure,Accuracy,Weighted Accuracy,Cost\n",
      "0.707,0.687,0.339,0.513,0.840,15140.890\n",
      "\n",
      "#Murmur scores (per class)\n",
      "Classes,Present,Unknown,Absent\n",
      "AUROC,0.932,0.500,0.858\n",
      "AUPRC,0.833,0.073,0.920\n",
      "F-measure,0.333,0.000,0.014\n",
      "Accuracy,1.000,0.000,0.007\n",
      "\n",
      "#Outcome scores (per class)\n",
      "Classes,Abnormal,Normal\n",
      "AUROC,0.707,0.707\n",
      "AUPRC,0.710,0.664\n",
      "F-measure,0.678,0.000\n",
      "Accuracy,1.000,0.000\n",
      "\n",
      "-------------\n",
      "threshold:  0.15\n",
      "#Murmur scores\n",
      "AUROC,AUPRC,F-measure,Accuracy,Weighted Accuracy,Cost\n",
      "0.763,0.609,0.131,0.220,0.523,14705.680\n",
      "\n",
      "#Outcome scores\n",
      "AUROC,AUPRC,F-measure,Accuracy,Weighted Accuracy,Cost\n",
      "0.707,0.687,0.339,0.513,0.840,15140.890\n",
      "\n",
      "#Murmur scores (per class)\n",
      "Classes,Present,Unknown,Absent\n",
      "AUROC,0.932,0.500,0.858\n",
      "AUPRC,0.833,0.073,0.920\n",
      "F-measure,0.338,0.000,0.056\n",
      "Accuracy,1.000,0.000,0.029\n",
      "\n",
      "#Outcome scores (per class)\n",
      "Classes,Abnormal,Normal\n",
      "AUROC,0.707,0.707\n",
      "AUPRC,0.710,0.664\n",
      "F-measure,0.678,0.000\n",
      "Accuracy,1.000,0.000\n",
      "\n",
      "-------------\n",
      "threshold:  0.2\n",
      "#Murmur scores\n",
      "AUROC,AUPRC,F-measure,Accuracy,Weighted Accuracy,Cost\n",
      "0.763,0.609,0.174,0.267,0.547,13645.712\n",
      "\n",
      "#Outcome scores\n",
      "AUROC,AUPRC,F-measure,Accuracy,Weighted Accuracy,Cost\n",
      "0.707,0.687,0.339,0.513,0.840,15140.890\n",
      "\n",
      "#Murmur scores (per class)\n",
      "Classes,Present,Unknown,Absent\n",
      "AUROC,0.932,0.500,0.858\n",
      "AUPRC,0.833,0.073,0.920\n",
      "F-measure,0.353,0.000,0.170\n",
      "Accuracy,1.000,0.000,0.094\n",
      "\n",
      "#Outcome scores (per class)\n",
      "Classes,Abnormal,Normal\n",
      "AUROC,0.707,0.707\n",
      "AUPRC,0.710,0.664\n",
      "F-measure,0.678,0.000\n",
      "Accuracy,1.000,0.000\n",
      "\n",
      "-------------\n",
      "threshold:  0.25\n",
      "#Murmur scores\n",
      "AUROC,AUPRC,F-measure,Accuracy,Weighted Accuracy,Cost\n",
      "0.763,0.609,0.261,0.377,0.604,12592.828\n",
      "\n",
      "#Outcome scores\n",
      "AUROC,AUPRC,F-measure,Accuracy,Weighted Accuracy,Cost\n",
      "0.707,0.687,0.339,0.513,0.840,15140.890\n",
      "\n",
      "#Murmur scores (per class)\n",
      "Classes,Present,Unknown,Absent\n",
      "AUROC,0.932,0.500,0.858\n",
      "AUPRC,0.833,0.073,0.920\n",
      "F-measure,0.398,0.000,0.384\n",
      "Accuracy,1.000,0.000,0.245\n",
      "\n",
      "#Outcome scores (per class)\n",
      "Classes,Abnormal,Normal\n",
      "AUROC,0.707,0.707\n",
      "AUPRC,0.710,0.664\n",
      "F-measure,0.678,0.000\n",
      "Accuracy,1.000,0.000\n",
      "\n",
      "-------------\n",
      "threshold:  0.3\n",
      "#Murmur scores\n",
      "AUROC,AUPRC,F-measure,Accuracy,Weighted Accuracy,Cost\n",
      "0.763,0.609,0.331,0.482,0.658,12291.300\n",
      "\n",
      "#Outcome scores\n",
      "AUROC,AUPRC,F-measure,Accuracy,Weighted Accuracy,Cost\n",
      "0.707,0.687,0.339,0.513,0.840,15140.890\n",
      "\n",
      "#Murmur scores (per class)\n",
      "Classes,Present,Unknown,Absent\n",
      "AUROC,0.932,0.500,0.858\n",
      "AUPRC,0.833,0.073,0.920\n",
      "F-measure,0.444,0.000,0.548\n",
      "Accuracy,1.000,0.000,0.388\n",
      "\n",
      "#Outcome scores (per class)\n",
      "Classes,Abnormal,Normal\n",
      "AUROC,0.707,0.707\n",
      "AUPRC,0.710,0.664\n",
      "F-measure,0.678,0.000\n",
      "Accuracy,1.000,0.000\n",
      "\n",
      "-------------\n",
      "threshold:  0.35\n",
      "#Murmur scores\n",
      "AUROC,AUPRC,F-measure,Accuracy,Weighted Accuracy,Cost\n",
      "0.763,0.609,0.397,0.592,0.704,12768.962\n",
      "\n",
      "#Outcome scores\n",
      "AUROC,AUPRC,F-measure,Accuracy,Weighted Accuracy,Cost\n",
      "0.707,0.687,0.339,0.513,0.840,15140.890\n",
      "\n",
      "#Murmur scores (per class)\n",
      "Classes,Present,Unknown,Absent\n",
      "AUROC,0.932,0.500,0.858\n",
      "AUPRC,0.833,0.073,0.920\n",
      "F-measure,0.500,0.000,0.691\n",
      "Accuracy,0.974,0.000,0.547\n",
      "\n",
      "#Outcome scores (per class)\n",
      "Classes,Abnormal,Normal\n",
      "AUROC,0.707,0.707\n",
      "AUPRC,0.710,0.664\n",
      "F-measure,0.678,0.000\n",
      "Accuracy,1.000,0.000\n",
      "\n",
      "-------------\n",
      "threshold:  0.4\n",
      "#Murmur scores\n",
      "AUROC,AUPRC,F-measure,Accuracy,Weighted Accuracy,Cost\n",
      "0.763,0.609,0.441,0.670,0.722,13277.075\n",
      "\n",
      "#Outcome scores\n",
      "AUROC,AUPRC,F-measure,Accuracy,Weighted Accuracy,Cost\n",
      "0.707,0.687,0.339,0.513,0.840,15140.890\n",
      "\n",
      "#Murmur scores (per class)\n",
      "Classes,Present,Unknown,Absent\n",
      "AUROC,0.932,0.500,0.858\n",
      "AUPRC,0.833,0.073,0.920\n",
      "F-measure,0.547,0.000,0.775\n",
      "Accuracy,0.921,0.000,0.669\n",
      "\n",
      "#Outcome scores (per class)\n",
      "Classes,Abnormal,Normal\n",
      "AUROC,0.707,0.707\n",
      "AUPRC,0.710,0.664\n",
      "F-measure,0.678,0.000\n",
      "Accuracy,1.000,0.000\n",
      "\n",
      "-------------\n",
      "threshold:  0.45\n",
      "#Murmur scores\n",
      "AUROC,AUPRC,F-measure,Accuracy,Weighted Accuracy,Cost\n",
      "0.763,0.609,0.497,0.759,0.768,15344.113\n",
      "\n",
      "#Outcome scores\n",
      "AUROC,AUPRC,F-measure,Accuracy,Weighted Accuracy,Cost\n",
      "0.707,0.687,0.351,0.518,0.842,14922.040\n",
      "\n",
      "#Murmur scores (per class)\n",
      "Classes,Present,Unknown,Absent\n",
      "AUROC,0.932,0.500,0.858\n",
      "AUPRC,0.833,0.073,0.920\n",
      "F-measure,0.642,0.000,0.849\n",
      "Accuracy,0.921,0.000,0.791\n",
      "\n",
      "#Outcome scores (per class)\n",
      "Classes,Abnormal,Normal\n",
      "AUROC,0.707,0.707\n",
      "AUPRC,0.710,0.664\n",
      "F-measure,0.681,0.021\n",
      "Accuracy,1.000,0.011\n",
      "\n",
      "-------------\n",
      "threshold:  0.5\n",
      "#Murmur scores\n",
      "AUROC,AUPRC,F-measure,Accuracy,Weighted Accuracy,Cost\n",
      "0.763,0.609,0.517,0.791,0.763,16955.190\n",
      "\n",
      "#Outcome scores\n",
      "AUROC,AUPRC,F-measure,Accuracy,Weighted Accuracy,Cost\n",
      "0.707,0.687,0.371,0.524,0.837,14496.256\n",
      "\n",
      "#Murmur scores (per class)\n",
      "Classes,Present,Unknown,Absent\n",
      "AUROC,0.932,0.500,0.858\n",
      "AUPRC,0.833,0.073,0.920\n",
      "F-measure,0.680,0.000,0.871\n",
      "Accuracy,0.868,0.000,0.849\n",
      "\n",
      "#Outcome scores (per class)\n",
      "Classes,Abnormal,Normal\n",
      "AUROC,0.707,0.707\n",
      "AUPRC,0.710,0.664\n",
      "F-measure,0.681,0.062\n",
      "Accuracy,0.990,0.032\n",
      "\n",
      "-------------\n",
      "threshold:  0.55\n",
      "#Murmur scores\n",
      "AUROC,AUPRC,F-measure,Accuracy,Weighted Accuracy,Cost\n",
      "0.763,0.609,0.548,0.827,0.771,18185.263\n",
      "\n",
      "#Outcome scores\n",
      "AUROC,AUPRC,F-measure,Accuracy,Weighted Accuracy,Cost\n",
      "0.707,0.687,0.392,0.518,0.808,13971.406\n",
      "\n",
      "#Murmur scores (per class)\n",
      "Classes,Present,Unknown,Absent\n",
      "AUROC,0.932,0.500,0.858\n",
      "AUPRC,0.833,0.073,0.920\n",
      "F-measure,0.753,0.000,0.890\n",
      "Accuracy,0.842,0.000,0.906\n",
      "\n",
      "#Outcome scores (per class)\n",
      "Classes,Abnormal,Normal\n",
      "AUROC,0.707,0.707\n",
      "AUPRC,0.710,0.664\n",
      "F-measure,0.669,0.115\n",
      "Accuracy,0.949,0.065\n",
      "\n",
      "-------------\n",
      "threshold:  0.6\n",
      "#Murmur scores\n",
      "AUROC,AUPRC,F-measure,Accuracy,Weighted Accuracy,Cost\n",
      "0.763,0.609,0.545,0.832,0.730,19225.984\n",
      "\n",
      "#Outcome scores\n",
      "AUROC,AUPRC,F-measure,Accuracy,Weighted Accuracy,Cost\n",
      "0.707,0.687,0.538,0.586,0.789,11559.437\n",
      "\n",
      "#Murmur scores (per class)\n",
      "Classes,Present,Unknown,Absent\n",
      "AUROC,0.932,0.500,0.858\n",
      "AUPRC,0.833,0.073,0.920\n",
      "F-measure,0.737,0.000,0.897\n",
      "Accuracy,0.737,0.000,0.942\n",
      "\n",
      "#Outcome scores (per class)\n",
      "Classes,Abnormal,Normal\n",
      "AUROC,0.707,0.707\n",
      "AUPRC,0.710,0.664\n",
      "F-measure,0.688,0.388\n",
      "Accuracy,0.888,0.269\n",
      "\n",
      "-------------\n",
      "threshold:  0.65\n",
      "#Murmur scores\n",
      "AUROC,AUPRC,F-measure,Accuracy,Weighted Accuracy,Cost\n",
      "0.763,0.609,0.535,0.832,0.687,20061.847\n",
      "\n",
      "#Outcome scores\n",
      "AUROC,AUPRC,F-measure,Accuracy,Weighted Accuracy,Cost\n",
      "0.707,0.687,0.636,0.639,0.683,12104.348\n",
      "\n",
      "#Murmur scores (per class)\n",
      "Classes,Present,Unknown,Absent\n",
      "AUROC,0.932,0.500,0.858\n",
      "AUPRC,0.833,0.073,0.920\n",
      "F-measure,0.706,0.000,0.900\n",
      "Accuracy,0.632,0.000,0.971\n",
      "\n",
      "#Outcome scores (per class)\n",
      "Classes,Abnormal,Normal\n",
      "AUROC,0.707,0.707\n",
      "AUPRC,0.710,0.664\n",
      "F-measure,0.667,0.606\n",
      "Accuracy,0.704,0.570\n",
      "\n",
      "-------------\n",
      "threshold:  0.7\n",
      "#Murmur scores\n",
      "AUROC,AUPRC,F-measure,Accuracy,Weighted Accuracy,Cost\n",
      "0.763,0.609,0.522,0.827,0.652,20689.118\n",
      "\n",
      "#Outcome scores\n",
      "AUROC,AUPRC,F-measure,Accuracy,Weighted Accuracy,Cost\n",
      "0.707,0.687,0.642,0.644,0.581,14570.335\n",
      "\n",
      "#Murmur scores (per class)\n",
      "Classes,Present,Unknown,Absent\n",
      "AUROC,0.932,0.500,0.858\n",
      "AUPRC,0.833,0.073,0.920\n",
      "F-measure,0.667,0.000,0.898\n",
      "Accuracy,0.553,0.000,0.986\n",
      "\n",
      "#Outcome scores (per class)\n",
      "Classes,Abnormal,Normal\n",
      "AUROC,0.707,0.707\n",
      "AUPRC,0.710,0.664\n",
      "F-measure,0.614,0.670\n",
      "Accuracy,0.551,0.742\n",
      "\n",
      "-------------\n",
      "threshold:  0.75\n",
      "#Murmur scores\n",
      "AUROC,AUPRC,F-measure,Accuracy,Weighted Accuracy,Cost\n",
      "0.763,0.609,0.499,0.817,0.604,21942.863\n",
      "\n",
      "#Outcome scores\n",
      "AUROC,AUPRC,F-measure,Accuracy,Weighted Accuracy,Cost\n",
      "0.707,0.687,0.610,0.634,0.461,17974.726\n",
      "\n",
      "#Murmur scores (per class)\n",
      "Classes,Present,Unknown,Absent\n",
      "AUROC,0.932,0.500,0.858\n",
      "AUPRC,0.833,0.073,0.920\n",
      "F-measure,0.607,0.000,0.891\n",
      "Accuracy,0.447,0.000,1.000\n",
      "\n",
      "#Outcome scores (per class)\n",
      "Classes,Abnormal,Normal\n",
      "AUROC,0.707,0.707\n",
      "AUPRC,0.710,0.664\n",
      "F-measure,0.514,0.706\n",
      "Accuracy,0.378,0.903\n",
      "\n",
      "-------------\n",
      "threshold:  0.8\n",
      "#Murmur scores\n",
      "AUROC,AUPRC,F-measure,Accuracy,Weighted Accuracy,Cost\n",
      "0.763,0.609,0.416,0.775,0.496,23819.581\n",
      "\n",
      "#Outcome scores\n",
      "AUROC,AUPRC,F-measure,Accuracy,Weighted Accuracy,Cost\n",
      "0.707,0.687,0.518,0.581,0.334,21317.120\n",
      "\n",
      "#Murmur scores (per class)\n",
      "Classes,Present,Unknown,Absent\n",
      "AUROC,0.932,0.500,0.858\n",
      "AUPRC,0.833,0.073,0.920\n",
      "F-measure,0.383,0.000,0.866\n",
      "Accuracy,0.237,0.000,1.000\n",
      "\n",
      "#Outcome scores (per class)\n",
      "Classes,Abnormal,Normal\n",
      "AUROC,0.707,0.707\n",
      "AUPRC,0.710,0.664\n",
      "F-measure,0.344,0.692\n",
      "Accuracy,0.214,0.968\n",
      "\n",
      "-------------\n"
     ]
    }
   ],
   "source": [
    "for th1 in [0.01, 0.05, 0.1, 0.15,0.2, 0.25, 0.3, 0.35, 0.4, 0.45, 0.5, 0.55, 0.6, 0.65, 0.7, 0.75, 0.8] :\n",
    "    murmur_binary_outputs[:,0] = murmur_scalar_outputs[:,0] > th1\n",
    "    murmur_binary_outputs[:,2] = murmur_scalar_outputs[:,2] > 1 - th1\n",
    "    outcome_binary_outputs[:,0] = outcome_scalar_outputs[:,0] > th1\n",
    "    outcome_binary_outputs[:,1] = outcome_scalar_outputs[:,1] > 1 - th1\n",
    "    # For each patient, set the 'Present' or 'Abnormal' class to positive if no class is positive or if multiple classes are positive.\n",
    "    murmur_labels = enforce_positives(murmur_labels, murmur_classes, 'Present')\n",
    "    murmur_binary_outputs = enforce_positives(murmur_binary_outputs, murmur_classes, 'Present')\n",
    "    outcome_labels = enforce_positives(outcome_labels, outcome_classes, 'Abnormal')\n",
    "    outcome_binary_outputs = enforce_positives(outcome_binary_outputs, outcome_classes, 'Abnormal')\n",
    "    # Evaluate the murmur model by comparing the labels and model outputs.\n",
    "    murmur_auroc, murmur_auprc, murmur_auroc_classes, murmur_auprc_classes = compute_auc(murmur_labels, murmur_scalar_outputs)\n",
    "    murmur_f_measure, murmur_f_measure_classes = compute_f_measure(murmur_labels, murmur_binary_outputs)\n",
    "    murmur_accuracy, murmur_accuracy_classes = compute_accuracy(murmur_labels, murmur_binary_outputs)\n",
    "    murmur_weighted_accuracy = compute_weighted_accuracy(murmur_labels, murmur_binary_outputs, murmur_classes) # This is the murmur scoring metric.\n",
    "    murmur_cost = compute_cost(outcome_labels, murmur_binary_outputs, outcome_classes, murmur_classes) # Use *outcomes* to score *murmurs* for the Challenge cost metric, but this is not the actual murmur scoring metric.\n",
    "    murmur_scores = (murmur_classes, murmur_auroc, murmur_auprc, murmur_auroc_classes, murmur_auprc_classes, \\\n",
    "                 murmur_f_measure, murmur_f_measure_classes, murmur_accuracy, murmur_accuracy_classes, murmur_weighted_accuracy, murmur_cost)\n",
    "\n",
    "    # Evaluate the outcome model by comparing the labels and model outputs.\n",
    "    outcome_auroc, outcome_auprc, outcome_auroc_classes, outcome_auprc_classes = compute_auc(outcome_labels, outcome_scalar_outputs)\n",
    "    outcome_f_measure, outcome_f_measure_classes = compute_f_measure(outcome_labels, outcome_binary_outputs)\n",
    "    outcome_accuracy, outcome_accuracy_classes = compute_accuracy(outcome_labels, outcome_binary_outputs)\n",
    "    outcome_weighted_accuracy = compute_weighted_accuracy(outcome_labels, outcome_binary_outputs, outcome_classes)\n",
    "    outcome_cost = compute_cost(outcome_labels, outcome_binary_outputs, outcome_classes, outcome_classes) # This is the clinical outcomes scoring metric.\n",
    "    outcome_scores = (outcome_classes, outcome_auroc, outcome_auprc, outcome_auroc_classes, outcome_auprc_classes, \\\n",
    "                  outcome_f_measure, outcome_f_measure_classes, outcome_accuracy, outcome_accuracy_classes, outcome_weighted_accuracy, outcome_cost)\n",
    "\n",
    "\n",
    "\n",
    "    classes, auroc, auprc, auroc_classes, auprc_classes, f_measure, f_measure_classes, accuracy, accuracy_classes, weighted_accuracy, cost = murmur_scores\n",
    "    murmur_output_string = 'AUROC,AUPRC,F-measure,Accuracy,Weighted Accuracy,Cost\\n{:.3f},{:.3f},{:.3f},{:.3f},{:.3f},{:.3f}\\n'.format(auroc, auprc, f_measure, accuracy, weighted_accuracy, cost)\n",
    "    murmur_class_output_string = 'Classes,{}\\nAUROC,{}\\nAUPRC,{}\\nF-measure,{}\\nAccuracy,{}\\n'.format(\n",
    "    ','.join(classes),\n",
    "    ','.join('{:.3f}'.format(x) for x in auroc_classes),\n",
    "    ','.join('{:.3f}'.format(x) for x in auprc_classes),\n",
    "    ','.join('{:.3f}'.format(x) for x in f_measure_classes),\n",
    "    ','.join('{:.3f}'.format(x) for x in accuracy_classes))\n",
    "\n",
    "    classes, auroc, auprc, auroc_classes, auprc_classes, f_measure, f_measure_classes, accuracy, accuracy_classes, weighted_accuracy, cost = outcome_scores\n",
    "    outcome_output_string = 'AUROC,AUPRC,F-measure,Accuracy,Weighted Accuracy,Cost\\n{:.3f},{:.3f},{:.3f},{:.3f},{:.3f},{:.3f}\\n'.format(auroc, auprc, f_measure, accuracy, weighted_accuracy, cost)\n",
    "    outcome_class_output_string = 'Classes,{}\\nAUROC,{}\\nAUPRC,{}\\nF-measure,{}\\nAccuracy,{}\\n'.format(\n",
    "    ','.join(classes),\n",
    "    ','.join('{:.3f}'.format(x) for x in auroc_classes),\n",
    "    ','.join('{:.3f}'.format(x) for x in auprc_classes),\n",
    "    ','.join('{:.3f}'.format(x) for x in f_measure_classes),\n",
    "    ','.join('{:.3f}'.format(x) for x in accuracy_classes))\n",
    "\n",
    "    output_string = '#Murmur scores\\n' + murmur_output_string + '\\n#Outcome scores\\n' + outcome_output_string \\\n",
    "                + '\\n#Murmur scores (per class)\\n' + murmur_class_output_string + '\\n#Outcome scores (per class)\\n' + outcome_class_output_string\n",
    "    print(\"threshold: \", th1)\n",
    "    print(output_string)\n",
    "    print(\"-------------\")"
   ]
  },
  {
   "cell_type": "code",
   "execution_count": null,
   "id": "e6615bae",
   "metadata": {},
   "outputs": [],
   "source": []
  },
  {
   "cell_type": "code",
   "execution_count": null,
   "id": "5f95548d",
   "metadata": {},
   "outputs": [],
   "source": []
  },
  {
   "cell_type": "code",
   "execution_count": null,
   "id": "8681adbc",
   "metadata": {},
   "outputs": [],
   "source": []
  },
  {
   "cell_type": "code",
   "execution_count": null,
   "id": "f084c345",
   "metadata": {},
   "outputs": [],
   "source": []
  },
  {
   "cell_type": "code",
   "execution_count": null,
   "id": "5c260645",
   "metadata": {},
   "outputs": [],
   "source": []
  },
  {
   "cell_type": "code",
   "execution_count": null,
   "id": "7367ffff",
   "metadata": {},
   "outputs": [],
   "source": []
  },
  {
   "cell_type": "code",
   "execution_count": null,
   "id": "a95bdc02",
   "metadata": {},
   "outputs": [],
   "source": []
  },
  {
   "cell_type": "code",
   "execution_count": null,
   "id": "f085d621",
   "metadata": {},
   "outputs": [],
   "source": []
  },
  {
   "cell_type": "code",
   "execution_count": null,
   "id": "5765ba6a",
   "metadata": {},
   "outputs": [],
   "source": []
  },
  {
   "cell_type": "code",
   "execution_count": null,
   "id": "a555c4c3",
   "metadata": {},
   "outputs": [],
   "source": []
  },
  {
   "cell_type": "code",
   "execution_count": null,
   "id": "bb44c1d7",
   "metadata": {},
   "outputs": [],
   "source": []
  },
  {
   "cell_type": "code",
   "execution_count": null,
   "id": "bd2c13c9",
   "metadata": {},
   "outputs": [],
   "source": []
  },
  {
   "cell_type": "code",
   "execution_count": null,
   "id": "5db42aca",
   "metadata": {},
   "outputs": [],
   "source": []
  },
  {
   "cell_type": "code",
   "execution_count": null,
   "id": "bb4f90b1",
   "metadata": {},
   "outputs": [],
   "source": []
  },
  {
   "cell_type": "code",
   "execution_count": null,
   "id": "51aa06e9",
   "metadata": {},
   "outputs": [],
   "source": []
  },
  {
   "cell_type": "code",
   "execution_count": null,
   "id": "4c7407d0",
   "metadata": {},
   "outputs": [],
   "source": []
  },
  {
   "cell_type": "code",
   "execution_count": null,
   "id": "2c27aa5b",
   "metadata": {},
   "outputs": [],
   "source": []
  },
  {
   "cell_type": "code",
   "execution_count": null,
   "id": "205f283a",
   "metadata": {},
   "outputs": [],
   "source": []
  }
 ],
 "metadata": {
  "kernelspec": {
   "display_name": "Python 3 (ipykernel)",
   "language": "python",
   "name": "python3"
  },
  "language_info": {
   "codemirror_mode": {
    "name": "ipython",
    "version": 3
   },
   "file_extension": ".py",
   "mimetype": "text/x-python",
   "name": "python",
   "nbconvert_exporter": "python",
   "pygments_lexer": "ipython3",
   "version": "3.8.13"
  }
 },
 "nbformat": 4,
 "nbformat_minor": 5
}
