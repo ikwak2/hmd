{
 "cells": [
  {
   "cell_type": "markdown",
   "id": "940e796c",
   "metadata": {},
   "source": [
    "# 1초 단위로 뽑았을 때 피크를 더 디텍트 잘하는것같음\n",
    "# 파일 1개 기준(약30초 ) 이면 1초 단위로 뽑아서 피크 인덱스 디텍트 하여서 \n",
    "# 인덱스 구해서 extend  하는 형식으로 정확한 피크점 잡아볼 예정"
   ]
  },
  {
   "cell_type": "code",
   "execution_count": 17,
   "id": "33fc4bf1",
   "metadata": {},
   "outputs": [],
   "source": [
    "import tensorflow as tf"
   ]
  },
  {
   "cell_type": "code",
   "execution_count": 18,
   "id": "9ced0a18",
   "metadata": {},
   "outputs": [],
   "source": [
    "import os\n",
    "import pandas as pd\n",
    "import numpy as np\n",
    "import scipy as sp\n",
    "import scipy.stats\n",
    "import librosa\n",
    "import librosa.display\n",
    "import math\n",
    "import sys\n",
    "#sys.path.insert(0,'/home/ikwak2/hmd/notebooks')\n",
    "sys.path.insert(0,'lucashnegri-peakutils-51a679cd8428')\n",
    "# sys.path.insert(0,'S1-S1-Phonocardiogram-Peak-Detection-Method-in-Python')\n",
    "sys.path.insert(0,'utils')\n",
    "from helper_code import *\n",
    "from get_feature import *\n",
    "# from models import *\n",
    "from Generator0 import *\n",
    "from keras.preprocessing import sequence\n",
    "# import peakutils\n",
    "from scipy import special\n",
    "import scipy.io as sio\n",
    "from keras.preprocessing.sequence import pad_sequences\n",
    "import peakutils\n",
    "from tensorflow import keras\n",
    "from tensorflow.keras import layers\n",
    "from tensorflow.keras.callbacks import LearningRateScheduler,ModelCheckpoint"
   ]
  },
  {
   "cell_type": "code",
   "execution_count": 19,
   "id": "42fb6733",
   "metadata": {},
   "outputs": [],
   "source": [
    "train_folder =  '/home/jk21/Downloads/Data/data/murmur/train'\n",
    "test_folder = '/home/jk21/Downloads/Data/data/murmur/test'"
   ]
  },
  {
   "cell_type": "code",
   "execution_count": 20,
   "id": "96661119",
   "metadata": {},
   "outputs": [],
   "source": [
    "patient_files_trn = find_patient_files(train_folder)\n",
    "patient_files_test = find_patient_files(test_folder)"
   ]
  },
  {
   "cell_type": "code",
   "execution_count": 21,
   "id": "deef37de",
   "metadata": {},
   "outputs": [],
   "source": [
    "data_folder = train_folder"
   ]
  },
  {
   "cell_type": "code",
   "execution_count": 22,
   "id": "b6a87de8",
   "metadata": {},
   "outputs": [],
   "source": [
    "num_patient_files = len(patient_files_trn)\n",
    "current_patient_data = load_patient_data(patient_files_trn[369])\n",
    "num_locations = get_num_locations(current_patient_data)\n",
    "recording_information = current_patient_data.split('\\n')[1:num_locations+1]\n",
    "entries = recording_information[1].split(' ')\n",
    "recording_file = entries[2]\n",
    "filename = os.path.join(data_folder, recording_file)"
   ]
  },
  {
   "cell_type": "code",
   "execution_count": 23,
   "id": "4fff1d6b",
   "metadata": {
    "scrolled": true
   },
   "outputs": [
    {
     "data": {
      "text/plain": [
       "'/home/jk21/Downloads/Data/data/murmur/train/68394_MV.wav'"
      ]
     },
     "execution_count": 23,
     "metadata": {},
     "output_type": "execute_result"
    }
   ],
   "source": [
    "filename"
   ]
  },
  {
   "cell_type": "code",
   "execution_count": null,
   "id": "8184cfc6",
   "metadata": {},
   "outputs": [],
   "source": []
  },
  {
   "cell_type": "code",
   "execution_count": 24,
   "id": "54a75ded",
   "metadata": {},
   "outputs": [],
   "source": [
    "                datos=sp.io.wavfile.read(filename)\n",
    "                filtros=sio.loadmat('./Filters1')"
   ]
  },
  {
   "cell_type": "code",
   "execution_count": 25,
   "id": "c8def832",
   "metadata": {},
   "outputs": [],
   "source": [
    "per_sec = 16000"
   ]
  },
  {
   "cell_type": "code",
   "execution_count": 26,
   "id": "d167d4e3",
   "metadata": {},
   "outputs": [],
   "source": [
    "import matplotlib.pyplot as plt                 # Librery to load .mat files\n",
    "import peakutils\n",
    "from scipy import special\n",
    "import scipy.io as sio\n",
    "from scipy import signal"
   ]
  },
  {
   "cell_type": "code",
   "execution_count": null,
   "id": "2c83466b",
   "metadata": {},
   "outputs": [],
   "source": []
  },
  {
   "cell_type": "code",
   "execution_count": 27,
   "id": "aa8eb111",
   "metadata": {
    "scrolled": false
   },
   "outputs": [
    {
     "name": "stderr",
     "output_type": "stream",
     "text": [
      "100%|█████████████████████████████████████████| 751/751 [06:46<00:00,  1.85it/s]\n",
      "/tmp/ipykernel_60564/2821099257.py:108: VisibleDeprecationWarning: Creating an ndarray from ragged nested sequences (which is a list-or-tuple of lists-or-tuples-or ndarrays with different lengths or shapes) is deprecated. If you meant to do this, you must specify 'dtype=object' when creating the ndarray.\n",
      "  test_interval = np.array(test_interval)\n"
     ]
    }
   ],
   "source": [
    "test_interval = []\n",
    "\n",
    "for i in tqdm.tqdm(range(len(patient_files_trn))):\n",
    "    current_patient_data = load_patient_data(patient_files_trn[i])\n",
    "    num_locations = get_num_locations(current_patient_data)\n",
    "    recording_information = current_patient_data.split('\\n')[1:num_locations+1]\n",
    "    \n",
    "    for j in range(num_locations) :\n",
    "        entries = recording_information[j].split(' ')\n",
    "        recording_file = entries[2]\n",
    "        filename = os.path.join(data_folder, recording_file)\n",
    "        \n",
    "        \n",
    "        datos=sp.io.wavfile.read(filename)\n",
    "        filtros=sio.loadmat('/home/jk21/Documents/hmd/jk_classifier/S1-S1-Phonocardiogram-Peak-Detection-Method-in-Python/Filters1')\n",
    "        tmp_interval = []\n",
    "        n_samp = len(datos[1])//per_sec\n",
    "        \n",
    "        for k in range(n_samp):\n",
    "            X = datos[1][k*per_sec:(k+1)*per_sec]\n",
    "            Fs= datos[0]\n",
    "            Fpa20=filtros['Fpa20'];\t\t\t        # High pass filter\n",
    "            Fpa20=Fpa20[0];\t\t\t\t\t# High pass filter\n",
    "            Fpb100=filtros['Fpb100'];\t\t        # Low-pass Filter\n",
    "            Fpb100=Fpb100[0];\t\t\t\t# Low-pass Filter\n",
    "            Xf=FpassBand(X,Fpa20,Fpb100); \t                # Apply a passband filter\n",
    "            Xf=vec_nor(Xf);\t\t\t\n",
    "            \n",
    "            # Derivate of the Signal\n",
    "            dX=derivate(Xf);\t\t\t\t# Derivate of the signal\n",
    "            dX=vec_nor(dX);\t\t\t\t\t# Vector Normalizing\n",
    "            # Square of the signal\n",
    "            dy=np.square(Xf);\n",
    "            dy=vec_nor(dy);\n",
    "                    \n",
    "            size=np.shape(Xf)\t\t\t\t# Rank or dimension of the array\n",
    "            fil=size[0];\t\t\t\t\t# Number of rows\n",
    "\n",
    "            positive=np.zeros((1,fil+1));                   # Initializating Positives Values Vector \n",
    "            positive=positive[0];                           # Getting the Vector\n",
    "\n",
    "            points=np.zeros((1,fil));                       # Initializating the all Peak Points Vector\n",
    "            points=points[0];                               # Getting the point vector\n",
    "\n",
    "            peaks=np.zeros((1,fil));                        # Initializating the s1-s1 Peak Vector\n",
    "            peaks=peaks[0];                                 # Getting the point vector\n",
    "\n",
    "            \n",
    "            for i in range(0,fil):\n",
    "                if dX[i]>0:\n",
    "                    positive[i]=1;\n",
    "                else:\n",
    "                    positive[i]=0;\n",
    "    \n",
    "            for i in range(0,fil):\n",
    "                if (positive[i]==1 and positive[i+1]==0):\n",
    "                    points[i]=Xf[i];\n",
    "                else:\n",
    "                    points[i]=0;\n",
    "\n",
    "            indexes=peakutils.indexes(points,thres=0.5/max(points), min_dist=500);\n",
    "            lenght=np.shape(indexes)\t\t\t# Get the length of the index vector\t\t\n",
    "            lenght=lenght[0];\t\t\t\t# Get the value of the index vector\n",
    "\n",
    "            for i in range(0,lenght):\n",
    "                p=indexes[i];\n",
    "                peaks[p]=points[p];\n",
    "        \n",
    "            n=np.arange(0,fil);                            # Vector to the X axes (Number of Samples)\n",
    "            \n",
    "#             plt.figure(0)\n",
    "#             plt.subplot(3,1,1)\n",
    "#             plt.plot(n,Xf)\n",
    "#             plt.grid(True)\n",
    "#             plt.title('Normal Phonocardiogram Signal')\n",
    "#             plt.subplot(3,1,2)\n",
    "#             plt.plot(n,Xf,'k',n,points,'bo')\n",
    "#             plt.grid(True)\n",
    "#             plt.title('Phonocardiogram Signal All Peaks Points')\n",
    "#             plt.ylabel('Normalized Amplitude',fontsize=12)\n",
    "#             plt.subplot(3,1,3)\n",
    "#             plt.plot(n,Xf,'k',n,peaks,'bo')\n",
    "#             plt.title('Phonocardiogram Signal s1-s1 Peak Detection')\n",
    "#             plt.xlabel('Number of Samples',fontsize=12)\n",
    "#             plt.grid(True)\n",
    "\n",
    "\n",
    "#             plt.figure(1)\n",
    "#             plt.plot(n,Xf,'k',n,peaks,'bo')\n",
    "#             plt.ylabel('Normalized Amplitude',fontsize=12)\n",
    "#             plt.xlabel('Number of Samples',fontsize=12)\n",
    "#             plt.title('Phonocardiogram Signal s1-s1 Peak Detection')\n",
    "#             plt.grid(True)\n",
    "#             plt.show()\n",
    "\n",
    "            \n",
    "            \n",
    "            indexes =indexes+(k*per_sec)    \n",
    "            tmp_peaks = np.array(indexes)\n",
    "                    \n",
    "                    \n",
    "            tmp_interval.extend(tmp_peaks)\n",
    "        \n",
    "        tmp_interval = np.array(tmp_interval)\n",
    "        tmp_interval = np.diff(tmp_interval)\n",
    "        test_interval.append(tmp_interval)\n",
    "\n",
    "test_interval = np.array(test_interval)"
   ]
  },
  {
   "cell_type": "code",
   "execution_count": 28,
   "id": "3a1abb9c",
   "metadata": {},
   "outputs": [
    {
     "data": {
      "text/plain": [
       "array([array([ 1185,   887,  1195,  1084,  1105,  1089,  1144,   870,  1092,\n",
       "                929,  1067,  1070,  1104,  1071,   855,   551,  1100,  1057,\n",
       "                981,  1355,   892,  1240,  1111,  1259,   990,  1183,  1100,\n",
       "                644,   581,   973,  1209,   893,  1395,  1006,  1239,  1104,\n",
       "               1334,  1120,  1187,  1284,   786,   884,  1067,  1110,  1037,\n",
       "               2921,   505, 17409,  7721,  3104])                           ,\n",
       "       array([ 577,  683, 1000, 1291,  991, 1187,  978,  952, 1178, 1157, 1018,\n",
       "              1183, 1017, 1250, 1009, 1181,  986,  763, 1255, 1049, 1387,  624,\n",
       "               993, 1042,  988, 1128,  978, 2089, 1189,  832, 1025, 2128, 1008,\n",
       "              1696, 2619, 1017, 1440, 1004, 1366, 1012, 1319])                 ,\n",
       "       array([1005, 1172,  863, 1175,  960,  970, 1007, 1214,  861, 1147,  974,\n",
       "               564, 1511, 1171,  826, 1168,  849, 1197,  874, 1079,  997, 1183,\n",
       "               998, 1352,  858, 1240,  850,  639,  567,  867, 1178, 1011, 1345,\n",
       "               880, 1380, 1142, 1068,  860, 1231,  868, 1286,  893, 1175, 1016,\n",
       "              1217, 1004])                                                     ,\n",
       "       ...,\n",
       "       array([3018, 1973, 1009, 2070,  956, 1358, 1920, 1393, 1093,  854, 3119,\n",
       "              1299, 1925,  526,  810, 1878,  726,  546,  953,  831,  697,  578,\n",
       "               776, 1152, 3321, 1273, 1842, 3190, 3328, 3222, 1083, 2160, 3042,\n",
       "              3200, 1810, 1202, 1281, 1802])                                   ,\n",
       "       array([1213,  584, 1319,  670,  881, 1396, 1671, 1189, 2047, 1171,  986,\n",
       "              1079, 1158, 1879, 3135, 3286, 2857, 3044, 3104, 3049, 2790, 3093,\n",
       "              1163, 1921, 3030, 2759, 2963, 3049, 3015, 2716])                 ,\n",
       "       array([2789,  628, 2052, 2799, 2897, 2994, 2988, 3117, 3165, 3161, 3175,\n",
       "              3227, 3274, 3053, 3113, 3173,  711, 2553, 3047, 3158, 3211, 3121])],\n",
       "      dtype=object)"
      ]
     },
     "execution_count": 28,
     "metadata": {},
     "output_type": "execute_result"
    }
   ],
   "source": [
    "test_interval"
   ]
  },
  {
   "cell_type": "code",
   "execution_count": 29,
   "id": "9e19604a",
   "metadata": {},
   "outputs": [],
   "source": [
    "total_length=[]\n",
    "for i in range(len(test_interval)):\n",
    "    tmp_length=len(test_interval[i])\n",
    "    total_length.append(tmp_length)"
   ]
  },
  {
   "cell_type": "code",
   "execution_count": 30,
   "id": "c45b3eeb",
   "metadata": {},
   "outputs": [
    {
     "data": {
      "text/plain": [
       "192"
      ]
     },
     "execution_count": 30,
     "metadata": {},
     "output_type": "execute_result"
    }
   ],
   "source": [
    "np.max(np.array(total_length))"
   ]
  },
  {
   "cell_type": "code",
   "execution_count": null,
   "id": "3fbc6421",
   "metadata": {},
   "outputs": [],
   "source": []
  },
  {
   "cell_type": "code",
   "execution_count": null,
   "id": "60a16dfc",
   "metadata": {},
   "outputs": [],
   "source": []
  },
  {
   "cell_type": "code",
   "execution_count": null,
   "id": "988be541",
   "metadata": {},
   "outputs": [],
   "source": []
  },
  {
   "cell_type": "code",
   "execution_count": null,
   "id": "42af9dad",
   "metadata": {},
   "outputs": [],
   "source": []
  },
  {
   "cell_type": "code",
   "execution_count": null,
   "id": "7f1ed102",
   "metadata": {},
   "outputs": [],
   "source": []
  },
  {
   "cell_type": "code",
   "execution_count": null,
   "id": "ef582dc6",
   "metadata": {},
   "outputs": [],
   "source": []
  },
  {
   "cell_type": "code",
   "execution_count": null,
   "id": "4b05436e",
   "metadata": {},
   "outputs": [],
   "source": []
  },
  {
   "cell_type": "code",
   "execution_count": null,
   "id": "b404e84a",
   "metadata": {},
   "outputs": [],
   "source": []
  },
  {
   "cell_type": "code",
   "execution_count": null,
   "id": "0f07e4b4",
   "metadata": {},
   "outputs": [],
   "source": []
  },
  {
   "cell_type": "code",
   "execution_count": null,
   "id": "e5a72818",
   "metadata": {},
   "outputs": [],
   "source": []
  },
  {
   "cell_type": "code",
   "execution_count": null,
   "id": "ad279ebd",
   "metadata": {},
   "outputs": [],
   "source": []
  },
  {
   "cell_type": "code",
   "execution_count": null,
   "id": "5e7c534e",
   "metadata": {},
   "outputs": [],
   "source": []
  },
  {
   "cell_type": "code",
   "execution_count": null,
   "id": "fc593982",
   "metadata": {},
   "outputs": [],
   "source": []
  },
  {
   "cell_type": "code",
   "execution_count": null,
   "id": "535c018c",
   "metadata": {},
   "outputs": [],
   "source": []
  },
  {
   "cell_type": "code",
   "execution_count": null,
   "id": "9caf9ec2",
   "metadata": {},
   "outputs": [],
   "source": []
  },
  {
   "cell_type": "code",
   "execution_count": null,
   "id": "0b415c26",
   "metadata": {},
   "outputs": [],
   "source": []
  }
 ],
 "metadata": {
  "kernelspec": {
   "display_name": "Python 3 (ipykernel)",
   "language": "python",
   "name": "python3"
  },
  "language_info": {
   "codemirror_mode": {
    "name": "ipython",
    "version": 3
   },
   "file_extension": ".py",
   "mimetype": "text/x-python",
   "name": "python",
   "nbconvert_exporter": "python",
   "pygments_lexer": "ipython3",
   "version": "3.8.13"
  }
 },
 "nbformat": 4,
 "nbformat_minor": 5
}
