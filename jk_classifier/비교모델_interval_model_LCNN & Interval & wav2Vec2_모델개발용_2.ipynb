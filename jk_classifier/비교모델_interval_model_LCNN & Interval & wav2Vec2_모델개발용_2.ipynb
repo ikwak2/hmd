{
 "cells": [
  {
   "cell_type": "code",
   "execution_count": 1,
   "id": "3d55dbd4",
   "metadata": {},
   "outputs": [],
   "source": [
    "import tensorflow as tf"
   ]
  },
  {
   "cell_type": "code",
   "execution_count": 2,
   "id": "ad188626",
   "metadata": {
    "scrolled": true
   },
   "outputs": [
    {
     "name": "stderr",
     "output_type": "stream",
     "text": [
      "2022-08-12 01:30:18.374152: I tensorflow/stream_executor/cuda/cuda_gpu_executor.cc:936] successful NUMA node read from SysFS had negative value (-1), but there must be at least one NUMA node, so returning NUMA node zero\n",
      "2022-08-12 01:30:18.378112: I tensorflow/stream_executor/cuda/cuda_gpu_executor.cc:936] successful NUMA node read from SysFS had negative value (-1), but there must be at least one NUMA node, so returning NUMA node zero\n",
      "2022-08-12 01:30:18.378435: I tensorflow/stream_executor/cuda/cuda_gpu_executor.cc:936] successful NUMA node read from SysFS had negative value (-1), but there must be at least one NUMA node, so returning NUMA node zero\n",
      "2022-08-12 01:30:18.378910: I tensorflow/core/platform/cpu_feature_guard.cc:151] This TensorFlow binary is optimized with oneAPI Deep Neural Network Library (oneDNN) to use the following CPU instructions in performance-critical operations:  AVX2 FMA\n",
      "To enable them in other operations, rebuild TensorFlow with the appropriate compiler flags.\n",
      "2022-08-12 01:30:18.379873: I tensorflow/stream_executor/cuda/cuda_gpu_executor.cc:936] successful NUMA node read from SysFS had negative value (-1), but there must be at least one NUMA node, so returning NUMA node zero\n",
      "2022-08-12 01:30:18.380269: I tensorflow/stream_executor/cuda/cuda_gpu_executor.cc:936] successful NUMA node read from SysFS had negative value (-1), but there must be at least one NUMA node, so returning NUMA node zero\n",
      "2022-08-12 01:30:18.380639: I tensorflow/stream_executor/cuda/cuda_gpu_executor.cc:936] successful NUMA node read from SysFS had negative value (-1), but there must be at least one NUMA node, so returning NUMA node zero\n",
      "2022-08-12 01:30:18.755041: I tensorflow/stream_executor/cuda/cuda_gpu_executor.cc:936] successful NUMA node read from SysFS had negative value (-1), but there must be at least one NUMA node, so returning NUMA node zero\n",
      "2022-08-12 01:30:18.755358: I tensorflow/stream_executor/cuda/cuda_gpu_executor.cc:936] successful NUMA node read from SysFS had negative value (-1), but there must be at least one NUMA node, so returning NUMA node zero\n",
      "2022-08-12 01:30:18.755629: I tensorflow/stream_executor/cuda/cuda_gpu_executor.cc:936] successful NUMA node read from SysFS had negative value (-1), but there must be at least one NUMA node, so returning NUMA node zero\n",
      "2022-08-12 01:30:18.755879: I tensorflow/core/common_runtime/gpu/gpu_device.cc:1525] Created device /job:localhost/replica:0/task:0/device:GPU:0 with 9216 MB memory:  -> device: 0, name: GeForce RTX 2080 Ti, pci bus id: 0000:01:00.0, compute capability: 7.5\n"
     ]
    }
   ],
   "source": [
    "import os\n",
    "import pandas as pd\n",
    "import numpy as np\n",
    "import scipy as sp\n",
    "import scipy.stats\n",
    "import librosa\n",
    "import librosa.display\n",
    "import math\n",
    "import sys\n",
    "#sys.path.insert(0,'/home/ikwak2/hmd/notebooks')\n",
    "sys.path.insert(0,'lucashnegri-peakutils-51a679cd8428')\n",
    "# sys.path.insert(0,'S1-S1-Phonocardiogram-Peak-Detection-Method-in-Python')\n",
    "sys.path.insert(0,'utils')\n",
    "from helper_code import *\n",
    "from get_feature import *\n",
    "from models import *\n",
    "from Generator0 import *\n",
    "from keras.preprocessing import sequence\n",
    "# import peakutils\n",
    "from scipy import special\n",
    "import scipy.io as sio\n",
    "from keras.preprocessing.sequence import pad_sequences\n",
    "import peakutils\n",
    "from tensorflow import keras\n",
    "from tensorflow.keras import layers\n",
    "from tensorflow.keras.callbacks import LearningRateScheduler,ModelCheckpoint"
   ]
  },
  {
   "cell_type": "code",
   "execution_count": 3,
   "id": "f8c573ff",
   "metadata": {},
   "outputs": [
    {
     "data": {
      "text/plain": [
       "'/home/jk21/Documents/hmd/jk_classifier'"
      ]
     },
     "execution_count": 3,
     "metadata": {},
     "output_type": "execute_result"
    }
   ],
   "source": [
    "pwd"
   ]
  },
  {
   "cell_type": "code",
   "execution_count": 4,
   "id": "42f5dd9c",
   "metadata": {},
   "outputs": [],
   "source": [
    "# data_folder =  'physionet.org/files/circor-heart-sound/1.0.3/training_data'\n",
    "train_folder =  '/home/jk21/Downloads/Data/data/murmur/train'\n",
    "test_folder = '/home/jk21/Downloads/Data/data/murmur/test'\n"
   ]
  },
  {
   "cell_type": "code",
   "execution_count": 5,
   "id": "ca657f78",
   "metadata": {},
   "outputs": [],
   "source": [
    "model_folder = 'lcnn2'"
   ]
  },
  {
   "cell_type": "code",
   "execution_count": 6,
   "id": "e49f868b",
   "metadata": {},
   "outputs": [
    {
     "data": {
      "text/plain": [
       "'lcnn2'"
      ]
     },
     "execution_count": 6,
     "metadata": {},
     "output_type": "execute_result"
    }
   ],
   "source": [
    "model_folder"
   ]
  },
  {
   "cell_type": "code",
   "execution_count": 7,
   "id": "e76c75d5",
   "metadata": {},
   "outputs": [],
   "source": [
    "def sigmoidal_decay(e, start=0, end=100, lr_start=1e-3, lr_end=1e-5):\n",
    "    if e < start:\n",
    "        return lr_start\n",
    "    elif e > end:\n",
    "        return lr_end\n",
    "\n",
    "    middle = (start + end) / 2\n",
    "    s = lambda x: 1 / (1 + np.exp(-x))\n",
    "\n",
    "    return s(13 * (-e + middle) / np.abs(end - start)) * np.abs(lr_start - lr_end) + lr_end"
   ]
  },
  {
   "cell_type": "code",
   "execution_count": 8,
   "id": "ac7432d8",
   "metadata": {},
   "outputs": [],
   "source": [
    "patient_files_trn = find_patient_files(train_folder)\n",
    "patient_files_test = find_patient_files(test_folder)"
   ]
  },
  {
   "cell_type": "code",
   "execution_count": 9,
   "id": "a30c2ab2",
   "metadata": {},
   "outputs": [],
   "source": [
    "\n",
    "\n",
    "per_sec=16000\n",
    "winlen = 512\n",
    "hoplen = 256\n",
    "nmel = 120 \n",
    "nsec = 20 \n",
    "trim = 1 \n",
    "use_mel=True\n",
    "use_cqt = False \n",
    "use_stft = False\n",
    "use_raw=True\n",
    "use_interval=True\n",
    "use_wav2=True\n",
    "maxlen1 = 246000\n",
    "min_dist = 500\n",
    "max_interval_len = 192\n"
   ]
  },
  {
   "cell_type": "code",
   "execution_count": 10,
   "id": "701e9583",
   "metadata": {},
   "outputs": [],
   "source": [
    "model1_callback = tf.keras.callbacks.ModelCheckpoint(\n",
    "    filepath=model_folder,\n",
    "    monitor='val_accuracy',\n",
    "    verbose=0,\n",
    "    save_best_only=True,\n",
    "    save_weights_only=True,\n",
    "    mode='auto',\n",
    "    save_freq='epoch',\n",
    "    options=None,\n",
    "    initial_value_threshold=None\n",
    ")\n"
   ]
  },
  {
   "cell_type": "code",
   "execution_count": 11,
   "id": "d03a4cfb",
   "metadata": {},
   "outputs": [],
   "source": [
    "model2_callback = tf.keras.callbacks.ModelCheckpoint(\n",
    "    filepath=model_folder,\n",
    "    monitor='val_loss',\n",
    "    verbose=0,\n",
    "    save_best_only=True,\n",
    "    save_weights_only=True,\n",
    "    mode='auto',\n",
    "    save_freq='epoch',\n",
    "    options=None,\n",
    "    initial_value_threshold=None\n",
    ")    "
   ]
  },
  {
   "cell_type": "code",
   "execution_count": 12,
   "id": "ef84621c",
   "metadata": {},
   "outputs": [],
   "source": [
    "params_feature = {'samp_sec': nsec,\n",
    "                  #### melspec, stft 피쳐 옵션들  \n",
    "                  'pre_emphasis': 0,\n",
    "                  'hop_length': hoplen,\n",
    "                  'win_length': winlen,\n",
    "                  'n_mels': nmel,\n",
    "                  #### cqt 피쳐 옵션들  \n",
    "                  'filter_scale': 1,\n",
    "                  'n_bins': 80,\n",
    "                  'fmin': 10,\n",
    "                  'maxlen1': maxlen1,\n",
    "                  'min_dist':min_dist,\n",
    "                  'max_interval_len' : max_interval_len,\n",
    "                  'trim' :1,\n",
    "                  'use_raw' : use_raw,\n",
    "                  'use_mel' : use_mel,\n",
    "                  'use_cqt' : use_cqt,\n",
    "                  'use_stft' : use_stft,\n",
    "                  'use_interval' : use_interval,\n",
    "                  'use_wav2' : use_wav2,\n",
    "                  'per_sec' : per_sec\n",
    "}"
   ]
  },
  {
   "cell_type": "code",
   "execution_count": 13,
   "id": "ca1fabdb",
   "metadata": {},
   "outputs": [],
   "source": [
    "params_feature = {'samp_sec': nsec,\n",
    "                  #### melspec, stft 피쳐 옵션들  \n",
    "                  'pre_emphasis': 0,\n",
    "                  'hop_length': hoplen,\n",
    "                  'win_length': winlen,\n",
    "                  'n_mels': nmel,\n",
    "                  #### cqt 피쳐 옵션들  \n",
    "                  'filter_scale': 1,\n",
    "                  'n_bins': 80,\n",
    "                  'fmin': 10,\n",
    "                  'maxlen1': maxlen1,\n",
    "                  'min_dist':min_dist,\n",
    "                  'max_interval_len' : max_interval_len,\n",
    "                  'trim' :1,\n",
    "                  'use_raw' : use_raw,\n",
    "                  'use_mel' : use_mel,\n",
    "                  'use_cqt' : use_cqt,\n",
    "                  'use_stft' : use_stft,\n",
    "                  'use_interval' : use_interval,\n",
    "                  'use_wav2' : use_wav2,\n",
    "                  'per_sec' : per_sec\n",
    "}"
   ]
  },
  {
   "cell_type": "code",
   "execution_count": 14,
   "id": "a4acff06",
   "metadata": {},
   "outputs": [
    {
     "data": {
      "text/plain": [
       "{'samp_sec': 20,\n",
       " 'pre_emphasis': 0,\n",
       " 'hop_length': 256,\n",
       " 'win_length': 512,\n",
       " 'n_mels': 120,\n",
       " 'filter_scale': 1,\n",
       " 'n_bins': 80,\n",
       " 'fmin': 10,\n",
       " 'maxlen1': 246000,\n",
       " 'min_dist': 500,\n",
       " 'max_interval_len': 192,\n",
       " 'trim': 1,\n",
       " 'use_raw': True,\n",
       " 'use_mel': True,\n",
       " 'use_cqt': False,\n",
       " 'use_stft': False,\n",
       " 'use_interval': True,\n",
       " 'use_wav2': True,\n",
       " 'per_sec': 16000}"
      ]
     },
     "execution_count": 14,
     "metadata": {},
     "output_type": "execute_result"
    }
   ],
   "source": [
    "params_feature"
   ]
  },
  {
   "cell_type": "code",
   "execution_count": null,
   "id": "c01a8f6e",
   "metadata": {},
   "outputs": [],
   "source": []
  },
  {
   "cell_type": "code",
   "execution_count": null,
   "id": "0b945a1a",
   "metadata": {},
   "outputs": [],
   "source": []
  },
  {
   "cell_type": "code",
   "execution_count": null,
   "id": "cec357e4",
   "metadata": {},
   "outputs": [],
   "source": []
  },
  {
   "cell_type": "code",
   "execution_count": 16,
   "id": "caa0f60d",
   "metadata": {},
   "outputs": [
    {
     "name": "stderr",
     "output_type": "stream",
     "text": [
      "100%|█████████████████████████████████████████| 751/751 [28:36<00:00,  2.29s/it]\n"
     ]
    },
    {
     "name": "stdout",
     "output_type": "stream",
     "text": [
      "melspec:  120 313\n",
      "cqt:  1 1\n",
      "stft:  1 1\n",
      "interval:  192 1\n",
      "raw1:  (246000,)\n"
     ]
    }
   ],
   "source": [
    "features_trn, mel_input_shape, cqt_input_shape,stft_input_shape,interval_input_shape,raw1_input_shape = get_features_3lb_all_ord(train_folder, patient_files_trn, **params_feature)\n"
   ]
  },
  {
   "cell_type": "code",
   "execution_count": 17,
   "id": "b04d2593",
   "metadata": {},
   "outputs": [
    {
     "name": "stderr",
     "output_type": "stream",
     "text": [
      "100%|█████████████████████████████████████████| 191/191 [08:00<00:00,  2.51s/it]\n"
     ]
    },
    {
     "name": "stdout",
     "output_type": "stream",
     "text": [
      "melspec:  120 313\n",
      "cqt:  1 1\n",
      "stft:  1 1\n",
      "interval:  192 1\n",
      "raw1:  (246000,)\n"
     ]
    }
   ],
   "source": [
    "features_test, mel_input_shape, cqt_input_shape,stft_input_shape,interval_input_shape,raw1_input_shape= get_features_3lb_all_ord(test_folder, patient_files_test, **params_feature)"
   ]
  },
  {
   "cell_type": "code",
   "execution_count": null,
   "id": "cd3db089",
   "metadata": {},
   "outputs": [],
   "source": []
  },
  {
   "cell_type": "code",
   "execution_count": null,
   "id": "fc048e01",
   "metadata": {},
   "outputs": [],
   "source": []
  },
  {
   "cell_type": "code",
   "execution_count": null,
   "id": "c49dd9a7",
   "metadata": {},
   "outputs": [],
   "source": []
  },
  {
   "cell_type": "code",
   "execution_count": null,
   "id": "3300e7d8",
   "metadata": {},
   "outputs": [],
   "source": []
  },
  {
   "cell_type": "code",
   "execution_count": null,
   "id": "4c5c77ac",
   "metadata": {},
   "outputs": [],
   "source": []
  },
  {
   "cell_type": "code",
   "execution_count": null,
   "id": "f701412d",
   "metadata": {},
   "outputs": [],
   "source": []
  },
  {
   "cell_type": "code",
   "execution_count": null,
   "id": "c062bb96",
   "metadata": {},
   "outputs": [],
   "source": []
  },
  {
   "cell_type": "code",
   "execution_count": 15,
   "id": "c05f1a96",
   "metadata": {},
   "outputs": [],
   "source": [
    "mm_weight = 3 #np.random.choice([2,3,4,5])\n",
    "oo_weight = 3 #np.random.choice([2,3,4,5,6])\n",
    "ord1 = True #np.random.choice([True,False])\n",
    "mm_mean = False #np.random.choice([True,False])\n",
    "dp = 0 #np.random.choice([0, .1, .2, .3])\n",
    "fc = False #np.random.choice([True,False])\n",
    "ext = True\n",
    "chaug = 10 #np.random.choice([0, 10])\n",
    "mixup = True #np.random.choice([True,False])\n",
    "cout = .8 #np.random.choice([0, 0.8])\n",
    "wunknown = 1 #np.random.choice([1, 0.7, .5, .2])\n",
    "n1 = 0 #np.random.choice([0,2])\n",
    "if n1 == 0 :\n",
    "    ranfil = False\n",
    "else :\n",
    "    ranfil = [n1, [18,19,20,21,22,23]]"
   ]
  },
  {
   "cell_type": "code",
   "execution_count": 16,
   "id": "9fe819a9",
   "metadata": {},
   "outputs": [],
   "source": [
    "params_feature['ord1'] = ord1\n",
    "params_feature['mm_mean'] = mm_mean\n",
    "params_feature['dp'] = dp\n",
    "params_feature['fc'] = fc\n",
    "params_feature['ext'] = ext\n",
    "params_feature['oo_weight'] = oo_weight\n",
    "params_feature['mm_weight'] = mm_weight\n",
    "params_feature['chaug'] = chaug\n",
    "params_feature['cout'] = cout\n",
    "params_feature['wunknown'] = wunknown\n",
    "params_feature['mixup'] = mixup\n",
    "params_feature['n1'] = n1"
   ]
  },
  {
   "cell_type": "code",
   "execution_count": 17,
   "id": "12a59049",
   "metadata": {},
   "outputs": [
    {
     "data": {
      "text/plain": [
       "{'samp_sec': 20,\n",
       " 'pre_emphasis': 0,\n",
       " 'hop_length': 256,\n",
       " 'win_length': 512,\n",
       " 'n_mels': 120,\n",
       " 'filter_scale': 1,\n",
       " 'n_bins': 80,\n",
       " 'fmin': 10,\n",
       " 'maxlen1': 246000,\n",
       " 'min_dist': 500,\n",
       " 'max_interval_len': 192,\n",
       " 'trim': 1,\n",
       " 'use_raw': True,\n",
       " 'use_mel': True,\n",
       " 'use_cqt': False,\n",
       " 'use_stft': False,\n",
       " 'use_interval': True,\n",
       " 'use_wav2': True,\n",
       " 'per_sec': 16000,\n",
       " 'ord1': True,\n",
       " 'mm_mean': False,\n",
       " 'dp': 0,\n",
       " 'fc': False,\n",
       " 'ext': True,\n",
       " 'oo_weight': 3,\n",
       " 'mm_weight': 3,\n",
       " 'chaug': 10,\n",
       " 'cout': 0.8,\n",
       " 'wunknown': 1,\n",
       " 'mixup': True,\n",
       " 'n1': 0}"
      ]
     },
     "execution_count": 17,
     "metadata": {},
     "output_type": "execute_result"
    }
   ],
   "source": [
    "params_feature"
   ]
  },
  {
   "cell_type": "code",
   "execution_count": null,
   "id": "17cd191d",
   "metadata": {},
   "outputs": [],
   "source": []
  },
  {
   "cell_type": "code",
   "execution_count": null,
   "id": "24434998",
   "metadata": {},
   "outputs": [],
   "source": []
  },
  {
   "cell_type": "code",
   "execution_count": null,
   "id": "ee510fdf",
   "metadata": {},
   "outputs": [],
   "source": []
  },
  {
   "cell_type": "code",
   "execution_count": null,
   "id": "dd6457f0",
   "metadata": {},
   "outputs": [],
   "source": []
  },
  {
   "cell_type": "code",
   "execution_count": 18,
   "id": "8b2ff2db",
   "metadata": {
    "scrolled": true
   },
   "outputs": [],
   "source": [
    "with open('/home/jk21/Downloads/Data/features_trn_wav2vec_include_interval_4sec.pickle', 'wb') as f:\n",
    "    pickle.dump(features_trn, f, pickle.HIGHEST_PROTOCOL)"
   ]
  },
  {
   "cell_type": "code",
   "execution_count": 19,
   "id": "b9f7179a",
   "metadata": {
    "scrolled": true
   },
   "outputs": [],
   "source": [
    "with open('/home/jk21/Downloads/Data/features_test_wav2vec_include_interval_4sec.pickle', 'wb') as f:\n",
    "    pickle.dump(features_test, f, pickle.HIGHEST_PROTOCOL)"
   ]
  },
  {
   "cell_type": "code",
   "execution_count": 18,
   "id": "79f59c5e",
   "metadata": {
    "scrolled": true
   },
   "outputs": [],
   "source": [
    "with open('/home/jk21/Downloads/Data/features_trn_wav2vec_include_interval_4sec.pickle', 'rb') as f:\n",
    "    features_trn = pickle.load(f)"
   ]
  },
  {
   "cell_type": "code",
   "execution_count": 19,
   "id": "dd412feb",
   "metadata": {},
   "outputs": [],
   "source": [
    "with open('/home/jk21/Downloads/Data/features_test_wav2vec_include_interval_4sec.pickle', 'rb') as f:\n",
    "    features_test = pickle.load(f)"
   ]
  },
  {
   "cell_type": "code",
   "execution_count": null,
   "id": "1499b589",
   "metadata": {},
   "outputs": [],
   "source": []
  },
  {
   "cell_type": "code",
   "execution_count": 20,
   "id": "400ceb7b",
   "metadata": {},
   "outputs": [],
   "source": [
    "#################################################"
   ]
  },
  {
   "cell_type": "code",
   "execution_count": 21,
   "id": "ce38e56d",
   "metadata": {},
   "outputs": [],
   "source": [
    "# from skimage.transform import resize\n",
    "# import matplotlib.pyplot as plt"
   ]
  },
  {
   "cell_type": "code",
   "execution_count": 22,
   "id": "48ced533",
   "metadata": {
    "scrolled": true
   },
   "outputs": [],
   "source": [
    "# tmp_wav2 = np.zeros((2532,32,374,1))\n",
    "# for i in range(len(features_trn['wav2'])):\n",
    "#     test_ary=features_trn['wav2'][i]\n",
    "#     res = resize(test_ary, (32,374,1))\n",
    "#     tmp_wav2[i]=res\n",
    "    "
   ]
  },
  {
   "cell_type": "code",
   "execution_count": 19,
   "id": "5c97584d",
   "metadata": {},
   "outputs": [],
   "source": [
    "# features_trn['wav2'] = tmp_wav2"
   ]
  },
  {
   "cell_type": "code",
   "execution_count": 32,
   "id": "0d02ec74",
   "metadata": {},
   "outputs": [
    {
     "data": {
      "text/plain": [
       "<matplotlib.image.AxesImage at 0x7ef9fc2f79d0>"
      ]
     },
     "execution_count": 32,
     "metadata": {},
     "output_type": "execute_result"
    },
    {
     "data": {
      "image/png": "[encoded data removed]",
      "text/plain": [
       "<Figure size 432x288 with 1 Axes>"
      ]
     },
     "metadata": {
      "needs_background": "light"
     },
     "output_type": "display_data"
    }
   ],
   "source": [
    "# plt.imshow(features_trn['wav2'][1])"
   ]
  },
  {
   "cell_type": "code",
   "execution_count": 20,
   "id": "31a6445a",
   "metadata": {},
   "outputs": [],
   "source": [
    "# tmp_wav2 = np.zeros((631,32,374,1))\n",
    "# for i in range(len(features_test['wav2'])):\n",
    "#     test_ary=features_test['wav2'][i]\n",
    "#     res = resize(test_ary, (32,374,1))\n",
    "#     tmp_wav2[i]=res"
   ]
  },
  {
   "cell_type": "code",
   "execution_count": 21,
   "id": "84a44f20",
   "metadata": {},
   "outputs": [],
   "source": [
    "# features_test['wav2'] = tmp_wav2"
   ]
  },
  {
   "cell_type": "code",
   "execution_count": null,
   "id": "0c6ed279",
   "metadata": {},
   "outputs": [],
   "source": [
    "##################################################"
   ]
  },
  {
   "cell_type": "code",
   "execution_count": null,
   "id": "50bc780b",
   "metadata": {},
   "outputs": [],
   "source": []
  },
  {
   "cell_type": "code",
   "execution_count": null,
   "id": "6f410772",
   "metadata": {},
   "outputs": [],
   "source": []
  },
  {
   "cell_type": "code",
   "execution_count": null,
   "id": "b3a0769f",
   "metadata": {},
   "outputs": [],
   "source": []
  },
  {
   "cell_type": "code",
   "execution_count": 20,
   "id": "460de784",
   "metadata": {},
   "outputs": [],
   "source": [
    "mel_input_shape = features_trn['mel1'].shape[1:]"
   ]
  },
  {
   "cell_type": "code",
   "execution_count": 21,
   "id": "5d0291cb",
   "metadata": {},
   "outputs": [
    {
     "data": {
      "text/plain": [
       "(120, 313, 1)"
      ]
     },
     "execution_count": 21,
     "metadata": {},
     "output_type": "execute_result"
    }
   ],
   "source": [
    "mel_input_shape"
   ]
  },
  {
   "cell_type": "code",
   "execution_count": 22,
   "id": "ec06d09a",
   "metadata": {},
   "outputs": [],
   "source": [
    "cqt_input_shape = features_trn['cqt1'].shape[1:]"
   ]
  },
  {
   "cell_type": "code",
   "execution_count": 23,
   "id": "31599947",
   "metadata": {},
   "outputs": [
    {
     "data": {
      "text/plain": [
       "(1, 1, 1)"
      ]
     },
     "execution_count": 23,
     "metadata": {},
     "output_type": "execute_result"
    }
   ],
   "source": [
    "cqt_input_shape"
   ]
  },
  {
   "cell_type": "code",
   "execution_count": 24,
   "id": "861213a4",
   "metadata": {},
   "outputs": [],
   "source": [
    "stft_input_shape = features_trn['stft1'].shape[1:]"
   ]
  },
  {
   "cell_type": "code",
   "execution_count": 25,
   "id": "6e151a70",
   "metadata": {},
   "outputs": [
    {
     "data": {
      "text/plain": [
       "(1, 1, 1)"
      ]
     },
     "execution_count": 25,
     "metadata": {},
     "output_type": "execute_result"
    }
   ],
   "source": [
    "stft_input_shape"
   ]
  },
  {
   "cell_type": "code",
   "execution_count": 26,
   "id": "0b7eb1dd",
   "metadata": {},
   "outputs": [],
   "source": [
    "interval_input_shape= features_trn['interval'].shape[1:]"
   ]
  },
  {
   "cell_type": "code",
   "execution_count": 27,
   "id": "6c31f94d",
   "metadata": {
    "scrolled": true
   },
   "outputs": [
    {
     "data": {
      "text/plain": [
       "(192, 1)"
      ]
     },
     "execution_count": 27,
     "metadata": {},
     "output_type": "execute_result"
    }
   ],
   "source": [
    "interval_input_shape"
   ]
  },
  {
   "cell_type": "code",
   "execution_count": 28,
   "id": "c26d851e",
   "metadata": {},
   "outputs": [],
   "source": [
    "wav2_input_shape= features_trn['wav2'].shape[1:]"
   ]
  },
  {
   "cell_type": "code",
   "execution_count": 29,
   "id": "7553a46c",
   "metadata": {},
   "outputs": [
    {
     "data": {
      "text/plain": [
       "(32, 768)"
      ]
     },
     "execution_count": 29,
     "metadata": {},
     "output_type": "execute_result"
    }
   ],
   "source": [
    "wav2_input_shape"
   ]
  },
  {
   "cell_type": "code",
   "execution_count": 30,
   "id": "d699029c",
   "metadata": {},
   "outputs": [],
   "source": [
    "raw1_input_shape= features_trn['raw1'].shape[1:]"
   ]
  },
  {
   "cell_type": "code",
   "execution_count": 31,
   "id": "5e26098d",
   "metadata": {},
   "outputs": [
    {
     "data": {
      "text/plain": [
       "(246000,)"
      ]
     },
     "execution_count": 31,
     "metadata": {},
     "output_type": "execute_result"
    }
   ],
   "source": [
    "raw1_input_shape"
   ]
  },
  {
   "cell_type": "code",
   "execution_count": null,
   "id": "487c7f3d",
   "metadata": {},
   "outputs": [],
   "source": []
  },
  {
   "cell_type": "code",
   "execution_count": null,
   "id": "ba197b18",
   "metadata": {},
   "outputs": [],
   "source": []
  },
  {
   "cell_type": "code",
   "execution_count": null,
   "id": "2a10a059",
   "metadata": {},
   "outputs": [],
   "source": []
  },
  {
   "cell_type": "code",
   "execution_count": 32,
   "id": "5ffbed82",
   "metadata": {
    "scrolled": true
   },
   "outputs": [],
   "source": [
    "model1 = get_LCNN_o_4_dr_1_7(mel_input_shape, cqt_input_shape, stft_input_shape,interval_input_shape,wav2_input_shape,raw1_input_shape,use_mel = use_mel, use_raw=use_raw,use_wav2=use_wav2, ord1 = ord1,dp = dp, fc = fc, ext = ext)"
   ]
  },
  {
   "cell_type": "code",
   "execution_count": 33,
   "id": "9ccc8685",
   "metadata": {},
   "outputs": [],
   "source": [
    "\n",
    "model2 = get_LCNN_o_4_dr_1_7(mel_input_shape, cqt_input_shape, stft_input_shape,interval_input_shape,wav2_input_shape,raw1_input_shape,use_mel = use_mel, use_raw=use_raw,use_wav2=use_wav2, ord1 = ord1,dp = dp, fc = fc, ext = ext)\n"
   ]
  },
  {
   "cell_type": "code",
   "execution_count": 34,
   "id": "4e462fa8",
   "metadata": {},
   "outputs": [
    {
     "name": "stdout",
     "output_type": "stream",
     "text": [
      "Model: \"model_1\"\n",
      "__________________________________________________________________________________________________\n",
      " Layer (type)                   Output Shape         Param #     Connected to                     \n",
      "==================================================================================================\n",
      " raw1 (InputLayer)              [(None, 246000)]     0           []                               \n",
      "                                                                                                  \n",
      " interval (InputLayer)          [(None, 192, 1)]     0           []                               \n",
      "                                                                                                  \n",
      " reshape (Reshape)              (None, 300, 820)     0           ['raw1[0][0]']                   \n",
      "                                                                                                  \n",
      " conv1d (Conv1D)                (None, 192, 9)       36          ['interval[0][0]']               \n",
      "                                                                                                  \n",
      " conv1d_1 (Conv1D)              (None, 192, 9)       36          ['interval[0][0]']               \n",
      "                                                                                                  \n",
      " conv1d_40 (Conv1D)             (None, 300, 9)       22149       ['reshape[0][0]']                \n",
      "                                                                                                  \n",
      " conv1d_41 (Conv1D)             (None, 300, 9)       22149       ['reshape[0][0]']                \n",
      "                                                                                                  \n",
      " maximum (Maximum)              (None, 192, 9)       0           ['conv1d[0][0]',                 \n",
      "                                                                  'conv1d_1[0][0]']               \n",
      "                                                                                                  \n",
      " maximum_20 (Maximum)           (None, 300, 9)       0           ['conv1d_40[0][0]',              \n",
      "                                                                  'conv1d_41[0][0]']              \n",
      "                                                                                                  \n",
      " max_pooling1d (MaxPooling1D)   (None, 191, 9)       0           ['maximum[0][0]']                \n",
      "                                                                                                  \n",
      " max_pooling1d_20 (MaxPooling1D  (None, 299, 9)      0           ['maximum_20[0][0]']             \n",
      " )                                                                                                \n",
      "                                                                                                  \n",
      " conv1d_2 (Conv1D)              (None, 191, 9)       171         ['max_pooling1d[0][0]']          \n",
      "                                                                                                  \n",
      " conv1d_3 (Conv1D)              (None, 191, 9)       171         ['max_pooling1d[0][0]']          \n",
      "                                                                                                  \n",
      " conv1d_42 (Conv1D)             (None, 299, 9)       171         ['max_pooling1d_20[0][0]']       \n",
      "                                                                                                  \n",
      " conv1d_43 (Conv1D)             (None, 299, 9)       171         ['max_pooling1d_20[0][0]']       \n",
      "                                                                                                  \n",
      " maximum_1 (Maximum)            (None, 191, 9)       0           ['conv1d_2[0][0]',               \n",
      "                                                                  'conv1d_3[0][0]']               \n",
      "                                                                                                  \n",
      " maximum_21 (Maximum)           (None, 299, 9)       0           ['conv1d_42[0][0]',              \n",
      "                                                                  'conv1d_43[0][0]']              \n",
      "                                                                                                  \n",
      " max_pooling1d_1 (MaxPooling1D)  (None, 190, 9)      0           ['maximum_1[0][0]']              \n",
      "                                                                                                  \n",
      " max_pooling1d_21 (MaxPooling1D  (None, 298, 9)      0           ['maximum_21[0][0]']             \n",
      " )                                                                                                \n",
      "                                                                                                  \n",
      " conv1d_4 (Conv1D)              (None, 190, 9)       171         ['max_pooling1d_1[0][0]']        \n",
      "                                                                                                  \n",
      " conv1d_5 (Conv1D)              (None, 190, 9)       171         ['max_pooling1d_1[0][0]']        \n",
      "                                                                                                  \n",
      " conv1d_44 (Conv1D)             (None, 298, 9)       171         ['max_pooling1d_21[0][0]']       \n",
      "                                                                                                  \n",
      " conv1d_45 (Conv1D)             (None, 298, 9)       171         ['max_pooling1d_21[0][0]']       \n",
      "                                                                                                  \n",
      " maximum_2 (Maximum)            (None, 190, 9)       0           ['conv1d_4[0][0]',               \n",
      "                                                                  'conv1d_5[0][0]']               \n",
      "                                                                                                  \n",
      " maximum_22 (Maximum)           (None, 298, 9)       0           ['conv1d_44[0][0]',              \n",
      "                                                                  'conv1d_45[0][0]']              \n",
      "                                                                                                  \n",
      " max_pooling1d_2 (MaxPooling1D)  (None, 189, 9)      0           ['maximum_2[0][0]']              \n",
      "                                                                                                  \n",
      " max_pooling1d_22 (MaxPooling1D  (None, 297, 9)      0           ['maximum_22[0][0]']             \n",
      " )                                                                                                \n",
      "                                                                                                  \n",
      " conv1d_6 (Conv1D)              (None, 189, 9)       171         ['max_pooling1d_2[0][0]']        \n",
      "                                                                                                  \n",
      " conv1d_7 (Conv1D)              (None, 189, 9)       171         ['max_pooling1d_2[0][0]']        \n",
      "                                                                                                  \n",
      " conv1d_46 (Conv1D)             (None, 297, 9)       171         ['max_pooling1d_22[0][0]']       \n",
      "                                                                                                  \n",
      " conv1d_47 (Conv1D)             (None, 297, 9)       171         ['max_pooling1d_22[0][0]']       \n",
      "                                                                                                  \n",
      " maximum_3 (Maximum)            (None, 189, 9)       0           ['conv1d_6[0][0]',               \n",
      "                                                                  'conv1d_7[0][0]']               \n",
      "                                                                                                  \n",
      " maximum_23 (Maximum)           (None, 297, 9)       0           ['conv1d_46[0][0]',              \n",
      "                                                                  'conv1d_47[0][0]']              \n",
      "                                                                                                  \n",
      " max_pooling1d_3 (MaxPooling1D)  (None, 188, 9)      0           ['maximum_3[0][0]']              \n",
      "                                                                                                  \n",
      " max_pooling1d_23 (MaxPooling1D  (None, 296, 9)      0           ['maximum_23[0][0]']             \n"
     ]
    },
    {
     "name": "stdout",
     "output_type": "stream",
     "text": [
      " )                                                                                                \n",
      "                                                                                                  \n",
      " conv1d_8 (Conv1D)              (None, 188, 9)       171         ['max_pooling1d_3[0][0]']        \n",
      "                                                                                                  \n",
      " conv1d_48 (Conv1D)             (None, 296, 9)       171         ['max_pooling1d_23[0][0]']       \n",
      "                                                                                                  \n",
      " conv1d_49 (Conv1D)             (None, 296, 9)       171         ['max_pooling1d_23[0][0]']       \n",
      "                                                                                                  \n",
      " maximum_4 (Maximum)            (None, 188, 9)       0           ['conv1d_8[0][0]',               \n",
      "                                                                  'conv1d_8[0][0]']               \n",
      "                                                                                                  \n",
      " maximum_24 (Maximum)           (None, 296, 9)       0           ['conv1d_48[0][0]',              \n",
      "                                                                  'conv1d_49[0][0]']              \n",
      "                                                                                                  \n",
      " max_pooling1d_4 (MaxPooling1D)  (None, 187, 9)      0           ['maximum_4[0][0]']              \n",
      "                                                                                                  \n",
      " max_pooling1d_24 (MaxPooling1D  (None, 295, 9)      0           ['maximum_24[0][0]']             \n",
      " )                                                                                                \n",
      "                                                                                                  \n",
      " conv1d_10 (Conv1D)             (None, 187, 9)       171         ['max_pooling1d_4[0][0]']        \n",
      "                                                                                                  \n",
      " conv1d_11 (Conv1D)             (None, 187, 9)       171         ['max_pooling1d_4[0][0]']        \n",
      "                                                                                                  \n",
      " conv1d_50 (Conv1D)             (None, 295, 9)       171         ['max_pooling1d_24[0][0]']       \n",
      "                                                                                                  \n",
      " conv1d_51 (Conv1D)             (None, 295, 9)       171         ['max_pooling1d_24[0][0]']       \n",
      "                                                                                                  \n",
      " maximum_5 (Maximum)            (None, 187, 9)       0           ['conv1d_10[0][0]',              \n",
      "                                                                  'conv1d_11[0][0]']              \n",
      "                                                                                                  \n",
      " maximum_25 (Maximum)           (None, 295, 9)       0           ['conv1d_50[0][0]',              \n",
      "                                                                  'conv1d_51[0][0]']              \n",
      "                                                                                                  \n",
      " max_pooling1d_5 (MaxPooling1D)  (None, 186, 9)      0           ['maximum_5[0][0]']              \n",
      "                                                                                                  \n",
      " max_pooling1d_25 (MaxPooling1D  (None, 294, 9)      0           ['maximum_25[0][0]']             \n",
      " )                                                                                                \n",
      "                                                                                                  \n",
      " conv1d_12 (Conv1D)             (None, 186, 9)       171         ['max_pooling1d_5[0][0]']        \n",
      "                                                                                                  \n",
      " conv1d_13 (Conv1D)             (None, 186, 9)       171         ['max_pooling1d_5[0][0]']        \n",
      "                                                                                                  \n",
      " conv1d_52 (Conv1D)             (None, 294, 9)       171         ['max_pooling1d_25[0][0]']       \n",
      "                                                                                                  \n",
      " conv1d_53 (Conv1D)             (None, 294, 9)       171         ['max_pooling1d_25[0][0]']       \n",
      "                                                                                                  \n",
      " maximum_6 (Maximum)            (None, 186, 9)       0           ['conv1d_12[0][0]',              \n",
      "                                                                  'conv1d_13[0][0]']              \n",
      "                                                                                                  \n",
      " maximum_26 (Maximum)           (None, 294, 9)       0           ['conv1d_52[0][0]',              \n",
      "                                                                  'conv1d_53[0][0]']              \n",
      "                                                                                                  \n",
      " max_pooling1d_6 (MaxPooling1D)  (None, 185, 9)      0           ['maximum_6[0][0]']              \n",
      "                                                                                                  \n",
      " max_pooling1d_26 (MaxPooling1D  (None, 293, 9)      0           ['maximum_26[0][0]']             \n",
      " )                                                                                                \n",
      "                                                                                                  \n",
      " conv1d_14 (Conv1D)             (None, 185, 9)       171         ['max_pooling1d_6[0][0]']        \n",
      "                                                                                                  \n",
      " conv1d_15 (Conv1D)             (None, 185, 9)       171         ['max_pooling1d_6[0][0]']        \n",
      "                                                                                                  \n",
      " conv1d_54 (Conv1D)             (None, 293, 9)       171         ['max_pooling1d_26[0][0]']       \n",
      "                                                                                                  \n",
      " conv1d_55 (Conv1D)             (None, 293, 9)       171         ['max_pooling1d_26[0][0]']       \n",
      "                                                                                                  \n",
      " maximum_7 (Maximum)            (None, 185, 9)       0           ['conv1d_14[0][0]',              \n",
      "                                                                  'conv1d_15[0][0]']              \n",
      "                                                                                                  \n",
      " maximum_27 (Maximum)           (None, 293, 9)       0           ['conv1d_54[0][0]',              \n",
      "                                                                  'conv1d_55[0][0]']              \n",
      "                                                                                                  \n",
      " max_pooling1d_7 (MaxPooling1D)  (None, 184, 9)      0           ['maximum_7[0][0]']              \n",
      "                                                                                                  \n",
      " max_pooling1d_27 (MaxPooling1D  (None, 292, 9)      0           ['maximum_27[0][0]']             \n",
      " )                                                                                                \n",
      "                                                                                                  \n",
      " conv1d_16 (Conv1D)             (None, 184, 9)       171         ['max_pooling1d_7[0][0]']        \n",
      "                                                                                                  \n",
      " conv1d_17 (Conv1D)             (None, 184, 9)       171         ['max_pooling1d_7[0][0]']        \n",
      "                                                                                                  \n",
      " conv1d_56 (Conv1D)             (None, 292, 9)       171         ['max_pooling1d_27[0][0]']       \n",
      "                                                                                                  \n",
      " conv1d_57 (Conv1D)             (None, 292, 9)       171         ['max_pooling1d_27[0][0]']       \n"
     ]
    },
    {
     "name": "stdout",
     "output_type": "stream",
     "text": [
      "                                                                                                  \n",
      " maximum_8 (Maximum)            (None, 184, 9)       0           ['conv1d_16[0][0]',              \n",
      "                                                                  'conv1d_17[0][0]']              \n",
      "                                                                                                  \n",
      " maximum_28 (Maximum)           (None, 292, 9)       0           ['conv1d_56[0][0]',              \n",
      "                                                                  'conv1d_57[0][0]']              \n",
      "                                                                                                  \n",
      " max_pooling1d_8 (MaxPooling1D)  (None, 183, 9)      0           ['maximum_8[0][0]']              \n",
      "                                                                                                  \n",
      " max_pooling1d_28 (MaxPooling1D  (None, 291, 9)      0           ['maximum_28[0][0]']             \n",
      " )                                                                                                \n",
      "                                                                                                  \n",
      " conv1d_18 (Conv1D)             (None, 183, 9)       171         ['max_pooling1d_8[0][0]']        \n",
      "                                                                                                  \n",
      " conv1d_19 (Conv1D)             (None, 183, 9)       171         ['max_pooling1d_8[0][0]']        \n",
      "                                                                                                  \n",
      " conv1d_58 (Conv1D)             (None, 291, 9)       171         ['max_pooling1d_28[0][0]']       \n",
      "                                                                                                  \n",
      " conv1d_59 (Conv1D)             (None, 291, 9)       171         ['max_pooling1d_28[0][0]']       \n",
      "                                                                                                  \n",
      " maximum_9 (Maximum)            (None, 183, 9)       0           ['conv1d_18[0][0]',              \n",
      "                                                                  'conv1d_19[0][0]']              \n",
      "                                                                                                  \n",
      " maximum_29 (Maximum)           (None, 291, 9)       0           ['conv1d_58[0][0]',              \n",
      "                                                                  'conv1d_59[0][0]']              \n",
      "                                                                                                  \n",
      " max_pooling1d_9 (MaxPooling1D)  (None, 182, 9)      0           ['maximum_9[0][0]']              \n",
      "                                                                                                  \n",
      " wav2 (InputLayer)              [(None, 32, 768)]    0           []                               \n",
      "                                                                                                  \n",
      " max_pooling1d_29 (MaxPooling1D  (None, 290, 9)      0           ['maximum_29[0][0]']             \n",
      " )                                                                                                \n",
      "                                                                                                  \n",
      " conv1d_20 (Conv1D)             (None, 182, 9)       252         ['max_pooling1d_9[0][0]']        \n",
      "                                                                                                  \n",
      " conv1d_21 (Conv1D)             (None, 182, 9)       252         ['max_pooling1d_9[0][0]']        \n",
      "                                                                                                  \n",
      " conv1d_80 (Conv1D)             (None, 32, 9)        20745       ['wav2[0][0]']                   \n",
      "                                                                                                  \n",
      " conv1d_81 (Conv1D)             (None, 32, 9)        20745       ['wav2[0][0]']                   \n",
      "                                                                                                  \n",
      " conv1d_60 (Conv1D)             (None, 290, 9)       252         ['max_pooling1d_29[0][0]']       \n",
      "                                                                                                  \n",
      " conv1d_61 (Conv1D)             (None, 290, 9)       252         ['max_pooling1d_29[0][0]']       \n",
      "                                                                                                  \n",
      " maximum_10 (Maximum)           (None, 182, 9)       0           ['conv1d_20[0][0]',              \n",
      "                                                                  'conv1d_21[0][0]']              \n",
      "                                                                                                  \n",
      " maximum_40 (Maximum)           (None, 32, 9)        0           ['conv1d_80[0][0]',              \n",
      "                                                                  'conv1d_81[0][0]']              \n",
      "                                                                                                  \n",
      " maximum_30 (Maximum)           (None, 290, 9)       0           ['conv1d_60[0][0]',              \n",
      "                                                                  'conv1d_61[0][0]']              \n",
      "                                                                                                  \n",
      " max_pooling1d_10 (MaxPooling1D  (None, 181, 9)      0           ['maximum_10[0][0]']             \n",
      " )                                                                                                \n",
      "                                                                                                  \n",
      " max_pooling1d_40 (MaxPooling1D  (None, 31, 9)       0           ['maximum_40[0][0]']             \n",
      " )                                                                                                \n",
      "                                                                                                  \n",
      " max_pooling1d_30 (MaxPooling1D  (None, 289, 9)      0           ['maximum_30[0][0]']             \n",
      " )                                                                                                \n",
      "                                                                                                  \n",
      " mel (InputLayer)               [(None, 120, 313, 1  0           []                               \n",
      "                                )]                                                                \n",
      "                                                                                                  \n",
      " conv1d_22 (Conv1D)             (None, 181, 9)       171         ['max_pooling1d_10[0][0]']       \n",
      "                                                                                                  \n",
      " conv1d_23 (Conv1D)             (None, 181, 9)       171         ['max_pooling1d_10[0][0]']       \n",
      "                                                                                                  \n",
      " conv1d_82 (Conv1D)             (None, 31, 9)        171         ['max_pooling1d_40[0][0]']       \n",
      "                                                                                                  \n",
      " conv1d_83 (Conv1D)             (None, 31, 9)        171         ['max_pooling1d_40[0][0]']       \n",
      "                                                                                                  \n",
      " conv1d_62 (Conv1D)             (None, 289, 9)       171         ['max_pooling1d_30[0][0]']       \n",
      "                                                                                                  \n",
      " conv1d_63 (Conv1D)             (None, 289, 9)       171         ['max_pooling1d_30[0][0]']       \n",
      "                                                                                                  \n",
      " conv2d (Conv2D)                (None, 120, 313, 32  832         ['mel[0][0]']                    \n",
      "                                )                                                                 \n",
      "                                                                                                  \n",
      " conv2d_1 (Conv2D)              (None, 120, 313, 32  832         ['mel[0][0]']                    \n",
      "                                )                                                                 \n"
     ]
    },
    {
     "name": "stdout",
     "output_type": "stream",
     "text": [
      "                                                                                                  \n",
      " maximum_11 (Maximum)           (None, 181, 9)       0           ['conv1d_22[0][0]',              \n",
      "                                                                  'conv1d_23[0][0]']              \n",
      "                                                                                                  \n",
      " maximum_41 (Maximum)           (None, 31, 9)        0           ['conv1d_82[0][0]',              \n",
      "                                                                  'conv1d_83[0][0]']              \n",
      "                                                                                                  \n",
      " maximum_31 (Maximum)           (None, 289, 9)       0           ['conv1d_62[0][0]',              \n",
      "                                                                  'conv1d_63[0][0]']              \n",
      "                                                                                                  \n",
      " maximum_50 (Maximum)           (None, 120, 313, 32  0           ['conv2d[0][0]',                 \n",
      "                                )                                 'conv2d_1[0][0]']               \n",
      "                                                                                                  \n",
      " max_pooling1d_11 (MaxPooling1D  (None, 180, 9)      0           ['maximum_11[0][0]']             \n",
      " )                                                                                                \n",
      "                                                                                                  \n",
      " max_pooling1d_41 (MaxPooling1D  (None, 30, 9)       0           ['maximum_41[0][0]']             \n",
      " )                                                                                                \n",
      "                                                                                                  \n",
      " max_pooling1d_31 (MaxPooling1D  (None, 288, 9)      0           ['maximum_31[0][0]']             \n",
      " )                                                                                                \n",
      "                                                                                                  \n",
      " max_pooling2d (MaxPooling2D)   (None, 60, 157, 32)  0           ['maximum_50[0][0]']             \n",
      "                                                                                                  \n",
      " conv1d_24 (Conv1D)             (None, 180, 9)       171         ['max_pooling1d_11[0][0]']       \n",
      "                                                                                                  \n",
      " conv1d_25 (Conv1D)             (None, 180, 9)       171         ['max_pooling1d_11[0][0]']       \n",
      "                                                                                                  \n",
      " conv1d_84 (Conv1D)             (None, 30, 9)        171         ['max_pooling1d_41[0][0]']       \n",
      "                                                                                                  \n",
      " conv1d_85 (Conv1D)             (None, 30, 9)        171         ['max_pooling1d_41[0][0]']       \n",
      "                                                                                                  \n",
      " conv1d_64 (Conv1D)             (None, 288, 9)       171         ['max_pooling1d_31[0][0]']       \n",
      "                                                                                                  \n",
      " conv1d_65 (Conv1D)             (None, 288, 9)       171         ['max_pooling1d_31[0][0]']       \n",
      "                                                                                                  \n",
      " conv2d_2 (Conv2D)              (None, 60, 157, 32)  1056        ['max_pooling2d[0][0]']          \n",
      "                                                                                                  \n",
      " conv2d_3 (Conv2D)              (None, 60, 157, 32)  1056        ['max_pooling2d[0][0]']          \n",
      "                                                                                                  \n",
      " maximum_12 (Maximum)           (None, 180, 9)       0           ['conv1d_24[0][0]',              \n",
      "                                                                  'conv1d_25[0][0]']              \n",
      "                                                                                                  \n",
      " maximum_42 (Maximum)           (None, 30, 9)        0           ['conv1d_84[0][0]',              \n",
      "                                                                  'conv1d_85[0][0]']              \n",
      "                                                                                                  \n",
      " maximum_32 (Maximum)           (None, 288, 9)       0           ['conv1d_64[0][0]',              \n",
      "                                                                  'conv1d_65[0][0]']              \n",
      "                                                                                                  \n",
      " maximum_51 (Maximum)           (None, 60, 157, 32)  0           ['conv2d_2[0][0]',               \n",
      "                                                                  'conv2d_3[0][0]']               \n",
      "                                                                                                  \n",
      " max_pooling1d_12 (MaxPooling1D  (None, 179, 9)      0           ['maximum_12[0][0]']             \n",
      " )                                                                                                \n",
      "                                                                                                  \n",
      " max_pooling1d_42 (MaxPooling1D  (None, 29, 9)       0           ['maximum_42[0][0]']             \n",
      " )                                                                                                \n",
      "                                                                                                  \n",
      " max_pooling1d_32 (MaxPooling1D  (None, 287, 9)      0           ['maximum_32[0][0]']             \n",
      " )                                                                                                \n",
      "                                                                                                  \n",
      " batch_normalization (BatchNorm  (None, 60, 157, 32)  96         ['maximum_51[0][0]']             \n",
      " alization)                                                                                       \n",
      "                                                                                                  \n",
      " conv1d_26 (Conv1D)             (None, 179, 9)       171         ['max_pooling1d_12[0][0]']       \n",
      "                                                                                                  \n",
      " conv1d_27 (Conv1D)             (None, 179, 9)       171         ['max_pooling1d_12[0][0]']       \n",
      "                                                                                                  \n",
      " conv1d_86 (Conv1D)             (None, 29, 9)        171         ['max_pooling1d_42[0][0]']       \n",
      "                                                                                                  \n",
      " conv1d_87 (Conv1D)             (None, 29, 9)        171         ['max_pooling1d_42[0][0]']       \n",
      "                                                                                                  \n",
      " conv1d_66 (Conv1D)             (None, 287, 9)       171         ['max_pooling1d_32[0][0]']       \n",
      "                                                                                                  \n",
      " conv1d_67 (Conv1D)             (None, 287, 9)       171         ['max_pooling1d_32[0][0]']       \n",
      "                                                                                                  \n",
      " conv2d_4 (Conv2D)              (None, 60, 157, 48)  13872       ['batch_normalization[0][0]']    \n",
      "                                                                                                  \n",
      " conv2d_5 (Conv2D)              (None, 60, 157, 48)  13872       ['batch_normalization[0][0]']    \n",
      "                                                                                                  \n",
      " maximum_13 (Maximum)           (None, 179, 9)       0           ['conv1d_26[0][0]',              \n",
      "                                                                  'conv1d_27[0][0]']              \n",
      "                                                                                                  \n"
     ]
    },
    {
     "name": "stdout",
     "output_type": "stream",
     "text": [
      " maximum_43 (Maximum)           (None, 29, 9)        0           ['conv1d_86[0][0]',              \n",
      "                                                                  'conv1d_87[0][0]']              \n",
      "                                                                                                  \n",
      " maximum_33 (Maximum)           (None, 287, 9)       0           ['conv1d_66[0][0]',              \n",
      "                                                                  'conv1d_67[0][0]']              \n",
      "                                                                                                  \n",
      " maximum_52 (Maximum)           (None, 60, 157, 48)  0           ['conv2d_4[0][0]',               \n",
      "                                                                  'conv2d_5[0][0]']               \n",
      "                                                                                                  \n",
      " max_pooling1d_13 (MaxPooling1D  (None, 178, 9)      0           ['maximum_13[0][0]']             \n",
      " )                                                                                                \n",
      "                                                                                                  \n",
      " max_pooling1d_43 (MaxPooling1D  (None, 28, 9)       0           ['maximum_43[0][0]']             \n",
      " )                                                                                                \n",
      "                                                                                                  \n",
      " max_pooling1d_33 (MaxPooling1D  (None, 286, 9)      0           ['maximum_33[0][0]']             \n",
      " )                                                                                                \n",
      "                                                                                                  \n",
      " max_pooling2d_1 (MaxPooling2D)  (None, 30, 79, 48)  0           ['maximum_52[0][0]']             \n",
      "                                                                                                  \n",
      " conv1d_28 (Conv1D)             (None, 178, 9)       171         ['max_pooling1d_13[0][0]']       \n",
      "                                                                                                  \n",
      " conv1d_29 (Conv1D)             (None, 178, 9)       171         ['max_pooling1d_13[0][0]']       \n",
      "                                                                                                  \n",
      " conv1d_88 (Conv1D)             (None, 28, 9)        171         ['max_pooling1d_43[0][0]']       \n",
      "                                                                                                  \n",
      " conv1d_89 (Conv1D)             (None, 28, 9)        171         ['max_pooling1d_43[0][0]']       \n",
      "                                                                                                  \n",
      " conv1d_68 (Conv1D)             (None, 286, 9)       171         ['max_pooling1d_33[0][0]']       \n",
      "                                                                                                  \n",
      " conv1d_69 (Conv1D)             (None, 286, 9)       171         ['max_pooling1d_33[0][0]']       \n",
      "                                                                                                  \n",
      " batch_normalization_1 (BatchNo  (None, 30, 79, 48)  144         ['max_pooling2d_1[0][0]']        \n",
      " rmalization)                                                                                     \n",
      "                                                                                                  \n",
      " maximum_14 (Maximum)           (None, 178, 9)       0           ['conv1d_28[0][0]',              \n",
      "                                                                  'conv1d_29[0][0]']              \n",
      "                                                                                                  \n",
      " maximum_44 (Maximum)           (None, 28, 9)        0           ['conv1d_88[0][0]',              \n",
      "                                                                  'conv1d_89[0][0]']              \n",
      "                                                                                                  \n",
      " maximum_34 (Maximum)           (None, 286, 9)       0           ['conv1d_68[0][0]',              \n",
      "                                                                  'conv1d_69[0][0]']              \n",
      "                                                                                                  \n",
      " conv2d_6 (Conv2D)              (None, 30, 79, 48)   2352        ['batch_normalization_1[0][0]']  \n",
      "                                                                                                  \n",
      " conv2d_7 (Conv2D)              (None, 30, 79, 48)   2352        ['batch_normalization_1[0][0]']  \n",
      "                                                                                                  \n",
      " max_pooling1d_14 (MaxPooling1D  (None, 177, 9)      0           ['maximum_14[0][0]']             \n",
      " )                                                                                                \n",
      "                                                                                                  \n",
      " max_pooling1d_44 (MaxPooling1D  (None, 27, 9)       0           ['maximum_44[0][0]']             \n",
      " )                                                                                                \n",
      "                                                                                                  \n",
      " max_pooling1d_34 (MaxPooling1D  (None, 285, 9)      0           ['maximum_34[0][0]']             \n",
      " )                                                                                                \n",
      "                                                                                                  \n",
      " maximum_53 (Maximum)           (None, 30, 79, 48)   0           ['conv2d_6[0][0]',               \n",
      "                                                                  'conv2d_7[0][0]']               \n",
      "                                                                                                  \n",
      " conv1d_30 (Conv1D)             (None, 177, 64)      1216        ['max_pooling1d_14[0][0]']       \n",
      "                                                                                                  \n",
      " conv1d_31 (Conv1D)             (None, 177, 64)      1216        ['max_pooling1d_14[0][0]']       \n",
      "                                                                                                  \n",
      " conv1d_90 (Conv1D)             (None, 27, 9)        171         ['max_pooling1d_44[0][0]']       \n",
      "                                                                                                  \n",
      " conv1d_91 (Conv1D)             (None, 27, 9)        171         ['max_pooling1d_44[0][0]']       \n",
      "                                                                                                  \n",
      " conv1d_70 (Conv1D)             (None, 285, 64)      1216        ['max_pooling1d_34[0][0]']       \n",
      "                                                                                                  \n",
      " conv1d_71 (Conv1D)             (None, 285, 64)      1216        ['max_pooling1d_34[0][0]']       \n",
      "                                                                                                  \n",
      " batch_normalization_2 (BatchNo  (None, 30, 79, 48)  144         ['maximum_53[0][0]']             \n",
      " rmalization)                                                                                     \n",
      "                                                                                                  \n",
      " maximum_15 (Maximum)           (None, 177, 64)      0           ['conv1d_30[0][0]',              \n",
      "                                                                  'conv1d_31[0][0]']              \n",
      "                                                                                                  \n",
      " maximum_45 (Maximum)           (None, 27, 9)        0           ['conv1d_90[0][0]',              \n",
      "                                                                  'conv1d_91[0][0]']              \n",
      "                                                                                                  \n",
      " maximum_35 (Maximum)           (None, 285, 64)      0           ['conv1d_70[0][0]',              \n",
      "                                                                  'conv1d_71[0][0]']              \n"
     ]
    },
    {
     "name": "stdout",
     "output_type": "stream",
     "text": [
      "                                                                                                  \n",
      " conv2d_8 (Conv2D)              (None, 30, 79, 64)   27712       ['batch_normalization_2[0][0]']  \n",
      "                                                                                                  \n",
      " conv2d_9 (Conv2D)              (None, 30, 79, 64)   27712       ['batch_normalization_2[0][0]']  \n",
      "                                                                                                  \n",
      " max_pooling1d_15 (MaxPooling1D  (None, 176, 64)     0           ['maximum_15[0][0]']             \n",
      " )                                                                                                \n",
      "                                                                                                  \n",
      " max_pooling1d_45 (MaxPooling1D  (None, 26, 9)       0           ['maximum_45[0][0]']             \n",
      " )                                                                                                \n",
      "                                                                                                  \n",
      " max_pooling1d_35 (MaxPooling1D  (None, 284, 64)     0           ['maximum_35[0][0]']             \n",
      " )                                                                                                \n",
      "                                                                                                  \n",
      " maximum_54 (Maximum)           (None, 30, 79, 64)   0           ['conv2d_8[0][0]',               \n",
      "                                                                  'conv2d_9[0][0]']               \n",
      "                                                                                                  \n",
      " conv1d_32 (Conv1D)             (None, 176, 9)       1161        ['max_pooling1d_15[0][0]']       \n",
      "                                                                                                  \n",
      " conv1d_33 (Conv1D)             (None, 176, 9)       1161        ['max_pooling1d_15[0][0]']       \n",
      "                                                                                                  \n",
      " conv1d_92 (Conv1D)             (None, 26, 9)        171         ['max_pooling1d_45[0][0]']       \n",
      "                                                                                                  \n",
      " conv1d_93 (Conv1D)             (None, 26, 9)        171         ['max_pooling1d_45[0][0]']       \n",
      "                                                                                                  \n",
      " conv1d_72 (Conv1D)             (None, 284, 9)       1161        ['max_pooling1d_35[0][0]']       \n",
      "                                                                                                  \n",
      " conv1d_73 (Conv1D)             (None, 284, 9)       1161        ['max_pooling1d_35[0][0]']       \n",
      "                                                                                                  \n",
      " max_pooling2d_2 (MaxPooling2D)  (None, 15, 40, 64)  0           ['maximum_54[0][0]']             \n",
      "                                                                                                  \n",
      " maximum_16 (Maximum)           (None, 176, 9)       0           ['conv1d_32[0][0]',              \n",
      "                                                                  'conv1d_33[0][0]']              \n",
      "                                                                                                  \n",
      " maximum_46 (Maximum)           (None, 26, 9)        0           ['conv1d_92[0][0]',              \n",
      "                                                                  'conv1d_93[0][0]']              \n",
      "                                                                                                  \n",
      " maximum_36 (Maximum)           (None, 284, 9)       0           ['conv1d_72[0][0]',              \n",
      "                                                                  'conv1d_73[0][0]']              \n",
      "                                                                                                  \n",
      " conv2d_10 (Conv2D)             (None, 15, 40, 64)   4160        ['max_pooling2d_2[0][0]']        \n",
      "                                                                                                  \n",
      " conv2d_11 (Conv2D)             (None, 15, 40, 64)   4160        ['max_pooling2d_2[0][0]']        \n",
      "                                                                                                  \n",
      " max_pooling1d_16 (MaxPooling1D  (None, 175, 9)      0           ['maximum_16[0][0]']             \n",
      " )                                                                                                \n",
      "                                                                                                  \n",
      " max_pooling1d_46 (MaxPooling1D  (None, 25, 9)       0           ['maximum_46[0][0]']             \n",
      " )                                                                                                \n",
      "                                                                                                  \n",
      " max_pooling1d_36 (MaxPooling1D  (None, 283, 9)      0           ['maximum_36[0][0]']             \n",
      " )                                                                                                \n",
      "                                                                                                  \n",
      " maximum_55 (Maximum)           (None, 15, 40, 64)   0           ['conv2d_10[0][0]',              \n",
      "                                                                  'conv2d_11[0][0]']              \n",
      "                                                                                                  \n",
      " conv1d_34 (Conv1D)             (None, 175, 9)       171         ['max_pooling1d_16[0][0]']       \n",
      "                                                                                                  \n",
      " conv1d_35 (Conv1D)             (None, 175, 9)       171         ['max_pooling1d_16[0][0]']       \n",
      "                                                                                                  \n",
      " conv1d_94 (Conv1D)             (None, 25, 9)        171         ['max_pooling1d_46[0][0]']       \n",
      "                                                                                                  \n",
      " conv1d_95 (Conv1D)             (None, 25, 9)        171         ['max_pooling1d_46[0][0]']       \n",
      "                                                                                                  \n",
      " conv1d_74 (Conv1D)             (None, 283, 9)       171         ['max_pooling1d_36[0][0]']       \n",
      "                                                                                                  \n",
      " conv1d_75 (Conv1D)             (None, 283, 9)       171         ['max_pooling1d_36[0][0]']       \n",
      "                                                                                                  \n",
      " batch_normalization_3 (BatchNo  (None, 15, 40, 64)  192         ['maximum_55[0][0]']             \n",
      " rmalization)                                                                                     \n",
      "                                                                                                  \n",
      " maximum_17 (Maximum)           (None, 175, 9)       0           ['conv1d_34[0][0]',              \n",
      "                                                                  'conv1d_35[0][0]']              \n",
      "                                                                                                  \n",
      " maximum_47 (Maximum)           (None, 25, 9)        0           ['conv1d_94[0][0]',              \n",
      "                                                                  'conv1d_95[0][0]']              \n",
      "                                                                                                  \n",
      " maximum_37 (Maximum)           (None, 283, 9)       0           ['conv1d_74[0][0]',              \n",
      "                                                                  'conv1d_75[0][0]']              \n",
      "                                                                                                  \n",
      " conv2d_12 (Conv2D)             (None, 15, 40, 32)   18464       ['batch_normalization_3[0][0]']  \n",
      "                                                                                                  \n",
      " conv2d_13 (Conv2D)             (None, 15, 40, 32)   18464       ['batch_normalization_3[0][0]']  \n"
     ]
    },
    {
     "name": "stdout",
     "output_type": "stream",
     "text": [
      "                                                                                                  \n",
      " max_pooling1d_17 (MaxPooling1D  (None, 174, 9)      0           ['maximum_17[0][0]']             \n",
      " )                                                                                                \n",
      "                                                                                                  \n",
      " max_pooling1d_47 (MaxPooling1D  (None, 24, 9)       0           ['maximum_47[0][0]']             \n",
      " )                                                                                                \n",
      "                                                                                                  \n",
      " max_pooling1d_37 (MaxPooling1D  (None, 282, 9)      0           ['maximum_37[0][0]']             \n",
      " )                                                                                                \n",
      "                                                                                                  \n",
      " maximum_56 (Maximum)           (None, 15, 40, 32)   0           ['conv2d_12[0][0]',              \n",
      "                                                                  'conv2d_13[0][0]']              \n",
      "                                                                                                  \n",
      " conv1d_36 (Conv1D)             (None, 174, 9)       171         ['max_pooling1d_17[0][0]']       \n",
      "                                                                                                  \n",
      " conv1d_37 (Conv1D)             (None, 174, 9)       171         ['max_pooling1d_17[0][0]']       \n",
      "                                                                                                  \n",
      " conv1d_96 (Conv1D)             (None, 24, 9)        171         ['max_pooling1d_47[0][0]']       \n",
      "                                                                                                  \n",
      " conv1d_97 (Conv1D)             (None, 24, 9)        171         ['max_pooling1d_47[0][0]']       \n",
      "                                                                                                  \n",
      " conv1d_76 (Conv1D)             (None, 282, 9)       171         ['max_pooling1d_37[0][0]']       \n",
      "                                                                                                  \n",
      " conv1d_77 (Conv1D)             (None, 282, 9)       171         ['max_pooling1d_37[0][0]']       \n",
      "                                                                                                  \n",
      " batch_normalization_4 (BatchNo  (None, 15, 40, 32)  96          ['maximum_56[0][0]']             \n",
      " rmalization)                                                                                     \n",
      "                                                                                                  \n",
      " maximum_18 (Maximum)           (None, 174, 9)       0           ['conv1d_36[0][0]',              \n",
      "                                                                  'conv1d_37[0][0]']              \n",
      "                                                                                                  \n",
      " maximum_48 (Maximum)           (None, 24, 9)        0           ['conv1d_96[0][0]',              \n",
      "                                                                  'conv1d_97[0][0]']              \n",
      "                                                                                                  \n",
      " maximum_38 (Maximum)           (None, 282, 9)       0           ['conv1d_76[0][0]',              \n",
      "                                                                  'conv1d_77[0][0]']              \n",
      "                                                                                                  \n",
      " conv2d_14 (Conv2D)             (None, 15, 40, 32)   1056        ['batch_normalization_4[0][0]']  \n",
      "                                                                                                  \n",
      " conv2d_15 (Conv2D)             (None, 15, 40, 32)   1056        ['batch_normalization_4[0][0]']  \n",
      "                                                                                                  \n",
      " max_pooling1d_18 (MaxPooling1D  (None, 173, 9)      0           ['maximum_18[0][0]']             \n",
      " )                                                                                                \n",
      "                                                                                                  \n",
      " max_pooling1d_48 (MaxPooling1D  (None, 23, 9)       0           ['maximum_48[0][0]']             \n",
      " )                                                                                                \n",
      "                                                                                                  \n",
      " max_pooling1d_38 (MaxPooling1D  (None, 281, 9)      0           ['maximum_38[0][0]']             \n",
      " )                                                                                                \n",
      "                                                                                                  \n",
      " maximum_57 (Maximum)           (None, 15, 40, 32)   0           ['conv2d_14[0][0]',              \n",
      "                                                                  'conv2d_15[0][0]']              \n",
      "                                                                                                  \n",
      " conv1d_38 (Conv1D)             (None, 173, 9)       171         ['max_pooling1d_18[0][0]']       \n",
      "                                                                                                  \n",
      " conv1d_39 (Conv1D)             (None, 173, 9)       171         ['max_pooling1d_18[0][0]']       \n",
      "                                                                                                  \n",
      " conv1d_98 (Conv1D)             (None, 23, 9)        171         ['max_pooling1d_48[0][0]']       \n",
      "                                                                                                  \n",
      " conv1d_99 (Conv1D)             (None, 23, 9)        171         ['max_pooling1d_48[0][0]']       \n",
      "                                                                                                  \n",
      " conv1d_78 (Conv1D)             (None, 281, 9)       171         ['max_pooling1d_38[0][0]']       \n",
      "                                                                                                  \n",
      " conv1d_79 (Conv1D)             (None, 281, 9)       171         ['max_pooling1d_38[0][0]']       \n",
      "                                                                                                  \n",
      " batch_normalization_5 (BatchNo  (None, 15, 40, 32)  96          ['maximum_57[0][0]']             \n",
      " rmalization)                                                                                     \n",
      "                                                                                                  \n",
      " maximum_19 (Maximum)           (None, 173, 9)       0           ['conv1d_38[0][0]',              \n",
      "                                                                  'conv1d_39[0][0]']              \n",
      "                                                                                                  \n",
      " maximum_49 (Maximum)           (None, 23, 9)        0           ['conv1d_98[0][0]',              \n",
      "                                                                  'conv1d_99[0][0]']              \n",
      "                                                                                                  \n",
      " maximum_39 (Maximum)           (None, 281, 9)       0           ['conv1d_78[0][0]',              \n",
      "                                                                  'conv1d_79[0][0]']              \n",
      "                                                                                                  \n",
      " conv2d_16 (Conv2D)             (None, 15, 40, 32)   1056        ['batch_normalization_5[0][0]']  \n",
      "                                                                                                  \n",
      " conv2d_17 (Conv2D)             (None, 15, 40, 32)   1056        ['batch_normalization_5[0][0]']  \n",
      "                                                                                                  \n",
      " max_pooling1d_19 (MaxPooling1D  (None, 172, 9)      0           ['maximum_19[0][0]']             \n",
      " )                                                                                                \n"
     ]
    },
    {
     "name": "stdout",
     "output_type": "stream",
     "text": [
      "                                                                                                  \n",
      " max_pooling1d_49 (MaxPooling1D  (None, 22, 9)       0           ['maximum_49[0][0]']             \n",
      " )                                                                                                \n",
      "                                                                                                  \n",
      " max_pooling1d_39 (MaxPooling1D  (None, 280, 9)      0           ['maximum_39[0][0]']             \n",
      " )                                                                                                \n",
      "                                                                                                  \n",
      " maximum_58 (Maximum)           (None, 15, 40, 32)   0           ['conv2d_16[0][0]',              \n",
      "                                                                  'conv2d_17[0][0]']              \n",
      "                                                                                                  \n",
      " age_cat (InputLayer)           [(None, 6)]          0           []                               \n",
      "                                                                                                  \n",
      " sex_cat (InputLayer)           [(None, 2)]          0           []                               \n",
      "                                                                                                  \n",
      " height_weight (InputLayer)     [(None, 2)]          0           []                               \n",
      "                                                                                                  \n",
      " loc (InputLayer)               [(None, 5)]          0           []                               \n",
      "                                                                                                  \n",
      " global_average_pooling1d (Glob  (None, 9)           0           ['max_pooling1d_19[0][0]']       \n",
      " alAveragePooling1D)                                                                              \n",
      "                                                                                                  \n",
      " global_average_pooling1d_2 (Gl  (None, 9)           0           ['max_pooling1d_49[0][0]']       \n",
      " obalAveragePooling1D)                                                                            \n",
      "                                                                                                  \n",
      " global_average_pooling1d_1 (Gl  (None, 9)           0           ['max_pooling1d_39[0][0]']       \n",
      " obalAveragePooling1D)                                                                            \n",
      "                                                                                                  \n",
      " max_pooling2d_3 (MaxPooling2D)  (None, 7, 20, 32)   0           ['maximum_58[0][0]']             \n",
      "                                                                                                  \n",
      " dense_1 (Dense)                (None, 2)            14          ['age_cat[0][0]']                \n",
      "                                                                                                  \n",
      " dense_2 (Dense)                (None, 1)            3           ['sex_cat[0][0]']                \n",
      "                                                                                                  \n",
      " dense_3 (Dense)                (None, 1)            3           ['height_weight[0][0]']          \n",
      "                                                                                                  \n",
      " dense_4 (Dense)                (None, 3)            18          ['loc[0][0]']                    \n",
      "                                                                                                  \n",
      " is_preg (InputLayer)           [(None, 1)]          0           []                               \n",
      "                                                                                                  \n",
      " dropout (Dropout)              (None, 9)            0           ['global_average_pooling1d[0][0]'\n",
      "                                                                 ]                                \n",
      "                                                                                                  \n",
      " dropout_2 (Dropout)            (None, 9)            0           ['global_average_pooling1d_2[0][0\n",
      "                                                                 ]']                              \n",
      "                                                                                                  \n",
      " dropout_1 (Dropout)            (None, 9)            0           ['global_average_pooling1d_1[0][0\n",
      "                                                                 ]']                              \n",
      "                                                                                                  \n",
      " global_average_pooling2d (Glob  (None, 32)          0           ['max_pooling2d_3[0][0]']        \n",
      " alAveragePooling2D)                                                                              \n",
      "                                                                                                  \n",
      " concatenate (Concatenate)      (None, 35)           0           ['dense_1[0][0]',                \n",
      "                                                                  'dense_2[0][0]',                \n",
      "                                                                  'dense_3[0][0]',                \n",
      "                                                                  'dense_4[0][0]',                \n",
      "                                                                  'is_preg[0][0]',                \n",
      "                                                                  'dropout[0][0]',                \n",
      "                                                                  'dropout_2[0][0]',              \n",
      "                                                                  'dropout_1[0][0]']              \n",
      "                                                                                                  \n",
      " dropout_3 (Dropout)            (None, 32)           0           ['global_average_pooling2d[0][0]'\n",
      "                                                                 ]                                \n",
      "                                                                                                  \n",
      " dense_5 (Dense)                (None, 10)           360         ['concatenate[0][0]']            \n",
      "                                                                                                  \n",
      " concatenate_1 (Concatenate)    (None, 42)           0           ['dropout_3[0][0]',              \n",
      "                                                                  'dense_5[0][0]']                \n",
      "                                                                                                  \n",
      " stft (InputLayer)              [(None, 1, 1, 1)]    0           []                               \n",
      "                                                                                                  \n",
      " cqt (InputLayer)               [(None, 1, 1, 1)]    0           []                               \n",
      "                                                                                                  \n",
      " dense_6 (Dense)                (None, 2)            86          ['concatenate_1[0][0]']          \n",
      "                                                                                                  \n",
      "==================================================================================================\n",
      "Total params: 252,599\n",
      "Trainable params: 252,087\n",
      "Non-trainable params: 512\n",
      "__________________________________________________________________________________________________\n"
     ]
    }
   ],
   "source": [
    "model1.summary()"
   ]
  },
  {
   "cell_type": "code",
   "execution_count": 35,
   "id": "8d2279ce",
   "metadata": {
    "scrolled": true
   },
   "outputs": [
    {
     "name": "stdout",
     "output_type": "stream",
     "text": [
      "Model: \"model_2\"\n",
      "__________________________________________________________________________________________________\n",
      " Layer (type)                   Output Shape         Param #     Connected to                     \n",
      "==================================================================================================\n",
      " raw1 (InputLayer)              [(None, 246000)]     0           []                               \n",
      "                                                                                                  \n",
      " interval (InputLayer)          [(None, 192, 1)]     0           []                               \n",
      "                                                                                                  \n",
      " reshape_1 (Reshape)            (None, 300, 820)     0           ['raw1[0][0]']                   \n",
      "                                                                                                  \n",
      " conv1d_100 (Conv1D)            (None, 192, 9)       36          ['interval[0][0]']               \n",
      "                                                                                                  \n",
      " conv1d_101 (Conv1D)            (None, 192, 9)       36          ['interval[0][0]']               \n",
      "                                                                                                  \n",
      " conv1d_140 (Conv1D)            (None, 300, 9)       22149       ['reshape_1[0][0]']              \n",
      "                                                                                                  \n",
      " conv1d_141 (Conv1D)            (None, 300, 9)       22149       ['reshape_1[0][0]']              \n",
      "                                                                                                  \n",
      " maximum_59 (Maximum)           (None, 192, 9)       0           ['conv1d_100[0][0]',             \n",
      "                                                                  'conv1d_101[0][0]']             \n",
      "                                                                                                  \n",
      " maximum_79 (Maximum)           (None, 300, 9)       0           ['conv1d_140[0][0]',             \n",
      "                                                                  'conv1d_141[0][0]']             \n",
      "                                                                                                  \n",
      " max_pooling1d_50 (MaxPooling1D  (None, 191, 9)      0           ['maximum_59[0][0]']             \n",
      " )                                                                                                \n",
      "                                                                                                  \n",
      " max_pooling1d_70 (MaxPooling1D  (None, 299, 9)      0           ['maximum_79[0][0]']             \n",
      " )                                                                                                \n",
      "                                                                                                  \n",
      " conv1d_102 (Conv1D)            (None, 191, 9)       171         ['max_pooling1d_50[0][0]']       \n",
      "                                                                                                  \n",
      " conv1d_103 (Conv1D)            (None, 191, 9)       171         ['max_pooling1d_50[0][0]']       \n",
      "                                                                                                  \n",
      " conv1d_142 (Conv1D)            (None, 299, 9)       171         ['max_pooling1d_70[0][0]']       \n",
      "                                                                                                  \n",
      " conv1d_143 (Conv1D)            (None, 299, 9)       171         ['max_pooling1d_70[0][0]']       \n",
      "                                                                                                  \n",
      " maximum_60 (Maximum)           (None, 191, 9)       0           ['conv1d_102[0][0]',             \n",
      "                                                                  'conv1d_103[0][0]']             \n",
      "                                                                                                  \n",
      " maximum_80 (Maximum)           (None, 299, 9)       0           ['conv1d_142[0][0]',             \n",
      "                                                                  'conv1d_143[0][0]']             \n",
      "                                                                                                  \n",
      " max_pooling1d_51 (MaxPooling1D  (None, 190, 9)      0           ['maximum_60[0][0]']             \n",
      " )                                                                                                \n",
      "                                                                                                  \n",
      " max_pooling1d_71 (MaxPooling1D  (None, 298, 9)      0           ['maximum_80[0][0]']             \n",
      " )                                                                                                \n",
      "                                                                                                  \n",
      " conv1d_104 (Conv1D)            (None, 190, 9)       171         ['max_pooling1d_51[0][0]']       \n",
      "                                                                                                  \n",
      " conv1d_105 (Conv1D)            (None, 190, 9)       171         ['max_pooling1d_51[0][0]']       \n",
      "                                                                                                  \n",
      " conv1d_144 (Conv1D)            (None, 298, 9)       171         ['max_pooling1d_71[0][0]']       \n",
      "                                                                                                  \n",
      " conv1d_145 (Conv1D)            (None, 298, 9)       171         ['max_pooling1d_71[0][0]']       \n",
      "                                                                                                  \n",
      " maximum_61 (Maximum)           (None, 190, 9)       0           ['conv1d_104[0][0]',             \n",
      "                                                                  'conv1d_105[0][0]']             \n",
      "                                                                                                  \n",
      " maximum_81 (Maximum)           (None, 298, 9)       0           ['conv1d_144[0][0]',             \n",
      "                                                                  'conv1d_145[0][0]']             \n",
      "                                                                                                  \n",
      " max_pooling1d_52 (MaxPooling1D  (None, 189, 9)      0           ['maximum_61[0][0]']             \n",
      " )                                                                                                \n",
      "                                                                                                  \n",
      " max_pooling1d_72 (MaxPooling1D  (None, 297, 9)      0           ['maximum_81[0][0]']             \n",
      " )                                                                                                \n",
      "                                                                                                  \n",
      " conv1d_106 (Conv1D)            (None, 189, 9)       171         ['max_pooling1d_52[0][0]']       \n",
      "                                                                                                  \n",
      " conv1d_107 (Conv1D)            (None, 189, 9)       171         ['max_pooling1d_52[0][0]']       \n",
      "                                                                                                  \n",
      " conv1d_146 (Conv1D)            (None, 297, 9)       171         ['max_pooling1d_72[0][0]']       \n",
      "                                                                                                  \n",
      " conv1d_147 (Conv1D)            (None, 297, 9)       171         ['max_pooling1d_72[0][0]']       \n",
      "                                                                                                  \n",
      " maximum_62 (Maximum)           (None, 189, 9)       0           ['conv1d_106[0][0]',             \n",
      "                                                                  'conv1d_107[0][0]']             \n",
      "                                                                                                  \n",
      " maximum_82 (Maximum)           (None, 297, 9)       0           ['conv1d_146[0][0]',             \n",
      "                                                                  'conv1d_147[0][0]']             \n",
      "                                                                                                  \n"
     ]
    },
    {
     "name": "stdout",
     "output_type": "stream",
     "text": [
      " max_pooling1d_53 (MaxPooling1D  (None, 188, 9)      0           ['maximum_62[0][0]']             \n",
      " )                                                                                                \n",
      "                                                                                                  \n",
      " max_pooling1d_73 (MaxPooling1D  (None, 296, 9)      0           ['maximum_82[0][0]']             \n",
      " )                                                                                                \n",
      "                                                                                                  \n",
      " conv1d_108 (Conv1D)            (None, 188, 9)       171         ['max_pooling1d_53[0][0]']       \n",
      "                                                                                                  \n",
      " conv1d_148 (Conv1D)            (None, 296, 9)       171         ['max_pooling1d_73[0][0]']       \n",
      "                                                                                                  \n",
      " conv1d_149 (Conv1D)            (None, 296, 9)       171         ['max_pooling1d_73[0][0]']       \n",
      "                                                                                                  \n",
      " maximum_63 (Maximum)           (None, 188, 9)       0           ['conv1d_108[0][0]',             \n",
      "                                                                  'conv1d_108[0][0]']             \n",
      "                                                                                                  \n",
      " maximum_83 (Maximum)           (None, 296, 9)       0           ['conv1d_148[0][0]',             \n",
      "                                                                  'conv1d_149[0][0]']             \n",
      "                                                                                                  \n",
      " max_pooling1d_54 (MaxPooling1D  (None, 187, 9)      0           ['maximum_63[0][0]']             \n",
      " )                                                                                                \n",
      "                                                                                                  \n",
      " max_pooling1d_74 (MaxPooling1D  (None, 295, 9)      0           ['maximum_83[0][0]']             \n",
      " )                                                                                                \n",
      "                                                                                                  \n",
      " conv1d_110 (Conv1D)            (None, 187, 9)       171         ['max_pooling1d_54[0][0]']       \n",
      "                                                                                                  \n",
      " conv1d_111 (Conv1D)            (None, 187, 9)       171         ['max_pooling1d_54[0][0]']       \n",
      "                                                                                                  \n",
      " conv1d_150 (Conv1D)            (None, 295, 9)       171         ['max_pooling1d_74[0][0]']       \n",
      "                                                                                                  \n",
      " conv1d_151 (Conv1D)            (None, 295, 9)       171         ['max_pooling1d_74[0][0]']       \n",
      "                                                                                                  \n",
      " maximum_64 (Maximum)           (None, 187, 9)       0           ['conv1d_110[0][0]',             \n",
      "                                                                  'conv1d_111[0][0]']             \n",
      "                                                                                                  \n",
      " maximum_84 (Maximum)           (None, 295, 9)       0           ['conv1d_150[0][0]',             \n",
      "                                                                  'conv1d_151[0][0]']             \n",
      "                                                                                                  \n",
      " max_pooling1d_55 (MaxPooling1D  (None, 186, 9)      0           ['maximum_64[0][0]']             \n",
      " )                                                                                                \n",
      "                                                                                                  \n",
      " max_pooling1d_75 (MaxPooling1D  (None, 294, 9)      0           ['maximum_84[0][0]']             \n",
      " )                                                                                                \n",
      "                                                                                                  \n",
      " conv1d_112 (Conv1D)            (None, 186, 9)       171         ['max_pooling1d_55[0][0]']       \n",
      "                                                                                                  \n",
      " conv1d_113 (Conv1D)            (None, 186, 9)       171         ['max_pooling1d_55[0][0]']       \n",
      "                                                                                                  \n",
      " conv1d_152 (Conv1D)            (None, 294, 9)       171         ['max_pooling1d_75[0][0]']       \n",
      "                                                                                                  \n",
      " conv1d_153 (Conv1D)            (None, 294, 9)       171         ['max_pooling1d_75[0][0]']       \n",
      "                                                                                                  \n",
      " maximum_65 (Maximum)           (None, 186, 9)       0           ['conv1d_112[0][0]',             \n",
      "                                                                  'conv1d_113[0][0]']             \n",
      "                                                                                                  \n",
      " maximum_85 (Maximum)           (None, 294, 9)       0           ['conv1d_152[0][0]',             \n",
      "                                                                  'conv1d_153[0][0]']             \n",
      "                                                                                                  \n",
      " max_pooling1d_56 (MaxPooling1D  (None, 185, 9)      0           ['maximum_65[0][0]']             \n",
      " )                                                                                                \n",
      "                                                                                                  \n",
      " max_pooling1d_76 (MaxPooling1D  (None, 293, 9)      0           ['maximum_85[0][0]']             \n",
      " )                                                                                                \n",
      "                                                                                                  \n",
      " conv1d_114 (Conv1D)            (None, 185, 9)       171         ['max_pooling1d_56[0][0]']       \n",
      "                                                                                                  \n",
      " conv1d_115 (Conv1D)            (None, 185, 9)       171         ['max_pooling1d_56[0][0]']       \n",
      "                                                                                                  \n",
      " conv1d_154 (Conv1D)            (None, 293, 9)       171         ['max_pooling1d_76[0][0]']       \n",
      "                                                                                                  \n",
      " conv1d_155 (Conv1D)            (None, 293, 9)       171         ['max_pooling1d_76[0][0]']       \n",
      "                                                                                                  \n",
      " maximum_66 (Maximum)           (None, 185, 9)       0           ['conv1d_114[0][0]',             \n",
      "                                                                  'conv1d_115[0][0]']             \n",
      "                                                                                                  \n",
      " maximum_86 (Maximum)           (None, 293, 9)       0           ['conv1d_154[0][0]',             \n",
      "                                                                  'conv1d_155[0][0]']             \n",
      "                                                                                                  \n",
      " max_pooling1d_57 (MaxPooling1D  (None, 184, 9)      0           ['maximum_66[0][0]']             \n",
      " )                                                                                                \n",
      "                                                                                                  \n",
      " max_pooling1d_77 (MaxPooling1D  (None, 292, 9)      0           ['maximum_86[0][0]']             \n",
      " )                                                                                                \n"
     ]
    },
    {
     "name": "stdout",
     "output_type": "stream",
     "text": [
      "                                                                                                  \n",
      " conv1d_116 (Conv1D)            (None, 184, 9)       171         ['max_pooling1d_57[0][0]']       \n",
      "                                                                                                  \n",
      " conv1d_117 (Conv1D)            (None, 184, 9)       171         ['max_pooling1d_57[0][0]']       \n",
      "                                                                                                  \n",
      " conv1d_156 (Conv1D)            (None, 292, 9)       171         ['max_pooling1d_77[0][0]']       \n",
      "                                                                                                  \n",
      " conv1d_157 (Conv1D)            (None, 292, 9)       171         ['max_pooling1d_77[0][0]']       \n",
      "                                                                                                  \n",
      " maximum_67 (Maximum)           (None, 184, 9)       0           ['conv1d_116[0][0]',             \n",
      "                                                                  'conv1d_117[0][0]']             \n",
      "                                                                                                  \n",
      " maximum_87 (Maximum)           (None, 292, 9)       0           ['conv1d_156[0][0]',             \n",
      "                                                                  'conv1d_157[0][0]']             \n",
      "                                                                                                  \n",
      " max_pooling1d_58 (MaxPooling1D  (None, 183, 9)      0           ['maximum_67[0][0]']             \n",
      " )                                                                                                \n",
      "                                                                                                  \n",
      " max_pooling1d_78 (MaxPooling1D  (None, 291, 9)      0           ['maximum_87[0][0]']             \n",
      " )                                                                                                \n",
      "                                                                                                  \n",
      " conv1d_118 (Conv1D)            (None, 183, 9)       171         ['max_pooling1d_58[0][0]']       \n",
      "                                                                                                  \n",
      " conv1d_119 (Conv1D)            (None, 183, 9)       171         ['max_pooling1d_58[0][0]']       \n",
      "                                                                                                  \n",
      " conv1d_158 (Conv1D)            (None, 291, 9)       171         ['max_pooling1d_78[0][0]']       \n",
      "                                                                                                  \n",
      " conv1d_159 (Conv1D)            (None, 291, 9)       171         ['max_pooling1d_78[0][0]']       \n",
      "                                                                                                  \n",
      " maximum_68 (Maximum)           (None, 183, 9)       0           ['conv1d_118[0][0]',             \n",
      "                                                                  'conv1d_119[0][0]']             \n",
      "                                                                                                  \n",
      " maximum_88 (Maximum)           (None, 291, 9)       0           ['conv1d_158[0][0]',             \n",
      "                                                                  'conv1d_159[0][0]']             \n",
      "                                                                                                  \n",
      " max_pooling1d_59 (MaxPooling1D  (None, 182, 9)      0           ['maximum_68[0][0]']             \n",
      " )                                                                                                \n",
      "                                                                                                  \n",
      " wav2 (InputLayer)              [(None, 32, 768)]    0           []                               \n",
      "                                                                                                  \n",
      " max_pooling1d_79 (MaxPooling1D  (None, 290, 9)      0           ['maximum_88[0][0]']             \n",
      " )                                                                                                \n",
      "                                                                                                  \n",
      " conv1d_120 (Conv1D)            (None, 182, 9)       252         ['max_pooling1d_59[0][0]']       \n",
      "                                                                                                  \n",
      " conv1d_121 (Conv1D)            (None, 182, 9)       252         ['max_pooling1d_59[0][0]']       \n",
      "                                                                                                  \n",
      " conv1d_180 (Conv1D)            (None, 32, 9)        20745       ['wav2[0][0]']                   \n",
      "                                                                                                  \n",
      " conv1d_181 (Conv1D)            (None, 32, 9)        20745       ['wav2[0][0]']                   \n",
      "                                                                                                  \n",
      " conv1d_160 (Conv1D)            (None, 290, 9)       252         ['max_pooling1d_79[0][0]']       \n",
      "                                                                                                  \n",
      " conv1d_161 (Conv1D)            (None, 290, 9)       252         ['max_pooling1d_79[0][0]']       \n",
      "                                                                                                  \n",
      " maximum_69 (Maximum)           (None, 182, 9)       0           ['conv1d_120[0][0]',             \n",
      "                                                                  'conv1d_121[0][0]']             \n",
      "                                                                                                  \n",
      " maximum_99 (Maximum)           (None, 32, 9)        0           ['conv1d_180[0][0]',             \n",
      "                                                                  'conv1d_181[0][0]']             \n",
      "                                                                                                  \n",
      " maximum_89 (Maximum)           (None, 290, 9)       0           ['conv1d_160[0][0]',             \n",
      "                                                                  'conv1d_161[0][0]']             \n",
      "                                                                                                  \n",
      " max_pooling1d_60 (MaxPooling1D  (None, 181, 9)      0           ['maximum_69[0][0]']             \n",
      " )                                                                                                \n",
      "                                                                                                  \n",
      " max_pooling1d_90 (MaxPooling1D  (None, 31, 9)       0           ['maximum_99[0][0]']             \n",
      " )                                                                                                \n",
      "                                                                                                  \n",
      " max_pooling1d_80 (MaxPooling1D  (None, 289, 9)      0           ['maximum_89[0][0]']             \n",
      " )                                                                                                \n",
      "                                                                                                  \n",
      " mel (InputLayer)               [(None, 120, 313, 1  0           []                               \n",
      "                                )]                                                                \n",
      "                                                                                                  \n",
      " conv1d_122 (Conv1D)            (None, 181, 9)       171         ['max_pooling1d_60[0][0]']       \n",
      "                                                                                                  \n",
      " conv1d_123 (Conv1D)            (None, 181, 9)       171         ['max_pooling1d_60[0][0]']       \n",
      "                                                                                                  \n",
      " conv1d_182 (Conv1D)            (None, 31, 9)        171         ['max_pooling1d_90[0][0]']       \n",
      "                                                                                                  \n",
      " conv1d_183 (Conv1D)            (None, 31, 9)        171         ['max_pooling1d_90[0][0]']       \n"
     ]
    },
    {
     "name": "stdout",
     "output_type": "stream",
     "text": [
      "                                                                                                  \n",
      " conv1d_162 (Conv1D)            (None, 289, 9)       171         ['max_pooling1d_80[0][0]']       \n",
      "                                                                                                  \n",
      " conv1d_163 (Conv1D)            (None, 289, 9)       171         ['max_pooling1d_80[0][0]']       \n",
      "                                                                                                  \n",
      " conv2d_18 (Conv2D)             (None, 120, 313, 32  832         ['mel[0][0]']                    \n",
      "                                )                                                                 \n",
      "                                                                                                  \n",
      " conv2d_19 (Conv2D)             (None, 120, 313, 32  832         ['mel[0][0]']                    \n",
      "                                )                                                                 \n",
      "                                                                                                  \n",
      " maximum_70 (Maximum)           (None, 181, 9)       0           ['conv1d_122[0][0]',             \n",
      "                                                                  'conv1d_123[0][0]']             \n",
      "                                                                                                  \n",
      " maximum_100 (Maximum)          (None, 31, 9)        0           ['conv1d_182[0][0]',             \n",
      "                                                                  'conv1d_183[0][0]']             \n",
      "                                                                                                  \n",
      " maximum_90 (Maximum)           (None, 289, 9)       0           ['conv1d_162[0][0]',             \n",
      "                                                                  'conv1d_163[0][0]']             \n",
      "                                                                                                  \n",
      " maximum_109 (Maximum)          (None, 120, 313, 32  0           ['conv2d_18[0][0]',              \n",
      "                                )                                 'conv2d_19[0][0]']              \n",
      "                                                                                                  \n",
      " max_pooling1d_61 (MaxPooling1D  (None, 180, 9)      0           ['maximum_70[0][0]']             \n",
      " )                                                                                                \n",
      "                                                                                                  \n",
      " max_pooling1d_91 (MaxPooling1D  (None, 30, 9)       0           ['maximum_100[0][0]']            \n",
      " )                                                                                                \n",
      "                                                                                                  \n",
      " max_pooling1d_81 (MaxPooling1D  (None, 288, 9)      0           ['maximum_90[0][0]']             \n",
      " )                                                                                                \n",
      "                                                                                                  \n",
      " max_pooling2d_4 (MaxPooling2D)  (None, 60, 157, 32)  0          ['maximum_109[0][0]']            \n",
      "                                                                                                  \n",
      " conv1d_124 (Conv1D)            (None, 180, 9)       171         ['max_pooling1d_61[0][0]']       \n",
      "                                                                                                  \n",
      " conv1d_125 (Conv1D)            (None, 180, 9)       171         ['max_pooling1d_61[0][0]']       \n",
      "                                                                                                  \n",
      " conv1d_184 (Conv1D)            (None, 30, 9)        171         ['max_pooling1d_91[0][0]']       \n",
      "                                                                                                  \n",
      " conv1d_185 (Conv1D)            (None, 30, 9)        171         ['max_pooling1d_91[0][0]']       \n",
      "                                                                                                  \n",
      " conv1d_164 (Conv1D)            (None, 288, 9)       171         ['max_pooling1d_81[0][0]']       \n",
      "                                                                                                  \n",
      " conv1d_165 (Conv1D)            (None, 288, 9)       171         ['max_pooling1d_81[0][0]']       \n",
      "                                                                                                  \n",
      " conv2d_20 (Conv2D)             (None, 60, 157, 32)  1056        ['max_pooling2d_4[0][0]']        \n",
      "                                                                                                  \n",
      " conv2d_21 (Conv2D)             (None, 60, 157, 32)  1056        ['max_pooling2d_4[0][0]']        \n",
      "                                                                                                  \n",
      " maximum_71 (Maximum)           (None, 180, 9)       0           ['conv1d_124[0][0]',             \n",
      "                                                                  'conv1d_125[0][0]']             \n",
      "                                                                                                  \n",
      " maximum_101 (Maximum)          (None, 30, 9)        0           ['conv1d_184[0][0]',             \n",
      "                                                                  'conv1d_185[0][0]']             \n",
      "                                                                                                  \n",
      " maximum_91 (Maximum)           (None, 288, 9)       0           ['conv1d_164[0][0]',             \n",
      "                                                                  'conv1d_165[0][0]']             \n",
      "                                                                                                  \n",
      " maximum_110 (Maximum)          (None, 60, 157, 32)  0           ['conv2d_20[0][0]',              \n",
      "                                                                  'conv2d_21[0][0]']              \n",
      "                                                                                                  \n",
      " max_pooling1d_62 (MaxPooling1D  (None, 179, 9)      0           ['maximum_71[0][0]']             \n",
      " )                                                                                                \n",
      "                                                                                                  \n",
      " max_pooling1d_92 (MaxPooling1D  (None, 29, 9)       0           ['maximum_101[0][0]']            \n",
      " )                                                                                                \n",
      "                                                                                                  \n",
      " max_pooling1d_82 (MaxPooling1D  (None, 287, 9)      0           ['maximum_91[0][0]']             \n",
      " )                                                                                                \n",
      "                                                                                                  \n",
      " batch_normalization_6 (BatchNo  (None, 60, 157, 32)  96         ['maximum_110[0][0]']            \n",
      " rmalization)                                                                                     \n",
      "                                                                                                  \n",
      " conv1d_126 (Conv1D)            (None, 179, 9)       171         ['max_pooling1d_62[0][0]']       \n",
      "                                                                                                  \n",
      " conv1d_127 (Conv1D)            (None, 179, 9)       171         ['max_pooling1d_62[0][0]']       \n",
      "                                                                                                  \n",
      " conv1d_186 (Conv1D)            (None, 29, 9)        171         ['max_pooling1d_92[0][0]']       \n",
      "                                                                                                  \n",
      " conv1d_187 (Conv1D)            (None, 29, 9)        171         ['max_pooling1d_92[0][0]']       \n",
      "                                                                                                  \n",
      " conv1d_166 (Conv1D)            (None, 287, 9)       171         ['max_pooling1d_82[0][0]']       \n"
     ]
    },
    {
     "name": "stdout",
     "output_type": "stream",
     "text": [
      "                                                                                                  \n",
      " conv1d_167 (Conv1D)            (None, 287, 9)       171         ['max_pooling1d_82[0][0]']       \n",
      "                                                                                                  \n",
      " conv2d_22 (Conv2D)             (None, 60, 157, 48)  13872       ['batch_normalization_6[0][0]']  \n",
      "                                                                                                  \n",
      " conv2d_23 (Conv2D)             (None, 60, 157, 48)  13872       ['batch_normalization_6[0][0]']  \n",
      "                                                                                                  \n",
      " maximum_72 (Maximum)           (None, 179, 9)       0           ['conv1d_126[0][0]',             \n",
      "                                                                  'conv1d_127[0][0]']             \n",
      "                                                                                                  \n",
      " maximum_102 (Maximum)          (None, 29, 9)        0           ['conv1d_186[0][0]',             \n",
      "                                                                  'conv1d_187[0][0]']             \n",
      "                                                                                                  \n",
      " maximum_92 (Maximum)           (None, 287, 9)       0           ['conv1d_166[0][0]',             \n",
      "                                                                  'conv1d_167[0][0]']             \n",
      "                                                                                                  \n",
      " maximum_111 (Maximum)          (None, 60, 157, 48)  0           ['conv2d_22[0][0]',              \n",
      "                                                                  'conv2d_23[0][0]']              \n",
      "                                                                                                  \n",
      " max_pooling1d_63 (MaxPooling1D  (None, 178, 9)      0           ['maximum_72[0][0]']             \n",
      " )                                                                                                \n",
      "                                                                                                  \n",
      " max_pooling1d_93 (MaxPooling1D  (None, 28, 9)       0           ['maximum_102[0][0]']            \n",
      " )                                                                                                \n",
      "                                                                                                  \n",
      " max_pooling1d_83 (MaxPooling1D  (None, 286, 9)      0           ['maximum_92[0][0]']             \n",
      " )                                                                                                \n",
      "                                                                                                  \n",
      " max_pooling2d_5 (MaxPooling2D)  (None, 30, 79, 48)  0           ['maximum_111[0][0]']            \n",
      "                                                                                                  \n",
      " conv1d_128 (Conv1D)            (None, 178, 9)       171         ['max_pooling1d_63[0][0]']       \n",
      "                                                                                                  \n",
      " conv1d_129 (Conv1D)            (None, 178, 9)       171         ['max_pooling1d_63[0][0]']       \n",
      "                                                                                                  \n",
      " conv1d_188 (Conv1D)            (None, 28, 9)        171         ['max_pooling1d_93[0][0]']       \n",
      "                                                                                                  \n",
      " conv1d_189 (Conv1D)            (None, 28, 9)        171         ['max_pooling1d_93[0][0]']       \n",
      "                                                                                                  \n",
      " conv1d_168 (Conv1D)            (None, 286, 9)       171         ['max_pooling1d_83[0][0]']       \n",
      "                                                                                                  \n",
      " conv1d_169 (Conv1D)            (None, 286, 9)       171         ['max_pooling1d_83[0][0]']       \n",
      "                                                                                                  \n",
      " batch_normalization_7 (BatchNo  (None, 30, 79, 48)  144         ['max_pooling2d_5[0][0]']        \n",
      " rmalization)                                                                                     \n",
      "                                                                                                  \n",
      " maximum_73 (Maximum)           (None, 178, 9)       0           ['conv1d_128[0][0]',             \n",
      "                                                                  'conv1d_129[0][0]']             \n",
      "                                                                                                  \n",
      " maximum_103 (Maximum)          (None, 28, 9)        0           ['conv1d_188[0][0]',             \n",
      "                                                                  'conv1d_189[0][0]']             \n",
      "                                                                                                  \n",
      " maximum_93 (Maximum)           (None, 286, 9)       0           ['conv1d_168[0][0]',             \n",
      "                                                                  'conv1d_169[0][0]']             \n",
      "                                                                                                  \n",
      " conv2d_24 (Conv2D)             (None, 30, 79, 48)   2352        ['batch_normalization_7[0][0]']  \n",
      "                                                                                                  \n",
      " conv2d_25 (Conv2D)             (None, 30, 79, 48)   2352        ['batch_normalization_7[0][0]']  \n",
      "                                                                                                  \n",
      " max_pooling1d_64 (MaxPooling1D  (None, 177, 9)      0           ['maximum_73[0][0]']             \n",
      " )                                                                                                \n",
      "                                                                                                  \n",
      " max_pooling1d_94 (MaxPooling1D  (None, 27, 9)       0           ['maximum_103[0][0]']            \n",
      " )                                                                                                \n",
      "                                                                                                  \n",
      " max_pooling1d_84 (MaxPooling1D  (None, 285, 9)      0           ['maximum_93[0][0]']             \n",
      " )                                                                                                \n",
      "                                                                                                  \n",
      " maximum_112 (Maximum)          (None, 30, 79, 48)   0           ['conv2d_24[0][0]',              \n",
      "                                                                  'conv2d_25[0][0]']              \n",
      "                                                                                                  \n",
      " conv1d_130 (Conv1D)            (None, 177, 64)      1216        ['max_pooling1d_64[0][0]']       \n",
      "                                                                                                  \n",
      " conv1d_131 (Conv1D)            (None, 177, 64)      1216        ['max_pooling1d_64[0][0]']       \n",
      "                                                                                                  \n",
      " conv1d_190 (Conv1D)            (None, 27, 9)        171         ['max_pooling1d_94[0][0]']       \n",
      "                                                                                                  \n",
      " conv1d_191 (Conv1D)            (None, 27, 9)        171         ['max_pooling1d_94[0][0]']       \n",
      "                                                                                                  \n",
      " conv1d_170 (Conv1D)            (None, 285, 64)      1216        ['max_pooling1d_84[0][0]']       \n",
      "                                                                                                  \n",
      " conv1d_171 (Conv1D)            (None, 285, 64)      1216        ['max_pooling1d_84[0][0]']       \n",
      "                                                                                                  \n",
      " batch_normalization_8 (BatchNo  (None, 30, 79, 48)  144         ['maximum_112[0][0]']            \n"
     ]
    },
    {
     "name": "stdout",
     "output_type": "stream",
     "text": [
      " rmalization)                                                                                     \n",
      "                                                                                                  \n",
      " maximum_74 (Maximum)           (None, 177, 64)      0           ['conv1d_130[0][0]',             \n",
      "                                                                  'conv1d_131[0][0]']             \n",
      "                                                                                                  \n",
      " maximum_104 (Maximum)          (None, 27, 9)        0           ['conv1d_190[0][0]',             \n",
      "                                                                  'conv1d_191[0][0]']             \n",
      "                                                                                                  \n",
      " maximum_94 (Maximum)           (None, 285, 64)      0           ['conv1d_170[0][0]',             \n",
      "                                                                  'conv1d_171[0][0]']             \n",
      "                                                                                                  \n",
      " conv2d_26 (Conv2D)             (None, 30, 79, 64)   27712       ['batch_normalization_8[0][0]']  \n",
      "                                                                                                  \n",
      " conv2d_27 (Conv2D)             (None, 30, 79, 64)   27712       ['batch_normalization_8[0][0]']  \n",
      "                                                                                                  \n",
      " max_pooling1d_65 (MaxPooling1D  (None, 176, 64)     0           ['maximum_74[0][0]']             \n",
      " )                                                                                                \n",
      "                                                                                                  \n",
      " max_pooling1d_95 (MaxPooling1D  (None, 26, 9)       0           ['maximum_104[0][0]']            \n",
      " )                                                                                                \n",
      "                                                                                                  \n",
      " max_pooling1d_85 (MaxPooling1D  (None, 284, 64)     0           ['maximum_94[0][0]']             \n",
      " )                                                                                                \n",
      "                                                                                                  \n",
      " maximum_113 (Maximum)          (None, 30, 79, 64)   0           ['conv2d_26[0][0]',              \n",
      "                                                                  'conv2d_27[0][0]']              \n",
      "                                                                                                  \n",
      " conv1d_132 (Conv1D)            (None, 176, 9)       1161        ['max_pooling1d_65[0][0]']       \n",
      "                                                                                                  \n",
      " conv1d_133 (Conv1D)            (None, 176, 9)       1161        ['max_pooling1d_65[0][0]']       \n",
      "                                                                                                  \n",
      " conv1d_192 (Conv1D)            (None, 26, 9)        171         ['max_pooling1d_95[0][0]']       \n",
      "                                                                                                  \n",
      " conv1d_193 (Conv1D)            (None, 26, 9)        171         ['max_pooling1d_95[0][0]']       \n",
      "                                                                                                  \n",
      " conv1d_172 (Conv1D)            (None, 284, 9)       1161        ['max_pooling1d_85[0][0]']       \n",
      "                                                                                                  \n",
      " conv1d_173 (Conv1D)            (None, 284, 9)       1161        ['max_pooling1d_85[0][0]']       \n",
      "                                                                                                  \n",
      " max_pooling2d_6 (MaxPooling2D)  (None, 15, 40, 64)  0           ['maximum_113[0][0]']            \n",
      "                                                                                                  \n",
      " maximum_75 (Maximum)           (None, 176, 9)       0           ['conv1d_132[0][0]',             \n",
      "                                                                  'conv1d_133[0][0]']             \n",
      "                                                                                                  \n",
      " maximum_105 (Maximum)          (None, 26, 9)        0           ['conv1d_192[0][0]',             \n",
      "                                                                  'conv1d_193[0][0]']             \n",
      "                                                                                                  \n",
      " maximum_95 (Maximum)           (None, 284, 9)       0           ['conv1d_172[0][0]',             \n",
      "                                                                  'conv1d_173[0][0]']             \n",
      "                                                                                                  \n",
      " conv2d_28 (Conv2D)             (None, 15, 40, 64)   4160        ['max_pooling2d_6[0][0]']        \n",
      "                                                                                                  \n",
      " conv2d_29 (Conv2D)             (None, 15, 40, 64)   4160        ['max_pooling2d_6[0][0]']        \n",
      "                                                                                                  \n",
      " max_pooling1d_66 (MaxPooling1D  (None, 175, 9)      0           ['maximum_75[0][0]']             \n",
      " )                                                                                                \n",
      "                                                                                                  \n",
      " max_pooling1d_96 (MaxPooling1D  (None, 25, 9)       0           ['maximum_105[0][0]']            \n",
      " )                                                                                                \n",
      "                                                                                                  \n",
      " max_pooling1d_86 (MaxPooling1D  (None, 283, 9)      0           ['maximum_95[0][0]']             \n",
      " )                                                                                                \n",
      "                                                                                                  \n",
      " maximum_114 (Maximum)          (None, 15, 40, 64)   0           ['conv2d_28[0][0]',              \n",
      "                                                                  'conv2d_29[0][0]']              \n",
      "                                                                                                  \n",
      " conv1d_134 (Conv1D)            (None, 175, 9)       171         ['max_pooling1d_66[0][0]']       \n",
      "                                                                                                  \n",
      " conv1d_135 (Conv1D)            (None, 175, 9)       171         ['max_pooling1d_66[0][0]']       \n",
      "                                                                                                  \n",
      " conv1d_194 (Conv1D)            (None, 25, 9)        171         ['max_pooling1d_96[0][0]']       \n",
      "                                                                                                  \n",
      " conv1d_195 (Conv1D)            (None, 25, 9)        171         ['max_pooling1d_96[0][0]']       \n",
      "                                                                                                  \n",
      " conv1d_174 (Conv1D)            (None, 283, 9)       171         ['max_pooling1d_86[0][0]']       \n",
      "                                                                                                  \n",
      " conv1d_175 (Conv1D)            (None, 283, 9)       171         ['max_pooling1d_86[0][0]']       \n",
      "                                                                                                  \n",
      " batch_normalization_9 (BatchNo  (None, 15, 40, 64)  192         ['maximum_114[0][0]']            \n",
      " rmalization)                                                                                     \n",
      "                                                                                                  \n",
      " maximum_76 (Maximum)           (None, 175, 9)       0           ['conv1d_134[0][0]',             \n",
      "                                                                  'conv1d_135[0][0]']             \n"
     ]
    },
    {
     "name": "stdout",
     "output_type": "stream",
     "text": [
      "                                                                                                  \n",
      " maximum_106 (Maximum)          (None, 25, 9)        0           ['conv1d_194[0][0]',             \n",
      "                                                                  'conv1d_195[0][0]']             \n",
      "                                                                                                  \n",
      " maximum_96 (Maximum)           (None, 283, 9)       0           ['conv1d_174[0][0]',             \n",
      "                                                                  'conv1d_175[0][0]']             \n",
      "                                                                                                  \n",
      " conv2d_30 (Conv2D)             (None, 15, 40, 32)   18464       ['batch_normalization_9[0][0]']  \n",
      "                                                                                                  \n",
      " conv2d_31 (Conv2D)             (None, 15, 40, 32)   18464       ['batch_normalization_9[0][0]']  \n",
      "                                                                                                  \n",
      " max_pooling1d_67 (MaxPooling1D  (None, 174, 9)      0           ['maximum_76[0][0]']             \n",
      " )                                                                                                \n",
      "                                                                                                  \n",
      " max_pooling1d_97 (MaxPooling1D  (None, 24, 9)       0           ['maximum_106[0][0]']            \n",
      " )                                                                                                \n",
      "                                                                                                  \n",
      " max_pooling1d_87 (MaxPooling1D  (None, 282, 9)      0           ['maximum_96[0][0]']             \n",
      " )                                                                                                \n",
      "                                                                                                  \n",
      " maximum_115 (Maximum)          (None, 15, 40, 32)   0           ['conv2d_30[0][0]',              \n",
      "                                                                  'conv2d_31[0][0]']              \n",
      "                                                                                                  \n",
      " conv1d_136 (Conv1D)            (None, 174, 9)       171         ['max_pooling1d_67[0][0]']       \n",
      "                                                                                                  \n",
      " conv1d_137 (Conv1D)            (None, 174, 9)       171         ['max_pooling1d_67[0][0]']       \n",
      "                                                                                                  \n",
      " conv1d_196 (Conv1D)            (None, 24, 9)        171         ['max_pooling1d_97[0][0]']       \n",
      "                                                                                                  \n",
      " conv1d_197 (Conv1D)            (None, 24, 9)        171         ['max_pooling1d_97[0][0]']       \n",
      "                                                                                                  \n",
      " conv1d_176 (Conv1D)            (None, 282, 9)       171         ['max_pooling1d_87[0][0]']       \n",
      "                                                                                                  \n",
      " conv1d_177 (Conv1D)            (None, 282, 9)       171         ['max_pooling1d_87[0][0]']       \n",
      "                                                                                                  \n",
      " batch_normalization_10 (BatchN  (None, 15, 40, 32)  96          ['maximum_115[0][0]']            \n",
      " ormalization)                                                                                    \n",
      "                                                                                                  \n",
      " maximum_77 (Maximum)           (None, 174, 9)       0           ['conv1d_136[0][0]',             \n",
      "                                                                  'conv1d_137[0][0]']             \n",
      "                                                                                                  \n",
      " maximum_107 (Maximum)          (None, 24, 9)        0           ['conv1d_196[0][0]',             \n",
      "                                                                  'conv1d_197[0][0]']             \n",
      "                                                                                                  \n",
      " maximum_97 (Maximum)           (None, 282, 9)       0           ['conv1d_176[0][0]',             \n",
      "                                                                  'conv1d_177[0][0]']             \n",
      "                                                                                                  \n",
      " conv2d_32 (Conv2D)             (None, 15, 40, 32)   1056        ['batch_normalization_10[0][0]'] \n",
      "                                                                                                  \n",
      " conv2d_33 (Conv2D)             (None, 15, 40, 32)   1056        ['batch_normalization_10[0][0]'] \n",
      "                                                                                                  \n",
      " max_pooling1d_68 (MaxPooling1D  (None, 173, 9)      0           ['maximum_77[0][0]']             \n",
      " )                                                                                                \n",
      "                                                                                                  \n",
      " max_pooling1d_98 (MaxPooling1D  (None, 23, 9)       0           ['maximum_107[0][0]']            \n",
      " )                                                                                                \n",
      "                                                                                                  \n",
      " max_pooling1d_88 (MaxPooling1D  (None, 281, 9)      0           ['maximum_97[0][0]']             \n",
      " )                                                                                                \n",
      "                                                                                                  \n",
      " maximum_116 (Maximum)          (None, 15, 40, 32)   0           ['conv2d_32[0][0]',              \n",
      "                                                                  'conv2d_33[0][0]']              \n",
      "                                                                                                  \n",
      " conv1d_138 (Conv1D)            (None, 173, 9)       171         ['max_pooling1d_68[0][0]']       \n",
      "                                                                                                  \n",
      " conv1d_139 (Conv1D)            (None, 173, 9)       171         ['max_pooling1d_68[0][0]']       \n",
      "                                                                                                  \n",
      " conv1d_198 (Conv1D)            (None, 23, 9)        171         ['max_pooling1d_98[0][0]']       \n",
      "                                                                                                  \n",
      " conv1d_199 (Conv1D)            (None, 23, 9)        171         ['max_pooling1d_98[0][0]']       \n",
      "                                                                                                  \n",
      " conv1d_178 (Conv1D)            (None, 281, 9)       171         ['max_pooling1d_88[0][0]']       \n",
      "                                                                                                  \n",
      " conv1d_179 (Conv1D)            (None, 281, 9)       171         ['max_pooling1d_88[0][0]']       \n",
      "                                                                                                  \n",
      " batch_normalization_11 (BatchN  (None, 15, 40, 32)  96          ['maximum_116[0][0]']            \n",
      " ormalization)                                                                                    \n",
      "                                                                                                  \n",
      " maximum_78 (Maximum)           (None, 173, 9)       0           ['conv1d_138[0][0]',             \n",
      "                                                                  'conv1d_139[0][0]']             \n",
      "                                                                                                  \n",
      " maximum_108 (Maximum)          (None, 23, 9)        0           ['conv1d_198[0][0]',             \n",
      "                                                                  'conv1d_199[0][0]']             \n"
     ]
    },
    {
     "name": "stdout",
     "output_type": "stream",
     "text": [
      "                                                                                                  \n",
      " maximum_98 (Maximum)           (None, 281, 9)       0           ['conv1d_178[0][0]',             \n",
      "                                                                  'conv1d_179[0][0]']             \n",
      "                                                                                                  \n",
      " conv2d_34 (Conv2D)             (None, 15, 40, 32)   1056        ['batch_normalization_11[0][0]'] \n",
      "                                                                                                  \n",
      " conv2d_35 (Conv2D)             (None, 15, 40, 32)   1056        ['batch_normalization_11[0][0]'] \n",
      "                                                                                                  \n",
      " max_pooling1d_69 (MaxPooling1D  (None, 172, 9)      0           ['maximum_78[0][0]']             \n",
      " )                                                                                                \n",
      "                                                                                                  \n",
      " max_pooling1d_99 (MaxPooling1D  (None, 22, 9)       0           ['maximum_108[0][0]']            \n",
      " )                                                                                                \n",
      "                                                                                                  \n",
      " max_pooling1d_89 (MaxPooling1D  (None, 280, 9)      0           ['maximum_98[0][0]']             \n",
      " )                                                                                                \n",
      "                                                                                                  \n",
      " maximum_117 (Maximum)          (None, 15, 40, 32)   0           ['conv2d_34[0][0]',              \n",
      "                                                                  'conv2d_35[0][0]']              \n",
      "                                                                                                  \n",
      " age_cat (InputLayer)           [(None, 6)]          0           []                               \n",
      "                                                                                                  \n",
      " sex_cat (InputLayer)           [(None, 2)]          0           []                               \n",
      "                                                                                                  \n",
      " height_weight (InputLayer)     [(None, 2)]          0           []                               \n",
      "                                                                                                  \n",
      " loc (InputLayer)               [(None, 5)]          0           []                               \n",
      "                                                                                                  \n",
      " global_average_pooling1d_3 (Gl  (None, 9)           0           ['max_pooling1d_69[0][0]']       \n",
      " obalAveragePooling1D)                                                                            \n",
      "                                                                                                  \n",
      " global_average_pooling1d_5 (Gl  (None, 9)           0           ['max_pooling1d_99[0][0]']       \n",
      " obalAveragePooling1D)                                                                            \n",
      "                                                                                                  \n",
      " global_average_pooling1d_4 (Gl  (None, 9)           0           ['max_pooling1d_89[0][0]']       \n",
      " obalAveragePooling1D)                                                                            \n",
      "                                                                                                  \n",
      " max_pooling2d_7 (MaxPooling2D)  (None, 7, 20, 32)   0           ['maximum_117[0][0]']            \n",
      "                                                                                                  \n",
      " dense_7 (Dense)                (None, 2)            14          ['age_cat[0][0]']                \n",
      "                                                                                                  \n",
      " dense_8 (Dense)                (None, 1)            3           ['sex_cat[0][0]']                \n",
      "                                                                                                  \n",
      " dense_9 (Dense)                (None, 1)            3           ['height_weight[0][0]']          \n",
      "                                                                                                  \n",
      " dense_10 (Dense)               (None, 3)            18          ['loc[0][0]']                    \n",
      "                                                                                                  \n",
      " is_preg (InputLayer)           [(None, 1)]          0           []                               \n",
      "                                                                                                  \n",
      " dropout_4 (Dropout)            (None, 9)            0           ['global_average_pooling1d_3[0][0\n",
      "                                                                 ]']                              \n",
      "                                                                                                  \n",
      " dropout_6 (Dropout)            (None, 9)            0           ['global_average_pooling1d_5[0][0\n",
      "                                                                 ]']                              \n",
      "                                                                                                  \n",
      " dropout_5 (Dropout)            (None, 9)            0           ['global_average_pooling1d_4[0][0\n",
      "                                                                 ]']                              \n",
      "                                                                                                  \n",
      " global_average_pooling2d_1 (Gl  (None, 32)          0           ['max_pooling2d_7[0][0]']        \n",
      " obalAveragePooling2D)                                                                            \n",
      "                                                                                                  \n",
      " concatenate_2 (Concatenate)    (None, 35)           0           ['dense_7[0][0]',                \n",
      "                                                                  'dense_8[0][0]',                \n",
      "                                                                  'dense_9[0][0]',                \n",
      "                                                                  'dense_10[0][0]',               \n",
      "                                                                  'is_preg[0][0]',                \n",
      "                                                                  'dropout_4[0][0]',              \n",
      "                                                                  'dropout_6[0][0]',              \n",
      "                                                                  'dropout_5[0][0]']              \n",
      "                                                                                                  \n",
      " dropout_7 (Dropout)            (None, 32)           0           ['global_average_pooling2d_1[0][0\n",
      "                                                                 ]']                              \n",
      "                                                                                                  \n",
      " dense_11 (Dense)               (None, 10)           360         ['concatenate_2[0][0]']          \n",
      "                                                                                                  \n",
      " concatenate_3 (Concatenate)    (None, 42)           0           ['dropout_7[0][0]',              \n",
      "                                                                  'dense_11[0][0]']               \n",
      "                                                                                                  \n",
      " stft (InputLayer)              [(None, 1, 1, 1)]    0           []                               \n",
      "                                                                                                  \n",
      " cqt (InputLayer)               [(None, 1, 1, 1)]    0           []                               \n",
      "                                                                                                  \n",
      " dense_12 (Dense)               (None, 2)            86          ['concatenate_3[0][0]']          \n"
     ]
    },
    {
     "name": "stdout",
     "output_type": "stream",
     "text": [
      "                                                                                                  \n",
      "==================================================================================================\n",
      "Total params: 252,599\n",
      "Trainable params: 252,087\n",
      "Non-trainable params: 512\n",
      "__________________________________________________________________________________________________\n"
     ]
    }
   ],
   "source": [
    "model2.summary()"
   ]
  },
  {
   "cell_type": "code",
   "execution_count": null,
   "id": "aec82b08",
   "metadata": {},
   "outputs": [],
   "source": []
  },
  {
   "cell_type": "code",
   "execution_count": null,
   "id": "e7a9ac6a",
   "metadata": {},
   "outputs": [],
   "source": []
  },
  {
   "cell_type": "code",
   "execution_count": 36,
   "id": "57a145f2",
   "metadata": {
    "scrolled": false
   },
   "outputs": [
    {
     "name": "stdout",
     "output_type": "stream",
     "text": [
      "Epoch 1/100\n"
     ]
    },
    {
     "name": "stderr",
     "output_type": "stream",
     "text": [
      "2022-08-12 01:30:50.474518: I tensorflow/stream_executor/cuda/cuda_dnn.cc:368] Loaded cuDNN version 8101\n"
     ]
    },
    {
     "name": "stdout",
     "output_type": "stream",
     "text": [
      "40/40 [==============================] - 21s 241ms/step - loss: 4.0255 - accuracy: 0.6375 - auc: 0.6620 - val_loss: 1.4338 - val_accuracy: 0.7892 - val_auc: 0.8044 - lr: 9.9851e-04\n",
      "Epoch 2/100\n",
      "40/40 [==============================] - 5s 125ms/step - loss: 0.9072 - accuracy: 0.7598 - auc: 0.8203 - val_loss: 0.5370 - val_accuracy: 0.7797 - val_auc: 0.8395 - lr: 9.9831e-04\n",
      "Epoch 3/100\n",
      "40/40 [==============================] - 7s 172ms/step - loss: 0.8992 - accuracy: 0.7527 - auc: 0.8223 - val_loss: 0.6261 - val_accuracy: 0.6624 - val_auc: 0.7304 - lr: 9.9807e-04\n",
      "Epoch 4/100\n",
      "40/40 [==============================] - 7s 172ms/step - loss: 0.8650 - accuracy: 0.7824 - auc: 0.8424 - val_loss: 0.5234 - val_accuracy: 0.7433 - val_auc: 0.8425 - lr: 9.9781e-04\n",
      "Epoch 5/100\n",
      "40/40 [==============================] - 7s 172ms/step - loss: 0.8579 - accuracy: 0.7887 - auc: 0.8550 - val_loss: 0.8514 - val_accuracy: 0.4136 - val_auc: 0.4157 - lr: 9.9750e-04\n",
      "Epoch 6/100\n",
      "40/40 [==============================] - 7s 176ms/step - loss: 0.8599 - accuracy: 0.7773 - auc: 0.8455 - val_loss: 0.4770 - val_accuracy: 0.8098 - val_auc: 0.8556 - lr: 9.9716e-04\n",
      "Epoch 7/100\n",
      "40/40 [==============================] - 7s 166ms/step - loss: 0.8554 - accuracy: 0.7844 - auc: 0.8553 - val_loss: 0.5337 - val_accuracy: 0.7829 - val_auc: 0.8388 - lr: 9.9676e-04\n",
      "Epoch 8/100\n",
      "40/40 [==============================] - 7s 179ms/step - loss: 0.8517 - accuracy: 0.7891 - auc: 0.8476 - val_loss: 0.4582 - val_accuracy: 0.8162 - val_auc: 0.8782 - lr: 9.9632e-04\n",
      "Epoch 9/100\n",
      "40/40 [==============================] - 7s 165ms/step - loss: 0.8514 - accuracy: 0.7863 - auc: 0.8623 - val_loss: 0.4710 - val_accuracy: 0.7797 - val_auc: 0.8712 - lr: 9.9581e-04\n",
      "Epoch 10/100\n",
      "40/40 [==============================] - 7s 171ms/step - loss: 0.8385 - accuracy: 0.8141 - auc: 0.8785 - val_loss: 0.8747 - val_accuracy: 0.4517 - val_auc: 0.4653 - lr: 9.9523e-04\n",
      "Epoch 11/100\n",
      "40/40 [==============================] - 7s 171ms/step - loss: 0.8366 - accuracy: 0.7910 - auc: 0.8595 - val_loss: 0.5176 - val_accuracy: 0.7591 - val_auc: 0.8414 - lr: 9.9457e-04\n",
      "Epoch 12/100\n",
      "40/40 [==============================] - 7s 172ms/step - loss: 0.8300 - accuracy: 0.7910 - auc: 0.8641 - val_loss: 0.4633 - val_accuracy: 0.8098 - val_auc: 0.8814 - lr: 9.9382e-04\n",
      "Epoch 13/100\n",
      "40/40 [==============================] - 7s 179ms/step - loss: 0.8201 - accuracy: 0.8172 - auc: 0.8765 - val_loss: 0.4179 - val_accuracy: 0.8494 - val_auc: 0.9136 - lr: 9.9297e-04\n",
      "Epoch 14/100\n",
      "40/40 [==============================] - 7s 175ms/step - loss: 0.8506 - accuracy: 0.8039 - auc: 0.8730 - val_loss: 0.4194 - val_accuracy: 0.8590 - val_auc: 0.9218 - lr: 9.9200e-04\n",
      "Epoch 15/100\n",
      "40/40 [==============================] - 7s 166ms/step - loss: 0.7990 - accuracy: 0.8137 - auc: 0.8835 - val_loss: 0.7157 - val_accuracy: 0.5610 - val_auc: 0.5778 - lr: 9.9090e-04\n",
      "Epoch 16/100\n",
      "40/40 [==============================] - 7s 169ms/step - loss: 0.8006 - accuracy: 0.8062 - auc: 0.8792 - val_loss: 0.4409 - val_accuracy: 0.8494 - val_auc: 0.8903 - lr: 9.8965e-04\n",
      "Epoch 17/100\n",
      "40/40 [==============================] - 7s 170ms/step - loss: 0.8217 - accuracy: 0.8078 - auc: 0.8742 - val_loss: 0.4337 - val_accuracy: 0.8336 - val_auc: 0.8948 - lr: 9.8823e-04\n",
      "Epoch 18/100\n",
      "40/40 [==============================] - 7s 171ms/step - loss: 0.8184 - accuracy: 0.8059 - auc: 0.8753 - val_loss: 0.6804 - val_accuracy: 0.5452 - val_auc: 0.5822 - lr: 9.8662e-04\n",
      "Epoch 19/100\n",
      "40/40 [==============================] - 7s 171ms/step - loss: 0.7995 - accuracy: 0.8180 - auc: 0.8849 - val_loss: 2.0629 - val_accuracy: 0.2108 - val_auc: 0.2872 - lr: 9.8479e-04\n",
      "Epoch 20/100\n",
      "40/40 [==============================] - 7s 179ms/step - loss: 0.8134 - accuracy: 0.8121 - auc: 0.8747 - val_loss: 0.4029 - val_accuracy: 0.8764 - val_auc: 0.9003 - lr: 9.8271e-04\n",
      "Epoch 21/100\n",
      "40/40 [==============================] - 7s 165ms/step - loss: 0.7851 - accuracy: 0.8230 - auc: 0.8816 - val_loss: 0.4111 - val_accuracy: 0.8653 - val_auc: 0.9249 - lr: 9.8036e-04\n",
      "Epoch 22/100\n",
      "40/40 [==============================] - 7s 171ms/step - loss: 0.7998 - accuracy: 0.8117 - auc: 0.8882 - val_loss: 0.4859 - val_accuracy: 0.8368 - val_auc: 0.9070 - lr: 9.7769e-04\n",
      "Epoch 23/100\n",
      "40/40 [==============================] - 7s 171ms/step - loss: 0.7886 - accuracy: 0.8195 - auc: 0.8854 - val_loss: 0.4327 - val_accuracy: 0.8558 - val_auc: 0.9291 - lr: 9.7468e-04\n",
      "Epoch 24/100\n",
      "40/40 [==============================] - 7s 171ms/step - loss: 0.8106 - accuracy: 0.8109 - auc: 0.8862 - val_loss: 0.4464 - val_accuracy: 0.8146 - val_auc: 0.8961 - lr: 9.7126e-04\n",
      "Epoch 25/100\n",
      "40/40 [==============================] - 7s 177ms/step - loss: 0.8064 - accuracy: 0.8141 - auc: 0.8797 - val_loss: 0.3570 - val_accuracy: 0.8780 - val_auc: 0.9288 - lr: 9.6740e-04\n",
      "Epoch 26/100\n",
      "40/40 [==============================] - 7s 166ms/step - loss: 0.7928 - accuracy: 0.8246 - auc: 0.8781 - val_loss: 0.8928 - val_accuracy: 0.3281 - val_auc: 0.3657 - lr: 9.6305e-04\n",
      "Epoch 27/100\n",
      "40/40 [==============================] - 7s 171ms/step - loss: 0.8039 - accuracy: 0.8102 - auc: 0.8944 - val_loss: 0.4555 - val_accuracy: 0.8399 - val_auc: 0.9118 - lr: 9.5813e-04\n",
      "Epoch 28/100\n",
      "40/40 [==============================] - 7s 171ms/step - loss: 0.8099 - accuracy: 0.8094 - auc: 0.8873 - val_loss: 0.4022 - val_accuracy: 0.8574 - val_auc: 0.9308 - lr: 9.5260e-04\n",
      "Epoch 29/100\n",
      "40/40 [==============================] - 7s 170ms/step - loss: 0.7810 - accuracy: 0.8023 - auc: 0.8949 - val_loss: 0.4323 - val_accuracy: 0.8510 - val_auc: 0.9177 - lr: 9.4637e-04\n",
      "Epoch 30/100\n",
      "40/40 [==============================] - 7s 170ms/step - loss: 0.7501 - accuracy: 0.8262 - auc: 0.8987 - val_loss: 0.4532 - val_accuracy: 0.8304 - val_auc: 0.9020 - lr: 9.3939e-04\n",
      "Epoch 31/100\n",
      "40/40 [==============================] - 7s 177ms/step - loss: 0.8099 - accuracy: 0.8082 - auc: 0.8880 - val_loss: 0.3918 - val_accuracy: 0.8811 - val_auc: 0.9262 - lr: 9.3155e-04\n",
      "Epoch 32/100\n",
      "40/40 [==============================] - 7s 166ms/step - loss: 0.8148 - accuracy: 0.8156 - auc: 0.8850 - val_loss: 0.3978 - val_accuracy: 0.8732 - val_auc: 0.9321 - lr: 9.2279e-04\n",
      "Epoch 33/100\n",
      "40/40 [==============================] - 7s 172ms/step - loss: 0.7469 - accuracy: 0.8281 - auc: 0.9071 - val_loss: 0.5385 - val_accuracy: 0.7845 - val_auc: 0.8692 - lr: 9.1301e-04\n",
      "Epoch 34/100\n",
      "40/40 [==============================] - 7s 172ms/step - loss: 0.7770 - accuracy: 0.8309 - auc: 0.8965 - val_loss: 0.7474 - val_accuracy: 0.4818 - val_auc: 0.5107 - lr: 9.0213e-04\n",
      "Epoch 35/100\n",
      "40/40 [==============================] - 7s 171ms/step - loss: 0.7767 - accuracy: 0.8090 - auc: 0.8980 - val_loss: 0.4749 - val_accuracy: 0.8051 - val_auc: 0.8786 - lr: 8.9005e-04\n",
      "Epoch 36/100\n",
      "40/40 [==============================] - 7s 171ms/step - loss: 0.7675 - accuracy: 0.8117 - auc: 0.8929 - val_loss: 0.8031 - val_accuracy: 0.4136 - val_auc: 0.4342 - lr: 8.7669e-04\n",
      "Epoch 37/100\n",
      "40/40 [==============================] - 7s 172ms/step - loss: 0.7445 - accuracy: 0.8336 - auc: 0.9005 - val_loss: 0.5586 - val_accuracy: 0.7100 - val_auc: 0.7952 - lr: 8.6196e-04\n",
      "Epoch 38/100\n",
      "40/40 [==============================] - 7s 173ms/step - loss: 0.7725 - accuracy: 0.8156 - auc: 0.9088 - val_loss: 0.4318 - val_accuracy: 0.8193 - val_auc: 0.9051 - lr: 8.4578e-04\n",
      "Epoch 39/100\n",
      "40/40 [==============================] - 7s 171ms/step - loss: 0.7660 - accuracy: 0.8238 - auc: 0.8955 - val_loss: 0.6191 - val_accuracy: 0.6513 - val_auc: 0.7017 - lr: 8.2809e-04\n",
      "Epoch 40/100\n",
      "40/40 [==============================] - 7s 172ms/step - loss: 0.7742 - accuracy: 0.8242 - auc: 0.8975 - val_loss: 0.4231 - val_accuracy: 0.8463 - val_auc: 0.9138 - lr: 8.0883e-04\n",
      "Epoch 41/100\n",
      "40/40 [==============================] - 7s 170ms/step - loss: 0.7616 - accuracy: 0.8238 - auc: 0.9047 - val_loss: 0.4466 - val_accuracy: 0.8257 - val_auc: 0.9104 - lr: 7.8798e-04\n",
      "Epoch 42/100\n",
      "40/40 [==============================] - 7s 171ms/step - loss: 0.7365 - accuracy: 0.8289 - auc: 0.9102 - val_loss: 0.4052 - val_accuracy: 0.8669 - val_auc: 0.9019 - lr: 7.6551e-04\n",
      "Epoch 43/100\n"
     ]
    },
    {
     "name": "stdout",
     "output_type": "stream",
     "text": [
      "40/40 [==============================] - 7s 171ms/step - loss: 0.7222 - accuracy: 0.8367 - auc: 0.9117 - val_loss: 0.3805 - val_accuracy: 0.8764 - val_auc: 0.9280 - lr: 7.4146e-04\n",
      "Epoch 44/100\n",
      "40/40 [==============================] - 7s 170ms/step - loss: 0.7190 - accuracy: 0.8285 - auc: 0.9127 - val_loss: 0.3711 - val_accuracy: 0.8764 - val_auc: 0.9239 - lr: 7.1587e-04\n",
      "Epoch 45/100\n",
      "40/40 [==============================] - 7s 171ms/step - loss: 0.7637 - accuracy: 0.8168 - auc: 0.9046 - val_loss: 0.4240 - val_accuracy: 0.8494 - val_auc: 0.9132 - lr: 6.8882e-04\n",
      "Epoch 46/100\n",
      "40/40 [==============================] - 7s 172ms/step - loss: 0.7318 - accuracy: 0.8234 - auc: 0.9165 - val_loss: 0.5076 - val_accuracy: 0.7750 - val_auc: 0.8549 - lr: 6.6044e-04\n",
      "Epoch 47/100\n",
      "40/40 [==============================] - 7s 178ms/step - loss: 0.7293 - accuracy: 0.8270 - auc: 0.9108 - val_loss: 0.3655 - val_accuracy: 0.8891 - val_auc: 0.9210 - lr: 6.3088e-04\n",
      "Epoch 48/100\n",
      "40/40 [==============================] - 7s 165ms/step - loss: 0.7543 - accuracy: 0.8254 - auc: 0.9106 - val_loss: 0.5356 - val_accuracy: 0.7433 - val_auc: 0.8275 - lr: 6.0032e-04\n",
      "Epoch 49/100\n",
      "40/40 [==============================] - 7s 171ms/step - loss: 0.7604 - accuracy: 0.8180 - auc: 0.9093 - val_loss: 0.5521 - val_accuracy: 0.7274 - val_auc: 0.7997 - lr: 5.6899e-04\n",
      "Epoch 50/100\n",
      "40/40 [==============================] - 7s 171ms/step - loss: 0.7424 - accuracy: 0.8281 - auc: 0.9090 - val_loss: 0.4664 - val_accuracy: 0.8241 - val_auc: 0.8894 - lr: 5.3713e-04\n",
      "Epoch 51/100\n",
      "40/40 [==============================] - 7s 172ms/step - loss: 0.7214 - accuracy: 0.8180 - auc: 0.9199 - val_loss: 0.5221 - val_accuracy: 0.7876 - val_auc: 0.8509 - lr: 5.0500e-04\n",
      "Epoch 52/100\n",
      "40/40 [==============================] - 7s 172ms/step - loss: 0.6981 - accuracy: 0.8410 - auc: 0.9261 - val_loss: 0.3919 - val_accuracy: 0.8605 - val_auc: 0.9273 - lr: 4.7287e-04\n",
      "Epoch 53/100\n",
      "40/40 [==============================] - 7s 172ms/step - loss: 0.7221 - accuracy: 0.8371 - auc: 0.9139 - val_loss: 0.3527 - val_accuracy: 0.8875 - val_auc: 0.9275 - lr: 4.4101e-04\n",
      "Epoch 54/100\n",
      "40/40 [==============================] - 7s 169ms/step - loss: 0.7229 - accuracy: 0.8340 - auc: 0.9202 - val_loss: 0.3713 - val_accuracy: 0.8891 - val_auc: 0.9286 - lr: 4.0968e-04\n",
      "Epoch 55/100\n",
      "40/40 [==============================] - 7s 172ms/step - loss: 0.7330 - accuracy: 0.8207 - auc: 0.9173 - val_loss: 0.3886 - val_accuracy: 0.8669 - val_auc: 0.9317 - lr: 3.7912e-04\n",
      "Epoch 56/100\n",
      "40/40 [==============================] - 7s 173ms/step - loss: 0.7065 - accuracy: 0.8379 - auc: 0.9254 - val_loss: 0.3711 - val_accuracy: 0.8843 - val_auc: 0.9290 - lr: 3.4956e-04\n",
      "Epoch 57/100\n",
      "40/40 [==============================] - 7s 171ms/step - loss: 0.7234 - accuracy: 0.8344 - auc: 0.9266 - val_loss: 0.3862 - val_accuracy: 0.8796 - val_auc: 0.9263 - lr: 3.2118e-04\n",
      "Epoch 58/100\n",
      "40/40 [==============================] - 7s 173ms/step - loss: 0.7148 - accuracy: 0.8309 - auc: 0.9206 - val_loss: 0.4262 - val_accuracy: 0.8479 - val_auc: 0.9096 - lr: 2.9413e-04\n",
      "Epoch 59/100\n",
      "40/40 [==============================] - 7s 172ms/step - loss: 0.7240 - accuracy: 0.8254 - auc: 0.9165 - val_loss: 0.4871 - val_accuracy: 0.7940 - val_auc: 0.8718 - lr: 2.6854e-04\n",
      "Epoch 60/100\n",
      "40/40 [==============================] - 7s 171ms/step - loss: 0.7124 - accuracy: 0.8352 - auc: 0.9231 - val_loss: 0.3743 - val_accuracy: 0.8875 - val_auc: 0.9297 - lr: 2.4449e-04\n",
      "Epoch 61/100\n",
      "40/40 [==============================] - 7s 171ms/step - loss: 0.7248 - accuracy: 0.8258 - auc: 0.9280 - val_loss: 0.4039 - val_accuracy: 0.8716 - val_auc: 0.9196 - lr: 2.2202e-04\n",
      "Epoch 62/100\n",
      "40/40 [==============================] - 7s 172ms/step - loss: 0.6712 - accuracy: 0.8512 - auc: 0.9240 - val_loss: 0.3888 - val_accuracy: 0.8811 - val_auc: 0.9255 - lr: 2.0117e-04\n",
      "Epoch 63/100\n",
      "40/40 [==============================] - 7s 172ms/step - loss: 0.6965 - accuracy: 0.8480 - auc: 0.9277 - val_loss: 0.3828 - val_accuracy: 0.8764 - val_auc: 0.9230 - lr: 1.8191e-04\n",
      "Epoch 64/100\n",
      "40/40 [==============================] - 7s 172ms/step - loss: 0.6914 - accuracy: 0.8367 - auc: 0.9270 - val_loss: 0.3998 - val_accuracy: 0.8605 - val_auc: 0.9244 - lr: 1.6422e-04\n",
      "Epoch 65/100\n",
      "40/40 [==============================] - 7s 171ms/step - loss: 0.7163 - accuracy: 0.8391 - auc: 0.9286 - val_loss: 0.3901 - val_accuracy: 0.8780 - val_auc: 0.9279 - lr: 1.4804e-04\n",
      "Epoch 66/100\n",
      "40/40 [==============================] - 7s 173ms/step - loss: 0.7032 - accuracy: 0.8398 - auc: 0.9284 - val_loss: 0.4100 - val_accuracy: 0.8669 - val_auc: 0.9215 - lr: 1.3331e-04\n",
      "Epoch 67/100\n",
      "40/40 [==============================] - 7s 170ms/step - loss: 0.6862 - accuracy: 0.8418 - auc: 0.9295 - val_loss: 0.4172 - val_accuracy: 0.8479 - val_auc: 0.9177 - lr: 1.1995e-04\n",
      "Epoch 68/100\n",
      "40/40 [==============================] - 7s 172ms/step - loss: 0.7005 - accuracy: 0.8559 - auc: 0.9273 - val_loss: 0.4179 - val_accuracy: 0.8590 - val_auc: 0.9161 - lr: 1.0787e-04\n",
      "Epoch 69/100\n",
      "40/40 [==============================] - 7s 174ms/step - loss: 0.7012 - accuracy: 0.8449 - auc: 0.9286 - val_loss: 0.3835 - val_accuracy: 0.8716 - val_auc: 0.9292 - lr: 9.6985e-05\n",
      "Epoch 70/100\n",
      "40/40 [==============================] - 7s 171ms/step - loss: 0.6727 - accuracy: 0.8406 - auc: 0.9364 - val_loss: 0.3771 - val_accuracy: 0.8685 - val_auc: 0.9271 - lr: 8.7208e-05\n",
      "Epoch 71/100\n",
      "40/40 [==============================] - 7s 170ms/step - loss: 0.7096 - accuracy: 0.8332 - auc: 0.9262 - val_loss: 0.4160 - val_accuracy: 0.8510 - val_auc: 0.9195 - lr: 7.8447e-05\n",
      "Epoch 72/100\n",
      "40/40 [==============================] - 7s 172ms/step - loss: 0.7038 - accuracy: 0.8316 - auc: 0.9289 - val_loss: 0.3976 - val_accuracy: 0.8685 - val_auc: 0.9276 - lr: 7.0614e-05\n",
      "Epoch 73/100\n",
      "40/40 [==============================] - 7s 171ms/step - loss: 0.6846 - accuracy: 0.8293 - auc: 0.9303 - val_loss: 0.3927 - val_accuracy: 0.8669 - val_auc: 0.9289 - lr: 6.3625e-05\n",
      "Epoch 74/100\n",
      "40/40 [==============================] - 7s 171ms/step - loss: 0.6837 - accuracy: 0.8520 - auc: 0.9372 - val_loss: 0.4113 - val_accuracy: 0.8494 - val_auc: 0.9209 - lr: 5.7401e-05\n",
      "Epoch 75/100\n",
      "40/40 [==============================] - 7s 173ms/step - loss: 0.6710 - accuracy: 0.8449 - auc: 0.9336 - val_loss: 0.4052 - val_accuracy: 0.8590 - val_auc: 0.9232 - lr: 5.1867e-05\n",
      "Epoch 76/100\n",
      "40/40 [==============================] - 7s 172ms/step - loss: 0.7083 - accuracy: 0.8301 - auc: 0.9327 - val_loss: 0.4033 - val_accuracy: 0.8669 - val_auc: 0.9247 - lr: 4.6954e-05\n",
      "Epoch 77/100\n",
      "40/40 [==============================] - 7s 172ms/step - loss: 0.6909 - accuracy: 0.8434 - auc: 0.9357 - val_loss: 0.3880 - val_accuracy: 0.8748 - val_auc: 0.9294 - lr: 4.2597e-05\n",
      "Epoch 78/100\n",
      "40/40 [==============================] - 7s 172ms/step - loss: 0.6654 - accuracy: 0.8559 - auc: 0.9353 - val_loss: 0.3912 - val_accuracy: 0.8669 - val_auc: 0.9287 - lr: 3.8739e-05\n",
      "Epoch 79/100\n",
      "40/40 [==============================] - 7s 171ms/step - loss: 0.7128 - accuracy: 0.8375 - auc: 0.9293 - val_loss: 0.3885 - val_accuracy: 0.8700 - val_auc: 0.9295 - lr: 3.5325e-05\n",
      "Epoch 80/100\n",
      "40/40 [==============================] - 7s 173ms/step - loss: 0.6855 - accuracy: 0.8363 - auc: 0.9351 - val_loss: 0.3877 - val_accuracy: 0.8764 - val_auc: 0.9304 - lr: 3.2307e-05\n",
      "Epoch 81/100\n",
      "40/40 [==============================] - 7s 171ms/step - loss: 0.7050 - accuracy: 0.8305 - auc: 0.9343 - val_loss: 0.4017 - val_accuracy: 0.8605 - val_auc: 0.9255 - lr: 2.9642e-05\n",
      "Epoch 82/100\n",
      "40/40 [==============================] - 7s 173ms/step - loss: 0.6963 - accuracy: 0.8434 - auc: 0.9329 - val_loss: 0.3926 - val_accuracy: 0.8716 - val_auc: 0.9297 - lr: 2.7289e-05\n",
      "Epoch 83/100\n",
      "40/40 [==============================] - 7s 171ms/step - loss: 0.6970 - accuracy: 0.8348 - auc: 0.9306 - val_loss: 0.3755 - val_accuracy: 0.8827 - val_auc: 0.9330 - lr: 2.5214e-05\n",
      "Epoch 84/100\n",
      "40/40 [==============================] - 7s 170ms/step - loss: 0.6803 - accuracy: 0.8379 - auc: 0.9416 - val_loss: 0.3835 - val_accuracy: 0.8764 - val_auc: 0.9297 - lr: 2.3384e-05\n",
      "Epoch 85/100\n"
     ]
    },
    {
     "name": "stdout",
     "output_type": "stream",
     "text": [
      "40/40 [==============================] - 7s 171ms/step - loss: 0.6774 - accuracy: 0.8465 - auc: 0.9385 - val_loss: 0.3787 - val_accuracy: 0.8811 - val_auc: 0.9314 - lr: 2.1772e-05\n",
      "Epoch 86/100\n",
      "40/40 [==============================] - 7s 171ms/step - loss: 0.6826 - accuracy: 0.8422 - auc: 0.9320 - val_loss: 0.3814 - val_accuracy: 0.8796 - val_auc: 0.9309 - lr: 2.0352e-05\n",
      "Epoch 87/100\n",
      "40/40 [==============================] - 7s 171ms/step - loss: 0.6690 - accuracy: 0.8488 - auc: 0.9390 - val_loss: 0.3889 - val_accuracy: 0.8748 - val_auc: 0.9290 - lr: 1.9102e-05\n",
      "Epoch 88/100\n",
      "40/40 [==============================] - 7s 170ms/step - loss: 0.7020 - accuracy: 0.8367 - auc: 0.9311 - val_loss: 0.3903 - val_accuracy: 0.8748 - val_auc: 0.9288 - lr: 1.8001e-05\n",
      "Epoch 89/100\n",
      "40/40 [==============================] - 7s 175ms/step - loss: 0.6993 - accuracy: 0.8316 - auc: 0.9342 - val_loss: 0.3856 - val_accuracy: 0.8780 - val_auc: 0.9298 - lr: 1.7033e-05\n",
      "Epoch 90/100\n",
      "40/40 [==============================] - 7s 175ms/step - loss: 0.6692 - accuracy: 0.8391 - auc: 0.9376 - val_loss: 0.3729 - val_accuracy: 0.8859 - val_auc: 0.9320 - lr: 1.6181e-05\n",
      "Epoch 91/100\n",
      "40/40 [==============================] - 7s 171ms/step - loss: 0.6636 - accuracy: 0.8516 - auc: 0.9355 - val_loss: 0.3818 - val_accuracy: 0.8827 - val_auc: 0.9305 - lr: 1.5431e-05\n",
      "Epoch 92/100\n",
      "40/40 [==============================] - 7s 172ms/step - loss: 0.7030 - accuracy: 0.8277 - auc: 0.9356 - val_loss: 0.3875 - val_accuracy: 0.8780 - val_auc: 0.9295 - lr: 1.4773e-05\n",
      "Epoch 93/100\n",
      "40/40 [==============================] - 7s 172ms/step - loss: 0.7047 - accuracy: 0.8285 - auc: 0.9356 - val_loss: 0.3923 - val_accuracy: 0.8716 - val_auc: 0.9284 - lr: 1.4193e-05\n",
      "Epoch 94/100\n",
      "40/40 [==============================] - 7s 170ms/step - loss: 0.6775 - accuracy: 0.8469 - auc: 0.9296 - val_loss: 0.3831 - val_accuracy: 0.8843 - val_auc: 0.9308 - lr: 1.3684e-05\n",
      "Epoch 95/100\n",
      "40/40 [==============================] - 7s 171ms/step - loss: 0.6825 - accuracy: 0.8570 - auc: 0.9340 - val_loss: 0.3820 - val_accuracy: 0.8843 - val_auc: 0.9314 - lr: 1.3236e-05\n",
      "Epoch 96/100\n",
      "40/40 [==============================] - 7s 170ms/step - loss: 0.7119 - accuracy: 0.8391 - auc: 0.9350 - val_loss: 0.3864 - val_accuracy: 0.8748 - val_auc: 0.9301 - lr: 1.2843e-05\n",
      "Epoch 97/100\n",
      "40/40 [==============================] - 7s 173ms/step - loss: 0.6963 - accuracy: 0.8352 - auc: 0.9279 - val_loss: 0.3956 - val_accuracy: 0.8700 - val_auc: 0.9271 - lr: 1.2497e-05\n",
      "Epoch 98/100\n",
      "40/40 [==============================] - 7s 170ms/step - loss: 0.6901 - accuracy: 0.8340 - auc: 0.9315 - val_loss: 0.3882 - val_accuracy: 0.8748 - val_auc: 0.9295 - lr: 1.2193e-05\n",
      "Epoch 99/100\n",
      "40/40 [==============================] - 7s 171ms/step - loss: 0.6740 - accuracy: 0.8457 - auc: 0.9432 - val_loss: 0.3836 - val_accuracy: 0.8811 - val_auc: 0.9308 - lr: 1.1927e-05\n",
      "Epoch 100/100\n",
      "40/40 [==============================] - 7s 170ms/step - loss: 0.6986 - accuracy: 0.8395 - auc: 0.9317 - val_loss: 0.3902 - val_accuracy: 0.8716 - val_auc: 0.9292 - lr: 1.1692e-05\n"
     ]
    }
   ],
   "source": [
    "n_epoch = 100\n",
    "lr = LearningRateScheduler(lambda e: sigmoidal_decay(e, end=n_epoch))\n",
    "batch_size = 64\n",
    "\n",
    "if mixup :\n",
    "    beta_param = .7\n",
    "else :\n",
    "    beta_param = 0\n",
    "    \n",
    "\n",
    "\n",
    "params = {'batch_size': batch_size,\n",
    "          #          'input_shape': (100, 313, 1),\n",
    "          'shuffle': True,\n",
    "          'chaug': chaug,\n",
    "          'beta_param': beta_param,\n",
    "          'cout': cout\n",
    "#              'mixup': mixup,\n",
    "          #          'lowpass': [.5, [11,12,13,14,15,16,17,18]]\n",
    "          #          'highpass': [.5, [78,79,80,81,82,83,84,85]]\n",
    "#              'ranfilter2' : [3, [18,19,20,21,22,23]]\n",
    "          #           'dropblock' : [30, 100]\n",
    "          #'device' : device\n",
    "}\n",
    "\n",
    "if mixup :\n",
    "    params['mixup'] = mixup\n",
    "    params['ranfilter2'] = ranfil\n",
    "else :\n",
    "    params['cutout'] = cout\n",
    "\n",
    "params_no_shuffle = {'batch_size': batch_size,\n",
    "                     #          'input_shape': (100, 313, 1),\n",
    "                     'shuffle': False,\n",
    "                     'beta_param': 0.7,\n",
    "                     'mixup': False\n",
    "                     #'device': device\n",
    "}\n",
    "\n",
    "\n",
    "\n",
    "if ord1 :\n",
    "    class_weight = {0: mm_weight, 1: 1.}\n",
    "else :\n",
    "    class_weight = {0: mm_weight, 1: wunknown, 2:1.}\n",
    "    \n",
    "    \n",
    "\n",
    "if mixup :\n",
    "    \n",
    "    \n",
    "    TrainDGen_1 = Generator0([features_trn['age'],features_trn['sex'], features_trn['hw'], \n",
    "                              features_trn['preg'], features_trn['loc'],features_trn['raw1'],\n",
    "                              features_trn['interval'],features_trn['wav2'],\n",
    "                              features_trn['mel1'],\n",
    "                              features_trn['cqt1'],\n",
    "                              features_trn['stft1']],features_trn['mm_labels'],**params)()\n",
    "    \n",
    "    model1.fit(TrainDGen_1,\n",
    "               validation_data = ([features_test['age'],features_test['sex'], features_test['hw'],                                   \n",
    "                                   features_test['preg'], features_test['loc'],features_test['raw1'],\n",
    "                                   features_test['interval'],features_test['wav2'],\n",
    "                                   features_test['mel1'],\n",
    "                                   features_test['cqt1'],\n",
    "                                   features_test['stft1']],features_test['mm_labels']),\n",
    "               \n",
    "               callbacks=[lr,model1_callback],\n",
    "               steps_per_epoch=np.ceil(len(features_trn['mm_labels'])/batch_size),\n",
    "               class_weight=class_weight, \n",
    "               epochs = n_epoch)\n",
    "    \n",
    "    \n",
    " \n"
   ]
  },
  {
   "cell_type": "code",
   "execution_count": null,
   "id": "e84f3f23",
   "metadata": {},
   "outputs": [],
   "source": []
  },
  {
   "cell_type": "code",
   "execution_count": 37,
   "id": "90bdd466",
   "metadata": {
    "scrolled": true
   },
   "outputs": [
    {
     "name": "stdout",
     "output_type": "stream",
     "text": [
      "Epoch 1/100\n",
      "40/40 [==============================] - 18s 268ms/step - loss: 8.0289 - accuracy: 0.4863 - auc: 0.4887 - val_loss: 10.4795 - val_accuracy: 0.5008 - val_auc: 0.5008 - lr: 9.9851e-04\n",
      "Epoch 2/100\n",
      "40/40 [==============================] - 5s 134ms/step - loss: 1.3396 - accuracy: 0.4867 - auc: 0.4940 - val_loss: 2.2235 - val_accuracy: 0.5024 - val_auc: 0.5723 - lr: 9.9831e-04\n",
      "Epoch 3/100\n",
      "40/40 [==============================] - 6s 161ms/step - loss: 1.2773 - accuracy: 0.4949 - auc: 0.5134 - val_loss: 1.4067 - val_accuracy: 0.5230 - val_auc: 0.5850 - lr: 9.9807e-04\n",
      "Epoch 4/100\n",
      "40/40 [==============================] - 7s 176ms/step - loss: 1.2645 - accuracy: 0.4914 - auc: 0.5243 - val_loss: 0.6720 - val_accuracy: 0.5578 - val_auc: 0.6164 - lr: 9.9781e-04\n",
      "Epoch 5/100\n",
      "40/40 [==============================] - 7s 167ms/step - loss: 1.2721 - accuracy: 0.4875 - auc: 0.5020 - val_loss: 0.6952 - val_accuracy: 0.5436 - val_auc: 0.5889 - lr: 9.9750e-04\n",
      "Epoch 6/100\n",
      "40/40 [==============================] - 7s 176ms/step - loss: 1.2432 - accuracy: 0.4840 - auc: 0.5245 - val_loss: 0.8406 - val_accuracy: 0.4960 - val_auc: 0.5705 - lr: 9.9716e-04\n",
      "Epoch 7/100\n",
      "40/40 [==============================] - 7s 174ms/step - loss: 1.2350 - accuracy: 0.4871 - auc: 0.5201 - val_loss: 0.7405 - val_accuracy: 0.4976 - val_auc: 0.5894 - lr: 9.9676e-04\n",
      "Epoch 8/100\n",
      "40/40 [==============================] - 7s 175ms/step - loss: 1.2212 - accuracy: 0.4859 - auc: 0.5450 - val_loss: 0.6746 - val_accuracy: 0.5309 - val_auc: 0.5949 - lr: 9.9632e-04\n",
      "Epoch 9/100\n",
      "40/40 [==============================] - 7s 174ms/step - loss: 1.1993 - accuracy: 0.4938 - auc: 0.5539 - val_loss: 0.6902 - val_accuracy: 0.5103 - val_auc: 0.5687 - lr: 9.9581e-04\n",
      "Epoch 10/100\n",
      "40/40 [==============================] - 7s 173ms/step - loss: 1.2044 - accuracy: 0.5027 - auc: 0.5436 - val_loss: 0.7320 - val_accuracy: 0.5103 - val_auc: 0.5884 - lr: 9.9523e-04\n",
      "Epoch 11/100\n",
      "40/40 [==============================] - 7s 174ms/step - loss: 1.2395 - accuracy: 0.5117 - auc: 0.5395 - val_loss: 0.6824 - val_accuracy: 0.5071 - val_auc: 0.5955 - lr: 9.9457e-04\n",
      "Epoch 12/100\n",
      "40/40 [==============================] - 7s 173ms/step - loss: 1.2090 - accuracy: 0.4883 - auc: 0.5557 - val_loss: 0.8045 - val_accuracy: 0.5008 - val_auc: 0.6047 - lr: 9.9382e-04\n",
      "Epoch 13/100\n",
      "40/40 [==============================] - 7s 176ms/step - loss: 1.2359 - accuracy: 0.5039 - auc: 0.5446 - val_loss: 0.8179 - val_accuracy: 0.4992 - val_auc: 0.6102 - lr: 9.9297e-04\n",
      "Epoch 14/100\n",
      "40/40 [==============================] - 7s 175ms/step - loss: 1.2226 - accuracy: 0.5145 - auc: 0.5450 - val_loss: 0.7102 - val_accuracy: 0.5166 - val_auc: 0.6043 - lr: 9.9200e-04\n",
      "Epoch 15/100\n",
      "40/40 [==============================] - 7s 174ms/step - loss: 1.1921 - accuracy: 0.4953 - auc: 0.5591 - val_loss: 0.6978 - val_accuracy: 0.5151 - val_auc: 0.5893 - lr: 9.9090e-04\n",
      "Epoch 16/100\n",
      "40/40 [==============================] - 7s 173ms/step - loss: 1.2286 - accuracy: 0.5152 - auc: 0.5470 - val_loss: 0.7198 - val_accuracy: 0.5119 - val_auc: 0.6149 - lr: 9.8965e-04\n",
      "Epoch 17/100\n",
      "40/40 [==============================] - 7s 174ms/step - loss: 1.2182 - accuracy: 0.4984 - auc: 0.5479 - val_loss: 0.7845 - val_accuracy: 0.5008 - val_auc: 0.5886 - lr: 9.8823e-04\n",
      "Epoch 18/100\n",
      "40/40 [==============================] - 7s 173ms/step - loss: 1.2043 - accuracy: 0.4844 - auc: 0.5509 - val_loss: 0.7450 - val_accuracy: 0.4976 - val_auc: 0.5982 - lr: 9.8662e-04\n",
      "Epoch 19/100\n",
      "40/40 [==============================] - 7s 175ms/step - loss: 1.2095 - accuracy: 0.5000 - auc: 0.5473 - val_loss: 0.7691 - val_accuracy: 0.4992 - val_auc: 0.5728 - lr: 9.8479e-04\n",
      "Epoch 20/100\n",
      "40/40 [==============================] - 7s 172ms/step - loss: 1.2103 - accuracy: 0.5105 - auc: 0.5634 - val_loss: 0.8402 - val_accuracy: 0.4976 - val_auc: 0.5895 - lr: 9.8271e-04\n",
      "Epoch 21/100\n",
      "40/40 [==============================] - 7s 172ms/step - loss: 1.1960 - accuracy: 0.4852 - auc: 0.5610 - val_loss: 0.7296 - val_accuracy: 0.5135 - val_auc: 0.5875 - lr: 9.8036e-04\n",
      "Epoch 22/100\n",
      "40/40 [==============================] - 7s 182ms/step - loss: 1.1979 - accuracy: 0.4977 - auc: 0.5591 - val_loss: 0.6527 - val_accuracy: 0.6228 - val_auc: 0.6707 - lr: 9.7769e-04\n",
      "Epoch 23/100\n",
      "40/40 [==============================] - 7s 169ms/step - loss: 1.2110 - accuracy: 0.4980 - auc: 0.5578 - val_loss: 0.6811 - val_accuracy: 0.5341 - val_auc: 0.5720 - lr: 9.7468e-04\n",
      "Epoch 24/100\n",
      "40/40 [==============================] - 7s 174ms/step - loss: 1.2046 - accuracy: 0.5023 - auc: 0.5500 - val_loss: 0.7895 - val_accuracy: 0.4945 - val_auc: 0.5674 - lr: 9.7126e-04\n",
      "Epoch 25/100\n",
      "40/40 [==============================] - 7s 171ms/step - loss: 1.1888 - accuracy: 0.5004 - auc: 0.5598 - val_loss: 0.6684 - val_accuracy: 0.5626 - val_auc: 0.6054 - lr: 9.6740e-04\n",
      "Epoch 26/100\n",
      "40/40 [==============================] - 7s 172ms/step - loss: 1.2134 - accuracy: 0.5063 - auc: 0.5599 - val_loss: 0.7570 - val_accuracy: 0.5008 - val_auc: 0.5668 - lr: 9.6305e-04\n",
      "Epoch 27/100\n",
      "40/40 [==============================] - 7s 173ms/step - loss: 1.1827 - accuracy: 0.5082 - auc: 0.5759 - val_loss: 0.7933 - val_accuracy: 0.4960 - val_auc: 0.5656 - lr: 9.5813e-04\n",
      "Epoch 28/100\n",
      "40/40 [==============================] - 7s 173ms/step - loss: 1.2007 - accuracy: 0.4984 - auc: 0.5658 - val_loss: 0.7564 - val_accuracy: 0.5087 - val_auc: 0.5801 - lr: 9.5260e-04\n",
      "Epoch 29/100\n",
      "40/40 [==============================] - 7s 174ms/step - loss: 1.1777 - accuracy: 0.5047 - auc: 0.5783 - val_loss: 0.6624 - val_accuracy: 0.5753 - val_auc: 0.6210 - lr: 9.4637e-04\n",
      "Epoch 30/100\n",
      "40/40 [==============================] - 7s 171ms/step - loss: 1.1978 - accuracy: 0.5063 - auc: 0.5756 - val_loss: 0.6590 - val_accuracy: 0.5563 - val_auc: 0.6181 - lr: 9.3939e-04\n",
      "Epoch 31/100\n",
      "40/40 [==============================] - 7s 171ms/step - loss: 1.1636 - accuracy: 0.5121 - auc: 0.5900 - val_loss: 0.7364 - val_accuracy: 0.5071 - val_auc: 0.5472 - lr: 9.3155e-04\n",
      "Epoch 32/100\n",
      "40/40 [==============================] - 7s 172ms/step - loss: 1.1955 - accuracy: 0.5031 - auc: 0.5745 - val_loss: 0.7525 - val_accuracy: 0.5071 - val_auc: 0.5860 - lr: 9.2279e-04\n",
      "Epoch 33/100\n",
      "40/40 [==============================] - 7s 173ms/step - loss: 1.1803 - accuracy: 0.5141 - auc: 0.5716 - val_loss: 0.7767 - val_accuracy: 0.5071 - val_auc: 0.5785 - lr: 9.1301e-04\n",
      "Epoch 34/100\n",
      "40/40 [==============================] - 7s 171ms/step - loss: 1.1659 - accuracy: 0.5145 - auc: 0.5944 - val_loss: 0.7782 - val_accuracy: 0.5103 - val_auc: 0.5821 - lr: 9.0213e-04\n",
      "Epoch 35/100\n",
      "40/40 [==============================] - 7s 176ms/step - loss: 1.1821 - accuracy: 0.5023 - auc: 0.5885 - val_loss: 0.8223 - val_accuracy: 0.4960 - val_auc: 0.5360 - lr: 8.9005e-04\n",
      "Epoch 36/100\n",
      "40/40 [==============================] - 7s 175ms/step - loss: 1.1824 - accuracy: 0.5141 - auc: 0.5825 - val_loss: 0.7546 - val_accuracy: 0.5119 - val_auc: 0.5828 - lr: 8.7669e-04\n",
      "Epoch 37/100\n",
      "40/40 [==============================] - 7s 175ms/step - loss: 1.1711 - accuracy: 0.5195 - auc: 0.5955 - val_loss: 0.9735 - val_accuracy: 0.5578 - val_auc: 0.6101 - lr: 8.6196e-04\n",
      "Epoch 38/100\n",
      "40/40 [==============================] - 7s 175ms/step - loss: 1.1746 - accuracy: 0.5203 - auc: 0.5961 - val_loss: 0.7599 - val_accuracy: 0.5119 - val_auc: 0.5694 - lr: 8.4578e-04\n",
      "Epoch 39/100\n",
      "40/40 [==============================] - 7s 176ms/step - loss: 1.1467 - accuracy: 0.5309 - auc: 0.6191 - val_loss: 0.7838 - val_accuracy: 0.5119 - val_auc: 0.5830 - lr: 8.2809e-04\n",
      "Epoch 40/100\n",
      "40/40 [==============================] - 7s 172ms/step - loss: 1.1563 - accuracy: 0.5145 - auc: 0.5983 - val_loss: 0.6777 - val_accuracy: 0.5737 - val_auc: 0.6199 - lr: 8.0883e-04\n",
      "Epoch 41/100\n",
      "40/40 [==============================] - 7s 173ms/step - loss: 1.1610 - accuracy: 0.5410 - auc: 0.6105 - val_loss: 0.6917 - val_accuracy: 0.5531 - val_auc: 0.6114 - lr: 7.8798e-04\n",
      "Epoch 42/100\n",
      "40/40 [==============================] - 7s 172ms/step - loss: 1.1541 - accuracy: 0.5430 - auc: 0.6184 - val_loss: 0.6923 - val_accuracy: 0.5626 - val_auc: 0.6085 - lr: 7.6551e-04\n",
      "Epoch 43/100\n"
     ]
    },
    {
     "name": "stdout",
     "output_type": "stream",
     "text": [
      "40/40 [==============================] - 7s 173ms/step - loss: 1.1532 - accuracy: 0.5543 - auc: 0.6304 - val_loss: 0.7437 - val_accuracy: 0.5293 - val_auc: 0.5772 - lr: 7.4146e-04\n",
      "Epoch 44/100\n",
      "40/40 [==============================] - 7s 173ms/step - loss: 1.1504 - accuracy: 0.5398 - auc: 0.6242 - val_loss: 0.7083 - val_accuracy: 0.5721 - val_auc: 0.6206 - lr: 7.1587e-04\n",
      "Epoch 45/100\n",
      "40/40 [==============================] - 7s 172ms/step - loss: 1.1395 - accuracy: 0.5371 - auc: 0.6302 - val_loss: 0.7641 - val_accuracy: 0.5119 - val_auc: 0.5666 - lr: 6.8882e-04\n",
      "Epoch 46/100\n",
      "40/40 [==============================] - 7s 173ms/step - loss: 1.1486 - accuracy: 0.5484 - auc: 0.6392 - val_loss: 0.7948 - val_accuracy: 0.5293 - val_auc: 0.5761 - lr: 6.6044e-04\n",
      "Epoch 47/100\n",
      "40/40 [==============================] - 7s 174ms/step - loss: 1.1609 - accuracy: 0.5504 - auc: 0.6329 - val_loss: 0.6885 - val_accuracy: 0.5515 - val_auc: 0.6039 - lr: 6.3088e-04\n",
      "Epoch 48/100\n",
      "40/40 [==============================] - 7s 173ms/step - loss: 1.1149 - accuracy: 0.5504 - auc: 0.6457 - val_loss: 0.7089 - val_accuracy: 0.5452 - val_auc: 0.5791 - lr: 6.0032e-04\n",
      "Epoch 49/100\n",
      "40/40 [==============================] - 7s 172ms/step - loss: 1.1470 - accuracy: 0.5688 - auc: 0.6556 - val_loss: 0.7476 - val_accuracy: 0.5515 - val_auc: 0.5982 - lr: 5.6899e-04\n",
      "Epoch 50/100\n",
      "40/40 [==============================] - 7s 173ms/step - loss: 1.1118 - accuracy: 0.5777 - auc: 0.6703 - val_loss: 0.6808 - val_accuracy: 0.5800 - val_auc: 0.6286 - lr: 5.3713e-04\n",
      "Epoch 51/100\n",
      "40/40 [==============================] - 7s 173ms/step - loss: 1.1049 - accuracy: 0.5941 - auc: 0.6845 - val_loss: 0.7309 - val_accuracy: 0.5531 - val_auc: 0.5758 - lr: 5.0500e-04\n",
      "Epoch 52/100\n",
      "40/40 [==============================] - 7s 173ms/step - loss: 1.1242 - accuracy: 0.5711 - auc: 0.6703 - val_loss: 0.7027 - val_accuracy: 0.5705 - val_auc: 0.5956 - lr: 4.7287e-04\n",
      "Epoch 53/100\n",
      "40/40 [==============================] - 7s 172ms/step - loss: 1.0993 - accuracy: 0.6023 - auc: 0.7039 - val_loss: 0.7386 - val_accuracy: 0.5626 - val_auc: 0.5871 - lr: 4.4101e-04\n",
      "Epoch 54/100\n",
      "40/40 [==============================] - 7s 173ms/step - loss: 1.1014 - accuracy: 0.5992 - auc: 0.7043 - val_loss: 0.7024 - val_accuracy: 0.5816 - val_auc: 0.6065 - lr: 4.0968e-04\n",
      "Epoch 55/100\n",
      "40/40 [==============================] - 7s 176ms/step - loss: 1.1006 - accuracy: 0.5949 - auc: 0.7009 - val_loss: 0.7197 - val_accuracy: 0.5721 - val_auc: 0.6026 - lr: 3.7912e-04\n",
      "Epoch 56/100\n",
      "40/40 [==============================] - 7s 173ms/step - loss: 1.0856 - accuracy: 0.5992 - auc: 0.7162 - val_loss: 0.7903 - val_accuracy: 0.5182 - val_auc: 0.5582 - lr: 3.4956e-04\n",
      "Epoch 57/100\n",
      "40/40 [==============================] - 7s 174ms/step - loss: 1.0755 - accuracy: 0.6055 - auc: 0.7183 - val_loss: 0.7619 - val_accuracy: 0.5483 - val_auc: 0.5957 - lr: 3.2118e-04\n",
      "Epoch 58/100\n",
      "40/40 [==============================] - 7s 175ms/step - loss: 1.0793 - accuracy: 0.6137 - auc: 0.7303 - val_loss: 0.6943 - val_accuracy: 0.5674 - val_auc: 0.6178 - lr: 2.9413e-04\n",
      "Epoch 59/100\n",
      "40/40 [==============================] - 7s 174ms/step - loss: 1.0879 - accuracy: 0.6121 - auc: 0.7319 - val_loss: 0.7842 - val_accuracy: 0.5499 - val_auc: 0.5815 - lr: 2.6854e-04\n",
      "Epoch 60/100\n",
      "40/40 [==============================] - 7s 172ms/step - loss: 1.0784 - accuracy: 0.6285 - auc: 0.7280 - val_loss: 0.7047 - val_accuracy: 0.5975 - val_auc: 0.6244 - lr: 2.4449e-04\n",
      "Epoch 61/100\n",
      "40/40 [==============================] - 7s 175ms/step - loss: 1.0769 - accuracy: 0.6266 - auc: 0.7406 - val_loss: 0.7966 - val_accuracy: 0.5325 - val_auc: 0.5492 - lr: 2.2202e-04\n",
      "Epoch 62/100\n",
      "40/40 [==============================] - 7s 173ms/step - loss: 1.0682 - accuracy: 0.6254 - auc: 0.7389 - val_loss: 0.7288 - val_accuracy: 0.5705 - val_auc: 0.5920 - lr: 2.0117e-04\n",
      "Epoch 63/100\n",
      "40/40 [==============================] - 7s 175ms/step - loss: 1.0559 - accuracy: 0.6398 - auc: 0.7648 - val_loss: 0.7089 - val_accuracy: 0.5880 - val_auc: 0.6202 - lr: 1.8191e-04\n",
      "Epoch 64/100\n",
      "40/40 [==============================] - 7s 176ms/step - loss: 1.0808 - accuracy: 0.6270 - auc: 0.7511 - val_loss: 0.7732 - val_accuracy: 0.5468 - val_auc: 0.5942 - lr: 1.6422e-04\n",
      "Epoch 65/100\n",
      "40/40 [==============================] - 7s 173ms/step - loss: 1.0585 - accuracy: 0.6316 - auc: 0.7482 - val_loss: 0.7658 - val_accuracy: 0.5642 - val_auc: 0.5900 - lr: 1.4804e-04\n",
      "Epoch 66/100\n",
      "40/40 [==============================] - 7s 173ms/step - loss: 1.0547 - accuracy: 0.6375 - auc: 0.7673 - val_loss: 0.7492 - val_accuracy: 0.5721 - val_auc: 0.5925 - lr: 1.3331e-04\n",
      "Epoch 67/100\n",
      "40/40 [==============================] - 7s 171ms/step - loss: 1.0536 - accuracy: 0.6297 - auc: 0.7713 - val_loss: 0.7375 - val_accuracy: 0.5753 - val_auc: 0.5952 - lr: 1.1995e-04\n",
      "Epoch 68/100\n",
      "40/40 [==============================] - 7s 173ms/step - loss: 1.0790 - accuracy: 0.6363 - auc: 0.7666 - val_loss: 0.7241 - val_accuracy: 0.5721 - val_auc: 0.5943 - lr: 1.0787e-04\n",
      "Epoch 69/100\n",
      "40/40 [==============================] - 7s 173ms/step - loss: 1.0483 - accuracy: 0.6562 - auc: 0.7751 - val_loss: 0.7677 - val_accuracy: 0.5578 - val_auc: 0.5842 - lr: 9.6985e-05\n",
      "Epoch 70/100\n",
      "40/40 [==============================] - 7s 174ms/step - loss: 1.0503 - accuracy: 0.6395 - auc: 0.7721 - val_loss: 0.7081 - val_accuracy: 0.5927 - val_auc: 0.6144 - lr: 8.7208e-05\n",
      "Epoch 71/100\n",
      "40/40 [==============================] - 7s 173ms/step - loss: 1.0492 - accuracy: 0.6398 - auc: 0.7631 - val_loss: 0.7890 - val_accuracy: 0.5531 - val_auc: 0.5763 - lr: 7.8447e-05\n",
      "Epoch 72/100\n",
      "40/40 [==============================] - 7s 172ms/step - loss: 1.0633 - accuracy: 0.6473 - auc: 0.7740 - val_loss: 0.7188 - val_accuracy: 0.5832 - val_auc: 0.6044 - lr: 7.0614e-05\n",
      "Epoch 73/100\n",
      "40/40 [==============================] - 7s 173ms/step - loss: 1.0555 - accuracy: 0.6535 - auc: 0.7789 - val_loss: 0.7532 - val_accuracy: 0.5578 - val_auc: 0.5938 - lr: 6.3625e-05\n",
      "Epoch 74/100\n",
      "40/40 [==============================] - 7s 174ms/step - loss: 1.0757 - accuracy: 0.6488 - auc: 0.7692 - val_loss: 0.7479 - val_accuracy: 0.5578 - val_auc: 0.5911 - lr: 5.7401e-05\n",
      "Epoch 75/100\n",
      "40/40 [==============================] - 7s 173ms/step - loss: 1.0267 - accuracy: 0.6516 - auc: 0.7780 - val_loss: 0.7168 - val_accuracy: 0.5753 - val_auc: 0.6122 - lr: 5.1867e-05\n",
      "Epoch 76/100\n",
      "40/40 [==============================] - 7s 174ms/step - loss: 1.0249 - accuracy: 0.6625 - auc: 0.7825 - val_loss: 0.7420 - val_accuracy: 0.5578 - val_auc: 0.5919 - lr: 4.6954e-05\n",
      "Epoch 77/100\n",
      "40/40 [==============================] - 7s 175ms/step - loss: 1.0647 - accuracy: 0.6449 - auc: 0.7656 - val_loss: 0.7261 - val_accuracy: 0.5642 - val_auc: 0.6001 - lr: 4.2597e-05\n",
      "Epoch 78/100\n",
      "40/40 [==============================] - 7s 173ms/step - loss: 1.0708 - accuracy: 0.6313 - auc: 0.7575 - val_loss: 0.7230 - val_accuracy: 0.5769 - val_auc: 0.6099 - lr: 3.8739e-05\n",
      "Epoch 79/100\n",
      "40/40 [==============================] - 7s 175ms/step - loss: 1.0468 - accuracy: 0.6492 - auc: 0.7819 - val_loss: 0.7559 - val_accuracy: 0.5547 - val_auc: 0.5878 - lr: 3.5325e-05\n",
      "Epoch 80/100\n",
      "40/40 [==============================] - 7s 174ms/step - loss: 1.0418 - accuracy: 0.6734 - auc: 0.7849 - val_loss: 0.7766 - val_accuracy: 0.5483 - val_auc: 0.5799 - lr: 3.2307e-05\n",
      "Epoch 81/100\n",
      "40/40 [==============================] - 7s 172ms/step - loss: 1.0504 - accuracy: 0.6426 - auc: 0.7750 - val_loss: 0.8115 - val_accuracy: 0.5293 - val_auc: 0.5639 - lr: 2.9642e-05\n",
      "Epoch 82/100\n",
      "40/40 [==============================] - 7s 173ms/step - loss: 1.0571 - accuracy: 0.6488 - auc: 0.7869 - val_loss: 0.7661 - val_accuracy: 0.5515 - val_auc: 0.5828 - lr: 2.7289e-05\n",
      "Epoch 83/100\n",
      "40/40 [==============================] - 7s 172ms/step - loss: 1.0149 - accuracy: 0.6652 - auc: 0.7877 - val_loss: 0.7376 - val_accuracy: 0.5721 - val_auc: 0.5993 - lr: 2.5214e-05\n",
      "Epoch 84/100\n",
      "40/40 [==============================] - 7s 173ms/step - loss: 1.0405 - accuracy: 0.6641 - auc: 0.7847 - val_loss: 0.7463 - val_accuracy: 0.5674 - val_auc: 0.5956 - lr: 2.3384e-05\n",
      "Epoch 85/100\n"
     ]
    },
    {
     "name": "stdout",
     "output_type": "stream",
     "text": [
      "40/40 [==============================] - 7s 173ms/step - loss: 1.0343 - accuracy: 0.6422 - auc: 0.7797 - val_loss: 0.7672 - val_accuracy: 0.5499 - val_auc: 0.5864 - lr: 2.1772e-05\n",
      "Epoch 86/100\n",
      "40/40 [==============================] - 7s 173ms/step - loss: 1.0358 - accuracy: 0.6602 - auc: 0.7888 - val_loss: 0.7839 - val_accuracy: 0.5452 - val_auc: 0.5749 - lr: 2.0352e-05\n",
      "Epoch 87/100\n",
      "40/40 [==============================] - 7s 175ms/step - loss: 1.0298 - accuracy: 0.6594 - auc: 0.7742 - val_loss: 0.7551 - val_accuracy: 0.5594 - val_auc: 0.5855 - lr: 1.9102e-05\n",
      "Epoch 88/100\n",
      "40/40 [==============================] - 7s 172ms/step - loss: 1.0211 - accuracy: 0.6594 - auc: 0.7946 - val_loss: 0.7501 - val_accuracy: 0.5626 - val_auc: 0.5917 - lr: 1.8001e-05\n",
      "Epoch 89/100\n",
      "40/40 [==============================] - 7s 173ms/step - loss: 1.0490 - accuracy: 0.6496 - auc: 0.7835 - val_loss: 0.7530 - val_accuracy: 0.5610 - val_auc: 0.5891 - lr: 1.7033e-05\n",
      "Epoch 90/100\n",
      "40/40 [==============================] - 7s 172ms/step - loss: 1.0465 - accuracy: 0.6621 - auc: 0.7950 - val_loss: 0.7926 - val_accuracy: 0.5436 - val_auc: 0.5689 - lr: 1.6181e-05\n",
      "Epoch 91/100\n",
      "40/40 [==============================] - 7s 173ms/step - loss: 1.0403 - accuracy: 0.6531 - auc: 0.7834 - val_loss: 0.7607 - val_accuracy: 0.5578 - val_auc: 0.5809 - lr: 1.5431e-05\n",
      "Epoch 92/100\n",
      "40/40 [==============================] - 7s 173ms/step - loss: 1.0366 - accuracy: 0.6477 - auc: 0.7906 - val_loss: 0.7690 - val_accuracy: 0.5499 - val_auc: 0.5800 - lr: 1.4773e-05\n",
      "Epoch 93/100\n",
      "40/40 [==============================] - 7s 174ms/step - loss: 1.0313 - accuracy: 0.6418 - auc: 0.7853 - val_loss: 0.7434 - val_accuracy: 0.5626 - val_auc: 0.5945 - lr: 1.4193e-05\n",
      "Epoch 94/100\n",
      "40/40 [==============================] - 7s 173ms/step - loss: 1.0385 - accuracy: 0.6496 - auc: 0.7851 - val_loss: 0.7418 - val_accuracy: 0.5642 - val_auc: 0.5950 - lr: 1.3684e-05\n",
      "Epoch 95/100\n",
      "40/40 [==============================] - 7s 173ms/step - loss: 1.0348 - accuracy: 0.6418 - auc: 0.7866 - val_loss: 0.7403 - val_accuracy: 0.5642 - val_auc: 0.5967 - lr: 1.3236e-05\n",
      "Epoch 96/100\n",
      "40/40 [==============================] - 7s 174ms/step - loss: 1.0375 - accuracy: 0.6613 - auc: 0.7919 - val_loss: 0.7494 - val_accuracy: 0.5626 - val_auc: 0.5922 - lr: 1.2843e-05\n",
      "Epoch 97/100\n",
      "40/40 [==============================] - 7s 174ms/step - loss: 1.0494 - accuracy: 0.6512 - auc: 0.7779 - val_loss: 0.7517 - val_accuracy: 0.5594 - val_auc: 0.5896 - lr: 1.2497e-05\n",
      "Epoch 98/100\n",
      "40/40 [==============================] - 7s 174ms/step - loss: 1.0562 - accuracy: 0.6441 - auc: 0.7852 - val_loss: 0.7605 - val_accuracy: 0.5578 - val_auc: 0.5860 - lr: 1.2193e-05\n",
      "Epoch 99/100\n",
      "40/40 [==============================] - 7s 175ms/step - loss: 1.0384 - accuracy: 0.6629 - auc: 0.7942 - val_loss: 0.7736 - val_accuracy: 0.5483 - val_auc: 0.5785 - lr: 1.1927e-05\n",
      "Epoch 100/100\n",
      "40/40 [==============================] - 7s 175ms/step - loss: 1.0547 - accuracy: 0.6402 - auc: 0.7810 - val_loss: 0.7734 - val_accuracy: 0.5452 - val_auc: 0.5789 - lr: 1.1692e-05\n"
     ]
    }
   ],
   "source": [
    "n_epoch = 100\n",
    "lr = LearningRateScheduler(lambda e: sigmoidal_decay(e, end=n_epoch))\n",
    "\n",
    "batch_size = 64\n",
    "\n",
    "if mixup :\n",
    "    beta_param = .7\n",
    "else :\n",
    "    beta_param = 0\n",
    "    \n",
    "params = {'batch_size': batch_size,\n",
    "          #          'input_shape': (100, 313, 1),\n",
    "          'shuffle': True,\n",
    "          'chaug': 0,\n",
    "          'beta_param': beta_param,\n",
    "          'cout': cout,\n",
    "#              'mixup': True,\n",
    "          #          'lowpass': [.5, [11,12,13,14,15,16,17,18]]\n",
    "#            'highpass': [.5, [78,79,80,81,82,83,84,85]],\n",
    "#              'ranfilter2' : [3, [18,19,20,21,22,23]]\n",
    "        #           'dropblock' : [30, 100]\n",
    "          #'device' : device\n",
    "}\n",
    "\n",
    "\n",
    "\n",
    "if mixup :\n",
    "    params['mixup'] = mixup\n",
    "    params['ranfilter2'] = ranfil\n",
    "else :\n",
    "    params['cutout'] = cout\n",
    "\n",
    "\n",
    "params_no_shuffle = {'batch_size': batch_size,\n",
    "                     #          'input_shape': (100, 313, 1),\n",
    "                     'shuffle': False,\n",
    "                     'beta_param': 0.7,\n",
    "                     'mixup': False\n",
    "                     #'device': device\n",
    "}\n",
    "\n",
    "\n",
    "\n",
    "\n",
    "if mixup :\n",
    "\n",
    "    \n",
    "    class_weight = {0: oo_weight, 1: 1.}\n",
    "    TrainDGen_1 = Generator0([features_trn['age'],features_trn['sex'], features_trn['hw'], \n",
    "                              features_trn['preg'], features_trn['loc'],features_trn['raw1'],features_trn['interval'],features_trn['wav2'],\n",
    "                              features_trn['mel1'],\n",
    "                              features_trn['cqt1'],\n",
    "                              features_trn['stft1']],features_trn['out_labels'],**params)()\n",
    "\n",
    "    model2.fit(TrainDGen_1,\n",
    "               validation_data = ([features_test['age'],features_test['sex'], features_test['hw'],                                   \n",
    "                                   features_test['preg'], features_test['loc'],features_test['raw1'],features_test['interval'],features_test['wav2'],\n",
    "                                   features_test['mel1'],\n",
    "                                   features_test['cqt1'],\n",
    "                                   features_test['stft1']],features_test['out_labels']), \n",
    "               \n",
    "               callbacks=[lr,model2_callback],\n",
    "               steps_per_epoch=np.ceil(len(features_trn['out_labels'])/batch_size),\n",
    "               class_weight=class_weight, \n",
    "               epochs = n_epoch)\n",
    "    \n"
   ]
  },
  {
   "cell_type": "code",
   "execution_count": 38,
   "id": "5d9abb6a",
   "metadata": {},
   "outputs": [
    {
     "data": {
      "text/plain": [
       "{'samp_sec': 20,\n",
       " 'pre_emphasis': 0,\n",
       " 'hop_length': 256,\n",
       " 'win_length': 512,\n",
       " 'n_mels': 120,\n",
       " 'filter_scale': 1,\n",
       " 'n_bins': 80,\n",
       " 'fmin': 10,\n",
       " 'maxlen1': 246000,\n",
       " 'min_dist': 500,\n",
       " 'max_interval_len': 192,\n",
       " 'trim': 1,\n",
       " 'use_raw': True,\n",
       " 'use_mel': True,\n",
       " 'use_cqt': False,\n",
       " 'use_stft': False,\n",
       " 'use_interval': True,\n",
       " 'use_wav2': True,\n",
       " 'per_sec': 16000,\n",
       " 'ord1': True,\n",
       " 'mm_mean': False,\n",
       " 'dp': 0,\n",
       " 'fc': False,\n",
       " 'ext': True,\n",
       " 'oo_weight': 3,\n",
       " 'mm_weight': 3,\n",
       " 'chaug': 10,\n",
       " 'cout': 0.8,\n",
       " 'wunknown': 1,\n",
       " 'mixup': True,\n",
       " 'n1': 0}"
      ]
     },
     "execution_count": 38,
     "metadata": {},
     "output_type": "execute_result"
    }
   ],
   "source": [
    "params_feature"
   ]
  },
  {
   "cell_type": "code",
   "execution_count": 39,
   "id": "08f47fb7",
   "metadata": {},
   "outputs": [],
   "source": [
    "params_feature['mel_shape'] = mel_input_shape\n",
    "params_feature['cqt_shape'] = cqt_input_shape\n",
    "params_feature['stft_shape'] = stft_input_shape\n",
    "params_feature['interval_input_shape'] = interval_input_shape\n",
    "params_feature['raw1_input_shape'] = raw1_input_shape\n",
    "params_feature['wav2_input_shape'] = wav2_input_shape\n",
    "params_feature['max_interval_len'] = max_interval_len"
   ]
  },
  {
   "cell_type": "code",
   "execution_count": null,
   "id": "7bf05dc7",
   "metadata": {},
   "outputs": [],
   "source": []
  },
  {
   "cell_type": "code",
   "execution_count": 40,
   "id": "7e94993e",
   "metadata": {},
   "outputs": [
    {
     "data": {
      "text/plain": [
       "{'samp_sec': 20,\n",
       " 'pre_emphasis': 0,\n",
       " 'hop_length': 256,\n",
       " 'win_length': 512,\n",
       " 'n_mels': 120,\n",
       " 'filter_scale': 1,\n",
       " 'n_bins': 80,\n",
       " 'fmin': 10,\n",
       " 'maxlen1': 246000,\n",
       " 'min_dist': 500,\n",
       " 'max_interval_len': 192,\n",
       " 'trim': 1,\n",
       " 'use_raw': True,\n",
       " 'use_mel': True,\n",
       " 'use_cqt': False,\n",
       " 'use_stft': False,\n",
       " 'use_interval': True,\n",
       " 'use_wav2': True,\n",
       " 'per_sec': 16000,\n",
       " 'ord1': True,\n",
       " 'mm_mean': False,\n",
       " 'dp': 0,\n",
       " 'fc': False,\n",
       " 'ext': True,\n",
       " 'oo_weight': 3,\n",
       " 'mm_weight': 3,\n",
       " 'chaug': 10,\n",
       " 'cout': 0.8,\n",
       " 'wunknown': 1,\n",
       " 'mixup': True,\n",
       " 'n1': 0,\n",
       " 'mel_shape': (120, 313, 1),\n",
       " 'cqt_shape': (1, 1, 1),\n",
       " 'stft_shape': (1, 1, 1),\n",
       " 'interval_input_shape': (192, 1),\n",
       " 'raw1_input_shape': (246000,),\n",
       " 'wav2_input_shape': (32, 768)}"
      ]
     },
     "execution_count": 40,
     "metadata": {},
     "output_type": "execute_result"
    }
   ],
   "source": [
    "params_feature"
   ]
  },
  {
   "cell_type": "code",
   "execution_count": 41,
   "id": "eb94fb63",
   "metadata": {},
   "outputs": [],
   "source": [
    "#확인"
   ]
  },
  {
   "cell_type": "code",
   "execution_count": null,
   "id": "2a42760e",
   "metadata": {},
   "outputs": [],
   "source": []
  },
  {
   "cell_type": "code",
   "execution_count": null,
   "id": "98e24365",
   "metadata": {},
   "outputs": [],
   "source": []
  },
  {
   "cell_type": "code",
   "execution_count": null,
   "id": "9b82a69b",
   "metadata": {},
   "outputs": [],
   "source": []
  },
  {
   "cell_type": "code",
   "execution_count": null,
   "id": "43bfcad2",
   "metadata": {},
   "outputs": [],
   "source": []
  },
  {
   "cell_type": "code",
   "execution_count": 42,
   "id": "786d2ba7",
   "metadata": {},
   "outputs": [],
   "source": [
    "import pickle as pk\n",
    "def save_challenge_model(model_folder, model1, model2, m_name1, m_name2, param_feature) :\n",
    "    os.makedirs(model_folder, exist_ok=True)\n",
    "    info_fnm = os.path.join(model_folder, 'desc.pk')\n",
    "    filename1 = os.path.join(model_folder, m_name1 + '_model1.hdf5')\n",
    "    filename2 = os.path.join(model_folder, m_name2 + '_model2.hdf5')\n",
    "    model1.save(filename1)\n",
    "    model2.save(filename2)\n",
    "    param_feature['model1'] = m_name1\n",
    "    param_feature['model2'] = m_name2\n",
    "    param_feature['model_fnm1'] = filename1\n",
    "    param_feature['model_fnm2'] = filename2\n",
    "    with open(info_fnm, 'wb') as f:\n",
    "        pk.dump(param_feature, f, pk.HIGHEST_PROTOCOL)\n",
    "    return 1\n",
    "\n",
    "    with open(info_fnm, 'wb') as f:\n",
    "        pk.dump(param_feature, f, pk.HIGHEST_PROTOCOL)\n",
    "    return 1\n",
    "    "
   ]
  },
  {
   "cell_type": "code",
   "execution_count": 43,
   "id": "6b9ae924",
   "metadata": {},
   "outputs": [
    {
     "data": {
      "text/plain": [
       "'lcnn2'"
      ]
     },
     "execution_count": 43,
     "metadata": {},
     "output_type": "execute_result"
    }
   ],
   "source": [
    "model_folder"
   ]
  },
  {
   "cell_type": "code",
   "execution_count": 44,
   "id": "ed1124d7",
   "metadata": {},
   "outputs": [
    {
     "data": {
      "text/plain": [
       "1"
      ]
     },
     "execution_count": 44,
     "metadata": {},
     "output_type": "execute_result"
    }
   ],
   "source": [
    "save_challenge_model(model_folder, model1, model2, m_name1 = 'lcnn1', m_name2 = 'lcnn2', param_feature = params_feature)"
   ]
  },
  {
   "cell_type": "code",
   "execution_count": null,
   "id": "99691ca8",
   "metadata": {},
   "outputs": [],
   "source": []
  },
  {
   "cell_type": "code",
   "execution_count": 45,
   "id": "ba030c37",
   "metadata": {},
   "outputs": [],
   "source": [
    "def load_challenge_model(model_folder, verbose):\n",
    "    info_fnm = os.path.join(model_folder, 'desc.pk')\n",
    "    with open(info_fnm, 'rb') as f:\n",
    "        info_m = pk.load(f)\n",
    "\n",
    "    return info_m"
   ]
  },
  {
   "cell_type": "code",
   "execution_count": 46,
   "id": "19a747dc",
   "metadata": {},
   "outputs": [],
   "source": [
    "def run_challenge_model(model, data, recordings, verbose):\n",
    "    \n",
    "    murmur_classes = ['Present', 'Unknown', 'Absent']\n",
    "    outcome_classes = ['Abnormal', 'Normal']\n",
    "\n",
    "##########################################################################    \n",
    "    if model['model1'] == 'lcnn1' :\n",
    "        model1 = get_LCNN_o_4_dr_1_7(model['mel_shape'],model['cqt_shape'],model['stft_shape'], model['interval_input_shape'],\n",
    "                                   model['wav2_input_shape'],model['raw1_input_shape'], \n",
    "                                   use_mel = model['use_mel'],use_cqt = model['use_cqt'], use_stft = model['use_stft'], \n",
    "                                 ord1 = model['ord1'], dp = model['dp'], fc = model['fc'], ext = model['ext'],\n",
    "                                   use_wav2=model['use_wav2'],use_raw=model['use_raw'])  \n",
    "    if model['model2'] == 'lcnn2' :\n",
    "        model2 = get_LCNN_o_4_dr_1_7(model['mel_shape'],model['cqt_shape'],model['stft_shape'], model['interval_input_shape'],\n",
    "                                   model['wav2_input_shape'],model['raw1_input_shape'], \n",
    "                                   use_mel = model['use_mel'],use_cqt = model['use_cqt'], use_stft = model['use_stft'], \n",
    "                                 ord1 = model['ord1'], dp = model['dp'], fc = model['fc'], ext = model['ext'],\n",
    "                                   use_wav2=model['use_wav2'],use_raw=model['use_raw'])   \n",
    "    model1.load_weights(model['model_fnm1'])\n",
    "    model2.load_weights(model['model_fnm2'])\n",
    "############################################################################ \n",
    "\n",
    "\n",
    "    maxlen1 = params_feature['maxlen1']\n",
    "    min_dist = params_feature['min_dist']\n",
    "    max_interval_len = params_feature['max_interval_len']\n",
    "    \n",
    "    \n",
    "    # Load features.\n",
    "    features = get_feature_one(data, verbose = 0)\n",
    "\n",
    "    samp_sec = model['samp_sec'] \n",
    "    pre_emphasis = model['pre_emphasis']\n",
    "    hop_length = model['hop_length']\n",
    "    win_length = model['win_length']\n",
    "    n_mels = model['n_mels']\n",
    "    filter_scale = model['filter_scale']\n",
    "    n_bins = model['n_bins']\n",
    "    fmin = model['fmin']\n",
    "    trim = model['trim']\n",
    "    use_mel = model['use_mel']\n",
    "    use_cqt = model['use_cqt']\n",
    "    use_stft = model['use_stft']\n",
    "    use_interval = model['use_interval']\n",
    "    use_wav2 = model['use_wav2']\n",
    "    maxlen1 = model['maxlen1']\n",
    "    min_dist = model['min_dist']\n",
    "    per_sec = model['per_sec']\n",
    "    \n",
    "#    use_raw = model['use_raw']\n",
    "\n",
    "    \n",
    "\n",
    "    features['raw1'] = []\n",
    "    tmp_wav=[] \n",
    "    if use_raw:\n",
    "\n",
    "        for i in range(len(recordings)):\n",
    "            data = recordings[i]\n",
    "            tmp_wav.append(data)\n",
    "\n",
    "        padded =pad_sequences(tmp_wav, maxlen=maxlen1, dtype='float64', padding='post', truncating='post', value=0.0)\n",
    "\n",
    "        padded=np.array(padded, dtype=np.float32)\n",
    "        for i in range(len(padded)):\n",
    "            features['raw1'].append(padded[i])\n",
    "\n",
    "        features['raw1'] = np.array(features['raw1'])\n",
    "  \n",
    "    \n",
    "      \n",
    "    features['wav2'] = []\n",
    "    if use_wav2:\n",
    "        \n",
    "        \n",
    "        \n",
    "        tmp_pad = padded[:,np.newaxis,:]\n",
    "        \n",
    "        tmp=[]\n",
    "        for i in range(len(tmp_pad)):\n",
    "            tmp_feature = wav2vec_model(tmp_pad[i])\n",
    "            tmp.append(tmp_feature)\n",
    "            \n",
    "        tmp=np.array(tmp, dtype=np.float32)\n",
    "        new_tmp1=tmp.reshape(-1,32,768)\n",
    "        features['wav2']=new_tmp1\n",
    "        \n",
    "    \n",
    "    features['interval'] = []\n",
    "    tmp_total_interval = [] \n",
    "       \n",
    "    if use_interval:\n",
    "\n",
    "\n",
    "        for i in tqdm.tqdm(range(len(recordings))) :\n",
    "            \n",
    "            datos=recordings[i]\n",
    "            filtros=sio.loadmat('./Filters1')\n",
    "            tmp_interval = []\n",
    "            n_samp = len(datos)//per_sec\n",
    "\n",
    "\n",
    "            try:\n",
    "                for k in range(n_samp):\n",
    "                    \n",
    "                    X = datos[k*per_sec:(k+1)*per_sec]\n",
    "                    Fs= per_sec\n",
    "                    Fpa20=filtros['Fpa20'];\t\t\t        # High pass filter\n",
    "                    Fpa20=Fpa20[0];\t\t\t\t\t# High pass filter\n",
    "                    Fpb100=filtros['Fpb100'];\t\t        # Low-pass Filter\n",
    "                    Fpb100=Fpb100[0];\t\t\t\t# Low-pass Filter\n",
    "                    Xf=FpassBand(X,Fpa20,Fpb100); \t                # Apply a passband filter\n",
    "                    Xf=vec_nor(Xf);\t\t\t\n",
    "\n",
    "                # Derivate of the Signal\n",
    "                    dX=derivate(Xf);\t\t\t\t# Derivate of the signal\n",
    "                    dX=vec_nor(dX);\t\t\t\t\t# Vector Normalizing\n",
    "                # Square of the signal\n",
    "                    dy=np.square(Xf);\n",
    "                    dy=vec_nor(dy);\n",
    "\n",
    "                    size=np.shape(Xf)\t\t\t\t# Rank or dimension of the array\n",
    "                    fil=size[0];\t\t\t\t\t# Number of rows\n",
    "\n",
    "                    positive=np.zeros((1,fil+1));                   # Initializating Positives Values Vector \n",
    "                    positive=positive[0];                           # Getting the Vector\n",
    "\n",
    "                    points=np.zeros((1,fil));                       # Initializating the all Peak Points Vector\n",
    "                    points=points[0];                               # Getting the point vector\n",
    "\n",
    "                    peaks=np.zeros((1,fil));                        # Initializating the s1-s1 Peak Vector\n",
    "                    peaks=peaks[0];                                 # Getting the point vector\n",
    "\n",
    "\n",
    "                    for i in range(0,fil):\n",
    "                        if dX[i]>0:\n",
    "                            positive[i]=1;\n",
    "                        else:\n",
    "                            positive[i]=0;\n",
    "\n",
    "                    for i in range(0,fil):\n",
    "                        if (positive[i]==1 and positive[i+1]==0):\n",
    "                            points[i]=Xf[i];\n",
    "                        else:\n",
    "                            points[i]=0;\n",
    "\n",
    "                    indexes=peakutils.indexes(points,thres=0.5/max(points), min_dist=min_dist);\n",
    "                    lenght=np.shape(indexes)\t\t\t# Get the length of the index vector\t\t\n",
    "                    lenght=lenght[0];\t\t\t\t# Get the value of the index vector\n",
    "\n",
    "                    for i in range(0,lenght):\n",
    "                        p=indexes[i];\n",
    "                        peaks[p]=points[p];\n",
    "\n",
    "                    n=np.arange(0,fil);                            # Vector to the X axes (Number of Samples)\n",
    "                    indexes =indexes+(k*per_sec)    \n",
    "                    tmp_peaks = np.array(indexes)\n",
    "\n",
    "\n",
    "                    tmp_interval.extend(tmp_peaks)\n",
    "\n",
    "                tmp_interval = np.array(tmp_interval)\n",
    "                tmp_interval = np.diff(tmp_interval)\n",
    "\n",
    "                tmp_total_interval.append(tmp_interval)\n",
    "\n",
    "\n",
    "            except:\n",
    "                print(i)\n",
    "                tmp_peaks = np.zeros(max_interval_len)\n",
    "                tmp_total_interval.append(tmp_peaks)\n",
    "\n",
    "    else :\n",
    "\n",
    "        tmp_peaks = np.zeros(max_interval_len)\n",
    "        tmp_total_interval.append(tmp_peaks)       \n",
    "\n",
    "\n",
    "    if use_interval:\n",
    "          \n",
    "        padded =pad_sequences(tmp_total_interval, maxlen=max_interval_len, dtype='float64', padding='post', truncating='post', value=0.0)\n",
    "\n",
    "        for i in range(len(padded)):\n",
    "            features['interval'].append(padded[i])\n",
    "             \n",
    "        for i in range(len(features['interval'])):\n",
    "            features['interval'][i]= features['interval'][i].reshape(-1,1)\n",
    "    \n",
    "        features['interval']=np.array(features['interval'])\n",
    "    \n",
    "        \n",
    "    else:\n",
    "        for i in range(len(tmp_interval)):\n",
    "            features['interval'].append(tmp_total_interval[i])\n",
    "        \n",
    "        for i in range(len(features['interval'])):\n",
    "            features['interval'][i]= features['interval'][i].reshape(-1,1)\n",
    "        features['interval']=np.array(features['interval'])\n",
    "    \n",
    "    \n",
    "    \n",
    "    features['mel1'] = []\n",
    "    for i in range(len(recordings)) :\n",
    "        if use_mel :\n",
    "            mel1 = feature_extract_melspec(recordings[i]/ 32768, samp_sec=samp_sec, pre_emphasis = pre_emphasis, hop_length=hop_length, \n",
    "                                           win_length = win_length, n_mels = n_mels)[0]\n",
    "        else :\n",
    "            mel1 = np.zeros( (1,1) )\n",
    "            \n",
    "        features['mel1'].append(mel1)\n",
    "        \n",
    "    M, N = features['mel1'][0].shape\n",
    "    \n",
    "    if use_mel :\n",
    "        for i in range(len(features['mel1'])) :\n",
    "            features['mel1'][i] = features['mel1'][i].reshape(M,N,1)   \n",
    "    \n",
    "    features['mel1'] = np.array(features['mel1'])\n",
    "\n",
    "    \n",
    "  \n",
    "    features['cqt1'] = []\n",
    "    for i in range(len(recordings)) :\n",
    "        if use_cqt :\n",
    "            mel1 = feature_extract_cqt(recordings[i], samp_sec=samp_sec, pre_emphasis = pre_emphasis, filter_scale = filter_scale, \n",
    "                                        n_bins = n_bins, fmin = fmin)[0]\n",
    "        else:\n",
    "            mel1 = np.zeros( (1,1,1) )\n",
    "            \n",
    "        features['cqt1'].append(mel1)\n",
    "        \n",
    "    M, N,__ = features['cqt1'][0].shape\n",
    "    \n",
    "    if use_cqt :\n",
    "        for i in range(len(features['cqt1'])) :\n",
    "            features['cqt1'][i] = features['cqt1'][i].reshape(M,N,1)   \n",
    "    \n",
    "    features['cqt1'] = np.array(features['cqt1'])\n",
    "    \n",
    "    \n",
    "    features['stft1'] = []\n",
    "    for i in range(len(recordings)) :\n",
    "        if use_stft :\n",
    "            mel1 = feature_extract_stft(recordings[i]/ 32768, samp_sec=samp_sec, pre_emphasis = pre_emphasis, hop_length=hop_length, \n",
    "                                        win_length = win_length)[0]\n",
    "        else :\n",
    "            mel1 = np.zeros( (1,1,1) )\n",
    "        \n",
    "        features['stft1'].append(mel1)\n",
    "        \n",
    "    M, N,__ = features['stft1'][0].shape\n",
    "    if use_stft :\n",
    "        for i in range(len(features['stft1'])) :\n",
    "            features['stft1'][i] = features['stft1'][i].reshape(M,N,1)           \n",
    "    features['stft1'] = np.array(features['stft1'])\n",
    "    \n",
    "#     return features       \n",
    "\n",
    "    #    print(features)\n",
    "    # Impute missing data.\n",
    "    res1 = model1.predict([features['age'], features['sex'], features['hw'], features['preg'], \n",
    "                           features['loc'], features['raw1'],features['interval'],features['wav2'],features['mel1'], features['stft1'], features['cqt1']])\n",
    "    res2 = model2.predict([features['age'], features['sex'], features['hw'], features['preg'], \n",
    "                           features['loc'], features['raw1'],features['interval'],features['wav2'],features['mel1'], features['stft1'], features['cqt1']])\n",
    "    if model['ord1'] :\n",
    "        idx1 = res1.argmax(axis=0)[0]\n",
    "        murmur_p = res1[idx1,]  ## mumur 확률 최대화 되는 애 뽑기ddd\n",
    "        murmur_probabilities = np.zeros((3,))\n",
    "        murmur_probabilities[0] = murmur_p[0]\n",
    "        murmur_probabilities[1] = 0\n",
    "        murmur_probabilities[2] = murmur_p[1]\n",
    "        outcome_probabilities = res2.mean(axis = 0) ##  outcome 은 그냥 평균으로 뽑기\n",
    "    else :\n",
    "        if model['mm_mean'] :\n",
    "            murmur_probabilities = res1.mean(axis = 0)\n",
    "        else :\n",
    "            idx1 = res1.argmax(axis=0)[0]\n",
    "            murmur_probabilities = res1[idx1,]  ## mumur 확률 최대화 되는 애 뽑기\n",
    "        outcome_probabilities = res2.mean(axis = 0) ##  outcome 은 그냥 평균으로 뽑기\n",
    "\n",
    "        \n",
    "    murmur_labels = np.zeros(len(murmur_classes), dtype=np.int_)\n",
    "    \n",
    "    \n",
    "    if murmur_probabilities[0] > 0.482 :\n",
    "        idx = 0\n",
    "    else :\n",
    "        idx = 2\n",
    "    murmur_labels[idx] = 1\n",
    "\n",
    "    outcome_labels = np.zeros(len(outcome_classes), dtype=np.int_)\n",
    "    if outcome_probabilities[0] > 0.607 :\n",
    "        idx = 0\n",
    "    else :\n",
    "        idx = 1    \n",
    "        # idx = np.argmax(outcome_probabilities)\n",
    "    outcome_labels[idx] = 1\n",
    "    \n",
    "    # Concatenate classes, labels, and probabilities.\n",
    "    classes = murmur_classes + outcome_classes\n",
    "    labels = np.concatenate((murmur_labels, outcome_labels))\n",
    "    probabilities = np.concatenate((murmur_probabilities, outcome_probabilities))\n",
    "    \n",
    "    return classes, labels, probabilities"
   ]
  },
  {
   "cell_type": "code",
   "execution_count": 47,
   "id": "b5eecd4a",
   "metadata": {
    "scrolled": true
   },
   "outputs": [
    {
     "data": {
      "text/plain": [
       "'lcnn2'"
      ]
     },
     "execution_count": 47,
     "metadata": {},
     "output_type": "execute_result"
    }
   ],
   "source": [
    "model_folder"
   ]
  },
  {
   "cell_type": "code",
   "execution_count": 48,
   "id": "cd5b523f",
   "metadata": {},
   "outputs": [],
   "source": [
    "data_folder = test_folder"
   ]
  },
  {
   "cell_type": "code",
   "execution_count": 49,
   "id": "1f523ff0",
   "metadata": {},
   "outputs": [
    {
     "data": {
      "text/plain": [
       "'/home/jk21/Downloads/Data/data/murmur/test'"
      ]
     },
     "execution_count": 49,
     "metadata": {},
     "output_type": "execute_result"
    }
   ],
   "source": [
    "data_folder"
   ]
  },
  {
   "cell_type": "code",
   "execution_count": 50,
   "id": "c67ffdf6",
   "metadata": {},
   "outputs": [],
   "source": [
    "output_folder ='/home/jk21/Documents/hmd/jk_classifier/out_lcnn2'"
   ]
  },
  {
   "cell_type": "code",
   "execution_count": 51,
   "id": "89e8d650",
   "metadata": {},
   "outputs": [],
   "source": [
    "allow_failures=True"
   ]
  },
  {
   "cell_type": "code",
   "execution_count": 52,
   "id": "bccc27ef",
   "metadata": {},
   "outputs": [],
   "source": [
    "verbose=1"
   ]
  },
  {
   "cell_type": "code",
   "execution_count": null,
   "id": "101c582c",
   "metadata": {},
   "outputs": [],
   "source": []
  },
  {
   "cell_type": "code",
   "execution_count": 53,
   "id": "73579324",
   "metadata": {},
   "outputs": [],
   "source": [
    "model = load_challenge_model(model_folder, verbose)"
   ]
  },
  {
   "cell_type": "code",
   "execution_count": 54,
   "id": "20a7edc2",
   "metadata": {},
   "outputs": [],
   "source": [
    "patient_files = find_patient_files(data_folder)"
   ]
  },
  {
   "cell_type": "code",
   "execution_count": 55,
   "id": "450b3026",
   "metadata": {},
   "outputs": [],
   "source": [
    "num_patient_files = len(patient_files)"
   ]
  },
  {
   "cell_type": "code",
   "execution_count": 56,
   "id": "2ed2bb8f",
   "metadata": {},
   "outputs": [],
   "source": [
    "patient_data = load_patient_data(patient_files[0])"
   ]
  },
  {
   "cell_type": "code",
   "execution_count": 57,
   "id": "18f0a77e",
   "metadata": {},
   "outputs": [
    {
     "data": {
      "text/plain": [
       "'33151 4 4000\\nAV 33151_AV.hea 33151_AV.wav 33151_AV.tsv\\nPV 33151_PV.hea 33151_PV.wav 33151_PV.tsv\\nTV 33151_TV.hea 33151_TV.wav 33151_TV.tsv\\nMV 33151_MV.hea 33151_MV.wav 33151_MV.tsv\\n#Age: Child\\n#Sex: Female\\n#Height: 141.0\\n#Weight: 30.9\\n#Pregnancy status: False\\n#Murmur: Present\\n#Murmur locations: MV+TV\\n#Most audible location: TV\\n#Systolic murmur timing: Holosystolic\\n#Systolic murmur shape: Plateau\\n#Systolic murmur grading: I/VI\\n#Systolic murmur pitch: Low\\n#Systolic murmur quality: Harsh\\n#Diastolic murmur timing: nan\\n#Diastolic murmur shape: nan\\n#Diastolic murmur grading: nan\\n#Diastolic murmur pitch: nan\\n#Diastolic murmur quality: nan\\n#Outcome: Abnormal\\n#Campaign: CC2015\\n#Additional ID: nan\\n'"
      ]
     },
     "execution_count": 57,
     "metadata": {},
     "output_type": "execute_result"
    }
   ],
   "source": [
    "patient_data"
   ]
  },
  {
   "cell_type": "code",
   "execution_count": 58,
   "id": "f039e162",
   "metadata": {},
   "outputs": [],
   "source": [
    "recordings = load_recordings(data_folder, patient_data)"
   ]
  },
  {
   "cell_type": "code",
   "execution_count": 59,
   "id": "d3acd534",
   "metadata": {
    "scrolled": true
   },
   "outputs": [
    {
     "name": "stderr",
     "output_type": "stream",
     "text": [
      "100%|█████████████████████████████████████████████| 4/4 [00:00<00:00,  9.79it/s]\n"
     ]
    }
   ],
   "source": [
    "classes, labels, probabilities = run_challenge_model(model, patient_data, recordings, verbose)"
   ]
  },
  {
   "cell_type": "code",
   "execution_count": 60,
   "id": "9bb40d85",
   "metadata": {},
   "outputs": [
    {
     "data": {
      "text/plain": [
       "array([0.67880613, 0.        , 0.3211939 , 0.67267179, 0.32732815])"
      ]
     },
     "execution_count": 60,
     "metadata": {},
     "output_type": "execute_result"
    }
   ],
   "source": [
    "probabilities"
   ]
  },
  {
   "cell_type": "code",
   "execution_count": 61,
   "id": "970b87e5",
   "metadata": {},
   "outputs": [
    {
     "data": {
      "text/plain": [
       "['Present', 'Unknown', 'Absent', 'Abnormal', 'Normal']"
      ]
     },
     "execution_count": 61,
     "metadata": {},
     "output_type": "execute_result"
    }
   ],
   "source": [
    "classes"
   ]
  },
  {
   "cell_type": "code",
   "execution_count": null,
   "id": "db1c8488",
   "metadata": {},
   "outputs": [],
   "source": []
  },
  {
   "cell_type": "code",
   "execution_count": null,
   "id": "ecd6943c",
   "metadata": {},
   "outputs": [],
   "source": []
  },
  {
   "cell_type": "code",
   "execution_count": null,
   "id": "76bbbee7",
   "metadata": {},
   "outputs": [],
   "source": []
  },
  {
   "cell_type": "code",
   "execution_count": null,
   "id": "4e134b18",
   "metadata": {},
   "outputs": [],
   "source": []
  },
  {
   "cell_type": "code",
   "execution_count": null,
   "id": "92fafdb5",
   "metadata": {},
   "outputs": [],
   "source": []
  },
  {
   "cell_type": "code",
   "execution_count": 62,
   "id": "b6a44c38",
   "metadata": {},
   "outputs": [],
   "source": [
    "# Run model.\n",
    "def run_model(model_folder, data_folder, output_folder, allow_failures, verbose=1):\n",
    "    # Load models.\n",
    "    if verbose >= 1:\n",
    "        print('Loading Challenge model...')\n",
    "\n",
    "    model = load_challenge_model(model_folder, verbose) ### Teams: Implement this function!!!\n",
    "\n",
    "    # Find the patient data files.\n",
    "    patient_files = find_patient_files(data_folder)\n",
    "    num_patient_files = len(patient_files)\n",
    "\n",
    "    if num_patient_files==0:\n",
    "        raise Exception('No data was provided.')\n",
    "\n",
    "    # Create a folder for the Challenge outputs if it does not already exist.\n",
    "    os.makedirs(output_folder, exist_ok=True)\n",
    "\n",
    "    # Run the team's model on the Challenge data.\n",
    "    if verbose >= 1:\n",
    "        print('Running model on Challenge data...')\n",
    "\n",
    "    # Iterate over the patient files.\n",
    "    for i in range(num_patient_files):\n",
    "        if verbose >= 2:\n",
    "            print('    {}/{}...'.format(i+1, num_patient_files))\n",
    "\n",
    "        patient_data = load_patient_data(patient_files[i])\n",
    "        recordings = load_recordings(data_folder, patient_data)\n",
    "\n",
    "        # Allow or disallow the model to fail on parts of the data; helpful for debugging.\n",
    "        try:\n",
    "            classes, labels, probabilities = run_challenge_model(model, patient_data, recordings, verbose) ### Teams: Implement this function!!!\n",
    "        except:\n",
    "            if allow_failures:\n",
    "                if verbose >= 2:\n",
    "                    print('... failed.')\n",
    "                classes, labels, probabilities = list(), list(), list()\n",
    "            else:\n",
    "                raise\n",
    "\n",
    "        # Save Challenge outputs.\n",
    "        head, tail = os.path.split(patient_files[i])\n",
    "        root, extension = os.path.splitext(tail)\n",
    "        output_file = os.path.join(output_folder, root + '.csv')\n",
    "        patient_id = get_patient_id(patient_data)\n",
    "        save_challenge_outputs(output_file, patient_id, classes, labels, probabilities)\n",
    "\n",
    "    if verbose >= 1:\n",
    "        print('Done.')"
   ]
  },
  {
   "cell_type": "code",
   "execution_count": 63,
   "id": "7fe188c6",
   "metadata": {},
   "outputs": [
    {
     "data": {
      "text/plain": [
       "'/home/jk21/Downloads/Data/data/murmur/test'"
      ]
     },
     "execution_count": 63,
     "metadata": {},
     "output_type": "execute_result"
    }
   ],
   "source": [
    "test_folder"
   ]
  },
  {
   "cell_type": "code",
   "execution_count": 64,
   "id": "38ee9f70",
   "metadata": {},
   "outputs": [],
   "source": [
    "output_folder = '/home/jk21/Documents/hmd/jk_classifier/out_lcnn2'"
   ]
  },
  {
   "cell_type": "code",
   "execution_count": 65,
   "id": "9a8580ab",
   "metadata": {},
   "outputs": [
    {
     "data": {
      "text/plain": [
       "'lcnn2'"
      ]
     },
     "execution_count": 65,
     "metadata": {},
     "output_type": "execute_result"
    }
   ],
   "source": [
    "model_folder"
   ]
  },
  {
   "cell_type": "code",
   "execution_count": 66,
   "id": "d4be81f7",
   "metadata": {
    "scrolled": false
   },
   "outputs": [
    {
     "name": "stdout",
     "output_type": "stream",
     "text": [
      "Loading Challenge model...\n",
      "Running model on Challenge data...\n",
      "    1/191...\n"
     ]
    },
    {
     "name": "stderr",
     "output_type": "stream",
     "text": [
      "100%|█████████████████████████████████████████████| 4/4 [00:00<00:00,  8.19it/s]\n"
     ]
    },
    {
     "name": "stdout",
     "output_type": "stream",
     "text": [
      "    2/191...\n"
     ]
    },
    {
     "name": "stderr",
     "output_type": "stream",
     "text": [
      "100%|█████████████████████████████████████████████| 2/2 [00:00<00:00,  6.77it/s]\n"
     ]
    },
    {
     "name": "stdout",
     "output_type": "stream",
     "text": [
      "WARNING:tensorflow:5 out of the last 5 calls to <function Model.make_predict_function.<locals>.predict_function at 0x7ff2e77f6c10> triggered tf.function retracing. Tracing is expensive and the excessive number of tracings could be due to (1) creating @tf.function repeatedly in a loop, (2) passing tensors with different shapes, (3) passing Python objects instead of tensors. For (1), please define your @tf.function outside of the loop. For (2), @tf.function has experimental_relax_shapes=True option that relaxes argument shapes that can avoid unnecessary retracing. For (3), please refer to https://www.tensorflow.org/guide/function#controlling_retracing and https://www.tensorflow.org/api_docs/python/tf/function for  more details.\n"
     ]
    },
    {
     "name": "stderr",
     "output_type": "stream",
     "text": [
      "WARNING:tensorflow:5 out of the last 5 calls to <function Model.make_predict_function.<locals>.predict_function at 0x7ff2e77f6c10> triggered tf.function retracing. Tracing is expensive and the excessive number of tracings could be due to (1) creating @tf.function repeatedly in a loop, (2) passing tensors with different shapes, (3) passing Python objects instead of tensors. For (1), please define your @tf.function outside of the loop. For (2), @tf.function has experimental_relax_shapes=True option that relaxes argument shapes that can avoid unnecessary retracing. For (3), please refer to https://www.tensorflow.org/guide/function#controlling_retracing and https://www.tensorflow.org/api_docs/python/tf/function for  more details.\n"
     ]
    },
    {
     "name": "stdout",
     "output_type": "stream",
     "text": [
      "WARNING:tensorflow:6 out of the last 6 calls to <function Model.make_predict_function.<locals>.predict_function at 0x7ff2e77f65e0> triggered tf.function retracing. Tracing is expensive and the excessive number of tracings could be due to (1) creating @tf.function repeatedly in a loop, (2) passing tensors with different shapes, (3) passing Python objects instead of tensors. For (1), please define your @tf.function outside of the loop. For (2), @tf.function has experimental_relax_shapes=True option that relaxes argument shapes that can avoid unnecessary retracing. For (3), please refer to https://www.tensorflow.org/guide/function#controlling_retracing and https://www.tensorflow.org/api_docs/python/tf/function for  more details.\n"
     ]
    },
    {
     "name": "stderr",
     "output_type": "stream",
     "text": [
      "WARNING:tensorflow:6 out of the last 6 calls to <function Model.make_predict_function.<locals>.predict_function at 0x7ff2e77f65e0> triggered tf.function retracing. Tracing is expensive and the excessive number of tracings could be due to (1) creating @tf.function repeatedly in a loop, (2) passing tensors with different shapes, (3) passing Python objects instead of tensors. For (1), please define your @tf.function outside of the loop. For (2), @tf.function has experimental_relax_shapes=True option that relaxes argument shapes that can avoid unnecessary retracing. For (3), please refer to https://www.tensorflow.org/guide/function#controlling_retracing and https://www.tensorflow.org/api_docs/python/tf/function for  more details.\n"
     ]
    },
    {
     "name": "stdout",
     "output_type": "stream",
     "text": [
      "    3/191...\n"
     ]
    },
    {
     "name": "stderr",
     "output_type": "stream",
     "text": [
      "100%|█████████████████████████████████████████████| 4/4 [00:00<00:00,  5.80it/s]\n"
     ]
    },
    {
     "name": "stdout",
     "output_type": "stream",
     "text": [
      "    4/191...\n"
     ]
    },
    {
     "name": "stderr",
     "output_type": "stream",
     "text": [
      "100%|█████████████████████████████████████████████| 2/2 [00:00<00:00,  4.22it/s]\n"
     ]
    },
    {
     "name": "stdout",
     "output_type": "stream",
     "text": [
      "    5/191...\n"
     ]
    },
    {
     "name": "stderr",
     "output_type": "stream",
     "text": [
      "100%|█████████████████████████████████████████████| 3/3 [00:00<00:00,  4.82it/s]\n"
     ]
    },
    {
     "name": "stdout",
     "output_type": "stream",
     "text": [
      "    6/191...\n"
     ]
    },
    {
     "name": "stderr",
     "output_type": "stream",
     "text": [
      "100%|█████████████████████████████████████████████| 1/1 [00:00<00:00,  2.82it/s]\n"
     ]
    },
    {
     "name": "stdout",
     "output_type": "stream",
     "text": [
      "    7/191...\n"
     ]
    },
    {
     "name": "stderr",
     "output_type": "stream",
     "text": [
      "100%|█████████████████████████████████████████████| 4/4 [00:00<00:00,  4.31it/s]\n"
     ]
    },
    {
     "name": "stdout",
     "output_type": "stream",
     "text": [
      "    8/191...\n"
     ]
    },
    {
     "name": "stderr",
     "output_type": "stream",
     "text": [
      "100%|█████████████████████████████████████████████| 4/4 [00:00<00:00,  8.05it/s]\n"
     ]
    },
    {
     "name": "stdout",
     "output_type": "stream",
     "text": [
      "    9/191...\n"
     ]
    },
    {
     "name": "stderr",
     "output_type": "stream",
     "text": [
      "100%|█████████████████████████████████████████████| 4/4 [00:00<00:00,  4.06it/s]\n"
     ]
    },
    {
     "name": "stdout",
     "output_type": "stream",
     "text": [
      "    10/191...\n"
     ]
    },
    {
     "name": "stderr",
     "output_type": "stream",
     "text": [
      "100%|█████████████████████████████████████████████| 4/4 [00:01<00:00,  3.71it/s]\n"
     ]
    },
    {
     "name": "stdout",
     "output_type": "stream",
     "text": [
      "    11/191...\n"
     ]
    },
    {
     "name": "stderr",
     "output_type": "stream",
     "text": [
      "100%|█████████████████████████████████████████████| 4/4 [00:01<00:00,  3.78it/s]\n"
     ]
    },
    {
     "name": "stdout",
     "output_type": "stream",
     "text": [
      "    12/191...\n"
     ]
    },
    {
     "name": "stderr",
     "output_type": "stream",
     "text": [
      "100%|█████████████████████████████████████████████| 2/2 [00:00<00:00,  4.07it/s]\n"
     ]
    },
    {
     "name": "stdout",
     "output_type": "stream",
     "text": [
      "    13/191...\n"
     ]
    },
    {
     "name": "stderr",
     "output_type": "stream",
     "text": [
      "100%|█████████████████████████████████████████████| 3/3 [00:00<00:00,  6.21it/s]\n"
     ]
    },
    {
     "name": "stdout",
     "output_type": "stream",
     "text": [
      "    14/191...\n"
     ]
    },
    {
     "name": "stderr",
     "output_type": "stream",
     "text": [
      "100%|█████████████████████████████████████████████| 4/4 [00:00<00:00,  4.50it/s]\n"
     ]
    },
    {
     "name": "stdout",
     "output_type": "stream",
     "text": [
      "    15/191...\n"
     ]
    },
    {
     "name": "stderr",
     "output_type": "stream",
     "text": [
      "100%|█████████████████████████████████████████████| 2/2 [00:00<00:00,  3.97it/s]\n"
     ]
    },
    {
     "name": "stdout",
     "output_type": "stream",
     "text": [
      "    16/191...\n"
     ]
    },
    {
     "name": "stderr",
     "output_type": "stream",
     "text": [
      "100%|█████████████████████████████████████████████| 4/4 [00:00<00:00,  5.36it/s]\n"
     ]
    },
    {
     "name": "stdout",
     "output_type": "stream",
     "text": [
      "    17/191...\n"
     ]
    },
    {
     "name": "stderr",
     "output_type": "stream",
     "text": [
      "100%|█████████████████████████████████████████████| 5/5 [00:00<00:00,  7.54it/s]\n"
     ]
    },
    {
     "name": "stdout",
     "output_type": "stream",
     "text": [
      "    18/191...\n"
     ]
    },
    {
     "name": "stderr",
     "output_type": "stream",
     "text": [
      "100%|█████████████████████████████████████████████| 1/1 [00:00<00:00,  8.71it/s]\n"
     ]
    },
    {
     "name": "stdout",
     "output_type": "stream",
     "text": [
      "    19/191...\n"
     ]
    },
    {
     "name": "stderr",
     "output_type": "stream",
     "text": [
      "100%|█████████████████████████████████████████████| 4/4 [00:00<00:00,  6.78it/s]\n"
     ]
    },
    {
     "name": "stdout",
     "output_type": "stream",
     "text": [
      "    20/191...\n"
     ]
    },
    {
     "name": "stderr",
     "output_type": "stream",
     "text": [
      "100%|█████████████████████████████████████████████| 4/4 [00:00<00:00,  7.33it/s]\n"
     ]
    },
    {
     "name": "stdout",
     "output_type": "stream",
     "text": [
      "    21/191...\n"
     ]
    },
    {
     "name": "stderr",
     "output_type": "stream",
     "text": [
      "100%|█████████████████████████████████████████████| 2/2 [00:00<00:00,  3.86it/s]\n"
     ]
    },
    {
     "name": "stdout",
     "output_type": "stream",
     "text": [
      "    22/191...\n"
     ]
    },
    {
     "name": "stderr",
     "output_type": "stream",
     "text": [
      "100%|█████████████████████████████████████████████| 1/1 [00:00<00:00,  4.60it/s]\n"
     ]
    },
    {
     "name": "stdout",
     "output_type": "stream",
     "text": [
      "    23/191...\n"
     ]
    },
    {
     "name": "stderr",
     "output_type": "stream",
     "text": [
      "100%|█████████████████████████████████████████████| 2/2 [00:00<00:00,  4.42it/s]\n"
     ]
    },
    {
     "name": "stdout",
     "output_type": "stream",
     "text": [
      "    24/191...\n"
     ]
    },
    {
     "name": "stderr",
     "output_type": "stream",
     "text": [
      "100%|█████████████████████████████████████████████| 3/3 [00:00<00:00,  4.33it/s]\n"
     ]
    },
    {
     "name": "stdout",
     "output_type": "stream",
     "text": [
      "    25/191...\n"
     ]
    },
    {
     "name": "stderr",
     "output_type": "stream",
     "text": [
      "100%|█████████████████████████████████████████████| 4/4 [00:00<00:00,  5.07it/s]\n"
     ]
    },
    {
     "name": "stdout",
     "output_type": "stream",
     "text": [
      "    26/191...\n"
     ]
    },
    {
     "name": "stderr",
     "output_type": "stream",
     "text": [
      "100%|█████████████████████████████████████████████| 3/3 [00:00<00:00,  4.08it/s]\n"
     ]
    },
    {
     "name": "stdout",
     "output_type": "stream",
     "text": [
      "    27/191...\n"
     ]
    },
    {
     "name": "stderr",
     "output_type": "stream",
     "text": [
      "100%|█████████████████████████████████████████████| 2/2 [00:00<00:00,  3.50it/s]\n"
     ]
    },
    {
     "name": "stdout",
     "output_type": "stream",
     "text": [
      "    28/191...\n"
     ]
    },
    {
     "name": "stderr",
     "output_type": "stream",
     "text": [
      "100%|█████████████████████████████████████████████| 3/3 [00:00<00:00,  4.63it/s]\n"
     ]
    },
    {
     "name": "stdout",
     "output_type": "stream",
     "text": [
      "    29/191...\n"
     ]
    },
    {
     "name": "stderr",
     "output_type": "stream",
     "text": [
      "100%|█████████████████████████████████████████████| 3/3 [00:00<00:00,  3.73it/s]\n"
     ]
    },
    {
     "name": "stdout",
     "output_type": "stream",
     "text": [
      "    30/191...\n"
     ]
    },
    {
     "name": "stderr",
     "output_type": "stream",
     "text": [
      "100%|█████████████████████████████████████████████| 4/4 [00:00<00:00,  4.52it/s]\n"
     ]
    },
    {
     "name": "stdout",
     "output_type": "stream",
     "text": [
      "    31/191...\n"
     ]
    },
    {
     "name": "stderr",
     "output_type": "stream",
     "text": [
      "100%|█████████████████████████████████████████████| 3/3 [00:00<00:00,  4.76it/s]\n"
     ]
    },
    {
     "name": "stdout",
     "output_type": "stream",
     "text": [
      "    32/191...\n"
     ]
    },
    {
     "name": "stderr",
     "output_type": "stream",
     "text": [
      "100%|█████████████████████████████████████████████| 2/2 [00:00<00:00,  4.66it/s]\n"
     ]
    },
    {
     "name": "stdout",
     "output_type": "stream",
     "text": [
      "    33/191...\n"
     ]
    },
    {
     "name": "stderr",
     "output_type": "stream",
     "text": [
      "100%|█████████████████████████████████████████████| 1/1 [00:00<00:00,  3.53it/s]\n"
     ]
    },
    {
     "name": "stdout",
     "output_type": "stream",
     "text": [
      "    34/191...\n"
     ]
    },
    {
     "name": "stderr",
     "output_type": "stream",
     "text": [
      "100%|█████████████████████████████████████████████| 3/3 [00:00<00:00,  4.18it/s]\n"
     ]
    },
    {
     "name": "stdout",
     "output_type": "stream",
     "text": [
      "    35/191...\n"
     ]
    },
    {
     "name": "stderr",
     "output_type": "stream",
     "text": [
      "100%|█████████████████████████████████████████████| 3/3 [00:00<00:00,  4.15it/s]\n"
     ]
    },
    {
     "name": "stdout",
     "output_type": "stream",
     "text": [
      "    36/191...\n"
     ]
    },
    {
     "name": "stderr",
     "output_type": "stream",
     "text": [
      "100%|█████████████████████████████████████████████| 3/3 [00:00<00:00,  5.81it/s]\n"
     ]
    },
    {
     "name": "stdout",
     "output_type": "stream",
     "text": [
      "    37/191...\n"
     ]
    },
    {
     "name": "stderr",
     "output_type": "stream",
     "text": [
      "100%|█████████████████████████████████████████████| 3/3 [00:00<00:00,  7.22it/s]\n"
     ]
    },
    {
     "name": "stdout",
     "output_type": "stream",
     "text": [
      "    38/191...\n"
     ]
    },
    {
     "name": "stderr",
     "output_type": "stream",
     "text": [
      "100%|█████████████████████████████████████████████| 5/5 [00:01<00:00,  4.68it/s]\n"
     ]
    },
    {
     "name": "stdout",
     "output_type": "stream",
     "text": [
      "    39/191...\n"
     ]
    },
    {
     "name": "stderr",
     "output_type": "stream",
     "text": [
      "100%|█████████████████████████████████████████████| 4/4 [00:00<00:00,  4.58it/s]\n"
     ]
    },
    {
     "name": "stdout",
     "output_type": "stream",
     "text": [
      "    40/191...\n"
     ]
    },
    {
     "name": "stderr",
     "output_type": "stream",
     "text": [
      "100%|█████████████████████████████████████████████| 2/2 [00:00<00:00,  4.08it/s]\n"
     ]
    },
    {
     "name": "stdout",
     "output_type": "stream",
     "text": [
      "    41/191...\n"
     ]
    },
    {
     "name": "stderr",
     "output_type": "stream",
     "text": [
      "100%|█████████████████████████████████████████████| 4/4 [00:00<00:00,  5.96it/s]\n"
     ]
    },
    {
     "name": "stdout",
     "output_type": "stream",
     "text": [
      "    42/191...\n"
     ]
    },
    {
     "name": "stderr",
     "output_type": "stream",
     "text": [
      "100%|█████████████████████████████████████████████| 3/3 [00:00<00:00,  4.93it/s]\n"
     ]
    },
    {
     "name": "stdout",
     "output_type": "stream",
     "text": [
      "    43/191...\n"
     ]
    },
    {
     "name": "stderr",
     "output_type": "stream",
     "text": [
      "100%|█████████████████████████████████████████████| 3/3 [00:00<00:00,  5.89it/s]\n"
     ]
    },
    {
     "name": "stdout",
     "output_type": "stream",
     "text": [
      "    44/191...\n"
     ]
    },
    {
     "name": "stderr",
     "output_type": "stream",
     "text": [
      "100%|█████████████████████████████████████████████| 2/2 [00:00<00:00,  3.78it/s]\n"
     ]
    },
    {
     "name": "stdout",
     "output_type": "stream",
     "text": [
      "    45/191...\n"
     ]
    },
    {
     "name": "stderr",
     "output_type": "stream",
     "text": [
      "100%|█████████████████████████████████████████████| 4/4 [00:00<00:00,  4.19it/s]\n"
     ]
    },
    {
     "name": "stdout",
     "output_type": "stream",
     "text": [
      "    46/191...\n"
     ]
    },
    {
     "name": "stderr",
     "output_type": "stream",
     "text": [
      "100%|█████████████████████████████████████████████| 4/4 [00:00<00:00,  4.28it/s]\n"
     ]
    },
    {
     "name": "stdout",
     "output_type": "stream",
     "text": [
      "    47/191...\n"
     ]
    },
    {
     "name": "stderr",
     "output_type": "stream",
     "text": [
      "100%|█████████████████████████████████████████████| 4/4 [00:00<00:00,  4.57it/s]\n"
     ]
    },
    {
     "name": "stdout",
     "output_type": "stream",
     "text": [
      "    48/191...\n"
     ]
    },
    {
     "name": "stderr",
     "output_type": "stream",
     "text": [
      "100%|█████████████████████████████████████████████| 4/4 [00:00<00:00,  4.72it/s]\n"
     ]
    },
    {
     "name": "stdout",
     "output_type": "stream",
     "text": [
      "    49/191...\n"
     ]
    },
    {
     "name": "stderr",
     "output_type": "stream",
     "text": [
      "100%|█████████████████████████████████████████████| 2/2 [00:00<00:00,  4.19it/s]\n"
     ]
    },
    {
     "name": "stdout",
     "output_type": "stream",
     "text": [
      "    50/191...\n"
     ]
    },
    {
     "name": "stderr",
     "output_type": "stream",
     "text": [
      "100%|█████████████████████████████████████████████| 2/2 [00:00<00:00,  4.28it/s]\n"
     ]
    },
    {
     "name": "stdout",
     "output_type": "stream",
     "text": [
      "    51/191...\n"
     ]
    },
    {
     "name": "stderr",
     "output_type": "stream",
     "text": [
      "100%|█████████████████████████████████████████████| 2/2 [00:00<00:00,  5.82it/s]\n"
     ]
    },
    {
     "name": "stdout",
     "output_type": "stream",
     "text": [
      "    52/191...\n"
     ]
    },
    {
     "name": "stderr",
     "output_type": "stream",
     "text": [
      "100%|█████████████████████████████████████████████| 5/5 [00:00<00:00,  5.27it/s]\n"
     ]
    },
    {
     "name": "stdout",
     "output_type": "stream",
     "text": [
      "    53/191...\n"
     ]
    },
    {
     "name": "stderr",
     "output_type": "stream",
     "text": [
      "100%|█████████████████████████████████████████████| 2/2 [00:00<00:00,  3.85it/s]\n"
     ]
    },
    {
     "name": "stdout",
     "output_type": "stream",
     "text": [
      "    54/191...\n"
     ]
    },
    {
     "name": "stderr",
     "output_type": "stream",
     "text": [
      "100%|█████████████████████████████████████████████| 4/4 [00:01<00:00,  3.83it/s]\n"
     ]
    },
    {
     "name": "stdout",
     "output_type": "stream",
     "text": [
      "    55/191...\n"
     ]
    },
    {
     "name": "stderr",
     "output_type": "stream",
     "text": [
      "100%|█████████████████████████████████████████████| 4/4 [00:00<00:00,  4.14it/s]\n"
     ]
    },
    {
     "name": "stdout",
     "output_type": "stream",
     "text": [
      "    56/191...\n"
     ]
    },
    {
     "name": "stderr",
     "output_type": "stream",
     "text": [
      "100%|█████████████████████████████████████████████| 4/4 [00:00<00:00,  4.16it/s]\n"
     ]
    },
    {
     "name": "stdout",
     "output_type": "stream",
     "text": [
      "    57/191...\n"
     ]
    },
    {
     "name": "stderr",
     "output_type": "stream",
     "text": [
      "100%|█████████████████████████████████████████████| 2/2 [00:00<00:00,  3.94it/s]\n"
     ]
    },
    {
     "name": "stdout",
     "output_type": "stream",
     "text": [
      "    58/191...\n"
     ]
    },
    {
     "name": "stderr",
     "output_type": "stream",
     "text": [
      "100%|█████████████████████████████████████████████| 1/1 [00:00<00:00,  3.59it/s]\n"
     ]
    },
    {
     "name": "stdout",
     "output_type": "stream",
     "text": [
      "    59/191...\n"
     ]
    },
    {
     "name": "stderr",
     "output_type": "stream",
     "text": [
      "100%|█████████████████████████████████████████████| 3/3 [00:00<00:00,  3.84it/s]\n"
     ]
    },
    {
     "name": "stdout",
     "output_type": "stream",
     "text": [
      "    60/191...\n"
     ]
    },
    {
     "name": "stderr",
     "output_type": "stream",
     "text": [
      "100%|█████████████████████████████████████████████| 2/2 [00:00<00:00,  4.01it/s]\n"
     ]
    },
    {
     "name": "stdout",
     "output_type": "stream",
     "text": [
      "    61/191...\n"
     ]
    },
    {
     "name": "stderr",
     "output_type": "stream",
     "text": [
      "100%|█████████████████████████████████████████████| 2/2 [00:00<00:00,  4.35it/s]\n"
     ]
    },
    {
     "name": "stdout",
     "output_type": "stream",
     "text": [
      "    62/191...\n"
     ]
    },
    {
     "name": "stderr",
     "output_type": "stream",
     "text": [
      "100%|█████████████████████████████████████████████| 5/5 [00:01<00:00,  4.28it/s]\n"
     ]
    },
    {
     "name": "stdout",
     "output_type": "stream",
     "text": [
      "    63/191...\n"
     ]
    },
    {
     "name": "stderr",
     "output_type": "stream",
     "text": [
      "100%|█████████████████████████████████████████████| 4/4 [00:00<00:00,  4.22it/s]\n"
     ]
    },
    {
     "name": "stdout",
     "output_type": "stream",
     "text": [
      "    64/191...\n"
     ]
    },
    {
     "name": "stderr",
     "output_type": "stream",
     "text": [
      "100%|█████████████████████████████████████████████| 2/2 [00:00<00:00,  3.39it/s]\n"
     ]
    },
    {
     "name": "stdout",
     "output_type": "stream",
     "text": [
      "    65/191...\n"
     ]
    },
    {
     "name": "stderr",
     "output_type": "stream",
     "text": [
      "100%|█████████████████████████████████████████████| 1/1 [00:00<00:00,  4.89it/s]\n"
     ]
    },
    {
     "name": "stdout",
     "output_type": "stream",
     "text": [
      "    66/191...\n"
     ]
    },
    {
     "name": "stderr",
     "output_type": "stream",
     "text": [
      "100%|█████████████████████████████████████████████| 3/3 [00:00<00:00,  4.09it/s]\n"
     ]
    },
    {
     "name": "stdout",
     "output_type": "stream",
     "text": [
      "    67/191...\n"
     ]
    },
    {
     "name": "stderr",
     "output_type": "stream",
     "text": [
      "100%|█████████████████████████████████████████████| 4/4 [00:00<00:00,  4.49it/s]\n"
     ]
    },
    {
     "name": "stdout",
     "output_type": "stream",
     "text": [
      "    68/191...\n"
     ]
    },
    {
     "name": "stderr",
     "output_type": "stream",
     "text": [
      "100%|█████████████████████████████████████████████| 4/4 [00:00<00:00,  4.06it/s]\n"
     ]
    },
    {
     "name": "stdout",
     "output_type": "stream",
     "text": [
      "    69/191...\n"
     ]
    },
    {
     "name": "stderr",
     "output_type": "stream",
     "text": [
      "100%|█████████████████████████████████████████████| 4/4 [00:00<00:00,  4.23it/s]\n"
     ]
    },
    {
     "name": "stdout",
     "output_type": "stream",
     "text": [
      "    70/191...\n"
     ]
    },
    {
     "name": "stderr",
     "output_type": "stream",
     "text": [
      "100%|█████████████████████████████████████████████| 5/5 [00:02<00:00,  2.47it/s]\n"
     ]
    },
    {
     "name": "stdout",
     "output_type": "stream",
     "text": [
      "    71/191...\n"
     ]
    },
    {
     "name": "stderr",
     "output_type": "stream",
     "text": [
      "100%|█████████████████████████████████████████████| 3/3 [00:00<00:00,  4.13it/s]\n"
     ]
    },
    {
     "name": "stdout",
     "output_type": "stream",
     "text": [
      "    72/191...\n"
     ]
    },
    {
     "name": "stderr",
     "output_type": "stream",
     "text": [
      "100%|█████████████████████████████████████████████| 4/4 [00:00<00:00,  5.85it/s]\n"
     ]
    },
    {
     "name": "stdout",
     "output_type": "stream",
     "text": [
      "    73/191...\n"
     ]
    },
    {
     "name": "stderr",
     "output_type": "stream",
     "text": [
      "100%|█████████████████████████████████████████████| 4/4 [00:00<00:00,  5.27it/s]\n"
     ]
    },
    {
     "name": "stdout",
     "output_type": "stream",
     "text": [
      "    74/191...\n"
     ]
    },
    {
     "name": "stderr",
     "output_type": "stream",
     "text": [
      "100%|█████████████████████████████████████████████| 4/4 [00:01<00:00,  3.80it/s]\n"
     ]
    },
    {
     "name": "stdout",
     "output_type": "stream",
     "text": [
      "    75/191...\n"
     ]
    },
    {
     "name": "stderr",
     "output_type": "stream",
     "text": [
      "100%|█████████████████████████████████████████████| 3/3 [00:00<00:00,  4.29it/s]\n"
     ]
    },
    {
     "name": "stdout",
     "output_type": "stream",
     "text": [
      "    76/191...\n"
     ]
    },
    {
     "name": "stderr",
     "output_type": "stream",
     "text": [
      "100%|█████████████████████████████████████████████| 4/4 [00:00<00:00,  4.31it/s]\n"
     ]
    },
    {
     "name": "stdout",
     "output_type": "stream",
     "text": [
      "    77/191...\n"
     ]
    },
    {
     "name": "stderr",
     "output_type": "stream",
     "text": [
      "100%|█████████████████████████████████████████████| 4/4 [00:00<00:00,  4.21it/s]\n"
     ]
    },
    {
     "name": "stdout",
     "output_type": "stream",
     "text": [
      "    78/191...\n"
     ]
    },
    {
     "name": "stderr",
     "output_type": "stream",
     "text": [
      "100%|█████████████████████████████████████████████| 4/4 [00:00<00:00,  4.37it/s]\n"
     ]
    },
    {
     "name": "stdout",
     "output_type": "stream",
     "text": [
      "    79/191...\n"
     ]
    },
    {
     "name": "stderr",
     "output_type": "stream",
     "text": [
      "100%|█████████████████████████████████████████████| 1/1 [00:00<00:00,  5.46it/s]\n"
     ]
    },
    {
     "name": "stdout",
     "output_type": "stream",
     "text": [
      "    80/191...\n"
     ]
    },
    {
     "name": "stderr",
     "output_type": "stream",
     "text": [
      "100%|█████████████████████████████████████████████| 2/2 [00:00<00:00,  4.62it/s]\n"
     ]
    },
    {
     "name": "stdout",
     "output_type": "stream",
     "text": [
      "    81/191...\n"
     ]
    },
    {
     "name": "stderr",
     "output_type": "stream",
     "text": [
      "100%|█████████████████████████████████████████████| 4/4 [00:00<00:00, 13.78it/s]\n"
     ]
    },
    {
     "name": "stdout",
     "output_type": "stream",
     "text": [
      "    82/191...\n"
     ]
    },
    {
     "name": "stderr",
     "output_type": "stream",
     "text": [
      "100%|█████████████████████████████████████████████| 4/4 [00:00<00:00,  5.85it/s]\n"
     ]
    },
    {
     "name": "stdout",
     "output_type": "stream",
     "text": [
      "    83/191...\n"
     ]
    },
    {
     "name": "stderr",
     "output_type": "stream",
     "text": [
      "100%|█████████████████████████████████████████████| 4/4 [00:00<00:00,  5.68it/s]\n"
     ]
    },
    {
     "name": "stdout",
     "output_type": "stream",
     "text": [
      "    84/191...\n"
     ]
    },
    {
     "name": "stderr",
     "output_type": "stream",
     "text": [
      "100%|█████████████████████████████████████████████| 4/4 [00:00<00:00,  6.53it/s]\n"
     ]
    },
    {
     "name": "stdout",
     "output_type": "stream",
     "text": [
      "    85/191...\n"
     ]
    },
    {
     "name": "stderr",
     "output_type": "stream",
     "text": [
      "100%|█████████████████████████████████████████████| 1/1 [00:00<00:00,  5.46it/s]\n"
     ]
    },
    {
     "name": "stdout",
     "output_type": "stream",
     "text": [
      "    86/191...\n"
     ]
    },
    {
     "name": "stderr",
     "output_type": "stream",
     "text": [
      "100%|█████████████████████████████████████████████| 3/3 [00:00<00:00, 10.01it/s]\n"
     ]
    },
    {
     "name": "stdout",
     "output_type": "stream",
     "text": [
      "    87/191...\n"
     ]
    },
    {
     "name": "stderr",
     "output_type": "stream",
     "text": [
      "100%|█████████████████████████████████████████████| 4/4 [00:00<00:00,  6.99it/s]\n"
     ]
    },
    {
     "name": "stdout",
     "output_type": "stream",
     "text": [
      "    88/191...\n"
     ]
    },
    {
     "name": "stderr",
     "output_type": "stream",
     "text": [
      "100%|█████████████████████████████████████████████| 4/4 [00:00<00:00,  9.32it/s]\n"
     ]
    },
    {
     "name": "stdout",
     "output_type": "stream",
     "text": [
      "    89/191...\n"
     ]
    },
    {
     "name": "stderr",
     "output_type": "stream",
     "text": [
      "100%|█████████████████████████████████████████████| 4/4 [00:00<00:00,  5.16it/s]\n"
     ]
    },
    {
     "name": "stdout",
     "output_type": "stream",
     "text": [
      "    90/191...\n"
     ]
    },
    {
     "name": "stderr",
     "output_type": "stream",
     "text": [
      "100%|█████████████████████████████████████████████| 2/2 [00:00<00:00,  5.64it/s]\n"
     ]
    },
    {
     "name": "stdout",
     "output_type": "stream",
     "text": [
      "    91/191...\n"
     ]
    },
    {
     "name": "stderr",
     "output_type": "stream",
     "text": [
      "100%|█████████████████████████████████████████████| 4/4 [00:00<00:00,  6.04it/s]\n"
     ]
    },
    {
     "name": "stdout",
     "output_type": "stream",
     "text": [
      "    92/191...\n"
     ]
    },
    {
     "name": "stderr",
     "output_type": "stream",
     "text": [
      "100%|█████████████████████████████████████████████| 3/3 [00:00<00:00,  5.37it/s]\n"
     ]
    },
    {
     "name": "stdout",
     "output_type": "stream",
     "text": [
      "    93/191...\n"
     ]
    },
    {
     "name": "stderr",
     "output_type": "stream",
     "text": [
      "100%|█████████████████████████████████████████████| 4/4 [00:00<00:00,  5.39it/s]\n"
     ]
    },
    {
     "name": "stdout",
     "output_type": "stream",
     "text": [
      "    94/191...\n"
     ]
    },
    {
     "name": "stderr",
     "output_type": "stream",
     "text": [
      "100%|█████████████████████████████████████████████| 4/4 [00:00<00:00, 10.51it/s]\n"
     ]
    },
    {
     "name": "stdout",
     "output_type": "stream",
     "text": [
      "    95/191...\n"
     ]
    },
    {
     "name": "stderr",
     "output_type": "stream",
     "text": [
      "100%|█████████████████████████████████████████████| 4/4 [00:00<00:00,  4.75it/s]\n"
     ]
    },
    {
     "name": "stdout",
     "output_type": "stream",
     "text": [
      "    96/191...\n"
     ]
    },
    {
     "name": "stderr",
     "output_type": "stream",
     "text": [
      "100%|█████████████████████████████████████████████| 4/4 [00:00<00:00,  8.75it/s]\n"
     ]
    },
    {
     "name": "stdout",
     "output_type": "stream",
     "text": [
      "    97/191...\n"
     ]
    },
    {
     "name": "stderr",
     "output_type": "stream",
     "text": [
      "100%|█████████████████████████████████████████████| 4/4 [00:00<00:00, 11.73it/s]\n"
     ]
    },
    {
     "name": "stdout",
     "output_type": "stream",
     "text": [
      "    98/191...\n"
     ]
    },
    {
     "name": "stderr",
     "output_type": "stream",
     "text": [
      "100%|█████████████████████████████████████████████| 4/4 [00:00<00:00,  8.29it/s]\n"
     ]
    },
    {
     "name": "stdout",
     "output_type": "stream",
     "text": [
      "    99/191...\n"
     ]
    },
    {
     "name": "stderr",
     "output_type": "stream",
     "text": [
      "100%|█████████████████████████████████████████████| 4/4 [00:00<00:00,  6.22it/s]\n"
     ]
    },
    {
     "name": "stdout",
     "output_type": "stream",
     "text": [
      "    100/191...\n"
     ]
    },
    {
     "name": "stderr",
     "output_type": "stream",
     "text": [
      "100%|█████████████████████████████████████████████| 3/3 [00:00<00:00,  6.26it/s]\n"
     ]
    },
    {
     "name": "stdout",
     "output_type": "stream",
     "text": [
      "    101/191...\n"
     ]
    },
    {
     "name": "stderr",
     "output_type": "stream",
     "text": [
      "100%|█████████████████████████████████████████████| 4/4 [00:00<00:00,  6.54it/s]\n"
     ]
    },
    {
     "name": "stdout",
     "output_type": "stream",
     "text": [
      "    102/191...\n"
     ]
    },
    {
     "name": "stderr",
     "output_type": "stream",
     "text": [
      "100%|█████████████████████████████████████████████| 4/4 [00:00<00:00,  6.13it/s]\n"
     ]
    },
    {
     "name": "stdout",
     "output_type": "stream",
     "text": [
      "    103/191...\n"
     ]
    },
    {
     "name": "stderr",
     "output_type": "stream",
     "text": [
      "100%|█████████████████████████████████████████████| 4/4 [00:00<00:00,  5.64it/s]\n"
     ]
    },
    {
     "name": "stdout",
     "output_type": "stream",
     "text": [
      "    104/191...\n"
     ]
    },
    {
     "name": "stderr",
     "output_type": "stream",
     "text": [
      "100%|█████████████████████████████████████████████| 4/4 [00:00<00:00, 13.59it/s]\n"
     ]
    },
    {
     "name": "stdout",
     "output_type": "stream",
     "text": [
      "    105/191...\n"
     ]
    },
    {
     "name": "stderr",
     "output_type": "stream",
     "text": [
      "100%|█████████████████████████████████████████████| 4/4 [00:00<00:00,  6.07it/s]\n"
     ]
    },
    {
     "name": "stdout",
     "output_type": "stream",
     "text": [
      "    106/191...\n"
     ]
    },
    {
     "name": "stderr",
     "output_type": "stream",
     "text": [
      "100%|█████████████████████████████████████████████| 4/4 [00:00<00:00,  5.07it/s]\n"
     ]
    },
    {
     "name": "stdout",
     "output_type": "stream",
     "text": [
      "    107/191...\n"
     ]
    },
    {
     "name": "stderr",
     "output_type": "stream",
     "text": [
      "100%|█████████████████████████████████████████████| 4/4 [00:00<00:00,  8.87it/s]\n"
     ]
    },
    {
     "name": "stdout",
     "output_type": "stream",
     "text": [
      "    108/191...\n"
     ]
    },
    {
     "name": "stderr",
     "output_type": "stream",
     "text": [
      "100%|█████████████████████████████████████████████| 2/2 [00:00<00:00,  5.10it/s]\n"
     ]
    },
    {
     "name": "stdout",
     "output_type": "stream",
     "text": [
      "    109/191...\n"
     ]
    },
    {
     "name": "stderr",
     "output_type": "stream",
     "text": [
      "100%|█████████████████████████████████████████████| 4/4 [00:00<00:00,  8.53it/s]\n"
     ]
    },
    {
     "name": "stdout",
     "output_type": "stream",
     "text": [
      "    110/191...\n"
     ]
    },
    {
     "name": "stderr",
     "output_type": "stream",
     "text": [
      "100%|█████████████████████████████████████████████| 4/4 [00:00<00:00,  9.11it/s]\n"
     ]
    },
    {
     "name": "stdout",
     "output_type": "stream",
     "text": [
      "    111/191...\n"
     ]
    },
    {
     "name": "stderr",
     "output_type": "stream",
     "text": [
      "100%|█████████████████████████████████████████████| 4/4 [00:00<00:00,  7.12it/s]\n"
     ]
    },
    {
     "name": "stdout",
     "output_type": "stream",
     "text": [
      "    112/191...\n"
     ]
    },
    {
     "name": "stderr",
     "output_type": "stream",
     "text": [
      "100%|█████████████████████████████████████████████| 1/1 [00:00<00:00,  6.36it/s]\n"
     ]
    },
    {
     "name": "stdout",
     "output_type": "stream",
     "text": [
      "    113/191...\n"
     ]
    },
    {
     "name": "stderr",
     "output_type": "stream",
     "text": [
      "100%|█████████████████████████████████████████████| 4/4 [00:00<00:00,  9.37it/s]\n"
     ]
    },
    {
     "name": "stdout",
     "output_type": "stream",
     "text": [
      "    114/191...\n"
     ]
    },
    {
     "name": "stderr",
     "output_type": "stream",
     "text": [
      "100%|█████████████████████████████████████████████| 2/2 [00:00<00:00,  4.38it/s]\n"
     ]
    },
    {
     "name": "stdout",
     "output_type": "stream",
     "text": [
      "    115/191...\n"
     ]
    },
    {
     "name": "stderr",
     "output_type": "stream",
     "text": [
      "100%|█████████████████████████████████████████████| 4/4 [00:00<00:00,  9.18it/s]\n"
     ]
    },
    {
     "name": "stdout",
     "output_type": "stream",
     "text": [
      "    116/191...\n"
     ]
    },
    {
     "name": "stderr",
     "output_type": "stream",
     "text": [
      "100%|█████████████████████████████████████████████| 1/1 [00:00<00:00,  8.61it/s]\n"
     ]
    },
    {
     "name": "stdout",
     "output_type": "stream",
     "text": [
      "    117/191...\n"
     ]
    },
    {
     "name": "stderr",
     "output_type": "stream",
     "text": [
      "100%|█████████████████████████████████████████████| 4/4 [00:00<00:00,  6.91it/s]\n"
     ]
    },
    {
     "name": "stdout",
     "output_type": "stream",
     "text": [
      "    118/191...\n"
     ]
    },
    {
     "name": "stderr",
     "output_type": "stream",
     "text": [
      "100%|█████████████████████████████████████████████| 4/4 [00:00<00:00,  5.87it/s]\n"
     ]
    },
    {
     "name": "stdout",
     "output_type": "stream",
     "text": [
      "    119/191...\n"
     ]
    },
    {
     "name": "stderr",
     "output_type": "stream",
     "text": [
      "100%|█████████████████████████████████████████████| 4/4 [00:00<00:00,  8.64it/s]\n"
     ]
    },
    {
     "name": "stdout",
     "output_type": "stream",
     "text": [
      "    120/191...\n"
     ]
    },
    {
     "name": "stderr",
     "output_type": "stream",
     "text": [
      "100%|█████████████████████████████████████████████| 4/4 [00:00<00:00,  5.39it/s]\n"
     ]
    },
    {
     "name": "stdout",
     "output_type": "stream",
     "text": [
      "    121/191...\n"
     ]
    },
    {
     "name": "stderr",
     "output_type": "stream",
     "text": [
      "100%|█████████████████████████████████████████████| 3/3 [00:00<00:00,  5.60it/s]\n"
     ]
    },
    {
     "name": "stdout",
     "output_type": "stream",
     "text": [
      "    122/191...\n"
     ]
    },
    {
     "name": "stderr",
     "output_type": "stream",
     "text": [
      "100%|█████████████████████████████████████████████| 4/4 [00:00<00:00, 11.97it/s]\n"
     ]
    },
    {
     "name": "stdout",
     "output_type": "stream",
     "text": [
      "    123/191...\n"
     ]
    },
    {
     "name": "stderr",
     "output_type": "stream",
     "text": [
      "100%|█████████████████████████████████████████████| 2/2 [00:00<00:00,  6.01it/s]\n"
     ]
    },
    {
     "name": "stdout",
     "output_type": "stream",
     "text": [
      "    124/191...\n"
     ]
    },
    {
     "name": "stderr",
     "output_type": "stream",
     "text": [
      "100%|█████████████████████████████████████████████| 4/4 [00:00<00:00,  6.75it/s]\n"
     ]
    },
    {
     "name": "stdout",
     "output_type": "stream",
     "text": [
      "    125/191...\n"
     ]
    },
    {
     "name": "stderr",
     "output_type": "stream",
     "text": [
      "100%|█████████████████████████████████████████████| 4/4 [00:00<00:00,  8.02it/s]\n"
     ]
    },
    {
     "name": "stdout",
     "output_type": "stream",
     "text": [
      "    126/191...\n"
     ]
    },
    {
     "name": "stderr",
     "output_type": "stream",
     "text": [
      "100%|█████████████████████████████████████████████| 4/4 [00:00<00:00,  6.02it/s]\n"
     ]
    },
    {
     "name": "stdout",
     "output_type": "stream",
     "text": [
      "    127/191...\n"
     ]
    },
    {
     "name": "stderr",
     "output_type": "stream",
     "text": [
      "100%|█████████████████████████████████████████████| 2/2 [00:00<00:00, 10.55it/s]\n"
     ]
    },
    {
     "name": "stdout",
     "output_type": "stream",
     "text": [
      "    128/191...\n"
     ]
    },
    {
     "name": "stderr",
     "output_type": "stream",
     "text": [
      "100%|█████████████████████████████████████████████| 4/4 [00:00<00:00,  5.36it/s]\n"
     ]
    },
    {
     "name": "stdout",
     "output_type": "stream",
     "text": [
      "    129/191...\n"
     ]
    },
    {
     "name": "stderr",
     "output_type": "stream",
     "text": [
      "100%|█████████████████████████████████████████████| 3/3 [00:00<00:00,  5.68it/s]\n"
     ]
    },
    {
     "name": "stdout",
     "output_type": "stream",
     "text": [
      "    130/191...\n"
     ]
    },
    {
     "name": "stderr",
     "output_type": "stream",
     "text": [
      "100%|█████████████████████████████████████████████| 4/4 [00:00<00:00,  7.54it/s]\n"
     ]
    },
    {
     "name": "stdout",
     "output_type": "stream",
     "text": [
      "    131/191...\n"
     ]
    },
    {
     "name": "stderr",
     "output_type": "stream",
     "text": [
      "100%|█████████████████████████████████████████████| 2/2 [00:00<00:00,  6.08it/s]\n"
     ]
    },
    {
     "name": "stdout",
     "output_type": "stream",
     "text": [
      "    132/191...\n"
     ]
    },
    {
     "name": "stderr",
     "output_type": "stream",
     "text": [
      "100%|█████████████████████████████████████████████| 4/4 [00:00<00:00,  5.38it/s]\n"
     ]
    },
    {
     "name": "stdout",
     "output_type": "stream",
     "text": [
      "    133/191...\n"
     ]
    },
    {
     "name": "stderr",
     "output_type": "stream",
     "text": [
      "100%|█████████████████████████████████████████████| 4/4 [00:00<00:00,  9.45it/s]\n"
     ]
    },
    {
     "name": "stdout",
     "output_type": "stream",
     "text": [
      "    134/191...\n"
     ]
    },
    {
     "name": "stderr",
     "output_type": "stream",
     "text": [
      "100%|█████████████████████████████████████████████| 4/4 [00:00<00:00,  5.73it/s]\n"
     ]
    },
    {
     "name": "stdout",
     "output_type": "stream",
     "text": [
      "    135/191...\n"
     ]
    },
    {
     "name": "stderr",
     "output_type": "stream",
     "text": [
      "100%|█████████████████████████████████████████████| 2/2 [00:00<00:00,  5.57it/s]\n"
     ]
    },
    {
     "name": "stdout",
     "output_type": "stream",
     "text": [
      "    136/191...\n"
     ]
    },
    {
     "name": "stderr",
     "output_type": "stream",
     "text": [
      "100%|█████████████████████████████████████████████| 4/4 [00:00<00:00,  5.53it/s]\n"
     ]
    },
    {
     "name": "stdout",
     "output_type": "stream",
     "text": [
      "    137/191...\n"
     ]
    },
    {
     "name": "stderr",
     "output_type": "stream",
     "text": [
      "100%|█████████████████████████████████████████████| 2/2 [00:00<00:00,  5.04it/s]\n"
     ]
    },
    {
     "name": "stdout",
     "output_type": "stream",
     "text": [
      "    138/191...\n"
     ]
    },
    {
     "name": "stderr",
     "output_type": "stream",
     "text": [
      "100%|█████████████████████████████████████████████| 4/4 [00:00<00:00,  7.02it/s]\n"
     ]
    },
    {
     "name": "stdout",
     "output_type": "stream",
     "text": [
      "    139/191...\n"
     ]
    },
    {
     "name": "stderr",
     "output_type": "stream",
     "text": [
      "100%|█████████████████████████████████████████████| 4/4 [00:00<00:00,  9.24it/s]\n"
     ]
    },
    {
     "name": "stdout",
     "output_type": "stream",
     "text": [
      "    140/191...\n"
     ]
    },
    {
     "name": "stderr",
     "output_type": "stream",
     "text": [
      "100%|█████████████████████████████████████████████| 4/4 [00:00<00:00, 11.02it/s]\n"
     ]
    },
    {
     "name": "stdout",
     "output_type": "stream",
     "text": [
      "    141/191...\n"
     ]
    },
    {
     "name": "stderr",
     "output_type": "stream",
     "text": [
      "100%|█████████████████████████████████████████████| 4/4 [00:00<00:00,  5.89it/s]\n"
     ]
    },
    {
     "name": "stdout",
     "output_type": "stream",
     "text": [
      "    142/191...\n"
     ]
    },
    {
     "name": "stderr",
     "output_type": "stream",
     "text": [
      "100%|█████████████████████████████████████████████| 3/3 [00:00<00:00,  4.95it/s]\n"
     ]
    },
    {
     "name": "stdout",
     "output_type": "stream",
     "text": [
      "    143/191...\n"
     ]
    },
    {
     "name": "stderr",
     "output_type": "stream",
     "text": [
      "100%|█████████████████████████████████████████████| 4/4 [00:00<00:00,  5.60it/s]\n"
     ]
    },
    {
     "name": "stdout",
     "output_type": "stream",
     "text": [
      "    144/191...\n"
     ]
    },
    {
     "name": "stderr",
     "output_type": "stream",
     "text": [
      "100%|█████████████████████████████████████████████| 4/4 [00:00<00:00,  5.63it/s]\n"
     ]
    },
    {
     "name": "stdout",
     "output_type": "stream",
     "text": [
      "    145/191...\n"
     ]
    },
    {
     "name": "stderr",
     "output_type": "stream",
     "text": [
      "100%|█████████████████████████████████████████████| 4/4 [00:00<00:00,  6.66it/s]\n"
     ]
    },
    {
     "name": "stdout",
     "output_type": "stream",
     "text": [
      "    146/191...\n"
     ]
    },
    {
     "name": "stderr",
     "output_type": "stream",
     "text": [
      "100%|█████████████████████████████████████████████| 4/4 [00:00<00:00,  5.54it/s]\n"
     ]
    },
    {
     "name": "stdout",
     "output_type": "stream",
     "text": [
      "    147/191...\n"
     ]
    },
    {
     "name": "stderr",
     "output_type": "stream",
     "text": [
      "100%|█████████████████████████████████████████████| 4/4 [00:00<00:00,  6.20it/s]\n"
     ]
    },
    {
     "name": "stdout",
     "output_type": "stream",
     "text": [
      "    148/191...\n"
     ]
    },
    {
     "name": "stderr",
     "output_type": "stream",
     "text": [
      "100%|█████████████████████████████████████████████| 4/4 [00:00<00:00,  8.65it/s]\n"
     ]
    },
    {
     "name": "stdout",
     "output_type": "stream",
     "text": [
      "    149/191...\n"
     ]
    },
    {
     "name": "stderr",
     "output_type": "stream",
     "text": [
      "100%|█████████████████████████████████████████████| 4/4 [00:00<00:00,  9.09it/s]\n"
     ]
    },
    {
     "name": "stdout",
     "output_type": "stream",
     "text": [
      "    150/191...\n"
     ]
    },
    {
     "name": "stderr",
     "output_type": "stream",
     "text": [
      "100%|█████████████████████████████████████████████| 4/4 [00:00<00:00,  5.92it/s]\n"
     ]
    },
    {
     "name": "stdout",
     "output_type": "stream",
     "text": [
      "    151/191...\n"
     ]
    },
    {
     "name": "stderr",
     "output_type": "stream",
     "text": [
      "100%|█████████████████████████████████████████████| 4/4 [00:00<00:00,  5.77it/s]\n"
     ]
    },
    {
     "name": "stdout",
     "output_type": "stream",
     "text": [
      "    152/191...\n"
     ]
    },
    {
     "name": "stderr",
     "output_type": "stream",
     "text": [
      "100%|█████████████████████████████████████████████| 3/3 [00:00<00:00,  5.11it/s]\n"
     ]
    },
    {
     "name": "stdout",
     "output_type": "stream",
     "text": [
      "    153/191...\n"
     ]
    },
    {
     "name": "stderr",
     "output_type": "stream",
     "text": [
      "100%|█████████████████████████████████████████████| 4/4 [00:00<00:00, 13.97it/s]\n"
     ]
    },
    {
     "name": "stdout",
     "output_type": "stream",
     "text": [
      "    154/191...\n"
     ]
    },
    {
     "name": "stderr",
     "output_type": "stream",
     "text": [
      "100%|█████████████████████████████████████████████| 4/4 [00:00<00:00,  5.55it/s]\n"
     ]
    },
    {
     "name": "stdout",
     "output_type": "stream",
     "text": [
      "    155/191...\n"
     ]
    },
    {
     "name": "stderr",
     "output_type": "stream",
     "text": [
      "100%|█████████████████████████████████████████████| 2/2 [00:00<00:00,  5.79it/s]\n"
     ]
    },
    {
     "name": "stdout",
     "output_type": "stream",
     "text": [
      "    156/191...\n"
     ]
    },
    {
     "name": "stderr",
     "output_type": "stream",
     "text": [
      "100%|█████████████████████████████████████████████| 3/3 [00:00<00:00,  4.84it/s]\n"
     ]
    },
    {
     "name": "stdout",
     "output_type": "stream",
     "text": [
      "    157/191...\n"
     ]
    },
    {
     "name": "stderr",
     "output_type": "stream",
     "text": [
      "100%|█████████████████████████████████████████████| 2/2 [00:00<00:00,  5.54it/s]\n"
     ]
    },
    {
     "name": "stdout",
     "output_type": "stream",
     "text": [
      "    158/191...\n"
     ]
    },
    {
     "name": "stderr",
     "output_type": "stream",
     "text": [
      "100%|█████████████████████████████████████████████| 4/4 [00:00<00:00, 11.00it/s]\n"
     ]
    },
    {
     "name": "stdout",
     "output_type": "stream",
     "text": [
      "    159/191...\n"
     ]
    },
    {
     "name": "stderr",
     "output_type": "stream",
     "text": [
      "100%|█████████████████████████████████████████████| 4/4 [00:00<00:00,  8.57it/s]\n"
     ]
    },
    {
     "name": "stdout",
     "output_type": "stream",
     "text": [
      "    160/191...\n"
     ]
    },
    {
     "name": "stderr",
     "output_type": "stream",
     "text": [
      "100%|█████████████████████████████████████████████| 4/4 [00:00<00:00,  5.34it/s]\n"
     ]
    },
    {
     "name": "stdout",
     "output_type": "stream",
     "text": [
      "    161/191...\n"
     ]
    },
    {
     "name": "stderr",
     "output_type": "stream",
     "text": [
      "100%|█████████████████████████████████████████████| 4/4 [00:00<00:00,  5.59it/s]\n"
     ]
    },
    {
     "name": "stdout",
     "output_type": "stream",
     "text": [
      "    162/191...\n"
     ]
    },
    {
     "name": "stderr",
     "output_type": "stream",
     "text": [
      "100%|█████████████████████████████████████████████| 4/4 [00:00<00:00,  6.00it/s]\n"
     ]
    },
    {
     "name": "stdout",
     "output_type": "stream",
     "text": [
      "    163/191...\n"
     ]
    },
    {
     "name": "stderr",
     "output_type": "stream",
     "text": [
      "100%|█████████████████████████████████████████████| 4/4 [00:00<00:00,  5.87it/s]\n"
     ]
    },
    {
     "name": "stdout",
     "output_type": "stream",
     "text": [
      "    164/191...\n"
     ]
    },
    {
     "name": "stderr",
     "output_type": "stream",
     "text": [
      "100%|█████████████████████████████████████████████| 4/4 [00:00<00:00,  7.67it/s]\n"
     ]
    },
    {
     "name": "stdout",
     "output_type": "stream",
     "text": [
      "    165/191...\n"
     ]
    },
    {
     "name": "stderr",
     "output_type": "stream",
     "text": [
      "100%|█████████████████████████████████████████████| 4/4 [00:00<00:00,  5.70it/s]\n"
     ]
    },
    {
     "name": "stdout",
     "output_type": "stream",
     "text": [
      "    166/191...\n"
     ]
    },
    {
     "name": "stderr",
     "output_type": "stream",
     "text": [
      "100%|█████████████████████████████████████████████| 3/3 [00:00<00:00, 11.48it/s]\n"
     ]
    },
    {
     "name": "stdout",
     "output_type": "stream",
     "text": [
      "    167/191...\n"
     ]
    },
    {
     "name": "stderr",
     "output_type": "stream",
     "text": [
      "100%|█████████████████████████████████████████████| 2/2 [00:00<00:00,  4.67it/s]\n"
     ]
    },
    {
     "name": "stdout",
     "output_type": "stream",
     "text": [
      "    168/191...\n"
     ]
    },
    {
     "name": "stderr",
     "output_type": "stream",
     "text": [
      "100%|█████████████████████████████████████████████| 1/1 [00:00<00:00,  4.27it/s]\n"
     ]
    },
    {
     "name": "stdout",
     "output_type": "stream",
     "text": [
      "    169/191...\n"
     ]
    },
    {
     "name": "stderr",
     "output_type": "stream",
     "text": [
      "100%|█████████████████████████████████████████████| 4/4 [00:00<00:00,  5.85it/s]\n"
     ]
    },
    {
     "name": "stdout",
     "output_type": "stream",
     "text": [
      "    170/191...\n"
     ]
    },
    {
     "name": "stderr",
     "output_type": "stream",
     "text": [
      "100%|█████████████████████████████████████████████| 1/1 [00:00<00:00,  8.36it/s]\n"
     ]
    },
    {
     "name": "stdout",
     "output_type": "stream",
     "text": [
      "    171/191...\n"
     ]
    },
    {
     "name": "stderr",
     "output_type": "stream",
     "text": [
      "100%|█████████████████████████████████████████████| 4/4 [00:00<00:00,  5.18it/s]\n"
     ]
    },
    {
     "name": "stdout",
     "output_type": "stream",
     "text": [
      "    172/191...\n"
     ]
    },
    {
     "name": "stderr",
     "output_type": "stream",
     "text": [
      "100%|█████████████████████████████████████████████| 2/2 [00:00<00:00,  5.55it/s]\n"
     ]
    },
    {
     "name": "stdout",
     "output_type": "stream",
     "text": [
      "    173/191...\n"
     ]
    },
    {
     "name": "stderr",
     "output_type": "stream",
     "text": [
      "100%|█████████████████████████████████████████████| 4/4 [00:00<00:00,  5.52it/s]\n"
     ]
    },
    {
     "name": "stdout",
     "output_type": "stream",
     "text": [
      "    174/191...\n"
     ]
    },
    {
     "name": "stderr",
     "output_type": "stream",
     "text": [
      "100%|█████████████████████████████████████████████| 2/2 [00:00<00:00,  5.32it/s]\n"
     ]
    },
    {
     "name": "stdout",
     "output_type": "stream",
     "text": [
      "    175/191...\n"
     ]
    },
    {
     "name": "stderr",
     "output_type": "stream",
     "text": [
      "100%|█████████████████████████████████████████████| 2/2 [00:00<00:00,  5.93it/s]\n"
     ]
    },
    {
     "name": "stdout",
     "output_type": "stream",
     "text": [
      "    176/191...\n"
     ]
    },
    {
     "name": "stderr",
     "output_type": "stream",
     "text": [
      "100%|█████████████████████████████████████████████| 4/4 [00:00<00:00,  6.99it/s]\n"
     ]
    },
    {
     "name": "stdout",
     "output_type": "stream",
     "text": [
      "    177/191...\n"
     ]
    },
    {
     "name": "stderr",
     "output_type": "stream",
     "text": [
      "100%|█████████████████████████████████████████████| 4/4 [00:00<00:00,  6.45it/s]\n"
     ]
    },
    {
     "name": "stdout",
     "output_type": "stream",
     "text": [
      "    178/191...\n"
     ]
    },
    {
     "name": "stderr",
     "output_type": "stream",
     "text": [
      "100%|█████████████████████████████████████████████| 4/4 [00:00<00:00,  6.74it/s]\n"
     ]
    },
    {
     "name": "stdout",
     "output_type": "stream",
     "text": [
      "    179/191...\n"
     ]
    },
    {
     "name": "stderr",
     "output_type": "stream",
     "text": [
      "100%|█████████████████████████████████████████████| 4/4 [00:00<00:00,  6.49it/s]\n"
     ]
    },
    {
     "name": "stdout",
     "output_type": "stream",
     "text": [
      "    180/191...\n"
     ]
    },
    {
     "name": "stderr",
     "output_type": "stream",
     "text": [
      "100%|█████████████████████████████████████████████| 1/1 [00:00<00:00,  6.39it/s]\n"
     ]
    },
    {
     "name": "stdout",
     "output_type": "stream",
     "text": [
      "    181/191...\n"
     ]
    },
    {
     "name": "stderr",
     "output_type": "stream",
     "text": [
      "100%|█████████████████████████████████████████████| 4/4 [00:00<00:00,  6.37it/s]\n"
     ]
    },
    {
     "name": "stdout",
     "output_type": "stream",
     "text": [
      "    182/191...\n"
     ]
    },
    {
     "name": "stderr",
     "output_type": "stream",
     "text": [
      "100%|█████████████████████████████████████████████| 4/4 [00:00<00:00,  7.05it/s]\n"
     ]
    },
    {
     "name": "stdout",
     "output_type": "stream",
     "text": [
      "    183/191...\n"
     ]
    },
    {
     "name": "stderr",
     "output_type": "stream",
     "text": [
      "100%|█████████████████████████████████████████████| 4/4 [00:00<00:00,  5.12it/s]\n"
     ]
    },
    {
     "name": "stdout",
     "output_type": "stream",
     "text": [
      "    184/191...\n"
     ]
    },
    {
     "name": "stderr",
     "output_type": "stream",
     "text": [
      "100%|█████████████████████████████████████████████| 4/4 [00:00<00:00,  7.67it/s]\n"
     ]
    },
    {
     "name": "stdout",
     "output_type": "stream",
     "text": [
      "    185/191...\n"
     ]
    },
    {
     "name": "stderr",
     "output_type": "stream",
     "text": [
      "100%|█████████████████████████████████████████████| 4/4 [00:00<00:00,  6.51it/s]\n"
     ]
    },
    {
     "name": "stdout",
     "output_type": "stream",
     "text": [
      "    186/191...\n"
     ]
    },
    {
     "name": "stderr",
     "output_type": "stream",
     "text": [
      "100%|█████████████████████████████████████████████| 2/2 [00:00<00:00,  5.10it/s]\n"
     ]
    },
    {
     "name": "stdout",
     "output_type": "stream",
     "text": [
      "    187/191...\n"
     ]
    },
    {
     "name": "stderr",
     "output_type": "stream",
     "text": [
      "100%|█████████████████████████████████████████████| 4/4 [00:00<00:00,  5.41it/s]\n"
     ]
    },
    {
     "name": "stdout",
     "output_type": "stream",
     "text": [
      "    188/191...\n"
     ]
    },
    {
     "name": "stderr",
     "output_type": "stream",
     "text": [
      "100%|█████████████████████████████████████████████| 2/2 [00:00<00:00,  5.04it/s]\n"
     ]
    },
    {
     "name": "stdout",
     "output_type": "stream",
     "text": [
      "    189/191...\n"
     ]
    },
    {
     "name": "stderr",
     "output_type": "stream",
     "text": [
      "100%|█████████████████████████████████████████████| 4/4 [00:00<00:00,  5.65it/s]\n"
     ]
    },
    {
     "name": "stdout",
     "output_type": "stream",
     "text": [
      "    190/191...\n"
     ]
    },
    {
     "name": "stderr",
     "output_type": "stream",
     "text": [
      "100%|█████████████████████████████████████████████| 4/4 [00:00<00:00,  6.31it/s]\n"
     ]
    },
    {
     "name": "stdout",
     "output_type": "stream",
     "text": [
      "    191/191...\n"
     ]
    },
    {
     "name": "stderr",
     "output_type": "stream",
     "text": [
      "100%|█████████████████████████████████████████████| 1/1 [00:00<00:00,  5.11it/s]\n"
     ]
    },
    {
     "name": "stdout",
     "output_type": "stream",
     "text": [
      "Done.\n"
     ]
    }
   ],
   "source": [
    "run_model(model_folder, test_folder, output_folder, allow_failures = True, verbose = 2)"
   ]
  },
  {
   "cell_type": "code",
   "execution_count": 67,
   "id": "247a6478",
   "metadata": {},
   "outputs": [],
   "source": [
    "from evaluate_model import *\n",
    "\n"
   ]
  },
  {
   "cell_type": "code",
   "execution_count": 68,
   "id": "b770afd6",
   "metadata": {
    "scrolled": false
   },
   "outputs": [
    {
     "name": "stdout",
     "output_type": "stream",
     "text": [
      "#Murmur scores\n",
      "AUROC,AUPRC,F-measure,Accuracy,Weighted Accuracy,Cost\n",
      "0.772,0.606,0.524,0.827,0.652,21107.696\n",
      "\n",
      "#Outcome scores\n",
      "AUROC,AUPRC,F-measure,Accuracy,Weighted Accuracy,Cost\n",
      "0.654,0.637,0.601,0.602,0.630,13195.486\n",
      "\n",
      "#Murmur scores (per class)\n",
      "Classes,Present,Unknown,Absent\n",
      "AUROC,0.935,0.500,0.881\n",
      "AUPRC,0.808,0.073,0.938\n",
      "F-measure,0.677,0.000,0.895\n",
      "Accuracy,0.553,0.000,0.986\n",
      "\n",
      "#Outcome scores (per class)\n",
      "Classes,Abnormal,Normal\n",
      "AUROC,0.654,0.654\n",
      "AUPRC,0.630,0.644\n",
      "F-measure,0.624,0.578\n",
      "Accuracy,0.643,0.559\n",
      "\n"
     ]
    }
   ],
   "source": [
    "murmur_scores, outcome_scores = evaluate_model(test_folder, output_folder)\n",
    "classes, auroc, auprc, auroc_classes, auprc_classes, f_measure, f_measure_classes, accuracy, accuracy_classes, weighted_accuracy, cost = murmur_scores\n",
    "murmur_output_string = 'AUROC,AUPRC,F-measure,Accuracy,Weighted Accuracy,Cost\\n{:.3f},{:.3f},{:.3f},{:.3f},{:.3f},{:.3f}\\n'.format(auroc, auprc, f_measure, accuracy, weighted_accuracy, cost)\n",
    "murmur_class_output_string = 'Classes,{}\\nAUROC,{}\\nAUPRC,{}\\nF-measure,{}\\nAccuracy,{}\\n'.format(\n",
    "    ','.join(classes),\n",
    "    ','.join('{:.3f}'.format(x) for x in auroc_classes),\n",
    "    ','.join('{:.3f}'.format(x) for x in auprc_classes),\n",
    "    ','.join('{:.3f}'.format(x) for x in f_measure_classes),\n",
    "    ','.join('{:.3f}'.format(x) for x in accuracy_classes))\n",
    "\n",
    "classes, auroc, auprc, auroc_classes, auprc_classes, f_measure, f_measure_classes, accuracy, accuracy_classes, weighted_accuracy, cost = outcome_scores\n",
    "outcome_output_string = 'AUROC,AUPRC,F-measure,Accuracy,Weighted Accuracy,Cost\\n{:.3f},{:.3f},{:.3f},{:.3f},{:.3f},{:.3f}\\n'.format(auroc, auprc, f_measure, accuracy, weighted_accuracy, cost)\n",
    "outcome_class_output_string = 'Classes,{}\\nAUROC,{}\\nAUPRC,{}\\nF-measure,{}\\nAccuracy,{}\\n'.format(\n",
    "    ','.join(classes),\n",
    "    ','.join('{:.3f}'.format(x) for x in auroc_classes),\n",
    "    ','.join('{:.3f}'.format(x) for x in auprc_classes),\n",
    "    ','.join('{:.3f}'.format(x) for x in f_measure_classes),\n",
    "    ','.join('{:.3f}'.format(x) for x in accuracy_classes))\n",
    "\n",
    "output_string = '#Murmur scores\\n' + murmur_output_string + '\\n#Outcome scores\\n' + outcome_output_string \\\n",
    "    + '\\n#Murmur scores (per class)\\n' + murmur_class_output_string + '\\n#Outcome scores (per class)\\n' + outcome_class_output_string\n",
    "\n",
    "if len(sys.argv) == 3:\n",
    "    print(output_string)\n",
    "elif len(sys.argv) == 4:\n",
    "    with open(sys.argv[3], 'w') as f:\n",
    "        f.write(output_string)"
   ]
  },
  {
   "cell_type": "code",
   "execution_count": null,
   "id": "72a27458",
   "metadata": {},
   "outputs": [],
   "source": []
  },
  {
   "cell_type": "code",
   "execution_count": 69,
   "id": "4235c97d",
   "metadata": {},
   "outputs": [
    {
     "name": "stdout",
     "output_type": "stream",
     "text": [
      "0.26257582699285126\n",
      "0.7374241733582232\n",
      "0.6151841527816513\n",
      "0.38481584645768735\n"
     ]
    }
   ],
   "source": [
    "label_folder = test_folder\n",
    "murmur_classes = ['Present', 'Unknown', 'Absent']\n",
    "outcome_classes = ['Abnormal', 'Normal']\n",
    "\n",
    "# Load and parse label and model output files.\n",
    "label_files, output_files = find_challenge_files(label_folder, output_folder)\n",
    "murmur_labels = load_murmurs(label_files, murmur_classes)\n",
    "murmur_binary_outputs, murmur_scalar_outputs = load_classifier_outputs(output_files, murmur_classes)\n",
    "outcome_labels = load_outcomes(label_files, outcome_classes)\n",
    "outcome_binary_outputs, outcome_scalar_outputs = load_classifier_outputs(output_files, outcome_classes)\n",
    "\n",
    "\n",
    "print(np.mean(murmur_scalar_outputs[:,0]))\n",
    "print(np.mean(murmur_scalar_outputs[:,2]))\n",
    "print(np.mean(outcome_scalar_outputs[:,0]))\n",
    "print(np.mean(outcome_scalar_outputs[:,1]))"
   ]
  },
  {
   "cell_type": "code",
   "execution_count": 70,
   "id": "3fb59f7c",
   "metadata": {
    "scrolled": false
   },
   "outputs": [
    {
     "name": "stdout",
     "output_type": "stream",
     "text": [
      "threshold:  0.01\n",
      "#Murmur scores\n",
      "AUROC,AUPRC,F-measure,Accuracy,Weighted Accuracy,Cost\n",
      "0.772,0.606,0.111,0.199,0.512,15140.890\n",
      "\n",
      "#Outcome scores\n",
      "AUROC,AUPRC,F-measure,Accuracy,Weighted Accuracy,Cost\n",
      "0.654,0.637,0.339,0.513,0.840,15140.890\n",
      "\n",
      "#Murmur scores (per class)\n",
      "Classes,Present,Unknown,Absent\n",
      "AUROC,0.935,0.500,0.881\n",
      "AUPRC,0.808,0.073,0.938\n",
      "F-measure,0.332,0.000,0.000\n",
      "Accuracy,1.000,0.000,0.000\n",
      "\n",
      "#Outcome scores (per class)\n",
      "Classes,Abnormal,Normal\n",
      "AUROC,0.654,0.654\n",
      "AUPRC,0.630,0.644\n",
      "F-measure,0.678,0.000\n",
      "Accuracy,1.000,0.000\n",
      "\n",
      "-------------\n",
      "threshold:  0.05\n",
      "#Murmur scores\n",
      "AUROC,AUPRC,F-measure,Accuracy,Weighted Accuracy,Cost\n",
      "0.772,0.606,0.116,0.204,0.515,15131.464\n",
      "\n",
      "#Outcome scores\n",
      "AUROC,AUPRC,F-measure,Accuracy,Weighted Accuracy,Cost\n",
      "0.654,0.637,0.339,0.513,0.840,15140.890\n",
      "\n",
      "#Murmur scores (per class)\n",
      "Classes,Present,Unknown,Absent\n",
      "AUROC,0.935,0.500,0.881\n",
      "AUPRC,0.808,0.073,0.938\n",
      "F-measure,0.333,0.000,0.014\n",
      "Accuracy,1.000,0.000,0.007\n",
      "\n",
      "#Outcome scores (per class)\n",
      "Classes,Abnormal,Normal\n",
      "AUROC,0.654,0.654\n",
      "AUPRC,0.630,0.644\n",
      "F-measure,0.678,0.000\n",
      "Accuracy,1.000,0.000\n",
      "\n",
      "-------------\n",
      "threshold:  0.1\n",
      "#Murmur scores\n",
      "AUROC,AUPRC,F-measure,Accuracy,Weighted Accuracy,Cost\n",
      "0.772,0.606,0.160,0.251,0.539,13946.717\n",
      "\n",
      "#Outcome scores\n",
      "AUROC,AUPRC,F-measure,Accuracy,Weighted Accuracy,Cost\n",
      "0.654,0.637,0.339,0.513,0.840,15140.890\n",
      "\n",
      "#Murmur scores (per class)\n",
      "Classes,Present,Unknown,Absent\n",
      "AUROC,0.935,0.500,0.881\n",
      "AUPRC,0.808,0.073,0.938\n",
      "F-measure,0.347,0.000,0.134\n",
      "Accuracy,1.000,0.000,0.072\n",
      "\n",
      "#Outcome scores (per class)\n",
      "Classes,Abnormal,Normal\n",
      "AUROC,0.654,0.654\n",
      "AUPRC,0.630,0.644\n",
      "F-measure,0.678,0.000\n",
      "Accuracy,1.000,0.000\n",
      "\n",
      "-------------\n",
      "threshold:  0.15\n",
      "#Murmur scores\n",
      "AUROC,AUPRC,F-measure,Accuracy,Weighted Accuracy,Cost\n",
      "0.772,0.606,0.307,0.445,0.639,12988.634\n",
      "\n",
      "#Outcome scores\n",
      "AUROC,AUPRC,F-measure,Accuracy,Weighted Accuracy,Cost\n",
      "0.654,0.637,0.339,0.513,0.840,15140.890\n",
      "\n",
      "#Murmur scores (per class)\n",
      "Classes,Present,Unknown,Absent\n",
      "AUROC,0.935,0.500,0.881\n",
      "AUPRC,0.808,0.073,0.938\n",
      "F-measure,0.422,0.000,0.500\n",
      "Accuracy,1.000,0.000,0.338\n",
      "\n",
      "#Outcome scores (per class)\n",
      "Classes,Abnormal,Normal\n",
      "AUROC,0.654,0.654\n",
      "AUPRC,0.630,0.644\n",
      "F-measure,0.678,0.000\n",
      "Accuracy,1.000,0.000\n",
      "\n",
      "-------------\n",
      "threshold:  0.2\n",
      "#Murmur scores\n",
      "AUROC,AUPRC,F-measure,Accuracy,Weighted Accuracy,Cost\n",
      "0.772,0.606,0.391,0.581,0.698,13263.930\n",
      "\n",
      "#Outcome scores\n",
      "AUROC,AUPRC,F-measure,Accuracy,Weighted Accuracy,Cost\n",
      "0.654,0.637,0.339,0.513,0.840,15140.890\n",
      "\n",
      "#Murmur scores (per class)\n",
      "Classes,Present,Unknown,Absent\n",
      "AUROC,0.935,0.500,0.881\n",
      "AUPRC,0.808,0.073,0.938\n",
      "F-measure,0.493,0.000,0.679\n",
      "Accuracy,0.974,0.000,0.532\n",
      "\n",
      "#Outcome scores (per class)\n",
      "Classes,Abnormal,Normal\n",
      "AUROC,0.654,0.654\n",
      "AUPRC,0.630,0.644\n",
      "F-measure,0.678,0.000\n",
      "Accuracy,1.000,0.000\n",
      "\n",
      "-------------\n",
      "threshold:  0.25\n",
      "#Murmur scores\n",
      "AUROC,AUPRC,F-measure,Accuracy,Weighted Accuracy,Cost\n",
      "0.772,0.606,0.500,0.759,0.790,15596.798\n",
      "\n",
      "#Outcome scores\n",
      "AUROC,AUPRC,F-measure,Accuracy,Weighted Accuracy,Cost\n",
      "0.654,0.637,0.339,0.513,0.840,15140.890\n",
      "\n",
      "#Murmur scores (per class)\n",
      "Classes,Present,Unknown,Absent\n",
      "AUROC,0.935,0.500,0.881\n",
      "AUPRC,0.808,0.073,0.938\n",
      "F-measure,0.649,0.000,0.850\n",
      "Accuracy,0.974,0.000,0.777\n",
      "\n",
      "#Outcome scores (per class)\n",
      "Classes,Abnormal,Normal\n",
      "AUROC,0.654,0.654\n",
      "AUPRC,0.630,0.644\n",
      "F-measure,0.678,0.000\n",
      "Accuracy,1.000,0.000\n",
      "\n",
      "-------------\n",
      "threshold:  0.3\n",
      "#Murmur scores\n",
      "AUROC,AUPRC,F-measure,Accuracy,Weighted Accuracy,Cost\n",
      "0.772,0.606,0.540,0.822,0.790,17574.098\n",
      "\n",
      "#Outcome scores\n",
      "AUROC,AUPRC,F-measure,Accuracy,Weighted Accuracy,Cost\n",
      "0.654,0.637,0.363,0.524,0.844,14706.772\n",
      "\n",
      "#Murmur scores (per class)\n",
      "Classes,Present,Unknown,Absent\n",
      "AUROC,0.935,0.500,0.881\n",
      "AUPRC,0.808,0.073,0.938\n",
      "F-measure,0.723,0.000,0.898\n",
      "Accuracy,0.895,0.000,0.885\n",
      "\n",
      "#Outcome scores (per class)\n",
      "Classes,Abnormal,Normal\n",
      "AUROC,0.654,0.654\n",
      "AUPRC,0.630,0.644\n",
      "F-measure,0.683,0.042\n",
      "Accuracy,1.000,0.022\n",
      "\n",
      "-------------\n",
      "threshold:  0.35\n",
      "#Murmur scores\n",
      "AUROC,AUPRC,F-measure,Accuracy,Weighted Accuracy,Cost\n",
      "0.772,0.606,0.528,0.822,0.714,18599.072\n",
      "\n",
      "#Outcome scores\n",
      "AUROC,AUPRC,F-measure,Accuracy,Weighted Accuracy,Cost\n",
      "0.654,0.637,0.371,0.524,0.837,14496.256\n",
      "\n",
      "#Murmur scores (per class)\n",
      "Classes,Present,Unknown,Absent\n",
      "AUROC,0.935,0.500,0.881\n",
      "AUPRC,0.808,0.073,0.938\n",
      "F-measure,0.684,0.000,0.900\n",
      "Accuracy,0.711,0.000,0.935\n",
      "\n",
      "#Outcome scores (per class)\n",
      "Classes,Abnormal,Normal\n",
      "AUROC,0.654,0.654\n",
      "AUPRC,0.630,0.644\n",
      "F-measure,0.681,0.062\n",
      "Accuracy,0.990,0.032\n",
      "\n",
      "-------------\n",
      "threshold:  0.4\n",
      "#Murmur scores\n",
      "AUROC,AUPRC,F-measure,Accuracy,Weighted Accuracy,Cost\n",
      "0.772,0.606,0.533,0.832,0.687,20480.865\n",
      "\n",
      "#Outcome scores\n",
      "AUROC,AUPRC,F-measure,Accuracy,Weighted Accuracy,Cost\n",
      "0.654,0.637,0.401,0.534,0.834,13907.105\n",
      "\n",
      "#Murmur scores (per class)\n",
      "Classes,Present,Unknown,Absent\n",
      "AUROC,0.935,0.500,0.881\n",
      "AUPRC,0.808,0.073,0.938\n",
      "F-measure,0.696,0.000,0.903\n",
      "Accuracy,0.632,0.000,0.971\n",
      "\n",
      "#Outcome scores (per class)\n",
      "Classes,Abnormal,Normal\n",
      "AUROC,0.654,0.654\n",
      "AUPRC,0.630,0.644\n",
      "F-measure,0.683,0.119\n",
      "Accuracy,0.980,0.065\n",
      "\n",
      "-------------\n",
      "threshold:  0.45\n",
      "#Murmur scores\n",
      "AUROC,AUPRC,F-measure,Accuracy,Weighted Accuracy,Cost\n",
      "0.772,0.606,0.535,0.832,0.677,21108.421\n",
      "\n",
      "#Outcome scores\n",
      "AUROC,AUPRC,F-measure,Accuracy,Weighted Accuracy,Cost\n",
      "0.654,0.637,0.466,0.555,0.813,12658.127\n",
      "\n",
      "#Murmur scores (per class)\n",
      "Classes,Present,Unknown,Absent\n",
      "AUROC,0.935,0.500,0.881\n",
      "AUPRC,0.808,0.073,0.938\n",
      "F-measure,0.708,0.000,0.898\n",
      "Accuracy,0.605,0.000,0.978\n",
      "\n",
      "#Outcome scores (per class)\n",
      "Classes,Abnormal,Normal\n",
      "AUROC,0.654,0.654\n",
      "AUPRC,0.630,0.644\n",
      "F-measure,0.684,0.248\n",
      "Accuracy,0.939,0.151\n",
      "\n",
      "-------------\n",
      "threshold:  0.5\n",
      "#Murmur scores\n",
      "AUROC,AUPRC,F-measure,Accuracy,Weighted Accuracy,Cost\n",
      "0.772,0.606,0.521,0.827,0.642,21316.468\n",
      "\n",
      "#Outcome scores\n",
      "AUROC,AUPRC,F-measure,Accuracy,Weighted Accuracy,Cost\n",
      "0.654,0.637,0.518,0.576,0.792,11824.809\n",
      "\n",
      "#Murmur scores (per class)\n",
      "Classes,Present,Unknown,Absent\n",
      "AUROC,0.935,0.500,0.881\n",
      "AUPRC,0.808,0.073,0.938\n",
      "F-measure,0.667,0.000,0.896\n",
      "Accuracy,0.526,0.000,0.993\n",
      "\n",
      "#Outcome scores (per class)\n",
      "Classes,Abnormal,Normal\n",
      "AUROC,0.654,0.654\n",
      "AUPRC,0.630,0.644\n",
      "F-measure,0.685,0.352\n",
      "Accuracy,0.898,0.237\n",
      "\n",
      "-------------\n",
      "threshold:  0.55\n",
      "#Murmur scores\n",
      "AUROC,AUPRC,F-measure,Accuracy,Weighted Accuracy,Cost\n",
      "0.772,0.606,0.424,0.775,0.507,23612.499\n",
      "\n",
      "#Outcome scores\n",
      "AUROC,AUPRC,F-measure,Accuracy,Weighted Accuracy,Cost\n",
      "0.654,0.637,0.592,0.613,0.750,11250.839\n",
      "\n",
      "#Murmur scores (per class)\n",
      "Classes,Present,Unknown,Absent\n",
      "AUROC,0.935,0.500,0.881\n",
      "AUPRC,0.808,0.073,0.938\n",
      "F-measure,0.408,0.000,0.865\n",
      "Accuracy,0.263,0.000,0.993\n",
      "\n",
      "#Outcome scores (per class)\n",
      "Classes,Abnormal,Normal\n",
      "AUROC,0.654,0.654\n",
      "AUPRC,0.630,0.644\n",
      "F-measure,0.684,0.500\n",
      "Accuracy,0.816,0.398\n",
      "\n",
      "-------------\n",
      "threshold:  0.6\n",
      "#Murmur scores\n",
      "AUROC,AUPRC,F-measure,Accuracy,Weighted Accuracy,Cost\n",
      "0.772,0.606,0.391,0.764,0.469,24235.744\n",
      "\n",
      "#Outcome scores\n",
      "AUROC,AUPRC,F-measure,Accuracy,Weighted Accuracy,Cost\n",
      "0.654,0.637,0.600,0.602,0.643,12906.819\n",
      "\n",
      "#Murmur scores (per class)\n",
      "Classes,Present,Unknown,Absent\n",
      "AUROC,0.935,0.500,0.881\n",
      "AUPRC,0.808,0.073,0.938\n",
      "F-measure,0.311,0.000,0.861\n",
      "Accuracy,0.184,0.000,1.000\n",
      "\n",
      "#Outcome scores (per class)\n",
      "Classes,Abnormal,Normal\n",
      "AUROC,0.654,0.654\n",
      "AUPRC,0.630,0.644\n",
      "F-measure,0.631,0.568\n",
      "Accuracy,0.663,0.538\n",
      "\n",
      "-------------\n",
      "threshold:  0.65\n",
      "#Murmur scores\n",
      "AUROC,AUPRC,F-measure,Accuracy,Weighted Accuracy,Cost\n",
      "0.772,0.606,0.363,0.754,0.442,24651.550\n",
      "\n",
      "#Outcome scores\n",
      "AUROC,AUPRC,F-measure,Accuracy,Weighted Accuracy,Cost\n",
      "0.654,0.637,0.609,0.613,0.544,15387.374\n",
      "\n",
      "#Murmur scores (per class)\n",
      "Classes,Present,Unknown,Absent\n",
      "AUROC,0.935,0.500,0.881\n",
      "AUPRC,0.808,0.073,0.938\n",
      "F-measure,0.233,0.000,0.855\n",
      "Accuracy,0.132,0.000,1.000\n",
      "\n",
      "#Outcome scores (per class)\n",
      "Classes,Abnormal,Normal\n",
      "AUROC,0.654,0.654\n",
      "AUPRC,0.630,0.644\n",
      "F-measure,0.575,0.644\n",
      "Accuracy,0.510,0.720\n",
      "\n",
      "-------------\n",
      "threshold:  0.7\n",
      "#Murmur scores\n",
      "AUROC,AUPRC,F-measure,Accuracy,Weighted Accuracy,Cost\n",
      "0.772,0.606,0.299,0.733,0.388,25482.058\n",
      "\n",
      "#Outcome scores\n",
      "AUROC,AUPRC,F-measure,Accuracy,Weighted Accuracy,Cost\n",
      "0.654,0.637,0.536,0.565,0.391,19439.703\n",
      "\n",
      "#Murmur scores (per class)\n",
      "Classes,Present,Unknown,Absent\n",
      "AUROC,0.935,0.500,0.881\n",
      "AUPRC,0.808,0.073,0.938\n",
      "F-measure,0.051,0.000,0.845\n",
      "Accuracy,0.026,0.000,1.000\n",
      "\n",
      "#Outcome scores (per class)\n",
      "Classes,Abnormal,Normal\n",
      "AUROC,0.654,0.654\n",
      "AUPRC,0.630,0.644\n",
      "F-measure,0.420,0.653\n",
      "Accuracy,0.306,0.839\n",
      "\n",
      "-------------\n",
      "threshold:  0.75\n",
      "#Murmur scores\n",
      "AUROC,AUPRC,F-measure,Accuracy,Weighted Accuracy,Cost\n",
      "0.772,0.606,0.299,0.733,0.388,25482.058\n",
      "\n",
      "#Outcome scores\n",
      "AUROC,AUPRC,F-measure,Accuracy,Weighted Accuracy,Cost\n",
      "0.654,0.637,0.458,0.529,0.283,22364.240\n",
      "\n",
      "#Murmur scores (per class)\n",
      "Classes,Present,Unknown,Absent\n",
      "AUROC,0.935,0.500,0.881\n",
      "AUPRC,0.808,0.073,0.938\n",
      "F-measure,0.051,0.000,0.845\n",
      "Accuracy,0.026,0.000,1.000\n",
      "\n",
      "#Outcome scores (per class)\n",
      "Classes,Abnormal,Normal\n",
      "AUROC,0.654,0.654\n",
      "AUPRC,0.630,0.644\n",
      "F-measure,0.262,0.654\n",
      "Accuracy,0.163,0.914\n",
      "\n",
      "-------------\n"
     ]
    },
    {
     "name": "stdout",
     "output_type": "stream",
     "text": [
      "threshold:  0.8\n",
      "#Murmur scores\n",
      "AUROC,AUPRC,F-measure,Accuracy,Weighted Accuracy,Cost\n",
      "0.772,0.606,0.299,0.733,0.388,25482.058\n",
      "\n",
      "#Outcome scores\n",
      "AUROC,AUPRC,F-measure,Accuracy,Weighted Accuracy,Cost\n",
      "0.654,0.637,0.383,0.503,0.206,24447.854\n",
      "\n",
      "#Murmur scores (per class)\n",
      "Classes,Present,Unknown,Absent\n",
      "AUROC,0.935,0.500,0.881\n",
      "AUPRC,0.808,0.073,0.938\n",
      "F-measure,0.051,0.000,0.845\n",
      "Accuracy,0.026,0.000,1.000\n",
      "\n",
      "#Outcome scores (per class)\n",
      "Classes,Abnormal,Normal\n",
      "AUROC,0.654,0.654\n",
      "AUPRC,0.630,0.644\n",
      "F-measure,0.112,0.655\n",
      "Accuracy,0.061,0.968\n",
      "\n",
      "-------------\n"
     ]
    }
   ],
   "source": [
    "for th1 in [0.01, 0.05, 0.1, 0.15,0.2, 0.25, 0.3, 0.35, 0.4, 0.45, 0.5, 0.55, 0.6, 0.65, 0.7, 0.75, 0.8] :\n",
    "    murmur_binary_outputs[:,0] = murmur_scalar_outputs[:,0] > th1\n",
    "    murmur_binary_outputs[:,2] = murmur_scalar_outputs[:,2] > 1 - th1\n",
    "    outcome_binary_outputs[:,0] = outcome_scalar_outputs[:,0] > th1\n",
    "    outcome_binary_outputs[:,1] = outcome_scalar_outputs[:,1] > 1 - th1\n",
    "    # For each patient, set the 'Present' or 'Abnormal' class to positive if no class is positive or if multiple classes are positive.\n",
    "    murmur_labels = enforce_positives(murmur_labels, murmur_classes, 'Present')\n",
    "    murmur_binary_outputs = enforce_positives(murmur_binary_outputs, murmur_classes, 'Present')\n",
    "    outcome_labels = enforce_positives(outcome_labels, outcome_classes, 'Abnormal')\n",
    "    outcome_binary_outputs = enforce_positives(outcome_binary_outputs, outcome_classes, 'Abnormal')\n",
    "    # Evaluate the murmur model by comparing the labels and model outputs.\n",
    "    murmur_auroc, murmur_auprc, murmur_auroc_classes, murmur_auprc_classes = compute_auc(murmur_labels, murmur_scalar_outputs)\n",
    "    murmur_f_measure, murmur_f_measure_classes = compute_f_measure(murmur_labels, murmur_binary_outputs)\n",
    "    murmur_accuracy, murmur_accuracy_classes = compute_accuracy(murmur_labels, murmur_binary_outputs)\n",
    "    murmur_weighted_accuracy = compute_weighted_accuracy(murmur_labels, murmur_binary_outputs, murmur_classes) # This is the murmur scoring metric.\n",
    "    murmur_cost = compute_cost(outcome_labels, murmur_binary_outputs, outcome_classes, murmur_classes) # Use *outcomes* to score *murmurs* for the Challenge cost metric, but this is not the actual murmur scoring metric.\n",
    "    murmur_scores = (murmur_classes, murmur_auroc, murmur_auprc, murmur_auroc_classes, murmur_auprc_classes, \\\n",
    "                 murmur_f_measure, murmur_f_measure_classes, murmur_accuracy, murmur_accuracy_classes, murmur_weighted_accuracy, murmur_cost)\n",
    "\n",
    "    # Evaluate the outcome model by comparing the labels and model outputs.\n",
    "    outcome_auroc, outcome_auprc, outcome_auroc_classes, outcome_auprc_classes = compute_auc(outcome_labels, outcome_scalar_outputs)\n",
    "    outcome_f_measure, outcome_f_measure_classes = compute_f_measure(outcome_labels, outcome_binary_outputs)\n",
    "    outcome_accuracy, outcome_accuracy_classes = compute_accuracy(outcome_labels, outcome_binary_outputs)\n",
    "    outcome_weighted_accuracy = compute_weighted_accuracy(outcome_labels, outcome_binary_outputs, outcome_classes)\n",
    "    outcome_cost = compute_cost(outcome_labels, outcome_binary_outputs, outcome_classes, outcome_classes) # This is the clinical outcomes scoring metric.\n",
    "    outcome_scores = (outcome_classes, outcome_auroc, outcome_auprc, outcome_auroc_classes, outcome_auprc_classes, \\\n",
    "                  outcome_f_measure, outcome_f_measure_classes, outcome_accuracy, outcome_accuracy_classes, outcome_weighted_accuracy, outcome_cost)\n",
    "\n",
    "\n",
    "\n",
    "    classes, auroc, auprc, auroc_classes, auprc_classes, f_measure, f_measure_classes, accuracy, accuracy_classes, weighted_accuracy, cost = murmur_scores\n",
    "    murmur_output_string = 'AUROC,AUPRC,F-measure,Accuracy,Weighted Accuracy,Cost\\n{:.3f},{:.3f},{:.3f},{:.3f},{:.3f},{:.3f}\\n'.format(auroc, auprc, f_measure, accuracy, weighted_accuracy, cost)\n",
    "    murmur_class_output_string = 'Classes,{}\\nAUROC,{}\\nAUPRC,{}\\nF-measure,{}\\nAccuracy,{}\\n'.format(\n",
    "    ','.join(classes),\n",
    "    ','.join('{:.3f}'.format(x) for x in auroc_classes),\n",
    "    ','.join('{:.3f}'.format(x) for x in auprc_classes),\n",
    "    ','.join('{:.3f}'.format(x) for x in f_measure_classes),\n",
    "    ','.join('{:.3f}'.format(x) for x in accuracy_classes))\n",
    "\n",
    "    classes, auroc, auprc, auroc_classes, auprc_classes, f_measure, f_measure_classes, accuracy, accuracy_classes, weighted_accuracy, cost = outcome_scores\n",
    "    outcome_output_string = 'AUROC,AUPRC,F-measure,Accuracy,Weighted Accuracy,Cost\\n{:.3f},{:.3f},{:.3f},{:.3f},{:.3f},{:.3f}\\n'.format(auroc, auprc, f_measure, accuracy, weighted_accuracy, cost)\n",
    "    outcome_class_output_string = 'Classes,{}\\nAUROC,{}\\nAUPRC,{}\\nF-measure,{}\\nAccuracy,{}\\n'.format(\n",
    "    ','.join(classes),\n",
    "    ','.join('{:.3f}'.format(x) for x in auroc_classes),\n",
    "    ','.join('{:.3f}'.format(x) for x in auprc_classes),\n",
    "    ','.join('{:.3f}'.format(x) for x in f_measure_classes),\n",
    "    ','.join('{:.3f}'.format(x) for x in accuracy_classes))\n",
    "\n",
    "    output_string = '#Murmur scores\\n' + murmur_output_string + '\\n#Outcome scores\\n' + outcome_output_string \\\n",
    "                + '\\n#Murmur scores (per class)\\n' + murmur_class_output_string + '\\n#Outcome scores (per class)\\n' + outcome_class_output_string\n",
    "    print(\"threshold: \", th1)\n",
    "    print(output_string)\n",
    "    print(\"-------------\")"
   ]
  },
  {
   "cell_type": "code",
   "execution_count": null,
   "id": "2d1219b6",
   "metadata": {},
   "outputs": [],
   "source": []
  },
  {
   "cell_type": "code",
   "execution_count": null,
   "id": "9b317bd6",
   "metadata": {},
   "outputs": [],
   "source": []
  },
  {
   "cell_type": "code",
   "execution_count": null,
   "id": "a489407d",
   "metadata": {},
   "outputs": [],
   "source": []
  },
  {
   "cell_type": "code",
   "execution_count": null,
   "id": "17249b57",
   "metadata": {},
   "outputs": [],
   "source": []
  }
 ],
 "metadata": {
  "kernelspec": {
   "display_name": "Python 3 (ipykernel)",
   "language": "python",
   "name": "python3"
  },
  "language_info": {
   "codemirror_mode": {
    "name": "ipython",
    "version": 3
   },
   "file_extension": ".py",
   "mimetype": "text/x-python",
   "name": "python",
   "nbconvert_exporter": "python",
   "pygments_lexer": "ipython3",
   "version": "3.8.13"
  }
 },
 "nbformat": 4,
 "nbformat_minor": 5
}
