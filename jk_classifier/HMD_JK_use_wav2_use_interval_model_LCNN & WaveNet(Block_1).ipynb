{
 "cells": [
  {
   "cell_type": "code",
   "execution_count": 1,
   "id": "3d55dbd4",
   "metadata": {},
   "outputs": [],
   "source": [
    "import tensorflow as tf"
   ]
  },
  {
   "cell_type": "code",
   "execution_count": 2,
   "id": "ad188626",
   "metadata": {
    "scrolled": true
   },
   "outputs": [
    {
     "name": "stderr",
     "output_type": "stream",
     "text": [
      "2022-08-06 22:19:42.518530: I tensorflow/stream_executor/cuda/cuda_gpu_executor.cc:936] successful NUMA node read from SysFS had negative value (-1), but there must be at least one NUMA node, so returning NUMA node zero\n",
      "2022-08-06 22:19:42.523663: I tensorflow/stream_executor/cuda/cuda_gpu_executor.cc:936] successful NUMA node read from SysFS had negative value (-1), but there must be at least one NUMA node, so returning NUMA node zero\n",
      "2022-08-06 22:19:42.524109: I tensorflow/stream_executor/cuda/cuda_gpu_executor.cc:936] successful NUMA node read from SysFS had negative value (-1), but there must be at least one NUMA node, so returning NUMA node zero\n",
      "2022-08-06 22:19:42.525209: I tensorflow/core/platform/cpu_feature_guard.cc:151] This TensorFlow binary is optimized with oneAPI Deep Neural Network Library (oneDNN) to use the following CPU instructions in performance-critical operations:  AVX2 FMA\n",
      "To enable them in other operations, rebuild TensorFlow with the appropriate compiler flags.\n",
      "2022-08-06 22:19:42.526161: I tensorflow/stream_executor/cuda/cuda_gpu_executor.cc:936] successful NUMA node read from SysFS had negative value (-1), but there must be at least one NUMA node, so returning NUMA node zero\n",
      "2022-08-06 22:19:42.526584: I tensorflow/stream_executor/cuda/cuda_gpu_executor.cc:936] successful NUMA node read from SysFS had negative value (-1), but there must be at least one NUMA node, so returning NUMA node zero\n",
      "2022-08-06 22:19:42.526926: I tensorflow/stream_executor/cuda/cuda_gpu_executor.cc:936] successful NUMA node read from SysFS had negative value (-1), but there must be at least one NUMA node, so returning NUMA node zero\n",
      "2022-08-06 22:19:42.889380: I tensorflow/stream_executor/cuda/cuda_gpu_executor.cc:936] successful NUMA node read from SysFS had negative value (-1), but there must be at least one NUMA node, so returning NUMA node zero\n",
      "2022-08-06 22:19:42.889705: I tensorflow/stream_executor/cuda/cuda_gpu_executor.cc:936] successful NUMA node read from SysFS had negative value (-1), but there must be at least one NUMA node, so returning NUMA node zero\n",
      "2022-08-06 22:19:42.889979: I tensorflow/stream_executor/cuda/cuda_gpu_executor.cc:936] successful NUMA node read from SysFS had negative value (-1), but there must be at least one NUMA node, so returning NUMA node zero\n",
      "2022-08-06 22:19:42.890231: I tensorflow/core/common_runtime/gpu/gpu_device.cc:1525] Created device /job:localhost/replica:0/task:0/device:GPU:0 with 9255 MB memory:  -> device: 0, name: GeForce RTX 2080 Ti, pci bus id: 0000:01:00.0, compute capability: 7.5\n",
      "2022-08-06 22:19:43.371540: I tensorflow/stream_executor/cuda/cuda_dnn.cc:368] Loaded cuDNN version 8101\n"
     ]
    }
   ],
   "source": [
    "import os\n",
    "import pandas as pd\n",
    "import numpy as np\n",
    "import scipy as sp\n",
    "import scipy.stats\n",
    "import librosa\n",
    "import librosa.display\n",
    "import math\n",
    "import sys\n",
    "#sys.path.insert(0,'/home/ikwak2/hmd/notebooks')\n",
    "sys.path.insert(0,'lucashnegri-peakutils-51a679cd8428')\n",
    "# sys.path.insert(0,'S1-S1-Phonocardiogram-Peak-Detection-Method-in-Python')\n",
    "sys.path.insert(0,'utils')\n",
    "from helper_code import *\n",
    "from get_feature import *\n",
    "from models import *\n",
    "from Generator0 import *\n",
    "from keras.preprocessing import sequence\n",
    "# import peakutils\n",
    "from scipy import special\n",
    "import scipy.io as sio\n",
    "from keras.preprocessing.sequence import pad_sequences\n",
    "import peakutils\n",
    "from tensorflow import keras\n",
    "from tensorflow.keras import layers\n",
    "from tensorflow.keras.callbacks import LearningRateScheduler,ModelCheckpoint"
   ]
  },
  {
   "cell_type": "code",
   "execution_count": 3,
   "id": "f8c573ff",
   "metadata": {},
   "outputs": [
    {
     "data": {
      "text/plain": [
       "'/home/jk21/Documents/hmd/jk_classifier'"
      ]
     },
     "execution_count": 3,
     "metadata": {},
     "output_type": "execute_result"
    }
   ],
   "source": [
    "pwd"
   ]
  },
  {
   "cell_type": "code",
   "execution_count": 4,
   "id": "42f5dd9c",
   "metadata": {},
   "outputs": [],
   "source": [
    "# data_folder =  'physionet.org/files/circor-heart-sound/1.0.3/training_data'\n",
    "train_folder =  '/home/jk21/Downloads/Data/data/murmur/train'\n",
    "test_folder = '/home/jk21/Downloads/Data/data/murmur/test'\n"
   ]
  },
  {
   "cell_type": "code",
   "execution_count": 5,
   "id": "ca657f78",
   "metadata": {},
   "outputs": [],
   "source": [
    "model_folder = 'lcnn2'"
   ]
  },
  {
   "cell_type": "code",
   "execution_count": 6,
   "id": "e49f868b",
   "metadata": {},
   "outputs": [
    {
     "data": {
      "text/plain": [
       "'lcnn2'"
      ]
     },
     "execution_count": 6,
     "metadata": {},
     "output_type": "execute_result"
    }
   ],
   "source": [
    "model_folder"
   ]
  },
  {
   "cell_type": "code",
   "execution_count": 7,
   "id": "e76c75d5",
   "metadata": {},
   "outputs": [],
   "source": [
    "def sigmoidal_decay(e, start=0, end=100, lr_start=1e-3, lr_end=1e-5):\n",
    "    if e < start:\n",
    "        return lr_start\n",
    "    elif e > end:\n",
    "        return lr_end\n",
    "\n",
    "    middle = (start + end) / 2\n",
    "    s = lambda x: 1 / (1 + np.exp(-x))\n",
    "\n",
    "    return s(13 * (-e + middle) / np.abs(end - start)) * np.abs(lr_start - lr_end) + lr_end"
   ]
  },
  {
   "cell_type": "code",
   "execution_count": 8,
   "id": "ac7432d8",
   "metadata": {},
   "outputs": [],
   "source": [
    "patient_files_trn = find_patient_files(train_folder)\n",
    "patient_files_test = find_patient_files(test_folder)"
   ]
  },
  {
   "cell_type": "code",
   "execution_count": 9,
   "id": "8b20e8c2",
   "metadata": {},
   "outputs": [],
   "source": [
    "winlen = 512\n",
    "hoplen = 256\n",
    "nmel = 120 \n",
    "nsec = 20 \n",
    "trim = 1 \n",
    "use_mel=True\n",
    "use_cqt = False \n",
    "use_stft = False\n",
    "use_raw=False\n",
    "use_interval=True\n",
    "use_wav2=True\n",
    "maxlen1 = 120000\n",
    "min_dist = 500\n",
    "max_interval_len=115\n"
   ]
  },
  {
   "cell_type": "code",
   "execution_count": null,
   "id": "2db6e657",
   "metadata": {},
   "outputs": [],
   "source": []
  },
  {
   "cell_type": "code",
   "execution_count": null,
   "id": "56da5d7c",
   "metadata": {},
   "outputs": [],
   "source": [
    "                        "
   ]
  },
  {
   "cell_type": "code",
   "execution_count": null,
   "id": "86e858e6",
   "metadata": {},
   "outputs": [],
   "source": []
  },
  {
   "cell_type": "code",
   "execution_count": 10,
   "id": "ca1fabdb",
   "metadata": {},
   "outputs": [],
   "source": [
    "params_feature = {'samp_sec': nsec,\n",
    "                  #### melspec, stft 피쳐 옵션들  \n",
    "                  'pre_emphasis': 0,\n",
    "                  'hop_length': hoplen,\n",
    "                  'win_length': winlen,\n",
    "                  'n_mels': nmel,\n",
    "                  #### cqt 피쳐 옵션들  \n",
    "                  'filter_scale': 1,\n",
    "                  'n_bins': 80,\n",
    "                  'fmin': 10,\n",
    "                  'maxlen1': maxlen1,\n",
    "                  'min_dist':min_dist,\n",
    "                  'max_interval_len' : max_interval_len,\n",
    "                  'trim' :1,\n",
    "                  'use_mel' : use_mel,\n",
    "                  'use_cqt' : use_cqt,\n",
    "                  'use_stft' : use_stft,\n",
    "                  'use_interval' : use_interval,\n",
    "                  'use_wav2' : use_wav2\n",
    "}"
   ]
  },
  {
   "cell_type": "code",
   "execution_count": 11,
   "id": "679d69ed",
   "metadata": {},
   "outputs": [],
   "source": [
    "mm_weight = 3 #np.random.choice([2,3,4,5])\n",
    "oo_weight = 3 #np.random.choice([2,3,4,5,6])\n",
    "ord1 = True #np.random.choice([True,False])\n",
    "mm_mean = False #np.random.choice([True,False])\n",
    "dp = 0 #np.random.choice([0, .1, .2, .3])\n",
    "fc = False #np.random.choice([True,False])\n",
    "ext = True\n",
    "chaug = 10 #np.random.choice([0, 10])\n",
    "mixup = True #np.random.choice([True,False])\n",
    "cout = .8 #np.random.choice([0, 0.8])\n",
    "wunknown = 1 #np.random.choice([1, 0.7, .5, .2])\n",
    "n1 = 0 #np.random.choice([0,2])\n",
    "if n1 == 0 :\n",
    "    ranfil = False\n",
    "else :\n",
    "    ranfil = [n1, [18,19,20,21,22,23]]"
   ]
  },
  {
   "cell_type": "code",
   "execution_count": 12,
   "id": "e1184bc8",
   "metadata": {},
   "outputs": [],
   "source": [
    "params_feature['ord1'] = ord1\n",
    "params_feature['mm_mean'] = mm_mean\n",
    "params_feature['dp'] = dp\n",
    "params_feature['fc'] = fc\n",
    "params_feature['ext'] = ext\n",
    "params_feature['oo_weight'] = oo_weight\n",
    "params_feature['mm_weight'] = mm_weight\n",
    "params_feature['chaug'] = chaug\n",
    "params_feature['cout'] = cout\n",
    "params_feature['wunknown'] = wunknown\n",
    "params_feature['mixup'] = mixup\n",
    "params_feature['n1'] = n1"
   ]
  },
  {
   "cell_type": "code",
   "execution_count": null,
   "id": "eb694b3d",
   "metadata": {},
   "outputs": [],
   "source": []
  },
  {
   "cell_type": "code",
   "execution_count": null,
   "id": "a3d69fda",
   "metadata": {},
   "outputs": [],
   "source": []
  },
  {
   "cell_type": "code",
   "execution_count": null,
   "id": "5e42cd25",
   "metadata": {},
   "outputs": [],
   "source": []
  },
  {
   "cell_type": "code",
   "execution_count": null,
   "id": "4ec5a0f0",
   "metadata": {},
   "outputs": [],
   "source": []
  },
  {
   "cell_type": "code",
   "execution_count": 22,
   "id": "0f13c9f2",
   "metadata": {},
   "outputs": [
    {
     "name": "stderr",
     "output_type": "stream",
     "text": [
      "100%|███████████████████████████████████████| 751/751 [1:03:18<00:00,  5.06s/it]\n"
     ]
    },
    {
     "name": "stdout",
     "output_type": "stream",
     "text": [
      "melspec:  120 313\n",
      "cqt:  1 1\n",
      "stft:  1 1\n",
      "interval:  115 1\n",
      "wav2:  32 374\n"
     ]
    }
   ],
   "source": [
    "features_trn, mel_input_shape, cqt_input_shape,stft_input_shape,interval_input_shape,wav2_input_shape = get_features_3lb_all_ord(train_folder, patient_files_trn, **params_feature)\n"
   ]
  },
  {
   "cell_type": "code",
   "execution_count": 23,
   "id": "53382dbd",
   "metadata": {},
   "outputs": [
    {
     "name": "stderr",
     "output_type": "stream",
     "text": [
      "100%|█████████████████████████████████████████| 191/191 [21:04<00:00,  6.62s/it]\n"
     ]
    },
    {
     "name": "stdout",
     "output_type": "stream",
     "text": [
      "melspec:  120 313\n",
      "cqt:  1 1\n",
      "stft:  1 1\n",
      "interval:  115 1\n",
      "wav2:  32 374\n"
     ]
    }
   ],
   "source": [
    "features_test, mel_input_shape, cqt_input_shape,stft_input_shape,interval_input_shape,wav2_input_shape= get_features_3lb_all_ord(test_folder, patient_files_test, **params_feature)"
   ]
  },
  {
   "cell_type": "code",
   "execution_count": null,
   "id": "dd6457f0",
   "metadata": {},
   "outputs": [],
   "source": []
  },
  {
   "cell_type": "code",
   "execution_count": 24,
   "id": "8b2ff2db",
   "metadata": {
    "scrolled": true
   },
   "outputs": [],
   "source": [
    "with open('/home/jk21/Downloads/Data/features_trn_wav2.pickle', 'wb') as f:\n",
    "    pickle.dump(features_trn, f, pickle.HIGHEST_PROTOCOL)"
   ]
  },
  {
   "cell_type": "code",
   "execution_count": 25,
   "id": "b9f7179a",
   "metadata": {
    "scrolled": true
   },
   "outputs": [],
   "source": [
    "with open('/home/jk21/Downloads/Data/features_test_wav2.pickle', 'wb') as f:\n",
    "    pickle.dump(features_test, f, pickle.HIGHEST_PROTOCOL)"
   ]
  },
  {
   "cell_type": "code",
   "execution_count": null,
   "id": "1499b589",
   "metadata": {},
   "outputs": [],
   "source": []
  },
  {
   "cell_type": "code",
   "execution_count": 13,
   "id": "79f59c5e",
   "metadata": {
    "scrolled": true
   },
   "outputs": [],
   "source": [
    "with open('/home/jk21/Downloads/Data/features_trn_wav2.pickle', 'rb') as f:\n",
    "    features_trn = pickle.load(f)"
   ]
  },
  {
   "cell_type": "code",
   "execution_count": 14,
   "id": "dd412feb",
   "metadata": {},
   "outputs": [],
   "source": [
    "with open('/home/jk21/Downloads/Data/features_test_wav2.pickle', 'rb') as f:\n",
    "    features_test = pickle.load(f)"
   ]
  },
  {
   "cell_type": "code",
   "execution_count": null,
   "id": "33935441",
   "metadata": {},
   "outputs": [],
   "source": []
  },
  {
   "cell_type": "code",
   "execution_count": null,
   "id": "ae7c11ba",
   "metadata": {},
   "outputs": [],
   "source": []
  },
  {
   "cell_type": "code",
   "execution_count": null,
   "id": "432f5b62",
   "metadata": {},
   "outputs": [],
   "source": []
  },
  {
   "cell_type": "code",
   "execution_count": 15,
   "id": "1a9cfc11",
   "metadata": {},
   "outputs": [],
   "source": [
    "from skimage.transform import resize\n",
    "import matplotlib.pyplot as plt"
   ]
  },
  {
   "cell_type": "code",
   "execution_count": 72,
   "id": "06b49696",
   "metadata": {
    "scrolled": true
   },
   "outputs": [],
   "source": [
    "tmp_wav2 = np.zeros((2532,32,374,3))\n",
    "for i in range(len(features_trn['wav2'])):\n",
    "    test_ary=features_trn['wav2'][i]\n",
    "    res = resize(test_ary, (32,374,3))\n",
    "    tmp_wav2[i]=res\n",
    "    "
   ]
  },
  {
   "cell_type": "code",
   "execution_count": 73,
   "id": "fb8f7988",
   "metadata": {},
   "outputs": [],
   "source": [
    "features_trn['wav2'] = tmp_wav2"
   ]
  },
  {
   "cell_type": "code",
   "execution_count": 75,
   "id": "fa3ceabc",
   "metadata": {},
   "outputs": [
    {
     "name": "stderr",
     "output_type": "stream",
     "text": [
      "Clipping input data to the valid range for imshow with RGB data ([0..1] for floats or [0..255] for integers).\n"
     ]
    },
    {
     "data": {
      "text/plain": [
       "<matplotlib.image.AxesImage at 0x7f162c4eec40>"
      ]
     },
     "execution_count": 75,
     "metadata": {},
     "output_type": "execute_result"
    },
    {
     "data": {
      "image/png": "[encoded data removed]",
      "text/plain": [
       "<Figure size 432x288 with 1 Axes>"
      ]
     },
     "metadata": {
      "needs_background": "light"
     },
     "output_type": "display_data"
    }
   ],
   "source": [
    "plt.imshow(features_trn['wav2'][30])"
   ]
  },
  {
   "cell_type": "code",
   "execution_count": null,
   "id": "95cd9c90",
   "metadata": {},
   "outputs": [],
   "source": []
  },
  {
   "cell_type": "code",
   "execution_count": null,
   "id": "b5383180",
   "metadata": {},
   "outputs": [],
   "source": []
  },
  {
   "cell_type": "code",
   "execution_count": 38,
   "id": "95660012",
   "metadata": {},
   "outputs": [],
   "source": [
    "tmp_wav2 = np.zeros((631,224,224,3))\n",
    "for i in range(len(features_test['wav2'])):\n",
    "    test_ary=features_test['wav2'][i]\n",
    "    res = resize(test_ary, (224,224,3))\n",
    "    tmp_wav2[i]=res"
   ]
  },
  {
   "cell_type": "code",
   "execution_count": 39,
   "id": "f59c1455",
   "metadata": {},
   "outputs": [],
   "source": [
    "features_test['wav2'] = tmp_wav2"
   ]
  },
  {
   "cell_type": "code",
   "execution_count": null,
   "id": "b1106b9e",
   "metadata": {},
   "outputs": [],
   "source": []
  },
  {
   "cell_type": "code",
   "execution_count": null,
   "id": "d77cd976",
   "metadata": {},
   "outputs": [],
   "source": []
  },
  {
   "cell_type": "code",
   "execution_count": 16,
   "id": "460de784",
   "metadata": {},
   "outputs": [],
   "source": [
    "mel_input_shape = features_trn['mel1'].shape[1:]"
   ]
  },
  {
   "cell_type": "code",
   "execution_count": 17,
   "id": "5d0291cb",
   "metadata": {},
   "outputs": [
    {
     "data": {
      "text/plain": [
       "(120, 313, 1)"
      ]
     },
     "execution_count": 17,
     "metadata": {},
     "output_type": "execute_result"
    }
   ],
   "source": [
    "mel_input_shape"
   ]
  },
  {
   "cell_type": "code",
   "execution_count": 18,
   "id": "ec06d09a",
   "metadata": {},
   "outputs": [],
   "source": [
    "cqt_input_shape = features_trn['cqt1'].shape[1:]"
   ]
  },
  {
   "cell_type": "code",
   "execution_count": 19,
   "id": "31599947",
   "metadata": {},
   "outputs": [
    {
     "data": {
      "text/plain": [
       "(1, 1, 1)"
      ]
     },
     "execution_count": 19,
     "metadata": {},
     "output_type": "execute_result"
    }
   ],
   "source": [
    "cqt_input_shape"
   ]
  },
  {
   "cell_type": "code",
   "execution_count": 20,
   "id": "861213a4",
   "metadata": {},
   "outputs": [],
   "source": [
    "stft_input_shape = features_trn['stft1'].shape[1:]"
   ]
  },
  {
   "cell_type": "code",
   "execution_count": 21,
   "id": "6e151a70",
   "metadata": {},
   "outputs": [
    {
     "data": {
      "text/plain": [
       "(1, 1, 1)"
      ]
     },
     "execution_count": 21,
     "metadata": {},
     "output_type": "execute_result"
    }
   ],
   "source": [
    "stft_input_shape"
   ]
  },
  {
   "cell_type": "code",
   "execution_count": 22,
   "id": "0b7eb1dd",
   "metadata": {},
   "outputs": [],
   "source": [
    "interval_input_shape= features_trn['interval'].shape[1:]"
   ]
  },
  {
   "cell_type": "code",
   "execution_count": 23,
   "id": "6c31f94d",
   "metadata": {
    "scrolled": true
   },
   "outputs": [
    {
     "data": {
      "text/plain": [
       "(115, 1)"
      ]
     },
     "execution_count": 23,
     "metadata": {},
     "output_type": "execute_result"
    }
   ],
   "source": [
    "interval_input_shape"
   ]
  },
  {
   "cell_type": "code",
   "execution_count": 24,
   "id": "c26d851e",
   "metadata": {},
   "outputs": [],
   "source": [
    "wav2_input_shape= features_trn['wav2'].shape[1:]"
   ]
  },
  {
   "cell_type": "code",
   "execution_count": 25,
   "id": "7553a46c",
   "metadata": {},
   "outputs": [
    {
     "data": {
      "text/plain": [
       "(32, 374)"
      ]
     },
     "execution_count": 25,
     "metadata": {},
     "output_type": "execute_result"
    }
   ],
   "source": [
    "wav2_input_shape"
   ]
  },
  {
   "cell_type": "code",
   "execution_count": 26,
   "id": "a5be4116",
   "metadata": {},
   "outputs": [],
   "source": [
    "for i in range(len(features_trn['interval'])):\n",
    "    features_trn['interval'][i]=np.array(features_trn['interval'][i])"
   ]
  },
  {
   "cell_type": "code",
   "execution_count": 27,
   "id": "7e660a58",
   "metadata": {},
   "outputs": [],
   "source": [
    "for i in range(len(features_trn['mel1'])):\n",
    "    features_trn['mel1'][i]=np.array(features_trn['mel1'][i])"
   ]
  },
  {
   "cell_type": "code",
   "execution_count": null,
   "id": "46889e5a",
   "metadata": {},
   "outputs": [],
   "source": []
  },
  {
   "cell_type": "code",
   "execution_count": 28,
   "id": "68c97f31",
   "metadata": {},
   "outputs": [],
   "source": [
    "def get_LCNN_o_4_dr(mel_input_shape, cqt_input_shape, stft_input_shape,interval_input_shape,wav2_input_shape,use_mel = True, use_cqt = True, use_stft = True, ord1 = True, dp = .5, fc = False, ext = False):\n",
    "        # Create a towy model.\n",
    "    age = keras.Input(shape=(6,), name = 'age_cat')\n",
    "    sex = keras.Input(shape=(2,), name = 'sex_cat')\n",
    "    hw = keras.Input(shape=(2,), name = 'height_weight')\n",
    "    preg = keras.Input(shape=(1,), name = 'is_preg')\n",
    "    loc = keras.Input(shape=(5,), name = 'loc')\n",
    "    interval = keras.Input(shape=interval_input_shape, name = 'interval')\n",
    "    wav2 = keras.Input(shape=wav2_input_shape, name = 'wav2')\n",
    "    mel1 = keras.Input(shape=mel_input_shape, name = 'mel')\n",
    "    cqt1 = keras.Input(shape=cqt_input_shape, name = 'cqt')\n",
    "    stft1 = keras.Input(shape=stft_input_shape, name = 'stft')\n",
    "        \n",
    "    ## age embeddig\n",
    "    age1 = layers.Dense(2, activation = None)(age)\n",
    "\n",
    "    ## sex embedding\n",
    "    sex1 = layers.Dense(1, activation = None)(sex)\n",
    "\n",
    "    ## hw embedding\n",
    "    hw1 = layers.Dense(1, activation = None)(hw)\n",
    "\n",
    "    ## loc embedding\n",
    "    loc1 = layers.Dense(3, activation = None)(loc)\n",
    "    \n",
    "    ## interval embedding\n",
    "    \n",
    "#     interval1 = tf.keras.layers.LSTM(20,return_sequences=True,use_bias=True, \n",
    "#                                 dropout=0.1,recurrent_dropout=0.05)(interval)\n",
    "#     interval1 = tf.keras.layers.LSTM(15,return_sequences=False,use_bias=True, dropout=0.3,\n",
    "#                                 recurrent_dropout=0.05)(interval1)\n",
    "#     interval1 = layers.Dense(15, activation='relu')(interval1)\n",
    "#     interval1 = tf.keras.layers.Conv1D(20, 3, activation='relu')(interval)\n",
    "#     interval1 = tf.keras.layers.Conv1D(10, 3, activation='relu')(interval1)\n",
    "#     interval1 = tf.keras.layers.GlobalAveragePooling1D()(interval1)\n",
    "\n",
    "    \n",
    "#     interval1 = tf.keras.layers.Conv1D(9, 3, activation='relu')(interval)\n",
    "#     interval1 = tf.keras.layers.Conv1D(9, 3, activation='relu')(interval1)\n",
    "#     interval1 = tf.keras.layers.Conv1D(7, 3, activation='relu')(interval1)\n",
    "#     interval1 = tf.keras.layers.Conv1D(7, 3, activation='relu')(interval1)\n",
    "#     interval1 = tf.keras.layers.GlobalAveragePooling1D()(interval1)\n",
    "#     interval1 = layers.Dense(3, activation='relu')(interval1)\n",
    "    interval1 = tf.keras.layers.Conv1D(9, 2, padding=\"causal\",activation='relu',dilation_rate=1)(interval)\n",
    "    interval1 = tf.keras.layers.Conv1D(9, 2, padding=\"causal\",activation='relu',dilation_rate=2)(interval1)\n",
    "    interval1 = tf.keras.layers.Conv1D(9, 2, padding=\"causal\",activation='relu',dilation_rate=4)(interval1)\n",
    "    interval1 = tf.keras.layers.Conv1D(9, 2, padding=\"causal\",activation='relu',dilation_rate=8)(interval1)\n",
    "    interval1 = tf.keras.layers.Conv1D(9, 2, padding=\"causal\",activation='relu',dilation_rate=16)(interval1)\n",
    "    interval1 = tf.keras.layers.Conv1D(9, 2, padding=\"causal\",activation='relu',dilation_rate=32)(interval1)\n",
    "    interval1 = tf.keras.layers.Conv1D(9, 2, padding=\"causal\",activation='relu',dilation_rate=64)(interval1)\n",
    "    interval1 = tf.keras.layers.Conv1D(9, 2, padding=\"causal\",activation='relu',dilation_rate=128)(interval1)\n",
    "    interval1 = tf.keras.layers.Conv1D(9, 2, padding=\"causal\",activation='relu',dilation_rate=256)(interval1)\n",
    "    interval1 = tf.keras.layers.Conv1D(9, 2, padding=\"causal\",activation='relu',dilation_rate=512)(interval1)\n",
    "    interval1 = tf.keras.layers.Conv1D(9, 2, padding=\"causal\",activation='relu',dilation_rate=1024)(interval1)\n",
    "\n",
    "#     interval1 = tf.keras.layers.Conv1D(9, 2, padding=\"causal\",activation='relu',dilation_rate=1)(interval1)\n",
    "#     interval1 = tf.keras.layers.Conv1D(9, 2, padding=\"causal\",activation='relu',dilation_rate=2)(interval1)\n",
    "#     interval1 = tf.keras.layers.Conv1D(9, 2, padding=\"causal\",activation='relu',dilation_rate=4)(interval1)\n",
    "#     interval1 = tf.keras.layers.Conv1D(9, 2, padding=\"causal\",activation='relu',dilation_rate=8)(interval1)\n",
    "#     interval1 = tf.keras.layers.Conv1D(9, 2, padding=\"causal\",activation='relu',dilation_rate=16)(interval1)\n",
    "#     interval1 = tf.keras.layers.Conv1D(9, 2, padding=\"causal\",activation='relu',dilation_rate=32)(interval1)\n",
    "#     interval1 = tf.keras.layers.Conv1D(9, 2, padding=\"causal\",activation='relu',dilation_rate=64)(interval1)\n",
    "#     interval1 = tf.keras.layers.Conv1D(9, 2, padding=\"causal\",activation='relu',dilation_rate=128)(interval1)\n",
    "#     interval1 = tf.keras.layers.Conv1D(9, 2, padding=\"causal\",activation='relu',dilation_rate=256)(interval1)\n",
    "#     interval1 = tf.keras.layers.Conv1D(9, 2, padding=\"causal\",activation='relu',dilation_rate=512)(interval1)\n",
    "#     interval1 = tf.keras.layers.Conv1D(9, 2, padding=\"causal\",activation='relu',dilation_rate=1024)(interval1)    \n",
    "\n",
    "#     interval1 = tf.keras.layers.Conv1D(9, 2, padding=\"causal\",activation='relu',dilation_rate=1)(interval1)\n",
    "#     interval1 = tf.keras.layers.Conv1D(9, 2, padding=\"causal\",activation='relu',dilation_rate=2)(interval1)\n",
    "#     interval1 = tf.keras.layers.Conv1D(9, 2, padding=\"causal\",activation='relu',dilation_rate=4)(interval1)\n",
    "#     interval1 = tf.keras.layers.Conv1D(9, 2, padding=\"causal\",activation='relu',dilation_rate=8)(interval1)\n",
    "#     interval1 = tf.keras.layers.Conv1D(9, 2, padding=\"causal\",activation='relu',dilation_rate=16)(interval1)\n",
    "#     interval1 = tf.keras.layers.Conv1D(9, 2, padding=\"causal\",activation='relu',dilation_rate=32)(interval1)\n",
    "#     interval1 = tf.keras.layers.Conv1D(9, 2, padding=\"causal\",activation='relu',dilation_rate=64)(interval1)\n",
    "#     interval1 = tf.keras.layers.Conv1D(9, 2, padding=\"causal\",activation='relu',dilation_rate=128)(interval1)\n",
    "#     interval1 = tf.keras.layers.Conv1D(9, 2, padding=\"causal\",activation='relu',dilation_rate=256)(interval1)\n",
    "#     interval1 = tf.keras.layers.Conv1D(9, 2, padding=\"causal\",activation='relu',dilation_rate=512)(interval1)\n",
    "#     interval1 = tf.keras.layers.Conv1D(9, 2, padding=\"causal\",activation='relu',dilation_rate=1024)(interval1)\n",
    "    \n",
    "    interval1 = tf.keras.layers.GlobalMaxPooling1D()(interval1)\n",
    "    \n",
    "    ## wav2 embedding\n",
    "    \n",
    "    \n",
    "    #1))))\n",
    "    \n",
    "#     wav2_1 = tf.keras.layers.Conv1D(9, 3, activation='relu')(wav2)\n",
    "#     wav2_1 = tf.keras.layers.Conv1D(9, 3, activation='relu')(wav2_1)\n",
    "#     wav2_1 = tf.keras.layers.Conv1D(7, 3, activation='relu')(wav2_1)\n",
    "#     wav2_1 = tf.keras.layers.Conv1D(7, 3, activation='relu')(wav2_1)\n",
    "#     wav2_1 = tf.keras.layers.GlobalAveragePooling1D()(wav2_1)\n",
    "#     wav2_1 = layers.Dense(3, activation='relu')(wav2_1)\n",
    "\n",
    "    #2))))\n",
    "    \n",
    "    wav2_1 = tf.keras.layers.Conv1D(9, 2, padding=\"causal\",activation='relu',dilation_rate=1)(wav2)\n",
    "    wav2_1 = tf.keras.layers.Conv1D(9, 2, padding=\"causal\",activation='relu',dilation_rate=2)(wav2_1)\n",
    "    wav2_1 = tf.keras.layers.Conv1D(9, 2, padding=\"causal\",activation='relu',dilation_rate=4)(wav2_1)\n",
    "    wav2_1 = tf.keras.layers.Conv1D(9, 2, padding=\"causal\",activation='relu',dilation_rate=8)(wav2_1)\n",
    "    wav2_1 = tf.keras.layers.Conv1D(9, 2, padding=\"causal\",activation='relu',dilation_rate=16)(wav2_1)\n",
    "    wav2_1 = tf.keras.layers.Conv1D(9, 2, padding=\"causal\",activation='relu',dilation_rate=32)(wav2_1)\n",
    "    wav2_1 = tf.keras.layers.Conv1D(9, 2, padding=\"causal\",activation='relu',dilation_rate=64)(wav2_1)\n",
    "    wav2_1 = tf.keras.layers.Conv1D(9, 2, padding=\"causal\",activation='relu',dilation_rate=128)(wav2_1)\n",
    "    wav2_1 = tf.keras.layers.Conv1D(9, 2, padding=\"causal\",activation='relu',dilation_rate=256)(wav2_1)\n",
    "    wav2_1 = tf.keras.layers.Conv1D(9, 2, padding=\"causal\",activation='relu',dilation_rate=512)(wav2_1)\n",
    "    wav2_1 = tf.keras.layers.Conv1D(9, 2, padding=\"causal\",activation='relu',dilation_rate=1024)(wav2_1)\n",
    "\n",
    "#     wav2_1 = tf.keras.layers.Conv1D(9, 2, padding=\"causal\",activation='relu',dilation_rate=1)(wav2_1)\n",
    "#     wav2_1 = tf.keras.layers.Conv1D(9, 2, padding=\"causal\",activation='relu',dilation_rate=2)(wav2_1)\n",
    "#     wav2_1 = tf.keras.layers.Conv1D(9, 2, padding=\"causal\",activation='relu',dilation_rate=4)(wav2_1)\n",
    "#     wav2_1 = tf.keras.layers.Conv1D(9, 2, padding=\"causal\",activation='relu',dilation_rate=8)(wav2_1)\n",
    "#     wav2_1 = tf.keras.layers.Conv1D(9, 2, padding=\"causal\",activation='relu',dilation_rate=16)(wav2_1)\n",
    "#     wav2_1 = tf.keras.layers.Conv1D(9, 2, padding=\"causal\",activation='relu',dilation_rate=32)(wav2_1)\n",
    "#     wav2_1 = tf.keras.layers.Conv1D(9, 2, padding=\"causal\",activation='relu',dilation_rate=64)(wav2_1)\n",
    "#     wav2_1 = tf.keras.layers.Conv1D(9, 2, padding=\"causal\",activation='relu',dilation_rate=128)(wav2_1)\n",
    "#     wav2_1 = tf.keras.layers.Conv1D(9, 2, padding=\"causal\",activation='relu',dilation_rate=256)(wav2_1)\n",
    "#     wav2_1 = tf.keras.layers.Conv1D(9, 2, padding=\"causal\",activation='relu',dilation_rate=512)(wav2_1)\n",
    "#     wav2_1 = tf.keras.layers.Conv1D(9, 2, padding=\"causal\",activation='relu',dilation_rate=1024)(wav2_1)\n",
    "    \n",
    "#     wav2_1 = tf.keras.layers.Conv1D(9, 2, padding=\"causal\",activation='relu',dilation_rate=1)(wav2_1)\n",
    "#     wav2_1 = tf.keras.layers.Conv1D(9, 2, padding=\"causal\",activation='relu',dilation_rate=2)(wav2_1)\n",
    "#     wav2_1 = tf.keras.layers.Conv1D(9, 2, padding=\"causal\",activation='relu',dilation_rate=4)(wav2_1)\n",
    "#     wav2_1 = tf.keras.layers.Conv1D(9, 2, padding=\"causal\",activation='relu',dilation_rate=8)(wav2_1)\n",
    "#     wav2_1 = tf.keras.layers.Conv1D(9, 2, padding=\"causal\",activation='relu',dilation_rate=16)(wav2_1)\n",
    "#     wav2_1 = tf.keras.layers.Conv1D(9, 2, padding=\"causal\",activation='relu',dilation_rate=32)(wav2_1)\n",
    "#     wav2_1 = tf.keras.layers.Conv1D(9, 2, padding=\"causal\",activation='relu',dilation_rate=64)(wav2_1)\n",
    "#     wav2_1 = tf.keras.layers.Conv1D(9, 2, padding=\"causal\",activation='relu',dilation_rate=128)(wav2_1)\n",
    "#     wav2_1 = tf.keras.layers.Conv1D(9, 2, padding=\"causal\",activation='relu',dilation_rate=256)(wav2_1)\n",
    "#     wav2_1 = tf.keras.layers.Conv1D(9, 2, padding=\"causal\",activation='relu',dilation_rate=512)(wav2_1)\n",
    "#     wav2_1 = tf.keras.layers.Conv1D(9, 2, padding=\"causal\",activation='relu',dilation_rate=1024)(wav2_1)\n",
    "    \n",
    "    \n",
    "    wav2_1 = tf.keras.layers.GlobalMaxPooling1D()(wav2_1) \n",
    "\n",
    "#     wav2_1 = tf.keras.applications.MobileNetV2(input_shape=(224,224,3),alpha=1.0,\n",
    "#                                                include_top=False,\n",
    "#                                                weights=\"imagenet\",\n",
    "#                                                pooling='avg',\n",
    "#                                                classes=1000,\n",
    "#                                                classifier_activation=\"softmax\")(wav2)\n",
    "    \n",
    "    \n",
    "    ## mel embedding\n",
    "    if use_mel :\n",
    "        \n",
    "        conv1_1 = Conv2D(filters = 32, kernel_size =5, strides=(1, 1), padding='same', activation=None)(mel1)\n",
    "        conv1_2 = Conv2D(filters = 32, kernel_size =5, strides=(1, 1), padding='same', activation=None)(mel1)\n",
    "        mfm2 = tensorflow.keras.layers.maximum([conv1_1, conv1_2])\n",
    "        max3 = MaxPool2D(pool_size=(2, 2), strides=(2, 2), padding='same')(mfm2)\n",
    "\n",
    "        conv4_1 = Conv2D(filters = 32, kernel_size =1, strides=(1, 1), padding='same', activation=None)(max3)\n",
    "        conv4_2 = Conv2D(filters = 32, kernel_size =1, strides=(1, 1), padding='same', activation=None)(max3)\n",
    "        mfm5 = tensorflow.keras.layers.maximum([conv4_1, conv4_2])\n",
    "        batch6 = BatchNormalization(axis=3, scale=False)(mfm5)\n",
    "\n",
    "        conv7_1 = Conv2D(filters = 48, kernel_size =3, strides=(1, 1), padding='same', activation=None)(batch6)\n",
    "        conv7_2 = Conv2D(filters = 48, kernel_size =3, strides=(1, 1), padding='same', activation=None)(batch6)\n",
    "        mfm8 = tensorflow.keras.layers.maximum([conv7_1, conv7_2])\n",
    "\n",
    "        max9 = MaxPool2D(pool_size=(2, 2), strides=(2, 2), padding='same')(mfm8)\n",
    "        batch10 = BatchNormalization(axis=3, scale=False)(max9)\n",
    "\n",
    "        conv11_1 = Conv2D(filters = 48, kernel_size =1, strides=(1, 1), padding='same', activation=None)(batch10)\n",
    "        conv11_2 = Conv2D(filters = 48, kernel_size =1, strides=(1, 1), padding='same', activation=None)(batch10)\n",
    "        mfm12 = tensorflow.keras.layers.maximum([conv11_1, conv11_2])\n",
    "        batch13 = BatchNormalization(axis=3, scale=False)(mfm12)\n",
    "\n",
    "        conv14_1 = Conv2D(filters = 64, kernel_size =3, strides=(1, 1), padding='same', activation=None)(batch13)\n",
    "        conv14_2 = Conv2D(filters = 64, kernel_size =3, strides=(1, 1), padding='same', activation=None)(batch13)\n",
    "        mfm15 = tensorflow.keras.layers.maximum([conv14_1, conv14_2])\n",
    "\n",
    "        max16 = MaxPool2D(pool_size=(2, 2), strides=(2, 2), padding='same')(mfm15)\n",
    "\n",
    "        conv17_1 = Conv2D(filters = 64, kernel_size =1, strides=(1, 1), padding='same', activation=None)(max16)\n",
    "        conv17_2 = Conv2D(filters = 64, kernel_size =1, strides=(1, 1), padding='same', activation=None)(max16)\n",
    "        mfm18 = tensorflow.keras.layers.maximum([conv17_1, conv17_2])\n",
    "        batch19 = BatchNormalization(axis=3, scale=False)(mfm18)\n",
    "\n",
    "        conv20_1 = Conv2D(filters = 32, kernel_size =3, strides=(1, 1), padding='same', activation=None)(batch19)\n",
    "        conv20_2 = Conv2D(filters = 32, kernel_size =3, strides=(1, 1), padding='same', activation=None)(batch19)\n",
    "        mfm21 = tensorflow.keras.layers.maximum([conv20_1, conv20_2])\n",
    "        batch22 = BatchNormalization(axis=3, scale=False)(mfm21)\n",
    "\n",
    "        conv23_1 = Conv2D(filters = 32, kernel_size =1, strides=(1, 1), padding='same', activation=None)(batch22)\n",
    "        conv23_2 = Conv2D(filters = 32, kernel_size =1, strides=(1, 1), padding='same', activation=None)(batch22)\n",
    "        mfm24 = tensorflow.keras.layers.maximum([conv23_1, conv23_2])\n",
    "        batch25 = BatchNormalization(axis=3, scale=False)(mfm24)\n",
    "\n",
    "        conv26_1 = Conv2D(filters = 32, kernel_size =1, strides=(1, 1), padding='same', activation=None)(batch25)\n",
    "        conv26_2 = Conv2D(filters = 32, kernel_size =1, strides=(1, 1), padding='same', activation=None)(batch25)\n",
    "        mfm27 = tensorflow.keras.layers.maximum([conv26_1, conv26_2])\n",
    "\n",
    "        max28 = MaxPool2D(pool_size=(2, 2), strides=(2, 2), padding='valid')(mfm27)\n",
    "        mel2 = layers.GlobalAveragePooling2D()(max28)\n",
    "        mel2 = Dropout(dp)(mel2)\n",
    "\n",
    "    if use_cqt:\n",
    "        ## cqt embedding\n",
    "        conv1_1 = Conv2D(filters = 32, kernel_size =5, strides=(1, 1), padding='same', activation=None)(cqt1)\n",
    "        conv1_2 = Conv2D(filters = 32, kernel_size =5, strides=(1, 1), padding='same', activation=None)(cqt1)\n",
    "        mfm2 = tensorflow.keras.layers.maximum([conv1_1, conv1_2])\n",
    "        max3 = MaxPool2D(pool_size=(2, 2), strides=(2, 2), padding='same')(mfm2)\n",
    "        \n",
    "        conv4_1 = Conv2D(filters = 32, kernel_size =1, strides=(1, 1), padding='same', activation=None)(max3)\n",
    "        conv4_2 = Conv2D(filters = 32, kernel_size =1, strides=(1, 1), padding='same', activation=None)(max3)\n",
    "        mfm5 = tensorflow.keras.layers.maximum([conv4_1, conv4_2])\n",
    "        batch6 = BatchNormalization(axis=3, scale=False)(mfm5)\n",
    "\n",
    "        conv7_1 = Conv2D(filters = 48, kernel_size =3, strides=(1, 1), padding='same', activation=None)(batch6)\n",
    "        conv7_2 = Conv2D(filters = 48, kernel_size =3, strides=(1, 1), padding='same', activation=None)(batch6)\n",
    "        mfm8 = tensorflow.keras.layers.maximum([conv7_1, conv7_2])\n",
    "\n",
    "        max9 = MaxPool2D(pool_size=(2, 2), strides=(2, 2), padding='same')(mfm8)\n",
    "        batch10 = BatchNormalization(axis=3, scale=False)(max9)\n",
    "\n",
    "        conv11_1 = Conv2D(filters = 48, kernel_size =1, strides=(1, 1), padding='same', activation=None)(batch10)\n",
    "        conv11_2 = Conv2D(filters = 48, kernel_size =1, strides=(1, 1), padding='same', activation=None)(batch10)\n",
    "        mfm12 = tensorflow.keras.layers.maximum([conv11_1, conv11_2])\n",
    "        batch13 = BatchNormalization(axis=3, scale=False)(mfm12)\n",
    "\n",
    "        conv14_1 = Conv2D(filters = 64, kernel_size =3, strides=(1, 1), padding='same', activation=None)(batch13)\n",
    "        conv14_2 = Conv2D(filters = 64, kernel_size =3, strides=(1, 1), padding='same', activation=None)(batch13)\n",
    "        mfm15 = tensorflow.keras.layers.maximum([conv14_1, conv14_2])\n",
    "\n",
    "        max16 = MaxPool2D(pool_size=(2, 2), strides=(2, 2), padding='same')(mfm15)\n",
    "\n",
    "        conv17_1 = Conv2D(filters = 64, kernel_size =1, strides=(1, 1), padding='same', activation=None)(max16)\n",
    "        conv17_2 = Conv2D(filters = 64, kernel_size =1, strides=(1, 1), padding='same', activation=None)(max16)\n",
    "        mfm18 = tensorflow.keras.layers.maximum([conv17_1, conv17_2])\n",
    "        batch19 = BatchNormalization(axis=3, scale=False)(mfm18)\n",
    "\n",
    "        conv20_1 = Conv2D(filters = 32, kernel_size =3, strides=(1, 1), padding='same', activation=None)(batch19)\n",
    "        conv20_2 = Conv2D(filters = 32, kernel_size =3, strides=(1, 1), padding='same', activation=None)(batch19)\n",
    "        mfm21 = tensorflow.keras.layers.maximum([conv20_1, conv20_2])\n",
    "        batch22 = BatchNormalization(axis=3, scale=False)(mfm21)\n",
    "\n",
    "        conv23_1 = Conv2D(filters = 32, kernel_size =1, strides=(1, 1), padding='same', activation=None)(batch22)\n",
    "        conv23_2 = Conv2D(filters = 32, kernel_size =1, strides=(1, 1), padding='same', activation=None)(batch22)\n",
    "        mfm24 = tensorflow.keras.layers.maximum([conv23_1, conv23_2])\n",
    "        batch25 = BatchNormalization(axis=3, scale=False)(mfm24)\n",
    "\n",
    "        conv26_1 = Conv2D(filters = 32, kernel_size =1, strides=(1, 1), padding='same', activation=None)(batch25)\n",
    "        conv26_2 = Conv2D(filters = 32, kernel_size =1, strides=(1, 1), padding='same', activation=None)(batch25)\n",
    "        mfm27 = tensorflow.keras.layers.maximum([conv26_1, conv26_2])\n",
    "        \n",
    "        max28 = MaxPool2D(pool_size=(2, 2), strides=(2, 2), padding='valid')(mfm27)\n",
    "        cqt2 = layers.GlobalAveragePooling2D()(max28)\n",
    "        cqt2 = Dropout(dp)(cqt2)\n",
    "\n",
    "    if use_stft :\n",
    "        ## stft embedding\n",
    "        conv1_1 = Conv2D(filters = 32, kernel_size =5, strides=(1, 1), padding='same', activation=None)(stft1)\n",
    "        conv1_2 = Conv2D(filters = 32, kernel_size =5, strides=(1, 1), padding='same', activation=None)(stft1)\n",
    "        mfm2 = tensorflow.keras.layers.maximum([conv1_1, conv1_2])\n",
    "        max3 = MaxPool2D(pool_size=(2, 2), strides=(2, 2), padding='same')(mfm2)\n",
    "        \n",
    "        conv4_1 = Conv2D(filters = 32, kernel_size =1, strides=(1, 1), padding='same', activation=None)(max3)\n",
    "        conv4_2 = Conv2D(filters = 32, kernel_size =1, strides=(1, 1), padding='same', activation=None)(max3)\n",
    "        mfm5 = tensorflow.keras.layers.maximum([conv4_1, conv4_2])\n",
    "        batch6 = BatchNormalization(axis=3, scale=False)(mfm5)\n",
    "        \n",
    "        conv7_1 = Conv2D(filters = 48, kernel_size =3, strides=(1, 1), padding='same', activation=None)(batch6)\n",
    "        conv7_2 = Conv2D(filters = 48, kernel_size =3, strides=(1, 1), padding='same', activation=None)(batch6)\n",
    "        mfm8 = tensorflow.keras.layers.maximum([conv7_1, conv7_2])\n",
    "        \n",
    "        max9 = MaxPool2D(pool_size=(2, 2), strides=(2, 2), padding='same')(mfm8)\n",
    "        batch10 = BatchNormalization(axis=3, scale=False)(max9)\n",
    "        \n",
    "        conv11_1 = Conv2D(filters = 48, kernel_size =1, strides=(1, 1), padding='same', activation=None)(batch10)\n",
    "        conv11_2 = Conv2D(filters = 48, kernel_size =1, strides=(1, 1), padding='same', activation=None)(batch10)\n",
    "        mfm12 = tensorflow.keras.layers.maximum([conv11_1, conv11_2])\n",
    "        batch13 = BatchNormalization(axis=3, scale=False)(mfm12)\n",
    "\n",
    "        conv14_1 = Conv2D(filters = 64, kernel_size =3, strides=(1, 1), padding='same', activation=None)(batch13)\n",
    "        conv14_2 = Conv2D(filters = 64, kernel_size =3, strides=(1, 1), padding='same', activation=None)(batch13)\n",
    "        mfm15 = tensorflow.keras.layers.maximum([conv14_1, conv14_2])\n",
    "        \n",
    "        max16 = MaxPool2D(pool_size=(2, 2), strides=(2, 2), padding='same')(mfm15)\n",
    "\n",
    "        conv17_1 = Conv2D(filters = 64, kernel_size =1, strides=(1, 1), padding='same', activation=None)(max16)\n",
    "        conv17_2 = Conv2D(filters = 64, kernel_size =1, strides=(1, 1), padding='same', activation=None)(max16)\n",
    "        mfm18 = tensorflow.keras.layers.maximum([conv17_1, conv17_2])\n",
    "        batch19 = BatchNormalization(axis=3, scale=False)(mfm18)\n",
    "\n",
    "        conv20_1 = Conv2D(filters = 32, kernel_size =3, strides=(1, 1), padding='same', activation=None)(batch19)\n",
    "        conv20_2 = Conv2D(filters = 32, kernel_size =3, strides=(1, 1), padding='same', activation=None)(batch19)\n",
    "        mfm21 = tensorflow.keras.layers.maximum([conv20_1, conv20_2])\n",
    "        batch22 = BatchNormalization(axis=3, scale=False)(mfm21)\n",
    "\n",
    "        conv23_1 = Conv2D(filters = 32, kernel_size =1, strides=(1, 1), padding='same', activation=None)(batch22)\n",
    "        conv23_2 = Conv2D(filters = 32, kernel_size =1, strides=(1, 1), padding='same', activation=None)(batch22)\n",
    "        mfm24 = tensorflow.keras.layers.maximum([conv23_1, conv23_2])\n",
    "        batch25 = BatchNormalization(axis=3, scale=False)(mfm24)\n",
    "\n",
    "        conv26_1 = Conv2D(filters = 32, kernel_size =1, strides=(1, 1), padding='same', activation=None)(batch25)\n",
    "        conv26_2 = Conv2D(filters = 32, kernel_size =1, strides=(1, 1), padding='same', activation=None)(batch25)\n",
    "        mfm27 = tensorflow.keras.layers.maximum([conv26_1, conv26_2])\n",
    "        \n",
    "        max28 = MaxPool2D(pool_size=(2, 2), strides=(2, 2), padding='valid')(mfm27)\n",
    "        stft2 = layers.GlobalAveragePooling2D()(max28)\n",
    "        stft2 = Dropout(dp)(stft2)\n",
    "    \n",
    "    \n",
    "    if use_mel and use_cqt and use_stft :\n",
    "        concat2 = layers.Concatenate()([mel2, cqt2, stft2])\n",
    "    if not use_mel and use_cqt and use_stft :\n",
    "        concat2 = layers.Concatenate()([cqt2, stft2])\n",
    "    if use_mel and not use_cqt and use_stft :\n",
    "        concat2 = layers.Concatenate()([mel2, stft2])\n",
    "    if use_mel and use_cqt and not use_stft :\n",
    "        concat2 = layers.Concatenate()([mel2, cqt2])\n",
    "    if not use_mel and not use_cqt and use_stft :  ## stft 만\n",
    "        concat2 = stft2\n",
    "    if use_mel and not use_cqt and not use_stft :  ### mel만\n",
    "        concat2 = mel2\n",
    "    if not use_mel and use_cqt and not use_stft :  ### cqt만\n",
    "        concat2 = cqt2\n",
    "\n",
    "    if ext :\n",
    "        \n",
    "        concat1 = layers.Concatenate()([age1, sex1, hw1, loc1, interval1,preg])\n",
    "        d1 = layers.Dense(10, activation='relu')(concat1)\n",
    "        concat2 = layers.Concatenate()([concat2, d1,wav2_1])\n",
    "        \n",
    "    if fc :\n",
    "        concat2 = layers.Dense(10, activation = \"relu\")(concat2)\n",
    "        concat2 = Dropout(dp)(concat2)\n",
    "        \n",
    "    if ord1 :\n",
    "        res1 = layers.Dense(2, activation = \"softmax\")(concat2)\n",
    "        \n",
    "        \n",
    "\n",
    "        \n",
    "    else :\n",
    "        res1 = layers.Dense(3, activation = \"softmax\")(concat2)\n",
    "\n",
    "        \n",
    "        \n",
    "        \n",
    "#     res2 = layers.Dense(2, activation = \"softmax\")(concat2)\n",
    "\n",
    "    model = keras.Model(inputs = [age,sex,hw,preg,loc,interval,wav2,mel1,stft1,cqt1] , outputs = res1 )\n",
    "    \n",
    "    model.compile(loss=['categorical_crossentropy'], optimizer='adam', metrics=['accuracy','AUC'])\n",
    "    return(model)\n"
   ]
  },
  {
   "cell_type": "code",
   "execution_count": null,
   "id": "dbd58a49",
   "metadata": {},
   "outputs": [],
   "source": []
  },
  {
   "cell_type": "code",
   "execution_count": 29,
   "id": "5ffbed82",
   "metadata": {},
   "outputs": [],
   "source": [
    "model1 = get_LCNN_o_4_dr(mel_input_shape, cqt_input_shape, stft_input_shape,interval_input_shape,wav2_input_shape, use_mel = use_mel, use_cqt = use_cqt, use_stft = use_stft, ord1 = ord1, dp = dp, fc = fc, ext = ext)"
   ]
  },
  {
   "cell_type": "code",
   "execution_count": 30,
   "id": "9ccc8685",
   "metadata": {},
   "outputs": [],
   "source": [
    "\n",
    "model2 = get_LCNN_o_4_dr(mel_input_shape, cqt_input_shape, stft_input_shape,interval_input_shape,wav2_input_shape, use_mel = use_mel, use_cqt = use_cqt, use_stft = use_stft, ord1 = ord1, dp = dp, fc = fc, ext = ext)\n"
   ]
  },
  {
   "cell_type": "code",
   "execution_count": 31,
   "id": "4e462fa8",
   "metadata": {},
   "outputs": [
    {
     "name": "stdout",
     "output_type": "stream",
     "text": [
      "Model: \"model\"\n",
      "__________________________________________________________________________________________________\n",
      " Layer (type)                   Output Shape         Param #     Connected to                     \n",
      "==================================================================================================\n",
      " mel (InputLayer)               [(None, 120, 313, 1  0           []                               \n",
      "                                )]                                                                \n",
      "                                                                                                  \n",
      " conv2d (Conv2D)                (None, 120, 313, 32  832         ['mel[0][0]']                    \n",
      "                                )                                                                 \n",
      "                                                                                                  \n",
      " conv2d_1 (Conv2D)              (None, 120, 313, 32  832         ['mel[0][0]']                    \n",
      "                                )                                                                 \n",
      "                                                                                                  \n",
      " maximum (Maximum)              (None, 120, 313, 32  0           ['conv2d[0][0]',                 \n",
      "                                )                                 'conv2d_1[0][0]']               \n",
      "                                                                                                  \n",
      " max_pooling2d (MaxPooling2D)   (None, 60, 157, 32)  0           ['maximum[0][0]']                \n",
      "                                                                                                  \n",
      " conv2d_2 (Conv2D)              (None, 60, 157, 32)  1056        ['max_pooling2d[0][0]']          \n",
      "                                                                                                  \n",
      " conv2d_3 (Conv2D)              (None, 60, 157, 32)  1056        ['max_pooling2d[0][0]']          \n",
      "                                                                                                  \n",
      " maximum_1 (Maximum)            (None, 60, 157, 32)  0           ['conv2d_2[0][0]',               \n",
      "                                                                  'conv2d_3[0][0]']               \n",
      "                                                                                                  \n",
      " batch_normalization (BatchNorm  (None, 60, 157, 32)  96         ['maximum_1[0][0]']              \n",
      " alization)                                                                                       \n",
      "                                                                                                  \n",
      " conv2d_4 (Conv2D)              (None, 60, 157, 48)  13872       ['batch_normalization[0][0]']    \n",
      "                                                                                                  \n",
      " conv2d_5 (Conv2D)              (None, 60, 157, 48)  13872       ['batch_normalization[0][0]']    \n",
      "                                                                                                  \n",
      " maximum_2 (Maximum)            (None, 60, 157, 48)  0           ['conv2d_4[0][0]',               \n",
      "                                                                  'conv2d_5[0][0]']               \n",
      "                                                                                                  \n",
      " max_pooling2d_1 (MaxPooling2D)  (None, 30, 79, 48)  0           ['maximum_2[0][0]']              \n",
      "                                                                                                  \n",
      " batch_normalization_1 (BatchNo  (None, 30, 79, 48)  144         ['max_pooling2d_1[0][0]']        \n",
      " rmalization)                                                                                     \n",
      "                                                                                                  \n",
      " conv2d_6 (Conv2D)              (None, 30, 79, 48)   2352        ['batch_normalization_1[0][0]']  \n",
      "                                                                                                  \n",
      " conv2d_7 (Conv2D)              (None, 30, 79, 48)   2352        ['batch_normalization_1[0][0]']  \n",
      "                                                                                                  \n",
      " maximum_3 (Maximum)            (None, 30, 79, 48)   0           ['conv2d_6[0][0]',               \n",
      "                                                                  'conv2d_7[0][0]']               \n",
      "                                                                                                  \n",
      " batch_normalization_2 (BatchNo  (None, 30, 79, 48)  144         ['maximum_3[0][0]']              \n",
      " rmalization)                                                                                     \n",
      "                                                                                                  \n",
      " conv2d_8 (Conv2D)              (None, 30, 79, 64)   27712       ['batch_normalization_2[0][0]']  \n",
      "                                                                                                  \n",
      " conv2d_9 (Conv2D)              (None, 30, 79, 64)   27712       ['batch_normalization_2[0][0]']  \n",
      "                                                                                                  \n",
      " maximum_4 (Maximum)            (None, 30, 79, 64)   0           ['conv2d_8[0][0]',               \n",
      "                                                                  'conv2d_9[0][0]']               \n",
      "                                                                                                  \n",
      " max_pooling2d_2 (MaxPooling2D)  (None, 15, 40, 64)  0           ['maximum_4[0][0]']              \n",
      "                                                                                                  \n",
      " interval (InputLayer)          [(None, 115, 1)]     0           []                               \n",
      "                                                                                                  \n",
      " conv2d_10 (Conv2D)             (None, 15, 40, 64)   4160        ['max_pooling2d_2[0][0]']        \n",
      "                                                                                                  \n",
      " conv2d_11 (Conv2D)             (None, 15, 40, 64)   4160        ['max_pooling2d_2[0][0]']        \n",
      "                                                                                                  \n",
      " conv1d (Conv1D)                (None, 115, 9)       27          ['interval[0][0]']               \n",
      "                                                                                                  \n",
      " maximum_5 (Maximum)            (None, 15, 40, 64)   0           ['conv2d_10[0][0]',              \n",
      "                                                                  'conv2d_11[0][0]']              \n",
      "                                                                                                  \n",
      " conv1d_1 (Conv1D)              (None, 115, 9)       171         ['conv1d[0][0]']                 \n",
      "                                                                                                  \n",
      " wav2 (InputLayer)              [(None, 32, 374)]    0           []                               \n",
      "                                                                                                  \n",
      " batch_normalization_3 (BatchNo  (None, 15, 40, 64)  192         ['maximum_5[0][0]']              \n",
      " rmalization)                                                                                     \n",
      "                                                                                                  \n",
      " conv1d_2 (Conv1D)              (None, 115, 9)       171         ['conv1d_1[0][0]']               \n",
      "                                                                                                  \n",
      " conv1d_11 (Conv1D)             (None, 32, 9)        6741        ['wav2[0][0]']                   \n",
      "                                                                                                  \n",
      " conv2d_12 (Conv2D)             (None, 15, 40, 32)   18464       ['batch_normalization_3[0][0]']  \n",
      "                                                                                                  \n",
      " conv2d_13 (Conv2D)             (None, 15, 40, 32)   18464       ['batch_normalization_3[0][0]']  \n"
     ]
    },
    {
     "name": "stdout",
     "output_type": "stream",
     "text": [
      "                                                                                                  \n",
      " conv1d_3 (Conv1D)              (None, 115, 9)       171         ['conv1d_2[0][0]']               \n",
      "                                                                                                  \n",
      " conv1d_12 (Conv1D)             (None, 32, 9)        171         ['conv1d_11[0][0]']              \n",
      "                                                                                                  \n",
      " maximum_6 (Maximum)            (None, 15, 40, 32)   0           ['conv2d_12[0][0]',              \n",
      "                                                                  'conv2d_13[0][0]']              \n",
      "                                                                                                  \n",
      " conv1d_4 (Conv1D)              (None, 115, 9)       171         ['conv1d_3[0][0]']               \n",
      "                                                                                                  \n",
      " conv1d_13 (Conv1D)             (None, 32, 9)        171         ['conv1d_12[0][0]']              \n",
      "                                                                                                  \n",
      " batch_normalization_4 (BatchNo  (None, 15, 40, 32)  96          ['maximum_6[0][0]']              \n",
      " rmalization)                                                                                     \n",
      "                                                                                                  \n",
      " conv1d_5 (Conv1D)              (None, 115, 9)       171         ['conv1d_4[0][0]']               \n",
      "                                                                                                  \n",
      " conv1d_14 (Conv1D)             (None, 32, 9)        171         ['conv1d_13[0][0]']              \n",
      "                                                                                                  \n",
      " conv2d_14 (Conv2D)             (None, 15, 40, 32)   1056        ['batch_normalization_4[0][0]']  \n",
      "                                                                                                  \n",
      " conv2d_15 (Conv2D)             (None, 15, 40, 32)   1056        ['batch_normalization_4[0][0]']  \n",
      "                                                                                                  \n",
      " conv1d_6 (Conv1D)              (None, 115, 9)       171         ['conv1d_5[0][0]']               \n",
      "                                                                                                  \n",
      " conv1d_15 (Conv1D)             (None, 32, 9)        171         ['conv1d_14[0][0]']              \n",
      "                                                                                                  \n",
      " maximum_7 (Maximum)            (None, 15, 40, 32)   0           ['conv2d_14[0][0]',              \n",
      "                                                                  'conv2d_15[0][0]']              \n",
      "                                                                                                  \n",
      " conv1d_7 (Conv1D)              (None, 115, 9)       171         ['conv1d_6[0][0]']               \n",
      "                                                                                                  \n",
      " conv1d_16 (Conv1D)             (None, 32, 9)        171         ['conv1d_15[0][0]']              \n",
      "                                                                                                  \n",
      " batch_normalization_5 (BatchNo  (None, 15, 40, 32)  96          ['maximum_7[0][0]']              \n",
      " rmalization)                                                                                     \n",
      "                                                                                                  \n",
      " conv1d_8 (Conv1D)              (None, 115, 9)       171         ['conv1d_7[0][0]']               \n",
      "                                                                                                  \n",
      " conv1d_17 (Conv1D)             (None, 32, 9)        171         ['conv1d_16[0][0]']              \n",
      "                                                                                                  \n",
      " conv2d_16 (Conv2D)             (None, 15, 40, 32)   1056        ['batch_normalization_5[0][0]']  \n",
      "                                                                                                  \n",
      " conv2d_17 (Conv2D)             (None, 15, 40, 32)   1056        ['batch_normalization_5[0][0]']  \n",
      "                                                                                                  \n",
      " conv1d_9 (Conv1D)              (None, 115, 9)       171         ['conv1d_8[0][0]']               \n",
      "                                                                                                  \n",
      " conv1d_18 (Conv1D)             (None, 32, 9)        171         ['conv1d_17[0][0]']              \n",
      "                                                                                                  \n",
      " maximum_8 (Maximum)            (None, 15, 40, 32)   0           ['conv2d_16[0][0]',              \n",
      "                                                                  'conv2d_17[0][0]']              \n",
      "                                                                                                  \n",
      " age_cat (InputLayer)           [(None, 6)]          0           []                               \n",
      "                                                                                                  \n",
      " sex_cat (InputLayer)           [(None, 2)]          0           []                               \n",
      "                                                                                                  \n",
      " height_weight (InputLayer)     [(None, 2)]          0           []                               \n",
      "                                                                                                  \n",
      " loc (InputLayer)               [(None, 5)]          0           []                               \n",
      "                                                                                                  \n",
      " conv1d_10 (Conv1D)             (None, 115, 9)       171         ['conv1d_9[0][0]']               \n",
      "                                                                                                  \n",
      " conv1d_19 (Conv1D)             (None, 32, 9)        171         ['conv1d_18[0][0]']              \n",
      "                                                                                                  \n",
      " max_pooling2d_3 (MaxPooling2D)  (None, 7, 20, 32)   0           ['maximum_8[0][0]']              \n",
      "                                                                                                  \n",
      " dense (Dense)                  (None, 2)            14          ['age_cat[0][0]']                \n",
      "                                                                                                  \n",
      " dense_1 (Dense)                (None, 1)            3           ['sex_cat[0][0]']                \n",
      "                                                                                                  \n",
      " dense_2 (Dense)                (None, 1)            3           ['height_weight[0][0]']          \n",
      "                                                                                                  \n",
      " dense_3 (Dense)                (None, 3)            18          ['loc[0][0]']                    \n",
      "                                                                                                  \n",
      " global_max_pooling1d (GlobalMa  (None, 9)           0           ['conv1d_10[0][0]']              \n",
      " xPooling1D)                                                                                      \n",
      "                                                                                                  \n",
      " is_preg (InputLayer)           [(None, 1)]          0           []                               \n",
      "                                                                                                  \n",
      " conv1d_20 (Conv1D)             (None, 32, 9)        171         ['conv1d_19[0][0]']              \n",
      "                                                                                                  \n",
      " global_average_pooling2d (Glob  (None, 32)          0           ['max_pooling2d_3[0][0]']        \n",
      " alAveragePooling2D)                                                                              \n"
     ]
    },
    {
     "name": "stdout",
     "output_type": "stream",
     "text": [
      "                                                                                                  \n",
      " concatenate (Concatenate)      (None, 17)           0           ['dense[0][0]',                  \n",
      "                                                                  'dense_1[0][0]',                \n",
      "                                                                  'dense_2[0][0]',                \n",
      "                                                                  'dense_3[0][0]',                \n",
      "                                                                  'global_max_pooling1d[0][0]',   \n",
      "                                                                  'is_preg[0][0]']                \n",
      "                                                                                                  \n",
      " conv1d_21 (Conv1D)             (None, 32, 9)        171         ['conv1d_20[0][0]']              \n",
      "                                                                                                  \n",
      " dropout_27 (Dropout)           (None, 32)           0           ['global_average_pooling2d[0][0]'\n",
      "                                                                 ]                                \n",
      "                                                                                                  \n",
      " dense_4 (Dense)                (None, 10)           180         ['concatenate[0][0]']            \n",
      "                                                                                                  \n",
      " global_max_pooling1d_1 (Global  (None, 9)           0           ['conv1d_21[0][0]']              \n",
      " MaxPooling1D)                                                                                    \n",
      "                                                                                                  \n",
      " concatenate_1 (Concatenate)    (None, 51)           0           ['dropout_27[0][0]',             \n",
      "                                                                  'dense_4[0][0]',                \n",
      "                                                                  'global_max_pooling1d_1[0][0]'] \n",
      "                                                                                                  \n",
      " stft (InputLayer)              [(None, 1, 1, 1)]    0           []                               \n",
      "                                                                                                  \n",
      " cqt (InputLayer)               [(None, 1, 1, 1)]    0           []                               \n",
      "                                                                                                  \n",
      " dense_5 (Dense)                (None, 2)            104         ['concatenate_1[0][0]']          \n",
      "                                                                                                  \n",
      "==================================================================================================\n",
      "Total params: 152,398\n",
      "Trainable params: 151,886\n",
      "Non-trainable params: 512\n",
      "__________________________________________________________________________________________________\n"
     ]
    }
   ],
   "source": [
    "model1.summary()"
   ]
  },
  {
   "cell_type": "code",
   "execution_count": 32,
   "id": "8d2279ce",
   "metadata": {
    "scrolled": true
   },
   "outputs": [
    {
     "name": "stdout",
     "output_type": "stream",
     "text": [
      "Model: \"model_1\"\n",
      "__________________________________________________________________________________________________\n",
      " Layer (type)                   Output Shape         Param #     Connected to                     \n",
      "==================================================================================================\n",
      " mel (InputLayer)               [(None, 120, 313, 1  0           []                               \n",
      "                                )]                                                                \n",
      "                                                                                                  \n",
      " conv2d_18 (Conv2D)             (None, 120, 313, 32  832         ['mel[0][0]']                    \n",
      "                                )                                                                 \n",
      "                                                                                                  \n",
      " conv2d_19 (Conv2D)             (None, 120, 313, 32  832         ['mel[0][0]']                    \n",
      "                                )                                                                 \n",
      "                                                                                                  \n",
      " maximum_9 (Maximum)            (None, 120, 313, 32  0           ['conv2d_18[0][0]',              \n",
      "                                )                                 'conv2d_19[0][0]']              \n",
      "                                                                                                  \n",
      " max_pooling2d_4 (MaxPooling2D)  (None, 60, 157, 32)  0          ['maximum_9[0][0]']              \n",
      "                                                                                                  \n",
      " conv2d_20 (Conv2D)             (None, 60, 157, 32)  1056        ['max_pooling2d_4[0][0]']        \n",
      "                                                                                                  \n",
      " conv2d_21 (Conv2D)             (None, 60, 157, 32)  1056        ['max_pooling2d_4[0][0]']        \n",
      "                                                                                                  \n",
      " maximum_10 (Maximum)           (None, 60, 157, 32)  0           ['conv2d_20[0][0]',              \n",
      "                                                                  'conv2d_21[0][0]']              \n",
      "                                                                                                  \n",
      " batch_normalization_6 (BatchNo  (None, 60, 157, 32)  96         ['maximum_10[0][0]']             \n",
      " rmalization)                                                                                     \n",
      "                                                                                                  \n",
      " conv2d_22 (Conv2D)             (None, 60, 157, 48)  13872       ['batch_normalization_6[0][0]']  \n",
      "                                                                                                  \n",
      " conv2d_23 (Conv2D)             (None, 60, 157, 48)  13872       ['batch_normalization_6[0][0]']  \n",
      "                                                                                                  \n",
      " maximum_11 (Maximum)           (None, 60, 157, 48)  0           ['conv2d_22[0][0]',              \n",
      "                                                                  'conv2d_23[0][0]']              \n",
      "                                                                                                  \n",
      " max_pooling2d_5 (MaxPooling2D)  (None, 30, 79, 48)  0           ['maximum_11[0][0]']             \n",
      "                                                                                                  \n",
      " batch_normalization_7 (BatchNo  (None, 30, 79, 48)  144         ['max_pooling2d_5[0][0]']        \n",
      " rmalization)                                                                                     \n",
      "                                                                                                  \n",
      " conv2d_24 (Conv2D)             (None, 30, 79, 48)   2352        ['batch_normalization_7[0][0]']  \n",
      "                                                                                                  \n",
      " conv2d_25 (Conv2D)             (None, 30, 79, 48)   2352        ['batch_normalization_7[0][0]']  \n",
      "                                                                                                  \n",
      " maximum_12 (Maximum)           (None, 30, 79, 48)   0           ['conv2d_24[0][0]',              \n",
      "                                                                  'conv2d_25[0][0]']              \n",
      "                                                                                                  \n",
      " batch_normalization_8 (BatchNo  (None, 30, 79, 48)  144         ['maximum_12[0][0]']             \n",
      " rmalization)                                                                                     \n",
      "                                                                                                  \n",
      " conv2d_26 (Conv2D)             (None, 30, 79, 64)   27712       ['batch_normalization_8[0][0]']  \n",
      "                                                                                                  \n",
      " conv2d_27 (Conv2D)             (None, 30, 79, 64)   27712       ['batch_normalization_8[0][0]']  \n",
      "                                                                                                  \n",
      " maximum_13 (Maximum)           (None, 30, 79, 64)   0           ['conv2d_26[0][0]',              \n",
      "                                                                  'conv2d_27[0][0]']              \n",
      "                                                                                                  \n",
      " max_pooling2d_6 (MaxPooling2D)  (None, 15, 40, 64)  0           ['maximum_13[0][0]']             \n",
      "                                                                                                  \n",
      " interval (InputLayer)          [(None, 115, 1)]     0           []                               \n",
      "                                                                                                  \n",
      " conv2d_28 (Conv2D)             (None, 15, 40, 64)   4160        ['max_pooling2d_6[0][0]']        \n",
      "                                                                                                  \n",
      " conv2d_29 (Conv2D)             (None, 15, 40, 64)   4160        ['max_pooling2d_6[0][0]']        \n",
      "                                                                                                  \n",
      " conv1d_22 (Conv1D)             (None, 115, 9)       27          ['interval[0][0]']               \n",
      "                                                                                                  \n",
      " maximum_14 (Maximum)           (None, 15, 40, 64)   0           ['conv2d_28[0][0]',              \n",
      "                                                                  'conv2d_29[0][0]']              \n",
      "                                                                                                  \n",
      " conv1d_23 (Conv1D)             (None, 115, 9)       171         ['conv1d_22[0][0]']              \n",
      "                                                                                                  \n",
      " wav2 (InputLayer)              [(None, 32, 374)]    0           []                               \n",
      "                                                                                                  \n",
      " batch_normalization_9 (BatchNo  (None, 15, 40, 64)  192         ['maximum_14[0][0]']             \n",
      " rmalization)                                                                                     \n",
      "                                                                                                  \n",
      " conv1d_24 (Conv1D)             (None, 115, 9)       171         ['conv1d_23[0][0]']              \n",
      "                                                                                                  \n",
      " conv1d_33 (Conv1D)             (None, 32, 9)        6741        ['wav2[0][0]']                   \n",
      "                                                                                                  \n",
      " conv2d_30 (Conv2D)             (None, 15, 40, 32)   18464       ['batch_normalization_9[0][0]']  \n",
      "                                                                                                  \n",
      " conv2d_31 (Conv2D)             (None, 15, 40, 32)   18464       ['batch_normalization_9[0][0]']  \n"
     ]
    },
    {
     "name": "stdout",
     "output_type": "stream",
     "text": [
      "                                                                                                  \n",
      " conv1d_25 (Conv1D)             (None, 115, 9)       171         ['conv1d_24[0][0]']              \n",
      "                                                                                                  \n",
      " conv1d_34 (Conv1D)             (None, 32, 9)        171         ['conv1d_33[0][0]']              \n",
      "                                                                                                  \n",
      " maximum_15 (Maximum)           (None, 15, 40, 32)   0           ['conv2d_30[0][0]',              \n",
      "                                                                  'conv2d_31[0][0]']              \n",
      "                                                                                                  \n",
      " conv1d_26 (Conv1D)             (None, 115, 9)       171         ['conv1d_25[0][0]']              \n",
      "                                                                                                  \n",
      " conv1d_35 (Conv1D)             (None, 32, 9)        171         ['conv1d_34[0][0]']              \n",
      "                                                                                                  \n",
      " batch_normalization_10 (BatchN  (None, 15, 40, 32)  96          ['maximum_15[0][0]']             \n",
      " ormalization)                                                                                    \n",
      "                                                                                                  \n",
      " conv1d_27 (Conv1D)             (None, 115, 9)       171         ['conv1d_26[0][0]']              \n",
      "                                                                                                  \n",
      " conv1d_36 (Conv1D)             (None, 32, 9)        171         ['conv1d_35[0][0]']              \n",
      "                                                                                                  \n",
      " conv2d_32 (Conv2D)             (None, 15, 40, 32)   1056        ['batch_normalization_10[0][0]'] \n",
      "                                                                                                  \n",
      " conv2d_33 (Conv2D)             (None, 15, 40, 32)   1056        ['batch_normalization_10[0][0]'] \n",
      "                                                                                                  \n",
      " conv1d_28 (Conv1D)             (None, 115, 9)       171         ['conv1d_27[0][0]']              \n",
      "                                                                                                  \n",
      " conv1d_37 (Conv1D)             (None, 32, 9)        171         ['conv1d_36[0][0]']              \n",
      "                                                                                                  \n",
      " maximum_16 (Maximum)           (None, 15, 40, 32)   0           ['conv2d_32[0][0]',              \n",
      "                                                                  'conv2d_33[0][0]']              \n",
      "                                                                                                  \n",
      " conv1d_29 (Conv1D)             (None, 115, 9)       171         ['conv1d_28[0][0]']              \n",
      "                                                                                                  \n",
      " conv1d_38 (Conv1D)             (None, 32, 9)        171         ['conv1d_37[0][0]']              \n",
      "                                                                                                  \n",
      " batch_normalization_11 (BatchN  (None, 15, 40, 32)  96          ['maximum_16[0][0]']             \n",
      " ormalization)                                                                                    \n",
      "                                                                                                  \n",
      " conv1d_30 (Conv1D)             (None, 115, 9)       171         ['conv1d_29[0][0]']              \n",
      "                                                                                                  \n",
      " conv1d_39 (Conv1D)             (None, 32, 9)        171         ['conv1d_38[0][0]']              \n",
      "                                                                                                  \n",
      " conv2d_34 (Conv2D)             (None, 15, 40, 32)   1056        ['batch_normalization_11[0][0]'] \n",
      "                                                                                                  \n",
      " conv2d_35 (Conv2D)             (None, 15, 40, 32)   1056        ['batch_normalization_11[0][0]'] \n",
      "                                                                                                  \n",
      " conv1d_31 (Conv1D)             (None, 115, 9)       171         ['conv1d_30[0][0]']              \n",
      "                                                                                                  \n",
      " conv1d_40 (Conv1D)             (None, 32, 9)        171         ['conv1d_39[0][0]']              \n",
      "                                                                                                  \n",
      " maximum_17 (Maximum)           (None, 15, 40, 32)   0           ['conv2d_34[0][0]',              \n",
      "                                                                  'conv2d_35[0][0]']              \n",
      "                                                                                                  \n",
      " age_cat (InputLayer)           [(None, 6)]          0           []                               \n",
      "                                                                                                  \n",
      " sex_cat (InputLayer)           [(None, 2)]          0           []                               \n",
      "                                                                                                  \n",
      " height_weight (InputLayer)     [(None, 2)]          0           []                               \n",
      "                                                                                                  \n",
      " loc (InputLayer)               [(None, 5)]          0           []                               \n",
      "                                                                                                  \n",
      " conv1d_32 (Conv1D)             (None, 115, 9)       171         ['conv1d_31[0][0]']              \n",
      "                                                                                                  \n",
      " conv1d_41 (Conv1D)             (None, 32, 9)        171         ['conv1d_40[0][0]']              \n",
      "                                                                                                  \n",
      " max_pooling2d_7 (MaxPooling2D)  (None, 7, 20, 32)   0           ['maximum_17[0][0]']             \n",
      "                                                                                                  \n",
      " dense_6 (Dense)                (None, 2)            14          ['age_cat[0][0]']                \n",
      "                                                                                                  \n",
      " dense_7 (Dense)                (None, 1)            3           ['sex_cat[0][0]']                \n",
      "                                                                                                  \n",
      " dense_8 (Dense)                (None, 1)            3           ['height_weight[0][0]']          \n",
      "                                                                                                  \n",
      " dense_9 (Dense)                (None, 3)            18          ['loc[0][0]']                    \n",
      "                                                                                                  \n",
      " global_max_pooling1d_2 (Global  (None, 9)           0           ['conv1d_32[0][0]']              \n",
      " MaxPooling1D)                                                                                    \n",
      "                                                                                                  \n",
      " is_preg (InputLayer)           [(None, 1)]          0           []                               \n",
      "                                                                                                  \n",
      " conv1d_42 (Conv1D)             (None, 32, 9)        171         ['conv1d_41[0][0]']              \n",
      "                                                                                                  \n",
      " global_average_pooling2d_1 (Gl  (None, 32)          0           ['max_pooling2d_7[0][0]']        \n",
      " obalAveragePooling2D)                                                                            \n"
     ]
    },
    {
     "name": "stdout",
     "output_type": "stream",
     "text": [
      "                                                                                                  \n",
      " concatenate_2 (Concatenate)    (None, 17)           0           ['dense_6[0][0]',                \n",
      "                                                                  'dense_7[0][0]',                \n",
      "                                                                  'dense_8[0][0]',                \n",
      "                                                                  'dense_9[0][0]',                \n",
      "                                                                  'global_max_pooling1d_2[0][0]', \n",
      "                                                                  'is_preg[0][0]']                \n",
      "                                                                                                  \n",
      " conv1d_43 (Conv1D)             (None, 32, 9)        171         ['conv1d_42[0][0]']              \n",
      "                                                                                                  \n",
      " dropout_28 (Dropout)           (None, 32)           0           ['global_average_pooling2d_1[0][0\n",
      "                                                                 ]']                              \n",
      "                                                                                                  \n",
      " dense_10 (Dense)               (None, 10)           180         ['concatenate_2[0][0]']          \n",
      "                                                                                                  \n",
      " global_max_pooling1d_3 (Global  (None, 9)           0           ['conv1d_43[0][0]']              \n",
      " MaxPooling1D)                                                                                    \n",
      "                                                                                                  \n",
      " concatenate_3 (Concatenate)    (None, 51)           0           ['dropout_28[0][0]',             \n",
      "                                                                  'dense_10[0][0]',               \n",
      "                                                                  'global_max_pooling1d_3[0][0]'] \n",
      "                                                                                                  \n",
      " stft (InputLayer)              [(None, 1, 1, 1)]    0           []                               \n",
      "                                                                                                  \n",
      " cqt (InputLayer)               [(None, 1, 1, 1)]    0           []                               \n",
      "                                                                                                  \n",
      " dense_11 (Dense)               (None, 2)            104         ['concatenate_3[0][0]']          \n",
      "                                                                                                  \n",
      "==================================================================================================\n",
      "Total params: 152,398\n",
      "Trainable params: 151,886\n",
      "Non-trainable params: 512\n",
      "__________________________________________________________________________________________________\n"
     ]
    }
   ],
   "source": [
    "model2.summary()"
   ]
  },
  {
   "cell_type": "code",
   "execution_count": null,
   "id": "222b2f6f",
   "metadata": {},
   "outputs": [],
   "source": []
  },
  {
   "cell_type": "code",
   "execution_count": null,
   "id": "48bbf746",
   "metadata": {},
   "outputs": [],
   "source": []
  },
  {
   "cell_type": "code",
   "execution_count": 33,
   "id": "57a145f2",
   "metadata": {
    "scrolled": false
   },
   "outputs": [
    {
     "name": "stdout",
     "output_type": "stream",
     "text": [
      "Epoch 1/100\n",
      "40/40 [==============================] - 7s 108ms/step - loss: 1.4617 - accuracy: 0.6551 - auc: 0.6727 - val_loss: 5.0737 - val_accuracy: 0.7892 - val_auc: 0.7915 - lr: 9.9851e-04\n",
      "Epoch 2/100\n",
      "40/40 [==============================] - 3s 84ms/step - loss: 0.8921 - accuracy: 0.7652 - auc: 0.8341 - val_loss: 0.9624 - val_accuracy: 0.7892 - val_auc: 0.8414 - lr: 9.9831e-04\n",
      "Epoch 3/100\n",
      "40/40 [==============================] - 3s 83ms/step - loss: 0.8520 - accuracy: 0.7949 - auc: 0.8581 - val_loss: 0.5422 - val_accuracy: 0.7892 - val_auc: 0.8532 - lr: 9.9807e-04\n",
      "Epoch 4/100\n",
      "40/40 [==============================] - 3s 80ms/step - loss: 0.8720 - accuracy: 0.8012 - auc: 0.8523 - val_loss: 0.4349 - val_accuracy: 0.8288 - val_auc: 0.8876 - lr: 9.9781e-04\n",
      "Epoch 5/100\n",
      "40/40 [==============================] - 3s 82ms/step - loss: 0.8627 - accuracy: 0.7875 - auc: 0.8548 - val_loss: 0.5016 - val_accuracy: 0.8098 - val_auc: 0.8887 - lr: 9.9750e-04\n",
      "Epoch 6/100\n",
      "40/40 [==============================] - 3s 82ms/step - loss: 0.8480 - accuracy: 0.8047 - auc: 0.8663 - val_loss: 0.4604 - val_accuracy: 0.8067 - val_auc: 0.8875 - lr: 9.9716e-04\n",
      "Epoch 7/100\n",
      "40/40 [==============================] - 3s 83ms/step - loss: 0.8773 - accuracy: 0.7879 - auc: 0.8523 - val_loss: 0.4198 - val_accuracy: 0.8463 - val_auc: 0.8901 - lr: 9.9676e-04\n",
      "Epoch 8/100\n",
      "40/40 [==============================] - 3s 84ms/step - loss: 0.8530 - accuracy: 0.8047 - auc: 0.8735 - val_loss: 0.4081 - val_accuracy: 0.8399 - val_auc: 0.9000 - lr: 9.9632e-04\n",
      "Epoch 9/100\n",
      "40/40 [==============================] - 3s 81ms/step - loss: 0.8039 - accuracy: 0.8195 - auc: 0.8700 - val_loss: 0.4645 - val_accuracy: 0.8114 - val_auc: 0.8759 - lr: 9.9581e-04\n",
      "Epoch 10/100\n",
      "40/40 [==============================] - 3s 81ms/step - loss: 0.8151 - accuracy: 0.8234 - auc: 0.8663 - val_loss: 0.4229 - val_accuracy: 0.8558 - val_auc: 0.9062 - lr: 9.9523e-04\n",
      "Epoch 11/100\n",
      "40/40 [==============================] - 3s 85ms/step - loss: 0.8407 - accuracy: 0.7914 - auc: 0.8720 - val_loss: 0.7383 - val_accuracy: 0.4723 - val_auc: 0.4862 - lr: 9.9457e-04\n",
      "Epoch 12/100\n",
      "40/40 [==============================] - 3s 83ms/step - loss: 0.8466 - accuracy: 0.7918 - auc: 0.8531 - val_loss: 0.8307 - val_accuracy: 0.2742 - val_auc: 0.3381 - lr: 9.9382e-04\n",
      "Epoch 13/100\n",
      "40/40 [==============================] - 3s 85ms/step - loss: 0.8195 - accuracy: 0.8105 - auc: 0.8774 - val_loss: 0.6316 - val_accuracy: 0.6260 - val_auc: 0.6816 - lr: 9.9297e-04\n",
      "Epoch 14/100\n",
      "40/40 [==============================] - 3s 83ms/step - loss: 0.8017 - accuracy: 0.8184 - auc: 0.8769 - val_loss: 0.3686 - val_accuracy: 0.8796 - val_auc: 0.9376 - lr: 9.9200e-04\n",
      "Epoch 15/100\n",
      "40/40 [==============================] - 3s 81ms/step - loss: 0.8172 - accuracy: 0.7918 - auc: 0.8730 - val_loss: 0.3638 - val_accuracy: 0.8590 - val_auc: 0.9288 - lr: 9.9090e-04\n",
      "Epoch 16/100\n",
      "40/40 [==============================] - 3s 80ms/step - loss: 0.8022 - accuracy: 0.8043 - auc: 0.8746 - val_loss: 0.4069 - val_accuracy: 0.8320 - val_auc: 0.9151 - lr: 9.8965e-04\n",
      "Epoch 17/100\n",
      "40/40 [==============================] - 3s 81ms/step - loss: 0.8591 - accuracy: 0.7859 - auc: 0.8629 - val_loss: 0.4434 - val_accuracy: 0.8336 - val_auc: 0.9019 - lr: 9.8823e-04\n",
      "Epoch 18/100\n",
      "40/40 [==============================] - 3s 80ms/step - loss: 0.8290 - accuracy: 0.8062 - auc: 0.8800 - val_loss: 0.8538 - val_accuracy: 0.4279 - val_auc: 0.4254 - lr: 9.8662e-04\n",
      "Epoch 19/100\n",
      "40/40 [==============================] - 3s 81ms/step - loss: 0.8094 - accuracy: 0.8090 - auc: 0.8754 - val_loss: 0.4803 - val_accuracy: 0.8257 - val_auc: 0.8760 - lr: 9.8479e-04\n",
      "Epoch 20/100\n",
      "40/40 [==============================] - 3s 81ms/step - loss: 0.8126 - accuracy: 0.8199 - auc: 0.8851 - val_loss: 0.4179 - val_accuracy: 0.8780 - val_auc: 0.9396 - lr: 9.8271e-04\n",
      "Epoch 21/100\n",
      "40/40 [==============================] - 3s 80ms/step - loss: 0.7877 - accuracy: 0.8160 - auc: 0.8861 - val_loss: 0.4019 - val_accuracy: 0.9049 - val_auc: 0.9415 - lr: 9.8036e-04\n",
      "Epoch 22/100\n",
      "40/40 [==============================] - 3s 84ms/step - loss: 0.8379 - accuracy: 0.7969 - auc: 0.8758 - val_loss: 0.3747 - val_accuracy: 0.8415 - val_auc: 0.9251 - lr: 9.7769e-04\n",
      "Epoch 23/100\n",
      "40/40 [==============================] - 3s 82ms/step - loss: 0.7904 - accuracy: 0.8117 - auc: 0.8830 - val_loss: 1.2601 - val_accuracy: 0.2139 - val_auc: 0.2490 - lr: 9.7468e-04\n",
      "Epoch 24/100\n",
      "40/40 [==============================] - 3s 81ms/step - loss: 0.8208 - accuracy: 0.8043 - auc: 0.8852 - val_loss: 0.4587 - val_accuracy: 0.8716 - val_auc: 0.9407 - lr: 9.7126e-04\n",
      "Epoch 25/100\n",
      "40/40 [==============================] - 3s 84ms/step - loss: 0.8202 - accuracy: 0.8055 - auc: 0.8822 - val_loss: 1.6976 - val_accuracy: 0.2108 - val_auc: 0.2171 - lr: 9.6740e-04\n",
      "Epoch 26/100\n",
      "40/40 [==============================] - 3s 83ms/step - loss: 0.8103 - accuracy: 0.8066 - auc: 0.8806 - val_loss: 1.2172 - val_accuracy: 0.2139 - val_auc: 0.2758 - lr: 9.6305e-04\n",
      "Epoch 27/100\n",
      "40/40 [==============================] - 3s 84ms/step - loss: 0.7964 - accuracy: 0.8199 - auc: 0.8851 - val_loss: 0.3618 - val_accuracy: 0.8732 - val_auc: 0.9193 - lr: 9.5813e-04\n",
      "Epoch 28/100\n",
      "40/40 [==============================] - 3s 80ms/step - loss: 0.7916 - accuracy: 0.8090 - auc: 0.8871 - val_loss: 0.4808 - val_accuracy: 0.8336 - val_auc: 0.8988 - lr: 9.5260e-04\n",
      "Epoch 29/100\n",
      "40/40 [==============================] - 3s 80ms/step - loss: 0.8090 - accuracy: 0.8020 - auc: 0.8759 - val_loss: 0.4002 - val_accuracy: 0.8875 - val_auc: 0.9375 - lr: 9.4637e-04\n",
      "Epoch 30/100\n",
      "40/40 [==============================] - 3s 80ms/step - loss: 0.8094 - accuracy: 0.8156 - auc: 0.8845 - val_loss: 0.4215 - val_accuracy: 0.8685 - val_auc: 0.9203 - lr: 9.3939e-04\n",
      "Epoch 31/100\n",
      "40/40 [==============================] - 3s 81ms/step - loss: 0.8336 - accuracy: 0.8055 - auc: 0.8782 - val_loss: 0.3441 - val_accuracy: 0.8827 - val_auc: 0.9281 - lr: 9.3155e-04\n",
      "Epoch 32/100\n",
      "40/40 [==============================] - 3s 81ms/step - loss: 0.8050 - accuracy: 0.8098 - auc: 0.8810 - val_loss: 0.3451 - val_accuracy: 0.8827 - val_auc: 0.9487 - lr: 9.2279e-04\n",
      "Epoch 33/100\n",
      "40/40 [==============================] - 3s 81ms/step - loss: 0.7651 - accuracy: 0.8215 - auc: 0.8893 - val_loss: 0.3321 - val_accuracy: 0.8954 - val_auc: 0.9447 - lr: 9.1301e-04\n",
      "Epoch 34/100\n",
      "40/40 [==============================] - 3s 81ms/step - loss: 0.7642 - accuracy: 0.8246 - auc: 0.8954 - val_loss: 0.3922 - val_accuracy: 0.8922 - val_auc: 0.9350 - lr: 9.0213e-04\n",
      "Epoch 35/100\n",
      "40/40 [==============================] - 3s 81ms/step - loss: 0.7929 - accuracy: 0.8070 - auc: 0.8889 - val_loss: 0.3564 - val_accuracy: 0.8811 - val_auc: 0.9335 - lr: 8.9005e-04\n",
      "Epoch 36/100\n",
      "40/40 [==============================] - 3s 83ms/step - loss: 0.7753 - accuracy: 0.8289 - auc: 0.8850 - val_loss: 0.5169 - val_accuracy: 0.7544 - val_auc: 0.8486 - lr: 8.7669e-04\n",
      "Epoch 37/100\n",
      "40/40 [==============================] - 3s 83ms/step - loss: 0.8205 - accuracy: 0.8020 - auc: 0.8825 - val_loss: 0.4564 - val_accuracy: 0.8320 - val_auc: 0.9096 - lr: 8.6196e-04\n",
      "Epoch 38/100\n",
      "40/40 [==============================] - 3s 84ms/step - loss: 0.7939 - accuracy: 0.8016 - auc: 0.8811 - val_loss: 0.4055 - val_accuracy: 0.8954 - val_auc: 0.9359 - lr: 8.4578e-04\n",
      "Epoch 39/100\n",
      "40/40 [==============================] - 3s 84ms/step - loss: 0.8137 - accuracy: 0.7980 - auc: 0.8870 - val_loss: 0.4517 - val_accuracy: 0.8510 - val_auc: 0.9209 - lr: 8.2809e-04\n",
      "Epoch 40/100\n",
      "40/40 [==============================] - 3s 82ms/step - loss: 0.7852 - accuracy: 0.8195 - auc: 0.8964 - val_loss: 0.3596 - val_accuracy: 0.8922 - val_auc: 0.9395 - lr: 8.0883e-04\n",
      "Epoch 41/100\n",
      "40/40 [==============================] - 3s 81ms/step - loss: 0.7617 - accuracy: 0.8242 - auc: 0.8998 - val_loss: 0.8325 - val_accuracy: 0.2868 - val_auc: 0.3353 - lr: 7.8798e-04\n",
      "Epoch 42/100\n",
      "40/40 [==============================] - 3s 81ms/step - loss: 0.7850 - accuracy: 0.8270 - auc: 0.8932 - val_loss: 0.4209 - val_accuracy: 0.8843 - val_auc: 0.9360 - lr: 7.6551e-04\n",
      "Epoch 43/100\n",
      "40/40 [==============================] - 3s 81ms/step - loss: 0.7648 - accuracy: 0.8227 - auc: 0.8953 - val_loss: 0.3496 - val_accuracy: 0.8685 - val_auc: 0.9323 - lr: 7.4146e-04\n"
     ]
    },
    {
     "name": "stdout",
     "output_type": "stream",
     "text": [
      "Epoch 44/100\n",
      "40/40 [==============================] - 3s 81ms/step - loss: 0.8045 - accuracy: 0.8156 - auc: 0.8842 - val_loss: 0.3551 - val_accuracy: 0.9049 - val_auc: 0.9466 - lr: 7.1587e-04\n",
      "Epoch 45/100\n",
      "40/40 [==============================] - 3s 81ms/step - loss: 0.8005 - accuracy: 0.8098 - auc: 0.8833 - val_loss: 0.6278 - val_accuracy: 0.6181 - val_auc: 0.6838 - lr: 6.8882e-04\n",
      "Epoch 46/100\n",
      "40/40 [==============================] - 3s 85ms/step - loss: 0.7772 - accuracy: 0.8207 - auc: 0.8869 - val_loss: 0.3637 - val_accuracy: 0.8669 - val_auc: 0.9293 - lr: 6.6044e-04\n",
      "Epoch 47/100\n",
      "40/40 [==============================] - 3s 81ms/step - loss: 0.7715 - accuracy: 0.8195 - auc: 0.8944 - val_loss: 0.3649 - val_accuracy: 0.9002 - val_auc: 0.9360 - lr: 6.3088e-04\n",
      "Epoch 48/100\n",
      "40/40 [==============================] - 3s 83ms/step - loss: 0.7657 - accuracy: 0.8281 - auc: 0.8894 - val_loss: 0.3469 - val_accuracy: 0.8922 - val_auc: 0.9412 - lr: 6.0032e-04\n",
      "Epoch 49/100\n",
      "40/40 [==============================] - 3s 85ms/step - loss: 0.7896 - accuracy: 0.8172 - auc: 0.8924 - val_loss: 0.3683 - val_accuracy: 0.9033 - val_auc: 0.9390 - lr: 5.6899e-04\n",
      "Epoch 50/100\n",
      "40/40 [==============================] - 3s 86ms/step - loss: 0.8315 - accuracy: 0.8074 - auc: 0.8894 - val_loss: 0.4398 - val_accuracy: 0.8780 - val_auc: 0.9362 - lr: 5.3713e-04\n",
      "Epoch 51/100\n",
      "40/40 [==============================] - 3s 85ms/step - loss: 0.8027 - accuracy: 0.8156 - auc: 0.8807 - val_loss: 0.6132 - val_accuracy: 0.6403 - val_auc: 0.7061 - lr: 5.0500e-04\n",
      "Epoch 52/100\n",
      "40/40 [==============================] - 3s 85ms/step - loss: 0.7985 - accuracy: 0.8152 - auc: 0.8924 - val_loss: 0.4704 - val_accuracy: 0.8304 - val_auc: 0.9024 - lr: 4.7287e-04\n",
      "Epoch 53/100\n",
      "40/40 [==============================] - 3s 84ms/step - loss: 0.7703 - accuracy: 0.8191 - auc: 0.8971 - val_loss: 0.5379 - val_accuracy: 0.7639 - val_auc: 0.8267 - lr: 4.4101e-04\n",
      "Epoch 54/100\n",
      "40/40 [==============================] - 3s 82ms/step - loss: 0.8025 - accuracy: 0.8168 - auc: 0.8864 - val_loss: 0.6346 - val_accuracy: 0.6149 - val_auc: 0.6603 - lr: 4.0968e-04\n",
      "Epoch 55/100\n",
      "40/40 [==============================] - 3s 86ms/step - loss: 0.7838 - accuracy: 0.8098 - auc: 0.8820 - val_loss: 0.3956 - val_accuracy: 0.8986 - val_auc: 0.9446 - lr: 3.7912e-04\n",
      "Epoch 56/100\n",
      "40/40 [==============================] - 3s 85ms/step - loss: 0.8033 - accuracy: 0.7977 - auc: 0.8892 - val_loss: 0.5543 - val_accuracy: 0.7132 - val_auc: 0.7955 - lr: 3.4956e-04\n",
      "Epoch 57/100\n",
      "40/40 [==============================] - 3s 86ms/step - loss: 0.7667 - accuracy: 0.8254 - auc: 0.8954 - val_loss: 0.3576 - val_accuracy: 0.9081 - val_auc: 0.9456 - lr: 3.2118e-04\n",
      "Epoch 58/100\n",
      "40/40 [==============================] - 3s 82ms/step - loss: 0.7799 - accuracy: 0.8125 - auc: 0.8928 - val_loss: 0.3798 - val_accuracy: 0.8384 - val_auc: 0.9223 - lr: 2.9413e-04\n",
      "Epoch 59/100\n",
      "40/40 [==============================] - 3s 81ms/step - loss: 0.7892 - accuracy: 0.8199 - auc: 0.9027 - val_loss: 0.3582 - val_accuracy: 0.8986 - val_auc: 0.9494 - lr: 2.6854e-04\n",
      "Epoch 60/100\n",
      "40/40 [==============================] - 3s 80ms/step - loss: 0.7622 - accuracy: 0.8281 - auc: 0.9069 - val_loss: 0.4440 - val_accuracy: 0.8716 - val_auc: 0.9311 - lr: 2.4449e-04\n",
      "Epoch 61/100\n",
      "40/40 [==============================] - 3s 81ms/step - loss: 0.7862 - accuracy: 0.8230 - auc: 0.8965 - val_loss: 0.3403 - val_accuracy: 0.8954 - val_auc: 0.9393 - lr: 2.2202e-04\n",
      "Epoch 62/100\n",
      "40/40 [==============================] - 3s 81ms/step - loss: 0.7504 - accuracy: 0.8379 - auc: 0.9043 - val_loss: 0.4459 - val_accuracy: 0.8590 - val_auc: 0.9190 - lr: 2.0117e-04\n",
      "Epoch 63/100\n",
      "40/40 [==============================] - 3s 80ms/step - loss: 0.7485 - accuracy: 0.8379 - auc: 0.9106 - val_loss: 0.3344 - val_accuracy: 0.9081 - val_auc: 0.9484 - lr: 1.8191e-04\n",
      "Epoch 64/100\n",
      "40/40 [==============================] - 3s 81ms/step - loss: 0.7718 - accuracy: 0.8359 - auc: 0.8980 - val_loss: 0.3786 - val_accuracy: 0.9144 - val_auc: 0.9472 - lr: 1.6422e-04\n",
      "Epoch 65/100\n",
      "40/40 [==============================] - 3s 81ms/step - loss: 0.7658 - accuracy: 0.8273 - auc: 0.9010 - val_loss: 0.3961 - val_accuracy: 0.9049 - val_auc: 0.9471 - lr: 1.4804e-04\n",
      "Epoch 66/100\n",
      "40/40 [==============================] - 3s 80ms/step - loss: 0.7649 - accuracy: 0.8332 - auc: 0.9012 - val_loss: 0.3944 - val_accuracy: 0.9160 - val_auc: 0.9488 - lr: 1.3331e-04\n",
      "Epoch 67/100\n",
      "40/40 [==============================] - 3s 80ms/step - loss: 0.7727 - accuracy: 0.8164 - auc: 0.8980 - val_loss: 0.3443 - val_accuracy: 0.9081 - val_auc: 0.9439 - lr: 1.1995e-04\n",
      "Epoch 68/100\n",
      "40/40 [==============================] - 3s 81ms/step - loss: 0.7742 - accuracy: 0.8211 - auc: 0.9007 - val_loss: 0.3526 - val_accuracy: 0.9002 - val_auc: 0.9375 - lr: 1.0787e-04\n",
      "Epoch 69/100\n",
      "40/40 [==============================] - 3s 81ms/step - loss: 0.7614 - accuracy: 0.8223 - auc: 0.8995 - val_loss: 0.3504 - val_accuracy: 0.8986 - val_auc: 0.9431 - lr: 9.6985e-05\n",
      "Epoch 70/100\n",
      "40/40 [==============================] - 3s 81ms/step - loss: 0.7525 - accuracy: 0.8281 - auc: 0.9121 - val_loss: 0.3656 - val_accuracy: 0.8986 - val_auc: 0.9502 - lr: 8.7208e-05\n",
      "Epoch 71/100\n",
      "40/40 [==============================] - 3s 80ms/step - loss: 0.7563 - accuracy: 0.8250 - auc: 0.9091 - val_loss: 0.3988 - val_accuracy: 0.8970 - val_auc: 0.9438 - lr: 7.8447e-05\n",
      "Epoch 72/100\n",
      "40/40 [==============================] - 3s 80ms/step - loss: 0.7270 - accuracy: 0.8324 - auc: 0.9096 - val_loss: 0.4122 - val_accuracy: 0.8859 - val_auc: 0.9377 - lr: 7.0614e-05\n",
      "Epoch 73/100\n",
      "40/40 [==============================] - 3s 80ms/step - loss: 0.7616 - accuracy: 0.8242 - auc: 0.9036 - val_loss: 0.4036 - val_accuracy: 0.8970 - val_auc: 0.9410 - lr: 6.3625e-05\n",
      "Epoch 74/100\n",
      "40/40 [==============================] - 3s 80ms/step - loss: 0.7600 - accuracy: 0.8305 - auc: 0.9047 - val_loss: 0.3794 - val_accuracy: 0.9065 - val_auc: 0.9480 - lr: 5.7401e-05\n",
      "Epoch 75/100\n",
      "40/40 [==============================] - 3s 80ms/step - loss: 0.7614 - accuracy: 0.8266 - auc: 0.9050 - val_loss: 0.3525 - val_accuracy: 0.9097 - val_auc: 0.9464 - lr: 5.1867e-05\n",
      "Epoch 76/100\n",
      "40/40 [==============================] - 3s 81ms/step - loss: 0.7410 - accuracy: 0.8414 - auc: 0.9094 - val_loss: 0.3848 - val_accuracy: 0.9017 - val_auc: 0.9459 - lr: 4.6954e-05\n",
      "Epoch 77/100\n",
      "40/40 [==============================] - 3s 80ms/step - loss: 0.7644 - accuracy: 0.8238 - auc: 0.9014 - val_loss: 0.3679 - val_accuracy: 0.9113 - val_auc: 0.9459 - lr: 4.2597e-05\n",
      "Epoch 78/100\n",
      "40/40 [==============================] - 3s 81ms/step - loss: 0.7482 - accuracy: 0.8277 - auc: 0.9059 - val_loss: 0.3714 - val_accuracy: 0.9081 - val_auc: 0.9464 - lr: 3.8739e-05\n",
      "Epoch 79/100\n",
      "40/40 [==============================] - 3s 82ms/step - loss: 0.7548 - accuracy: 0.8398 - auc: 0.9078 - val_loss: 0.3800 - val_accuracy: 0.9065 - val_auc: 0.9452 - lr: 3.5325e-05\n",
      "Epoch 80/100\n",
      "40/40 [==============================] - 3s 81ms/step - loss: 0.7811 - accuracy: 0.8293 - auc: 0.9012 - val_loss: 0.4315 - val_accuracy: 0.8669 - val_auc: 0.9296 - lr: 3.2307e-05\n",
      "Epoch 81/100\n",
      "40/40 [==============================] - 3s 81ms/step - loss: 0.7747 - accuracy: 0.8285 - auc: 0.8958 - val_loss: 0.3958 - val_accuracy: 0.9049 - val_auc: 0.9445 - lr: 2.9642e-05\n",
      "Epoch 82/100\n",
      "40/40 [==============================] - 3s 81ms/step - loss: 0.7416 - accuracy: 0.8309 - auc: 0.9033 - val_loss: 0.3750 - val_accuracy: 0.9065 - val_auc: 0.9467 - lr: 2.7289e-05\n",
      "Epoch 83/100\n",
      "40/40 [==============================] - 3s 81ms/step - loss: 0.7228 - accuracy: 0.8422 - auc: 0.9099 - val_loss: 0.3668 - val_accuracy: 0.9081 - val_auc: 0.9475 - lr: 2.5214e-05\n",
      "Epoch 84/100\n",
      "40/40 [==============================] - 3s 81ms/step - loss: 0.7742 - accuracy: 0.8254 - auc: 0.9063 - val_loss: 0.3753 - val_accuracy: 0.9081 - val_auc: 0.9473 - lr: 2.3384e-05\n",
      "Epoch 85/100\n",
      "40/40 [==============================] - 3s 81ms/step - loss: 0.7395 - accuracy: 0.8305 - auc: 0.9081 - val_loss: 0.3768 - val_accuracy: 0.9081 - val_auc: 0.9477 - lr: 2.1772e-05\n",
      "Epoch 86/100\n",
      "40/40 [==============================] - 3s 81ms/step - loss: 0.7587 - accuracy: 0.8270 - auc: 0.9062 - val_loss: 0.3787 - val_accuracy: 0.9113 - val_auc: 0.9474 - lr: 2.0352e-05\n"
     ]
    },
    {
     "name": "stdout",
     "output_type": "stream",
     "text": [
      "Epoch 87/100\n",
      "40/40 [==============================] - 3s 81ms/step - loss: 0.7400 - accuracy: 0.8387 - auc: 0.9098 - val_loss: 0.3813 - val_accuracy: 0.9065 - val_auc: 0.9466 - lr: 1.9102e-05\n",
      "Epoch 88/100\n",
      "40/40 [==============================] - 3s 82ms/step - loss: 0.7905 - accuracy: 0.8180 - auc: 0.9075 - val_loss: 0.4156 - val_accuracy: 0.8859 - val_auc: 0.9375 - lr: 1.8001e-05\n",
      "Epoch 89/100\n",
      "40/40 [==============================] - 3s 81ms/step - loss: 0.7648 - accuracy: 0.8285 - auc: 0.9039 - val_loss: 0.4047 - val_accuracy: 0.9002 - val_auc: 0.9423 - lr: 1.7033e-05\n",
      "Epoch 90/100\n",
      "40/40 [==============================] - 3s 80ms/step - loss: 0.7346 - accuracy: 0.8246 - auc: 0.9061 - val_loss: 0.3832 - val_accuracy: 0.9097 - val_auc: 0.9465 - lr: 1.6181e-05\n",
      "Epoch 91/100\n",
      "40/40 [==============================] - 3s 82ms/step - loss: 0.7663 - accuracy: 0.8191 - auc: 0.9074 - val_loss: 0.3828 - val_accuracy: 0.9065 - val_auc: 0.9459 - lr: 1.5431e-05\n",
      "Epoch 92/100\n",
      "40/40 [==============================] - 3s 82ms/step - loss: 0.7902 - accuracy: 0.8160 - auc: 0.9036 - val_loss: 0.3919 - val_accuracy: 0.9065 - val_auc: 0.9448 - lr: 1.4773e-05\n",
      "Epoch 93/100\n",
      "40/40 [==============================] - 3s 84ms/step - loss: 0.7825 - accuracy: 0.8230 - auc: 0.9054 - val_loss: 0.3845 - val_accuracy: 0.9097 - val_auc: 0.9456 - lr: 1.4193e-05\n",
      "Epoch 94/100\n",
      "40/40 [==============================] - 3s 81ms/step - loss: 0.7453 - accuracy: 0.8285 - auc: 0.9062 - val_loss: 0.3775 - val_accuracy: 0.9065 - val_auc: 0.9474 - lr: 1.3684e-05\n",
      "Epoch 95/100\n",
      "40/40 [==============================] - 3s 82ms/step - loss: 0.7663 - accuracy: 0.8195 - auc: 0.9149 - val_loss: 0.3801 - val_accuracy: 0.9065 - val_auc: 0.9472 - lr: 1.3236e-05\n",
      "Epoch 96/100\n",
      "40/40 [==============================] - 3s 81ms/step - loss: 0.7520 - accuracy: 0.8266 - auc: 0.9067 - val_loss: 0.3855 - val_accuracy: 0.9081 - val_auc: 0.9467 - lr: 1.2843e-05\n",
      "Epoch 97/100\n",
      "40/40 [==============================] - 3s 82ms/step - loss: 0.7672 - accuracy: 0.8301 - auc: 0.9053 - val_loss: 0.3896 - val_accuracy: 0.9049 - val_auc: 0.9456 - lr: 1.2497e-05\n",
      "Epoch 98/100\n",
      "40/40 [==============================] - 3s 81ms/step - loss: 0.7548 - accuracy: 0.8305 - auc: 0.9096 - val_loss: 0.3945 - val_accuracy: 0.9049 - val_auc: 0.9447 - lr: 1.2193e-05\n",
      "Epoch 99/100\n",
      "40/40 [==============================] - 3s 82ms/step - loss: 0.7596 - accuracy: 0.8234 - auc: 0.9086 - val_loss: 0.3862 - val_accuracy: 0.9049 - val_auc: 0.9465 - lr: 1.1927e-05\n",
      "Epoch 100/100\n",
      "40/40 [==============================] - 3s 83ms/step - loss: 0.7547 - accuracy: 0.8230 - auc: 0.9059 - val_loss: 0.3863 - val_accuracy: 0.9033 - val_auc: 0.9466 - lr: 1.1692e-05\n"
     ]
    }
   ],
   "source": [
    "n_epoch = 100\n",
    "lr = LearningRateScheduler(lambda e: sigmoidal_decay(e, end=n_epoch))\n",
    "batch_size = 64\n",
    "\n",
    "if mixup :\n",
    "    beta_param = .7\n",
    "else :\n",
    "    beta_param = 0\n",
    "    \n",
    "\n",
    "\n",
    "params = {'batch_size': batch_size,\n",
    "          #          'input_shape': (100, 313, 1),\n",
    "          'shuffle': True,\n",
    "          'chaug': chaug,\n",
    "          'beta_param': beta_param,\n",
    "          'cout': cout\n",
    "#              'mixup': mixup,\n",
    "          #          'lowpass': [.5, [11,12,13,14,15,16,17,18]]\n",
    "          #          'highpass': [.5, [78,79,80,81,82,83,84,85]]\n",
    "#              'ranfilter2' : [3, [18,19,20,21,22,23]]\n",
    "          #           'dropblock' : [30, 100]\n",
    "          #'device' : device\n",
    "}\n",
    "\n",
    "if mixup :\n",
    "    params['mixup'] = mixup\n",
    "    params['ranfilter2'] = ranfil\n",
    "else :\n",
    "    params['cutout'] = cout\n",
    "\n",
    "params_no_shuffle = {'batch_size': batch_size,\n",
    "                     #          'input_shape': (100, 313, 1),\n",
    "                     'shuffle': False,\n",
    "                     'beta_param': 0.7,\n",
    "                     'mixup': False\n",
    "                     #'device': device\n",
    "}\n",
    "\n",
    "\n",
    "# TrainDGen_1 = Generator0([features_trn['age'],features_trn['sex'], features_trn['hw'], features_trn['preg'], features_trn['loc'],\n",
    "#             features_trn['interval'],features_trn['wav2'],features_trn['mel1'],features_trn['cqt1'],features_trn['stft1']], \n",
    "#            features_trn['mm_labels'],  ## our Y\n",
    "#                         **params)()\n",
    "\n",
    "\n",
    "# ValidDGen_1 = Generator0([features_test['age'],features_test['sex'], features_test['hw'], \n",
    "#                               features_test['preg'], features_test['loc'],features_test['interval'],\n",
    "#                               features_test['wav2'], features_test['mel1'],features_test['cqt1'],features_test['stft1']], \n",
    "#                              features_test['mm_labels'],  ## our Y\n",
    "                         \n",
    "#                          **params)()\n",
    "\n",
    "\n",
    "\n",
    "\n",
    "\n",
    "if ord1 :\n",
    "    class_weight = {0: mm_weight, 1: 1.}\n",
    "else :\n",
    "    class_weight = {0: mm_weight, 1: wunknown, 2:1.}\n",
    "\n",
    "    \n",
    "    \n",
    "    \n",
    "    \n",
    "\n",
    "if mixup :\n",
    "    \n",
    "    \n",
    "    TrainDGen_1 = Generator0([features_trn['age'],features_trn['sex'], features_trn['hw'], \n",
    "                              features_trn['preg'], features_trn['loc'],features_trn['interval'],\n",
    "                              features_trn['wav2'],features_trn['mel1'],features_trn['cqt1'],\n",
    "                              features_trn['stft1']],features_trn['mm_labels'],**params)()\n",
    "    \n",
    "    model1.fit(TrainDGen_1,\n",
    "               validation_data = ([features_test['age'],features_test['sex'], features_test['hw'], \n",
    "                                   features_test['preg'], features_test['loc'],features_test['interval'],\n",
    "                                   features_test['wav2'], features_test['mel1'],features_test['cqt1'],\n",
    "                                   features_test['stft1']],features_test['mm_labels']),\n",
    "               \n",
    "               callbacks=[lr],\n",
    "               steps_per_epoch=np.ceil(len(features_trn['mm_labels'])/batch_size),\n",
    "               class_weight=class_weight, \n",
    "               epochs = n_epoch)\n",
    "    \n",
    "    \n",
    " \n",
    "\n",
    "else :\n",
    "    TrainGen = DataGenerator([features_trn['age'],features_trn['sex'], features_trn['hw'], features_trn['preg'], features_trn['loc'], \n",
    "                      features_trn['mel1'],features_trn['cqt1'],features_trn['stft1']], \n",
    "                     mm_lbs_trn,  ## our Y\n",
    "                     **params)\n",
    "    model1.fit(TrainGen,\n",
    "               validation_data = ([features_test['age'],features_test['sex'], features_test['hw'], \n",
    "                                   features_test['preg'], features_test['loc'], features_test['mel1'], \n",
    "                                   features_test['cqt1'], features_test['stft1']], \n",
    "                                  mm_lbs_test), \n",
    "               callbacks=[lr],\n",
    "               #        steps_per_epoch=np.ceil(len(mm_lbs_trn)/64),\n",
    "               class_weight=class_weight, \n",
    "               epochs = n_epoch)\n",
    "\n"
   ]
  },
  {
   "cell_type": "code",
   "execution_count": null,
   "id": "e84f3f23",
   "metadata": {},
   "outputs": [],
   "source": []
  },
  {
   "cell_type": "code",
   "execution_count": 34,
   "id": "90bdd466",
   "metadata": {
    "scrolled": false
   },
   "outputs": [
    {
     "name": "stdout",
     "output_type": "stream",
     "text": [
      "Epoch 1/100\n",
      "40/40 [==============================] - 6s 98ms/step - loss: 1.7942 - accuracy: 0.4895 - auc: 0.4848 - val_loss: 16.5984 - val_accuracy: 0.5008 - val_auc: 0.5008 - lr: 9.9851e-04\n",
      "Epoch 2/100\n",
      "40/40 [==============================] - 3s 82ms/step - loss: 1.3726 - accuracy: 0.4906 - auc: 0.4994 - val_loss: 3.1714 - val_accuracy: 0.5008 - val_auc: 0.5446 - lr: 9.9831e-04\n",
      "Epoch 3/100\n",
      "40/40 [==============================] - 3s 82ms/step - loss: 1.3267 - accuracy: 0.4824 - auc: 0.4980 - val_loss: 0.8391 - val_accuracy: 0.5420 - val_auc: 0.5728 - lr: 9.9807e-04\n",
      "Epoch 4/100\n",
      "40/40 [==============================] - 3s 82ms/step - loss: 1.2798 - accuracy: 0.4844 - auc: 0.4971 - val_loss: 0.6873 - val_accuracy: 0.5848 - val_auc: 0.6052 - lr: 9.9781e-04\n",
      "Epoch 5/100\n",
      "40/40 [==============================] - 3s 82ms/step - loss: 1.2580 - accuracy: 0.5016 - auc: 0.5125 - val_loss: 0.6922 - val_accuracy: 0.5499 - val_auc: 0.5673 - lr: 9.9750e-04\n",
      "Epoch 6/100\n",
      "40/40 [==============================] - 3s 82ms/step - loss: 1.2514 - accuracy: 0.5000 - auc: 0.5205 - val_loss: 0.8274 - val_accuracy: 0.4945 - val_auc: 0.5653 - lr: 9.9716e-04\n",
      "Epoch 7/100\n",
      "40/40 [==============================] - 3s 83ms/step - loss: 1.2307 - accuracy: 0.4719 - auc: 0.5050 - val_loss: 0.7054 - val_accuracy: 0.5103 - val_auc: 0.5578 - lr: 9.9676e-04\n",
      "Epoch 8/100\n",
      "40/40 [==============================] - 3s 82ms/step - loss: 1.2401 - accuracy: 0.5023 - auc: 0.5265 - val_loss: 0.6702 - val_accuracy: 0.5515 - val_auc: 0.6237 - lr: 9.9632e-04\n",
      "Epoch 9/100\n",
      "40/40 [==============================] - 3s 82ms/step - loss: 1.2291 - accuracy: 0.4824 - auc: 0.5137 - val_loss: 0.6338 - val_accuracy: 0.6212 - val_auc: 0.6866 - lr: 9.9581e-04\n",
      "Epoch 10/100\n",
      "40/40 [==============================] - 3s 82ms/step - loss: 1.2212 - accuracy: 0.4859 - auc: 0.5165 - val_loss: 0.7733 - val_accuracy: 0.4976 - val_auc: 0.5760 - lr: 9.9523e-04\n",
      "Epoch 11/100\n",
      "40/40 [==============================] - 3s 82ms/step - loss: 1.2264 - accuracy: 0.4891 - auc: 0.5249 - val_loss: 0.6789 - val_accuracy: 0.5372 - val_auc: 0.6139 - lr: 9.9457e-04\n",
      "Epoch 12/100\n",
      "40/40 [==============================] - 3s 82ms/step - loss: 1.2202 - accuracy: 0.4891 - auc: 0.5292 - val_loss: 0.6689 - val_accuracy: 0.5261 - val_auc: 0.6215 - lr: 9.9382e-04\n",
      "Epoch 13/100\n",
      "40/40 [==============================] - 3s 82ms/step - loss: 1.2106 - accuracy: 0.4934 - auc: 0.5313 - val_loss: 0.7781 - val_accuracy: 0.4992 - val_auc: 0.5636 - lr: 9.9297e-04\n",
      "Epoch 14/100\n",
      "40/40 [==============================] - 3s 83ms/step - loss: 1.2108 - accuracy: 0.4973 - auc: 0.5428 - val_loss: 0.8085 - val_accuracy: 0.4992 - val_auc: 0.5309 - lr: 9.9200e-04\n",
      "Epoch 15/100\n",
      "40/40 [==============================] - 3s 82ms/step - loss: 1.2019 - accuracy: 0.4828 - auc: 0.5348 - val_loss: 0.7156 - val_accuracy: 0.5103 - val_auc: 0.6208 - lr: 9.9090e-04\n",
      "Epoch 16/100\n",
      "40/40 [==============================] - 3s 83ms/step - loss: 1.2055 - accuracy: 0.4957 - auc: 0.5441 - val_loss: 0.7041 - val_accuracy: 0.5293 - val_auc: 0.5822 - lr: 9.8965e-04\n",
      "Epoch 17/100\n",
      "40/40 [==============================] - 3s 83ms/step - loss: 1.1978 - accuracy: 0.4711 - auc: 0.5325 - val_loss: 0.6809 - val_accuracy: 0.5357 - val_auc: 0.5818 - lr: 9.8823e-04\n",
      "Epoch 18/100\n",
      "40/40 [==============================] - 3s 83ms/step - loss: 1.2164 - accuracy: 0.5039 - auc: 0.5509 - val_loss: 0.8055 - val_accuracy: 0.5008 - val_auc: 0.6133 - lr: 9.8662e-04\n",
      "Epoch 19/100\n",
      "40/40 [==============================] - 3s 83ms/step - loss: 1.2017 - accuracy: 0.4832 - auc: 0.5370 - val_loss: 0.7143 - val_accuracy: 0.5119 - val_auc: 0.5905 - lr: 9.8479e-04\n",
      "Epoch 20/100\n",
      "40/40 [==============================] - 3s 82ms/step - loss: 1.2143 - accuracy: 0.4953 - auc: 0.5479 - val_loss: 0.8136 - val_accuracy: 0.4992 - val_auc: 0.6216 - lr: 9.8271e-04\n",
      "Epoch 21/100\n",
      "40/40 [==============================] - 3s 82ms/step - loss: 1.2035 - accuracy: 0.4852 - auc: 0.5365 - val_loss: 0.6542 - val_accuracy: 0.5547 - val_auc: 0.6184 - lr: 9.8036e-04\n",
      "Epoch 22/100\n",
      "40/40 [==============================] - 3s 82ms/step - loss: 1.2029 - accuracy: 0.4828 - auc: 0.5473 - val_loss: 0.6336 - val_accuracy: 0.6165 - val_auc: 0.6811 - lr: 9.7769e-04\n",
      "Epoch 23/100\n",
      "40/40 [==============================] - 3s 82ms/step - loss: 1.1993 - accuracy: 0.4844 - auc: 0.5493 - val_loss: 0.6601 - val_accuracy: 0.5372 - val_auc: 0.6270 - lr: 9.7468e-04\n",
      "Epoch 24/100\n",
      "40/40 [==============================] - 3s 82ms/step - loss: 1.2003 - accuracy: 0.4992 - auc: 0.5516 - val_loss: 0.6848 - val_accuracy: 0.5230 - val_auc: 0.6024 - lr: 9.7126e-04\n",
      "Epoch 25/100\n",
      "40/40 [==============================] - 3s 82ms/step - loss: 1.1865 - accuracy: 0.5070 - auc: 0.5615 - val_loss: 0.6809 - val_accuracy: 0.5404 - val_auc: 0.6296 - lr: 9.6740e-04\n",
      "Epoch 26/100\n",
      "40/40 [==============================] - 3s 82ms/step - loss: 1.2042 - accuracy: 0.4996 - auc: 0.5411 - val_loss: 0.6845 - val_accuracy: 0.5277 - val_auc: 0.6042 - lr: 9.6305e-04\n",
      "Epoch 27/100\n",
      "40/40 [==============================] - 3s 83ms/step - loss: 1.1945 - accuracy: 0.4973 - auc: 0.5615 - val_loss: 0.7355 - val_accuracy: 0.5008 - val_auc: 0.6142 - lr: 9.5813e-04\n",
      "Epoch 28/100\n",
      "40/40 [==============================] - 3s 83ms/step - loss: 1.1903 - accuracy: 0.4953 - auc: 0.5555 - val_loss: 0.7802 - val_accuracy: 0.4992 - val_auc: 0.6092 - lr: 9.5260e-04\n",
      "Epoch 29/100\n",
      "40/40 [==============================] - 3s 82ms/step - loss: 1.1913 - accuracy: 0.4773 - auc: 0.5626 - val_loss: 0.6726 - val_accuracy: 0.5689 - val_auc: 0.6067 - lr: 9.4637e-04\n",
      "Epoch 30/100\n",
      "40/40 [==============================] - 3s 82ms/step - loss: 1.1912 - accuracy: 0.4879 - auc: 0.5565 - val_loss: 0.7049 - val_accuracy: 0.5040 - val_auc: 0.6116 - lr: 9.3939e-04\n",
      "Epoch 31/100\n",
      "40/40 [==============================] - 3s 82ms/step - loss: 1.2136 - accuracy: 0.4953 - auc: 0.5615 - val_loss: 0.6847 - val_accuracy: 0.5404 - val_auc: 0.5918 - lr: 9.3155e-04\n",
      "Epoch 32/100\n",
      "40/40 [==============================] - 3s 83ms/step - loss: 1.1939 - accuracy: 0.4965 - auc: 0.5584 - val_loss: 0.6775 - val_accuracy: 0.5357 - val_auc: 0.6215 - lr: 9.2279e-04\n",
      "Epoch 33/100\n",
      "40/40 [==============================] - 3s 83ms/step - loss: 1.1909 - accuracy: 0.4973 - auc: 0.5646 - val_loss: 0.6533 - val_accuracy: 0.5864 - val_auc: 0.6509 - lr: 9.1301e-04\n",
      "Epoch 34/100\n",
      "40/40 [==============================] - 3s 82ms/step - loss: 1.2040 - accuracy: 0.5008 - auc: 0.5550 - val_loss: 0.6775 - val_accuracy: 0.5293 - val_auc: 0.6005 - lr: 9.0213e-04\n",
      "Epoch 35/100\n",
      "40/40 [==============================] - 3s 83ms/step - loss: 1.2040 - accuracy: 0.5004 - auc: 0.5595 - val_loss: 0.7631 - val_accuracy: 0.5055 - val_auc: 0.5964 - lr: 8.9005e-04\n",
      "Epoch 36/100\n",
      "40/40 [==============================] - 3s 82ms/step - loss: 1.2026 - accuracy: 0.4977 - auc: 0.5468 - val_loss: 0.6266 - val_accuracy: 0.6117 - val_auc: 0.6868 - lr: 8.7669e-04\n",
      "Epoch 37/100\n",
      "40/40 [==============================] - 3s 83ms/step - loss: 1.1904 - accuracy: 0.5133 - auc: 0.5638 - val_loss: 0.7207 - val_accuracy: 0.5119 - val_auc: 0.6011 - lr: 8.6196e-04\n",
      "Epoch 38/100\n",
      "40/40 [==============================] - 3s 85ms/step - loss: 1.1845 - accuracy: 0.4883 - auc: 0.5598 - val_loss: 0.7166 - val_accuracy: 0.5151 - val_auc: 0.6052 - lr: 8.4578e-04\n",
      "Epoch 39/100\n",
      "40/40 [==============================] - 3s 84ms/step - loss: 1.1808 - accuracy: 0.5008 - auc: 0.5737 - val_loss: 0.6871 - val_accuracy: 0.5357 - val_auc: 0.6059 - lr: 8.2809e-04\n",
      "Epoch 40/100\n",
      "40/40 [==============================] - 3s 81ms/step - loss: 1.2015 - accuracy: 0.4906 - auc: 0.5562 - val_loss: 0.7066 - val_accuracy: 0.5293 - val_auc: 0.6125 - lr: 8.0883e-04\n",
      "Epoch 41/100\n",
      "40/40 [==============================] - 3s 83ms/step - loss: 1.1854 - accuracy: 0.4844 - auc: 0.5601 - val_loss: 0.7535 - val_accuracy: 0.5040 - val_auc: 0.6093 - lr: 7.8798e-04\n",
      "Epoch 42/100\n",
      "40/40 [==============================] - 3s 81ms/step - loss: 1.1795 - accuracy: 0.4953 - auc: 0.5760 - val_loss: 0.6325 - val_accuracy: 0.5927 - val_auc: 0.6673 - lr: 7.6551e-04\n",
      "Epoch 43/100\n",
      "40/40 [==============================] - 3s 81ms/step - loss: 1.1703 - accuracy: 0.5023 - auc: 0.5751 - val_loss: 0.6464 - val_accuracy: 0.5895 - val_auc: 0.6569 - lr: 7.4146e-04\n"
     ]
    },
    {
     "name": "stdout",
     "output_type": "stream",
     "text": [
      "Epoch 44/100\n",
      "40/40 [==============================] - 3s 81ms/step - loss: 1.1981 - accuracy: 0.5047 - auc: 0.5637 - val_loss: 0.6160 - val_accuracy: 0.6418 - val_auc: 0.7215 - lr: 7.1587e-04\n",
      "Epoch 45/100\n",
      "40/40 [==============================] - 3s 85ms/step - loss: 1.1710 - accuracy: 0.4887 - auc: 0.5694 - val_loss: 0.6396 - val_accuracy: 0.6101 - val_auc: 0.6743 - lr: 6.8882e-04\n",
      "Epoch 46/100\n",
      "40/40 [==============================] - 3s 83ms/step - loss: 1.1848 - accuracy: 0.5152 - auc: 0.5817 - val_loss: 0.6656 - val_accuracy: 0.5705 - val_auc: 0.6201 - lr: 6.6044e-04\n",
      "Epoch 47/100\n",
      "40/40 [==============================] - 3s 83ms/step - loss: 1.1762 - accuracy: 0.5188 - auc: 0.5785 - val_loss: 0.7223 - val_accuracy: 0.5214 - val_auc: 0.6076 - lr: 6.3088e-04\n",
      "Epoch 48/100\n",
      "40/40 [==============================] - 3s 84ms/step - loss: 1.1766 - accuracy: 0.5227 - auc: 0.5777 - val_loss: 0.6403 - val_accuracy: 0.5848 - val_auc: 0.6558 - lr: 6.0032e-04\n",
      "Epoch 49/100\n",
      "40/40 [==============================] - 3s 83ms/step - loss: 1.1949 - accuracy: 0.5074 - auc: 0.5758 - val_loss: 0.6589 - val_accuracy: 0.6260 - val_auc: 0.6636 - lr: 5.6899e-04\n",
      "Epoch 50/100\n",
      "40/40 [==============================] - 3s 83ms/step - loss: 1.1929 - accuracy: 0.4980 - auc: 0.5605 - val_loss: 0.7288 - val_accuracy: 0.5182 - val_auc: 0.5916 - lr: 5.3713e-04\n",
      "Epoch 51/100\n",
      "40/40 [==============================] - 3s 83ms/step - loss: 1.1892 - accuracy: 0.5031 - auc: 0.5716 - val_loss: 0.6557 - val_accuracy: 0.5753 - val_auc: 0.6375 - lr: 5.0500e-04\n",
      "Epoch 52/100\n",
      "40/40 [==============================] - 3s 83ms/step - loss: 1.1900 - accuracy: 0.5066 - auc: 0.5718 - val_loss: 0.6599 - val_accuracy: 0.5674 - val_auc: 0.6311 - lr: 4.7287e-04\n",
      "Epoch 53/100\n",
      "40/40 [==============================] - 3s 83ms/step - loss: 1.1903 - accuracy: 0.5207 - auc: 0.5828 - val_loss: 0.7019 - val_accuracy: 0.5452 - val_auc: 0.6187 - lr: 4.4101e-04\n",
      "Epoch 54/100\n",
      "40/40 [==============================] - 3s 83ms/step - loss: 1.1777 - accuracy: 0.5277 - auc: 0.5955 - val_loss: 0.6324 - val_accuracy: 0.6038 - val_auc: 0.6791 - lr: 4.0968e-04\n",
      "Epoch 55/100\n",
      "40/40 [==============================] - 3s 83ms/step - loss: 1.1848 - accuracy: 0.5148 - auc: 0.5824 - val_loss: 0.7233 - val_accuracy: 0.5325 - val_auc: 0.6134 - lr: 3.7912e-04\n",
      "Epoch 56/100\n",
      "40/40 [==============================] - 3s 86ms/step - loss: 1.1683 - accuracy: 0.5016 - auc: 0.5801 - val_loss: 0.6227 - val_accuracy: 0.6244 - val_auc: 0.6991 - lr: 3.4956e-04\n",
      "Epoch 57/100\n",
      "40/40 [==============================] - 3s 83ms/step - loss: 1.1653 - accuracy: 0.5230 - auc: 0.6090 - val_loss: 0.6158 - val_accuracy: 0.6371 - val_auc: 0.7106 - lr: 3.2118e-04\n",
      "Epoch 58/100\n",
      "40/40 [==============================] - 3s 83ms/step - loss: 1.1728 - accuracy: 0.5211 - auc: 0.5902 - val_loss: 0.6248 - val_accuracy: 0.6260 - val_auc: 0.6935 - lr: 2.9413e-04\n",
      "Epoch 59/100\n",
      "40/40 [==============================] - 3s 82ms/step - loss: 1.1667 - accuracy: 0.5289 - auc: 0.5923 - val_loss: 0.6591 - val_accuracy: 0.5674 - val_auc: 0.6393 - lr: 2.6854e-04\n",
      "Epoch 60/100\n",
      "40/40 [==============================] - 3s 81ms/step - loss: 1.1726 - accuracy: 0.5195 - auc: 0.5908 - val_loss: 0.7930 - val_accuracy: 0.5071 - val_auc: 0.5982 - lr: 2.4449e-04\n",
      "Epoch 61/100\n",
      "40/40 [==============================] - 3s 81ms/step - loss: 1.1635 - accuracy: 0.5125 - auc: 0.5990 - val_loss: 0.6446 - val_accuracy: 0.6054 - val_auc: 0.6610 - lr: 2.2202e-04\n",
      "Epoch 62/100\n",
      "40/40 [==============================] - 3s 81ms/step - loss: 1.1662 - accuracy: 0.5328 - auc: 0.6055 - val_loss: 0.6728 - val_accuracy: 0.5689 - val_auc: 0.6311 - lr: 2.0117e-04\n",
      "Epoch 63/100\n",
      "40/40 [==============================] - 3s 82ms/step - loss: 1.1612 - accuracy: 0.5273 - auc: 0.6007 - val_loss: 0.6335 - val_accuracy: 0.6101 - val_auc: 0.6789 - lr: 1.8191e-04\n",
      "Epoch 64/100\n",
      "40/40 [==============================] - 3s 82ms/step - loss: 1.1622 - accuracy: 0.5234 - auc: 0.5968 - val_loss: 0.6480 - val_accuracy: 0.5753 - val_auc: 0.6547 - lr: 1.6422e-04\n",
      "Epoch 65/100\n",
      "40/40 [==============================] - 3s 82ms/step - loss: 1.1710 - accuracy: 0.5344 - auc: 0.6073 - val_loss: 0.6626 - val_accuracy: 0.5674 - val_auc: 0.6358 - lr: 1.4804e-04\n",
      "Epoch 66/100\n",
      "40/40 [==============================] - 3s 82ms/step - loss: 1.1512 - accuracy: 0.5023 - auc: 0.6023 - val_loss: 0.6908 - val_accuracy: 0.5594 - val_auc: 0.6157 - lr: 1.3331e-04\n",
      "Epoch 67/100\n",
      "40/40 [==============================] - 3s 82ms/step - loss: 1.1594 - accuracy: 0.5086 - auc: 0.5963 - val_loss: 0.7374 - val_accuracy: 0.5261 - val_auc: 0.5863 - lr: 1.1995e-04\n",
      "Epoch 68/100\n",
      "40/40 [==============================] - 3s 82ms/step - loss: 1.1474 - accuracy: 0.5230 - auc: 0.6131 - val_loss: 0.6478 - val_accuracy: 0.5975 - val_auc: 0.6558 - lr: 1.0787e-04\n",
      "Epoch 69/100\n",
      "40/40 [==============================] - 3s 83ms/step - loss: 1.1581 - accuracy: 0.5371 - auc: 0.6132 - val_loss: 0.6310 - val_accuracy: 0.6260 - val_auc: 0.6869 - lr: 9.6985e-05\n",
      "Epoch 70/100\n",
      "40/40 [==============================] - 3s 83ms/step - loss: 1.1567 - accuracy: 0.5309 - auc: 0.6126 - val_loss: 0.7720 - val_accuracy: 0.5135 - val_auc: 0.5989 - lr: 8.7208e-05\n",
      "Epoch 71/100\n",
      "40/40 [==============================] - 3s 84ms/step - loss: 1.1667 - accuracy: 0.5332 - auc: 0.6141 - val_loss: 0.7387 - val_accuracy: 0.5261 - val_auc: 0.5998 - lr: 7.8447e-05\n",
      "Epoch 72/100\n",
      "40/40 [==============================] - 3s 85ms/step - loss: 1.1773 - accuracy: 0.5176 - auc: 0.5902 - val_loss: 0.6896 - val_accuracy: 0.5674 - val_auc: 0.6087 - lr: 7.0614e-05\n",
      "Epoch 73/100\n",
      "40/40 [==============================] - 3s 84ms/step - loss: 1.1594 - accuracy: 0.5117 - auc: 0.6030 - val_loss: 0.6637 - val_accuracy: 0.5753 - val_auc: 0.6356 - lr: 6.3625e-05\n",
      "Epoch 74/100\n",
      "40/40 [==============================] - 3s 85ms/step - loss: 1.1492 - accuracy: 0.5441 - auc: 0.6155 - val_loss: 0.6597 - val_accuracy: 0.5848 - val_auc: 0.6373 - lr: 5.7401e-05\n",
      "Epoch 75/100\n",
      "40/40 [==============================] - 3s 83ms/step - loss: 1.1432 - accuracy: 0.5359 - auc: 0.6182 - val_loss: 0.6407 - val_accuracy: 0.5990 - val_auc: 0.6641 - lr: 5.1867e-05\n",
      "Epoch 76/100\n",
      "40/40 [==============================] - 3s 83ms/step - loss: 1.1539 - accuracy: 0.5359 - auc: 0.6165 - val_loss: 0.7166 - val_accuracy: 0.5547 - val_auc: 0.6050 - lr: 4.6954e-05\n",
      "Epoch 77/100\n",
      "40/40 [==============================] - 3s 83ms/step - loss: 1.1395 - accuracy: 0.5410 - auc: 0.6208 - val_loss: 0.7312 - val_accuracy: 0.5325 - val_auc: 0.6006 - lr: 4.2597e-05\n",
      "Epoch 78/100\n",
      "40/40 [==============================] - 3s 84ms/step - loss: 1.1492 - accuracy: 0.5273 - auc: 0.6252 - val_loss: 0.7265 - val_accuracy: 0.5404 - val_auc: 0.6019 - lr: 3.8739e-05\n",
      "Epoch 79/100\n",
      "40/40 [==============================] - 3s 83ms/step - loss: 1.1547 - accuracy: 0.5312 - auc: 0.6161 - val_loss: 0.7032 - val_accuracy: 0.5626 - val_auc: 0.6103 - lr: 3.5325e-05\n",
      "Epoch 80/100\n",
      "40/40 [==============================] - 3s 83ms/step - loss: 1.1527 - accuracy: 0.5273 - auc: 0.6093 - val_loss: 0.6680 - val_accuracy: 0.5737 - val_auc: 0.6340 - lr: 3.2307e-05\n",
      "Epoch 81/100\n",
      "40/40 [==============================] - 3s 83ms/step - loss: 1.1522 - accuracy: 0.5559 - auc: 0.6263 - val_loss: 0.6896 - val_accuracy: 0.5626 - val_auc: 0.6176 - lr: 2.9642e-05\n",
      "Epoch 82/100\n",
      "40/40 [==============================] - 3s 83ms/step - loss: 1.1705 - accuracy: 0.5379 - auc: 0.6221 - val_loss: 0.6899 - val_accuracy: 0.5594 - val_auc: 0.6164 - lr: 2.7289e-05\n",
      "Epoch 83/100\n",
      "40/40 [==============================] - 3s 84ms/step - loss: 1.1503 - accuracy: 0.5223 - auc: 0.6105 - val_loss: 0.6806 - val_accuracy: 0.5626 - val_auc: 0.6207 - lr: 2.5214e-05\n",
      "Epoch 84/100\n",
      "40/40 [==============================] - 3s 83ms/step - loss: 1.1493 - accuracy: 0.5230 - auc: 0.6260 - val_loss: 0.6672 - val_accuracy: 0.5864 - val_auc: 0.6321 - lr: 2.3384e-05\n",
      "Epoch 85/100\n",
      "40/40 [==============================] - 3s 84ms/step - loss: 1.1515 - accuracy: 0.5285 - auc: 0.6124 - val_loss: 0.6826 - val_accuracy: 0.5658 - val_auc: 0.6191 - lr: 2.1772e-05\n",
      "Epoch 86/100\n",
      "40/40 [==============================] - 3s 83ms/step - loss: 1.1645 - accuracy: 0.5305 - auc: 0.6132 - val_loss: 0.6958 - val_accuracy: 0.5578 - val_auc: 0.6133 - lr: 2.0352e-05\n"
     ]
    },
    {
     "name": "stdout",
     "output_type": "stream",
     "text": [
      "Epoch 87/100\n",
      "40/40 [==============================] - 3s 83ms/step - loss: 1.1665 - accuracy: 0.5363 - auc: 0.6172 - val_loss: 0.7149 - val_accuracy: 0.5563 - val_auc: 0.6042 - lr: 1.9102e-05\n",
      "Epoch 88/100\n",
      "40/40 [==============================] - 3s 83ms/step - loss: 1.1598 - accuracy: 0.5414 - auc: 0.6161 - val_loss: 0.7347 - val_accuracy: 0.5372 - val_auc: 0.5985 - lr: 1.8001e-05\n",
      "Epoch 89/100\n",
      "40/40 [==============================] - 3s 83ms/step - loss: 1.1487 - accuracy: 0.5508 - auc: 0.6217 - val_loss: 0.7240 - val_accuracy: 0.5468 - val_auc: 0.6037 - lr: 1.7033e-05\n",
      "Epoch 90/100\n",
      "40/40 [==============================] - 3s 83ms/step - loss: 1.1610 - accuracy: 0.5387 - auc: 0.6148 - val_loss: 0.7242 - val_accuracy: 0.5436 - val_auc: 0.6039 - lr: 1.6181e-05\n",
      "Epoch 91/100\n",
      "40/40 [==============================] - 3s 83ms/step - loss: 1.1437 - accuracy: 0.5215 - auc: 0.6132 - val_loss: 0.7007 - val_accuracy: 0.5578 - val_auc: 0.6148 - lr: 1.5431e-05\n",
      "Epoch 92/100\n",
      "40/40 [==============================] - 3s 84ms/step - loss: 1.1479 - accuracy: 0.5375 - auc: 0.6253 - val_loss: 0.6967 - val_accuracy: 0.5594 - val_auc: 0.6163 - lr: 1.4773e-05\n",
      "Epoch 93/100\n",
      "40/40 [==============================] - 3s 83ms/step - loss: 1.1586 - accuracy: 0.5324 - auc: 0.6195 - val_loss: 0.6982 - val_accuracy: 0.5515 - val_auc: 0.6145 - lr: 1.4193e-05\n",
      "Epoch 94/100\n",
      "40/40 [==============================] - 3s 83ms/step - loss: 1.1382 - accuracy: 0.5375 - auc: 0.6251 - val_loss: 0.7000 - val_accuracy: 0.5578 - val_auc: 0.6124 - lr: 1.3684e-05\n",
      "Epoch 95/100\n",
      "40/40 [==============================] - 3s 83ms/step - loss: 1.1452 - accuracy: 0.5391 - auc: 0.6280 - val_loss: 0.6916 - val_accuracy: 0.5594 - val_auc: 0.6175 - lr: 1.3236e-05\n",
      "Epoch 96/100\n",
      "40/40 [==============================] - 3s 83ms/step - loss: 1.1427 - accuracy: 0.5590 - auc: 0.6287 - val_loss: 0.6936 - val_accuracy: 0.5626 - val_auc: 0.6176 - lr: 1.2843e-05\n",
      "Epoch 97/100\n",
      "40/40 [==============================] - 3s 83ms/step - loss: 1.1556 - accuracy: 0.5449 - auc: 0.6140 - val_loss: 0.7033 - val_accuracy: 0.5531 - val_auc: 0.6116 - lr: 1.2497e-05\n",
      "Epoch 98/100\n",
      "40/40 [==============================] - 3s 83ms/step - loss: 1.1506 - accuracy: 0.5359 - auc: 0.6244 - val_loss: 0.7031 - val_accuracy: 0.5563 - val_auc: 0.6107 - lr: 1.2193e-05\n",
      "Epoch 99/100\n",
      "40/40 [==============================] - 3s 84ms/step - loss: 1.1496 - accuracy: 0.5355 - auc: 0.6217 - val_loss: 0.7207 - val_accuracy: 0.5388 - val_auc: 0.6029 - lr: 1.1927e-05\n",
      "Epoch 100/100\n",
      "40/40 [==============================] - 3s 83ms/step - loss: 1.1405 - accuracy: 0.5309 - auc: 0.6196 - val_loss: 0.6817 - val_accuracy: 0.5658 - val_auc: 0.6239 - lr: 1.1692e-05\n"
     ]
    }
   ],
   "source": [
    "n_epoch = 100\n",
    "lr = LearningRateScheduler(lambda e: sigmoidal_decay(e, end=n_epoch))\n",
    "\n",
    "batch_size = 64\n",
    "\n",
    "params = {'batch_size': batch_size,\n",
    "          #          'input_shape': (100, 313, 1),\n",
    "          'shuffle': True,\n",
    "          'chaug': 0,\n",
    "          'beta_param': beta_param,\n",
    "          'cout': cout,\n",
    "#              'mixup': True,\n",
    "          #          'lowpass': [.5, [11,12,13,14,15,16,17,18]]\n",
    "#            'highpass': [.5, [78,79,80,81,82,83,84,85]],\n",
    "#              'ranfilter2' : [3, [18,19,20,21,22,23]]\n",
    "        #           'dropblock' : [30, 100]\n",
    "          #'device' : device\n",
    "}\n",
    "\n",
    "\n",
    "\n",
    "if mixup :\n",
    "    params['mixup'] = mixup\n",
    "    params['ranfilter2'] = ranfil\n",
    "else :\n",
    "    params['cutout'] = cout\n",
    "\n",
    "\n",
    "params_no_shuffle = {'batch_size': batch_size,\n",
    "                     #          'input_shape': (100, 313, 1),\n",
    "                     'shuffle': False,\n",
    "                     'beta_param': 0.7,\n",
    "                     'mixup': False\n",
    "                     #'device': device\n",
    "}\n",
    "\n",
    "\n",
    "\n",
    "\n",
    "if mixup :\n",
    "\n",
    "    \n",
    "    class_weight = {0: oo_weight, 1: 1.}\n",
    "    TrainDGen_1 = Generator0([features_trn['age'],features_trn['sex'], features_trn['hw'], features_trn['preg'],\n",
    "                              features_trn['loc'],features_trn['interval'],features_trn['wav2'],\n",
    "                              features_trn['mel1'],features_trn['cqt1'],features_trn['stft1']],\n",
    "                             features_trn['out_labels'], **params)()\n",
    "\n",
    "    model2.fit(TrainDGen_1,\n",
    "               validation_data = ([features_test['age'],features_test['sex'], features_test['hw'],\n",
    "                                   features_test['preg'], features_test['loc'],features_test['interval'],\n",
    "                                   features_test['wav2'], features_test['mel1'],features_test['cqt1'],\n",
    "                                   features_test['stft1']],features_test['out_labels']), \n",
    "               \n",
    "               callbacks=[lr],\n",
    "               steps_per_epoch=np.ceil(len(features_trn['out_labels'])/batch_size),\n",
    "               class_weight=class_weight, \n",
    "               epochs = n_epoch)\n",
    "    \n",
    "else :\n",
    "    TrainGen = DataGenerator([features_trn['age'],features_trn['sex'], features_trn['hw'], features_trn['preg'], features_trn['loc'], \n",
    "                      features_trn['mel1'],features_trn['cqt1'],features_trn['stft1']], \n",
    "                     out_lbs_trn,  ## our Y\n",
    "                     **params)\n",
    "    model2.fit(TrainGen,\n",
    "               validation_data = ([features_test['age'],features_test['sex'], features_test['hw'],\n",
    "                                   features_test['preg'], features_test['loc'],features_test['interval'],\n",
    "                                   features_test['wav2'], features_test['mel1'],features_test['cqt1'],\n",
    "                                   features_test['stft1']],features_test['out_labels']), \n",
    "               callbacks=[lr],\n",
    "               class_weight=class_weight, \n",
    "               epochs = n_epoch)\n",
    "\n",
    "\n",
    "\n",
    "\n",
    "\n",
    "\n",
    "\n",
    "\n",
    "\n",
    "\n",
    "\n",
    "\n",
    "\n",
    "\n",
    "\n",
    "\n"
   ]
  },
  {
   "cell_type": "code",
   "execution_count": null,
   "id": "c4f69250",
   "metadata": {},
   "outputs": [],
   "source": []
  },
  {
   "cell_type": "code",
   "execution_count": 35,
   "id": "5d9abb6a",
   "metadata": {},
   "outputs": [
    {
     "data": {
      "text/plain": [
       "{'samp_sec': 20,\n",
       " 'pre_emphasis': 0,\n",
       " 'hop_length': 256,\n",
       " 'win_length': 512,\n",
       " 'n_mels': 120,\n",
       " 'filter_scale': 1,\n",
       " 'n_bins': 80,\n",
       " 'fmin': 10,\n",
       " 'maxlen1': 120000,\n",
       " 'min_dist': 500,\n",
       " 'max_interval_len': 115,\n",
       " 'trim': 1,\n",
       " 'use_mel': True,\n",
       " 'use_cqt': False,\n",
       " 'use_stft': False,\n",
       " 'use_interval': True,\n",
       " 'use_wav2': True,\n",
       " 'ord1': True,\n",
       " 'mm_mean': False,\n",
       " 'dp': 0,\n",
       " 'fc': False,\n",
       " 'ext': True,\n",
       " 'oo_weight': 3,\n",
       " 'mm_weight': 3,\n",
       " 'chaug': 10,\n",
       " 'cout': 0.8,\n",
       " 'wunknown': 1,\n",
       " 'mixup': True,\n",
       " 'n1': 0}"
      ]
     },
     "execution_count": 35,
     "metadata": {},
     "output_type": "execute_result"
    }
   ],
   "source": [
    "params_feature"
   ]
  },
  {
   "cell_type": "code",
   "execution_count": 36,
   "id": "08f47fb7",
   "metadata": {},
   "outputs": [],
   "source": [
    "params_feature['mel_shape'] = mel_input_shape\n",
    "params_feature['cqt_shape'] = cqt_input_shape\n",
    "params_feature['stft_shape'] = stft_input_shape\n",
    "params_feature['interval_input_shape'] = interval_input_shape\n",
    "params_feature['wav2_input_shape'] = wav2_input_shape"
   ]
  },
  {
   "cell_type": "code",
   "execution_count": 37,
   "id": "0122a0f8",
   "metadata": {},
   "outputs": [
    {
     "data": {
      "text/plain": [
       "{'samp_sec': 20,\n",
       " 'pre_emphasis': 0,\n",
       " 'hop_length': 256,\n",
       " 'win_length': 512,\n",
       " 'n_mels': 120,\n",
       " 'filter_scale': 1,\n",
       " 'n_bins': 80,\n",
       " 'fmin': 10,\n",
       " 'maxlen1': 120000,\n",
       " 'min_dist': 500,\n",
       " 'max_interval_len': 115,\n",
       " 'trim': 1,\n",
       " 'use_mel': True,\n",
       " 'use_cqt': False,\n",
       " 'use_stft': False,\n",
       " 'use_interval': True,\n",
       " 'use_wav2': True,\n",
       " 'ord1': True,\n",
       " 'mm_mean': False,\n",
       " 'dp': 0,\n",
       " 'fc': False,\n",
       " 'ext': True,\n",
       " 'oo_weight': 3,\n",
       " 'mm_weight': 3,\n",
       " 'chaug': 10,\n",
       " 'cout': 0.8,\n",
       " 'wunknown': 1,\n",
       " 'mixup': True,\n",
       " 'n1': 0,\n",
       " 'mel_shape': (120, 313, 1),\n",
       " 'cqt_shape': (1, 1, 1),\n",
       " 'stft_shape': (1, 1, 1),\n",
       " 'interval_input_shape': (115, 1),\n",
       " 'wav2_input_shape': (32, 374)}"
      ]
     },
     "execution_count": 37,
     "metadata": {},
     "output_type": "execute_result"
    }
   ],
   "source": [
    "params_feature"
   ]
  },
  {
   "cell_type": "code",
   "execution_count": 38,
   "id": "786d2ba7",
   "metadata": {},
   "outputs": [],
   "source": [
    "import pickle as pk\n",
    "def save_challenge_model(model_folder, model1, model2, m_name1, m_name2, param_feature) :\n",
    "    os.makedirs(model_folder, exist_ok=True)\n",
    "    info_fnm = os.path.join(model_folder, 'desc.pk')\n",
    "    filename1 = os.path.join(model_folder, m_name1 + '_model1.hdf5')\n",
    "    filename2 = os.path.join(model_folder, m_name2 + '_model2.hdf5')\n",
    "    model1.save(filename1)\n",
    "    model2.save(filename2)\n",
    "    param_feature['model1'] = m_name1\n",
    "    param_feature['model2'] = m_name2\n",
    "    param_feature['model_fnm1'] = filename1\n",
    "    param_feature['model_fnm2'] = filename2\n",
    "    with open(info_fnm, 'wb') as f:\n",
    "        pk.dump(param_feature, f, pk.HIGHEST_PROTOCOL)\n",
    "    return 1\n",
    "\n",
    "    with open(info_fnm, 'wb') as f:\n",
    "        pk.dump(param_feature, f, pk.HIGHEST_PROTOCOL)\n",
    "    return 1\n",
    "    "
   ]
  },
  {
   "cell_type": "code",
   "execution_count": 39,
   "id": "6b9ae924",
   "metadata": {},
   "outputs": [
    {
     "data": {
      "text/plain": [
       "'lcnn2'"
      ]
     },
     "execution_count": 39,
     "metadata": {},
     "output_type": "execute_result"
    }
   ],
   "source": [
    "model_folder"
   ]
  },
  {
   "cell_type": "code",
   "execution_count": 40,
   "id": "ed1124d7",
   "metadata": {},
   "outputs": [
    {
     "data": {
      "text/plain": [
       "1"
      ]
     },
     "execution_count": 40,
     "metadata": {},
     "output_type": "execute_result"
    }
   ],
   "source": [
    "save_challenge_model(model_folder, model1, model2, m_name1 = 'lcnn1', m_name2 = 'lcnn2', param_feature = params_feature)"
   ]
  },
  {
   "cell_type": "code",
   "execution_count": 41,
   "id": "ba030c37",
   "metadata": {},
   "outputs": [],
   "source": [
    "def load_challenge_model(model_folder, verbose):\n",
    "    info_fnm = os.path.join(model_folder, 'desc.pk')\n",
    "    with open(info_fnm, 'rb') as f:\n",
    "        info_m = pk.load(f)\n",
    "\n",
    "    return info_m"
   ]
  },
  {
   "cell_type": "code",
   "execution_count": 42,
   "id": "19a747dc",
   "metadata": {},
   "outputs": [],
   "source": [
    "def run_challenge_model(model, data, recordings, verbose):\n",
    "    \n",
    "    murmur_classes = ['Present', 'Unknown', 'Absent']\n",
    "    outcome_classes = ['Abnormal', 'Normal']\n",
    "\n",
    "##########################################################################    \n",
    "    if model['model1'] == 'lcnn1' :\n",
    "        model1 = get_LCNN_o_4_dr(model['mel_shape'],model['cqt_shape'],model['stft_shape'], model['interval_input_shape'],model['wav2_input_shape']\n",
    "                                 , use_mel = model['use_mel'],use_cqt = model['use_cqt'], use_stft = model['use_stft'], \n",
    "                                 ord1 = model['ord1'], dp = model['dp'], fc = model['fc'], ext = model['ext'])    \n",
    "    if model['model1'] == 'lcnn2' :\n",
    "        model1 = get_LCNN_o_4_dr(model['mel_shape'],model['cqt_shape'],model['stft_shape'], model['interval_input_shape'],model['wav2_input_shape']\n",
    "                                 , use_mel = model['use_mel'],use_cqt = model['use_cqt'], use_stft = model['use_stft'], \n",
    "                                 ord1 = model['ord1'], dp = model['dp'], fc = model['fc'], ext = model['ext'])   \n",
    "    model1.load_weights(model['model_fnm1'])\n",
    "    model2.load_weights(model['model_fnm2'])\n",
    "############################################################################ \n",
    "\n",
    "\n",
    "    max_interval_len = params_feature['max_interval_len']\n",
    "    maxlen1 = params_feature['maxlen1']\n",
    "    min_dist = params_feature['min_dist']\n",
    "    \n",
    "    \n",
    "    # Load features.\n",
    "    features = get_feature_one(data, verbose = 0)\n",
    "\n",
    "    samp_sec = model['samp_sec'] \n",
    "    pre_emphasis = model['pre_emphasis']\n",
    "    hop_length = model['hop_length']\n",
    "    win_length = model['win_length']\n",
    "    n_mels = model['n_mels']\n",
    "    filter_scale = model['filter_scale']\n",
    "    n_bins = model['n_bins']\n",
    "    fmin = model['fmin']\n",
    "    trim = model['trim']\n",
    "    use_mel = model['use_mel']\n",
    "    use_cqt = model['use_cqt']\n",
    "    use_stft = model['use_stft']\n",
    "    use_interval = model['use_interval']\n",
    "    use_wav2 = model['use_wav2']\n",
    "    maxlen1 = model['maxlen1']\n",
    "    min_dist = model['min_dist']\n",
    "    max_interval_len = model['max_interval_len']\n",
    "    \n",
    "#    use_raw = model['use_raw']\n",
    "    \n",
    "\n",
    "    features['interval'] = []\n",
    "    tmp_interval=[]  \n",
    "    \n",
    "    features['wav2'] = []\n",
    "    tmp_raw = []\n",
    "    tmp=[]      \n",
    "    \n",
    "    from wav2vec2 import Wav2Vec2ForCTC, Wav2Vec2Config\n",
    "    import tensorflow as tf\n",
    "    \n",
    "    config = Wav2Vec2Config()\n",
    "    tmp_model = Wav2Vec2ForCTC(config)\n",
    "    tmp_model.trainable=False\n",
    "    \n",
    "    for i in range(len(recordings)):\n",
    "        data = recordings[i]/32768\n",
    "        tmp_raw.append(data)\n",
    "        \n",
    "    tmp_pad =pad_sequences(tmp_raw, maxlen=maxlen1, dtype='float64', padding='post', truncating='post', value=0.0)\n",
    "    tmp_pad = tmp_pad[:,np.newaxis,:]\n",
    "    \n",
    "    for i in range(len(tmp_pad)):\n",
    "        tmp_feature = tmp_model(tmp_pad[i])\n",
    "        tmp.append(tmp_feature)\n",
    "    \n",
    "    tmp=np.array(tmp, dtype=np.float32)\n",
    "    new_tmp1=tmp.reshape(-1,32,374)\n",
    "    features['wav2']=new_tmp1\n",
    "    \n",
    "    \n",
    "    \n",
    "    for i in tqdm.tqdm(range(len(recordings))) :\n",
    "        datos=recordings[i]\n",
    "        filtros=sio.loadmat('./Filters1')\n",
    "        try:\n",
    "            X=datos\n",
    "            X=X[trim*3:-trim*3]\n",
    "            Fs=4000\n",
    "            \n",
    "            Fpa20=filtros['Fpa20'];\t\t\t        # High pass filter\n",
    "            Fpa20=Fpa20[0];\t\t\t\t\t# High pass filter\n",
    "            Fpb100=filtros['Fpb100'];\t\t        # Low-pass Filter\n",
    "            Fpb100=Fpb100[0];\t\t\t\t# Low-pass Filter\n",
    "            \n",
    "            Xf=FpassBand(X,Fpa20,Fpb100); \t                # Apply a passband filter\n",
    "            Xf=vec_nor(Xf);\t\t\t\n",
    "            \n",
    "                    # Derivate of the Signal\n",
    "            dX=derivate(Xf);\t\t\t\t# Derivate of the signal\n",
    "            dX=vec_nor(dX);\t\t\t\t\t# Vector Normalizing\n",
    "                    # Square of the signal\n",
    "            dy=np.square(Xf);\n",
    "            dy=vec_nor(dy);\n",
    "                    \n",
    "            size=np.shape(Xf)\t\t\t\t# Rank or dimension of the array\n",
    "            fil=size[0];\t\t\t\t\t# Number of rows\n",
    "\n",
    "            positive=np.zeros((1,fil+1));                   # Initializating Positives Values Vector \n",
    "            positive=positive[0];                           # Getting the Vector\n",
    "\n",
    "            points=np.zeros((1,fil));                       # Initializating the all Peak Points Vector\n",
    "            points=points[0];                               # Getting the point vector\n",
    "\n",
    "            peaks=np.zeros((1,fil));                        # Initializating the s1-s1 Peak Vector\n",
    "            peaks=peaks[0];                                 # Getting the point vector\n",
    "\n",
    "            \n",
    "            for i in range(0,fil):\n",
    "                if dX[i]>0:\n",
    "                    positive[i]=1;\n",
    "                else:\n",
    "                    positive[i]=0;\n",
    "\n",
    "            for i in range(0,fil):\n",
    "                if (positive[i]==1 and positive[i+1]==0):\n",
    "                    points[i]=Xf[i];\n",
    "                else:\n",
    "                    points[i]=0;\n",
    "\n",
    "            indexes=peakutils.indexes(points,thres=0.5/max(points), min_dist=min_dist);\n",
    "            lenght=np.shape(indexes)\t\t\t# Get the length of the index vector\t\t\n",
    "            lenght=lenght[0];\t\t\t\t# Get the value of the index vector\n",
    "\n",
    "            for i in range(0,lenght):\n",
    "                p=indexes[i];\n",
    "                peaks[p]=points[p];\n",
    "        \n",
    "            n=np.arange(0,fil);                            # Vector to the X axes (Number of Samples)\n",
    "            \n",
    "            tmp_peaks = np.diff(indexes)\n",
    "                    \n",
    "            tmp_interval.append(tmp_peaks)\n",
    "                    \n",
    "           \n",
    "        except:\n",
    "            print(i)\n",
    "            tmp_peaks = np.zeros(maxlen)\n",
    "            tmp_interval.append(tmp_peaks)\n",
    "                    \n",
    "     \n",
    "    padded =pad_sequences(tmp_interval, maxlen=max_interval_len, dtype='float64', padding='post', truncating='post', value=0.0)\n",
    "        \n",
    "    for i in range(len(padded)):\n",
    "        features['interval'].append(padded[i])\n",
    "        \n",
    "        \n",
    "    for i in range(len(features['interval'])):\n",
    "        features['interval'][i] = np.array(features['interval'][i])\n",
    "        \n",
    "    features['interval'] = np.array(features['interval'])\n",
    "    \n",
    "    \n",
    "    \n",
    "    features['mel1'] = []\n",
    "    for i in range(len(recordings)) :\n",
    "        if use_mel :\n",
    "            mel1 = feature_extract_melspec(recordings[i]/ 32768, samp_sec=samp_sec, pre_emphasis = pre_emphasis, hop_length=hop_length, \n",
    "                                           win_length = win_length, n_mels = n_mels)[0]\n",
    "        else :\n",
    "            mel1 = np.zeros( (1,1) )\n",
    "            \n",
    "        features['mel1'].append(mel1)\n",
    "        \n",
    "    M, N = features['mel1'][0].shape\n",
    "    \n",
    "    if use_mel :\n",
    "        for i in range(len(features['mel1'])) :\n",
    "            features['mel1'][i] = features['mel1'][i].reshape(M,N,1)   \n",
    "    \n",
    "    features['mel1'] = np.array(features['mel1'])\n",
    "\n",
    "    \n",
    "  \n",
    "    features['cqt1'] = []\n",
    "    for i in range(len(recordings)) :\n",
    "        if use_cqt :\n",
    "            mel1 = feature_extract_cqt(recordings[i], samp_sec=samp_sec, pre_emphasis = pre_emphasis, filter_scale = filter_scale, \n",
    "                                        n_bins = n_bins, fmin = fmin)[0]\n",
    "        else:\n",
    "            mel1 = np.zeros( (1,1,1) )\n",
    "            \n",
    "        features['cqt1'].append(mel1)\n",
    "        \n",
    "    M, N,__ = features['cqt1'][0].shape\n",
    "    \n",
    "    if use_cqt :\n",
    "        for i in range(len(features['cqt1'])) :\n",
    "            features['cqt1'][i] = features['cqt1'][i].reshape(M,N,1)   \n",
    "    \n",
    "    features['cqt1'] = np.array(features['cqt1'])\n",
    "    \n",
    "    \n",
    "    features['stft1'] = []\n",
    "    for i in range(len(recordings)) :\n",
    "        if use_stft :\n",
    "            mel1 = feature_extract_stft(recordings[i]/ 32768, samp_sec=samp_sec, pre_emphasis = pre_emphasis, hop_length=hop_length, \n",
    "                                        win_length = win_length)[0]\n",
    "        else :\n",
    "            mel1 = np.zeros( (1,1,1) )\n",
    "        \n",
    "        features['stft1'].append(mel1)\n",
    "        \n",
    "    M, N,__ = features['stft1'][0].shape\n",
    "    if use_stft :\n",
    "        for i in range(len(features['stft1'])) :\n",
    "            features['stft1'][i] = features['stft1'][i].reshape(M,N,1)           \n",
    "    features['stft1'] = np.array(features['stft1'])\n",
    "    \n",
    "#     return features       \n",
    "\n",
    "    #    print(features)\n",
    "    # Impute missing data.\n",
    "    res1 = model1.predict([features['age'], features['sex'], features['hw'], features['preg'], \n",
    "                           features['loc'], features['interval'],features['wav2'],features['mel1'], features['stft1'], features['cqt1']])\n",
    "    res2 = model2.predict([features['age'], features['sex'], features['hw'], features['preg'], \n",
    "                           features['loc'], features['interval'],features['wav2'],features['mel1'], features['stft1'], features['cqt1']])\n",
    "    if model['ord1'] :\n",
    "        idx1 = res1.argmax(axis=0)[0]\n",
    "        murmur_p = res1[idx1,]  ## mumur 확률 최대화 되는 애 뽑기\n",
    "        murmur_probabilities = np.zeros((3,))\n",
    "        murmur_probabilities[0] = murmur_p[0]\n",
    "        murmur_probabilities[1] = 0\n",
    "        murmur_probabilities[2] = murmur_p[1]\n",
    "        outcome_probabilities = res2.mean(axis = 0) ##  outcome 은 그냥 평균으로 뽑기\n",
    "    else :\n",
    "        if model['mm_mean'] :\n",
    "            murmur_probabilities = res1.mean(axis = 0)\n",
    "        else :\n",
    "            idx1 = res1.argmax(axis=0)[0]\n",
    "            murmur_probabilities = res1[idx1,]  ## mumur 확률 최대화 되는 애 뽑기\n",
    "        outcome_probabilities = res2.mean(axis = 0) ##  outcome 은 그냥 평균으로 뽑기\n",
    "\n",
    "        \n",
    "    murmur_labels = np.zeros(len(murmur_classes), dtype=np.int_)\n",
    "    \n",
    "    \n",
    "    if murmur_probabilities[0] > 0.482 :\n",
    "        idx = 0\n",
    "    else :\n",
    "        idx = 2\n",
    "    murmur_labels[idx] = 1\n",
    "\n",
    "    outcome_labels = np.zeros(len(outcome_classes), dtype=np.int_)\n",
    "    if outcome_probabilities[0] > 0.607 :\n",
    "        idx = 0\n",
    "    else :\n",
    "        idx = 1    \n",
    "        # idx = np.argmax(outcome_probabilities)\n",
    "    outcome_labels[idx] = 1\n",
    "    \n",
    "    # Concatenate classes, labels, and probabilities.\n",
    "    classes = murmur_classes + outcome_classes\n",
    "    labels = np.concatenate((murmur_labels, outcome_labels))\n",
    "    probabilities = np.concatenate((murmur_probabilities, outcome_probabilities))\n",
    "    \n",
    "    return classes, labels, probabilities"
   ]
  },
  {
   "cell_type": "code",
   "execution_count": 43,
   "id": "b5eecd4a",
   "metadata": {
    "scrolled": true
   },
   "outputs": [
    {
     "data": {
      "text/plain": [
       "'lcnn2'"
      ]
     },
     "execution_count": 43,
     "metadata": {},
     "output_type": "execute_result"
    }
   ],
   "source": [
    "model_folder"
   ]
  },
  {
   "cell_type": "code",
   "execution_count": 44,
   "id": "cd5b523f",
   "metadata": {},
   "outputs": [],
   "source": [
    "data_folder = test_folder"
   ]
  },
  {
   "cell_type": "code",
   "execution_count": 45,
   "id": "1f523ff0",
   "metadata": {},
   "outputs": [
    {
     "data": {
      "text/plain": [
       "'/home/jk21/Downloads/Data/data/murmur/test'"
      ]
     },
     "execution_count": 45,
     "metadata": {},
     "output_type": "execute_result"
    }
   ],
   "source": [
    "data_folder"
   ]
  },
  {
   "cell_type": "code",
   "execution_count": 46,
   "id": "c67ffdf6",
   "metadata": {},
   "outputs": [],
   "source": [
    "output_folder ='/home/jk21/Documents/hmd/jk_classifier/out_lcnn2'"
   ]
  },
  {
   "cell_type": "code",
   "execution_count": 47,
   "id": "89e8d650",
   "metadata": {},
   "outputs": [],
   "source": [
    "allow_failures=True"
   ]
  },
  {
   "cell_type": "code",
   "execution_count": 48,
   "id": "bccc27ef",
   "metadata": {},
   "outputs": [],
   "source": [
    "verbose=1"
   ]
  },
  {
   "cell_type": "code",
   "execution_count": null,
   "id": "101c582c",
   "metadata": {},
   "outputs": [],
   "source": []
  },
  {
   "cell_type": "code",
   "execution_count": 49,
   "id": "73579324",
   "metadata": {},
   "outputs": [],
   "source": [
    "model = load_challenge_model(model_folder, verbose)"
   ]
  },
  {
   "cell_type": "code",
   "execution_count": 50,
   "id": "20a7edc2",
   "metadata": {},
   "outputs": [],
   "source": [
    "patient_files = find_patient_files(data_folder)"
   ]
  },
  {
   "cell_type": "code",
   "execution_count": 51,
   "id": "450b3026",
   "metadata": {},
   "outputs": [],
   "source": [
    "num_patient_files = len(patient_files)"
   ]
  },
  {
   "cell_type": "code",
   "execution_count": 52,
   "id": "2ed2bb8f",
   "metadata": {},
   "outputs": [],
   "source": [
    "patient_data = load_patient_data(patient_files[0])"
   ]
  },
  {
   "cell_type": "code",
   "execution_count": 53,
   "id": "18f0a77e",
   "metadata": {},
   "outputs": [
    {
     "data": {
      "text/plain": [
       "'33151 4 4000\\nAV 33151_AV.hea 33151_AV.wav 33151_AV.tsv\\nPV 33151_PV.hea 33151_PV.wav 33151_PV.tsv\\nTV 33151_TV.hea 33151_TV.wav 33151_TV.tsv\\nMV 33151_MV.hea 33151_MV.wav 33151_MV.tsv\\n#Age: Child\\n#Sex: Female\\n#Height: 141.0\\n#Weight: 30.9\\n#Pregnancy status: False\\n#Murmur: Present\\n#Murmur locations: MV+TV\\n#Most audible location: TV\\n#Systolic murmur timing: Holosystolic\\n#Systolic murmur shape: Plateau\\n#Systolic murmur grading: I/VI\\n#Systolic murmur pitch: Low\\n#Systolic murmur quality: Harsh\\n#Diastolic murmur timing: nan\\n#Diastolic murmur shape: nan\\n#Diastolic murmur grading: nan\\n#Diastolic murmur pitch: nan\\n#Diastolic murmur quality: nan\\n#Outcome: Abnormal\\n#Campaign: CC2015\\n#Additional ID: nan\\n'"
      ]
     },
     "execution_count": 53,
     "metadata": {},
     "output_type": "execute_result"
    }
   ],
   "source": [
    "patient_data"
   ]
  },
  {
   "cell_type": "code",
   "execution_count": 54,
   "id": "f039e162",
   "metadata": {},
   "outputs": [],
   "source": [
    "recordings = load_recordings(data_folder, patient_data)"
   ]
  },
  {
   "cell_type": "code",
   "execution_count": 55,
   "id": "d3acd534",
   "metadata": {},
   "outputs": [
    {
     "name": "stderr",
     "output_type": "stream",
     "text": [
      "100%|█████████████████████████████████████████████| 4/4 [00:00<00:00,  7.53it/s]\n"
     ]
    }
   ],
   "source": [
    "classes, labels, probabilities = run_challenge_model(model, patient_data, recordings, verbose)"
   ]
  },
  {
   "cell_type": "code",
   "execution_count": 56,
   "id": "970b87e5",
   "metadata": {},
   "outputs": [
    {
     "data": {
      "text/plain": [
       "['Present', 'Unknown', 'Absent', 'Abnormal', 'Normal']"
      ]
     },
     "execution_count": 56,
     "metadata": {},
     "output_type": "execute_result"
    }
   ],
   "source": [
    "classes"
   ]
  },
  {
   "cell_type": "code",
   "execution_count": 57,
   "id": "b6a44c38",
   "metadata": {},
   "outputs": [],
   "source": [
    "# Run model.\n",
    "def run_model(model_folder, data_folder, output_folder, allow_failures, verbose=1):\n",
    "    # Load models.\n",
    "    if verbose >= 1:\n",
    "        print('Loading Challenge model...')\n",
    "\n",
    "    model = load_challenge_model(model_folder, verbose) ### Teams: Implement this function!!!\n",
    "\n",
    "    # Find the patient data files.\n",
    "    patient_files = find_patient_files(data_folder)\n",
    "    num_patient_files = len(patient_files)\n",
    "\n",
    "    if num_patient_files==0:\n",
    "        raise Exception('No data was provided.')\n",
    "\n",
    "    # Create a folder for the Challenge outputs if it does not already exist.\n",
    "    os.makedirs(output_folder, exist_ok=True)\n",
    "\n",
    "    # Run the team's model on the Challenge data.\n",
    "    if verbose >= 1:\n",
    "        print('Running model on Challenge data...')\n",
    "\n",
    "    # Iterate over the patient files.\n",
    "    for i in range(num_patient_files):\n",
    "        if verbose >= 2:\n",
    "            print('    {}/{}...'.format(i+1, num_patient_files))\n",
    "\n",
    "        patient_data = load_patient_data(patient_files[i])\n",
    "        recordings = load_recordings(data_folder, patient_data)\n",
    "\n",
    "        # Allow or disallow the model to fail on parts of the data; helpful for debugging.\n",
    "        try:\n",
    "            classes, labels, probabilities = run_challenge_model(model, patient_data, recordings, verbose) ### Teams: Implement this function!!!\n",
    "        except:\n",
    "            if allow_failures:\n",
    "                if verbose >= 2:\n",
    "                    print('... failed.')\n",
    "                classes, labels, probabilities = list(), list(), list()\n",
    "            else:\n",
    "                raise\n",
    "\n",
    "        # Save Challenge outputs.\n",
    "        head, tail = os.path.split(patient_files[i])\n",
    "        root, extension = os.path.splitext(tail)\n",
    "        output_file = os.path.join(output_folder, root + '.csv')\n",
    "        patient_id = get_patient_id(patient_data)\n",
    "        save_challenge_outputs(output_file, patient_id, classes, labels, probabilities)\n",
    "\n",
    "    if verbose >= 1:\n",
    "        print('Done.')"
   ]
  },
  {
   "cell_type": "code",
   "execution_count": 58,
   "id": "7fe188c6",
   "metadata": {},
   "outputs": [
    {
     "data": {
      "text/plain": [
       "'/home/jk21/Downloads/Data/data/murmur/test'"
      ]
     },
     "execution_count": 58,
     "metadata": {},
     "output_type": "execute_result"
    }
   ],
   "source": [
    "test_folder"
   ]
  },
  {
   "cell_type": "code",
   "execution_count": 59,
   "id": "38ee9f70",
   "metadata": {},
   "outputs": [],
   "source": [
    "output_folder = '/home/jk21/Documents/hmd/jk_classifier/out_lcnn2'"
   ]
  },
  {
   "cell_type": "code",
   "execution_count": 60,
   "id": "d4be81f7",
   "metadata": {},
   "outputs": [
    {
     "name": "stdout",
     "output_type": "stream",
     "text": [
      "Loading Challenge model...\n",
      "Running model on Challenge data...\n",
      "    1/191...\n"
     ]
    },
    {
     "name": "stderr",
     "output_type": "stream",
     "text": [
      "100%|█████████████████████████████████████████████| 4/4 [00:00<00:00,  7.94it/s]\n"
     ]
    },
    {
     "name": "stdout",
     "output_type": "stream",
     "text": [
      "    2/191...\n"
     ]
    },
    {
     "name": "stderr",
     "output_type": "stream",
     "text": [
      "100%|█████████████████████████████████████████████| 2/2 [00:00<00:00,  8.98it/s]\n"
     ]
    },
    {
     "name": "stdout",
     "output_type": "stream",
     "text": [
      "    3/191...\n"
     ]
    },
    {
     "name": "stderr",
     "output_type": "stream",
     "text": [
      "100%|█████████████████████████████████████████████| 4/4 [00:00<00:00,  5.84it/s]\n"
     ]
    },
    {
     "name": "stdout",
     "output_type": "stream",
     "text": [
      "WARNING:tensorflow:5 out of the last 7 calls to <function Model.make_predict_function.<locals>.predict_function at 0x7f6d0c0e0040> triggered tf.function retracing. Tracing is expensive and the excessive number of tracings could be due to (1) creating @tf.function repeatedly in a loop, (2) passing tensors with different shapes, (3) passing Python objects instead of tensors. For (1), please define your @tf.function outside of the loop. For (2), @tf.function has experimental_relax_shapes=True option that relaxes argument shapes that can avoid unnecessary retracing. For (3), please refer to https://www.tensorflow.org/guide/function#controlling_retracing and https://www.tensorflow.org/api_docs/python/tf/function for  more details.\n",
      "    4/191...\n"
     ]
    },
    {
     "name": "stderr",
     "output_type": "stream",
     "text": [
      "100%|█████████████████████████████████████████████| 2/2 [00:00<00:00,  4.78it/s]\n"
     ]
    },
    {
     "name": "stdout",
     "output_type": "stream",
     "text": [
      "WARNING:tensorflow:6 out of the last 9 calls to <function Model.make_predict_function.<locals>.predict_function at 0x7f6cfc08f700> triggered tf.function retracing. Tracing is expensive and the excessive number of tracings could be due to (1) creating @tf.function repeatedly in a loop, (2) passing tensors with different shapes, (3) passing Python objects instead of tensors. For (1), please define your @tf.function outside of the loop. For (2), @tf.function has experimental_relax_shapes=True option that relaxes argument shapes that can avoid unnecessary retracing. For (3), please refer to https://www.tensorflow.org/guide/function#controlling_retracing and https://www.tensorflow.org/api_docs/python/tf/function for  more details.\n",
      "    5/191...\n"
     ]
    },
    {
     "name": "stderr",
     "output_type": "stream",
     "text": [
      "100%|█████████████████████████████████████████████| 3/3 [00:00<00:00,  5.05it/s]\n"
     ]
    },
    {
     "name": "stdout",
     "output_type": "stream",
     "text": [
      "    6/191...\n"
     ]
    },
    {
     "name": "stderr",
     "output_type": "stream",
     "text": [
      "100%|█████████████████████████████████████████████| 1/1 [00:00<00:00,  3.17it/s]\n"
     ]
    },
    {
     "name": "stdout",
     "output_type": "stream",
     "text": [
      "    7/191...\n"
     ]
    },
    {
     "name": "stderr",
     "output_type": "stream",
     "text": [
      "100%|█████████████████████████████████████████████| 4/4 [00:00<00:00,  4.70it/s]\n"
     ]
    },
    {
     "name": "stdout",
     "output_type": "stream",
     "text": [
      "    8/191...\n"
     ]
    },
    {
     "name": "stderr",
     "output_type": "stream",
     "text": [
      "100%|█████████████████████████████████████████████| 4/4 [00:00<00:00,  9.90it/s]\n"
     ]
    },
    {
     "name": "stdout",
     "output_type": "stream",
     "text": [
      "    9/191...\n"
     ]
    },
    {
     "name": "stderr",
     "output_type": "stream",
     "text": [
      "100%|█████████████████████████████████████████████| 4/4 [00:00<00:00,  4.60it/s]\n"
     ]
    },
    {
     "name": "stdout",
     "output_type": "stream",
     "text": [
      "    10/191...\n"
     ]
    },
    {
     "name": "stderr",
     "output_type": "stream",
     "text": [
      "100%|█████████████████████████████████████████████| 4/4 [00:00<00:00,  5.01it/s]\n"
     ]
    },
    {
     "name": "stdout",
     "output_type": "stream",
     "text": [
      "    11/191...\n"
     ]
    },
    {
     "name": "stderr",
     "output_type": "stream",
     "text": [
      "100%|█████████████████████████████████████████████| 4/4 [00:00<00:00,  4.92it/s]\n"
     ]
    },
    {
     "name": "stdout",
     "output_type": "stream",
     "text": [
      "    12/191...\n"
     ]
    },
    {
     "name": "stderr",
     "output_type": "stream",
     "text": [
      "100%|█████████████████████████████████████████████| 2/2 [00:00<00:00,  4.81it/s]\n"
     ]
    },
    {
     "name": "stdout",
     "output_type": "stream",
     "text": [
      "    13/191...\n"
     ]
    },
    {
     "name": "stderr",
     "output_type": "stream",
     "text": [
      "100%|█████████████████████████████████████████████| 3/3 [00:00<00:00,  7.07it/s]\n"
     ]
    },
    {
     "name": "stdout",
     "output_type": "stream",
     "text": [
      "    14/191...\n"
     ]
    },
    {
     "name": "stderr",
     "output_type": "stream",
     "text": [
      "100%|█████████████████████████████████████████████| 4/4 [00:00<00:00,  5.01it/s]\n"
     ]
    },
    {
     "name": "stdout",
     "output_type": "stream",
     "text": [
      "    15/191...\n"
     ]
    },
    {
     "name": "stderr",
     "output_type": "stream",
     "text": [
      "100%|█████████████████████████████████████████████| 2/2 [00:00<00:00,  4.82it/s]\n"
     ]
    },
    {
     "name": "stdout",
     "output_type": "stream",
     "text": [
      "    16/191...\n"
     ]
    },
    {
     "name": "stderr",
     "output_type": "stream",
     "text": [
      "100%|█████████████████████████████████████████████| 4/4 [00:00<00:00,  6.20it/s]\n"
     ]
    },
    {
     "name": "stdout",
     "output_type": "stream",
     "text": [
      "    17/191...\n"
     ]
    },
    {
     "name": "stderr",
     "output_type": "stream",
     "text": [
      "100%|█████████████████████████████████████████████| 5/5 [00:00<00:00,  8.68it/s]\n"
     ]
    },
    {
     "name": "stdout",
     "output_type": "stream",
     "text": [
      "    18/191...\n"
     ]
    },
    {
     "name": "stderr",
     "output_type": "stream",
     "text": [
      "100%|█████████████████████████████████████████████| 1/1 [00:00<00:00,  9.90it/s]\n"
     ]
    },
    {
     "name": "stdout",
     "output_type": "stream",
     "text": [
      "    19/191...\n"
     ]
    },
    {
     "name": "stderr",
     "output_type": "stream",
     "text": [
      "100%|█████████████████████████████████████████████| 4/4 [00:00<00:00,  8.17it/s]\n"
     ]
    },
    {
     "name": "stdout",
     "output_type": "stream",
     "text": [
      "    20/191...\n"
     ]
    },
    {
     "name": "stderr",
     "output_type": "stream",
     "text": [
      "100%|█████████████████████████████████████████████| 4/4 [00:00<00:00,  9.56it/s]\n"
     ]
    },
    {
     "name": "stdout",
     "output_type": "stream",
     "text": [
      "    21/191...\n"
     ]
    },
    {
     "name": "stderr",
     "output_type": "stream",
     "text": [
      "100%|█████████████████████████████████████████████| 2/2 [00:00<00:00,  4.68it/s]\n"
     ]
    },
    {
     "name": "stdout",
     "output_type": "stream",
     "text": [
      "    22/191...\n"
     ]
    },
    {
     "name": "stderr",
     "output_type": "stream",
     "text": [
      "100%|█████████████████████████████████████████████| 1/1 [00:00<00:00,  6.36it/s]\n"
     ]
    },
    {
     "name": "stdout",
     "output_type": "stream",
     "text": [
      "    23/191...\n"
     ]
    },
    {
     "name": "stderr",
     "output_type": "stream",
     "text": [
      "100%|█████████████████████████████████████████████| 2/2 [00:00<00:00,  5.55it/s]\n"
     ]
    },
    {
     "name": "stdout",
     "output_type": "stream",
     "text": [
      "    24/191...\n"
     ]
    },
    {
     "name": "stderr",
     "output_type": "stream",
     "text": [
      "100%|█████████████████████████████████████████████| 3/3 [00:00<00:00,  5.01it/s]\n"
     ]
    },
    {
     "name": "stdout",
     "output_type": "stream",
     "text": [
      "    25/191...\n"
     ]
    },
    {
     "name": "stderr",
     "output_type": "stream",
     "text": [
      "100%|█████████████████████████████████████████████| 4/4 [00:00<00:00,  5.92it/s]\n"
     ]
    },
    {
     "name": "stdout",
     "output_type": "stream",
     "text": [
      "    26/191...\n"
     ]
    },
    {
     "name": "stderr",
     "output_type": "stream",
     "text": [
      "100%|█████████████████████████████████████████████| 3/3 [00:00<00:00,  4.81it/s]\n"
     ]
    },
    {
     "name": "stdout",
     "output_type": "stream",
     "text": [
      "    27/191...\n"
     ]
    },
    {
     "name": "stderr",
     "output_type": "stream",
     "text": [
      "100%|█████████████████████████████████████████████| 2/2 [00:00<00:00,  4.47it/s]\n"
     ]
    },
    {
     "name": "stdout",
     "output_type": "stream",
     "text": [
      "    28/191...\n"
     ]
    },
    {
     "name": "stderr",
     "output_type": "stream",
     "text": [
      "100%|█████████████████████████████████████████████| 3/3 [00:00<00:00,  5.60it/s]\n"
     ]
    },
    {
     "name": "stdout",
     "output_type": "stream",
     "text": [
      "    29/191...\n"
     ]
    },
    {
     "name": "stderr",
     "output_type": "stream",
     "text": [
      "100%|█████████████████████████████████████████████| 3/3 [00:00<00:00,  4.89it/s]\n"
     ]
    },
    {
     "name": "stdout",
     "output_type": "stream",
     "text": [
      "    30/191...\n"
     ]
    },
    {
     "name": "stderr",
     "output_type": "stream",
     "text": [
      "100%|█████████████████████████████████████████████| 4/4 [00:00<00:00,  5.28it/s]\n"
     ]
    },
    {
     "name": "stdout",
     "output_type": "stream",
     "text": [
      "    31/191...\n"
     ]
    },
    {
     "name": "stderr",
     "output_type": "stream",
     "text": [
      "100%|█████████████████████████████████████████████| 3/3 [00:00<00:00,  5.82it/s]\n"
     ]
    },
    {
     "name": "stdout",
     "output_type": "stream",
     "text": [
      "    32/191...\n"
     ]
    },
    {
     "name": "stderr",
     "output_type": "stream",
     "text": [
      "100%|█████████████████████████████████████████████| 2/2 [00:00<00:00,  5.40it/s]\n"
     ]
    },
    {
     "name": "stdout",
     "output_type": "stream",
     "text": [
      "    33/191...\n"
     ]
    },
    {
     "name": "stderr",
     "output_type": "stream",
     "text": [
      "100%|█████████████████████████████████████████████| 1/1 [00:00<00:00,  4.24it/s]\n"
     ]
    },
    {
     "name": "stdout",
     "output_type": "stream",
     "text": [
      "    34/191...\n"
     ]
    },
    {
     "name": "stderr",
     "output_type": "stream",
     "text": [
      "100%|█████████████████████████████████████████████| 3/3 [00:00<00:00,  5.01it/s]\n"
     ]
    },
    {
     "name": "stdout",
     "output_type": "stream",
     "text": [
      "    35/191...\n"
     ]
    },
    {
     "name": "stderr",
     "output_type": "stream",
     "text": [
      "100%|█████████████████████████████████████████████| 3/3 [00:00<00:00,  4.65it/s]\n"
     ]
    },
    {
     "name": "stdout",
     "output_type": "stream",
     "text": [
      "    36/191...\n"
     ]
    },
    {
     "name": "stderr",
     "output_type": "stream",
     "text": [
      "100%|█████████████████████████████████████████████| 3/3 [00:00<00:00,  6.37it/s]\n"
     ]
    },
    {
     "name": "stdout",
     "output_type": "stream",
     "text": [
      "    37/191...\n"
     ]
    },
    {
     "name": "stderr",
     "output_type": "stream",
     "text": [
      "100%|█████████████████████████████████████████████| 3/3 [00:00<00:00,  7.95it/s]\n"
     ]
    },
    {
     "name": "stdout",
     "output_type": "stream",
     "text": [
      "    38/191...\n"
     ]
    },
    {
     "name": "stderr",
     "output_type": "stream",
     "text": [
      "100%|█████████████████████████████████████████████| 5/5 [00:00<00:00,  5.35it/s]\n"
     ]
    },
    {
     "name": "stdout",
     "output_type": "stream",
     "text": [
      "    39/191...\n"
     ]
    },
    {
     "name": "stderr",
     "output_type": "stream",
     "text": [
      "100%|█████████████████████████████████████████████| 4/4 [00:00<00:00,  5.11it/s]\n"
     ]
    },
    {
     "name": "stdout",
     "output_type": "stream",
     "text": [
      "    40/191...\n"
     ]
    },
    {
     "name": "stderr",
     "output_type": "stream",
     "text": [
      "100%|█████████████████████████████████████████████| 2/2 [00:00<00:00,  4.68it/s]\n"
     ]
    },
    {
     "name": "stdout",
     "output_type": "stream",
     "text": [
      "    41/191...\n"
     ]
    },
    {
     "name": "stderr",
     "output_type": "stream",
     "text": [
      "100%|█████████████████████████████████████████████| 4/4 [00:00<00:00,  7.43it/s]\n"
     ]
    },
    {
     "name": "stdout",
     "output_type": "stream",
     "text": [
      "    42/191...\n"
     ]
    },
    {
     "name": "stderr",
     "output_type": "stream",
     "text": [
      "100%|█████████████████████████████████████████████| 3/3 [00:00<00:00,  5.57it/s]\n"
     ]
    },
    {
     "name": "stdout",
     "output_type": "stream",
     "text": [
      "    43/191...\n"
     ]
    },
    {
     "name": "stderr",
     "output_type": "stream",
     "text": [
      "100%|█████████████████████████████████████████████| 3/3 [00:00<00:00,  6.85it/s]\n"
     ]
    },
    {
     "name": "stdout",
     "output_type": "stream",
     "text": [
      "    44/191...\n"
     ]
    },
    {
     "name": "stderr",
     "output_type": "stream",
     "text": [
      "100%|█████████████████████████████████████████████| 2/2 [00:00<00:00,  4.33it/s]\n"
     ]
    },
    {
     "name": "stdout",
     "output_type": "stream",
     "text": [
      "    45/191...\n"
     ]
    },
    {
     "name": "stderr",
     "output_type": "stream",
     "text": [
      "100%|█████████████████████████████████████████████| 4/4 [00:00<00:00,  5.03it/s]\n"
     ]
    },
    {
     "name": "stdout",
     "output_type": "stream",
     "text": [
      "    46/191...\n"
     ]
    },
    {
     "name": "stderr",
     "output_type": "stream",
     "text": [
      "100%|█████████████████████████████████████████████| 4/4 [00:00<00:00,  5.30it/s]\n"
     ]
    },
    {
     "name": "stdout",
     "output_type": "stream",
     "text": [
      "    47/191...\n"
     ]
    },
    {
     "name": "stderr",
     "output_type": "stream",
     "text": [
      "100%|█████████████████████████████████████████████| 4/4 [00:00<00:00,  5.08it/s]\n"
     ]
    },
    {
     "name": "stdout",
     "output_type": "stream",
     "text": [
      "    48/191...\n"
     ]
    },
    {
     "name": "stderr",
     "output_type": "stream",
     "text": [
      "100%|█████████████████████████████████████████████| 4/4 [00:00<00:00,  4.81it/s]\n"
     ]
    },
    {
     "name": "stdout",
     "output_type": "stream",
     "text": [
      "    49/191...\n"
     ]
    },
    {
     "name": "stderr",
     "output_type": "stream",
     "text": [
      "100%|█████████████████████████████████████████████| 2/2 [00:00<00:00,  4.41it/s]\n"
     ]
    },
    {
     "name": "stdout",
     "output_type": "stream",
     "text": [
      "    50/191...\n"
     ]
    },
    {
     "name": "stderr",
     "output_type": "stream",
     "text": [
      "100%|█████████████████████████████████████████████| 2/2 [00:00<00:00,  5.18it/s]\n"
     ]
    },
    {
     "name": "stdout",
     "output_type": "stream",
     "text": [
      "    51/191...\n"
     ]
    },
    {
     "name": "stderr",
     "output_type": "stream",
     "text": [
      "100%|█████████████████████████████████████████████| 2/2 [00:00<00:00,  7.25it/s]\n"
     ]
    },
    {
     "name": "stdout",
     "output_type": "stream",
     "text": [
      "    52/191...\n"
     ]
    },
    {
     "name": "stderr",
     "output_type": "stream",
     "text": [
      "100%|█████████████████████████████████████████████| 5/5 [00:00<00:00,  6.31it/s]\n"
     ]
    },
    {
     "name": "stdout",
     "output_type": "stream",
     "text": [
      "    53/191...\n"
     ]
    },
    {
     "name": "stderr",
     "output_type": "stream",
     "text": [
      "100%|█████████████████████████████████████████████| 2/2 [00:00<00:00,  4.81it/s]\n"
     ]
    },
    {
     "name": "stdout",
     "output_type": "stream",
     "text": [
      "    54/191...\n"
     ]
    },
    {
     "name": "stderr",
     "output_type": "stream",
     "text": [
      "100%|█████████████████████████████████████████████| 4/4 [00:00<00:00,  4.60it/s]\n"
     ]
    },
    {
     "name": "stdout",
     "output_type": "stream",
     "text": [
      "    55/191...\n"
     ]
    },
    {
     "name": "stderr",
     "output_type": "stream",
     "text": [
      "100%|█████████████████████████████████████████████| 4/4 [00:00<00:00,  4.92it/s]\n"
     ]
    },
    {
     "name": "stdout",
     "output_type": "stream",
     "text": [
      "    56/191...\n"
     ]
    },
    {
     "name": "stderr",
     "output_type": "stream",
     "text": [
      "100%|█████████████████████████████████████████████| 4/4 [00:00<00:00,  4.84it/s]\n"
     ]
    },
    {
     "name": "stdout",
     "output_type": "stream",
     "text": [
      "    57/191...\n"
     ]
    },
    {
     "name": "stderr",
     "output_type": "stream",
     "text": [
      "100%|█████████████████████████████████████████████| 2/2 [00:00<00:00,  4.25it/s]\n"
     ]
    },
    {
     "name": "stdout",
     "output_type": "stream",
     "text": [
      "    58/191...\n"
     ]
    },
    {
     "name": "stderr",
     "output_type": "stream",
     "text": [
      "100%|█████████████████████████████████████████████| 1/1 [00:00<00:00,  4.53it/s]\n"
     ]
    },
    {
     "name": "stdout",
     "output_type": "stream",
     "text": [
      "    59/191...\n"
     ]
    },
    {
     "name": "stderr",
     "output_type": "stream",
     "text": [
      "100%|█████████████████████████████████████████████| 3/3 [00:00<00:00,  4.65it/s]\n"
     ]
    },
    {
     "name": "stdout",
     "output_type": "stream",
     "text": [
      "    60/191...\n"
     ]
    },
    {
     "name": "stderr",
     "output_type": "stream",
     "text": [
      "100%|█████████████████████████████████████████████| 2/2 [00:00<00:00,  4.95it/s]\n"
     ]
    },
    {
     "name": "stdout",
     "output_type": "stream",
     "text": [
      "    61/191...\n"
     ]
    },
    {
     "name": "stderr",
     "output_type": "stream",
     "text": [
      "100%|█████████████████████████████████████████████| 2/2 [00:00<00:00,  4.87it/s]\n"
     ]
    },
    {
     "name": "stdout",
     "output_type": "stream",
     "text": [
      "    62/191...\n"
     ]
    },
    {
     "name": "stderr",
     "output_type": "stream",
     "text": [
      "100%|█████████████████████████████████████████████| 5/5 [00:01<00:00,  4.63it/s]\n"
     ]
    },
    {
     "name": "stdout",
     "output_type": "stream",
     "text": [
      "    63/191...\n"
     ]
    },
    {
     "name": "stderr",
     "output_type": "stream",
     "text": [
      "100%|█████████████████████████████████████████████| 4/4 [00:00<00:00,  4.62it/s]\n"
     ]
    },
    {
     "name": "stdout",
     "output_type": "stream",
     "text": [
      "    64/191...\n"
     ]
    },
    {
     "name": "stderr",
     "output_type": "stream",
     "text": [
      "100%|█████████████████████████████████████████████| 2/2 [00:00<00:00,  4.55it/s]\n"
     ]
    },
    {
     "name": "stdout",
     "output_type": "stream",
     "text": [
      "    65/191...\n"
     ]
    },
    {
     "name": "stderr",
     "output_type": "stream",
     "text": [
      "100%|█████████████████████████████████████████████| 1/1 [00:00<00:00,  6.36it/s]\n"
     ]
    },
    {
     "name": "stdout",
     "output_type": "stream",
     "text": [
      "    66/191...\n"
     ]
    },
    {
     "name": "stderr",
     "output_type": "stream",
     "text": [
      "100%|█████████████████████████████████████████████| 3/3 [00:00<00:00,  4.65it/s]\n"
     ]
    },
    {
     "name": "stdout",
     "output_type": "stream",
     "text": [
      "    67/191...\n"
     ]
    },
    {
     "name": "stderr",
     "output_type": "stream",
     "text": [
      "100%|█████████████████████████████████████████████| 4/4 [00:00<00:00,  4.86it/s]\n"
     ]
    },
    {
     "name": "stdout",
     "output_type": "stream",
     "text": [
      "    68/191...\n"
     ]
    },
    {
     "name": "stderr",
     "output_type": "stream",
     "text": [
      "100%|█████████████████████████████████████████████| 4/4 [00:00<00:00,  4.85it/s]\n"
     ]
    },
    {
     "name": "stdout",
     "output_type": "stream",
     "text": [
      "    69/191...\n"
     ]
    },
    {
     "name": "stderr",
     "output_type": "stream",
     "text": [
      "100%|█████████████████████████████████████████████| 4/4 [00:00<00:00,  4.69it/s]\n"
     ]
    },
    {
     "name": "stdout",
     "output_type": "stream",
     "text": [
      "    70/191...\n"
     ]
    },
    {
     "name": "stderr",
     "output_type": "stream",
     "text": [
      "100%|█████████████████████████████████████████████| 5/5 [00:01<00:00,  2.68it/s]\n"
     ]
    },
    {
     "name": "stdout",
     "output_type": "stream",
     "text": [
      "    71/191...\n"
     ]
    },
    {
     "name": "stderr",
     "output_type": "stream",
     "text": [
      "100%|█████████████████████████████████████████████| 3/3 [00:00<00:00,  4.41it/s]\n"
     ]
    },
    {
     "name": "stdout",
     "output_type": "stream",
     "text": [
      "    72/191...\n"
     ]
    },
    {
     "name": "stderr",
     "output_type": "stream",
     "text": [
      "100%|█████████████████████████████████████████████| 4/4 [00:00<00:00,  6.33it/s]\n"
     ]
    },
    {
     "name": "stdout",
     "output_type": "stream",
     "text": [
      "    73/191...\n"
     ]
    },
    {
     "name": "stderr",
     "output_type": "stream",
     "text": [
      "100%|█████████████████████████████████████████████| 4/4 [00:00<00:00,  5.49it/s]\n"
     ]
    },
    {
     "name": "stdout",
     "output_type": "stream",
     "text": [
      "    74/191...\n"
     ]
    },
    {
     "name": "stderr",
     "output_type": "stream",
     "text": [
      "100%|█████████████████████████████████████████████| 4/4 [00:00<00:00,  4.92it/s]\n"
     ]
    },
    {
     "name": "stdout",
     "output_type": "stream",
     "text": [
      "    75/191...\n"
     ]
    },
    {
     "name": "stderr",
     "output_type": "stream",
     "text": [
      "100%|█████████████████████████████████████████████| 3/3 [00:00<00:00,  4.87it/s]\n"
     ]
    },
    {
     "name": "stdout",
     "output_type": "stream",
     "text": [
      "    76/191...\n"
     ]
    },
    {
     "name": "stderr",
     "output_type": "stream",
     "text": [
      "100%|█████████████████████████████████████████████| 4/4 [00:00<00:00,  5.03it/s]\n"
     ]
    },
    {
     "name": "stdout",
     "output_type": "stream",
     "text": [
      "    77/191...\n"
     ]
    },
    {
     "name": "stderr",
     "output_type": "stream",
     "text": [
      "100%|█████████████████████████████████████████████| 4/4 [00:00<00:00,  4.79it/s]\n"
     ]
    },
    {
     "name": "stdout",
     "output_type": "stream",
     "text": [
      "    78/191...\n"
     ]
    },
    {
     "name": "stderr",
     "output_type": "stream",
     "text": [
      "100%|█████████████████████████████████████████████| 4/4 [00:00<00:00,  5.07it/s]\n"
     ]
    },
    {
     "name": "stdout",
     "output_type": "stream",
     "text": [
      "    79/191...\n"
     ]
    },
    {
     "name": "stderr",
     "output_type": "stream",
     "text": [
      "100%|█████████████████████████████████████████████| 1/1 [00:00<00:00,  7.10it/s]\n"
     ]
    },
    {
     "name": "stdout",
     "output_type": "stream",
     "text": [
      "    80/191...\n"
     ]
    },
    {
     "name": "stderr",
     "output_type": "stream",
     "text": [
      "100%|█████████████████████████████████████████████| 2/2 [00:00<00:00,  5.36it/s]\n"
     ]
    },
    {
     "name": "stdout",
     "output_type": "stream",
     "text": [
      "    81/191...\n"
     ]
    },
    {
     "name": "stderr",
     "output_type": "stream",
     "text": [
      "100%|█████████████████████████████████████████████| 4/4 [00:00<00:00, 14.80it/s]\n"
     ]
    },
    {
     "name": "stdout",
     "output_type": "stream",
     "text": [
      "    82/191...\n"
     ]
    },
    {
     "name": "stderr",
     "output_type": "stream",
     "text": [
      "100%|█████████████████████████████████████████████| 4/4 [00:00<00:00,  7.17it/s]\n"
     ]
    },
    {
     "name": "stdout",
     "output_type": "stream",
     "text": [
      "    83/191...\n"
     ]
    },
    {
     "name": "stderr",
     "output_type": "stream",
     "text": [
      "100%|█████████████████████████████████████████████| 4/4 [00:00<00:00,  6.05it/s]\n"
     ]
    },
    {
     "name": "stdout",
     "output_type": "stream",
     "text": [
      "    84/191...\n"
     ]
    },
    {
     "name": "stderr",
     "output_type": "stream",
     "text": [
      "100%|█████████████████████████████████████████████| 4/4 [00:00<00:00,  8.50it/s]\n"
     ]
    },
    {
     "name": "stdout",
     "output_type": "stream",
     "text": [
      "    85/191...\n"
     ]
    },
    {
     "name": "stderr",
     "output_type": "stream",
     "text": [
      "100%|█████████████████████████████████████████████| 1/1 [00:00<00:00,  6.36it/s]\n"
     ]
    },
    {
     "name": "stdout",
     "output_type": "stream",
     "text": [
      "    86/191...\n"
     ]
    },
    {
     "name": "stderr",
     "output_type": "stream",
     "text": [
      "100%|█████████████████████████████████████████████| 3/3 [00:00<00:00, 10.59it/s]\n"
     ]
    },
    {
     "name": "stdout",
     "output_type": "stream",
     "text": [
      "    87/191...\n"
     ]
    },
    {
     "name": "stderr",
     "output_type": "stream",
     "text": [
      "100%|█████████████████████████████████████████████| 4/4 [00:00<00:00,  8.34it/s]\n"
     ]
    },
    {
     "name": "stdout",
     "output_type": "stream",
     "text": [
      "    88/191...\n"
     ]
    },
    {
     "name": "stderr",
     "output_type": "stream",
     "text": [
      "100%|█████████████████████████████████████████████| 4/4 [00:00<00:00, 11.40it/s]\n"
     ]
    },
    {
     "name": "stdout",
     "output_type": "stream",
     "text": [
      "    89/191...\n"
     ]
    },
    {
     "name": "stderr",
     "output_type": "stream",
     "text": [
      "100%|█████████████████████████████████████████████| 4/4 [00:00<00:00,  6.17it/s]\n"
     ]
    },
    {
     "name": "stdout",
     "output_type": "stream",
     "text": [
      "    90/191...\n"
     ]
    },
    {
     "name": "stderr",
     "output_type": "stream",
     "text": [
      "100%|█████████████████████████████████████████████| 2/2 [00:00<00:00,  6.66it/s]\n"
     ]
    },
    {
     "name": "stdout",
     "output_type": "stream",
     "text": [
      "    91/191...\n"
     ]
    },
    {
     "name": "stderr",
     "output_type": "stream",
     "text": [
      "100%|█████████████████████████████████████████████| 4/4 [00:00<00:00,  7.49it/s]\n"
     ]
    },
    {
     "name": "stdout",
     "output_type": "stream",
     "text": [
      "    92/191...\n"
     ]
    },
    {
     "name": "stderr",
     "output_type": "stream",
     "text": [
      "100%|█████████████████████████████████████████████| 3/3 [00:00<00:00,  7.07it/s]\n"
     ]
    },
    {
     "name": "stdout",
     "output_type": "stream",
     "text": [
      "    93/191...\n"
     ]
    },
    {
     "name": "stderr",
     "output_type": "stream",
     "text": [
      "100%|█████████████████████████████████████████████| 4/4 [00:00<00:00,  6.88it/s]\n"
     ]
    },
    {
     "name": "stdout",
     "output_type": "stream",
     "text": [
      "    94/191...\n"
     ]
    },
    {
     "name": "stderr",
     "output_type": "stream",
     "text": [
      "100%|█████████████████████████████████████████████| 4/4 [00:00<00:00, 13.32it/s]\n"
     ]
    },
    {
     "name": "stdout",
     "output_type": "stream",
     "text": [
      "    95/191...\n"
     ]
    },
    {
     "name": "stderr",
     "output_type": "stream",
     "text": [
      "100%|█████████████████████████████████████████████| 4/4 [00:00<00:00,  5.77it/s]\n"
     ]
    },
    {
     "name": "stdout",
     "output_type": "stream",
     "text": [
      "    96/191...\n"
     ]
    },
    {
     "name": "stderr",
     "output_type": "stream",
     "text": [
      "100%|█████████████████████████████████████████████| 4/4 [00:00<00:00, 10.52it/s]\n"
     ]
    },
    {
     "name": "stdout",
     "output_type": "stream",
     "text": [
      "    97/191...\n"
     ]
    },
    {
     "name": "stderr",
     "output_type": "stream",
     "text": [
      "100%|█████████████████████████████████████████████| 4/4 [00:00<00:00, 14.86it/s]\n"
     ]
    },
    {
     "name": "stdout",
     "output_type": "stream",
     "text": [
      "    98/191...\n"
     ]
    },
    {
     "name": "stderr",
     "output_type": "stream",
     "text": [
      "100%|█████████████████████████████████████████████| 4/4 [00:00<00:00,  9.62it/s]\n"
     ]
    },
    {
     "name": "stdout",
     "output_type": "stream",
     "text": [
      "    99/191...\n"
     ]
    },
    {
     "name": "stderr",
     "output_type": "stream",
     "text": [
      "100%|█████████████████████████████████████████████| 4/4 [00:00<00:00,  6.45it/s]\n"
     ]
    },
    {
     "name": "stdout",
     "output_type": "stream",
     "text": [
      "    100/191...\n"
     ]
    },
    {
     "name": "stderr",
     "output_type": "stream",
     "text": [
      "100%|█████████████████████████████████████████████| 3/3 [00:00<00:00,  7.81it/s]\n"
     ]
    },
    {
     "name": "stdout",
     "output_type": "stream",
     "text": [
      "    101/191...\n"
     ]
    },
    {
     "name": "stderr",
     "output_type": "stream",
     "text": [
      "100%|█████████████████████████████████████████████| 4/4 [00:00<00:00,  7.58it/s]\n"
     ]
    },
    {
     "name": "stdout",
     "output_type": "stream",
     "text": [
      "    102/191...\n"
     ]
    },
    {
     "name": "stderr",
     "output_type": "stream",
     "text": [
      "100%|█████████████████████████████████████████████| 4/4 [00:00<00:00,  6.83it/s]\n"
     ]
    },
    {
     "name": "stdout",
     "output_type": "stream",
     "text": [
      "    103/191...\n"
     ]
    },
    {
     "name": "stderr",
     "output_type": "stream",
     "text": [
      "100%|█████████████████████████████████████████████| 4/4 [00:00<00:00,  6.19it/s]\n"
     ]
    },
    {
     "name": "stdout",
     "output_type": "stream",
     "text": [
      "    104/191...\n"
     ]
    },
    {
     "name": "stderr",
     "output_type": "stream",
     "text": [
      "100%|█████████████████████████████████████████████| 4/4 [00:00<00:00, 14.05it/s]\n"
     ]
    },
    {
     "name": "stdout",
     "output_type": "stream",
     "text": [
      "    105/191...\n"
     ]
    },
    {
     "name": "stderr",
     "output_type": "stream",
     "text": [
      "100%|█████████████████████████████████████████████| 4/4 [00:00<00:00,  7.01it/s]\n"
     ]
    },
    {
     "name": "stdout",
     "output_type": "stream",
     "text": [
      "    106/191...\n"
     ]
    },
    {
     "name": "stderr",
     "output_type": "stream",
     "text": [
      "100%|█████████████████████████████████████████████| 4/4 [00:00<00:00,  6.06it/s]\n"
     ]
    },
    {
     "name": "stdout",
     "output_type": "stream",
     "text": [
      "    107/191...\n"
     ]
    },
    {
     "name": "stderr",
     "output_type": "stream",
     "text": [
      "100%|█████████████████████████████████████████████| 4/4 [00:00<00:00,  9.75it/s]\n"
     ]
    },
    {
     "name": "stdout",
     "output_type": "stream",
     "text": [
      "    108/191...\n"
     ]
    },
    {
     "name": "stderr",
     "output_type": "stream",
     "text": [
      "100%|█████████████████████████████████████████████| 2/2 [00:00<00:00,  6.16it/s]\n"
     ]
    },
    {
     "name": "stdout",
     "output_type": "stream",
     "text": [
      "    109/191...\n"
     ]
    },
    {
     "name": "stderr",
     "output_type": "stream",
     "text": [
      "100%|█████████████████████████████████████████████| 4/4 [00:00<00:00,  9.93it/s]\n"
     ]
    },
    {
     "name": "stdout",
     "output_type": "stream",
     "text": [
      "    110/191...\n"
     ]
    },
    {
     "name": "stderr",
     "output_type": "stream",
     "text": [
      "100%|█████████████████████████████████████████████| 4/4 [00:00<00:00, 11.59it/s]\n"
     ]
    },
    {
     "name": "stdout",
     "output_type": "stream",
     "text": [
      "    111/191...\n"
     ]
    },
    {
     "name": "stderr",
     "output_type": "stream",
     "text": [
      "100%|█████████████████████████████████████████████| 4/4 [00:00<00:00,  7.83it/s]\n"
     ]
    },
    {
     "name": "stdout",
     "output_type": "stream",
     "text": [
      "    112/191...\n"
     ]
    },
    {
     "name": "stderr",
     "output_type": "stream",
     "text": [
      "100%|█████████████████████████████████████████████| 1/1 [00:00<00:00,  7.51it/s]\n"
     ]
    },
    {
     "name": "stdout",
     "output_type": "stream",
     "text": [
      "    113/191...\n"
     ]
    },
    {
     "name": "stderr",
     "output_type": "stream",
     "text": [
      "100%|█████████████████████████████████████████████| 4/4 [00:00<00:00,  9.13it/s]\n"
     ]
    },
    {
     "name": "stdout",
     "output_type": "stream",
     "text": [
      "    114/191...\n"
     ]
    },
    {
     "name": "stderr",
     "output_type": "stream",
     "text": [
      "100%|█████████████████████████████████████████████| 2/2 [00:00<00:00,  5.62it/s]\n"
     ]
    },
    {
     "name": "stdout",
     "output_type": "stream",
     "text": [
      "    115/191...\n"
     ]
    },
    {
     "name": "stderr",
     "output_type": "stream",
     "text": [
      "100%|█████████████████████████████████████████████| 4/4 [00:00<00:00, 10.33it/s]\n"
     ]
    },
    {
     "name": "stdout",
     "output_type": "stream",
     "text": [
      "    116/191...\n"
     ]
    },
    {
     "name": "stderr",
     "output_type": "stream",
     "text": [
      "100%|█████████████████████████████████████████████| 1/1 [00:00<00:00,  9.17it/s]\n"
     ]
    },
    {
     "name": "stdout",
     "output_type": "stream",
     "text": [
      "    117/191...\n"
     ]
    },
    {
     "name": "stderr",
     "output_type": "stream",
     "text": [
      "100%|█████████████████████████████████████████████| 4/4 [00:00<00:00,  8.77it/s]\n"
     ]
    },
    {
     "name": "stdout",
     "output_type": "stream",
     "text": [
      "    118/191...\n"
     ]
    },
    {
     "name": "stderr",
     "output_type": "stream",
     "text": [
      "100%|█████████████████████████████████████████████| 4/4 [00:00<00:00,  7.14it/s]\n"
     ]
    },
    {
     "name": "stdout",
     "output_type": "stream",
     "text": [
      "    119/191...\n"
     ]
    },
    {
     "name": "stderr",
     "output_type": "stream",
     "text": [
      "100%|█████████████████████████████████████████████| 4/4 [00:00<00:00, 10.78it/s]\n"
     ]
    },
    {
     "name": "stdout",
     "output_type": "stream",
     "text": [
      "    120/191...\n"
     ]
    },
    {
     "name": "stderr",
     "output_type": "stream",
     "text": [
      "100%|█████████████████████████████████████████████| 4/4 [00:00<00:00,  6.27it/s]\n"
     ]
    },
    {
     "name": "stdout",
     "output_type": "stream",
     "text": [
      "    121/191...\n"
     ]
    },
    {
     "name": "stderr",
     "output_type": "stream",
     "text": [
      "100%|█████████████████████████████████████████████| 3/3 [00:00<00:00,  7.15it/s]\n"
     ]
    },
    {
     "name": "stdout",
     "output_type": "stream",
     "text": [
      "    122/191...\n"
     ]
    },
    {
     "name": "stderr",
     "output_type": "stream",
     "text": [
      "100%|█████████████████████████████████████████████| 4/4 [00:00<00:00, 14.10it/s]\n"
     ]
    },
    {
     "name": "stdout",
     "output_type": "stream",
     "text": [
      "    123/191...\n"
     ]
    },
    {
     "name": "stderr",
     "output_type": "stream",
     "text": [
      "100%|█████████████████████████████████████████████| 2/2 [00:00<00:00,  7.19it/s]\n"
     ]
    },
    {
     "name": "stdout",
     "output_type": "stream",
     "text": [
      "    124/191...\n"
     ]
    },
    {
     "name": "stderr",
     "output_type": "stream",
     "text": [
      "100%|█████████████████████████████████████████████| 4/4 [00:00<00:00,  8.20it/s]\n"
     ]
    },
    {
     "name": "stdout",
     "output_type": "stream",
     "text": [
      "    125/191...\n"
     ]
    },
    {
     "name": "stderr",
     "output_type": "stream",
     "text": [
      "100%|█████████████████████████████████████████████| 4/4 [00:00<00:00,  7.66it/s]\n"
     ]
    },
    {
     "name": "stdout",
     "output_type": "stream",
     "text": [
      "    126/191...\n"
     ]
    },
    {
     "name": "stderr",
     "output_type": "stream",
     "text": [
      "100%|█████████████████████████████████████████████| 4/4 [00:00<00:00,  7.05it/s]\n"
     ]
    },
    {
     "name": "stdout",
     "output_type": "stream",
     "text": [
      "    127/191...\n"
     ]
    },
    {
     "name": "stderr",
     "output_type": "stream",
     "text": [
      "100%|█████████████████████████████████████████████| 2/2 [00:00<00:00, 12.80it/s]\n"
     ]
    },
    {
     "name": "stdout",
     "output_type": "stream",
     "text": [
      "    128/191...\n"
     ]
    },
    {
     "name": "stderr",
     "output_type": "stream",
     "text": [
      "100%|█████████████████████████████████████████████| 4/4 [00:00<00:00,  6.04it/s]\n"
     ]
    },
    {
     "name": "stdout",
     "output_type": "stream",
     "text": [
      "    129/191...\n"
     ]
    },
    {
     "name": "stderr",
     "output_type": "stream",
     "text": [
      "100%|█████████████████████████████████████████████| 3/3 [00:00<00:00,  6.34it/s]\n"
     ]
    },
    {
     "name": "stdout",
     "output_type": "stream",
     "text": [
      "    130/191...\n"
     ]
    },
    {
     "name": "stderr",
     "output_type": "stream",
     "text": [
      "100%|█████████████████████████████████████████████| 4/4 [00:00<00:00,  8.95it/s]\n"
     ]
    },
    {
     "name": "stdout",
     "output_type": "stream",
     "text": [
      "    131/191...\n"
     ]
    },
    {
     "name": "stderr",
     "output_type": "stream",
     "text": [
      "100%|█████████████████████████████████████████████| 2/2 [00:00<00:00,  7.39it/s]\n"
     ]
    },
    {
     "name": "stdout",
     "output_type": "stream",
     "text": [
      "    132/191...\n"
     ]
    },
    {
     "name": "stderr",
     "output_type": "stream",
     "text": [
      "100%|█████████████████████████████████████████████| 4/4 [00:00<00:00,  6.61it/s]\n"
     ]
    },
    {
     "name": "stdout",
     "output_type": "stream",
     "text": [
      "    133/191...\n"
     ]
    },
    {
     "name": "stderr",
     "output_type": "stream",
     "text": [
      "100%|█████████████████████████████████████████████| 4/4 [00:00<00:00, 10.76it/s]\n"
     ]
    },
    {
     "name": "stdout",
     "output_type": "stream",
     "text": [
      "    134/191...\n"
     ]
    },
    {
     "name": "stderr",
     "output_type": "stream",
     "text": [
      "100%|█████████████████████████████████████████████| 4/4 [00:00<00:00,  7.27it/s]\n"
     ]
    },
    {
     "name": "stdout",
     "output_type": "stream",
     "text": [
      "    135/191...\n"
     ]
    },
    {
     "name": "stderr",
     "output_type": "stream",
     "text": [
      "100%|█████████████████████████████████████████████| 2/2 [00:00<00:00,  6.56it/s]\n"
     ]
    },
    {
     "name": "stdout",
     "output_type": "stream",
     "text": [
      "    136/191...\n"
     ]
    },
    {
     "name": "stderr",
     "output_type": "stream",
     "text": [
      "100%|█████████████████████████████████████████████| 4/4 [00:00<00:00,  6.83it/s]\n"
     ]
    },
    {
     "name": "stdout",
     "output_type": "stream",
     "text": [
      "    137/191...\n"
     ]
    },
    {
     "name": "stderr",
     "output_type": "stream",
     "text": [
      "100%|█████████████████████████████████████████████| 2/2 [00:00<00:00,  5.88it/s]\n"
     ]
    },
    {
     "name": "stdout",
     "output_type": "stream",
     "text": [
      "    138/191...\n"
     ]
    },
    {
     "name": "stderr",
     "output_type": "stream",
     "text": [
      "100%|█████████████████████████████████████████████| 4/4 [00:00<00:00,  6.99it/s]\n"
     ]
    },
    {
     "name": "stdout",
     "output_type": "stream",
     "text": [
      "    139/191...\n"
     ]
    },
    {
     "name": "stderr",
     "output_type": "stream",
     "text": [
      "100%|█████████████████████████████████████████████| 4/4 [00:00<00:00, 10.88it/s]\n"
     ]
    },
    {
     "name": "stdout",
     "output_type": "stream",
     "text": [
      "    140/191...\n"
     ]
    },
    {
     "name": "stderr",
     "output_type": "stream",
     "text": [
      "100%|█████████████████████████████████████████████| 4/4 [00:00<00:00, 12.85it/s]\n"
     ]
    },
    {
     "name": "stdout",
     "output_type": "stream",
     "text": [
      "    141/191...\n"
     ]
    },
    {
     "name": "stderr",
     "output_type": "stream",
     "text": [
      "100%|█████████████████████████████████████████████| 4/4 [00:00<00:00,  7.43it/s]\n"
     ]
    },
    {
     "name": "stdout",
     "output_type": "stream",
     "text": [
      "    142/191...\n"
     ]
    },
    {
     "name": "stderr",
     "output_type": "stream",
     "text": [
      "100%|█████████████████████████████████████████████| 3/3 [00:00<00:00,  6.26it/s]\n"
     ]
    },
    {
     "name": "stdout",
     "output_type": "stream",
     "text": [
      "    143/191...\n"
     ]
    },
    {
     "name": "stderr",
     "output_type": "stream",
     "text": [
      "100%|█████████████████████████████████████████████| 4/4 [00:00<00:00,  6.59it/s]\n"
     ]
    },
    {
     "name": "stdout",
     "output_type": "stream",
     "text": [
      "    144/191...\n"
     ]
    },
    {
     "name": "stderr",
     "output_type": "stream",
     "text": [
      "100%|█████████████████████████████████████████████| 4/4 [00:00<00:00,  6.59it/s]\n"
     ]
    },
    {
     "name": "stdout",
     "output_type": "stream",
     "text": [
      "    145/191...\n"
     ]
    },
    {
     "name": "stderr",
     "output_type": "stream",
     "text": [
      "100%|█████████████████████████████████████████████| 4/4 [00:00<00:00,  8.08it/s]\n"
     ]
    },
    {
     "name": "stdout",
     "output_type": "stream",
     "text": [
      "    146/191...\n"
     ]
    },
    {
     "name": "stderr",
     "output_type": "stream",
     "text": [
      "100%|█████████████████████████████████████████████| 4/4 [00:00<00:00,  6.67it/s]\n"
     ]
    },
    {
     "name": "stdout",
     "output_type": "stream",
     "text": [
      "    147/191...\n"
     ]
    },
    {
     "name": "stderr",
     "output_type": "stream",
     "text": [
      "100%|█████████████████████████████████████████████| 4/4 [00:00<00:00,  7.42it/s]\n"
     ]
    },
    {
     "name": "stdout",
     "output_type": "stream",
     "text": [
      "    148/191...\n"
     ]
    },
    {
     "name": "stderr",
     "output_type": "stream",
     "text": [
      "100%|█████████████████████████████████████████████| 4/4 [00:00<00:00, 10.86it/s]\n"
     ]
    },
    {
     "name": "stdout",
     "output_type": "stream",
     "text": [
      "    149/191...\n"
     ]
    },
    {
     "name": "stderr",
     "output_type": "stream",
     "text": [
      "100%|█████████████████████████████████████████████| 4/4 [00:00<00:00, 10.34it/s]\n"
     ]
    },
    {
     "name": "stdout",
     "output_type": "stream",
     "text": [
      "    150/191...\n"
     ]
    },
    {
     "name": "stderr",
     "output_type": "stream",
     "text": [
      "100%|█████████████████████████████████████████████| 4/4 [00:00<00:00,  7.12it/s]\n"
     ]
    },
    {
     "name": "stdout",
     "output_type": "stream",
     "text": [
      "    151/191...\n"
     ]
    },
    {
     "name": "stderr",
     "output_type": "stream",
     "text": [
      "100%|█████████████████████████████████████████████| 4/4 [00:00<00:00,  7.26it/s]\n"
     ]
    },
    {
     "name": "stdout",
     "output_type": "stream",
     "text": [
      "    152/191...\n"
     ]
    },
    {
     "name": "stderr",
     "output_type": "stream",
     "text": [
      "100%|█████████████████████████████████████████████| 3/3 [00:00<00:00,  6.12it/s]\n"
     ]
    },
    {
     "name": "stdout",
     "output_type": "stream",
     "text": [
      "    153/191...\n"
     ]
    },
    {
     "name": "stderr",
     "output_type": "stream",
     "text": [
      "100%|█████████████████████████████████████████████| 4/4 [00:00<00:00, 15.06it/s]\n"
     ]
    },
    {
     "name": "stdout",
     "output_type": "stream",
     "text": [
      "    154/191...\n"
     ]
    },
    {
     "name": "stderr",
     "output_type": "stream",
     "text": [
      "100%|█████████████████████████████████████████████| 4/4 [00:00<00:00,  6.57it/s]\n"
     ]
    },
    {
     "name": "stdout",
     "output_type": "stream",
     "text": [
      "    155/191...\n"
     ]
    },
    {
     "name": "stderr",
     "output_type": "stream",
     "text": [
      "100%|█████████████████████████████████████████████| 2/2 [00:00<00:00,  6.56it/s]\n"
     ]
    },
    {
     "name": "stdout",
     "output_type": "stream",
     "text": [
      "    156/191...\n"
     ]
    },
    {
     "name": "stderr",
     "output_type": "stream",
     "text": [
      "100%|█████████████████████████████████████████████| 3/3 [00:00<00:00,  5.87it/s]\n"
     ]
    },
    {
     "name": "stdout",
     "output_type": "stream",
     "text": [
      "    157/191...\n"
     ]
    },
    {
     "name": "stderr",
     "output_type": "stream",
     "text": [
      "100%|█████████████████████████████████████████████| 2/2 [00:00<00:00,  6.89it/s]\n"
     ]
    },
    {
     "name": "stdout",
     "output_type": "stream",
     "text": [
      "    158/191...\n"
     ]
    },
    {
     "name": "stderr",
     "output_type": "stream",
     "text": [
      "100%|█████████████████████████████████████████████| 4/4 [00:00<00:00, 11.66it/s]\n"
     ]
    },
    {
     "name": "stdout",
     "output_type": "stream",
     "text": [
      "    159/191...\n"
     ]
    },
    {
     "name": "stderr",
     "output_type": "stream",
     "text": [
      "100%|█████████████████████████████████████████████| 4/4 [00:00<00:00,  9.93it/s]\n"
     ]
    },
    {
     "name": "stdout",
     "output_type": "stream",
     "text": [
      "    160/191...\n"
     ]
    },
    {
     "name": "stderr",
     "output_type": "stream",
     "text": [
      "100%|█████████████████████████████████████████████| 4/4 [00:00<00:00,  6.04it/s]\n"
     ]
    },
    {
     "name": "stdout",
     "output_type": "stream",
     "text": [
      "    161/191...\n"
     ]
    },
    {
     "name": "stderr",
     "output_type": "stream",
     "text": [
      "100%|█████████████████████████████████████████████| 4/4 [00:00<00:00,  7.02it/s]\n"
     ]
    },
    {
     "name": "stdout",
     "output_type": "stream",
     "text": [
      "    162/191...\n"
     ]
    },
    {
     "name": "stderr",
     "output_type": "stream",
     "text": [
      "100%|█████████████████████████████████████████████| 4/4 [00:00<00:00,  7.14it/s]\n"
     ]
    },
    {
     "name": "stdout",
     "output_type": "stream",
     "text": [
      "    163/191...\n"
     ]
    },
    {
     "name": "stderr",
     "output_type": "stream",
     "text": [
      "100%|█████████████████████████████████████████████| 4/4 [00:00<00:00,  7.09it/s]\n"
     ]
    },
    {
     "name": "stdout",
     "output_type": "stream",
     "text": [
      "    164/191...\n"
     ]
    },
    {
     "name": "stderr",
     "output_type": "stream",
     "text": [
      "100%|█████████████████████████████████████████████| 4/4 [00:00<00:00,  9.02it/s]\n"
     ]
    },
    {
     "name": "stdout",
     "output_type": "stream",
     "text": [
      "    165/191...\n"
     ]
    },
    {
     "name": "stderr",
     "output_type": "stream",
     "text": [
      "100%|█████████████████████████████████████████████| 4/4 [00:00<00:00,  6.59it/s]\n"
     ]
    },
    {
     "name": "stdout",
     "output_type": "stream",
     "text": [
      "    166/191...\n"
     ]
    },
    {
     "name": "stderr",
     "output_type": "stream",
     "text": [
      "100%|█████████████████████████████████████████████| 3/3 [00:00<00:00, 11.44it/s]\n"
     ]
    },
    {
     "name": "stdout",
     "output_type": "stream",
     "text": [
      "    167/191...\n"
     ]
    },
    {
     "name": "stderr",
     "output_type": "stream",
     "text": [
      "100%|█████████████████████████████████████████████| 2/2 [00:00<00:00,  5.31it/s]\n"
     ]
    },
    {
     "name": "stdout",
     "output_type": "stream",
     "text": [
      "    168/191...\n"
     ]
    },
    {
     "name": "stderr",
     "output_type": "stream",
     "text": [
      "100%|█████████████████████████████████████████████| 1/1 [00:00<00:00,  6.06it/s]\n"
     ]
    },
    {
     "name": "stdout",
     "output_type": "stream",
     "text": [
      "    169/191...\n"
     ]
    },
    {
     "name": "stderr",
     "output_type": "stream",
     "text": [
      "100%|█████████████████████████████████████████████| 4/4 [00:00<00:00,  7.43it/s]\n"
     ]
    },
    {
     "name": "stdout",
     "output_type": "stream",
     "text": [
      "    170/191...\n"
     ]
    },
    {
     "name": "stderr",
     "output_type": "stream",
     "text": [
      "100%|█████████████████████████████████████████████| 1/1 [00:00<00:00,  9.32it/s]\n"
     ]
    },
    {
     "name": "stdout",
     "output_type": "stream",
     "text": [
      "    171/191...\n"
     ]
    },
    {
     "name": "stderr",
     "output_type": "stream",
     "text": [
      "100%|█████████████████████████████████████████████| 4/4 [00:00<00:00,  6.15it/s]\n"
     ]
    },
    {
     "name": "stdout",
     "output_type": "stream",
     "text": [
      "    172/191...\n"
     ]
    },
    {
     "name": "stderr",
     "output_type": "stream",
     "text": [
      "100%|█████████████████████████████████████████████| 2/2 [00:00<00:00,  6.57it/s]\n"
     ]
    },
    {
     "name": "stdout",
     "output_type": "stream",
     "text": [
      "    173/191...\n"
     ]
    },
    {
     "name": "stderr",
     "output_type": "stream",
     "text": [
      "100%|█████████████████████████████████████████████| 4/4 [00:00<00:00,  6.99it/s]\n"
     ]
    },
    {
     "name": "stdout",
     "output_type": "stream",
     "text": [
      "    174/191...\n"
     ]
    },
    {
     "name": "stderr",
     "output_type": "stream",
     "text": [
      "100%|█████████████████████████████████████████████| 2/2 [00:00<00:00,  6.45it/s]\n"
     ]
    },
    {
     "name": "stdout",
     "output_type": "stream",
     "text": [
      "    175/191...\n"
     ]
    },
    {
     "name": "stderr",
     "output_type": "stream",
     "text": [
      "100%|█████████████████████████████████████████████| 2/2 [00:00<00:00,  7.09it/s]\n"
     ]
    },
    {
     "name": "stdout",
     "output_type": "stream",
     "text": [
      "    176/191...\n"
     ]
    },
    {
     "name": "stderr",
     "output_type": "stream",
     "text": [
      "100%|█████████████████████████████████████████████| 4/4 [00:00<00:00,  7.61it/s]\n"
     ]
    },
    {
     "name": "stdout",
     "output_type": "stream",
     "text": [
      "    177/191...\n"
     ]
    },
    {
     "name": "stderr",
     "output_type": "stream",
     "text": [
      "100%|█████████████████████████████████████████████| 4/4 [00:00<00:00,  7.29it/s]\n"
     ]
    },
    {
     "name": "stdout",
     "output_type": "stream",
     "text": [
      "    178/191...\n"
     ]
    },
    {
     "name": "stderr",
     "output_type": "stream",
     "text": [
      "100%|█████████████████████████████████████████████| 4/4 [00:00<00:00,  7.53it/s]\n"
     ]
    },
    {
     "name": "stdout",
     "output_type": "stream",
     "text": [
      "    179/191...\n"
     ]
    },
    {
     "name": "stderr",
     "output_type": "stream",
     "text": [
      "100%|█████████████████████████████████████████████| 4/4 [00:00<00:00,  7.66it/s]\n"
     ]
    },
    {
     "name": "stdout",
     "output_type": "stream",
     "text": [
      "    180/191...\n"
     ]
    },
    {
     "name": "stderr",
     "output_type": "stream",
     "text": [
      "100%|█████████████████████████████████████████████| 1/1 [00:00<00:00,  8.24it/s]\n"
     ]
    },
    {
     "name": "stdout",
     "output_type": "stream",
     "text": [
      "    181/191...\n"
     ]
    },
    {
     "name": "stderr",
     "output_type": "stream",
     "text": [
      "100%|█████████████████████████████████████████████| 4/4 [00:00<00:00,  7.91it/s]\n"
     ]
    },
    {
     "name": "stdout",
     "output_type": "stream",
     "text": [
      "    182/191...\n"
     ]
    },
    {
     "name": "stderr",
     "output_type": "stream",
     "text": [
      "100%|█████████████████████████████████████████████| 4/4 [00:00<00:00,  8.33it/s]\n"
     ]
    },
    {
     "name": "stdout",
     "output_type": "stream",
     "text": [
      "    183/191...\n"
     ]
    },
    {
     "name": "stderr",
     "output_type": "stream",
     "text": [
      "100%|█████████████████████████████████████████████| 4/4 [00:00<00:00,  6.25it/s]\n"
     ]
    },
    {
     "name": "stdout",
     "output_type": "stream",
     "text": [
      "    184/191...\n"
     ]
    },
    {
     "name": "stderr",
     "output_type": "stream",
     "text": [
      "100%|█████████████████████████████████████████████| 4/4 [00:00<00:00,  9.60it/s]\n"
     ]
    },
    {
     "name": "stdout",
     "output_type": "stream",
     "text": [
      "    185/191...\n"
     ]
    },
    {
     "name": "stderr",
     "output_type": "stream",
     "text": [
      "100%|█████████████████████████████████████████████| 4/4 [00:00<00:00,  7.65it/s]\n"
     ]
    },
    {
     "name": "stdout",
     "output_type": "stream",
     "text": [
      "    186/191...\n"
     ]
    },
    {
     "name": "stderr",
     "output_type": "stream",
     "text": [
      "100%|█████████████████████████████████████████████| 2/2 [00:00<00:00,  6.28it/s]\n"
     ]
    },
    {
     "name": "stdout",
     "output_type": "stream",
     "text": [
      "    187/191...\n"
     ]
    },
    {
     "name": "stderr",
     "output_type": "stream",
     "text": [
      "100%|█████████████████████████████████████████████| 4/4 [00:00<00:00,  6.25it/s]\n"
     ]
    },
    {
     "name": "stdout",
     "output_type": "stream",
     "text": [
      "    188/191...\n"
     ]
    },
    {
     "name": "stderr",
     "output_type": "stream",
     "text": [
      "100%|█████████████████████████████████████████████| 2/2 [00:00<00:00,  6.87it/s]\n"
     ]
    },
    {
     "name": "stdout",
     "output_type": "stream",
     "text": [
      "    189/191...\n"
     ]
    },
    {
     "name": "stderr",
     "output_type": "stream",
     "text": [
      "100%|█████████████████████████████████████████████| 4/4 [00:00<00:00,  6.58it/s]\n"
     ]
    },
    {
     "name": "stdout",
     "output_type": "stream",
     "text": [
      "    190/191...\n"
     ]
    },
    {
     "name": "stderr",
     "output_type": "stream",
     "text": [
      "100%|█████████████████████████████████████████████| 4/4 [00:00<00:00,  7.08it/s]\n"
     ]
    },
    {
     "name": "stdout",
     "output_type": "stream",
     "text": [
      "    191/191...\n"
     ]
    },
    {
     "name": "stderr",
     "output_type": "stream",
     "text": [
      "100%|█████████████████████████████████████████████| 1/1 [00:00<00:00,  7.55it/s]\n"
     ]
    },
    {
     "name": "stdout",
     "output_type": "stream",
     "text": [
      "Done.\n"
     ]
    }
   ],
   "source": [
    "run_model(model_folder, test_folder, output_folder, allow_failures = True, verbose = 2)"
   ]
  },
  {
   "cell_type": "code",
   "execution_count": 61,
   "id": "247a6478",
   "metadata": {},
   "outputs": [],
   "source": [
    "from evaluate_model import *\n",
    "\n"
   ]
  },
  {
   "cell_type": "code",
   "execution_count": 62,
   "id": "b770afd6",
   "metadata": {
    "scrolled": false
   },
   "outputs": [
    {
     "name": "stdout",
     "output_type": "stream",
     "text": [
      "#Murmur scores\n",
      "AUROC,AUPRC,F-measure,Accuracy,Weighted Accuracy,Cost\n",
      "0.771,0.619,0.541,0.817,0.787,17150.152\n",
      "\n",
      "#Outcome scores\n",
      "AUROC,AUPRC,F-measure,Accuracy,Weighted Accuracy,Cost\n",
      "0.688,0.701,0.590,0.618,0.779,10981.293\n",
      "\n",
      "#Murmur scores (per class)\n",
      "Classes,Present,Unknown,Absent\n",
      "AUROC,0.959,0.500,0.855\n",
      "AUPRC,0.865,0.073,0.918\n",
      "F-measure,0.739,0.000,0.884\n",
      "Accuracy,0.895,0.000,0.878\n",
      "\n",
      "#Outcome scores (per class)\n",
      "Classes,Abnormal,Normal\n",
      "AUROC,0.688,0.688\n",
      "AUPRC,0.731,0.670\n",
      "F-measure,0.697,0.482\n",
      "Accuracy,0.857,0.366\n",
      "\n"
     ]
    }
   ],
   "source": [
    "murmur_scores, outcome_scores = evaluate_model(test_folder, output_folder)\n",
    "classes, auroc, auprc, auroc_classes, auprc_classes, f_measure, f_measure_classes, accuracy, accuracy_classes, weighted_accuracy, cost = murmur_scores\n",
    "murmur_output_string = 'AUROC,AUPRC,F-measure,Accuracy,Weighted Accuracy,Cost\\n{:.3f},{:.3f},{:.3f},{:.3f},{:.3f},{:.3f}\\n'.format(auroc, auprc, f_measure, accuracy, weighted_accuracy, cost)\n",
    "murmur_class_output_string = 'Classes,{}\\nAUROC,{}\\nAUPRC,{}\\nF-measure,{}\\nAccuracy,{}\\n'.format(\n",
    "    ','.join(classes),\n",
    "    ','.join('{:.3f}'.format(x) for x in auroc_classes),\n",
    "    ','.join('{:.3f}'.format(x) for x in auprc_classes),\n",
    "    ','.join('{:.3f}'.format(x) for x in f_measure_classes),\n",
    "    ','.join('{:.3f}'.format(x) for x in accuracy_classes))\n",
    "\n",
    "classes, auroc, auprc, auroc_classes, auprc_classes, f_measure, f_measure_classes, accuracy, accuracy_classes, weighted_accuracy, cost = outcome_scores\n",
    "outcome_output_string = 'AUROC,AUPRC,F-measure,Accuracy,Weighted Accuracy,Cost\\n{:.3f},{:.3f},{:.3f},{:.3f},{:.3f},{:.3f}\\n'.format(auroc, auprc, f_measure, accuracy, weighted_accuracy, cost)\n",
    "outcome_class_output_string = 'Classes,{}\\nAUROC,{}\\nAUPRC,{}\\nF-measure,{}\\nAccuracy,{}\\n'.format(\n",
    "    ','.join(classes),\n",
    "    ','.join('{:.3f}'.format(x) for x in auroc_classes),\n",
    "    ','.join('{:.3f}'.format(x) for x in auprc_classes),\n",
    "    ','.join('{:.3f}'.format(x) for x in f_measure_classes),\n",
    "    ','.join('{:.3f}'.format(x) for x in accuracy_classes))\n",
    "\n",
    "output_string = '#Murmur scores\\n' + murmur_output_string + '\\n#Outcome scores\\n' + outcome_output_string \\\n",
    "    + '\\n#Murmur scores (per class)\\n' + murmur_class_output_string + '\\n#Outcome scores (per class)\\n' + outcome_class_output_string\n",
    "\n",
    "if len(sys.argv) == 3:\n",
    "    print(output_string)\n",
    "elif len(sys.argv) == 4:\n",
    "    with open(sys.argv[3], 'w') as f:\n",
    "        f.write(output_string)"
   ]
  },
  {
   "cell_type": "code",
   "execution_count": null,
   "id": "72a27458",
   "metadata": {},
   "outputs": [],
   "source": []
  },
  {
   "cell_type": "code",
   "execution_count": 63,
   "id": "4235c97d",
   "metadata": {},
   "outputs": [
    {
     "name": "stdout",
     "output_type": "stream",
     "text": [
      "0.4198898462412869\n",
      "0.5801101538367296\n",
      "0.6774177874258052\n",
      "0.32258221351039346\n"
     ]
    }
   ],
   "source": [
    "label_folder = test_folder\n",
    "murmur_classes = ['Present', 'Unknown', 'Absent']\n",
    "outcome_classes = ['Abnormal', 'Normal']\n",
    "\n",
    "# Load and parse label and model output files.\n",
    "label_files, output_files = find_challenge_files(label_folder, output_folder)\n",
    "murmur_labels = load_murmurs(label_files, murmur_classes)\n",
    "murmur_binary_outputs, murmur_scalar_outputs = load_classifier_outputs(output_files, murmur_classes)\n",
    "outcome_labels = load_outcomes(label_files, outcome_classes)\n",
    "outcome_binary_outputs, outcome_scalar_outputs = load_classifier_outputs(output_files, outcome_classes)\n",
    "\n",
    "\n",
    "print(np.mean(murmur_scalar_outputs[:,0]))\n",
    "print(np.mean(murmur_scalar_outputs[:,2]))\n",
    "print(np.mean(outcome_scalar_outputs[:,0]))\n",
    "print(np.mean(outcome_scalar_outputs[:,1]))"
   ]
  },
  {
   "cell_type": "code",
   "execution_count": 64,
   "id": "3fb59f7c",
   "metadata": {
    "scrolled": false
   },
   "outputs": [
    {
     "name": "stdout",
     "output_type": "stream",
     "text": [
      "threshold:  0.01\n",
      "#Murmur scores\n",
      "AUROC,AUPRC,F-measure,Accuracy,Weighted Accuracy,Cost\n",
      "0.771,0.619,0.111,0.199,0.512,15140.890\n",
      "\n",
      "#Outcome scores\n",
      "AUROC,AUPRC,F-measure,Accuracy,Weighted Accuracy,Cost\n",
      "0.688,0.701,0.339,0.513,0.840,15140.890\n",
      "\n",
      "#Murmur scores (per class)\n",
      "Classes,Present,Unknown,Absent\n",
      "AUROC,0.959,0.500,0.855\n",
      "AUPRC,0.865,0.073,0.918\n",
      "F-measure,0.332,0.000,0.000\n",
      "Accuracy,1.000,0.000,0.000\n",
      "\n",
      "#Outcome scores (per class)\n",
      "Classes,Abnormal,Normal\n",
      "AUROC,0.688,0.688\n",
      "AUPRC,0.731,0.670\n",
      "F-measure,0.678,0.000\n",
      "Accuracy,1.000,0.000\n",
      "\n",
      "-------------\n",
      "threshold:  0.05\n",
      "#Murmur scores\n",
      "AUROC,AUPRC,F-measure,Accuracy,Weighted Accuracy,Cost\n",
      "0.771,0.619,0.111,0.199,0.512,15140.890\n",
      "\n",
      "#Outcome scores\n",
      "AUROC,AUPRC,F-measure,Accuracy,Weighted Accuracy,Cost\n",
      "0.688,0.701,0.339,0.513,0.840,15140.890\n",
      "\n",
      "#Murmur scores (per class)\n",
      "Classes,Present,Unknown,Absent\n",
      "AUROC,0.959,0.500,0.855\n",
      "AUPRC,0.865,0.073,0.918\n",
      "F-measure,0.332,0.000,0.000\n",
      "Accuracy,1.000,0.000,0.000\n",
      "\n",
      "#Outcome scores (per class)\n",
      "Classes,Abnormal,Normal\n",
      "AUROC,0.688,0.688\n",
      "AUPRC,0.731,0.670\n",
      "F-measure,0.678,0.000\n",
      "Accuracy,1.000,0.000\n",
      "\n",
      "-------------\n",
      "threshold:  0.1\n",
      "#Murmur scores\n",
      "AUROC,AUPRC,F-measure,Accuracy,Weighted Accuracy,Cost\n",
      "0.771,0.619,0.116,0.204,0.515,15131.464\n",
      "\n",
      "#Outcome scores\n",
      "AUROC,AUPRC,F-measure,Accuracy,Weighted Accuracy,Cost\n",
      "0.688,0.701,0.339,0.513,0.840,15140.890\n",
      "\n",
      "#Murmur scores (per class)\n",
      "Classes,Present,Unknown,Absent\n",
      "AUROC,0.959,0.500,0.855\n",
      "AUPRC,0.865,0.073,0.918\n",
      "F-measure,0.333,0.000,0.014\n",
      "Accuracy,1.000,0.000,0.007\n",
      "\n",
      "#Outcome scores (per class)\n",
      "Classes,Abnormal,Normal\n",
      "AUROC,0.688,0.688\n",
      "AUPRC,0.731,0.670\n",
      "F-measure,0.678,0.000\n",
      "Accuracy,1.000,0.000\n",
      "\n",
      "-------------\n",
      "threshold:  0.15\n",
      "#Murmur scores\n",
      "AUROC,AUPRC,F-measure,Accuracy,Weighted Accuracy,Cost\n",
      "0.771,0.619,0.146,0.236,0.531,14311.104\n",
      "\n",
      "#Outcome scores\n",
      "AUROC,AUPRC,F-measure,Accuracy,Weighted Accuracy,Cost\n",
      "0.688,0.701,0.339,0.513,0.840,15140.890\n",
      "\n",
      "#Murmur scores (per class)\n",
      "Classes,Present,Unknown,Absent\n",
      "AUROC,0.959,0.500,0.855\n",
      "AUPRC,0.865,0.073,0.918\n",
      "F-measure,0.342,0.000,0.096\n",
      "Accuracy,1.000,0.000,0.050\n",
      "\n",
      "#Outcome scores (per class)\n",
      "Classes,Abnormal,Normal\n",
      "AUROC,0.688,0.688\n",
      "AUPRC,0.731,0.670\n",
      "F-measure,0.678,0.000\n",
      "Accuracy,1.000,0.000\n",
      "\n",
      "-------------\n",
      "threshold:  0.2\n",
      "#Murmur scores\n",
      "AUROC,AUPRC,F-measure,Accuracy,Weighted Accuracy,Cost\n",
      "0.771,0.619,0.174,0.267,0.547,13855.136\n",
      "\n",
      "#Outcome scores\n",
      "AUROC,AUPRC,F-measure,Accuracy,Weighted Accuracy,Cost\n",
      "0.688,0.701,0.339,0.513,0.840,15140.890\n",
      "\n",
      "#Murmur scores (per class)\n",
      "Classes,Present,Unknown,Absent\n",
      "AUROC,0.959,0.500,0.855\n",
      "AUPRC,0.865,0.073,0.918\n",
      "F-measure,0.353,0.000,0.170\n",
      "Accuracy,1.000,0.000,0.094\n",
      "\n",
      "#Outcome scores (per class)\n",
      "Classes,Abnormal,Normal\n",
      "AUROC,0.688,0.688\n",
      "AUPRC,0.731,0.670\n",
      "F-measure,0.678,0.000\n",
      "Accuracy,1.000,0.000\n",
      "\n",
      "-------------\n",
      "threshold:  0.25\n",
      "#Murmur scores\n",
      "AUROC,AUPRC,F-measure,Accuracy,Weighted Accuracy,Cost\n",
      "0.771,0.619,0.253,0.366,0.598,12420.275\n",
      "\n",
      "#Outcome scores\n",
      "AUROC,AUPRC,F-measure,Accuracy,Weighted Accuracy,Cost\n",
      "0.688,0.701,0.339,0.513,0.840,15140.890\n",
      "\n",
      "#Murmur scores (per class)\n",
      "Classes,Present,Unknown,Absent\n",
      "AUROC,0.959,0.500,0.855\n",
      "AUPRC,0.865,0.073,0.918\n",
      "F-measure,0.390,0.000,0.370\n",
      "Accuracy,1.000,0.000,0.230\n",
      "\n",
      "#Outcome scores (per class)\n",
      "Classes,Abnormal,Normal\n",
      "AUROC,0.688,0.688\n",
      "AUPRC,0.731,0.670\n",
      "F-measure,0.678,0.000\n",
      "Accuracy,1.000,0.000\n",
      "\n",
      "-------------\n",
      "threshold:  0.3\n",
      "#Murmur scores\n",
      "AUROC,AUPRC,F-measure,Accuracy,Weighted Accuracy,Cost\n",
      "0.771,0.619,0.324,0.471,0.652,12643.027\n",
      "\n",
      "#Outcome scores\n",
      "AUROC,AUPRC,F-measure,Accuracy,Weighted Accuracy,Cost\n",
      "0.688,0.701,0.339,0.513,0.840,15140.890\n",
      "\n",
      "#Murmur scores (per class)\n",
      "Classes,Present,Unknown,Absent\n",
      "AUROC,0.959,0.500,0.855\n",
      "AUPRC,0.865,0.073,0.918\n",
      "F-measure,0.439,0.000,0.533\n",
      "Accuracy,1.000,0.000,0.374\n",
      "\n",
      "#Outcome scores (per class)\n",
      "Classes,Abnormal,Normal\n",
      "AUROC,0.688,0.688\n",
      "AUPRC,0.731,0.670\n",
      "F-measure,0.678,0.000\n",
      "Accuracy,1.000,0.000\n",
      "\n",
      "-------------\n",
      "threshold:  0.35\n",
      "#Murmur scores\n",
      "AUROC,AUPRC,F-measure,Accuracy,Weighted Accuracy,Cost\n",
      "0.771,0.619,0.408,0.607,0.722,13710.384\n",
      "\n",
      "#Outcome scores\n",
      "AUROC,AUPRC,F-measure,Accuracy,Weighted Accuracy,Cost\n",
      "0.688,0.701,0.351,0.518,0.842,14922.040\n",
      "\n",
      "#Murmur scores (per class)\n",
      "Classes,Present,Unknown,Absent\n",
      "AUROC,0.959,0.500,0.855\n",
      "AUPRC,0.865,0.073,0.918\n",
      "F-measure,0.524,0.000,0.700\n",
      "Accuracy,1.000,0.000,0.561\n",
      "\n",
      "#Outcome scores (per class)\n",
      "Classes,Abnormal,Normal\n",
      "AUROC,0.688,0.688\n",
      "AUPRC,0.731,0.670\n",
      "F-measure,0.681,0.021\n",
      "Accuracy,1.000,0.011\n",
      "\n",
      "-------------\n",
      "threshold:  0.4\n",
      "#Murmur scores\n",
      "AUROC,AUPRC,F-measure,Accuracy,Weighted Accuracy,Cost\n",
      "0.771,0.619,0.459,0.691,0.755,15497.739\n",
      "\n",
      "#Outcome scores\n",
      "AUROC,AUPRC,F-measure,Accuracy,Weighted Accuracy,Cost\n",
      "0.688,0.701,0.363,0.524,0.844,14706.772\n",
      "\n",
      "#Murmur scores (per class)\n",
      "Classes,Present,Unknown,Absent\n",
      "AUROC,0.959,0.500,0.855\n",
      "AUPRC,0.865,0.073,0.918\n",
      "F-measure,0.602,0.000,0.776\n",
      "Accuracy,0.974,0.000,0.683\n",
      "\n",
      "#Outcome scores (per class)\n",
      "Classes,Abnormal,Normal\n",
      "AUROC,0.688,0.688\n",
      "AUPRC,0.731,0.670\n",
      "F-measure,0.683,0.042\n",
      "Accuracy,1.000,0.022\n",
      "\n",
      "-------------\n",
      "threshold:  0.45\n",
      "#Murmur scores\n",
      "AUROC,AUPRC,F-measure,Accuracy,Weighted Accuracy,Cost\n",
      "0.771,0.619,0.520,0.785,0.792,16353.014\n",
      "\n",
      "#Outcome scores\n",
      "AUROC,AUPRC,F-measure,Accuracy,Weighted Accuracy,Cost\n",
      "0.688,0.701,0.374,0.529,0.846,14495.049\n",
      "\n",
      "#Murmur scores (per class)\n",
      "Classes,Present,Unknown,Absent\n",
      "AUROC,0.959,0.500,0.855\n",
      "AUPRC,0.865,0.073,0.918\n",
      "F-measure,0.699,0.000,0.860\n",
      "Accuracy,0.947,0.000,0.820\n",
      "\n",
      "#Outcome scores (per class)\n",
      "Classes,Abnormal,Normal\n",
      "AUROC,0.688,0.688\n",
      "AUPRC,0.731,0.670\n",
      "F-measure,0.685,0.062\n",
      "Accuracy,1.000,0.032\n",
      "\n",
      "-------------\n",
      "threshold:  0.5\n",
      "#Murmur scores\n",
      "AUROC,AUPRC,F-measure,Accuracy,Weighted Accuracy,Cost\n",
      "0.771,0.619,0.543,0.822,0.779,17353.424\n",
      "\n",
      "#Outcome scores\n",
      "AUROC,AUPRC,F-measure,Accuracy,Weighted Accuracy,Cost\n",
      "0.688,0.701,0.393,0.534,0.840,14090.185\n",
      "\n",
      "#Murmur scores (per class)\n",
      "Classes,Present,Unknown,Absent\n",
      "AUROC,0.959,0.500,0.855\n",
      "AUPRC,0.865,0.073,0.918\n",
      "F-measure,0.742,0.000,0.889\n",
      "Accuracy,0.868,0.000,0.892\n",
      "\n",
      "#Outcome scores (per class)\n",
      "Classes,Abnormal,Normal\n",
      "AUROC,0.688,0.688\n",
      "AUPRC,0.731,0.670\n",
      "F-measure,0.686,0.101\n",
      "Accuracy,0.990,0.054\n",
      "\n",
      "-------------\n",
      "threshold:  0.55\n",
      "#Murmur scores\n",
      "AUROC,AUPRC,F-measure,Accuracy,Weighted Accuracy,Cost\n",
      "0.771,0.619,0.556,0.838,0.776,18183.159\n",
      "\n",
      "#Outcome scores\n",
      "AUROC,AUPRC,F-measure,Accuracy,Weighted Accuracy,Cost\n",
      "0.688,0.701,0.480,0.560,0.808,12413.170\n",
      "\n",
      "#Murmur scores (per class)\n",
      "Classes,Present,Unknown,Absent\n",
      "AUROC,0.959,0.500,0.855\n",
      "AUPRC,0.865,0.073,0.918\n",
      "F-measure,0.771,0.000,0.898\n",
      "Accuracy,0.842,0.000,0.921\n",
      "\n",
      "#Outcome scores (per class)\n",
      "Classes,Abnormal,Normal\n",
      "AUROC,0.688,0.688\n",
      "AUPRC,0.731,0.670\n",
      "F-measure,0.684,0.276\n",
      "Accuracy,0.929,0.172\n",
      "\n",
      "-------------\n",
      "threshold:  0.6\n",
      "#Murmur scores\n",
      "AUROC,AUPRC,F-measure,Accuracy,Weighted Accuracy,Cost\n",
      "0.771,0.619,0.565,0.848,0.760,19016.560\n",
      "\n",
      "#Outcome scores\n",
      "AUROC,AUPRC,F-measure,Accuracy,Weighted Accuracy,Cost\n",
      "0.688,0.701,0.573,0.607,0.782,11139.648\n",
      "\n",
      "#Murmur scores (per class)\n",
      "Classes,Present,Unknown,Absent\n",
      "AUROC,0.959,0.500,0.855\n",
      "AUPRC,0.865,0.073,0.918\n",
      "F-measure,0.789,0.000,0.904\n",
      "Accuracy,0.789,0.000,0.950\n",
      "\n",
      "#Outcome scores (per class)\n",
      "Classes,Abnormal,Normal\n",
      "AUROC,0.688,0.688\n",
      "AUPRC,0.731,0.670\n",
      "F-measure,0.694,0.453\n",
      "Accuracy,0.867,0.333\n",
      "\n",
      "-------------\n",
      "threshold:  0.65\n",
      "#Murmur scores\n",
      "AUROC,AUPRC,F-measure,Accuracy,Weighted Accuracy,Cost\n",
      "0.771,0.619,0.566,0.853,0.741,19643.525\n",
      "\n",
      "#Outcome scores\n",
      "AUROC,AUPRC,F-measure,Accuracy,Weighted Accuracy,Cost\n",
      "0.688,0.701,0.591,0.597,0.662,12549.347\n",
      "\n",
      "#Murmur scores (per class)\n",
      "Classes,Present,Unknown,Absent\n",
      "AUROC,0.959,0.500,0.855\n",
      "AUPRC,0.865,0.073,0.918\n",
      "F-measure,0.789,0.000,0.909\n",
      "Accuracy,0.737,0.000,0.971\n",
      "\n",
      "#Outcome scores (per class)\n",
      "Classes,Abnormal,Normal\n",
      "AUROC,0.688,0.688\n",
      "AUPRC,0.731,0.670\n",
      "F-measure,0.638,0.544\n",
      "Accuracy,0.694,0.495\n",
      "\n",
      "-------------\n",
      "threshold:  0.7\n",
      "#Murmur scores\n",
      "AUROC,AUPRC,F-measure,Accuracy,Weighted Accuracy,Cost\n",
      "0.771,0.619,0.540,0.838,0.679,20898.782\n",
      "\n",
      "#Outcome scores\n",
      "AUROC,AUPRC,F-measure,Accuracy,Weighted Accuracy,Cost\n",
      "0.688,0.701,0.611,0.613,0.557,15011.943\n",
      "\n",
      "#Murmur scores (per class)\n",
      "Classes,Present,Unknown,Absent\n",
      "AUROC,0.959,0.500,0.855\n",
      "AUPRC,0.865,0.073,0.918\n",
      "F-measure,0.719,0.000,0.901\n",
      "Accuracy,0.605,0.000,0.986\n",
      "\n",
      "#Outcome scores (per class)\n",
      "Classes,Abnormal,Normal\n",
      "AUROC,0.688,0.688\n",
      "AUPRC,0.731,0.670\n",
      "F-measure,0.584,0.637\n",
      "Accuracy,0.531,0.699\n",
      "\n",
      "-------------\n",
      "threshold:  0.75\n",
      "#Murmur scores\n",
      "AUROC,AUPRC,F-measure,Accuracy,Weighted Accuracy,Cost\n",
      "0.771,0.619,0.447,0.785,0.534,23405.090\n",
      "\n",
      "#Outcome scores\n",
      "AUROC,AUPRC,F-measure,Accuracy,Weighted Accuracy,Cost\n",
      "0.688,0.701,0.587,0.607,0.453,17981.697\n",
      "\n",
      "#Murmur scores (per class)\n",
      "Classes,Present,Unknown,Absent\n",
      "AUROC,0.959,0.500,0.855\n",
      "AUPRC,0.865,0.073,0.918\n",
      "F-measure,0.471,0.000,0.871\n",
      "Accuracy,0.316,0.000,0.993\n",
      "\n",
      "#Outcome scores (per class)\n",
      "Classes,Abnormal,Normal\n",
      "AUROC,0.688,0.688\n",
      "AUPRC,0.731,0.670\n",
      "F-measure,0.497,0.678\n",
      "Accuracy,0.378,0.849\n",
      "\n",
      "-------------\n",
      "threshold:  0.8\n",
      "#Murmur scores\n",
      "AUROC,AUPRC,F-measure,Accuracy,Weighted Accuracy,Cost\n",
      "0.771,0.619,0.363,0.754,0.442,24651.550\n",
      "\n",
      "#Outcome scores\n",
      "AUROC,AUPRC,F-measure,Accuracy,Weighted Accuracy,Cost\n",
      "0.688,0.701,0.530,0.586,0.350,20898.997\n",
      "\n",
      "#Murmur scores (per class)\n",
      "Classes,Present,Unknown,Absent\n",
      "AUROC,0.959,0.500,0.855\n",
      "AUPRC,0.865,0.073,0.918\n",
      "F-measure,0.233,0.000,0.855\n",
      "Accuracy,0.132,0.000,1.000\n",
      "\n",
      "#Outcome scores (per class)\n",
      "Classes,Abnormal,Normal\n",
      "AUROC,0.688,0.688\n",
      "AUPRC,0.731,0.670\n",
      "F-measure,0.368,0.693\n",
      "Accuracy,0.235,0.957\n",
      "\n",
      "-------------\n"
     ]
    }
   ],
   "source": [
    "for th1 in [0.01, 0.05, 0.1, 0.15,0.2, 0.25, 0.3, 0.35, 0.4, 0.45, 0.5, 0.55, 0.6, 0.65, 0.7, 0.75, 0.8] :\n",
    "    murmur_binary_outputs[:,0] = murmur_scalar_outputs[:,0] > th1\n",
    "    murmur_binary_outputs[:,2] = murmur_scalar_outputs[:,2] > 1 - th1\n",
    "    outcome_binary_outputs[:,0] = outcome_scalar_outputs[:,0] > th1\n",
    "    outcome_binary_outputs[:,1] = outcome_scalar_outputs[:,1] > 1 - th1\n",
    "    # For each patient, set the 'Present' or 'Abnormal' class to positive if no class is positive or if multiple classes are positive.\n",
    "    murmur_labels = enforce_positives(murmur_labels, murmur_classes, 'Present')\n",
    "    murmur_binary_outputs = enforce_positives(murmur_binary_outputs, murmur_classes, 'Present')\n",
    "    outcome_labels = enforce_positives(outcome_labels, outcome_classes, 'Abnormal')\n",
    "    outcome_binary_outputs = enforce_positives(outcome_binary_outputs, outcome_classes, 'Abnormal')\n",
    "    # Evaluate the murmur model by comparing the labels and model outputs.\n",
    "    murmur_auroc, murmur_auprc, murmur_auroc_classes, murmur_auprc_classes = compute_auc(murmur_labels, murmur_scalar_outputs)\n",
    "    murmur_f_measure, murmur_f_measure_classes = compute_f_measure(murmur_labels, murmur_binary_outputs)\n",
    "    murmur_accuracy, murmur_accuracy_classes = compute_accuracy(murmur_labels, murmur_binary_outputs)\n",
    "    murmur_weighted_accuracy = compute_weighted_accuracy(murmur_labels, murmur_binary_outputs, murmur_classes) # This is the murmur scoring metric.\n",
    "    murmur_cost = compute_cost(outcome_labels, murmur_binary_outputs, outcome_classes, murmur_classes) # Use *outcomes* to score *murmurs* for the Challenge cost metric, but this is not the actual murmur scoring metric.\n",
    "    murmur_scores = (murmur_classes, murmur_auroc, murmur_auprc, murmur_auroc_classes, murmur_auprc_classes, \\\n",
    "                 murmur_f_measure, murmur_f_measure_classes, murmur_accuracy, murmur_accuracy_classes, murmur_weighted_accuracy, murmur_cost)\n",
    "\n",
    "    # Evaluate the outcome model by comparing the labels and model outputs.\n",
    "    outcome_auroc, outcome_auprc, outcome_auroc_classes, outcome_auprc_classes = compute_auc(outcome_labels, outcome_scalar_outputs)\n",
    "    outcome_f_measure, outcome_f_measure_classes = compute_f_measure(outcome_labels, outcome_binary_outputs)\n",
    "    outcome_accuracy, outcome_accuracy_classes = compute_accuracy(outcome_labels, outcome_binary_outputs)\n",
    "    outcome_weighted_accuracy = compute_weighted_accuracy(outcome_labels, outcome_binary_outputs, outcome_classes)\n",
    "    outcome_cost = compute_cost(outcome_labels, outcome_binary_outputs, outcome_classes, outcome_classes) # This is the clinical outcomes scoring metric.\n",
    "    outcome_scores = (outcome_classes, outcome_auroc, outcome_auprc, outcome_auroc_classes, outcome_auprc_classes, \\\n",
    "                  outcome_f_measure, outcome_f_measure_classes, outcome_accuracy, outcome_accuracy_classes, outcome_weighted_accuracy, outcome_cost)\n",
    "\n",
    "\n",
    "\n",
    "    classes, auroc, auprc, auroc_classes, auprc_classes, f_measure, f_measure_classes, accuracy, accuracy_classes, weighted_accuracy, cost = murmur_scores\n",
    "    murmur_output_string = 'AUROC,AUPRC,F-measure,Accuracy,Weighted Accuracy,Cost\\n{:.3f},{:.3f},{:.3f},{:.3f},{:.3f},{:.3f}\\n'.format(auroc, auprc, f_measure, accuracy, weighted_accuracy, cost)\n",
    "    murmur_class_output_string = 'Classes,{}\\nAUROC,{}\\nAUPRC,{}\\nF-measure,{}\\nAccuracy,{}\\n'.format(\n",
    "    ','.join(classes),\n",
    "    ','.join('{:.3f}'.format(x) for x in auroc_classes),\n",
    "    ','.join('{:.3f}'.format(x) for x in auprc_classes),\n",
    "    ','.join('{:.3f}'.format(x) for x in f_measure_classes),\n",
    "    ','.join('{:.3f}'.format(x) for x in accuracy_classes))\n",
    "\n",
    "    classes, auroc, auprc, auroc_classes, auprc_classes, f_measure, f_measure_classes, accuracy, accuracy_classes, weighted_accuracy, cost = outcome_scores\n",
    "    outcome_output_string = 'AUROC,AUPRC,F-measure,Accuracy,Weighted Accuracy,Cost\\n{:.3f},{:.3f},{:.3f},{:.3f},{:.3f},{:.3f}\\n'.format(auroc, auprc, f_measure, accuracy, weighted_accuracy, cost)\n",
    "    outcome_class_output_string = 'Classes,{}\\nAUROC,{}\\nAUPRC,{}\\nF-measure,{}\\nAccuracy,{}\\n'.format(\n",
    "    ','.join(classes),\n",
    "    ','.join('{:.3f}'.format(x) for x in auroc_classes),\n",
    "    ','.join('{:.3f}'.format(x) for x in auprc_classes),\n",
    "    ','.join('{:.3f}'.format(x) for x in f_measure_classes),\n",
    "    ','.join('{:.3f}'.format(x) for x in accuracy_classes))\n",
    "\n",
    "    output_string = '#Murmur scores\\n' + murmur_output_string + '\\n#Outcome scores\\n' + outcome_output_string \\\n",
    "                + '\\n#Murmur scores (per class)\\n' + murmur_class_output_string + '\\n#Outcome scores (per class)\\n' + outcome_class_output_string\n",
    "    print(\"threshold: \", th1)\n",
    "    print(output_string)\n",
    "    print(\"-------------\")"
   ]
  },
  {
   "cell_type": "code",
   "execution_count": null,
   "id": "e6615bae",
   "metadata": {},
   "outputs": [],
   "source": []
  },
  {
   "cell_type": "code",
   "execution_count": null,
   "id": "5f95548d",
   "metadata": {},
   "outputs": [],
   "source": []
  },
  {
   "cell_type": "code",
   "execution_count": null,
   "id": "8681adbc",
   "metadata": {},
   "outputs": [],
   "source": []
  },
  {
   "cell_type": "code",
   "execution_count": null,
   "id": "f084c345",
   "metadata": {},
   "outputs": [],
   "source": []
  },
  {
   "cell_type": "code",
   "execution_count": null,
   "id": "5c260645",
   "metadata": {},
   "outputs": [],
   "source": []
  },
  {
   "cell_type": "code",
   "execution_count": null,
   "id": "7367ffff",
   "metadata": {},
   "outputs": [],
   "source": []
  },
  {
   "cell_type": "code",
   "execution_count": null,
   "id": "a95bdc02",
   "metadata": {},
   "outputs": [],
   "source": []
  },
  {
   "cell_type": "code",
   "execution_count": null,
   "id": "f085d621",
   "metadata": {},
   "outputs": [],
   "source": []
  },
  {
   "cell_type": "code",
   "execution_count": null,
   "id": "bd2c13c9",
   "metadata": {},
   "outputs": [],
   "source": []
  },
  {
   "cell_type": "code",
   "execution_count": null,
   "id": "5db42aca",
   "metadata": {},
   "outputs": [],
   "source": []
  },
  {
   "cell_type": "code",
   "execution_count": null,
   "id": "bb4f90b1",
   "metadata": {},
   "outputs": [],
   "source": []
  },
  {
   "cell_type": "code",
   "execution_count": null,
   "id": "51aa06e9",
   "metadata": {},
   "outputs": [],
   "source": []
  },
  {
   "cell_type": "code",
   "execution_count": null,
   "id": "4c7407d0",
   "metadata": {},
   "outputs": [],
   "source": []
  },
  {
   "cell_type": "code",
   "execution_count": null,
   "id": "2c27aa5b",
   "metadata": {},
   "outputs": [],
   "source": []
  },
  {
   "cell_type": "code",
   "execution_count": null,
   "id": "205f283a",
   "metadata": {},
   "outputs": [],
   "source": []
  }
 ],
 "metadata": {
  "kernelspec": {
   "display_name": "Python 3 (ipykernel)",
   "language": "python",
   "name": "python3"
  },
  "language_info": {
   "codemirror_mode": {
    "name": "ipython",
    "version": 3
   },
   "file_extension": ".py",
   "mimetype": "text/x-python",
   "name": "python",
   "nbconvert_exporter": "python",
   "pygments_lexer": "ipython3",
   "version": "3.8.13"
  }
 },
 "nbformat": 4,
 "nbformat_minor": 5
}
