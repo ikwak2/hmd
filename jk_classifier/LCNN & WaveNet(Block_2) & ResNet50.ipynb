{
 "cells": [
  {
   "cell_type": "code",
   "execution_count": 1,
   "id": "3d55dbd4",
   "metadata": {},
   "outputs": [],
   "source": [
    "import tensorflow as tf"
   ]
  },
  {
   "cell_type": "code",
   "execution_count": 2,
   "id": "ad188626",
   "metadata": {
    "scrolled": true
   },
   "outputs": [
    {
     "name": "stderr",
     "output_type": "stream",
     "text": [
      "2022-08-07 12:22:02.522587: I tensorflow/stream_executor/cuda/cuda_gpu_executor.cc:936] successful NUMA node read from SysFS had negative value (-1), but there must be at least one NUMA node, so returning NUMA node zero\n",
      "2022-08-07 12:22:02.526380: I tensorflow/stream_executor/cuda/cuda_gpu_executor.cc:936] successful NUMA node read from SysFS had negative value (-1), but there must be at least one NUMA node, so returning NUMA node zero\n",
      "2022-08-07 12:22:02.526789: I tensorflow/stream_executor/cuda/cuda_gpu_executor.cc:936] successful NUMA node read from SysFS had negative value (-1), but there must be at least one NUMA node, so returning NUMA node zero\n",
      "2022-08-07 12:22:02.527293: I tensorflow/core/platform/cpu_feature_guard.cc:151] This TensorFlow binary is optimized with oneAPI Deep Neural Network Library (oneDNN) to use the following CPU instructions in performance-critical operations:  AVX2 FMA\n",
      "To enable them in other operations, rebuild TensorFlow with the appropriate compiler flags.\n",
      "2022-08-07 12:22:02.528268: I tensorflow/stream_executor/cuda/cuda_gpu_executor.cc:936] successful NUMA node read from SysFS had negative value (-1), but there must be at least one NUMA node, so returning NUMA node zero\n",
      "2022-08-07 12:22:02.528669: I tensorflow/stream_executor/cuda/cuda_gpu_executor.cc:936] successful NUMA node read from SysFS had negative value (-1), but there must be at least one NUMA node, so returning NUMA node zero\n",
      "2022-08-07 12:22:02.528955: I tensorflow/stream_executor/cuda/cuda_gpu_executor.cc:936] successful NUMA node read from SysFS had negative value (-1), but there must be at least one NUMA node, so returning NUMA node zero\n",
      "2022-08-07 12:22:02.915154: I tensorflow/stream_executor/cuda/cuda_gpu_executor.cc:936] successful NUMA node read from SysFS had negative value (-1), but there must be at least one NUMA node, so returning NUMA node zero\n",
      "2022-08-07 12:22:02.915486: I tensorflow/stream_executor/cuda/cuda_gpu_executor.cc:936] successful NUMA node read from SysFS had negative value (-1), but there must be at least one NUMA node, so returning NUMA node zero\n",
      "2022-08-07 12:22:02.915762: I tensorflow/stream_executor/cuda/cuda_gpu_executor.cc:936] successful NUMA node read from SysFS had negative value (-1), but there must be at least one NUMA node, so returning NUMA node zero\n",
      "2022-08-07 12:22:02.916013: I tensorflow/core/common_runtime/gpu/gpu_device.cc:1525] Created device /job:localhost/replica:0/task:0/device:GPU:0 with 9266 MB memory:  -> device: 0, name: GeForce RTX 2080 Ti, pci bus id: 0000:01:00.0, compute capability: 7.5\n",
      "2022-08-07 12:22:03.427513: I tensorflow/stream_executor/cuda/cuda_dnn.cc:368] Loaded cuDNN version 8101\n"
     ]
    }
   ],
   "source": [
    "import os\n",
    "import pandas as pd\n",
    "import numpy as np\n",
    "import scipy as sp\n",
    "import scipy.stats\n",
    "import librosa\n",
    "import librosa.display\n",
    "import math\n",
    "import sys\n",
    "#sys.path.insert(0,'/home/ikwak2/hmd/notebooks')\n",
    "sys.path.insert(0,'lucashnegri-peakutils-51a679cd8428')\n",
    "# sys.path.insert(0,'S1-S1-Phonocardiogram-Peak-Detection-Method-in-Python')\n",
    "sys.path.insert(0,'utils')\n",
    "from helper_code import *\n",
    "from get_feature import *\n",
    "from models import *\n",
    "from Generator0 import *\n",
    "from keras.preprocessing import sequence\n",
    "# import peakutils\n",
    "from scipy import special\n",
    "import scipy.io as sio\n",
    "from keras.preprocessing.sequence import pad_sequences\n",
    "import peakutils\n",
    "from tensorflow import keras\n",
    "from tensorflow.keras import layers\n",
    "from tensorflow.keras.callbacks import LearningRateScheduler,ModelCheckpoint\n",
    "from keras.models import Model\n",
    "from keras.layers import Input \n",
    "from skimage.transform import resize\n",
    "import matplotlib.pyplot as plt"
   ]
  },
  {
   "cell_type": "code",
   "execution_count": 3,
   "id": "f8c573ff",
   "metadata": {},
   "outputs": [
    {
     "data": {
      "text/plain": [
       "'/home/jk21/Documents/hmd/jk_classifier'"
      ]
     },
     "execution_count": 3,
     "metadata": {},
     "output_type": "execute_result"
    }
   ],
   "source": [
    "pwd"
   ]
  },
  {
   "cell_type": "code",
   "execution_count": 4,
   "id": "42f5dd9c",
   "metadata": {},
   "outputs": [],
   "source": [
    "# data_folder =  'physionet.org/files/circor-heart-sound/1.0.3/training_data'\n",
    "train_folder =  '/home/jk21/Downloads/Data/data/murmur/train'\n",
    "test_folder = '/home/jk21/Downloads/Data/data/murmur/test'\n"
   ]
  },
  {
   "cell_type": "code",
   "execution_count": 5,
   "id": "ca657f78",
   "metadata": {},
   "outputs": [],
   "source": [
    "model_folder = 'lcnn2'"
   ]
  },
  {
   "cell_type": "code",
   "execution_count": 6,
   "id": "e49f868b",
   "metadata": {},
   "outputs": [
    {
     "data": {
      "text/plain": [
       "'lcnn2'"
      ]
     },
     "execution_count": 6,
     "metadata": {},
     "output_type": "execute_result"
    }
   ],
   "source": [
    "model_folder"
   ]
  },
  {
   "cell_type": "code",
   "execution_count": 7,
   "id": "e76c75d5",
   "metadata": {},
   "outputs": [],
   "source": [
    "def sigmoidal_decay(e, start=0, end=100, lr_start=1e-3, lr_end=1e-5):\n",
    "    if e < start:\n",
    "        return lr_start\n",
    "    elif e > end:\n",
    "        return lr_end\n",
    "\n",
    "    middle = (start + end) / 2\n",
    "    s = lambda x: 1 / (1 + np.exp(-x))\n",
    "\n",
    "    return s(13 * (-e + middle) / np.abs(end - start)) * np.abs(lr_start - lr_end) + lr_end"
   ]
  },
  {
   "cell_type": "code",
   "execution_count": 8,
   "id": "ac7432d8",
   "metadata": {},
   "outputs": [],
   "source": [
    "patient_files_trn = find_patient_files(train_folder)\n",
    "patient_files_test = find_patient_files(test_folder)"
   ]
  },
  {
   "cell_type": "code",
   "execution_count": 9,
   "id": "8b20e8c2",
   "metadata": {},
   "outputs": [],
   "source": [
    "winlen = 512\n",
    "hoplen = 256\n",
    "nmel = 120 \n",
    "nsec = 20 \n",
    "trim = 1 \n",
    "use_mel=True\n",
    "use_cqt = False \n",
    "use_stft = False\n",
    "use_raw=False\n",
    "use_interval=True\n",
    "use_wav2=True\n",
    "maxlen1 = 120000\n",
    "min_dist = 500\n",
    "max_interval_len=115\n"
   ]
  },
  {
   "cell_type": "code",
   "execution_count": null,
   "id": "2db6e657",
   "metadata": {},
   "outputs": [],
   "source": []
  },
  {
   "cell_type": "code",
   "execution_count": null,
   "id": "56da5d7c",
   "metadata": {},
   "outputs": [],
   "source": [
    "                        "
   ]
  },
  {
   "cell_type": "code",
   "execution_count": null,
   "id": "86e858e6",
   "metadata": {},
   "outputs": [],
   "source": []
  },
  {
   "cell_type": "code",
   "execution_count": 10,
   "id": "ca1fabdb",
   "metadata": {},
   "outputs": [],
   "source": [
    "params_feature = {'samp_sec': nsec,\n",
    "                  #### melspec, stft 피쳐 옵션들  \n",
    "                  'pre_emphasis': 0,\n",
    "                  'hop_length': hoplen,\n",
    "                  'win_length': winlen,\n",
    "                  'n_mels': nmel,\n",
    "                  #### cqt 피쳐 옵션들  \n",
    "                  'filter_scale': 1,\n",
    "                  'n_bins': 80,\n",
    "                  'fmin': 10,\n",
    "                  'maxlen1': maxlen1,\n",
    "                  'min_dist':min_dist,\n",
    "                  'max_interval_len' : max_interval_len,\n",
    "                  'trim' :1,\n",
    "                  'use_mel' : use_mel,\n",
    "                  'use_cqt' : use_cqt,\n",
    "                  'use_stft' : use_stft,\n",
    "                  'use_interval' : use_interval,\n",
    "                  'use_wav2' : use_wav2\n",
    "}"
   ]
  },
  {
   "cell_type": "code",
   "execution_count": 11,
   "id": "679d69ed",
   "metadata": {},
   "outputs": [],
   "source": [
    "mm_weight = 3 #np.random.choice([2,3,4,5])\n",
    "oo_weight = 3 #np.random.choice([2,3,4,5,6])\n",
    "ord1 = True #np.random.choice([True,False])\n",
    "mm_mean = False #np.random.choice([True,False])\n",
    "dp = 0 #np.random.choice([0, .1, .2, .3])\n",
    "fc = False #np.random.choice([True,False])\n",
    "ext = True\n",
    "chaug = 10 #np.random.choice([0, 10])\n",
    "mixup = True #np.random.choice([True,False])\n",
    "cout = .8 #np.random.choice([0, 0.8])\n",
    "wunknown = 1 #np.random.choice([1, 0.7, .5, .2])\n",
    "n1 = 0 #np.random.choice([0,2])\n",
    "if n1 == 0 :\n",
    "    ranfil = False\n",
    "else :\n",
    "    ranfil = [n1, [18,19,20,21,22,23]]"
   ]
  },
  {
   "cell_type": "code",
   "execution_count": 12,
   "id": "e1184bc8",
   "metadata": {},
   "outputs": [],
   "source": [
    "params_feature['ord1'] = ord1\n",
    "params_feature['mm_mean'] = mm_mean\n",
    "params_feature['dp'] = dp\n",
    "params_feature['fc'] = fc\n",
    "params_feature['ext'] = ext\n",
    "params_feature['oo_weight'] = oo_weight\n",
    "params_feature['mm_weight'] = mm_weight\n",
    "params_feature['chaug'] = chaug\n",
    "params_feature['cout'] = cout\n",
    "params_feature['wunknown'] = wunknown\n",
    "params_feature['mixup'] = mixup\n",
    "params_feature['n1'] = n1"
   ]
  },
  {
   "cell_type": "code",
   "execution_count": null,
   "id": "eb694b3d",
   "metadata": {},
   "outputs": [],
   "source": []
  },
  {
   "cell_type": "code",
   "execution_count": null,
   "id": "a3d69fda",
   "metadata": {},
   "outputs": [],
   "source": []
  },
  {
   "cell_type": "code",
   "execution_count": null,
   "id": "5e42cd25",
   "metadata": {},
   "outputs": [],
   "source": []
  },
  {
   "cell_type": "code",
   "execution_count": null,
   "id": "4ec5a0f0",
   "metadata": {},
   "outputs": [],
   "source": []
  },
  {
   "cell_type": "code",
   "execution_count": 22,
   "id": "0f13c9f2",
   "metadata": {},
   "outputs": [
    {
     "name": "stderr",
     "output_type": "stream",
     "text": [
      "100%|███████████████████████████████████████| 751/751 [1:03:18<00:00,  5.06s/it]\n"
     ]
    },
    {
     "name": "stdout",
     "output_type": "stream",
     "text": [
      "melspec:  120 313\n",
      "cqt:  1 1\n",
      "stft:  1 1\n",
      "interval:  115 1\n",
      "wav2:  32 374\n"
     ]
    }
   ],
   "source": [
    "features_trn, mel_input_shape, cqt_input_shape,stft_input_shape,interval_input_shape,wav2_input_shape = get_features_3lb_all_ord(train_folder, patient_files_trn, **params_feature)\n"
   ]
  },
  {
   "cell_type": "code",
   "execution_count": 23,
   "id": "53382dbd",
   "metadata": {},
   "outputs": [
    {
     "name": "stderr",
     "output_type": "stream",
     "text": [
      "100%|█████████████████████████████████████████| 191/191 [21:04<00:00,  6.62s/it]\n"
     ]
    },
    {
     "name": "stdout",
     "output_type": "stream",
     "text": [
      "melspec:  120 313\n",
      "cqt:  1 1\n",
      "stft:  1 1\n",
      "interval:  115 1\n",
      "wav2:  32 374\n"
     ]
    }
   ],
   "source": [
    "features_test, mel_input_shape, cqt_input_shape,stft_input_shape,interval_input_shape,wav2_input_shape= get_features_3lb_all_ord(test_folder, patient_files_test, **params_feature)"
   ]
  },
  {
   "cell_type": "code",
   "execution_count": null,
   "id": "dd6457f0",
   "metadata": {},
   "outputs": [],
   "source": []
  },
  {
   "cell_type": "code",
   "execution_count": 24,
   "id": "8b2ff2db",
   "metadata": {
    "scrolled": true
   },
   "outputs": [],
   "source": [
    "with open('/home/jk21/Downloads/Data/features_trn_wav2.pickle', 'wb') as f:\n",
    "    pickle.dump(features_trn, f, pickle.HIGHEST_PROTOCOL)"
   ]
  },
  {
   "cell_type": "code",
   "execution_count": 25,
   "id": "b9f7179a",
   "metadata": {
    "scrolled": true
   },
   "outputs": [],
   "source": [
    "with open('/home/jk21/Downloads/Data/features_test_wav2.pickle', 'wb') as f:\n",
    "    pickle.dump(features_test, f, pickle.HIGHEST_PROTOCOL)"
   ]
  },
  {
   "cell_type": "code",
   "execution_count": null,
   "id": "1499b589",
   "metadata": {},
   "outputs": [],
   "source": []
  },
  {
   "cell_type": "code",
   "execution_count": 13,
   "id": "79f59c5e",
   "metadata": {
    "scrolled": true
   },
   "outputs": [],
   "source": [
    "with open('/home/jk21/Downloads/Data/features_trn_wav2.pickle', 'rb') as f:\n",
    "    features_trn = pickle.load(f)"
   ]
  },
  {
   "cell_type": "code",
   "execution_count": 14,
   "id": "dd412feb",
   "metadata": {},
   "outputs": [],
   "source": [
    "with open('/home/jk21/Downloads/Data/features_test_wav2.pickle', 'rb') as f:\n",
    "    features_test = pickle.load(f)"
   ]
  },
  {
   "cell_type": "code",
   "execution_count": null,
   "id": "52e30822",
   "metadata": {},
   "outputs": [],
   "source": []
  },
  {
   "cell_type": "code",
   "execution_count": 15,
   "id": "5588b57a",
   "metadata": {},
   "outputs": [],
   "source": [
    "tmp_wav2 = np.zeros((2532,224,224,1))\n",
    "for i in range(len(features_trn['wav2'])):\n",
    "    test_ary=features_trn['wav2'][i]\n",
    "    res = resize(test_ary, (224,224,1))\n",
    "    tmp_wav2[i]=res\n",
    "features_trn['wav2'] = tmp_wav2"
   ]
  },
  {
   "cell_type": "code",
   "execution_count": 16,
   "id": "26a9a248",
   "metadata": {},
   "outputs": [],
   "source": [
    "features_trn['wav2'] = tmp_wav2"
   ]
  },
  {
   "cell_type": "code",
   "execution_count": 17,
   "id": "7adebef1",
   "metadata": {},
   "outputs": [
    {
     "data": {
      "text/plain": [
       "<matplotlib.image.AxesImage at 0x7f350c5da7c0>"
      ]
     },
     "execution_count": 17,
     "metadata": {},
     "output_type": "execute_result"
    },
    {
     "data": {
      "image/png": "[encoded data removed]",
      "text/plain": [
       "<Figure size 432x288 with 1 Axes>"
      ]
     },
     "metadata": {
      "needs_background": "light"
     },
     "output_type": "display_data"
    }
   ],
   "source": [
    "plt.imshow(features_trn['wav2'][100])"
   ]
  },
  {
   "cell_type": "code",
   "execution_count": 18,
   "id": "517786ba",
   "metadata": {},
   "outputs": [],
   "source": [
    "tmp_wav2 = np.zeros((631,224,224,1))\n",
    "for i in range(len(features_test['wav2'])):\n",
    "    test_ary=features_test['wav2'][i]\n",
    "    res = resize(test_ary, (224,224,1))\n",
    "    tmp_wav2[i]=res"
   ]
  },
  {
   "cell_type": "code",
   "execution_count": 19,
   "id": "32e770bc",
   "metadata": {},
   "outputs": [],
   "source": [
    "features_test['wav2'] = tmp_wav2"
   ]
  },
  {
   "cell_type": "code",
   "execution_count": null,
   "id": "cd2e6f5c",
   "metadata": {},
   "outputs": [],
   "source": [
    "ResNet50V2 = tf.keras.applications.ResNet50(\n",
    "    include_top=False,\n",
    "    weights=\"imagenet\",\n",
    "    input_tensor=None,\n",
    "    input_shape=(224,224,3),\n",
    "    pooling='avg',\n",
    "    classes=3\n",
    "    )"
   ]
  },
  {
   "cell_type": "code",
   "execution_count": null,
   "id": "5860af03",
   "metadata": {},
   "outputs": [],
   "source": []
  },
  {
   "cell_type": "code",
   "execution_count": 20,
   "id": "2e36c9f7",
   "metadata": {},
   "outputs": [],
   "source": [
    "def get_LCNN_o_4_dr_1(mel_input_shape, cqt_input_shape, stft_input_shape,interval_input_shape,wav2_input_shape,use_mel = True, use_cqt = True, use_stft = True, ord1 = True, dp = .5, fc = False, ext = False):\n",
    "        # Create a towy model.\n",
    "    \n",
    "    from keras.models import Model\n",
    "    from keras.layers import Input \n",
    "    \n",
    "    ResNet50V2 = tf.keras.applications.ResNet50(\n",
    "    include_top=False,\n",
    "    weights=\"imagenet\",\n",
    "    input_tensor=None,\n",
    "    input_shape=(224,224,3),\n",
    "    pooling='avg',\n",
    "    classes=3\n",
    "    )\n",
    "    \n",
    "    age = keras.Input(shape=(6,), name = 'age_cat')\n",
    "    sex = keras.Input(shape=(2,), name = 'sex_cat')\n",
    "    hw = keras.Input(shape=(2,), name = 'height_weight')\n",
    "    preg = keras.Input(shape=(1,), name = 'is_preg')\n",
    "    loc = keras.Input(shape=(5,), name = 'loc')\n",
    "    interval = keras.Input(shape=interval_input_shape, name = 'interval')\n",
    "    wav2 = keras.Input(shape=wav2_input_shape, name = 'wav2')\n",
    "    mel1 = keras.Input(shape=mel_input_shape, name = 'mel')\n",
    "    cqt1 = keras.Input(shape=cqt_input_shape, name = 'cqt')\n",
    "    stft1 = keras.Input(shape=stft_input_shape, name = 'stft')\n",
    "        \n",
    "    ## age embeddig\n",
    "    age1 = layers.Dense(2, activation = None)(age)\n",
    "\n",
    "    ## sex embedding\n",
    "    sex1 = layers.Dense(1, activation = None)(sex)\n",
    "\n",
    "    ## hw embedding\n",
    "    hw1 = layers.Dense(1, activation = None)(hw)\n",
    "\n",
    "    ## loc embedding\n",
    "    loc1 = layers.Dense(3, activation = None)(loc)\n",
    "    \n",
    "    ## interval embedding\n",
    "\n",
    "    interval1 = tf.keras.layers.Conv1D(9, 2, padding=\"causal\",activation='relu',dilation_rate=1)(interval)\n",
    "    interval1 = tf.keras.layers.Conv1D(9, 2, padding=\"causal\",activation='relu',dilation_rate=2)(interval1)\n",
    "    interval1 = tf.keras.layers.Conv1D(9, 2, padding=\"causal\",activation='relu',dilation_rate=4)(interval1)\n",
    "    interval1 = tf.keras.layers.Conv1D(9, 2, padding=\"causal\",activation='relu',dilation_rate=8)(interval1)\n",
    "    interval1 = tf.keras.layers.Conv1D(9, 2, padding=\"causal\",activation='relu',dilation_rate=16)(interval1)\n",
    "    interval1 = tf.keras.layers.Conv1D(9, 2, padding=\"causal\",activation='relu',dilation_rate=32)(interval1)\n",
    "    interval1 = tf.keras.layers.Conv1D(9, 2, padding=\"causal\",activation='relu',dilation_rate=64)(interval1)\n",
    "    interval1 = tf.keras.layers.Conv1D(9, 2, padding=\"causal\",activation='relu',dilation_rate=128)(interval1)\n",
    "    interval1 = tf.keras.layers.Conv1D(9, 2, padding=\"causal\",activation='relu',dilation_rate=256)(interval1)\n",
    "    interval1 = tf.keras.layers.Conv1D(9, 2, padding=\"causal\",activation='relu',dilation_rate=512)(interval1)\n",
    "    interval1 = tf.keras.layers.Conv1D(9, 2, padding=\"causal\",activation='relu',dilation_rate=1024)(interval1)\n",
    "\n",
    "#     interval1 = tf.keras.layers.Conv1D(9, 2, padding=\"causal\",activation='relu',dilation_rate=1)(interval1)\n",
    "#     interval1 = tf.keras.layers.Conv1D(9, 2, padding=\"causal\",activation='relu',dilation_rate=2)(interval1)\n",
    "#     interval1 = tf.keras.layers.Conv1D(9, 2, padding=\"causal\",activation='relu',dilation_rate=4)(interval1)\n",
    "#     interval1 = tf.keras.layers.Conv1D(9, 2, padding=\"causal\",activation='relu',dilation_rate=8)(interval1)\n",
    "#     interval1 = tf.keras.layers.Conv1D(9, 2, padding=\"causal\",activation='relu',dilation_rate=16)(interval1)\n",
    "#     interval1 = tf.keras.layers.Conv1D(9, 2, padding=\"causal\",activation='relu',dilation_rate=32)(interval1)\n",
    "#     interval1 = tf.keras.layers.Conv1D(9, 2, padding=\"causal\",activation='relu',dilation_rate=64)(interval1)\n",
    "#     interval1 = tf.keras.layers.Conv1D(9, 2, padding=\"causal\",activation='relu',dilation_rate=128)(interval1)\n",
    "#     interval1 = tf.keras.layers.Conv1D(9, 2, padding=\"causal\",activation='relu',dilation_rate=256)(interval1)\n",
    "#     interval1 = tf.keras.layers.Conv1D(9, 2, padding=\"causal\",activation='relu',dilation_rate=512)(interval1)\n",
    "#     interval1 = tf.keras.layers.Conv1D(9, 2, padding=\"causal\",activation='relu',dilation_rate=1024)(interval1)    \n",
    "\n",
    "    interval1 = tf.keras.layers.Conv1D(9, 2, padding=\"causal\",activation='relu',dilation_rate=1)(interval1)\n",
    "    interval1 = tf.keras.layers.Conv1D(9, 2, padding=\"causal\",activation='relu',dilation_rate=2)(interval1)\n",
    "    interval1 = tf.keras.layers.Conv1D(9, 2, padding=\"causal\",activation='relu',dilation_rate=4)(interval1)\n",
    "    interval1 = tf.keras.layers.Conv1D(9, 2, padding=\"causal\",activation='relu',dilation_rate=8)(interval1)\n",
    "    interval1 = tf.keras.layers.Conv1D(9, 2, padding=\"causal\",activation='relu',dilation_rate=16)(interval1)\n",
    "    interval1 = tf.keras.layers.Conv1D(9, 2, padding=\"causal\",activation='relu',dilation_rate=32)(interval1)\n",
    "    interval1 = tf.keras.layers.Conv1D(9, 2, padding=\"causal\",activation='relu',dilation_rate=64)(interval1)\n",
    "    interval1 = tf.keras.layers.Conv1D(9, 2, padding=\"causal\",activation='relu',dilation_rate=128)(interval1)\n",
    "    interval1 = tf.keras.layers.Conv1D(9, 2, padding=\"causal\",activation='relu',dilation_rate=256)(interval1)\n",
    "    interval1 = tf.keras.layers.Conv1D(9, 2, padding=\"causal\",activation='relu',dilation_rate=512)(interval1)\n",
    "    interval1 = tf.keras.layers.Conv1D(9, 2, padding=\"causal\",activation='relu',dilation_rate=1024)(interval1)\n",
    "    \n",
    "    interval1 = tf.keras.layers.GlobalMaxPooling1D()(interval1)\n",
    "    \n",
    "    #### Wav2Vec2 Embedding\n",
    "    \n",
    "    wav2_1 = Conv2D(3,(3,3),padding='same')(wav2)\n",
    "    wav2_2 = ResNet50V2(wav2_1)\n",
    "\n",
    "    \n",
    "    \n",
    "    \n",
    "    ## mel embedding\n",
    "    if use_mel :\n",
    "        \n",
    "        conv1_1 = Conv2D(filters = 32, kernel_size =5, strides=(1, 1), padding='same', activation=None)(mel1)\n",
    "        conv1_2 = Conv2D(filters = 32, kernel_size =5, strides=(1, 1), padding='same', activation=None)(mel1)\n",
    "        mfm2 = tensorflow.keras.layers.maximum([conv1_1, conv1_2])\n",
    "        max3 = MaxPool2D(pool_size=(2, 2), strides=(2, 2), padding='same')(mfm2)\n",
    "\n",
    "        conv4_1 = Conv2D(filters = 32, kernel_size =1, strides=(1, 1), padding='same', activation=None)(max3)\n",
    "        conv4_2 = Conv2D(filters = 32, kernel_size =1, strides=(1, 1), padding='same', activation=None)(max3)\n",
    "        mfm5 = tensorflow.keras.layers.maximum([conv4_1, conv4_2])\n",
    "        batch6 = BatchNormalization(axis=3, scale=False)(mfm5)\n",
    "\n",
    "        conv7_1 = Conv2D(filters = 48, kernel_size =3, strides=(1, 1), padding='same', activation=None)(batch6)\n",
    "        conv7_2 = Conv2D(filters = 48, kernel_size =3, strides=(1, 1), padding='same', activation=None)(batch6)\n",
    "        mfm8 = tensorflow.keras.layers.maximum([conv7_1, conv7_2])\n",
    "\n",
    "        max9 = MaxPool2D(pool_size=(2, 2), strides=(2, 2), padding='same')(mfm8)\n",
    "        batch10 = BatchNormalization(axis=3, scale=False)(max9)\n",
    "\n",
    "        conv11_1 = Conv2D(filters = 48, kernel_size =1, strides=(1, 1), padding='same', activation=None)(batch10)\n",
    "        conv11_2 = Conv2D(filters = 48, kernel_size =1, strides=(1, 1), padding='same', activation=None)(batch10)\n",
    "        mfm12 = tensorflow.keras.layers.maximum([conv11_1, conv11_2])\n",
    "        batch13 = BatchNormalization(axis=3, scale=False)(mfm12)\n",
    "\n",
    "        conv14_1 = Conv2D(filters = 64, kernel_size =3, strides=(1, 1), padding='same', activation=None)(batch13)\n",
    "        conv14_2 = Conv2D(filters = 64, kernel_size =3, strides=(1, 1), padding='same', activation=None)(batch13)\n",
    "        mfm15 = tensorflow.keras.layers.maximum([conv14_1, conv14_2])\n",
    "\n",
    "        max16 = MaxPool2D(pool_size=(2, 2), strides=(2, 2), padding='same')(mfm15)\n",
    "\n",
    "        conv17_1 = Conv2D(filters = 64, kernel_size =1, strides=(1, 1), padding='same', activation=None)(max16)\n",
    "        conv17_2 = Conv2D(filters = 64, kernel_size =1, strides=(1, 1), padding='same', activation=None)(max16)\n",
    "        mfm18 = tensorflow.keras.layers.maximum([conv17_1, conv17_2])\n",
    "        batch19 = BatchNormalization(axis=3, scale=False)(mfm18)\n",
    "\n",
    "        conv20_1 = Conv2D(filters = 32, kernel_size =3, strides=(1, 1), padding='same', activation=None)(batch19)\n",
    "        conv20_2 = Conv2D(filters = 32, kernel_size =3, strides=(1, 1), padding='same', activation=None)(batch19)\n",
    "        mfm21 = tensorflow.keras.layers.maximum([conv20_1, conv20_2])\n",
    "        batch22 = BatchNormalization(axis=3, scale=False)(mfm21)\n",
    "\n",
    "        conv23_1 = Conv2D(filters = 32, kernel_size =1, strides=(1, 1), padding='same', activation=None)(batch22)\n",
    "        conv23_2 = Conv2D(filters = 32, kernel_size =1, strides=(1, 1), padding='same', activation=None)(batch22)\n",
    "        mfm24 = tensorflow.keras.layers.maximum([conv23_1, conv23_2])\n",
    "        batch25 = BatchNormalization(axis=3, scale=False)(mfm24)\n",
    "\n",
    "        conv26_1 = Conv2D(filters = 32, kernel_size =1, strides=(1, 1), padding='same', activation=None)(batch25)\n",
    "        conv26_2 = Conv2D(filters = 32, kernel_size =1, strides=(1, 1), padding='same', activation=None)(batch25)\n",
    "        mfm27 = tensorflow.keras.layers.maximum([conv26_1, conv26_2])\n",
    "\n",
    "        max28 = MaxPool2D(pool_size=(2, 2), strides=(2, 2), padding='valid')(mfm27)\n",
    "        mel2 = layers.GlobalAveragePooling2D()(max28)\n",
    "        mel2 = Dropout(dp)(mel2)\n",
    "\n",
    "    if use_cqt:\n",
    "        ## cqt embedding\n",
    "        conv1_1 = Conv2D(filters = 32, kernel_size =5, strides=(1, 1), padding='same', activation=None)(cqt1)\n",
    "        conv1_2 = Conv2D(filters = 32, kernel_size =5, strides=(1, 1), padding='same', activation=None)(cqt1)\n",
    "        mfm2 = tensorflow.keras.layers.maximum([conv1_1, conv1_2])\n",
    "        max3 = MaxPool2D(pool_size=(2, 2), strides=(2, 2), padding='same')(mfm2)\n",
    "        \n",
    "        conv4_1 = Conv2D(filters = 32, kernel_size =1, strides=(1, 1), padding='same', activation=None)(max3)\n",
    "        conv4_2 = Conv2D(filters = 32, kernel_size =1, strides=(1, 1), padding='same', activation=None)(max3)\n",
    "        mfm5 = tensorflow.keras.layers.maximum([conv4_1, conv4_2])\n",
    "        batch6 = BatchNormalization(axis=3, scale=False)(mfm5)\n",
    "\n",
    "        conv7_1 = Conv2D(filters = 48, kernel_size =3, strides=(1, 1), padding='same', activation=None)(batch6)\n",
    "        conv7_2 = Conv2D(filters = 48, kernel_size =3, strides=(1, 1), padding='same', activation=None)(batch6)\n",
    "        mfm8 = tensorflow.keras.layers.maximum([conv7_1, conv7_2])\n",
    "\n",
    "        max9 = MaxPool2D(pool_size=(2, 2), strides=(2, 2), padding='same')(mfm8)\n",
    "        batch10 = BatchNormalization(axis=3, scale=False)(max9)\n",
    "\n",
    "        conv11_1 = Conv2D(filters = 48, kernel_size =1, strides=(1, 1), padding='same', activation=None)(batch10)\n",
    "        conv11_2 = Conv2D(filters = 48, kernel_size =1, strides=(1, 1), padding='same', activation=None)(batch10)\n",
    "        mfm12 = tensorflow.keras.layers.maximum([conv11_1, conv11_2])\n",
    "        batch13 = BatchNormalization(axis=3, scale=False)(mfm12)\n",
    "\n",
    "        conv14_1 = Conv2D(filters = 64, kernel_size =3, strides=(1, 1), padding='same', activation=None)(batch13)\n",
    "        conv14_2 = Conv2D(filters = 64, kernel_size =3, strides=(1, 1), padding='same', activation=None)(batch13)\n",
    "        mfm15 = tensorflow.keras.layers.maximum([conv14_1, conv14_2])\n",
    "\n",
    "        max16 = MaxPool2D(pool_size=(2, 2), strides=(2, 2), padding='same')(mfm15)\n",
    "\n",
    "        conv17_1 = Conv2D(filters = 64, kernel_size =1, strides=(1, 1), padding='same', activation=None)(max16)\n",
    "        conv17_2 = Conv2D(filters = 64, kernel_size =1, strides=(1, 1), padding='same', activation=None)(max16)\n",
    "        mfm18 = tensorflow.keras.layers.maximum([conv17_1, conv17_2])\n",
    "        batch19 = BatchNormalization(axis=3, scale=False)(mfm18)\n",
    "\n",
    "        conv20_1 = Conv2D(filters = 32, kernel_size =3, strides=(1, 1), padding='same', activation=None)(batch19)\n",
    "        conv20_2 = Conv2D(filters = 32, kernel_size =3, strides=(1, 1), padding='same', activation=None)(batch19)\n",
    "        mfm21 = tensorflow.keras.layers.maximum([conv20_1, conv20_2])\n",
    "        batch22 = BatchNormalization(axis=3, scale=False)(mfm21)\n",
    "\n",
    "        conv23_1 = Conv2D(filters = 32, kernel_size =1, strides=(1, 1), padding='same', activation=None)(batch22)\n",
    "        conv23_2 = Conv2D(filters = 32, kernel_size =1, strides=(1, 1), padding='same', activation=None)(batch22)\n",
    "        mfm24 = tensorflow.keras.layers.maximum([conv23_1, conv23_2])\n",
    "        batch25 = BatchNormalization(axis=3, scale=False)(mfm24)\n",
    "\n",
    "        conv26_1 = Conv2D(filters = 32, kernel_size =1, strides=(1, 1), padding='same', activation=None)(batch25)\n",
    "        conv26_2 = Conv2D(filters = 32, kernel_size =1, strides=(1, 1), padding='same', activation=None)(batch25)\n",
    "        mfm27 = tensorflow.keras.layers.maximum([conv26_1, conv26_2])\n",
    "        \n",
    "        max28 = MaxPool2D(pool_size=(2, 2), strides=(2, 2), padding='valid')(mfm27)\n",
    "        cqt2 = layers.GlobalAveragePooling2D()(max28)\n",
    "        cqt2 = Dropout(dp)(cqt2)\n",
    "\n",
    "    if use_stft :\n",
    "        ## stft embedding\n",
    "        conv1_1 = Conv2D(filters = 32, kernel_size =5, strides=(1, 1), padding='same', activation=None)(stft1)\n",
    "        conv1_2 = Conv2D(filters = 32, kernel_size =5, strides=(1, 1), padding='same', activation=None)(stft1)\n",
    "        mfm2 = tensorflow.keras.layers.maximum([conv1_1, conv1_2])\n",
    "        max3 = MaxPool2D(pool_size=(2, 2), strides=(2, 2), padding='same')(mfm2)\n",
    "        \n",
    "        conv4_1 = Conv2D(filters = 32, kernel_size =1, strides=(1, 1), padding='same', activation=None)(max3)\n",
    "        conv4_2 = Conv2D(filters = 32, kernel_size =1, strides=(1, 1), padding='same', activation=None)(max3)\n",
    "        mfm5 = tensorflow.keras.layers.maximum([conv4_1, conv4_2])\n",
    "        batch6 = BatchNormalization(axis=3, scale=False)(mfm5)\n",
    "        \n",
    "        conv7_1 = Conv2D(filters = 48, kernel_size =3, strides=(1, 1), padding='same', activation=None)(batch6)\n",
    "        conv7_2 = Conv2D(filters = 48, kernel_size =3, strides=(1, 1), padding='same', activation=None)(batch6)\n",
    "        mfm8 = tensorflow.keras.layers.maximum([conv7_1, conv7_2])\n",
    "        \n",
    "        max9 = MaxPool2D(pool_size=(2, 2), strides=(2, 2), padding='same')(mfm8)\n",
    "        batch10 = BatchNormalization(axis=3, scale=False)(max9)\n",
    "        \n",
    "        conv11_1 = Conv2D(filters = 48, kernel_size =1, strides=(1, 1), padding='same', activation=None)(batch10)\n",
    "        conv11_2 = Conv2D(filters = 48, kernel_size =1, strides=(1, 1), padding='same', activation=None)(batch10)\n",
    "        mfm12 = tensorflow.keras.layers.maximum([conv11_1, conv11_2])\n",
    "        batch13 = BatchNormalization(axis=3, scale=False)(mfm12)\n",
    "\n",
    "        conv14_1 = Conv2D(filters = 64, kernel_size =3, strides=(1, 1), padding='same', activation=None)(batch13)\n",
    "        conv14_2 = Conv2D(filters = 64, kernel_size =3, strides=(1, 1), padding='same', activation=None)(batch13)\n",
    "        mfm15 = tensorflow.keras.layers.maximum([conv14_1, conv14_2])\n",
    "        \n",
    "        max16 = MaxPool2D(pool_size=(2, 2), strides=(2, 2), padding='same')(mfm15)\n",
    "\n",
    "        conv17_1 = Conv2D(filters = 64, kernel_size =1, strides=(1, 1), padding='same', activation=None)(max16)\n",
    "        conv17_2 = Conv2D(filters = 64, kernel_size =1, strides=(1, 1), padding='same', activation=None)(max16)\n",
    "        mfm18 = tensorflow.keras.layers.maximum([conv17_1, conv17_2])\n",
    "        batch19 = BatchNormalization(axis=3, scale=False)(mfm18)\n",
    "\n",
    "        conv20_1 = Conv2D(filters = 32, kernel_size =3, strides=(1, 1), padding='same', activation=None)(batch19)\n",
    "        conv20_2 = Conv2D(filters = 32, kernel_size =3, strides=(1, 1), padding='same', activation=None)(batch19)\n",
    "        mfm21 = tensorflow.keras.layers.maximum([conv20_1, conv20_2])\n",
    "        batch22 = BatchNormalization(axis=3, scale=False)(mfm21)\n",
    "\n",
    "        conv23_1 = Conv2D(filters = 32, kernel_size =1, strides=(1, 1), padding='same', activation=None)(batch22)\n",
    "        conv23_2 = Conv2D(filters = 32, kernel_size =1, strides=(1, 1), padding='same', activation=None)(batch22)\n",
    "        mfm24 = tensorflow.keras.layers.maximum([conv23_1, conv23_2])\n",
    "        batch25 = BatchNormalization(axis=3, scale=False)(mfm24)\n",
    "\n",
    "        conv26_1 = Conv2D(filters = 32, kernel_size =1, strides=(1, 1), padding='same', activation=None)(batch25)\n",
    "        conv26_2 = Conv2D(filters = 32, kernel_size =1, strides=(1, 1), padding='same', activation=None)(batch25)\n",
    "        mfm27 = tensorflow.keras.layers.maximum([conv26_1, conv26_2])\n",
    "        \n",
    "        max28 = MaxPool2D(pool_size=(2, 2), strides=(2, 2), padding='valid')(mfm27)\n",
    "        stft2 = layers.GlobalAveragePooling2D()(max28)\n",
    "        stft2 = Dropout(dp)(stft2)\n",
    "    \n",
    "    \n",
    "    if use_mel and use_cqt and use_stft :\n",
    "        concat2 = layers.Concatenate()([mel2, cqt2, stft2])\n",
    "    if not use_mel and use_cqt and use_stft :\n",
    "        concat2 = layers.Concatenate()([cqt2, stft2])\n",
    "    if use_mel and not use_cqt and use_stft :\n",
    "        concat2 = layers.Concatenate()([mel2, stft2])\n",
    "    if use_mel and use_cqt and not use_stft :\n",
    "        concat2 = layers.Concatenate()([mel2, cqt2])\n",
    "    if not use_mel and not use_cqt and use_stft :  ## stft 만\n",
    "        concat2 = stft2\n",
    "    if use_mel and not use_cqt and not use_stft :  ### mel만\n",
    "        concat2 = mel2\n",
    "    if not use_mel and use_cqt and not use_stft :  ### cqt만\n",
    "        concat2 = cqt2\n",
    "\n",
    "    if ext :\n",
    "        \n",
    "        concat1 = layers.Concatenate()([age1, sex1, hw1, loc1, interval1,preg])\n",
    "        d1 = layers.Dense(10, activation='relu')(concat1)\n",
    "        concat2 = layers.Concatenate()([concat2, d1,wav2_2])\n",
    "        \n",
    "    if fc :\n",
    "        concat2 = layers.Dense(10, activation = \"relu\")(concat2)\n",
    "        concat2 = Dropout(dp)(concat2)\n",
    "        \n",
    "    if ord1 :\n",
    "        res1 = layers.Dense(2, activation = \"softmax\")(concat2)\n",
    "        \n",
    "        \n",
    "\n",
    "        \n",
    "    else :\n",
    "        res1 = layers.Dense(3, activation = \"softmax\")(concat2)\n",
    "\n",
    "        \n",
    "        \n",
    "        \n",
    "#     res2 = layers.Dense(2, activation = \"softmax\")(concat2)\n",
    "\n",
    "    model = keras.Model(inputs = [age,sex,hw,preg,loc,interval,wav2,mel1,stft1,cqt1] , outputs = res1 )\n",
    "    \n",
    "    model.compile(loss=['categorical_crossentropy'], optimizer='adam', metrics=['accuracy','AUC'])\n",
    "    return(model)\n",
    "\n"
   ]
  },
  {
   "cell_type": "code",
   "execution_count": 21,
   "id": "e6ebb744",
   "metadata": {},
   "outputs": [],
   "source": [
    "def get_LCNN_o_4_dr_2(mel_input_shape, cqt_input_shape, stft_input_shape,interval_input_shape,wav2_input_shape,use_mel = True, use_cqt = True, use_stft = True, ord1 = True, dp = .5, fc = False, ext = False):\n",
    "        # Create a towy model.\n",
    "    \n",
    "    from keras.models import Model\n",
    "    from keras.layers import Input \n",
    "    \n",
    "    ResNet50V2 = tf.keras.applications.ResNet50(\n",
    "    include_top=False,\n",
    "    weights=\"imagenet\",\n",
    "    input_tensor=None,\n",
    "    input_shape=(224,224,3),\n",
    "    pooling='avg',\n",
    "    classes=2\n",
    "    )\n",
    "    \n",
    "    age = keras.Input(shape=(6,), name = 'age_cat')\n",
    "    sex = keras.Input(shape=(2,), name = 'sex_cat')\n",
    "    hw = keras.Input(shape=(2,), name = 'height_weight')\n",
    "    preg = keras.Input(shape=(1,), name = 'is_preg')\n",
    "    loc = keras.Input(shape=(5,), name = 'loc')\n",
    "    interval = keras.Input(shape=interval_input_shape, name = 'interval')\n",
    "    wav2 = keras.Input(shape=wav2_input_shape, name = 'wav2')\n",
    "    mel1 = keras.Input(shape=mel_input_shape, name = 'mel')\n",
    "    cqt1 = keras.Input(shape=cqt_input_shape, name = 'cqt')\n",
    "    stft1 = keras.Input(shape=stft_input_shape, name = 'stft')\n",
    "        \n",
    "    ## age embeddig\n",
    "    age1 = layers.Dense(2, activation = None)(age)\n",
    "\n",
    "    ## sex embedding\n",
    "    sex1 = layers.Dense(1, activation = None)(sex)\n",
    "\n",
    "    ## hw embedding\n",
    "    hw1 = layers.Dense(1, activation = None)(hw)\n",
    "\n",
    "    ## loc embedding\n",
    "    loc1 = layers.Dense(3, activation = None)(loc)\n",
    "    \n",
    "    ## interval embedding\n",
    "\n",
    "    interval1 = tf.keras.layers.Conv1D(9, 2, padding=\"causal\",activation='relu',dilation_rate=1)(interval)\n",
    "    interval1 = tf.keras.layers.Conv1D(9, 2, padding=\"causal\",activation='relu',dilation_rate=2)(interval1)\n",
    "    interval1 = tf.keras.layers.Conv1D(9, 2, padding=\"causal\",activation='relu',dilation_rate=4)(interval1)\n",
    "    interval1 = tf.keras.layers.Conv1D(9, 2, padding=\"causal\",activation='relu',dilation_rate=8)(interval1)\n",
    "    interval1 = tf.keras.layers.Conv1D(9, 2, padding=\"causal\",activation='relu',dilation_rate=16)(interval1)\n",
    "    interval1 = tf.keras.layers.Conv1D(9, 2, padding=\"causal\",activation='relu',dilation_rate=32)(interval1)\n",
    "    interval1 = tf.keras.layers.Conv1D(9, 2, padding=\"causal\",activation='relu',dilation_rate=64)(interval1)\n",
    "    interval1 = tf.keras.layers.Conv1D(9, 2, padding=\"causal\",activation='relu',dilation_rate=128)(interval1)\n",
    "    interval1 = tf.keras.layers.Conv1D(9, 2, padding=\"causal\",activation='relu',dilation_rate=256)(interval1)\n",
    "    interval1 = tf.keras.layers.Conv1D(9, 2, padding=\"causal\",activation='relu',dilation_rate=512)(interval1)\n",
    "    interval1 = tf.keras.layers.Conv1D(9, 2, padding=\"causal\",activation='relu',dilation_rate=1024)(interval1)\n",
    "\n",
    "#     interval1 = tf.keras.layers.Conv1D(9, 2, padding=\"causal\",activation='relu',dilation_rate=1)(interval1)\n",
    "#     interval1 = tf.keras.layers.Conv1D(9, 2, padding=\"causal\",activation='relu',dilation_rate=2)(interval1)\n",
    "#     interval1 = tf.keras.layers.Conv1D(9, 2, padding=\"causal\",activation='relu',dilation_rate=4)(interval1)\n",
    "#     interval1 = tf.keras.layers.Conv1D(9, 2, padding=\"causal\",activation='relu',dilation_rate=8)(interval1)\n",
    "#     interval1 = tf.keras.layers.Conv1D(9, 2, padding=\"causal\",activation='relu',dilation_rate=16)(interval1)\n",
    "#     interval1 = tf.keras.layers.Conv1D(9, 2, padding=\"causal\",activation='relu',dilation_rate=32)(interval1)\n",
    "#     interval1 = tf.keras.layers.Conv1D(9, 2, padding=\"causal\",activation='relu',dilation_rate=64)(interval1)\n",
    "#     interval1 = tf.keras.layers.Conv1D(9, 2, padding=\"causal\",activation='relu',dilation_rate=128)(interval1)\n",
    "#     interval1 = tf.keras.layers.Conv1D(9, 2, padding=\"causal\",activation='relu',dilation_rate=256)(interval1)\n",
    "#     interval1 = tf.keras.layers.Conv1D(9, 2, padding=\"causal\",activation='relu',dilation_rate=512)(interval1)\n",
    "#     interval1 = tf.keras.layers.Conv1D(9, 2, padding=\"causal\",activation='relu',dilation_rate=1024)(interval1)    \n",
    "\n",
    "    interval1 = tf.keras.layers.Conv1D(9, 2, padding=\"causal\",activation='relu',dilation_rate=1)(interval1)\n",
    "    interval1 = tf.keras.layers.Conv1D(9, 2, padding=\"causal\",activation='relu',dilation_rate=2)(interval1)\n",
    "    interval1 = tf.keras.layers.Conv1D(9, 2, padding=\"causal\",activation='relu',dilation_rate=4)(interval1)\n",
    "    interval1 = tf.keras.layers.Conv1D(9, 2, padding=\"causal\",activation='relu',dilation_rate=8)(interval1)\n",
    "    interval1 = tf.keras.layers.Conv1D(9, 2, padding=\"causal\",activation='relu',dilation_rate=16)(interval1)\n",
    "    interval1 = tf.keras.layers.Conv1D(9, 2, padding=\"causal\",activation='relu',dilation_rate=32)(interval1)\n",
    "    interval1 = tf.keras.layers.Conv1D(9, 2, padding=\"causal\",activation='relu',dilation_rate=64)(interval1)\n",
    "    interval1 = tf.keras.layers.Conv1D(9, 2, padding=\"causal\",activation='relu',dilation_rate=128)(interval1)\n",
    "    interval1 = tf.keras.layers.Conv1D(9, 2, padding=\"causal\",activation='relu',dilation_rate=256)(interval1)\n",
    "    interval1 = tf.keras.layers.Conv1D(9, 2, padding=\"causal\",activation='relu',dilation_rate=512)(interval1)\n",
    "    interval1 = tf.keras.layers.Conv1D(9, 2, padding=\"causal\",activation='relu',dilation_rate=1024)(interval1)\n",
    "    \n",
    "    interval1 = tf.keras.layers.GlobalMaxPooling1D()(interval1)\n",
    "    \n",
    "    #### Wav2Vec2 Embedding\n",
    "    \n",
    "    wav2_1 = Conv2D(3,(3,3),padding='same')(wav2)\n",
    "    wav2_2 = ResNet50V2(wav2_1)\n",
    "\n",
    "    \n",
    "    \n",
    "    \n",
    "    ## mel embedding\n",
    "    if use_mel :\n",
    "        \n",
    "        conv1_1 = Conv2D(filters = 32, kernel_size =5, strides=(1, 1), padding='same', activation=None)(mel1)\n",
    "        conv1_2 = Conv2D(filters = 32, kernel_size =5, strides=(1, 1), padding='same', activation=None)(mel1)\n",
    "        mfm2 = tensorflow.keras.layers.maximum([conv1_1, conv1_2])\n",
    "        max3 = MaxPool2D(pool_size=(2, 2), strides=(2, 2), padding='same')(mfm2)\n",
    "\n",
    "        conv4_1 = Conv2D(filters = 32, kernel_size =1, strides=(1, 1), padding='same', activation=None)(max3)\n",
    "        conv4_2 = Conv2D(filters = 32, kernel_size =1, strides=(1, 1), padding='same', activation=None)(max3)\n",
    "        mfm5 = tensorflow.keras.layers.maximum([conv4_1, conv4_2])\n",
    "        batch6 = BatchNormalization(axis=3, scale=False)(mfm5)\n",
    "\n",
    "        conv7_1 = Conv2D(filters = 48, kernel_size =3, strides=(1, 1), padding='same', activation=None)(batch6)\n",
    "        conv7_2 = Conv2D(filters = 48, kernel_size =3, strides=(1, 1), padding='same', activation=None)(batch6)\n",
    "        mfm8 = tensorflow.keras.layers.maximum([conv7_1, conv7_2])\n",
    "\n",
    "        max9 = MaxPool2D(pool_size=(2, 2), strides=(2, 2), padding='same')(mfm8)\n",
    "        batch10 = BatchNormalization(axis=3, scale=False)(max9)\n",
    "\n",
    "        conv11_1 = Conv2D(filters = 48, kernel_size =1, strides=(1, 1), padding='same', activation=None)(batch10)\n",
    "        conv11_2 = Conv2D(filters = 48, kernel_size =1, strides=(1, 1), padding='same', activation=None)(batch10)\n",
    "        mfm12 = tensorflow.keras.layers.maximum([conv11_1, conv11_2])\n",
    "        batch13 = BatchNormalization(axis=3, scale=False)(mfm12)\n",
    "\n",
    "        conv14_1 = Conv2D(filters = 64, kernel_size =3, strides=(1, 1), padding='same', activation=None)(batch13)\n",
    "        conv14_2 = Conv2D(filters = 64, kernel_size =3, strides=(1, 1), padding='same', activation=None)(batch13)\n",
    "        mfm15 = tensorflow.keras.layers.maximum([conv14_1, conv14_2])\n",
    "\n",
    "        max16 = MaxPool2D(pool_size=(2, 2), strides=(2, 2), padding='same')(mfm15)\n",
    "\n",
    "        conv17_1 = Conv2D(filters = 64, kernel_size =1, strides=(1, 1), padding='same', activation=None)(max16)\n",
    "        conv17_2 = Conv2D(filters = 64, kernel_size =1, strides=(1, 1), padding='same', activation=None)(max16)\n",
    "        mfm18 = tensorflow.keras.layers.maximum([conv17_1, conv17_2])\n",
    "        batch19 = BatchNormalization(axis=3, scale=False)(mfm18)\n",
    "\n",
    "        conv20_1 = Conv2D(filters = 32, kernel_size =3, strides=(1, 1), padding='same', activation=None)(batch19)\n",
    "        conv20_2 = Conv2D(filters = 32, kernel_size =3, strides=(1, 1), padding='same', activation=None)(batch19)\n",
    "        mfm21 = tensorflow.keras.layers.maximum([conv20_1, conv20_2])\n",
    "        batch22 = BatchNormalization(axis=3, scale=False)(mfm21)\n",
    "\n",
    "        conv23_1 = Conv2D(filters = 32, kernel_size =1, strides=(1, 1), padding='same', activation=None)(batch22)\n",
    "        conv23_2 = Conv2D(filters = 32, kernel_size =1, strides=(1, 1), padding='same', activation=None)(batch22)\n",
    "        mfm24 = tensorflow.keras.layers.maximum([conv23_1, conv23_2])\n",
    "        batch25 = BatchNormalization(axis=3, scale=False)(mfm24)\n",
    "\n",
    "        conv26_1 = Conv2D(filters = 32, kernel_size =1, strides=(1, 1), padding='same', activation=None)(batch25)\n",
    "        conv26_2 = Conv2D(filters = 32, kernel_size =1, strides=(1, 1), padding='same', activation=None)(batch25)\n",
    "        mfm27 = tensorflow.keras.layers.maximum([conv26_1, conv26_2])\n",
    "\n",
    "        max28 = MaxPool2D(pool_size=(2, 2), strides=(2, 2), padding='valid')(mfm27)\n",
    "        mel2 = layers.GlobalAveragePooling2D()(max28)\n",
    "        mel2 = Dropout(dp)(mel2)\n",
    "\n",
    "    if use_cqt:\n",
    "        ## cqt embedding\n",
    "        conv1_1 = Conv2D(filters = 32, kernel_size =5, strides=(1, 1), padding='same', activation=None)(cqt1)\n",
    "        conv1_2 = Conv2D(filters = 32, kernel_size =5, strides=(1, 1), padding='same', activation=None)(cqt1)\n",
    "        mfm2 = tensorflow.keras.layers.maximum([conv1_1, conv1_2])\n",
    "        max3 = MaxPool2D(pool_size=(2, 2), strides=(2, 2), padding='same')(mfm2)\n",
    "        \n",
    "        conv4_1 = Conv2D(filters = 32, kernel_size =1, strides=(1, 1), padding='same', activation=None)(max3)\n",
    "        conv4_2 = Conv2D(filters = 32, kernel_size =1, strides=(1, 1), padding='same', activation=None)(max3)\n",
    "        mfm5 = tensorflow.keras.layers.maximum([conv4_1, conv4_2])\n",
    "        batch6 = BatchNormalization(axis=3, scale=False)(mfm5)\n",
    "\n",
    "        conv7_1 = Conv2D(filters = 48, kernel_size =3, strides=(1, 1), padding='same', activation=None)(batch6)\n",
    "        conv7_2 = Conv2D(filters = 48, kernel_size =3, strides=(1, 1), padding='same', activation=None)(batch6)\n",
    "        mfm8 = tensorflow.keras.layers.maximum([conv7_1, conv7_2])\n",
    "\n",
    "        max9 = MaxPool2D(pool_size=(2, 2), strides=(2, 2), padding='same')(mfm8)\n",
    "        batch10 = BatchNormalization(axis=3, scale=False)(max9)\n",
    "\n",
    "        conv11_1 = Conv2D(filters = 48, kernel_size =1, strides=(1, 1), padding='same', activation=None)(batch10)\n",
    "        conv11_2 = Conv2D(filters = 48, kernel_size =1, strides=(1, 1), padding='same', activation=None)(batch10)\n",
    "        mfm12 = tensorflow.keras.layers.maximum([conv11_1, conv11_2])\n",
    "        batch13 = BatchNormalization(axis=3, scale=False)(mfm12)\n",
    "\n",
    "        conv14_1 = Conv2D(filters = 64, kernel_size =3, strides=(1, 1), padding='same', activation=None)(batch13)\n",
    "        conv14_2 = Conv2D(filters = 64, kernel_size =3, strides=(1, 1), padding='same', activation=None)(batch13)\n",
    "        mfm15 = tensorflow.keras.layers.maximum([conv14_1, conv14_2])\n",
    "\n",
    "        max16 = MaxPool2D(pool_size=(2, 2), strides=(2, 2), padding='same')(mfm15)\n",
    "\n",
    "        conv17_1 = Conv2D(filters = 64, kernel_size =1, strides=(1, 1), padding='same', activation=None)(max16)\n",
    "        conv17_2 = Conv2D(filters = 64, kernel_size =1, strides=(1, 1), padding='same', activation=None)(max16)\n",
    "        mfm18 = tensorflow.keras.layers.maximum([conv17_1, conv17_2])\n",
    "        batch19 = BatchNormalization(axis=3, scale=False)(mfm18)\n",
    "\n",
    "        conv20_1 = Conv2D(filters = 32, kernel_size =3, strides=(1, 1), padding='same', activation=None)(batch19)\n",
    "        conv20_2 = Conv2D(filters = 32, kernel_size =3, strides=(1, 1), padding='same', activation=None)(batch19)\n",
    "        mfm21 = tensorflow.keras.layers.maximum([conv20_1, conv20_2])\n",
    "        batch22 = BatchNormalization(axis=3, scale=False)(mfm21)\n",
    "\n",
    "        conv23_1 = Conv2D(filters = 32, kernel_size =1, strides=(1, 1), padding='same', activation=None)(batch22)\n",
    "        conv23_2 = Conv2D(filters = 32, kernel_size =1, strides=(1, 1), padding='same', activation=None)(batch22)\n",
    "        mfm24 = tensorflow.keras.layers.maximum([conv23_1, conv23_2])\n",
    "        batch25 = BatchNormalization(axis=3, scale=False)(mfm24)\n",
    "\n",
    "        conv26_1 = Conv2D(filters = 32, kernel_size =1, strides=(1, 1), padding='same', activation=None)(batch25)\n",
    "        conv26_2 = Conv2D(filters = 32, kernel_size =1, strides=(1, 1), padding='same', activation=None)(batch25)\n",
    "        mfm27 = tensorflow.keras.layers.maximum([conv26_1, conv26_2])\n",
    "        \n",
    "        max28 = MaxPool2D(pool_size=(2, 2), strides=(2, 2), padding='valid')(mfm27)\n",
    "        cqt2 = layers.GlobalAveragePooling2D()(max28)\n",
    "        cqt2 = Dropout(dp)(cqt2)\n",
    "\n",
    "    if use_stft :\n",
    "        ## stft embedding\n",
    "        conv1_1 = Conv2D(filters = 32, kernel_size =5, strides=(1, 1), padding='same', activation=None)(stft1)\n",
    "        conv1_2 = Conv2D(filters = 32, kernel_size =5, strides=(1, 1), padding='same', activation=None)(stft1)\n",
    "        mfm2 = tensorflow.keras.layers.maximum([conv1_1, conv1_2])\n",
    "        max3 = MaxPool2D(pool_size=(2, 2), strides=(2, 2), padding='same')(mfm2)\n",
    "        \n",
    "        conv4_1 = Conv2D(filters = 32, kernel_size =1, strides=(1, 1), padding='same', activation=None)(max3)\n",
    "        conv4_2 = Conv2D(filters = 32, kernel_size =1, strides=(1, 1), padding='same', activation=None)(max3)\n",
    "        mfm5 = tensorflow.keras.layers.maximum([conv4_1, conv4_2])\n",
    "        batch6 = BatchNormalization(axis=3, scale=False)(mfm5)\n",
    "        \n",
    "        conv7_1 = Conv2D(filters = 48, kernel_size =3, strides=(1, 1), padding='same', activation=None)(batch6)\n",
    "        conv7_2 = Conv2D(filters = 48, kernel_size =3, strides=(1, 1), padding='same', activation=None)(batch6)\n",
    "        mfm8 = tensorflow.keras.layers.maximum([conv7_1, conv7_2])\n",
    "        \n",
    "        max9 = MaxPool2D(pool_size=(2, 2), strides=(2, 2), padding='same')(mfm8)\n",
    "        batch10 = BatchNormalization(axis=3, scale=False)(max9)\n",
    "        \n",
    "        conv11_1 = Conv2D(filters = 48, kernel_size =1, strides=(1, 1), padding='same', activation=None)(batch10)\n",
    "        conv11_2 = Conv2D(filters = 48, kernel_size =1, strides=(1, 1), padding='same', activation=None)(batch10)\n",
    "        mfm12 = tensorflow.keras.layers.maximum([conv11_1, conv11_2])\n",
    "        batch13 = BatchNormalization(axis=3, scale=False)(mfm12)\n",
    "\n",
    "        conv14_1 = Conv2D(filters = 64, kernel_size =3, strides=(1, 1), padding='same', activation=None)(batch13)\n",
    "        conv14_2 = Conv2D(filters = 64, kernel_size =3, strides=(1, 1), padding='same', activation=None)(batch13)\n",
    "        mfm15 = tensorflow.keras.layers.maximum([conv14_1, conv14_2])\n",
    "        \n",
    "        max16 = MaxPool2D(pool_size=(2, 2), strides=(2, 2), padding='same')(mfm15)\n",
    "\n",
    "        conv17_1 = Conv2D(filters = 64, kernel_size =1, strides=(1, 1), padding='same', activation=None)(max16)\n",
    "        conv17_2 = Conv2D(filters = 64, kernel_size =1, strides=(1, 1), padding='same', activation=None)(max16)\n",
    "        mfm18 = tensorflow.keras.layers.maximum([conv17_1, conv17_2])\n",
    "        batch19 = BatchNormalization(axis=3, scale=False)(mfm18)\n",
    "\n",
    "        conv20_1 = Conv2D(filters = 32, kernel_size =3, strides=(1, 1), padding='same', activation=None)(batch19)\n",
    "        conv20_2 = Conv2D(filters = 32, kernel_size =3, strides=(1, 1), padding='same', activation=None)(batch19)\n",
    "        mfm21 = tensorflow.keras.layers.maximum([conv20_1, conv20_2])\n",
    "        batch22 = BatchNormalization(axis=3, scale=False)(mfm21)\n",
    "\n",
    "        conv23_1 = Conv2D(filters = 32, kernel_size =1, strides=(1, 1), padding='same', activation=None)(batch22)\n",
    "        conv23_2 = Conv2D(filters = 32, kernel_size =1, strides=(1, 1), padding='same', activation=None)(batch22)\n",
    "        mfm24 = tensorflow.keras.layers.maximum([conv23_1, conv23_2])\n",
    "        batch25 = BatchNormalization(axis=3, scale=False)(mfm24)\n",
    "\n",
    "        conv26_1 = Conv2D(filters = 32, kernel_size =1, strides=(1, 1), padding='same', activation=None)(batch25)\n",
    "        conv26_2 = Conv2D(filters = 32, kernel_size =1, strides=(1, 1), padding='same', activation=None)(batch25)\n",
    "        mfm27 = tensorflow.keras.layers.maximum([conv26_1, conv26_2])\n",
    "        \n",
    "        max28 = MaxPool2D(pool_size=(2, 2), strides=(2, 2), padding='valid')(mfm27)\n",
    "        stft2 = layers.GlobalAveragePooling2D()(max28)\n",
    "        stft2 = Dropout(dp)(stft2)\n",
    "    \n",
    "    \n",
    "    if use_mel and use_cqt and use_stft :\n",
    "        concat2 = layers.Concatenate()([mel2, cqt2, stft2])\n",
    "    if not use_mel and use_cqt and use_stft :\n",
    "        concat2 = layers.Concatenate()([cqt2, stft2])\n",
    "    if use_mel and not use_cqt and use_stft :\n",
    "        concat2 = layers.Concatenate()([mel2, stft2])\n",
    "    if use_mel and use_cqt and not use_stft :\n",
    "        concat2 = layers.Concatenate()([mel2, cqt2])\n",
    "    if not use_mel and not use_cqt and use_stft :  ## stft 만\n",
    "        concat2 = stft2\n",
    "    if use_mel and not use_cqt and not use_stft :  ### mel만\n",
    "        concat2 = mel2\n",
    "    if not use_mel and use_cqt and not use_stft :  ### cqt만\n",
    "        concat2 = cqt2\n",
    "\n",
    "    if ext :\n",
    "        \n",
    "        concat1 = layers.Concatenate()([age1, sex1, hw1, loc1, interval1,preg])\n",
    "        d1 = layers.Dense(10, activation='relu')(concat1)\n",
    "        concat2 = layers.Concatenate()([concat2, d1,wav2_2])\n",
    "        \n",
    "    if fc :\n",
    "        concat2 = layers.Dense(10, activation = \"relu\")(concat2)\n",
    "        concat2 = Dropout(dp)(concat2)\n",
    "        \n",
    "    if ord1 :\n",
    "        res1 = layers.Dense(2, activation = \"softmax\")(concat2)\n",
    "        \n",
    "        \n",
    "\n",
    "        \n",
    "    else :\n",
    "        res1 = layers.Dense(3, activation = \"softmax\")(concat2)\n",
    "\n",
    "        \n",
    "        \n",
    "        \n",
    "#     res2 = layers.Dense(2, activation = \"softmax\")(concat2)\n",
    "\n",
    "    model = keras.Model(inputs = [age,sex,hw,preg,loc,interval,wav2,mel1,stft1,cqt1] , outputs = res1 )\n",
    "    \n",
    "    model.compile(loss=['categorical_crossentropy'], optimizer='adam', metrics=['accuracy','AUC'])\n",
    "    return(model)\n",
    "\n"
   ]
  },
  {
   "cell_type": "code",
   "execution_count": null,
   "id": "37fd9dce",
   "metadata": {},
   "outputs": [],
   "source": []
  },
  {
   "cell_type": "code",
   "execution_count": null,
   "id": "087f2566",
   "metadata": {},
   "outputs": [],
   "source": []
  },
  {
   "cell_type": "code",
   "execution_count": 21,
   "id": "a572e818",
   "metadata": {},
   "outputs": [],
   "source": [
    "features_trn['wav2']=features_trn['wav2'][:,:,:,np.newaxis]"
   ]
  },
  {
   "cell_type": "code",
   "execution_count": 18,
   "id": "8c5c604b",
   "metadata": {},
   "outputs": [],
   "source": [
    "features_test['wav2']=features_test['wav2'][:,:,:,np.newaxis]"
   ]
  },
  {
   "cell_type": "code",
   "execution_count": null,
   "id": "2a48935e",
   "metadata": {},
   "outputs": [],
   "source": []
  },
  {
   "cell_type": "code",
   "execution_count": null,
   "id": "d77cd976",
   "metadata": {},
   "outputs": [],
   "source": []
  },
  {
   "cell_type": "code",
   "execution_count": 22,
   "id": "460de784",
   "metadata": {},
   "outputs": [],
   "source": [
    "mel_input_shape = features_trn['mel1'].shape[1:]"
   ]
  },
  {
   "cell_type": "code",
   "execution_count": 23,
   "id": "5d0291cb",
   "metadata": {},
   "outputs": [
    {
     "data": {
      "text/plain": [
       "(120, 313, 1)"
      ]
     },
     "execution_count": 23,
     "metadata": {},
     "output_type": "execute_result"
    }
   ],
   "source": [
    "mel_input_shape"
   ]
  },
  {
   "cell_type": "code",
   "execution_count": 24,
   "id": "ec06d09a",
   "metadata": {},
   "outputs": [],
   "source": [
    "cqt_input_shape = features_trn['cqt1'].shape[1:]"
   ]
  },
  {
   "cell_type": "code",
   "execution_count": 25,
   "id": "31599947",
   "metadata": {},
   "outputs": [
    {
     "data": {
      "text/plain": [
       "(1, 1, 1)"
      ]
     },
     "execution_count": 25,
     "metadata": {},
     "output_type": "execute_result"
    }
   ],
   "source": [
    "cqt_input_shape"
   ]
  },
  {
   "cell_type": "code",
   "execution_count": 26,
   "id": "861213a4",
   "metadata": {},
   "outputs": [],
   "source": [
    "stft_input_shape = features_trn['stft1'].shape[1:]"
   ]
  },
  {
   "cell_type": "code",
   "execution_count": 27,
   "id": "6e151a70",
   "metadata": {},
   "outputs": [
    {
     "data": {
      "text/plain": [
       "(1, 1, 1)"
      ]
     },
     "execution_count": 27,
     "metadata": {},
     "output_type": "execute_result"
    }
   ],
   "source": [
    "stft_input_shape"
   ]
  },
  {
   "cell_type": "code",
   "execution_count": 28,
   "id": "0b7eb1dd",
   "metadata": {},
   "outputs": [],
   "source": [
    "interval_input_shape= features_trn['interval'].shape[1:]"
   ]
  },
  {
   "cell_type": "code",
   "execution_count": 29,
   "id": "6c31f94d",
   "metadata": {
    "scrolled": true
   },
   "outputs": [
    {
     "data": {
      "text/plain": [
       "(115, 1)"
      ]
     },
     "execution_count": 29,
     "metadata": {},
     "output_type": "execute_result"
    }
   ],
   "source": [
    "interval_input_shape"
   ]
  },
  {
   "cell_type": "code",
   "execution_count": 30,
   "id": "c26d851e",
   "metadata": {},
   "outputs": [],
   "source": [
    "wav2_input_shape= features_trn['wav2'].shape[1:]"
   ]
  },
  {
   "cell_type": "code",
   "execution_count": 31,
   "id": "7553a46c",
   "metadata": {},
   "outputs": [
    {
     "data": {
      "text/plain": [
       "(224, 224, 1)"
      ]
     },
     "execution_count": 31,
     "metadata": {},
     "output_type": "execute_result"
    }
   ],
   "source": [
    "wav2_input_shape"
   ]
  },
  {
   "cell_type": "code",
   "execution_count": 32,
   "id": "a5be4116",
   "metadata": {},
   "outputs": [],
   "source": [
    "for i in range(len(features_trn['interval'])):\n",
    "    features_trn['interval'][i]=np.array(features_trn['interval'][i])"
   ]
  },
  {
   "cell_type": "code",
   "execution_count": 33,
   "id": "7e660a58",
   "metadata": {},
   "outputs": [],
   "source": [
    "for i in range(len(features_trn['mel1'])):\n",
    "    features_trn['mel1'][i]=np.array(features_trn['mel1'][i])"
   ]
  },
  {
   "cell_type": "code",
   "execution_count": null,
   "id": "46889e5a",
   "metadata": {},
   "outputs": [],
   "source": []
  },
  {
   "cell_type": "code",
   "execution_count": null,
   "id": "dbd58a49",
   "metadata": {},
   "outputs": [],
   "source": []
  },
  {
   "cell_type": "code",
   "execution_count": 43,
   "id": "5ffbed82",
   "metadata": {
    "scrolled": true
   },
   "outputs": [],
   "source": [
    "model1 = get_LCNN_o_4_dr_1(mel_input_shape, cqt_input_shape, stft_input_shape,interval_input_shape,wav2_input_shape, use_mel = use_mel, use_cqt = use_cqt, use_stft = use_stft, ord1 = ord1, dp = dp, fc = fc, ext = ext)"
   ]
  },
  {
   "cell_type": "code",
   "execution_count": 44,
   "id": "9ccc8685",
   "metadata": {},
   "outputs": [],
   "source": [
    "\n",
    "model2 = get_LCNN_o_4_dr_2(mel_input_shape, cqt_input_shape, stft_input_shape,interval_input_shape,wav2_input_shape, use_mel = use_mel, use_cqt = use_cqt, use_stft = use_stft, ord1 = ord1, dp = dp, fc = fc, ext = ext)\n"
   ]
  },
  {
   "cell_type": "code",
   "execution_count": 45,
   "id": "4e462fa8",
   "metadata": {},
   "outputs": [],
   "source": [
    "model1.layers[-5].trainable=False"
   ]
  },
  {
   "cell_type": "code",
   "execution_count": 46,
   "id": "f27671a6",
   "metadata": {},
   "outputs": [],
   "source": [
    "model2.layers[-5].trainable=False"
   ]
  },
  {
   "cell_type": "code",
   "execution_count": null,
   "id": "e8af7cc6",
   "metadata": {},
   "outputs": [],
   "source": []
  },
  {
   "cell_type": "code",
   "execution_count": 47,
   "id": "759a0cf3",
   "metadata": {},
   "outputs": [
    {
     "name": "stdout",
     "output_type": "stream",
     "text": [
      "Model: \"model_4\"\n",
      "__________________________________________________________________________________________________\n",
      " Layer (type)                   Output Shape         Param #     Connected to                     \n",
      "==================================================================================================\n",
      " mel (InputLayer)               [(None, 120, 313, 1  0           []                               \n",
      "                                )]                                                                \n",
      "                                                                                                  \n",
      " conv2d_77 (Conv2D)             (None, 120, 313, 32  832         ['mel[0][0]']                    \n",
      "                                )                                                                 \n",
      "                                                                                                  \n",
      " conv2d_78 (Conv2D)             (None, 120, 313, 32  832         ['mel[0][0]']                    \n",
      "                                )                                                                 \n",
      "                                                                                                  \n",
      " maximum_36 (Maximum)           (None, 120, 313, 32  0           ['conv2d_77[0][0]',              \n",
      "                                )                                 'conv2d_78[0][0]']              \n",
      "                                                                                                  \n",
      " max_pooling2d_16 (MaxPooling2D  (None, 60, 157, 32)  0          ['maximum_36[0][0]']             \n",
      " )                                                                                                \n",
      "                                                                                                  \n",
      " conv2d_79 (Conv2D)             (None, 60, 157, 32)  1056        ['max_pooling2d_16[0][0]']       \n",
      "                                                                                                  \n",
      " conv2d_80 (Conv2D)             (None, 60, 157, 32)  1056        ['max_pooling2d_16[0][0]']       \n",
      "                                                                                                  \n",
      " maximum_37 (Maximum)           (None, 60, 157, 32)  0           ['conv2d_79[0][0]',              \n",
      "                                                                  'conv2d_80[0][0]']              \n",
      "                                                                                                  \n",
      " interval (InputLayer)          [(None, 115, 1)]     0           []                               \n",
      "                                                                                                  \n",
      " batch_normalization_24 (BatchN  (None, 60, 157, 32)  96         ['maximum_37[0][0]']             \n",
      " ormalization)                                                                                    \n",
      "                                                                                                  \n",
      " conv1d_88 (Conv1D)             (None, 115, 9)       27          ['interval[0][0]']               \n",
      "                                                                                                  \n",
      " conv2d_81 (Conv2D)             (None, 60, 157, 48)  13872       ['batch_normalization_24[0][0]'] \n",
      "                                                                                                  \n",
      " conv2d_82 (Conv2D)             (None, 60, 157, 48)  13872       ['batch_normalization_24[0][0]'] \n",
      "                                                                                                  \n",
      " conv1d_89 (Conv1D)             (None, 115, 9)       171         ['conv1d_88[0][0]']              \n",
      "                                                                                                  \n",
      " maximum_38 (Maximum)           (None, 60, 157, 48)  0           ['conv2d_81[0][0]',              \n",
      "                                                                  'conv2d_82[0][0]']              \n",
      "                                                                                                  \n",
      " conv1d_90 (Conv1D)             (None, 115, 9)       171         ['conv1d_89[0][0]']              \n",
      "                                                                                                  \n",
      " max_pooling2d_17 (MaxPooling2D  (None, 30, 79, 48)  0           ['maximum_38[0][0]']             \n",
      " )                                                                                                \n",
      "                                                                                                  \n",
      " conv1d_91 (Conv1D)             (None, 115, 9)       171         ['conv1d_90[0][0]']              \n",
      "                                                                                                  \n",
      " batch_normalization_25 (BatchN  (None, 30, 79, 48)  144         ['max_pooling2d_17[0][0]']       \n",
      " ormalization)                                                                                    \n",
      "                                                                                                  \n",
      " conv1d_92 (Conv1D)             (None, 115, 9)       171         ['conv1d_91[0][0]']              \n",
      "                                                                                                  \n",
      " conv2d_83 (Conv2D)             (None, 30, 79, 48)   2352        ['batch_normalization_25[0][0]'] \n",
      "                                                                                                  \n",
      " conv2d_84 (Conv2D)             (None, 30, 79, 48)   2352        ['batch_normalization_25[0][0]'] \n",
      "                                                                                                  \n",
      " conv1d_93 (Conv1D)             (None, 115, 9)       171         ['conv1d_92[0][0]']              \n",
      "                                                                                                  \n",
      " maximum_39 (Maximum)           (None, 30, 79, 48)   0           ['conv2d_83[0][0]',              \n",
      "                                                                  'conv2d_84[0][0]']              \n",
      "                                                                                                  \n",
      " conv1d_94 (Conv1D)             (None, 115, 9)       171         ['conv1d_93[0][0]']              \n",
      "                                                                                                  \n",
      " batch_normalization_26 (BatchN  (None, 30, 79, 48)  144         ['maximum_39[0][0]']             \n",
      " ormalization)                                                                                    \n",
      "                                                                                                  \n",
      " conv1d_95 (Conv1D)             (None, 115, 9)       171         ['conv1d_94[0][0]']              \n",
      "                                                                                                  \n",
      " conv2d_85 (Conv2D)             (None, 30, 79, 64)   27712       ['batch_normalization_26[0][0]'] \n",
      "                                                                                                  \n",
      " conv2d_86 (Conv2D)             (None, 30, 79, 64)   27712       ['batch_normalization_26[0][0]'] \n",
      "                                                                                                  \n",
      " conv1d_96 (Conv1D)             (None, 115, 9)       171         ['conv1d_95[0][0]']              \n",
      "                                                                                                  \n",
      " maximum_40 (Maximum)           (None, 30, 79, 64)   0           ['conv2d_85[0][0]',              \n",
      "                                                                  'conv2d_86[0][0]']              \n",
      "                                                                                                  \n",
      " conv1d_97 (Conv1D)             (None, 115, 9)       171         ['conv1d_96[0][0]']              \n",
      "                                                                                                  \n",
      " max_pooling2d_18 (MaxPooling2D  (None, 15, 40, 64)  0           ['maximum_40[0][0]']             \n",
      " )                                                                                                \n",
      "                                                                                                  \n"
     ]
    },
    {
     "name": "stdout",
     "output_type": "stream",
     "text": [
      " conv1d_98 (Conv1D)             (None, 115, 9)       171         ['conv1d_97[0][0]']              \n",
      "                                                                                                  \n",
      " conv2d_87 (Conv2D)             (None, 15, 40, 64)   4160        ['max_pooling2d_18[0][0]']       \n",
      "                                                                                                  \n",
      " conv2d_88 (Conv2D)             (None, 15, 40, 64)   4160        ['max_pooling2d_18[0][0]']       \n",
      "                                                                                                  \n",
      " conv1d_99 (Conv1D)             (None, 115, 9)       171         ['conv1d_98[0][0]']              \n",
      "                                                                                                  \n",
      " maximum_41 (Maximum)           (None, 15, 40, 64)   0           ['conv2d_87[0][0]',              \n",
      "                                                                  'conv2d_88[0][0]']              \n",
      "                                                                                                  \n",
      " conv1d_100 (Conv1D)            (None, 115, 9)       171         ['conv1d_99[0][0]']              \n",
      "                                                                                                  \n",
      " batch_normalization_27 (BatchN  (None, 15, 40, 64)  192         ['maximum_41[0][0]']             \n",
      " ormalization)                                                                                    \n",
      "                                                                                                  \n",
      " conv1d_101 (Conv1D)            (None, 115, 9)       171         ['conv1d_100[0][0]']             \n",
      "                                                                                                  \n",
      " conv2d_89 (Conv2D)             (None, 15, 40, 32)   18464       ['batch_normalization_27[0][0]'] \n",
      "                                                                                                  \n",
      " conv2d_90 (Conv2D)             (None, 15, 40, 32)   18464       ['batch_normalization_27[0][0]'] \n",
      "                                                                                                  \n",
      " conv1d_102 (Conv1D)            (None, 115, 9)       171         ['conv1d_101[0][0]']             \n",
      "                                                                                                  \n",
      " maximum_42 (Maximum)           (None, 15, 40, 32)   0           ['conv2d_89[0][0]',              \n",
      "                                                                  'conv2d_90[0][0]']              \n",
      "                                                                                                  \n",
      " conv1d_103 (Conv1D)            (None, 115, 9)       171         ['conv1d_102[0][0]']             \n",
      "                                                                                                  \n",
      " batch_normalization_28 (BatchN  (None, 15, 40, 32)  96          ['maximum_42[0][0]']             \n",
      " ormalization)                                                                                    \n",
      "                                                                                                  \n",
      " conv1d_104 (Conv1D)            (None, 115, 9)       171         ['conv1d_103[0][0]']             \n",
      "                                                                                                  \n",
      " conv2d_91 (Conv2D)             (None, 15, 40, 32)   1056        ['batch_normalization_28[0][0]'] \n",
      "                                                                                                  \n",
      " conv2d_92 (Conv2D)             (None, 15, 40, 32)   1056        ['batch_normalization_28[0][0]'] \n",
      "                                                                                                  \n",
      " conv1d_105 (Conv1D)            (None, 115, 9)       171         ['conv1d_104[0][0]']             \n",
      "                                                                                                  \n",
      " maximum_43 (Maximum)           (None, 15, 40, 32)   0           ['conv2d_91[0][0]',              \n",
      "                                                                  'conv2d_92[0][0]']              \n",
      "                                                                                                  \n",
      " conv1d_106 (Conv1D)            (None, 115, 9)       171         ['conv1d_105[0][0]']             \n",
      "                                                                                                  \n",
      " batch_normalization_29 (BatchN  (None, 15, 40, 32)  96          ['maximum_43[0][0]']             \n",
      " ormalization)                                                                                    \n",
      "                                                                                                  \n",
      " conv1d_107 (Conv1D)            (None, 115, 9)       171         ['conv1d_106[0][0]']             \n",
      "                                                                                                  \n",
      " conv2d_93 (Conv2D)             (None, 15, 40, 32)   1056        ['batch_normalization_29[0][0]'] \n",
      "                                                                                                  \n",
      " conv2d_94 (Conv2D)             (None, 15, 40, 32)   1056        ['batch_normalization_29[0][0]'] \n",
      "                                                                                                  \n",
      " conv1d_108 (Conv1D)            (None, 115, 9)       171         ['conv1d_107[0][0]']             \n",
      "                                                                                                  \n",
      " maximum_44 (Maximum)           (None, 15, 40, 32)   0           ['conv2d_93[0][0]',              \n",
      "                                                                  'conv2d_94[0][0]']              \n",
      "                                                                                                  \n",
      " age_cat (InputLayer)           [(None, 6)]          0           []                               \n",
      "                                                                                                  \n",
      " sex_cat (InputLayer)           [(None, 2)]          0           []                               \n",
      "                                                                                                  \n",
      " height_weight (InputLayer)     [(None, 2)]          0           []                               \n",
      "                                                                                                  \n",
      " loc (InputLayer)               [(None, 5)]          0           []                               \n",
      "                                                                                                  \n",
      " conv1d_109 (Conv1D)            (None, 115, 9)       171         ['conv1d_108[0][0]']             \n",
      "                                                                                                  \n",
      " max_pooling2d_19 (MaxPooling2D  (None, 7, 20, 32)   0           ['maximum_44[0][0]']             \n",
      " )                                                                                                \n",
      "                                                                                                  \n",
      " dense_24 (Dense)               (None, 2)            14          ['age_cat[0][0]']                \n",
      "                                                                                                  \n",
      " dense_25 (Dense)               (None, 1)            3           ['sex_cat[0][0]']                \n",
      "                                                                                                  \n",
      " dense_26 (Dense)               (None, 1)            3           ['height_weight[0][0]']          \n",
      "                                                                                                  \n",
      " dense_27 (Dense)               (None, 3)            18          ['loc[0][0]']                    \n",
      "                                                                                                  \n",
      " global_max_pooling1d_4 (Global  (None, 9)           0           ['conv1d_109[0][0]']             \n",
      " MaxPooling1D)                                                                                    \n",
      "                                                                                                  \n"
     ]
    },
    {
     "name": "stdout",
     "output_type": "stream",
     "text": [
      " is_preg (InputLayer)           [(None, 1)]          0           []                               \n",
      "                                                                                                  \n",
      " wav2 (InputLayer)              [(None, 224, 224, 1  0           []                               \n",
      "                                )]                                                                \n",
      "                                                                                                  \n",
      " global_average_pooling2d_4 (Gl  (None, 32)          0           ['max_pooling2d_19[0][0]']       \n",
      " obalAveragePooling2D)                                                                            \n",
      "                                                                                                  \n",
      " concatenate_8 (Concatenate)    (None, 17)           0           ['dense_24[0][0]',               \n",
      "                                                                  'dense_25[0][0]',               \n",
      "                                                                  'dense_26[0][0]',               \n",
      "                                                                  'dense_27[0][0]',               \n",
      "                                                                  'global_max_pooling1d_4[0][0]', \n",
      "                                                                  'is_preg[0][0]']                \n",
      "                                                                                                  \n",
      " conv2d_76 (Conv2D)             (None, 224, 224, 3)  30          ['wav2[0][0]']                   \n",
      "                                                                                                  \n",
      " dropout_31 (Dropout)           (None, 32)           0           ['global_average_pooling2d_4[0][0\n",
      "                                                                 ]']                              \n",
      "                                                                                                  \n",
      " dense_28 (Dense)               (None, 10)           180         ['concatenate_8[0][0]']          \n",
      "                                                                                                  \n",
      " resnet50 (Functional)          (None, 2048)         23587712    ['conv2d_76[0][0]']              \n",
      "                                                                                                  \n",
      " concatenate_9 (Concatenate)    (None, 2090)         0           ['dropout_31[0][0]',             \n",
      "                                                                  'dense_28[0][0]',               \n",
      "                                                                  'resnet50[0][0]']               \n",
      "                                                                                                  \n",
      " stft (InputLayer)              [(None, 1, 1, 1)]    0           []                               \n",
      "                                                                                                  \n",
      " cqt (InputLayer)               [(None, 1, 1, 1)]    0           []                               \n",
      "                                                                                                  \n",
      " dense_29 (Dense)               (None, 2)            4182        ['concatenate_9[0][0]']          \n",
      "                                                                                                  \n",
      "==================================================================================================\n",
      "Total params: 23,737,648\n",
      "Trainable params: 149,424\n",
      "Non-trainable params: 23,588,224\n",
      "__________________________________________________________________________________________________\n"
     ]
    }
   ],
   "source": [
    "model1.summary()"
   ]
  },
  {
   "cell_type": "code",
   "execution_count": 48,
   "id": "8d2279ce",
   "metadata": {
    "scrolled": true
   },
   "outputs": [
    {
     "name": "stdout",
     "output_type": "stream",
     "text": [
      "Model: \"model_5\"\n",
      "__________________________________________________________________________________________________\n",
      " Layer (type)                   Output Shape         Param #     Connected to                     \n",
      "==================================================================================================\n",
      " mel (InputLayer)               [(None, 120, 313, 1  0           []                               \n",
      "                                )]                                                                \n",
      "                                                                                                  \n",
      " conv2d_96 (Conv2D)             (None, 120, 313, 32  832         ['mel[0][0]']                    \n",
      "                                )                                                                 \n",
      "                                                                                                  \n",
      " conv2d_97 (Conv2D)             (None, 120, 313, 32  832         ['mel[0][0]']                    \n",
      "                                )                                                                 \n",
      "                                                                                                  \n",
      " maximum_45 (Maximum)           (None, 120, 313, 32  0           ['conv2d_96[0][0]',              \n",
      "                                )                                 'conv2d_97[0][0]']              \n",
      "                                                                                                  \n",
      " max_pooling2d_20 (MaxPooling2D  (None, 60, 157, 32)  0          ['maximum_45[0][0]']             \n",
      " )                                                                                                \n",
      "                                                                                                  \n",
      " conv2d_98 (Conv2D)             (None, 60, 157, 32)  1056        ['max_pooling2d_20[0][0]']       \n",
      "                                                                                                  \n",
      " conv2d_99 (Conv2D)             (None, 60, 157, 32)  1056        ['max_pooling2d_20[0][0]']       \n",
      "                                                                                                  \n",
      " maximum_46 (Maximum)           (None, 60, 157, 32)  0           ['conv2d_98[0][0]',              \n",
      "                                                                  'conv2d_99[0][0]']              \n",
      "                                                                                                  \n",
      " interval (InputLayer)          [(None, 115, 1)]     0           []                               \n",
      "                                                                                                  \n",
      " batch_normalization_30 (BatchN  (None, 60, 157, 32)  96         ['maximum_46[0][0]']             \n",
      " ormalization)                                                                                    \n",
      "                                                                                                  \n",
      " conv1d_110 (Conv1D)            (None, 115, 9)       27          ['interval[0][0]']               \n",
      "                                                                                                  \n",
      " conv2d_100 (Conv2D)            (None, 60, 157, 48)  13872       ['batch_normalization_30[0][0]'] \n",
      "                                                                                                  \n",
      " conv2d_101 (Conv2D)            (None, 60, 157, 48)  13872       ['batch_normalization_30[0][0]'] \n",
      "                                                                                                  \n",
      " conv1d_111 (Conv1D)            (None, 115, 9)       171         ['conv1d_110[0][0]']             \n",
      "                                                                                                  \n",
      " maximum_47 (Maximum)           (None, 60, 157, 48)  0           ['conv2d_100[0][0]',             \n",
      "                                                                  'conv2d_101[0][0]']             \n",
      "                                                                                                  \n",
      " conv1d_112 (Conv1D)            (None, 115, 9)       171         ['conv1d_111[0][0]']             \n",
      "                                                                                                  \n",
      " max_pooling2d_21 (MaxPooling2D  (None, 30, 79, 48)  0           ['maximum_47[0][0]']             \n",
      " )                                                                                                \n",
      "                                                                                                  \n",
      " conv1d_113 (Conv1D)            (None, 115, 9)       171         ['conv1d_112[0][0]']             \n",
      "                                                                                                  \n",
      " batch_normalization_31 (BatchN  (None, 30, 79, 48)  144         ['max_pooling2d_21[0][0]']       \n",
      " ormalization)                                                                                    \n",
      "                                                                                                  \n",
      " conv1d_114 (Conv1D)            (None, 115, 9)       171         ['conv1d_113[0][0]']             \n",
      "                                                                                                  \n",
      " conv2d_102 (Conv2D)            (None, 30, 79, 48)   2352        ['batch_normalization_31[0][0]'] \n",
      "                                                                                                  \n",
      " conv2d_103 (Conv2D)            (None, 30, 79, 48)   2352        ['batch_normalization_31[0][0]'] \n",
      "                                                                                                  \n",
      " conv1d_115 (Conv1D)            (None, 115, 9)       171         ['conv1d_114[0][0]']             \n",
      "                                                                                                  \n",
      " maximum_48 (Maximum)           (None, 30, 79, 48)   0           ['conv2d_102[0][0]',             \n",
      "                                                                  'conv2d_103[0][0]']             \n",
      "                                                                                                  \n",
      " conv1d_116 (Conv1D)            (None, 115, 9)       171         ['conv1d_115[0][0]']             \n",
      "                                                                                                  \n",
      " batch_normalization_32 (BatchN  (None, 30, 79, 48)  144         ['maximum_48[0][0]']             \n",
      " ormalization)                                                                                    \n",
      "                                                                                                  \n",
      " conv1d_117 (Conv1D)            (None, 115, 9)       171         ['conv1d_116[0][0]']             \n",
      "                                                                                                  \n",
      " conv2d_104 (Conv2D)            (None, 30, 79, 64)   27712       ['batch_normalization_32[0][0]'] \n",
      "                                                                                                  \n",
      " conv2d_105 (Conv2D)            (None, 30, 79, 64)   27712       ['batch_normalization_32[0][0]'] \n",
      "                                                                                                  \n",
      " conv1d_118 (Conv1D)            (None, 115, 9)       171         ['conv1d_117[0][0]']             \n",
      "                                                                                                  \n",
      " maximum_49 (Maximum)           (None, 30, 79, 64)   0           ['conv2d_104[0][0]',             \n",
      "                                                                  'conv2d_105[0][0]']             \n",
      "                                                                                                  \n",
      " conv1d_119 (Conv1D)            (None, 115, 9)       171         ['conv1d_118[0][0]']             \n",
      "                                                                                                  \n",
      " max_pooling2d_22 (MaxPooling2D  (None, 15, 40, 64)  0           ['maximum_49[0][0]']             \n",
      " )                                                                                                \n",
      "                                                                                                  \n"
     ]
    },
    {
     "name": "stdout",
     "output_type": "stream",
     "text": [
      " conv1d_120 (Conv1D)            (None, 115, 9)       171         ['conv1d_119[0][0]']             \n",
      "                                                                                                  \n",
      " conv2d_106 (Conv2D)            (None, 15, 40, 64)   4160        ['max_pooling2d_22[0][0]']       \n",
      "                                                                                                  \n",
      " conv2d_107 (Conv2D)            (None, 15, 40, 64)   4160        ['max_pooling2d_22[0][0]']       \n",
      "                                                                                                  \n",
      " conv1d_121 (Conv1D)            (None, 115, 9)       171         ['conv1d_120[0][0]']             \n",
      "                                                                                                  \n",
      " maximum_50 (Maximum)           (None, 15, 40, 64)   0           ['conv2d_106[0][0]',             \n",
      "                                                                  'conv2d_107[0][0]']             \n",
      "                                                                                                  \n",
      " conv1d_122 (Conv1D)            (None, 115, 9)       171         ['conv1d_121[0][0]']             \n",
      "                                                                                                  \n",
      " batch_normalization_33 (BatchN  (None, 15, 40, 64)  192         ['maximum_50[0][0]']             \n",
      " ormalization)                                                                                    \n",
      "                                                                                                  \n",
      " conv1d_123 (Conv1D)            (None, 115, 9)       171         ['conv1d_122[0][0]']             \n",
      "                                                                                                  \n",
      " conv2d_108 (Conv2D)            (None, 15, 40, 32)   18464       ['batch_normalization_33[0][0]'] \n",
      "                                                                                                  \n",
      " conv2d_109 (Conv2D)            (None, 15, 40, 32)   18464       ['batch_normalization_33[0][0]'] \n",
      "                                                                                                  \n",
      " conv1d_124 (Conv1D)            (None, 115, 9)       171         ['conv1d_123[0][0]']             \n",
      "                                                                                                  \n",
      " maximum_51 (Maximum)           (None, 15, 40, 32)   0           ['conv2d_108[0][0]',             \n",
      "                                                                  'conv2d_109[0][0]']             \n",
      "                                                                                                  \n",
      " conv1d_125 (Conv1D)            (None, 115, 9)       171         ['conv1d_124[0][0]']             \n",
      "                                                                                                  \n",
      " batch_normalization_34 (BatchN  (None, 15, 40, 32)  96          ['maximum_51[0][0]']             \n",
      " ormalization)                                                                                    \n",
      "                                                                                                  \n",
      " conv1d_126 (Conv1D)            (None, 115, 9)       171         ['conv1d_125[0][0]']             \n",
      "                                                                                                  \n",
      " conv2d_110 (Conv2D)            (None, 15, 40, 32)   1056        ['batch_normalization_34[0][0]'] \n",
      "                                                                                                  \n",
      " conv2d_111 (Conv2D)            (None, 15, 40, 32)   1056        ['batch_normalization_34[0][0]'] \n",
      "                                                                                                  \n",
      " conv1d_127 (Conv1D)            (None, 115, 9)       171         ['conv1d_126[0][0]']             \n",
      "                                                                                                  \n",
      " maximum_52 (Maximum)           (None, 15, 40, 32)   0           ['conv2d_110[0][0]',             \n",
      "                                                                  'conv2d_111[0][0]']             \n",
      "                                                                                                  \n",
      " conv1d_128 (Conv1D)            (None, 115, 9)       171         ['conv1d_127[0][0]']             \n",
      "                                                                                                  \n",
      " batch_normalization_35 (BatchN  (None, 15, 40, 32)  96          ['maximum_52[0][0]']             \n",
      " ormalization)                                                                                    \n",
      "                                                                                                  \n",
      " conv1d_129 (Conv1D)            (None, 115, 9)       171         ['conv1d_128[0][0]']             \n",
      "                                                                                                  \n",
      " conv2d_112 (Conv2D)            (None, 15, 40, 32)   1056        ['batch_normalization_35[0][0]'] \n",
      "                                                                                                  \n",
      " conv2d_113 (Conv2D)            (None, 15, 40, 32)   1056        ['batch_normalization_35[0][0]'] \n",
      "                                                                                                  \n",
      " conv1d_130 (Conv1D)            (None, 115, 9)       171         ['conv1d_129[0][0]']             \n",
      "                                                                                                  \n",
      " maximum_53 (Maximum)           (None, 15, 40, 32)   0           ['conv2d_112[0][0]',             \n",
      "                                                                  'conv2d_113[0][0]']             \n",
      "                                                                                                  \n",
      " age_cat (InputLayer)           [(None, 6)]          0           []                               \n",
      "                                                                                                  \n",
      " sex_cat (InputLayer)           [(None, 2)]          0           []                               \n",
      "                                                                                                  \n",
      " height_weight (InputLayer)     [(None, 2)]          0           []                               \n",
      "                                                                                                  \n",
      " loc (InputLayer)               [(None, 5)]          0           []                               \n",
      "                                                                                                  \n",
      " conv1d_131 (Conv1D)            (None, 115, 9)       171         ['conv1d_130[0][0]']             \n",
      "                                                                                                  \n",
      " max_pooling2d_23 (MaxPooling2D  (None, 7, 20, 32)   0           ['maximum_53[0][0]']             \n",
      " )                                                                                                \n",
      "                                                                                                  \n",
      " dense_30 (Dense)               (None, 2)            14          ['age_cat[0][0]']                \n",
      "                                                                                                  \n",
      " dense_31 (Dense)               (None, 1)            3           ['sex_cat[0][0]']                \n",
      "                                                                                                  \n",
      " dense_32 (Dense)               (None, 1)            3           ['height_weight[0][0]']          \n",
      "                                                                                                  \n",
      " dense_33 (Dense)               (None, 3)            18          ['loc[0][0]']                    \n",
      "                                                                                                  \n",
      " global_max_pooling1d_5 (Global  (None, 9)           0           ['conv1d_131[0][0]']             \n",
      " MaxPooling1D)                                                                                    \n",
      "                                                                                                  \n"
     ]
    },
    {
     "name": "stdout",
     "output_type": "stream",
     "text": [
      " is_preg (InputLayer)           [(None, 1)]          0           []                               \n",
      "                                                                                                  \n",
      " wav2 (InputLayer)              [(None, 224, 224, 1  0           []                               \n",
      "                                )]                                                                \n",
      "                                                                                                  \n",
      " global_average_pooling2d_5 (Gl  (None, 32)          0           ['max_pooling2d_23[0][0]']       \n",
      " obalAveragePooling2D)                                                                            \n",
      "                                                                                                  \n",
      " concatenate_10 (Concatenate)   (None, 17)           0           ['dense_30[0][0]',               \n",
      "                                                                  'dense_31[0][0]',               \n",
      "                                                                  'dense_32[0][0]',               \n",
      "                                                                  'dense_33[0][0]',               \n",
      "                                                                  'global_max_pooling1d_5[0][0]', \n",
      "                                                                  'is_preg[0][0]']                \n",
      "                                                                                                  \n",
      " conv2d_95 (Conv2D)             (None, 224, 224, 3)  30          ['wav2[0][0]']                   \n",
      "                                                                                                  \n",
      " dropout_32 (Dropout)           (None, 32)           0           ['global_average_pooling2d_5[0][0\n",
      "                                                                 ]']                              \n",
      "                                                                                                  \n",
      " dense_34 (Dense)               (None, 10)           180         ['concatenate_10[0][0]']         \n",
      "                                                                                                  \n",
      " resnet50 (Functional)          (None, 2048)         23587712    ['conv2d_95[0][0]']              \n",
      "                                                                                                  \n",
      " concatenate_11 (Concatenate)   (None, 2090)         0           ['dropout_32[0][0]',             \n",
      "                                                                  'dense_34[0][0]',               \n",
      "                                                                  'resnet50[0][0]']               \n",
      "                                                                                                  \n",
      " stft (InputLayer)              [(None, 1, 1, 1)]    0           []                               \n",
      "                                                                                                  \n",
      " cqt (InputLayer)               [(None, 1, 1, 1)]    0           []                               \n",
      "                                                                                                  \n",
      " dense_35 (Dense)               (None, 2)            4182        ['concatenate_11[0][0]']         \n",
      "                                                                                                  \n",
      "==================================================================================================\n",
      "Total params: 23,737,648\n",
      "Trainable params: 149,424\n",
      "Non-trainable params: 23,588,224\n",
      "__________________________________________________________________________________________________\n"
     ]
    }
   ],
   "source": [
    "model2.summary()"
   ]
  },
  {
   "cell_type": "code",
   "execution_count": null,
   "id": "222b2f6f",
   "metadata": {},
   "outputs": [],
   "source": []
  },
  {
   "cell_type": "code",
   "execution_count": null,
   "id": "48bbf746",
   "metadata": {},
   "outputs": [],
   "source": []
  },
  {
   "cell_type": "code",
   "execution_count": 49,
   "id": "57a145f2",
   "metadata": {
    "scrolled": false
   },
   "outputs": [
    {
     "name": "stdout",
     "output_type": "stream",
     "text": [
      "Epoch 1/100\n",
      "40/40 [==============================] - 21s 393ms/step - loss: 1.4606 - accuracy: 0.7004 - auc: 0.7483 - val_loss: 30.6786 - val_accuracy: 0.7892 - val_auc: 0.7915 - lr: 9.9851e-04\n",
      "Epoch 2/100\n",
      "40/40 [==============================] - 15s 368ms/step - loss: 0.9602 - accuracy: 0.7984 - auc: 0.8588 - val_loss: 0.4965 - val_accuracy: 0.7908 - val_auc: 0.8496 - lr: 9.9831e-04\n",
      "Epoch 3/100\n",
      "40/40 [==============================] - 15s 364ms/step - loss: 1.1454 - accuracy: 0.8129 - auc: 0.8594 - val_loss: 433.4399 - val_accuracy: 0.7892 - val_auc: 0.7915 - lr: 9.9807e-04\n",
      "Epoch 4/100\n",
      "40/40 [==============================] - 15s 364ms/step - loss: 1.0041 - accuracy: 0.7918 - auc: 0.8509 - val_loss: 0.5303 - val_accuracy: 0.8162 - val_auc: 0.8528 - lr: 9.9781e-04\n",
      "Epoch 5/100\n",
      "40/40 [==============================] - 15s 365ms/step - loss: 0.9477 - accuracy: 0.7887 - auc: 0.8566 - val_loss: 0.7601 - val_accuracy: 0.4374 - val_auc: 0.4276 - lr: 9.9750e-04\n",
      "Epoch 6/100\n",
      "40/40 [==============================] - 15s 366ms/step - loss: 0.9434 - accuracy: 0.7914 - auc: 0.8466 - val_loss: 0.5129 - val_accuracy: 0.8146 - val_auc: 0.8601 - lr: 9.9716e-04\n",
      "Epoch 7/100\n",
      "40/40 [==============================] - 14s 362ms/step - loss: 0.9261 - accuracy: 0.8047 - auc: 0.8600 - val_loss: 0.4531 - val_accuracy: 0.8542 - val_auc: 0.8963 - lr: 9.9676e-04\n",
      "Epoch 8/100\n",
      "40/40 [==============================] - 14s 362ms/step - loss: 0.8974 - accuracy: 0.7949 - auc: 0.8572 - val_loss: 0.5208 - val_accuracy: 0.7623 - val_auc: 0.8639 - lr: 9.9632e-04\n",
      "Epoch 9/100\n",
      "40/40 [==============================] - 14s 362ms/step - loss: 0.8615 - accuracy: 0.7996 - auc: 0.8587 - val_loss: 0.4392 - val_accuracy: 0.8067 - val_auc: 0.8916 - lr: 9.9581e-04\n",
      "Epoch 10/100\n",
      "40/40 [==============================] - 14s 363ms/step - loss: 0.8099 - accuracy: 0.8270 - auc: 0.8882 - val_loss: 0.4553 - val_accuracy: 0.8177 - val_auc: 0.8802 - lr: 9.9523e-04\n",
      "Epoch 11/100\n",
      "40/40 [==============================] - 14s 363ms/step - loss: 0.8537 - accuracy: 0.8180 - auc: 0.8689 - val_loss: 0.4687 - val_accuracy: 0.8605 - val_auc: 0.9238 - lr: 9.9457e-04\n",
      "Epoch 12/100\n",
      "40/40 [==============================] - 15s 363ms/step - loss: 0.8130 - accuracy: 0.8238 - auc: 0.8619 - val_loss: 0.4317 - val_accuracy: 0.8510 - val_auc: 0.9013 - lr: 9.9382e-04\n",
      "Epoch 13/100\n",
      "40/40 [==============================] - 14s 363ms/step - loss: 0.8966 - accuracy: 0.7945 - auc: 0.8714 - val_loss: 1.1975 - val_accuracy: 0.7956 - val_auc: 0.8468 - lr: 9.9297e-04\n",
      "Epoch 14/100\n",
      "40/40 [==============================] - 14s 363ms/step - loss: 0.8171 - accuracy: 0.8152 - auc: 0.8750 - val_loss: 0.4003 - val_accuracy: 0.8447 - val_auc: 0.9023 - lr: 9.9200e-04\n",
      "Epoch 15/100\n",
      "40/40 [==============================] - 15s 363ms/step - loss: 0.8372 - accuracy: 0.8191 - auc: 0.8893 - val_loss: 0.3544 - val_accuracy: 0.8764 - val_auc: 0.9218 - lr: 9.9090e-04\n",
      "Epoch 16/100\n",
      "40/40 [==============================] - 15s 363ms/step - loss: 0.8578 - accuracy: 0.7953 - auc: 0.8691 - val_loss: 0.3920 - val_accuracy: 0.8843 - val_auc: 0.9356 - lr: 9.8965e-04\n",
      "Epoch 17/100\n",
      "40/40 [==============================] - 15s 364ms/step - loss: 0.8466 - accuracy: 0.8008 - auc: 0.8697 - val_loss: 0.5611 - val_accuracy: 0.8494 - val_auc: 0.9244 - lr: 9.8823e-04\n",
      "Epoch 18/100\n",
      "40/40 [==============================] - 15s 365ms/step - loss: 0.8550 - accuracy: 0.8086 - auc: 0.8787 - val_loss: 0.5441 - val_accuracy: 0.8653 - val_auc: 0.9258 - lr: 9.8662e-04\n",
      "Epoch 19/100\n",
      "40/40 [==============================] - 15s 364ms/step - loss: 0.8389 - accuracy: 0.8016 - auc: 0.8802 - val_loss: 0.4326 - val_accuracy: 0.8494 - val_auc: 0.9178 - lr: 9.8479e-04\n",
      "Epoch 20/100\n",
      "40/40 [==============================] - 15s 364ms/step - loss: 0.8008 - accuracy: 0.8152 - auc: 0.8771 - val_loss: 0.3893 - val_accuracy: 0.8732 - val_auc: 0.9422 - lr: 9.8271e-04\n",
      "Epoch 21/100\n",
      "40/40 [==============================] - 15s 364ms/step - loss: 0.8424 - accuracy: 0.8062 - auc: 0.8688 - val_loss: 0.7718 - val_accuracy: 0.3043 - val_auc: 0.3554 - lr: 9.8036e-04\n",
      "Epoch 22/100\n",
      "40/40 [==============================] - 15s 364ms/step - loss: 0.8914 - accuracy: 0.8078 - auc: 0.8635 - val_loss: 0.7255 - val_accuracy: 0.6197 - val_auc: 0.6674 - lr: 9.7769e-04\n",
      "Epoch 23/100\n",
      "40/40 [==============================] - 15s 364ms/step - loss: 0.7825 - accuracy: 0.8195 - auc: 0.8852 - val_loss: 0.3592 - val_accuracy: 0.8922 - val_auc: 0.9467 - lr: 9.7468e-04\n",
      "Epoch 24/100\n",
      "40/40 [==============================] - 15s 364ms/step - loss: 0.8067 - accuracy: 0.8258 - auc: 0.8792 - val_loss: 0.4024 - val_accuracy: 0.8479 - val_auc: 0.9145 - lr: 9.7126e-04\n",
      "Epoch 25/100\n",
      "40/40 [==============================] - 15s 364ms/step - loss: 0.8185 - accuracy: 0.8141 - auc: 0.8767 - val_loss: 0.5450 - val_accuracy: 0.7544 - val_auc: 0.8306 - lr: 9.6740e-04\n",
      "Epoch 26/100\n",
      "40/40 [==============================] - 15s 364ms/step - loss: 0.8329 - accuracy: 0.8102 - auc: 0.8709 - val_loss: 0.5804 - val_accuracy: 0.7005 - val_auc: 0.7713 - lr: 9.6305e-04\n",
      "Epoch 27/100\n",
      "40/40 [==============================] - 15s 364ms/step - loss: 0.8026 - accuracy: 0.8117 - auc: 0.8775 - val_loss: 0.3866 - val_accuracy: 0.8605 - val_auc: 0.9156 - lr: 9.5813e-04\n",
      "Epoch 28/100\n",
      "40/40 [==============================] - 15s 364ms/step - loss: 0.7813 - accuracy: 0.8277 - auc: 0.8930 - val_loss: 0.4534 - val_accuracy: 0.8748 - val_auc: 0.9454 - lr: 9.5260e-04\n",
      "Epoch 29/100\n",
      "40/40 [==============================] - 15s 364ms/step - loss: 0.8057 - accuracy: 0.8277 - auc: 0.8804 - val_loss: 0.3790 - val_accuracy: 0.8780 - val_auc: 0.9309 - lr: 9.4637e-04\n",
      "Epoch 30/100\n",
      "40/40 [==============================] - 15s 364ms/step - loss: 0.8188 - accuracy: 0.8074 - auc: 0.8859 - val_loss: 0.4309 - val_accuracy: 0.8526 - val_auc: 0.9398 - lr: 9.3939e-04\n",
      "Epoch 31/100\n",
      "40/40 [==============================] - 15s 363ms/step - loss: 0.8101 - accuracy: 0.8121 - auc: 0.8821 - val_loss: 0.3773 - val_accuracy: 0.8859 - val_auc: 0.9449 - lr: 9.3155e-04\n",
      "Epoch 32/100\n",
      "40/40 [==============================] - 15s 364ms/step - loss: 0.8062 - accuracy: 0.8051 - auc: 0.8911 - val_loss: 0.3988 - val_accuracy: 0.8827 - val_auc: 0.9372 - lr: 9.2279e-04\n",
      "Epoch 33/100\n",
      "40/40 [==============================] - 15s 364ms/step - loss: 0.8170 - accuracy: 0.8121 - auc: 0.8868 - val_loss: 0.4015 - val_accuracy: 0.8875 - val_auc: 0.9479 - lr: 9.1301e-04\n",
      "Epoch 34/100\n",
      "40/40 [==============================] - 15s 363ms/step - loss: 0.7883 - accuracy: 0.8184 - auc: 0.8915 - val_loss: 0.3359 - val_accuracy: 0.8875 - val_auc: 0.9416 - lr: 9.0213e-04\n",
      "Epoch 35/100\n",
      "40/40 [==============================] - 15s 364ms/step - loss: 0.7956 - accuracy: 0.8188 - auc: 0.8866 - val_loss: 0.3837 - val_accuracy: 0.9017 - val_auc: 0.9453 - lr: 8.9005e-04\n",
      "Epoch 36/100\n",
      "40/40 [==============================] - 15s 364ms/step - loss: 0.7848 - accuracy: 0.8148 - auc: 0.8957 - val_loss: 0.3465 - val_accuracy: 0.8843 - val_auc: 0.9443 - lr: 8.7669e-04\n",
      "Epoch 37/100\n",
      "40/40 [==============================] - 15s 363ms/step - loss: 0.8062 - accuracy: 0.8160 - auc: 0.8800 - val_loss: 0.8652 - val_accuracy: 0.2678 - val_auc: 0.3451 - lr: 8.6196e-04\n",
      "Epoch 38/100\n",
      "40/40 [==============================] - 15s 363ms/step - loss: 0.8053 - accuracy: 0.8191 - auc: 0.8834 - val_loss: 0.3881 - val_accuracy: 0.8906 - val_auc: 0.9471 - lr: 8.4578e-04\n",
      "Epoch 39/100\n",
      "40/40 [==============================] - 15s 364ms/step - loss: 0.7872 - accuracy: 0.8238 - auc: 0.8800 - val_loss: 0.7707 - val_accuracy: 0.3819 - val_auc: 0.4190 - lr: 8.2809e-04\n",
      "Epoch 40/100\n",
      "40/40 [==============================] - 15s 364ms/step - loss: 0.7931 - accuracy: 0.8184 - auc: 0.8908 - val_loss: 0.4058 - val_accuracy: 0.8970 - val_auc: 0.9436 - lr: 8.0883e-04\n",
      "Epoch 41/100\n",
      "40/40 [==============================] - 15s 363ms/step - loss: 0.7963 - accuracy: 0.8137 - auc: 0.8918 - val_loss: 0.5348 - val_accuracy: 0.7512 - val_auc: 0.8493 - lr: 7.8798e-04\n",
      "Epoch 42/100\n",
      "40/40 [==============================] - 15s 363ms/step - loss: 0.7815 - accuracy: 0.8199 - auc: 0.8940 - val_loss: 0.3884 - val_accuracy: 0.9002 - val_auc: 0.9441 - lr: 7.6551e-04\n",
      "Epoch 43/100\n"
     ]
    },
    {
     "name": "stdout",
     "output_type": "stream",
     "text": [
      "40/40 [==============================] - 15s 364ms/step - loss: 0.7959 - accuracy: 0.8234 - auc: 0.8953 - val_loss: 0.6087 - val_accuracy: 0.6545 - val_auc: 0.7313 - lr: 7.4146e-04\n",
      "Epoch 44/100\n",
      "40/40 [==============================] - 15s 364ms/step - loss: 0.7841 - accuracy: 0.8230 - auc: 0.8937 - val_loss: 0.4253 - val_accuracy: 0.8906 - val_auc: 0.9472 - lr: 7.1587e-04\n",
      "Epoch 45/100\n",
      "40/40 [==============================] - 15s 367ms/step - loss: 0.7795 - accuracy: 0.8258 - auc: 0.8920 - val_loss: 0.3618 - val_accuracy: 0.9002 - val_auc: 0.9246 - lr: 6.8882e-04\n",
      "Epoch 46/100\n",
      "40/40 [==============================] - 15s 365ms/step - loss: 0.7782 - accuracy: 0.8141 - auc: 0.9002 - val_loss: 0.5233 - val_accuracy: 0.7607 - val_auc: 0.8445 - lr: 6.6044e-04\n",
      "Epoch 47/100\n",
      "40/40 [==============================] - 15s 365ms/step - loss: 0.7976 - accuracy: 0.8117 - auc: 0.8960 - val_loss: 0.3607 - val_accuracy: 0.8780 - val_auc: 0.9255 - lr: 6.3088e-04\n",
      "Epoch 48/100\n",
      "40/40 [==============================] - 15s 365ms/step - loss: 0.7544 - accuracy: 0.8262 - auc: 0.8949 - val_loss: 0.7378 - val_accuracy: 0.4675 - val_auc: 0.4866 - lr: 6.0032e-04\n",
      "Epoch 49/100\n",
      "40/40 [==============================] - 15s 365ms/step - loss: 0.7528 - accuracy: 0.8344 - auc: 0.8968 - val_loss: 0.6113 - val_accuracy: 0.6434 - val_auc: 0.7170 - lr: 5.6899e-04\n",
      "Epoch 50/100\n",
      "40/40 [==============================] - 15s 365ms/step - loss: 0.7908 - accuracy: 0.8211 - auc: 0.9027 - val_loss: 0.4720 - val_accuracy: 0.8415 - val_auc: 0.9050 - lr: 5.3713e-04\n",
      "Epoch 51/100\n",
      "40/40 [==============================] - 15s 365ms/step - loss: 0.7632 - accuracy: 0.8246 - auc: 0.8956 - val_loss: 0.5356 - val_accuracy: 0.7544 - val_auc: 0.8437 - lr: 5.0500e-04\n",
      "Epoch 52/100\n",
      "40/40 [==============================] - 15s 364ms/step - loss: 0.7672 - accuracy: 0.8184 - auc: 0.8984 - val_loss: 0.3413 - val_accuracy: 0.9081 - val_auc: 0.9459 - lr: 4.7287e-04\n",
      "Epoch 53/100\n",
      "40/40 [==============================] - 15s 365ms/step - loss: 0.7844 - accuracy: 0.8168 - auc: 0.8977 - val_loss: 0.3322 - val_accuracy: 0.8748 - val_auc: 0.9422 - lr: 4.4101e-04\n",
      "Epoch 54/100\n",
      "40/40 [==============================] - 15s 365ms/step - loss: 0.7763 - accuracy: 0.8234 - auc: 0.8891 - val_loss: 0.3864 - val_accuracy: 0.8843 - val_auc: 0.9346 - lr: 4.0968e-04\n",
      "Epoch 55/100\n",
      "40/40 [==============================] - 15s 365ms/step - loss: 0.7958 - accuracy: 0.8148 - auc: 0.8992 - val_loss: 0.5327 - val_accuracy: 0.7385 - val_auc: 0.8458 - lr: 3.7912e-04\n",
      "Epoch 56/100\n",
      "40/40 [==============================] - 15s 365ms/step - loss: 0.7721 - accuracy: 0.8227 - auc: 0.9002 - val_loss: 0.4718 - val_accuracy: 0.8447 - val_auc: 0.9056 - lr: 3.4956e-04\n",
      "Epoch 57/100\n",
      "40/40 [==============================] - 15s 365ms/step - loss: 0.7806 - accuracy: 0.8238 - auc: 0.8956 - val_loss: 0.3619 - val_accuracy: 0.9081 - val_auc: 0.9467 - lr: 3.2118e-04\n",
      "Epoch 58/100\n",
      "40/40 [==============================] - 15s 365ms/step - loss: 0.7446 - accuracy: 0.8266 - auc: 0.9076 - val_loss: 0.5817 - val_accuracy: 0.6973 - val_auc: 0.7651 - lr: 2.9413e-04\n",
      "Epoch 59/100\n",
      "40/40 [==============================] - 15s 366ms/step - loss: 0.7795 - accuracy: 0.8168 - auc: 0.9032 - val_loss: 0.3600 - val_accuracy: 0.9081 - val_auc: 0.9465 - lr: 2.6854e-04\n",
      "Epoch 60/100\n",
      "40/40 [==============================] - 15s 365ms/step - loss: 0.7634 - accuracy: 0.8297 - auc: 0.9096 - val_loss: 0.4485 - val_accuracy: 0.8542 - val_auc: 0.9254 - lr: 2.4449e-04\n",
      "Epoch 61/100\n",
      "40/40 [==============================] - 15s 365ms/step - loss: 0.7634 - accuracy: 0.8238 - auc: 0.8980 - val_loss: 0.4593 - val_accuracy: 0.8732 - val_auc: 0.9246 - lr: 2.2202e-04\n",
      "Epoch 62/100\n",
      "40/40 [==============================] - 15s 365ms/step - loss: 0.7986 - accuracy: 0.8105 - auc: 0.9051 - val_loss: 0.4313 - val_accuracy: 0.8510 - val_auc: 0.9207 - lr: 2.0117e-04\n",
      "Epoch 63/100\n",
      "40/40 [==============================] - 15s 365ms/step - loss: 0.7514 - accuracy: 0.8301 - auc: 0.8946 - val_loss: 0.3362 - val_accuracy: 0.9097 - val_auc: 0.9460 - lr: 1.8191e-04\n",
      "Epoch 64/100\n",
      "40/40 [==============================] - 15s 365ms/step - loss: 0.7605 - accuracy: 0.8234 - auc: 0.9040 - val_loss: 0.3659 - val_accuracy: 0.9017 - val_auc: 0.9474 - lr: 1.6422e-04\n",
      "Epoch 65/100\n",
      "40/40 [==============================] - 15s 365ms/step - loss: 0.7917 - accuracy: 0.8207 - auc: 0.9002 - val_loss: 0.4278 - val_accuracy: 0.8748 - val_auc: 0.9305 - lr: 1.4804e-04\n",
      "Epoch 66/100\n",
      "40/40 [==============================] - 15s 365ms/step - loss: 0.7443 - accuracy: 0.8352 - auc: 0.9028 - val_loss: 0.3473 - val_accuracy: 0.9002 - val_auc: 0.9485 - lr: 1.3331e-04\n",
      "Epoch 67/100\n",
      "40/40 [==============================] - 15s 365ms/step - loss: 0.7451 - accuracy: 0.8297 - auc: 0.9076 - val_loss: 0.3673 - val_accuracy: 0.8986 - val_auc: 0.9468 - lr: 1.1995e-04\n",
      "Epoch 68/100\n",
      "40/40 [==============================] - 15s 365ms/step - loss: 0.7609 - accuracy: 0.8270 - auc: 0.9082 - val_loss: 0.3455 - val_accuracy: 0.9049 - val_auc: 0.9449 - lr: 1.0787e-04\n",
      "Epoch 69/100\n",
      "40/40 [==============================] - 15s 364ms/step - loss: 0.7713 - accuracy: 0.8289 - auc: 0.8994 - val_loss: 0.3890 - val_accuracy: 0.8827 - val_auc: 0.9408 - lr: 9.6985e-05\n",
      "Epoch 70/100\n",
      "40/40 [==============================] - 15s 366ms/step - loss: 0.7292 - accuracy: 0.8371 - auc: 0.9051 - val_loss: 0.3756 - val_accuracy: 0.8938 - val_auc: 0.9440 - lr: 8.7208e-05\n",
      "Epoch 71/100\n",
      "40/40 [==============================] - 15s 365ms/step - loss: 0.7525 - accuracy: 0.8324 - auc: 0.9068 - val_loss: 0.3861 - val_accuracy: 0.8906 - val_auc: 0.9437 - lr: 7.8447e-05\n",
      "Epoch 72/100\n",
      "40/40 [==============================] - 15s 365ms/step - loss: 0.7721 - accuracy: 0.8289 - auc: 0.9005 - val_loss: 0.3833 - val_accuracy: 0.8922 - val_auc: 0.9453 - lr: 7.0614e-05\n",
      "Epoch 73/100\n",
      "40/40 [==============================] - 15s 364ms/step - loss: 0.7597 - accuracy: 0.8305 - auc: 0.9046 - val_loss: 0.3843 - val_accuracy: 0.8922 - val_auc: 0.9447 - lr: 6.3625e-05\n",
      "Epoch 74/100\n",
      "40/40 [==============================] - 15s 365ms/step - loss: 0.7636 - accuracy: 0.8273 - auc: 0.9056 - val_loss: 0.4014 - val_accuracy: 0.8875 - val_auc: 0.9376 - lr: 5.7401e-05\n",
      "Epoch 75/100\n",
      "40/40 [==============================] - 15s 365ms/step - loss: 0.7532 - accuracy: 0.8293 - auc: 0.9060 - val_loss: 0.3773 - val_accuracy: 0.8938 - val_auc: 0.9407 - lr: 5.1867e-05\n",
      "Epoch 76/100\n",
      "40/40 [==============================] - 15s 366ms/step - loss: 0.7762 - accuracy: 0.8254 - auc: 0.9026 - val_loss: 0.3561 - val_accuracy: 0.8986 - val_auc: 0.9443 - lr: 4.6954e-05\n",
      "Epoch 77/100\n",
      "40/40 [==============================] - 15s 365ms/step - loss: 0.7598 - accuracy: 0.8305 - auc: 0.8995 - val_loss: 0.3755 - val_accuracy: 0.8986 - val_auc: 0.9430 - lr: 4.2597e-05\n",
      "Epoch 78/100\n",
      "40/40 [==============================] - 15s 365ms/step - loss: 0.7591 - accuracy: 0.8250 - auc: 0.9075 - val_loss: 0.3737 - val_accuracy: 0.8954 - val_auc: 0.9424 - lr: 3.8739e-05\n",
      "Epoch 79/100\n",
      "40/40 [==============================] - 15s 365ms/step - loss: 0.7634 - accuracy: 0.8266 - auc: 0.9075 - val_loss: 0.3633 - val_accuracy: 0.8986 - val_auc: 0.9439 - lr: 3.5325e-05\n",
      "Epoch 80/100\n",
      "40/40 [==============================] - 15s 365ms/step - loss: 0.7347 - accuracy: 0.8367 - auc: 0.9105 - val_loss: 0.3637 - val_accuracy: 0.8970 - val_auc: 0.9446 - lr: 3.2307e-05\n",
      "Epoch 81/100\n",
      "40/40 [==============================] - 15s 364ms/step - loss: 0.7668 - accuracy: 0.8262 - auc: 0.9060 - val_loss: 0.3683 - val_accuracy: 0.8970 - val_auc: 0.9442 - lr: 2.9642e-05\n",
      "Epoch 82/100\n",
      "40/40 [==============================] - 15s 365ms/step - loss: 0.7788 - accuracy: 0.8266 - auc: 0.8966 - val_loss: 0.3935 - val_accuracy: 0.8906 - val_auc: 0.9409 - lr: 2.7289e-05\n",
      "Epoch 83/100\n",
      "40/40 [==============================] - 15s 365ms/step - loss: 0.7610 - accuracy: 0.8211 - auc: 0.9064 - val_loss: 0.3907 - val_accuracy: 0.8875 - val_auc: 0.9413 - lr: 2.5214e-05\n",
      "Epoch 84/100\n",
      "40/40 [==============================] - 15s 366ms/step - loss: 0.7833 - accuracy: 0.8105 - auc: 0.9084 - val_loss: 0.4049 - val_accuracy: 0.8859 - val_auc: 0.9390 - lr: 2.3384e-05\n",
      "Epoch 85/100\n"
     ]
    },
    {
     "name": "stdout",
     "output_type": "stream",
     "text": [
      "40/40 [==============================] - 15s 365ms/step - loss: 0.7648 - accuracy: 0.8305 - auc: 0.9045 - val_loss: 0.3947 - val_accuracy: 0.8922 - val_auc: 0.9415 - lr: 2.1772e-05\n",
      "Epoch 86/100\n",
      "40/40 [==============================] - 15s 365ms/step - loss: 0.7238 - accuracy: 0.8309 - auc: 0.9111 - val_loss: 0.3771 - val_accuracy: 0.8938 - val_auc: 0.9437 - lr: 2.0352e-05\n",
      "Epoch 87/100\n",
      "40/40 [==============================] - 15s 365ms/step - loss: 0.7601 - accuracy: 0.8160 - auc: 0.9106 - val_loss: 0.3777 - val_accuracy: 0.8954 - val_auc: 0.9437 - lr: 1.9102e-05\n",
      "Epoch 88/100\n",
      "40/40 [==============================] - 15s 365ms/step - loss: 0.7751 - accuracy: 0.8238 - auc: 0.9041 - val_loss: 0.3824 - val_accuracy: 0.8938 - val_auc: 0.9434 - lr: 1.8001e-05\n",
      "Epoch 89/100\n",
      "40/40 [==============================] - 15s 365ms/step - loss: 0.7719 - accuracy: 0.8309 - auc: 0.8994 - val_loss: 0.3787 - val_accuracy: 0.8938 - val_auc: 0.9440 - lr: 1.7033e-05\n",
      "Epoch 90/100\n",
      "40/40 [==============================] - 15s 365ms/step - loss: 0.7733 - accuracy: 0.8211 - auc: 0.9036 - val_loss: 0.3746 - val_accuracy: 0.8970 - val_auc: 0.9444 - lr: 1.6181e-05\n",
      "Epoch 91/100\n",
      "40/40 [==============================] - 15s 365ms/step - loss: 0.7534 - accuracy: 0.8199 - auc: 0.9051 - val_loss: 0.3827 - val_accuracy: 0.8954 - val_auc: 0.9432 - lr: 1.5431e-05\n",
      "Epoch 92/100\n",
      "40/40 [==============================] - 15s 366ms/step - loss: 0.7613 - accuracy: 0.8336 - auc: 0.9091 - val_loss: 0.3756 - val_accuracy: 0.8938 - val_auc: 0.9440 - lr: 1.4773e-05\n",
      "Epoch 93/100\n",
      "40/40 [==============================] - 15s 365ms/step - loss: 0.7548 - accuracy: 0.8211 - auc: 0.9064 - val_loss: 0.3777 - val_accuracy: 0.8938 - val_auc: 0.9437 - lr: 1.4193e-05\n",
      "Epoch 94/100\n",
      "40/40 [==============================] - 15s 365ms/step - loss: 0.7595 - accuracy: 0.8305 - auc: 0.9142 - val_loss: 0.3866 - val_accuracy: 0.8922 - val_auc: 0.9420 - lr: 1.3684e-05\n",
      "Epoch 95/100\n",
      "40/40 [==============================] - 15s 365ms/step - loss: 0.7377 - accuracy: 0.8301 - auc: 0.9040 - val_loss: 0.3794 - val_accuracy: 0.8954 - val_auc: 0.9434 - lr: 1.3236e-05\n",
      "Epoch 96/100\n",
      "40/40 [==============================] - 15s 365ms/step - loss: 0.7298 - accuracy: 0.8352 - auc: 0.9110 - val_loss: 0.3783 - val_accuracy: 0.8954 - val_auc: 0.9430 - lr: 1.2843e-05\n",
      "Epoch 97/100\n",
      "40/40 [==============================] - 15s 365ms/step - loss: 0.7750 - accuracy: 0.8109 - auc: 0.9068 - val_loss: 0.3863 - val_accuracy: 0.8922 - val_auc: 0.9414 - lr: 1.2497e-05\n",
      "Epoch 98/100\n",
      "40/40 [==============================] - 15s 365ms/step - loss: 0.7703 - accuracy: 0.8230 - auc: 0.9045 - val_loss: 0.3845 - val_accuracy: 0.8906 - val_auc: 0.9416 - lr: 1.2193e-05\n",
      "Epoch 99/100\n",
      "40/40 [==============================] - 15s 365ms/step - loss: 0.7553 - accuracy: 0.8273 - auc: 0.9065 - val_loss: 0.3802 - val_accuracy: 0.8922 - val_auc: 0.9426 - lr: 1.1927e-05\n",
      "Epoch 100/100\n",
      "40/40 [==============================] - 15s 365ms/step - loss: 0.7620 - accuracy: 0.8227 - auc: 0.9109 - val_loss: 0.3928 - val_accuracy: 0.8922 - val_auc: 0.9399 - lr: 1.1692e-05\n"
     ]
    }
   ],
   "source": [
    "n_epoch = 100\n",
    "lr = LearningRateScheduler(lambda e: sigmoidal_decay(e, end=n_epoch))\n",
    "batch_size = 64\n",
    "\n",
    "if mixup :\n",
    "    beta_param = .7\n",
    "else :\n",
    "    beta_param = 0\n",
    "    \n",
    "\n",
    "\n",
    "params = {'batch_size': batch_size,\n",
    "          #          'input_shape': (100, 313, 1),\n",
    "          'shuffle': True,\n",
    "          'chaug': chaug,\n",
    "          'beta_param': beta_param,\n",
    "          'cout': cout\n",
    "#              'mixup': mixup,\n",
    "          #          'lowpass': [.5, [11,12,13,14,15,16,17,18]]\n",
    "          #          'highpass': [.5, [78,79,80,81,82,83,84,85]]\n",
    "#              'ranfilter2' : [3, [18,19,20,21,22,23]]\n",
    "          #           'dropblock' : [30, 100]\n",
    "          #'device' : device\n",
    "}\n",
    "\n",
    "if mixup :\n",
    "    params['mixup'] = mixup\n",
    "    params['ranfilter2'] = ranfil\n",
    "else :\n",
    "    params['cutout'] = cout\n",
    "\n",
    "params_no_shuffle = {'batch_size': batch_size,\n",
    "                     #          'input_shape': (100, 313, 1),\n",
    "                     'shuffle': False,\n",
    "                     'beta_param': 0.7,\n",
    "                     'mixup': False\n",
    "                     #'device': device\n",
    "}\n",
    "\n",
    "\n",
    "# TrainDGen_1 = Generator0([features_trn['age'],features_trn['sex'], features_trn['hw'], features_trn['preg'], features_trn['loc'],\n",
    "#             features_trn['interval'],features_trn['wav2'],features_trn['mel1'],features_trn['cqt1'],features_trn['stft1']], \n",
    "#            features_trn['mm_labels'],  ## our Y\n",
    "#                         **params)()\n",
    "\n",
    "\n",
    "# ValidDGen_1 = Generator0([features_test['age'],features_test['sex'], features_test['hw'], \n",
    "#                               features_test['preg'], features_test['loc'],features_test['interval'],\n",
    "#                               features_test['wav2'], features_test['mel1'],features_test['cqt1'],features_test['stft1']], \n",
    "#                              features_test['mm_labels'],  ## our Y\n",
    "                         \n",
    "#                          **params)()\n",
    "\n",
    "\n",
    "\n",
    "\n",
    "\n",
    "if ord1 :\n",
    "    class_weight = {0: mm_weight, 1: 1.}\n",
    "else :\n",
    "    class_weight = {0: mm_weight, 1: wunknown, 2:1.}\n",
    "\n",
    "    \n",
    "    \n",
    "    \n",
    "    \n",
    "\n",
    "if mixup :\n",
    "    \n",
    "    \n",
    "    TrainDGen_1 = Generator0([features_trn['age'],features_trn['sex'], features_trn['hw'], \n",
    "                              features_trn['preg'], features_trn['loc'],features_trn['interval'],\n",
    "                              features_trn['wav2'],features_trn['mel1'],features_trn['cqt1'],\n",
    "                              features_trn['stft1']],features_trn['mm_labels'],**params)()\n",
    "    \n",
    "    model1.fit(TrainDGen_1,\n",
    "               validation_data = ([features_test['age'],features_test['sex'], features_test['hw'], \n",
    "                                   features_test['preg'], features_test['loc'],features_test['interval'],\n",
    "                                   features_test['wav2'], features_test['mel1'],features_test['cqt1'],\n",
    "                                   features_test['stft1']],features_test['mm_labels']),\n",
    "               \n",
    "               callbacks=[lr],\n",
    "               steps_per_epoch=np.ceil(len(features_trn['mm_labels'])/batch_size),\n",
    "               class_weight=class_weight, \n",
    "               epochs = n_epoch)\n",
    "    \n",
    "    \n",
    " \n",
    "\n",
    "else :\n",
    "    TrainGen = DataGenerator([features_trn['age'],features_trn['sex'], features_trn['hw'], features_trn['preg'], features_trn['loc'], \n",
    "                      features_trn['mel1'],features_trn['cqt1'],features_trn['stft1']], \n",
    "                     mm_lbs_trn,  ## our Y\n",
    "                     **params)\n",
    "    model1.fit(TrainGen,\n",
    "               validation_data = ([features_test['age'],features_test['sex'], features_test['hw'], \n",
    "                                   features_test['preg'], features_test['loc'], features_test['mel1'], \n",
    "                                   features_test['cqt1'], features_test['stft1']], \n",
    "                                  mm_lbs_test), \n",
    "               callbacks=[lr],\n",
    "               #        steps_per_epoch=np.ceil(len(mm_lbs_trn)/64),\n",
    "               class_weight=class_weight, \n",
    "               epochs = n_epoch)\n",
    "\n"
   ]
  },
  {
   "cell_type": "code",
   "execution_count": null,
   "id": "e84f3f23",
   "metadata": {},
   "outputs": [],
   "source": []
  },
  {
   "cell_type": "code",
   "execution_count": 50,
   "id": "90bdd466",
   "metadata": {
    "scrolled": true
   },
   "outputs": [
    {
     "name": "stdout",
     "output_type": "stream",
     "text": [
      "Epoch 1/100\n",
      "40/40 [==============================] - 21s 384ms/step - loss: 2.4493 - accuracy: 0.4883 - auc: 0.5075 - val_loss: 1716.3695 - val_accuracy: 0.5008 - val_auc: 0.5008 - lr: 9.9851e-04\n",
      "Epoch 2/100\n",
      "40/40 [==============================] - 14s 353ms/step - loss: 1.3387 - accuracy: 0.4770 - auc: 0.4887 - val_loss: 73.5773 - val_accuracy: 0.5008 - val_auc: 0.5008 - lr: 9.9831e-04\n",
      "Epoch 3/100\n",
      "40/40 [==============================] - 14s 354ms/step - loss: 1.2720 - accuracy: 0.4785 - auc: 0.4901 - val_loss: 17.2866 - val_accuracy: 0.5008 - val_auc: 0.5008 - lr: 9.9807e-04\n",
      "Epoch 4/100\n",
      "40/40 [==============================] - 14s 355ms/step - loss: 1.2399 - accuracy: 0.4832 - auc: 0.5066 - val_loss: 3.2924 - val_accuracy: 0.5008 - val_auc: 0.5008 - lr: 9.9781e-04\n",
      "Epoch 5/100\n",
      "40/40 [==============================] - 14s 356ms/step - loss: 1.2314 - accuracy: 0.4719 - auc: 0.5067 - val_loss: 0.6761 - val_accuracy: 0.4992 - val_auc: 0.6099 - lr: 9.9750e-04\n",
      "Epoch 6/100\n",
      "40/40 [==============================] - 14s 356ms/step - loss: 1.2404 - accuracy: 0.4965 - auc: 0.5182 - val_loss: 2.6084 - val_accuracy: 0.4992 - val_auc: 0.5692 - lr: 9.9716e-04\n",
      "Epoch 7/100\n",
      "40/40 [==============================] - 14s 357ms/step - loss: 1.2355 - accuracy: 0.4852 - auc: 0.5185 - val_loss: 0.9387 - val_accuracy: 0.4992 - val_auc: 0.6108 - lr: 9.9676e-04\n",
      "Epoch 8/100\n",
      "40/40 [==============================] - 14s 357ms/step - loss: 1.2261 - accuracy: 0.4742 - auc: 0.5175 - val_loss: 0.6962 - val_accuracy: 0.4469 - val_auc: 0.4375 - lr: 9.9632e-04\n",
      "Epoch 9/100\n",
      "40/40 [==============================] - 14s 358ms/step - loss: 1.2162 - accuracy: 0.4730 - auc: 0.5185 - val_loss: 0.9627 - val_accuracy: 0.4992 - val_auc: 0.5803 - lr: 9.9581e-04\n",
      "Epoch 10/100\n",
      "40/40 [==============================] - 14s 358ms/step - loss: 1.2133 - accuracy: 0.4730 - auc: 0.5237 - val_loss: 0.7540 - val_accuracy: 0.4992 - val_auc: 0.5776 - lr: 9.9523e-04\n",
      "Epoch 11/100\n",
      "40/40 [==============================] - 14s 359ms/step - loss: 1.2050 - accuracy: 0.4824 - auc: 0.5329 - val_loss: 0.7053 - val_accuracy: 0.4992 - val_auc: 0.6190 - lr: 9.9457e-04\n",
      "Epoch 12/100\n",
      "40/40 [==============================] - 14s 359ms/step - loss: 1.2128 - accuracy: 0.4902 - auc: 0.5415 - val_loss: 0.8878 - val_accuracy: 0.4992 - val_auc: 0.6002 - lr: 9.9382e-04\n",
      "Epoch 13/100\n",
      "40/40 [==============================] - 14s 359ms/step - loss: 1.2179 - accuracy: 0.4852 - auc: 0.5227 - val_loss: 0.7086 - val_accuracy: 0.5119 - val_auc: 0.5418 - lr: 9.9297e-04\n",
      "Epoch 14/100\n",
      "40/40 [==============================] - 14s 359ms/step - loss: 1.1972 - accuracy: 0.4746 - auc: 0.5400 - val_loss: 0.6425 - val_accuracy: 0.6529 - val_auc: 0.7324 - lr: 9.9200e-04\n",
      "Epoch 15/100\n",
      "40/40 [==============================] - 14s 359ms/step - loss: 1.2155 - accuracy: 0.4719 - auc: 0.5240 - val_loss: 0.6647 - val_accuracy: 0.4992 - val_auc: 0.6161 - lr: 9.9090e-04\n",
      "Epoch 16/100\n",
      "40/40 [==============================] - 14s 360ms/step - loss: 1.2092 - accuracy: 0.4824 - auc: 0.5451 - val_loss: 0.6504 - val_accuracy: 0.5103 - val_auc: 0.6168 - lr: 9.8965e-04\n",
      "Epoch 17/100\n",
      "40/40 [==============================] - 14s 360ms/step - loss: 1.2171 - accuracy: 0.4762 - auc: 0.5251 - val_loss: 0.6750 - val_accuracy: 0.5008 - val_auc: 0.5660 - lr: 9.8823e-04\n",
      "Epoch 18/100\n",
      "40/40 [==============================] - 14s 360ms/step - loss: 1.2180 - accuracy: 0.4812 - auc: 0.5311 - val_loss: 0.6631 - val_accuracy: 0.5135 - val_auc: 0.6064 - lr: 9.8662e-04\n",
      "Epoch 19/100\n",
      "40/40 [==============================] - 14s 360ms/step - loss: 1.2155 - accuracy: 0.4805 - auc: 0.5364 - val_loss: 0.6539 - val_accuracy: 0.5737 - val_auc: 0.6469 - lr: 9.8479e-04\n",
      "Epoch 20/100\n",
      "40/40 [==============================] - 14s 361ms/step - loss: 1.2098 - accuracy: 0.4844 - auc: 0.5375 - val_loss: 0.7333 - val_accuracy: 0.5024 - val_auc: 0.5534 - lr: 9.8271e-04\n",
      "Epoch 21/100\n",
      "40/40 [==============================] - 14s 361ms/step - loss: 1.2050 - accuracy: 0.4914 - auc: 0.5498 - val_loss: 0.6830 - val_accuracy: 0.5055 - val_auc: 0.6033 - lr: 9.8036e-04\n",
      "Epoch 22/100\n",
      "40/40 [==============================] - 14s 361ms/step - loss: 1.2076 - accuracy: 0.4938 - auc: 0.5347 - val_loss: 0.6876 - val_accuracy: 0.5071 - val_auc: 0.6190 - lr: 9.7769e-04\n",
      "Epoch 23/100\n",
      "40/40 [==============================] - 14s 362ms/step - loss: 1.2034 - accuracy: 0.4906 - auc: 0.5565 - val_loss: 0.8739 - val_accuracy: 0.4992 - val_auc: 0.5725 - lr: 9.7468e-04\n",
      "Epoch 24/100\n",
      "40/40 [==============================] - 14s 361ms/step - loss: 1.2138 - accuracy: 0.4898 - auc: 0.5461 - val_loss: 0.6691 - val_accuracy: 0.5040 - val_auc: 0.6082 - lr: 9.7126e-04\n",
      "Epoch 25/100\n",
      "40/40 [==============================] - 14s 361ms/step - loss: 1.2137 - accuracy: 0.5066 - auc: 0.5347 - val_loss: 0.9880 - val_accuracy: 0.4992 - val_auc: 0.5952 - lr: 9.6740e-04\n",
      "Epoch 26/100\n",
      "40/40 [==============================] - 14s 361ms/step - loss: 1.2028 - accuracy: 0.4965 - auc: 0.5570 - val_loss: 0.8614 - val_accuracy: 0.4992 - val_auc: 0.6196 - lr: 9.6305e-04\n",
      "Epoch 27/100\n",
      "40/40 [==============================] - 14s 361ms/step - loss: 1.1992 - accuracy: 0.4859 - auc: 0.5450 - val_loss: 0.6253 - val_accuracy: 0.6513 - val_auc: 0.7254 - lr: 9.5813e-04\n",
      "Epoch 28/100\n",
      "40/40 [==============================] - 14s 362ms/step - loss: 1.1963 - accuracy: 0.4863 - auc: 0.5446 - val_loss: 0.6920 - val_accuracy: 0.5071 - val_auc: 0.5946 - lr: 9.5260e-04\n",
      "Epoch 29/100\n",
      "40/40 [==============================] - 14s 362ms/step - loss: 1.2033 - accuracy: 0.4816 - auc: 0.5404 - val_loss: 0.6941 - val_accuracy: 0.5008 - val_auc: 0.5858 - lr: 9.4637e-04\n",
      "Epoch 30/100\n",
      "40/40 [==============================] - 14s 363ms/step - loss: 1.2125 - accuracy: 0.4930 - auc: 0.5412 - val_loss: 0.6918 - val_accuracy: 0.5087 - val_auc: 0.6040 - lr: 9.3939e-04\n",
      "Epoch 31/100\n",
      "40/40 [==============================] - 14s 363ms/step - loss: 1.2101 - accuracy: 0.4898 - auc: 0.5435 - val_loss: 0.8651 - val_accuracy: 0.4992 - val_auc: 0.5992 - lr: 9.3155e-04\n",
      "Epoch 32/100\n",
      "40/40 [==============================] - 14s 362ms/step - loss: 1.2076 - accuracy: 0.5063 - auc: 0.5541 - val_loss: 0.7057 - val_accuracy: 0.4992 - val_auc: 0.6142 - lr: 9.2279e-04\n",
      "Epoch 33/100\n",
      "40/40 [==============================] - 14s 362ms/step - loss: 1.2227 - accuracy: 0.4945 - auc: 0.5318 - val_loss: 0.6752 - val_accuracy: 0.5277 - val_auc: 0.5766 - lr: 9.1301e-04\n",
      "Epoch 34/100\n",
      "40/40 [==============================] - 14s 363ms/step - loss: 1.1976 - accuracy: 0.4832 - auc: 0.5471 - val_loss: 0.7166 - val_accuracy: 0.5024 - val_auc: 0.5895 - lr: 9.0213e-04\n",
      "Epoch 35/100\n",
      "40/40 [==============================] - 15s 365ms/step - loss: 1.1955 - accuracy: 0.4910 - auc: 0.5505 - val_loss: 0.7114 - val_accuracy: 0.5008 - val_auc: 0.5336 - lr: 8.9005e-04\n",
      "Epoch 36/100\n",
      "40/40 [==============================] - 14s 362ms/step - loss: 1.1995 - accuracy: 0.4988 - auc: 0.5547 - val_loss: 0.8681 - val_accuracy: 0.4992 - val_auc: 0.5718 - lr: 8.7669e-04\n",
      "Epoch 37/100\n",
      "40/40 [==============================] - 15s 363ms/step - loss: 1.1887 - accuracy: 0.4777 - auc: 0.5500 - val_loss: 0.7797 - val_accuracy: 0.5040 - val_auc: 0.6115 - lr: 8.6196e-04\n",
      "Epoch 38/100\n",
      "40/40 [==============================] - 14s 363ms/step - loss: 1.2102 - accuracy: 0.4938 - auc: 0.5487 - val_loss: 0.6773 - val_accuracy: 0.5024 - val_auc: 0.5881 - lr: 8.4578e-04\n",
      "Epoch 39/100\n",
      "40/40 [==============================] - 15s 363ms/step - loss: 1.1728 - accuracy: 0.4883 - auc: 0.5743 - val_loss: 0.7685 - val_accuracy: 0.4992 - val_auc: 0.5789 - lr: 8.2809e-04\n",
      "Epoch 40/100\n",
      "40/40 [==============================] - 14s 363ms/step - loss: 1.1859 - accuracy: 0.4984 - auc: 0.5592 - val_loss: 0.6514 - val_accuracy: 0.5547 - val_auc: 0.6226 - lr: 8.0883e-04\n",
      "Epoch 41/100\n",
      "40/40 [==============================] - 14s 363ms/step - loss: 1.1930 - accuracy: 0.4965 - auc: 0.5646 - val_loss: 0.6344 - val_accuracy: 0.6117 - val_auc: 0.6822 - lr: 7.8798e-04\n",
      "Epoch 42/100\n",
      "40/40 [==============================] - 14s 363ms/step - loss: 1.1758 - accuracy: 0.4918 - auc: 0.5728 - val_loss: 0.6838 - val_accuracy: 0.5277 - val_auc: 0.6025 - lr: 7.6551e-04\n",
      "Epoch 43/100\n"
     ]
    },
    {
     "name": "stdout",
     "output_type": "stream",
     "text": [
      "40/40 [==============================] - 14s 363ms/step - loss: 1.1976 - accuracy: 0.4848 - auc: 0.5576 - val_loss: 0.8805 - val_accuracy: 0.4992 - val_auc: 0.5949 - lr: 7.4146e-04\n",
      "Epoch 44/100\n",
      "40/40 [==============================] - 15s 364ms/step - loss: 1.1796 - accuracy: 0.5004 - auc: 0.5742 - val_loss: 0.6693 - val_accuracy: 0.5563 - val_auc: 0.6255 - lr: 7.1587e-04\n",
      "Epoch 45/100\n",
      "40/40 [==============================] - 15s 363ms/step - loss: 1.1989 - accuracy: 0.5102 - auc: 0.5663 - val_loss: 0.6898 - val_accuracy: 0.5230 - val_auc: 0.5994 - lr: 6.8882e-04\n",
      "Epoch 46/100\n",
      "40/40 [==============================] - 15s 363ms/step - loss: 1.1846 - accuracy: 0.5020 - auc: 0.5691 - val_loss: 0.6216 - val_accuracy: 0.6513 - val_auc: 0.7241 - lr: 6.6044e-04\n",
      "Epoch 47/100\n",
      "40/40 [==============================] - 15s 363ms/step - loss: 1.1913 - accuracy: 0.4949 - auc: 0.5640 - val_loss: 0.7248 - val_accuracy: 0.5135 - val_auc: 0.5986 - lr: 6.3088e-04\n",
      "Epoch 48/100\n",
      "40/40 [==============================] - 15s 363ms/step - loss: 1.1928 - accuracy: 0.4926 - auc: 0.5617 - val_loss: 0.6773 - val_accuracy: 0.5515 - val_auc: 0.6206 - lr: 6.0032e-04\n",
      "Epoch 49/100\n",
      "40/40 [==============================] - 15s 364ms/step - loss: 1.1964 - accuracy: 0.5117 - auc: 0.5776 - val_loss: 0.6409 - val_accuracy: 0.5927 - val_auc: 0.6481 - lr: 5.6899e-04\n",
      "Epoch 50/100\n",
      "40/40 [==============================] - 15s 364ms/step - loss: 1.1748 - accuracy: 0.4898 - auc: 0.5726 - val_loss: 0.7004 - val_accuracy: 0.5357 - val_auc: 0.5915 - lr: 5.3713e-04\n",
      "Epoch 51/100\n",
      "40/40 [==============================] - 15s 365ms/step - loss: 1.1908 - accuracy: 0.5172 - auc: 0.5802 - val_loss: 0.6193 - val_accuracy: 0.6355 - val_auc: 0.7066 - lr: 5.0500e-04\n",
      "Epoch 52/100\n",
      "40/40 [==============================] - 15s 364ms/step - loss: 1.1787 - accuracy: 0.5121 - auc: 0.5828 - val_loss: 0.6935 - val_accuracy: 0.5404 - val_auc: 0.5872 - lr: 4.7287e-04\n",
      "Epoch 53/100\n",
      "40/40 [==============================] - 15s 364ms/step - loss: 1.1707 - accuracy: 0.5098 - auc: 0.5862 - val_loss: 0.6636 - val_accuracy: 0.5404 - val_auc: 0.6195 - lr: 4.4101e-04\n",
      "Epoch 54/100\n",
      "40/40 [==============================] - 15s 364ms/step - loss: 1.1815 - accuracy: 0.5043 - auc: 0.5632 - val_loss: 0.8337 - val_accuracy: 0.5008 - val_auc: 0.5839 - lr: 4.0968e-04\n",
      "Epoch 55/100\n",
      "40/40 [==============================] - 15s 364ms/step - loss: 1.1617 - accuracy: 0.5047 - auc: 0.5906 - val_loss: 0.6860 - val_accuracy: 0.5404 - val_auc: 0.5903 - lr: 3.7912e-04\n",
      "Epoch 56/100\n",
      "40/40 [==============================] - 15s 364ms/step - loss: 1.1660 - accuracy: 0.4965 - auc: 0.5897 - val_loss: 0.7238 - val_accuracy: 0.5452 - val_auc: 0.5900 - lr: 3.4956e-04\n",
      "Epoch 57/100\n",
      "40/40 [==============================] - 15s 365ms/step - loss: 1.1682 - accuracy: 0.5230 - auc: 0.5874 - val_loss: 0.6841 - val_accuracy: 0.5404 - val_auc: 0.6153 - lr: 3.2118e-04\n",
      "Epoch 58/100\n",
      "40/40 [==============================] - 15s 367ms/step - loss: 1.1645 - accuracy: 0.5172 - auc: 0.5981 - val_loss: 0.7156 - val_accuracy: 0.5230 - val_auc: 0.5947 - lr: 2.9413e-04\n",
      "Epoch 59/100\n",
      "40/40 [==============================] - 15s 366ms/step - loss: 1.1698 - accuracy: 0.5141 - auc: 0.5839 - val_loss: 0.6515 - val_accuracy: 0.5848 - val_auc: 0.6484 - lr: 2.6854e-04\n",
      "Epoch 60/100\n",
      "40/40 [==============================] - 15s 364ms/step - loss: 1.1568 - accuracy: 0.5223 - auc: 0.5976 - val_loss: 0.6961 - val_accuracy: 0.5452 - val_auc: 0.6098 - lr: 2.4449e-04\n",
      "Epoch 61/100\n",
      "40/40 [==============================] - 15s 364ms/step - loss: 1.1569 - accuracy: 0.5242 - auc: 0.6055 - val_loss: 0.6339 - val_accuracy: 0.6244 - val_auc: 0.6789 - lr: 2.2202e-04\n",
      "Epoch 62/100\n",
      "40/40 [==============================] - 15s 364ms/step - loss: 1.1463 - accuracy: 0.5371 - auc: 0.6149 - val_loss: 0.6404 - val_accuracy: 0.5927 - val_auc: 0.6587 - lr: 2.0117e-04\n",
      "Epoch 63/100\n",
      "40/40 [==============================] - 15s 364ms/step - loss: 1.1551 - accuracy: 0.5434 - auc: 0.6234 - val_loss: 0.7723 - val_accuracy: 0.5119 - val_auc: 0.5759 - lr: 1.8191e-04\n",
      "Epoch 64/100\n",
      "40/40 [==============================] - 15s 364ms/step - loss: 1.1551 - accuracy: 0.5383 - auc: 0.6152 - val_loss: 0.7004 - val_accuracy: 0.5372 - val_auc: 0.5992 - lr: 1.6422e-04\n",
      "Epoch 65/100\n",
      "40/40 [==============================] - 15s 364ms/step - loss: 1.1716 - accuracy: 0.5449 - auc: 0.6161 - val_loss: 0.6778 - val_accuracy: 0.5642 - val_auc: 0.6192 - lr: 1.4804e-04\n",
      "Epoch 66/100\n",
      "40/40 [==============================] - 15s 364ms/step - loss: 1.1534 - accuracy: 0.5551 - auc: 0.6205 - val_loss: 0.6508 - val_accuracy: 0.5880 - val_auc: 0.6516 - lr: 1.3331e-04\n",
      "Epoch 67/100\n",
      "40/40 [==============================] - 15s 364ms/step - loss: 1.1605 - accuracy: 0.5379 - auc: 0.6181 - val_loss: 0.6361 - val_accuracy: 0.6307 - val_auc: 0.6803 - lr: 1.1995e-04\n",
      "Epoch 68/100\n",
      "40/40 [==============================] - 15s 364ms/step - loss: 1.1445 - accuracy: 0.5316 - auc: 0.6159 - val_loss: 0.6590 - val_accuracy: 0.5975 - val_auc: 0.6434 - lr: 1.0787e-04\n",
      "Epoch 69/100\n",
      "40/40 [==============================] - 15s 364ms/step - loss: 1.1360 - accuracy: 0.5418 - auc: 0.6278 - val_loss: 0.6899 - val_accuracy: 0.5705 - val_auc: 0.6083 - lr: 9.6985e-05\n",
      "Epoch 70/100\n",
      "40/40 [==============================] - 15s 363ms/step - loss: 1.1310 - accuracy: 0.5504 - auc: 0.6308 - val_loss: 0.7236 - val_accuracy: 0.5388 - val_auc: 0.5875 - lr: 8.7208e-05\n",
      "Epoch 71/100\n",
      "40/40 [==============================] - 15s 364ms/step - loss: 1.1374 - accuracy: 0.5477 - auc: 0.6509 - val_loss: 0.6813 - val_accuracy: 0.5547 - val_auc: 0.6210 - lr: 7.8447e-05\n",
      "Epoch 72/100\n",
      "40/40 [==============================] - 15s 364ms/step - loss: 1.1335 - accuracy: 0.5648 - auc: 0.6613 - val_loss: 0.6975 - val_accuracy: 0.5483 - val_auc: 0.6112 - lr: 7.0614e-05\n",
      "Epoch 73/100\n",
      "40/40 [==============================] - 15s 364ms/step - loss: 1.1260 - accuracy: 0.5609 - auc: 0.6465 - val_loss: 0.6638 - val_accuracy: 0.5753 - val_auc: 0.6370 - lr: 6.3625e-05\n",
      "Epoch 74/100\n",
      "40/40 [==============================] - 15s 364ms/step - loss: 1.1200 - accuracy: 0.5660 - auc: 0.6561 - val_loss: 0.6745 - val_accuracy: 0.5800 - val_auc: 0.6346 - lr: 5.7401e-05\n",
      "Epoch 75/100\n",
      "40/40 [==============================] - 15s 364ms/step - loss: 1.1276 - accuracy: 0.5594 - auc: 0.6523 - val_loss: 0.7258 - val_accuracy: 0.5277 - val_auc: 0.6097 - lr: 5.1867e-05\n",
      "Epoch 76/100\n",
      "40/40 [==============================] - 15s 364ms/step - loss: 1.1095 - accuracy: 0.5855 - auc: 0.6707 - val_loss: 0.6847 - val_accuracy: 0.5769 - val_auc: 0.6343 - lr: 4.6954e-05\n",
      "Epoch 77/100\n",
      "40/40 [==============================] - 15s 364ms/step - loss: 1.0982 - accuracy: 0.5801 - auc: 0.6789 - val_loss: 0.6858 - val_accuracy: 0.5895 - val_auc: 0.6295 - lr: 4.2597e-05\n",
      "Epoch 78/100\n",
      "40/40 [==============================] - 15s 364ms/step - loss: 1.1186 - accuracy: 0.5723 - auc: 0.6714 - val_loss: 0.6884 - val_accuracy: 0.5784 - val_auc: 0.6226 - lr: 3.8739e-05\n",
      "Epoch 79/100\n",
      "40/40 [==============================] - 15s 364ms/step - loss: 1.1108 - accuracy: 0.5645 - auc: 0.6625 - val_loss: 0.7005 - val_accuracy: 0.5721 - val_auc: 0.6210 - lr: 3.5325e-05\n",
      "Epoch 80/100\n",
      "40/40 [==============================] - 15s 364ms/step - loss: 1.1251 - accuracy: 0.5816 - auc: 0.6819 - val_loss: 0.6867 - val_accuracy: 0.5911 - val_auc: 0.6265 - lr: 3.2307e-05\n",
      "Epoch 81/100\n",
      "40/40 [==============================] - 15s 364ms/step - loss: 1.1123 - accuracy: 0.5613 - auc: 0.6590 - val_loss: 0.7094 - val_accuracy: 0.5610 - val_auc: 0.6187 - lr: 2.9642e-05\n",
      "Epoch 82/100\n",
      "40/40 [==============================] - 15s 364ms/step - loss: 1.1122 - accuracy: 0.5777 - auc: 0.6865 - val_loss: 0.7085 - val_accuracy: 0.5578 - val_auc: 0.6096 - lr: 2.7289e-05\n",
      "Epoch 83/100\n",
      "40/40 [==============================] - 15s 364ms/step - loss: 1.1063 - accuracy: 0.5855 - auc: 0.6856 - val_loss: 0.7042 - val_accuracy: 0.5674 - val_auc: 0.6187 - lr: 2.5214e-05\n",
      "Epoch 84/100\n",
      "40/40 [==============================] - 15s 364ms/step - loss: 1.1018 - accuracy: 0.5730 - auc: 0.6749 - val_loss: 0.6773 - val_accuracy: 0.5864 - val_auc: 0.6339 - lr: 2.3384e-05\n",
      "Epoch 85/100\n"
     ]
    },
    {
     "name": "stdout",
     "output_type": "stream",
     "text": [
      "40/40 [==============================] - 15s 363ms/step - loss: 1.1058 - accuracy: 0.5938 - auc: 0.6927 - val_loss: 0.7282 - val_accuracy: 0.5658 - val_auc: 0.6038 - lr: 2.1772e-05\n",
      "Epoch 86/100\n",
      "40/40 [==============================] - 15s 364ms/step - loss: 1.1039 - accuracy: 0.5930 - auc: 0.6907 - val_loss: 0.7178 - val_accuracy: 0.5721 - val_auc: 0.6117 - lr: 2.0352e-05\n",
      "Epoch 87/100\n",
      "40/40 [==============================] - 15s 364ms/step - loss: 1.1043 - accuracy: 0.6031 - auc: 0.7054 - val_loss: 0.7188 - val_accuracy: 0.5769 - val_auc: 0.6208 - lr: 1.9102e-05\n",
      "Epoch 88/100\n",
      "40/40 [==============================] - 15s 364ms/step - loss: 1.1096 - accuracy: 0.5914 - auc: 0.6857 - val_loss: 0.7110 - val_accuracy: 0.5642 - val_auc: 0.6168 - lr: 1.8001e-05\n",
      "Epoch 89/100\n",
      "40/40 [==============================] - 15s 364ms/step - loss: 1.1008 - accuracy: 0.6082 - auc: 0.7025 - val_loss: 0.6897 - val_accuracy: 0.5990 - val_auc: 0.6353 - lr: 1.7033e-05\n",
      "Epoch 90/100\n",
      "40/40 [==============================] - 15s 363ms/step - loss: 1.0913 - accuracy: 0.5996 - auc: 0.7099 - val_loss: 0.6818 - val_accuracy: 0.5959 - val_auc: 0.6407 - lr: 1.6181e-05\n",
      "Epoch 91/100\n",
      "40/40 [==============================] - 15s 363ms/step - loss: 1.0780 - accuracy: 0.5891 - auc: 0.7041 - val_loss: 0.6823 - val_accuracy: 0.6022 - val_auc: 0.6433 - lr: 1.5431e-05\n",
      "Epoch 92/100\n",
      "40/40 [==============================] - 15s 364ms/step - loss: 1.1030 - accuracy: 0.5949 - auc: 0.6935 - val_loss: 0.6927 - val_accuracy: 0.5975 - val_auc: 0.6357 - lr: 1.4773e-05\n",
      "Epoch 93/100\n",
      "40/40 [==============================] - 15s 363ms/step - loss: 1.1174 - accuracy: 0.5895 - auc: 0.6931 - val_loss: 0.6805 - val_accuracy: 0.5990 - val_auc: 0.6441 - lr: 1.4193e-05\n",
      "Epoch 94/100\n",
      "40/40 [==============================] - 15s 364ms/step - loss: 1.0891 - accuracy: 0.5949 - auc: 0.6961 - val_loss: 0.6697 - val_accuracy: 0.6117 - val_auc: 0.6560 - lr: 1.3684e-05\n",
      "Epoch 95/100\n",
      "40/40 [==============================] - 15s 364ms/step - loss: 1.0935 - accuracy: 0.6004 - auc: 0.7104 - val_loss: 0.6699 - val_accuracy: 0.6244 - val_auc: 0.6565 - lr: 1.3236e-05\n",
      "Epoch 96/100\n",
      "40/40 [==============================] - 15s 364ms/step - loss: 1.0829 - accuracy: 0.6141 - auc: 0.7160 - val_loss: 0.6911 - val_accuracy: 0.5927 - val_auc: 0.6348 - lr: 1.2843e-05\n",
      "Epoch 97/100\n",
      "40/40 [==============================] - 15s 364ms/step - loss: 1.0858 - accuracy: 0.5988 - auc: 0.7050 - val_loss: 0.6921 - val_accuracy: 0.5895 - val_auc: 0.6348 - lr: 1.2497e-05\n",
      "Epoch 98/100\n",
      "40/40 [==============================] - 15s 364ms/step - loss: 1.0967 - accuracy: 0.5984 - auc: 0.7029 - val_loss: 0.6813 - val_accuracy: 0.6022 - val_auc: 0.6445 - lr: 1.2193e-05\n",
      "Epoch 99/100\n",
      "40/40 [==============================] - 15s 364ms/step - loss: 1.0756 - accuracy: 0.6230 - auc: 0.7204 - val_loss: 0.7085 - val_accuracy: 0.5848 - val_auc: 0.6286 - lr: 1.1927e-05\n",
      "Epoch 100/100\n",
      "40/40 [==============================] - 15s 364ms/step - loss: 1.0931 - accuracy: 0.6152 - auc: 0.7132 - val_loss: 0.7304 - val_accuracy: 0.5784 - val_auc: 0.6156 - lr: 1.1692e-05\n"
     ]
    }
   ],
   "source": [
    "n_epoch = 100\n",
    "lr = LearningRateScheduler(lambda e: sigmoidal_decay(e, end=n_epoch))\n",
    "\n",
    "batch_size = 64\n",
    "\n",
    "params = {'batch_size': batch_size,\n",
    "          #          'input_shape': (100, 313, 1),\n",
    "          'shuffle': True,\n",
    "          'chaug': 0,\n",
    "          'beta_param': beta_param,\n",
    "          'cout': cout,\n",
    "#              'mixup': True,\n",
    "          #          'lowpass': [.5, [11,12,13,14,15,16,17,18]]\n",
    "#            'highpass': [.5, [78,79,80,81,82,83,84,85]],\n",
    "#              'ranfilter2' : [3, [18,19,20,21,22,23]]\n",
    "        #           'dropblock' : [30, 100]\n",
    "          #'device' : device\n",
    "}\n",
    "\n",
    "\n",
    "\n",
    "if mixup :\n",
    "    params['mixup'] = mixup\n",
    "    params['ranfilter2'] = ranfil\n",
    "else :\n",
    "    params['cutout'] = cout\n",
    "\n",
    "\n",
    "params_no_shuffle = {'batch_size': batch_size,\n",
    "                     #          'input_shape': (100, 313, 1),\n",
    "                     'shuffle': False,\n",
    "                     'beta_param': 0.7,\n",
    "                     'mixup': False\n",
    "                     #'device': device\n",
    "}\n",
    "\n",
    "\n",
    "\n",
    "\n",
    "if mixup :\n",
    "\n",
    "    \n",
    "    class_weight = {0: oo_weight, 1: 1.}\n",
    "    TrainDGen_1 = Generator0([features_trn['age'],features_trn['sex'], features_trn['hw'], features_trn['preg'],\n",
    "                              features_trn['loc'],features_trn['interval'],features_trn['wav2'],\n",
    "                              features_trn['mel1'],features_trn['cqt1'],features_trn['stft1']],\n",
    "                             features_trn['out_labels'], **params)()\n",
    "\n",
    "    model2.fit(TrainDGen_1,\n",
    "               validation_data = ([features_test['age'],features_test['sex'], features_test['hw'],\n",
    "                                   features_test['preg'], features_test['loc'],features_test['interval'],\n",
    "                                   features_test['wav2'], features_test['mel1'],features_test['cqt1'],\n",
    "                                   features_test['stft1']],features_test['out_labels']), \n",
    "               \n",
    "               callbacks=[lr],\n",
    "               steps_per_epoch=np.ceil(len(features_trn['out_labels'])/batch_size),\n",
    "               class_weight=class_weight, \n",
    "               epochs = n_epoch)\n",
    "    \n",
    "else :\n",
    "    TrainGen = DataGenerator([features_trn['age'],features_trn['sex'], features_trn['hw'], features_trn['preg'], features_trn['loc'], \n",
    "                      features_trn['mel1'],features_trn['cqt1'],features_trn['stft1']], \n",
    "                     out_lbs_trn,  ## our Y\n",
    "                     **params)\n",
    "    model2.fit(TrainGen,\n",
    "               validation_data = ([features_test['age'],features_test['sex'], features_test['hw'],\n",
    "                                   features_test['preg'], features_test['loc'],features_test['interval'],\n",
    "                                   features_test['wav2'], features_test['mel1'],features_test['cqt1'],\n",
    "                                   features_test['stft1']],features_test['out_labels']), \n",
    "               callbacks=[lr],\n",
    "               class_weight=class_weight, \n",
    "               epochs = n_epoch)\n",
    "\n",
    "\n",
    "\n",
    "\n",
    "\n",
    "\n",
    "\n",
    "\n",
    "\n",
    "\n",
    "\n",
    "\n",
    "\n",
    "\n",
    "\n",
    "\n"
   ]
  },
  {
   "cell_type": "code",
   "execution_count": null,
   "id": "c4f69250",
   "metadata": {},
   "outputs": [],
   "source": []
  },
  {
   "cell_type": "code",
   "execution_count": 51,
   "id": "5d9abb6a",
   "metadata": {},
   "outputs": [
    {
     "data": {
      "text/plain": [
       "{'samp_sec': 20,\n",
       " 'pre_emphasis': 0,\n",
       " 'hop_length': 256,\n",
       " 'win_length': 512,\n",
       " 'n_mels': 120,\n",
       " 'filter_scale': 1,\n",
       " 'n_bins': 80,\n",
       " 'fmin': 10,\n",
       " 'maxlen1': 120000,\n",
       " 'min_dist': 500,\n",
       " 'max_interval_len': 115,\n",
       " 'trim': 1,\n",
       " 'use_mel': True,\n",
       " 'use_cqt': False,\n",
       " 'use_stft': False,\n",
       " 'use_interval': True,\n",
       " 'use_wav2': True,\n",
       " 'ord1': True,\n",
       " 'mm_mean': False,\n",
       " 'dp': 0,\n",
       " 'fc': False,\n",
       " 'ext': True,\n",
       " 'oo_weight': 3,\n",
       " 'mm_weight': 3,\n",
       " 'chaug': 10,\n",
       " 'cout': 0.8,\n",
       " 'wunknown': 1,\n",
       " 'mixup': True,\n",
       " 'n1': 0}"
      ]
     },
     "execution_count": 51,
     "metadata": {},
     "output_type": "execute_result"
    }
   ],
   "source": [
    "params_feature"
   ]
  },
  {
   "cell_type": "code",
   "execution_count": 52,
   "id": "08f47fb7",
   "metadata": {},
   "outputs": [],
   "source": [
    "params_feature['mel_shape'] = mel_input_shape\n",
    "params_feature['cqt_shape'] = cqt_input_shape\n",
    "params_feature['stft_shape'] = stft_input_shape\n",
    "params_feature['interval_input_shape'] = interval_input_shape\n",
    "params_feature['wav2_input_shape'] = wav2_input_shape"
   ]
  },
  {
   "cell_type": "code",
   "execution_count": 53,
   "id": "0122a0f8",
   "metadata": {},
   "outputs": [
    {
     "data": {
      "text/plain": [
       "{'samp_sec': 20,\n",
       " 'pre_emphasis': 0,\n",
       " 'hop_length': 256,\n",
       " 'win_length': 512,\n",
       " 'n_mels': 120,\n",
       " 'filter_scale': 1,\n",
       " 'n_bins': 80,\n",
       " 'fmin': 10,\n",
       " 'maxlen1': 120000,\n",
       " 'min_dist': 500,\n",
       " 'max_interval_len': 115,\n",
       " 'trim': 1,\n",
       " 'use_mel': True,\n",
       " 'use_cqt': False,\n",
       " 'use_stft': False,\n",
       " 'use_interval': True,\n",
       " 'use_wav2': True,\n",
       " 'ord1': True,\n",
       " 'mm_mean': False,\n",
       " 'dp': 0,\n",
       " 'fc': False,\n",
       " 'ext': True,\n",
       " 'oo_weight': 3,\n",
       " 'mm_weight': 3,\n",
       " 'chaug': 10,\n",
       " 'cout': 0.8,\n",
       " 'wunknown': 1,\n",
       " 'mixup': True,\n",
       " 'n1': 0,\n",
       " 'mel_shape': (120, 313, 1),\n",
       " 'cqt_shape': (1, 1, 1),\n",
       " 'stft_shape': (1, 1, 1),\n",
       " 'interval_input_shape': (115, 1),\n",
       " 'wav2_input_shape': (224, 224, 1)}"
      ]
     },
     "execution_count": 53,
     "metadata": {},
     "output_type": "execute_result"
    }
   ],
   "source": [
    "params_feature"
   ]
  },
  {
   "cell_type": "code",
   "execution_count": 54,
   "id": "786d2ba7",
   "metadata": {},
   "outputs": [],
   "source": [
    "import pickle as pk\n",
    "def save_challenge_model(model_folder, model1, model2, m_name1, m_name2, param_feature) :\n",
    "    os.makedirs(model_folder, exist_ok=True)\n",
    "    info_fnm = os.path.join(model_folder, 'desc.pk')\n",
    "    filename1 = os.path.join(model_folder, m_name1 + '_model1.hdf5')\n",
    "    filename2 = os.path.join(model_folder, m_name2 + '_model2.hdf5')\n",
    "    model1.save(filename1)\n",
    "    model2.save(filename2)\n",
    "    param_feature['model1'] = m_name1\n",
    "    param_feature['model2'] = m_name2\n",
    "    param_feature['model_fnm1'] = filename1\n",
    "    param_feature['model_fnm2'] = filename2\n",
    "    with open(info_fnm, 'wb') as f:\n",
    "        pk.dump(param_feature, f, pk.HIGHEST_PROTOCOL)\n",
    "    return 1\n",
    "\n",
    "    with open(info_fnm, 'wb') as f:\n",
    "        pk.dump(param_feature, f, pk.HIGHEST_PROTOCOL)\n",
    "    return 1\n",
    "    "
   ]
  },
  {
   "cell_type": "code",
   "execution_count": 55,
   "id": "6b9ae924",
   "metadata": {},
   "outputs": [
    {
     "data": {
      "text/plain": [
       "'lcnn2'"
      ]
     },
     "execution_count": 55,
     "metadata": {},
     "output_type": "execute_result"
    }
   ],
   "source": [
    "model_folder"
   ]
  },
  {
   "cell_type": "code",
   "execution_count": 56,
   "id": "ed1124d7",
   "metadata": {},
   "outputs": [
    {
     "data": {
      "text/plain": [
       "1"
      ]
     },
     "execution_count": 56,
     "metadata": {},
     "output_type": "execute_result"
    }
   ],
   "source": [
    "save_challenge_model(model_folder, model1, model2, m_name1 = 'lcnn1', m_name2 = 'lcnn2', param_feature = params_feature)"
   ]
  },
  {
   "cell_type": "code",
   "execution_count": 57,
   "id": "ba030c37",
   "metadata": {},
   "outputs": [],
   "source": [
    "def load_challenge_model(model_folder, verbose):\n",
    "    info_fnm = os.path.join(model_folder, 'desc.pk')\n",
    "    with open(info_fnm, 'rb') as f:\n",
    "        info_m = pk.load(f)\n",
    "\n",
    "    return info_m"
   ]
  },
  {
   "cell_type": "code",
   "execution_count": 72,
   "id": "19a747dc",
   "metadata": {},
   "outputs": [],
   "source": [
    "def run_challenge_model(model, data, recordings, verbose):\n",
    "    \n",
    "    murmur_classes = ['Present', 'Unknown', 'Absent']\n",
    "    outcome_classes = ['Abnormal', 'Normal']\n",
    "\n",
    "##########################################################################    \n",
    "    if model['model1'] == 'lcnn1' :\n",
    "        model1 = get_LCNN_o_4_dr_1(model['mel_shape'],model['cqt_shape'],model['stft_shape'], model['interval_input_shape'],model['wav2_input_shape']\n",
    "                                 , use_mel = model['use_mel'],use_cqt = model['use_cqt'], use_stft = model['use_stft'], \n",
    "                                 ord1 = model['ord1'], dp = model['dp'], fc = model['fc'], ext = model['ext'])    \n",
    "    if model['model1'] == 'lcnn2' :\n",
    "        model1 = get_LCNN_o_4_dr_2(model['mel_shape'],model['cqt_shape'],model['stft_shape'], model['interval_input_shape'],model['wav2_input_shape']\n",
    "                                 , use_mel = model['use_mel'],use_cqt = model['use_cqt'], use_stft = model['use_stft'], \n",
    "                                 ord1 = model['ord1'], dp = model['dp'], fc = model['fc'], ext = model['ext'])   \n",
    "    model1.layers[-5].trainable=False\n",
    "    model2.layers[-5].trainable=False\n",
    "    model1.load_weights(model['model_fnm1'])\n",
    "    model2.load_weights(model['model_fnm2'])\n",
    "############################################################################ \n",
    "\n",
    "\n",
    "    max_interval_len = params_feature['max_interval_len']\n",
    "    maxlen1 = params_feature['maxlen1']\n",
    "    min_dist = params_feature['min_dist']\n",
    "    \n",
    "    \n",
    "    # Load features.\n",
    "    features = get_feature_one(data, verbose = 0)\n",
    "\n",
    "    samp_sec = model['samp_sec'] \n",
    "    pre_emphasis = model['pre_emphasis']\n",
    "    hop_length = model['hop_length']\n",
    "    win_length = model['win_length']\n",
    "    n_mels = model['n_mels']\n",
    "    filter_scale = model['filter_scale']\n",
    "    n_bins = model['n_bins']\n",
    "    fmin = model['fmin']\n",
    "    trim = model['trim']\n",
    "    use_mel = model['use_mel']\n",
    "    use_cqt = model['use_cqt']\n",
    "    use_stft = model['use_stft']\n",
    "    use_interval = model['use_interval']\n",
    "    use_wav2 = model['use_wav2']\n",
    "    maxlen1 = model['maxlen1']\n",
    "    min_dist = model['min_dist']\n",
    "    max_interval_len = model['max_interval_len']\n",
    "    \n",
    "#    use_raw = model['use_raw']\n",
    "    \n",
    "\n",
    "    features['interval'] = []\n",
    "    tmp_interval=[]  \n",
    "    \n",
    "    features['wav2'] = []\n",
    "    tmp_raw = []\n",
    "    tmp=[]      \n",
    "    \n",
    "    from wav2vec2 import Wav2Vec2ForCTC, Wav2Vec2Config\n",
    "    import tensorflow as tf\n",
    "    \n",
    "    config = Wav2Vec2Config()\n",
    "    tmp_model = Wav2Vec2ForCTC(config)\n",
    "    tmp_model.trainable=False\n",
    "    \n",
    "    for i in range(len(recordings)):\n",
    "        data = recordings[i]/32768\n",
    "        tmp_raw.append(data)\n",
    "        \n",
    "    tmp_pad =pad_sequences(tmp_raw, maxlen=maxlen1, dtype='float64', padding='post', truncating='post', value=0.0)\n",
    "    tmp_pad = tmp_pad[:,np.newaxis,:]\n",
    "    \n",
    "    for i in range(len(tmp_pad)):\n",
    "        tmp_feature = tmp_model(tmp_pad[i])\n",
    "        tmp.append(tmp_feature)\n",
    "    \n",
    "    tmp=np.array(tmp, dtype=np.float32)\n",
    "    new_tmp1=tmp.reshape(-1,32,374)\n",
    "    features['wav2']=new_tmp1\n",
    "    \n",
    "    tmp_wav2 = np.zeros((len(recordings),224,224,1))\n",
    "    for i in range(len(features['wav2'])):\n",
    "        test_ary=features['wav2'][i]\n",
    "        res = resize(test_ary, (224,224,1))\n",
    "        tmp_wav2[i]=res\n",
    "    features['wav2'] = tmp_wav2\n",
    "    \n",
    "    features['wav2'] = np.array(features['wav2'])\n",
    "    \n",
    "    \n",
    "    for i in tqdm.tqdm(range(len(recordings))) :\n",
    "        datos=recordings[i]\n",
    "        filtros=sio.loadmat('./Filters1')\n",
    "        try:\n",
    "            X=datos\n",
    "            X=X[trim*3:-trim*3]\n",
    "            Fs=4000\n",
    "            \n",
    "            Fpa20=filtros['Fpa20'];\t\t\t        # High pass filter\n",
    "            Fpa20=Fpa20[0];\t\t\t\t\t# High pass filter\n",
    "            Fpb100=filtros['Fpb100'];\t\t        # Low-pass Filter\n",
    "            Fpb100=Fpb100[0];\t\t\t\t# Low-pass Filter\n",
    "            \n",
    "            Xf=FpassBand(X,Fpa20,Fpb100); \t                # Apply a passband filter\n",
    "            Xf=vec_nor(Xf);\t\t\t\n",
    "            \n",
    "                    # Derivate of the Signal\n",
    "            dX=derivate(Xf);\t\t\t\t# Derivate of the signal\n",
    "            dX=vec_nor(dX);\t\t\t\t\t# Vector Normalizing\n",
    "                    # Square of the signal\n",
    "            dy=np.square(Xf);\n",
    "            dy=vec_nor(dy);\n",
    "                    \n",
    "            size=np.shape(Xf)\t\t\t\t# Rank or dimension of the array\n",
    "            fil=size[0];\t\t\t\t\t# Number of rows\n",
    "\n",
    "            positive=np.zeros((1,fil+1));                   # Initializating Positives Values Vector \n",
    "            positive=positive[0];                           # Getting the Vector\n",
    "\n",
    "            points=np.zeros((1,fil));                       # Initializating the all Peak Points Vector\n",
    "            points=points[0];                               # Getting the point vector\n",
    "\n",
    "            peaks=np.zeros((1,fil));                        # Initializating the s1-s1 Peak Vector\n",
    "            peaks=peaks[0];                                 # Getting the point vector\n",
    "\n",
    "            \n",
    "            for i in range(0,fil):\n",
    "                if dX[i]>0:\n",
    "                    positive[i]=1;\n",
    "                else:\n",
    "                    positive[i]=0;\n",
    "\n",
    "            for i in range(0,fil):\n",
    "                if (positive[i]==1 and positive[i+1]==0):\n",
    "                    points[i]=Xf[i];\n",
    "                else:\n",
    "                    points[i]=0;\n",
    "\n",
    "            indexes=peakutils.indexes(points,thres=0.5/max(points), min_dist=min_dist);\n",
    "            lenght=np.shape(indexes)\t\t\t# Get the length of the index vector\t\t\n",
    "            lenght=lenght[0];\t\t\t\t# Get the value of the index vector\n",
    "\n",
    "            for i in range(0,lenght):\n",
    "                p=indexes[i];\n",
    "                peaks[p]=points[p];\n",
    "        \n",
    "            n=np.arange(0,fil);                            # Vector to the X axes (Number of Samples)\n",
    "            \n",
    "            tmp_peaks = np.diff(indexes)\n",
    "                    \n",
    "            tmp_interval.append(tmp_peaks)\n",
    "                    \n",
    "           \n",
    "        except:\n",
    "            print(i)\n",
    "            tmp_peaks = np.zeros(maxlen)\n",
    "            tmp_interval.append(tmp_peaks)\n",
    "                    \n",
    "     \n",
    "    padded =pad_sequences(tmp_interval, maxlen=max_interval_len, dtype='float64', padding='post', truncating='post', value=0.0)\n",
    "        \n",
    "    for i in range(len(padded)):\n",
    "        features['interval'].append(padded[i])\n",
    "        \n",
    "        \n",
    "    for i in range(len(features['interval'])):\n",
    "        features['interval'][i] = np.array(features['interval'][i])\n",
    "        \n",
    "    features['interval'] = np.array(features['interval'])\n",
    "    \n",
    "    \n",
    "    \n",
    "    features['mel1'] = []\n",
    "    for i in range(len(recordings)) :\n",
    "        if use_mel :\n",
    "            mel1 = feature_extract_melspec(recordings[i]/ 32768, samp_sec=samp_sec, pre_emphasis = pre_emphasis, hop_length=hop_length, \n",
    "                                           win_length = win_length, n_mels = n_mels)[0]\n",
    "        else :\n",
    "            mel1 = np.zeros( (1,1) )\n",
    "            \n",
    "        features['mel1'].append(mel1)\n",
    "        \n",
    "    M, N = features['mel1'][0].shape\n",
    "    \n",
    "    if use_mel :\n",
    "        for i in range(len(features['mel1'])) :\n",
    "            features['mel1'][i] = features['mel1'][i].reshape(M,N,1)   \n",
    "    \n",
    "    features['mel1'] = np.array(features['mel1'])\n",
    "\n",
    "    \n",
    "  \n",
    "    features['cqt1'] = []\n",
    "    for i in range(len(recordings)) :\n",
    "        if use_cqt :\n",
    "            mel1 = feature_extract_cqt(recordings[i], samp_sec=samp_sec, pre_emphasis = pre_emphasis, filter_scale = filter_scale, \n",
    "                                        n_bins = n_bins, fmin = fmin)[0]\n",
    "        else:\n",
    "            mel1 = np.zeros( (1,1,1) )\n",
    "            \n",
    "        features['cqt1'].append(mel1)\n",
    "        \n",
    "    M, N,__ = features['cqt1'][0].shape\n",
    "    \n",
    "    if use_cqt :\n",
    "        for i in range(len(features['cqt1'])) :\n",
    "            features['cqt1'][i] = features['cqt1'][i].reshape(M,N,1)   \n",
    "    \n",
    "    features['cqt1'] = np.array(features['cqt1'])\n",
    "    \n",
    "    \n",
    "    features['stft1'] = []\n",
    "    for i in range(len(recordings)) :\n",
    "        if use_stft :\n",
    "            mel1 = feature_extract_stft(recordings[i]/ 32768, samp_sec=samp_sec, pre_emphasis = pre_emphasis, hop_length=hop_length, \n",
    "                                        win_length = win_length)[0]\n",
    "        else :\n",
    "            mel1 = np.zeros( (1,1,1) )\n",
    "        \n",
    "        features['stft1'].append(mel1)\n",
    "        \n",
    "    M, N,__ = features['stft1'][0].shape\n",
    "    if use_stft :\n",
    "        for i in range(len(features['stft1'])) :\n",
    "            features['stft1'][i] = features['stft1'][i].reshape(M,N,1)           \n",
    "    features['stft1'] = np.array(features['stft1'])\n",
    "    \n",
    "#     return features       \n",
    "\n",
    "    #    print(features)\n",
    "    # Impute missing data.\n",
    "    res1 = model1.predict([features['age'], features['sex'], features['hw'], features['preg'], \n",
    "                           features['loc'], features['interval'],features['wav2'],features['mel1'], features['stft1'], features['cqt1']])\n",
    "    res2 = model2.predict([features['age'], features['sex'], features['hw'], features['preg'], \n",
    "                           features['loc'], features['interval'],features['wav2'],features['mel1'], features['stft1'], features['cqt1']])\n",
    "    if model['ord1'] :\n",
    "        idx1 = res1.argmax(axis=0)[0]\n",
    "        murmur_p = res1[idx1,]  ## mumur 확률 최대화 되는 애 뽑기\n",
    "        murmur_probabilities = np.zeros((3,))\n",
    "        murmur_probabilities[0] = murmur_p[0]\n",
    "        murmur_probabilities[1] = 0\n",
    "        murmur_probabilities[2] = murmur_p[1]\n",
    "        outcome_probabilities = res2.mean(axis = 0) ##  outcome 은 그냥 평균으로 뽑기\n",
    "    else :\n",
    "        if model['mm_mean'] :\n",
    "            murmur_probabilities = res1.mean(axis = 0)\n",
    "        else :\n",
    "            idx1 = res1.argmax(axis=0)[0]\n",
    "            murmur_probabilities = res1[idx1,]  ## mumur 확률 최대화 되는 애 뽑기\n",
    "        outcome_probabilities = res2.mean(axis = 0) ##  outcome 은 그냥 평균으로 뽑기\n",
    "\n",
    "        \n",
    "    murmur_labels = np.zeros(len(murmur_classes), dtype=np.int_)\n",
    "    \n",
    "    \n",
    "    if murmur_probabilities[0] > 0.482 :\n",
    "        idx = 0\n",
    "    else :\n",
    "        idx = 2\n",
    "    murmur_labels[idx] = 1\n",
    "\n",
    "    outcome_labels = np.zeros(len(outcome_classes), dtype=np.int_)\n",
    "    if outcome_probabilities[0] > 0.607 :\n",
    "        idx = 0\n",
    "    else :\n",
    "        idx = 1    \n",
    "        # idx = np.argmax(outcome_probabilities)\n",
    "    outcome_labels[idx] = 1\n",
    "    \n",
    "    # Concatenate classes, labels, and probabilities.\n",
    "    classes = murmur_classes + outcome_classes\n",
    "    labels = np.concatenate((murmur_labels, outcome_labels))\n",
    "    probabilities = np.concatenate((murmur_probabilities, outcome_probabilities))\n",
    "    \n",
    "    return classes, labels, probabilities"
   ]
  },
  {
   "cell_type": "code",
   "execution_count": 73,
   "id": "b5eecd4a",
   "metadata": {
    "scrolled": true
   },
   "outputs": [
    {
     "data": {
      "text/plain": [
       "'lcnn2'"
      ]
     },
     "execution_count": 73,
     "metadata": {},
     "output_type": "execute_result"
    }
   ],
   "source": [
    "model_folder"
   ]
  },
  {
   "cell_type": "code",
   "execution_count": 74,
   "id": "cd5b523f",
   "metadata": {},
   "outputs": [],
   "source": [
    "data_folder = test_folder"
   ]
  },
  {
   "cell_type": "code",
   "execution_count": 75,
   "id": "1f523ff0",
   "metadata": {},
   "outputs": [
    {
     "data": {
      "text/plain": [
       "'/home/jk21/Downloads/Data/data/murmur/test'"
      ]
     },
     "execution_count": 75,
     "metadata": {},
     "output_type": "execute_result"
    }
   ],
   "source": [
    "data_folder"
   ]
  },
  {
   "cell_type": "code",
   "execution_count": 76,
   "id": "c67ffdf6",
   "metadata": {},
   "outputs": [],
   "source": [
    "output_folder ='/home/jk21/Documents/hmd/jk_classifier/out_lcnn2'"
   ]
  },
  {
   "cell_type": "code",
   "execution_count": 77,
   "id": "89e8d650",
   "metadata": {},
   "outputs": [],
   "source": [
    "allow_failures=True"
   ]
  },
  {
   "cell_type": "code",
   "execution_count": 78,
   "id": "bccc27ef",
   "metadata": {},
   "outputs": [],
   "source": [
    "verbose=1"
   ]
  },
  {
   "cell_type": "code",
   "execution_count": null,
   "id": "101c582c",
   "metadata": {},
   "outputs": [],
   "source": []
  },
  {
   "cell_type": "code",
   "execution_count": 79,
   "id": "73579324",
   "metadata": {},
   "outputs": [],
   "source": [
    "model = load_challenge_model(model_folder, verbose)"
   ]
  },
  {
   "cell_type": "code",
   "execution_count": 80,
   "id": "20a7edc2",
   "metadata": {},
   "outputs": [],
   "source": [
    "patient_files = find_patient_files(data_folder)"
   ]
  },
  {
   "cell_type": "code",
   "execution_count": 81,
   "id": "450b3026",
   "metadata": {},
   "outputs": [],
   "source": [
    "num_patient_files = len(patient_files)"
   ]
  },
  {
   "cell_type": "code",
   "execution_count": 82,
   "id": "2ed2bb8f",
   "metadata": {},
   "outputs": [],
   "source": [
    "patient_data = load_patient_data(patient_files[0])"
   ]
  },
  {
   "cell_type": "code",
   "execution_count": 83,
   "id": "18f0a77e",
   "metadata": {},
   "outputs": [
    {
     "data": {
      "text/plain": [
       "'33151 4 4000\\nAV 33151_AV.hea 33151_AV.wav 33151_AV.tsv\\nPV 33151_PV.hea 33151_PV.wav 33151_PV.tsv\\nTV 33151_TV.hea 33151_TV.wav 33151_TV.tsv\\nMV 33151_MV.hea 33151_MV.wav 33151_MV.tsv\\n#Age: Child\\n#Sex: Female\\n#Height: 141.0\\n#Weight: 30.9\\n#Pregnancy status: False\\n#Murmur: Present\\n#Murmur locations: MV+TV\\n#Most audible location: TV\\n#Systolic murmur timing: Holosystolic\\n#Systolic murmur shape: Plateau\\n#Systolic murmur grading: I/VI\\n#Systolic murmur pitch: Low\\n#Systolic murmur quality: Harsh\\n#Diastolic murmur timing: nan\\n#Diastolic murmur shape: nan\\n#Diastolic murmur grading: nan\\n#Diastolic murmur pitch: nan\\n#Diastolic murmur quality: nan\\n#Outcome: Abnormal\\n#Campaign: CC2015\\n#Additional ID: nan\\n'"
      ]
     },
     "execution_count": 83,
     "metadata": {},
     "output_type": "execute_result"
    }
   ],
   "source": [
    "patient_data"
   ]
  },
  {
   "cell_type": "code",
   "execution_count": 84,
   "id": "f039e162",
   "metadata": {},
   "outputs": [],
   "source": [
    "recordings = load_recordings(data_folder, patient_data)"
   ]
  },
  {
   "cell_type": "code",
   "execution_count": 85,
   "id": "d3acd534",
   "metadata": {},
   "outputs": [
    {
     "name": "stderr",
     "output_type": "stream",
     "text": [
      "100%|█████████████████████████████████████████████| 4/4 [00:00<00:00,  7.15it/s]\n"
     ]
    }
   ],
   "source": [
    "classes, labels, probabilities = run_challenge_model(model, patient_data, recordings, verbose)"
   ]
  },
  {
   "cell_type": "code",
   "execution_count": 86,
   "id": "970b87e5",
   "metadata": {},
   "outputs": [
    {
     "data": {
      "text/plain": [
       "['Present', 'Unknown', 'Absent', 'Abnormal', 'Normal']"
      ]
     },
     "execution_count": 86,
     "metadata": {},
     "output_type": "execute_result"
    }
   ],
   "source": [
    "classes"
   ]
  },
  {
   "cell_type": "code",
   "execution_count": 87,
   "id": "b6a44c38",
   "metadata": {},
   "outputs": [],
   "source": [
    "# Run model.\n",
    "def run_model(model_folder, data_folder, output_folder, allow_failures, verbose=1):\n",
    "    # Load models.\n",
    "    if verbose >= 1:\n",
    "        print('Loading Challenge model...')\n",
    "\n",
    "    model = load_challenge_model(model_folder, verbose) ### Teams: Implement this function!!!\n",
    "\n",
    "    # Find the patient data files.\n",
    "    patient_files = find_patient_files(data_folder)\n",
    "    num_patient_files = len(patient_files)\n",
    "\n",
    "    if num_patient_files==0:\n",
    "        raise Exception('No data was provided.')\n",
    "\n",
    "    # Create a folder for the Challenge outputs if it does not already exist.\n",
    "    os.makedirs(output_folder, exist_ok=True)\n",
    "\n",
    "    # Run the team's model on the Challenge data.\n",
    "    if verbose >= 1:\n",
    "        print('Running model on Challenge data...')\n",
    "\n",
    "    # Iterate over the patient files.\n",
    "    for i in range(num_patient_files):\n",
    "        if verbose >= 2:\n",
    "            print('    {}/{}...'.format(i+1, num_patient_files))\n",
    "\n",
    "        patient_data = load_patient_data(patient_files[i])\n",
    "        recordings = load_recordings(data_folder, patient_data)\n",
    "\n",
    "        # Allow or disallow the model to fail on parts of the data; helpful for debugging.\n",
    "        try:\n",
    "            classes, labels, probabilities = run_challenge_model(model, patient_data, recordings, verbose) ### Teams: Implement this function!!!\n",
    "        except:\n",
    "            if allow_failures:\n",
    "                if verbose >= 2:\n",
    "                    print('... failed.')\n",
    "                classes, labels, probabilities = list(), list(), list()\n",
    "            else:\n",
    "                raise\n",
    "\n",
    "        # Save Challenge outputs.\n",
    "        head, tail = os.path.split(patient_files[i])\n",
    "        root, extension = os.path.splitext(tail)\n",
    "        output_file = os.path.join(output_folder, root + '.csv')\n",
    "        patient_id = get_patient_id(patient_data)\n",
    "        save_challenge_outputs(output_file, patient_id, classes, labels, probabilities)\n",
    "\n",
    "    if verbose >= 1:\n",
    "        print('Done.')"
   ]
  },
  {
   "cell_type": "code",
   "execution_count": 88,
   "id": "7fe188c6",
   "metadata": {},
   "outputs": [
    {
     "data": {
      "text/plain": [
       "'/home/jk21/Downloads/Data/data/murmur/test'"
      ]
     },
     "execution_count": 88,
     "metadata": {},
     "output_type": "execute_result"
    }
   ],
   "source": [
    "test_folder"
   ]
  },
  {
   "cell_type": "code",
   "execution_count": 89,
   "id": "38ee9f70",
   "metadata": {},
   "outputs": [],
   "source": [
    "output_folder = '/home/jk21/Documents/hmd/jk_classifier/out_lcnn2'"
   ]
  },
  {
   "cell_type": "code",
   "execution_count": 90,
   "id": "d4be81f7",
   "metadata": {},
   "outputs": [
    {
     "name": "stdout",
     "output_type": "stream",
     "text": [
      "Loading Challenge model...\n",
      "Running model on Challenge data...\n",
      "    1/191...\n"
     ]
    },
    {
     "name": "stderr",
     "output_type": "stream",
     "text": [
      "100%|█████████████████████████████████████████████| 4/4 [00:00<00:00,  7.32it/s]\n"
     ]
    },
    {
     "name": "stdout",
     "output_type": "stream",
     "text": [
      "    2/191...\n"
     ]
    },
    {
     "name": "stderr",
     "output_type": "stream",
     "text": [
      "100%|█████████████████████████████████████████████| 2/2 [00:00<00:00,  6.51it/s]\n"
     ]
    },
    {
     "name": "stdout",
     "output_type": "stream",
     "text": [
      "    3/191...\n"
     ]
    },
    {
     "name": "stderr",
     "output_type": "stream",
     "text": [
      "100%|█████████████████████████████████████████████| 4/4 [00:00<00:00,  5.13it/s]\n"
     ]
    },
    {
     "name": "stdout",
     "output_type": "stream",
     "text": [
      "WARNING:tensorflow:5 out of the last 7 calls to <function Model.make_predict_function.<locals>.predict_function at 0x7f31682e2700> triggered tf.function retracing. Tracing is expensive and the excessive number of tracings could be due to (1) creating @tf.function repeatedly in a loop, (2) passing tensors with different shapes, (3) passing Python objects instead of tensors. For (1), please define your @tf.function outside of the loop. For (2), @tf.function has experimental_relax_shapes=True option that relaxes argument shapes that can avoid unnecessary retracing. For (3), please refer to https://www.tensorflow.org/guide/function#controlling_retracing and https://www.tensorflow.org/api_docs/python/tf/function for  more details.\n",
      "    4/191...\n"
     ]
    },
    {
     "name": "stderr",
     "output_type": "stream",
     "text": [
      "100%|█████████████████████████████████████████████| 2/2 [00:00<00:00,  3.64it/s]\n"
     ]
    },
    {
     "name": "stdout",
     "output_type": "stream",
     "text": [
      "WARNING:tensorflow:6 out of the last 9 calls to <function Model.make_predict_function.<locals>.predict_function at 0x7f30d8090310> triggered tf.function retracing. Tracing is expensive and the excessive number of tracings could be due to (1) creating @tf.function repeatedly in a loop, (2) passing tensors with different shapes, (3) passing Python objects instead of tensors. For (1), please define your @tf.function outside of the loop. For (2), @tf.function has experimental_relax_shapes=True option that relaxes argument shapes that can avoid unnecessary retracing. For (3), please refer to https://www.tensorflow.org/guide/function#controlling_retracing and https://www.tensorflow.org/api_docs/python/tf/function for  more details.\n",
      "    5/191...\n"
     ]
    },
    {
     "name": "stderr",
     "output_type": "stream",
     "text": [
      "100%|█████████████████████████████████████████████| 3/3 [00:00<00:00,  4.31it/s]\n"
     ]
    },
    {
     "name": "stdout",
     "output_type": "stream",
     "text": [
      "    6/191...\n"
     ]
    },
    {
     "name": "stderr",
     "output_type": "stream",
     "text": [
      "100%|█████████████████████████████████████████████| 1/1 [00:00<00:00,  2.74it/s]\n"
     ]
    },
    {
     "name": "stdout",
     "output_type": "stream",
     "text": [
      "    7/191...\n"
     ]
    },
    {
     "name": "stderr",
     "output_type": "stream",
     "text": [
      "100%|█████████████████████████████████████████████| 4/4 [00:00<00:00,  4.02it/s]\n"
     ]
    },
    {
     "name": "stdout",
     "output_type": "stream",
     "text": [
      "    8/191...\n"
     ]
    },
    {
     "name": "stderr",
     "output_type": "stream",
     "text": [
      "100%|█████████████████████████████████████████████| 4/4 [00:00<00:00,  7.69it/s]\n"
     ]
    },
    {
     "name": "stdout",
     "output_type": "stream",
     "text": [
      "    9/191...\n"
     ]
    },
    {
     "name": "stderr",
     "output_type": "stream",
     "text": [
      "100%|█████████████████████████████████████████████| 4/4 [00:01<00:00,  3.75it/s]\n"
     ]
    },
    {
     "name": "stdout",
     "output_type": "stream",
     "text": [
      "    10/191...\n"
     ]
    },
    {
     "name": "stderr",
     "output_type": "stream",
     "text": [
      "100%|█████████████████████████████████████████████| 4/4 [00:00<00:00,  4.52it/s]\n"
     ]
    },
    {
     "name": "stdout",
     "output_type": "stream",
     "text": [
      "    11/191...\n"
     ]
    },
    {
     "name": "stderr",
     "output_type": "stream",
     "text": [
      "100%|█████████████████████████████████████████████| 4/4 [00:00<00:00,  4.14it/s]\n"
     ]
    },
    {
     "name": "stdout",
     "output_type": "stream",
     "text": [
      "    12/191...\n"
     ]
    },
    {
     "name": "stderr",
     "output_type": "stream",
     "text": [
      "100%|█████████████████████████████████████████████| 2/2 [00:00<00:00,  3.92it/s]\n"
     ]
    },
    {
     "name": "stdout",
     "output_type": "stream",
     "text": [
      "    13/191...\n"
     ]
    },
    {
     "name": "stderr",
     "output_type": "stream",
     "text": [
      "100%|█████████████████████████████████████████████| 3/3 [00:00<00:00,  5.24it/s]\n"
     ]
    },
    {
     "name": "stdout",
     "output_type": "stream",
     "text": [
      "    14/191...\n"
     ]
    },
    {
     "name": "stderr",
     "output_type": "stream",
     "text": [
      "100%|█████████████████████████████████████████████| 4/4 [00:01<00:00,  3.91it/s]\n"
     ]
    },
    {
     "name": "stdout",
     "output_type": "stream",
     "text": [
      "    15/191...\n"
     ]
    },
    {
     "name": "stderr",
     "output_type": "stream",
     "text": [
      "100%|█████████████████████████████████████████████| 2/2 [00:00<00:00,  3.85it/s]\n"
     ]
    },
    {
     "name": "stdout",
     "output_type": "stream",
     "text": [
      "    16/191...\n"
     ]
    },
    {
     "name": "stderr",
     "output_type": "stream",
     "text": [
      "100%|█████████████████████████████████████████████| 4/4 [00:00<00:00,  5.32it/s]\n"
     ]
    },
    {
     "name": "stdout",
     "output_type": "stream",
     "text": [
      "    17/191...\n"
     ]
    },
    {
     "name": "stderr",
     "output_type": "stream",
     "text": [
      "100%|█████████████████████████████████████████████| 5/5 [00:00<00:00,  6.62it/s]\n"
     ]
    },
    {
     "name": "stdout",
     "output_type": "stream",
     "text": [
      "    18/191...\n"
     ]
    },
    {
     "name": "stderr",
     "output_type": "stream",
     "text": [
      "100%|█████████████████████████████████████████████| 1/1 [00:00<00:00,  7.46it/s]\n"
     ]
    },
    {
     "name": "stdout",
     "output_type": "stream",
     "text": [
      "    19/191...\n"
     ]
    },
    {
     "name": "stderr",
     "output_type": "stream",
     "text": [
      "100%|█████████████████████████████████████████████| 4/4 [00:00<00:00,  6.11it/s]\n"
     ]
    },
    {
     "name": "stdout",
     "output_type": "stream",
     "text": [
      "    20/191...\n"
     ]
    },
    {
     "name": "stderr",
     "output_type": "stream",
     "text": [
      "100%|█████████████████████████████████████████████| 4/4 [00:00<00:00,  7.11it/s]\n"
     ]
    },
    {
     "name": "stdout",
     "output_type": "stream",
     "text": [
      "    21/191...\n"
     ]
    },
    {
     "name": "stderr",
     "output_type": "stream",
     "text": [
      "100%|█████████████████████████████████████████████| 2/2 [00:00<00:00,  3.75it/s]\n"
     ]
    },
    {
     "name": "stdout",
     "output_type": "stream",
     "text": [
      "    22/191...\n"
     ]
    },
    {
     "name": "stderr",
     "output_type": "stream",
     "text": [
      "100%|█████████████████████████████████████████████| 1/1 [00:00<00:00,  4.92it/s]\n"
     ]
    },
    {
     "name": "stdout",
     "output_type": "stream",
     "text": [
      "    23/191...\n"
     ]
    },
    {
     "name": "stderr",
     "output_type": "stream",
     "text": [
      "100%|█████████████████████████████████████████████| 2/2 [00:00<00:00,  4.63it/s]\n"
     ]
    },
    {
     "name": "stdout",
     "output_type": "stream",
     "text": [
      "    24/191...\n"
     ]
    },
    {
     "name": "stderr",
     "output_type": "stream",
     "text": [
      "100%|█████████████████████████████████████████████| 3/3 [00:00<00:00,  4.16it/s]\n"
     ]
    },
    {
     "name": "stdout",
     "output_type": "stream",
     "text": [
      "    25/191...\n"
     ]
    },
    {
     "name": "stderr",
     "output_type": "stream",
     "text": [
      "100%|█████████████████████████████████████████████| 4/4 [00:00<00:00,  4.58it/s]\n"
     ]
    },
    {
     "name": "stdout",
     "output_type": "stream",
     "text": [
      "    26/191...\n"
     ]
    },
    {
     "name": "stderr",
     "output_type": "stream",
     "text": [
      "100%|█████████████████████████████████████████████| 3/3 [00:00<00:00,  3.85it/s]\n"
     ]
    },
    {
     "name": "stdout",
     "output_type": "stream",
     "text": [
      "    27/191...\n"
     ]
    },
    {
     "name": "stderr",
     "output_type": "stream",
     "text": [
      "100%|█████████████████████████████████████████████| 2/2 [00:00<00:00,  3.73it/s]\n"
     ]
    },
    {
     "name": "stdout",
     "output_type": "stream",
     "text": [
      "    28/191...\n"
     ]
    },
    {
     "name": "stderr",
     "output_type": "stream",
     "text": [
      "100%|█████████████████████████████████████████████| 3/3 [00:00<00:00,  4.45it/s]\n"
     ]
    },
    {
     "name": "stdout",
     "output_type": "stream",
     "text": [
      "    29/191...\n"
     ]
    },
    {
     "name": "stderr",
     "output_type": "stream",
     "text": [
      "100%|█████████████████████████████████████████████| 3/3 [00:00<00:00,  4.33it/s]\n"
     ]
    },
    {
     "name": "stdout",
     "output_type": "stream",
     "text": [
      "    30/191...\n"
     ]
    },
    {
     "name": "stderr",
     "output_type": "stream",
     "text": [
      "100%|█████████████████████████████████████████████| 4/4 [00:00<00:00,  4.44it/s]\n"
     ]
    },
    {
     "name": "stdout",
     "output_type": "stream",
     "text": [
      "    31/191...\n"
     ]
    },
    {
     "name": "stderr",
     "output_type": "stream",
     "text": [
      "100%|█████████████████████████████████████████████| 3/3 [00:00<00:00,  4.87it/s]\n"
     ]
    },
    {
     "name": "stdout",
     "output_type": "stream",
     "text": [
      "    32/191...\n"
     ]
    },
    {
     "name": "stderr",
     "output_type": "stream",
     "text": [
      "100%|█████████████████████████████████████████████| 2/2 [00:00<00:00,  4.12it/s]\n"
     ]
    },
    {
     "name": "stdout",
     "output_type": "stream",
     "text": [
      "    33/191...\n"
     ]
    },
    {
     "name": "stderr",
     "output_type": "stream",
     "text": [
      "100%|█████████████████████████████████████████████| 1/1 [00:00<00:00,  3.30it/s]\n"
     ]
    },
    {
     "name": "stdout",
     "output_type": "stream",
     "text": [
      "    34/191...\n"
     ]
    },
    {
     "name": "stderr",
     "output_type": "stream",
     "text": [
      "100%|█████████████████████████████████████████████| 3/3 [00:00<00:00,  4.11it/s]\n"
     ]
    },
    {
     "name": "stdout",
     "output_type": "stream",
     "text": [
      "    35/191...\n"
     ]
    },
    {
     "name": "stderr",
     "output_type": "stream",
     "text": [
      "100%|█████████████████████████████████████████████| 3/3 [00:00<00:00,  4.00it/s]\n"
     ]
    },
    {
     "name": "stdout",
     "output_type": "stream",
     "text": [
      "    36/191...\n"
     ]
    },
    {
     "name": "stderr",
     "output_type": "stream",
     "text": [
      "100%|█████████████████████████████████████████████| 3/3 [00:00<00:00,  5.17it/s]\n"
     ]
    },
    {
     "name": "stdout",
     "output_type": "stream",
     "text": [
      "    37/191...\n"
     ]
    },
    {
     "name": "stderr",
     "output_type": "stream",
     "text": [
      "100%|█████████████████████████████████████████████| 3/3 [00:00<00:00,  6.68it/s]\n"
     ]
    },
    {
     "name": "stdout",
     "output_type": "stream",
     "text": [
      "    38/191...\n"
     ]
    },
    {
     "name": "stderr",
     "output_type": "stream",
     "text": [
      "100%|█████████████████████████████████████████████| 5/5 [00:01<00:00,  4.24it/s]\n"
     ]
    },
    {
     "name": "stdout",
     "output_type": "stream",
     "text": [
      "    39/191...\n"
     ]
    },
    {
     "name": "stderr",
     "output_type": "stream",
     "text": [
      "100%|█████████████████████████████████████████████| 4/4 [00:00<00:00,  4.33it/s]\n"
     ]
    },
    {
     "name": "stdout",
     "output_type": "stream",
     "text": [
      "    40/191...\n"
     ]
    },
    {
     "name": "stderr",
     "output_type": "stream",
     "text": [
      "100%|█████████████████████████████████████████████| 2/2 [00:00<00:00,  3.98it/s]\n"
     ]
    },
    {
     "name": "stdout",
     "output_type": "stream",
     "text": [
      "    41/191...\n"
     ]
    },
    {
     "name": "stderr",
     "output_type": "stream",
     "text": [
      "100%|█████████████████████████████████████████████| 4/4 [00:00<00:00,  5.81it/s]\n"
     ]
    },
    {
     "name": "stdout",
     "output_type": "stream",
     "text": [
      "    42/191...\n"
     ]
    },
    {
     "name": "stderr",
     "output_type": "stream",
     "text": [
      "100%|█████████████████████████████████████████████| 3/3 [00:00<00:00,  4.66it/s]\n"
     ]
    },
    {
     "name": "stdout",
     "output_type": "stream",
     "text": [
      "    43/191...\n"
     ]
    },
    {
     "name": "stderr",
     "output_type": "stream",
     "text": [
      "100%|█████████████████████████████████████████████| 3/3 [00:00<00:00,  5.57it/s]\n"
     ]
    },
    {
     "name": "stdout",
     "output_type": "stream",
     "text": [
      "    44/191...\n"
     ]
    },
    {
     "name": "stderr",
     "output_type": "stream",
     "text": [
      "100%|█████████████████████████████████████████████| 2/2 [00:00<00:00,  3.75it/s]\n"
     ]
    },
    {
     "name": "stdout",
     "output_type": "stream",
     "text": [
      "    45/191...\n"
     ]
    },
    {
     "name": "stderr",
     "output_type": "stream",
     "text": [
      "100%|█████████████████████████████████████████████| 4/4 [00:00<00:00,  4.29it/s]\n"
     ]
    },
    {
     "name": "stdout",
     "output_type": "stream",
     "text": [
      "    46/191...\n"
     ]
    },
    {
     "name": "stderr",
     "output_type": "stream",
     "text": [
      "100%|█████████████████████████████████████████████| 4/4 [00:00<00:00,  4.22it/s]\n"
     ]
    },
    {
     "name": "stdout",
     "output_type": "stream",
     "text": [
      "    47/191...\n"
     ]
    },
    {
     "name": "stderr",
     "output_type": "stream",
     "text": [
      "100%|█████████████████████████████████████████████| 4/4 [00:01<00:00,  3.99it/s]\n"
     ]
    },
    {
     "name": "stdout",
     "output_type": "stream",
     "text": [
      "    48/191...\n"
     ]
    },
    {
     "name": "stderr",
     "output_type": "stream",
     "text": [
      "100%|█████████████████████████████████████████████| 4/4 [00:01<00:00,  3.82it/s]\n"
     ]
    },
    {
     "name": "stdout",
     "output_type": "stream",
     "text": [
      "    49/191...\n"
     ]
    },
    {
     "name": "stderr",
     "output_type": "stream",
     "text": [
      "100%|█████████████████████████████████████████████| 2/2 [00:00<00:00,  3.88it/s]\n"
     ]
    },
    {
     "name": "stdout",
     "output_type": "stream",
     "text": [
      "    50/191...\n"
     ]
    },
    {
     "name": "stderr",
     "output_type": "stream",
     "text": [
      "100%|█████████████████████████████████████████████| 2/2 [00:00<00:00,  4.43it/s]\n"
     ]
    },
    {
     "name": "stdout",
     "output_type": "stream",
     "text": [
      "    51/191...\n"
     ]
    },
    {
     "name": "stderr",
     "output_type": "stream",
     "text": [
      "100%|█████████████████████████████████████████████| 2/2 [00:00<00:00,  5.85it/s]\n"
     ]
    },
    {
     "name": "stdout",
     "output_type": "stream",
     "text": [
      "    52/191...\n"
     ]
    },
    {
     "name": "stderr",
     "output_type": "stream",
     "text": [
      "100%|█████████████████████████████████████████████| 5/5 [00:00<00:00,  5.42it/s]\n"
     ]
    },
    {
     "name": "stdout",
     "output_type": "stream",
     "text": [
      "    53/191...\n"
     ]
    },
    {
     "name": "stderr",
     "output_type": "stream",
     "text": [
      "100%|█████████████████████████████████████████████| 2/2 [00:00<00:00,  3.88it/s]\n"
     ]
    },
    {
     "name": "stdout",
     "output_type": "stream",
     "text": [
      "    54/191...\n"
     ]
    },
    {
     "name": "stderr",
     "output_type": "stream",
     "text": [
      "100%|█████████████████████████████████████████████| 4/4 [00:01<00:00,  3.75it/s]\n"
     ]
    },
    {
     "name": "stdout",
     "output_type": "stream",
     "text": [
      "    55/191...\n"
     ]
    },
    {
     "name": "stderr",
     "output_type": "stream",
     "text": [
      "100%|█████████████████████████████████████████████| 4/4 [00:00<00:00,  4.48it/s]\n"
     ]
    },
    {
     "name": "stdout",
     "output_type": "stream",
     "text": [
      "    56/191...\n"
     ]
    },
    {
     "name": "stderr",
     "output_type": "stream",
     "text": [
      "100%|█████████████████████████████████████████████| 4/4 [00:00<00:00,  4.22it/s]\n"
     ]
    },
    {
     "name": "stdout",
     "output_type": "stream",
     "text": [
      "    57/191...\n"
     ]
    },
    {
     "name": "stderr",
     "output_type": "stream",
     "text": [
      "100%|█████████████████████████████████████████████| 2/2 [00:00<00:00,  3.75it/s]\n"
     ]
    },
    {
     "name": "stdout",
     "output_type": "stream",
     "text": [
      "    58/191...\n"
     ]
    },
    {
     "name": "stderr",
     "output_type": "stream",
     "text": [
      "100%|█████████████████████████████████████████████| 1/1 [00:00<00:00,  3.88it/s]\n"
     ]
    },
    {
     "name": "stdout",
     "output_type": "stream",
     "text": [
      "    59/191...\n"
     ]
    },
    {
     "name": "stderr",
     "output_type": "stream",
     "text": [
      "100%|█████████████████████████████████████████████| 3/3 [00:00<00:00,  3.91it/s]\n"
     ]
    },
    {
     "name": "stdout",
     "output_type": "stream",
     "text": [
      "    60/191...\n"
     ]
    },
    {
     "name": "stderr",
     "output_type": "stream",
     "text": [
      "100%|█████████████████████████████████████████████| 2/2 [00:00<00:00,  4.16it/s]\n"
     ]
    },
    {
     "name": "stdout",
     "output_type": "stream",
     "text": [
      "    61/191...\n"
     ]
    },
    {
     "name": "stderr",
     "output_type": "stream",
     "text": [
      "100%|█████████████████████████████████████████████| 2/2 [00:00<00:00,  4.04it/s]\n"
     ]
    },
    {
     "name": "stdout",
     "output_type": "stream",
     "text": [
      "    62/191...\n"
     ]
    },
    {
     "name": "stderr",
     "output_type": "stream",
     "text": [
      "100%|█████████████████████████████████████████████| 5/5 [00:01<00:00,  3.71it/s]\n"
     ]
    },
    {
     "name": "stdout",
     "output_type": "stream",
     "text": [
      "    63/191...\n"
     ]
    },
    {
     "name": "stderr",
     "output_type": "stream",
     "text": [
      "100%|█████████████████████████████████████████████| 4/4 [00:01<00:00,  3.98it/s]\n"
     ]
    },
    {
     "name": "stdout",
     "output_type": "stream",
     "text": [
      "    64/191...\n"
     ]
    },
    {
     "name": "stderr",
     "output_type": "stream",
     "text": [
      "100%|█████████████████████████████████████████████| 2/2 [00:00<00:00,  3.73it/s]\n"
     ]
    },
    {
     "name": "stdout",
     "output_type": "stream",
     "text": [
      "    65/191...\n"
     ]
    },
    {
     "name": "stderr",
     "output_type": "stream",
     "text": [
      "100%|█████████████████████████████████████████████| 1/1 [00:00<00:00,  5.45it/s]\n"
     ]
    },
    {
     "name": "stdout",
     "output_type": "stream",
     "text": [
      "    66/191...\n"
     ]
    },
    {
     "name": "stderr",
     "output_type": "stream",
     "text": [
      "100%|█████████████████████████████████████████████| 3/3 [00:00<00:00,  4.05it/s]\n"
     ]
    },
    {
     "name": "stdout",
     "output_type": "stream",
     "text": [
      "    67/191...\n"
     ]
    },
    {
     "name": "stderr",
     "output_type": "stream",
     "text": [
      "100%|█████████████████████████████████████████████| 4/4 [00:00<00:00,  4.05it/s]\n"
     ]
    },
    {
     "name": "stdout",
     "output_type": "stream",
     "text": [
      "    68/191...\n"
     ]
    },
    {
     "name": "stderr",
     "output_type": "stream",
     "text": [
      "100%|█████████████████████████████████████████████| 4/4 [00:00<00:00,  4.41it/s]\n"
     ]
    },
    {
     "name": "stdout",
     "output_type": "stream",
     "text": [
      "    69/191...\n"
     ]
    },
    {
     "name": "stderr",
     "output_type": "stream",
     "text": [
      "100%|█████████████████████████████████████████████| 4/4 [00:01<00:00,  3.96it/s]\n"
     ]
    },
    {
     "name": "stdout",
     "output_type": "stream",
     "text": [
      "    70/191...\n"
     ]
    },
    {
     "name": "stderr",
     "output_type": "stream",
     "text": [
      "100%|█████████████████████████████████████████████| 5/5 [00:02<00:00,  2.33it/s]\n"
     ]
    },
    {
     "name": "stdout",
     "output_type": "stream",
     "text": [
      "    71/191...\n"
     ]
    },
    {
     "name": "stderr",
     "output_type": "stream",
     "text": [
      "100%|█████████████████████████████████████████████| 3/3 [00:00<00:00,  3.79it/s]\n"
     ]
    },
    {
     "name": "stdout",
     "output_type": "stream",
     "text": [
      "    72/191...\n"
     ]
    },
    {
     "name": "stderr",
     "output_type": "stream",
     "text": [
      "100%|█████████████████████████████████████████████| 4/4 [00:00<00:00,  5.43it/s]\n"
     ]
    },
    {
     "name": "stdout",
     "output_type": "stream",
     "text": [
      "    73/191...\n"
     ]
    },
    {
     "name": "stderr",
     "output_type": "stream",
     "text": [
      "100%|█████████████████████████████████████████████| 4/4 [00:00<00:00,  4.78it/s]\n"
     ]
    },
    {
     "name": "stdout",
     "output_type": "stream",
     "text": [
      "    74/191...\n"
     ]
    },
    {
     "name": "stderr",
     "output_type": "stream",
     "text": [
      "100%|█████████████████████████████████████████████| 4/4 [00:00<00:00,  4.53it/s]\n"
     ]
    },
    {
     "name": "stdout",
     "output_type": "stream",
     "text": [
      "    75/191...\n"
     ]
    },
    {
     "name": "stderr",
     "output_type": "stream",
     "text": [
      "100%|█████████████████████████████████████████████| 3/3 [00:00<00:00,  4.28it/s]\n"
     ]
    },
    {
     "name": "stdout",
     "output_type": "stream",
     "text": [
      "    76/191...\n"
     ]
    },
    {
     "name": "stderr",
     "output_type": "stream",
     "text": [
      "100%|█████████████████████████████████████████████| 4/4 [00:00<00:00,  4.22it/s]\n"
     ]
    },
    {
     "name": "stdout",
     "output_type": "stream",
     "text": [
      "    77/191...\n"
     ]
    },
    {
     "name": "stderr",
     "output_type": "stream",
     "text": [
      "100%|█████████████████████████████████████████████| 4/4 [00:00<00:00,  4.03it/s]\n"
     ]
    },
    {
     "name": "stdout",
     "output_type": "stream",
     "text": [
      "    78/191...\n"
     ]
    },
    {
     "name": "stderr",
     "output_type": "stream",
     "text": [
      "100%|█████████████████████████████████████████████| 4/4 [00:00<00:00,  4.13it/s]\n"
     ]
    },
    {
     "name": "stdout",
     "output_type": "stream",
     "text": [
      "    79/191...\n"
     ]
    },
    {
     "name": "stderr",
     "output_type": "stream",
     "text": [
      "100%|█████████████████████████████████████████████| 1/1 [00:00<00:00,  5.79it/s]\n"
     ]
    },
    {
     "name": "stdout",
     "output_type": "stream",
     "text": [
      "    80/191...\n"
     ]
    },
    {
     "name": "stderr",
     "output_type": "stream",
     "text": [
      "100%|█████████████████████████████████████████████| 2/2 [00:00<00:00,  4.43it/s]\n"
     ]
    },
    {
     "name": "stdout",
     "output_type": "stream",
     "text": [
      "    81/191...\n"
     ]
    },
    {
     "name": "stderr",
     "output_type": "stream",
     "text": [
      "100%|█████████████████████████████████████████████| 4/4 [00:00<00:00, 11.57it/s]\n"
     ]
    },
    {
     "name": "stdout",
     "output_type": "stream",
     "text": [
      "    82/191...\n"
     ]
    },
    {
     "name": "stderr",
     "output_type": "stream",
     "text": [
      "100%|█████████████████████████████████████████████| 4/4 [00:00<00:00,  5.60it/s]\n"
     ]
    },
    {
     "name": "stdout",
     "output_type": "stream",
     "text": [
      "    83/191...\n"
     ]
    },
    {
     "name": "stderr",
     "output_type": "stream",
     "text": [
      "100%|█████████████████████████████████████████████| 4/4 [00:00<00:00,  4.96it/s]\n"
     ]
    },
    {
     "name": "stdout",
     "output_type": "stream",
     "text": [
      "    84/191...\n"
     ]
    },
    {
     "name": "stderr",
     "output_type": "stream",
     "text": [
      "100%|█████████████████████████████████████████████| 4/4 [00:00<00:00,  7.03it/s]\n"
     ]
    },
    {
     "name": "stdout",
     "output_type": "stream",
     "text": [
      "    85/191...\n"
     ]
    },
    {
     "name": "stderr",
     "output_type": "stream",
     "text": [
      "100%|█████████████████████████████████████████████| 1/1 [00:00<00:00,  5.40it/s]\n"
     ]
    },
    {
     "name": "stdout",
     "output_type": "stream",
     "text": [
      "    86/191...\n"
     ]
    },
    {
     "name": "stderr",
     "output_type": "stream",
     "text": [
      "100%|█████████████████████████████████████████████| 3/3 [00:00<00:00,  8.25it/s]\n"
     ]
    },
    {
     "name": "stdout",
     "output_type": "stream",
     "text": [
      "    87/191...\n"
     ]
    },
    {
     "name": "stderr",
     "output_type": "stream",
     "text": [
      "100%|█████████████████████████████████████████████| 4/4 [00:00<00:00,  6.36it/s]\n"
     ]
    },
    {
     "name": "stdout",
     "output_type": "stream",
     "text": [
      "    88/191...\n"
     ]
    },
    {
     "name": "stderr",
     "output_type": "stream",
     "text": [
      "100%|█████████████████████████████████████████████| 4/4 [00:00<00:00,  9.53it/s]\n"
     ]
    },
    {
     "name": "stdout",
     "output_type": "stream",
     "text": [
      "    89/191...\n"
     ]
    },
    {
     "name": "stderr",
     "output_type": "stream",
     "text": [
      "100%|█████████████████████████████████████████████| 4/4 [00:00<00:00,  5.22it/s]\n"
     ]
    },
    {
     "name": "stdout",
     "output_type": "stream",
     "text": [
      "    90/191...\n"
     ]
    },
    {
     "name": "stderr",
     "output_type": "stream",
     "text": [
      "100%|█████████████████████████████████████████████| 2/2 [00:00<00:00,  5.09it/s]\n"
     ]
    },
    {
     "name": "stdout",
     "output_type": "stream",
     "text": [
      "    91/191...\n"
     ]
    },
    {
     "name": "stderr",
     "output_type": "stream",
     "text": [
      "100%|█████████████████████████████████████████████| 4/4 [00:00<00:00,  6.13it/s]\n"
     ]
    },
    {
     "name": "stdout",
     "output_type": "stream",
     "text": [
      "    92/191...\n"
     ]
    },
    {
     "name": "stderr",
     "output_type": "stream",
     "text": [
      "100%|█████████████████████████████████████████████| 3/3 [00:00<00:00,  5.79it/s]\n"
     ]
    },
    {
     "name": "stdout",
     "output_type": "stream",
     "text": [
      "    93/191...\n"
     ]
    },
    {
     "name": "stderr",
     "output_type": "stream",
     "text": [
      "100%|█████████████████████████████████████████████| 4/4 [00:00<00:00,  5.60it/s]\n"
     ]
    },
    {
     "name": "stdout",
     "output_type": "stream",
     "text": [
      "    94/191...\n"
     ]
    },
    {
     "name": "stderr",
     "output_type": "stream",
     "text": [
      "100%|█████████████████████████████████████████████| 4/4 [00:00<00:00, 10.84it/s]\n"
     ]
    },
    {
     "name": "stdout",
     "output_type": "stream",
     "text": [
      "    95/191...\n"
     ]
    },
    {
     "name": "stderr",
     "output_type": "stream",
     "text": [
      "100%|█████████████████████████████████████████████| 4/4 [00:00<00:00,  4.82it/s]\n"
     ]
    },
    {
     "name": "stdout",
     "output_type": "stream",
     "text": [
      "    96/191...\n"
     ]
    },
    {
     "name": "stderr",
     "output_type": "stream",
     "text": [
      "100%|█████████████████████████████████████████████| 4/4 [00:00<00:00,  7.94it/s]\n"
     ]
    },
    {
     "name": "stdout",
     "output_type": "stream",
     "text": [
      "    97/191...\n"
     ]
    },
    {
     "name": "stderr",
     "output_type": "stream",
     "text": [
      "100%|█████████████████████████████████████████████| 4/4 [00:00<00:00, 12.62it/s]\n"
     ]
    },
    {
     "name": "stdout",
     "output_type": "stream",
     "text": [
      "    98/191...\n"
     ]
    },
    {
     "name": "stderr",
     "output_type": "stream",
     "text": [
      "100%|█████████████████████████████████████████████| 4/4 [00:00<00:00,  8.26it/s]\n"
     ]
    },
    {
     "name": "stdout",
     "output_type": "stream",
     "text": [
      "    99/191...\n"
     ]
    },
    {
     "name": "stderr",
     "output_type": "stream",
     "text": [
      "100%|█████████████████████████████████████████████| 4/4 [00:00<00:00,  4.95it/s]\n"
     ]
    },
    {
     "name": "stdout",
     "output_type": "stream",
     "text": [
      "    100/191...\n"
     ]
    },
    {
     "name": "stderr",
     "output_type": "stream",
     "text": [
      "100%|█████████████████████████████████████████████| 3/3 [00:00<00:00,  6.24it/s]\n"
     ]
    },
    {
     "name": "stdout",
     "output_type": "stream",
     "text": [
      "    101/191...\n"
     ]
    },
    {
     "name": "stderr",
     "output_type": "stream",
     "text": [
      "100%|█████████████████████████████████████████████| 4/4 [00:00<00:00,  6.05it/s]\n"
     ]
    },
    {
     "name": "stdout",
     "output_type": "stream",
     "text": [
      "    102/191...\n"
     ]
    },
    {
     "name": "stderr",
     "output_type": "stream",
     "text": [
      "100%|█████████████████████████████████████████████| 4/4 [00:00<00:00,  5.49it/s]\n"
     ]
    },
    {
     "name": "stdout",
     "output_type": "stream",
     "text": [
      "    103/191...\n"
     ]
    },
    {
     "name": "stderr",
     "output_type": "stream",
     "text": [
      "100%|█████████████████████████████████████████████| 4/4 [00:00<00:00,  4.93it/s]\n"
     ]
    },
    {
     "name": "stdout",
     "output_type": "stream",
     "text": [
      "    104/191...\n"
     ]
    },
    {
     "name": "stderr",
     "output_type": "stream",
     "text": [
      "100%|█████████████████████████████████████████████| 4/4 [00:00<00:00, 11.61it/s]\n"
     ]
    },
    {
     "name": "stdout",
     "output_type": "stream",
     "text": [
      "    105/191...\n"
     ]
    },
    {
     "name": "stderr",
     "output_type": "stream",
     "text": [
      "100%|█████████████████████████████████████████████| 4/4 [00:00<00:00,  5.59it/s]\n"
     ]
    },
    {
     "name": "stdout",
     "output_type": "stream",
     "text": [
      "    106/191...\n"
     ]
    },
    {
     "name": "stderr",
     "output_type": "stream",
     "text": [
      "100%|█████████████████████████████████████████████| 4/4 [00:00<00:00,  5.54it/s]\n"
     ]
    },
    {
     "name": "stdout",
     "output_type": "stream",
     "text": [
      "    107/191...\n"
     ]
    },
    {
     "name": "stderr",
     "output_type": "stream",
     "text": [
      "100%|█████████████████████████████████████████████| 4/4 [00:00<00:00,  7.82it/s]\n"
     ]
    },
    {
     "name": "stdout",
     "output_type": "stream",
     "text": [
      "    108/191...\n"
     ]
    },
    {
     "name": "stderr",
     "output_type": "stream",
     "text": [
      "100%|█████████████████████████████████████████████| 2/2 [00:00<00:00,  4.59it/s]\n"
     ]
    },
    {
     "name": "stdout",
     "output_type": "stream",
     "text": [
      "    109/191...\n"
     ]
    },
    {
     "name": "stderr",
     "output_type": "stream",
     "text": [
      "100%|█████████████████████████████████████████████| 4/4 [00:00<00:00,  7.65it/s]\n"
     ]
    },
    {
     "name": "stdout",
     "output_type": "stream",
     "text": [
      "    110/191...\n"
     ]
    },
    {
     "name": "stderr",
     "output_type": "stream",
     "text": [
      "100%|█████████████████████████████████████████████| 4/4 [00:00<00:00,  9.18it/s]\n"
     ]
    },
    {
     "name": "stdout",
     "output_type": "stream",
     "text": [
      "    111/191...\n"
     ]
    },
    {
     "name": "stderr",
     "output_type": "stream",
     "text": [
      "100%|█████████████████████████████████████████████| 4/4 [00:00<00:00,  6.01it/s]\n"
     ]
    },
    {
     "name": "stdout",
     "output_type": "stream",
     "text": [
      "    112/191...\n"
     ]
    },
    {
     "name": "stderr",
     "output_type": "stream",
     "text": [
      "100%|█████████████████████████████████████████████| 1/1 [00:00<00:00,  6.09it/s]\n"
     ]
    },
    {
     "name": "stdout",
     "output_type": "stream",
     "text": [
      "    113/191...\n"
     ]
    },
    {
     "name": "stderr",
     "output_type": "stream",
     "text": [
      "100%|█████████████████████████████████████████████| 4/4 [00:00<00:00,  7.61it/s]\n"
     ]
    },
    {
     "name": "stdout",
     "output_type": "stream",
     "text": [
      "    114/191...\n"
     ]
    },
    {
     "name": "stderr",
     "output_type": "stream",
     "text": [
      "100%|█████████████████████████████████████████████| 2/2 [00:00<00:00,  4.36it/s]\n"
     ]
    },
    {
     "name": "stdout",
     "output_type": "stream",
     "text": [
      "    115/191...\n"
     ]
    },
    {
     "name": "stderr",
     "output_type": "stream",
     "text": [
      "100%|█████████████████████████████████████████████| 4/4 [00:00<00:00,  8.02it/s]\n"
     ]
    },
    {
     "name": "stdout",
     "output_type": "stream",
     "text": [
      "    116/191...\n"
     ]
    },
    {
     "name": "stderr",
     "output_type": "stream",
     "text": [
      "100%|█████████████████████████████████████████████| 1/1 [00:00<00:00,  7.28it/s]\n"
     ]
    },
    {
     "name": "stdout",
     "output_type": "stream",
     "text": [
      "    117/191...\n"
     ]
    },
    {
     "name": "stderr",
     "output_type": "stream",
     "text": [
      "100%|█████████████████████████████████████████████| 4/4 [00:00<00:00,  6.91it/s]\n"
     ]
    },
    {
     "name": "stdout",
     "output_type": "stream",
     "text": [
      "    118/191...\n"
     ]
    },
    {
     "name": "stderr",
     "output_type": "stream",
     "text": [
      "100%|█████████████████████████████████████████████| 4/4 [00:00<00:00,  5.61it/s]\n"
     ]
    },
    {
     "name": "stdout",
     "output_type": "stream",
     "text": [
      "    119/191...\n"
     ]
    },
    {
     "name": "stderr",
     "output_type": "stream",
     "text": [
      "100%|█████████████████████████████████████████████| 4/4 [00:00<00:00,  9.08it/s]\n"
     ]
    },
    {
     "name": "stdout",
     "output_type": "stream",
     "text": [
      "    120/191...\n"
     ]
    },
    {
     "name": "stderr",
     "output_type": "stream",
     "text": [
      "100%|█████████████████████████████████████████████| 4/4 [00:00<00:00,  5.28it/s]\n"
     ]
    },
    {
     "name": "stdout",
     "output_type": "stream",
     "text": [
      "    121/191...\n"
     ]
    },
    {
     "name": "stderr",
     "output_type": "stream",
     "text": [
      "100%|█████████████████████████████████████████████| 3/3 [00:00<00:00,  6.04it/s]\n"
     ]
    },
    {
     "name": "stdout",
     "output_type": "stream",
     "text": [
      "    122/191...\n"
     ]
    },
    {
     "name": "stderr",
     "output_type": "stream",
     "text": [
      "100%|█████████████████████████████████████████████| 4/4 [00:00<00:00, 11.71it/s]\n"
     ]
    },
    {
     "name": "stdout",
     "output_type": "stream",
     "text": [
      "    123/191...\n"
     ]
    },
    {
     "name": "stderr",
     "output_type": "stream",
     "text": [
      "100%|█████████████████████████████████████████████| 2/2 [00:00<00:00,  5.38it/s]\n"
     ]
    },
    {
     "name": "stdout",
     "output_type": "stream",
     "text": [
      "    124/191...\n"
     ]
    },
    {
     "name": "stderr",
     "output_type": "stream",
     "text": [
      "100%|█████████████████████████████████████████████| 4/4 [00:00<00:00,  6.21it/s]\n"
     ]
    },
    {
     "name": "stdout",
     "output_type": "stream",
     "text": [
      "    125/191...\n"
     ]
    },
    {
     "name": "stderr",
     "output_type": "stream",
     "text": [
      "100%|█████████████████████████████████████████████| 4/4 [00:00<00:00,  6.28it/s]\n"
     ]
    },
    {
     "name": "stdout",
     "output_type": "stream",
     "text": [
      "    126/191...\n"
     ]
    },
    {
     "name": "stderr",
     "output_type": "stream",
     "text": [
      "100%|█████████████████████████████████████████████| 4/4 [00:00<00:00,  5.65it/s]\n"
     ]
    },
    {
     "name": "stdout",
     "output_type": "stream",
     "text": [
      "    127/191...\n"
     ]
    },
    {
     "name": "stderr",
     "output_type": "stream",
     "text": [
      "100%|█████████████████████████████████████████████| 2/2 [00:00<00:00, 10.55it/s]\n"
     ]
    },
    {
     "name": "stdout",
     "output_type": "stream",
     "text": [
      "    128/191...\n"
     ]
    },
    {
     "name": "stderr",
     "output_type": "stream",
     "text": [
      "100%|█████████████████████████████████████████████| 4/4 [00:00<00:00,  4.96it/s]\n"
     ]
    },
    {
     "name": "stdout",
     "output_type": "stream",
     "text": [
      "    129/191...\n"
     ]
    },
    {
     "name": "stderr",
     "output_type": "stream",
     "text": [
      "100%|█████████████████████████████████████████████| 3/3 [00:00<00:00,  5.66it/s]\n"
     ]
    },
    {
     "name": "stdout",
     "output_type": "stream",
     "text": [
      "    130/191...\n"
     ]
    },
    {
     "name": "stderr",
     "output_type": "stream",
     "text": [
      "100%|█████████████████████████████████████████████| 4/4 [00:00<00:00,  7.25it/s]\n"
     ]
    },
    {
     "name": "stdout",
     "output_type": "stream",
     "text": [
      "    131/191...\n"
     ]
    },
    {
     "name": "stderr",
     "output_type": "stream",
     "text": [
      "100%|█████████████████████████████████████████████| 2/2 [00:00<00:00,  6.11it/s]\n"
     ]
    },
    {
     "name": "stdout",
     "output_type": "stream",
     "text": [
      "    132/191...\n"
     ]
    },
    {
     "name": "stderr",
     "output_type": "stream",
     "text": [
      "100%|█████████████████████████████████████████████| 4/4 [00:00<00:00,  5.32it/s]\n"
     ]
    },
    {
     "name": "stdout",
     "output_type": "stream",
     "text": [
      "    133/191...\n"
     ]
    },
    {
     "name": "stderr",
     "output_type": "stream",
     "text": [
      "100%|█████████████████████████████████████████████| 4/4 [00:00<00:00,  9.12it/s]\n"
     ]
    },
    {
     "name": "stdout",
     "output_type": "stream",
     "text": [
      "    134/191...\n"
     ]
    },
    {
     "name": "stderr",
     "output_type": "stream",
     "text": [
      "100%|█████████████████████████████████████████████| 4/4 [00:00<00:00,  5.72it/s]\n"
     ]
    },
    {
     "name": "stdout",
     "output_type": "stream",
     "text": [
      "    135/191...\n"
     ]
    },
    {
     "name": "stderr",
     "output_type": "stream",
     "text": [
      "100%|█████████████████████████████████████████████| 2/2 [00:00<00:00,  4.99it/s]\n"
     ]
    },
    {
     "name": "stdout",
     "output_type": "stream",
     "text": [
      "    136/191...\n"
     ]
    },
    {
     "name": "stderr",
     "output_type": "stream",
     "text": [
      "100%|█████████████████████████████████████████████| 4/4 [00:00<00:00,  5.29it/s]\n"
     ]
    },
    {
     "name": "stdout",
     "output_type": "stream",
     "text": [
      "    137/191...\n"
     ]
    },
    {
     "name": "stderr",
     "output_type": "stream",
     "text": [
      "100%|█████████████████████████████████████████████| 2/2 [00:00<00:00,  4.89it/s]\n"
     ]
    },
    {
     "name": "stdout",
     "output_type": "stream",
     "text": [
      "    138/191...\n"
     ]
    },
    {
     "name": "stderr",
     "output_type": "stream",
     "text": [
      "100%|█████████████████████████████████████████████| 4/4 [00:00<00:00,  5.39it/s]\n"
     ]
    },
    {
     "name": "stdout",
     "output_type": "stream",
     "text": [
      "    139/191...\n"
     ]
    },
    {
     "name": "stderr",
     "output_type": "stream",
     "text": [
      "100%|█████████████████████████████████████████████| 4/4 [00:00<00:00,  9.14it/s]\n"
     ]
    },
    {
     "name": "stdout",
     "output_type": "stream",
     "text": [
      "    140/191...\n"
     ]
    },
    {
     "name": "stderr",
     "output_type": "stream",
     "text": [
      "100%|█████████████████████████████████████████████| 4/4 [00:00<00:00, 10.49it/s]\n"
     ]
    },
    {
     "name": "stdout",
     "output_type": "stream",
     "text": [
      "    141/191...\n"
     ]
    },
    {
     "name": "stderr",
     "output_type": "stream",
     "text": [
      "100%|█████████████████████████████████████████████| 4/4 [00:00<00:00,  6.51it/s]\n"
     ]
    },
    {
     "name": "stdout",
     "output_type": "stream",
     "text": [
      "    142/191...\n"
     ]
    },
    {
     "name": "stderr",
     "output_type": "stream",
     "text": [
      "100%|█████████████████████████████████████████████| 3/3 [00:00<00:00,  5.24it/s]\n"
     ]
    },
    {
     "name": "stdout",
     "output_type": "stream",
     "text": [
      "    143/191...\n"
     ]
    },
    {
     "name": "stderr",
     "output_type": "stream",
     "text": [
      "100%|█████████████████████████████████████████████| 4/4 [00:00<00:00,  5.40it/s]\n"
     ]
    },
    {
     "name": "stdout",
     "output_type": "stream",
     "text": [
      "    144/191...\n"
     ]
    },
    {
     "name": "stderr",
     "output_type": "stream",
     "text": [
      "100%|█████████████████████████████████████████████| 4/4 [00:00<00:00,  5.28it/s]\n"
     ]
    },
    {
     "name": "stdout",
     "output_type": "stream",
     "text": [
      "    145/191...\n"
     ]
    },
    {
     "name": "stderr",
     "output_type": "stream",
     "text": [
      "100%|█████████████████████████████████████████████| 4/4 [00:00<00:00,  6.23it/s]\n"
     ]
    },
    {
     "name": "stdout",
     "output_type": "stream",
     "text": [
      "    146/191...\n"
     ]
    },
    {
     "name": "stderr",
     "output_type": "stream",
     "text": [
      "100%|█████████████████████████████████████████████| 4/4 [00:00<00:00,  5.46it/s]\n"
     ]
    },
    {
     "name": "stdout",
     "output_type": "stream",
     "text": [
      "    147/191...\n"
     ]
    },
    {
     "name": "stderr",
     "output_type": "stream",
     "text": [
      "100%|█████████████████████████████████████████████| 4/4 [00:00<00:00,  5.83it/s]\n"
     ]
    },
    {
     "name": "stdout",
     "output_type": "stream",
     "text": [
      "    148/191...\n"
     ]
    },
    {
     "name": "stderr",
     "output_type": "stream",
     "text": [
      "100%|█████████████████████████████████████████████| 4/4 [00:00<00:00,  8.60it/s]\n"
     ]
    },
    {
     "name": "stdout",
     "output_type": "stream",
     "text": [
      "    149/191...\n"
     ]
    },
    {
     "name": "stderr",
     "output_type": "stream",
     "text": [
      "100%|█████████████████████████████████████████████| 4/4 [00:00<00:00,  8.21it/s]\n"
     ]
    },
    {
     "name": "stdout",
     "output_type": "stream",
     "text": [
      "    150/191...\n"
     ]
    },
    {
     "name": "stderr",
     "output_type": "stream",
     "text": [
      "100%|█████████████████████████████████████████████| 4/4 [00:00<00:00,  5.89it/s]\n"
     ]
    },
    {
     "name": "stdout",
     "output_type": "stream",
     "text": [
      "    151/191...\n"
     ]
    },
    {
     "name": "stderr",
     "output_type": "stream",
     "text": [
      "100%|█████████████████████████████████████████████| 4/4 [00:00<00:00,  5.91it/s]\n"
     ]
    },
    {
     "name": "stdout",
     "output_type": "stream",
     "text": [
      "    152/191...\n"
     ]
    },
    {
     "name": "stderr",
     "output_type": "stream",
     "text": [
      "100%|█████████████████████████████████████████████| 3/3 [00:00<00:00,  5.02it/s]\n"
     ]
    },
    {
     "name": "stdout",
     "output_type": "stream",
     "text": [
      "    153/191...\n"
     ]
    },
    {
     "name": "stderr",
     "output_type": "stream",
     "text": [
      "100%|█████████████████████████████████████████████| 4/4 [00:00<00:00, 11.21it/s]\n"
     ]
    },
    {
     "name": "stdout",
     "output_type": "stream",
     "text": [
      "    154/191...\n"
     ]
    },
    {
     "name": "stderr",
     "output_type": "stream",
     "text": [
      "100%|█████████████████████████████████████████████| 4/4 [00:00<00:00,  4.93it/s]\n"
     ]
    },
    {
     "name": "stdout",
     "output_type": "stream",
     "text": [
      "    155/191...\n"
     ]
    },
    {
     "name": "stderr",
     "output_type": "stream",
     "text": [
      "100%|█████████████████████████████████████████████| 2/2 [00:00<00:00,  4.91it/s]\n"
     ]
    },
    {
     "name": "stdout",
     "output_type": "stream",
     "text": [
      "    156/191...\n"
     ]
    },
    {
     "name": "stderr",
     "output_type": "stream",
     "text": [
      "100%|█████████████████████████████████████████████| 3/3 [00:00<00:00,  4.25it/s]\n"
     ]
    },
    {
     "name": "stdout",
     "output_type": "stream",
     "text": [
      "    157/191...\n"
     ]
    },
    {
     "name": "stderr",
     "output_type": "stream",
     "text": [
      "100%|█████████████████████████████████████████████| 2/2 [00:00<00:00,  5.46it/s]\n"
     ]
    },
    {
     "name": "stdout",
     "output_type": "stream",
     "text": [
      "    158/191...\n"
     ]
    },
    {
     "name": "stderr",
     "output_type": "stream",
     "text": [
      "100%|█████████████████████████████████████████████| 4/4 [00:00<00:00,  9.71it/s]\n"
     ]
    },
    {
     "name": "stdout",
     "output_type": "stream",
     "text": [
      "    159/191...\n"
     ]
    },
    {
     "name": "stderr",
     "output_type": "stream",
     "text": [
      "100%|█████████████████████████████████████████████| 4/4 [00:00<00:00,  7.77it/s]\n"
     ]
    },
    {
     "name": "stdout",
     "output_type": "stream",
     "text": [
      "    160/191...\n"
     ]
    },
    {
     "name": "stderr",
     "output_type": "stream",
     "text": [
      "100%|█████████████████████████████████████████████| 4/4 [00:00<00:00,  4.52it/s]\n"
     ]
    },
    {
     "name": "stdout",
     "output_type": "stream",
     "text": [
      "    161/191...\n"
     ]
    },
    {
     "name": "stderr",
     "output_type": "stream",
     "text": [
      "100%|█████████████████████████████████████████████| 4/4 [00:00<00:00,  5.28it/s]\n"
     ]
    },
    {
     "name": "stdout",
     "output_type": "stream",
     "text": [
      "    162/191...\n"
     ]
    },
    {
     "name": "stderr",
     "output_type": "stream",
     "text": [
      "100%|█████████████████████████████████████████████| 4/4 [00:00<00:00,  5.22it/s]\n"
     ]
    },
    {
     "name": "stdout",
     "output_type": "stream",
     "text": [
      "    163/191...\n"
     ]
    },
    {
     "name": "stderr",
     "output_type": "stream",
     "text": [
      "100%|█████████████████████████████████████████████| 4/4 [00:00<00:00,  5.10it/s]\n"
     ]
    },
    {
     "name": "stdout",
     "output_type": "stream",
     "text": [
      "    164/191...\n"
     ]
    },
    {
     "name": "stderr",
     "output_type": "stream",
     "text": [
      "100%|█████████████████████████████████████████████| 4/4 [00:00<00:00,  7.75it/s]\n"
     ]
    },
    {
     "name": "stdout",
     "output_type": "stream",
     "text": [
      "    165/191...\n"
     ]
    },
    {
     "name": "stderr",
     "output_type": "stream",
     "text": [
      "100%|█████████████████████████████████████████████| 4/4 [00:00<00:00,  4.97it/s]\n"
     ]
    },
    {
     "name": "stdout",
     "output_type": "stream",
     "text": [
      "    166/191...\n"
     ]
    },
    {
     "name": "stderr",
     "output_type": "stream",
     "text": [
      "100%|█████████████████████████████████████████████| 3/3 [00:00<00:00,  8.04it/s]\n"
     ]
    },
    {
     "name": "stdout",
     "output_type": "stream",
     "text": [
      "    167/191...\n"
     ]
    },
    {
     "name": "stderr",
     "output_type": "stream",
     "text": [
      "100%|█████████████████████████████████████████████| 2/2 [00:00<00:00,  4.36it/s]\n"
     ]
    },
    {
     "name": "stdout",
     "output_type": "stream",
     "text": [
      "    168/191...\n"
     ]
    },
    {
     "name": "stderr",
     "output_type": "stream",
     "text": [
      "100%|█████████████████████████████████████████████| 1/1 [00:00<00:00,  4.95it/s]\n"
     ]
    },
    {
     "name": "stdout",
     "output_type": "stream",
     "text": [
      "    169/191...\n"
     ]
    },
    {
     "name": "stderr",
     "output_type": "stream",
     "text": [
      "100%|█████████████████████████████████████████████| 4/4 [00:00<00:00,  5.36it/s]\n"
     ]
    },
    {
     "name": "stdout",
     "output_type": "stream",
     "text": [
      "    170/191...\n"
     ]
    },
    {
     "name": "stderr",
     "output_type": "stream",
     "text": [
      "100%|█████████████████████████████████████████████| 1/1 [00:00<00:00,  6.54it/s]\n"
     ]
    },
    {
     "name": "stdout",
     "output_type": "stream",
     "text": [
      "    171/191...\n"
     ]
    },
    {
     "name": "stderr",
     "output_type": "stream",
     "text": [
      "100%|█████████████████████████████████████████████| 4/4 [00:00<00:00,  5.02it/s]\n"
     ]
    },
    {
     "name": "stdout",
     "output_type": "stream",
     "text": [
      "    172/191...\n"
     ]
    },
    {
     "name": "stderr",
     "output_type": "stream",
     "text": [
      "100%|█████████████████████████████████████████████| 2/2 [00:00<00:00,  5.68it/s]\n"
     ]
    },
    {
     "name": "stdout",
     "output_type": "stream",
     "text": [
      "    173/191...\n"
     ]
    },
    {
     "name": "stderr",
     "output_type": "stream",
     "text": [
      "100%|█████████████████████████████████████████████| 4/4 [00:00<00:00,  5.37it/s]\n"
     ]
    },
    {
     "name": "stdout",
     "output_type": "stream",
     "text": [
      "    174/191...\n"
     ]
    },
    {
     "name": "stderr",
     "output_type": "stream",
     "text": [
      "100%|█████████████████████████████████████████████| 2/2 [00:00<00:00,  5.42it/s]\n"
     ]
    },
    {
     "name": "stdout",
     "output_type": "stream",
     "text": [
      "    175/191...\n"
     ]
    },
    {
     "name": "stderr",
     "output_type": "stream",
     "text": [
      "100%|█████████████████████████████████████████████| 2/2 [00:00<00:00,  5.81it/s]\n"
     ]
    },
    {
     "name": "stdout",
     "output_type": "stream",
     "text": [
      "    176/191...\n"
     ]
    },
    {
     "name": "stderr",
     "output_type": "stream",
     "text": [
      "100%|█████████████████████████████████████████████| 4/4 [00:00<00:00,  6.16it/s]\n"
     ]
    },
    {
     "name": "stdout",
     "output_type": "stream",
     "text": [
      "    177/191...\n"
     ]
    },
    {
     "name": "stderr",
     "output_type": "stream",
     "text": [
      "100%|█████████████████████████████████████████████| 4/4 [00:00<00:00,  5.70it/s]\n"
     ]
    },
    {
     "name": "stdout",
     "output_type": "stream",
     "text": [
      "    178/191...\n"
     ]
    },
    {
     "name": "stderr",
     "output_type": "stream",
     "text": [
      "100%|█████████████████████████████████████████████| 4/4 [00:00<00:00,  5.95it/s]\n"
     ]
    },
    {
     "name": "stdout",
     "output_type": "stream",
     "text": [
      "    179/191...\n"
     ]
    },
    {
     "name": "stderr",
     "output_type": "stream",
     "text": [
      "100%|█████████████████████████████████████████████| 4/4 [00:00<00:00,  6.02it/s]\n"
     ]
    },
    {
     "name": "stdout",
     "output_type": "stream",
     "text": [
      "    180/191...\n"
     ]
    },
    {
     "name": "stderr",
     "output_type": "stream",
     "text": [
      "100%|█████████████████████████████████████████████| 1/1 [00:00<00:00,  6.67it/s]\n"
     ]
    },
    {
     "name": "stdout",
     "output_type": "stream",
     "text": [
      "    181/191...\n"
     ]
    },
    {
     "name": "stderr",
     "output_type": "stream",
     "text": [
      "100%|█████████████████████████████████████████████| 4/4 [00:00<00:00,  6.02it/s]\n"
     ]
    },
    {
     "name": "stdout",
     "output_type": "stream",
     "text": [
      "    182/191...\n"
     ]
    },
    {
     "name": "stderr",
     "output_type": "stream",
     "text": [
      "100%|█████████████████████████████████████████████| 4/4 [00:00<00:00,  6.37it/s]\n"
     ]
    },
    {
     "name": "stdout",
     "output_type": "stream",
     "text": [
      "    183/191...\n"
     ]
    },
    {
     "name": "stderr",
     "output_type": "stream",
     "text": [
      "100%|█████████████████████████████████████████████| 4/4 [00:00<00:00,  4.93it/s]\n"
     ]
    },
    {
     "name": "stdout",
     "output_type": "stream",
     "text": [
      "    184/191...\n"
     ]
    },
    {
     "name": "stderr",
     "output_type": "stream",
     "text": [
      "100%|█████████████████████████████████████████████| 4/4 [00:00<00:00,  7.46it/s]\n"
     ]
    },
    {
     "name": "stdout",
     "output_type": "stream",
     "text": [
      "    185/191...\n"
     ]
    },
    {
     "name": "stderr",
     "output_type": "stream",
     "text": [
      "100%|█████████████████████████████████████████████| 4/4 [00:00<00:00,  5.85it/s]\n"
     ]
    },
    {
     "name": "stdout",
     "output_type": "stream",
     "text": [
      "    186/191...\n"
     ]
    },
    {
     "name": "stderr",
     "output_type": "stream",
     "text": [
      "100%|█████████████████████████████████████████████| 2/2 [00:00<00:00,  4.87it/s]\n"
     ]
    },
    {
     "name": "stdout",
     "output_type": "stream",
     "text": [
      "    187/191...\n"
     ]
    },
    {
     "name": "stderr",
     "output_type": "stream",
     "text": [
      "100%|█████████████████████████████████████████████| 4/4 [00:00<00:00,  5.21it/s]\n"
     ]
    },
    {
     "name": "stdout",
     "output_type": "stream",
     "text": [
      "    188/191...\n"
     ]
    },
    {
     "name": "stderr",
     "output_type": "stream",
     "text": [
      "100%|█████████████████████████████████████████████| 2/2 [00:00<00:00,  5.24it/s]\n"
     ]
    },
    {
     "name": "stdout",
     "output_type": "stream",
     "text": [
      "    189/191...\n"
     ]
    },
    {
     "name": "stderr",
     "output_type": "stream",
     "text": [
      "100%|█████████████████████████████████████████████| 4/4 [00:00<00:00,  4.94it/s]\n"
     ]
    },
    {
     "name": "stdout",
     "output_type": "stream",
     "text": [
      "    190/191...\n"
     ]
    },
    {
     "name": "stderr",
     "output_type": "stream",
     "text": [
      "100%|█████████████████████████████████████████████| 4/4 [00:00<00:00,  6.38it/s]\n"
     ]
    },
    {
     "name": "stdout",
     "output_type": "stream",
     "text": [
      "    191/191...\n"
     ]
    },
    {
     "name": "stderr",
     "output_type": "stream",
     "text": [
      "100%|█████████████████████████████████████████████| 1/1 [00:00<00:00,  5.59it/s]\n"
     ]
    },
    {
     "name": "stdout",
     "output_type": "stream",
     "text": [
      "Done.\n"
     ]
    }
   ],
   "source": [
    "run_model(model_folder, test_folder, output_folder, allow_failures = True, verbose = 2)"
   ]
  },
  {
   "cell_type": "code",
   "execution_count": 91,
   "id": "247a6478",
   "metadata": {},
   "outputs": [],
   "source": [
    "from evaluate_model import *\n",
    "\n"
   ]
  },
  {
   "cell_type": "code",
   "execution_count": 92,
   "id": "b770afd6",
   "metadata": {
    "scrolled": false
   },
   "outputs": [
    {
     "name": "stdout",
     "output_type": "stream",
     "text": [
      "#Murmur scores\n",
      "AUROC,AUPRC,F-measure,Accuracy,Weighted Accuracy,Cost\n",
      "0.756,0.590,0.515,0.785,0.760,16326.918\n",
      "\n",
      "#Outcome scores\n",
      "AUROC,AUPRC,F-measure,Accuracy,Weighted Accuracy,Cost\n",
      "0.687,0.664,0.631,0.634,0.674,12278.547\n",
      "\n",
      "#Murmur scores (per class)\n",
      "Classes,Present,Unknown,Absent\n",
      "AUROC,0.938,0.500,0.830\n",
      "AUPRC,0.800,0.073,0.896\n",
      "F-measure,0.680,0.000,0.863\n",
      "Accuracy,0.868,0.000,0.842\n",
      "\n",
      "#Outcome scores (per class)\n",
      "Classes,Abnormal,Normal\n",
      "AUROC,0.687,0.687\n",
      "AUPRC,0.678,0.650\n",
      "F-measure,0.660,0.602\n",
      "Accuracy,0.694,0.570\n",
      "\n"
     ]
    }
   ],
   "source": [
    "murmur_scores, outcome_scores = evaluate_model(test_folder, output_folder)\n",
    "classes, auroc, auprc, auroc_classes, auprc_classes, f_measure, f_measure_classes, accuracy, accuracy_classes, weighted_accuracy, cost = murmur_scores\n",
    "murmur_output_string = 'AUROC,AUPRC,F-measure,Accuracy,Weighted Accuracy,Cost\\n{:.3f},{:.3f},{:.3f},{:.3f},{:.3f},{:.3f}\\n'.format(auroc, auprc, f_measure, accuracy, weighted_accuracy, cost)\n",
    "murmur_class_output_string = 'Classes,{}\\nAUROC,{}\\nAUPRC,{}\\nF-measure,{}\\nAccuracy,{}\\n'.format(\n",
    "    ','.join(classes),\n",
    "    ','.join('{:.3f}'.format(x) for x in auroc_classes),\n",
    "    ','.join('{:.3f}'.format(x) for x in auprc_classes),\n",
    "    ','.join('{:.3f}'.format(x) for x in f_measure_classes),\n",
    "    ','.join('{:.3f}'.format(x) for x in accuracy_classes))\n",
    "\n",
    "classes, auroc, auprc, auroc_classes, auprc_classes, f_measure, f_measure_classes, accuracy, accuracy_classes, weighted_accuracy, cost = outcome_scores\n",
    "outcome_output_string = 'AUROC,AUPRC,F-measure,Accuracy,Weighted Accuracy,Cost\\n{:.3f},{:.3f},{:.3f},{:.3f},{:.3f},{:.3f}\\n'.format(auroc, auprc, f_measure, accuracy, weighted_accuracy, cost)\n",
    "outcome_class_output_string = 'Classes,{}\\nAUROC,{}\\nAUPRC,{}\\nF-measure,{}\\nAccuracy,{}\\n'.format(\n",
    "    ','.join(classes),\n",
    "    ','.join('{:.3f}'.format(x) for x in auroc_classes),\n",
    "    ','.join('{:.3f}'.format(x) for x in auprc_classes),\n",
    "    ','.join('{:.3f}'.format(x) for x in f_measure_classes),\n",
    "    ','.join('{:.3f}'.format(x) for x in accuracy_classes))\n",
    "\n",
    "output_string = '#Murmur scores\\n' + murmur_output_string + '\\n#Outcome scores\\n' + outcome_output_string \\\n",
    "    + '\\n#Murmur scores (per class)\\n' + murmur_class_output_string + '\\n#Outcome scores (per class)\\n' + outcome_class_output_string\n",
    "\n",
    "if len(sys.argv) == 3:\n",
    "    print(output_string)\n",
    "elif len(sys.argv) == 4:\n",
    "    with open(sys.argv[3], 'w') as f:\n",
    "        f.write(output_string)"
   ]
  },
  {
   "cell_type": "code",
   "execution_count": null,
   "id": "72a27458",
   "metadata": {},
   "outputs": [],
   "source": []
  },
  {
   "cell_type": "code",
   "execution_count": 93,
   "id": "4235c97d",
   "metadata": {},
   "outputs": [
    {
     "name": "stdout",
     "output_type": "stream",
     "text": [
      "0.43261930576637775\n",
      "0.5673806944676719\n",
      "0.621152148118818\n",
      "0.37884785305143026\n"
     ]
    }
   ],
   "source": [
    "label_folder = test_folder\n",
    "murmur_classes = ['Present', 'Unknown', 'Absent']\n",
    "outcome_classes = ['Abnormal', 'Normal']\n",
    "\n",
    "# Load and parse label and model output files.\n",
    "label_files, output_files = find_challenge_files(label_folder, output_folder)\n",
    "murmur_labels = load_murmurs(label_files, murmur_classes)\n",
    "murmur_binary_outputs, murmur_scalar_outputs = load_classifier_outputs(output_files, murmur_classes)\n",
    "outcome_labels = load_outcomes(label_files, outcome_classes)\n",
    "outcome_binary_outputs, outcome_scalar_outputs = load_classifier_outputs(output_files, outcome_classes)\n",
    "\n",
    "\n",
    "print(np.mean(murmur_scalar_outputs[:,0]))\n",
    "print(np.mean(murmur_scalar_outputs[:,2]))\n",
    "print(np.mean(outcome_scalar_outputs[:,0]))\n",
    "print(np.mean(outcome_scalar_outputs[:,1]))"
   ]
  },
  {
   "cell_type": "code",
   "execution_count": 94,
   "id": "3fb59f7c",
   "metadata": {
    "scrolled": false
   },
   "outputs": [
    {
     "name": "stdout",
     "output_type": "stream",
     "text": [
      "threshold:  0.01\n",
      "#Murmur scores\n",
      "AUROC,AUPRC,F-measure,Accuracy,Weighted Accuracy,Cost\n",
      "0.756,0.590,0.111,0.199,0.512,15140.890\n",
      "\n",
      "#Outcome scores\n",
      "AUROC,AUPRC,F-measure,Accuracy,Weighted Accuracy,Cost\n",
      "0.687,0.664,0.339,0.513,0.840,15140.890\n",
      "\n",
      "#Murmur scores (per class)\n",
      "Classes,Present,Unknown,Absent\n",
      "AUROC,0.938,0.500,0.830\n",
      "AUPRC,0.800,0.073,0.896\n",
      "F-measure,0.332,0.000,0.000\n",
      "Accuracy,1.000,0.000,0.000\n",
      "\n",
      "#Outcome scores (per class)\n",
      "Classes,Abnormal,Normal\n",
      "AUROC,0.687,0.687\n",
      "AUPRC,0.678,0.650\n",
      "F-measure,0.678,0.000\n",
      "Accuracy,1.000,0.000\n",
      "\n",
      "-------------\n",
      "threshold:  0.05\n",
      "#Murmur scores\n",
      "AUROC,AUPRC,F-measure,Accuracy,Weighted Accuracy,Cost\n",
      "0.756,0.590,0.111,0.199,0.512,15140.890\n",
      "\n",
      "#Outcome scores\n",
      "AUROC,AUPRC,F-measure,Accuracy,Weighted Accuracy,Cost\n",
      "0.687,0.664,0.339,0.513,0.840,15140.890\n",
      "\n",
      "#Murmur scores (per class)\n",
      "Classes,Present,Unknown,Absent\n",
      "AUROC,0.938,0.500,0.830\n",
      "AUPRC,0.800,0.073,0.896\n",
      "F-measure,0.332,0.000,0.000\n",
      "Accuracy,1.000,0.000,0.000\n",
      "\n",
      "#Outcome scores (per class)\n",
      "Classes,Abnormal,Normal\n",
      "AUROC,0.687,0.687\n",
      "AUPRC,0.678,0.650\n",
      "F-measure,0.678,0.000\n",
      "Accuracy,1.000,0.000\n",
      "\n",
      "-------------\n",
      "threshold:  0.1\n",
      "#Murmur scores\n",
      "AUROC,AUPRC,F-measure,Accuracy,Weighted Accuracy,Cost\n",
      "0.756,0.590,0.116,0.204,0.515,15131.464\n",
      "\n",
      "#Outcome scores\n",
      "AUROC,AUPRC,F-measure,Accuracy,Weighted Accuracy,Cost\n",
      "0.687,0.664,0.339,0.513,0.840,15140.890\n",
      "\n",
      "#Murmur scores (per class)\n",
      "Classes,Present,Unknown,Absent\n",
      "AUROC,0.938,0.500,0.830\n",
      "AUPRC,0.800,0.073,0.896\n",
      "F-measure,0.333,0.000,0.014\n",
      "Accuracy,1.000,0.000,0.007\n",
      "\n",
      "#Outcome scores (per class)\n",
      "Classes,Abnormal,Normal\n",
      "AUROC,0.687,0.687\n",
      "AUPRC,0.678,0.650\n",
      "F-measure,0.678,0.000\n",
      "Accuracy,1.000,0.000\n",
      "\n",
      "-------------\n",
      "threshold:  0.15\n",
      "#Murmur scores\n",
      "AUROC,AUPRC,F-measure,Accuracy,Weighted Accuracy,Cost\n",
      "0.756,0.590,0.131,0.220,0.523,15124.528\n",
      "\n",
      "#Outcome scores\n",
      "AUROC,AUPRC,F-measure,Accuracy,Weighted Accuracy,Cost\n",
      "0.687,0.664,0.339,0.513,0.840,15140.890\n",
      "\n",
      "#Murmur scores (per class)\n",
      "Classes,Present,Unknown,Absent\n",
      "AUROC,0.938,0.500,0.830\n",
      "AUPRC,0.800,0.073,0.896\n",
      "F-measure,0.338,0.000,0.056\n",
      "Accuracy,1.000,0.000,0.029\n",
      "\n",
      "#Outcome scores (per class)\n",
      "Classes,Abnormal,Normal\n",
      "AUROC,0.687,0.687\n",
      "AUPRC,0.678,0.650\n",
      "F-measure,0.678,0.000\n",
      "Accuracy,1.000,0.000\n",
      "\n",
      "-------------\n",
      "threshold:  0.2\n",
      "#Murmur scores\n",
      "AUROC,AUPRC,F-measure,Accuracy,Weighted Accuracy,Cost\n",
      "0.756,0.590,0.175,0.267,0.547,13892.429\n",
      "\n",
      "#Outcome scores\n",
      "AUROC,AUPRC,F-measure,Accuracy,Weighted Accuracy,Cost\n",
      "0.687,0.664,0.339,0.513,0.840,15140.890\n",
      "\n",
      "#Murmur scores (per class)\n",
      "Classes,Present,Unknown,Absent\n",
      "AUROC,0.938,0.500,0.830\n",
      "AUPRC,0.800,0.073,0.896\n",
      "F-measure,0.355,0.000,0.169\n",
      "Accuracy,1.000,0.000,0.094\n",
      "\n",
      "#Outcome scores (per class)\n",
      "Classes,Abnormal,Normal\n",
      "AUROC,0.687,0.687\n",
      "AUPRC,0.678,0.650\n",
      "F-measure,0.678,0.000\n",
      "Accuracy,1.000,0.000\n",
      "\n",
      "-------------\n",
      "threshold:  0.25\n",
      "#Murmur scores\n",
      "AUROC,AUPRC,F-measure,Accuracy,Weighted Accuracy,Cost\n",
      "0.756,0.590,0.242,0.351,0.590,11615.385\n",
      "\n",
      "#Outcome scores\n",
      "AUROC,AUPRC,F-measure,Accuracy,Weighted Accuracy,Cost\n",
      "0.687,0.664,0.351,0.518,0.842,14922.040\n",
      "\n",
      "#Murmur scores (per class)\n",
      "Classes,Present,Unknown,Absent\n",
      "AUROC,0.938,0.500,0.830\n",
      "AUPRC,0.800,0.073,0.896\n",
      "F-measure,0.386,0.000,0.339\n",
      "Accuracy,1.000,0.000,0.209\n",
      "\n",
      "#Outcome scores (per class)\n",
      "Classes,Abnormal,Normal\n",
      "AUROC,0.687,0.687\n",
      "AUPRC,0.678,0.650\n",
      "F-measure,0.681,0.021\n",
      "Accuracy,1.000,0.011\n",
      "\n",
      "-------------\n",
      "threshold:  0.3\n",
      "#Murmur scores\n",
      "AUROC,AUPRC,F-measure,Accuracy,Weighted Accuracy,Cost\n",
      "0.756,0.590,0.314,0.455,0.644,12241.494\n",
      "\n",
      "#Outcome scores\n",
      "AUROC,AUPRC,F-measure,Accuracy,Weighted Accuracy,Cost\n",
      "0.687,0.664,0.351,0.518,0.842,14922.040\n",
      "\n",
      "#Murmur scores (per class)\n",
      "Classes,Present,Unknown,Absent\n",
      "AUROC,0.938,0.500,0.830\n",
      "AUPRC,0.800,0.073,0.896\n",
      "F-measure,0.432,0.000,0.510\n",
      "Accuracy,1.000,0.000,0.353\n",
      "\n",
      "#Outcome scores (per class)\n",
      "Classes,Abnormal,Normal\n",
      "AUROC,0.687,0.687\n",
      "AUPRC,0.678,0.650\n",
      "F-measure,0.681,0.021\n",
      "Accuracy,1.000,0.011\n",
      "\n",
      "-------------\n",
      "threshold:  0.35\n",
      "#Murmur scores\n",
      "AUROC,AUPRC,F-measure,Accuracy,Weighted Accuracy,Cost\n",
      "0.756,0.590,0.360,0.529,0.682,12672.152\n",
      "\n",
      "#Outcome scores\n",
      "AUROC,AUPRC,F-measure,Accuracy,Weighted Accuracy,Cost\n",
      "0.687,0.664,0.360,0.518,0.835,14704.473\n",
      "\n",
      "#Murmur scores (per class)\n",
      "Classes,Present,Unknown,Absent\n",
      "AUROC,0.938,0.500,0.830\n",
      "AUPRC,0.800,0.073,0.896\n",
      "F-measure,0.475,0.000,0.606\n",
      "Accuracy,1.000,0.000,0.453\n",
      "\n",
      "#Outcome scores (per class)\n",
      "Classes,Abnormal,Normal\n",
      "AUROC,0.687,0.687\n",
      "AUPRC,0.678,0.650\n",
      "F-measure,0.678,0.042\n",
      "Accuracy,0.990,0.022\n",
      "\n",
      "-------------\n",
      "threshold:  0.4\n",
      "#Murmur scores\n",
      "AUROC,AUPRC,F-measure,Accuracy,Weighted Accuracy,Cost\n",
      "0.756,0.590,0.440,0.665,0.730,14533.620\n",
      "\n",
      "#Outcome scores\n",
      "AUROC,AUPRC,F-measure,Accuracy,Weighted Accuracy,Cost\n",
      "0.687,0.664,0.401,0.534,0.834,13907.105\n",
      "\n",
      "#Murmur scores (per class)\n",
      "Classes,Present,Unknown,Absent\n",
      "AUROC,0.938,0.500,0.830\n",
      "AUPRC,0.800,0.073,0.896\n",
      "F-measure,0.562,0.000,0.758\n",
      "Accuracy,0.947,0.000,0.655\n",
      "\n",
      "#Outcome scores (per class)\n",
      "Classes,Abnormal,Normal\n",
      "AUROC,0.687,0.687\n",
      "AUPRC,0.678,0.650\n",
      "F-measure,0.683,0.119\n",
      "Accuracy,0.980,0.065\n",
      "\n",
      "-------------\n",
      "threshold:  0.45\n",
      "#Murmur scores\n",
      "AUROC,AUPRC,F-measure,Accuracy,Weighted Accuracy,Cost\n",
      "0.756,0.590,0.471,0.717,0.736,15368.694\n",
      "\n",
      "#Outcome scores\n",
      "AUROC,AUPRC,F-measure,Accuracy,Weighted Accuracy,Cost\n",
      "0.687,0.664,0.453,0.545,0.803,12867.551\n",
      "\n",
      "#Murmur scores (per class)\n",
      "Classes,Present,Unknown,Absent\n",
      "AUROC,0.938,0.500,0.830\n",
      "AUPRC,0.800,0.073,0.896\n",
      "F-measure,0.607,0.000,0.805\n",
      "Accuracy,0.895,0.000,0.741\n",
      "\n",
      "#Outcome scores (per class)\n",
      "Classes,Abnormal,Normal\n",
      "AUROC,0.687,0.687\n",
      "AUPRC,0.678,0.650\n",
      "F-measure,0.677,0.230\n",
      "Accuracy,0.929,0.140\n",
      "\n",
      "-------------\n",
      "threshold:  0.5\n",
      "#Murmur scores\n",
      "AUROC,AUPRC,F-measure,Accuracy,Weighted Accuracy,Cost\n",
      "0.756,0.590,0.534,0.812,0.774,16940.728\n",
      "\n",
      "#Outcome scores\n",
      "AUROC,AUPRC,F-measure,Accuracy,Weighted Accuracy,Cost\n",
      "0.687,0.664,0.525,0.565,0.748,11964.332\n",
      "\n",
      "#Murmur scores (per class)\n",
      "Classes,Present,Unknown,Absent\n",
      "AUROC,0.938,0.500,0.830\n",
      "AUPRC,0.800,0.073,0.896\n",
      "F-measure,0.717,0.000,0.884\n",
      "Accuracy,0.868,0.000,0.878\n",
      "\n",
      "#Outcome scores (per class)\n",
      "Classes,Abnormal,Normal\n",
      "AUROC,0.687,0.687\n",
      "AUPRC,0.678,0.650\n",
      "F-measure,0.664,0.385\n",
      "Accuracy,0.837,0.280\n",
      "\n",
      "-------------\n",
      "threshold:  0.55\n",
      "#Murmur scores\n",
      "AUROC,AUPRC,F-measure,Accuracy,Weighted Accuracy,Cost\n",
      "0.756,0.590,0.542,0.822,0.768,17559.619\n",
      "\n",
      "#Outcome scores\n",
      "AUROC,AUPRC,F-measure,Accuracy,Weighted Accuracy,Cost\n",
      "0.687,0.664,0.607,0.623,0.746,11175.603\n",
      "\n",
      "#Murmur scores (per class)\n",
      "Classes,Present,Unknown,Absent\n",
      "AUROC,0.938,0.500,0.830\n",
      "AUPRC,0.800,0.073,0.896\n",
      "F-measure,0.736,0.000,0.890\n",
      "Accuracy,0.842,0.000,0.899\n",
      "\n",
      "#Outcome scores (per class)\n",
      "Classes,Abnormal,Normal\n",
      "AUROC,0.687,0.687\n",
      "AUPRC,0.678,0.650\n",
      "F-measure,0.687,0.526\n",
      "Accuracy,0.806,0.430\n",
      "\n",
      "-------------\n",
      "threshold:  0.6\n",
      "#Murmur scores\n",
      "AUROC,AUPRC,F-measure,Accuracy,Weighted Accuracy,Cost\n",
      "0.756,0.590,0.567,0.848,0.760,19225.646\n",
      "\n",
      "#Outcome scores\n",
      "AUROC,AUPRC,F-measure,Accuracy,Weighted Accuracy,Cost\n",
      "0.687,0.664,0.641,0.644,0.691,11931.265\n",
      "\n",
      "#Murmur scores (per class)\n",
      "Classes,Present,Unknown,Absent\n",
      "AUROC,0.938,0.500,0.830\n",
      "AUPRC,0.800,0.073,0.896\n",
      "F-measure,0.800,0.000,0.901\n",
      "Accuracy,0.789,0.000,0.950\n",
      "\n",
      "#Outcome scores (per class)\n",
      "Classes,Abnormal,Normal\n",
      "AUROC,0.687,0.687\n",
      "AUPRC,0.678,0.650\n",
      "F-measure,0.673,0.609\n",
      "Accuracy,0.714,0.570\n",
      "\n",
      "-------------\n",
      "threshold:  0.65\n",
      "#Murmur scores\n",
      "AUROC,AUPRC,F-measure,Accuracy,Weighted Accuracy,Cost\n",
      "0.756,0.590,0.559,0.843,0.736,19643.725\n",
      "\n",
      "#Outcome scores\n",
      "AUROC,AUPRC,F-measure,Accuracy,Weighted Accuracy,Cost\n",
      "0.687,0.664,0.654,0.654,0.619,13628.169\n",
      "\n",
      "#Murmur scores (per class)\n",
      "Classes,Present,Unknown,Absent\n",
      "AUROC,0.938,0.500,0.830\n",
      "AUPRC,0.800,0.073,0.896\n",
      "F-measure,0.778,0.000,0.899\n",
      "Accuracy,0.737,0.000,0.957\n",
      "\n",
      "#Outcome scores (per class)\n",
      "Classes,Abnormal,Normal\n",
      "AUROC,0.687,0.687\n",
      "AUPRC,0.678,0.650\n",
      "F-measure,0.641,0.667\n",
      "Accuracy,0.602,0.710\n",
      "\n",
      "-------------\n",
      "threshold:  0.7\n",
      "#Murmur scores\n",
      "AUROC,AUPRC,F-measure,Accuracy,Weighted Accuracy,Cost\n",
      "0.756,0.590,0.545,0.838,0.690,20689.573\n",
      "\n",
      "#Outcome scores\n",
      "AUROC,AUPRC,F-measure,Accuracy,Weighted Accuracy,Cost\n",
      "0.687,0.664,0.607,0.623,0.479,17359.576\n",
      "\n",
      "#Murmur scores (per class)\n",
      "Classes,Present,Unknown,Absent\n",
      "AUROC,0.938,0.500,0.830\n",
      "AUPRC,0.800,0.073,0.896\n",
      "F-measure,0.738,0.000,0.898\n",
      "Accuracy,0.632,0.000,0.978\n",
      "\n",
      "#Outcome scores (per class)\n",
      "Classes,Abnormal,Normal\n",
      "AUROC,0.687,0.687\n",
      "AUPRC,0.678,0.650\n",
      "F-measure,0.526,0.687\n",
      "Accuracy,0.408,0.849\n",
      "\n",
      "-------------\n",
      "threshold:  0.75\n",
      "#Murmur scores\n",
      "AUROC,AUPRC,F-measure,Accuracy,Weighted Accuracy,Cost\n",
      "0.756,0.590,0.497,0.812,0.601,22152.287\n",
      "\n",
      "#Outcome scores\n",
      "AUROC,AUPRC,F-measure,Accuracy,Weighted Accuracy,Cost\n",
      "0.687,0.664,0.525,0.571,0.358,20481.421\n",
      "\n",
      "#Murmur scores (per class)\n",
      "Classes,Present,Unknown,Absent\n",
      "AUROC,0.938,0.500,0.830\n",
      "AUPRC,0.800,0.073,0.896\n",
      "F-measure,0.607,0.000,0.885\n",
      "Accuracy,0.447,0.000,0.993\n",
      "\n",
      "#Outcome scores (per class)\n",
      "Classes,Abnormal,Normal\n",
      "AUROC,0.687,0.687\n",
      "AUPRC,0.678,0.650\n",
      "F-measure,0.379,0.672\n",
      "Accuracy,0.255,0.903\n",
      "\n",
      "-------------\n",
      "threshold:  0.8\n",
      "#Murmur scores\n",
      "AUROC,AUPRC,F-measure,Accuracy,Weighted Accuracy,Cost\n",
      "0.756,0.590,0.413,0.770,0.493,23820.794\n",
      "\n",
      "#Outcome scores\n",
      "AUROC,AUPRC,F-measure,Accuracy,Weighted Accuracy,Cost\n",
      "0.687,0.664,0.459,0.545,0.274,22779.947\n",
      "\n",
      "#Murmur scores (per class)\n",
      "Classes,Present,Unknown,Absent\n",
      "AUROC,0.938,0.500,0.830\n",
      "AUPRC,0.800,0.073,0.896\n",
      "F-measure,0.375,0.000,0.863\n",
      "Accuracy,0.237,0.000,0.993\n",
      "\n",
      "#Outcome scores (per class)\n",
      "Classes,Abnormal,Normal\n",
      "AUROC,0.687,0.687\n",
      "AUPRC,0.678,0.650\n",
      "F-measure,0.243,0.674\n",
      "Accuracy,0.143,0.968\n",
      "\n",
      "-------------\n"
     ]
    }
   ],
   "source": [
    "for th1 in [0.01, 0.05, 0.1, 0.15,0.2, 0.25, 0.3, 0.35, 0.4, 0.45, 0.5, 0.55, 0.6, 0.65, 0.7, 0.75, 0.8] :\n",
    "    murmur_binary_outputs[:,0] = murmur_scalar_outputs[:,0] > th1\n",
    "    murmur_binary_outputs[:,2] = murmur_scalar_outputs[:,2] > 1 - th1\n",
    "    outcome_binary_outputs[:,0] = outcome_scalar_outputs[:,0] > th1\n",
    "    outcome_binary_outputs[:,1] = outcome_scalar_outputs[:,1] > 1 - th1\n",
    "    # For each patient, set the 'Present' or 'Abnormal' class to positive if no class is positive or if multiple classes are positive.\n",
    "    murmur_labels = enforce_positives(murmur_labels, murmur_classes, 'Present')\n",
    "    murmur_binary_outputs = enforce_positives(murmur_binary_outputs, murmur_classes, 'Present')\n",
    "    outcome_labels = enforce_positives(outcome_labels, outcome_classes, 'Abnormal')\n",
    "    outcome_binary_outputs = enforce_positives(outcome_binary_outputs, outcome_classes, 'Abnormal')\n",
    "    # Evaluate the murmur model by comparing the labels and model outputs.\n",
    "    murmur_auroc, murmur_auprc, murmur_auroc_classes, murmur_auprc_classes = compute_auc(murmur_labels, murmur_scalar_outputs)\n",
    "    murmur_f_measure, murmur_f_measure_classes = compute_f_measure(murmur_labels, murmur_binary_outputs)\n",
    "    murmur_accuracy, murmur_accuracy_classes = compute_accuracy(murmur_labels, murmur_binary_outputs)\n",
    "    murmur_weighted_accuracy = compute_weighted_accuracy(murmur_labels, murmur_binary_outputs, murmur_classes) # This is the murmur scoring metric.\n",
    "    murmur_cost = compute_cost(outcome_labels, murmur_binary_outputs, outcome_classes, murmur_classes) # Use *outcomes* to score *murmurs* for the Challenge cost metric, but this is not the actual murmur scoring metric.\n",
    "    murmur_scores = (murmur_classes, murmur_auroc, murmur_auprc, murmur_auroc_classes, murmur_auprc_classes, \\\n",
    "                 murmur_f_measure, murmur_f_measure_classes, murmur_accuracy, murmur_accuracy_classes, murmur_weighted_accuracy, murmur_cost)\n",
    "\n",
    "    # Evaluate the outcome model by comparing the labels and model outputs.\n",
    "    outcome_auroc, outcome_auprc, outcome_auroc_classes, outcome_auprc_classes = compute_auc(outcome_labels, outcome_scalar_outputs)\n",
    "    outcome_f_measure, outcome_f_measure_classes = compute_f_measure(outcome_labels, outcome_binary_outputs)\n",
    "    outcome_accuracy, outcome_accuracy_classes = compute_accuracy(outcome_labels, outcome_binary_outputs)\n",
    "    outcome_weighted_accuracy = compute_weighted_accuracy(outcome_labels, outcome_binary_outputs, outcome_classes)\n",
    "    outcome_cost = compute_cost(outcome_labels, outcome_binary_outputs, outcome_classes, outcome_classes) # This is the clinical outcomes scoring metric.\n",
    "    outcome_scores = (outcome_classes, outcome_auroc, outcome_auprc, outcome_auroc_classes, outcome_auprc_classes, \\\n",
    "                  outcome_f_measure, outcome_f_measure_classes, outcome_accuracy, outcome_accuracy_classes, outcome_weighted_accuracy, outcome_cost)\n",
    "\n",
    "\n",
    "\n",
    "    classes, auroc, auprc, auroc_classes, auprc_classes, f_measure, f_measure_classes, accuracy, accuracy_classes, weighted_accuracy, cost = murmur_scores\n",
    "    murmur_output_string = 'AUROC,AUPRC,F-measure,Accuracy,Weighted Accuracy,Cost\\n{:.3f},{:.3f},{:.3f},{:.3f},{:.3f},{:.3f}\\n'.format(auroc, auprc, f_measure, accuracy, weighted_accuracy, cost)\n",
    "    murmur_class_output_string = 'Classes,{}\\nAUROC,{}\\nAUPRC,{}\\nF-measure,{}\\nAccuracy,{}\\n'.format(\n",
    "    ','.join(classes),\n",
    "    ','.join('{:.3f}'.format(x) for x in auroc_classes),\n",
    "    ','.join('{:.3f}'.format(x) for x in auprc_classes),\n",
    "    ','.join('{:.3f}'.format(x) for x in f_measure_classes),\n",
    "    ','.join('{:.3f}'.format(x) for x in accuracy_classes))\n",
    "\n",
    "    classes, auroc, auprc, auroc_classes, auprc_classes, f_measure, f_measure_classes, accuracy, accuracy_classes, weighted_accuracy, cost = outcome_scores\n",
    "    outcome_output_string = 'AUROC,AUPRC,F-measure,Accuracy,Weighted Accuracy,Cost\\n{:.3f},{:.3f},{:.3f},{:.3f},{:.3f},{:.3f}\\n'.format(auroc, auprc, f_measure, accuracy, weighted_accuracy, cost)\n",
    "    outcome_class_output_string = 'Classes,{}\\nAUROC,{}\\nAUPRC,{}\\nF-measure,{}\\nAccuracy,{}\\n'.format(\n",
    "    ','.join(classes),\n",
    "    ','.join('{:.3f}'.format(x) for x in auroc_classes),\n",
    "    ','.join('{:.3f}'.format(x) for x in auprc_classes),\n",
    "    ','.join('{:.3f}'.format(x) for x in f_measure_classes),\n",
    "    ','.join('{:.3f}'.format(x) for x in accuracy_classes))\n",
    "\n",
    "    output_string = '#Murmur scores\\n' + murmur_output_string + '\\n#Outcome scores\\n' + outcome_output_string \\\n",
    "                + '\\n#Murmur scores (per class)\\n' + murmur_class_output_string + '\\n#Outcome scores (per class)\\n' + outcome_class_output_string\n",
    "    print(\"threshold: \", th1)\n",
    "    print(output_string)\n",
    "    print(\"-------------\")"
   ]
  },
  {
   "cell_type": "code",
   "execution_count": null,
   "id": "e6615bae",
   "metadata": {},
   "outputs": [],
   "source": []
  },
  {
   "cell_type": "code",
   "execution_count": null,
   "id": "5f95548d",
   "metadata": {},
   "outputs": [],
   "source": []
  },
  {
   "cell_type": "code",
   "execution_count": null,
   "id": "8681adbc",
   "metadata": {},
   "outputs": [],
   "source": []
  },
  {
   "cell_type": "code",
   "execution_count": null,
   "id": "f084c345",
   "metadata": {},
   "outputs": [],
   "source": []
  },
  {
   "cell_type": "code",
   "execution_count": null,
   "id": "5c260645",
   "metadata": {},
   "outputs": [],
   "source": []
  },
  {
   "cell_type": "code",
   "execution_count": null,
   "id": "7367ffff",
   "metadata": {},
   "outputs": [],
   "source": []
  },
  {
   "cell_type": "code",
   "execution_count": null,
   "id": "a95bdc02",
   "metadata": {},
   "outputs": [],
   "source": []
  },
  {
   "cell_type": "code",
   "execution_count": null,
   "id": "f085d621",
   "metadata": {},
   "outputs": [],
   "source": []
  },
  {
   "cell_type": "code",
   "execution_count": null,
   "id": "bd2c13c9",
   "metadata": {},
   "outputs": [],
   "source": []
  },
  {
   "cell_type": "code",
   "execution_count": null,
   "id": "5db42aca",
   "metadata": {},
   "outputs": [],
   "source": []
  },
  {
   "cell_type": "code",
   "execution_count": null,
   "id": "bb4f90b1",
   "metadata": {},
   "outputs": [],
   "source": []
  },
  {
   "cell_type": "code",
   "execution_count": null,
   "id": "51aa06e9",
   "metadata": {},
   "outputs": [],
   "source": []
  },
  {
   "cell_type": "code",
   "execution_count": null,
   "id": "4c7407d0",
   "metadata": {},
   "outputs": [],
   "source": []
  },
  {
   "cell_type": "code",
   "execution_count": null,
   "id": "2c27aa5b",
   "metadata": {},
   "outputs": [],
   "source": []
  },
  {
   "cell_type": "code",
   "execution_count": null,
   "id": "205f283a",
   "metadata": {},
   "outputs": [],
   "source": []
  }
 ],
 "metadata": {
  "kernelspec": {
   "display_name": "Python 3 (ipykernel)",
   "language": "python",
   "name": "python3"
  },
  "language_info": {
   "codemirror_mode": {
    "name": "ipython",
    "version": 3
   },
   "file_extension": ".py",
   "mimetype": "text/x-python",
   "name": "python",
   "nbconvert_exporter": "python",
   "pygments_lexer": "ipython3",
   "version": "3.8.13"
  }
 },
 "nbformat": 4,
 "nbformat_minor": 5
}
