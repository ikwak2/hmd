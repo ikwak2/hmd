{
 "cells": [
  {
   "cell_type": "code",
   "execution_count": 1,
   "id": "3d55dbd4",
   "metadata": {},
   "outputs": [],
   "source": [
    "import tensorflow as tf"
   ]
  },
  {
   "cell_type": "code",
   "execution_count": 2,
   "id": "73c09968",
   "metadata": {},
   "outputs": [
    {
     "name": "stdout",
     "output_type": "stream",
     "text": [
      "Tue Jul 26 11:34:10 2022       \r\n",
      "+-----------------------------------------------------------------------------+\r\n",
      "| NVIDIA-SMI 460.91.03    Driver Version: 460.91.03    CUDA Version: 11.2     |\r\n",
      "|-------------------------------+----------------------+----------------------+\r\n",
      "| GPU  Name        Persistence-M| Bus-Id        Disp.A | Volatile Uncorr. ECC |\r\n",
      "| Fan  Temp  Perf  Pwr:Usage/Cap|         Memory-Usage | GPU-Util  Compute M. |\r\n",
      "|                               |                      |               MIG M. |\r\n",
      "|===============================+======================+======================|\r\n",
      "|   0  GeForce RTX 208...  Off  | 00000000:01:00.0 Off |                  N/A |\r\n",
      "| 37%   49C    P0    87W / 260W |    418MiB / 11019MiB |     20%      Default |\r\n",
      "|                               |                      |                  N/A |\r\n",
      "+-------------------------------+----------------------+----------------------+\r\n",
      "                                                                               \r\n",
      "+-----------------------------------------------------------------------------+\r\n",
      "| Processes:                                                                  |\r\n",
      "|  GPU   GI   CI        PID   Type   Process name                  GPU Memory |\r\n",
      "|        ID   ID                                                   Usage      |\r\n",
      "|=============================================================================|\r\n",
      "|    0   N/A  N/A       993      G   /usr/lib/xorg/Xorg                 45MiB |\r\n",
      "|    0   N/A  N/A      1943      G   /usr/lib/xorg/Xorg                182MiB |\r\n",
      "|    0   N/A  N/A      2068      G   /usr/bin/gnome-shell               36MiB |\r\n",
      "|    0   N/A  N/A    567944      G   ...854011572452614690,131072      119MiB |\r\n",
      "+-----------------------------------------------------------------------------+\r\n"
     ]
    }
   ],
   "source": [
    "!nvidia-smi"
   ]
  },
  {
   "cell_type": "code",
   "execution_count": 3,
   "id": "ad188626",
   "metadata": {},
   "outputs": [],
   "source": [
    "import os\n",
    "import pandas as pd\n",
    "import numpy as np\n",
    "import scipy as sp\n",
    "import scipy.stats\n",
    "import librosa\n",
    "import librosa.display\n",
    "import math\n",
    "import sys\n",
    "#sys.path.insert(0,'/home/ikwak2/hmd/notebooks')\n",
    "#sys.path.insert(0,'/home/ikwak2/hmd/iy_classifier')\n",
    "sys.path.insert(0,'utils')\n",
    "from helper_code import *\n",
    "from get_feature import *\n",
    "from models import *\n",
    "from Generator0 import *\n",
    "from keras.preprocessing import sequence"
   ]
  },
  {
   "cell_type": "code",
   "execution_count": 4,
   "id": "f8c573ff",
   "metadata": {},
   "outputs": [
    {
     "data": {
      "text/plain": [
       "'/home/jk21/Documents/hmd/jk_classifier'"
      ]
     },
     "execution_count": 4,
     "metadata": {},
     "output_type": "execute_result"
    }
   ],
   "source": [
    "pwd"
   ]
  },
  {
   "cell_type": "code",
   "execution_count": 5,
   "id": "4ab948dc",
   "metadata": {},
   "outputs": [],
   "source": [
    "root_dir = 'physionet.org/files/circor-heart-sound/1.0.3'\n",
    "training_data_file = root_dir + '/' + 'training_data.csv'\n",
    "training_data_dir = root_dir + '/' + 'training_data'\n",
    "model_dir = root_dir + '/' + 'model'"
   ]
  },
  {
   "cell_type": "code",
   "execution_count": 6,
   "id": "2a02ca4e",
   "metadata": {
    "scrolled": true
   },
   "outputs": [
    {
     "name": "stdout",
     "output_type": "stream",
     "text": [
      "Tue Jul 26 11:34:11 2022       \n",
      "+-----------------------------------------------------------------------------+\n",
      "| NVIDIA-SMI 460.91.03    Driver Version: 460.91.03    CUDA Version: 11.2     |\n",
      "|-------------------------------+----------------------+----------------------+\n",
      "| GPU  Name        Persistence-M| Bus-Id        Disp.A | Volatile Uncorr. ECC |\n",
      "| Fan  Temp  Perf  Pwr:Usage/Cap|         Memory-Usage | GPU-Util  Compute M. |\n",
      "|                               |                      |               MIG M. |\n",
      "|===============================+======================+======================|\n",
      "|   0  GeForce RTX 208...  Off  | 00000000:01:00.0 Off |                  N/A |\n",
      "| 37%   47C    P0    62W / 260W |    411MiB / 11019MiB |      1%      Default |\n",
      "|                               |                      |                  N/A |\n",
      "+-------------------------------+----------------------+----------------------+\n",
      "                                                                               \n",
      "+-----------------------------------------------------------------------------+\n",
      "| Processes:                                                                  |\n",
      "|  GPU   GI   CI        PID   Type   Process name                  GPU Memory |\n",
      "|        ID   ID                                                   Usage      |\n",
      "|=============================================================================|\n",
      "|    0   N/A  N/A       993      G   /usr/lib/xorg/Xorg                 45MiB |\n",
      "|    0   N/A  N/A      1943      G   /usr/lib/xorg/Xorg                182MiB |\n",
      "|    0   N/A  N/A      2068      G   /usr/bin/gnome-shell               36MiB |\n",
      "|    0   N/A  N/A    567944      G   ...854011572452614690,131072      112MiB |\n",
      "+-----------------------------------------------------------------------------+\n"
     ]
    }
   ],
   "source": [
    "import tensorflow as tf\n",
    "\n",
    "gpu_info = !nvidia-smi\n",
    "gpu_info = '\\n'.join(gpu_info)\n",
    "print(gpu_info)"
   ]
  },
  {
   "cell_type": "code",
   "execution_count": 7,
   "id": "23812c17",
   "metadata": {},
   "outputs": [
    {
     "data": {
      "text/plain": [
       "'/home/jk21/Documents/hmd/jk_classifier'"
      ]
     },
     "execution_count": 7,
     "metadata": {},
     "output_type": "execute_result"
    }
   ],
   "source": [
    "pwd"
   ]
  },
  {
   "cell_type": "code",
   "execution_count": 8,
   "id": "42f5dd9c",
   "metadata": {},
   "outputs": [],
   "source": [
    "# data_folder =  'physionet.org/files/circor-heart-sound/1.0.3/training_data'\n",
    "train_folder =  '/home/jk21/Downloads/Data/data/murmur/train'\n",
    "test_folder = '/home/jk21/Downloads/Data/data/murmur/test'\n"
   ]
  },
  {
   "cell_type": "code",
   "execution_count": 9,
   "id": "ca657f78",
   "metadata": {},
   "outputs": [],
   "source": [
    "model_folder = 'lcnn2'"
   ]
  },
  {
   "cell_type": "code",
   "execution_count": 10,
   "id": "e49f868b",
   "metadata": {},
   "outputs": [
    {
     "data": {
      "text/plain": [
       "'lcnn2'"
      ]
     },
     "execution_count": 10,
     "metadata": {},
     "output_type": "execute_result"
    }
   ],
   "source": [
    "model_folder"
   ]
  },
  {
   "cell_type": "code",
   "execution_count": 11,
   "id": "ac93e2e1",
   "metadata": {},
   "outputs": [],
   "source": [
    "from tensorflow import keras\n",
    "from tensorflow.keras import layers\n",
    "from tensorflow.keras.callbacks import LearningRateScheduler, ModelCheckpoint"
   ]
  },
  {
   "cell_type": "code",
   "execution_count": 12,
   "id": "e76c75d5",
   "metadata": {},
   "outputs": [],
   "source": [
    "def sigmoidal_decay(e, start=0, end=100, lr_start=1e-3, lr_end=1e-5):\n",
    "    if e < start:\n",
    "        return lr_start\n",
    "    elif e > end:\n",
    "        return lr_end\n",
    "\n",
    "    middle = (start + end) / 2\n",
    "    s = lambda x: 1 / (1 + np.exp(-x))\n",
    "\n",
    "    return s(13 * (-e + middle) / np.abs(end - start)) * np.abs(lr_start - lr_end) + lr_end"
   ]
  },
  {
   "cell_type": "code",
   "execution_count": 13,
   "id": "ac7432d8",
   "metadata": {},
   "outputs": [],
   "source": [
    "patient_files_trn = find_patient_files(train_folder)\n",
    "patient_files_test = find_patient_files(test_folder)"
   ]
  },
  {
   "cell_type": "code",
   "execution_count": 14,
   "id": "ca1fabdb",
   "metadata": {},
   "outputs": [],
   "source": [
    "params_feature = {'samp_sec': 20,\n",
    "                  #### melspec, stft 피쳐 옵션들  \n",
    "                  'pre_emphasis': 0,\n",
    "                  'hop_length': 128,\n",
    "                  'win_length':256,\n",
    "                  'n_mels': 100,\n",
    "                  #### cqt 피쳐 옵션들  \n",
    "                  'filter_scale': 1,\n",
    "                  'n_bins': 80,\n",
    "                  'fmin': 10\n",
    "}"
   ]
  },
  {
   "cell_type": "code",
   "execution_count": null,
   "id": "82ce6a10",
   "metadata": {
    "scrolled": true
   },
   "outputs": [],
   "source": [
    "features_trn,mel_input_shape, cqt_input_shape, stft_input_shape,wavelet_mel_input_shape = get_features_3lb_all_rr_raw(train_folder, patient_files_trn[:20], **params_feature,use_mel = True, use_cqt = False, use_stft = False,use_rr=True,use_raw=False,use_wavelet_mel=True)"
   ]
  },
  {
   "cell_type": "code",
   "execution_count": null,
   "id": "2ce8a026",
   "metadata": {
    "scrolled": true
   },
   "outputs": [],
   "source": [
    "features_test,mel_input_shape, cqt_input_shape, stft_input_shape,wavelet_mel_input_shape= get_features_3lb_all_rr_raw(test_folder, patient_files_test, **params_feature,use_mel = True, use_cqt = False, use_stft = False,use_rr=True,use_raw=False,use_wavelet_mel=True)"
   ]
  },
  {
   "cell_type": "code",
   "execution_count": null,
   "id": "7ed93f2b",
   "metadata": {},
   "outputs": [],
   "source": [
    "pwd"
   ]
  },
  {
   "cell_type": "code",
   "execution_count": null,
   "id": "8b2ff2db",
   "metadata": {
    "scrolled": true
   },
   "outputs": [],
   "source": [
    "with open('features_trn_rr_raw_wavelet.pickle', 'wb') as f:\n",
    "    pickle.dump(features_trn, f, pickle.HIGHEST_PROTOCOL)"
   ]
  },
  {
   "cell_type": "code",
   "execution_count": null,
   "id": "b9f7179a",
   "metadata": {
    "scrolled": true
   },
   "outputs": [],
   "source": [
    "with open('features_test_rr_raw_wavelet.pickle', 'wb') as f:\n",
    "    pickle.dump(features_test, f, pickle.HIGHEST_PROTOCOL)"
   ]
  },
  {
   "cell_type": "code",
   "execution_count": null,
   "id": "1499b589",
   "metadata": {},
   "outputs": [],
   "source": []
  },
  {
   "cell_type": "code",
   "execution_count": 15,
   "id": "79f59c5e",
   "metadata": {
    "scrolled": true
   },
   "outputs": [],
   "source": [
    "with open('/home/jk21/Downloads/Data/features_trn_rr_raw_wavelet.pickle', 'rb') as f:\n",
    "    features_trn = pickle.load(f)"
   ]
  },
  {
   "cell_type": "code",
   "execution_count": 16,
   "id": "dd412feb",
   "metadata": {},
   "outputs": [],
   "source": [
    "with open('/home/jk21/Downloads/Data/features_test_rr_raw_wavelet.pickle', 'rb') as f:\n",
    "    features_test = pickle.load(f)"
   ]
  },
  {
   "cell_type": "code",
   "execution_count": null,
   "id": "1d9476ee",
   "metadata": {},
   "outputs": [],
   "source": []
  },
  {
   "cell_type": "code",
   "execution_count": null,
   "id": "001bbe81",
   "metadata": {},
   "outputs": [],
   "source": []
  },
  {
   "cell_type": "code",
   "execution_count": 17,
   "id": "460de784",
   "metadata": {},
   "outputs": [],
   "source": [
    "mel_input_shape = features_trn['mel1'].shape[1:]"
   ]
  },
  {
   "cell_type": "code",
   "execution_count": 18,
   "id": "ec06d09a",
   "metadata": {},
   "outputs": [],
   "source": [
    "cqt_input_shape = features_trn['cqt1'].shape[1:]"
   ]
  },
  {
   "cell_type": "code",
   "execution_count": 19,
   "id": "861213a4",
   "metadata": {},
   "outputs": [],
   "source": [
    "stft_input_shape = features_trn['stft1'].shape[1:]"
   ]
  },
  {
   "cell_type": "code",
   "execution_count": 20,
   "id": "523fb9eb",
   "metadata": {},
   "outputs": [],
   "source": [
    "wavelet_mel_input_shape = features_trn['wavelet_mel'].shape[1:]"
   ]
  },
  {
   "cell_type": "code",
   "execution_count": null,
   "id": "b3c56494",
   "metadata": {},
   "outputs": [],
   "source": []
  },
  {
   "cell_type": "code",
   "execution_count": 21,
   "id": "9ccc8685",
   "metadata": {},
   "outputs": [
    {
     "name": "stderr",
     "output_type": "stream",
     "text": [
      "2022-07-26 11:34:29.479932: I tensorflow/stream_executor/cuda/cuda_gpu_executor.cc:936] successful NUMA node read from SysFS had negative value (-1), but there must be at least one NUMA node, so returning NUMA node zero\n",
      "2022-07-26 11:34:29.483730: I tensorflow/stream_executor/cuda/cuda_gpu_executor.cc:936] successful NUMA node read from SysFS had negative value (-1), but there must be at least one NUMA node, so returning NUMA node zero\n",
      "2022-07-26 11:34:29.484014: I tensorflow/stream_executor/cuda/cuda_gpu_executor.cc:936] successful NUMA node read from SysFS had negative value (-1), but there must be at least one NUMA node, so returning NUMA node zero\n",
      "2022-07-26 11:34:29.484895: I tensorflow/core/platform/cpu_feature_guard.cc:151] This TensorFlow binary is optimized with oneAPI Deep Neural Network Library (oneDNN) to use the following CPU instructions in performance-critical operations:  AVX2 FMA\n",
      "To enable them in other operations, rebuild TensorFlow with the appropriate compiler flags.\n",
      "2022-07-26 11:34:29.485833: I tensorflow/stream_executor/cuda/cuda_gpu_executor.cc:936] successful NUMA node read from SysFS had negative value (-1), but there must be at least one NUMA node, so returning NUMA node zero\n",
      "2022-07-26 11:34:29.486210: I tensorflow/stream_executor/cuda/cuda_gpu_executor.cc:936] successful NUMA node read from SysFS had negative value (-1), but there must be at least one NUMA node, so returning NUMA node zero\n",
      "2022-07-26 11:34:29.486583: I tensorflow/stream_executor/cuda/cuda_gpu_executor.cc:936] successful NUMA node read from SysFS had negative value (-1), but there must be at least one NUMA node, so returning NUMA node zero\n",
      "2022-07-26 11:34:29.836383: I tensorflow/stream_executor/cuda/cuda_gpu_executor.cc:936] successful NUMA node read from SysFS had negative value (-1), but there must be at least one NUMA node, so returning NUMA node zero\n",
      "2022-07-26 11:34:29.836705: I tensorflow/stream_executor/cuda/cuda_gpu_executor.cc:936] successful NUMA node read from SysFS had negative value (-1), but there must be at least one NUMA node, so returning NUMA node zero\n",
      "2022-07-26 11:34:29.836975: I tensorflow/stream_executor/cuda/cuda_gpu_executor.cc:936] successful NUMA node read from SysFS had negative value (-1), but there must be at least one NUMA node, so returning NUMA node zero\n",
      "2022-07-26 11:34:29.837228: I tensorflow/core/common_runtime/gpu/gpu_device.cc:1525] Created device /job:localhost/replica:0/task:0/device:GPU:0 with 9246 MB memory:  -> device: 0, name: GeForce RTX 2080 Ti, pci bus id: 0000:01:00.0, compute capability: 7.5\n"
     ]
    }
   ],
   "source": [
    "model1 = get_LCNN_o_5_dr(mel_input_shape, cqt_input_shape,stft_input_shape,wavelet_mel_input_shape, use_mel = False, use_wavelet_mel=True, use_stft = False,ext = True,ord1=False)\n",
    "model2 = get_LCNN_o_5_dr(mel_input_shape, cqt_input_shape,stft_input_shape,wavelet_mel_input_shape, use_mel = False, use_wavelet_mel=True, use_stft = False,ext = True,ord1=True)\n"
   ]
  },
  {
   "cell_type": "code",
   "execution_count": 22,
   "id": "4e462fa8",
   "metadata": {},
   "outputs": [
    {
     "name": "stdout",
     "output_type": "stream",
     "text": [
      "Model: \"model\"\n",
      "__________________________________________________________________________________________________\n",
      " Layer (type)                   Output Shape         Param #     Connected to                     \n",
      "==================================================================================================\n",
      " wavelet_mel (InputLayer)       [(None, 100, 626, 1  0           []                               \n",
      "                                )]                                                                \n",
      "                                                                                                  \n",
      " conv2d (Conv2D)                (None, 100, 626, 32  832         ['wavelet_mel[0][0]']            \n",
      "                                )                                                                 \n",
      "                                                                                                  \n",
      " conv2d_1 (Conv2D)              (None, 100, 626, 32  832         ['wavelet_mel[0][0]']            \n",
      "                                )                                                                 \n",
      "                                                                                                  \n",
      " maximum (Maximum)              (None, 100, 626, 32  0           ['conv2d[0][0]',                 \n",
      "                                )                                 'conv2d_1[0][0]']               \n",
      "                                                                                                  \n",
      " max_pooling2d (MaxPooling2D)   (None, 50, 313, 32)  0           ['maximum[0][0]']                \n",
      "                                                                                                  \n",
      " conv2d_2 (Conv2D)              (None, 50, 313, 32)  1056        ['max_pooling2d[0][0]']          \n",
      "                                                                                                  \n",
      " conv2d_3 (Conv2D)              (None, 50, 313, 32)  1056        ['max_pooling2d[0][0]']          \n",
      "                                                                                                  \n",
      " maximum_1 (Maximum)            (None, 50, 313, 32)  0           ['conv2d_2[0][0]',               \n",
      "                                                                  'conv2d_3[0][0]']               \n",
      "                                                                                                  \n",
      " batch_normalization_4 (BatchNo  (None, 50, 313, 32)  96         ['maximum_1[0][0]']              \n",
      " rmalization)                                                                                     \n",
      "                                                                                                  \n",
      " conv2d_4 (Conv2D)              (None, 50, 313, 48)  13872       ['batch_normalization_4[0][0]']  \n",
      "                                                                                                  \n",
      " conv2d_5 (Conv2D)              (None, 50, 313, 48)  13872       ['batch_normalization_4[0][0]']  \n",
      "                                                                                                  \n",
      " maximum_2 (Maximum)            (None, 50, 313, 48)  0           ['conv2d_4[0][0]',               \n",
      "                                                                  'conv2d_5[0][0]']               \n",
      "                                                                                                  \n",
      " max_pooling2d_1 (MaxPooling2D)  (None, 25, 157, 48)  0          ['maximum_2[0][0]']              \n",
      "                                                                                                  \n",
      " batch_normalization_5 (BatchNo  (None, 25, 157, 48)  144        ['max_pooling2d_1[0][0]']        \n",
      " rmalization)                                                                                     \n",
      "                                                                                                  \n",
      " conv2d_6 (Conv2D)              (None, 25, 157, 48)  2352        ['batch_normalization_5[0][0]']  \n",
      "                                                                                                  \n",
      " conv2d_7 (Conv2D)              (None, 25, 157, 48)  2352        ['batch_normalization_5[0][0]']  \n",
      "                                                                                                  \n",
      " maximum_3 (Maximum)            (None, 25, 157, 48)  0           ['conv2d_6[0][0]',               \n",
      "                                                                  'conv2d_7[0][0]']               \n",
      "                                                                                                  \n",
      " batch_normalization_6 (BatchNo  (None, 25, 157, 48)  144        ['maximum_3[0][0]']              \n",
      " rmalization)                                                                                     \n",
      "                                                                                                  \n",
      " conv2d_8 (Conv2D)              (None, 25, 157, 64)  27712       ['batch_normalization_6[0][0]']  \n",
      "                                                                                                  \n",
      " conv2d_9 (Conv2D)              (None, 25, 157, 64)  27712       ['batch_normalization_6[0][0]']  \n",
      "                                                                                                  \n",
      " maximum_4 (Maximum)            (None, 25, 157, 64)  0           ['conv2d_8[0][0]',               \n",
      "                                                                  'conv2d_9[0][0]']               \n",
      "                                                                                                  \n",
      " max_pooling2d_2 (MaxPooling2D)  (None, 13, 79, 64)  0           ['maximum_4[0][0]']              \n",
      "                                                                                                  \n",
      " conv2d_10 (Conv2D)             (None, 13, 79, 64)   4160        ['max_pooling2d_2[0][0]']        \n",
      "                                                                                                  \n",
      " conv2d_11 (Conv2D)             (None, 13, 79, 64)   4160        ['max_pooling2d_2[0][0]']        \n",
      "                                                                                                  \n",
      " maximum_5 (Maximum)            (None, 13, 79, 64)   0           ['conv2d_10[0][0]',              \n",
      "                                                                  'conv2d_11[0][0]']              \n",
      "                                                                                                  \n",
      " batch_normalization_7 (BatchNo  (None, 13, 79, 64)  192         ['maximum_5[0][0]']              \n",
      " rmalization)                                                                                     \n",
      "                                                                                                  \n",
      " conv2d_12 (Conv2D)             (None, 13, 79, 32)   18464       ['batch_normalization_7[0][0]']  \n",
      "                                                                                                  \n",
      " conv2d_13 (Conv2D)             (None, 13, 79, 32)   18464       ['batch_normalization_7[0][0]']  \n",
      "                                                                                                  \n",
      " rr (InputLayer)                [(None, 1)]          0           []                               \n",
      "                                                                                                  \n",
      " maximum_6 (Maximum)            (None, 13, 79, 32)   0           ['conv2d_12[0][0]',              \n",
      "                                                                  'conv2d_13[0][0]']              \n",
      "                                                                                                  \n",
      " dense_4 (Dense)                (None, 20)           40          ['rr[0][0]']                     \n",
      "                                                                                                  \n",
      " batch_normalization_8 (BatchNo  (None, 13, 79, 32)  96          ['maximum_6[0][0]']              \n",
      " rmalization)                                                                                     \n",
      "                                                                                                  \n",
      " batch_normalization (BatchNorm  (None, 20)          80          ['dense_4[0][0]']                \n"
     ]
    },
    {
     "name": "stdout",
     "output_type": "stream",
     "text": [
      " alization)                                                                                       \n",
      "                                                                                                  \n",
      " conv2d_14 (Conv2D)             (None, 13, 79, 32)   1056        ['batch_normalization_8[0][0]']  \n",
      "                                                                                                  \n",
      " conv2d_15 (Conv2D)             (None, 13, 79, 32)   1056        ['batch_normalization_8[0][0]']  \n",
      "                                                                                                  \n",
      " dense_5 (Dense)                (None, 20)           420         ['batch_normalization[0][0]']    \n",
      "                                                                                                  \n",
      " maximum_7 (Maximum)            (None, 13, 79, 32)   0           ['conv2d_14[0][0]',              \n",
      "                                                                  'conv2d_15[0][0]']              \n",
      "                                                                                                  \n",
      " batch_normalization_1 (BatchNo  (None, 20)          80          ['dense_5[0][0]']                \n",
      " rmalization)                                                                                     \n",
      "                                                                                                  \n",
      " batch_normalization_9 (BatchNo  (None, 13, 79, 32)  96          ['maximum_7[0][0]']              \n",
      " rmalization)                                                                                     \n",
      "                                                                                                  \n",
      " dense_6 (Dense)                (None, 20)           420         ['batch_normalization_1[0][0]']  \n",
      "                                                                                                  \n",
      " conv2d_16 (Conv2D)             (None, 13, 79, 32)   1056        ['batch_normalization_9[0][0]']  \n",
      "                                                                                                  \n",
      " conv2d_17 (Conv2D)             (None, 13, 79, 32)   1056        ['batch_normalization_9[0][0]']  \n",
      "                                                                                                  \n",
      " batch_normalization_2 (BatchNo  (None, 20)          80          ['dense_6[0][0]']                \n",
      " rmalization)                                                                                     \n",
      "                                                                                                  \n",
      " maximum_8 (Maximum)            (None, 13, 79, 32)   0           ['conv2d_16[0][0]',              \n",
      "                                                                  'conv2d_17[0][0]']              \n",
      "                                                                                                  \n",
      " age_cat (InputLayer)           [(None, 6)]          0           []                               \n",
      "                                                                                                  \n",
      " sex_cat (InputLayer)           [(None, 2)]          0           []                               \n",
      "                                                                                                  \n",
      " height_weight (InputLayer)     [(None, 2)]          0           []                               \n",
      "                                                                                                  \n",
      " loc (InputLayer)               [(None, 5)]          0           []                               \n",
      "                                                                                                  \n",
      " dense_7 (Dense)                (None, 20)           420         ['batch_normalization_2[0][0]']  \n",
      "                                                                                                  \n",
      " max_pooling2d_3 (MaxPooling2D)  (None, 6, 39, 32)   0           ['maximum_8[0][0]']              \n",
      "                                                                                                  \n",
      " dense (Dense)                  (None, 2)            14          ['age_cat[0][0]']                \n",
      "                                                                                                  \n",
      " dense_1 (Dense)                (None, 1)            3           ['sex_cat[0][0]']                \n",
      "                                                                                                  \n",
      " dense_2 (Dense)                (None, 1)            3           ['height_weight[0][0]']          \n",
      "                                                                                                  \n",
      " dense_3 (Dense)                (None, 3)            18          ['loc[0][0]']                    \n",
      "                                                                                                  \n",
      " is_preg (InputLayer)           [(None, 1)]          0           []                               \n",
      "                                                                                                  \n",
      " batch_normalization_3 (BatchNo  (None, 20)          80          ['dense_7[0][0]']                \n",
      " rmalization)                                                                                     \n",
      "                                                                                                  \n",
      " global_average_pooling2d (Glob  (None, 32)          0           ['max_pooling2d_3[0][0]']        \n",
      " alAveragePooling2D)                                                                              \n",
      "                                                                                                  \n",
      " concatenate (Concatenate)      (None, 28)           0           ['dense[0][0]',                  \n",
      "                                                                  'dense_1[0][0]',                \n",
      "                                                                  'dense_2[0][0]',                \n",
      "                                                                  'dense_3[0][0]',                \n",
      "                                                                  'is_preg[0][0]',                \n",
      "                                                                  'batch_normalization_3[0][0]']  \n",
      "                                                                                                  \n",
      " dropout (Dropout)              (None, 32)           0           ['global_average_pooling2d[0][0]'\n",
      "                                                                 ]                                \n",
      "                                                                                                  \n",
      " dense_8 (Dense)                (None, 5)            145         ['concatenate[0][0]']            \n",
      "                                                                                                  \n",
      " concatenate_1 (Concatenate)    (None, 37)           0           ['dropout[0][0]',                \n",
      "                                                                  'dense_8[0][0]']                \n",
      "                                                                                                  \n",
      " mel (InputLayer)               [(None, 100, 626, 1  0           []                               \n",
      "                                )]                                                                \n",
      "                                                                                                  \n",
      " stft (InputLayer)              [(None, 129, 626, 1  0           []                               \n",
      "                                )]                                                                \n",
      "                                                                                                  \n",
      " cqt (InputLayer)               [(None, 80, 157, 1)  0           []                               \n",
      "                                ]                                                                 \n",
      "                                                                                                  \n",
      " dense_9 (Dense)                (None, 3)            114         ['concatenate_1[0][0]']          \n",
      "                                                                                                  \n"
     ]
    },
    {
     "name": "stdout",
     "output_type": "stream",
     "text": [
      "==================================================================================================\n",
      "Total params: 143,805\n",
      "Trainable params: 143,133\n",
      "Non-trainable params: 672\n",
      "__________________________________________________________________________________________________\n"
     ]
    }
   ],
   "source": [
    "model1.summary()"
   ]
  },
  {
   "cell_type": "code",
   "execution_count": 23,
   "id": "8d2279ce",
   "metadata": {},
   "outputs": [
    {
     "name": "stdout",
     "output_type": "stream",
     "text": [
      "Model: \"model_1\"\n",
      "__________________________________________________________________________________________________\n",
      " Layer (type)                   Output Shape         Param #     Connected to                     \n",
      "==================================================================================================\n",
      " wavelet_mel (InputLayer)       [(None, 100, 626, 1  0           []                               \n",
      "                                )]                                                                \n",
      "                                                                                                  \n",
      " conv2d_18 (Conv2D)             (None, 100, 626, 32  832         ['wavelet_mel[0][0]']            \n",
      "                                )                                                                 \n",
      "                                                                                                  \n",
      " conv2d_19 (Conv2D)             (None, 100, 626, 32  832         ['wavelet_mel[0][0]']            \n",
      "                                )                                                                 \n",
      "                                                                                                  \n",
      " maximum_9 (Maximum)            (None, 100, 626, 32  0           ['conv2d_18[0][0]',              \n",
      "                                )                                 'conv2d_19[0][0]']              \n",
      "                                                                                                  \n",
      " max_pooling2d_4 (MaxPooling2D)  (None, 50, 313, 32)  0          ['maximum_9[0][0]']              \n",
      "                                                                                                  \n",
      " conv2d_20 (Conv2D)             (None, 50, 313, 32)  1056        ['max_pooling2d_4[0][0]']        \n",
      "                                                                                                  \n",
      " conv2d_21 (Conv2D)             (None, 50, 313, 32)  1056        ['max_pooling2d_4[0][0]']        \n",
      "                                                                                                  \n",
      " maximum_10 (Maximum)           (None, 50, 313, 32)  0           ['conv2d_20[0][0]',              \n",
      "                                                                  'conv2d_21[0][0]']              \n",
      "                                                                                                  \n",
      " batch_normalization_14 (BatchN  (None, 50, 313, 32)  96         ['maximum_10[0][0]']             \n",
      " ormalization)                                                                                    \n",
      "                                                                                                  \n",
      " conv2d_22 (Conv2D)             (None, 50, 313, 48)  13872       ['batch_normalization_14[0][0]'] \n",
      "                                                                                                  \n",
      " conv2d_23 (Conv2D)             (None, 50, 313, 48)  13872       ['batch_normalization_14[0][0]'] \n",
      "                                                                                                  \n",
      " maximum_11 (Maximum)           (None, 50, 313, 48)  0           ['conv2d_22[0][0]',              \n",
      "                                                                  'conv2d_23[0][0]']              \n",
      "                                                                                                  \n",
      " max_pooling2d_5 (MaxPooling2D)  (None, 25, 157, 48)  0          ['maximum_11[0][0]']             \n",
      "                                                                                                  \n",
      " batch_normalization_15 (BatchN  (None, 25, 157, 48)  144        ['max_pooling2d_5[0][0]']        \n",
      " ormalization)                                                                                    \n",
      "                                                                                                  \n",
      " conv2d_24 (Conv2D)             (None, 25, 157, 48)  2352        ['batch_normalization_15[0][0]'] \n",
      "                                                                                                  \n",
      " conv2d_25 (Conv2D)             (None, 25, 157, 48)  2352        ['batch_normalization_15[0][0]'] \n",
      "                                                                                                  \n",
      " maximum_12 (Maximum)           (None, 25, 157, 48)  0           ['conv2d_24[0][0]',              \n",
      "                                                                  'conv2d_25[0][0]']              \n",
      "                                                                                                  \n",
      " batch_normalization_16 (BatchN  (None, 25, 157, 48)  144        ['maximum_12[0][0]']             \n",
      " ormalization)                                                                                    \n",
      "                                                                                                  \n",
      " conv2d_26 (Conv2D)             (None, 25, 157, 64)  27712       ['batch_normalization_16[0][0]'] \n",
      "                                                                                                  \n",
      " conv2d_27 (Conv2D)             (None, 25, 157, 64)  27712       ['batch_normalization_16[0][0]'] \n",
      "                                                                                                  \n",
      " maximum_13 (Maximum)           (None, 25, 157, 64)  0           ['conv2d_26[0][0]',              \n",
      "                                                                  'conv2d_27[0][0]']              \n",
      "                                                                                                  \n",
      " max_pooling2d_6 (MaxPooling2D)  (None, 13, 79, 64)  0           ['maximum_13[0][0]']             \n",
      "                                                                                                  \n",
      " conv2d_28 (Conv2D)             (None, 13, 79, 64)   4160        ['max_pooling2d_6[0][0]']        \n",
      "                                                                                                  \n",
      " conv2d_29 (Conv2D)             (None, 13, 79, 64)   4160        ['max_pooling2d_6[0][0]']        \n",
      "                                                                                                  \n",
      " maximum_14 (Maximum)           (None, 13, 79, 64)   0           ['conv2d_28[0][0]',              \n",
      "                                                                  'conv2d_29[0][0]']              \n",
      "                                                                                                  \n",
      " batch_normalization_17 (BatchN  (None, 13, 79, 64)  192         ['maximum_14[0][0]']             \n",
      " ormalization)                                                                                    \n",
      "                                                                                                  \n",
      " conv2d_30 (Conv2D)             (None, 13, 79, 32)   18464       ['batch_normalization_17[0][0]'] \n",
      "                                                                                                  \n",
      " conv2d_31 (Conv2D)             (None, 13, 79, 32)   18464       ['batch_normalization_17[0][0]'] \n",
      "                                                                                                  \n",
      " rr (InputLayer)                [(None, 1)]          0           []                               \n",
      "                                                                                                  \n",
      " maximum_15 (Maximum)           (None, 13, 79, 32)   0           ['conv2d_30[0][0]',              \n",
      "                                                                  'conv2d_31[0][0]']              \n",
      "                                                                                                  \n",
      " dense_14 (Dense)               (None, 20)           40          ['rr[0][0]']                     \n",
      "                                                                                                  \n",
      " batch_normalization_18 (BatchN  (None, 13, 79, 32)  96          ['maximum_15[0][0]']             \n",
      " ormalization)                                                                                    \n",
      "                                                                                                  \n",
      " batch_normalization_10 (BatchN  (None, 20)          80          ['dense_14[0][0]']               \n"
     ]
    },
    {
     "name": "stdout",
     "output_type": "stream",
     "text": [
      " ormalization)                                                                                    \n",
      "                                                                                                  \n",
      " conv2d_32 (Conv2D)             (None, 13, 79, 32)   1056        ['batch_normalization_18[0][0]'] \n",
      "                                                                                                  \n",
      " conv2d_33 (Conv2D)             (None, 13, 79, 32)   1056        ['batch_normalization_18[0][0]'] \n",
      "                                                                                                  \n",
      " dense_15 (Dense)               (None, 20)           420         ['batch_normalization_10[0][0]'] \n",
      "                                                                                                  \n",
      " maximum_16 (Maximum)           (None, 13, 79, 32)   0           ['conv2d_32[0][0]',              \n",
      "                                                                  'conv2d_33[0][0]']              \n",
      "                                                                                                  \n",
      " batch_normalization_11 (BatchN  (None, 20)          80          ['dense_15[0][0]']               \n",
      " ormalization)                                                                                    \n",
      "                                                                                                  \n",
      " batch_normalization_19 (BatchN  (None, 13, 79, 32)  96          ['maximum_16[0][0]']             \n",
      " ormalization)                                                                                    \n",
      "                                                                                                  \n",
      " dense_16 (Dense)               (None, 20)           420         ['batch_normalization_11[0][0]'] \n",
      "                                                                                                  \n",
      " conv2d_34 (Conv2D)             (None, 13, 79, 32)   1056        ['batch_normalization_19[0][0]'] \n",
      "                                                                                                  \n",
      " conv2d_35 (Conv2D)             (None, 13, 79, 32)   1056        ['batch_normalization_19[0][0]'] \n",
      "                                                                                                  \n",
      " batch_normalization_12 (BatchN  (None, 20)          80          ['dense_16[0][0]']               \n",
      " ormalization)                                                                                    \n",
      "                                                                                                  \n",
      " maximum_17 (Maximum)           (None, 13, 79, 32)   0           ['conv2d_34[0][0]',              \n",
      "                                                                  'conv2d_35[0][0]']              \n",
      "                                                                                                  \n",
      " age_cat (InputLayer)           [(None, 6)]          0           []                               \n",
      "                                                                                                  \n",
      " sex_cat (InputLayer)           [(None, 2)]          0           []                               \n",
      "                                                                                                  \n",
      " height_weight (InputLayer)     [(None, 2)]          0           []                               \n",
      "                                                                                                  \n",
      " loc (InputLayer)               [(None, 5)]          0           []                               \n",
      "                                                                                                  \n",
      " dense_17 (Dense)               (None, 20)           420         ['batch_normalization_12[0][0]'] \n",
      "                                                                                                  \n",
      " max_pooling2d_7 (MaxPooling2D)  (None, 6, 39, 32)   0           ['maximum_17[0][0]']             \n",
      "                                                                                                  \n",
      " dense_10 (Dense)               (None, 2)            14          ['age_cat[0][0]']                \n",
      "                                                                                                  \n",
      " dense_11 (Dense)               (None, 1)            3           ['sex_cat[0][0]']                \n",
      "                                                                                                  \n",
      " dense_12 (Dense)               (None, 1)            3           ['height_weight[0][0]']          \n",
      "                                                                                                  \n",
      " dense_13 (Dense)               (None, 3)            18          ['loc[0][0]']                    \n",
      "                                                                                                  \n",
      " is_preg (InputLayer)           [(None, 1)]          0           []                               \n",
      "                                                                                                  \n",
      " batch_normalization_13 (BatchN  (None, 20)          80          ['dense_17[0][0]']               \n",
      " ormalization)                                                                                    \n",
      "                                                                                                  \n",
      " global_average_pooling2d_1 (Gl  (None, 32)          0           ['max_pooling2d_7[0][0]']        \n",
      " obalAveragePooling2D)                                                                            \n",
      "                                                                                                  \n",
      " concatenate_2 (Concatenate)    (None, 28)           0           ['dense_10[0][0]',               \n",
      "                                                                  'dense_11[0][0]',               \n",
      "                                                                  'dense_12[0][0]',               \n",
      "                                                                  'dense_13[0][0]',               \n",
      "                                                                  'is_preg[0][0]',                \n",
      "                                                                  'batch_normalization_13[0][0]'] \n",
      "                                                                                                  \n",
      " dropout_1 (Dropout)            (None, 32)           0           ['global_average_pooling2d_1[0][0\n",
      "                                                                 ]']                              \n",
      "                                                                                                  \n",
      " dense_18 (Dense)               (None, 5)            145         ['concatenate_2[0][0]']          \n",
      "                                                                                                  \n",
      " concatenate_3 (Concatenate)    (None, 37)           0           ['dropout_1[0][0]',              \n",
      "                                                                  'dense_18[0][0]']               \n",
      "                                                                                                  \n",
      " mel (InputLayer)               [(None, 100, 626, 1  0           []                               \n",
      "                                )]                                                                \n",
      "                                                                                                  \n",
      " stft (InputLayer)              [(None, 129, 626, 1  0           []                               \n",
      "                                )]                                                                \n",
      "                                                                                                  \n",
      " cqt (InputLayer)               [(None, 80, 157, 1)  0           []                               \n",
      "                                ]                                                                 \n",
      "                                                                                                  \n",
      " dense_19 (Dense)               (None, 2)            76          ['concatenate_3[0][0]']          \n",
      "                                                                                                  \n"
     ]
    },
    {
     "name": "stdout",
     "output_type": "stream",
     "text": [
      "==================================================================================================\n",
      "Total params: 143,767\n",
      "Trainable params: 143,095\n",
      "Non-trainable params: 672\n",
      "__________________________________________________________________________________________________\n"
     ]
    }
   ],
   "source": [
    "model2.summary()"
   ]
  },
  {
   "cell_type": "code",
   "execution_count": 24,
   "id": "d560272c",
   "metadata": {
    "scrolled": false
   },
   "outputs": [
    {
     "name": "stdout",
     "output_type": "stream",
     "text": [
      "Epoch 1/100\n"
     ]
    },
    {
     "name": "stderr",
     "output_type": "stream",
     "text": [
      "2022-07-26 11:34:35.646729: I tensorflow/stream_executor/cuda/cuda_dnn.cc:368] Loaded cuDNN version 8101\n"
     ]
    },
    {
     "name": "stdout",
     "output_type": "stream",
     "text": [
      "32/32 [==============================] - 9s 162ms/step - loss: 2.6304 - accuracy: 0.4341 - auc: 0.6651 - val_loss: 6.4185 - val_accuracy: 0.7448 - val_auc: 0.8083 - lr: 9.9851e-04\n",
      "Epoch 2/100\n",
      "32/32 [==============================] - 4s 122ms/step - loss: 1.6159 - accuracy: 0.5532 - auc: 0.7713 - val_loss: 1.0987 - val_accuracy: 0.7448 - val_auc: 0.8522 - lr: 9.9831e-04\n",
      "Epoch 3/100\n",
      "32/32 [==============================] - 4s 122ms/step - loss: 1.5139 - accuracy: 0.5352 - auc: 0.7621 - val_loss: 1.0434 - val_accuracy: 0.3487 - val_auc: 0.6163 - lr: 9.9807e-04\n",
      "Epoch 4/100\n",
      "32/32 [==============================] - 4s 121ms/step - loss: 1.3559 - accuracy: 0.5815 - auc: 0.7774 - val_loss: 0.8490 - val_accuracy: 0.4628 - val_auc: 0.6907 - lr: 9.9781e-04\n",
      "Epoch 5/100\n",
      "32/32 [==============================] - 4s 123ms/step - loss: 1.2950 - accuracy: 0.5664 - auc: 0.7859 - val_loss: 0.8503 - val_accuracy: 0.4342 - val_auc: 0.6795 - lr: 9.9750e-04\n",
      "Epoch 6/100\n",
      "32/32 [==============================] - 4s 122ms/step - loss: 1.2339 - accuracy: 0.6060 - auc: 0.8005 - val_loss: 0.6651 - val_accuracy: 0.7274 - val_auc: 0.8485 - lr: 9.9716e-04\n",
      "Epoch 7/100\n",
      "32/32 [==============================] - 4s 123ms/step - loss: 1.2037 - accuracy: 0.6064 - auc: 0.8061 - val_loss: 0.6537 - val_accuracy: 0.7227 - val_auc: 0.8545 - lr: 9.9676e-04\n",
      "Epoch 8/100\n",
      "32/32 [==============================] - 4s 121ms/step - loss: 1.1797 - accuracy: 0.6162 - auc: 0.8054 - val_loss: 0.6069 - val_accuracy: 0.7480 - val_auc: 0.8645 - lr: 9.9632e-04\n",
      "Epoch 9/100\n",
      "32/32 [==============================] - 4s 123ms/step - loss: 1.1812 - accuracy: 0.6289 - auc: 0.8147 - val_loss: 0.6397 - val_accuracy: 0.7464 - val_auc: 0.8629 - lr: 9.9581e-04\n",
      "Epoch 10/100\n",
      "32/32 [==============================] - 4s 122ms/step - loss: 1.0898 - accuracy: 0.6792 - auc: 0.8341 - val_loss: 0.6106 - val_accuracy: 0.7512 - val_auc: 0.8699 - lr: 9.9523e-04\n",
      "Epoch 11/100\n",
      "32/32 [==============================] - 4s 123ms/step - loss: 1.0829 - accuracy: 0.7031 - auc: 0.8416 - val_loss: 0.6546 - val_accuracy: 0.7385 - val_auc: 0.8571 - lr: 9.9457e-04\n",
      "Epoch 12/100\n",
      "32/32 [==============================] - 4s 123ms/step - loss: 1.1042 - accuracy: 0.7090 - auc: 0.8504 - val_loss: 0.6751 - val_accuracy: 0.7132 - val_auc: 0.8416 - lr: 9.9382e-04\n",
      "Epoch 13/100\n",
      "32/32 [==============================] - 4s 128ms/step - loss: 1.0976 - accuracy: 0.6826 - auc: 0.8380 - val_loss: 0.5854 - val_accuracy: 0.7544 - val_auc: 0.8752 - lr: 9.9297e-04\n",
      "Epoch 14/100\n",
      "32/32 [==============================] - 4s 131ms/step - loss: 1.0969 - accuracy: 0.6885 - auc: 0.8419 - val_loss: 0.6162 - val_accuracy: 0.7623 - val_auc: 0.8671 - lr: 9.9200e-04\n",
      "Epoch 15/100\n",
      "32/32 [==============================] - 4s 131ms/step - loss: 1.0303 - accuracy: 0.7339 - auc: 0.8553 - val_loss: 0.6317 - val_accuracy: 0.7195 - val_auc: 0.8479 - lr: 9.9090e-04\n",
      "Epoch 16/100\n",
      "32/32 [==============================] - 4s 129ms/step - loss: 1.0602 - accuracy: 0.7266 - auc: 0.8497 - val_loss: 0.6317 - val_accuracy: 0.7353 - val_auc: 0.8481 - lr: 9.8965e-04\n",
      "Epoch 17/100\n",
      "32/32 [==============================] - 4s 126ms/step - loss: 1.0890 - accuracy: 0.7153 - auc: 0.8486 - val_loss: 0.6107 - val_accuracy: 0.7385 - val_auc: 0.8660 - lr: 9.8823e-04\n",
      "Epoch 18/100\n",
      "32/32 [==============================] - 4s 126ms/step - loss: 1.0458 - accuracy: 0.7393 - auc: 0.8574 - val_loss: 0.5977 - val_accuracy: 0.7353 - val_auc: 0.8681 - lr: 9.8662e-04\n",
      "Epoch 19/100\n",
      "32/32 [==============================] - 4s 124ms/step - loss: 1.0574 - accuracy: 0.7485 - auc: 0.8519 - val_loss: 0.7079 - val_accuracy: 0.6735 - val_auc: 0.7995 - lr: 9.8479e-04\n",
      "Epoch 20/100\n",
      "32/32 [==============================] - 4s 123ms/step - loss: 1.0422 - accuracy: 0.7520 - auc: 0.8525 - val_loss: 0.6975 - val_accuracy: 0.6498 - val_auc: 0.8210 - lr: 9.8271e-04\n",
      "Epoch 21/100\n",
      "32/32 [==============================] - 4s 124ms/step - loss: 1.0775 - accuracy: 0.7314 - auc: 0.8585 - val_loss: 0.7511 - val_accuracy: 0.6070 - val_auc: 0.7542 - lr: 9.8036e-04\n",
      "Epoch 22/100\n",
      "32/32 [==============================] - 4s 123ms/step - loss: 1.0459 - accuracy: 0.7510 - auc: 0.8551 - val_loss: 0.6775 - val_accuracy: 0.7195 - val_auc: 0.8259 - lr: 9.7769e-04\n",
      "Epoch 23/100\n",
      "32/32 [==============================] - 4s 124ms/step - loss: 1.0574 - accuracy: 0.7437 - auc: 0.8617 - val_loss: 1.0202 - val_accuracy: 0.3106 - val_auc: 0.6148 - lr: 9.7468e-04\n",
      "Epoch 24/100\n",
      "32/32 [==============================] - 4s 124ms/step - loss: 1.0658 - accuracy: 0.7432 - auc: 0.8557 - val_loss: 0.7274 - val_accuracy: 0.6244 - val_auc: 0.7786 - lr: 9.7126e-04\n",
      "Epoch 25/100\n",
      "32/32 [==============================] - 4s 125ms/step - loss: 1.0509 - accuracy: 0.7461 - auc: 0.8569 - val_loss: 0.6391 - val_accuracy: 0.7338 - val_auc: 0.8510 - lr: 9.6740e-04\n",
      "Epoch 26/100\n",
      "32/32 [==============================] - 4s 123ms/step - loss: 1.0168 - accuracy: 0.7729 - auc: 0.8656 - val_loss: 0.6201 - val_accuracy: 0.7464 - val_auc: 0.8529 - lr: 9.6305e-04\n",
      "Epoch 27/100\n",
      "32/32 [==============================] - 4s 124ms/step - loss: 1.0329 - accuracy: 0.7700 - auc: 0.8610 - val_loss: 0.6482 - val_accuracy: 0.7591 - val_auc: 0.8573 - lr: 9.5813e-04\n",
      "Epoch 28/100\n",
      "32/32 [==============================] - 4s 123ms/step - loss: 1.0484 - accuracy: 0.7637 - auc: 0.8628 - val_loss: 0.7876 - val_accuracy: 0.4152 - val_auc: 0.6557 - lr: 9.5260e-04\n",
      "Epoch 29/100\n",
      "32/32 [==============================] - 4s 123ms/step - loss: 1.0526 - accuracy: 0.7285 - auc: 0.8540 - val_loss: 0.5967 - val_accuracy: 0.7702 - val_auc: 0.8760 - lr: 9.4637e-04\n",
      "Epoch 30/100\n",
      "32/32 [==============================] - 4s 124ms/step - loss: 1.0444 - accuracy: 0.7603 - auc: 0.8619 - val_loss: 0.5793 - val_accuracy: 0.7575 - val_auc: 0.8788 - lr: 9.3939e-04\n",
      "Epoch 31/100\n",
      "32/32 [==============================] - 4s 124ms/step - loss: 1.0474 - accuracy: 0.7422 - auc: 0.8636 - val_loss: 0.6191 - val_accuracy: 0.7639 - val_auc: 0.8661 - lr: 9.3155e-04\n",
      "Epoch 32/100\n",
      "32/32 [==============================] - 4s 124ms/step - loss: 1.0738 - accuracy: 0.7510 - auc: 0.8487 - val_loss: 0.6758 - val_accuracy: 0.7021 - val_auc: 0.8193 - lr: 9.2279e-04\n",
      "Epoch 33/100\n",
      "32/32 [==============================] - 4s 123ms/step - loss: 1.0806 - accuracy: 0.7339 - auc: 0.8540 - val_loss: 0.8154 - val_accuracy: 0.4818 - val_auc: 0.6774 - lr: 9.1301e-04\n",
      "Epoch 34/100\n",
      "32/32 [==============================] - 4s 124ms/step - loss: 1.0243 - accuracy: 0.7681 - auc: 0.8634 - val_loss: 0.6145 - val_accuracy: 0.7623 - val_auc: 0.8633 - lr: 9.0213e-04\n",
      "Epoch 35/100\n",
      "32/32 [==============================] - 4s 123ms/step - loss: 1.0694 - accuracy: 0.7510 - auc: 0.8561 - val_loss: 0.6262 - val_accuracy: 0.7591 - val_auc: 0.8546 - lr: 8.9005e-04\n",
      "Epoch 36/100\n",
      "32/32 [==============================] - 4s 123ms/step - loss: 1.0482 - accuracy: 0.7578 - auc: 0.8578 - val_loss: 0.5808 - val_accuracy: 0.7702 - val_auc: 0.8746 - lr: 8.7669e-04\n",
      "Epoch 37/100\n",
      "32/32 [==============================] - 4s 123ms/step - loss: 1.0256 - accuracy: 0.7607 - auc: 0.8619 - val_loss: 0.6211 - val_accuracy: 0.7623 - val_auc: 0.8691 - lr: 8.6196e-04\n",
      "Epoch 38/100\n",
      "32/32 [==============================] - 4s 127ms/step - loss: 1.0139 - accuracy: 0.7666 - auc: 0.8653 - val_loss: 0.6305 - val_accuracy: 0.7591 - val_auc: 0.8632 - lr: 8.4578e-04\n",
      "Epoch 39/100\n",
      "32/32 [==============================] - 4s 126ms/step - loss: 1.0325 - accuracy: 0.7661 - auc: 0.8616 - val_loss: 0.6407 - val_accuracy: 0.7496 - val_auc: 0.8571 - lr: 8.2809e-04\n",
      "Epoch 40/100\n",
      "32/32 [==============================] - 4s 127ms/step - loss: 1.0651 - accuracy: 0.7358 - auc: 0.8529 - val_loss: 0.8943 - val_accuracy: 0.2726 - val_auc: 0.6023 - lr: 8.0883e-04\n",
      "Epoch 41/100\n",
      "32/32 [==============================] - 4s 127ms/step - loss: 1.0430 - accuracy: 0.7456 - auc: 0.8581 - val_loss: 0.6289 - val_accuracy: 0.7655 - val_auc: 0.8650 - lr: 7.8798e-04\n",
      "Epoch 42/100\n",
      "32/32 [==============================] - 4s 124ms/step - loss: 1.0576 - accuracy: 0.7480 - auc: 0.8599 - val_loss: 0.6116 - val_accuracy: 0.7718 - val_auc: 0.8711 - lr: 7.6551e-04\n",
      "Epoch 43/100\n"
     ]
    },
    {
     "name": "stdout",
     "output_type": "stream",
     "text": [
      "32/32 [==============================] - 4s 123ms/step - loss: 1.0545 - accuracy: 0.7637 - auc: 0.8674 - val_loss: 0.7917 - val_accuracy: 0.5563 - val_auc: 0.7257 - lr: 7.4146e-04\n",
      "Epoch 44/100\n",
      "32/32 [==============================] - 4s 124ms/step - loss: 1.0829 - accuracy: 0.7368 - auc: 0.8509 - val_loss: 0.6751 - val_accuracy: 0.6957 - val_auc: 0.8197 - lr: 7.1587e-04\n",
      "Epoch 45/100\n",
      "32/32 [==============================] - 4s 123ms/step - loss: 1.0322 - accuracy: 0.7651 - auc: 0.8649 - val_loss: 0.6066 - val_accuracy: 0.7639 - val_auc: 0.8670 - lr: 6.8882e-04\n",
      "Epoch 46/100\n",
      "32/32 [==============================] - 4s 124ms/step - loss: 1.0487 - accuracy: 0.7656 - auc: 0.8616 - val_loss: 0.6946 - val_accuracy: 0.6719 - val_auc: 0.8066 - lr: 6.6044e-04\n",
      "Epoch 47/100\n",
      "32/32 [==============================] - 4s 125ms/step - loss: 0.9995 - accuracy: 0.7881 - auc: 0.8670 - val_loss: 0.6088 - val_accuracy: 0.7734 - val_auc: 0.8760 - lr: 6.3088e-04\n",
      "Epoch 48/100\n",
      "32/32 [==============================] - 4s 125ms/step - loss: 1.0205 - accuracy: 0.7729 - auc: 0.8643 - val_loss: 0.6249 - val_accuracy: 0.7686 - val_auc: 0.8732 - lr: 6.0032e-04\n",
      "Epoch 49/100\n",
      "32/32 [==============================] - 4s 124ms/step - loss: 1.0116 - accuracy: 0.7847 - auc: 0.8688 - val_loss: 0.6351 - val_accuracy: 0.7655 - val_auc: 0.8705 - lr: 5.6899e-04\n",
      "Epoch 50/100\n",
      "32/32 [==============================] - 4s 126ms/step - loss: 1.0502 - accuracy: 0.7769 - auc: 0.8591 - val_loss: 0.7878 - val_accuracy: 0.5737 - val_auc: 0.7277 - lr: 5.3713e-04\n",
      "Epoch 51/100\n",
      "32/32 [==============================] - 4s 123ms/step - loss: 1.0420 - accuracy: 0.7769 - auc: 0.8666 - val_loss: 0.6882 - val_accuracy: 0.6926 - val_auc: 0.8208 - lr: 5.0500e-04\n",
      "Epoch 52/100\n",
      "32/32 [==============================] - 4s 122ms/step - loss: 1.0026 - accuracy: 0.7764 - auc: 0.8665 - val_loss: 1.1942 - val_accuracy: 0.3391 - val_auc: 0.6123 - lr: 4.7287e-04\n",
      "Epoch 53/100\n",
      "32/32 [==============================] - 4s 122ms/step - loss: 1.0343 - accuracy: 0.7700 - auc: 0.8595 - val_loss: 0.6242 - val_accuracy: 0.7750 - val_auc: 0.8723 - lr: 4.4101e-04\n",
      "Epoch 54/100\n",
      "32/32 [==============================] - 4s 122ms/step - loss: 1.0105 - accuracy: 0.7725 - auc: 0.8670 - val_loss: 0.6244 - val_accuracy: 0.7655 - val_auc: 0.8729 - lr: 4.0968e-04\n",
      "Epoch 55/100\n",
      "32/32 [==============================] - 4s 122ms/step - loss: 1.0387 - accuracy: 0.7690 - auc: 0.8637 - val_loss: 0.6335 - val_accuracy: 0.7544 - val_auc: 0.8589 - lr: 3.7912e-04\n",
      "Epoch 56/100\n",
      "32/32 [==============================] - 4s 124ms/step - loss: 1.0188 - accuracy: 0.7788 - auc: 0.8618 - val_loss: 0.6834 - val_accuracy: 0.6830 - val_auc: 0.8136 - lr: 3.4956e-04\n",
      "Epoch 57/100\n",
      "32/32 [==============================] - 4s 122ms/step - loss: 1.0481 - accuracy: 0.7578 - auc: 0.8611 - val_loss: 0.7110 - val_accuracy: 0.6577 - val_auc: 0.7961 - lr: 3.2118e-04\n",
      "Epoch 58/100\n",
      "32/32 [==============================] - 4s 125ms/step - loss: 1.0251 - accuracy: 0.7778 - auc: 0.8693 - val_loss: 0.6239 - val_accuracy: 0.7417 - val_auc: 0.8569 - lr: 2.9413e-04\n",
      "Epoch 59/100\n",
      "32/32 [==============================] - 4s 122ms/step - loss: 1.0209 - accuracy: 0.7700 - auc: 0.8679 - val_loss: 0.6166 - val_accuracy: 0.7797 - val_auc: 0.8746 - lr: 2.6854e-04\n",
      "Epoch 60/100\n",
      "32/32 [==============================] - 4s 126ms/step - loss: 0.9910 - accuracy: 0.7861 - auc: 0.8711 - val_loss: 0.6134 - val_accuracy: 0.7813 - val_auc: 0.8769 - lr: 2.4449e-04\n",
      "Epoch 61/100\n",
      "32/32 [==============================] - 4s 124ms/step - loss: 1.0467 - accuracy: 0.7642 - auc: 0.8615 - val_loss: 0.8071 - val_accuracy: 0.5864 - val_auc: 0.7419 - lr: 2.2202e-04\n",
      "Epoch 62/100\n",
      "32/32 [==============================] - 4s 121ms/step - loss: 1.0186 - accuracy: 0.7686 - auc: 0.8659 - val_loss: 0.6161 - val_accuracy: 0.7575 - val_auc: 0.8596 - lr: 2.0117e-04\n",
      "Epoch 63/100\n",
      "32/32 [==============================] - 4s 123ms/step - loss: 1.0133 - accuracy: 0.7778 - auc: 0.8635 - val_loss: 0.6277 - val_accuracy: 0.7559 - val_auc: 0.8655 - lr: 1.8191e-04\n",
      "Epoch 64/100\n",
      "32/32 [==============================] - 4s 123ms/step - loss: 0.9903 - accuracy: 0.7822 - auc: 0.8675 - val_loss: 0.5958 - val_accuracy: 0.7750 - val_auc: 0.8762 - lr: 1.6422e-04\n",
      "Epoch 65/100\n",
      "32/32 [==============================] - 4s 122ms/step - loss: 1.0148 - accuracy: 0.7944 - auc: 0.8661 - val_loss: 0.6554 - val_accuracy: 0.7448 - val_auc: 0.8596 - lr: 1.4804e-04\n",
      "Epoch 66/100\n",
      "32/32 [==============================] - 4s 124ms/step - loss: 1.0104 - accuracy: 0.7769 - auc: 0.8592 - val_loss: 0.6468 - val_accuracy: 0.7274 - val_auc: 0.8403 - lr: 1.3331e-04\n",
      "Epoch 67/100\n",
      "32/32 [==============================] - 4s 127ms/step - loss: 1.0018 - accuracy: 0.7739 - auc: 0.8652 - val_loss: 0.7421 - val_accuracy: 0.6418 - val_auc: 0.7812 - lr: 1.1995e-04\n",
      "Epoch 68/100\n",
      "32/32 [==============================] - 4s 124ms/step - loss: 1.0041 - accuracy: 0.7749 - auc: 0.8689 - val_loss: 0.6853 - val_accuracy: 0.6941 - val_auc: 0.8192 - lr: 1.0787e-04\n",
      "Epoch 69/100\n",
      "32/32 [==============================] - 4s 127ms/step - loss: 1.0235 - accuracy: 0.7690 - auc: 0.8663 - val_loss: 0.6953 - val_accuracy: 0.6767 - val_auc: 0.8092 - lr: 9.6985e-05\n",
      "Epoch 70/100\n",
      "32/32 [==============================] - 4s 124ms/step - loss: 1.0157 - accuracy: 0.7622 - auc: 0.8689 - val_loss: 0.6181 - val_accuracy: 0.7639 - val_auc: 0.8731 - lr: 8.7208e-05\n",
      "Epoch 71/100\n",
      "32/32 [==============================] - 4s 122ms/step - loss: 1.0210 - accuracy: 0.7725 - auc: 0.8617 - val_loss: 0.6312 - val_accuracy: 0.7496 - val_auc: 0.8692 - lr: 7.8447e-05\n",
      "Epoch 72/100\n",
      "32/32 [==============================] - 4s 125ms/step - loss: 1.0270 - accuracy: 0.7676 - auc: 0.8664 - val_loss: 0.6347 - val_accuracy: 0.7433 - val_auc: 0.8550 - lr: 7.0614e-05\n",
      "Epoch 73/100\n",
      "32/32 [==============================] - 4s 127ms/step - loss: 1.0122 - accuracy: 0.7715 - auc: 0.8627 - val_loss: 0.6257 - val_accuracy: 0.7464 - val_auc: 0.8529 - lr: 6.3625e-05\n",
      "Epoch 74/100\n",
      "32/32 [==============================] - 4s 124ms/step - loss: 0.9955 - accuracy: 0.7793 - auc: 0.8668 - val_loss: 0.6194 - val_accuracy: 0.7448 - val_auc: 0.8560 - lr: 5.7401e-05\n",
      "Epoch 75/100\n",
      "32/32 [==============================] - 4s 130ms/step - loss: 0.9694 - accuracy: 0.7949 - auc: 0.8648 - val_loss: 0.6124 - val_accuracy: 0.7623 - val_auc: 0.8644 - lr: 5.1867e-05\n",
      "Epoch 76/100\n",
      "32/32 [==============================] - 4s 138ms/step - loss: 1.0371 - accuracy: 0.7749 - auc: 0.8674 - val_loss: 0.6503 - val_accuracy: 0.7100 - val_auc: 0.8399 - lr: 4.6954e-05\n",
      "Epoch 77/100\n",
      "32/32 [==============================] - 4s 134ms/step - loss: 1.0108 - accuracy: 0.7666 - auc: 0.8624 - val_loss: 0.6366 - val_accuracy: 0.7338 - val_auc: 0.8504 - lr: 4.2597e-05\n",
      "Epoch 78/100\n",
      "32/32 [==============================] - 4s 136ms/step - loss: 0.9843 - accuracy: 0.7905 - auc: 0.8742 - val_loss: 0.6567 - val_accuracy: 0.7100 - val_auc: 0.8350 - lr: 3.8739e-05\n",
      "Epoch 79/100\n",
      "32/32 [==============================] - 4s 126ms/step - loss: 1.0253 - accuracy: 0.7676 - auc: 0.8652 - val_loss: 0.6653 - val_accuracy: 0.7021 - val_auc: 0.8284 - lr: 3.5325e-05\n",
      "Epoch 80/100\n",
      "32/32 [==============================] - 4s 127ms/step - loss: 1.0075 - accuracy: 0.7769 - auc: 0.8717 - val_loss: 0.6333 - val_accuracy: 0.7274 - val_auc: 0.8510 - lr: 3.2307e-05\n",
      "Epoch 81/100\n",
      "32/32 [==============================] - 4s 127ms/step - loss: 1.0096 - accuracy: 0.7944 - auc: 0.8667 - val_loss: 0.6194 - val_accuracy: 0.7496 - val_auc: 0.8614 - lr: 2.9642e-05\n",
      "Epoch 82/100\n",
      "32/32 [==============================] - 4s 127ms/step - loss: 1.0019 - accuracy: 0.7925 - auc: 0.8739 - val_loss: 0.6247 - val_accuracy: 0.7401 - val_auc: 0.8639 - lr: 2.7289e-05\n",
      "Epoch 83/100\n",
      "32/32 [==============================] - 4s 135ms/step - loss: 1.0018 - accuracy: 0.7817 - auc: 0.8666 - val_loss: 0.6300 - val_accuracy: 0.7353 - val_auc: 0.8604 - lr: 2.5214e-05\n",
      "Epoch 84/100\n",
      "32/32 [==============================] - 4s 128ms/step - loss: 0.9935 - accuracy: 0.7793 - auc: 0.8671 - val_loss: 0.6183 - val_accuracy: 0.7464 - val_auc: 0.8606 - lr: 2.3384e-05\n",
      "Epoch 85/100\n"
     ]
    },
    {
     "name": "stdout",
     "output_type": "stream",
     "text": [
      "32/32 [==============================] - 4s 127ms/step - loss: 0.9859 - accuracy: 0.7852 - auc: 0.8676 - val_loss: 0.6204 - val_accuracy: 0.7512 - val_auc: 0.8613 - lr: 2.1772e-05\n",
      "Epoch 86/100\n",
      "32/32 [==============================] - 4s 128ms/step - loss: 1.0456 - accuracy: 0.7700 - auc: 0.8624 - val_loss: 0.6251 - val_accuracy: 0.7385 - val_auc: 0.8576 - lr: 2.0352e-05\n",
      "Epoch 87/100\n",
      "32/32 [==============================] - 4s 128ms/step - loss: 1.0297 - accuracy: 0.7681 - auc: 0.8690 - val_loss: 0.6341 - val_accuracy: 0.7322 - val_auc: 0.8495 - lr: 1.9102e-05\n",
      "Epoch 88/100\n",
      "32/32 [==============================] - 4s 128ms/step - loss: 1.0152 - accuracy: 0.7881 - auc: 0.8648 - val_loss: 0.6296 - val_accuracy: 0.7353 - val_auc: 0.8545 - lr: 1.8001e-05\n",
      "Epoch 89/100\n",
      "32/32 [==============================] - 4s 129ms/step - loss: 1.0175 - accuracy: 0.7764 - auc: 0.8724 - val_loss: 0.6265 - val_accuracy: 0.7369 - val_auc: 0.8569 - lr: 1.7033e-05\n",
      "Epoch 90/100\n",
      "32/32 [==============================] - 4s 127ms/step - loss: 1.0003 - accuracy: 0.7832 - auc: 0.8662 - val_loss: 0.6247 - val_accuracy: 0.7385 - val_auc: 0.8571 - lr: 1.6181e-05\n",
      "Epoch 91/100\n",
      "32/32 [==============================] - 4s 127ms/step - loss: 0.9983 - accuracy: 0.7871 - auc: 0.8703 - val_loss: 0.6248 - val_accuracy: 0.7385 - val_auc: 0.8563 - lr: 1.5431e-05\n",
      "Epoch 92/100\n",
      "32/32 [==============================] - 4s 127ms/step - loss: 0.9808 - accuracy: 0.7861 - auc: 0.8674 - val_loss: 0.6217 - val_accuracy: 0.7464 - val_auc: 0.8579 - lr: 1.4773e-05\n",
      "Epoch 93/100\n",
      "32/32 [==============================] - 4s 128ms/step - loss: 1.0116 - accuracy: 0.7803 - auc: 0.8678 - val_loss: 0.6165 - val_accuracy: 0.7480 - val_auc: 0.8631 - lr: 1.4193e-05\n",
      "Epoch 94/100\n",
      "32/32 [==============================] - 4s 128ms/step - loss: 1.0313 - accuracy: 0.7749 - auc: 0.8712 - val_loss: 0.6217 - val_accuracy: 0.7385 - val_auc: 0.8633 - lr: 1.3684e-05\n",
      "Epoch 95/100\n",
      "32/32 [==============================] - 4s 129ms/step - loss: 1.0028 - accuracy: 0.7803 - auc: 0.8612 - val_loss: 0.6217 - val_accuracy: 0.7385 - val_auc: 0.8644 - lr: 1.3236e-05\n",
      "Epoch 96/100\n",
      "32/32 [==============================] - 4s 127ms/step - loss: 0.9900 - accuracy: 0.7812 - auc: 0.8686 - val_loss: 0.6221 - val_accuracy: 0.7433 - val_auc: 0.8586 - lr: 1.2843e-05\n",
      "Epoch 97/100\n",
      "32/32 [==============================] - 4s 128ms/step - loss: 1.0412 - accuracy: 0.7793 - auc: 0.8697 - val_loss: 0.6287 - val_accuracy: 0.7306 - val_auc: 0.8531 - lr: 1.2497e-05\n",
      "Epoch 98/100\n",
      "32/32 [==============================] - 4s 127ms/step - loss: 1.0094 - accuracy: 0.7866 - auc: 0.8677 - val_loss: 0.6287 - val_accuracy: 0.7322 - val_auc: 0.8527 - lr: 1.2193e-05\n",
      "Epoch 99/100\n",
      "32/32 [==============================] - 4s 128ms/step - loss: 1.0489 - accuracy: 0.7739 - auc: 0.8680 - val_loss: 0.6330 - val_accuracy: 0.7338 - val_auc: 0.8506 - lr: 1.1927e-05\n",
      "Epoch 100/100\n",
      "32/32 [==============================] - 4s 128ms/step - loss: 1.0306 - accuracy: 0.7700 - auc: 0.8632 - val_loss: 0.6343 - val_accuracy: 0.7290 - val_auc: 0.8507 - lr: 1.1692e-05\n"
     ]
    },
    {
     "data": {
      "text/plain": [
       "<keras.callbacks.History at 0x7fb813cbb130>"
      ]
     },
     "execution_count": 24,
     "metadata": {},
     "output_type": "execute_result"
    }
   ],
   "source": [
    "n_epoch = 100\n",
    "lr = LearningRateScheduler(lambda e: sigmoidal_decay(e, end=n_epoch))\n",
    "\n",
    "\n",
    "batch_size = 64\n",
    "params = {'batch_size': batch_size,\n",
    "#          'input_shape': (100, 313, 1),\n",
    "          'shuffle': True,\n",
    "          'beta_param': 0.7,\n",
    "          'mixup': True,\n",
    "#          'lowpass': [.5, [11,12,13,14,15,16,17,18]]\n",
    "#          'highpass': [.5, [78,79,80,81,82,83,84,85]]\n",
    "          'ranfilter2' : [3, [18,19,20,21,22,23]]\n",
    "#           'dropblock' : [30, 100]\n",
    "          #'device' : device\n",
    "}\n",
    "\n",
    "params_no_shuffle = {'batch_size': batch_size,\n",
    "#          'input_shape': (100, 313, 1),\n",
    "          'shuffle': False,\n",
    "          'beta_param': 0.7,\n",
    "          'mixup': False\n",
    "          #'device': device\n",
    "}\n",
    "\n",
    "TrainDGen_1 = Generator0([features_trn['age'],features_trn['sex'], features_trn['hw'], features_trn['preg'], features_trn['loc'],\n",
    "                          features_trn['rr1'],features_trn['mel1'],features_trn['stft1'],features_trn['cqt1'],features_trn['wavelet_mel']], \n",
    "                        features_trn['mm_labels'],  ## our Y\n",
    "                        **params)()\n",
    "\n",
    "#ValDGen_1 = Generator0([features_test[0]['age'],features_test[0]['sex'], features_test[0]['hw'], features_test[0]['preg'], features_test[0]['loc'], \n",
    "#           features_test[0]['mel1'],features_test[0]['cqt1'],features_test[0]['stft1']], \n",
    "#                        mm_lbs_test,  ## our Y\n",
    "#                        **params_no_shuffle)()\n",
    "\n",
    "class_weight = {0: 3, 1: 1., 2: 1} \n",
    "    \n",
    "model1.fit(TrainDGen_1,\n",
    "          validation_data = ([features_test['age'],features_test['sex'], features_test['hw'], \n",
    "                              features_test['preg'], features_test['loc'],features_test['rr1'], features_test['mel1'],\n",
    "                              features_test['stft1'],features_test['cqt1'],features_test['wavelet_mel']], \n",
    "                             features_test['mm_labels']), \n",
    "                             callbacks=[lr],\n",
    "                              steps_per_epoch=32,\n",
    "                           class_weight=class_weight, \n",
    "                             epochs = n_epoch)\n",
    "\n"
   ]
  },
  {
   "cell_type": "code",
   "execution_count": null,
   "id": "78a761ce",
   "metadata": {},
   "outputs": [],
   "source": []
  },
  {
   "cell_type": "code",
   "execution_count": 25,
   "id": "90bdd466",
   "metadata": {
    "scrolled": false
   },
   "outputs": [
    {
     "name": "stdout",
     "output_type": "stream",
     "text": [
      "Epoch 1/100\n",
      "32/32 [==============================] - 7s 171ms/step - loss: 1.9395 - accuracy: 0.4824 - auc: 0.4788 - val_loss: 8.2237 - val_accuracy: 0.5008 - val_auc: 0.5008 - lr: 9.9851e-04\n",
      "Epoch 2/100\n",
      "32/32 [==============================] - 4s 131ms/step - loss: 1.0735 - accuracy: 0.5156 - auc: 0.5192 - val_loss: 3.8193 - val_accuracy: 0.5008 - val_auc: 0.5089 - lr: 9.9831e-04\n",
      "Epoch 3/100\n",
      "32/32 [==============================] - 4s 132ms/step - loss: 0.8530 - accuracy: 0.5020 - auc: 0.4988 - val_loss: 1.5970 - val_accuracy: 0.5024 - val_auc: 0.4879 - lr: 9.9807e-04\n",
      "Epoch 4/100\n",
      "32/32 [==============================] - 4s 133ms/step - loss: 0.7602 - accuracy: 0.5039 - auc: 0.5203 - val_loss: 0.9587 - val_accuracy: 0.5087 - val_auc: 0.4809 - lr: 9.9781e-04\n",
      "Epoch 5/100\n",
      "32/32 [==============================] - 4s 135ms/step - loss: 0.7305 - accuracy: 0.5190 - auc: 0.5191 - val_loss: 0.8586 - val_accuracy: 0.5024 - val_auc: 0.4891 - lr: 9.9750e-04\n",
      "Epoch 6/100\n",
      "32/32 [==============================] - 4s 132ms/step - loss: 0.7028 - accuracy: 0.5381 - auc: 0.5460 - val_loss: 0.7826 - val_accuracy: 0.5024 - val_auc: 0.5000 - lr: 9.9716e-04\n",
      "Epoch 7/100\n",
      "32/32 [==============================] - 4s 140ms/step - loss: 0.7021 - accuracy: 0.5439 - auc: 0.5541 - val_loss: 0.7822 - val_accuracy: 0.5008 - val_auc: 0.4961 - lr: 9.9676e-04\n",
      "Epoch 8/100\n",
      "32/32 [==============================] - 5s 142ms/step - loss: 0.7013 - accuracy: 0.5288 - auc: 0.5309 - val_loss: 0.7829 - val_accuracy: 0.5008 - val_auc: 0.5691 - lr: 9.9632e-04\n",
      "Epoch 9/100\n",
      "32/32 [==============================] - 4s 134ms/step - loss: 0.6937 - accuracy: 0.5488 - auc: 0.5505 - val_loss: 0.8123 - val_accuracy: 0.5008 - val_auc: 0.5661 - lr: 9.9581e-04\n",
      "Epoch 10/100\n",
      "32/32 [==============================] - 4s 137ms/step - loss: 0.6863 - accuracy: 0.5718 - auc: 0.5878 - val_loss: 0.7249 - val_accuracy: 0.5230 - val_auc: 0.5730 - lr: 9.9523e-04\n",
      "Epoch 11/100\n",
      "32/32 [==============================] - 4s 137ms/step - loss: 0.6983 - accuracy: 0.5464 - auc: 0.5706 - val_loss: 0.6611 - val_accuracy: 0.6212 - val_auc: 0.6492 - lr: 9.9457e-04\n",
      "Epoch 12/100\n",
      "32/32 [==============================] - 4s 136ms/step - loss: 0.6927 - accuracy: 0.5488 - auc: 0.5696 - val_loss: 0.6751 - val_accuracy: 0.5816 - val_auc: 0.6118 - lr: 9.9382e-04\n",
      "Epoch 13/100\n",
      "32/32 [==============================] - 4s 138ms/step - loss: 0.6871 - accuracy: 0.5737 - auc: 0.5817 - val_loss: 0.7001 - val_accuracy: 0.5594 - val_auc: 0.5855 - lr: 9.9297e-04\n",
      "Epoch 14/100\n",
      "32/32 [==============================] - 4s 133ms/step - loss: 0.6867 - accuracy: 0.5474 - auc: 0.5882 - val_loss: 0.7267 - val_accuracy: 0.5230 - val_auc: 0.5811 - lr: 9.9200e-04\n",
      "Epoch 15/100\n",
      "32/32 [==============================] - 4s 132ms/step - loss: 0.6806 - accuracy: 0.5732 - auc: 0.5878 - val_loss: 0.7559 - val_accuracy: 0.5246 - val_auc: 0.5744 - lr: 9.9090e-04\n",
      "Epoch 16/100\n",
      "32/32 [==============================] - 4s 126ms/step - loss: 0.6870 - accuracy: 0.5601 - auc: 0.5733 - val_loss: 0.7000 - val_accuracy: 0.5578 - val_auc: 0.6040 - lr: 9.8965e-04\n",
      "Epoch 17/100\n",
      "32/32 [==============================] - 4s 128ms/step - loss: 0.6850 - accuracy: 0.5522 - auc: 0.5860 - val_loss: 0.6425 - val_accuracy: 0.6403 - val_auc: 0.6911 - lr: 9.8823e-04\n",
      "Epoch 18/100\n",
      "32/32 [==============================] - 4s 126ms/step - loss: 0.6905 - accuracy: 0.5615 - auc: 0.5767 - val_loss: 0.6603 - val_accuracy: 0.5658 - val_auc: 0.6304 - lr: 9.8662e-04\n",
      "Epoch 19/100\n",
      "32/32 [==============================] - 4s 127ms/step - loss: 0.6856 - accuracy: 0.5630 - auc: 0.5700 - val_loss: 0.6815 - val_accuracy: 0.5880 - val_auc: 0.6001 - lr: 9.8479e-04\n",
      "Epoch 20/100\n",
      "32/32 [==============================] - 4s 131ms/step - loss: 0.6860 - accuracy: 0.5547 - auc: 0.5840 - val_loss: 0.6767 - val_accuracy: 0.6149 - val_auc: 0.6383 - lr: 9.8271e-04\n",
      "Epoch 21/100\n",
      "32/32 [==============================] - 4s 137ms/step - loss: 0.6809 - accuracy: 0.5571 - auc: 0.5890 - val_loss: 0.6682 - val_accuracy: 0.6244 - val_auc: 0.6604 - lr: 9.8036e-04\n",
      "Epoch 22/100\n",
      "32/32 [==============================] - 4s 132ms/step - loss: 0.6830 - accuracy: 0.5557 - auc: 0.5897 - val_loss: 0.6746 - val_accuracy: 0.5911 - val_auc: 0.6245 - lr: 9.7769e-04\n",
      "Epoch 23/100\n",
      "32/32 [==============================] - 4s 132ms/step - loss: 0.6852 - accuracy: 0.5752 - auc: 0.5792 - val_loss: 0.6627 - val_accuracy: 0.6070 - val_auc: 0.6415 - lr: 9.7468e-04\n",
      "Epoch 24/100\n",
      "32/32 [==============================] - 4s 133ms/step - loss: 0.6857 - accuracy: 0.5635 - auc: 0.5781 - val_loss: 0.6949 - val_accuracy: 0.5594 - val_auc: 0.5683 - lr: 9.7126e-04\n",
      "Epoch 25/100\n",
      "32/32 [==============================] - 4s 132ms/step - loss: 0.6891 - accuracy: 0.5532 - auc: 0.5921 - val_loss: 0.7114 - val_accuracy: 0.5325 - val_auc: 0.5921 - lr: 9.6740e-04\n",
      "Epoch 26/100\n",
      "32/32 [==============================] - 4s 131ms/step - loss: 0.6857 - accuracy: 0.5562 - auc: 0.6011 - val_loss: 0.6627 - val_accuracy: 0.6054 - val_auc: 0.6368 - lr: 9.6305e-04\n",
      "Epoch 27/100\n",
      "32/32 [==============================] - 4s 138ms/step - loss: 0.6777 - accuracy: 0.5864 - auc: 0.5998 - val_loss: 0.6582 - val_accuracy: 0.5864 - val_auc: 0.6315 - lr: 9.5813e-04\n",
      "Epoch 28/100\n",
      "32/32 [==============================] - 4s 134ms/step - loss: 0.6885 - accuracy: 0.5562 - auc: 0.5746 - val_loss: 0.6493 - val_accuracy: 0.5959 - val_auc: 0.6541 - lr: 9.5260e-04\n",
      "Epoch 29/100\n",
      "32/32 [==============================] - 4s 132ms/step - loss: 0.6733 - accuracy: 0.5859 - auc: 0.6225 - val_loss: 0.7517 - val_accuracy: 0.5182 - val_auc: 0.5918 - lr: 9.4637e-04\n",
      "Epoch 30/100\n",
      "32/32 [==============================] - 4s 132ms/step - loss: 0.6839 - accuracy: 0.5640 - auc: 0.5721 - val_loss: 0.6827 - val_accuracy: 0.6038 - val_auc: 0.6426 - lr: 9.3939e-04\n",
      "Epoch 31/100\n",
      "32/32 [==============================] - 4s 133ms/step - loss: 0.6773 - accuracy: 0.5781 - auc: 0.6064 - val_loss: 0.6682 - val_accuracy: 0.5388 - val_auc: 0.6182 - lr: 9.3155e-04\n",
      "Epoch 32/100\n",
      "32/32 [==============================] - 4s 132ms/step - loss: 0.6692 - accuracy: 0.5864 - auc: 0.6278 - val_loss: 0.6647 - val_accuracy: 0.6086 - val_auc: 0.6485 - lr: 9.2279e-04\n",
      "Epoch 33/100\n",
      "32/32 [==============================] - 4s 133ms/step - loss: 0.6839 - accuracy: 0.5767 - auc: 0.6075 - val_loss: 0.6727 - val_accuracy: 0.5911 - val_auc: 0.6226 - lr: 9.1301e-04\n",
      "Epoch 34/100\n",
      "32/32 [==============================] - 4s 133ms/step - loss: 0.6779 - accuracy: 0.5786 - auc: 0.6189 - val_loss: 0.7665 - val_accuracy: 0.5277 - val_auc: 0.5822 - lr: 9.0213e-04\n",
      "Epoch 35/100\n",
      "32/32 [==============================] - 4s 132ms/step - loss: 0.6731 - accuracy: 0.5835 - auc: 0.6041 - val_loss: 0.7094 - val_accuracy: 0.5689 - val_auc: 0.6053 - lr: 8.9005e-04\n",
      "Epoch 36/100\n",
      "32/32 [==============================] - 4s 134ms/step - loss: 0.6735 - accuracy: 0.6006 - auc: 0.6187 - val_loss: 1.7386 - val_accuracy: 0.4992 - val_auc: 0.5484 - lr: 8.7669e-04\n",
      "Epoch 37/100\n",
      "32/32 [==============================] - 4s 134ms/step - loss: 0.6796 - accuracy: 0.5654 - auc: 0.5894 - val_loss: 0.7083 - val_accuracy: 0.5468 - val_auc: 0.5937 - lr: 8.6196e-04\n",
      "Epoch 38/100\n",
      "32/32 [==============================] - 4s 134ms/step - loss: 0.6703 - accuracy: 0.5923 - auc: 0.6140 - val_loss: 0.7582 - val_accuracy: 0.5357 - val_auc: 0.5709 - lr: 8.4578e-04\n",
      "Epoch 39/100\n",
      "32/32 [==============================] - 4s 135ms/step - loss: 0.6749 - accuracy: 0.5752 - auc: 0.6171 - val_loss: 0.6716 - val_accuracy: 0.5975 - val_auc: 0.6122 - lr: 8.2809e-04\n",
      "Epoch 40/100\n",
      "32/32 [==============================] - 4s 134ms/step - loss: 0.6691 - accuracy: 0.5850 - auc: 0.6267 - val_loss: 0.6586 - val_accuracy: 0.5721 - val_auc: 0.6284 - lr: 8.0883e-04\n",
      "Epoch 41/100\n",
      "32/32 [==============================] - 4s 132ms/step - loss: 0.6773 - accuracy: 0.5708 - auc: 0.6213 - val_loss: 0.6369 - val_accuracy: 0.6307 - val_auc: 0.6852 - lr: 7.8798e-04\n",
      "Epoch 42/100\n",
      "32/32 [==============================] - 4s 130ms/step - loss: 0.6759 - accuracy: 0.5791 - auc: 0.6117 - val_loss: 0.6564 - val_accuracy: 0.6181 - val_auc: 0.6484 - lr: 7.6551e-04\n",
      "Epoch 43/100\n"
     ]
    },
    {
     "name": "stdout",
     "output_type": "stream",
     "text": [
      "32/32 [==============================] - 4s 130ms/step - loss: 0.6726 - accuracy: 0.5947 - auc: 0.6255 - val_loss: 0.6502 - val_accuracy: 0.6387 - val_auc: 0.6742 - lr: 7.4146e-04\n",
      "Epoch 44/100\n",
      "32/32 [==============================] - 4s 131ms/step - loss: 0.6757 - accuracy: 0.5830 - auc: 0.5908 - val_loss: 0.6269 - val_accuracy: 0.6577 - val_auc: 0.7074 - lr: 7.1587e-04\n",
      "Epoch 45/100\n",
      "32/32 [==============================] - 4s 134ms/step - loss: 0.6748 - accuracy: 0.5703 - auc: 0.6047 - val_loss: 0.6489 - val_accuracy: 0.6244 - val_auc: 0.6637 - lr: 6.8882e-04\n",
      "Epoch 46/100\n",
      "32/32 [==============================] - 4s 133ms/step - loss: 0.6738 - accuracy: 0.5972 - auc: 0.6066 - val_loss: 0.6576 - val_accuracy: 0.5737 - val_auc: 0.6414 - lr: 6.6044e-04\n",
      "Epoch 47/100\n",
      "32/32 [==============================] - 4s 133ms/step - loss: 0.6719 - accuracy: 0.5869 - auc: 0.6187 - val_loss: 0.6329 - val_accuracy: 0.6355 - val_auc: 0.7002 - lr: 6.3088e-04\n",
      "Epoch 48/100\n",
      "32/32 [==============================] - 4s 132ms/step - loss: 0.6685 - accuracy: 0.5913 - auc: 0.6294 - val_loss: 0.6796 - val_accuracy: 0.5895 - val_auc: 0.6015 - lr: 6.0032e-04\n",
      "Epoch 49/100\n",
      "32/32 [==============================] - 4s 134ms/step - loss: 0.6734 - accuracy: 0.5776 - auc: 0.6251 - val_loss: 0.6834 - val_accuracy: 0.5832 - val_auc: 0.6008 - lr: 5.6899e-04\n",
      "Epoch 50/100\n",
      "32/32 [==============================] - 4s 131ms/step - loss: 0.6706 - accuracy: 0.5874 - auc: 0.6153 - val_loss: 0.6975 - val_accuracy: 0.5784 - val_auc: 0.5973 - lr: 5.3713e-04\n",
      "Epoch 51/100\n",
      "32/32 [==============================] - 4s 132ms/step - loss: 0.6691 - accuracy: 0.5947 - auc: 0.6290 - val_loss: 0.7071 - val_accuracy: 0.5705 - val_auc: 0.5897 - lr: 5.0500e-04\n",
      "Epoch 52/100\n",
      "32/32 [==============================] - 4s 132ms/step - loss: 0.6721 - accuracy: 0.5811 - auc: 0.6049 - val_loss: 0.6542 - val_accuracy: 0.6513 - val_auc: 0.6658 - lr: 4.7287e-04\n",
      "Epoch 53/100\n",
      "32/32 [==============================] - 4s 135ms/step - loss: 0.6712 - accuracy: 0.5771 - auc: 0.6152 - val_loss: 0.6528 - val_accuracy: 0.6260 - val_auc: 0.6579 - lr: 4.4101e-04\n",
      "Epoch 54/100\n",
      "32/32 [==============================] - 4s 133ms/step - loss: 0.6719 - accuracy: 0.5879 - auc: 0.6130 - val_loss: 0.6413 - val_accuracy: 0.6307 - val_auc: 0.6796 - lr: 4.0968e-04\n",
      "Epoch 55/100\n",
      "32/32 [==============================] - 4s 134ms/step - loss: 0.6660 - accuracy: 0.6099 - auc: 0.6272 - val_loss: 0.6469 - val_accuracy: 0.5895 - val_auc: 0.6523 - lr: 3.7912e-04\n",
      "Epoch 56/100\n",
      "32/32 [==============================] - 4s 134ms/step - loss: 0.6710 - accuracy: 0.5825 - auc: 0.6308 - val_loss: 0.6369 - val_accuracy: 0.6418 - val_auc: 0.6922 - lr: 3.4956e-04\n",
      "Epoch 57/100\n",
      "32/32 [==============================] - 4s 131ms/step - loss: 0.6639 - accuracy: 0.5918 - auc: 0.6282 - val_loss: 0.6569 - val_accuracy: 0.5705 - val_auc: 0.6347 - lr: 3.2118e-04\n",
      "Epoch 58/100\n",
      "32/32 [==============================] - 4s 132ms/step - loss: 0.6683 - accuracy: 0.5928 - auc: 0.6174 - val_loss: 0.6367 - val_accuracy: 0.6212 - val_auc: 0.6859 - lr: 2.9413e-04\n",
      "Epoch 59/100\n",
      "32/32 [==============================] - 4s 133ms/step - loss: 0.6709 - accuracy: 0.5781 - auc: 0.6230 - val_loss: 0.6637 - val_accuracy: 0.6070 - val_auc: 0.6323 - lr: 2.6854e-04\n",
      "Epoch 60/100\n",
      "32/32 [==============================] - 4s 132ms/step - loss: 0.6710 - accuracy: 0.5894 - auc: 0.6130 - val_loss: 0.6969 - val_accuracy: 0.5737 - val_auc: 0.5934 - lr: 2.4449e-04\n",
      "Epoch 61/100\n",
      "32/32 [==============================] - 4s 131ms/step - loss: 0.6725 - accuracy: 0.5801 - auc: 0.6251 - val_loss: 0.6894 - val_accuracy: 0.5784 - val_auc: 0.6030 - lr: 2.2202e-04\n",
      "Epoch 62/100\n",
      "32/32 [==============================] - 4s 134ms/step - loss: 0.6686 - accuracy: 0.5850 - auc: 0.6296 - val_loss: 0.6488 - val_accuracy: 0.6212 - val_auc: 0.6631 - lr: 2.0117e-04\n",
      "Epoch 63/100\n",
      "32/32 [==============================] - 4s 134ms/step - loss: 0.6669 - accuracy: 0.5947 - auc: 0.6355 - val_loss: 0.6245 - val_accuracy: 0.6482 - val_auc: 0.7103 - lr: 1.8191e-04\n",
      "Epoch 64/100\n",
      "32/32 [==============================] - 4s 133ms/step - loss: 0.6685 - accuracy: 0.5845 - auc: 0.6270 - val_loss: 0.6291 - val_accuracy: 0.6434 - val_auc: 0.7010 - lr: 1.6422e-04\n",
      "Epoch 65/100\n",
      "32/32 [==============================] - 4s 132ms/step - loss: 0.6664 - accuracy: 0.5767 - auc: 0.6338 - val_loss: 0.6333 - val_accuracy: 0.6466 - val_auc: 0.6963 - lr: 1.4804e-04\n",
      "Epoch 66/100\n",
      "32/32 [==============================] - 4s 130ms/step - loss: 0.6658 - accuracy: 0.5962 - auc: 0.6395 - val_loss: 0.6298 - val_accuracy: 0.6244 - val_auc: 0.6939 - lr: 1.3331e-04\n",
      "Epoch 67/100\n",
      "32/32 [==============================] - 4s 134ms/step - loss: 0.6692 - accuracy: 0.5879 - auc: 0.6267 - val_loss: 0.6273 - val_accuracy: 0.6292 - val_auc: 0.6985 - lr: 1.1995e-04\n",
      "Epoch 68/100\n",
      "32/32 [==============================] - 4s 133ms/step - loss: 0.6661 - accuracy: 0.5977 - auc: 0.6360 - val_loss: 0.6269 - val_accuracy: 0.6466 - val_auc: 0.7045 - lr: 1.0787e-04\n",
      "Epoch 69/100\n",
      "32/32 [==============================] - 4s 133ms/step - loss: 0.6684 - accuracy: 0.5908 - auc: 0.6193 - val_loss: 0.6367 - val_accuracy: 0.6276 - val_auc: 0.6859 - lr: 9.6985e-05\n",
      "Epoch 70/100\n",
      "32/32 [==============================] - 4s 135ms/step - loss: 0.6705 - accuracy: 0.5908 - auc: 0.6271 - val_loss: 0.6451 - val_accuracy: 0.6197 - val_auc: 0.6709 - lr: 8.7208e-05\n",
      "Epoch 71/100\n",
      "32/32 [==============================] - 4s 128ms/step - loss: 0.6666 - accuracy: 0.5967 - auc: 0.6447 - val_loss: 0.6488 - val_accuracy: 0.6292 - val_auc: 0.6615 - lr: 7.8447e-05\n",
      "Epoch 72/100\n",
      "32/32 [==============================] - 4s 137ms/step - loss: 0.6711 - accuracy: 0.6006 - auc: 0.6247 - val_loss: 0.6417 - val_accuracy: 0.6197 - val_auc: 0.6768 - lr: 7.0614e-05\n",
      "Epoch 73/100\n",
      "32/32 [==============================] - 4s 133ms/step - loss: 0.6718 - accuracy: 0.5928 - auc: 0.6177 - val_loss: 0.6400 - val_accuracy: 0.6228 - val_auc: 0.6813 - lr: 6.3625e-05\n",
      "Epoch 74/100\n",
      "32/32 [==============================] - 4s 133ms/step - loss: 0.6680 - accuracy: 0.5854 - auc: 0.6285 - val_loss: 0.6385 - val_accuracy: 0.6307 - val_auc: 0.6847 - lr: 5.7401e-05\n",
      "Epoch 75/100\n",
      "32/32 [==============================] - 4s 134ms/step - loss: 0.6660 - accuracy: 0.5972 - auc: 0.6450 - val_loss: 0.6338 - val_accuracy: 0.6276 - val_auc: 0.6904 - lr: 5.1867e-05\n",
      "Epoch 76/100\n",
      "32/32 [==============================] - 4s 132ms/step - loss: 0.6621 - accuracy: 0.6089 - auc: 0.6400 - val_loss: 0.6309 - val_accuracy: 0.6276 - val_auc: 0.6932 - lr: 4.6954e-05\n",
      "Epoch 77/100\n",
      "32/32 [==============================] - 4s 133ms/step - loss: 0.6617 - accuracy: 0.6060 - auc: 0.6362 - val_loss: 0.6327 - val_accuracy: 0.6149 - val_auc: 0.6804 - lr: 4.2597e-05\n",
      "Epoch 78/100\n",
      "32/32 [==============================] - 4s 133ms/step - loss: 0.6640 - accuracy: 0.5923 - auc: 0.6343 - val_loss: 0.6321 - val_accuracy: 0.6070 - val_auc: 0.6830 - lr: 3.8739e-05\n",
      "Epoch 79/100\n",
      "32/32 [==============================] - 4s 133ms/step - loss: 0.6686 - accuracy: 0.5996 - auc: 0.6200 - val_loss: 0.6323 - val_accuracy: 0.6276 - val_auc: 0.6916 - lr: 3.5325e-05\n",
      "Epoch 80/100\n",
      "32/32 [==============================] - 4s 134ms/step - loss: 0.6725 - accuracy: 0.5928 - auc: 0.6212 - val_loss: 0.6323 - val_accuracy: 0.6323 - val_auc: 0.6930 - lr: 3.2307e-05\n",
      "Epoch 81/100\n",
      "32/32 [==============================] - 4s 133ms/step - loss: 0.6666 - accuracy: 0.5957 - auc: 0.6418 - val_loss: 0.6360 - val_accuracy: 0.6212 - val_auc: 0.6844 - lr: 2.9642e-05\n",
      "Epoch 82/100\n",
      "32/32 [==============================] - 4s 132ms/step - loss: 0.6658 - accuracy: 0.6055 - auc: 0.6228 - val_loss: 0.6360 - val_accuracy: 0.6323 - val_auc: 0.6874 - lr: 2.7289e-05\n",
      "Epoch 83/100\n",
      "32/32 [==============================] - 4s 133ms/step - loss: 0.6698 - accuracy: 0.5796 - auc: 0.6332 - val_loss: 0.6366 - val_accuracy: 0.6371 - val_auc: 0.6868 - lr: 2.5214e-05\n",
      "Epoch 84/100\n",
      "32/32 [==============================] - 4s 133ms/step - loss: 0.6703 - accuracy: 0.5850 - auc: 0.6238 - val_loss: 0.6362 - val_accuracy: 0.6339 - val_auc: 0.6878 - lr: 2.3384e-05\n",
      "Epoch 85/100\n"
     ]
    },
    {
     "name": "stdout",
     "output_type": "stream",
     "text": [
      "32/32 [==============================] - 4s 133ms/step - loss: 0.6649 - accuracy: 0.6011 - auc: 0.6528 - val_loss: 0.6375 - val_accuracy: 0.6260 - val_auc: 0.6855 - lr: 2.1772e-05\n",
      "Epoch 86/100\n",
      "32/32 [==============================] - 4s 133ms/step - loss: 0.6681 - accuracy: 0.6021 - auc: 0.6330 - val_loss: 0.6368 - val_accuracy: 0.6323 - val_auc: 0.6858 - lr: 2.0352e-05\n",
      "Epoch 87/100\n",
      "32/32 [==============================] - 4s 135ms/step - loss: 0.6632 - accuracy: 0.6177 - auc: 0.6291 - val_loss: 0.6351 - val_accuracy: 0.6339 - val_auc: 0.6893 - lr: 1.9102e-05\n",
      "Epoch 88/100\n",
      "32/32 [==============================] - 4s 134ms/step - loss: 0.6661 - accuracy: 0.6089 - auc: 0.6442 - val_loss: 0.6359 - val_accuracy: 0.6292 - val_auc: 0.6884 - lr: 1.8001e-05\n",
      "Epoch 89/100\n",
      "32/32 [==============================] - 4s 134ms/step - loss: 0.6667 - accuracy: 0.5923 - auc: 0.6487 - val_loss: 0.6345 - val_accuracy: 0.6323 - val_auc: 0.6889 - lr: 1.7033e-05\n",
      "Epoch 90/100\n",
      "32/32 [==============================] - 4s 131ms/step - loss: 0.6657 - accuracy: 0.6001 - auc: 0.6299 - val_loss: 0.6325 - val_accuracy: 0.6387 - val_auc: 0.6917 - lr: 1.6181e-05\n",
      "Epoch 91/100\n",
      "32/32 [==============================] - 4s 133ms/step - loss: 0.6679 - accuracy: 0.5845 - auc: 0.6264 - val_loss: 0.6342 - val_accuracy: 0.6371 - val_auc: 0.6908 - lr: 1.5431e-05\n",
      "Epoch 92/100\n",
      "32/32 [==============================] - 4s 130ms/step - loss: 0.6642 - accuracy: 0.6025 - auc: 0.6363 - val_loss: 0.6341 - val_accuracy: 0.6371 - val_auc: 0.6906 - lr: 1.4773e-05\n",
      "Epoch 93/100\n",
      "32/32 [==============================] - 4s 131ms/step - loss: 0.6667 - accuracy: 0.6006 - auc: 0.6477 - val_loss: 0.6339 - val_accuracy: 0.6355 - val_auc: 0.6905 - lr: 1.4193e-05\n",
      "Epoch 94/100\n",
      "32/32 [==============================] - 4s 132ms/step - loss: 0.6700 - accuracy: 0.5830 - auc: 0.6371 - val_loss: 0.6355 - val_accuracy: 0.6339 - val_auc: 0.6883 - lr: 1.3684e-05\n",
      "Epoch 95/100\n",
      "32/32 [==============================] - 4s 132ms/step - loss: 0.6693 - accuracy: 0.6035 - auc: 0.6386 - val_loss: 0.6388 - val_accuracy: 0.6133 - val_auc: 0.6828 - lr: 1.3236e-05\n",
      "Epoch 96/100\n",
      "32/32 [==============================] - 4s 131ms/step - loss: 0.6654 - accuracy: 0.5942 - auc: 0.6462 - val_loss: 0.6410 - val_accuracy: 0.6054 - val_auc: 0.6784 - lr: 1.2843e-05\n",
      "Epoch 97/100\n",
      "32/32 [==============================] - 4s 133ms/step - loss: 0.6647 - accuracy: 0.5957 - auc: 0.6325 - val_loss: 0.6368 - val_accuracy: 0.6244 - val_auc: 0.6857 - lr: 1.2497e-05\n",
      "Epoch 98/100\n",
      "32/32 [==============================] - 4s 133ms/step - loss: 0.6647 - accuracy: 0.5947 - auc: 0.6260 - val_loss: 0.6348 - val_accuracy: 0.6292 - val_auc: 0.6883 - lr: 1.2193e-05\n",
      "Epoch 99/100\n",
      "32/32 [==============================] - 4s 131ms/step - loss: 0.6637 - accuracy: 0.6060 - auc: 0.6346 - val_loss: 0.6366 - val_accuracy: 0.6165 - val_auc: 0.6864 - lr: 1.1927e-05\n",
      "Epoch 100/100\n",
      "32/32 [==============================] - 4s 130ms/step - loss: 0.6663 - accuracy: 0.5996 - auc: 0.6337 - val_loss: 0.6372 - val_accuracy: 0.6228 - val_auc: 0.6847 - lr: 1.1692e-05\n"
     ]
    },
    {
     "data": {
      "text/plain": [
       "<keras.callbacks.History at 0x7fb813c82a00>"
      ]
     },
     "execution_count": 25,
     "metadata": {},
     "output_type": "execute_result"
    }
   ],
   "source": [
    "n_epoch = 100\n",
    "lr = LearningRateScheduler(lambda e: sigmoidal_decay(e, end=n_epoch))\n",
    "\n",
    "\n",
    "batch_size = 64\n",
    "params = {'batch_size': batch_size,\n",
    "#          'input_shape': (100, 313, 1),\n",
    "          'shuffle': True,\n",
    "          'beta_param': 0.7,\n",
    "          'mixup': True,\n",
    "#          'lowpass': [.5, [11,12,13,14,15,16,17,18]]\n",
    "          'highpass': [.5, [78,79,80,81,82,83,84,85]],\n",
    "          'ranfilter2' : [3, [18,19,20,21,22,23]]\n",
    "#           'dropblock' : [30, 100]\n",
    "          #'device' : device\n",
    "}\n",
    "\n",
    "params_no_shuffle = {'batch_size': batch_size,\n",
    "#          'input_shape': (100, 313, 1),\n",
    "          'shuffle': False,\n",
    "          'beta_param': 0.7,\n",
    "          'mixup': False\n",
    "          #'device': device\n",
    "}\n",
    "\n",
    "TrainDGen_1 = Generator0([features_trn['age'],features_trn['sex'], features_trn['hw'], features_trn['preg'], features_trn['loc'],\n",
    "                          features_trn['rr1'],features_trn['mel1'],features_trn['stft1'],features_trn['cqt1'],features_trn['wavelet_mel']],\n",
    "                          features_trn['out_labels'],  **params)()\n",
    "\n",
    "#ValDGen_1 = Generator0([features_test[0]['age'],features_test[0]['sex'], features_test[0]['hw'], features_test[0]['preg'], features_test[0]['loc'], \n",
    "#           features_test[0]['mel1'],features_test[0]['cqt1'],features_test[0]['stft1']], \n",
    "#                        features_test[2],  ## our Y\n",
    "#                        **params_no_shuffle)()\n",
    "\n",
    "    \n",
    "model2.fit(TrainDGen_1,\n",
    "          validation_data = ([features_test['age'],features_test['sex'], features_test['hw'], \n",
    "                              features_test['preg'], features_test['loc'],features_test['rr1'], features_test['mel1'],\n",
    "                              features_test['stft1'],features_test['cqt1'],features_test['wavelet_mel']], \n",
    "                             features_test['out_labels']), \n",
    "                             callbacks=[lr],\n",
    "                              steps_per_epoch=32,\n",
    "                             epochs = n_epoch)"
   ]
  },
  {
   "cell_type": "code",
   "execution_count": 26,
   "id": "5dcd8f67",
   "metadata": {},
   "outputs": [
    {
     "data": {
      "text/plain": [
       "dict_keys(['id', 'age', 'sex', 'hw', 'preg', 'loc', 'mel1', 'wavelet_mel', 'cqt1', 'stft1', 'raw1', 'rr1', 'mm_labels', 'out_labels'])"
      ]
     },
     "execution_count": 26,
     "metadata": {},
     "output_type": "execute_result"
    }
   ],
   "source": [
    "features_test.keys()"
   ]
  },
  {
   "cell_type": "code",
   "execution_count": 27,
   "id": "5d9abb6a",
   "metadata": {},
   "outputs": [
    {
     "data": {
      "text/plain": [
       "{'samp_sec': 20,\n",
       " 'pre_emphasis': 0,\n",
       " 'hop_length': 128,\n",
       " 'win_length': 256,\n",
       " 'n_mels': 100,\n",
       " 'filter_scale': 1,\n",
       " 'n_bins': 80,\n",
       " 'fmin': 10}"
      ]
     },
     "execution_count": 27,
     "metadata": {},
     "output_type": "execute_result"
    }
   ],
   "source": [
    "params_feature"
   ]
  },
  {
   "cell_type": "code",
   "execution_count": 28,
   "id": "08f47fb7",
   "metadata": {},
   "outputs": [],
   "source": [
    "params_feature['mel_shape'] = mel_input_shape\n",
    "params_feature['cqt_shape'] = cqt_input_shape\n",
    "params_feature['stft_shape'] = stft_input_shape\n",
    "params_feature['wavelet_mel_shape'] = wavelet_mel_input_shape\n"
   ]
  },
  {
   "cell_type": "code",
   "execution_count": 29,
   "id": "b55d7cf2",
   "metadata": {},
   "outputs": [
    {
     "data": {
      "text/plain": [
       "{'samp_sec': 20,\n",
       " 'pre_emphasis': 0,\n",
       " 'hop_length': 128,\n",
       " 'win_length': 256,\n",
       " 'n_mels': 100,\n",
       " 'filter_scale': 1,\n",
       " 'n_bins': 80,\n",
       " 'fmin': 10,\n",
       " 'mel_shape': (100, 626, 1),\n",
       " 'cqt_shape': (80, 157, 1),\n",
       " 'stft_shape': (129, 626, 1),\n",
       " 'wavelet_mel_shape': (100, 626, 1)}"
      ]
     },
     "execution_count": 29,
     "metadata": {},
     "output_type": "execute_result"
    }
   ],
   "source": [
    "params_feature"
   ]
  },
  {
   "cell_type": "code",
   "execution_count": 30,
   "id": "786d2ba7",
   "metadata": {},
   "outputs": [],
   "source": [
    "import pickle as pk\n",
    "def save_challenge_model(model_folder, model1, model2, m_name1, m_name2, param_feature) :\n",
    "    os.makedirs(model_folder, exist_ok=True)\n",
    "    info_fnm = os.path.join(model_folder, 'desc.pk')\n",
    "    filename1 = os.path.join(model_folder, m_name1 + '_model1.hdf5')\n",
    "    filename2 = os.path.join(model_folder, m_name2 + '_model2.hdf5')\n",
    "    model1.save(filename1)\n",
    "    model2.save(filename2)\n",
    "    param_feature['model1'] = m_name1\n",
    "    param_feature['model2'] = m_name2\n",
    "    param_feature['model_fnm1'] = filename1\n",
    "    param_feature['model_fnm2'] = filename2\n",
    "\n",
    "    with open(info_fnm, 'wb') as f:\n",
    "        pk.dump(param_feature, f, pk.HIGHEST_PROTOCOL)\n",
    "    return 1\n",
    "    "
   ]
  },
  {
   "cell_type": "code",
   "execution_count": 31,
   "id": "6b9ae924",
   "metadata": {},
   "outputs": [
    {
     "data": {
      "text/plain": [
       "'lcnn2'"
      ]
     },
     "execution_count": 31,
     "metadata": {},
     "output_type": "execute_result"
    }
   ],
   "source": [
    "model_folder"
   ]
  },
  {
   "cell_type": "code",
   "execution_count": 32,
   "id": "ed1124d7",
   "metadata": {},
   "outputs": [
    {
     "data": {
      "text/plain": [
       "1"
      ]
     },
     "execution_count": 32,
     "metadata": {},
     "output_type": "execute_result"
    }
   ],
   "source": [
    "save_challenge_model(model_folder, model1, model2, m_name1 = 'lcnn1', m_name2 = 'lcnn2', param_feature = params_feature)"
   ]
  },
  {
   "cell_type": "code",
   "execution_count": 33,
   "id": "ba030c37",
   "metadata": {},
   "outputs": [],
   "source": [
    "def load_challenge_model(model_folder, verbose):\n",
    "    info_fnm = os.path.join(model_folder, 'desc.pk')\n",
    "    with open(info_fnm, 'rb') as f:\n",
    "        info_m = pk.load(f)\n",
    "#    if info_m['model'] == 'toy' :\n",
    "#        model = get_toy(info_m['mel_shape'])\n",
    "#    filename = os.path.join(model_folder, info_m['model'] + '_model.hdf5')\n",
    "#    model.load_weights(filename)\n",
    "    return info_m"
   ]
  },
  {
   "cell_type": "code",
   "execution_count": 34,
   "id": "23ab0a5f",
   "metadata": {
    "scrolled": true
   },
   "outputs": [
    {
     "data": {
      "text/plain": [
       "{'samp_sec': 20,\n",
       " 'pre_emphasis': 0,\n",
       " 'hop_length': 128,\n",
       " 'win_length': 256,\n",
       " 'n_mels': 100,\n",
       " 'filter_scale': 1,\n",
       " 'n_bins': 80,\n",
       " 'fmin': 10,\n",
       " 'mel_shape': (100, 626, 1),\n",
       " 'cqt_shape': (80, 157, 1),\n",
       " 'stft_shape': (129, 626, 1),\n",
       " 'wavelet_mel_shape': (100, 626, 1),\n",
       " 'model1': 'lcnn1',\n",
       " 'model2': 'lcnn2',\n",
       " 'model_fnm1': 'lcnn2/lcnn1_model1.hdf5',\n",
       " 'model_fnm2': 'lcnn2/lcnn2_model2.hdf5'}"
      ]
     },
     "execution_count": 34,
     "metadata": {},
     "output_type": "execute_result"
    }
   ],
   "source": [
    "params_feature"
   ]
  },
  {
   "cell_type": "code",
   "execution_count": 40,
   "id": "19a747dc",
   "metadata": {},
   "outputs": [],
   "source": [
    "def run_challenge_model(model, data, recordings, verbose,use_mel=True,use_stft=True,use_cqt=True,use_wavelet_mel=True):\n",
    "    \n",
    "    murmur_classes = ['Present', 'Unknown', 'Absent']\n",
    "    outcome_classes = ['Abnormal', 'Normal']\n",
    "    \n",
    "    if model['model1'] == 'toy1' :\n",
    "        model1 = get_toy5_1(model['mel_shape'],model['cqt_shape'],model['stft_shape'] )\n",
    "    if model['model2'] == 'toy2' :\n",
    "        model2 = get_toy5_2(model['mel_shape'],model['cqt_shape'],model['stft_shape'])\n",
    "    if model['model1'] == 'lcnn1' :\n",
    "        model1 = get_LCNN_o_5_dr(model['mel_shape'],model['cqt_shape'],model['stft_shape'], model['wavelet_mel_shape'],use_mel = False, use_wavelet_mel=True, use_stft = False,ord1=False,ext=True)\n",
    "    if model['model2'] == 'lcnn2' :\n",
    "        model2 = get_LCNN_o_5_dr(model['mel_shape'],model['cqt_shape'],model['stft_shape'],model['wavelet_mel_shape'], use_mel = False, use_wavelet_mel=True, use_stft = False,ord1=True,ext=True)\n",
    "    model1.load_weights(model['model_fnm1'])\n",
    "    model2.load_weights(model['model_fnm2'])\n",
    "    \n",
    "#    classes = model['classes']\n",
    "    # Load features.\n",
    "    features = get_feature_one(data, verbose = 0)\n",
    "\n",
    "    samp_sec = model['samp_sec'] \n",
    "    pre_emphasis = model['pre_emphasis']\n",
    "    hop_length = model['hop_length']\n",
    "    win_length = model['win_length']\n",
    "    n_mels = model['n_mels']\n",
    "    filter_scale = model['filter_scale']\n",
    "    n_bins = model['n_bins']\n",
    "    fmin = model['fmin']\n",
    "    \n",
    "    features['rr1'] = []\n",
    "    \n",
    "    for i in range(len(recordings)):\n",
    "        try:\n",
    "            \n",
    "#             ____, recording1 = sp.io.wavfile.read(recordings)\n",
    "            ____, info = nk.ecg_process(recordings[i], sampling_rate=4000)\n",
    "            rr = np.mean(np.diff(info['ECG_R_Peaks'])/4000)\n",
    "            current_rr = rr\n",
    "        except:\n",
    "            current_rr=np.zeros(1)\n",
    "        \n",
    "        features['rr1'].append(current_rr)  \n",
    "    \n",
    "    features['rr1'] = np.array(features['rr1'])\n",
    "    \n",
    "    features['mel1'] = []\n",
    "    for i in range(len(recordings)) :\n",
    "        if use_mel :\n",
    "            mel1 = feature_extract_melspec(recordings[i]/ 32768, samp_sec=samp_sec, pre_emphasis = pre_emphasis, hop_length=hop_length, \n",
    "                                           win_length = win_length, n_mels = n_mels)[0]\n",
    "        else :\n",
    "            mel1 = np.zeros( (1,1) )\n",
    "            \n",
    "        features['mel1'].append(mel1)\n",
    "        \n",
    "    M, N = features['mel1'][0].shape\n",
    "    \n",
    "    if use_mel :\n",
    "        for i in range(len(features['mel1'])) :\n",
    "            features['mel1'][i] = features['mel1'][i].reshape(M,N,1)   \n",
    "    \n",
    "    features['mel1'] = np.array(features['mel1'])\n",
    "\n",
    "    \n",
    "  \n",
    "    features['cqt1'] = []\n",
    "    for i in range(len(recordings)) :\n",
    "        if use_cqt :\n",
    "            mel1 = feature_extract_cqt(recordings[i], samp_sec=samp_sec, pre_emphasis = pre_emphasis, filter_scale = filter_scale, \n",
    "                                        n_bins = n_bins, fmin = fmin)[0]\n",
    "        else:\n",
    "            mel1 = np.zeros( (1,1) )\n",
    "            \n",
    "        features['cqt1'].append(mel1)\n",
    "        \n",
    "    M, N = features['cqt1'][0].shape\n",
    "    \n",
    "    if use_cqt :\n",
    "        for i in range(len(features['cqt1'])) :\n",
    "            features['cqt1'][i] = features['cqt1'][i].reshape(M,N,1)   \n",
    "    \n",
    "    features['cqt1'] = np.array(features['cqt1'])\n",
    "    \n",
    "    \n",
    "    features['stft1'] = []\n",
    "    for i in range(len(recordings)) :\n",
    "        if use_stft :\n",
    "            mel1 = feature_extract_stft(recordings[i]/ 32768, samp_sec=samp_sec, pre_emphasis = pre_emphasis, hop_length=hop_length, \n",
    "                                        win_length = win_length)[0]\n",
    "        else :\n",
    "            mel1 = np.zeros( (1,1) )\n",
    "        \n",
    "        features['stft1'].append(mel1)\n",
    "        \n",
    "    M, N = features['stft1'][0].shape\n",
    "    if use_stft :\n",
    "        for i in range(len(features['stft1'])) :\n",
    "            features['stft1'][i] = features['stft1'][i].reshape(M,N,1)           \n",
    "    features['stft1'] = np.array(features['stft1'])\n",
    "    \n",
    "    \n",
    "    features['wavelet_mel'] = []\n",
    "    for i in range(len(recordings)):\n",
    "        if use_wavelet_mel:\n",
    "            \n",
    "            wav = recordings[i]\n",
    "            wav_wavelet,__=pywt.cwt(wav,1,'gaus2')\n",
    "            mel1 = feature_extract_melspec(wav_wavelet[0], samp_sec=samp_sec,trim = 4000, pre_emphasis = pre_emphasis, hop_length=hop_length, win_length = win_length, n_mels = n_mels)[0]\n",
    "        else:\n",
    "            mel1 = np.zeros((1,1))\n",
    "                \n",
    "        \n",
    "        features['wavelet_mel'].append(mel1)\n",
    "    \n",
    "    M, N = features['wavelet_mel'][0].shape\n",
    "    if use_wavelet_mel :\n",
    "        for i in range(len(features['wavelet_mel'])) :\n",
    "            features['wavelet_mel'][i] = features['wavelet_mel'][i].reshape(M,N,1)           \n",
    "    features['wavelet_mel'] = np.array(features['wavelet_mel'])\n",
    "\n",
    "    #    print(features)\n",
    "    # Impute missing data.\n",
    "    res1 = model1.predict([features['age'], features['sex'], features['hw'], features['preg'], \n",
    "                           features['loc'], features['rr1'],features['mel1'], features['stft1'], features['cqt1'],features['wavelet_mel']])\n",
    "    res2 = model2.predict([features['age'], features['sex'], features['hw'], features['preg'], \n",
    "                           features['loc'], features['rr1'], features['mel1'], features['stft1'], features['cqt1'],features['wavelet_mel']])\n",
    "\n",
    "    # Get classifier probabilities.\n",
    "    idx1 = res1.argmax(axis=0)[0]\n",
    "    murmur_probabilities = res1[idx1,]  ## mumur 확률 최대화 되는 애 뽑기\n",
    "    outcome_probabilities = res2.mean(axis = 0) ##  outcome 은 그냥 평균으로 뽑기\n",
    "#    idx = np.argmax(prob1)\n",
    "\n",
    "    ## 이부분도 생각 필요.. rule 을 cost를 maximize 하는 기준으로 threshold 탐색 필요할지도..\n",
    "    # Choose label with highest probability.\n",
    "    murmur_labels = np.zeros(len(murmur_classes), dtype=np.int_)\n",
    "    idx = np.argmax(murmur_probabilities)\n",
    "    murmur_labels[idx] = 1\n",
    "    outcome_labels = np.zeros(len(outcome_classes), dtype=np.int_)\n",
    "    idx = np.argmax(outcome_probabilities)\n",
    "    outcome_labels[idx] = 1\n",
    "    \n",
    "    # Concatenate classes, labels, and probabilities.\n",
    "    classes = murmur_classes + outcome_classes\n",
    "    labels = np.concatenate((murmur_labels, outcome_labels))\n",
    "    probabilities = np.concatenate((murmur_probabilities, outcome_probabilities))\n",
    "    \n",
    "    return classes, labels, probabilities"
   ]
  },
  {
   "cell_type": "code",
   "execution_count": null,
   "id": "4474bf29",
   "metadata": {},
   "outputs": [],
   "source": []
  },
  {
   "cell_type": "code",
   "execution_count": null,
   "id": "e087b2c7",
   "metadata": {},
   "outputs": [],
   "source": []
  },
  {
   "cell_type": "code",
   "execution_count": 41,
   "id": "b5eecd4a",
   "metadata": {},
   "outputs": [
    {
     "data": {
      "text/plain": [
       "'lcnn2'"
      ]
     },
     "execution_count": 41,
     "metadata": {},
     "output_type": "execute_result"
    }
   ],
   "source": [
    "model_folder"
   ]
  },
  {
   "cell_type": "code",
   "execution_count": 42,
   "id": "cd5b523f",
   "metadata": {},
   "outputs": [],
   "source": [
    "data_folder = test_folder"
   ]
  },
  {
   "cell_type": "code",
   "execution_count": 43,
   "id": "1f523ff0",
   "metadata": {},
   "outputs": [
    {
     "data": {
      "text/plain": [
       "'/home/jk21/Downloads/Data/data/murmur/test'"
      ]
     },
     "execution_count": 43,
     "metadata": {},
     "output_type": "execute_result"
    }
   ],
   "source": [
    "data_folder"
   ]
  },
  {
   "cell_type": "code",
   "execution_count": 44,
   "id": "c67ffdf6",
   "metadata": {},
   "outputs": [
    {
     "data": {
      "text/plain": [
       "'/home/jk21/Documents/hmd/jk_classifier/out_lcnn2'"
      ]
     },
     "execution_count": 44,
     "metadata": {},
     "output_type": "execute_result"
    }
   ],
   "source": [
    "output_folder"
   ]
  },
  {
   "cell_type": "code",
   "execution_count": 45,
   "id": "89e8d650",
   "metadata": {},
   "outputs": [],
   "source": [
    "allow_failures=True"
   ]
  },
  {
   "cell_type": "code",
   "execution_count": 46,
   "id": "bccc27ef",
   "metadata": {},
   "outputs": [],
   "source": [
    "verbose=2"
   ]
  },
  {
   "cell_type": "code",
   "execution_count": null,
   "id": "101c582c",
   "metadata": {},
   "outputs": [],
   "source": []
  },
  {
   "cell_type": "code",
   "execution_count": 47,
   "id": "73579324",
   "metadata": {},
   "outputs": [],
   "source": [
    "model = load_challenge_model(model_folder, verbose)"
   ]
  },
  {
   "cell_type": "code",
   "execution_count": 48,
   "id": "20a7edc2",
   "metadata": {},
   "outputs": [],
   "source": [
    "patient_files = find_patient_files(data_folder)"
   ]
  },
  {
   "cell_type": "code",
   "execution_count": 49,
   "id": "450b3026",
   "metadata": {},
   "outputs": [],
   "source": [
    "num_patient_files = len(patient_files)"
   ]
  },
  {
   "cell_type": "code",
   "execution_count": 50,
   "id": "2ed2bb8f",
   "metadata": {},
   "outputs": [],
   "source": [
    "patient_data = load_patient_data(patient_files[0])"
   ]
  },
  {
   "cell_type": "code",
   "execution_count": 51,
   "id": "9234bd3a",
   "metadata": {},
   "outputs": [
    {
     "data": {
      "text/plain": [
       "'33151 4 4000\\nAV 33151_AV.hea 33151_AV.wav 33151_AV.tsv\\nPV 33151_PV.hea 33151_PV.wav 33151_PV.tsv\\nTV 33151_TV.hea 33151_TV.wav 33151_TV.tsv\\nMV 33151_MV.hea 33151_MV.wav 33151_MV.tsv\\n#Age: Child\\n#Sex: Female\\n#Height: 141.0\\n#Weight: 30.9\\n#Pregnancy status: False\\n#Murmur: Present\\n#Murmur locations: MV+TV\\n#Most audible location: TV\\n#Systolic murmur timing: Holosystolic\\n#Systolic murmur shape: Plateau\\n#Systolic murmur grading: I/VI\\n#Systolic murmur pitch: Low\\n#Systolic murmur quality: Harsh\\n#Diastolic murmur timing: nan\\n#Diastolic murmur shape: nan\\n#Diastolic murmur grading: nan\\n#Diastolic murmur pitch: nan\\n#Diastolic murmur quality: nan\\n#Outcome: Abnormal\\n#Campaign: CC2015\\n#Additional ID: nan\\n'"
      ]
     },
     "execution_count": 51,
     "metadata": {},
     "output_type": "execute_result"
    }
   ],
   "source": [
    "patient_data"
   ]
  },
  {
   "cell_type": "code",
   "execution_count": 52,
   "id": "f039e162",
   "metadata": {},
   "outputs": [],
   "source": [
    "recordings = load_recordings(data_folder, patient_data)"
   ]
  },
  {
   "cell_type": "code",
   "execution_count": 53,
   "id": "77812078",
   "metadata": {},
   "outputs": [
    {
     "data": {
      "text/plain": [
       "[array([ -455,  1009,   729, ..., -2099, -1931, -1825], dtype=int16),\n",
       " array([1174, 4679, 5900, ...,  -36, -171,  -73], dtype=int16),\n",
       " array([7710, 5756, 2397, ...,  950,  784,  923], dtype=int16),\n",
       " array([14951,  7497,  -352, ...,  1297,   811,    61], dtype=int16)]"
      ]
     },
     "execution_count": 53,
     "metadata": {},
     "output_type": "execute_result"
    }
   ],
   "source": [
    "recordings"
   ]
  },
  {
   "cell_type": "code",
   "execution_count": 54,
   "id": "d3acd534",
   "metadata": {},
   "outputs": [
    {
     "name": "stderr",
     "output_type": "stream",
     "text": [
      "/home/jk21/.local/lib/python3.8/site-packages/numpy/core/fromnumeric.py:3474: RuntimeWarning: Mean of empty slice.\n",
      "  return _methods._mean(a, axis=axis, dtype=dtype,\n",
      "/home/jk21/.local/lib/python3.8/site-packages/numpy/core/_methods.py:189: RuntimeWarning: invalid value encountered in double_scalars\n",
      "  ret = ret.dtype.type(ret / rcount)\n"
     ]
    }
   ],
   "source": [
    "classes, labels, probabilities = run_challenge_model(model, patient_data, recordings, verbose)"
   ]
  },
  {
   "cell_type": "code",
   "execution_count": null,
   "id": "89bc7299",
   "metadata": {},
   "outputs": [],
   "source": []
  },
  {
   "cell_type": "code",
   "execution_count": 55,
   "id": "41b11dd0",
   "metadata": {},
   "outputs": [
    {
     "data": {
      "text/plain": [
       "['Present', 'Unknown', 'Absent', 'Abnormal', 'Normal']"
      ]
     },
     "execution_count": 55,
     "metadata": {},
     "output_type": "execute_result"
    }
   ],
   "source": [
    "classes"
   ]
  },
  {
   "cell_type": "code",
   "execution_count": 56,
   "id": "02dfc0c0",
   "metadata": {
    "scrolled": true
   },
   "outputs": [
    {
     "data": {
      "text/plain": [
       "array([1, 0, 0, 1, 0])"
      ]
     },
     "execution_count": 56,
     "metadata": {},
     "output_type": "execute_result"
    }
   ],
   "source": [
    "labels"
   ]
  },
  {
   "cell_type": "code",
   "execution_count": 57,
   "id": "d603a91a",
   "metadata": {},
   "outputs": [
    {
     "data": {
      "text/plain": [
       "array([9.9979228e-01, 4.9000540e-05, 1.5872982e-04, 9.9980533e-01,\n",
       "       1.9469815e-04], dtype=float32)"
      ]
     },
     "execution_count": 57,
     "metadata": {},
     "output_type": "execute_result"
    }
   ],
   "source": [
    "probabilities"
   ]
  },
  {
   "cell_type": "code",
   "execution_count": null,
   "id": "4255b276",
   "metadata": {},
   "outputs": [],
   "source": []
  },
  {
   "cell_type": "code",
   "execution_count": null,
   "id": "970b87e5",
   "metadata": {},
   "outputs": [],
   "source": []
  },
  {
   "cell_type": "code",
   "execution_count": 58,
   "id": "b6a44c38",
   "metadata": {},
   "outputs": [],
   "source": [
    "# Run model.\n",
    "def run_model(model_folder, data_folder, output_folder, allow_failures, verbose):\n",
    "    # Load models.\n",
    "    if verbose >= 1:\n",
    "        print('Loading Challenge model...')\n",
    "\n",
    "    model = load_challenge_model(model_folder, verbose) ### Teams: Implement this function!!!\n",
    "\n",
    "    # Find the patient data files.\n",
    "    patient_files = find_patient_files(data_folder)\n",
    "    num_patient_files = len(patient_files)\n",
    "\n",
    "    if num_patient_files==0:\n",
    "        raise Exception('No data was provided.')\n",
    "\n",
    "    # Create a folder for the Challenge outputs if it does not already exist.\n",
    "    os.makedirs(output_folder, exist_ok=True)\n",
    "\n",
    "    # Run the team's model on the Challenge data.\n",
    "    if verbose >= 1:\n",
    "        print('Running model on Challenge data...')\n",
    "\n",
    "    # Iterate over the patient files.\n",
    "    for i in range(num_patient_files):\n",
    "        if verbose >= 2:\n",
    "            print('    {}/{}...'.format(i+1, num_patient_files))\n",
    "\n",
    "        patient_data = load_patient_data(patient_files[i])\n",
    "        recordings = load_recordings(data_folder, patient_data)\n",
    "\n",
    "        # Allow or disallow the model to fail on parts of the data; helpful for debugging.\n",
    "        try:\n",
    "            classes, labels, probabilities = run_challenge_model(model, patient_data, recordings, verbose) ### Teams: Implement this function!!!\n",
    "        except:\n",
    "            if allow_failures:\n",
    "                if verbose >= 2:\n",
    "                    print('... failed.')\n",
    "                classes, labels, probabilities = list(), list(), list()\n",
    "            else:\n",
    "                raise\n",
    "\n",
    "        # Save Challenge outputs.\n",
    "        head, tail = os.path.split(patient_files[i])\n",
    "        root, extension = os.path.splitext(tail)\n",
    "        output_file = os.path.join(output_folder, root + '.csv')\n",
    "        patient_id = get_patient_id(patient_data)\n",
    "        save_challenge_outputs(output_file, patient_id, classes, labels, probabilities)\n",
    "\n",
    "    if verbose >= 1:\n",
    "        print('Done.')"
   ]
  },
  {
   "cell_type": "code",
   "execution_count": 59,
   "id": "7fe188c6",
   "metadata": {},
   "outputs": [
    {
     "data": {
      "text/plain": [
       "'/home/jk21/Downloads/Data/data/murmur/test'"
      ]
     },
     "execution_count": 59,
     "metadata": {},
     "output_type": "execute_result"
    }
   ],
   "source": [
    "test_folder"
   ]
  },
  {
   "cell_type": "code",
   "execution_count": 60,
   "id": "38ee9f70",
   "metadata": {},
   "outputs": [],
   "source": [
    "output_folder = '/home/jk21/Documents/hmd/jk_classifier/out_lcnn2'"
   ]
  },
  {
   "cell_type": "code",
   "execution_count": 61,
   "id": "d4be81f7",
   "metadata": {
    "scrolled": false
   },
   "outputs": [
    {
     "name": "stdout",
     "output_type": "stream",
     "text": [
      "Loading Challenge model...\n",
      "Running model on Challenge data...\n",
      "    1/191...\n"
     ]
    },
    {
     "name": "stderr",
     "output_type": "stream",
     "text": [
      "/home/jk21/.local/lib/python3.8/site-packages/numpy/core/fromnumeric.py:3474: RuntimeWarning: Mean of empty slice.\n",
      "  return _methods._mean(a, axis=axis, dtype=dtype,\n",
      "/home/jk21/.local/lib/python3.8/site-packages/numpy/core/_methods.py:189: RuntimeWarning: invalid value encountered in double_scalars\n",
      "  ret = ret.dtype.type(ret / rcount)\n"
     ]
    },
    {
     "name": "stdout",
     "output_type": "stream",
     "text": [
      "    2/191...\n",
      "WARNING:tensorflow:5 out of the last 5 calls to <function Model.make_predict_function.<locals>.predict_function at 0x7fb2ec3dbaf0> triggered tf.function retracing. Tracing is expensive and the excessive number of tracings could be due to (1) creating @tf.function repeatedly in a loop, (2) passing tensors with different shapes, (3) passing Python objects instead of tensors. For (1), please define your @tf.function outside of the loop. For (2), @tf.function has experimental_relax_shapes=True option that relaxes argument shapes that can avoid unnecessary retracing. For (3), please refer to https://www.tensorflow.org/guide/function#controlling_retracing and https://www.tensorflow.org/api_docs/python/tf/function for  more details.\n",
      "WARNING:tensorflow:6 out of the last 6 calls to <function Model.make_predict_function.<locals>.predict_function at 0x7fb2ec3db8b0> triggered tf.function retracing. Tracing is expensive and the excessive number of tracings could be due to (1) creating @tf.function repeatedly in a loop, (2) passing tensors with different shapes, (3) passing Python objects instead of tensors. For (1), please define your @tf.function outside of the loop. For (2), @tf.function has experimental_relax_shapes=True option that relaxes argument shapes that can avoid unnecessary retracing. For (3), please refer to https://www.tensorflow.org/guide/function#controlling_retracing and https://www.tensorflow.org/api_docs/python/tf/function for  more details.\n",
      "    3/191...\n"
     ]
    },
    {
     "name": "stderr",
     "output_type": "stream",
     "text": [
      "/home/jk21/.local/lib/python3.8/site-packages/numpy/core/fromnumeric.py:3474: RuntimeWarning: Mean of empty slice.\n",
      "  return _methods._mean(a, axis=axis, dtype=dtype,\n",
      "/home/jk21/.local/lib/python3.8/site-packages/numpy/core/_methods.py:189: RuntimeWarning: invalid value encountered in double_scalars\n",
      "  ret = ret.dtype.type(ret / rcount)\n"
     ]
    },
    {
     "name": "stdout",
     "output_type": "stream",
     "text": [
      "    4/191...\n",
      "    5/191...\n"
     ]
    },
    {
     "name": "stderr",
     "output_type": "stream",
     "text": [
      "/home/jk21/.local/lib/python3.8/site-packages/numpy/core/fromnumeric.py:3474: RuntimeWarning: Mean of empty slice.\n",
      "  return _methods._mean(a, axis=axis, dtype=dtype,\n",
      "/home/jk21/.local/lib/python3.8/site-packages/numpy/core/_methods.py:189: RuntimeWarning: invalid value encountered in double_scalars\n",
      "  ret = ret.dtype.type(ret / rcount)\n"
     ]
    },
    {
     "name": "stdout",
     "output_type": "stream",
     "text": [
      "    6/191...\n",
      "    7/191...\n",
      "    8/191...\n",
      "    9/191...\n",
      "    10/191...\n"
     ]
    },
    {
     "name": "stderr",
     "output_type": "stream",
     "text": [
      "/home/jk21/.local/lib/python3.8/site-packages/numpy/core/fromnumeric.py:3474: RuntimeWarning: Mean of empty slice.\n",
      "  return _methods._mean(a, axis=axis, dtype=dtype,\n",
      "/home/jk21/.local/lib/python3.8/site-packages/numpy/core/_methods.py:189: RuntimeWarning: invalid value encountered in double_scalars\n",
      "  ret = ret.dtype.type(ret / rcount)\n"
     ]
    },
    {
     "name": "stdout",
     "output_type": "stream",
     "text": [
      "    11/191...\n",
      "    12/191...\n",
      "    13/191...\n",
      "    14/191...\n",
      "    15/191...\n",
      "    16/191...\n",
      "    17/191...\n"
     ]
    },
    {
     "name": "stderr",
     "output_type": "stream",
     "text": [
      "/home/jk21/.local/lib/python3.8/site-packages/numpy/core/fromnumeric.py:3474: RuntimeWarning: Mean of empty slice.\n",
      "  return _methods._mean(a, axis=axis, dtype=dtype,\n",
      "/home/jk21/.local/lib/python3.8/site-packages/numpy/core/_methods.py:189: RuntimeWarning: invalid value encountered in double_scalars\n",
      "  ret = ret.dtype.type(ret / rcount)\n"
     ]
    },
    {
     "name": "stdout",
     "output_type": "stream",
     "text": [
      "    18/191...\n"
     ]
    },
    {
     "name": "stderr",
     "output_type": "stream",
     "text": [
      "/home/jk21/.local/lib/python3.8/site-packages/numpy/core/fromnumeric.py:3474: RuntimeWarning: Mean of empty slice.\n",
      "  return _methods._mean(a, axis=axis, dtype=dtype,\n",
      "/home/jk21/.local/lib/python3.8/site-packages/numpy/core/_methods.py:189: RuntimeWarning: invalid value encountered in double_scalars\n",
      "  ret = ret.dtype.type(ret / rcount)\n"
     ]
    },
    {
     "name": "stdout",
     "output_type": "stream",
     "text": [
      "    19/191...\n",
      "    20/191...\n",
      "    21/191...\n",
      "    22/191...\n",
      "    23/191...\n",
      "    24/191...\n",
      "    25/191...\n"
     ]
    },
    {
     "name": "stderr",
     "output_type": "stream",
     "text": [
      "/home/jk21/.local/lib/python3.8/site-packages/numpy/core/fromnumeric.py:3474: RuntimeWarning: Mean of empty slice.\n",
      "  return _methods._mean(a, axis=axis, dtype=dtype,\n",
      "/home/jk21/.local/lib/python3.8/site-packages/numpy/core/_methods.py:189: RuntimeWarning: invalid value encountered in double_scalars\n",
      "  ret = ret.dtype.type(ret / rcount)\n"
     ]
    },
    {
     "name": "stdout",
     "output_type": "stream",
     "text": [
      "    26/191...\n",
      "    27/191...\n",
      "    28/191...\n"
     ]
    },
    {
     "name": "stderr",
     "output_type": "stream",
     "text": [
      "/home/jk21/.local/lib/python3.8/site-packages/numpy/core/fromnumeric.py:3474: RuntimeWarning: Mean of empty slice.\n",
      "  return _methods._mean(a, axis=axis, dtype=dtype,\n",
      "/home/jk21/.local/lib/python3.8/site-packages/numpy/core/_methods.py:189: RuntimeWarning: invalid value encountered in double_scalars\n",
      "  ret = ret.dtype.type(ret / rcount)\n"
     ]
    },
    {
     "name": "stdout",
     "output_type": "stream",
     "text": [
      "    29/191...\n"
     ]
    },
    {
     "name": "stderr",
     "output_type": "stream",
     "text": [
      "/home/jk21/.local/lib/python3.8/site-packages/numpy/core/fromnumeric.py:3474: RuntimeWarning: Mean of empty slice.\n",
      "  return _methods._mean(a, axis=axis, dtype=dtype,\n",
      "/home/jk21/.local/lib/python3.8/site-packages/numpy/core/_methods.py:189: RuntimeWarning: invalid value encountered in double_scalars\n",
      "  ret = ret.dtype.type(ret / rcount)\n"
     ]
    },
    {
     "name": "stdout",
     "output_type": "stream",
     "text": [
      "    30/191...\n",
      "    31/191...\n",
      "    32/191...\n"
     ]
    },
    {
     "name": "stderr",
     "output_type": "stream",
     "text": [
      "/home/jk21/.local/lib/python3.8/site-packages/numpy/core/fromnumeric.py:3474: RuntimeWarning: Mean of empty slice.\n",
      "  return _methods._mean(a, axis=axis, dtype=dtype,\n",
      "/home/jk21/.local/lib/python3.8/site-packages/numpy/core/_methods.py:189: RuntimeWarning: invalid value encountered in double_scalars\n",
      "  ret = ret.dtype.type(ret / rcount)\n",
      "/home/jk21/.local/lib/python3.8/site-packages/numpy/core/fromnumeric.py:3474: RuntimeWarning: Mean of empty slice.\n",
      "  return _methods._mean(a, axis=axis, dtype=dtype,\n",
      "/home/jk21/.local/lib/python3.8/site-packages/numpy/core/_methods.py:189: RuntimeWarning: invalid value encountered in double_scalars\n",
      "  ret = ret.dtype.type(ret / rcount)\n"
     ]
    },
    {
     "name": "stdout",
     "output_type": "stream",
     "text": [
      "    33/191...\n",
      "    34/191...\n"
     ]
    },
    {
     "name": "stderr",
     "output_type": "stream",
     "text": [
      "/home/jk21/.local/lib/python3.8/site-packages/numpy/core/fromnumeric.py:3474: RuntimeWarning: Mean of empty slice.\n",
      "  return _methods._mean(a, axis=axis, dtype=dtype,\n",
      "/home/jk21/.local/lib/python3.8/site-packages/numpy/core/_methods.py:189: RuntimeWarning: invalid value encountered in double_scalars\n",
      "  ret = ret.dtype.type(ret / rcount)\n"
     ]
    },
    {
     "name": "stdout",
     "output_type": "stream",
     "text": [
      "    35/191...\n"
     ]
    },
    {
     "name": "stderr",
     "output_type": "stream",
     "text": [
      "/home/jk21/.local/lib/python3.8/site-packages/numpy/core/fromnumeric.py:3474: RuntimeWarning: Mean of empty slice.\n",
      "  return _methods._mean(a, axis=axis, dtype=dtype,\n",
      "/home/jk21/.local/lib/python3.8/site-packages/numpy/core/_methods.py:189: RuntimeWarning: invalid value encountered in double_scalars\n",
      "  ret = ret.dtype.type(ret / rcount)\n"
     ]
    },
    {
     "name": "stdout",
     "output_type": "stream",
     "text": [
      "    36/191...\n"
     ]
    },
    {
     "name": "stderr",
     "output_type": "stream",
     "text": [
      "/home/jk21/.local/lib/python3.8/site-packages/numpy/core/fromnumeric.py:3474: RuntimeWarning: Mean of empty slice.\n",
      "  return _methods._mean(a, axis=axis, dtype=dtype,\n",
      "/home/jk21/.local/lib/python3.8/site-packages/numpy/core/_methods.py:189: RuntimeWarning: invalid value encountered in double_scalars\n",
      "  ret = ret.dtype.type(ret / rcount)\n",
      "/home/jk21/.local/lib/python3.8/site-packages/numpy/core/fromnumeric.py:3474: RuntimeWarning: Mean of empty slice.\n",
      "  return _methods._mean(a, axis=axis, dtype=dtype,\n",
      "/home/jk21/.local/lib/python3.8/site-packages/numpy/core/_methods.py:189: RuntimeWarning: invalid value encountered in double_scalars\n",
      "  ret = ret.dtype.type(ret / rcount)\n"
     ]
    },
    {
     "name": "stdout",
     "output_type": "stream",
     "text": [
      "    37/191...\n"
     ]
    },
    {
     "name": "stderr",
     "output_type": "stream",
     "text": [
      "/home/jk21/.local/lib/python3.8/site-packages/numpy/core/fromnumeric.py:3474: RuntimeWarning: Mean of empty slice.\n",
      "  return _methods._mean(a, axis=axis, dtype=dtype,\n",
      "/home/jk21/.local/lib/python3.8/site-packages/numpy/core/_methods.py:189: RuntimeWarning: invalid value encountered in double_scalars\n",
      "  ret = ret.dtype.type(ret / rcount)\n"
     ]
    },
    {
     "name": "stdout",
     "output_type": "stream",
     "text": [
      "    38/191...\n"
     ]
    },
    {
     "name": "stderr",
     "output_type": "stream",
     "text": [
      "/home/jk21/.local/lib/python3.8/site-packages/numpy/core/fromnumeric.py:3474: RuntimeWarning: Mean of empty slice.\n",
      "  return _methods._mean(a, axis=axis, dtype=dtype,\n",
      "/home/jk21/.local/lib/python3.8/site-packages/numpy/core/_methods.py:189: RuntimeWarning: invalid value encountered in double_scalars\n",
      "  ret = ret.dtype.type(ret / rcount)\n",
      "/home/jk21/.local/lib/python3.8/site-packages/numpy/core/fromnumeric.py:3474: RuntimeWarning: Mean of empty slice.\n",
      "  return _methods._mean(a, axis=axis, dtype=dtype,\n",
      "/home/jk21/.local/lib/python3.8/site-packages/numpy/core/_methods.py:189: RuntimeWarning: invalid value encountered in double_scalars\n",
      "  ret = ret.dtype.type(ret / rcount)\n",
      "/home/jk21/.local/lib/python3.8/site-packages/numpy/core/fromnumeric.py:3474: RuntimeWarning: Mean of empty slice.\n",
      "  return _methods._mean(a, axis=axis, dtype=dtype,\n",
      "/home/jk21/.local/lib/python3.8/site-packages/numpy/core/_methods.py:189: RuntimeWarning: invalid value encountered in double_scalars\n",
      "  ret = ret.dtype.type(ret / rcount)\n"
     ]
    },
    {
     "name": "stdout",
     "output_type": "stream",
     "text": [
      "    39/191...\n",
      "    40/191...\n",
      "    41/191...\n",
      "    42/191...\n",
      "    43/191...\n",
      "    44/191...\n"
     ]
    },
    {
     "name": "stderr",
     "output_type": "stream",
     "text": [
      "/home/jk21/.local/lib/python3.8/site-packages/numpy/core/fromnumeric.py:3474: RuntimeWarning: Mean of empty slice.\n",
      "  return _methods._mean(a, axis=axis, dtype=dtype,\n",
      "/home/jk21/.local/lib/python3.8/site-packages/numpy/core/_methods.py:189: RuntimeWarning: invalid value encountered in double_scalars\n",
      "  ret = ret.dtype.type(ret / rcount)\n"
     ]
    },
    {
     "name": "stdout",
     "output_type": "stream",
     "text": [
      "    45/191...\n"
     ]
    },
    {
     "name": "stderr",
     "output_type": "stream",
     "text": [
      "/home/jk21/.local/lib/python3.8/site-packages/numpy/core/fromnumeric.py:3474: RuntimeWarning: Mean of empty slice.\n",
      "  return _methods._mean(a, axis=axis, dtype=dtype,\n",
      "/home/jk21/.local/lib/python3.8/site-packages/numpy/core/_methods.py:189: RuntimeWarning: invalid value encountered in double_scalars\n",
      "  ret = ret.dtype.type(ret / rcount)\n"
     ]
    },
    {
     "name": "stdout",
     "output_type": "stream",
     "text": [
      "    46/191...\n",
      "    47/191...\n"
     ]
    },
    {
     "name": "stderr",
     "output_type": "stream",
     "text": [
      "/home/jk21/.local/lib/python3.8/site-packages/numpy/core/fromnumeric.py:3474: RuntimeWarning: Mean of empty slice.\n",
      "  return _methods._mean(a, axis=axis, dtype=dtype,\n",
      "/home/jk21/.local/lib/python3.8/site-packages/numpy/core/_methods.py:189: RuntimeWarning: invalid value encountered in double_scalars\n",
      "  ret = ret.dtype.type(ret / rcount)\n"
     ]
    },
    {
     "name": "stdout",
     "output_type": "stream",
     "text": [
      "    48/191...\n"
     ]
    },
    {
     "name": "stderr",
     "output_type": "stream",
     "text": [
      "/home/jk21/.local/lib/python3.8/site-packages/numpy/core/fromnumeric.py:3474: RuntimeWarning: Mean of empty slice.\n",
      "  return _methods._mean(a, axis=axis, dtype=dtype,\n",
      "/home/jk21/.local/lib/python3.8/site-packages/numpy/core/_methods.py:189: RuntimeWarning: invalid value encountered in double_scalars\n",
      "  ret = ret.dtype.type(ret / rcount)\n"
     ]
    },
    {
     "name": "stdout",
     "output_type": "stream",
     "text": [
      "    49/191...\n",
      "    50/191...\n",
      "    51/191...\n",
      "    52/191...\n"
     ]
    },
    {
     "name": "stderr",
     "output_type": "stream",
     "text": [
      "/home/jk21/.local/lib/python3.8/site-packages/numpy/core/fromnumeric.py:3474: RuntimeWarning: Mean of empty slice.\n",
      "  return _methods._mean(a, axis=axis, dtype=dtype,\n",
      "/home/jk21/.local/lib/python3.8/site-packages/numpy/core/_methods.py:189: RuntimeWarning: invalid value encountered in double_scalars\n",
      "  ret = ret.dtype.type(ret / rcount)\n"
     ]
    },
    {
     "name": "stdout",
     "output_type": "stream",
     "text": [
      "    53/191...\n",
      "    54/191...\n"
     ]
    },
    {
     "name": "stderr",
     "output_type": "stream",
     "text": [
      "/home/jk21/.local/lib/python3.8/site-packages/numpy/core/fromnumeric.py:3474: RuntimeWarning: Mean of empty slice.\n",
      "  return _methods._mean(a, axis=axis, dtype=dtype,\n",
      "/home/jk21/.local/lib/python3.8/site-packages/numpy/core/_methods.py:189: RuntimeWarning: invalid value encountered in double_scalars\n",
      "  ret = ret.dtype.type(ret / rcount)\n"
     ]
    },
    {
     "name": "stdout",
     "output_type": "stream",
     "text": [
      "    55/191...\n",
      "    56/191...\n",
      "    57/191...\n",
      "    58/191...\n",
      "    59/191...\n"
     ]
    },
    {
     "name": "stderr",
     "output_type": "stream",
     "text": [
      "/home/jk21/.local/lib/python3.8/site-packages/numpy/core/fromnumeric.py:3474: RuntimeWarning: Mean of empty slice.\n",
      "  return _methods._mean(a, axis=axis, dtype=dtype,\n",
      "/home/jk21/.local/lib/python3.8/site-packages/numpy/core/_methods.py:189: RuntimeWarning: invalid value encountered in double_scalars\n",
      "  ret = ret.dtype.type(ret / rcount)\n"
     ]
    },
    {
     "name": "stdout",
     "output_type": "stream",
     "text": [
      "    60/191...\n",
      "    61/191...\n",
      "    62/191...\n"
     ]
    },
    {
     "name": "stderr",
     "output_type": "stream",
     "text": [
      "/home/jk21/.local/lib/python3.8/site-packages/numpy/core/fromnumeric.py:3474: RuntimeWarning: Mean of empty slice.\n",
      "  return _methods._mean(a, axis=axis, dtype=dtype,\n",
      "/home/jk21/.local/lib/python3.8/site-packages/numpy/core/_methods.py:189: RuntimeWarning: invalid value encountered in double_scalars\n",
      "  ret = ret.dtype.type(ret / rcount)\n",
      "/home/jk21/.local/lib/python3.8/site-packages/numpy/core/fromnumeric.py:3474: RuntimeWarning: Mean of empty slice.\n",
      "  return _methods._mean(a, axis=axis, dtype=dtype,\n",
      "/home/jk21/.local/lib/python3.8/site-packages/numpy/core/_methods.py:189: RuntimeWarning: invalid value encountered in double_scalars\n",
      "  ret = ret.dtype.type(ret / rcount)\n",
      "/home/jk21/.local/lib/python3.8/site-packages/numpy/core/fromnumeric.py:3474: RuntimeWarning: Mean of empty slice.\n",
      "  return _methods._mean(a, axis=axis, dtype=dtype,\n",
      "/home/jk21/.local/lib/python3.8/site-packages/numpy/core/_methods.py:189: RuntimeWarning: invalid value encountered in double_scalars\n",
      "  ret = ret.dtype.type(ret / rcount)\n"
     ]
    },
    {
     "name": "stdout",
     "output_type": "stream",
     "text": [
      "    63/191...\n"
     ]
    },
    {
     "name": "stderr",
     "output_type": "stream",
     "text": [
      "/home/jk21/.local/lib/python3.8/site-packages/numpy/core/fromnumeric.py:3474: RuntimeWarning: Mean of empty slice.\n",
      "  return _methods._mean(a, axis=axis, dtype=dtype,\n",
      "/home/jk21/.local/lib/python3.8/site-packages/numpy/core/_methods.py:189: RuntimeWarning: invalid value encountered in double_scalars\n",
      "  ret = ret.dtype.type(ret / rcount)\n"
     ]
    },
    {
     "name": "stdout",
     "output_type": "stream",
     "text": [
      "    64/191...\n",
      "    65/191...\n",
      "    66/191...\n"
     ]
    },
    {
     "name": "stderr",
     "output_type": "stream",
     "text": [
      "/home/jk21/.local/lib/python3.8/site-packages/numpy/core/fromnumeric.py:3474: RuntimeWarning: Mean of empty slice.\n",
      "  return _methods._mean(a, axis=axis, dtype=dtype,\n",
      "/home/jk21/.local/lib/python3.8/site-packages/numpy/core/_methods.py:189: RuntimeWarning: invalid value encountered in double_scalars\n",
      "  ret = ret.dtype.type(ret / rcount)\n"
     ]
    },
    {
     "name": "stdout",
     "output_type": "stream",
     "text": [
      "    67/191...\n",
      "    68/191...\n",
      "    69/191...\n",
      "    70/191...\n",
      "    71/191...\n",
      "    72/191...\n"
     ]
    },
    {
     "name": "stderr",
     "output_type": "stream",
     "text": [
      "/home/jk21/.local/lib/python3.8/site-packages/numpy/core/fromnumeric.py:3474: RuntimeWarning: Mean of empty slice.\n",
      "  return _methods._mean(a, axis=axis, dtype=dtype,\n",
      "/home/jk21/.local/lib/python3.8/site-packages/numpy/core/_methods.py:189: RuntimeWarning: invalid value encountered in double_scalars\n",
      "  ret = ret.dtype.type(ret / rcount)\n"
     ]
    },
    {
     "name": "stdout",
     "output_type": "stream",
     "text": [
      "    73/191...\n",
      "    74/191...\n"
     ]
    },
    {
     "name": "stderr",
     "output_type": "stream",
     "text": [
      "/home/jk21/.local/lib/python3.8/site-packages/numpy/core/fromnumeric.py:3474: RuntimeWarning: Mean of empty slice.\n",
      "  return _methods._mean(a, axis=axis, dtype=dtype,\n",
      "/home/jk21/.local/lib/python3.8/site-packages/numpy/core/_methods.py:189: RuntimeWarning: invalid value encountered in double_scalars\n",
      "  ret = ret.dtype.type(ret / rcount)\n"
     ]
    },
    {
     "name": "stdout",
     "output_type": "stream",
     "text": [
      "    75/191...\n",
      "    76/191...\n",
      "    77/191...\n"
     ]
    },
    {
     "name": "stderr",
     "output_type": "stream",
     "text": [
      "/home/jk21/.local/lib/python3.8/site-packages/numpy/core/fromnumeric.py:3474: RuntimeWarning: Mean of empty slice.\n",
      "  return _methods._mean(a, axis=axis, dtype=dtype,\n",
      "/home/jk21/.local/lib/python3.8/site-packages/numpy/core/_methods.py:189: RuntimeWarning: invalid value encountered in double_scalars\n",
      "  ret = ret.dtype.type(ret / rcount)\n"
     ]
    },
    {
     "name": "stdout",
     "output_type": "stream",
     "text": [
      "    78/191...\n"
     ]
    },
    {
     "name": "stderr",
     "output_type": "stream",
     "text": [
      "/home/jk21/.local/lib/python3.8/site-packages/numpy/core/fromnumeric.py:3474: RuntimeWarning: Mean of empty slice.\n",
      "  return _methods._mean(a, axis=axis, dtype=dtype,\n",
      "/home/jk21/.local/lib/python3.8/site-packages/numpy/core/_methods.py:189: RuntimeWarning: invalid value encountered in double_scalars\n",
      "  ret = ret.dtype.type(ret / rcount)\n"
     ]
    },
    {
     "name": "stdout",
     "output_type": "stream",
     "text": [
      "    79/191...\n",
      "    80/191...\n",
      "    81/191...\n",
      "    82/191...\n",
      "    83/191...\n",
      "    84/191...\n",
      "    85/191...\n",
      "    86/191...\n",
      "    87/191...\n"
     ]
    },
    {
     "name": "stderr",
     "output_type": "stream",
     "text": [
      "/home/jk21/.local/lib/python3.8/site-packages/numpy/core/fromnumeric.py:3474: RuntimeWarning: Mean of empty slice.\n",
      "  return _methods._mean(a, axis=axis, dtype=dtype,\n",
      "/home/jk21/.local/lib/python3.8/site-packages/numpy/core/_methods.py:189: RuntimeWarning: invalid value encountered in double_scalars\n",
      "  ret = ret.dtype.type(ret / rcount)\n"
     ]
    },
    {
     "name": "stdout",
     "output_type": "stream",
     "text": [
      "    88/191...\n",
      "    89/191...\n",
      "    90/191...\n",
      "    91/191...\n",
      "    92/191...\n",
      "    93/191...\n"
     ]
    },
    {
     "name": "stderr",
     "output_type": "stream",
     "text": [
      "/home/jk21/.local/lib/python3.8/site-packages/numpy/core/fromnumeric.py:3474: RuntimeWarning: Mean of empty slice.\n",
      "  return _methods._mean(a, axis=axis, dtype=dtype,\n",
      "/home/jk21/.local/lib/python3.8/site-packages/numpy/core/_methods.py:189: RuntimeWarning: invalid value encountered in double_scalars\n",
      "  ret = ret.dtype.type(ret / rcount)\n",
      "/home/jk21/.local/lib/python3.8/site-packages/numpy/core/fromnumeric.py:3474: RuntimeWarning: Mean of empty slice.\n",
      "  return _methods._mean(a, axis=axis, dtype=dtype,\n",
      "/home/jk21/.local/lib/python3.8/site-packages/numpy/core/_methods.py:189: RuntimeWarning: invalid value encountered in double_scalars\n",
      "  ret = ret.dtype.type(ret / rcount)\n"
     ]
    },
    {
     "name": "stdout",
     "output_type": "stream",
     "text": [
      "    94/191...\n"
     ]
    },
    {
     "name": "stderr",
     "output_type": "stream",
     "text": [
      "/home/jk21/.local/lib/python3.8/site-packages/numpy/core/fromnumeric.py:3474: RuntimeWarning: Mean of empty slice.\n",
      "  return _methods._mean(a, axis=axis, dtype=dtype,\n",
      "/home/jk21/.local/lib/python3.8/site-packages/numpy/core/_methods.py:189: RuntimeWarning: invalid value encountered in double_scalars\n",
      "  ret = ret.dtype.type(ret / rcount)\n"
     ]
    },
    {
     "name": "stdout",
     "output_type": "stream",
     "text": [
      "    95/191...\n",
      "    96/191...\n"
     ]
    },
    {
     "name": "stderr",
     "output_type": "stream",
     "text": [
      "/home/jk21/.local/lib/python3.8/site-packages/numpy/core/fromnumeric.py:3474: RuntimeWarning: Mean of empty slice.\n",
      "  return _methods._mean(a, axis=axis, dtype=dtype,\n",
      "/home/jk21/.local/lib/python3.8/site-packages/numpy/core/_methods.py:189: RuntimeWarning: invalid value encountered in double_scalars\n",
      "  ret = ret.dtype.type(ret / rcount)\n",
      "/tmp/ipykernel_1113165/2050405201.py:44: VisibleDeprecationWarning: Creating an ndarray from ragged nested sequences (which is a list-or-tuple of lists-or-tuples-or ndarrays with different lengths or shapes) is deprecated. If you meant to do this, you must specify 'dtype=object' when creating the ndarray.\n",
      "  features['rr1'] = np.array(features['rr1'])\n"
     ]
    },
    {
     "name": "stdout",
     "output_type": "stream",
     "text": [
      "... failed.\n",
      "    97/191...\n",
      "    98/191...\n",
      "    99/191...\n",
      "    100/191...\n",
      "    101/191...\n",
      "    102/191...\n",
      "    103/191...\n",
      "    104/191...\n"
     ]
    },
    {
     "name": "stderr",
     "output_type": "stream",
     "text": [
      "/home/jk21/.local/lib/python3.8/site-packages/numpy/core/fromnumeric.py:3474: RuntimeWarning: Mean of empty slice.\n",
      "  return _methods._mean(a, axis=axis, dtype=dtype,\n",
      "/home/jk21/.local/lib/python3.8/site-packages/numpy/core/_methods.py:189: RuntimeWarning: invalid value encountered in double_scalars\n",
      "  ret = ret.dtype.type(ret / rcount)\n"
     ]
    },
    {
     "name": "stdout",
     "output_type": "stream",
     "text": [
      "    105/191...\n"
     ]
    },
    {
     "name": "stderr",
     "output_type": "stream",
     "text": [
      "/home/jk21/.local/lib/python3.8/site-packages/numpy/core/fromnumeric.py:3474: RuntimeWarning: Mean of empty slice.\n",
      "  return _methods._mean(a, axis=axis, dtype=dtype,\n",
      "/home/jk21/.local/lib/python3.8/site-packages/numpy/core/_methods.py:189: RuntimeWarning: invalid value encountered in double_scalars\n",
      "  ret = ret.dtype.type(ret / rcount)\n"
     ]
    },
    {
     "name": "stdout",
     "output_type": "stream",
     "text": [
      "    106/191...\n",
      "    107/191...\n",
      "    108/191...\n"
     ]
    },
    {
     "name": "stderr",
     "output_type": "stream",
     "text": [
      "/home/jk21/.local/lib/python3.8/site-packages/numpy/core/fromnumeric.py:3474: RuntimeWarning: Mean of empty slice.\n",
      "  return _methods._mean(a, axis=axis, dtype=dtype,\n",
      "/home/jk21/.local/lib/python3.8/site-packages/numpy/core/_methods.py:189: RuntimeWarning: invalid value encountered in double_scalars\n",
      "  ret = ret.dtype.type(ret / rcount)\n"
     ]
    },
    {
     "name": "stdout",
     "output_type": "stream",
     "text": [
      "    109/191...\n",
      "    110/191...\n",
      "    111/191...\n",
      "    112/191...\n",
      "    113/191...\n",
      "    114/191...\n",
      "    115/191...\n",
      "    116/191...\n",
      "    117/191...\n",
      "    118/191...\n",
      "    119/191...\n",
      "    120/191...\n",
      "    121/191...\n"
     ]
    },
    {
     "name": "stderr",
     "output_type": "stream",
     "text": [
      "/home/jk21/.local/lib/python3.8/site-packages/numpy/core/fromnumeric.py:3474: RuntimeWarning: Mean of empty slice.\n",
      "  return _methods._mean(a, axis=axis, dtype=dtype,\n",
      "/home/jk21/.local/lib/python3.8/site-packages/numpy/core/_methods.py:189: RuntimeWarning: invalid value encountered in double_scalars\n",
      "  ret = ret.dtype.type(ret / rcount)\n"
     ]
    },
    {
     "name": "stdout",
     "output_type": "stream",
     "text": [
      "    122/191...\n"
     ]
    },
    {
     "name": "stderr",
     "output_type": "stream",
     "text": [
      "/home/jk21/.local/lib/python3.8/site-packages/numpy/core/fromnumeric.py:3474: RuntimeWarning: Mean of empty slice.\n",
      "  return _methods._mean(a, axis=axis, dtype=dtype,\n",
      "/home/jk21/.local/lib/python3.8/site-packages/numpy/core/_methods.py:189: RuntimeWarning: invalid value encountered in double_scalars\n",
      "  ret = ret.dtype.type(ret / rcount)\n"
     ]
    },
    {
     "name": "stdout",
     "output_type": "stream",
     "text": [
      "    123/191...\n"
     ]
    },
    {
     "name": "stderr",
     "output_type": "stream",
     "text": [
      "/home/jk21/.local/lib/python3.8/site-packages/numpy/core/fromnumeric.py:3474: RuntimeWarning: Mean of empty slice.\n",
      "  return _methods._mean(a, axis=axis, dtype=dtype,\n",
      "/home/jk21/.local/lib/python3.8/site-packages/numpy/core/_methods.py:189: RuntimeWarning: invalid value encountered in double_scalars\n",
      "  ret = ret.dtype.type(ret / rcount)\n"
     ]
    },
    {
     "name": "stdout",
     "output_type": "stream",
     "text": [
      "    124/191...\n",
      "    125/191...\n"
     ]
    },
    {
     "name": "stderr",
     "output_type": "stream",
     "text": [
      "/home/jk21/.local/lib/python3.8/site-packages/numpy/core/fromnumeric.py:3474: RuntimeWarning: Mean of empty slice.\n",
      "  return _methods._mean(a, axis=axis, dtype=dtype,\n",
      "/home/jk21/.local/lib/python3.8/site-packages/numpy/core/_methods.py:189: RuntimeWarning: invalid value encountered in double_scalars\n",
      "  ret = ret.dtype.type(ret / rcount)\n"
     ]
    },
    {
     "name": "stdout",
     "output_type": "stream",
     "text": [
      "    126/191...\n",
      "    127/191...\n",
      "    128/191...\n"
     ]
    },
    {
     "name": "stderr",
     "output_type": "stream",
     "text": [
      "/home/jk21/.local/lib/python3.8/site-packages/numpy/core/fromnumeric.py:3474: RuntimeWarning: Mean of empty slice.\n",
      "  return _methods._mean(a, axis=axis, dtype=dtype,\n",
      "/home/jk21/.local/lib/python3.8/site-packages/numpy/core/_methods.py:189: RuntimeWarning: invalid value encountered in double_scalars\n",
      "  ret = ret.dtype.type(ret / rcount)\n"
     ]
    },
    {
     "name": "stdout",
     "output_type": "stream",
     "text": [
      "    129/191...\n",
      "    130/191...\n"
     ]
    },
    {
     "name": "stderr",
     "output_type": "stream",
     "text": [
      "/home/jk21/.local/lib/python3.8/site-packages/numpy/core/fromnumeric.py:3474: RuntimeWarning: Mean of empty slice.\n",
      "  return _methods._mean(a, axis=axis, dtype=dtype,\n",
      "/home/jk21/.local/lib/python3.8/site-packages/numpy/core/_methods.py:189: RuntimeWarning: invalid value encountered in double_scalars\n",
      "  ret = ret.dtype.type(ret / rcount)\n",
      "/home/jk21/.local/lib/python3.8/site-packages/numpy/core/fromnumeric.py:3474: RuntimeWarning: Mean of empty slice.\n",
      "  return _methods._mean(a, axis=axis, dtype=dtype,\n",
      "/home/jk21/.local/lib/python3.8/site-packages/numpy/core/_methods.py:189: RuntimeWarning: invalid value encountered in double_scalars\n",
      "  ret = ret.dtype.type(ret / rcount)\n"
     ]
    },
    {
     "name": "stdout",
     "output_type": "stream",
     "text": [
      "    131/191...\n",
      "    132/191...\n",
      "    133/191...\n",
      "    134/191...\n",
      "    135/191...\n",
      "    136/191...\n",
      "    137/191...\n",
      "    138/191...\n",
      "    139/191...\n",
      "    140/191...\n"
     ]
    },
    {
     "name": "stderr",
     "output_type": "stream",
     "text": [
      "/home/jk21/.local/lib/python3.8/site-packages/numpy/core/fromnumeric.py:3474: RuntimeWarning: Mean of empty slice.\n",
      "  return _methods._mean(a, axis=axis, dtype=dtype,\n",
      "/home/jk21/.local/lib/python3.8/site-packages/numpy/core/_methods.py:189: RuntimeWarning: invalid value encountered in double_scalars\n",
      "  ret = ret.dtype.type(ret / rcount)\n"
     ]
    },
    {
     "name": "stdout",
     "output_type": "stream",
     "text": [
      "    141/191...\n",
      "    142/191...\n",
      "    143/191...\n",
      "    144/191...\n",
      "    145/191...\n"
     ]
    },
    {
     "name": "stderr",
     "output_type": "stream",
     "text": [
      "/home/jk21/.local/lib/python3.8/site-packages/numpy/core/fromnumeric.py:3474: RuntimeWarning: Mean of empty slice.\n",
      "  return _methods._mean(a, axis=axis, dtype=dtype,\n",
      "/home/jk21/.local/lib/python3.8/site-packages/numpy/core/_methods.py:189: RuntimeWarning: invalid value encountered in double_scalars\n",
      "  ret = ret.dtype.type(ret / rcount)\n"
     ]
    },
    {
     "name": "stdout",
     "output_type": "stream",
     "text": [
      "    146/191...\n",
      "    147/191...\n",
      "    148/191...\n",
      "    149/191...\n"
     ]
    },
    {
     "name": "stderr",
     "output_type": "stream",
     "text": [
      "/home/jk21/.local/lib/python3.8/site-packages/numpy/core/fromnumeric.py:3474: RuntimeWarning: Mean of empty slice.\n",
      "  return _methods._mean(a, axis=axis, dtype=dtype,\n",
      "/home/jk21/.local/lib/python3.8/site-packages/numpy/core/_methods.py:189: RuntimeWarning: invalid value encountered in double_scalars\n",
      "  ret = ret.dtype.type(ret / rcount)\n",
      "/home/jk21/.local/lib/python3.8/site-packages/numpy/core/fromnumeric.py:3474: RuntimeWarning: Mean of empty slice.\n",
      "  return _methods._mean(a, axis=axis, dtype=dtype,\n",
      "/home/jk21/.local/lib/python3.8/site-packages/numpy/core/_methods.py:189: RuntimeWarning: invalid value encountered in double_scalars\n",
      "  ret = ret.dtype.type(ret / rcount)\n"
     ]
    },
    {
     "name": "stdout",
     "output_type": "stream",
     "text": [
      "    150/191...\n",
      "    151/191...\n",
      "    152/191...\n"
     ]
    },
    {
     "name": "stderr",
     "output_type": "stream",
     "text": [
      "/home/jk21/.local/lib/python3.8/site-packages/numpy/core/fromnumeric.py:3474: RuntimeWarning: Mean of empty slice.\n",
      "  return _methods._mean(a, axis=axis, dtype=dtype,\n",
      "/home/jk21/.local/lib/python3.8/site-packages/numpy/core/_methods.py:189: RuntimeWarning: invalid value encountered in double_scalars\n",
      "  ret = ret.dtype.type(ret / rcount)\n",
      "/home/jk21/.local/lib/python3.8/site-packages/numpy/core/fromnumeric.py:3474: RuntimeWarning: Mean of empty slice.\n",
      "  return _methods._mean(a, axis=axis, dtype=dtype,\n",
      "/home/jk21/.local/lib/python3.8/site-packages/numpy/core/_methods.py:189: RuntimeWarning: invalid value encountered in double_scalars\n",
      "  ret = ret.dtype.type(ret / rcount)\n"
     ]
    },
    {
     "name": "stdout",
     "output_type": "stream",
     "text": [
      "    153/191...\n",
      "    154/191...\n",
      "    155/191...\n",
      "    156/191...\n",
      "    157/191...\n",
      "    158/191...\n",
      "    159/191...\n",
      "    160/191...\n",
      "    161/191...\n"
     ]
    },
    {
     "name": "stderr",
     "output_type": "stream",
     "text": [
      "/home/jk21/.local/lib/python3.8/site-packages/numpy/core/fromnumeric.py:3474: RuntimeWarning: Mean of empty slice.\n",
      "  return _methods._mean(a, axis=axis, dtype=dtype,\n",
      "/home/jk21/.local/lib/python3.8/site-packages/numpy/core/_methods.py:189: RuntimeWarning: invalid value encountered in double_scalars\n",
      "  ret = ret.dtype.type(ret / rcount)\n"
     ]
    },
    {
     "name": "stdout",
     "output_type": "stream",
     "text": [
      "    162/191...\n",
      "    163/191...\n",
      "    164/191...\n",
      "    165/191...\n",
      "    166/191...\n",
      "    167/191...\n"
     ]
    },
    {
     "name": "stderr",
     "output_type": "stream",
     "text": [
      "/home/jk21/.local/lib/python3.8/site-packages/numpy/core/fromnumeric.py:3474: RuntimeWarning: Mean of empty slice.\n",
      "  return _methods._mean(a, axis=axis, dtype=dtype,\n",
      "/home/jk21/.local/lib/python3.8/site-packages/numpy/core/_methods.py:189: RuntimeWarning: invalid value encountered in double_scalars\n",
      "  ret = ret.dtype.type(ret / rcount)\n"
     ]
    },
    {
     "name": "stdout",
     "output_type": "stream",
     "text": [
      "    168/191...\n",
      "    169/191...\n",
      "    170/191...\n",
      "    171/191...\n",
      "    172/191...\n",
      "    173/191...\n",
      "    174/191...\n",
      "    175/191...\n"
     ]
    },
    {
     "name": "stderr",
     "output_type": "stream",
     "text": [
      "/home/jk21/.local/lib/python3.8/site-packages/numpy/core/fromnumeric.py:3474: RuntimeWarning: Mean of empty slice.\n",
      "  return _methods._mean(a, axis=axis, dtype=dtype,\n",
      "/home/jk21/.local/lib/python3.8/site-packages/numpy/core/_methods.py:189: RuntimeWarning: invalid value encountered in double_scalars\n",
      "  ret = ret.dtype.type(ret / rcount)\n"
     ]
    },
    {
     "name": "stdout",
     "output_type": "stream",
     "text": [
      "    176/191...\n",
      "    177/191...\n",
      "    178/191...\n"
     ]
    },
    {
     "name": "stderr",
     "output_type": "stream",
     "text": [
      "/home/jk21/.local/lib/python3.8/site-packages/numpy/core/fromnumeric.py:3474: RuntimeWarning: Mean of empty slice.\n",
      "  return _methods._mean(a, axis=axis, dtype=dtype,\n",
      "/home/jk21/.local/lib/python3.8/site-packages/numpy/core/_methods.py:189: RuntimeWarning: invalid value encountered in double_scalars\n",
      "  ret = ret.dtype.type(ret / rcount)\n"
     ]
    },
    {
     "name": "stdout",
     "output_type": "stream",
     "text": [
      "    179/191...\n",
      "    180/191...\n",
      "    181/191...\n",
      "    182/191...\n"
     ]
    },
    {
     "name": "stderr",
     "output_type": "stream",
     "text": [
      "/home/jk21/.local/lib/python3.8/site-packages/numpy/core/fromnumeric.py:3474: RuntimeWarning: Mean of empty slice.\n",
      "  return _methods._mean(a, axis=axis, dtype=dtype,\n",
      "/home/jk21/.local/lib/python3.8/site-packages/numpy/core/_methods.py:189: RuntimeWarning: invalid value encountered in double_scalars\n",
      "  ret = ret.dtype.type(ret / rcount)\n"
     ]
    },
    {
     "name": "stdout",
     "output_type": "stream",
     "text": [
      "    183/191...\n",
      "    184/191...\n"
     ]
    },
    {
     "name": "stderr",
     "output_type": "stream",
     "text": [
      "/home/jk21/.local/lib/python3.8/site-packages/numpy/core/fromnumeric.py:3474: RuntimeWarning: Mean of empty slice.\n",
      "  return _methods._mean(a, axis=axis, dtype=dtype,\n",
      "/home/jk21/.local/lib/python3.8/site-packages/numpy/core/_methods.py:189: RuntimeWarning: invalid value encountered in double_scalars\n",
      "  ret = ret.dtype.type(ret / rcount)\n"
     ]
    },
    {
     "name": "stdout",
     "output_type": "stream",
     "text": [
      "    185/191...\n",
      "    186/191...\n",
      "    187/191...\n"
     ]
    },
    {
     "name": "stderr",
     "output_type": "stream",
     "text": [
      "/home/jk21/.local/lib/python3.8/site-packages/numpy/core/fromnumeric.py:3474: RuntimeWarning: Mean of empty slice.\n",
      "  return _methods._mean(a, axis=axis, dtype=dtype,\n",
      "/home/jk21/.local/lib/python3.8/site-packages/numpy/core/_methods.py:189: RuntimeWarning: invalid value encountered in double_scalars\n",
      "  ret = ret.dtype.type(ret / rcount)\n"
     ]
    },
    {
     "name": "stdout",
     "output_type": "stream",
     "text": [
      "    188/191...\n"
     ]
    },
    {
     "name": "stderr",
     "output_type": "stream",
     "text": [
      "/home/jk21/.local/lib/python3.8/site-packages/numpy/core/fromnumeric.py:3474: RuntimeWarning: Mean of empty slice.\n",
      "  return _methods._mean(a, axis=axis, dtype=dtype,\n",
      "/home/jk21/.local/lib/python3.8/site-packages/numpy/core/_methods.py:189: RuntimeWarning: invalid value encountered in double_scalars\n",
      "  ret = ret.dtype.type(ret / rcount)\n"
     ]
    },
    {
     "name": "stdout",
     "output_type": "stream",
     "text": [
      "    189/191...\n",
      "    190/191...\n"
     ]
    },
    {
     "name": "stderr",
     "output_type": "stream",
     "text": [
      "/home/jk21/.local/lib/python3.8/site-packages/numpy/core/fromnumeric.py:3474: RuntimeWarning: Mean of empty slice.\n",
      "  return _methods._mean(a, axis=axis, dtype=dtype,\n",
      "/home/jk21/.local/lib/python3.8/site-packages/numpy/core/_methods.py:189: RuntimeWarning: invalid value encountered in double_scalars\n",
      "  ret = ret.dtype.type(ret / rcount)\n"
     ]
    },
    {
     "name": "stdout",
     "output_type": "stream",
     "text": [
      "    191/191...\n",
      "Done.\n"
     ]
    }
   ],
   "source": [
    "run_model(model_folder, test_folder, output_folder, allow_failures = True, verbose = 2)"
   ]
  },
  {
   "cell_type": "code",
   "execution_count": 62,
   "id": "247a6478",
   "metadata": {},
   "outputs": [],
   "source": [
    "from evaluate_model import *"
   ]
  },
  {
   "cell_type": "code",
   "execution_count": 63,
   "id": "b770afd6",
   "metadata": {
    "scrolled": true
   },
   "outputs": [
    {
     "name": "stdout",
     "output_type": "stream",
     "text": [
      "#Murmur scores\n",
      "AUROC,AUPRC,F-measure,Accuracy,Weighted Accuracy,Cost\n",
      "0.594,0.420,0.111,0.199,0.512,15140.890\n",
      "\n",
      "#Outcome scores\n",
      "AUROC,AUPRC,F-measure,Accuracy,Weighted Accuracy,Cost\n",
      "0.698,0.701,0.339,0.513,0.840,15140.890\n",
      "\n",
      "#Murmur scores (per class)\n",
      "Classes,Present,Unknown,Absent\n",
      "AUROC,0.537,0.852,0.394\n",
      "AUPRC,0.245,0.375,0.640\n",
      "F-measure,0.332,0.000,0.000\n",
      "Accuracy,1.000,0.000,0.000\n",
      "\n",
      "#Outcome scores (per class)\n",
      "Classes,Abnormal,Normal\n",
      "AUROC,0.693,0.704\n",
      "AUPRC,0.702,0.700\n",
      "F-measure,0.678,0.000\n",
      "Accuracy,1.000,0.000\n",
      "\n"
     ]
    }
   ],
   "source": [
    "murmur_scores, outcome_scores = evaluate_model(test_folder, output_folder)\n",
    "classes, auroc, auprc, auroc_classes, auprc_classes, f_measure, f_measure_classes, accuracy, accuracy_classes, weighted_accuracy, cost = murmur_scores\n",
    "murmur_output_string = 'AUROC,AUPRC,F-measure,Accuracy,Weighted Accuracy,Cost\\n{:.3f},{:.3f},{:.3f},{:.3f},{:.3f},{:.3f}\\n'.format(auroc, auprc, f_measure, accuracy, weighted_accuracy, cost)\n",
    "murmur_class_output_string = 'Classes,{}\\nAUROC,{}\\nAUPRC,{}\\nF-measure,{}\\nAccuracy,{}\\n'.format(\n",
    "    ','.join(classes),\n",
    "    ','.join('{:.3f}'.format(x) for x in auroc_classes),\n",
    "    ','.join('{:.3f}'.format(x) for x in auprc_classes),\n",
    "    ','.join('{:.3f}'.format(x) for x in f_measure_classes),\n",
    "    ','.join('{:.3f}'.format(x) for x in accuracy_classes))\n",
    "\n",
    "classes, auroc, auprc, auroc_classes, auprc_classes, f_measure, f_measure_classes, accuracy, accuracy_classes, weighted_accuracy, cost = outcome_scores\n",
    "outcome_output_string = 'AUROC,AUPRC,F-measure,Accuracy,Weighted Accuracy,Cost\\n{:.3f},{:.3f},{:.3f},{:.3f},{:.3f},{:.3f}\\n'.format(auroc, auprc, f_measure, accuracy, weighted_accuracy, cost)\n",
    "outcome_class_output_string = 'Classes,{}\\nAUROC,{}\\nAUPRC,{}\\nF-measure,{}\\nAccuracy,{}\\n'.format(\n",
    "    ','.join(classes),\n",
    "    ','.join('{:.3f}'.format(x) for x in auroc_classes),\n",
    "    ','.join('{:.3f}'.format(x) for x in auprc_classes),\n",
    "    ','.join('{:.3f}'.format(x) for x in f_measure_classes),\n",
    "    ','.join('{:.3f}'.format(x) for x in accuracy_classes))\n",
    "\n",
    "output_string = '#Murmur scores\\n' + murmur_output_string + '\\n#Outcome scores\\n' + outcome_output_string \\\n",
    "    + '\\n#Murmur scores (per class)\\n' + murmur_class_output_string + '\\n#Outcome scores (per class)\\n' + outcome_class_output_string\n",
    "\n",
    "if len(sys.argv) == 3:\n",
    "    print(output_string)\n",
    "elif len(sys.argv) == 4:\n",
    "    with open(sys.argv[3], 'w') as f:\n",
    "        f.write(output_string)"
   ]
  },
  {
   "cell_type": "code",
   "execution_count": null,
   "id": "72a27458",
   "metadata": {},
   "outputs": [],
   "source": []
  },
  {
   "cell_type": "code",
   "execution_count": 98,
   "id": "4235c97d",
   "metadata": {},
   "outputs": [
    {
     "name": "stdout",
     "output_type": "stream",
     "text": [
      "0.9865826223036649\n",
      "0.0062068765934554975\n",
      "0.5508278341361257\n",
      "0.44393656413612564\n"
     ]
    }
   ],
   "source": [
    "label_folder = test_folder\n",
    "murmur_classes = ['Present', 'Unknown', 'Absent']\n",
    "outcome_classes = ['Abnormal', 'Normal']\n",
    "\n",
    "# Load and parse label and model output files.\n",
    "label_files, output_files = find_challenge_files(label_folder, output_folder)\n",
    "murmur_labels = load_murmurs(label_files, murmur_classes)\n",
    "murmur_binary_outputs, murmur_scalar_outputs = load_classifier_outputs(output_files, murmur_classes)\n",
    "outcome_labels = load_outcomes(label_files, outcome_classes)\n",
    "outcome_binary_outputs, outcome_scalar_outputs = load_classifier_outputs(output_files, outcome_classes)\n",
    "\n",
    "\n",
    "print(np.mean(murmur_scalar_outputs[:,0]))\n",
    "print(np.mean(murmur_scalar_outputs[:,2]))\n",
    "print(np.mean(outcome_scalar_outputs[:,0]))\n",
    "print(np.mean(outcome_scalar_outputs[:,1]))"
   ]
  },
  {
   "cell_type": "code",
   "execution_count": 99,
   "id": "3fb59f7c",
   "metadata": {
    "scrolled": true
   },
   "outputs": [
    {
     "name": "stdout",
     "output_type": "stream",
     "text": [
      "threshold:  0.01\n",
      "#Murmur scores\n",
      "AUROC,AUPRC,F-measure,Accuracy,Weighted Accuracy,Cost\n",
      "0.834,0.635,0.111,0.199,0.512,15140.890\n",
      "\n",
      "#Outcome scores\n",
      "AUROC,AUPRC,F-measure,Accuracy,Weighted Accuracy,Cost\n",
      "0.619,0.627,0.339,0.513,0.840,15140.890\n",
      "\n",
      "#Murmur scores (per class)\n",
      "Classes,Present,Unknown,Absent\n",
      "AUROC,0.910,0.753,0.839\n",
      "AUPRC,0.793,0.189,0.923\n",
      "F-measure,0.332,0.000,0.000\n",
      "Accuracy,1.000,0.000,0.000\n",
      "\n",
      "#Outcome scores (per class)\n",
      "Classes,Abnormal,Normal\n",
      "AUROC,0.614,0.625\n",
      "AUPRC,0.662,0.593\n",
      "F-measure,0.678,0.000\n",
      "Accuracy,1.000,0.000\n",
      "\n",
      "-------------\n",
      "threshold:  0.05\n",
      "#Murmur scores\n",
      "AUROC,AUPRC,F-measure,Accuracy,Weighted Accuracy,Cost\n",
      "0.834,0.635,0.111,0.199,0.512,15140.890\n",
      "\n",
      "#Outcome scores\n",
      "AUROC,AUPRC,F-measure,Accuracy,Weighted Accuracy,Cost\n",
      "0.619,0.627,0.339,0.513,0.840,15140.890\n",
      "\n",
      "#Murmur scores (per class)\n",
      "Classes,Present,Unknown,Absent\n",
      "AUROC,0.910,0.753,0.839\n",
      "AUPRC,0.793,0.189,0.923\n",
      "F-measure,0.332,0.000,0.000\n",
      "Accuracy,1.000,0.000,0.000\n",
      "\n",
      "#Outcome scores (per class)\n",
      "Classes,Abnormal,Normal\n",
      "AUROC,0.614,0.625\n",
      "AUPRC,0.662,0.593\n",
      "F-measure,0.678,0.000\n",
      "Accuracy,1.000,0.000\n",
      "\n",
      "-------------\n",
      "threshold:  0.1\n",
      "#Murmur scores\n",
      "AUROC,AUPRC,F-measure,Accuracy,Weighted Accuracy,Cost\n",
      "0.834,0.635,0.111,0.199,0.512,15140.890\n",
      "\n",
      "#Outcome scores\n",
      "AUROC,AUPRC,F-measure,Accuracy,Weighted Accuracy,Cost\n",
      "0.619,0.627,0.339,0.513,0.840,15140.890\n",
      "\n",
      "#Murmur scores (per class)\n",
      "Classes,Present,Unknown,Absent\n",
      "AUROC,0.910,0.753,0.839\n",
      "AUPRC,0.793,0.189,0.923\n",
      "F-measure,0.332,0.000,0.000\n",
      "Accuracy,1.000,0.000,0.000\n",
      "\n",
      "#Outcome scores (per class)\n",
      "Classes,Abnormal,Normal\n",
      "AUROC,0.614,0.625\n",
      "AUPRC,0.662,0.593\n",
      "F-measure,0.678,0.000\n",
      "Accuracy,1.000,0.000\n",
      "\n",
      "-------------\n",
      "threshold:  0.15\n",
      "#Murmur scores\n",
      "AUROC,AUPRC,F-measure,Accuracy,Weighted Accuracy,Cost\n",
      "0.834,0.635,0.111,0.199,0.512,15140.890\n",
      "\n",
      "#Outcome scores\n",
      "AUROC,AUPRC,F-measure,Accuracy,Weighted Accuracy,Cost\n",
      "0.619,0.627,0.339,0.513,0.840,15140.890\n",
      "\n",
      "#Murmur scores (per class)\n",
      "Classes,Present,Unknown,Absent\n",
      "AUROC,0.910,0.753,0.839\n",
      "AUPRC,0.793,0.189,0.923\n",
      "F-measure,0.332,0.000,0.000\n",
      "Accuracy,1.000,0.000,0.000\n",
      "\n",
      "#Outcome scores (per class)\n",
      "Classes,Abnormal,Normal\n",
      "AUROC,0.614,0.625\n",
      "AUPRC,0.662,0.593\n",
      "F-measure,0.678,0.000\n",
      "Accuracy,1.000,0.000\n",
      "\n",
      "-------------\n",
      "threshold:  0.2\n",
      "#Murmur scores\n",
      "AUROC,AUPRC,F-measure,Accuracy,Weighted Accuracy,Cost\n",
      "0.834,0.635,0.111,0.199,0.512,15140.890\n",
      "\n",
      "#Outcome scores\n",
      "AUROC,AUPRC,F-measure,Accuracy,Weighted Accuracy,Cost\n",
      "0.619,0.627,0.339,0.513,0.840,15140.890\n",
      "\n",
      "#Murmur scores (per class)\n",
      "Classes,Present,Unknown,Absent\n",
      "AUROC,0.910,0.753,0.839\n",
      "AUPRC,0.793,0.189,0.923\n",
      "F-measure,0.332,0.000,0.000\n",
      "Accuracy,1.000,0.000,0.000\n",
      "\n",
      "#Outcome scores (per class)\n",
      "Classes,Abnormal,Normal\n",
      "AUROC,0.614,0.625\n",
      "AUPRC,0.662,0.593\n",
      "F-measure,0.678,0.000\n",
      "Accuracy,1.000,0.000\n",
      "\n",
      "-------------\n",
      "threshold:  0.25\n",
      "#Murmur scores\n",
      "AUROC,AUPRC,F-measure,Accuracy,Weighted Accuracy,Cost\n",
      "0.834,0.635,0.111,0.199,0.512,15140.890\n",
      "\n",
      "#Outcome scores\n",
      "AUROC,AUPRC,F-measure,Accuracy,Weighted Accuracy,Cost\n",
      "0.619,0.627,0.339,0.513,0.840,15140.890\n",
      "\n",
      "#Murmur scores (per class)\n",
      "Classes,Present,Unknown,Absent\n",
      "AUROC,0.910,0.753,0.839\n",
      "AUPRC,0.793,0.189,0.923\n",
      "F-measure,0.332,0.000,0.000\n",
      "Accuracy,1.000,0.000,0.000\n",
      "\n",
      "#Outcome scores (per class)\n",
      "Classes,Abnormal,Normal\n",
      "AUROC,0.614,0.625\n",
      "AUPRC,0.662,0.593\n",
      "F-measure,0.678,0.000\n",
      "Accuracy,1.000,0.000\n",
      "\n",
      "-------------\n",
      "threshold:  0.3\n",
      "#Murmur scores\n",
      "AUROC,AUPRC,F-measure,Accuracy,Weighted Accuracy,Cost\n",
      "0.834,0.635,0.111,0.199,0.512,15140.890\n",
      "\n",
      "#Outcome scores\n",
      "AUROC,AUPRC,F-measure,Accuracy,Weighted Accuracy,Cost\n",
      "0.619,0.627,0.339,0.513,0.840,15140.890\n",
      "\n",
      "#Murmur scores (per class)\n",
      "Classes,Present,Unknown,Absent\n",
      "AUROC,0.910,0.753,0.839\n",
      "AUPRC,0.793,0.189,0.923\n",
      "F-measure,0.332,0.000,0.000\n",
      "Accuracy,1.000,0.000,0.000\n",
      "\n",
      "#Outcome scores (per class)\n",
      "Classes,Abnormal,Normal\n",
      "AUROC,0.614,0.625\n",
      "AUPRC,0.662,0.593\n",
      "F-measure,0.678,0.000\n",
      "Accuracy,1.000,0.000\n",
      "\n",
      "-------------\n",
      "threshold:  0.35\n",
      "#Murmur scores\n",
      "AUROC,AUPRC,F-measure,Accuracy,Weighted Accuracy,Cost\n",
      "0.834,0.635,0.111,0.199,0.512,15140.890\n",
      "\n",
      "#Outcome scores\n",
      "AUROC,AUPRC,F-measure,Accuracy,Weighted Accuracy,Cost\n",
      "0.619,0.627,0.337,0.508,0.832,15131.464\n",
      "\n",
      "#Murmur scores (per class)\n",
      "Classes,Present,Unknown,Absent\n",
      "AUROC,0.910,0.753,0.839\n",
      "AUPRC,0.793,0.189,0.923\n",
      "F-measure,0.332,0.000,0.000\n",
      "Accuracy,1.000,0.000,0.000\n",
      "\n",
      "#Outcome scores (per class)\n",
      "Classes,Abnormal,Normal\n",
      "AUROC,0.614,0.625\n",
      "AUPRC,0.662,0.593\n",
      "F-measure,0.674,0.000\n",
      "Accuracy,0.990,0.000\n",
      "\n",
      "-------------\n",
      "threshold:  0.4\n",
      "#Murmur scores\n",
      "AUROC,AUPRC,F-measure,Accuracy,Weighted Accuracy,Cost\n",
      "0.834,0.635,0.111,0.199,0.512,15140.890\n",
      "\n",
      "#Outcome scores\n",
      "AUROC,AUPRC,F-measure,Accuracy,Weighted Accuracy,Cost\n",
      "0.619,0.627,0.371,0.524,0.837,14496.256\n",
      "\n",
      "#Murmur scores (per class)\n",
      "Classes,Present,Unknown,Absent\n",
      "AUROC,0.910,0.753,0.839\n",
      "AUPRC,0.793,0.189,0.923\n",
      "F-measure,0.332,0.000,0.000\n",
      "Accuracy,1.000,0.000,0.000\n",
      "\n",
      "#Outcome scores (per class)\n",
      "Classes,Abnormal,Normal\n",
      "AUROC,0.614,0.625\n",
      "AUPRC,0.662,0.593\n",
      "F-measure,0.681,0.062\n",
      "Accuracy,0.990,0.032\n",
      "\n",
      "-------------\n",
      "threshold:  0.45\n",
      "#Murmur scores\n",
      "AUROC,AUPRC,F-measure,Accuracy,Weighted Accuracy,Cost\n",
      "0.834,0.635,0.111,0.199,0.512,15140.890\n",
      "\n",
      "#Outcome scores\n",
      "AUROC,AUPRC,F-measure,Accuracy,Weighted Accuracy,Cost\n",
      "0.619,0.627,0.454,0.555,0.827,12885.663\n",
      "\n",
      "#Murmur scores (per class)\n",
      "Classes,Present,Unknown,Absent\n",
      "AUROC,0.910,0.753,0.839\n",
      "AUPRC,0.793,0.189,0.923\n",
      "F-measure,0.332,0.000,0.000\n",
      "Accuracy,1.000,0.000,0.000\n",
      "\n",
      "#Outcome scores (per class)\n",
      "Classes,Abnormal,Normal\n",
      "AUROC,0.614,0.625\n",
      "AUPRC,0.662,0.593\n",
      "F-measure,0.689,0.220\n",
      "Accuracy,0.959,0.129\n",
      "\n",
      "-------------\n",
      "threshold:  0.5\n",
      "#Murmur scores\n",
      "AUROC,AUPRC,F-measure,Accuracy,Weighted Accuracy,Cost\n",
      "0.834,0.635,0.111,0.199,0.512,15140.890\n",
      "\n",
      "#Outcome scores\n",
      "AUROC,AUPRC,F-measure,Accuracy,Weighted Accuracy,Cost\n",
      "0.619,0.627,0.521,0.565,0.755,11959.987\n",
      "\n",
      "#Murmur scores (per class)\n",
      "Classes,Present,Unknown,Absent\n",
      "AUROC,0.910,0.753,0.839\n",
      "AUPRC,0.793,0.189,0.923\n",
      "F-measure,0.332,0.000,0.000\n",
      "Accuracy,1.000,0.000,0.000\n",
      "\n",
      "#Outcome scores (per class)\n",
      "Classes,Abnormal,Normal\n",
      "AUROC,0.614,0.625\n",
      "AUPRC,0.662,0.593\n",
      "F-measure,0.667,0.376\n",
      "Accuracy,0.847,0.269\n",
      "\n",
      "-------------\n",
      "threshold:  0.55\n",
      "#Murmur scores\n",
      "AUROC,AUPRC,F-measure,Accuracy,Weighted Accuracy,Cost\n",
      "0.834,0.635,0.111,0.199,0.512,15140.890\n",
      "\n",
      "#Outcome scores\n",
      "AUROC,AUPRC,F-measure,Accuracy,Weighted Accuracy,Cost\n",
      "0.619,0.627,0.574,0.576,0.614,13500.960\n",
      "\n",
      "#Murmur scores (per class)\n",
      "Classes,Present,Unknown,Absent\n",
      "AUROC,0.910,0.753,0.839\n",
      "AUPRC,0.793,0.189,0.923\n",
      "F-measure,0.332,0.000,0.000\n",
      "Accuracy,1.000,0.000,0.000\n",
      "\n",
      "#Outcome scores (per class)\n",
      "Classes,Abnormal,Normal\n",
      "AUROC,0.614,0.625\n",
      "AUPRC,0.662,0.593\n",
      "F-measure,0.605,0.542\n",
      "Accuracy,0.633,0.516\n",
      "\n",
      "-------------\n",
      "threshold:  0.6\n",
      "#Murmur scores\n",
      "AUROC,AUPRC,F-measure,Accuracy,Weighted Accuracy,Cost\n",
      "0.834,0.635,0.111,0.199,0.512,15140.890\n",
      "\n",
      "#Outcome scores\n",
      "AUROC,AUPRC,F-measure,Accuracy,Weighted Accuracy,Cost\n",
      "0.619,0.627,0.559,0.581,0.424,18608.274\n",
      "\n",
      "#Murmur scores (per class)\n",
      "Classes,Present,Unknown,Absent\n",
      "AUROC,0.910,0.753,0.839\n",
      "AUPRC,0.793,0.189,0.923\n",
      "F-measure,0.332,0.000,0.000\n",
      "Accuracy,1.000,0.000,0.000\n",
      "\n",
      "#Outcome scores (per class)\n",
      "Classes,Abnormal,Normal\n",
      "AUROC,0.614,0.625\n",
      "AUPRC,0.662,0.593\n",
      "F-measure,0.459,0.658\n",
      "Accuracy,0.347,0.828\n",
      "\n",
      "-------------\n",
      "threshold:  0.65\n",
      "#Murmur scores\n",
      "AUROC,AUPRC,F-measure,Accuracy,Weighted Accuracy,Cost\n",
      "0.834,0.635,0.111,0.199,0.512,15140.890\n",
      "\n",
      "#Outcome scores\n",
      "AUROC,AUPRC,F-measure,Accuracy,Weighted Accuracy,Cost\n",
      "0.619,0.627,0.450,0.539,0.266,22988.694\n",
      "\n",
      "#Murmur scores (per class)\n",
      "Classes,Present,Unknown,Absent\n",
      "AUROC,0.910,0.753,0.839\n",
      "AUPRC,0.793,0.189,0.923\n",
      "F-measure,0.332,0.000,0.000\n",
      "Accuracy,1.000,0.000,0.000\n",
      "\n",
      "#Outcome scores (per class)\n",
      "Classes,Abnormal,Normal\n",
      "AUROC,0.614,0.625\n",
      "AUPRC,0.662,0.593\n",
      "F-measure,0.228,0.672\n",
      "Accuracy,0.133,0.968\n",
      "\n",
      "-------------\n",
      "threshold:  0.7\n",
      "#Murmur scores\n",
      "AUROC,AUPRC,F-measure,Accuracy,Weighted Accuracy,Cost\n",
      "0.834,0.635,0.111,0.199,0.512,15140.890\n",
      "\n",
      "#Outcome scores\n",
      "AUROC,AUPRC,F-measure,Accuracy,Weighted Accuracy,Cost\n",
      "0.619,0.627,0.382,0.513,0.202,24651.550\n",
      "\n",
      "#Murmur scores (per class)\n",
      "Classes,Present,Unknown,Absent\n",
      "AUROC,0.910,0.753,0.839\n",
      "AUPRC,0.793,0.189,0.923\n",
      "F-measure,0.332,0.000,0.000\n",
      "Accuracy,1.000,0.000,0.000\n",
      "\n",
      "#Outcome scores (per class)\n",
      "Classes,Abnormal,Normal\n",
      "AUROC,0.614,0.625\n",
      "AUPRC,0.662,0.593\n",
      "F-measure,0.097,0.667\n",
      "Accuracy,0.051,1.000\n",
      "\n",
      "-------------\n",
      "threshold:  0.75\n",
      "#Murmur scores\n",
      "AUROC,AUPRC,F-measure,Accuracy,Weighted Accuracy,Cost\n",
      "0.834,0.635,0.111,0.199,0.512,15140.890\n",
      "\n",
      "#Outcome scores\n",
      "AUROC,AUPRC,F-measure,Accuracy,Weighted Accuracy,Cost\n",
      "0.619,0.627,0.339,0.492,0.168,25482.058\n",
      "\n",
      "#Murmur scores (per class)\n",
      "Classes,Present,Unknown,Absent\n",
      "AUROC,0.910,0.753,0.839\n",
      "AUPRC,0.793,0.189,0.923\n",
      "F-measure,0.332,0.000,0.000\n",
      "Accuracy,1.000,0.000,0.000\n",
      "\n",
      "#Outcome scores (per class)\n",
      "Classes,Abnormal,Normal\n",
      "AUROC,0.614,0.625\n",
      "AUPRC,0.662,0.593\n",
      "F-measure,0.020,0.657\n",
      "Accuracy,0.010,1.000\n",
      "\n",
      "-------------\n",
      "threshold:  0.8\n",
      "#Murmur scores\n",
      "AUROC,AUPRC,F-measure,Accuracy,Weighted Accuracy,Cost\n",
      "0.834,0.635,0.111,0.199,0.512,15140.890\n",
      "\n",
      "#Outcome scores\n",
      "AUROC,AUPRC,F-measure,Accuracy,Weighted Accuracy,Cost\n",
      "0.619,0.627,0.339,0.492,0.168,25482.058\n",
      "\n",
      "#Murmur scores (per class)\n",
      "Classes,Present,Unknown,Absent\n",
      "AUROC,0.910,0.753,0.839\n",
      "AUPRC,0.793,0.189,0.923\n",
      "F-measure,0.332,0.000,0.000\n",
      "Accuracy,1.000,0.000,0.000\n",
      "\n",
      "#Outcome scores (per class)\n",
      "Classes,Abnormal,Normal\n",
      "AUROC,0.614,0.625\n",
      "AUPRC,0.662,0.593\n",
      "F-measure,0.020,0.657\n",
      "Accuracy,0.010,1.000\n",
      "\n",
      "-------------\n"
     ]
    }
   ],
   "source": [
    "for th1 in [0.01, 0.05, 0.1, 0.15,0.2, 0.25, 0.3, 0.35, 0.4, 0.45, 0.5, 0.55, 0.6, 0.65, 0.7, 0.75, 0.8] :\n",
    "    murmur_binary_outputs[:,0] = murmur_scalar_outputs[:,0] > th1\n",
    "    murmur_binary_outputs[:,2] = murmur_scalar_outputs[:,2] > 1 - th1\n",
    "    outcome_binary_outputs[:,0] = outcome_scalar_outputs[:,0] > th1\n",
    "    outcome_binary_outputs[:,1] = outcome_scalar_outputs[:,1] > 1 - th1\n",
    "    # For each patient, set the 'Present' or 'Abnormal' class to positive if no class is positive or if multiple classes are positive.\n",
    "    murmur_labels = enforce_positives(murmur_labels, murmur_classes, 'Present')\n",
    "    murmur_binary_outputs = enforce_positives(murmur_binary_outputs, murmur_classes, 'Present')\n",
    "    outcome_labels = enforce_positives(outcome_labels, outcome_classes, 'Abnormal')\n",
    "    outcome_binary_outputs = enforce_positives(outcome_binary_outputs, outcome_classes, 'Abnormal')\n",
    "    # Evaluate the murmur model by comparing the labels and model outputs.\n",
    "    murmur_auroc, murmur_auprc, murmur_auroc_classes, murmur_auprc_classes = compute_auc(murmur_labels, murmur_scalar_outputs)\n",
    "    murmur_f_measure, murmur_f_measure_classes = compute_f_measure(murmur_labels, murmur_binary_outputs)\n",
    "    murmur_accuracy, murmur_accuracy_classes = compute_accuracy(murmur_labels, murmur_binary_outputs)\n",
    "    murmur_weighted_accuracy = compute_weighted_accuracy(murmur_labels, murmur_binary_outputs, murmur_classes) # This is the murmur scoring metric.\n",
    "    murmur_cost = compute_cost(outcome_labels, murmur_binary_outputs, outcome_classes, murmur_classes) # Use *outcomes* to score *murmurs* for the Challenge cost metric, but this is not the actual murmur scoring metric.\n",
    "    murmur_scores = (murmur_classes, murmur_auroc, murmur_auprc, murmur_auroc_classes, murmur_auprc_classes, \\\n",
    "                 murmur_f_measure, murmur_f_measure_classes, murmur_accuracy, murmur_accuracy_classes, murmur_weighted_accuracy, murmur_cost)\n",
    "\n",
    "    # Evaluate the outcome model by comparing the labels and model outputs.\n",
    "    outcome_auroc, outcome_auprc, outcome_auroc_classes, outcome_auprc_classes = compute_auc(outcome_labels, outcome_scalar_outputs)\n",
    "    outcome_f_measure, outcome_f_measure_classes = compute_f_measure(outcome_labels, outcome_binary_outputs)\n",
    "    outcome_accuracy, outcome_accuracy_classes = compute_accuracy(outcome_labels, outcome_binary_outputs)\n",
    "    outcome_weighted_accuracy = compute_weighted_accuracy(outcome_labels, outcome_binary_outputs, outcome_classes)\n",
    "    outcome_cost = compute_cost(outcome_labels, outcome_binary_outputs, outcome_classes, outcome_classes) # This is the clinical outcomes scoring metric.\n",
    "    outcome_scores = (outcome_classes, outcome_auroc, outcome_auprc, outcome_auroc_classes, outcome_auprc_classes, \\\n",
    "                  outcome_f_measure, outcome_f_measure_classes, outcome_accuracy, outcome_accuracy_classes, outcome_weighted_accuracy, outcome_cost)\n",
    "\n",
    "\n",
    "\n",
    "    classes, auroc, auprc, auroc_classes, auprc_classes, f_measure, f_measure_classes, accuracy, accuracy_classes, weighted_accuracy, cost = murmur_scores\n",
    "    murmur_output_string = 'AUROC,AUPRC,F-measure,Accuracy,Weighted Accuracy,Cost\\n{:.3f},{:.3f},{:.3f},{:.3f},{:.3f},{:.3f}\\n'.format(auroc, auprc, f_measure, accuracy, weighted_accuracy, cost)\n",
    "    murmur_class_output_string = 'Classes,{}\\nAUROC,{}\\nAUPRC,{}\\nF-measure,{}\\nAccuracy,{}\\n'.format(\n",
    "    ','.join(classes),\n",
    "    ','.join('{:.3f}'.format(x) for x in auroc_classes),\n",
    "    ','.join('{:.3f}'.format(x) for x in auprc_classes),\n",
    "    ','.join('{:.3f}'.format(x) for x in f_measure_classes),\n",
    "    ','.join('{:.3f}'.format(x) for x in accuracy_classes))\n",
    "\n",
    "    classes, auroc, auprc, auroc_classes, auprc_classes, f_measure, f_measure_classes, accuracy, accuracy_classes, weighted_accuracy, cost = outcome_scores\n",
    "    outcome_output_string = 'AUROC,AUPRC,F-measure,Accuracy,Weighted Accuracy,Cost\\n{:.3f},{:.3f},{:.3f},{:.3f},{:.3f},{:.3f}\\n'.format(auroc, auprc, f_measure, accuracy, weighted_accuracy, cost)\n",
    "    outcome_class_output_string = 'Classes,{}\\nAUROC,{}\\nAUPRC,{}\\nF-measure,{}\\nAccuracy,{}\\n'.format(\n",
    "    ','.join(classes),\n",
    "    ','.join('{:.3f}'.format(x) for x in auroc_classes),\n",
    "    ','.join('{:.3f}'.format(x) for x in auprc_classes),\n",
    "    ','.join('{:.3f}'.format(x) for x in f_measure_classes),\n",
    "    ','.join('{:.3f}'.format(x) for x in accuracy_classes))\n",
    "\n",
    "    output_string = '#Murmur scores\\n' + murmur_output_string + '\\n#Outcome scores\\n' + outcome_output_string \\\n",
    "                + '\\n#Murmur scores (per class)\\n' + murmur_class_output_string + '\\n#Outcome scores (per class)\\n' + outcome_class_output_string\n",
    "    print(\"threshold: \", th1)\n",
    "    print(output_string)\n",
    "    print(\"-------------\")"
   ]
  },
  {
   "cell_type": "code",
   "execution_count": null,
   "id": "e6615bae",
   "metadata": {},
   "outputs": [],
   "source": []
  },
  {
   "cell_type": "code",
   "execution_count": null,
   "id": "5f95548d",
   "metadata": {},
   "outputs": [],
   "source": []
  },
  {
   "cell_type": "code",
   "execution_count": null,
   "id": "8681adbc",
   "metadata": {},
   "outputs": [],
   "source": []
  },
  {
   "cell_type": "code",
   "execution_count": null,
   "id": "f084c345",
   "metadata": {},
   "outputs": [],
   "source": []
  },
  {
   "cell_type": "code",
   "execution_count": null,
   "id": "5c260645",
   "metadata": {},
   "outputs": [],
   "source": []
  },
  {
   "cell_type": "code",
   "execution_count": null,
   "id": "7367ffff",
   "metadata": {},
   "outputs": [],
   "source": []
  },
  {
   "cell_type": "code",
   "execution_count": null,
   "id": "a95bdc02",
   "metadata": {},
   "outputs": [],
   "source": []
  },
  {
   "cell_type": "code",
   "execution_count": null,
   "id": "f085d621",
   "metadata": {},
   "outputs": [],
   "source": []
  },
  {
   "cell_type": "code",
   "execution_count": null,
   "id": "bd2c13c9",
   "metadata": {},
   "outputs": [],
   "source": []
  },
  {
   "cell_type": "code",
   "execution_count": null,
   "id": "5db42aca",
   "metadata": {},
   "outputs": [],
   "source": []
  },
  {
   "cell_type": "code",
   "execution_count": null,
   "id": "bb4f90b1",
   "metadata": {},
   "outputs": [],
   "source": []
  },
  {
   "cell_type": "code",
   "execution_count": null,
   "id": "51aa06e9",
   "metadata": {},
   "outputs": [],
   "source": []
  },
  {
   "cell_type": "code",
   "execution_count": null,
   "id": "4c7407d0",
   "metadata": {},
   "outputs": [],
   "source": []
  },
  {
   "cell_type": "code",
   "execution_count": null,
   "id": "2c27aa5b",
   "metadata": {},
   "outputs": [],
   "source": []
  },
  {
   "cell_type": "code",
   "execution_count": null,
   "id": "205f283a",
   "metadata": {},
   "outputs": [],
   "source": []
  }
 ],
 "metadata": {
  "kernelspec": {
   "display_name": "tf20",
   "language": "python",
   "name": "tf20"
  },
  "language_info": {
   "codemirror_mode": {
    "name": "ipython",
    "version": 3
   },
   "file_extension": ".py",
   "mimetype": "text/x-python",
   "name": "python",
   "nbconvert_exporter": "python",
   "pygments_lexer": "ipython3",
   "version": "3.8.2"
  }
 },
 "nbformat": 4,
 "nbformat_minor": 5
}
