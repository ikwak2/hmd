{
 "cells": [
  {
   "cell_type": "code",
   "execution_count": 2,
   "id": "3d55dbd4",
   "metadata": {},
   "outputs": [],
   "source": [
    "import tensorflow as tf"
   ]
  },
  {
   "cell_type": "code",
   "execution_count": 3,
   "id": "ad188626",
   "metadata": {
    "scrolled": true
   },
   "outputs": [
    {
     "name": "stderr",
     "output_type": "stream",
     "text": [
      "2022-08-10 13:30:22.714200: I tensorflow/stream_executor/cuda/cuda_gpu_executor.cc:936] successful NUMA node read from SysFS had negative value (-1), but there must be at least one NUMA node, so returning NUMA node zero\n",
      "2022-08-10 13:30:22.732747: I tensorflow/stream_executor/cuda/cuda_gpu_executor.cc:936] successful NUMA node read from SysFS had negative value (-1), but there must be at least one NUMA node, so returning NUMA node zero\n",
      "2022-08-10 13:30:22.733860: I tensorflow/stream_executor/cuda/cuda_gpu_executor.cc:936] successful NUMA node read from SysFS had negative value (-1), but there must be at least one NUMA node, so returning NUMA node zero\n",
      "2022-08-10 13:30:22.736348: I tensorflow/core/platform/cpu_feature_guard.cc:151] This TensorFlow binary is optimized with oneAPI Deep Neural Network Library (oneDNN) to use the following CPU instructions in performance-critical operations:  AVX2 FMA\n",
      "To enable them in other operations, rebuild TensorFlow with the appropriate compiler flags.\n",
      "2022-08-10 13:30:22.738375: I tensorflow/stream_executor/cuda/cuda_gpu_executor.cc:936] successful NUMA node read from SysFS had negative value (-1), but there must be at least one NUMA node, so returning NUMA node zero\n",
      "2022-08-10 13:30:22.739224: I tensorflow/stream_executor/cuda/cuda_gpu_executor.cc:936] successful NUMA node read from SysFS had negative value (-1), but there must be at least one NUMA node, so returning NUMA node zero\n",
      "2022-08-10 13:30:22.740030: I tensorflow/stream_executor/cuda/cuda_gpu_executor.cc:936] successful NUMA node read from SysFS had negative value (-1), but there must be at least one NUMA node, so returning NUMA node zero\n",
      "2022-08-10 13:30:23.135940: I tensorflow/stream_executor/cuda/cuda_gpu_executor.cc:936] successful NUMA node read from SysFS had negative value (-1), but there must be at least one NUMA node, so returning NUMA node zero\n",
      "2022-08-10 13:30:23.136353: I tensorflow/stream_executor/cuda/cuda_gpu_executor.cc:936] successful NUMA node read from SysFS had negative value (-1), but there must be at least one NUMA node, so returning NUMA node zero\n",
      "2022-08-10 13:30:23.136716: I tensorflow/stream_executor/cuda/cuda_gpu_executor.cc:936] successful NUMA node read from SysFS had negative value (-1), but there must be at least one NUMA node, so returning NUMA node zero\n",
      "2022-08-10 13:30:23.137051: I tensorflow/core/common_runtime/gpu/gpu_device.cc:1525] Created device /job:localhost/replica:0/task:0/device:GPU:0 with 9377 MB memory:  -> device: 0, name: GeForce RTX 2080 Ti, pci bus id: 0000:01:00.0, compute capability: 7.5\n"
     ]
    }
   ],
   "source": [
    "import os\n",
    "import pandas as pd\n",
    "import numpy as np\n",
    "import scipy as sp\n",
    "import scipy.stats\n",
    "import librosa\n",
    "import librosa.display\n",
    "import math\n",
    "import sys\n",
    "#sys.path.insert(0,'/home/ikwak2/hmd/notebooks')\n",
    "sys.path.insert(0,'lucashnegri-peakutils-51a679cd8428')\n",
    "# sys.path.insert(0,'S1-S1-Phonocardiogram-Peak-Detection-Method-in-Python')\n",
    "sys.path.insert(0,'utils')\n",
    "from helper_code import *\n",
    "from get_feature import *\n",
    "from models import *\n",
    "from Generator0 import *\n",
    "from keras.preprocessing import sequence\n",
    "# import peakutils\n",
    "from scipy import special\n",
    "import scipy.io as sio\n",
    "from keras.preprocessing.sequence import pad_sequences\n",
    "import peakutils\n",
    "from tensorflow import keras\n",
    "from tensorflow.keras import layers\n",
    "from tensorflow.keras.callbacks import LearningRateScheduler,ModelCheckpoint"
   ]
  },
  {
   "cell_type": "code",
   "execution_count": 4,
   "id": "f8c573ff",
   "metadata": {},
   "outputs": [
    {
     "data": {
      "text/plain": [
       "'/home/jk21/Documents/hmd/jk_classifier'"
      ]
     },
     "execution_count": 4,
     "metadata": {},
     "output_type": "execute_result"
    }
   ],
   "source": [
    "pwd"
   ]
  },
  {
   "cell_type": "code",
   "execution_count": 5,
   "id": "42f5dd9c",
   "metadata": {},
   "outputs": [],
   "source": [
    "# data_folder =  'physionet.org/files/circor-heart-sound/1.0.3/training_data'\n",
    "train_folder =  '/home/jk21/Downloads/Data/data/murmur/train'\n",
    "test_folder = '/home/jk21/Downloads/Data/data/murmur/test'\n"
   ]
  },
  {
   "cell_type": "code",
   "execution_count": 6,
   "id": "ca657f78",
   "metadata": {},
   "outputs": [],
   "source": [
    "model_folder = 'lcnn2'"
   ]
  },
  {
   "cell_type": "code",
   "execution_count": 7,
   "id": "e49f868b",
   "metadata": {},
   "outputs": [
    {
     "data": {
      "text/plain": [
       "'lcnn2'"
      ]
     },
     "execution_count": 7,
     "metadata": {},
     "output_type": "execute_result"
    }
   ],
   "source": [
    "model_folder"
   ]
  },
  {
   "cell_type": "code",
   "execution_count": 8,
   "id": "e76c75d5",
   "metadata": {},
   "outputs": [],
   "source": [
    "def sigmoidal_decay(e, start=0, end=100, lr_start=1e-3, lr_end=1e-5):\n",
    "    if e < start:\n",
    "        return lr_start\n",
    "    elif e > end:\n",
    "        return lr_end\n",
    "\n",
    "    middle = (start + end) / 2\n",
    "    s = lambda x: 1 / (1 + np.exp(-x))\n",
    "\n",
    "    return s(13 * (-e + middle) / np.abs(end - start)) * np.abs(lr_start - lr_end) + lr_end"
   ]
  },
  {
   "cell_type": "code",
   "execution_count": 9,
   "id": "ac7432d8",
   "metadata": {},
   "outputs": [],
   "source": [
    "patient_files_trn = find_patient_files(train_folder)\n",
    "patient_files_test = find_patient_files(test_folder)"
   ]
  },
  {
   "cell_type": "code",
   "execution_count": 12,
   "id": "fb99a9b6",
   "metadata": {},
   "outputs": [],
   "source": [
    "per_sec=np.array([16000,20000,24000,28000,32000])"
   ]
  },
  {
   "cell_type": "code",
   "execution_count": null,
   "id": "97f98d31",
   "metadata": {},
   "outputs": [],
   "source": [
    "per_sec"
   ]
  },
  {
   "cell_type": "code",
   "execution_count": null,
   "id": "21c8552a",
   "metadata": {},
   "outputs": [],
   "source": []
  },
  {
   "cell_type": "code",
   "execution_count": null,
   "id": "8154ece0",
   "metadata": {},
   "outputs": [],
   "source": [
    "for i in range(len(per_sec))"
   ]
  },
  {
   "cell_type": "code",
   "execution_count": null,
   "id": "8be2be5c",
   "metadata": {},
   "outputs": [],
   "source": []
  },
  {
   "cell_type": "code",
   "execution_count": 27,
   "id": "a30c2ab2",
   "metadata": {},
   "outputs": [],
   "source": [
    "winlen = 512\n",
    "hoplen = 256\n",
    "nmel = 120 \n",
    "nsec = 20 \n",
    "trim = 1 \n",
    "use_mel=True\n",
    "use_cqt = False \n",
    "use_stft = False\n",
    "use_raw=False\n",
    "use_interval=True\n",
    "use_wav2=True\n",
    "maxlen1 = 246000\n",
    "min_dist = 500\n",
    "per_sec=16000"
   ]
  },
  {
   "cell_type": "code",
   "execution_count": null,
   "id": "ed929ec1",
   "metadata": {},
   "outputs": [],
   "source": []
  },
  {
   "cell_type": "code",
   "execution_count": 28,
   "id": "701e9583",
   "metadata": {},
   "outputs": [],
   "source": [
    "model1_callback = tf.keras.callbacks.ModelCheckpoint(\n",
    "    filepath=model_folder,\n",
    "    monitor='val_accuracy',\n",
    "    verbose=0,\n",
    "    save_best_only=True,\n",
    "    save_weights_only=True,\n",
    "    mode='auto',\n",
    "    save_freq='epoch',\n",
    "    options=None,\n",
    "    initial_value_threshold=None\n",
    ")\n"
   ]
  },
  {
   "cell_type": "code",
   "execution_count": 29,
   "id": "d03a4cfb",
   "metadata": {},
   "outputs": [],
   "source": [
    "model2_callback = tf.keras.callbacks.ModelCheckpoint(\n",
    "    filepath=model_folder,\n",
    "    monitor='val_loss',\n",
    "    verbose=0,\n",
    "    save_best_only=True,\n",
    "    save_weights_only=True,\n",
    "    mode='auto',\n",
    "    save_freq='epoch',\n",
    "    options=None,\n",
    "    initial_value_threshold=None\n",
    ")    "
   ]
  },
  {
   "cell_type": "code",
   "execution_count": null,
   "id": "0c3b284f",
   "metadata": {},
   "outputs": [],
   "source": []
  },
  {
   "cell_type": "code",
   "execution_count": 30,
   "id": "ca1fabdb",
   "metadata": {},
   "outputs": [],
   "source": [
    "params_feature = {'samp_sec': nsec,\n",
    "                  #### melspec, stft 피쳐 옵션들  \n",
    "                  'pre_emphasis': 0,\n",
    "                  'hop_length': hoplen,\n",
    "                  'win_length': winlen,\n",
    "                  'n_mels': nmel,\n",
    "                  #### cqt 피쳐 옵션들  \n",
    "                  'filter_scale': 1,\n",
    "                  'n_bins': 80,\n",
    "                  'fmin': 10,\n",
    "                  'maxlen1': maxlen1,\n",
    "                  'min_dist':min_dist,\n",
    "                  'trim' :1,\n",
    "                  'use_mel' : use_mel,\n",
    "                  'use_cqt' : use_cqt,\n",
    "                  'use_stft' : use_stft,\n",
    "                  'use_interval' : use_interval,\n",
    "                  'use_wav2' : use_wav2,\n",
    "                  'per_sec' : per_sec\n",
    "}"
   ]
  },
  {
   "cell_type": "code",
   "execution_count": null,
   "id": "0fd19c5c",
   "metadata": {},
   "outputs": [],
   "source": []
  },
  {
   "cell_type": "code",
   "execution_count": null,
   "id": "a7b474fc",
   "metadata": {},
   "outputs": [],
   "source": []
  },
  {
   "cell_type": "code",
   "execution_count": 31,
   "id": "caa0f60d",
   "metadata": {},
   "outputs": [
    {
     "name": "stderr",
     "output_type": "stream",
     "text": [
      "  2%|▋                                         | 13/751 [00:38<36:37,  2.98s/it]\n"
     ]
    },
    {
     "ename": "KeyboardInterrupt",
     "evalue": "",
     "output_type": "error",
     "traceback": [
      "\u001b[0;31m---------------------------------------------------------------------------\u001b[0m",
      "\u001b[0;31mKeyboardInterrupt\u001b[0m                         Traceback (most recent call last)",
      "Input \u001b[0;32mIn [31]\u001b[0m, in \u001b[0;36m<module>\u001b[0;34m\u001b[0m\n\u001b[0;32m----> 1\u001b[0m features_trn, mel_input_shape, cqt_input_shape,stft_input_shape,interval_input_shape,wav2_input_shape \u001b[38;5;241m=\u001b[39m \u001b[43mget_features_3lb_all_ord\u001b[49m\u001b[43m(\u001b[49m\u001b[43mtrain_folder\u001b[49m\u001b[43m,\u001b[49m\u001b[43m \u001b[49m\u001b[43mpatient_files_trn\u001b[49m\u001b[43m,\u001b[49m\u001b[43m \u001b[49m\u001b[38;5;241;43m*\u001b[39;49m\u001b[38;5;241;43m*\u001b[39;49m\u001b[43mparams_feature\u001b[49m\u001b[43m)\u001b[49m\n",
      "File \u001b[0;32m~/Documents/hmd/jk_classifier/utils/get_feature.py:390\u001b[0m, in \u001b[0;36mget_features_3lb_all_ord\u001b[0;34m(data_folder, patient_files_trn, po, samp_sec, pre_emphasis, hop_length, win_length, n_mels, filter_scale, n_bins, fmin, trim, use_mel, use_cqt, use_stft, use_raw, use_interval, use_wav2, max_interval_len, maxlen1, min_dist, per_sec)\u001b[0m\n\u001b[1;32m    388\u001b[0m \u001b[38;5;66;03m# Extract melspec\u001b[39;00m\n\u001b[1;32m    389\u001b[0m \u001b[38;5;28;01mif\u001b[39;00m use_mel :\n\u001b[0;32m--> 390\u001b[0m     mel1 \u001b[38;5;241m=\u001b[39m \u001b[43mfeature_extract_melspec\u001b[49m\u001b[43m(\u001b[49m\u001b[43mfilename\u001b[49m\u001b[43m,\u001b[49m\u001b[43m \u001b[49m\u001b[43msamp_sec\u001b[49m\u001b[38;5;241;43m=\u001b[39;49m\u001b[43msamp_sec\u001b[49m\u001b[43m,\u001b[49m\u001b[43m \u001b[49m\u001b[43mpre_emphasis\u001b[49m\u001b[43m \u001b[49m\u001b[38;5;241;43m=\u001b[39;49m\u001b[43m \u001b[49m\u001b[43mpre_emphasis\u001b[49m\u001b[43m,\u001b[49m\u001b[43m \u001b[49m\u001b[43mhop_length\u001b[49m\u001b[38;5;241;43m=\u001b[39;49m\u001b[43mhop_length\u001b[49m\u001b[43m,\u001b[49m\u001b[43m \u001b[49m\n\u001b[1;32m    391\u001b[0m \u001b[43m                                   \u001b[49m\u001b[43mwin_length\u001b[49m\u001b[43m \u001b[49m\u001b[38;5;241;43m=\u001b[39;49m\u001b[43m \u001b[49m\u001b[43mwin_length\u001b[49m\u001b[43m,\u001b[49m\u001b[43m \u001b[49m\u001b[43mn_mels\u001b[49m\u001b[43m \u001b[49m\u001b[38;5;241;43m=\u001b[39;49m\u001b[43m \u001b[49m\u001b[43mn_mels\u001b[49m\u001b[43m,\u001b[49m\u001b[43m \u001b[49m\u001b[43mtrim\u001b[49m\u001b[43m \u001b[49m\u001b[38;5;241;43m=\u001b[39;49m\u001b[43m \u001b[49m\u001b[43mtrim\u001b[49m\u001b[43m)\u001b[49m[\u001b[38;5;241m0\u001b[39m]\n\u001b[1;32m    392\u001b[0m \u001b[38;5;28;01melse\u001b[39;00m :\n\u001b[1;32m    393\u001b[0m     mel1 \u001b[38;5;241m=\u001b[39m np\u001b[38;5;241m.\u001b[39mzeros( (\u001b[38;5;241m1\u001b[39m,\u001b[38;5;241m1\u001b[39m,\u001b[38;5;241m1\u001b[39m) )\n",
      "File \u001b[0;32m~/Documents/hmd/jk_classifier/utils/get_feature.py:22\u001b[0m, in \u001b[0;36mfeature_extract_melspec\u001b[0;34m(fnm, samp_sec, sr, pre_emphasis, hop_length, win_length, n_mels, trim)\u001b[0m\n\u001b[1;32m     19\u001b[0m \u001b[38;5;28;01mdef\u001b[39;00m \u001b[38;5;21mfeature_extract_melspec\u001b[39m(fnm, samp_sec\u001b[38;5;241m=\u001b[39m\u001b[38;5;241m20\u001b[39m, sr \u001b[38;5;241m=\u001b[39m \u001b[38;5;241m4000\u001b[39m, pre_emphasis \u001b[38;5;241m=\u001b[39m \u001b[38;5;241m0\u001b[39m, hop_length\u001b[38;5;241m=\u001b[39m\u001b[38;5;241m256\u001b[39m, win_length \u001b[38;5;241m=\u001b[39m \u001b[38;5;241m512\u001b[39m, n_mels \u001b[38;5;241m=\u001b[39m \u001b[38;5;241m100\u001b[39m, trim \u001b[38;5;241m=\u001b[39m \u001b[38;5;241m0\u001b[39m):\n\u001b[1;32m     21\u001b[0m     \u001b[38;5;28;01mif\u001b[39;00m \u001b[38;5;28misinstance\u001b[39m(fnm, \u001b[38;5;28mstr\u001b[39m) :\n\u001b[0;32m---> 22\u001b[0m         data, sample_rate \u001b[38;5;241m=\u001b[39m \u001b[43mlibrosa\u001b[49m\u001b[38;5;241;43m.\u001b[39;49m\u001b[43mload\u001b[49m\u001b[43m(\u001b[49m\u001b[43mfnm\u001b[49m\u001b[43m,\u001b[49m\u001b[43m \u001b[49m\u001b[43msr\u001b[49m\u001b[43m \u001b[49m\u001b[38;5;241;43m=\u001b[39;49m\u001b[43m \u001b[49m\u001b[43msr\u001b[49m\u001b[43m)\u001b[49m\n\u001b[1;32m     23\u001b[0m         \u001b[38;5;28;01mif\u001b[39;00m trim :\n\u001b[1;32m     24\u001b[0m             data \u001b[38;5;241m=\u001b[39m data[trim:\u001b[38;5;241m-\u001b[39mtrim] \u001b[38;5;241m*\u001b[39m \u001b[38;5;241m1.0\u001b[39m\n",
      "File \u001b[0;32m~/anaconda3/envs/new_env/lib/python3.8/site-packages/librosa/util/decorators.py:88\u001b[0m, in \u001b[0;36mdeprecate_positional_args.<locals>._inner_deprecate_positional_args.<locals>.inner_f\u001b[0;34m(*args, **kwargs)\u001b[0m\n\u001b[1;32m     86\u001b[0m extra_args \u001b[38;5;241m=\u001b[39m \u001b[38;5;28mlen\u001b[39m(args) \u001b[38;5;241m-\u001b[39m \u001b[38;5;28mlen\u001b[39m(all_args)\n\u001b[1;32m     87\u001b[0m \u001b[38;5;28;01mif\u001b[39;00m extra_args \u001b[38;5;241m<\u001b[39m\u001b[38;5;241m=\u001b[39m \u001b[38;5;241m0\u001b[39m:\n\u001b[0;32m---> 88\u001b[0m     \u001b[38;5;28;01mreturn\u001b[39;00m \u001b[43mf\u001b[49m\u001b[43m(\u001b[49m\u001b[38;5;241;43m*\u001b[39;49m\u001b[43margs\u001b[49m\u001b[43m,\u001b[49m\u001b[43m \u001b[49m\u001b[38;5;241;43m*\u001b[39;49m\u001b[38;5;241;43m*\u001b[39;49m\u001b[43mkwargs\u001b[49m\u001b[43m)\u001b[49m\n\u001b[1;32m     90\u001b[0m \u001b[38;5;66;03m# extra_args > 0\u001b[39;00m\n\u001b[1;32m     91\u001b[0m args_msg \u001b[38;5;241m=\u001b[39m [\n\u001b[1;32m     92\u001b[0m     \u001b[38;5;124m\"\u001b[39m\u001b[38;5;132;01m{}\u001b[39;00m\u001b[38;5;124m=\u001b[39m\u001b[38;5;132;01m{}\u001b[39;00m\u001b[38;5;124m\"\u001b[39m\u001b[38;5;241m.\u001b[39mformat(name, arg)\n\u001b[1;32m     93\u001b[0m     \u001b[38;5;28;01mfor\u001b[39;00m name, arg \u001b[38;5;129;01min\u001b[39;00m \u001b[38;5;28mzip\u001b[39m(kwonly_args[:extra_args], args[\u001b[38;5;241m-\u001b[39mextra_args:])\n\u001b[1;32m     94\u001b[0m ]\n",
      "File \u001b[0;32m~/anaconda3/envs/new_env/lib/python3.8/site-packages/librosa/core/audio.py:158\u001b[0m, in \u001b[0;36mload\u001b[0;34m(path, sr, mono, offset, duration, dtype, res_type)\u001b[0m\n\u001b[1;32m     47\u001b[0m \u001b[38;5;129m@deprecate_positional_args\u001b[39m\n\u001b[1;32m     48\u001b[0m \u001b[38;5;28;01mdef\u001b[39;00m \u001b[38;5;21mload\u001b[39m(\n\u001b[1;32m     49\u001b[0m     path,\n\u001b[0;32m   (...)\u001b[0m\n\u001b[1;32m     56\u001b[0m     res_type\u001b[38;5;241m=\u001b[39m\u001b[38;5;124m\"\u001b[39m\u001b[38;5;124mkaiser_best\u001b[39m\u001b[38;5;124m\"\u001b[39m,\n\u001b[1;32m     57\u001b[0m ):\n\u001b[1;32m     58\u001b[0m     \u001b[38;5;124;03m\"\"\"Load an audio file as a floating point time series.\u001b[39;00m\n\u001b[1;32m     59\u001b[0m \n\u001b[1;32m     60\u001b[0m \u001b[38;5;124;03m    Audio will be automatically resampled to the given rate\u001b[39;00m\n\u001b[0;32m   (...)\u001b[0m\n\u001b[1;32m    155\u001b[0m \u001b[38;5;124;03m    >>> y, sr = librosa.load(aro)\u001b[39;00m\n\u001b[1;32m    156\u001b[0m \u001b[38;5;124;03m    \"\"\"\u001b[39;00m\n\u001b[0;32m--> 158\u001b[0m     \u001b[38;5;28;01mif\u001b[39;00m \u001b[38;5;28misinstance\u001b[39m(path, \u001b[38;5;28mtuple\u001b[39m(\u001b[43maudioread\u001b[49m\u001b[38;5;241;43m.\u001b[39;49m\u001b[43mavailable_backends\u001b[49m\u001b[43m(\u001b[49m\u001b[43m)\u001b[49m)):\n\u001b[1;32m    159\u001b[0m         \u001b[38;5;66;03m# Force the audioread loader if we have a reader object already\u001b[39;00m\n\u001b[1;32m    160\u001b[0m         y, sr_native \u001b[38;5;241m=\u001b[39m __audioread_load(path, offset, duration, dtype)\n\u001b[1;32m    161\u001b[0m     \u001b[38;5;28;01melse\u001b[39;00m:\n\u001b[1;32m    162\u001b[0m         \u001b[38;5;66;03m# Otherwise try soundfile first, and then fall back if necessary\u001b[39;00m\n",
      "File \u001b[0;32m~/anaconda3/envs/new_env/lib/python3.8/site-packages/audioread/__init__.py:86\u001b[0m, in \u001b[0;36mavailable_backends\u001b[0;34m()\u001b[0m\n\u001b[1;32m     83\u001b[0m     result\u001b[38;5;241m.\u001b[39mappend(maddec\u001b[38;5;241m.\u001b[39mMadAudioFile)\n\u001b[1;32m     85\u001b[0m \u001b[38;5;66;03m# FFmpeg.\u001b[39;00m\n\u001b[0;32m---> 86\u001b[0m \u001b[38;5;28;01mif\u001b[39;00m \u001b[43mffdec\u001b[49m\u001b[38;5;241;43m.\u001b[39;49m\u001b[43mavailable\u001b[49m\u001b[43m(\u001b[49m\u001b[43m)\u001b[49m:\n\u001b[1;32m     87\u001b[0m     result\u001b[38;5;241m.\u001b[39mappend(ffdec\u001b[38;5;241m.\u001b[39mFFmpegAudioFile)\n\u001b[1;32m     89\u001b[0m \u001b[38;5;28;01mreturn\u001b[39;00m result\n",
      "File \u001b[0;32m~/anaconda3/envs/new_env/lib/python3.8/site-packages/audioread/ffdec.py:105\u001b[0m, in \u001b[0;36mavailable\u001b[0;34m()\u001b[0m\n\u001b[1;32m    102\u001b[0m \u001b[38;5;124;03m\"\"\"Detect whether the FFmpeg backend can be used on this system.\u001b[39;00m\n\u001b[1;32m    103\u001b[0m \u001b[38;5;124;03m\"\"\"\u001b[39;00m\n\u001b[1;32m    104\u001b[0m \u001b[38;5;28;01mtry\u001b[39;00m:\n\u001b[0;32m--> 105\u001b[0m     proc \u001b[38;5;241m=\u001b[39m \u001b[43mpopen_multiple\u001b[49m\u001b[43m(\u001b[49m\n\u001b[1;32m    106\u001b[0m \u001b[43m        \u001b[49m\u001b[43mCOMMANDS\u001b[49m\u001b[43m,\u001b[49m\n\u001b[1;32m    107\u001b[0m \u001b[43m        \u001b[49m\u001b[43m[\u001b[49m\u001b[38;5;124;43m'\u001b[39;49m\u001b[38;5;124;43m-version\u001b[39;49m\u001b[38;5;124;43m'\u001b[39;49m\u001b[43m]\u001b[49m\u001b[43m,\u001b[49m\n\u001b[1;32m    108\u001b[0m \u001b[43m        \u001b[49m\u001b[43mstdout\u001b[49m\u001b[38;5;241;43m=\u001b[39;49m\u001b[43msubprocess\u001b[49m\u001b[38;5;241;43m.\u001b[39;49m\u001b[43mPIPE\u001b[49m\u001b[43m,\u001b[49m\n\u001b[1;32m    109\u001b[0m \u001b[43m        \u001b[49m\u001b[43mstderr\u001b[49m\u001b[38;5;241;43m=\u001b[39;49m\u001b[43msubprocess\u001b[49m\u001b[38;5;241;43m.\u001b[39;49m\u001b[43mPIPE\u001b[49m\u001b[43m,\u001b[49m\n\u001b[1;32m    110\u001b[0m \u001b[43m        \u001b[49m\u001b[43mcreationflags\u001b[49m\u001b[38;5;241;43m=\u001b[39;49m\u001b[43mPROC_FLAGS\u001b[49m\u001b[43m,\u001b[49m\n\u001b[1;32m    111\u001b[0m \u001b[43m    \u001b[49m\u001b[43m)\u001b[49m\n\u001b[1;32m    112\u001b[0m \u001b[38;5;28;01mexcept\u001b[39;00m \u001b[38;5;167;01mOSError\u001b[39;00m:\n\u001b[1;32m    113\u001b[0m     \u001b[38;5;28;01mreturn\u001b[39;00m \u001b[38;5;28;01mFalse\u001b[39;00m\n",
      "File \u001b[0;32m~/anaconda3/envs/new_env/lib/python3.8/site-packages/audioread/ffdec.py:94\u001b[0m, in \u001b[0;36mpopen_multiple\u001b[0;34m(commands, command_args, *args, **kwargs)\u001b[0m\n\u001b[1;32m     92\u001b[0m cmd \u001b[38;5;241m=\u001b[39m [command] \u001b[38;5;241m+\u001b[39m command_args\n\u001b[1;32m     93\u001b[0m \u001b[38;5;28;01mtry\u001b[39;00m:\n\u001b[0;32m---> 94\u001b[0m     \u001b[38;5;28;01mreturn\u001b[39;00m \u001b[43msubprocess\u001b[49m\u001b[38;5;241;43m.\u001b[39;49m\u001b[43mPopen\u001b[49m\u001b[43m(\u001b[49m\u001b[43mcmd\u001b[49m\u001b[43m,\u001b[49m\u001b[43m \u001b[49m\u001b[38;5;241;43m*\u001b[39;49m\u001b[43margs\u001b[49m\u001b[43m,\u001b[49m\u001b[43m \u001b[49m\u001b[38;5;241;43m*\u001b[39;49m\u001b[38;5;241;43m*\u001b[39;49m\u001b[43mkwargs\u001b[49m\u001b[43m)\u001b[49m\n\u001b[1;32m     95\u001b[0m \u001b[38;5;28;01mexcept\u001b[39;00m \u001b[38;5;167;01mOSError\u001b[39;00m:\n\u001b[1;32m     96\u001b[0m     \u001b[38;5;28;01mif\u001b[39;00m i \u001b[38;5;241m==\u001b[39m \u001b[38;5;28mlen\u001b[39m(commands) \u001b[38;5;241m-\u001b[39m \u001b[38;5;241m1\u001b[39m:\n\u001b[1;32m     97\u001b[0m         \u001b[38;5;66;03m# No more commands to try.\u001b[39;00m\n",
      "File \u001b[0;32m~/anaconda3/envs/new_env/lib/python3.8/subprocess.py:858\u001b[0m, in \u001b[0;36mPopen.__init__\u001b[0;34m(self, args, bufsize, executable, stdin, stdout, stderr, preexec_fn, close_fds, shell, cwd, env, universal_newlines, startupinfo, creationflags, restore_signals, start_new_session, pass_fds, encoding, errors, text)\u001b[0m\n\u001b[1;32m    854\u001b[0m         \u001b[38;5;28;01mif\u001b[39;00m \u001b[38;5;28mself\u001b[39m\u001b[38;5;241m.\u001b[39mtext_mode:\n\u001b[1;32m    855\u001b[0m             \u001b[38;5;28mself\u001b[39m\u001b[38;5;241m.\u001b[39mstderr \u001b[38;5;241m=\u001b[39m io\u001b[38;5;241m.\u001b[39mTextIOWrapper(\u001b[38;5;28mself\u001b[39m\u001b[38;5;241m.\u001b[39mstderr,\n\u001b[1;32m    856\u001b[0m                     encoding\u001b[38;5;241m=\u001b[39mencoding, errors\u001b[38;5;241m=\u001b[39merrors)\n\u001b[0;32m--> 858\u001b[0m     \u001b[38;5;28;43mself\u001b[39;49m\u001b[38;5;241;43m.\u001b[39;49m\u001b[43m_execute_child\u001b[49m\u001b[43m(\u001b[49m\u001b[43margs\u001b[49m\u001b[43m,\u001b[49m\u001b[43m \u001b[49m\u001b[43mexecutable\u001b[49m\u001b[43m,\u001b[49m\u001b[43m \u001b[49m\u001b[43mpreexec_fn\u001b[49m\u001b[43m,\u001b[49m\u001b[43m \u001b[49m\u001b[43mclose_fds\u001b[49m\u001b[43m,\u001b[49m\n\u001b[1;32m    859\u001b[0m \u001b[43m                        \u001b[49m\u001b[43mpass_fds\u001b[49m\u001b[43m,\u001b[49m\u001b[43m \u001b[49m\u001b[43mcwd\u001b[49m\u001b[43m,\u001b[49m\u001b[43m \u001b[49m\u001b[43menv\u001b[49m\u001b[43m,\u001b[49m\n\u001b[1;32m    860\u001b[0m \u001b[43m                        \u001b[49m\u001b[43mstartupinfo\u001b[49m\u001b[43m,\u001b[49m\u001b[43m \u001b[49m\u001b[43mcreationflags\u001b[49m\u001b[43m,\u001b[49m\u001b[43m \u001b[49m\u001b[43mshell\u001b[49m\u001b[43m,\u001b[49m\n\u001b[1;32m    861\u001b[0m \u001b[43m                        \u001b[49m\u001b[43mp2cread\u001b[49m\u001b[43m,\u001b[49m\u001b[43m \u001b[49m\u001b[43mp2cwrite\u001b[49m\u001b[43m,\u001b[49m\n\u001b[1;32m    862\u001b[0m \u001b[43m                        \u001b[49m\u001b[43mc2pread\u001b[49m\u001b[43m,\u001b[49m\u001b[43m \u001b[49m\u001b[43mc2pwrite\u001b[49m\u001b[43m,\u001b[49m\n\u001b[1;32m    863\u001b[0m \u001b[43m                        \u001b[49m\u001b[43merrread\u001b[49m\u001b[43m,\u001b[49m\u001b[43m \u001b[49m\u001b[43merrwrite\u001b[49m\u001b[43m,\u001b[49m\n\u001b[1;32m    864\u001b[0m \u001b[43m                        \u001b[49m\u001b[43mrestore_signals\u001b[49m\u001b[43m,\u001b[49m\u001b[43m \u001b[49m\u001b[43mstart_new_session\u001b[49m\u001b[43m)\u001b[49m\n\u001b[1;32m    865\u001b[0m \u001b[38;5;28;01mexcept\u001b[39;00m:\n\u001b[1;32m    866\u001b[0m     \u001b[38;5;66;03m# Cleanup if the child failed starting.\u001b[39;00m\n\u001b[1;32m    867\u001b[0m     \u001b[38;5;28;01mfor\u001b[39;00m f \u001b[38;5;129;01min\u001b[39;00m \u001b[38;5;28mfilter\u001b[39m(\u001b[38;5;28;01mNone\u001b[39;00m, (\u001b[38;5;28mself\u001b[39m\u001b[38;5;241m.\u001b[39mstdin, \u001b[38;5;28mself\u001b[39m\u001b[38;5;241m.\u001b[39mstdout, \u001b[38;5;28mself\u001b[39m\u001b[38;5;241m.\u001b[39mstderr)):\n",
      "File \u001b[0;32m~/anaconda3/envs/new_env/lib/python3.8/subprocess.py:1660\u001b[0m, in \u001b[0;36mPopen._execute_child\u001b[0;34m(self, args, executable, preexec_fn, close_fds, pass_fds, cwd, env, startupinfo, creationflags, shell, p2cread, p2cwrite, c2pread, c2pwrite, errread, errwrite, restore_signals, start_new_session)\u001b[0m\n\u001b[1;32m   1658\u001b[0m errpipe_data \u001b[38;5;241m=\u001b[39m \u001b[38;5;28mbytearray\u001b[39m()\n\u001b[1;32m   1659\u001b[0m \u001b[38;5;28;01mwhile\u001b[39;00m \u001b[38;5;28;01mTrue\u001b[39;00m:\n\u001b[0;32m-> 1660\u001b[0m     part \u001b[38;5;241m=\u001b[39m \u001b[43mos\u001b[49m\u001b[38;5;241;43m.\u001b[39;49m\u001b[43mread\u001b[49m\u001b[43m(\u001b[49m\u001b[43merrpipe_read\u001b[49m\u001b[43m,\u001b[49m\u001b[43m \u001b[49m\u001b[38;5;241;43m50000\u001b[39;49m\u001b[43m)\u001b[49m\n\u001b[1;32m   1661\u001b[0m     errpipe_data \u001b[38;5;241m+\u001b[39m\u001b[38;5;241m=\u001b[39m part\n\u001b[1;32m   1662\u001b[0m     \u001b[38;5;28;01mif\u001b[39;00m \u001b[38;5;129;01mnot\u001b[39;00m part \u001b[38;5;129;01mor\u001b[39;00m \u001b[38;5;28mlen\u001b[39m(errpipe_data) \u001b[38;5;241m>\u001b[39m \u001b[38;5;241m50000\u001b[39m:\n",
      "\u001b[0;31mKeyboardInterrupt\u001b[0m: "
     ]
    }
   ],
   "source": [
    "features_trn, mel_input_shape, cqt_input_shape,stft_input_shape,interval_input_shape,wav2_input_shape = get_features_3lb_all_ord(train_folder, patient_files_trn, **params_feature)\n"
   ]
  },
  {
   "cell_type": "code",
   "execution_count": null,
   "id": "b04d2593",
   "metadata": {},
   "outputs": [],
   "source": [
    "features_test, mel_input_shape, cqt_input_shape,stft_input_shape,interval_input_shape,wav2_input_shape= get_features_3lb_all_ord(test_folder, patient_files_test, **params_feature)"
   ]
  },
  {
   "cell_type": "code",
   "execution_count": null,
   "id": "d84f0572",
   "metadata": {},
   "outputs": [],
   "source": []
  },
  {
   "cell_type": "code",
   "execution_count": null,
   "id": "dfb81339",
   "metadata": {},
   "outputs": [],
   "source": []
  },
  {
   "cell_type": "code",
   "execution_count": null,
   "id": "9f22885e",
   "metadata": {},
   "outputs": [],
   "source": []
  },
  {
   "cell_type": "code",
   "execution_count": 13,
   "id": "c05f1a96",
   "metadata": {},
   "outputs": [],
   "source": [
    "mm_weight = 3 #np.random.choice([2,3,4,5])\n",
    "oo_weight = 3 #np.random.choice([2,3,4,5,6])\n",
    "ord1 = True #np.random.choice([True,False])\n",
    "mm_mean = False #np.random.choice([True,False])\n",
    "dp = 0 #np.random.choice([0, .1, .2, .3])\n",
    "fc = False #np.random.choice([True,False])\n",
    "ext = True\n",
    "chaug = 10 #np.random.choice([0, 10])\n",
    "mixup = True #np.random.choice([True,False])\n",
    "cout = .8 #np.random.choice([0, 0.8])\n",
    "wunknown = 1 #np.random.choice([1, 0.7, .5, .2])\n",
    "n1 = 0 #np.random.choice([0,2])\n",
    "if n1 == 0 :\n",
    "    ranfil = False\n",
    "else :\n",
    "    ranfil = [n1, [18,19,20,21,22,23]]"
   ]
  },
  {
   "cell_type": "code",
   "execution_count": 14,
   "id": "9fe819a9",
   "metadata": {},
   "outputs": [],
   "source": [
    "params_feature['ord1'] = ord1\n",
    "params_feature['mm_mean'] = mm_mean\n",
    "params_feature['dp'] = dp\n",
    "params_feature['fc'] = fc\n",
    "params_feature['ext'] = ext\n",
    "params_feature['oo_weight'] = oo_weight\n",
    "params_feature['mm_weight'] = mm_weight\n",
    "params_feature['chaug'] = chaug\n",
    "params_feature['cout'] = cout\n",
    "params_feature['wunknown'] = wunknown\n",
    "params_feature['mixup'] = mixup\n",
    "params_feature['n1'] = n1"
   ]
  },
  {
   "cell_type": "code",
   "execution_count": 15,
   "id": "12a59049",
   "metadata": {},
   "outputs": [
    {
     "data": {
      "text/plain": [
       "{'samp_sec': 20,\n",
       " 'pre_emphasis': 0,\n",
       " 'hop_length': 256,\n",
       " 'win_length': 512,\n",
       " 'n_mels': 120,\n",
       " 'filter_scale': 1,\n",
       " 'n_bins': 80,\n",
       " 'fmin': 10,\n",
       " 'maxlen1': 120000,\n",
       " 'min_dist': 500,\n",
       " 'max_interval_len': 185,\n",
       " 'trim': 1,\n",
       " 'use_mel': True,\n",
       " 'use_cqt': False,\n",
       " 'use_stft': False,\n",
       " 'use_interval': True,\n",
       " 'use_wav2': True,\n",
       " 'per_sec': 12000,\n",
       " 'ord1': True,\n",
       " 'mm_mean': False,\n",
       " 'dp': 0,\n",
       " 'fc': False,\n",
       " 'ext': True,\n",
       " 'oo_weight': 3,\n",
       " 'mm_weight': 3,\n",
       " 'chaug': 10,\n",
       " 'cout': 0.8,\n",
       " 'wunknown': 1,\n",
       " 'mixup': True,\n",
       " 'n1': 0}"
      ]
     },
     "execution_count": 15,
     "metadata": {},
     "output_type": "execute_result"
    }
   ],
   "source": [
    "params_feature"
   ]
  },
  {
   "cell_type": "code",
   "execution_count": null,
   "id": "17cd191d",
   "metadata": {},
   "outputs": [],
   "source": []
  },
  {
   "cell_type": "code",
   "execution_count": null,
   "id": "24434998",
   "metadata": {},
   "outputs": [],
   "source": []
  },
  {
   "cell_type": "code",
   "execution_count": null,
   "id": "ee510fdf",
   "metadata": {},
   "outputs": [],
   "source": []
  },
  {
   "cell_type": "code",
   "execution_count": null,
   "id": "dd6457f0",
   "metadata": {},
   "outputs": [],
   "source": []
  },
  {
   "cell_type": "code",
   "execution_count": 23,
   "id": "8b2ff2db",
   "metadata": {
    "scrolled": true
   },
   "outputs": [],
   "source": [
    "with open('/home/jk21/Downloads/Data/features_trn_3sec.pickle', 'wb') as f:\n",
    "    pickle.dump(features_trn, f, pickle.HIGHEST_PROTOCOL)"
   ]
  },
  {
   "cell_type": "code",
   "execution_count": 24,
   "id": "b9f7179a",
   "metadata": {
    "scrolled": true
   },
   "outputs": [],
   "source": [
    "with open('/home/jk21/Downloads/Data/features_test_3sec.pickle', 'wb') as f:\n",
    "    pickle.dump(features_test, f, pickle.HIGHEST_PROTOCOL)"
   ]
  },
  {
   "cell_type": "code",
   "execution_count": null,
   "id": "1499b589",
   "metadata": {},
   "outputs": [],
   "source": []
  },
  {
   "cell_type": "code",
   "execution_count": 25,
   "id": "79f59c5e",
   "metadata": {
    "scrolled": true
   },
   "outputs": [],
   "source": [
    "with open('/home/jk21/Downloads/Data/features_trn_3sec.pickle', 'rb') as f:\n",
    "    features_trn = pickle.load(f)"
   ]
  },
  {
   "cell_type": "code",
   "execution_count": 26,
   "id": "dd412feb",
   "metadata": {},
   "outputs": [],
   "source": [
    "with open('/home/jk21/Downloads/Data/features_test_3sec.pickle', 'rb') as f:\n",
    "    features_test = pickle.load(f)"
   ]
  },
  {
   "cell_type": "code",
   "execution_count": null,
   "id": "ce54ddee",
   "metadata": {},
   "outputs": [],
   "source": []
  },
  {
   "cell_type": "code",
   "execution_count": null,
   "id": "701b3722",
   "metadata": {},
   "outputs": [],
   "source": []
  },
  {
   "cell_type": "code",
   "execution_count": null,
   "id": "400ceb7b",
   "metadata": {},
   "outputs": [],
   "source": []
  },
  {
   "cell_type": "code",
   "execution_count": 17,
   "id": "ce38e56d",
   "metadata": {},
   "outputs": [],
   "source": [
    "from skimage.transform import resize\n",
    "import matplotlib.pyplot as plt"
   ]
  },
  {
   "cell_type": "code",
   "execution_count": 18,
   "id": "48ced533",
   "metadata": {
    "scrolled": true
   },
   "outputs": [],
   "source": [
    "tmp_wav2 = np.zeros((2532,32,374,1))\n",
    "for i in range(len(features_trn['wav2'])):\n",
    "    test_ary=features_trn['wav2'][i]\n",
    "    res = resize(test_ary, (32,374,1))\n",
    "    tmp_wav2[i]=res\n",
    "    "
   ]
  },
  {
   "cell_type": "code",
   "execution_count": 19,
   "id": "5c97584d",
   "metadata": {},
   "outputs": [],
   "source": [
    "features_trn['wav2'] = tmp_wav2"
   ]
  },
  {
   "cell_type": "code",
   "execution_count": 25,
   "id": "0d02ec74",
   "metadata": {},
   "outputs": [
    {
     "data": {
      "text/plain": [
       "<matplotlib.image.AxesImage at 0x7ff7442acd60>"
      ]
     },
     "execution_count": 25,
     "metadata": {},
     "output_type": "execute_result"
    },
    {
     "data": {
      "image/png": "[encoded data removed]",
      "text/plain": [
       "<Figure size 432x288 with 1 Axes>"
      ]
     },
     "metadata": {
      "needs_background": "light"
     },
     "output_type": "display_data"
    }
   ],
   "source": [
    "plt.imshow(features_trn['wav2'][30])"
   ]
  },
  {
   "cell_type": "code",
   "execution_count": null,
   "id": "8638d675",
   "metadata": {},
   "outputs": [],
   "source": []
  },
  {
   "cell_type": "code",
   "execution_count": null,
   "id": "101f5b1f",
   "metadata": {},
   "outputs": [],
   "source": []
  },
  {
   "cell_type": "code",
   "execution_count": 20,
   "id": "31a6445a",
   "metadata": {},
   "outputs": [],
   "source": [
    "tmp_wav2 = np.zeros((631,32,374,1))\n",
    "for i in range(len(features_test['wav2'])):\n",
    "    test_ary=features_test['wav2'][i]\n",
    "    res = resize(test_ary, (32,374,1))\n",
    "    tmp_wav2[i]=res"
   ]
  },
  {
   "cell_type": "code",
   "execution_count": 21,
   "id": "84a44f20",
   "metadata": {},
   "outputs": [],
   "source": [
    "features_test['wav2'] = tmp_wav2"
   ]
  },
  {
   "cell_type": "code",
   "execution_count": null,
   "id": "1201ed90",
   "metadata": {},
   "outputs": [],
   "source": []
  },
  {
   "cell_type": "code",
   "execution_count": null,
   "id": "f5eacb33",
   "metadata": {},
   "outputs": [],
   "source": []
  },
  {
   "cell_type": "code",
   "execution_count": 22,
   "id": "460de784",
   "metadata": {},
   "outputs": [],
   "source": [
    "mel_input_shape = features_trn['mel1'].shape[1:]"
   ]
  },
  {
   "cell_type": "code",
   "execution_count": 23,
   "id": "5d0291cb",
   "metadata": {},
   "outputs": [
    {
     "data": {
      "text/plain": [
       "(120, 313, 1)"
      ]
     },
     "execution_count": 23,
     "metadata": {},
     "output_type": "execute_result"
    }
   ],
   "source": [
    "mel_input_shape"
   ]
  },
  {
   "cell_type": "code",
   "execution_count": 24,
   "id": "ec06d09a",
   "metadata": {},
   "outputs": [],
   "source": [
    "cqt_input_shape = features_trn['cqt1'].shape[1:]"
   ]
  },
  {
   "cell_type": "code",
   "execution_count": 25,
   "id": "31599947",
   "metadata": {},
   "outputs": [
    {
     "data": {
      "text/plain": [
       "(1, 1, 1)"
      ]
     },
     "execution_count": 25,
     "metadata": {},
     "output_type": "execute_result"
    }
   ],
   "source": [
    "cqt_input_shape"
   ]
  },
  {
   "cell_type": "code",
   "execution_count": 26,
   "id": "861213a4",
   "metadata": {},
   "outputs": [],
   "source": [
    "stft_input_shape = features_trn['stft1'].shape[1:]"
   ]
  },
  {
   "cell_type": "code",
   "execution_count": 27,
   "id": "6e151a70",
   "metadata": {},
   "outputs": [
    {
     "data": {
      "text/plain": [
       "(1, 1, 1)"
      ]
     },
     "execution_count": 27,
     "metadata": {},
     "output_type": "execute_result"
    }
   ],
   "source": [
    "stft_input_shape"
   ]
  },
  {
   "cell_type": "code",
   "execution_count": 28,
   "id": "0b7eb1dd",
   "metadata": {},
   "outputs": [],
   "source": [
    "interval_input_shape= features_trn['interval'].shape[1:]"
   ]
  },
  {
   "cell_type": "code",
   "execution_count": 29,
   "id": "6c31f94d",
   "metadata": {
    "scrolled": true
   },
   "outputs": [
    {
     "data": {
      "text/plain": [
       "(115, 1)"
      ]
     },
     "execution_count": 29,
     "metadata": {},
     "output_type": "execute_result"
    }
   ],
   "source": [
    "interval_input_shape"
   ]
  },
  {
   "cell_type": "code",
   "execution_count": 30,
   "id": "c26d851e",
   "metadata": {},
   "outputs": [],
   "source": [
    "wav2_input_shape= features_trn['wav2'].shape[1:]"
   ]
  },
  {
   "cell_type": "code",
   "execution_count": 31,
   "id": "7553a46c",
   "metadata": {},
   "outputs": [
    {
     "data": {
      "text/plain": [
       "(32, 374, 1)"
      ]
     },
     "execution_count": 31,
     "metadata": {},
     "output_type": "execute_result"
    }
   ],
   "source": [
    "wav2_input_shape"
   ]
  },
  {
   "cell_type": "code",
   "execution_count": 32,
   "id": "a5be4116",
   "metadata": {},
   "outputs": [],
   "source": [
    "for i in range(len(features_trn['interval'])):\n",
    "    features_trn['interval'][i]=np.array(features_trn['interval'][i])"
   ]
  },
  {
   "cell_type": "code",
   "execution_count": 33,
   "id": "7e660a58",
   "metadata": {},
   "outputs": [],
   "source": [
    "for i in range(len(features_trn['mel1'])):\n",
    "    features_trn['mel1'][i]=np.array(features_trn['mel1'][i])"
   ]
  },
  {
   "cell_type": "code",
   "execution_count": null,
   "id": "3be3098d",
   "metadata": {},
   "outputs": [],
   "source": []
  },
  {
   "cell_type": "code",
   "execution_count": 34,
   "id": "b1d5fa41",
   "metadata": {},
   "outputs": [],
   "source": [
    "def get_LCNN_o_4_dr_1(mel_input_shape, cqt_input_shape, stft_input_shape,interval_input_shape,wav2_input_shape,use_mel = True, use_cqt = True, use_stft = True, ord1 = True, dp = .5, fc = False, ext = False):\n",
    "        # Create a towy model.\n",
    "    age = keras.Input(shape=(6,), name = 'age_cat')\n",
    "    sex = keras.Input(shape=(2,), name = 'sex_cat')\n",
    "    hw = keras.Input(shape=(2,), name = 'height_weight')\n",
    "    preg = keras.Input(shape=(1,), name = 'is_preg')\n",
    "    loc = keras.Input(shape=(5,), name = 'loc')\n",
    "    interval = keras.Input(shape=interval_input_shape, name = 'interval')\n",
    "#     wav2 = keras.Input(shape=wav2_input_shape, name = 'wav2')\n",
    "    mel1 = keras.Input(shape=mel_input_shape, name = 'mel')\n",
    "    cqt1 = keras.Input(shape=cqt_input_shape, name = 'cqt')\n",
    "    stft1 = keras.Input(shape=stft_input_shape, name = 'stft')\n",
    "        \n",
    "    ## age embeddig\n",
    "    age1 = layers.Dense(2, activation = None)(age)\n",
    "\n",
    "    ## sex embedding\n",
    "    sex1 = layers.Dense(1, activation = None)(sex)\n",
    "\n",
    "    ## hw embedding\n",
    "    hw1 = layers.Dense(1, activation = None)(hw)\n",
    "\n",
    "    ## loc embedding\n",
    "    loc1 = layers.Dense(3, activation = None)(loc)\n",
    "    \n",
    "    ## interval embedding\n",
    "    \n",
    "#     interval1 = tf.keras.layers.LSTM(20,return_sequences=True,use_bias=True, \n",
    "#                                 dropout=0.1,recurrent_dropout=0.05)(interval)\n",
    "#     interval1 = tf.keras.layers.LSTM(15,return_sequences=False,use_bias=True, dropout=0.3,\n",
    "#                                 recurrent_dropout=0.05)(interval1)\n",
    "#     interval1 = layers.Dense(15, activation='relu')(interval1)\n",
    "#     interval1 = tf.keras.layers.Conv1D(20, 3, activation='relu')(interval)\n",
    "#     interval1 = tf.keras.layers.Conv1D(10, 3, activation='relu')(interval1)\n",
    "#     interval1 = tf.keras.layers.GlobalAveragePooling1D()(interval1)\n",
    "\n",
    "    \n",
    "#     interval1 = tf.keras.layers.Conv1D(9, 3, activation='relu')(interval)\n",
    "#     interval1 = tf.keras.layers.Conv1D(9, 3, activation='relu')(interval1)\n",
    "#     interval1 = tf.keras.layers.Conv1D(7, 3, activation='relu')(interval1)\n",
    "#     interval1 = tf.keras.layers.Conv1D(7, 3, activation='relu')(interval1)\n",
    "#     interval1 = tf.keras.layers.GlobalAveragePooling1D()(interval1)\n",
    "#     interval1 = layers.Dense(3, activation='relu')(interval1)\n",
    "\n",
    "\n",
    "\n",
    "\n",
    "    interval1 = tf.keras.layers.Conv1D(9, 2, padding=\"causal\",activation='relu',dilation_rate=1)(interval)\n",
    "    interval1 = tf.keras.layers.Conv1D(9, 2, padding=\"causal\",activation='relu',dilation_rate=2)(interval1)\n",
    "    interval1 = tf.keras.layers.Conv1D(9, 2, padding=\"causal\",activation='relu',dilation_rate=4)(interval1)\n",
    "    interval1 = tf.keras.layers.Conv1D(9, 2, padding=\"causal\",activation='relu',dilation_rate=8)(interval1)\n",
    "    interval1 = tf.keras.layers.Conv1D(9, 2, padding=\"causal\",activation='relu',dilation_rate=16)(interval1)\n",
    "    interval1 = tf.keras.layers.Conv1D(9, 2, padding=\"causal\",activation='relu',dilation_rate=32)(interval1)\n",
    "    interval1 = tf.keras.layers.Conv1D(9, 2, padding=\"causal\",activation='relu',dilation_rate=64)(interval1)\n",
    "    interval1 = tf.keras.layers.Conv1D(9, 2, padding=\"causal\",activation='relu',dilation_rate=128)(interval1)\n",
    "    interval1 = tf.keras.layers.Conv1D(9, 2, padding=\"causal\",activation='relu',dilation_rate=256)(interval1)\n",
    "    interval1 = tf.keras.layers.Conv1D(9, 2, padding=\"causal\",activation='relu',dilation_rate=512)(interval1)\n",
    "\n",
    "\n",
    "    interval1 = tf.keras.layers.Conv1D(9, 2, padding=\"causal\",activation='relu',dilation_rate=1)(interval1)\n",
    "    interval1 = tf.keras.layers.Conv1D(9, 2, padding=\"causal\",activation='relu',dilation_rate=2)(interval1)\n",
    "    interval1 = tf.keras.layers.Conv1D(9, 2, padding=\"causal\",activation='relu',dilation_rate=4)(interval1)\n",
    "    interval1 = tf.keras.layers.Conv1D(9, 2, padding=\"causal\",activation='relu',dilation_rate=8)(interval1)\n",
    "    interval1 = tf.keras.layers.Conv1D(9, 2, padding=\"causal\",activation='relu',dilation_rate=16)(interval1)\n",
    "    interval1 = tf.keras.layers.Conv1D(9, 2, padding=\"causal\",activation='relu',dilation_rate=32)(interval1)\n",
    "    interval1 = tf.keras.layers.Conv1D(9, 2, padding=\"causal\",activation='relu',dilation_rate=64)(interval1)\n",
    "    interval1 = tf.keras.layers.Conv1D(9, 2, padding=\"causal\",activation='relu',dilation_rate=128)(interval1)\n",
    "    interval1 = tf.keras.layers.Conv1D(9, 2, padding=\"causal\",activation='relu',dilation_rate=256)(interval1)\n",
    "    interval1 = tf.keras.layers.Conv1D(9, 2, padding=\"causal\",activation='relu',dilation_rate=512)(interval1)\n",
    "  \n",
    "\n",
    "    interval1 = tf.keras.layers.Conv1D(9, 2, padding=\"causal\",activation='relu',dilation_rate=1)(interval1)\n",
    "    interval1 = tf.keras.layers.Conv1D(9, 2, padding=\"causal\",activation='relu',dilation_rate=2)(interval1)\n",
    "    interval1 = tf.keras.layers.Conv1D(9, 2, padding=\"causal\",activation='relu',dilation_rate=4)(interval1)\n",
    "    interval1 = tf.keras.layers.Conv1D(9, 2, padding=\"causal\",activation='relu',dilation_rate=8)(interval1)\n",
    "    interval1 = tf.keras.layers.Conv1D(9, 2, padding=\"causal\",activation='relu',dilation_rate=16)(interval1)\n",
    "    interval1 = tf.keras.layers.Conv1D(9, 2, padding=\"causal\",activation='relu',dilation_rate=32)(interval1)\n",
    "    interval1 = tf.keras.layers.Conv1D(9, 2, padding=\"causal\",activation='relu',dilation_rate=64)(interval1)\n",
    "    interval1 = tf.keras.layers.Conv1D(9, 2, padding=\"causal\",activation='relu',dilation_rate=128)(interval1)\n",
    "    interval1 = tf.keras.layers.Conv1D(9, 2, padding=\"causal\",activation='relu',dilation_rate=256)(interval1)\n",
    "    interval1 = tf.keras.layers.Conv1D(9, 2, padding=\"causal\",activation='relu',dilation_rate=512)(interval1)\n",
    "\n",
    "    \n",
    "    interval1 = tf.keras.layers.GlobalMaxPooling1D()(interval1)\n",
    "    \n",
    "    ## wav2 embedding\n",
    "    \n",
    "    \n",
    "    #1))))\n",
    "    \n",
    "#     wav2_1 = tf.keras.layers.Conv1D(9, 3, activation='relu')(wav2)\n",
    "#     wav2_1 = tf.keras.layers.Conv1D(9, 3, activation='relu')(wav2_1)\n",
    "#     wav2_1 = tf.keras.layers.Conv1D(7, 3, activation='relu')(wav2_1)\n",
    "#     wav2_1 = tf.keras.layers.Conv1D(7, 3, activation='relu')(wav2_1)\n",
    "#     wav2_1 = tf.keras.layers.GlobalAveragePooling1D()(wav2_1)\n",
    "#     wav2_1 = layers.Dense(3, activation='relu')(wav2_1)\n",
    "\n",
    "    #2))))\n",
    "    \n",
    "#     wav2_1 = tf.keras.layers.Conv1D(9, 2, padding=\"causal\",activation='relu',dilation_rate=1)(wav2)\n",
    "#     wav2_1 = tf.keras.layers.Conv1D(9, 2, padding=\"causal\",activation='relu',dilation_rate=2)(wav2_1)\n",
    "#     wav2_1 = tf.keras.layers.Conv1D(9, 2, padding=\"causal\",activation='relu',dilation_rate=4)(wav2_1)\n",
    "#     wav2_1 = tf.keras.layers.Conv1D(9, 2, padding=\"causal\",activation='relu',dilation_rate=8)(wav2_1)\n",
    "#     wav2_1 = tf.keras.layers.Conv1D(9, 2, padding=\"causal\",activation='relu',dilation_rate=16)(wav2_1)\n",
    "#     wav2_1 = tf.keras.layers.Conv1D(9, 2, padding=\"causal\",activation='relu',dilation_rate=32)(wav2_1)\n",
    "#     wav2_1 = tf.keras.layers.Conv1D(9, 2, padding=\"causal\",activation='relu',dilation_rate=64)(wav2_1)\n",
    "#     wav2_1 = tf.keras.layers.Conv1D(9, 2, padding=\"causal\",activation='relu',dilation_rate=128)(wav2_1)\n",
    "#     wav2_1 = tf.keras.layers.Conv1D(9, 2, padding=\"causal\",activation='relu',dilation_rate=256)(wav2_1)\n",
    "#     wav2_1 = tf.keras.layers.Conv1D(9, 2, padding=\"causal\",activation='relu',dilation_rate=512)(wav2_1)\n",
    "#     wav2_1 = tf.keras.layers.Conv1D(9, 2, padding=\"causal\",activation='relu',dilation_rate=1024)(wav2_1)\n",
    "\n",
    "#     wav2_1 = tf.keras.layers.Conv1D(9, 2, padding=\"causal\",activation='relu',dilation_rate=1)(wav2_1)\n",
    "#     wav2_1 = tf.keras.layers.Conv1D(9, 2, padding=\"causal\",activation='relu',dilation_rate=2)(wav2_1)\n",
    "#     wav2_1 = tf.keras.layers.Conv1D(9, 2, padding=\"causal\",activation='relu',dilation_rate=4)(wav2_1)\n",
    "#     wav2_1 = tf.keras.layers.Conv1D(9, 2, padding=\"causal\",activation='relu',dilation_rate=8)(wav2_1)\n",
    "#     wav2_1 = tf.keras.layers.Conv1D(9, 2, padding=\"causal\",activation='relu',dilation_rate=16)(wav2_1)\n",
    "#     wav2_1 = tf.keras.layers.Conv1D(9, 2, padding=\"causal\",activation='relu',dilation_rate=32)(wav2_1)\n",
    "#     wav2_1 = tf.keras.layers.Conv1D(9, 2, padding=\"causal\",activation='relu',dilation_rate=64)(wav2_1)\n",
    "#     wav2_1 = tf.keras.layers.Conv1D(9, 2, padding=\"causal\",activation='relu',dilation_rate=128)(wav2_1)\n",
    "#     wav2_1 = tf.keras.layers.Conv1D(9, 2, padding=\"causal\",activation='relu',dilation_rate=256)(wav2_1)\n",
    "#     wav2_1 = tf.keras.layers.Conv1D(9, 2, padding=\"causal\",activation='relu',dilation_rate=512)(wav2_1)\n",
    "#     wav2_1 = tf.keras.layers.Conv1D(9, 2, padding=\"causal\",activation='relu',dilation_rate=1024)(wav2_1)\n",
    "    \n",
    "#     wav2_1 = tf.keras.layers.Conv1D(9, 2, padding=\"causal\",activation='relu',dilation_rate=1)(wav2_1)\n",
    "#     wav2_1 = tf.keras.layers.Conv1D(9, 2, padding=\"causal\",activation='relu',dilation_rate=2)(wav2_1)\n",
    "#     wav2_1 = tf.keras.layers.Conv1D(9, 2, padding=\"causal\",activation='relu',dilation_rate=4)(wav2_1)\n",
    "#     wav2_1 = tf.keras.layers.Conv1D(9, 2, padding=\"causal\",activation='relu',dilation_rate=8)(wav2_1)\n",
    "#     wav2_1 = tf.keras.layers.Conv1D(9, 2, padding=\"causal\",activation='relu',dilation_rate=16)(wav2_1)\n",
    "#     wav2_1 = tf.keras.layers.Conv1D(9, 2, padding=\"causal\",activation='relu',dilation_rate=32)(wav2_1)\n",
    "#     wav2_1 = tf.keras.layers.Conv1D(9, 2, padding=\"causal\",activation='relu',dilation_rate=64)(wav2_1)\n",
    "#     wav2_1 = tf.keras.layers.Conv1D(9, 2, padding=\"causal\",activation='relu',dilation_rate=128)(wav2_1)\n",
    "#     wav2_1 = tf.keras.layers.Conv1D(9, 2, padding=\"causal\",activation='relu',dilation_rate=256)(wav2_1)\n",
    "#     wav2_1 = tf.keras.layers.Conv1D(9, 2, padding=\"causal\",activation='relu',dilation_rate=512)(wav2_1)\n",
    "#     wav2_1 = tf.keras.layers.Conv1D(9, 2, padding=\"causal\",activation='relu',dilation_rate=1024)(wav2_1)\n",
    "    \n",
    "    \n",
    "#     wav2_1 = tf.keras.layers.GlobalMaxPooling1D()(wav2_1) \n",
    "\n",
    "#     wav2_1 = tf.keras.applications.MobileNetV2(input_shape=(224,224,3),alpha=1.0,\n",
    "#                                                include_top=False,\n",
    "#                                                weights=\"imagenet\",\n",
    "#                                                pooling='avg',\n",
    "#                                                classes=1000,\n",
    "#                                                classifier_activation=\"softmax\")(wav2)\n",
    "    \n",
    "    \n",
    "    ## mel embedding\n",
    "    if use_mel :\n",
    "        \n",
    "        conv1_1 = Conv2D(filters = 32, kernel_size =5, strides=(1, 1), padding='same', activation=None)(mel1)\n",
    "        conv1_2 = Conv2D(filters = 32, kernel_size =5, strides=(1, 1), padding='same', activation=None)(mel1)\n",
    "        mfm2 = tensorflow.keras.layers.maximum([conv1_1, conv1_2])\n",
    "        max3 = MaxPool2D(pool_size=(2, 2), strides=(2, 2), padding='same')(mfm2)\n",
    "\n",
    "        conv4_1 = Conv2D(filters = 32, kernel_size =1, strides=(1, 1), padding='same', activation=None)(max3)\n",
    "        conv4_2 = Conv2D(filters = 32, kernel_size =1, strides=(1, 1), padding='same', activation=None)(max3)\n",
    "        mfm5 = tensorflow.keras.layers.maximum([conv4_1, conv4_2])\n",
    "        batch6 = BatchNormalization(axis=3, scale=False)(mfm5)\n",
    "\n",
    "        conv7_1 = Conv2D(filters = 48, kernel_size =3, strides=(1, 1), padding='same', activation=None)(batch6)\n",
    "        conv7_2 = Conv2D(filters = 48, kernel_size =3, strides=(1, 1), padding='same', activation=None)(batch6)\n",
    "        mfm8 = tensorflow.keras.layers.maximum([conv7_1, conv7_2])\n",
    "\n",
    "        max9 = MaxPool2D(pool_size=(2, 2), strides=(2, 2), padding='same')(mfm8)\n",
    "        batch10 = BatchNormalization(axis=3, scale=False)(max9)\n",
    "\n",
    "        conv11_1 = Conv2D(filters = 48, kernel_size =1, strides=(1, 1), padding='same', activation=None)(batch10)\n",
    "        conv11_2 = Conv2D(filters = 48, kernel_size =1, strides=(1, 1), padding='same', activation=None)(batch10)\n",
    "        mfm12 = tensorflow.keras.layers.maximum([conv11_1, conv11_2])\n",
    "        batch13 = BatchNormalization(axis=3, scale=False)(mfm12)\n",
    "\n",
    "        conv14_1 = Conv2D(filters = 64, kernel_size =3, strides=(1, 1), padding='same', activation=None)(batch13)\n",
    "        conv14_2 = Conv2D(filters = 64, kernel_size =3, strides=(1, 1), padding='same', activation=None)(batch13)\n",
    "        mfm15 = tensorflow.keras.layers.maximum([conv14_1, conv14_2])\n",
    "\n",
    "        max16 = MaxPool2D(pool_size=(2, 2), strides=(2, 2), padding='same')(mfm15)\n",
    "\n",
    "        conv17_1 = Conv2D(filters = 64, kernel_size =1, strides=(1, 1), padding='same', activation=None)(max16)\n",
    "        conv17_2 = Conv2D(filters = 64, kernel_size =1, strides=(1, 1), padding='same', activation=None)(max16)\n",
    "        mfm18 = tensorflow.keras.layers.maximum([conv17_1, conv17_2])\n",
    "        batch19 = BatchNormalization(axis=3, scale=False)(mfm18)\n",
    "\n",
    "        conv20_1 = Conv2D(filters = 32, kernel_size =3, strides=(1, 1), padding='same', activation=None)(batch19)\n",
    "        conv20_2 = Conv2D(filters = 32, kernel_size =3, strides=(1, 1), padding='same', activation=None)(batch19)\n",
    "        mfm21 = tensorflow.keras.layers.maximum([conv20_1, conv20_2])\n",
    "        batch22 = BatchNormalization(axis=3, scale=False)(mfm21)\n",
    "\n",
    "        conv23_1 = Conv2D(filters = 32, kernel_size =1, strides=(1, 1), padding='same', activation=None)(batch22)\n",
    "        conv23_2 = Conv2D(filters = 32, kernel_size =1, strides=(1, 1), padding='same', activation=None)(batch22)\n",
    "        mfm24 = tensorflow.keras.layers.maximum([conv23_1, conv23_2])\n",
    "        batch25 = BatchNormalization(axis=3, scale=False)(mfm24)\n",
    "\n",
    "        conv26_1 = Conv2D(filters = 32, kernel_size =1, strides=(1, 1), padding='same', activation=None)(batch25)\n",
    "        conv26_2 = Conv2D(filters = 32, kernel_size =1, strides=(1, 1), padding='same', activation=None)(batch25)\n",
    "        mfm27 = tensorflow.keras.layers.maximum([conv26_1, conv26_2])\n",
    "\n",
    "        max28 = MaxPool2D(pool_size=(2, 2), strides=(2, 2), padding='valid')(mfm27)\n",
    "        mel2 = layers.GlobalAveragePooling2D()(max28)\n",
    "        mel2 = Dropout(dp)(mel2)\n",
    "\n",
    "    if use_cqt:\n",
    "        ## cqt embedding\n",
    "        conv1_1 = Conv2D(filters = 32, kernel_size =5, strides=(1, 1), padding='same', activation=None)(cqt1)\n",
    "        conv1_2 = Conv2D(filters = 32, kernel_size =5, strides=(1, 1), padding='same', activation=None)(cqt1)\n",
    "        mfm2 = tensorflow.keras.layers.maximum([conv1_1, conv1_2])\n",
    "        max3 = MaxPool2D(pool_size=(2, 2), strides=(2, 2), padding='same')(mfm2)\n",
    "        \n",
    "        conv4_1 = Conv2D(filters = 32, kernel_size =1, strides=(1, 1), padding='same', activation=None)(max3)\n",
    "        conv4_2 = Conv2D(filters = 32, kernel_size =1, strides=(1, 1), padding='same', activation=None)(max3)\n",
    "        mfm5 = tensorflow.keras.layers.maximum([conv4_1, conv4_2])\n",
    "        batch6 = BatchNormalization(axis=3, scale=False)(mfm5)\n",
    "\n",
    "        conv7_1 = Conv2D(filters = 48, kernel_size =3, strides=(1, 1), padding='same', activation=None)(batch6)\n",
    "        conv7_2 = Conv2D(filters = 48, kernel_size =3, strides=(1, 1), padding='same', activation=None)(batch6)\n",
    "        mfm8 = tensorflow.keras.layers.maximum([conv7_1, conv7_2])\n",
    "\n",
    "        max9 = MaxPool2D(pool_size=(2, 2), strides=(2, 2), padding='same')(mfm8)\n",
    "        batch10 = BatchNormalization(axis=3, scale=False)(max9)\n",
    "\n",
    "        conv11_1 = Conv2D(filters = 48, kernel_size =1, strides=(1, 1), padding='same', activation=None)(batch10)\n",
    "        conv11_2 = Conv2D(filters = 48, kernel_size =1, strides=(1, 1), padding='same', activation=None)(batch10)\n",
    "        mfm12 = tensorflow.keras.layers.maximum([conv11_1, conv11_2])\n",
    "        batch13 = BatchNormalization(axis=3, scale=False)(mfm12)\n",
    "\n",
    "        conv14_1 = Conv2D(filters = 64, kernel_size =3, strides=(1, 1), padding='same', activation=None)(batch13)\n",
    "        conv14_2 = Conv2D(filters = 64, kernel_size =3, strides=(1, 1), padding='same', activation=None)(batch13)\n",
    "        mfm15 = tensorflow.keras.layers.maximum([conv14_1, conv14_2])\n",
    "\n",
    "        max16 = MaxPool2D(pool_size=(2, 2), strides=(2, 2), padding='same')(mfm15)\n",
    "\n",
    "        conv17_1 = Conv2D(filters = 64, kernel_size =1, strides=(1, 1), padding='same', activation=None)(max16)\n",
    "        conv17_2 = Conv2D(filters = 64, kernel_size =1, strides=(1, 1), padding='same', activation=None)(max16)\n",
    "        mfm18 = tensorflow.keras.layers.maximum([conv17_1, conv17_2])\n",
    "        batch19 = BatchNormalization(axis=3, scale=False)(mfm18)\n",
    "\n",
    "        conv20_1 = Conv2D(filters = 32, kernel_size =3, strides=(1, 1), padding='same', activation=None)(batch19)\n",
    "        conv20_2 = Conv2D(filters = 32, kernel_size =3, strides=(1, 1), padding='same', activation=None)(batch19)\n",
    "        mfm21 = tensorflow.keras.layers.maximum([conv20_1, conv20_2])\n",
    "        batch22 = BatchNormalization(axis=3, scale=False)(mfm21)\n",
    "\n",
    "        conv23_1 = Conv2D(filters = 32, kernel_size =1, strides=(1, 1), padding='same', activation=None)(batch22)\n",
    "        conv23_2 = Conv2D(filters = 32, kernel_size =1, strides=(1, 1), padding='same', activation=None)(batch22)\n",
    "        mfm24 = tensorflow.keras.layers.maximum([conv23_1, conv23_2])\n",
    "        batch25 = BatchNormalization(axis=3, scale=False)(mfm24)\n",
    "\n",
    "        conv26_1 = Conv2D(filters = 32, kernel_size =1, strides=(1, 1), padding='same', activation=None)(batch25)\n",
    "        conv26_2 = Conv2D(filters = 32, kernel_size =1, strides=(1, 1), padding='same', activation=None)(batch25)\n",
    "        mfm27 = tensorflow.keras.layers.maximum([conv26_1, conv26_2])\n",
    "        \n",
    "        max28 = MaxPool2D(pool_size=(2, 2), strides=(2, 2), padding='valid')(mfm27)\n",
    "        cqt2 = layers.GlobalAveragePooling2D()(max28)\n",
    "        cqt2 = Dropout(dp)(cqt2)\n",
    "\n",
    "    if use_stft :\n",
    "        ## stft embedding\n",
    "        conv1_1 = Conv2D(filters = 32, kernel_size =5, strides=(1, 1), padding='same', activation=None)(stft1)\n",
    "        conv1_2 = Conv2D(filters = 32, kernel_size =5, strides=(1, 1), padding='same', activation=None)(stft1)\n",
    "        mfm2 = tensorflow.keras.layers.maximum([conv1_1, conv1_2])\n",
    "        max3 = MaxPool2D(pool_size=(2, 2), strides=(2, 2), padding='same')(mfm2)\n",
    "        \n",
    "        conv4_1 = Conv2D(filters = 32, kernel_size =1, strides=(1, 1), padding='same', activation=None)(max3)\n",
    "        conv4_2 = Conv2D(filters = 32, kernel_size =1, strides=(1, 1), padding='same', activation=None)(max3)\n",
    "        mfm5 = tensorflow.keras.layers.maximum([conv4_1, conv4_2])\n",
    "        batch6 = BatchNormalization(axis=3, scale=False)(mfm5)\n",
    "        \n",
    "        conv7_1 = Conv2D(filters = 48, kernel_size =3, strides=(1, 1), padding='same', activation=None)(batch6)\n",
    "        conv7_2 = Conv2D(filters = 48, kernel_size =3, strides=(1, 1), padding='same', activation=None)(batch6)\n",
    "        mfm8 = tensorflow.keras.layers.maximum([conv7_1, conv7_2])\n",
    "        \n",
    "        max9 = MaxPool2D(pool_size=(2, 2), strides=(2, 2), padding='same')(mfm8)\n",
    "        batch10 = BatchNormalization(axis=3, scale=False)(max9)\n",
    "        \n",
    "        conv11_1 = Conv2D(filters = 48, kernel_size =1, strides=(1, 1), padding='same', activation=None)(batch10)\n",
    "        conv11_2 = Conv2D(filters = 48, kernel_size =1, strides=(1, 1), padding='same', activation=None)(batch10)\n",
    "        mfm12 = tensorflow.keras.layers.maximum([conv11_1, conv11_2])\n",
    "        batch13 = BatchNormalization(axis=3, scale=False)(mfm12)\n",
    "\n",
    "        conv14_1 = Conv2D(filters = 64, kernel_size =3, strides=(1, 1), padding='same', activation=None)(batch13)\n",
    "        conv14_2 = Conv2D(filters = 64, kernel_size =3, strides=(1, 1), padding='same', activation=None)(batch13)\n",
    "        mfm15 = tensorflow.keras.layers.maximum([conv14_1, conv14_2])\n",
    "        \n",
    "        max16 = MaxPool2D(pool_size=(2, 2), strides=(2, 2), padding='same')(mfm15)\n",
    "\n",
    "        conv17_1 = Conv2D(filters = 64, kernel_size =1, strides=(1, 1), padding='same', activation=None)(max16)\n",
    "        conv17_2 = Conv2D(filters = 64, kernel_size =1, strides=(1, 1), padding='same', activation=None)(max16)\n",
    "        mfm18 = tensorflow.keras.layers.maximum([conv17_1, conv17_2])\n",
    "        batch19 = BatchNormalization(axis=3, scale=False)(mfm18)\n",
    "\n",
    "        conv20_1 = Conv2D(filters = 32, kernel_size =3, strides=(1, 1), padding='same', activation=None)(batch19)\n",
    "        conv20_2 = Conv2D(filters = 32, kernel_size =3, strides=(1, 1), padding='same', activation=None)(batch19)\n",
    "        mfm21 = tensorflow.keras.layers.maximum([conv20_1, conv20_2])\n",
    "        batch22 = BatchNormalization(axis=3, scale=False)(mfm21)\n",
    "\n",
    "        conv23_1 = Conv2D(filters = 32, kernel_size =1, strides=(1, 1), padding='same', activation=None)(batch22)\n",
    "        conv23_2 = Conv2D(filters = 32, kernel_size =1, strides=(1, 1), padding='same', activation=None)(batch22)\n",
    "        mfm24 = tensorflow.keras.layers.maximum([conv23_1, conv23_2])\n",
    "        batch25 = BatchNormalization(axis=3, scale=False)(mfm24)\n",
    "\n",
    "        conv26_1 = Conv2D(filters = 32, kernel_size =1, strides=(1, 1), padding='same', activation=None)(batch25)\n",
    "        conv26_2 = Conv2D(filters = 32, kernel_size =1, strides=(1, 1), padding='same', activation=None)(batch25)\n",
    "        mfm27 = tensorflow.keras.layers.maximum([conv26_1, conv26_2])\n",
    "        \n",
    "        max28 = MaxPool2D(pool_size=(2, 2), strides=(2, 2), padding='valid')(mfm27)\n",
    "        stft2 = layers.GlobalAveragePooling2D()(max28)\n",
    "        stft2 = Dropout(dp)(stft2)\n",
    "    \n",
    "    \n",
    "    if use_mel and use_cqt and use_stft :\n",
    "        concat2 = layers.Concatenate()([mel2, cqt2, stft2])\n",
    "    if not use_mel and use_cqt and use_stft :\n",
    "        concat2 = layers.Concatenate()([cqt2, stft2])\n",
    "    if use_mel and not use_cqt and use_stft :\n",
    "        concat2 = layers.Concatenate()([mel2, stft2])\n",
    "    if use_mel and use_cqt and not use_stft :\n",
    "        concat2 = layers.Concatenate()([mel2, cqt2])\n",
    "    if not use_mel and not use_cqt and use_stft :  ## stft 만\n",
    "        concat2 = stft2\n",
    "    if use_mel and not use_cqt and not use_stft :  ### mel만\n",
    "        concat2 = mel2\n",
    "    if not use_mel and use_cqt and not use_stft :  ### cqt만\n",
    "        concat2 = cqt2\n",
    "\n",
    "    if ext :\n",
    "        \n",
    "        concat1 = layers.Concatenate()([age1, sex1, hw1, loc1,preg])\n",
    "        d1 = layers.Dense(10, activation='relu')(concat1)\n",
    "        concat2 = layers.Concatenate()([concat2, d1,interval1])\n",
    "        \n",
    "    if fc :\n",
    "        concat2 = layers.Dense(10, activation = \"relu\")(concat2)\n",
    "        concat2 = Dropout(dp)(concat2)\n",
    "        \n",
    "    if ord1 :\n",
    "        res1 = layers.Dense(2, activation = \"softmax\")(concat2)\n",
    "        \n",
    "        \n",
    "\n",
    "        \n",
    "    else :\n",
    "        res1 = layers.Dense(3, activation = \"softmax\")(concat2)\n",
    "\n",
    "        \n",
    "        \n",
    "        \n",
    "#     res2 = layers.Dense(2, activation = \"softmax\")(concat2)\n",
    "\n",
    "    model = keras.Model(inputs = [age,sex,hw,preg,loc,interval,mel1,stft1,cqt1] , outputs = res1 )\n",
    "    \n",
    "    model.compile(loss=['categorical_crossentropy'], optimizer='adam', metrics=['accuracy','AUC'])\n",
    "    return(model)\n"
   ]
  },
  {
   "cell_type": "code",
   "execution_count": 35,
   "id": "40596eae",
   "metadata": {},
   "outputs": [],
   "source": [
    "def get_LCNN_o_4_dr_2(mel_input_shape, cqt_input_shape, stft_input_shape,interval_input_shape,wav2_input_shape,use_mel = True, use_cqt = True, use_stft = True, ord1 = True, dp = .5, fc = False, ext = False):\n",
    "        # Create a towy model.\n",
    "    age = keras.Input(shape=(6,), name = 'age_cat')\n",
    "    sex = keras.Input(shape=(2,), name = 'sex_cat')\n",
    "    hw = keras.Input(shape=(2,), name = 'height_weight')\n",
    "    preg = keras.Input(shape=(1,), name = 'is_preg')\n",
    "    loc = keras.Input(shape=(5,), name = 'loc')\n",
    "    interval = keras.Input(shape=interval_input_shape, name = 'interval')\n",
    "#     wav2 = keras.Input(shape=wav2_input_shape, name = 'wav2')\n",
    "    mel1 = keras.Input(shape=mel_input_shape, name = 'mel')\n",
    "    cqt1 = keras.Input(shape=cqt_input_shape, name = 'cqt')\n",
    "    stft1 = keras.Input(shape=stft_input_shape, name = 'stft')\n",
    "        \n",
    "    ## age embeddig\n",
    "    age1 = layers.Dense(2, activation = None)(age)\n",
    "\n",
    "    ## sex embedding\n",
    "    sex1 = layers.Dense(1, activation = None)(sex)\n",
    "\n",
    "    ## hw embedding\n",
    "    hw1 = layers.Dense(1, activation = None)(hw)\n",
    "\n",
    "    ## loc embedding\n",
    "    loc1 = layers.Dense(3, activation = None)(loc)\n",
    "    \n",
    "    ## interval embedding\n",
    "    \n",
    "#     interval1 = tf.keras.layers.LSTM(20,return_sequences=True,use_bias=True, \n",
    "#                                 dropout=0.1,recurrent_dropout=0.05)(interval)\n",
    "#     interval1 = tf.keras.layers.LSTM(15,return_sequences=False,use_bias=True, dropout=0.3,\n",
    "#                                 recurrent_dropout=0.05)(interval1)\n",
    "#     interval1 = layers.Dense(15, activation='relu')(interval1)\n",
    "#     interval1 = tf.keras.layers.Conv1D(20, 3, activation='relu')(interval)\n",
    "#     interval1 = tf.keras.layers.Conv1D(10, 3, activation='relu')(interval1)\n",
    "#     interval1 = tf.keras.layers.GlobalAveragePooling1D()(interval1)\n",
    "\n",
    "    \n",
    "#     interval1 = tf.keras.layers.Conv1D(9, 3, activation='relu')(interval)\n",
    "#     interval1 = tf.keras.layers.Conv1D(9, 3, activation='relu')(interval1)\n",
    "#     interval1 = tf.keras.layers.Conv1D(7, 3, activation='relu')(interval1)\n",
    "#     interval1 = tf.keras.layers.Conv1D(7, 3, activation='relu')(interval1)\n",
    "#     interval1 = tf.keras.layers.GlobalAveragePooling1D()(interval1)\n",
    "#     interval1 = layers.Dense(3, activation='relu')(interval1)\n",
    "\n",
    "\n",
    "\n",
    "\n",
    "    interval1 = tf.keras.layers.Conv1D(9, 2, padding=\"causal\",activation='relu',dilation_rate=1)(interval)\n",
    "    interval1 = tf.keras.layers.Conv1D(9, 2, padding=\"causal\",activation='relu',dilation_rate=2)(interval1)\n",
    "    interval1 = tf.keras.layers.Conv1D(9, 2, padding=\"causal\",activation='relu',dilation_rate=4)(interval1)\n",
    "    interval1 = tf.keras.layers.Conv1D(9, 2, padding=\"causal\",activation='relu',dilation_rate=8)(interval1)\n",
    "    interval1 = tf.keras.layers.Conv1D(9, 2, padding=\"causal\",activation='relu',dilation_rate=16)(interval1)\n",
    "    interval1 = tf.keras.layers.Conv1D(9, 2, padding=\"causal\",activation='relu',dilation_rate=32)(interval1)\n",
    "    interval1 = tf.keras.layers.Conv1D(9, 2, padding=\"causal\",activation='relu',dilation_rate=64)(interval1)\n",
    "    interval1 = tf.keras.layers.Conv1D(9, 2, padding=\"causal\",activation='relu',dilation_rate=128)(interval1)\n",
    "    interval1 = tf.keras.layers.Conv1D(9, 2, padding=\"causal\",activation='relu',dilation_rate=256)(interval1)\n",
    "    interval1 = tf.keras.layers.Conv1D(9, 2, padding=\"causal\",activation='relu',dilation_rate=512)(interval1)\n",
    "\n",
    "\n",
    "    interval1 = tf.keras.layers.Conv1D(9, 2, padding=\"causal\",activation='relu',dilation_rate=1)(interval1)\n",
    "    interval1 = tf.keras.layers.Conv1D(9, 2, padding=\"causal\",activation='relu',dilation_rate=2)(interval1)\n",
    "    interval1 = tf.keras.layers.Conv1D(9, 2, padding=\"causal\",activation='relu',dilation_rate=4)(interval1)\n",
    "    interval1 = tf.keras.layers.Conv1D(9, 2, padding=\"causal\",activation='relu',dilation_rate=8)(interval1)\n",
    "    interval1 = tf.keras.layers.Conv1D(9, 2, padding=\"causal\",activation='relu',dilation_rate=16)(interval1)\n",
    "    interval1 = tf.keras.layers.Conv1D(9, 2, padding=\"causal\",activation='relu',dilation_rate=32)(interval1)\n",
    "    interval1 = tf.keras.layers.Conv1D(9, 2, padding=\"causal\",activation='relu',dilation_rate=64)(interval1)\n",
    "    interval1 = tf.keras.layers.Conv1D(9, 2, padding=\"causal\",activation='relu',dilation_rate=128)(interval1)\n",
    "    interval1 = tf.keras.layers.Conv1D(9, 2, padding=\"causal\",activation='relu',dilation_rate=256)(interval1)\n",
    "    interval1 = tf.keras.layers.Conv1D(9, 2, padding=\"causal\",activation='relu',dilation_rate=512)(interval1)\n",
    "  \n",
    "\n",
    "    interval1 = tf.keras.layers.Conv1D(9, 2, padding=\"causal\",activation='relu',dilation_rate=1)(interval1)\n",
    "    interval1 = tf.keras.layers.Conv1D(9, 2, padding=\"causal\",activation='relu',dilation_rate=2)(interval1)\n",
    "    interval1 = tf.keras.layers.Conv1D(9, 2, padding=\"causal\",activation='relu',dilation_rate=4)(interval1)\n",
    "    interval1 = tf.keras.layers.Conv1D(9, 2, padding=\"causal\",activation='relu',dilation_rate=8)(interval1)\n",
    "    interval1 = tf.keras.layers.Conv1D(9, 2, padding=\"causal\",activation='relu',dilation_rate=16)(interval1)\n",
    "    interval1 = tf.keras.layers.Conv1D(9, 2, padding=\"causal\",activation='relu',dilation_rate=32)(interval1)\n",
    "    interval1 = tf.keras.layers.Conv1D(9, 2, padding=\"causal\",activation='relu',dilation_rate=64)(interval1)\n",
    "    interval1 = tf.keras.layers.Conv1D(9, 2, padding=\"causal\",activation='relu',dilation_rate=128)(interval1)\n",
    "    interval1 = tf.keras.layers.Conv1D(9, 2, padding=\"causal\",activation='relu',dilation_rate=256)(interval1)\n",
    "    interval1 = tf.keras.layers.Conv1D(9, 2, padding=\"causal\",activation='relu',dilation_rate=512)(interval1)\n",
    "\n",
    "    \n",
    "    interval1 = tf.keras.layers.GlobalMaxPooling1D()(interval1)\n",
    "    \n",
    "    ## wav2 embedding\n",
    "    \n",
    "    \n",
    "    #1))))\n",
    "    \n",
    "#     wav2_1 = tf.keras.layers.Conv1D(9, 3, activation='relu')(wav2)\n",
    "#     wav2_1 = tf.keras.layers.Conv1D(9, 3, activation='relu')(wav2_1)\n",
    "#     wav2_1 = tf.keras.layers.Conv1D(7, 3, activation='relu')(wav2_1)\n",
    "#     wav2_1 = tf.keras.layers.Conv1D(7, 3, activation='relu')(wav2_1)\n",
    "#     wav2_1 = tf.keras.layers.GlobalAveragePooling1D()(wav2_1)\n",
    "#     wav2_1 = layers.Dense(3, activation='relu')(wav2_1)\n",
    "\n",
    "    #2))))\n",
    "    \n",
    "#     wav2_1 = tf.keras.layers.Conv1D(9, 2, padding=\"causal\",activation='relu',dilation_rate=1)(wav2)\n",
    "#     wav2_1 = tf.keras.layers.Conv1D(9, 2, padding=\"causal\",activation='relu',dilation_rate=2)(wav2_1)\n",
    "#     wav2_1 = tf.keras.layers.Conv1D(9, 2, padding=\"causal\",activation='relu',dilation_rate=4)(wav2_1)\n",
    "#     wav2_1 = tf.keras.layers.Conv1D(9, 2, padding=\"causal\",activation='relu',dilation_rate=8)(wav2_1)\n",
    "#     wav2_1 = tf.keras.layers.Conv1D(9, 2, padding=\"causal\",activation='relu',dilation_rate=16)(wav2_1)\n",
    "#     wav2_1 = tf.keras.layers.Conv1D(9, 2, padding=\"causal\",activation='relu',dilation_rate=32)(wav2_1)\n",
    "#     wav2_1 = tf.keras.layers.Conv1D(9, 2, padding=\"causal\",activation='relu',dilation_rate=64)(wav2_1)\n",
    "#     wav2_1 = tf.keras.layers.Conv1D(9, 2, padding=\"causal\",activation='relu',dilation_rate=128)(wav2_1)\n",
    "#     wav2_1 = tf.keras.layers.Conv1D(9, 2, padding=\"causal\",activation='relu',dilation_rate=256)(wav2_1)\n",
    "#     wav2_1 = tf.keras.layers.Conv1D(9, 2, padding=\"causal\",activation='relu',dilation_rate=512)(wav2_1)\n",
    "#     wav2_1 = tf.keras.layers.Conv1D(9, 2, padding=\"causal\",activation='relu',dilation_rate=1024)(wav2_1)\n",
    "\n",
    "#     wav2_1 = tf.keras.layers.Conv1D(9, 2, padding=\"causal\",activation='relu',dilation_rate=1)(wav2_1)\n",
    "#     wav2_1 = tf.keras.layers.Conv1D(9, 2, padding=\"causal\",activation='relu',dilation_rate=2)(wav2_1)\n",
    "#     wav2_1 = tf.keras.layers.Conv1D(9, 2, padding=\"causal\",activation='relu',dilation_rate=4)(wav2_1)\n",
    "#     wav2_1 = tf.keras.layers.Conv1D(9, 2, padding=\"causal\",activation='relu',dilation_rate=8)(wav2_1)\n",
    "#     wav2_1 = tf.keras.layers.Conv1D(9, 2, padding=\"causal\",activation='relu',dilation_rate=16)(wav2_1)\n",
    "#     wav2_1 = tf.keras.layers.Conv1D(9, 2, padding=\"causal\",activation='relu',dilation_rate=32)(wav2_1)\n",
    "#     wav2_1 = tf.keras.layers.Conv1D(9, 2, padding=\"causal\",activation='relu',dilation_rate=64)(wav2_1)\n",
    "#     wav2_1 = tf.keras.layers.Conv1D(9, 2, padding=\"causal\",activation='relu',dilation_rate=128)(wav2_1)\n",
    "#     wav2_1 = tf.keras.layers.Conv1D(9, 2, padding=\"causal\",activation='relu',dilation_rate=256)(wav2_1)\n",
    "#     wav2_1 = tf.keras.layers.Conv1D(9, 2, padding=\"causal\",activation='relu',dilation_rate=512)(wav2_1)\n",
    "#     wav2_1 = tf.keras.layers.Conv1D(9, 2, padding=\"causal\",activation='relu',dilation_rate=1024)(wav2_1)\n",
    "    \n",
    "#     wav2_1 = tf.keras.layers.Conv1D(9, 2, padding=\"causal\",activation='relu',dilation_rate=1)(wav2_1)\n",
    "#     wav2_1 = tf.keras.layers.Conv1D(9, 2, padding=\"causal\",activation='relu',dilation_rate=2)(wav2_1)\n",
    "#     wav2_1 = tf.keras.layers.Conv1D(9, 2, padding=\"causal\",activation='relu',dilation_rate=4)(wav2_1)\n",
    "#     wav2_1 = tf.keras.layers.Conv1D(9, 2, padding=\"causal\",activation='relu',dilation_rate=8)(wav2_1)\n",
    "#     wav2_1 = tf.keras.layers.Conv1D(9, 2, padding=\"causal\",activation='relu',dilation_rate=16)(wav2_1)\n",
    "#     wav2_1 = tf.keras.layers.Conv1D(9, 2, padding=\"causal\",activation='relu',dilation_rate=32)(wav2_1)\n",
    "#     wav2_1 = tf.keras.layers.Conv1D(9, 2, padding=\"causal\",activation='relu',dilation_rate=64)(wav2_1)\n",
    "#     wav2_1 = tf.keras.layers.Conv1D(9, 2, padding=\"causal\",activation='relu',dilation_rate=128)(wav2_1)\n",
    "#     wav2_1 = tf.keras.layers.Conv1D(9, 2, padding=\"causal\",activation='relu',dilation_rate=256)(wav2_1)\n",
    "#     wav2_1 = tf.keras.layers.Conv1D(9, 2, padding=\"causal\",activation='relu',dilation_rate=512)(wav2_1)\n",
    "#     wav2_1 = tf.keras.layers.Conv1D(9, 2, padding=\"causal\",activation='relu',dilation_rate=1024)(wav2_1)\n",
    "    \n",
    "    \n",
    "#     wav2_1 = tf.keras.layers.GlobalMaxPooling1D()(wav2_1) \n",
    "\n",
    "#     wav2_1 = tf.keras.applications.MobileNetV2(input_shape=(224,224,3),alpha=1.0,\n",
    "#                                                include_top=False,\n",
    "#                                                weights=\"imagenet\",\n",
    "#                                                pooling='avg',\n",
    "#                                                classes=1000,\n",
    "#                                                classifier_activation=\"softmax\")(wav2)\n",
    "    \n",
    "    \n",
    "    ## mel embedding\n",
    "    if use_mel :\n",
    "        \n",
    "        conv1_1 = Conv2D(filters = 32, kernel_size =5, strides=(1, 1), padding='same', activation=None)(mel1)\n",
    "        conv1_2 = Conv2D(filters = 32, kernel_size =5, strides=(1, 1), padding='same', activation=None)(mel1)\n",
    "        mfm2 = tensorflow.keras.layers.maximum([conv1_1, conv1_2])\n",
    "        max3 = MaxPool2D(pool_size=(2, 2), strides=(2, 2), padding='same')(mfm2)\n",
    "\n",
    "        conv4_1 = Conv2D(filters = 32, kernel_size =1, strides=(1, 1), padding='same', activation=None)(max3)\n",
    "        conv4_2 = Conv2D(filters = 32, kernel_size =1, strides=(1, 1), padding='same', activation=None)(max3)\n",
    "        mfm5 = tensorflow.keras.layers.maximum([conv4_1, conv4_2])\n",
    "        batch6 = BatchNormalization(axis=3, scale=False)(mfm5)\n",
    "\n",
    "        conv7_1 = Conv2D(filters = 48, kernel_size =3, strides=(1, 1), padding='same', activation=None)(batch6)\n",
    "        conv7_2 = Conv2D(filters = 48, kernel_size =3, strides=(1, 1), padding='same', activation=None)(batch6)\n",
    "        mfm8 = tensorflow.keras.layers.maximum([conv7_1, conv7_2])\n",
    "\n",
    "        max9 = MaxPool2D(pool_size=(2, 2), strides=(2, 2), padding='same')(mfm8)\n",
    "        batch10 = BatchNormalization(axis=3, scale=False)(max9)\n",
    "\n",
    "        conv11_1 = Conv2D(filters = 48, kernel_size =1, strides=(1, 1), padding='same', activation=None)(batch10)\n",
    "        conv11_2 = Conv2D(filters = 48, kernel_size =1, strides=(1, 1), padding='same', activation=None)(batch10)\n",
    "        mfm12 = tensorflow.keras.layers.maximum([conv11_1, conv11_2])\n",
    "        batch13 = BatchNormalization(axis=3, scale=False)(mfm12)\n",
    "\n",
    "        conv14_1 = Conv2D(filters = 64, kernel_size =3, strides=(1, 1), padding='same', activation=None)(batch13)\n",
    "        conv14_2 = Conv2D(filters = 64, kernel_size =3, strides=(1, 1), padding='same', activation=None)(batch13)\n",
    "        mfm15 = tensorflow.keras.layers.maximum([conv14_1, conv14_2])\n",
    "\n",
    "        max16 = MaxPool2D(pool_size=(2, 2), strides=(2, 2), padding='same')(mfm15)\n",
    "\n",
    "        conv17_1 = Conv2D(filters = 64, kernel_size =1, strides=(1, 1), padding='same', activation=None)(max16)\n",
    "        conv17_2 = Conv2D(filters = 64, kernel_size =1, strides=(1, 1), padding='same', activation=None)(max16)\n",
    "        mfm18 = tensorflow.keras.layers.maximum([conv17_1, conv17_2])\n",
    "        batch19 = BatchNormalization(axis=3, scale=False)(mfm18)\n",
    "\n",
    "        conv20_1 = Conv2D(filters = 32, kernel_size =3, strides=(1, 1), padding='same', activation=None)(batch19)\n",
    "        conv20_2 = Conv2D(filters = 32, kernel_size =3, strides=(1, 1), padding='same', activation=None)(batch19)\n",
    "        mfm21 = tensorflow.keras.layers.maximum([conv20_1, conv20_2])\n",
    "        batch22 = BatchNormalization(axis=3, scale=False)(mfm21)\n",
    "\n",
    "        conv23_1 = Conv2D(filters = 32, kernel_size =1, strides=(1, 1), padding='same', activation=None)(batch22)\n",
    "        conv23_2 = Conv2D(filters = 32, kernel_size =1, strides=(1, 1), padding='same', activation=None)(batch22)\n",
    "        mfm24 = tensorflow.keras.layers.maximum([conv23_1, conv23_2])\n",
    "        batch25 = BatchNormalization(axis=3, scale=False)(mfm24)\n",
    "\n",
    "        conv26_1 = Conv2D(filters = 32, kernel_size =1, strides=(1, 1), padding='same', activation=None)(batch25)\n",
    "        conv26_2 = Conv2D(filters = 32, kernel_size =1, strides=(1, 1), padding='same', activation=None)(batch25)\n",
    "        mfm27 = tensorflow.keras.layers.maximum([conv26_1, conv26_2])\n",
    "\n",
    "        max28 = MaxPool2D(pool_size=(2, 2), strides=(2, 2), padding='valid')(mfm27)\n",
    "        mel2 = layers.GlobalAveragePooling2D()(max28)\n",
    "        mel2 = Dropout(dp)(mel2)\n",
    "\n",
    "    if use_cqt:\n",
    "        ## cqt embedding\n",
    "        conv1_1 = Conv2D(filters = 32, kernel_size =5, strides=(1, 1), padding='same', activation=None)(cqt1)\n",
    "        conv1_2 = Conv2D(filters = 32, kernel_size =5, strides=(1, 1), padding='same', activation=None)(cqt1)\n",
    "        mfm2 = tensorflow.keras.layers.maximum([conv1_1, conv1_2])\n",
    "        max3 = MaxPool2D(pool_size=(2, 2), strides=(2, 2), padding='same')(mfm2)\n",
    "        \n",
    "        conv4_1 = Conv2D(filters = 32, kernel_size =1, strides=(1, 1), padding='same', activation=None)(max3)\n",
    "        conv4_2 = Conv2D(filters = 32, kernel_size =1, strides=(1, 1), padding='same', activation=None)(max3)\n",
    "        mfm5 = tensorflow.keras.layers.maximum([conv4_1, conv4_2])\n",
    "        batch6 = BatchNormalization(axis=3, scale=False)(mfm5)\n",
    "\n",
    "        conv7_1 = Conv2D(filters = 48, kernel_size =3, strides=(1, 1), padding='same', activation=None)(batch6)\n",
    "        conv7_2 = Conv2D(filters = 48, kernel_size =3, strides=(1, 1), padding='same', activation=None)(batch6)\n",
    "        mfm8 = tensorflow.keras.layers.maximum([conv7_1, conv7_2])\n",
    "\n",
    "        max9 = MaxPool2D(pool_size=(2, 2), strides=(2, 2), padding='same')(mfm8)\n",
    "        batch10 = BatchNormalization(axis=3, scale=False)(max9)\n",
    "\n",
    "        conv11_1 = Conv2D(filters = 48, kernel_size =1, strides=(1, 1), padding='same', activation=None)(batch10)\n",
    "        conv11_2 = Conv2D(filters = 48, kernel_size =1, strides=(1, 1), padding='same', activation=None)(batch10)\n",
    "        mfm12 = tensorflow.keras.layers.maximum([conv11_1, conv11_2])\n",
    "        batch13 = BatchNormalization(axis=3, scale=False)(mfm12)\n",
    "\n",
    "        conv14_1 = Conv2D(filters = 64, kernel_size =3, strides=(1, 1), padding='same', activation=None)(batch13)\n",
    "        conv14_2 = Conv2D(filters = 64, kernel_size =3, strides=(1, 1), padding='same', activation=None)(batch13)\n",
    "        mfm15 = tensorflow.keras.layers.maximum([conv14_1, conv14_2])\n",
    "\n",
    "        max16 = MaxPool2D(pool_size=(2, 2), strides=(2, 2), padding='same')(mfm15)\n",
    "\n",
    "        conv17_1 = Conv2D(filters = 64, kernel_size =1, strides=(1, 1), padding='same', activation=None)(max16)\n",
    "        conv17_2 = Conv2D(filters = 64, kernel_size =1, strides=(1, 1), padding='same', activation=None)(max16)\n",
    "        mfm18 = tensorflow.keras.layers.maximum([conv17_1, conv17_2])\n",
    "        batch19 = BatchNormalization(axis=3, scale=False)(mfm18)\n",
    "\n",
    "        conv20_1 = Conv2D(filters = 32, kernel_size =3, strides=(1, 1), padding='same', activation=None)(batch19)\n",
    "        conv20_2 = Conv2D(filters = 32, kernel_size =3, strides=(1, 1), padding='same', activation=None)(batch19)\n",
    "        mfm21 = tensorflow.keras.layers.maximum([conv20_1, conv20_2])\n",
    "        batch22 = BatchNormalization(axis=3, scale=False)(mfm21)\n",
    "\n",
    "        conv23_1 = Conv2D(filters = 32, kernel_size =1, strides=(1, 1), padding='same', activation=None)(batch22)\n",
    "        conv23_2 = Conv2D(filters = 32, kernel_size =1, strides=(1, 1), padding='same', activation=None)(batch22)\n",
    "        mfm24 = tensorflow.keras.layers.maximum([conv23_1, conv23_2])\n",
    "        batch25 = BatchNormalization(axis=3, scale=False)(mfm24)\n",
    "\n",
    "        conv26_1 = Conv2D(filters = 32, kernel_size =1, strides=(1, 1), padding='same', activation=None)(batch25)\n",
    "        conv26_2 = Conv2D(filters = 32, kernel_size =1, strides=(1, 1), padding='same', activation=None)(batch25)\n",
    "        mfm27 = tensorflow.keras.layers.maximum([conv26_1, conv26_2])\n",
    "        \n",
    "        max28 = MaxPool2D(pool_size=(2, 2), strides=(2, 2), padding='valid')(mfm27)\n",
    "        cqt2 = layers.GlobalAveragePooling2D()(max28)\n",
    "        cqt2 = Dropout(dp)(cqt2)\n",
    "\n",
    "    if use_stft :\n",
    "        ## stft embedding\n",
    "        conv1_1 = Conv2D(filters = 32, kernel_size =5, strides=(1, 1), padding='same', activation=None)(stft1)\n",
    "        conv1_2 = Conv2D(filters = 32, kernel_size =5, strides=(1, 1), padding='same', activation=None)(stft1)\n",
    "        mfm2 = tensorflow.keras.layers.maximum([conv1_1, conv1_2])\n",
    "        max3 = MaxPool2D(pool_size=(2, 2), strides=(2, 2), padding='same')(mfm2)\n",
    "        \n",
    "        conv4_1 = Conv2D(filters = 32, kernel_size =1, strides=(1, 1), padding='same', activation=None)(max3)\n",
    "        conv4_2 = Conv2D(filters = 32, kernel_size =1, strides=(1, 1), padding='same', activation=None)(max3)\n",
    "        mfm5 = tensorflow.keras.layers.maximum([conv4_1, conv4_2])\n",
    "        batch6 = BatchNormalization(axis=3, scale=False)(mfm5)\n",
    "        \n",
    "        conv7_1 = Conv2D(filters = 48, kernel_size =3, strides=(1, 1), padding='same', activation=None)(batch6)\n",
    "        conv7_2 = Conv2D(filters = 48, kernel_size =3, strides=(1, 1), padding='same', activation=None)(batch6)\n",
    "        mfm8 = tensorflow.keras.layers.maximum([conv7_1, conv7_2])\n",
    "        \n",
    "        max9 = MaxPool2D(pool_size=(2, 2), strides=(2, 2), padding='same')(mfm8)\n",
    "        batch10 = BatchNormalization(axis=3, scale=False)(max9)\n",
    "        \n",
    "        conv11_1 = Conv2D(filters = 48, kernel_size =1, strides=(1, 1), padding='same', activation=None)(batch10)\n",
    "        conv11_2 = Conv2D(filters = 48, kernel_size =1, strides=(1, 1), padding='same', activation=None)(batch10)\n",
    "        mfm12 = tensorflow.keras.layers.maximum([conv11_1, conv11_2])\n",
    "        batch13 = BatchNormalization(axis=3, scale=False)(mfm12)\n",
    "\n",
    "        conv14_1 = Conv2D(filters = 64, kernel_size =3, strides=(1, 1), padding='same', activation=None)(batch13)\n",
    "        conv14_2 = Conv2D(filters = 64, kernel_size =3, strides=(1, 1), padding='same', activation=None)(batch13)\n",
    "        mfm15 = tensorflow.keras.layers.maximum([conv14_1, conv14_2])\n",
    "        \n",
    "        max16 = MaxPool2D(pool_size=(2, 2), strides=(2, 2), padding='same')(mfm15)\n",
    "\n",
    "        conv17_1 = Conv2D(filters = 64, kernel_size =1, strides=(1, 1), padding='same', activation=None)(max16)\n",
    "        conv17_2 = Conv2D(filters = 64, kernel_size =1, strides=(1, 1), padding='same', activation=None)(max16)\n",
    "        mfm18 = tensorflow.keras.layers.maximum([conv17_1, conv17_2])\n",
    "        batch19 = BatchNormalization(axis=3, scale=False)(mfm18)\n",
    "\n",
    "        conv20_1 = Conv2D(filters = 32, kernel_size =3, strides=(1, 1), padding='same', activation=None)(batch19)\n",
    "        conv20_2 = Conv2D(filters = 32, kernel_size =3, strides=(1, 1), padding='same', activation=None)(batch19)\n",
    "        mfm21 = tensorflow.keras.layers.maximum([conv20_1, conv20_2])\n",
    "        batch22 = BatchNormalization(axis=3, scale=False)(mfm21)\n",
    "\n",
    "        conv23_1 = Conv2D(filters = 32, kernel_size =1, strides=(1, 1), padding='same', activation=None)(batch22)\n",
    "        conv23_2 = Conv2D(filters = 32, kernel_size =1, strides=(1, 1), padding='same', activation=None)(batch22)\n",
    "        mfm24 = tensorflow.keras.layers.maximum([conv23_1, conv23_2])\n",
    "        batch25 = BatchNormalization(axis=3, scale=False)(mfm24)\n",
    "\n",
    "        conv26_1 = Conv2D(filters = 32, kernel_size =1, strides=(1, 1), padding='same', activation=None)(batch25)\n",
    "        conv26_2 = Conv2D(filters = 32, kernel_size =1, strides=(1, 1), padding='same', activation=None)(batch25)\n",
    "        mfm27 = tensorflow.keras.layers.maximum([conv26_1, conv26_2])\n",
    "        \n",
    "        max28 = MaxPool2D(pool_size=(2, 2), strides=(2, 2), padding='valid')(mfm27)\n",
    "        stft2 = layers.GlobalAveragePooling2D()(max28)\n",
    "        stft2 = Dropout(dp)(stft2)\n",
    "    \n",
    "    \n",
    "    if use_mel and use_cqt and use_stft :\n",
    "        concat2 = layers.Concatenate()([mel2, cqt2, stft2])\n",
    "    if not use_mel and use_cqt and use_stft :\n",
    "        concat2 = layers.Concatenate()([cqt2, stft2])\n",
    "    if use_mel and not use_cqt and use_stft :\n",
    "        concat2 = layers.Concatenate()([mel2, stft2])\n",
    "    if use_mel and use_cqt and not use_stft :\n",
    "        concat2 = layers.Concatenate()([mel2, cqt2])\n",
    "    if not use_mel and not use_cqt and use_stft :  ## stft 만\n",
    "        concat2 = stft2\n",
    "    if use_mel and not use_cqt and not use_stft :  ### mel만\n",
    "        concat2 = mel2\n",
    "    if not use_mel and use_cqt and not use_stft :  ### cqt만\n",
    "        concat2 = cqt2\n",
    "\n",
    "    if ext :\n",
    "        \n",
    "        concat1 = layers.Concatenate()([age1, sex1, hw1, loc1,preg])\n",
    "        d1 = layers.Dense(10, activation='relu')(concat1)\n",
    "        concat2 = layers.Concatenate()([concat2, d1,interval1])\n",
    "        \n",
    "    if fc :\n",
    "        concat2 = layers.Dense(10, activation = \"relu\")(concat2)\n",
    "        concat2 = Dropout(dp)(concat2)\n",
    "        \n",
    "    if ord1 :\n",
    "        res1 = layers.Dense(2, activation = \"softmax\")(concat2)\n",
    "        \n",
    "        \n",
    "\n",
    "        \n",
    "    else :\n",
    "        res1 = layers.Dense(3, activation = \"softmax\")(concat2)\n",
    "\n",
    "        \n",
    "        \n",
    "        \n",
    "#     res2 = layers.Dense(2, activation = \"softmax\")(concat2)\n",
    "\n",
    "    model = keras.Model(inputs = [age,sex,hw,preg,loc,interval,mel1,stft1,cqt1] , outputs = res1 )\n",
    "    \n",
    "    model.compile(loss=['categorical_crossentropy'], optimizer='adam', metrics=['accuracy','AUC'])\n",
    "    return(model)\n"
   ]
  },
  {
   "cell_type": "code",
   "execution_count": null,
   "id": "8751f8fd",
   "metadata": {},
   "outputs": [],
   "source": []
  },
  {
   "cell_type": "code",
   "execution_count": 36,
   "id": "5ffbed82",
   "metadata": {},
   "outputs": [],
   "source": [
    "model1 = get_LCNN_o_4_dr_1(mel_input_shape, cqt_input_shape, stft_input_shape,interval_input_shape,wav2_input_shape, use_mel = use_mel, use_cqt = use_cqt, use_stft = use_stft, ord1 = ord1, dp = dp, fc = fc, ext = ext)"
   ]
  },
  {
   "cell_type": "code",
   "execution_count": 37,
   "id": "9ccc8685",
   "metadata": {},
   "outputs": [],
   "source": [
    "\n",
    "model2 = get_LCNN_o_4_dr_2(mel_input_shape, cqt_input_shape, stft_input_shape,interval_input_shape,wav2_input_shape, use_mel = use_mel, use_cqt = use_cqt, use_stft = use_stft, ord1 = ord1, dp = dp, fc = fc, ext = ext)\n"
   ]
  },
  {
   "cell_type": "code",
   "execution_count": 38,
   "id": "4e462fa8",
   "metadata": {},
   "outputs": [
    {
     "name": "stdout",
     "output_type": "stream",
     "text": [
      "Model: \"model\"\n",
      "__________________________________________________________________________________________________\n",
      " Layer (type)                   Output Shape         Param #     Connected to                     \n",
      "==================================================================================================\n",
      " interval (InputLayer)          [(None, 115, 1)]     0           []                               \n",
      "                                                                                                  \n",
      " mel (InputLayer)               [(None, 120, 313, 1  0           []                               \n",
      "                                )]                                                                \n",
      "                                                                                                  \n",
      " conv1d (Conv1D)                (None, 115, 9)       27          ['interval[0][0]']               \n",
      "                                                                                                  \n",
      " conv2d (Conv2D)                (None, 120, 313, 32  832         ['mel[0][0]']                    \n",
      "                                )                                                                 \n",
      "                                                                                                  \n",
      " conv2d_1 (Conv2D)              (None, 120, 313, 32  832         ['mel[0][0]']                    \n",
      "                                )                                                                 \n",
      "                                                                                                  \n",
      " conv1d_1 (Conv1D)              (None, 115, 9)       171         ['conv1d[0][0]']                 \n",
      "                                                                                                  \n",
      " maximum (Maximum)              (None, 120, 313, 32  0           ['conv2d[0][0]',                 \n",
      "                                )                                 'conv2d_1[0][0]']               \n",
      "                                                                                                  \n",
      " conv1d_2 (Conv1D)              (None, 115, 9)       171         ['conv1d_1[0][0]']               \n",
      "                                                                                                  \n",
      " max_pooling2d (MaxPooling2D)   (None, 60, 157, 32)  0           ['maximum[0][0]']                \n",
      "                                                                                                  \n",
      " conv1d_3 (Conv1D)              (None, 115, 9)       171         ['conv1d_2[0][0]']               \n",
      "                                                                                                  \n",
      " conv2d_2 (Conv2D)              (None, 60, 157, 32)  1056        ['max_pooling2d[0][0]']          \n",
      "                                                                                                  \n",
      " conv2d_3 (Conv2D)              (None, 60, 157, 32)  1056        ['max_pooling2d[0][0]']          \n",
      "                                                                                                  \n",
      " conv1d_4 (Conv1D)              (None, 115, 9)       171         ['conv1d_3[0][0]']               \n",
      "                                                                                                  \n",
      " maximum_1 (Maximum)            (None, 60, 157, 32)  0           ['conv2d_2[0][0]',               \n",
      "                                                                  'conv2d_3[0][0]']               \n",
      "                                                                                                  \n",
      " conv1d_5 (Conv1D)              (None, 115, 9)       171         ['conv1d_4[0][0]']               \n",
      "                                                                                                  \n",
      " batch_normalization (BatchNorm  (None, 60, 157, 32)  96         ['maximum_1[0][0]']              \n",
      " alization)                                                                                       \n",
      "                                                                                                  \n",
      " conv1d_6 (Conv1D)              (None, 115, 9)       171         ['conv1d_5[0][0]']               \n",
      "                                                                                                  \n",
      " conv2d_4 (Conv2D)              (None, 60, 157, 48)  13872       ['batch_normalization[0][0]']    \n",
      "                                                                                                  \n",
      " conv2d_5 (Conv2D)              (None, 60, 157, 48)  13872       ['batch_normalization[0][0]']    \n",
      "                                                                                                  \n",
      " conv1d_7 (Conv1D)              (None, 115, 9)       171         ['conv1d_6[0][0]']               \n",
      "                                                                                                  \n",
      " maximum_2 (Maximum)            (None, 60, 157, 48)  0           ['conv2d_4[0][0]',               \n",
      "                                                                  'conv2d_5[0][0]']               \n",
      "                                                                                                  \n",
      " conv1d_8 (Conv1D)              (None, 115, 9)       171         ['conv1d_7[0][0]']               \n",
      "                                                                                                  \n",
      " max_pooling2d_1 (MaxPooling2D)  (None, 30, 79, 48)  0           ['maximum_2[0][0]']              \n",
      "                                                                                                  \n",
      " conv1d_9 (Conv1D)              (None, 115, 9)       171         ['conv1d_8[0][0]']               \n",
      "                                                                                                  \n",
      " batch_normalization_1 (BatchNo  (None, 30, 79, 48)  144         ['max_pooling2d_1[0][0]']        \n",
      " rmalization)                                                                                     \n",
      "                                                                                                  \n",
      " conv1d_10 (Conv1D)             (None, 115, 9)       171         ['conv1d_9[0][0]']               \n",
      "                                                                                                  \n",
      " conv2d_6 (Conv2D)              (None, 30, 79, 48)   2352        ['batch_normalization_1[0][0]']  \n",
      "                                                                                                  \n",
      " conv2d_7 (Conv2D)              (None, 30, 79, 48)   2352        ['batch_normalization_1[0][0]']  \n",
      "                                                                                                  \n",
      " conv1d_11 (Conv1D)             (None, 115, 9)       171         ['conv1d_10[0][0]']              \n",
      "                                                                                                  \n",
      " maximum_3 (Maximum)            (None, 30, 79, 48)   0           ['conv2d_6[0][0]',               \n",
      "                                                                  'conv2d_7[0][0]']               \n",
      "                                                                                                  \n",
      " conv1d_12 (Conv1D)             (None, 115, 9)       171         ['conv1d_11[0][0]']              \n",
      "                                                                                                  \n",
      " batch_normalization_2 (BatchNo  (None, 30, 79, 48)  144         ['maximum_3[0][0]']              \n",
      " rmalization)                                                                                     \n",
      "                                                                                                  \n",
      " conv1d_13 (Conv1D)             (None, 115, 9)       171         ['conv1d_12[0][0]']              \n",
      "                                                                                                  \n",
      " conv2d_8 (Conv2D)              (None, 30, 79, 64)   27712       ['batch_normalization_2[0][0]']  \n",
      "                                                                                                  \n",
      " conv2d_9 (Conv2D)              (None, 30, 79, 64)   27712       ['batch_normalization_2[0][0]']  \n",
      "                                                                                                  \n"
     ]
    },
    {
     "name": "stdout",
     "output_type": "stream",
     "text": [
      " conv1d_14 (Conv1D)             (None, 115, 9)       171         ['conv1d_13[0][0]']              \n",
      "                                                                                                  \n",
      " maximum_4 (Maximum)            (None, 30, 79, 64)   0           ['conv2d_8[0][0]',               \n",
      "                                                                  'conv2d_9[0][0]']               \n",
      "                                                                                                  \n",
      " conv1d_15 (Conv1D)             (None, 115, 9)       171         ['conv1d_14[0][0]']              \n",
      "                                                                                                  \n",
      " max_pooling2d_2 (MaxPooling2D)  (None, 15, 40, 64)  0           ['maximum_4[0][0]']              \n",
      "                                                                                                  \n",
      " conv1d_16 (Conv1D)             (None, 115, 9)       171         ['conv1d_15[0][0]']              \n",
      "                                                                                                  \n",
      " conv2d_10 (Conv2D)             (None, 15, 40, 64)   4160        ['max_pooling2d_2[0][0]']        \n",
      "                                                                                                  \n",
      " conv2d_11 (Conv2D)             (None, 15, 40, 64)   4160        ['max_pooling2d_2[0][0]']        \n",
      "                                                                                                  \n",
      " conv1d_17 (Conv1D)             (None, 115, 9)       171         ['conv1d_16[0][0]']              \n",
      "                                                                                                  \n",
      " maximum_5 (Maximum)            (None, 15, 40, 64)   0           ['conv2d_10[0][0]',              \n",
      "                                                                  'conv2d_11[0][0]']              \n",
      "                                                                                                  \n",
      " conv1d_18 (Conv1D)             (None, 115, 9)       171         ['conv1d_17[0][0]']              \n",
      "                                                                                                  \n",
      " batch_normalization_3 (BatchNo  (None, 15, 40, 64)  192         ['maximum_5[0][0]']              \n",
      " rmalization)                                                                                     \n",
      "                                                                                                  \n",
      " conv1d_19 (Conv1D)             (None, 115, 9)       171         ['conv1d_18[0][0]']              \n",
      "                                                                                                  \n",
      " conv2d_12 (Conv2D)             (None, 15, 40, 32)   18464       ['batch_normalization_3[0][0]']  \n",
      "                                                                                                  \n",
      " conv2d_13 (Conv2D)             (None, 15, 40, 32)   18464       ['batch_normalization_3[0][0]']  \n",
      "                                                                                                  \n",
      " conv1d_20 (Conv1D)             (None, 115, 9)       171         ['conv1d_19[0][0]']              \n",
      "                                                                                                  \n",
      " maximum_6 (Maximum)            (None, 15, 40, 32)   0           ['conv2d_12[0][0]',              \n",
      "                                                                  'conv2d_13[0][0]']              \n",
      "                                                                                                  \n",
      " conv1d_21 (Conv1D)             (None, 115, 9)       171         ['conv1d_20[0][0]']              \n",
      "                                                                                                  \n",
      " batch_normalization_4 (BatchNo  (None, 15, 40, 32)  96          ['maximum_6[0][0]']              \n",
      " rmalization)                                                                                     \n",
      "                                                                                                  \n",
      " conv1d_22 (Conv1D)             (None, 115, 9)       171         ['conv1d_21[0][0]']              \n",
      "                                                                                                  \n",
      " conv2d_14 (Conv2D)             (None, 15, 40, 32)   1056        ['batch_normalization_4[0][0]']  \n",
      "                                                                                                  \n",
      " conv2d_15 (Conv2D)             (None, 15, 40, 32)   1056        ['batch_normalization_4[0][0]']  \n",
      "                                                                                                  \n",
      " conv1d_23 (Conv1D)             (None, 115, 9)       171         ['conv1d_22[0][0]']              \n",
      "                                                                                                  \n",
      " maximum_7 (Maximum)            (None, 15, 40, 32)   0           ['conv2d_14[0][0]',              \n",
      "                                                                  'conv2d_15[0][0]']              \n",
      "                                                                                                  \n",
      " conv1d_24 (Conv1D)             (None, 115, 9)       171         ['conv1d_23[0][0]']              \n",
      "                                                                                                  \n",
      " batch_normalization_5 (BatchNo  (None, 15, 40, 32)  96          ['maximum_7[0][0]']              \n",
      " rmalization)                                                                                     \n",
      "                                                                                                  \n",
      " conv1d_25 (Conv1D)             (None, 115, 9)       171         ['conv1d_24[0][0]']              \n",
      "                                                                                                  \n",
      " conv2d_16 (Conv2D)             (None, 15, 40, 32)   1056        ['batch_normalization_5[0][0]']  \n",
      "                                                                                                  \n",
      " conv2d_17 (Conv2D)             (None, 15, 40, 32)   1056        ['batch_normalization_5[0][0]']  \n",
      "                                                                                                  \n",
      " conv1d_26 (Conv1D)             (None, 115, 9)       171         ['conv1d_25[0][0]']              \n",
      "                                                                                                  \n",
      " maximum_8 (Maximum)            (None, 15, 40, 32)   0           ['conv2d_16[0][0]',              \n",
      "                                                                  'conv2d_17[0][0]']              \n",
      "                                                                                                  \n",
      " age_cat (InputLayer)           [(None, 6)]          0           []                               \n",
      "                                                                                                  \n",
      " sex_cat (InputLayer)           [(None, 2)]          0           []                               \n",
      "                                                                                                  \n",
      " height_weight (InputLayer)     [(None, 2)]          0           []                               \n",
      "                                                                                                  \n",
      " loc (InputLayer)               [(None, 5)]          0           []                               \n",
      "                                                                                                  \n",
      " conv1d_27 (Conv1D)             (None, 115, 9)       171         ['conv1d_26[0][0]']              \n",
      "                                                                                                  \n",
      " max_pooling2d_3 (MaxPooling2D)  (None, 7, 20, 32)   0           ['maximum_8[0][0]']              \n",
      "                                                                                                  \n",
      " dense (Dense)                  (None, 2)            14          ['age_cat[0][0]']                \n",
      "                                                                                                  \n",
      " dense_1 (Dense)                (None, 1)            3           ['sex_cat[0][0]']                \n"
     ]
    },
    {
     "name": "stdout",
     "output_type": "stream",
     "text": [
      "                                                                                                  \n",
      " dense_2 (Dense)                (None, 1)            3           ['height_weight[0][0]']          \n",
      "                                                                                                  \n",
      " dense_3 (Dense)                (None, 3)            18          ['loc[0][0]']                    \n",
      "                                                                                                  \n",
      " is_preg (InputLayer)           [(None, 1)]          0           []                               \n",
      "                                                                                                  \n",
      " conv1d_28 (Conv1D)             (None, 115, 9)       171         ['conv1d_27[0][0]']              \n",
      "                                                                                                  \n",
      " global_average_pooling2d (Glob  (None, 32)          0           ['max_pooling2d_3[0][0]']        \n",
      " alAveragePooling2D)                                                                              \n",
      "                                                                                                  \n",
      " concatenate (Concatenate)      (None, 8)            0           ['dense[0][0]',                  \n",
      "                                                                  'dense_1[0][0]',                \n",
      "                                                                  'dense_2[0][0]',                \n",
      "                                                                  'dense_3[0][0]',                \n",
      "                                                                  'is_preg[0][0]']                \n",
      "                                                                                                  \n",
      " conv1d_29 (Conv1D)             (None, 115, 9)       171         ['conv1d_28[0][0]']              \n",
      "                                                                                                  \n",
      " dropout_27 (Dropout)           (None, 32)           0           ['global_average_pooling2d[0][0]'\n",
      "                                                                 ]                                \n",
      "                                                                                                  \n",
      " dense_4 (Dense)                (None, 10)           90          ['concatenate[0][0]']            \n",
      "                                                                                                  \n",
      " global_max_pooling1d (GlobalMa  (None, 9)           0           ['conv1d_29[0][0]']              \n",
      " xPooling1D)                                                                                      \n",
      "                                                                                                  \n",
      " concatenate_1 (Concatenate)    (None, 51)           0           ['dropout_27[0][0]',             \n",
      "                                                                  'dense_4[0][0]',                \n",
      "                                                                  'global_max_pooling1d[0][0]']   \n",
      "                                                                                                  \n",
      " stft (InputLayer)              [(None, 1, 1, 1)]    0           []                               \n",
      "                                                                                                  \n",
      " cqt (InputLayer)               [(None, 1, 1, 1)]    0           []                               \n",
      "                                                                                                  \n",
      " dense_5 (Dense)                (None, 2)            104         ['concatenate_1[0][0]']          \n",
      "                                                                                                  \n",
      "==================================================================================================\n",
      "Total params: 147,106\n",
      "Trainable params: 146,594\n",
      "Non-trainable params: 512\n",
      "__________________________________________________________________________________________________\n"
     ]
    }
   ],
   "source": [
    "model1.summary()"
   ]
  },
  {
   "cell_type": "code",
   "execution_count": 39,
   "id": "8d2279ce",
   "metadata": {
    "scrolled": true
   },
   "outputs": [
    {
     "name": "stdout",
     "output_type": "stream",
     "text": [
      "Model: \"model_1\"\n",
      "__________________________________________________________________________________________________\n",
      " Layer (type)                   Output Shape         Param #     Connected to                     \n",
      "==================================================================================================\n",
      " interval (InputLayer)          [(None, 115, 1)]     0           []                               \n",
      "                                                                                                  \n",
      " mel (InputLayer)               [(None, 120, 313, 1  0           []                               \n",
      "                                )]                                                                \n",
      "                                                                                                  \n",
      " conv1d_30 (Conv1D)             (None, 115, 9)       27          ['interval[0][0]']               \n",
      "                                                                                                  \n",
      " conv2d_18 (Conv2D)             (None, 120, 313, 32  832         ['mel[0][0]']                    \n",
      "                                )                                                                 \n",
      "                                                                                                  \n",
      " conv2d_19 (Conv2D)             (None, 120, 313, 32  832         ['mel[0][0]']                    \n",
      "                                )                                                                 \n",
      "                                                                                                  \n",
      " conv1d_31 (Conv1D)             (None, 115, 9)       171         ['conv1d_30[0][0]']              \n",
      "                                                                                                  \n",
      " maximum_9 (Maximum)            (None, 120, 313, 32  0           ['conv2d_18[0][0]',              \n",
      "                                )                                 'conv2d_19[0][0]']              \n",
      "                                                                                                  \n",
      " conv1d_32 (Conv1D)             (None, 115, 9)       171         ['conv1d_31[0][0]']              \n",
      "                                                                                                  \n",
      " max_pooling2d_4 (MaxPooling2D)  (None, 60, 157, 32)  0          ['maximum_9[0][0]']              \n",
      "                                                                                                  \n",
      " conv1d_33 (Conv1D)             (None, 115, 9)       171         ['conv1d_32[0][0]']              \n",
      "                                                                                                  \n",
      " conv2d_20 (Conv2D)             (None, 60, 157, 32)  1056        ['max_pooling2d_4[0][0]']        \n",
      "                                                                                                  \n",
      " conv2d_21 (Conv2D)             (None, 60, 157, 32)  1056        ['max_pooling2d_4[0][0]']        \n",
      "                                                                                                  \n",
      " conv1d_34 (Conv1D)             (None, 115, 9)       171         ['conv1d_33[0][0]']              \n",
      "                                                                                                  \n",
      " maximum_10 (Maximum)           (None, 60, 157, 32)  0           ['conv2d_20[0][0]',              \n",
      "                                                                  'conv2d_21[0][0]']              \n",
      "                                                                                                  \n",
      " conv1d_35 (Conv1D)             (None, 115, 9)       171         ['conv1d_34[0][0]']              \n",
      "                                                                                                  \n",
      " batch_normalization_6 (BatchNo  (None, 60, 157, 32)  96         ['maximum_10[0][0]']             \n",
      " rmalization)                                                                                     \n",
      "                                                                                                  \n",
      " conv1d_36 (Conv1D)             (None, 115, 9)       171         ['conv1d_35[0][0]']              \n",
      "                                                                                                  \n",
      " conv2d_22 (Conv2D)             (None, 60, 157, 48)  13872       ['batch_normalization_6[0][0]']  \n",
      "                                                                                                  \n",
      " conv2d_23 (Conv2D)             (None, 60, 157, 48)  13872       ['batch_normalization_6[0][0]']  \n",
      "                                                                                                  \n",
      " conv1d_37 (Conv1D)             (None, 115, 9)       171         ['conv1d_36[0][0]']              \n",
      "                                                                                                  \n",
      " maximum_11 (Maximum)           (None, 60, 157, 48)  0           ['conv2d_22[0][0]',              \n",
      "                                                                  'conv2d_23[0][0]']              \n",
      "                                                                                                  \n",
      " conv1d_38 (Conv1D)             (None, 115, 9)       171         ['conv1d_37[0][0]']              \n",
      "                                                                                                  \n",
      " max_pooling2d_5 (MaxPooling2D)  (None, 30, 79, 48)  0           ['maximum_11[0][0]']             \n",
      "                                                                                                  \n",
      " conv1d_39 (Conv1D)             (None, 115, 9)       171         ['conv1d_38[0][0]']              \n",
      "                                                                                                  \n",
      " batch_normalization_7 (BatchNo  (None, 30, 79, 48)  144         ['max_pooling2d_5[0][0]']        \n",
      " rmalization)                                                                                     \n",
      "                                                                                                  \n",
      " conv1d_40 (Conv1D)             (None, 115, 9)       171         ['conv1d_39[0][0]']              \n",
      "                                                                                                  \n",
      " conv2d_24 (Conv2D)             (None, 30, 79, 48)   2352        ['batch_normalization_7[0][0]']  \n",
      "                                                                                                  \n",
      " conv2d_25 (Conv2D)             (None, 30, 79, 48)   2352        ['batch_normalization_7[0][0]']  \n",
      "                                                                                                  \n",
      " conv1d_41 (Conv1D)             (None, 115, 9)       171         ['conv1d_40[0][0]']              \n",
      "                                                                                                  \n",
      " maximum_12 (Maximum)           (None, 30, 79, 48)   0           ['conv2d_24[0][0]',              \n",
      "                                                                  'conv2d_25[0][0]']              \n",
      "                                                                                                  \n",
      " conv1d_42 (Conv1D)             (None, 115, 9)       171         ['conv1d_41[0][0]']              \n",
      "                                                                                                  \n",
      " batch_normalization_8 (BatchNo  (None, 30, 79, 48)  144         ['maximum_12[0][0]']             \n",
      " rmalization)                                                                                     \n",
      "                                                                                                  \n",
      " conv1d_43 (Conv1D)             (None, 115, 9)       171         ['conv1d_42[0][0]']              \n",
      "                                                                                                  \n",
      " conv2d_26 (Conv2D)             (None, 30, 79, 64)   27712       ['batch_normalization_8[0][0]']  \n",
      "                                                                                                  \n",
      " conv2d_27 (Conv2D)             (None, 30, 79, 64)   27712       ['batch_normalization_8[0][0]']  \n",
      "                                                                                                  \n"
     ]
    },
    {
     "name": "stdout",
     "output_type": "stream",
     "text": [
      " conv1d_44 (Conv1D)             (None, 115, 9)       171         ['conv1d_43[0][0]']              \n",
      "                                                                                                  \n",
      " maximum_13 (Maximum)           (None, 30, 79, 64)   0           ['conv2d_26[0][0]',              \n",
      "                                                                  'conv2d_27[0][0]']              \n",
      "                                                                                                  \n",
      " conv1d_45 (Conv1D)             (None, 115, 9)       171         ['conv1d_44[0][0]']              \n",
      "                                                                                                  \n",
      " max_pooling2d_6 (MaxPooling2D)  (None, 15, 40, 64)  0           ['maximum_13[0][0]']             \n",
      "                                                                                                  \n",
      " conv1d_46 (Conv1D)             (None, 115, 9)       171         ['conv1d_45[0][0]']              \n",
      "                                                                                                  \n",
      " conv2d_28 (Conv2D)             (None, 15, 40, 64)   4160        ['max_pooling2d_6[0][0]']        \n",
      "                                                                                                  \n",
      " conv2d_29 (Conv2D)             (None, 15, 40, 64)   4160        ['max_pooling2d_6[0][0]']        \n",
      "                                                                                                  \n",
      " conv1d_47 (Conv1D)             (None, 115, 9)       171         ['conv1d_46[0][0]']              \n",
      "                                                                                                  \n",
      " maximum_14 (Maximum)           (None, 15, 40, 64)   0           ['conv2d_28[0][0]',              \n",
      "                                                                  'conv2d_29[0][0]']              \n",
      "                                                                                                  \n",
      " conv1d_48 (Conv1D)             (None, 115, 9)       171         ['conv1d_47[0][0]']              \n",
      "                                                                                                  \n",
      " batch_normalization_9 (BatchNo  (None, 15, 40, 64)  192         ['maximum_14[0][0]']             \n",
      " rmalization)                                                                                     \n",
      "                                                                                                  \n",
      " conv1d_49 (Conv1D)             (None, 115, 9)       171         ['conv1d_48[0][0]']              \n",
      "                                                                                                  \n",
      " conv2d_30 (Conv2D)             (None, 15, 40, 32)   18464       ['batch_normalization_9[0][0]']  \n",
      "                                                                                                  \n",
      " conv2d_31 (Conv2D)             (None, 15, 40, 32)   18464       ['batch_normalization_9[0][0]']  \n",
      "                                                                                                  \n",
      " conv1d_50 (Conv1D)             (None, 115, 9)       171         ['conv1d_49[0][0]']              \n",
      "                                                                                                  \n",
      " maximum_15 (Maximum)           (None, 15, 40, 32)   0           ['conv2d_30[0][0]',              \n",
      "                                                                  'conv2d_31[0][0]']              \n",
      "                                                                                                  \n",
      " conv1d_51 (Conv1D)             (None, 115, 9)       171         ['conv1d_50[0][0]']              \n",
      "                                                                                                  \n",
      " batch_normalization_10 (BatchN  (None, 15, 40, 32)  96          ['maximum_15[0][0]']             \n",
      " ormalization)                                                                                    \n",
      "                                                                                                  \n",
      " conv1d_52 (Conv1D)             (None, 115, 9)       171         ['conv1d_51[0][0]']              \n",
      "                                                                                                  \n",
      " conv2d_32 (Conv2D)             (None, 15, 40, 32)   1056        ['batch_normalization_10[0][0]'] \n",
      "                                                                                                  \n",
      " conv2d_33 (Conv2D)             (None, 15, 40, 32)   1056        ['batch_normalization_10[0][0]'] \n",
      "                                                                                                  \n",
      " conv1d_53 (Conv1D)             (None, 115, 9)       171         ['conv1d_52[0][0]']              \n",
      "                                                                                                  \n",
      " maximum_16 (Maximum)           (None, 15, 40, 32)   0           ['conv2d_32[0][0]',              \n",
      "                                                                  'conv2d_33[0][0]']              \n",
      "                                                                                                  \n",
      " conv1d_54 (Conv1D)             (None, 115, 9)       171         ['conv1d_53[0][0]']              \n",
      "                                                                                                  \n",
      " batch_normalization_11 (BatchN  (None, 15, 40, 32)  96          ['maximum_16[0][0]']             \n",
      " ormalization)                                                                                    \n",
      "                                                                                                  \n",
      " conv1d_55 (Conv1D)             (None, 115, 9)       171         ['conv1d_54[0][0]']              \n",
      "                                                                                                  \n",
      " conv2d_34 (Conv2D)             (None, 15, 40, 32)   1056        ['batch_normalization_11[0][0]'] \n",
      "                                                                                                  \n",
      " conv2d_35 (Conv2D)             (None, 15, 40, 32)   1056        ['batch_normalization_11[0][0]'] \n",
      "                                                                                                  \n",
      " conv1d_56 (Conv1D)             (None, 115, 9)       171         ['conv1d_55[0][0]']              \n",
      "                                                                                                  \n",
      " maximum_17 (Maximum)           (None, 15, 40, 32)   0           ['conv2d_34[0][0]',              \n",
      "                                                                  'conv2d_35[0][0]']              \n",
      "                                                                                                  \n",
      " age_cat (InputLayer)           [(None, 6)]          0           []                               \n",
      "                                                                                                  \n",
      " sex_cat (InputLayer)           [(None, 2)]          0           []                               \n",
      "                                                                                                  \n",
      " height_weight (InputLayer)     [(None, 2)]          0           []                               \n",
      "                                                                                                  \n",
      " loc (InputLayer)               [(None, 5)]          0           []                               \n",
      "                                                                                                  \n",
      " conv1d_57 (Conv1D)             (None, 115, 9)       171         ['conv1d_56[0][0]']              \n",
      "                                                                                                  \n",
      " max_pooling2d_7 (MaxPooling2D)  (None, 7, 20, 32)   0           ['maximum_17[0][0]']             \n",
      "                                                                                                  \n",
      " dense_6 (Dense)                (None, 2)            14          ['age_cat[0][0]']                \n",
      "                                                                                                  \n",
      " dense_7 (Dense)                (None, 1)            3           ['sex_cat[0][0]']                \n"
     ]
    },
    {
     "name": "stdout",
     "output_type": "stream",
     "text": [
      "                                                                                                  \n",
      " dense_8 (Dense)                (None, 1)            3           ['height_weight[0][0]']          \n",
      "                                                                                                  \n",
      " dense_9 (Dense)                (None, 3)            18          ['loc[0][0]']                    \n",
      "                                                                                                  \n",
      " is_preg (InputLayer)           [(None, 1)]          0           []                               \n",
      "                                                                                                  \n",
      " conv1d_58 (Conv1D)             (None, 115, 9)       171         ['conv1d_57[0][0]']              \n",
      "                                                                                                  \n",
      " global_average_pooling2d_1 (Gl  (None, 32)          0           ['max_pooling2d_7[0][0]']        \n",
      " obalAveragePooling2D)                                                                            \n",
      "                                                                                                  \n",
      " concatenate_2 (Concatenate)    (None, 8)            0           ['dense_6[0][0]',                \n",
      "                                                                  'dense_7[0][0]',                \n",
      "                                                                  'dense_8[0][0]',                \n",
      "                                                                  'dense_9[0][0]',                \n",
      "                                                                  'is_preg[0][0]']                \n",
      "                                                                                                  \n",
      " conv1d_59 (Conv1D)             (None, 115, 9)       171         ['conv1d_58[0][0]']              \n",
      "                                                                                                  \n",
      " dropout_28 (Dropout)           (None, 32)           0           ['global_average_pooling2d_1[0][0\n",
      "                                                                 ]']                              \n",
      "                                                                                                  \n",
      " dense_10 (Dense)               (None, 10)           90          ['concatenate_2[0][0]']          \n",
      "                                                                                                  \n",
      " global_max_pooling1d_1 (Global  (None, 9)           0           ['conv1d_59[0][0]']              \n",
      " MaxPooling1D)                                                                                    \n",
      "                                                                                                  \n",
      " concatenate_3 (Concatenate)    (None, 51)           0           ['dropout_28[0][0]',             \n",
      "                                                                  'dense_10[0][0]',               \n",
      "                                                                  'global_max_pooling1d_1[0][0]'] \n",
      "                                                                                                  \n",
      " stft (InputLayer)              [(None, 1, 1, 1)]    0           []                               \n",
      "                                                                                                  \n",
      " cqt (InputLayer)               [(None, 1, 1, 1)]    0           []                               \n",
      "                                                                                                  \n",
      " dense_11 (Dense)               (None, 2)            104         ['concatenate_3[0][0]']          \n",
      "                                                                                                  \n",
      "==================================================================================================\n",
      "Total params: 147,106\n",
      "Trainable params: 146,594\n",
      "Non-trainable params: 512\n",
      "__________________________________________________________________________________________________\n"
     ]
    }
   ],
   "source": [
    "model2.summary()"
   ]
  },
  {
   "cell_type": "code",
   "execution_count": null,
   "id": "222b2f6f",
   "metadata": {},
   "outputs": [],
   "source": []
  },
  {
   "cell_type": "code",
   "execution_count": null,
   "id": "48bbf746",
   "metadata": {},
   "outputs": [],
   "source": []
  },
  {
   "cell_type": "code",
   "execution_count": 40,
   "id": "57a145f2",
   "metadata": {
    "scrolled": true
   },
   "outputs": [
    {
     "name": "stdout",
     "output_type": "stream",
     "text": [
      "Epoch 1/100\n",
      "40/40 [==============================] - 8s 113ms/step - loss: 3.6298 - accuracy: 0.7348 - auc: 0.8046 - val_loss: 58.1373 - val_accuracy: 0.2108 - val_auc: 0.2085 - lr: 9.9851e-04\n",
      "Epoch 2/100\n",
      "40/40 [==============================] - 3s 83ms/step - loss: 1.2718 - accuracy: 0.6535 - auc: 0.7185 - val_loss: 4.6782 - val_accuracy: 0.2282 - val_auc: 0.2288 - lr: 9.9831e-04\n",
      "Epoch 3/100\n",
      "40/40 [==============================] - 3s 83ms/step - loss: 1.1402 - accuracy: 0.6758 - auc: 0.7398 - val_loss: 1.0286 - val_accuracy: 0.5911 - val_auc: 0.6052 - lr: 9.9807e-04\n",
      "Epoch 4/100\n",
      "40/40 [==============================] - 3s 84ms/step - loss: 1.0441 - accuracy: 0.6867 - auc: 0.7524 - val_loss: 0.8034 - val_accuracy: 0.6387 - val_auc: 0.6805 - lr: 9.9781e-04\n",
      "Epoch 5/100\n",
      "40/40 [==============================] - 3s 84ms/step - loss: 0.9589 - accuracy: 0.7223 - auc: 0.7977 - val_loss: 0.5195 - val_accuracy: 0.7369 - val_auc: 0.8542 - lr: 9.9750e-04\n",
      "Epoch 6/100\n",
      "40/40 [==============================] - 3s 81ms/step - loss: 0.9371 - accuracy: 0.7328 - auc: 0.8070 - val_loss: 0.6185 - val_accuracy: 0.6704 - val_auc: 0.7450 - lr: 9.9716e-04\n",
      "Epoch 7/100\n",
      "40/40 [==============================] - 3s 84ms/step - loss: 0.8851 - accuracy: 0.7473 - auc: 0.8263 - val_loss: 0.4480 - val_accuracy: 0.7861 - val_auc: 0.8872 - lr: 9.9676e-04\n",
      "Epoch 8/100\n",
      "40/40 [==============================] - 3s 85ms/step - loss: 0.8929 - accuracy: 0.7648 - auc: 0.8304 - val_loss: 0.4282 - val_accuracy: 0.8162 - val_auc: 0.9098 - lr: 9.9632e-04\n",
      "Epoch 9/100\n",
      "40/40 [==============================] - 3s 81ms/step - loss: 0.8596 - accuracy: 0.7734 - auc: 0.8433 - val_loss: 0.4904 - val_accuracy: 0.7623 - val_auc: 0.8593 - lr: 9.9581e-04\n",
      "Epoch 10/100\n",
      "40/40 [==============================] - 3s 82ms/step - loss: 0.8620 - accuracy: 0.7871 - auc: 0.8566 - val_loss: 0.5306 - val_accuracy: 0.7480 - val_auc: 0.8576 - lr: 9.9523e-04\n",
      "Epoch 11/100\n",
      "40/40 [==============================] - 3s 82ms/step - loss: 0.8443 - accuracy: 0.7980 - auc: 0.8577 - val_loss: 0.5029 - val_accuracy: 0.8082 - val_auc: 0.9020 - lr: 9.9457e-04\n",
      "Epoch 12/100\n",
      "40/40 [==============================] - 3s 84ms/step - loss: 0.8111 - accuracy: 0.8094 - auc: 0.8756 - val_loss: 0.3946 - val_accuracy: 0.8479 - val_auc: 0.9168 - lr: 9.9382e-04\n",
      "Epoch 13/100\n",
      "40/40 [==============================] - 3s 85ms/step - loss: 0.8441 - accuracy: 0.7906 - auc: 0.8678 - val_loss: 0.4832 - val_accuracy: 0.8605 - val_auc: 0.9286 - lr: 9.9297e-04\n",
      "Epoch 14/100\n",
      "40/40 [==============================] - 3s 81ms/step - loss: 0.8197 - accuracy: 0.8238 - auc: 0.8769 - val_loss: 0.5336 - val_accuracy: 0.7718 - val_auc: 0.8515 - lr: 9.9200e-04\n",
      "Epoch 15/100\n",
      "40/40 [==============================] - 3s 84ms/step - loss: 0.8197 - accuracy: 0.8176 - auc: 0.8781 - val_loss: 0.4155 - val_accuracy: 0.8669 - val_auc: 0.9131 - lr: 9.9090e-04\n",
      "Epoch 16/100\n",
      "40/40 [==============================] - 3s 82ms/step - loss: 0.7848 - accuracy: 0.8227 - auc: 0.8842 - val_loss: 0.4024 - val_accuracy: 0.8510 - val_auc: 0.9136 - lr: 9.8965e-04\n",
      "Epoch 17/100\n",
      "40/40 [==============================] - 3s 81ms/step - loss: 0.8516 - accuracy: 0.7898 - auc: 0.8685 - val_loss: 0.5100 - val_accuracy: 0.8146 - val_auc: 0.8997 - lr: 9.8823e-04\n",
      "Epoch 18/100\n",
      "40/40 [==============================] - 3s 85ms/step - loss: 0.8112 - accuracy: 0.8191 - auc: 0.8886 - val_loss: 0.4096 - val_accuracy: 0.8764 - val_auc: 0.9342 - lr: 9.8662e-04\n",
      "Epoch 19/100\n",
      "40/40 [==============================] - 3s 81ms/step - loss: 0.7851 - accuracy: 0.8297 - auc: 0.8898 - val_loss: 0.4588 - val_accuracy: 0.8463 - val_auc: 0.9145 - lr: 9.8479e-04\n",
      "Epoch 20/100\n",
      "40/40 [==============================] - 3s 81ms/step - loss: 0.8157 - accuracy: 0.8125 - auc: 0.8758 - val_loss: 0.4119 - val_accuracy: 0.8225 - val_auc: 0.9079 - lr: 9.8271e-04\n",
      "Epoch 21/100\n",
      "40/40 [==============================] - 3s 81ms/step - loss: 0.8105 - accuracy: 0.8246 - auc: 0.8809 - val_loss: 0.4381 - val_accuracy: 0.8494 - val_auc: 0.9162 - lr: 9.8036e-04\n",
      "Epoch 22/100\n",
      "40/40 [==============================] - 3s 81ms/step - loss: 0.8154 - accuracy: 0.8172 - auc: 0.8813 - val_loss: 0.4407 - val_accuracy: 0.8526 - val_auc: 0.9139 - lr: 9.7769e-04\n",
      "Epoch 23/100\n",
      "40/40 [==============================] - 3s 88ms/step - loss: 0.8007 - accuracy: 0.8074 - auc: 0.8789 - val_loss: 0.3751 - val_accuracy: 0.8938 - val_auc: 0.9354 - lr: 9.7468e-04\n",
      "Epoch 24/100\n",
      "40/40 [==============================] - 3s 81ms/step - loss: 0.8344 - accuracy: 0.8098 - auc: 0.8741 - val_loss: 0.3856 - val_accuracy: 0.8891 - val_auc: 0.9305 - lr: 9.7126e-04\n",
      "Epoch 25/100\n",
      "40/40 [==============================] - 3s 81ms/step - loss: 0.8017 - accuracy: 0.8152 - auc: 0.8908 - val_loss: 0.3937 - val_accuracy: 0.8891 - val_auc: 0.9175 - lr: 9.6740e-04\n",
      "Epoch 26/100\n",
      "40/40 [==============================] - 3s 81ms/step - loss: 0.8208 - accuracy: 0.8102 - auc: 0.8750 - val_loss: 0.4317 - val_accuracy: 0.8906 - val_auc: 0.9295 - lr: 9.6305e-04\n",
      "Epoch 27/100\n",
      "40/40 [==============================] - 3s 82ms/step - loss: 0.7895 - accuracy: 0.8188 - auc: 0.8894 - val_loss: 0.3727 - val_accuracy: 0.8479 - val_auc: 0.9272 - lr: 9.5813e-04\n",
      "Epoch 28/100\n",
      "40/40 [==============================] - 3s 81ms/step - loss: 0.7978 - accuracy: 0.8250 - auc: 0.8864 - val_loss: 0.4924 - val_accuracy: 0.8035 - val_auc: 0.8975 - lr: 9.5260e-04\n",
      "Epoch 29/100\n",
      "40/40 [==============================] - 3s 84ms/step - loss: 0.8120 - accuracy: 0.8176 - auc: 0.8855 - val_loss: 0.4114 - val_accuracy: 0.8970 - val_auc: 0.9435 - lr: 9.4637e-04\n",
      "Epoch 30/100\n",
      "40/40 [==============================] - 3s 81ms/step - loss: 0.8001 - accuracy: 0.8145 - auc: 0.8848 - val_loss: 0.4267 - val_accuracy: 0.8542 - val_auc: 0.9226 - lr: 9.3939e-04\n",
      "Epoch 31/100\n",
      "40/40 [==============================] - 3s 81ms/step - loss: 0.8006 - accuracy: 0.8148 - auc: 0.8893 - val_loss: 0.3853 - val_accuracy: 0.8685 - val_auc: 0.9077 - lr: 9.3155e-04\n",
      "Epoch 32/100\n",
      "40/40 [==============================] - 3s 82ms/step - loss: 0.7934 - accuracy: 0.8207 - auc: 0.8890 - val_loss: 0.3564 - val_accuracy: 0.8843 - val_auc: 0.9330 - lr: 9.2279e-04\n",
      "Epoch 33/100\n",
      "40/40 [==============================] - 3s 81ms/step - loss: 0.8170 - accuracy: 0.8137 - auc: 0.8837 - val_loss: 0.3772 - val_accuracy: 0.8669 - val_auc: 0.9288 - lr: 9.1301e-04\n",
      "Epoch 34/100\n",
      "40/40 [==============================] - 3s 81ms/step - loss: 0.8244 - accuracy: 0.8133 - auc: 0.8797 - val_loss: 0.4296 - val_accuracy: 0.8970 - val_auc: 0.9326 - lr: 9.0213e-04\n",
      "Epoch 35/100\n",
      "40/40 [==============================] - 3s 81ms/step - loss: 0.8200 - accuracy: 0.8156 - auc: 0.8837 - val_loss: 0.3748 - val_accuracy: 0.8827 - val_auc: 0.9364 - lr: 8.9005e-04\n",
      "Epoch 36/100\n",
      "40/40 [==============================] - 3s 82ms/step - loss: 0.7889 - accuracy: 0.8211 - auc: 0.8982 - val_loss: 0.4474 - val_accuracy: 0.8590 - val_auc: 0.9284 - lr: 8.7669e-04\n",
      "Epoch 37/100\n",
      "40/40 [==============================] - 3s 81ms/step - loss: 0.7803 - accuracy: 0.8262 - auc: 0.8933 - val_loss: 0.3574 - val_accuracy: 0.8796 - val_auc: 0.9353 - lr: 8.6196e-04\n",
      "Epoch 38/100\n",
      "40/40 [==============================] - 3s 85ms/step - loss: 0.7704 - accuracy: 0.8340 - auc: 0.8967 - val_loss: 0.3603 - val_accuracy: 0.9081 - val_auc: 0.9459 - lr: 8.4578e-04\n",
      "Epoch 39/100\n",
      "40/40 [==============================] - 3s 81ms/step - loss: 0.8068 - accuracy: 0.8078 - auc: 0.8885 - val_loss: 0.4491 - val_accuracy: 0.8748 - val_auc: 0.9257 - lr: 8.2809e-04\n",
      "Epoch 40/100\n",
      "40/40 [==============================] - 3s 81ms/step - loss: 0.8213 - accuracy: 0.8117 - auc: 0.8779 - val_loss: 0.4118 - val_accuracy: 0.8954 - val_auc: 0.9404 - lr: 8.0883e-04\n",
      "Epoch 41/100\n",
      "40/40 [==============================] - 3s 82ms/step - loss: 0.7854 - accuracy: 0.8289 - auc: 0.8960 - val_loss: 0.3447 - val_accuracy: 0.8796 - val_auc: 0.9387 - lr: 7.8798e-04\n",
      "Epoch 42/100\n",
      "40/40 [==============================] - 3s 82ms/step - loss: 0.8018 - accuracy: 0.8184 - auc: 0.8874 - val_loss: 0.3675 - val_accuracy: 0.8653 - val_auc: 0.9251 - lr: 7.6551e-04\n",
      "Epoch 43/100\n",
      "40/40 [==============================] - 3s 82ms/step - loss: 0.7896 - accuracy: 0.8191 - auc: 0.8990 - val_loss: 0.5264 - val_accuracy: 0.7559 - val_auc: 0.8527 - lr: 7.4146e-04\n"
     ]
    },
    {
     "name": "stdout",
     "output_type": "stream",
     "text": [
      "Epoch 44/100\n",
      "40/40 [==============================] - 3s 81ms/step - loss: 0.7692 - accuracy: 0.8262 - auc: 0.8862 - val_loss: 0.3666 - val_accuracy: 0.8637 - val_auc: 0.9206 - lr: 7.1587e-04\n",
      "Epoch 45/100\n",
      "40/40 [==============================] - 3s 81ms/step - loss: 0.7752 - accuracy: 0.8258 - auc: 0.8976 - val_loss: 0.3533 - val_accuracy: 0.9002 - val_auc: 0.9410 - lr: 6.8882e-04\n",
      "Epoch 46/100\n",
      "40/40 [==============================] - 3s 82ms/step - loss: 0.7973 - accuracy: 0.8109 - auc: 0.8843 - val_loss: 0.4531 - val_accuracy: 0.8605 - val_auc: 0.9235 - lr: 6.6044e-04\n",
      "Epoch 47/100\n",
      "40/40 [==============================] - 3s 85ms/step - loss: 0.7730 - accuracy: 0.8180 - auc: 0.9099 - val_loss: 0.3842 - val_accuracy: 0.9113 - val_auc: 0.9430 - lr: 6.3088e-04\n",
      "Epoch 48/100\n",
      "40/40 [==============================] - 3s 83ms/step - loss: 0.7904 - accuracy: 0.8156 - auc: 0.8844 - val_loss: 0.5022 - val_accuracy: 0.8479 - val_auc: 0.9213 - lr: 6.0032e-04\n",
      "Epoch 49/100\n",
      "40/40 [==============================] - 3s 83ms/step - loss: 0.7583 - accuracy: 0.8250 - auc: 0.8986 - val_loss: 0.3469 - val_accuracy: 0.8970 - val_auc: 0.9392 - lr: 5.6899e-04\n",
      "Epoch 50/100\n",
      "40/40 [==============================] - 3s 82ms/step - loss: 0.7647 - accuracy: 0.8336 - auc: 0.9024 - val_loss: 0.3556 - val_accuracy: 0.9081 - val_auc: 0.9424 - lr: 5.3713e-04\n",
      "Epoch 51/100\n",
      "40/40 [==============================] - 3s 82ms/step - loss: 0.7807 - accuracy: 0.8234 - auc: 0.8993 - val_loss: 0.3446 - val_accuracy: 0.9002 - val_auc: 0.9403 - lr: 5.0500e-04\n",
      "Epoch 52/100\n",
      "40/40 [==============================] - 3s 82ms/step - loss: 0.7827 - accuracy: 0.8281 - auc: 0.8972 - val_loss: 0.5387 - val_accuracy: 0.7401 - val_auc: 0.8216 - lr: 4.7287e-04\n",
      "Epoch 53/100\n",
      "40/40 [==============================] - 3s 82ms/step - loss: 0.7892 - accuracy: 0.8184 - auc: 0.8927 - val_loss: 0.3497 - val_accuracy: 0.8970 - val_auc: 0.9367 - lr: 4.4101e-04\n",
      "Epoch 54/100\n",
      "40/40 [==============================] - 3s 82ms/step - loss: 0.7672 - accuracy: 0.8355 - auc: 0.8974 - val_loss: 0.4016 - val_accuracy: 0.9033 - val_auc: 0.9433 - lr: 4.0968e-04\n",
      "Epoch 55/100\n",
      "40/40 [==============================] - 3s 82ms/step - loss: 0.7634 - accuracy: 0.8266 - auc: 0.8951 - val_loss: 0.3832 - val_accuracy: 0.8922 - val_auc: 0.9447 - lr: 3.7912e-04\n",
      "Epoch 56/100\n",
      "40/40 [==============================] - 3s 82ms/step - loss: 0.7442 - accuracy: 0.8250 - auc: 0.9005 - val_loss: 0.3418 - val_accuracy: 0.8764 - val_auc: 0.9317 - lr: 3.4956e-04\n",
      "Epoch 57/100\n",
      "40/40 [==============================] - 3s 82ms/step - loss: 0.7649 - accuracy: 0.8277 - auc: 0.8973 - val_loss: 0.3960 - val_accuracy: 0.8986 - val_auc: 0.9426 - lr: 3.2118e-04\n",
      "Epoch 58/100\n",
      "40/40 [==============================] - 3s 82ms/step - loss: 0.7492 - accuracy: 0.8316 - auc: 0.9073 - val_loss: 0.3519 - val_accuracy: 0.8986 - val_auc: 0.9282 - lr: 2.9413e-04\n",
      "Epoch 59/100\n",
      "40/40 [==============================] - 3s 82ms/step - loss: 0.7775 - accuracy: 0.8152 - auc: 0.8908 - val_loss: 0.3664 - val_accuracy: 0.9002 - val_auc: 0.9403 - lr: 2.6854e-04\n",
      "Epoch 60/100\n",
      "40/40 [==============================] - 3s 82ms/step - loss: 0.7760 - accuracy: 0.8223 - auc: 0.8983 - val_loss: 0.3574 - val_accuracy: 0.9049 - val_auc: 0.9466 - lr: 2.4449e-04\n",
      "Epoch 61/100\n",
      "40/40 [==============================] - 3s 81ms/step - loss: 0.7616 - accuracy: 0.8316 - auc: 0.8973 - val_loss: 0.3594 - val_accuracy: 0.9017 - val_auc: 0.9436 - lr: 2.2202e-04\n",
      "Epoch 62/100\n",
      "40/40 [==============================] - 3s 82ms/step - loss: 0.7619 - accuracy: 0.8332 - auc: 0.9040 - val_loss: 0.4104 - val_accuracy: 0.8859 - val_auc: 0.9402 - lr: 2.0117e-04\n",
      "Epoch 63/100\n",
      "40/40 [==============================] - 3s 81ms/step - loss: 0.7789 - accuracy: 0.8254 - auc: 0.9022 - val_loss: 0.4147 - val_accuracy: 0.8780 - val_auc: 0.9322 - lr: 1.8191e-04\n",
      "Epoch 64/100\n",
      "40/40 [==============================] - 3s 82ms/step - loss: 0.7708 - accuracy: 0.8086 - auc: 0.8987 - val_loss: 0.3715 - val_accuracy: 0.9017 - val_auc: 0.9388 - lr: 1.6422e-04\n",
      "Epoch 65/100\n",
      "40/40 [==============================] - 3s 82ms/step - loss: 0.7697 - accuracy: 0.8176 - auc: 0.9010 - val_loss: 0.4246 - val_accuracy: 0.8748 - val_auc: 0.9311 - lr: 1.4804e-04\n",
      "Epoch 66/100\n",
      "40/40 [==============================] - 3s 82ms/step - loss: 0.7790 - accuracy: 0.8137 - auc: 0.9021 - val_loss: 0.3732 - val_accuracy: 0.9033 - val_auc: 0.9402 - lr: 1.3331e-04\n",
      "Epoch 67/100\n",
      "40/40 [==============================] - 3s 81ms/step - loss: 0.7675 - accuracy: 0.8281 - auc: 0.8961 - val_loss: 0.4081 - val_accuracy: 0.8859 - val_auc: 0.9397 - lr: 1.1995e-04\n",
      "Epoch 68/100\n",
      "40/40 [==============================] - 3s 81ms/step - loss: 0.7785 - accuracy: 0.8145 - auc: 0.9020 - val_loss: 0.4994 - val_accuracy: 0.7813 - val_auc: 0.8719 - lr: 1.0787e-04\n",
      "Epoch 69/100\n",
      "40/40 [==============================] - 3s 82ms/step - loss: 0.7726 - accuracy: 0.8215 - auc: 0.9003 - val_loss: 0.3864 - val_accuracy: 0.8986 - val_auc: 0.9430 - lr: 9.6985e-05\n",
      "Epoch 70/100\n",
      "40/40 [==============================] - 3s 82ms/step - loss: 0.7613 - accuracy: 0.8238 - auc: 0.9070 - val_loss: 0.3676 - val_accuracy: 0.8986 - val_auc: 0.9437 - lr: 8.7208e-05\n",
      "Epoch 71/100\n",
      "40/40 [==============================] - 3s 82ms/step - loss: 0.7742 - accuracy: 0.8188 - auc: 0.8977 - val_loss: 0.3723 - val_accuracy: 0.8970 - val_auc: 0.9454 - lr: 7.8447e-05\n",
      "Epoch 72/100\n",
      "40/40 [==============================] - 3s 83ms/step - loss: 0.7811 - accuracy: 0.8277 - auc: 0.9064 - val_loss: 0.3619 - val_accuracy: 0.9049 - val_auc: 0.9416 - lr: 7.0614e-05\n",
      "Epoch 73/100\n",
      "40/40 [==============================] - 3s 82ms/step - loss: 0.7480 - accuracy: 0.8238 - auc: 0.9069 - val_loss: 0.3701 - val_accuracy: 0.8986 - val_auc: 0.9402 - lr: 6.3625e-05\n",
      "Epoch 74/100\n",
      "40/40 [==============================] - 3s 83ms/step - loss: 0.7909 - accuracy: 0.8113 - auc: 0.9033 - val_loss: 0.4062 - val_accuracy: 0.8843 - val_auc: 0.9391 - lr: 5.7401e-05\n",
      "Epoch 75/100\n",
      "40/40 [==============================] - 3s 82ms/step - loss: 0.8037 - accuracy: 0.8145 - auc: 0.9002 - val_loss: 0.3752 - val_accuracy: 0.8970 - val_auc: 0.9427 - lr: 5.1867e-05\n",
      "Epoch 76/100\n",
      "40/40 [==============================] - 3s 82ms/step - loss: 0.7647 - accuracy: 0.8203 - auc: 0.9086 - val_loss: 0.3992 - val_accuracy: 0.8986 - val_auc: 0.9393 - lr: 4.6954e-05\n",
      "Epoch 77/100\n",
      "40/40 [==============================] - 3s 82ms/step - loss: 0.7605 - accuracy: 0.8301 - auc: 0.9084 - val_loss: 0.3755 - val_accuracy: 0.9017 - val_auc: 0.9404 - lr: 4.2597e-05\n",
      "Epoch 78/100\n",
      "40/40 [==============================] - 3s 82ms/step - loss: 0.7652 - accuracy: 0.8242 - auc: 0.9055 - val_loss: 0.3820 - val_accuracy: 0.8970 - val_auc: 0.9424 - lr: 3.8739e-05\n",
      "Epoch 79/100\n",
      "40/40 [==============================] - 3s 82ms/step - loss: 0.7787 - accuracy: 0.8230 - auc: 0.9018 - val_loss: 0.3803 - val_accuracy: 0.8970 - val_auc: 0.9429 - lr: 3.5325e-05\n",
      "Epoch 80/100\n",
      "40/40 [==============================] - 3s 82ms/step - loss: 0.7606 - accuracy: 0.8152 - auc: 0.9001 - val_loss: 0.3915 - val_accuracy: 0.8938 - val_auc: 0.9420 - lr: 3.2307e-05\n",
      "Epoch 81/100\n",
      "40/40 [==============================] - 3s 82ms/step - loss: 0.7406 - accuracy: 0.8383 - auc: 0.9013 - val_loss: 0.3653 - val_accuracy: 0.8954 - val_auc: 0.9434 - lr: 2.9642e-05\n",
      "Epoch 82/100\n",
      "40/40 [==============================] - 3s 82ms/step - loss: 0.7759 - accuracy: 0.8207 - auc: 0.9016 - val_loss: 0.3668 - val_accuracy: 0.9017 - val_auc: 0.9421 - lr: 2.7289e-05\n",
      "Epoch 83/100\n",
      "40/40 [==============================] - 3s 82ms/step - loss: 0.7599 - accuracy: 0.8230 - auc: 0.9050 - val_loss: 0.3876 - val_accuracy: 0.8906 - val_auc: 0.9412 - lr: 2.5214e-05\n",
      "Epoch 84/100\n",
      "40/40 [==============================] - 3s 82ms/step - loss: 0.7668 - accuracy: 0.8301 - auc: 0.9112 - val_loss: 0.3858 - val_accuracy: 0.8970 - val_auc: 0.9420 - lr: 2.3384e-05\n",
      "Epoch 85/100\n",
      "40/40 [==============================] - 3s 82ms/step - loss: 0.7563 - accuracy: 0.8266 - auc: 0.9081 - val_loss: 0.3875 - val_accuracy: 0.8986 - val_auc: 0.9416 - lr: 2.1772e-05\n",
      "Epoch 86/100\n",
      "40/40 [==============================] - 3s 82ms/step - loss: 0.7782 - accuracy: 0.8184 - auc: 0.9097 - val_loss: 0.3945 - val_accuracy: 0.8938 - val_auc: 0.9409 - lr: 2.0352e-05\n"
     ]
    },
    {
     "name": "stdout",
     "output_type": "stream",
     "text": [
      "Epoch 87/100\n",
      "40/40 [==============================] - 3s 82ms/step - loss: 0.7646 - accuracy: 0.8180 - auc: 0.9062 - val_loss: 0.3940 - val_accuracy: 0.8986 - val_auc: 0.9412 - lr: 1.9102e-05\n",
      "Epoch 88/100\n",
      "40/40 [==============================] - 3s 82ms/step - loss: 0.7407 - accuracy: 0.8344 - auc: 0.9098 - val_loss: 0.3887 - val_accuracy: 0.8986 - val_auc: 0.9424 - lr: 1.8001e-05\n",
      "Epoch 89/100\n",
      "40/40 [==============================] - 3s 82ms/step - loss: 0.7824 - accuracy: 0.8184 - auc: 0.9073 - val_loss: 0.3965 - val_accuracy: 0.8906 - val_auc: 0.9403 - lr: 1.7033e-05\n",
      "Epoch 90/100\n",
      "40/40 [==============================] - 3s 82ms/step - loss: 0.7654 - accuracy: 0.8234 - auc: 0.9079 - val_loss: 0.3931 - val_accuracy: 0.8922 - val_auc: 0.9409 - lr: 1.6181e-05\n",
      "Epoch 91/100\n",
      "40/40 [==============================] - 3s 83ms/step - loss: 0.7428 - accuracy: 0.8367 - auc: 0.9074 - val_loss: 0.3845 - val_accuracy: 0.8954 - val_auc: 0.9405 - lr: 1.5431e-05\n",
      "Epoch 92/100\n",
      "40/40 [==============================] - 3s 82ms/step - loss: 0.7775 - accuracy: 0.8258 - auc: 0.9072 - val_loss: 0.3911 - val_accuracy: 0.8938 - val_auc: 0.9399 - lr: 1.4773e-05\n",
      "Epoch 93/100\n",
      "40/40 [==============================] - 3s 82ms/step - loss: 0.7629 - accuracy: 0.8254 - auc: 0.9055 - val_loss: 0.4037 - val_accuracy: 0.8891 - val_auc: 0.9379 - lr: 1.4193e-05\n",
      "Epoch 94/100\n",
      "40/40 [==============================] - 3s 82ms/step - loss: 0.7724 - accuracy: 0.8316 - auc: 0.9079 - val_loss: 0.4031 - val_accuracy: 0.8938 - val_auc: 0.9381 - lr: 1.3684e-05\n",
      "Epoch 95/100\n",
      "40/40 [==============================] - 3s 84ms/step - loss: 0.7272 - accuracy: 0.8355 - auc: 0.9130 - val_loss: 0.3832 - val_accuracy: 0.8938 - val_auc: 0.9405 - lr: 1.3236e-05\n",
      "Epoch 96/100\n",
      "40/40 [==============================] - 3s 81ms/step - loss: 0.7839 - accuracy: 0.8141 - auc: 0.9075 - val_loss: 0.3790 - val_accuracy: 0.8954 - val_auc: 0.9405 - lr: 1.2843e-05\n",
      "Epoch 97/100\n",
      "40/40 [==============================] - 3s 82ms/step - loss: 0.7669 - accuracy: 0.8305 - auc: 0.9056 - val_loss: 0.3932 - val_accuracy: 0.8906 - val_auc: 0.9391 - lr: 1.2497e-05\n",
      "Epoch 98/100\n",
      "40/40 [==============================] - 3s 83ms/step - loss: 0.7488 - accuracy: 0.8309 - auc: 0.9038 - val_loss: 0.3938 - val_accuracy: 0.8891 - val_auc: 0.9384 - lr: 1.2193e-05\n",
      "Epoch 99/100\n",
      "40/40 [==============================] - 3s 83ms/step - loss: 0.7635 - accuracy: 0.8297 - auc: 0.9072 - val_loss: 0.3947 - val_accuracy: 0.8922 - val_auc: 0.9384 - lr: 1.1927e-05\n",
      "Epoch 100/100\n",
      "40/40 [==============================] - 3s 82ms/step - loss: 0.7779 - accuracy: 0.8211 - auc: 0.9050 - val_loss: 0.3938 - val_accuracy: 0.8906 - val_auc: 0.9386 - lr: 1.1692e-05\n"
     ]
    }
   ],
   "source": [
    "n_epoch = 100\n",
    "lr = LearningRateScheduler(lambda e: sigmoidal_decay(e, end=n_epoch))\n",
    "batch_size = 64\n",
    "\n",
    "if mixup :\n",
    "    beta_param = .7\n",
    "else :\n",
    "    beta_param = 0\n",
    "    \n",
    "\n",
    "\n",
    "params = {'batch_size': batch_size,\n",
    "          #          'input_shape': (100, 313, 1),\n",
    "          'shuffle': True,\n",
    "          'chaug': chaug,\n",
    "          'beta_param': beta_param,\n",
    "          'cout': cout\n",
    "#              'mixup': mixup,\n",
    "          #          'lowpass': [.5, [11,12,13,14,15,16,17,18]]\n",
    "          #          'highpass': [.5, [78,79,80,81,82,83,84,85]]\n",
    "#              'ranfilter2' : [3, [18,19,20,21,22,23]]\n",
    "          #           'dropblock' : [30, 100]\n",
    "          #'device' : device\n",
    "}\n",
    "\n",
    "if mixup :\n",
    "    params['mixup'] = mixup\n",
    "    params['ranfilter2'] = ranfil\n",
    "else :\n",
    "    params['cutout'] = cout\n",
    "\n",
    "params_no_shuffle = {'batch_size': batch_size,\n",
    "                     #          'input_shape': (100, 313, 1),\n",
    "                     'shuffle': False,\n",
    "                     'beta_param': 0.7,\n",
    "                     'mixup': False\n",
    "                     #'device': device\n",
    "}\n",
    "\n",
    "\n",
    "# TrainDGen_1 = Generator0([features_trn['age'],features_trn['sex'], features_trn['hw'], features_trn['preg'], features_trn['loc'],\n",
    "#             features_trn['interval'],features_trn['wav2'],features_trn['mel1'],features_trn['cqt1'],features_trn['stft1']], \n",
    "#            features_trn['mm_labels'],  ## our Y\n",
    "#                         **params)()\n",
    "\n",
    "\n",
    "# ValidDGen_1 = Generator0([features_test['age'],features_test['sex'], features_test['hw'], \n",
    "#                               features_test['preg'], features_test['loc'],features_test['interval'],\n",
    "#                               features_test['wav2'], features_test['mel1'],features_test['cqt1'],features_test['stft1']], \n",
    "#                              features_test['mm_labels'],  ## our Y\n",
    "                         \n",
    "#                          **params)()\n",
    "\n",
    "\n",
    "\n",
    "\n",
    "\n",
    "if ord1 :\n",
    "    class_weight = {0: mm_weight, 1: 1.}\n",
    "else :\n",
    "    class_weight = {0: mm_weight, 1: wunknown, 2:1.}\n",
    "\n",
    "    \n",
    "    \n",
    "    \n",
    "    \n",
    "\n",
    "if mixup :\n",
    "    \n",
    "    \n",
    "    TrainDGen_1 = Generator0([features_trn['age'],features_trn['sex'], features_trn['hw'], \n",
    "                              features_trn['preg'], features_trn['loc'],features_trn['interval'],\n",
    "                              features_trn['mel1'],\n",
    "                              features_trn['cqt1'],\n",
    "                              features_trn['stft1']],features_trn['mm_labels'],**params)()\n",
    "    \n",
    "    model1.fit(TrainDGen_1,\n",
    "               validation_data = ([features_test['age'],features_test['sex'], features_test['hw'],\n",
    "                                   \n",
    "                                   features_test['preg'], features_test['loc'],features_test['interval']\n",
    "                                   ,features_test['mel1'],\n",
    "                                   features_test['cqt1'],\n",
    "                                   features_test['stft1']],features_test['mm_labels']),\n",
    "               \n",
    "               callbacks=[lr,model1_callback],\n",
    "               steps_per_epoch=np.ceil(len(features_trn['mm_labels'])/batch_size),\n",
    "               class_weight=class_weight, \n",
    "               epochs = n_epoch)\n",
    "    \n",
    "    \n",
    " \n",
    "\n",
    "else :\n",
    "    TrainGen = DataGenerator([features_trn['age'],features_trn['sex'], features_trn['hw'], features_trn['preg'], features_trn['loc'], \n",
    "                      features_trn['mel1'],features_trn['cqt1'],features_trn['stft1']], \n",
    "                     mm_lbs_trn,  ## our Y\n",
    "                     **params)\n",
    "    model1.fit(TrainGen,\n",
    "               validation_data = ([features_test['age'],features_test['sex'], features_test['hw'], \n",
    "                                   features_test['preg'], features_test['loc'], features_test['mel1'], \n",
    "                                   features_test['cqt1'], features_test['stft1']], \n",
    "                                  mm_lbs_test), \n",
    "               callbacks=[lr],\n",
    "               #        steps_per_epoch=np.ceil(len(mm_lbs_trn)/64),\n",
    "               class_weight=class_weight, \n",
    "               epochs = n_epoch)\n",
    "\n"
   ]
  },
  {
   "cell_type": "code",
   "execution_count": null,
   "id": "e84f3f23",
   "metadata": {},
   "outputs": [],
   "source": []
  },
  {
   "cell_type": "code",
   "execution_count": 44,
   "id": "90bdd466",
   "metadata": {
    "scrolled": false
   },
   "outputs": [
    {
     "name": "stdout",
     "output_type": "stream",
     "text": [
      "Epoch 1/100\n",
      "40/40 [==============================] - 7s 104ms/step - loss: 1.2677 - accuracy: 0.4992 - auc: 0.4878 - val_loss: 0.7599 - val_accuracy: 0.4469 - val_auc: 0.4433 - lr: 9.9851e-04\n",
      "Epoch 2/100\n",
      "40/40 [==============================] - 3s 82ms/step - loss: 1.2422 - accuracy: 0.4945 - auc: 0.4976 - val_loss: 1.8713 - val_accuracy: 0.4992 - val_auc: 0.4236 - lr: 9.9831e-04\n",
      "Epoch 3/100\n",
      "40/40 [==============================] - 3s 81ms/step - loss: 1.2324 - accuracy: 0.4914 - auc: 0.5146 - val_loss: 1.4355 - val_accuracy: 0.4992 - val_auc: 0.4274 - lr: 9.9807e-04\n",
      "Epoch 4/100\n",
      "40/40 [==============================] - 3s 82ms/step - loss: 1.2209 - accuracy: 0.4770 - auc: 0.5125 - val_loss: 1.1480 - val_accuracy: 0.4992 - val_auc: 0.4416 - lr: 9.9781e-04\n",
      "Epoch 5/100\n",
      "40/40 [==============================] - 3s 81ms/step - loss: 1.2124 - accuracy: 0.4832 - auc: 0.5242 - val_loss: 1.0250 - val_accuracy: 0.4992 - val_auc: 0.4776 - lr: 9.9750e-04\n",
      "Epoch 6/100\n",
      "40/40 [==============================] - 3s 82ms/step - loss: 1.2139 - accuracy: 0.4812 - auc: 0.5250 - val_loss: 1.0546 - val_accuracy: 0.4992 - val_auc: 0.5097 - lr: 9.9716e-04\n",
      "Epoch 7/100\n",
      "40/40 [==============================] - 3s 82ms/step - loss: 1.2092 - accuracy: 0.4746 - auc: 0.5230 - val_loss: 0.7908 - val_accuracy: 0.4992 - val_auc: 0.6206 - lr: 9.9676e-04\n",
      "Epoch 8/100\n",
      "40/40 [==============================] - 3s 83ms/step - loss: 1.2175 - accuracy: 0.4996 - auc: 0.5353 - val_loss: 0.7609 - val_accuracy: 0.4992 - val_auc: 0.5727 - lr: 9.9632e-04\n",
      "Epoch 9/100\n",
      "40/40 [==============================] - 3s 85ms/step - loss: 1.2094 - accuracy: 0.4820 - auc: 0.5236 - val_loss: 0.7597 - val_accuracy: 0.4992 - val_auc: 0.5293 - lr: 9.9581e-04\n",
      "Epoch 10/100\n",
      "40/40 [==============================] - 3s 82ms/step - loss: 1.2219 - accuracy: 0.4855 - auc: 0.5273 - val_loss: 0.8005 - val_accuracy: 0.5071 - val_auc: 0.5550 - lr: 9.9523e-04\n",
      "Epoch 11/100\n",
      "40/40 [==============================] - 3s 86ms/step - loss: 1.2138 - accuracy: 0.4832 - auc: 0.5324 - val_loss: 0.6959 - val_accuracy: 0.5436 - val_auc: 0.5865 - lr: 9.9457e-04\n",
      "Epoch 12/100\n",
      "40/40 [==============================] - 3s 85ms/step - loss: 1.2022 - accuracy: 0.4855 - auc: 0.5363 - val_loss: 0.6405 - val_accuracy: 0.5816 - val_auc: 0.6579 - lr: 9.9382e-04\n",
      "Epoch 13/100\n",
      "40/40 [==============================] - 3s 82ms/step - loss: 1.2078 - accuracy: 0.4973 - auc: 0.5400 - val_loss: 0.7922 - val_accuracy: 0.5261 - val_auc: 0.5582 - lr: 9.9297e-04\n",
      "Epoch 14/100\n",
      "40/40 [==============================] - 3s 82ms/step - loss: 1.2087 - accuracy: 0.4906 - auc: 0.5357 - val_loss: 0.7817 - val_accuracy: 0.4992 - val_auc: 0.6052 - lr: 9.9200e-04\n",
      "Epoch 15/100\n",
      "40/40 [==============================] - 3s 83ms/step - loss: 1.2109 - accuracy: 0.4969 - auc: 0.5423 - val_loss: 0.6717 - val_accuracy: 0.5674 - val_auc: 0.6313 - lr: 9.9090e-04\n",
      "Epoch 16/100\n",
      "40/40 [==============================] - 3s 81ms/step - loss: 1.2071 - accuracy: 0.4832 - auc: 0.5422 - val_loss: 0.6435 - val_accuracy: 0.5895 - val_auc: 0.6578 - lr: 9.8965e-04\n",
      "Epoch 17/100\n",
      "40/40 [==============================] - 3s 81ms/step - loss: 1.2009 - accuracy: 0.4953 - auc: 0.5430 - val_loss: 0.7041 - val_accuracy: 0.5119 - val_auc: 0.5930 - lr: 9.8823e-04\n",
      "Epoch 18/100\n",
      "40/40 [==============================] - 3s 82ms/step - loss: 1.2014 - accuracy: 0.4809 - auc: 0.5417 - val_loss: 0.7172 - val_accuracy: 0.5103 - val_auc: 0.5992 - lr: 9.8662e-04\n",
      "Epoch 19/100\n",
      "40/40 [==============================] - 3s 85ms/step - loss: 1.1996 - accuracy: 0.4922 - auc: 0.5492 - val_loss: 0.6149 - val_accuracy: 0.6545 - val_auc: 0.7184 - lr: 9.8479e-04\n",
      "Epoch 20/100\n",
      "40/40 [==============================] - 3s 82ms/step - loss: 1.2038 - accuracy: 0.4918 - auc: 0.5488 - val_loss: 0.6967 - val_accuracy: 0.5325 - val_auc: 0.6186 - lr: 9.8271e-04\n",
      "Epoch 21/100\n",
      "40/40 [==============================] - 3s 83ms/step - loss: 1.2012 - accuracy: 0.4910 - auc: 0.5515 - val_loss: 0.6371 - val_accuracy: 0.5864 - val_auc: 0.6630 - lr: 9.8036e-04\n",
      "Epoch 22/100\n",
      "40/40 [==============================] - 3s 83ms/step - loss: 1.1957 - accuracy: 0.4941 - auc: 0.5537 - val_loss: 0.7050 - val_accuracy: 0.5198 - val_auc: 0.6152 - lr: 9.7769e-04\n",
      "Epoch 23/100\n",
      "40/40 [==============================] - 3s 83ms/step - loss: 1.2010 - accuracy: 0.4875 - auc: 0.5452 - val_loss: 0.6432 - val_accuracy: 0.5737 - val_auc: 0.6472 - lr: 9.7468e-04\n",
      "Epoch 24/100\n",
      "40/40 [==============================] - 3s 82ms/step - loss: 1.1934 - accuracy: 0.4988 - auc: 0.5637 - val_loss: 1.0533 - val_accuracy: 0.5293 - val_auc: 0.5752 - lr: 9.7126e-04\n",
      "Epoch 25/100\n",
      "40/40 [==============================] - 3s 82ms/step - loss: 1.1835 - accuracy: 0.4895 - auc: 0.5612 - val_loss: 0.6892 - val_accuracy: 0.5404 - val_auc: 0.5813 - lr: 9.6740e-04\n",
      "Epoch 26/100\n",
      "40/40 [==============================] - 3s 81ms/step - loss: 1.2034 - accuracy: 0.4969 - auc: 0.5555 - val_loss: 0.6296 - val_accuracy: 0.6624 - val_auc: 0.7057 - lr: 9.6305e-04\n",
      "Epoch 27/100\n",
      "40/40 [==============================] - 3s 82ms/step - loss: 1.1999 - accuracy: 0.4852 - auc: 0.5514 - val_loss: 0.7653 - val_accuracy: 0.5119 - val_auc: 0.5441 - lr: 9.5813e-04\n",
      "Epoch 28/100\n",
      "40/40 [==============================] - 3s 82ms/step - loss: 1.2114 - accuracy: 0.5125 - auc: 0.5494 - val_loss: 0.7957 - val_accuracy: 0.5055 - val_auc: 0.6158 - lr: 9.5260e-04\n",
      "Epoch 29/100\n",
      "40/40 [==============================] - 3s 82ms/step - loss: 1.1987 - accuracy: 0.5086 - auc: 0.5607 - val_loss: 0.6688 - val_accuracy: 0.5483 - val_auc: 0.6271 - lr: 9.4637e-04\n",
      "Epoch 30/100\n",
      "40/40 [==============================] - 3s 82ms/step - loss: 1.1974 - accuracy: 0.4809 - auc: 0.5473 - val_loss: 0.7814 - val_accuracy: 0.5040 - val_auc: 0.5917 - lr: 9.3939e-04\n",
      "Epoch 31/100\n",
      "40/40 [==============================] - 3s 81ms/step - loss: 1.1808 - accuracy: 0.5016 - auc: 0.5680 - val_loss: 0.7158 - val_accuracy: 0.5404 - val_auc: 0.5944 - lr: 9.3155e-04\n",
      "Epoch 32/100\n",
      "40/40 [==============================] - 3s 81ms/step - loss: 1.1872 - accuracy: 0.4941 - auc: 0.5619 - val_loss: 0.7293 - val_accuracy: 0.5166 - val_auc: 0.6107 - lr: 9.2279e-04\n",
      "Epoch 33/100\n",
      "40/40 [==============================] - 3s 82ms/step - loss: 1.1871 - accuracy: 0.4918 - auc: 0.5651 - val_loss: 0.9528 - val_accuracy: 0.5357 - val_auc: 0.6013 - lr: 9.1301e-04\n",
      "Epoch 34/100\n",
      "40/40 [==============================] - 3s 82ms/step - loss: 1.1954 - accuracy: 0.5063 - auc: 0.5664 - val_loss: 0.7121 - val_accuracy: 0.5357 - val_auc: 0.6061 - lr: 9.0213e-04\n",
      "Epoch 35/100\n",
      "40/40 [==============================] - 3s 82ms/step - loss: 1.1870 - accuracy: 0.5082 - auc: 0.5621 - val_loss: 0.7102 - val_accuracy: 0.5309 - val_auc: 0.6161 - lr: 8.9005e-04\n",
      "Epoch 36/100\n",
      "40/40 [==============================] - 3s 82ms/step - loss: 1.1938 - accuracy: 0.5039 - auc: 0.5688 - val_loss: 0.6467 - val_accuracy: 0.5721 - val_auc: 0.6458 - lr: 8.7669e-04\n",
      "Epoch 37/100\n",
      "40/40 [==============================] - 3s 81ms/step - loss: 1.1825 - accuracy: 0.4930 - auc: 0.5593 - val_loss: 0.7301 - val_accuracy: 0.5277 - val_auc: 0.6206 - lr: 8.6196e-04\n",
      "Epoch 38/100\n",
      "40/40 [==============================] - 3s 82ms/step - loss: 1.1600 - accuracy: 0.5184 - auc: 0.5886 - val_loss: 0.6607 - val_accuracy: 0.5769 - val_auc: 0.6366 - lr: 8.4578e-04\n",
      "Epoch 39/100\n",
      "40/40 [==============================] - 3s 82ms/step - loss: 1.1953 - accuracy: 0.4992 - auc: 0.5702 - val_loss: 0.7017 - val_accuracy: 0.5388 - val_auc: 0.5926 - lr: 8.2809e-04\n",
      "Epoch 40/100\n",
      "40/40 [==============================] - 3s 81ms/step - loss: 1.1886 - accuracy: 0.5031 - auc: 0.5585 - val_loss: 0.7440 - val_accuracy: 0.5372 - val_auc: 0.5815 - lr: 8.0883e-04\n",
      "Epoch 41/100\n",
      "40/40 [==============================] - 3s 81ms/step - loss: 1.1968 - accuracy: 0.5180 - auc: 0.5607 - val_loss: 0.6777 - val_accuracy: 0.5531 - val_auc: 0.6294 - lr: 7.8798e-04\n",
      "Epoch 42/100\n",
      "40/40 [==============================] - 3s 82ms/step - loss: 1.1810 - accuracy: 0.4895 - auc: 0.5686 - val_loss: 0.6652 - val_accuracy: 0.5468 - val_auc: 0.6212 - lr: 7.6551e-04\n",
      "Epoch 43/100\n",
      "40/40 [==============================] - 3s 82ms/step - loss: 1.1817 - accuracy: 0.5145 - auc: 0.5803 - val_loss: 0.6826 - val_accuracy: 0.5547 - val_auc: 0.6203 - lr: 7.4146e-04\n"
     ]
    },
    {
     "name": "stdout",
     "output_type": "stream",
     "text": [
      "Epoch 44/100\n",
      "40/40 [==============================] - 3s 81ms/step - loss: 1.2007 - accuracy: 0.5164 - auc: 0.5706 - val_loss: 0.6865 - val_accuracy: 0.5372 - val_auc: 0.6078 - lr: 7.1587e-04\n",
      "Epoch 45/100\n",
      "40/40 [==============================] - 3s 82ms/step - loss: 1.1667 - accuracy: 0.5000 - auc: 0.5809 - val_loss: 0.6228 - val_accuracy: 0.6244 - val_auc: 0.6939 - lr: 6.8882e-04\n",
      "Epoch 46/100\n",
      "40/40 [==============================] - 3s 82ms/step - loss: 1.1758 - accuracy: 0.5250 - auc: 0.5891 - val_loss: 0.7268 - val_accuracy: 0.5277 - val_auc: 0.6083 - lr: 6.6044e-04\n",
      "Epoch 47/100\n",
      "40/40 [==============================] - 3s 82ms/step - loss: 1.1769 - accuracy: 0.5141 - auc: 0.5782 - val_loss: 0.6586 - val_accuracy: 0.5515 - val_auc: 0.6322 - lr: 6.3088e-04\n",
      "Epoch 48/100\n",
      "40/40 [==============================] - 3s 82ms/step - loss: 1.1929 - accuracy: 0.5125 - auc: 0.5780 - val_loss: 0.7262 - val_accuracy: 0.5309 - val_auc: 0.6032 - lr: 6.0032e-04\n",
      "Epoch 49/100\n",
      "40/40 [==============================] - 3s 82ms/step - loss: 1.1779 - accuracy: 0.5035 - auc: 0.5827 - val_loss: 0.6367 - val_accuracy: 0.6371 - val_auc: 0.6884 - lr: 5.6899e-04\n",
      "Epoch 50/100\n",
      "40/40 [==============================] - 3s 82ms/step - loss: 1.1839 - accuracy: 0.5238 - auc: 0.5845 - val_loss: 0.6522 - val_accuracy: 0.5737 - val_auc: 0.6371 - lr: 5.3713e-04\n",
      "Epoch 51/100\n",
      "40/40 [==============================] - 3s 82ms/step - loss: 1.1741 - accuracy: 0.5156 - auc: 0.5857 - val_loss: 0.7788 - val_accuracy: 0.5151 - val_auc: 0.5919 - lr: 5.0500e-04\n",
      "Epoch 52/100\n",
      "40/40 [==============================] - 3s 82ms/step - loss: 1.1844 - accuracy: 0.5137 - auc: 0.5803 - val_loss: 0.6167 - val_accuracy: 0.6418 - val_auc: 0.7071 - lr: 4.7287e-04\n",
      "Epoch 53/100\n",
      "40/40 [==============================] - 3s 82ms/step - loss: 1.1736 - accuracy: 0.5082 - auc: 0.5901 - val_loss: 0.6927 - val_accuracy: 0.5420 - val_auc: 0.5963 - lr: 4.4101e-04\n",
      "Epoch 54/100\n",
      "40/40 [==============================] - 3s 82ms/step - loss: 1.1708 - accuracy: 0.5117 - auc: 0.5885 - val_loss: 0.6192 - val_accuracy: 0.6513 - val_auc: 0.7075 - lr: 4.0968e-04\n",
      "Epoch 55/100\n",
      "40/40 [==============================] - 3s 82ms/step - loss: 1.1815 - accuracy: 0.5078 - auc: 0.5895 - val_loss: 0.8095 - val_accuracy: 0.5135 - val_auc: 0.5894 - lr: 3.7912e-04\n",
      "Epoch 56/100\n",
      "40/40 [==============================] - 3s 82ms/step - loss: 1.1727 - accuracy: 0.5098 - auc: 0.5864 - val_loss: 0.6988 - val_accuracy: 0.5372 - val_auc: 0.6012 - lr: 3.4956e-04\n",
      "Epoch 57/100\n",
      "40/40 [==============================] - 3s 82ms/step - loss: 1.1750 - accuracy: 0.5180 - auc: 0.5914 - val_loss: 0.7335 - val_accuracy: 0.5277 - val_auc: 0.6004 - lr: 3.2118e-04\n",
      "Epoch 58/100\n",
      "40/40 [==============================] - 3s 82ms/step - loss: 1.1659 - accuracy: 0.5113 - auc: 0.5920 - val_loss: 0.6584 - val_accuracy: 0.5864 - val_auc: 0.6364 - lr: 2.9413e-04\n",
      "Epoch 59/100\n",
      "40/40 [==============================] - 3s 81ms/step - loss: 1.1494 - accuracy: 0.5117 - auc: 0.6066 - val_loss: 0.7688 - val_accuracy: 0.5103 - val_auc: 0.5909 - lr: 2.6854e-04\n",
      "Epoch 60/100\n",
      "40/40 [==============================] - 3s 82ms/step - loss: 1.1629 - accuracy: 0.5266 - auc: 0.6033 - val_loss: 0.6454 - val_accuracy: 0.6181 - val_auc: 0.6675 - lr: 2.4449e-04\n",
      "Epoch 61/100\n",
      "40/40 [==============================] - 3s 82ms/step - loss: 1.1724 - accuracy: 0.5156 - auc: 0.5934 - val_loss: 0.6651 - val_accuracy: 0.5737 - val_auc: 0.6271 - lr: 2.2202e-04\n",
      "Epoch 62/100\n",
      "40/40 [==============================] - 3s 82ms/step - loss: 1.1556 - accuracy: 0.5250 - auc: 0.6111 - val_loss: 0.6620 - val_accuracy: 0.5737 - val_auc: 0.6291 - lr: 2.0117e-04\n",
      "Epoch 63/100\n",
      "40/40 [==============================] - 3s 82ms/step - loss: 1.1673 - accuracy: 0.5172 - auc: 0.6043 - val_loss: 0.7020 - val_accuracy: 0.5436 - val_auc: 0.6041 - lr: 1.8191e-04\n",
      "Epoch 64/100\n",
      "40/40 [==============================] - 3s 83ms/step - loss: 1.1683 - accuracy: 0.5469 - auc: 0.6144 - val_loss: 0.6524 - val_accuracy: 0.5880 - val_auc: 0.6474 - lr: 1.6422e-04\n",
      "Epoch 65/100\n",
      "40/40 [==============================] - 3s 81ms/step - loss: 1.1803 - accuracy: 0.5281 - auc: 0.6019 - val_loss: 0.6521 - val_accuracy: 0.6070 - val_auc: 0.6477 - lr: 1.4804e-04\n",
      "Epoch 66/100\n",
      "40/40 [==============================] - 3s 81ms/step - loss: 1.1487 - accuracy: 0.5297 - auc: 0.6126 - val_loss: 0.6558 - val_accuracy: 0.5816 - val_auc: 0.6491 - lr: 1.3331e-04\n",
      "Epoch 67/100\n",
      "40/40 [==============================] - 3s 82ms/step - loss: 1.1455 - accuracy: 0.5215 - auc: 0.6143 - val_loss: 0.6797 - val_accuracy: 0.5626 - val_auc: 0.6270 - lr: 1.1995e-04\n",
      "Epoch 68/100\n",
      "40/40 [==============================] - 3s 83ms/step - loss: 1.1454 - accuracy: 0.5437 - auc: 0.6242 - val_loss: 0.7287 - val_accuracy: 0.5309 - val_auc: 0.6000 - lr: 1.0787e-04\n",
      "Epoch 69/100\n",
      "40/40 [==============================] - 3s 82ms/step - loss: 1.1409 - accuracy: 0.5398 - auc: 0.6308 - val_loss: 0.6758 - val_accuracy: 0.5642 - val_auc: 0.6242 - lr: 9.6985e-05\n",
      "Epoch 70/100\n",
      "40/40 [==============================] - 3s 82ms/step - loss: 1.1598 - accuracy: 0.5277 - auc: 0.6219 - val_loss: 0.6683 - val_accuracy: 0.5658 - val_auc: 0.6284 - lr: 8.7208e-05\n",
      "Epoch 71/100\n",
      "40/40 [==============================] - 3s 82ms/step - loss: 1.1625 - accuracy: 0.5355 - auc: 0.6198 - val_loss: 0.6544 - val_accuracy: 0.5800 - val_auc: 0.6460 - lr: 7.8447e-05\n",
      "Epoch 72/100\n",
      "40/40 [==============================] - 3s 82ms/step - loss: 1.1430 - accuracy: 0.5395 - auc: 0.6252 - val_loss: 0.6824 - val_accuracy: 0.5642 - val_auc: 0.6157 - lr: 7.0614e-05\n",
      "Epoch 73/100\n",
      "40/40 [==============================] - 3s 81ms/step - loss: 1.1526 - accuracy: 0.5383 - auc: 0.6203 - val_loss: 0.7224 - val_accuracy: 0.5357 - val_auc: 0.5998 - lr: 6.3625e-05\n",
      "Epoch 74/100\n",
      "40/40 [==============================] - 3s 82ms/step - loss: 1.1449 - accuracy: 0.5340 - auc: 0.6262 - val_loss: 0.6845 - val_accuracy: 0.5705 - val_auc: 0.6202 - lr: 5.7401e-05\n",
      "Epoch 75/100\n",
      "40/40 [==============================] - 3s 82ms/step - loss: 1.1412 - accuracy: 0.5523 - auc: 0.6257 - val_loss: 0.7508 - val_accuracy: 0.5198 - val_auc: 0.5889 - lr: 5.1867e-05\n",
      "Epoch 76/100\n",
      "40/40 [==============================] - 3s 82ms/step - loss: 1.1450 - accuracy: 0.5480 - auc: 0.6284 - val_loss: 0.7247 - val_accuracy: 0.5309 - val_auc: 0.5909 - lr: 4.6954e-05\n",
      "Epoch 77/100\n",
      "40/40 [==============================] - 3s 83ms/step - loss: 1.1432 - accuracy: 0.5281 - auc: 0.6319 - val_loss: 0.6930 - val_accuracy: 0.5626 - val_auc: 0.6088 - lr: 4.2597e-05\n",
      "Epoch 78/100\n",
      "40/40 [==============================] - 3s 82ms/step - loss: 1.1602 - accuracy: 0.5461 - auc: 0.6251 - val_loss: 0.7037 - val_accuracy: 0.5563 - val_auc: 0.6065 - lr: 3.8739e-05\n",
      "Epoch 79/100\n",
      "40/40 [==============================] - 3s 82ms/step - loss: 1.1481 - accuracy: 0.5309 - auc: 0.6197 - val_loss: 0.7039 - val_accuracy: 0.5642 - val_auc: 0.6063 - lr: 3.5325e-05\n",
      "Epoch 80/100\n",
      "40/40 [==============================] - 3s 82ms/step - loss: 1.1425 - accuracy: 0.5379 - auc: 0.6261 - val_loss: 0.7247 - val_accuracy: 0.5468 - val_auc: 0.5925 - lr: 3.2307e-05\n",
      "Epoch 81/100\n",
      "40/40 [==============================] - 3s 82ms/step - loss: 1.1468 - accuracy: 0.5437 - auc: 0.6338 - val_loss: 0.7399 - val_accuracy: 0.5388 - val_auc: 0.5884 - lr: 2.9642e-05\n",
      "Epoch 82/100\n",
      "40/40 [==============================] - 3s 82ms/step - loss: 1.1250 - accuracy: 0.5457 - auc: 0.6357 - val_loss: 0.7135 - val_accuracy: 0.5578 - val_auc: 0.6029 - lr: 2.7289e-05\n",
      "Epoch 83/100\n",
      "40/40 [==============================] - 3s 82ms/step - loss: 1.1345 - accuracy: 0.5422 - auc: 0.6350 - val_loss: 0.7047 - val_accuracy: 0.5642 - val_auc: 0.6073 - lr: 2.5214e-05\n",
      "Epoch 84/100\n",
      "40/40 [==============================] - 3s 82ms/step - loss: 1.1326 - accuracy: 0.5301 - auc: 0.6212 - val_loss: 0.7015 - val_accuracy: 0.5658 - val_auc: 0.6094 - lr: 2.3384e-05\n",
      "Epoch 85/100\n",
      "40/40 [==============================] - 3s 82ms/step - loss: 1.1305 - accuracy: 0.5477 - auc: 0.6302 - val_loss: 0.7076 - val_accuracy: 0.5610 - val_auc: 0.6004 - lr: 2.1772e-05\n",
      "Epoch 86/100\n",
      "40/40 [==============================] - 3s 81ms/step - loss: 1.1232 - accuracy: 0.5395 - auc: 0.6389 - val_loss: 0.7252 - val_accuracy: 0.5483 - val_auc: 0.5921 - lr: 2.0352e-05\n"
     ]
    },
    {
     "name": "stdout",
     "output_type": "stream",
     "text": [
      "Epoch 87/100\n",
      "40/40 [==============================] - 3s 82ms/step - loss: 1.1360 - accuracy: 0.5285 - auc: 0.6185 - val_loss: 0.6991 - val_accuracy: 0.5642 - val_auc: 0.6109 - lr: 1.9102e-05\n",
      "Epoch 88/100\n",
      "40/40 [==============================] - 3s 85ms/step - loss: 1.1443 - accuracy: 0.5344 - auc: 0.6254 - val_loss: 0.7021 - val_accuracy: 0.5642 - val_auc: 0.6082 - lr: 1.8001e-05\n",
      "Epoch 89/100\n",
      "40/40 [==============================] - 3s 82ms/step - loss: 1.1241 - accuracy: 0.5445 - auc: 0.6353 - val_loss: 0.7201 - val_accuracy: 0.5468 - val_auc: 0.6000 - lr: 1.7033e-05\n",
      "Epoch 90/100\n",
      "40/40 [==============================] - 3s 82ms/step - loss: 1.1645 - accuracy: 0.5480 - auc: 0.6286 - val_loss: 0.7152 - val_accuracy: 0.5452 - val_auc: 0.6006 - lr: 1.6181e-05\n",
      "Epoch 91/100\n",
      "40/40 [==============================] - 3s 82ms/step - loss: 1.1537 - accuracy: 0.5430 - auc: 0.6265 - val_loss: 0.7281 - val_accuracy: 0.5531 - val_auc: 0.5955 - lr: 1.5431e-05\n",
      "Epoch 92/100\n",
      "40/40 [==============================] - 3s 82ms/step - loss: 1.1389 - accuracy: 0.5426 - auc: 0.6285 - val_loss: 0.7129 - val_accuracy: 0.5515 - val_auc: 0.6013 - lr: 1.4773e-05\n",
      "Epoch 93/100\n",
      "40/40 [==============================] - 3s 82ms/step - loss: 1.1397 - accuracy: 0.5422 - auc: 0.6332 - val_loss: 0.7040 - val_accuracy: 0.5594 - val_auc: 0.6051 - lr: 1.4193e-05\n",
      "Epoch 94/100\n",
      "40/40 [==============================] - 3s 82ms/step - loss: 1.1345 - accuracy: 0.5437 - auc: 0.6360 - val_loss: 0.7046 - val_accuracy: 0.5578 - val_auc: 0.6063 - lr: 1.3684e-05\n",
      "Epoch 95/100\n",
      "40/40 [==============================] - 3s 82ms/step - loss: 1.1410 - accuracy: 0.5375 - auc: 0.6354 - val_loss: 0.7014 - val_accuracy: 0.5578 - val_auc: 0.6077 - lr: 1.3236e-05\n",
      "Epoch 96/100\n",
      "40/40 [==============================] - 3s 82ms/step - loss: 1.1310 - accuracy: 0.5410 - auc: 0.6375 - val_loss: 0.7252 - val_accuracy: 0.5515 - val_auc: 0.5958 - lr: 1.2843e-05\n",
      "Epoch 97/100\n",
      "40/40 [==============================] - 3s 82ms/step - loss: 1.1480 - accuracy: 0.5305 - auc: 0.6402 - val_loss: 0.7256 - val_accuracy: 0.5547 - val_auc: 0.5938 - lr: 1.2497e-05\n",
      "Epoch 98/100\n",
      "40/40 [==============================] - 3s 82ms/step - loss: 1.1379 - accuracy: 0.5516 - auc: 0.6369 - val_loss: 0.7293 - val_accuracy: 0.5531 - val_auc: 0.5945 - lr: 1.2193e-05\n",
      "Epoch 99/100\n",
      "40/40 [==============================] - 3s 83ms/step - loss: 1.1447 - accuracy: 0.5512 - auc: 0.6317 - val_loss: 0.7305 - val_accuracy: 0.5452 - val_auc: 0.5954 - lr: 1.1927e-05\n",
      "Epoch 100/100\n",
      "40/40 [==============================] - 3s 82ms/step - loss: 1.1456 - accuracy: 0.5477 - auc: 0.6347 - val_loss: 0.7330 - val_accuracy: 0.5452 - val_auc: 0.5966 - lr: 1.1692e-05\n"
     ]
    }
   ],
   "source": [
    "n_epoch = 100\n",
    "lr = LearningRateScheduler(lambda e: sigmoidal_decay(e, end=n_epoch))\n",
    "\n",
    "batch_size = 64\n",
    "\n",
    "params = {'batch_size': batch_size,\n",
    "          #          'input_shape': (100, 313, 1),\n",
    "          'shuffle': True,\n",
    "          'chaug': 0,\n",
    "          'beta_param': beta_param,\n",
    "          'cout': cout,\n",
    "#              'mixup': True,\n",
    "          #          'lowpass': [.5, [11,12,13,14,15,16,17,18]]\n",
    "#            'highpass': [.5, [78,79,80,81,82,83,84,85]],\n",
    "#              'ranfilter2' : [3, [18,19,20,21,22,23]]\n",
    "        #           'dropblock' : [30, 100]\n",
    "          #'device' : device\n",
    "}\n",
    "\n",
    "\n",
    "\n",
    "if mixup :\n",
    "    params['mixup'] = mixup\n",
    "    params['ranfilter2'] = ranfil\n",
    "else :\n",
    "    params['cutout'] = cout\n",
    "\n",
    "\n",
    "params_no_shuffle = {'batch_size': batch_size,\n",
    "                     #          'input_shape': (100, 313, 1),\n",
    "                     'shuffle': False,\n",
    "                     'beta_param': 0.7,\n",
    "                     'mixup': False\n",
    "                     #'device': device\n",
    "}\n",
    "\n",
    "\n",
    "\n",
    "\n",
    "if mixup :\n",
    "\n",
    "    \n",
    "    class_weight = {0: oo_weight, 1: 1.}\n",
    "    TrainDGen_1 = Generator0([features_trn['age'],features_trn['sex'], features_trn['hw'], features_trn['preg'],\n",
    "                              features_trn['loc'],features_trn['interval'],\n",
    "                              features_trn['mel1'],features_trn['cqt1'],features_trn['stft1']],\n",
    "                             features_trn['out_labels'], **params)()\n",
    "\n",
    "    model2.fit(TrainDGen_1,\n",
    "               validation_data = ([features_test['age'],features_test['sex'], features_test['hw'],\n",
    "                                   features_test['preg'], features_test['loc'],features_test['interval'],\n",
    "                                   features_test['mel1'],\n",
    "                                   features_test['cqt1'],\n",
    "                                   features_test['stft1']],features_test['out_labels']), \n",
    "               \n",
    "               callbacks=[lr,model2_callback],\n",
    "               steps_per_epoch=np.ceil(len(features_trn['out_labels'])/batch_size),\n",
    "               class_weight=class_weight, \n",
    "               epochs = n_epoch)\n",
    "    \n",
    "else :\n",
    "    TrainGen = DataGenerator([features_trn['age'],features_trn['sex'], features_trn['hw'], features_trn['preg'], features_trn['loc'], \n",
    "                      features_trn['mel1'],features_trn['cqt1'],features_trn['stft1']], \n",
    "                     out_lbs_trn,  ## our Y\n",
    "                     **params)\n",
    "    model2.fit(TrainGen,\n",
    "               validation_data = ([features_test['age'],features_test['sex'], features_test['hw'],\n",
    "                                   features_test['preg'], features_test['loc'],features_test['interval'],\n",
    "                                   features_test['wav2'], features_test['mel1'],features_test['cqt1'],\n",
    "                                   features_test['stft1']],features_test['out_labels']), \n",
    "               callbacks=[lr],\n",
    "               class_weight=class_weight, \n",
    "               epochs = n_epoch)\n",
    "\n",
    "\n",
    "\n",
    "\n",
    "\n",
    "\n",
    "\n",
    "\n",
    "\n",
    "\n",
    "\n",
    "\n",
    "\n",
    "\n",
    "\n",
    "\n"
   ]
  },
  {
   "cell_type": "code",
   "execution_count": null,
   "id": "c4f69250",
   "metadata": {},
   "outputs": [],
   "source": []
  },
  {
   "cell_type": "code",
   "execution_count": 45,
   "id": "5d9abb6a",
   "metadata": {},
   "outputs": [
    {
     "data": {
      "text/plain": [
       "{'samp_sec': 20,\n",
       " 'pre_emphasis': 0,\n",
       " 'hop_length': 256,\n",
       " 'win_length': 512,\n",
       " 'n_mels': 120,\n",
       " 'filter_scale': 1,\n",
       " 'n_bins': 80,\n",
       " 'fmin': 10,\n",
       " 'maxlen1': 120000,\n",
       " 'min_dist': 500,\n",
       " 'max_interval_len': 115,\n",
       " 'trim': 1,\n",
       " 'use_mel': True,\n",
       " 'use_cqt': False,\n",
       " 'use_stft': False,\n",
       " 'use_interval': True,\n",
       " 'use_wav2': True,\n",
       " 'ord1': True,\n",
       " 'mm_mean': False,\n",
       " 'dp': 0,\n",
       " 'fc': False,\n",
       " 'ext': True,\n",
       " 'oo_weight': 3,\n",
       " 'mm_weight': 3,\n",
       " 'chaug': 10,\n",
       " 'cout': 0.8,\n",
       " 'wunknown': 1,\n",
       " 'mixup': True,\n",
       " 'n1': 0}"
      ]
     },
     "execution_count": 45,
     "metadata": {},
     "output_type": "execute_result"
    }
   ],
   "source": [
    "params_feature"
   ]
  },
  {
   "cell_type": "code",
   "execution_count": 46,
   "id": "08f47fb7",
   "metadata": {},
   "outputs": [],
   "source": [
    "params_feature['mel_shape'] = mel_input_shape\n",
    "params_feature['cqt_shape'] = cqt_input_shape\n",
    "params_feature['stft_shape'] = stft_input_shape\n",
    "params_feature['interval_input_shape'] = interval_input_shape\n",
    "params_feature['wav2_input_shape'] = wav2_input_shape"
   ]
  },
  {
   "cell_type": "code",
   "execution_count": 47,
   "id": "7e94993e",
   "metadata": {},
   "outputs": [
    {
     "data": {
      "text/plain": [
       "{'samp_sec': 20,\n",
       " 'pre_emphasis': 0,\n",
       " 'hop_length': 256,\n",
       " 'win_length': 512,\n",
       " 'n_mels': 120,\n",
       " 'filter_scale': 1,\n",
       " 'n_bins': 80,\n",
       " 'fmin': 10,\n",
       " 'maxlen1': 120000,\n",
       " 'min_dist': 500,\n",
       " 'max_interval_len': 115,\n",
       " 'trim': 1,\n",
       " 'use_mel': True,\n",
       " 'use_cqt': False,\n",
       " 'use_stft': False,\n",
       " 'use_interval': True,\n",
       " 'use_wav2': True,\n",
       " 'ord1': True,\n",
       " 'mm_mean': False,\n",
       " 'dp': 0,\n",
       " 'fc': False,\n",
       " 'ext': True,\n",
       " 'oo_weight': 3,\n",
       " 'mm_weight': 3,\n",
       " 'chaug': 10,\n",
       " 'cout': 0.8,\n",
       " 'wunknown': 1,\n",
       " 'mixup': True,\n",
       " 'n1': 0,\n",
       " 'mel_shape': (120, 313, 1),\n",
       " 'cqt_shape': (1, 1, 1),\n",
       " 'stft_shape': (1, 1, 1),\n",
       " 'interval_input_shape': (115, 1),\n",
       " 'wav2_input_shape': (32, 374, 1)}"
      ]
     },
     "execution_count": 47,
     "metadata": {},
     "output_type": "execute_result"
    }
   ],
   "source": [
    "params_feature"
   ]
  },
  {
   "cell_type": "code",
   "execution_count": 48,
   "id": "786d2ba7",
   "metadata": {},
   "outputs": [],
   "source": [
    "import pickle as pk\n",
    "def save_challenge_model(model_folder, model1, model2, m_name1, m_name2, param_feature) :\n",
    "    os.makedirs(model_folder, exist_ok=True)\n",
    "    info_fnm = os.path.join(model_folder, 'desc.pk')\n",
    "    filename1 = os.path.join(model_folder, m_name1 + '_model1.hdf5')\n",
    "    filename2 = os.path.join(model_folder, m_name2 + '_model2.hdf5')\n",
    "    model1.save(filename1)\n",
    "    model2.save(filename2)\n",
    "    param_feature['model1'] = m_name1\n",
    "    param_feature['model2'] = m_name2\n",
    "    param_feature['model_fnm1'] = filename1\n",
    "    param_feature['model_fnm2'] = filename2\n",
    "    with open(info_fnm, 'wb') as f:\n",
    "        pk.dump(param_feature, f, pk.HIGHEST_PROTOCOL)\n",
    "    return 1\n",
    "\n",
    "    with open(info_fnm, 'wb') as f:\n",
    "        pk.dump(param_feature, f, pk.HIGHEST_PROTOCOL)\n",
    "    return 1\n",
    "    "
   ]
  },
  {
   "cell_type": "code",
   "execution_count": 49,
   "id": "6b9ae924",
   "metadata": {},
   "outputs": [
    {
     "data": {
      "text/plain": [
       "'lcnn2'"
      ]
     },
     "execution_count": 49,
     "metadata": {},
     "output_type": "execute_result"
    }
   ],
   "source": [
    "model_folder"
   ]
  },
  {
   "cell_type": "code",
   "execution_count": 50,
   "id": "ed1124d7",
   "metadata": {},
   "outputs": [
    {
     "data": {
      "text/plain": [
       "1"
      ]
     },
     "execution_count": 50,
     "metadata": {},
     "output_type": "execute_result"
    }
   ],
   "source": [
    "save_challenge_model(model_folder, model1, model2, m_name1 = 'lcnn1', m_name2 = 'lcnn2', param_feature = params_feature)"
   ]
  },
  {
   "cell_type": "code",
   "execution_count": 51,
   "id": "ba030c37",
   "metadata": {},
   "outputs": [],
   "source": [
    "def load_challenge_model(model_folder, verbose):\n",
    "    info_fnm = os.path.join(model_folder, 'desc.pk')\n",
    "    with open(info_fnm, 'rb') as f:\n",
    "        info_m = pk.load(f)\n",
    "\n",
    "    return info_m"
   ]
  },
  {
   "cell_type": "code",
   "execution_count": 66,
   "id": "19a747dc",
   "metadata": {},
   "outputs": [],
   "source": [
    "def run_challenge_model(model, data, recordings, verbose):\n",
    "    \n",
    "    murmur_classes = ['Present', 'Unknown', 'Absent']\n",
    "    outcome_classes = ['Abnormal', 'Normal']\n",
    "\n",
    "##########################################################################    \n",
    "    if model['model1'] == 'lcnn1' :\n",
    "        model1 = get_LCNN_o_4_dr_1(model['mel_shape'],model['cqt_shape'],model['stft_shape'], model['interval_input_shape'],model['wav2_input_shape']\n",
    "                                 , use_mel = model['use_mel'],use_cqt = model['use_cqt'], use_stft = model['use_stft'], \n",
    "                                 ord1 = model['ord1'], dp = model['dp'], fc = model['fc'], ext = model['ext'])    \n",
    "    if model['model1'] == 'lcnn2' :\n",
    "        model1 = get_LCNN_o_4_dr_2(model['mel_shape'],model['cqt_shape'],model['stft_shape'], model['interval_input_shape'],model['wav2_input_shape']\n",
    "                                 , use_mel = model['use_mel'],use_cqt = model['use_cqt'], use_stft = model['use_stft'], \n",
    "                                 ord1 = model['ord1'], dp = model['dp'], fc = model['fc'], ext = model['ext'])   \n",
    "    model1.load_weights(model['model_fnm1'])\n",
    "    model2.load_weights(model['model_fnm2'])\n",
    "############################################################################ \n",
    "\n",
    "\n",
    "    max_interval_len = params_feature['max_interval_len']\n",
    "    maxlen1 = params_feature['maxlen1']\n",
    "    min_dist = params_feature['min_dist']\n",
    "    \n",
    "    \n",
    "    # Load features.\n",
    "    features = get_feature_one(data, verbose = 0)\n",
    "\n",
    "    samp_sec = model['samp_sec'] \n",
    "    pre_emphasis = model['pre_emphasis']\n",
    "    hop_length = model['hop_length']\n",
    "    win_length = model['win_length']\n",
    "    n_mels = model['n_mels']\n",
    "    filter_scale = model['filter_scale']\n",
    "    n_bins = model['n_bins']\n",
    "    fmin = model['fmin']\n",
    "    trim = model['trim']\n",
    "    use_mel = model['use_mel']\n",
    "    use_cqt = model['use_cqt']\n",
    "    use_stft = model['use_stft']\n",
    "    use_interval = model['use_interval']\n",
    "    use_wav2 = model['use_wav2']\n",
    "    maxlen1 = model['maxlen1']\n",
    "    min_dist = model['min_dist']\n",
    "    max_interval_len = model['max_interval_len']\n",
    "    \n",
    "#    use_raw = model['use_raw']\n",
    "    \n",
    "\n",
    "    features['interval'] = []\n",
    "    tmp_interval=[]  \n",
    "    \n",
    "    features['wav2'] = []\n",
    "    tmp_raw = []\n",
    "    tmp=[]      \n",
    "    \n",
    "    from wav2vec2 import Wav2Vec2ForCTC, Wav2Vec2Config\n",
    "    import tensorflow as tf\n",
    "    \n",
    "    config = Wav2Vec2Config()\n",
    "    tmp_model = Wav2Vec2ForCTC(config)\n",
    "    tmp_model.trainable=False\n",
    "    \n",
    "    for i in range(len(recordings)):\n",
    "        data = recordings[i]/32768\n",
    "        tmp_raw.append(data)\n",
    "        \n",
    "    tmp_pad =pad_sequences(tmp_raw, maxlen=maxlen1, dtype='float64', padding='post', truncating='post', value=0.0)\n",
    "    tmp_pad = tmp_pad[:,np.newaxis,:]\n",
    "    \n",
    "    for i in range(len(tmp_pad)):\n",
    "        tmp_feature = tmp_model(tmp_pad[i])\n",
    "        tmp.append(tmp_feature)\n",
    "    \n",
    "    tmp=np.array(tmp, dtype=np.float32)\n",
    "    new_tmp1=tmp.reshape(-1,32,374)\n",
    "    features['wav2']=new_tmp1\n",
    "    \n",
    "    \n",
    "    \n",
    "    for i in tqdm.tqdm(range(len(recordings))) :\n",
    "        datos=recordings[i]\n",
    "        filtros=sio.loadmat('./Filters1')\n",
    "        try:\n",
    "            X=datos\n",
    "            X=X[trim*3:-trim*3]\n",
    "            Fs=4000\n",
    "            \n",
    "            Fpa20=filtros['Fpa20'];\t\t\t        # High pass filter\n",
    "            Fpa20=Fpa20[0];\t\t\t\t\t# High pass filter\n",
    "            Fpb100=filtros['Fpb100'];\t\t        # Low-pass Filter\n",
    "            Fpb100=Fpb100[0];\t\t\t\t# Low-pass Filter\n",
    "            \n",
    "            Xf=FpassBand(X,Fpa20,Fpb100); \t                # Apply a passband filter\n",
    "            Xf=vec_nor(Xf);\t\t\t\n",
    "            \n",
    "                    # Derivate of the Signal\n",
    "            dX=derivate(Xf);\t\t\t\t# Derivate of the signal\n",
    "            dX=vec_nor(dX);\t\t\t\t\t# Vector Normalizing\n",
    "                    # Square of the signal\n",
    "            dy=np.square(Xf);\n",
    "            dy=vec_nor(dy);\n",
    "                    \n",
    "            size=np.shape(Xf)\t\t\t\t# Rank or dimension of the array\n",
    "            fil=size[0];\t\t\t\t\t# Number of rows\n",
    "\n",
    "            positive=np.zeros((1,fil+1));                   # Initializating Positives Values Vector \n",
    "            positive=positive[0];                           # Getting the Vector\n",
    "\n",
    "            points=np.zeros((1,fil));                       # Initializating the all Peak Points Vector\n",
    "            points=points[0];                               # Getting the point vector\n",
    "\n",
    "            peaks=np.zeros((1,fil));                        # Initializating the s1-s1 Peak Vector\n",
    "            peaks=peaks[0];                                 # Getting the point vector\n",
    "\n",
    "            \n",
    "            for i in range(0,fil):\n",
    "                if dX[i]>0:\n",
    "                    positive[i]=1;\n",
    "                else:\n",
    "                    positive[i]=0;\n",
    "\n",
    "            for i in range(0,fil):\n",
    "                if (positive[i]==1 and positive[i+1]==0):\n",
    "                    points[i]=Xf[i];\n",
    "                else:\n",
    "                    points[i]=0;\n",
    "\n",
    "            indexes=peakutils.indexes(points,thres=0.5/max(points), min_dist=min_dist);\n",
    "            lenght=np.shape(indexes)\t\t\t# Get the length of the index vector\t\t\n",
    "            lenght=lenght[0];\t\t\t\t# Get the value of the index vector\n",
    "\n",
    "            for i in range(0,lenght):\n",
    "                p=indexes[i];\n",
    "                peaks[p]=points[p];\n",
    "        \n",
    "            n=np.arange(0,fil);                            # Vector to the X axes (Number of Samples)\n",
    "            \n",
    "            tmp_peaks = np.diff(indexes)\n",
    "                    \n",
    "            tmp_interval.append(tmp_peaks)\n",
    "                    \n",
    "           \n",
    "        except:\n",
    "            print(i)\n",
    "            tmp_peaks = np.zeros(maxlen)\n",
    "            tmp_interval.append(tmp_peaks)\n",
    "                    \n",
    "     \n",
    "    padded =pad_sequences(tmp_interval, maxlen=max_interval_len, dtype='float64', padding='post', truncating='post', value=0.0)\n",
    "        \n",
    "    for i in range(len(padded)):\n",
    "        features['interval'].append(padded[i])\n",
    "        \n",
    "        \n",
    "    for i in range(len(features['interval'])):\n",
    "        features['interval'][i] = np.array(features['interval'][i])\n",
    "        \n",
    "    features['interval'] = np.array(features['interval'])\n",
    "    \n",
    "    \n",
    "    \n",
    "    features['mel1'] = []\n",
    "    for i in range(len(recordings)) :\n",
    "        if use_mel :\n",
    "            mel1 = feature_extract_melspec(recordings[i]/ 32768, samp_sec=samp_sec, pre_emphasis = pre_emphasis, hop_length=hop_length, \n",
    "                                           win_length = win_length, n_mels = n_mels)[0]\n",
    "        else :\n",
    "            mel1 = np.zeros( (1,1) )\n",
    "            \n",
    "        features['mel1'].append(mel1)\n",
    "        \n",
    "    M, N = features['mel1'][0].shape\n",
    "    \n",
    "    if use_mel :\n",
    "        for i in range(len(features['mel1'])) :\n",
    "            features['mel1'][i] = features['mel1'][i].reshape(M,N,1)   \n",
    "    \n",
    "    features['mel1'] = np.array(features['mel1'])\n",
    "\n",
    "    \n",
    "  \n",
    "    features['cqt1'] = []\n",
    "    for i in range(len(recordings)) :\n",
    "        if use_cqt :\n",
    "            mel1 = feature_extract_cqt(recordings[i], samp_sec=samp_sec, pre_emphasis = pre_emphasis, filter_scale = filter_scale, \n",
    "                                        n_bins = n_bins, fmin = fmin)[0]\n",
    "        else:\n",
    "            mel1 = np.zeros( (1,1,1) )\n",
    "            \n",
    "        features['cqt1'].append(mel1)\n",
    "        \n",
    "    M, N,__ = features['cqt1'][0].shape\n",
    "    \n",
    "    if use_cqt :\n",
    "        for i in range(len(features['cqt1'])) :\n",
    "            features['cqt1'][i] = features['cqt1'][i].reshape(M,N,1)   \n",
    "    \n",
    "    features['cqt1'] = np.array(features['cqt1'])\n",
    "    \n",
    "    \n",
    "    features['stft1'] = []\n",
    "    for i in range(len(recordings)) :\n",
    "        if use_stft :\n",
    "            mel1 = feature_extract_stft(recordings[i]/ 32768, samp_sec=samp_sec, pre_emphasis = pre_emphasis, hop_length=hop_length, \n",
    "                                        win_length = win_length)[0]\n",
    "        else :\n",
    "            mel1 = np.zeros( (1,1,1) )\n",
    "        \n",
    "        features['stft1'].append(mel1)\n",
    "        \n",
    "    M, N,__ = features['stft1'][0].shape\n",
    "    if use_stft :\n",
    "        for i in range(len(features['stft1'])) :\n",
    "            features['stft1'][i] = features['stft1'][i].reshape(M,N,1)           \n",
    "    features['stft1'] = np.array(features['stft1'])\n",
    "    \n",
    "#     return features       \n",
    "\n",
    "    #    print(features)\n",
    "    # Impute missing data.\n",
    "    res1 = model1.predict([features['age'], features['sex'], features['hw'], features['preg'], \n",
    "                           features['loc'], features['interval'],features['mel1'], features['stft1'], features['cqt1']])\n",
    "    res2 = model2.predict([features['age'], features['sex'], features['hw'], features['preg'], \n",
    "                           features['loc'], features['interval'],features['mel1'], features['stft1'], features['cqt1']])\n",
    "    if model['ord1'] :\n",
    "        idx1 = res1.argmax(axis=0)[0]\n",
    "        murmur_p = res1[idx1,]  ## mumur 확률 최대화 되는 애 뽑기\n",
    "        murmur_probabilities = np.zeros((3,))\n",
    "        murmur_probabilities[0] = murmur_p[0]\n",
    "        murmur_probabilities[1] = 0\n",
    "        murmur_probabilities[2] = murmur_p[1]\n",
    "        outcome_probabilities = res2.mean(axis = 0) ##  outcome 은 그냥 평균으로 뽑기\n",
    "    else :\n",
    "        if model['mm_mean'] :\n",
    "            murmur_probabilities = res1.mean(axis = 0)\n",
    "        else :\n",
    "            idx1 = res1.argmax(axis=0)[0]\n",
    "            murmur_probabilities = res1[idx1,]  ## mumur 확률 최대화 되는 애 뽑기\n",
    "        outcome_probabilities = res2.mean(axis = 0) ##  outcome 은 그냥 평균으로 뽑기\n",
    "\n",
    "        \n",
    "    murmur_labels = np.zeros(len(murmur_classes), dtype=np.int_)\n",
    "    \n",
    "    \n",
    "    if murmur_probabilities[0] > 0.482 :\n",
    "        idx = 0\n",
    "    else :\n",
    "        idx = 2\n",
    "    murmur_labels[idx] = 1\n",
    "\n",
    "    outcome_labels = np.zeros(len(outcome_classes), dtype=np.int_)\n",
    "    if outcome_probabilities[0] > 0.607 :\n",
    "        idx = 0\n",
    "    else :\n",
    "        idx = 1    \n",
    "        # idx = np.argmax(outcome_probabilities)\n",
    "    outcome_labels[idx] = 1\n",
    "    \n",
    "    # Concatenate classes, labels, and probabilities.\n",
    "    classes = murmur_classes + outcome_classes\n",
    "    labels = np.concatenate((murmur_labels, outcome_labels))\n",
    "    probabilities = np.concatenate((murmur_probabilities, outcome_probabilities))\n",
    "    \n",
    "    return classes, labels, probabilities"
   ]
  },
  {
   "cell_type": "code",
   "execution_count": 67,
   "id": "b5eecd4a",
   "metadata": {
    "scrolled": true
   },
   "outputs": [
    {
     "data": {
      "text/plain": [
       "'lcnn2'"
      ]
     },
     "execution_count": 67,
     "metadata": {},
     "output_type": "execute_result"
    }
   ],
   "source": [
    "model_folder"
   ]
  },
  {
   "cell_type": "code",
   "execution_count": 68,
   "id": "cd5b523f",
   "metadata": {},
   "outputs": [],
   "source": [
    "data_folder = test_folder"
   ]
  },
  {
   "cell_type": "code",
   "execution_count": 69,
   "id": "1f523ff0",
   "metadata": {},
   "outputs": [
    {
     "data": {
      "text/plain": [
       "'/home/jk21/Downloads/Data/data/murmur/test'"
      ]
     },
     "execution_count": 69,
     "metadata": {},
     "output_type": "execute_result"
    }
   ],
   "source": [
    "data_folder"
   ]
  },
  {
   "cell_type": "code",
   "execution_count": 70,
   "id": "c67ffdf6",
   "metadata": {},
   "outputs": [],
   "source": [
    "output_folder ='/home/jk21/Documents/hmd/jk_classifier/out_lcnn2'"
   ]
  },
  {
   "cell_type": "code",
   "execution_count": 71,
   "id": "89e8d650",
   "metadata": {},
   "outputs": [],
   "source": [
    "allow_failures=True"
   ]
  },
  {
   "cell_type": "code",
   "execution_count": 72,
   "id": "bccc27ef",
   "metadata": {},
   "outputs": [],
   "source": [
    "verbose=1"
   ]
  },
  {
   "cell_type": "code",
   "execution_count": null,
   "id": "101c582c",
   "metadata": {},
   "outputs": [],
   "source": []
  },
  {
   "cell_type": "code",
   "execution_count": 73,
   "id": "73579324",
   "metadata": {},
   "outputs": [],
   "source": [
    "model = load_challenge_model(model_folder, verbose)"
   ]
  },
  {
   "cell_type": "code",
   "execution_count": 74,
   "id": "20a7edc2",
   "metadata": {},
   "outputs": [],
   "source": [
    "patient_files = find_patient_files(data_folder)"
   ]
  },
  {
   "cell_type": "code",
   "execution_count": 75,
   "id": "450b3026",
   "metadata": {},
   "outputs": [],
   "source": [
    "num_patient_files = len(patient_files)"
   ]
  },
  {
   "cell_type": "code",
   "execution_count": 76,
   "id": "2ed2bb8f",
   "metadata": {},
   "outputs": [],
   "source": [
    "patient_data = load_patient_data(patient_files[0])"
   ]
  },
  {
   "cell_type": "code",
   "execution_count": 77,
   "id": "18f0a77e",
   "metadata": {},
   "outputs": [
    {
     "data": {
      "text/plain": [
       "'33151 4 4000\\nAV 33151_AV.hea 33151_AV.wav 33151_AV.tsv\\nPV 33151_PV.hea 33151_PV.wav 33151_PV.tsv\\nTV 33151_TV.hea 33151_TV.wav 33151_TV.tsv\\nMV 33151_MV.hea 33151_MV.wav 33151_MV.tsv\\n#Age: Child\\n#Sex: Female\\n#Height: 141.0\\n#Weight: 30.9\\n#Pregnancy status: False\\n#Murmur: Present\\n#Murmur locations: MV+TV\\n#Most audible location: TV\\n#Systolic murmur timing: Holosystolic\\n#Systolic murmur shape: Plateau\\n#Systolic murmur grading: I/VI\\n#Systolic murmur pitch: Low\\n#Systolic murmur quality: Harsh\\n#Diastolic murmur timing: nan\\n#Diastolic murmur shape: nan\\n#Diastolic murmur grading: nan\\n#Diastolic murmur pitch: nan\\n#Diastolic murmur quality: nan\\n#Outcome: Abnormal\\n#Campaign: CC2015\\n#Additional ID: nan\\n'"
      ]
     },
     "execution_count": 77,
     "metadata": {},
     "output_type": "execute_result"
    }
   ],
   "source": [
    "patient_data"
   ]
  },
  {
   "cell_type": "code",
   "execution_count": 78,
   "id": "f039e162",
   "metadata": {},
   "outputs": [],
   "source": [
    "recordings = load_recordings(data_folder, patient_data)"
   ]
  },
  {
   "cell_type": "code",
   "execution_count": 79,
   "id": "d3acd534",
   "metadata": {},
   "outputs": [
    {
     "name": "stderr",
     "output_type": "stream",
     "text": [
      "100%|█████████████████████████████████████████████| 4/4 [00:00<00:00,  7.02it/s]\n"
     ]
    }
   ],
   "source": [
    "classes, labels, probabilities = run_challenge_model(model, patient_data, recordings, verbose)"
   ]
  },
  {
   "cell_type": "code",
   "execution_count": 80,
   "id": "970b87e5",
   "metadata": {},
   "outputs": [
    {
     "data": {
      "text/plain": [
       "['Present', 'Unknown', 'Absent', 'Abnormal', 'Normal']"
      ]
     },
     "execution_count": 80,
     "metadata": {},
     "output_type": "execute_result"
    }
   ],
   "source": [
    "classes"
   ]
  },
  {
   "cell_type": "code",
   "execution_count": 81,
   "id": "b6a44c38",
   "metadata": {},
   "outputs": [],
   "source": [
    "# Run model.\n",
    "def run_model(model_folder, data_folder, output_folder, allow_failures, verbose=1):\n",
    "    # Load models.\n",
    "    if verbose >= 1:\n",
    "        print('Loading Challenge model...')\n",
    "\n",
    "    model = load_challenge_model(model_folder, verbose) ### Teams: Implement this function!!!\n",
    "\n",
    "    # Find the patient data files.\n",
    "    patient_files = find_patient_files(data_folder)\n",
    "    num_patient_files = len(patient_files)\n",
    "\n",
    "    if num_patient_files==0:\n",
    "        raise Exception('No data was provided.')\n",
    "\n",
    "    # Create a folder for the Challenge outputs if it does not already exist.\n",
    "    os.makedirs(output_folder, exist_ok=True)\n",
    "\n",
    "    # Run the team's model on the Challenge data.\n",
    "    if verbose >= 1:\n",
    "        print('Running model on Challenge data...')\n",
    "\n",
    "    # Iterate over the patient files.\n",
    "    for i in range(num_patient_files):\n",
    "        if verbose >= 2:\n",
    "            print('    {}/{}...'.format(i+1, num_patient_files))\n",
    "\n",
    "        patient_data = load_patient_data(patient_files[i])\n",
    "        recordings = load_recordings(data_folder, patient_data)\n",
    "\n",
    "        # Allow or disallow the model to fail on parts of the data; helpful for debugging.\n",
    "        try:\n",
    "            classes, labels, probabilities = run_challenge_model(model, patient_data, recordings, verbose) ### Teams: Implement this function!!!\n",
    "        except:\n",
    "            if allow_failures:\n",
    "                if verbose >= 2:\n",
    "                    print('... failed.')\n",
    "                classes, labels, probabilities = list(), list(), list()\n",
    "            else:\n",
    "                raise\n",
    "\n",
    "        # Save Challenge outputs.\n",
    "        head, tail = os.path.split(patient_files[i])\n",
    "        root, extension = os.path.splitext(tail)\n",
    "        output_file = os.path.join(output_folder, root + '.csv')\n",
    "        patient_id = get_patient_id(patient_data)\n",
    "        save_challenge_outputs(output_file, patient_id, classes, labels, probabilities)\n",
    "\n",
    "    if verbose >= 1:\n",
    "        print('Done.')"
   ]
  },
  {
   "cell_type": "code",
   "execution_count": 82,
   "id": "7fe188c6",
   "metadata": {},
   "outputs": [
    {
     "data": {
      "text/plain": [
       "'/home/jk21/Downloads/Data/data/murmur/test'"
      ]
     },
     "execution_count": 82,
     "metadata": {},
     "output_type": "execute_result"
    }
   ],
   "source": [
    "test_folder"
   ]
  },
  {
   "cell_type": "code",
   "execution_count": 83,
   "id": "38ee9f70",
   "metadata": {},
   "outputs": [],
   "source": [
    "output_folder = '/home/jk21/Documents/hmd/jk_classifier/out_lcnn2'"
   ]
  },
  {
   "cell_type": "code",
   "execution_count": 84,
   "id": "9a8580ab",
   "metadata": {},
   "outputs": [
    {
     "data": {
      "text/plain": [
       "'lcnn2'"
      ]
     },
     "execution_count": 84,
     "metadata": {},
     "output_type": "execute_result"
    }
   ],
   "source": [
    "model_folder"
   ]
  },
  {
   "cell_type": "code",
   "execution_count": 85,
   "id": "d4be81f7",
   "metadata": {},
   "outputs": [
    {
     "name": "stdout",
     "output_type": "stream",
     "text": [
      "Loading Challenge model...\n",
      "Running model on Challenge data...\n",
      "    1/191...\n"
     ]
    },
    {
     "name": "stderr",
     "output_type": "stream",
     "text": [
      "100%|█████████████████████████████████████████████| 4/4 [00:00<00:00,  7.59it/s]\n"
     ]
    },
    {
     "name": "stdout",
     "output_type": "stream",
     "text": [
      "    2/191...\n"
     ]
    },
    {
     "name": "stderr",
     "output_type": "stream",
     "text": [
      "100%|█████████████████████████████████████████████| 2/2 [00:00<00:00,  7.05it/s]\n"
     ]
    },
    {
     "name": "stdout",
     "output_type": "stream",
     "text": [
      "    3/191...\n"
     ]
    },
    {
     "name": "stderr",
     "output_type": "stream",
     "text": [
      "100%|█████████████████████████████████████████████| 4/4 [00:00<00:00,  5.08it/s]\n"
     ]
    },
    {
     "name": "stdout",
     "output_type": "stream",
     "text": [
      "WARNING:tensorflow:5 out of the last 7 calls to <function Model.make_predict_function.<locals>.predict_function at 0x7fe32ba59160> triggered tf.function retracing. Tracing is expensive and the excessive number of tracings could be due to (1) creating @tf.function repeatedly in a loop, (2) passing tensors with different shapes, (3) passing Python objects instead of tensors. For (1), please define your @tf.function outside of the loop. For (2), @tf.function has experimental_relax_shapes=True option that relaxes argument shapes that can avoid unnecessary retracing. For (3), please refer to https://www.tensorflow.org/guide/function#controlling_retracing and https://www.tensorflow.org/api_docs/python/tf/function for  more details.\n",
      "    4/191...\n"
     ]
    },
    {
     "name": "stderr",
     "output_type": "stream",
     "text": [
      "100%|█████████████████████████████████████████████| 2/2 [00:00<00:00,  4.14it/s]\n"
     ]
    },
    {
     "name": "stdout",
     "output_type": "stream",
     "text": [
      "WARNING:tensorflow:6 out of the last 9 calls to <function Model.make_predict_function.<locals>.predict_function at 0x7fe32b79fca0> triggered tf.function retracing. Tracing is expensive and the excessive number of tracings could be due to (1) creating @tf.function repeatedly in a loop, (2) passing tensors with different shapes, (3) passing Python objects instead of tensors. For (1), please define your @tf.function outside of the loop. For (2), @tf.function has experimental_relax_shapes=True option that relaxes argument shapes that can avoid unnecessary retracing. For (3), please refer to https://www.tensorflow.org/guide/function#controlling_retracing and https://www.tensorflow.org/api_docs/python/tf/function for  more details.\n",
      "    5/191...\n"
     ]
    },
    {
     "name": "stderr",
     "output_type": "stream",
     "text": [
      "100%|█████████████████████████████████████████████| 3/3 [00:00<00:00,  4.45it/s]\n"
     ]
    },
    {
     "name": "stdout",
     "output_type": "stream",
     "text": [
      "    6/191...\n"
     ]
    },
    {
     "name": "stderr",
     "output_type": "stream",
     "text": [
      "100%|█████████████████████████████████████████████| 1/1 [00:00<00:00,  3.30it/s]\n"
     ]
    },
    {
     "name": "stdout",
     "output_type": "stream",
     "text": [
      "    7/191...\n"
     ]
    },
    {
     "name": "stderr",
     "output_type": "stream",
     "text": [
      "100%|█████████████████████████████████████████████| 4/4 [00:00<00:00,  4.05it/s]\n"
     ]
    },
    {
     "name": "stdout",
     "output_type": "stream",
     "text": [
      "    8/191...\n"
     ]
    },
    {
     "name": "stderr",
     "output_type": "stream",
     "text": [
      "100%|█████████████████████████████████████████████| 4/4 [00:00<00:00,  7.48it/s]\n"
     ]
    },
    {
     "name": "stdout",
     "output_type": "stream",
     "text": [
      "    9/191...\n"
     ]
    },
    {
     "name": "stderr",
     "output_type": "stream",
     "text": [
      "100%|█████████████████████████████████████████████| 4/4 [00:00<00:00,  4.06it/s]\n"
     ]
    },
    {
     "name": "stdout",
     "output_type": "stream",
     "text": [
      "    10/191...\n"
     ]
    },
    {
     "name": "stderr",
     "output_type": "stream",
     "text": [
      "100%|█████████████████████████████████████████████| 4/4 [00:00<00:00,  4.19it/s]\n"
     ]
    },
    {
     "name": "stdout",
     "output_type": "stream",
     "text": [
      "    11/191...\n"
     ]
    },
    {
     "name": "stderr",
     "output_type": "stream",
     "text": [
      "100%|█████████████████████████████████████████████| 4/4 [00:00<00:00,  4.47it/s]\n"
     ]
    },
    {
     "name": "stdout",
     "output_type": "stream",
     "text": [
      "    12/191...\n"
     ]
    },
    {
     "name": "stderr",
     "output_type": "stream",
     "text": [
      "100%|█████████████████████████████████████████████| 2/2 [00:00<00:00,  3.84it/s]\n"
     ]
    },
    {
     "name": "stdout",
     "output_type": "stream",
     "text": [
      "    13/191...\n"
     ]
    },
    {
     "name": "stderr",
     "output_type": "stream",
     "text": [
      "100%|█████████████████████████████████████████████| 3/3 [00:00<00:00,  5.78it/s]\n"
     ]
    },
    {
     "name": "stdout",
     "output_type": "stream",
     "text": [
      "    14/191...\n"
     ]
    },
    {
     "name": "stderr",
     "output_type": "stream",
     "text": [
      "100%|█████████████████████████████████████████████| 4/4 [00:00<00:00,  4.24it/s]\n"
     ]
    },
    {
     "name": "stdout",
     "output_type": "stream",
     "text": [
      "    15/191...\n"
     ]
    },
    {
     "name": "stderr",
     "output_type": "stream",
     "text": [
      "100%|█████████████████████████████████████████████| 2/2 [00:00<00:00,  3.89it/s]\n"
     ]
    },
    {
     "name": "stdout",
     "output_type": "stream",
     "text": [
      "    16/191...\n"
     ]
    },
    {
     "name": "stderr",
     "output_type": "stream",
     "text": [
      "100%|█████████████████████████████████████████████| 4/4 [00:00<00:00,  5.19it/s]\n"
     ]
    },
    {
     "name": "stdout",
     "output_type": "stream",
     "text": [
      "    17/191...\n"
     ]
    },
    {
     "name": "stderr",
     "output_type": "stream",
     "text": [
      "100%|█████████████████████████████████████████████| 5/5 [00:00<00:00,  6.64it/s]\n"
     ]
    },
    {
     "name": "stdout",
     "output_type": "stream",
     "text": [
      "    18/191...\n"
     ]
    },
    {
     "name": "stderr",
     "output_type": "stream",
     "text": [
      "100%|█████████████████████████████████████████████| 1/1 [00:00<00:00,  8.93it/s]\n"
     ]
    },
    {
     "name": "stdout",
     "output_type": "stream",
     "text": [
      "    19/191...\n"
     ]
    },
    {
     "name": "stderr",
     "output_type": "stream",
     "text": [
      "100%|█████████████████████████████████████████████| 4/4 [00:00<00:00,  6.31it/s]\n"
     ]
    },
    {
     "name": "stdout",
     "output_type": "stream",
     "text": [
      "    20/191...\n"
     ]
    },
    {
     "name": "stderr",
     "output_type": "stream",
     "text": [
      "100%|█████████████████████████████████████████████| 4/4 [00:00<00:00,  8.12it/s]\n"
     ]
    },
    {
     "name": "stdout",
     "output_type": "stream",
     "text": [
      "    21/191...\n"
     ]
    },
    {
     "name": "stderr",
     "output_type": "stream",
     "text": [
      "100%|█████████████████████████████████████████████| 2/2 [00:00<00:00,  3.92it/s]\n"
     ]
    },
    {
     "name": "stdout",
     "output_type": "stream",
     "text": [
      "    22/191...\n"
     ]
    },
    {
     "name": "stderr",
     "output_type": "stream",
     "text": [
      "100%|█████████████████████████████████████████████| 1/1 [00:00<00:00,  6.49it/s]\n"
     ]
    },
    {
     "name": "stdout",
     "output_type": "stream",
     "text": [
      "    23/191...\n"
     ]
    },
    {
     "name": "stderr",
     "output_type": "stream",
     "text": [
      "100%|█████████████████████████████████████████████| 2/2 [00:00<00:00,  4.67it/s]\n"
     ]
    },
    {
     "name": "stdout",
     "output_type": "stream",
     "text": [
      "    24/191...\n"
     ]
    },
    {
     "name": "stderr",
     "output_type": "stream",
     "text": [
      "100%|█████████████████████████████████████████████| 3/3 [00:00<00:00,  4.10it/s]\n"
     ]
    },
    {
     "name": "stdout",
     "output_type": "stream",
     "text": [
      "    25/191...\n"
     ]
    },
    {
     "name": "stderr",
     "output_type": "stream",
     "text": [
      "100%|█████████████████████████████████████████████| 4/4 [00:00<00:00,  4.81it/s]\n"
     ]
    },
    {
     "name": "stdout",
     "output_type": "stream",
     "text": [
      "    26/191...\n"
     ]
    },
    {
     "name": "stderr",
     "output_type": "stream",
     "text": [
      "100%|█████████████████████████████████████████████| 3/3 [00:00<00:00,  4.06it/s]\n"
     ]
    },
    {
     "name": "stdout",
     "output_type": "stream",
     "text": [
      "    27/191...\n"
     ]
    },
    {
     "name": "stderr",
     "output_type": "stream",
     "text": [
      "100%|█████████████████████████████████████████████| 2/2 [00:00<00:00,  3.50it/s]\n"
     ]
    },
    {
     "name": "stdout",
     "output_type": "stream",
     "text": [
      "    28/191...\n"
     ]
    },
    {
     "name": "stderr",
     "output_type": "stream",
     "text": [
      "100%|█████████████████████████████████████████████| 3/3 [00:00<00:00,  4.48it/s]\n"
     ]
    },
    {
     "name": "stdout",
     "output_type": "stream",
     "text": [
      "    29/191...\n"
     ]
    },
    {
     "name": "stderr",
     "output_type": "stream",
     "text": [
      "100%|█████████████████████████████████████████████| 3/3 [00:00<00:00,  3.97it/s]\n"
     ]
    },
    {
     "name": "stdout",
     "output_type": "stream",
     "text": [
      "    30/191...\n"
     ]
    },
    {
     "name": "stderr",
     "output_type": "stream",
     "text": [
      "100%|█████████████████████████████████████████████| 4/4 [00:00<00:00,  4.26it/s]\n"
     ]
    },
    {
     "name": "stdout",
     "output_type": "stream",
     "text": [
      "    31/191...\n"
     ]
    },
    {
     "name": "stderr",
     "output_type": "stream",
     "text": [
      "100%|█████████████████████████████████████████████| 3/3 [00:00<00:00,  4.76it/s]\n"
     ]
    },
    {
     "name": "stdout",
     "output_type": "stream",
     "text": [
      "    32/191...\n"
     ]
    },
    {
     "name": "stderr",
     "output_type": "stream",
     "text": [
      "100%|█████████████████████████████████████████████| 2/2 [00:00<00:00,  4.26it/s]\n"
     ]
    },
    {
     "name": "stdout",
     "output_type": "stream",
     "text": [
      "    33/191...\n"
     ]
    },
    {
     "name": "stderr",
     "output_type": "stream",
     "text": [
      "100%|█████████████████████████████████████████████| 1/1 [00:00<00:00,  3.53it/s]\n"
     ]
    },
    {
     "name": "stdout",
     "output_type": "stream",
     "text": [
      "    34/191...\n"
     ]
    },
    {
     "name": "stderr",
     "output_type": "stream",
     "text": [
      "100%|█████████████████████████████████████████████| 3/3 [00:00<00:00,  3.88it/s]\n"
     ]
    },
    {
     "name": "stdout",
     "output_type": "stream",
     "text": [
      "    35/191...\n"
     ]
    },
    {
     "name": "stderr",
     "output_type": "stream",
     "text": [
      "100%|█████████████████████████████████████████████| 3/3 [00:00<00:00,  3.86it/s]\n"
     ]
    },
    {
     "name": "stdout",
     "output_type": "stream",
     "text": [
      "    36/191...\n"
     ]
    },
    {
     "name": "stderr",
     "output_type": "stream",
     "text": [
      "100%|█████████████████████████████████████████████| 3/3 [00:00<00:00,  5.09it/s]\n"
     ]
    },
    {
     "name": "stdout",
     "output_type": "stream",
     "text": [
      "    37/191...\n"
     ]
    },
    {
     "name": "stderr",
     "output_type": "stream",
     "text": [
      "100%|█████████████████████████████████████████████| 3/3 [00:00<00:00,  6.31it/s]\n"
     ]
    },
    {
     "name": "stdout",
     "output_type": "stream",
     "text": [
      "    38/191...\n"
     ]
    },
    {
     "name": "stderr",
     "output_type": "stream",
     "text": [
      "100%|█████████████████████████████████████████████| 5/5 [00:01<00:00,  3.84it/s]\n"
     ]
    },
    {
     "name": "stdout",
     "output_type": "stream",
     "text": [
      "    39/191...\n"
     ]
    },
    {
     "name": "stderr",
     "output_type": "stream",
     "text": [
      "100%|█████████████████████████████████████████████| 4/4 [00:00<00:00,  4.20it/s]\n"
     ]
    },
    {
     "name": "stdout",
     "output_type": "stream",
     "text": [
      "    40/191...\n"
     ]
    },
    {
     "name": "stderr",
     "output_type": "stream",
     "text": [
      "100%|█████████████████████████████████████████████| 2/2 [00:00<00:00,  3.66it/s]\n"
     ]
    },
    {
     "name": "stdout",
     "output_type": "stream",
     "text": [
      "    41/191...\n"
     ]
    },
    {
     "name": "stderr",
     "output_type": "stream",
     "text": [
      "100%|█████████████████████████████████████████████| 4/4 [00:00<00:00,  5.64it/s]\n"
     ]
    },
    {
     "name": "stdout",
     "output_type": "stream",
     "text": [
      "    42/191...\n"
     ]
    },
    {
     "name": "stderr",
     "output_type": "stream",
     "text": [
      "100%|█████████████████████████████████████████████| 3/3 [00:00<00:00,  4.34it/s]\n"
     ]
    },
    {
     "name": "stdout",
     "output_type": "stream",
     "text": [
      "    43/191...\n"
     ]
    },
    {
     "name": "stderr",
     "output_type": "stream",
     "text": [
      "100%|█████████████████████████████████████████████| 3/3 [00:00<00:00,  5.38it/s]\n"
     ]
    },
    {
     "name": "stdout",
     "output_type": "stream",
     "text": [
      "    44/191...\n"
     ]
    },
    {
     "name": "stderr",
     "output_type": "stream",
     "text": [
      "100%|█████████████████████████████████████████████| 2/2 [00:00<00:00,  3.77it/s]\n"
     ]
    },
    {
     "name": "stdout",
     "output_type": "stream",
     "text": [
      "    45/191...\n"
     ]
    },
    {
     "name": "stderr",
     "output_type": "stream",
     "text": [
      "100%|█████████████████████████████████████████████| 4/4 [00:00<00:00,  4.59it/s]\n"
     ]
    },
    {
     "name": "stdout",
     "output_type": "stream",
     "text": [
      "    46/191...\n"
     ]
    },
    {
     "name": "stderr",
     "output_type": "stream",
     "text": [
      "100%|█████████████████████████████████████████████| 4/4 [00:00<00:00,  4.32it/s]\n"
     ]
    },
    {
     "name": "stdout",
     "output_type": "stream",
     "text": [
      "    47/191...\n"
     ]
    },
    {
     "name": "stderr",
     "output_type": "stream",
     "text": [
      "100%|█████████████████████████████████████████████| 4/4 [00:00<00:00,  4.16it/s]\n"
     ]
    },
    {
     "name": "stdout",
     "output_type": "stream",
     "text": [
      "    48/191...\n"
     ]
    },
    {
     "name": "stderr",
     "output_type": "stream",
     "text": [
      "100%|█████████████████████████████████████████████| 4/4 [00:00<00:00,  4.09it/s]\n"
     ]
    },
    {
     "name": "stdout",
     "output_type": "stream",
     "text": [
      "    49/191...\n"
     ]
    },
    {
     "name": "stderr",
     "output_type": "stream",
     "text": [
      "100%|█████████████████████████████████████████████| 2/2 [00:00<00:00,  3.70it/s]\n"
     ]
    },
    {
     "name": "stdout",
     "output_type": "stream",
     "text": [
      "    50/191...\n"
     ]
    },
    {
     "name": "stderr",
     "output_type": "stream",
     "text": [
      "100%|█████████████████████████████████████████████| 2/2 [00:00<00:00,  4.53it/s]\n"
     ]
    },
    {
     "name": "stdout",
     "output_type": "stream",
     "text": [
      "    51/191...\n"
     ]
    },
    {
     "name": "stderr",
     "output_type": "stream",
     "text": [
      "100%|█████████████████████████████████████████████| 2/2 [00:00<00:00,  5.25it/s]\n"
     ]
    },
    {
     "name": "stdout",
     "output_type": "stream",
     "text": [
      "    52/191...\n"
     ]
    },
    {
     "name": "stderr",
     "output_type": "stream",
     "text": [
      "100%|█████████████████████████████████████████████| 5/5 [00:00<00:00,  5.61it/s]\n"
     ]
    },
    {
     "name": "stdout",
     "output_type": "stream",
     "text": [
      "    53/191...\n"
     ]
    },
    {
     "name": "stderr",
     "output_type": "stream",
     "text": [
      "100%|█████████████████████████████████████████████| 2/2 [00:00<00:00,  4.09it/s]\n"
     ]
    },
    {
     "name": "stdout",
     "output_type": "stream",
     "text": [
      "    54/191...\n"
     ]
    },
    {
     "name": "stderr",
     "output_type": "stream",
     "text": [
      "100%|█████████████████████████████████████████████| 4/4 [00:01<00:00,  3.86it/s]\n"
     ]
    },
    {
     "name": "stdout",
     "output_type": "stream",
     "text": [
      "    55/191...\n"
     ]
    },
    {
     "name": "stderr",
     "output_type": "stream",
     "text": [
      "100%|█████████████████████████████████████████████| 4/4 [00:00<00:00,  4.37it/s]\n"
     ]
    },
    {
     "name": "stdout",
     "output_type": "stream",
     "text": [
      "    56/191...\n"
     ]
    },
    {
     "name": "stderr",
     "output_type": "stream",
     "text": [
      "100%|█████████████████████████████████████████████| 4/4 [00:00<00:00,  4.41it/s]\n"
     ]
    },
    {
     "name": "stdout",
     "output_type": "stream",
     "text": [
      "    57/191...\n"
     ]
    },
    {
     "name": "stderr",
     "output_type": "stream",
     "text": [
      "100%|█████████████████████████████████████████████| 2/2 [00:00<00:00,  3.60it/s]\n"
     ]
    },
    {
     "name": "stdout",
     "output_type": "stream",
     "text": [
      "    58/191...\n"
     ]
    },
    {
     "name": "stderr",
     "output_type": "stream",
     "text": [
      "100%|█████████████████████████████████████████████| 1/1 [00:00<00:00,  3.58it/s]\n"
     ]
    },
    {
     "name": "stdout",
     "output_type": "stream",
     "text": [
      "    59/191...\n"
     ]
    },
    {
     "name": "stderr",
     "output_type": "stream",
     "text": [
      "100%|█████████████████████████████████████████████| 3/3 [00:00<00:00,  3.97it/s]\n"
     ]
    },
    {
     "name": "stdout",
     "output_type": "stream",
     "text": [
      "    60/191...\n"
     ]
    },
    {
     "name": "stderr",
     "output_type": "stream",
     "text": [
      "100%|█████████████████████████████████████████████| 2/2 [00:00<00:00,  4.19it/s]\n"
     ]
    },
    {
     "name": "stdout",
     "output_type": "stream",
     "text": [
      "    61/191...\n"
     ]
    },
    {
     "name": "stderr",
     "output_type": "stream",
     "text": [
      "100%|█████████████████████████████████████████████| 2/2 [00:00<00:00,  4.00it/s]\n"
     ]
    },
    {
     "name": "stdout",
     "output_type": "stream",
     "text": [
      "    62/191...\n"
     ]
    },
    {
     "name": "stderr",
     "output_type": "stream",
     "text": [
      "100%|█████████████████████████████████████████████| 5/5 [00:01<00:00,  3.88it/s]\n"
     ]
    },
    {
     "name": "stdout",
     "output_type": "stream",
     "text": [
      "    63/191...\n"
     ]
    },
    {
     "name": "stderr",
     "output_type": "stream",
     "text": [
      "100%|█████████████████████████████████████████████| 4/4 [00:01<00:00,  3.93it/s]\n"
     ]
    },
    {
     "name": "stdout",
     "output_type": "stream",
     "text": [
      "    64/191...\n"
     ]
    },
    {
     "name": "stderr",
     "output_type": "stream",
     "text": [
      "100%|█████████████████████████████████████████████| 2/2 [00:00<00:00,  3.81it/s]\n"
     ]
    },
    {
     "name": "stdout",
     "output_type": "stream",
     "text": [
      "    65/191...\n"
     ]
    },
    {
     "name": "stderr",
     "output_type": "stream",
     "text": [
      "100%|█████████████████████████████████████████████| 1/1 [00:00<00:00,  5.34it/s]\n"
     ]
    },
    {
     "name": "stdout",
     "output_type": "stream",
     "text": [
      "    66/191...\n"
     ]
    },
    {
     "name": "stderr",
     "output_type": "stream",
     "text": [
      "100%|█████████████████████████████████████████████| 3/3 [00:00<00:00,  3.85it/s]\n"
     ]
    },
    {
     "name": "stdout",
     "output_type": "stream",
     "text": [
      "    67/191...\n"
     ]
    },
    {
     "name": "stderr",
     "output_type": "stream",
     "text": [
      "100%|█████████████████████████████████████████████| 4/4 [00:01<00:00,  3.98it/s]\n"
     ]
    },
    {
     "name": "stdout",
     "output_type": "stream",
     "text": [
      "    68/191...\n"
     ]
    },
    {
     "name": "stderr",
     "output_type": "stream",
     "text": [
      "100%|█████████████████████████████████████████████| 4/4 [00:00<00:00,  4.20it/s]\n"
     ]
    },
    {
     "name": "stdout",
     "output_type": "stream",
     "text": [
      "    69/191...\n"
     ]
    },
    {
     "name": "stderr",
     "output_type": "stream",
     "text": [
      "100%|█████████████████████████████████████████████| 4/4 [00:00<00:00,  4.03it/s]\n"
     ]
    },
    {
     "name": "stdout",
     "output_type": "stream",
     "text": [
      "    70/191...\n"
     ]
    },
    {
     "name": "stderr",
     "output_type": "stream",
     "text": [
      "100%|█████████████████████████████████████████████| 5/5 [00:02<00:00,  2.34it/s]\n"
     ]
    },
    {
     "name": "stdout",
     "output_type": "stream",
     "text": [
      "    71/191...\n"
     ]
    },
    {
     "name": "stderr",
     "output_type": "stream",
     "text": [
      "100%|█████████████████████████████████████████████| 3/3 [00:00<00:00,  3.91it/s]\n"
     ]
    },
    {
     "name": "stdout",
     "output_type": "stream",
     "text": [
      "    72/191...\n"
     ]
    },
    {
     "name": "stderr",
     "output_type": "stream",
     "text": [
      "100%|█████████████████████████████████████████████| 4/4 [00:00<00:00,  5.06it/s]\n"
     ]
    },
    {
     "name": "stdout",
     "output_type": "stream",
     "text": [
      "    73/191...\n"
     ]
    },
    {
     "name": "stderr",
     "output_type": "stream",
     "text": [
      "100%|█████████████████████████████████████████████| 4/4 [00:00<00:00,  5.30it/s]\n"
     ]
    },
    {
     "name": "stdout",
     "output_type": "stream",
     "text": [
      "    74/191...\n"
     ]
    },
    {
     "name": "stderr",
     "output_type": "stream",
     "text": [
      "100%|█████████████████████████████████████████████| 4/4 [00:00<00:00,  4.14it/s]\n"
     ]
    },
    {
     "name": "stdout",
     "output_type": "stream",
     "text": [
      "    75/191...\n"
     ]
    },
    {
     "name": "stderr",
     "output_type": "stream",
     "text": [
      "100%|█████████████████████████████████████████████| 3/3 [00:00<00:00,  4.27it/s]\n"
     ]
    },
    {
     "name": "stdout",
     "output_type": "stream",
     "text": [
      "    76/191...\n"
     ]
    },
    {
     "name": "stderr",
     "output_type": "stream",
     "text": [
      "100%|█████████████████████████████████████████████| 4/4 [00:00<00:00,  4.38it/s]\n"
     ]
    },
    {
     "name": "stdout",
     "output_type": "stream",
     "text": [
      "    77/191...\n"
     ]
    },
    {
     "name": "stderr",
     "output_type": "stream",
     "text": [
      "100%|█████████████████████████████████████████████| 4/4 [00:00<00:00,  4.44it/s]\n"
     ]
    },
    {
     "name": "stdout",
     "output_type": "stream",
     "text": [
      "    78/191...\n"
     ]
    },
    {
     "name": "stderr",
     "output_type": "stream",
     "text": [
      "100%|█████████████████████████████████████████████| 4/4 [00:00<00:00,  4.43it/s]\n"
     ]
    },
    {
     "name": "stdout",
     "output_type": "stream",
     "text": [
      "    79/191...\n"
     ]
    },
    {
     "name": "stderr",
     "output_type": "stream",
     "text": [
      "100%|█████████████████████████████████████████████| 1/1 [00:00<00:00,  6.19it/s]\n"
     ]
    },
    {
     "name": "stdout",
     "output_type": "stream",
     "text": [
      "    80/191...\n"
     ]
    },
    {
     "name": "stderr",
     "output_type": "stream",
     "text": [
      "100%|█████████████████████████████████████████████| 2/2 [00:00<00:00,  4.29it/s]\n"
     ]
    },
    {
     "name": "stdout",
     "output_type": "stream",
     "text": [
      "    81/191...\n"
     ]
    },
    {
     "name": "stderr",
     "output_type": "stream",
     "text": [
      "100%|█████████████████████████████████████████████| 4/4 [00:00<00:00, 11.40it/s]\n"
     ]
    },
    {
     "name": "stdout",
     "output_type": "stream",
     "text": [
      "    82/191...\n"
     ]
    },
    {
     "name": "stderr",
     "output_type": "stream",
     "text": [
      "100%|█████████████████████████████████████████████| 4/4 [00:00<00:00,  5.61it/s]\n"
     ]
    },
    {
     "name": "stdout",
     "output_type": "stream",
     "text": [
      "    83/191...\n"
     ]
    },
    {
     "name": "stderr",
     "output_type": "stream",
     "text": [
      "100%|█████████████████████████████████████████████| 4/4 [00:00<00:00,  4.74it/s]\n"
     ]
    },
    {
     "name": "stdout",
     "output_type": "stream",
     "text": [
      "    84/191...\n"
     ]
    },
    {
     "name": "stderr",
     "output_type": "stream",
     "text": [
      "100%|█████████████████████████████████████████████| 4/4 [00:00<00:00,  7.34it/s]\n"
     ]
    },
    {
     "name": "stdout",
     "output_type": "stream",
     "text": [
      "    85/191...\n"
     ]
    },
    {
     "name": "stderr",
     "output_type": "stream",
     "text": [
      "100%|█████████████████████████████████████████████| 1/1 [00:00<00:00,  5.21it/s]\n"
     ]
    },
    {
     "name": "stdout",
     "output_type": "stream",
     "text": [
      "    86/191...\n"
     ]
    },
    {
     "name": "stderr",
     "output_type": "stream",
     "text": [
      "100%|█████████████████████████████████████████████| 3/3 [00:00<00:00,  7.74it/s]\n"
     ]
    },
    {
     "name": "stdout",
     "output_type": "stream",
     "text": [
      "    87/191...\n"
     ]
    },
    {
     "name": "stderr",
     "output_type": "stream",
     "text": [
      "100%|█████████████████████████████████████████████| 4/4 [00:00<00:00,  6.24it/s]\n"
     ]
    },
    {
     "name": "stdout",
     "output_type": "stream",
     "text": [
      "    88/191...\n"
     ]
    },
    {
     "name": "stderr",
     "output_type": "stream",
     "text": [
      "100%|█████████████████████████████████████████████| 4/4 [00:00<00:00,  9.38it/s]\n"
     ]
    },
    {
     "name": "stdout",
     "output_type": "stream",
     "text": [
      "    89/191...\n"
     ]
    },
    {
     "name": "stderr",
     "output_type": "stream",
     "text": [
      "100%|█████████████████████████████████████████████| 4/4 [00:00<00:00,  5.09it/s]\n"
     ]
    },
    {
     "name": "stdout",
     "output_type": "stream",
     "text": [
      "    90/191...\n"
     ]
    },
    {
     "name": "stderr",
     "output_type": "stream",
     "text": [
      "100%|█████████████████████████████████████████████| 2/2 [00:00<00:00,  5.51it/s]\n"
     ]
    },
    {
     "name": "stdout",
     "output_type": "stream",
     "text": [
      "    91/191...\n"
     ]
    },
    {
     "name": "stderr",
     "output_type": "stream",
     "text": [
      "100%|█████████████████████████████████████████████| 4/4 [00:00<00:00,  6.19it/s]\n"
     ]
    },
    {
     "name": "stdout",
     "output_type": "stream",
     "text": [
      "    92/191...\n"
     ]
    },
    {
     "name": "stderr",
     "output_type": "stream",
     "text": [
      "100%|█████████████████████████████████████████████| 3/3 [00:00<00:00,  5.57it/s]\n"
     ]
    },
    {
     "name": "stdout",
     "output_type": "stream",
     "text": [
      "    93/191...\n"
     ]
    },
    {
     "name": "stderr",
     "output_type": "stream",
     "text": [
      "100%|█████████████████████████████████████████████| 4/4 [00:00<00:00,  6.12it/s]\n"
     ]
    },
    {
     "name": "stdout",
     "output_type": "stream",
     "text": [
      "    94/191...\n"
     ]
    },
    {
     "name": "stderr",
     "output_type": "stream",
     "text": [
      "100%|█████████████████████████████████████████████| 4/4 [00:00<00:00, 11.04it/s]\n"
     ]
    },
    {
     "name": "stdout",
     "output_type": "stream",
     "text": [
      "    95/191...\n"
     ]
    },
    {
     "name": "stderr",
     "output_type": "stream",
     "text": [
      "100%|█████████████████████████████████████████████| 4/4 [00:00<00:00,  5.16it/s]\n"
     ]
    },
    {
     "name": "stdout",
     "output_type": "stream",
     "text": [
      "    96/191...\n"
     ]
    },
    {
     "name": "stderr",
     "output_type": "stream",
     "text": [
      "100%|█████████████████████████████████████████████| 4/4 [00:00<00:00,  7.82it/s]\n"
     ]
    },
    {
     "name": "stdout",
     "output_type": "stream",
     "text": [
      "    97/191...\n"
     ]
    },
    {
     "name": "stderr",
     "output_type": "stream",
     "text": [
      "100%|█████████████████████████████████████████████| 4/4 [00:00<00:00, 11.84it/s]\n"
     ]
    },
    {
     "name": "stdout",
     "output_type": "stream",
     "text": [
      "    98/191...\n"
     ]
    },
    {
     "name": "stderr",
     "output_type": "stream",
     "text": [
      "100%|█████████████████████████████████████████████| 4/4 [00:00<00:00,  8.07it/s]\n"
     ]
    },
    {
     "name": "stdout",
     "output_type": "stream",
     "text": [
      "    99/191...\n"
     ]
    },
    {
     "name": "stderr",
     "output_type": "stream",
     "text": [
      "100%|█████████████████████████████████████████████| 4/4 [00:00<00:00,  5.23it/s]\n"
     ]
    },
    {
     "name": "stdout",
     "output_type": "stream",
     "text": [
      "    100/191...\n"
     ]
    },
    {
     "name": "stderr",
     "output_type": "stream",
     "text": [
      "100%|█████████████████████████████████████████████| 3/3 [00:00<00:00,  6.15it/s]\n"
     ]
    },
    {
     "name": "stdout",
     "output_type": "stream",
     "text": [
      "    101/191...\n"
     ]
    },
    {
     "name": "stderr",
     "output_type": "stream",
     "text": [
      "100%|█████████████████████████████████████████████| 4/4 [00:00<00:00,  6.07it/s]\n"
     ]
    },
    {
     "name": "stdout",
     "output_type": "stream",
     "text": [
      "    102/191...\n"
     ]
    },
    {
     "name": "stderr",
     "output_type": "stream",
     "text": [
      "100%|█████████████████████████████████████████████| 4/4 [00:00<00:00,  5.42it/s]\n"
     ]
    },
    {
     "name": "stdout",
     "output_type": "stream",
     "text": [
      "    103/191...\n"
     ]
    },
    {
     "name": "stderr",
     "output_type": "stream",
     "text": [
      "100%|█████████████████████████████████████████████| 4/4 [00:00<00:00,  5.14it/s]\n"
     ]
    },
    {
     "name": "stdout",
     "output_type": "stream",
     "text": [
      "    104/191...\n"
     ]
    },
    {
     "name": "stderr",
     "output_type": "stream",
     "text": [
      "100%|█████████████████████████████████████████████| 4/4 [00:00<00:00, 10.80it/s]\n"
     ]
    },
    {
     "name": "stdout",
     "output_type": "stream",
     "text": [
      "    105/191...\n"
     ]
    },
    {
     "name": "stderr",
     "output_type": "stream",
     "text": [
      "100%|█████████████████████████████████████████████| 4/4 [00:00<00:00,  5.58it/s]\n"
     ]
    },
    {
     "name": "stdout",
     "output_type": "stream",
     "text": [
      "    106/191...\n"
     ]
    },
    {
     "name": "stderr",
     "output_type": "stream",
     "text": [
      "100%|█████████████████████████████████████████████| 4/4 [00:00<00:00,  5.01it/s]\n"
     ]
    },
    {
     "name": "stdout",
     "output_type": "stream",
     "text": [
      "    107/191...\n"
     ]
    },
    {
     "name": "stderr",
     "output_type": "stream",
     "text": [
      "100%|█████████████████████████████████████████████| 4/4 [00:00<00:00,  8.27it/s]\n"
     ]
    },
    {
     "name": "stdout",
     "output_type": "stream",
     "text": [
      "    108/191...\n"
     ]
    },
    {
     "name": "stderr",
     "output_type": "stream",
     "text": [
      "100%|█████████████████████████████████████████████| 2/2 [00:00<00:00,  5.21it/s]\n"
     ]
    },
    {
     "name": "stdout",
     "output_type": "stream",
     "text": [
      "    109/191...\n"
     ]
    },
    {
     "name": "stderr",
     "output_type": "stream",
     "text": [
      "100%|█████████████████████████████████████████████| 4/4 [00:00<00:00,  7.53it/s]\n"
     ]
    },
    {
     "name": "stdout",
     "output_type": "stream",
     "text": [
      "    110/191...\n"
     ]
    },
    {
     "name": "stderr",
     "output_type": "stream",
     "text": [
      "100%|█████████████████████████████████████████████| 4/4 [00:00<00:00,  9.00it/s]\n"
     ]
    },
    {
     "name": "stdout",
     "output_type": "stream",
     "text": [
      "    111/191...\n"
     ]
    },
    {
     "name": "stderr",
     "output_type": "stream",
     "text": [
      "100%|█████████████████████████████████████████████| 4/4 [00:00<00:00,  6.37it/s]\n"
     ]
    },
    {
     "name": "stdout",
     "output_type": "stream",
     "text": [
      "    112/191...\n"
     ]
    },
    {
     "name": "stderr",
     "output_type": "stream",
     "text": [
      "100%|█████████████████████████████████████████████| 1/1 [00:00<00:00,  7.45it/s]\n"
     ]
    },
    {
     "name": "stdout",
     "output_type": "stream",
     "text": [
      "    113/191...\n"
     ]
    },
    {
     "name": "stderr",
     "output_type": "stream",
     "text": [
      "100%|█████████████████████████████████████████████| 4/4 [00:00<00:00,  7.69it/s]\n"
     ]
    },
    {
     "name": "stdout",
     "output_type": "stream",
     "text": [
      "    114/191...\n"
     ]
    },
    {
     "name": "stderr",
     "output_type": "stream",
     "text": [
      "100%|█████████████████████████████████████████████| 2/2 [00:00<00:00,  4.43it/s]\n"
     ]
    },
    {
     "name": "stdout",
     "output_type": "stream",
     "text": [
      "    115/191...\n"
     ]
    },
    {
     "name": "stderr",
     "output_type": "stream",
     "text": [
      "100%|█████████████████████████████████████████████| 4/4 [00:00<00:00,  7.56it/s]\n"
     ]
    },
    {
     "name": "stdout",
     "output_type": "stream",
     "text": [
      "    116/191...\n"
     ]
    },
    {
     "name": "stderr",
     "output_type": "stream",
     "text": [
      "100%|█████████████████████████████████████████████| 1/1 [00:00<00:00,  7.17it/s]\n"
     ]
    },
    {
     "name": "stdout",
     "output_type": "stream",
     "text": [
      "    117/191...\n"
     ]
    },
    {
     "name": "stderr",
     "output_type": "stream",
     "text": [
      "100%|█████████████████████████████████████████████| 4/4 [00:00<00:00,  7.32it/s]\n"
     ]
    },
    {
     "name": "stdout",
     "output_type": "stream",
     "text": [
      "    118/191...\n"
     ]
    },
    {
     "name": "stderr",
     "output_type": "stream",
     "text": [
      "100%|█████████████████████████████████████████████| 4/4 [00:00<00:00,  5.32it/s]\n"
     ]
    },
    {
     "name": "stdout",
     "output_type": "stream",
     "text": [
      "    119/191...\n"
     ]
    },
    {
     "name": "stderr",
     "output_type": "stream",
     "text": [
      "100%|█████████████████████████████████████████████| 4/4 [00:00<00:00,  9.09it/s]\n"
     ]
    },
    {
     "name": "stdout",
     "output_type": "stream",
     "text": [
      "    120/191...\n"
     ]
    },
    {
     "name": "stderr",
     "output_type": "stream",
     "text": [
      "100%|█████████████████████████████████████████████| 4/4 [00:00<00:00,  5.19it/s]\n"
     ]
    },
    {
     "name": "stdout",
     "output_type": "stream",
     "text": [
      "    121/191...\n"
     ]
    },
    {
     "name": "stderr",
     "output_type": "stream",
     "text": [
      "100%|█████████████████████████████████████████████| 3/3 [00:00<00:00,  6.05it/s]\n"
     ]
    },
    {
     "name": "stdout",
     "output_type": "stream",
     "text": [
      "    122/191...\n"
     ]
    },
    {
     "name": "stderr",
     "output_type": "stream",
     "text": [
      "100%|█████████████████████████████████████████████| 4/4 [00:00<00:00, 11.65it/s]\n"
     ]
    },
    {
     "name": "stdout",
     "output_type": "stream",
     "text": [
      "    123/191...\n"
     ]
    },
    {
     "name": "stderr",
     "output_type": "stream",
     "text": [
      "100%|█████████████████████████████████████████████| 2/2 [00:00<00:00,  5.93it/s]\n"
     ]
    },
    {
     "name": "stdout",
     "output_type": "stream",
     "text": [
      "    124/191...\n"
     ]
    },
    {
     "name": "stderr",
     "output_type": "stream",
     "text": [
      "100%|█████████████████████████████████████████████| 4/4 [00:00<00:00,  6.52it/s]\n"
     ]
    },
    {
     "name": "stdout",
     "output_type": "stream",
     "text": [
      "    125/191...\n"
     ]
    },
    {
     "name": "stderr",
     "output_type": "stream",
     "text": [
      "100%|█████████████████████████████████████████████| 4/4 [00:00<00:00,  6.36it/s]\n"
     ]
    },
    {
     "name": "stdout",
     "output_type": "stream",
     "text": [
      "    126/191...\n"
     ]
    },
    {
     "name": "stderr",
     "output_type": "stream",
     "text": [
      "100%|█████████████████████████████████████████████| 4/4 [00:00<00:00,  5.80it/s]\n"
     ]
    },
    {
     "name": "stdout",
     "output_type": "stream",
     "text": [
      "    127/191...\n"
     ]
    },
    {
     "name": "stderr",
     "output_type": "stream",
     "text": [
      "100%|█████████████████████████████████████████████| 2/2 [00:00<00:00, 11.02it/s]\n"
     ]
    },
    {
     "name": "stdout",
     "output_type": "stream",
     "text": [
      "    128/191...\n"
     ]
    },
    {
     "name": "stderr",
     "output_type": "stream",
     "text": [
      "100%|█████████████████████████████████████████████| 4/4 [00:00<00:00,  5.43it/s]\n"
     ]
    },
    {
     "name": "stdout",
     "output_type": "stream",
     "text": [
      "    129/191...\n"
     ]
    },
    {
     "name": "stderr",
     "output_type": "stream",
     "text": [
      "100%|█████████████████████████████████████████████| 3/3 [00:00<00:00,  5.04it/s]\n"
     ]
    },
    {
     "name": "stdout",
     "output_type": "stream",
     "text": [
      "    130/191...\n"
     ]
    },
    {
     "name": "stderr",
     "output_type": "stream",
     "text": [
      "100%|█████████████████████████████████████████████| 4/4 [00:00<00:00,  7.26it/s]\n"
     ]
    },
    {
     "name": "stdout",
     "output_type": "stream",
     "text": [
      "    131/191...\n"
     ]
    },
    {
     "name": "stderr",
     "output_type": "stream",
     "text": [
      "100%|█████████████████████████████████████████████| 2/2 [00:00<00:00,  6.03it/s]\n"
     ]
    },
    {
     "name": "stdout",
     "output_type": "stream",
     "text": [
      "    132/191...\n"
     ]
    },
    {
     "name": "stderr",
     "output_type": "stream",
     "text": [
      "100%|█████████████████████████████████████████████| 4/4 [00:00<00:00,  5.57it/s]\n"
     ]
    },
    {
     "name": "stdout",
     "output_type": "stream",
     "text": [
      "    133/191...\n"
     ]
    },
    {
     "name": "stderr",
     "output_type": "stream",
     "text": [
      "100%|█████████████████████████████████████████████| 4/4 [00:00<00:00,  8.61it/s]\n"
     ]
    },
    {
     "name": "stdout",
     "output_type": "stream",
     "text": [
      "    134/191...\n"
     ]
    },
    {
     "name": "stderr",
     "output_type": "stream",
     "text": [
      "100%|█████████████████████████████████████████████| 4/4 [00:00<00:00,  6.19it/s]\n"
     ]
    },
    {
     "name": "stdout",
     "output_type": "stream",
     "text": [
      "    135/191...\n"
     ]
    },
    {
     "name": "stderr",
     "output_type": "stream",
     "text": [
      "100%|█████████████████████████████████████████████| 2/2 [00:00<00:00,  5.37it/s]\n"
     ]
    },
    {
     "name": "stdout",
     "output_type": "stream",
     "text": [
      "    136/191...\n"
     ]
    },
    {
     "name": "stderr",
     "output_type": "stream",
     "text": [
      "100%|█████████████████████████████████████████████| 4/4 [00:00<00:00,  5.40it/s]\n"
     ]
    },
    {
     "name": "stdout",
     "output_type": "stream",
     "text": [
      "    137/191...\n"
     ]
    },
    {
     "name": "stderr",
     "output_type": "stream",
     "text": [
      "100%|█████████████████████████████████████████████| 2/2 [00:00<00:00,  4.91it/s]\n"
     ]
    },
    {
     "name": "stdout",
     "output_type": "stream",
     "text": [
      "    138/191...\n"
     ]
    },
    {
     "name": "stderr",
     "output_type": "stream",
     "text": [
      "100%|█████████████████████████████████████████████| 4/4 [00:00<00:00,  5.36it/s]\n"
     ]
    },
    {
     "name": "stdout",
     "output_type": "stream",
     "text": [
      "    139/191...\n"
     ]
    },
    {
     "name": "stderr",
     "output_type": "stream",
     "text": [
      "100%|█████████████████████████████████████████████| 4/4 [00:00<00:00,  8.29it/s]\n"
     ]
    },
    {
     "name": "stdout",
     "output_type": "stream",
     "text": [
      "    140/191...\n"
     ]
    },
    {
     "name": "stderr",
     "output_type": "stream",
     "text": [
      "100%|█████████████████████████████████████████████| 4/4 [00:00<00:00, 10.32it/s]\n"
     ]
    },
    {
     "name": "stdout",
     "output_type": "stream",
     "text": [
      "    141/191...\n"
     ]
    },
    {
     "name": "stderr",
     "output_type": "stream",
     "text": [
      "100%|█████████████████████████████████████████████| 4/4 [00:00<00:00,  5.76it/s]\n"
     ]
    },
    {
     "name": "stdout",
     "output_type": "stream",
     "text": [
      "    142/191...\n"
     ]
    },
    {
     "name": "stderr",
     "output_type": "stream",
     "text": [
      "100%|█████████████████████████████████████████████| 3/3 [00:00<00:00,  5.23it/s]\n"
     ]
    },
    {
     "name": "stdout",
     "output_type": "stream",
     "text": [
      "    143/191...\n"
     ]
    },
    {
     "name": "stderr",
     "output_type": "stream",
     "text": [
      "100%|█████████████████████████████████████████████| 4/4 [00:00<00:00,  5.44it/s]\n"
     ]
    },
    {
     "name": "stdout",
     "output_type": "stream",
     "text": [
      "    144/191...\n"
     ]
    },
    {
     "name": "stderr",
     "output_type": "stream",
     "text": [
      "100%|█████████████████████████████████████████████| 4/4 [00:00<00:00,  5.61it/s]\n"
     ]
    },
    {
     "name": "stdout",
     "output_type": "stream",
     "text": [
      "    145/191...\n"
     ]
    },
    {
     "name": "stderr",
     "output_type": "stream",
     "text": [
      "100%|█████████████████████████████████████████████| 4/4 [00:00<00:00,  6.37it/s]\n"
     ]
    },
    {
     "name": "stdout",
     "output_type": "stream",
     "text": [
      "    146/191...\n"
     ]
    },
    {
     "name": "stderr",
     "output_type": "stream",
     "text": [
      "100%|█████████████████████████████████████████████| 4/4 [00:00<00:00,  5.19it/s]\n"
     ]
    },
    {
     "name": "stdout",
     "output_type": "stream",
     "text": [
      "    147/191...\n"
     ]
    },
    {
     "name": "stderr",
     "output_type": "stream",
     "text": [
      "100%|█████████████████████████████████████████████| 4/4 [00:00<00:00,  5.96it/s]\n"
     ]
    },
    {
     "name": "stdout",
     "output_type": "stream",
     "text": [
      "    148/191...\n"
     ]
    },
    {
     "name": "stderr",
     "output_type": "stream",
     "text": [
      "100%|█████████████████████████████████████████████| 4/4 [00:00<00:00,  8.57it/s]\n"
     ]
    },
    {
     "name": "stdout",
     "output_type": "stream",
     "text": [
      "    149/191...\n"
     ]
    },
    {
     "name": "stderr",
     "output_type": "stream",
     "text": [
      "100%|█████████████████████████████████████████████| 4/4 [00:00<00:00,  7.70it/s]\n"
     ]
    },
    {
     "name": "stdout",
     "output_type": "stream",
     "text": [
      "    150/191...\n"
     ]
    },
    {
     "name": "stderr",
     "output_type": "stream",
     "text": [
      "100%|█████████████████████████████████████████████| 4/4 [00:00<00:00,  5.46it/s]\n"
     ]
    },
    {
     "name": "stdout",
     "output_type": "stream",
     "text": [
      "    151/191...\n"
     ]
    },
    {
     "name": "stderr",
     "output_type": "stream",
     "text": [
      "100%|█████████████████████████████████████████████| 4/4 [00:00<00:00,  6.43it/s]\n"
     ]
    },
    {
     "name": "stdout",
     "output_type": "stream",
     "text": [
      "    152/191...\n"
     ]
    },
    {
     "name": "stderr",
     "output_type": "stream",
     "text": [
      "100%|█████████████████████████████████████████████| 3/3 [00:00<00:00,  5.15it/s]\n"
     ]
    },
    {
     "name": "stdout",
     "output_type": "stream",
     "text": [
      "    153/191...\n"
     ]
    },
    {
     "name": "stderr",
     "output_type": "stream",
     "text": [
      "100%|█████████████████████████████████████████████| 4/4 [00:00<00:00, 11.37it/s]\n"
     ]
    },
    {
     "name": "stdout",
     "output_type": "stream",
     "text": [
      "    154/191...\n"
     ]
    },
    {
     "name": "stderr",
     "output_type": "stream",
     "text": [
      "100%|█████████████████████████████████████████████| 4/4 [00:00<00:00,  5.23it/s]\n"
     ]
    },
    {
     "name": "stdout",
     "output_type": "stream",
     "text": [
      "    155/191...\n"
     ]
    },
    {
     "name": "stderr",
     "output_type": "stream",
     "text": [
      "100%|█████████████████████████████████████████████| 2/2 [00:00<00:00,  5.38it/s]\n"
     ]
    },
    {
     "name": "stdout",
     "output_type": "stream",
     "text": [
      "    156/191...\n"
     ]
    },
    {
     "name": "stderr",
     "output_type": "stream",
     "text": [
      "100%|█████████████████████████████████████████████| 3/3 [00:00<00:00,  4.92it/s]\n"
     ]
    },
    {
     "name": "stdout",
     "output_type": "stream",
     "text": [
      "    157/191...\n"
     ]
    },
    {
     "name": "stderr",
     "output_type": "stream",
     "text": [
      "100%|█████████████████████████████████████████████| 2/2 [00:00<00:00,  5.68it/s]\n"
     ]
    },
    {
     "name": "stdout",
     "output_type": "stream",
     "text": [
      "    158/191...\n"
     ]
    },
    {
     "name": "stderr",
     "output_type": "stream",
     "text": [
      "100%|█████████████████████████████████████████████| 4/4 [00:00<00:00,  9.66it/s]\n"
     ]
    },
    {
     "name": "stdout",
     "output_type": "stream",
     "text": [
      "    159/191...\n"
     ]
    },
    {
     "name": "stderr",
     "output_type": "stream",
     "text": [
      "100%|█████████████████████████████████████████████| 4/4 [00:00<00:00,  8.19it/s]\n"
     ]
    },
    {
     "name": "stdout",
     "output_type": "stream",
     "text": [
      "    160/191...\n"
     ]
    },
    {
     "name": "stderr",
     "output_type": "stream",
     "text": [
      "100%|█████████████████████████████████████████████| 4/4 [00:00<00:00,  4.95it/s]\n"
     ]
    },
    {
     "name": "stdout",
     "output_type": "stream",
     "text": [
      "    161/191...\n"
     ]
    },
    {
     "name": "stderr",
     "output_type": "stream",
     "text": [
      "100%|█████████████████████████████████████████████| 4/4 [00:00<00:00,  5.62it/s]\n"
     ]
    },
    {
     "name": "stdout",
     "output_type": "stream",
     "text": [
      "    162/191...\n"
     ]
    },
    {
     "name": "stderr",
     "output_type": "stream",
     "text": [
      "100%|█████████████████████████████████████████████| 4/4 [00:00<00:00,  5.83it/s]\n"
     ]
    },
    {
     "name": "stdout",
     "output_type": "stream",
     "text": [
      "    163/191...\n"
     ]
    },
    {
     "name": "stderr",
     "output_type": "stream",
     "text": [
      "100%|█████████████████████████████████████████████| 4/4 [00:00<00:00,  5.63it/s]\n"
     ]
    },
    {
     "name": "stdout",
     "output_type": "stream",
     "text": [
      "    164/191...\n"
     ]
    },
    {
     "name": "stderr",
     "output_type": "stream",
     "text": [
      "100%|█████████████████████████████████████████████| 4/4 [00:00<00:00,  6.74it/s]\n"
     ]
    },
    {
     "name": "stdout",
     "output_type": "stream",
     "text": [
      "    165/191...\n"
     ]
    },
    {
     "name": "stderr",
     "output_type": "stream",
     "text": [
      "100%|█████████████████████████████████████████████| 4/4 [00:00<00:00,  5.44it/s]\n"
     ]
    },
    {
     "name": "stdout",
     "output_type": "stream",
     "text": [
      "    166/191...\n"
     ]
    },
    {
     "name": "stderr",
     "output_type": "stream",
     "text": [
      "100%|█████████████████████████████████████████████| 3/3 [00:00<00:00,  8.32it/s]\n"
     ]
    },
    {
     "name": "stdout",
     "output_type": "stream",
     "text": [
      "    167/191...\n"
     ]
    },
    {
     "name": "stderr",
     "output_type": "stream",
     "text": [
      "100%|█████████████████████████████████████████████| 2/2 [00:00<00:00,  4.78it/s]\n"
     ]
    },
    {
     "name": "stdout",
     "output_type": "stream",
     "text": [
      "    168/191...\n"
     ]
    },
    {
     "name": "stderr",
     "output_type": "stream",
     "text": [
      "100%|█████████████████████████████████████████████| 1/1 [00:00<00:00,  5.02it/s]\n"
     ]
    },
    {
     "name": "stdout",
     "output_type": "stream",
     "text": [
      "    169/191...\n"
     ]
    },
    {
     "name": "stderr",
     "output_type": "stream",
     "text": [
      "100%|█████████████████████████████████████████████| 4/4 [00:00<00:00,  5.98it/s]\n"
     ]
    },
    {
     "name": "stdout",
     "output_type": "stream",
     "text": [
      "    170/191...\n"
     ]
    },
    {
     "name": "stderr",
     "output_type": "stream",
     "text": [
      "100%|█████████████████████████████████████████████| 1/1 [00:00<00:00,  8.05it/s]\n"
     ]
    },
    {
     "name": "stdout",
     "output_type": "stream",
     "text": [
      "    171/191...\n"
     ]
    },
    {
     "name": "stderr",
     "output_type": "stream",
     "text": [
      "100%|█████████████████████████████████████████████| 4/4 [00:00<00:00,  5.16it/s]\n"
     ]
    },
    {
     "name": "stdout",
     "output_type": "stream",
     "text": [
      "    172/191...\n"
     ]
    },
    {
     "name": "stderr",
     "output_type": "stream",
     "text": [
      "100%|█████████████████████████████████████████████| 2/2 [00:00<00:00,  5.36it/s]\n"
     ]
    },
    {
     "name": "stdout",
     "output_type": "stream",
     "text": [
      "    173/191...\n"
     ]
    },
    {
     "name": "stderr",
     "output_type": "stream",
     "text": [
      "100%|█████████████████████████████████████████████| 4/4 [00:00<00:00,  5.34it/s]\n"
     ]
    },
    {
     "name": "stdout",
     "output_type": "stream",
     "text": [
      "    174/191...\n"
     ]
    },
    {
     "name": "stderr",
     "output_type": "stream",
     "text": [
      "100%|█████████████████████████████████████████████| 2/2 [00:00<00:00,  5.28it/s]\n"
     ]
    },
    {
     "name": "stdout",
     "output_type": "stream",
     "text": [
      "    175/191...\n"
     ]
    },
    {
     "name": "stderr",
     "output_type": "stream",
     "text": [
      "100%|█████████████████████████████████████████████| 2/2 [00:00<00:00,  5.61it/s]\n"
     ]
    },
    {
     "name": "stdout",
     "output_type": "stream",
     "text": [
      "    176/191...\n"
     ]
    },
    {
     "name": "stderr",
     "output_type": "stream",
     "text": [
      "100%|█████████████████████████████████████████████| 4/4 [00:00<00:00,  6.14it/s]\n"
     ]
    },
    {
     "name": "stdout",
     "output_type": "stream",
     "text": [
      "    177/191...\n"
     ]
    },
    {
     "name": "stderr",
     "output_type": "stream",
     "text": [
      "100%|█████████████████████████████████████████████| 4/4 [00:00<00:00,  5.88it/s]\n"
     ]
    },
    {
     "name": "stdout",
     "output_type": "stream",
     "text": [
      "    178/191...\n"
     ]
    },
    {
     "name": "stderr",
     "output_type": "stream",
     "text": [
      "100%|█████████████████████████████████████████████| 4/4 [00:00<00:00,  6.60it/s]\n"
     ]
    },
    {
     "name": "stdout",
     "output_type": "stream",
     "text": [
      "    179/191...\n"
     ]
    },
    {
     "name": "stderr",
     "output_type": "stream",
     "text": [
      "100%|█████████████████████████████████████████████| 4/4 [00:00<00:00,  6.81it/s]\n"
     ]
    },
    {
     "name": "stdout",
     "output_type": "stream",
     "text": [
      "    180/191...\n"
     ]
    },
    {
     "name": "stderr",
     "output_type": "stream",
     "text": [
      "100%|█████████████████████████████████████████████| 1/1 [00:00<00:00,  7.30it/s]\n"
     ]
    },
    {
     "name": "stdout",
     "output_type": "stream",
     "text": [
      "    181/191...\n"
     ]
    },
    {
     "name": "stderr",
     "output_type": "stream",
     "text": [
      "100%|█████████████████████████████████████████████| 4/4 [00:00<00:00,  6.25it/s]\n"
     ]
    },
    {
     "name": "stdout",
     "output_type": "stream",
     "text": [
      "    182/191...\n"
     ]
    },
    {
     "name": "stderr",
     "output_type": "stream",
     "text": [
      "100%|█████████████████████████████████████████████| 4/4 [00:00<00:00,  6.81it/s]\n"
     ]
    },
    {
     "name": "stdout",
     "output_type": "stream",
     "text": [
      "    183/191...\n"
     ]
    },
    {
     "name": "stderr",
     "output_type": "stream",
     "text": [
      "100%|█████████████████████████████████████████████| 4/4 [00:00<00:00,  4.76it/s]\n"
     ]
    },
    {
     "name": "stdout",
     "output_type": "stream",
     "text": [
      "    184/191...\n"
     ]
    },
    {
     "name": "stderr",
     "output_type": "stream",
     "text": [
      "100%|█████████████████████████████████████████████| 4/4 [00:00<00:00,  8.53it/s]\n"
     ]
    },
    {
     "name": "stdout",
     "output_type": "stream",
     "text": [
      "    185/191...\n"
     ]
    },
    {
     "name": "stderr",
     "output_type": "stream",
     "text": [
      "100%|█████████████████████████████████████████████| 4/4 [00:00<00:00,  5.88it/s]\n"
     ]
    },
    {
     "name": "stdout",
     "output_type": "stream",
     "text": [
      "    186/191...\n"
     ]
    },
    {
     "name": "stderr",
     "output_type": "stream",
     "text": [
      "100%|█████████████████████████████████████████████| 2/2 [00:00<00:00,  5.66it/s]\n"
     ]
    },
    {
     "name": "stdout",
     "output_type": "stream",
     "text": [
      "    187/191...\n"
     ]
    },
    {
     "name": "stderr",
     "output_type": "stream",
     "text": [
      "100%|█████████████████████████████████████████████| 4/4 [00:00<00:00,  5.23it/s]\n"
     ]
    },
    {
     "name": "stdout",
     "output_type": "stream",
     "text": [
      "    188/191...\n"
     ]
    },
    {
     "name": "stderr",
     "output_type": "stream",
     "text": [
      "100%|█████████████████████████████████████████████| 2/2 [00:00<00:00,  5.33it/s]\n"
     ]
    },
    {
     "name": "stdout",
     "output_type": "stream",
     "text": [
      "    189/191...\n"
     ]
    },
    {
     "name": "stderr",
     "output_type": "stream",
     "text": [
      "100%|█████████████████████████████████████████████| 4/4 [00:00<00:00,  5.25it/s]\n"
     ]
    },
    {
     "name": "stdout",
     "output_type": "stream",
     "text": [
      "    190/191...\n"
     ]
    },
    {
     "name": "stderr",
     "output_type": "stream",
     "text": [
      "100%|█████████████████████████████████████████████| 4/4 [00:00<00:00,  5.84it/s]\n"
     ]
    },
    {
     "name": "stdout",
     "output_type": "stream",
     "text": [
      "    191/191...\n"
     ]
    },
    {
     "name": "stderr",
     "output_type": "stream",
     "text": [
      "100%|█████████████████████████████████████████████| 1/1 [00:00<00:00,  5.66it/s]\n"
     ]
    },
    {
     "name": "stdout",
     "output_type": "stream",
     "text": [
      "Done.\n"
     ]
    }
   ],
   "source": [
    "run_model(model_folder, test_folder, output_folder, allow_failures = True, verbose = 2)"
   ]
  },
  {
   "cell_type": "code",
   "execution_count": 86,
   "id": "247a6478",
   "metadata": {},
   "outputs": [],
   "source": [
    "from evaluate_model import *\n",
    "\n"
   ]
  },
  {
   "cell_type": "code",
   "execution_count": 87,
   "id": "b770afd6",
   "metadata": {
    "scrolled": false
   },
   "outputs": [
    {
     "name": "stdout",
     "output_type": "stream",
     "text": [
      "#Murmur scores\n",
      "AUROC,AUPRC,F-measure,Accuracy,Weighted Accuracy,Cost\n",
      "0.765,0.620,0.521,0.785,0.782,16962.716\n",
      "\n",
      "#Outcome scores\n",
      "AUROC,AUPRC,F-measure,Accuracy,Weighted Accuracy,Cost\n",
      "0.709,0.703,0.554,0.602,0.808,11255.680\n",
      "\n",
      "#Murmur scores (per class)\n",
      "Classes,Present,Unknown,Absent\n",
      "AUROC,0.949,0.500,0.845\n",
      "AUPRC,0.872,0.073,0.915\n",
      "F-measure,0.707,0.000,0.855\n",
      "Accuracy,0.921,0.000,0.827\n",
      "\n",
      "#Outcome scores (per class)\n",
      "Classes,Abnormal,Normal\n",
      "AUROC,0.709,0.709\n",
      "AUPRC,0.717,0.690\n",
      "F-measure,0.701,0.406\n",
      "Accuracy,0.908,0.280\n",
      "\n"
     ]
    }
   ],
   "source": [
    "murmur_scores, outcome_scores = evaluate_model(test_folder, output_folder)\n",
    "classes, auroc, auprc, auroc_classes, auprc_classes, f_measure, f_measure_classes, accuracy, accuracy_classes, weighted_accuracy, cost = murmur_scores\n",
    "murmur_output_string = 'AUROC,AUPRC,F-measure,Accuracy,Weighted Accuracy,Cost\\n{:.3f},{:.3f},{:.3f},{:.3f},{:.3f},{:.3f}\\n'.format(auroc, auprc, f_measure, accuracy, weighted_accuracy, cost)\n",
    "murmur_class_output_string = 'Classes,{}\\nAUROC,{}\\nAUPRC,{}\\nF-measure,{}\\nAccuracy,{}\\n'.format(\n",
    "    ','.join(classes),\n",
    "    ','.join('{:.3f}'.format(x) for x in auroc_classes),\n",
    "    ','.join('{:.3f}'.format(x) for x in auprc_classes),\n",
    "    ','.join('{:.3f}'.format(x) for x in f_measure_classes),\n",
    "    ','.join('{:.3f}'.format(x) for x in accuracy_classes))\n",
    "\n",
    "classes, auroc, auprc, auroc_classes, auprc_classes, f_measure, f_measure_classes, accuracy, accuracy_classes, weighted_accuracy, cost = outcome_scores\n",
    "outcome_output_string = 'AUROC,AUPRC,F-measure,Accuracy,Weighted Accuracy,Cost\\n{:.3f},{:.3f},{:.3f},{:.3f},{:.3f},{:.3f}\\n'.format(auroc, auprc, f_measure, accuracy, weighted_accuracy, cost)\n",
    "outcome_class_output_string = 'Classes,{}\\nAUROC,{}\\nAUPRC,{}\\nF-measure,{}\\nAccuracy,{}\\n'.format(\n",
    "    ','.join(classes),\n",
    "    ','.join('{:.3f}'.format(x) for x in auroc_classes),\n",
    "    ','.join('{:.3f}'.format(x) for x in auprc_classes),\n",
    "    ','.join('{:.3f}'.format(x) for x in f_measure_classes),\n",
    "    ','.join('{:.3f}'.format(x) for x in accuracy_classes))\n",
    "\n",
    "output_string = '#Murmur scores\\n' + murmur_output_string + '\\n#Outcome scores\\n' + outcome_output_string \\\n",
    "    + '\\n#Murmur scores (per class)\\n' + murmur_class_output_string + '\\n#Outcome scores (per class)\\n' + outcome_class_output_string\n",
    "\n",
    "if len(sys.argv) == 3:\n",
    "    print(output_string)\n",
    "elif len(sys.argv) == 4:\n",
    "    with open(sys.argv[3], 'w') as f:\n",
    "        f.write(output_string)"
   ]
  },
  {
   "cell_type": "code",
   "execution_count": null,
   "id": "72a27458",
   "metadata": {},
   "outputs": [],
   "source": []
  },
  {
   "cell_type": "code",
   "execution_count": 88,
   "id": "4235c97d",
   "metadata": {},
   "outputs": [
    {
     "name": "stdout",
     "output_type": "stream",
     "text": [
      "0.4202716029907396\n",
      "0.5797283964631446\n",
      "0.7029265009295877\n",
      "0.2970735016059501\n"
     ]
    }
   ],
   "source": [
    "label_folder = test_folder\n",
    "murmur_classes = ['Present', 'Unknown', 'Absent']\n",
    "outcome_classes = ['Abnormal', 'Normal']\n",
    "\n",
    "# Load and parse label and model output files.\n",
    "label_files, output_files = find_challenge_files(label_folder, output_folder)\n",
    "murmur_labels = load_murmurs(label_files, murmur_classes)\n",
    "murmur_binary_outputs, murmur_scalar_outputs = load_classifier_outputs(output_files, murmur_classes)\n",
    "outcome_labels = load_outcomes(label_files, outcome_classes)\n",
    "outcome_binary_outputs, outcome_scalar_outputs = load_classifier_outputs(output_files, outcome_classes)\n",
    "\n",
    "\n",
    "print(np.mean(murmur_scalar_outputs[:,0]))\n",
    "print(np.mean(murmur_scalar_outputs[:,2]))\n",
    "print(np.mean(outcome_scalar_outputs[:,0]))\n",
    "print(np.mean(outcome_scalar_outputs[:,1]))"
   ]
  },
  {
   "cell_type": "code",
   "execution_count": 89,
   "id": "3fb59f7c",
   "metadata": {
    "scrolled": false
   },
   "outputs": [
    {
     "name": "stdout",
     "output_type": "stream",
     "text": [
      "threshold:  0.01\n",
      "#Murmur scores\n",
      "AUROC,AUPRC,F-measure,Accuracy,Weighted Accuracy,Cost\n",
      "0.765,0.620,0.111,0.199,0.512,15140.890\n",
      "\n",
      "#Outcome scores\n",
      "AUROC,AUPRC,F-measure,Accuracy,Weighted Accuracy,Cost\n",
      "0.709,0.703,0.339,0.513,0.840,15140.890\n",
      "\n",
      "#Murmur scores (per class)\n",
      "Classes,Present,Unknown,Absent\n",
      "AUROC,0.949,0.500,0.845\n",
      "AUPRC,0.872,0.073,0.915\n",
      "F-measure,0.332,0.000,0.000\n",
      "Accuracy,1.000,0.000,0.000\n",
      "\n",
      "#Outcome scores (per class)\n",
      "Classes,Abnormal,Normal\n",
      "AUROC,0.709,0.709\n",
      "AUPRC,0.717,0.690\n",
      "F-measure,0.678,0.000\n",
      "Accuracy,1.000,0.000\n",
      "\n",
      "-------------\n",
      "threshold:  0.05\n",
      "#Murmur scores\n",
      "AUROC,AUPRC,F-measure,Accuracy,Weighted Accuracy,Cost\n",
      "0.765,0.620,0.111,0.199,0.512,15140.890\n",
      "\n",
      "#Outcome scores\n",
      "AUROC,AUPRC,F-measure,Accuracy,Weighted Accuracy,Cost\n",
      "0.709,0.703,0.339,0.513,0.840,15140.890\n",
      "\n",
      "#Murmur scores (per class)\n",
      "Classes,Present,Unknown,Absent\n",
      "AUROC,0.949,0.500,0.845\n",
      "AUPRC,0.872,0.073,0.915\n",
      "F-measure,0.332,0.000,0.000\n",
      "Accuracy,1.000,0.000,0.000\n",
      "\n",
      "#Outcome scores (per class)\n",
      "Classes,Abnormal,Normal\n",
      "AUROC,0.709,0.709\n",
      "AUPRC,0.717,0.690\n",
      "F-measure,0.678,0.000\n",
      "Accuracy,1.000,0.000\n",
      "\n",
      "-------------\n",
      "threshold:  0.1\n",
      "#Murmur scores\n",
      "AUROC,AUPRC,F-measure,Accuracy,Weighted Accuracy,Cost\n",
      "0.765,0.620,0.111,0.199,0.512,15140.890\n",
      "\n",
      "#Outcome scores\n",
      "AUROC,AUPRC,F-measure,Accuracy,Weighted Accuracy,Cost\n",
      "0.709,0.703,0.339,0.513,0.840,15140.890\n",
      "\n",
      "#Murmur scores (per class)\n",
      "Classes,Present,Unknown,Absent\n",
      "AUROC,0.949,0.500,0.845\n",
      "AUPRC,0.872,0.073,0.915\n",
      "F-measure,0.332,0.000,0.000\n",
      "Accuracy,1.000,0.000,0.000\n",
      "\n",
      "#Outcome scores (per class)\n",
      "Classes,Abnormal,Normal\n",
      "AUROC,0.709,0.709\n",
      "AUPRC,0.717,0.690\n",
      "F-measure,0.678,0.000\n",
      "Accuracy,1.000,0.000\n",
      "\n",
      "-------------\n",
      "threshold:  0.15\n",
      "#Murmur scores\n",
      "AUROC,AUPRC,F-measure,Accuracy,Weighted Accuracy,Cost\n",
      "0.765,0.620,0.136,0.225,0.526,14500.929\n",
      "\n",
      "#Outcome scores\n",
      "AUROC,AUPRC,F-measure,Accuracy,Weighted Accuracy,Cost\n",
      "0.709,0.703,0.339,0.513,0.840,15140.890\n",
      "\n",
      "#Murmur scores (per class)\n",
      "Classes,Present,Unknown,Absent\n",
      "AUROC,0.949,0.500,0.845\n",
      "AUPRC,0.872,0.073,0.915\n",
      "F-measure,0.339,0.000,0.069\n",
      "Accuracy,1.000,0.000,0.036\n",
      "\n",
      "#Outcome scores (per class)\n",
      "Classes,Abnormal,Normal\n",
      "AUROC,0.709,0.709\n",
      "AUPRC,0.717,0.690\n",
      "F-measure,0.678,0.000\n",
      "Accuracy,1.000,0.000\n",
      "\n",
      "-------------\n",
      "threshold:  0.2\n",
      "#Murmur scores\n",
      "AUROC,AUPRC,F-measure,Accuracy,Weighted Accuracy,Cost\n",
      "0.765,0.620,0.160,0.251,0.539,13946.717\n",
      "\n",
      "#Outcome scores\n",
      "AUROC,AUPRC,F-measure,Accuracy,Weighted Accuracy,Cost\n",
      "0.709,0.703,0.339,0.513,0.840,15140.890\n",
      "\n",
      "#Murmur scores (per class)\n",
      "Classes,Present,Unknown,Absent\n",
      "AUROC,0.949,0.500,0.845\n",
      "AUPRC,0.872,0.073,0.915\n",
      "F-measure,0.347,0.000,0.134\n",
      "Accuracy,1.000,0.000,0.072\n",
      "\n",
      "#Outcome scores (per class)\n",
      "Classes,Abnormal,Normal\n",
      "AUROC,0.709,0.709\n",
      "AUPRC,0.717,0.690\n",
      "F-measure,0.678,0.000\n",
      "Accuracy,1.000,0.000\n",
      "\n",
      "-------------\n",
      "threshold:  0.25\n",
      "#Murmur scores\n",
      "AUROC,AUPRC,F-measure,Accuracy,Weighted Accuracy,Cost\n",
      "0.765,0.620,0.261,0.377,0.604,12284.396\n",
      "\n",
      "#Outcome scores\n",
      "AUROC,AUPRC,F-measure,Accuracy,Weighted Accuracy,Cost\n",
      "0.709,0.703,0.339,0.513,0.840,15140.890\n",
      "\n",
      "#Murmur scores (per class)\n",
      "Classes,Present,Unknown,Absent\n",
      "AUROC,0.949,0.500,0.845\n",
      "AUPRC,0.872,0.073,0.915\n",
      "F-measure,0.396,0.000,0.386\n",
      "Accuracy,1.000,0.000,0.245\n",
      "\n",
      "#Outcome scores (per class)\n",
      "Classes,Abnormal,Normal\n",
      "AUROC,0.709,0.709\n",
      "AUPRC,0.717,0.690\n",
      "F-measure,0.678,0.000\n",
      "Accuracy,1.000,0.000\n",
      "\n",
      "-------------\n",
      "threshold:  0.3\n",
      "#Murmur scores\n",
      "AUROC,AUPRC,F-measure,Accuracy,Weighted Accuracy,Cost\n",
      "0.765,0.620,0.324,0.471,0.652,12291.300\n",
      "\n",
      "#Outcome scores\n",
      "AUROC,AUPRC,F-measure,Accuracy,Weighted Accuracy,Cost\n",
      "0.709,0.703,0.351,0.518,0.842,14922.040\n",
      "\n",
      "#Murmur scores (per class)\n",
      "Classes,Present,Unknown,Absent\n",
      "AUROC,0.949,0.500,0.845\n",
      "AUPRC,0.872,0.073,0.915\n",
      "F-measure,0.444,0.000,0.528\n",
      "Accuracy,1.000,0.000,0.374\n",
      "\n",
      "#Outcome scores (per class)\n",
      "Classes,Abnormal,Normal\n",
      "AUROC,0.709,0.709\n",
      "AUPRC,0.717,0.690\n",
      "F-measure,0.681,0.021\n",
      "Accuracy,1.000,0.011\n",
      "\n",
      "-------------\n",
      "threshold:  0.35\n",
      "#Murmur scores\n",
      "AUROC,AUPRC,F-measure,Accuracy,Weighted Accuracy,Cost\n",
      "0.765,0.620,0.399,0.597,0.695,13435.891\n",
      "\n",
      "#Outcome scores\n",
      "AUROC,AUPRC,F-measure,Accuracy,Weighted Accuracy,Cost\n",
      "0.709,0.703,0.351,0.518,0.842,14922.040\n",
      "\n",
      "#Murmur scores (per class)\n",
      "Classes,Present,Unknown,Absent\n",
      "AUROC,0.949,0.500,0.845\n",
      "AUPRC,0.872,0.073,0.915\n",
      "F-measure,0.503,0.000,0.693\n",
      "Accuracy,0.947,0.000,0.561\n",
      "\n",
      "#Outcome scores (per class)\n",
      "Classes,Abnormal,Normal\n",
      "AUROC,0.709,0.709\n",
      "AUPRC,0.717,0.690\n",
      "F-measure,0.681,0.021\n",
      "Accuracy,1.000,0.011\n",
      "\n",
      "-------------\n",
      "threshold:  0.4\n",
      "#Murmur scores\n",
      "AUROC,AUPRC,F-measure,Accuracy,Weighted Accuracy,Cost\n",
      "0.765,0.620,0.462,0.702,0.749,14645.438\n",
      "\n",
      "#Outcome scores\n",
      "AUROC,AUPRC,F-measure,Accuracy,Weighted Accuracy,Cost\n",
      "0.709,0.703,0.374,0.529,0.846,14495.049\n",
      "\n",
      "#Murmur scores (per class)\n",
      "Classes,Present,Unknown,Absent\n",
      "AUROC,0.949,0.500,0.845\n",
      "AUPRC,0.872,0.073,0.915\n",
      "F-measure,0.590,0.000,0.797\n",
      "Accuracy,0.947,0.000,0.705\n",
      "\n",
      "#Outcome scores (per class)\n",
      "Classes,Abnormal,Normal\n",
      "AUROC,0.709,0.709\n",
      "AUPRC,0.717,0.690\n",
      "F-measure,0.685,0.062\n",
      "Accuracy,1.000,0.032\n",
      "\n",
      "-------------\n",
      "threshold:  0.45\n",
      "#Murmur scores\n",
      "AUROC,AUPRC,F-measure,Accuracy,Weighted Accuracy,Cost\n",
      "0.765,0.620,0.500,0.759,0.768,16370.428\n",
      "\n",
      "#Outcome scores\n",
      "AUROC,AUPRC,F-measure,Accuracy,Weighted Accuracy,Cost\n",
      "0.709,0.703,0.371,0.524,0.837,14496.256\n",
      "\n",
      "#Murmur scores (per class)\n",
      "Classes,Present,Unknown,Absent\n",
      "AUROC,0.949,0.500,0.845\n",
      "AUPRC,0.872,0.073,0.915\n",
      "F-measure,0.660,0.000,0.840\n",
      "Accuracy,0.921,0.000,0.791\n",
      "\n",
      "#Outcome scores (per class)\n",
      "Classes,Abnormal,Normal\n",
      "AUROC,0.709,0.709\n",
      "AUPRC,0.717,0.690\n",
      "F-measure,0.681,0.062\n",
      "Accuracy,0.990,0.032\n",
      "\n",
      "-------------\n",
      "threshold:  0.5\n",
      "#Murmur scores\n",
      "AUROC,AUPRC,F-measure,Accuracy,Weighted Accuracy,Cost\n",
      "0.765,0.620,0.540,0.812,0.795,17364.674\n",
      "\n",
      "#Outcome scores\n",
      "AUROC,AUPRC,F-measure,Accuracy,Weighted Accuracy,Cost\n",
      "0.709,0.703,0.415,0.545,0.844,13697.681\n",
      "\n",
      "#Murmur scores (per class)\n",
      "Classes,Present,Unknown,Absent\n",
      "AUROC,0.949,0.500,0.845\n",
      "AUPRC,0.872,0.073,0.915\n",
      "F-measure,0.745,0.000,0.876\n",
      "Accuracy,0.921,0.000,0.863\n",
      "\n",
      "#Outcome scores (per class)\n",
      "Classes,Abnormal,Normal\n",
      "AUROC,0.709,0.709\n",
      "AUPRC,0.717,0.690\n",
      "F-measure,0.690,0.139\n",
      "Accuracy,0.990,0.075\n",
      "\n",
      "-------------\n",
      "threshold:  0.55\n",
      "#Murmur scores\n",
      "AUROC,AUPRC,F-measure,Accuracy,Weighted Accuracy,Cost\n",
      "0.765,0.620,0.582,0.864,0.811,18810.552\n",
      "\n",
      "#Outcome scores\n",
      "AUROC,AUPRC,F-measure,Accuracy,Weighted Accuracy,Cost\n",
      "0.709,0.703,0.467,0.565,0.837,12676.239\n",
      "\n",
      "#Murmur scores (per class)\n",
      "Classes,Present,Unknown,Absent\n",
      "AUROC,0.949,0.500,0.845\n",
      "AUPRC,0.872,0.073,0.915\n",
      "F-measure,0.829,0.000,0.916\n",
      "Accuracy,0.895,0.000,0.942\n",
      "\n",
      "#Outcome scores (per class)\n",
      "Classes,Abnormal,Normal\n",
      "AUROC,0.709,0.709\n",
      "AUPRC,0.717,0.690\n",
      "F-measure,0.696,0.239\n",
      "Accuracy,0.969,0.140\n",
      "\n",
      "-------------\n",
      "threshold:  0.6\n",
      "#Murmur scores\n",
      "AUROC,AUPRC,F-measure,Accuracy,Weighted Accuracy,Cost\n",
      "0.765,0.620,0.572,0.859,0.765,19853.919\n",
      "\n",
      "#Outcome scores\n",
      "AUROC,AUPRC,F-measure,Accuracy,Weighted Accuracy,Cost\n",
      "0.709,0.703,0.538,0.597,0.820,11448.691\n",
      "\n",
      "#Murmur scores (per class)\n",
      "Classes,Present,Unknown,Absent\n",
      "AUROC,0.949,0.500,0.845\n",
      "AUPRC,0.872,0.073,0.915\n",
      "F-measure,0.800,0.000,0.915\n",
      "Accuracy,0.789,0.000,0.964\n",
      "\n",
      "#Outcome scores (per class)\n",
      "Classes,Abnormal,Normal\n",
      "AUROC,0.709,0.709\n",
      "AUPRC,0.717,0.690\n",
      "F-measure,0.703,0.374\n",
      "Accuracy,0.929,0.247\n",
      "\n",
      "-------------\n",
      "threshold:  0.65\n",
      "#Murmur scores\n",
      "AUROC,AUPRC,F-measure,Accuracy,Weighted Accuracy,Cost\n",
      "0.765,0.620,0.572,0.859,0.733,21108.796\n",
      "\n",
      "#Outcome scores\n",
      "AUROC,AUPRC,F-measure,Accuracy,Weighted Accuracy,Cost\n",
      "0.709,0.703,0.622,0.639,0.765,10825.331\n",
      "\n",
      "#Murmur scores (per class)\n",
      "Classes,Present,Unknown,Absent\n",
      "AUROC,0.949,0.500,0.845\n",
      "AUPRC,0.872,0.073,0.915\n",
      "F-measure,0.806,0.000,0.910\n",
      "Accuracy,0.711,0.000,0.986\n",
      "\n",
      "#Outcome scores (per class)\n",
      "Classes,Abnormal,Normal\n",
      "AUROC,0.709,0.709\n",
      "AUPRC,0.717,0.690\n",
      "F-measure,0.701,0.543\n",
      "Accuracy,0.827,0.441\n",
      "\n",
      "-------------\n",
      "threshold:  0.7\n",
      "#Murmur scores\n",
      "AUROC,AUPRC,F-measure,Accuracy,Weighted Accuracy,Cost\n",
      "0.765,0.620,0.556,0.848,0.695,21107.966\n",
      "\n",
      "#Outcome scores\n",
      "AUROC,AUPRC,F-measure,Accuracy,Weighted Accuracy,Cost\n",
      "0.709,0.703,0.659,0.660,0.676,12270.809\n",
      "\n",
      "#Murmur scores (per class)\n",
      "Classes,Present,Unknown,Absent\n",
      "AUROC,0.949,0.500,0.845\n",
      "AUPRC,0.872,0.073,0.915\n",
      "F-measure,0.762,0.000,0.905\n",
      "Accuracy,0.632,0.000,0.993\n",
      "\n",
      "#Outcome scores (per class)\n",
      "Classes,Abnormal,Normal\n",
      "AUROC,0.709,0.709\n",
      "AUPRC,0.717,0.690\n",
      "F-measure,0.673,0.645\n",
      "Accuracy,0.684,0.634\n",
      "\n",
      "-------------\n",
      "threshold:  0.75\n",
      "#Murmur scores\n",
      "AUROC,AUPRC,F-measure,Accuracy,Weighted Accuracy,Cost\n",
      "0.765,0.620,0.497,0.812,0.601,22152.287\n",
      "\n",
      "#Outcome scores\n",
      "AUROC,AUPRC,F-measure,Accuracy,Weighted Accuracy,Cost\n",
      "0.709,0.703,0.636,0.644,0.533,15929.052\n",
      "\n",
      "#Murmur scores (per class)\n",
      "Classes,Present,Unknown,Absent\n",
      "AUROC,0.949,0.500,0.845\n",
      "AUPRC,0.872,0.073,0.915\n",
      "F-measure,0.607,0.000,0.885\n",
      "Accuracy,0.447,0.000,0.993\n",
      "\n",
      "#Outcome scores (per class)\n",
      "Classes,Abnormal,Normal\n",
      "AUROC,0.709,0.709\n",
      "AUPRC,0.717,0.690\n",
      "F-measure,0.580,0.691\n",
      "Accuracy,0.480,0.817\n",
      "\n",
      "-------------\n"
     ]
    },
    {
     "name": "stdout",
     "output_type": "stream",
     "text": [
      "threshold:  0.8\n",
      "#Murmur scores\n",
      "AUROC,AUPRC,F-measure,Accuracy,Weighted Accuracy,Cost\n",
      "0.765,0.620,0.348,0.749,0.429,24859.317\n",
      "\n",
      "#Outcome scores\n",
      "AUROC,AUPRC,F-measure,Accuracy,Weighted Accuracy,Cost\n",
      "0.709,0.703,0.585,0.613,0.434,18601.128\n",
      "\n",
      "#Murmur scores (per class)\n",
      "Classes,Present,Unknown,Absent\n",
      "AUROC,0.949,0.500,0.845\n",
      "AUPRC,0.872,0.073,0.915\n",
      "F-measure,0.190,0.000,0.853\n",
      "Accuracy,0.105,0.000,1.000\n",
      "\n",
      "#Outcome scores (per class)\n",
      "Classes,Abnormal,Normal\n",
      "AUROC,0.709,0.709\n",
      "AUPRC,0.717,0.690\n",
      "F-measure,0.479,0.692\n",
      "Accuracy,0.347,0.892\n",
      "\n",
      "-------------\n"
     ]
    }
   ],
   "source": [
    "for th1 in [0.01, 0.05, 0.1, 0.15,0.2, 0.25, 0.3, 0.35, 0.4, 0.45, 0.5, 0.55, 0.6, 0.65, 0.7, 0.75, 0.8] :\n",
    "    murmur_binary_outputs[:,0] = murmur_scalar_outputs[:,0] > th1\n",
    "    murmur_binary_outputs[:,2] = murmur_scalar_outputs[:,2] > 1 - th1\n",
    "    outcome_binary_outputs[:,0] = outcome_scalar_outputs[:,0] > th1\n",
    "    outcome_binary_outputs[:,1] = outcome_scalar_outputs[:,1] > 1 - th1\n",
    "    # For each patient, set the 'Present' or 'Abnormal' class to positive if no class is positive or if multiple classes are positive.\n",
    "    murmur_labels = enforce_positives(murmur_labels, murmur_classes, 'Present')\n",
    "    murmur_binary_outputs = enforce_positives(murmur_binary_outputs, murmur_classes, 'Present')\n",
    "    outcome_labels = enforce_positives(outcome_labels, outcome_classes, 'Abnormal')\n",
    "    outcome_binary_outputs = enforce_positives(outcome_binary_outputs, outcome_classes, 'Abnormal')\n",
    "    # Evaluate the murmur model by comparing the labels and model outputs.\n",
    "    murmur_auroc, murmur_auprc, murmur_auroc_classes, murmur_auprc_classes = compute_auc(murmur_labels, murmur_scalar_outputs)\n",
    "    murmur_f_measure, murmur_f_measure_classes = compute_f_measure(murmur_labels, murmur_binary_outputs)\n",
    "    murmur_accuracy, murmur_accuracy_classes = compute_accuracy(murmur_labels, murmur_binary_outputs)\n",
    "    murmur_weighted_accuracy = compute_weighted_accuracy(murmur_labels, murmur_binary_outputs, murmur_classes) # This is the murmur scoring metric.\n",
    "    murmur_cost = compute_cost(outcome_labels, murmur_binary_outputs, outcome_classes, murmur_classes) # Use *outcomes* to score *murmurs* for the Challenge cost metric, but this is not the actual murmur scoring metric.\n",
    "    murmur_scores = (murmur_classes, murmur_auroc, murmur_auprc, murmur_auroc_classes, murmur_auprc_classes, \\\n",
    "                 murmur_f_measure, murmur_f_measure_classes, murmur_accuracy, murmur_accuracy_classes, murmur_weighted_accuracy, murmur_cost)\n",
    "\n",
    "    # Evaluate the outcome model by comparing the labels and model outputs.\n",
    "    outcome_auroc, outcome_auprc, outcome_auroc_classes, outcome_auprc_classes = compute_auc(outcome_labels, outcome_scalar_outputs)\n",
    "    outcome_f_measure, outcome_f_measure_classes = compute_f_measure(outcome_labels, outcome_binary_outputs)\n",
    "    outcome_accuracy, outcome_accuracy_classes = compute_accuracy(outcome_labels, outcome_binary_outputs)\n",
    "    outcome_weighted_accuracy = compute_weighted_accuracy(outcome_labels, outcome_binary_outputs, outcome_classes)\n",
    "    outcome_cost = compute_cost(outcome_labels, outcome_binary_outputs, outcome_classes, outcome_classes) # This is the clinical outcomes scoring metric.\n",
    "    outcome_scores = (outcome_classes, outcome_auroc, outcome_auprc, outcome_auroc_classes, outcome_auprc_classes, \\\n",
    "                  outcome_f_measure, outcome_f_measure_classes, outcome_accuracy, outcome_accuracy_classes, outcome_weighted_accuracy, outcome_cost)\n",
    "\n",
    "\n",
    "\n",
    "    classes, auroc, auprc, auroc_classes, auprc_classes, f_measure, f_measure_classes, accuracy, accuracy_classes, weighted_accuracy, cost = murmur_scores\n",
    "    murmur_output_string = 'AUROC,AUPRC,F-measure,Accuracy,Weighted Accuracy,Cost\\n{:.3f},{:.3f},{:.3f},{:.3f},{:.3f},{:.3f}\\n'.format(auroc, auprc, f_measure, accuracy, weighted_accuracy, cost)\n",
    "    murmur_class_output_string = 'Classes,{}\\nAUROC,{}\\nAUPRC,{}\\nF-measure,{}\\nAccuracy,{}\\n'.format(\n",
    "    ','.join(classes),\n",
    "    ','.join('{:.3f}'.format(x) for x in auroc_classes),\n",
    "    ','.join('{:.3f}'.format(x) for x in auprc_classes),\n",
    "    ','.join('{:.3f}'.format(x) for x in f_measure_classes),\n",
    "    ','.join('{:.3f}'.format(x) for x in accuracy_classes))\n",
    "\n",
    "    classes, auroc, auprc, auroc_classes, auprc_classes, f_measure, f_measure_classes, accuracy, accuracy_classes, weighted_accuracy, cost = outcome_scores\n",
    "    outcome_output_string = 'AUROC,AUPRC,F-measure,Accuracy,Weighted Accuracy,Cost\\n{:.3f},{:.3f},{:.3f},{:.3f},{:.3f},{:.3f}\\n'.format(auroc, auprc, f_measure, accuracy, weighted_accuracy, cost)\n",
    "    outcome_class_output_string = 'Classes,{}\\nAUROC,{}\\nAUPRC,{}\\nF-measure,{}\\nAccuracy,{}\\n'.format(\n",
    "    ','.join(classes),\n",
    "    ','.join('{:.3f}'.format(x) for x in auroc_classes),\n",
    "    ','.join('{:.3f}'.format(x) for x in auprc_classes),\n",
    "    ','.join('{:.3f}'.format(x) for x in f_measure_classes),\n",
    "    ','.join('{:.3f}'.format(x) for x in accuracy_classes))\n",
    "\n",
    "    output_string = '#Murmur scores\\n' + murmur_output_string + '\\n#Outcome scores\\n' + outcome_output_string \\\n",
    "                + '\\n#Murmur scores (per class)\\n' + murmur_class_output_string + '\\n#Outcome scores (per class)\\n' + outcome_class_output_string\n",
    "    print(\"threshold: \", th1)\n",
    "    print(output_string)\n",
    "    print(\"-------------\")"
   ]
  },
  {
   "cell_type": "code",
   "execution_count": null,
   "id": "e6615bae",
   "metadata": {},
   "outputs": [],
   "source": []
  },
  {
   "cell_type": "code",
   "execution_count": null,
   "id": "5f95548d",
   "metadata": {},
   "outputs": [],
   "source": []
  },
  {
   "cell_type": "code",
   "execution_count": null,
   "id": "8681adbc",
   "metadata": {},
   "outputs": [],
   "source": []
  },
  {
   "cell_type": "code",
   "execution_count": null,
   "id": "f084c345",
   "metadata": {},
   "outputs": [],
   "source": []
  },
  {
   "cell_type": "code",
   "execution_count": null,
   "id": "5c260645",
   "metadata": {},
   "outputs": [],
   "source": []
  },
  {
   "cell_type": "code",
   "execution_count": null,
   "id": "7367ffff",
   "metadata": {},
   "outputs": [],
   "source": []
  },
  {
   "cell_type": "code",
   "execution_count": null,
   "id": "a95bdc02",
   "metadata": {},
   "outputs": [],
   "source": []
  },
  {
   "cell_type": "code",
   "execution_count": null,
   "id": "f085d621",
   "metadata": {},
   "outputs": [],
   "source": []
  },
  {
   "cell_type": "code",
   "execution_count": null,
   "id": "bd2c13c9",
   "metadata": {},
   "outputs": [],
   "source": []
  },
  {
   "cell_type": "code",
   "execution_count": null,
   "id": "5db42aca",
   "metadata": {},
   "outputs": [],
   "source": []
  },
  {
   "cell_type": "code",
   "execution_count": null,
   "id": "bb4f90b1",
   "metadata": {},
   "outputs": [],
   "source": []
  },
  {
   "cell_type": "code",
   "execution_count": null,
   "id": "51aa06e9",
   "metadata": {},
   "outputs": [],
   "source": []
  },
  {
   "cell_type": "code",
   "execution_count": null,
   "id": "4c7407d0",
   "metadata": {},
   "outputs": [],
   "source": []
  },
  {
   "cell_type": "code",
   "execution_count": null,
   "id": "2c27aa5b",
   "metadata": {},
   "outputs": [],
   "source": []
  },
  {
   "cell_type": "code",
   "execution_count": null,
   "id": "205f283a",
   "metadata": {},
   "outputs": [],
   "source": []
  }
 ],
 "metadata": {
  "kernelspec": {
   "display_name": "Python 3 (ipykernel)",
   "language": "python",
   "name": "python3"
  },
  "language_info": {
   "codemirror_mode": {
    "name": "ipython",
    "version": 3
   },
   "file_extension": ".py",
   "mimetype": "text/x-python",
   "name": "python",
   "nbconvert_exporter": "python",
   "pygments_lexer": "ipython3",
   "version": "3.8.13"
  }
 },
 "nbformat": 4,
 "nbformat_minor": 5
}
