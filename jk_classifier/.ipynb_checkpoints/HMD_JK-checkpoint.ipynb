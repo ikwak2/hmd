{
 "cells": [
  {
   "cell_type": "code",
   "execution_count": 1,
   "id": "3d55dbd4",
   "metadata": {},
   "outputs": [],
   "source": [
    "import tensorflow as tf"
   ]
  },
  {
   "cell_type": "code",
   "execution_count": 2,
   "id": "591f3ce7",
   "metadata": {},
   "outputs": [
    {
     "name": "stdout",
     "output_type": "stream",
     "text": [
      "Wed Jul 20 14:10:14 2022       \r\n",
      "+-----------------------------------------------------------------------------+\r\n",
      "| NVIDIA-SMI 460.91.03    Driver Version: 460.91.03    CUDA Version: 11.2     |\r\n",
      "|-------------------------------+----------------------+----------------------+\r\n",
      "| GPU  Name        Persistence-M| Bus-Id        Disp.A | Volatile Uncorr. ECC |\r\n",
      "| Fan  Temp  Perf  Pwr:Usage/Cap|         Memory-Usage | GPU-Util  Compute M. |\r\n",
      "|                               |                      |               MIG M. |\r\n",
      "|===============================+======================+======================|\r\n",
      "|   0  GeForce RTX 208...  Off  | 00000000:01:00.0 Off |                  N/A |\r\n",
      "| 39%   48C    P0    62W / 260W |    367MiB / 11019MiB |      1%      Default |\r\n",
      "|                               |                      |                  N/A |\r\n",
      "+-------------------------------+----------------------+----------------------+\r\n",
      "                                                                               \r\n",
      "+-----------------------------------------------------------------------------+\r\n",
      "| Processes:                                                                  |\r\n",
      "|  GPU   GI   CI        PID   Type   Process name                  GPU Memory |\r\n",
      "|        ID   ID                                                   Usage      |\r\n",
      "|=============================================================================|\r\n",
      "|    0   N/A  N/A       993      G   /usr/lib/xorg/Xorg                 45MiB |\r\n",
      "|    0   N/A  N/A      1943      G   /usr/lib/xorg/Xorg                191MiB |\r\n",
      "|    0   N/A  N/A      2068      G   /usr/bin/gnome-shell               30MiB |\r\n",
      "|    0   N/A  N/A    567944      G   ...854011572452614690,131072       69MiB |\r\n",
      "+-----------------------------------------------------------------------------+\r\n"
     ]
    }
   ],
   "source": [
    "!nvidia-smi"
   ]
  },
  {
   "cell_type": "code",
   "execution_count": 3,
   "id": "2374013e",
   "metadata": {},
   "outputs": [],
   "source": [
    "import os\n",
    "import pandas as pd\n",
    "import numpy as np\n",
    "import scipy as sp\n",
    "import scipy.stats\n",
    "import librosa\n",
    "import librosa.display\n",
    "import math\n",
    "import sys\n",
    "#sys.path.insert(0,'/home/ikwak2/hmd/notebooks')\n",
    "#sys.path.insert(0,'/home/ikwak2/hmd/iy_classifier')\n",
    "sys.path.insert(0,'utils')\n",
    "from helper_code import *\n",
    "from get_feature import *\n",
    "from models import *\n",
    "from Generator0 import *"
   ]
  },
  {
   "cell_type": "code",
   "execution_count": 4,
   "id": "7e50eff0",
   "metadata": {},
   "outputs": [
    {
     "data": {
      "text/plain": [
       "'/home/jk21/Documents/hmd/jk_classifier'"
      ]
     },
     "execution_count": 4,
     "metadata": {},
     "output_type": "execute_result"
    }
   ],
   "source": [
    "pwd"
   ]
  },
  {
   "cell_type": "code",
   "execution_count": 5,
   "id": "720bd8d5",
   "metadata": {},
   "outputs": [],
   "source": [
    "root_dir = 'physionet.org/files/circor-heart-sound/1.0.3'\n",
    "training_data_file = root_dir + '/' + 'training_data.csv'\n",
    "training_data_dir = root_dir + '/' + 'training_data'\n",
    "model_dir = root_dir + '/' + 'model'"
   ]
  },
  {
   "cell_type": "code",
   "execution_count": 6,
   "id": "40c8e2f0",
   "metadata": {
    "scrolled": true
   },
   "outputs": [
    {
     "name": "stdout",
     "output_type": "stream",
     "text": [
      "Wed Jul 20 14:10:15 2022       \n",
      "+-----------------------------------------------------------------------------+\n",
      "| NVIDIA-SMI 460.91.03    Driver Version: 460.91.03    CUDA Version: 11.2     |\n",
      "|-------------------------------+----------------------+----------------------+\n",
      "| GPU  Name        Persistence-M| Bus-Id        Disp.A | Volatile Uncorr. ECC |\n",
      "| Fan  Temp  Perf  Pwr:Usage/Cap|         Memory-Usage | GPU-Util  Compute M. |\n",
      "|                               |                      |               MIG M. |\n",
      "|===============================+======================+======================|\n",
      "|   0  GeForce RTX 208...  Off  | 00000000:01:00.0 Off |                  N/A |\n",
      "| 39%   48C    P0    62W / 260W |    367MiB / 11019MiB |      1%      Default |\n",
      "|                               |                      |                  N/A |\n",
      "+-------------------------------+----------------------+----------------------+\n",
      "                                                                               \n",
      "+-----------------------------------------------------------------------------+\n",
      "| Processes:                                                                  |\n",
      "|  GPU   GI   CI        PID   Type   Process name                  GPU Memory |\n",
      "|        ID   ID                                                   Usage      |\n",
      "|=============================================================================|\n",
      "|    0   N/A  N/A       993      G   /usr/lib/xorg/Xorg                 45MiB |\n",
      "|    0   N/A  N/A      1943      G   /usr/lib/xorg/Xorg                191MiB |\n",
      "|    0   N/A  N/A      2068      G   /usr/bin/gnome-shell               30MiB |\n",
      "|    0   N/A  N/A    567944      G   ...854011572452614690,131072       69MiB |\n",
      "+-----------------------------------------------------------------------------+\n"
     ]
    }
   ],
   "source": [
    "import tensorflow as tf\n",
    "\n",
    "gpu_info = !nvidia-smi\n",
    "gpu_info = '\\n'.join(gpu_info)\n",
    "print(gpu_info)"
   ]
  },
  {
   "cell_type": "code",
   "execution_count": 7,
   "id": "a8e6afa9",
   "metadata": {},
   "outputs": [
    {
     "data": {
      "text/plain": [
       "'/home/jk21/Documents/hmd/jk_classifier'"
      ]
     },
     "execution_count": 7,
     "metadata": {},
     "output_type": "execute_result"
    }
   ],
   "source": [
    "pwd"
   ]
  },
  {
   "cell_type": "code",
   "execution_count": 8,
   "id": "5941be65",
   "metadata": {},
   "outputs": [],
   "source": [
    "data_folder =  'physionet.org/files/circor-heart-sound/1.0.3/training_data'\n",
    "train_folder =  '/home/jk21/Downloads/Data/data/murmur/train'\n",
    "test_folder = '/home/jk21/Downloads/Data/data/murmur/test'\n"
   ]
  },
  {
   "cell_type": "code",
   "execution_count": 9,
   "id": "874608a2",
   "metadata": {},
   "outputs": [],
   "source": [
    "model_folder = 'lcnn2'"
   ]
  },
  {
   "cell_type": "code",
   "execution_count": 10,
   "id": "6f5d9c43",
   "metadata": {},
   "outputs": [
    {
     "data": {
      "text/plain": [
       "'lcnn2'"
      ]
     },
     "execution_count": 10,
     "metadata": {},
     "output_type": "execute_result"
    }
   ],
   "source": [
    "model_folder"
   ]
  },
  {
   "cell_type": "code",
   "execution_count": 11,
   "id": "621c098c",
   "metadata": {},
   "outputs": [],
   "source": [
    "from tensorflow import keras\n",
    "from tensorflow.keras import layers\n",
    "from tensorflow.keras.callbacks import LearningRateScheduler, ModelCheckpoint"
   ]
  },
  {
   "cell_type": "code",
   "execution_count": 12,
   "id": "30176fd9",
   "metadata": {},
   "outputs": [],
   "source": [
    "def sigmoidal_decay(e, start=0, end=100, lr_start=1e-3, lr_end=1e-5):\n",
    "    if e < start:\n",
    "        return lr_start\n",
    "    elif e > end:\n",
    "        return lr_end\n",
    "\n",
    "    middle = (start + end) / 2\n",
    "    s = lambda x: 1 / (1 + np.exp(-x))\n",
    "\n",
    "    return s(13 * (-e + middle) / np.abs(end - start)) * np.abs(lr_start - lr_end) + lr_end"
   ]
  },
  {
   "cell_type": "code",
   "execution_count": 13,
   "id": "dddfc883",
   "metadata": {},
   "outputs": [],
   "source": [
    "patient_files_trn = find_patient_files(train_folder)\n",
    "patient_files_test = find_patient_files(test_folder)"
   ]
  },
  {
   "cell_type": "code",
   "execution_count": 14,
   "id": "c54b3c19",
   "metadata": {},
   "outputs": [],
   "source": [
    "params_feature = {'samp_sec': 20,\n",
    "                  #### melspec, stft 피쳐 옵션들  \n",
    "                  'pre_emphasis': 0,\n",
    "                  'hop_length': 128,\n",
    "                  'win_length':256,\n",
    "                  'n_mels': 100,\n",
    "                  #### cqt 피쳐 옵션들  \n",
    "                  'filter_scale': 1,\n",
    "                  'n_bins': 80,\n",
    "                  'fmin': 10\n",
    "}"
   ]
  },
  {
   "cell_type": "code",
   "execution_count": null,
   "id": "33ecd1c6",
   "metadata": {
    "scrolled": true
   },
   "outputs": [
    {
     "name": "stderr",
     "output_type": "stream",
     "text": [
      "  0%|                                           | 2/751 [00:06<42:48,  3.43s/it]"
     ]
    },
    {
     "name": "stdout",
     "output_type": "stream",
     "text": [
      "/home/jk21/Downloads/Data/data/murmur/train/9983_TV.wav\n"
     ]
    },
    {
     "name": "stderr",
     "output_type": "stream",
     "text": [
      "  0%|▏                                          | 3/751 [00:10<42:21,  3.40s/it]/home/jk21/.local/lib/python3.8/site-packages/numpy/core/fromnumeric.py:3474: RuntimeWarning: Mean of empty slice.\n",
      "  return _methods._mean(a, axis=axis, dtype=dtype,\n",
      "/home/jk21/.local/lib/python3.8/site-packages/numpy/core/_methods.py:189: RuntimeWarning: invalid value encountered in double_scalars\n",
      "  ret = ret.dtype.type(ret / rcount)\n",
      "  1%|▎                                          | 6/751 [00:20<42:01,  3.38s/it]"
     ]
    }
   ],
   "source": [
    "features_trn, mel_input_shape, cqt_input_shape, stft_input_shape = get_features_3lb_all(train_folder, patient_files_trn, **params_feature,use_mel = True, use_cqt = False, use_stft = False,use_rr=True,use_raw=False)"
   ]
  },
  {
   "cell_type": "code",
   "execution_count": null,
   "id": "6ce8a8db",
   "metadata": {
    "scrolled": true
   },
   "outputs": [],
   "source": [
    "features_test, _, _, _ = get_features_3lb_all(test_folder, patient_files_test, **params_feature,use_mel = True, use_cqt = False, use_stft = False,use_rr=True,use_raw=False)"
   ]
  },
  {
   "cell_type": "code",
   "execution_count": null,
   "id": "c9f005ce",
   "metadata": {},
   "outputs": [],
   "source": [
    "pwd"
   ]
  },
  {
   "cell_type": "code",
   "execution_count": null,
   "id": "265c9e8a",
   "metadata": {},
   "outputs": [],
   "source": [
    "with open('features_trn.pickle', 'wb') as f:\n",
    "    pickle.dump(features_trn, f, pickle.HIGHEST_PROTOCOL)"
   ]
  },
  {
   "cell_type": "code",
   "execution_count": null,
   "id": "ce27e413",
   "metadata": {},
   "outputs": [],
   "source": [
    "with open('features_test.pickle', 'wb') as f:\n",
    "    pickle.dump(features_test, f, pickle.HIGHEST_PROTOCOL)"
   ]
  },
  {
   "cell_type": "code",
   "execution_count": 15,
   "id": "947f08cb",
   "metadata": {},
   "outputs": [],
   "source": [
    "with open('features_trn.pickle', 'rb') as f:\n",
    "    features_trn = pickle.load(f)"
   ]
  },
  {
   "cell_type": "code",
   "execution_count": 16,
   "id": "22f81e95",
   "metadata": {},
   "outputs": [],
   "source": [
    "with open('features_trn.pickle', 'rb') as f:\n",
    "    features_test = pickle.load(f)"
   ]
  },
  {
   "cell_type": "code",
   "execution_count": 17,
   "id": "1b74565c",
   "metadata": {},
   "outputs": [
    {
     "data": {
      "text/plain": [
       "dict_keys(['id', 'age', 'sex', 'hw', 'preg', 'loc', 'mel1', 'cqt1', 'stft1', 'raw1', 'rr1', 'mm_labels', 'out_labels'])"
      ]
     },
     "execution_count": 17,
     "metadata": {},
     "output_type": "execute_result"
    }
   ],
   "source": [
    "features_trn.keys()"
   ]
  },
  {
   "cell_type": "code",
   "execution_count": null,
   "id": "03e6ab10",
   "metadata": {},
   "outputs": [],
   "source": []
  },
  {
   "cell_type": "code",
   "execution_count": 18,
   "id": "f8678021",
   "metadata": {},
   "outputs": [
    {
     "data": {
      "text/plain": [
       "(2532, 100, 626, 1)"
      ]
     },
     "execution_count": 18,
     "metadata": {},
     "output_type": "execute_result"
    }
   ],
   "source": [
    "features_trn['mel1'].shape"
   ]
  },
  {
   "cell_type": "code",
   "execution_count": 19,
   "id": "b8536d2c",
   "metadata": {},
   "outputs": [],
   "source": [
    "mel_input_shape = (100,626,1)"
   ]
  },
  {
   "cell_type": "code",
   "execution_count": 20,
   "id": "4e6505a1",
   "metadata": {},
   "outputs": [],
   "source": [
    "cqt_input_shape=(1,1,1)"
   ]
  },
  {
   "cell_type": "code",
   "execution_count": 21,
   "id": "c8da62df",
   "metadata": {},
   "outputs": [],
   "source": [
    "stft_input_shape=(1,1,1)"
   ]
  },
  {
   "cell_type": "code",
   "execution_count": 22,
   "id": "d6c16218",
   "metadata": {},
   "outputs": [
    {
     "name": "stderr",
     "output_type": "stream",
     "text": [
      "2022-07-20 14:10:27.652072: I tensorflow/stream_executor/cuda/cuda_gpu_executor.cc:936] successful NUMA node read from SysFS had negative value (-1), but there must be at least one NUMA node, so returning NUMA node zero\n",
      "2022-07-20 14:10:27.656389: I tensorflow/stream_executor/cuda/cuda_gpu_executor.cc:936] successful NUMA node read from SysFS had negative value (-1), but there must be at least one NUMA node, so returning NUMA node zero\n",
      "2022-07-20 14:10:27.656733: I tensorflow/stream_executor/cuda/cuda_gpu_executor.cc:936] successful NUMA node read from SysFS had negative value (-1), but there must be at least one NUMA node, so returning NUMA node zero\n",
      "2022-07-20 14:10:27.657620: I tensorflow/core/platform/cpu_feature_guard.cc:151] This TensorFlow binary is optimized with oneAPI Deep Neural Network Library (oneDNN) to use the following CPU instructions in performance-critical operations:  AVX2 FMA\n",
      "To enable them in other operations, rebuild TensorFlow with the appropriate compiler flags.\n",
      "2022-07-20 14:10:27.658516: I tensorflow/stream_executor/cuda/cuda_gpu_executor.cc:936] successful NUMA node read from SysFS had negative value (-1), but there must be at least one NUMA node, so returning NUMA node zero\n",
      "2022-07-20 14:10:27.658901: I tensorflow/stream_executor/cuda/cuda_gpu_executor.cc:936] successful NUMA node read from SysFS had negative value (-1), but there must be at least one NUMA node, so returning NUMA node zero\n",
      "2022-07-20 14:10:27.659266: I tensorflow/stream_executor/cuda/cuda_gpu_executor.cc:936] successful NUMA node read from SysFS had negative value (-1), but there must be at least one NUMA node, so returning NUMA node zero\n",
      "2022-07-20 14:10:27.987215: I tensorflow/stream_executor/cuda/cuda_gpu_executor.cc:936] successful NUMA node read from SysFS had negative value (-1), but there must be at least one NUMA node, so returning NUMA node zero\n",
      "2022-07-20 14:10:27.987528: I tensorflow/stream_executor/cuda/cuda_gpu_executor.cc:936] successful NUMA node read from SysFS had negative value (-1), but there must be at least one NUMA node, so returning NUMA node zero\n",
      "2022-07-20 14:10:27.987801: I tensorflow/stream_executor/cuda/cuda_gpu_executor.cc:936] successful NUMA node read from SysFS had negative value (-1), but there must be at least one NUMA node, so returning NUMA node zero\n",
      "2022-07-20 14:10:27.988054: I tensorflow/core/common_runtime/gpu/gpu_device.cc:1525] Created device /job:localhost/replica:0/task:0/device:GPU:0 with 9291 MB memory:  -> device: 0, name: GeForce RTX 2080 Ti, pci bus id: 0000:01:00.0, compute capability: 7.5\n"
     ]
    }
   ],
   "source": [
    "model1 = get_LCNN_o_1_dr(mel_input_shape, cqt_input_shape,stft_input_shape,use_mel = True, use_cqt = False, use_stft = False,ext = True,ord1=False)\n",
    "model2 = get_LCNN_o_1_dr(mel_input_shape, cqt_input_shape,stft_input_shape,use_mel = True, use_cqt = False, use_stft = False,ext = True,ord1=True)\n"
   ]
  },
  {
   "cell_type": "code",
   "execution_count": 23,
   "id": "2bb11674",
   "metadata": {},
   "outputs": [
    {
     "name": "stdout",
     "output_type": "stream",
     "text": [
      "Model: \"model\"\n",
      "__________________________________________________________________________________________________\n",
      " Layer (type)                   Output Shape         Param #     Connected to                     \n",
      "==================================================================================================\n",
      " mel (InputLayer)               [(None, 100, 626, 1  0           []                               \n",
      "                                )]                                                                \n",
      "                                                                                                  \n",
      " conv2d (Conv2D)                (None, 100, 626, 32  832         ['mel[0][0]']                    \n",
      "                                )                                                                 \n",
      "                                                                                                  \n",
      " conv2d_1 (Conv2D)              (None, 100, 626, 32  832         ['mel[0][0]']                    \n",
      "                                )                                                                 \n",
      "                                                                                                  \n",
      " maximum (Maximum)              (None, 100, 626, 32  0           ['conv2d[0][0]',                 \n",
      "                                )                                 'conv2d_1[0][0]']               \n",
      "                                                                                                  \n",
      " max_pooling2d (MaxPooling2D)   (None, 50, 313, 32)  0           ['maximum[0][0]']                \n",
      "                                                                                                  \n",
      " conv2d_2 (Conv2D)              (None, 50, 313, 32)  1056        ['max_pooling2d[0][0]']          \n",
      "                                                                                                  \n",
      " conv2d_3 (Conv2D)              (None, 50, 313, 32)  1056        ['max_pooling2d[0][0]']          \n",
      "                                                                                                  \n",
      " maximum_1 (Maximum)            (None, 50, 313, 32)  0           ['conv2d_2[0][0]',               \n",
      "                                                                  'conv2d_3[0][0]']               \n",
      "                                                                                                  \n",
      " batch_normalization (BatchNorm  (None, 50, 313, 32)  96         ['maximum_1[0][0]']              \n",
      " alization)                                                                                       \n",
      "                                                                                                  \n",
      " conv2d_4 (Conv2D)              (None, 50, 313, 48)  13872       ['batch_normalization[0][0]']    \n",
      "                                                                                                  \n",
      " conv2d_5 (Conv2D)              (None, 50, 313, 48)  13872       ['batch_normalization[0][0]']    \n",
      "                                                                                                  \n",
      " maximum_2 (Maximum)            (None, 50, 313, 48)  0           ['conv2d_4[0][0]',               \n",
      "                                                                  'conv2d_5[0][0]']               \n",
      "                                                                                                  \n",
      " max_pooling2d_1 (MaxPooling2D)  (None, 25, 157, 48)  0          ['maximum_2[0][0]']              \n",
      "                                                                                                  \n",
      " batch_normalization_1 (BatchNo  (None, 25, 157, 48)  144        ['max_pooling2d_1[0][0]']        \n",
      " rmalization)                                                                                     \n",
      "                                                                                                  \n",
      " conv2d_6 (Conv2D)              (None, 25, 157, 48)  2352        ['batch_normalization_1[0][0]']  \n",
      "                                                                                                  \n",
      " conv2d_7 (Conv2D)              (None, 25, 157, 48)  2352        ['batch_normalization_1[0][0]']  \n",
      "                                                                                                  \n",
      " maximum_3 (Maximum)            (None, 25, 157, 48)  0           ['conv2d_6[0][0]',               \n",
      "                                                                  'conv2d_7[0][0]']               \n",
      "                                                                                                  \n",
      " batch_normalization_2 (BatchNo  (None, 25, 157, 48)  144        ['maximum_3[0][0]']              \n",
      " rmalization)                                                                                     \n",
      "                                                                                                  \n",
      " conv2d_8 (Conv2D)              (None, 25, 157, 64)  27712       ['batch_normalization_2[0][0]']  \n",
      "                                                                                                  \n",
      " conv2d_9 (Conv2D)              (None, 25, 157, 64)  27712       ['batch_normalization_2[0][0]']  \n",
      "                                                                                                  \n",
      " maximum_4 (Maximum)            (None, 25, 157, 64)  0           ['conv2d_8[0][0]',               \n",
      "                                                                  'conv2d_9[0][0]']               \n",
      "                                                                                                  \n",
      " max_pooling2d_2 (MaxPooling2D)  (None, 13, 79, 64)  0           ['maximum_4[0][0]']              \n",
      "                                                                                                  \n",
      " conv2d_10 (Conv2D)             (None, 13, 79, 64)   4160        ['max_pooling2d_2[0][0]']        \n",
      "                                                                                                  \n",
      " conv2d_11 (Conv2D)             (None, 13, 79, 64)   4160        ['max_pooling2d_2[0][0]']        \n",
      "                                                                                                  \n",
      " maximum_5 (Maximum)            (None, 13, 79, 64)   0           ['conv2d_10[0][0]',              \n",
      "                                                                  'conv2d_11[0][0]']              \n",
      "                                                                                                  \n",
      " batch_normalization_3 (BatchNo  (None, 13, 79, 64)  192         ['maximum_5[0][0]']              \n",
      " rmalization)                                                                                     \n",
      "                                                                                                  \n",
      " conv2d_12 (Conv2D)             (None, 13, 79, 32)   18464       ['batch_normalization_3[0][0]']  \n",
      "                                                                                                  \n",
      " conv2d_13 (Conv2D)             (None, 13, 79, 32)   18464       ['batch_normalization_3[0][0]']  \n",
      "                                                                                                  \n",
      " maximum_6 (Maximum)            (None, 13, 79, 32)   0           ['conv2d_12[0][0]',              \n",
      "                                                                  'conv2d_13[0][0]']              \n",
      "                                                                                                  \n",
      " batch_normalization_4 (BatchNo  (None, 13, 79, 32)  96          ['maximum_6[0][0]']              \n",
      " rmalization)                                                                                     \n",
      "                                                                                                  \n",
      " conv2d_14 (Conv2D)             (None, 13, 79, 32)   1056        ['batch_normalization_4[0][0]']  \n",
      "                                                                                                  \n",
      " conv2d_15 (Conv2D)             (None, 13, 79, 32)   1056        ['batch_normalization_4[0][0]']  \n",
      "                                                                                                  \n",
      " maximum_7 (Maximum)            (None, 13, 79, 32)   0           ['conv2d_14[0][0]',              \n"
     ]
    },
    {
     "name": "stdout",
     "output_type": "stream",
     "text": [
      "                                                                  'conv2d_15[0][0]']              \n",
      "                                                                                                  \n",
      " batch_normalization_5 (BatchNo  (None, 13, 79, 32)  96          ['maximum_7[0][0]']              \n",
      " rmalization)                                                                                     \n",
      "                                                                                                  \n",
      " conv2d_16 (Conv2D)             (None, 13, 79, 32)   1056        ['batch_normalization_5[0][0]']  \n",
      "                                                                                                  \n",
      " conv2d_17 (Conv2D)             (None, 13, 79, 32)   1056        ['batch_normalization_5[0][0]']  \n",
      "                                                                                                  \n",
      " maximum_8 (Maximum)            (None, 13, 79, 32)   0           ['conv2d_16[0][0]',              \n",
      "                                                                  'conv2d_17[0][0]']              \n",
      "                                                                                                  \n",
      " age_cat (InputLayer)           [(None, 6)]          0           []                               \n",
      "                                                                                                  \n",
      " sex_cat (InputLayer)           [(None, 2)]          0           []                               \n",
      "                                                                                                  \n",
      " height_weight (InputLayer)     [(None, 2)]          0           []                               \n",
      "                                                                                                  \n",
      " loc (InputLayer)               [(None, 5)]          0           []                               \n",
      "                                                                                                  \n",
      " rr (InputLayer)                [(None, 3)]          0           []                               \n",
      "                                                                                                  \n",
      " max_pooling2d_3 (MaxPooling2D)  (None, 6, 39, 32)   0           ['maximum_8[0][0]']              \n",
      "                                                                                                  \n",
      " dense (Dense)                  (None, 2)            14          ['age_cat[0][0]']                \n",
      "                                                                                                  \n",
      " dense_1 (Dense)                (None, 1)            3           ['sex_cat[0][0]']                \n",
      "                                                                                                  \n",
      " dense_2 (Dense)                (None, 1)            3           ['height_weight[0][0]']          \n",
      "                                                                                                  \n",
      " dense_3 (Dense)                (None, 3)            18          ['loc[0][0]']                    \n",
      "                                                                                                  \n",
      " is_preg (InputLayer)           [(None, 1)]          0           []                               \n",
      "                                                                                                  \n",
      " dense_4 (Dense)                (None, 2)            8           ['rr[0][0]']                     \n",
      "                                                                                                  \n",
      " global_average_pooling2d (Glob  (None, 32)          0           ['max_pooling2d_3[0][0]']        \n",
      " alAveragePooling2D)                                                                              \n",
      "                                                                                                  \n",
      " concatenate (Concatenate)      (None, 10)           0           ['dense[0][0]',                  \n",
      "                                                                  'dense_1[0][0]',                \n",
      "                                                                  'dense_2[0][0]',                \n",
      "                                                                  'dense_3[0][0]',                \n",
      "                                                                  'is_preg[0][0]',                \n",
      "                                                                  'dense_4[0][0]']                \n",
      "                                                                                                  \n",
      " dropout (Dropout)              (None, 32)           0           ['global_average_pooling2d[0][0]'\n",
      "                                                                 ]                                \n",
      "                                                                                                  \n",
      " dense_5 (Dense)                (None, 2)            22          ['concatenate[0][0]']            \n",
      "                                                                                                  \n",
      " concatenate_1 (Concatenate)    (None, 34)           0           ['dropout[0][0]',                \n",
      "                                                                  'dense_5[0][0]']                \n",
      "                                                                                                  \n",
      " cqt (InputLayer)               [(None, 1, 1, 1)]    0           []                               \n",
      "                                                                                                  \n",
      " stft (InputLayer)              [(None, 1, 1, 1)]    0           []                               \n",
      "                                                                                                  \n",
      " dense_6 (Dense)                (None, 3)            105         ['concatenate_1[0][0]']          \n",
      "                                                                                                  \n",
      "==================================================================================================\n",
      "Total params: 142,061\n",
      "Trainable params: 141,549\n",
      "Non-trainable params: 512\n",
      "__________________________________________________________________________________________________\n"
     ]
    }
   ],
   "source": [
    "model1.summary()"
   ]
  },
  {
   "cell_type": "code",
   "execution_count": null,
   "id": "9b675301",
   "metadata": {},
   "outputs": [],
   "source": []
  },
  {
   "cell_type": "code",
   "execution_count": null,
   "id": "42c95cb7",
   "metadata": {},
   "outputs": [],
   "source": []
  },
  {
   "cell_type": "code",
   "execution_count": 24,
   "id": "e2ef8177",
   "metadata": {
    "scrolled": false
   },
   "outputs": [
    {
     "name": "stdout",
     "output_type": "stream",
     "text": [
      "Epoch 1/100\n"
     ]
    },
    {
     "name": "stderr",
     "output_type": "stream",
     "text": [
      "2022-07-20 14:10:32.738788: I tensorflow/stream_executor/cuda/cuda_dnn.cc:368] Loaded cuDNN version 8101\n"
     ]
    },
    {
     "name": "stdout",
     "output_type": "stream",
     "text": [
      "40/40 [==============================] - 11s 185ms/step - loss: 1.7321 - accuracy: 0.6145 - auc: 0.7964 - val_loss: 7.9217 - val_accuracy: 0.2413 - val_auc: 0.3948 - lr: 9.9851e-04\n",
      "Epoch 2/100\n",
      "40/40 [==============================] - 6s 156ms/step - loss: 1.2342 - accuracy: 0.6133 - auc: 0.8100 - val_loss: 3.6468 - val_accuracy: 0.2413 - val_auc: 0.5200 - lr: 9.9831e-04\n",
      "Epoch 3/100\n",
      "40/40 [==============================] - 6s 153ms/step - loss: 1.1335 - accuracy: 0.6609 - auc: 0.8358 - val_loss: 0.9872 - val_accuracy: 0.2551 - val_auc: 0.5721 - lr: 9.9807e-04\n",
      "Epoch 4/100\n",
      "40/40 [==============================] - 6s 155ms/step - loss: 1.1148 - accuracy: 0.6824 - auc: 0.8407 - val_loss: 0.8735 - val_accuracy: 0.3953 - val_auc: 0.6342 - lr: 9.9781e-04\n",
      "Epoch 5/100\n",
      "40/40 [==============================] - 6s 155ms/step - loss: 1.1001 - accuracy: 0.6918 - auc: 0.8496 - val_loss: 0.8124 - val_accuracy: 0.3574 - val_auc: 0.6340 - lr: 9.9750e-04\n",
      "Epoch 6/100\n",
      "40/40 [==============================] - 6s 156ms/step - loss: 1.0911 - accuracy: 0.7297 - auc: 0.8628 - val_loss: 0.7490 - val_accuracy: 0.4870 - val_auc: 0.7064 - lr: 9.9716e-04\n",
      "Epoch 7/100\n",
      "40/40 [==============================] - 6s 155ms/step - loss: 1.0976 - accuracy: 0.7191 - auc: 0.8623 - val_loss: 0.6350 - val_accuracy: 0.7658 - val_auc: 0.8775 - lr: 9.9676e-04\n",
      "Epoch 8/100\n",
      "40/40 [==============================] - 6s 156ms/step - loss: 1.0954 - accuracy: 0.7379 - auc: 0.8616 - val_loss: 0.6258 - val_accuracy: 0.7599 - val_auc: 0.8780 - lr: 9.9632e-04\n",
      "Epoch 9/100\n",
      "40/40 [==============================] - 6s 158ms/step - loss: 1.0758 - accuracy: 0.7203 - auc: 0.8596 - val_loss: 0.8554 - val_accuracy: 0.3262 - val_auc: 0.6266 - lr: 9.9581e-04\n",
      "Epoch 10/100\n",
      "40/40 [==============================] - 6s 160ms/step - loss: 1.0692 - accuracy: 0.7379 - auc: 0.8637 - val_loss: 0.8174 - val_accuracy: 0.4017 - val_auc: 0.6528 - lr: 9.9523e-04\n",
      "Epoch 11/100\n",
      "40/40 [==============================] - 6s 157ms/step - loss: 1.0550 - accuracy: 0.7520 - auc: 0.8650 - val_loss: 0.5090 - val_accuracy: 0.8167 - val_auc: 0.9059 - lr: 9.9457e-04\n",
      "Epoch 12/100\n",
      "40/40 [==============================] - 6s 156ms/step - loss: 1.0663 - accuracy: 0.7441 - auc: 0.8669 - val_loss: 0.4933 - val_accuracy: 0.8175 - val_auc: 0.9046 - lr: 9.9382e-04\n",
      "Epoch 13/100\n",
      "40/40 [==============================] - 6s 156ms/step - loss: 1.0632 - accuracy: 0.7426 - auc: 0.8703 - val_loss: 0.5358 - val_accuracy: 0.8254 - val_auc: 0.9098 - lr: 9.9297e-04\n",
      "Epoch 14/100\n",
      "40/40 [==============================] - 6s 156ms/step - loss: 1.0474 - accuracy: 0.7660 - auc: 0.8683 - val_loss: 0.5236 - val_accuracy: 0.8164 - val_auc: 0.9045 - lr: 9.9200e-04\n",
      "Epoch 15/100\n",
      "40/40 [==============================] - 6s 158ms/step - loss: 1.0484 - accuracy: 0.7469 - auc: 0.8677 - val_loss: 0.5373 - val_accuracy: 0.8381 - val_auc: 0.9092 - lr: 9.9090e-04\n",
      "Epoch 16/100\n",
      "40/40 [==============================] - 6s 156ms/step - loss: 1.0173 - accuracy: 0.7656 - auc: 0.8698 - val_loss: 0.4699 - val_accuracy: 0.8302 - val_auc: 0.9105 - lr: 9.8965e-04\n",
      "Epoch 17/100\n",
      "40/40 [==============================] - 6s 157ms/step - loss: 1.0459 - accuracy: 0.7594 - auc: 0.8707 - val_loss: 0.5769 - val_accuracy: 0.7974 - val_auc: 0.8885 - lr: 9.8823e-04\n",
      "Epoch 18/100\n",
      "40/40 [==============================] - 6s 156ms/step - loss: 1.0337 - accuracy: 0.7742 - auc: 0.8767 - val_loss: 0.5495 - val_accuracy: 0.8468 - val_auc: 0.9155 - lr: 9.8662e-04\n",
      "Epoch 19/100\n",
      "40/40 [==============================] - 6s 156ms/step - loss: 1.0381 - accuracy: 0.7426 - auc: 0.8703 - val_loss: 0.5134 - val_accuracy: 0.8207 - val_auc: 0.9063 - lr: 9.8479e-04\n",
      "Epoch 20/100\n",
      "40/40 [==============================] - 6s 157ms/step - loss: 1.0115 - accuracy: 0.7750 - auc: 0.8797 - val_loss: 0.5126 - val_accuracy: 0.8377 - val_auc: 0.9151 - lr: 9.8271e-04\n",
      "Epoch 21/100\n",
      "40/40 [==============================] - 6s 157ms/step - loss: 1.0295 - accuracy: 0.7625 - auc: 0.8747 - val_loss: 0.4956 - val_accuracy: 0.8444 - val_auc: 0.9165 - lr: 9.8036e-04\n",
      "Epoch 22/100\n",
      "40/40 [==============================] - 6s 157ms/step - loss: 0.9963 - accuracy: 0.7641 - auc: 0.8765 - val_loss: 0.4834 - val_accuracy: 0.8152 - val_auc: 0.9060 - lr: 9.7769e-04\n",
      "Epoch 23/100\n",
      "40/40 [==============================] - 6s 157ms/step - loss: 1.0555 - accuracy: 0.7504 - auc: 0.8725 - val_loss: 0.5282 - val_accuracy: 0.8626 - val_auc: 0.9244 - lr: 9.7468e-04\n",
      "Epoch 24/100\n",
      "40/40 [==============================] - 6s 157ms/step - loss: 1.0066 - accuracy: 0.7512 - auc: 0.8736 - val_loss: 0.5473 - val_accuracy: 0.7848 - val_auc: 0.8865 - lr: 9.7126e-04\n",
      "Epoch 25/100\n",
      "40/40 [==============================] - 6s 158ms/step - loss: 1.0141 - accuracy: 0.7820 - auc: 0.8767 - val_loss: 0.5338 - val_accuracy: 0.8464 - val_auc: 0.9183 - lr: 9.6740e-04\n",
      "Epoch 26/100\n",
      "40/40 [==============================] - 6s 160ms/step - loss: 1.0345 - accuracy: 0.7750 - auc: 0.8806 - val_loss: 0.5900 - val_accuracy: 0.8523 - val_auc: 0.9166 - lr: 9.6305e-04\n",
      "Epoch 27/100\n",
      "40/40 [==============================] - 6s 157ms/step - loss: 1.0496 - accuracy: 0.7445 - auc: 0.8738 - val_loss: 0.5457 - val_accuracy: 0.8566 - val_auc: 0.9233 - lr: 9.5813e-04\n",
      "Epoch 28/100\n",
      "40/40 [==============================] - 6s 157ms/step - loss: 1.0105 - accuracy: 0.7742 - auc: 0.8801 - val_loss: 0.5437 - val_accuracy: 0.8539 - val_auc: 0.9187 - lr: 9.5260e-04\n",
      "Epoch 29/100\n",
      "40/40 [==============================] - 6s 158ms/step - loss: 1.0096 - accuracy: 0.7695 - auc: 0.8799 - val_loss: 0.5311 - val_accuracy: 0.8152 - val_auc: 0.9091 - lr: 9.4637e-04\n",
      "Epoch 30/100\n",
      "40/40 [==============================] - 6s 160ms/step - loss: 1.0369 - accuracy: 0.7480 - auc: 0.8761 - val_loss: 0.5898 - val_accuracy: 0.8476 - val_auc: 0.9184 - lr: 9.3939e-04\n",
      "Epoch 31/100\n",
      "40/40 [==============================] - 6s 161ms/step - loss: 1.0242 - accuracy: 0.7645 - auc: 0.8763 - val_loss: 0.7049 - val_accuracy: 0.6153 - val_auc: 0.7729 - lr: 9.3155e-04\n",
      "Epoch 32/100\n",
      "40/40 [==============================] - 6s 157ms/step - loss: 1.0027 - accuracy: 0.7531 - auc: 0.8789 - val_loss: 0.6275 - val_accuracy: 0.7188 - val_auc: 0.8428 - lr: 9.2279e-04\n",
      "Epoch 33/100\n",
      "40/40 [==============================] - 6s 159ms/step - loss: 1.0052 - accuracy: 0.7660 - auc: 0.8808 - val_loss: 0.5588 - val_accuracy: 0.7919 - val_auc: 0.8886 - lr: 9.1301e-04\n",
      "Epoch 34/100\n",
      "40/40 [==============================] - 6s 158ms/step - loss: 1.0283 - accuracy: 0.7602 - auc: 0.8722 - val_loss: 0.4269 - val_accuracy: 0.8452 - val_auc: 0.9191 - lr: 9.0213e-04\n",
      "Epoch 35/100\n",
      "40/40 [==============================] - 6s 157ms/step - loss: 1.0474 - accuracy: 0.7535 - auc: 0.8772 - val_loss: 0.5143 - val_accuracy: 0.8610 - val_auc: 0.9244 - lr: 8.9005e-04\n",
      "Epoch 36/100\n",
      "40/40 [==============================] - 6s 157ms/step - loss: 1.0121 - accuracy: 0.7773 - auc: 0.8771 - val_loss: 0.4762 - val_accuracy: 0.8503 - val_auc: 0.9096 - lr: 8.7669e-04\n",
      "Epoch 37/100\n",
      "40/40 [==============================] - 6s 157ms/step - loss: 1.0012 - accuracy: 0.7656 - auc: 0.8750 - val_loss: 0.4361 - val_accuracy: 0.8483 - val_auc: 0.9156 - lr: 8.6196e-04\n",
      "Epoch 38/100\n",
      "40/40 [==============================] - 6s 157ms/step - loss: 1.0130 - accuracy: 0.7719 - auc: 0.8798 - val_loss: 0.5051 - val_accuracy: 0.8531 - val_auc: 0.9220 - lr: 8.4578e-04\n",
      "Epoch 39/100\n",
      "40/40 [==============================] - 6s 156ms/step - loss: 1.0245 - accuracy: 0.7660 - auc: 0.8763 - val_loss: 0.4885 - val_accuracy: 0.8246 - val_auc: 0.9159 - lr: 8.2809e-04\n",
      "Epoch 40/100\n",
      "40/40 [==============================] - 6s 156ms/step - loss: 0.9928 - accuracy: 0.7797 - auc: 0.8810 - val_loss: 0.6860 - val_accuracy: 0.6260 - val_auc: 0.7983 - lr: 8.0883e-04\n",
      "Epoch 41/100\n",
      "40/40 [==============================] - 6s 157ms/step - loss: 1.0328 - accuracy: 0.7539 - auc: 0.8816 - val_loss: 0.4867 - val_accuracy: 0.8665 - val_auc: 0.9274 - lr: 7.8798e-04\n",
      "Epoch 42/100\n",
      "40/40 [==============================] - 6s 157ms/step - loss: 1.0071 - accuracy: 0.7715 - auc: 0.8773 - val_loss: 0.4867 - val_accuracy: 0.8365 - val_auc: 0.9177 - lr: 7.6551e-04\n",
      "Epoch 43/100\n"
     ]
    },
    {
     "name": "stdout",
     "output_type": "stream",
     "text": [
      "40/40 [==============================] - 6s 157ms/step - loss: 0.9850 - accuracy: 0.7727 - auc: 0.8773 - val_loss: 0.4461 - val_accuracy: 0.8507 - val_auc: 0.9229 - lr: 7.4146e-04\n",
      "Epoch 44/100\n",
      "40/40 [==============================] - 6s 158ms/step - loss: 0.9910 - accuracy: 0.7727 - auc: 0.8812 - val_loss: 0.5183 - val_accuracy: 0.8555 - val_auc: 0.9172 - lr: 7.1587e-04\n",
      "Epoch 45/100\n",
      "40/40 [==============================] - 6s 157ms/step - loss: 0.9758 - accuracy: 0.7762 - auc: 0.8858 - val_loss: 0.5383 - val_accuracy: 0.8468 - val_auc: 0.9173 - lr: 6.8882e-04\n",
      "Epoch 46/100\n",
      "40/40 [==============================] - 6s 157ms/step - loss: 0.9871 - accuracy: 0.7758 - auc: 0.8804 - val_loss: 0.5450 - val_accuracy: 0.8614 - val_auc: 0.9272 - lr: 6.6044e-04\n",
      "Epoch 47/100\n",
      "40/40 [==============================] - 6s 158ms/step - loss: 1.0086 - accuracy: 0.7688 - auc: 0.8777 - val_loss: 0.4232 - val_accuracy: 0.8669 - val_auc: 0.9249 - lr: 6.3088e-04\n",
      "Epoch 48/100\n",
      "40/40 [==============================] - 6s 157ms/step - loss: 1.0081 - accuracy: 0.7730 - auc: 0.8767 - val_loss: 0.4851 - val_accuracy: 0.8780 - val_auc: 0.9308 - lr: 6.0032e-04\n",
      "Epoch 49/100\n",
      "40/40 [==============================] - 6s 157ms/step - loss: 0.9768 - accuracy: 0.7859 - auc: 0.8846 - val_loss: 0.4169 - val_accuracy: 0.8570 - val_auc: 0.9241 - lr: 5.6899e-04\n",
      "Epoch 50/100\n",
      "40/40 [==============================] - 6s 157ms/step - loss: 1.0041 - accuracy: 0.7652 - auc: 0.8808 - val_loss: 0.4666 - val_accuracy: 0.8657 - val_auc: 0.9273 - lr: 5.3713e-04\n",
      "Epoch 51/100\n",
      "40/40 [==============================] - 6s 157ms/step - loss: 0.9568 - accuracy: 0.7953 - auc: 0.8851 - val_loss: 0.4719 - val_accuracy: 0.8752 - val_auc: 0.9303 - lr: 5.0500e-04\n",
      "Epoch 52/100\n",
      "40/40 [==============================] - 6s 158ms/step - loss: 1.0024 - accuracy: 0.7824 - auc: 0.8790 - val_loss: 0.5209 - val_accuracy: 0.8633 - val_auc: 0.9214 - lr: 4.7287e-04\n",
      "Epoch 53/100\n",
      "40/40 [==============================] - 6s 158ms/step - loss: 0.9552 - accuracy: 0.7836 - auc: 0.8804 - val_loss: 0.4576 - val_accuracy: 0.8728 - val_auc: 0.9271 - lr: 4.4101e-04\n",
      "Epoch 54/100\n",
      "40/40 [==============================] - 6s 157ms/step - loss: 1.0300 - accuracy: 0.7723 - auc: 0.8801 - val_loss: 0.3996 - val_accuracy: 0.8566 - val_auc: 0.9249 - lr: 4.0968e-04\n",
      "Epoch 55/100\n",
      "40/40 [==============================] - 6s 158ms/step - loss: 0.9952 - accuracy: 0.7789 - auc: 0.8814 - val_loss: 0.3937 - val_accuracy: 0.8752 - val_auc: 0.9320 - lr: 3.7912e-04\n",
      "Epoch 56/100\n",
      "40/40 [==============================] - 6s 157ms/step - loss: 0.9819 - accuracy: 0.7832 - auc: 0.8808 - val_loss: 0.5057 - val_accuracy: 0.8693 - val_auc: 0.9250 - lr: 3.4956e-04\n",
      "Epoch 57/100\n",
      "40/40 [==============================] - 6s 158ms/step - loss: 0.9749 - accuracy: 0.7805 - auc: 0.8814 - val_loss: 0.4587 - val_accuracy: 0.8590 - val_auc: 0.9196 - lr: 3.2118e-04\n",
      "Epoch 58/100\n",
      "40/40 [==============================] - 6s 158ms/step - loss: 0.9537 - accuracy: 0.7730 - auc: 0.8834 - val_loss: 0.4568 - val_accuracy: 0.8811 - val_auc: 0.9322 - lr: 2.9413e-04\n",
      "Epoch 59/100\n",
      "40/40 [==============================] - 6s 159ms/step - loss: 1.0175 - accuracy: 0.7668 - auc: 0.8823 - val_loss: 0.4534 - val_accuracy: 0.8693 - val_auc: 0.9292 - lr: 2.6854e-04\n",
      "Epoch 60/100\n",
      "40/40 [==============================] - 6s 159ms/step - loss: 0.9674 - accuracy: 0.7773 - auc: 0.8870 - val_loss: 0.4109 - val_accuracy: 0.8768 - val_auc: 0.9332 - lr: 2.4449e-04\n",
      "Epoch 61/100\n",
      "40/40 [==============================] - 6s 159ms/step - loss: 1.0064 - accuracy: 0.7699 - auc: 0.8768 - val_loss: 0.4631 - val_accuracy: 0.8618 - val_auc: 0.9244 - lr: 2.2202e-04\n",
      "Epoch 62/100\n",
      "40/40 [==============================] - 6s 157ms/step - loss: 0.9861 - accuracy: 0.7855 - auc: 0.8864 - val_loss: 0.4901 - val_accuracy: 0.8649 - val_auc: 0.9209 - lr: 2.0117e-04\n",
      "Epoch 63/100\n",
      "40/40 [==============================] - 6s 158ms/step - loss: 0.9656 - accuracy: 0.7848 - auc: 0.8793 - val_loss: 0.4246 - val_accuracy: 0.8752 - val_auc: 0.9309 - lr: 1.8191e-04\n",
      "Epoch 64/100\n",
      "40/40 [==============================] - 6s 159ms/step - loss: 0.9599 - accuracy: 0.7934 - auc: 0.8885 - val_loss: 0.5103 - val_accuracy: 0.8720 - val_auc: 0.9242 - lr: 1.6422e-04\n",
      "Epoch 65/100\n",
      "40/40 [==============================] - 6s 158ms/step - loss: 0.9895 - accuracy: 0.7812 - auc: 0.8829 - val_loss: 0.5415 - val_accuracy: 0.8491 - val_auc: 0.9086 - lr: 1.4804e-04\n",
      "Epoch 66/100\n",
      "40/40 [==============================] - 6s 159ms/step - loss: 0.9987 - accuracy: 0.7676 - auc: 0.8822 - val_loss: 0.4841 - val_accuracy: 0.8898 - val_auc: 0.9313 - lr: 1.3331e-04\n",
      "Epoch 67/100\n",
      "40/40 [==============================] - 6s 158ms/step - loss: 0.9955 - accuracy: 0.7773 - auc: 0.8779 - val_loss: 0.4474 - val_accuracy: 0.8910 - val_auc: 0.9348 - lr: 1.1995e-04\n",
      "Epoch 68/100\n",
      "40/40 [==============================] - 6s 159ms/step - loss: 1.0030 - accuracy: 0.7785 - auc: 0.8888 - val_loss: 0.4767 - val_accuracy: 0.8847 - val_auc: 0.9320 - lr: 1.0787e-04\n",
      "Epoch 69/100\n",
      "40/40 [==============================] - 6s 158ms/step - loss: 0.9985 - accuracy: 0.7695 - auc: 0.8839 - val_loss: 0.5292 - val_accuracy: 0.8574 - val_auc: 0.9144 - lr: 9.6985e-05\n",
      "Epoch 70/100\n",
      "40/40 [==============================] - 6s 158ms/step - loss: 0.9813 - accuracy: 0.7770 - auc: 0.8839 - val_loss: 0.4987 - val_accuracy: 0.8772 - val_auc: 0.9255 - lr: 8.7208e-05\n",
      "Epoch 71/100\n",
      "40/40 [==============================] - 6s 159ms/step - loss: 0.9655 - accuracy: 0.7914 - auc: 0.8889 - val_loss: 0.4909 - val_accuracy: 0.8752 - val_auc: 0.9259 - lr: 7.8447e-05\n",
      "Epoch 72/100\n",
      "40/40 [==============================] - 6s 158ms/step - loss: 0.9901 - accuracy: 0.7797 - auc: 0.8821 - val_loss: 0.4746 - val_accuracy: 0.8855 - val_auc: 0.9315 - lr: 7.0614e-05\n",
      "Epoch 73/100\n",
      "40/40 [==============================] - 6s 159ms/step - loss: 0.9269 - accuracy: 0.7980 - auc: 0.8856 - val_loss: 0.4657 - val_accuracy: 0.8886 - val_auc: 0.9345 - lr: 6.3625e-05\n",
      "Epoch 74/100\n",
      "40/40 [==============================] - 6s 157ms/step - loss: 0.9453 - accuracy: 0.7934 - auc: 0.8885 - val_loss: 0.4441 - val_accuracy: 0.8910 - val_auc: 0.9346 - lr: 5.7401e-05\n",
      "Epoch 75/100\n",
      "40/40 [==============================] - 6s 159ms/step - loss: 0.9970 - accuracy: 0.7680 - auc: 0.8843 - val_loss: 0.4560 - val_accuracy: 0.8910 - val_auc: 0.9335 - lr: 5.1867e-05\n",
      "Epoch 76/100\n",
      "40/40 [==============================] - 6s 161ms/step - loss: 0.9939 - accuracy: 0.7746 - auc: 0.8860 - val_loss: 0.4637 - val_accuracy: 0.8843 - val_auc: 0.9308 - lr: 4.6954e-05\n",
      "Epoch 77/100\n",
      "40/40 [==============================] - 6s 158ms/step - loss: 0.9910 - accuracy: 0.7785 - auc: 0.8835 - val_loss: 0.4858 - val_accuracy: 0.8839 - val_auc: 0.9286 - lr: 4.2597e-05\n",
      "Epoch 78/100\n",
      "40/40 [==============================] - 6s 161ms/step - loss: 0.9918 - accuracy: 0.7805 - auc: 0.8847 - val_loss: 0.4834 - val_accuracy: 0.8843 - val_auc: 0.9288 - lr: 3.8739e-05\n",
      "Epoch 79/100\n",
      "40/40 [==============================] - 6s 162ms/step - loss: 1.0083 - accuracy: 0.7738 - auc: 0.8807 - val_loss: 0.4691 - val_accuracy: 0.8831 - val_auc: 0.9302 - lr: 3.5325e-05\n",
      "Epoch 80/100\n",
      "40/40 [==============================] - 6s 158ms/step - loss: 0.9714 - accuracy: 0.7867 - auc: 0.8873 - val_loss: 0.4684 - val_accuracy: 0.8898 - val_auc: 0.9320 - lr: 3.2307e-05\n",
      "Epoch 81/100\n",
      "40/40 [==============================] - 6s 158ms/step - loss: 0.9892 - accuracy: 0.7758 - auc: 0.8875 - val_loss: 0.4829 - val_accuracy: 0.8847 - val_auc: 0.9291 - lr: 2.9642e-05\n",
      "Epoch 82/100\n",
      "40/40 [==============================] - 6s 159ms/step - loss: 0.9866 - accuracy: 0.7902 - auc: 0.8826 - val_loss: 0.4808 - val_accuracy: 0.8859 - val_auc: 0.9293 - lr: 2.7289e-05\n",
      "Epoch 83/100\n",
      "40/40 [==============================] - 6s 158ms/step - loss: 0.9699 - accuracy: 0.7848 - auc: 0.8868 - val_loss: 0.4716 - val_accuracy: 0.8914 - val_auc: 0.9319 - lr: 2.5214e-05\n",
      "Epoch 84/100\n",
      "40/40 [==============================] - 6s 158ms/step - loss: 0.9553 - accuracy: 0.7883 - auc: 0.8925 - val_loss: 0.4614 - val_accuracy: 0.8910 - val_auc: 0.9331 - lr: 2.3384e-05\n",
      "Epoch 85/100\n"
     ]
    },
    {
     "name": "stdout",
     "output_type": "stream",
     "text": [
      "40/40 [==============================] - 6s 158ms/step - loss: 0.9820 - accuracy: 0.7805 - auc: 0.8865 - val_loss: 0.4624 - val_accuracy: 0.8910 - val_auc: 0.9329 - lr: 2.1772e-05\n",
      "Epoch 86/100\n",
      "40/40 [==============================] - 6s 158ms/step - loss: 0.9482 - accuracy: 0.7875 - auc: 0.8884 - val_loss: 0.4685 - val_accuracy: 0.8918 - val_auc: 0.9316 - lr: 2.0352e-05\n",
      "Epoch 87/100\n",
      "40/40 [==============================] - 6s 158ms/step - loss: 0.9976 - accuracy: 0.7801 - auc: 0.8891 - val_loss: 0.4854 - val_accuracy: 0.8851 - val_auc: 0.9281 - lr: 1.9102e-05\n",
      "Epoch 88/100\n",
      "40/40 [==============================] - 6s 159ms/step - loss: 0.9749 - accuracy: 0.7824 - auc: 0.8818 - val_loss: 0.4890 - val_accuracy: 0.8823 - val_auc: 0.9268 - lr: 1.8001e-05\n",
      "Epoch 89/100\n",
      "40/40 [==============================] - 6s 157ms/step - loss: 0.9879 - accuracy: 0.7688 - auc: 0.8860 - val_loss: 0.4818 - val_accuracy: 0.8847 - val_auc: 0.9293 - lr: 1.7033e-05\n",
      "Epoch 90/100\n",
      "40/40 [==============================] - 6s 159ms/step - loss: 0.9735 - accuracy: 0.7773 - auc: 0.8845 - val_loss: 0.4709 - val_accuracy: 0.8910 - val_auc: 0.9317 - lr: 1.6181e-05\n",
      "Epoch 91/100\n",
      "40/40 [==============================] - 6s 159ms/step - loss: 1.0030 - accuracy: 0.7812 - auc: 0.8863 - val_loss: 0.4737 - val_accuracy: 0.8918 - val_auc: 0.9309 - lr: 1.5431e-05\n",
      "Epoch 92/100\n",
      "40/40 [==============================] - 6s 158ms/step - loss: 0.9884 - accuracy: 0.7844 - auc: 0.8828 - val_loss: 0.4769 - val_accuracy: 0.8902 - val_auc: 0.9309 - lr: 1.4773e-05\n",
      "Epoch 93/100\n",
      "40/40 [==============================] - 6s 158ms/step - loss: 0.9756 - accuracy: 0.7848 - auc: 0.8925 - val_loss: 0.4774 - val_accuracy: 0.8914 - val_auc: 0.9308 - lr: 1.4193e-05\n",
      "Epoch 94/100\n",
      "40/40 [==============================] - 6s 158ms/step - loss: 0.9853 - accuracy: 0.7738 - auc: 0.8850 - val_loss: 0.4745 - val_accuracy: 0.8910 - val_auc: 0.9317 - lr: 1.3684e-05\n",
      "Epoch 95/100\n",
      "40/40 [==============================] - 6s 158ms/step - loss: 0.9729 - accuracy: 0.7910 - auc: 0.8837 - val_loss: 0.4746 - val_accuracy: 0.8878 - val_auc: 0.9312 - lr: 1.3236e-05\n",
      "Epoch 96/100\n",
      "40/40 [==============================] - 6s 158ms/step - loss: 0.9833 - accuracy: 0.7730 - auc: 0.8869 - val_loss: 0.4679 - val_accuracy: 0.8906 - val_auc: 0.9321 - lr: 1.2843e-05\n",
      "Epoch 97/100\n",
      "40/40 [==============================] - 6s 158ms/step - loss: 0.9641 - accuracy: 0.7902 - auc: 0.8876 - val_loss: 0.4630 - val_accuracy: 0.8914 - val_auc: 0.9327 - lr: 1.2497e-05\n",
      "Epoch 98/100\n",
      "40/40 [==============================] - 6s 158ms/step - loss: 1.0002 - accuracy: 0.7730 - auc: 0.8878 - val_loss: 0.4736 - val_accuracy: 0.8874 - val_auc: 0.9311 - lr: 1.2193e-05\n",
      "Epoch 99/100\n",
      "40/40 [==============================] - 6s 158ms/step - loss: 0.9929 - accuracy: 0.7887 - auc: 0.8837 - val_loss: 0.4804 - val_accuracy: 0.8855 - val_auc: 0.9296 - lr: 1.1927e-05\n",
      "Epoch 100/100\n",
      "40/40 [==============================] - 6s 158ms/step - loss: 0.9787 - accuracy: 0.7910 - auc: 0.8825 - val_loss: 0.4696 - val_accuracy: 0.8886 - val_auc: 0.9314 - lr: 1.1692e-05\n"
     ]
    },
    {
     "data": {
      "text/plain": [
       "<keras.callbacks.History at 0x7ffb61cb7850>"
      ]
     },
     "execution_count": 24,
     "metadata": {},
     "output_type": "execute_result"
    }
   ],
   "source": [
    "n_epoch = 100\n",
    "lr = LearningRateScheduler(lambda e: sigmoidal_decay(e, end=n_epoch))\n",
    "\n",
    "batch_size = 64\n",
    "params = {'batch_size': batch_size,\n",
    "#          'input_shape': (100, 313, 1),\n",
    "          'shuffle': True,\n",
    "          'beta_param': 0.7,\n",
    "          'mixup': True,\n",
    "#          'lowpass': [.5, [11,12,13,14,15,16,17,18]]\n",
    "#          'highpass': [.5, [78,79,80,81,82,83,84,85]]\n",
    "          'ranfilter2' : [3, [18,19,20,21,22,23]]\n",
    "#           'dropblock' : [30, 100]\n",
    "          #'device' : device\n",
    "}\n",
    "\n",
    "params_no_shuffle = {'batch_size': batch_size,\n",
    "#          'input_shape': (100, 313, 1),\n",
    "          'shuffle': False,\n",
    "          'beta_param': 0.7,\n",
    "          'mixup': False\n",
    "          #'device': device\n",
    "}\n",
    "\n",
    "TrainDGen_1 = Generator0([features_trn['age'],features_trn['sex'], features_trn['hw'], features_trn['preg'], features_trn['loc'],\n",
    "                          features_trn['rr1'],features_trn['mel1'],features_trn['stft1'],features_trn['cqt1']], \n",
    "                        features_trn['mm_labels'],  ## our Y\n",
    "                        **params)()\n",
    "\n",
    "#ValDGen_1 = Generator0([features_test[0]['age'],features_test[0]['sex'], features_test[0]['hw'], features_test[0]['preg'], features_test[0]['loc'], \n",
    "#           features_test[0]['mel1'],features_test[0]['cqt1'],features_test[0]['stft1']], \n",
    "#                        mm_lbs_test,  ## our Y\n",
    "#                        **params_no_shuffle)()\n",
    "\n",
    "class_weight = {0: 3, 1: 1., 2: 1} \n",
    "    \n",
    "model1.fit(TrainDGen_1,\n",
    "          validation_data = ([features_test['age'],features_test['sex'], features_test['hw'], \n",
    "                              features_test['preg'], features_test['loc'],features_test['rr1'], features_test['mel1'],\n",
    "                              features_test['stft1'],features_test['cqt1']], \n",
    "                             features_test['mm_labels']), \n",
    "                             callbacks=[lr],\n",
    "                              steps_per_epoch=np.ceil(len(features_test['mm_labels'])/64),\n",
    "                           class_weight=class_weight, \n",
    "                             epochs = n_epoch)\n",
    "\n"
   ]
  },
  {
   "cell_type": "code",
   "execution_count": null,
   "id": "23afdf04",
   "metadata": {},
   "outputs": [],
   "source": []
  },
  {
   "cell_type": "code",
   "execution_count": 25,
   "id": "7d5ef7ed",
   "metadata": {
    "scrolled": false
   },
   "outputs": [
    {
     "name": "stdout",
     "output_type": "stream",
     "text": [
      "Epoch 1/100\n",
      "40/40 [==============================] - 8s 180ms/step - loss: 0.9491 - accuracy: 0.5027 - auc: 0.5124 - val_loss: 1.0150 - val_accuracy: 0.5213 - val_auc: 0.5670 - lr: 9.9851e-04\n",
      "Epoch 2/100\n",
      "40/40 [==============================] - 6s 159ms/step - loss: 0.7283 - accuracy: 0.5336 - auc: 0.5363 - val_loss: 0.7188 - val_accuracy: 0.5225 - val_auc: 0.5726 - lr: 9.9831e-04\n",
      "Epoch 3/100\n",
      "40/40 [==============================] - 6s 159ms/step - loss: 0.7133 - accuracy: 0.5273 - auc: 0.5395 - val_loss: 0.6839 - val_accuracy: 0.5596 - val_auc: 0.5836 - lr: 9.9807e-04\n",
      "Epoch 4/100\n",
      "40/40 [==============================] - 6s 158ms/step - loss: 0.7043 - accuracy: 0.5359 - auc: 0.5475 - val_loss: 0.7018 - val_accuracy: 0.5371 - val_auc: 0.5635 - lr: 9.9781e-04\n",
      "Epoch 5/100\n",
      "40/40 [==============================] - 6s 158ms/step - loss: 0.6953 - accuracy: 0.5336 - auc: 0.5397 - val_loss: 0.6794 - val_accuracy: 0.5707 - val_auc: 0.5977 - lr: 9.9750e-04\n",
      "Epoch 6/100\n",
      "40/40 [==============================] - 6s 158ms/step - loss: 0.6988 - accuracy: 0.5234 - auc: 0.5327 - val_loss: 0.7026 - val_accuracy: 0.5419 - val_auc: 0.5783 - lr: 9.9716e-04\n",
      "Epoch 7/100\n",
      "40/40 [==============================] - 6s 157ms/step - loss: 0.6959 - accuracy: 0.5309 - auc: 0.5440 - val_loss: 0.6783 - val_accuracy: 0.5825 - val_auc: 0.6200 - lr: 9.9676e-04\n",
      "Epoch 8/100\n",
      "40/40 [==============================] - 6s 157ms/step - loss: 0.6904 - accuracy: 0.5426 - auc: 0.5827 - val_loss: 0.6773 - val_accuracy: 0.5735 - val_auc: 0.6024 - lr: 9.9632e-04\n",
      "Epoch 9/100\n",
      "40/40 [==============================] - 6s 157ms/step - loss: 0.6943 - accuracy: 0.5234 - auc: 0.5637 - val_loss: 0.6963 - val_accuracy: 0.5545 - val_auc: 0.5851 - lr: 9.9581e-04\n",
      "Epoch 10/100\n",
      "40/40 [==============================] - 6s 157ms/step - loss: 0.6888 - accuracy: 0.5437 - auc: 0.5768 - val_loss: 0.6683 - val_accuracy: 0.5885 - val_auc: 0.6252 - lr: 9.9523e-04\n",
      "Epoch 11/100\n",
      "40/40 [==============================] - 6s 158ms/step - loss: 0.6940 - accuracy: 0.5273 - auc: 0.5636 - val_loss: 0.6889 - val_accuracy: 0.4889 - val_auc: 0.5459 - lr: 9.9457e-04\n",
      "Epoch 12/100\n",
      "40/40 [==============================] - 6s 158ms/step - loss: 0.6894 - accuracy: 0.5492 - auc: 0.5798 - val_loss: 0.7059 - val_accuracy: 0.5648 - val_auc: 0.5923 - lr: 9.9382e-04\n",
      "Epoch 13/100\n",
      "40/40 [==============================] - 6s 158ms/step - loss: 0.6877 - accuracy: 0.5531 - auc: 0.5703 - val_loss: 0.6687 - val_accuracy: 0.5999 - val_auc: 0.6361 - lr: 9.9297e-04\n",
      "Epoch 14/100\n",
      "40/40 [==============================] - 6s 158ms/step - loss: 0.6889 - accuracy: 0.5516 - auc: 0.5797 - val_loss: 0.6671 - val_accuracy: 0.5972 - val_auc: 0.6356 - lr: 9.9200e-04\n",
      "Epoch 15/100\n",
      "40/40 [==============================] - 6s 158ms/step - loss: 0.6925 - accuracy: 0.5277 - auc: 0.5591 - val_loss: 0.6722 - val_accuracy: 0.5766 - val_auc: 0.6102 - lr: 9.9090e-04\n",
      "Epoch 16/100\n",
      "40/40 [==============================] - 6s 158ms/step - loss: 0.6937 - accuracy: 0.5230 - auc: 0.5661 - val_loss: 0.6855 - val_accuracy: 0.5217 - val_auc: 0.5603 - lr: 9.8965e-04\n",
      "Epoch 17/100\n",
      "40/40 [==============================] - 6s 158ms/step - loss: 0.6899 - accuracy: 0.5437 - auc: 0.5720 - val_loss: 0.6644 - val_accuracy: 0.5972 - val_auc: 0.6362 - lr: 9.8823e-04\n",
      "Epoch 18/100\n",
      "40/40 [==============================] - 6s 158ms/step - loss: 0.6860 - accuracy: 0.5605 - auc: 0.5983 - val_loss: 0.6737 - val_accuracy: 0.5956 - val_auc: 0.6373 - lr: 9.8662e-04\n",
      "Epoch 19/100\n",
      "40/40 [==============================] - 6s 157ms/step - loss: 0.6844 - accuracy: 0.5516 - auc: 0.5960 - val_loss: 0.6622 - val_accuracy: 0.6070 - val_auc: 0.6450 - lr: 9.8479e-04\n",
      "Epoch 20/100\n",
      "40/40 [==============================] - 6s 159ms/step - loss: 0.6897 - accuracy: 0.5266 - auc: 0.5775 - val_loss: 0.6720 - val_accuracy: 0.5940 - val_auc: 0.6314 - lr: 9.8271e-04\n",
      "Epoch 21/100\n",
      "40/40 [==============================] - 6s 158ms/step - loss: 0.6868 - accuracy: 0.5461 - auc: 0.5896 - val_loss: 0.6848 - val_accuracy: 0.5711 - val_auc: 0.6023 - lr: 9.8036e-04\n",
      "Epoch 22/100\n",
      "40/40 [==============================] - 6s 158ms/step - loss: 0.6808 - accuracy: 0.5652 - auc: 0.5965 - val_loss: 0.6574 - val_accuracy: 0.6055 - val_auc: 0.6459 - lr: 9.7769e-04\n",
      "Epoch 23/100\n",
      "40/40 [==============================] - 6s 159ms/step - loss: 0.6818 - accuracy: 0.5637 - auc: 0.6066 - val_loss: 0.6550 - val_accuracy: 0.6118 - val_auc: 0.6590 - lr: 9.7468e-04\n",
      "Epoch 24/100\n",
      "40/40 [==============================] - 6s 158ms/step - loss: 0.6827 - accuracy: 0.5660 - auc: 0.6184 - val_loss: 0.6923 - val_accuracy: 0.5213 - val_auc: 0.5652 - lr: 9.7126e-04\n",
      "Epoch 25/100\n",
      "40/40 [==============================] - 6s 158ms/step - loss: 0.6845 - accuracy: 0.5516 - auc: 0.6041 - val_loss: 0.6763 - val_accuracy: 0.5806 - val_auc: 0.6073 - lr: 9.6740e-04\n",
      "Epoch 26/100\n",
      "40/40 [==============================] - 6s 162ms/step - loss: 0.6846 - accuracy: 0.5586 - auc: 0.6069 - val_loss: 0.6598 - val_accuracy: 0.5916 - val_auc: 0.6320 - lr: 9.6305e-04\n",
      "Epoch 27/100\n",
      "40/40 [==============================] - 6s 158ms/step - loss: 0.6809 - accuracy: 0.5750 - auc: 0.6215 - val_loss: 0.6819 - val_accuracy: 0.5150 - val_auc: 0.5705 - lr: 9.5813e-04\n",
      "Epoch 28/100\n",
      "40/40 [==============================] - 6s 158ms/step - loss: 0.6858 - accuracy: 0.5574 - auc: 0.6039 - val_loss: 0.6540 - val_accuracy: 0.6311 - val_auc: 0.6806 - lr: 9.5260e-04\n",
      "Epoch 29/100\n",
      "40/40 [==============================] - 6s 162ms/step - loss: 0.6869 - accuracy: 0.5594 - auc: 0.5932 - val_loss: 0.6806 - val_accuracy: 0.5821 - val_auc: 0.6165 - lr: 9.4637e-04\n",
      "Epoch 30/100\n",
      "40/40 [==============================] - 6s 162ms/step - loss: 0.6836 - accuracy: 0.5531 - auc: 0.6120 - val_loss: 0.6540 - val_accuracy: 0.6276 - val_auc: 0.6864 - lr: 9.3939e-04\n",
      "Epoch 31/100\n",
      "40/40 [==============================] - 6s 163ms/step - loss: 0.6829 - accuracy: 0.5676 - auc: 0.6218 - val_loss: 0.6482 - val_accuracy: 0.6145 - val_auc: 0.6702 - lr: 9.3155e-04\n",
      "Epoch 32/100\n",
      "40/40 [==============================] - 6s 158ms/step - loss: 0.6792 - accuracy: 0.5660 - auc: 0.6311 - val_loss: 0.6449 - val_accuracy: 0.6315 - val_auc: 0.6840 - lr: 9.2279e-04\n",
      "Epoch 33/100\n",
      "40/40 [==============================] - 6s 158ms/step - loss: 0.6817 - accuracy: 0.5691 - auc: 0.6199 - val_loss: 0.6618 - val_accuracy: 0.6216 - val_auc: 0.6681 - lr: 9.1301e-04\n",
      "Epoch 34/100\n",
      "40/40 [==============================] - 6s 157ms/step - loss: 0.6704 - accuracy: 0.5906 - auc: 0.6486 - val_loss: 0.7523 - val_accuracy: 0.5423 - val_auc: 0.5788 - lr: 9.0213e-04\n",
      "Epoch 35/100\n",
      "40/40 [==============================] - 6s 159ms/step - loss: 0.6824 - accuracy: 0.5711 - auc: 0.6144 - val_loss: 0.6575 - val_accuracy: 0.6272 - val_auc: 0.6765 - lr: 8.9005e-04\n",
      "Epoch 36/100\n",
      "40/40 [==============================] - 6s 158ms/step - loss: 0.6806 - accuracy: 0.5750 - auc: 0.6263 - val_loss: 0.6641 - val_accuracy: 0.6248 - val_auc: 0.6465 - lr: 8.7669e-04\n",
      "Epoch 37/100\n",
      "40/40 [==============================] - 6s 158ms/step - loss: 0.6866 - accuracy: 0.5652 - auc: 0.5939 - val_loss: 0.6588 - val_accuracy: 0.6149 - val_auc: 0.6494 - lr: 8.6196e-04\n",
      "Epoch 38/100\n",
      "40/40 [==============================] - 6s 158ms/step - loss: 0.6829 - accuracy: 0.5684 - auc: 0.6177 - val_loss: 0.6510 - val_accuracy: 0.6445 - val_auc: 0.7000 - lr: 8.4578e-04\n",
      "Epoch 39/100\n",
      "40/40 [==============================] - 6s 158ms/step - loss: 0.6801 - accuracy: 0.5684 - auc: 0.6180 - val_loss: 0.6636 - val_accuracy: 0.6118 - val_auc: 0.6428 - lr: 8.2809e-04\n",
      "Epoch 40/100\n",
      "40/40 [==============================] - 6s 158ms/step - loss: 0.6744 - accuracy: 0.5871 - auc: 0.6432 - val_loss: 0.6416 - val_accuracy: 0.6177 - val_auc: 0.6733 - lr: 8.0883e-04\n",
      "Epoch 41/100\n",
      "40/40 [==============================] - 6s 158ms/step - loss: 0.6754 - accuracy: 0.5840 - auc: 0.6428 - val_loss: 0.6487 - val_accuracy: 0.6382 - val_auc: 0.6886 - lr: 7.8798e-04\n",
      "Epoch 42/100\n",
      "40/40 [==============================] - 6s 158ms/step - loss: 0.6751 - accuracy: 0.5820 - auc: 0.6463 - val_loss: 0.6587 - val_accuracy: 0.6133 - val_auc: 0.6562 - lr: 7.6551e-04\n",
      "Epoch 43/100\n"
     ]
    },
    {
     "name": "stdout",
     "output_type": "stream",
     "text": [
      "40/40 [==============================] - 6s 158ms/step - loss: 0.6772 - accuracy: 0.5684 - auc: 0.6422 - val_loss: 0.6412 - val_accuracy: 0.6465 - val_auc: 0.7084 - lr: 7.4146e-04\n",
      "Epoch 44/100\n",
      "40/40 [==============================] - 6s 158ms/step - loss: 0.6745 - accuracy: 0.5852 - auc: 0.6562 - val_loss: 0.6482 - val_accuracy: 0.5900 - val_auc: 0.6454 - lr: 7.1587e-04\n",
      "Epoch 45/100\n",
      "40/40 [==============================] - 6s 158ms/step - loss: 0.6736 - accuracy: 0.5844 - auc: 0.6438 - val_loss: 0.6830 - val_accuracy: 0.5825 - val_auc: 0.6025 - lr: 6.8882e-04\n",
      "Epoch 46/100\n",
      "40/40 [==============================] - 6s 158ms/step - loss: 0.6777 - accuracy: 0.5746 - auc: 0.6327 - val_loss: 0.6349 - val_accuracy: 0.6493 - val_auc: 0.7037 - lr: 6.6044e-04\n",
      "Epoch 47/100\n",
      "40/40 [==============================] - 6s 158ms/step - loss: 0.6762 - accuracy: 0.5836 - auc: 0.6462 - val_loss: 0.6346 - val_accuracy: 0.6536 - val_auc: 0.7106 - lr: 6.3088e-04\n",
      "Epoch 48/100\n",
      "40/40 [==============================] - 6s 158ms/step - loss: 0.6728 - accuracy: 0.5813 - auc: 0.6452 - val_loss: 0.6493 - val_accuracy: 0.6244 - val_auc: 0.6702 - lr: 6.0032e-04\n",
      "Epoch 49/100\n",
      "40/40 [==============================] - 6s 158ms/step - loss: 0.6774 - accuracy: 0.5754 - auc: 0.6448 - val_loss: 0.6435 - val_accuracy: 0.6497 - val_auc: 0.6968 - lr: 5.6899e-04\n",
      "Epoch 50/100\n",
      "40/40 [==============================] - 6s 158ms/step - loss: 0.6756 - accuracy: 0.5770 - auc: 0.6472 - val_loss: 0.6403 - val_accuracy: 0.6272 - val_auc: 0.6882 - lr: 5.3713e-04\n",
      "Epoch 51/100\n",
      "40/40 [==============================] - 6s 158ms/step - loss: 0.6740 - accuracy: 0.5809 - auc: 0.6522 - val_loss: 0.6460 - val_accuracy: 0.6469 - val_auc: 0.6836 - lr: 5.0500e-04\n",
      "Epoch 52/100\n",
      "40/40 [==============================] - 6s 157ms/step - loss: 0.6675 - accuracy: 0.5945 - auc: 0.6612 - val_loss: 0.6308 - val_accuracy: 0.6611 - val_auc: 0.7189 - lr: 4.7287e-04\n",
      "Epoch 53/100\n",
      "40/40 [==============================] - 6s 158ms/step - loss: 0.6748 - accuracy: 0.5895 - auc: 0.6454 - val_loss: 0.6511 - val_accuracy: 0.6355 - val_auc: 0.6742 - lr: 4.4101e-04\n",
      "Epoch 54/100\n",
      "40/40 [==============================] - 6s 158ms/step - loss: 0.6741 - accuracy: 0.5859 - auc: 0.6517 - val_loss: 0.6355 - val_accuracy: 0.6584 - val_auc: 0.7126 - lr: 4.0968e-04\n",
      "Epoch 55/100\n",
      "40/40 [==============================] - 6s 158ms/step - loss: 0.6792 - accuracy: 0.5629 - auc: 0.6452 - val_loss: 0.6334 - val_accuracy: 0.6619 - val_auc: 0.7220 - lr: 3.7912e-04\n",
      "Epoch 56/100\n",
      "40/40 [==============================] - 6s 158ms/step - loss: 0.6683 - accuracy: 0.5910 - auc: 0.6638 - val_loss: 0.6330 - val_accuracy: 0.6493 - val_auc: 0.7081 - lr: 3.4956e-04\n",
      "Epoch 57/100\n",
      "40/40 [==============================] - 6s 159ms/step - loss: 0.6748 - accuracy: 0.5742 - auc: 0.6531 - val_loss: 0.6555 - val_accuracy: 0.6272 - val_auc: 0.6592 - lr: 3.2118e-04\n",
      "Epoch 58/100\n",
      "40/40 [==============================] - 6s 158ms/step - loss: 0.6710 - accuracy: 0.5844 - auc: 0.6627 - val_loss: 0.6285 - val_accuracy: 0.6513 - val_auc: 0.7106 - lr: 2.9413e-04\n",
      "Epoch 59/100\n",
      "40/40 [==============================] - 6s 158ms/step - loss: 0.6705 - accuracy: 0.5984 - auc: 0.6625 - val_loss: 0.6254 - val_accuracy: 0.6663 - val_auc: 0.7246 - lr: 2.6854e-04\n",
      "Epoch 60/100\n",
      "40/40 [==============================] - 6s 158ms/step - loss: 0.6752 - accuracy: 0.5867 - auc: 0.6598 - val_loss: 0.6325 - val_accuracy: 0.6607 - val_auc: 0.7175 - lr: 2.4449e-04\n",
      "Epoch 61/100\n",
      "40/40 [==============================] - 6s 158ms/step - loss: 0.6744 - accuracy: 0.5902 - auc: 0.6760 - val_loss: 0.6340 - val_accuracy: 0.6667 - val_auc: 0.7305 - lr: 2.2202e-04\n",
      "Epoch 62/100\n",
      "40/40 [==============================] - 6s 158ms/step - loss: 0.6711 - accuracy: 0.5891 - auc: 0.6657 - val_loss: 0.6287 - val_accuracy: 0.6532 - val_auc: 0.7089 - lr: 2.0117e-04\n",
      "Epoch 63/100\n",
      "40/40 [==============================] - 6s 159ms/step - loss: 0.6694 - accuracy: 0.5898 - auc: 0.6645 - val_loss: 0.6231 - val_accuracy: 0.6635 - val_auc: 0.7255 - lr: 1.8191e-04\n",
      "Epoch 64/100\n",
      "40/40 [==============================] - 6s 158ms/step - loss: 0.6696 - accuracy: 0.5926 - auc: 0.6637 - val_loss: 0.6299 - val_accuracy: 0.6682 - val_auc: 0.7342 - lr: 1.6422e-04\n",
      "Epoch 65/100\n",
      "40/40 [==============================] - 6s 158ms/step - loss: 0.6683 - accuracy: 0.6055 - auc: 0.6668 - val_loss: 0.6252 - val_accuracy: 0.6556 - val_auc: 0.7357 - lr: 1.4804e-04\n",
      "Epoch 66/100\n",
      "40/40 [==============================] - 6s 158ms/step - loss: 0.6766 - accuracy: 0.5805 - auc: 0.6566 - val_loss: 0.6282 - val_accuracy: 0.6556 - val_auc: 0.7333 - lr: 1.3331e-04\n",
      "Epoch 67/100\n",
      "40/40 [==============================] - 6s 158ms/step - loss: 0.6695 - accuracy: 0.5879 - auc: 0.6770 - val_loss: 0.6315 - val_accuracy: 0.6623 - val_auc: 0.7153 - lr: 1.1995e-04\n",
      "Epoch 68/100\n",
      "40/40 [==============================] - 6s 158ms/step - loss: 0.6745 - accuracy: 0.5746 - auc: 0.6573 - val_loss: 0.6313 - val_accuracy: 0.6667 - val_auc: 0.7234 - lr: 1.0787e-04\n",
      "Epoch 69/100\n",
      "40/40 [==============================] - 6s 158ms/step - loss: 0.6634 - accuracy: 0.6117 - auc: 0.6719 - val_loss: 0.6242 - val_accuracy: 0.6675 - val_auc: 0.7357 - lr: 9.6985e-05\n",
      "Epoch 70/100\n",
      "40/40 [==============================] - 6s 160ms/step - loss: 0.6684 - accuracy: 0.5906 - auc: 0.6743 - val_loss: 0.6208 - val_accuracy: 0.6651 - val_auc: 0.7393 - lr: 8.7208e-05\n",
      "Epoch 71/100\n",
      "40/40 [==============================] - 6s 161ms/step - loss: 0.6620 - accuracy: 0.5945 - auc: 0.6846 - val_loss: 0.6296 - val_accuracy: 0.6497 - val_auc: 0.7083 - lr: 7.8447e-05\n",
      "Epoch 72/100\n",
      "40/40 [==============================] - 6s 160ms/step - loss: 0.6635 - accuracy: 0.5934 - auc: 0.6803 - val_loss: 0.6390 - val_accuracy: 0.6426 - val_auc: 0.6892 - lr: 7.0614e-05\n",
      "Epoch 73/100\n",
      "40/40 [==============================] - 6s 159ms/step - loss: 0.6638 - accuracy: 0.6121 - auc: 0.6782 - val_loss: 0.6162 - val_accuracy: 0.6702 - val_auc: 0.7401 - lr: 6.3625e-05\n",
      "Epoch 74/100\n",
      "40/40 [==============================] - 6s 161ms/step - loss: 0.6682 - accuracy: 0.5992 - auc: 0.6726 - val_loss: 0.6175 - val_accuracy: 0.6667 - val_auc: 0.7399 - lr: 5.7401e-05\n",
      "Epoch 75/100\n",
      "40/40 [==============================] - 6s 163ms/step - loss: 0.6689 - accuracy: 0.5934 - auc: 0.6733 - val_loss: 0.6206 - val_accuracy: 0.6754 - val_auc: 0.7357 - lr: 5.1867e-05\n",
      "Epoch 76/100\n",
      "40/40 [==============================] - 6s 158ms/step - loss: 0.6710 - accuracy: 0.6000 - auc: 0.6614 - val_loss: 0.6176 - val_accuracy: 0.6750 - val_auc: 0.7384 - lr: 4.6954e-05\n",
      "Epoch 77/100\n",
      "40/40 [==============================] - 6s 159ms/step - loss: 0.6697 - accuracy: 0.5902 - auc: 0.6660 - val_loss: 0.6192 - val_accuracy: 0.6738 - val_auc: 0.7387 - lr: 4.2597e-05\n",
      "Epoch 78/100\n",
      "40/40 [==============================] - 6s 158ms/step - loss: 0.6675 - accuracy: 0.5957 - auc: 0.6788 - val_loss: 0.6231 - val_accuracy: 0.6671 - val_auc: 0.7391 - lr: 3.8739e-05\n",
      "Epoch 79/100\n",
      "40/40 [==============================] - 6s 160ms/step - loss: 0.6636 - accuracy: 0.6000 - auc: 0.6835 - val_loss: 0.6210 - val_accuracy: 0.6750 - val_auc: 0.7348 - lr: 3.5325e-05\n",
      "Epoch 80/100\n",
      "40/40 [==============================] - 6s 158ms/step - loss: 0.6699 - accuracy: 0.5879 - auc: 0.6686 - val_loss: 0.6210 - val_accuracy: 0.6675 - val_auc: 0.7394 - lr: 3.2307e-05\n",
      "Epoch 81/100\n",
      "40/40 [==============================] - 6s 158ms/step - loss: 0.6729 - accuracy: 0.5840 - auc: 0.6593 - val_loss: 0.6230 - val_accuracy: 0.6671 - val_auc: 0.7394 - lr: 2.9642e-05\n",
      "Epoch 82/100\n",
      "40/40 [==============================] - 6s 158ms/step - loss: 0.6659 - accuracy: 0.5977 - auc: 0.6819 - val_loss: 0.6202 - val_accuracy: 0.6710 - val_auc: 0.7371 - lr: 2.7289e-05\n",
      "Epoch 83/100\n",
      "40/40 [==============================] - 6s 159ms/step - loss: 0.6748 - accuracy: 0.5918 - auc: 0.6635 - val_loss: 0.6208 - val_accuracy: 0.6734 - val_auc: 0.7405 - lr: 2.5214e-05\n",
      "Epoch 84/100\n",
      "40/40 [==============================] - 6s 161ms/step - loss: 0.6641 - accuracy: 0.6043 - auc: 0.6760 - val_loss: 0.6217 - val_accuracy: 0.6690 - val_auc: 0.7410 - lr: 2.3384e-05\n",
      "Epoch 85/100\n"
     ]
    },
    {
     "name": "stdout",
     "output_type": "stream",
     "text": [
      "40/40 [==============================] - 6s 158ms/step - loss: 0.6670 - accuracy: 0.5996 - auc: 0.6634 - val_loss: 0.6230 - val_accuracy: 0.6758 - val_auc: 0.7316 - lr: 2.1772e-05\n",
      "Epoch 86/100\n",
      "40/40 [==============================] - 6s 158ms/step - loss: 0.6618 - accuracy: 0.6000 - auc: 0.6862 - val_loss: 0.6195 - val_accuracy: 0.6742 - val_auc: 0.7383 - lr: 2.0352e-05\n",
      "Epoch 87/100\n",
      "40/40 [==============================] - 6s 158ms/step - loss: 0.6677 - accuracy: 0.5934 - auc: 0.6833 - val_loss: 0.6190 - val_accuracy: 0.6718 - val_auc: 0.7432 - lr: 1.9102e-05\n",
      "Epoch 88/100\n",
      "40/40 [==============================] - 6s 158ms/step - loss: 0.6699 - accuracy: 0.5914 - auc: 0.6648 - val_loss: 0.6189 - val_accuracy: 0.6730 - val_auc: 0.7420 - lr: 1.8001e-05\n",
      "Epoch 89/100\n",
      "40/40 [==============================] - 6s 158ms/step - loss: 0.6653 - accuracy: 0.6043 - auc: 0.6795 - val_loss: 0.6190 - val_accuracy: 0.6671 - val_auc: 0.7420 - lr: 1.7033e-05\n",
      "Epoch 90/100\n",
      "40/40 [==============================] - 6s 158ms/step - loss: 0.6647 - accuracy: 0.6023 - auc: 0.6926 - val_loss: 0.6190 - val_accuracy: 0.6718 - val_auc: 0.7430 - lr: 1.6181e-05\n",
      "Epoch 91/100\n",
      "40/40 [==============================] - 6s 158ms/step - loss: 0.6640 - accuracy: 0.6086 - auc: 0.6682 - val_loss: 0.6190 - val_accuracy: 0.6761 - val_auc: 0.7440 - lr: 1.5431e-05\n",
      "Epoch 92/100\n",
      "40/40 [==============================] - 6s 158ms/step - loss: 0.6644 - accuracy: 0.6086 - auc: 0.6742 - val_loss: 0.6185 - val_accuracy: 0.6758 - val_auc: 0.7436 - lr: 1.4773e-05\n",
      "Epoch 93/100\n",
      "40/40 [==============================] - 6s 158ms/step - loss: 0.6711 - accuracy: 0.5793 - auc: 0.6683 - val_loss: 0.6197 - val_accuracy: 0.6722 - val_auc: 0.7427 - lr: 1.4193e-05\n",
      "Epoch 94/100\n",
      "40/40 [==============================] - 6s 158ms/step - loss: 0.6636 - accuracy: 0.5969 - auc: 0.6680 - val_loss: 0.6196 - val_accuracy: 0.6761 - val_auc: 0.7404 - lr: 1.3684e-05\n",
      "Epoch 95/100\n",
      "40/40 [==============================] - 6s 159ms/step - loss: 0.6691 - accuracy: 0.5926 - auc: 0.6690 - val_loss: 0.6190 - val_accuracy: 0.6758 - val_auc: 0.7434 - lr: 1.3236e-05\n",
      "Epoch 96/100\n",
      "40/40 [==============================] - 6s 159ms/step - loss: 0.6692 - accuracy: 0.5891 - auc: 0.6631 - val_loss: 0.6193 - val_accuracy: 0.6710 - val_auc: 0.7436 - lr: 1.2843e-05\n",
      "Epoch 97/100\n",
      "40/40 [==============================] - 6s 158ms/step - loss: 0.6663 - accuracy: 0.6016 - auc: 0.6719 - val_loss: 0.6192 - val_accuracy: 0.6702 - val_auc: 0.7434 - lr: 1.2497e-05\n",
      "Epoch 98/100\n",
      "40/40 [==============================] - 6s 159ms/step - loss: 0.6690 - accuracy: 0.5906 - auc: 0.6754 - val_loss: 0.6190 - val_accuracy: 0.6742 - val_auc: 0.7437 - lr: 1.2193e-05\n",
      "Epoch 99/100\n",
      "40/40 [==============================] - 6s 160ms/step - loss: 0.6658 - accuracy: 0.6059 - auc: 0.6798 - val_loss: 0.6188 - val_accuracy: 0.6734 - val_auc: 0.7428 - lr: 1.1927e-05\n",
      "Epoch 100/100\n",
      "40/40 [==============================] - 6s 161ms/step - loss: 0.6664 - accuracy: 0.5973 - auc: 0.6750 - val_loss: 0.6187 - val_accuracy: 0.6761 - val_auc: 0.7422 - lr: 1.1692e-05\n"
     ]
    },
    {
     "data": {
      "text/plain": [
       "<keras.callbacks.History at 0x7ffb3ba65340>"
      ]
     },
     "execution_count": 25,
     "metadata": {},
     "output_type": "execute_result"
    }
   ],
   "source": [
    "n_epoch = 100\n",
    "lr = LearningRateScheduler(lambda e: sigmoidal_decay(e, end=n_epoch))\n",
    "batch_size = 64\n",
    "params = {'batch_size': batch_size,\n",
    "#          'input_shape': (100, 313, 1),\n",
    "          'shuffle': True,\n",
    "          'beta_param': 0.7,\n",
    "          'mixup': True,\n",
    "#          'lowpass': [.5, [11,12,13,14,15,16,17,18]]\n",
    "          'highpass': [.5, [78,79,80,81,82,83,84,85]],\n",
    "          'ranfilter2' : [3, [18,19,20,21,22,23]]\n",
    "#           'dropblock' : [30, 100]\n",
    "          #'device' : device\n",
    "}\n",
    "\n",
    "params_no_shuffle = {'batch_size': batch_size,\n",
    "#          'input_shape': (100, 313, 1),\n",
    "          'shuffle': False,\n",
    "          'beta_param': 0.7,\n",
    "          'mixup': False\n",
    "          #'device': device\n",
    "}\n",
    "\n",
    "TrainDGen_1 = Generator0([features_trn['age'],features_trn['sex'], features_trn['hw'], features_trn['preg'], features_trn['loc'],\n",
    "                          features_trn['rr1'],features_trn['mel1'],features_trn['stft1'],features_trn['cqt1']], \n",
    "                        features_trn['out_labels'],  ## our Y\n",
    "                        **params)()\n",
    "\n",
    "#ValDGen_1 = Generator0([features_test[0]['age'],features_test[0]['sex'], features_test[0]['hw'], features_test[0]['preg'], features_test[0]['loc'], \n",
    "#           features_test[0]['mel1'],features_test[0]['cqt1'],features_test[0]['stft1']], \n",
    "#                        features_test[2],  ## our Y\n",
    "#                        **params_no_shuffle)()\n",
    "\n",
    "    \n",
    "model2.fit(TrainDGen_1,\n",
    "          validation_data = ([features_test['age'],features_test['sex'], features_test['hw'], \n",
    "                              features_test['preg'], features_test['loc'],features_test['rr1'], features_test['mel1'],\n",
    "                              features_test['stft1'],features_test['cqt1']], \n",
    "                             features_test['out_labels']), \n",
    "                             callbacks=[lr],\n",
    "                              steps_per_epoch=np.ceil(len(features_test['out_labels'])/64),\n",
    "                             epochs = n_epoch)"
   ]
  },
  {
   "cell_type": "code",
   "execution_count": null,
   "id": "d9a89483",
   "metadata": {},
   "outputs": [],
   "source": []
  },
  {
   "cell_type": "code",
   "execution_count": 26,
   "id": "d8599d4e",
   "metadata": {},
   "outputs": [
    {
     "data": {
      "text/plain": [
       "{'samp_sec': 20,\n",
       " 'pre_emphasis': 0,\n",
       " 'hop_length': 128,\n",
       " 'win_length': 256,\n",
       " 'n_mels': 100,\n",
       " 'filter_scale': 1,\n",
       " 'n_bins': 80,\n",
       " 'fmin': 10}"
      ]
     },
     "execution_count": 26,
     "metadata": {},
     "output_type": "execute_result"
    }
   ],
   "source": [
    "params_feature"
   ]
  },
  {
   "cell_type": "code",
   "execution_count": 27,
   "id": "d76a3590",
   "metadata": {},
   "outputs": [],
   "source": [
    "params_feature['mel_shape'] = mel_input_shape\n",
    "params_feature['cqt_shape'] = cqt_input_shape\n",
    "params_feature['stft_shape'] = stft_input_shape\n"
   ]
  },
  {
   "cell_type": "code",
   "execution_count": 28,
   "id": "f915f2fc",
   "metadata": {},
   "outputs": [
    {
     "data": {
      "text/plain": [
       "{'samp_sec': 20,\n",
       " 'pre_emphasis': 0,\n",
       " 'hop_length': 128,\n",
       " 'win_length': 256,\n",
       " 'n_mels': 100,\n",
       " 'filter_scale': 1,\n",
       " 'n_bins': 80,\n",
       " 'fmin': 10,\n",
       " 'mel_shape': (100, 626, 1),\n",
       " 'cqt_shape': (1, 1, 1),\n",
       " 'stft_shape': (1, 1, 1)}"
      ]
     },
     "execution_count": 28,
     "metadata": {},
     "output_type": "execute_result"
    }
   ],
   "source": [
    "params_feature"
   ]
  },
  {
   "cell_type": "code",
   "execution_count": 29,
   "id": "ed335728",
   "metadata": {},
   "outputs": [],
   "source": [
    "import pickle as pk\n",
    "def save_challenge_model(model_folder, model1, model2, m_name1, m_name2, param_feature) :\n",
    "    os.makedirs(model_folder, exist_ok=True)\n",
    "    info_fnm = os.path.join(model_folder, 'desc.pk')\n",
    "    filename1 = os.path.join(model_folder, m_name1 + '_model1.hdf5')\n",
    "    filename2 = os.path.join(model_folder, m_name2 + '_model2.hdf5')\n",
    "    model1.save(filename1)\n",
    "    model2.save(filename2)\n",
    "    param_feature['model1'] = m_name1\n",
    "    param_feature['model2'] = m_name2\n",
    "    param_feature['model_fnm1'] = filename1\n",
    "    param_feature['model_fnm2'] = filename2\n",
    "\n",
    "    with open(info_fnm, 'wb') as f:\n",
    "        pk.dump(param_feature, f, pk.HIGHEST_PROTOCOL)\n",
    "    return 1\n",
    "    "
   ]
  },
  {
   "cell_type": "code",
   "execution_count": 30,
   "id": "284ad00b",
   "metadata": {},
   "outputs": [
    {
     "data": {
      "text/plain": [
       "'lcnn2'"
      ]
     },
     "execution_count": 30,
     "metadata": {},
     "output_type": "execute_result"
    }
   ],
   "source": [
    "model_folder"
   ]
  },
  {
   "cell_type": "code",
   "execution_count": 31,
   "id": "8bd0dfcd",
   "metadata": {},
   "outputs": [
    {
     "data": {
      "text/plain": [
       "1"
      ]
     },
     "execution_count": 31,
     "metadata": {},
     "output_type": "execute_result"
    }
   ],
   "source": [
    "save_challenge_model(model_folder, model1, model2, m_name1 = 'lcnn1', m_name2 = 'lcnn2', param_feature = params_feature)"
   ]
  },
  {
   "cell_type": "code",
   "execution_count": 32,
   "id": "aa57c8a1",
   "metadata": {},
   "outputs": [],
   "source": [
    "def load_challenge_model(model_folder, verbose):\n",
    "    info_fnm = os.path.join(model_folder, 'desc.pk')\n",
    "    with open(info_fnm, 'rb') as f:\n",
    "        info_m = pk.load(f)\n",
    "#    if info_m['model'] == 'toy' :\n",
    "#        model = get_toy(info_m['mel_shape'])\n",
    "#    filename = os.path.join(model_folder, info_m['model'] + '_model.hdf5')\n",
    "#    model.load_weights(filename)\n",
    "    return info_m"
   ]
  },
  {
   "cell_type": "code",
   "execution_count": 33,
   "id": "a14533e8",
   "metadata": {},
   "outputs": [
    {
     "data": {
      "text/plain": [
       "{'samp_sec': 20,\n",
       " 'pre_emphasis': 0,\n",
       " 'hop_length': 128,\n",
       " 'win_length': 256,\n",
       " 'n_mels': 100,\n",
       " 'filter_scale': 1,\n",
       " 'n_bins': 80,\n",
       " 'fmin': 10,\n",
       " 'mel_shape': (100, 626, 1),\n",
       " 'cqt_shape': (1, 1, 1),\n",
       " 'stft_shape': (1, 1, 1),\n",
       " 'model1': 'lcnn1',\n",
       " 'model2': 'lcnn2',\n",
       " 'model_fnm1': 'lcnn2/lcnn1_model1.hdf5',\n",
       " 'model_fnm2': 'lcnn2/lcnn2_model2.hdf5'}"
      ]
     },
     "execution_count": 33,
     "metadata": {},
     "output_type": "execute_result"
    }
   ],
   "source": [
    "params_feature"
   ]
  },
  {
   "cell_type": "code",
   "execution_count": 96,
   "id": "387aa48b",
   "metadata": {},
   "outputs": [],
   "source": [
    "def run_challenge_model(model, data, recordings, verbose,use_mel=True,use_stft=False,use_cqt=False):\n",
    "    \n",
    "    murmur_classes = ['Present', 'Unknown', 'Absent']\n",
    "    outcome_classes = ['Abnormal', 'Normal']\n",
    "    \n",
    "    if model['model1'] == 'toy1' :\n",
    "        model1 = get_toy5_1(model['mel_shape'],model['cqt_shape'],model['stft_shape'] )\n",
    "    if model['model2'] == 'toy2' :\n",
    "        model2 = get_toy5_2(model['mel_shape'],model['cqt_shape'],model['stft_shape'])\n",
    "    if model['model1'] == 'lcnn1' :\n",
    "        model1 = get_LCNN_o_1_dr(model['mel_shape'],model['cqt_shape'],model['stft_shape'], use_mel = True, use_cqt = False, use_stft = False,ord1=False,ext=True)\n",
    "    if model['model2'] == 'lcnn2' :\n",
    "        model2 = get_LCNN_o_1_dr(model['mel_shape'],model['cqt_shape'],model['stft_shape'], use_mel = True, use_cqt = False, use_stft = False,ord1=True,ext=True)\n",
    "    model1.load_weights(model['model_fnm1'])\n",
    "    model2.load_weights(model['model_fnm2'])\n",
    "    \n",
    "#    classes = model['classes']\n",
    "    # Load features.\n",
    "    features = get_feature_one(data, verbose = 0)\n",
    "\n",
    "    samp_sec = model['samp_sec'] \n",
    "    pre_emphasis = model['pre_emphasis']\n",
    "    hop_length = model['hop_length']\n",
    "    win_length = model['win_length']\n",
    "    n_mels = model['n_mels']\n",
    "    filter_scale = model['filter_scale']\n",
    "    n_bins = model['n_bins']\n",
    "    fmin = model['fmin']\n",
    "    \n",
    "    features['rr1'] = []\n",
    "    \n",
    "    for i in range(len(recordings)):\n",
    "        try:\n",
    "#             ____, recording1 = sp.io.wavfile.read(recordings)\n",
    "            ____, info = nk.ecg_process(recordings[i], sampling_rate=4000)\n",
    "            rr = np.mean(np.diff(info['ECG_R_Peaks'])/4000)\n",
    "            if rr>1:\n",
    "                current_rr = np.array([0,0,1])\n",
    "            elif rr<0.6:\n",
    "                current_rr = np.array([1,0,0])\n",
    "            else :\n",
    "                current_rr = np.array([0,1,0])\n",
    "        except:\n",
    "            current_rr=np.array([0,0,0])\n",
    "        \n",
    "        features['rr1'].append(current_rr)  \n",
    "    \n",
    "    features['rr1'] = np.array(features['rr1'])\n",
    "    \n",
    "    features['mel1'] = []\n",
    "    for i in range(len(recordings)) :\n",
    "        if use_mel :\n",
    "            mel1 = feature_extract_melspec(recordings[i]/ 32768, samp_sec=samp_sec, pre_emphasis = pre_emphasis, hop_length=hop_length, \n",
    "                                           win_length = win_length, n_mels = n_mels)[0]\n",
    "        else :\n",
    "            mel1 = np.zeros( (1,1) )\n",
    "            \n",
    "        features['mel1'].append(mel1)\n",
    "        \n",
    "    M, N = features['mel1'][0].shape\n",
    "    \n",
    "    if use_mel :\n",
    "        for i in range(len(features['mel1'])) :\n",
    "            features['mel1'][i] = features['mel1'][i].reshape(M,N,1)   \n",
    "    \n",
    "    features['mel1'] = np.array(features['mel1'])\n",
    "\n",
    "  \n",
    "    features['cqt1'] = []\n",
    "    for i in range(len(recordings)) :\n",
    "        if use_cqt :\n",
    "            mel1 = feature_extract_cqt(recordings[i], samp_sec=samp_sec, pre_emphasis = pre_emphasis, filter_scale = filter_scale, \n",
    "                                        n_bins = n_bins, fmin = fmin)[0]\n",
    "        else:\n",
    "            mel1 = np.zeros( (1,1) )\n",
    "            \n",
    "        features['cqt1'].append(mel1)\n",
    "        \n",
    "    M, N = features['cqt1'][0].shape\n",
    "    \n",
    "    if use_cqt :\n",
    "        for i in range(len(features['cqt1'])) :\n",
    "            features['cqt1'][i] = features['cqt1'][i].reshape(M,N,1)   \n",
    "    \n",
    "    features['cqt1'] = np.array(features['cqt1'])\n",
    "    \n",
    "    \n",
    "    \n",
    "    for i in range(len(features['cqt1'])) :\n",
    "        features['cqt1'][i] = features['cqt1'][i].reshape(M,N,1)   \n",
    "    features['cqt1'] = np.array(features['cqt1'])\n",
    "\n",
    "    features['stft1'] = []\n",
    "    for i in range(len(recordings)) :\n",
    "        if use_stft :\n",
    "            mel1 = feature_extract_stft(recordings[i]/ 32768, samp_sec=samp_sec, pre_emphasis = pre_emphasis, hop_length=hop_length, \n",
    "                                        win_length = win_length)[0]\n",
    "        else :\n",
    "            mel1 = np.zeros( (1,1) )\n",
    "        \n",
    "        features['stft1'].append(mel1)\n",
    "        \n",
    "    M, N = features['stft1'][0].shape\n",
    "    if use_stft :\n",
    "        for i in range(len(features['stft1'])) :\n",
    "            features['stft1'][i] = features['stft1'][i].reshape(M,N,1)           \n",
    "    features['stft1'] = np.array(features['stft1'])\n",
    "\n",
    "    #    print(features)\n",
    "    # Impute missing data.\n",
    "    res1 = model1.predict([features['age'], features['sex'], features['hw'], features['preg'], features['loc'], features['rr1'],features['mel1'], features['cqt1'], features['stft1']])\n",
    "    res2 = model2.predict([features['age'], features['sex'], features['hw'], features['preg'], features['loc'], features['rr1'], features['mel1'], features['cqt1'], features['stft1']])\n",
    "\n",
    "    # Get classifier probabilities.\n",
    "    idx1 = res1.argmax(axis=0)[0]\n",
    "    murmur_probabilities = res1[idx1,]  ## mumur 확률 최대화 되는 애 뽑기\n",
    "    outcome_probabilities = res2.mean(axis = 0) ##  outcome 은 그냥 평균으로 뽑기\n",
    "#    idx = np.argmax(prob1)\n",
    "\n",
    "    ## 이부분도 생각 필요.. rule 을 cost를 maximize 하는 기준으로 threshold 탐색 필요할지도..\n",
    "    # Choose label with highest probability.\n",
    "    murmur_labels = np.zeros(len(murmur_classes), dtype=np.int_)\n",
    "    idx = np.argmax(murmur_probabilities)\n",
    "    murmur_labels[idx] = 1\n",
    "    outcome_labels = np.zeros(len(outcome_classes), dtype=np.int_)\n",
    "    idx = np.argmax(outcome_probabilities)\n",
    "    outcome_labels[idx] = 1\n",
    "    \n",
    "    # Concatenate classes, labels, and probabilities.\n",
    "    classes = murmur_classes + outcome_classes\n",
    "    labels = np.concatenate((murmur_labels, outcome_labels))\n",
    "    probabilities = np.concatenate((murmur_probabilities, outcome_probabilities))\n",
    "    \n",
    "    return classes, labels, probabilities"
   ]
  },
  {
   "cell_type": "code",
   "execution_count": 97,
   "id": "68a883d8",
   "metadata": {},
   "outputs": [],
   "source": [
    "# Run model.\n",
    "def run_model(model_folder, data_folder, output_folder, allow_failures, verbose):\n",
    "    # Load models.\n",
    "    if verbose >= 1:\n",
    "        print('Loading Challenge model...')\n",
    "\n",
    "    model = load_challenge_model(model_folder, verbose) ### Teams: Implement this function!!!\n",
    "\n",
    "    # Find the patient data files.\n",
    "    patient_files = find_patient_files(data_folder)\n",
    "    num_patient_files = len(patient_files)\n",
    "\n",
    "    if num_patient_files==0:\n",
    "        raise Exception('No data was provided.')\n",
    "\n",
    "    # Create a folder for the Challenge outputs if it does not already exist.\n",
    "    os.makedirs(output_folder, exist_ok=True)\n",
    "\n",
    "    # Run the team's model on the Challenge data.\n",
    "    if verbose >= 1:\n",
    "        print('Running model on Challenge data...')\n",
    "\n",
    "    # Iterate over the patient files.\n",
    "    for i in range(num_patient_files):\n",
    "        if verbose >= 2:\n",
    "            print('    {}/{}...'.format(i+1, num_patient_files))\n",
    "\n",
    "        patient_data = load_patient_data(patient_files[i])\n",
    "        recordings = load_recordings(data_folder, patient_data)\n",
    "\n",
    "        # Allow or disallow the model to fail on parts of the data; helpful for debugging.\n",
    "        try:\n",
    "            classes, labels, probabilities = run_challenge_model(model, patient_data, recordings, verbose) ### Teams: Implement this function!!!\n",
    "        except:\n",
    "            if allow_failures:\n",
    "                if verbose >= 2:\n",
    "                    print('... failed.')\n",
    "                classes, labels, probabilities = list(), list(), list()\n",
    "            else:\n",
    "                raise\n",
    "\n",
    "        # Save Challenge outputs.\n",
    "        head, tail = os.path.split(patient_files[i])\n",
    "        root, extension = os.path.splitext(tail)\n",
    "        output_file = os.path.join(output_folder, root + '.csv')\n",
    "        patient_id = get_patient_id(patient_data)\n",
    "        save_challenge_outputs(output_file, patient_id, classes, labels, probabilities)\n",
    "\n",
    "    if verbose >= 1:\n",
    "        print('Done.')"
   ]
  },
  {
   "cell_type": "code",
   "execution_count": 98,
   "id": "60406c11",
   "metadata": {},
   "outputs": [],
   "source": [
    "output_folder = '/home/jk21/Documents/hmd/jk_classifier/out_lcnn2'"
   ]
  },
  {
   "cell_type": "code",
   "execution_count": 99,
   "id": "15b62062",
   "metadata": {
    "scrolled": true
   },
   "outputs": [
    {
     "data": {
      "text/plain": [
       "'lcnn2'"
      ]
     },
     "execution_count": 99,
     "metadata": {},
     "output_type": "execute_result"
    }
   ],
   "source": [
    "model_folder"
   ]
  },
  {
   "cell_type": "code",
   "execution_count": 107,
   "id": "40823c1e",
   "metadata": {},
   "outputs": [
    {
     "data": {
      "text/plain": [
       "'/home/jk21/Downloads/Data/data/murmur/test'"
      ]
     },
     "execution_count": 107,
     "metadata": {},
     "output_type": "execute_result"
    }
   ],
   "source": [
    "test_folder"
   ]
  },
  {
   "cell_type": "code",
   "execution_count": 108,
   "id": "30741811",
   "metadata": {
    "scrolled": false
   },
   "outputs": [
    {
     "name": "stdout",
     "output_type": "stream",
     "text": [
      "Loading Challenge model...\n",
      "Running model on Challenge data...\n",
      "    1/191...\n"
     ]
    },
    {
     "name": "stderr",
     "output_type": "stream",
     "text": [
      "/home/jk21/.local/lib/python3.8/site-packages/numpy/core/fromnumeric.py:3474: RuntimeWarning: Mean of empty slice.\n",
      "  return _methods._mean(a, axis=axis, dtype=dtype,\n",
      "/home/jk21/.local/lib/python3.8/site-packages/numpy/core/_methods.py:189: RuntimeWarning: invalid value encountered in double_scalars\n",
      "  ret = ret.dtype.type(ret / rcount)\n"
     ]
    },
    {
     "name": "stdout",
     "output_type": "stream",
     "text": [
      "    2/191...\n",
      "    3/191...\n"
     ]
    },
    {
     "name": "stderr",
     "output_type": "stream",
     "text": [
      "/home/jk21/.local/lib/python3.8/site-packages/numpy/core/fromnumeric.py:3474: RuntimeWarning: Mean of empty slice.\n",
      "  return _methods._mean(a, axis=axis, dtype=dtype,\n",
      "/home/jk21/.local/lib/python3.8/site-packages/numpy/core/_methods.py:189: RuntimeWarning: invalid value encountered in double_scalars\n",
      "  ret = ret.dtype.type(ret / rcount)\n"
     ]
    },
    {
     "name": "stdout",
     "output_type": "stream",
     "text": [
      "    4/191...\n",
      "    5/191...\n"
     ]
    },
    {
     "name": "stderr",
     "output_type": "stream",
     "text": [
      "/home/jk21/.local/lib/python3.8/site-packages/numpy/core/fromnumeric.py:3474: RuntimeWarning: Mean of empty slice.\n",
      "  return _methods._mean(a, axis=axis, dtype=dtype,\n",
      "/home/jk21/.local/lib/python3.8/site-packages/numpy/core/_methods.py:189: RuntimeWarning: invalid value encountered in double_scalars\n",
      "  ret = ret.dtype.type(ret / rcount)\n"
     ]
    },
    {
     "name": "stdout",
     "output_type": "stream",
     "text": [
      "    6/191...\n",
      "    7/191...\n",
      "    8/191...\n",
      "    9/191...\n",
      "    10/191...\n"
     ]
    },
    {
     "name": "stderr",
     "output_type": "stream",
     "text": [
      "/home/jk21/.local/lib/python3.8/site-packages/numpy/core/fromnumeric.py:3474: RuntimeWarning: Mean of empty slice.\n",
      "  return _methods._mean(a, axis=axis, dtype=dtype,\n",
      "/home/jk21/.local/lib/python3.8/site-packages/numpy/core/_methods.py:189: RuntimeWarning: invalid value encountered in double_scalars\n",
      "  ret = ret.dtype.type(ret / rcount)\n"
     ]
    },
    {
     "name": "stdout",
     "output_type": "stream",
     "text": [
      "    11/191...\n",
      "    12/191...\n",
      "    13/191...\n",
      "    14/191...\n",
      "    15/191...\n",
      "    16/191...\n",
      "    17/191...\n"
     ]
    },
    {
     "name": "stderr",
     "output_type": "stream",
     "text": [
      "/home/jk21/.local/lib/python3.8/site-packages/numpy/core/fromnumeric.py:3474: RuntimeWarning: Mean of empty slice.\n",
      "  return _methods._mean(a, axis=axis, dtype=dtype,\n",
      "/home/jk21/.local/lib/python3.8/site-packages/numpy/core/_methods.py:189: RuntimeWarning: invalid value encountered in double_scalars\n",
      "  ret = ret.dtype.type(ret / rcount)\n"
     ]
    },
    {
     "name": "stdout",
     "output_type": "stream",
     "text": [
      "    18/191...\n"
     ]
    },
    {
     "name": "stderr",
     "output_type": "stream",
     "text": [
      "/home/jk21/.local/lib/python3.8/site-packages/numpy/core/fromnumeric.py:3474: RuntimeWarning: Mean of empty slice.\n",
      "  return _methods._mean(a, axis=axis, dtype=dtype,\n",
      "/home/jk21/.local/lib/python3.8/site-packages/numpy/core/_methods.py:189: RuntimeWarning: invalid value encountered in double_scalars\n",
      "  ret = ret.dtype.type(ret / rcount)\n"
     ]
    },
    {
     "name": "stdout",
     "output_type": "stream",
     "text": [
      "    19/191...\n",
      "    20/191...\n",
      "    21/191...\n",
      "    22/191...\n",
      "    23/191...\n",
      "    24/191...\n",
      "    25/191...\n"
     ]
    },
    {
     "name": "stderr",
     "output_type": "stream",
     "text": [
      "/home/jk21/.local/lib/python3.8/site-packages/numpy/core/fromnumeric.py:3474: RuntimeWarning: Mean of empty slice.\n",
      "  return _methods._mean(a, axis=axis, dtype=dtype,\n",
      "/home/jk21/.local/lib/python3.8/site-packages/numpy/core/_methods.py:189: RuntimeWarning: invalid value encountered in double_scalars\n",
      "  ret = ret.dtype.type(ret / rcount)\n"
     ]
    },
    {
     "name": "stdout",
     "output_type": "stream",
     "text": [
      "    26/191...\n",
      "    27/191...\n",
      "    28/191...\n"
     ]
    },
    {
     "name": "stderr",
     "output_type": "stream",
     "text": [
      "/home/jk21/.local/lib/python3.8/site-packages/numpy/core/fromnumeric.py:3474: RuntimeWarning: Mean of empty slice.\n",
      "  return _methods._mean(a, axis=axis, dtype=dtype,\n",
      "/home/jk21/.local/lib/python3.8/site-packages/numpy/core/_methods.py:189: RuntimeWarning: invalid value encountered in double_scalars\n",
      "  ret = ret.dtype.type(ret / rcount)\n"
     ]
    },
    {
     "name": "stdout",
     "output_type": "stream",
     "text": [
      "    29/191...\n"
     ]
    },
    {
     "name": "stderr",
     "output_type": "stream",
     "text": [
      "/home/jk21/.local/lib/python3.8/site-packages/numpy/core/fromnumeric.py:3474: RuntimeWarning: Mean of empty slice.\n",
      "  return _methods._mean(a, axis=axis, dtype=dtype,\n",
      "/home/jk21/.local/lib/python3.8/site-packages/numpy/core/_methods.py:189: RuntimeWarning: invalid value encountered in double_scalars\n",
      "  ret = ret.dtype.type(ret / rcount)\n"
     ]
    },
    {
     "name": "stdout",
     "output_type": "stream",
     "text": [
      "    30/191...\n",
      "    31/191...\n",
      "    32/191...\n"
     ]
    },
    {
     "name": "stderr",
     "output_type": "stream",
     "text": [
      "/home/jk21/.local/lib/python3.8/site-packages/numpy/core/fromnumeric.py:3474: RuntimeWarning: Mean of empty slice.\n",
      "  return _methods._mean(a, axis=axis, dtype=dtype,\n",
      "/home/jk21/.local/lib/python3.8/site-packages/numpy/core/_methods.py:189: RuntimeWarning: invalid value encountered in double_scalars\n",
      "  ret = ret.dtype.type(ret / rcount)\n",
      "/home/jk21/.local/lib/python3.8/site-packages/numpy/core/fromnumeric.py:3474: RuntimeWarning: Mean of empty slice.\n",
      "  return _methods._mean(a, axis=axis, dtype=dtype,\n",
      "/home/jk21/.local/lib/python3.8/site-packages/numpy/core/_methods.py:189: RuntimeWarning: invalid value encountered in double_scalars\n",
      "  ret = ret.dtype.type(ret / rcount)\n"
     ]
    },
    {
     "name": "stdout",
     "output_type": "stream",
     "text": [
      "    33/191...\n",
      "    34/191...\n"
     ]
    },
    {
     "name": "stderr",
     "output_type": "stream",
     "text": [
      "/home/jk21/.local/lib/python3.8/site-packages/numpy/core/fromnumeric.py:3474: RuntimeWarning: Mean of empty slice.\n",
      "  return _methods._mean(a, axis=axis, dtype=dtype,\n",
      "/home/jk21/.local/lib/python3.8/site-packages/numpy/core/_methods.py:189: RuntimeWarning: invalid value encountered in double_scalars\n",
      "  ret = ret.dtype.type(ret / rcount)\n"
     ]
    },
    {
     "name": "stdout",
     "output_type": "stream",
     "text": [
      "    35/191...\n"
     ]
    },
    {
     "name": "stderr",
     "output_type": "stream",
     "text": [
      "/home/jk21/.local/lib/python3.8/site-packages/numpy/core/fromnumeric.py:3474: RuntimeWarning: Mean of empty slice.\n",
      "  return _methods._mean(a, axis=axis, dtype=dtype,\n",
      "/home/jk21/.local/lib/python3.8/site-packages/numpy/core/_methods.py:189: RuntimeWarning: invalid value encountered in double_scalars\n",
      "  ret = ret.dtype.type(ret / rcount)\n"
     ]
    },
    {
     "name": "stdout",
     "output_type": "stream",
     "text": [
      "    36/191...\n"
     ]
    },
    {
     "name": "stderr",
     "output_type": "stream",
     "text": [
      "/home/jk21/.local/lib/python3.8/site-packages/numpy/core/fromnumeric.py:3474: RuntimeWarning: Mean of empty slice.\n",
      "  return _methods._mean(a, axis=axis, dtype=dtype,\n",
      "/home/jk21/.local/lib/python3.8/site-packages/numpy/core/_methods.py:189: RuntimeWarning: invalid value encountered in double_scalars\n",
      "  ret = ret.dtype.type(ret / rcount)\n",
      "/home/jk21/.local/lib/python3.8/site-packages/numpy/core/fromnumeric.py:3474: RuntimeWarning: Mean of empty slice.\n",
      "  return _methods._mean(a, axis=axis, dtype=dtype,\n",
      "/home/jk21/.local/lib/python3.8/site-packages/numpy/core/_methods.py:189: RuntimeWarning: invalid value encountered in double_scalars\n",
      "  ret = ret.dtype.type(ret / rcount)\n"
     ]
    },
    {
     "name": "stdout",
     "output_type": "stream",
     "text": [
      "    37/191...\n"
     ]
    },
    {
     "name": "stderr",
     "output_type": "stream",
     "text": [
      "/home/jk21/.local/lib/python3.8/site-packages/numpy/core/fromnumeric.py:3474: RuntimeWarning: Mean of empty slice.\n",
      "  return _methods._mean(a, axis=axis, dtype=dtype,\n",
      "/home/jk21/.local/lib/python3.8/site-packages/numpy/core/_methods.py:189: RuntimeWarning: invalid value encountered in double_scalars\n",
      "  ret = ret.dtype.type(ret / rcount)\n"
     ]
    },
    {
     "name": "stdout",
     "output_type": "stream",
     "text": [
      "    38/191...\n"
     ]
    },
    {
     "name": "stderr",
     "output_type": "stream",
     "text": [
      "/home/jk21/.local/lib/python3.8/site-packages/numpy/core/fromnumeric.py:3474: RuntimeWarning: Mean of empty slice.\n",
      "  return _methods._mean(a, axis=axis, dtype=dtype,\n",
      "/home/jk21/.local/lib/python3.8/site-packages/numpy/core/_methods.py:189: RuntimeWarning: invalid value encountered in double_scalars\n",
      "  ret = ret.dtype.type(ret / rcount)\n",
      "/home/jk21/.local/lib/python3.8/site-packages/numpy/core/fromnumeric.py:3474: RuntimeWarning: Mean of empty slice.\n",
      "  return _methods._mean(a, axis=axis, dtype=dtype,\n",
      "/home/jk21/.local/lib/python3.8/site-packages/numpy/core/_methods.py:189: RuntimeWarning: invalid value encountered in double_scalars\n",
      "  ret = ret.dtype.type(ret / rcount)\n",
      "/home/jk21/.local/lib/python3.8/site-packages/numpy/core/fromnumeric.py:3474: RuntimeWarning: Mean of empty slice.\n",
      "  return _methods._mean(a, axis=axis, dtype=dtype,\n",
      "/home/jk21/.local/lib/python3.8/site-packages/numpy/core/_methods.py:189: RuntimeWarning: invalid value encountered in double_scalars\n",
      "  ret = ret.dtype.type(ret / rcount)\n"
     ]
    },
    {
     "name": "stdout",
     "output_type": "stream",
     "text": [
      "    39/191...\n",
      "    40/191...\n",
      "    41/191...\n",
      "    42/191...\n",
      "    43/191...\n",
      "    44/191...\n"
     ]
    },
    {
     "name": "stderr",
     "output_type": "stream",
     "text": [
      "/home/jk21/.local/lib/python3.8/site-packages/numpy/core/fromnumeric.py:3474: RuntimeWarning: Mean of empty slice.\n",
      "  return _methods._mean(a, axis=axis, dtype=dtype,\n",
      "/home/jk21/.local/lib/python3.8/site-packages/numpy/core/_methods.py:189: RuntimeWarning: invalid value encountered in double_scalars\n",
      "  ret = ret.dtype.type(ret / rcount)\n"
     ]
    },
    {
     "name": "stdout",
     "output_type": "stream",
     "text": [
      "    45/191...\n"
     ]
    },
    {
     "name": "stderr",
     "output_type": "stream",
     "text": [
      "/home/jk21/.local/lib/python3.8/site-packages/numpy/core/fromnumeric.py:3474: RuntimeWarning: Mean of empty slice.\n",
      "  return _methods._mean(a, axis=axis, dtype=dtype,\n",
      "/home/jk21/.local/lib/python3.8/site-packages/numpy/core/_methods.py:189: RuntimeWarning: invalid value encountered in double_scalars\n",
      "  ret = ret.dtype.type(ret / rcount)\n"
     ]
    },
    {
     "name": "stdout",
     "output_type": "stream",
     "text": [
      "    46/191...\n",
      "    47/191...\n"
     ]
    },
    {
     "name": "stderr",
     "output_type": "stream",
     "text": [
      "/home/jk21/.local/lib/python3.8/site-packages/numpy/core/fromnumeric.py:3474: RuntimeWarning: Mean of empty slice.\n",
      "  return _methods._mean(a, axis=axis, dtype=dtype,\n",
      "/home/jk21/.local/lib/python3.8/site-packages/numpy/core/_methods.py:189: RuntimeWarning: invalid value encountered in double_scalars\n",
      "  ret = ret.dtype.type(ret / rcount)\n"
     ]
    },
    {
     "name": "stdout",
     "output_type": "stream",
     "text": [
      "    48/191...\n"
     ]
    },
    {
     "name": "stderr",
     "output_type": "stream",
     "text": [
      "/home/jk21/.local/lib/python3.8/site-packages/numpy/core/fromnumeric.py:3474: RuntimeWarning: Mean of empty slice.\n",
      "  return _methods._mean(a, axis=axis, dtype=dtype,\n",
      "/home/jk21/.local/lib/python3.8/site-packages/numpy/core/_methods.py:189: RuntimeWarning: invalid value encountered in double_scalars\n",
      "  ret = ret.dtype.type(ret / rcount)\n"
     ]
    },
    {
     "name": "stdout",
     "output_type": "stream",
     "text": [
      "    49/191...\n",
      "    50/191...\n",
      "    51/191...\n",
      "    52/191...\n"
     ]
    },
    {
     "name": "stderr",
     "output_type": "stream",
     "text": [
      "/home/jk21/.local/lib/python3.8/site-packages/numpy/core/fromnumeric.py:3474: RuntimeWarning: Mean of empty slice.\n",
      "  return _methods._mean(a, axis=axis, dtype=dtype,\n",
      "/home/jk21/.local/lib/python3.8/site-packages/numpy/core/_methods.py:189: RuntimeWarning: invalid value encountered in double_scalars\n",
      "  ret = ret.dtype.type(ret / rcount)\n"
     ]
    },
    {
     "name": "stdout",
     "output_type": "stream",
     "text": [
      "    53/191...\n",
      "    54/191...\n"
     ]
    },
    {
     "name": "stderr",
     "output_type": "stream",
     "text": [
      "/home/jk21/.local/lib/python3.8/site-packages/numpy/core/fromnumeric.py:3474: RuntimeWarning: Mean of empty slice.\n",
      "  return _methods._mean(a, axis=axis, dtype=dtype,\n",
      "/home/jk21/.local/lib/python3.8/site-packages/numpy/core/_methods.py:189: RuntimeWarning: invalid value encountered in double_scalars\n",
      "  ret = ret.dtype.type(ret / rcount)\n"
     ]
    },
    {
     "name": "stdout",
     "output_type": "stream",
     "text": [
      "    55/191...\n",
      "    56/191...\n",
      "    57/191...\n",
      "    58/191...\n",
      "    59/191...\n"
     ]
    },
    {
     "name": "stderr",
     "output_type": "stream",
     "text": [
      "/home/jk21/.local/lib/python3.8/site-packages/numpy/core/fromnumeric.py:3474: RuntimeWarning: Mean of empty slice.\n",
      "  return _methods._mean(a, axis=axis, dtype=dtype,\n",
      "/home/jk21/.local/lib/python3.8/site-packages/numpy/core/_methods.py:189: RuntimeWarning: invalid value encountered in double_scalars\n",
      "  ret = ret.dtype.type(ret / rcount)\n"
     ]
    },
    {
     "name": "stdout",
     "output_type": "stream",
     "text": [
      "    60/191...\n",
      "    61/191...\n",
      "    62/191...\n"
     ]
    },
    {
     "name": "stderr",
     "output_type": "stream",
     "text": [
      "/home/jk21/.local/lib/python3.8/site-packages/numpy/core/fromnumeric.py:3474: RuntimeWarning: Mean of empty slice.\n",
      "  return _methods._mean(a, axis=axis, dtype=dtype,\n",
      "/home/jk21/.local/lib/python3.8/site-packages/numpy/core/_methods.py:189: RuntimeWarning: invalid value encountered in double_scalars\n",
      "  ret = ret.dtype.type(ret / rcount)\n",
      "/home/jk21/.local/lib/python3.8/site-packages/numpy/core/fromnumeric.py:3474: RuntimeWarning: Mean of empty slice.\n",
      "  return _methods._mean(a, axis=axis, dtype=dtype,\n",
      "/home/jk21/.local/lib/python3.8/site-packages/numpy/core/_methods.py:189: RuntimeWarning: invalid value encountered in double_scalars\n",
      "  ret = ret.dtype.type(ret / rcount)\n",
      "/home/jk21/.local/lib/python3.8/site-packages/numpy/core/fromnumeric.py:3474: RuntimeWarning: Mean of empty slice.\n",
      "  return _methods._mean(a, axis=axis, dtype=dtype,\n",
      "/home/jk21/.local/lib/python3.8/site-packages/numpy/core/_methods.py:189: RuntimeWarning: invalid value encountered in double_scalars\n",
      "  ret = ret.dtype.type(ret / rcount)\n"
     ]
    },
    {
     "name": "stdout",
     "output_type": "stream",
     "text": [
      "    63/191...\n"
     ]
    },
    {
     "name": "stderr",
     "output_type": "stream",
     "text": [
      "/home/jk21/.local/lib/python3.8/site-packages/numpy/core/fromnumeric.py:3474: RuntimeWarning: Mean of empty slice.\n",
      "  return _methods._mean(a, axis=axis, dtype=dtype,\n",
      "/home/jk21/.local/lib/python3.8/site-packages/numpy/core/_methods.py:189: RuntimeWarning: invalid value encountered in double_scalars\n",
      "  ret = ret.dtype.type(ret / rcount)\n"
     ]
    },
    {
     "name": "stdout",
     "output_type": "stream",
     "text": [
      "    64/191...\n",
      "    65/191...\n",
      "    66/191...\n"
     ]
    },
    {
     "name": "stderr",
     "output_type": "stream",
     "text": [
      "/home/jk21/.local/lib/python3.8/site-packages/numpy/core/fromnumeric.py:3474: RuntimeWarning: Mean of empty slice.\n",
      "  return _methods._mean(a, axis=axis, dtype=dtype,\n",
      "/home/jk21/.local/lib/python3.8/site-packages/numpy/core/_methods.py:189: RuntimeWarning: invalid value encountered in double_scalars\n",
      "  ret = ret.dtype.type(ret / rcount)\n"
     ]
    },
    {
     "name": "stdout",
     "output_type": "stream",
     "text": [
      "    67/191...\n",
      "    68/191...\n",
      "    69/191...\n",
      "    70/191...\n",
      "    71/191...\n",
      "    72/191...\n"
     ]
    },
    {
     "name": "stderr",
     "output_type": "stream",
     "text": [
      "/home/jk21/.local/lib/python3.8/site-packages/numpy/core/fromnumeric.py:3474: RuntimeWarning: Mean of empty slice.\n",
      "  return _methods._mean(a, axis=axis, dtype=dtype,\n",
      "/home/jk21/.local/lib/python3.8/site-packages/numpy/core/_methods.py:189: RuntimeWarning: invalid value encountered in double_scalars\n",
      "  ret = ret.dtype.type(ret / rcount)\n"
     ]
    },
    {
     "name": "stdout",
     "output_type": "stream",
     "text": [
      "    73/191...\n",
      "    74/191...\n"
     ]
    },
    {
     "name": "stderr",
     "output_type": "stream",
     "text": [
      "/home/jk21/.local/lib/python3.8/site-packages/numpy/core/fromnumeric.py:3474: RuntimeWarning: Mean of empty slice.\n",
      "  return _methods._mean(a, axis=axis, dtype=dtype,\n",
      "/home/jk21/.local/lib/python3.8/site-packages/numpy/core/_methods.py:189: RuntimeWarning: invalid value encountered in double_scalars\n",
      "  ret = ret.dtype.type(ret / rcount)\n"
     ]
    },
    {
     "name": "stdout",
     "output_type": "stream",
     "text": [
      "    75/191...\n",
      "    76/191...\n",
      "    77/191...\n"
     ]
    },
    {
     "name": "stderr",
     "output_type": "stream",
     "text": [
      "/home/jk21/.local/lib/python3.8/site-packages/numpy/core/fromnumeric.py:3474: RuntimeWarning: Mean of empty slice.\n",
      "  return _methods._mean(a, axis=axis, dtype=dtype,\n",
      "/home/jk21/.local/lib/python3.8/site-packages/numpy/core/_methods.py:189: RuntimeWarning: invalid value encountered in double_scalars\n",
      "  ret = ret.dtype.type(ret / rcount)\n"
     ]
    },
    {
     "name": "stdout",
     "output_type": "stream",
     "text": [
      "    78/191...\n"
     ]
    },
    {
     "name": "stderr",
     "output_type": "stream",
     "text": [
      "/home/jk21/.local/lib/python3.8/site-packages/numpy/core/fromnumeric.py:3474: RuntimeWarning: Mean of empty slice.\n",
      "  return _methods._mean(a, axis=axis, dtype=dtype,\n",
      "/home/jk21/.local/lib/python3.8/site-packages/numpy/core/_methods.py:189: RuntimeWarning: invalid value encountered in double_scalars\n",
      "  ret = ret.dtype.type(ret / rcount)\n"
     ]
    },
    {
     "name": "stdout",
     "output_type": "stream",
     "text": [
      "    79/191...\n",
      "    80/191...\n",
      "    81/191...\n",
      "    82/191...\n",
      "    83/191...\n",
      "    84/191...\n",
      "    85/191...\n",
      "    86/191...\n",
      "    87/191...\n"
     ]
    },
    {
     "name": "stderr",
     "output_type": "stream",
     "text": [
      "/home/jk21/.local/lib/python3.8/site-packages/numpy/core/fromnumeric.py:3474: RuntimeWarning: Mean of empty slice.\n",
      "  return _methods._mean(a, axis=axis, dtype=dtype,\n",
      "/home/jk21/.local/lib/python3.8/site-packages/numpy/core/_methods.py:189: RuntimeWarning: invalid value encountered in double_scalars\n",
      "  ret = ret.dtype.type(ret / rcount)\n"
     ]
    },
    {
     "name": "stdout",
     "output_type": "stream",
     "text": [
      "    88/191...\n",
      "    89/191...\n",
      "    90/191...\n",
      "    91/191...\n",
      "    92/191...\n",
      "    93/191...\n"
     ]
    },
    {
     "name": "stderr",
     "output_type": "stream",
     "text": [
      "/home/jk21/.local/lib/python3.8/site-packages/numpy/core/fromnumeric.py:3474: RuntimeWarning: Mean of empty slice.\n",
      "  return _methods._mean(a, axis=axis, dtype=dtype,\n",
      "/home/jk21/.local/lib/python3.8/site-packages/numpy/core/_methods.py:189: RuntimeWarning: invalid value encountered in double_scalars\n",
      "  ret = ret.dtype.type(ret / rcount)\n",
      "/home/jk21/.local/lib/python3.8/site-packages/numpy/core/fromnumeric.py:3474: RuntimeWarning: Mean of empty slice.\n",
      "  return _methods._mean(a, axis=axis, dtype=dtype,\n",
      "/home/jk21/.local/lib/python3.8/site-packages/numpy/core/_methods.py:189: RuntimeWarning: invalid value encountered in double_scalars\n",
      "  ret = ret.dtype.type(ret / rcount)\n"
     ]
    },
    {
     "name": "stdout",
     "output_type": "stream",
     "text": [
      "    94/191...\n"
     ]
    },
    {
     "name": "stderr",
     "output_type": "stream",
     "text": [
      "/home/jk21/.local/lib/python3.8/site-packages/numpy/core/fromnumeric.py:3474: RuntimeWarning: Mean of empty slice.\n",
      "  return _methods._mean(a, axis=axis, dtype=dtype,\n",
      "/home/jk21/.local/lib/python3.8/site-packages/numpy/core/_methods.py:189: RuntimeWarning: invalid value encountered in double_scalars\n",
      "  ret = ret.dtype.type(ret / rcount)\n"
     ]
    },
    {
     "name": "stdout",
     "output_type": "stream",
     "text": [
      "    95/191...\n",
      "    96/191...\n"
     ]
    },
    {
     "name": "stderr",
     "output_type": "stream",
     "text": [
      "/home/jk21/.local/lib/python3.8/site-packages/numpy/core/fromnumeric.py:3474: RuntimeWarning: Mean of empty slice.\n",
      "  return _methods._mean(a, axis=axis, dtype=dtype,\n",
      "/home/jk21/.local/lib/python3.8/site-packages/numpy/core/_methods.py:189: RuntimeWarning: invalid value encountered in double_scalars\n",
      "  ret = ret.dtype.type(ret / rcount)\n"
     ]
    },
    {
     "name": "stdout",
     "output_type": "stream",
     "text": [
      "    97/191...\n",
      "    98/191...\n",
      "    99/191...\n",
      "    100/191...\n",
      "    101/191...\n",
      "    102/191...\n",
      "    103/191...\n",
      "    104/191...\n"
     ]
    },
    {
     "name": "stderr",
     "output_type": "stream",
     "text": [
      "/home/jk21/.local/lib/python3.8/site-packages/numpy/core/fromnumeric.py:3474: RuntimeWarning: Mean of empty slice.\n",
      "  return _methods._mean(a, axis=axis, dtype=dtype,\n",
      "/home/jk21/.local/lib/python3.8/site-packages/numpy/core/_methods.py:189: RuntimeWarning: invalid value encountered in double_scalars\n",
      "  ret = ret.dtype.type(ret / rcount)\n"
     ]
    },
    {
     "name": "stdout",
     "output_type": "stream",
     "text": [
      "    105/191...\n"
     ]
    },
    {
     "name": "stderr",
     "output_type": "stream",
     "text": [
      "/home/jk21/.local/lib/python3.8/site-packages/numpy/core/fromnumeric.py:3474: RuntimeWarning: Mean of empty slice.\n",
      "  return _methods._mean(a, axis=axis, dtype=dtype,\n",
      "/home/jk21/.local/lib/python3.8/site-packages/numpy/core/_methods.py:189: RuntimeWarning: invalid value encountered in double_scalars\n",
      "  ret = ret.dtype.type(ret / rcount)\n"
     ]
    },
    {
     "name": "stdout",
     "output_type": "stream",
     "text": [
      "    106/191...\n",
      "    107/191...\n",
      "    108/191...\n"
     ]
    },
    {
     "name": "stderr",
     "output_type": "stream",
     "text": [
      "/home/jk21/.local/lib/python3.8/site-packages/numpy/core/fromnumeric.py:3474: RuntimeWarning: Mean of empty slice.\n",
      "  return _methods._mean(a, axis=axis, dtype=dtype,\n",
      "/home/jk21/.local/lib/python3.8/site-packages/numpy/core/_methods.py:189: RuntimeWarning: invalid value encountered in double_scalars\n",
      "  ret = ret.dtype.type(ret / rcount)\n"
     ]
    },
    {
     "name": "stdout",
     "output_type": "stream",
     "text": [
      "    109/191...\n",
      "    110/191...\n",
      "    111/191...\n",
      "    112/191...\n",
      "    113/191...\n",
      "    114/191...\n",
      "    115/191...\n",
      "    116/191...\n",
      "    117/191...\n",
      "    118/191...\n",
      "    119/191...\n",
      "    120/191...\n",
      "    121/191...\n"
     ]
    },
    {
     "name": "stderr",
     "output_type": "stream",
     "text": [
      "/home/jk21/.local/lib/python3.8/site-packages/numpy/core/fromnumeric.py:3474: RuntimeWarning: Mean of empty slice.\n",
      "  return _methods._mean(a, axis=axis, dtype=dtype,\n",
      "/home/jk21/.local/lib/python3.8/site-packages/numpy/core/_methods.py:189: RuntimeWarning: invalid value encountered in double_scalars\n",
      "  ret = ret.dtype.type(ret / rcount)\n"
     ]
    },
    {
     "name": "stdout",
     "output_type": "stream",
     "text": [
      "    122/191...\n"
     ]
    },
    {
     "name": "stderr",
     "output_type": "stream",
     "text": [
      "/home/jk21/.local/lib/python3.8/site-packages/numpy/core/fromnumeric.py:3474: RuntimeWarning: Mean of empty slice.\n",
      "  return _methods._mean(a, axis=axis, dtype=dtype,\n",
      "/home/jk21/.local/lib/python3.8/site-packages/numpy/core/_methods.py:189: RuntimeWarning: invalid value encountered in double_scalars\n",
      "  ret = ret.dtype.type(ret / rcount)\n"
     ]
    },
    {
     "name": "stdout",
     "output_type": "stream",
     "text": [
      "    123/191...\n"
     ]
    },
    {
     "name": "stderr",
     "output_type": "stream",
     "text": [
      "/home/jk21/.local/lib/python3.8/site-packages/numpy/core/fromnumeric.py:3474: RuntimeWarning: Mean of empty slice.\n",
      "  return _methods._mean(a, axis=axis, dtype=dtype,\n",
      "/home/jk21/.local/lib/python3.8/site-packages/numpy/core/_methods.py:189: RuntimeWarning: invalid value encountered in double_scalars\n",
      "  ret = ret.dtype.type(ret / rcount)\n"
     ]
    },
    {
     "name": "stdout",
     "output_type": "stream",
     "text": [
      "    124/191...\n",
      "    125/191...\n"
     ]
    },
    {
     "name": "stderr",
     "output_type": "stream",
     "text": [
      "/home/jk21/.local/lib/python3.8/site-packages/numpy/core/fromnumeric.py:3474: RuntimeWarning: Mean of empty slice.\n",
      "  return _methods._mean(a, axis=axis, dtype=dtype,\n",
      "/home/jk21/.local/lib/python3.8/site-packages/numpy/core/_methods.py:189: RuntimeWarning: invalid value encountered in double_scalars\n",
      "  ret = ret.dtype.type(ret / rcount)\n"
     ]
    },
    {
     "name": "stdout",
     "output_type": "stream",
     "text": [
      "    126/191...\n",
      "    127/191...\n",
      "    128/191...\n"
     ]
    },
    {
     "name": "stderr",
     "output_type": "stream",
     "text": [
      "/home/jk21/.local/lib/python3.8/site-packages/numpy/core/fromnumeric.py:3474: RuntimeWarning: Mean of empty slice.\n",
      "  return _methods._mean(a, axis=axis, dtype=dtype,\n",
      "/home/jk21/.local/lib/python3.8/site-packages/numpy/core/_methods.py:189: RuntimeWarning: invalid value encountered in double_scalars\n",
      "  ret = ret.dtype.type(ret / rcount)\n"
     ]
    },
    {
     "name": "stdout",
     "output_type": "stream",
     "text": [
      "    129/191...\n",
      "    130/191...\n"
     ]
    },
    {
     "name": "stderr",
     "output_type": "stream",
     "text": [
      "/home/jk21/.local/lib/python3.8/site-packages/numpy/core/fromnumeric.py:3474: RuntimeWarning: Mean of empty slice.\n",
      "  return _methods._mean(a, axis=axis, dtype=dtype,\n",
      "/home/jk21/.local/lib/python3.8/site-packages/numpy/core/_methods.py:189: RuntimeWarning: invalid value encountered in double_scalars\n",
      "  ret = ret.dtype.type(ret / rcount)\n",
      "/home/jk21/.local/lib/python3.8/site-packages/numpy/core/fromnumeric.py:3474: RuntimeWarning: Mean of empty slice.\n",
      "  return _methods._mean(a, axis=axis, dtype=dtype,\n",
      "/home/jk21/.local/lib/python3.8/site-packages/numpy/core/_methods.py:189: RuntimeWarning: invalid value encountered in double_scalars\n",
      "  ret = ret.dtype.type(ret / rcount)\n"
     ]
    },
    {
     "name": "stdout",
     "output_type": "stream",
     "text": [
      "    131/191...\n",
      "    132/191...\n",
      "    133/191...\n",
      "    134/191...\n",
      "    135/191...\n",
      "    136/191...\n",
      "    137/191...\n",
      "    138/191...\n",
      "    139/191...\n",
      "    140/191...\n"
     ]
    },
    {
     "name": "stderr",
     "output_type": "stream",
     "text": [
      "/home/jk21/.local/lib/python3.8/site-packages/numpy/core/fromnumeric.py:3474: RuntimeWarning: Mean of empty slice.\n",
      "  return _methods._mean(a, axis=axis, dtype=dtype,\n",
      "/home/jk21/.local/lib/python3.8/site-packages/numpy/core/_methods.py:189: RuntimeWarning: invalid value encountered in double_scalars\n",
      "  ret = ret.dtype.type(ret / rcount)\n"
     ]
    },
    {
     "name": "stdout",
     "output_type": "stream",
     "text": [
      "    141/191...\n",
      "    142/191...\n",
      "    143/191...\n",
      "    144/191...\n",
      "    145/191...\n"
     ]
    },
    {
     "name": "stderr",
     "output_type": "stream",
     "text": [
      "/home/jk21/.local/lib/python3.8/site-packages/numpy/core/fromnumeric.py:3474: RuntimeWarning: Mean of empty slice.\n",
      "  return _methods._mean(a, axis=axis, dtype=dtype,\n",
      "/home/jk21/.local/lib/python3.8/site-packages/numpy/core/_methods.py:189: RuntimeWarning: invalid value encountered in double_scalars\n",
      "  ret = ret.dtype.type(ret / rcount)\n"
     ]
    },
    {
     "name": "stdout",
     "output_type": "stream",
     "text": [
      "    146/191...\n",
      "    147/191...\n",
      "    148/191...\n",
      "    149/191...\n"
     ]
    },
    {
     "name": "stderr",
     "output_type": "stream",
     "text": [
      "/home/jk21/.local/lib/python3.8/site-packages/numpy/core/fromnumeric.py:3474: RuntimeWarning: Mean of empty slice.\n",
      "  return _methods._mean(a, axis=axis, dtype=dtype,\n",
      "/home/jk21/.local/lib/python3.8/site-packages/numpy/core/_methods.py:189: RuntimeWarning: invalid value encountered in double_scalars\n",
      "  ret = ret.dtype.type(ret / rcount)\n",
      "/home/jk21/.local/lib/python3.8/site-packages/numpy/core/fromnumeric.py:3474: RuntimeWarning: Mean of empty slice.\n",
      "  return _methods._mean(a, axis=axis, dtype=dtype,\n",
      "/home/jk21/.local/lib/python3.8/site-packages/numpy/core/_methods.py:189: RuntimeWarning: invalid value encountered in double_scalars\n",
      "  ret = ret.dtype.type(ret / rcount)\n"
     ]
    },
    {
     "name": "stdout",
     "output_type": "stream",
     "text": [
      "    150/191...\n",
      "    151/191...\n",
      "    152/191...\n"
     ]
    },
    {
     "name": "stderr",
     "output_type": "stream",
     "text": [
      "/home/jk21/.local/lib/python3.8/site-packages/numpy/core/fromnumeric.py:3474: RuntimeWarning: Mean of empty slice.\n",
      "  return _methods._mean(a, axis=axis, dtype=dtype,\n",
      "/home/jk21/.local/lib/python3.8/site-packages/numpy/core/_methods.py:189: RuntimeWarning: invalid value encountered in double_scalars\n",
      "  ret = ret.dtype.type(ret / rcount)\n",
      "/home/jk21/.local/lib/python3.8/site-packages/numpy/core/fromnumeric.py:3474: RuntimeWarning: Mean of empty slice.\n",
      "  return _methods._mean(a, axis=axis, dtype=dtype,\n",
      "/home/jk21/.local/lib/python3.8/site-packages/numpy/core/_methods.py:189: RuntimeWarning: invalid value encountered in double_scalars\n",
      "  ret = ret.dtype.type(ret / rcount)\n"
     ]
    },
    {
     "name": "stdout",
     "output_type": "stream",
     "text": [
      "    153/191...\n",
      "    154/191...\n",
      "    155/191...\n",
      "    156/191...\n",
      "    157/191...\n",
      "    158/191...\n",
      "    159/191...\n",
      "    160/191...\n",
      "    161/191...\n"
     ]
    },
    {
     "name": "stderr",
     "output_type": "stream",
     "text": [
      "/home/jk21/.local/lib/python3.8/site-packages/numpy/core/fromnumeric.py:3474: RuntimeWarning: Mean of empty slice.\n",
      "  return _methods._mean(a, axis=axis, dtype=dtype,\n",
      "/home/jk21/.local/lib/python3.8/site-packages/numpy/core/_methods.py:189: RuntimeWarning: invalid value encountered in double_scalars\n",
      "  ret = ret.dtype.type(ret / rcount)\n"
     ]
    },
    {
     "name": "stdout",
     "output_type": "stream",
     "text": [
      "    162/191...\n",
      "    163/191...\n",
      "    164/191...\n",
      "    165/191...\n",
      "    166/191...\n",
      "    167/191...\n"
     ]
    },
    {
     "name": "stderr",
     "output_type": "stream",
     "text": [
      "/home/jk21/.local/lib/python3.8/site-packages/numpy/core/fromnumeric.py:3474: RuntimeWarning: Mean of empty slice.\n",
      "  return _methods._mean(a, axis=axis, dtype=dtype,\n",
      "/home/jk21/.local/lib/python3.8/site-packages/numpy/core/_methods.py:189: RuntimeWarning: invalid value encountered in double_scalars\n",
      "  ret = ret.dtype.type(ret / rcount)\n"
     ]
    },
    {
     "name": "stdout",
     "output_type": "stream",
     "text": [
      "    168/191...\n",
      "    169/191...\n",
      "    170/191...\n",
      "    171/191...\n",
      "    172/191...\n",
      "    173/191...\n",
      "    174/191...\n",
      "    175/191...\n"
     ]
    },
    {
     "name": "stderr",
     "output_type": "stream",
     "text": [
      "/home/jk21/.local/lib/python3.8/site-packages/numpy/core/fromnumeric.py:3474: RuntimeWarning: Mean of empty slice.\n",
      "  return _methods._mean(a, axis=axis, dtype=dtype,\n",
      "/home/jk21/.local/lib/python3.8/site-packages/numpy/core/_methods.py:189: RuntimeWarning: invalid value encountered in double_scalars\n",
      "  ret = ret.dtype.type(ret / rcount)\n"
     ]
    },
    {
     "name": "stdout",
     "output_type": "stream",
     "text": [
      "    176/191...\n",
      "    177/191...\n",
      "    178/191...\n"
     ]
    },
    {
     "name": "stderr",
     "output_type": "stream",
     "text": [
      "/home/jk21/.local/lib/python3.8/site-packages/numpy/core/fromnumeric.py:3474: RuntimeWarning: Mean of empty slice.\n",
      "  return _methods._mean(a, axis=axis, dtype=dtype,\n",
      "/home/jk21/.local/lib/python3.8/site-packages/numpy/core/_methods.py:189: RuntimeWarning: invalid value encountered in double_scalars\n",
      "  ret = ret.dtype.type(ret / rcount)\n"
     ]
    },
    {
     "name": "stdout",
     "output_type": "stream",
     "text": [
      "    179/191...\n",
      "    180/191...\n",
      "    181/191...\n",
      "    182/191...\n"
     ]
    },
    {
     "name": "stderr",
     "output_type": "stream",
     "text": [
      "/home/jk21/.local/lib/python3.8/site-packages/numpy/core/fromnumeric.py:3474: RuntimeWarning: Mean of empty slice.\n",
      "  return _methods._mean(a, axis=axis, dtype=dtype,\n",
      "/home/jk21/.local/lib/python3.8/site-packages/numpy/core/_methods.py:189: RuntimeWarning: invalid value encountered in double_scalars\n",
      "  ret = ret.dtype.type(ret / rcount)\n"
     ]
    },
    {
     "name": "stdout",
     "output_type": "stream",
     "text": [
      "    183/191...\n",
      "    184/191...\n"
     ]
    },
    {
     "name": "stderr",
     "output_type": "stream",
     "text": [
      "/home/jk21/.local/lib/python3.8/site-packages/numpy/core/fromnumeric.py:3474: RuntimeWarning: Mean of empty slice.\n",
      "  return _methods._mean(a, axis=axis, dtype=dtype,\n",
      "/home/jk21/.local/lib/python3.8/site-packages/numpy/core/_methods.py:189: RuntimeWarning: invalid value encountered in double_scalars\n",
      "  ret = ret.dtype.type(ret / rcount)\n"
     ]
    },
    {
     "name": "stdout",
     "output_type": "stream",
     "text": [
      "    185/191...\n",
      "    186/191...\n",
      "    187/191...\n"
     ]
    },
    {
     "name": "stderr",
     "output_type": "stream",
     "text": [
      "/home/jk21/.local/lib/python3.8/site-packages/numpy/core/fromnumeric.py:3474: RuntimeWarning: Mean of empty slice.\n",
      "  return _methods._mean(a, axis=axis, dtype=dtype,\n",
      "/home/jk21/.local/lib/python3.8/site-packages/numpy/core/_methods.py:189: RuntimeWarning: invalid value encountered in double_scalars\n",
      "  ret = ret.dtype.type(ret / rcount)\n"
     ]
    },
    {
     "name": "stdout",
     "output_type": "stream",
     "text": [
      "    188/191...\n"
     ]
    },
    {
     "name": "stderr",
     "output_type": "stream",
     "text": [
      "/home/jk21/.local/lib/python3.8/site-packages/numpy/core/fromnumeric.py:3474: RuntimeWarning: Mean of empty slice.\n",
      "  return _methods._mean(a, axis=axis, dtype=dtype,\n",
      "/home/jk21/.local/lib/python3.8/site-packages/numpy/core/_methods.py:189: RuntimeWarning: invalid value encountered in double_scalars\n",
      "  ret = ret.dtype.type(ret / rcount)\n"
     ]
    },
    {
     "name": "stdout",
     "output_type": "stream",
     "text": [
      "    189/191...\n",
      "    190/191...\n"
     ]
    },
    {
     "name": "stderr",
     "output_type": "stream",
     "text": [
      "/home/jk21/.local/lib/python3.8/site-packages/numpy/core/fromnumeric.py:3474: RuntimeWarning: Mean of empty slice.\n",
      "  return _methods._mean(a, axis=axis, dtype=dtype,\n",
      "/home/jk21/.local/lib/python3.8/site-packages/numpy/core/_methods.py:189: RuntimeWarning: invalid value encountered in double_scalars\n",
      "  ret = ret.dtype.type(ret / rcount)\n"
     ]
    },
    {
     "name": "stdout",
     "output_type": "stream",
     "text": [
      "    191/191...\n",
      "Done.\n"
     ]
    }
   ],
   "source": [
    "run_model(model_folder, test_folder, output_folder, allow_failures = True, verbose = 2)"
   ]
  },
  {
   "cell_type": "code",
   "execution_count": 104,
   "id": "0670800f",
   "metadata": {},
   "outputs": [],
   "source": [
    "from evaluate_model import *"
   ]
  },
  {
   "cell_type": "code",
   "execution_count": 105,
   "id": "07ea1979",
   "metadata": {
    "scrolled": true
   },
   "outputs": [
    {
     "name": "stdout",
     "output_type": "stream",
     "text": [
      "#Murmur scores\n",
      "AUROC,AUPRC,F-measure,Accuracy,Weighted Accuracy,Cost\n",
      "0.884,0.693,0.495,0.759,0.757,15329.847\n",
      "\n",
      "#Outcome scores\n",
      "AUROC,AUPRC,F-measure,Accuracy,Weighted Accuracy,Cost\n",
      "0.753,0.741,0.697,0.702,0.607,14282.727\n",
      "\n",
      "#Murmur scores (per class)\n",
      "Classes,Present,Unknown,Absent\n",
      "AUROC,0.942,0.820,0.891\n",
      "AUPRC,0.858,0.278,0.945\n",
      "F-measure,0.636,0.000,0.851\n",
      "Accuracy,0.895,0.000,0.799\n",
      "\n",
      "#Outcome scores (per class)\n",
      "Classes,Abnormal,Normal\n",
      "AUROC,0.753,0.753\n",
      "AUPRC,0.805,0.677\n",
      "F-measure,0.659,0.735\n",
      "Accuracy,0.561,0.849\n",
      "\n"
     ]
    }
   ],
   "source": [
    "murmur_scores, outcome_scores = evaluate_model(test_folder, output_folder)\n",
    "classes, auroc, auprc, auroc_classes, auprc_classes, f_measure, f_measure_classes, accuracy, accuracy_classes, weighted_accuracy, cost = murmur_scores\n",
    "murmur_output_string = 'AUROC,AUPRC,F-measure,Accuracy,Weighted Accuracy,Cost\\n{:.3f},{:.3f},{:.3f},{:.3f},{:.3f},{:.3f}\\n'.format(auroc, auprc, f_measure, accuracy, weighted_accuracy, cost)\n",
    "murmur_class_output_string = 'Classes,{}\\nAUROC,{}\\nAUPRC,{}\\nF-measure,{}\\nAccuracy,{}\\n'.format(\n",
    "    ','.join(classes),\n",
    "    ','.join('{:.3f}'.format(x) for x in auroc_classes),\n",
    "    ','.join('{:.3f}'.format(x) for x in auprc_classes),\n",
    "    ','.join('{:.3f}'.format(x) for x in f_measure_classes),\n",
    "    ','.join('{:.3f}'.format(x) for x in accuracy_classes))\n",
    "\n",
    "classes, auroc, auprc, auroc_classes, auprc_classes, f_measure, f_measure_classes, accuracy, accuracy_classes, weighted_accuracy, cost = outcome_scores\n",
    "outcome_output_string = 'AUROC,AUPRC,F-measure,Accuracy,Weighted Accuracy,Cost\\n{:.3f},{:.3f},{:.3f},{:.3f},{:.3f},{:.3f}\\n'.format(auroc, auprc, f_measure, accuracy, weighted_accuracy, cost)\n",
    "outcome_class_output_string = 'Classes,{}\\nAUROC,{}\\nAUPRC,{}\\nF-measure,{}\\nAccuracy,{}\\n'.format(\n",
    "    ','.join(classes),\n",
    "    ','.join('{:.3f}'.format(x) for x in auroc_classes),\n",
    "    ','.join('{:.3f}'.format(x) for x in auprc_classes),\n",
    "    ','.join('{:.3f}'.format(x) for x in f_measure_classes),\n",
    "    ','.join('{:.3f}'.format(x) for x in accuracy_classes))\n",
    "\n",
    "output_string = '#Murmur scores\\n' + murmur_output_string + '\\n#Outcome scores\\n' + outcome_output_string \\\n",
    "    + '\\n#Murmur scores (per class)\\n' + murmur_class_output_string + '\\n#Outcome scores (per class)\\n' + outcome_class_output_string\n",
    "\n",
    "if len(sys.argv) == 3:\n",
    "    print(output_string)\n",
    "elif len(sys.argv) == 4:\n",
    "    with open(sys.argv[3], 'w') as f:\n",
    "        f.write(output_string)"
   ]
  },
  {
   "cell_type": "code",
   "execution_count": null,
   "id": "ad46f35d",
   "metadata": {},
   "outputs": [],
   "source": []
  },
  {
   "cell_type": "code",
   "execution_count": null,
   "id": "97a5cc30",
   "metadata": {},
   "outputs": [],
   "source": []
  }
 ],
 "metadata": {
  "kernelspec": {
   "display_name": "tf20",
   "language": "python",
   "name": "tf20"
  },
  "language_info": {
   "codemirror_mode": {
    "name": "ipython",
    "version": 3
   },
   "file_extension": ".py",
   "mimetype": "text/x-python",
   "name": "python",
   "nbconvert_exporter": "python",
   "pygments_lexer": "ipython3",
   "version": "3.8.2"
  }
 },
 "nbformat": 4,
 "nbformat_minor": 5
}
