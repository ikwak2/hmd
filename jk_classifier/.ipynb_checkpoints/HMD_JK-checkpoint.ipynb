{
 "cells": [
  {
   "cell_type": "code",
   "execution_count": 1,
   "id": "3d55dbd4",
   "metadata": {},
   "outputs": [],
   "source": [
    "import tensorflow as tf"
   ]
  },
  {
   "cell_type": "code",
   "execution_count": 2,
   "id": "73c09968",
   "metadata": {},
   "outputs": [
    {
     "name": "stdout",
     "output_type": "stream",
     "text": [
      "Sun Jul 24 19:54:37 2022       \r\n",
      "+-----------------------------------------------------------------------------+\r\n",
      "| NVIDIA-SMI 460.91.03    Driver Version: 460.91.03    CUDA Version: 11.2     |\r\n",
      "|-------------------------------+----------------------+----------------------+\r\n",
      "| GPU  Name        Persistence-M| Bus-Id        Disp.A | Volatile Uncorr. ECC |\r\n",
      "| Fan  Temp  Perf  Pwr:Usage/Cap|         Memory-Usage | GPU-Util  Compute M. |\r\n",
      "|                               |                      |               MIG M. |\r\n",
      "|===============================+======================+======================|\r\n",
      "|   0  GeForce RTX 208...  Off  | 00000000:01:00.0 Off |                  N/A |\r\n",
      "| 35%   44C    P0    61W / 260W |    404MiB / 11019MiB |      1%      Default |\r\n",
      "|                               |                      |                  N/A |\r\n",
      "+-------------------------------+----------------------+----------------------+\r\n",
      "                                                                               \r\n",
      "+-----------------------------------------------------------------------------+\r\n",
      "| Processes:                                                                  |\r\n",
      "|  GPU   GI   CI        PID   Type   Process name                  GPU Memory |\r\n",
      "|        ID   ID                                                   Usage      |\r\n",
      "|=============================================================================|\r\n",
      "|    0   N/A  N/A       993      G   /usr/lib/xorg/Xorg                 45MiB |\r\n",
      "|    0   N/A  N/A      1943      G   /usr/lib/xorg/Xorg                235MiB |\r\n",
      "|    0   N/A  N/A      2068      G   /usr/bin/gnome-shell               32MiB |\r\n",
      "|    0   N/A  N/A    567944      G   ...854011572452614690,131072       57MiB |\r\n",
      "+-----------------------------------------------------------------------------+\r\n"
     ]
    }
   ],
   "source": [
    "!nvidia-smi"
   ]
  },
  {
   "cell_type": "code",
   "execution_count": 3,
   "id": "ad188626",
   "metadata": {},
   "outputs": [],
   "source": [
    "import os\n",
    "import pandas as pd\n",
    "import numpy as np\n",
    "import scipy as sp\n",
    "import scipy.stats\n",
    "import librosa\n",
    "import librosa.display\n",
    "import math\n",
    "import sys\n",
    "#sys.path.insert(0,'/home/ikwak2/hmd/notebooks')\n",
    "#sys.path.insert(0,'/home/ikwak2/hmd/iy_classifier')\n",
    "sys.path.insert(0,'utils')\n",
    "from helper_code import *\n",
    "from get_feature import *\n",
    "from models import *\n",
    "from Generator0 import *"
   ]
  },
  {
   "cell_type": "code",
   "execution_count": 4,
   "id": "f8c573ff",
   "metadata": {},
   "outputs": [
    {
     "data": {
      "text/plain": [
       "'/home/jk21/Documents/hmd/jk_classifier'"
      ]
     },
     "execution_count": 4,
     "metadata": {},
     "output_type": "execute_result"
    }
   ],
   "source": [
    "pwd"
   ]
  },
  {
   "cell_type": "code",
   "execution_count": 5,
   "id": "4ab948dc",
   "metadata": {},
   "outputs": [],
   "source": [
    "root_dir = 'physionet.org/files/circor-heart-sound/1.0.3'\n",
    "training_data_file = root_dir + '/' + 'training_data.csv'\n",
    "training_data_dir = root_dir + '/' + 'training_data'\n",
    "model_dir = root_dir + '/' + 'model'"
   ]
  },
  {
   "cell_type": "code",
   "execution_count": 6,
   "id": "2a02ca4e",
   "metadata": {
    "scrolled": true
   },
   "outputs": [
    {
     "name": "stdout",
     "output_type": "stream",
     "text": [
      "Sun Jul 24 19:54:38 2022       \n",
      "+-----------------------------------------------------------------------------+\n",
      "| NVIDIA-SMI 460.91.03    Driver Version: 460.91.03    CUDA Version: 11.2     |\n",
      "|-------------------------------+----------------------+----------------------+\n",
      "| GPU  Name        Persistence-M| Bus-Id        Disp.A | Volatile Uncorr. ECC |\n",
      "| Fan  Temp  Perf  Pwr:Usage/Cap|         Memory-Usage | GPU-Util  Compute M. |\n",
      "|                               |                      |               MIG M. |\n",
      "|===============================+======================+======================|\n",
      "|   0  GeForce RTX 208...  Off  | 00000000:01:00.0 Off |                  N/A |\n",
      "| 35%   44C    P0    62W / 260W |    404MiB / 11019MiB |      2%      Default |\n",
      "|                               |                      |                  N/A |\n",
      "+-------------------------------+----------------------+----------------------+\n",
      "                                                                               \n",
      "+-----------------------------------------------------------------------------+\n",
      "| Processes:                                                                  |\n",
      "|  GPU   GI   CI        PID   Type   Process name                  GPU Memory |\n",
      "|        ID   ID                                                   Usage      |\n",
      "|=============================================================================|\n",
      "|    0   N/A  N/A       993      G   /usr/lib/xorg/Xorg                 45MiB |\n",
      "|    0   N/A  N/A      1943      G   /usr/lib/xorg/Xorg                235MiB |\n",
      "|    0   N/A  N/A      2068      G   /usr/bin/gnome-shell               32MiB |\n",
      "|    0   N/A  N/A    567944      G   ...854011572452614690,131072       57MiB |\n",
      "+-----------------------------------------------------------------------------+\n"
     ]
    }
   ],
   "source": [
    "import tensorflow as tf\n",
    "\n",
    "gpu_info = !nvidia-smi\n",
    "gpu_info = '\\n'.join(gpu_info)\n",
    "print(gpu_info)"
   ]
  },
  {
   "cell_type": "code",
   "execution_count": 7,
   "id": "23812c17",
   "metadata": {},
   "outputs": [
    {
     "data": {
      "text/plain": [
       "'/home/jk21/Documents/hmd/jk_classifier'"
      ]
     },
     "execution_count": 7,
     "metadata": {},
     "output_type": "execute_result"
    }
   ],
   "source": [
    "pwd"
   ]
  },
  {
   "cell_type": "code",
   "execution_count": 8,
   "id": "42f5dd9c",
   "metadata": {},
   "outputs": [],
   "source": [
    "# data_folder =  'physionet.org/files/circor-heart-sound/1.0.3/training_data'\n",
    "train_folder =  '/home/jk21/Downloads/Data/data/murmur/train'\n",
    "test_folder = '/home/jk21/Downloads/Data/data/murmur/test'\n"
   ]
  },
  {
   "cell_type": "code",
   "execution_count": 9,
   "id": "ca657f78",
   "metadata": {},
   "outputs": [],
   "source": [
    "model_folder = 'lcnn2'"
   ]
  },
  {
   "cell_type": "code",
   "execution_count": 10,
   "id": "e49f868b",
   "metadata": {},
   "outputs": [
    {
     "data": {
      "text/plain": [
       "'lcnn2'"
      ]
     },
     "execution_count": 10,
     "metadata": {},
     "output_type": "execute_result"
    }
   ],
   "source": [
    "model_folder"
   ]
  },
  {
   "cell_type": "code",
   "execution_count": 11,
   "id": "ac93e2e1",
   "metadata": {},
   "outputs": [],
   "source": [
    "from tensorflow import keras\n",
    "from tensorflow.keras import layers\n",
    "from tensorflow.keras.callbacks import LearningRateScheduler, ModelCheckpoint"
   ]
  },
  {
   "cell_type": "code",
   "execution_count": 12,
   "id": "e76c75d5",
   "metadata": {},
   "outputs": [],
   "source": [
    "def sigmoidal_decay(e, start=0, end=100, lr_start=1e-3, lr_end=1e-5):\n",
    "    if e < start:\n",
    "        return lr_start\n",
    "    elif e > end:\n",
    "        return lr_end\n",
    "\n",
    "    middle = (start + end) / 2\n",
    "    s = lambda x: 1 / (1 + np.exp(-x))\n",
    "\n",
    "    return s(13 * (-e + middle) / np.abs(end - start)) * np.abs(lr_start - lr_end) + lr_end"
   ]
  },
  {
   "cell_type": "code",
   "execution_count": 13,
   "id": "ac7432d8",
   "metadata": {},
   "outputs": [],
   "source": [
    "patient_files_trn = find_patient_files(train_folder)\n",
    "patient_files_test = find_patient_files(test_folder)"
   ]
  },
  {
   "cell_type": "code",
   "execution_count": 14,
   "id": "ca1fabdb",
   "metadata": {},
   "outputs": [],
   "source": [
    "params_feature = {'samp_sec': 20,\n",
    "                  #### melspec, stft 피쳐 옵션들  \n",
    "                  'pre_emphasis': 0,\n",
    "                  'hop_length': 128,\n",
    "                  'win_length':256,\n",
    "                  'n_mels': 100,\n",
    "                  #### cqt 피쳐 옵션들  \n",
    "                  'filter_scale': 1,\n",
    "                  'n_bins': 80,\n",
    "                  'fmin': 10\n",
    "}"
   ]
  },
  {
   "cell_type": "code",
   "execution_count": null,
   "id": "82ce6a10",
   "metadata": {
    "scrolled": true
   },
   "outputs": [
    {
     "name": "stderr",
     "output_type": "stream",
     "text": [
      "  0%|                                           | 1/751 [00:03<38:21,  3.07s/it]"
     ]
    },
    {
     "name": "stdout",
     "output_type": "stream",
     "text": [
      "/home/jk21/Downloads/Data/data/murmur/train/2530_MV.wav\n"
     ]
    },
    {
     "name": "stderr",
     "output_type": "stream",
     "text": [
      "\r",
      "  0%|                                           | 2/751 [00:06<40:46,  3.27s/it]"
     ]
    }
   ],
   "source": [
    "features_trn, mel_input_shape, cqt_input_shape, stft_input_shape = get_features_3lb_all(train_folder, patient_files_trn, **params_feature,use_mel = True, use_cqt = False, use_stft = False,use_rr=True,use_raw=False)"
   ]
  },
  {
   "cell_type": "code",
   "execution_count": 46,
   "id": "2ce8a026",
   "metadata": {
    "scrolled": true
   },
   "outputs": [
    {
     "name": "stderr",
     "output_type": "stream",
     "text": [
      "  0%|                                                   | 0/191 [00:00<?, ?it/s]/home/jk21/.local/lib/python3.8/site-packages/numpy/core/fromnumeric.py:3474: RuntimeWarning: Mean of empty slice.\n",
      "  return _methods._mean(a, axis=axis, dtype=dtype,\n",
      "/home/jk21/.local/lib/python3.8/site-packages/numpy/core/_methods.py:189: RuntimeWarning: invalid value encountered in double_scalars\n",
      "  ret = ret.dtype.type(ret / rcount)\n",
      "  1%|▍                                          | 2/191 [00:03<06:40,  2.12s/it]/home/jk21/.local/lib/python3.8/site-packages/numpy/core/fromnumeric.py:3474: RuntimeWarning: Mean of empty slice.\n",
      "  return _methods._mean(a, axis=axis, dtype=dtype,\n",
      "/home/jk21/.local/lib/python3.8/site-packages/numpy/core/_methods.py:189: RuntimeWarning: invalid value encountered in double_scalars\n",
      "  ret = ret.dtype.type(ret / rcount)\n",
      "  2%|▉                                          | 4/191 [00:09<07:38,  2.45s/it]/home/jk21/.local/lib/python3.8/site-packages/numpy/core/fromnumeric.py:3474: RuntimeWarning: Mean of empty slice.\n",
      "  return _methods._mean(a, axis=axis, dtype=dtype,\n",
      "/home/jk21/.local/lib/python3.8/site-packages/numpy/core/_methods.py:189: RuntimeWarning: invalid value encountered in double_scalars\n",
      "  ret = ret.dtype.type(ret / rcount)\n",
      "  5%|██                                         | 9/191 [00:25<09:56,  3.28s/it]/home/jk21/.local/lib/python3.8/site-packages/numpy/core/fromnumeric.py:3474: RuntimeWarning: Mean of empty slice.\n",
      "  return _methods._mean(a, axis=axis, dtype=dtype,\n",
      "/home/jk21/.local/lib/python3.8/site-packages/numpy/core/_methods.py:189: RuntimeWarning: invalid value encountered in double_scalars\n",
      "  ret = ret.dtype.type(ret / rcount)\n",
      "  8%|███▌                                      | 16/191 [00:50<09:47,  3.36s/it]/home/jk21/.local/lib/python3.8/site-packages/numpy/core/fromnumeric.py:3474: RuntimeWarning: Mean of empty slice.\n",
      "  return _methods._mean(a, axis=axis, dtype=dtype,\n",
      "/home/jk21/.local/lib/python3.8/site-packages/numpy/core/_methods.py:189: RuntimeWarning: invalid value encountered in double_scalars\n",
      "  ret = ret.dtype.type(ret / rcount)\n",
      "  9%|███▋                                      | 17/191 [00:54<09:55,  3.42s/it]/home/jk21/.local/lib/python3.8/site-packages/numpy/core/fromnumeric.py:3474: RuntimeWarning: Mean of empty slice.\n",
      "  return _methods._mean(a, axis=axis, dtype=dtype,\n",
      "/home/jk21/.local/lib/python3.8/site-packages/numpy/core/_methods.py:189: RuntimeWarning: invalid value encountered in double_scalars\n",
      "  ret = ret.dtype.type(ret / rcount)\n",
      " 13%|█████▎                                    | 24/191 [01:10<07:33,  2.71s/it]/home/jk21/.local/lib/python3.8/site-packages/numpy/core/fromnumeric.py:3474: RuntimeWarning: Mean of empty slice.\n",
      "  return _methods._mean(a, axis=axis, dtype=dtype,\n",
      "/home/jk21/.local/lib/python3.8/site-packages/numpy/core/_methods.py:189: RuntimeWarning: invalid value encountered in double_scalars\n",
      "  ret = ret.dtype.type(ret / rcount)\n",
      " 14%|█████▉                                    | 27/191 [01:20<08:33,  3.13s/it]/home/jk21/.local/lib/python3.8/site-packages/numpy/core/fromnumeric.py:3474: RuntimeWarning: Mean of empty slice.\n",
      "  return _methods._mean(a, axis=axis, dtype=dtype,\n",
      "/home/jk21/.local/lib/python3.8/site-packages/numpy/core/_methods.py:189: RuntimeWarning: invalid value encountered in double_scalars\n",
      "  ret = ret.dtype.type(ret / rcount)\n",
      " 15%|██████▏                                   | 28/191 [01:24<08:33,  3.15s/it]/home/jk21/.local/lib/python3.8/site-packages/numpy/core/fromnumeric.py:3474: RuntimeWarning: Mean of empty slice.\n",
      "  return _methods._mean(a, axis=axis, dtype=dtype,\n",
      "/home/jk21/.local/lib/python3.8/site-packages/numpy/core/_methods.py:189: RuntimeWarning: invalid value encountered in double_scalars\n",
      "  ret = ret.dtype.type(ret / rcount)\n",
      " 16%|██████▊                                   | 31/191 [01:33<08:35,  3.22s/it]/home/jk21/.local/lib/python3.8/site-packages/numpy/core/fromnumeric.py:3474: RuntimeWarning: Mean of empty slice.\n",
      "  return _methods._mean(a, axis=axis, dtype=dtype,\n",
      "/home/jk21/.local/lib/python3.8/site-packages/numpy/core/_methods.py:189: RuntimeWarning: invalid value encountered in double_scalars\n",
      "  ret = ret.dtype.type(ret / rcount)\n",
      "/home/jk21/.local/lib/python3.8/site-packages/numpy/core/fromnumeric.py:3474: RuntimeWarning: Mean of empty slice.\n",
      "  return _methods._mean(a, axis=axis, dtype=dtype,\n",
      "/home/jk21/.local/lib/python3.8/site-packages/numpy/core/_methods.py:189: RuntimeWarning: invalid value encountered in double_scalars\n",
      "  ret = ret.dtype.type(ret / rcount)\n",
      " 17%|███████▎                                  | 33/191 [01:37<06:21,  2.42s/it]/home/jk21/.local/lib/python3.8/site-packages/numpy/core/fromnumeric.py:3474: RuntimeWarning: Mean of empty slice.\n",
      "  return _methods._mean(a, axis=axis, dtype=dtype,\n",
      "/home/jk21/.local/lib/python3.8/site-packages/numpy/core/_methods.py:189: RuntimeWarning: invalid value encountered in double_scalars\n",
      "  ret = ret.dtype.type(ret / rcount)\n",
      " 18%|███████▍                                  | 34/191 [01:40<06:53,  2.63s/it]/home/jk21/.local/lib/python3.8/site-packages/numpy/core/fromnumeric.py:3474: RuntimeWarning: Mean of empty slice.\n",
      "  return _methods._mean(a, axis=axis, dtype=dtype,\n",
      "/home/jk21/.local/lib/python3.8/site-packages/numpy/core/_methods.py:189: RuntimeWarning: invalid value encountered in double_scalars\n",
      "  ret = ret.dtype.type(ret / rcount)\n",
      " 18%|███████▋                                  | 35/191 [01:43<07:29,  2.88s/it]/home/jk21/.local/lib/python3.8/site-packages/numpy/core/fromnumeric.py:3474: RuntimeWarning: Mean of empty slice.\n",
      "  return _methods._mean(a, axis=axis, dtype=dtype,\n",
      "/home/jk21/.local/lib/python3.8/site-packages/numpy/core/_methods.py:189: RuntimeWarning: invalid value encountered in double_scalars\n",
      "  ret = ret.dtype.type(ret / rcount)\n",
      "/home/jk21/.local/lib/python3.8/site-packages/numpy/core/fromnumeric.py:3474: RuntimeWarning: Mean of empty slice.\n",
      "  return _methods._mean(a, axis=axis, dtype=dtype,\n",
      "/home/jk21/.local/lib/python3.8/site-packages/numpy/core/_methods.py:189: RuntimeWarning: invalid value encountered in double_scalars\n",
      "  ret = ret.dtype.type(ret / rcount)\n",
      " 19%|███████▉                                  | 36/191 [01:46<07:31,  2.91s/it]/home/jk21/.local/lib/python3.8/site-packages/numpy/core/fromnumeric.py:3474: RuntimeWarning: Mean of empty slice.\n",
      "  return _methods._mean(a, axis=axis, dtype=dtype,\n",
      "/home/jk21/.local/lib/python3.8/site-packages/numpy/core/_methods.py:189: RuntimeWarning: invalid value encountered in double_scalars\n",
      "  ret = ret.dtype.type(ret / rcount)\n",
      " 19%|████████▏                                 | 37/191 [01:49<06:59,  2.72s/it]/home/jk21/.local/lib/python3.8/site-packages/numpy/core/fromnumeric.py:3474: RuntimeWarning: Mean of empty slice.\n",
      "  return _methods._mean(a, axis=axis, dtype=dtype,\n",
      "/home/jk21/.local/lib/python3.8/site-packages/numpy/core/_methods.py:189: RuntimeWarning: invalid value encountered in double_scalars\n",
      "  ret = ret.dtype.type(ret / rcount)\n",
      "/home/jk21/.local/lib/python3.8/site-packages/numpy/core/fromnumeric.py:3474: RuntimeWarning: Mean of empty slice.\n",
      "  return _methods._mean(a, axis=axis, dtype=dtype,\n",
      "/home/jk21/.local/lib/python3.8/site-packages/numpy/core/_methods.py:189: RuntimeWarning: invalid value encountered in double_scalars\n",
      "  ret = ret.dtype.type(ret / rcount)\n",
      "/home/jk21/.local/lib/python3.8/site-packages/numpy/core/fromnumeric.py:3474: RuntimeWarning: Mean of empty slice.\n",
      "  return _methods._mean(a, axis=axis, dtype=dtype,\n",
      "/home/jk21/.local/lib/python3.8/site-packages/numpy/core/_methods.py:189: RuntimeWarning: invalid value encountered in double_scalars\n",
      "  ret = ret.dtype.type(ret / rcount)\n",
      " 23%|█████████▍                                | 43/191 [02:10<07:23,  3.00s/it]/home/jk21/.local/lib/python3.8/site-packages/numpy/core/fromnumeric.py:3474: RuntimeWarning: Mean of empty slice.\n",
      "  return _methods._mean(a, axis=axis, dtype=dtype,\n",
      "/home/jk21/.local/lib/python3.8/site-packages/numpy/core/_methods.py:189: RuntimeWarning: invalid value encountered in double_scalars\n",
      "  ret = ret.dtype.type(ret / rcount)\n",
      " 23%|█████████▋                                | 44/191 [02:13<07:37,  3.12s/it]/home/jk21/.local/lib/python3.8/site-packages/numpy/core/fromnumeric.py:3474: RuntimeWarning: Mean of empty slice.\n",
      "  return _methods._mean(a, axis=axis, dtype=dtype,\n",
      "/home/jk21/.local/lib/python3.8/site-packages/numpy/core/_methods.py:189: RuntimeWarning: invalid value encountered in double_scalars\n",
      "  ret = ret.dtype.type(ret / rcount)\n"
     ]
    },
    {
     "name": "stderr",
     "output_type": "stream",
     "text": [
      " 24%|██████████                                | 46/191 [02:22<08:56,  3.70s/it]/home/jk21/.local/lib/python3.8/site-packages/numpy/core/fromnumeric.py:3474: RuntimeWarning: Mean of empty slice.\n",
      "  return _methods._mean(a, axis=axis, dtype=dtype,\n",
      "/home/jk21/.local/lib/python3.8/site-packages/numpy/core/_methods.py:189: RuntimeWarning: invalid value encountered in double_scalars\n",
      "  ret = ret.dtype.type(ret / rcount)\n",
      " 25%|██████████▎                               | 47/191 [02:26<09:18,  3.88s/it]/home/jk21/.local/lib/python3.8/site-packages/numpy/core/fromnumeric.py:3474: RuntimeWarning: Mean of empty slice.\n",
      "  return _methods._mean(a, axis=axis, dtype=dtype,\n",
      "/home/jk21/.local/lib/python3.8/site-packages/numpy/core/_methods.py:189: RuntimeWarning: invalid value encountered in double_scalars\n",
      "  ret = ret.dtype.type(ret / rcount)\n",
      " 27%|███████████▏                              | 51/191 [02:37<06:28,  2.77s/it]/home/jk21/.local/lib/python3.8/site-packages/numpy/core/fromnumeric.py:3474: RuntimeWarning: Mean of empty slice.\n",
      "  return _methods._mean(a, axis=axis, dtype=dtype,\n",
      "/home/jk21/.local/lib/python3.8/site-packages/numpy/core/_methods.py:189: RuntimeWarning: invalid value encountered in double_scalars\n",
      "  ret = ret.dtype.type(ret / rcount)\n",
      " 28%|███████████▋                              | 53/191 [02:44<07:02,  3.06s/it]/home/jk21/.local/lib/python3.8/site-packages/numpy/core/fromnumeric.py:3474: RuntimeWarning: Mean of empty slice.\n",
      "  return _methods._mean(a, axis=axis, dtype=dtype,\n",
      "/home/jk21/.local/lib/python3.8/site-packages/numpy/core/_methods.py:189: RuntimeWarning: invalid value encountered in double_scalars\n",
      "  ret = ret.dtype.type(ret / rcount)\n",
      " 30%|████████████▊                             | 58/191 [03:02<06:39,  3.00s/it]/home/jk21/.local/lib/python3.8/site-packages/numpy/core/fromnumeric.py:3474: RuntimeWarning: Mean of empty slice.\n",
      "  return _methods._mean(a, axis=axis, dtype=dtype,\n",
      "/home/jk21/.local/lib/python3.8/site-packages/numpy/core/_methods.py:189: RuntimeWarning: invalid value encountered in double_scalars\n",
      "  ret = ret.dtype.type(ret / rcount)\n",
      " 32%|█████████████▍                            | 61/191 [03:09<05:32,  2.56s/it]/home/jk21/.local/lib/python3.8/site-packages/numpy/core/fromnumeric.py:3474: RuntimeWarning: Mean of empty slice.\n",
      "  return _methods._mean(a, axis=axis, dtype=dtype,\n",
      "/home/jk21/.local/lib/python3.8/site-packages/numpy/core/_methods.py:189: RuntimeWarning: invalid value encountered in double_scalars\n",
      "  ret = ret.dtype.type(ret / rcount)\n",
      "/home/jk21/.local/lib/python3.8/site-packages/numpy/core/fromnumeric.py:3474: RuntimeWarning: Mean of empty slice.\n",
      "  return _methods._mean(a, axis=axis, dtype=dtype,\n",
      "/home/jk21/.local/lib/python3.8/site-packages/numpy/core/_methods.py:189: RuntimeWarning: invalid value encountered in double_scalars\n",
      "  ret = ret.dtype.type(ret / rcount)\n",
      "/home/jk21/.local/lib/python3.8/site-packages/numpy/core/fromnumeric.py:3474: RuntimeWarning: Mean of empty slice.\n",
      "  return _methods._mean(a, axis=axis, dtype=dtype,\n",
      "/home/jk21/.local/lib/python3.8/site-packages/numpy/core/_methods.py:189: RuntimeWarning: invalid value encountered in double_scalars\n",
      "  ret = ret.dtype.type(ret / rcount)\n",
      " 32%|█████████████▋                            | 62/191 [03:15<07:31,  3.50s/it]/home/jk21/.local/lib/python3.8/site-packages/numpy/core/fromnumeric.py:3474: RuntimeWarning: Mean of empty slice.\n",
      "  return _methods._mean(a, axis=axis, dtype=dtype,\n",
      "/home/jk21/.local/lib/python3.8/site-packages/numpy/core/_methods.py:189: RuntimeWarning: invalid value encountered in double_scalars\n",
      "  ret = ret.dtype.type(ret / rcount)\n",
      " 34%|██████████████▎                           | 65/191 [03:23<05:50,  2.78s/it]/home/jk21/.local/lib/python3.8/site-packages/numpy/core/fromnumeric.py:3474: RuntimeWarning: Mean of empty slice.\n",
      "  return _methods._mean(a, axis=axis, dtype=dtype,\n",
      "/home/jk21/.local/lib/python3.8/site-packages/numpy/core/_methods.py:189: RuntimeWarning: invalid value encountered in double_scalars\n",
      "  ret = ret.dtype.type(ret / rcount)\n",
      " 37%|███████████████▌                          | 71/191 [03:54<09:59,  4.99s/it]/home/jk21/.local/lib/python3.8/site-packages/numpy/core/fromnumeric.py:3474: RuntimeWarning: Mean of empty slice.\n",
      "  return _methods._mean(a, axis=axis, dtype=dtype,\n",
      "/home/jk21/.local/lib/python3.8/site-packages/numpy/core/_methods.py:189: RuntimeWarning: invalid value encountered in double_scalars\n",
      "  ret = ret.dtype.type(ret / rcount)\n",
      " 38%|████████████████                          | 73/191 [04:01<08:40,  4.41s/it]/home/jk21/.local/lib/python3.8/site-packages/numpy/core/fromnumeric.py:3474: RuntimeWarning: Mean of empty slice.\n",
      "  return _methods._mean(a, axis=axis, dtype=dtype,\n",
      "/home/jk21/.local/lib/python3.8/site-packages/numpy/core/_methods.py:189: RuntimeWarning: invalid value encountered in double_scalars\n",
      "  ret = ret.dtype.type(ret / rcount)\n",
      " 40%|████████████████▋                         | 76/191 [04:13<07:51,  4.10s/it]/home/jk21/.local/lib/python3.8/site-packages/numpy/core/fromnumeric.py:3474: RuntimeWarning: Mean of empty slice.\n",
      "  return _methods._mean(a, axis=axis, dtype=dtype,\n",
      "/home/jk21/.local/lib/python3.8/site-packages/numpy/core/_methods.py:189: RuntimeWarning: invalid value encountered in double_scalars\n",
      "  ret = ret.dtype.type(ret / rcount)\n",
      " 40%|████████████████▉                         | 77/191 [04:17<07:54,  4.16s/it]/home/jk21/.local/lib/python3.8/site-packages/numpy/core/fromnumeric.py:3474: RuntimeWarning: Mean of empty slice.\n",
      "  return _methods._mean(a, axis=axis, dtype=dtype,\n",
      "/home/jk21/.local/lib/python3.8/site-packages/numpy/core/_methods.py:189: RuntimeWarning: invalid value encountered in double_scalars\n",
      "  ret = ret.dtype.type(ret / rcount)\n",
      " 45%|██████████████████▉                       | 86/191 [04:40<04:04,  2.32s/it]/home/jk21/.local/lib/python3.8/site-packages/numpy/core/fromnumeric.py:3474: RuntimeWarning: Mean of empty slice.\n",
      "  return _methods._mean(a, axis=axis, dtype=dtype,\n",
      "/home/jk21/.local/lib/python3.8/site-packages/numpy/core/_methods.py:189: RuntimeWarning: invalid value encountered in double_scalars\n",
      "  ret = ret.dtype.type(ret / rcount)\n",
      " 48%|████████████████████▏                     | 92/191 [04:57<04:31,  2.74s/it]/home/jk21/.local/lib/python3.8/site-packages/numpy/core/fromnumeric.py:3474: RuntimeWarning: Mean of empty slice.\n",
      "  return _methods._mean(a, axis=axis, dtype=dtype,\n",
      "/home/jk21/.local/lib/python3.8/site-packages/numpy/core/_methods.py:189: RuntimeWarning: invalid value encountered in double_scalars\n",
      "  ret = ret.dtype.type(ret / rcount)\n",
      "/home/jk21/.local/lib/python3.8/site-packages/numpy/core/fromnumeric.py:3474: RuntimeWarning: Mean of empty slice.\n",
      "  return _methods._mean(a, axis=axis, dtype=dtype,\n",
      "/home/jk21/.local/lib/python3.8/site-packages/numpy/core/_methods.py:189: RuntimeWarning: invalid value encountered in double_scalars\n",
      "  ret = ret.dtype.type(ret / rcount)\n",
      " 49%|████████████████████▍                     | 93/191 [05:00<04:38,  2.85s/it]/home/jk21/.local/lib/python3.8/site-packages/numpy/core/fromnumeric.py:3474: RuntimeWarning: Mean of empty slice.\n",
      "  return _methods._mean(a, axis=axis, dtype=dtype,\n",
      "/home/jk21/.local/lib/python3.8/site-packages/numpy/core/_methods.py:189: RuntimeWarning: invalid value encountered in double_scalars\n",
      "  ret = ret.dtype.type(ret / rcount)\n",
      " 50%|████████████████████▉                     | 95/191 [05:06<04:44,  2.96s/it]/home/jk21/.local/lib/python3.8/site-packages/numpy/core/fromnumeric.py:3474: RuntimeWarning: Mean of empty slice.\n",
      "  return _methods._mean(a, axis=axis, dtype=dtype,\n",
      "/home/jk21/.local/lib/python3.8/site-packages/numpy/core/_methods.py:189: RuntimeWarning: invalid value encountered in double_scalars\n",
      "  ret = ret.dtype.type(ret / rcount)\n",
      " 50%|█████████████████████                     | 96/191 [05:08<03:59,  2.52s/it]"
     ]
    },
    {
     "name": "stdout",
     "output_type": "stream",
     "text": [
      "/home/jk21/Downloads/Data/data/murmur/test/68682_MV.wav\n"
     ]
    },
    {
     "name": "stderr",
     "output_type": "stream",
     "text": [
      " 54%|██████████████████████                   | 103/191 [05:29<04:47,  3.27s/it]/home/jk21/.local/lib/python3.8/site-packages/numpy/core/fromnumeric.py:3474: RuntimeWarning: Mean of empty slice.\n",
      "  return _methods._mean(a, axis=axis, dtype=dtype,\n",
      "/home/jk21/.local/lib/python3.8/site-packages/numpy/core/_methods.py:189: RuntimeWarning: invalid value encountered in double_scalars\n",
      "  ret = ret.dtype.type(ret / rcount)\n",
      " 54%|██████████████████████▎                  | 104/191 [05:31<04:13,  2.92s/it]/home/jk21/.local/lib/python3.8/site-packages/numpy/core/fromnumeric.py:3474: RuntimeWarning: Mean of empty slice.\n",
      "  return _methods._mean(a, axis=axis, dtype=dtype,\n",
      "/home/jk21/.local/lib/python3.8/site-packages/numpy/core/_methods.py:189: RuntimeWarning: invalid value encountered in double_scalars\n",
      "  ret = ret.dtype.type(ret / rcount)\n",
      " 56%|██████████████████████▉                  | 107/191 [05:40<04:09,  2.97s/it]/home/jk21/.local/lib/python3.8/site-packages/numpy/core/fromnumeric.py:3474: RuntimeWarning: Mean of empty slice.\n",
      "  return _methods._mean(a, axis=axis, dtype=dtype,\n",
      "/home/jk21/.local/lib/python3.8/site-packages/numpy/core/_methods.py:189: RuntimeWarning: invalid value encountered in double_scalars\n",
      "  ret = ret.dtype.type(ret / rcount)\n",
      " 63%|█████████████████████████▊               | 120/191 [06:11<03:29,  2.95s/it]/home/jk21/.local/lib/python3.8/site-packages/numpy/core/fromnumeric.py:3474: RuntimeWarning: Mean of empty slice.\n",
      "  return _methods._mean(a, axis=axis, dtype=dtype,\n",
      "/home/jk21/.local/lib/python3.8/site-packages/numpy/core/_methods.py:189: RuntimeWarning: invalid value encountered in double_scalars\n",
      "  ret = ret.dtype.type(ret / rcount)\n",
      " 63%|█████████████████████████▉               | 121/191 [06:14<03:25,  2.93s/it]/home/jk21/.local/lib/python3.8/site-packages/numpy/core/fromnumeric.py:3474: RuntimeWarning: Mean of empty slice.\n",
      "  return _methods._mean(a, axis=axis, dtype=dtype,\n",
      "/home/jk21/.local/lib/python3.8/site-packages/numpy/core/_methods.py:189: RuntimeWarning: invalid value encountered in double_scalars\n",
      "  ret = ret.dtype.type(ret / rcount)\n",
      " 64%|██████████████████████████▏              | 122/191 [06:16<03:04,  2.68s/it]/home/jk21/.local/lib/python3.8/site-packages/numpy/core/fromnumeric.py:3474: RuntimeWarning: Mean of empty slice.\n",
      "  return _methods._mean(a, axis=axis, dtype=dtype,\n",
      "/home/jk21/.local/lib/python3.8/site-packages/numpy/core/_methods.py:189: RuntimeWarning: invalid value encountered in double_scalars\n",
      "  ret = ret.dtype.type(ret / rcount)\n",
      " 65%|██████████████████████████▌              | 124/191 [06:21<02:57,  2.65s/it]/home/jk21/.local/lib/python3.8/site-packages/numpy/core/fromnumeric.py:3474: RuntimeWarning: Mean of empty slice.\n",
      "  return _methods._mean(a, axis=axis, dtype=dtype,\n",
      "/home/jk21/.local/lib/python3.8/site-packages/numpy/core/_methods.py:189: RuntimeWarning: invalid value encountered in double_scalars\n",
      "  ret = ret.dtype.type(ret / rcount)\n",
      " 66%|███████████████████████████▎             | 127/191 [06:29<02:40,  2.51s/it]/home/jk21/.local/lib/python3.8/site-packages/numpy/core/fromnumeric.py:3474: RuntimeWarning: Mean of empty slice.\n",
      "  return _methods._mean(a, axis=axis, dtype=dtype,\n",
      "/home/jk21/.local/lib/python3.8/site-packages/numpy/core/_methods.py:189: RuntimeWarning: invalid value encountered in double_scalars\n",
      "  ret = ret.dtype.type(ret / rcount)\n",
      " 68%|███████████████████████████▋             | 129/191 [06:35<02:46,  2.69s/it]/home/jk21/.local/lib/python3.8/site-packages/numpy/core/fromnumeric.py:3474: RuntimeWarning: Mean of empty slice.\n",
      "  return _methods._mean(a, axis=axis, dtype=dtype,\n",
      "/home/jk21/.local/lib/python3.8/site-packages/numpy/core/_methods.py:189: RuntimeWarning: invalid value encountered in double_scalars\n",
      "  ret = ret.dtype.type(ret / rcount)\n",
      "/home/jk21/.local/lib/python3.8/site-packages/numpy/core/fromnumeric.py:3474: RuntimeWarning: Mean of empty slice.\n",
      "  return _methods._mean(a, axis=axis, dtype=dtype,\n",
      "/home/jk21/.local/lib/python3.8/site-packages/numpy/core/_methods.py:189: RuntimeWarning: invalid value encountered in double_scalars\n",
      "  ret = ret.dtype.type(ret / rcount)\n",
      " 73%|█████████████████████████████▊           | 139/191 [07:01<02:18,  2.67s/it]/home/jk21/.local/lib/python3.8/site-packages/numpy/core/fromnumeric.py:3474: RuntimeWarning: Mean of empty slice.\n",
      "  return _methods._mean(a, axis=axis, dtype=dtype,\n",
      "/home/jk21/.local/lib/python3.8/site-packages/numpy/core/_methods.py:189: RuntimeWarning: invalid value encountered in double_scalars\n",
      "  ret = ret.dtype.type(ret / rcount)\n",
      " 75%|██████████████████████████████▉          | 144/191 [07:16<02:23,  3.05s/it]/home/jk21/.local/lib/python3.8/site-packages/numpy/core/fromnumeric.py:3474: RuntimeWarning: Mean of empty slice.\n",
      "  return _methods._mean(a, axis=axis, dtype=dtype,\n",
      "/home/jk21/.local/lib/python3.8/site-packages/numpy/core/_methods.py:189: RuntimeWarning: invalid value encountered in double_scalars\n",
      "  ret = ret.dtype.type(ret / rcount)\n",
      " 77%|███████████████████████████████▊         | 148/191 [07:28<02:05,  2.91s/it]/home/jk21/.local/lib/python3.8/site-packages/numpy/core/fromnumeric.py:3474: RuntimeWarning: Mean of empty slice.\n",
      "  return _methods._mean(a, axis=axis, dtype=dtype,\n",
      "/home/jk21/.local/lib/python3.8/site-packages/numpy/core/_methods.py:189: RuntimeWarning: invalid value encountered in double_scalars\n",
      "  ret = ret.dtype.type(ret / rcount)\n",
      "/home/jk21/.local/lib/python3.8/site-packages/numpy/core/fromnumeric.py:3474: RuntimeWarning: Mean of empty slice.\n",
      "  return _methods._mean(a, axis=axis, dtype=dtype,\n",
      "/home/jk21/.local/lib/python3.8/site-packages/numpy/core/_methods.py:189: RuntimeWarning: invalid value encountered in double_scalars\n",
      "  ret = ret.dtype.type(ret / rcount)\n",
      " 79%|████████████████████████████████▍        | 151/191 [07:37<02:01,  3.03s/it]/home/jk21/.local/lib/python3.8/site-packages/numpy/core/fromnumeric.py:3474: RuntimeWarning: Mean of empty slice.\n",
      "  return _methods._mean(a, axis=axis, dtype=dtype,\n",
      "/home/jk21/.local/lib/python3.8/site-packages/numpy/core/_methods.py:189: RuntimeWarning: invalid value encountered in double_scalars\n",
      "  ret = ret.dtype.type(ret / rcount)\n",
      "/home/jk21/.local/lib/python3.8/site-packages/numpy/core/fromnumeric.py:3474: RuntimeWarning: Mean of empty slice.\n",
      "  return _methods._mean(a, axis=axis, dtype=dtype,\n",
      "/home/jk21/.local/lib/python3.8/site-packages/numpy/core/_methods.py:189: RuntimeWarning: invalid value encountered in double_scalars\n",
      "  ret = ret.dtype.type(ret / rcount)\n",
      " 84%|██████████████████████████████████▎      | 160/191 [08:00<01:25,  2.75s/it]/home/jk21/.local/lib/python3.8/site-packages/numpy/core/fromnumeric.py:3474: RuntimeWarning: Mean of empty slice.\n",
      "  return _methods._mean(a, axis=axis, dtype=dtype,\n",
      "/home/jk21/.local/lib/python3.8/site-packages/numpy/core/_methods.py:189: RuntimeWarning: invalid value encountered in double_scalars\n",
      "  ret = ret.dtype.type(ret / rcount)\n",
      " 87%|███████████████████████████████████▋     | 166/191 [08:17<01:04,  2.59s/it]/home/jk21/.local/lib/python3.8/site-packages/numpy/core/fromnumeric.py:3474: RuntimeWarning: Mean of empty slice.\n",
      "  return _methods._mean(a, axis=axis, dtype=dtype,\n",
      "/home/jk21/.local/lib/python3.8/site-packages/numpy/core/_methods.py:189: RuntimeWarning: invalid value encountered in double_scalars\n",
      "  ret = ret.dtype.type(ret / rcount)\n",
      " 91%|█████████████████████████████████████▎   | 174/191 [08:36<00:41,  2.46s/it]/home/jk21/.local/lib/python3.8/site-packages/numpy/core/fromnumeric.py:3474: RuntimeWarning: Mean of empty slice.\n",
      "  return _methods._mean(a, axis=axis, dtype=dtype,\n",
      "/home/jk21/.local/lib/python3.8/site-packages/numpy/core/_methods.py:189: RuntimeWarning: invalid value encountered in double_scalars\n",
      "  ret = ret.dtype.type(ret / rcount)\n",
      " 93%|█████████████████████████████████████▉   | 177/191 [08:44<00:37,  2.69s/it]/home/jk21/.local/lib/python3.8/site-packages/numpy/core/fromnumeric.py:3474: RuntimeWarning: Mean of empty slice.\n",
      "  return _methods._mean(a, axis=axis, dtype=dtype,\n",
      "/home/jk21/.local/lib/python3.8/site-packages/numpy/core/_methods.py:189: RuntimeWarning: invalid value encountered in double_scalars\n",
      "  ret = ret.dtype.type(ret / rcount)\n",
      " 95%|██████████████████████████████████████▊  | 181/191 [08:53<00:24,  2.47s/it]/home/jk21/.local/lib/python3.8/site-packages/numpy/core/fromnumeric.py:3474: RuntimeWarning: Mean of empty slice.\n",
      "  return _methods._mean(a, axis=axis, dtype=dtype,\n",
      "/home/jk21/.local/lib/python3.8/site-packages/numpy/core/_methods.py:189: RuntimeWarning: invalid value encountered in double_scalars\n",
      "  ret = ret.dtype.type(ret / rcount)\n"
     ]
    },
    {
     "name": "stderr",
     "output_type": "stream",
     "text": [
      " 96%|███████████████████████████████████████▎ | 183/191 [09:00<00:22,  2.86s/it]/home/jk21/.local/lib/python3.8/site-packages/numpy/core/fromnumeric.py:3474: RuntimeWarning: Mean of empty slice.\n",
      "  return _methods._mean(a, axis=axis, dtype=dtype,\n",
      "/home/jk21/.local/lib/python3.8/site-packages/numpy/core/_methods.py:189: RuntimeWarning: invalid value encountered in double_scalars\n",
      "  ret = ret.dtype.type(ret / rcount)\n",
      " 97%|███████████████████████████████████████▉ | 186/191 [09:08<00:13,  2.75s/it]/home/jk21/.local/lib/python3.8/site-packages/numpy/core/fromnumeric.py:3474: RuntimeWarning: Mean of empty slice.\n",
      "  return _methods._mean(a, axis=axis, dtype=dtype,\n",
      "/home/jk21/.local/lib/python3.8/site-packages/numpy/core/_methods.py:189: RuntimeWarning: invalid value encountered in double_scalars\n",
      "  ret = ret.dtype.type(ret / rcount)\n",
      " 98%|████████████████████████████████████████▏| 187/191 [09:12<00:12,  3.08s/it]/home/jk21/.local/lib/python3.8/site-packages/numpy/core/fromnumeric.py:3474: RuntimeWarning: Mean of empty slice.\n",
      "  return _methods._mean(a, axis=axis, dtype=dtype,\n",
      "/home/jk21/.local/lib/python3.8/site-packages/numpy/core/_methods.py:189: RuntimeWarning: invalid value encountered in double_scalars\n",
      "  ret = ret.dtype.type(ret / rcount)\n",
      " 99%|████████████████████████████████████████▌| 189/191 [09:17<00:05,  2.86s/it]/home/jk21/.local/lib/python3.8/site-packages/numpy/core/fromnumeric.py:3474: RuntimeWarning: Mean of empty slice.\n",
      "  return _methods._mean(a, axis=axis, dtype=dtype,\n",
      "/home/jk21/.local/lib/python3.8/site-packages/numpy/core/_methods.py:189: RuntimeWarning: invalid value encountered in double_scalars\n",
      "  ret = ret.dtype.type(ret / rcount)\n",
      "100%|█████████████████████████████████████████| 191/191 [09:21<00:00,  2.94s/it]"
     ]
    },
    {
     "name": "stdout",
     "output_type": "stream",
     "text": [
      "melspec:  100 313\n"
     ]
    },
    {
     "name": "stderr",
     "output_type": "stream",
     "text": [
      "\n"
     ]
    }
   ],
   "source": [
    "features_test, _, _, _ = get_features_3lb_all(test_folder, patient_files_test, **params_feature,use_mel = True, use_cqt = False, use_stft = False,use_rr=True,use_raw=False)"
   ]
  },
  {
   "cell_type": "code",
   "execution_count": null,
   "id": "7ed93f2b",
   "metadata": {},
   "outputs": [],
   "source": [
    "pwd"
   ]
  },
  {
   "cell_type": "code",
   "execution_count": 17,
   "id": "8b2ff2db",
   "metadata": {},
   "outputs": [
    {
     "ename": "NameError",
     "evalue": "name 'features_trn' is not defined",
     "output_type": "error",
     "traceback": [
      "\u001b[0;31m---------------------------------------------------------------------------\u001b[0m",
      "\u001b[0;31mNameError\u001b[0m                                 Traceback (most recent call last)",
      "Input \u001b[0;32mIn [17]\u001b[0m, in \u001b[0;36m<module>\u001b[0;34m\u001b[0m\n\u001b[1;32m      1\u001b[0m \u001b[38;5;28;01mwith\u001b[39;00m \u001b[38;5;28mopen\u001b[39m(\u001b[38;5;124m'\u001b[39m\u001b[38;5;124mfeatures_trn.pickle\u001b[39m\u001b[38;5;124m'\u001b[39m, \u001b[38;5;124m'\u001b[39m\u001b[38;5;124mwb\u001b[39m\u001b[38;5;124m'\u001b[39m) \u001b[38;5;28;01mas\u001b[39;00m f:\n\u001b[0;32m----> 2\u001b[0m     pickle\u001b[38;5;241m.\u001b[39mdump(\u001b[43mfeatures_trn\u001b[49m, f, pickle\u001b[38;5;241m.\u001b[39mHIGHEST_PROTOCOL)\n",
      "\u001b[0;31mNameError\u001b[0m: name 'features_trn' is not defined"
     ]
    }
   ],
   "source": [
    "with open('features_trn.pickle', 'wb') as f:\n",
    "    pickle.dump(features_trn, f, pickle.HIGHEST_PROTOCOL)"
   ]
  },
  {
   "cell_type": "code",
   "execution_count": 18,
   "id": "b9f7179a",
   "metadata": {},
   "outputs": [
    {
     "ename": "NameError",
     "evalue": "name 'features_test' is not defined",
     "output_type": "error",
     "traceback": [
      "\u001b[0;31m---------------------------------------------------------------------------\u001b[0m",
      "\u001b[0;31mNameError\u001b[0m                                 Traceback (most recent call last)",
      "Input \u001b[0;32mIn [18]\u001b[0m, in \u001b[0;36m<module>\u001b[0;34m\u001b[0m\n\u001b[1;32m      1\u001b[0m \u001b[38;5;28;01mwith\u001b[39;00m \u001b[38;5;28mopen\u001b[39m(\u001b[38;5;124m'\u001b[39m\u001b[38;5;124mfeatures_test.pickle\u001b[39m\u001b[38;5;124m'\u001b[39m, \u001b[38;5;124m'\u001b[39m\u001b[38;5;124mwb\u001b[39m\u001b[38;5;124m'\u001b[39m) \u001b[38;5;28;01mas\u001b[39;00m f:\n\u001b[0;32m----> 2\u001b[0m     pickle\u001b[38;5;241m.\u001b[39mdump(\u001b[43mfeatures_test\u001b[49m, f, pickle\u001b[38;5;241m.\u001b[39mHIGHEST_PROTOCOL)\n",
      "\u001b[0;31mNameError\u001b[0m: name 'features_test' is not defined"
     ]
    }
   ],
   "source": [
    "with open('features_test.pickle', 'wb') as f:\n",
    "    pickle.dump(features_test, f, pickle.HIGHEST_PROTOCOL)"
   ]
  },
  {
   "cell_type": "code",
   "execution_count": 1,
   "id": "551313f8",
   "metadata": {},
   "outputs": [
    {
     "data": {
      "text/plain": [
       "'/home/jk21/Documents/hmd/jk_classifier'"
      ]
     },
     "execution_count": 1,
     "metadata": {},
     "output_type": "execute_result"
    }
   ],
   "source": [
    "pwd"
   ]
  },
  {
   "cell_type": "code",
   "execution_count": null,
   "id": "0a4271d3",
   "metadata": {},
   "outputs": [],
   "source": []
  },
  {
   "cell_type": "code",
   "execution_count": 15,
   "id": "79f59c5e",
   "metadata": {
    "scrolled": true
   },
   "outputs": [],
   "source": [
    "with open('/home/jk21/Downloads/Data/features_trn_rr_raw.pickle', 'rb') as f:\n",
    "    features_trn = pickle.load(f)"
   ]
  },
  {
   "cell_type": "code",
   "execution_count": 16,
   "id": "dd412feb",
   "metadata": {},
   "outputs": [],
   "source": [
    "with open('/home/jk21/Downloads/Data/features_test_rr_raw.pickle', 'rb') as f:\n",
    "    features_test = pickle.load(f)"
   ]
  },
  {
   "cell_type": "code",
   "execution_count": 17,
   "id": "938c955f",
   "metadata": {},
   "outputs": [
    {
     "data": {
      "text/plain": [
       "(2532, 100, 626, 1)"
      ]
     },
     "execution_count": 17,
     "metadata": {},
     "output_type": "execute_result"
    }
   ],
   "source": [
    "features_trn['mel1'].shape"
   ]
  },
  {
   "cell_type": "code",
   "execution_count": 18,
   "id": "1d7c7ad2",
   "metadata": {},
   "outputs": [
    {
     "data": {
      "text/plain": [
       "(2532, 129, 626, 1)"
      ]
     },
     "execution_count": 18,
     "metadata": {},
     "output_type": "execute_result"
    }
   ],
   "source": [
    "features_trn['stft1'].shape"
   ]
  },
  {
   "cell_type": "code",
   "execution_count": 19,
   "id": "8e1207ad",
   "metadata": {},
   "outputs": [
    {
     "data": {
      "text/plain": [
       "(2532, 80, 157, 1)"
      ]
     },
     "execution_count": 19,
     "metadata": {},
     "output_type": "execute_result"
    }
   ],
   "source": [
    "features_trn['cqt1'].shape"
   ]
  },
  {
   "cell_type": "code",
   "execution_count": 20,
   "id": "460de784",
   "metadata": {},
   "outputs": [],
   "source": [
    "mel_input_shape = features_trn['mel1'].shape[1:]"
   ]
  },
  {
   "cell_type": "code",
   "execution_count": 21,
   "id": "b851bf9d",
   "metadata": {},
   "outputs": [
    {
     "data": {
      "text/plain": [
       "(100, 626, 1)"
      ]
     },
     "execution_count": 21,
     "metadata": {},
     "output_type": "execute_result"
    }
   ],
   "source": [
    "mel_input_shape"
   ]
  },
  {
   "cell_type": "code",
   "execution_count": 22,
   "id": "ec06d09a",
   "metadata": {},
   "outputs": [],
   "source": [
    "cqt_input_shape = features_trn['cqt1'].shape[1:]"
   ]
  },
  {
   "cell_type": "code",
   "execution_count": 23,
   "id": "e53578b4",
   "metadata": {},
   "outputs": [
    {
     "data": {
      "text/plain": [
       "(80, 157, 1)"
      ]
     },
     "execution_count": 23,
     "metadata": {},
     "output_type": "execute_result"
    }
   ],
   "source": [
    "cqt_input_shape"
   ]
  },
  {
   "cell_type": "code",
   "execution_count": 24,
   "id": "5c69891f",
   "metadata": {},
   "outputs": [],
   "source": [
    "stft_input_shape = features_trn['stft1'].shape[1:]"
   ]
  },
  {
   "cell_type": "code",
   "execution_count": 25,
   "id": "b33a650a",
   "metadata": {},
   "outputs": [
    {
     "data": {
      "text/plain": [
       "(129, 626, 1)"
      ]
     },
     "execution_count": 25,
     "metadata": {},
     "output_type": "execute_result"
    }
   ],
   "source": [
    "stft_input_shape"
   ]
  },
  {
   "cell_type": "code",
   "execution_count": 26,
   "id": "a89ec704",
   "metadata": {},
   "outputs": [
    {
     "data": {
      "text/plain": [
       "(100, 626, 1)"
      ]
     },
     "execution_count": 26,
     "metadata": {},
     "output_type": "execute_result"
    }
   ],
   "source": [
    "features_test['mel1'].shape[1:]"
   ]
  },
  {
   "cell_type": "code",
   "execution_count": 27,
   "id": "2cd96379",
   "metadata": {},
   "outputs": [
    {
     "data": {
      "text/plain": [
       "(129, 626, 1)"
      ]
     },
     "execution_count": 27,
     "metadata": {},
     "output_type": "execute_result"
    }
   ],
   "source": [
    "features_test['stft1'].shape[1:]"
   ]
  },
  {
   "cell_type": "code",
   "execution_count": 28,
   "id": "53473125",
   "metadata": {},
   "outputs": [
    {
     "data": {
      "text/plain": [
       "(80, 157, 1)"
      ]
     },
     "execution_count": 28,
     "metadata": {},
     "output_type": "execute_result"
    }
   ],
   "source": [
    "features_test['cqt1'].shape[1:]"
   ]
  },
  {
   "cell_type": "code",
   "execution_count": 29,
   "id": "3e361d5d",
   "metadata": {},
   "outputs": [],
   "source": [
    "mel_input_shape = (100,626,1)"
   ]
  },
  {
   "cell_type": "code",
   "execution_count": 30,
   "id": "07de248b",
   "metadata": {},
   "outputs": [],
   "source": [
    "cqt_input_shape = (80,157,1)"
   ]
  },
  {
   "cell_type": "code",
   "execution_count": 31,
   "id": "07a0cf12",
   "metadata": {},
   "outputs": [],
   "source": [
    "stft_input_shape = (129,626,1)"
   ]
  },
  {
   "cell_type": "code",
   "execution_count": 29,
   "id": "9ccc8685",
   "metadata": {},
   "outputs": [
    {
     "name": "stderr",
     "output_type": "stream",
     "text": [
      "2022-07-24 19:54:47.156811: I tensorflow/stream_executor/cuda/cuda_gpu_executor.cc:936] successful NUMA node read from SysFS had negative value (-1), but there must be at least one NUMA node, so returning NUMA node zero\n",
      "2022-07-24 19:54:47.161493: I tensorflow/stream_executor/cuda/cuda_gpu_executor.cc:936] successful NUMA node read from SysFS had negative value (-1), but there must be at least one NUMA node, so returning NUMA node zero\n",
      "2022-07-24 19:54:47.161879: I tensorflow/stream_executor/cuda/cuda_gpu_executor.cc:936] successful NUMA node read from SysFS had negative value (-1), but there must be at least one NUMA node, so returning NUMA node zero\n",
      "2022-07-24 19:54:47.162501: I tensorflow/core/platform/cpu_feature_guard.cc:151] This TensorFlow binary is optimized with oneAPI Deep Neural Network Library (oneDNN) to use the following CPU instructions in performance-critical operations:  AVX2 FMA\n",
      "To enable them in other operations, rebuild TensorFlow with the appropriate compiler flags.\n",
      "2022-07-24 19:54:47.163462: I tensorflow/stream_executor/cuda/cuda_gpu_executor.cc:936] successful NUMA node read from SysFS had negative value (-1), but there must be at least one NUMA node, so returning NUMA node zero\n",
      "2022-07-24 19:54:47.163841: I tensorflow/stream_executor/cuda/cuda_gpu_executor.cc:936] successful NUMA node read from SysFS had negative value (-1), but there must be at least one NUMA node, so returning NUMA node zero\n",
      "2022-07-24 19:54:47.164198: I tensorflow/stream_executor/cuda/cuda_gpu_executor.cc:936] successful NUMA node read from SysFS had negative value (-1), but there must be at least one NUMA node, so returning NUMA node zero\n",
      "2022-07-24 19:54:47.541380: I tensorflow/stream_executor/cuda/cuda_gpu_executor.cc:936] successful NUMA node read from SysFS had negative value (-1), but there must be at least one NUMA node, so returning NUMA node zero\n",
      "2022-07-24 19:54:47.541733: I tensorflow/stream_executor/cuda/cuda_gpu_executor.cc:936] successful NUMA node read from SysFS had negative value (-1), but there must be at least one NUMA node, so returning NUMA node zero\n",
      "2022-07-24 19:54:47.542011: I tensorflow/stream_executor/cuda/cuda_gpu_executor.cc:936] successful NUMA node read from SysFS had negative value (-1), but there must be at least one NUMA node, so returning NUMA node zero\n",
      "2022-07-24 19:54:47.542262: I tensorflow/core/common_runtime/gpu/gpu_device.cc:1525] Created device /job:localhost/replica:0/task:0/device:GPU:0 with 9248 MB memory:  -> device: 0, name: GeForce RTX 2080 Ti, pci bus id: 0000:01:00.0, compute capability: 7.5\n"
     ]
    }
   ],
   "source": [
    "model1 = get_LCNN_o_3_dr(mel_input_shape, cqt_input_shape,stft_input_shape, use_mel = True, use_cqt = False, use_stft = False,ext = True,ord1=False)\n",
    "model2 = get_LCNN_o_3_dr(mel_input_shape, cqt_input_shape,stft_input_shape, use_mel = True, use_cqt = False, use_stft = False,ext = True,ord1=True)\n"
   ]
  },
  {
   "cell_type": "code",
   "execution_count": 30,
   "id": "4e462fa8",
   "metadata": {},
   "outputs": [
    {
     "name": "stdout",
     "output_type": "stream",
     "text": [
      "Model: \"model\"\n",
      "__________________________________________________________________________________________________\n",
      " Layer (type)                   Output Shape         Param #     Connected to                     \n",
      "==================================================================================================\n",
      " mel (InputLayer)               [(None, 100, 626, 1  0           []                               \n",
      "                                )]                                                                \n",
      "                                                                                                  \n",
      " conv2d (Conv2D)                (None, 100, 626, 32  832         ['mel[0][0]']                    \n",
      "                                )                                                                 \n",
      "                                                                                                  \n",
      " conv2d_1 (Conv2D)              (None, 100, 626, 32  832         ['mel[0][0]']                    \n",
      "                                )                                                                 \n",
      "                                                                                                  \n",
      " maximum (Maximum)              (None, 100, 626, 32  0           ['conv2d[0][0]',                 \n",
      "                                )                                 'conv2d_1[0][0]']               \n",
      "                                                                                                  \n",
      " max_pooling2d (MaxPooling2D)   (None, 50, 313, 32)  0           ['maximum[0][0]']                \n",
      "                                                                                                  \n",
      " conv2d_2 (Conv2D)              (None, 50, 313, 32)  1056        ['max_pooling2d[0][0]']          \n",
      "                                                                                                  \n",
      " conv2d_3 (Conv2D)              (None, 50, 313, 32)  1056        ['max_pooling2d[0][0]']          \n",
      "                                                                                                  \n",
      " maximum_1 (Maximum)            (None, 50, 313, 32)  0           ['conv2d_2[0][0]',               \n",
      "                                                                  'conv2d_3[0][0]']               \n",
      "                                                                                                  \n",
      " batch_normalization_4 (BatchNo  (None, 50, 313, 32)  96         ['maximum_1[0][0]']              \n",
      " rmalization)                                                                                     \n",
      "                                                                                                  \n",
      " conv2d_4 (Conv2D)              (None, 50, 313, 48)  13872       ['batch_normalization_4[0][0]']  \n",
      "                                                                                                  \n",
      " conv2d_5 (Conv2D)              (None, 50, 313, 48)  13872       ['batch_normalization_4[0][0]']  \n",
      "                                                                                                  \n",
      " maximum_2 (Maximum)            (None, 50, 313, 48)  0           ['conv2d_4[0][0]',               \n",
      "                                                                  'conv2d_5[0][0]']               \n",
      "                                                                                                  \n",
      " max_pooling2d_1 (MaxPooling2D)  (None, 25, 157, 48)  0          ['maximum_2[0][0]']              \n",
      "                                                                                                  \n",
      " batch_normalization_5 (BatchNo  (None, 25, 157, 48)  144        ['max_pooling2d_1[0][0]']        \n",
      " rmalization)                                                                                     \n",
      "                                                                                                  \n",
      " conv2d_6 (Conv2D)              (None, 25, 157, 48)  2352        ['batch_normalization_5[0][0]']  \n",
      "                                                                                                  \n",
      " conv2d_7 (Conv2D)              (None, 25, 157, 48)  2352        ['batch_normalization_5[0][0]']  \n",
      "                                                                                                  \n",
      " maximum_3 (Maximum)            (None, 25, 157, 48)  0           ['conv2d_6[0][0]',               \n",
      "                                                                  'conv2d_7[0][0]']               \n",
      "                                                                                                  \n",
      " batch_normalization_6 (BatchNo  (None, 25, 157, 48)  144        ['maximum_3[0][0]']              \n",
      " rmalization)                                                                                     \n",
      "                                                                                                  \n",
      " conv2d_8 (Conv2D)              (None, 25, 157, 64)  27712       ['batch_normalization_6[0][0]']  \n",
      "                                                                                                  \n",
      " conv2d_9 (Conv2D)              (None, 25, 157, 64)  27712       ['batch_normalization_6[0][0]']  \n",
      "                                                                                                  \n",
      " maximum_4 (Maximum)            (None, 25, 157, 64)  0           ['conv2d_8[0][0]',               \n",
      "                                                                  'conv2d_9[0][0]']               \n",
      "                                                                                                  \n",
      " max_pooling2d_2 (MaxPooling2D)  (None, 13, 79, 64)  0           ['maximum_4[0][0]']              \n",
      "                                                                                                  \n",
      " conv2d_10 (Conv2D)             (None, 13, 79, 64)   4160        ['max_pooling2d_2[0][0]']        \n",
      "                                                                                                  \n",
      " conv2d_11 (Conv2D)             (None, 13, 79, 64)   4160        ['max_pooling2d_2[0][0]']        \n",
      "                                                                                                  \n",
      " maximum_5 (Maximum)            (None, 13, 79, 64)   0           ['conv2d_10[0][0]',              \n",
      "                                                                  'conv2d_11[0][0]']              \n",
      "                                                                                                  \n",
      " batch_normalization_7 (BatchNo  (None, 13, 79, 64)  192         ['maximum_5[0][0]']              \n",
      " rmalization)                                                                                     \n",
      "                                                                                                  \n",
      " conv2d_12 (Conv2D)             (None, 13, 79, 32)   18464       ['batch_normalization_7[0][0]']  \n",
      "                                                                                                  \n",
      " conv2d_13 (Conv2D)             (None, 13, 79, 32)   18464       ['batch_normalization_7[0][0]']  \n",
      "                                                                                                  \n",
      " rr (InputLayer)                [(None, 1)]          0           []                               \n",
      "                                                                                                  \n",
      " maximum_6 (Maximum)            (None, 13, 79, 32)   0           ['conv2d_12[0][0]',              \n",
      "                                                                  'conv2d_13[0][0]']              \n",
      "                                                                                                  \n",
      " dense_4 (Dense)                (None, 20)           40          ['rr[0][0]']                     \n",
      "                                                                                                  \n",
      " batch_normalization_8 (BatchNo  (None, 13, 79, 32)  96          ['maximum_6[0][0]']              \n",
      " rmalization)                                                                                     \n",
      "                                                                                                  \n",
      " batch_normalization (BatchNorm  (None, 20)          80          ['dense_4[0][0]']                \n"
     ]
    },
    {
     "name": "stdout",
     "output_type": "stream",
     "text": [
      " alization)                                                                                       \n",
      "                                                                                                  \n",
      " conv2d_14 (Conv2D)             (None, 13, 79, 32)   1056        ['batch_normalization_8[0][0]']  \n",
      "                                                                                                  \n",
      " conv2d_15 (Conv2D)             (None, 13, 79, 32)   1056        ['batch_normalization_8[0][0]']  \n",
      "                                                                                                  \n",
      " dense_5 (Dense)                (None, 20)           420         ['batch_normalization[0][0]']    \n",
      "                                                                                                  \n",
      " maximum_7 (Maximum)            (None, 13, 79, 32)   0           ['conv2d_14[0][0]',              \n",
      "                                                                  'conv2d_15[0][0]']              \n",
      "                                                                                                  \n",
      " batch_normalization_1 (BatchNo  (None, 20)          80          ['dense_5[0][0]']                \n",
      " rmalization)                                                                                     \n",
      "                                                                                                  \n",
      " batch_normalization_9 (BatchNo  (None, 13, 79, 32)  96          ['maximum_7[0][0]']              \n",
      " rmalization)                                                                                     \n",
      "                                                                                                  \n",
      " dense_6 (Dense)                (None, 20)           420         ['batch_normalization_1[0][0]']  \n",
      "                                                                                                  \n",
      " conv2d_16 (Conv2D)             (None, 13, 79, 32)   1056        ['batch_normalization_9[0][0]']  \n",
      "                                                                                                  \n",
      " conv2d_17 (Conv2D)             (None, 13, 79, 32)   1056        ['batch_normalization_9[0][0]']  \n",
      "                                                                                                  \n",
      " batch_normalization_2 (BatchNo  (None, 20)          80          ['dense_6[0][0]']                \n",
      " rmalization)                                                                                     \n",
      "                                                                                                  \n",
      " maximum_8 (Maximum)            (None, 13, 79, 32)   0           ['conv2d_16[0][0]',              \n",
      "                                                                  'conv2d_17[0][0]']              \n",
      "                                                                                                  \n",
      " age_cat (InputLayer)           [(None, 6)]          0           []                               \n",
      "                                                                                                  \n",
      " sex_cat (InputLayer)           [(None, 2)]          0           []                               \n",
      "                                                                                                  \n",
      " height_weight (InputLayer)     [(None, 2)]          0           []                               \n",
      "                                                                                                  \n",
      " loc (InputLayer)               [(None, 5)]          0           []                               \n",
      "                                                                                                  \n",
      " dense_7 (Dense)                (None, 20)           420         ['batch_normalization_2[0][0]']  \n",
      "                                                                                                  \n",
      " max_pooling2d_3 (MaxPooling2D)  (None, 6, 39, 32)   0           ['maximum_8[0][0]']              \n",
      "                                                                                                  \n",
      " dense (Dense)                  (None, 2)            14          ['age_cat[0][0]']                \n",
      "                                                                                                  \n",
      " dense_1 (Dense)                (None, 1)            3           ['sex_cat[0][0]']                \n",
      "                                                                                                  \n",
      " dense_2 (Dense)                (None, 1)            3           ['height_weight[0][0]']          \n",
      "                                                                                                  \n",
      " dense_3 (Dense)                (None, 3)            18          ['loc[0][0]']                    \n",
      "                                                                                                  \n",
      " is_preg (InputLayer)           [(None, 1)]          0           []                               \n",
      "                                                                                                  \n",
      " batch_normalization_3 (BatchNo  (None, 20)          80          ['dense_7[0][0]']                \n",
      " rmalization)                                                                                     \n",
      "                                                                                                  \n",
      " global_average_pooling2d (Glob  (None, 32)          0           ['max_pooling2d_3[0][0]']        \n",
      " alAveragePooling2D)                                                                              \n",
      "                                                                                                  \n",
      " concatenate (Concatenate)      (None, 28)           0           ['dense[0][0]',                  \n",
      "                                                                  'dense_1[0][0]',                \n",
      "                                                                  'dense_2[0][0]',                \n",
      "                                                                  'dense_3[0][0]',                \n",
      "                                                                  'is_preg[0][0]',                \n",
      "                                                                  'batch_normalization_3[0][0]']  \n",
      "                                                                                                  \n",
      " dropout (Dropout)              (None, 32)           0           ['global_average_pooling2d[0][0]'\n",
      "                                                                 ]                                \n",
      "                                                                                                  \n",
      " dense_8 (Dense)                (None, 2)            58          ['concatenate[0][0]']            \n",
      "                                                                                                  \n",
      " concatenate_1 (Concatenate)    (None, 34)           0           ['dropout[0][0]',                \n",
      "                                                                  'dense_8[0][0]']                \n",
      "                                                                                                  \n",
      " stft (InputLayer)              [(None, 129, 626, 1  0           []                               \n",
      "                                )]                                                                \n",
      "                                                                                                  \n",
      " cqt (InputLayer)               [(None, 80, 157, 1)  0           []                               \n",
      "                                ]                                                                 \n",
      "                                                                                                  \n",
      " dense_9 (Dense)                (None, 3)            105         ['concatenate_1[0][0]']          \n",
      "                                                                                                  \n",
      "==================================================================================================\n",
      "Total params: 143,709\n",
      "Trainable params: 143,037\n",
      "Non-trainable params: 672\n",
      "__________________________________________________________________________________________________\n"
     ]
    }
   ],
   "source": [
    "model1.summary()"
   ]
  },
  {
   "cell_type": "code",
   "execution_count": null,
   "id": "8d2279ce",
   "metadata": {},
   "outputs": [],
   "source": []
  },
  {
   "cell_type": "code",
   "execution_count": 31,
   "id": "fe1234a8",
   "metadata": {
    "scrolled": false
   },
   "outputs": [
    {
     "name": "stdout",
     "output_type": "stream",
     "text": [
      "Epoch 1/100\n"
     ]
    },
    {
     "name": "stderr",
     "output_type": "stream",
     "text": [
      "2022-07-24 19:55:01.109842: I tensorflow/stream_executor/cuda/cuda_dnn.cc:368] Loaded cuDNN version 8101\n"
     ]
    },
    {
     "name": "stdout",
     "output_type": "stream",
     "text": [
      "32/32 [==============================] - 9s 160ms/step - loss: 12.6130 - accuracy: 0.7275 - auc: 0.7879 - val_loss: 35.4319 - val_accuracy: 0.0000e+00 - val_auc: 0.2877 - lr: 9.9851e-04\n",
      "Epoch 2/100\n",
      "32/32 [==============================] - 4s 125ms/step - loss: 6.2938 - accuracy: 0.6387 - auc: 0.7549 - val_loss: 13.9699 - val_accuracy: 0.2552 - val_auc: 0.3512 - lr: 9.9831e-04\n",
      "Epoch 3/100\n",
      "32/32 [==============================] - 4s 124ms/step - loss: 3.5879 - accuracy: 0.6270 - auc: 0.7510 - val_loss: 16.2742 - val_accuracy: 0.2552 - val_auc: 0.3818 - lr: 9.9807e-04\n",
      "Epoch 4/100\n",
      "32/32 [==============================] - 4s 123ms/step - loss: 3.2320 - accuracy: 0.6133 - auc: 0.7607 - val_loss: 1.6488 - val_accuracy: 0.5689 - val_auc: 0.7089 - lr: 9.9781e-04\n",
      "Epoch 5/100\n",
      "32/32 [==============================] - 4s 123ms/step - loss: 3.1636 - accuracy: 0.5884 - auc: 0.7515 - val_loss: 1.3502 - val_accuracy: 0.6672 - val_auc: 0.7788 - lr: 9.9750e-04\n",
      "Epoch 6/100\n",
      "32/32 [==============================] - 4s 125ms/step - loss: 2.8659 - accuracy: 0.6123 - auc: 0.7501 - val_loss: 1.6494 - val_accuracy: 0.5341 - val_auc: 0.6823 - lr: 9.9716e-04\n",
      "Epoch 7/100\n",
      "32/32 [==============================] - 4s 124ms/step - loss: 2.5141 - accuracy: 0.6182 - auc: 0.7659 - val_loss: 1.5499 - val_accuracy: 0.5119 - val_auc: 0.6666 - lr: 9.9676e-04\n",
      "Epoch 8/100\n",
      "32/32 [==============================] - 4s 124ms/step - loss: 2.3039 - accuracy: 0.6196 - auc: 0.7773 - val_loss: 1.0003 - val_accuracy: 0.6672 - val_auc: 0.8038 - lr: 9.9632e-04\n",
      "Epoch 9/100\n",
      "32/32 [==============================] - 4s 124ms/step - loss: 2.0711 - accuracy: 0.6069 - auc: 0.7770 - val_loss: 0.8891 - val_accuracy: 0.7306 - val_auc: 0.8535 - lr: 9.9581e-04\n",
      "Epoch 10/100\n",
      "32/32 [==============================] - 4s 124ms/step - loss: 1.9373 - accuracy: 0.6230 - auc: 0.7895 - val_loss: 0.8258 - val_accuracy: 0.6878 - val_auc: 0.8415 - lr: 9.9523e-04\n",
      "Epoch 11/100\n",
      "32/32 [==============================] - 4s 124ms/step - loss: 1.7518 - accuracy: 0.6343 - auc: 0.7959 - val_loss: 0.7860 - val_accuracy: 0.6799 - val_auc: 0.8279 - lr: 9.9457e-04\n",
      "Epoch 12/100\n",
      "32/32 [==============================] - 4s 124ms/step - loss: 1.6235 - accuracy: 0.6372 - auc: 0.8034 - val_loss: 0.8278 - val_accuracy: 0.6339 - val_auc: 0.7955 - lr: 9.9382e-04\n",
      "Epoch 13/100\n",
      "32/32 [==============================] - 4s 124ms/step - loss: 1.5945 - accuracy: 0.6313 - auc: 0.8033 - val_loss: 0.9221 - val_accuracy: 0.6434 - val_auc: 0.7665 - lr: 9.9297e-04\n",
      "Epoch 14/100\n",
      "32/32 [==============================] - 4s 124ms/step - loss: 1.4748 - accuracy: 0.6523 - auc: 0.8077 - val_loss: 0.7530 - val_accuracy: 0.6545 - val_auc: 0.8130 - lr: 9.9200e-04\n",
      "Epoch 15/100\n",
      "32/32 [==============================] - 4s 124ms/step - loss: 1.3977 - accuracy: 0.6646 - auc: 0.8222 - val_loss: 0.7546 - val_accuracy: 0.6561 - val_auc: 0.8105 - lr: 9.9090e-04\n",
      "Epoch 16/100\n",
      "32/32 [==============================] - 4s 124ms/step - loss: 1.3855 - accuracy: 0.6431 - auc: 0.8111 - val_loss: 0.6783 - val_accuracy: 0.6799 - val_auc: 0.8361 - lr: 9.8965e-04\n",
      "Epoch 17/100\n",
      "32/32 [==============================] - 4s 124ms/step - loss: 1.3433 - accuracy: 0.6714 - auc: 0.8276 - val_loss: 0.7859 - val_accuracy: 0.5959 - val_auc: 0.7772 - lr: 9.8823e-04\n",
      "Epoch 18/100\n",
      "32/32 [==============================] - 4s 124ms/step - loss: 1.2648 - accuracy: 0.6528 - auc: 0.8322 - val_loss: 0.6256 - val_accuracy: 0.7052 - val_auc: 0.8528 - lr: 9.8662e-04\n",
      "Epoch 19/100\n",
      "32/32 [==============================] - 4s 124ms/step - loss: 1.2827 - accuracy: 0.6514 - auc: 0.8221 - val_loss: 0.6686 - val_accuracy: 0.6672 - val_auc: 0.8230 - lr: 9.8479e-04\n",
      "Epoch 20/100\n",
      "32/32 [==============================] - 4s 124ms/step - loss: 1.2236 - accuracy: 0.6548 - auc: 0.8353 - val_loss: 0.6240 - val_accuracy: 0.6957 - val_auc: 0.8442 - lr: 9.8271e-04\n",
      "Epoch 21/100\n",
      "32/32 [==============================] - 4s 124ms/step - loss: 1.1556 - accuracy: 0.6719 - auc: 0.8384 - val_loss: 0.5530 - val_accuracy: 0.7544 - val_auc: 0.8835 - lr: 9.8036e-04\n",
      "Epoch 22/100\n",
      "32/32 [==============================] - 4s 123ms/step - loss: 1.1959 - accuracy: 0.6904 - auc: 0.8398 - val_loss: 0.6359 - val_accuracy: 0.6894 - val_auc: 0.8363 - lr: 9.7769e-04\n",
      "Epoch 23/100\n",
      "32/32 [==============================] - 4s 124ms/step - loss: 1.1676 - accuracy: 0.6875 - auc: 0.8417 - val_loss: 0.6060 - val_accuracy: 0.7132 - val_auc: 0.8569 - lr: 9.7468e-04\n",
      "Epoch 24/100\n",
      "32/32 [==============================] - 4s 125ms/step - loss: 1.1315 - accuracy: 0.6802 - auc: 0.8400 - val_loss: 0.6325 - val_accuracy: 0.7036 - val_auc: 0.8359 - lr: 9.7126e-04\n",
      "Epoch 25/100\n",
      "32/32 [==============================] - 4s 124ms/step - loss: 1.1171 - accuracy: 0.7070 - auc: 0.8479 - val_loss: 0.5885 - val_accuracy: 0.7322 - val_auc: 0.8648 - lr: 9.6740e-04\n",
      "Epoch 26/100\n",
      "32/32 [==============================] - 4s 125ms/step - loss: 1.0927 - accuracy: 0.7168 - auc: 0.8543 - val_loss: 0.5708 - val_accuracy: 0.7496 - val_auc: 0.8722 - lr: 9.6305e-04\n",
      "Epoch 27/100\n",
      "32/32 [==============================] - 4s 124ms/step - loss: 1.0791 - accuracy: 0.7163 - auc: 0.8569 - val_loss: 0.5661 - val_accuracy: 0.7448 - val_auc: 0.8736 - lr: 9.5813e-04\n",
      "Epoch 28/100\n",
      "32/32 [==============================] - 4s 124ms/step - loss: 1.0858 - accuracy: 0.7095 - auc: 0.8524 - val_loss: 0.5989 - val_accuracy: 0.7401 - val_auc: 0.8558 - lr: 9.5260e-04\n",
      "Epoch 29/100\n",
      "32/32 [==============================] - 4s 125ms/step - loss: 1.1044 - accuracy: 0.6953 - auc: 0.8510 - val_loss: 0.5421 - val_accuracy: 0.7686 - val_auc: 0.8883 - lr: 9.4637e-04\n",
      "Epoch 30/100\n",
      "32/32 [==============================] - 4s 125ms/step - loss: 1.0795 - accuracy: 0.7192 - auc: 0.8590 - val_loss: 0.5765 - val_accuracy: 0.7591 - val_auc: 0.8738 - lr: 9.3939e-04\n",
      "Epoch 31/100\n",
      "32/32 [==============================] - 4s 125ms/step - loss: 1.0544 - accuracy: 0.7544 - auc: 0.8654 - val_loss: 0.5638 - val_accuracy: 0.7718 - val_auc: 0.8824 - lr: 9.3155e-04\n",
      "Epoch 32/100\n",
      "32/32 [==============================] - 4s 125ms/step - loss: 1.0444 - accuracy: 0.7383 - auc: 0.8653 - val_loss: 0.5313 - val_accuracy: 0.7813 - val_auc: 0.8980 - lr: 9.2279e-04\n",
      "Epoch 33/100\n",
      "32/32 [==============================] - 4s 125ms/step - loss: 1.0735 - accuracy: 0.7188 - auc: 0.8567 - val_loss: 0.5294 - val_accuracy: 0.8114 - val_auc: 0.9053 - lr: 9.1301e-04\n",
      "Epoch 34/100\n",
      "32/32 [==============================] - 4s 125ms/step - loss: 1.0385 - accuracy: 0.7520 - auc: 0.8668 - val_loss: 0.5065 - val_accuracy: 0.8130 - val_auc: 0.9059 - lr: 9.0213e-04\n",
      "Epoch 35/100\n",
      "32/32 [==============================] - 4s 124ms/step - loss: 1.0727 - accuracy: 0.7231 - auc: 0.8623 - val_loss: 0.5805 - val_accuracy: 0.7655 - val_auc: 0.8867 - lr: 8.9005e-04\n",
      "Epoch 36/100\n",
      "32/32 [==============================] - 4s 124ms/step - loss: 1.0723 - accuracy: 0.7358 - auc: 0.8621 - val_loss: 0.5940 - val_accuracy: 0.7591 - val_auc: 0.8818 - lr: 8.7669e-04\n",
      "Epoch 37/100\n",
      "32/32 [==============================] - 4s 125ms/step - loss: 1.0558 - accuracy: 0.7515 - auc: 0.8708 - val_loss: 0.5694 - val_accuracy: 0.7987 - val_auc: 0.8994 - lr: 8.6196e-04\n",
      "Epoch 38/100\n",
      "32/32 [==============================] - 4s 124ms/step - loss: 1.0427 - accuracy: 0.7505 - auc: 0.8689 - val_loss: 0.5483 - val_accuracy: 0.8067 - val_auc: 0.9031 - lr: 8.4578e-04\n",
      "Epoch 39/100\n",
      "32/32 [==============================] - 4s 124ms/step - loss: 1.0385 - accuracy: 0.7603 - auc: 0.8682 - val_loss: 0.5371 - val_accuracy: 0.7876 - val_auc: 0.8874 - lr: 8.2809e-04\n",
      "Epoch 40/100\n",
      "32/32 [==============================] - 4s 125ms/step - loss: 1.0087 - accuracy: 0.7612 - auc: 0.8776 - val_loss: 0.5275 - val_accuracy: 0.8130 - val_auc: 0.9088 - lr: 8.0883e-04\n",
      "Epoch 41/100\n",
      "32/32 [==============================] - 4s 124ms/step - loss: 1.0370 - accuracy: 0.7505 - auc: 0.8698 - val_loss: 0.4851 - val_accuracy: 0.8352 - val_auc: 0.9159 - lr: 7.8798e-04\n",
      "Epoch 42/100\n",
      "32/32 [==============================] - 4s 125ms/step - loss: 1.0269 - accuracy: 0.7705 - auc: 0.8765 - val_loss: 0.4984 - val_accuracy: 0.8130 - val_auc: 0.9131 - lr: 7.6551e-04\n",
      "Epoch 43/100\n"
     ]
    },
    {
     "name": "stdout",
     "output_type": "stream",
     "text": [
      "32/32 [==============================] - 4s 125ms/step - loss: 0.9993 - accuracy: 0.7676 - auc: 0.8776 - val_loss: 0.5354 - val_accuracy: 0.8162 - val_auc: 0.9100 - lr: 7.4146e-04\n",
      "Epoch 44/100\n",
      "32/32 [==============================] - 4s 125ms/step - loss: 1.0355 - accuracy: 0.7612 - auc: 0.8768 - val_loss: 0.5347 - val_accuracy: 0.8320 - val_auc: 0.9179 - lr: 7.1587e-04\n",
      "Epoch 45/100\n",
      "32/32 [==============================] - 4s 125ms/step - loss: 1.0148 - accuracy: 0.7520 - auc: 0.8740 - val_loss: 0.6229 - val_accuracy: 0.7750 - val_auc: 0.8894 - lr: 6.8882e-04\n",
      "Epoch 46/100\n",
      "32/32 [==============================] - 4s 125ms/step - loss: 1.0133 - accuracy: 0.7578 - auc: 0.8761 - val_loss: 0.5073 - val_accuracy: 0.8051 - val_auc: 0.9067 - lr: 6.6044e-04\n",
      "Epoch 47/100\n",
      "32/32 [==============================] - 4s 125ms/step - loss: 1.0099 - accuracy: 0.7563 - auc: 0.8728 - val_loss: 0.5954 - val_accuracy: 0.7575 - val_auc: 0.8869 - lr: 6.3088e-04\n",
      "Epoch 48/100\n",
      "32/32 [==============================] - 4s 125ms/step - loss: 1.0253 - accuracy: 0.7534 - auc: 0.8791 - val_loss: 0.4875 - val_accuracy: 0.8447 - val_auc: 0.9198 - lr: 6.0032e-04\n",
      "Epoch 49/100\n",
      "32/32 [==============================] - 4s 124ms/step - loss: 1.0278 - accuracy: 0.7598 - auc: 0.8758 - val_loss: 0.5973 - val_accuracy: 0.7924 - val_auc: 0.8884 - lr: 5.6899e-04\n",
      "Epoch 50/100\n",
      "32/32 [==============================] - 4s 126ms/step - loss: 1.0215 - accuracy: 0.7632 - auc: 0.8783 - val_loss: 0.5290 - val_accuracy: 0.8273 - val_auc: 0.9145 - lr: 5.3713e-04\n",
      "Epoch 51/100\n",
      "32/32 [==============================] - 4s 125ms/step - loss: 1.0053 - accuracy: 0.7759 - auc: 0.8785 - val_loss: 0.4822 - val_accuracy: 0.8273 - val_auc: 0.9181 - lr: 5.0500e-04\n",
      "Epoch 52/100\n",
      "32/32 [==============================] - 4s 125ms/step - loss: 1.0120 - accuracy: 0.7759 - auc: 0.8793 - val_loss: 0.4903 - val_accuracy: 0.8035 - val_auc: 0.9113 - lr: 4.7287e-04\n",
      "Epoch 53/100\n",
      "32/32 [==============================] - 4s 125ms/step - loss: 1.0158 - accuracy: 0.7646 - auc: 0.8761 - val_loss: 0.5127 - val_accuracy: 0.8304 - val_auc: 0.9144 - lr: 4.4101e-04\n",
      "Epoch 54/100\n",
      "32/32 [==============================] - 4s 125ms/step - loss: 1.0229 - accuracy: 0.7686 - auc: 0.8737 - val_loss: 0.5015 - val_accuracy: 0.8431 - val_auc: 0.9196 - lr: 4.0968e-04\n",
      "Epoch 55/100\n",
      "32/32 [==============================] - 4s 126ms/step - loss: 0.9874 - accuracy: 0.7764 - auc: 0.8806 - val_loss: 0.4751 - val_accuracy: 0.8463 - val_auc: 0.9225 - lr: 3.7912e-04\n",
      "Epoch 56/100\n",
      "32/32 [==============================] - 4s 125ms/step - loss: 1.0467 - accuracy: 0.7500 - auc: 0.8758 - val_loss: 0.5166 - val_accuracy: 0.8368 - val_auc: 0.9181 - lr: 3.4956e-04\n",
      "Epoch 57/100\n",
      "32/32 [==============================] - 4s 126ms/step - loss: 1.0187 - accuracy: 0.7681 - auc: 0.8789 - val_loss: 0.5353 - val_accuracy: 0.8352 - val_auc: 0.9199 - lr: 3.2118e-04\n",
      "Epoch 58/100\n",
      "32/32 [==============================] - 4s 126ms/step - loss: 1.0059 - accuracy: 0.7544 - auc: 0.8724 - val_loss: 0.5606 - val_accuracy: 0.8352 - val_auc: 0.9120 - lr: 2.9413e-04\n",
      "Epoch 59/100\n",
      "32/32 [==============================] - 4s 125ms/step - loss: 0.9875 - accuracy: 0.7832 - auc: 0.8843 - val_loss: 0.5132 - val_accuracy: 0.8399 - val_auc: 0.9204 - lr: 2.6854e-04\n",
      "Epoch 60/100\n",
      "32/32 [==============================] - 4s 125ms/step - loss: 0.9902 - accuracy: 0.7793 - auc: 0.8785 - val_loss: 0.4979 - val_accuracy: 0.8479 - val_auc: 0.9246 - lr: 2.4449e-04\n",
      "Epoch 61/100\n",
      "32/32 [==============================] - 4s 125ms/step - loss: 1.0303 - accuracy: 0.7617 - auc: 0.8797 - val_loss: 0.5210 - val_accuracy: 0.8479 - val_auc: 0.9207 - lr: 2.2202e-04\n",
      "Epoch 62/100\n",
      "32/32 [==============================] - 4s 125ms/step - loss: 1.0065 - accuracy: 0.7871 - auc: 0.8797 - val_loss: 0.4998 - val_accuracy: 0.8431 - val_auc: 0.9233 - lr: 2.0117e-04\n",
      "Epoch 63/100\n",
      "32/32 [==============================] - 4s 125ms/step - loss: 1.0091 - accuracy: 0.7700 - auc: 0.8805 - val_loss: 0.5063 - val_accuracy: 0.8399 - val_auc: 0.9243 - lr: 1.8191e-04\n",
      "Epoch 64/100\n",
      "32/32 [==============================] - 4s 125ms/step - loss: 1.0207 - accuracy: 0.7832 - auc: 0.8800 - val_loss: 0.4909 - val_accuracy: 0.8209 - val_auc: 0.9187 - lr: 1.6422e-04\n",
      "Epoch 65/100\n",
      "32/32 [==============================] - 4s 125ms/step - loss: 1.0057 - accuracy: 0.7803 - auc: 0.8767 - val_loss: 0.5419 - val_accuracy: 0.8209 - val_auc: 0.9016 - lr: 1.4804e-04\n",
      "Epoch 66/100\n",
      "32/32 [==============================] - 4s 125ms/step - loss: 0.9896 - accuracy: 0.7734 - auc: 0.8828 - val_loss: 0.5006 - val_accuracy: 0.8463 - val_auc: 0.9245 - lr: 1.3331e-04\n",
      "Epoch 67/100\n",
      "32/32 [==============================] - 4s 125ms/step - loss: 1.0084 - accuracy: 0.7686 - auc: 0.8793 - val_loss: 0.5087 - val_accuracy: 0.8542 - val_auc: 0.9234 - lr: 1.1995e-04\n",
      "Epoch 68/100\n",
      "32/32 [==============================] - 4s 125ms/step - loss: 1.0109 - accuracy: 0.7847 - auc: 0.8782 - val_loss: 0.5273 - val_accuracy: 0.8510 - val_auc: 0.9205 - lr: 1.0787e-04\n",
      "Epoch 69/100\n",
      "32/32 [==============================] - 4s 126ms/step - loss: 1.0465 - accuracy: 0.7593 - auc: 0.8794 - val_loss: 0.5701 - val_accuracy: 0.8209 - val_auc: 0.9057 - lr: 9.6985e-05\n",
      "Epoch 70/100\n",
      "32/32 [==============================] - 4s 126ms/step - loss: 1.0284 - accuracy: 0.7666 - auc: 0.8753 - val_loss: 0.5424 - val_accuracy: 0.8415 - val_auc: 0.9172 - lr: 8.7208e-05\n",
      "Epoch 71/100\n",
      "32/32 [==============================] - 4s 125ms/step - loss: 0.9765 - accuracy: 0.7881 - auc: 0.8828 - val_loss: 0.5298 - val_accuracy: 0.8415 - val_auc: 0.9197 - lr: 7.8447e-05\n",
      "Epoch 72/100\n",
      "32/32 [==============================] - 4s 125ms/step - loss: 0.9758 - accuracy: 0.7900 - auc: 0.8812 - val_loss: 0.5300 - val_accuracy: 0.8463 - val_auc: 0.9185 - lr: 7.0614e-05\n",
      "Epoch 73/100\n",
      "32/32 [==============================] - 4s 125ms/step - loss: 1.0036 - accuracy: 0.7725 - auc: 0.8821 - val_loss: 0.4999 - val_accuracy: 0.8558 - val_auc: 0.9269 - lr: 6.3625e-05\n",
      "Epoch 74/100\n",
      "32/32 [==============================] - 4s 126ms/step - loss: 1.0522 - accuracy: 0.7656 - auc: 0.8825 - val_loss: 0.5120 - val_accuracy: 0.8542 - val_auc: 0.9242 - lr: 5.7401e-05\n",
      "Epoch 75/100\n",
      "32/32 [==============================] - 4s 126ms/step - loss: 1.0240 - accuracy: 0.7729 - auc: 0.8743 - val_loss: 0.5164 - val_accuracy: 0.8590 - val_auc: 0.9214 - lr: 5.1867e-05\n",
      "Epoch 76/100\n",
      "32/32 [==============================] - 4s 126ms/step - loss: 0.9708 - accuracy: 0.7856 - auc: 0.8812 - val_loss: 0.5090 - val_accuracy: 0.8574 - val_auc: 0.9225 - lr: 4.6954e-05\n",
      "Epoch 77/100\n",
      "32/32 [==============================] - 4s 125ms/step - loss: 1.0192 - accuracy: 0.7656 - auc: 0.8827 - val_loss: 0.5013 - val_accuracy: 0.8479 - val_auc: 0.9236 - lr: 4.2597e-05\n",
      "Epoch 78/100\n",
      "32/32 [==============================] - 4s 125ms/step - loss: 0.9793 - accuracy: 0.7783 - auc: 0.8868 - val_loss: 0.4953 - val_accuracy: 0.8463 - val_auc: 0.9235 - lr: 3.8739e-05\n",
      "Epoch 79/100\n",
      "32/32 [==============================] - 4s 125ms/step - loss: 0.9972 - accuracy: 0.7764 - auc: 0.8834 - val_loss: 0.4998 - val_accuracy: 0.8479 - val_auc: 0.9232 - lr: 3.5325e-05\n",
      "Epoch 80/100\n",
      "32/32 [==============================] - 4s 125ms/step - loss: 1.0106 - accuracy: 0.7671 - auc: 0.8806 - val_loss: 0.5006 - val_accuracy: 0.8542 - val_auc: 0.9236 - lr: 3.2307e-05\n",
      "Epoch 81/100\n",
      "32/32 [==============================] - 4s 126ms/step - loss: 1.0147 - accuracy: 0.7681 - auc: 0.8844 - val_loss: 0.5079 - val_accuracy: 0.8526 - val_auc: 0.9222 - lr: 2.9642e-05\n",
      "Epoch 82/100\n",
      "32/32 [==============================] - 4s 125ms/step - loss: 1.0157 - accuracy: 0.7617 - auc: 0.8793 - val_loss: 0.5096 - val_accuracy: 0.8494 - val_auc: 0.9208 - lr: 2.7289e-05\n",
      "Epoch 83/100\n",
      "32/32 [==============================] - 4s 126ms/step - loss: 1.0101 - accuracy: 0.7769 - auc: 0.8822 - val_loss: 0.5152 - val_accuracy: 0.8479 - val_auc: 0.9189 - lr: 2.5214e-05\n",
      "Epoch 84/100\n",
      "32/32 [==============================] - 4s 125ms/step - loss: 1.0047 - accuracy: 0.7681 - auc: 0.8808 - val_loss: 0.5096 - val_accuracy: 0.8574 - val_auc: 0.9218 - lr: 2.3384e-05\n",
      "Epoch 85/100\n"
     ]
    },
    {
     "name": "stdout",
     "output_type": "stream",
     "text": [
      "32/32 [==============================] - 4s 125ms/step - loss: 0.9997 - accuracy: 0.7837 - auc: 0.8801 - val_loss: 0.5097 - val_accuracy: 0.8542 - val_auc: 0.9225 - lr: 2.1772e-05\n",
      "Epoch 86/100\n",
      "32/32 [==============================] - 4s 125ms/step - loss: 0.9919 - accuracy: 0.7856 - auc: 0.8858 - val_loss: 0.5136 - val_accuracy: 0.8447 - val_auc: 0.9217 - lr: 2.0352e-05\n",
      "Epoch 87/100\n",
      "32/32 [==============================] - 4s 125ms/step - loss: 1.0112 - accuracy: 0.7559 - auc: 0.8831 - val_loss: 0.5191 - val_accuracy: 0.8431 - val_auc: 0.9206 - lr: 1.9102e-05\n",
      "Epoch 88/100\n",
      "32/32 [==============================] - 4s 124ms/step - loss: 1.0056 - accuracy: 0.7681 - auc: 0.8822 - val_loss: 0.5254 - val_accuracy: 0.8431 - val_auc: 0.9185 - lr: 1.8001e-05\n",
      "Epoch 89/100\n",
      "32/32 [==============================] - 4s 125ms/step - loss: 1.0030 - accuracy: 0.7759 - auc: 0.8827 - val_loss: 0.5267 - val_accuracy: 0.8399 - val_auc: 0.9189 - lr: 1.7033e-05\n",
      "Epoch 90/100\n",
      "32/32 [==============================] - 4s 125ms/step - loss: 1.0277 - accuracy: 0.7710 - auc: 0.8785 - val_loss: 0.5267 - val_accuracy: 0.8415 - val_auc: 0.9185 - lr: 1.6181e-05\n",
      "Epoch 91/100\n",
      "32/32 [==============================] - 4s 125ms/step - loss: 1.0082 - accuracy: 0.7739 - auc: 0.8764 - val_loss: 0.5249 - val_accuracy: 0.8447 - val_auc: 0.9182 - lr: 1.5431e-05\n",
      "Epoch 92/100\n",
      "32/32 [==============================] - 4s 125ms/step - loss: 1.0117 - accuracy: 0.7759 - auc: 0.8815 - val_loss: 0.5273 - val_accuracy: 0.8399 - val_auc: 0.9172 - lr: 1.4773e-05\n",
      "Epoch 93/100\n",
      "32/32 [==============================] - 4s 125ms/step - loss: 0.9957 - accuracy: 0.7773 - auc: 0.8792 - val_loss: 0.5280 - val_accuracy: 0.8368 - val_auc: 0.9165 - lr: 1.4193e-05\n",
      "Epoch 94/100\n",
      "32/32 [==============================] - 4s 126ms/step - loss: 0.9948 - accuracy: 0.7783 - auc: 0.8861 - val_loss: 0.5257 - val_accuracy: 0.8399 - val_auc: 0.9171 - lr: 1.3684e-05\n",
      "Epoch 95/100\n",
      "32/32 [==============================] - 4s 126ms/step - loss: 0.9739 - accuracy: 0.7793 - auc: 0.8817 - val_loss: 0.5196 - val_accuracy: 0.8447 - val_auc: 0.9184 - lr: 1.3236e-05\n",
      "Epoch 96/100\n",
      "32/32 [==============================] - 4s 126ms/step - loss: 1.0044 - accuracy: 0.7720 - auc: 0.8825 - val_loss: 0.5181 - val_accuracy: 0.8399 - val_auc: 0.9191 - lr: 1.2843e-05\n",
      "Epoch 97/100\n",
      "32/32 [==============================] - 4s 128ms/step - loss: 0.9896 - accuracy: 0.7891 - auc: 0.8820 - val_loss: 0.5140 - val_accuracy: 0.8447 - val_auc: 0.9204 - lr: 1.2497e-05\n",
      "Epoch 98/100\n",
      "32/32 [==============================] - 4s 126ms/step - loss: 1.0082 - accuracy: 0.7847 - auc: 0.8815 - val_loss: 0.5177 - val_accuracy: 0.8463 - val_auc: 0.9189 - lr: 1.2193e-05\n",
      "Epoch 99/100\n",
      "32/32 [==============================] - 4s 125ms/step - loss: 1.0086 - accuracy: 0.7744 - auc: 0.8778 - val_loss: 0.5158 - val_accuracy: 0.8494 - val_auc: 0.9193 - lr: 1.1927e-05\n",
      "Epoch 100/100\n",
      "32/32 [==============================] - 4s 126ms/step - loss: 0.9983 - accuracy: 0.7705 - auc: 0.8820 - val_loss: 0.5155 - val_accuracy: 0.8510 - val_auc: 0.9190 - lr: 1.1692e-05\n"
     ]
    },
    {
     "data": {
      "text/plain": [
       "<keras.callbacks.History at 0x7fa433a299d0>"
      ]
     },
     "execution_count": 31,
     "metadata": {},
     "output_type": "execute_result"
    }
   ],
   "source": [
    "n_epoch = 100\n",
    "lr = LearningRateScheduler(lambda e: sigmoidal_decay(e, end=n_epoch))\n",
    "\n",
    "\n",
    "batch_size = 64\n",
    "params = {'batch_size': batch_size,\n",
    "#          'input_shape': (100, 313, 1),\n",
    "          'shuffle': True,\n",
    "          'beta_param': 0.7,\n",
    "          'mixup': True,\n",
    "#          'lowpass': [.5, [11,12,13,14,15,16,17,18]]\n",
    "#          'highpass': [.5, [78,79,80,81,82,83,84,85]]\n",
    "          'ranfilter2' : [3, [18,19,20,21,22,23]]\n",
    "#           'dropblock' : [30, 100]\n",
    "          #'device' : device\n",
    "}\n",
    "\n",
    "params_no_shuffle = {'batch_size': batch_size,\n",
    "#          'input_shape': (100, 313, 1),\n",
    "          'shuffle': False,\n",
    "          'beta_param': 0.7,\n",
    "          'mixup': False\n",
    "          #'device': device\n",
    "}\n",
    "\n",
    "TrainDGen_1 = Generator0([features_trn['age'],features_trn['sex'], features_trn['hw'], features_trn['preg'], features_trn['loc'],\n",
    "                          features_trn['rr1'],features_trn['mel1'],features_trn['stft1'],features_trn['cqt1']], \n",
    "                        features_trn['mm_labels'],  ## our Y\n",
    "                        **params)()\n",
    "\n",
    "#ValDGen_1 = Generator0([features_test[0]['age'],features_test[0]['sex'], features_test[0]['hw'], features_test[0]['preg'], features_test[0]['loc'], \n",
    "#           features_test[0]['mel1'],features_test[0]['cqt1'],features_test[0]['stft1']], \n",
    "#                        mm_lbs_test,  ## our Y\n",
    "#                        **params_no_shuffle)()\n",
    "\n",
    "class_weight = {0: 3, 1: 1., 2: 1} \n",
    "    \n",
    "model1.fit(TrainDGen_1,\n",
    "          validation_data = ([features_test['age'],features_test['sex'], features_test['hw'], \n",
    "                              features_test['preg'], features_test['loc'],features_test['rr1'], features_test['mel1'],\n",
    "                              features_test['stft1'],features_test['cqt1']], \n",
    "                             features_test['mm_labels']), \n",
    "                             callbacks=[lr],\n",
    "                              steps_per_epoch=32,\n",
    "                           class_weight=class_weight, \n",
    "                             epochs = n_epoch)\n",
    "\n"
   ]
  },
  {
   "cell_type": "code",
   "execution_count": null,
   "id": "78a761ce",
   "metadata": {},
   "outputs": [],
   "source": []
  },
  {
   "cell_type": "code",
   "execution_count": 32,
   "id": "90bdd466",
   "metadata": {
    "scrolled": false
   },
   "outputs": [
    {
     "name": "stdout",
     "output_type": "stream",
     "text": [
      "Epoch 1/100\n",
      "32/32 [==============================] - 6s 151ms/step - loss: 1.3023 - accuracy: 0.4907 - auc: 0.4941 - val_loss: 5.6003 - val_accuracy: 0.4992 - val_auc: 0.4992 - lr: 9.9851e-04\n",
      "Epoch 2/100\n",
      "32/32 [==============================] - 4s 126ms/step - loss: 0.7937 - accuracy: 0.5073 - auc: 0.5042 - val_loss: 2.3952 - val_accuracy: 0.4992 - val_auc: 0.4346 - lr: 9.9831e-04\n",
      "Epoch 3/100\n",
      "32/32 [==============================] - 4s 125ms/step - loss: 0.7349 - accuracy: 0.5303 - auc: 0.5385 - val_loss: 0.7717 - val_accuracy: 0.4976 - val_auc: 0.4487 - lr: 9.9807e-04\n",
      "Epoch 4/100\n",
      "32/32 [==============================] - 4s 126ms/step - loss: 0.7145 - accuracy: 0.5259 - auc: 0.5438 - val_loss: 0.6986 - val_accuracy: 0.5135 - val_auc: 0.5917 - lr: 9.9781e-04\n",
      "Epoch 5/100\n",
      "32/32 [==============================] - 4s 125ms/step - loss: 0.7151 - accuracy: 0.5068 - auc: 0.5125 - val_loss: 0.6838 - val_accuracy: 0.5261 - val_auc: 0.5979 - lr: 9.9750e-04\n",
      "Epoch 6/100\n",
      "32/32 [==============================] - 4s 126ms/step - loss: 0.7015 - accuracy: 0.5181 - auc: 0.5516 - val_loss: 0.6879 - val_accuracy: 0.5135 - val_auc: 0.5225 - lr: 9.9716e-04\n",
      "Epoch 7/100\n",
      "32/32 [==============================] - 4s 126ms/step - loss: 0.6986 - accuracy: 0.5278 - auc: 0.5616 - val_loss: 0.6838 - val_accuracy: 0.5594 - val_auc: 0.5803 - lr: 9.9676e-04\n",
      "Epoch 8/100\n",
      "32/32 [==============================] - 4s 125ms/step - loss: 0.6953 - accuracy: 0.5205 - auc: 0.5498 - val_loss: 0.6920 - val_accuracy: 0.5055 - val_auc: 0.5255 - lr: 9.9632e-04\n",
      "Epoch 9/100\n",
      "32/32 [==============================] - 4s 125ms/step - loss: 0.7024 - accuracy: 0.5127 - auc: 0.5356 - val_loss: 0.6962 - val_accuracy: 0.5325 - val_auc: 0.5777 - lr: 9.9581e-04\n",
      "Epoch 10/100\n",
      "32/32 [==============================] - 4s 126ms/step - loss: 0.6993 - accuracy: 0.5396 - auc: 0.5418 - val_loss: 0.6966 - val_accuracy: 0.4881 - val_auc: 0.4808 - lr: 9.9523e-04\n",
      "Epoch 11/100\n",
      "32/32 [==============================] - 4s 125ms/step - loss: 0.6941 - accuracy: 0.5273 - auc: 0.5613 - val_loss: 0.7067 - val_accuracy: 0.5151 - val_auc: 0.5864 - lr: 9.9457e-04\n",
      "Epoch 12/100\n",
      "32/32 [==============================] - 4s 125ms/step - loss: 0.6961 - accuracy: 0.5269 - auc: 0.5540 - val_loss: 0.6571 - val_accuracy: 0.6165 - val_auc: 0.6547 - lr: 9.9382e-04\n",
      "Epoch 13/100\n",
      "32/32 [==============================] - 4s 125ms/step - loss: 0.6884 - accuracy: 0.5518 - auc: 0.5734 - val_loss: 0.6684 - val_accuracy: 0.5832 - val_auc: 0.6301 - lr: 9.9297e-04\n",
      "Epoch 14/100\n",
      "32/32 [==============================] - 4s 126ms/step - loss: 0.6897 - accuracy: 0.5303 - auc: 0.5920 - val_loss: 0.6571 - val_accuracy: 0.5943 - val_auc: 0.6527 - lr: 9.9200e-04\n",
      "Epoch 15/100\n",
      "32/32 [==============================] - 4s 126ms/step - loss: 0.6968 - accuracy: 0.5210 - auc: 0.5491 - val_loss: 0.6571 - val_accuracy: 0.6466 - val_auc: 0.6901 - lr: 9.9090e-04\n",
      "Epoch 16/100\n",
      "32/32 [==============================] - 4s 124ms/step - loss: 0.6948 - accuracy: 0.5112 - auc: 0.5524 - val_loss: 0.6757 - val_accuracy: 0.5626 - val_auc: 0.6175 - lr: 9.8965e-04\n",
      "Epoch 17/100\n",
      "32/32 [==============================] - 4s 125ms/step - loss: 0.6839 - accuracy: 0.5527 - auc: 0.5875 - val_loss: 0.6974 - val_accuracy: 0.5214 - val_auc: 0.5904 - lr: 9.8823e-04\n",
      "Epoch 18/100\n",
      "32/32 [==============================] - 4s 125ms/step - loss: 0.6961 - accuracy: 0.5049 - auc: 0.5596 - val_loss: 0.6667 - val_accuracy: 0.5864 - val_auc: 0.6497 - lr: 9.8662e-04\n",
      "Epoch 19/100\n",
      "32/32 [==============================] - 4s 126ms/step - loss: 0.6924 - accuracy: 0.5254 - auc: 0.5574 - val_loss: 0.6860 - val_accuracy: 0.5483 - val_auc: 0.6077 - lr: 9.8479e-04\n",
      "Epoch 20/100\n",
      "32/32 [==============================] - 4s 125ms/step - loss: 0.6853 - accuracy: 0.5591 - auc: 0.5925 - val_loss: 0.6695 - val_accuracy: 0.5784 - val_auc: 0.6306 - lr: 9.8271e-04\n",
      "Epoch 21/100\n",
      "32/32 [==============================] - 4s 125ms/step - loss: 0.6955 - accuracy: 0.5142 - auc: 0.5537 - val_loss: 0.6671 - val_accuracy: 0.5468 - val_auc: 0.6097 - lr: 9.8036e-04\n",
      "Epoch 22/100\n",
      "32/32 [==============================] - 4s 125ms/step - loss: 0.6900 - accuracy: 0.5376 - auc: 0.5632 - val_loss: 0.6951 - val_accuracy: 0.5388 - val_auc: 0.6001 - lr: 9.7769e-04\n",
      "Epoch 23/100\n",
      "32/32 [==============================] - 4s 125ms/step - loss: 0.6901 - accuracy: 0.5430 - auc: 0.5813 - val_loss: 0.6516 - val_accuracy: 0.6735 - val_auc: 0.7000 - lr: 9.7468e-04\n",
      "Epoch 24/100\n",
      "32/32 [==============================] - 4s 127ms/step - loss: 0.6923 - accuracy: 0.5259 - auc: 0.5601 - val_loss: 0.6549 - val_accuracy: 0.6418 - val_auc: 0.6932 - lr: 9.7126e-04\n",
      "Epoch 25/100\n",
      "32/32 [==============================] - 4s 126ms/step - loss: 0.6912 - accuracy: 0.5513 - auc: 0.5753 - val_loss: 0.6971 - val_accuracy: 0.5372 - val_auc: 0.6011 - lr: 9.6740e-04\n",
      "Epoch 26/100\n",
      "32/32 [==============================] - 4s 127ms/step - loss: 0.6894 - accuracy: 0.5537 - auc: 0.5716 - val_loss: 0.7289 - val_accuracy: 0.5071 - val_auc: 0.5750 - lr: 9.6305e-04\n",
      "Epoch 27/100\n",
      "32/32 [==============================] - 4s 126ms/step - loss: 0.6835 - accuracy: 0.5562 - auc: 0.5949 - val_loss: 0.6415 - val_accuracy: 0.6513 - val_auc: 0.6915 - lr: 9.5813e-04\n",
      "Epoch 28/100\n",
      "32/32 [==============================] - 4s 126ms/step - loss: 0.6912 - accuracy: 0.5322 - auc: 0.5708 - val_loss: 0.6663 - val_accuracy: 0.5800 - val_auc: 0.6291 - lr: 9.5260e-04\n",
      "Epoch 29/100\n",
      "32/32 [==============================] - 4s 126ms/step - loss: 0.6866 - accuracy: 0.5518 - auc: 0.5920 - val_loss: 0.6789 - val_accuracy: 0.5800 - val_auc: 0.6276 - lr: 9.4637e-04\n",
      "Epoch 30/100\n",
      "32/32 [==============================] - 4s 127ms/step - loss: 0.6893 - accuracy: 0.5376 - auc: 0.5813 - val_loss: 0.6501 - val_accuracy: 0.6403 - val_auc: 0.6814 - lr: 9.3939e-04\n",
      "Epoch 31/100\n",
      "32/32 [==============================] - 4s 125ms/step - loss: 0.6878 - accuracy: 0.5469 - auc: 0.5820 - val_loss: 0.6734 - val_accuracy: 0.5721 - val_auc: 0.6260 - lr: 9.3155e-04\n",
      "Epoch 32/100\n",
      "32/32 [==============================] - 4s 126ms/step - loss: 0.6864 - accuracy: 0.5581 - auc: 0.6034 - val_loss: 0.6532 - val_accuracy: 0.6086 - val_auc: 0.6624 - lr: 9.2279e-04\n",
      "Epoch 33/100\n",
      "32/32 [==============================] - 4s 125ms/step - loss: 0.6956 - accuracy: 0.5347 - auc: 0.5606 - val_loss: 0.6824 - val_accuracy: 0.5499 - val_auc: 0.6113 - lr: 9.1301e-04\n",
      "Epoch 34/100\n",
      "32/32 [==============================] - 4s 127ms/step - loss: 0.6869 - accuracy: 0.5508 - auc: 0.5922 - val_loss: 0.6653 - val_accuracy: 0.5689 - val_auc: 0.6213 - lr: 9.0213e-04\n",
      "Epoch 35/100\n",
      "32/32 [==============================] - 4s 126ms/step - loss: 0.6836 - accuracy: 0.5605 - auc: 0.6100 - val_loss: 1.0146 - val_accuracy: 0.4992 - val_auc: 0.5691 - lr: 8.9005e-04\n",
      "Epoch 36/100\n",
      "32/32 [==============================] - 4s 125ms/step - loss: 0.6851 - accuracy: 0.5615 - auc: 0.5889 - val_loss: 1.0201 - val_accuracy: 0.4992 - val_auc: 0.5475 - lr: 8.7669e-04\n",
      "Epoch 37/100\n",
      "32/32 [==============================] - 4s 125ms/step - loss: 0.6900 - accuracy: 0.5479 - auc: 0.5863 - val_loss: 0.6634 - val_accuracy: 0.6212 - val_auc: 0.6841 - lr: 8.6196e-04\n",
      "Epoch 38/100\n",
      "32/32 [==============================] - 4s 122ms/step - loss: 0.6845 - accuracy: 0.5571 - auc: 0.5978 - val_loss: 0.6569 - val_accuracy: 0.6561 - val_auc: 0.7074 - lr: 8.4578e-04\n",
      "Epoch 39/100\n",
      "32/32 [==============================] - 4s 125ms/step - loss: 0.6868 - accuracy: 0.5371 - auc: 0.5961 - val_loss: 0.6554 - val_accuracy: 0.6466 - val_auc: 0.7005 - lr: 8.2809e-04\n",
      "Epoch 40/100\n",
      "32/32 [==============================] - 4s 126ms/step - loss: 0.6847 - accuracy: 0.5542 - auc: 0.6035 - val_loss: 0.6543 - val_accuracy: 0.6181 - val_auc: 0.6794 - lr: 8.0883e-04\n",
      "Epoch 41/100\n",
      "32/32 [==============================] - 4s 125ms/step - loss: 0.6845 - accuracy: 0.5635 - auc: 0.6073 - val_loss: 0.6680 - val_accuracy: 0.5293 - val_auc: 0.6064 - lr: 7.8798e-04\n",
      "Epoch 42/100\n",
      "32/32 [==============================] - 4s 126ms/step - loss: 0.6807 - accuracy: 0.5635 - auc: 0.6126 - val_loss: 0.6605 - val_accuracy: 0.5737 - val_auc: 0.6262 - lr: 7.6551e-04\n",
      "Epoch 43/100\n"
     ]
    },
    {
     "name": "stdout",
     "output_type": "stream",
     "text": [
      "32/32 [==============================] - 4s 126ms/step - loss: 0.6807 - accuracy: 0.5610 - auc: 0.6172 - val_loss: 0.6649 - val_accuracy: 0.5515 - val_auc: 0.6133 - lr: 7.4146e-04\n",
      "Epoch 44/100\n",
      "32/32 [==============================] - 4s 126ms/step - loss: 0.6863 - accuracy: 0.5630 - auc: 0.5960 - val_loss: 0.6758 - val_accuracy: 0.5309 - val_auc: 0.5971 - lr: 7.1587e-04\n",
      "Epoch 45/100\n",
      "32/32 [==============================] - 4s 125ms/step - loss: 0.6833 - accuracy: 0.5635 - auc: 0.6071 - val_loss: 0.6527 - val_accuracy: 0.6276 - val_auc: 0.6873 - lr: 6.8882e-04\n",
      "Epoch 46/100\n",
      "32/32 [==============================] - 4s 125ms/step - loss: 0.6848 - accuracy: 0.5493 - auc: 0.6076 - val_loss: 0.6476 - val_accuracy: 0.6482 - val_auc: 0.6972 - lr: 6.6044e-04\n",
      "Epoch 47/100\n",
      "32/32 [==============================] - 4s 125ms/step - loss: 0.6830 - accuracy: 0.5591 - auc: 0.6059 - val_loss: 0.6763 - val_accuracy: 0.5769 - val_auc: 0.6150 - lr: 6.3088e-04\n",
      "Epoch 48/100\n",
      "32/32 [==============================] - 4s 125ms/step - loss: 0.6802 - accuracy: 0.5459 - auc: 0.6094 - val_loss: 0.6463 - val_accuracy: 0.6418 - val_auc: 0.6939 - lr: 6.0032e-04\n",
      "Epoch 49/100\n",
      "32/32 [==============================] - 4s 127ms/step - loss: 0.6810 - accuracy: 0.5493 - auc: 0.6160 - val_loss: 0.6463 - val_accuracy: 0.6545 - val_auc: 0.7053 - lr: 5.6899e-04\n",
      "Epoch 50/100\n",
      "32/32 [==============================] - 4s 127ms/step - loss: 0.6825 - accuracy: 0.5493 - auc: 0.6089 - val_loss: 0.6426 - val_accuracy: 0.6624 - val_auc: 0.7227 - lr: 5.3713e-04\n",
      "Epoch 51/100\n",
      "32/32 [==============================] - 4s 126ms/step - loss: 0.6828 - accuracy: 0.5566 - auc: 0.6036 - val_loss: 0.6521 - val_accuracy: 0.6466 - val_auc: 0.6941 - lr: 5.0500e-04\n",
      "Epoch 52/100\n",
      "32/32 [==============================] - 4s 125ms/step - loss: 0.6756 - accuracy: 0.5840 - auc: 0.6271 - val_loss: 0.6524 - val_accuracy: 0.6403 - val_auc: 0.6935 - lr: 4.7287e-04\n",
      "Epoch 53/100\n",
      "32/32 [==============================] - 4s 125ms/step - loss: 0.6815 - accuracy: 0.5713 - auc: 0.6177 - val_loss: 0.6638 - val_accuracy: 0.5911 - val_auc: 0.6452 - lr: 4.4101e-04\n",
      "Epoch 54/100\n",
      "32/32 [==============================] - 4s 126ms/step - loss: 0.6848 - accuracy: 0.5596 - auc: 0.6063 - val_loss: 0.6979 - val_accuracy: 0.5008 - val_auc: 0.5566 - lr: 4.0968e-04\n",
      "Epoch 55/100\n",
      "32/32 [==============================] - 4s 126ms/step - loss: 0.6849 - accuracy: 0.5430 - auc: 0.6188 - val_loss: 0.6528 - val_accuracy: 0.6307 - val_auc: 0.6870 - lr: 3.7912e-04\n",
      "Epoch 56/100\n",
      "32/32 [==============================] - 4s 126ms/step - loss: 0.6759 - accuracy: 0.5752 - auc: 0.6448 - val_loss: 0.6463 - val_accuracy: 0.6704 - val_auc: 0.7186 - lr: 3.4956e-04\n",
      "Epoch 57/100\n",
      "32/32 [==============================] - 4s 126ms/step - loss: 0.6812 - accuracy: 0.5684 - auc: 0.6146 - val_loss: 0.6445 - val_accuracy: 0.6403 - val_auc: 0.7036 - lr: 3.2118e-04\n",
      "Epoch 58/100\n",
      "32/32 [==============================] - 4s 125ms/step - loss: 0.6759 - accuracy: 0.5796 - auc: 0.6437 - val_loss: 0.6437 - val_accuracy: 0.6482 - val_auc: 0.7013 - lr: 2.9413e-04\n",
      "Epoch 59/100\n",
      "32/32 [==============================] - 4s 126ms/step - loss: 0.6826 - accuracy: 0.5615 - auc: 0.6145 - val_loss: 0.6485 - val_accuracy: 0.6498 - val_auc: 0.6903 - lr: 2.6854e-04\n",
      "Epoch 60/100\n",
      "32/32 [==============================] - 4s 126ms/step - loss: 0.6785 - accuracy: 0.5723 - auc: 0.6330 - val_loss: 0.6407 - val_accuracy: 0.6672 - val_auc: 0.7186 - lr: 2.4449e-04\n",
      "Epoch 61/100\n",
      "32/32 [==============================] - 4s 125ms/step - loss: 0.6788 - accuracy: 0.5884 - auc: 0.6370 - val_loss: 0.6464 - val_accuracy: 0.6371 - val_auc: 0.7118 - lr: 2.2202e-04\n",
      "Epoch 62/100\n",
      "32/32 [==============================] - 4s 126ms/step - loss: 0.6810 - accuracy: 0.5737 - auc: 0.6196 - val_loss: 0.6701 - val_accuracy: 0.5626 - val_auc: 0.6201 - lr: 2.0117e-04\n",
      "Epoch 63/100\n",
      "32/32 [==============================] - 4s 125ms/step - loss: 0.6759 - accuracy: 0.5723 - auc: 0.6468 - val_loss: 0.6442 - val_accuracy: 0.6624 - val_auc: 0.7195 - lr: 1.8191e-04\n",
      "Epoch 64/100\n",
      "32/32 [==============================] - 4s 126ms/step - loss: 0.6746 - accuracy: 0.5850 - auc: 0.6447 - val_loss: 0.6486 - val_accuracy: 0.6101 - val_auc: 0.6731 - lr: 1.6422e-04\n",
      "Epoch 65/100\n",
      "32/32 [==============================] - 4s 125ms/step - loss: 0.6752 - accuracy: 0.5815 - auc: 0.6461 - val_loss: 0.6434 - val_accuracy: 0.6434 - val_auc: 0.7136 - lr: 1.4804e-04\n",
      "Epoch 66/100\n",
      "32/32 [==============================] - 4s 125ms/step - loss: 0.6779 - accuracy: 0.5854 - auc: 0.6345 - val_loss: 0.6375 - val_accuracy: 0.6593 - val_auc: 0.7217 - lr: 1.3331e-04\n",
      "Epoch 67/100\n",
      "32/32 [==============================] - 4s 126ms/step - loss: 0.6778 - accuracy: 0.5776 - auc: 0.6307 - val_loss: 0.6534 - val_accuracy: 0.5975 - val_auc: 0.6601 - lr: 1.1995e-04\n",
      "Epoch 68/100\n",
      "32/32 [==============================] - 4s 127ms/step - loss: 0.6752 - accuracy: 0.5801 - auc: 0.6464 - val_loss: 0.6413 - val_accuracy: 0.6466 - val_auc: 0.7130 - lr: 1.0787e-04\n",
      "Epoch 69/100\n",
      "32/32 [==============================] - 4s 126ms/step - loss: 0.6802 - accuracy: 0.5586 - auc: 0.6427 - val_loss: 0.6440 - val_accuracy: 0.6529 - val_auc: 0.7055 - lr: 9.6985e-05\n",
      "Epoch 70/100\n",
      "32/32 [==============================] - 4s 126ms/step - loss: 0.6747 - accuracy: 0.5879 - auc: 0.6385 - val_loss: 0.6458 - val_accuracy: 0.6577 - val_auc: 0.7089 - lr: 8.7208e-05\n",
      "Epoch 71/100\n",
      "32/32 [==============================] - 4s 126ms/step - loss: 0.6749 - accuracy: 0.5835 - auc: 0.6347 - val_loss: 0.6504 - val_accuracy: 0.6212 - val_auc: 0.6838 - lr: 7.8447e-05\n",
      "Epoch 72/100\n",
      "32/32 [==============================] - 4s 126ms/step - loss: 0.6755 - accuracy: 0.5679 - auc: 0.6438 - val_loss: 0.6491 - val_accuracy: 0.6513 - val_auc: 0.6998 - lr: 7.0614e-05\n",
      "Epoch 73/100\n",
      "32/32 [==============================] - 4s 126ms/step - loss: 0.6732 - accuracy: 0.5830 - auc: 0.6560 - val_loss: 0.6397 - val_accuracy: 0.6735 - val_auc: 0.7183 - lr: 6.3625e-05\n",
      "Epoch 74/100\n",
      "32/32 [==============================] - 4s 126ms/step - loss: 0.6800 - accuracy: 0.5659 - auc: 0.6284 - val_loss: 0.6418 - val_accuracy: 0.6688 - val_auc: 0.7149 - lr: 5.7401e-05\n",
      "Epoch 75/100\n",
      "32/32 [==============================] - 4s 126ms/step - loss: 0.6798 - accuracy: 0.5645 - auc: 0.6334 - val_loss: 0.6484 - val_accuracy: 0.6561 - val_auc: 0.7019 - lr: 5.1867e-05\n",
      "Epoch 76/100\n",
      "32/32 [==============================] - 4s 126ms/step - loss: 0.6740 - accuracy: 0.5757 - auc: 0.6568 - val_loss: 0.6418 - val_accuracy: 0.6624 - val_auc: 0.7069 - lr: 4.6954e-05\n",
      "Epoch 77/100\n",
      "32/32 [==============================] - 4s 126ms/step - loss: 0.6735 - accuracy: 0.5796 - auc: 0.6409 - val_loss: 0.6414 - val_accuracy: 0.6593 - val_auc: 0.7106 - lr: 4.2597e-05\n",
      "Epoch 78/100\n",
      "32/32 [==============================] - 4s 125ms/step - loss: 0.6714 - accuracy: 0.5908 - auc: 0.6393 - val_loss: 0.6427 - val_accuracy: 0.6719 - val_auc: 0.7124 - lr: 3.8739e-05\n",
      "Epoch 79/100\n",
      "32/32 [==============================] - 4s 126ms/step - loss: 0.6739 - accuracy: 0.5698 - auc: 0.6416 - val_loss: 0.6407 - val_accuracy: 0.6735 - val_auc: 0.7134 - lr: 3.5325e-05\n",
      "Epoch 80/100\n",
      "32/32 [==============================] - 4s 126ms/step - loss: 0.6747 - accuracy: 0.5864 - auc: 0.6365 - val_loss: 0.6382 - val_accuracy: 0.6688 - val_auc: 0.7199 - lr: 3.2307e-05\n",
      "Epoch 81/100\n",
      "32/32 [==============================] - 4s 125ms/step - loss: 0.6726 - accuracy: 0.5972 - auc: 0.6484 - val_loss: 0.6379 - val_accuracy: 0.6751 - val_auc: 0.7200 - lr: 2.9642e-05\n",
      "Epoch 82/100\n",
      "32/32 [==============================] - 4s 126ms/step - loss: 0.6691 - accuracy: 0.5830 - auc: 0.6603 - val_loss: 0.6395 - val_accuracy: 0.6704 - val_auc: 0.7158 - lr: 2.7289e-05\n",
      "Epoch 83/100\n",
      "32/32 [==============================] - 4s 126ms/step - loss: 0.6721 - accuracy: 0.5957 - auc: 0.6535 - val_loss: 0.6405 - val_accuracy: 0.6751 - val_auc: 0.7122 - lr: 2.5214e-05\n",
      "Epoch 84/100\n",
      "32/32 [==============================] - 4s 125ms/step - loss: 0.6685 - accuracy: 0.5947 - auc: 0.6512 - val_loss: 0.6360 - val_accuracy: 0.6735 - val_auc: 0.7175 - lr: 2.3384e-05\n",
      "Epoch 85/100\n"
     ]
    },
    {
     "name": "stdout",
     "output_type": "stream",
     "text": [
      "32/32 [==============================] - 4s 126ms/step - loss: 0.6742 - accuracy: 0.5806 - auc: 0.6428 - val_loss: 0.6364 - val_accuracy: 0.6751 - val_auc: 0.7184 - lr: 2.1772e-05\n",
      "Epoch 86/100\n",
      "32/32 [==============================] - 4s 126ms/step - loss: 0.6765 - accuracy: 0.5811 - auc: 0.6321 - val_loss: 0.6392 - val_accuracy: 0.6704 - val_auc: 0.7143 - lr: 2.0352e-05\n",
      "Epoch 87/100\n",
      "32/32 [==============================] - 4s 126ms/step - loss: 0.6698 - accuracy: 0.5815 - auc: 0.6587 - val_loss: 0.6395 - val_accuracy: 0.6688 - val_auc: 0.7146 - lr: 1.9102e-05\n",
      "Epoch 88/100\n",
      "32/32 [==============================] - 4s 126ms/step - loss: 0.6779 - accuracy: 0.5903 - auc: 0.6433 - val_loss: 0.6420 - val_accuracy: 0.6719 - val_auc: 0.7128 - lr: 1.8001e-05\n",
      "Epoch 89/100\n",
      "32/32 [==============================] - 4s 126ms/step - loss: 0.6746 - accuracy: 0.5806 - auc: 0.6499 - val_loss: 0.6414 - val_accuracy: 0.6751 - val_auc: 0.7118 - lr: 1.7033e-05\n",
      "Epoch 90/100\n",
      "32/32 [==============================] - 4s 127ms/step - loss: 0.6744 - accuracy: 0.5845 - auc: 0.6483 - val_loss: 0.6414 - val_accuracy: 0.6767 - val_auc: 0.7137 - lr: 1.6181e-05\n",
      "Epoch 91/100\n",
      "32/32 [==============================] - 4s 126ms/step - loss: 0.6765 - accuracy: 0.5693 - auc: 0.6465 - val_loss: 0.6424 - val_accuracy: 0.6735 - val_auc: 0.7092 - lr: 1.5431e-05\n",
      "Epoch 92/100\n",
      "32/32 [==============================] - 4s 125ms/step - loss: 0.6784 - accuracy: 0.5718 - auc: 0.6408 - val_loss: 0.6425 - val_accuracy: 0.6751 - val_auc: 0.7098 - lr: 1.4773e-05\n",
      "Epoch 93/100\n",
      "32/32 [==============================] - 4s 126ms/step - loss: 0.6766 - accuracy: 0.5679 - auc: 0.6407 - val_loss: 0.6426 - val_accuracy: 0.6751 - val_auc: 0.7090 - lr: 1.4193e-05\n",
      "Epoch 94/100\n",
      "32/32 [==============================] - 4s 126ms/step - loss: 0.6768 - accuracy: 0.5864 - auc: 0.6387 - val_loss: 0.6440 - val_accuracy: 0.6735 - val_auc: 0.7097 - lr: 1.3684e-05\n",
      "Epoch 95/100\n",
      "32/32 [==============================] - 4s 125ms/step - loss: 0.6738 - accuracy: 0.5864 - auc: 0.6459 - val_loss: 0.6452 - val_accuracy: 0.6688 - val_auc: 0.7054 - lr: 1.3236e-05\n",
      "Epoch 96/100\n",
      "32/32 [==============================] - 4s 126ms/step - loss: 0.6728 - accuracy: 0.5942 - auc: 0.6574 - val_loss: 0.6448 - val_accuracy: 0.6640 - val_auc: 0.7051 - lr: 1.2843e-05\n",
      "Epoch 97/100\n",
      "32/32 [==============================] - 4s 126ms/step - loss: 0.6780 - accuracy: 0.5718 - auc: 0.6410 - val_loss: 0.6442 - val_accuracy: 0.6672 - val_auc: 0.7054 - lr: 1.2497e-05\n",
      "Epoch 98/100\n",
      "32/32 [==============================] - 4s 126ms/step - loss: 0.6746 - accuracy: 0.5889 - auc: 0.6454 - val_loss: 0.6435 - val_accuracy: 0.6640 - val_auc: 0.7063 - lr: 1.2193e-05\n",
      "Epoch 99/100\n",
      "32/32 [==============================] - 4s 126ms/step - loss: 0.6720 - accuracy: 0.5986 - auc: 0.6485 - val_loss: 0.6416 - val_accuracy: 0.6735 - val_auc: 0.7109 - lr: 1.1927e-05\n",
      "Epoch 100/100\n",
      "32/32 [==============================] - 4s 127ms/step - loss: 0.6753 - accuracy: 0.5737 - auc: 0.6422 - val_loss: 0.6404 - val_accuracy: 0.6751 - val_auc: 0.7118 - lr: 1.1692e-05\n"
     ]
    },
    {
     "data": {
      "text/plain": [
       "<keras.callbacks.History at 0x7fa2f819bc10>"
      ]
     },
     "execution_count": 32,
     "metadata": {},
     "output_type": "execute_result"
    }
   ],
   "source": [
    "n_epoch = 100\n",
    "lr = LearningRateScheduler(lambda e: sigmoidal_decay(e, end=n_epoch))\n",
    "\n",
    "\n",
    "batch_size = 64\n",
    "params = {'batch_size': batch_size,\n",
    "#          'input_shape': (100, 313, 1),\n",
    "          'shuffle': True,\n",
    "          'beta_param': 0.7,\n",
    "          'mixup': True,\n",
    "#          'lowpass': [.5, [11,12,13,14,15,16,17,18]]\n",
    "          'highpass': [.5, [78,79,80,81,82,83,84,85]],\n",
    "          'ranfilter2' : [3, [18,19,20,21,22,23]]\n",
    "#           'dropblock' : [30, 100]\n",
    "          #'device' : device\n",
    "}\n",
    "\n",
    "params_no_shuffle = {'batch_size': batch_size,\n",
    "#          'input_shape': (100, 313, 1),\n",
    "          'shuffle': False,\n",
    "          'beta_param': 0.7,\n",
    "          'mixup': False\n",
    "          #'device': device\n",
    "}\n",
    "\n",
    "TrainDGen_1 = Generator0([features_trn['age'],features_trn['sex'], features_trn['hw'], features_trn['preg'], features_trn['loc'],\n",
    "                          features_trn['rr1'],features_trn['mel1'],features_trn['stft1'],features_trn['cqt1']], \n",
    "                        features_trn['out_labels'],  ## our Y\n",
    "                        **params)()\n",
    "\n",
    "#ValDGen_1 = Generator0([features_test[0]['age'],features_test[0]['sex'], features_test[0]['hw'], features_test[0]['preg'], features_test[0]['loc'], \n",
    "#           features_test[0]['mel1'],features_test[0]['cqt1'],features_test[0]['stft1']], \n",
    "#                        features_test[2],  ## our Y\n",
    "#                        **params_no_shuffle)()\n",
    "\n",
    "    \n",
    "model2.fit(TrainDGen_1,\n",
    "          validation_data = ([features_test['age'],features_test['sex'], features_test['hw'], \n",
    "                              features_test['preg'], features_test['loc'],features_test['rr1'], features_test['mel1'],\n",
    "                              features_test['stft1'],features_test['cqt1']], \n",
    "                             features_test['out_labels']), \n",
    "                             callbacks=[lr],\n",
    "                              steps_per_epoch=32,\n",
    "                             epochs = n_epoch)"
   ]
  },
  {
   "cell_type": "code",
   "execution_count": null,
   "id": "5dcd8f67",
   "metadata": {},
   "outputs": [],
   "source": []
  },
  {
   "cell_type": "code",
   "execution_count": 33,
   "id": "5d9abb6a",
   "metadata": {},
   "outputs": [
    {
     "data": {
      "text/plain": [
       "{'samp_sec': 20,\n",
       " 'pre_emphasis': 0,\n",
       " 'hop_length': 128,\n",
       " 'win_length': 256,\n",
       " 'n_mels': 100,\n",
       " 'filter_scale': 1,\n",
       " 'n_bins': 80,\n",
       " 'fmin': 10}"
      ]
     },
     "execution_count": 33,
     "metadata": {},
     "output_type": "execute_result"
    }
   ],
   "source": [
    "params_feature"
   ]
  },
  {
   "cell_type": "code",
   "execution_count": 34,
   "id": "08f47fb7",
   "metadata": {},
   "outputs": [],
   "source": [
    "params_feature['mel_shape'] = mel_input_shape\n",
    "params_feature['cqt_shape'] = cqt_input_shape\n",
    "params_feature['stft_shape'] = stft_input_shape\n"
   ]
  },
  {
   "cell_type": "code",
   "execution_count": 35,
   "id": "b55d7cf2",
   "metadata": {},
   "outputs": [
    {
     "data": {
      "text/plain": [
       "{'samp_sec': 20,\n",
       " 'pre_emphasis': 0,\n",
       " 'hop_length': 128,\n",
       " 'win_length': 256,\n",
       " 'n_mels': 100,\n",
       " 'filter_scale': 1,\n",
       " 'n_bins': 80,\n",
       " 'fmin': 10,\n",
       " 'mel_shape': (100, 626, 1),\n",
       " 'cqt_shape': (80, 157, 1),\n",
       " 'stft_shape': (129, 626, 1)}"
      ]
     },
     "execution_count": 35,
     "metadata": {},
     "output_type": "execute_result"
    }
   ],
   "source": [
    "params_feature"
   ]
  },
  {
   "cell_type": "code",
   "execution_count": 36,
   "id": "786d2ba7",
   "metadata": {},
   "outputs": [],
   "source": [
    "import pickle as pk\n",
    "def save_challenge_model(model_folder, model1, model2, m_name1, m_name2, param_feature) :\n",
    "    os.makedirs(model_folder, exist_ok=True)\n",
    "    info_fnm = os.path.join(model_folder, 'desc.pk')\n",
    "    filename1 = os.path.join(model_folder, m_name1 + '_model1.hdf5')\n",
    "    filename2 = os.path.join(model_folder, m_name2 + '_model2.hdf5')\n",
    "    model1.save(filename1)\n",
    "    model2.save(filename2)\n",
    "    param_feature['model1'] = m_name1\n",
    "    param_feature['model2'] = m_name2\n",
    "    param_feature['model_fnm1'] = filename1\n",
    "    param_feature['model_fnm2'] = filename2\n",
    "\n",
    "    with open(info_fnm, 'wb') as f:\n",
    "        pk.dump(param_feature, f, pk.HIGHEST_PROTOCOL)\n",
    "    return 1\n",
    "    "
   ]
  },
  {
   "cell_type": "code",
   "execution_count": 37,
   "id": "6b9ae924",
   "metadata": {},
   "outputs": [
    {
     "data": {
      "text/plain": [
       "'lcnn2'"
      ]
     },
     "execution_count": 37,
     "metadata": {},
     "output_type": "execute_result"
    }
   ],
   "source": [
    "model_folder"
   ]
  },
  {
   "cell_type": "code",
   "execution_count": 38,
   "id": "ed1124d7",
   "metadata": {},
   "outputs": [
    {
     "data": {
      "text/plain": [
       "1"
      ]
     },
     "execution_count": 38,
     "metadata": {},
     "output_type": "execute_result"
    }
   ],
   "source": [
    "save_challenge_model(model_folder, model1, model2, m_name1 = 'lcnn1', m_name2 = 'lcnn2', param_feature = params_feature)"
   ]
  },
  {
   "cell_type": "code",
   "execution_count": 39,
   "id": "ba030c37",
   "metadata": {},
   "outputs": [],
   "source": [
    "def load_challenge_model(model_folder, verbose):\n",
    "    info_fnm = os.path.join(model_folder, 'desc.pk')\n",
    "    with open(info_fnm, 'rb') as f:\n",
    "        info_m = pk.load(f)\n",
    "#    if info_m['model'] == 'toy' :\n",
    "#        model = get_toy(info_m['mel_shape'])\n",
    "#    filename = os.path.join(model_folder, info_m['model'] + '_model.hdf5')\n",
    "#    model.load_weights(filename)\n",
    "    return info_m"
   ]
  },
  {
   "cell_type": "code",
   "execution_count": 40,
   "id": "23ab0a5f",
   "metadata": {
    "scrolled": true
   },
   "outputs": [
    {
     "data": {
      "text/plain": [
       "{'samp_sec': 20,\n",
       " 'pre_emphasis': 0,\n",
       " 'hop_length': 128,\n",
       " 'win_length': 256,\n",
       " 'n_mels': 100,\n",
       " 'filter_scale': 1,\n",
       " 'n_bins': 80,\n",
       " 'fmin': 10,\n",
       " 'mel_shape': (100, 626, 1),\n",
       " 'cqt_shape': (80, 157, 1),\n",
       " 'stft_shape': (129, 626, 1),\n",
       " 'model1': 'lcnn1',\n",
       " 'model2': 'lcnn2',\n",
       " 'model_fnm1': 'lcnn2/lcnn1_model1.hdf5',\n",
       " 'model_fnm2': 'lcnn2/lcnn2_model2.hdf5'}"
      ]
     },
     "execution_count": 40,
     "metadata": {},
     "output_type": "execute_result"
    }
   ],
   "source": [
    "params_feature"
   ]
  },
  {
   "cell_type": "code",
   "execution_count": 41,
   "id": "f6ed40e0",
   "metadata": {},
   "outputs": [],
   "source": [
    "def run_challenge_model(model, data, recordings, verbose,use_mel=True,use_stft=True,use_cqt=True):\n",
    "    \n",
    "    murmur_classes = ['Present', 'Unknown', 'Absent']\n",
    "    outcome_classes = ['Abnormal', 'Normal']\n",
    "    \n",
    "    if model['model1'] == 'toy1' :\n",
    "        model1 = get_toy5_1(model['mel_shape'],model['cqt_shape'],model['stft_shape'] )\n",
    "    if model['model2'] == 'toy2' :\n",
    "        model2 = get_toy5_2(model['mel_shape'],model['cqt_shape'],model['stft_shape'])\n",
    "    if model['model1'] == 'lcnn1' :\n",
    "        model1 = get_LCNN_o_3_dr(model['mel_shape'],model['cqt_shape'],model['stft_shape'], use_mel = True, use_cqt = False, use_stft = False,ord1=False,ext=True)\n",
    "    if model['model2'] == 'lcnn2' :\n",
    "        model2 = get_LCNN_o_3_dr(model['mel_shape'],model['cqt_shape'],model['stft_shape'], use_mel = True, use_cqt = False, use_stft = False,ord1=True,ext=True)\n",
    "    model1.load_weights(model['model_fnm1'])\n",
    "    model2.load_weights(model['model_fnm2'])\n",
    "    \n",
    "#    classes = model['classes']\n",
    "    # Load features.\n",
    "    features = get_feature_one(data, verbose = 0)\n",
    "\n",
    "    samp_sec = model['samp_sec'] \n",
    "    pre_emphasis = model['pre_emphasis']\n",
    "    hop_length = model['hop_length']\n",
    "    win_length = model['win_length']\n",
    "    n_mels = model['n_mels']\n",
    "    filter_scale = model['filter_scale']\n",
    "    n_bins = model['n_bins']\n",
    "    fmin = model['fmin']\n",
    "    \n",
    "    features['rr1'] = []\n",
    "    \n",
    "    for i in range(len(recordings)):\n",
    "        try:\n",
    "            \n",
    "#             ____, recording1 = sp.io.wavfile.read(recordings)\n",
    "            ____, info = nk.ecg_process(recordings[i], sampling_rate=4000)\n",
    "            rr = np.mean(np.diff(info['ECG_R_Peaks'])/4000)\n",
    "            current_rr = rr\n",
    "        except:\n",
    "            current_rr=np.zeros(1)\n",
    "        \n",
    "        features['rr1'].append(current_rr)  \n",
    "    \n",
    "    features['rr1'] = np.array(features['rr1'])\n",
    "    \n",
    "    features['mel1'] = []\n",
    "    for i in range(len(recordings)) :\n",
    "        if use_mel :\n",
    "            mel1 = feature_extract_melspec(recordings[i]/ 32768, samp_sec=samp_sec, pre_emphasis = pre_emphasis, hop_length=hop_length, \n",
    "                                           win_length = win_length, n_mels = n_mels)[0]\n",
    "        else :\n",
    "            mel1 = np.zeros( (1,1) )\n",
    "            \n",
    "        features['mel1'].append(mel1)\n",
    "        \n",
    "    M, N = features['mel1'][0].shape\n",
    "    \n",
    "    if use_mel :\n",
    "        for i in range(len(features['mel1'])) :\n",
    "            features['mel1'][i] = features['mel1'][i].reshape(M,N,1)   \n",
    "    \n",
    "    features['mel1'] = np.array(features['mel1'])\n",
    "\n",
    "    \n",
    "  \n",
    "    features['cqt1'] = []\n",
    "    for i in range(len(recordings)) :\n",
    "        if use_cqt :\n",
    "            mel1 = feature_extract_cqt(recordings[i], samp_sec=samp_sec, pre_emphasis = pre_emphasis, filter_scale = filter_scale, \n",
    "                                        n_bins = n_bins, fmin = fmin)[0]\n",
    "        else:\n",
    "            mel1 = np.zeros( (1,1) )\n",
    "            \n",
    "        features['cqt1'].append(mel1)\n",
    "        \n",
    "    M, N = features['cqt1'][0].shape\n",
    "    \n",
    "    if use_cqt :\n",
    "        for i in range(len(features['cqt1'])) :\n",
    "            features['cqt1'][i] = features['cqt1'][i].reshape(M,N,1)   \n",
    "    \n",
    "    features['cqt1'] = np.array(features['cqt1'])\n",
    "    \n",
    "    \n",
    "    features['stft1'] = []\n",
    "    for i in range(len(recordings)) :\n",
    "        if use_stft :\n",
    "            mel1 = feature_extract_stft(recordings[i]/ 32768, samp_sec=samp_sec, pre_emphasis = pre_emphasis, hop_length=hop_length, \n",
    "                                        win_length = win_length)[0]\n",
    "        else :\n",
    "            mel1 = np.zeros( (1,1) )\n",
    "        \n",
    "        features['stft1'].append(mel1)\n",
    "        \n",
    "    M, N = features['stft1'][0].shape\n",
    "    if use_stft :\n",
    "        for i in range(len(features['stft1'])) :\n",
    "            features['stft1'][i] = features['stft1'][i].reshape(M,N,1)           \n",
    "    features['stft1'] = np.array(features['stft1'])\n",
    "\n",
    "    #    print(features)\n",
    "    # Impute missing data.\n",
    "    res1 = model1.predict([features['age'], features['sex'], features['hw'], features['preg'], features['loc'], features['rr1'],features['mel1'], features['stft1'], features['cqt1']])\n",
    "    res2 = model2.predict([features['age'], features['sex'], features['hw'], features['preg'], features['loc'], features['rr1'], features['mel1'], features['stft1'], features['cqt1']])\n",
    "\n",
    "    # Get classifier probabilities.\n",
    "    idx1 = res1.argmax(axis=0)[0]\n",
    "    murmur_probabilities = res1[idx1,]  ## mumur 확률 최대화 되는 애 뽑기\n",
    "    outcome_probabilities = res2.mean(axis = 0) ##  outcome 은 그냥 평균으로 뽑기\n",
    "#    idx = np.argmax(prob1)\n",
    "\n",
    "    ## 이부분도 생각 필요.. rule 을 cost를 maximize 하는 기준으로 threshold 탐색 필요할지도..\n",
    "    # Choose label with highest probability.\n",
    "    murmur_labels = np.zeros(len(murmur_classes), dtype=np.int_)\n",
    "    idx = np.argmax(murmur_probabilities)\n",
    "    murmur_labels[idx] = 1\n",
    "    outcome_labels = np.zeros(len(outcome_classes), dtype=np.int_)\n",
    "    idx = np.argmax(outcome_probabilities)\n",
    "    outcome_labels[idx] = 1\n",
    "    \n",
    "    # Concatenate classes, labels, and probabilities.\n",
    "    classes = murmur_classes + outcome_classes\n",
    "    labels = np.concatenate((murmur_labels, outcome_labels))\n",
    "    probabilities = np.concatenate((murmur_probabilities, outcome_probabilities))\n",
    "    \n",
    "    return classes, labels, probabilities"
   ]
  },
  {
   "cell_type": "code",
   "execution_count": null,
   "id": "1daaed9b",
   "metadata": {},
   "outputs": [],
   "source": []
  },
  {
   "cell_type": "code",
   "execution_count": 42,
   "id": "b6a44c38",
   "metadata": {},
   "outputs": [],
   "source": [
    "# Run model.\n",
    "def run_model(model_folder, data_folder, output_folder, allow_failures, verbose):\n",
    "    # Load models.\n",
    "    if verbose >= 1:\n",
    "        print('Loading Challenge model...')\n",
    "\n",
    "    model = load_challenge_model(model_folder, verbose) ### Teams: Implement this function!!!\n",
    "\n",
    "    # Find the patient data files.\n",
    "    patient_files = find_patient_files(data_folder)\n",
    "    num_patient_files = len(patient_files)\n",
    "\n",
    "    if num_patient_files==0:\n",
    "        raise Exception('No data was provided.')\n",
    "\n",
    "    # Create a folder for the Challenge outputs if it does not already exist.\n",
    "    os.makedirs(output_folder, exist_ok=True)\n",
    "\n",
    "    # Run the team's model on the Challenge data.\n",
    "    if verbose >= 1:\n",
    "        print('Running model on Challenge data...')\n",
    "\n",
    "    # Iterate over the patient files.\n",
    "    for i in range(num_patient_files):\n",
    "        if verbose >= 2:\n",
    "            print('    {}/{}...'.format(i+1, num_patient_files))\n",
    "\n",
    "        patient_data = load_patient_data(patient_files[i])\n",
    "        recordings = load_recordings(data_folder, patient_data)\n",
    "\n",
    "        # Allow or disallow the model to fail on parts of the data; helpful for debugging.\n",
    "        try:\n",
    "            classes, labels, probabilities = run_challenge_model(model, patient_data, recordings, verbose) ### Teams: Implement this function!!!\n",
    "        except:\n",
    "            if allow_failures:\n",
    "                if verbose >= 2:\n",
    "                    print('... failed.')\n",
    "                classes, labels, probabilities = list(), list(), list()\n",
    "            else:\n",
    "                raise\n",
    "\n",
    "        # Save Challenge outputs.\n",
    "        head, tail = os.path.split(patient_files[i])\n",
    "        root, extension = os.path.splitext(tail)\n",
    "        output_file = os.path.join(output_folder, root + '.csv')\n",
    "        patient_id = get_patient_id(patient_data)\n",
    "        save_challenge_outputs(output_file, patient_id, classes, labels, probabilities)\n",
    "\n",
    "    if verbose >= 1:\n",
    "        print('Done.')"
   ]
  },
  {
   "cell_type": "code",
   "execution_count": null,
   "id": "0d7d0f3e",
   "metadata": {},
   "outputs": [],
   "source": []
  },
  {
   "cell_type": "code",
   "execution_count": 43,
   "id": "38ee9f70",
   "metadata": {},
   "outputs": [],
   "source": [
    "output_folder = '/home/jk21/Documents/hmd/jk_classifier/out_lcnn2'"
   ]
  },
  {
   "cell_type": "code",
   "execution_count": 44,
   "id": "d4be81f7",
   "metadata": {
    "scrolled": false
   },
   "outputs": [
    {
     "name": "stdout",
     "output_type": "stream",
     "text": [
      "Loading Challenge model...\n",
      "Running model on Challenge data...\n",
      "    1/191...\n"
     ]
    },
    {
     "name": "stderr",
     "output_type": "stream",
     "text": [
      "/home/jk21/.local/lib/python3.8/site-packages/numpy/core/fromnumeric.py:3474: RuntimeWarning: Mean of empty slice.\n",
      "  return _methods._mean(a, axis=axis, dtype=dtype,\n",
      "/home/jk21/.local/lib/python3.8/site-packages/numpy/core/_methods.py:189: RuntimeWarning: invalid value encountered in double_scalars\n",
      "  ret = ret.dtype.type(ret / rcount)\n"
     ]
    },
    {
     "name": "stdout",
     "output_type": "stream",
     "text": [
      "    2/191...\n",
      "    3/191...\n"
     ]
    },
    {
     "name": "stderr",
     "output_type": "stream",
     "text": [
      "/home/jk21/.local/lib/python3.8/site-packages/numpy/core/fromnumeric.py:3474: RuntimeWarning: Mean of empty slice.\n",
      "  return _methods._mean(a, axis=axis, dtype=dtype,\n",
      "/home/jk21/.local/lib/python3.8/site-packages/numpy/core/_methods.py:189: RuntimeWarning: invalid value encountered in double_scalars\n",
      "  ret = ret.dtype.type(ret / rcount)\n"
     ]
    },
    {
     "name": "stdout",
     "output_type": "stream",
     "text": [
      "WARNING:tensorflow:5 out of the last 5 calls to <function Model.make_predict_function.<locals>.predict_function at 0x7fa208232f70> triggered tf.function retracing. Tracing is expensive and the excessive number of tracings could be due to (1) creating @tf.function repeatedly in a loop, (2) passing tensors with different shapes, (3) passing Python objects instead of tensors. For (1), please define your @tf.function outside of the loop. For (2), @tf.function has experimental_relax_shapes=True option that relaxes argument shapes that can avoid unnecessary retracing. For (3), please refer to https://www.tensorflow.org/guide/function#controlling_retracing and https://www.tensorflow.org/api_docs/python/tf/function for  more details.\n",
      "WARNING:tensorflow:6 out of the last 6 calls to <function Model.make_predict_function.<locals>.predict_function at 0x7fa208232310> triggered tf.function retracing. Tracing is expensive and the excessive number of tracings could be due to (1) creating @tf.function repeatedly in a loop, (2) passing tensors with different shapes, (3) passing Python objects instead of tensors. For (1), please define your @tf.function outside of the loop. For (2), @tf.function has experimental_relax_shapes=True option that relaxes argument shapes that can avoid unnecessary retracing. For (3), please refer to https://www.tensorflow.org/guide/function#controlling_retracing and https://www.tensorflow.org/api_docs/python/tf/function for  more details.\n",
      "    4/191...\n",
      "    5/191...\n"
     ]
    },
    {
     "name": "stderr",
     "output_type": "stream",
     "text": [
      "/home/jk21/.local/lib/python3.8/site-packages/numpy/core/fromnumeric.py:3474: RuntimeWarning: Mean of empty slice.\n",
      "  return _methods._mean(a, axis=axis, dtype=dtype,\n",
      "/home/jk21/.local/lib/python3.8/site-packages/numpy/core/_methods.py:189: RuntimeWarning: invalid value encountered in double_scalars\n",
      "  ret = ret.dtype.type(ret / rcount)\n"
     ]
    },
    {
     "name": "stdout",
     "output_type": "stream",
     "text": [
      "    6/191...\n",
      "    7/191...\n",
      "    8/191...\n",
      "    9/191...\n",
      "    10/191...\n"
     ]
    },
    {
     "name": "stderr",
     "output_type": "stream",
     "text": [
      "/home/jk21/.local/lib/python3.8/site-packages/numpy/core/fromnumeric.py:3474: RuntimeWarning: Mean of empty slice.\n",
      "  return _methods._mean(a, axis=axis, dtype=dtype,\n",
      "/home/jk21/.local/lib/python3.8/site-packages/numpy/core/_methods.py:189: RuntimeWarning: invalid value encountered in double_scalars\n",
      "  ret = ret.dtype.type(ret / rcount)\n"
     ]
    },
    {
     "name": "stdout",
     "output_type": "stream",
     "text": [
      "    11/191...\n",
      "    12/191...\n",
      "    13/191...\n",
      "    14/191...\n",
      "    15/191...\n",
      "    16/191...\n",
      "    17/191...\n"
     ]
    },
    {
     "name": "stderr",
     "output_type": "stream",
     "text": [
      "/home/jk21/.local/lib/python3.8/site-packages/numpy/core/fromnumeric.py:3474: RuntimeWarning: Mean of empty slice.\n",
      "  return _methods._mean(a, axis=axis, dtype=dtype,\n",
      "/home/jk21/.local/lib/python3.8/site-packages/numpy/core/_methods.py:189: RuntimeWarning: invalid value encountered in double_scalars\n",
      "  ret = ret.dtype.type(ret / rcount)\n"
     ]
    },
    {
     "name": "stdout",
     "output_type": "stream",
     "text": [
      "    18/191...\n"
     ]
    },
    {
     "name": "stderr",
     "output_type": "stream",
     "text": [
      "/home/jk21/.local/lib/python3.8/site-packages/numpy/core/fromnumeric.py:3474: RuntimeWarning: Mean of empty slice.\n",
      "  return _methods._mean(a, axis=axis, dtype=dtype,\n",
      "/home/jk21/.local/lib/python3.8/site-packages/numpy/core/_methods.py:189: RuntimeWarning: invalid value encountered in double_scalars\n",
      "  ret = ret.dtype.type(ret / rcount)\n"
     ]
    },
    {
     "name": "stdout",
     "output_type": "stream",
     "text": [
      "    19/191...\n",
      "    20/191...\n",
      "    21/191...\n",
      "    22/191...\n",
      "    23/191...\n",
      "    24/191...\n",
      "    25/191...\n"
     ]
    },
    {
     "name": "stderr",
     "output_type": "stream",
     "text": [
      "/home/jk21/.local/lib/python3.8/site-packages/numpy/core/fromnumeric.py:3474: RuntimeWarning: Mean of empty slice.\n",
      "  return _methods._mean(a, axis=axis, dtype=dtype,\n",
      "/home/jk21/.local/lib/python3.8/site-packages/numpy/core/_methods.py:189: RuntimeWarning: invalid value encountered in double_scalars\n",
      "  ret = ret.dtype.type(ret / rcount)\n"
     ]
    },
    {
     "name": "stdout",
     "output_type": "stream",
     "text": [
      "    26/191...\n",
      "    27/191...\n",
      "    28/191...\n"
     ]
    },
    {
     "name": "stderr",
     "output_type": "stream",
     "text": [
      "/home/jk21/.local/lib/python3.8/site-packages/numpy/core/fromnumeric.py:3474: RuntimeWarning: Mean of empty slice.\n",
      "  return _methods._mean(a, axis=axis, dtype=dtype,\n",
      "/home/jk21/.local/lib/python3.8/site-packages/numpy/core/_methods.py:189: RuntimeWarning: invalid value encountered in double_scalars\n",
      "  ret = ret.dtype.type(ret / rcount)\n"
     ]
    },
    {
     "name": "stdout",
     "output_type": "stream",
     "text": [
      "    29/191...\n"
     ]
    },
    {
     "name": "stderr",
     "output_type": "stream",
     "text": [
      "/home/jk21/.local/lib/python3.8/site-packages/numpy/core/fromnumeric.py:3474: RuntimeWarning: Mean of empty slice.\n",
      "  return _methods._mean(a, axis=axis, dtype=dtype,\n",
      "/home/jk21/.local/lib/python3.8/site-packages/numpy/core/_methods.py:189: RuntimeWarning: invalid value encountered in double_scalars\n",
      "  ret = ret.dtype.type(ret / rcount)\n"
     ]
    },
    {
     "name": "stdout",
     "output_type": "stream",
     "text": [
      "    30/191...\n",
      "    31/191...\n",
      "    32/191...\n"
     ]
    },
    {
     "name": "stderr",
     "output_type": "stream",
     "text": [
      "/home/jk21/.local/lib/python3.8/site-packages/numpy/core/fromnumeric.py:3474: RuntimeWarning: Mean of empty slice.\n",
      "  return _methods._mean(a, axis=axis, dtype=dtype,\n",
      "/home/jk21/.local/lib/python3.8/site-packages/numpy/core/_methods.py:189: RuntimeWarning: invalid value encountered in double_scalars\n",
      "  ret = ret.dtype.type(ret / rcount)\n",
      "/home/jk21/.local/lib/python3.8/site-packages/numpy/core/fromnumeric.py:3474: RuntimeWarning: Mean of empty slice.\n",
      "  return _methods._mean(a, axis=axis, dtype=dtype,\n",
      "/home/jk21/.local/lib/python3.8/site-packages/numpy/core/_methods.py:189: RuntimeWarning: invalid value encountered in double_scalars\n",
      "  ret = ret.dtype.type(ret / rcount)\n"
     ]
    },
    {
     "name": "stdout",
     "output_type": "stream",
     "text": [
      "    33/191...\n",
      "    34/191...\n"
     ]
    },
    {
     "name": "stderr",
     "output_type": "stream",
     "text": [
      "/home/jk21/.local/lib/python3.8/site-packages/numpy/core/fromnumeric.py:3474: RuntimeWarning: Mean of empty slice.\n",
      "  return _methods._mean(a, axis=axis, dtype=dtype,\n",
      "/home/jk21/.local/lib/python3.8/site-packages/numpy/core/_methods.py:189: RuntimeWarning: invalid value encountered in double_scalars\n",
      "  ret = ret.dtype.type(ret / rcount)\n"
     ]
    },
    {
     "name": "stdout",
     "output_type": "stream",
     "text": [
      "    35/191...\n"
     ]
    },
    {
     "name": "stderr",
     "output_type": "stream",
     "text": [
      "/home/jk21/.local/lib/python3.8/site-packages/numpy/core/fromnumeric.py:3474: RuntimeWarning: Mean of empty slice.\n",
      "  return _methods._mean(a, axis=axis, dtype=dtype,\n",
      "/home/jk21/.local/lib/python3.8/site-packages/numpy/core/_methods.py:189: RuntimeWarning: invalid value encountered in double_scalars\n",
      "  ret = ret.dtype.type(ret / rcount)\n"
     ]
    },
    {
     "name": "stdout",
     "output_type": "stream",
     "text": [
      "    36/191...\n"
     ]
    },
    {
     "name": "stderr",
     "output_type": "stream",
     "text": [
      "/home/jk21/.local/lib/python3.8/site-packages/numpy/core/fromnumeric.py:3474: RuntimeWarning: Mean of empty slice.\n",
      "  return _methods._mean(a, axis=axis, dtype=dtype,\n",
      "/home/jk21/.local/lib/python3.8/site-packages/numpy/core/_methods.py:189: RuntimeWarning: invalid value encountered in double_scalars\n",
      "  ret = ret.dtype.type(ret / rcount)\n",
      "/home/jk21/.local/lib/python3.8/site-packages/numpy/core/fromnumeric.py:3474: RuntimeWarning: Mean of empty slice.\n",
      "  return _methods._mean(a, axis=axis, dtype=dtype,\n",
      "/home/jk21/.local/lib/python3.8/site-packages/numpy/core/_methods.py:189: RuntimeWarning: invalid value encountered in double_scalars\n",
      "  ret = ret.dtype.type(ret / rcount)\n"
     ]
    },
    {
     "name": "stdout",
     "output_type": "stream",
     "text": [
      "    37/191...\n"
     ]
    },
    {
     "name": "stderr",
     "output_type": "stream",
     "text": [
      "/home/jk21/.local/lib/python3.8/site-packages/numpy/core/fromnumeric.py:3474: RuntimeWarning: Mean of empty slice.\n",
      "  return _methods._mean(a, axis=axis, dtype=dtype,\n",
      "/home/jk21/.local/lib/python3.8/site-packages/numpy/core/_methods.py:189: RuntimeWarning: invalid value encountered in double_scalars\n",
      "  ret = ret.dtype.type(ret / rcount)\n"
     ]
    },
    {
     "name": "stdout",
     "output_type": "stream",
     "text": [
      "    38/191...\n"
     ]
    },
    {
     "name": "stderr",
     "output_type": "stream",
     "text": [
      "/home/jk21/.local/lib/python3.8/site-packages/numpy/core/fromnumeric.py:3474: RuntimeWarning: Mean of empty slice.\n",
      "  return _methods._mean(a, axis=axis, dtype=dtype,\n",
      "/home/jk21/.local/lib/python3.8/site-packages/numpy/core/_methods.py:189: RuntimeWarning: invalid value encountered in double_scalars\n",
      "  ret = ret.dtype.type(ret / rcount)\n",
      "/home/jk21/.local/lib/python3.8/site-packages/numpy/core/fromnumeric.py:3474: RuntimeWarning: Mean of empty slice.\n",
      "  return _methods._mean(a, axis=axis, dtype=dtype,\n",
      "/home/jk21/.local/lib/python3.8/site-packages/numpy/core/_methods.py:189: RuntimeWarning: invalid value encountered in double_scalars\n",
      "  ret = ret.dtype.type(ret / rcount)\n",
      "/home/jk21/.local/lib/python3.8/site-packages/numpy/core/fromnumeric.py:3474: RuntimeWarning: Mean of empty slice.\n",
      "  return _methods._mean(a, axis=axis, dtype=dtype,\n",
      "/home/jk21/.local/lib/python3.8/site-packages/numpy/core/_methods.py:189: RuntimeWarning: invalid value encountered in double_scalars\n",
      "  ret = ret.dtype.type(ret / rcount)\n"
     ]
    },
    {
     "name": "stdout",
     "output_type": "stream",
     "text": [
      "    39/191...\n",
      "    40/191...\n",
      "    41/191...\n",
      "    42/191...\n",
      "    43/191...\n",
      "    44/191...\n"
     ]
    },
    {
     "name": "stderr",
     "output_type": "stream",
     "text": [
      "/home/jk21/.local/lib/python3.8/site-packages/numpy/core/fromnumeric.py:3474: RuntimeWarning: Mean of empty slice.\n",
      "  return _methods._mean(a, axis=axis, dtype=dtype,\n",
      "/home/jk21/.local/lib/python3.8/site-packages/numpy/core/_methods.py:189: RuntimeWarning: invalid value encountered in double_scalars\n",
      "  ret = ret.dtype.type(ret / rcount)\n"
     ]
    },
    {
     "name": "stdout",
     "output_type": "stream",
     "text": [
      "    45/191...\n"
     ]
    },
    {
     "name": "stderr",
     "output_type": "stream",
     "text": [
      "/home/jk21/.local/lib/python3.8/site-packages/numpy/core/fromnumeric.py:3474: RuntimeWarning: Mean of empty slice.\n",
      "  return _methods._mean(a, axis=axis, dtype=dtype,\n",
      "/home/jk21/.local/lib/python3.8/site-packages/numpy/core/_methods.py:189: RuntimeWarning: invalid value encountered in double_scalars\n",
      "  ret = ret.dtype.type(ret / rcount)\n"
     ]
    },
    {
     "name": "stdout",
     "output_type": "stream",
     "text": [
      "    46/191...\n",
      "    47/191...\n"
     ]
    },
    {
     "name": "stderr",
     "output_type": "stream",
     "text": [
      "/home/jk21/.local/lib/python3.8/site-packages/numpy/core/fromnumeric.py:3474: RuntimeWarning: Mean of empty slice.\n",
      "  return _methods._mean(a, axis=axis, dtype=dtype,\n",
      "/home/jk21/.local/lib/python3.8/site-packages/numpy/core/_methods.py:189: RuntimeWarning: invalid value encountered in double_scalars\n",
      "  ret = ret.dtype.type(ret / rcount)\n"
     ]
    },
    {
     "name": "stdout",
     "output_type": "stream",
     "text": [
      "    48/191...\n"
     ]
    },
    {
     "name": "stderr",
     "output_type": "stream",
     "text": [
      "/home/jk21/.local/lib/python3.8/site-packages/numpy/core/fromnumeric.py:3474: RuntimeWarning: Mean of empty slice.\n",
      "  return _methods._mean(a, axis=axis, dtype=dtype,\n",
      "/home/jk21/.local/lib/python3.8/site-packages/numpy/core/_methods.py:189: RuntimeWarning: invalid value encountered in double_scalars\n",
      "  ret = ret.dtype.type(ret / rcount)\n"
     ]
    },
    {
     "name": "stdout",
     "output_type": "stream",
     "text": [
      "    49/191...\n",
      "    50/191...\n",
      "    51/191...\n",
      "    52/191...\n"
     ]
    },
    {
     "name": "stderr",
     "output_type": "stream",
     "text": [
      "/home/jk21/.local/lib/python3.8/site-packages/numpy/core/fromnumeric.py:3474: RuntimeWarning: Mean of empty slice.\n",
      "  return _methods._mean(a, axis=axis, dtype=dtype,\n",
      "/home/jk21/.local/lib/python3.8/site-packages/numpy/core/_methods.py:189: RuntimeWarning: invalid value encountered in double_scalars\n",
      "  ret = ret.dtype.type(ret / rcount)\n"
     ]
    },
    {
     "name": "stdout",
     "output_type": "stream",
     "text": [
      "    53/191...\n",
      "    54/191...\n"
     ]
    },
    {
     "name": "stderr",
     "output_type": "stream",
     "text": [
      "/home/jk21/.local/lib/python3.8/site-packages/numpy/core/fromnumeric.py:3474: RuntimeWarning: Mean of empty slice.\n",
      "  return _methods._mean(a, axis=axis, dtype=dtype,\n",
      "/home/jk21/.local/lib/python3.8/site-packages/numpy/core/_methods.py:189: RuntimeWarning: invalid value encountered in double_scalars\n",
      "  ret = ret.dtype.type(ret / rcount)\n"
     ]
    },
    {
     "name": "stdout",
     "output_type": "stream",
     "text": [
      "    55/191...\n",
      "    56/191...\n",
      "    57/191...\n",
      "    58/191...\n",
      "    59/191...\n"
     ]
    },
    {
     "name": "stderr",
     "output_type": "stream",
     "text": [
      "/home/jk21/.local/lib/python3.8/site-packages/numpy/core/fromnumeric.py:3474: RuntimeWarning: Mean of empty slice.\n",
      "  return _methods._mean(a, axis=axis, dtype=dtype,\n",
      "/home/jk21/.local/lib/python3.8/site-packages/numpy/core/_methods.py:189: RuntimeWarning: invalid value encountered in double_scalars\n",
      "  ret = ret.dtype.type(ret / rcount)\n"
     ]
    },
    {
     "name": "stdout",
     "output_type": "stream",
     "text": [
      "    60/191...\n",
      "    61/191...\n",
      "    62/191...\n"
     ]
    },
    {
     "name": "stderr",
     "output_type": "stream",
     "text": [
      "/home/jk21/.local/lib/python3.8/site-packages/numpy/core/fromnumeric.py:3474: RuntimeWarning: Mean of empty slice.\n",
      "  return _methods._mean(a, axis=axis, dtype=dtype,\n",
      "/home/jk21/.local/lib/python3.8/site-packages/numpy/core/_methods.py:189: RuntimeWarning: invalid value encountered in double_scalars\n",
      "  ret = ret.dtype.type(ret / rcount)\n",
      "/home/jk21/.local/lib/python3.8/site-packages/numpy/core/fromnumeric.py:3474: RuntimeWarning: Mean of empty slice.\n",
      "  return _methods._mean(a, axis=axis, dtype=dtype,\n",
      "/home/jk21/.local/lib/python3.8/site-packages/numpy/core/_methods.py:189: RuntimeWarning: invalid value encountered in double_scalars\n",
      "  ret = ret.dtype.type(ret / rcount)\n",
      "/home/jk21/.local/lib/python3.8/site-packages/numpy/core/fromnumeric.py:3474: RuntimeWarning: Mean of empty slice.\n",
      "  return _methods._mean(a, axis=axis, dtype=dtype,\n",
      "/home/jk21/.local/lib/python3.8/site-packages/numpy/core/_methods.py:189: RuntimeWarning: invalid value encountered in double_scalars\n",
      "  ret = ret.dtype.type(ret / rcount)\n"
     ]
    },
    {
     "name": "stdout",
     "output_type": "stream",
     "text": [
      "    63/191...\n"
     ]
    },
    {
     "name": "stderr",
     "output_type": "stream",
     "text": [
      "/home/jk21/.local/lib/python3.8/site-packages/numpy/core/fromnumeric.py:3474: RuntimeWarning: Mean of empty slice.\n",
      "  return _methods._mean(a, axis=axis, dtype=dtype,\n",
      "/home/jk21/.local/lib/python3.8/site-packages/numpy/core/_methods.py:189: RuntimeWarning: invalid value encountered in double_scalars\n",
      "  ret = ret.dtype.type(ret / rcount)\n"
     ]
    },
    {
     "name": "stdout",
     "output_type": "stream",
     "text": [
      "    64/191...\n",
      "    65/191...\n",
      "    66/191...\n"
     ]
    },
    {
     "name": "stderr",
     "output_type": "stream",
     "text": [
      "/home/jk21/.local/lib/python3.8/site-packages/numpy/core/fromnumeric.py:3474: RuntimeWarning: Mean of empty slice.\n",
      "  return _methods._mean(a, axis=axis, dtype=dtype,\n",
      "/home/jk21/.local/lib/python3.8/site-packages/numpy/core/_methods.py:189: RuntimeWarning: invalid value encountered in double_scalars\n",
      "  ret = ret.dtype.type(ret / rcount)\n"
     ]
    },
    {
     "name": "stdout",
     "output_type": "stream",
     "text": [
      "    67/191...\n",
      "    68/191...\n",
      "    69/191...\n",
      "    70/191...\n",
      "    71/191...\n",
      "    72/191...\n"
     ]
    },
    {
     "name": "stderr",
     "output_type": "stream",
     "text": [
      "/home/jk21/.local/lib/python3.8/site-packages/numpy/core/fromnumeric.py:3474: RuntimeWarning: Mean of empty slice.\n",
      "  return _methods._mean(a, axis=axis, dtype=dtype,\n",
      "/home/jk21/.local/lib/python3.8/site-packages/numpy/core/_methods.py:189: RuntimeWarning: invalid value encountered in double_scalars\n",
      "  ret = ret.dtype.type(ret / rcount)\n"
     ]
    },
    {
     "name": "stdout",
     "output_type": "stream",
     "text": [
      "    73/191...\n",
      "    74/191...\n"
     ]
    },
    {
     "name": "stderr",
     "output_type": "stream",
     "text": [
      "/home/jk21/.local/lib/python3.8/site-packages/numpy/core/fromnumeric.py:3474: RuntimeWarning: Mean of empty slice.\n",
      "  return _methods._mean(a, axis=axis, dtype=dtype,\n",
      "/home/jk21/.local/lib/python3.8/site-packages/numpy/core/_methods.py:189: RuntimeWarning: invalid value encountered in double_scalars\n",
      "  ret = ret.dtype.type(ret / rcount)\n"
     ]
    },
    {
     "name": "stdout",
     "output_type": "stream",
     "text": [
      "    75/191...\n",
      "    76/191...\n",
      "    77/191...\n"
     ]
    },
    {
     "name": "stderr",
     "output_type": "stream",
     "text": [
      "/home/jk21/.local/lib/python3.8/site-packages/numpy/core/fromnumeric.py:3474: RuntimeWarning: Mean of empty slice.\n",
      "  return _methods._mean(a, axis=axis, dtype=dtype,\n",
      "/home/jk21/.local/lib/python3.8/site-packages/numpy/core/_methods.py:189: RuntimeWarning: invalid value encountered in double_scalars\n",
      "  ret = ret.dtype.type(ret / rcount)\n"
     ]
    },
    {
     "name": "stdout",
     "output_type": "stream",
     "text": [
      "    78/191...\n"
     ]
    },
    {
     "name": "stderr",
     "output_type": "stream",
     "text": [
      "/home/jk21/.local/lib/python3.8/site-packages/numpy/core/fromnumeric.py:3474: RuntimeWarning: Mean of empty slice.\n",
      "  return _methods._mean(a, axis=axis, dtype=dtype,\n",
      "/home/jk21/.local/lib/python3.8/site-packages/numpy/core/_methods.py:189: RuntimeWarning: invalid value encountered in double_scalars\n",
      "  ret = ret.dtype.type(ret / rcount)\n"
     ]
    },
    {
     "name": "stdout",
     "output_type": "stream",
     "text": [
      "    79/191...\n",
      "    80/191...\n",
      "    81/191...\n",
      "    82/191...\n",
      "    83/191...\n",
      "    84/191...\n",
      "    85/191...\n",
      "    86/191...\n",
      "    87/191...\n"
     ]
    },
    {
     "name": "stderr",
     "output_type": "stream",
     "text": [
      "/home/jk21/.local/lib/python3.8/site-packages/numpy/core/fromnumeric.py:3474: RuntimeWarning: Mean of empty slice.\n",
      "  return _methods._mean(a, axis=axis, dtype=dtype,\n",
      "/home/jk21/.local/lib/python3.8/site-packages/numpy/core/_methods.py:189: RuntimeWarning: invalid value encountered in double_scalars\n",
      "  ret = ret.dtype.type(ret / rcount)\n"
     ]
    },
    {
     "name": "stdout",
     "output_type": "stream",
     "text": [
      "    88/191...\n",
      "    89/191...\n",
      "    90/191...\n",
      "    91/191...\n",
      "    92/191...\n",
      "    93/191...\n"
     ]
    },
    {
     "name": "stderr",
     "output_type": "stream",
     "text": [
      "/home/jk21/.local/lib/python3.8/site-packages/numpy/core/fromnumeric.py:3474: RuntimeWarning: Mean of empty slice.\n",
      "  return _methods._mean(a, axis=axis, dtype=dtype,\n",
      "/home/jk21/.local/lib/python3.8/site-packages/numpy/core/_methods.py:189: RuntimeWarning: invalid value encountered in double_scalars\n",
      "  ret = ret.dtype.type(ret / rcount)\n",
      "/home/jk21/.local/lib/python3.8/site-packages/numpy/core/fromnumeric.py:3474: RuntimeWarning: Mean of empty slice.\n",
      "  return _methods._mean(a, axis=axis, dtype=dtype,\n",
      "/home/jk21/.local/lib/python3.8/site-packages/numpy/core/_methods.py:189: RuntimeWarning: invalid value encountered in double_scalars\n",
      "  ret = ret.dtype.type(ret / rcount)\n"
     ]
    },
    {
     "name": "stdout",
     "output_type": "stream",
     "text": [
      "    94/191...\n"
     ]
    },
    {
     "name": "stderr",
     "output_type": "stream",
     "text": [
      "/home/jk21/.local/lib/python3.8/site-packages/numpy/core/fromnumeric.py:3474: RuntimeWarning: Mean of empty slice.\n",
      "  return _methods._mean(a, axis=axis, dtype=dtype,\n",
      "/home/jk21/.local/lib/python3.8/site-packages/numpy/core/_methods.py:189: RuntimeWarning: invalid value encountered in double_scalars\n",
      "  ret = ret.dtype.type(ret / rcount)\n"
     ]
    },
    {
     "name": "stdout",
     "output_type": "stream",
     "text": [
      "    95/191...\n",
      "    96/191...\n"
     ]
    },
    {
     "name": "stderr",
     "output_type": "stream",
     "text": [
      "/home/jk21/.local/lib/python3.8/site-packages/numpy/core/fromnumeric.py:3474: RuntimeWarning: Mean of empty slice.\n",
      "  return _methods._mean(a, axis=axis, dtype=dtype,\n",
      "/home/jk21/.local/lib/python3.8/site-packages/numpy/core/_methods.py:189: RuntimeWarning: invalid value encountered in double_scalars\n",
      "  ret = ret.dtype.type(ret / rcount)\n",
      "/tmp/ipykernel_1011557/4145278783.py:44: VisibleDeprecationWarning: Creating an ndarray from ragged nested sequences (which is a list-or-tuple of lists-or-tuples-or ndarrays with different lengths or shapes) is deprecated. If you meant to do this, you must specify 'dtype=object' when creating the ndarray.\n",
      "  features['rr1'] = np.array(features['rr1'])\n"
     ]
    },
    {
     "name": "stdout",
     "output_type": "stream",
     "text": [
      "... failed.\n",
      "    97/191...\n",
      "    98/191...\n",
      "    99/191...\n",
      "    100/191...\n",
      "    101/191...\n",
      "    102/191...\n",
      "    103/191...\n",
      "    104/191...\n"
     ]
    },
    {
     "name": "stderr",
     "output_type": "stream",
     "text": [
      "/home/jk21/.local/lib/python3.8/site-packages/numpy/core/fromnumeric.py:3474: RuntimeWarning: Mean of empty slice.\n",
      "  return _methods._mean(a, axis=axis, dtype=dtype,\n",
      "/home/jk21/.local/lib/python3.8/site-packages/numpy/core/_methods.py:189: RuntimeWarning: invalid value encountered in double_scalars\n",
      "  ret = ret.dtype.type(ret / rcount)\n"
     ]
    },
    {
     "name": "stdout",
     "output_type": "stream",
     "text": [
      "    105/191...\n"
     ]
    },
    {
     "name": "stderr",
     "output_type": "stream",
     "text": [
      "/home/jk21/.local/lib/python3.8/site-packages/numpy/core/fromnumeric.py:3474: RuntimeWarning: Mean of empty slice.\n",
      "  return _methods._mean(a, axis=axis, dtype=dtype,\n",
      "/home/jk21/.local/lib/python3.8/site-packages/numpy/core/_methods.py:189: RuntimeWarning: invalid value encountered in double_scalars\n",
      "  ret = ret.dtype.type(ret / rcount)\n"
     ]
    },
    {
     "name": "stdout",
     "output_type": "stream",
     "text": [
      "    106/191...\n",
      "    107/191...\n",
      "    108/191...\n"
     ]
    },
    {
     "name": "stderr",
     "output_type": "stream",
     "text": [
      "/home/jk21/.local/lib/python3.8/site-packages/numpy/core/fromnumeric.py:3474: RuntimeWarning: Mean of empty slice.\n",
      "  return _methods._mean(a, axis=axis, dtype=dtype,\n",
      "/home/jk21/.local/lib/python3.8/site-packages/numpy/core/_methods.py:189: RuntimeWarning: invalid value encountered in double_scalars\n",
      "  ret = ret.dtype.type(ret / rcount)\n"
     ]
    },
    {
     "name": "stdout",
     "output_type": "stream",
     "text": [
      "    109/191...\n",
      "    110/191...\n",
      "    111/191...\n",
      "    112/191...\n",
      "    113/191...\n",
      "    114/191...\n",
      "    115/191...\n",
      "    116/191...\n",
      "    117/191...\n",
      "    118/191...\n",
      "    119/191...\n",
      "    120/191...\n",
      "    121/191...\n"
     ]
    },
    {
     "name": "stderr",
     "output_type": "stream",
     "text": [
      "/home/jk21/.local/lib/python3.8/site-packages/numpy/core/fromnumeric.py:3474: RuntimeWarning: Mean of empty slice.\n",
      "  return _methods._mean(a, axis=axis, dtype=dtype,\n",
      "/home/jk21/.local/lib/python3.8/site-packages/numpy/core/_methods.py:189: RuntimeWarning: invalid value encountered in double_scalars\n",
      "  ret = ret.dtype.type(ret / rcount)\n"
     ]
    },
    {
     "name": "stdout",
     "output_type": "stream",
     "text": [
      "    122/191...\n"
     ]
    },
    {
     "name": "stderr",
     "output_type": "stream",
     "text": [
      "/home/jk21/.local/lib/python3.8/site-packages/numpy/core/fromnumeric.py:3474: RuntimeWarning: Mean of empty slice.\n",
      "  return _methods._mean(a, axis=axis, dtype=dtype,\n",
      "/home/jk21/.local/lib/python3.8/site-packages/numpy/core/_methods.py:189: RuntimeWarning: invalid value encountered in double_scalars\n",
      "  ret = ret.dtype.type(ret / rcount)\n"
     ]
    },
    {
     "name": "stdout",
     "output_type": "stream",
     "text": [
      "    123/191...\n"
     ]
    },
    {
     "name": "stderr",
     "output_type": "stream",
     "text": [
      "/home/jk21/.local/lib/python3.8/site-packages/numpy/core/fromnumeric.py:3474: RuntimeWarning: Mean of empty slice.\n",
      "  return _methods._mean(a, axis=axis, dtype=dtype,\n",
      "/home/jk21/.local/lib/python3.8/site-packages/numpy/core/_methods.py:189: RuntimeWarning: invalid value encountered in double_scalars\n",
      "  ret = ret.dtype.type(ret / rcount)\n"
     ]
    },
    {
     "name": "stdout",
     "output_type": "stream",
     "text": [
      "    124/191...\n",
      "    125/191...\n"
     ]
    },
    {
     "name": "stderr",
     "output_type": "stream",
     "text": [
      "/home/jk21/.local/lib/python3.8/site-packages/numpy/core/fromnumeric.py:3474: RuntimeWarning: Mean of empty slice.\n",
      "  return _methods._mean(a, axis=axis, dtype=dtype,\n",
      "/home/jk21/.local/lib/python3.8/site-packages/numpy/core/_methods.py:189: RuntimeWarning: invalid value encountered in double_scalars\n",
      "  ret = ret.dtype.type(ret / rcount)\n"
     ]
    },
    {
     "name": "stdout",
     "output_type": "stream",
     "text": [
      "    126/191...\n",
      "    127/191...\n",
      "    128/191...\n"
     ]
    },
    {
     "name": "stderr",
     "output_type": "stream",
     "text": [
      "/home/jk21/.local/lib/python3.8/site-packages/numpy/core/fromnumeric.py:3474: RuntimeWarning: Mean of empty slice.\n",
      "  return _methods._mean(a, axis=axis, dtype=dtype,\n",
      "/home/jk21/.local/lib/python3.8/site-packages/numpy/core/_methods.py:189: RuntimeWarning: invalid value encountered in double_scalars\n",
      "  ret = ret.dtype.type(ret / rcount)\n"
     ]
    },
    {
     "name": "stdout",
     "output_type": "stream",
     "text": [
      "    129/191...\n",
      "    130/191...\n"
     ]
    },
    {
     "name": "stderr",
     "output_type": "stream",
     "text": [
      "/home/jk21/.local/lib/python3.8/site-packages/numpy/core/fromnumeric.py:3474: RuntimeWarning: Mean of empty slice.\n",
      "  return _methods._mean(a, axis=axis, dtype=dtype,\n",
      "/home/jk21/.local/lib/python3.8/site-packages/numpy/core/_methods.py:189: RuntimeWarning: invalid value encountered in double_scalars\n",
      "  ret = ret.dtype.type(ret / rcount)\n",
      "/home/jk21/.local/lib/python3.8/site-packages/numpy/core/fromnumeric.py:3474: RuntimeWarning: Mean of empty slice.\n",
      "  return _methods._mean(a, axis=axis, dtype=dtype,\n",
      "/home/jk21/.local/lib/python3.8/site-packages/numpy/core/_methods.py:189: RuntimeWarning: invalid value encountered in double_scalars\n",
      "  ret = ret.dtype.type(ret / rcount)\n"
     ]
    },
    {
     "name": "stdout",
     "output_type": "stream",
     "text": [
      "    131/191...\n",
      "    132/191...\n",
      "    133/191...\n",
      "    134/191...\n",
      "    135/191...\n",
      "    136/191...\n",
      "    137/191...\n",
      "    138/191...\n",
      "    139/191...\n",
      "    140/191...\n"
     ]
    },
    {
     "name": "stderr",
     "output_type": "stream",
     "text": [
      "/home/jk21/.local/lib/python3.8/site-packages/numpy/core/fromnumeric.py:3474: RuntimeWarning: Mean of empty slice.\n",
      "  return _methods._mean(a, axis=axis, dtype=dtype,\n",
      "/home/jk21/.local/lib/python3.8/site-packages/numpy/core/_methods.py:189: RuntimeWarning: invalid value encountered in double_scalars\n",
      "  ret = ret.dtype.type(ret / rcount)\n"
     ]
    },
    {
     "name": "stdout",
     "output_type": "stream",
     "text": [
      "    141/191...\n",
      "    142/191...\n",
      "    143/191...\n",
      "    144/191...\n",
      "    145/191...\n"
     ]
    },
    {
     "name": "stderr",
     "output_type": "stream",
     "text": [
      "/home/jk21/.local/lib/python3.8/site-packages/numpy/core/fromnumeric.py:3474: RuntimeWarning: Mean of empty slice.\n",
      "  return _methods._mean(a, axis=axis, dtype=dtype,\n",
      "/home/jk21/.local/lib/python3.8/site-packages/numpy/core/_methods.py:189: RuntimeWarning: invalid value encountered in double_scalars\n",
      "  ret = ret.dtype.type(ret / rcount)\n"
     ]
    },
    {
     "name": "stdout",
     "output_type": "stream",
     "text": [
      "    146/191...\n",
      "    147/191...\n",
      "    148/191...\n",
      "    149/191...\n"
     ]
    },
    {
     "name": "stderr",
     "output_type": "stream",
     "text": [
      "/home/jk21/.local/lib/python3.8/site-packages/numpy/core/fromnumeric.py:3474: RuntimeWarning: Mean of empty slice.\n",
      "  return _methods._mean(a, axis=axis, dtype=dtype,\n",
      "/home/jk21/.local/lib/python3.8/site-packages/numpy/core/_methods.py:189: RuntimeWarning: invalid value encountered in double_scalars\n",
      "  ret = ret.dtype.type(ret / rcount)\n",
      "/home/jk21/.local/lib/python3.8/site-packages/numpy/core/fromnumeric.py:3474: RuntimeWarning: Mean of empty slice.\n",
      "  return _methods._mean(a, axis=axis, dtype=dtype,\n",
      "/home/jk21/.local/lib/python3.8/site-packages/numpy/core/_methods.py:189: RuntimeWarning: invalid value encountered in double_scalars\n",
      "  ret = ret.dtype.type(ret / rcount)\n"
     ]
    },
    {
     "name": "stdout",
     "output_type": "stream",
     "text": [
      "    150/191...\n",
      "    151/191...\n",
      "    152/191...\n"
     ]
    },
    {
     "name": "stderr",
     "output_type": "stream",
     "text": [
      "/home/jk21/.local/lib/python3.8/site-packages/numpy/core/fromnumeric.py:3474: RuntimeWarning: Mean of empty slice.\n",
      "  return _methods._mean(a, axis=axis, dtype=dtype,\n",
      "/home/jk21/.local/lib/python3.8/site-packages/numpy/core/_methods.py:189: RuntimeWarning: invalid value encountered in double_scalars\n",
      "  ret = ret.dtype.type(ret / rcount)\n",
      "/home/jk21/.local/lib/python3.8/site-packages/numpy/core/fromnumeric.py:3474: RuntimeWarning: Mean of empty slice.\n",
      "  return _methods._mean(a, axis=axis, dtype=dtype,\n",
      "/home/jk21/.local/lib/python3.8/site-packages/numpy/core/_methods.py:189: RuntimeWarning: invalid value encountered in double_scalars\n",
      "  ret = ret.dtype.type(ret / rcount)\n"
     ]
    },
    {
     "name": "stdout",
     "output_type": "stream",
     "text": [
      "    153/191...\n",
      "    154/191...\n",
      "    155/191...\n",
      "    156/191...\n",
      "    157/191...\n",
      "    158/191...\n",
      "    159/191...\n",
      "    160/191...\n",
      "    161/191...\n"
     ]
    },
    {
     "name": "stderr",
     "output_type": "stream",
     "text": [
      "/home/jk21/.local/lib/python3.8/site-packages/numpy/core/fromnumeric.py:3474: RuntimeWarning: Mean of empty slice.\n",
      "  return _methods._mean(a, axis=axis, dtype=dtype,\n",
      "/home/jk21/.local/lib/python3.8/site-packages/numpy/core/_methods.py:189: RuntimeWarning: invalid value encountered in double_scalars\n",
      "  ret = ret.dtype.type(ret / rcount)\n"
     ]
    },
    {
     "name": "stdout",
     "output_type": "stream",
     "text": [
      "    162/191...\n",
      "    163/191...\n",
      "    164/191...\n",
      "    165/191...\n",
      "    166/191...\n",
      "    167/191...\n"
     ]
    },
    {
     "name": "stderr",
     "output_type": "stream",
     "text": [
      "/home/jk21/.local/lib/python3.8/site-packages/numpy/core/fromnumeric.py:3474: RuntimeWarning: Mean of empty slice.\n",
      "  return _methods._mean(a, axis=axis, dtype=dtype,\n",
      "/home/jk21/.local/lib/python3.8/site-packages/numpy/core/_methods.py:189: RuntimeWarning: invalid value encountered in double_scalars\n",
      "  ret = ret.dtype.type(ret / rcount)\n"
     ]
    },
    {
     "name": "stdout",
     "output_type": "stream",
     "text": [
      "    168/191...\n",
      "    169/191...\n",
      "    170/191...\n",
      "    171/191...\n",
      "    172/191...\n",
      "    173/191...\n",
      "    174/191...\n",
      "    175/191...\n"
     ]
    },
    {
     "name": "stderr",
     "output_type": "stream",
     "text": [
      "/home/jk21/.local/lib/python3.8/site-packages/numpy/core/fromnumeric.py:3474: RuntimeWarning: Mean of empty slice.\n",
      "  return _methods._mean(a, axis=axis, dtype=dtype,\n",
      "/home/jk21/.local/lib/python3.8/site-packages/numpy/core/_methods.py:189: RuntimeWarning: invalid value encountered in double_scalars\n",
      "  ret = ret.dtype.type(ret / rcount)\n"
     ]
    },
    {
     "name": "stdout",
     "output_type": "stream",
     "text": [
      "    176/191...\n",
      "    177/191...\n",
      "    178/191...\n"
     ]
    },
    {
     "name": "stderr",
     "output_type": "stream",
     "text": [
      "/home/jk21/.local/lib/python3.8/site-packages/numpy/core/fromnumeric.py:3474: RuntimeWarning: Mean of empty slice.\n",
      "  return _methods._mean(a, axis=axis, dtype=dtype,\n",
      "/home/jk21/.local/lib/python3.8/site-packages/numpy/core/_methods.py:189: RuntimeWarning: invalid value encountered in double_scalars\n",
      "  ret = ret.dtype.type(ret / rcount)\n"
     ]
    },
    {
     "name": "stdout",
     "output_type": "stream",
     "text": [
      "    179/191...\n",
      "    180/191...\n",
      "    181/191...\n",
      "    182/191...\n"
     ]
    },
    {
     "name": "stderr",
     "output_type": "stream",
     "text": [
      "/home/jk21/.local/lib/python3.8/site-packages/numpy/core/fromnumeric.py:3474: RuntimeWarning: Mean of empty slice.\n",
      "  return _methods._mean(a, axis=axis, dtype=dtype,\n",
      "/home/jk21/.local/lib/python3.8/site-packages/numpy/core/_methods.py:189: RuntimeWarning: invalid value encountered in double_scalars\n",
      "  ret = ret.dtype.type(ret / rcount)\n"
     ]
    },
    {
     "name": "stdout",
     "output_type": "stream",
     "text": [
      "    183/191...\n",
      "    184/191...\n"
     ]
    },
    {
     "name": "stderr",
     "output_type": "stream",
     "text": [
      "/home/jk21/.local/lib/python3.8/site-packages/numpy/core/fromnumeric.py:3474: RuntimeWarning: Mean of empty slice.\n",
      "  return _methods._mean(a, axis=axis, dtype=dtype,\n",
      "/home/jk21/.local/lib/python3.8/site-packages/numpy/core/_methods.py:189: RuntimeWarning: invalid value encountered in double_scalars\n",
      "  ret = ret.dtype.type(ret / rcount)\n"
     ]
    },
    {
     "name": "stdout",
     "output_type": "stream",
     "text": [
      "    185/191...\n",
      "    186/191...\n",
      "    187/191...\n"
     ]
    },
    {
     "name": "stderr",
     "output_type": "stream",
     "text": [
      "/home/jk21/.local/lib/python3.8/site-packages/numpy/core/fromnumeric.py:3474: RuntimeWarning: Mean of empty slice.\n",
      "  return _methods._mean(a, axis=axis, dtype=dtype,\n",
      "/home/jk21/.local/lib/python3.8/site-packages/numpy/core/_methods.py:189: RuntimeWarning: invalid value encountered in double_scalars\n",
      "  ret = ret.dtype.type(ret / rcount)\n"
     ]
    },
    {
     "name": "stdout",
     "output_type": "stream",
     "text": [
      "    188/191...\n"
     ]
    },
    {
     "name": "stderr",
     "output_type": "stream",
     "text": [
      "/home/jk21/.local/lib/python3.8/site-packages/numpy/core/fromnumeric.py:3474: RuntimeWarning: Mean of empty slice.\n",
      "  return _methods._mean(a, axis=axis, dtype=dtype,\n",
      "/home/jk21/.local/lib/python3.8/site-packages/numpy/core/_methods.py:189: RuntimeWarning: invalid value encountered in double_scalars\n",
      "  ret = ret.dtype.type(ret / rcount)\n"
     ]
    },
    {
     "name": "stdout",
     "output_type": "stream",
     "text": [
      "    189/191...\n",
      "    190/191...\n"
     ]
    },
    {
     "name": "stderr",
     "output_type": "stream",
     "text": [
      "/home/jk21/.local/lib/python3.8/site-packages/numpy/core/fromnumeric.py:3474: RuntimeWarning: Mean of empty slice.\n",
      "  return _methods._mean(a, axis=axis, dtype=dtype,\n",
      "/home/jk21/.local/lib/python3.8/site-packages/numpy/core/_methods.py:189: RuntimeWarning: invalid value encountered in double_scalars\n",
      "  ret = ret.dtype.type(ret / rcount)\n"
     ]
    },
    {
     "name": "stdout",
     "output_type": "stream",
     "text": [
      "    191/191...\n",
      "Done.\n"
     ]
    }
   ],
   "source": [
    "run_model(model_folder, test_folder, output_folder, allow_failures = True, verbose = 2)"
   ]
  },
  {
   "cell_type": "code",
   "execution_count": 45,
   "id": "247a6478",
   "metadata": {},
   "outputs": [],
   "source": [
    "from evaluate_model import *"
   ]
  },
  {
   "cell_type": "code",
   "execution_count": 46,
   "id": "b770afd6",
   "metadata": {
    "scrolled": true
   },
   "outputs": [
    {
     "name": "stdout",
     "output_type": "stream",
     "text": [
      "#Murmur scores\n",
      "AUROC,AUPRC,F-measure,Accuracy,Weighted Accuracy,Cost\n",
      "0.899,0.691,0.502,0.770,0.774,14095.324\n",
      "\n",
      "#Outcome scores\n",
      "AUROC,AUPRC,F-measure,Accuracy,Weighted Accuracy,Cost\n",
      "0.733,0.723,0.662,0.670,0.556,15505.412\n",
      "\n",
      "#Murmur scores (per class)\n",
      "Classes,Present,Unknown,Absent\n",
      "AUROC,0.930,0.870,0.896\n",
      "AUPRC,0.814,0.303,0.957\n",
      "F-measure,0.636,0.000,0.868\n",
      "Accuracy,0.921,0.000,0.806\n",
      "\n",
      "#Outcome scores (per class)\n",
      "Classes,Abnormal,Normal\n",
      "AUROC,0.728,0.738\n",
      "AUPRC,0.784,0.662\n",
      "F-measure,0.609,0.715\n",
      "Accuracy,0.500,0.849\n",
      "\n"
     ]
    }
   ],
   "source": [
    "murmur_scores, outcome_scores = evaluate_model(test_folder, output_folder)\n",
    "classes, auroc, auprc, auroc_classes, auprc_classes, f_measure, f_measure_classes, accuracy, accuracy_classes, weighted_accuracy, cost = murmur_scores\n",
    "murmur_output_string = 'AUROC,AUPRC,F-measure,Accuracy,Weighted Accuracy,Cost\\n{:.3f},{:.3f},{:.3f},{:.3f},{:.3f},{:.3f}\\n'.format(auroc, auprc, f_measure, accuracy, weighted_accuracy, cost)\n",
    "murmur_class_output_string = 'Classes,{}\\nAUROC,{}\\nAUPRC,{}\\nF-measure,{}\\nAccuracy,{}\\n'.format(\n",
    "    ','.join(classes),\n",
    "    ','.join('{:.3f}'.format(x) for x in auroc_classes),\n",
    "    ','.join('{:.3f}'.format(x) for x in auprc_classes),\n",
    "    ','.join('{:.3f}'.format(x) for x in f_measure_classes),\n",
    "    ','.join('{:.3f}'.format(x) for x in accuracy_classes))\n",
    "\n",
    "classes, auroc, auprc, auroc_classes, auprc_classes, f_measure, f_measure_classes, accuracy, accuracy_classes, weighted_accuracy, cost = outcome_scores\n",
    "outcome_output_string = 'AUROC,AUPRC,F-measure,Accuracy,Weighted Accuracy,Cost\\n{:.3f},{:.3f},{:.3f},{:.3f},{:.3f},{:.3f}\\n'.format(auroc, auprc, f_measure, accuracy, weighted_accuracy, cost)\n",
    "outcome_class_output_string = 'Classes,{}\\nAUROC,{}\\nAUPRC,{}\\nF-measure,{}\\nAccuracy,{}\\n'.format(\n",
    "    ','.join(classes),\n",
    "    ','.join('{:.3f}'.format(x) for x in auroc_classes),\n",
    "    ','.join('{:.3f}'.format(x) for x in auprc_classes),\n",
    "    ','.join('{:.3f}'.format(x) for x in f_measure_classes),\n",
    "    ','.join('{:.3f}'.format(x) for x in accuracy_classes))\n",
    "\n",
    "output_string = '#Murmur scores\\n' + murmur_output_string + '\\n#Outcome scores\\n' + outcome_output_string \\\n",
    "    + '\\n#Murmur scores (per class)\\n' + murmur_class_output_string + '\\n#Outcome scores (per class)\\n' + outcome_class_output_string\n",
    "\n",
    "if len(sys.argv) == 3:\n",
    "    print(output_string)\n",
    "elif len(sys.argv) == 4:\n",
    "    with open(sys.argv[3], 'w') as f:\n",
    "        f.write(output_string)"
   ]
  },
  {
   "cell_type": "code",
   "execution_count": null,
   "id": "72a27458",
   "metadata": {},
   "outputs": [],
   "source": []
  },
  {
   "cell_type": "code",
   "execution_count": null,
   "id": "4235c97d",
   "metadata": {},
   "outputs": [],
   "source": []
  }
 ],
 "metadata": {
  "kernelspec": {
   "display_name": "tf20",
   "language": "python",
   "name": "tf20"
  },
  "language_info": {
   "codemirror_mode": {
    "name": "ipython",
    "version": 3
   },
   "file_extension": ".py",
   "mimetype": "text/x-python",
   "name": "python",
   "nbconvert_exporter": "python",
   "pygments_lexer": "ipython3",
   "version": "3.8.2"
  }
 },
 "nbformat": 4,
 "nbformat_minor": 5
}
