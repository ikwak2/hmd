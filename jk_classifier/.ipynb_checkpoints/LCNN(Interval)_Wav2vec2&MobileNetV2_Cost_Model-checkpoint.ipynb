{
 "cells": [
  {
   "cell_type": "code",
   "execution_count": 4,
   "id": "3d55dbd4",
   "metadata": {},
   "outputs": [],
   "source": [
    "import tensorflow as tf"
   ]
  },
  {
   "cell_type": "code",
   "execution_count": 5,
   "id": "ad188626",
   "metadata": {
    "scrolled": true
   },
   "outputs": [],
   "source": [
    "import os\n",
    "import pandas as pd\n",
    "import numpy as np\n",
    "import scipy as sp\n",
    "import scipy.stats\n",
    "import librosa\n",
    "import librosa.display\n",
    "import math\n",
    "import sys\n",
    "#sys.path.insert(0,'/home/ikwak2/hmd/notebooks')\n",
    "# sys.path.insert(0,'S1-S1-Phonocardiogram-Peak-Detection-Method-in-Python')\n",
    "sys.path.insert(0,'utils')\n",
    "from helper_code import *\n",
    "from get_feature import *\n",
    "from models import *\n",
    "from Generator0 import *\n",
    "from keras.preprocessing import sequence\n",
    "from scipy import special\n",
    "import scipy.io as sio\n",
    "from keras.preprocessing.sequence import pad_sequences\n",
    "import peakutils\n",
    "from tensorflow import keras\n",
    "from tensorflow.keras import layers\n",
    "from tensorflow.keras.callbacks import LearningRateScheduler,ModelCheckpoint\n",
    "from skimage.transform import resize\n",
    "import matplotlib.pyplot as plt"
   ]
  },
  {
   "cell_type": "code",
   "execution_count": 6,
   "id": "f8c573ff",
   "metadata": {},
   "outputs": [
    {
     "data": {
      "text/plain": [
       "'/home/jk21/Documents/hmd/jk_classifier'"
      ]
     },
     "execution_count": 6,
     "metadata": {},
     "output_type": "execute_result"
    }
   ],
   "source": [
    "pwd"
   ]
  },
  {
   "cell_type": "code",
   "execution_count": 7,
   "id": "42f5dd9c",
   "metadata": {},
   "outputs": [],
   "source": [
    "# data_folder =  'physionet.org/files/circor-heart-sound/1.0.3/training_data'\n",
    "train_folder =  '/home/jk21/Downloads/Data/data/murmur/train'\n",
    "test_folder = '/home/jk21/Downloads/Data/data/murmur/test'\n"
   ]
  },
  {
   "cell_type": "code",
   "execution_count": 8,
   "id": "ca657f78",
   "metadata": {},
   "outputs": [],
   "source": [
    "model_folder = 'lcnn2'"
   ]
  },
  {
   "cell_type": "code",
   "execution_count": 9,
   "id": "e49f868b",
   "metadata": {},
   "outputs": [
    {
     "data": {
      "text/plain": [
       "'lcnn2'"
      ]
     },
     "execution_count": 9,
     "metadata": {},
     "output_type": "execute_result"
    }
   ],
   "source": [
    "model_folder"
   ]
  },
  {
   "cell_type": "code",
   "execution_count": 10,
   "id": "e76c75d5",
   "metadata": {},
   "outputs": [],
   "source": [
    "def sigmoidal_decay(e, start=0, end=100, lr_start=1e-3, lr_end=1e-5):\n",
    "    if e < start:\n",
    "        return lr_start\n",
    "    elif e > end:\n",
    "        return lr_end\n",
    "\n",
    "    middle = (start + end) / 2\n",
    "    s = lambda x: 1 / (1 + np.exp(-x))\n",
    "\n",
    "    return s(13 * (-e + middle) / np.abs(end - start)) * np.abs(lr_start - lr_end) + lr_end"
   ]
  },
  {
   "cell_type": "code",
   "execution_count": 11,
   "id": "ac7432d8",
   "metadata": {},
   "outputs": [],
   "source": [
    "patient_files_trn = find_patient_files(train_folder)\n",
    "patient_files_test = find_patient_files(test_folder)"
   ]
  },
  {
   "cell_type": "code",
   "execution_count": 12,
   "id": "a30c2ab2",
   "metadata": {},
   "outputs": [],
   "source": [
    "\n",
    "\n",
    "per_sec=4000\n",
    "winlen = 512\n",
    "hoplen = 256\n",
    "nmel = 120 \n",
    "nsec = 20 \n",
    "trim = 1 \n",
    "use_mel=True\n",
    "use_cqt = False \n",
    "use_stft = False\n",
    "use_raw=False\n",
    "use_interval=True\n",
    "use_wav2=True\n",
    "maxlen1 = 120000\n",
    "min_dist = 500\n",
    "max_interval_len = 115\n"
   ]
  },
  {
   "cell_type": "code",
   "execution_count": 13,
   "id": "701e9583",
   "metadata": {},
   "outputs": [],
   "source": [
    "model1_callback = tf.keras.callbacks.ModelCheckpoint(\n",
    "    filepath=model_folder,\n",
    "    monitor='val_accuracy',\n",
    "    verbose=0,\n",
    "    save_best_only=True,\n",
    "    save_weights_only=True,\n",
    "    mode='auto',\n",
    "    save_freq='epoch',\n",
    "    options=None,\n",
    "    initial_value_threshold=None\n",
    ")\n"
   ]
  },
  {
   "cell_type": "code",
   "execution_count": 14,
   "id": "d03a4cfb",
   "metadata": {},
   "outputs": [],
   "source": [
    "model2_callback = tf.keras.callbacks.ModelCheckpoint(\n",
    "    filepath=model_folder,\n",
    "    monitor='val_loss',\n",
    "    verbose=0,\n",
    "    save_best_only=True,\n",
    "    save_weights_only=True,\n",
    "    mode='auto',\n",
    "    save_freq='epoch',\n",
    "    options=None,\n",
    "    initial_value_threshold=None\n",
    ")    "
   ]
  },
  {
   "cell_type": "code",
   "execution_count": 15,
   "id": "ca1fabdb",
   "metadata": {},
   "outputs": [],
   "source": [
    "params_feature = {'samp_sec': nsec,\n",
    "                  #### melspec, stft 피쳐 옵션들  \n",
    "                  'pre_emphasis': 0,\n",
    "                  'hop_length': hoplen,\n",
    "                  'win_length': winlen,\n",
    "                  'n_mels': nmel,\n",
    "                  #### cqt 피쳐 옵션들  \n",
    "                  'filter_scale': 1,\n",
    "                  'n_bins': 80,\n",
    "                  'fmin': 10,\n",
    "                  'maxlen1': maxlen1,\n",
    "                  'min_dist':min_dist,\n",
    "                  'max_interval_len' : max_interval_len,\n",
    "                  'trim' :1,\n",
    "                  'use_mel' : use_mel,\n",
    "                  'use_cqt' : use_cqt,\n",
    "                  'use_stft' : use_stft,\n",
    "                  'use_interval' : use_interval,\n",
    "                  'use_wav2' : use_wav2,\n",
    "                  'per_sec' : per_sec\n",
    "}"
   ]
  },
  {
   "cell_type": "code",
   "execution_count": 16,
   "id": "a4acff06",
   "metadata": {},
   "outputs": [
    {
     "data": {
      "text/plain": [
       "{'samp_sec': 20,\n",
       " 'pre_emphasis': 0,\n",
       " 'hop_length': 256,\n",
       " 'win_length': 512,\n",
       " 'n_mels': 120,\n",
       " 'filter_scale': 1,\n",
       " 'n_bins': 80,\n",
       " 'fmin': 10,\n",
       " 'maxlen1': 120000,\n",
       " 'min_dist': 500,\n",
       " 'max_interval_len': 115,\n",
       " 'trim': 1,\n",
       " 'use_mel': True,\n",
       " 'use_cqt': False,\n",
       " 'use_stft': False,\n",
       " 'use_interval': True,\n",
       " 'use_wav2': True,\n",
       " 'per_sec': 4000}"
      ]
     },
     "execution_count": 16,
     "metadata": {},
     "output_type": "execute_result"
    }
   ],
   "source": [
    "params_feature"
   ]
  },
  {
   "cell_type": "code",
   "execution_count": null,
   "id": "6e6e5fbb",
   "metadata": {},
   "outputs": [],
   "source": []
  },
  {
   "cell_type": "code",
   "execution_count": null,
   "id": "cec357e4",
   "metadata": {},
   "outputs": [],
   "source": []
  },
  {
   "cell_type": "code",
   "execution_count": 17,
   "id": "caa0f60d",
   "metadata": {},
   "outputs": [
    {
     "name": "stderr",
     "output_type": "stream",
     "text": [
      "2022-08-12 19:28:13.570142: I tensorflow/stream_executor/cuda/cuda_gpu_executor.cc:936] successful NUMA node read from SysFS had negative value (-1), but there must be at least one NUMA node, so returning NUMA node zero\n",
      "2022-08-12 19:28:13.575088: I tensorflow/stream_executor/cuda/cuda_gpu_executor.cc:936] successful NUMA node read from SysFS had negative value (-1), but there must be at least one NUMA node, so returning NUMA node zero\n",
      "2022-08-12 19:28:13.575512: I tensorflow/stream_executor/cuda/cuda_gpu_executor.cc:936] successful NUMA node read from SysFS had negative value (-1), but there must be at least one NUMA node, so returning NUMA node zero\n",
      "2022-08-12 19:28:13.576294: I tensorflow/core/platform/cpu_feature_guard.cc:151] This TensorFlow binary is optimized with oneAPI Deep Neural Network Library (oneDNN) to use the following CPU instructions in performance-critical operations:  AVX2 FMA\n",
      "To enable them in other operations, rebuild TensorFlow with the appropriate compiler flags.\n",
      "2022-08-12 19:28:13.577300: I tensorflow/stream_executor/cuda/cuda_gpu_executor.cc:936] successful NUMA node read from SysFS had negative value (-1), but there must be at least one NUMA node, so returning NUMA node zero\n",
      "2022-08-12 19:28:13.577723: I tensorflow/stream_executor/cuda/cuda_gpu_executor.cc:936] successful NUMA node read from SysFS had negative value (-1), but there must be at least one NUMA node, so returning NUMA node zero\n",
      "2022-08-12 19:28:13.578131: I tensorflow/stream_executor/cuda/cuda_gpu_executor.cc:936] successful NUMA node read from SysFS had negative value (-1), but there must be at least one NUMA node, so returning NUMA node zero\n",
      "2022-08-12 19:28:13.931676: I tensorflow/stream_executor/cuda/cuda_gpu_executor.cc:936] successful NUMA node read from SysFS had negative value (-1), but there must be at least one NUMA node, so returning NUMA node zero\n",
      "2022-08-12 19:28:13.931992: I tensorflow/stream_executor/cuda/cuda_gpu_executor.cc:936] successful NUMA node read from SysFS had negative value (-1), but there must be at least one NUMA node, so returning NUMA node zero\n",
      "2022-08-12 19:28:13.932264: I tensorflow/stream_executor/cuda/cuda_gpu_executor.cc:936] successful NUMA node read from SysFS had negative value (-1), but there must be at least one NUMA node, so returning NUMA node zero\n",
      "2022-08-12 19:28:13.932516: I tensorflow/core/common_runtime/gpu/gpu_device.cc:1525] Created device /job:localhost/replica:0/task:0/device:GPU:0 with 9320 MB memory:  -> device: 0, name: GeForce RTX 2080 Ti, pci bus id: 0000:01:00.0, compute capability: 7.5\n",
      "2022-08-12 19:28:14.375267: I tensorflow/stream_executor/cuda/cuda_dnn.cc:368] Loaded cuDNN version 8101\n",
      "100%|███████████████████████████████████████| 751/751 [1:04:03<00:00,  5.12s/it]\n"
     ]
    },
    {
     "name": "stdout",
     "output_type": "stream",
     "text": [
      "melspec:  120 313\n",
      "cqt:  1 1\n",
      "stft:  1 1\n"
     ]
    },
    {
     "name": "stderr",
     "output_type": "stream",
     "text": [
      "100%|███████████████████████████████████████| 2532/2532 [03:46<00:00, 11.19it/s]\n"
     ]
    },
    {
     "name": "stdout",
     "output_type": "stream",
     "text": [
      "interval:  115 1\n",
      "wav2:  32 374\n"
     ]
    }
   ],
   "source": [
    "features_trn, mel_input_shape, cqt_input_shape,stft_input_shape,interval_input_shape,wav2_input_shape = get_features_3lb_all_ord(train_folder, patient_files_trn, **params_feature)\n"
   ]
  },
  {
   "cell_type": "code",
   "execution_count": 18,
   "id": "b04d2593",
   "metadata": {
    "scrolled": true
   },
   "outputs": [
    {
     "name": "stderr",
     "output_type": "stream",
     "text": [
      " 13%|█████▎                                    | 24/191 [02:50<19:43,  7.08s/it]\n"
     ]
    },
    {
     "ename": "KeyboardInterrupt",
     "evalue": "",
     "output_type": "error",
     "traceback": [
      "\u001b[0;31m---------------------------------------------------------------------------\u001b[0m",
      "\u001b[0;31mKeyboardInterrupt\u001b[0m                         Traceback (most recent call last)",
      "Input \u001b[0;32mIn [18]\u001b[0m, in \u001b[0;36m<module>\u001b[0;34m\u001b[0m\n\u001b[0;32m----> 1\u001b[0m features_test, mel_input_shape, cqt_input_shape,stft_input_shape,interval_input_shape,wav2_input_shape\u001b[38;5;241m=\u001b[39m \u001b[43mget_features_3lb_all_ord\u001b[49m\u001b[43m(\u001b[49m\u001b[43mtest_folder\u001b[49m\u001b[43m,\u001b[49m\u001b[43m \u001b[49m\u001b[43mpatient_files_test\u001b[49m\u001b[43m,\u001b[49m\u001b[43m \u001b[49m\u001b[38;5;241;43m*\u001b[39;49m\u001b[38;5;241;43m*\u001b[39;49m\u001b[43mparams_feature\u001b[49m\u001b[43m)\u001b[49m\n",
      "File \u001b[0;32m~/Documents/hmd/jk_classifier/utils/get_feature.py:432\u001b[0m, in \u001b[0;36mget_features_3lb_all_ord\u001b[0;34m(data_folder, patient_files_trn, po, samp_sec, pre_emphasis, hop_length, win_length, n_mels, filter_scale, n_bins, fmin, trim, use_mel, use_cqt, use_stft, use_interval, use_wav2, maxlen1, min_dist, per_sec, max_interval_len)\u001b[0m\n\u001b[1;32m    422\u001b[0m \u001b[38;5;66;03m#             if use_raw :\u001b[39;00m\n\u001b[1;32m    423\u001b[0m \u001b[38;5;66;03m#                 frequency1, recording1 = sp.io.wavfile.read(filename)\u001b[39;00m\n\u001b[1;32m    424\u001b[0m                 \n\u001b[1;32m    425\u001b[0m \u001b[38;5;66;03m#             else :\u001b[39;00m\n\u001b[1;32m    426\u001b[0m \u001b[38;5;66;03m#                 recording1 = np.zeros( (1) )\u001b[39;00m\n\u001b[1;32m    427\u001b[0m \u001b[38;5;66;03m#             tmp_wav.append(recording1)      \u001b[39;00m\n\u001b[1;32m    431\u001b[0m             \u001b[38;5;28;01mif\u001b[39;00m use_wav2:\n\u001b[0;32m--> 432\u001b[0m                 recording1,frequency1  \u001b[38;5;241m=\u001b[39m \u001b[43mlibrosa\u001b[49m\u001b[38;5;241;43m.\u001b[39;49m\u001b[43mload\u001b[49m\u001b[43m(\u001b[49m\u001b[43mfilename\u001b[49m\u001b[43m)\u001b[49m\n\u001b[1;32m    434\u001b[0m             \u001b[38;5;28;01melse\u001b[39;00m :\n\u001b[1;32m    435\u001b[0m                 recording1 \u001b[38;5;241m=\u001b[39m np\u001b[38;5;241m.\u001b[39mzeros( (\u001b[38;5;241m1\u001b[39m) )\n",
      "File \u001b[0;32m~/anaconda3/envs/new_env/lib/python3.8/site-packages/librosa/util/decorators.py:88\u001b[0m, in \u001b[0;36mdeprecate_positional_args.<locals>._inner_deprecate_positional_args.<locals>.inner_f\u001b[0;34m(*args, **kwargs)\u001b[0m\n\u001b[1;32m     86\u001b[0m extra_args \u001b[38;5;241m=\u001b[39m \u001b[38;5;28mlen\u001b[39m(args) \u001b[38;5;241m-\u001b[39m \u001b[38;5;28mlen\u001b[39m(all_args)\n\u001b[1;32m     87\u001b[0m \u001b[38;5;28;01mif\u001b[39;00m extra_args \u001b[38;5;241m<\u001b[39m\u001b[38;5;241m=\u001b[39m \u001b[38;5;241m0\u001b[39m:\n\u001b[0;32m---> 88\u001b[0m     \u001b[38;5;28;01mreturn\u001b[39;00m \u001b[43mf\u001b[49m\u001b[43m(\u001b[49m\u001b[38;5;241;43m*\u001b[39;49m\u001b[43margs\u001b[49m\u001b[43m,\u001b[49m\u001b[43m \u001b[49m\u001b[38;5;241;43m*\u001b[39;49m\u001b[38;5;241;43m*\u001b[39;49m\u001b[43mkwargs\u001b[49m\u001b[43m)\u001b[49m\n\u001b[1;32m     90\u001b[0m \u001b[38;5;66;03m# extra_args > 0\u001b[39;00m\n\u001b[1;32m     91\u001b[0m args_msg \u001b[38;5;241m=\u001b[39m [\n\u001b[1;32m     92\u001b[0m     \u001b[38;5;124m\"\u001b[39m\u001b[38;5;132;01m{}\u001b[39;00m\u001b[38;5;124m=\u001b[39m\u001b[38;5;132;01m{}\u001b[39;00m\u001b[38;5;124m\"\u001b[39m\u001b[38;5;241m.\u001b[39mformat(name, arg)\n\u001b[1;32m     93\u001b[0m     \u001b[38;5;28;01mfor\u001b[39;00m name, arg \u001b[38;5;129;01min\u001b[39;00m \u001b[38;5;28mzip\u001b[39m(kwonly_args[:extra_args], args[\u001b[38;5;241m-\u001b[39mextra_args:])\n\u001b[1;32m     94\u001b[0m ]\n",
      "File \u001b[0;32m~/anaconda3/envs/new_env/lib/python3.8/site-packages/librosa/core/audio.py:158\u001b[0m, in \u001b[0;36mload\u001b[0;34m(path, sr, mono, offset, duration, dtype, res_type)\u001b[0m\n\u001b[1;32m     47\u001b[0m \u001b[38;5;129m@deprecate_positional_args\u001b[39m\n\u001b[1;32m     48\u001b[0m \u001b[38;5;28;01mdef\u001b[39;00m \u001b[38;5;21mload\u001b[39m(\n\u001b[1;32m     49\u001b[0m     path,\n\u001b[0;32m   (...)\u001b[0m\n\u001b[1;32m     56\u001b[0m     res_type\u001b[38;5;241m=\u001b[39m\u001b[38;5;124m\"\u001b[39m\u001b[38;5;124mkaiser_best\u001b[39m\u001b[38;5;124m\"\u001b[39m,\n\u001b[1;32m     57\u001b[0m ):\n\u001b[1;32m     58\u001b[0m     \u001b[38;5;124;03m\"\"\"Load an audio file as a floating point time series.\u001b[39;00m\n\u001b[1;32m     59\u001b[0m \n\u001b[1;32m     60\u001b[0m \u001b[38;5;124;03m    Audio will be automatically resampled to the given rate\u001b[39;00m\n\u001b[0;32m   (...)\u001b[0m\n\u001b[1;32m    155\u001b[0m \u001b[38;5;124;03m    >>> y, sr = librosa.load(aro)\u001b[39;00m\n\u001b[1;32m    156\u001b[0m \u001b[38;5;124;03m    \"\"\"\u001b[39;00m\n\u001b[0;32m--> 158\u001b[0m     \u001b[38;5;28;01mif\u001b[39;00m \u001b[38;5;28misinstance\u001b[39m(path, \u001b[38;5;28mtuple\u001b[39m(\u001b[43maudioread\u001b[49m\u001b[38;5;241;43m.\u001b[39;49m\u001b[43mavailable_backends\u001b[49m\u001b[43m(\u001b[49m\u001b[43m)\u001b[49m)):\n\u001b[1;32m    159\u001b[0m         \u001b[38;5;66;03m# Force the audioread loader if we have a reader object already\u001b[39;00m\n\u001b[1;32m    160\u001b[0m         y, sr_native \u001b[38;5;241m=\u001b[39m __audioread_load(path, offset, duration, dtype)\n\u001b[1;32m    161\u001b[0m     \u001b[38;5;28;01melse\u001b[39;00m:\n\u001b[1;32m    162\u001b[0m         \u001b[38;5;66;03m# Otherwise try soundfile first, and then fall back if necessary\u001b[39;00m\n",
      "File \u001b[0;32m~/anaconda3/envs/new_env/lib/python3.8/site-packages/audioread/__init__.py:71\u001b[0m, in \u001b[0;36mavailable_backends\u001b[0;34m()\u001b[0m\n\u001b[1;32m     68\u001b[0m result \u001b[38;5;241m=\u001b[39m [rawread\u001b[38;5;241m.\u001b[39mRawAudioFile]\n\u001b[1;32m     70\u001b[0m \u001b[38;5;66;03m# Core Audio.\u001b[39;00m\n\u001b[0;32m---> 71\u001b[0m \u001b[38;5;28;01mif\u001b[39;00m \u001b[43m_ca_available\u001b[49m\u001b[43m(\u001b[49m\u001b[43m)\u001b[49m:\n\u001b[1;32m     72\u001b[0m     \u001b[38;5;28;01mfrom\u001b[39;00m \u001b[38;5;21;01m.\u001b[39;00m \u001b[38;5;28;01mimport\u001b[39;00m macca\n\u001b[1;32m     73\u001b[0m     result\u001b[38;5;241m.\u001b[39mappend(macca\u001b[38;5;241m.\u001b[39mExtAudioFile)\n",
      "File \u001b[0;32m~/anaconda3/envs/new_env/lib/python3.8/site-packages/audioread/__init__.py:49\u001b[0m, in \u001b[0;36m_ca_available\u001b[0;34m()\u001b[0m\n\u001b[1;32m     45\u001b[0m \u001b[38;5;124;03m\"\"\"Determines whether CoreAudio is available (i.e., we're running on\u001b[39;00m\n\u001b[1;32m     46\u001b[0m \u001b[38;5;124;03mMac OS X).\u001b[39;00m\n\u001b[1;32m     47\u001b[0m \u001b[38;5;124;03m\"\"\"\u001b[39;00m\n\u001b[1;32m     48\u001b[0m \u001b[38;5;28;01mimport\u001b[39;00m \u001b[38;5;21;01mctypes\u001b[39;00m\u001b[38;5;21;01m.\u001b[39;00m\u001b[38;5;21;01mutil\u001b[39;00m\n\u001b[0;32m---> 49\u001b[0m lib \u001b[38;5;241m=\u001b[39m \u001b[43mctypes\u001b[49m\u001b[38;5;241;43m.\u001b[39;49m\u001b[43mutil\u001b[49m\u001b[38;5;241;43m.\u001b[39;49m\u001b[43mfind_library\u001b[49m\u001b[43m(\u001b[49m\u001b[38;5;124;43m'\u001b[39;49m\u001b[38;5;124;43mAudioToolbox\u001b[39;49m\u001b[38;5;124;43m'\u001b[39;49m\u001b[43m)\u001b[49m\n\u001b[1;32m     50\u001b[0m \u001b[38;5;28;01mreturn\u001b[39;00m lib \u001b[38;5;129;01mis\u001b[39;00m \u001b[38;5;129;01mnot\u001b[39;00m \u001b[38;5;28;01mNone\u001b[39;00m\n",
      "File \u001b[0;32m~/anaconda3/envs/new_env/lib/python3.8/ctypes/util.py:351\u001b[0m, in \u001b[0;36mfind_library\u001b[0;34m(name)\u001b[0m\n\u001b[1;32m    344\u001b[0m     \u001b[38;5;28;01mreturn\u001b[39;00m _findLib_prefix(so_name) \u001b[38;5;129;01mor\u001b[39;00m \\\n\u001b[1;32m    345\u001b[0m             _findLib_prefix(name) \u001b[38;5;129;01mor\u001b[39;00m \\\n\u001b[1;32m    346\u001b[0m             _findSoname_ldconfig(name) \u001b[38;5;129;01mor\u001b[39;00m \\\n\u001b[1;32m    347\u001b[0m             _get_soname(_findLib_gcc(name) \u001b[38;5;129;01mor\u001b[39;00m _findLib_ld(name))\n\u001b[1;32m    348\u001b[0m \u001b[38;5;28;01melse\u001b[39;00m:\n\u001b[1;32m    349\u001b[0m     \u001b[38;5;28;01mreturn\u001b[39;00m _findLib_prefix(name) \u001b[38;5;129;01mor\u001b[39;00m \\\n\u001b[1;32m    350\u001b[0m             _findSoname_ldconfig(name) \u001b[38;5;129;01mor\u001b[39;00m \\\n\u001b[0;32m--> 351\u001b[0m             _get_soname(\u001b[43m_findLib_gcc\u001b[49m\u001b[43m(\u001b[49m\u001b[43mname\u001b[49m\u001b[43m)\u001b[49m \u001b[38;5;129;01mor\u001b[39;00m _findLib_ld(name))\n",
      "File \u001b[0;32m~/anaconda3/envs/new_env/lib/python3.8/ctypes/util.py:125\u001b[0m, in \u001b[0;36m_findLib_gcc\u001b[0;34m(name)\u001b[0m\n\u001b[1;32m    123\u001b[0m env[\u001b[38;5;124m'\u001b[39m\u001b[38;5;124mLANG\u001b[39m\u001b[38;5;124m'\u001b[39m] \u001b[38;5;241m=\u001b[39m \u001b[38;5;124m'\u001b[39m\u001b[38;5;124mC\u001b[39m\u001b[38;5;124m'\u001b[39m\n\u001b[1;32m    124\u001b[0m \u001b[38;5;28;01mtry\u001b[39;00m:\n\u001b[0;32m--> 125\u001b[0m     proc \u001b[38;5;241m=\u001b[39m \u001b[43msubprocess\u001b[49m\u001b[38;5;241;43m.\u001b[39;49m\u001b[43mPopen\u001b[49m\u001b[43m(\u001b[49m\u001b[43margs\u001b[49m\u001b[43m,\u001b[49m\n\u001b[1;32m    126\u001b[0m \u001b[43m                            \u001b[49m\u001b[43mstdout\u001b[49m\u001b[38;5;241;43m=\u001b[39;49m\u001b[43msubprocess\u001b[49m\u001b[38;5;241;43m.\u001b[39;49m\u001b[43mPIPE\u001b[49m\u001b[43m,\u001b[49m\n\u001b[1;32m    127\u001b[0m \u001b[43m                            \u001b[49m\u001b[43mstderr\u001b[49m\u001b[38;5;241;43m=\u001b[39;49m\u001b[43msubprocess\u001b[49m\u001b[38;5;241;43m.\u001b[39;49m\u001b[43mSTDOUT\u001b[49m\u001b[43m,\u001b[49m\n\u001b[1;32m    128\u001b[0m \u001b[43m                            \u001b[49m\u001b[43menv\u001b[49m\u001b[38;5;241;43m=\u001b[39;49m\u001b[43menv\u001b[49m\u001b[43m)\u001b[49m\n\u001b[1;32m    129\u001b[0m \u001b[38;5;28;01mexcept\u001b[39;00m \u001b[38;5;167;01mOSError\u001b[39;00m:  \u001b[38;5;66;03m# E.g. bad executable\u001b[39;00m\n\u001b[1;32m    130\u001b[0m     \u001b[38;5;28;01mreturn\u001b[39;00m \u001b[38;5;28;01mNone\u001b[39;00m\n",
      "File \u001b[0;32m~/anaconda3/envs/new_env/lib/python3.8/subprocess.py:858\u001b[0m, in \u001b[0;36mPopen.__init__\u001b[0;34m(self, args, bufsize, executable, stdin, stdout, stderr, preexec_fn, close_fds, shell, cwd, env, universal_newlines, startupinfo, creationflags, restore_signals, start_new_session, pass_fds, encoding, errors, text)\u001b[0m\n\u001b[1;32m    854\u001b[0m         \u001b[38;5;28;01mif\u001b[39;00m \u001b[38;5;28mself\u001b[39m\u001b[38;5;241m.\u001b[39mtext_mode:\n\u001b[1;32m    855\u001b[0m             \u001b[38;5;28mself\u001b[39m\u001b[38;5;241m.\u001b[39mstderr \u001b[38;5;241m=\u001b[39m io\u001b[38;5;241m.\u001b[39mTextIOWrapper(\u001b[38;5;28mself\u001b[39m\u001b[38;5;241m.\u001b[39mstderr,\n\u001b[1;32m    856\u001b[0m                     encoding\u001b[38;5;241m=\u001b[39mencoding, errors\u001b[38;5;241m=\u001b[39merrors)\n\u001b[0;32m--> 858\u001b[0m     \u001b[38;5;28;43mself\u001b[39;49m\u001b[38;5;241;43m.\u001b[39;49m\u001b[43m_execute_child\u001b[49m\u001b[43m(\u001b[49m\u001b[43margs\u001b[49m\u001b[43m,\u001b[49m\u001b[43m \u001b[49m\u001b[43mexecutable\u001b[49m\u001b[43m,\u001b[49m\u001b[43m \u001b[49m\u001b[43mpreexec_fn\u001b[49m\u001b[43m,\u001b[49m\u001b[43m \u001b[49m\u001b[43mclose_fds\u001b[49m\u001b[43m,\u001b[49m\n\u001b[1;32m    859\u001b[0m \u001b[43m                        \u001b[49m\u001b[43mpass_fds\u001b[49m\u001b[43m,\u001b[49m\u001b[43m \u001b[49m\u001b[43mcwd\u001b[49m\u001b[43m,\u001b[49m\u001b[43m \u001b[49m\u001b[43menv\u001b[49m\u001b[43m,\u001b[49m\n\u001b[1;32m    860\u001b[0m \u001b[43m                        \u001b[49m\u001b[43mstartupinfo\u001b[49m\u001b[43m,\u001b[49m\u001b[43m \u001b[49m\u001b[43mcreationflags\u001b[49m\u001b[43m,\u001b[49m\u001b[43m \u001b[49m\u001b[43mshell\u001b[49m\u001b[43m,\u001b[49m\n\u001b[1;32m    861\u001b[0m \u001b[43m                        \u001b[49m\u001b[43mp2cread\u001b[49m\u001b[43m,\u001b[49m\u001b[43m \u001b[49m\u001b[43mp2cwrite\u001b[49m\u001b[43m,\u001b[49m\n\u001b[1;32m    862\u001b[0m \u001b[43m                        \u001b[49m\u001b[43mc2pread\u001b[49m\u001b[43m,\u001b[49m\u001b[43m \u001b[49m\u001b[43mc2pwrite\u001b[49m\u001b[43m,\u001b[49m\n\u001b[1;32m    863\u001b[0m \u001b[43m                        \u001b[49m\u001b[43merrread\u001b[49m\u001b[43m,\u001b[49m\u001b[43m \u001b[49m\u001b[43merrwrite\u001b[49m\u001b[43m,\u001b[49m\n\u001b[1;32m    864\u001b[0m \u001b[43m                        \u001b[49m\u001b[43mrestore_signals\u001b[49m\u001b[43m,\u001b[49m\u001b[43m \u001b[49m\u001b[43mstart_new_session\u001b[49m\u001b[43m)\u001b[49m\n\u001b[1;32m    865\u001b[0m \u001b[38;5;28;01mexcept\u001b[39;00m:\n\u001b[1;32m    866\u001b[0m     \u001b[38;5;66;03m# Cleanup if the child failed starting.\u001b[39;00m\n\u001b[1;32m    867\u001b[0m     \u001b[38;5;28;01mfor\u001b[39;00m f \u001b[38;5;129;01min\u001b[39;00m \u001b[38;5;28mfilter\u001b[39m(\u001b[38;5;28;01mNone\u001b[39;00m, (\u001b[38;5;28mself\u001b[39m\u001b[38;5;241m.\u001b[39mstdin, \u001b[38;5;28mself\u001b[39m\u001b[38;5;241m.\u001b[39mstdout, \u001b[38;5;28mself\u001b[39m\u001b[38;5;241m.\u001b[39mstderr)):\n",
      "File \u001b[0;32m~/anaconda3/envs/new_env/lib/python3.8/subprocess.py:1660\u001b[0m, in \u001b[0;36mPopen._execute_child\u001b[0;34m(self, args, executable, preexec_fn, close_fds, pass_fds, cwd, env, startupinfo, creationflags, shell, p2cread, p2cwrite, c2pread, c2pwrite, errread, errwrite, restore_signals, start_new_session)\u001b[0m\n\u001b[1;32m   1658\u001b[0m errpipe_data \u001b[38;5;241m=\u001b[39m \u001b[38;5;28mbytearray\u001b[39m()\n\u001b[1;32m   1659\u001b[0m \u001b[38;5;28;01mwhile\u001b[39;00m \u001b[38;5;28;01mTrue\u001b[39;00m:\n\u001b[0;32m-> 1660\u001b[0m     part \u001b[38;5;241m=\u001b[39m \u001b[43mos\u001b[49m\u001b[38;5;241;43m.\u001b[39;49m\u001b[43mread\u001b[49m\u001b[43m(\u001b[49m\u001b[43merrpipe_read\u001b[49m\u001b[43m,\u001b[49m\u001b[43m \u001b[49m\u001b[38;5;241;43m50000\u001b[39;49m\u001b[43m)\u001b[49m\n\u001b[1;32m   1661\u001b[0m     errpipe_data \u001b[38;5;241m+\u001b[39m\u001b[38;5;241m=\u001b[39m part\n\u001b[1;32m   1662\u001b[0m     \u001b[38;5;28;01mif\u001b[39;00m \u001b[38;5;129;01mnot\u001b[39;00m part \u001b[38;5;129;01mor\u001b[39;00m \u001b[38;5;28mlen\u001b[39m(errpipe_data) \u001b[38;5;241m>\u001b[39m \u001b[38;5;241m50000\u001b[39m:\n",
      "\u001b[0;31mKeyboardInterrupt\u001b[0m: "
     ]
    }
   ],
   "source": [
    "features_test, mel_input_shape, cqt_input_shape,stft_input_shape,interval_input_shape,wav2_input_shape= get_features_3lb_all_ord(test_folder, patient_files_test, **params_feature)"
   ]
  },
  {
   "cell_type": "code",
   "execution_count": null,
   "id": "c49dd9a7",
   "metadata": {},
   "outputs": [],
   "source": []
  },
  {
   "cell_type": "code",
   "execution_count": null,
   "id": "3300e7d8",
   "metadata": {},
   "outputs": [],
   "source": []
  },
  {
   "cell_type": "code",
   "execution_count": null,
   "id": "4c5c77ac",
   "metadata": {},
   "outputs": [],
   "source": []
  },
  {
   "cell_type": "code",
   "execution_count": null,
   "id": "f701412d",
   "metadata": {},
   "outputs": [],
   "source": []
  },
  {
   "cell_type": "code",
   "execution_count": null,
   "id": "c062bb96",
   "metadata": {},
   "outputs": [],
   "source": []
  },
  {
   "cell_type": "code",
   "execution_count": 16,
   "id": "c05f1a96",
   "metadata": {},
   "outputs": [],
   "source": [
    "mm_weight = 3 #np.random.choice([2,3,4,5])\n",
    "oo_weight = 3 #np.random.choice([2,3,4,5,6])\n",
    "ord1 = True #np.random.choice([True,False])\n",
    "mm_mean = False #np.random.choice([True,False])\n",
    "dp = 0 #np.random.choice([0, .1, .2, .3])\n",
    "fc = False #np.random.choice([True,False])\n",
    "ext = True\n",
    "chaug = 10 #np.random.choice([0, 10])\n",
    "mixup = True #np.random.choice([True,False])\n",
    "cout = .8 #np.random.choice([0, 0.8])\n",
    "wunknown = 1 #np.random.choice([1, 0.7, .5, .2])\n",
    "n1 = 0 #np.random.choice([0,2])\n",
    "if n1 == 0 :\n",
    "    ranfil = False\n",
    "else :\n",
    "    ranfil = [n1, [18,19,20,21,22,23]]"
   ]
  },
  {
   "cell_type": "code",
   "execution_count": 17,
   "id": "9fe819a9",
   "metadata": {},
   "outputs": [],
   "source": [
    "params_feature['ord1'] = ord1\n",
    "params_feature['mm_mean'] = mm_mean\n",
    "params_feature['dp'] = dp\n",
    "params_feature['fc'] = fc\n",
    "params_feature['ext'] = ext\n",
    "params_feature['oo_weight'] = oo_weight\n",
    "params_feature['mm_weight'] = mm_weight\n",
    "params_feature['chaug'] = chaug\n",
    "params_feature['cout'] = cout\n",
    "params_feature['wunknown'] = wunknown\n",
    "params_feature['mixup'] = mixup\n",
    "params_feature['n1'] = n1"
   ]
  },
  {
   "cell_type": "code",
   "execution_count": 18,
   "id": "12a59049",
   "metadata": {},
   "outputs": [
    {
     "data": {
      "text/plain": [
       "{'samp_sec': 20,\n",
       " 'pre_emphasis': 0,\n",
       " 'hop_length': 256,\n",
       " 'win_length': 512,\n",
       " 'n_mels': 120,\n",
       " 'filter_scale': 1,\n",
       " 'n_bins': 80,\n",
       " 'fmin': 10,\n",
       " 'maxlen1': 120000,\n",
       " 'min_dist': 500,\n",
       " 'max_interval_len': 115,\n",
       " 'trim': 1,\n",
       " 'use_mel': True,\n",
       " 'use_cqt': False,\n",
       " 'use_stft': False,\n",
       " 'use_interval': True,\n",
       " 'use_wav2': True,\n",
       " 'per_sec': 4000,\n",
       " 'ord1': True,\n",
       " 'mm_mean': False,\n",
       " 'dp': 0,\n",
       " 'fc': False,\n",
       " 'ext': True,\n",
       " 'oo_weight': 3,\n",
       " 'mm_weight': 3,\n",
       " 'chaug': 10,\n",
       " 'cout': 0.8,\n",
       " 'wunknown': 1,\n",
       " 'mixup': True,\n",
       " 'n1': 0}"
      ]
     },
     "execution_count": 18,
     "metadata": {},
     "output_type": "execute_result"
    }
   ],
   "source": [
    "params_feature"
   ]
  },
  {
   "cell_type": "code",
   "execution_count": null,
   "id": "17cd191d",
   "metadata": {},
   "outputs": [],
   "source": []
  },
  {
   "cell_type": "code",
   "execution_count": null,
   "id": "24434998",
   "metadata": {},
   "outputs": [],
   "source": []
  },
  {
   "cell_type": "code",
   "execution_count": null,
   "id": "ee510fdf",
   "metadata": {},
   "outputs": [],
   "source": []
  },
  {
   "cell_type": "code",
   "execution_count": null,
   "id": "dd6457f0",
   "metadata": {},
   "outputs": [],
   "source": []
  },
  {
   "cell_type": "code",
   "execution_count": 19,
   "id": "8b2ff2db",
   "metadata": {
    "scrolled": true
   },
   "outputs": [],
   "source": [
    "with open('/home/jk21/Downloads/Data/features_trn_wav2vec_include_interval_1sec.pickle', 'wb') as f:\n",
    "    pickle.dump(features_trn, f, pickle.HIGHEST_PROTOCOL)"
   ]
  },
  {
   "cell_type": "code",
   "execution_count": 20,
   "id": "b9f7179a",
   "metadata": {
    "scrolled": true
   },
   "outputs": [],
   "source": [
    "with open('/home/jk21/Downloads/Data/features_test_wav2vec_include_interval_1sec.pickle', 'wb') as f:\n",
    "    pickle.dump(features_test, f, pickle.HIGHEST_PROTOCOL)"
   ]
  },
  {
   "cell_type": "code",
   "execution_count": 21,
   "id": "79f59c5e",
   "metadata": {
    "scrolled": true
   },
   "outputs": [],
   "source": [
    "# with open('/home/jk21/Downloads/Data/features_trn_wav2vec_include_interval_4sec.pickle', 'rb') as f:\n",
    "#     features_trn = pickle.load(f)"
   ]
  },
  {
   "cell_type": "code",
   "execution_count": 22,
   "id": "dd412feb",
   "metadata": {},
   "outputs": [],
   "source": [
    "# with open('/home/jk21/Downloads/Data/features_test_wav2vec_include_interval_4sec.pickle', 'rb') as f:\n",
    "#     features_test = pickle.load(f)"
   ]
  },
  {
   "cell_type": "code",
   "execution_count": null,
   "id": "1499b589",
   "metadata": {},
   "outputs": [],
   "source": []
  },
  {
   "cell_type": "code",
   "execution_count": 23,
   "id": "400ceb7b",
   "metadata": {},
   "outputs": [],
   "source": [
    "#################################################"
   ]
  },
  {
   "cell_type": "code",
   "execution_count": 24,
   "id": "ce38e56d",
   "metadata": {},
   "outputs": [],
   "source": []
  },
  {
   "cell_type": "code",
   "execution_count": 19,
   "id": "48ced533",
   "metadata": {
    "scrolled": true
   },
   "outputs": [],
   "source": [
    "tmp_wav2 = np.zeros((features_trn['wav2'].shape[0],128,128,1))\n",
    "for i in range(len(features_trn['wav2'])):\n",
    "    test_ary=features_trn['wav2'][i]\n",
    "    res = resize(test_ary, (128,128,1))\n",
    "    tmp_wav2[i]=res\n",
    "    "
   ]
  },
  {
   "cell_type": "code",
   "execution_count": 20,
   "id": "5c97584d",
   "metadata": {},
   "outputs": [],
   "source": [
    "features_trn['wav2'] = tmp_wav2"
   ]
  },
  {
   "cell_type": "code",
   "execution_count": 21,
   "id": "3663b29c",
   "metadata": {},
   "outputs": [
    {
     "data": {
      "text/plain": [
       "(220, 128, 128, 1)"
      ]
     },
     "execution_count": 21,
     "metadata": {},
     "output_type": "execute_result"
    }
   ],
   "source": [
    "features_trn['wav2'].shape"
   ]
  },
  {
   "cell_type": "code",
   "execution_count": 22,
   "id": "31a6445a",
   "metadata": {},
   "outputs": [],
   "source": [
    "tmp_wav2 = np.zeros((features_test['wav2'].shape[0],128,128,1))\n",
    "for i in range(len(features_test['wav2'])):\n",
    "    test_ary=features_test['wav2'][i]\n",
    "    res = resize(test_ary, (128,128,1))\n",
    "    tmp_wav2[i]=res"
   ]
  },
  {
   "cell_type": "code",
   "execution_count": 23,
   "id": "84a44f20",
   "metadata": {},
   "outputs": [],
   "source": [
    "features_test['wav2'] = tmp_wav2"
   ]
  },
  {
   "cell_type": "code",
   "execution_count": 24,
   "id": "0c6ed279",
   "metadata": {},
   "outputs": [],
   "source": [
    "##################################################"
   ]
  },
  {
   "cell_type": "code",
   "execution_count": 25,
   "id": "6f410772",
   "metadata": {},
   "outputs": [
    {
     "data": {
      "text/plain": [
       "(195, 128, 128, 1)"
      ]
     },
     "execution_count": 25,
     "metadata": {},
     "output_type": "execute_result"
    }
   ],
   "source": [
    "features_test['wav2'].shape"
   ]
  },
  {
   "cell_type": "code",
   "execution_count": null,
   "id": "b3a0769f",
   "metadata": {},
   "outputs": [],
   "source": []
  },
  {
   "cell_type": "code",
   "execution_count": 26,
   "id": "460de784",
   "metadata": {},
   "outputs": [],
   "source": [
    "mel_input_shape = features_trn['mel1'].shape[1:]"
   ]
  },
  {
   "cell_type": "code",
   "execution_count": 27,
   "id": "5d0291cb",
   "metadata": {},
   "outputs": [
    {
     "data": {
      "text/plain": [
       "(120, 313, 1)"
      ]
     },
     "execution_count": 27,
     "metadata": {},
     "output_type": "execute_result"
    }
   ],
   "source": [
    "mel_input_shape"
   ]
  },
  {
   "cell_type": "code",
   "execution_count": 28,
   "id": "ec06d09a",
   "metadata": {},
   "outputs": [],
   "source": [
    "cqt_input_shape = features_trn['cqt1'].shape[1:]"
   ]
  },
  {
   "cell_type": "code",
   "execution_count": 29,
   "id": "31599947",
   "metadata": {},
   "outputs": [
    {
     "data": {
      "text/plain": [
       "(1, 1, 1)"
      ]
     },
     "execution_count": 29,
     "metadata": {},
     "output_type": "execute_result"
    }
   ],
   "source": [
    "cqt_input_shape"
   ]
  },
  {
   "cell_type": "code",
   "execution_count": 30,
   "id": "861213a4",
   "metadata": {},
   "outputs": [],
   "source": [
    "stft_input_shape = features_trn['stft1'].shape[1:]"
   ]
  },
  {
   "cell_type": "code",
   "execution_count": 31,
   "id": "6e151a70",
   "metadata": {},
   "outputs": [
    {
     "data": {
      "text/plain": [
       "(1, 1, 1)"
      ]
     },
     "execution_count": 31,
     "metadata": {},
     "output_type": "execute_result"
    }
   ],
   "source": [
    "stft_input_shape"
   ]
  },
  {
   "cell_type": "code",
   "execution_count": 32,
   "id": "0b7eb1dd",
   "metadata": {},
   "outputs": [],
   "source": [
    "interval_input_shape= features_trn['interval'].shape[1:]"
   ]
  },
  {
   "cell_type": "code",
   "execution_count": 33,
   "id": "6c31f94d",
   "metadata": {
    "scrolled": true
   },
   "outputs": [
    {
     "data": {
      "text/plain": [
       "(115, 1)"
      ]
     },
     "execution_count": 33,
     "metadata": {},
     "output_type": "execute_result"
    }
   ],
   "source": [
    "interval_input_shape"
   ]
  },
  {
   "cell_type": "code",
   "execution_count": 34,
   "id": "c26d851e",
   "metadata": {},
   "outputs": [],
   "source": [
    "wav2_input_shape= features_trn['wav2'].shape[1:]"
   ]
  },
  {
   "cell_type": "code",
   "execution_count": 35,
   "id": "7553a46c",
   "metadata": {},
   "outputs": [
    {
     "data": {
      "text/plain": [
       "(128, 128, 1)"
      ]
     },
     "execution_count": 35,
     "metadata": {},
     "output_type": "execute_result"
    }
   ],
   "source": [
    "wav2_input_shape"
   ]
  },
  {
   "cell_type": "code",
   "execution_count": null,
   "id": "ba197b18",
   "metadata": {},
   "outputs": [],
   "source": []
  },
  {
   "cell_type": "code",
   "execution_count": null,
   "id": "2a10a059",
   "metadata": {},
   "outputs": [],
   "source": []
  },
  {
   "cell_type": "code",
   "execution_count": 36,
   "id": "5ffbed82",
   "metadata": {
    "scrolled": true
   },
   "outputs": [],
   "source": [
    "model1 = get_LCNN_o_4_dr(mel_input_shape, cqt_input_shape, stft_input_shape,interval_input_shape,wav2_input_shape,\n",
    "                         use_wav2=use_wav2, ord1 = ord1,dp = dp, fc = fc, ext = ext)"
   ]
  },
  {
   "cell_type": "code",
   "execution_count": 37,
   "id": "9ccc8685",
   "metadata": {},
   "outputs": [],
   "source": [
    "\n",
    "model2 = get_LCNN_o_4_dr(mel_input_shape, cqt_input_shape, stft_input_shape,interval_input_shape,wav2_input_shape,\n",
    "                         use_mel = use_mel, use_wav2=use_wav2, ord1 = ord1,dp = dp, fc = fc, ext = ext)\n"
   ]
  },
  {
   "cell_type": "code",
   "execution_count": 41,
   "id": "cd3db089",
   "metadata": {},
   "outputs": [],
   "source": [
    "model1.layers[-5].trainable=False"
   ]
  },
  {
   "cell_type": "code",
   "execution_count": 42,
   "id": "fc048e01",
   "metadata": {},
   "outputs": [],
   "source": [
    "model2.layers[-5].trainable=False"
   ]
  },
  {
   "cell_type": "code",
   "execution_count": 40,
   "id": "4e462fa8",
   "metadata": {},
   "outputs": [
    {
     "name": "stdout",
     "output_type": "stream",
     "text": [
      "Model: \"model\"\n",
      "__________________________________________________________________________________________________\n",
      " Layer (type)                   Output Shape         Param #     Connected to                     \n",
      "==================================================================================================\n",
      " mel (InputLayer)               [(None, 120, 313, 1  0           []                               \n",
      "                                )]                                                                \n",
      "                                                                                                  \n",
      " conv2d_1 (Conv2D)              (None, 120, 313, 32  832         ['mel[0][0]']                    \n",
      "                                )                                                                 \n",
      "                                                                                                  \n",
      " conv2d_2 (Conv2D)              (None, 120, 313, 32  832         ['mel[0][0]']                    \n",
      "                                )                                                                 \n",
      "                                                                                                  \n",
      " maximum (Maximum)              (None, 120, 313, 32  0           ['conv2d_1[0][0]',               \n",
      "                                )                                 'conv2d_2[0][0]']               \n",
      "                                                                                                  \n",
      " max_pooling2d (MaxPooling2D)   (None, 60, 157, 32)  0           ['maximum[0][0]']                \n",
      "                                                                                                  \n",
      " conv2d_3 (Conv2D)              (None, 60, 157, 32)  1056        ['max_pooling2d[0][0]']          \n",
      "                                                                                                  \n",
      " conv2d_4 (Conv2D)              (None, 60, 157, 32)  1056        ['max_pooling2d[0][0]']          \n",
      "                                                                                                  \n",
      " maximum_1 (Maximum)            (None, 60, 157, 32)  0           ['conv2d_3[0][0]',               \n",
      "                                                                  'conv2d_4[0][0]']               \n",
      "                                                                                                  \n",
      " interval (InputLayer)          [(None, 115, 1)]     0           []                               \n",
      "                                                                                                  \n",
      " batch_normalization (BatchNorm  (None, 60, 157, 32)  96         ['maximum_1[0][0]']              \n",
      " alization)                                                                                       \n",
      "                                                                                                  \n",
      " conv1d (Conv1D)                (None, 115, 9)       27          ['interval[0][0]']               \n",
      "                                                                                                  \n",
      " conv2d_5 (Conv2D)              (None, 60, 157, 48)  13872       ['batch_normalization[0][0]']    \n",
      "                                                                                                  \n",
      " conv2d_6 (Conv2D)              (None, 60, 157, 48)  13872       ['batch_normalization[0][0]']    \n",
      "                                                                                                  \n",
      " conv1d_1 (Conv1D)              (None, 115, 9)       171         ['conv1d[0][0]']                 \n",
      "                                                                                                  \n",
      " maximum_2 (Maximum)            (None, 60, 157, 48)  0           ['conv2d_5[0][0]',               \n",
      "                                                                  'conv2d_6[0][0]']               \n",
      "                                                                                                  \n",
      " conv1d_2 (Conv1D)              (None, 115, 9)       171         ['conv1d_1[0][0]']               \n",
      "                                                                                                  \n",
      " max_pooling2d_1 (MaxPooling2D)  (None, 30, 79, 48)  0           ['maximum_2[0][0]']              \n",
      "                                                                                                  \n",
      " conv1d_3 (Conv1D)              (None, 115, 9)       171         ['conv1d_2[0][0]']               \n",
      "                                                                                                  \n",
      " batch_normalization_1 (BatchNo  (None, 30, 79, 48)  144         ['max_pooling2d_1[0][0]']        \n",
      " rmalization)                                                                                     \n",
      "                                                                                                  \n",
      " conv1d_4 (Conv1D)              (None, 115, 9)       171         ['conv1d_3[0][0]']               \n",
      "                                                                                                  \n",
      " conv2d_7 (Conv2D)              (None, 30, 79, 48)   2352        ['batch_normalization_1[0][0]']  \n",
      "                                                                                                  \n",
      " conv2d_8 (Conv2D)              (None, 30, 79, 48)   2352        ['batch_normalization_1[0][0]']  \n",
      "                                                                                                  \n",
      " conv1d_5 (Conv1D)              (None, 115, 9)       171         ['conv1d_4[0][0]']               \n",
      "                                                                                                  \n",
      " maximum_3 (Maximum)            (None, 30, 79, 48)   0           ['conv2d_7[0][0]',               \n",
      "                                                                  'conv2d_8[0][0]']               \n",
      "                                                                                                  \n",
      " conv1d_6 (Conv1D)              (None, 115, 9)       171         ['conv1d_5[0][0]']               \n",
      "                                                                                                  \n",
      " batch_normalization_2 (BatchNo  (None, 30, 79, 48)  144         ['maximum_3[0][0]']              \n",
      " rmalization)                                                                                     \n",
      "                                                                                                  \n",
      " conv1d_7 (Conv1D)              (None, 115, 9)       171         ['conv1d_6[0][0]']               \n",
      "                                                                                                  \n",
      " conv2d_9 (Conv2D)              (None, 30, 79, 64)   27712       ['batch_normalization_2[0][0]']  \n",
      "                                                                                                  \n",
      " conv2d_10 (Conv2D)             (None, 30, 79, 64)   27712       ['batch_normalization_2[0][0]']  \n",
      "                                                                                                  \n",
      " conv1d_8 (Conv1D)              (None, 115, 9)       171         ['conv1d_7[0][0]']               \n",
      "                                                                                                  \n",
      " maximum_4 (Maximum)            (None, 30, 79, 64)   0           ['conv2d_9[0][0]',               \n",
      "                                                                  'conv2d_10[0][0]']              \n",
      "                                                                                                  \n",
      " conv1d_9 (Conv1D)              (None, 115, 9)       171         ['conv1d_8[0][0]']               \n",
      "                                                                                                  \n",
      " max_pooling2d_2 (MaxPooling2D)  (None, 15, 40, 64)  0           ['maximum_4[0][0]']              \n",
      "                                                                                                  \n",
      " conv1d_10 (Conv1D)             (None, 115, 9)       171         ['conv1d_9[0][0]']               \n",
      "                                                                                                  \n",
      " conv2d_11 (Conv2D)             (None, 15, 40, 64)   4160        ['max_pooling2d_2[0][0]']        \n"
     ]
    },
    {
     "name": "stdout",
     "output_type": "stream",
     "text": [
      "                                                                                                  \n",
      " conv2d_12 (Conv2D)             (None, 15, 40, 64)   4160        ['max_pooling2d_2[0][0]']        \n",
      "                                                                                                  \n",
      " conv1d_11 (Conv1D)             (None, 115, 9)       171         ['conv1d_10[0][0]']              \n",
      "                                                                                                  \n",
      " maximum_5 (Maximum)            (None, 15, 40, 64)   0           ['conv2d_11[0][0]',              \n",
      "                                                                  'conv2d_12[0][0]']              \n",
      "                                                                                                  \n",
      " conv1d_12 (Conv1D)             (None, 115, 9)       171         ['conv1d_11[0][0]']              \n",
      "                                                                                                  \n",
      " batch_normalization_3 (BatchNo  (None, 15, 40, 64)  192         ['maximum_5[0][0]']              \n",
      " rmalization)                                                                                     \n",
      "                                                                                                  \n",
      " conv1d_13 (Conv1D)             (None, 115, 9)       171         ['conv1d_12[0][0]']              \n",
      "                                                                                                  \n",
      " conv2d_13 (Conv2D)             (None, 15, 40, 32)   18464       ['batch_normalization_3[0][0]']  \n",
      "                                                                                                  \n",
      " conv2d_14 (Conv2D)             (None, 15, 40, 32)   18464       ['batch_normalization_3[0][0]']  \n",
      "                                                                                                  \n",
      " conv1d_14 (Conv1D)             (None, 115, 9)       171         ['conv1d_13[0][0]']              \n",
      "                                                                                                  \n",
      " maximum_6 (Maximum)            (None, 15, 40, 32)   0           ['conv2d_13[0][0]',              \n",
      "                                                                  'conv2d_14[0][0]']              \n",
      "                                                                                                  \n",
      " conv1d_15 (Conv1D)             (None, 115, 9)       171         ['conv1d_14[0][0]']              \n",
      "                                                                                                  \n",
      " batch_normalization_4 (BatchNo  (None, 15, 40, 32)  96          ['maximum_6[0][0]']              \n",
      " rmalization)                                                                                     \n",
      "                                                                                                  \n",
      " conv1d_16 (Conv1D)             (None, 115, 9)       171         ['conv1d_15[0][0]']              \n",
      "                                                                                                  \n",
      " conv2d_15 (Conv2D)             (None, 15, 40, 32)   1056        ['batch_normalization_4[0][0]']  \n",
      "                                                                                                  \n",
      " conv2d_16 (Conv2D)             (None, 15, 40, 32)   1056        ['batch_normalization_4[0][0]']  \n",
      "                                                                                                  \n",
      " conv1d_17 (Conv1D)             (None, 115, 9)       171         ['conv1d_16[0][0]']              \n",
      "                                                                                                  \n",
      " maximum_7 (Maximum)            (None, 15, 40, 32)   0           ['conv2d_15[0][0]',              \n",
      "                                                                  'conv2d_16[0][0]']              \n",
      "                                                                                                  \n",
      " conv1d_18 (Conv1D)             (None, 115, 9)       171         ['conv1d_17[0][0]']              \n",
      "                                                                                                  \n",
      " batch_normalization_5 (BatchNo  (None, 15, 40, 32)  96          ['maximum_7[0][0]']              \n",
      " rmalization)                                                                                     \n",
      "                                                                                                  \n",
      " conv1d_19 (Conv1D)             (None, 115, 9)       171         ['conv1d_18[0][0]']              \n",
      "                                                                                                  \n",
      " conv2d_17 (Conv2D)             (None, 15, 40, 32)   1056        ['batch_normalization_5[0][0]']  \n",
      "                                                                                                  \n",
      " conv2d_18 (Conv2D)             (None, 15, 40, 32)   1056        ['batch_normalization_5[0][0]']  \n",
      "                                                                                                  \n",
      " conv1d_20 (Conv1D)             (None, 115, 9)       171         ['conv1d_19[0][0]']              \n",
      "                                                                                                  \n",
      " maximum_8 (Maximum)            (None, 15, 40, 32)   0           ['conv2d_17[0][0]',              \n",
      "                                                                  'conv2d_18[0][0]']              \n",
      "                                                                                                  \n",
      " age_cat (InputLayer)           [(None, 6)]          0           []                               \n",
      "                                                                                                  \n",
      " sex_cat (InputLayer)           [(None, 2)]          0           []                               \n",
      "                                                                                                  \n",
      " height_weight (InputLayer)     [(None, 2)]          0           []                               \n",
      "                                                                                                  \n",
      " loc (InputLayer)               [(None, 5)]          0           []                               \n",
      "                                                                                                  \n",
      " conv1d_21 (Conv1D)             (None, 115, 9)       171         ['conv1d_20[0][0]']              \n",
      "                                                                                                  \n",
      " max_pooling2d_3 (MaxPooling2D)  (None, 7, 20, 32)   0           ['maximum_8[0][0]']              \n",
      "                                                                                                  \n",
      " dense (Dense)                  (None, 2)            14          ['age_cat[0][0]']                \n",
      "                                                                                                  \n",
      " dense_1 (Dense)                (None, 1)            3           ['sex_cat[0][0]']                \n",
      "                                                                                                  \n",
      " dense_2 (Dense)                (None, 1)            3           ['height_weight[0][0]']          \n",
      "                                                                                                  \n",
      " dense_3 (Dense)                (None, 3)            18          ['loc[0][0]']                    \n",
      "                                                                                                  \n",
      " global_max_pooling1d (GlobalMa  (None, 9)           0           ['conv1d_21[0][0]']              \n",
      " xPooling1D)                                                                                      \n",
      "                                                                                                  \n",
      " is_preg (InputLayer)           [(None, 1)]          0           []                               \n",
      "                                                                                                  \n",
      " wav2 (InputLayer)              [(None, 128, 128, 1  0           []                               \n",
      "                                )]                                                                \n"
     ]
    },
    {
     "name": "stdout",
     "output_type": "stream",
     "text": [
      "                                                                                                  \n",
      " global_average_pooling2d_1 (Gl  (None, 32)          0           ['max_pooling2d_3[0][0]']        \n",
      " obalAveragePooling2D)                                                                            \n",
      "                                                                                                  \n",
      " concatenate (Concatenate)      (None, 17)           0           ['dense[0][0]',                  \n",
      "                                                                  'dense_1[0][0]',                \n",
      "                                                                  'dense_2[0][0]',                \n",
      "                                                                  'dense_3[0][0]',                \n",
      "                                                                  'global_max_pooling1d[0][0]',   \n",
      "                                                                  'is_preg[0][0]']                \n",
      "                                                                                                  \n",
      " conv2d (Conv2D)                (None, 128, 128, 3)  30          ['wav2[0][0]']                   \n",
      "                                                                                                  \n",
      " dropout_54 (Dropout)           (None, 32)           0           ['global_average_pooling2d_1[0][0\n",
      "                                                                 ]']                              \n",
      "                                                                                                  \n",
      " dense_4 (Dense)                (None, 10)           180         ['concatenate[0][0]']            \n",
      "                                                                                                  \n",
      " mobilenetv2_1.00_128 (Function  (None, 1280)        2257984     ['conv2d[0][0]']                 \n",
      " al)                                                                                              \n",
      "                                                                                                  \n",
      " concatenate_1 (Concatenate)    (None, 1322)         0           ['dropout_54[0][0]',             \n",
      "                                                                  'dense_4[0][0]',                \n",
      "                                                                  'mobilenetv2_1.00_128[0][0]']   \n",
      "                                                                                                  \n",
      " stft (InputLayer)              [(None, 1, 1, 1)]    0           []                               \n",
      "                                                                                                  \n",
      " cqt (InputLayer)               [(None, 1, 1, 1)]    0           []                               \n",
      "                                                                                                  \n",
      " dense_5 (Dense)                (None, 2)            2646        ['concatenate_1[0][0]']          \n",
      "                                                                                                  \n",
      "==================================================================================================\n",
      "Total params: 2,406,384\n",
      "Trainable params: 147,888\n",
      "Non-trainable params: 2,258,496\n",
      "__________________________________________________________________________________________________\n"
     ]
    }
   ],
   "source": [
    "model1.summary()"
   ]
  },
  {
   "cell_type": "code",
   "execution_count": 43,
   "id": "8d2279ce",
   "metadata": {
    "scrolled": true
   },
   "outputs": [
    {
     "name": "stdout",
     "output_type": "stream",
     "text": [
      "Model: \"model_1\"\n",
      "__________________________________________________________________________________________________\n",
      " Layer (type)                   Output Shape         Param #     Connected to                     \n",
      "==================================================================================================\n",
      " mel (InputLayer)               [(None, 120, 313, 1  0           []                               \n",
      "                                )]                                                                \n",
      "                                                                                                  \n",
      " conv2d_20 (Conv2D)             (None, 120, 313, 32  832         ['mel[0][0]']                    \n",
      "                                )                                                                 \n",
      "                                                                                                  \n",
      " conv2d_21 (Conv2D)             (None, 120, 313, 32  832         ['mel[0][0]']                    \n",
      "                                )                                                                 \n",
      "                                                                                                  \n",
      " maximum_9 (Maximum)            (None, 120, 313, 32  0           ['conv2d_20[0][0]',              \n",
      "                                )                                 'conv2d_21[0][0]']              \n",
      "                                                                                                  \n",
      " max_pooling2d_4 (MaxPooling2D)  (None, 60, 157, 32)  0          ['maximum_9[0][0]']              \n",
      "                                                                                                  \n",
      " conv2d_22 (Conv2D)             (None, 60, 157, 32)  1056        ['max_pooling2d_4[0][0]']        \n",
      "                                                                                                  \n",
      " conv2d_23 (Conv2D)             (None, 60, 157, 32)  1056        ['max_pooling2d_4[0][0]']        \n",
      "                                                                                                  \n",
      " maximum_10 (Maximum)           (None, 60, 157, 32)  0           ['conv2d_22[0][0]',              \n",
      "                                                                  'conv2d_23[0][0]']              \n",
      "                                                                                                  \n",
      " interval (InputLayer)          [(None, 115, 1)]     0           []                               \n",
      "                                                                                                  \n",
      " batch_normalization_6 (BatchNo  (None, 60, 157, 32)  96         ['maximum_10[0][0]']             \n",
      " rmalization)                                                                                     \n",
      "                                                                                                  \n",
      " conv1d_22 (Conv1D)             (None, 115, 9)       27          ['interval[0][0]']               \n",
      "                                                                                                  \n",
      " conv2d_24 (Conv2D)             (None, 60, 157, 48)  13872       ['batch_normalization_6[0][0]']  \n",
      "                                                                                                  \n",
      " conv2d_25 (Conv2D)             (None, 60, 157, 48)  13872       ['batch_normalization_6[0][0]']  \n",
      "                                                                                                  \n",
      " conv1d_23 (Conv1D)             (None, 115, 9)       171         ['conv1d_22[0][0]']              \n",
      "                                                                                                  \n",
      " maximum_11 (Maximum)           (None, 60, 157, 48)  0           ['conv2d_24[0][0]',              \n",
      "                                                                  'conv2d_25[0][0]']              \n",
      "                                                                                                  \n",
      " conv1d_24 (Conv1D)             (None, 115, 9)       171         ['conv1d_23[0][0]']              \n",
      "                                                                                                  \n",
      " max_pooling2d_5 (MaxPooling2D)  (None, 30, 79, 48)  0           ['maximum_11[0][0]']             \n",
      "                                                                                                  \n",
      " conv1d_25 (Conv1D)             (None, 115, 9)       171         ['conv1d_24[0][0]']              \n",
      "                                                                                                  \n",
      " batch_normalization_7 (BatchNo  (None, 30, 79, 48)  144         ['max_pooling2d_5[0][0]']        \n",
      " rmalization)                                                                                     \n",
      "                                                                                                  \n",
      " conv1d_26 (Conv1D)             (None, 115, 9)       171         ['conv1d_25[0][0]']              \n",
      "                                                                                                  \n",
      " conv2d_26 (Conv2D)             (None, 30, 79, 48)   2352        ['batch_normalization_7[0][0]']  \n",
      "                                                                                                  \n",
      " conv2d_27 (Conv2D)             (None, 30, 79, 48)   2352        ['batch_normalization_7[0][0]']  \n",
      "                                                                                                  \n",
      " conv1d_27 (Conv1D)             (None, 115, 9)       171         ['conv1d_26[0][0]']              \n",
      "                                                                                                  \n",
      " maximum_12 (Maximum)           (None, 30, 79, 48)   0           ['conv2d_26[0][0]',              \n",
      "                                                                  'conv2d_27[0][0]']              \n",
      "                                                                                                  \n",
      " conv1d_28 (Conv1D)             (None, 115, 9)       171         ['conv1d_27[0][0]']              \n",
      "                                                                                                  \n",
      " batch_normalization_8 (BatchNo  (None, 30, 79, 48)  144         ['maximum_12[0][0]']             \n",
      " rmalization)                                                                                     \n",
      "                                                                                                  \n",
      " conv1d_29 (Conv1D)             (None, 115, 9)       171         ['conv1d_28[0][0]']              \n",
      "                                                                                                  \n",
      " conv2d_28 (Conv2D)             (None, 30, 79, 64)   27712       ['batch_normalization_8[0][0]']  \n",
      "                                                                                                  \n",
      " conv2d_29 (Conv2D)             (None, 30, 79, 64)   27712       ['batch_normalization_8[0][0]']  \n",
      "                                                                                                  \n",
      " conv1d_30 (Conv1D)             (None, 115, 9)       171         ['conv1d_29[0][0]']              \n",
      "                                                                                                  \n",
      " maximum_13 (Maximum)           (None, 30, 79, 64)   0           ['conv2d_28[0][0]',              \n",
      "                                                                  'conv2d_29[0][0]']              \n",
      "                                                                                                  \n",
      " conv1d_31 (Conv1D)             (None, 115, 9)       171         ['conv1d_30[0][0]']              \n",
      "                                                                                                  \n",
      " max_pooling2d_6 (MaxPooling2D)  (None, 15, 40, 64)  0           ['maximum_13[0][0]']             \n",
      "                                                                                                  \n",
      " conv1d_32 (Conv1D)             (None, 115, 9)       171         ['conv1d_31[0][0]']              \n",
      "                                                                                                  \n",
      " conv2d_30 (Conv2D)             (None, 15, 40, 64)   4160        ['max_pooling2d_6[0][0]']        \n"
     ]
    },
    {
     "name": "stdout",
     "output_type": "stream",
     "text": [
      "                                                                                                  \n",
      " conv2d_31 (Conv2D)             (None, 15, 40, 64)   4160        ['max_pooling2d_6[0][0]']        \n",
      "                                                                                                  \n",
      " conv1d_33 (Conv1D)             (None, 115, 9)       171         ['conv1d_32[0][0]']              \n",
      "                                                                                                  \n",
      " maximum_14 (Maximum)           (None, 15, 40, 64)   0           ['conv2d_30[0][0]',              \n",
      "                                                                  'conv2d_31[0][0]']              \n",
      "                                                                                                  \n",
      " conv1d_34 (Conv1D)             (None, 115, 9)       171         ['conv1d_33[0][0]']              \n",
      "                                                                                                  \n",
      " batch_normalization_9 (BatchNo  (None, 15, 40, 64)  192         ['maximum_14[0][0]']             \n",
      " rmalization)                                                                                     \n",
      "                                                                                                  \n",
      " conv1d_35 (Conv1D)             (None, 115, 9)       171         ['conv1d_34[0][0]']              \n",
      "                                                                                                  \n",
      " conv2d_32 (Conv2D)             (None, 15, 40, 32)   18464       ['batch_normalization_9[0][0]']  \n",
      "                                                                                                  \n",
      " conv2d_33 (Conv2D)             (None, 15, 40, 32)   18464       ['batch_normalization_9[0][0]']  \n",
      "                                                                                                  \n",
      " conv1d_36 (Conv1D)             (None, 115, 9)       171         ['conv1d_35[0][0]']              \n",
      "                                                                                                  \n",
      " maximum_15 (Maximum)           (None, 15, 40, 32)   0           ['conv2d_32[0][0]',              \n",
      "                                                                  'conv2d_33[0][0]']              \n",
      "                                                                                                  \n",
      " conv1d_37 (Conv1D)             (None, 115, 9)       171         ['conv1d_36[0][0]']              \n",
      "                                                                                                  \n",
      " batch_normalization_10 (BatchN  (None, 15, 40, 32)  96          ['maximum_15[0][0]']             \n",
      " ormalization)                                                                                    \n",
      "                                                                                                  \n",
      " conv1d_38 (Conv1D)             (None, 115, 9)       171         ['conv1d_37[0][0]']              \n",
      "                                                                                                  \n",
      " conv2d_34 (Conv2D)             (None, 15, 40, 32)   1056        ['batch_normalization_10[0][0]'] \n",
      "                                                                                                  \n",
      " conv2d_35 (Conv2D)             (None, 15, 40, 32)   1056        ['batch_normalization_10[0][0]'] \n",
      "                                                                                                  \n",
      " conv1d_39 (Conv1D)             (None, 115, 9)       171         ['conv1d_38[0][0]']              \n",
      "                                                                                                  \n",
      " maximum_16 (Maximum)           (None, 15, 40, 32)   0           ['conv2d_34[0][0]',              \n",
      "                                                                  'conv2d_35[0][0]']              \n",
      "                                                                                                  \n",
      " conv1d_40 (Conv1D)             (None, 115, 9)       171         ['conv1d_39[0][0]']              \n",
      "                                                                                                  \n",
      " batch_normalization_11 (BatchN  (None, 15, 40, 32)  96          ['maximum_16[0][0]']             \n",
      " ormalization)                                                                                    \n",
      "                                                                                                  \n",
      " conv1d_41 (Conv1D)             (None, 115, 9)       171         ['conv1d_40[0][0]']              \n",
      "                                                                                                  \n",
      " conv2d_36 (Conv2D)             (None, 15, 40, 32)   1056        ['batch_normalization_11[0][0]'] \n",
      "                                                                                                  \n",
      " conv2d_37 (Conv2D)             (None, 15, 40, 32)   1056        ['batch_normalization_11[0][0]'] \n",
      "                                                                                                  \n",
      " conv1d_42 (Conv1D)             (None, 115, 9)       171         ['conv1d_41[0][0]']              \n",
      "                                                                                                  \n",
      " maximum_17 (Maximum)           (None, 15, 40, 32)   0           ['conv2d_36[0][0]',              \n",
      "                                                                  'conv2d_37[0][0]']              \n",
      "                                                                                                  \n",
      " age_cat (InputLayer)           [(None, 6)]          0           []                               \n",
      "                                                                                                  \n",
      " sex_cat (InputLayer)           [(None, 2)]          0           []                               \n",
      "                                                                                                  \n",
      " height_weight (InputLayer)     [(None, 2)]          0           []                               \n",
      "                                                                                                  \n",
      " loc (InputLayer)               [(None, 5)]          0           []                               \n",
      "                                                                                                  \n",
      " conv1d_43 (Conv1D)             (None, 115, 9)       171         ['conv1d_42[0][0]']              \n",
      "                                                                                                  \n",
      " max_pooling2d_7 (MaxPooling2D)  (None, 7, 20, 32)   0           ['maximum_17[0][0]']             \n",
      "                                                                                                  \n",
      " dense_6 (Dense)                (None, 2)            14          ['age_cat[0][0]']                \n",
      "                                                                                                  \n",
      " dense_7 (Dense)                (None, 1)            3           ['sex_cat[0][0]']                \n",
      "                                                                                                  \n",
      " dense_8 (Dense)                (None, 1)            3           ['height_weight[0][0]']          \n",
      "                                                                                                  \n",
      " dense_9 (Dense)                (None, 3)            18          ['loc[0][0]']                    \n",
      "                                                                                                  \n",
      " global_max_pooling1d_1 (Global  (None, 9)           0           ['conv1d_43[0][0]']              \n",
      " MaxPooling1D)                                                                                    \n",
      "                                                                                                  \n",
      " is_preg (InputLayer)           [(None, 1)]          0           []                               \n",
      "                                                                                                  \n",
      " wav2 (InputLayer)              [(None, 128, 128, 1  0           []                               \n",
      "                                )]                                                                \n"
     ]
    },
    {
     "name": "stdout",
     "output_type": "stream",
     "text": [
      "                                                                                                  \n",
      " global_average_pooling2d_3 (Gl  (None, 32)          0           ['max_pooling2d_7[0][0]']        \n",
      " obalAveragePooling2D)                                                                            \n",
      "                                                                                                  \n",
      " concatenate_2 (Concatenate)    (None, 17)           0           ['dense_6[0][0]',                \n",
      "                                                                  'dense_7[0][0]',                \n",
      "                                                                  'dense_8[0][0]',                \n",
      "                                                                  'dense_9[0][0]',                \n",
      "                                                                  'global_max_pooling1d_1[0][0]', \n",
      "                                                                  'is_preg[0][0]']                \n",
      "                                                                                                  \n",
      " conv2d_19 (Conv2D)             (None, 128, 128, 3)  30          ['wav2[0][0]']                   \n",
      "                                                                                                  \n",
      " dropout_55 (Dropout)           (None, 32)           0           ['global_average_pooling2d_3[0][0\n",
      "                                                                 ]']                              \n",
      "                                                                                                  \n",
      " dense_10 (Dense)               (None, 10)           180         ['concatenate_2[0][0]']          \n",
      "                                                                                                  \n",
      " mobilenetv2_1.00_128 (Function  (None, 1280)        2257984     ['conv2d_19[0][0]']              \n",
      " al)                                                                                              \n",
      "                                                                                                  \n",
      " concatenate_3 (Concatenate)    (None, 1322)         0           ['dropout_55[0][0]',             \n",
      "                                                                  'dense_10[0][0]',               \n",
      "                                                                  'mobilenetv2_1.00_128[0][0]']   \n",
      "                                                                                                  \n",
      " stft (InputLayer)              [(None, 1, 1, 1)]    0           []                               \n",
      "                                                                                                  \n",
      " cqt (InputLayer)               [(None, 1, 1, 1)]    0           []                               \n",
      "                                                                                                  \n",
      " dense_11 (Dense)               (None, 2)            2646        ['concatenate_3[0][0]']          \n",
      "                                                                                                  \n",
      "==================================================================================================\n",
      "Total params: 2,406,384\n",
      "Trainable params: 147,888\n",
      "Non-trainable params: 2,258,496\n",
      "__________________________________________________________________________________________________\n"
     ]
    }
   ],
   "source": [
    "model2.summary()"
   ]
  },
  {
   "cell_type": "code",
   "execution_count": null,
   "id": "aec82b08",
   "metadata": {},
   "outputs": [],
   "source": []
  },
  {
   "cell_type": "code",
   "execution_count": null,
   "id": "e7a9ac6a",
   "metadata": {},
   "outputs": [],
   "source": []
  },
  {
   "cell_type": "code",
   "execution_count": 44,
   "id": "57a145f2",
   "metadata": {
    "scrolled": false
   },
   "outputs": [
    {
     "name": "stdout",
     "output_type": "stream",
     "text": [
      "Epoch 1/100\n",
      "4/4 [==============================] - 9s 799ms/step - loss: 2.9658 - accuracy: 0.5078 - auc: 0.5179 - val_loss: 4.1815 - val_accuracy: 0.1590 - val_auc: 0.1556 - lr: 9.9851e-04\n",
      "Epoch 2/100\n",
      "4/4 [==============================] - 1s 185ms/step - loss: 2.3080 - accuracy: 0.3945 - auc: 0.3828 - val_loss: 5.3254 - val_accuracy: 0.1590 - val_auc: 0.1751 - lr: 9.9831e-04\n",
      "Epoch 3/100\n",
      "4/4 [==============================] - 1s 193ms/step - loss: 2.0858 - accuracy: 0.4648 - auc: 0.3936 - val_loss: 5.6702 - val_accuracy: 0.1590 - val_auc: 0.1855 - lr: 9.9807e-04\n",
      "Epoch 4/100\n",
      "4/4 [==============================] - 1s 184ms/step - loss: 2.0303 - accuracy: 0.4414 - auc: 0.4583 - val_loss: 6.2455 - val_accuracy: 0.1590 - val_auc: 0.1708 - lr: 9.9781e-04\n",
      "Epoch 5/100\n",
      "4/4 [==============================] - 1s 188ms/step - loss: 1.8927 - accuracy: 0.5078 - auc: 0.4689 - val_loss: 10.1777 - val_accuracy: 0.1590 - val_auc: 0.1624 - lr: 9.9750e-04\n",
      "Epoch 6/100\n",
      "4/4 [==============================] - 1s 187ms/step - loss: 1.8081 - accuracy: 0.4453 - auc: 0.4477 - val_loss: 7.8076 - val_accuracy: 0.1590 - val_auc: 0.1624 - lr: 9.9716e-04\n",
      "Epoch 7/100\n",
      "4/4 [==============================] - 1s 191ms/step - loss: 1.5868 - accuracy: 0.5039 - auc: 0.5392 - val_loss: 5.3156 - val_accuracy: 0.1590 - val_auc: 0.1767 - lr: 9.9676e-04\n",
      "Epoch 8/100\n",
      "4/4 [==============================] - 1s 189ms/step - loss: 1.5892 - accuracy: 0.5000 - auc: 0.5478 - val_loss: 4.3514 - val_accuracy: 0.1590 - val_auc: 0.1541 - lr: 9.9632e-04\n",
      "Epoch 9/100\n",
      "4/4 [==============================] - 1s 189ms/step - loss: 1.4250 - accuracy: 0.3711 - auc: 0.3829 - val_loss: 3.1562 - val_accuracy: 0.1590 - val_auc: 0.1617 - lr: 9.9581e-04\n",
      "Epoch 10/100\n",
      "4/4 [==============================] - 1s 183ms/step - loss: 1.2713 - accuracy: 0.4805 - auc: 0.5214 - val_loss: 2.6334 - val_accuracy: 0.1590 - val_auc: 0.1448 - lr: 9.9523e-04\n",
      "Epoch 11/100\n",
      "4/4 [==============================] - 1s 187ms/step - loss: 1.2530 - accuracy: 0.4609 - auc: 0.4817 - val_loss: 2.2717 - val_accuracy: 0.1590 - val_auc: 0.1427 - lr: 9.9457e-04\n",
      "Epoch 12/100\n",
      "4/4 [==============================] - 1s 283ms/step - loss: 1.1399 - accuracy: 0.5469 - auc: 0.5214 - val_loss: 1.0523 - val_accuracy: 0.1641 - val_auc: 0.1763 - lr: 9.9382e-04\n",
      "Epoch 13/100\n",
      "4/4 [==============================] - 1s 277ms/step - loss: 1.1779 - accuracy: 0.5195 - auc: 0.5400 - val_loss: 0.5246 - val_accuracy: 0.7949 - val_auc: 0.8718 - lr: 9.9297e-04\n",
      "Epoch 14/100\n",
      "4/4 [==============================] - 1s 297ms/step - loss: 1.2307 - accuracy: 0.4727 - auc: 0.4625 - val_loss: 0.4351 - val_accuracy: 0.8410 - val_auc: 0.8892 - lr: 9.9200e-04\n",
      "Epoch 15/100\n",
      "4/4 [==============================] - 1s 185ms/step - loss: 1.2281 - accuracy: 0.5391 - auc: 0.5475 - val_loss: 0.4786 - val_accuracy: 0.8410 - val_auc: 0.8858 - lr: 9.9090e-04\n",
      "Epoch 16/100\n",
      "4/4 [==============================] - 1s 190ms/step - loss: 1.1664 - accuracy: 0.4531 - auc: 0.4750 - val_loss: 0.4352 - val_accuracy: 0.8410 - val_auc: 0.8847 - lr: 9.8965e-04\n",
      "Epoch 17/100\n",
      "4/4 [==============================] - 1s 190ms/step - loss: 1.1809 - accuracy: 0.3867 - auc: 0.4453 - val_loss: 0.4202 - val_accuracy: 0.8410 - val_auc: 0.8933 - lr: 9.8823e-04\n",
      "Epoch 18/100\n",
      "4/4 [==============================] - 1s 189ms/step - loss: 1.1633 - accuracy: 0.5391 - auc: 0.6188 - val_loss: 0.5092 - val_accuracy: 0.8410 - val_auc: 0.8931 - lr: 9.8662e-04\n",
      "Epoch 19/100\n",
      "4/4 [==============================] - 1s 186ms/step - loss: 1.1961 - accuracy: 0.5547 - auc: 0.6224 - val_loss: 0.4261 - val_accuracy: 0.8410 - val_auc: 0.8771 - lr: 9.8479e-04\n",
      "Epoch 20/100\n",
      "4/4 [==============================] - 1s 188ms/step - loss: 1.1480 - accuracy: 0.3906 - auc: 0.4725 - val_loss: 0.4803 - val_accuracy: 0.8410 - val_auc: 0.8922 - lr: 9.8271e-04\n",
      "Epoch 21/100\n",
      "4/4 [==============================] - 1s 185ms/step - loss: 1.1436 - accuracy: 0.5703 - auc: 0.6269 - val_loss: 0.5739 - val_accuracy: 0.8410 - val_auc: 0.8935 - lr: 9.8036e-04\n",
      "Epoch 22/100\n",
      "4/4 [==============================] - 1s 190ms/step - loss: 1.1013 - accuracy: 0.5781 - auc: 0.6259 - val_loss: 0.5150 - val_accuracy: 0.8410 - val_auc: 0.8943 - lr: 9.7769e-04\n",
      "Epoch 23/100\n",
      "4/4 [==============================] - 1s 189ms/step - loss: 1.2049 - accuracy: 0.5312 - auc: 0.5551 - val_loss: 0.4259 - val_accuracy: 0.8410 - val_auc: 0.8873 - lr: 9.7468e-04\n",
      "Epoch 24/100\n",
      "4/4 [==============================] - 1s 185ms/step - loss: 1.1355 - accuracy: 0.5039 - auc: 0.5840 - val_loss: 0.4542 - val_accuracy: 0.8359 - val_auc: 0.8676 - lr: 9.7126e-04\n",
      "Epoch 25/100\n",
      "4/4 [==============================] - 1s 189ms/step - loss: 1.1072 - accuracy: 0.5898 - auc: 0.6574 - val_loss: 0.4310 - val_accuracy: 0.8410 - val_auc: 0.8739 - lr: 9.6740e-04\n",
      "Epoch 26/100\n",
      "4/4 [==============================] - 1s 188ms/step - loss: 1.1587 - accuracy: 0.5508 - auc: 0.6310 - val_loss: 0.5968 - val_accuracy: 0.7487 - val_auc: 0.8036 - lr: 9.6305e-04\n",
      "Epoch 27/100\n",
      "4/4 [==============================] - 1s 190ms/step - loss: 1.1933 - accuracy: 0.5039 - auc: 0.5717 - val_loss: 0.5570 - val_accuracy: 0.8051 - val_auc: 0.8309 - lr: 9.5813e-04\n",
      "Epoch 28/100\n",
      "4/4 [==============================] - 1s 189ms/step - loss: 1.0999 - accuracy: 0.5859 - auc: 0.6521 - val_loss: 0.5810 - val_accuracy: 0.7538 - val_auc: 0.8000 - lr: 9.5260e-04\n",
      "Epoch 29/100\n",
      "4/4 [==============================] - 1s 188ms/step - loss: 1.1274 - accuracy: 0.5586 - auc: 0.6515 - val_loss: 0.9672 - val_accuracy: 0.1897 - val_auc: 0.1663 - lr: 9.4637e-04\n",
      "Epoch 30/100\n",
      "4/4 [==============================] - 1s 188ms/step - loss: 1.1051 - accuracy: 0.4609 - auc: 0.5483 - val_loss: 1.1842 - val_accuracy: 0.1590 - val_auc: 0.1719 - lr: 9.3939e-04\n",
      "Epoch 31/100\n",
      "4/4 [==============================] - 1s 187ms/step - loss: 1.1545 - accuracy: 0.5742 - auc: 0.6601 - val_loss: 0.9745 - val_accuracy: 0.1795 - val_auc: 0.2022 - lr: 9.3155e-04\n",
      "Epoch 32/100\n",
      "4/4 [==============================] - 1s 188ms/step - loss: 1.1743 - accuracy: 0.5234 - auc: 0.5999 - val_loss: 0.6802 - val_accuracy: 0.6000 - val_auc: 0.6062 - lr: 9.2279e-04\n",
      "Epoch 33/100\n",
      "4/4 [==============================] - 1s 193ms/step - loss: 1.1052 - accuracy: 0.5781 - auc: 0.5877 - val_loss: 0.4550 - val_accuracy: 0.8256 - val_auc: 0.8896 - lr: 9.1301e-04\n",
      "Epoch 34/100\n",
      "4/4 [==============================] - 1s 187ms/step - loss: 1.0849 - accuracy: 0.6250 - auc: 0.7714 - val_loss: 0.4571 - val_accuracy: 0.8205 - val_auc: 0.8653 - lr: 9.0213e-04\n",
      "Epoch 35/100\n",
      "4/4 [==============================] - 1s 188ms/step - loss: 1.1541 - accuracy: 0.5664 - auc: 0.6585 - val_loss: 0.4515 - val_accuracy: 0.8308 - val_auc: 0.8609 - lr: 8.9005e-04\n",
      "Epoch 36/100\n",
      "4/4 [==============================] - 1s 188ms/step - loss: 1.1663 - accuracy: 0.5391 - auc: 0.6115 - val_loss: 0.4540 - val_accuracy: 0.8308 - val_auc: 0.8679 - lr: 8.7669e-04\n",
      "Epoch 37/100\n",
      "4/4 [==============================] - 1s 189ms/step - loss: 1.1423 - accuracy: 0.6289 - auc: 0.6927 - val_loss: 0.6611 - val_accuracy: 0.6359 - val_auc: 0.6659 - lr: 8.6196e-04\n",
      "Epoch 38/100\n",
      "4/4 [==============================] - 1s 190ms/step - loss: 1.1481 - accuracy: 0.6094 - auc: 0.6331 - val_loss: 1.0461 - val_accuracy: 0.1590 - val_auc: 0.1827 - lr: 8.4578e-04\n",
      "Epoch 39/100\n",
      "4/4 [==============================] - 1s 190ms/step - loss: 1.0948 - accuracy: 0.6055 - auc: 0.6447 - val_loss: 0.8341 - val_accuracy: 0.2564 - val_auc: 0.2290 - lr: 8.2809e-04\n",
      "Epoch 40/100\n",
      "4/4 [==============================] - 1s 184ms/step - loss: 1.1413 - accuracy: 0.6133 - auc: 0.6848 - val_loss: 0.6508 - val_accuracy: 0.6513 - val_auc: 0.6959 - lr: 8.0883e-04\n",
      "Epoch 41/100\n",
      "4/4 [==============================] - 1s 294ms/step - loss: 1.1677 - accuracy: 0.5508 - auc: 0.5931 - val_loss: 0.5324 - val_accuracy: 0.8513 - val_auc: 0.8800 - lr: 7.8798e-04\n",
      "Epoch 42/100\n",
      "4/4 [==============================] - 1s 191ms/step - loss: 1.0778 - accuracy: 0.5117 - auc: 0.6054 - val_loss: 0.4223 - val_accuracy: 0.8462 - val_auc: 0.9019 - lr: 7.6551e-04\n",
      "Epoch 43/100\n",
      "4/4 [==============================] - 1s 186ms/step - loss: 1.1212 - accuracy: 0.6406 - auc: 0.7315 - val_loss: 0.4221 - val_accuracy: 0.8410 - val_auc: 0.8945 - lr: 7.4146e-04\n"
     ]
    },
    {
     "name": "stdout",
     "output_type": "stream",
     "text": [
      "Epoch 44/100\n",
      "4/4 [==============================] - 1s 190ms/step - loss: 1.1438 - accuracy: 0.6016 - auc: 0.6412 - val_loss: 0.4869 - val_accuracy: 0.8462 - val_auc: 0.8583 - lr: 7.1587e-04\n",
      "Epoch 45/100\n",
      "4/4 [==============================] - 1s 191ms/step - loss: 1.0192 - accuracy: 0.5859 - auc: 0.6512 - val_loss: 0.5100 - val_accuracy: 0.8359 - val_auc: 0.8450 - lr: 6.8882e-04\n",
      "Epoch 46/100\n",
      "4/4 [==============================] - 1s 190ms/step - loss: 1.1663 - accuracy: 0.5391 - auc: 0.6023 - val_loss: 0.4824 - val_accuracy: 0.8462 - val_auc: 0.8442 - lr: 6.6044e-04\n",
      "Epoch 47/100\n",
      "4/4 [==============================] - 1s 185ms/step - loss: 1.0861 - accuracy: 0.6172 - auc: 0.7170 - val_loss: 0.4726 - val_accuracy: 0.8410 - val_auc: 0.8327 - lr: 6.3088e-04\n",
      "Epoch 48/100\n",
      "4/4 [==============================] - 1s 187ms/step - loss: 1.1283 - accuracy: 0.6133 - auc: 0.7438 - val_loss: 0.4726 - val_accuracy: 0.8410 - val_auc: 0.8353 - lr: 6.0032e-04\n",
      "Epoch 49/100\n",
      "4/4 [==============================] - 1s 185ms/step - loss: 1.0635 - accuracy: 0.6094 - auc: 0.6609 - val_loss: 0.4670 - val_accuracy: 0.8410 - val_auc: 0.8455 - lr: 5.6899e-04\n",
      "Epoch 50/100\n",
      "4/4 [==============================] - 1s 186ms/step - loss: 1.0602 - accuracy: 0.6289 - auc: 0.7431 - val_loss: 0.4548 - val_accuracy: 0.8410 - val_auc: 0.8598 - lr: 5.3713e-04\n",
      "Epoch 51/100\n",
      "4/4 [==============================] - 1s 186ms/step - loss: 1.1154 - accuracy: 0.6680 - auc: 0.7519 - val_loss: 0.4458 - val_accuracy: 0.8410 - val_auc: 0.8675 - lr: 5.0500e-04\n",
      "Epoch 52/100\n",
      "4/4 [==============================] - 1s 187ms/step - loss: 1.1169 - accuracy: 0.6914 - auc: 0.7877 - val_loss: 0.4430 - val_accuracy: 0.8410 - val_auc: 0.8686 - lr: 4.7287e-04\n",
      "Epoch 53/100\n",
      "4/4 [==============================] - 1s 186ms/step - loss: 1.1070 - accuracy: 0.6016 - auc: 0.6766 - val_loss: 0.4507 - val_accuracy: 0.8410 - val_auc: 0.8615 - lr: 4.4101e-04\n",
      "Epoch 54/100\n",
      "4/4 [==============================] - 1s 202ms/step - loss: 1.1363 - accuracy: 0.5820 - auc: 0.6586 - val_loss: 0.4500 - val_accuracy: 0.8410 - val_auc: 0.8604 - lr: 4.0968e-04\n",
      "Epoch 55/100\n",
      "4/4 [==============================] - 1s 199ms/step - loss: 1.0979 - accuracy: 0.6172 - auc: 0.6685 - val_loss: 0.4314 - val_accuracy: 0.8410 - val_auc: 0.8769 - lr: 3.7912e-04\n",
      "Epoch 56/100\n",
      "4/4 [==============================] - 1s 202ms/step - loss: 1.0577 - accuracy: 0.6055 - auc: 0.7126 - val_loss: 0.4138 - val_accuracy: 0.8410 - val_auc: 0.8942 - lr: 3.4956e-04\n",
      "Epoch 57/100\n",
      "4/4 [==============================] - 1s 202ms/step - loss: 1.0791 - accuracy: 0.7188 - auc: 0.7361 - val_loss: 0.4040 - val_accuracy: 0.8462 - val_auc: 0.9027 - lr: 3.2118e-04\n",
      "Epoch 58/100\n",
      "4/4 [==============================] - 1s 198ms/step - loss: 1.0791 - accuracy: 0.7031 - auc: 0.7584 - val_loss: 0.3931 - val_accuracy: 0.8513 - val_auc: 0.9082 - lr: 2.9413e-04\n",
      "Epoch 59/100\n",
      "4/4 [==============================] - 1s 192ms/step - loss: 1.0413 - accuracy: 0.6914 - auc: 0.7290 - val_loss: 0.3883 - val_accuracy: 0.8513 - val_auc: 0.9105 - lr: 2.6854e-04\n",
      "Epoch 60/100\n",
      "4/4 [==============================] - 1s 187ms/step - loss: 1.0790 - accuracy: 0.6953 - auc: 0.7689 - val_loss: 0.3924 - val_accuracy: 0.8513 - val_auc: 0.9080 - lr: 2.4449e-04\n",
      "Epoch 61/100\n",
      "4/4 [==============================] - 1s 328ms/step - loss: 0.9992 - accuracy: 0.7109 - auc: 0.7842 - val_loss: 0.3933 - val_accuracy: 0.8615 - val_auc: 0.9075 - lr: 2.2202e-04\n",
      "Epoch 62/100\n",
      "4/4 [==============================] - 1s 287ms/step - loss: 1.0894 - accuracy: 0.6641 - auc: 0.7506 - val_loss: 0.4265 - val_accuracy: 0.8769 - val_auc: 0.9027 - lr: 2.0117e-04\n",
      "Epoch 63/100\n",
      "4/4 [==============================] - 1s 190ms/step - loss: 1.0838 - accuracy: 0.7422 - auc: 0.7613 - val_loss: 0.5374 - val_accuracy: 0.8513 - val_auc: 0.8779 - lr: 1.8191e-04\n",
      "Epoch 64/100\n",
      "4/4 [==============================] - 1s 187ms/step - loss: 1.1316 - accuracy: 0.5781 - auc: 0.7285 - val_loss: 0.6444 - val_accuracy: 0.6051 - val_auc: 0.6805 - lr: 1.6422e-04\n",
      "Epoch 65/100\n",
      "4/4 [==============================] - 1s 193ms/step - loss: 1.0971 - accuracy: 0.6250 - auc: 0.7457 - val_loss: 0.6358 - val_accuracy: 0.6308 - val_auc: 0.7070 - lr: 1.4804e-04\n",
      "Epoch 66/100\n",
      "4/4 [==============================] - 1s 196ms/step - loss: 1.1289 - accuracy: 0.6172 - auc: 0.7165 - val_loss: 0.6022 - val_accuracy: 0.7026 - val_auc: 0.7867 - lr: 1.3331e-04\n",
      "Epoch 67/100\n",
      "4/4 [==============================] - 1s 186ms/step - loss: 1.0356 - accuracy: 0.6094 - auc: 0.7273 - val_loss: 0.5571 - val_accuracy: 0.8000 - val_auc: 0.8560 - lr: 1.1995e-04\n",
      "Epoch 68/100\n",
      "4/4 [==============================] - 1s 188ms/step - loss: 0.9543 - accuracy: 0.6172 - auc: 0.7804 - val_loss: 0.4861 - val_accuracy: 0.8615 - val_auc: 0.8878 - lr: 1.0787e-04\n",
      "Epoch 69/100\n",
      "4/4 [==============================] - 1s 187ms/step - loss: 1.0925 - accuracy: 0.6406 - auc: 0.7546 - val_loss: 0.4492 - val_accuracy: 0.8564 - val_auc: 0.8853 - lr: 9.6985e-05\n",
      "Epoch 70/100\n",
      "4/4 [==============================] - 1s 187ms/step - loss: 1.0368 - accuracy: 0.6758 - auc: 0.7601 - val_loss: 0.4360 - val_accuracy: 0.8615 - val_auc: 0.8846 - lr: 8.7208e-05\n",
      "Epoch 71/100\n",
      "4/4 [==============================] - 1s 190ms/step - loss: 1.1048 - accuracy: 0.6914 - auc: 0.7931 - val_loss: 0.4336 - val_accuracy: 0.8615 - val_auc: 0.8834 - lr: 7.8447e-05\n",
      "Epoch 72/100\n",
      "4/4 [==============================] - 1s 192ms/step - loss: 1.0131 - accuracy: 0.6992 - auc: 0.8048 - val_loss: 0.4326 - val_accuracy: 0.8615 - val_auc: 0.8827 - lr: 7.0614e-05\n",
      "Epoch 73/100\n",
      "4/4 [==============================] - 1s 188ms/step - loss: 1.0002 - accuracy: 0.7031 - auc: 0.8078 - val_loss: 0.4310 - val_accuracy: 0.8667 - val_auc: 0.8854 - lr: 6.3625e-05\n",
      "Epoch 74/100\n",
      "4/4 [==============================] - 1s 190ms/step - loss: 1.0199 - accuracy: 0.6875 - auc: 0.7816 - val_loss: 0.4280 - val_accuracy: 0.8667 - val_auc: 0.8864 - lr: 5.7401e-05\n",
      "Epoch 75/100\n",
      "4/4 [==============================] - 1s 193ms/step - loss: 1.0665 - accuracy: 0.7070 - auc: 0.8035 - val_loss: 0.4257 - val_accuracy: 0.8667 - val_auc: 0.8875 - lr: 5.1867e-05\n",
      "Epoch 76/100\n",
      "4/4 [==============================] - 1s 189ms/step - loss: 1.1024 - accuracy: 0.6602 - auc: 0.7653 - val_loss: 0.4297 - val_accuracy: 0.8615 - val_auc: 0.8900 - lr: 4.6954e-05\n",
      "Epoch 77/100\n",
      "4/4 [==============================] - 1s 191ms/step - loss: 1.0358 - accuracy: 0.6641 - auc: 0.7799 - val_loss: 0.4398 - val_accuracy: 0.8667 - val_auc: 0.8918 - lr: 4.2597e-05\n",
      "Epoch 78/100\n",
      "4/4 [==============================] - 1s 188ms/step - loss: 1.0782 - accuracy: 0.6992 - auc: 0.7663 - val_loss: 0.4491 - val_accuracy: 0.8667 - val_auc: 0.8926 - lr: 3.8739e-05\n",
      "Epoch 79/100\n",
      "4/4 [==============================] - 1s 188ms/step - loss: 1.0310 - accuracy: 0.6406 - auc: 0.7372 - val_loss: 0.4572 - val_accuracy: 0.8615 - val_auc: 0.8919 - lr: 3.5325e-05\n",
      "Epoch 80/100\n",
      "4/4 [==============================] - 1s 190ms/step - loss: 1.0809 - accuracy: 0.6523 - auc: 0.7366 - val_loss: 0.4599 - val_accuracy: 0.8615 - val_auc: 0.8907 - lr: 3.2307e-05\n",
      "Epoch 81/100\n",
      "4/4 [==============================] - 1s 195ms/step - loss: 1.0321 - accuracy: 0.6797 - auc: 0.7321 - val_loss: 0.4609 - val_accuracy: 0.8615 - val_auc: 0.8902 - lr: 2.9642e-05\n",
      "Epoch 82/100\n",
      "4/4 [==============================] - 1s 198ms/step - loss: 1.0757 - accuracy: 0.6641 - auc: 0.7364 - val_loss: 0.4591 - val_accuracy: 0.8615 - val_auc: 0.8898 - lr: 2.7289e-05\n",
      "Epoch 83/100\n",
      "4/4 [==============================] - 1s 196ms/step - loss: 1.0945 - accuracy: 0.6836 - auc: 0.7323 - val_loss: 0.4522 - val_accuracy: 0.8615 - val_auc: 0.8909 - lr: 2.5214e-05\n",
      "Epoch 84/100\n",
      "4/4 [==============================] - 1s 191ms/step - loss: 1.0037 - accuracy: 0.7031 - auc: 0.7774 - val_loss: 0.4447 - val_accuracy: 0.8667 - val_auc: 0.8913 - lr: 2.3384e-05\n",
      "Epoch 85/100\n",
      "4/4 [==============================] - 1s 187ms/step - loss: 1.0666 - accuracy: 0.6641 - auc: 0.7542 - val_loss: 0.4388 - val_accuracy: 0.8615 - val_auc: 0.8929 - lr: 2.1772e-05\n",
      "Epoch 86/100\n",
      "4/4 [==============================] - 1s 189ms/step - loss: 1.0192 - accuracy: 0.6562 - auc: 0.8120 - val_loss: 0.4333 - val_accuracy: 0.8564 - val_auc: 0.8935 - lr: 2.0352e-05\n"
     ]
    },
    {
     "name": "stdout",
     "output_type": "stream",
     "text": [
      "Epoch 87/100\n",
      "4/4 [==============================] - 1s 196ms/step - loss: 1.0666 - accuracy: 0.7031 - auc: 0.7726 - val_loss: 0.4321 - val_accuracy: 0.8564 - val_auc: 0.8944 - lr: 1.9102e-05\n",
      "Epoch 88/100\n",
      "4/4 [==============================] - 1s 192ms/step - loss: 1.0283 - accuracy: 0.6875 - auc: 0.7778 - val_loss: 0.4341 - val_accuracy: 0.8667 - val_auc: 0.8951 - lr: 1.8001e-05\n",
      "Epoch 89/100\n",
      "4/4 [==============================] - 1s 194ms/step - loss: 0.9738 - accuracy: 0.6992 - auc: 0.7874 - val_loss: 0.4386 - val_accuracy: 0.8615 - val_auc: 0.8950 - lr: 1.7033e-05\n",
      "Epoch 90/100\n",
      "4/4 [==============================] - 1s 190ms/step - loss: 1.0439 - accuracy: 0.6914 - auc: 0.7727 - val_loss: 0.4416 - val_accuracy: 0.8615 - val_auc: 0.8946 - lr: 1.6181e-05\n",
      "Epoch 91/100\n",
      "4/4 [==============================] - 1s 190ms/step - loss: 1.0488 - accuracy: 0.6523 - auc: 0.7955 - val_loss: 0.4434 - val_accuracy: 0.8564 - val_auc: 0.8944 - lr: 1.5431e-05\n",
      "Epoch 92/100\n",
      "4/4 [==============================] - 1s 191ms/step - loss: 1.0869 - accuracy: 0.6953 - auc: 0.7564 - val_loss: 0.4437 - val_accuracy: 0.8615 - val_auc: 0.8944 - lr: 1.4773e-05\n",
      "Epoch 93/100\n",
      "4/4 [==============================] - 1s 190ms/step - loss: 1.0420 - accuracy: 0.7109 - auc: 0.7857 - val_loss: 0.4418 - val_accuracy: 0.8615 - val_auc: 0.8957 - lr: 1.4193e-05\n",
      "Epoch 94/100\n",
      "4/4 [==============================] - 1s 190ms/step - loss: 1.0075 - accuracy: 0.6992 - auc: 0.8189 - val_loss: 0.4405 - val_accuracy: 0.8564 - val_auc: 0.8962 - lr: 1.3684e-05\n",
      "Epoch 95/100\n",
      "4/4 [==============================] - 1s 200ms/step - loss: 1.0922 - accuracy: 0.6797 - auc: 0.7838 - val_loss: 0.4409 - val_accuracy: 0.8615 - val_auc: 0.8965 - lr: 1.3236e-05\n",
      "Epoch 96/100\n",
      "4/4 [==============================] - 1s 189ms/step - loss: 1.0379 - accuracy: 0.6797 - auc: 0.7936 - val_loss: 0.4425 - val_accuracy: 0.8564 - val_auc: 0.8963 - lr: 1.2843e-05\n",
      "Epoch 97/100\n",
      "4/4 [==============================] - 1s 195ms/step - loss: 1.0970 - accuracy: 0.6914 - auc: 0.7726 - val_loss: 0.4435 - val_accuracy: 0.8513 - val_auc: 0.8964 - lr: 1.2497e-05\n",
      "Epoch 98/100\n",
      "4/4 [==============================] - 1s 191ms/step - loss: 1.1046 - accuracy: 0.6172 - auc: 0.7480 - val_loss: 0.4433 - val_accuracy: 0.8564 - val_auc: 0.8967 - lr: 1.2193e-05\n",
      "Epoch 99/100\n",
      "4/4 [==============================] - 1s 189ms/step - loss: 1.0612 - accuracy: 0.7031 - auc: 0.7977 - val_loss: 0.4446 - val_accuracy: 0.8564 - val_auc: 0.8970 - lr: 1.1927e-05\n",
      "Epoch 100/100\n",
      "4/4 [==============================] - 1s 193ms/step - loss: 1.0459 - accuracy: 0.6445 - auc: 0.7862 - val_loss: 0.4438 - val_accuracy: 0.8564 - val_auc: 0.8972 - lr: 1.1692e-05\n"
     ]
    }
   ],
   "source": [
    "n_epoch = 100\n",
    "lr = LearningRateScheduler(lambda e: sigmoidal_decay(e, end=n_epoch))\n",
    "batch_size = 64\n",
    "\n",
    "if mixup :\n",
    "    beta_param = .7\n",
    "else :\n",
    "    beta_param = 0\n",
    "    \n",
    "\n",
    "\n",
    "params = {'batch_size': batch_size,\n",
    "          #          'input_shape': (100, 313, 1),\n",
    "          'shuffle': True,\n",
    "          'chaug': chaug,\n",
    "          'beta_param': beta_param,\n",
    "          'cout': cout\n",
    "#              'mixup': mixup,\n",
    "          #          'lowpass': [.5, [11,12,13,14,15,16,17,18]]\n",
    "          #          'highpass': [.5, [78,79,80,81,82,83,84,85]]\n",
    "#              'ranfilter2' : [3, [18,19,20,21,22,23]]\n",
    "          #           'dropblock' : [30, 100]\n",
    "          #'device' : device\n",
    "}\n",
    "\n",
    "if mixup :\n",
    "    params['mixup'] = mixup\n",
    "    params['ranfilter2'] = ranfil\n",
    "else :\n",
    "    params['cutout'] = cout\n",
    "\n",
    "params_no_shuffle = {'batch_size': batch_size,\n",
    "                     #          'input_shape': (100, 313, 1),\n",
    "                     'shuffle': False,\n",
    "                     'beta_param': 0.7,\n",
    "                     'mixup': False\n",
    "                     #'device': device\n",
    "}\n",
    "\n",
    "\n",
    "\n",
    "if ord1 :\n",
    "    class_weight = {0: mm_weight, 1: 1.}\n",
    "else :\n",
    "    class_weight = {0: mm_weight, 1: wunknown, 2:1.}\n",
    "    \n",
    "    \n",
    "\n",
    "if mixup :\n",
    "    \n",
    "    \n",
    "    TrainDGen_1 = Generator0([features_trn['age'],features_trn['sex'], features_trn['hw'], \n",
    "                              features_trn['preg'], features_trn['loc'],\n",
    "                              features_trn['interval'],features_trn['wav2'],\n",
    "                              features_trn['mel1'],\n",
    "                              features_trn['cqt1'],\n",
    "                              features_trn['stft1']],features_trn['mm_labels'],**params)()\n",
    "    \n",
    "    model1.fit(TrainDGen_1,\n",
    "               validation_data = ([features_test['age'],features_test['sex'], features_test['hw'],                                   \n",
    "                                   features_test['preg'], features_test['loc'],\n",
    "                                   features_test['interval'],features_test['wav2'],\n",
    "                                   features_test['mel1'],\n",
    "                                   features_test['cqt1'],\n",
    "                                   features_test['stft1']],features_test['mm_labels']),\n",
    "               \n",
    "               callbacks=[lr,model1_callback],\n",
    "               steps_per_epoch=np.ceil(len(features_trn['mm_labels'])/batch_size),\n",
    "               class_weight=class_weight, \n",
    "               epochs = n_epoch)\n",
    "    \n",
    "    \n",
    " \n"
   ]
  },
  {
   "cell_type": "code",
   "execution_count": null,
   "id": "e84f3f23",
   "metadata": {},
   "outputs": [],
   "source": []
  },
  {
   "cell_type": "code",
   "execution_count": 45,
   "id": "90bdd466",
   "metadata": {
    "scrolled": false
   },
   "outputs": [
    {
     "name": "stdout",
     "output_type": "stream",
     "text": [
      "Epoch 1/100\n",
      "4/4 [==============================] - 6s 577ms/step - loss: 1.4448 - accuracy: 0.7031 - auc: 0.7939 - val_loss: 1.1531 - val_accuracy: 0.5231 - val_auc: 0.5429 - lr: 9.9851e-04\n",
      "Epoch 2/100\n",
      "4/4 [==============================] - 1s 188ms/step - loss: 1.2745 - accuracy: 0.8164 - auc: 0.8474 - val_loss: 3.2674 - val_accuracy: 0.5231 - val_auc: 0.5206 - lr: 9.9831e-04\n",
      "Epoch 3/100\n",
      "4/4 [==============================] - 1s 196ms/step - loss: 1.2509 - accuracy: 0.7891 - auc: 0.8762 - val_loss: 7.4085 - val_accuracy: 0.5231 - val_auc: 0.5231 - lr: 9.9807e-04\n",
      "Epoch 4/100\n",
      "4/4 [==============================] - 1s 187ms/step - loss: 1.0362 - accuracy: 0.8047 - auc: 0.8837 - val_loss: 10.6271 - val_accuracy: 0.5231 - val_auc: 0.5231 - lr: 9.9781e-04\n",
      "Epoch 5/100\n",
      "4/4 [==============================] - 1s 191ms/step - loss: 1.2505 - accuracy: 0.7891 - auc: 0.8520 - val_loss: 9.6384 - val_accuracy: 0.5231 - val_auc: 0.5231 - lr: 9.9750e-04\n",
      "Epoch 6/100\n",
      "4/4 [==============================] - 1s 192ms/step - loss: 0.9537 - accuracy: 0.8086 - auc: 0.8750 - val_loss: 9.6304 - val_accuracy: 0.5231 - val_auc: 0.5231 - lr: 9.9716e-04\n",
      "Epoch 7/100\n",
      "4/4 [==============================] - 1s 189ms/step - loss: 0.9759 - accuracy: 0.8164 - auc: 0.8767 - val_loss: 8.8432 - val_accuracy: 0.5231 - val_auc: 0.5231 - lr: 9.9676e-04\n",
      "Epoch 8/100\n",
      "4/4 [==============================] - 1s 191ms/step - loss: 1.0033 - accuracy: 0.8242 - auc: 0.8570 - val_loss: 7.6434 - val_accuracy: 0.5231 - val_auc: 0.5231 - lr: 9.9632e-04\n",
      "Epoch 9/100\n",
      "4/4 [==============================] - 1s 196ms/step - loss: 0.8410 - accuracy: 0.8047 - auc: 0.8836 - val_loss: 8.4019 - val_accuracy: 0.5231 - val_auc: 0.5231 - lr: 9.9581e-04\n",
      "Epoch 10/100\n",
      "4/4 [==============================] - 1s 189ms/step - loss: 0.8010 - accuracy: 0.8047 - auc: 0.8770 - val_loss: 9.9986 - val_accuracy: 0.5231 - val_auc: 0.5231 - lr: 9.9523e-04\n",
      "Epoch 11/100\n",
      "4/4 [==============================] - 1s 189ms/step - loss: 0.8220 - accuracy: 0.8125 - auc: 0.8680 - val_loss: 9.8642 - val_accuracy: 0.5231 - val_auc: 0.5231 - lr: 9.9457e-04\n",
      "Epoch 12/100\n",
      "4/4 [==============================] - 1s 188ms/step - loss: 0.8353 - accuracy: 0.8164 - auc: 0.8745 - val_loss: 9.5071 - val_accuracy: 0.5231 - val_auc: 0.5231 - lr: 9.9382e-04\n",
      "Epoch 13/100\n",
      "4/4 [==============================] - 1s 187ms/step - loss: 0.8182 - accuracy: 0.8047 - auc: 0.8548 - val_loss: 10.7338 - val_accuracy: 0.5231 - val_auc: 0.5231 - lr: 9.9297e-04\n",
      "Epoch 14/100\n",
      "4/4 [==============================] - 1s 193ms/step - loss: 0.7750 - accuracy: 0.8203 - auc: 0.8966 - val_loss: 10.1129 - val_accuracy: 0.5231 - val_auc: 0.5231 - lr: 9.9200e-04\n",
      "Epoch 15/100\n",
      "4/4 [==============================] - 1s 193ms/step - loss: 0.8655 - accuracy: 0.7930 - auc: 0.8840 - val_loss: 10.4759 - val_accuracy: 0.5231 - val_auc: 0.5231 - lr: 9.9090e-04\n",
      "Epoch 16/100\n",
      "4/4 [==============================] - 1s 195ms/step - loss: 0.8259 - accuracy: 0.8125 - auc: 0.8726 - val_loss: 10.7151 - val_accuracy: 0.5231 - val_auc: 0.5231 - lr: 9.8965e-04\n",
      "Epoch 17/100\n",
      "4/4 [==============================] - 1s 190ms/step - loss: 0.7970 - accuracy: 0.8008 - auc: 0.8763 - val_loss: 10.7940 - val_accuracy: 0.5231 - val_auc: 0.5231 - lr: 9.8823e-04\n",
      "Epoch 18/100\n",
      "4/4 [==============================] - 1s 188ms/step - loss: 0.7752 - accuracy: 0.8086 - auc: 0.9002 - val_loss: 10.7423 - val_accuracy: 0.5231 - val_auc: 0.5231 - lr: 9.8662e-04\n",
      "Epoch 19/100\n",
      "4/4 [==============================] - 1s 192ms/step - loss: 0.7401 - accuracy: 0.8438 - auc: 0.8936 - val_loss: 9.9934 - val_accuracy: 0.5231 - val_auc: 0.5231 - lr: 9.8479e-04\n",
      "Epoch 20/100\n",
      "4/4 [==============================] - 1s 190ms/step - loss: 0.8447 - accuracy: 0.7969 - auc: 0.8844 - val_loss: 10.4447 - val_accuracy: 0.5231 - val_auc: 0.5231 - lr: 9.8271e-04\n",
      "Epoch 21/100\n",
      "4/4 [==============================] - 1s 191ms/step - loss: 0.8018 - accuracy: 0.8203 - auc: 0.8912 - val_loss: 9.4901 - val_accuracy: 0.5231 - val_auc: 0.5231 - lr: 9.8036e-04\n",
      "Epoch 22/100\n",
      "4/4 [==============================] - 1s 189ms/step - loss: 0.7638 - accuracy: 0.8398 - auc: 0.8897 - val_loss: 9.1458 - val_accuracy: 0.5231 - val_auc: 0.5231 - lr: 9.7769e-04\n",
      "Epoch 23/100\n",
      "4/4 [==============================] - 1s 192ms/step - loss: 0.8683 - accuracy: 0.7852 - auc: 0.8860 - val_loss: 9.6903 - val_accuracy: 0.5231 - val_auc: 0.5231 - lr: 9.7468e-04\n",
      "Epoch 24/100\n",
      "4/4 [==============================] - 1s 191ms/step - loss: 0.8091 - accuracy: 0.8203 - auc: 0.8898 - val_loss: 9.4351 - val_accuracy: 0.5231 - val_auc: 0.5231 - lr: 9.7126e-04\n",
      "Epoch 25/100\n",
      "4/4 [==============================] - 1s 190ms/step - loss: 0.8087 - accuracy: 0.8320 - auc: 0.8951 - val_loss: 9.6428 - val_accuracy: 0.5231 - val_auc: 0.5231 - lr: 9.6740e-04\n",
      "Epoch 26/100\n",
      "4/4 [==============================] - 1s 188ms/step - loss: 0.7812 - accuracy: 0.8320 - auc: 0.9100 - val_loss: 10.1417 - val_accuracy: 0.5231 - val_auc: 0.5231 - lr: 9.6305e-04\n",
      "Epoch 27/100\n",
      "4/4 [==============================] - 1s 193ms/step - loss: 0.8059 - accuracy: 0.8438 - auc: 0.8814 - val_loss: 9.9038 - val_accuracy: 0.5231 - val_auc: 0.5231 - lr: 9.5813e-04\n",
      "Epoch 28/100\n",
      "4/4 [==============================] - 1s 188ms/step - loss: 0.6950 - accuracy: 0.8555 - auc: 0.9274 - val_loss: 9.8360 - val_accuracy: 0.5231 - val_auc: 0.5231 - lr: 9.5260e-04\n",
      "Epoch 29/100\n",
      "4/4 [==============================] - 1s 187ms/step - loss: 0.8116 - accuracy: 0.7969 - auc: 0.8855 - val_loss: 9.6033 - val_accuracy: 0.5231 - val_auc: 0.5231 - lr: 9.4637e-04\n",
      "Epoch 30/100\n",
      "4/4 [==============================] - 1s 186ms/step - loss: 0.7836 - accuracy: 0.7930 - auc: 0.9010 - val_loss: 9.2701 - val_accuracy: 0.5231 - val_auc: 0.5231 - lr: 9.3939e-04\n",
      "Epoch 31/100\n",
      "4/4 [==============================] - 1s 187ms/step - loss: 0.7690 - accuracy: 0.8203 - auc: 0.9049 - val_loss: 9.1861 - val_accuracy: 0.5231 - val_auc: 0.5231 - lr: 9.3155e-04\n",
      "Epoch 32/100\n",
      "4/4 [==============================] - 1s 191ms/step - loss: 0.8295 - accuracy: 0.8164 - auc: 0.9168 - val_loss: 9.5609 - val_accuracy: 0.5231 - val_auc: 0.5231 - lr: 9.2279e-04\n",
      "Epoch 33/100\n",
      "4/4 [==============================] - 1s 190ms/step - loss: 0.7951 - accuracy: 0.8320 - auc: 0.9142 - val_loss: 10.2477 - val_accuracy: 0.5231 - val_auc: 0.5231 - lr: 9.1301e-04\n",
      "Epoch 34/100\n",
      "4/4 [==============================] - 1s 191ms/step - loss: 0.7144 - accuracy: 0.8242 - auc: 0.9192 - val_loss: 10.7230 - val_accuracy: 0.5231 - val_auc: 0.5231 - lr: 9.0213e-04\n",
      "Epoch 35/100\n",
      "4/4 [==============================] - 1s 186ms/step - loss: 0.7326 - accuracy: 0.8086 - auc: 0.9274 - val_loss: 9.8635 - val_accuracy: 0.5231 - val_auc: 0.5231 - lr: 8.9005e-04\n",
      "Epoch 36/100\n",
      "4/4 [==============================] - 1s 189ms/step - loss: 0.7757 - accuracy: 0.8086 - auc: 0.9182 - val_loss: 8.3374 - val_accuracy: 0.5231 - val_auc: 0.5231 - lr: 8.7669e-04\n",
      "Epoch 37/100\n",
      "4/4 [==============================] - 1s 190ms/step - loss: 0.7328 - accuracy: 0.8125 - auc: 0.9273 - val_loss: 6.7397 - val_accuracy: 0.5231 - val_auc: 0.5231 - lr: 8.6196e-04\n",
      "Epoch 38/100\n",
      "4/4 [==============================] - 1s 188ms/step - loss: 0.7102 - accuracy: 0.7852 - auc: 0.9299 - val_loss: 6.6229 - val_accuracy: 0.5231 - val_auc: 0.5231 - lr: 8.4578e-04\n",
      "Epoch 39/100\n",
      "4/4 [==============================] - 1s 187ms/step - loss: 0.7724 - accuracy: 0.8203 - auc: 0.9101 - val_loss: 7.5463 - val_accuracy: 0.5231 - val_auc: 0.5231 - lr: 8.2809e-04\n",
      "Epoch 40/100\n",
      "4/4 [==============================] - 1s 191ms/step - loss: 0.7015 - accuracy: 0.8242 - auc: 0.9270 - val_loss: 7.7441 - val_accuracy: 0.5231 - val_auc: 0.5231 - lr: 8.0883e-04\n",
      "Epoch 41/100\n",
      "4/4 [==============================] - 1s 188ms/step - loss: 0.7551 - accuracy: 0.8477 - auc: 0.9170 - val_loss: 8.5796 - val_accuracy: 0.5231 - val_auc: 0.5231 - lr: 7.8798e-04\n",
      "Epoch 42/100\n",
      "4/4 [==============================] - 1s 191ms/step - loss: 0.6759 - accuracy: 0.8359 - auc: 0.9337 - val_loss: 10.4106 - val_accuracy: 0.5231 - val_auc: 0.5231 - lr: 7.6551e-04\n",
      "Epoch 43/100\n",
      "4/4 [==============================] - 1s 195ms/step - loss: 0.7501 - accuracy: 0.8125 - auc: 0.9128 - val_loss: 9.7632 - val_accuracy: 0.5231 - val_auc: 0.5231 - lr: 7.4146e-04\n"
     ]
    },
    {
     "name": "stdout",
     "output_type": "stream",
     "text": [
      "Epoch 44/100\n",
      "4/4 [==============================] - 1s 188ms/step - loss: 0.8213 - accuracy: 0.8047 - auc: 0.9078 - val_loss: 9.3135 - val_accuracy: 0.5231 - val_auc: 0.5231 - lr: 7.1587e-04\n",
      "Epoch 45/100\n",
      "4/4 [==============================] - 1s 185ms/step - loss: 0.6484 - accuracy: 0.8242 - auc: 0.9434 - val_loss: 9.0864 - val_accuracy: 0.5231 - val_auc: 0.5231 - lr: 6.8882e-04\n",
      "Epoch 46/100\n",
      "4/4 [==============================] - 1s 188ms/step - loss: 0.7786 - accuracy: 0.8438 - auc: 0.9104 - val_loss: 8.7825 - val_accuracy: 0.5231 - val_auc: 0.5231 - lr: 6.6044e-04\n",
      "Epoch 47/100\n",
      "4/4 [==============================] - 1s 186ms/step - loss: 0.7880 - accuracy: 0.8164 - auc: 0.9128 - val_loss: 8.5383 - val_accuracy: 0.5231 - val_auc: 0.5231 - lr: 6.3088e-04\n",
      "Epoch 48/100\n",
      "4/4 [==============================] - 1s 188ms/step - loss: 0.7350 - accuracy: 0.7852 - auc: 0.9224 - val_loss: 8.8366 - val_accuracy: 0.5231 - val_auc: 0.5231 - lr: 6.0032e-04\n",
      "Epoch 49/100\n",
      "4/4 [==============================] - 1s 188ms/step - loss: 0.6717 - accuracy: 0.8203 - auc: 0.9415 - val_loss: 9.0316 - val_accuracy: 0.5231 - val_auc: 0.5231 - lr: 5.6899e-04\n",
      "Epoch 50/100\n",
      "4/4 [==============================] - 1s 186ms/step - loss: 0.7404 - accuracy: 0.7852 - auc: 0.9336 - val_loss: 8.9890 - val_accuracy: 0.5231 - val_auc: 0.5231 - lr: 5.3713e-04\n",
      "Epoch 51/100\n",
      "4/4 [==============================] - 1s 187ms/step - loss: 0.6409 - accuracy: 0.8359 - auc: 0.9378 - val_loss: 8.2846 - val_accuracy: 0.5231 - val_auc: 0.5231 - lr: 5.0500e-04\n",
      "Epoch 52/100\n",
      "4/4 [==============================] - 1s 186ms/step - loss: 0.6543 - accuracy: 0.8164 - auc: 0.9438 - val_loss: 7.5972 - val_accuracy: 0.5231 - val_auc: 0.5231 - lr: 4.7287e-04\n",
      "Epoch 53/100\n",
      "4/4 [==============================] - 1s 190ms/step - loss: 0.6537 - accuracy: 0.8203 - auc: 0.9371 - val_loss: 7.6864 - val_accuracy: 0.5231 - val_auc: 0.5231 - lr: 4.4101e-04\n",
      "Epoch 54/100\n",
      "4/4 [==============================] - 1s 193ms/step - loss: 0.7425 - accuracy: 0.8320 - auc: 0.9335 - val_loss: 7.9899 - val_accuracy: 0.5231 - val_auc: 0.5231 - lr: 4.0968e-04\n",
      "Epoch 55/100\n",
      "4/4 [==============================] - 1s 189ms/step - loss: 0.7431 - accuracy: 0.8672 - auc: 0.9388 - val_loss: 7.0453 - val_accuracy: 0.5231 - val_auc: 0.5231 - lr: 3.7912e-04\n",
      "Epoch 56/100\n",
      "4/4 [==============================] - 1s 192ms/step - loss: 0.7300 - accuracy: 0.8516 - auc: 0.9312 - val_loss: 6.7799 - val_accuracy: 0.5231 - val_auc: 0.5231 - lr: 3.4956e-04\n",
      "Epoch 57/100\n",
      "4/4 [==============================] - 1s 185ms/step - loss: 0.7513 - accuracy: 0.8008 - auc: 0.9216 - val_loss: 7.1467 - val_accuracy: 0.5231 - val_auc: 0.5231 - lr: 3.2118e-04\n",
      "Epoch 58/100\n",
      "4/4 [==============================] - 1s 190ms/step - loss: 0.7226 - accuracy: 0.8633 - auc: 0.9259 - val_loss: 7.4737 - val_accuracy: 0.5231 - val_auc: 0.5231 - lr: 2.9413e-04\n",
      "Epoch 59/100\n",
      "4/4 [==============================] - 1s 188ms/step - loss: 0.7025 - accuracy: 0.8438 - auc: 0.9336 - val_loss: 7.8381 - val_accuracy: 0.5231 - val_auc: 0.5231 - lr: 2.6854e-04\n",
      "Epoch 60/100\n",
      "4/4 [==============================] - 1s 191ms/step - loss: 0.7081 - accuracy: 0.8516 - auc: 0.9342 - val_loss: 8.5748 - val_accuracy: 0.5231 - val_auc: 0.5231 - lr: 2.4449e-04\n",
      "Epoch 61/100\n",
      "4/4 [==============================] - 1s 189ms/step - loss: 0.6551 - accuracy: 0.8125 - auc: 0.9522 - val_loss: 8.8156 - val_accuracy: 0.5231 - val_auc: 0.5231 - lr: 2.2202e-04\n",
      "Epoch 62/100\n",
      "4/4 [==============================] - 1s 190ms/step - loss: 0.6244 - accuracy: 0.8633 - auc: 0.9521 - val_loss: 8.3727 - val_accuracy: 0.5231 - val_auc: 0.5231 - lr: 2.0117e-04\n",
      "Epoch 63/100\n",
      "4/4 [==============================] - 1s 188ms/step - loss: 0.5924 - accuracy: 0.8711 - auc: 0.9502 - val_loss: 7.8652 - val_accuracy: 0.5231 - val_auc: 0.5231 - lr: 1.8191e-04\n",
      "Epoch 64/100\n",
      "4/4 [==============================] - 1s 187ms/step - loss: 0.7044 - accuracy: 0.8555 - auc: 0.9458 - val_loss: 7.4311 - val_accuracy: 0.5231 - val_auc: 0.5231 - lr: 1.6422e-04\n",
      "Epoch 65/100\n",
      "4/4 [==============================] - 1s 191ms/step - loss: 0.6872 - accuracy: 0.8633 - auc: 0.9486 - val_loss: 7.1904 - val_accuracy: 0.5231 - val_auc: 0.5231 - lr: 1.4804e-04\n",
      "Epoch 66/100\n",
      "4/4 [==============================] - 1s 191ms/step - loss: 0.6265 - accuracy: 0.8555 - auc: 0.9589 - val_loss: 7.1818 - val_accuracy: 0.5231 - val_auc: 0.5231 - lr: 1.3331e-04\n",
      "Epoch 67/100\n",
      "4/4 [==============================] - 1s 187ms/step - loss: 0.6658 - accuracy: 0.8398 - auc: 0.9509 - val_loss: 7.2947 - val_accuracy: 0.5231 - val_auc: 0.5231 - lr: 1.1995e-04\n",
      "Epoch 68/100\n",
      "4/4 [==============================] - 1s 191ms/step - loss: 0.6952 - accuracy: 0.8242 - auc: 0.9416 - val_loss: 7.4545 - val_accuracy: 0.5231 - val_auc: 0.5231 - lr: 1.0787e-04\n",
      "Epoch 69/100\n",
      "4/4 [==============================] - 1s 188ms/step - loss: 0.6409 - accuracy: 0.8438 - auc: 0.9469 - val_loss: 7.5179 - val_accuracy: 0.5231 - val_auc: 0.5231 - lr: 9.6985e-05\n",
      "Epoch 70/100\n",
      "4/4 [==============================] - 1s 189ms/step - loss: 0.5726 - accuracy: 0.8242 - auc: 0.9671 - val_loss: 7.4595 - val_accuracy: 0.5231 - val_auc: 0.5231 - lr: 8.7208e-05\n",
      "Epoch 71/100\n",
      "4/4 [==============================] - 1s 193ms/step - loss: 0.6660 - accuracy: 0.8477 - auc: 0.9494 - val_loss: 7.4029 - val_accuracy: 0.5231 - val_auc: 0.5231 - lr: 7.8447e-05\n",
      "Epoch 72/100\n",
      "4/4 [==============================] - 1s 197ms/step - loss: 0.6750 - accuracy: 0.7969 - auc: 0.9493 - val_loss: 7.3660 - val_accuracy: 0.5231 - val_auc: 0.5231 - lr: 7.0614e-05\n",
      "Epoch 73/100\n",
      "4/4 [==============================] - 1s 199ms/step - loss: 0.6645 - accuracy: 0.8125 - auc: 0.9479 - val_loss: 7.1760 - val_accuracy: 0.5231 - val_auc: 0.5231 - lr: 6.3625e-05\n",
      "Epoch 74/100\n",
      "4/4 [==============================] - 1s 199ms/step - loss: 0.6888 - accuracy: 0.8594 - auc: 0.9461 - val_loss: 6.9827 - val_accuracy: 0.5231 - val_auc: 0.5231 - lr: 5.7401e-05\n",
      "Epoch 75/100\n",
      "4/4 [==============================] - 1s 201ms/step - loss: 0.7127 - accuracy: 0.8281 - auc: 0.9536 - val_loss: 6.9019 - val_accuracy: 0.5231 - val_auc: 0.5231 - lr: 5.1867e-05\n",
      "Epoch 76/100\n",
      "4/4 [==============================] - 1s 193ms/step - loss: 0.6501 - accuracy: 0.8594 - auc: 0.9538 - val_loss: 6.9056 - val_accuracy: 0.5231 - val_auc: 0.5231 - lr: 4.6954e-05\n",
      "Epoch 77/100\n",
      "4/4 [==============================] - 1s 191ms/step - loss: 0.6316 - accuracy: 0.8633 - auc: 0.9476 - val_loss: 6.9653 - val_accuracy: 0.5231 - val_auc: 0.5231 - lr: 4.2597e-05\n",
      "Epoch 78/100\n",
      "4/4 [==============================] - 1s 190ms/step - loss: 0.6449 - accuracy: 0.8398 - auc: 0.9643 - val_loss: 7.0130 - val_accuracy: 0.5231 - val_auc: 0.5231 - lr: 3.8739e-05\n",
      "Epoch 79/100\n",
      "4/4 [==============================] - 1s 192ms/step - loss: 0.6672 - accuracy: 0.8398 - auc: 0.9423 - val_loss: 7.0403 - val_accuracy: 0.5231 - val_auc: 0.5231 - lr: 3.5325e-05\n",
      "Epoch 80/100\n",
      "4/4 [==============================] - 1s 191ms/step - loss: 0.5919 - accuracy: 0.8828 - auc: 0.9666 - val_loss: 7.0046 - val_accuracy: 0.5231 - val_auc: 0.5231 - lr: 3.2307e-05\n",
      "Epoch 81/100\n",
      "4/4 [==============================] - 1s 190ms/step - loss: 0.7064 - accuracy: 0.8398 - auc: 0.9485 - val_loss: 6.9887 - val_accuracy: 0.5231 - val_auc: 0.5231 - lr: 2.9642e-05\n",
      "Epoch 82/100\n",
      "4/4 [==============================] - 1s 188ms/step - loss: 0.6536 - accuracy: 0.8477 - auc: 0.9560 - val_loss: 6.9628 - val_accuracy: 0.5231 - val_auc: 0.5231 - lr: 2.7289e-05\n",
      "Epoch 83/100\n",
      "4/4 [==============================] - 1s 192ms/step - loss: 0.5871 - accuracy: 0.8516 - auc: 0.9603 - val_loss: 6.8819 - val_accuracy: 0.5231 - val_auc: 0.5231 - lr: 2.5214e-05\n",
      "Epoch 84/100\n",
      "4/4 [==============================] - 1s 200ms/step - loss: 0.6578 - accuracy: 0.8164 - auc: 0.9533 - val_loss: 6.8329 - val_accuracy: 0.5231 - val_auc: 0.5231 - lr: 2.3384e-05\n",
      "Epoch 85/100\n",
      "4/4 [==============================] - 1s 188ms/step - loss: 0.5971 - accuracy: 0.8203 - auc: 0.9545 - val_loss: 6.7652 - val_accuracy: 0.5231 - val_auc: 0.5231 - lr: 2.1772e-05\n",
      "Epoch 86/100\n",
      "4/4 [==============================] - 1s 196ms/step - loss: 0.6838 - accuracy: 0.8320 - auc: 0.9452 - val_loss: 6.6762 - val_accuracy: 0.5231 - val_auc: 0.5231 - lr: 2.0352e-05\n"
     ]
    },
    {
     "name": "stdout",
     "output_type": "stream",
     "text": [
      "Epoch 87/100\n",
      "4/4 [==============================] - 1s 191ms/step - loss: 0.6758 - accuracy: 0.7930 - auc: 0.9560 - val_loss: 6.5618 - val_accuracy: 0.5231 - val_auc: 0.5231 - lr: 1.9102e-05\n",
      "Epoch 88/100\n",
      "4/4 [==============================] - 1s 188ms/step - loss: 0.6408 - accuracy: 0.8477 - auc: 0.9448 - val_loss: 6.4611 - val_accuracy: 0.5231 - val_auc: 0.5231 - lr: 1.8001e-05\n",
      "Epoch 89/100\n",
      "4/4 [==============================] - 1s 191ms/step - loss: 0.6221 - accuracy: 0.8477 - auc: 0.9539 - val_loss: 6.3851 - val_accuracy: 0.5231 - val_auc: 0.5231 - lr: 1.7033e-05\n",
      "Epoch 90/100\n",
      "4/4 [==============================] - 1s 189ms/step - loss: 0.6205 - accuracy: 0.8281 - auc: 0.9525 - val_loss: 6.2919 - val_accuracy: 0.5231 - val_auc: 0.5231 - lr: 1.6181e-05\n",
      "Epoch 91/100\n",
      "4/4 [==============================] - 1s 190ms/step - loss: 0.6820 - accuracy: 0.8711 - auc: 0.9536 - val_loss: 6.2034 - val_accuracy: 0.5231 - val_auc: 0.5231 - lr: 1.5431e-05\n",
      "Epoch 92/100\n",
      "4/4 [==============================] - 1s 198ms/step - loss: 0.6704 - accuracy: 0.8164 - auc: 0.9583 - val_loss: 6.1047 - val_accuracy: 0.5231 - val_auc: 0.5231 - lr: 1.4773e-05\n",
      "Epoch 93/100\n",
      "4/4 [==============================] - 1s 190ms/step - loss: 0.6601 - accuracy: 0.8594 - auc: 0.9573 - val_loss: 6.0378 - val_accuracy: 0.5231 - val_auc: 0.5231 - lr: 1.4193e-05\n",
      "Epoch 94/100\n",
      "4/4 [==============================] - 1s 194ms/step - loss: 0.7121 - accuracy: 0.8398 - auc: 0.9448 - val_loss: 5.9767 - val_accuracy: 0.5231 - val_auc: 0.5231 - lr: 1.3684e-05\n",
      "Epoch 95/100\n",
      "4/4 [==============================] - 1s 193ms/step - loss: 0.6655 - accuracy: 0.8281 - auc: 0.9517 - val_loss: 5.9024 - val_accuracy: 0.5231 - val_auc: 0.5231 - lr: 1.3236e-05\n",
      "Epoch 96/100\n",
      "4/4 [==============================] - 1s 190ms/step - loss: 0.6221 - accuracy: 0.8789 - auc: 0.9523 - val_loss: 5.8146 - val_accuracy: 0.5231 - val_auc: 0.5231 - lr: 1.2843e-05\n",
      "Epoch 97/100\n",
      "4/4 [==============================] - 1s 192ms/step - loss: 0.6513 - accuracy: 0.8516 - auc: 0.9607 - val_loss: 5.7380 - val_accuracy: 0.5231 - val_auc: 0.5231 - lr: 1.2497e-05\n",
      "Epoch 98/100\n",
      "4/4 [==============================] - 1s 199ms/step - loss: 0.6280 - accuracy: 0.8398 - auc: 0.9612 - val_loss: 5.6755 - val_accuracy: 0.5231 - val_auc: 0.5231 - lr: 1.2193e-05\n",
      "Epoch 99/100\n",
      "4/4 [==============================] - 1s 192ms/step - loss: 0.5914 - accuracy: 0.8633 - auc: 0.9536 - val_loss: 5.6284 - val_accuracy: 0.5231 - val_auc: 0.5231 - lr: 1.1927e-05\n",
      "Epoch 100/100\n",
      "4/4 [==============================] - 1s 196ms/step - loss: 0.6526 - accuracy: 0.8594 - auc: 0.9626 - val_loss: 5.5779 - val_accuracy: 0.5231 - val_auc: 0.5231 - lr: 1.1692e-05\n"
     ]
    }
   ],
   "source": [
    "n_epoch = 100\n",
    "lr = LearningRateScheduler(lambda e: sigmoidal_decay(e, end=n_epoch))\n",
    "\n",
    "batch_size = 64\n",
    "\n",
    "if mixup :\n",
    "    beta_param = .7\n",
    "else :\n",
    "    beta_param = 0\n",
    "    \n",
    "params = {'batch_size': batch_size,\n",
    "          #          'input_shape': (100, 313, 1),\n",
    "          'shuffle': True,\n",
    "          'chaug': 0,\n",
    "          'beta_param': beta_param,\n",
    "          'cout': cout,\n",
    "#              'mixup': True,\n",
    "          #          'lowpass': [.5, [11,12,13,14,15,16,17,18]]\n",
    "#            'highpass': [.5, [78,79,80,81,82,83,84,85]],\n",
    "#              'ranfilter2' : [3, [18,19,20,21,22,23]]\n",
    "        #           'dropblock' : [30, 100]\n",
    "          #'device' : device\n",
    "}\n",
    "\n",
    "\n",
    "\n",
    "if mixup :\n",
    "    params['mixup'] = mixup\n",
    "    params['ranfilter2'] = ranfil\n",
    "else :\n",
    "    params['cutout'] = cout\n",
    "\n",
    "\n",
    "params_no_shuffle = {'batch_size': batch_size,\n",
    "                     #          'input_shape': (100, 313, 1),\n",
    "                     'shuffle': False,\n",
    "                     'beta_param': 0.7,\n",
    "                     'mixup': False\n",
    "                     #'device': device\n",
    "}\n",
    "\n",
    "\n",
    "\n",
    "\n",
    "if mixup :\n",
    "\n",
    "    \n",
    "    class_weight = {0: oo_weight, 1: 1.}\n",
    "    TrainDGen_1 = Generator0([features_trn['age'],features_trn['sex'], features_trn['hw'], \n",
    "                              features_trn['preg'], features_trn['loc'],features_trn['interval'],features_trn['wav2'],\n",
    "                              features_trn['mel1'],\n",
    "                              features_trn['cqt1'],\n",
    "                              features_trn['stft1']],features_trn['out_labels'],**params)()\n",
    "\n",
    "    model2.fit(TrainDGen_1,\n",
    "               validation_data = ([features_test['age'],features_test['sex'], features_test['hw'],                                   \n",
    "                                   features_test['preg'], features_test['loc'],features_test['interval'],features_test['wav2'],\n",
    "                                   features_test['mel1'],\n",
    "                                   features_test['cqt1'],\n",
    "                                   features_test['stft1']],features_test['out_labels']), \n",
    "               \n",
    "               callbacks=[lr,model2_callback],\n",
    "               steps_per_epoch=np.ceil(len(features_trn['out_labels'])/batch_size),\n",
    "               class_weight=class_weight, \n",
    "               epochs = n_epoch)\n",
    "    \n"
   ]
  },
  {
   "cell_type": "code",
   "execution_count": 46,
   "id": "5d9abb6a",
   "metadata": {},
   "outputs": [
    {
     "data": {
      "text/plain": [
       "{'samp_sec': 20,\n",
       " 'pre_emphasis': 0,\n",
       " 'hop_length': 256,\n",
       " 'win_length': 512,\n",
       " 'n_mels': 120,\n",
       " 'filter_scale': 1,\n",
       " 'n_bins': 80,\n",
       " 'fmin': 10,\n",
       " 'maxlen1': 120000,\n",
       " 'min_dist': 500,\n",
       " 'max_interval_len': 115,\n",
       " 'trim': 1,\n",
       " 'use_mel': True,\n",
       " 'use_cqt': False,\n",
       " 'use_stft': False,\n",
       " 'use_interval': True,\n",
       " 'use_wav2': True,\n",
       " 'per_sec': 4000,\n",
       " 'ord1': True,\n",
       " 'mm_mean': False,\n",
       " 'dp': 0,\n",
       " 'fc': False,\n",
       " 'ext': True,\n",
       " 'oo_weight': 3,\n",
       " 'mm_weight': 3,\n",
       " 'chaug': 10,\n",
       " 'cout': 0.8,\n",
       " 'wunknown': 1,\n",
       " 'mixup': True,\n",
       " 'n1': 0}"
      ]
     },
     "execution_count": 46,
     "metadata": {},
     "output_type": "execute_result"
    }
   ],
   "source": [
    "params_feature"
   ]
  },
  {
   "cell_type": "code",
   "execution_count": 47,
   "id": "08f47fb7",
   "metadata": {},
   "outputs": [],
   "source": [
    "params_feature['mel_shape'] = mel_input_shape\n",
    "params_feature['cqt_shape'] = cqt_input_shape\n",
    "params_feature['stft_shape'] = stft_input_shape\n",
    "params_feature['interval_input_shape'] = interval_input_shape\n",
    "params_feature['wav2_input_shape'] = wav2_input_shape\n",
    "params_feature['max_interval_len'] = max_interval_len"
   ]
  },
  {
   "cell_type": "code",
   "execution_count": null,
   "id": "7bf05dc7",
   "metadata": {},
   "outputs": [],
   "source": []
  },
  {
   "cell_type": "code",
   "execution_count": 48,
   "id": "7e94993e",
   "metadata": {},
   "outputs": [
    {
     "data": {
      "text/plain": [
       "{'samp_sec': 20,\n",
       " 'pre_emphasis': 0,\n",
       " 'hop_length': 256,\n",
       " 'win_length': 512,\n",
       " 'n_mels': 120,\n",
       " 'filter_scale': 1,\n",
       " 'n_bins': 80,\n",
       " 'fmin': 10,\n",
       " 'maxlen1': 120000,\n",
       " 'min_dist': 500,\n",
       " 'max_interval_len': 115,\n",
       " 'trim': 1,\n",
       " 'use_mel': True,\n",
       " 'use_cqt': False,\n",
       " 'use_stft': False,\n",
       " 'use_interval': True,\n",
       " 'use_wav2': True,\n",
       " 'per_sec': 4000,\n",
       " 'ord1': True,\n",
       " 'mm_mean': False,\n",
       " 'dp': 0,\n",
       " 'fc': False,\n",
       " 'ext': True,\n",
       " 'oo_weight': 3,\n",
       " 'mm_weight': 3,\n",
       " 'chaug': 10,\n",
       " 'cout': 0.8,\n",
       " 'wunknown': 1,\n",
       " 'mixup': True,\n",
       " 'n1': 0,\n",
       " 'mel_shape': (120, 313, 1),\n",
       " 'cqt_shape': (1, 1, 1),\n",
       " 'stft_shape': (1, 1, 1),\n",
       " 'interval_input_shape': (115, 1),\n",
       " 'wav2_input_shape': (128, 128, 1)}"
      ]
     },
     "execution_count": 48,
     "metadata": {},
     "output_type": "execute_result"
    }
   ],
   "source": [
    "params_feature"
   ]
  },
  {
   "cell_type": "code",
   "execution_count": 49,
   "id": "eb94fb63",
   "metadata": {},
   "outputs": [],
   "source": [
    "#확인"
   ]
  },
  {
   "cell_type": "code",
   "execution_count": null,
   "id": "2a42760e",
   "metadata": {},
   "outputs": [],
   "source": []
  },
  {
   "cell_type": "code",
   "execution_count": null,
   "id": "98e24365",
   "metadata": {},
   "outputs": [],
   "source": []
  },
  {
   "cell_type": "code",
   "execution_count": null,
   "id": "9b82a69b",
   "metadata": {},
   "outputs": [],
   "source": []
  },
  {
   "cell_type": "code",
   "execution_count": null,
   "id": "43bfcad2",
   "metadata": {},
   "outputs": [],
   "source": []
  },
  {
   "cell_type": "code",
   "execution_count": 50,
   "id": "786d2ba7",
   "metadata": {},
   "outputs": [],
   "source": [
    "import pickle as pk\n",
    "def save_challenge_model(model_folder, model1, model2, m_name1, m_name2, param_feature) :\n",
    "    os.makedirs(model_folder, exist_ok=True)\n",
    "    info_fnm = os.path.join(model_folder, 'desc.pk')\n",
    "    filename1 = os.path.join(model_folder, m_name1 + '_model1.hdf5')\n",
    "    filename2 = os.path.join(model_folder, m_name2 + '_model2.hdf5')\n",
    "    model1.save(filename1)\n",
    "    model2.save(filename2)\n",
    "    param_feature['model1'] = m_name1\n",
    "    param_feature['model2'] = m_name2\n",
    "    param_feature['model_fnm1'] = filename1\n",
    "    param_feature['model_fnm2'] = filename2\n",
    "    with open(info_fnm, 'wb') as f:\n",
    "        pk.dump(param_feature, f, pk.HIGHEST_PROTOCOL)\n",
    "    return 1\n",
    "\n",
    "    with open(info_fnm, 'wb') as f:\n",
    "        pk.dump(param_feature, f, pk.HIGHEST_PROTOCOL)\n",
    "    return 1\n",
    "    "
   ]
  },
  {
   "cell_type": "code",
   "execution_count": 51,
   "id": "6b9ae924",
   "metadata": {},
   "outputs": [
    {
     "data": {
      "text/plain": [
       "'lcnn2'"
      ]
     },
     "execution_count": 51,
     "metadata": {},
     "output_type": "execute_result"
    }
   ],
   "source": [
    "model_folder"
   ]
  },
  {
   "cell_type": "code",
   "execution_count": 52,
   "id": "ed1124d7",
   "metadata": {},
   "outputs": [
    {
     "data": {
      "text/plain": [
       "1"
      ]
     },
     "execution_count": 52,
     "metadata": {},
     "output_type": "execute_result"
    }
   ],
   "source": [
    "save_challenge_model(model_folder, model1, model2, m_name1 = 'lcnn1', m_name2 = 'lcnn2', param_feature = params_feature)"
   ]
  },
  {
   "cell_type": "code",
   "execution_count": null,
   "id": "99691ca8",
   "metadata": {},
   "outputs": [],
   "source": []
  },
  {
   "cell_type": "code",
   "execution_count": 53,
   "id": "ba030c37",
   "metadata": {},
   "outputs": [],
   "source": [
    "def load_challenge_model(model_folder, verbose):\n",
    "    info_fnm = os.path.join(model_folder, 'desc.pk')\n",
    "    with open(info_fnm, 'rb') as f:\n",
    "        info_m = pk.load(f)\n",
    "\n",
    "    return info_m"
   ]
  },
  {
   "cell_type": "code",
   "execution_count": 54,
   "id": "19a747dc",
   "metadata": {},
   "outputs": [],
   "source": [
    "def run_challenge_model(model, data, recordings, verbose):\n",
    "    \n",
    "    murmur_classes = ['Present', 'Unknown', 'Absent']\n",
    "    outcome_classes = ['Abnormal', 'Normal']\n",
    "\n",
    "##########################################################################    \n",
    "    if model['model1'] == 'lcnn1' :\n",
    "        model1 = get_LCNN_o_4_dr(model['mel_shape'],model['cqt_shape'],model['stft_shape'], model['interval_input_shape'],\n",
    "                                   model['wav2_input_shape'], \n",
    "                                   use_mel = model['use_mel'],use_cqt = model['use_cqt'], use_stft = model['use_stft'], \n",
    "                                 ord1 = model['ord1'], dp = model['dp'], fc = model['fc'], ext = model['ext'],\n",
    "                                   use_wav2=model['use_wav2'])  \n",
    "    if model['model2'] == 'lcnn2' :\n",
    "        model2 = get_LCNN_o_4_dr(model['mel_shape'],model['cqt_shape'],model['stft_shape'], model['interval_input_shape'],\n",
    "                                   model['wav2_input_shape'], \n",
    "                                   use_mel = model['use_mel'],use_cqt = model['use_cqt'], use_stft = model['use_stft'], \n",
    "                                 ord1 = model['ord1'], dp = model['dp'], fc = model['fc'], ext = model['ext'],\n",
    "                                   use_wav2=model['use_wav2'])   \n",
    "    model1.layers[-5].trainable=False\n",
    "    model2.layers[-5].trainable=False\n",
    "    model1.load_weights(model['model_fnm1'])\n",
    "    model2.load_weights(model['model_fnm2'])\n",
    "############################################################################ \n",
    "\n",
    "\n",
    "    maxlen1 = params_feature['maxlen1']\n",
    "    min_dist = params_feature['min_dist']\n",
    "    max_interval_len = params_feature['max_interval_len']\n",
    "    \n",
    "    \n",
    "    # Load features.\n",
    "    features = get_feature_one(data, verbose = 0)\n",
    "\n",
    "    samp_sec = model['samp_sec'] \n",
    "    pre_emphasis = model['pre_emphasis']\n",
    "    hop_length = model['hop_length']\n",
    "    win_length = model['win_length']\n",
    "    n_mels = model['n_mels']\n",
    "    filter_scale = model['filter_scale']\n",
    "    n_bins = model['n_bins']\n",
    "    fmin = model['fmin']\n",
    "    trim = model['trim']\n",
    "    use_mel = model['use_mel']\n",
    "    use_cqt = model['use_cqt']\n",
    "    use_stft = model['use_stft']\n",
    "    use_interval = model['use_interval']\n",
    "    use_wav2 = model['use_wav2']\n",
    "    maxlen1 = model['maxlen1']\n",
    "    min_dist = model['min_dist']\n",
    "    per_sec = model['per_sec']\n",
    "    \n",
    "#    use_raw = model['use_raw']\n",
    "\n",
    "\n",
    "\n",
    "    from wav2vec2 import Wav2Vec2ForCTC, Wav2Vec2Config\n",
    "    import tensorflow as tf\n",
    "    \n",
    "    config = Wav2Vec2Config()\n",
    "    tmp_model = Wav2Vec2ForCTC(config)\n",
    "    tmp_model.trainable=False\n",
    "\n",
    "\n",
    "    features['wav2'] = []\n",
    "    tmp_wav=[] \n",
    "    if use_wav2:\n",
    "\n",
    "        for i in range(len(recordings)):\n",
    "            data = recordings[i]/32768\n",
    "            tmp_wav.append(data)\n",
    "\n",
    "        padded =pad_sequences(tmp_wav, maxlen=maxlen1, dtype='float64', padding='post', truncating='post', value=0.0)\n",
    "\n",
    "        tmp_pad = padded[:,np.newaxis,:]\n",
    "        \n",
    "        tmp=[]\n",
    "        for i in tqdm.tqdm(range(len(tmp_pad))):\n",
    "            tmp_feature = tmp_model(tmp_pad[i])\n",
    "            tmp.append(tmp_feature)\n",
    "    \n",
    "    tmp=np.array(tmp, dtype=np.float32)\n",
    "    new_tmp1=tmp.reshape(-1,32,374)\n",
    "    tmp_wav2 = np.zeros((len(new_tmp1),128,128,1))\n",
    "    for i in range(len(new_tmp1)):\n",
    "        test_ary=new_tmp1[i]\n",
    "        res = resize(test_ary, (128,128,1))\n",
    "        tmp_wav2[i]=res        \n",
    " \n",
    "    features['wav2']=tmp_wav2\n",
    "    \n",
    "    features['interval'] = []\n",
    "    tmp_total_interval = [] \n",
    "       \n",
    "    if use_interval:\n",
    "\n",
    "\n",
    "        for i in tqdm.tqdm(range(len(recordings))) :\n",
    "            \n",
    "            datos=recordings[i]\n",
    "            filtros=sio.loadmat('./Filters1')\n",
    "            tmp_interval = []\n",
    "            n_samp = len(datos)//per_sec\n",
    "\n",
    "\n",
    "            try:\n",
    "                for k in range(n_samp):\n",
    "                    \n",
    "                    X = datos[k*per_sec:(k+1)*per_sec]\n",
    "                    Fs= per_sec\n",
    "                    Fpa20=filtros['Fpa20'];\t\t\t        # High pass filter\n",
    "                    Fpa20=Fpa20[0];\t\t\t\t\t# High pass filter\n",
    "                    Fpb100=filtros['Fpb100'];\t\t        # Low-pass Filter\n",
    "                    Fpb100=Fpb100[0];\t\t\t\t# Low-pass Filter\n",
    "                    Xf=FpassBand(X,Fpa20,Fpb100); \t                # Apply a passband filter\n",
    "                    Xf=vec_nor(Xf);\t\t\t\n",
    "\n",
    "                # Derivate of the Signal\n",
    "                    dX=derivate(Xf);\t\t\t\t# Derivate of the signal\n",
    "                    dX=vec_nor(dX);\t\t\t\t\t# Vector Normalizing\n",
    "                # Square of the signal\n",
    "                    dy=np.square(Xf);\n",
    "                    dy=vec_nor(dy);\n",
    "\n",
    "                    size=np.shape(Xf)\t\t\t\t# Rank or dimension of the array\n",
    "                    fil=size[0];\t\t\t\t\t# Number of rows\n",
    "\n",
    "                    positive=np.zeros((1,fil+1));                   # Initializating Positives Values Vector \n",
    "                    positive=positive[0];                           # Getting the Vector\n",
    "\n",
    "                    points=np.zeros((1,fil));                       # Initializating the all Peak Points Vector\n",
    "                    points=points[0];                               # Getting the point vector\n",
    "\n",
    "                    peaks=np.zeros((1,fil));                        # Initializating the s1-s1 Peak Vector\n",
    "                    peaks=peaks[0];                                 # Getting the point vector\n",
    "\n",
    "\n",
    "                    for i in range(0,fil):\n",
    "                        if dX[i]>0:\n",
    "                            positive[i]=1;\n",
    "                        else:\n",
    "                            positive[i]=0;\n",
    "\n",
    "                    for i in range(0,fil):\n",
    "                        if (positive[i]==1 and positive[i+1]==0):\n",
    "                            points[i]=Xf[i];\n",
    "                        else:\n",
    "                            points[i]=0;\n",
    "\n",
    "                    indexes=peakutils.indexes(points,thres=0.5/max(points), min_dist=min_dist);\n",
    "                    lenght=np.shape(indexes)\t\t\t# Get the length of the index vector\t\t\n",
    "                    lenght=lenght[0];\t\t\t\t# Get the value of the index vector\n",
    "\n",
    "                    for i in range(0,lenght):\n",
    "                        p=indexes[i];\n",
    "                        peaks[p]=points[p];\n",
    "\n",
    "                    n=np.arange(0,fil);                            # Vector to the X axes (Number of Samples)\n",
    "                    indexes =indexes+(k*per_sec)    \n",
    "                    tmp_peaks = np.array(indexes)\n",
    "\n",
    "\n",
    "                    tmp_interval.extend(tmp_peaks)\n",
    "\n",
    "                tmp_interval = np.array(tmp_interval)\n",
    "                tmp_interval = np.diff(tmp_interval)\n",
    "\n",
    "                tmp_total_interval.append(tmp_interval)\n",
    "\n",
    "\n",
    "            except:\n",
    "                print(i)\n",
    "                tmp_peaks = np.zeros(max_interval_len)\n",
    "                tmp_total_interval.append(tmp_peaks)\n",
    "\n",
    "    else :\n",
    "\n",
    "        tmp_peaks = np.zeros(max_interval_len)\n",
    "        tmp_total_interval.append(tmp_peaks)       \n",
    "\n",
    "\n",
    "    if use_interval:\n",
    "          \n",
    "        padded =pad_sequences(tmp_total_interval, maxlen=max_interval_len, dtype='float64', padding='post', truncating='post', value=0.0)\n",
    "\n",
    "        for i in range(len(padded)):\n",
    "            features['interval'].append(padded[i])\n",
    "             \n",
    "        for i in range(len(features['interval'])):\n",
    "            features['interval'][i]= features['interval'][i].reshape(-1,1)\n",
    "    \n",
    "        features['interval']=np.array(features['interval'])\n",
    "    \n",
    "        \n",
    "    else:\n",
    "        for i in range(len(tmp_interval)):\n",
    "            features['interval'].append(tmp_total_interval[i])\n",
    "        \n",
    "        for i in range(len(features['interval'])):\n",
    "            features['interval'][i]= features['interval'][i].reshape(-1,1)\n",
    "        features['interval']=np.array(features['interval'])\n",
    "    \n",
    "    \n",
    "    \n",
    "    features['mel1'] = []\n",
    "    for i in range(len(recordings)) :\n",
    "        if use_mel :\n",
    "            mel1 = feature_extract_melspec(recordings[i]/ 32768, samp_sec=samp_sec, pre_emphasis = pre_emphasis, hop_length=hop_length, \n",
    "                                           win_length = win_length, n_mels = n_mels)[0]\n",
    "        else :\n",
    "            mel1 = np.zeros( (1,1) )\n",
    "            \n",
    "        features['mel1'].append(mel1)\n",
    "        \n",
    "    M, N = features['mel1'][0].shape\n",
    "    \n",
    "    if use_mel :\n",
    "        for i in range(len(features['mel1'])) :\n",
    "            features['mel1'][i] = features['mel1'][i].reshape(M,N,1)   \n",
    "    \n",
    "    features['mel1'] = np.array(features['mel1'])\n",
    "\n",
    "    \n",
    "  \n",
    "    features['cqt1'] = []\n",
    "    for i in range(len(recordings)) :\n",
    "        if use_cqt :\n",
    "            mel1 = feature_extract_cqt(recordings[i], samp_sec=samp_sec, pre_emphasis = pre_emphasis, filter_scale = filter_scale, \n",
    "                                        n_bins = n_bins, fmin = fmin)[0]\n",
    "        else:\n",
    "            mel1 = np.zeros( (1,1,1) )\n",
    "            \n",
    "        features['cqt1'].append(mel1)\n",
    "        \n",
    "    M, N,__ = features['cqt1'][0].shape\n",
    "    \n",
    "    if use_cqt :\n",
    "        for i in range(len(features['cqt1'])) :\n",
    "            features['cqt1'][i] = features['cqt1'][i].reshape(M,N,1)   \n",
    "    \n",
    "    features['cqt1'] = np.array(features['cqt1'])\n",
    "    \n",
    "    \n",
    "    features['stft1'] = []\n",
    "    for i in range(len(recordings)) :\n",
    "        if use_stft :\n",
    "            mel1 = feature_extract_stft(recordings[i]/ 32768, samp_sec=samp_sec, pre_emphasis = pre_emphasis, hop_length=hop_length, \n",
    "                                        win_length = win_length)[0]\n",
    "        else :\n",
    "            mel1 = np.zeros( (1,1,1) )\n",
    "        \n",
    "        features['stft1'].append(mel1)\n",
    "        \n",
    "    M, N,__ = features['stft1'][0].shape\n",
    "    if use_stft :\n",
    "        for i in range(len(features['stft1'])) :\n",
    "            features['stft1'][i] = features['stft1'][i].reshape(M,N,1)           \n",
    "    features['stft1'] = np.array(features['stft1'])\n",
    "    \n",
    "#     return features       \n",
    "\n",
    "    #    print(features)\n",
    "    # Impute missing data.\n",
    "    res1 = model1.predict([features['age'], features['sex'], features['hw'], features['preg'], \n",
    "                           features['loc'], features['interval'],features['wav2'],features['mel1'], features['stft1'], features['cqt1']])\n",
    "    res2 = model2.predict([features['age'], features['sex'], features['hw'], features['preg'], \n",
    "                           features['loc'], features['interval'],features['wav2'],features['mel1'], features['stft1'], features['cqt1']])\n",
    "    if model['ord1'] :\n",
    "        idx1 = res1.argmax(axis=0)[0]\n",
    "        murmur_p = res1[idx1,]  ## mumur 확률 최대화 되는 애 뽑기ddd\n",
    "        murmur_probabilities = np.zeros((3,))\n",
    "        murmur_probabilities[0] = murmur_p[0]\n",
    "        murmur_probabilities[1] = 0\n",
    "        murmur_probabilities[2] = murmur_p[1]\n",
    "        outcome_probabilities = res2.mean(axis = 0) ##  outcome 은 그냥 평균으로 뽑기\n",
    "    else :\n",
    "        if model['mm_mean'] :\n",
    "            murmur_probabilities = res1.mean(axis = 0)\n",
    "        else :\n",
    "            idx1 = res1.argmax(axis=0)[0]\n",
    "            murmur_probabilities = res1[idx1,]  ## mumur 확률 최대화 되는 애 뽑기\n",
    "        outcome_probabilities = res2.mean(axis = 0) ##  outcome 은 그냥 평균으로 뽑기\n",
    "\n",
    "        \n",
    "    murmur_labels = np.zeros(len(murmur_classes), dtype=np.int_)\n",
    "    \n",
    "    \n",
    "    if murmur_probabilities[0] > 0.482 :\n",
    "        idx = 0\n",
    "    else :\n",
    "        idx = 2\n",
    "    murmur_labels[idx] = 1\n",
    "\n",
    "    outcome_labels = np.zeros(len(outcome_classes), dtype=np.int_)\n",
    "    if outcome_probabilities[0] > 0.607 :\n",
    "        idx = 0\n",
    "    else :\n",
    "        idx = 1    \n",
    "        # idx = np.argmax(outcome_probabilities)\n",
    "    outcome_labels[idx] = 1\n",
    "    \n",
    "    # Concatenate classes, labels, and probabilities.\n",
    "    classes = murmur_classes + outcome_classes\n",
    "    labels = np.concatenate((murmur_labels, outcome_labels))\n",
    "    probabilities = np.concatenate((murmur_probabilities, outcome_probabilities))\n",
    "    \n",
    "    return classes, labels, probabilities"
   ]
  },
  {
   "cell_type": "code",
   "execution_count": 55,
   "id": "b5eecd4a",
   "metadata": {
    "scrolled": true
   },
   "outputs": [
    {
     "data": {
      "text/plain": [
       "'lcnn2'"
      ]
     },
     "execution_count": 55,
     "metadata": {},
     "output_type": "execute_result"
    }
   ],
   "source": [
    "model_folder"
   ]
  },
  {
   "cell_type": "code",
   "execution_count": 56,
   "id": "cd5b523f",
   "metadata": {},
   "outputs": [],
   "source": [
    "data_folder = test_folder"
   ]
  },
  {
   "cell_type": "code",
   "execution_count": 57,
   "id": "1f523ff0",
   "metadata": {},
   "outputs": [
    {
     "data": {
      "text/plain": [
       "'/home/jk21/Downloads/Data/data/murmur/test'"
      ]
     },
     "execution_count": 57,
     "metadata": {},
     "output_type": "execute_result"
    }
   ],
   "source": [
    "data_folder"
   ]
  },
  {
   "cell_type": "code",
   "execution_count": 58,
   "id": "c67ffdf6",
   "metadata": {},
   "outputs": [],
   "source": [
    "output_folder ='/home/jk21/Documents/hmd/jk_classifier/out_lcnn2'"
   ]
  },
  {
   "cell_type": "code",
   "execution_count": 59,
   "id": "89e8d650",
   "metadata": {},
   "outputs": [],
   "source": [
    "allow_failures=True"
   ]
  },
  {
   "cell_type": "code",
   "execution_count": 60,
   "id": "bccc27ef",
   "metadata": {},
   "outputs": [],
   "source": [
    "verbose=1"
   ]
  },
  {
   "cell_type": "code",
   "execution_count": null,
   "id": "101c582c",
   "metadata": {},
   "outputs": [],
   "source": []
  },
  {
   "cell_type": "code",
   "execution_count": 61,
   "id": "73579324",
   "metadata": {},
   "outputs": [],
   "source": [
    "model = load_challenge_model(model_folder, verbose)"
   ]
  },
  {
   "cell_type": "code",
   "execution_count": 62,
   "id": "20a7edc2",
   "metadata": {},
   "outputs": [],
   "source": [
    "patient_files = find_patient_files(data_folder)"
   ]
  },
  {
   "cell_type": "code",
   "execution_count": 63,
   "id": "450b3026",
   "metadata": {},
   "outputs": [],
   "source": [
    "num_patient_files = len(patient_files)"
   ]
  },
  {
   "cell_type": "code",
   "execution_count": 64,
   "id": "2ed2bb8f",
   "metadata": {},
   "outputs": [],
   "source": [
    "patient_data = load_patient_data(patient_files[0])"
   ]
  },
  {
   "cell_type": "code",
   "execution_count": 65,
   "id": "18f0a77e",
   "metadata": {},
   "outputs": [
    {
     "data": {
      "text/plain": [
       "'33151 4 4000\\nAV 33151_AV.hea 33151_AV.wav 33151_AV.tsv\\nPV 33151_PV.hea 33151_PV.wav 33151_PV.tsv\\nTV 33151_TV.hea 33151_TV.wav 33151_TV.tsv\\nMV 33151_MV.hea 33151_MV.wav 33151_MV.tsv\\n#Age: Child\\n#Sex: Female\\n#Height: 141.0\\n#Weight: 30.9\\n#Pregnancy status: False\\n#Murmur: Present\\n#Murmur locations: MV+TV\\n#Most audible location: TV\\n#Systolic murmur timing: Holosystolic\\n#Systolic murmur shape: Plateau\\n#Systolic murmur grading: I/VI\\n#Systolic murmur pitch: Low\\n#Systolic murmur quality: Harsh\\n#Diastolic murmur timing: nan\\n#Diastolic murmur shape: nan\\n#Diastolic murmur grading: nan\\n#Diastolic murmur pitch: nan\\n#Diastolic murmur quality: nan\\n#Outcome: Abnormal\\n#Campaign: CC2015\\n#Additional ID: nan\\n'"
      ]
     },
     "execution_count": 65,
     "metadata": {},
     "output_type": "execute_result"
    }
   ],
   "source": [
    "patient_data"
   ]
  },
  {
   "cell_type": "code",
   "execution_count": 66,
   "id": "f039e162",
   "metadata": {},
   "outputs": [],
   "source": [
    "recordings = load_recordings(data_folder, patient_data)"
   ]
  },
  {
   "cell_type": "code",
   "execution_count": 67,
   "id": "d3acd534",
   "metadata": {
    "scrolled": true
   },
   "outputs": [
    {
     "name": "stderr",
     "output_type": "stream",
     "text": [
      "100%|█████████████████████████████████████████████| 4/4 [00:00<00:00, 12.41it/s]\n",
      "100%|█████████████████████████████████████████████| 4/4 [00:00<00:00,  8.52it/s]\n"
     ]
    }
   ],
   "source": [
    "classes, labels, probabilities = run_challenge_model(model, patient_data, recordings, verbose)"
   ]
  },
  {
   "cell_type": "code",
   "execution_count": 68,
   "id": "9bb40d85",
   "metadata": {},
   "outputs": [
    {
     "data": {
      "text/plain": [
       "array([7.82036602e-01, 0.00000000e+00, 2.17963383e-01, 9.99560177e-01,\n",
       "       4.39793395e-04])"
      ]
     },
     "execution_count": 68,
     "metadata": {},
     "output_type": "execute_result"
    }
   ],
   "source": [
    "probabilities"
   ]
  },
  {
   "cell_type": "code",
   "execution_count": 69,
   "id": "970b87e5",
   "metadata": {},
   "outputs": [
    {
     "data": {
      "text/plain": [
       "['Present', 'Unknown', 'Absent', 'Abnormal', 'Normal']"
      ]
     },
     "execution_count": 69,
     "metadata": {},
     "output_type": "execute_result"
    }
   ],
   "source": [
    "classes"
   ]
  },
  {
   "cell_type": "code",
   "execution_count": null,
   "id": "db1c8488",
   "metadata": {},
   "outputs": [],
   "source": []
  },
  {
   "cell_type": "code",
   "execution_count": null,
   "id": "ecd6943c",
   "metadata": {},
   "outputs": [],
   "source": []
  },
  {
   "cell_type": "code",
   "execution_count": null,
   "id": "76bbbee7",
   "metadata": {},
   "outputs": [],
   "source": []
  },
  {
   "cell_type": "code",
   "execution_count": null,
   "id": "4e134b18",
   "metadata": {},
   "outputs": [],
   "source": []
  },
  {
   "cell_type": "code",
   "execution_count": null,
   "id": "92fafdb5",
   "metadata": {},
   "outputs": [],
   "source": []
  },
  {
   "cell_type": "code",
   "execution_count": 85,
   "id": "b6a44c38",
   "metadata": {},
   "outputs": [],
   "source": [
    "# Run model.\n",
    "def run_model(model_folder, data_folder, output_folder, allow_failures, verbose=1):\n",
    "    # Load models.\n",
    "    if verbose >= 1:\n",
    "        print('Loading Challenge model...')\n",
    "\n",
    "    model = load_challenge_model(model_folder, verbose) ### Teams: Implement this function!!!\n",
    "\n",
    "    # Find the patient data files.\n",
    "    patient_files = find_patient_files(data_folder)\n",
    "    num_patient_files = len(patient_files)\n",
    "\n",
    "    if num_patient_files==0:\n",
    "        raise Exception('No data was provided.')\n",
    "\n",
    "    # Create a folder for the Challenge outputs if it does not already exist.\n",
    "    os.makedirs(output_folder, exist_ok=True)\n",
    "\n",
    "    # Run the team's model on the Challenge data.\n",
    "    if verbose >= 1:\n",
    "        print('Running model on Challenge data...')\n",
    "\n",
    "    # Iterate over the patient files.\n",
    "    for i in range(num_patient_files):\n",
    "        if verbose >= 2:\n",
    "            print('    {}/{}...'.format(i+1, num_patient_files))\n",
    "\n",
    "        patient_data = load_patient_data(patient_files[i])\n",
    "        recordings = load_recordings(data_folder, patient_data)\n",
    "\n",
    "        # Allow or disallow the model to fail on parts of the data; helpful for debugging.\n",
    "        try:\n",
    "            classes, labels, probabilities = run_challenge_model(model, patient_data, recordings, verbose) ### Teams: Implement this function!!!\n",
    "        except:\n",
    "            if allow_failures:\n",
    "                if verbose >= 2:\n",
    "                    print('... failed.')\n",
    "                classes, labels, probabilities = list(), list(), list()\n",
    "            else:\n",
    "                raise\n",
    "\n",
    "        # Save Challenge outputs.\n",
    "        head, tail = os.path.split(patient_files[i])\n",
    "        root, extension = os.path.splitext(tail)\n",
    "        output_file = os.path.join(output_folder, root + '.csv')\n",
    "        patient_id = get_patient_id(patient_data)\n",
    "        save_challenge_outputs(output_file, patient_id, classes, labels, probabilities)\n",
    "\n",
    "    if verbose >= 1:\n",
    "        print('Done.')"
   ]
  },
  {
   "cell_type": "code",
   "execution_count": 86,
   "id": "7fe188c6",
   "metadata": {},
   "outputs": [
    {
     "data": {
      "text/plain": [
       "'/home/jk21/Downloads/Data/data/murmur/test'"
      ]
     },
     "execution_count": 86,
     "metadata": {},
     "output_type": "execute_result"
    }
   ],
   "source": [
    "test_folder"
   ]
  },
  {
   "cell_type": "code",
   "execution_count": 87,
   "id": "38ee9f70",
   "metadata": {},
   "outputs": [],
   "source": [
    "output_folder = '/home/jk21/Documents/hmd/jk_classifier/out_lcnn2'"
   ]
  },
  {
   "cell_type": "code",
   "execution_count": 88,
   "id": "9a8580ab",
   "metadata": {},
   "outputs": [
    {
     "data": {
      "text/plain": [
       "'lcnn2'"
      ]
     },
     "execution_count": 88,
     "metadata": {},
     "output_type": "execute_result"
    }
   ],
   "source": [
    "model_folder"
   ]
  },
  {
   "cell_type": "code",
   "execution_count": 89,
   "id": "d4be81f7",
   "metadata": {
    "scrolled": true
   },
   "outputs": [
    {
     "name": "stdout",
     "output_type": "stream",
     "text": [
      "Loading Challenge model...\n",
      "Running model on Challenge data...\n",
      "    1/191...\n"
     ]
    },
    {
     "name": "stderr",
     "output_type": "stream",
     "text": [
      "100%|█████████████████████████████████████████████| 4/4 [00:00<00:00,  9.96it/s]\n",
      "100%|█████████████████████████████████████████████| 4/4 [00:00<00:00,  6.83it/s]\n"
     ]
    },
    {
     "name": "stdout",
     "output_type": "stream",
     "text": [
      "    2/191...\n"
     ]
    },
    {
     "name": "stderr",
     "output_type": "stream",
     "text": [
      "100%|█████████████████████████████████████████████| 2/2 [00:00<00:00, 10.20it/s]\n",
      "100%|█████████████████████████████████████████████| 2/2 [00:00<00:00,  7.84it/s]\n"
     ]
    },
    {
     "name": "stdout",
     "output_type": "stream",
     "text": [
      "WARNING:tensorflow:5 out of the last 5 calls to <function Model.make_predict_function.<locals>.predict_function at 0x7f89945de4c0> triggered tf.function retracing. Tracing is expensive and the excessive number of tracings could be due to (1) creating @tf.function repeatedly in a loop, (2) passing tensors with different shapes, (3) passing Python objects instead of tensors. For (1), please define your @tf.function outside of the loop. For (2), @tf.function has experimental_relax_shapes=True option that relaxes argument shapes that can avoid unnecessary retracing. For (3), please refer to https://www.tensorflow.org/guide/function#controlling_retracing and https://www.tensorflow.org/api_docs/python/tf/function for  more details.\n",
      "WARNING:tensorflow:6 out of the last 6 calls to <function Model.make_predict_function.<locals>.predict_function at 0x7f896c2b5f70> triggered tf.function retracing. Tracing is expensive and the excessive number of tracings could be due to (1) creating @tf.function repeatedly in a loop, (2) passing tensors with different shapes, (3) passing Python objects instead of tensors. For (1), please define your @tf.function outside of the loop. For (2), @tf.function has experimental_relax_shapes=True option that relaxes argument shapes that can avoid unnecessary retracing. For (3), please refer to https://www.tensorflow.org/guide/function#controlling_retracing and https://www.tensorflow.org/api_docs/python/tf/function for  more details.\n",
      "    3/191...\n"
     ]
    },
    {
     "name": "stderr",
     "output_type": "stream",
     "text": [
      "100%|█████████████████████████████████████████████| 4/4 [00:00<00:00, 11.25it/s]\n",
      "100%|█████████████████████████████████████████████| 4/4 [00:00<00:00,  5.75it/s]\n"
     ]
    },
    {
     "name": "stdout",
     "output_type": "stream",
     "text": [
      "    4/191...\n"
     ]
    },
    {
     "name": "stderr",
     "output_type": "stream",
     "text": [
      "100%|█████████████████████████████████████████████| 2/2 [00:00<00:00, 10.66it/s]\n",
      "100%|█████████████████████████████████████████████| 2/2 [00:00<00:00,  4.44it/s]\n"
     ]
    },
    {
     "name": "stdout",
     "output_type": "stream",
     "text": [
      "    5/191...\n"
     ]
    },
    {
     "name": "stderr",
     "output_type": "stream",
     "text": [
      "100%|█████████████████████████████████████████████| 3/3 [00:00<00:00, 10.97it/s]\n",
      "100%|█████████████████████████████████████████████| 3/3 [00:00<00:00,  4.53it/s]\n"
     ]
    },
    {
     "name": "stdout",
     "output_type": "stream",
     "text": [
      "    6/191...\n"
     ]
    },
    {
     "name": "stderr",
     "output_type": "stream",
     "text": [
      "100%|█████████████████████████████████████████████| 1/1 [00:00<00:00, 11.32it/s]\n",
      "100%|█████████████████████████████████████████████| 1/1 [00:00<00:00,  2.94it/s]\n"
     ]
    },
    {
     "name": "stdout",
     "output_type": "stream",
     "text": [
      "    7/191...\n"
     ]
    },
    {
     "name": "stderr",
     "output_type": "stream",
     "text": [
      "100%|█████████████████████████████████████████████| 4/4 [00:00<00:00, 10.59it/s]\n",
      "100%|█████████████████████████████████████████████| 4/4 [00:00<00:00,  4.37it/s]\n"
     ]
    },
    {
     "name": "stdout",
     "output_type": "stream",
     "text": [
      "    8/191...\n"
     ]
    },
    {
     "name": "stderr",
     "output_type": "stream",
     "text": [
      "100%|█████████████████████████████████████████████| 4/4 [00:00<00:00, 10.39it/s]\n",
      "100%|█████████████████████████████████████████████| 4/4 [00:00<00:00,  8.93it/s]\n"
     ]
    },
    {
     "name": "stdout",
     "output_type": "stream",
     "text": [
      "    9/191...\n"
     ]
    },
    {
     "name": "stderr",
     "output_type": "stream",
     "text": [
      "100%|█████████████████████████████████████████████| 4/4 [00:00<00:00, 11.23it/s]\n",
      "100%|█████████████████████████████████████████████| 4/4 [00:00<00:00,  4.43it/s]\n"
     ]
    },
    {
     "name": "stdout",
     "output_type": "stream",
     "text": [
      "    10/191...\n"
     ]
    },
    {
     "name": "stderr",
     "output_type": "stream",
     "text": [
      "100%|█████████████████████████████████████████████| 4/4 [00:00<00:00, 12.42it/s]\n",
      "100%|█████████████████████████████████████████████| 4/4 [00:00<00:00,  4.74it/s]\n"
     ]
    },
    {
     "name": "stdout",
     "output_type": "stream",
     "text": [
      "    11/191...\n"
     ]
    },
    {
     "name": "stderr",
     "output_type": "stream",
     "text": [
      "100%|█████████████████████████████████████████████| 4/4 [00:00<00:00, 11.02it/s]\n",
      "100%|█████████████████████████████████████████████| 4/4 [00:00<00:00,  4.58it/s]\n"
     ]
    },
    {
     "name": "stdout",
     "output_type": "stream",
     "text": [
      "    12/191...\n"
     ]
    },
    {
     "name": "stderr",
     "output_type": "stream",
     "text": [
      "100%|█████████████████████████████████████████████| 2/2 [00:00<00:00, 10.64it/s]\n",
      "100%|█████████████████████████████████████████████| 2/2 [00:00<00:00,  4.12it/s]\n"
     ]
    },
    {
     "name": "stdout",
     "output_type": "stream",
     "text": [
      "    13/191...\n"
     ]
    },
    {
     "name": "stderr",
     "output_type": "stream",
     "text": [
      "100%|█████████████████████████████████████████████| 3/3 [00:00<00:00, 12.48it/s]\n",
      "100%|█████████████████████████████████████████████| 3/3 [00:00<00:00,  6.47it/s]\n"
     ]
    },
    {
     "name": "stdout",
     "output_type": "stream",
     "text": [
      "    14/191...\n"
     ]
    },
    {
     "name": "stderr",
     "output_type": "stream",
     "text": [
      "100%|█████████████████████████████████████████████| 4/4 [00:00<00:00, 12.29it/s]\n",
      "100%|█████████████████████████████████████████████| 4/4 [00:00<00:00,  4.63it/s]\n"
     ]
    },
    {
     "name": "stdout",
     "output_type": "stream",
     "text": [
      "    15/191...\n"
     ]
    },
    {
     "name": "stderr",
     "output_type": "stream",
     "text": [
      "100%|█████████████████████████████████████████████| 2/2 [00:00<00:00, 12.36it/s]\n",
      "100%|█████████████████████████████████████████████| 2/2 [00:00<00:00,  4.41it/s]\n"
     ]
    },
    {
     "name": "stdout",
     "output_type": "stream",
     "text": [
      "    16/191...\n"
     ]
    },
    {
     "name": "stderr",
     "output_type": "stream",
     "text": [
      "100%|█████████████████████████████████████████████| 4/4 [00:00<00:00, 10.66it/s]\n",
      "100%|█████████████████████████████████████████████| 4/4 [00:00<00:00,  5.84it/s]\n"
     ]
    },
    {
     "name": "stdout",
     "output_type": "stream",
     "text": [
      "    17/191...\n"
     ]
    },
    {
     "name": "stderr",
     "output_type": "stream",
     "text": [
      "100%|█████████████████████████████████████████████| 5/5 [00:00<00:00, 12.51it/s]\n",
      "100%|█████████████████████████████████████████████| 5/5 [00:00<00:00,  8.63it/s]\n"
     ]
    },
    {
     "name": "stdout",
     "output_type": "stream",
     "text": [
      "    18/191...\n"
     ]
    },
    {
     "name": "stderr",
     "output_type": "stream",
     "text": [
      "100%|█████████████████████████████████████████████| 1/1 [00:00<00:00, 12.05it/s]\n",
      "100%|█████████████████████████████████████████████| 1/1 [00:00<00:00,  9.51it/s]\n"
     ]
    },
    {
     "name": "stdout",
     "output_type": "stream",
     "text": [
      "    19/191...\n"
     ]
    },
    {
     "name": "stderr",
     "output_type": "stream",
     "text": [
      "100%|█████████████████████████████████████████████| 4/4 [00:00<00:00, 11.49it/s]\n",
      "100%|█████████████████████████████████████████████| 4/4 [00:00<00:00,  7.53it/s]\n"
     ]
    },
    {
     "name": "stdout",
     "output_type": "stream",
     "text": [
      "    20/191...\n"
     ]
    },
    {
     "name": "stderr",
     "output_type": "stream",
     "text": [
      "100%|█████████████████████████████████████████████| 4/4 [00:00<00:00, 10.99it/s]\n",
      "100%|█████████████████████████████████████████████| 4/4 [00:00<00:00,  8.72it/s]\n"
     ]
    },
    {
     "name": "stdout",
     "output_type": "stream",
     "text": [
      "    21/191...\n"
     ]
    },
    {
     "name": "stderr",
     "output_type": "stream",
     "text": [
      "100%|█████████████████████████████████████████████| 2/2 [00:00<00:00, 11.81it/s]\n",
      "100%|█████████████████████████████████████████████| 2/2 [00:00<00:00,  4.21it/s]\n"
     ]
    },
    {
     "name": "stdout",
     "output_type": "stream",
     "text": [
      "    22/191...\n"
     ]
    },
    {
     "name": "stderr",
     "output_type": "stream",
     "text": [
      "100%|█████████████████████████████████████████████| 1/1 [00:00<00:00,  9.43it/s]\n",
      "100%|█████████████████████████████████████████████| 1/1 [00:00<00:00,  5.48it/s]\n"
     ]
    },
    {
     "name": "stdout",
     "output_type": "stream",
     "text": [
      "    23/191...\n"
     ]
    },
    {
     "name": "stderr",
     "output_type": "stream",
     "text": [
      "100%|█████████████████████████████████████████████| 2/2 [00:00<00:00, 12.35it/s]\n",
      "100%|█████████████████████████████████████████████| 2/2 [00:00<00:00,  4.88it/s]\n"
     ]
    },
    {
     "name": "stdout",
     "output_type": "stream",
     "text": [
      "    24/191...\n"
     ]
    },
    {
     "name": "stderr",
     "output_type": "stream",
     "text": [
      "100%|█████████████████████████████████████████████| 3/3 [00:00<00:00, 10.97it/s]\n",
      "100%|█████████████████████████████████████████████| 3/3 [00:00<00:00,  4.47it/s]\n"
     ]
    },
    {
     "name": "stdout",
     "output_type": "stream",
     "text": [
      "    25/191...\n"
     ]
    },
    {
     "name": "stderr",
     "output_type": "stream",
     "text": [
      "100%|█████████████████████████████████████████████| 4/4 [00:00<00:00, 11.86it/s]\n",
      "100%|█████████████████████████████████████████████| 4/4 [00:00<00:00,  5.27it/s]\n"
     ]
    },
    {
     "name": "stdout",
     "output_type": "stream",
     "text": [
      "    26/191...\n"
     ]
    },
    {
     "name": "stderr",
     "output_type": "stream",
     "text": [
      "100%|█████████████████████████████████████████████| 3/3 [00:00<00:00, 11.90it/s]\n",
      "100%|█████████████████████████████████████████████| 3/3 [00:00<00:00,  4.45it/s]\n"
     ]
    },
    {
     "name": "stdout",
     "output_type": "stream",
     "text": [
      "    27/191...\n"
     ]
    },
    {
     "name": "stderr",
     "output_type": "stream",
     "text": [
      "100%|█████████████████████████████████████████████| 2/2 [00:00<00:00, 12.41it/s]\n",
      "100%|█████████████████████████████████████████████| 2/2 [00:00<00:00,  4.12it/s]\n"
     ]
    },
    {
     "name": "stdout",
     "output_type": "stream",
     "text": [
      "    28/191...\n"
     ]
    },
    {
     "name": "stderr",
     "output_type": "stream",
     "text": [
      "100%|█████████████████████████████████████████████| 3/3 [00:00<00:00, 11.93it/s]\n",
      "100%|█████████████████████████████████████████████| 3/3 [00:00<00:00,  5.02it/s]\n"
     ]
    },
    {
     "name": "stdout",
     "output_type": "stream",
     "text": [
      "    29/191...\n"
     ]
    },
    {
     "name": "stderr",
     "output_type": "stream",
     "text": [
      "100%|█████████████████████████████████████████████| 3/3 [00:00<00:00, 11.97it/s]\n",
      "100%|█████████████████████████████████████████████| 3/3 [00:00<00:00,  4.35it/s]\n"
     ]
    },
    {
     "name": "stdout",
     "output_type": "stream",
     "text": [
      "    30/191...\n"
     ]
    },
    {
     "name": "stderr",
     "output_type": "stream",
     "text": [
      "100%|█████████████████████████████████████████████| 4/4 [00:00<00:00, 11.82it/s]\n",
      "100%|█████████████████████████████████████████████| 4/4 [00:00<00:00,  4.81it/s]\n"
     ]
    },
    {
     "name": "stdout",
     "output_type": "stream",
     "text": [
      "    31/191...\n"
     ]
    },
    {
     "name": "stderr",
     "output_type": "stream",
     "text": [
      "100%|█████████████████████████████████████████████| 3/3 [00:00<00:00, 11.09it/s]\n",
      "100%|█████████████████████████████████████████████| 3/3 [00:00<00:00,  5.35it/s]\n"
     ]
    },
    {
     "name": "stdout",
     "output_type": "stream",
     "text": [
      "    32/191...\n"
     ]
    },
    {
     "name": "stderr",
     "output_type": "stream",
     "text": [
      "100%|█████████████████████████████████████████████| 2/2 [00:00<00:00, 12.15it/s]\n",
      "100%|█████████████████████████████████████████████| 2/2 [00:00<00:00,  4.55it/s]\n"
     ]
    },
    {
     "name": "stdout",
     "output_type": "stream",
     "text": [
      "    33/191...\n"
     ]
    },
    {
     "name": "stderr",
     "output_type": "stream",
     "text": [
      "100%|█████████████████████████████████████████████| 1/1 [00:00<00:00, 11.48it/s]\n",
      "100%|█████████████████████████████████████████████| 1/1 [00:00<00:00,  3.44it/s]\n"
     ]
    },
    {
     "name": "stdout",
     "output_type": "stream",
     "text": [
      "    34/191...\n"
     ]
    },
    {
     "name": "stderr",
     "output_type": "stream",
     "text": [
      "100%|█████████████████████████████████████████████| 3/3 [00:00<00:00, 12.48it/s]\n",
      "100%|█████████████████████████████████████████████| 3/3 [00:00<00:00,  4.87it/s]\n"
     ]
    },
    {
     "name": "stdout",
     "output_type": "stream",
     "text": [
      "    35/191...\n"
     ]
    },
    {
     "name": "stderr",
     "output_type": "stream",
     "text": [
      "100%|█████████████████████████████████████████████| 3/3 [00:00<00:00, 12.26it/s]\n",
      "100%|█████████████████████████████████████████████| 3/3 [00:00<00:00,  4.19it/s]\n"
     ]
    },
    {
     "name": "stdout",
     "output_type": "stream",
     "text": [
      "    36/191...\n"
     ]
    },
    {
     "name": "stderr",
     "output_type": "stream",
     "text": [
      "100%|█████████████████████████████████████████████| 3/3 [00:00<00:00, 11.98it/s]\n",
      "100%|█████████████████████████████████████████████| 3/3 [00:00<00:00,  5.81it/s]\n"
     ]
    },
    {
     "name": "stdout",
     "output_type": "stream",
     "text": [
      "    37/191...\n"
     ]
    },
    {
     "name": "stderr",
     "output_type": "stream",
     "text": [
      "100%|█████████████████████████████████████████████| 3/3 [00:00<00:00, 10.80it/s]\n",
      "100%|█████████████████████████████████████████████| 3/3 [00:00<00:00,  6.88it/s]\n"
     ]
    },
    {
     "name": "stdout",
     "output_type": "stream",
     "text": [
      "    38/191...\n"
     ]
    },
    {
     "name": "stderr",
     "output_type": "stream",
     "text": [
      "100%|█████████████████████████████████████████████| 5/5 [00:00<00:00, 11.45it/s]\n",
      "100%|█████████████████████████████████████████████| 5/5 [00:01<00:00,  4.58it/s]\n"
     ]
    },
    {
     "name": "stdout",
     "output_type": "stream",
     "text": [
      "    39/191...\n"
     ]
    },
    {
     "name": "stderr",
     "output_type": "stream",
     "text": [
      "100%|█████████████████████████████████████████████| 4/4 [00:00<00:00, 12.11it/s]\n",
      "100%|█████████████████████████████████████████████| 4/4 [00:00<00:00,  4.77it/s]\n"
     ]
    },
    {
     "name": "stdout",
     "output_type": "stream",
     "text": [
      "    40/191...\n"
     ]
    },
    {
     "name": "stderr",
     "output_type": "stream",
     "text": [
      "100%|█████████████████████████████████████████████| 2/2 [00:00<00:00, 12.17it/s]\n",
      "100%|█████████████████████████████████████████████| 2/2 [00:00<00:00,  4.21it/s]\n"
     ]
    },
    {
     "name": "stdout",
     "output_type": "stream",
     "text": [
      "    41/191...\n"
     ]
    },
    {
     "name": "stderr",
     "output_type": "stream",
     "text": [
      "100%|█████████████████████████████████████████████| 4/4 [00:00<00:00, 12.55it/s]\n",
      "100%|█████████████████████████████████████████████| 4/4 [00:00<00:00,  6.99it/s]\n"
     ]
    },
    {
     "name": "stdout",
     "output_type": "stream",
     "text": [
      "    42/191...\n"
     ]
    },
    {
     "name": "stderr",
     "output_type": "stream",
     "text": [
      "100%|█████████████████████████████████████████████| 3/3 [00:00<00:00, 12.18it/s]\n",
      "100%|█████████████████████████████████████████████| 3/3 [00:00<00:00,  4.90it/s]\n"
     ]
    },
    {
     "name": "stdout",
     "output_type": "stream",
     "text": [
      "    43/191...\n"
     ]
    },
    {
     "name": "stderr",
     "output_type": "stream",
     "text": [
      "100%|█████████████████████████████████████████████| 3/3 [00:00<00:00, 10.95it/s]\n",
      "100%|█████████████████████████████████████████████| 3/3 [00:00<00:00,  5.93it/s]\n"
     ]
    },
    {
     "name": "stdout",
     "output_type": "stream",
     "text": [
      "    44/191...\n"
     ]
    },
    {
     "name": "stderr",
     "output_type": "stream",
     "text": [
      "100%|█████████████████████████████████████████████| 2/2 [00:00<00:00, 12.27it/s]\n",
      "100%|█████████████████████████████████████████████| 2/2 [00:00<00:00,  3.77it/s]\n"
     ]
    },
    {
     "name": "stdout",
     "output_type": "stream",
     "text": [
      "    45/191...\n"
     ]
    },
    {
     "name": "stderr",
     "output_type": "stream",
     "text": [
      "100%|█████████████████████████████████████████████| 4/4 [00:00<00:00, 11.35it/s]\n",
      "100%|█████████████████████████████████████████████| 4/4 [00:00<00:00,  4.59it/s]\n"
     ]
    },
    {
     "name": "stdout",
     "output_type": "stream",
     "text": [
      "    46/191...\n"
     ]
    },
    {
     "name": "stderr",
     "output_type": "stream",
     "text": [
      "100%|█████████████████████████████████████████████| 4/4 [00:00<00:00, 12.07it/s]\n",
      "100%|█████████████████████████████████████████████| 4/4 [00:00<00:00,  4.88it/s]\n"
     ]
    },
    {
     "name": "stdout",
     "output_type": "stream",
     "text": [
      "    47/191...\n"
     ]
    },
    {
     "name": "stderr",
     "output_type": "stream",
     "text": [
      "100%|█████████████████████████████████████████████| 4/4 [00:00<00:00, 12.27it/s]\n",
      "100%|█████████████████████████████████████████████| 4/4 [00:00<00:00,  4.78it/s]\n"
     ]
    },
    {
     "name": "stdout",
     "output_type": "stream",
     "text": [
      "    48/191...\n"
     ]
    },
    {
     "name": "stderr",
     "output_type": "stream",
     "text": [
      "100%|█████████████████████████████████████████████| 4/4 [00:00<00:00, 12.29it/s]\n",
      "100%|█████████████████████████████████████████████| 4/4 [00:00<00:00,  4.33it/s]\n"
     ]
    },
    {
     "name": "stdout",
     "output_type": "stream",
     "text": [
      "    49/191...\n"
     ]
    },
    {
     "name": "stderr",
     "output_type": "stream",
     "text": [
      "100%|█████████████████████████████████████████████| 2/2 [00:00<00:00, 10.60it/s]\n",
      "100%|█████████████████████████████████████████████| 2/2 [00:00<00:00,  4.39it/s]\n"
     ]
    },
    {
     "name": "stdout",
     "output_type": "stream",
     "text": [
      "    50/191...\n"
     ]
    },
    {
     "name": "stderr",
     "output_type": "stream",
     "text": [
      "100%|█████████████████████████████████████████████| 2/2 [00:00<00:00, 11.79it/s]\n",
      "100%|█████████████████████████████████████████████| 2/2 [00:00<00:00,  4.48it/s]\n"
     ]
    },
    {
     "name": "stdout",
     "output_type": "stream",
     "text": [
      "    51/191...\n"
     ]
    },
    {
     "name": "stderr",
     "output_type": "stream",
     "text": [
      "100%|█████████████████████████████████████████████| 2/2 [00:00<00:00, 10.35it/s]\n",
      "100%|█████████████████████████████████████████████| 2/2 [00:00<00:00,  6.38it/s]\n"
     ]
    },
    {
     "name": "stdout",
     "output_type": "stream",
     "text": [
      "    52/191...\n"
     ]
    },
    {
     "name": "stderr",
     "output_type": "stream",
     "text": [
      "100%|█████████████████████████████████████████████| 5/5 [00:00<00:00, 11.77it/s]\n",
      "100%|█████████████████████████████████████████████| 5/5 [00:00<00:00,  5.92it/s]\n"
     ]
    },
    {
     "name": "stdout",
     "output_type": "stream",
     "text": [
      "    53/191...\n"
     ]
    },
    {
     "name": "stderr",
     "output_type": "stream",
     "text": [
      "100%|█████████████████████████████████████████████| 2/2 [00:00<00:00, 11.04it/s]\n",
      "100%|█████████████████████████████████████████████| 2/2 [00:00<00:00,  4.36it/s]\n"
     ]
    },
    {
     "name": "stdout",
     "output_type": "stream",
     "text": [
      "    54/191...\n"
     ]
    },
    {
     "name": "stderr",
     "output_type": "stream",
     "text": [
      "100%|█████████████████████████████████████████████| 4/4 [00:00<00:00, 11.32it/s]\n",
      "100%|█████████████████████████████████████████████| 4/4 [00:00<00:00,  4.38it/s]\n"
     ]
    },
    {
     "name": "stdout",
     "output_type": "stream",
     "text": [
      "    55/191...\n"
     ]
    },
    {
     "name": "stderr",
     "output_type": "stream",
     "text": [
      "100%|█████████████████████████████████████████████| 4/4 [00:00<00:00, 12.39it/s]\n",
      "100%|█████████████████████████████████████████████| 4/4 [00:00<00:00,  4.65it/s]\n"
     ]
    },
    {
     "name": "stdout",
     "output_type": "stream",
     "text": [
      "    56/191...\n"
     ]
    },
    {
     "name": "stderr",
     "output_type": "stream",
     "text": [
      "100%|█████████████████████████████████████████████| 4/4 [00:00<00:00, 12.41it/s]\n",
      "100%|█████████████████████████████████████████████| 4/4 [00:00<00:00,  4.59it/s]\n"
     ]
    },
    {
     "name": "stdout",
     "output_type": "stream",
     "text": [
      "    57/191...\n"
     ]
    },
    {
     "name": "stderr",
     "output_type": "stream",
     "text": [
      "100%|█████████████████████████████████████████████| 2/2 [00:00<00:00, 12.46it/s]\n",
      "100%|█████████████████████████████████████████████| 2/2 [00:00<00:00,  4.01it/s]\n"
     ]
    },
    {
     "name": "stdout",
     "output_type": "stream",
     "text": [
      "    58/191...\n"
     ]
    },
    {
     "name": "stderr",
     "output_type": "stream",
     "text": [
      "100%|█████████████████████████████████████████████| 1/1 [00:00<00:00, 11.53it/s]\n",
      "100%|█████████████████████████████████████████████| 1/1 [00:00<00:00,  3.85it/s]\n"
     ]
    },
    {
     "name": "stdout",
     "output_type": "stream",
     "text": [
      "    59/191...\n"
     ]
    },
    {
     "name": "stderr",
     "output_type": "stream",
     "text": [
      "100%|█████████████████████████████████████████████| 3/3 [00:00<00:00, 12.49it/s]\n",
      "100%|█████████████████████████████████████████████| 3/3 [00:00<00:00,  4.22it/s]\n"
     ]
    },
    {
     "name": "stdout",
     "output_type": "stream",
     "text": [
      "    60/191...\n"
     ]
    },
    {
     "name": "stderr",
     "output_type": "stream",
     "text": [
      "100%|█████████████████████████████████████████████| 2/2 [00:00<00:00, 10.94it/s]\n",
      "100%|█████████████████████████████████████████████| 2/2 [00:00<00:00,  4.48it/s]\n"
     ]
    },
    {
     "name": "stdout",
     "output_type": "stream",
     "text": [
      "    61/191...\n"
     ]
    },
    {
     "name": "stderr",
     "output_type": "stream",
     "text": [
      "100%|█████████████████████████████████████████████| 2/2 [00:00<00:00, 12.11it/s]\n",
      "100%|█████████████████████████████████████████████| 2/2 [00:00<00:00,  4.55it/s]\n"
     ]
    },
    {
     "name": "stdout",
     "output_type": "stream",
     "text": [
      "    62/191...\n"
     ]
    },
    {
     "name": "stderr",
     "output_type": "stream",
     "text": [
      "100%|█████████████████████████████████████████████| 5/5 [00:00<00:00, 11.92it/s]\n",
      "100%|█████████████████████████████████████████████| 5/5 [00:01<00:00,  4.30it/s]\n"
     ]
    },
    {
     "name": "stdout",
     "output_type": "stream",
     "text": [
      "    63/191...\n"
     ]
    },
    {
     "name": "stderr",
     "output_type": "stream",
     "text": [
      "100%|█████████████████████████████████████████████| 4/4 [00:00<00:00, 11.80it/s]\n",
      "100%|█████████████████████████████████████████████| 4/4 [00:00<00:00,  4.38it/s]\n"
     ]
    },
    {
     "name": "stdout",
     "output_type": "stream",
     "text": [
      "    64/191...\n"
     ]
    },
    {
     "name": "stderr",
     "output_type": "stream",
     "text": [
      "100%|█████████████████████████████████████████████| 2/2 [00:00<00:00, 10.44it/s]\n",
      "100%|█████████████████████████████████████████████| 2/2 [00:00<00:00,  4.14it/s]\n"
     ]
    },
    {
     "name": "stdout",
     "output_type": "stream",
     "text": [
      "    65/191...\n"
     ]
    },
    {
     "name": "stderr",
     "output_type": "stream",
     "text": [
      "100%|█████████████████████████████████████████████| 1/1 [00:00<00:00, 11.78it/s]\n",
      "100%|█████████████████████████████████████████████| 1/1 [00:00<00:00,  6.16it/s]\n"
     ]
    },
    {
     "name": "stdout",
     "output_type": "stream",
     "text": [
      "    66/191...\n"
     ]
    },
    {
     "name": "stderr",
     "output_type": "stream",
     "text": [
      "100%|█████████████████████████████████████████████| 3/3 [00:00<00:00, 12.57it/s]\n",
      "100%|█████████████████████████████████████████████| 3/3 [00:00<00:00,  4.46it/s]\n"
     ]
    },
    {
     "name": "stdout",
     "output_type": "stream",
     "text": [
      "    67/191...\n"
     ]
    },
    {
     "name": "stderr",
     "output_type": "stream",
     "text": [
      "100%|█████████████████████████████████████████████| 4/4 [00:00<00:00, 11.41it/s]\n",
      "100%|█████████████████████████████████████████████| 4/4 [00:00<00:00,  4.67it/s]\n"
     ]
    },
    {
     "name": "stdout",
     "output_type": "stream",
     "text": [
      "    68/191...\n"
     ]
    },
    {
     "name": "stderr",
     "output_type": "stream",
     "text": [
      "100%|█████████████████████████████████████████████| 4/4 [00:00<00:00, 12.17it/s]\n",
      "100%|█████████████████████████████████████████████| 4/4 [00:00<00:00,  4.58it/s]\n"
     ]
    },
    {
     "name": "stdout",
     "output_type": "stream",
     "text": [
      "    69/191...\n"
     ]
    },
    {
     "name": "stderr",
     "output_type": "stream",
     "text": [
      "100%|█████████████████████████████████████████████| 4/4 [00:00<00:00, 12.14it/s]\n",
      "100%|█████████████████████████████████████████████| 4/4 [00:00<00:00,  4.50it/s]\n"
     ]
    },
    {
     "name": "stdout",
     "output_type": "stream",
     "text": [
      "    70/191...\n"
     ]
    },
    {
     "name": "stderr",
     "output_type": "stream",
     "text": [
      "100%|█████████████████████████████████████████████| 5/5 [00:00<00:00, 12.13it/s]\n",
      "100%|█████████████████████████████████████████████| 5/5 [00:01<00:00,  2.51it/s]\n"
     ]
    },
    {
     "name": "stdout",
     "output_type": "stream",
     "text": [
      "    71/191...\n"
     ]
    },
    {
     "name": "stderr",
     "output_type": "stream",
     "text": [
      "100%|█████████████████████████████████████████████| 3/3 [00:00<00:00, 12.01it/s]\n",
      "100%|█████████████████████████████████████████████| 3/3 [00:00<00:00,  4.08it/s]\n"
     ]
    },
    {
     "name": "stdout",
     "output_type": "stream",
     "text": [
      "    72/191...\n"
     ]
    },
    {
     "name": "stderr",
     "output_type": "stream",
     "text": [
      "100%|█████████████████████████████████████████████| 4/4 [00:00<00:00, 11.50it/s]\n",
      "100%|█████████████████████████████████████████████| 4/4 [00:00<00:00,  5.73it/s]\n"
     ]
    },
    {
     "name": "stdout",
     "output_type": "stream",
     "text": [
      "    73/191...\n"
     ]
    },
    {
     "name": "stderr",
     "output_type": "stream",
     "text": [
      "100%|█████████████████████████████████████████████| 4/4 [00:00<00:00, 12.38it/s]\n",
      "100%|█████████████████████████████████████████████| 4/4 [00:00<00:00,  4.88it/s]\n"
     ]
    },
    {
     "name": "stdout",
     "output_type": "stream",
     "text": [
      "    74/191...\n"
     ]
    },
    {
     "name": "stderr",
     "output_type": "stream",
     "text": [
      "100%|█████████████████████████████████████████████| 4/4 [00:00<00:00, 11.45it/s]\n",
      "100%|█████████████████████████████████████████████| 4/4 [00:00<00:00,  4.42it/s]\n"
     ]
    },
    {
     "name": "stdout",
     "output_type": "stream",
     "text": [
      "    75/191...\n"
     ]
    },
    {
     "name": "stderr",
     "output_type": "stream",
     "text": [
      "100%|█████████████████████████████████████████████| 3/3 [00:00<00:00, 11.07it/s]\n",
      "100%|█████████████████████████████████████████████| 3/3 [00:00<00:00,  4.27it/s]\n"
     ]
    },
    {
     "name": "stdout",
     "output_type": "stream",
     "text": [
      "    76/191...\n"
     ]
    },
    {
     "name": "stderr",
     "output_type": "stream",
     "text": [
      "100%|█████████████████████████████████████████████| 4/4 [00:00<00:00, 12.09it/s]\n",
      "100%|█████████████████████████████████████████████| 4/4 [00:00<00:00,  4.89it/s]\n"
     ]
    },
    {
     "name": "stdout",
     "output_type": "stream",
     "text": [
      "    77/191...\n"
     ]
    },
    {
     "name": "stderr",
     "output_type": "stream",
     "text": [
      "100%|█████████████████████████████████████████████| 4/4 [00:00<00:00, 11.98it/s]\n",
      "100%|█████████████████████████████████████████████| 4/4 [00:00<00:00,  4.57it/s]\n"
     ]
    },
    {
     "name": "stdout",
     "output_type": "stream",
     "text": [
      "    78/191...\n"
     ]
    },
    {
     "name": "stderr",
     "output_type": "stream",
     "text": [
      "100%|█████████████████████████████████████████████| 4/4 [00:00<00:00, 10.63it/s]\n",
      "100%|█████████████████████████████████████████████| 4/4 [00:00<00:00,  4.56it/s]\n"
     ]
    },
    {
     "name": "stdout",
     "output_type": "stream",
     "text": [
      "    79/191...\n"
     ]
    },
    {
     "name": "stderr",
     "output_type": "stream",
     "text": [
      "100%|█████████████████████████████████████████████| 1/1 [00:00<00:00, 12.15it/s]\n",
      "100%|█████████████████████████████████████████████| 1/1 [00:00<00:00,  5.10it/s]\n"
     ]
    },
    {
     "name": "stdout",
     "output_type": "stream",
     "text": [
      "    80/191...\n"
     ]
    },
    {
     "name": "stderr",
     "output_type": "stream",
     "text": [
      "100%|█████████████████████████████████████████████| 2/2 [00:00<00:00, 11.93it/s]\n",
      "100%|█████████████████████████████████████████████| 2/2 [00:00<00:00,  4.86it/s]\n"
     ]
    },
    {
     "name": "stdout",
     "output_type": "stream",
     "text": [
      "    81/191...\n"
     ]
    },
    {
     "name": "stderr",
     "output_type": "stream",
     "text": [
      "100%|█████████████████████████████████████████████| 4/4 [00:00<00:00, 11.46it/s]\n",
      "100%|█████████████████████████████████████████████| 4/4 [00:00<00:00, 13.36it/s]\n"
     ]
    },
    {
     "name": "stdout",
     "output_type": "stream",
     "text": [
      "    82/191...\n"
     ]
    },
    {
     "name": "stderr",
     "output_type": "stream",
     "text": [
      "100%|█████████████████████████████████████████████| 4/4 [00:00<00:00, 10.73it/s]\n",
      "100%|█████████████████████████████████████████████| 4/4 [00:00<00:00,  6.46it/s]\n"
     ]
    },
    {
     "name": "stdout",
     "output_type": "stream",
     "text": [
      "    83/191...\n"
     ]
    },
    {
     "name": "stderr",
     "output_type": "stream",
     "text": [
      "100%|█████████████████████████████████████████████| 4/4 [00:00<00:00, 10.20it/s]\n",
      "100%|█████████████████████████████████████████████| 4/4 [00:00<00:00,  5.06it/s]\n"
     ]
    },
    {
     "name": "stdout",
     "output_type": "stream",
     "text": [
      "    84/191...\n"
     ]
    },
    {
     "name": "stderr",
     "output_type": "stream",
     "text": [
      "100%|█████████████████████████████████████████████| 4/4 [00:00<00:00, 11.78it/s]\n",
      "100%|█████████████████████████████████████████████| 4/4 [00:00<00:00,  7.75it/s]\n"
     ]
    },
    {
     "name": "stdout",
     "output_type": "stream",
     "text": [
      "    85/191...\n"
     ]
    },
    {
     "name": "stderr",
     "output_type": "stream",
     "text": [
      "100%|█████████████████████████████████████████████| 1/1 [00:00<00:00, 10.93it/s]\n",
      "100%|█████████████████████████████████████████████| 1/1 [00:00<00:00,  4.87it/s]\n"
     ]
    },
    {
     "name": "stdout",
     "output_type": "stream",
     "text": [
      "    86/191...\n"
     ]
    },
    {
     "name": "stderr",
     "output_type": "stream",
     "text": [
      "100%|█████████████████████████████████████████████| 3/3 [00:00<00:00, 10.77it/s]\n",
      "100%|█████████████████████████████████████████████| 3/3 [00:00<00:00,  8.22it/s]\n"
     ]
    },
    {
     "name": "stdout",
     "output_type": "stream",
     "text": [
      "    87/191...\n"
     ]
    },
    {
     "name": "stderr",
     "output_type": "stream",
     "text": [
      "100%|█████████████████████████████████████████████| 4/4 [00:00<00:00, 11.20it/s]\n",
      "100%|█████████████████████████████████████████████| 4/4 [00:00<00:00,  7.64it/s]\n"
     ]
    },
    {
     "name": "stdout",
     "output_type": "stream",
     "text": [
      "    88/191...\n"
     ]
    },
    {
     "name": "stderr",
     "output_type": "stream",
     "text": [
      "100%|█████████████████████████████████████████████| 4/4 [00:00<00:00, 12.42it/s]\n",
      "100%|█████████████████████████████████████████████| 4/4 [00:00<00:00,  9.67it/s]\n"
     ]
    },
    {
     "name": "stdout",
     "output_type": "stream",
     "text": [
      "    89/191...\n"
     ]
    },
    {
     "name": "stderr",
     "output_type": "stream",
     "text": [
      "100%|█████████████████████████████████████████████| 4/4 [00:00<00:00, 12.40it/s]\n",
      "100%|█████████████████████████████████████████████| 4/4 [00:00<00:00,  5.87it/s]\n"
     ]
    },
    {
     "name": "stdout",
     "output_type": "stream",
     "text": [
      "    90/191...\n"
     ]
    },
    {
     "name": "stderr",
     "output_type": "stream",
     "text": [
      "100%|█████████████████████████████████████████████| 2/2 [00:00<00:00, 12.28it/s]\n",
      "100%|█████████████████████████████████████████████| 2/2 [00:00<00:00,  6.05it/s]\n"
     ]
    },
    {
     "name": "stdout",
     "output_type": "stream",
     "text": [
      "    91/191...\n"
     ]
    },
    {
     "name": "stderr",
     "output_type": "stream",
     "text": [
      "100%|█████████████████████████████████████████████| 4/4 [00:00<00:00, 11.48it/s]\n",
      "100%|█████████████████████████████████████████████| 4/4 [00:00<00:00,  7.01it/s]\n"
     ]
    },
    {
     "name": "stdout",
     "output_type": "stream",
     "text": [
      "    92/191...\n"
     ]
    },
    {
     "name": "stderr",
     "output_type": "stream",
     "text": [
      "100%|█████████████████████████████████████████████| 3/3 [00:00<00:00, 11.71it/s]\n",
      "100%|█████████████████████████████████████████████| 3/3 [00:00<00:00,  6.56it/s]\n"
     ]
    },
    {
     "name": "stdout",
     "output_type": "stream",
     "text": [
      "    93/191...\n"
     ]
    },
    {
     "name": "stderr",
     "output_type": "stream",
     "text": [
      "100%|█████████████████████████████████████████████| 4/4 [00:00<00:00, 11.48it/s]\n",
      "100%|█████████████████████████████████████████████| 4/4 [00:00<00:00,  6.47it/s]\n"
     ]
    },
    {
     "name": "stdout",
     "output_type": "stream",
     "text": [
      "    94/191...\n"
     ]
    },
    {
     "name": "stderr",
     "output_type": "stream",
     "text": [
      "100%|█████████████████████████████████████████████| 4/4 [00:00<00:00, 11.88it/s]\n",
      "100%|█████████████████████████████████████████████| 4/4 [00:00<00:00, 12.24it/s]\n"
     ]
    },
    {
     "name": "stdout",
     "output_type": "stream",
     "text": [
      "    95/191...\n"
     ]
    },
    {
     "name": "stderr",
     "output_type": "stream",
     "text": [
      "100%|█████████████████████████████████████████████| 4/4 [00:00<00:00, 12.49it/s]\n",
      "100%|█████████████████████████████████████████████| 4/4 [00:00<00:00,  5.48it/s]\n"
     ]
    },
    {
     "name": "stdout",
     "output_type": "stream",
     "text": [
      "    96/191...\n"
     ]
    },
    {
     "name": "stderr",
     "output_type": "stream",
     "text": [
      "100%|█████████████████████████████████████████████| 4/4 [00:00<00:00, 12.50it/s]\n",
      "100%|█████████████████████████████████████████████| 4/4 [00:00<00:00,  9.76it/s]\n"
     ]
    },
    {
     "name": "stdout",
     "output_type": "stream",
     "text": [
      "    97/191...\n"
     ]
    },
    {
     "name": "stderr",
     "output_type": "stream",
     "text": [
      "100%|█████████████████████████████████████████████| 4/4 [00:00<00:00, 11.94it/s]\n",
      "100%|█████████████████████████████████████████████| 4/4 [00:00<00:00, 13.48it/s]\n"
     ]
    },
    {
     "name": "stdout",
     "output_type": "stream",
     "text": [
      "    98/191...\n"
     ]
    },
    {
     "name": "stderr",
     "output_type": "stream",
     "text": [
      "100%|█████████████████████████████████████████████| 4/4 [00:00<00:00, 11.85it/s]\n",
      "100%|█████████████████████████████████████████████| 4/4 [00:00<00:00,  8.77it/s]\n"
     ]
    },
    {
     "name": "stdout",
     "output_type": "stream",
     "text": [
      "    99/191...\n"
     ]
    },
    {
     "name": "stderr",
     "output_type": "stream",
     "text": [
      "100%|█████████████████████████████████████████████| 4/4 [00:00<00:00, 11.52it/s]\n",
      "100%|█████████████████████████████████████████████| 4/4 [00:00<00:00,  5.51it/s]\n"
     ]
    },
    {
     "name": "stdout",
     "output_type": "stream",
     "text": [
      "    100/191...\n"
     ]
    },
    {
     "name": "stderr",
     "output_type": "stream",
     "text": [
      "100%|█████████████████████████████████████████████| 3/3 [00:00<00:00, 11.05it/s]\n",
      "100%|█████████████████████████████████████████████| 3/3 [00:00<00:00,  7.00it/s]\n"
     ]
    },
    {
     "name": "stdout",
     "output_type": "stream",
     "text": [
      "    101/191...\n"
     ]
    },
    {
     "name": "stderr",
     "output_type": "stream",
     "text": [
      "100%|█████████████████████████████████████████████| 4/4 [00:00<00:00, 12.53it/s]\n",
      "100%|█████████████████████████████████████████████| 4/4 [00:00<00:00,  7.28it/s]\n"
     ]
    },
    {
     "name": "stdout",
     "output_type": "stream",
     "text": [
      "    102/191...\n"
     ]
    },
    {
     "name": "stderr",
     "output_type": "stream",
     "text": [
      "100%|█████████████████████████████████████████████| 4/4 [00:00<00:00, 11.28it/s]\n",
      "100%|█████████████████████████████████████████████| 4/4 [00:00<00:00,  6.14it/s]\n"
     ]
    },
    {
     "name": "stdout",
     "output_type": "stream",
     "text": [
      "    103/191...\n"
     ]
    },
    {
     "name": "stderr",
     "output_type": "stream",
     "text": [
      "100%|█████████████████████████████████████████████| 4/4 [00:00<00:00, 11.84it/s]\n",
      "100%|█████████████████████████████████████████████| 4/4 [00:00<00:00,  5.62it/s]\n"
     ]
    },
    {
     "name": "stdout",
     "output_type": "stream",
     "text": [
      "    104/191...\n"
     ]
    },
    {
     "name": "stderr",
     "output_type": "stream",
     "text": [
      "100%|█████████████████████████████████████████████| 4/4 [00:00<00:00, 12.04it/s]\n",
      "100%|█████████████████████████████████████████████| 4/4 [00:00<00:00, 12.90it/s]\n"
     ]
    },
    {
     "name": "stdout",
     "output_type": "stream",
     "text": [
      "    105/191...\n"
     ]
    },
    {
     "name": "stderr",
     "output_type": "stream",
     "text": [
      "100%|█████████████████████████████████████████████| 4/4 [00:00<00:00, 10.05it/s]\n",
      "100%|█████████████████████████████████████████████| 4/4 [00:00<00:00,  6.50it/s]\n"
     ]
    },
    {
     "name": "stdout",
     "output_type": "stream",
     "text": [
      "    106/191...\n"
     ]
    },
    {
     "name": "stderr",
     "output_type": "stream",
     "text": [
      "100%|█████████████████████████████████████████████| 4/4 [00:00<00:00, 11.51it/s]\n",
      "100%|█████████████████████████████████████████████| 4/4 [00:00<00:00,  5.49it/s]\n"
     ]
    },
    {
     "name": "stdout",
     "output_type": "stream",
     "text": [
      "    107/191...\n"
     ]
    },
    {
     "name": "stderr",
     "output_type": "stream",
     "text": [
      "100%|█████████████████████████████████████████████| 4/4 [00:00<00:00, 10.48it/s]\n",
      "100%|█████████████████████████████████████████████| 4/4 [00:00<00:00,  8.83it/s]\n"
     ]
    },
    {
     "name": "stdout",
     "output_type": "stream",
     "text": [
      "    108/191...\n"
     ]
    },
    {
     "name": "stderr",
     "output_type": "stream",
     "text": [
      "100%|█████████████████████████████████████████████| 2/2 [00:00<00:00, 10.98it/s]\n",
      "100%|█████████████████████████████████████████████| 2/2 [00:00<00:00,  5.67it/s]\n"
     ]
    },
    {
     "name": "stdout",
     "output_type": "stream",
     "text": [
      "    109/191...\n"
     ]
    },
    {
     "name": "stderr",
     "output_type": "stream",
     "text": [
      "100%|█████████████████████████████████████████████| 4/4 [00:00<00:00, 12.45it/s]\n",
      "100%|█████████████████████████████████████████████| 4/4 [00:00<00:00,  9.92it/s]\n"
     ]
    },
    {
     "name": "stdout",
     "output_type": "stream",
     "text": [
      "    110/191...\n"
     ]
    },
    {
     "name": "stderr",
     "output_type": "stream",
     "text": [
      "100%|█████████████████████████████████████████████| 4/4 [00:00<00:00, 11.53it/s]\n",
      "100%|█████████████████████████████████████████████| 4/4 [00:00<00:00,  9.66it/s]\n"
     ]
    },
    {
     "name": "stdout",
     "output_type": "stream",
     "text": [
      "    111/191...\n"
     ]
    },
    {
     "name": "stderr",
     "output_type": "stream",
     "text": [
      "100%|█████████████████████████████████████████████| 4/4 [00:00<00:00, 11.46it/s]\n",
      "100%|█████████████████████████████████████████████| 4/4 [00:00<00:00,  7.43it/s]\n"
     ]
    },
    {
     "name": "stdout",
     "output_type": "stream",
     "text": [
      "    112/191...\n"
     ]
    },
    {
     "name": "stderr",
     "output_type": "stream",
     "text": [
      "100%|█████████████████████████████████████████████| 1/1 [00:00<00:00, 11.90it/s]\n",
      "100%|█████████████████████████████████████████████| 1/1 [00:00<00:00,  6.10it/s]\n"
     ]
    },
    {
     "name": "stdout",
     "output_type": "stream",
     "text": [
      "    113/191...\n"
     ]
    },
    {
     "name": "stderr",
     "output_type": "stream",
     "text": [
      "100%|█████████████████████████████████████████████| 4/4 [00:00<00:00, 12.13it/s]\n",
      "100%|█████████████████████████████████████████████| 4/4 [00:00<00:00,  8.92it/s]\n"
     ]
    },
    {
     "name": "stdout",
     "output_type": "stream",
     "text": [
      "    114/191...\n"
     ]
    },
    {
     "name": "stderr",
     "output_type": "stream",
     "text": [
      "100%|█████████████████████████████████████████████| 2/2 [00:00<00:00, 10.39it/s]\n",
      "100%|█████████████████████████████████████████████| 2/2 [00:00<00:00,  4.98it/s]\n"
     ]
    },
    {
     "name": "stdout",
     "output_type": "stream",
     "text": [
      "    115/191...\n"
     ]
    },
    {
     "name": "stderr",
     "output_type": "stream",
     "text": [
      "100%|█████████████████████████████████████████████| 4/4 [00:00<00:00, 10.97it/s]\n",
      "100%|█████████████████████████████████████████████| 4/4 [00:00<00:00,  9.40it/s]\n"
     ]
    },
    {
     "name": "stdout",
     "output_type": "stream",
     "text": [
      "    116/191...\n"
     ]
    },
    {
     "name": "stderr",
     "output_type": "stream",
     "text": [
      "100%|█████████████████████████████████████████████| 1/1 [00:00<00:00, 11.63it/s]\n",
      "100%|█████████████████████████████████████████████| 1/1 [00:00<00:00,  7.25it/s]\n"
     ]
    },
    {
     "name": "stdout",
     "output_type": "stream",
     "text": [
      "    117/191...\n"
     ]
    },
    {
     "name": "stderr",
     "output_type": "stream",
     "text": [
      "100%|█████████████████████████████████████████████| 4/4 [00:00<00:00, 11.99it/s]\n",
      "100%|█████████████████████████████████████████████| 4/4 [00:00<00:00,  7.94it/s]\n"
     ]
    },
    {
     "name": "stdout",
     "output_type": "stream",
     "text": [
      "    118/191...\n"
     ]
    },
    {
     "name": "stderr",
     "output_type": "stream",
     "text": [
      "100%|█████████████████████████████████████████████| 4/4 [00:00<00:00, 11.96it/s]\n",
      "100%|█████████████████████████████████████████████| 4/4 [00:00<00:00,  6.44it/s]\n"
     ]
    },
    {
     "name": "stdout",
     "output_type": "stream",
     "text": [
      "    119/191...\n"
     ]
    },
    {
     "name": "stderr",
     "output_type": "stream",
     "text": [
      "100%|█████████████████████████████████████████████| 4/4 [00:00<00:00,  8.96it/s]\n",
      "100%|█████████████████████████████████████████████| 4/4 [00:00<00:00,  7.77it/s]\n"
     ]
    },
    {
     "name": "stdout",
     "output_type": "stream",
     "text": [
      "    120/191...\n"
     ]
    },
    {
     "name": "stderr",
     "output_type": "stream",
     "text": [
      "100%|█████████████████████████████████████████████| 4/4 [00:00<00:00, 12.37it/s]\n",
      "100%|█████████████████████████████████████████████| 4/4 [00:00<00:00,  5.97it/s]\n"
     ]
    },
    {
     "name": "stdout",
     "output_type": "stream",
     "text": [
      "    121/191...\n"
     ]
    },
    {
     "name": "stderr",
     "output_type": "stream",
     "text": [
      "100%|█████████████████████████████████████████████| 3/3 [00:00<00:00, 10.55it/s]\n",
      "100%|█████████████████████████████████████████████| 3/3 [00:00<00:00,  5.71it/s]\n"
     ]
    },
    {
     "name": "stdout",
     "output_type": "stream",
     "text": [
      "    122/191...\n"
     ]
    },
    {
     "name": "stderr",
     "output_type": "stream",
     "text": [
      "100%|█████████████████████████████████████████████| 4/4 [00:00<00:00, 12.56it/s]\n",
      "100%|█████████████████████████████████████████████| 4/4 [00:00<00:00, 14.50it/s]\n"
     ]
    },
    {
     "name": "stdout",
     "output_type": "stream",
     "text": [
      "    123/191...\n"
     ]
    },
    {
     "name": "stderr",
     "output_type": "stream",
     "text": [
      "100%|█████████████████████████████████████████████| 2/2 [00:00<00:00,  9.06it/s]\n",
      "100%|█████████████████████████████████████████████| 2/2 [00:00<00:00,  5.19it/s]\n"
     ]
    },
    {
     "name": "stdout",
     "output_type": "stream",
     "text": [
      "    124/191...\n"
     ]
    },
    {
     "name": "stderr",
     "output_type": "stream",
     "text": [
      "100%|█████████████████████████████████████████████| 4/4 [00:00<00:00,  9.17it/s]\n",
      "100%|█████████████████████████████████████████████| 4/4 [00:00<00:00,  5.67it/s]\n"
     ]
    },
    {
     "name": "stdout",
     "output_type": "stream",
     "text": [
      "    125/191...\n"
     ]
    },
    {
     "name": "stderr",
     "output_type": "stream",
     "text": [
      "100%|█████████████████████████████████████████████| 4/4 [00:00<00:00,  8.74it/s]\n",
      "100%|█████████████████████████████████████████████| 4/4 [00:00<00:00,  5.98it/s]\n"
     ]
    },
    {
     "name": "stdout",
     "output_type": "stream",
     "text": [
      "    126/191...\n"
     ]
    },
    {
     "name": "stderr",
     "output_type": "stream",
     "text": [
      "100%|█████████████████████████████████████████████| 4/4 [00:00<00:00,  9.41it/s]\n",
      "100%|█████████████████████████████████████████████| 4/4 [00:00<00:00,  7.13it/s]\n"
     ]
    },
    {
     "name": "stdout",
     "output_type": "stream",
     "text": [
      "    127/191...\n"
     ]
    },
    {
     "name": "stderr",
     "output_type": "stream",
     "text": [
      "100%|█████████████████████████████████████████████| 2/2 [00:00<00:00, 12.14it/s]\n",
      "100%|█████████████████████████████████████████████| 2/2 [00:00<00:00, 12.93it/s]\n"
     ]
    },
    {
     "name": "stdout",
     "output_type": "stream",
     "text": [
      "    128/191...\n"
     ]
    },
    {
     "name": "stderr",
     "output_type": "stream",
     "text": [
      "100%|█████████████████████████████████████████████| 4/4 [00:00<00:00,  9.46it/s]\n",
      "100%|█████████████████████████████████████████████| 4/4 [00:00<00:00,  4.51it/s]\n"
     ]
    },
    {
     "name": "stdout",
     "output_type": "stream",
     "text": [
      "    129/191...\n"
     ]
    },
    {
     "name": "stderr",
     "output_type": "stream",
     "text": [
      "100%|█████████████████████████████████████████████| 3/3 [00:00<00:00, 12.11it/s]\n",
      "100%|█████████████████████████████████████████████| 3/3 [00:00<00:00,  6.28it/s]\n"
     ]
    },
    {
     "name": "stdout",
     "output_type": "stream",
     "text": [
      "    130/191...\n"
     ]
    },
    {
     "name": "stderr",
     "output_type": "stream",
     "text": [
      "100%|█████████████████████████████████████████████| 4/4 [00:00<00:00, 10.61it/s]\n",
      "100%|█████████████████████████████████████████████| 4/4 [00:00<00:00,  6.83it/s]\n"
     ]
    },
    {
     "name": "stdout",
     "output_type": "stream",
     "text": [
      "    131/191...\n"
     ]
    },
    {
     "name": "stderr",
     "output_type": "stream",
     "text": [
      "100%|█████████████████████████████████████████████| 2/2 [00:00<00:00, 12.34it/s]\n",
      "100%|█████████████████████████████████████████████| 2/2 [00:00<00:00,  5.88it/s]\n"
     ]
    },
    {
     "name": "stdout",
     "output_type": "stream",
     "text": [
      "    132/191...\n"
     ]
    },
    {
     "name": "stderr",
     "output_type": "stream",
     "text": [
      "100%|█████████████████████████████████████████████| 4/4 [00:00<00:00, 11.82it/s]\n",
      "100%|█████████████████████████████████████████████| 4/4 [00:00<00:00,  6.10it/s]\n"
     ]
    },
    {
     "name": "stdout",
     "output_type": "stream",
     "text": [
      "    133/191...\n"
     ]
    },
    {
     "name": "stderr",
     "output_type": "stream",
     "text": [
      "100%|█████████████████████████████████████████████| 4/4 [00:00<00:00, 11.04it/s]\n",
      "100%|█████████████████████████████████████████████| 4/4 [00:00<00:00,  9.92it/s]\n"
     ]
    },
    {
     "name": "stdout",
     "output_type": "stream",
     "text": [
      "    134/191...\n"
     ]
    },
    {
     "name": "stderr",
     "output_type": "stream",
     "text": [
      "100%|█████████████████████████████████████████████| 4/4 [00:00<00:00, 11.03it/s]\n",
      "100%|█████████████████████████████████████████████| 4/4 [00:00<00:00,  6.83it/s]\n"
     ]
    },
    {
     "name": "stdout",
     "output_type": "stream",
     "text": [
      "    135/191...\n"
     ]
    },
    {
     "name": "stderr",
     "output_type": "stream",
     "text": [
      "100%|█████████████████████████████████████████████| 2/2 [00:00<00:00,  9.06it/s]\n",
      "100%|█████████████████████████████████████████████| 2/2 [00:00<00:00,  4.46it/s]\n"
     ]
    },
    {
     "name": "stdout",
     "output_type": "stream",
     "text": [
      "    136/191...\n"
     ]
    },
    {
     "name": "stderr",
     "output_type": "stream",
     "text": [
      "100%|█████████████████████████████████████████████| 4/4 [00:00<00:00, 11.71it/s]\n",
      "100%|█████████████████████████████████████████████| 4/4 [00:00<00:00,  6.42it/s]\n"
     ]
    },
    {
     "name": "stdout",
     "output_type": "stream",
     "text": [
      "    137/191...\n"
     ]
    },
    {
     "name": "stderr",
     "output_type": "stream",
     "text": [
      "100%|█████████████████████████████████████████████| 2/2 [00:00<00:00, 11.88it/s]\n",
      "100%|█████████████████████████████████████████████| 2/2 [00:00<00:00,  4.67it/s]\n"
     ]
    },
    {
     "name": "stdout",
     "output_type": "stream",
     "text": [
      "    138/191...\n"
     ]
    },
    {
     "name": "stderr",
     "output_type": "stream",
     "text": [
      "100%|█████████████████████████████████████████████| 4/4 [00:00<00:00,  8.67it/s]\n",
      "100%|█████████████████████████████████████████████| 4/4 [00:00<00:00,  5.18it/s]\n"
     ]
    },
    {
     "name": "stdout",
     "output_type": "stream",
     "text": [
      "    139/191...\n"
     ]
    },
    {
     "name": "stderr",
     "output_type": "stream",
     "text": [
      "100%|█████████████████████████████████████████████| 4/4 [00:00<00:00, 10.90it/s]\n",
      "100%|█████████████████████████████████████████████| 4/4 [00:00<00:00,  9.94it/s]\n"
     ]
    },
    {
     "name": "stdout",
     "output_type": "stream",
     "text": [
      "    140/191...\n"
     ]
    },
    {
     "name": "stderr",
     "output_type": "stream",
     "text": [
      "100%|█████████████████████████████████████████████| 4/4 [00:00<00:00, 11.39it/s]\n",
      "100%|█████████████████████████████████████████████| 4/4 [00:00<00:00, 11.99it/s]\n"
     ]
    },
    {
     "name": "stdout",
     "output_type": "stream",
     "text": [
      "    141/191...\n"
     ]
    },
    {
     "name": "stderr",
     "output_type": "stream",
     "text": [
      "100%|█████████████████████████████████████████████| 4/4 [00:00<00:00, 10.02it/s]\n",
      "100%|█████████████████████████████████████████████| 4/4 [00:00<00:00,  5.98it/s]\n"
     ]
    },
    {
     "name": "stdout",
     "output_type": "stream",
     "text": [
      "    142/191...\n"
     ]
    },
    {
     "name": "stderr",
     "output_type": "stream",
     "text": [
      "100%|█████████████████████████████████████████████| 3/3 [00:00<00:00, 12.14it/s]\n",
      "100%|█████████████████████████████████████████████| 3/3 [00:00<00:00,  5.48it/s]\n"
     ]
    },
    {
     "name": "stdout",
     "output_type": "stream",
     "text": [
      "    143/191...\n"
     ]
    },
    {
     "name": "stderr",
     "output_type": "stream",
     "text": [
      "100%|█████████████████████████████████████████████| 4/4 [00:00<00:00, 10.84it/s]\n",
      "100%|█████████████████████████████████████████████| 4/4 [00:00<00:00,  4.85it/s]\n"
     ]
    },
    {
     "name": "stdout",
     "output_type": "stream",
     "text": [
      "    144/191...\n"
     ]
    },
    {
     "name": "stderr",
     "output_type": "stream",
     "text": [
      "100%|█████████████████████████████████████████████| 4/4 [00:00<00:00,  9.95it/s]\n",
      "100%|█████████████████████████████████████████████| 4/4 [00:00<00:00,  5.18it/s]\n"
     ]
    },
    {
     "name": "stdout",
     "output_type": "stream",
     "text": [
      "    145/191...\n"
     ]
    },
    {
     "name": "stderr",
     "output_type": "stream",
     "text": [
      "100%|█████████████████████████████████████████████| 4/4 [00:00<00:00, 11.91it/s]\n",
      "100%|█████████████████████████████████████████████| 4/4 [00:00<00:00,  8.05it/s]\n"
     ]
    },
    {
     "name": "stdout",
     "output_type": "stream",
     "text": [
      "    146/191...\n"
     ]
    },
    {
     "name": "stderr",
     "output_type": "stream",
     "text": [
      "100%|█████████████████████████████████████████████| 4/4 [00:00<00:00, 12.04it/s]\n",
      "100%|█████████████████████████████████████████████| 4/4 [00:00<00:00,  6.40it/s]\n"
     ]
    },
    {
     "name": "stdout",
     "output_type": "stream",
     "text": [
      "    147/191...\n"
     ]
    },
    {
     "name": "stderr",
     "output_type": "stream",
     "text": [
      "100%|█████████████████████████████████████████████| 4/4 [00:00<00:00, 11.98it/s]\n",
      "100%|█████████████████████████████████████████████| 4/4 [00:00<00:00,  7.38it/s]\n"
     ]
    },
    {
     "name": "stdout",
     "output_type": "stream",
     "text": [
      "    148/191...\n"
     ]
    },
    {
     "name": "stderr",
     "output_type": "stream",
     "text": [
      "100%|█████████████████████████████████████████████| 4/4 [00:00<00:00, 12.56it/s]\n",
      "100%|█████████████████████████████████████████████| 4/4 [00:00<00:00, 10.86it/s]\n"
     ]
    },
    {
     "name": "stdout",
     "output_type": "stream",
     "text": [
      "    149/191...\n"
     ]
    },
    {
     "name": "stderr",
     "output_type": "stream",
     "text": [
      "100%|█████████████████████████████████████████████| 4/4 [00:00<00:00,  9.68it/s]\n",
      "100%|█████████████████████████████████████████████| 4/4 [00:00<00:00,  7.45it/s]\n"
     ]
    },
    {
     "name": "stdout",
     "output_type": "stream",
     "text": [
      "    150/191...\n"
     ]
    },
    {
     "name": "stderr",
     "output_type": "stream",
     "text": [
      "100%|█████████████████████████████████████████████| 4/4 [00:00<00:00, 11.18it/s]\n",
      "100%|█████████████████████████████████████████████| 4/4 [00:00<00:00,  5.68it/s]\n"
     ]
    },
    {
     "name": "stdout",
     "output_type": "stream",
     "text": [
      "    151/191...\n"
     ]
    },
    {
     "name": "stderr",
     "output_type": "stream",
     "text": [
      "100%|█████████████████████████████████████████████| 4/4 [00:00<00:00, 12.41it/s]\n",
      "100%|█████████████████████████████████████████████| 4/4 [00:00<00:00,  7.16it/s]\n"
     ]
    },
    {
     "name": "stdout",
     "output_type": "stream",
     "text": [
      "    152/191...\n"
     ]
    },
    {
     "name": "stderr",
     "output_type": "stream",
     "text": [
      "100%|█████████████████████████████████████████████| 3/3 [00:00<00:00,  9.34it/s]\n",
      "100%|█████████████████████████████████████████████| 3/3 [00:00<00:00,  5.32it/s]\n"
     ]
    },
    {
     "name": "stdout",
     "output_type": "stream",
     "text": [
      "    153/191...\n"
     ]
    },
    {
     "name": "stderr",
     "output_type": "stream",
     "text": [
      "100%|█████████████████████████████████████████████| 4/4 [00:00<00:00, 11.84it/s]\n",
      "100%|█████████████████████████████████████████████| 4/4 [00:00<00:00, 13.08it/s]\n"
     ]
    },
    {
     "name": "stdout",
     "output_type": "stream",
     "text": [
      "    154/191...\n"
     ]
    },
    {
     "name": "stderr",
     "output_type": "stream",
     "text": [
      "100%|█████████████████████████████████████████████| 4/4 [00:00<00:00, 11.21it/s]\n",
      "100%|█████████████████████████████████████████████| 4/4 [00:00<00:00,  4.72it/s]\n"
     ]
    },
    {
     "name": "stdout",
     "output_type": "stream",
     "text": [
      "    155/191...\n"
     ]
    },
    {
     "name": "stderr",
     "output_type": "stream",
     "text": [
      "100%|█████████████████████████████████████████████| 2/2 [00:00<00:00,  8.97it/s]\n",
      "100%|█████████████████████████████████████████████| 2/2 [00:00<00:00,  4.77it/s]\n"
     ]
    },
    {
     "name": "stdout",
     "output_type": "stream",
     "text": [
      "    156/191...\n"
     ]
    },
    {
     "name": "stderr",
     "output_type": "stream",
     "text": [
      "100%|█████████████████████████████████████████████| 3/3 [00:00<00:00, 11.72it/s]\n",
      "100%|█████████████████████████████████████████████| 3/3 [00:00<00:00,  5.27it/s]\n"
     ]
    },
    {
     "name": "stdout",
     "output_type": "stream",
     "text": [
      "    157/191...\n"
     ]
    },
    {
     "name": "stderr",
     "output_type": "stream",
     "text": [
      "100%|█████████████████████████████████████████████| 2/2 [00:00<00:00, 12.61it/s]\n",
      "100%|█████████████████████████████████████████████| 2/2 [00:00<00:00,  6.92it/s]\n"
     ]
    },
    {
     "name": "stdout",
     "output_type": "stream",
     "text": [
      "    158/191...\n"
     ]
    },
    {
     "name": "stderr",
     "output_type": "stream",
     "text": [
      "100%|█████████████████████████████████████████████| 4/4 [00:00<00:00, 10.19it/s]\n",
      "100%|█████████████████████████████████████████████| 4/4 [00:00<00:00, 10.13it/s]\n"
     ]
    },
    {
     "name": "stdout",
     "output_type": "stream",
     "text": [
      "    159/191...\n"
     ]
    },
    {
     "name": "stderr",
     "output_type": "stream",
     "text": [
      "100%|█████████████████████████████████████████████| 4/4 [00:00<00:00, 12.57it/s]\n",
      "100%|█████████████████████████████████████████████| 4/4 [00:00<00:00, 10.01it/s]\n"
     ]
    },
    {
     "name": "stdout",
     "output_type": "stream",
     "text": [
      "    160/191...\n"
     ]
    },
    {
     "name": "stderr",
     "output_type": "stream",
     "text": [
      "100%|█████████████████████████████████████████████| 4/4 [00:00<00:00, 12.55it/s]\n",
      "100%|█████████████████████████████████████████████| 4/4 [00:00<00:00,  6.07it/s]\n"
     ]
    },
    {
     "name": "stdout",
     "output_type": "stream",
     "text": [
      "    161/191...\n"
     ]
    },
    {
     "name": "stderr",
     "output_type": "stream",
     "text": [
      "100%|█████████████████████████████████████████████| 4/4 [00:00<00:00,  9.30it/s]\n",
      "100%|█████████████████████████████████████████████| 4/4 [00:00<00:00,  5.32it/s]\n"
     ]
    },
    {
     "name": "stdout",
     "output_type": "stream",
     "text": [
      "    162/191...\n"
     ]
    },
    {
     "name": "stderr",
     "output_type": "stream",
     "text": [
      "100%|█████████████████████████████████████████████| 4/4 [00:00<00:00, 11.99it/s]\n",
      "100%|█████████████████████████████████████████████| 4/4 [00:00<00:00,  5.15it/s]\n"
     ]
    },
    {
     "name": "stdout",
     "output_type": "stream",
     "text": [
      "    163/191...\n"
     ]
    },
    {
     "name": "stderr",
     "output_type": "stream",
     "text": [
      "100%|█████████████████████████████████████████████| 4/4 [00:00<00:00, 12.44it/s]\n",
      "100%|█████████████████████████████████████████████| 4/4 [00:00<00:00,  7.07it/s]\n"
     ]
    },
    {
     "name": "stdout",
     "output_type": "stream",
     "text": [
      "    164/191...\n"
     ]
    },
    {
     "name": "stderr",
     "output_type": "stream",
     "text": [
      "100%|█████████████████████████████████████████████| 4/4 [00:00<00:00, 12.50it/s]\n",
      "100%|█████████████████████████████████████████████| 4/4 [00:00<00:00,  8.94it/s]\n"
     ]
    },
    {
     "name": "stdout",
     "output_type": "stream",
     "text": [
      "    165/191...\n"
     ]
    },
    {
     "name": "stderr",
     "output_type": "stream",
     "text": [
      "100%|█████████████████████████████████████████████| 4/4 [00:00<00:00, 10.65it/s]\n",
      "100%|█████████████████████████████████████████████| 4/4 [00:00<00:00,  6.49it/s]\n"
     ]
    },
    {
     "name": "stdout",
     "output_type": "stream",
     "text": [
      "    166/191...\n"
     ]
    },
    {
     "name": "stderr",
     "output_type": "stream",
     "text": [
      "100%|█████████████████████████████████████████████| 3/3 [00:00<00:00, 12.41it/s]\n",
      "100%|█████████████████████████████████████████████| 3/3 [00:00<00:00, 11.63it/s]\n"
     ]
    },
    {
     "name": "stdout",
     "output_type": "stream",
     "text": [
      "    167/191...\n"
     ]
    },
    {
     "name": "stderr",
     "output_type": "stream",
     "text": [
      "100%|█████████████████████████████████████████████| 2/2 [00:00<00:00, 12.27it/s]\n",
      "100%|█████████████████████████████████████████████| 2/2 [00:00<00:00,  5.23it/s]\n"
     ]
    },
    {
     "name": "stdout",
     "output_type": "stream",
     "text": [
      "    168/191...\n"
     ]
    },
    {
     "name": "stderr",
     "output_type": "stream",
     "text": [
      "100%|█████████████████████████████████████████████| 1/1 [00:00<00:00, 12.02it/s]\n",
      "100%|█████████████████████████████████████████████| 1/1 [00:00<00:00,  5.88it/s]\n"
     ]
    },
    {
     "name": "stdout",
     "output_type": "stream",
     "text": [
      "    169/191...\n"
     ]
    },
    {
     "name": "stderr",
     "output_type": "stream",
     "text": [
      "100%|█████████████████████████████████████████████| 4/4 [00:00<00:00, 12.36it/s]\n",
      "100%|█████████████████████████████████████████████| 4/4 [00:00<00:00,  7.26it/s]\n"
     ]
    },
    {
     "name": "stdout",
     "output_type": "stream",
     "text": [
      "    170/191...\n"
     ]
    },
    {
     "name": "stderr",
     "output_type": "stream",
     "text": [
      "100%|█████████████████████████████████████████████| 1/1 [00:00<00:00, 12.31it/s]\n",
      "100%|█████████████████████████████████████████████| 1/1 [00:00<00:00,  9.45it/s]\n"
     ]
    },
    {
     "name": "stdout",
     "output_type": "stream",
     "text": [
      "    171/191...\n"
     ]
    },
    {
     "name": "stderr",
     "output_type": "stream",
     "text": [
      "100%|█████████████████████████████████████████████| 4/4 [00:00<00:00, 12.67it/s]\n",
      "100%|█████████████████████████████████████████████| 4/4 [00:00<00:00,  6.23it/s]\n"
     ]
    },
    {
     "name": "stdout",
     "output_type": "stream",
     "text": [
      "    172/191...\n"
     ]
    },
    {
     "name": "stderr",
     "output_type": "stream",
     "text": [
      "100%|█████████████████████████████████████████████| 2/2 [00:00<00:00, 12.38it/s]\n",
      "100%|█████████████████████████████████████████████| 2/2 [00:00<00:00,  6.52it/s]\n"
     ]
    },
    {
     "name": "stdout",
     "output_type": "stream",
     "text": [
      "    173/191...\n"
     ]
    },
    {
     "name": "stderr",
     "output_type": "stream",
     "text": [
      "100%|█████████████████████████████████████████████| 4/4 [00:00<00:00, 10.30it/s]\n",
      "100%|█████████████████████████████████████████████| 4/4 [00:00<00:00,  6.14it/s]\n"
     ]
    },
    {
     "name": "stdout",
     "output_type": "stream",
     "text": [
      "    174/191...\n"
     ]
    },
    {
     "name": "stderr",
     "output_type": "stream",
     "text": [
      "100%|█████████████████████████████████████████████| 2/2 [00:00<00:00, 11.34it/s]\n",
      "100%|█████████████████████████████████████████████| 2/2 [00:00<00:00,  5.36it/s]\n"
     ]
    },
    {
     "name": "stdout",
     "output_type": "stream",
     "text": [
      "    175/191...\n"
     ]
    },
    {
     "name": "stderr",
     "output_type": "stream",
     "text": [
      "100%|█████████████████████████████████████████████| 2/2 [00:00<00:00, 12.66it/s]\n",
      "100%|█████████████████████████████████████████████| 2/2 [00:00<00:00,  6.93it/s]\n"
     ]
    },
    {
     "name": "stdout",
     "output_type": "stream",
     "text": [
      "    176/191...\n"
     ]
    },
    {
     "name": "stderr",
     "output_type": "stream",
     "text": [
      "100%|█████████████████████████████████████████████| 4/4 [00:00<00:00,  9.68it/s]\n",
      "100%|█████████████████████████████████████████████| 4/4 [00:00<00:00,  5.75it/s]\n"
     ]
    },
    {
     "name": "stdout",
     "output_type": "stream",
     "text": [
      "    177/191...\n"
     ]
    },
    {
     "name": "stderr",
     "output_type": "stream",
     "text": [
      "100%|█████████████████████████████████████████████| 4/4 [00:00<00:00, 10.76it/s]\n",
      "100%|█████████████████████████████████████████████| 4/4 [00:00<00:00,  6.53it/s]\n"
     ]
    },
    {
     "name": "stdout",
     "output_type": "stream",
     "text": [
      "    178/191...\n"
     ]
    },
    {
     "name": "stderr",
     "output_type": "stream",
     "text": [
      "100%|█████████████████████████████████████████████| 4/4 [00:00<00:00, 12.21it/s]\n",
      "100%|█████████████████████████████████████████████| 4/4 [00:00<00:00,  6.94it/s]\n"
     ]
    },
    {
     "name": "stdout",
     "output_type": "stream",
     "text": [
      "    179/191...\n"
     ]
    },
    {
     "name": "stderr",
     "output_type": "stream",
     "text": [
      "100%|█████████████████████████████████████████████| 4/4 [00:00<00:00, 12.11it/s]\n",
      "100%|█████████████████████████████████████████████| 4/4 [00:00<00:00,  7.24it/s]\n"
     ]
    },
    {
     "name": "stdout",
     "output_type": "stream",
     "text": [
      "    180/191...\n"
     ]
    },
    {
     "name": "stderr",
     "output_type": "stream",
     "text": [
      "100%|█████████████████████████████████████████████| 1/1 [00:00<00:00, 10.98it/s]\n",
      "100%|█████████████████████████████████████████████| 1/1 [00:00<00:00,  6.14it/s]\n"
     ]
    },
    {
     "name": "stdout",
     "output_type": "stream",
     "text": [
      "    181/191...\n"
     ]
    },
    {
     "name": "stderr",
     "output_type": "stream",
     "text": [
      "100%|█████████████████████████████████████████████| 4/4 [00:00<00:00, 12.52it/s]\n",
      "100%|█████████████████████████████████████████████| 4/4 [00:00<00:00,  7.24it/s]\n"
     ]
    },
    {
     "name": "stdout",
     "output_type": "stream",
     "text": [
      "    182/191...\n"
     ]
    },
    {
     "name": "stderr",
     "output_type": "stream",
     "text": [
      "100%|█████████████████████████████████████████████| 4/4 [00:00<00:00, 11.37it/s]\n",
      "100%|█████████████████████████████████████████████| 4/4 [00:00<00:00,  8.10it/s]\n"
     ]
    },
    {
     "name": "stdout",
     "output_type": "stream",
     "text": [
      "    183/191...\n"
     ]
    },
    {
     "name": "stderr",
     "output_type": "stream",
     "text": [
      "100%|█████████████████████████████████████████████| 4/4 [00:00<00:00, 11.39it/s]\n",
      "100%|█████████████████████████████████████████████| 4/4 [00:00<00:00,  5.35it/s]\n"
     ]
    },
    {
     "name": "stdout",
     "output_type": "stream",
     "text": [
      "    184/191...\n"
     ]
    },
    {
     "name": "stderr",
     "output_type": "stream",
     "text": [
      "100%|█████████████████████████████████████████████| 4/4 [00:00<00:00, 12.37it/s]\n",
      "100%|█████████████████████████████████████████████| 4/4 [00:00<00:00,  9.05it/s]\n"
     ]
    },
    {
     "name": "stdout",
     "output_type": "stream",
     "text": [
      "    185/191...\n"
     ]
    },
    {
     "name": "stderr",
     "output_type": "stream",
     "text": [
      "100%|█████████████████████████████████████████████| 4/4 [00:00<00:00, 12.35it/s]\n",
      "100%|█████████████████████████████████████████████| 4/4 [00:00<00:00,  7.13it/s]\n"
     ]
    },
    {
     "name": "stdout",
     "output_type": "stream",
     "text": [
      "    186/191...\n"
     ]
    },
    {
     "name": "stderr",
     "output_type": "stream",
     "text": [
      "100%|█████████████████████████████████████████████| 2/2 [00:00<00:00, 12.44it/s]\n",
      "100%|█████████████████████████████████████████████| 2/2 [00:00<00:00,  5.59it/s]\n"
     ]
    },
    {
     "name": "stdout",
     "output_type": "stream",
     "text": [
      "    187/191...\n"
     ]
    },
    {
     "name": "stderr",
     "output_type": "stream",
     "text": [
      "100%|█████████████████████████████████████████████| 4/4 [00:00<00:00, 12.23it/s]\n",
      "100%|█████████████████████████████████████████████| 4/4 [00:00<00:00,  5.34it/s]\n"
     ]
    },
    {
     "name": "stdout",
     "output_type": "stream",
     "text": [
      "    188/191...\n"
     ]
    },
    {
     "name": "stderr",
     "output_type": "stream",
     "text": [
      "100%|█████████████████████████████████████████████| 2/2 [00:00<00:00, 12.20it/s]\n",
      "100%|█████████████████████████████████████████████| 2/2 [00:00<00:00,  6.16it/s]\n"
     ]
    },
    {
     "name": "stdout",
     "output_type": "stream",
     "text": [
      "    189/191...\n"
     ]
    },
    {
     "name": "stderr",
     "output_type": "stream",
     "text": [
      "100%|█████████████████████████████████████████████| 4/4 [00:00<00:00, 11.94it/s]\n",
      "100%|█████████████████████████████████████████████| 4/4 [00:00<00:00,  6.47it/s]\n"
     ]
    },
    {
     "name": "stdout",
     "output_type": "stream",
     "text": [
      "    190/191...\n"
     ]
    },
    {
     "name": "stderr",
     "output_type": "stream",
     "text": [
      "100%|█████████████████████████████████████████████| 4/4 [00:00<00:00, 11.04it/s]\n",
      "100%|█████████████████████████████████████████████| 4/4 [00:00<00:00,  6.61it/s]\n"
     ]
    },
    {
     "name": "stdout",
     "output_type": "stream",
     "text": [
      "    191/191...\n"
     ]
    },
    {
     "name": "stderr",
     "output_type": "stream",
     "text": [
      "100%|█████████████████████████████████████████████| 1/1 [00:00<00:00, 12.13it/s]\n",
      "100%|█████████████████████████████████████████████| 1/1 [00:00<00:00,  5.26it/s]\n"
     ]
    },
    {
     "name": "stdout",
     "output_type": "stream",
     "text": [
      "Done.\n"
     ]
    }
   ],
   "source": [
    "run_model(model_folder, test_folder, output_folder, allow_failures = True, verbose = 2)"
   ]
  },
  {
   "cell_type": "code",
   "execution_count": 90,
   "id": "247a6478",
   "metadata": {},
   "outputs": [],
   "source": [
    "from evaluate_model import *\n",
    "\n"
   ]
  },
  {
   "cell_type": "code",
   "execution_count": 91,
   "id": "b770afd6",
   "metadata": {
    "scrolled": false
   },
   "outputs": [
    {
     "name": "stdout",
     "output_type": "stream",
     "text": [
      "#Murmur scores\n",
      "AUROC,AUPRC,F-measure,Accuracy,Weighted Accuracy,Cost\n",
      "0.777,0.635,0.548,0.827,0.782,17561.153\n",
      "\n",
      "#Outcome scores\n",
      "AUROC,AUPRC,F-measure,Accuracy,Weighted Accuracy,Cost\n",
      "0.716,0.719,0.642,0.654,0.763,10708.410\n",
      "\n",
      "#Murmur scores (per class)\n",
      "Classes,Present,Unknown,Absent\n",
      "AUROC,0.965,0.500,0.867\n",
      "AUPRC,0.911,0.073,0.921\n",
      "F-measure,0.750,0.000,0.893\n",
      "Accuracy,0.868,0.000,0.899\n",
      "\n",
      "#Outcome scores (per class)\n",
      "Classes,Abnormal,Normal\n",
      "AUROC,0.716,0.716\n",
      "AUPRC,0.734,0.703\n",
      "F-measure,0.708,0.577\n",
      "Accuracy,0.816,0.484\n",
      "\n"
     ]
    }
   ],
   "source": [
    "murmur_scores, outcome_scores = evaluate_model(test_folder, output_folder)\n",
    "classes, auroc, auprc, auroc_classes, auprc_classes, f_measure, f_measure_classes, accuracy, accuracy_classes, weighted_accuracy, cost = murmur_scores\n",
    "murmur_output_string = 'AUROC,AUPRC,F-measure,Accuracy,Weighted Accuracy,Cost\\n{:.3f},{:.3f},{:.3f},{:.3f},{:.3f},{:.3f}\\n'.format(auroc, auprc, f_measure, accuracy, weighted_accuracy, cost)\n",
    "murmur_class_output_string = 'Classes,{}\\nAUROC,{}\\nAUPRC,{}\\nF-measure,{}\\nAccuracy,{}\\n'.format(\n",
    "    ','.join(classes),\n",
    "    ','.join('{:.3f}'.format(x) for x in auroc_classes),\n",
    "    ','.join('{:.3f}'.format(x) for x in auprc_classes),\n",
    "    ','.join('{:.3f}'.format(x) for x in f_measure_classes),\n",
    "    ','.join('{:.3f}'.format(x) for x in accuracy_classes))\n",
    "\n",
    "classes, auroc, auprc, auroc_classes, auprc_classes, f_measure, f_measure_classes, accuracy, accuracy_classes, weighted_accuracy, cost = outcome_scores\n",
    "outcome_output_string = 'AUROC,AUPRC,F-measure,Accuracy,Weighted Accuracy,Cost\\n{:.3f},{:.3f},{:.3f},{:.3f},{:.3f},{:.3f}\\n'.format(auroc, auprc, f_measure, accuracy, weighted_accuracy, cost)\n",
    "outcome_class_output_string = 'Classes,{}\\nAUROC,{}\\nAUPRC,{}\\nF-measure,{}\\nAccuracy,{}\\n'.format(\n",
    "    ','.join(classes),\n",
    "    ','.join('{:.3f}'.format(x) for x in auroc_classes),\n",
    "    ','.join('{:.3f}'.format(x) for x in auprc_classes),\n",
    "    ','.join('{:.3f}'.format(x) for x in f_measure_classes),\n",
    "    ','.join('{:.3f}'.format(x) for x in accuracy_classes))\n",
    "\n",
    "output_string = '#Murmur scores\\n' + murmur_output_string + '\\n#Outcome scores\\n' + outcome_output_string \\\n",
    "    + '\\n#Murmur scores (per class)\\n' + murmur_class_output_string + '\\n#Outcome scores (per class)\\n' + outcome_class_output_string\n",
    "\n",
    "if len(sys.argv) == 3:\n",
    "    print(output_string)\n",
    "elif len(sys.argv) == 4:\n",
    "    with open(sys.argv[3], 'w') as f:\n",
    "        f.write(output_string)"
   ]
  },
  {
   "cell_type": "code",
   "execution_count": null,
   "id": "72a27458",
   "metadata": {},
   "outputs": [],
   "source": []
  },
  {
   "cell_type": "code",
   "execution_count": 92,
   "id": "4235c97d",
   "metadata": {},
   "outputs": [
    {
     "name": "stdout",
     "output_type": "stream",
     "text": [
      "0.4077941188247416\n",
      "0.5922058783276543\n",
      "0.6661083899555406\n",
      "0.3338916086791698\n"
     ]
    }
   ],
   "source": [
    "label_folder = test_folder\n",
    "murmur_classes = ['Present', 'Unknown', 'Absent']\n",
    "outcome_classes = ['Abnormal', 'Normal']\n",
    "\n",
    "# Load and parse label and model output files.\n",
    "label_files, output_files = find_challenge_files(label_folder, output_folder)\n",
    "murmur_labels = load_murmurs(label_files, murmur_classes)\n",
    "murmur_binary_outputs, murmur_scalar_outputs = load_classifier_outputs(output_files, murmur_classes)\n",
    "outcome_labels = load_outcomes(label_files, outcome_classes)\n",
    "outcome_binary_outputs, outcome_scalar_outputs = load_classifier_outputs(output_files, outcome_classes)\n",
    "\n",
    "\n",
    "print(np.mean(murmur_scalar_outputs[:,0]))\n",
    "print(np.mean(murmur_scalar_outputs[:,2]))\n",
    "print(np.mean(outcome_scalar_outputs[:,0]))\n",
    "print(np.mean(outcome_scalar_outputs[:,1]))"
   ]
  },
  {
   "cell_type": "code",
   "execution_count": 93,
   "id": "3fb59f7c",
   "metadata": {
    "scrolled": false
   },
   "outputs": [
    {
     "name": "stdout",
     "output_type": "stream",
     "text": [
      "threshold:  0.01\n",
      "#Murmur scores\n",
      "AUROC,AUPRC,F-measure,Accuracy,Weighted Accuracy,Cost\n",
      "0.777,0.635,0.111,0.199,0.512,15140.890\n",
      "\n",
      "#Outcome scores\n",
      "AUROC,AUPRC,F-measure,Accuracy,Weighted Accuracy,Cost\n",
      "0.716,0.719,0.339,0.513,0.840,15140.890\n",
      "\n",
      "#Murmur scores (per class)\n",
      "Classes,Present,Unknown,Absent\n",
      "AUROC,0.965,0.500,0.867\n",
      "AUPRC,0.911,0.073,0.921\n",
      "F-measure,0.332,0.000,0.000\n",
      "Accuracy,1.000,0.000,0.000\n",
      "\n",
      "#Outcome scores (per class)\n",
      "Classes,Abnormal,Normal\n",
      "AUROC,0.716,0.716\n",
      "AUPRC,0.734,0.703\n",
      "F-measure,0.678,0.000\n",
      "Accuracy,1.000,0.000\n",
      "\n",
      "-------------\n",
      "threshold:  0.05\n",
      "#Murmur scores\n",
      "AUROC,AUPRC,F-measure,Accuracy,Weighted Accuracy,Cost\n",
      "0.777,0.635,0.111,0.199,0.512,15140.890\n",
      "\n",
      "#Outcome scores\n",
      "AUROC,AUPRC,F-measure,Accuracy,Weighted Accuracy,Cost\n",
      "0.716,0.719,0.339,0.513,0.840,15140.890\n",
      "\n",
      "#Murmur scores (per class)\n",
      "Classes,Present,Unknown,Absent\n",
      "AUROC,0.965,0.500,0.867\n",
      "AUPRC,0.911,0.073,0.921\n",
      "F-measure,0.332,0.000,0.000\n",
      "Accuracy,1.000,0.000,0.000\n",
      "\n",
      "#Outcome scores (per class)\n",
      "Classes,Abnormal,Normal\n",
      "AUROC,0.716,0.716\n",
      "AUPRC,0.734,0.703\n",
      "F-measure,0.678,0.000\n",
      "Accuracy,1.000,0.000\n",
      "\n",
      "-------------\n",
      "threshold:  0.1\n",
      "#Murmur scores\n",
      "AUROC,AUPRC,F-measure,Accuracy,Weighted Accuracy,Cost\n",
      "0.777,0.635,0.111,0.199,0.512,15140.890\n",
      "\n",
      "#Outcome scores\n",
      "AUROC,AUPRC,F-measure,Accuracy,Weighted Accuracy,Cost\n",
      "0.716,0.719,0.339,0.513,0.840,15140.890\n",
      "\n",
      "#Murmur scores (per class)\n",
      "Classes,Present,Unknown,Absent\n",
      "AUROC,0.965,0.500,0.867\n",
      "AUPRC,0.911,0.073,0.921\n",
      "F-measure,0.332,0.000,0.000\n",
      "Accuracy,1.000,0.000,0.000\n",
      "\n",
      "#Outcome scores (per class)\n",
      "Classes,Abnormal,Normal\n",
      "AUROC,0.716,0.716\n",
      "AUPRC,0.734,0.703\n",
      "F-measure,0.678,0.000\n",
      "Accuracy,1.000,0.000\n",
      "\n",
      "-------------\n",
      "threshold:  0.15\n",
      "#Murmur scores\n",
      "AUROC,AUPRC,F-measure,Accuracy,Weighted Accuracy,Cost\n",
      "0.777,0.635,0.136,0.225,0.526,14500.929\n",
      "\n",
      "#Outcome scores\n",
      "AUROC,AUPRC,F-measure,Accuracy,Weighted Accuracy,Cost\n",
      "0.716,0.719,0.339,0.513,0.840,15140.890\n",
      "\n",
      "#Murmur scores (per class)\n",
      "Classes,Present,Unknown,Absent\n",
      "AUROC,0.965,0.500,0.867\n",
      "AUPRC,0.911,0.073,0.921\n",
      "F-measure,0.339,0.000,0.069\n",
      "Accuracy,1.000,0.000,0.036\n",
      "\n",
      "#Outcome scores (per class)\n",
      "Classes,Abnormal,Normal\n",
      "AUROC,0.716,0.716\n",
      "AUPRC,0.734,0.703\n",
      "F-measure,0.678,0.000\n",
      "Accuracy,1.000,0.000\n",
      "\n",
      "-------------\n",
      "threshold:  0.2\n",
      "#Murmur scores\n",
      "AUROC,AUPRC,F-measure,Accuracy,Weighted Accuracy,Cost\n",
      "0.777,0.635,0.174,0.267,0.547,13855.136\n",
      "\n",
      "#Outcome scores\n",
      "AUROC,AUPRC,F-measure,Accuracy,Weighted Accuracy,Cost\n",
      "0.716,0.719,0.339,0.513,0.840,15140.890\n",
      "\n",
      "#Murmur scores (per class)\n",
      "Classes,Present,Unknown,Absent\n",
      "AUROC,0.965,0.500,0.867\n",
      "AUPRC,0.911,0.073,0.921\n",
      "F-measure,0.353,0.000,0.170\n",
      "Accuracy,1.000,0.000,0.094\n",
      "\n",
      "#Outcome scores (per class)\n",
      "Classes,Abnormal,Normal\n",
      "AUROC,0.716,0.716\n",
      "AUPRC,0.734,0.703\n",
      "F-measure,0.678,0.000\n",
      "Accuracy,1.000,0.000\n",
      "\n",
      "-------------\n",
      "threshold:  0.25\n",
      "#Murmur scores\n",
      "AUROC,AUPRC,F-measure,Accuracy,Weighted Accuracy,Cost\n",
      "0.777,0.635,0.253,0.366,0.598,12210.851\n",
      "\n",
      "#Outcome scores\n",
      "AUROC,AUPRC,F-measure,Accuracy,Weighted Accuracy,Cost\n",
      "0.716,0.719,0.339,0.513,0.840,15140.890\n",
      "\n",
      "#Murmur scores (per class)\n",
      "Classes,Present,Unknown,Absent\n",
      "AUROC,0.965,0.500,0.867\n",
      "AUPRC,0.911,0.073,0.921\n",
      "F-measure,0.390,0.000,0.370\n",
      "Accuracy,1.000,0.000,0.230\n",
      "\n",
      "#Outcome scores (per class)\n",
      "Classes,Abnormal,Normal\n",
      "AUROC,0.716,0.716\n",
      "AUPRC,0.734,0.703\n",
      "F-measure,0.678,0.000\n",
      "Accuracy,1.000,0.000\n",
      "\n",
      "-------------\n",
      "threshold:  0.3\n",
      "#Murmur scores\n",
      "AUROC,AUPRC,F-measure,Accuracy,Weighted Accuracy,Cost\n",
      "0.777,0.635,0.344,0.503,0.668,12174.379\n",
      "\n",
      "#Outcome scores\n",
      "AUROC,AUPRC,F-measure,Accuracy,Weighted Accuracy,Cost\n",
      "0.716,0.719,0.339,0.513,0.840,15140.890\n",
      "\n",
      "#Murmur scores (per class)\n",
      "Classes,Present,Unknown,Absent\n",
      "AUROC,0.965,0.500,0.867\n",
      "AUPRC,0.911,0.073,0.921\n",
      "F-measure,0.458,0.000,0.574\n",
      "Accuracy,1.000,0.000,0.417\n",
      "\n",
      "#Outcome scores (per class)\n",
      "Classes,Abnormal,Normal\n",
      "AUROC,0.716,0.716\n",
      "AUPRC,0.734,0.703\n",
      "F-measure,0.678,0.000\n",
      "Accuracy,1.000,0.000\n",
      "\n",
      "-------------\n",
      "threshold:  0.35\n",
      "#Murmur scores\n",
      "AUROC,AUPRC,F-measure,Accuracy,Weighted Accuracy,Cost\n",
      "0.777,0.635,0.405,0.602,0.720,13325.667\n",
      "\n",
      "#Outcome scores\n",
      "AUROC,AUPRC,F-measure,Accuracy,Weighted Accuracy,Cost\n",
      "0.716,0.719,0.351,0.518,0.842,14922.040\n",
      "\n",
      "#Murmur scores (per class)\n",
      "Classes,Present,Unknown,Absent\n",
      "AUROC,0.965,0.500,0.867\n",
      "AUPRC,0.911,0.073,0.921\n",
      "F-measure,0.521,0.000,0.694\n",
      "Accuracy,1.000,0.000,0.554\n",
      "\n",
      "#Outcome scores (per class)\n",
      "Classes,Abnormal,Normal\n",
      "AUROC,0.716,0.716\n",
      "AUPRC,0.734,0.703\n",
      "F-measure,0.681,0.021\n",
      "Accuracy,1.000,0.011\n",
      "\n",
      "-------------\n",
      "threshold:  0.4\n",
      "#Murmur scores\n",
      "AUROC,AUPRC,F-measure,Accuracy,Weighted Accuracy,Cost\n",
      "0.777,0.635,0.490,0.743,0.782,15198.607\n",
      "\n",
      "#Outcome scores\n",
      "AUROC,AUPRC,F-measure,Accuracy,Weighted Accuracy,Cost\n",
      "0.716,0.719,0.374,0.529,0.846,14495.049\n",
      "\n",
      "#Murmur scores (per class)\n",
      "Classes,Present,Unknown,Absent\n",
      "AUROC,0.965,0.500,0.867\n",
      "AUPRC,0.911,0.073,0.921\n",
      "F-measure,0.638,0.000,0.833\n",
      "Accuracy,0.974,0.000,0.755\n",
      "\n",
      "#Outcome scores (per class)\n",
      "Classes,Abnormal,Normal\n",
      "AUROC,0.716,0.716\n",
      "AUPRC,0.734,0.703\n",
      "F-measure,0.685,0.062\n",
      "Accuracy,1.000,0.032\n",
      "\n",
      "-------------\n",
      "threshold:  0.45\n",
      "#Murmur scores\n",
      "AUROC,AUPRC,F-measure,Accuracy,Weighted Accuracy,Cost\n",
      "0.777,0.635,0.524,0.796,0.765,16945.825\n",
      "\n",
      "#Outcome scores\n",
      "AUROC,AUPRC,F-measure,Accuracy,Weighted Accuracy,Cost\n",
      "0.716,0.719,0.374,0.529,0.846,14495.049\n",
      "\n",
      "#Murmur scores (per class)\n",
      "Classes,Present,Unknown,Absent\n",
      "AUROC,0.965,0.500,0.867\n",
      "AUPRC,0.911,0.073,0.921\n",
      "F-measure,0.702,0.000,0.869\n",
      "Accuracy,0.868,0.000,0.856\n",
      "\n",
      "#Outcome scores (per class)\n",
      "Classes,Abnormal,Normal\n",
      "AUROC,0.716,0.716\n",
      "AUPRC,0.734,0.703\n",
      "F-measure,0.685,0.062\n",
      "Accuracy,1.000,0.032\n",
      "\n",
      "-------------\n",
      "threshold:  0.5\n",
      "#Murmur scores\n",
      "AUROC,AUPRC,F-measure,Accuracy,Weighted Accuracy,Cost\n",
      "0.777,0.635,0.567,0.848,0.792,18392.583\n",
      "\n",
      "#Outcome scores\n",
      "AUROC,AUPRC,F-measure,Accuracy,Weighted Accuracy,Cost\n",
      "0.716,0.719,0.422,0.545,0.837,13527.869\n",
      "\n",
      "#Murmur scores (per class)\n",
      "Classes,Present,Unknown,Absent\n",
      "AUROC,0.965,0.500,0.867\n",
      "AUPRC,0.911,0.073,0.921\n",
      "F-measure,0.795,0.000,0.905\n",
      "Accuracy,0.868,0.000,0.928\n",
      "\n",
      "#Outcome scores (per class)\n",
      "Classes,Abnormal,Normal\n",
      "AUROC,0.716,0.716\n",
      "AUPRC,0.734,0.703\n",
      "F-measure,0.688,0.155\n",
      "Accuracy,0.980,0.086\n",
      "\n",
      "-------------\n",
      "threshold:  0.55\n",
      "#Murmur scores\n",
      "AUROC,AUPRC,F-measure,Accuracy,Weighted Accuracy,Cost\n",
      "0.777,0.635,0.588,0.869,0.803,19017.401\n",
      "\n",
      "#Outcome scores\n",
      "AUROC,AUPRC,F-measure,Accuracy,Weighted Accuracy,Cost\n",
      "0.716,0.719,0.512,0.592,0.846,11875.557\n",
      "\n",
      "#Murmur scores (per class)\n",
      "Classes,Present,Unknown,Absent\n",
      "AUROC,0.965,0.500,0.867\n",
      "AUPRC,0.911,0.073,0.921\n",
      "F-measure,0.846,0.000,0.917\n",
      "Accuracy,0.868,0.000,0.957\n",
      "\n",
      "#Outcome scores (per class)\n",
      "Classes,Abnormal,Normal\n",
      "AUROC,0.716,0.716\n",
      "AUPRC,0.734,0.703\n",
      "F-measure,0.709,0.316\n",
      "Accuracy,0.969,0.194\n",
      "\n",
      "-------------\n",
      "threshold:  0.6\n",
      "#Murmur scores\n",
      "AUROC,AUPRC,F-measure,Accuracy,Weighted Accuracy,Cost\n",
      "0.777,0.635,0.596,0.880,0.787,20062.573\n",
      "\n",
      "#Outcome scores\n",
      "AUROC,AUPRC,F-measure,Accuracy,Weighted Accuracy,Cost\n",
      "0.716,0.719,0.609,0.628,0.762,10967.634\n",
      "\n",
      "#Murmur scores (per class)\n",
      "Classes,Present,Unknown,Absent\n",
      "AUROC,0.965,0.500,0.867\n",
      "AUPRC,0.911,0.073,0.921\n",
      "F-measure,0.861,0.000,0.926\n",
      "Accuracy,0.816,0.000,0.986\n",
      "\n",
      "#Outcome scores (per class)\n",
      "Classes,Abnormal,Normal\n",
      "AUROC,0.716,0.716\n",
      "AUPRC,0.734,0.703\n",
      "F-measure,0.695,0.523\n",
      "Accuracy,0.827,0.419\n",
      "\n",
      "-------------\n",
      "threshold:  0.65\n",
      "#Murmur scores\n",
      "AUROC,AUPRC,F-measure,Accuracy,Weighted Accuracy,Cost\n",
      "0.777,0.635,0.567,0.859,0.722,20689.767\n",
      "\n",
      "#Outcome scores\n",
      "AUROC,AUPRC,F-measure,Accuracy,Weighted Accuracy,Cost\n",
      "0.716,0.719,0.627,0.628,0.652,12746.665\n",
      "\n",
      "#Murmur scores (per class)\n",
      "Classes,Present,Unknown,Absent\n",
      "AUROC,0.965,0.500,0.867\n",
      "AUPRC,0.911,0.073,0.921\n",
      "F-measure,0.788,0.000,0.914\n",
      "Accuracy,0.684,0.000,0.993\n",
      "\n",
      "#Outcome scores (per class)\n",
      "Classes,Abnormal,Normal\n",
      "AUROC,0.716,0.716\n",
      "AUPRC,0.734,0.703\n",
      "F-measure,0.647,0.608\n",
      "Accuracy,0.663,0.591\n",
      "\n",
      "-------------\n",
      "threshold:  0.7\n",
      "#Murmur scores\n",
      "AUROC,AUPRC,F-measure,Accuracy,Weighted Accuracy,Cost\n",
      "0.777,0.635,0.548,0.843,0.682,21317.120\n",
      "\n",
      "#Outcome scores\n",
      "AUROC,AUPRC,F-measure,Accuracy,Weighted Accuracy,Cost\n",
      "0.716,0.719,0.642,0.644,0.581,14570.335\n",
      "\n",
      "#Murmur scores (per class)\n",
      "Classes,Present,Unknown,Absent\n",
      "AUROC,0.965,0.500,0.867\n",
      "AUPRC,0.911,0.073,0.921\n",
      "F-measure,0.742,0.000,0.902\n",
      "Accuracy,0.605,0.000,0.993\n",
      "\n",
      "#Outcome scores (per class)\n",
      "Classes,Abnormal,Normal\n",
      "AUROC,0.716,0.716\n",
      "AUPRC,0.734,0.703\n",
      "F-measure,0.614,0.670\n",
      "Accuracy,0.551,0.742\n",
      "\n",
      "-------------\n",
      "threshold:  0.75\n",
      "#Murmur scores\n",
      "AUROC,AUPRC,F-measure,Accuracy,Weighted Accuracy,Cost\n",
      "0.777,0.635,0.493,0.812,0.590,22360.422\n",
      "\n",
      "#Outcome scores\n",
      "AUROC,AUPRC,F-measure,Accuracy,Weighted Accuracy,Cost\n",
      "0.716,0.719,0.585,0.613,0.434,18601.128\n",
      "\n",
      "#Murmur scores (per class)\n",
      "Classes,Present,Unknown,Absent\n",
      "AUROC,0.965,0.500,0.867\n",
      "AUPRC,0.911,0.073,0.921\n",
      "F-measure,0.593,0.000,0.885\n",
      "Accuracy,0.421,0.000,1.000\n",
      "\n",
      "#Outcome scores (per class)\n",
      "Classes,Abnormal,Normal\n",
      "AUROC,0.716,0.716\n",
      "AUPRC,0.734,0.703\n",
      "F-measure,0.479,0.692\n",
      "Accuracy,0.347,0.892\n",
      "\n",
      "-------------\n",
      "threshold:  0.8\n",
      "#Murmur scores\n",
      "AUROC,AUPRC,F-measure,Accuracy,Weighted Accuracy,Cost\n",
      "0.777,0.635,0.391,0.764,0.469,24235.744\n",
      "\n",
      "#Outcome scores\n",
      "AUROC,AUPRC,F-measure,Accuracy,Weighted Accuracy,Cost\n",
      "0.716,0.719,0.518,0.581,0.334,21317.120\n",
      "\n",
      "#Murmur scores (per class)\n",
      "Classes,Present,Unknown,Absent\n",
      "AUROC,0.965,0.500,0.867\n",
      "AUPRC,0.911,0.073,0.921\n",
      "F-measure,0.311,0.000,0.861\n",
      "Accuracy,0.184,0.000,1.000\n",
      "\n",
      "#Outcome scores (per class)\n",
      "Classes,Abnormal,Normal\n",
      "AUROC,0.716,0.716\n",
      "AUPRC,0.734,0.703\n",
      "F-measure,0.344,0.692\n",
      "Accuracy,0.214,0.968\n",
      "\n",
      "-------------\n"
     ]
    }
   ],
   "source": [
    "for th1 in [0.01, 0.05, 0.1, 0.15,0.2, 0.25, 0.3, 0.35, 0.4, 0.45, 0.5, 0.55, 0.6, 0.65, 0.7, 0.75, 0.8] :\n",
    "    murmur_binary_outputs[:,0] = murmur_scalar_outputs[:,0] > th1\n",
    "    murmur_binary_outputs[:,2] = murmur_scalar_outputs[:,2] > 1 - th1\n",
    "    outcome_binary_outputs[:,0] = outcome_scalar_outputs[:,0] > th1\n",
    "    outcome_binary_outputs[:,1] = outcome_scalar_outputs[:,1] > 1 - th1\n",
    "    # For each patient, set the 'Present' or 'Abnormal' class to positive if no class is positive or if multiple classes are positive.\n",
    "    murmur_labels = enforce_positives(murmur_labels, murmur_classes, 'Present')\n",
    "    murmur_binary_outputs = enforce_positives(murmur_binary_outputs, murmur_classes, 'Present')\n",
    "    outcome_labels = enforce_positives(outcome_labels, outcome_classes, 'Abnormal')\n",
    "    outcome_binary_outputs = enforce_positives(outcome_binary_outputs, outcome_classes, 'Abnormal')\n",
    "    # Evaluate the murmur model by comparing the labels and model outputs.\n",
    "    murmur_auroc, murmur_auprc, murmur_auroc_classes, murmur_auprc_classes = compute_auc(murmur_labels, murmur_scalar_outputs)\n",
    "    murmur_f_measure, murmur_f_measure_classes = compute_f_measure(murmur_labels, murmur_binary_outputs)\n",
    "    murmur_accuracy, murmur_accuracy_classes = compute_accuracy(murmur_labels, murmur_binary_outputs)\n",
    "    murmur_weighted_accuracy = compute_weighted_accuracy(murmur_labels, murmur_binary_outputs, murmur_classes) # This is the murmur scoring metric.\n",
    "    murmur_cost = compute_cost(outcome_labels, murmur_binary_outputs, outcome_classes, murmur_classes) # Use *outcomes* to score *murmurs* for the Challenge cost metric, but this is not the actual murmur scoring metric.\n",
    "    murmur_scores = (murmur_classes, murmur_auroc, murmur_auprc, murmur_auroc_classes, murmur_auprc_classes, \\\n",
    "                 murmur_f_measure, murmur_f_measure_classes, murmur_accuracy, murmur_accuracy_classes, murmur_weighted_accuracy, murmur_cost)\n",
    "\n",
    "    # Evaluate the outcome model by comparing the labels and model outputs.\n",
    "    outcome_auroc, outcome_auprc, outcome_auroc_classes, outcome_auprc_classes = compute_auc(outcome_labels, outcome_scalar_outputs)\n",
    "    outcome_f_measure, outcome_f_measure_classes = compute_f_measure(outcome_labels, outcome_binary_outputs)\n",
    "    outcome_accuracy, outcome_accuracy_classes = compute_accuracy(outcome_labels, outcome_binary_outputs)\n",
    "    outcome_weighted_accuracy = compute_weighted_accuracy(outcome_labels, outcome_binary_outputs, outcome_classes)\n",
    "    outcome_cost = compute_cost(outcome_labels, outcome_binary_outputs, outcome_classes, outcome_classes) # This is the clinical outcomes scoring metric.\n",
    "    outcome_scores = (outcome_classes, outcome_auroc, outcome_auprc, outcome_auroc_classes, outcome_auprc_classes, \\\n",
    "                  outcome_f_measure, outcome_f_measure_classes, outcome_accuracy, outcome_accuracy_classes, outcome_weighted_accuracy, outcome_cost)\n",
    "\n",
    "\n",
    "\n",
    "    classes, auroc, auprc, auroc_classes, auprc_classes, f_measure, f_measure_classes, accuracy, accuracy_classes, weighted_accuracy, cost = murmur_scores\n",
    "    murmur_output_string = 'AUROC,AUPRC,F-measure,Accuracy,Weighted Accuracy,Cost\\n{:.3f},{:.3f},{:.3f},{:.3f},{:.3f},{:.3f}\\n'.format(auroc, auprc, f_measure, accuracy, weighted_accuracy, cost)\n",
    "    murmur_class_output_string = 'Classes,{}\\nAUROC,{}\\nAUPRC,{}\\nF-measure,{}\\nAccuracy,{}\\n'.format(\n",
    "    ','.join(classes),\n",
    "    ','.join('{:.3f}'.format(x) for x in auroc_classes),\n",
    "    ','.join('{:.3f}'.format(x) for x in auprc_classes),\n",
    "    ','.join('{:.3f}'.format(x) for x in f_measure_classes),\n",
    "    ','.join('{:.3f}'.format(x) for x in accuracy_classes))\n",
    "\n",
    "    classes, auroc, auprc, auroc_classes, auprc_classes, f_measure, f_measure_classes, accuracy, accuracy_classes, weighted_accuracy, cost = outcome_scores\n",
    "    outcome_output_string = 'AUROC,AUPRC,F-measure,Accuracy,Weighted Accuracy,Cost\\n{:.3f},{:.3f},{:.3f},{:.3f},{:.3f},{:.3f}\\n'.format(auroc, auprc, f_measure, accuracy, weighted_accuracy, cost)\n",
    "    outcome_class_output_string = 'Classes,{}\\nAUROC,{}\\nAUPRC,{}\\nF-measure,{}\\nAccuracy,{}\\n'.format(\n",
    "    ','.join(classes),\n",
    "    ','.join('{:.3f}'.format(x) for x in auroc_classes),\n",
    "    ','.join('{:.3f}'.format(x) for x in auprc_classes),\n",
    "    ','.join('{:.3f}'.format(x) for x in f_measure_classes),\n",
    "    ','.join('{:.3f}'.format(x) for x in accuracy_classes))\n",
    "\n",
    "    output_string = '#Murmur scores\\n' + murmur_output_string + '\\n#Outcome scores\\n' + outcome_output_string \\\n",
    "                + '\\n#Murmur scores (per class)\\n' + murmur_class_output_string + '\\n#Outcome scores (per class)\\n' + outcome_class_output_string\n",
    "    print(\"threshold: \", th1)\n",
    "    print(output_string)\n",
    "    print(\"-------------\")"
   ]
  },
  {
   "cell_type": "code",
   "execution_count": null,
   "id": "2d1219b6",
   "metadata": {},
   "outputs": [],
   "source": []
  },
  {
   "cell_type": "code",
   "execution_count": null,
   "id": "9b317bd6",
   "metadata": {},
   "outputs": [],
   "source": []
  },
  {
   "cell_type": "code",
   "execution_count": null,
   "id": "a489407d",
   "metadata": {},
   "outputs": [],
   "source": []
  },
  {
   "cell_type": "code",
   "execution_count": null,
   "id": "17249b57",
   "metadata": {},
   "outputs": [],
   "source": []
  }
 ],
 "metadata": {
  "kernelspec": {
   "display_name": "Python 3 (ipykernel)",
   "language": "python",
   "name": "python3"
  },
  "language_info": {
   "codemirror_mode": {
    "name": "ipython",
    "version": 3
   },
   "file_extension": ".py",
   "mimetype": "text/x-python",
   "name": "python",
   "nbconvert_exporter": "python",
   "pygments_lexer": "ipython3",
   "version": "3.8.13"
  }
 },
 "nbformat": 4,
 "nbformat_minor": 5
}
