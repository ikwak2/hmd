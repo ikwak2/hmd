{
 "cells": [
  {
   "cell_type": "code",
   "execution_count": 1,
   "id": "3d55dbd4",
   "metadata": {},
   "outputs": [],
   "source": [
    "import tensorflow as tf"
   ]
  },
  {
   "cell_type": "code",
   "execution_count": 2,
   "id": "ad188626",
   "metadata": {
    "scrolled": true
   },
   "outputs": [
    {
     "name": "stderr",
     "output_type": "stream",
     "text": [
      "2022-08-11 18:43:59.894189: I tensorflow/stream_executor/cuda/cuda_gpu_executor.cc:936] successful NUMA node read from SysFS had negative value (-1), but there must be at least one NUMA node, so returning NUMA node zero\n",
      "2022-08-11 18:43:59.913600: I tensorflow/stream_executor/cuda/cuda_gpu_executor.cc:936] successful NUMA node read from SysFS had negative value (-1), but there must be at least one NUMA node, so returning NUMA node zero\n",
      "2022-08-11 18:43:59.914792: I tensorflow/stream_executor/cuda/cuda_gpu_executor.cc:936] successful NUMA node read from SysFS had negative value (-1), but there must be at least one NUMA node, so returning NUMA node zero\n",
      "2022-08-11 18:43:59.916946: I tensorflow/core/platform/cpu_feature_guard.cc:151] This TensorFlow binary is optimized with oneAPI Deep Neural Network Library (oneDNN) to use the following CPU instructions in performance-critical operations:  AVX2 FMA\n",
      "To enable them in other operations, rebuild TensorFlow with the appropriate compiler flags.\n",
      "2022-08-11 18:43:59.919241: I tensorflow/stream_executor/cuda/cuda_gpu_executor.cc:936] successful NUMA node read from SysFS had negative value (-1), but there must be at least one NUMA node, so returning NUMA node zero\n",
      "2022-08-11 18:43:59.920075: I tensorflow/stream_executor/cuda/cuda_gpu_executor.cc:936] successful NUMA node read from SysFS had negative value (-1), but there must be at least one NUMA node, so returning NUMA node zero\n",
      "2022-08-11 18:43:59.920866: I tensorflow/stream_executor/cuda/cuda_gpu_executor.cc:936] successful NUMA node read from SysFS had negative value (-1), but there must be at least one NUMA node, so returning NUMA node zero\n",
      "2022-08-11 18:44:00.280710: I tensorflow/stream_executor/cuda/cuda_gpu_executor.cc:936] successful NUMA node read from SysFS had negative value (-1), but there must be at least one NUMA node, so returning NUMA node zero\n",
      "2022-08-11 18:44:00.281036: I tensorflow/stream_executor/cuda/cuda_gpu_executor.cc:936] successful NUMA node read from SysFS had negative value (-1), but there must be at least one NUMA node, so returning NUMA node zero\n",
      "2022-08-11 18:44:00.281307: I tensorflow/stream_executor/cuda/cuda_gpu_executor.cc:936] successful NUMA node read from SysFS had negative value (-1), but there must be at least one NUMA node, so returning NUMA node zero\n",
      "2022-08-11 18:44:00.281557: I tensorflow/core/common_runtime/gpu/gpu_device.cc:1525] Created device /job:localhost/replica:0/task:0/device:GPU:0 with 9058 MB memory:  -> device: 0, name: GeForce RTX 2080 Ti, pci bus id: 0000:01:00.0, compute capability: 7.5\n"
     ]
    }
   ],
   "source": [
    "import os\n",
    "import pandas as pd\n",
    "import numpy as np\n",
    "import scipy as sp\n",
    "import scipy.stats\n",
    "import librosa\n",
    "import librosa.display\n",
    "import math\n",
    "import sys\n",
    "#sys.path.insert(0,'/home/ikwak2/hmd/notebooks')\n",
    "sys.path.insert(0,'lucashnegri-peakutils-51a679cd8428')\n",
    "# sys.path.insert(0,'S1-S1-Phonocardiogram-Peak-Detection-Method-in-Python')\n",
    "sys.path.insert(0,'utils')\n",
    "from helper_code import *\n",
    "from get_feature import *\n",
    "from models import *\n",
    "from Generator0 import *\n",
    "from keras.preprocessing import sequence\n",
    "# import peakutils\n",
    "from scipy import special\n",
    "import scipy.io as sio\n",
    "from keras.preprocessing.sequence import pad_sequences\n",
    "import peakutils\n",
    "from tensorflow import keras\n",
    "from tensorflow.keras import layers\n",
    "from tensorflow.keras.callbacks import LearningRateScheduler,ModelCheckpoint"
   ]
  },
  {
   "cell_type": "code",
   "execution_count": 3,
   "id": "f8c573ff",
   "metadata": {},
   "outputs": [
    {
     "data": {
      "text/plain": [
       "'/home/jk21/Documents/hmd/jk_classifier'"
      ]
     },
     "execution_count": 3,
     "metadata": {},
     "output_type": "execute_result"
    }
   ],
   "source": [
    "pwd"
   ]
  },
  {
   "cell_type": "code",
   "execution_count": 4,
   "id": "42f5dd9c",
   "metadata": {},
   "outputs": [],
   "source": [
    "# data_folder =  'physionet.org/files/circor-heart-sound/1.0.3/training_data'\n",
    "train_folder =  '/home/jk21/Downloads/Data/data/murmur/train'\n",
    "test_folder = '/home/jk21/Downloads/Data/data/murmur/test'\n"
   ]
  },
  {
   "cell_type": "code",
   "execution_count": 5,
   "id": "ca657f78",
   "metadata": {},
   "outputs": [],
   "source": [
    "model_folder = 'lcnn2'"
   ]
  },
  {
   "cell_type": "code",
   "execution_count": 6,
   "id": "e49f868b",
   "metadata": {},
   "outputs": [
    {
     "data": {
      "text/plain": [
       "'lcnn2'"
      ]
     },
     "execution_count": 6,
     "metadata": {},
     "output_type": "execute_result"
    }
   ],
   "source": [
    "model_folder"
   ]
  },
  {
   "cell_type": "code",
   "execution_count": 7,
   "id": "e76c75d5",
   "metadata": {},
   "outputs": [],
   "source": [
    "def sigmoidal_decay(e, start=0, end=100, lr_start=1e-3, lr_end=1e-5):\n",
    "    if e < start:\n",
    "        return lr_start\n",
    "    elif e > end:\n",
    "        return lr_end\n",
    "\n",
    "    middle = (start + end) / 2\n",
    "    s = lambda x: 1 / (1 + np.exp(-x))\n",
    "\n",
    "    return s(13 * (-e + middle) / np.abs(end - start)) * np.abs(lr_start - lr_end) + lr_end"
   ]
  },
  {
   "cell_type": "code",
   "execution_count": 8,
   "id": "ac7432d8",
   "metadata": {},
   "outputs": [],
   "source": [
    "patient_files_trn = find_patient_files(train_folder)\n",
    "patient_files_test = find_patient_files(test_folder)"
   ]
  },
  {
   "cell_type": "code",
   "execution_count": 9,
   "id": "a30c2ab2",
   "metadata": {},
   "outputs": [],
   "source": [
    "\n",
    "\n",
    "per_sec=16000\n",
    "winlen = 512\n",
    "hoplen = 256\n",
    "nmel = 120 \n",
    "nsec = 20 \n",
    "trim = 1 \n",
    "use_mel=True\n",
    "use_cqt = False \n",
    "use_stft = False\n",
    "use_raw=True\n",
    "use_interval=True\n",
    "use_wav2=False\n",
    "maxlen1 = 246000\n",
    "min_dist = 500\n",
    "max_interval_len = 192\n"
   ]
  },
  {
   "cell_type": "code",
   "execution_count": 10,
   "id": "701e9583",
   "metadata": {},
   "outputs": [],
   "source": [
    "model1_callback = tf.keras.callbacks.ModelCheckpoint(\n",
    "    filepath=model_folder,\n",
    "    monitor='val_accuracy',\n",
    "    verbose=0,\n",
    "    save_best_only=True,\n",
    "    save_weights_only=True,\n",
    "    mode='auto',\n",
    "    save_freq='epoch',\n",
    "    options=None,\n",
    "    initial_value_threshold=None\n",
    ")\n"
   ]
  },
  {
   "cell_type": "code",
   "execution_count": 11,
   "id": "d03a4cfb",
   "metadata": {},
   "outputs": [],
   "source": [
    "model2_callback = tf.keras.callbacks.ModelCheckpoint(\n",
    "    filepath=model_folder,\n",
    "    monitor='val_loss',\n",
    "    verbose=0,\n",
    "    save_best_only=True,\n",
    "    save_weights_only=True,\n",
    "    mode='auto',\n",
    "    save_freq='epoch',\n",
    "    options=None,\n",
    "    initial_value_threshold=None\n",
    ")    "
   ]
  },
  {
   "cell_type": "code",
   "execution_count": 12,
   "id": "cb6ef75f",
   "metadata": {},
   "outputs": [],
   "source": [
    "params_feature = {'samp_sec': nsec,\n",
    "                  #### melspec, stft 피쳐 옵션들  \n",
    "                  'pre_emphasis': 0,\n",
    "                  'hop_length': hoplen,\n",
    "                  'win_length': winlen,\n",
    "                  'n_mels': nmel,\n",
    "                  #### cqt 피쳐 옵션들  \n",
    "                  'filter_scale': 1,\n",
    "                  'n_bins': 80,\n",
    "                  'fmin': 10,\n",
    "                  'maxlen1': maxlen1,\n",
    "                  'min_dist':min_dist,\n",
    "                  'max_interval_len' : max_interval_len,\n",
    "                  'trim' :1,\n",
    "                  'use_raw' : use_raw,\n",
    "                  'use_mel' : use_mel,\n",
    "                  'use_cqt' : use_cqt,\n",
    "                  'use_stft' : use_stft,\n",
    "                  'use_interval' : use_interval,\n",
    "                  'use_wav2' : use_wav2,\n",
    "                  'per_sec' : per_sec\n",
    "}"
   ]
  },
  {
   "cell_type": "code",
   "execution_count": 13,
   "id": "ca1fabdb",
   "metadata": {},
   "outputs": [],
   "source": [
    "params_feature = {'samp_sec': nsec,\n",
    "                  #### melspec, stft 피쳐 옵션들  \n",
    "                  'pre_emphasis': 0,\n",
    "                  'hop_length': hoplen,\n",
    "                  'win_length': winlen,\n",
    "                  'n_mels': nmel,\n",
    "                  #### cqt 피쳐 옵션들  \n",
    "                  'filter_scale': 1,\n",
    "                  'n_bins': 80,\n",
    "                  'fmin': 10,\n",
    "                  'maxlen1': maxlen1,\n",
    "                  'min_dist':min_dist,\n",
    "                  'max_interval_len' : max_interval_len,\n",
    "                  'trim' :1,\n",
    "                  'use_raw' : use_raw,\n",
    "                  'use_mel' : use_mel,\n",
    "                  'use_cqt' : use_cqt,\n",
    "                  'use_stft' : use_stft,\n",
    "                  'use_interval' : use_interval,\n",
    "                  'use_wav2' : use_wav2,\n",
    "                  'per_sec' : per_sec\n",
    "}"
   ]
  },
  {
   "cell_type": "code",
   "execution_count": 14,
   "id": "a4acff06",
   "metadata": {},
   "outputs": [
    {
     "data": {
      "text/plain": [
       "{'samp_sec': 20,\n",
       " 'pre_emphasis': 0,\n",
       " 'hop_length': 256,\n",
       " 'win_length': 512,\n",
       " 'n_mels': 120,\n",
       " 'filter_scale': 1,\n",
       " 'n_bins': 80,\n",
       " 'fmin': 10,\n",
       " 'maxlen1': 246000,\n",
       " 'min_dist': 500,\n",
       " 'max_interval_len': 192,\n",
       " 'trim': 1,\n",
       " 'use_raw': True,\n",
       " 'use_mel': True,\n",
       " 'use_cqt': False,\n",
       " 'use_stft': False,\n",
       " 'use_interval': True,\n",
       " 'use_wav2': False,\n",
       " 'per_sec': 16000}"
      ]
     },
     "execution_count": 14,
     "metadata": {},
     "output_type": "execute_result"
    }
   ],
   "source": [
    "params_feature"
   ]
  },
  {
   "cell_type": "code",
   "execution_count": null,
   "id": "c01a8f6e",
   "metadata": {},
   "outputs": [],
   "source": []
  },
  {
   "cell_type": "code",
   "execution_count": null,
   "id": "bc875a35",
   "metadata": {},
   "outputs": [],
   "source": []
  },
  {
   "cell_type": "code",
   "execution_count": null,
   "id": "91fe3e19",
   "metadata": {},
   "outputs": [],
   "source": []
  },
  {
   "cell_type": "code",
   "execution_count": 16,
   "id": "caa0f60d",
   "metadata": {},
   "outputs": [
    {
     "name": "stderr",
     "output_type": "stream",
     "text": [
      "100%|█████████████████████████████████████████| 751/751 [28:36<00:00,  2.29s/it]\n"
     ]
    },
    {
     "name": "stdout",
     "output_type": "stream",
     "text": [
      "melspec:  120 313\n",
      "cqt:  1 1\n",
      "stft:  1 1\n",
      "interval:  192 1\n",
      "raw1:  (246000,)\n"
     ]
    }
   ],
   "source": [
    "features_trn, mel_input_shape, cqt_input_shape,stft_input_shape,interval_input_shape,raw1_input_shape = get_features_3lb_all_ord(train_folder, patient_files_trn, **params_feature)\n"
   ]
  },
  {
   "cell_type": "code",
   "execution_count": 17,
   "id": "b04d2593",
   "metadata": {},
   "outputs": [
    {
     "name": "stderr",
     "output_type": "stream",
     "text": [
      "100%|█████████████████████████████████████████| 191/191 [08:00<00:00,  2.51s/it]\n"
     ]
    },
    {
     "name": "stdout",
     "output_type": "stream",
     "text": [
      "melspec:  120 313\n",
      "cqt:  1 1\n",
      "stft:  1 1\n",
      "interval:  192 1\n",
      "raw1:  (246000,)\n"
     ]
    }
   ],
   "source": [
    "features_test, mel_input_shape, cqt_input_shape,stft_input_shape,interval_input_shape,raw1_input_shape= get_features_3lb_all_ord(test_folder, patient_files_test, **params_feature)"
   ]
  },
  {
   "cell_type": "code",
   "execution_count": null,
   "id": "cd3db089",
   "metadata": {},
   "outputs": [],
   "source": []
  },
  {
   "cell_type": "code",
   "execution_count": null,
   "id": "20f15e6c",
   "metadata": {},
   "outputs": [],
   "source": []
  },
  {
   "cell_type": "code",
   "execution_count": null,
   "id": "af189cc7",
   "metadata": {},
   "outputs": [],
   "source": []
  },
  {
   "cell_type": "code",
   "execution_count": null,
   "id": "71e52544",
   "metadata": {},
   "outputs": [],
   "source": []
  },
  {
   "cell_type": "code",
   "execution_count": null,
   "id": "781913ca",
   "metadata": {},
   "outputs": [],
   "source": []
  },
  {
   "cell_type": "code",
   "execution_count": null,
   "id": "df0dde28",
   "metadata": {},
   "outputs": [],
   "source": []
  },
  {
   "cell_type": "code",
   "execution_count": null,
   "id": "c062bb96",
   "metadata": {},
   "outputs": [],
   "source": []
  },
  {
   "cell_type": "code",
   "execution_count": 15,
   "id": "c05f1a96",
   "metadata": {},
   "outputs": [],
   "source": [
    "mm_weight = 3 #np.random.choice([2,3,4,5])\n",
    "oo_weight = 3 #np.random.choice([2,3,4,5,6])\n",
    "ord1 = True #np.random.choice([True,False])\n",
    "mm_mean = False #np.random.choice([True,False])\n",
    "dp = 0 #np.random.choice([0, .1, .2, .3])\n",
    "fc = False #np.random.choice([True,False])\n",
    "ext = True\n",
    "chaug = 10 #np.random.choice([0, 10])\n",
    "mixup = True #np.random.choice([True,False])\n",
    "cout = .8 #np.random.choice([0, 0.8])\n",
    "wunknown = 1 #np.random.choice([1, 0.7, .5, .2])\n",
    "n1 = 0 #np.random.choice([0,2])\n",
    "if n1 == 0 :\n",
    "    ranfil = False\n",
    "else :\n",
    "    ranfil = [n1, [18,19,20,21,22,23]]"
   ]
  },
  {
   "cell_type": "code",
   "execution_count": 16,
   "id": "9fe819a9",
   "metadata": {},
   "outputs": [],
   "source": [
    "params_feature['ord1'] = ord1\n",
    "params_feature['mm_mean'] = mm_mean\n",
    "params_feature['dp'] = dp\n",
    "params_feature['fc'] = fc\n",
    "params_feature['ext'] = ext\n",
    "params_feature['oo_weight'] = oo_weight\n",
    "params_feature['mm_weight'] = mm_weight\n",
    "params_feature['chaug'] = chaug\n",
    "params_feature['cout'] = cout\n",
    "params_feature['wunknown'] = wunknown\n",
    "params_feature['mixup'] = mixup\n",
    "params_feature['n1'] = n1"
   ]
  },
  {
   "cell_type": "code",
   "execution_count": 17,
   "id": "12a59049",
   "metadata": {},
   "outputs": [
    {
     "data": {
      "text/plain": [
       "{'samp_sec': 20,\n",
       " 'pre_emphasis': 0,\n",
       " 'hop_length': 256,\n",
       " 'win_length': 512,\n",
       " 'n_mels': 120,\n",
       " 'filter_scale': 1,\n",
       " 'n_bins': 80,\n",
       " 'fmin': 10,\n",
       " 'maxlen1': 246000,\n",
       " 'min_dist': 500,\n",
       " 'max_interval_len': 192,\n",
       " 'trim': 1,\n",
       " 'use_raw': True,\n",
       " 'use_mel': True,\n",
       " 'use_cqt': False,\n",
       " 'use_stft': False,\n",
       " 'use_interval': True,\n",
       " 'use_wav2': False,\n",
       " 'per_sec': 16000,\n",
       " 'ord1': True,\n",
       " 'mm_mean': False,\n",
       " 'dp': 0,\n",
       " 'fc': False,\n",
       " 'ext': True,\n",
       " 'oo_weight': 3,\n",
       " 'mm_weight': 3,\n",
       " 'chaug': 10,\n",
       " 'cout': 0.8,\n",
       " 'wunknown': 1,\n",
       " 'mixup': True,\n",
       " 'n1': 0}"
      ]
     },
     "execution_count": 17,
     "metadata": {},
     "output_type": "execute_result"
    }
   ],
   "source": [
    "params_feature"
   ]
  },
  {
   "cell_type": "code",
   "execution_count": null,
   "id": "17cd191d",
   "metadata": {},
   "outputs": [],
   "source": []
  },
  {
   "cell_type": "code",
   "execution_count": null,
   "id": "24434998",
   "metadata": {},
   "outputs": [],
   "source": []
  },
  {
   "cell_type": "code",
   "execution_count": null,
   "id": "ee510fdf",
   "metadata": {},
   "outputs": [],
   "source": []
  },
  {
   "cell_type": "code",
   "execution_count": null,
   "id": "dd6457f0",
   "metadata": {},
   "outputs": [],
   "source": []
  },
  {
   "cell_type": "code",
   "execution_count": 18,
   "id": "8b2ff2db",
   "metadata": {
    "scrolled": true
   },
   "outputs": [],
   "source": [
    "with open('/home/jk21/Downloads/Data/features_trn_wav2vec_include_interval_4sec.pickle', 'wb') as f:\n",
    "    pickle.dump(features_trn, f, pickle.HIGHEST_PROTOCOL)"
   ]
  },
  {
   "cell_type": "code",
   "execution_count": 19,
   "id": "b9f7179a",
   "metadata": {
    "scrolled": true
   },
   "outputs": [],
   "source": [
    "with open('/home/jk21/Downloads/Data/features_test_wav2vec_include_interval_4sec.pickle', 'wb') as f:\n",
    "    pickle.dump(features_test, f, pickle.HIGHEST_PROTOCOL)"
   ]
  },
  {
   "cell_type": "code",
   "execution_count": 18,
   "id": "79f59c5e",
   "metadata": {
    "scrolled": true
   },
   "outputs": [],
   "source": [
    "with open('/home/jk21/Downloads/Data/features_trn_wav2vec_include_interval_4sec.pickle', 'rb') as f:\n",
    "    features_trn = pickle.load(f)"
   ]
  },
  {
   "cell_type": "code",
   "execution_count": 19,
   "id": "dd412feb",
   "metadata": {},
   "outputs": [],
   "source": [
    "with open('/home/jk21/Downloads/Data/features_test_wav2vec_include_interval_4sec.pickle', 'rb') as f:\n",
    "    features_test = pickle.load(f)"
   ]
  },
  {
   "cell_type": "code",
   "execution_count": null,
   "id": "1499b589",
   "metadata": {},
   "outputs": [],
   "source": []
  },
  {
   "cell_type": "code",
   "execution_count": 20,
   "id": "400ceb7b",
   "metadata": {},
   "outputs": [],
   "source": [
    "#################################################"
   ]
  },
  {
   "cell_type": "code",
   "execution_count": 21,
   "id": "ce38e56d",
   "metadata": {},
   "outputs": [],
   "source": [
    "# from skimage.transform import resize\n",
    "# import matplotlib.pyplot as plt"
   ]
  },
  {
   "cell_type": "code",
   "execution_count": 18,
   "id": "48ced533",
   "metadata": {
    "scrolled": true
   },
   "outputs": [],
   "source": [
    "# tmp_wav2 = np.zeros((2532,32,374,1))\n",
    "# for i in range(len(features_trn['wav2'])):\n",
    "#     test_ary=features_trn['wav2'][i]\n",
    "#     res = resize(test_ary, (32,374,1))\n",
    "#     tmp_wav2[i]=res\n",
    "    "
   ]
  },
  {
   "cell_type": "code",
   "execution_count": 19,
   "id": "5c97584d",
   "metadata": {},
   "outputs": [],
   "source": [
    "# features_trn['wav2'] = tmp_wav2"
   ]
  },
  {
   "cell_type": "code",
   "execution_count": 32,
   "id": "0d02ec74",
   "metadata": {},
   "outputs": [
    {
     "data": {
      "text/plain": [
       "<matplotlib.image.AxesImage at 0x7ef9fc2f79d0>"
      ]
     },
     "execution_count": 32,
     "metadata": {},
     "output_type": "execute_result"
    },
    {
     "data": {
      "image/png": "[encoded data removed]",
      "text/plain": [
       "<Figure size 432x288 with 1 Axes>"
      ]
     },
     "metadata": {
      "needs_background": "light"
     },
     "output_type": "display_data"
    }
   ],
   "source": [
    "# plt.imshow(features_trn['wav2'][1])"
   ]
  },
  {
   "cell_type": "code",
   "execution_count": 20,
   "id": "31a6445a",
   "metadata": {},
   "outputs": [],
   "source": [
    "# tmp_wav2 = np.zeros((631,32,374,1))\n",
    "# for i in range(len(features_test['wav2'])):\n",
    "#     test_ary=features_test['wav2'][i]\n",
    "#     res = resize(test_ary, (32,374,1))\n",
    "#     tmp_wav2[i]=res"
   ]
  },
  {
   "cell_type": "code",
   "execution_count": 21,
   "id": "84a44f20",
   "metadata": {},
   "outputs": [],
   "source": [
    "# features_test['wav2'] = tmp_wav2"
   ]
  },
  {
   "cell_type": "code",
   "execution_count": null,
   "id": "0c6ed279",
   "metadata": {},
   "outputs": [],
   "source": [
    "##################################################"
   ]
  },
  {
   "cell_type": "code",
   "execution_count": null,
   "id": "50bc780b",
   "metadata": {},
   "outputs": [],
   "source": []
  },
  {
   "cell_type": "code",
   "execution_count": null,
   "id": "6f410772",
   "metadata": {},
   "outputs": [],
   "source": []
  },
  {
   "cell_type": "code",
   "execution_count": null,
   "id": "b3a0769f",
   "metadata": {},
   "outputs": [],
   "source": []
  },
  {
   "cell_type": "code",
   "execution_count": 20,
   "id": "460de784",
   "metadata": {},
   "outputs": [],
   "source": [
    "mel_input_shape = features_trn['mel1'].shape[1:]"
   ]
  },
  {
   "cell_type": "code",
   "execution_count": 21,
   "id": "5d0291cb",
   "metadata": {},
   "outputs": [
    {
     "data": {
      "text/plain": [
       "(120, 313, 1)"
      ]
     },
     "execution_count": 21,
     "metadata": {},
     "output_type": "execute_result"
    }
   ],
   "source": [
    "mel_input_shape"
   ]
  },
  {
   "cell_type": "code",
   "execution_count": 22,
   "id": "ec06d09a",
   "metadata": {},
   "outputs": [],
   "source": [
    "cqt_input_shape = features_trn['cqt1'].shape[1:]"
   ]
  },
  {
   "cell_type": "code",
   "execution_count": 23,
   "id": "31599947",
   "metadata": {},
   "outputs": [
    {
     "data": {
      "text/plain": [
       "(1, 1, 1)"
      ]
     },
     "execution_count": 23,
     "metadata": {},
     "output_type": "execute_result"
    }
   ],
   "source": [
    "cqt_input_shape"
   ]
  },
  {
   "cell_type": "code",
   "execution_count": 24,
   "id": "861213a4",
   "metadata": {},
   "outputs": [],
   "source": [
    "stft_input_shape = features_trn['stft1'].shape[1:]"
   ]
  },
  {
   "cell_type": "code",
   "execution_count": 25,
   "id": "6e151a70",
   "metadata": {},
   "outputs": [
    {
     "data": {
      "text/plain": [
       "(1, 1, 1)"
      ]
     },
     "execution_count": 25,
     "metadata": {},
     "output_type": "execute_result"
    }
   ],
   "source": [
    "stft_input_shape"
   ]
  },
  {
   "cell_type": "code",
   "execution_count": 26,
   "id": "0b7eb1dd",
   "metadata": {},
   "outputs": [],
   "source": [
    "interval_input_shape= features_trn['interval'].shape[1:]"
   ]
  },
  {
   "cell_type": "code",
   "execution_count": 27,
   "id": "6c31f94d",
   "metadata": {
    "scrolled": true
   },
   "outputs": [
    {
     "data": {
      "text/plain": [
       "(192, 1)"
      ]
     },
     "execution_count": 27,
     "metadata": {},
     "output_type": "execute_result"
    }
   ],
   "source": [
    "interval_input_shape"
   ]
  },
  {
   "cell_type": "code",
   "execution_count": 28,
   "id": "c26d851e",
   "metadata": {},
   "outputs": [],
   "source": [
    "wav2_input_shape= features_trn['wav2'].shape[1:]"
   ]
  },
  {
   "cell_type": "code",
   "execution_count": 29,
   "id": "7553a46c",
   "metadata": {},
   "outputs": [
    {
     "data": {
      "text/plain": [
       "(32, 768)"
      ]
     },
     "execution_count": 29,
     "metadata": {},
     "output_type": "execute_result"
    }
   ],
   "source": [
    "wav2_input_shape"
   ]
  },
  {
   "cell_type": "code",
   "execution_count": 30,
   "id": "a33c0cd3",
   "metadata": {},
   "outputs": [],
   "source": [
    "raw1_input_shape= features_trn['raw1'].shape[1:]"
   ]
  },
  {
   "cell_type": "code",
   "execution_count": 31,
   "id": "b517f71c",
   "metadata": {},
   "outputs": [
    {
     "data": {
      "text/plain": [
       "(246000,)"
      ]
     },
     "execution_count": 31,
     "metadata": {},
     "output_type": "execute_result"
    }
   ],
   "source": [
    "raw1_input_shape"
   ]
  },
  {
   "cell_type": "code",
   "execution_count": null,
   "id": "80a57394",
   "metadata": {},
   "outputs": [],
   "source": []
  },
  {
   "cell_type": "code",
   "execution_count": null,
   "id": "546b6c94",
   "metadata": {},
   "outputs": [],
   "source": []
  },
  {
   "cell_type": "code",
   "execution_count": null,
   "id": "06ab42fc",
   "metadata": {},
   "outputs": [],
   "source": []
  },
  {
   "cell_type": "code",
   "execution_count": 32,
   "id": "5ffbed82",
   "metadata": {
    "scrolled": true
   },
   "outputs": [],
   "source": [
    "model1 = get_LCNN_o_4_dr_2(mel_input_shape, cqt_input_shape, stft_input_shape,interval_input_shape,wav2_input_shape,raw1_input_shape,use_mel = use_mel, use_raw=use_raw,use_wav2=use_wav2, ord1 = ord1,dp = dp, fc = fc, ext = ext)"
   ]
  },
  {
   "cell_type": "code",
   "execution_count": 33,
   "id": "9ccc8685",
   "metadata": {},
   "outputs": [],
   "source": [
    "\n",
    "model2 = get_LCNN_o_4_dr_2(mel_input_shape, cqt_input_shape, stft_input_shape,interval_input_shape,wav2_input_shape,raw1_input_shape,use_mel = use_mel, use_raw=use_raw,use_wav2=use_wav2, ord1 = ord1,dp = dp, fc = fc, ext = ext)\n"
   ]
  },
  {
   "cell_type": "code",
   "execution_count": 34,
   "id": "4e462fa8",
   "metadata": {},
   "outputs": [
    {
     "name": "stdout",
     "output_type": "stream",
     "text": [
      "Model: \"model_1\"\n",
      "__________________________________________________________________________________________________\n",
      " Layer (type)                   Output Shape         Param #     Connected to                     \n",
      "==================================================================================================\n",
      " raw1 (InputLayer)              [(None, 246000)]     0           []                               \n",
      "                                                                                                  \n",
      " reshape (Reshape)              (None, 300, 820)     0           ['raw1[0][0]']                   \n",
      "                                                                                                  \n",
      " conv1d_20 (Conv1D)             (None, 300, 9)       22149       ['reshape[0][0]']                \n",
      "                                                                                                  \n",
      " conv1d_21 (Conv1D)             (None, 300, 9)       22149       ['reshape[0][0]']                \n",
      "                                                                                                  \n",
      " maximum_10 (Maximum)           (None, 300, 9)       0           ['conv1d_20[0][0]',              \n",
      "                                                                  'conv1d_21[0][0]']              \n",
      "                                                                                                  \n",
      " max_pooling1d_10 (MaxPooling1D  (None, 299, 9)      0           ['maximum_10[0][0]']             \n",
      " )                                                                                                \n",
      "                                                                                                  \n",
      " conv1d_22 (Conv1D)             (None, 299, 9)       171         ['max_pooling1d_10[0][0]']       \n",
      "                                                                                                  \n",
      " conv1d_23 (Conv1D)             (None, 299, 9)       171         ['max_pooling1d_10[0][0]']       \n",
      "                                                                                                  \n",
      " maximum_11 (Maximum)           (None, 299, 9)       0           ['conv1d_22[0][0]',              \n",
      "                                                                  'conv1d_23[0][0]']              \n",
      "                                                                                                  \n",
      " max_pooling1d_11 (MaxPooling1D  (None, 298, 9)      0           ['maximum_11[0][0]']             \n",
      " )                                                                                                \n",
      "                                                                                                  \n",
      " conv1d_24 (Conv1D)             (None, 298, 9)       171         ['max_pooling1d_11[0][0]']       \n",
      "                                                                                                  \n",
      " conv1d_25 (Conv1D)             (None, 298, 9)       171         ['max_pooling1d_11[0][0]']       \n",
      "                                                                                                  \n",
      " maximum_12 (Maximum)           (None, 298, 9)       0           ['conv1d_24[0][0]',              \n",
      "                                                                  'conv1d_25[0][0]']              \n",
      "                                                                                                  \n",
      " max_pooling1d_12 (MaxPooling1D  (None, 297, 9)      0           ['maximum_12[0][0]']             \n",
      " )                                                                                                \n",
      "                                                                                                  \n",
      " conv1d_26 (Conv1D)             (None, 297, 9)       171         ['max_pooling1d_12[0][0]']       \n",
      "                                                                                                  \n",
      " conv1d_27 (Conv1D)             (None, 297, 9)       171         ['max_pooling1d_12[0][0]']       \n",
      "                                                                                                  \n",
      " maximum_13 (Maximum)           (None, 297, 9)       0           ['conv1d_26[0][0]',              \n",
      "                                                                  'conv1d_27[0][0]']              \n",
      "                                                                                                  \n",
      " max_pooling1d_13 (MaxPooling1D  (None, 296, 9)      0           ['maximum_13[0][0]']             \n",
      " )                                                                                                \n",
      "                                                                                                  \n",
      " conv1d_28 (Conv1D)             (None, 296, 9)       171         ['max_pooling1d_13[0][0]']       \n",
      "                                                                                                  \n",
      " conv1d_29 (Conv1D)             (None, 296, 9)       171         ['max_pooling1d_13[0][0]']       \n",
      "                                                                                                  \n",
      " maximum_14 (Maximum)           (None, 296, 9)       0           ['conv1d_28[0][0]',              \n",
      "                                                                  'conv1d_29[0][0]']              \n",
      "                                                                                                  \n",
      " max_pooling1d_14 (MaxPooling1D  (None, 295, 9)      0           ['maximum_14[0][0]']             \n",
      " )                                                                                                \n",
      "                                                                                                  \n",
      " conv1d_30 (Conv1D)             (None, 295, 9)       171         ['max_pooling1d_14[0][0]']       \n",
      "                                                                                                  \n",
      " conv1d_31 (Conv1D)             (None, 295, 9)       171         ['max_pooling1d_14[0][0]']       \n",
      "                                                                                                  \n",
      " maximum_15 (Maximum)           (None, 295, 9)       0           ['conv1d_30[0][0]',              \n",
      "                                                                  'conv1d_31[0][0]']              \n",
      "                                                                                                  \n",
      " max_pooling1d_15 (MaxPooling1D  (None, 294, 9)      0           ['maximum_15[0][0]']             \n",
      " )                                                                                                \n",
      "                                                                                                  \n",
      " conv1d_32 (Conv1D)             (None, 294, 9)       171         ['max_pooling1d_15[0][0]']       \n",
      "                                                                                                  \n",
      " conv1d_33 (Conv1D)             (None, 294, 9)       171         ['max_pooling1d_15[0][0]']       \n",
      "                                                                                                  \n",
      " maximum_16 (Maximum)           (None, 294, 9)       0           ['conv1d_32[0][0]',              \n",
      "                                                                  'conv1d_33[0][0]']              \n",
      "                                                                                                  \n",
      " max_pooling1d_16 (MaxPooling1D  (None, 293, 9)      0           ['maximum_16[0][0]']             \n",
      " )                                                                                                \n",
      "                                                                                                  \n",
      " conv1d_34 (Conv1D)             (None, 293, 9)       171         ['max_pooling1d_16[0][0]']       \n",
      "                                                                                                  \n",
      " conv1d_35 (Conv1D)             (None, 293, 9)       171         ['max_pooling1d_16[0][0]']       \n",
      "                                                                                                  \n",
      " maximum_17 (Maximum)           (None, 293, 9)       0           ['conv1d_34[0][0]',              \n",
      "                                                                  'conv1d_35[0][0]']              \n"
     ]
    },
    {
     "name": "stdout",
     "output_type": "stream",
     "text": [
      "                                                                                                  \n",
      " max_pooling1d_17 (MaxPooling1D  (None, 292, 9)      0           ['maximum_17[0][0]']             \n",
      " )                                                                                                \n",
      "                                                                                                  \n",
      " conv1d_36 (Conv1D)             (None, 292, 9)       171         ['max_pooling1d_17[0][0]']       \n",
      "                                                                                                  \n",
      " conv1d_37 (Conv1D)             (None, 292, 9)       171         ['max_pooling1d_17[0][0]']       \n",
      "                                                                                                  \n",
      " maximum_18 (Maximum)           (None, 292, 9)       0           ['conv1d_36[0][0]',              \n",
      "                                                                  'conv1d_37[0][0]']              \n",
      "                                                                                                  \n",
      " max_pooling1d_18 (MaxPooling1D  (None, 291, 9)      0           ['maximum_18[0][0]']             \n",
      " )                                                                                                \n",
      "                                                                                                  \n",
      " conv1d_38 (Conv1D)             (None, 291, 9)       171         ['max_pooling1d_18[0][0]']       \n",
      "                                                                                                  \n",
      " conv1d_39 (Conv1D)             (None, 291, 9)       171         ['max_pooling1d_18[0][0]']       \n",
      "                                                                                                  \n",
      " maximum_19 (Maximum)           (None, 291, 9)       0           ['conv1d_38[0][0]',              \n",
      "                                                                  'conv1d_39[0][0]']              \n",
      "                                                                                                  \n",
      " interval (InputLayer)          [(None, 192, 1)]     0           []                               \n",
      "                                                                                                  \n",
      " max_pooling1d_19 (MaxPooling1D  (None, 290, 9)      0           ['maximum_19[0][0]']             \n",
      " )                                                                                                \n",
      "                                                                                                  \n",
      " conv1d (Conv1D)                (None, 192, 9)       36          ['interval[0][0]']               \n",
      "                                                                                                  \n",
      " conv1d_1 (Conv1D)              (None, 192, 9)       36          ['interval[0][0]']               \n",
      "                                                                                                  \n",
      " conv1d_40 (Conv1D)             (None, 290, 9)       252         ['max_pooling1d_19[0][0]']       \n",
      "                                                                                                  \n",
      " conv1d_41 (Conv1D)             (None, 290, 9)       252         ['max_pooling1d_19[0][0]']       \n",
      "                                                                                                  \n",
      " maximum (Maximum)              (None, 192, 9)       0           ['conv1d[0][0]',                 \n",
      "                                                                  'conv1d_1[0][0]']               \n",
      "                                                                                                  \n",
      " maximum_20 (Maximum)           (None, 290, 9)       0           ['conv1d_40[0][0]',              \n",
      "                                                                  'conv1d_41[0][0]']              \n",
      "                                                                                                  \n",
      " max_pooling1d (MaxPooling1D)   (None, 191, 9)       0           ['maximum[0][0]']                \n",
      "                                                                                                  \n",
      " max_pooling1d_20 (MaxPooling1D  (None, 289, 9)      0           ['maximum_20[0][0]']             \n",
      " )                                                                                                \n",
      "                                                                                                  \n",
      " mel (InputLayer)               [(None, 120, 313, 1  0           []                               \n",
      "                                )]                                                                \n",
      "                                                                                                  \n",
      " conv1d_2 (Conv1D)              (None, 191, 9)       171         ['max_pooling1d[0][0]']          \n",
      "                                                                                                  \n",
      " conv1d_3 (Conv1D)              (None, 191, 9)       171         ['max_pooling1d[0][0]']          \n",
      "                                                                                                  \n",
      " conv1d_42 (Conv1D)             (None, 289, 9)       171         ['max_pooling1d_20[0][0]']       \n",
      "                                                                                                  \n",
      " conv1d_43 (Conv1D)             (None, 289, 9)       171         ['max_pooling1d_20[0][0]']       \n",
      "                                                                                                  \n",
      " conv2d (Conv2D)                (None, 120, 313, 32  832         ['mel[0][0]']                    \n",
      "                                )                                                                 \n",
      "                                                                                                  \n",
      " conv2d_1 (Conv2D)              (None, 120, 313, 32  832         ['mel[0][0]']                    \n",
      "                                )                                                                 \n",
      "                                                                                                  \n",
      " maximum_1 (Maximum)            (None, 191, 9)       0           ['conv1d_2[0][0]',               \n",
      "                                                                  'conv1d_3[0][0]']               \n",
      "                                                                                                  \n",
      " maximum_21 (Maximum)           (None, 289, 9)       0           ['conv1d_42[0][0]',              \n",
      "                                                                  'conv1d_43[0][0]']              \n",
      "                                                                                                  \n",
      " maximum_30 (Maximum)           (None, 120, 313, 32  0           ['conv2d[0][0]',                 \n",
      "                                )                                 'conv2d_1[0][0]']               \n",
      "                                                                                                  \n",
      " max_pooling1d_1 (MaxPooling1D)  (None, 190, 9)      0           ['maximum_1[0][0]']              \n",
      "                                                                                                  \n",
      " max_pooling1d_21 (MaxPooling1D  (None, 288, 9)      0           ['maximum_21[0][0]']             \n",
      " )                                                                                                \n",
      "                                                                                                  \n",
      " max_pooling2d (MaxPooling2D)   (None, 60, 157, 32)  0           ['maximum_30[0][0]']             \n",
      "                                                                                                  \n",
      " conv1d_4 (Conv1D)              (None, 190, 9)       171         ['max_pooling1d_1[0][0]']        \n",
      "                                                                                                  \n",
      " conv1d_5 (Conv1D)              (None, 190, 9)       171         ['max_pooling1d_1[0][0]']        \n",
      "                                                                                                  \n",
      " conv1d_44 (Conv1D)             (None, 288, 9)       171         ['max_pooling1d_21[0][0]']       \n"
     ]
    },
    {
     "name": "stdout",
     "output_type": "stream",
     "text": [
      "                                                                                                  \n",
      " conv1d_45 (Conv1D)             (None, 288, 9)       171         ['max_pooling1d_21[0][0]']       \n",
      "                                                                                                  \n",
      " conv2d_2 (Conv2D)              (None, 60, 157, 32)  1056        ['max_pooling2d[0][0]']          \n",
      "                                                                                                  \n",
      " conv2d_3 (Conv2D)              (None, 60, 157, 32)  1056        ['max_pooling2d[0][0]']          \n",
      "                                                                                                  \n",
      " maximum_2 (Maximum)            (None, 190, 9)       0           ['conv1d_4[0][0]',               \n",
      "                                                                  'conv1d_5[0][0]']               \n",
      "                                                                                                  \n",
      " maximum_22 (Maximum)           (None, 288, 9)       0           ['conv1d_44[0][0]',              \n",
      "                                                                  'conv1d_45[0][0]']              \n",
      "                                                                                                  \n",
      " maximum_31 (Maximum)           (None, 60, 157, 32)  0           ['conv2d_2[0][0]',               \n",
      "                                                                  'conv2d_3[0][0]']               \n",
      "                                                                                                  \n",
      " max_pooling1d_2 (MaxPooling1D)  (None, 189, 9)      0           ['maximum_2[0][0]']              \n",
      "                                                                                                  \n",
      " max_pooling1d_22 (MaxPooling1D  (None, 287, 9)      0           ['maximum_22[0][0]']             \n",
      " )                                                                                                \n",
      "                                                                                                  \n",
      " batch_normalization (BatchNorm  (None, 60, 157, 32)  96         ['maximum_31[0][0]']             \n",
      " alization)                                                                                       \n",
      "                                                                                                  \n",
      " conv1d_6 (Conv1D)              (None, 189, 9)       171         ['max_pooling1d_2[0][0]']        \n",
      "                                                                                                  \n",
      " conv1d_7 (Conv1D)              (None, 189, 9)       171         ['max_pooling1d_2[0][0]']        \n",
      "                                                                                                  \n",
      " conv1d_46 (Conv1D)             (None, 287, 9)       171         ['max_pooling1d_22[0][0]']       \n",
      "                                                                                                  \n",
      " conv1d_47 (Conv1D)             (None, 287, 9)       171         ['max_pooling1d_22[0][0]']       \n",
      "                                                                                                  \n",
      " conv2d_4 (Conv2D)              (None, 60, 157, 48)  13872       ['batch_normalization[0][0]']    \n",
      "                                                                                                  \n",
      " conv2d_5 (Conv2D)              (None, 60, 157, 48)  13872       ['batch_normalization[0][0]']    \n",
      "                                                                                                  \n",
      " maximum_3 (Maximum)            (None, 189, 9)       0           ['conv1d_6[0][0]',               \n",
      "                                                                  'conv1d_7[0][0]']               \n",
      "                                                                                                  \n",
      " maximum_23 (Maximum)           (None, 287, 9)       0           ['conv1d_46[0][0]',              \n",
      "                                                                  'conv1d_47[0][0]']              \n",
      "                                                                                                  \n",
      " maximum_32 (Maximum)           (None, 60, 157, 48)  0           ['conv2d_4[0][0]',               \n",
      "                                                                  'conv2d_5[0][0]']               \n",
      "                                                                                                  \n",
      " max_pooling1d_3 (MaxPooling1D)  (None, 188, 9)      0           ['maximum_3[0][0]']              \n",
      "                                                                                                  \n",
      " max_pooling1d_23 (MaxPooling1D  (None, 286, 9)      0           ['maximum_23[0][0]']             \n",
      " )                                                                                                \n",
      "                                                                                                  \n",
      " max_pooling2d_1 (MaxPooling2D)  (None, 30, 79, 48)  0           ['maximum_32[0][0]']             \n",
      "                                                                                                  \n",
      " conv1d_8 (Conv1D)              (None, 188, 9)       171         ['max_pooling1d_3[0][0]']        \n",
      "                                                                                                  \n",
      " conv1d_48 (Conv1D)             (None, 286, 9)       171         ['max_pooling1d_23[0][0]']       \n",
      "                                                                                                  \n",
      " conv1d_49 (Conv1D)             (None, 286, 9)       171         ['max_pooling1d_23[0][0]']       \n",
      "                                                                                                  \n",
      " batch_normalization_1 (BatchNo  (None, 30, 79, 48)  144         ['max_pooling2d_1[0][0]']        \n",
      " rmalization)                                                                                     \n",
      "                                                                                                  \n",
      " maximum_4 (Maximum)            (None, 188, 9)       0           ['conv1d_8[0][0]',               \n",
      "                                                                  'conv1d_8[0][0]']               \n",
      "                                                                                                  \n",
      " maximum_24 (Maximum)           (None, 286, 9)       0           ['conv1d_48[0][0]',              \n",
      "                                                                  'conv1d_49[0][0]']              \n",
      "                                                                                                  \n",
      " conv2d_6 (Conv2D)              (None, 30, 79, 48)   2352        ['batch_normalization_1[0][0]']  \n",
      "                                                                                                  \n",
      " conv2d_7 (Conv2D)              (None, 30, 79, 48)   2352        ['batch_normalization_1[0][0]']  \n",
      "                                                                                                  \n",
      " max_pooling1d_4 (MaxPooling1D)  (None, 187, 9)      0           ['maximum_4[0][0]']              \n",
      "                                                                                                  \n",
      " max_pooling1d_24 (MaxPooling1D  (None, 285, 9)      0           ['maximum_24[0][0]']             \n",
      " )                                                                                                \n",
      "                                                                                                  \n",
      " maximum_33 (Maximum)           (None, 30, 79, 48)   0           ['conv2d_6[0][0]',               \n",
      "                                                                  'conv2d_7[0][0]']               \n",
      "                                                                                                  \n",
      " conv1d_10 (Conv1D)             (None, 187, 9)       171         ['max_pooling1d_4[0][0]']        \n",
      "                                                                                                  \n",
      " conv1d_11 (Conv1D)             (None, 187, 9)       171         ['max_pooling1d_4[0][0]']        \n",
      "                                                                                                  \n"
     ]
    },
    {
     "name": "stdout",
     "output_type": "stream",
     "text": [
      " conv1d_50 (Conv1D)             (None, 285, 64)      1216        ['max_pooling1d_24[0][0]']       \n",
      "                                                                                                  \n",
      " conv1d_51 (Conv1D)             (None, 285, 64)      1216        ['max_pooling1d_24[0][0]']       \n",
      "                                                                                                  \n",
      " batch_normalization_2 (BatchNo  (None, 30, 79, 48)  144         ['maximum_33[0][0]']             \n",
      " rmalization)                                                                                     \n",
      "                                                                                                  \n",
      " maximum_5 (Maximum)            (None, 187, 9)       0           ['conv1d_10[0][0]',              \n",
      "                                                                  'conv1d_11[0][0]']              \n",
      "                                                                                                  \n",
      " maximum_25 (Maximum)           (None, 285, 64)      0           ['conv1d_50[0][0]',              \n",
      "                                                                  'conv1d_51[0][0]']              \n",
      "                                                                                                  \n",
      " conv2d_8 (Conv2D)              (None, 30, 79, 64)   27712       ['batch_normalization_2[0][0]']  \n",
      "                                                                                                  \n",
      " conv2d_9 (Conv2D)              (None, 30, 79, 64)   27712       ['batch_normalization_2[0][0]']  \n",
      "                                                                                                  \n",
      " max_pooling1d_5 (MaxPooling1D)  (None, 186, 9)      0           ['maximum_5[0][0]']              \n",
      "                                                                                                  \n",
      " max_pooling1d_25 (MaxPooling1D  (None, 284, 64)     0           ['maximum_25[0][0]']             \n",
      " )                                                                                                \n",
      "                                                                                                  \n",
      " maximum_34 (Maximum)           (None, 30, 79, 64)   0           ['conv2d_8[0][0]',               \n",
      "                                                                  'conv2d_9[0][0]']               \n",
      "                                                                                                  \n",
      " conv1d_12 (Conv1D)             (None, 186, 9)       171         ['max_pooling1d_5[0][0]']        \n",
      "                                                                                                  \n",
      " conv1d_13 (Conv1D)             (None, 186, 9)       171         ['max_pooling1d_5[0][0]']        \n",
      "                                                                                                  \n",
      " conv1d_52 (Conv1D)             (None, 284, 9)       1161        ['max_pooling1d_25[0][0]']       \n",
      "                                                                                                  \n",
      " conv1d_53 (Conv1D)             (None, 284, 9)       1161        ['max_pooling1d_25[0][0]']       \n",
      "                                                                                                  \n",
      " max_pooling2d_2 (MaxPooling2D)  (None, 15, 40, 64)  0           ['maximum_34[0][0]']             \n",
      "                                                                                                  \n",
      " maximum_6 (Maximum)            (None, 186, 9)       0           ['conv1d_12[0][0]',              \n",
      "                                                                  'conv1d_13[0][0]']              \n",
      "                                                                                                  \n",
      " maximum_26 (Maximum)           (None, 284, 9)       0           ['conv1d_52[0][0]',              \n",
      "                                                                  'conv1d_53[0][0]']              \n",
      "                                                                                                  \n",
      " conv2d_10 (Conv2D)             (None, 15, 40, 64)   4160        ['max_pooling2d_2[0][0]']        \n",
      "                                                                                                  \n",
      " conv2d_11 (Conv2D)             (None, 15, 40, 64)   4160        ['max_pooling2d_2[0][0]']        \n",
      "                                                                                                  \n",
      " max_pooling1d_6 (MaxPooling1D)  (None, 185, 9)      0           ['maximum_6[0][0]']              \n",
      "                                                                                                  \n",
      " max_pooling1d_26 (MaxPooling1D  (None, 283, 9)      0           ['maximum_26[0][0]']             \n",
      " )                                                                                                \n",
      "                                                                                                  \n",
      " maximum_35 (Maximum)           (None, 15, 40, 64)   0           ['conv2d_10[0][0]',              \n",
      "                                                                  'conv2d_11[0][0]']              \n",
      "                                                                                                  \n",
      " conv1d_14 (Conv1D)             (None, 185, 9)       171         ['max_pooling1d_6[0][0]']        \n",
      "                                                                                                  \n",
      " conv1d_15 (Conv1D)             (None, 185, 9)       171         ['max_pooling1d_6[0][0]']        \n",
      "                                                                                                  \n",
      " conv1d_54 (Conv1D)             (None, 283, 9)       171         ['max_pooling1d_26[0][0]']       \n",
      "                                                                                                  \n",
      " conv1d_55 (Conv1D)             (None, 283, 9)       171         ['max_pooling1d_26[0][0]']       \n",
      "                                                                                                  \n",
      " batch_normalization_3 (BatchNo  (None, 15, 40, 64)  192         ['maximum_35[0][0]']             \n",
      " rmalization)                                                                                     \n",
      "                                                                                                  \n",
      " maximum_7 (Maximum)            (None, 185, 9)       0           ['conv1d_14[0][0]',              \n",
      "                                                                  'conv1d_15[0][0]']              \n",
      "                                                                                                  \n",
      " maximum_27 (Maximum)           (None, 283, 9)       0           ['conv1d_54[0][0]',              \n",
      "                                                                  'conv1d_55[0][0]']              \n",
      "                                                                                                  \n",
      " conv2d_12 (Conv2D)             (None, 15, 40, 32)   18464       ['batch_normalization_3[0][0]']  \n",
      "                                                                                                  \n",
      " conv2d_13 (Conv2D)             (None, 15, 40, 32)   18464       ['batch_normalization_3[0][0]']  \n",
      "                                                                                                  \n",
      " max_pooling1d_7 (MaxPooling1D)  (None, 184, 9)      0           ['maximum_7[0][0]']              \n",
      "                                                                                                  \n",
      " max_pooling1d_27 (MaxPooling1D  (None, 282, 9)      0           ['maximum_27[0][0]']             \n",
      " )                                                                                                \n",
      "                                                                                                  \n",
      " maximum_36 (Maximum)           (None, 15, 40, 32)   0           ['conv2d_12[0][0]',              \n",
      "                                                                  'conv2d_13[0][0]']              \n",
      "                                                                                                  \n",
      " conv1d_16 (Conv1D)             (None, 184, 9)       171         ['max_pooling1d_7[0][0]']        \n"
     ]
    },
    {
     "name": "stdout",
     "output_type": "stream",
     "text": [
      "                                                                                                  \n",
      " conv1d_17 (Conv1D)             (None, 184, 9)       171         ['max_pooling1d_7[0][0]']        \n",
      "                                                                                                  \n",
      " conv1d_56 (Conv1D)             (None, 282, 9)       171         ['max_pooling1d_27[0][0]']       \n",
      "                                                                                                  \n",
      " conv1d_57 (Conv1D)             (None, 282, 9)       171         ['max_pooling1d_27[0][0]']       \n",
      "                                                                                                  \n",
      " batch_normalization_4 (BatchNo  (None, 15, 40, 32)  96          ['maximum_36[0][0]']             \n",
      " rmalization)                                                                                     \n",
      "                                                                                                  \n",
      " maximum_8 (Maximum)            (None, 184, 9)       0           ['conv1d_16[0][0]',              \n",
      "                                                                  'conv1d_17[0][0]']              \n",
      "                                                                                                  \n",
      " maximum_28 (Maximum)           (None, 282, 9)       0           ['conv1d_56[0][0]',              \n",
      "                                                                  'conv1d_57[0][0]']              \n",
      "                                                                                                  \n",
      " conv2d_14 (Conv2D)             (None, 15, 40, 32)   1056        ['batch_normalization_4[0][0]']  \n",
      "                                                                                                  \n",
      " conv2d_15 (Conv2D)             (None, 15, 40, 32)   1056        ['batch_normalization_4[0][0]']  \n",
      "                                                                                                  \n",
      " max_pooling1d_8 (MaxPooling1D)  (None, 183, 9)      0           ['maximum_8[0][0]']              \n",
      "                                                                                                  \n",
      " max_pooling1d_28 (MaxPooling1D  (None, 281, 9)      0           ['maximum_28[0][0]']             \n",
      " )                                                                                                \n",
      "                                                                                                  \n",
      " maximum_37 (Maximum)           (None, 15, 40, 32)   0           ['conv2d_14[0][0]',              \n",
      "                                                                  'conv2d_15[0][0]']              \n",
      "                                                                                                  \n",
      " conv1d_18 (Conv1D)             (None, 183, 9)       171         ['max_pooling1d_8[0][0]']        \n",
      "                                                                                                  \n",
      " conv1d_19 (Conv1D)             (None, 183, 9)       171         ['max_pooling1d_8[0][0]']        \n",
      "                                                                                                  \n",
      " conv1d_58 (Conv1D)             (None, 281, 9)       171         ['max_pooling1d_28[0][0]']       \n",
      "                                                                                                  \n",
      " conv1d_59 (Conv1D)             (None, 281, 9)       171         ['max_pooling1d_28[0][0]']       \n",
      "                                                                                                  \n",
      " batch_normalization_5 (BatchNo  (None, 15, 40, 32)  96          ['maximum_37[0][0]']             \n",
      " rmalization)                                                                                     \n",
      "                                                                                                  \n",
      " maximum_9 (Maximum)            (None, 183, 9)       0           ['conv1d_18[0][0]',              \n",
      "                                                                  'conv1d_19[0][0]']              \n",
      "                                                                                                  \n",
      " maximum_29 (Maximum)           (None, 281, 9)       0           ['conv1d_58[0][0]',              \n",
      "                                                                  'conv1d_59[0][0]']              \n",
      "                                                                                                  \n",
      " conv2d_16 (Conv2D)             (None, 15, 40, 32)   1056        ['batch_normalization_5[0][0]']  \n",
      "                                                                                                  \n",
      " conv2d_17 (Conv2D)             (None, 15, 40, 32)   1056        ['batch_normalization_5[0][0]']  \n",
      "                                                                                                  \n",
      " max_pooling1d_9 (MaxPooling1D)  (None, 182, 9)      0           ['maximum_9[0][0]']              \n",
      "                                                                                                  \n",
      " max_pooling1d_29 (MaxPooling1D  (None, 280, 9)      0           ['maximum_29[0][0]']             \n",
      " )                                                                                                \n",
      "                                                                                                  \n",
      " maximum_38 (Maximum)           (None, 15, 40, 32)   0           ['conv2d_16[0][0]',              \n",
      "                                                                  'conv2d_17[0][0]']              \n",
      "                                                                                                  \n",
      " age_cat (InputLayer)           [(None, 6)]          0           []                               \n",
      "                                                                                                  \n",
      " sex_cat (InputLayer)           [(None, 2)]          0           []                               \n",
      "                                                                                                  \n",
      " height_weight (InputLayer)     [(None, 2)]          0           []                               \n",
      "                                                                                                  \n",
      " loc (InputLayer)               [(None, 5)]          0           []                               \n",
      "                                                                                                  \n",
      " global_average_pooling1d (Glob  (None, 9)           0           ['max_pooling1d_9[0][0]']        \n",
      " alAveragePooling1D)                                                                              \n",
      "                                                                                                  \n",
      " global_average_pooling1d_1 (Gl  (None, 9)           0           ['max_pooling1d_29[0][0]']       \n",
      " obalAveragePooling1D)                                                                            \n",
      "                                                                                                  \n",
      " max_pooling2d_3 (MaxPooling2D)  (None, 7, 20, 32)   0           ['maximum_38[0][0]']             \n",
      "                                                                                                  \n",
      " dense_1 (Dense)                (None, 2)            14          ['age_cat[0][0]']                \n",
      "                                                                                                  \n",
      " dense_2 (Dense)                (None, 1)            3           ['sex_cat[0][0]']                \n",
      "                                                                                                  \n",
      " dense_3 (Dense)                (None, 1)            3           ['height_weight[0][0]']          \n",
      "                                                                                                  \n",
      " dense_4 (Dense)                (None, 3)            18          ['loc[0][0]']                    \n",
      "                                                                                                  \n",
      " is_preg (InputLayer)           [(None, 1)]          0           []                               \n",
      "                                                                                                  \n"
     ]
    },
    {
     "name": "stdout",
     "output_type": "stream",
     "text": [
      " dropout (Dropout)              (None, 9)            0           ['global_average_pooling1d[0][0]'\n",
      "                                                                 ]                                \n",
      "                                                                                                  \n",
      " dropout_1 (Dropout)            (None, 9)            0           ['global_average_pooling1d_1[0][0\n",
      "                                                                 ]']                              \n",
      "                                                                                                  \n",
      " global_average_pooling2d (Glob  (None, 32)          0           ['max_pooling2d_3[0][0]']        \n",
      " alAveragePooling2D)                                                                              \n",
      "                                                                                                  \n",
      " concatenate (Concatenate)      (None, 26)           0           ['dense_1[0][0]',                \n",
      "                                                                  'dense_2[0][0]',                \n",
      "                                                                  'dense_3[0][0]',                \n",
      "                                                                  'dense_4[0][0]',                \n",
      "                                                                  'is_preg[0][0]',                \n",
      "                                                                  'dropout[0][0]',                \n",
      "                                                                  'dropout_1[0][0]']              \n",
      "                                                                                                  \n",
      " dropout_2 (Dropout)            (None, 32)           0           ['global_average_pooling2d[0][0]'\n",
      "                                                                 ]                                \n",
      "                                                                                                  \n",
      " dense_5 (Dense)                (None, 10)           270         ['concatenate[0][0]']            \n",
      "                                                                                                  \n",
      " concatenate_1 (Concatenate)    (None, 42)           0           ['dropout_2[0][0]',              \n",
      "                                                                  'dense_5[0][0]']                \n",
      "                                                                                                  \n",
      " wav2 (InputLayer)              [(None, 32, 768)]    0           []                               \n",
      "                                                                                                  \n",
      " stft (InputLayer)              [(None, 1, 1, 1)]    0           []                               \n",
      "                                                                                                  \n",
      " cqt (InputLayer)               [(None, 1, 1, 1)]    0           []                               \n",
      "                                                                                                  \n",
      " dense_6 (Dense)                (None, 2)            86          ['concatenate_1[0][0]']          \n",
      "                                                                                                  \n",
      "==================================================================================================\n",
      "Total params: 200,289\n",
      "Trainable params: 199,777\n",
      "Non-trainable params: 512\n",
      "__________________________________________________________________________________________________\n"
     ]
    }
   ],
   "source": [
    "model1.summary()"
   ]
  },
  {
   "cell_type": "code",
   "execution_count": 35,
   "id": "8d2279ce",
   "metadata": {
    "scrolled": true
   },
   "outputs": [
    {
     "name": "stdout",
     "output_type": "stream",
     "text": [
      "Model: \"model_2\"\n",
      "__________________________________________________________________________________________________\n",
      " Layer (type)                   Output Shape         Param #     Connected to                     \n",
      "==================================================================================================\n",
      " raw1 (InputLayer)              [(None, 246000)]     0           []                               \n",
      "                                                                                                  \n",
      " reshape_1 (Reshape)            (None, 300, 820)     0           ['raw1[0][0]']                   \n",
      "                                                                                                  \n",
      " conv1d_80 (Conv1D)             (None, 300, 9)       22149       ['reshape_1[0][0]']              \n",
      "                                                                                                  \n",
      " conv1d_81 (Conv1D)             (None, 300, 9)       22149       ['reshape_1[0][0]']              \n",
      "                                                                                                  \n",
      " maximum_49 (Maximum)           (None, 300, 9)       0           ['conv1d_80[0][0]',              \n",
      "                                                                  'conv1d_81[0][0]']              \n",
      "                                                                                                  \n",
      " max_pooling1d_40 (MaxPooling1D  (None, 299, 9)      0           ['maximum_49[0][0]']             \n",
      " )                                                                                                \n",
      "                                                                                                  \n",
      " conv1d_82 (Conv1D)             (None, 299, 9)       171         ['max_pooling1d_40[0][0]']       \n",
      "                                                                                                  \n",
      " conv1d_83 (Conv1D)             (None, 299, 9)       171         ['max_pooling1d_40[0][0]']       \n",
      "                                                                                                  \n",
      " maximum_50 (Maximum)           (None, 299, 9)       0           ['conv1d_82[0][0]',              \n",
      "                                                                  'conv1d_83[0][0]']              \n",
      "                                                                                                  \n",
      " max_pooling1d_41 (MaxPooling1D  (None, 298, 9)      0           ['maximum_50[0][0]']             \n",
      " )                                                                                                \n",
      "                                                                                                  \n",
      " conv1d_84 (Conv1D)             (None, 298, 9)       171         ['max_pooling1d_41[0][0]']       \n",
      "                                                                                                  \n",
      " conv1d_85 (Conv1D)             (None, 298, 9)       171         ['max_pooling1d_41[0][0]']       \n",
      "                                                                                                  \n",
      " maximum_51 (Maximum)           (None, 298, 9)       0           ['conv1d_84[0][0]',              \n",
      "                                                                  'conv1d_85[0][0]']              \n",
      "                                                                                                  \n",
      " max_pooling1d_42 (MaxPooling1D  (None, 297, 9)      0           ['maximum_51[0][0]']             \n",
      " )                                                                                                \n",
      "                                                                                                  \n",
      " conv1d_86 (Conv1D)             (None, 297, 9)       171         ['max_pooling1d_42[0][0]']       \n",
      "                                                                                                  \n",
      " conv1d_87 (Conv1D)             (None, 297, 9)       171         ['max_pooling1d_42[0][0]']       \n",
      "                                                                                                  \n",
      " maximum_52 (Maximum)           (None, 297, 9)       0           ['conv1d_86[0][0]',              \n",
      "                                                                  'conv1d_87[0][0]']              \n",
      "                                                                                                  \n",
      " max_pooling1d_43 (MaxPooling1D  (None, 296, 9)      0           ['maximum_52[0][0]']             \n",
      " )                                                                                                \n",
      "                                                                                                  \n",
      " conv1d_88 (Conv1D)             (None, 296, 9)       171         ['max_pooling1d_43[0][0]']       \n",
      "                                                                                                  \n",
      " conv1d_89 (Conv1D)             (None, 296, 9)       171         ['max_pooling1d_43[0][0]']       \n",
      "                                                                                                  \n",
      " maximum_53 (Maximum)           (None, 296, 9)       0           ['conv1d_88[0][0]',              \n",
      "                                                                  'conv1d_89[0][0]']              \n",
      "                                                                                                  \n",
      " max_pooling1d_44 (MaxPooling1D  (None, 295, 9)      0           ['maximum_53[0][0]']             \n",
      " )                                                                                                \n",
      "                                                                                                  \n",
      " conv1d_90 (Conv1D)             (None, 295, 9)       171         ['max_pooling1d_44[0][0]']       \n",
      "                                                                                                  \n",
      " conv1d_91 (Conv1D)             (None, 295, 9)       171         ['max_pooling1d_44[0][0]']       \n",
      "                                                                                                  \n",
      " maximum_54 (Maximum)           (None, 295, 9)       0           ['conv1d_90[0][0]',              \n",
      "                                                                  'conv1d_91[0][0]']              \n",
      "                                                                                                  \n",
      " max_pooling1d_45 (MaxPooling1D  (None, 294, 9)      0           ['maximum_54[0][0]']             \n",
      " )                                                                                                \n",
      "                                                                                                  \n",
      " conv1d_92 (Conv1D)             (None, 294, 9)       171         ['max_pooling1d_45[0][0]']       \n",
      "                                                                                                  \n",
      " conv1d_93 (Conv1D)             (None, 294, 9)       171         ['max_pooling1d_45[0][0]']       \n",
      "                                                                                                  \n",
      " maximum_55 (Maximum)           (None, 294, 9)       0           ['conv1d_92[0][0]',              \n",
      "                                                                  'conv1d_93[0][0]']              \n",
      "                                                                                                  \n",
      " max_pooling1d_46 (MaxPooling1D  (None, 293, 9)      0           ['maximum_55[0][0]']             \n",
      " )                                                                                                \n",
      "                                                                                                  \n",
      " conv1d_94 (Conv1D)             (None, 293, 9)       171         ['max_pooling1d_46[0][0]']       \n",
      "                                                                                                  \n",
      " conv1d_95 (Conv1D)             (None, 293, 9)       171         ['max_pooling1d_46[0][0]']       \n",
      "                                                                                                  \n",
      " maximum_56 (Maximum)           (None, 293, 9)       0           ['conv1d_94[0][0]',              \n",
      "                                                                  'conv1d_95[0][0]']              \n"
     ]
    },
    {
     "name": "stdout",
     "output_type": "stream",
     "text": [
      "                                                                                                  \n",
      " max_pooling1d_47 (MaxPooling1D  (None, 292, 9)      0           ['maximum_56[0][0]']             \n",
      " )                                                                                                \n",
      "                                                                                                  \n",
      " conv1d_96 (Conv1D)             (None, 292, 9)       171         ['max_pooling1d_47[0][0]']       \n",
      "                                                                                                  \n",
      " conv1d_97 (Conv1D)             (None, 292, 9)       171         ['max_pooling1d_47[0][0]']       \n",
      "                                                                                                  \n",
      " maximum_57 (Maximum)           (None, 292, 9)       0           ['conv1d_96[0][0]',              \n",
      "                                                                  'conv1d_97[0][0]']              \n",
      "                                                                                                  \n",
      " max_pooling1d_48 (MaxPooling1D  (None, 291, 9)      0           ['maximum_57[0][0]']             \n",
      " )                                                                                                \n",
      "                                                                                                  \n",
      " conv1d_98 (Conv1D)             (None, 291, 9)       171         ['max_pooling1d_48[0][0]']       \n",
      "                                                                                                  \n",
      " conv1d_99 (Conv1D)             (None, 291, 9)       171         ['max_pooling1d_48[0][0]']       \n",
      "                                                                                                  \n",
      " maximum_58 (Maximum)           (None, 291, 9)       0           ['conv1d_98[0][0]',              \n",
      "                                                                  'conv1d_99[0][0]']              \n",
      "                                                                                                  \n",
      " interval (InputLayer)          [(None, 192, 1)]     0           []                               \n",
      "                                                                                                  \n",
      " max_pooling1d_49 (MaxPooling1D  (None, 290, 9)      0           ['maximum_58[0][0]']             \n",
      " )                                                                                                \n",
      "                                                                                                  \n",
      " conv1d_60 (Conv1D)             (None, 192, 9)       36          ['interval[0][0]']               \n",
      "                                                                                                  \n",
      " conv1d_61 (Conv1D)             (None, 192, 9)       36          ['interval[0][0]']               \n",
      "                                                                                                  \n",
      " conv1d_100 (Conv1D)            (None, 290, 9)       252         ['max_pooling1d_49[0][0]']       \n",
      "                                                                                                  \n",
      " conv1d_101 (Conv1D)            (None, 290, 9)       252         ['max_pooling1d_49[0][0]']       \n",
      "                                                                                                  \n",
      " maximum_39 (Maximum)           (None, 192, 9)       0           ['conv1d_60[0][0]',              \n",
      "                                                                  'conv1d_61[0][0]']              \n",
      "                                                                                                  \n",
      " maximum_59 (Maximum)           (None, 290, 9)       0           ['conv1d_100[0][0]',             \n",
      "                                                                  'conv1d_101[0][0]']             \n",
      "                                                                                                  \n",
      " max_pooling1d_30 (MaxPooling1D  (None, 191, 9)      0           ['maximum_39[0][0]']             \n",
      " )                                                                                                \n",
      "                                                                                                  \n",
      " max_pooling1d_50 (MaxPooling1D  (None, 289, 9)      0           ['maximum_59[0][0]']             \n",
      " )                                                                                                \n",
      "                                                                                                  \n",
      " mel (InputLayer)               [(None, 120, 313, 1  0           []                               \n",
      "                                )]                                                                \n",
      "                                                                                                  \n",
      " conv1d_62 (Conv1D)             (None, 191, 9)       171         ['max_pooling1d_30[0][0]']       \n",
      "                                                                                                  \n",
      " conv1d_63 (Conv1D)             (None, 191, 9)       171         ['max_pooling1d_30[0][0]']       \n",
      "                                                                                                  \n",
      " conv1d_102 (Conv1D)            (None, 289, 9)       171         ['max_pooling1d_50[0][0]']       \n",
      "                                                                                                  \n",
      " conv1d_103 (Conv1D)            (None, 289, 9)       171         ['max_pooling1d_50[0][0]']       \n",
      "                                                                                                  \n",
      " conv2d_18 (Conv2D)             (None, 120, 313, 32  832         ['mel[0][0]']                    \n",
      "                                )                                                                 \n",
      "                                                                                                  \n",
      " conv2d_19 (Conv2D)             (None, 120, 313, 32  832         ['mel[0][0]']                    \n",
      "                                )                                                                 \n",
      "                                                                                                  \n",
      " maximum_40 (Maximum)           (None, 191, 9)       0           ['conv1d_62[0][0]',              \n",
      "                                                                  'conv1d_63[0][0]']              \n",
      "                                                                                                  \n",
      " maximum_60 (Maximum)           (None, 289, 9)       0           ['conv1d_102[0][0]',             \n",
      "                                                                  'conv1d_103[0][0]']             \n",
      "                                                                                                  \n",
      " maximum_69 (Maximum)           (None, 120, 313, 32  0           ['conv2d_18[0][0]',              \n",
      "                                )                                 'conv2d_19[0][0]']              \n",
      "                                                                                                  \n",
      " max_pooling1d_31 (MaxPooling1D  (None, 190, 9)      0           ['maximum_40[0][0]']             \n",
      " )                                                                                                \n",
      "                                                                                                  \n",
      " max_pooling1d_51 (MaxPooling1D  (None, 288, 9)      0           ['maximum_60[0][0]']             \n",
      " )                                                                                                \n",
      "                                                                                                  \n",
      " max_pooling2d_4 (MaxPooling2D)  (None, 60, 157, 32)  0          ['maximum_69[0][0]']             \n",
      "                                                                                                  \n",
      " conv1d_64 (Conv1D)             (None, 190, 9)       171         ['max_pooling1d_31[0][0]']       \n",
      "                                                                                                  \n",
      " conv1d_65 (Conv1D)             (None, 190, 9)       171         ['max_pooling1d_31[0][0]']       \n"
     ]
    },
    {
     "name": "stdout",
     "output_type": "stream",
     "text": [
      "                                                                                                  \n",
      " conv1d_104 (Conv1D)            (None, 288, 9)       171         ['max_pooling1d_51[0][0]']       \n",
      "                                                                                                  \n",
      " conv1d_105 (Conv1D)            (None, 288, 9)       171         ['max_pooling1d_51[0][0]']       \n",
      "                                                                                                  \n",
      " conv2d_20 (Conv2D)             (None, 60, 157, 32)  1056        ['max_pooling2d_4[0][0]']        \n",
      "                                                                                                  \n",
      " conv2d_21 (Conv2D)             (None, 60, 157, 32)  1056        ['max_pooling2d_4[0][0]']        \n",
      "                                                                                                  \n",
      " maximum_41 (Maximum)           (None, 190, 9)       0           ['conv1d_64[0][0]',              \n",
      "                                                                  'conv1d_65[0][0]']              \n",
      "                                                                                                  \n",
      " maximum_61 (Maximum)           (None, 288, 9)       0           ['conv1d_104[0][0]',             \n",
      "                                                                  'conv1d_105[0][0]']             \n",
      "                                                                                                  \n",
      " maximum_70 (Maximum)           (None, 60, 157, 32)  0           ['conv2d_20[0][0]',              \n",
      "                                                                  'conv2d_21[0][0]']              \n",
      "                                                                                                  \n",
      " max_pooling1d_32 (MaxPooling1D  (None, 189, 9)      0           ['maximum_41[0][0]']             \n",
      " )                                                                                                \n",
      "                                                                                                  \n",
      " max_pooling1d_52 (MaxPooling1D  (None, 287, 9)      0           ['maximum_61[0][0]']             \n",
      " )                                                                                                \n",
      "                                                                                                  \n",
      " batch_normalization_6 (BatchNo  (None, 60, 157, 32)  96         ['maximum_70[0][0]']             \n",
      " rmalization)                                                                                     \n",
      "                                                                                                  \n",
      " conv1d_66 (Conv1D)             (None, 189, 9)       171         ['max_pooling1d_32[0][0]']       \n",
      "                                                                                                  \n",
      " conv1d_67 (Conv1D)             (None, 189, 9)       171         ['max_pooling1d_32[0][0]']       \n",
      "                                                                                                  \n",
      " conv1d_106 (Conv1D)            (None, 287, 9)       171         ['max_pooling1d_52[0][0]']       \n",
      "                                                                                                  \n",
      " conv1d_107 (Conv1D)            (None, 287, 9)       171         ['max_pooling1d_52[0][0]']       \n",
      "                                                                                                  \n",
      " conv2d_22 (Conv2D)             (None, 60, 157, 48)  13872       ['batch_normalization_6[0][0]']  \n",
      "                                                                                                  \n",
      " conv2d_23 (Conv2D)             (None, 60, 157, 48)  13872       ['batch_normalization_6[0][0]']  \n",
      "                                                                                                  \n",
      " maximum_42 (Maximum)           (None, 189, 9)       0           ['conv1d_66[0][0]',              \n",
      "                                                                  'conv1d_67[0][0]']              \n",
      "                                                                                                  \n",
      " maximum_62 (Maximum)           (None, 287, 9)       0           ['conv1d_106[0][0]',             \n",
      "                                                                  'conv1d_107[0][0]']             \n",
      "                                                                                                  \n",
      " maximum_71 (Maximum)           (None, 60, 157, 48)  0           ['conv2d_22[0][0]',              \n",
      "                                                                  'conv2d_23[0][0]']              \n",
      "                                                                                                  \n",
      " max_pooling1d_33 (MaxPooling1D  (None, 188, 9)      0           ['maximum_42[0][0]']             \n",
      " )                                                                                                \n",
      "                                                                                                  \n",
      " max_pooling1d_53 (MaxPooling1D  (None, 286, 9)      0           ['maximum_62[0][0]']             \n",
      " )                                                                                                \n",
      "                                                                                                  \n",
      " max_pooling2d_5 (MaxPooling2D)  (None, 30, 79, 48)  0           ['maximum_71[0][0]']             \n",
      "                                                                                                  \n",
      " conv1d_68 (Conv1D)             (None, 188, 9)       171         ['max_pooling1d_33[0][0]']       \n",
      "                                                                                                  \n",
      " conv1d_108 (Conv1D)            (None, 286, 9)       171         ['max_pooling1d_53[0][0]']       \n",
      "                                                                                                  \n",
      " conv1d_109 (Conv1D)            (None, 286, 9)       171         ['max_pooling1d_53[0][0]']       \n",
      "                                                                                                  \n",
      " batch_normalization_7 (BatchNo  (None, 30, 79, 48)  144         ['max_pooling2d_5[0][0]']        \n",
      " rmalization)                                                                                     \n",
      "                                                                                                  \n",
      " maximum_43 (Maximum)           (None, 188, 9)       0           ['conv1d_68[0][0]',              \n",
      "                                                                  'conv1d_68[0][0]']              \n",
      "                                                                                                  \n",
      " maximum_63 (Maximum)           (None, 286, 9)       0           ['conv1d_108[0][0]',             \n",
      "                                                                  'conv1d_109[0][0]']             \n",
      "                                                                                                  \n",
      " conv2d_24 (Conv2D)             (None, 30, 79, 48)   2352        ['batch_normalization_7[0][0]']  \n",
      "                                                                                                  \n",
      " conv2d_25 (Conv2D)             (None, 30, 79, 48)   2352        ['batch_normalization_7[0][0]']  \n",
      "                                                                                                  \n",
      " max_pooling1d_34 (MaxPooling1D  (None, 187, 9)      0           ['maximum_43[0][0]']             \n",
      " )                                                                                                \n",
      "                                                                                                  \n",
      " max_pooling1d_54 (MaxPooling1D  (None, 285, 9)      0           ['maximum_63[0][0]']             \n",
      " )                                                                                                \n",
      "                                                                                                  \n",
      " maximum_72 (Maximum)           (None, 30, 79, 48)   0           ['conv2d_24[0][0]',              \n",
      "                                                                  'conv2d_25[0][0]']              \n"
     ]
    },
    {
     "name": "stdout",
     "output_type": "stream",
     "text": [
      "                                                                                                  \n",
      " conv1d_70 (Conv1D)             (None, 187, 9)       171         ['max_pooling1d_34[0][0]']       \n",
      "                                                                                                  \n",
      " conv1d_71 (Conv1D)             (None, 187, 9)       171         ['max_pooling1d_34[0][0]']       \n",
      "                                                                                                  \n",
      " conv1d_110 (Conv1D)            (None, 285, 64)      1216        ['max_pooling1d_54[0][0]']       \n",
      "                                                                                                  \n",
      " conv1d_111 (Conv1D)            (None, 285, 64)      1216        ['max_pooling1d_54[0][0]']       \n",
      "                                                                                                  \n",
      " batch_normalization_8 (BatchNo  (None, 30, 79, 48)  144         ['maximum_72[0][0]']             \n",
      " rmalization)                                                                                     \n",
      "                                                                                                  \n",
      " maximum_44 (Maximum)           (None, 187, 9)       0           ['conv1d_70[0][0]',              \n",
      "                                                                  'conv1d_71[0][0]']              \n",
      "                                                                                                  \n",
      " maximum_64 (Maximum)           (None, 285, 64)      0           ['conv1d_110[0][0]',             \n",
      "                                                                  'conv1d_111[0][0]']             \n",
      "                                                                                                  \n",
      " conv2d_26 (Conv2D)             (None, 30, 79, 64)   27712       ['batch_normalization_8[0][0]']  \n",
      "                                                                                                  \n",
      " conv2d_27 (Conv2D)             (None, 30, 79, 64)   27712       ['batch_normalization_8[0][0]']  \n",
      "                                                                                                  \n",
      " max_pooling1d_35 (MaxPooling1D  (None, 186, 9)      0           ['maximum_44[0][0]']             \n",
      " )                                                                                                \n",
      "                                                                                                  \n",
      " max_pooling1d_55 (MaxPooling1D  (None, 284, 64)     0           ['maximum_64[0][0]']             \n",
      " )                                                                                                \n",
      "                                                                                                  \n",
      " maximum_73 (Maximum)           (None, 30, 79, 64)   0           ['conv2d_26[0][0]',              \n",
      "                                                                  'conv2d_27[0][0]']              \n",
      "                                                                                                  \n",
      " conv1d_72 (Conv1D)             (None, 186, 9)       171         ['max_pooling1d_35[0][0]']       \n",
      "                                                                                                  \n",
      " conv1d_73 (Conv1D)             (None, 186, 9)       171         ['max_pooling1d_35[0][0]']       \n",
      "                                                                                                  \n",
      " conv1d_112 (Conv1D)            (None, 284, 9)       1161        ['max_pooling1d_55[0][0]']       \n",
      "                                                                                                  \n",
      " conv1d_113 (Conv1D)            (None, 284, 9)       1161        ['max_pooling1d_55[0][0]']       \n",
      "                                                                                                  \n",
      " max_pooling2d_6 (MaxPooling2D)  (None, 15, 40, 64)  0           ['maximum_73[0][0]']             \n",
      "                                                                                                  \n",
      " maximum_45 (Maximum)           (None, 186, 9)       0           ['conv1d_72[0][0]',              \n",
      "                                                                  'conv1d_73[0][0]']              \n",
      "                                                                                                  \n",
      " maximum_65 (Maximum)           (None, 284, 9)       0           ['conv1d_112[0][0]',             \n",
      "                                                                  'conv1d_113[0][0]']             \n",
      "                                                                                                  \n",
      " conv2d_28 (Conv2D)             (None, 15, 40, 64)   4160        ['max_pooling2d_6[0][0]']        \n",
      "                                                                                                  \n",
      " conv2d_29 (Conv2D)             (None, 15, 40, 64)   4160        ['max_pooling2d_6[0][0]']        \n",
      "                                                                                                  \n",
      " max_pooling1d_36 (MaxPooling1D  (None, 185, 9)      0           ['maximum_45[0][0]']             \n",
      " )                                                                                                \n",
      "                                                                                                  \n",
      " max_pooling1d_56 (MaxPooling1D  (None, 283, 9)      0           ['maximum_65[0][0]']             \n",
      " )                                                                                                \n",
      "                                                                                                  \n",
      " maximum_74 (Maximum)           (None, 15, 40, 64)   0           ['conv2d_28[0][0]',              \n",
      "                                                                  'conv2d_29[0][0]']              \n",
      "                                                                                                  \n",
      " conv1d_74 (Conv1D)             (None, 185, 9)       171         ['max_pooling1d_36[0][0]']       \n",
      "                                                                                                  \n",
      " conv1d_75 (Conv1D)             (None, 185, 9)       171         ['max_pooling1d_36[0][0]']       \n",
      "                                                                                                  \n",
      " conv1d_114 (Conv1D)            (None, 283, 9)       171         ['max_pooling1d_56[0][0]']       \n",
      "                                                                                                  \n",
      " conv1d_115 (Conv1D)            (None, 283, 9)       171         ['max_pooling1d_56[0][0]']       \n",
      "                                                                                                  \n",
      " batch_normalization_9 (BatchNo  (None, 15, 40, 64)  192         ['maximum_74[0][0]']             \n",
      " rmalization)                                                                                     \n",
      "                                                                                                  \n",
      " maximum_46 (Maximum)           (None, 185, 9)       0           ['conv1d_74[0][0]',              \n",
      "                                                                  'conv1d_75[0][0]']              \n",
      "                                                                                                  \n",
      " maximum_66 (Maximum)           (None, 283, 9)       0           ['conv1d_114[0][0]',             \n",
      "                                                                  'conv1d_115[0][0]']             \n",
      "                                                                                                  \n",
      " conv2d_30 (Conv2D)             (None, 15, 40, 32)   18464       ['batch_normalization_9[0][0]']  \n",
      "                                                                                                  \n",
      " conv2d_31 (Conv2D)             (None, 15, 40, 32)   18464       ['batch_normalization_9[0][0]']  \n",
      "                                                                                                  \n",
      " max_pooling1d_37 (MaxPooling1D  (None, 184, 9)      0           ['maximum_46[0][0]']             \n",
      " )                                                                                                \n"
     ]
    },
    {
     "name": "stdout",
     "output_type": "stream",
     "text": [
      "                                                                                                  \n",
      " max_pooling1d_57 (MaxPooling1D  (None, 282, 9)      0           ['maximum_66[0][0]']             \n",
      " )                                                                                                \n",
      "                                                                                                  \n",
      " maximum_75 (Maximum)           (None, 15, 40, 32)   0           ['conv2d_30[0][0]',              \n",
      "                                                                  'conv2d_31[0][0]']              \n",
      "                                                                                                  \n",
      " conv1d_76 (Conv1D)             (None, 184, 9)       171         ['max_pooling1d_37[0][0]']       \n",
      "                                                                                                  \n",
      " conv1d_77 (Conv1D)             (None, 184, 9)       171         ['max_pooling1d_37[0][0]']       \n",
      "                                                                                                  \n",
      " conv1d_116 (Conv1D)            (None, 282, 9)       171         ['max_pooling1d_57[0][0]']       \n",
      "                                                                                                  \n",
      " conv1d_117 (Conv1D)            (None, 282, 9)       171         ['max_pooling1d_57[0][0]']       \n",
      "                                                                                                  \n",
      " batch_normalization_10 (BatchN  (None, 15, 40, 32)  96          ['maximum_75[0][0]']             \n",
      " ormalization)                                                                                    \n",
      "                                                                                                  \n",
      " maximum_47 (Maximum)           (None, 184, 9)       0           ['conv1d_76[0][0]',              \n",
      "                                                                  'conv1d_77[0][0]']              \n",
      "                                                                                                  \n",
      " maximum_67 (Maximum)           (None, 282, 9)       0           ['conv1d_116[0][0]',             \n",
      "                                                                  'conv1d_117[0][0]']             \n",
      "                                                                                                  \n",
      " conv2d_32 (Conv2D)             (None, 15, 40, 32)   1056        ['batch_normalization_10[0][0]'] \n",
      "                                                                                                  \n",
      " conv2d_33 (Conv2D)             (None, 15, 40, 32)   1056        ['batch_normalization_10[0][0]'] \n",
      "                                                                                                  \n",
      " max_pooling1d_38 (MaxPooling1D  (None, 183, 9)      0           ['maximum_47[0][0]']             \n",
      " )                                                                                                \n",
      "                                                                                                  \n",
      " max_pooling1d_58 (MaxPooling1D  (None, 281, 9)      0           ['maximum_67[0][0]']             \n",
      " )                                                                                                \n",
      "                                                                                                  \n",
      " maximum_76 (Maximum)           (None, 15, 40, 32)   0           ['conv2d_32[0][0]',              \n",
      "                                                                  'conv2d_33[0][0]']              \n",
      "                                                                                                  \n",
      " conv1d_78 (Conv1D)             (None, 183, 9)       171         ['max_pooling1d_38[0][0]']       \n",
      "                                                                                                  \n",
      " conv1d_79 (Conv1D)             (None, 183, 9)       171         ['max_pooling1d_38[0][0]']       \n",
      "                                                                                                  \n",
      " conv1d_118 (Conv1D)            (None, 281, 9)       171         ['max_pooling1d_58[0][0]']       \n",
      "                                                                                                  \n",
      " conv1d_119 (Conv1D)            (None, 281, 9)       171         ['max_pooling1d_58[0][0]']       \n",
      "                                                                                                  \n",
      " batch_normalization_11 (BatchN  (None, 15, 40, 32)  96          ['maximum_76[0][0]']             \n",
      " ormalization)                                                                                    \n",
      "                                                                                                  \n",
      " maximum_48 (Maximum)           (None, 183, 9)       0           ['conv1d_78[0][0]',              \n",
      "                                                                  'conv1d_79[0][0]']              \n",
      "                                                                                                  \n",
      " maximum_68 (Maximum)           (None, 281, 9)       0           ['conv1d_118[0][0]',             \n",
      "                                                                  'conv1d_119[0][0]']             \n",
      "                                                                                                  \n",
      " conv2d_34 (Conv2D)             (None, 15, 40, 32)   1056        ['batch_normalization_11[0][0]'] \n",
      "                                                                                                  \n",
      " conv2d_35 (Conv2D)             (None, 15, 40, 32)   1056        ['batch_normalization_11[0][0]'] \n",
      "                                                                                                  \n",
      " max_pooling1d_39 (MaxPooling1D  (None, 182, 9)      0           ['maximum_48[0][0]']             \n",
      " )                                                                                                \n",
      "                                                                                                  \n",
      " max_pooling1d_59 (MaxPooling1D  (None, 280, 9)      0           ['maximum_68[0][0]']             \n",
      " )                                                                                                \n",
      "                                                                                                  \n",
      " maximum_77 (Maximum)           (None, 15, 40, 32)   0           ['conv2d_34[0][0]',              \n",
      "                                                                  'conv2d_35[0][0]']              \n",
      "                                                                                                  \n",
      " age_cat (InputLayer)           [(None, 6)]          0           []                               \n",
      "                                                                                                  \n",
      " sex_cat (InputLayer)           [(None, 2)]          0           []                               \n",
      "                                                                                                  \n",
      " height_weight (InputLayer)     [(None, 2)]          0           []                               \n",
      "                                                                                                  \n",
      " loc (InputLayer)               [(None, 5)]          0           []                               \n",
      "                                                                                                  \n",
      " global_average_pooling1d_2 (Gl  (None, 9)           0           ['max_pooling1d_39[0][0]']       \n",
      " obalAveragePooling1D)                                                                            \n",
      "                                                                                                  \n",
      " global_average_pooling1d_3 (Gl  (None, 9)           0           ['max_pooling1d_59[0][0]']       \n",
      " obalAveragePooling1D)                                                                            \n",
      "                                                                                                  \n",
      " max_pooling2d_7 (MaxPooling2D)  (None, 7, 20, 32)   0           ['maximum_77[0][0]']             \n",
      "                                                                                                  \n"
     ]
    },
    {
     "name": "stdout",
     "output_type": "stream",
     "text": [
      " dense_7 (Dense)                (None, 2)            14          ['age_cat[0][0]']                \n",
      "                                                                                                  \n",
      " dense_8 (Dense)                (None, 1)            3           ['sex_cat[0][0]']                \n",
      "                                                                                                  \n",
      " dense_9 (Dense)                (None, 1)            3           ['height_weight[0][0]']          \n",
      "                                                                                                  \n",
      " dense_10 (Dense)               (None, 3)            18          ['loc[0][0]']                    \n",
      "                                                                                                  \n",
      " is_preg (InputLayer)           [(None, 1)]          0           []                               \n",
      "                                                                                                  \n",
      " dropout_3 (Dropout)            (None, 9)            0           ['global_average_pooling1d_2[0][0\n",
      "                                                                 ]']                              \n",
      "                                                                                                  \n",
      " dropout_4 (Dropout)            (None, 9)            0           ['global_average_pooling1d_3[0][0\n",
      "                                                                 ]']                              \n",
      "                                                                                                  \n",
      " global_average_pooling2d_1 (Gl  (None, 32)          0           ['max_pooling2d_7[0][0]']        \n",
      " obalAveragePooling2D)                                                                            \n",
      "                                                                                                  \n",
      " concatenate_2 (Concatenate)    (None, 26)           0           ['dense_7[0][0]',                \n",
      "                                                                  'dense_8[0][0]',                \n",
      "                                                                  'dense_9[0][0]',                \n",
      "                                                                  'dense_10[0][0]',               \n",
      "                                                                  'is_preg[0][0]',                \n",
      "                                                                  'dropout_3[0][0]',              \n",
      "                                                                  'dropout_4[0][0]']              \n",
      "                                                                                                  \n",
      " dropout_5 (Dropout)            (None, 32)           0           ['global_average_pooling2d_1[0][0\n",
      "                                                                 ]']                              \n",
      "                                                                                                  \n",
      " dense_11 (Dense)               (None, 10)           270         ['concatenate_2[0][0]']          \n",
      "                                                                                                  \n",
      " concatenate_3 (Concatenate)    (None, 42)           0           ['dropout_5[0][0]',              \n",
      "                                                                  'dense_11[0][0]']               \n",
      "                                                                                                  \n",
      " wav2 (InputLayer)              [(None, 32, 768)]    0           []                               \n",
      "                                                                                                  \n",
      " stft (InputLayer)              [(None, 1, 1, 1)]    0           []                               \n",
      "                                                                                                  \n",
      " cqt (InputLayer)               [(None, 1, 1, 1)]    0           []                               \n",
      "                                                                                                  \n",
      " dense_12 (Dense)               (None, 2)            86          ['concatenate_3[0][0]']          \n",
      "                                                                                                  \n",
      "==================================================================================================\n",
      "Total params: 200,289\n",
      "Trainable params: 199,777\n",
      "Non-trainable params: 512\n",
      "__________________________________________________________________________________________________\n"
     ]
    }
   ],
   "source": [
    "model2.summary()"
   ]
  },
  {
   "cell_type": "code",
   "execution_count": null,
   "id": "ead61ff7",
   "metadata": {},
   "outputs": [],
   "source": []
  },
  {
   "cell_type": "code",
   "execution_count": null,
   "id": "fdc17579",
   "metadata": {},
   "outputs": [],
   "source": []
  },
  {
   "cell_type": "code",
   "execution_count": 36,
   "id": "57a145f2",
   "metadata": {
    "scrolled": true
   },
   "outputs": [
    {
     "name": "stdout",
     "output_type": "stream",
     "text": [
      "Epoch 1/100\n"
     ]
    },
    {
     "name": "stderr",
     "output_type": "stream",
     "text": [
      "2022-08-11 18:44:20.848541: I tensorflow/stream_executor/cuda/cuda_dnn.cc:368] Loaded cuDNN version 8101\n"
     ]
    },
    {
     "name": "stdout",
     "output_type": "stream",
     "text": [
      "40/40 [==============================] - 15s 190ms/step - loss: 2.0427 - accuracy: 0.7312 - auc: 0.7434 - val_loss: 1.7202 - val_accuracy: 0.2076 - val_auc: 0.1565 - lr: 9.9851e-04\n",
      "Epoch 2/100\n",
      "40/40 [==============================] - 5s 122ms/step - loss: 0.8778 - accuracy: 0.7992 - auc: 0.8641 - val_loss: 0.6705 - val_accuracy: 0.7892 - val_auc: 0.8440 - lr: 9.9831e-04\n",
      "Epoch 3/100\n",
      "40/40 [==============================] - 7s 170ms/step - loss: 0.8656 - accuracy: 0.8094 - auc: 0.8614 - val_loss: 0.5380 - val_accuracy: 0.8051 - val_auc: 0.8742 - lr: 9.9807e-04\n",
      "Epoch 4/100\n",
      "40/40 [==============================] - 6s 164ms/step - loss: 0.8494 - accuracy: 0.8070 - auc: 0.8636 - val_loss: 0.5780 - val_accuracy: 0.8003 - val_auc: 0.8752 - lr: 9.9781e-04\n",
      "Epoch 5/100\n",
      "40/40 [==============================] - 7s 168ms/step - loss: 0.8532 - accuracy: 0.8039 - auc: 0.8652 - val_loss: 0.6082 - val_accuracy: 0.8003 - val_auc: 0.8649 - lr: 9.9750e-04\n",
      "Epoch 6/100\n",
      "40/40 [==============================] - 7s 176ms/step - loss: 0.8587 - accuracy: 0.8008 - auc: 0.8689 - val_loss: 0.4799 - val_accuracy: 0.8479 - val_auc: 0.9157 - lr: 9.9716e-04\n",
      "Epoch 7/100\n",
      "40/40 [==============================] - 7s 166ms/step - loss: 0.8304 - accuracy: 0.8145 - auc: 0.8704 - val_loss: 0.4753 - val_accuracy: 0.8162 - val_auc: 0.8650 - lr: 9.9676e-04\n",
      "Epoch 8/100\n",
      "40/40 [==============================] - 7s 169ms/step - loss: 0.8079 - accuracy: 0.8223 - auc: 0.8795 - val_loss: 0.5031 - val_accuracy: 0.8479 - val_auc: 0.8963 - lr: 9.9632e-04\n",
      "Epoch 9/100\n",
      "40/40 [==============================] - 7s 169ms/step - loss: 0.8088 - accuracy: 0.8230 - auc: 0.8687 - val_loss: 0.5535 - val_accuracy: 0.7290 - val_auc: 0.8107 - lr: 9.9581e-04\n",
      "Epoch 10/100\n",
      "40/40 [==============================] - 7s 169ms/step - loss: 0.8157 - accuracy: 0.8059 - auc: 0.8723 - val_loss: 0.6417 - val_accuracy: 0.6513 - val_auc: 0.6854 - lr: 9.9523e-04\n",
      "Epoch 11/100\n",
      "40/40 [==============================] - 7s 167ms/step - loss: 0.8524 - accuracy: 0.8000 - auc: 0.8686 - val_loss: 0.5173 - val_accuracy: 0.8003 - val_auc: 0.8801 - lr: 9.9457e-04\n",
      "Epoch 12/100\n",
      "40/40 [==============================] - 7s 167ms/step - loss: 0.8409 - accuracy: 0.8078 - auc: 0.8704 - val_loss: 0.5235 - val_accuracy: 0.7892 - val_auc: 0.8824 - lr: 9.9382e-04\n",
      "Epoch 13/100\n",
      "40/40 [==============================] - 7s 168ms/step - loss: 0.8126 - accuracy: 0.8145 - auc: 0.8748 - val_loss: 0.4425 - val_accuracy: 0.8162 - val_auc: 0.8950 - lr: 9.9297e-04\n",
      "Epoch 14/100\n",
      "40/40 [==============================] - 7s 177ms/step - loss: 0.8163 - accuracy: 0.8184 - auc: 0.8769 - val_loss: 0.4422 - val_accuracy: 0.8621 - val_auc: 0.9262 - lr: 9.9200e-04\n",
      "Epoch 15/100\n",
      "40/40 [==============================] - 7s 165ms/step - loss: 0.8249 - accuracy: 0.8090 - auc: 0.8673 - val_loss: 0.4305 - val_accuracy: 0.8463 - val_auc: 0.9057 - lr: 9.9090e-04\n",
      "Epoch 16/100\n",
      "40/40 [==============================] - 7s 170ms/step - loss: 0.8207 - accuracy: 0.8141 - auc: 0.8785 - val_loss: 0.4892 - val_accuracy: 0.8035 - val_auc: 0.8846 - lr: 9.8965e-04\n",
      "Epoch 17/100\n",
      "40/40 [==============================] - 7s 170ms/step - loss: 0.8272 - accuracy: 0.8086 - auc: 0.8707 - val_loss: 0.5313 - val_accuracy: 0.7813 - val_auc: 0.8687 - lr: 9.8823e-04\n",
      "Epoch 18/100\n",
      "40/40 [==============================] - 7s 175ms/step - loss: 0.8086 - accuracy: 0.8199 - auc: 0.8805 - val_loss: 0.4013 - val_accuracy: 0.8637 - val_auc: 0.9056 - lr: 9.8662e-04\n",
      "Epoch 19/100\n",
      "40/40 [==============================] - 7s 171ms/step - loss: 0.8183 - accuracy: 0.8184 - auc: 0.8801 - val_loss: 0.4079 - val_accuracy: 0.8748 - val_auc: 0.9162 - lr: 9.8479e-04\n",
      "Epoch 20/100\n",
      "40/40 [==============================] - 7s 165ms/step - loss: 0.8102 - accuracy: 0.8242 - auc: 0.8806 - val_loss: 0.4045 - val_accuracy: 0.8209 - val_auc: 0.9121 - lr: 9.8271e-04\n",
      "Epoch 21/100\n",
      "40/40 [==============================] - 7s 179ms/step - loss: 0.8278 - accuracy: 0.8191 - auc: 0.8795 - val_loss: 0.4140 - val_accuracy: 0.8764 - val_auc: 0.8987 - lr: 9.8036e-04\n",
      "Epoch 22/100\n",
      "40/40 [==============================] - 7s 165ms/step - loss: 0.8136 - accuracy: 0.8152 - auc: 0.8819 - val_loss: 0.4503 - val_accuracy: 0.8621 - val_auc: 0.9211 - lr: 9.7769e-04\n",
      "Epoch 23/100\n",
      "40/40 [==============================] - 7s 169ms/step - loss: 0.7969 - accuracy: 0.8219 - auc: 0.8898 - val_loss: 0.4673 - val_accuracy: 0.8526 - val_auc: 0.9165 - lr: 9.7468e-04\n",
      "Epoch 24/100\n",
      "40/40 [==============================] - 7s 174ms/step - loss: 0.8031 - accuracy: 0.8164 - auc: 0.8813 - val_loss: 0.3582 - val_accuracy: 0.8796 - val_auc: 0.9168 - lr: 9.7126e-04\n",
      "Epoch 25/100\n",
      "40/40 [==============================] - 7s 167ms/step - loss: 0.8003 - accuracy: 0.8180 - auc: 0.8888 - val_loss: 0.5249 - val_accuracy: 0.7829 - val_auc: 0.8701 - lr: 9.6740e-04\n",
      "Epoch 26/100\n",
      "40/40 [==============================] - 7s 171ms/step - loss: 0.7966 - accuracy: 0.8180 - auc: 0.8792 - val_loss: 0.4878 - val_accuracy: 0.8257 - val_auc: 0.8974 - lr: 9.6305e-04\n",
      "Epoch 27/100\n",
      "40/40 [==============================] - 7s 169ms/step - loss: 0.7871 - accuracy: 0.8258 - auc: 0.8832 - val_loss: 0.3727 - val_accuracy: 0.8732 - val_auc: 0.9203 - lr: 9.5813e-04\n",
      "Epoch 28/100\n",
      "40/40 [==============================] - 7s 170ms/step - loss: 0.7897 - accuracy: 0.8262 - auc: 0.8908 - val_loss: 0.3844 - val_accuracy: 0.8764 - val_auc: 0.9304 - lr: 9.5260e-04\n",
      "Epoch 29/100\n",
      "40/40 [==============================] - 7s 172ms/step - loss: 0.8086 - accuracy: 0.8164 - auc: 0.8848 - val_loss: 0.3882 - val_accuracy: 0.8922 - val_auc: 0.9340 - lr: 9.4637e-04\n",
      "Epoch 30/100\n",
      "40/40 [==============================] - 7s 165ms/step - loss: 0.7858 - accuracy: 0.8367 - auc: 0.8893 - val_loss: 0.3674 - val_accuracy: 0.8653 - val_auc: 0.9242 - lr: 9.3939e-04\n",
      "Epoch 31/100\n",
      "40/40 [==============================] - 7s 168ms/step - loss: 0.8012 - accuracy: 0.8211 - auc: 0.8877 - val_loss: 0.6648 - val_accuracy: 0.5689 - val_auc: 0.6237 - lr: 9.3155e-04\n",
      "Epoch 32/100\n",
      "40/40 [==============================] - 7s 170ms/step - loss: 0.8112 - accuracy: 0.8207 - auc: 0.8827 - val_loss: 0.3853 - val_accuracy: 0.8653 - val_auc: 0.9362 - lr: 9.2279e-04\n",
      "Epoch 33/100\n",
      "40/40 [==============================] - 7s 169ms/step - loss: 0.8379 - accuracy: 0.7937 - auc: 0.8750 - val_loss: 0.4696 - val_accuracy: 0.8463 - val_auc: 0.9219 - lr: 9.1301e-04\n",
      "Epoch 34/100\n",
      "40/40 [==============================] - 7s 175ms/step - loss: 0.8096 - accuracy: 0.8160 - auc: 0.8850 - val_loss: 0.4335 - val_accuracy: 0.8938 - val_auc: 0.9398 - lr: 9.0213e-04\n",
      "Epoch 35/100\n",
      "40/40 [==============================] - 7s 164ms/step - loss: 0.7870 - accuracy: 0.8293 - auc: 0.8896 - val_loss: 0.3739 - val_accuracy: 0.8843 - val_auc: 0.9334 - lr: 8.9005e-04\n",
      "Epoch 36/100\n",
      "40/40 [==============================] - 7s 170ms/step - loss: 0.7920 - accuracy: 0.8188 - auc: 0.8899 - val_loss: 0.3944 - val_accuracy: 0.8906 - val_auc: 0.9488 - lr: 8.7669e-04\n",
      "Epoch 37/100\n",
      "40/40 [==============================] - 7s 170ms/step - loss: 0.7953 - accuracy: 0.8195 - auc: 0.8945 - val_loss: 0.5003 - val_accuracy: 0.8177 - val_auc: 0.9029 - lr: 8.6196e-04\n",
      "Epoch 38/100\n",
      "40/40 [==============================] - 7s 171ms/step - loss: 0.7643 - accuracy: 0.8223 - auc: 0.8909 - val_loss: 0.4236 - val_accuracy: 0.8859 - val_auc: 0.9433 - lr: 8.4578e-04\n",
      "Epoch 39/100\n",
      "40/40 [==============================] - 7s 169ms/step - loss: 0.8015 - accuracy: 0.8125 - auc: 0.8906 - val_loss: 0.5452 - val_accuracy: 0.7639 - val_auc: 0.8577 - lr: 8.2809e-04\n",
      "Epoch 40/100\n",
      "40/40 [==============================] - 7s 170ms/step - loss: 0.7977 - accuracy: 0.8160 - auc: 0.8854 - val_loss: 0.4444 - val_accuracy: 0.8922 - val_auc: 0.9425 - lr: 8.0883e-04\n",
      "Epoch 41/100\n",
      "40/40 [==============================] - 7s 169ms/step - loss: 0.7742 - accuracy: 0.8254 - auc: 0.8958 - val_loss: 0.6207 - val_accuracy: 0.6323 - val_auc: 0.6892 - lr: 7.8798e-04\n",
      "Epoch 42/100\n",
      "40/40 [==============================] - 7s 173ms/step - loss: 0.7769 - accuracy: 0.8191 - auc: 0.8912 - val_loss: 0.5423 - val_accuracy: 0.8051 - val_auc: 0.8809 - lr: 7.6551e-04\n",
      "Epoch 43/100\n"
     ]
    },
    {
     "name": "stdout",
     "output_type": "stream",
     "text": [
      "40/40 [==============================] - 7s 180ms/step - loss: 0.7575 - accuracy: 0.8434 - auc: 0.8944 - val_loss: 0.3483 - val_accuracy: 0.8970 - val_auc: 0.9441 - lr: 7.4146e-04\n",
      "Epoch 44/100\n",
      "40/40 [==============================] - 7s 176ms/step - loss: 0.8140 - accuracy: 0.8141 - auc: 0.8909 - val_loss: 0.3943 - val_accuracy: 0.8986 - val_auc: 0.9058 - lr: 7.1587e-04\n",
      "Epoch 45/100\n",
      "40/40 [==============================] - 7s 167ms/step - loss: 0.7996 - accuracy: 0.8156 - auc: 0.8889 - val_loss: 0.5937 - val_accuracy: 0.7179 - val_auc: 0.8025 - lr: 6.8882e-04\n",
      "Epoch 46/100\n",
      "40/40 [==============================] - 7s 173ms/step - loss: 0.7785 - accuracy: 0.8238 - auc: 0.8972 - val_loss: 0.3365 - val_accuracy: 0.8970 - val_auc: 0.9332 - lr: 6.6044e-04\n",
      "Epoch 47/100\n",
      "40/40 [==============================] - 7s 174ms/step - loss: 0.7800 - accuracy: 0.8258 - auc: 0.8897 - val_loss: 0.3940 - val_accuracy: 0.8780 - val_auc: 0.9188 - lr: 6.3088e-04\n",
      "Epoch 48/100\n",
      "40/40 [==============================] - 7s 175ms/step - loss: 0.8056 - accuracy: 0.8227 - auc: 0.8977 - val_loss: 0.3601 - val_accuracy: 0.8796 - val_auc: 0.9294 - lr: 6.0032e-04\n",
      "Epoch 49/100\n",
      "40/40 [==============================] - 7s 173ms/step - loss: 0.7894 - accuracy: 0.8211 - auc: 0.8953 - val_loss: 0.3470 - val_accuracy: 0.8875 - val_auc: 0.9245 - lr: 5.6899e-04\n",
      "Epoch 50/100\n",
      "40/40 [==============================] - 7s 173ms/step - loss: 0.7837 - accuracy: 0.8254 - auc: 0.8944 - val_loss: 0.3899 - val_accuracy: 0.8906 - val_auc: 0.9311 - lr: 5.3713e-04\n",
      "Epoch 51/100\n",
      "40/40 [==============================] - 7s 170ms/step - loss: 0.7799 - accuracy: 0.8172 - auc: 0.8967 - val_loss: 0.4199 - val_accuracy: 0.8954 - val_auc: 0.9433 - lr: 5.0500e-04\n",
      "Epoch 52/100\n",
      "40/40 [==============================] - 7s 173ms/step - loss: 0.7902 - accuracy: 0.8156 - auc: 0.8961 - val_loss: 0.4220 - val_accuracy: 0.8970 - val_auc: 0.9429 - lr: 4.7287e-04\n",
      "Epoch 53/100\n",
      "40/40 [==============================] - 7s 181ms/step - loss: 0.7838 - accuracy: 0.8164 - auc: 0.9027 - val_loss: 0.3437 - val_accuracy: 0.9144 - val_auc: 0.9530 - lr: 4.4101e-04\n",
      "Epoch 54/100\n",
      "40/40 [==============================] - 7s 170ms/step - loss: 0.7721 - accuracy: 0.8234 - auc: 0.8951 - val_loss: 0.3672 - val_accuracy: 0.9049 - val_auc: 0.9411 - lr: 4.0968e-04\n",
      "Epoch 55/100\n",
      "40/40 [==============================] - 7s 170ms/step - loss: 0.7567 - accuracy: 0.8297 - auc: 0.8999 - val_loss: 0.3580 - val_accuracy: 0.8986 - val_auc: 0.9391 - lr: 3.7912e-04\n",
      "Epoch 56/100\n",
      "40/40 [==============================] - 7s 170ms/step - loss: 0.8058 - accuracy: 0.8172 - auc: 0.8893 - val_loss: 0.4192 - val_accuracy: 0.8891 - val_auc: 0.9451 - lr: 3.4956e-04\n",
      "Epoch 57/100\n",
      "40/40 [==============================] - 7s 169ms/step - loss: 0.7817 - accuracy: 0.8238 - auc: 0.9027 - val_loss: 0.4205 - val_accuracy: 0.8970 - val_auc: 0.9406 - lr: 3.2118e-04\n",
      "Epoch 58/100\n",
      "40/40 [==============================] - 7s 170ms/step - loss: 0.7515 - accuracy: 0.8258 - auc: 0.8958 - val_loss: 0.3322 - val_accuracy: 0.8970 - val_auc: 0.9301 - lr: 2.9413e-04\n",
      "Epoch 59/100\n",
      "40/40 [==============================] - 7s 169ms/step - loss: 0.7678 - accuracy: 0.8270 - auc: 0.8963 - val_loss: 0.3722 - val_accuracy: 0.9113 - val_auc: 0.9310 - lr: 2.6854e-04\n",
      "Epoch 60/100\n",
      "40/40 [==============================] - 7s 168ms/step - loss: 0.7704 - accuracy: 0.8281 - auc: 0.8966 - val_loss: 0.3558 - val_accuracy: 0.9017 - val_auc: 0.9419 - lr: 2.4449e-04\n",
      "Epoch 61/100\n",
      "40/40 [==============================] - 7s 168ms/step - loss: 0.7535 - accuracy: 0.8277 - auc: 0.9059 - val_loss: 0.3611 - val_accuracy: 0.9113 - val_auc: 0.9483 - lr: 2.2202e-04\n",
      "Epoch 62/100\n",
      "40/40 [==============================] - 7s 168ms/step - loss: 0.7743 - accuracy: 0.8254 - auc: 0.9024 - val_loss: 0.4001 - val_accuracy: 0.8875 - val_auc: 0.9397 - lr: 2.0117e-04\n",
      "Epoch 63/100\n",
      "40/40 [==============================] - 7s 172ms/step - loss: 0.7536 - accuracy: 0.8289 - auc: 0.8997 - val_loss: 0.3453 - val_accuracy: 0.8970 - val_auc: 0.9422 - lr: 1.8191e-04\n",
      "Epoch 64/100\n",
      "40/40 [==============================] - 7s 170ms/step - loss: 0.7640 - accuracy: 0.8316 - auc: 0.9105 - val_loss: 0.3615 - val_accuracy: 0.9113 - val_auc: 0.9460 - lr: 1.6422e-04\n",
      "Epoch 65/100\n",
      "40/40 [==============================] - 7s 170ms/step - loss: 0.7634 - accuracy: 0.8297 - auc: 0.9038 - val_loss: 0.3370 - val_accuracy: 0.8938 - val_auc: 0.9429 - lr: 1.4804e-04\n",
      "Epoch 66/100\n",
      "40/40 [==============================] - 7s 173ms/step - loss: 0.7937 - accuracy: 0.8086 - auc: 0.8960 - val_loss: 0.3919 - val_accuracy: 0.9017 - val_auc: 0.9453 - lr: 1.3331e-04\n",
      "Epoch 67/100\n",
      "40/40 [==============================] - 7s 171ms/step - loss: 0.7846 - accuracy: 0.8125 - auc: 0.8980 - val_loss: 0.3974 - val_accuracy: 0.9065 - val_auc: 0.9440 - lr: 1.1995e-04\n",
      "Epoch 68/100\n",
      "40/40 [==============================] - 7s 169ms/step - loss: 0.7430 - accuracy: 0.8316 - auc: 0.9049 - val_loss: 0.3571 - val_accuracy: 0.9128 - val_auc: 0.9475 - lr: 1.0787e-04\n",
      "Epoch 69/100\n",
      "40/40 [==============================] - 7s 169ms/step - loss: 0.7528 - accuracy: 0.8387 - auc: 0.9067 - val_loss: 0.3751 - val_accuracy: 0.9097 - val_auc: 0.9448 - lr: 9.6985e-05\n",
      "Epoch 70/100\n",
      "40/40 [==============================] - 7s 168ms/step - loss: 0.7912 - accuracy: 0.8297 - auc: 0.9006 - val_loss: 0.3763 - val_accuracy: 0.9017 - val_auc: 0.9485 - lr: 8.7208e-05\n",
      "Epoch 71/100\n",
      "40/40 [==============================] - 7s 169ms/step - loss: 0.7590 - accuracy: 0.8168 - auc: 0.9023 - val_loss: 0.3733 - val_accuracy: 0.9049 - val_auc: 0.9475 - lr: 7.8447e-05\n",
      "Epoch 72/100\n",
      "40/40 [==============================] - 7s 170ms/step - loss: 0.7690 - accuracy: 0.8285 - auc: 0.9062 - val_loss: 0.3573 - val_accuracy: 0.9113 - val_auc: 0.9453 - lr: 7.0614e-05\n",
      "Epoch 73/100\n",
      "40/40 [==============================] - 7s 170ms/step - loss: 0.7637 - accuracy: 0.8234 - auc: 0.9067 - val_loss: 0.3997 - val_accuracy: 0.9081 - val_auc: 0.9429 - lr: 6.3625e-05\n",
      "Epoch 74/100\n",
      "40/40 [==============================] - 7s 170ms/step - loss: 0.7521 - accuracy: 0.8289 - auc: 0.9077 - val_loss: 0.3919 - val_accuracy: 0.9065 - val_auc: 0.9463 - lr: 5.7401e-05\n",
      "Epoch 75/100\n",
      "40/40 [==============================] - 7s 166ms/step - loss: 0.7669 - accuracy: 0.8277 - auc: 0.9028 - val_loss: 0.4005 - val_accuracy: 0.9002 - val_auc: 0.9455 - lr: 5.1867e-05\n",
      "Epoch 76/100\n",
      "40/40 [==============================] - 7s 168ms/step - loss: 0.7658 - accuracy: 0.8242 - auc: 0.8995 - val_loss: 0.3973 - val_accuracy: 0.9002 - val_auc: 0.9430 - lr: 4.6954e-05\n",
      "Epoch 77/100\n",
      "40/40 [==============================] - 7s 168ms/step - loss: 0.7687 - accuracy: 0.8289 - auc: 0.8985 - val_loss: 0.3878 - val_accuracy: 0.9002 - val_auc: 0.9451 - lr: 4.2597e-05\n",
      "Epoch 78/100\n",
      "40/40 [==============================] - 7s 170ms/step - loss: 0.7554 - accuracy: 0.8387 - auc: 0.9072 - val_loss: 0.3861 - val_accuracy: 0.8986 - val_auc: 0.9463 - lr: 3.8739e-05\n",
      "Epoch 79/100\n",
      "40/40 [==============================] - 7s 171ms/step - loss: 0.7443 - accuracy: 0.8383 - auc: 0.9075 - val_loss: 0.3859 - val_accuracy: 0.9002 - val_auc: 0.9452 - lr: 3.5325e-05\n",
      "Epoch 80/100\n",
      "40/40 [==============================] - 7s 169ms/step - loss: 0.7545 - accuracy: 0.8246 - auc: 0.9031 - val_loss: 0.3900 - val_accuracy: 0.8970 - val_auc: 0.9442 - lr: 3.2307e-05\n",
      "Epoch 81/100\n",
      "40/40 [==============================] - 7s 170ms/step - loss: 0.7526 - accuracy: 0.8363 - auc: 0.9081 - val_loss: 0.3765 - val_accuracy: 0.9002 - val_auc: 0.9455 - lr: 2.9642e-05\n",
      "Epoch 82/100\n",
      "40/40 [==============================] - 7s 169ms/step - loss: 0.7731 - accuracy: 0.8336 - auc: 0.9052 - val_loss: 0.3736 - val_accuracy: 0.9017 - val_auc: 0.9441 - lr: 2.7289e-05\n",
      "Epoch 83/100\n",
      "40/40 [==============================] - 7s 169ms/step - loss: 0.7686 - accuracy: 0.8336 - auc: 0.9038 - val_loss: 0.3863 - val_accuracy: 0.8986 - val_auc: 0.9433 - lr: 2.5214e-05\n",
      "Epoch 84/100\n",
      "40/40 [==============================] - 7s 169ms/step - loss: 0.7248 - accuracy: 0.8406 - auc: 0.9067 - val_loss: 0.3811 - val_accuracy: 0.8970 - val_auc: 0.9443 - lr: 2.3384e-05\n",
      "Epoch 85/100\n"
     ]
    },
    {
     "name": "stdout",
     "output_type": "stream",
     "text": [
      "40/40 [==============================] - 7s 169ms/step - loss: 0.7727 - accuracy: 0.8164 - auc: 0.9032 - val_loss: 0.3869 - val_accuracy: 0.8954 - val_auc: 0.9423 - lr: 2.1772e-05\n",
      "Epoch 86/100\n",
      "40/40 [==============================] - 7s 169ms/step - loss: 0.7555 - accuracy: 0.8316 - auc: 0.9050 - val_loss: 0.3622 - val_accuracy: 0.9081 - val_auc: 0.9451 - lr: 2.0352e-05\n",
      "Epoch 87/100\n",
      "40/40 [==============================] - 7s 170ms/step - loss: 0.7683 - accuracy: 0.8273 - auc: 0.9059 - val_loss: 0.3701 - val_accuracy: 0.9002 - val_auc: 0.9464 - lr: 1.9102e-05\n",
      "Epoch 88/100\n",
      "40/40 [==============================] - 7s 169ms/step - loss: 0.7650 - accuracy: 0.8250 - auc: 0.9020 - val_loss: 0.3842 - val_accuracy: 0.8986 - val_auc: 0.9456 - lr: 1.8001e-05\n",
      "Epoch 89/100\n",
      "40/40 [==============================] - 7s 168ms/step - loss: 0.7908 - accuracy: 0.8098 - auc: 0.8999 - val_loss: 0.3934 - val_accuracy: 0.8938 - val_auc: 0.9438 - lr: 1.7033e-05\n",
      "Epoch 90/100\n",
      "40/40 [==============================] - 7s 170ms/step - loss: 0.7834 - accuracy: 0.8180 - auc: 0.9046 - val_loss: 0.3935 - val_accuracy: 0.8970 - val_auc: 0.9426 - lr: 1.6181e-05\n",
      "Epoch 91/100\n",
      "40/40 [==============================] - 7s 168ms/step - loss: 0.7684 - accuracy: 0.8254 - auc: 0.9011 - val_loss: 0.3815 - val_accuracy: 0.8986 - val_auc: 0.9435 - lr: 1.5431e-05\n",
      "Epoch 92/100\n",
      "40/40 [==============================] - 7s 171ms/step - loss: 0.7366 - accuracy: 0.8363 - auc: 0.9053 - val_loss: 0.3734 - val_accuracy: 0.9033 - val_auc: 0.9453 - lr: 1.4773e-05\n",
      "Epoch 93/100\n",
      "40/40 [==============================] - 7s 169ms/step - loss: 0.7647 - accuracy: 0.8355 - auc: 0.9041 - val_loss: 0.3719 - val_accuracy: 0.9033 - val_auc: 0.9457 - lr: 1.4193e-05\n",
      "Epoch 94/100\n",
      "40/40 [==============================] - 7s 170ms/step - loss: 0.7653 - accuracy: 0.8227 - auc: 0.9097 - val_loss: 0.3785 - val_accuracy: 0.9017 - val_auc: 0.9460 - lr: 1.3684e-05\n",
      "Epoch 95/100\n",
      "40/40 [==============================] - 7s 168ms/step - loss: 0.7534 - accuracy: 0.8340 - auc: 0.8982 - val_loss: 0.3772 - val_accuracy: 0.9049 - val_auc: 0.9456 - lr: 1.3236e-05\n",
      "Epoch 96/100\n",
      "40/40 [==============================] - 7s 171ms/step - loss: 0.7731 - accuracy: 0.8273 - auc: 0.9004 - val_loss: 0.3817 - val_accuracy: 0.9002 - val_auc: 0.9454 - lr: 1.2843e-05\n",
      "Epoch 97/100\n",
      "40/40 [==============================] - 7s 168ms/step - loss: 0.7651 - accuracy: 0.8344 - auc: 0.8982 - val_loss: 0.3792 - val_accuracy: 0.8986 - val_auc: 0.9457 - lr: 1.2497e-05\n",
      "Epoch 98/100\n",
      "40/40 [==============================] - 7s 167ms/step - loss: 0.7846 - accuracy: 0.8242 - auc: 0.9027 - val_loss: 0.3865 - val_accuracy: 0.8986 - val_auc: 0.9444 - lr: 1.2193e-05\n",
      "Epoch 99/100\n",
      "40/40 [==============================] - 7s 168ms/step - loss: 0.7848 - accuracy: 0.8160 - auc: 0.8991 - val_loss: 0.3968 - val_accuracy: 0.8954 - val_auc: 0.9431 - lr: 1.1927e-05\n",
      "Epoch 100/100\n",
      "40/40 [==============================] - 7s 168ms/step - loss: 0.7638 - accuracy: 0.8227 - auc: 0.9050 - val_loss: 0.3874 - val_accuracy: 0.8986 - val_auc: 0.9449 - lr: 1.1692e-05\n"
     ]
    }
   ],
   "source": [
    "n_epoch = 100\n",
    "lr = LearningRateScheduler(lambda e: sigmoidal_decay(e, end=n_epoch))\n",
    "batch_size = 64\n",
    "\n",
    "if mixup :\n",
    "    beta_param = .7\n",
    "else :\n",
    "    beta_param = 0\n",
    "    \n",
    "\n",
    "\n",
    "params = {'batch_size': batch_size,\n",
    "          #          'input_shape': (100, 313, 1),\n",
    "          'shuffle': True,\n",
    "          'chaug': chaug,\n",
    "          'beta_param': beta_param,\n",
    "          'cout': cout\n",
    "#              'mixup': mixup,\n",
    "          #          'lowpass': [.5, [11,12,13,14,15,16,17,18]]\n",
    "          #          'highpass': [.5, [78,79,80,81,82,83,84,85]]\n",
    "#              'ranfilter2' : [3, [18,19,20,21,22,23]]\n",
    "          #           'dropblock' : [30, 100]\n",
    "          #'device' : device\n",
    "}\n",
    "\n",
    "if mixup :\n",
    "    params['mixup'] = mixup\n",
    "    params['ranfilter2'] = ranfil\n",
    "else :\n",
    "    params['cutout'] = cout\n",
    "\n",
    "params_no_shuffle = {'batch_size': batch_size,\n",
    "                     #          'input_shape': (100, 313, 1),\n",
    "                     'shuffle': False,\n",
    "                     'beta_param': 0.7,\n",
    "                     'mixup': False\n",
    "                     #'device': device\n",
    "}\n",
    "\n",
    "\n",
    "# TrainDGen_1 = Generator0([features_trn['age'],features_trn['sex'], features_trn['hw'], features_trn['preg'], features_trn['loc'],\n",
    "#             features_trn['interval'],features_trn['wav2'],features_trn['mel1'],features_trn['cqt1'],features_trn['stft1']], \n",
    "#            features_trn['mm_labels'],  ## our Y\n",
    "#                         **params)()\n",
    "\n",
    "\n",
    "# ValidDGen_1 = Generator0([features_test['age'],features_test['sex'], features_test['hw'], \n",
    "#                               features_test['preg'], features_test['loc'],features_test['interval'],\n",
    "#                               features_test['wav2'], features_test['mel1'],features_test['cqt1'],features_test['stft1']], \n",
    "#                              features_test['mm_labels'],  ## our Y\n",
    "                         \n",
    "#                          **params)()\n",
    "\n",
    "\n",
    "\n",
    "\n",
    "\n",
    "if ord1 :\n",
    "    class_weight = {0: mm_weight, 1: 1.}\n",
    "else :\n",
    "    class_weight = {0: mm_weight, 1: wunknown, 2:1.}\n",
    "\n",
    "    \n",
    "    \n",
    "    \n",
    "    \n",
    "\n",
    "if mixup :\n",
    "    \n",
    "    \n",
    "    TrainDGen_1 = Generator0([features_trn['age'],features_trn['sex'], features_trn['hw'], \n",
    "                              features_trn['preg'], features_trn['loc'],features_trn['raw1'],features_trn['interval'],\n",
    "                              features_trn['wav2'],\n",
    "                              features_trn['mel1'],\n",
    "                              features_trn['cqt1'],\n",
    "                              features_trn['stft1']],features_trn['mm_labels'],**params)()\n",
    "    \n",
    "    model1.fit(TrainDGen_1,\n",
    "               validation_data = ([features_test['age'],features_test['sex'], features_test['hw'],                                   \n",
    "                                   features_test['preg'], features_test['loc'],features_test['raw1'],\n",
    "                                   features_test['interval'],features_test['wav2'],\n",
    "                                   features_test['mel1'],\n",
    "                                   features_test['cqt1'],\n",
    "                                   features_test['stft1']],features_test['mm_labels']),\n",
    "               \n",
    "               callbacks=[lr,model1_callback],\n",
    "               steps_per_epoch=np.ceil(len(features_trn['mm_labels'])/batch_size),\n",
    "               class_weight=class_weight, \n",
    "               epochs = n_epoch)\n",
    "    \n",
    "    \n",
    " \n"
   ]
  },
  {
   "cell_type": "code",
   "execution_count": null,
   "id": "e84f3f23",
   "metadata": {},
   "outputs": [],
   "source": []
  },
  {
   "cell_type": "code",
   "execution_count": 37,
   "id": "90bdd466",
   "metadata": {
    "scrolled": false
   },
   "outputs": [
    {
     "name": "stdout",
     "output_type": "stream",
     "text": [
      "Epoch 1/100\n",
      "40/40 [==============================] - 15s 248ms/step - loss: 36.7219 - accuracy: 0.5090 - auc: 0.5033 - val_loss: 1.2797 - val_accuracy: 0.5008 - val_auc: 0.5272 - lr: 9.9851e-04\n",
      "Epoch 2/100\n",
      "40/40 [==============================] - 5s 125ms/step - loss: 1.3877 - accuracy: 0.4637 - auc: 0.4781 - val_loss: 2.2916 - val_accuracy: 0.4992 - val_auc: 0.4309 - lr: 9.9831e-04\n",
      "Epoch 3/100\n",
      "40/40 [==============================] - 7s 171ms/step - loss: 1.2412 - accuracy: 0.4879 - auc: 0.5014 - val_loss: 1.6222 - val_accuracy: 0.4992 - val_auc: 0.4382 - lr: 9.9807e-04\n",
      "Epoch 4/100\n",
      "40/40 [==============================] - 7s 179ms/step - loss: 1.2417 - accuracy: 0.4980 - auc: 0.5169 - val_loss: 1.2235 - val_accuracy: 0.4992 - val_auc: 0.4653 - lr: 9.9781e-04\n",
      "Epoch 5/100\n",
      "40/40 [==============================] - 7s 172ms/step - loss: 1.2187 - accuracy: 0.4785 - auc: 0.5102 - val_loss: 0.8265 - val_accuracy: 0.4992 - val_auc: 0.5247 - lr: 9.9750e-04\n",
      "Epoch 6/100\n",
      "40/40 [==============================] - 7s 175ms/step - loss: 1.2150 - accuracy: 0.4707 - auc: 0.5050 - val_loss: 0.7809 - val_accuracy: 0.4976 - val_auc: 0.5936 - lr: 9.9716e-04\n",
      "Epoch 7/100\n",
      "40/40 [==============================] - 7s 166ms/step - loss: 1.2176 - accuracy: 0.4758 - auc: 0.5244 - val_loss: 0.8209 - val_accuracy: 0.4992 - val_auc: 0.5695 - lr: 9.9676e-04\n",
      "Epoch 8/100\n",
      "40/40 [==============================] - 7s 178ms/step - loss: 1.2253 - accuracy: 0.4824 - auc: 0.5176 - val_loss: 0.7226 - val_accuracy: 0.5119 - val_auc: 0.5628 - lr: 9.9632e-04\n",
      "Epoch 9/100\n",
      "40/40 [==============================] - 7s 174ms/step - loss: 1.2012 - accuracy: 0.4770 - auc: 0.5250 - val_loss: 0.6771 - val_accuracy: 0.5135 - val_auc: 0.6064 - lr: 9.9581e-04\n",
      "Epoch 10/100\n",
      "40/40 [==============================] - 7s 167ms/step - loss: 1.2177 - accuracy: 0.4773 - auc: 0.5184 - val_loss: 0.7027 - val_accuracy: 0.5135 - val_auc: 0.5788 - lr: 9.9523e-04\n",
      "Epoch 11/100\n",
      "40/40 [==============================] - 7s 173ms/step - loss: 1.2054 - accuracy: 0.4801 - auc: 0.5291 - val_loss: 0.7190 - val_accuracy: 0.4992 - val_auc: 0.6236 - lr: 9.9457e-04\n",
      "Epoch 12/100\n",
      "40/40 [==============================] - 7s 180ms/step - loss: 1.2134 - accuracy: 0.4746 - auc: 0.5183 - val_loss: 0.6617 - val_accuracy: 0.5166 - val_auc: 0.6115 - lr: 9.9382e-04\n",
      "Epoch 13/100\n",
      "40/40 [==============================] - 7s 167ms/step - loss: 1.2149 - accuracy: 0.4711 - auc: 0.5220 - val_loss: 0.7191 - val_accuracy: 0.4992 - val_auc: 0.6114 - lr: 9.9297e-04\n",
      "Epoch 14/100\n",
      "40/40 [==============================] - 7s 169ms/step - loss: 1.2142 - accuracy: 0.4883 - auc: 0.5354 - val_loss: 0.8376 - val_accuracy: 0.4992 - val_auc: 0.6113 - lr: 9.9200e-04\n",
      "Epoch 15/100\n",
      "40/40 [==============================] - 7s 167ms/step - loss: 1.2162 - accuracy: 0.4852 - auc: 0.5310 - val_loss: 0.7015 - val_accuracy: 0.5071 - val_auc: 0.5235 - lr: 9.9090e-04\n",
      "Epoch 16/100\n",
      "40/40 [==============================] - 7s 170ms/step - loss: 1.2015 - accuracy: 0.4703 - auc: 0.5290 - val_loss: 0.6836 - val_accuracy: 0.5119 - val_auc: 0.6167 - lr: 9.8965e-04\n",
      "Epoch 17/100\n",
      "40/40 [==============================] - 7s 174ms/step - loss: 1.2033 - accuracy: 0.4844 - auc: 0.5365 - val_loss: 0.6200 - val_accuracy: 0.6498 - val_auc: 0.7308 - lr: 9.8823e-04\n",
      "Epoch 18/100\n",
      "40/40 [==============================] - 7s 172ms/step - loss: 1.2058 - accuracy: 0.4902 - auc: 0.5402 - val_loss: 0.7317 - val_accuracy: 0.4992 - val_auc: 0.6235 - lr: 9.8662e-04\n",
      "Epoch 19/100\n",
      "40/40 [==============================] - 7s 173ms/step - loss: 1.2087 - accuracy: 0.4715 - auc: 0.5291 - val_loss: 0.6900 - val_accuracy: 0.4976 - val_auc: 0.5855 - lr: 9.8479e-04\n",
      "Epoch 20/100\n",
      "40/40 [==============================] - 7s 177ms/step - loss: 1.2104 - accuracy: 0.4816 - auc: 0.5338 - val_loss: 0.7340 - val_accuracy: 0.4992 - val_auc: 0.6118 - lr: 9.8271e-04\n",
      "Epoch 21/100\n",
      "40/40 [==============================] - 7s 173ms/step - loss: 1.2102 - accuracy: 0.4840 - auc: 0.5321 - val_loss: 0.9130 - val_accuracy: 0.4992 - val_auc: 0.6047 - lr: 9.8036e-04\n",
      "Epoch 22/100\n",
      "40/40 [==============================] - 7s 170ms/step - loss: 1.2080 - accuracy: 0.4852 - auc: 0.5408 - val_loss: 0.7472 - val_accuracy: 0.4992 - val_auc: 0.5928 - lr: 9.7769e-04\n",
      "Epoch 23/100\n",
      "40/40 [==============================] - 7s 170ms/step - loss: 1.1999 - accuracy: 0.4926 - auc: 0.5502 - val_loss: 0.7180 - val_accuracy: 0.4992 - val_auc: 0.6156 - lr: 9.7468e-04\n",
      "Epoch 24/100\n",
      "40/40 [==============================] - 7s 174ms/step - loss: 1.2024 - accuracy: 0.4863 - auc: 0.5412 - val_loss: 0.6348 - val_accuracy: 0.6086 - val_auc: 0.6903 - lr: 9.7126e-04\n",
      "Epoch 25/100\n",
      "40/40 [==============================] - 7s 176ms/step - loss: 1.2024 - accuracy: 0.4828 - auc: 0.5465 - val_loss: 0.7639 - val_accuracy: 0.5293 - val_auc: 0.5358 - lr: 9.6740e-04\n",
      "Epoch 26/100\n",
      "40/40 [==============================] - 7s 170ms/step - loss: 1.1930 - accuracy: 0.4781 - auc: 0.5425 - val_loss: 0.6698 - val_accuracy: 0.5293 - val_auc: 0.6018 - lr: 9.6305e-04\n",
      "Epoch 27/100\n",
      "40/40 [==============================] - 7s 171ms/step - loss: 1.2075 - accuracy: 0.4789 - auc: 0.5394 - val_loss: 0.6398 - val_accuracy: 0.6276 - val_auc: 0.6925 - lr: 9.5813e-04\n",
      "Epoch 28/100\n",
      "40/40 [==============================] - 7s 173ms/step - loss: 1.2169 - accuracy: 0.4965 - auc: 0.5541 - val_loss: 0.7008 - val_accuracy: 0.5008 - val_auc: 0.6032 - lr: 9.5260e-04\n",
      "Epoch 29/100\n",
      "40/40 [==============================] - 7s 173ms/step - loss: 1.2014 - accuracy: 0.4852 - auc: 0.5365 - val_loss: 0.6753 - val_accuracy: 0.5372 - val_auc: 0.5637 - lr: 9.4637e-04\n",
      "Epoch 30/100\n",
      "40/40 [==============================] - 7s 173ms/step - loss: 1.2181 - accuracy: 0.4926 - auc: 0.5341 - val_loss: 0.6588 - val_accuracy: 0.5626 - val_auc: 0.6193 - lr: 9.3939e-04\n",
      "Epoch 31/100\n",
      "40/40 [==============================] - 7s 171ms/step - loss: 1.2153 - accuracy: 0.4980 - auc: 0.5433 - val_loss: 0.8053 - val_accuracy: 0.4976 - val_auc: 0.5360 - lr: 9.3155e-04\n",
      "Epoch 32/100\n",
      "40/40 [==============================] - 7s 169ms/step - loss: 1.1989 - accuracy: 0.4938 - auc: 0.5476 - val_loss: 0.6542 - val_accuracy: 0.5674 - val_auc: 0.6244 - lr: 9.2279e-04\n",
      "Epoch 33/100\n",
      "40/40 [==============================] - 7s 174ms/step - loss: 1.1944 - accuracy: 0.4988 - auc: 0.5499 - val_loss: 0.7323 - val_accuracy: 0.5024 - val_auc: 0.6148 - lr: 9.1301e-04\n",
      "Epoch 34/100\n",
      "40/40 [==============================] - 7s 172ms/step - loss: 1.1905 - accuracy: 0.4840 - auc: 0.5481 - val_loss: 0.6769 - val_accuracy: 0.5277 - val_auc: 0.6067 - lr: 9.0213e-04\n",
      "Epoch 35/100\n",
      "40/40 [==============================] - 7s 174ms/step - loss: 1.1935 - accuracy: 0.4930 - auc: 0.5569 - val_loss: 0.6871 - val_accuracy: 0.5198 - val_auc: 0.6026 - lr: 8.9005e-04\n",
      "Epoch 36/100\n",
      "40/40 [==============================] - 7s 175ms/step - loss: 1.1989 - accuracy: 0.4934 - auc: 0.5557 - val_loss: 0.7465 - val_accuracy: 0.5024 - val_auc: 0.6168 - lr: 8.7669e-04\n",
      "Epoch 37/100\n",
      "40/40 [==============================] - 7s 171ms/step - loss: 1.2021 - accuracy: 0.4926 - auc: 0.5499 - val_loss: 0.7869 - val_accuracy: 0.4992 - val_auc: 0.5968 - lr: 8.6196e-04\n",
      "Epoch 38/100\n",
      "40/40 [==============================] - 7s 173ms/step - loss: 1.1931 - accuracy: 0.4871 - auc: 0.5557 - val_loss: 0.7308 - val_accuracy: 0.5008 - val_auc: 0.6133 - lr: 8.4578e-04\n",
      "Epoch 39/100\n",
      "40/40 [==============================] - 7s 175ms/step - loss: 1.1940 - accuracy: 0.4918 - auc: 0.5550 - val_loss: 0.6101 - val_accuracy: 0.6767 - val_auc: 0.7330 - lr: 8.2809e-04\n",
      "Epoch 40/100\n",
      "40/40 [==============================] - 7s 168ms/step - loss: 1.2045 - accuracy: 0.4961 - auc: 0.5454 - val_loss: 0.7228 - val_accuracy: 0.4976 - val_auc: 0.5992 - lr: 8.0883e-04\n",
      "Epoch 41/100\n",
      "40/40 [==============================] - 7s 170ms/step - loss: 1.1935 - accuracy: 0.4867 - auc: 0.5534 - val_loss: 0.6596 - val_accuracy: 0.5531 - val_auc: 0.6155 - lr: 7.8798e-04\n",
      "Epoch 42/100\n",
      "40/40 [==============================] - 7s 170ms/step - loss: 1.1866 - accuracy: 0.5008 - auc: 0.5696 - val_loss: 0.6830 - val_accuracy: 0.5040 - val_auc: 0.6113 - lr: 7.6551e-04\n",
      "Epoch 43/100\n"
     ]
    },
    {
     "name": "stdout",
     "output_type": "stream",
     "text": [
      "40/40 [==============================] - 7s 175ms/step - loss: 1.1872 - accuracy: 0.4730 - auc: 0.5510 - val_loss: 0.6443 - val_accuracy: 0.5674 - val_auc: 0.6403 - lr: 7.4146e-04\n",
      "Epoch 44/100\n",
      "40/40 [==============================] - 7s 178ms/step - loss: 1.1974 - accuracy: 0.4859 - auc: 0.5499 - val_loss: 0.7022 - val_accuracy: 0.5943 - val_auc: 0.6469 - lr: 7.1587e-04\n",
      "Epoch 45/100\n",
      "40/40 [==============================] - 7s 178ms/step - loss: 1.1849 - accuracy: 0.4832 - auc: 0.5453 - val_loss: 0.7997 - val_accuracy: 0.4992 - val_auc: 0.5796 - lr: 6.8882e-04\n",
      "Epoch 46/100\n",
      "40/40 [==============================] - 7s 175ms/step - loss: 1.1639 - accuracy: 0.4855 - auc: 0.5832 - val_loss: 0.6789 - val_accuracy: 0.5468 - val_auc: 0.6280 - lr: 6.6044e-04\n",
      "Epoch 47/100\n",
      "40/40 [==============================] - 7s 174ms/step - loss: 1.1921 - accuracy: 0.4766 - auc: 0.5538 - val_loss: 0.8644 - val_accuracy: 0.4992 - val_auc: 0.5822 - lr: 6.3088e-04\n",
      "Epoch 48/100\n",
      "40/40 [==============================] - 7s 176ms/step - loss: 1.1926 - accuracy: 0.4957 - auc: 0.5648 - val_loss: 0.6309 - val_accuracy: 0.6450 - val_auc: 0.6962 - lr: 6.0032e-04\n",
      "Epoch 49/100\n",
      "40/40 [==============================] - 7s 177ms/step - loss: 1.1798 - accuracy: 0.4977 - auc: 0.5691 - val_loss: 0.7005 - val_accuracy: 0.6101 - val_auc: 0.6229 - lr: 5.6899e-04\n",
      "Epoch 50/100\n",
      "40/40 [==============================] - 7s 174ms/step - loss: 1.1875 - accuracy: 0.4914 - auc: 0.5676 - val_loss: 0.7765 - val_accuracy: 0.4992 - val_auc: 0.5930 - lr: 5.3713e-04\n",
      "Epoch 51/100\n",
      "40/40 [==============================] - 7s 178ms/step - loss: 1.1823 - accuracy: 0.4875 - auc: 0.5492 - val_loss: 0.6373 - val_accuracy: 0.5959 - val_auc: 0.6577 - lr: 5.0500e-04\n",
      "Epoch 52/100\n",
      "40/40 [==============================] - 7s 178ms/step - loss: 1.1826 - accuracy: 0.4891 - auc: 0.5633 - val_loss: 0.6660 - val_accuracy: 0.5468 - val_auc: 0.6047 - lr: 4.7287e-04\n",
      "Epoch 53/100\n",
      "40/40 [==============================] - 7s 176ms/step - loss: 1.1864 - accuracy: 0.5000 - auc: 0.5678 - val_loss: 0.6579 - val_accuracy: 0.5468 - val_auc: 0.6283 - lr: 4.4101e-04\n",
      "Epoch 54/100\n",
      "40/40 [==============================] - 7s 175ms/step - loss: 1.1834 - accuracy: 0.5102 - auc: 0.5735 - val_loss: 0.6994 - val_accuracy: 0.5261 - val_auc: 0.6141 - lr: 4.0968e-04\n",
      "Epoch 55/100\n",
      "40/40 [==============================] - 7s 174ms/step - loss: 1.1649 - accuracy: 0.4996 - auc: 0.5778 - val_loss: 0.6400 - val_accuracy: 0.5721 - val_auc: 0.6451 - lr: 3.7912e-04\n",
      "Epoch 56/100\n",
      "40/40 [==============================] - 7s 175ms/step - loss: 1.1701 - accuracy: 0.5059 - auc: 0.5839 - val_loss: 0.6737 - val_accuracy: 0.5230 - val_auc: 0.6069 - lr: 3.4956e-04\n",
      "Epoch 57/100\n",
      "40/40 [==============================] - 7s 176ms/step - loss: 1.1707 - accuracy: 0.5063 - auc: 0.5814 - val_loss: 0.6510 - val_accuracy: 0.5737 - val_auc: 0.6399 - lr: 3.2118e-04\n",
      "Epoch 58/100\n",
      "40/40 [==============================] - 7s 175ms/step - loss: 1.1628 - accuracy: 0.4922 - auc: 0.5808 - val_loss: 0.6408 - val_accuracy: 0.5864 - val_auc: 0.6591 - lr: 2.9413e-04\n",
      "Epoch 59/100\n",
      "40/40 [==============================] - 7s 175ms/step - loss: 1.1814 - accuracy: 0.4930 - auc: 0.5745 - val_loss: 0.6578 - val_accuracy: 0.5689 - val_auc: 0.6306 - lr: 2.6854e-04\n",
      "Epoch 60/100\n",
      "40/40 [==============================] - 7s 174ms/step - loss: 1.1755 - accuracy: 0.5168 - auc: 0.5882 - val_loss: 0.6331 - val_accuracy: 0.6244 - val_auc: 0.6854 - lr: 2.4449e-04\n",
      "Epoch 61/100\n",
      "40/40 [==============================] - 7s 175ms/step - loss: 1.1553 - accuracy: 0.5117 - auc: 0.5904 - val_loss: 0.6288 - val_accuracy: 0.6292 - val_auc: 0.6926 - lr: 2.2202e-04\n",
      "Epoch 62/100\n",
      "40/40 [==============================] - 7s 177ms/step - loss: 1.1627 - accuracy: 0.5184 - auc: 0.5898 - val_loss: 0.6259 - val_accuracy: 0.6561 - val_auc: 0.7068 - lr: 2.0117e-04\n",
      "Epoch 63/100\n",
      "40/40 [==============================] - 7s 179ms/step - loss: 1.1635 - accuracy: 0.5199 - auc: 0.5988 - val_loss: 0.6285 - val_accuracy: 0.6371 - val_auc: 0.6991 - lr: 1.8191e-04\n",
      "Epoch 64/100\n",
      "40/40 [==============================] - 7s 178ms/step - loss: 1.1388 - accuracy: 0.5207 - auc: 0.6088 - val_loss: 0.6129 - val_accuracy: 0.6561 - val_auc: 0.7182 - lr: 1.6422e-04\n",
      "Epoch 65/100\n",
      "40/40 [==============================] - 7s 175ms/step - loss: 1.1653 - accuracy: 0.5133 - auc: 0.5924 - val_loss: 0.6388 - val_accuracy: 0.6165 - val_auc: 0.6753 - lr: 1.4804e-04\n",
      "Epoch 66/100\n",
      "40/40 [==============================] - 7s 171ms/step - loss: 1.1759 - accuracy: 0.5352 - auc: 0.6039 - val_loss: 0.7893 - val_accuracy: 0.4960 - val_auc: 0.5720 - lr: 1.3331e-04\n",
      "Epoch 67/100\n",
      "40/40 [==============================] - 7s 173ms/step - loss: 1.1647 - accuracy: 0.5309 - auc: 0.5993 - val_loss: 0.8906 - val_accuracy: 0.4976 - val_auc: 0.5584 - lr: 1.1995e-04\n",
      "Epoch 68/100\n",
      "40/40 [==============================] - 7s 173ms/step - loss: 1.1678 - accuracy: 0.5164 - auc: 0.5984 - val_loss: 0.8214 - val_accuracy: 0.4976 - val_auc: 0.5651 - lr: 1.0787e-04\n",
      "Epoch 69/100\n",
      "40/40 [==============================] - 7s 173ms/step - loss: 1.1566 - accuracy: 0.5055 - auc: 0.6016 - val_loss: 0.8027 - val_accuracy: 0.5008 - val_auc: 0.5733 - lr: 9.6985e-05\n",
      "Epoch 70/100\n",
      "40/40 [==============================] - 7s 174ms/step - loss: 1.1458 - accuracy: 0.5406 - auc: 0.6210 - val_loss: 0.6258 - val_accuracy: 0.6466 - val_auc: 0.6980 - lr: 8.7208e-05\n",
      "Epoch 71/100\n",
      "40/40 [==============================] - 7s 175ms/step - loss: 1.1460 - accuracy: 0.5324 - auc: 0.6060 - val_loss: 0.7104 - val_accuracy: 0.5230 - val_auc: 0.5836 - lr: 7.8447e-05\n",
      "Epoch 72/100\n",
      "40/40 [==============================] - 7s 176ms/step - loss: 1.1807 - accuracy: 0.5355 - auc: 0.5962 - val_loss: 0.6771 - val_accuracy: 0.5499 - val_auc: 0.6142 - lr: 7.0614e-05\n",
      "Epoch 73/100\n",
      "40/40 [==============================] - 7s 177ms/step - loss: 1.1495 - accuracy: 0.5211 - auc: 0.6066 - val_loss: 0.6447 - val_accuracy: 0.6086 - val_auc: 0.6575 - lr: 6.3625e-05\n",
      "Epoch 74/100\n",
      "40/40 [==============================] - 7s 176ms/step - loss: 1.1577 - accuracy: 0.5176 - auc: 0.6052 - val_loss: 0.7088 - val_accuracy: 0.5341 - val_auc: 0.5933 - lr: 5.7401e-05\n",
      "Epoch 75/100\n",
      "40/40 [==============================] - 7s 176ms/step - loss: 1.1541 - accuracy: 0.5285 - auc: 0.6076 - val_loss: 0.6794 - val_accuracy: 0.5563 - val_auc: 0.6121 - lr: 5.1867e-05\n",
      "Epoch 76/100\n",
      "40/40 [==============================] - 7s 179ms/step - loss: 1.1639 - accuracy: 0.5352 - auc: 0.6034 - val_loss: 0.6665 - val_accuracy: 0.5610 - val_auc: 0.6236 - lr: 4.6954e-05\n",
      "Epoch 77/100\n",
      "40/40 [==============================] - 7s 175ms/step - loss: 1.1608 - accuracy: 0.5102 - auc: 0.6089 - val_loss: 0.7256 - val_accuracy: 0.5182 - val_auc: 0.5804 - lr: 4.2597e-05\n",
      "Epoch 78/100\n",
      "40/40 [==============================] - 7s 174ms/step - loss: 1.1558 - accuracy: 0.5488 - auc: 0.6166 - val_loss: 0.6800 - val_accuracy: 0.5547 - val_auc: 0.6115 - lr: 3.8739e-05\n",
      "Epoch 79/100\n",
      "40/40 [==============================] - 7s 178ms/step - loss: 1.1406 - accuracy: 0.5125 - auc: 0.6089 - val_loss: 0.6832 - val_accuracy: 0.5499 - val_auc: 0.6081 - lr: 3.5325e-05\n",
      "Epoch 80/100\n",
      "40/40 [==============================] - 7s 177ms/step - loss: 1.1464 - accuracy: 0.5379 - auc: 0.6252 - val_loss: 0.6984 - val_accuracy: 0.5372 - val_auc: 0.5983 - lr: 3.2307e-05\n",
      "Epoch 81/100\n",
      "40/40 [==============================] - 7s 177ms/step - loss: 1.1675 - accuracy: 0.5320 - auc: 0.6099 - val_loss: 0.6730 - val_accuracy: 0.5563 - val_auc: 0.6202 - lr: 2.9642e-05\n",
      "Epoch 82/100\n",
      "40/40 [==============================] - 7s 174ms/step - loss: 1.1344 - accuracy: 0.5391 - auc: 0.6247 - val_loss: 0.7128 - val_accuracy: 0.5372 - val_auc: 0.5938 - lr: 2.7289e-05\n",
      "Epoch 83/100\n",
      "40/40 [==============================] - 7s 173ms/step - loss: 1.1473 - accuracy: 0.5316 - auc: 0.6197 - val_loss: 0.7824 - val_accuracy: 0.5087 - val_auc: 0.5727 - lr: 2.5214e-05\n",
      "Epoch 84/100\n",
      "40/40 [==============================] - 7s 176ms/step - loss: 1.1598 - accuracy: 0.5402 - auc: 0.6110 - val_loss: 0.7549 - val_accuracy: 0.5135 - val_auc: 0.5805 - lr: 2.3384e-05\n",
      "Epoch 85/100\n"
     ]
    },
    {
     "name": "stdout",
     "output_type": "stream",
     "text": [
      "40/40 [==============================] - 7s 175ms/step - loss: 1.1521 - accuracy: 0.5109 - auc: 0.6118 - val_loss: 0.7233 - val_accuracy: 0.5246 - val_auc: 0.5819 - lr: 2.1772e-05\n",
      "Epoch 86/100\n",
      "40/40 [==============================] - 7s 175ms/step - loss: 1.1356 - accuracy: 0.5273 - auc: 0.6207 - val_loss: 0.7354 - val_accuracy: 0.5309 - val_auc: 0.5791 - lr: 2.0352e-05\n",
      "Epoch 87/100\n",
      "40/40 [==============================] - 7s 174ms/step - loss: 1.1486 - accuracy: 0.5367 - auc: 0.6173 - val_loss: 0.7398 - val_accuracy: 0.5309 - val_auc: 0.5794 - lr: 1.9102e-05\n",
      "Epoch 88/100\n",
      "40/40 [==============================] - 7s 174ms/step - loss: 1.1609 - accuracy: 0.5332 - auc: 0.6129 - val_loss: 0.7131 - val_accuracy: 0.5309 - val_auc: 0.5892 - lr: 1.8001e-05\n",
      "Epoch 89/100\n",
      "40/40 [==============================] - 7s 173ms/step - loss: 1.1574 - accuracy: 0.5164 - auc: 0.6123 - val_loss: 0.7063 - val_accuracy: 0.5357 - val_auc: 0.5892 - lr: 1.7033e-05\n",
      "Epoch 90/100\n",
      "40/40 [==============================] - 7s 172ms/step - loss: 1.1525 - accuracy: 0.5441 - auc: 0.6086 - val_loss: 0.7065 - val_accuracy: 0.5404 - val_auc: 0.5929 - lr: 1.6181e-05\n",
      "Epoch 91/100\n",
      "40/40 [==============================] - 7s 173ms/step - loss: 1.1398 - accuracy: 0.5270 - auc: 0.6250 - val_loss: 0.6948 - val_accuracy: 0.5436 - val_auc: 0.6001 - lr: 1.5431e-05\n",
      "Epoch 92/100\n",
      "40/40 [==============================] - 7s 175ms/step - loss: 1.1427 - accuracy: 0.5437 - auc: 0.6301 - val_loss: 0.7111 - val_accuracy: 0.5309 - val_auc: 0.5889 - lr: 1.4773e-05\n",
      "Epoch 93/100\n",
      "40/40 [==============================] - 7s 174ms/step - loss: 1.1429 - accuracy: 0.5242 - auc: 0.6163 - val_loss: 0.7031 - val_accuracy: 0.5325 - val_auc: 0.5925 - lr: 1.4193e-05\n",
      "Epoch 94/100\n",
      "40/40 [==============================] - 7s 172ms/step - loss: 1.1424 - accuracy: 0.5523 - auc: 0.6382 - val_loss: 0.7293 - val_accuracy: 0.5230 - val_auc: 0.5853 - lr: 1.3684e-05\n",
      "Epoch 95/100\n",
      "40/40 [==============================] - 7s 173ms/step - loss: 1.1541 - accuracy: 0.5449 - auc: 0.6218 - val_loss: 0.7262 - val_accuracy: 0.5214 - val_auc: 0.5851 - lr: 1.3236e-05\n",
      "Epoch 96/100\n",
      "40/40 [==============================] - 7s 173ms/step - loss: 1.1411 - accuracy: 0.5406 - auc: 0.6294 - val_loss: 0.6909 - val_accuracy: 0.5531 - val_auc: 0.6041 - lr: 1.2843e-05\n",
      "Epoch 97/100\n",
      "40/40 [==============================] - 7s 172ms/step - loss: 1.1462 - accuracy: 0.5328 - auc: 0.6237 - val_loss: 0.7055 - val_accuracy: 0.5420 - val_auc: 0.5954 - lr: 1.2497e-05\n",
      "Epoch 98/100\n",
      "40/40 [==============================] - 7s 173ms/step - loss: 1.1521 - accuracy: 0.5387 - auc: 0.6172 - val_loss: 0.7109 - val_accuracy: 0.5341 - val_auc: 0.5949 - lr: 1.2193e-05\n",
      "Epoch 99/100\n",
      "40/40 [==============================] - 7s 174ms/step - loss: 1.1367 - accuracy: 0.5289 - auc: 0.6212 - val_loss: 0.7125 - val_accuracy: 0.5341 - val_auc: 0.5930 - lr: 1.1927e-05\n",
      "Epoch 100/100\n",
      "40/40 [==============================] - 7s 173ms/step - loss: 1.1402 - accuracy: 0.5324 - auc: 0.6221 - val_loss: 0.7116 - val_accuracy: 0.5341 - val_auc: 0.5944 - lr: 1.1692e-05\n"
     ]
    }
   ],
   "source": [
    "n_epoch = 100\n",
    "lr = LearningRateScheduler(lambda e: sigmoidal_decay(e, end=n_epoch))\n",
    "\n",
    "batch_size = 64\n",
    "\n",
    "if mixup :\n",
    "    beta_param = .7\n",
    "else :\n",
    "    beta_param = 0\n",
    "    \n",
    "params = {'batch_size': batch_size,\n",
    "          #          'input_shape': (100, 313, 1),\n",
    "          'shuffle': True,\n",
    "          'chaug': 0,\n",
    "          'beta_param': beta_param,\n",
    "          'cout': cout,\n",
    "#              'mixup': True,\n",
    "          #          'lowpass': [.5, [11,12,13,14,15,16,17,18]]\n",
    "#            'highpass': [.5, [78,79,80,81,82,83,84,85]],\n",
    "#              'ranfilter2' : [3, [18,19,20,21,22,23]]\n",
    "        #           'dropblock' : [30, 100]\n",
    "          #'device' : device\n",
    "}\n",
    "\n",
    "\n",
    "\n",
    "if mixup :\n",
    "    params['mixup'] = mixup\n",
    "    params['ranfilter2'] = ranfil\n",
    "else :\n",
    "    params['cutout'] = cout\n",
    "\n",
    "\n",
    "params_no_shuffle = {'batch_size': batch_size,\n",
    "                     #          'input_shape': (100, 313, 1),\n",
    "                     'shuffle': False,\n",
    "                     'beta_param': 0.7,\n",
    "                     'mixup': False\n",
    "                     #'device': device\n",
    "}\n",
    "\n",
    "\n",
    "\n",
    "\n",
    "if mixup :\n",
    "\n",
    "    \n",
    "    class_weight = {0: oo_weight, 1: 1.}\n",
    "    TrainDGen_1 = Generator0([features_trn['age'],features_trn['sex'], features_trn['hw'], \n",
    "                              features_trn['preg'], features_trn['loc'],features_trn['raw1'],features_trn['interval'],\n",
    "                              features_trn['wav2'],\n",
    "                              features_trn['mel1'],\n",
    "                              features_trn['cqt1'],\n",
    "                              features_trn['stft1']],features_trn['out_labels'],**params)()\n",
    "\n",
    "    model2.fit(TrainDGen_1,\n",
    "               validation_data = ([features_test['age'],features_test['sex'], features_test['hw'],                                   \n",
    "                                   features_test['preg'], features_test['loc'],features_test['raw1'],\n",
    "                                   features_test['interval'],features_test['wav2'],\n",
    "                                   features_test['mel1'],\n",
    "                                   features_test['cqt1'],\n",
    "                                   features_test['stft1']],features_test['out_labels']), \n",
    "               \n",
    "               callbacks=[lr,model2_callback],\n",
    "               steps_per_epoch=np.ceil(len(features_trn['out_labels'])/batch_size),\n",
    "               class_weight=class_weight, \n",
    "               epochs = n_epoch)\n",
    "    \n"
   ]
  },
  {
   "cell_type": "code",
   "execution_count": 38,
   "id": "5d9abb6a",
   "metadata": {
    "scrolled": true
   },
   "outputs": [
    {
     "data": {
      "text/plain": [
       "{'samp_sec': 20,\n",
       " 'pre_emphasis': 0,\n",
       " 'hop_length': 256,\n",
       " 'win_length': 512,\n",
       " 'n_mels': 120,\n",
       " 'filter_scale': 1,\n",
       " 'n_bins': 80,\n",
       " 'fmin': 10,\n",
       " 'maxlen1': 246000,\n",
       " 'min_dist': 500,\n",
       " 'max_interval_len': 192,\n",
       " 'trim': 1,\n",
       " 'use_raw': True,\n",
       " 'use_mel': True,\n",
       " 'use_cqt': False,\n",
       " 'use_stft': False,\n",
       " 'use_interval': True,\n",
       " 'use_wav2': False,\n",
       " 'per_sec': 16000,\n",
       " 'ord1': True,\n",
       " 'mm_mean': False,\n",
       " 'dp': 0,\n",
       " 'fc': False,\n",
       " 'ext': True,\n",
       " 'oo_weight': 3,\n",
       " 'mm_weight': 3,\n",
       " 'chaug': 10,\n",
       " 'cout': 0.8,\n",
       " 'wunknown': 1,\n",
       " 'mixup': True,\n",
       " 'n1': 0}"
      ]
     },
     "execution_count": 38,
     "metadata": {},
     "output_type": "execute_result"
    }
   ],
   "source": [
    "params_feature"
   ]
  },
  {
   "cell_type": "code",
   "execution_count": 39,
   "id": "08f47fb7",
   "metadata": {},
   "outputs": [],
   "source": [
    "params_feature['mel_shape'] = mel_input_shape\n",
    "params_feature['cqt_shape'] = cqt_input_shape\n",
    "params_feature['stft_shape'] = stft_input_shape\n",
    "params_feature['interval_input_shape'] = interval_input_shape\n",
    "params_feature['raw1_input_shape'] = raw1_input_shape\n",
    "params_feature['wav2_input_shape'] = wav2_input_shape\n",
    "params_feature['max_interval_len'] = max_interval_len"
   ]
  },
  {
   "cell_type": "code",
   "execution_count": null,
   "id": "7bf05dc7",
   "metadata": {},
   "outputs": [],
   "source": []
  },
  {
   "cell_type": "code",
   "execution_count": 40,
   "id": "7e94993e",
   "metadata": {},
   "outputs": [
    {
     "data": {
      "text/plain": [
       "{'samp_sec': 20,\n",
       " 'pre_emphasis': 0,\n",
       " 'hop_length': 256,\n",
       " 'win_length': 512,\n",
       " 'n_mels': 120,\n",
       " 'filter_scale': 1,\n",
       " 'n_bins': 80,\n",
       " 'fmin': 10,\n",
       " 'maxlen1': 246000,\n",
       " 'min_dist': 500,\n",
       " 'max_interval_len': 192,\n",
       " 'trim': 1,\n",
       " 'use_raw': True,\n",
       " 'use_mel': True,\n",
       " 'use_cqt': False,\n",
       " 'use_stft': False,\n",
       " 'use_interval': True,\n",
       " 'use_wav2': False,\n",
       " 'per_sec': 16000,\n",
       " 'ord1': True,\n",
       " 'mm_mean': False,\n",
       " 'dp': 0,\n",
       " 'fc': False,\n",
       " 'ext': True,\n",
       " 'oo_weight': 3,\n",
       " 'mm_weight': 3,\n",
       " 'chaug': 10,\n",
       " 'cout': 0.8,\n",
       " 'wunknown': 1,\n",
       " 'mixup': True,\n",
       " 'n1': 0,\n",
       " 'mel_shape': (120, 313, 1),\n",
       " 'cqt_shape': (1, 1, 1),\n",
       " 'stft_shape': (1, 1, 1),\n",
       " 'interval_input_shape': (192, 1),\n",
       " 'raw1_input_shape': (246000,),\n",
       " 'wav2_input_shape': (32, 768)}"
      ]
     },
     "execution_count": 40,
     "metadata": {},
     "output_type": "execute_result"
    }
   ],
   "source": [
    "params_feature"
   ]
  },
  {
   "cell_type": "code",
   "execution_count": 41,
   "id": "b5e75b1e",
   "metadata": {},
   "outputs": [],
   "source": [
    "#확인"
   ]
  },
  {
   "cell_type": "code",
   "execution_count": null,
   "id": "0e0424c5",
   "metadata": {},
   "outputs": [],
   "source": []
  },
  {
   "cell_type": "code",
   "execution_count": null,
   "id": "4704bb1e",
   "metadata": {},
   "outputs": [],
   "source": []
  },
  {
   "cell_type": "code",
   "execution_count": null,
   "id": "fa1452c1",
   "metadata": {},
   "outputs": [],
   "source": []
  },
  {
   "cell_type": "code",
   "execution_count": null,
   "id": "28572a1e",
   "metadata": {},
   "outputs": [],
   "source": []
  },
  {
   "cell_type": "code",
   "execution_count": 42,
   "id": "786d2ba7",
   "metadata": {},
   "outputs": [],
   "source": [
    "import pickle as pk\n",
    "def save_challenge_model(model_folder, model1, model2, m_name1, m_name2, param_feature) :\n",
    "    os.makedirs(model_folder, exist_ok=True)\n",
    "    info_fnm = os.path.join(model_folder, 'desc.pk')\n",
    "    filename1 = os.path.join(model_folder, m_name1 + '_model1.hdf5')\n",
    "    filename2 = os.path.join(model_folder, m_name2 + '_model2.hdf5')\n",
    "    model1.save(filename1)\n",
    "    model2.save(filename2)\n",
    "    param_feature['model1'] = m_name1\n",
    "    param_feature['model2'] = m_name2\n",
    "    param_feature['model_fnm1'] = filename1\n",
    "    param_feature['model_fnm2'] = filename2\n",
    "    with open(info_fnm, 'wb') as f:\n",
    "        pk.dump(param_feature, f, pk.HIGHEST_PROTOCOL)\n",
    "    return 1\n",
    "\n",
    "    with open(info_fnm, 'wb') as f:\n",
    "        pk.dump(param_feature, f, pk.HIGHEST_PROTOCOL)\n",
    "    return 1\n",
    "    "
   ]
  },
  {
   "cell_type": "code",
   "execution_count": 43,
   "id": "6b9ae924",
   "metadata": {},
   "outputs": [
    {
     "data": {
      "text/plain": [
       "'lcnn2'"
      ]
     },
     "execution_count": 43,
     "metadata": {},
     "output_type": "execute_result"
    }
   ],
   "source": [
    "model_folder"
   ]
  },
  {
   "cell_type": "code",
   "execution_count": 44,
   "id": "ed1124d7",
   "metadata": {},
   "outputs": [
    {
     "data": {
      "text/plain": [
       "1"
      ]
     },
     "execution_count": 44,
     "metadata": {},
     "output_type": "execute_result"
    }
   ],
   "source": [
    "save_challenge_model(model_folder, model1, model2, m_name1 = 'lcnn1', m_name2 = 'lcnn2', param_feature = params_feature)"
   ]
  },
  {
   "cell_type": "code",
   "execution_count": null,
   "id": "e05a195b",
   "metadata": {},
   "outputs": [],
   "source": []
  },
  {
   "cell_type": "code",
   "execution_count": 45,
   "id": "ba030c37",
   "metadata": {},
   "outputs": [],
   "source": [
    "def load_challenge_model(model_folder, verbose):\n",
    "    info_fnm = os.path.join(model_folder, 'desc.pk')\n",
    "    with open(info_fnm, 'rb') as f:\n",
    "        info_m = pk.load(f)\n",
    "\n",
    "    return info_m"
   ]
  },
  {
   "cell_type": "code",
   "execution_count": 46,
   "id": "19a747dc",
   "metadata": {},
   "outputs": [],
   "source": [
    "def run_challenge_model(model, data, recordings, verbose):\n",
    "    \n",
    "    murmur_classes = ['Present', 'Unknown', 'Absent']\n",
    "    outcome_classes = ['Abnormal', 'Normal']\n",
    "\n",
    "##########################################################################    \n",
    "    if model['model1'] == 'lcnn1' :\n",
    "        model1 = get_LCNN_o_4_dr_2(model['mel_shape'],model['cqt_shape'],model['stft_shape'], model['interval_input_shape'],\n",
    "                                   model['wav2_input_shape'],model['raw1_input_shape'], \n",
    "                                   use_mel = model['use_mel'],use_cqt = model['use_cqt'], use_stft = model['use_stft'], \n",
    "                                 ord1 = model['ord1'], dp = model['dp'], fc = model['fc'], ext = model['ext'],\n",
    "                                   use_wav2=model['use_wav2'],use_raw=model['use_raw'])  \n",
    "    if model['model2'] == 'lcnn2' :\n",
    "        model2 = get_LCNN_o_4_dr_2(model['mel_shape'],model['cqt_shape'],model['stft_shape'], model['interval_input_shape'],\n",
    "                                   model['wav2_input_shape'],model['raw1_input_shape'], \n",
    "                                   use_mel = model['use_mel'],use_cqt = model['use_cqt'], use_stft = model['use_stft'], \n",
    "                                 ord1 = model['ord1'], dp = model['dp'], fc = model['fc'], ext = model['ext'],\n",
    "                                   use_wav2=model['use_wav2'],use_raw=model['use_raw'])   \n",
    "    model1.load_weights(model['model_fnm1'])\n",
    "    model2.load_weights(model['model_fnm2'])\n",
    "############################################################################ \n",
    "\n",
    "\n",
    "    maxlen1 = params_feature['maxlen1']\n",
    "    min_dist = params_feature['min_dist']\n",
    "    max_interval_len = params_feature['max_interval_len']\n",
    "    \n",
    "    \n",
    "    # Load features.\n",
    "    features = get_feature_one(data, verbose = 0)\n",
    "\n",
    "    samp_sec = model['samp_sec'] \n",
    "    pre_emphasis = model['pre_emphasis']\n",
    "    hop_length = model['hop_length']\n",
    "    win_length = model['win_length']\n",
    "    n_mels = model['n_mels']\n",
    "    filter_scale = model['filter_scale']\n",
    "    n_bins = model['n_bins']\n",
    "    fmin = model['fmin']\n",
    "    trim = model['trim']\n",
    "    use_mel = model['use_mel']\n",
    "    use_cqt = model['use_cqt']\n",
    "    use_stft = model['use_stft']\n",
    "    use_interval = model['use_interval']\n",
    "    use_wav2 = model['use_wav2']\n",
    "    maxlen1 = model['maxlen1']\n",
    "    min_dist = model['min_dist']\n",
    "    per_sec = model['per_sec']\n",
    "    \n",
    "#    use_raw = model['use_raw']\n",
    "\n",
    "    \n",
    "\n",
    "    features['raw1'] = []\n",
    "    tmp_wav=[] \n",
    "    if use_raw:\n",
    "\n",
    "        for i in range(len(recordings)):\n",
    "            data = recordings[i]\n",
    "            tmp_wav.append(data)\n",
    "\n",
    "        padded =pad_sequences(tmp_wav, maxlen=maxlen1, dtype='float64', padding='post', truncating='post', value=0.0)\n",
    "\n",
    "        padded=np.array(padded, dtype=np.float32)\n",
    "        for i in range(len(padded)):\n",
    "            features['raw1'].append(padded[i])\n",
    "\n",
    "        features['raw1'] = np.array(features['raw1'])\n",
    "  \n",
    "    \n",
    "      \n",
    "    features['wav2'] = []\n",
    "    if use_wav2:\n",
    "        \n",
    "        \n",
    "        \n",
    "        tmp_pad = padded[:,np.newaxis,:]\n",
    "        \n",
    "        tmp=[]\n",
    "        for i in range(len(tmp_pad)):\n",
    "            tmp_feature = wav2vec_model(tmp_pad[i])\n",
    "            tmp.append(tmp_feature)\n",
    "            \n",
    "        tmp=np.array(tmp, dtype=np.float32)\n",
    "        new_tmp1=tmp.reshape(-1,32,768)\n",
    "        features['wav2']=new_tmp1\n",
    "    else:\n",
    "        M,N = model['wav2_input_shape']\n",
    "        new_tmp1 = np.zeros((padded.shape[0],M,N))\n",
    "        features['wav2']=new_tmp1\n",
    "        \n",
    "    features['interval'] = []\n",
    "    tmp_total_interval = [] \n",
    "       \n",
    "    if use_interval:\n",
    "\n",
    "\n",
    "        for i in tqdm.tqdm(range(len(recordings))) :\n",
    "            \n",
    "            datos=recordings[i]\n",
    "            filtros=sio.loadmat('./Filters1')\n",
    "            tmp_interval = []\n",
    "            n_samp = len(datos)//per_sec\n",
    "\n",
    "\n",
    "            try:\n",
    "                for k in range(n_samp):\n",
    "                    \n",
    "                    X = datos[k*per_sec:(k+1)*per_sec]\n",
    "                    Fs= per_sec\n",
    "                    Fpa20=filtros['Fpa20'];\t\t\t        # High pass filter\n",
    "                    Fpa20=Fpa20[0];\t\t\t\t\t# High pass filter\n",
    "                    Fpb100=filtros['Fpb100'];\t\t        # Low-pass Filter\n",
    "                    Fpb100=Fpb100[0];\t\t\t\t# Low-pass Filter\n",
    "                    Xf=FpassBand(X,Fpa20,Fpb100); \t                # Apply a passband filter\n",
    "                    Xf=vec_nor(Xf);\t\t\t\n",
    "\n",
    "                # Derivate of the Signal\n",
    "                    dX=derivate(Xf);\t\t\t\t# Derivate of the signal\n",
    "                    dX=vec_nor(dX);\t\t\t\t\t# Vector Normalizing\n",
    "                # Square of the signal\n",
    "                    dy=np.square(Xf);\n",
    "                    dy=vec_nor(dy);\n",
    "\n",
    "                    size=np.shape(Xf)\t\t\t\t# Rank or dimension of the array\n",
    "                    fil=size[0];\t\t\t\t\t# Number of rows\n",
    "\n",
    "                    positive=np.zeros((1,fil+1));                   # Initializating Positives Values Vector \n",
    "                    positive=positive[0];                           # Getting the Vector\n",
    "\n",
    "                    points=np.zeros((1,fil));                       # Initializating the all Peak Points Vector\n",
    "                    points=points[0];                               # Getting the point vector\n",
    "\n",
    "                    peaks=np.zeros((1,fil));                        # Initializating the s1-s1 Peak Vector\n",
    "                    peaks=peaks[0];                                 # Getting the point vector\n",
    "\n",
    "\n",
    "                    for i in range(0,fil):\n",
    "                        if dX[i]>0:\n",
    "                            positive[i]=1;\n",
    "                        else:\n",
    "                            positive[i]=0;\n",
    "\n",
    "                    for i in range(0,fil):\n",
    "                        if (positive[i]==1 and positive[i+1]==0):\n",
    "                            points[i]=Xf[i];\n",
    "                        else:\n",
    "                            points[i]=0;\n",
    "\n",
    "                    indexes=peakutils.indexes(points,thres=0.5/max(points), min_dist=min_dist);\n",
    "                    lenght=np.shape(indexes)\t\t\t# Get the length of the index vector\t\t\n",
    "                    lenght=lenght[0];\t\t\t\t# Get the value of the index vector\n",
    "\n",
    "                    for i in range(0,lenght):\n",
    "                        p=indexes[i];\n",
    "                        peaks[p]=points[p];\n",
    "\n",
    "                    n=np.arange(0,fil);                            # Vector to the X axes (Number of Samples)\n",
    "                    indexes =indexes+(k*per_sec)    \n",
    "                    tmp_peaks = np.array(indexes)\n",
    "\n",
    "\n",
    "                    tmp_interval.extend(tmp_peaks)\n",
    "\n",
    "                tmp_interval = np.array(tmp_interval)\n",
    "                tmp_interval = np.diff(tmp_interval)\n",
    "\n",
    "                tmp_total_interval.append(tmp_interval)\n",
    "\n",
    "\n",
    "            except:\n",
    "                print(i)\n",
    "                tmp_peaks = np.zeros(max_interval_len)\n",
    "                tmp_total_interval.append(tmp_peaks)\n",
    "\n",
    "    else :\n",
    "\n",
    "        tmp_peaks = np.zeros(max_interval_len)\n",
    "        tmp_total_interval.append(tmp_peaks)       \n",
    "\n",
    "\n",
    "    if use_interval:\n",
    "          \n",
    "        padded =pad_sequences(tmp_total_interval, maxlen=max_interval_len, dtype='float64', padding='post', truncating='post', value=0.0)\n",
    "\n",
    "        for i in range(len(padded)):\n",
    "            features['interval'].append(padded[i])\n",
    "             \n",
    "        for i in range(len(features['interval'])):\n",
    "            features['interval'][i]= features['interval'][i].reshape(-1,1)\n",
    "    \n",
    "        features['interval']=np.array(features['interval'])\n",
    "    \n",
    "        \n",
    "    else:\n",
    "        for i in range(len(tmp_interval)):\n",
    "            features['interval'].append(tmp_total_interval[i])\n",
    "        \n",
    "        for i in range(len(features['interval'])):\n",
    "            features['interval'][i]= features['interval'][i].reshape(-1,1)\n",
    "        features['interval']=np.array(features['interval'])\n",
    "    \n",
    "    \n",
    "    \n",
    "    features['mel1'] = []\n",
    "    for i in range(len(recordings)) :\n",
    "        if use_mel :\n",
    "            mel1 = feature_extract_melspec(recordings[i]/ 32768, samp_sec=samp_sec, pre_emphasis = pre_emphasis, hop_length=hop_length, \n",
    "                                           win_length = win_length, n_mels = n_mels)[0]\n",
    "        else :\n",
    "            mel1 = np.zeros( (1,1) )\n",
    "            \n",
    "        features['mel1'].append(mel1)\n",
    "        \n",
    "    M, N = features['mel1'][0].shape\n",
    "    \n",
    "    if use_mel :\n",
    "        for i in range(len(features['mel1'])) :\n",
    "            features['mel1'][i] = features['mel1'][i].reshape(M,N,1)   \n",
    "    \n",
    "    features['mel1'] = np.array(features['mel1'])\n",
    "\n",
    "    \n",
    "  \n",
    "    features['cqt1'] = []\n",
    "    for i in range(len(recordings)) :\n",
    "        if use_cqt :\n",
    "            mel1 = feature_extract_cqt(recordings[i], samp_sec=samp_sec, pre_emphasis = pre_emphasis, filter_scale = filter_scale, \n",
    "                                        n_bins = n_bins, fmin = fmin)[0]\n",
    "        else:\n",
    "            mel1 = np.zeros( (1,1,1) )\n",
    "            \n",
    "        features['cqt1'].append(mel1)\n",
    "        \n",
    "    M, N,__ = features['cqt1'][0].shape\n",
    "    \n",
    "    if use_cqt :\n",
    "        for i in range(len(features['cqt1'])) :\n",
    "            features['cqt1'][i] = features['cqt1'][i].reshape(M,N,1)   \n",
    "    \n",
    "    features['cqt1'] = np.array(features['cqt1'])\n",
    "    \n",
    "    \n",
    "    features['stft1'] = []\n",
    "    for i in range(len(recordings)) :\n",
    "        if use_stft :\n",
    "            mel1 = feature_extract_stft(recordings[i]/ 32768, samp_sec=samp_sec, pre_emphasis = pre_emphasis, hop_length=hop_length, \n",
    "                                        win_length = win_length)[0]\n",
    "        else :\n",
    "            mel1 = np.zeros( (1,1,1) )\n",
    "        \n",
    "        features['stft1'].append(mel1)\n",
    "        \n",
    "    M, N,__ = features['stft1'][0].shape\n",
    "    if use_stft :\n",
    "        for i in range(len(features['stft1'])) :\n",
    "            features['stft1'][i] = features['stft1'][i].reshape(M,N,1)           \n",
    "    features['stft1'] = np.array(features['stft1'])\n",
    "    \n",
    "#     return features       \n",
    "\n",
    "    #    print(features)\n",
    "    # Impute missing data.\n",
    "    res1 = model1.predict([features['age'], features['sex'], features['hw'], features['preg'], \n",
    "                           features['loc'], features['raw1'],features['interval'],features['wav2'],features['mel1'], features['stft1'], features['cqt1']])\n",
    "    res2 = model2.predict([features['age'], features['sex'], features['hw'], features['preg'], \n",
    "                           features['loc'], features['raw1'],features['interval'],features['wav2'],features['mel1'], features['stft1'], features['cqt1']])\n",
    "    if model['ord1'] :\n",
    "        idx1 = res1.argmax(axis=0)[0]\n",
    "        murmur_p = res1[idx1,]  ## mumur 확률 최대화 되는 애 뽑기ddd\n",
    "        murmur_probabilities = np.zeros((3,))\n",
    "        murmur_probabilities[0] = murmur_p[0]\n",
    "        murmur_probabilities[1] = 0\n",
    "        murmur_probabilities[2] = murmur_p[1]\n",
    "        outcome_probabilities = res2.mean(axis = 0) ##  outcome 은 그냥 평균으로 뽑기\n",
    "    else :\n",
    "        if model['mm_mean'] :\n",
    "            murmur_probabilities = res1.mean(axis = 0)\n",
    "        else :\n",
    "            idx1 = res1.argmax(axis=0)[0]\n",
    "            murmur_probabilities = res1[idx1,]  ## mumur 확률 최대화 되는 애 뽑기\n",
    "        outcome_probabilities = res2.mean(axis = 0) ##  outcome 은 그냥 평균으로 뽑기\n",
    "\n",
    "        \n",
    "    murmur_labels = np.zeros(len(murmur_classes), dtype=np.int_)\n",
    "    \n",
    "    \n",
    "    if murmur_probabilities[0] > 0.482 :\n",
    "        idx = 0\n",
    "    else :\n",
    "        idx = 2\n",
    "    murmur_labels[idx] = 1\n",
    "\n",
    "    outcome_labels = np.zeros(len(outcome_classes), dtype=np.int_)\n",
    "    if outcome_probabilities[0] > 0.607 :\n",
    "        idx = 0\n",
    "    else :\n",
    "        idx = 1    \n",
    "        # idx = np.argmax(outcome_probabilities)\n",
    "    outcome_labels[idx] = 1\n",
    "    \n",
    "    # Concatenate classes, labels, and probabilities.\n",
    "    classes = murmur_classes + outcome_classes\n",
    "    labels = np.concatenate((murmur_labels, outcome_labels))\n",
    "    probabilities = np.concatenate((murmur_probabilities, outcome_probabilities))\n",
    "    \n",
    "    return classes, labels, probabilities"
   ]
  },
  {
   "cell_type": "code",
   "execution_count": 47,
   "id": "b5eecd4a",
   "metadata": {
    "scrolled": true
   },
   "outputs": [
    {
     "data": {
      "text/plain": [
       "'lcnn2'"
      ]
     },
     "execution_count": 47,
     "metadata": {},
     "output_type": "execute_result"
    }
   ],
   "source": [
    "model_folder"
   ]
  },
  {
   "cell_type": "code",
   "execution_count": 48,
   "id": "cd5b523f",
   "metadata": {},
   "outputs": [],
   "source": [
    "data_folder = test_folder"
   ]
  },
  {
   "cell_type": "code",
   "execution_count": 49,
   "id": "1f523ff0",
   "metadata": {},
   "outputs": [
    {
     "data": {
      "text/plain": [
       "'/home/jk21/Downloads/Data/data/murmur/test'"
      ]
     },
     "execution_count": 49,
     "metadata": {},
     "output_type": "execute_result"
    }
   ],
   "source": [
    "data_folder"
   ]
  },
  {
   "cell_type": "code",
   "execution_count": 50,
   "id": "c67ffdf6",
   "metadata": {},
   "outputs": [],
   "source": [
    "output_folder ='/home/jk21/Documents/hmd/jk_classifier/out_lcnn2'"
   ]
  },
  {
   "cell_type": "code",
   "execution_count": 51,
   "id": "89e8d650",
   "metadata": {},
   "outputs": [],
   "source": [
    "allow_failures=True"
   ]
  },
  {
   "cell_type": "code",
   "execution_count": 52,
   "id": "bccc27ef",
   "metadata": {},
   "outputs": [],
   "source": [
    "verbose=1"
   ]
  },
  {
   "cell_type": "code",
   "execution_count": null,
   "id": "101c582c",
   "metadata": {},
   "outputs": [],
   "source": []
  },
  {
   "cell_type": "code",
   "execution_count": 53,
   "id": "73579324",
   "metadata": {},
   "outputs": [],
   "source": [
    "model = load_challenge_model(model_folder, verbose)"
   ]
  },
  {
   "cell_type": "code",
   "execution_count": 54,
   "id": "20a7edc2",
   "metadata": {},
   "outputs": [],
   "source": [
    "patient_files = find_patient_files(data_folder)"
   ]
  },
  {
   "cell_type": "code",
   "execution_count": 55,
   "id": "450b3026",
   "metadata": {},
   "outputs": [],
   "source": [
    "num_patient_files = len(patient_files)"
   ]
  },
  {
   "cell_type": "code",
   "execution_count": 56,
   "id": "2ed2bb8f",
   "metadata": {},
   "outputs": [],
   "source": [
    "patient_data = load_patient_data(patient_files[0])"
   ]
  },
  {
   "cell_type": "code",
   "execution_count": 57,
   "id": "18f0a77e",
   "metadata": {},
   "outputs": [
    {
     "data": {
      "text/plain": [
       "'33151 4 4000\\nAV 33151_AV.hea 33151_AV.wav 33151_AV.tsv\\nPV 33151_PV.hea 33151_PV.wav 33151_PV.tsv\\nTV 33151_TV.hea 33151_TV.wav 33151_TV.tsv\\nMV 33151_MV.hea 33151_MV.wav 33151_MV.tsv\\n#Age: Child\\n#Sex: Female\\n#Height: 141.0\\n#Weight: 30.9\\n#Pregnancy status: False\\n#Murmur: Present\\n#Murmur locations: MV+TV\\n#Most audible location: TV\\n#Systolic murmur timing: Holosystolic\\n#Systolic murmur shape: Plateau\\n#Systolic murmur grading: I/VI\\n#Systolic murmur pitch: Low\\n#Systolic murmur quality: Harsh\\n#Diastolic murmur timing: nan\\n#Diastolic murmur shape: nan\\n#Diastolic murmur grading: nan\\n#Diastolic murmur pitch: nan\\n#Diastolic murmur quality: nan\\n#Outcome: Abnormal\\n#Campaign: CC2015\\n#Additional ID: nan\\n'"
      ]
     },
     "execution_count": 57,
     "metadata": {},
     "output_type": "execute_result"
    }
   ],
   "source": [
    "patient_data"
   ]
  },
  {
   "cell_type": "code",
   "execution_count": 58,
   "id": "f039e162",
   "metadata": {},
   "outputs": [],
   "source": [
    "recordings = load_recordings(data_folder, patient_data)"
   ]
  },
  {
   "cell_type": "code",
   "execution_count": 59,
   "id": "d3acd534",
   "metadata": {
    "scrolled": true
   },
   "outputs": [
    {
     "name": "stderr",
     "output_type": "stream",
     "text": [
      "100%|█████████████████████████████████████████████| 4/4 [00:00<00:00,  9.69it/s]\n"
     ]
    }
   ],
   "source": [
    "classes, labels, probabilities = run_challenge_model(model, patient_data, recordings, verbose)"
   ]
  },
  {
   "cell_type": "code",
   "execution_count": 60,
   "id": "9bb40d85",
   "metadata": {},
   "outputs": [
    {
     "data": {
      "text/plain": [
       "array([0.78276169, 0.        , 0.21723829, 0.77193379, 0.22806621])"
      ]
     },
     "execution_count": 60,
     "metadata": {},
     "output_type": "execute_result"
    }
   ],
   "source": [
    "probabilities"
   ]
  },
  {
   "cell_type": "code",
   "execution_count": 61,
   "id": "970b87e5",
   "metadata": {},
   "outputs": [
    {
     "data": {
      "text/plain": [
       "['Present', 'Unknown', 'Absent', 'Abnormal', 'Normal']"
      ]
     },
     "execution_count": 61,
     "metadata": {},
     "output_type": "execute_result"
    }
   ],
   "source": [
    "classes"
   ]
  },
  {
   "cell_type": "code",
   "execution_count": 62,
   "id": "b6a44c38",
   "metadata": {},
   "outputs": [],
   "source": [
    "# Run model.\n",
    "def run_model(model_folder, data_folder, output_folder, allow_failures, verbose=1):\n",
    "    # Load models.\n",
    "    if verbose >= 1:\n",
    "        print('Loading Challenge model...')\n",
    "\n",
    "    model = load_challenge_model(model_folder, verbose) ### Teams: Implement this function!!!\n",
    "\n",
    "    # Find the patient data files.\n",
    "    patient_files = find_patient_files(data_folder)\n",
    "    num_patient_files = len(patient_files)\n",
    "\n",
    "    if num_patient_files==0:\n",
    "        raise Exception('No data was provided.')\n",
    "\n",
    "    # Create a folder for the Challenge outputs if it does not already exist.\n",
    "    os.makedirs(output_folder, exist_ok=True)\n",
    "\n",
    "    # Run the team's model on the Challenge data.\n",
    "    if verbose >= 1:\n",
    "        print('Running model on Challenge data...')\n",
    "\n",
    "    # Iterate over the patient files.\n",
    "    for i in range(num_patient_files):\n",
    "        if verbose >= 2:\n",
    "            print('    {}/{}...'.format(i+1, num_patient_files))\n",
    "\n",
    "        patient_data = load_patient_data(patient_files[i])\n",
    "        recordings = load_recordings(data_folder, patient_data)\n",
    "\n",
    "        # Allow or disallow the model to fail on parts of the data; helpful for debugging.\n",
    "        try:\n",
    "            classes, labels, probabilities = run_challenge_model(model, patient_data, recordings, verbose) ### Teams: Implement this function!!!\n",
    "        except:\n",
    "            if allow_failures:\n",
    "                if verbose >= 2:\n",
    "                    print('... failed.')\n",
    "                classes, labels, probabilities = list(), list(), list()\n",
    "            else:\n",
    "                raise\n",
    "\n",
    "        # Save Challenge outputs.\n",
    "        head, tail = os.path.split(patient_files[i])\n",
    "        root, extension = os.path.splitext(tail)\n",
    "        output_file = os.path.join(output_folder, root + '.csv')\n",
    "        patient_id = get_patient_id(patient_data)\n",
    "        save_challenge_outputs(output_file, patient_id, classes, labels, probabilities)\n",
    "\n",
    "    if verbose >= 1:\n",
    "        print('Done.')"
   ]
  },
  {
   "cell_type": "code",
   "execution_count": 63,
   "id": "7fe188c6",
   "metadata": {},
   "outputs": [
    {
     "data": {
      "text/plain": [
       "'/home/jk21/Downloads/Data/data/murmur/test'"
      ]
     },
     "execution_count": 63,
     "metadata": {},
     "output_type": "execute_result"
    }
   ],
   "source": [
    "test_folder"
   ]
  },
  {
   "cell_type": "code",
   "execution_count": 64,
   "id": "38ee9f70",
   "metadata": {},
   "outputs": [],
   "source": [
    "output_folder = '/home/jk21/Documents/hmd/jk_classifier/out_lcnn2'"
   ]
  },
  {
   "cell_type": "code",
   "execution_count": 65,
   "id": "9a8580ab",
   "metadata": {},
   "outputs": [
    {
     "data": {
      "text/plain": [
       "'lcnn2'"
      ]
     },
     "execution_count": 65,
     "metadata": {},
     "output_type": "execute_result"
    }
   ],
   "source": [
    "model_folder"
   ]
  },
  {
   "cell_type": "code",
   "execution_count": 66,
   "id": "d4be81f7",
   "metadata": {},
   "outputs": [
    {
     "name": "stdout",
     "output_type": "stream",
     "text": [
      "Loading Challenge model...\n",
      "Running model on Challenge data...\n",
      "    1/191...\n"
     ]
    },
    {
     "name": "stderr",
     "output_type": "stream",
     "text": [
      "100%|█████████████████████████████████████████████| 4/4 [00:00<00:00, 10.42it/s]\n"
     ]
    },
    {
     "name": "stdout",
     "output_type": "stream",
     "text": [
      "    2/191...\n"
     ]
    },
    {
     "name": "stderr",
     "output_type": "stream",
     "text": [
      "100%|█████████████████████████████████████████████| 2/2 [00:00<00:00,  9.19it/s]\n"
     ]
    },
    {
     "name": "stdout",
     "output_type": "stream",
     "text": [
      "WARNING:tensorflow:5 out of the last 5 calls to <function Model.make_predict_function.<locals>.predict_function at 0x7f14af4515e0> triggered tf.function retracing. Tracing is expensive and the excessive number of tracings could be due to (1) creating @tf.function repeatedly in a loop, (2) passing tensors with different shapes, (3) passing Python objects instead of tensors. For (1), please define your @tf.function outside of the loop. For (2), @tf.function has experimental_relax_shapes=True option that relaxes argument shapes that can avoid unnecessary retracing. For (3), please refer to https://www.tensorflow.org/guide/function#controlling_retracing and https://www.tensorflow.org/api_docs/python/tf/function for  more details.\n"
     ]
    },
    {
     "name": "stderr",
     "output_type": "stream",
     "text": [
      "WARNING:tensorflow:5 out of the last 5 calls to <function Model.make_predict_function.<locals>.predict_function at 0x7f14af4515e0> triggered tf.function retracing. Tracing is expensive and the excessive number of tracings could be due to (1) creating @tf.function repeatedly in a loop, (2) passing tensors with different shapes, (3) passing Python objects instead of tensors. For (1), please define your @tf.function outside of the loop. For (2), @tf.function has experimental_relax_shapes=True option that relaxes argument shapes that can avoid unnecessary retracing. For (3), please refer to https://www.tensorflow.org/guide/function#controlling_retracing and https://www.tensorflow.org/api_docs/python/tf/function for  more details.\n"
     ]
    },
    {
     "name": "stdout",
     "output_type": "stream",
     "text": [
      "WARNING:tensorflow:6 out of the last 6 calls to <function Model.make_predict_function.<locals>.predict_function at 0x7f14af451f70> triggered tf.function retracing. Tracing is expensive and the excessive number of tracings could be due to (1) creating @tf.function repeatedly in a loop, (2) passing tensors with different shapes, (3) passing Python objects instead of tensors. For (1), please define your @tf.function outside of the loop. For (2), @tf.function has experimental_relax_shapes=True option that relaxes argument shapes that can avoid unnecessary retracing. For (3), please refer to https://www.tensorflow.org/guide/function#controlling_retracing and https://www.tensorflow.org/api_docs/python/tf/function for  more details.\n"
     ]
    },
    {
     "name": "stderr",
     "output_type": "stream",
     "text": [
      "WARNING:tensorflow:6 out of the last 6 calls to <function Model.make_predict_function.<locals>.predict_function at 0x7f14af451f70> triggered tf.function retracing. Tracing is expensive and the excessive number of tracings could be due to (1) creating @tf.function repeatedly in a loop, (2) passing tensors with different shapes, (3) passing Python objects instead of tensors. For (1), please define your @tf.function outside of the loop. For (2), @tf.function has experimental_relax_shapes=True option that relaxes argument shapes that can avoid unnecessary retracing. For (3), please refer to https://www.tensorflow.org/guide/function#controlling_retracing and https://www.tensorflow.org/api_docs/python/tf/function for  more details.\n"
     ]
    },
    {
     "name": "stdout",
     "output_type": "stream",
     "text": [
      "    3/191...\n"
     ]
    },
    {
     "name": "stderr",
     "output_type": "stream",
     "text": [
      "100%|█████████████████████████████████████████████| 4/4 [00:00<00:00,  6.07it/s]\n"
     ]
    },
    {
     "name": "stdout",
     "output_type": "stream",
     "text": [
      "    4/191...\n"
     ]
    },
    {
     "name": "stderr",
     "output_type": "stream",
     "text": [
      "100%|█████████████████████████████████████████████| 2/2 [00:00<00:00,  4.87it/s]\n"
     ]
    },
    {
     "name": "stdout",
     "output_type": "stream",
     "text": [
      "    5/191...\n"
     ]
    },
    {
     "name": "stderr",
     "output_type": "stream",
     "text": [
      "100%|█████████████████████████████████████████████| 3/3 [00:00<00:00,  5.48it/s]\n"
     ]
    },
    {
     "name": "stdout",
     "output_type": "stream",
     "text": [
      "    6/191...\n"
     ]
    },
    {
     "name": "stderr",
     "output_type": "stream",
     "text": [
      "100%|█████████████████████████████████████████████| 1/1 [00:00<00:00,  3.56it/s]\n"
     ]
    },
    {
     "name": "stdout",
     "output_type": "stream",
     "text": [
      "    7/191...\n"
     ]
    },
    {
     "name": "stderr",
     "output_type": "stream",
     "text": [
      "100%|█████████████████████████████████████████████| 4/4 [00:00<00:00,  5.11it/s]\n"
     ]
    },
    {
     "name": "stdout",
     "output_type": "stream",
     "text": [
      "    8/191...\n"
     ]
    },
    {
     "name": "stderr",
     "output_type": "stream",
     "text": [
      "100%|█████████████████████████████████████████████| 4/4 [00:00<00:00, 11.48it/s]\n"
     ]
    },
    {
     "name": "stdout",
     "output_type": "stream",
     "text": [
      "    9/191...\n"
     ]
    },
    {
     "name": "stderr",
     "output_type": "stream",
     "text": [
      "100%|█████████████████████████████████████████████| 4/4 [00:00<00:00,  4.74it/s]\n"
     ]
    },
    {
     "name": "stdout",
     "output_type": "stream",
     "text": [
      "    10/191...\n"
     ]
    },
    {
     "name": "stderr",
     "output_type": "stream",
     "text": [
      "100%|█████████████████████████████████████████████| 4/4 [00:00<00:00,  5.02it/s]\n"
     ]
    },
    {
     "name": "stdout",
     "output_type": "stream",
     "text": [
      "    11/191...\n"
     ]
    },
    {
     "name": "stderr",
     "output_type": "stream",
     "text": [
      "100%|█████████████████████████████████████████████| 4/4 [00:00<00:00,  5.05it/s]\n"
     ]
    },
    {
     "name": "stdout",
     "output_type": "stream",
     "text": [
      "    12/191...\n"
     ]
    },
    {
     "name": "stderr",
     "output_type": "stream",
     "text": [
      "100%|█████████████████████████████████████████████| 2/2 [00:00<00:00,  4.54it/s]\n"
     ]
    },
    {
     "name": "stdout",
     "output_type": "stream",
     "text": [
      "    13/191...\n"
     ]
    },
    {
     "name": "stderr",
     "output_type": "stream",
     "text": [
      "100%|█████████████████████████████████████████████| 3/3 [00:00<00:00,  7.02it/s]\n"
     ]
    },
    {
     "name": "stdout",
     "output_type": "stream",
     "text": [
      "    14/191...\n"
     ]
    },
    {
     "name": "stderr",
     "output_type": "stream",
     "text": [
      "100%|█████████████████████████████████████████████| 4/4 [00:00<00:00,  5.20it/s]\n"
     ]
    },
    {
     "name": "stdout",
     "output_type": "stream",
     "text": [
      "    15/191...\n"
     ]
    },
    {
     "name": "stderr",
     "output_type": "stream",
     "text": [
      "100%|█████████████████████████████████████████████| 2/2 [00:00<00:00,  5.03it/s]\n"
     ]
    },
    {
     "name": "stdout",
     "output_type": "stream",
     "text": [
      "    16/191...\n"
     ]
    },
    {
     "name": "stderr",
     "output_type": "stream",
     "text": [
      "100%|█████████████████████████████████████████████| 4/4 [00:00<00:00,  6.26it/s]\n"
     ]
    },
    {
     "name": "stdout",
     "output_type": "stream",
     "text": [
      "    17/191...\n"
     ]
    },
    {
     "name": "stderr",
     "output_type": "stream",
     "text": [
      "100%|█████████████████████████████████████████████| 5/5 [00:00<00:00,  8.84it/s]\n"
     ]
    },
    {
     "name": "stdout",
     "output_type": "stream",
     "text": [
      "    18/191...\n"
     ]
    },
    {
     "name": "stderr",
     "output_type": "stream",
     "text": [
      "100%|█████████████████████████████████████████████| 1/1 [00:00<00:00, 11.70it/s]\n"
     ]
    },
    {
     "name": "stdout",
     "output_type": "stream",
     "text": [
      "    19/191...\n"
     ]
    },
    {
     "name": "stderr",
     "output_type": "stream",
     "text": [
      "100%|█████████████████████████████████████████████| 4/4 [00:00<00:00,  7.29it/s]\n"
     ]
    },
    {
     "name": "stdout",
     "output_type": "stream",
     "text": [
      "    20/191...\n"
     ]
    },
    {
     "name": "stderr",
     "output_type": "stream",
     "text": [
      "100%|█████████████████████████████████████████████| 4/4 [00:00<00:00,  7.50it/s]\n"
     ]
    },
    {
     "name": "stdout",
     "output_type": "stream",
     "text": [
      "    21/191...\n"
     ]
    },
    {
     "name": "stderr",
     "output_type": "stream",
     "text": [
      "100%|█████████████████████████████████████████████| 2/2 [00:00<00:00,  4.55it/s]\n"
     ]
    },
    {
     "name": "stdout",
     "output_type": "stream",
     "text": [
      "    22/191...\n"
     ]
    },
    {
     "name": "stderr",
     "output_type": "stream",
     "text": [
      "100%|█████████████████████████████████████████████| 1/1 [00:00<00:00,  5.76it/s]\n"
     ]
    },
    {
     "name": "stdout",
     "output_type": "stream",
     "text": [
      "    23/191...\n"
     ]
    },
    {
     "name": "stderr",
     "output_type": "stream",
     "text": [
      "100%|█████████████████████████████████████████████| 2/2 [00:00<00:00,  4.41it/s]\n"
     ]
    },
    {
     "name": "stdout",
     "output_type": "stream",
     "text": [
      "    24/191...\n"
     ]
    },
    {
     "name": "stderr",
     "output_type": "stream",
     "text": [
      "100%|█████████████████████████████████████████████| 3/3 [00:00<00:00,  4.53it/s]\n"
     ]
    },
    {
     "name": "stdout",
     "output_type": "stream",
     "text": [
      "    25/191...\n"
     ]
    },
    {
     "name": "stderr",
     "output_type": "stream",
     "text": [
      "100%|█████████████████████████████████████████████| 4/4 [00:00<00:00,  4.29it/s]\n"
     ]
    },
    {
     "name": "stdout",
     "output_type": "stream",
     "text": [
      "    26/191...\n"
     ]
    },
    {
     "name": "stderr",
     "output_type": "stream",
     "text": [
      "100%|█████████████████████████████████████████████| 3/3 [00:00<00:00,  4.91it/s]\n"
     ]
    },
    {
     "name": "stdout",
     "output_type": "stream",
     "text": [
      "    27/191...\n"
     ]
    },
    {
     "name": "stderr",
     "output_type": "stream",
     "text": [
      "100%|█████████████████████████████████████████████| 2/2 [00:00<00:00,  3.41it/s]\n"
     ]
    },
    {
     "name": "stdout",
     "output_type": "stream",
     "text": [
      "    28/191...\n"
     ]
    },
    {
     "name": "stderr",
     "output_type": "stream",
     "text": [
      "100%|█████████████████████████████████████████████| 3/3 [00:00<00:00,  4.74it/s]\n"
     ]
    },
    {
     "name": "stdout",
     "output_type": "stream",
     "text": [
      "    29/191...\n"
     ]
    },
    {
     "name": "stderr",
     "output_type": "stream",
     "text": [
      "100%|█████████████████████████████████████████████| 3/3 [00:00<00:00,  5.02it/s]\n"
     ]
    },
    {
     "name": "stdout",
     "output_type": "stream",
     "text": [
      "    30/191...\n"
     ]
    },
    {
     "name": "stderr",
     "output_type": "stream",
     "text": [
      "100%|█████████████████████████████████████████████| 4/4 [00:00<00:00,  4.93it/s]\n"
     ]
    },
    {
     "name": "stdout",
     "output_type": "stream",
     "text": [
      "    31/191...\n"
     ]
    },
    {
     "name": "stderr",
     "output_type": "stream",
     "text": [
      "100%|█████████████████████████████████████████████| 3/3 [00:00<00:00,  5.83it/s]\n"
     ]
    },
    {
     "name": "stdout",
     "output_type": "stream",
     "text": [
      "    32/191...\n"
     ]
    },
    {
     "name": "stderr",
     "output_type": "stream",
     "text": [
      "100%|█████████████████████████████████████████████| 2/2 [00:00<00:00,  5.06it/s]\n"
     ]
    },
    {
     "name": "stdout",
     "output_type": "stream",
     "text": [
      "    33/191...\n"
     ]
    },
    {
     "name": "stderr",
     "output_type": "stream",
     "text": [
      "100%|█████████████████████████████████████████████| 1/1 [00:00<00:00,  4.07it/s]\n"
     ]
    },
    {
     "name": "stdout",
     "output_type": "stream",
     "text": [
      "    34/191...\n"
     ]
    },
    {
     "name": "stderr",
     "output_type": "stream",
     "text": [
      "100%|█████████████████████████████████████████████| 3/3 [00:00<00:00,  5.41it/s]\n"
     ]
    },
    {
     "name": "stdout",
     "output_type": "stream",
     "text": [
      "    35/191...\n"
     ]
    },
    {
     "name": "stderr",
     "output_type": "stream",
     "text": [
      "100%|█████████████████████████████████████████████| 3/3 [00:00<00:00,  4.70it/s]\n"
     ]
    },
    {
     "name": "stdout",
     "output_type": "stream",
     "text": [
      "    36/191...\n"
     ]
    },
    {
     "name": "stderr",
     "output_type": "stream",
     "text": [
      "100%|█████████████████████████████████████████████| 3/3 [00:00<00:00,  6.71it/s]\n"
     ]
    },
    {
     "name": "stdout",
     "output_type": "stream",
     "text": [
      "    37/191...\n"
     ]
    },
    {
     "name": "stderr",
     "output_type": "stream",
     "text": [
      "100%|█████████████████████████████████████████████| 3/3 [00:00<00:00,  8.83it/s]\n"
     ]
    },
    {
     "name": "stdout",
     "output_type": "stream",
     "text": [
      "    38/191...\n"
     ]
    },
    {
     "name": "stderr",
     "output_type": "stream",
     "text": [
      "100%|█████████████████████████████████████████████| 5/5 [00:00<00:00,  5.16it/s]\n"
     ]
    },
    {
     "name": "stdout",
     "output_type": "stream",
     "text": [
      "    39/191...\n"
     ]
    },
    {
     "name": "stderr",
     "output_type": "stream",
     "text": [
      "100%|█████████████████████████████████████████████| 4/4 [00:00<00:00,  4.73it/s]\n"
     ]
    },
    {
     "name": "stdout",
     "output_type": "stream",
     "text": [
      "    40/191...\n"
     ]
    },
    {
     "name": "stderr",
     "output_type": "stream",
     "text": [
      "100%|█████████████████████████████████████████████| 2/2 [00:00<00:00,  4.71it/s]\n"
     ]
    },
    {
     "name": "stdout",
     "output_type": "stream",
     "text": [
      "    41/191...\n"
     ]
    },
    {
     "name": "stderr",
     "output_type": "stream",
     "text": [
      "100%|█████████████████████████████████████████████| 4/4 [00:00<00:00,  6.95it/s]\n"
     ]
    },
    {
     "name": "stdout",
     "output_type": "stream",
     "text": [
      "    42/191...\n"
     ]
    },
    {
     "name": "stderr",
     "output_type": "stream",
     "text": [
      "100%|█████████████████████████████████████████████| 3/3 [00:00<00:00,  5.47it/s]\n"
     ]
    },
    {
     "name": "stdout",
     "output_type": "stream",
     "text": [
      "    43/191...\n"
     ]
    },
    {
     "name": "stderr",
     "output_type": "stream",
     "text": [
      "100%|█████████████████████████████████████████████| 3/3 [00:00<00:00,  7.89it/s]\n"
     ]
    },
    {
     "name": "stdout",
     "output_type": "stream",
     "text": [
      "    44/191...\n"
     ]
    },
    {
     "name": "stderr",
     "output_type": "stream",
     "text": [
      "100%|█████████████████████████████████████████████| 2/2 [00:00<00:00,  4.42it/s]\n"
     ]
    },
    {
     "name": "stdout",
     "output_type": "stream",
     "text": [
      "    45/191...\n"
     ]
    },
    {
     "name": "stderr",
     "output_type": "stream",
     "text": [
      "100%|█████████████████████████████████████████████| 4/4 [00:00<00:00,  4.34it/s]\n"
     ]
    },
    {
     "name": "stdout",
     "output_type": "stream",
     "text": [
      "    46/191...\n"
     ]
    },
    {
     "name": "stderr",
     "output_type": "stream",
     "text": [
      "100%|█████████████████████████████████████████████| 4/4 [00:00<00:00,  5.03it/s]\n"
     ]
    },
    {
     "name": "stdout",
     "output_type": "stream",
     "text": [
      "    47/191...\n"
     ]
    },
    {
     "name": "stderr",
     "output_type": "stream",
     "text": [
      "100%|█████████████████████████████████████████████| 4/4 [00:01<00:00,  3.80it/s]\n"
     ]
    },
    {
     "name": "stdout",
     "output_type": "stream",
     "text": [
      "    48/191...\n"
     ]
    },
    {
     "name": "stderr",
     "output_type": "stream",
     "text": [
      "100%|█████████████████████████████████████████████| 4/4 [00:00<00:00,  4.77it/s]\n"
     ]
    },
    {
     "name": "stdout",
     "output_type": "stream",
     "text": [
      "    49/191...\n"
     ]
    },
    {
     "name": "stderr",
     "output_type": "stream",
     "text": [
      "100%|█████████████████████████████████████████████| 2/2 [00:00<00:00,  5.01it/s]\n"
     ]
    },
    {
     "name": "stdout",
     "output_type": "stream",
     "text": [
      "    50/191...\n"
     ]
    },
    {
     "name": "stderr",
     "output_type": "stream",
     "text": [
      "100%|█████████████████████████████████████████████| 2/2 [00:00<00:00,  5.49it/s]\n"
     ]
    },
    {
     "name": "stdout",
     "output_type": "stream",
     "text": [
      "    51/191...\n"
     ]
    },
    {
     "name": "stderr",
     "output_type": "stream",
     "text": [
      "100%|█████████████████████████████████████████████| 2/2 [00:00<00:00,  7.69it/s]\n"
     ]
    },
    {
     "name": "stdout",
     "output_type": "stream",
     "text": [
      "    52/191...\n"
     ]
    },
    {
     "name": "stderr",
     "output_type": "stream",
     "text": [
      "100%|█████████████████████████████████████████████| 5/5 [00:00<00:00,  6.66it/s]\n"
     ]
    },
    {
     "name": "stdout",
     "output_type": "stream",
     "text": [
      "    53/191...\n"
     ]
    },
    {
     "name": "stderr",
     "output_type": "stream",
     "text": [
      "100%|█████████████████████████████████████████████| 2/2 [00:00<00:00,  4.75it/s]\n"
     ]
    },
    {
     "name": "stdout",
     "output_type": "stream",
     "text": [
      "    54/191...\n"
     ]
    },
    {
     "name": "stderr",
     "output_type": "stream",
     "text": [
      "100%|█████████████████████████████████████████████| 4/4 [00:00<00:00,  4.50it/s]\n"
     ]
    },
    {
     "name": "stdout",
     "output_type": "stream",
     "text": [
      "    55/191...\n"
     ]
    },
    {
     "name": "stderr",
     "output_type": "stream",
     "text": [
      "100%|█████████████████████████████████████████████| 4/4 [00:00<00:00,  5.29it/s]\n"
     ]
    },
    {
     "name": "stdout",
     "output_type": "stream",
     "text": [
      "    56/191...\n"
     ]
    },
    {
     "name": "stderr",
     "output_type": "stream",
     "text": [
      "100%|█████████████████████████████████████████████| 4/4 [00:00<00:00,  5.17it/s]\n"
     ]
    },
    {
     "name": "stdout",
     "output_type": "stream",
     "text": [
      "    57/191...\n"
     ]
    },
    {
     "name": "stderr",
     "output_type": "stream",
     "text": [
      "100%|█████████████████████████████████████████████| 2/2 [00:00<00:00,  3.48it/s]\n"
     ]
    },
    {
     "name": "stdout",
     "output_type": "stream",
     "text": [
      "    58/191...\n"
     ]
    },
    {
     "name": "stderr",
     "output_type": "stream",
     "text": [
      "100%|█████████████████████████████████████████████| 1/1 [00:00<00:00,  3.96it/s]\n"
     ]
    },
    {
     "name": "stdout",
     "output_type": "stream",
     "text": [
      "    59/191...\n"
     ]
    },
    {
     "name": "stderr",
     "output_type": "stream",
     "text": [
      "100%|█████████████████████████████████████████████| 3/3 [00:00<00:00,  4.57it/s]\n"
     ]
    },
    {
     "name": "stdout",
     "output_type": "stream",
     "text": [
      "    60/191...\n"
     ]
    },
    {
     "name": "stderr",
     "output_type": "stream",
     "text": [
      "100%|█████████████████████████████████████████████| 2/2 [00:00<00:00,  3.88it/s]\n"
     ]
    },
    {
     "name": "stdout",
     "output_type": "stream",
     "text": [
      "    61/191...\n"
     ]
    },
    {
     "name": "stderr",
     "output_type": "stream",
     "text": [
      "100%|█████████████████████████████████████████████| 2/2 [00:00<00:00,  3.85it/s]\n"
     ]
    },
    {
     "name": "stdout",
     "output_type": "stream",
     "text": [
      "    62/191...\n"
     ]
    },
    {
     "name": "stderr",
     "output_type": "stream",
     "text": [
      "100%|█████████████████████████████████████████████| 5/5 [00:01<00:00,  3.96it/s]\n"
     ]
    },
    {
     "name": "stdout",
     "output_type": "stream",
     "text": [
      "    63/191...\n"
     ]
    },
    {
     "name": "stderr",
     "output_type": "stream",
     "text": [
      "100%|█████████████████████████████████████████████| 4/4 [00:00<00:00,  4.72it/s]\n"
     ]
    },
    {
     "name": "stdout",
     "output_type": "stream",
     "text": [
      "    64/191...\n"
     ]
    },
    {
     "name": "stderr",
     "output_type": "stream",
     "text": [
      "100%|█████████████████████████████████████████████| 2/2 [00:00<00:00,  4.69it/s]\n"
     ]
    },
    {
     "name": "stdout",
     "output_type": "stream",
     "text": [
      "    65/191...\n"
     ]
    },
    {
     "name": "stderr",
     "output_type": "stream",
     "text": [
      "100%|█████████████████████████████████████████████| 1/1 [00:00<00:00,  7.11it/s]\n"
     ]
    },
    {
     "name": "stdout",
     "output_type": "stream",
     "text": [
      "    66/191...\n"
     ]
    },
    {
     "name": "stderr",
     "output_type": "stream",
     "text": [
      "100%|█████████████████████████████████████████████| 3/3 [00:00<00:00,  3.79it/s]\n"
     ]
    },
    {
     "name": "stdout",
     "output_type": "stream",
     "text": [
      "    67/191...\n"
     ]
    },
    {
     "name": "stderr",
     "output_type": "stream",
     "text": [
      "100%|█████████████████████████████████████████████| 4/4 [00:00<00:00,  5.26it/s]\n"
     ]
    },
    {
     "name": "stdout",
     "output_type": "stream",
     "text": [
      "    68/191...\n"
     ]
    },
    {
     "name": "stderr",
     "output_type": "stream",
     "text": [
      "100%|█████████████████████████████████████████████| 4/4 [00:00<00:00,  4.99it/s]\n"
     ]
    },
    {
     "name": "stdout",
     "output_type": "stream",
     "text": [
      "    69/191...\n"
     ]
    },
    {
     "name": "stderr",
     "output_type": "stream",
     "text": [
      "100%|█████████████████████████████████████████████| 4/4 [00:00<00:00,  4.87it/s]\n"
     ]
    },
    {
     "name": "stdout",
     "output_type": "stream",
     "text": [
      "    70/191...\n"
     ]
    },
    {
     "name": "stderr",
     "output_type": "stream",
     "text": [
      "100%|█████████████████████████████████████████████| 5/5 [00:01<00:00,  2.74it/s]\n"
     ]
    },
    {
     "name": "stdout",
     "output_type": "stream",
     "text": [
      "    71/191...\n"
     ]
    },
    {
     "name": "stderr",
     "output_type": "stream",
     "text": [
      "100%|█████████████████████████████████████████████| 3/3 [00:00<00:00,  4.50it/s]\n"
     ]
    },
    {
     "name": "stdout",
     "output_type": "stream",
     "text": [
      "    72/191...\n"
     ]
    },
    {
     "name": "stderr",
     "output_type": "stream",
     "text": [
      "100%|█████████████████████████████████████████████| 4/4 [00:00<00:00,  6.61it/s]\n"
     ]
    },
    {
     "name": "stdout",
     "output_type": "stream",
     "text": [
      "    73/191...\n"
     ]
    },
    {
     "name": "stderr",
     "output_type": "stream",
     "text": [
      "100%|█████████████████████████████████████████████| 4/4 [00:00<00:00,  5.43it/s]\n"
     ]
    },
    {
     "name": "stdout",
     "output_type": "stream",
     "text": [
      "    74/191...\n"
     ]
    },
    {
     "name": "stderr",
     "output_type": "stream",
     "text": [
      "100%|█████████████████████████████████████████████| 4/4 [00:00<00:00,  5.02it/s]\n"
     ]
    },
    {
     "name": "stdout",
     "output_type": "stream",
     "text": [
      "    75/191...\n"
     ]
    },
    {
     "name": "stderr",
     "output_type": "stream",
     "text": [
      "100%|█████████████████████████████████████████████| 3/3 [00:00<00:00,  4.03it/s]\n"
     ]
    },
    {
     "name": "stdout",
     "output_type": "stream",
     "text": [
      "    76/191...\n"
     ]
    },
    {
     "name": "stderr",
     "output_type": "stream",
     "text": [
      "100%|█████████████████████████████████████████████| 4/4 [00:01<00:00,  3.81it/s]\n"
     ]
    },
    {
     "name": "stdout",
     "output_type": "stream",
     "text": [
      "    77/191...\n"
     ]
    },
    {
     "name": "stderr",
     "output_type": "stream",
     "text": [
      "100%|█████████████████████████████████████████████| 4/4 [00:01<00:00,  3.95it/s]\n"
     ]
    },
    {
     "name": "stdout",
     "output_type": "stream",
     "text": [
      "    78/191...\n"
     ]
    },
    {
     "name": "stderr",
     "output_type": "stream",
     "text": [
      "100%|█████████████████████████████████████████████| 4/4 [00:01<00:00,  3.75it/s]\n"
     ]
    },
    {
     "name": "stdout",
     "output_type": "stream",
     "text": [
      "    79/191...\n"
     ]
    },
    {
     "name": "stderr",
     "output_type": "stream",
     "text": [
      "100%|█████████████████████████████████████████████| 1/1 [00:00<00:00,  5.37it/s]\n"
     ]
    },
    {
     "name": "stdout",
     "output_type": "stream",
     "text": [
      "    80/191...\n"
     ]
    },
    {
     "name": "stderr",
     "output_type": "stream",
     "text": [
      "100%|█████████████████████████████████████████████| 2/2 [00:00<00:00,  4.73it/s]\n"
     ]
    },
    {
     "name": "stdout",
     "output_type": "stream",
     "text": [
      "    81/191...\n"
     ]
    },
    {
     "name": "stderr",
     "output_type": "stream",
     "text": [
      "100%|█████████████████████████████████████████████| 4/4 [00:00<00:00, 13.06it/s]\n"
     ]
    },
    {
     "name": "stdout",
     "output_type": "stream",
     "text": [
      "    82/191...\n"
     ]
    },
    {
     "name": "stderr",
     "output_type": "stream",
     "text": [
      "100%|█████████████████████████████████████████████| 4/4 [00:00<00:00,  5.65it/s]\n"
     ]
    },
    {
     "name": "stdout",
     "output_type": "stream",
     "text": [
      "    83/191...\n"
     ]
    },
    {
     "name": "stderr",
     "output_type": "stream",
     "text": [
      "100%|█████████████████████████████████████████████| 4/4 [00:00<00:00,  5.04it/s]\n"
     ]
    },
    {
     "name": "stdout",
     "output_type": "stream",
     "text": [
      "    84/191...\n"
     ]
    },
    {
     "name": "stderr",
     "output_type": "stream",
     "text": [
      "100%|█████████████████████████████████████████████| 4/4 [00:00<00:00,  7.24it/s]\n"
     ]
    },
    {
     "name": "stdout",
     "output_type": "stream",
     "text": [
      "    85/191...\n"
     ]
    },
    {
     "name": "stderr",
     "output_type": "stream",
     "text": [
      "100%|█████████████████████████████████████████████| 1/1 [00:00<00:00,  5.95it/s]\n"
     ]
    },
    {
     "name": "stdout",
     "output_type": "stream",
     "text": [
      "    86/191...\n"
     ]
    },
    {
     "name": "stderr",
     "output_type": "stream",
     "text": [
      "100%|█████████████████████████████████████████████| 3/3 [00:00<00:00,  9.06it/s]\n"
     ]
    },
    {
     "name": "stdout",
     "output_type": "stream",
     "text": [
      "    87/191...\n"
     ]
    },
    {
     "name": "stderr",
     "output_type": "stream",
     "text": [
      "100%|█████████████████████████████████████████████| 4/4 [00:00<00:00,  7.97it/s]\n"
     ]
    },
    {
     "name": "stdout",
     "output_type": "stream",
     "text": [
      "    88/191...\n"
     ]
    },
    {
     "name": "stderr",
     "output_type": "stream",
     "text": [
      "100%|█████████████████████████████████████████████| 4/4 [00:00<00:00, 10.72it/s]\n"
     ]
    },
    {
     "name": "stdout",
     "output_type": "stream",
     "text": [
      "    89/191...\n"
     ]
    },
    {
     "name": "stderr",
     "output_type": "stream",
     "text": [
      "100%|█████████████████████████████████████████████| 4/4 [00:00<00:00,  4.77it/s]\n"
     ]
    },
    {
     "name": "stdout",
     "output_type": "stream",
     "text": [
      "    90/191...\n"
     ]
    },
    {
     "name": "stderr",
     "output_type": "stream",
     "text": [
      "100%|█████████████████████████████████████████████| 2/2 [00:00<00:00,  4.90it/s]\n"
     ]
    },
    {
     "name": "stdout",
     "output_type": "stream",
     "text": [
      "    91/191...\n"
     ]
    },
    {
     "name": "stderr",
     "output_type": "stream",
     "text": [
      "100%|█████████████████████████████████████████████| 4/4 [00:00<00:00,  5.74it/s]\n"
     ]
    },
    {
     "name": "stdout",
     "output_type": "stream",
     "text": [
      "    92/191...\n"
     ]
    },
    {
     "name": "stderr",
     "output_type": "stream",
     "text": [
      "100%|█████████████████████████████████████████████| 3/3 [00:00<00:00,  5.62it/s]\n"
     ]
    },
    {
     "name": "stdout",
     "output_type": "stream",
     "text": [
      "    93/191...\n"
     ]
    },
    {
     "name": "stderr",
     "output_type": "stream",
     "text": [
      "100%|█████████████████████████████████████████████| 4/4 [00:00<00:00,  5.28it/s]\n"
     ]
    },
    {
     "name": "stdout",
     "output_type": "stream",
     "text": [
      "    94/191...\n"
     ]
    },
    {
     "name": "stderr",
     "output_type": "stream",
     "text": [
      "100%|█████████████████████████████████████████████| 4/4 [00:00<00:00, 10.60it/s]\n"
     ]
    },
    {
     "name": "stdout",
     "output_type": "stream",
     "text": [
      "    95/191...\n"
     ]
    },
    {
     "name": "stderr",
     "output_type": "stream",
     "text": [
      "100%|█████████████████████████████████████████████| 4/4 [00:00<00:00,  4.42it/s]\n"
     ]
    },
    {
     "name": "stdout",
     "output_type": "stream",
     "text": [
      "    96/191...\n"
     ]
    },
    {
     "name": "stderr",
     "output_type": "stream",
     "text": [
      "100%|█████████████████████████████████████████████| 4/4 [00:00<00:00,  8.01it/s]\n"
     ]
    },
    {
     "name": "stdout",
     "output_type": "stream",
     "text": [
      "    97/191...\n"
     ]
    },
    {
     "name": "stderr",
     "output_type": "stream",
     "text": [
      "100%|█████████████████████████████████████████████| 4/4 [00:00<00:00, 11.72it/s]\n"
     ]
    },
    {
     "name": "stdout",
     "output_type": "stream",
     "text": [
      "    98/191...\n"
     ]
    },
    {
     "name": "stderr",
     "output_type": "stream",
     "text": [
      "100%|█████████████████████████████████████████████| 4/4 [00:00<00:00,  7.53it/s]\n"
     ]
    },
    {
     "name": "stdout",
     "output_type": "stream",
     "text": [
      "    99/191...\n"
     ]
    },
    {
     "name": "stderr",
     "output_type": "stream",
     "text": [
      "100%|█████████████████████████████████████████████| 4/4 [00:00<00:00,  5.09it/s]\n"
     ]
    },
    {
     "name": "stdout",
     "output_type": "stream",
     "text": [
      "    100/191...\n"
     ]
    },
    {
     "name": "stderr",
     "output_type": "stream",
     "text": [
      "100%|█████████████████████████████████████████████| 3/3 [00:00<00:00,  6.15it/s]\n"
     ]
    },
    {
     "name": "stdout",
     "output_type": "stream",
     "text": [
      "    101/191...\n"
     ]
    },
    {
     "name": "stderr",
     "output_type": "stream",
     "text": [
      "100%|█████████████████████████████████████████████| 4/4 [00:00<00:00,  7.33it/s]\n"
     ]
    },
    {
     "name": "stdout",
     "output_type": "stream",
     "text": [
      "    102/191...\n"
     ]
    },
    {
     "name": "stderr",
     "output_type": "stream",
     "text": [
      "100%|█████████████████████████████████████████████| 4/4 [00:00<00:00,  6.09it/s]\n"
     ]
    },
    {
     "name": "stdout",
     "output_type": "stream",
     "text": [
      "    103/191...\n"
     ]
    },
    {
     "name": "stderr",
     "output_type": "stream",
     "text": [
      "100%|█████████████████████████████████████████████| 4/4 [00:00<00:00,  5.72it/s]\n"
     ]
    },
    {
     "name": "stdout",
     "output_type": "stream",
     "text": [
      "    104/191...\n"
     ]
    },
    {
     "name": "stderr",
     "output_type": "stream",
     "text": [
      "100%|█████████████████████████████████████████████| 4/4 [00:00<00:00, 17.86it/s]\n"
     ]
    },
    {
     "name": "stdout",
     "output_type": "stream",
     "text": [
      "    105/191...\n"
     ]
    },
    {
     "name": "stderr",
     "output_type": "stream",
     "text": [
      "100%|█████████████████████████████████████████████| 4/4 [00:00<00:00,  7.37it/s]\n"
     ]
    },
    {
     "name": "stdout",
     "output_type": "stream",
     "text": [
      "    106/191...\n"
     ]
    },
    {
     "name": "stderr",
     "output_type": "stream",
     "text": [
      "100%|█████████████████████████████████████████████| 4/4 [00:00<00:00,  6.29it/s]\n"
     ]
    },
    {
     "name": "stdout",
     "output_type": "stream",
     "text": [
      "    107/191...\n"
     ]
    },
    {
     "name": "stderr",
     "output_type": "stream",
     "text": [
      "100%|█████████████████████████████████████████████| 4/4 [00:00<00:00,  9.75it/s]\n"
     ]
    },
    {
     "name": "stdout",
     "output_type": "stream",
     "text": [
      "    108/191...\n"
     ]
    },
    {
     "name": "stderr",
     "output_type": "stream",
     "text": [
      "100%|█████████████████████████████████████████████| 2/2 [00:00<00:00,  7.17it/s]\n"
     ]
    },
    {
     "name": "stdout",
     "output_type": "stream",
     "text": [
      "    109/191...\n"
     ]
    },
    {
     "name": "stderr",
     "output_type": "stream",
     "text": [
      "100%|█████████████████████████████████████████████| 4/4 [00:00<00:00, 11.27it/s]\n"
     ]
    },
    {
     "name": "stdout",
     "output_type": "stream",
     "text": [
      "    110/191...\n"
     ]
    },
    {
     "name": "stderr",
     "output_type": "stream",
     "text": [
      "100%|█████████████████████████████████████████████| 4/4 [00:00<00:00, 11.93it/s]\n"
     ]
    },
    {
     "name": "stdout",
     "output_type": "stream",
     "text": [
      "    111/191...\n"
     ]
    },
    {
     "name": "stderr",
     "output_type": "stream",
     "text": [
      "100%|█████████████████████████████████████████████| 4/4 [00:00<00:00,  8.78it/s]\n"
     ]
    },
    {
     "name": "stdout",
     "output_type": "stream",
     "text": [
      "    112/191...\n"
     ]
    },
    {
     "name": "stderr",
     "output_type": "stream",
     "text": [
      "100%|█████████████████████████████████████████████| 1/1 [00:00<00:00,  8.13it/s]\n"
     ]
    },
    {
     "name": "stdout",
     "output_type": "stream",
     "text": [
      "    113/191...\n"
     ]
    },
    {
     "name": "stderr",
     "output_type": "stream",
     "text": [
      "100%|█████████████████████████████████████████████| 4/4 [00:00<00:00,  8.82it/s]\n"
     ]
    },
    {
     "name": "stdout",
     "output_type": "stream",
     "text": [
      "    114/191...\n"
     ]
    },
    {
     "name": "stderr",
     "output_type": "stream",
     "text": [
      "100%|█████████████████████████████████████████████| 2/2 [00:00<00:00,  4.09it/s]\n"
     ]
    },
    {
     "name": "stdout",
     "output_type": "stream",
     "text": [
      "    115/191...\n"
     ]
    },
    {
     "name": "stderr",
     "output_type": "stream",
     "text": [
      "100%|█████████████████████████████████████████████| 4/4 [00:00<00:00,  9.17it/s]\n"
     ]
    },
    {
     "name": "stdout",
     "output_type": "stream",
     "text": [
      "    116/191...\n"
     ]
    },
    {
     "name": "stderr",
     "output_type": "stream",
     "text": [
      "100%|█████████████████████████████████████████████| 1/1 [00:00<00:00,  8.61it/s]\n"
     ]
    },
    {
     "name": "stdout",
     "output_type": "stream",
     "text": [
      "    117/191...\n"
     ]
    },
    {
     "name": "stderr",
     "output_type": "stream",
     "text": [
      "100%|█████████████████████████████████████████████| 4/4 [00:00<00:00,  7.70it/s]\n"
     ]
    },
    {
     "name": "stdout",
     "output_type": "stream",
     "text": [
      "    118/191...\n"
     ]
    },
    {
     "name": "stderr",
     "output_type": "stream",
     "text": [
      "100%|█████████████████████████████████████████████| 4/4 [00:00<00:00,  6.99it/s]\n"
     ]
    },
    {
     "name": "stdout",
     "output_type": "stream",
     "text": [
      "    119/191...\n"
     ]
    },
    {
     "name": "stderr",
     "output_type": "stream",
     "text": [
      "100%|█████████████████████████████████████████████| 4/4 [00:00<00:00,  9.95it/s]\n"
     ]
    },
    {
     "name": "stdout",
     "output_type": "stream",
     "text": [
      "    120/191...\n"
     ]
    },
    {
     "name": "stderr",
     "output_type": "stream",
     "text": [
      "100%|█████████████████████████████████████████████| 4/4 [00:00<00:00,  7.00it/s]\n"
     ]
    },
    {
     "name": "stdout",
     "output_type": "stream",
     "text": [
      "    121/191...\n"
     ]
    },
    {
     "name": "stderr",
     "output_type": "stream",
     "text": [
      "100%|█████████████████████████████████████████████| 3/3 [00:00<00:00,  7.89it/s]\n"
     ]
    },
    {
     "name": "stdout",
     "output_type": "stream",
     "text": [
      "    122/191...\n"
     ]
    },
    {
     "name": "stderr",
     "output_type": "stream",
     "text": [
      "100%|█████████████████████████████████████████████| 4/4 [00:00<00:00, 14.75it/s]\n"
     ]
    },
    {
     "name": "stdout",
     "output_type": "stream",
     "text": [
      "    123/191...\n"
     ]
    },
    {
     "name": "stderr",
     "output_type": "stream",
     "text": [
      "100%|█████████████████████████████████████████████| 2/2 [00:00<00:00,  7.03it/s]\n"
     ]
    },
    {
     "name": "stdout",
     "output_type": "stream",
     "text": [
      "    124/191...\n"
     ]
    },
    {
     "name": "stderr",
     "output_type": "stream",
     "text": [
      "100%|█████████████████████████████████████████████| 4/4 [00:00<00:00,  9.10it/s]\n"
     ]
    },
    {
     "name": "stdout",
     "output_type": "stream",
     "text": [
      "    125/191...\n"
     ]
    },
    {
     "name": "stderr",
     "output_type": "stream",
     "text": [
      "100%|█████████████████████████████████████████████| 4/4 [00:00<00:00,  8.92it/s]\n"
     ]
    },
    {
     "name": "stdout",
     "output_type": "stream",
     "text": [
      "    126/191...\n"
     ]
    },
    {
     "name": "stderr",
     "output_type": "stream",
     "text": [
      "100%|█████████████████████████████████████████████| 4/4 [00:00<00:00,  7.78it/s]\n"
     ]
    },
    {
     "name": "stdout",
     "output_type": "stream",
     "text": [
      "    127/191...\n"
     ]
    },
    {
     "name": "stderr",
     "output_type": "stream",
     "text": [
      "100%|█████████████████████████████████████████████| 2/2 [00:00<00:00, 14.04it/s]\n"
     ]
    },
    {
     "name": "stdout",
     "output_type": "stream",
     "text": [
      "    128/191...\n"
     ]
    },
    {
     "name": "stderr",
     "output_type": "stream",
     "text": [
      "100%|█████████████████████████████████████████████| 4/4 [00:00<00:00,  6.22it/s]\n"
     ]
    },
    {
     "name": "stdout",
     "output_type": "stream",
     "text": [
      "    129/191...\n"
     ]
    },
    {
     "name": "stderr",
     "output_type": "stream",
     "text": [
      "100%|█████████████████████████████████████████████| 3/3 [00:00<00:00,  6.92it/s]\n"
     ]
    },
    {
     "name": "stdout",
     "output_type": "stream",
     "text": [
      "    130/191...\n"
     ]
    },
    {
     "name": "stderr",
     "output_type": "stream",
     "text": [
      "100%|█████████████████████████████████████████████| 4/4 [00:00<00:00, 10.26it/s]\n"
     ]
    },
    {
     "name": "stdout",
     "output_type": "stream",
     "text": [
      "    131/191...\n"
     ]
    },
    {
     "name": "stderr",
     "output_type": "stream",
     "text": [
      "100%|█████████████████████████████████████████████| 2/2 [00:00<00:00,  8.04it/s]\n"
     ]
    },
    {
     "name": "stdout",
     "output_type": "stream",
     "text": [
      "    132/191...\n"
     ]
    },
    {
     "name": "stderr",
     "output_type": "stream",
     "text": [
      "100%|█████████████████████████████████████████████| 4/4 [00:00<00:00,  6.67it/s]\n"
     ]
    },
    {
     "name": "stdout",
     "output_type": "stream",
     "text": [
      "    133/191...\n"
     ]
    },
    {
     "name": "stderr",
     "output_type": "stream",
     "text": [
      "100%|█████████████████████████████████████████████| 4/4 [00:00<00:00, 12.98it/s]\n"
     ]
    },
    {
     "name": "stdout",
     "output_type": "stream",
     "text": [
      "    134/191...\n"
     ]
    },
    {
     "name": "stderr",
     "output_type": "stream",
     "text": [
      "100%|█████████████████████████████████████████████| 4/4 [00:00<00:00,  6.88it/s]\n"
     ]
    },
    {
     "name": "stdout",
     "output_type": "stream",
     "text": [
      "    135/191...\n"
     ]
    },
    {
     "name": "stderr",
     "output_type": "stream",
     "text": [
      "100%|█████████████████████████████████████████████| 2/2 [00:00<00:00,  6.22it/s]\n"
     ]
    },
    {
     "name": "stdout",
     "output_type": "stream",
     "text": [
      "    136/191...\n"
     ]
    },
    {
     "name": "stderr",
     "output_type": "stream",
     "text": [
      "100%|█████████████████████████████████████████████| 4/4 [00:00<00:00,  7.05it/s]\n"
     ]
    },
    {
     "name": "stdout",
     "output_type": "stream",
     "text": [
      "    137/191...\n"
     ]
    },
    {
     "name": "stderr",
     "output_type": "stream",
     "text": [
      "100%|█████████████████████████████████████████████| 2/2 [00:00<00:00,  6.55it/s]\n"
     ]
    },
    {
     "name": "stdout",
     "output_type": "stream",
     "text": [
      "    138/191...\n"
     ]
    },
    {
     "name": "stderr",
     "output_type": "stream",
     "text": [
      "100%|█████████████████████████████████████████████| 4/4 [00:00<00:00,  5.99it/s]\n"
     ]
    },
    {
     "name": "stdout",
     "output_type": "stream",
     "text": [
      "    139/191...\n"
     ]
    },
    {
     "name": "stderr",
     "output_type": "stream",
     "text": [
      "100%|█████████████████████████████████████████████| 4/4 [00:00<00:00,  8.73it/s]\n"
     ]
    },
    {
     "name": "stdout",
     "output_type": "stream",
     "text": [
      "    140/191...\n"
     ]
    },
    {
     "name": "stderr",
     "output_type": "stream",
     "text": [
      "100%|█████████████████████████████████████████████| 4/4 [00:00<00:00, 14.59it/s]\n"
     ]
    },
    {
     "name": "stdout",
     "output_type": "stream",
     "text": [
      "    141/191...\n"
     ]
    },
    {
     "name": "stderr",
     "output_type": "stream",
     "text": [
      "100%|█████████████████████████████████████████████| 4/4 [00:00<00:00,  5.57it/s]\n"
     ]
    },
    {
     "name": "stdout",
     "output_type": "stream",
     "text": [
      "    142/191...\n"
     ]
    },
    {
     "name": "stderr",
     "output_type": "stream",
     "text": [
      "100%|█████████████████████████████████████████████| 3/3 [00:00<00:00,  5.46it/s]\n"
     ]
    },
    {
     "name": "stdout",
     "output_type": "stream",
     "text": [
      "    143/191...\n"
     ]
    },
    {
     "name": "stderr",
     "output_type": "stream",
     "text": [
      "100%|█████████████████████████████████████████████| 4/4 [00:00<00:00,  6.17it/s]\n"
     ]
    },
    {
     "name": "stdout",
     "output_type": "stream",
     "text": [
      "    144/191...\n"
     ]
    },
    {
     "name": "stderr",
     "output_type": "stream",
     "text": [
      "100%|█████████████████████████████████████████████| 4/4 [00:00<00:00,  5.22it/s]\n"
     ]
    },
    {
     "name": "stdout",
     "output_type": "stream",
     "text": [
      "    145/191...\n"
     ]
    },
    {
     "name": "stderr",
     "output_type": "stream",
     "text": [
      "100%|█████████████████████████████████████████████| 4/4 [00:00<00:00,  7.00it/s]\n"
     ]
    },
    {
     "name": "stdout",
     "output_type": "stream",
     "text": [
      "    146/191...\n"
     ]
    },
    {
     "name": "stderr",
     "output_type": "stream",
     "text": [
      "100%|█████████████████████████████████████████████| 4/4 [00:00<00:00,  5.39it/s]\n"
     ]
    },
    {
     "name": "stdout",
     "output_type": "stream",
     "text": [
      "    147/191...\n"
     ]
    },
    {
     "name": "stderr",
     "output_type": "stream",
     "text": [
      "100%|█████████████████████████████████████████████| 4/4 [00:00<00:00,  8.76it/s]\n"
     ]
    },
    {
     "name": "stdout",
     "output_type": "stream",
     "text": [
      "    148/191...\n"
     ]
    },
    {
     "name": "stderr",
     "output_type": "stream",
     "text": [
      "100%|█████████████████████████████████████████████| 4/4 [00:00<00:00, 10.81it/s]\n"
     ]
    },
    {
     "name": "stdout",
     "output_type": "stream",
     "text": [
      "    149/191...\n"
     ]
    },
    {
     "name": "stderr",
     "output_type": "stream",
     "text": [
      "100%|█████████████████████████████████████████████| 4/4 [00:00<00:00, 12.19it/s]\n"
     ]
    },
    {
     "name": "stdout",
     "output_type": "stream",
     "text": [
      "    150/191...\n"
     ]
    },
    {
     "name": "stderr",
     "output_type": "stream",
     "text": [
      "100%|█████████████████████████████████████████████| 4/4 [00:00<00:00,  5.84it/s]\n"
     ]
    },
    {
     "name": "stdout",
     "output_type": "stream",
     "text": [
      "    151/191...\n"
     ]
    },
    {
     "name": "stderr",
     "output_type": "stream",
     "text": [
      "100%|█████████████████████████████████████████████| 4/4 [00:00<00:00,  5.54it/s]\n"
     ]
    },
    {
     "name": "stdout",
     "output_type": "stream",
     "text": [
      "    152/191...\n"
     ]
    },
    {
     "name": "stderr",
     "output_type": "stream",
     "text": [
      "100%|█████████████████████████████████████████████| 3/3 [00:00<00:00,  6.95it/s]\n"
     ]
    },
    {
     "name": "stdout",
     "output_type": "stream",
     "text": [
      "    153/191...\n"
     ]
    },
    {
     "name": "stderr",
     "output_type": "stream",
     "text": [
      "100%|█████████████████████████████████████████████| 4/4 [00:00<00:00, 16.65it/s]\n"
     ]
    },
    {
     "name": "stdout",
     "output_type": "stream",
     "text": [
      "    154/191...\n"
     ]
    },
    {
     "name": "stderr",
     "output_type": "stream",
     "text": [
      "100%|█████████████████████████████████████████████| 4/4 [00:00<00:00,  6.41it/s]\n"
     ]
    },
    {
     "name": "stdout",
     "output_type": "stream",
     "text": [
      "    155/191...\n"
     ]
    },
    {
     "name": "stderr",
     "output_type": "stream",
     "text": [
      "100%|█████████████████████████████████████████████| 2/2 [00:00<00:00,  5.36it/s]\n"
     ]
    },
    {
     "name": "stdout",
     "output_type": "stream",
     "text": [
      "    156/191...\n"
     ]
    },
    {
     "name": "stderr",
     "output_type": "stream",
     "text": [
      "100%|█████████████████████████████████████████████| 3/3 [00:00<00:00,  5.94it/s]\n"
     ]
    },
    {
     "name": "stdout",
     "output_type": "stream",
     "text": [
      "    157/191...\n"
     ]
    },
    {
     "name": "stderr",
     "output_type": "stream",
     "text": [
      "100%|█████████████████████████████████████████████| 2/2 [00:00<00:00,  5.87it/s]\n"
     ]
    },
    {
     "name": "stdout",
     "output_type": "stream",
     "text": [
      "    158/191...\n"
     ]
    },
    {
     "name": "stderr",
     "output_type": "stream",
     "text": [
      "100%|█████████████████████████████████████████████| 4/4 [00:00<00:00, 13.09it/s]\n"
     ]
    },
    {
     "name": "stdout",
     "output_type": "stream",
     "text": [
      "    159/191...\n"
     ]
    },
    {
     "name": "stderr",
     "output_type": "stream",
     "text": [
      "100%|█████████████████████████████████████████████| 4/4 [00:00<00:00,  8.92it/s]\n"
     ]
    },
    {
     "name": "stdout",
     "output_type": "stream",
     "text": [
      "    160/191...\n"
     ]
    },
    {
     "name": "stderr",
     "output_type": "stream",
     "text": [
      "100%|█████████████████████████████████████████████| 4/4 [00:00<00:00,  5.60it/s]\n"
     ]
    },
    {
     "name": "stdout",
     "output_type": "stream",
     "text": [
      "    161/191...\n"
     ]
    },
    {
     "name": "stderr",
     "output_type": "stream",
     "text": [
      "100%|█████████████████████████████████████████████| 4/4 [00:00<00:00,  5.82it/s]\n"
     ]
    },
    {
     "name": "stdout",
     "output_type": "stream",
     "text": [
      "    162/191...\n"
     ]
    },
    {
     "name": "stderr",
     "output_type": "stream",
     "text": [
      "100%|█████████████████████████████████████████████| 4/4 [00:00<00:00,  7.36it/s]\n"
     ]
    },
    {
     "name": "stdout",
     "output_type": "stream",
     "text": [
      "    163/191...\n"
     ]
    },
    {
     "name": "stderr",
     "output_type": "stream",
     "text": [
      "100%|█████████████████████████████████████████████| 4/4 [00:00<00:00,  5.58it/s]\n"
     ]
    },
    {
     "name": "stdout",
     "output_type": "stream",
     "text": [
      "    164/191...\n"
     ]
    },
    {
     "name": "stderr",
     "output_type": "stream",
     "text": [
      "100%|█████████████████████████████████████████████| 4/4 [00:00<00:00,  7.28it/s]\n"
     ]
    },
    {
     "name": "stdout",
     "output_type": "stream",
     "text": [
      "    165/191...\n"
     ]
    },
    {
     "name": "stderr",
     "output_type": "stream",
     "text": [
      "100%|█████████████████████████████████████████████| 4/4 [00:00<00:00,  5.93it/s]\n"
     ]
    },
    {
     "name": "stdout",
     "output_type": "stream",
     "text": [
      "    166/191...\n"
     ]
    },
    {
     "name": "stderr",
     "output_type": "stream",
     "text": [
      "100%|█████████████████████████████████████████████| 3/3 [00:00<00:00, 15.24it/s]\n"
     ]
    },
    {
     "name": "stdout",
     "output_type": "stream",
     "text": [
      "    167/191...\n"
     ]
    },
    {
     "name": "stderr",
     "output_type": "stream",
     "text": [
      "100%|█████████████████████████████████████████████| 2/2 [00:00<00:00,  6.08it/s]\n"
     ]
    },
    {
     "name": "stdout",
     "output_type": "stream",
     "text": [
      "    168/191...\n"
     ]
    },
    {
     "name": "stderr",
     "output_type": "stream",
     "text": [
      "100%|█████████████████████████████████████████████| 1/1 [00:00<00:00,  4.52it/s]\n"
     ]
    },
    {
     "name": "stdout",
     "output_type": "stream",
     "text": [
      "    169/191...\n"
     ]
    },
    {
     "name": "stderr",
     "output_type": "stream",
     "text": [
      "100%|█████████████████████████████████████████████| 4/4 [00:00<00:00,  7.25it/s]\n"
     ]
    },
    {
     "name": "stdout",
     "output_type": "stream",
     "text": [
      "    170/191...\n"
     ]
    },
    {
     "name": "stderr",
     "output_type": "stream",
     "text": [
      "100%|█████████████████████████████████████████████| 1/1 [00:00<00:00, 11.69it/s]\n"
     ]
    },
    {
     "name": "stdout",
     "output_type": "stream",
     "text": [
      "    171/191...\n"
     ]
    },
    {
     "name": "stderr",
     "output_type": "stream",
     "text": [
      "100%|█████████████████████████████████████████████| 4/4 [00:00<00:00,  6.08it/s]\n"
     ]
    },
    {
     "name": "stdout",
     "output_type": "stream",
     "text": [
      "    172/191...\n"
     ]
    },
    {
     "name": "stderr",
     "output_type": "stream",
     "text": [
      "100%|█████████████████████████████████████████████| 2/2 [00:00<00:00,  7.19it/s]\n"
     ]
    },
    {
     "name": "stdout",
     "output_type": "stream",
     "text": [
      "    173/191...\n"
     ]
    },
    {
     "name": "stderr",
     "output_type": "stream",
     "text": [
      "100%|█████████████████████████████████████████████| 4/4 [00:00<00:00,  6.83it/s]\n"
     ]
    },
    {
     "name": "stdout",
     "output_type": "stream",
     "text": [
      "    174/191...\n"
     ]
    },
    {
     "name": "stderr",
     "output_type": "stream",
     "text": [
      "100%|█████████████████████████████████████████████| 2/2 [00:00<00:00,  6.55it/s]\n"
     ]
    },
    {
     "name": "stdout",
     "output_type": "stream",
     "text": [
      "    175/191...\n"
     ]
    },
    {
     "name": "stderr",
     "output_type": "stream",
     "text": [
      "100%|█████████████████████████████████████████████| 2/2 [00:00<00:00,  6.79it/s]\n"
     ]
    },
    {
     "name": "stdout",
     "output_type": "stream",
     "text": [
      "    176/191...\n"
     ]
    },
    {
     "name": "stderr",
     "output_type": "stream",
     "text": [
      "100%|█████████████████████████████████████████████| 4/4 [00:00<00:00,  8.00it/s]\n"
     ]
    },
    {
     "name": "stdout",
     "output_type": "stream",
     "text": [
      "    177/191...\n"
     ]
    },
    {
     "name": "stderr",
     "output_type": "stream",
     "text": [
      "100%|█████████████████████████████████████████████| 4/4 [00:00<00:00,  8.47it/s]\n"
     ]
    },
    {
     "name": "stdout",
     "output_type": "stream",
     "text": [
      "    178/191...\n"
     ]
    },
    {
     "name": "stderr",
     "output_type": "stream",
     "text": [
      "100%|█████████████████████████████████████████████| 4/4 [00:00<00:00,  7.80it/s]\n"
     ]
    },
    {
     "name": "stdout",
     "output_type": "stream",
     "text": [
      "    179/191...\n"
     ]
    },
    {
     "name": "stderr",
     "output_type": "stream",
     "text": [
      "100%|█████████████████████████████████████████████| 4/4 [00:00<00:00,  6.77it/s]\n"
     ]
    },
    {
     "name": "stdout",
     "output_type": "stream",
     "text": [
      "    180/191...\n"
     ]
    },
    {
     "name": "stderr",
     "output_type": "stream",
     "text": [
      "100%|█████████████████████████████████████████████| 1/1 [00:00<00:00,  7.42it/s]\n"
     ]
    },
    {
     "name": "stdout",
     "output_type": "stream",
     "text": [
      "    181/191...\n"
     ]
    },
    {
     "name": "stderr",
     "output_type": "stream",
     "text": [
      "100%|█████████████████████████████████████████████| 4/4 [00:00<00:00,  6.46it/s]\n"
     ]
    },
    {
     "name": "stdout",
     "output_type": "stream",
     "text": [
      "    182/191...\n"
     ]
    },
    {
     "name": "stderr",
     "output_type": "stream",
     "text": [
      "100%|█████████████████████████████████████████████| 4/4 [00:00<00:00,  6.97it/s]\n"
     ]
    },
    {
     "name": "stdout",
     "output_type": "stream",
     "text": [
      "    183/191...\n"
     ]
    },
    {
     "name": "stderr",
     "output_type": "stream",
     "text": [
      "100%|█████████████████████████████████████████████| 4/4 [00:00<00:00,  5.47it/s]\n"
     ]
    },
    {
     "name": "stdout",
     "output_type": "stream",
     "text": [
      "    184/191...\n"
     ]
    },
    {
     "name": "stderr",
     "output_type": "stream",
     "text": [
      "100%|█████████████████████████████████████████████| 4/4 [00:00<00:00, 10.43it/s]\n"
     ]
    },
    {
     "name": "stdout",
     "output_type": "stream",
     "text": [
      "    185/191...\n"
     ]
    },
    {
     "name": "stderr",
     "output_type": "stream",
     "text": [
      "100%|█████████████████████████████████████████████| 4/4 [00:00<00:00,  8.06it/s]\n"
     ]
    },
    {
     "name": "stdout",
     "output_type": "stream",
     "text": [
      "    186/191...\n"
     ]
    },
    {
     "name": "stderr",
     "output_type": "stream",
     "text": [
      "100%|█████████████████████████████████████████████| 2/2 [00:00<00:00,  6.31it/s]\n"
     ]
    },
    {
     "name": "stdout",
     "output_type": "stream",
     "text": [
      "    187/191...\n"
     ]
    },
    {
     "name": "stderr",
     "output_type": "stream",
     "text": [
      "100%|█████████████████████████████████████████████| 4/4 [00:00<00:00,  5.11it/s]\n"
     ]
    },
    {
     "name": "stdout",
     "output_type": "stream",
     "text": [
      "    188/191...\n"
     ]
    },
    {
     "name": "stderr",
     "output_type": "stream",
     "text": [
      "100%|█████████████████████████████████████████████| 2/2 [00:00<00:00,  6.34it/s]\n"
     ]
    },
    {
     "name": "stdout",
     "output_type": "stream",
     "text": [
      "    189/191...\n"
     ]
    },
    {
     "name": "stderr",
     "output_type": "stream",
     "text": [
      "100%|█████████████████████████████████████████████| 4/4 [00:00<00:00,  6.55it/s]\n"
     ]
    },
    {
     "name": "stdout",
     "output_type": "stream",
     "text": [
      "    190/191...\n"
     ]
    },
    {
     "name": "stderr",
     "output_type": "stream",
     "text": [
      "100%|█████████████████████████████████████████████| 4/4 [00:00<00:00,  8.06it/s]\n"
     ]
    },
    {
     "name": "stdout",
     "output_type": "stream",
     "text": [
      "    191/191...\n"
     ]
    },
    {
     "name": "stderr",
     "output_type": "stream",
     "text": [
      "100%|█████████████████████████████████████████████| 1/1 [00:00<00:00,  7.28it/s]\n"
     ]
    },
    {
     "name": "stdout",
     "output_type": "stream",
     "text": [
      "Done.\n"
     ]
    }
   ],
   "source": [
    "run_model(model_folder, test_folder, output_folder, allow_failures = True, verbose = 2)"
   ]
  },
  {
   "cell_type": "code",
   "execution_count": 67,
   "id": "247a6478",
   "metadata": {},
   "outputs": [],
   "source": [
    "from evaluate_model import *\n",
    "\n"
   ]
  },
  {
   "cell_type": "code",
   "execution_count": 68,
   "id": "b770afd6",
   "metadata": {
    "scrolled": false
   },
   "outputs": [
    {
     "name": "stdout",
     "output_type": "stream",
     "text": [
      "#Murmur scores\n",
      "AUROC,AUPRC,F-measure,Accuracy,Weighted Accuracy,Cost\n",
      "0.769,0.623,0.527,0.796,0.776,17158.131\n",
      "\n",
      "#Outcome scores\n",
      "AUROC,AUPRC,F-measure,Accuracy,Weighted Accuracy,Cost\n",
      "0.703,0.705,0.585,0.613,0.770,11103.817\n",
      "\n",
      "#Murmur scores (per class)\n",
      "Classes,Present,Unknown,Absent\n",
      "AUROC,0.959,0.500,0.846\n",
      "AUPRC,0.893,0.073,0.903\n",
      "F-measure,0.716,0.000,0.864\n",
      "Accuracy,0.895,0.000,0.849\n",
      "\n",
      "#Outcome scores (per class)\n",
      "Classes,Abnormal,Normal\n",
      "AUROC,0.703,0.703\n",
      "AUPRC,0.743,0.666\n",
      "F-measure,0.692,0.479\n",
      "Accuracy,0.847,0.366\n",
      "\n"
     ]
    }
   ],
   "source": [
    "murmur_scores, outcome_scores = evaluate_model(test_folder, output_folder)\n",
    "classes, auroc, auprc, auroc_classes, auprc_classes, f_measure, f_measure_classes, accuracy, accuracy_classes, weighted_accuracy, cost = murmur_scores\n",
    "murmur_output_string = 'AUROC,AUPRC,F-measure,Accuracy,Weighted Accuracy,Cost\\n{:.3f},{:.3f},{:.3f},{:.3f},{:.3f},{:.3f}\\n'.format(auroc, auprc, f_measure, accuracy, weighted_accuracy, cost)\n",
    "murmur_class_output_string = 'Classes,{}\\nAUROC,{}\\nAUPRC,{}\\nF-measure,{}\\nAccuracy,{}\\n'.format(\n",
    "    ','.join(classes),\n",
    "    ','.join('{:.3f}'.format(x) for x in auroc_classes),\n",
    "    ','.join('{:.3f}'.format(x) for x in auprc_classes),\n",
    "    ','.join('{:.3f}'.format(x) for x in f_measure_classes),\n",
    "    ','.join('{:.3f}'.format(x) for x in accuracy_classes))\n",
    "\n",
    "classes, auroc, auprc, auroc_classes, auprc_classes, f_measure, f_measure_classes, accuracy, accuracy_classes, weighted_accuracy, cost = outcome_scores\n",
    "outcome_output_string = 'AUROC,AUPRC,F-measure,Accuracy,Weighted Accuracy,Cost\\n{:.3f},{:.3f},{:.3f},{:.3f},{:.3f},{:.3f}\\n'.format(auroc, auprc, f_measure, accuracy, weighted_accuracy, cost)\n",
    "outcome_class_output_string = 'Classes,{}\\nAUROC,{}\\nAUPRC,{}\\nF-measure,{}\\nAccuracy,{}\\n'.format(\n",
    "    ','.join(classes),\n",
    "    ','.join('{:.3f}'.format(x) for x in auroc_classes),\n",
    "    ','.join('{:.3f}'.format(x) for x in auprc_classes),\n",
    "    ','.join('{:.3f}'.format(x) for x in f_measure_classes),\n",
    "    ','.join('{:.3f}'.format(x) for x in accuracy_classes))\n",
    "\n",
    "output_string = '#Murmur scores\\n' + murmur_output_string + '\\n#Outcome scores\\n' + outcome_output_string \\\n",
    "    + '\\n#Murmur scores (per class)\\n' + murmur_class_output_string + '\\n#Outcome scores (per class)\\n' + outcome_class_output_string\n",
    "\n",
    "if len(sys.argv) == 3:\n",
    "    print(output_string)\n",
    "elif len(sys.argv) == 4:\n",
    "    with open(sys.argv[3], 'w') as f:\n",
    "        f.write(output_string)"
   ]
  },
  {
   "cell_type": "code",
   "execution_count": null,
   "id": "72a27458",
   "metadata": {},
   "outputs": [],
   "source": []
  },
  {
   "cell_type": "code",
   "execution_count": 69,
   "id": "4235c97d",
   "metadata": {},
   "outputs": [
    {
     "name": "stdout",
     "output_type": "stream",
     "text": [
      "0.41936517510738675\n",
      "0.580634824424514\n",
      "0.6762914319000943\n",
      "0.3237085679048643\n"
     ]
    }
   ],
   "source": [
    "label_folder = test_folder\n",
    "murmur_classes = ['Present', 'Unknown', 'Absent']\n",
    "outcome_classes = ['Abnormal', 'Normal']\n",
    "\n",
    "# Load and parse label and model output files.\n",
    "label_files, output_files = find_challenge_files(label_folder, output_folder)\n",
    "murmur_labels = load_murmurs(label_files, murmur_classes)\n",
    "murmur_binary_outputs, murmur_scalar_outputs = load_classifier_outputs(output_files, murmur_classes)\n",
    "outcome_labels = load_outcomes(label_files, outcome_classes)\n",
    "outcome_binary_outputs, outcome_scalar_outputs = load_classifier_outputs(output_files, outcome_classes)\n",
    "\n",
    "\n",
    "print(np.mean(murmur_scalar_outputs[:,0]))\n",
    "print(np.mean(murmur_scalar_outputs[:,2]))\n",
    "print(np.mean(outcome_scalar_outputs[:,0]))\n",
    "print(np.mean(outcome_scalar_outputs[:,1]))"
   ]
  },
  {
   "cell_type": "code",
   "execution_count": 70,
   "id": "3fb59f7c",
   "metadata": {
    "scrolled": false
   },
   "outputs": [
    {
     "name": "stdout",
     "output_type": "stream",
     "text": [
      "threshold:  0.01\n",
      "#Murmur scores\n",
      "AUROC,AUPRC,F-measure,Accuracy,Weighted Accuracy,Cost\n",
      "0.769,0.623,0.111,0.199,0.512,15140.890\n",
      "\n",
      "#Outcome scores\n",
      "AUROC,AUPRC,F-measure,Accuracy,Weighted Accuracy,Cost\n",
      "0.703,0.705,0.339,0.513,0.840,15140.890\n",
      "\n",
      "#Murmur scores (per class)\n",
      "Classes,Present,Unknown,Absent\n",
      "AUROC,0.959,0.500,0.846\n",
      "AUPRC,0.893,0.073,0.903\n",
      "F-measure,0.332,0.000,0.000\n",
      "Accuracy,1.000,0.000,0.000\n",
      "\n",
      "#Outcome scores (per class)\n",
      "Classes,Abnormal,Normal\n",
      "AUROC,0.703,0.703\n",
      "AUPRC,0.743,0.666\n",
      "F-measure,0.678,0.000\n",
      "Accuracy,1.000,0.000\n",
      "\n",
      "-------------\n",
      "threshold:  0.05\n",
      "#Murmur scores\n",
      "AUROC,AUPRC,F-measure,Accuracy,Weighted Accuracy,Cost\n",
      "0.769,0.623,0.111,0.199,0.512,15140.890\n",
      "\n",
      "#Outcome scores\n",
      "AUROC,AUPRC,F-measure,Accuracy,Weighted Accuracy,Cost\n",
      "0.703,0.705,0.339,0.513,0.840,15140.890\n",
      "\n",
      "#Murmur scores (per class)\n",
      "Classes,Present,Unknown,Absent\n",
      "AUROC,0.959,0.500,0.846\n",
      "AUPRC,0.893,0.073,0.903\n",
      "F-measure,0.332,0.000,0.000\n",
      "Accuracy,1.000,0.000,0.000\n",
      "\n",
      "#Outcome scores (per class)\n",
      "Classes,Abnormal,Normal\n",
      "AUROC,0.703,0.703\n",
      "AUPRC,0.743,0.666\n",
      "F-measure,0.678,0.000\n",
      "Accuracy,1.000,0.000\n",
      "\n",
      "-------------\n",
      "threshold:  0.1\n",
      "#Murmur scores\n",
      "AUROC,AUPRC,F-measure,Accuracy,Weighted Accuracy,Cost\n",
      "0.769,0.623,0.111,0.199,0.512,15140.890\n",
      "\n",
      "#Outcome scores\n",
      "AUROC,AUPRC,F-measure,Accuracy,Weighted Accuracy,Cost\n",
      "0.703,0.705,0.339,0.513,0.840,15140.890\n",
      "\n",
      "#Murmur scores (per class)\n",
      "Classes,Present,Unknown,Absent\n",
      "AUROC,0.959,0.500,0.846\n",
      "AUPRC,0.893,0.073,0.903\n",
      "F-measure,0.332,0.000,0.000\n",
      "Accuracy,1.000,0.000,0.000\n",
      "\n",
      "#Outcome scores (per class)\n",
      "Classes,Abnormal,Normal\n",
      "AUROC,0.703,0.703\n",
      "AUPRC,0.743,0.666\n",
      "F-measure,0.678,0.000\n",
      "Accuracy,1.000,0.000\n",
      "\n",
      "-------------\n",
      "threshold:  0.15\n",
      "#Murmur scores\n",
      "AUROC,AUPRC,F-measure,Accuracy,Weighted Accuracy,Cost\n",
      "0.769,0.623,0.121,0.209,0.518,15125.621\n",
      "\n",
      "#Outcome scores\n",
      "AUROC,AUPRC,F-measure,Accuracy,Weighted Accuracy,Cost\n",
      "0.703,0.705,0.339,0.513,0.840,15140.890\n",
      "\n",
      "#Murmur scores (per class)\n",
      "Classes,Present,Unknown,Absent\n",
      "AUROC,0.959,0.500,0.846\n",
      "AUPRC,0.893,0.073,0.903\n",
      "F-measure,0.335,0.000,0.028\n",
      "Accuracy,1.000,0.000,0.014\n",
      "\n",
      "#Outcome scores (per class)\n",
      "Classes,Abnormal,Normal\n",
      "AUROC,0.703,0.703\n",
      "AUPRC,0.743,0.666\n",
      "F-measure,0.678,0.000\n",
      "Accuracy,1.000,0.000\n",
      "\n",
      "-------------\n",
      "threshold:  0.2\n",
      "#Murmur scores\n",
      "AUROC,AUPRC,F-measure,Accuracy,Weighted Accuracy,Cost\n",
      "0.769,0.623,0.161,0.251,0.539,14180.830\n",
      "\n",
      "#Outcome scores\n",
      "AUROC,AUPRC,F-measure,Accuracy,Weighted Accuracy,Cost\n",
      "0.703,0.705,0.339,0.513,0.840,15140.890\n",
      "\n",
      "#Murmur scores (per class)\n",
      "Classes,Present,Unknown,Absent\n",
      "AUROC,0.959,0.500,0.846\n",
      "AUPRC,0.893,0.073,0.903\n",
      "F-measure,0.349,0.000,0.133\n",
      "Accuracy,1.000,0.000,0.072\n",
      "\n",
      "#Outcome scores (per class)\n",
      "Classes,Abnormal,Normal\n",
      "AUROC,0.703,0.703\n",
      "AUPRC,0.743,0.666\n",
      "F-measure,0.678,0.000\n",
      "Accuracy,1.000,0.000\n",
      "\n",
      "-------------\n",
      "threshold:  0.25\n",
      "#Murmur scores\n",
      "AUROC,AUPRC,F-measure,Accuracy,Weighted Accuracy,Cost\n",
      "0.769,0.623,0.246,0.356,0.593,12629.699\n",
      "\n",
      "#Outcome scores\n",
      "AUROC,AUPRC,F-measure,Accuracy,Weighted Accuracy,Cost\n",
      "0.703,0.705,0.339,0.513,0.840,15140.890\n",
      "\n",
      "#Murmur scores (per class)\n",
      "Classes,Present,Unknown,Absent\n",
      "AUROC,0.959,0.500,0.846\n",
      "AUPRC,0.893,0.073,0.903\n",
      "F-measure,0.390,0.000,0.347\n",
      "Accuracy,1.000,0.000,0.216\n",
      "\n",
      "#Outcome scores (per class)\n",
      "Classes,Abnormal,Normal\n",
      "AUROC,0.703,0.703\n",
      "AUPRC,0.743,0.666\n",
      "F-measure,0.678,0.000\n",
      "Accuracy,1.000,0.000\n",
      "\n",
      "-------------\n",
      "threshold:  0.3\n",
      "#Murmur scores\n",
      "AUROC,AUPRC,F-measure,Accuracy,Weighted Accuracy,Cost\n",
      "0.769,0.623,0.337,0.492,0.663,12300.008\n",
      "\n",
      "#Outcome scores\n",
      "AUROC,AUPRC,F-measure,Accuracy,Weighted Accuracy,Cost\n",
      "0.703,0.705,0.339,0.513,0.840,15140.890\n",
      "\n",
      "#Murmur scores (per class)\n",
      "Classes,Present,Unknown,Absent\n",
      "AUROC,0.959,0.500,0.846\n",
      "AUPRC,0.893,0.073,0.903\n",
      "F-measure,0.452,0.000,0.560\n",
      "Accuracy,1.000,0.000,0.403\n",
      "\n",
      "#Outcome scores (per class)\n",
      "Classes,Abnormal,Normal\n",
      "AUROC,0.703,0.703\n",
      "AUPRC,0.743,0.666\n",
      "F-measure,0.678,0.000\n",
      "Accuracy,1.000,0.000\n",
      "\n",
      "-------------\n",
      "threshold:  0.35\n",
      "#Murmur scores\n",
      "AUROC,AUPRC,F-measure,Accuracy,Weighted Accuracy,Cost\n",
      "0.769,0.623,0.413,0.618,0.717,13974.223\n",
      "\n",
      "#Outcome scores\n",
      "AUROC,AUPRC,F-measure,Accuracy,Weighted Accuracy,Cost\n",
      "0.703,0.705,0.339,0.513,0.840,15140.890\n",
      "\n",
      "#Murmur scores (per class)\n",
      "Classes,Present,Unknown,Absent\n",
      "AUROC,0.959,0.500,0.846\n",
      "AUPRC,0.893,0.073,0.903\n",
      "F-measure,0.529,0.000,0.711\n",
      "Accuracy,0.974,0.000,0.583\n",
      "\n",
      "#Outcome scores (per class)\n",
      "Classes,Abnormal,Normal\n",
      "AUROC,0.703,0.703\n",
      "AUPRC,0.743,0.666\n",
      "F-measure,0.678,0.000\n",
      "Accuracy,1.000,0.000\n",
      "\n",
      "-------------\n",
      "threshold:  0.4\n",
      "#Murmur scores\n",
      "AUROC,AUPRC,F-measure,Accuracy,Weighted Accuracy,Cost\n",
      "0.769,0.623,0.474,0.717,0.768,15469.154\n",
      "\n",
      "#Outcome scores\n",
      "AUROC,AUPRC,F-measure,Accuracy,Weighted Accuracy,Cost\n",
      "0.703,0.705,0.337,0.508,0.832,15131.464\n",
      "\n",
      "#Murmur scores (per class)\n",
      "Classes,Present,Unknown,Absent\n",
      "AUROC,0.959,0.500,0.846\n",
      "AUPRC,0.893,0.073,0.903\n",
      "F-measure,0.612,0.000,0.810\n",
      "Accuracy,0.974,0.000,0.719\n",
      "\n",
      "#Outcome scores (per class)\n",
      "Classes,Abnormal,Normal\n",
      "AUROC,0.703,0.703\n",
      "AUPRC,0.743,0.666\n",
      "F-measure,0.674,0.000\n",
      "Accuracy,0.990,0.000\n",
      "\n",
      "-------------\n",
      "threshold:  0.45\n",
      "#Murmur scores\n",
      "AUROC,AUPRC,F-measure,Accuracy,Weighted Accuracy,Cost\n",
      "0.769,0.623,0.516,0.780,0.790,16777.313\n",
      "\n",
      "#Outcome scores\n",
      "AUROC,AUPRC,F-measure,Accuracy,Weighted Accuracy,Cost\n",
      "0.703,0.705,0.371,0.524,0.837,14496.256\n",
      "\n",
      "#Murmur scores (per class)\n",
      "Classes,Present,Unknown,Absent\n",
      "AUROC,0.959,0.500,0.846\n",
      "AUPRC,0.893,0.073,0.903\n",
      "F-measure,0.692,0.000,0.856\n",
      "Accuracy,0.947,0.000,0.813\n",
      "\n",
      "#Outcome scores (per class)\n",
      "Classes,Abnormal,Normal\n",
      "AUROC,0.703,0.703\n",
      "AUPRC,0.743,0.666\n",
      "F-measure,0.681,0.062\n",
      "Accuracy,0.990,0.032\n",
      "\n",
      "-------------\n",
      "threshold:  0.5\n",
      "#Murmur scores\n",
      "AUROC,AUPRC,F-measure,Accuracy,Weighted Accuracy,Cost\n",
      "0.769,0.623,0.543,0.817,0.787,17566.761\n",
      "\n",
      "#Outcome scores\n",
      "AUROC,AUPRC,F-measure,Accuracy,Weighted Accuracy,Cost\n",
      "0.703,0.705,0.415,0.545,0.844,13697.681\n",
      "\n",
      "#Murmur scores (per class)\n",
      "Classes,Present,Unknown,Absent\n",
      "AUROC,0.959,0.500,0.846\n",
      "AUPRC,0.893,0.073,0.903\n",
      "F-measure,0.747,0.000,0.881\n",
      "Accuracy,0.895,0.000,0.878\n",
      "\n",
      "#Outcome scores (per class)\n",
      "Classes,Abnormal,Normal\n",
      "AUROC,0.703,0.703\n",
      "AUPRC,0.743,0.666\n",
      "F-measure,0.690,0.139\n",
      "Accuracy,0.990,0.075\n",
      "\n",
      "-------------\n",
      "threshold:  0.55\n",
      "#Murmur scores\n",
      "AUROC,AUPRC,F-measure,Accuracy,Weighted Accuracy,Cost\n",
      "0.769,0.623,0.562,0.843,0.790,18184.150\n",
      "\n",
      "#Outcome scores\n",
      "AUROC,AUPRC,F-measure,Accuracy,Weighted Accuracy,Cost\n",
      "0.703,0.705,0.480,0.560,0.808,12413.170\n",
      "\n",
      "#Murmur scores (per class)\n",
      "Classes,Present,Unknown,Absent\n",
      "AUROC,0.959,0.500,0.846\n",
      "AUPRC,0.893,0.073,0.903\n",
      "F-measure,0.786,0.000,0.901\n",
      "Accuracy,0.868,0.000,0.921\n",
      "\n",
      "#Outcome scores (per class)\n",
      "Classes,Abnormal,Normal\n",
      "AUROC,0.703,0.703\n",
      "AUPRC,0.743,0.666\n",
      "F-measure,0.684,0.276\n",
      "Accuracy,0.929,0.172\n",
      "\n",
      "-------------\n",
      "threshold:  0.6\n",
      "#Murmur scores\n",
      "AUROC,AUPRC,F-measure,Accuracy,Weighted Accuracy,Cost\n",
      "0.769,0.623,0.567,0.853,0.763,18807.136\n",
      "\n",
      "#Outcome scores\n",
      "AUROC,AUPRC,F-measure,Accuracy,Weighted Accuracy,Cost\n",
      "0.703,0.705,0.583,0.613,0.777,11070.181\n",
      "\n",
      "#Murmur scores (per class)\n",
      "Classes,Present,Unknown,Absent\n",
      "AUROC,0.959,0.500,0.846\n",
      "AUPRC,0.893,0.073,0.903\n",
      "F-measure,0.789,0.000,0.911\n",
      "Accuracy,0.789,0.000,0.957\n",
      "\n",
      "#Outcome scores (per class)\n",
      "Classes,Abnormal,Normal\n",
      "AUROC,0.703,0.703\n",
      "AUPRC,0.743,0.666\n",
      "F-measure,0.694,0.471\n",
      "Accuracy,0.857,0.355\n",
      "\n",
      "-------------\n",
      "threshold:  0.65\n",
      "#Murmur scores\n",
      "AUROC,AUPRC,F-measure,Accuracy,Weighted Accuracy,Cost\n",
      "0.769,0.623,0.558,0.848,0.706,20689.573\n",
      "\n",
      "#Outcome scores\n",
      "AUROC,AUPRC,F-measure,Accuracy,Weighted Accuracy,Cost\n",
      "0.703,0.705,0.626,0.628,0.666,12453.839\n",
      "\n",
      "#Murmur scores (per class)\n",
      "Classes,Present,Unknown,Absent\n",
      "AUROC,0.959,0.500,0.846\n",
      "AUPRC,0.893,0.073,0.903\n",
      "F-measure,0.769,0.000,0.904\n",
      "Accuracy,0.658,0.000,0.986\n",
      "\n",
      "#Outcome scores (per class)\n",
      "Classes,Abnormal,Normal\n",
      "AUROC,0.703,0.703\n",
      "AUPRC,0.743,0.666\n",
      "F-measure,0.654,0.599\n",
      "Accuracy,0.684,0.570\n",
      "\n",
      "-------------\n",
      "threshold:  0.7\n",
      "#Murmur scores\n",
      "AUROC,AUPRC,F-measure,Accuracy,Weighted Accuracy,Cost\n",
      "0.769,0.623,0.540,0.838,0.668,21107.390\n",
      "\n",
      "#Outcome scores\n",
      "AUROC,AUPRC,F-measure,Accuracy,Weighted Accuracy,Cost\n",
      "0.703,0.705,0.625,0.628,0.556,15168.371\n",
      "\n",
      "#Murmur scores (per class)\n",
      "Classes,Present,Unknown,Absent\n",
      "AUROC,0.959,0.500,0.846\n",
      "AUPRC,0.893,0.073,0.903\n",
      "F-measure,0.721,0.000,0.899\n",
      "Accuracy,0.579,0.000,0.993\n",
      "\n",
      "#Outcome scores (per class)\n",
      "Classes,Abnormal,Normal\n",
      "AUROC,0.703,0.703\n",
      "AUPRC,0.743,0.666\n",
      "F-measure,0.590,0.660\n",
      "Accuracy,0.520,0.742\n",
      "\n",
      "-------------\n",
      "threshold:  0.75\n",
      "#Murmur scores\n",
      "AUROC,AUPRC,F-measure,Accuracy,Weighted Accuracy,Cost\n",
      "0.769,0.623,0.497,0.812,0.601,22152.287\n",
      "\n",
      "#Outcome scores\n",
      "AUROC,AUPRC,F-measure,Accuracy,Weighted Accuracy,Cost\n",
      "0.703,0.705,0.605,0.623,0.472,17564.714\n",
      "\n",
      "#Murmur scores (per class)\n",
      "Classes,Present,Unknown,Absent\n",
      "AUROC,0.959,0.500,0.846\n",
      "AUPRC,0.893,0.073,0.903\n",
      "F-measure,0.607,0.000,0.885\n",
      "Accuracy,0.447,0.000,0.993\n",
      "\n",
      "#Outcome scores (per class)\n",
      "Classes,Abnormal,Normal\n",
      "AUROC,0.703,0.703\n",
      "AUPRC,0.743,0.666\n",
      "F-measure,0.520,0.690\n",
      "Accuracy,0.398,0.860\n",
      "\n",
      "-------------\n",
      "threshold:  0.8\n",
      "#Murmur scores\n",
      "AUROC,AUPRC,F-measure,Accuracy,Weighted Accuracy,Cost\n",
      "0.769,0.623,0.451,0.791,0.536,23194.698\n",
      "\n",
      "#Outcome scores\n",
      "AUROC,AUPRC,F-measure,Accuracy,Weighted Accuracy,Cost\n",
      "0.703,0.705,0.538,0.592,0.358,20689.767\n",
      "\n",
      "#Murmur scores (per class)\n",
      "Classes,Present,Unknown,Absent\n",
      "AUROC,0.959,0.500,0.846\n",
      "AUPRC,0.893,0.073,0.903\n",
      "F-measure,0.480,0.000,0.874\n",
      "Accuracy,0.316,0.000,1.000\n",
      "\n",
      "#Outcome scores (per class)\n",
      "Classes,Abnormal,Normal\n",
      "AUROC,0.703,0.703\n",
      "AUPRC,0.743,0.666\n",
      "F-measure,0.381,0.695\n",
      "Accuracy,0.245,0.957\n",
      "\n",
      "-------------\n"
     ]
    }
   ],
   "source": [
    "for th1 in [0.01, 0.05, 0.1, 0.15,0.2, 0.25, 0.3, 0.35, 0.4, 0.45, 0.5, 0.55, 0.6, 0.65, 0.7, 0.75, 0.8] :\n",
    "    murmur_binary_outputs[:,0] = murmur_scalar_outputs[:,0] > th1\n",
    "    murmur_binary_outputs[:,2] = murmur_scalar_outputs[:,2] > 1 - th1\n",
    "    outcome_binary_outputs[:,0] = outcome_scalar_outputs[:,0] > th1\n",
    "    outcome_binary_outputs[:,1] = outcome_scalar_outputs[:,1] > 1 - th1\n",
    "    # For each patient, set the 'Present' or 'Abnormal' class to positive if no class is positive or if multiple classes are positive.\n",
    "    murmur_labels = enforce_positives(murmur_labels, murmur_classes, 'Present')\n",
    "    murmur_binary_outputs = enforce_positives(murmur_binary_outputs, murmur_classes, 'Present')\n",
    "    outcome_labels = enforce_positives(outcome_labels, outcome_classes, 'Abnormal')\n",
    "    outcome_binary_outputs = enforce_positives(outcome_binary_outputs, outcome_classes, 'Abnormal')\n",
    "    # Evaluate the murmur model by comparing the labels and model outputs.\n",
    "    murmur_auroc, murmur_auprc, murmur_auroc_classes, murmur_auprc_classes = compute_auc(murmur_labels, murmur_scalar_outputs)\n",
    "    murmur_f_measure, murmur_f_measure_classes = compute_f_measure(murmur_labels, murmur_binary_outputs)\n",
    "    murmur_accuracy, murmur_accuracy_classes = compute_accuracy(murmur_labels, murmur_binary_outputs)\n",
    "    murmur_weighted_accuracy = compute_weighted_accuracy(murmur_labels, murmur_binary_outputs, murmur_classes) # This is the murmur scoring metric.\n",
    "    murmur_cost = compute_cost(outcome_labels, murmur_binary_outputs, outcome_classes, murmur_classes) # Use *outcomes* to score *murmurs* for the Challenge cost metric, but this is not the actual murmur scoring metric.\n",
    "    murmur_scores = (murmur_classes, murmur_auroc, murmur_auprc, murmur_auroc_classes, murmur_auprc_classes, \\\n",
    "                 murmur_f_measure, murmur_f_measure_classes, murmur_accuracy, murmur_accuracy_classes, murmur_weighted_accuracy, murmur_cost)\n",
    "\n",
    "    # Evaluate the outcome model by comparing the labels and model outputs.\n",
    "    outcome_auroc, outcome_auprc, outcome_auroc_classes, outcome_auprc_classes = compute_auc(outcome_labels, outcome_scalar_outputs)\n",
    "    outcome_f_measure, outcome_f_measure_classes = compute_f_measure(outcome_labels, outcome_binary_outputs)\n",
    "    outcome_accuracy, outcome_accuracy_classes = compute_accuracy(outcome_labels, outcome_binary_outputs)\n",
    "    outcome_weighted_accuracy = compute_weighted_accuracy(outcome_labels, outcome_binary_outputs, outcome_classes)\n",
    "    outcome_cost = compute_cost(outcome_labels, outcome_binary_outputs, outcome_classes, outcome_classes) # This is the clinical outcomes scoring metric.\n",
    "    outcome_scores = (outcome_classes, outcome_auroc, outcome_auprc, outcome_auroc_classes, outcome_auprc_classes, \\\n",
    "                  outcome_f_measure, outcome_f_measure_classes, outcome_accuracy, outcome_accuracy_classes, outcome_weighted_accuracy, outcome_cost)\n",
    "\n",
    "\n",
    "\n",
    "    classes, auroc, auprc, auroc_classes, auprc_classes, f_measure, f_measure_classes, accuracy, accuracy_classes, weighted_accuracy, cost = murmur_scores\n",
    "    murmur_output_string = 'AUROC,AUPRC,F-measure,Accuracy,Weighted Accuracy,Cost\\n{:.3f},{:.3f},{:.3f},{:.3f},{:.3f},{:.3f}\\n'.format(auroc, auprc, f_measure, accuracy, weighted_accuracy, cost)\n",
    "    murmur_class_output_string = 'Classes,{}\\nAUROC,{}\\nAUPRC,{}\\nF-measure,{}\\nAccuracy,{}\\n'.format(\n",
    "    ','.join(classes),\n",
    "    ','.join('{:.3f}'.format(x) for x in auroc_classes),\n",
    "    ','.join('{:.3f}'.format(x) for x in auprc_classes),\n",
    "    ','.join('{:.3f}'.format(x) for x in f_measure_classes),\n",
    "    ','.join('{:.3f}'.format(x) for x in accuracy_classes))\n",
    "\n",
    "    classes, auroc, auprc, auroc_classes, auprc_classes, f_measure, f_measure_classes, accuracy, accuracy_classes, weighted_accuracy, cost = outcome_scores\n",
    "    outcome_output_string = 'AUROC,AUPRC,F-measure,Accuracy,Weighted Accuracy,Cost\\n{:.3f},{:.3f},{:.3f},{:.3f},{:.3f},{:.3f}\\n'.format(auroc, auprc, f_measure, accuracy, weighted_accuracy, cost)\n",
    "    outcome_class_output_string = 'Classes,{}\\nAUROC,{}\\nAUPRC,{}\\nF-measure,{}\\nAccuracy,{}\\n'.format(\n",
    "    ','.join(classes),\n",
    "    ','.join('{:.3f}'.format(x) for x in auroc_classes),\n",
    "    ','.join('{:.3f}'.format(x) for x in auprc_classes),\n",
    "    ','.join('{:.3f}'.format(x) for x in f_measure_classes),\n",
    "    ','.join('{:.3f}'.format(x) for x in accuracy_classes))\n",
    "\n",
    "    output_string = '#Murmur scores\\n' + murmur_output_string + '\\n#Outcome scores\\n' + outcome_output_string \\\n",
    "                + '\\n#Murmur scores (per class)\\n' + murmur_class_output_string + '\\n#Outcome scores (per class)\\n' + outcome_class_output_string\n",
    "    print(\"threshold: \", th1)\n",
    "    print(output_string)\n",
    "    print(\"-------------\")"
   ]
  },
  {
   "cell_type": "code",
   "execution_count": null,
   "id": "e6615bae",
   "metadata": {},
   "outputs": [],
   "source": []
  },
  {
   "cell_type": "code",
   "execution_count": null,
   "id": "5f95548d",
   "metadata": {},
   "outputs": [],
   "source": []
  },
  {
   "cell_type": "code",
   "execution_count": null,
   "id": "8681adbc",
   "metadata": {},
   "outputs": [],
   "source": []
  },
  {
   "cell_type": "code",
   "execution_count": null,
   "id": "f084c345",
   "metadata": {},
   "outputs": [],
   "source": []
  },
  {
   "cell_type": "code",
   "execution_count": null,
   "id": "5c260645",
   "metadata": {},
   "outputs": [],
   "source": []
  },
  {
   "cell_type": "code",
   "execution_count": null,
   "id": "7367ffff",
   "metadata": {},
   "outputs": [],
   "source": []
  },
  {
   "cell_type": "code",
   "execution_count": null,
   "id": "a95bdc02",
   "metadata": {},
   "outputs": [],
   "source": []
  },
  {
   "cell_type": "code",
   "execution_count": null,
   "id": "f085d621",
   "metadata": {},
   "outputs": [],
   "source": []
  },
  {
   "cell_type": "code",
   "execution_count": null,
   "id": "5765ba6a",
   "metadata": {},
   "outputs": [],
   "source": []
  },
  {
   "cell_type": "code",
   "execution_count": null,
   "id": "a555c4c3",
   "metadata": {},
   "outputs": [],
   "source": []
  },
  {
   "cell_type": "code",
   "execution_count": null,
   "id": "bb44c1d7",
   "metadata": {},
   "outputs": [],
   "source": []
  },
  {
   "cell_type": "code",
   "execution_count": null,
   "id": "bd2c13c9",
   "metadata": {},
   "outputs": [],
   "source": []
  },
  {
   "cell_type": "code",
   "execution_count": null,
   "id": "5db42aca",
   "metadata": {},
   "outputs": [],
   "source": []
  },
  {
   "cell_type": "code",
   "execution_count": null,
   "id": "bb4f90b1",
   "metadata": {},
   "outputs": [],
   "source": []
  },
  {
   "cell_type": "code",
   "execution_count": null,
   "id": "51aa06e9",
   "metadata": {},
   "outputs": [],
   "source": []
  },
  {
   "cell_type": "code",
   "execution_count": null,
   "id": "4c7407d0",
   "metadata": {},
   "outputs": [],
   "source": []
  },
  {
   "cell_type": "code",
   "execution_count": null,
   "id": "2c27aa5b",
   "metadata": {},
   "outputs": [],
   "source": []
  },
  {
   "cell_type": "code",
   "execution_count": null,
   "id": "205f283a",
   "metadata": {},
   "outputs": [],
   "source": []
  }
 ],
 "metadata": {
  "kernelspec": {
   "display_name": "Python 3 (ipykernel)",
   "language": "python",
   "name": "python3"
  },
  "language_info": {
   "codemirror_mode": {
    "name": "ipython",
    "version": 3
   },
   "file_extension": ".py",
   "mimetype": "text/x-python",
   "name": "python",
   "nbconvert_exporter": "python",
   "pygments_lexer": "ipython3",
   "version": "3.8.13"
  }
 },
 "nbformat": 4,
 "nbformat_minor": 5
}
