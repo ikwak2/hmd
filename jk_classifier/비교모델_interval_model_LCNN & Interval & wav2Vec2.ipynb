{
 "cells": [
  {
   "cell_type": "code",
   "execution_count": 1,
   "id": "3d55dbd4",
   "metadata": {},
   "outputs": [],
   "source": [
    "import tensorflow as tf"
   ]
  },
  {
   "cell_type": "code",
   "execution_count": 2,
   "id": "ad188626",
   "metadata": {
    "scrolled": true
   },
   "outputs": [
    {
     "name": "stderr",
     "output_type": "stream",
     "text": [
      "2022-08-11 16:35:18.522237: I tensorflow/stream_executor/cuda/cuda_gpu_executor.cc:936] successful NUMA node read from SysFS had negative value (-1), but there must be at least one NUMA node, so returning NUMA node zero\n",
      "2022-08-11 16:35:18.541478: I tensorflow/stream_executor/cuda/cuda_gpu_executor.cc:936] successful NUMA node read from SysFS had negative value (-1), but there must be at least one NUMA node, so returning NUMA node zero\n",
      "2022-08-11 16:35:18.543093: I tensorflow/stream_executor/cuda/cuda_gpu_executor.cc:936] successful NUMA node read from SysFS had negative value (-1), but there must be at least one NUMA node, so returning NUMA node zero\n",
      "2022-08-11 16:35:18.546022: I tensorflow/core/platform/cpu_feature_guard.cc:151] This TensorFlow binary is optimized with oneAPI Deep Neural Network Library (oneDNN) to use the following CPU instructions in performance-critical operations:  AVX2 FMA\n",
      "To enable them in other operations, rebuild TensorFlow with the appropriate compiler flags.\n",
      "2022-08-11 16:35:18.550408: I tensorflow/stream_executor/cuda/cuda_gpu_executor.cc:936] successful NUMA node read from SysFS had negative value (-1), but there must be at least one NUMA node, so returning NUMA node zero\n",
      "2022-08-11 16:35:18.552022: I tensorflow/stream_executor/cuda/cuda_gpu_executor.cc:936] successful NUMA node read from SysFS had negative value (-1), but there must be at least one NUMA node, so returning NUMA node zero\n",
      "2022-08-11 16:35:18.553211: I tensorflow/stream_executor/cuda/cuda_gpu_executor.cc:936] successful NUMA node read from SysFS had negative value (-1), but there must be at least one NUMA node, so returning NUMA node zero\n",
      "2022-08-11 16:35:18.919651: I tensorflow/stream_executor/cuda/cuda_gpu_executor.cc:936] successful NUMA node read from SysFS had negative value (-1), but there must be at least one NUMA node, so returning NUMA node zero\n",
      "2022-08-11 16:35:18.919978: I tensorflow/stream_executor/cuda/cuda_gpu_executor.cc:936] successful NUMA node read from SysFS had negative value (-1), but there must be at least one NUMA node, so returning NUMA node zero\n",
      "2022-08-11 16:35:18.920247: I tensorflow/stream_executor/cuda/cuda_gpu_executor.cc:936] successful NUMA node read from SysFS had negative value (-1), but there must be at least one NUMA node, so returning NUMA node zero\n",
      "2022-08-11 16:35:18.920497: I tensorflow/core/common_runtime/gpu/gpu_device.cc:1525] Created device /job:localhost/replica:0/task:0/device:GPU:0 with 9228 MB memory:  -> device: 0, name: GeForce RTX 2080 Ti, pci bus id: 0000:01:00.0, compute capability: 7.5\n"
     ]
    }
   ],
   "source": [
    "import os\n",
    "import pandas as pd\n",
    "import numpy as np\n",
    "import scipy as sp\n",
    "import scipy.stats\n",
    "import librosa\n",
    "import librosa.display\n",
    "import math\n",
    "import sys\n",
    "#sys.path.insert(0,'/home/ikwak2/hmd/notebooks')\n",
    "sys.path.insert(0,'lucashnegri-peakutils-51a679cd8428')\n",
    "# sys.path.insert(0,'S1-S1-Phonocardiogram-Peak-Detection-Method-in-Python')\n",
    "sys.path.insert(0,'utils')\n",
    "from helper_code import *\n",
    "from get_feature import *\n",
    "from models import *\n",
    "from Generator0 import *\n",
    "from keras.preprocessing import sequence\n",
    "# import peakutils\n",
    "from scipy import special\n",
    "import scipy.io as sio\n",
    "from keras.preprocessing.sequence import pad_sequences\n",
    "import peakutils\n",
    "from tensorflow import keras\n",
    "from tensorflow.keras import layers\n",
    "from tensorflow.keras.callbacks import LearningRateScheduler,ModelCheckpoint"
   ]
  },
  {
   "cell_type": "code",
   "execution_count": 3,
   "id": "f8c573ff",
   "metadata": {},
   "outputs": [
    {
     "data": {
      "text/plain": [
       "'/home/jk21/Documents/hmd/jk_classifier'"
      ]
     },
     "execution_count": 3,
     "metadata": {},
     "output_type": "execute_result"
    }
   ],
   "source": [
    "pwd"
   ]
  },
  {
   "cell_type": "code",
   "execution_count": 4,
   "id": "42f5dd9c",
   "metadata": {},
   "outputs": [],
   "source": [
    "# data_folder =  'physionet.org/files/circor-heart-sound/1.0.3/training_data'\n",
    "train_folder =  '/home/jk21/Downloads/Data/data/murmur/train'\n",
    "test_folder = '/home/jk21/Downloads/Data/data/murmur/test'\n"
   ]
  },
  {
   "cell_type": "code",
   "execution_count": 5,
   "id": "ca657f78",
   "metadata": {},
   "outputs": [],
   "source": [
    "model_folder = 'lcnn2'"
   ]
  },
  {
   "cell_type": "code",
   "execution_count": 6,
   "id": "e49f868b",
   "metadata": {},
   "outputs": [
    {
     "data": {
      "text/plain": [
       "'lcnn2'"
      ]
     },
     "execution_count": 6,
     "metadata": {},
     "output_type": "execute_result"
    }
   ],
   "source": [
    "model_folder"
   ]
  },
  {
   "cell_type": "code",
   "execution_count": 7,
   "id": "e76c75d5",
   "metadata": {},
   "outputs": [],
   "source": [
    "def sigmoidal_decay(e, start=0, end=100, lr_start=1e-3, lr_end=1e-5):\n",
    "    if e < start:\n",
    "        return lr_start\n",
    "    elif e > end:\n",
    "        return lr_end\n",
    "\n",
    "    middle = (start + end) / 2\n",
    "    s = lambda x: 1 / (1 + np.exp(-x))\n",
    "\n",
    "    return s(13 * (-e + middle) / np.abs(end - start)) * np.abs(lr_start - lr_end) + lr_end"
   ]
  },
  {
   "cell_type": "code",
   "execution_count": 8,
   "id": "ac7432d8",
   "metadata": {},
   "outputs": [],
   "source": [
    "patient_files_trn = find_patient_files(train_folder)\n",
    "patient_files_test = find_patient_files(test_folder)"
   ]
  },
  {
   "cell_type": "code",
   "execution_count": 9,
   "id": "a30c2ab2",
   "metadata": {},
   "outputs": [],
   "source": [
    "\n",
    "\n",
    "per_sec=16000\n",
    "winlen = 512\n",
    "hoplen = 256\n",
    "nmel = 120 \n",
    "nsec = 20 \n",
    "trim = 1 \n",
    "use_mel=True\n",
    "use_cqt = False \n",
    "use_stft = False\n",
    "use_raw=True\n",
    "use_interval=True\n",
    "use_wav2=True\n",
    "maxlen1 = 246000\n",
    "min_dist = 500\n",
    "max_interval_len = 192\n"
   ]
  },
  {
   "cell_type": "code",
   "execution_count": 10,
   "id": "701e9583",
   "metadata": {},
   "outputs": [],
   "source": [
    "model1_callback = tf.keras.callbacks.ModelCheckpoint(\n",
    "    filepath=model_folder,\n",
    "    monitor='val_accuracy',\n",
    "    verbose=0,\n",
    "    save_best_only=True,\n",
    "    save_weights_only=True,\n",
    "    mode='auto',\n",
    "    save_freq='epoch',\n",
    "    options=None,\n",
    "    initial_value_threshold=None\n",
    ")\n"
   ]
  },
  {
   "cell_type": "code",
   "execution_count": 11,
   "id": "d03a4cfb",
   "metadata": {},
   "outputs": [],
   "source": [
    "model2_callback = tf.keras.callbacks.ModelCheckpoint(\n",
    "    filepath=model_folder,\n",
    "    monitor='val_loss',\n",
    "    verbose=0,\n",
    "    save_best_only=True,\n",
    "    save_weights_only=True,\n",
    "    mode='auto',\n",
    "    save_freq='epoch',\n",
    "    options=None,\n",
    "    initial_value_threshold=None\n",
    ")    "
   ]
  },
  {
   "cell_type": "code",
   "execution_count": 12,
   "id": "ef84621c",
   "metadata": {},
   "outputs": [],
   "source": [
    "params_feature = {'samp_sec': nsec,\n",
    "                  #### melspec, stft 피쳐 옵션들  \n",
    "                  'pre_emphasis': 0,\n",
    "                  'hop_length': hoplen,\n",
    "                  'win_length': winlen,\n",
    "                  'n_mels': nmel,\n",
    "                  #### cqt 피쳐 옵션들  \n",
    "                  'filter_scale': 1,\n",
    "                  'n_bins': 80,\n",
    "                  'fmin': 10,\n",
    "                  'maxlen1': maxlen1,\n",
    "                  'min_dist':min_dist,\n",
    "                  'max_interval_len' : max_interval_len,\n",
    "                  'trim' :1,\n",
    "                  'use_raw' : use_raw,\n",
    "                  'use_mel' : use_mel,\n",
    "                  'use_cqt' : use_cqt,\n",
    "                  'use_stft' : use_stft,\n",
    "                  'use_interval' : use_interval,\n",
    "                  'use_wav2' : use_wav2,\n",
    "                  'per_sec' : per_sec\n",
    "}"
   ]
  },
  {
   "cell_type": "code",
   "execution_count": 13,
   "id": "ca1fabdb",
   "metadata": {},
   "outputs": [],
   "source": [
    "params_feature = {'samp_sec': nsec,\n",
    "                  #### melspec, stft 피쳐 옵션들  \n",
    "                  'pre_emphasis': 0,\n",
    "                  'hop_length': hoplen,\n",
    "                  'win_length': winlen,\n",
    "                  'n_mels': nmel,\n",
    "                  #### cqt 피쳐 옵션들  \n",
    "                  'filter_scale': 1,\n",
    "                  'n_bins': 80,\n",
    "                  'fmin': 10,\n",
    "                  'maxlen1': maxlen1,\n",
    "                  'min_dist':min_dist,\n",
    "                  'max_interval_len' : max_interval_len,\n",
    "                  'trim' :1,\n",
    "                  'use_raw' : use_raw,\n",
    "                  'use_mel' : use_mel,\n",
    "                  'use_cqt' : use_cqt,\n",
    "                  'use_stft' : use_stft,\n",
    "                  'use_interval' : use_interval,\n",
    "                  'use_wav2' : use_wav2,\n",
    "                  'per_sec' : per_sec\n",
    "}"
   ]
  },
  {
   "cell_type": "code",
   "execution_count": 14,
   "id": "a4acff06",
   "metadata": {},
   "outputs": [
    {
     "data": {
      "text/plain": [
       "{'samp_sec': 20,\n",
       " 'pre_emphasis': 0,\n",
       " 'hop_length': 256,\n",
       " 'win_length': 512,\n",
       " 'n_mels': 120,\n",
       " 'filter_scale': 1,\n",
       " 'n_bins': 80,\n",
       " 'fmin': 10,\n",
       " 'maxlen1': 246000,\n",
       " 'min_dist': 500,\n",
       " 'max_interval_len': 192,\n",
       " 'trim': 1,\n",
       " 'use_raw': True,\n",
       " 'use_mel': True,\n",
       " 'use_cqt': False,\n",
       " 'use_stft': False,\n",
       " 'use_interval': True,\n",
       " 'use_wav2': True,\n",
       " 'per_sec': 16000}"
      ]
     },
     "execution_count": 14,
     "metadata": {},
     "output_type": "execute_result"
    }
   ],
   "source": [
    "params_feature"
   ]
  },
  {
   "cell_type": "code",
   "execution_count": null,
   "id": "c01a8f6e",
   "metadata": {},
   "outputs": [],
   "source": []
  },
  {
   "cell_type": "code",
   "execution_count": null,
   "id": "0b945a1a",
   "metadata": {},
   "outputs": [],
   "source": []
  },
  {
   "cell_type": "code",
   "execution_count": null,
   "id": "cec357e4",
   "metadata": {},
   "outputs": [],
   "source": []
  },
  {
   "cell_type": "code",
   "execution_count": 16,
   "id": "caa0f60d",
   "metadata": {},
   "outputs": [
    {
     "name": "stderr",
     "output_type": "stream",
     "text": [
      "100%|█████████████████████████████████████████| 751/751 [28:36<00:00,  2.29s/it]\n"
     ]
    },
    {
     "name": "stdout",
     "output_type": "stream",
     "text": [
      "melspec:  120 313\n",
      "cqt:  1 1\n",
      "stft:  1 1\n",
      "interval:  192 1\n",
      "raw1:  (246000,)\n"
     ]
    }
   ],
   "source": [
    "features_trn, mel_input_shape, cqt_input_shape,stft_input_shape,interval_input_shape,raw1_input_shape = get_features_3lb_all_ord(train_folder, patient_files_trn, **params_feature)\n"
   ]
  },
  {
   "cell_type": "code",
   "execution_count": 17,
   "id": "b04d2593",
   "metadata": {},
   "outputs": [
    {
     "name": "stderr",
     "output_type": "stream",
     "text": [
      "100%|█████████████████████████████████████████| 191/191 [08:00<00:00,  2.51s/it]\n"
     ]
    },
    {
     "name": "stdout",
     "output_type": "stream",
     "text": [
      "melspec:  120 313\n",
      "cqt:  1 1\n",
      "stft:  1 1\n",
      "interval:  192 1\n",
      "raw1:  (246000,)\n"
     ]
    }
   ],
   "source": [
    "features_test, mel_input_shape, cqt_input_shape,stft_input_shape,interval_input_shape,raw1_input_shape= get_features_3lb_all_ord(test_folder, patient_files_test, **params_feature)"
   ]
  },
  {
   "cell_type": "code",
   "execution_count": null,
   "id": "cd3db089",
   "metadata": {},
   "outputs": [],
   "source": []
  },
  {
   "cell_type": "code",
   "execution_count": null,
   "id": "fc048e01",
   "metadata": {},
   "outputs": [],
   "source": []
  },
  {
   "cell_type": "code",
   "execution_count": null,
   "id": "c49dd9a7",
   "metadata": {},
   "outputs": [],
   "source": []
  },
  {
   "cell_type": "code",
   "execution_count": null,
   "id": "3300e7d8",
   "metadata": {},
   "outputs": [],
   "source": []
  },
  {
   "cell_type": "code",
   "execution_count": null,
   "id": "4c5c77ac",
   "metadata": {},
   "outputs": [],
   "source": []
  },
  {
   "cell_type": "code",
   "execution_count": null,
   "id": "f701412d",
   "metadata": {},
   "outputs": [],
   "source": []
  },
  {
   "cell_type": "code",
   "execution_count": null,
   "id": "c062bb96",
   "metadata": {},
   "outputs": [],
   "source": []
  },
  {
   "cell_type": "code",
   "execution_count": 15,
   "id": "c05f1a96",
   "metadata": {},
   "outputs": [],
   "source": [
    "mm_weight = 3 #np.random.choice([2,3,4,5])\n",
    "oo_weight = 3 #np.random.choice([2,3,4,5,6])\n",
    "ord1 = True #np.random.choice([True,False])\n",
    "mm_mean = False #np.random.choice([True,False])\n",
    "dp = 0 #np.random.choice([0, .1, .2, .3])\n",
    "fc = False #np.random.choice([True,False])\n",
    "ext = True\n",
    "chaug = 10 #np.random.choice([0, 10])\n",
    "mixup = True #np.random.choice([True,False])\n",
    "cout = .8 #np.random.choice([0, 0.8])\n",
    "wunknown = 1 #np.random.choice([1, 0.7, .5, .2])\n",
    "n1 = 0 #np.random.choice([0,2])\n",
    "if n1 == 0 :\n",
    "    ranfil = False\n",
    "else :\n",
    "    ranfil = [n1, [18,19,20,21,22,23]]"
   ]
  },
  {
   "cell_type": "code",
   "execution_count": 16,
   "id": "9fe819a9",
   "metadata": {},
   "outputs": [],
   "source": [
    "params_feature['ord1'] = ord1\n",
    "params_feature['mm_mean'] = mm_mean\n",
    "params_feature['dp'] = dp\n",
    "params_feature['fc'] = fc\n",
    "params_feature['ext'] = ext\n",
    "params_feature['oo_weight'] = oo_weight\n",
    "params_feature['mm_weight'] = mm_weight\n",
    "params_feature['chaug'] = chaug\n",
    "params_feature['cout'] = cout\n",
    "params_feature['wunknown'] = wunknown\n",
    "params_feature['mixup'] = mixup\n",
    "params_feature['n1'] = n1"
   ]
  },
  {
   "cell_type": "code",
   "execution_count": 17,
   "id": "12a59049",
   "metadata": {},
   "outputs": [
    {
     "data": {
      "text/plain": [
       "{'samp_sec': 20,\n",
       " 'pre_emphasis': 0,\n",
       " 'hop_length': 256,\n",
       " 'win_length': 512,\n",
       " 'n_mels': 120,\n",
       " 'filter_scale': 1,\n",
       " 'n_bins': 80,\n",
       " 'fmin': 10,\n",
       " 'maxlen1': 246000,\n",
       " 'min_dist': 500,\n",
       " 'max_interval_len': 192,\n",
       " 'trim': 1,\n",
       " 'use_raw': True,\n",
       " 'use_mel': True,\n",
       " 'use_cqt': False,\n",
       " 'use_stft': False,\n",
       " 'use_interval': True,\n",
       " 'use_wav2': True,\n",
       " 'per_sec': 16000,\n",
       " 'ord1': True,\n",
       " 'mm_mean': False,\n",
       " 'dp': 0,\n",
       " 'fc': False,\n",
       " 'ext': True,\n",
       " 'oo_weight': 3,\n",
       " 'mm_weight': 3,\n",
       " 'chaug': 10,\n",
       " 'cout': 0.8,\n",
       " 'wunknown': 1,\n",
       " 'mixup': True,\n",
       " 'n1': 0}"
      ]
     },
     "execution_count": 17,
     "metadata": {},
     "output_type": "execute_result"
    }
   ],
   "source": [
    "params_feature"
   ]
  },
  {
   "cell_type": "code",
   "execution_count": null,
   "id": "17cd191d",
   "metadata": {},
   "outputs": [],
   "source": []
  },
  {
   "cell_type": "code",
   "execution_count": null,
   "id": "24434998",
   "metadata": {},
   "outputs": [],
   "source": []
  },
  {
   "cell_type": "code",
   "execution_count": null,
   "id": "ee510fdf",
   "metadata": {},
   "outputs": [],
   "source": []
  },
  {
   "cell_type": "code",
   "execution_count": null,
   "id": "dd6457f0",
   "metadata": {},
   "outputs": [],
   "source": []
  },
  {
   "cell_type": "code",
   "execution_count": 18,
   "id": "8b2ff2db",
   "metadata": {
    "scrolled": true
   },
   "outputs": [],
   "source": [
    "with open('/home/jk21/Downloads/Data/features_trn_wav2vec_include_interval_4sec.pickle', 'wb') as f:\n",
    "    pickle.dump(features_trn, f, pickle.HIGHEST_PROTOCOL)"
   ]
  },
  {
   "cell_type": "code",
   "execution_count": 19,
   "id": "b9f7179a",
   "metadata": {
    "scrolled": true
   },
   "outputs": [],
   "source": [
    "with open('/home/jk21/Downloads/Data/features_test_wav2vec_include_interval_4sec.pickle', 'wb') as f:\n",
    "    pickle.dump(features_test, f, pickle.HIGHEST_PROTOCOL)"
   ]
  },
  {
   "cell_type": "code",
   "execution_count": 18,
   "id": "79f59c5e",
   "metadata": {
    "scrolled": true
   },
   "outputs": [],
   "source": [
    "with open('/home/jk21/Downloads/Data/features_trn_wav2vec_include_interval_4sec.pickle', 'rb') as f:\n",
    "    features_trn = pickle.load(f)"
   ]
  },
  {
   "cell_type": "code",
   "execution_count": 19,
   "id": "dd412feb",
   "metadata": {},
   "outputs": [],
   "source": [
    "with open('/home/jk21/Downloads/Data/features_test_wav2vec_include_interval_4sec.pickle', 'rb') as f:\n",
    "    features_test = pickle.load(f)"
   ]
  },
  {
   "cell_type": "code",
   "execution_count": null,
   "id": "1499b589",
   "metadata": {},
   "outputs": [],
   "source": []
  },
  {
   "cell_type": "code",
   "execution_count": 20,
   "id": "400ceb7b",
   "metadata": {},
   "outputs": [],
   "source": [
    "#################################################"
   ]
  },
  {
   "cell_type": "code",
   "execution_count": 21,
   "id": "ce38e56d",
   "metadata": {},
   "outputs": [],
   "source": [
    "# from skimage.transform import resize\n",
    "# import matplotlib.pyplot as plt"
   ]
  },
  {
   "cell_type": "code",
   "execution_count": 18,
   "id": "48ced533",
   "metadata": {
    "scrolled": true
   },
   "outputs": [],
   "source": [
    "# tmp_wav2 = np.zeros((2532,32,374,1))\n",
    "# for i in range(len(features_trn['wav2'])):\n",
    "#     test_ary=features_trn['wav2'][i]\n",
    "#     res = resize(test_ary, (32,374,1))\n",
    "#     tmp_wav2[i]=res\n",
    "    "
   ]
  },
  {
   "cell_type": "code",
   "execution_count": 19,
   "id": "5c97584d",
   "metadata": {},
   "outputs": [],
   "source": [
    "# features_trn['wav2'] = tmp_wav2"
   ]
  },
  {
   "cell_type": "code",
   "execution_count": 32,
   "id": "0d02ec74",
   "metadata": {},
   "outputs": [
    {
     "data": {
      "text/plain": [
       "<matplotlib.image.AxesImage at 0x7ef9fc2f79d0>"
      ]
     },
     "execution_count": 32,
     "metadata": {},
     "output_type": "execute_result"
    },
    {
     "data": {
      "image/png": "[encoded data removed]",
      "text/plain": [
       "<Figure size 432x288 with 1 Axes>"
      ]
     },
     "metadata": {
      "needs_background": "light"
     },
     "output_type": "display_data"
    }
   ],
   "source": [
    "# plt.imshow(features_trn['wav2'][1])"
   ]
  },
  {
   "cell_type": "code",
   "execution_count": 20,
   "id": "31a6445a",
   "metadata": {},
   "outputs": [],
   "source": [
    "# tmp_wav2 = np.zeros((631,32,374,1))\n",
    "# for i in range(len(features_test['wav2'])):\n",
    "#     test_ary=features_test['wav2'][i]\n",
    "#     res = resize(test_ary, (32,374,1))\n",
    "#     tmp_wav2[i]=res"
   ]
  },
  {
   "cell_type": "code",
   "execution_count": 21,
   "id": "84a44f20",
   "metadata": {},
   "outputs": [],
   "source": [
    "# features_test['wav2'] = tmp_wav2"
   ]
  },
  {
   "cell_type": "code",
   "execution_count": null,
   "id": "0c6ed279",
   "metadata": {},
   "outputs": [],
   "source": [
    "##################################################"
   ]
  },
  {
   "cell_type": "code",
   "execution_count": null,
   "id": "50bc780b",
   "metadata": {},
   "outputs": [],
   "source": []
  },
  {
   "cell_type": "code",
   "execution_count": null,
   "id": "6f410772",
   "metadata": {},
   "outputs": [],
   "source": []
  },
  {
   "cell_type": "code",
   "execution_count": null,
   "id": "b3a0769f",
   "metadata": {},
   "outputs": [],
   "source": []
  },
  {
   "cell_type": "code",
   "execution_count": 22,
   "id": "460de784",
   "metadata": {},
   "outputs": [],
   "source": [
    "mel_input_shape = features_trn['mel1'].shape[1:]"
   ]
  },
  {
   "cell_type": "code",
   "execution_count": 23,
   "id": "5d0291cb",
   "metadata": {},
   "outputs": [
    {
     "data": {
      "text/plain": [
       "(120, 313, 1)"
      ]
     },
     "execution_count": 23,
     "metadata": {},
     "output_type": "execute_result"
    }
   ],
   "source": [
    "mel_input_shape"
   ]
  },
  {
   "cell_type": "code",
   "execution_count": 24,
   "id": "ec06d09a",
   "metadata": {},
   "outputs": [],
   "source": [
    "cqt_input_shape = features_trn['cqt1'].shape[1:]"
   ]
  },
  {
   "cell_type": "code",
   "execution_count": 25,
   "id": "31599947",
   "metadata": {},
   "outputs": [
    {
     "data": {
      "text/plain": [
       "(1, 1, 1)"
      ]
     },
     "execution_count": 25,
     "metadata": {},
     "output_type": "execute_result"
    }
   ],
   "source": [
    "cqt_input_shape"
   ]
  },
  {
   "cell_type": "code",
   "execution_count": 26,
   "id": "861213a4",
   "metadata": {},
   "outputs": [],
   "source": [
    "stft_input_shape = features_trn['stft1'].shape[1:]"
   ]
  },
  {
   "cell_type": "code",
   "execution_count": 27,
   "id": "6e151a70",
   "metadata": {},
   "outputs": [
    {
     "data": {
      "text/plain": [
       "(1, 1, 1)"
      ]
     },
     "execution_count": 27,
     "metadata": {},
     "output_type": "execute_result"
    }
   ],
   "source": [
    "stft_input_shape"
   ]
  },
  {
   "cell_type": "code",
   "execution_count": 28,
   "id": "0b7eb1dd",
   "metadata": {},
   "outputs": [],
   "source": [
    "interval_input_shape= features_trn['interval'].shape[1:]"
   ]
  },
  {
   "cell_type": "code",
   "execution_count": 29,
   "id": "6c31f94d",
   "metadata": {
    "scrolled": true
   },
   "outputs": [
    {
     "data": {
      "text/plain": [
       "(192, 1)"
      ]
     },
     "execution_count": 29,
     "metadata": {},
     "output_type": "execute_result"
    }
   ],
   "source": [
    "interval_input_shape"
   ]
  },
  {
   "cell_type": "code",
   "execution_count": 30,
   "id": "c26d851e",
   "metadata": {},
   "outputs": [],
   "source": [
    "wav2_input_shape= features_trn['wav2'].shape[1:]"
   ]
  },
  {
   "cell_type": "code",
   "execution_count": 31,
   "id": "7553a46c",
   "metadata": {},
   "outputs": [
    {
     "data": {
      "text/plain": [
       "(32, 768)"
      ]
     },
     "execution_count": 31,
     "metadata": {},
     "output_type": "execute_result"
    }
   ],
   "source": [
    "wav2_input_shape"
   ]
  },
  {
   "cell_type": "code",
   "execution_count": 32,
   "id": "d699029c",
   "metadata": {},
   "outputs": [],
   "source": [
    "raw1_input_shape= features_trn['raw1'].shape[1:]"
   ]
  },
  {
   "cell_type": "code",
   "execution_count": 33,
   "id": "5e26098d",
   "metadata": {},
   "outputs": [
    {
     "data": {
      "text/plain": [
       "(246000,)"
      ]
     },
     "execution_count": 33,
     "metadata": {},
     "output_type": "execute_result"
    }
   ],
   "source": [
    "raw1_input_shape"
   ]
  },
  {
   "cell_type": "code",
   "execution_count": null,
   "id": "487c7f3d",
   "metadata": {},
   "outputs": [],
   "source": []
  },
  {
   "cell_type": "code",
   "execution_count": null,
   "id": "ba197b18",
   "metadata": {},
   "outputs": [],
   "source": []
  },
  {
   "cell_type": "code",
   "execution_count": null,
   "id": "2a10a059",
   "metadata": {},
   "outputs": [],
   "source": []
  },
  {
   "cell_type": "code",
   "execution_count": 34,
   "id": "5ffbed82",
   "metadata": {
    "scrolled": true
   },
   "outputs": [],
   "source": [
    "model1 = get_LCNN_o_4_dr_1(mel_input_shape, cqt_input_shape, stft_input_shape,interval_input_shape,wav2_input_shape,raw1_input_shape,use_mel = use_mel, use_raw=use_raw,use_wav2=use_wav2, ord1 = ord1,dp = dp, fc = fc, ext = ext)"
   ]
  },
  {
   "cell_type": "code",
   "execution_count": 35,
   "id": "9ccc8685",
   "metadata": {},
   "outputs": [],
   "source": [
    "\n",
    "model2 = get_LCNN_o_4_dr_1(mel_input_shape, cqt_input_shape, stft_input_shape,interval_input_shape,wav2_input_shape,raw1_input_shape,use_mel = use_mel, use_raw=use_raw,use_wav2=use_wav2, ord1 = ord1,dp = dp, fc = fc, ext = ext)\n"
   ]
  },
  {
   "cell_type": "code",
   "execution_count": 36,
   "id": "4e462fa8",
   "metadata": {},
   "outputs": [
    {
     "name": "stdout",
     "output_type": "stream",
     "text": [
      "Model: \"model_1\"\n",
      "__________________________________________________________________________________________________\n",
      " Layer (type)                   Output Shape         Param #     Connected to                     \n",
      "==================================================================================================\n",
      " raw1 (InputLayer)              [(None, 246000)]     0           []                               \n",
      "                                                                                                  \n",
      " wav2 (InputLayer)              [(None, 32, 768)]    0           []                               \n",
      "                                                                                                  \n",
      " reshape (Reshape)              (None, 300, 820)     0           ['raw1[0][0]']                   \n",
      "                                                                                                  \n",
      " conv1d_60 (Conv1D)             (None, 32, 9)        20745       ['wav2[0][0]']                   \n",
      "                                                                                                  \n",
      " conv1d_61 (Conv1D)             (None, 32, 9)        20745       ['wav2[0][0]']                   \n",
      "                                                                                                  \n",
      " conv1d_20 (Conv1D)             (None, 300, 9)       22149       ['reshape[0][0]']                \n",
      "                                                                                                  \n",
      " conv1d_21 (Conv1D)             (None, 300, 9)       22149       ['reshape[0][0]']                \n",
      "                                                                                                  \n",
      " maximum_30 (Maximum)           (None, 32, 9)        0           ['conv1d_60[0][0]',              \n",
      "                                                                  'conv1d_61[0][0]']              \n",
      "                                                                                                  \n",
      " maximum_10 (Maximum)           (None, 300, 9)       0           ['conv1d_20[0][0]',              \n",
      "                                                                  'conv1d_21[0][0]']              \n",
      "                                                                                                  \n",
      " max_pooling1d_30 (MaxPooling1D  (None, 31, 9)       0           ['maximum_30[0][0]']             \n",
      " )                                                                                                \n",
      "                                                                                                  \n",
      " max_pooling1d_10 (MaxPooling1D  (None, 299, 9)      0           ['maximum_10[0][0]']             \n",
      " )                                                                                                \n",
      "                                                                                                  \n",
      " conv1d_62 (Conv1D)             (None, 31, 9)        171         ['max_pooling1d_30[0][0]']       \n",
      "                                                                                                  \n",
      " conv1d_63 (Conv1D)             (None, 31, 9)        171         ['max_pooling1d_30[0][0]']       \n",
      "                                                                                                  \n",
      " conv1d_22 (Conv1D)             (None, 299, 9)       171         ['max_pooling1d_10[0][0]']       \n",
      "                                                                                                  \n",
      " conv1d_23 (Conv1D)             (None, 299, 9)       171         ['max_pooling1d_10[0][0]']       \n",
      "                                                                                                  \n",
      " maximum_31 (Maximum)           (None, 31, 9)        0           ['conv1d_62[0][0]',              \n",
      "                                                                  'conv1d_63[0][0]']              \n",
      "                                                                                                  \n",
      " maximum_11 (Maximum)           (None, 299, 9)       0           ['conv1d_22[0][0]',              \n",
      "                                                                  'conv1d_23[0][0]']              \n",
      "                                                                                                  \n",
      " max_pooling1d_31 (MaxPooling1D  (None, 30, 9)       0           ['maximum_31[0][0]']             \n",
      " )                                                                                                \n",
      "                                                                                                  \n",
      " max_pooling1d_11 (MaxPooling1D  (None, 298, 9)      0           ['maximum_11[0][0]']             \n",
      " )                                                                                                \n",
      "                                                                                                  \n",
      " conv1d_64 (Conv1D)             (None, 30, 9)        171         ['max_pooling1d_31[0][0]']       \n",
      "                                                                                                  \n",
      " conv1d_65 (Conv1D)             (None, 30, 9)        171         ['max_pooling1d_31[0][0]']       \n",
      "                                                                                                  \n",
      " conv1d_24 (Conv1D)             (None, 298, 9)       171         ['max_pooling1d_11[0][0]']       \n",
      "                                                                                                  \n",
      " conv1d_25 (Conv1D)             (None, 298, 9)       171         ['max_pooling1d_11[0][0]']       \n",
      "                                                                                                  \n",
      " maximum_32 (Maximum)           (None, 30, 9)        0           ['conv1d_64[0][0]',              \n",
      "                                                                  'conv1d_65[0][0]']              \n",
      "                                                                                                  \n",
      " maximum_12 (Maximum)           (None, 298, 9)       0           ['conv1d_24[0][0]',              \n",
      "                                                                  'conv1d_25[0][0]']              \n",
      "                                                                                                  \n",
      " max_pooling1d_32 (MaxPooling1D  (None, 29, 9)       0           ['maximum_32[0][0]']             \n",
      " )                                                                                                \n",
      "                                                                                                  \n",
      " max_pooling1d_12 (MaxPooling1D  (None, 297, 9)      0           ['maximum_12[0][0]']             \n",
      " )                                                                                                \n",
      "                                                                                                  \n",
      " conv1d_66 (Conv1D)             (None, 29, 9)        171         ['max_pooling1d_32[0][0]']       \n",
      "                                                                                                  \n",
      " conv1d_67 (Conv1D)             (None, 29, 9)        171         ['max_pooling1d_32[0][0]']       \n",
      "                                                                                                  \n",
      " conv1d_26 (Conv1D)             (None, 297, 9)       171         ['max_pooling1d_12[0][0]']       \n",
      "                                                                                                  \n",
      " conv1d_27 (Conv1D)             (None, 297, 9)       171         ['max_pooling1d_12[0][0]']       \n",
      "                                                                                                  \n",
      " maximum_33 (Maximum)           (None, 29, 9)        0           ['conv1d_66[0][0]',              \n",
      "                                                                  'conv1d_67[0][0]']              \n",
      "                                                                                                  \n",
      " maximum_13 (Maximum)           (None, 297, 9)       0           ['conv1d_26[0][0]',              \n",
      "                                                                  'conv1d_27[0][0]']              \n",
      "                                                                                                  \n"
     ]
    },
    {
     "name": "stdout",
     "output_type": "stream",
     "text": [
      " max_pooling1d_33 (MaxPooling1D  (None, 28, 9)       0           ['maximum_33[0][0]']             \n",
      " )                                                                                                \n",
      "                                                                                                  \n",
      " max_pooling1d_13 (MaxPooling1D  (None, 296, 9)      0           ['maximum_13[0][0]']             \n",
      " )                                                                                                \n",
      "                                                                                                  \n",
      " conv1d_68 (Conv1D)             (None, 28, 9)        171         ['max_pooling1d_33[0][0]']       \n",
      "                                                                                                  \n",
      " conv1d_69 (Conv1D)             (None, 28, 9)        171         ['max_pooling1d_33[0][0]']       \n",
      "                                                                                                  \n",
      " conv1d_28 (Conv1D)             (None, 296, 9)       171         ['max_pooling1d_13[0][0]']       \n",
      "                                                                                                  \n",
      " conv1d_29 (Conv1D)             (None, 296, 9)       171         ['max_pooling1d_13[0][0]']       \n",
      "                                                                                                  \n",
      " maximum_34 (Maximum)           (None, 28, 9)        0           ['conv1d_68[0][0]',              \n",
      "                                                                  'conv1d_69[0][0]']              \n",
      "                                                                                                  \n",
      " maximum_14 (Maximum)           (None, 296, 9)       0           ['conv1d_28[0][0]',              \n",
      "                                                                  'conv1d_29[0][0]']              \n",
      "                                                                                                  \n",
      " max_pooling1d_34 (MaxPooling1D  (None, 27, 9)       0           ['maximum_34[0][0]']             \n",
      " )                                                                                                \n",
      "                                                                                                  \n",
      " max_pooling1d_14 (MaxPooling1D  (None, 295, 9)      0           ['maximum_14[0][0]']             \n",
      " )                                                                                                \n",
      "                                                                                                  \n",
      " conv1d_70 (Conv1D)             (None, 27, 9)        171         ['max_pooling1d_34[0][0]']       \n",
      "                                                                                                  \n",
      " conv1d_71 (Conv1D)             (None, 27, 9)        171         ['max_pooling1d_34[0][0]']       \n",
      "                                                                                                  \n",
      " conv1d_30 (Conv1D)             (None, 295, 9)       171         ['max_pooling1d_14[0][0]']       \n",
      "                                                                                                  \n",
      " conv1d_31 (Conv1D)             (None, 295, 9)       171         ['max_pooling1d_14[0][0]']       \n",
      "                                                                                                  \n",
      " maximum_35 (Maximum)           (None, 27, 9)        0           ['conv1d_70[0][0]',              \n",
      "                                                                  'conv1d_71[0][0]']              \n",
      "                                                                                                  \n",
      " maximum_15 (Maximum)           (None, 295, 9)       0           ['conv1d_30[0][0]',              \n",
      "                                                                  'conv1d_31[0][0]']              \n",
      "                                                                                                  \n",
      " max_pooling1d_35 (MaxPooling1D  (None, 26, 9)       0           ['maximum_35[0][0]']             \n",
      " )                                                                                                \n",
      "                                                                                                  \n",
      " max_pooling1d_15 (MaxPooling1D  (None, 294, 9)      0           ['maximum_15[0][0]']             \n",
      " )                                                                                                \n",
      "                                                                                                  \n",
      " conv1d_72 (Conv1D)             (None, 26, 9)        171         ['max_pooling1d_35[0][0]']       \n",
      "                                                                                                  \n",
      " conv1d_73 (Conv1D)             (None, 26, 9)        171         ['max_pooling1d_35[0][0]']       \n",
      "                                                                                                  \n",
      " conv1d_32 (Conv1D)             (None, 294, 9)       171         ['max_pooling1d_15[0][0]']       \n",
      "                                                                                                  \n",
      " conv1d_33 (Conv1D)             (None, 294, 9)       171         ['max_pooling1d_15[0][0]']       \n",
      "                                                                                                  \n",
      " maximum_36 (Maximum)           (None, 26, 9)        0           ['conv1d_72[0][0]',              \n",
      "                                                                  'conv1d_73[0][0]']              \n",
      "                                                                                                  \n",
      " maximum_16 (Maximum)           (None, 294, 9)       0           ['conv1d_32[0][0]',              \n",
      "                                                                  'conv1d_33[0][0]']              \n",
      "                                                                                                  \n",
      " max_pooling1d_36 (MaxPooling1D  (None, 25, 9)       0           ['maximum_36[0][0]']             \n",
      " )                                                                                                \n",
      "                                                                                                  \n",
      " max_pooling1d_16 (MaxPooling1D  (None, 293, 9)      0           ['maximum_16[0][0]']             \n",
      " )                                                                                                \n",
      "                                                                                                  \n",
      " conv1d_74 (Conv1D)             (None, 25, 9)        171         ['max_pooling1d_36[0][0]']       \n",
      "                                                                                                  \n",
      " conv1d_75 (Conv1D)             (None, 25, 9)        171         ['max_pooling1d_36[0][0]']       \n",
      "                                                                                                  \n",
      " conv1d_34 (Conv1D)             (None, 293, 9)       171         ['max_pooling1d_16[0][0]']       \n",
      "                                                                                                  \n",
      " conv1d_35 (Conv1D)             (None, 293, 9)       171         ['max_pooling1d_16[0][0]']       \n",
      "                                                                                                  \n",
      " maximum_37 (Maximum)           (None, 25, 9)        0           ['conv1d_74[0][0]',              \n",
      "                                                                  'conv1d_75[0][0]']              \n",
      "                                                                                                  \n",
      " maximum_17 (Maximum)           (None, 293, 9)       0           ['conv1d_34[0][0]',              \n",
      "                                                                  'conv1d_35[0][0]']              \n",
      "                                                                                                  \n",
      " max_pooling1d_37 (MaxPooling1D  (None, 24, 9)       0           ['maximum_37[0][0]']             \n",
      " )                                                                                                \n",
      "                                                                                                  \n"
     ]
    },
    {
     "name": "stdout",
     "output_type": "stream",
     "text": [
      " max_pooling1d_17 (MaxPooling1D  (None, 292, 9)      0           ['maximum_17[0][0]']             \n",
      " )                                                                                                \n",
      "                                                                                                  \n",
      " conv1d_76 (Conv1D)             (None, 24, 9)        171         ['max_pooling1d_37[0][0]']       \n",
      "                                                                                                  \n",
      " conv1d_77 (Conv1D)             (None, 24, 9)        171         ['max_pooling1d_37[0][0]']       \n",
      "                                                                                                  \n",
      " conv1d_36 (Conv1D)             (None, 292, 9)       171         ['max_pooling1d_17[0][0]']       \n",
      "                                                                                                  \n",
      " conv1d_37 (Conv1D)             (None, 292, 9)       171         ['max_pooling1d_17[0][0]']       \n",
      "                                                                                                  \n",
      " maximum_38 (Maximum)           (None, 24, 9)        0           ['conv1d_76[0][0]',              \n",
      "                                                                  'conv1d_77[0][0]']              \n",
      "                                                                                                  \n",
      " maximum_18 (Maximum)           (None, 292, 9)       0           ['conv1d_36[0][0]',              \n",
      "                                                                  'conv1d_37[0][0]']              \n",
      "                                                                                                  \n",
      " max_pooling1d_38 (MaxPooling1D  (None, 23, 9)       0           ['maximum_38[0][0]']             \n",
      " )                                                                                                \n",
      "                                                                                                  \n",
      " max_pooling1d_18 (MaxPooling1D  (None, 291, 9)      0           ['maximum_18[0][0]']             \n",
      " )                                                                                                \n",
      "                                                                                                  \n",
      " conv1d_78 (Conv1D)             (None, 23, 9)        171         ['max_pooling1d_38[0][0]']       \n",
      "                                                                                                  \n",
      " conv1d_79 (Conv1D)             (None, 23, 9)        171         ['max_pooling1d_38[0][0]']       \n",
      "                                                                                                  \n",
      " conv1d_38 (Conv1D)             (None, 291, 9)       171         ['max_pooling1d_18[0][0]']       \n",
      "                                                                                                  \n",
      " conv1d_39 (Conv1D)             (None, 291, 9)       171         ['max_pooling1d_18[0][0]']       \n",
      "                                                                                                  \n",
      " maximum_39 (Maximum)           (None, 23, 9)        0           ['conv1d_78[0][0]',              \n",
      "                                                                  'conv1d_79[0][0]']              \n",
      "                                                                                                  \n",
      " maximum_19 (Maximum)           (None, 291, 9)       0           ['conv1d_38[0][0]',              \n",
      "                                                                  'conv1d_39[0][0]']              \n",
      "                                                                                                  \n",
      " interval (InputLayer)          [(None, 192, 1)]     0           []                               \n",
      "                                                                                                  \n",
      " max_pooling1d_39 (MaxPooling1D  (None, 22, 9)       0           ['maximum_39[0][0]']             \n",
      " )                                                                                                \n",
      "                                                                                                  \n",
      " max_pooling1d_19 (MaxPooling1D  (None, 290, 9)      0           ['maximum_19[0][0]']             \n",
      " )                                                                                                \n",
      "                                                                                                  \n",
      " conv1d (Conv1D)                (None, 192, 9)       36          ['interval[0][0]']               \n",
      "                                                                                                  \n",
      " conv1d_1 (Conv1D)              (None, 192, 9)       36          ['interval[0][0]']               \n",
      "                                                                                                  \n",
      " conv1d_80 (Conv1D)             (None, 22, 9)        252         ['max_pooling1d_39[0][0]']       \n",
      "                                                                                                  \n",
      " conv1d_81 (Conv1D)             (None, 22, 9)        252         ['max_pooling1d_39[0][0]']       \n",
      "                                                                                                  \n",
      " conv1d_40 (Conv1D)             (None, 290, 9)       252         ['max_pooling1d_19[0][0]']       \n",
      "                                                                                                  \n",
      " conv1d_41 (Conv1D)             (None, 290, 9)       252         ['max_pooling1d_19[0][0]']       \n",
      "                                                                                                  \n",
      " maximum (Maximum)              (None, 192, 9)       0           ['conv1d[0][0]',                 \n",
      "                                                                  'conv1d_1[0][0]']               \n",
      "                                                                                                  \n",
      " maximum_40 (Maximum)           (None, 22, 9)        0           ['conv1d_80[0][0]',              \n",
      "                                                                  'conv1d_81[0][0]']              \n",
      "                                                                                                  \n",
      " maximum_20 (Maximum)           (None, 290, 9)       0           ['conv1d_40[0][0]',              \n",
      "                                                                  'conv1d_41[0][0]']              \n",
      "                                                                                                  \n",
      " max_pooling1d (MaxPooling1D)   (None, 191, 9)       0           ['maximum[0][0]']                \n",
      "                                                                                                  \n",
      " max_pooling1d_40 (MaxPooling1D  (None, 21, 9)       0           ['maximum_40[0][0]']             \n",
      " )                                                                                                \n",
      "                                                                                                  \n",
      " max_pooling1d_20 (MaxPooling1D  (None, 289, 9)      0           ['maximum_20[0][0]']             \n",
      " )                                                                                                \n",
      "                                                                                                  \n",
      " mel (InputLayer)               [(None, 120, 313, 1  0           []                               \n",
      "                                )]                                                                \n",
      "                                                                                                  \n",
      " conv1d_2 (Conv1D)              (None, 191, 9)       171         ['max_pooling1d[0][0]']          \n",
      "                                                                                                  \n",
      " conv1d_3 (Conv1D)              (None, 191, 9)       171         ['max_pooling1d[0][0]']          \n",
      "                                                                                                  \n",
      " conv1d_82 (Conv1D)             (None, 21, 9)        171         ['max_pooling1d_40[0][0]']       \n",
      "                                                                                                  \n"
     ]
    },
    {
     "name": "stdout",
     "output_type": "stream",
     "text": [
      " conv1d_83 (Conv1D)             (None, 21, 9)        171         ['max_pooling1d_40[0][0]']       \n",
      "                                                                                                  \n",
      " conv1d_42 (Conv1D)             (None, 289, 9)       171         ['max_pooling1d_20[0][0]']       \n",
      "                                                                                                  \n",
      " conv1d_43 (Conv1D)             (None, 289, 9)       171         ['max_pooling1d_20[0][0]']       \n",
      "                                                                                                  \n",
      " conv2d (Conv2D)                (None, 120, 313, 32  832         ['mel[0][0]']                    \n",
      "                                )                                                                 \n",
      "                                                                                                  \n",
      " conv2d_1 (Conv2D)              (None, 120, 313, 32  832         ['mel[0][0]']                    \n",
      "                                )                                                                 \n",
      "                                                                                                  \n",
      " maximum_1 (Maximum)            (None, 191, 9)       0           ['conv1d_2[0][0]',               \n",
      "                                                                  'conv1d_3[0][0]']               \n",
      "                                                                                                  \n",
      " maximum_41 (Maximum)           (None, 21, 9)        0           ['conv1d_82[0][0]',              \n",
      "                                                                  'conv1d_83[0][0]']              \n",
      "                                                                                                  \n",
      " maximum_21 (Maximum)           (None, 289, 9)       0           ['conv1d_42[0][0]',              \n",
      "                                                                  'conv1d_43[0][0]']              \n",
      "                                                                                                  \n",
      " maximum_50 (Maximum)           (None, 120, 313, 32  0           ['conv2d[0][0]',                 \n",
      "                                )                                 'conv2d_1[0][0]']               \n",
      "                                                                                                  \n",
      " max_pooling1d_1 (MaxPooling1D)  (None, 190, 9)      0           ['maximum_1[0][0]']              \n",
      "                                                                                                  \n",
      " max_pooling1d_41 (MaxPooling1D  (None, 20, 9)       0           ['maximum_41[0][0]']             \n",
      " )                                                                                                \n",
      "                                                                                                  \n",
      " max_pooling1d_21 (MaxPooling1D  (None, 288, 9)      0           ['maximum_21[0][0]']             \n",
      " )                                                                                                \n",
      "                                                                                                  \n",
      " max_pooling2d (MaxPooling2D)   (None, 60, 157, 32)  0           ['maximum_50[0][0]']             \n",
      "                                                                                                  \n",
      " conv1d_4 (Conv1D)              (None, 190, 9)       171         ['max_pooling1d_1[0][0]']        \n",
      "                                                                                                  \n",
      " conv1d_5 (Conv1D)              (None, 190, 9)       171         ['max_pooling1d_1[0][0]']        \n",
      "                                                                                                  \n",
      " conv1d_84 (Conv1D)             (None, 20, 9)        171         ['max_pooling1d_41[0][0]']       \n",
      "                                                                                                  \n",
      " conv1d_85 (Conv1D)             (None, 20, 9)        171         ['max_pooling1d_41[0][0]']       \n",
      "                                                                                                  \n",
      " conv1d_44 (Conv1D)             (None, 288, 9)       171         ['max_pooling1d_21[0][0]']       \n",
      "                                                                                                  \n",
      " conv1d_45 (Conv1D)             (None, 288, 9)       171         ['max_pooling1d_21[0][0]']       \n",
      "                                                                                                  \n",
      " conv2d_2 (Conv2D)              (None, 60, 157, 32)  1056        ['max_pooling2d[0][0]']          \n",
      "                                                                                                  \n",
      " conv2d_3 (Conv2D)              (None, 60, 157, 32)  1056        ['max_pooling2d[0][0]']          \n",
      "                                                                                                  \n",
      " maximum_2 (Maximum)            (None, 190, 9)       0           ['conv1d_4[0][0]',               \n",
      "                                                                  'conv1d_5[0][0]']               \n",
      "                                                                                                  \n",
      " maximum_42 (Maximum)           (None, 20, 9)        0           ['conv1d_84[0][0]',              \n",
      "                                                                  'conv1d_85[0][0]']              \n",
      "                                                                                                  \n",
      " maximum_22 (Maximum)           (None, 288, 9)       0           ['conv1d_44[0][0]',              \n",
      "                                                                  'conv1d_45[0][0]']              \n",
      "                                                                                                  \n",
      " maximum_51 (Maximum)           (None, 60, 157, 32)  0           ['conv2d_2[0][0]',               \n",
      "                                                                  'conv2d_3[0][0]']               \n",
      "                                                                                                  \n",
      " max_pooling1d_2 (MaxPooling1D)  (None, 189, 9)      0           ['maximum_2[0][0]']              \n",
      "                                                                                                  \n",
      " max_pooling1d_42 (MaxPooling1D  (None, 19, 9)       0           ['maximum_42[0][0]']             \n",
      " )                                                                                                \n",
      "                                                                                                  \n",
      " max_pooling1d_22 (MaxPooling1D  (None, 287, 9)      0           ['maximum_22[0][0]']             \n",
      " )                                                                                                \n",
      "                                                                                                  \n",
      " batch_normalization (BatchNorm  (None, 60, 157, 32)  96         ['maximum_51[0][0]']             \n",
      " alization)                                                                                       \n",
      "                                                                                                  \n",
      " conv1d_6 (Conv1D)              (None, 189, 9)       171         ['max_pooling1d_2[0][0]']        \n",
      "                                                                                                  \n",
      " conv1d_7 (Conv1D)              (None, 189, 9)       171         ['max_pooling1d_2[0][0]']        \n",
      "                                                                                                  \n",
      " conv1d_86 (Conv1D)             (None, 19, 9)        171         ['max_pooling1d_42[0][0]']       \n",
      "                                                                                                  \n",
      " conv1d_87 (Conv1D)             (None, 19, 9)        171         ['max_pooling1d_42[0][0]']       \n",
      "                                                                                                  \n",
      " conv1d_46 (Conv1D)             (None, 287, 9)       171         ['max_pooling1d_22[0][0]']       \n",
      "                                                                                                  \n"
     ]
    },
    {
     "name": "stdout",
     "output_type": "stream",
     "text": [
      " conv1d_47 (Conv1D)             (None, 287, 9)       171         ['max_pooling1d_22[0][0]']       \n",
      "                                                                                                  \n",
      " conv2d_4 (Conv2D)              (None, 60, 157, 48)  13872       ['batch_normalization[0][0]']    \n",
      "                                                                                                  \n",
      " conv2d_5 (Conv2D)              (None, 60, 157, 48)  13872       ['batch_normalization[0][0]']    \n",
      "                                                                                                  \n",
      " maximum_3 (Maximum)            (None, 189, 9)       0           ['conv1d_6[0][0]',               \n",
      "                                                                  'conv1d_7[0][0]']               \n",
      "                                                                                                  \n",
      " maximum_43 (Maximum)           (None, 19, 9)        0           ['conv1d_86[0][0]',              \n",
      "                                                                  'conv1d_87[0][0]']              \n",
      "                                                                                                  \n",
      " maximum_23 (Maximum)           (None, 287, 9)       0           ['conv1d_46[0][0]',              \n",
      "                                                                  'conv1d_47[0][0]']              \n",
      "                                                                                                  \n",
      " maximum_52 (Maximum)           (None, 60, 157, 48)  0           ['conv2d_4[0][0]',               \n",
      "                                                                  'conv2d_5[0][0]']               \n",
      "                                                                                                  \n",
      " max_pooling1d_3 (MaxPooling1D)  (None, 188, 9)      0           ['maximum_3[0][0]']              \n",
      "                                                                                                  \n",
      " max_pooling1d_43 (MaxPooling1D  (None, 18, 9)       0           ['maximum_43[0][0]']             \n",
      " )                                                                                                \n",
      "                                                                                                  \n",
      " max_pooling1d_23 (MaxPooling1D  (None, 286, 9)      0           ['maximum_23[0][0]']             \n",
      " )                                                                                                \n",
      "                                                                                                  \n",
      " max_pooling2d_1 (MaxPooling2D)  (None, 30, 79, 48)  0           ['maximum_52[0][0]']             \n",
      "                                                                                                  \n",
      " conv1d_8 (Conv1D)              (None, 188, 9)       171         ['max_pooling1d_3[0][0]']        \n",
      "                                                                                                  \n",
      " conv1d_88 (Conv1D)             (None, 18, 9)        171         ['max_pooling1d_43[0][0]']       \n",
      "                                                                                                  \n",
      " conv1d_89 (Conv1D)             (None, 18, 9)        171         ['max_pooling1d_43[0][0]']       \n",
      "                                                                                                  \n",
      " conv1d_48 (Conv1D)             (None, 286, 9)       171         ['max_pooling1d_23[0][0]']       \n",
      "                                                                                                  \n",
      " conv1d_49 (Conv1D)             (None, 286, 9)       171         ['max_pooling1d_23[0][0]']       \n",
      "                                                                                                  \n",
      " batch_normalization_1 (BatchNo  (None, 30, 79, 48)  144         ['max_pooling2d_1[0][0]']        \n",
      " rmalization)                                                                                     \n",
      "                                                                                                  \n",
      " maximum_4 (Maximum)            (None, 188, 9)       0           ['conv1d_8[0][0]',               \n",
      "                                                                  'conv1d_8[0][0]']               \n",
      "                                                                                                  \n",
      " maximum_44 (Maximum)           (None, 18, 9)        0           ['conv1d_88[0][0]',              \n",
      "                                                                  'conv1d_89[0][0]']              \n",
      "                                                                                                  \n",
      " maximum_24 (Maximum)           (None, 286, 9)       0           ['conv1d_48[0][0]',              \n",
      "                                                                  'conv1d_49[0][0]']              \n",
      "                                                                                                  \n",
      " conv2d_6 (Conv2D)              (None, 30, 79, 48)   2352        ['batch_normalization_1[0][0]']  \n",
      "                                                                                                  \n",
      " conv2d_7 (Conv2D)              (None, 30, 79, 48)   2352        ['batch_normalization_1[0][0]']  \n",
      "                                                                                                  \n",
      " max_pooling1d_4 (MaxPooling1D)  (None, 187, 9)      0           ['maximum_4[0][0]']              \n",
      "                                                                                                  \n",
      " max_pooling1d_44 (MaxPooling1D  (None, 17, 9)       0           ['maximum_44[0][0]']             \n",
      " )                                                                                                \n",
      "                                                                                                  \n",
      " max_pooling1d_24 (MaxPooling1D  (None, 285, 9)      0           ['maximum_24[0][0]']             \n",
      " )                                                                                                \n",
      "                                                                                                  \n",
      " maximum_53 (Maximum)           (None, 30, 79, 48)   0           ['conv2d_6[0][0]',               \n",
      "                                                                  'conv2d_7[0][0]']               \n",
      "                                                                                                  \n",
      " conv1d_10 (Conv1D)             (None, 187, 9)       171         ['max_pooling1d_4[0][0]']        \n",
      "                                                                                                  \n",
      " conv1d_11 (Conv1D)             (None, 187, 9)       171         ['max_pooling1d_4[0][0]']        \n",
      "                                                                                                  \n",
      " conv1d_90 (Conv1D)             (None, 17, 64)       1216        ['max_pooling1d_44[0][0]']       \n",
      "                                                                                                  \n",
      " conv1d_91 (Conv1D)             (None, 17, 64)       1216        ['max_pooling1d_44[0][0]']       \n",
      "                                                                                                  \n",
      " conv1d_50 (Conv1D)             (None, 285, 64)      1216        ['max_pooling1d_24[0][0]']       \n",
      "                                                                                                  \n",
      " conv1d_51 (Conv1D)             (None, 285, 64)      1216        ['max_pooling1d_24[0][0]']       \n",
      "                                                                                                  \n",
      " batch_normalization_2 (BatchNo  (None, 30, 79, 48)  144         ['maximum_53[0][0]']             \n",
      " rmalization)                                                                                     \n",
      "                                                                                                  \n",
      " maximum_5 (Maximum)            (None, 187, 9)       0           ['conv1d_10[0][0]',              \n",
      "                                                                  'conv1d_11[0][0]']              \n",
      "                                                                                                  \n"
     ]
    },
    {
     "name": "stdout",
     "output_type": "stream",
     "text": [
      " maximum_45 (Maximum)           (None, 17, 64)       0           ['conv1d_90[0][0]',              \n",
      "                                                                  'conv1d_91[0][0]']              \n",
      "                                                                                                  \n",
      " maximum_25 (Maximum)           (None, 285, 64)      0           ['conv1d_50[0][0]',              \n",
      "                                                                  'conv1d_51[0][0]']              \n",
      "                                                                                                  \n",
      " conv2d_8 (Conv2D)              (None, 30, 79, 64)   27712       ['batch_normalization_2[0][0]']  \n",
      "                                                                                                  \n",
      " conv2d_9 (Conv2D)              (None, 30, 79, 64)   27712       ['batch_normalization_2[0][0]']  \n",
      "                                                                                                  \n",
      " max_pooling1d_5 (MaxPooling1D)  (None, 186, 9)      0           ['maximum_5[0][0]']              \n",
      "                                                                                                  \n",
      " max_pooling1d_45 (MaxPooling1D  (None, 16, 64)      0           ['maximum_45[0][0]']             \n",
      " )                                                                                                \n",
      "                                                                                                  \n",
      " max_pooling1d_25 (MaxPooling1D  (None, 284, 64)     0           ['maximum_25[0][0]']             \n",
      " )                                                                                                \n",
      "                                                                                                  \n",
      " maximum_54 (Maximum)           (None, 30, 79, 64)   0           ['conv2d_8[0][0]',               \n",
      "                                                                  'conv2d_9[0][0]']               \n",
      "                                                                                                  \n",
      " conv1d_12 (Conv1D)             (None, 186, 9)       171         ['max_pooling1d_5[0][0]']        \n",
      "                                                                                                  \n",
      " conv1d_13 (Conv1D)             (None, 186, 9)       171         ['max_pooling1d_5[0][0]']        \n",
      "                                                                                                  \n",
      " conv1d_92 (Conv1D)             (None, 16, 9)        1161        ['max_pooling1d_45[0][0]']       \n",
      "                                                                                                  \n",
      " conv1d_93 (Conv1D)             (None, 16, 9)        1161        ['max_pooling1d_45[0][0]']       \n",
      "                                                                                                  \n",
      " conv1d_52 (Conv1D)             (None, 284, 9)       1161        ['max_pooling1d_25[0][0]']       \n",
      "                                                                                                  \n",
      " conv1d_53 (Conv1D)             (None, 284, 9)       1161        ['max_pooling1d_25[0][0]']       \n",
      "                                                                                                  \n",
      " max_pooling2d_2 (MaxPooling2D)  (None, 15, 40, 64)  0           ['maximum_54[0][0]']             \n",
      "                                                                                                  \n",
      " maximum_6 (Maximum)            (None, 186, 9)       0           ['conv1d_12[0][0]',              \n",
      "                                                                  'conv1d_13[0][0]']              \n",
      "                                                                                                  \n",
      " maximum_46 (Maximum)           (None, 16, 9)        0           ['conv1d_92[0][0]',              \n",
      "                                                                  'conv1d_93[0][0]']              \n",
      "                                                                                                  \n",
      " maximum_26 (Maximum)           (None, 284, 9)       0           ['conv1d_52[0][0]',              \n",
      "                                                                  'conv1d_53[0][0]']              \n",
      "                                                                                                  \n",
      " conv2d_10 (Conv2D)             (None, 15, 40, 64)   4160        ['max_pooling2d_2[0][0]']        \n",
      "                                                                                                  \n",
      " conv2d_11 (Conv2D)             (None, 15, 40, 64)   4160        ['max_pooling2d_2[0][0]']        \n",
      "                                                                                                  \n",
      " max_pooling1d_6 (MaxPooling1D)  (None, 185, 9)      0           ['maximum_6[0][0]']              \n",
      "                                                                                                  \n",
      " max_pooling1d_46 (MaxPooling1D  (None, 15, 9)       0           ['maximum_46[0][0]']             \n",
      " )                                                                                                \n",
      "                                                                                                  \n",
      " max_pooling1d_26 (MaxPooling1D  (None, 283, 9)      0           ['maximum_26[0][0]']             \n",
      " )                                                                                                \n",
      "                                                                                                  \n",
      " maximum_55 (Maximum)           (None, 15, 40, 64)   0           ['conv2d_10[0][0]',              \n",
      "                                                                  'conv2d_11[0][0]']              \n",
      "                                                                                                  \n",
      " conv1d_14 (Conv1D)             (None, 185, 9)       171         ['max_pooling1d_6[0][0]']        \n",
      "                                                                                                  \n",
      " conv1d_15 (Conv1D)             (None, 185, 9)       171         ['max_pooling1d_6[0][0]']        \n",
      "                                                                                                  \n",
      " conv1d_94 (Conv1D)             (None, 15, 9)        171         ['max_pooling1d_46[0][0]']       \n",
      "                                                                                                  \n",
      " conv1d_95 (Conv1D)             (None, 15, 9)        171         ['max_pooling1d_46[0][0]']       \n",
      "                                                                                                  \n",
      " conv1d_54 (Conv1D)             (None, 283, 9)       171         ['max_pooling1d_26[0][0]']       \n",
      "                                                                                                  \n",
      " conv1d_55 (Conv1D)             (None, 283, 9)       171         ['max_pooling1d_26[0][0]']       \n",
      "                                                                                                  \n",
      " batch_normalization_3 (BatchNo  (None, 15, 40, 64)  192         ['maximum_55[0][0]']             \n",
      " rmalization)                                                                                     \n",
      "                                                                                                  \n",
      " maximum_7 (Maximum)            (None, 185, 9)       0           ['conv1d_14[0][0]',              \n",
      "                                                                  'conv1d_15[0][0]']              \n",
      "                                                                                                  \n",
      " maximum_47 (Maximum)           (None, 15, 9)        0           ['conv1d_94[0][0]',              \n",
      "                                                                  'conv1d_95[0][0]']              \n",
      "                                                                                                  \n",
      " maximum_27 (Maximum)           (None, 283, 9)       0           ['conv1d_54[0][0]',              \n",
      "                                                                  'conv1d_55[0][0]']              \n",
      "                                                                                                  \n"
     ]
    },
    {
     "name": "stdout",
     "output_type": "stream",
     "text": [
      " conv2d_12 (Conv2D)             (None, 15, 40, 32)   18464       ['batch_normalization_3[0][0]']  \n",
      "                                                                                                  \n",
      " conv2d_13 (Conv2D)             (None, 15, 40, 32)   18464       ['batch_normalization_3[0][0]']  \n",
      "                                                                                                  \n",
      " max_pooling1d_7 (MaxPooling1D)  (None, 184, 9)      0           ['maximum_7[0][0]']              \n",
      "                                                                                                  \n",
      " max_pooling1d_47 (MaxPooling1D  (None, 14, 9)       0           ['maximum_47[0][0]']             \n",
      " )                                                                                                \n",
      "                                                                                                  \n",
      " max_pooling1d_27 (MaxPooling1D  (None, 282, 9)      0           ['maximum_27[0][0]']             \n",
      " )                                                                                                \n",
      "                                                                                                  \n",
      " maximum_56 (Maximum)           (None, 15, 40, 32)   0           ['conv2d_12[0][0]',              \n",
      "                                                                  'conv2d_13[0][0]']              \n",
      "                                                                                                  \n",
      " conv1d_16 (Conv1D)             (None, 184, 9)       171         ['max_pooling1d_7[0][0]']        \n",
      "                                                                                                  \n",
      " conv1d_17 (Conv1D)             (None, 184, 9)       171         ['max_pooling1d_7[0][0]']        \n",
      "                                                                                                  \n",
      " conv1d_96 (Conv1D)             (None, 14, 9)        171         ['max_pooling1d_47[0][0]']       \n",
      "                                                                                                  \n",
      " conv1d_97 (Conv1D)             (None, 14, 9)        171         ['max_pooling1d_47[0][0]']       \n",
      "                                                                                                  \n",
      " conv1d_56 (Conv1D)             (None, 282, 9)       171         ['max_pooling1d_27[0][0]']       \n",
      "                                                                                                  \n",
      " conv1d_57 (Conv1D)             (None, 282, 9)       171         ['max_pooling1d_27[0][0]']       \n",
      "                                                                                                  \n",
      " batch_normalization_4 (BatchNo  (None, 15, 40, 32)  96          ['maximum_56[0][0]']             \n",
      " rmalization)                                                                                     \n",
      "                                                                                                  \n",
      " maximum_8 (Maximum)            (None, 184, 9)       0           ['conv1d_16[0][0]',              \n",
      "                                                                  'conv1d_17[0][0]']              \n",
      "                                                                                                  \n",
      " maximum_48 (Maximum)           (None, 14, 9)        0           ['conv1d_96[0][0]',              \n",
      "                                                                  'conv1d_97[0][0]']              \n",
      "                                                                                                  \n",
      " maximum_28 (Maximum)           (None, 282, 9)       0           ['conv1d_56[0][0]',              \n",
      "                                                                  'conv1d_57[0][0]']              \n",
      "                                                                                                  \n",
      " conv2d_14 (Conv2D)             (None, 15, 40, 32)   1056        ['batch_normalization_4[0][0]']  \n",
      "                                                                                                  \n",
      " conv2d_15 (Conv2D)             (None, 15, 40, 32)   1056        ['batch_normalization_4[0][0]']  \n",
      "                                                                                                  \n",
      " max_pooling1d_8 (MaxPooling1D)  (None, 183, 9)      0           ['maximum_8[0][0]']              \n",
      "                                                                                                  \n",
      " max_pooling1d_48 (MaxPooling1D  (None, 13, 9)       0           ['maximum_48[0][0]']             \n",
      " )                                                                                                \n",
      "                                                                                                  \n",
      " max_pooling1d_28 (MaxPooling1D  (None, 281, 9)      0           ['maximum_28[0][0]']             \n",
      " )                                                                                                \n",
      "                                                                                                  \n",
      " maximum_57 (Maximum)           (None, 15, 40, 32)   0           ['conv2d_14[0][0]',              \n",
      "                                                                  'conv2d_15[0][0]']              \n",
      "                                                                                                  \n",
      " conv1d_18 (Conv1D)             (None, 183, 9)       171         ['max_pooling1d_8[0][0]']        \n",
      "                                                                                                  \n",
      " conv1d_19 (Conv1D)             (None, 183, 9)       171         ['max_pooling1d_8[0][0]']        \n",
      "                                                                                                  \n",
      " conv1d_98 (Conv1D)             (None, 13, 9)        171         ['max_pooling1d_48[0][0]']       \n",
      "                                                                                                  \n",
      " conv1d_99 (Conv1D)             (None, 13, 9)        171         ['max_pooling1d_48[0][0]']       \n",
      "                                                                                                  \n",
      " conv1d_58 (Conv1D)             (None, 281, 9)       171         ['max_pooling1d_28[0][0]']       \n",
      "                                                                                                  \n",
      " conv1d_59 (Conv1D)             (None, 281, 9)       171         ['max_pooling1d_28[0][0]']       \n",
      "                                                                                                  \n",
      " batch_normalization_5 (BatchNo  (None, 15, 40, 32)  96          ['maximum_57[0][0]']             \n",
      " rmalization)                                                                                     \n",
      "                                                                                                  \n",
      " maximum_9 (Maximum)            (None, 183, 9)       0           ['conv1d_18[0][0]',              \n",
      "                                                                  'conv1d_19[0][0]']              \n",
      "                                                                                                  \n",
      " maximum_49 (Maximum)           (None, 13, 9)        0           ['conv1d_98[0][0]',              \n",
      "                                                                  'conv1d_99[0][0]']              \n",
      "                                                                                                  \n",
      " maximum_29 (Maximum)           (None, 281, 9)       0           ['conv1d_58[0][0]',              \n",
      "                                                                  'conv1d_59[0][0]']              \n",
      "                                                                                                  \n",
      " conv2d_16 (Conv2D)             (None, 15, 40, 32)   1056        ['batch_normalization_5[0][0]']  \n",
      "                                                                                                  \n",
      " conv2d_17 (Conv2D)             (None, 15, 40, 32)   1056        ['batch_normalization_5[0][0]']  \n",
      "                                                                                                  \n",
      " max_pooling1d_9 (MaxPooling1D)  (None, 182, 9)      0           ['maximum_9[0][0]']              \n"
     ]
    },
    {
     "name": "stdout",
     "output_type": "stream",
     "text": [
      "                                                                                                  \n",
      " max_pooling1d_49 (MaxPooling1D  (None, 12, 9)       0           ['maximum_49[0][0]']             \n",
      " )                                                                                                \n",
      "                                                                                                  \n",
      " max_pooling1d_29 (MaxPooling1D  (None, 280, 9)      0           ['maximum_29[0][0]']             \n",
      " )                                                                                                \n",
      "                                                                                                  \n",
      " maximum_58 (Maximum)           (None, 15, 40, 32)   0           ['conv2d_16[0][0]',              \n",
      "                                                                  'conv2d_17[0][0]']              \n",
      "                                                                                                  \n",
      " age_cat (InputLayer)           [(None, 6)]          0           []                               \n",
      "                                                                                                  \n",
      " sex_cat (InputLayer)           [(None, 2)]          0           []                               \n",
      "                                                                                                  \n",
      " height_weight (InputLayer)     [(None, 2)]          0           []                               \n",
      "                                                                                                  \n",
      " loc (InputLayer)               [(None, 5)]          0           []                               \n",
      "                                                                                                  \n",
      " global_average_pooling1d (Glob  (None, 9)           0           ['max_pooling1d_9[0][0]']        \n",
      " alAveragePooling1D)                                                                              \n",
      "                                                                                                  \n",
      " global_average_pooling1d_2 (Gl  (None, 9)           0           ['max_pooling1d_49[0][0]']       \n",
      " obalAveragePooling1D)                                                                            \n",
      "                                                                                                  \n",
      " global_average_pooling1d_1 (Gl  (None, 9)           0           ['max_pooling1d_29[0][0]']       \n",
      " obalAveragePooling1D)                                                                            \n",
      "                                                                                                  \n",
      " max_pooling2d_3 (MaxPooling2D)  (None, 7, 20, 32)   0           ['maximum_58[0][0]']             \n",
      "                                                                                                  \n",
      " dense_1 (Dense)                (None, 2)            14          ['age_cat[0][0]']                \n",
      "                                                                                                  \n",
      " dense_2 (Dense)                (None, 1)            3           ['sex_cat[0][0]']                \n",
      "                                                                                                  \n",
      " dense_3 (Dense)                (None, 1)            3           ['height_weight[0][0]']          \n",
      "                                                                                                  \n",
      " dense_4 (Dense)                (None, 3)            18          ['loc[0][0]']                    \n",
      "                                                                                                  \n",
      " is_preg (InputLayer)           [(None, 1)]          0           []                               \n",
      "                                                                                                  \n",
      " dropout (Dropout)              (None, 9)            0           ['global_average_pooling1d[0][0]'\n",
      "                                                                 ]                                \n",
      "                                                                                                  \n",
      " dropout_2 (Dropout)            (None, 9)            0           ['global_average_pooling1d_2[0][0\n",
      "                                                                 ]']                              \n",
      "                                                                                                  \n",
      " dropout_1 (Dropout)            (None, 9)            0           ['global_average_pooling1d_1[0][0\n",
      "                                                                 ]']                              \n",
      "                                                                                                  \n",
      " global_average_pooling2d (Glob  (None, 32)          0           ['max_pooling2d_3[0][0]']        \n",
      " alAveragePooling2D)                                                                              \n",
      "                                                                                                  \n",
      " concatenate (Concatenate)      (None, 35)           0           ['dense_1[0][0]',                \n",
      "                                                                  'dense_2[0][0]',                \n",
      "                                                                  'dense_3[0][0]',                \n",
      "                                                                  'dense_4[0][0]',                \n",
      "                                                                  'is_preg[0][0]',                \n",
      "                                                                  'dropout[0][0]',                \n",
      "                                                                  'dropout_2[0][0]',              \n",
      "                                                                  'dropout_1[0][0]']              \n",
      "                                                                                                  \n",
      " dropout_3 (Dropout)            (None, 32)           0           ['global_average_pooling2d[0][0]'\n",
      "                                                                 ]                                \n",
      "                                                                                                  \n",
      " dense_5 (Dense)                (None, 10)           360         ['concatenate[0][0]']            \n",
      "                                                                                                  \n",
      " concatenate_1 (Concatenate)    (None, 42)           0           ['dropout_3[0][0]',              \n",
      "                                                                  'dense_5[0][0]']                \n",
      "                                                                                                  \n",
      " stft (InputLayer)              [(None, 1, 1, 1)]    0           []                               \n",
      "                                                                                                  \n",
      " cqt (InputLayer)               [(None, 1, 1, 1)]    0           []                               \n",
      "                                                                                                  \n",
      " dense_6 (Dense)                (None, 2)            86          ['concatenate_1[0][0]']          \n",
      "                                                                                                  \n",
      "==================================================================================================\n",
      "Total params: 252,599\n",
      "Trainable params: 252,087\n",
      "Non-trainable params: 512\n",
      "__________________________________________________________________________________________________\n"
     ]
    }
   ],
   "source": [
    "model1.summary()"
   ]
  },
  {
   "cell_type": "code",
   "execution_count": 37,
   "id": "8d2279ce",
   "metadata": {
    "scrolled": true
   },
   "outputs": [
    {
     "name": "stdout",
     "output_type": "stream",
     "text": [
      "Model: \"model_2\"\n",
      "__________________________________________________________________________________________________\n",
      " Layer (type)                   Output Shape         Param #     Connected to                     \n",
      "==================================================================================================\n",
      " raw1 (InputLayer)              [(None, 246000)]     0           []                               \n",
      "                                                                                                  \n",
      " wav2 (InputLayer)              [(None, 32, 768)]    0           []                               \n",
      "                                                                                                  \n",
      " reshape_1 (Reshape)            (None, 300, 820)     0           ['raw1[0][0]']                   \n",
      "                                                                                                  \n",
      " conv1d_160 (Conv1D)            (None, 32, 9)        20745       ['wav2[0][0]']                   \n",
      "                                                                                                  \n",
      " conv1d_161 (Conv1D)            (None, 32, 9)        20745       ['wav2[0][0]']                   \n",
      "                                                                                                  \n",
      " conv1d_120 (Conv1D)            (None, 300, 9)       22149       ['reshape_1[0][0]']              \n",
      "                                                                                                  \n",
      " conv1d_121 (Conv1D)            (None, 300, 9)       22149       ['reshape_1[0][0]']              \n",
      "                                                                                                  \n",
      " maximum_89 (Maximum)           (None, 32, 9)        0           ['conv1d_160[0][0]',             \n",
      "                                                                  'conv1d_161[0][0]']             \n",
      "                                                                                                  \n",
      " maximum_69 (Maximum)           (None, 300, 9)       0           ['conv1d_120[0][0]',             \n",
      "                                                                  'conv1d_121[0][0]']             \n",
      "                                                                                                  \n",
      " max_pooling1d_80 (MaxPooling1D  (None, 31, 9)       0           ['maximum_89[0][0]']             \n",
      " )                                                                                                \n",
      "                                                                                                  \n",
      " max_pooling1d_60 (MaxPooling1D  (None, 299, 9)      0           ['maximum_69[0][0]']             \n",
      " )                                                                                                \n",
      "                                                                                                  \n",
      " conv1d_162 (Conv1D)            (None, 31, 9)        171         ['max_pooling1d_80[0][0]']       \n",
      "                                                                                                  \n",
      " conv1d_163 (Conv1D)            (None, 31, 9)        171         ['max_pooling1d_80[0][0]']       \n",
      "                                                                                                  \n",
      " conv1d_122 (Conv1D)            (None, 299, 9)       171         ['max_pooling1d_60[0][0]']       \n",
      "                                                                                                  \n",
      " conv1d_123 (Conv1D)            (None, 299, 9)       171         ['max_pooling1d_60[0][0]']       \n",
      "                                                                                                  \n",
      " maximum_90 (Maximum)           (None, 31, 9)        0           ['conv1d_162[0][0]',             \n",
      "                                                                  'conv1d_163[0][0]']             \n",
      "                                                                                                  \n",
      " maximum_70 (Maximum)           (None, 299, 9)       0           ['conv1d_122[0][0]',             \n",
      "                                                                  'conv1d_123[0][0]']             \n",
      "                                                                                                  \n",
      " max_pooling1d_81 (MaxPooling1D  (None, 30, 9)       0           ['maximum_90[0][0]']             \n",
      " )                                                                                                \n",
      "                                                                                                  \n",
      " max_pooling1d_61 (MaxPooling1D  (None, 298, 9)      0           ['maximum_70[0][0]']             \n",
      " )                                                                                                \n",
      "                                                                                                  \n",
      " conv1d_164 (Conv1D)            (None, 30, 9)        171         ['max_pooling1d_81[0][0]']       \n",
      "                                                                                                  \n",
      " conv1d_165 (Conv1D)            (None, 30, 9)        171         ['max_pooling1d_81[0][0]']       \n",
      "                                                                                                  \n",
      " conv1d_124 (Conv1D)            (None, 298, 9)       171         ['max_pooling1d_61[0][0]']       \n",
      "                                                                                                  \n",
      " conv1d_125 (Conv1D)            (None, 298, 9)       171         ['max_pooling1d_61[0][0]']       \n",
      "                                                                                                  \n",
      " maximum_91 (Maximum)           (None, 30, 9)        0           ['conv1d_164[0][0]',             \n",
      "                                                                  'conv1d_165[0][0]']             \n",
      "                                                                                                  \n",
      " maximum_71 (Maximum)           (None, 298, 9)       0           ['conv1d_124[0][0]',             \n",
      "                                                                  'conv1d_125[0][0]']             \n",
      "                                                                                                  \n",
      " max_pooling1d_82 (MaxPooling1D  (None, 29, 9)       0           ['maximum_91[0][0]']             \n",
      " )                                                                                                \n",
      "                                                                                                  \n",
      " max_pooling1d_62 (MaxPooling1D  (None, 297, 9)      0           ['maximum_71[0][0]']             \n",
      " )                                                                                                \n",
      "                                                                                                  \n",
      " conv1d_166 (Conv1D)            (None, 29, 9)        171         ['max_pooling1d_82[0][0]']       \n",
      "                                                                                                  \n",
      " conv1d_167 (Conv1D)            (None, 29, 9)        171         ['max_pooling1d_82[0][0]']       \n",
      "                                                                                                  \n",
      " conv1d_126 (Conv1D)            (None, 297, 9)       171         ['max_pooling1d_62[0][0]']       \n",
      "                                                                                                  \n",
      " conv1d_127 (Conv1D)            (None, 297, 9)       171         ['max_pooling1d_62[0][0]']       \n",
      "                                                                                                  \n",
      " maximum_92 (Maximum)           (None, 29, 9)        0           ['conv1d_166[0][0]',             \n",
      "                                                                  'conv1d_167[0][0]']             \n",
      "                                                                                                  \n",
      " maximum_72 (Maximum)           (None, 297, 9)       0           ['conv1d_126[0][0]',             \n",
      "                                                                  'conv1d_127[0][0]']             \n",
      "                                                                                                  \n"
     ]
    },
    {
     "name": "stdout",
     "output_type": "stream",
     "text": [
      " max_pooling1d_83 (MaxPooling1D  (None, 28, 9)       0           ['maximum_92[0][0]']             \n",
      " )                                                                                                \n",
      "                                                                                                  \n",
      " max_pooling1d_63 (MaxPooling1D  (None, 296, 9)      0           ['maximum_72[0][0]']             \n",
      " )                                                                                                \n",
      "                                                                                                  \n",
      " conv1d_168 (Conv1D)            (None, 28, 9)        171         ['max_pooling1d_83[0][0]']       \n",
      "                                                                                                  \n",
      " conv1d_169 (Conv1D)            (None, 28, 9)        171         ['max_pooling1d_83[0][0]']       \n",
      "                                                                                                  \n",
      " conv1d_128 (Conv1D)            (None, 296, 9)       171         ['max_pooling1d_63[0][0]']       \n",
      "                                                                                                  \n",
      " conv1d_129 (Conv1D)            (None, 296, 9)       171         ['max_pooling1d_63[0][0]']       \n",
      "                                                                                                  \n",
      " maximum_93 (Maximum)           (None, 28, 9)        0           ['conv1d_168[0][0]',             \n",
      "                                                                  'conv1d_169[0][0]']             \n",
      "                                                                                                  \n",
      " maximum_73 (Maximum)           (None, 296, 9)       0           ['conv1d_128[0][0]',             \n",
      "                                                                  'conv1d_129[0][0]']             \n",
      "                                                                                                  \n",
      " max_pooling1d_84 (MaxPooling1D  (None, 27, 9)       0           ['maximum_93[0][0]']             \n",
      " )                                                                                                \n",
      "                                                                                                  \n",
      " max_pooling1d_64 (MaxPooling1D  (None, 295, 9)      0           ['maximum_73[0][0]']             \n",
      " )                                                                                                \n",
      "                                                                                                  \n",
      " conv1d_170 (Conv1D)            (None, 27, 9)        171         ['max_pooling1d_84[0][0]']       \n",
      "                                                                                                  \n",
      " conv1d_171 (Conv1D)            (None, 27, 9)        171         ['max_pooling1d_84[0][0]']       \n",
      "                                                                                                  \n",
      " conv1d_130 (Conv1D)            (None, 295, 9)       171         ['max_pooling1d_64[0][0]']       \n",
      "                                                                                                  \n",
      " conv1d_131 (Conv1D)            (None, 295, 9)       171         ['max_pooling1d_64[0][0]']       \n",
      "                                                                                                  \n",
      " maximum_94 (Maximum)           (None, 27, 9)        0           ['conv1d_170[0][0]',             \n",
      "                                                                  'conv1d_171[0][0]']             \n",
      "                                                                                                  \n",
      " maximum_74 (Maximum)           (None, 295, 9)       0           ['conv1d_130[0][0]',             \n",
      "                                                                  'conv1d_131[0][0]']             \n",
      "                                                                                                  \n",
      " max_pooling1d_85 (MaxPooling1D  (None, 26, 9)       0           ['maximum_94[0][0]']             \n",
      " )                                                                                                \n",
      "                                                                                                  \n",
      " max_pooling1d_65 (MaxPooling1D  (None, 294, 9)      0           ['maximum_74[0][0]']             \n",
      " )                                                                                                \n",
      "                                                                                                  \n",
      " conv1d_172 (Conv1D)            (None, 26, 9)        171         ['max_pooling1d_85[0][0]']       \n",
      "                                                                                                  \n",
      " conv1d_173 (Conv1D)            (None, 26, 9)        171         ['max_pooling1d_85[0][0]']       \n",
      "                                                                                                  \n",
      " conv1d_132 (Conv1D)            (None, 294, 9)       171         ['max_pooling1d_65[0][0]']       \n",
      "                                                                                                  \n",
      " conv1d_133 (Conv1D)            (None, 294, 9)       171         ['max_pooling1d_65[0][0]']       \n",
      "                                                                                                  \n",
      " maximum_95 (Maximum)           (None, 26, 9)        0           ['conv1d_172[0][0]',             \n",
      "                                                                  'conv1d_173[0][0]']             \n",
      "                                                                                                  \n",
      " maximum_75 (Maximum)           (None, 294, 9)       0           ['conv1d_132[0][0]',             \n",
      "                                                                  'conv1d_133[0][0]']             \n",
      "                                                                                                  \n",
      " max_pooling1d_86 (MaxPooling1D  (None, 25, 9)       0           ['maximum_95[0][0]']             \n",
      " )                                                                                                \n",
      "                                                                                                  \n",
      " max_pooling1d_66 (MaxPooling1D  (None, 293, 9)      0           ['maximum_75[0][0]']             \n",
      " )                                                                                                \n",
      "                                                                                                  \n",
      " conv1d_174 (Conv1D)            (None, 25, 9)        171         ['max_pooling1d_86[0][0]']       \n",
      "                                                                                                  \n",
      " conv1d_175 (Conv1D)            (None, 25, 9)        171         ['max_pooling1d_86[0][0]']       \n",
      "                                                                                                  \n",
      " conv1d_134 (Conv1D)            (None, 293, 9)       171         ['max_pooling1d_66[0][0]']       \n",
      "                                                                                                  \n",
      " conv1d_135 (Conv1D)            (None, 293, 9)       171         ['max_pooling1d_66[0][0]']       \n",
      "                                                                                                  \n",
      " maximum_96 (Maximum)           (None, 25, 9)        0           ['conv1d_174[0][0]',             \n",
      "                                                                  'conv1d_175[0][0]']             \n",
      "                                                                                                  \n",
      " maximum_76 (Maximum)           (None, 293, 9)       0           ['conv1d_134[0][0]',             \n",
      "                                                                  'conv1d_135[0][0]']             \n",
      "                                                                                                  \n",
      " max_pooling1d_87 (MaxPooling1D  (None, 24, 9)       0           ['maximum_96[0][0]']             \n",
      " )                                                                                                \n",
      "                                                                                                  \n"
     ]
    },
    {
     "name": "stdout",
     "output_type": "stream",
     "text": [
      " max_pooling1d_67 (MaxPooling1D  (None, 292, 9)      0           ['maximum_76[0][0]']             \n",
      " )                                                                                                \n",
      "                                                                                                  \n",
      " conv1d_176 (Conv1D)            (None, 24, 9)        171         ['max_pooling1d_87[0][0]']       \n",
      "                                                                                                  \n",
      " conv1d_177 (Conv1D)            (None, 24, 9)        171         ['max_pooling1d_87[0][0]']       \n",
      "                                                                                                  \n",
      " conv1d_136 (Conv1D)            (None, 292, 9)       171         ['max_pooling1d_67[0][0]']       \n",
      "                                                                                                  \n",
      " conv1d_137 (Conv1D)            (None, 292, 9)       171         ['max_pooling1d_67[0][0]']       \n",
      "                                                                                                  \n",
      " maximum_97 (Maximum)           (None, 24, 9)        0           ['conv1d_176[0][0]',             \n",
      "                                                                  'conv1d_177[0][0]']             \n",
      "                                                                                                  \n",
      " maximum_77 (Maximum)           (None, 292, 9)       0           ['conv1d_136[0][0]',             \n",
      "                                                                  'conv1d_137[0][0]']             \n",
      "                                                                                                  \n",
      " max_pooling1d_88 (MaxPooling1D  (None, 23, 9)       0           ['maximum_97[0][0]']             \n",
      " )                                                                                                \n",
      "                                                                                                  \n",
      " max_pooling1d_68 (MaxPooling1D  (None, 291, 9)      0           ['maximum_77[0][0]']             \n",
      " )                                                                                                \n",
      "                                                                                                  \n",
      " conv1d_178 (Conv1D)            (None, 23, 9)        171         ['max_pooling1d_88[0][0]']       \n",
      "                                                                                                  \n",
      " conv1d_179 (Conv1D)            (None, 23, 9)        171         ['max_pooling1d_88[0][0]']       \n",
      "                                                                                                  \n",
      " conv1d_138 (Conv1D)            (None, 291, 9)       171         ['max_pooling1d_68[0][0]']       \n",
      "                                                                                                  \n",
      " conv1d_139 (Conv1D)            (None, 291, 9)       171         ['max_pooling1d_68[0][0]']       \n",
      "                                                                                                  \n",
      " maximum_98 (Maximum)           (None, 23, 9)        0           ['conv1d_178[0][0]',             \n",
      "                                                                  'conv1d_179[0][0]']             \n",
      "                                                                                                  \n",
      " maximum_78 (Maximum)           (None, 291, 9)       0           ['conv1d_138[0][0]',             \n",
      "                                                                  'conv1d_139[0][0]']             \n",
      "                                                                                                  \n",
      " interval (InputLayer)          [(None, 192, 1)]     0           []                               \n",
      "                                                                                                  \n",
      " max_pooling1d_89 (MaxPooling1D  (None, 22, 9)       0           ['maximum_98[0][0]']             \n",
      " )                                                                                                \n",
      "                                                                                                  \n",
      " max_pooling1d_69 (MaxPooling1D  (None, 290, 9)      0           ['maximum_78[0][0]']             \n",
      " )                                                                                                \n",
      "                                                                                                  \n",
      " conv1d_100 (Conv1D)            (None, 192, 9)       36          ['interval[0][0]']               \n",
      "                                                                                                  \n",
      " conv1d_101 (Conv1D)            (None, 192, 9)       36          ['interval[0][0]']               \n",
      "                                                                                                  \n",
      " conv1d_180 (Conv1D)            (None, 22, 9)        252         ['max_pooling1d_89[0][0]']       \n",
      "                                                                                                  \n",
      " conv1d_181 (Conv1D)            (None, 22, 9)        252         ['max_pooling1d_89[0][0]']       \n",
      "                                                                                                  \n",
      " conv1d_140 (Conv1D)            (None, 290, 9)       252         ['max_pooling1d_69[0][0]']       \n",
      "                                                                                                  \n",
      " conv1d_141 (Conv1D)            (None, 290, 9)       252         ['max_pooling1d_69[0][0]']       \n",
      "                                                                                                  \n",
      " maximum_59 (Maximum)           (None, 192, 9)       0           ['conv1d_100[0][0]',             \n",
      "                                                                  'conv1d_101[0][0]']             \n",
      "                                                                                                  \n",
      " maximum_99 (Maximum)           (None, 22, 9)        0           ['conv1d_180[0][0]',             \n",
      "                                                                  'conv1d_181[0][0]']             \n",
      "                                                                                                  \n",
      " maximum_79 (Maximum)           (None, 290, 9)       0           ['conv1d_140[0][0]',             \n",
      "                                                                  'conv1d_141[0][0]']             \n",
      "                                                                                                  \n",
      " max_pooling1d_50 (MaxPooling1D  (None, 191, 9)      0           ['maximum_59[0][0]']             \n",
      " )                                                                                                \n",
      "                                                                                                  \n",
      " max_pooling1d_90 (MaxPooling1D  (None, 21, 9)       0           ['maximum_99[0][0]']             \n",
      " )                                                                                                \n",
      "                                                                                                  \n",
      " max_pooling1d_70 (MaxPooling1D  (None, 289, 9)      0           ['maximum_79[0][0]']             \n",
      " )                                                                                                \n",
      "                                                                                                  \n",
      " mel (InputLayer)               [(None, 120, 313, 1  0           []                               \n",
      "                                )]                                                                \n",
      "                                                                                                  \n",
      " conv1d_102 (Conv1D)            (None, 191, 9)       171         ['max_pooling1d_50[0][0]']       \n",
      "                                                                                                  \n",
      " conv1d_103 (Conv1D)            (None, 191, 9)       171         ['max_pooling1d_50[0][0]']       \n",
      "                                                                                                  \n",
      " conv1d_182 (Conv1D)            (None, 21, 9)        171         ['max_pooling1d_90[0][0]']       \n"
     ]
    },
    {
     "name": "stdout",
     "output_type": "stream",
     "text": [
      "                                                                                                  \n",
      " conv1d_183 (Conv1D)            (None, 21, 9)        171         ['max_pooling1d_90[0][0]']       \n",
      "                                                                                                  \n",
      " conv1d_142 (Conv1D)            (None, 289, 9)       171         ['max_pooling1d_70[0][0]']       \n",
      "                                                                                                  \n",
      " conv1d_143 (Conv1D)            (None, 289, 9)       171         ['max_pooling1d_70[0][0]']       \n",
      "                                                                                                  \n",
      " conv2d_18 (Conv2D)             (None, 120, 313, 32  832         ['mel[0][0]']                    \n",
      "                                )                                                                 \n",
      "                                                                                                  \n",
      " conv2d_19 (Conv2D)             (None, 120, 313, 32  832         ['mel[0][0]']                    \n",
      "                                )                                                                 \n",
      "                                                                                                  \n",
      " maximum_60 (Maximum)           (None, 191, 9)       0           ['conv1d_102[0][0]',             \n",
      "                                                                  'conv1d_103[0][0]']             \n",
      "                                                                                                  \n",
      " maximum_100 (Maximum)          (None, 21, 9)        0           ['conv1d_182[0][0]',             \n",
      "                                                                  'conv1d_183[0][0]']             \n",
      "                                                                                                  \n",
      " maximum_80 (Maximum)           (None, 289, 9)       0           ['conv1d_142[0][0]',             \n",
      "                                                                  'conv1d_143[0][0]']             \n",
      "                                                                                                  \n",
      " maximum_109 (Maximum)          (None, 120, 313, 32  0           ['conv2d_18[0][0]',              \n",
      "                                )                                 'conv2d_19[0][0]']              \n",
      "                                                                                                  \n",
      " max_pooling1d_51 (MaxPooling1D  (None, 190, 9)      0           ['maximum_60[0][0]']             \n",
      " )                                                                                                \n",
      "                                                                                                  \n",
      " max_pooling1d_91 (MaxPooling1D  (None, 20, 9)       0           ['maximum_100[0][0]']            \n",
      " )                                                                                                \n",
      "                                                                                                  \n",
      " max_pooling1d_71 (MaxPooling1D  (None, 288, 9)      0           ['maximum_80[0][0]']             \n",
      " )                                                                                                \n",
      "                                                                                                  \n",
      " max_pooling2d_4 (MaxPooling2D)  (None, 60, 157, 32)  0          ['maximum_109[0][0]']            \n",
      "                                                                                                  \n",
      " conv1d_104 (Conv1D)            (None, 190, 9)       171         ['max_pooling1d_51[0][0]']       \n",
      "                                                                                                  \n",
      " conv1d_105 (Conv1D)            (None, 190, 9)       171         ['max_pooling1d_51[0][0]']       \n",
      "                                                                                                  \n",
      " conv1d_184 (Conv1D)            (None, 20, 9)        171         ['max_pooling1d_91[0][0]']       \n",
      "                                                                                                  \n",
      " conv1d_185 (Conv1D)            (None, 20, 9)        171         ['max_pooling1d_91[0][0]']       \n",
      "                                                                                                  \n",
      " conv1d_144 (Conv1D)            (None, 288, 9)       171         ['max_pooling1d_71[0][0]']       \n",
      "                                                                                                  \n",
      " conv1d_145 (Conv1D)            (None, 288, 9)       171         ['max_pooling1d_71[0][0]']       \n",
      "                                                                                                  \n",
      " conv2d_20 (Conv2D)             (None, 60, 157, 32)  1056        ['max_pooling2d_4[0][0]']        \n",
      "                                                                                                  \n",
      " conv2d_21 (Conv2D)             (None, 60, 157, 32)  1056        ['max_pooling2d_4[0][0]']        \n",
      "                                                                                                  \n",
      " maximum_61 (Maximum)           (None, 190, 9)       0           ['conv1d_104[0][0]',             \n",
      "                                                                  'conv1d_105[0][0]']             \n",
      "                                                                                                  \n",
      " maximum_101 (Maximum)          (None, 20, 9)        0           ['conv1d_184[0][0]',             \n",
      "                                                                  'conv1d_185[0][0]']             \n",
      "                                                                                                  \n",
      " maximum_81 (Maximum)           (None, 288, 9)       0           ['conv1d_144[0][0]',             \n",
      "                                                                  'conv1d_145[0][0]']             \n",
      "                                                                                                  \n",
      " maximum_110 (Maximum)          (None, 60, 157, 32)  0           ['conv2d_20[0][0]',              \n",
      "                                                                  'conv2d_21[0][0]']              \n",
      "                                                                                                  \n",
      " max_pooling1d_52 (MaxPooling1D  (None, 189, 9)      0           ['maximum_61[0][0]']             \n",
      " )                                                                                                \n",
      "                                                                                                  \n",
      " max_pooling1d_92 (MaxPooling1D  (None, 19, 9)       0           ['maximum_101[0][0]']            \n",
      " )                                                                                                \n",
      "                                                                                                  \n",
      " max_pooling1d_72 (MaxPooling1D  (None, 287, 9)      0           ['maximum_81[0][0]']             \n",
      " )                                                                                                \n",
      "                                                                                                  \n",
      " batch_normalization_6 (BatchNo  (None, 60, 157, 32)  96         ['maximum_110[0][0]']            \n",
      " rmalization)                                                                                     \n",
      "                                                                                                  \n",
      " conv1d_106 (Conv1D)            (None, 189, 9)       171         ['max_pooling1d_52[0][0]']       \n",
      "                                                                                                  \n",
      " conv1d_107 (Conv1D)            (None, 189, 9)       171         ['max_pooling1d_52[0][0]']       \n",
      "                                                                                                  \n",
      " conv1d_186 (Conv1D)            (None, 19, 9)        171         ['max_pooling1d_92[0][0]']       \n",
      "                                                                                                  \n",
      " conv1d_187 (Conv1D)            (None, 19, 9)        171         ['max_pooling1d_92[0][0]']       \n"
     ]
    },
    {
     "name": "stdout",
     "output_type": "stream",
     "text": [
      "                                                                                                  \n",
      " conv1d_146 (Conv1D)            (None, 287, 9)       171         ['max_pooling1d_72[0][0]']       \n",
      "                                                                                                  \n",
      " conv1d_147 (Conv1D)            (None, 287, 9)       171         ['max_pooling1d_72[0][0]']       \n",
      "                                                                                                  \n",
      " conv2d_22 (Conv2D)             (None, 60, 157, 48)  13872       ['batch_normalization_6[0][0]']  \n",
      "                                                                                                  \n",
      " conv2d_23 (Conv2D)             (None, 60, 157, 48)  13872       ['batch_normalization_6[0][0]']  \n",
      "                                                                                                  \n",
      " maximum_62 (Maximum)           (None, 189, 9)       0           ['conv1d_106[0][0]',             \n",
      "                                                                  'conv1d_107[0][0]']             \n",
      "                                                                                                  \n",
      " maximum_102 (Maximum)          (None, 19, 9)        0           ['conv1d_186[0][0]',             \n",
      "                                                                  'conv1d_187[0][0]']             \n",
      "                                                                                                  \n",
      " maximum_82 (Maximum)           (None, 287, 9)       0           ['conv1d_146[0][0]',             \n",
      "                                                                  'conv1d_147[0][0]']             \n",
      "                                                                                                  \n",
      " maximum_111 (Maximum)          (None, 60, 157, 48)  0           ['conv2d_22[0][0]',              \n",
      "                                                                  'conv2d_23[0][0]']              \n",
      "                                                                                                  \n",
      " max_pooling1d_53 (MaxPooling1D  (None, 188, 9)      0           ['maximum_62[0][0]']             \n",
      " )                                                                                                \n",
      "                                                                                                  \n",
      " max_pooling1d_93 (MaxPooling1D  (None, 18, 9)       0           ['maximum_102[0][0]']            \n",
      " )                                                                                                \n",
      "                                                                                                  \n",
      " max_pooling1d_73 (MaxPooling1D  (None, 286, 9)      0           ['maximum_82[0][0]']             \n",
      " )                                                                                                \n",
      "                                                                                                  \n",
      " max_pooling2d_5 (MaxPooling2D)  (None, 30, 79, 48)  0           ['maximum_111[0][0]']            \n",
      "                                                                                                  \n",
      " conv1d_108 (Conv1D)            (None, 188, 9)       171         ['max_pooling1d_53[0][0]']       \n",
      "                                                                                                  \n",
      " conv1d_188 (Conv1D)            (None, 18, 9)        171         ['max_pooling1d_93[0][0]']       \n",
      "                                                                                                  \n",
      " conv1d_189 (Conv1D)            (None, 18, 9)        171         ['max_pooling1d_93[0][0]']       \n",
      "                                                                                                  \n",
      " conv1d_148 (Conv1D)            (None, 286, 9)       171         ['max_pooling1d_73[0][0]']       \n",
      "                                                                                                  \n",
      " conv1d_149 (Conv1D)            (None, 286, 9)       171         ['max_pooling1d_73[0][0]']       \n",
      "                                                                                                  \n",
      " batch_normalization_7 (BatchNo  (None, 30, 79, 48)  144         ['max_pooling2d_5[0][0]']        \n",
      " rmalization)                                                                                     \n",
      "                                                                                                  \n",
      " maximum_63 (Maximum)           (None, 188, 9)       0           ['conv1d_108[0][0]',             \n",
      "                                                                  'conv1d_108[0][0]']             \n",
      "                                                                                                  \n",
      " maximum_103 (Maximum)          (None, 18, 9)        0           ['conv1d_188[0][0]',             \n",
      "                                                                  'conv1d_189[0][0]']             \n",
      "                                                                                                  \n",
      " maximum_83 (Maximum)           (None, 286, 9)       0           ['conv1d_148[0][0]',             \n",
      "                                                                  'conv1d_149[0][0]']             \n",
      "                                                                                                  \n",
      " conv2d_24 (Conv2D)             (None, 30, 79, 48)   2352        ['batch_normalization_7[0][0]']  \n",
      "                                                                                                  \n",
      " conv2d_25 (Conv2D)             (None, 30, 79, 48)   2352        ['batch_normalization_7[0][0]']  \n",
      "                                                                                                  \n",
      " max_pooling1d_54 (MaxPooling1D  (None, 187, 9)      0           ['maximum_63[0][0]']             \n",
      " )                                                                                                \n",
      "                                                                                                  \n",
      " max_pooling1d_94 (MaxPooling1D  (None, 17, 9)       0           ['maximum_103[0][0]']            \n",
      " )                                                                                                \n",
      "                                                                                                  \n",
      " max_pooling1d_74 (MaxPooling1D  (None, 285, 9)      0           ['maximum_83[0][0]']             \n",
      " )                                                                                                \n",
      "                                                                                                  \n",
      " maximum_112 (Maximum)          (None, 30, 79, 48)   0           ['conv2d_24[0][0]',              \n",
      "                                                                  'conv2d_25[0][0]']              \n",
      "                                                                                                  \n",
      " conv1d_110 (Conv1D)            (None, 187, 9)       171         ['max_pooling1d_54[0][0]']       \n",
      "                                                                                                  \n",
      " conv1d_111 (Conv1D)            (None, 187, 9)       171         ['max_pooling1d_54[0][0]']       \n",
      "                                                                                                  \n",
      " conv1d_190 (Conv1D)            (None, 17, 64)       1216        ['max_pooling1d_94[0][0]']       \n",
      "                                                                                                  \n",
      " conv1d_191 (Conv1D)            (None, 17, 64)       1216        ['max_pooling1d_94[0][0]']       \n",
      "                                                                                                  \n",
      " conv1d_150 (Conv1D)            (None, 285, 64)      1216        ['max_pooling1d_74[0][0]']       \n",
      "                                                                                                  \n",
      " conv1d_151 (Conv1D)            (None, 285, 64)      1216        ['max_pooling1d_74[0][0]']       \n",
      "                                                                                                  \n",
      " batch_normalization_8 (BatchNo  (None, 30, 79, 48)  144         ['maximum_112[0][0]']            \n"
     ]
    },
    {
     "name": "stdout",
     "output_type": "stream",
     "text": [
      " rmalization)                                                                                     \n",
      "                                                                                                  \n",
      " maximum_64 (Maximum)           (None, 187, 9)       0           ['conv1d_110[0][0]',             \n",
      "                                                                  'conv1d_111[0][0]']             \n",
      "                                                                                                  \n",
      " maximum_104 (Maximum)          (None, 17, 64)       0           ['conv1d_190[0][0]',             \n",
      "                                                                  'conv1d_191[0][0]']             \n",
      "                                                                                                  \n",
      " maximum_84 (Maximum)           (None, 285, 64)      0           ['conv1d_150[0][0]',             \n",
      "                                                                  'conv1d_151[0][0]']             \n",
      "                                                                                                  \n",
      " conv2d_26 (Conv2D)             (None, 30, 79, 64)   27712       ['batch_normalization_8[0][0]']  \n",
      "                                                                                                  \n",
      " conv2d_27 (Conv2D)             (None, 30, 79, 64)   27712       ['batch_normalization_8[0][0]']  \n",
      "                                                                                                  \n",
      " max_pooling1d_55 (MaxPooling1D  (None, 186, 9)      0           ['maximum_64[0][0]']             \n",
      " )                                                                                                \n",
      "                                                                                                  \n",
      " max_pooling1d_95 (MaxPooling1D  (None, 16, 64)      0           ['maximum_104[0][0]']            \n",
      " )                                                                                                \n",
      "                                                                                                  \n",
      " max_pooling1d_75 (MaxPooling1D  (None, 284, 64)     0           ['maximum_84[0][0]']             \n",
      " )                                                                                                \n",
      "                                                                                                  \n",
      " maximum_113 (Maximum)          (None, 30, 79, 64)   0           ['conv2d_26[0][0]',              \n",
      "                                                                  'conv2d_27[0][0]']              \n",
      "                                                                                                  \n",
      " conv1d_112 (Conv1D)            (None, 186, 9)       171         ['max_pooling1d_55[0][0]']       \n",
      "                                                                                                  \n",
      " conv1d_113 (Conv1D)            (None, 186, 9)       171         ['max_pooling1d_55[0][0]']       \n",
      "                                                                                                  \n",
      " conv1d_192 (Conv1D)            (None, 16, 9)        1161        ['max_pooling1d_95[0][0]']       \n",
      "                                                                                                  \n",
      " conv1d_193 (Conv1D)            (None, 16, 9)        1161        ['max_pooling1d_95[0][0]']       \n",
      "                                                                                                  \n",
      " conv1d_152 (Conv1D)            (None, 284, 9)       1161        ['max_pooling1d_75[0][0]']       \n",
      "                                                                                                  \n",
      " conv1d_153 (Conv1D)            (None, 284, 9)       1161        ['max_pooling1d_75[0][0]']       \n",
      "                                                                                                  \n",
      " max_pooling2d_6 (MaxPooling2D)  (None, 15, 40, 64)  0           ['maximum_113[0][0]']            \n",
      "                                                                                                  \n",
      " maximum_65 (Maximum)           (None, 186, 9)       0           ['conv1d_112[0][0]',             \n",
      "                                                                  'conv1d_113[0][0]']             \n",
      "                                                                                                  \n",
      " maximum_105 (Maximum)          (None, 16, 9)        0           ['conv1d_192[0][0]',             \n",
      "                                                                  'conv1d_193[0][0]']             \n",
      "                                                                                                  \n",
      " maximum_85 (Maximum)           (None, 284, 9)       0           ['conv1d_152[0][0]',             \n",
      "                                                                  'conv1d_153[0][0]']             \n",
      "                                                                                                  \n",
      " conv2d_28 (Conv2D)             (None, 15, 40, 64)   4160        ['max_pooling2d_6[0][0]']        \n",
      "                                                                                                  \n",
      " conv2d_29 (Conv2D)             (None, 15, 40, 64)   4160        ['max_pooling2d_6[0][0]']        \n",
      "                                                                                                  \n",
      " max_pooling1d_56 (MaxPooling1D  (None, 185, 9)      0           ['maximum_65[0][0]']             \n",
      " )                                                                                                \n",
      "                                                                                                  \n",
      " max_pooling1d_96 (MaxPooling1D  (None, 15, 9)       0           ['maximum_105[0][0]']            \n",
      " )                                                                                                \n",
      "                                                                                                  \n",
      " max_pooling1d_76 (MaxPooling1D  (None, 283, 9)      0           ['maximum_85[0][0]']             \n",
      " )                                                                                                \n",
      "                                                                                                  \n",
      " maximum_114 (Maximum)          (None, 15, 40, 64)   0           ['conv2d_28[0][0]',              \n",
      "                                                                  'conv2d_29[0][0]']              \n",
      "                                                                                                  \n",
      " conv1d_114 (Conv1D)            (None, 185, 9)       171         ['max_pooling1d_56[0][0]']       \n",
      "                                                                                                  \n",
      " conv1d_115 (Conv1D)            (None, 185, 9)       171         ['max_pooling1d_56[0][0]']       \n",
      "                                                                                                  \n",
      " conv1d_194 (Conv1D)            (None, 15, 9)        171         ['max_pooling1d_96[0][0]']       \n",
      "                                                                                                  \n",
      " conv1d_195 (Conv1D)            (None, 15, 9)        171         ['max_pooling1d_96[0][0]']       \n",
      "                                                                                                  \n",
      " conv1d_154 (Conv1D)            (None, 283, 9)       171         ['max_pooling1d_76[0][0]']       \n",
      "                                                                                                  \n",
      " conv1d_155 (Conv1D)            (None, 283, 9)       171         ['max_pooling1d_76[0][0]']       \n",
      "                                                                                                  \n",
      " batch_normalization_9 (BatchNo  (None, 15, 40, 64)  192         ['maximum_114[0][0]']            \n",
      " rmalization)                                                                                     \n",
      "                                                                                                  \n",
      " maximum_66 (Maximum)           (None, 185, 9)       0           ['conv1d_114[0][0]',             \n",
      "                                                                  'conv1d_115[0][0]']             \n"
     ]
    },
    {
     "name": "stdout",
     "output_type": "stream",
     "text": [
      "                                                                                                  \n",
      " maximum_106 (Maximum)          (None, 15, 9)        0           ['conv1d_194[0][0]',             \n",
      "                                                                  'conv1d_195[0][0]']             \n",
      "                                                                                                  \n",
      " maximum_86 (Maximum)           (None, 283, 9)       0           ['conv1d_154[0][0]',             \n",
      "                                                                  'conv1d_155[0][0]']             \n",
      "                                                                                                  \n",
      " conv2d_30 (Conv2D)             (None, 15, 40, 32)   18464       ['batch_normalization_9[0][0]']  \n",
      "                                                                                                  \n",
      " conv2d_31 (Conv2D)             (None, 15, 40, 32)   18464       ['batch_normalization_9[0][0]']  \n",
      "                                                                                                  \n",
      " max_pooling1d_57 (MaxPooling1D  (None, 184, 9)      0           ['maximum_66[0][0]']             \n",
      " )                                                                                                \n",
      "                                                                                                  \n",
      " max_pooling1d_97 (MaxPooling1D  (None, 14, 9)       0           ['maximum_106[0][0]']            \n",
      " )                                                                                                \n",
      "                                                                                                  \n",
      " max_pooling1d_77 (MaxPooling1D  (None, 282, 9)      0           ['maximum_86[0][0]']             \n",
      " )                                                                                                \n",
      "                                                                                                  \n",
      " maximum_115 (Maximum)          (None, 15, 40, 32)   0           ['conv2d_30[0][0]',              \n",
      "                                                                  'conv2d_31[0][0]']              \n",
      "                                                                                                  \n",
      " conv1d_116 (Conv1D)            (None, 184, 9)       171         ['max_pooling1d_57[0][0]']       \n",
      "                                                                                                  \n",
      " conv1d_117 (Conv1D)            (None, 184, 9)       171         ['max_pooling1d_57[0][0]']       \n",
      "                                                                                                  \n",
      " conv1d_196 (Conv1D)            (None, 14, 9)        171         ['max_pooling1d_97[0][0]']       \n",
      "                                                                                                  \n",
      " conv1d_197 (Conv1D)            (None, 14, 9)        171         ['max_pooling1d_97[0][0]']       \n",
      "                                                                                                  \n",
      " conv1d_156 (Conv1D)            (None, 282, 9)       171         ['max_pooling1d_77[0][0]']       \n",
      "                                                                                                  \n",
      " conv1d_157 (Conv1D)            (None, 282, 9)       171         ['max_pooling1d_77[0][0]']       \n",
      "                                                                                                  \n",
      " batch_normalization_10 (BatchN  (None, 15, 40, 32)  96          ['maximum_115[0][0]']            \n",
      " ormalization)                                                                                    \n",
      "                                                                                                  \n",
      " maximum_67 (Maximum)           (None, 184, 9)       0           ['conv1d_116[0][0]',             \n",
      "                                                                  'conv1d_117[0][0]']             \n",
      "                                                                                                  \n",
      " maximum_107 (Maximum)          (None, 14, 9)        0           ['conv1d_196[0][0]',             \n",
      "                                                                  'conv1d_197[0][0]']             \n",
      "                                                                                                  \n",
      " maximum_87 (Maximum)           (None, 282, 9)       0           ['conv1d_156[0][0]',             \n",
      "                                                                  'conv1d_157[0][0]']             \n",
      "                                                                                                  \n",
      " conv2d_32 (Conv2D)             (None, 15, 40, 32)   1056        ['batch_normalization_10[0][0]'] \n",
      "                                                                                                  \n",
      " conv2d_33 (Conv2D)             (None, 15, 40, 32)   1056        ['batch_normalization_10[0][0]'] \n",
      "                                                                                                  \n",
      " max_pooling1d_58 (MaxPooling1D  (None, 183, 9)      0           ['maximum_67[0][0]']             \n",
      " )                                                                                                \n",
      "                                                                                                  \n",
      " max_pooling1d_98 (MaxPooling1D  (None, 13, 9)       0           ['maximum_107[0][0]']            \n",
      " )                                                                                                \n",
      "                                                                                                  \n",
      " max_pooling1d_78 (MaxPooling1D  (None, 281, 9)      0           ['maximum_87[0][0]']             \n",
      " )                                                                                                \n",
      "                                                                                                  \n",
      " maximum_116 (Maximum)          (None, 15, 40, 32)   0           ['conv2d_32[0][0]',              \n",
      "                                                                  'conv2d_33[0][0]']              \n",
      "                                                                                                  \n",
      " conv1d_118 (Conv1D)            (None, 183, 9)       171         ['max_pooling1d_58[0][0]']       \n",
      "                                                                                                  \n",
      " conv1d_119 (Conv1D)            (None, 183, 9)       171         ['max_pooling1d_58[0][0]']       \n",
      "                                                                                                  \n",
      " conv1d_198 (Conv1D)            (None, 13, 9)        171         ['max_pooling1d_98[0][0]']       \n",
      "                                                                                                  \n",
      " conv1d_199 (Conv1D)            (None, 13, 9)        171         ['max_pooling1d_98[0][0]']       \n",
      "                                                                                                  \n",
      " conv1d_158 (Conv1D)            (None, 281, 9)       171         ['max_pooling1d_78[0][0]']       \n",
      "                                                                                                  \n",
      " conv1d_159 (Conv1D)            (None, 281, 9)       171         ['max_pooling1d_78[0][0]']       \n",
      "                                                                                                  \n",
      " batch_normalization_11 (BatchN  (None, 15, 40, 32)  96          ['maximum_116[0][0]']            \n",
      " ormalization)                                                                                    \n",
      "                                                                                                  \n",
      " maximum_68 (Maximum)           (None, 183, 9)       0           ['conv1d_118[0][0]',             \n",
      "                                                                  'conv1d_119[0][0]']             \n",
      "                                                                                                  \n",
      " maximum_108 (Maximum)          (None, 13, 9)        0           ['conv1d_198[0][0]',             \n",
      "                                                                  'conv1d_199[0][0]']             \n"
     ]
    },
    {
     "name": "stdout",
     "output_type": "stream",
     "text": [
      "                                                                                                  \n",
      " maximum_88 (Maximum)           (None, 281, 9)       0           ['conv1d_158[0][0]',             \n",
      "                                                                  'conv1d_159[0][0]']             \n",
      "                                                                                                  \n",
      " conv2d_34 (Conv2D)             (None, 15, 40, 32)   1056        ['batch_normalization_11[0][0]'] \n",
      "                                                                                                  \n",
      " conv2d_35 (Conv2D)             (None, 15, 40, 32)   1056        ['batch_normalization_11[0][0]'] \n",
      "                                                                                                  \n",
      " max_pooling1d_59 (MaxPooling1D  (None, 182, 9)      0           ['maximum_68[0][0]']             \n",
      " )                                                                                                \n",
      "                                                                                                  \n",
      " max_pooling1d_99 (MaxPooling1D  (None, 12, 9)       0           ['maximum_108[0][0]']            \n",
      " )                                                                                                \n",
      "                                                                                                  \n",
      " max_pooling1d_79 (MaxPooling1D  (None, 280, 9)      0           ['maximum_88[0][0]']             \n",
      " )                                                                                                \n",
      "                                                                                                  \n",
      " maximum_117 (Maximum)          (None, 15, 40, 32)   0           ['conv2d_34[0][0]',              \n",
      "                                                                  'conv2d_35[0][0]']              \n",
      "                                                                                                  \n",
      " age_cat (InputLayer)           [(None, 6)]          0           []                               \n",
      "                                                                                                  \n",
      " sex_cat (InputLayer)           [(None, 2)]          0           []                               \n",
      "                                                                                                  \n",
      " height_weight (InputLayer)     [(None, 2)]          0           []                               \n",
      "                                                                                                  \n",
      " loc (InputLayer)               [(None, 5)]          0           []                               \n",
      "                                                                                                  \n",
      " global_average_pooling1d_3 (Gl  (None, 9)           0           ['max_pooling1d_59[0][0]']       \n",
      " obalAveragePooling1D)                                                                            \n",
      "                                                                                                  \n",
      " global_average_pooling1d_5 (Gl  (None, 9)           0           ['max_pooling1d_99[0][0]']       \n",
      " obalAveragePooling1D)                                                                            \n",
      "                                                                                                  \n",
      " global_average_pooling1d_4 (Gl  (None, 9)           0           ['max_pooling1d_79[0][0]']       \n",
      " obalAveragePooling1D)                                                                            \n",
      "                                                                                                  \n",
      " max_pooling2d_7 (MaxPooling2D)  (None, 7, 20, 32)   0           ['maximum_117[0][0]']            \n",
      "                                                                                                  \n",
      " dense_7 (Dense)                (None, 2)            14          ['age_cat[0][0]']                \n",
      "                                                                                                  \n",
      " dense_8 (Dense)                (None, 1)            3           ['sex_cat[0][0]']                \n",
      "                                                                                                  \n",
      " dense_9 (Dense)                (None, 1)            3           ['height_weight[0][0]']          \n",
      "                                                                                                  \n",
      " dense_10 (Dense)               (None, 3)            18          ['loc[0][0]']                    \n",
      "                                                                                                  \n",
      " is_preg (InputLayer)           [(None, 1)]          0           []                               \n",
      "                                                                                                  \n",
      " dropout_4 (Dropout)            (None, 9)            0           ['global_average_pooling1d_3[0][0\n",
      "                                                                 ]']                              \n",
      "                                                                                                  \n",
      " dropout_6 (Dropout)            (None, 9)            0           ['global_average_pooling1d_5[0][0\n",
      "                                                                 ]']                              \n",
      "                                                                                                  \n",
      " dropout_5 (Dropout)            (None, 9)            0           ['global_average_pooling1d_4[0][0\n",
      "                                                                 ]']                              \n",
      "                                                                                                  \n",
      " global_average_pooling2d_1 (Gl  (None, 32)          0           ['max_pooling2d_7[0][0]']        \n",
      " obalAveragePooling2D)                                                                            \n",
      "                                                                                                  \n",
      " concatenate_2 (Concatenate)    (None, 35)           0           ['dense_7[0][0]',                \n",
      "                                                                  'dense_8[0][0]',                \n",
      "                                                                  'dense_9[0][0]',                \n",
      "                                                                  'dense_10[0][0]',               \n",
      "                                                                  'is_preg[0][0]',                \n",
      "                                                                  'dropout_4[0][0]',              \n",
      "                                                                  'dropout_6[0][0]',              \n",
      "                                                                  'dropout_5[0][0]']              \n",
      "                                                                                                  \n",
      " dropout_7 (Dropout)            (None, 32)           0           ['global_average_pooling2d_1[0][0\n",
      "                                                                 ]']                              \n",
      "                                                                                                  \n",
      " dense_11 (Dense)               (None, 10)           360         ['concatenate_2[0][0]']          \n",
      "                                                                                                  \n",
      " concatenate_3 (Concatenate)    (None, 42)           0           ['dropout_7[0][0]',              \n",
      "                                                                  'dense_11[0][0]']               \n",
      "                                                                                                  \n",
      " stft (InputLayer)              [(None, 1, 1, 1)]    0           []                               \n",
      "                                                                                                  \n",
      " cqt (InputLayer)               [(None, 1, 1, 1)]    0           []                               \n",
      "                                                                                                  \n",
      " dense_12 (Dense)               (None, 2)            86          ['concatenate_3[0][0]']          \n"
     ]
    },
    {
     "name": "stdout",
     "output_type": "stream",
     "text": [
      "                                                                                                  \n",
      "==================================================================================================\n",
      "Total params: 252,599\n",
      "Trainable params: 252,087\n",
      "Non-trainable params: 512\n",
      "__________________________________________________________________________________________________\n"
     ]
    }
   ],
   "source": [
    "model2.summary()"
   ]
  },
  {
   "cell_type": "code",
   "execution_count": null,
   "id": "aec82b08",
   "metadata": {},
   "outputs": [],
   "source": []
  },
  {
   "cell_type": "code",
   "execution_count": null,
   "id": "e7a9ac6a",
   "metadata": {},
   "outputs": [],
   "source": []
  },
  {
   "cell_type": "code",
   "execution_count": 38,
   "id": "57a145f2",
   "metadata": {
    "scrolled": false
   },
   "outputs": [
    {
     "name": "stdout",
     "output_type": "stream",
     "text": [
      "Epoch 1/100\n"
     ]
    },
    {
     "name": "stderr",
     "output_type": "stream",
     "text": [
      "2022-08-11 16:35:43.875973: I tensorflow/stream_executor/cuda/cuda_dnn.cc:368] Loaded cuDNN version 8101\n"
     ]
    },
    {
     "name": "stdout",
     "output_type": "stream",
     "text": [
      "40/40 [==============================] - 19s 219ms/step - loss: 12.9726 - accuracy: 0.5930 - auc: 0.5495 - val_loss: 4.6294 - val_accuracy: 0.2108 - val_auc: 0.2041 - lr: 9.9851e-04\n",
      "Epoch 2/100\n",
      "40/40 [==============================] - 5s 131ms/step - loss: 0.8877 - accuracy: 0.7840 - auc: 0.8371 - val_loss: 1.4714 - val_accuracy: 0.2171 - val_auc: 0.1695 - lr: 9.9831e-04\n",
      "Epoch 3/100\n",
      "40/40 [==============================] - 7s 169ms/step - loss: 0.8606 - accuracy: 0.8180 - auc: 0.8629 - val_loss: 0.7238 - val_accuracy: 0.4960 - val_auc: 0.4862 - lr: 9.9807e-04\n",
      "Epoch 4/100\n",
      "40/40 [==============================] - 7s 166ms/step - loss: 0.8878 - accuracy: 0.7855 - auc: 0.8491 - val_loss: 0.8364 - val_accuracy: 0.2456 - val_auc: 0.2468 - lr: 9.9781e-04\n",
      "Epoch 5/100\n",
      "40/40 [==============================] - 7s 173ms/step - loss: 0.8508 - accuracy: 0.8020 - auc: 0.8609 - val_loss: 0.9033 - val_accuracy: 0.2314 - val_auc: 0.3027 - lr: 9.9750e-04\n",
      "Epoch 6/100\n",
      "40/40 [==============================] - 7s 181ms/step - loss: 0.8538 - accuracy: 0.7902 - auc: 0.8691 - val_loss: 0.5127 - val_accuracy: 0.7987 - val_auc: 0.8312 - lr: 9.9716e-04\n",
      "Epoch 7/100\n",
      "40/40 [==============================] - 7s 175ms/step - loss: 0.8457 - accuracy: 0.8133 - auc: 0.8690 - val_loss: 0.5449 - val_accuracy: 0.8035 - val_auc: 0.8807 - lr: 9.9676e-04\n",
      "Epoch 8/100\n",
      "40/40 [==============================] - 7s 173ms/step - loss: 0.8523 - accuracy: 0.8062 - auc: 0.8665 - val_loss: 0.4913 - val_accuracy: 0.8162 - val_auc: 0.8900 - lr: 9.9632e-04\n",
      "Epoch 9/100\n",
      "40/40 [==============================] - 7s 169ms/step - loss: 0.8219 - accuracy: 0.8047 - auc: 0.8769 - val_loss: 0.6986 - val_accuracy: 0.5341 - val_auc: 0.5648 - lr: 9.9581e-04\n",
      "Epoch 10/100\n",
      "40/40 [==============================] - 7s 182ms/step - loss: 0.8387 - accuracy: 0.8141 - auc: 0.8765 - val_loss: 0.4397 - val_accuracy: 0.8320 - val_auc: 0.8736 - lr: 9.9523e-04\n",
      "Epoch 11/100\n",
      "40/40 [==============================] - 7s 167ms/step - loss: 0.8244 - accuracy: 0.8141 - auc: 0.8770 - val_loss: 0.7525 - val_accuracy: 0.4723 - val_auc: 0.4471 - lr: 9.9457e-04\n",
      "Epoch 12/100\n",
      "40/40 [==============================] - 7s 172ms/step - loss: 0.8396 - accuracy: 0.8062 - auc: 0.8716 - val_loss: 0.5905 - val_accuracy: 0.7195 - val_auc: 0.8024 - lr: 9.9382e-04\n",
      "Epoch 13/100\n",
      "40/40 [==============================] - 7s 173ms/step - loss: 0.8301 - accuracy: 0.8234 - auc: 0.8763 - val_loss: 0.6872 - val_accuracy: 0.5372 - val_auc: 0.5906 - lr: 9.9297e-04\n",
      "Epoch 14/100\n",
      "40/40 [==============================] - 7s 182ms/step - loss: 0.8252 - accuracy: 0.8121 - auc: 0.8784 - val_loss: 0.4123 - val_accuracy: 0.8352 - val_auc: 0.9103 - lr: 9.9200e-04\n",
      "Epoch 15/100\n",
      "40/40 [==============================] - 7s 167ms/step - loss: 0.8127 - accuracy: 0.8098 - auc: 0.8788 - val_loss: 1.1714 - val_accuracy: 0.2155 - val_auc: 0.2785 - lr: 9.9090e-04\n",
      "Epoch 16/100\n",
      "40/40 [==============================] - 7s 181ms/step - loss: 0.7947 - accuracy: 0.8133 - auc: 0.8865 - val_loss: 0.4316 - val_accuracy: 0.8859 - val_auc: 0.9262 - lr: 9.8965e-04\n",
      "Epoch 17/100\n",
      "40/40 [==============================] - 7s 170ms/step - loss: 0.8343 - accuracy: 0.8176 - auc: 0.8866 - val_loss: 0.4495 - val_accuracy: 0.8716 - val_auc: 0.9313 - lr: 9.8823e-04\n",
      "Epoch 18/100\n",
      "40/40 [==============================] - 7s 175ms/step - loss: 0.8235 - accuracy: 0.8016 - auc: 0.8710 - val_loss: 0.4479 - val_accuracy: 0.8241 - val_auc: 0.9011 - lr: 9.8662e-04\n",
      "Epoch 19/100\n",
      "40/40 [==============================] - 7s 182ms/step - loss: 0.7814 - accuracy: 0.8328 - auc: 0.8918 - val_loss: 0.4136 - val_accuracy: 0.8954 - val_auc: 0.9300 - lr: 9.8479e-04\n",
      "Epoch 20/100\n",
      "40/40 [==============================] - 7s 165ms/step - loss: 0.8106 - accuracy: 0.8188 - auc: 0.8754 - val_loss: 0.5413 - val_accuracy: 0.7544 - val_auc: 0.8397 - lr: 9.8271e-04\n",
      "Epoch 21/100\n",
      "40/40 [==============================] - 7s 174ms/step - loss: 0.8210 - accuracy: 0.8105 - auc: 0.8719 - val_loss: 0.3821 - val_accuracy: 0.8621 - val_auc: 0.9170 - lr: 9.8036e-04\n",
      "Epoch 22/100\n",
      "40/40 [==============================] - 7s 173ms/step - loss: 0.7625 - accuracy: 0.8402 - auc: 0.8904 - val_loss: 0.4559 - val_accuracy: 0.8859 - val_auc: 0.9243 - lr: 9.7769e-04\n",
      "Epoch 23/100\n",
      "40/40 [==============================] - 7s 176ms/step - loss: 0.8149 - accuracy: 0.8148 - auc: 0.8809 - val_loss: 0.5797 - val_accuracy: 0.7021 - val_auc: 0.7644 - lr: 9.7468e-04\n",
      "Epoch 24/100\n",
      "40/40 [==============================] - 7s 171ms/step - loss: 0.8093 - accuracy: 0.8098 - auc: 0.8825 - val_loss: 0.4551 - val_accuracy: 0.8780 - val_auc: 0.9329 - lr: 9.7126e-04\n",
      "Epoch 25/100\n",
      "40/40 [==============================] - 7s 174ms/step - loss: 0.8021 - accuracy: 0.8184 - auc: 0.8832 - val_loss: 0.4912 - val_accuracy: 0.8241 - val_auc: 0.8780 - lr: 9.6740e-04\n",
      "Epoch 26/100\n",
      "40/40 [==============================] - 7s 175ms/step - loss: 0.7989 - accuracy: 0.8270 - auc: 0.8857 - val_loss: 0.4783 - val_accuracy: 0.8320 - val_auc: 0.8946 - lr: 9.6305e-04\n",
      "Epoch 27/100\n",
      "40/40 [==============================] - 7s 175ms/step - loss: 0.8063 - accuracy: 0.8094 - auc: 0.8905 - val_loss: 0.3587 - val_accuracy: 0.8875 - val_auc: 0.9366 - lr: 9.5813e-04\n",
      "Epoch 28/100\n",
      "40/40 [==============================] - 7s 172ms/step - loss: 0.8186 - accuracy: 0.8098 - auc: 0.8865 - val_loss: 0.3876 - val_accuracy: 0.8922 - val_auc: 0.9379 - lr: 9.5260e-04\n",
      "Epoch 29/100\n",
      "40/40 [==============================] - 7s 172ms/step - loss: 0.7897 - accuracy: 0.8199 - auc: 0.8928 - val_loss: 0.6993 - val_accuracy: 0.4960 - val_auc: 0.5465 - lr: 9.4637e-04\n",
      "Epoch 30/100\n",
      "40/40 [==============================] - 7s 173ms/step - loss: 0.7791 - accuracy: 0.8172 - auc: 0.8879 - val_loss: 0.4207 - val_accuracy: 0.8827 - val_auc: 0.9211 - lr: 9.3939e-04\n",
      "Epoch 31/100\n",
      "40/40 [==============================] - 7s 172ms/step - loss: 0.7898 - accuracy: 0.8195 - auc: 0.8834 - val_loss: 0.7311 - val_accuracy: 0.4643 - val_auc: 0.5103 - lr: 9.3155e-04\n",
      "Epoch 32/100\n",
      "40/40 [==============================] - 7s 172ms/step - loss: 0.7914 - accuracy: 0.8215 - auc: 0.8874 - val_loss: 0.4018 - val_accuracy: 0.8843 - val_auc: 0.9480 - lr: 9.2279e-04\n",
      "Epoch 33/100\n",
      "40/40 [==============================] - 7s 178ms/step - loss: 0.8113 - accuracy: 0.8172 - auc: 0.8897 - val_loss: 0.3955 - val_accuracy: 0.8986 - val_auc: 0.9306 - lr: 9.1301e-04\n",
      "Epoch 34/100\n",
      "40/40 [==============================] - 7s 167ms/step - loss: 0.7742 - accuracy: 0.8199 - auc: 0.8919 - val_loss: 0.3876 - val_accuracy: 0.8954 - val_auc: 0.9429 - lr: 9.0213e-04\n",
      "Epoch 35/100\n",
      "40/40 [==============================] - 7s 173ms/step - loss: 0.8014 - accuracy: 0.8230 - auc: 0.8969 - val_loss: 0.4846 - val_accuracy: 0.8669 - val_auc: 0.9371 - lr: 8.9005e-04\n",
      "Epoch 36/100\n",
      "40/40 [==============================] - 7s 174ms/step - loss: 0.8009 - accuracy: 0.8156 - auc: 0.8846 - val_loss: 0.4889 - val_accuracy: 0.7987 - val_auc: 0.8894 - lr: 8.7669e-04\n",
      "Epoch 37/100\n",
      "40/40 [==============================] - 7s 173ms/step - loss: 0.7974 - accuracy: 0.8105 - auc: 0.8860 - val_loss: 0.5421 - val_accuracy: 0.8384 - val_auc: 0.8989 - lr: 8.6196e-04\n",
      "Epoch 38/100\n",
      "40/40 [==============================] - 7s 172ms/step - loss: 0.8004 - accuracy: 0.8195 - auc: 0.8885 - val_loss: 0.4098 - val_accuracy: 0.8209 - val_auc: 0.9088 - lr: 8.4578e-04\n",
      "Epoch 39/100\n",
      "40/40 [==============================] - 7s 172ms/step - loss: 0.7852 - accuracy: 0.8223 - auc: 0.8923 - val_loss: 0.3863 - val_accuracy: 0.8811 - val_auc: 0.9435 - lr: 8.2809e-04\n",
      "Epoch 40/100\n",
      "40/40 [==============================] - 7s 172ms/step - loss: 0.7896 - accuracy: 0.8258 - auc: 0.8908 - val_loss: 0.4015 - val_accuracy: 0.8875 - val_auc: 0.9329 - lr: 8.0883e-04\n",
      "Epoch 41/100\n",
      "40/40 [==============================] - 7s 173ms/step - loss: 0.7842 - accuracy: 0.8242 - auc: 0.8936 - val_loss: 0.5049 - val_accuracy: 0.8146 - val_auc: 0.8926 - lr: 7.8798e-04\n",
      "Epoch 42/100\n",
      "40/40 [==============================] - 7s 171ms/step - loss: 0.7868 - accuracy: 0.8215 - auc: 0.8939 - val_loss: 0.4531 - val_accuracy: 0.8843 - val_auc: 0.9042 - lr: 7.6551e-04\n",
      "Epoch 43/100\n"
     ]
    },
    {
     "name": "stdout",
     "output_type": "stream",
     "text": [
      "40/40 [==============================] - 7s 172ms/step - loss: 0.7901 - accuracy: 0.8121 - auc: 0.8984 - val_loss: 0.4418 - val_accuracy: 0.8558 - val_auc: 0.9284 - lr: 7.4146e-04\n",
      "Epoch 44/100\n",
      "40/40 [==============================] - 7s 172ms/step - loss: 0.7877 - accuracy: 0.8254 - auc: 0.8952 - val_loss: 0.4570 - val_accuracy: 0.8542 - val_auc: 0.9186 - lr: 7.1587e-04\n",
      "Epoch 45/100\n",
      "40/40 [==============================] - 7s 180ms/step - loss: 0.7749 - accuracy: 0.8172 - auc: 0.8983 - val_loss: 0.3705 - val_accuracy: 0.9081 - val_auc: 0.9384 - lr: 6.8882e-04\n",
      "Epoch 46/100\n",
      "40/40 [==============================] - 7s 170ms/step - loss: 0.7885 - accuracy: 0.8215 - auc: 0.9008 - val_loss: 0.4257 - val_accuracy: 0.8843 - val_auc: 0.9426 - lr: 6.6044e-04\n",
      "Epoch 47/100\n",
      "40/40 [==============================] - 7s 173ms/step - loss: 0.7694 - accuracy: 0.8156 - auc: 0.8920 - val_loss: 0.4179 - val_accuracy: 0.9017 - val_auc: 0.9299 - lr: 6.3088e-04\n",
      "Epoch 48/100\n",
      "40/40 [==============================] - 7s 171ms/step - loss: 0.7710 - accuracy: 0.8234 - auc: 0.8959 - val_loss: 0.4974 - val_accuracy: 0.8130 - val_auc: 0.8834 - lr: 6.0032e-04\n",
      "Epoch 49/100\n",
      "40/40 [==============================] - 7s 172ms/step - loss: 0.7472 - accuracy: 0.8195 - auc: 0.9038 - val_loss: 0.3936 - val_accuracy: 0.8827 - val_auc: 0.9389 - lr: 5.6899e-04\n",
      "Epoch 50/100\n",
      "40/40 [==============================] - 7s 173ms/step - loss: 0.7913 - accuracy: 0.7988 - auc: 0.8953 - val_loss: 0.3817 - val_accuracy: 0.8970 - val_auc: 0.9324 - lr: 5.3713e-04\n",
      "Epoch 51/100\n",
      "40/40 [==============================] - 7s 172ms/step - loss: 0.7852 - accuracy: 0.8250 - auc: 0.9006 - val_loss: 0.3806 - val_accuracy: 0.9065 - val_auc: 0.9398 - lr: 5.0500e-04\n",
      "Epoch 52/100\n",
      "40/40 [==============================] - 7s 178ms/step - loss: 0.7475 - accuracy: 0.8309 - auc: 0.9060 - val_loss: 0.3320 - val_accuracy: 0.9002 - val_auc: 0.9384 - lr: 4.7287e-04\n",
      "Epoch 53/100\n",
      "40/40 [==============================] - 7s 175ms/step - loss: 0.7236 - accuracy: 0.8340 - auc: 0.9164 - val_loss: 0.3738 - val_accuracy: 0.8906 - val_auc: 0.9289 - lr: 4.4101e-04\n",
      "Epoch 54/100\n",
      "40/40 [==============================] - 7s 173ms/step - loss: 0.7528 - accuracy: 0.8305 - auc: 0.9029 - val_loss: 0.4019 - val_accuracy: 0.8811 - val_auc: 0.9346 - lr: 4.0968e-04\n",
      "Epoch 55/100\n",
      "40/40 [==============================] - 7s 173ms/step - loss: 0.7678 - accuracy: 0.8148 - auc: 0.9071 - val_loss: 0.3473 - val_accuracy: 0.9017 - val_auc: 0.9472 - lr: 3.7912e-04\n",
      "Epoch 56/100\n",
      "40/40 [==============================] - 7s 181ms/step - loss: 0.7789 - accuracy: 0.8223 - auc: 0.8979 - val_loss: 0.3645 - val_accuracy: 0.9113 - val_auc: 0.9381 - lr: 3.4956e-04\n",
      "Epoch 57/100\n",
      "40/40 [==============================] - 7s 166ms/step - loss: 0.7709 - accuracy: 0.8152 - auc: 0.9077 - val_loss: 0.3975 - val_accuracy: 0.8891 - val_auc: 0.9338 - lr: 3.2118e-04\n",
      "Epoch 58/100\n",
      "40/40 [==============================] - 7s 172ms/step - loss: 0.7524 - accuracy: 0.8273 - auc: 0.9131 - val_loss: 0.4465 - val_accuracy: 0.8479 - val_auc: 0.9186 - lr: 2.9413e-04\n",
      "Epoch 59/100\n",
      "40/40 [==============================] - 7s 175ms/step - loss: 0.7417 - accuracy: 0.8367 - auc: 0.9106 - val_loss: 0.3589 - val_accuracy: 0.9113 - val_auc: 0.9389 - lr: 2.6854e-04\n",
      "Epoch 60/100\n",
      "40/40 [==============================] - 7s 174ms/step - loss: 0.7686 - accuracy: 0.8223 - auc: 0.9070 - val_loss: 0.4521 - val_accuracy: 0.8716 - val_auc: 0.9123 - lr: 2.4449e-04\n",
      "Epoch 61/100\n",
      "40/40 [==============================] - 7s 175ms/step - loss: 0.7378 - accuracy: 0.8398 - auc: 0.9144 - val_loss: 0.3671 - val_accuracy: 0.9017 - val_auc: 0.9346 - lr: 2.2202e-04\n",
      "Epoch 62/100\n",
      "40/40 [==============================] - 7s 174ms/step - loss: 0.7383 - accuracy: 0.8324 - auc: 0.9120 - val_loss: 0.3670 - val_accuracy: 0.8954 - val_auc: 0.9377 - lr: 2.0117e-04\n",
      "Epoch 63/100\n",
      "40/40 [==============================] - 7s 175ms/step - loss: 0.7595 - accuracy: 0.8199 - auc: 0.9111 - val_loss: 0.4327 - val_accuracy: 0.8685 - val_auc: 0.9239 - lr: 1.8191e-04\n",
      "Epoch 64/100\n",
      "40/40 [==============================] - 7s 173ms/step - loss: 0.7365 - accuracy: 0.8258 - auc: 0.9188 - val_loss: 0.4121 - val_accuracy: 0.8906 - val_auc: 0.9271 - lr: 1.6422e-04\n",
      "Epoch 65/100\n",
      "40/40 [==============================] - 7s 175ms/step - loss: 0.7218 - accuracy: 0.8285 - auc: 0.9182 - val_loss: 0.3717 - val_accuracy: 0.8843 - val_auc: 0.9345 - lr: 1.4804e-04\n",
      "Epoch 66/100\n",
      "40/40 [==============================] - 7s 174ms/step - loss: 0.7403 - accuracy: 0.8262 - auc: 0.9135 - val_loss: 0.3679 - val_accuracy: 0.8954 - val_auc: 0.9364 - lr: 1.3331e-04\n",
      "Epoch 67/100\n",
      "40/40 [==============================] - 7s 175ms/step - loss: 0.7167 - accuracy: 0.8438 - auc: 0.9200 - val_loss: 0.3573 - val_accuracy: 0.8986 - val_auc: 0.9406 - lr: 1.1995e-04\n",
      "Epoch 68/100\n",
      "40/40 [==============================] - 7s 173ms/step - loss: 0.7459 - accuracy: 0.8242 - auc: 0.9243 - val_loss: 0.3527 - val_accuracy: 0.8986 - val_auc: 0.9399 - lr: 1.0787e-04\n",
      "Epoch 69/100\n",
      "40/40 [==============================] - 7s 176ms/step - loss: 0.7431 - accuracy: 0.8246 - auc: 0.9114 - val_loss: 0.3602 - val_accuracy: 0.8986 - val_auc: 0.9366 - lr: 9.6985e-05\n",
      "Epoch 70/100\n",
      "40/40 [==============================] - 7s 172ms/step - loss: 0.7524 - accuracy: 0.8262 - auc: 0.9170 - val_loss: 0.4314 - val_accuracy: 0.8590 - val_auc: 0.9218 - lr: 8.7208e-05\n",
      "Epoch 71/100\n",
      "40/40 [==============================] - 7s 174ms/step - loss: 0.7745 - accuracy: 0.8188 - auc: 0.9126 - val_loss: 0.3981 - val_accuracy: 0.8875 - val_auc: 0.9311 - lr: 7.8447e-05\n",
      "Epoch 72/100\n",
      "40/40 [==============================] - 7s 173ms/step - loss: 0.7181 - accuracy: 0.8398 - auc: 0.9239 - val_loss: 0.3812 - val_accuracy: 0.8891 - val_auc: 0.9345 - lr: 7.0614e-05\n",
      "Epoch 73/100\n",
      "40/40 [==============================] - 7s 173ms/step - loss: 0.7279 - accuracy: 0.8277 - auc: 0.9271 - val_loss: 0.3815 - val_accuracy: 0.8906 - val_auc: 0.9354 - lr: 6.3625e-05\n",
      "Epoch 74/100\n",
      "40/40 [==============================] - 7s 177ms/step - loss: 0.7517 - accuracy: 0.8230 - auc: 0.9200 - val_loss: 0.4011 - val_accuracy: 0.8827 - val_auc: 0.9282 - lr: 5.7401e-05\n",
      "Epoch 75/100\n",
      "40/40 [==============================] - 7s 176ms/step - loss: 0.7160 - accuracy: 0.8430 - auc: 0.9262 - val_loss: 0.4294 - val_accuracy: 0.8605 - val_auc: 0.9160 - lr: 5.1867e-05\n",
      "Epoch 76/100\n",
      "40/40 [==============================] - 7s 174ms/step - loss: 0.7110 - accuracy: 0.8371 - auc: 0.9248 - val_loss: 0.3791 - val_accuracy: 0.8970 - val_auc: 0.9341 - lr: 4.6954e-05\n",
      "Epoch 77/100\n",
      "40/40 [==============================] - 7s 174ms/step - loss: 0.7332 - accuracy: 0.8313 - auc: 0.9181 - val_loss: 0.3962 - val_accuracy: 0.8906 - val_auc: 0.9290 - lr: 4.2597e-05\n",
      "Epoch 78/100\n",
      "40/40 [==============================] - 7s 175ms/step - loss: 0.7244 - accuracy: 0.8328 - auc: 0.9189 - val_loss: 0.3864 - val_accuracy: 0.8986 - val_auc: 0.9305 - lr: 3.8739e-05\n",
      "Epoch 79/100\n",
      "40/40 [==============================] - 7s 173ms/step - loss: 0.7094 - accuracy: 0.8289 - auc: 0.9257 - val_loss: 0.4024 - val_accuracy: 0.8843 - val_auc: 0.9242 - lr: 3.5325e-05\n",
      "Epoch 80/100\n",
      "40/40 [==============================] - 7s 171ms/step - loss: 0.7169 - accuracy: 0.8359 - auc: 0.9262 - val_loss: 0.4047 - val_accuracy: 0.8796 - val_auc: 0.9232 - lr: 3.2307e-05\n",
      "Epoch 81/100\n",
      "40/40 [==============================] - 7s 174ms/step - loss: 0.7400 - accuracy: 0.8359 - auc: 0.9177 - val_loss: 0.4031 - val_accuracy: 0.8780 - val_auc: 0.9255 - lr: 2.9642e-05\n",
      "Epoch 82/100\n",
      "40/40 [==============================] - 7s 174ms/step - loss: 0.7318 - accuracy: 0.8328 - auc: 0.9203 - val_loss: 0.4077 - val_accuracy: 0.8748 - val_auc: 0.9244 - lr: 2.7289e-05\n",
      "Epoch 83/100\n",
      "40/40 [==============================] - 7s 172ms/step - loss: 0.7259 - accuracy: 0.8395 - auc: 0.9261 - val_loss: 0.4038 - val_accuracy: 0.8796 - val_auc: 0.9259 - lr: 2.5214e-05\n",
      "Epoch 84/100\n",
      "40/40 [==============================] - 7s 174ms/step - loss: 0.7184 - accuracy: 0.8227 - auc: 0.9216 - val_loss: 0.3858 - val_accuracy: 0.8922 - val_auc: 0.9309 - lr: 2.3384e-05\n",
      "Epoch 85/100\n"
     ]
    },
    {
     "name": "stdout",
     "output_type": "stream",
     "text": [
      "40/40 [==============================] - 7s 175ms/step - loss: 0.7217 - accuracy: 0.8266 - auc: 0.9292 - val_loss: 0.3992 - val_accuracy: 0.8875 - val_auc: 0.9278 - lr: 2.1772e-05\n",
      "Epoch 86/100\n",
      "40/40 [==============================] - 7s 174ms/step - loss: 0.7399 - accuracy: 0.8285 - auc: 0.9193 - val_loss: 0.3778 - val_accuracy: 0.8938 - val_auc: 0.9330 - lr: 2.0352e-05\n",
      "Epoch 87/100\n",
      "40/40 [==============================] - 7s 174ms/step - loss: 0.7292 - accuracy: 0.8375 - auc: 0.9222 - val_loss: 0.3902 - val_accuracy: 0.8906 - val_auc: 0.9309 - lr: 1.9102e-05\n",
      "Epoch 88/100\n",
      "40/40 [==============================] - 7s 171ms/step - loss: 0.7013 - accuracy: 0.8371 - auc: 0.9236 - val_loss: 0.3728 - val_accuracy: 0.8954 - val_auc: 0.9329 - lr: 1.8001e-05\n",
      "Epoch 89/100\n",
      "40/40 [==============================] - 7s 174ms/step - loss: 0.7323 - accuracy: 0.8328 - auc: 0.9242 - val_loss: 0.3888 - val_accuracy: 0.8906 - val_auc: 0.9301 - lr: 1.7033e-05\n",
      "Epoch 90/100\n",
      "40/40 [==============================] - 7s 175ms/step - loss: 0.7063 - accuracy: 0.8371 - auc: 0.9289 - val_loss: 0.3872 - val_accuracy: 0.8891 - val_auc: 0.9306 - lr: 1.6181e-05\n",
      "Epoch 91/100\n",
      "40/40 [==============================] - 7s 175ms/step - loss: 0.7447 - accuracy: 0.8230 - auc: 0.9201 - val_loss: 0.3910 - val_accuracy: 0.8891 - val_auc: 0.9292 - lr: 1.5431e-05\n",
      "Epoch 92/100\n",
      "40/40 [==============================] - 7s 172ms/step - loss: 0.7103 - accuracy: 0.8383 - auc: 0.9285 - val_loss: 0.3946 - val_accuracy: 0.8859 - val_auc: 0.9282 - lr: 1.4773e-05\n",
      "Epoch 93/100\n",
      "40/40 [==============================] - 7s 173ms/step - loss: 0.7124 - accuracy: 0.8297 - auc: 0.9223 - val_loss: 0.3972 - val_accuracy: 0.8843 - val_auc: 0.9273 - lr: 1.4193e-05\n",
      "Epoch 94/100\n",
      "40/40 [==============================] - 7s 175ms/step - loss: 0.6921 - accuracy: 0.8414 - auc: 0.9214 - val_loss: 0.3972 - val_accuracy: 0.8827 - val_auc: 0.9270 - lr: 1.3684e-05\n",
      "Epoch 95/100\n",
      "40/40 [==============================] - 7s 171ms/step - loss: 0.7073 - accuracy: 0.8289 - auc: 0.9201 - val_loss: 0.3873 - val_accuracy: 0.8906 - val_auc: 0.9292 - lr: 1.3236e-05\n",
      "Epoch 96/100\n",
      "40/40 [==============================] - 7s 175ms/step - loss: 0.7496 - accuracy: 0.8227 - auc: 0.9240 - val_loss: 0.3930 - val_accuracy: 0.8875 - val_auc: 0.9282 - lr: 1.2843e-05\n",
      "Epoch 97/100\n",
      "40/40 [==============================] - 7s 176ms/step - loss: 0.7222 - accuracy: 0.8410 - auc: 0.9234 - val_loss: 0.4060 - val_accuracy: 0.8700 - val_auc: 0.9243 - lr: 1.2497e-05\n",
      "Epoch 98/100\n",
      "40/40 [==============================] - 7s 176ms/step - loss: 0.7249 - accuracy: 0.8281 - auc: 0.9214 - val_loss: 0.3851 - val_accuracy: 0.8906 - val_auc: 0.9304 - lr: 1.2193e-05\n",
      "Epoch 99/100\n",
      "40/40 [==============================] - 7s 172ms/step - loss: 0.7490 - accuracy: 0.8234 - auc: 0.9261 - val_loss: 0.3951 - val_accuracy: 0.8843 - val_auc: 0.9288 - lr: 1.1927e-05\n",
      "Epoch 100/100\n",
      "40/40 [==============================] - 7s 175ms/step - loss: 0.7251 - accuracy: 0.8305 - auc: 0.9207 - val_loss: 0.3987 - val_accuracy: 0.8827 - val_auc: 0.9275 - lr: 1.1692e-05\n"
     ]
    }
   ],
   "source": [
    "n_epoch = 100\n",
    "lr = LearningRateScheduler(lambda e: sigmoidal_decay(e, end=n_epoch))\n",
    "batch_size = 64\n",
    "\n",
    "if mixup :\n",
    "    beta_param = .7\n",
    "else :\n",
    "    beta_param = 0\n",
    "    \n",
    "\n",
    "\n",
    "params = {'batch_size': batch_size,\n",
    "          #          'input_shape': (100, 313, 1),\n",
    "          'shuffle': True,\n",
    "          'chaug': chaug,\n",
    "          'beta_param': beta_param,\n",
    "          'cout': cout\n",
    "#              'mixup': mixup,\n",
    "          #          'lowpass': [.5, [11,12,13,14,15,16,17,18]]\n",
    "          #          'highpass': [.5, [78,79,80,81,82,83,84,85]]\n",
    "#              'ranfilter2' : [3, [18,19,20,21,22,23]]\n",
    "          #           'dropblock' : [30, 100]\n",
    "          #'device' : device\n",
    "}\n",
    "\n",
    "if mixup :\n",
    "    params['mixup'] = mixup\n",
    "    params['ranfilter2'] = ranfil\n",
    "else :\n",
    "    params['cutout'] = cout\n",
    "\n",
    "params_no_shuffle = {'batch_size': batch_size,\n",
    "                     #          'input_shape': (100, 313, 1),\n",
    "                     'shuffle': False,\n",
    "                     'beta_param': 0.7,\n",
    "                     'mixup': False\n",
    "                     #'device': device\n",
    "}\n",
    "\n",
    "\n",
    "# TrainDGen_1 = Generator0([features_trn['age'],features_trn['sex'], features_trn['hw'], features_trn['preg'], features_trn['loc'],\n",
    "#             features_trn['interval'],features_trn['wav2'],features_trn['mel1'],features_trn['cqt1'],features_trn['stft1']], \n",
    "#            features_trn['mm_labels'],  ## our Y\n",
    "#                         **params)()\n",
    "\n",
    "\n",
    "# ValidDGen_1 = Generator0([features_test['age'],features_test['sex'], features_test['hw'], \n",
    "#                               features_test['preg'], features_test['loc'],features_test['interval'],\n",
    "#                               features_test['wav2'], features_test['mel1'],features_test['cqt1'],features_test['stft1']], \n",
    "#                              features_test['mm_labels'],  ## our Y\n",
    "                         \n",
    "#                          **params)()\n",
    "\n",
    "\n",
    "\n",
    "\n",
    "\n",
    "if ord1 :\n",
    "    class_weight = {0: mm_weight, 1: 1.}\n",
    "else :\n",
    "    class_weight = {0: mm_weight, 1: wunknown, 2:1.}\n",
    "\n",
    "    \n",
    "    \n",
    "    \n",
    "    \n",
    "\n",
    "if mixup :\n",
    "    \n",
    "    \n",
    "    TrainDGen_1 = Generator0([features_trn['age'],features_trn['sex'], features_trn['hw'], \n",
    "                              features_trn['preg'], features_trn['loc'],features_trn['raw1'],features_trn['interval'],features_trn['wav2'],\n",
    "                              features_trn['mel1'],\n",
    "                              features_trn['cqt1'],\n",
    "                              features_trn['stft1']],features_trn['mm_labels'],**params)()\n",
    "    \n",
    "    model1.fit(TrainDGen_1,\n",
    "               validation_data = ([features_test['age'],features_test['sex'], features_test['hw'],                                   \n",
    "                                   features_test['preg'], features_test['loc'],features_test['raw1'],features_test['interval'],features_test['wav2'],\n",
    "                                   features_test['mel1'],\n",
    "                                   features_test['cqt1'],\n",
    "                                   features_test['stft1']],features_test['mm_labels']),\n",
    "               \n",
    "               callbacks=[lr,model1_callback],\n",
    "               steps_per_epoch=np.ceil(len(features_trn['mm_labels'])/batch_size),\n",
    "               class_weight=class_weight, \n",
    "               epochs = n_epoch)\n",
    "    \n",
    "    \n",
    " \n"
   ]
  },
  {
   "cell_type": "code",
   "execution_count": null,
   "id": "e84f3f23",
   "metadata": {},
   "outputs": [],
   "source": []
  },
  {
   "cell_type": "code",
   "execution_count": 39,
   "id": "90bdd466",
   "metadata": {
    "scrolled": false
   },
   "outputs": [
    {
     "name": "stdout",
     "output_type": "stream",
     "text": [
      "Epoch 1/100\n",
      "40/40 [==============================] - 18s 259ms/step - loss: 5.0176 - accuracy: 0.4867 - auc: 0.4925 - val_loss: 2.5575 - val_accuracy: 0.5119 - val_auc: 0.5419 - lr: 9.9851e-04\n",
      "Epoch 2/100\n",
      "40/40 [==============================] - 5s 135ms/step - loss: 1.5195 - accuracy: 0.4902 - auc: 0.5307 - val_loss: 2.0839 - val_accuracy: 0.5277 - val_auc: 0.5860 - lr: 9.9831e-04\n",
      "Epoch 3/100\n",
      "40/40 [==============================] - 6s 159ms/step - loss: 1.3845 - accuracy: 0.5027 - auc: 0.5199 - val_loss: 0.7809 - val_accuracy: 0.5689 - val_auc: 0.5995 - lr: 9.9807e-04\n",
      "Epoch 4/100\n",
      "40/40 [==============================] - 7s 165ms/step - loss: 1.3642 - accuracy: 0.5105 - auc: 0.5256 - val_loss: 0.7978 - val_accuracy: 0.4992 - val_auc: 0.5201 - lr: 9.9781e-04\n",
      "Epoch 5/100\n",
      "40/40 [==============================] - 7s 171ms/step - loss: 1.3122 - accuracy: 0.5090 - auc: 0.5366 - val_loss: 0.8569 - val_accuracy: 0.5040 - val_auc: 0.5251 - lr: 9.9750e-04\n",
      "Epoch 6/100\n",
      "40/40 [==============================] - 7s 170ms/step - loss: 1.2963 - accuracy: 0.5066 - auc: 0.5323 - val_loss: 0.8026 - val_accuracy: 0.5341 - val_auc: 0.5943 - lr: 9.9716e-04\n",
      "Epoch 7/100\n",
      "40/40 [==============================] - 7s 178ms/step - loss: 1.3841 - accuracy: 0.5000 - auc: 0.5307 - val_loss: 0.7205 - val_accuracy: 0.6181 - val_auc: 0.6603 - lr: 9.9676e-04\n",
      "Epoch 8/100\n",
      "40/40 [==============================] - 7s 164ms/step - loss: 1.3394 - accuracy: 0.5227 - auc: 0.5357 - val_loss: 0.8243 - val_accuracy: 0.5103 - val_auc: 0.5585 - lr: 9.9632e-04\n",
      "Epoch 9/100\n",
      "40/40 [==============================] - 7s 173ms/step - loss: 1.2688 - accuracy: 0.5016 - auc: 0.5400 - val_loss: 0.7346 - val_accuracy: 0.5420 - val_auc: 0.5809 - lr: 9.9581e-04\n",
      "Epoch 10/100\n",
      "40/40 [==============================] - 7s 174ms/step - loss: 1.2644 - accuracy: 0.5105 - auc: 0.5285 - val_loss: 0.9589 - val_accuracy: 0.5087 - val_auc: 0.5543 - lr: 9.9523e-04\n",
      "Epoch 11/100\n",
      "40/40 [==============================] - 7s 172ms/step - loss: 1.2283 - accuracy: 0.5043 - auc: 0.5502 - val_loss: 0.7934 - val_accuracy: 0.4881 - val_auc: 0.5635 - lr: 9.9457e-04\n",
      "Epoch 12/100\n",
      "40/40 [==============================] - 7s 172ms/step - loss: 1.2249 - accuracy: 0.5090 - auc: 0.5545 - val_loss: 0.7421 - val_accuracy: 0.5277 - val_auc: 0.6028 - lr: 9.9382e-04\n",
      "Epoch 13/100\n",
      "40/40 [==============================] - 7s 171ms/step - loss: 1.2549 - accuracy: 0.5016 - auc: 0.5447 - val_loss: 0.7491 - val_accuracy: 0.5087 - val_auc: 0.5659 - lr: 9.9297e-04\n",
      "Epoch 14/100\n",
      "40/40 [==============================] - 7s 172ms/step - loss: 1.2179 - accuracy: 0.5098 - auc: 0.5620 - val_loss: 0.8070 - val_accuracy: 0.5024 - val_auc: 0.5827 - lr: 9.9200e-04\n",
      "Epoch 15/100\n",
      "40/40 [==============================] - 7s 178ms/step - loss: 1.2266 - accuracy: 0.5004 - auc: 0.5475 - val_loss: 0.6572 - val_accuracy: 0.6181 - val_auc: 0.6677 - lr: 9.9090e-04\n",
      "Epoch 16/100\n",
      "40/40 [==============================] - 7s 167ms/step - loss: 1.2212 - accuracy: 0.5188 - auc: 0.5682 - val_loss: 0.6736 - val_accuracy: 0.6133 - val_auc: 0.6518 - lr: 9.8965e-04\n",
      "Epoch 17/100\n",
      "40/40 [==============================] - 7s 170ms/step - loss: 1.2231 - accuracy: 0.4887 - auc: 0.5437 - val_loss: 0.9463 - val_accuracy: 0.4992 - val_auc: 0.5744 - lr: 9.8823e-04\n",
      "Epoch 18/100\n",
      "40/40 [==============================] - 7s 170ms/step - loss: 1.2301 - accuracy: 0.5070 - auc: 0.5578 - val_loss: 0.6923 - val_accuracy: 0.5452 - val_auc: 0.5771 - lr: 9.8662e-04\n",
      "Epoch 19/100\n",
      "40/40 [==============================] - 7s 170ms/step - loss: 1.2208 - accuracy: 0.5043 - auc: 0.5603 - val_loss: 0.6882 - val_accuracy: 0.5515 - val_auc: 0.6132 - lr: 9.8479e-04\n",
      "Epoch 20/100\n",
      "40/40 [==============================] - 7s 171ms/step - loss: 1.2271 - accuracy: 0.5215 - auc: 0.5512 - val_loss: 0.7754 - val_accuracy: 0.5071 - val_auc: 0.5858 - lr: 9.8271e-04\n",
      "Epoch 21/100\n",
      "40/40 [==============================] - 7s 171ms/step - loss: 1.2225 - accuracy: 0.5242 - auc: 0.5571 - val_loss: 0.7261 - val_accuracy: 0.5182 - val_auc: 0.5767 - lr: 9.8036e-04\n",
      "Epoch 22/100\n",
      "40/40 [==============================] - 7s 170ms/step - loss: 1.2151 - accuracy: 0.5051 - auc: 0.5573 - val_loss: 0.7886 - val_accuracy: 0.4992 - val_auc: 0.5427 - lr: 9.7769e-04\n",
      "Epoch 23/100\n",
      "40/40 [==============================] - 7s 171ms/step - loss: 1.2075 - accuracy: 0.5004 - auc: 0.5588 - val_loss: 0.8616 - val_accuracy: 0.5166 - val_auc: 0.5718 - lr: 9.7468e-04\n",
      "Epoch 24/100\n",
      "40/40 [==============================] - 7s 171ms/step - loss: 1.2099 - accuracy: 0.5078 - auc: 0.5646 - val_loss: 0.8477 - val_accuracy: 0.5087 - val_auc: 0.5762 - lr: 9.7126e-04\n",
      "Epoch 25/100\n",
      "40/40 [==============================] - 7s 173ms/step - loss: 1.2411 - accuracy: 0.5113 - auc: 0.5445 - val_loss: 0.7025 - val_accuracy: 0.5325 - val_auc: 0.6034 - lr: 9.6740e-04\n",
      "Epoch 26/100\n",
      "40/40 [==============================] - 7s 170ms/step - loss: 1.2026 - accuracy: 0.5008 - auc: 0.5578 - val_loss: 0.6873 - val_accuracy: 0.5563 - val_auc: 0.6055 - lr: 9.6305e-04\n",
      "Epoch 27/100\n",
      "40/40 [==============================] - 7s 174ms/step - loss: 1.2005 - accuracy: 0.5141 - auc: 0.5635 - val_loss: 0.7814 - val_accuracy: 0.5087 - val_auc: 0.5803 - lr: 9.5813e-04\n",
      "Epoch 28/100\n",
      "40/40 [==============================] - 7s 173ms/step - loss: 1.1939 - accuracy: 0.4949 - auc: 0.5661 - val_loss: 0.6911 - val_accuracy: 0.5420 - val_auc: 0.6089 - lr: 9.5260e-04\n",
      "Epoch 29/100\n",
      "40/40 [==============================] - 7s 179ms/step - loss: 1.1842 - accuracy: 0.5105 - auc: 0.5694 - val_loss: 0.6470 - val_accuracy: 0.6054 - val_auc: 0.6653 - lr: 9.4637e-04\n",
      "Epoch 30/100\n",
      "40/40 [==============================] - 7s 165ms/step - loss: 1.1999 - accuracy: 0.5113 - auc: 0.5617 - val_loss: 0.7266 - val_accuracy: 0.5261 - val_auc: 0.5575 - lr: 9.3939e-04\n",
      "Epoch 31/100\n",
      "40/40 [==============================] - 7s 171ms/step - loss: 1.1926 - accuracy: 0.5055 - auc: 0.5689 - val_loss: 0.8712 - val_accuracy: 0.5024 - val_auc: 0.5943 - lr: 9.3155e-04\n",
      "Epoch 32/100\n",
      "40/40 [==============================] - 7s 172ms/step - loss: 1.1969 - accuracy: 0.5250 - auc: 0.5807 - val_loss: 0.6682 - val_accuracy: 0.5689 - val_auc: 0.6291 - lr: 9.2279e-04\n",
      "Epoch 33/100\n",
      "40/40 [==============================] - 7s 172ms/step - loss: 1.1873 - accuracy: 0.4996 - auc: 0.5638 - val_loss: 0.7190 - val_accuracy: 0.5261 - val_auc: 0.6146 - lr: 9.1301e-04\n",
      "Epoch 34/100\n",
      "40/40 [==============================] - 7s 174ms/step - loss: 1.2025 - accuracy: 0.5129 - auc: 0.5706 - val_loss: 0.9282 - val_accuracy: 0.5071 - val_auc: 0.5619 - lr: 9.0213e-04\n",
      "Epoch 35/100\n",
      "40/40 [==============================] - 7s 173ms/step - loss: 1.2175 - accuracy: 0.5105 - auc: 0.5557 - val_loss: 0.8238 - val_accuracy: 0.5071 - val_auc: 0.5951 - lr: 8.9005e-04\n",
      "Epoch 36/100\n",
      "40/40 [==============================] - 7s 174ms/step - loss: 1.2010 - accuracy: 0.5211 - auc: 0.5731 - val_loss: 0.7921 - val_accuracy: 0.5151 - val_auc: 0.5625 - lr: 8.7669e-04\n",
      "Epoch 37/100\n",
      "40/40 [==============================] - 7s 173ms/step - loss: 1.2039 - accuracy: 0.5145 - auc: 0.5680 - val_loss: 0.7738 - val_accuracy: 0.5341 - val_auc: 0.5658 - lr: 8.6196e-04\n",
      "Epoch 38/100\n",
      "40/40 [==============================] - 7s 176ms/step - loss: 1.1959 - accuracy: 0.5148 - auc: 0.5690 - val_loss: 0.6875 - val_accuracy: 0.5483 - val_auc: 0.5966 - lr: 8.4578e-04\n",
      "Epoch 39/100\n",
      "40/40 [==============================] - 7s 176ms/step - loss: 1.1897 - accuracy: 0.5086 - auc: 0.5681 - val_loss: 0.6826 - val_accuracy: 0.5230 - val_auc: 0.6030 - lr: 8.2809e-04\n",
      "Epoch 40/100\n",
      "40/40 [==============================] - 7s 174ms/step - loss: 1.1871 - accuracy: 0.5176 - auc: 0.5888 - val_loss: 0.8538 - val_accuracy: 0.5103 - val_auc: 0.5846 - lr: 8.0883e-04\n",
      "Epoch 41/100\n",
      "40/40 [==============================] - 7s 178ms/step - loss: 1.1870 - accuracy: 0.5301 - auc: 0.5815 - val_loss: 0.6728 - val_accuracy: 0.5594 - val_auc: 0.6282 - lr: 7.8798e-04\n",
      "Epoch 42/100\n",
      "40/40 [==============================] - 7s 172ms/step - loss: 1.1789 - accuracy: 0.5184 - auc: 0.5975 - val_loss: 0.6847 - val_accuracy: 0.5737 - val_auc: 0.6291 - lr: 7.6551e-04\n",
      "Epoch 43/100\n"
     ]
    },
    {
     "name": "stdout",
     "output_type": "stream",
     "text": [
      "40/40 [==============================] - 7s 171ms/step - loss: 1.1846 - accuracy: 0.5215 - auc: 0.5855 - val_loss: 0.7472 - val_accuracy: 0.5087 - val_auc: 0.5776 - lr: 7.4146e-04\n",
      "Epoch 44/100\n",
      "40/40 [==============================] - 7s 169ms/step - loss: 1.1839 - accuracy: 0.5266 - auc: 0.5841 - val_loss: 0.7360 - val_accuracy: 0.5135 - val_auc: 0.5896 - lr: 7.1587e-04\n",
      "Epoch 45/100\n",
      "40/40 [==============================] - 7s 172ms/step - loss: 1.1764 - accuracy: 0.5188 - auc: 0.5857 - val_loss: 0.7482 - val_accuracy: 0.5135 - val_auc: 0.5828 - lr: 6.8882e-04\n",
      "Epoch 46/100\n",
      "40/40 [==============================] - 7s 181ms/step - loss: 1.1826 - accuracy: 0.5117 - auc: 0.5876 - val_loss: 0.6354 - val_accuracy: 0.6086 - val_auc: 0.6730 - lr: 6.6044e-04\n",
      "Epoch 47/100\n",
      "40/40 [==============================] - 7s 176ms/step - loss: 1.1782 - accuracy: 0.5102 - auc: 0.5916 - val_loss: 0.6111 - val_accuracy: 0.6577 - val_auc: 0.7204 - lr: 6.3088e-04\n",
      "Epoch 48/100\n",
      "40/40 [==============================] - 7s 167ms/step - loss: 1.1728 - accuracy: 0.5293 - auc: 0.5916 - val_loss: 0.7189 - val_accuracy: 0.5420 - val_auc: 0.6031 - lr: 6.0032e-04\n",
      "Epoch 49/100\n",
      "40/40 [==============================] - 7s 175ms/step - loss: 1.1880 - accuracy: 0.5156 - auc: 0.5895 - val_loss: 0.7784 - val_accuracy: 0.5420 - val_auc: 0.6148 - lr: 5.6899e-04\n",
      "Epoch 50/100\n",
      "40/40 [==============================] - 7s 175ms/step - loss: 1.1985 - accuracy: 0.5137 - auc: 0.5821 - val_loss: 0.7328 - val_accuracy: 0.5214 - val_auc: 0.5820 - lr: 5.3713e-04\n",
      "Epoch 51/100\n",
      "40/40 [==============================] - 7s 180ms/step - loss: 1.1663 - accuracy: 0.5324 - auc: 0.5991 - val_loss: 0.8015 - val_accuracy: 0.5119 - val_auc: 0.6044 - lr: 5.0500e-04\n",
      "Epoch 52/100\n",
      "40/40 [==============================] - 7s 169ms/step - loss: 1.1511 - accuracy: 0.5301 - auc: 0.6124 - val_loss: 0.6338 - val_accuracy: 0.6086 - val_auc: 0.6808 - lr: 4.7287e-04\n",
      "Epoch 53/100\n",
      "40/40 [==============================] - 7s 172ms/step - loss: 1.1555 - accuracy: 0.5332 - auc: 0.6122 - val_loss: 0.6537 - val_accuracy: 0.5943 - val_auc: 0.6515 - lr: 4.4101e-04\n",
      "Epoch 54/100\n",
      "40/40 [==============================] - 7s 173ms/step - loss: 1.1699 - accuracy: 0.5352 - auc: 0.6034 - val_loss: 0.6772 - val_accuracy: 0.5626 - val_auc: 0.6268 - lr: 4.0968e-04\n",
      "Epoch 55/100\n",
      "40/40 [==============================] - 7s 174ms/step - loss: 1.1729 - accuracy: 0.5191 - auc: 0.5999 - val_loss: 0.6980 - val_accuracy: 0.5483 - val_auc: 0.6074 - lr: 3.7912e-04\n",
      "Epoch 56/100\n",
      "40/40 [==============================] - 7s 173ms/step - loss: 1.1693 - accuracy: 0.5215 - auc: 0.6111 - val_loss: 0.6616 - val_accuracy: 0.5864 - val_auc: 0.6353 - lr: 3.4956e-04\n",
      "Epoch 57/100\n",
      "40/40 [==============================] - 7s 171ms/step - loss: 1.1549 - accuracy: 0.5355 - auc: 0.6171 - val_loss: 0.6262 - val_accuracy: 0.6339 - val_auc: 0.6987 - lr: 3.2118e-04\n",
      "Epoch 58/100\n",
      "40/40 [==============================] - 7s 172ms/step - loss: 1.1394 - accuracy: 0.5344 - auc: 0.6258 - val_loss: 0.6679 - val_accuracy: 0.5864 - val_auc: 0.6516 - lr: 2.9413e-04\n",
      "Epoch 59/100\n",
      "40/40 [==============================] - 7s 173ms/step - loss: 1.1599 - accuracy: 0.5383 - auc: 0.6083 - val_loss: 0.6665 - val_accuracy: 0.5769 - val_auc: 0.6392 - lr: 2.6854e-04\n",
      "Epoch 60/100\n",
      "40/40 [==============================] - 7s 173ms/step - loss: 1.1571 - accuracy: 0.5297 - auc: 0.6149 - val_loss: 0.8183 - val_accuracy: 0.5261 - val_auc: 0.5703 - lr: 2.4449e-04\n",
      "Epoch 61/100\n",
      "40/40 [==============================] - 7s 171ms/step - loss: 1.1512 - accuracy: 0.5348 - auc: 0.6283 - val_loss: 0.6439 - val_accuracy: 0.6038 - val_auc: 0.6697 - lr: 2.2202e-04\n",
      "Epoch 62/100\n",
      "40/40 [==============================] - 7s 170ms/step - loss: 1.1490 - accuracy: 0.5348 - auc: 0.6217 - val_loss: 0.7248 - val_accuracy: 0.5452 - val_auc: 0.6003 - lr: 2.0117e-04\n",
      "Epoch 63/100\n",
      "40/40 [==============================] - 7s 179ms/step - loss: 1.1505 - accuracy: 0.5316 - auc: 0.6144 - val_loss: 0.6278 - val_accuracy: 0.6640 - val_auc: 0.6982 - lr: 1.8191e-04\n",
      "Epoch 64/100\n",
      "40/40 [==============================] - 7s 172ms/step - loss: 1.1376 - accuracy: 0.5457 - auc: 0.6339 - val_loss: 0.6831 - val_accuracy: 0.5769 - val_auc: 0.6245 - lr: 1.6422e-04\n",
      "Epoch 65/100\n",
      "40/40 [==============================] - 7s 172ms/step - loss: 1.1538 - accuracy: 0.5395 - auc: 0.6304 - val_loss: 0.7418 - val_accuracy: 0.5436 - val_auc: 0.5995 - lr: 1.4804e-04\n",
      "Epoch 66/100\n",
      "40/40 [==============================] - 7s 169ms/step - loss: 1.1499 - accuracy: 0.5391 - auc: 0.6301 - val_loss: 0.6384 - val_accuracy: 0.6022 - val_auc: 0.6776 - lr: 1.3331e-04\n",
      "Epoch 67/100\n",
      "40/40 [==============================] - 7s 176ms/step - loss: 1.1324 - accuracy: 0.5293 - auc: 0.6282 - val_loss: 0.7637 - val_accuracy: 0.5198 - val_auc: 0.5848 - lr: 1.1995e-04\n",
      "Epoch 68/100\n",
      "40/40 [==============================] - 7s 171ms/step - loss: 1.1193 - accuracy: 0.5437 - auc: 0.6471 - val_loss: 0.6522 - val_accuracy: 0.5943 - val_auc: 0.6554 - lr: 1.0787e-04\n",
      "Epoch 69/100\n",
      "40/40 [==============================] - 7s 171ms/step - loss: 1.1459 - accuracy: 0.5555 - auc: 0.6411 - val_loss: 0.6974 - val_accuracy: 0.5626 - val_auc: 0.6180 - lr: 9.6985e-05\n",
      "Epoch 70/100\n",
      "40/40 [==============================] - 7s 173ms/step - loss: 1.1317 - accuracy: 0.5457 - auc: 0.6408 - val_loss: 0.6745 - val_accuracy: 0.5769 - val_auc: 0.6258 - lr: 8.7208e-05\n",
      "Epoch 71/100\n",
      "40/40 [==============================] - 7s 174ms/step - loss: 1.1478 - accuracy: 0.5562 - auc: 0.6471 - val_loss: 0.7016 - val_accuracy: 0.5483 - val_auc: 0.6068 - lr: 7.8447e-05\n",
      "Epoch 72/100\n",
      "40/40 [==============================] - 7s 173ms/step - loss: 1.1247 - accuracy: 0.5441 - auc: 0.6314 - val_loss: 0.6567 - val_accuracy: 0.5975 - val_auc: 0.6517 - lr: 7.0614e-05\n",
      "Epoch 73/100\n",
      "40/40 [==============================] - 7s 173ms/step - loss: 1.1259 - accuracy: 0.5602 - auc: 0.6506 - val_loss: 0.6517 - val_accuracy: 0.6054 - val_auc: 0.6576 - lr: 6.3625e-05\n",
      "Epoch 74/100\n",
      "40/40 [==============================] - 7s 174ms/step - loss: 1.1363 - accuracy: 0.5473 - auc: 0.6439 - val_loss: 0.7228 - val_accuracy: 0.5578 - val_auc: 0.6066 - lr: 5.7401e-05\n",
      "Epoch 75/100\n",
      "40/40 [==============================] - 7s 176ms/step - loss: 1.1250 - accuracy: 0.5410 - auc: 0.6450 - val_loss: 0.6696 - val_accuracy: 0.5800 - val_auc: 0.6366 - lr: 5.1867e-05\n",
      "Epoch 76/100\n",
      "40/40 [==============================] - 7s 174ms/step - loss: 1.1361 - accuracy: 0.5824 - auc: 0.6481 - val_loss: 0.6784 - val_accuracy: 0.5674 - val_auc: 0.6271 - lr: 4.6954e-05\n",
      "Epoch 77/100\n",
      "40/40 [==============================] - 7s 172ms/step - loss: 1.1203 - accuracy: 0.5531 - auc: 0.6476 - val_loss: 0.6843 - val_accuracy: 0.5658 - val_auc: 0.6218 - lr: 4.2597e-05\n",
      "Epoch 78/100\n",
      "40/40 [==============================] - 7s 172ms/step - loss: 1.1310 - accuracy: 0.5531 - auc: 0.6625 - val_loss: 0.6680 - val_accuracy: 0.5880 - val_auc: 0.6370 - lr: 3.8739e-05\n",
      "Epoch 79/100\n",
      "40/40 [==============================] - 7s 175ms/step - loss: 1.1250 - accuracy: 0.5578 - auc: 0.6531 - val_loss: 0.6752 - val_accuracy: 0.5880 - val_auc: 0.6319 - lr: 3.5325e-05\n",
      "Epoch 80/100\n",
      "40/40 [==============================] - 7s 172ms/step - loss: 1.1332 - accuracy: 0.5469 - auc: 0.6477 - val_loss: 0.6911 - val_accuracy: 0.5737 - val_auc: 0.6142 - lr: 3.2307e-05\n",
      "Epoch 81/100\n",
      "40/40 [==============================] - 7s 170ms/step - loss: 1.1176 - accuracy: 0.5520 - auc: 0.6504 - val_loss: 0.6890 - val_accuracy: 0.5705 - val_auc: 0.6209 - lr: 2.9642e-05\n",
      "Epoch 82/100\n",
      "40/40 [==============================] - 7s 171ms/step - loss: 1.1195 - accuracy: 0.5453 - auc: 0.6564 - val_loss: 0.7109 - val_accuracy: 0.5594 - val_auc: 0.6074 - lr: 2.7289e-05\n",
      "Epoch 83/100\n",
      "40/40 [==============================] - 7s 173ms/step - loss: 1.1037 - accuracy: 0.5547 - auc: 0.6590 - val_loss: 0.7307 - val_accuracy: 0.5388 - val_auc: 0.5948 - lr: 2.5214e-05\n",
      "Epoch 84/100\n",
      "40/40 [==============================] - 7s 169ms/step - loss: 1.1204 - accuracy: 0.5605 - auc: 0.6607 - val_loss: 0.7264 - val_accuracy: 0.5420 - val_auc: 0.6012 - lr: 2.3384e-05\n",
      "Epoch 85/100\n"
     ]
    },
    {
     "name": "stdout",
     "output_type": "stream",
     "text": [
      "40/40 [==============================] - 7s 172ms/step - loss: 1.1144 - accuracy: 0.5523 - auc: 0.6545 - val_loss: 0.7125 - val_accuracy: 0.5563 - val_auc: 0.6049 - lr: 2.1772e-05\n",
      "Epoch 86/100\n",
      "40/40 [==============================] - 7s 173ms/step - loss: 1.1141 - accuracy: 0.5668 - auc: 0.6527 - val_loss: 0.7177 - val_accuracy: 0.5547 - val_auc: 0.6011 - lr: 2.0352e-05\n",
      "Epoch 87/100\n",
      "40/40 [==============================] - 7s 174ms/step - loss: 1.1196 - accuracy: 0.5641 - auc: 0.6528 - val_loss: 0.7118 - val_accuracy: 0.5610 - val_auc: 0.6079 - lr: 1.9102e-05\n",
      "Epoch 88/100\n",
      "40/40 [==============================] - 7s 173ms/step - loss: 1.1276 - accuracy: 0.5613 - auc: 0.6519 - val_loss: 0.7222 - val_accuracy: 0.5468 - val_auc: 0.5987 - lr: 1.8001e-05\n",
      "Epoch 89/100\n",
      "40/40 [==============================] - 7s 175ms/step - loss: 1.1222 - accuracy: 0.5598 - auc: 0.6546 - val_loss: 0.7064 - val_accuracy: 0.5594 - val_auc: 0.6078 - lr: 1.7033e-05\n",
      "Epoch 90/100\n",
      "40/40 [==============================] - 7s 172ms/step - loss: 1.1125 - accuracy: 0.5609 - auc: 0.6660 - val_loss: 0.6756 - val_accuracy: 0.5848 - val_auc: 0.6339 - lr: 1.6181e-05\n",
      "Epoch 91/100\n",
      "40/40 [==============================] - 7s 179ms/step - loss: 1.1212 - accuracy: 0.5738 - auc: 0.6669 - val_loss: 0.7000 - val_accuracy: 0.5689 - val_auc: 0.6129 - lr: 1.5431e-05\n",
      "Epoch 92/100\n",
      "40/40 [==============================] - 7s 176ms/step - loss: 1.1159 - accuracy: 0.5641 - auc: 0.6632 - val_loss: 0.7178 - val_accuracy: 0.5531 - val_auc: 0.6006 - lr: 1.4773e-05\n",
      "Epoch 93/100\n",
      "40/40 [==============================] - 7s 175ms/step - loss: 1.1179 - accuracy: 0.5648 - auc: 0.6608 - val_loss: 0.6946 - val_accuracy: 0.5658 - val_auc: 0.6164 - lr: 1.4193e-05\n",
      "Epoch 94/100\n",
      "40/40 [==============================] - 7s 174ms/step - loss: 1.1079 - accuracy: 0.5605 - auc: 0.6629 - val_loss: 0.7001 - val_accuracy: 0.5674 - val_auc: 0.6141 - lr: 1.3684e-05\n",
      "Epoch 95/100\n",
      "40/40 [==============================] - 7s 173ms/step - loss: 1.1178 - accuracy: 0.5547 - auc: 0.6537 - val_loss: 0.6972 - val_accuracy: 0.5642 - val_auc: 0.6155 - lr: 1.3236e-05\n",
      "Epoch 96/100\n",
      "40/40 [==============================] - 7s 172ms/step - loss: 1.1029 - accuracy: 0.5590 - auc: 0.6566 - val_loss: 0.7542 - val_accuracy: 0.5277 - val_auc: 0.5840 - lr: 1.2843e-05\n",
      "Epoch 97/100\n",
      "40/40 [==============================] - 7s 170ms/step - loss: 1.1209 - accuracy: 0.5730 - auc: 0.6672 - val_loss: 0.7199 - val_accuracy: 0.5404 - val_auc: 0.5940 - lr: 1.2497e-05\n",
      "Epoch 98/100\n",
      "40/40 [==============================] - 7s 171ms/step - loss: 1.1273 - accuracy: 0.5457 - auc: 0.6538 - val_loss: 0.6936 - val_accuracy: 0.5626 - val_auc: 0.6138 - lr: 1.2193e-05\n",
      "Epoch 99/100\n",
      "40/40 [==============================] - 7s 172ms/step - loss: 1.1326 - accuracy: 0.5746 - auc: 0.6709 - val_loss: 0.6837 - val_accuracy: 0.5769 - val_auc: 0.6212 - lr: 1.1927e-05\n",
      "Epoch 100/100\n",
      "40/40 [==============================] - 7s 170ms/step - loss: 1.1158 - accuracy: 0.5738 - auc: 0.6705 - val_loss: 0.7108 - val_accuracy: 0.5578 - val_auc: 0.6028 - lr: 1.1692e-05\n"
     ]
    }
   ],
   "source": [
    "n_epoch = 100\n",
    "lr = LearningRateScheduler(lambda e: sigmoidal_decay(e, end=n_epoch))\n",
    "\n",
    "batch_size = 64\n",
    "\n",
    "if mixup :\n",
    "    beta_param = .7\n",
    "else :\n",
    "    beta_param = 0\n",
    "    \n",
    "params = {'batch_size': batch_size,\n",
    "          #          'input_shape': (100, 313, 1),\n",
    "          'shuffle': True,\n",
    "          'chaug': 0,\n",
    "          'beta_param': beta_param,\n",
    "          'cout': cout,\n",
    "#              'mixup': True,\n",
    "          #          'lowpass': [.5, [11,12,13,14,15,16,17,18]]\n",
    "#            'highpass': [.5, [78,79,80,81,82,83,84,85]],\n",
    "#              'ranfilter2' : [3, [18,19,20,21,22,23]]\n",
    "        #           'dropblock' : [30, 100]\n",
    "          #'device' : device\n",
    "}\n",
    "\n",
    "\n",
    "\n",
    "if mixup :\n",
    "    params['mixup'] = mixup\n",
    "    params['ranfilter2'] = ranfil\n",
    "else :\n",
    "    params['cutout'] = cout\n",
    "\n",
    "\n",
    "params_no_shuffle = {'batch_size': batch_size,\n",
    "                     #          'input_shape': (100, 313, 1),\n",
    "                     'shuffle': False,\n",
    "                     'beta_param': 0.7,\n",
    "                     'mixup': False\n",
    "                     #'device': device\n",
    "}\n",
    "\n",
    "\n",
    "\n",
    "\n",
    "if mixup :\n",
    "\n",
    "    \n",
    "    class_weight = {0: oo_weight, 1: 1.}\n",
    "    TrainDGen_1 = Generator0([features_trn['age'],features_trn['sex'], features_trn['hw'], \n",
    "                              features_trn['preg'], features_trn['loc'],features_trn['raw1'],features_trn['interval'],features_trn['wav2'],\n",
    "                              features_trn['mel1'],\n",
    "                              features_trn['cqt1'],\n",
    "                              features_trn['stft1']],features_trn['out_labels'],**params)()\n",
    "\n",
    "    model2.fit(TrainDGen_1,\n",
    "               validation_data = ([features_test['age'],features_test['sex'], features_test['hw'],                                   \n",
    "                                   features_test['preg'], features_test['loc'],features_test['raw1'],features_test['interval'],features_test['wav2'],\n",
    "                                   features_test['mel1'],\n",
    "                                   features_test['cqt1'],\n",
    "                                   features_test['stft1']],features_test['out_labels']), \n",
    "               \n",
    "               callbacks=[lr,model2_callback],\n",
    "               steps_per_epoch=np.ceil(len(features_trn['out_labels'])/batch_size),\n",
    "               class_weight=class_weight, \n",
    "               epochs = n_epoch)\n",
    "    \n"
   ]
  },
  {
   "cell_type": "code",
   "execution_count": 40,
   "id": "5d9abb6a",
   "metadata": {},
   "outputs": [
    {
     "data": {
      "text/plain": [
       "{'samp_sec': 20,\n",
       " 'pre_emphasis': 0,\n",
       " 'hop_length': 256,\n",
       " 'win_length': 512,\n",
       " 'n_mels': 120,\n",
       " 'filter_scale': 1,\n",
       " 'n_bins': 80,\n",
       " 'fmin': 10,\n",
       " 'maxlen1': 246000,\n",
       " 'min_dist': 500,\n",
       " 'max_interval_len': 192,\n",
       " 'trim': 1,\n",
       " 'use_raw': True,\n",
       " 'use_mel': True,\n",
       " 'use_cqt': False,\n",
       " 'use_stft': False,\n",
       " 'use_interval': True,\n",
       " 'use_wav2': True,\n",
       " 'per_sec': 16000,\n",
       " 'ord1': True,\n",
       " 'mm_mean': False,\n",
       " 'dp': 0,\n",
       " 'fc': False,\n",
       " 'ext': True,\n",
       " 'oo_weight': 3,\n",
       " 'mm_weight': 3,\n",
       " 'chaug': 10,\n",
       " 'cout': 0.8,\n",
       " 'wunknown': 1,\n",
       " 'mixup': True,\n",
       " 'n1': 0}"
      ]
     },
     "execution_count": 40,
     "metadata": {},
     "output_type": "execute_result"
    }
   ],
   "source": [
    "params_feature"
   ]
  },
  {
   "cell_type": "code",
   "execution_count": 41,
   "id": "08f47fb7",
   "metadata": {},
   "outputs": [],
   "source": [
    "params_feature['mel_shape'] = mel_input_shape\n",
    "params_feature['cqt_shape'] = cqt_input_shape\n",
    "params_feature['stft_shape'] = stft_input_shape\n",
    "params_feature['interval_input_shape'] = interval_input_shape\n",
    "params_feature['raw1_input_shape'] = raw1_input_shape\n",
    "params_feature['wav2_input_shape'] = wav2_input_shape\n",
    "params_feature['max_interval_len'] = max_interval_len"
   ]
  },
  {
   "cell_type": "code",
   "execution_count": null,
   "id": "7bf05dc7",
   "metadata": {},
   "outputs": [],
   "source": []
  },
  {
   "cell_type": "code",
   "execution_count": 42,
   "id": "7e94993e",
   "metadata": {},
   "outputs": [
    {
     "data": {
      "text/plain": [
       "{'samp_sec': 20,\n",
       " 'pre_emphasis': 0,\n",
       " 'hop_length': 256,\n",
       " 'win_length': 512,\n",
       " 'n_mels': 120,\n",
       " 'filter_scale': 1,\n",
       " 'n_bins': 80,\n",
       " 'fmin': 10,\n",
       " 'maxlen1': 246000,\n",
       " 'min_dist': 500,\n",
       " 'max_interval_len': 192,\n",
       " 'trim': 1,\n",
       " 'use_raw': True,\n",
       " 'use_mel': True,\n",
       " 'use_cqt': False,\n",
       " 'use_stft': False,\n",
       " 'use_interval': True,\n",
       " 'use_wav2': True,\n",
       " 'per_sec': 16000,\n",
       " 'ord1': True,\n",
       " 'mm_mean': False,\n",
       " 'dp': 0,\n",
       " 'fc': False,\n",
       " 'ext': True,\n",
       " 'oo_weight': 3,\n",
       " 'mm_weight': 3,\n",
       " 'chaug': 10,\n",
       " 'cout': 0.8,\n",
       " 'wunknown': 1,\n",
       " 'mixup': True,\n",
       " 'n1': 0,\n",
       " 'mel_shape': (120, 313, 1),\n",
       " 'cqt_shape': (1, 1, 1),\n",
       " 'stft_shape': (1, 1, 1),\n",
       " 'interval_input_shape': (192, 1),\n",
       " 'raw1_input_shape': (246000,),\n",
       " 'wav2_input_shape': (32, 768)}"
      ]
     },
     "execution_count": 42,
     "metadata": {},
     "output_type": "execute_result"
    }
   ],
   "source": [
    "params_feature"
   ]
  },
  {
   "cell_type": "code",
   "execution_count": 43,
   "id": "eb94fb63",
   "metadata": {},
   "outputs": [],
   "source": [
    "#확인"
   ]
  },
  {
   "cell_type": "code",
   "execution_count": null,
   "id": "2a42760e",
   "metadata": {},
   "outputs": [],
   "source": []
  },
  {
   "cell_type": "code",
   "execution_count": null,
   "id": "98e24365",
   "metadata": {},
   "outputs": [],
   "source": []
  },
  {
   "cell_type": "code",
   "execution_count": null,
   "id": "9b82a69b",
   "metadata": {},
   "outputs": [],
   "source": []
  },
  {
   "cell_type": "code",
   "execution_count": null,
   "id": "43bfcad2",
   "metadata": {},
   "outputs": [],
   "source": []
  },
  {
   "cell_type": "code",
   "execution_count": 44,
   "id": "786d2ba7",
   "metadata": {},
   "outputs": [],
   "source": [
    "import pickle as pk\n",
    "def save_challenge_model(model_folder, model1, model2, m_name1, m_name2, param_feature) :\n",
    "    os.makedirs(model_folder, exist_ok=True)\n",
    "    info_fnm = os.path.join(model_folder, 'desc.pk')\n",
    "    filename1 = os.path.join(model_folder, m_name1 + '_model1.hdf5')\n",
    "    filename2 = os.path.join(model_folder, m_name2 + '_model2.hdf5')\n",
    "    model1.save(filename1)\n",
    "    model2.save(filename2)\n",
    "    param_feature['model1'] = m_name1\n",
    "    param_feature['model2'] = m_name2\n",
    "    param_feature['model_fnm1'] = filename1\n",
    "    param_feature['model_fnm2'] = filename2\n",
    "    with open(info_fnm, 'wb') as f:\n",
    "        pk.dump(param_feature, f, pk.HIGHEST_PROTOCOL)\n",
    "    return 1\n",
    "\n",
    "    with open(info_fnm, 'wb') as f:\n",
    "        pk.dump(param_feature, f, pk.HIGHEST_PROTOCOL)\n",
    "    return 1\n",
    "    "
   ]
  },
  {
   "cell_type": "code",
   "execution_count": 45,
   "id": "6b9ae924",
   "metadata": {},
   "outputs": [
    {
     "data": {
      "text/plain": [
       "'lcnn2'"
      ]
     },
     "execution_count": 45,
     "metadata": {},
     "output_type": "execute_result"
    }
   ],
   "source": [
    "model_folder"
   ]
  },
  {
   "cell_type": "code",
   "execution_count": 46,
   "id": "ed1124d7",
   "metadata": {},
   "outputs": [
    {
     "data": {
      "text/plain": [
       "1"
      ]
     },
     "execution_count": 46,
     "metadata": {},
     "output_type": "execute_result"
    }
   ],
   "source": [
    "save_challenge_model(model_folder, model1, model2, m_name1 = 'lcnn1', m_name2 = 'lcnn2', param_feature = params_feature)"
   ]
  },
  {
   "cell_type": "code",
   "execution_count": null,
   "id": "99691ca8",
   "metadata": {},
   "outputs": [],
   "source": []
  },
  {
   "cell_type": "code",
   "execution_count": 47,
   "id": "ba030c37",
   "metadata": {},
   "outputs": [],
   "source": [
    "def load_challenge_model(model_folder, verbose):\n",
    "    info_fnm = os.path.join(model_folder, 'desc.pk')\n",
    "    with open(info_fnm, 'rb') as f:\n",
    "        info_m = pk.load(f)\n",
    "\n",
    "    return info_m"
   ]
  },
  {
   "cell_type": "code",
   "execution_count": 48,
   "id": "19a747dc",
   "metadata": {},
   "outputs": [],
   "source": [
    "def run_challenge_model(model, data, recordings, verbose):\n",
    "    \n",
    "    murmur_classes = ['Present', 'Unknown', 'Absent']\n",
    "    outcome_classes = ['Abnormal', 'Normal']\n",
    "\n",
    "##########################################################################    \n",
    "    if model['model1'] == 'lcnn1' :\n",
    "        model1 = get_LCNN_o_4_dr_1(model['mel_shape'],model['cqt_shape'],model['stft_shape'], model['interval_input_shape'],\n",
    "                                   model['wav2_input_shape'],model['raw1_input_shape'], \n",
    "                                   use_mel = model['use_mel'],use_cqt = model['use_cqt'], use_stft = model['use_stft'], \n",
    "                                 ord1 = model['ord1'], dp = model['dp'], fc = model['fc'], ext = model['ext'],\n",
    "                                   use_wav2=model['use_wav2'],use_raw=model['use_raw'])  \n",
    "    if model['model2'] == 'lcnn2' :\n",
    "        model2 = get_LCNN_o_4_dr_1(model['mel_shape'],model['cqt_shape'],model['stft_shape'], model['interval_input_shape'],\n",
    "                                   model['wav2_input_shape'],model['raw1_input_shape'], \n",
    "                                   use_mel = model['use_mel'],use_cqt = model['use_cqt'], use_stft = model['use_stft'], \n",
    "                                 ord1 = model['ord1'], dp = model['dp'], fc = model['fc'], ext = model['ext'],\n",
    "                                   use_wav2=model['use_wav2'],use_raw=model['use_raw'])   \n",
    "    model1.load_weights(model['model_fnm1'])\n",
    "    model2.load_weights(model['model_fnm2'])\n",
    "############################################################################ \n",
    "\n",
    "\n",
    "    maxlen1 = params_feature['maxlen1']\n",
    "    min_dist = params_feature['min_dist']\n",
    "    max_interval_len = params_feature['max_interval_len']\n",
    "    \n",
    "    \n",
    "    # Load features.\n",
    "    features = get_feature_one(data, verbose = 0)\n",
    "\n",
    "    samp_sec = model['samp_sec'] \n",
    "    pre_emphasis = model['pre_emphasis']\n",
    "    hop_length = model['hop_length']\n",
    "    win_length = model['win_length']\n",
    "    n_mels = model['n_mels']\n",
    "    filter_scale = model['filter_scale']\n",
    "    n_bins = model['n_bins']\n",
    "    fmin = model['fmin']\n",
    "    trim = model['trim']\n",
    "    use_mel = model['use_mel']\n",
    "    use_cqt = model['use_cqt']\n",
    "    use_stft = model['use_stft']\n",
    "    use_interval = model['use_interval']\n",
    "    use_wav2 = model['use_wav2']\n",
    "    maxlen1 = model['maxlen1']\n",
    "    min_dist = model['min_dist']\n",
    "    per_sec = model['per_sec']\n",
    "    \n",
    "#    use_raw = model['use_raw']\n",
    "\n",
    "    \n",
    "\n",
    "    features['raw1'] = []\n",
    "    tmp_wav=[] \n",
    "    if use_raw:\n",
    "\n",
    "        for i in range(len(recordings)):\n",
    "            data = recordings[i]\n",
    "            tmp_wav.append(data)\n",
    "\n",
    "        padded =pad_sequences(tmp_wav, maxlen=maxlen1, dtype='float64', padding='post', truncating='post', value=0.0)\n",
    "\n",
    "        padded=np.array(padded, dtype=np.float32)\n",
    "        for i in range(len(padded)):\n",
    "            features['raw1'].append(padded[i])\n",
    "\n",
    "        features['raw1'] = np.array(features['raw1'])\n",
    "  \n",
    "    \n",
    "      \n",
    "    features['wav2'] = []\n",
    "    if use_wav2:\n",
    "        \n",
    "        \n",
    "        \n",
    "        tmp_pad = padded[:,np.newaxis,:]\n",
    "        \n",
    "        tmp=[]\n",
    "        for i in range(len(tmp_pad)):\n",
    "            tmp_feature = wav2vec_model(tmp_pad[i])\n",
    "            tmp.append(tmp_feature)\n",
    "            \n",
    "        tmp=np.array(tmp, dtype=np.float32)\n",
    "        new_tmp1=tmp.reshape(-1,32,768)\n",
    "        features['wav2']=new_tmp1\n",
    "        \n",
    "    \n",
    "    features['interval'] = []\n",
    "    tmp_total_interval = [] \n",
    "       \n",
    "    if use_interval:\n",
    "\n",
    "\n",
    "        for i in tqdm.tqdm(range(len(recordings))) :\n",
    "            \n",
    "            datos=recordings[i]\n",
    "            filtros=sio.loadmat('./Filters1')\n",
    "            tmp_interval = []\n",
    "            n_samp = len(datos)//per_sec\n",
    "\n",
    "\n",
    "            try:\n",
    "                for k in range(n_samp):\n",
    "                    \n",
    "                    X = datos[k*per_sec:(k+1)*per_sec]\n",
    "                    Fs= per_sec\n",
    "                    Fpa20=filtros['Fpa20'];\t\t\t        # High pass filter\n",
    "                    Fpa20=Fpa20[0];\t\t\t\t\t# High pass filter\n",
    "                    Fpb100=filtros['Fpb100'];\t\t        # Low-pass Filter\n",
    "                    Fpb100=Fpb100[0];\t\t\t\t# Low-pass Filter\n",
    "                    Xf=FpassBand(X,Fpa20,Fpb100); \t                # Apply a passband filter\n",
    "                    Xf=vec_nor(Xf);\t\t\t\n",
    "\n",
    "                # Derivate of the Signal\n",
    "                    dX=derivate(Xf);\t\t\t\t# Derivate of the signal\n",
    "                    dX=vec_nor(dX);\t\t\t\t\t# Vector Normalizing\n",
    "                # Square of the signal\n",
    "                    dy=np.square(Xf);\n",
    "                    dy=vec_nor(dy);\n",
    "\n",
    "                    size=np.shape(Xf)\t\t\t\t# Rank or dimension of the array\n",
    "                    fil=size[0];\t\t\t\t\t# Number of rows\n",
    "\n",
    "                    positive=np.zeros((1,fil+1));                   # Initializating Positives Values Vector \n",
    "                    positive=positive[0];                           # Getting the Vector\n",
    "\n",
    "                    points=np.zeros((1,fil));                       # Initializating the all Peak Points Vector\n",
    "                    points=points[0];                               # Getting the point vector\n",
    "\n",
    "                    peaks=np.zeros((1,fil));                        # Initializating the s1-s1 Peak Vector\n",
    "                    peaks=peaks[0];                                 # Getting the point vector\n",
    "\n",
    "\n",
    "                    for i in range(0,fil):\n",
    "                        if dX[i]>0:\n",
    "                            positive[i]=1;\n",
    "                        else:\n",
    "                            positive[i]=0;\n",
    "\n",
    "                    for i in range(0,fil):\n",
    "                        if (positive[i]==1 and positive[i+1]==0):\n",
    "                            points[i]=Xf[i];\n",
    "                        else:\n",
    "                            points[i]=0;\n",
    "\n",
    "                    indexes=peakutils.indexes(points,thres=0.5/max(points), min_dist=min_dist);\n",
    "                    lenght=np.shape(indexes)\t\t\t# Get the length of the index vector\t\t\n",
    "                    lenght=lenght[0];\t\t\t\t# Get the value of the index vector\n",
    "\n",
    "                    for i in range(0,lenght):\n",
    "                        p=indexes[i];\n",
    "                        peaks[p]=points[p];\n",
    "\n",
    "                    n=np.arange(0,fil);                            # Vector to the X axes (Number of Samples)\n",
    "                    indexes =indexes+(k*per_sec)    \n",
    "                    tmp_peaks = np.array(indexes)\n",
    "\n",
    "\n",
    "                    tmp_interval.extend(tmp_peaks)\n",
    "\n",
    "                tmp_interval = np.array(tmp_interval)\n",
    "                tmp_interval = np.diff(tmp_interval)\n",
    "\n",
    "                tmp_total_interval.append(tmp_interval)\n",
    "\n",
    "\n",
    "            except:\n",
    "                print(i)\n",
    "                tmp_peaks = np.zeros(max_interval_len)\n",
    "                tmp_total_interval.append(tmp_peaks)\n",
    "\n",
    "    else :\n",
    "\n",
    "        tmp_peaks = np.zeros(max_interval_len)\n",
    "        tmp_total_interval.append(tmp_peaks)       \n",
    "\n",
    "\n",
    "    if use_interval:\n",
    "          \n",
    "        padded =pad_sequences(tmp_total_interval, maxlen=max_interval_len, dtype='float64', padding='post', truncating='post', value=0.0)\n",
    "\n",
    "        for i in range(len(padded)):\n",
    "            features['interval'].append(padded[i])\n",
    "             \n",
    "        for i in range(len(features['interval'])):\n",
    "            features['interval'][i]= features['interval'][i].reshape(-1,1)\n",
    "    \n",
    "        features['interval']=np.array(features['interval'])\n",
    "    \n",
    "        \n",
    "    else:\n",
    "        for i in range(len(tmp_interval)):\n",
    "            features['interval'].append(tmp_total_interval[i])\n",
    "        \n",
    "        for i in range(len(features['interval'])):\n",
    "            features['interval'][i]= features['interval'][i].reshape(-1,1)\n",
    "        features['interval']=np.array(features['interval'])\n",
    "    \n",
    "    \n",
    "    \n",
    "    features['mel1'] = []\n",
    "    for i in range(len(recordings)) :\n",
    "        if use_mel :\n",
    "            mel1 = feature_extract_melspec(recordings[i]/ 32768, samp_sec=samp_sec, pre_emphasis = pre_emphasis, hop_length=hop_length, \n",
    "                                           win_length = win_length, n_mels = n_mels)[0]\n",
    "        else :\n",
    "            mel1 = np.zeros( (1,1) )\n",
    "            \n",
    "        features['mel1'].append(mel1)\n",
    "        \n",
    "    M, N = features['mel1'][0].shape\n",
    "    \n",
    "    if use_mel :\n",
    "        for i in range(len(features['mel1'])) :\n",
    "            features['mel1'][i] = features['mel1'][i].reshape(M,N,1)   \n",
    "    \n",
    "    features['mel1'] = np.array(features['mel1'])\n",
    "\n",
    "    \n",
    "  \n",
    "    features['cqt1'] = []\n",
    "    for i in range(len(recordings)) :\n",
    "        if use_cqt :\n",
    "            mel1 = feature_extract_cqt(recordings[i], samp_sec=samp_sec, pre_emphasis = pre_emphasis, filter_scale = filter_scale, \n",
    "                                        n_bins = n_bins, fmin = fmin)[0]\n",
    "        else:\n",
    "            mel1 = np.zeros( (1,1,1) )\n",
    "            \n",
    "        features['cqt1'].append(mel1)\n",
    "        \n",
    "    M, N,__ = features['cqt1'][0].shape\n",
    "    \n",
    "    if use_cqt :\n",
    "        for i in range(len(features['cqt1'])) :\n",
    "            features['cqt1'][i] = features['cqt1'][i].reshape(M,N,1)   \n",
    "    \n",
    "    features['cqt1'] = np.array(features['cqt1'])\n",
    "    \n",
    "    \n",
    "    features['stft1'] = []\n",
    "    for i in range(len(recordings)) :\n",
    "        if use_stft :\n",
    "            mel1 = feature_extract_stft(recordings[i]/ 32768, samp_sec=samp_sec, pre_emphasis = pre_emphasis, hop_length=hop_length, \n",
    "                                        win_length = win_length)[0]\n",
    "        else :\n",
    "            mel1 = np.zeros( (1,1,1) )\n",
    "        \n",
    "        features['stft1'].append(mel1)\n",
    "        \n",
    "    M, N,__ = features['stft1'][0].shape\n",
    "    if use_stft :\n",
    "        for i in range(len(features['stft1'])) :\n",
    "            features['stft1'][i] = features['stft1'][i].reshape(M,N,1)           \n",
    "    features['stft1'] = np.array(features['stft1'])\n",
    "    \n",
    "#     return features       \n",
    "\n",
    "    #    print(features)\n",
    "    # Impute missing data.\n",
    "    res1 = model1.predict([features['age'], features['sex'], features['hw'], features['preg'], \n",
    "                           features['loc'], features['raw1'],features['interval'],features['wav2'],features['mel1'], features['stft1'], features['cqt1']])\n",
    "    res2 = model2.predict([features['age'], features['sex'], features['hw'], features['preg'], \n",
    "                           features['loc'], features['raw1'],features['interval'],features['wav2'],features['mel1'], features['stft1'], features['cqt1']])\n",
    "    if model['ord1'] :\n",
    "        idx1 = res1.argmax(axis=0)[0]\n",
    "        murmur_p = res1[idx1,]  ## mumur 확률 최대화 되는 애 뽑기ddd\n",
    "        murmur_probabilities = np.zeros((3,))\n",
    "        murmur_probabilities[0] = murmur_p[0]\n",
    "        murmur_probabilities[1] = 0\n",
    "        murmur_probabilities[2] = murmur_p[1]\n",
    "        outcome_probabilities = res2.mean(axis = 0) ##  outcome 은 그냥 평균으로 뽑기\n",
    "    else :\n",
    "        if model['mm_mean'] :\n",
    "            murmur_probabilities = res1.mean(axis = 0)\n",
    "        else :\n",
    "            idx1 = res1.argmax(axis=0)[0]\n",
    "            murmur_probabilities = res1[idx1,]  ## mumur 확률 최대화 되는 애 뽑기\n",
    "        outcome_probabilities = res2.mean(axis = 0) ##  outcome 은 그냥 평균으로 뽑기\n",
    "\n",
    "        \n",
    "    murmur_labels = np.zeros(len(murmur_classes), dtype=np.int_)\n",
    "    \n",
    "    \n",
    "    if murmur_probabilities[0] > 0.482 :\n",
    "        idx = 0\n",
    "    else :\n",
    "        idx = 2\n",
    "    murmur_labels[idx] = 1\n",
    "\n",
    "    outcome_labels = np.zeros(len(outcome_classes), dtype=np.int_)\n",
    "    if outcome_probabilities[0] > 0.607 :\n",
    "        idx = 0\n",
    "    else :\n",
    "        idx = 1    \n",
    "        # idx = np.argmax(outcome_probabilities)\n",
    "    outcome_labels[idx] = 1\n",
    "    \n",
    "    # Concatenate classes, labels, and probabilities.\n",
    "    classes = murmur_classes + outcome_classes\n",
    "    labels = np.concatenate((murmur_labels, outcome_labels))\n",
    "    probabilities = np.concatenate((murmur_probabilities, outcome_probabilities))\n",
    "    \n",
    "    return classes, labels, probabilities"
   ]
  },
  {
   "cell_type": "code",
   "execution_count": 49,
   "id": "b5eecd4a",
   "metadata": {
    "scrolled": true
   },
   "outputs": [
    {
     "data": {
      "text/plain": [
       "'lcnn2'"
      ]
     },
     "execution_count": 49,
     "metadata": {},
     "output_type": "execute_result"
    }
   ],
   "source": [
    "model_folder"
   ]
  },
  {
   "cell_type": "code",
   "execution_count": 50,
   "id": "cd5b523f",
   "metadata": {},
   "outputs": [],
   "source": [
    "data_folder = test_folder"
   ]
  },
  {
   "cell_type": "code",
   "execution_count": 51,
   "id": "1f523ff0",
   "metadata": {},
   "outputs": [
    {
     "data": {
      "text/plain": [
       "'/home/jk21/Downloads/Data/data/murmur/test'"
      ]
     },
     "execution_count": 51,
     "metadata": {},
     "output_type": "execute_result"
    }
   ],
   "source": [
    "data_folder"
   ]
  },
  {
   "cell_type": "code",
   "execution_count": 52,
   "id": "c67ffdf6",
   "metadata": {},
   "outputs": [],
   "source": [
    "output_folder ='/home/jk21/Documents/hmd/jk_classifier/out_lcnn2'"
   ]
  },
  {
   "cell_type": "code",
   "execution_count": 53,
   "id": "89e8d650",
   "metadata": {},
   "outputs": [],
   "source": [
    "allow_failures=True"
   ]
  },
  {
   "cell_type": "code",
   "execution_count": 54,
   "id": "bccc27ef",
   "metadata": {},
   "outputs": [],
   "source": [
    "verbose=1"
   ]
  },
  {
   "cell_type": "code",
   "execution_count": null,
   "id": "101c582c",
   "metadata": {},
   "outputs": [],
   "source": []
  },
  {
   "cell_type": "code",
   "execution_count": 55,
   "id": "73579324",
   "metadata": {},
   "outputs": [],
   "source": [
    "model = load_challenge_model(model_folder, verbose)"
   ]
  },
  {
   "cell_type": "code",
   "execution_count": 56,
   "id": "20a7edc2",
   "metadata": {},
   "outputs": [],
   "source": [
    "patient_files = find_patient_files(data_folder)"
   ]
  },
  {
   "cell_type": "code",
   "execution_count": 57,
   "id": "450b3026",
   "metadata": {},
   "outputs": [],
   "source": [
    "num_patient_files = len(patient_files)"
   ]
  },
  {
   "cell_type": "code",
   "execution_count": 58,
   "id": "2ed2bb8f",
   "metadata": {},
   "outputs": [],
   "source": [
    "patient_data = load_patient_data(patient_files[0])"
   ]
  },
  {
   "cell_type": "code",
   "execution_count": 59,
   "id": "18f0a77e",
   "metadata": {},
   "outputs": [
    {
     "data": {
      "text/plain": [
       "'33151 4 4000\\nAV 33151_AV.hea 33151_AV.wav 33151_AV.tsv\\nPV 33151_PV.hea 33151_PV.wav 33151_PV.tsv\\nTV 33151_TV.hea 33151_TV.wav 33151_TV.tsv\\nMV 33151_MV.hea 33151_MV.wav 33151_MV.tsv\\n#Age: Child\\n#Sex: Female\\n#Height: 141.0\\n#Weight: 30.9\\n#Pregnancy status: False\\n#Murmur: Present\\n#Murmur locations: MV+TV\\n#Most audible location: TV\\n#Systolic murmur timing: Holosystolic\\n#Systolic murmur shape: Plateau\\n#Systolic murmur grading: I/VI\\n#Systolic murmur pitch: Low\\n#Systolic murmur quality: Harsh\\n#Diastolic murmur timing: nan\\n#Diastolic murmur shape: nan\\n#Diastolic murmur grading: nan\\n#Diastolic murmur pitch: nan\\n#Diastolic murmur quality: nan\\n#Outcome: Abnormal\\n#Campaign: CC2015\\n#Additional ID: nan\\n'"
      ]
     },
     "execution_count": 59,
     "metadata": {},
     "output_type": "execute_result"
    }
   ],
   "source": [
    "patient_data"
   ]
  },
  {
   "cell_type": "code",
   "execution_count": 60,
   "id": "f039e162",
   "metadata": {},
   "outputs": [],
   "source": [
    "recordings = load_recordings(data_folder, patient_data)"
   ]
  },
  {
   "cell_type": "code",
   "execution_count": 61,
   "id": "d3acd534",
   "metadata": {
    "scrolled": true
   },
   "outputs": [
    {
     "name": "stderr",
     "output_type": "stream",
     "text": [
      "100%|█████████████████████████████████████████████| 4/4 [00:00<00:00, 10.38it/s]\n"
     ]
    }
   ],
   "source": [
    "classes, labels, probabilities = run_challenge_model(model, patient_data, recordings, verbose)"
   ]
  },
  {
   "cell_type": "code",
   "execution_count": 62,
   "id": "9bb40d85",
   "metadata": {},
   "outputs": [
    {
     "data": {
      "text/plain": [
       "array([0.82032275, 0.        , 0.17967723, 0.66448772, 0.33551228])"
      ]
     },
     "execution_count": 62,
     "metadata": {},
     "output_type": "execute_result"
    }
   ],
   "source": [
    "probabilities"
   ]
  },
  {
   "cell_type": "code",
   "execution_count": 63,
   "id": "970b87e5",
   "metadata": {},
   "outputs": [
    {
     "data": {
      "text/plain": [
       "['Present', 'Unknown', 'Absent', 'Abnormal', 'Normal']"
      ]
     },
     "execution_count": 63,
     "metadata": {},
     "output_type": "execute_result"
    }
   ],
   "source": [
    "classes"
   ]
  },
  {
   "cell_type": "code",
   "execution_count": 64,
   "id": "b6a44c38",
   "metadata": {},
   "outputs": [],
   "source": [
    "# Run model.\n",
    "def run_model(model_folder, data_folder, output_folder, allow_failures, verbose=1):\n",
    "    # Load models.\n",
    "    if verbose >= 1:\n",
    "        print('Loading Challenge model...')\n",
    "\n",
    "    model = load_challenge_model(model_folder, verbose) ### Teams: Implement this function!!!\n",
    "\n",
    "    # Find the patient data files.\n",
    "    patient_files = find_patient_files(data_folder)\n",
    "    num_patient_files = len(patient_files)\n",
    "\n",
    "    if num_patient_files==0:\n",
    "        raise Exception('No data was provided.')\n",
    "\n",
    "    # Create a folder for the Challenge outputs if it does not already exist.\n",
    "    os.makedirs(output_folder, exist_ok=True)\n",
    "\n",
    "    # Run the team's model on the Challenge data.\n",
    "    if verbose >= 1:\n",
    "        print('Running model on Challenge data...')\n",
    "\n",
    "    # Iterate over the patient files.\n",
    "    for i in range(num_patient_files):\n",
    "        if verbose >= 2:\n",
    "            print('    {}/{}...'.format(i+1, num_patient_files))\n",
    "\n",
    "        patient_data = load_patient_data(patient_files[i])\n",
    "        recordings = load_recordings(data_folder, patient_data)\n",
    "\n",
    "        # Allow or disallow the model to fail on parts of the data; helpful for debugging.\n",
    "        try:\n",
    "            classes, labels, probabilities = run_challenge_model(model, patient_data, recordings, verbose) ### Teams: Implement this function!!!\n",
    "        except:\n",
    "            if allow_failures:\n",
    "                if verbose >= 2:\n",
    "                    print('... failed.')\n",
    "                classes, labels, probabilities = list(), list(), list()\n",
    "            else:\n",
    "                raise\n",
    "\n",
    "        # Save Challenge outputs.\n",
    "        head, tail = os.path.split(patient_files[i])\n",
    "        root, extension = os.path.splitext(tail)\n",
    "        output_file = os.path.join(output_folder, root + '.csv')\n",
    "        patient_id = get_patient_id(patient_data)\n",
    "        save_challenge_outputs(output_file, patient_id, classes, labels, probabilities)\n",
    "\n",
    "    if verbose >= 1:\n",
    "        print('Done.')"
   ]
  },
  {
   "cell_type": "code",
   "execution_count": 65,
   "id": "7fe188c6",
   "metadata": {},
   "outputs": [
    {
     "data": {
      "text/plain": [
       "'/home/jk21/Downloads/Data/data/murmur/test'"
      ]
     },
     "execution_count": 65,
     "metadata": {},
     "output_type": "execute_result"
    }
   ],
   "source": [
    "test_folder"
   ]
  },
  {
   "cell_type": "code",
   "execution_count": 66,
   "id": "38ee9f70",
   "metadata": {},
   "outputs": [],
   "source": [
    "output_folder = '/home/jk21/Documents/hmd/jk_classifier/out_lcnn2'"
   ]
  },
  {
   "cell_type": "code",
   "execution_count": 67,
   "id": "9a8580ab",
   "metadata": {},
   "outputs": [
    {
     "data": {
      "text/plain": [
       "'lcnn2'"
      ]
     },
     "execution_count": 67,
     "metadata": {},
     "output_type": "execute_result"
    }
   ],
   "source": [
    "model_folder"
   ]
  },
  {
   "cell_type": "code",
   "execution_count": 68,
   "id": "d4be81f7",
   "metadata": {},
   "outputs": [
    {
     "name": "stdout",
     "output_type": "stream",
     "text": [
      "Loading Challenge model...\n",
      "Running model on Challenge data...\n",
      "    1/191...\n"
     ]
    },
    {
     "name": "stderr",
     "output_type": "stream",
     "text": [
      "100%|█████████████████████████████████████████████| 4/4 [00:00<00:00,  7.77it/s]\n"
     ]
    },
    {
     "name": "stdout",
     "output_type": "stream",
     "text": [
      "    2/191...\n"
     ]
    },
    {
     "name": "stderr",
     "output_type": "stream",
     "text": [
      "100%|█████████████████████████████████████████████| 2/2 [00:00<00:00,  8.51it/s]\n"
     ]
    },
    {
     "name": "stdout",
     "output_type": "stream",
     "text": [
      "WARNING:tensorflow:5 out of the last 5 calls to <function Model.make_predict_function.<locals>.predict_function at 0x7fa594a4f1f0> triggered tf.function retracing. Tracing is expensive and the excessive number of tracings could be due to (1) creating @tf.function repeatedly in a loop, (2) passing tensors with different shapes, (3) passing Python objects instead of tensors. For (1), please define your @tf.function outside of the loop. For (2), @tf.function has experimental_relax_shapes=True option that relaxes argument shapes that can avoid unnecessary retracing. For (3), please refer to https://www.tensorflow.org/guide/function#controlling_retracing and https://www.tensorflow.org/api_docs/python/tf/function for  more details.\n"
     ]
    },
    {
     "name": "stderr",
     "output_type": "stream",
     "text": [
      "WARNING:tensorflow:5 out of the last 5 calls to <function Model.make_predict_function.<locals>.predict_function at 0x7fa594a4f1f0> triggered tf.function retracing. Tracing is expensive and the excessive number of tracings could be due to (1) creating @tf.function repeatedly in a loop, (2) passing tensors with different shapes, (3) passing Python objects instead of tensors. For (1), please define your @tf.function outside of the loop. For (2), @tf.function has experimental_relax_shapes=True option that relaxes argument shapes that can avoid unnecessary retracing. For (3), please refer to https://www.tensorflow.org/guide/function#controlling_retracing and https://www.tensorflow.org/api_docs/python/tf/function for  more details.\n"
     ]
    },
    {
     "name": "stdout",
     "output_type": "stream",
     "text": [
      "WARNING:tensorflow:6 out of the last 6 calls to <function Model.make_predict_function.<locals>.predict_function at 0x7fa594a4fb80> triggered tf.function retracing. Tracing is expensive and the excessive number of tracings could be due to (1) creating @tf.function repeatedly in a loop, (2) passing tensors with different shapes, (3) passing Python objects instead of tensors. For (1), please define your @tf.function outside of the loop. For (2), @tf.function has experimental_relax_shapes=True option that relaxes argument shapes that can avoid unnecessary retracing. For (3), please refer to https://www.tensorflow.org/guide/function#controlling_retracing and https://www.tensorflow.org/api_docs/python/tf/function for  more details.\n"
     ]
    },
    {
     "name": "stderr",
     "output_type": "stream",
     "text": [
      "WARNING:tensorflow:6 out of the last 6 calls to <function Model.make_predict_function.<locals>.predict_function at 0x7fa594a4fb80> triggered tf.function retracing. Tracing is expensive and the excessive number of tracings could be due to (1) creating @tf.function repeatedly in a loop, (2) passing tensors with different shapes, (3) passing Python objects instead of tensors. For (1), please define your @tf.function outside of the loop. For (2), @tf.function has experimental_relax_shapes=True option that relaxes argument shapes that can avoid unnecessary retracing. For (3), please refer to https://www.tensorflow.org/guide/function#controlling_retracing and https://www.tensorflow.org/api_docs/python/tf/function for  more details.\n"
     ]
    },
    {
     "name": "stdout",
     "output_type": "stream",
     "text": [
      "    3/191...\n"
     ]
    },
    {
     "name": "stderr",
     "output_type": "stream",
     "text": [
      "100%|█████████████████████████████████████████████| 4/4 [00:00<00:00,  5.65it/s]\n"
     ]
    },
    {
     "name": "stdout",
     "output_type": "stream",
     "text": [
      "    4/191...\n"
     ]
    },
    {
     "name": "stderr",
     "output_type": "stream",
     "text": [
      "100%|█████████████████████████████████████████████| 2/2 [00:00<00:00,  4.25it/s]\n"
     ]
    },
    {
     "name": "stdout",
     "output_type": "stream",
     "text": [
      "    5/191...\n"
     ]
    },
    {
     "name": "stderr",
     "output_type": "stream",
     "text": [
      "100%|█████████████████████████████████████████████| 3/3 [00:00<00:00,  4.86it/s]\n"
     ]
    },
    {
     "name": "stdout",
     "output_type": "stream",
     "text": [
      "    6/191...\n"
     ]
    },
    {
     "name": "stderr",
     "output_type": "stream",
     "text": [
      "100%|█████████████████████████████████████████████| 1/1 [00:00<00:00,  3.19it/s]\n"
     ]
    },
    {
     "name": "stdout",
     "output_type": "stream",
     "text": [
      "    7/191...\n"
     ]
    },
    {
     "name": "stderr",
     "output_type": "stream",
     "text": [
      "100%|█████████████████████████████████████████████| 4/4 [00:00<00:00,  4.40it/s]\n"
     ]
    },
    {
     "name": "stdout",
     "output_type": "stream",
     "text": [
      "    8/191...\n"
     ]
    },
    {
     "name": "stderr",
     "output_type": "stream",
     "text": [
      "100%|█████████████████████████████████████████████| 4/4 [00:00<00:00,  9.60it/s]\n"
     ]
    },
    {
     "name": "stdout",
     "output_type": "stream",
     "text": [
      "    9/191...\n"
     ]
    },
    {
     "name": "stderr",
     "output_type": "stream",
     "text": [
      "100%|█████████████████████████████████████████████| 4/4 [00:00<00:00,  4.39it/s]\n"
     ]
    },
    {
     "name": "stdout",
     "output_type": "stream",
     "text": [
      "    10/191...\n"
     ]
    },
    {
     "name": "stderr",
     "output_type": "stream",
     "text": [
      "100%|█████████████████████████████████████████████| 4/4 [00:00<00:00,  4.94it/s]\n"
     ]
    },
    {
     "name": "stdout",
     "output_type": "stream",
     "text": [
      "    11/191...\n"
     ]
    },
    {
     "name": "stderr",
     "output_type": "stream",
     "text": [
      "100%|█████████████████████████████████████████████| 4/4 [00:00<00:00,  4.87it/s]\n"
     ]
    },
    {
     "name": "stdout",
     "output_type": "stream",
     "text": [
      "    12/191...\n"
     ]
    },
    {
     "name": "stderr",
     "output_type": "stream",
     "text": [
      "100%|█████████████████████████████████████████████| 2/2 [00:00<00:00,  4.59it/s]\n"
     ]
    },
    {
     "name": "stdout",
     "output_type": "stream",
     "text": [
      "    13/191...\n"
     ]
    },
    {
     "name": "stderr",
     "output_type": "stream",
     "text": [
      "100%|█████████████████████████████████████████████| 3/3 [00:00<00:00,  6.59it/s]\n"
     ]
    },
    {
     "name": "stdout",
     "output_type": "stream",
     "text": [
      "    14/191...\n"
     ]
    },
    {
     "name": "stderr",
     "output_type": "stream",
     "text": [
      "100%|█████████████████████████████████████████████| 4/4 [00:00<00:00,  4.75it/s]\n"
     ]
    },
    {
     "name": "stdout",
     "output_type": "stream",
     "text": [
      "    15/191...\n"
     ]
    },
    {
     "name": "stderr",
     "output_type": "stream",
     "text": [
      "100%|█████████████████████████████████████████████| 2/2 [00:00<00:00,  4.27it/s]\n"
     ]
    },
    {
     "name": "stdout",
     "output_type": "stream",
     "text": [
      "    16/191...\n"
     ]
    },
    {
     "name": "stderr",
     "output_type": "stream",
     "text": [
      "100%|█████████████████████████████████████████████| 4/4 [00:00<00:00,  5.98it/s]\n"
     ]
    },
    {
     "name": "stdout",
     "output_type": "stream",
     "text": [
      "    17/191...\n"
     ]
    },
    {
     "name": "stderr",
     "output_type": "stream",
     "text": [
      "100%|█████████████████████████████████████████████| 5/5 [00:00<00:00,  7.65it/s]\n"
     ]
    },
    {
     "name": "stdout",
     "output_type": "stream",
     "text": [
      "    18/191...\n"
     ]
    },
    {
     "name": "stderr",
     "output_type": "stream",
     "text": [
      "100%|█████████████████████████████████████████████| 1/1 [00:00<00:00,  8.80it/s]\n"
     ]
    },
    {
     "name": "stdout",
     "output_type": "stream",
     "text": [
      "    19/191...\n"
     ]
    },
    {
     "name": "stderr",
     "output_type": "stream",
     "text": [
      "100%|█████████████████████████████████████████████| 4/4 [00:00<00:00,  8.05it/s]\n"
     ]
    },
    {
     "name": "stdout",
     "output_type": "stream",
     "text": [
      "    20/191...\n"
     ]
    },
    {
     "name": "stderr",
     "output_type": "stream",
     "text": [
      "100%|█████████████████████████████████████████████| 4/4 [00:00<00:00,  8.49it/s]\n"
     ]
    },
    {
     "name": "stdout",
     "output_type": "stream",
     "text": [
      "    21/191...\n"
     ]
    },
    {
     "name": "stderr",
     "output_type": "stream",
     "text": [
      "100%|█████████████████████████████████████████████| 2/2 [00:00<00:00,  4.29it/s]\n"
     ]
    },
    {
     "name": "stdout",
     "output_type": "stream",
     "text": [
      "    22/191...\n"
     ]
    },
    {
     "name": "stderr",
     "output_type": "stream",
     "text": [
      "100%|█████████████████████████████████████████████| 1/1 [00:00<00:00,  5.52it/s]\n"
     ]
    },
    {
     "name": "stdout",
     "output_type": "stream",
     "text": [
      "    23/191...\n"
     ]
    },
    {
     "name": "stderr",
     "output_type": "stream",
     "text": [
      "100%|█████████████████████████████████████████████| 2/2 [00:00<00:00,  5.22it/s]\n"
     ]
    },
    {
     "name": "stdout",
     "output_type": "stream",
     "text": [
      "    24/191...\n"
     ]
    },
    {
     "name": "stderr",
     "output_type": "stream",
     "text": [
      "100%|█████████████████████████████████████████████| 3/3 [00:00<00:00,  4.90it/s]\n"
     ]
    },
    {
     "name": "stdout",
     "output_type": "stream",
     "text": [
      "    25/191...\n"
     ]
    },
    {
     "name": "stderr",
     "output_type": "stream",
     "text": [
      "100%|█████████████████████████████████████████████| 4/4 [00:00<00:00,  5.45it/s]\n"
     ]
    },
    {
     "name": "stdout",
     "output_type": "stream",
     "text": [
      "    26/191...\n"
     ]
    },
    {
     "name": "stderr",
     "output_type": "stream",
     "text": [
      "100%|█████████████████████████████████████████████| 3/3 [00:00<00:00,  4.88it/s]\n"
     ]
    },
    {
     "name": "stdout",
     "output_type": "stream",
     "text": [
      "    27/191...\n"
     ]
    },
    {
     "name": "stderr",
     "output_type": "stream",
     "text": [
      "100%|█████████████████████████████████████████████| 2/2 [00:00<00:00,  3.96it/s]\n"
     ]
    },
    {
     "name": "stdout",
     "output_type": "stream",
     "text": [
      "    28/191...\n"
     ]
    },
    {
     "name": "stderr",
     "output_type": "stream",
     "text": [
      "100%|█████████████████████████████████████████████| 3/3 [00:00<00:00,  5.38it/s]\n"
     ]
    },
    {
     "name": "stdout",
     "output_type": "stream",
     "text": [
      "    29/191...\n"
     ]
    },
    {
     "name": "stderr",
     "output_type": "stream",
     "text": [
      "100%|█████████████████████████████████████████████| 3/3 [00:00<00:00,  4.80it/s]\n"
     ]
    },
    {
     "name": "stdout",
     "output_type": "stream",
     "text": [
      "    30/191...\n"
     ]
    },
    {
     "name": "stderr",
     "output_type": "stream",
     "text": [
      "100%|█████████████████████████████████████████████| 4/4 [00:00<00:00,  4.70it/s]\n"
     ]
    },
    {
     "name": "stdout",
     "output_type": "stream",
     "text": [
      "    31/191...\n"
     ]
    },
    {
     "name": "stderr",
     "output_type": "stream",
     "text": [
      "100%|█████████████████████████████████████████████| 3/3 [00:00<00:00,  5.19it/s]\n"
     ]
    },
    {
     "name": "stdout",
     "output_type": "stream",
     "text": [
      "    32/191...\n"
     ]
    },
    {
     "name": "stderr",
     "output_type": "stream",
     "text": [
      "100%|█████████████████████████████████████████████| 2/2 [00:00<00:00,  4.89it/s]\n"
     ]
    },
    {
     "name": "stdout",
     "output_type": "stream",
     "text": [
      "    33/191...\n"
     ]
    },
    {
     "name": "stderr",
     "output_type": "stream",
     "text": [
      "100%|█████████████████████████████████████████████| 1/1 [00:00<00:00,  4.60it/s]\n"
     ]
    },
    {
     "name": "stdout",
     "output_type": "stream",
     "text": [
      "    34/191...\n"
     ]
    },
    {
     "name": "stderr",
     "output_type": "stream",
     "text": [
      "100%|█████████████████████████████████████████████| 3/3 [00:00<00:00,  4.90it/s]\n"
     ]
    },
    {
     "name": "stdout",
     "output_type": "stream",
     "text": [
      "    35/191...\n"
     ]
    },
    {
     "name": "stderr",
     "output_type": "stream",
     "text": [
      "100%|█████████████████████████████████████████████| 3/3 [00:00<00:00,  4.50it/s]\n"
     ]
    },
    {
     "name": "stdout",
     "output_type": "stream",
     "text": [
      "    36/191...\n"
     ]
    },
    {
     "name": "stderr",
     "output_type": "stream",
     "text": [
      "100%|█████████████████████████████████████████████| 3/3 [00:00<00:00,  6.22it/s]\n"
     ]
    },
    {
     "name": "stdout",
     "output_type": "stream",
     "text": [
      "    37/191...\n"
     ]
    },
    {
     "name": "stderr",
     "output_type": "stream",
     "text": [
      "100%|█████████████████████████████████████████████| 3/3 [00:00<00:00,  7.10it/s]\n"
     ]
    },
    {
     "name": "stdout",
     "output_type": "stream",
     "text": [
      "    38/191...\n"
     ]
    },
    {
     "name": "stderr",
     "output_type": "stream",
     "text": [
      "100%|█████████████████████████████████████████████| 5/5 [00:00<00:00,  5.24it/s]\n"
     ]
    },
    {
     "name": "stdout",
     "output_type": "stream",
     "text": [
      "    39/191...\n"
     ]
    },
    {
     "name": "stderr",
     "output_type": "stream",
     "text": [
      "100%|█████████████████████████████████████████████| 4/4 [00:00<00:00,  4.65it/s]\n"
     ]
    },
    {
     "name": "stdout",
     "output_type": "stream",
     "text": [
      "    40/191...\n"
     ]
    },
    {
     "name": "stderr",
     "output_type": "stream",
     "text": [
      "100%|█████████████████████████████████████████████| 2/2 [00:00<00:00,  4.44it/s]\n"
     ]
    },
    {
     "name": "stdout",
     "output_type": "stream",
     "text": [
      "    41/191...\n"
     ]
    },
    {
     "name": "stderr",
     "output_type": "stream",
     "text": [
      "100%|█████████████████████████████████████████████| 4/4 [00:00<00:00,  6.88it/s]\n"
     ]
    },
    {
     "name": "stdout",
     "output_type": "stream",
     "text": [
      "    42/191...\n"
     ]
    },
    {
     "name": "stderr",
     "output_type": "stream",
     "text": [
      "100%|█████████████████████████████████████████████| 3/3 [00:00<00:00,  5.06it/s]\n"
     ]
    },
    {
     "name": "stdout",
     "output_type": "stream",
     "text": [
      "    43/191...\n"
     ]
    },
    {
     "name": "stderr",
     "output_type": "stream",
     "text": [
      "100%|█████████████████████████████████████████████| 3/3 [00:00<00:00,  7.26it/s]\n"
     ]
    },
    {
     "name": "stdout",
     "output_type": "stream",
     "text": [
      "    44/191...\n"
     ]
    },
    {
     "name": "stderr",
     "output_type": "stream",
     "text": [
      "100%|█████████████████████████████████████████████| 2/2 [00:00<00:00,  4.06it/s]\n"
     ]
    },
    {
     "name": "stdout",
     "output_type": "stream",
     "text": [
      "    45/191...\n"
     ]
    },
    {
     "name": "stderr",
     "output_type": "stream",
     "text": [
      "100%|█████████████████████████████████████████████| 4/4 [00:00<00:00,  4.63it/s]\n"
     ]
    },
    {
     "name": "stdout",
     "output_type": "stream",
     "text": [
      "    46/191...\n"
     ]
    },
    {
     "name": "stderr",
     "output_type": "stream",
     "text": [
      "100%|█████████████████████████████████████████████| 4/4 [00:00<00:00,  4.71it/s]\n"
     ]
    },
    {
     "name": "stdout",
     "output_type": "stream",
     "text": [
      "    47/191...\n"
     ]
    },
    {
     "name": "stderr",
     "output_type": "stream",
     "text": [
      "100%|█████████████████████████████████████████████| 4/4 [00:00<00:00,  4.72it/s]\n"
     ]
    },
    {
     "name": "stdout",
     "output_type": "stream",
     "text": [
      "    48/191...\n"
     ]
    },
    {
     "name": "stderr",
     "output_type": "stream",
     "text": [
      "100%|█████████████████████████████████████████████| 4/4 [00:00<00:00,  4.75it/s]\n"
     ]
    },
    {
     "name": "stdout",
     "output_type": "stream",
     "text": [
      "    49/191...\n"
     ]
    },
    {
     "name": "stderr",
     "output_type": "stream",
     "text": [
      "100%|█████████████████████████████████████████████| 2/2 [00:00<00:00,  4.59it/s]\n"
     ]
    },
    {
     "name": "stdout",
     "output_type": "stream",
     "text": [
      "    50/191...\n"
     ]
    },
    {
     "name": "stderr",
     "output_type": "stream",
     "text": [
      "100%|█████████████████████████████████████████████| 2/2 [00:00<00:00,  4.69it/s]\n"
     ]
    },
    {
     "name": "stdout",
     "output_type": "stream",
     "text": [
      "    51/191...\n"
     ]
    },
    {
     "name": "stderr",
     "output_type": "stream",
     "text": [
      "100%|█████████████████████████████████████████████| 2/2 [00:00<00:00,  5.99it/s]\n"
     ]
    },
    {
     "name": "stdout",
     "output_type": "stream",
     "text": [
      "    52/191...\n"
     ]
    },
    {
     "name": "stderr",
     "output_type": "stream",
     "text": [
      "100%|█████████████████████████████████████████████| 5/5 [00:00<00:00,  6.11it/s]\n"
     ]
    },
    {
     "name": "stdout",
     "output_type": "stream",
     "text": [
      "    53/191...\n"
     ]
    },
    {
     "name": "stderr",
     "output_type": "stream",
     "text": [
      "100%|█████████████████████████████████████████████| 2/2 [00:00<00:00,  4.54it/s]\n"
     ]
    },
    {
     "name": "stdout",
     "output_type": "stream",
     "text": [
      "    54/191...\n"
     ]
    },
    {
     "name": "stderr",
     "output_type": "stream",
     "text": [
      "100%|█████████████████████████████████████████████| 4/4 [00:00<00:00,  4.43it/s]\n"
     ]
    },
    {
     "name": "stdout",
     "output_type": "stream",
     "text": [
      "    55/191...\n"
     ]
    },
    {
     "name": "stderr",
     "output_type": "stream",
     "text": [
      "100%|█████████████████████████████████████████████| 4/4 [00:00<00:00,  4.72it/s]\n"
     ]
    },
    {
     "name": "stdout",
     "output_type": "stream",
     "text": [
      "    56/191...\n"
     ]
    },
    {
     "name": "stderr",
     "output_type": "stream",
     "text": [
      "100%|█████████████████████████████████████████████| 4/4 [00:01<00:00,  3.71it/s]\n"
     ]
    },
    {
     "name": "stdout",
     "output_type": "stream",
     "text": [
      "    57/191...\n"
     ]
    },
    {
     "name": "stderr",
     "output_type": "stream",
     "text": [
      "100%|█████████████████████████████████████████████| 2/2 [00:00<00:00,  4.24it/s]\n"
     ]
    },
    {
     "name": "stdout",
     "output_type": "stream",
     "text": [
      "    58/191...\n"
     ]
    },
    {
     "name": "stderr",
     "output_type": "stream",
     "text": [
      "100%|█████████████████████████████████████████████| 1/1 [00:00<00:00,  3.71it/s]\n"
     ]
    },
    {
     "name": "stdout",
     "output_type": "stream",
     "text": [
      "    59/191...\n"
     ]
    },
    {
     "name": "stderr",
     "output_type": "stream",
     "text": [
      "100%|█████████████████████████████████████████████| 3/3 [00:00<00:00,  4.41it/s]\n"
     ]
    },
    {
     "name": "stdout",
     "output_type": "stream",
     "text": [
      "    60/191...\n"
     ]
    },
    {
     "name": "stderr",
     "output_type": "stream",
     "text": [
      "100%|█████████████████████████████████████████████| 2/2 [00:00<00:00,  4.44it/s]\n"
     ]
    },
    {
     "name": "stdout",
     "output_type": "stream",
     "text": [
      "    61/191...\n"
     ]
    },
    {
     "name": "stderr",
     "output_type": "stream",
     "text": [
      "100%|█████████████████████████████████████████████| 2/2 [00:00<00:00,  4.42it/s]\n"
     ]
    },
    {
     "name": "stdout",
     "output_type": "stream",
     "text": [
      "    62/191...\n"
     ]
    },
    {
     "name": "stderr",
     "output_type": "stream",
     "text": [
      "100%|█████████████████████████████████████████████| 5/5 [00:01<00:00,  4.49it/s]\n"
     ]
    },
    {
     "name": "stdout",
     "output_type": "stream",
     "text": [
      "    63/191...\n"
     ]
    },
    {
     "name": "stderr",
     "output_type": "stream",
     "text": [
      "100%|█████████████████████████████████████████████| 4/4 [00:00<00:00,  4.10it/s]\n"
     ]
    },
    {
     "name": "stdout",
     "output_type": "stream",
     "text": [
      "    64/191...\n"
     ]
    },
    {
     "name": "stderr",
     "output_type": "stream",
     "text": [
      "100%|█████████████████████████████████████████████| 2/2 [00:00<00:00,  4.26it/s]\n"
     ]
    },
    {
     "name": "stdout",
     "output_type": "stream",
     "text": [
      "    65/191...\n"
     ]
    },
    {
     "name": "stderr",
     "output_type": "stream",
     "text": [
      "100%|█████████████████████████████████████████████| 1/1 [00:00<00:00,  5.41it/s]\n"
     ]
    },
    {
     "name": "stdout",
     "output_type": "stream",
     "text": [
      "    66/191...\n"
     ]
    },
    {
     "name": "stderr",
     "output_type": "stream",
     "text": [
      "100%|█████████████████████████████████████████████| 3/3 [00:00<00:00,  4.11it/s]\n"
     ]
    },
    {
     "name": "stdout",
     "output_type": "stream",
     "text": [
      "    67/191...\n"
     ]
    },
    {
     "name": "stderr",
     "output_type": "stream",
     "text": [
      "100%|█████████████████████████████████████████████| 4/4 [00:00<00:00,  4.78it/s]\n"
     ]
    },
    {
     "name": "stdout",
     "output_type": "stream",
     "text": [
      "    68/191...\n"
     ]
    },
    {
     "name": "stderr",
     "output_type": "stream",
     "text": [
      "100%|█████████████████████████████████████████████| 4/4 [00:00<00:00,  4.71it/s]\n"
     ]
    },
    {
     "name": "stdout",
     "output_type": "stream",
     "text": [
      "    69/191...\n"
     ]
    },
    {
     "name": "stderr",
     "output_type": "stream",
     "text": [
      "100%|█████████████████████████████████████████████| 4/4 [00:00<00:00,  4.70it/s]\n"
     ]
    },
    {
     "name": "stdout",
     "output_type": "stream",
     "text": [
      "    70/191...\n"
     ]
    },
    {
     "name": "stderr",
     "output_type": "stream",
     "text": [
      "100%|█████████████████████████████████████████████| 5/5 [00:01<00:00,  2.63it/s]\n"
     ]
    },
    {
     "name": "stdout",
     "output_type": "stream",
     "text": [
      "    71/191...\n"
     ]
    },
    {
     "name": "stderr",
     "output_type": "stream",
     "text": [
      "100%|█████████████████████████████████████████████| 3/3 [00:00<00:00,  4.05it/s]\n"
     ]
    },
    {
     "name": "stdout",
     "output_type": "stream",
     "text": [
      "    72/191...\n"
     ]
    },
    {
     "name": "stderr",
     "output_type": "stream",
     "text": [
      "100%|█████████████████████████████████████████████| 4/4 [00:00<00:00,  6.29it/s]\n"
     ]
    },
    {
     "name": "stdout",
     "output_type": "stream",
     "text": [
      "    73/191...\n"
     ]
    },
    {
     "name": "stderr",
     "output_type": "stream",
     "text": [
      "100%|█████████████████████████████████████████████| 4/4 [00:00<00:00,  5.50it/s]\n"
     ]
    },
    {
     "name": "stdout",
     "output_type": "stream",
     "text": [
      "    74/191...\n"
     ]
    },
    {
     "name": "stderr",
     "output_type": "stream",
     "text": [
      "100%|█████████████████████████████████████████████| 4/4 [00:00<00:00,  4.65it/s]\n"
     ]
    },
    {
     "name": "stdout",
     "output_type": "stream",
     "text": [
      "    75/191...\n"
     ]
    },
    {
     "name": "stderr",
     "output_type": "stream",
     "text": [
      "100%|█████████████████████████████████████████████| 3/3 [00:00<00:00,  4.94it/s]\n"
     ]
    },
    {
     "name": "stdout",
     "output_type": "stream",
     "text": [
      "    76/191...\n"
     ]
    },
    {
     "name": "stderr",
     "output_type": "stream",
     "text": [
      "100%|█████████████████████████████████████████████| 4/4 [00:00<00:00,  4.56it/s]\n"
     ]
    },
    {
     "name": "stdout",
     "output_type": "stream",
     "text": [
      "    77/191...\n"
     ]
    },
    {
     "name": "stderr",
     "output_type": "stream",
     "text": [
      "100%|█████████████████████████████████████████████| 4/4 [00:00<00:00,  4.65it/s]\n"
     ]
    },
    {
     "name": "stdout",
     "output_type": "stream",
     "text": [
      "    78/191...\n"
     ]
    },
    {
     "name": "stderr",
     "output_type": "stream",
     "text": [
      "100%|█████████████████████████████████████████████| 4/4 [00:00<00:00,  4.78it/s]\n"
     ]
    },
    {
     "name": "stdout",
     "output_type": "stream",
     "text": [
      "    79/191...\n"
     ]
    },
    {
     "name": "stderr",
     "output_type": "stream",
     "text": [
      "100%|█████████████████████████████████████████████| 1/1 [00:00<00:00,  5.36it/s]\n"
     ]
    },
    {
     "name": "stdout",
     "output_type": "stream",
     "text": [
      "    80/191...\n"
     ]
    },
    {
     "name": "stderr",
     "output_type": "stream",
     "text": [
      "100%|█████████████████████████████████████████████| 2/2 [00:00<00:00,  5.04it/s]\n"
     ]
    },
    {
     "name": "stdout",
     "output_type": "stream",
     "text": [
      "    81/191...\n"
     ]
    },
    {
     "name": "stderr",
     "output_type": "stream",
     "text": [
      "100%|█████████████████████████████████████████████| 4/4 [00:00<00:00, 14.82it/s]\n"
     ]
    },
    {
     "name": "stdout",
     "output_type": "stream",
     "text": [
      "    82/191...\n"
     ]
    },
    {
     "name": "stderr",
     "output_type": "stream",
     "text": [
      "100%|█████████████████████████████████████████████| 4/4 [00:00<00:00,  6.60it/s]\n"
     ]
    },
    {
     "name": "stdout",
     "output_type": "stream",
     "text": [
      "    83/191...\n"
     ]
    },
    {
     "name": "stderr",
     "output_type": "stream",
     "text": [
      "100%|█████████████████████████████████████████████| 4/4 [00:00<00:00,  6.00it/s]\n"
     ]
    },
    {
     "name": "stdout",
     "output_type": "stream",
     "text": [
      "    84/191...\n"
     ]
    },
    {
     "name": "stderr",
     "output_type": "stream",
     "text": [
      "100%|█████████████████████████████████████████████| 4/4 [00:00<00:00,  7.94it/s]\n"
     ]
    },
    {
     "name": "stdout",
     "output_type": "stream",
     "text": [
      "    85/191...\n"
     ]
    },
    {
     "name": "stderr",
     "output_type": "stream",
     "text": [
      "100%|█████████████████████████████████████████████| 1/1 [00:00<00:00,  5.52it/s]\n"
     ]
    },
    {
     "name": "stdout",
     "output_type": "stream",
     "text": [
      "    86/191...\n"
     ]
    },
    {
     "name": "stderr",
     "output_type": "stream",
     "text": [
      "100%|█████████████████████████████████████████████| 3/3 [00:00<00:00,  9.19it/s]\n"
     ]
    },
    {
     "name": "stdout",
     "output_type": "stream",
     "text": [
      "    87/191...\n"
     ]
    },
    {
     "name": "stderr",
     "output_type": "stream",
     "text": [
      "100%|█████████████████████████████████████████████| 4/4 [00:00<00:00,  7.74it/s]\n"
     ]
    },
    {
     "name": "stdout",
     "output_type": "stream",
     "text": [
      "    88/191...\n"
     ]
    },
    {
     "name": "stderr",
     "output_type": "stream",
     "text": [
      "100%|█████████████████████████████████████████████| 4/4 [00:00<00:00, 10.01it/s]\n"
     ]
    },
    {
     "name": "stdout",
     "output_type": "stream",
     "text": [
      "    89/191...\n"
     ]
    },
    {
     "name": "stderr",
     "output_type": "stream",
     "text": [
      "100%|█████████████████████████████████████████████| 4/4 [00:00<00:00,  5.88it/s]\n"
     ]
    },
    {
     "name": "stdout",
     "output_type": "stream",
     "text": [
      "    90/191...\n"
     ]
    },
    {
     "name": "stderr",
     "output_type": "stream",
     "text": [
      "100%|█████████████████████████████████████████████| 2/2 [00:00<00:00,  6.39it/s]\n"
     ]
    },
    {
     "name": "stdout",
     "output_type": "stream",
     "text": [
      "    91/191...\n"
     ]
    },
    {
     "name": "stderr",
     "output_type": "stream",
     "text": [
      "100%|█████████████████████████████████████████████| 4/4 [00:00<00:00,  6.41it/s]\n"
     ]
    },
    {
     "name": "stdout",
     "output_type": "stream",
     "text": [
      "    92/191...\n"
     ]
    },
    {
     "name": "stderr",
     "output_type": "stream",
     "text": [
      "100%|█████████████████████████████████████████████| 3/3 [00:00<00:00,  7.10it/s]\n"
     ]
    },
    {
     "name": "stdout",
     "output_type": "stream",
     "text": [
      "    93/191...\n"
     ]
    },
    {
     "name": "stderr",
     "output_type": "stream",
     "text": [
      "100%|█████████████████████████████████████████████| 4/4 [00:00<00:00,  6.20it/s]\n"
     ]
    },
    {
     "name": "stdout",
     "output_type": "stream",
     "text": [
      "    94/191...\n"
     ]
    },
    {
     "name": "stderr",
     "output_type": "stream",
     "text": [
      "100%|█████████████████████████████████████████████| 4/4 [00:00<00:00, 11.30it/s]\n"
     ]
    },
    {
     "name": "stdout",
     "output_type": "stream",
     "text": [
      "    95/191...\n"
     ]
    },
    {
     "name": "stderr",
     "output_type": "stream",
     "text": [
      "100%|█████████████████████████████████████████████| 4/4 [00:00<00:00,  5.37it/s]\n"
     ]
    },
    {
     "name": "stdout",
     "output_type": "stream",
     "text": [
      "    96/191...\n"
     ]
    },
    {
     "name": "stderr",
     "output_type": "stream",
     "text": [
      "100%|█████████████████████████████████████████████| 4/4 [00:00<00:00,  9.62it/s]\n"
     ]
    },
    {
     "name": "stdout",
     "output_type": "stream",
     "text": [
      "    97/191...\n"
     ]
    },
    {
     "name": "stderr",
     "output_type": "stream",
     "text": [
      "100%|█████████████████████████████████████████████| 4/4 [00:00<00:00, 14.05it/s]\n"
     ]
    },
    {
     "name": "stdout",
     "output_type": "stream",
     "text": [
      "    98/191...\n"
     ]
    },
    {
     "name": "stderr",
     "output_type": "stream",
     "text": [
      "100%|█████████████████████████████████████████████| 4/4 [00:00<00:00,  9.03it/s]\n"
     ]
    },
    {
     "name": "stdout",
     "output_type": "stream",
     "text": [
      "    99/191...\n"
     ]
    },
    {
     "name": "stderr",
     "output_type": "stream",
     "text": [
      "100%|█████████████████████████████████████████████| 4/4 [00:00<00:00,  6.47it/s]\n"
     ]
    },
    {
     "name": "stdout",
     "output_type": "stream",
     "text": [
      "    100/191...\n"
     ]
    },
    {
     "name": "stderr",
     "output_type": "stream",
     "text": [
      "100%|█████████████████████████████████████████████| 3/3 [00:00<00:00,  7.13it/s]\n"
     ]
    },
    {
     "name": "stdout",
     "output_type": "stream",
     "text": [
      "    101/191...\n"
     ]
    },
    {
     "name": "stderr",
     "output_type": "stream",
     "text": [
      "100%|█████████████████████████████████████████████| 4/4 [00:00<00:00,  7.77it/s]\n"
     ]
    },
    {
     "name": "stdout",
     "output_type": "stream",
     "text": [
      "    102/191...\n"
     ]
    },
    {
     "name": "stderr",
     "output_type": "stream",
     "text": [
      "100%|█████████████████████████████████████████████| 4/4 [00:00<00:00,  6.70it/s]\n"
     ]
    },
    {
     "name": "stdout",
     "output_type": "stream",
     "text": [
      "    103/191...\n"
     ]
    },
    {
     "name": "stderr",
     "output_type": "stream",
     "text": [
      "100%|█████████████████████████████████████████████| 4/4 [00:00<00:00,  5.52it/s]\n"
     ]
    },
    {
     "name": "stdout",
     "output_type": "stream",
     "text": [
      "    104/191...\n"
     ]
    },
    {
     "name": "stderr",
     "output_type": "stream",
     "text": [
      "100%|█████████████████████████████████████████████| 4/4 [00:00<00:00, 14.64it/s]\n"
     ]
    },
    {
     "name": "stdout",
     "output_type": "stream",
     "text": [
      "    105/191...\n"
     ]
    },
    {
     "name": "stderr",
     "output_type": "stream",
     "text": [
      "100%|█████████████████████████████████████████████| 4/4 [00:00<00:00,  6.73it/s]\n"
     ]
    },
    {
     "name": "stdout",
     "output_type": "stream",
     "text": [
      "    106/191...\n"
     ]
    },
    {
     "name": "stderr",
     "output_type": "stream",
     "text": [
      "100%|█████████████████████████████████████████████| 4/4 [00:00<00:00,  5.37it/s]\n"
     ]
    },
    {
     "name": "stdout",
     "output_type": "stream",
     "text": [
      "    107/191...\n"
     ]
    },
    {
     "name": "stderr",
     "output_type": "stream",
     "text": [
      "100%|█████████████████████████████████████████████| 4/4 [00:00<00:00,  8.66it/s]\n"
     ]
    },
    {
     "name": "stdout",
     "output_type": "stream",
     "text": [
      "    108/191...\n"
     ]
    },
    {
     "name": "stderr",
     "output_type": "stream",
     "text": [
      "100%|█████████████████████████████████████████████| 2/2 [00:00<00:00,  5.85it/s]\n"
     ]
    },
    {
     "name": "stdout",
     "output_type": "stream",
     "text": [
      "    109/191...\n"
     ]
    },
    {
     "name": "stderr",
     "output_type": "stream",
     "text": [
      "100%|█████████████████████████████████████████████| 4/4 [00:00<00:00,  9.55it/s]\n"
     ]
    },
    {
     "name": "stdout",
     "output_type": "stream",
     "text": [
      "    110/191...\n"
     ]
    },
    {
     "name": "stderr",
     "output_type": "stream",
     "text": [
      "100%|█████████████████████████████████████████████| 4/4 [00:00<00:00, 11.16it/s]\n"
     ]
    },
    {
     "name": "stdout",
     "output_type": "stream",
     "text": [
      "    111/191...\n"
     ]
    },
    {
     "name": "stderr",
     "output_type": "stream",
     "text": [
      "100%|█████████████████████████████████████████████| 4/4 [00:00<00:00,  8.09it/s]\n"
     ]
    },
    {
     "name": "stdout",
     "output_type": "stream",
     "text": [
      "    112/191...\n"
     ]
    },
    {
     "name": "stderr",
     "output_type": "stream",
     "text": [
      "100%|█████████████████████████████████████████████| 1/1 [00:00<00:00,  6.48it/s]\n"
     ]
    },
    {
     "name": "stdout",
     "output_type": "stream",
     "text": [
      "    113/191...\n"
     ]
    },
    {
     "name": "stderr",
     "output_type": "stream",
     "text": [
      "100%|█████████████████████████████████████████████| 4/4 [00:00<00:00,  9.18it/s]\n"
     ]
    },
    {
     "name": "stdout",
     "output_type": "stream",
     "text": [
      "    114/191...\n"
     ]
    },
    {
     "name": "stderr",
     "output_type": "stream",
     "text": [
      "100%|█████████████████████████████████████████████| 2/2 [00:00<00:00,  4.44it/s]\n"
     ]
    },
    {
     "name": "stdout",
     "output_type": "stream",
     "text": [
      "    115/191...\n"
     ]
    },
    {
     "name": "stderr",
     "output_type": "stream",
     "text": [
      "100%|█████████████████████████████████████████████| 4/4 [00:00<00:00,  9.83it/s]\n"
     ]
    },
    {
     "name": "stdout",
     "output_type": "stream",
     "text": [
      "    116/191...\n"
     ]
    },
    {
     "name": "stderr",
     "output_type": "stream",
     "text": [
      "100%|█████████████████████████████████████████████| 1/1 [00:00<00:00,  7.44it/s]\n"
     ]
    },
    {
     "name": "stdout",
     "output_type": "stream",
     "text": [
      "    117/191...\n"
     ]
    },
    {
     "name": "stderr",
     "output_type": "stream",
     "text": [
      "100%|█████████████████████████████████████████████| 4/4 [00:00<00:00,  8.09it/s]\n"
     ]
    },
    {
     "name": "stdout",
     "output_type": "stream",
     "text": [
      "    118/191...\n"
     ]
    },
    {
     "name": "stderr",
     "output_type": "stream",
     "text": [
      "100%|█████████████████████████████████████████████| 4/4 [00:00<00:00,  6.14it/s]\n"
     ]
    },
    {
     "name": "stdout",
     "output_type": "stream",
     "text": [
      "    119/191...\n"
     ]
    },
    {
     "name": "stderr",
     "output_type": "stream",
     "text": [
      "100%|█████████████████████████████████████████████| 4/4 [00:00<00:00,  9.83it/s]\n"
     ]
    },
    {
     "name": "stdout",
     "output_type": "stream",
     "text": [
      "    120/191...\n"
     ]
    },
    {
     "name": "stderr",
     "output_type": "stream",
     "text": [
      "100%|█████████████████████████████████████████████| 4/4 [00:00<00:00,  6.35it/s]\n"
     ]
    },
    {
     "name": "stdout",
     "output_type": "stream",
     "text": [
      "    121/191...\n"
     ]
    },
    {
     "name": "stderr",
     "output_type": "stream",
     "text": [
      "100%|█████████████████████████████████████████████| 3/3 [00:00<00:00,  6.85it/s]\n"
     ]
    },
    {
     "name": "stdout",
     "output_type": "stream",
     "text": [
      "    122/191...\n"
     ]
    },
    {
     "name": "stderr",
     "output_type": "stream",
     "text": [
      "100%|█████████████████████████████████████████████| 4/4 [00:00<00:00, 12.75it/s]\n"
     ]
    },
    {
     "name": "stdout",
     "output_type": "stream",
     "text": [
      "    123/191...\n"
     ]
    },
    {
     "name": "stderr",
     "output_type": "stream",
     "text": [
      "100%|█████████████████████████████████████████████| 2/2 [00:00<00:00,  6.55it/s]\n"
     ]
    },
    {
     "name": "stdout",
     "output_type": "stream",
     "text": [
      "    124/191...\n"
     ]
    },
    {
     "name": "stderr",
     "output_type": "stream",
     "text": [
      "100%|█████████████████████████████████████████████| 4/4 [00:00<00:00,  8.94it/s]\n"
     ]
    },
    {
     "name": "stdout",
     "output_type": "stream",
     "text": [
      "    125/191...\n"
     ]
    },
    {
     "name": "stderr",
     "output_type": "stream",
     "text": [
      "100%|█████████████████████████████████████████████| 4/4 [00:00<00:00,  7.67it/s]\n"
     ]
    },
    {
     "name": "stdout",
     "output_type": "stream",
     "text": [
      "    126/191...\n"
     ]
    },
    {
     "name": "stderr",
     "output_type": "stream",
     "text": [
      "100%|█████████████████████████████████████████████| 4/4 [00:00<00:00,  6.59it/s]\n"
     ]
    },
    {
     "name": "stdout",
     "output_type": "stream",
     "text": [
      "    127/191...\n"
     ]
    },
    {
     "name": "stderr",
     "output_type": "stream",
     "text": [
      "100%|█████████████████████████████████████████████| 2/2 [00:00<00:00, 10.15it/s]\n"
     ]
    },
    {
     "name": "stdout",
     "output_type": "stream",
     "text": [
      "    128/191...\n"
     ]
    },
    {
     "name": "stderr",
     "output_type": "stream",
     "text": [
      "100%|█████████████████████████████████████████████| 4/4 [00:00<00:00,  5.54it/s]\n"
     ]
    },
    {
     "name": "stdout",
     "output_type": "stream",
     "text": [
      "    129/191...\n"
     ]
    },
    {
     "name": "stderr",
     "output_type": "stream",
     "text": [
      "100%|█████████████████████████████████████████████| 3/3 [00:00<00:00,  6.05it/s]\n"
     ]
    },
    {
     "name": "stdout",
     "output_type": "stream",
     "text": [
      "    130/191...\n"
     ]
    },
    {
     "name": "stderr",
     "output_type": "stream",
     "text": [
      "100%|█████████████████████████████████████████████| 4/4 [00:00<00:00,  8.86it/s]\n"
     ]
    },
    {
     "name": "stdout",
     "output_type": "stream",
     "text": [
      "    131/191...\n"
     ]
    },
    {
     "name": "stderr",
     "output_type": "stream",
     "text": [
      "100%|█████████████████████████████████████████████| 2/2 [00:00<00:00,  6.77it/s]\n"
     ]
    },
    {
     "name": "stdout",
     "output_type": "stream",
     "text": [
      "    132/191...\n"
     ]
    },
    {
     "name": "stderr",
     "output_type": "stream",
     "text": [
      "100%|█████████████████████████████████████████████| 4/4 [00:00<00:00,  5.90it/s]\n"
     ]
    },
    {
     "name": "stdout",
     "output_type": "stream",
     "text": [
      "    133/191...\n"
     ]
    },
    {
     "name": "stderr",
     "output_type": "stream",
     "text": [
      "100%|█████████████████████████████████████████████| 4/4 [00:00<00:00, 11.42it/s]\n"
     ]
    },
    {
     "name": "stdout",
     "output_type": "stream",
     "text": [
      "    134/191...\n"
     ]
    },
    {
     "name": "stderr",
     "output_type": "stream",
     "text": [
      "100%|█████████████████████████████████████████████| 4/4 [00:00<00:00,  6.78it/s]\n"
     ]
    },
    {
     "name": "stdout",
     "output_type": "stream",
     "text": [
      "    135/191...\n"
     ]
    },
    {
     "name": "stderr",
     "output_type": "stream",
     "text": [
      "100%|█████████████████████████████████████████████| 2/2 [00:00<00:00,  6.51it/s]\n"
     ]
    },
    {
     "name": "stdout",
     "output_type": "stream",
     "text": [
      "    136/191...\n"
     ]
    },
    {
     "name": "stderr",
     "output_type": "stream",
     "text": [
      "100%|█████████████████████████████████████████████| 4/4 [00:00<00:00,  6.43it/s]\n"
     ]
    },
    {
     "name": "stdout",
     "output_type": "stream",
     "text": [
      "    137/191...\n"
     ]
    },
    {
     "name": "stderr",
     "output_type": "stream",
     "text": [
      "100%|█████████████████████████████████████████████| 2/2 [00:00<00:00,  5.70it/s]\n"
     ]
    },
    {
     "name": "stdout",
     "output_type": "stream",
     "text": [
      "    138/191...\n"
     ]
    },
    {
     "name": "stderr",
     "output_type": "stream",
     "text": [
      "100%|█████████████████████████████████████████████| 4/4 [00:00<00:00,  6.03it/s]\n"
     ]
    },
    {
     "name": "stdout",
     "output_type": "stream",
     "text": [
      "    139/191...\n"
     ]
    },
    {
     "name": "stderr",
     "output_type": "stream",
     "text": [
      "100%|█████████████████████████████████████████████| 4/4 [00:00<00:00,  8.92it/s]\n"
     ]
    },
    {
     "name": "stdout",
     "output_type": "stream",
     "text": [
      "    140/191...\n"
     ]
    },
    {
     "name": "stderr",
     "output_type": "stream",
     "text": [
      "100%|█████████████████████████████████████████████| 4/4 [00:00<00:00, 12.07it/s]\n"
     ]
    },
    {
     "name": "stdout",
     "output_type": "stream",
     "text": [
      "    141/191...\n"
     ]
    },
    {
     "name": "stderr",
     "output_type": "stream",
     "text": [
      "100%|█████████████████████████████████████████████| 4/4 [00:00<00:00,  6.47it/s]\n"
     ]
    },
    {
     "name": "stdout",
     "output_type": "stream",
     "text": [
      "    142/191...\n"
     ]
    },
    {
     "name": "stderr",
     "output_type": "stream",
     "text": [
      "100%|█████████████████████████████████████████████| 3/3 [00:00<00:00,  5.97it/s]\n"
     ]
    },
    {
     "name": "stdout",
     "output_type": "stream",
     "text": [
      "    143/191...\n"
     ]
    },
    {
     "name": "stderr",
     "output_type": "stream",
     "text": [
      "100%|█████████████████████████████████████████████| 4/4 [00:00<00:00,  6.35it/s]\n"
     ]
    },
    {
     "name": "stdout",
     "output_type": "stream",
     "text": [
      "    144/191...\n"
     ]
    },
    {
     "name": "stderr",
     "output_type": "stream",
     "text": [
      "100%|█████████████████████████████████████████████| 4/4 [00:00<00:00,  6.10it/s]\n"
     ]
    },
    {
     "name": "stdout",
     "output_type": "stream",
     "text": [
      "    145/191...\n"
     ]
    },
    {
     "name": "stderr",
     "output_type": "stream",
     "text": [
      "100%|█████████████████████████████████████████████| 4/4 [00:00<00:00,  7.76it/s]\n"
     ]
    },
    {
     "name": "stdout",
     "output_type": "stream",
     "text": [
      "    146/191...\n"
     ]
    },
    {
     "name": "stderr",
     "output_type": "stream",
     "text": [
      "100%|█████████████████████████████████████████████| 4/4 [00:00<00:00,  6.04it/s]\n"
     ]
    },
    {
     "name": "stdout",
     "output_type": "stream",
     "text": [
      "    147/191...\n"
     ]
    },
    {
     "name": "stderr",
     "output_type": "stream",
     "text": [
      "100%|█████████████████████████████████████████████| 4/4 [00:00<00:00,  7.38it/s]\n"
     ]
    },
    {
     "name": "stdout",
     "output_type": "stream",
     "text": [
      "    148/191...\n"
     ]
    },
    {
     "name": "stderr",
     "output_type": "stream",
     "text": [
      "100%|█████████████████████████████████████████████| 4/4 [00:00<00:00, 10.16it/s]\n"
     ]
    },
    {
     "name": "stdout",
     "output_type": "stream",
     "text": [
      "    149/191...\n"
     ]
    },
    {
     "name": "stderr",
     "output_type": "stream",
     "text": [
      "100%|█████████████████████████████████████████████| 4/4 [00:00<00:00, 10.35it/s]\n"
     ]
    },
    {
     "name": "stdout",
     "output_type": "stream",
     "text": [
      "    150/191...\n"
     ]
    },
    {
     "name": "stderr",
     "output_type": "stream",
     "text": [
      "100%|█████████████████████████████████████████████| 4/4 [00:00<00:00,  6.77it/s]\n"
     ]
    },
    {
     "name": "stdout",
     "output_type": "stream",
     "text": [
      "    151/191...\n"
     ]
    },
    {
     "name": "stderr",
     "output_type": "stream",
     "text": [
      "100%|█████████████████████████████████████████████| 4/4 [00:00<00:00,  6.38it/s]\n"
     ]
    },
    {
     "name": "stdout",
     "output_type": "stream",
     "text": [
      "    152/191...\n"
     ]
    },
    {
     "name": "stderr",
     "output_type": "stream",
     "text": [
      "100%|█████████████████████████████████████████████| 3/3 [00:00<00:00,  5.90it/s]\n"
     ]
    },
    {
     "name": "stdout",
     "output_type": "stream",
     "text": [
      "    153/191...\n"
     ]
    },
    {
     "name": "stderr",
     "output_type": "stream",
     "text": [
      "100%|█████████████████████████████████████████████| 4/4 [00:00<00:00, 16.81it/s]\n"
     ]
    },
    {
     "name": "stdout",
     "output_type": "stream",
     "text": [
      "    154/191...\n"
     ]
    },
    {
     "name": "stderr",
     "output_type": "stream",
     "text": [
      "100%|█████████████████████████████████████████████| 4/4 [00:00<00:00,  5.63it/s]\n"
     ]
    },
    {
     "name": "stdout",
     "output_type": "stream",
     "text": [
      "    155/191...\n"
     ]
    },
    {
     "name": "stderr",
     "output_type": "stream",
     "text": [
      "100%|█████████████████████████████████████████████| 2/2 [00:00<00:00,  5.47it/s]\n"
     ]
    },
    {
     "name": "stdout",
     "output_type": "stream",
     "text": [
      "    156/191...\n"
     ]
    },
    {
     "name": "stderr",
     "output_type": "stream",
     "text": [
      "100%|█████████████████████████████████████████████| 3/3 [00:00<00:00,  5.42it/s]\n"
     ]
    },
    {
     "name": "stdout",
     "output_type": "stream",
     "text": [
      "    157/191...\n"
     ]
    },
    {
     "name": "stderr",
     "output_type": "stream",
     "text": [
      "100%|█████████████████████████████████████████████| 2/2 [00:00<00:00,  6.53it/s]\n"
     ]
    },
    {
     "name": "stdout",
     "output_type": "stream",
     "text": [
      "    158/191...\n"
     ]
    },
    {
     "name": "stderr",
     "output_type": "stream",
     "text": [
      "100%|█████████████████████████████████████████████| 4/4 [00:00<00:00, 11.49it/s]\n"
     ]
    },
    {
     "name": "stdout",
     "output_type": "stream",
     "text": [
      "    159/191...\n"
     ]
    },
    {
     "name": "stderr",
     "output_type": "stream",
     "text": [
      "100%|█████████████████████████████████████████████| 4/4 [00:00<00:00,  9.96it/s]\n"
     ]
    },
    {
     "name": "stdout",
     "output_type": "stream",
     "text": [
      "    160/191...\n"
     ]
    },
    {
     "name": "stderr",
     "output_type": "stream",
     "text": [
      "100%|█████████████████████████████████████████████| 4/4 [00:00<00:00,  5.87it/s]\n"
     ]
    },
    {
     "name": "stdout",
     "output_type": "stream",
     "text": [
      "    161/191...\n"
     ]
    },
    {
     "name": "stderr",
     "output_type": "stream",
     "text": [
      "100%|█████████████████████████████████████████████| 4/4 [00:00<00:00,  6.80it/s]\n"
     ]
    },
    {
     "name": "stdout",
     "output_type": "stream",
     "text": [
      "    162/191...\n"
     ]
    },
    {
     "name": "stderr",
     "output_type": "stream",
     "text": [
      "100%|█████████████████████████████████████████████| 4/4 [00:00<00:00,  6.77it/s]\n"
     ]
    },
    {
     "name": "stdout",
     "output_type": "stream",
     "text": [
      "    163/191...\n"
     ]
    },
    {
     "name": "stderr",
     "output_type": "stream",
     "text": [
      "100%|█████████████████████████████████████████████| 4/4 [00:00<00:00,  7.01it/s]\n"
     ]
    },
    {
     "name": "stdout",
     "output_type": "stream",
     "text": [
      "    164/191...\n"
     ]
    },
    {
     "name": "stderr",
     "output_type": "stream",
     "text": [
      "100%|█████████████████████████████████████████████| 4/4 [00:00<00:00,  8.83it/s]\n"
     ]
    },
    {
     "name": "stdout",
     "output_type": "stream",
     "text": [
      "    165/191...\n"
     ]
    },
    {
     "name": "stderr",
     "output_type": "stream",
     "text": [
      "100%|█████████████████████████████████████████████| 4/4 [00:00<00:00,  5.55it/s]\n"
     ]
    },
    {
     "name": "stdout",
     "output_type": "stream",
     "text": [
      "    166/191...\n"
     ]
    },
    {
     "name": "stderr",
     "output_type": "stream",
     "text": [
      "100%|█████████████████████████████████████████████| 3/3 [00:00<00:00, 10.38it/s]\n"
     ]
    },
    {
     "name": "stdout",
     "output_type": "stream",
     "text": [
      "    167/191...\n"
     ]
    },
    {
     "name": "stderr",
     "output_type": "stream",
     "text": [
      "100%|█████████████████████████████████████████████| 2/2 [00:00<00:00,  5.14it/s]\n"
     ]
    },
    {
     "name": "stdout",
     "output_type": "stream",
     "text": [
      "    168/191...\n"
     ]
    },
    {
     "name": "stderr",
     "output_type": "stream",
     "text": [
      "100%|█████████████████████████████████████████████| 1/1 [00:00<00:00,  4.26it/s]\n"
     ]
    },
    {
     "name": "stdout",
     "output_type": "stream",
     "text": [
      "    169/191...\n"
     ]
    },
    {
     "name": "stderr",
     "output_type": "stream",
     "text": [
      "100%|█████████████████████████████████████████████| 4/4 [00:00<00:00,  6.63it/s]\n"
     ]
    },
    {
     "name": "stdout",
     "output_type": "stream",
     "text": [
      "    170/191...\n"
     ]
    },
    {
     "name": "stderr",
     "output_type": "stream",
     "text": [
      "100%|█████████████████████████████████████████████| 1/1 [00:00<00:00,  9.86it/s]\n"
     ]
    },
    {
     "name": "stdout",
     "output_type": "stream",
     "text": [
      "    171/191...\n"
     ]
    },
    {
     "name": "stderr",
     "output_type": "stream",
     "text": [
      "100%|█████████████████████████████████████████████| 4/4 [00:00<00:00,  5.31it/s]\n"
     ]
    },
    {
     "name": "stdout",
     "output_type": "stream",
     "text": [
      "    172/191...\n"
     ]
    },
    {
     "name": "stderr",
     "output_type": "stream",
     "text": [
      "100%|█████████████████████████████████████████████| 2/2 [00:00<00:00,  6.36it/s]\n"
     ]
    },
    {
     "name": "stdout",
     "output_type": "stream",
     "text": [
      "    173/191...\n"
     ]
    },
    {
     "name": "stderr",
     "output_type": "stream",
     "text": [
      "100%|█████████████████████████████████████████████| 4/4 [00:00<00:00,  5.87it/s]\n"
     ]
    },
    {
     "name": "stdout",
     "output_type": "stream",
     "text": [
      "    174/191...\n"
     ]
    },
    {
     "name": "stderr",
     "output_type": "stream",
     "text": [
      "100%|█████████████████████████████████████████████| 2/2 [00:00<00:00,  6.21it/s]\n"
     ]
    },
    {
     "name": "stdout",
     "output_type": "stream",
     "text": [
      "    175/191...\n"
     ]
    },
    {
     "name": "stderr",
     "output_type": "stream",
     "text": [
      "100%|█████████████████████████████████████████████| 2/2 [00:00<00:00,  5.92it/s]\n"
     ]
    },
    {
     "name": "stdout",
     "output_type": "stream",
     "text": [
      "    176/191...\n"
     ]
    },
    {
     "name": "stderr",
     "output_type": "stream",
     "text": [
      "100%|█████████████████████████████████████████████| 4/4 [00:00<00:00,  7.31it/s]\n"
     ]
    },
    {
     "name": "stdout",
     "output_type": "stream",
     "text": [
      "    177/191...\n"
     ]
    },
    {
     "name": "stderr",
     "output_type": "stream",
     "text": [
      "100%|█████████████████████████████████████████████| 4/4 [00:00<00:00,  7.22it/s]\n"
     ]
    },
    {
     "name": "stdout",
     "output_type": "stream",
     "text": [
      "    178/191...\n"
     ]
    },
    {
     "name": "stderr",
     "output_type": "stream",
     "text": [
      "100%|█████████████████████████████████████████████| 4/4 [00:00<00:00,  7.46it/s]\n"
     ]
    },
    {
     "name": "stdout",
     "output_type": "stream",
     "text": [
      "    179/191...\n"
     ]
    },
    {
     "name": "stderr",
     "output_type": "stream",
     "text": [
      "100%|█████████████████████████████████████████████| 4/4 [00:00<00:00,  7.19it/s]\n"
     ]
    },
    {
     "name": "stdout",
     "output_type": "stream",
     "text": [
      "    180/191...\n"
     ]
    },
    {
     "name": "stderr",
     "output_type": "stream",
     "text": [
      "100%|█████████████████████████████████████████████| 1/1 [00:00<00:00,  7.06it/s]\n"
     ]
    },
    {
     "name": "stdout",
     "output_type": "stream",
     "text": [
      "    181/191...\n"
     ]
    },
    {
     "name": "stderr",
     "output_type": "stream",
     "text": [
      "100%|█████████████████████████████████████████████| 4/4 [00:00<00:00,  7.06it/s]\n"
     ]
    },
    {
     "name": "stdout",
     "output_type": "stream",
     "text": [
      "    182/191...\n"
     ]
    },
    {
     "name": "stderr",
     "output_type": "stream",
     "text": [
      "100%|█████████████████████████████████████████████| 4/4 [00:00<00:00,  7.38it/s]\n"
     ]
    },
    {
     "name": "stdout",
     "output_type": "stream",
     "text": [
      "    183/191...\n"
     ]
    },
    {
     "name": "stderr",
     "output_type": "stream",
     "text": [
      "100%|█████████████████████████████████████████████| 4/4 [00:00<00:00,  5.77it/s]\n"
     ]
    },
    {
     "name": "stdout",
     "output_type": "stream",
     "text": [
      "    184/191...\n"
     ]
    },
    {
     "name": "stderr",
     "output_type": "stream",
     "text": [
      "100%|█████████████████████████████████████████████| 4/4 [00:00<00:00,  9.53it/s]\n"
     ]
    },
    {
     "name": "stdout",
     "output_type": "stream",
     "text": [
      "    185/191...\n"
     ]
    },
    {
     "name": "stderr",
     "output_type": "stream",
     "text": [
      "100%|█████████████████████████████████████████████| 4/4 [00:00<00:00,  7.21it/s]\n"
     ]
    },
    {
     "name": "stdout",
     "output_type": "stream",
     "text": [
      "    186/191...\n"
     ]
    },
    {
     "name": "stderr",
     "output_type": "stream",
     "text": [
      "100%|█████████████████████████████████████████████| 2/2 [00:00<00:00,  5.61it/s]\n"
     ]
    },
    {
     "name": "stdout",
     "output_type": "stream",
     "text": [
      "    187/191...\n"
     ]
    },
    {
     "name": "stderr",
     "output_type": "stream",
     "text": [
      "100%|█████████████████████████████████████████████| 4/4 [00:00<00:00,  5.56it/s]\n"
     ]
    },
    {
     "name": "stdout",
     "output_type": "stream",
     "text": [
      "    188/191...\n"
     ]
    },
    {
     "name": "stderr",
     "output_type": "stream",
     "text": [
      "100%|█████████████████████████████████████████████| 2/2 [00:00<00:00,  5.26it/s]\n"
     ]
    },
    {
     "name": "stdout",
     "output_type": "stream",
     "text": [
      "    189/191...\n"
     ]
    },
    {
     "name": "stderr",
     "output_type": "stream",
     "text": [
      "100%|█████████████████████████████████████████████| 4/4 [00:00<00:00,  6.47it/s]\n"
     ]
    },
    {
     "name": "stdout",
     "output_type": "stream",
     "text": [
      "    190/191...\n"
     ]
    },
    {
     "name": "stderr",
     "output_type": "stream",
     "text": [
      "100%|█████████████████████████████████████████████| 4/4 [00:00<00:00,  7.07it/s]\n"
     ]
    },
    {
     "name": "stdout",
     "output_type": "stream",
     "text": [
      "    191/191...\n"
     ]
    },
    {
     "name": "stderr",
     "output_type": "stream",
     "text": [
      "100%|█████████████████████████████████████████████| 1/1 [00:00<00:00,  5.16it/s]\n"
     ]
    },
    {
     "name": "stdout",
     "output_type": "stream",
     "text": [
      "Done.\n"
     ]
    }
   ],
   "source": [
    "run_model(model_folder, test_folder, output_folder, allow_failures = True, verbose = 2)"
   ]
  },
  {
   "cell_type": "code",
   "execution_count": 69,
   "id": "247a6478",
   "metadata": {},
   "outputs": [],
   "source": [
    "from evaluate_model import *\n",
    "\n"
   ]
  },
  {
   "cell_type": "code",
   "execution_count": 70,
   "id": "b770afd6",
   "metadata": {
    "scrolled": false
   },
   "outputs": [
    {
     "name": "stdout",
     "output_type": "stream",
     "text": [
      "#Murmur scores\n",
      "AUROC,AUPRC,F-measure,Accuracy,Weighted Accuracy,Cost\n",
      "0.766,0.611,0.433,0.649,0.733,14194.224\n",
      "\n",
      "#Outcome scores\n",
      "AUROC,AUPRC,F-measure,Accuracy,Weighted Accuracy,Cost\n",
      "0.729,0.736,0.668,0.670,0.707,11616.143\n",
      "\n",
      "#Murmur scores (per class)\n",
      "Classes,Present,Unknown,Absent\n",
      "AUROC,0.956,0.500,0.842\n",
      "AUPRC,0.858,0.073,0.902\n",
      "F-measure,0.561,0.000,0.737\n",
      "Accuracy,0.974,0.000,0.626\n",
      "\n",
      "#Outcome scores (per class)\n",
      "Classes,Abnormal,Normal\n",
      "AUROC,0.729,0.729\n",
      "AUPRC,0.750,0.722\n",
      "F-measure,0.693,0.644\n",
      "Accuracy,0.724,0.613\n",
      "\n"
     ]
    }
   ],
   "source": [
    "murmur_scores, outcome_scores = evaluate_model(test_folder, output_folder)\n",
    "classes, auroc, auprc, auroc_classes, auprc_classes, f_measure, f_measure_classes, accuracy, accuracy_classes, weighted_accuracy, cost = murmur_scores\n",
    "murmur_output_string = 'AUROC,AUPRC,F-measure,Accuracy,Weighted Accuracy,Cost\\n{:.3f},{:.3f},{:.3f},{:.3f},{:.3f},{:.3f}\\n'.format(auroc, auprc, f_measure, accuracy, weighted_accuracy, cost)\n",
    "murmur_class_output_string = 'Classes,{}\\nAUROC,{}\\nAUPRC,{}\\nF-measure,{}\\nAccuracy,{}\\n'.format(\n",
    "    ','.join(classes),\n",
    "    ','.join('{:.3f}'.format(x) for x in auroc_classes),\n",
    "    ','.join('{:.3f}'.format(x) for x in auprc_classes),\n",
    "    ','.join('{:.3f}'.format(x) for x in f_measure_classes),\n",
    "    ','.join('{:.3f}'.format(x) for x in accuracy_classes))\n",
    "\n",
    "classes, auroc, auprc, auroc_classes, auprc_classes, f_measure, f_measure_classes, accuracy, accuracy_classes, weighted_accuracy, cost = outcome_scores\n",
    "outcome_output_string = 'AUROC,AUPRC,F-measure,Accuracy,Weighted Accuracy,Cost\\n{:.3f},{:.3f},{:.3f},{:.3f},{:.3f},{:.3f}\\n'.format(auroc, auprc, f_measure, accuracy, weighted_accuracy, cost)\n",
    "outcome_class_output_string = 'Classes,{}\\nAUROC,{}\\nAUPRC,{}\\nF-measure,{}\\nAccuracy,{}\\n'.format(\n",
    "    ','.join(classes),\n",
    "    ','.join('{:.3f}'.format(x) for x in auroc_classes),\n",
    "    ','.join('{:.3f}'.format(x) for x in auprc_classes),\n",
    "    ','.join('{:.3f}'.format(x) for x in f_measure_classes),\n",
    "    ','.join('{:.3f}'.format(x) for x in accuracy_classes))\n",
    "\n",
    "output_string = '#Murmur scores\\n' + murmur_output_string + '\\n#Outcome scores\\n' + outcome_output_string \\\n",
    "    + '\\n#Murmur scores (per class)\\n' + murmur_class_output_string + '\\n#Outcome scores (per class)\\n' + outcome_class_output_string\n",
    "\n",
    "if len(sys.argv) == 3:\n",
    "    print(output_string)\n",
    "elif len(sys.argv) == 4:\n",
    "    with open(sys.argv[3], 'w') as f:\n",
    "        f.write(output_string)"
   ]
  },
  {
   "cell_type": "code",
   "execution_count": null,
   "id": "72a27458",
   "metadata": {},
   "outputs": [],
   "source": []
  },
  {
   "cell_type": "code",
   "execution_count": 71,
   "id": "4235c97d",
   "metadata": {},
   "outputs": [
    {
     "name": "stdout",
     "output_type": "stream",
     "text": [
      "0.5004145667268968\n",
      "0.4995854344043432\n",
      "0.6243124872602094\n",
      "0.37568751071136036\n"
     ]
    }
   ],
   "source": [
    "label_folder = test_folder\n",
    "murmur_classes = ['Present', 'Unknown', 'Absent']\n",
    "outcome_classes = ['Abnormal', 'Normal']\n",
    "\n",
    "# Load and parse label and model output files.\n",
    "label_files, output_files = find_challenge_files(label_folder, output_folder)\n",
    "murmur_labels = load_murmurs(label_files, murmur_classes)\n",
    "murmur_binary_outputs, murmur_scalar_outputs = load_classifier_outputs(output_files, murmur_classes)\n",
    "outcome_labels = load_outcomes(label_files, outcome_classes)\n",
    "outcome_binary_outputs, outcome_scalar_outputs = load_classifier_outputs(output_files, outcome_classes)\n",
    "\n",
    "\n",
    "print(np.mean(murmur_scalar_outputs[:,0]))\n",
    "print(np.mean(murmur_scalar_outputs[:,2]))\n",
    "print(np.mean(outcome_scalar_outputs[:,0]))\n",
    "print(np.mean(outcome_scalar_outputs[:,1]))"
   ]
  },
  {
   "cell_type": "code",
   "execution_count": 72,
   "id": "3fb59f7c",
   "metadata": {
    "scrolled": false
   },
   "outputs": [
    {
     "name": "stdout",
     "output_type": "stream",
     "text": [
      "threshold:  0.01\n",
      "#Murmur scores\n",
      "AUROC,AUPRC,F-measure,Accuracy,Weighted Accuracy,Cost\n",
      "0.766,0.611,0.111,0.199,0.512,15140.890\n",
      "\n",
      "#Outcome scores\n",
      "AUROC,AUPRC,F-measure,Accuracy,Weighted Accuracy,Cost\n",
      "0.729,0.736,0.339,0.513,0.840,15140.890\n",
      "\n",
      "#Murmur scores (per class)\n",
      "Classes,Present,Unknown,Absent\n",
      "AUROC,0.956,0.500,0.842\n",
      "AUPRC,0.858,0.073,0.902\n",
      "F-measure,0.332,0.000,0.000\n",
      "Accuracy,1.000,0.000,0.000\n",
      "\n",
      "#Outcome scores (per class)\n",
      "Classes,Abnormal,Normal\n",
      "AUROC,0.729,0.729\n",
      "AUPRC,0.750,0.722\n",
      "F-measure,0.678,0.000\n",
      "Accuracy,1.000,0.000\n",
      "\n",
      "-------------\n",
      "threshold:  0.05\n",
      "#Murmur scores\n",
      "AUROC,AUPRC,F-measure,Accuracy,Weighted Accuracy,Cost\n",
      "0.766,0.611,0.111,0.199,0.512,15140.890\n",
      "\n",
      "#Outcome scores\n",
      "AUROC,AUPRC,F-measure,Accuracy,Weighted Accuracy,Cost\n",
      "0.729,0.736,0.339,0.513,0.840,15140.890\n",
      "\n",
      "#Murmur scores (per class)\n",
      "Classes,Present,Unknown,Absent\n",
      "AUROC,0.956,0.500,0.842\n",
      "AUPRC,0.858,0.073,0.902\n",
      "F-measure,0.332,0.000,0.000\n",
      "Accuracy,1.000,0.000,0.000\n",
      "\n",
      "#Outcome scores (per class)\n",
      "Classes,Abnormal,Normal\n",
      "AUROC,0.729,0.729\n",
      "AUPRC,0.750,0.722\n",
      "F-measure,0.678,0.000\n",
      "Accuracy,1.000,0.000\n",
      "\n",
      "-------------\n",
      "threshold:  0.1\n",
      "#Murmur scores\n",
      "AUROC,AUPRC,F-measure,Accuracy,Weighted Accuracy,Cost\n",
      "0.766,0.611,0.111,0.199,0.512,15140.890\n",
      "\n",
      "#Outcome scores\n",
      "AUROC,AUPRC,F-measure,Accuracy,Weighted Accuracy,Cost\n",
      "0.729,0.736,0.339,0.513,0.840,15140.890\n",
      "\n",
      "#Murmur scores (per class)\n",
      "Classes,Present,Unknown,Absent\n",
      "AUROC,0.956,0.500,0.842\n",
      "AUPRC,0.858,0.073,0.902\n",
      "F-measure,0.332,0.000,0.000\n",
      "Accuracy,1.000,0.000,0.000\n",
      "\n",
      "#Outcome scores (per class)\n",
      "Classes,Abnormal,Normal\n",
      "AUROC,0.729,0.729\n",
      "AUPRC,0.750,0.722\n",
      "F-measure,0.678,0.000\n",
      "Accuracy,1.000,0.000\n",
      "\n",
      "-------------\n",
      "threshold:  0.15\n",
      "#Murmur scores\n",
      "AUROC,AUPRC,F-measure,Accuracy,Weighted Accuracy,Cost\n",
      "0.766,0.611,0.121,0.209,0.518,15125.621\n",
      "\n",
      "#Outcome scores\n",
      "AUROC,AUPRC,F-measure,Accuracy,Weighted Accuracy,Cost\n",
      "0.729,0.736,0.339,0.513,0.840,15140.890\n",
      "\n",
      "#Murmur scores (per class)\n",
      "Classes,Present,Unknown,Absent\n",
      "AUROC,0.956,0.500,0.842\n",
      "AUPRC,0.858,0.073,0.902\n",
      "F-measure,0.335,0.000,0.028\n",
      "Accuracy,1.000,0.000,0.014\n",
      "\n",
      "#Outcome scores (per class)\n",
      "Classes,Abnormal,Normal\n",
      "AUROC,0.729,0.729\n",
      "AUPRC,0.750,0.722\n",
      "F-measure,0.678,0.000\n",
      "Accuracy,1.000,0.000\n",
      "\n",
      "-------------\n",
      "threshold:  0.2\n",
      "#Murmur scores\n",
      "AUROC,AUPRC,F-measure,Accuracy,Weighted Accuracy,Cost\n",
      "0.766,0.611,0.151,0.241,0.534,14762.968\n",
      "\n",
      "#Outcome scores\n",
      "AUROC,AUPRC,F-measure,Accuracy,Weighted Accuracy,Cost\n",
      "0.729,0.736,0.339,0.513,0.840,15140.890\n",
      "\n",
      "#Murmur scores (per class)\n",
      "Classes,Present,Unknown,Absent\n",
      "AUROC,0.956,0.500,0.842\n",
      "AUPRC,0.858,0.073,0.902\n",
      "F-measure,0.345,0.000,0.108\n",
      "Accuracy,1.000,0.000,0.058\n",
      "\n",
      "#Outcome scores (per class)\n",
      "Classes,Abnormal,Normal\n",
      "AUROC,0.729,0.729\n",
      "AUPRC,0.750,0.722\n",
      "F-measure,0.678,0.000\n",
      "Accuracy,1.000,0.000\n",
      "\n",
      "-------------\n",
      "threshold:  0.25\n",
      "#Murmur scores\n",
      "AUROC,AUPRC,F-measure,Accuracy,Weighted Accuracy,Cost\n",
      "0.766,0.611,0.179,0.272,0.550,14311.277\n",
      "\n",
      "#Outcome scores\n",
      "AUROC,AUPRC,F-measure,Accuracy,Weighted Accuracy,Cost\n",
      "0.729,0.736,0.339,0.513,0.840,15140.890\n",
      "\n",
      "#Murmur scores (per class)\n",
      "Classes,Present,Unknown,Absent\n",
      "AUROC,0.956,0.500,0.842\n",
      "AUPRC,0.858,0.073,0.902\n",
      "F-measure,0.355,0.000,0.182\n",
      "Accuracy,1.000,0.000,0.101\n",
      "\n",
      "#Outcome scores (per class)\n",
      "Classes,Abnormal,Normal\n",
      "AUROC,0.729,0.729\n",
      "AUPRC,0.750,0.722\n",
      "F-measure,0.678,0.000\n",
      "Accuracy,1.000,0.000\n",
      "\n",
      "-------------\n",
      "threshold:  0.3\n",
      "#Murmur scores\n",
      "AUROC,AUPRC,F-measure,Accuracy,Weighted Accuracy,Cost\n",
      "0.766,0.611,0.230,0.335,0.582,13044.539\n",
      "\n",
      "#Outcome scores\n",
      "AUROC,AUPRC,F-measure,Accuracy,Weighted Accuracy,Cost\n",
      "0.729,0.736,0.374,0.529,0.846,14495.049\n",
      "\n",
      "#Murmur scores (per class)\n",
      "Classes,Present,Unknown,Absent\n",
      "AUROC,0.956,0.500,0.842\n",
      "AUPRC,0.858,0.073,0.902\n",
      "F-measure,0.380,0.000,0.310\n",
      "Accuracy,1.000,0.000,0.187\n",
      "\n",
      "#Outcome scores (per class)\n",
      "Classes,Abnormal,Normal\n",
      "AUROC,0.729,0.729\n",
      "AUPRC,0.750,0.722\n",
      "F-measure,0.685,0.062\n",
      "Accuracy,1.000,0.032\n",
      "\n",
      "-------------\n",
      "threshold:  0.35\n",
      "#Murmur scores\n",
      "AUROC,AUPRC,F-measure,Accuracy,Weighted Accuracy,Cost\n",
      "0.766,0.611,0.286,0.414,0.623,12091.738\n",
      "\n",
      "#Outcome scores\n",
      "AUROC,AUPRC,F-measure,Accuracy,Weighted Accuracy,Cost\n",
      "0.729,0.736,0.385,0.534,0.847,14286.831\n",
      "\n",
      "#Murmur scores (per class)\n",
      "Classes,Present,Unknown,Absent\n",
      "AUROC,0.956,0.500,0.842\n",
      "AUPRC,0.858,0.073,0.902\n",
      "F-measure,0.413,0.000,0.446\n",
      "Accuracy,1.000,0.000,0.295\n",
      "\n",
      "#Outcome scores (per class)\n",
      "Classes,Abnormal,Normal\n",
      "AUROC,0.729,0.729\n",
      "AUPRC,0.750,0.722\n",
      "F-measure,0.688,0.082\n",
      "Accuracy,1.000,0.043\n",
      "\n",
      "-------------\n",
      "threshold:  0.4\n",
      "#Murmur scores\n",
      "AUROC,AUPRC,F-measure,Accuracy,Weighted Accuracy,Cost\n",
      "0.766,0.611,0.331,0.482,0.658,12081.876\n",
      "\n",
      "#Outcome scores\n",
      "AUROC,AUPRC,F-measure,Accuracy,Weighted Accuracy,Cost\n",
      "0.729,0.736,0.407,0.545,0.851,13880.761\n",
      "\n",
      "#Murmur scores (per class)\n",
      "Classes,Present,Unknown,Absent\n",
      "AUROC,0.956,0.500,0.842\n",
      "AUPRC,0.858,0.073,0.902\n",
      "F-measure,0.444,0.000,0.548\n",
      "Accuracy,1.000,0.000,0.388\n",
      "\n",
      "#Outcome scores (per class)\n",
      "Classes,Abnormal,Normal\n",
      "AUROC,0.729,0.729\n",
      "AUPRC,0.750,0.722\n",
      "F-measure,0.693,0.121\n",
      "Accuracy,1.000,0.065\n",
      "\n",
      "-------------\n",
      "threshold:  0.45\n",
      "#Murmur scores\n",
      "AUROC,AUPRC,F-measure,Accuracy,Weighted Accuracy,Cost\n",
      "0.766,0.611,0.386,0.571,0.704,12675.481\n",
      "\n",
      "#Outcome scores\n",
      "AUROC,AUPRC,F-measure,Accuracy,Weighted Accuracy,Cost\n",
      "0.729,0.736,0.435,0.555,0.847,13318.445\n",
      "\n",
      "#Murmur scores (per class)\n",
      "Classes,Present,Unknown,Absent\n",
      "AUROC,0.956,0.500,0.842\n",
      "AUPRC,0.858,0.073,0.902\n",
      "F-measure,0.503,0.000,0.654\n",
      "Accuracy,1.000,0.000,0.511\n",
      "\n",
      "#Outcome scores (per class)\n",
      "Classes,Abnormal,Normal\n",
      "AUROC,0.729,0.729\n",
      "AUPRC,0.750,0.722\n",
      "F-measure,0.695,0.175\n",
      "Accuracy,0.990,0.097\n",
      "\n",
      "-------------\n",
      "threshold:  0.5\n",
      "#Murmur scores\n",
      "AUROC,AUPRC,F-measure,Accuracy,Weighted Accuracy,Cost\n",
      "0.766,0.611,0.449,0.675,0.747,14515.630\n",
      "\n",
      "#Outcome scores\n",
      "AUROC,AUPRC,F-measure,Accuracy,Weighted Accuracy,Cost\n",
      "0.729,0.736,0.513,0.586,0.830,11848.469\n",
      "\n",
      "#Murmur scores (per class)\n",
      "Classes,Present,Unknown,Absent\n",
      "AUROC,0.956,0.500,0.842\n",
      "AUPRC,0.858,0.073,0.902\n",
      "F-measure,0.583,0.000,0.763\n",
      "Accuracy,0.974,0.000,0.662\n",
      "\n",
      "#Outcome scores (per class)\n",
      "Classes,Abnormal,Normal\n",
      "AUROC,0.729,0.729\n",
      "AUPRC,0.750,0.722\n",
      "F-measure,0.702,0.325\n",
      "Accuracy,0.949,0.204\n",
      "\n",
      "-------------\n",
      "threshold:  0.55\n",
      "#Murmur scores\n",
      "AUROC,AUPRC,F-measure,Accuracy,Weighted Accuracy,Cost\n",
      "0.766,0.611,0.520,0.785,0.792,16562.438\n",
      "\n",
      "#Outcome scores\n",
      "AUROC,AUPRC,F-measure,Accuracy,Weighted Accuracy,Cost\n",
      "0.729,0.736,0.610,0.634,0.784,10726.443\n",
      "\n",
      "#Murmur scores (per class)\n",
      "Classes,Present,Unknown,Absent\n",
      "AUROC,0.956,0.500,0.842\n",
      "AUPRC,0.858,0.073,0.902\n",
      "F-measure,0.699,0.000,0.860\n",
      "Accuracy,0.947,0.000,0.820\n",
      "\n",
      "#Outcome scores (per class)\n",
      "Classes,Abnormal,Normal\n",
      "AUROC,0.729,0.729\n",
      "AUPRC,0.750,0.722\n",
      "F-measure,0.706,0.514\n",
      "Accuracy,0.857,0.398\n",
      "\n",
      "-------------\n",
      "threshold:  0.6\n",
      "#Murmur scores\n",
      "AUROC,AUPRC,F-measure,Accuracy,Weighted Accuracy,Cost\n",
      "0.766,0.611,0.549,0.827,0.803,17362.018\n",
      "\n",
      "#Outcome scores\n",
      "AUROC,AUPRC,F-measure,Accuracy,Weighted Accuracy,Cost\n",
      "0.729,0.736,0.673,0.675,0.722,11302.993\n",
      "\n",
      "#Murmur scores (per class)\n",
      "Classes,Present,Unknown,Absent\n",
      "AUROC,0.956,0.500,0.842\n",
      "AUPRC,0.858,0.073,0.902\n",
      "F-measure,0.753,0.000,0.895\n",
      "Accuracy,0.921,0.000,0.885\n",
      "\n",
      "#Outcome scores (per class)\n",
      "Classes,Abnormal,Normal\n",
      "AUROC,0.729,0.729\n",
      "AUPRC,0.750,0.722\n",
      "F-measure,0.702,0.644\n",
      "Accuracy,0.745,0.602\n",
      "\n",
      "-------------\n",
      "threshold:  0.65\n",
      "#Murmur scores\n",
      "AUROC,AUPRC,F-measure,Accuracy,Weighted Accuracy,Cost\n",
      "0.766,0.611,0.566,0.848,0.771,19436.249\n",
      "\n",
      "#Outcome scores\n",
      "AUROC,AUPRC,F-measure,Accuracy,Weighted Accuracy,Cost\n",
      "0.729,0.736,0.642,0.644,0.588,14383.670\n",
      "\n",
      "#Murmur scores (per class)\n",
      "Classes,Present,Unknown,Absent\n",
      "AUROC,0.956,0.500,0.842\n",
      "AUPRC,0.858,0.073,0.902\n",
      "F-measure,0.795,0.000,0.903\n",
      "Accuracy,0.816,0.000,0.942\n",
      "\n",
      "#Outcome scores (per class)\n",
      "Classes,Abnormal,Normal\n",
      "AUROC,0.729,0.729\n",
      "AUPRC,0.750,0.722\n",
      "F-measure,0.618,0.667\n",
      "Accuracy,0.561,0.731\n",
      "\n",
      "-------------\n",
      "threshold:  0.7\n",
      "#Murmur scores\n",
      "AUROC,AUPRC,F-measure,Accuracy,Weighted Accuracy,Cost\n",
      "0.766,0.611,0.562,0.848,0.728,20271.441\n",
      "\n",
      "#Outcome scores\n",
      "AUROC,AUPRC,F-measure,Accuracy,Weighted Accuracy,Cost\n",
      "0.729,0.736,0.601,0.623,0.458,17977.083\n",
      "\n",
      "#Murmur scores (per class)\n",
      "Classes,Present,Unknown,Absent\n",
      "AUROC,0.956,0.500,0.842\n",
      "AUPRC,0.858,0.073,0.902\n",
      "F-measure,0.783,0.000,0.903\n",
      "Accuracy,0.711,0.000,0.971\n",
      "\n",
      "#Outcome scores (per class)\n",
      "Classes,Abnormal,Normal\n",
      "AUROC,0.729,0.729\n",
      "AUPRC,0.750,0.722\n",
      "F-measure,0.507,0.695\n",
      "Accuracy,0.378,0.882\n",
      "\n",
      "-------------\n",
      "threshold:  0.75\n",
      "#Murmur scores\n",
      "AUROC,AUPRC,F-measure,Accuracy,Weighted Accuracy,Cost\n",
      "0.766,0.611,0.567,0.853,0.730,20480.696\n",
      "\n",
      "#Outcome scores\n",
      "AUROC,AUPRC,F-measure,Accuracy,Weighted Accuracy,Cost\n",
      "0.729,0.736,0.538,0.592,0.358,20689.767\n",
      "\n",
      "#Murmur scores (per class)\n",
      "Classes,Present,Unknown,Absent\n",
      "AUROC,0.956,0.500,0.842\n",
      "AUPRC,0.858,0.073,0.902\n",
      "F-measure,0.794,0.000,0.907\n",
      "Accuracy,0.711,0.000,0.978\n",
      "\n",
      "#Outcome scores (per class)\n",
      "Classes,Abnormal,Normal\n",
      "AUROC,0.729,0.729\n",
      "AUPRC,0.750,0.722\n",
      "F-measure,0.381,0.695\n",
      "Accuracy,0.245,0.957\n",
      "\n",
      "-------------\n",
      "threshold:  0.8\n",
      "#Murmur scores\n",
      "AUROC,AUPRC,F-measure,Accuracy,Weighted Accuracy,Cost\n",
      "0.766,0.611,0.515,0.822,0.628,21734.484\n",
      "\n",
      "#Outcome scores\n",
      "AUROC,AUPRC,F-measure,Accuracy,Weighted Accuracy,Cost\n",
      "0.729,0.736,0.460,0.555,0.271,22986.242\n",
      "\n",
      "#Murmur scores (per class)\n",
      "Classes,Present,Unknown,Absent\n",
      "AUROC,0.956,0.500,0.842\n",
      "AUPRC,0.858,0.073,0.902\n",
      "F-measure,0.655,0.000,0.890\n",
      "Accuracy,0.500,0.000,0.993\n",
      "\n",
      "#Outcome scores (per class)\n",
      "Classes,Abnormal,Normal\n",
      "AUROC,0.729,0.729\n",
      "AUPRC,0.750,0.722\n",
      "F-measure,0.234,0.686\n",
      "Accuracy,0.133,1.000\n",
      "\n",
      "-------------\n"
     ]
    }
   ],
   "source": [
    "for th1 in [0.01, 0.05, 0.1, 0.15,0.2, 0.25, 0.3, 0.35, 0.4, 0.45, 0.5, 0.55, 0.6, 0.65, 0.7, 0.75, 0.8] :\n",
    "    murmur_binary_outputs[:,0] = murmur_scalar_outputs[:,0] > th1\n",
    "    murmur_binary_outputs[:,2] = murmur_scalar_outputs[:,2] > 1 - th1\n",
    "    outcome_binary_outputs[:,0] = outcome_scalar_outputs[:,0] > th1\n",
    "    outcome_binary_outputs[:,1] = outcome_scalar_outputs[:,1] > 1 - th1\n",
    "    # For each patient, set the 'Present' or 'Abnormal' class to positive if no class is positive or if multiple classes are positive.\n",
    "    murmur_labels = enforce_positives(murmur_labels, murmur_classes, 'Present')\n",
    "    murmur_binary_outputs = enforce_positives(murmur_binary_outputs, murmur_classes, 'Present')\n",
    "    outcome_labels = enforce_positives(outcome_labels, outcome_classes, 'Abnormal')\n",
    "    outcome_binary_outputs = enforce_positives(outcome_binary_outputs, outcome_classes, 'Abnormal')\n",
    "    # Evaluate the murmur model by comparing the labels and model outputs.\n",
    "    murmur_auroc, murmur_auprc, murmur_auroc_classes, murmur_auprc_classes = compute_auc(murmur_labels, murmur_scalar_outputs)\n",
    "    murmur_f_measure, murmur_f_measure_classes = compute_f_measure(murmur_labels, murmur_binary_outputs)\n",
    "    murmur_accuracy, murmur_accuracy_classes = compute_accuracy(murmur_labels, murmur_binary_outputs)\n",
    "    murmur_weighted_accuracy = compute_weighted_accuracy(murmur_labels, murmur_binary_outputs, murmur_classes) # This is the murmur scoring metric.\n",
    "    murmur_cost = compute_cost(outcome_labels, murmur_binary_outputs, outcome_classes, murmur_classes) # Use *outcomes* to score *murmurs* for the Challenge cost metric, but this is not the actual murmur scoring metric.\n",
    "    murmur_scores = (murmur_classes, murmur_auroc, murmur_auprc, murmur_auroc_classes, murmur_auprc_classes, \\\n",
    "                 murmur_f_measure, murmur_f_measure_classes, murmur_accuracy, murmur_accuracy_classes, murmur_weighted_accuracy, murmur_cost)\n",
    "\n",
    "    # Evaluate the outcome model by comparing the labels and model outputs.\n",
    "    outcome_auroc, outcome_auprc, outcome_auroc_classes, outcome_auprc_classes = compute_auc(outcome_labels, outcome_scalar_outputs)\n",
    "    outcome_f_measure, outcome_f_measure_classes = compute_f_measure(outcome_labels, outcome_binary_outputs)\n",
    "    outcome_accuracy, outcome_accuracy_classes = compute_accuracy(outcome_labels, outcome_binary_outputs)\n",
    "    outcome_weighted_accuracy = compute_weighted_accuracy(outcome_labels, outcome_binary_outputs, outcome_classes)\n",
    "    outcome_cost = compute_cost(outcome_labels, outcome_binary_outputs, outcome_classes, outcome_classes) # This is the clinical outcomes scoring metric.\n",
    "    outcome_scores = (outcome_classes, outcome_auroc, outcome_auprc, outcome_auroc_classes, outcome_auprc_classes, \\\n",
    "                  outcome_f_measure, outcome_f_measure_classes, outcome_accuracy, outcome_accuracy_classes, outcome_weighted_accuracy, outcome_cost)\n",
    "\n",
    "\n",
    "\n",
    "    classes, auroc, auprc, auroc_classes, auprc_classes, f_measure, f_measure_classes, accuracy, accuracy_classes, weighted_accuracy, cost = murmur_scores\n",
    "    murmur_output_string = 'AUROC,AUPRC,F-measure,Accuracy,Weighted Accuracy,Cost\\n{:.3f},{:.3f},{:.3f},{:.3f},{:.3f},{:.3f}\\n'.format(auroc, auprc, f_measure, accuracy, weighted_accuracy, cost)\n",
    "    murmur_class_output_string = 'Classes,{}\\nAUROC,{}\\nAUPRC,{}\\nF-measure,{}\\nAccuracy,{}\\n'.format(\n",
    "    ','.join(classes),\n",
    "    ','.join('{:.3f}'.format(x) for x in auroc_classes),\n",
    "    ','.join('{:.3f}'.format(x) for x in auprc_classes),\n",
    "    ','.join('{:.3f}'.format(x) for x in f_measure_classes),\n",
    "    ','.join('{:.3f}'.format(x) for x in accuracy_classes))\n",
    "\n",
    "    classes, auroc, auprc, auroc_classes, auprc_classes, f_measure, f_measure_classes, accuracy, accuracy_classes, weighted_accuracy, cost = outcome_scores\n",
    "    outcome_output_string = 'AUROC,AUPRC,F-measure,Accuracy,Weighted Accuracy,Cost\\n{:.3f},{:.3f},{:.3f},{:.3f},{:.3f},{:.3f}\\n'.format(auroc, auprc, f_measure, accuracy, weighted_accuracy, cost)\n",
    "    outcome_class_output_string = 'Classes,{}\\nAUROC,{}\\nAUPRC,{}\\nF-measure,{}\\nAccuracy,{}\\n'.format(\n",
    "    ','.join(classes),\n",
    "    ','.join('{:.3f}'.format(x) for x in auroc_classes),\n",
    "    ','.join('{:.3f}'.format(x) for x in auprc_classes),\n",
    "    ','.join('{:.3f}'.format(x) for x in f_measure_classes),\n",
    "    ','.join('{:.3f}'.format(x) for x in accuracy_classes))\n",
    "\n",
    "    output_string = '#Murmur scores\\n' + murmur_output_string + '\\n#Outcome scores\\n' + outcome_output_string \\\n",
    "                + '\\n#Murmur scores (per class)\\n' + murmur_class_output_string + '\\n#Outcome scores (per class)\\n' + outcome_class_output_string\n",
    "    print(\"threshold: \", th1)\n",
    "    print(output_string)\n",
    "    print(\"-------------\")"
   ]
  },
  {
   "cell_type": "code",
   "execution_count": null,
   "id": "e6615bae",
   "metadata": {},
   "outputs": [],
   "source": []
  },
  {
   "cell_type": "code",
   "execution_count": null,
   "id": "5f95548d",
   "metadata": {},
   "outputs": [],
   "source": []
  },
  {
   "cell_type": "code",
   "execution_count": null,
   "id": "8681adbc",
   "metadata": {},
   "outputs": [],
   "source": []
  },
  {
   "cell_type": "code",
   "execution_count": null,
   "id": "f084c345",
   "metadata": {},
   "outputs": [],
   "source": []
  },
  {
   "cell_type": "code",
   "execution_count": null,
   "id": "5c260645",
   "metadata": {},
   "outputs": [],
   "source": []
  },
  {
   "cell_type": "code",
   "execution_count": null,
   "id": "7367ffff",
   "metadata": {},
   "outputs": [],
   "source": []
  },
  {
   "cell_type": "code",
   "execution_count": null,
   "id": "a95bdc02",
   "metadata": {},
   "outputs": [],
   "source": []
  },
  {
   "cell_type": "code",
   "execution_count": null,
   "id": "f085d621",
   "metadata": {},
   "outputs": [],
   "source": []
  },
  {
   "cell_type": "code",
   "execution_count": null,
   "id": "5765ba6a",
   "metadata": {},
   "outputs": [],
   "source": []
  },
  {
   "cell_type": "code",
   "execution_count": null,
   "id": "a555c4c3",
   "metadata": {},
   "outputs": [],
   "source": []
  },
  {
   "cell_type": "code",
   "execution_count": null,
   "id": "bb44c1d7",
   "metadata": {},
   "outputs": [],
   "source": []
  },
  {
   "cell_type": "code",
   "execution_count": null,
   "id": "bd2c13c9",
   "metadata": {},
   "outputs": [],
   "source": []
  },
  {
   "cell_type": "code",
   "execution_count": null,
   "id": "5db42aca",
   "metadata": {},
   "outputs": [],
   "source": []
  },
  {
   "cell_type": "code",
   "execution_count": null,
   "id": "bb4f90b1",
   "metadata": {},
   "outputs": [],
   "source": []
  },
  {
   "cell_type": "code",
   "execution_count": null,
   "id": "51aa06e9",
   "metadata": {},
   "outputs": [],
   "source": []
  },
  {
   "cell_type": "code",
   "execution_count": null,
   "id": "4c7407d0",
   "metadata": {},
   "outputs": [],
   "source": []
  },
  {
   "cell_type": "code",
   "execution_count": null,
   "id": "2c27aa5b",
   "metadata": {},
   "outputs": [],
   "source": []
  },
  {
   "cell_type": "code",
   "execution_count": null,
   "id": "205f283a",
   "metadata": {},
   "outputs": [],
   "source": []
  }
 ],
 "metadata": {
  "kernelspec": {
   "display_name": "Python 3 (ipykernel)",
   "language": "python",
   "name": "python3"
  },
  "language_info": {
   "codemirror_mode": {
    "name": "ipython",
    "version": 3
   },
   "file_extension": ".py",
   "mimetype": "text/x-python",
   "name": "python",
   "nbconvert_exporter": "python",
   "pygments_lexer": "ipython3",
   "version": "3.8.13"
  }
 },
 "nbformat": 4,
 "nbformat_minor": 5
}
