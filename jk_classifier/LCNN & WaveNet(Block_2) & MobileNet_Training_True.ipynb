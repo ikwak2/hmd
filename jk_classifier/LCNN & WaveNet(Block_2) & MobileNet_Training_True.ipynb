{
 "cells": [
  {
   "cell_type": "code",
   "execution_count": 93,
   "id": "3d55dbd4",
   "metadata": {},
   "outputs": [],
   "source": [
    "import tensorflow as tf"
   ]
  },
  {
   "cell_type": "code",
   "execution_count": 94,
   "id": "ad188626",
   "metadata": {
    "scrolled": true
   },
   "outputs": [],
   "source": [
    "import os\n",
    "import pandas as pd\n",
    "import numpy as np\n",
    "import scipy as sp\n",
    "import scipy.stats\n",
    "import librosa\n",
    "import librosa.display\n",
    "import math\n",
    "import sys\n",
    "#sys.path.insert(0,'/home/ikwak2/hmd/notebooks')\n",
    "sys.path.insert(0,'lucashnegri-peakutils-51a679cd8428')\n",
    "# sys.path.insert(0,'S1-S1-Phonocardiogram-Peak-Detection-Method-in-Python')\n",
    "sys.path.insert(0,'utils')\n",
    "from helper_code import *\n",
    "from get_feature import *\n",
    "from models import *\n",
    "from Generator0 import *\n",
    "from keras.preprocessing import sequence\n",
    "# import peakutils\n",
    "from scipy import special\n",
    "import scipy.io as sio\n",
    "from keras.preprocessing.sequence import pad_sequences\n",
    "import peakutils\n",
    "from tensorflow import keras\n",
    "from tensorflow.keras import layers\n",
    "from tensorflow.keras.callbacks import LearningRateScheduler,ModelCheckpoint\n",
    "from keras.models import Model\n",
    "from keras.layers import Input \n",
    "from skimage.transform import resize\n",
    "import matplotlib.pyplot as plt"
   ]
  },
  {
   "cell_type": "code",
   "execution_count": 95,
   "id": "f8c573ff",
   "metadata": {},
   "outputs": [
    {
     "data": {
      "text/plain": [
       "'/home/jk21/Documents/hmd/jk_classifier'"
      ]
     },
     "execution_count": 95,
     "metadata": {},
     "output_type": "execute_result"
    }
   ],
   "source": [
    "pwd"
   ]
  },
  {
   "cell_type": "code",
   "execution_count": 96,
   "id": "42f5dd9c",
   "metadata": {},
   "outputs": [],
   "source": [
    "# data_folder =  'physionet.org/files/circor-heart-sound/1.0.3/training_data'\n",
    "train_folder =  '/home/jk21/Downloads/Data/data/murmur/train'\n",
    "test_folder = '/home/jk21/Downloads/Data/data/murmur/test'\n"
   ]
  },
  {
   "cell_type": "code",
   "execution_count": 97,
   "id": "ca657f78",
   "metadata": {},
   "outputs": [],
   "source": [
    "model_folder = 'lcnn2'"
   ]
  },
  {
   "cell_type": "code",
   "execution_count": 98,
   "id": "e49f868b",
   "metadata": {},
   "outputs": [
    {
     "data": {
      "text/plain": [
       "'lcnn2'"
      ]
     },
     "execution_count": 98,
     "metadata": {},
     "output_type": "execute_result"
    }
   ],
   "source": [
    "model_folder"
   ]
  },
  {
   "cell_type": "code",
   "execution_count": 99,
   "id": "e76c75d5",
   "metadata": {},
   "outputs": [],
   "source": [
    "def sigmoidal_decay(e, start=0, end=100, lr_start=1e-3, lr_end=1e-5):\n",
    "    if e < start:\n",
    "        return lr_start\n",
    "    elif e > end:\n",
    "        return lr_end\n",
    "\n",
    "    middle = (start + end) / 2\n",
    "    s = lambda x: 1 / (1 + np.exp(-x))\n",
    "\n",
    "    return s(13 * (-e + middle) / np.abs(end - start)) * np.abs(lr_start - lr_end) + lr_end"
   ]
  },
  {
   "cell_type": "code",
   "execution_count": 100,
   "id": "ac7432d8",
   "metadata": {},
   "outputs": [],
   "source": [
    "patient_files_trn = find_patient_files(train_folder)\n",
    "patient_files_test = find_patient_files(test_folder)"
   ]
  },
  {
   "cell_type": "code",
   "execution_count": 101,
   "id": "8b20e8c2",
   "metadata": {},
   "outputs": [],
   "source": [
    "winlen = 512\n",
    "hoplen = 256\n",
    "nmel = 120 \n",
    "nsec = 20 \n",
    "trim = 1 \n",
    "use_mel=True\n",
    "use_cqt = False \n",
    "use_stft = False\n",
    "use_raw=False\n",
    "use_interval=True\n",
    "use_wav2=True\n",
    "maxlen1 = 120000\n",
    "min_dist = 500\n",
    "max_interval_len=115\n"
   ]
  },
  {
   "cell_type": "code",
   "execution_count": null,
   "id": "2db6e657",
   "metadata": {},
   "outputs": [],
   "source": []
  },
  {
   "cell_type": "code",
   "execution_count": null,
   "id": "56da5d7c",
   "metadata": {},
   "outputs": [],
   "source": [
    "                        "
   ]
  },
  {
   "cell_type": "code",
   "execution_count": null,
   "id": "86e858e6",
   "metadata": {},
   "outputs": [],
   "source": []
  },
  {
   "cell_type": "code",
   "execution_count": 102,
   "id": "ca1fabdb",
   "metadata": {},
   "outputs": [],
   "source": [
    "params_feature = {'samp_sec': nsec,\n",
    "                  #### melspec, stft 피쳐 옵션들  \n",
    "                  'pre_emphasis': 0,\n",
    "                  'hop_length': hoplen,\n",
    "                  'win_length': winlen,\n",
    "                  'n_mels': nmel,\n",
    "                  #### cqt 피쳐 옵션들  \n",
    "                  'filter_scale': 1,\n",
    "                  'n_bins': 80,\n",
    "                  'fmin': 10,\n",
    "                  'maxlen1': maxlen1,\n",
    "                  'min_dist':min_dist,\n",
    "                  'max_interval_len' : max_interval_len,\n",
    "                  'trim' :1,\n",
    "                  'use_mel' : use_mel,\n",
    "                  'use_cqt' : use_cqt,\n",
    "                  'use_stft' : use_stft,\n",
    "                  'use_interval' : use_interval,\n",
    "                  'use_wav2' : use_wav2\n",
    "}"
   ]
  },
  {
   "cell_type": "code",
   "execution_count": 103,
   "id": "679d69ed",
   "metadata": {},
   "outputs": [],
   "source": [
    "mm_weight = 3 #np.random.choice([2,3,4,5])\n",
    "oo_weight = 3 #np.random.choice([2,3,4,5,6])\n",
    "ord1 = True #np.random.choice([True,False])\n",
    "mm_mean = False #np.random.choice([True,False])\n",
    "dp = 0 #np.random.choice([0, .1, .2, .3])\n",
    "fc = False #np.random.choice([True,False])\n",
    "ext = True\n",
    "chaug = 10 #np.random.choice([0, 10])\n",
    "mixup = True #np.random.choice([True,False])\n",
    "cout = .8 #np.random.choice([0, 0.8])\n",
    "wunknown = 1 #np.random.choice([1, 0.7, .5, .2])\n",
    "n1 = 0 #np.random.choice([0,2])\n",
    "if n1 == 0 :\n",
    "    ranfil = False\n",
    "else :\n",
    "    ranfil = [n1, [18,19,20,21,22,23]]"
   ]
  },
  {
   "cell_type": "code",
   "execution_count": 104,
   "id": "e1184bc8",
   "metadata": {},
   "outputs": [],
   "source": [
    "params_feature['ord1'] = ord1\n",
    "params_feature['mm_mean'] = mm_mean\n",
    "params_feature['dp'] = dp\n",
    "params_feature['fc'] = fc\n",
    "params_feature['ext'] = ext\n",
    "params_feature['oo_weight'] = oo_weight\n",
    "params_feature['mm_weight'] = mm_weight\n",
    "params_feature['chaug'] = chaug\n",
    "params_feature['cout'] = cout\n",
    "params_feature['wunknown'] = wunknown\n",
    "params_feature['mixup'] = mixup\n",
    "params_feature['n1'] = n1"
   ]
  },
  {
   "cell_type": "code",
   "execution_count": null,
   "id": "eb694b3d",
   "metadata": {},
   "outputs": [],
   "source": []
  },
  {
   "cell_type": "code",
   "execution_count": null,
   "id": "a3d69fda",
   "metadata": {},
   "outputs": [],
   "source": []
  },
  {
   "cell_type": "code",
   "execution_count": null,
   "id": "5e42cd25",
   "metadata": {},
   "outputs": [],
   "source": []
  },
  {
   "cell_type": "code",
   "execution_count": null,
   "id": "4ec5a0f0",
   "metadata": {},
   "outputs": [],
   "source": []
  },
  {
   "cell_type": "code",
   "execution_count": 22,
   "id": "0f13c9f2",
   "metadata": {},
   "outputs": [
    {
     "name": "stderr",
     "output_type": "stream",
     "text": [
      "100%|███████████████████████████████████████| 751/751 [1:03:18<00:00,  5.06s/it]\n"
     ]
    },
    {
     "name": "stdout",
     "output_type": "stream",
     "text": [
      "melspec:  120 313\n",
      "cqt:  1 1\n",
      "stft:  1 1\n",
      "interval:  115 1\n",
      "wav2:  32 374\n"
     ]
    }
   ],
   "source": [
    "features_trn, mel_input_shape, cqt_input_shape,stft_input_shape,interval_input_shape,wav2_input_shape = get_features_3lb_all_ord(train_folder, patient_files_trn, **params_feature)\n"
   ]
  },
  {
   "cell_type": "code",
   "execution_count": 23,
   "id": "53382dbd",
   "metadata": {},
   "outputs": [
    {
     "name": "stderr",
     "output_type": "stream",
     "text": [
      "100%|█████████████████████████████████████████| 191/191 [21:04<00:00,  6.62s/it]\n"
     ]
    },
    {
     "name": "stdout",
     "output_type": "stream",
     "text": [
      "melspec:  120 313\n",
      "cqt:  1 1\n",
      "stft:  1 1\n",
      "interval:  115 1\n",
      "wav2:  32 374\n"
     ]
    }
   ],
   "source": [
    "features_test, mel_input_shape, cqt_input_shape,stft_input_shape,interval_input_shape,wav2_input_shape= get_features_3lb_all_ord(test_folder, patient_files_test, **params_feature)"
   ]
  },
  {
   "cell_type": "code",
   "execution_count": null,
   "id": "dd6457f0",
   "metadata": {},
   "outputs": [],
   "source": []
  },
  {
   "cell_type": "code",
   "execution_count": 24,
   "id": "8b2ff2db",
   "metadata": {
    "scrolled": true
   },
   "outputs": [],
   "source": [
    "with open('/home/jk21/Downloads/Data/features_trn_wav2.pickle', 'wb') as f:\n",
    "    pickle.dump(features_trn, f, pickle.HIGHEST_PROTOCOL)"
   ]
  },
  {
   "cell_type": "code",
   "execution_count": 25,
   "id": "b9f7179a",
   "metadata": {
    "scrolled": true
   },
   "outputs": [],
   "source": [
    "with open('/home/jk21/Downloads/Data/features_test_wav2.pickle', 'wb') as f:\n",
    "    pickle.dump(features_test, f, pickle.HIGHEST_PROTOCOL)"
   ]
  },
  {
   "cell_type": "code",
   "execution_count": null,
   "id": "1499b589",
   "metadata": {},
   "outputs": [],
   "source": []
  },
  {
   "cell_type": "code",
   "execution_count": 105,
   "id": "79f59c5e",
   "metadata": {
    "scrolled": true
   },
   "outputs": [],
   "source": [
    "with open('/home/jk21/Downloads/Data/features_trn_wav2.pickle', 'rb') as f:\n",
    "    features_trn = pickle.load(f)"
   ]
  },
  {
   "cell_type": "code",
   "execution_count": 106,
   "id": "dd412feb",
   "metadata": {},
   "outputs": [],
   "source": [
    "with open('/home/jk21/Downloads/Data/features_test_wav2.pickle', 'rb') as f:\n",
    "    features_test = pickle.load(f)"
   ]
  },
  {
   "cell_type": "code",
   "execution_count": null,
   "id": "52e30822",
   "metadata": {},
   "outputs": [],
   "source": []
  },
  {
   "cell_type": "code",
   "execution_count": 107,
   "id": "5588b57a",
   "metadata": {},
   "outputs": [],
   "source": [
    "tmp_wav2 = np.zeros((2532,224,224,1))\n",
    "for i in range(len(features_trn['wav2'])):\n",
    "    test_ary=features_trn['wav2'][i]\n",
    "    res = resize(test_ary, (224,224,1))\n",
    "    tmp_wav2[i]=res\n",
    "features_trn['wav2'] = tmp_wav2"
   ]
  },
  {
   "cell_type": "code",
   "execution_count": 108,
   "id": "26a9a248",
   "metadata": {},
   "outputs": [],
   "source": [
    "features_trn['wav2'] = tmp_wav2"
   ]
  },
  {
   "cell_type": "code",
   "execution_count": 109,
   "id": "7adebef1",
   "metadata": {},
   "outputs": [
    {
     "data": {
      "text/plain": [
       "<matplotlib.image.AxesImage at 0x7fe5caa98f70>"
      ]
     },
     "execution_count": 109,
     "metadata": {},
     "output_type": "execute_result"
    },
    {
     "data": {
      "image/png": "[encoded data removed]",
      "text/plain": [
       "<Figure size 432x288 with 1 Axes>"
      ]
     },
     "metadata": {
      "needs_background": "light"
     },
     "output_type": "display_data"
    }
   ],
   "source": [
    "plt.imshow(features_trn['wav2'][100])"
   ]
  },
  {
   "cell_type": "code",
   "execution_count": 110,
   "id": "517786ba",
   "metadata": {},
   "outputs": [],
   "source": [
    "tmp_wav2 = np.zeros((631,224,224,1))\n",
    "for i in range(len(features_test['wav2'])):\n",
    "    test_ary=features_test['wav2'][i]\n",
    "    res = resize(test_ary, (224,224,1))\n",
    "    tmp_wav2[i]=res"
   ]
  },
  {
   "cell_type": "code",
   "execution_count": 111,
   "id": "32e770bc",
   "metadata": {},
   "outputs": [],
   "source": [
    "features_test['wav2'] = tmp_wav2"
   ]
  },
  {
   "cell_type": "code",
   "execution_count": null,
   "id": "cd2e6f5c",
   "metadata": {},
   "outputs": [],
   "source": []
  },
  {
   "cell_type": "code",
   "execution_count": null,
   "id": "5860af03",
   "metadata": {},
   "outputs": [],
   "source": []
  },
  {
   "cell_type": "code",
   "execution_count": null,
   "id": "b67d07d1",
   "metadata": {},
   "outputs": [],
   "source": []
  },
  {
   "cell_type": "code",
   "execution_count": null,
   "id": "27a92da9",
   "metadata": {},
   "outputs": [],
   "source": []
  },
  {
   "cell_type": "code",
   "execution_count": 131,
   "id": "2e36c9f7",
   "metadata": {},
   "outputs": [],
   "source": [
    "def get_LCNN_o_4_dr_1(mel_input_shape, cqt_input_shape, stft_input_shape,interval_input_shape,wav2_input_shape,use_mel = True, use_cqt = True, use_stft = True, ord1 = True, dp = .5, fc = False, ext = False):\n",
    "        # Create a towy model.\n",
    "    \n",
    "    from keras.models import Model\n",
    "    from keras.layers import Input \n",
    "    \n",
    "    MobileNet = tf.keras.applications.MobileNet(\n",
    "    input_shape=(224,224,3),\n",
    "    alpha=1.0,\n",
    "    depth_multiplier=1,\n",
    "    dropout=0.001,\n",
    "    include_top=False,\n",
    "    weights=\"imagenet\",\n",
    "    input_tensor=None,\n",
    "    pooling='max',\n",
    "    classes=2,\n",
    "    classifier_activation=\"softmax\"\n",
    ")\n",
    "    \n",
    "    age = keras.Input(shape=(6,), name = 'age_cat')\n",
    "    sex = keras.Input(shape=(2,), name = 'sex_cat')\n",
    "    hw = keras.Input(shape=(2,), name = 'height_weight')\n",
    "    preg = keras.Input(shape=(1,), name = 'is_preg')\n",
    "    loc = keras.Input(shape=(5,), name = 'loc')\n",
    "    interval = keras.Input(shape=interval_input_shape, name = 'interval')\n",
    "    wav2 = keras.Input(shape=wav2_input_shape, name = 'wav2')\n",
    "    mel1 = keras.Input(shape=mel_input_shape, name = 'mel')\n",
    "    cqt1 = keras.Input(shape=cqt_input_shape, name = 'cqt')\n",
    "    stft1 = keras.Input(shape=stft_input_shape, name = 'stft')\n",
    "        \n",
    "    ## age embeddig\n",
    "    age1 = layers.Dense(2, activation = None)(age)\n",
    "\n",
    "    ## sex embedding\n",
    "    sex1 = layers.Dense(1, activation = None)(sex)\n",
    "\n",
    "    ## hw embedding\n",
    "    hw1 = layers.Dense(1, activation = None)(hw)\n",
    "\n",
    "    ## loc embedding\n",
    "    loc1 = layers.Dense(3, activation = None)(loc)\n",
    "    \n",
    "    ## interval embedding\n",
    "\n",
    "    interval1 = tf.keras.layers.Conv1D(9, 2, padding=\"causal\",activation='relu',dilation_rate=1)(interval)\n",
    "    interval1 = tf.keras.layers.Conv1D(9, 2, padding=\"causal\",activation='relu',dilation_rate=2)(interval1)\n",
    "    interval1 = tf.keras.layers.Conv1D(9, 2, padding=\"causal\",activation='relu',dilation_rate=4)(interval1)\n",
    "    interval1 = tf.keras.layers.Conv1D(9, 2, padding=\"causal\",activation='relu',dilation_rate=8)(interval1)\n",
    "    interval1 = tf.keras.layers.Conv1D(9, 2, padding=\"causal\",activation='relu',dilation_rate=16)(interval1)\n",
    "    interval1 = tf.keras.layers.Conv1D(9, 2, padding=\"causal\",activation='relu',dilation_rate=32)(interval1)\n",
    "    interval1 = tf.keras.layers.Conv1D(9, 2, padding=\"causal\",activation='relu',dilation_rate=64)(interval1)\n",
    "    interval1 = tf.keras.layers.Conv1D(9, 2, padding=\"causal\",activation='relu',dilation_rate=128)(interval1)\n",
    "    interval1 = tf.keras.layers.Conv1D(9, 2, padding=\"causal\",activation='relu',dilation_rate=256)(interval1)\n",
    "    interval1 = tf.keras.layers.Conv1D(9, 2, padding=\"causal\",activation='relu',dilation_rate=512)(interval1)\n",
    "    interval1 = tf.keras.layers.Conv1D(9, 2, padding=\"causal\",activation='relu',dilation_rate=1024)(interval1)\n",
    "\n",
    "#     interval1 = tf.keras.layers.Conv1D(9, 2, padding=\"causal\",activation='relu',dilation_rate=1)(interval1)\n",
    "#     interval1 = tf.keras.layers.Conv1D(9, 2, padding=\"causal\",activation='relu',dilation_rate=2)(interval1)\n",
    "#     interval1 = tf.keras.layers.Conv1D(9, 2, padding=\"causal\",activation='relu',dilation_rate=4)(interval1)\n",
    "#     interval1 = tf.keras.layers.Conv1D(9, 2, padding=\"causal\",activation='relu',dilation_rate=8)(interval1)\n",
    "#     interval1 = tf.keras.layers.Conv1D(9, 2, padding=\"causal\",activation='relu',dilation_rate=16)(interval1)\n",
    "#     interval1 = tf.keras.layers.Conv1D(9, 2, padding=\"causal\",activation='relu',dilation_rate=32)(interval1)\n",
    "#     interval1 = tf.keras.layers.Conv1D(9, 2, padding=\"causal\",activation='relu',dilation_rate=64)(interval1)\n",
    "#     interval1 = tf.keras.layers.Conv1D(9, 2, padding=\"causal\",activation='relu',dilation_rate=128)(interval1)\n",
    "#     interval1 = tf.keras.layers.Conv1D(9, 2, padding=\"causal\",activation='relu',dilation_rate=256)(interval1)\n",
    "#     interval1 = tf.keras.layers.Conv1D(9, 2, padding=\"causal\",activation='relu',dilation_rate=512)(interval1)\n",
    "#     interval1 = tf.keras.layers.Conv1D(9, 2, padding=\"causal\",activation='relu',dilation_rate=1024)(interval1)    \n",
    "\n",
    "    interval1 = tf.keras.layers.Conv1D(9, 2, padding=\"causal\",activation='relu',dilation_rate=1)(interval1)\n",
    "    interval1 = tf.keras.layers.Conv1D(9, 2, padding=\"causal\",activation='relu',dilation_rate=2)(interval1)\n",
    "    interval1 = tf.keras.layers.Conv1D(9, 2, padding=\"causal\",activation='relu',dilation_rate=4)(interval1)\n",
    "    interval1 = tf.keras.layers.Conv1D(9, 2, padding=\"causal\",activation='relu',dilation_rate=8)(interval1)\n",
    "    interval1 = tf.keras.layers.Conv1D(9, 2, padding=\"causal\",activation='relu',dilation_rate=16)(interval1)\n",
    "    interval1 = tf.keras.layers.Conv1D(9, 2, padding=\"causal\",activation='relu',dilation_rate=32)(interval1)\n",
    "    interval1 = tf.keras.layers.Conv1D(9, 2, padding=\"causal\",activation='relu',dilation_rate=64)(interval1)\n",
    "    interval1 = tf.keras.layers.Conv1D(9, 2, padding=\"causal\",activation='relu',dilation_rate=128)(interval1)\n",
    "    interval1 = tf.keras.layers.Conv1D(9, 2, padding=\"causal\",activation='relu',dilation_rate=256)(interval1)\n",
    "    interval1 = tf.keras.layers.Conv1D(9, 2, padding=\"causal\",activation='relu',dilation_rate=512)(interval1)\n",
    "    interval1 = tf.keras.layers.Conv1D(9, 2, padding=\"causal\",activation='relu',dilation_rate=1024)(interval1)\n",
    "    \n",
    "    interval1 = tf.keras.layers.GlobalMaxPooling1D()(interval1)\n",
    "    \n",
    "    #### Wav2Vec2 Embedding\n",
    "    \n",
    "    wav2_1 = Conv2D(3,(3,3),padding='same')(wav2)\n",
    "    wav2_2 = MobileNet(wav2_1)\n",
    "\n",
    "    \n",
    "    \n",
    "    \n",
    "    ## mel embedding\n",
    "    if use_mel :\n",
    "        \n",
    "        conv1_1 = Conv2D(filters = 32, kernel_size =5, strides=(1, 1), padding='same', activation=None)(mel1)\n",
    "        conv1_2 = Conv2D(filters = 32, kernel_size =5, strides=(1, 1), padding='same', activation=None)(mel1)\n",
    "        mfm2 = tensorflow.keras.layers.maximum([conv1_1, conv1_2])\n",
    "        max3 = MaxPool2D(pool_size=(2, 2), strides=(2, 2), padding='same')(mfm2)\n",
    "\n",
    "        conv4_1 = Conv2D(filters = 32, kernel_size =1, strides=(1, 1), padding='same', activation=None)(max3)\n",
    "        conv4_2 = Conv2D(filters = 32, kernel_size =1, strides=(1, 1), padding='same', activation=None)(max3)\n",
    "        mfm5 = tensorflow.keras.layers.maximum([conv4_1, conv4_2])\n",
    "        batch6 = BatchNormalization(axis=3, scale=False)(mfm5)\n",
    "\n",
    "        conv7_1 = Conv2D(filters = 48, kernel_size =3, strides=(1, 1), padding='same', activation=None)(batch6)\n",
    "        conv7_2 = Conv2D(filters = 48, kernel_size =3, strides=(1, 1), padding='same', activation=None)(batch6)\n",
    "        mfm8 = tensorflow.keras.layers.maximum([conv7_1, conv7_2])\n",
    "\n",
    "        max9 = MaxPool2D(pool_size=(2, 2), strides=(2, 2), padding='same')(mfm8)\n",
    "        batch10 = BatchNormalization(axis=3, scale=False)(max9)\n",
    "\n",
    "        conv11_1 = Conv2D(filters = 48, kernel_size =1, strides=(1, 1), padding='same', activation=None)(batch10)\n",
    "        conv11_2 = Conv2D(filters = 48, kernel_size =1, strides=(1, 1), padding='same', activation=None)(batch10)\n",
    "        mfm12 = tensorflow.keras.layers.maximum([conv11_1, conv11_2])\n",
    "        batch13 = BatchNormalization(axis=3, scale=False)(mfm12)\n",
    "\n",
    "        conv14_1 = Conv2D(filters = 64, kernel_size =3, strides=(1, 1), padding='same', activation=None)(batch13)\n",
    "        conv14_2 = Conv2D(filters = 64, kernel_size =3, strides=(1, 1), padding='same', activation=None)(batch13)\n",
    "        mfm15 = tensorflow.keras.layers.maximum([conv14_1, conv14_2])\n",
    "\n",
    "        max16 = MaxPool2D(pool_size=(2, 2), strides=(2, 2), padding='same')(mfm15)\n",
    "\n",
    "        conv17_1 = Conv2D(filters = 64, kernel_size =1, strides=(1, 1), padding='same', activation=None)(max16)\n",
    "        conv17_2 = Conv2D(filters = 64, kernel_size =1, strides=(1, 1), padding='same', activation=None)(max16)\n",
    "        mfm18 = tensorflow.keras.layers.maximum([conv17_1, conv17_2])\n",
    "        batch19 = BatchNormalization(axis=3, scale=False)(mfm18)\n",
    "\n",
    "        conv20_1 = Conv2D(filters = 32, kernel_size =3, strides=(1, 1), padding='same', activation=None)(batch19)\n",
    "        conv20_2 = Conv2D(filters = 32, kernel_size =3, strides=(1, 1), padding='same', activation=None)(batch19)\n",
    "        mfm21 = tensorflow.keras.layers.maximum([conv20_1, conv20_2])\n",
    "        batch22 = BatchNormalization(axis=3, scale=False)(mfm21)\n",
    "\n",
    "        conv23_1 = Conv2D(filters = 32, kernel_size =1, strides=(1, 1), padding='same', activation=None)(batch22)\n",
    "        conv23_2 = Conv2D(filters = 32, kernel_size =1, strides=(1, 1), padding='same', activation=None)(batch22)\n",
    "        mfm24 = tensorflow.keras.layers.maximum([conv23_1, conv23_2])\n",
    "        batch25 = BatchNormalization(axis=3, scale=False)(mfm24)\n",
    "\n",
    "        conv26_1 = Conv2D(filters = 32, kernel_size =1, strides=(1, 1), padding='same', activation=None)(batch25)\n",
    "        conv26_2 = Conv2D(filters = 32, kernel_size =1, strides=(1, 1), padding='same', activation=None)(batch25)\n",
    "        mfm27 = tensorflow.keras.layers.maximum([conv26_1, conv26_2])\n",
    "\n",
    "        max28 = MaxPool2D(pool_size=(2, 2), strides=(2, 2), padding='valid')(mfm27)\n",
    "        mel2 = layers.GlobalAveragePooling2D()(max28)\n",
    "        mel2 = Dropout(dp)(mel2)\n",
    "\n",
    "    if use_cqt:\n",
    "        ## cqt embedding\n",
    "        conv1_1 = Conv2D(filters = 32, kernel_size =5, strides=(1, 1), padding='same', activation=None)(cqt1)\n",
    "        conv1_2 = Conv2D(filters = 32, kernel_size =5, strides=(1, 1), padding='same', activation=None)(cqt1)\n",
    "        mfm2 = tensorflow.keras.layers.maximum([conv1_1, conv1_2])\n",
    "        max3 = MaxPool2D(pool_size=(2, 2), strides=(2, 2), padding='same')(mfm2)\n",
    "        \n",
    "        conv4_1 = Conv2D(filters = 32, kernel_size =1, strides=(1, 1), padding='same', activation=None)(max3)\n",
    "        conv4_2 = Conv2D(filters = 32, kernel_size =1, strides=(1, 1), padding='same', activation=None)(max3)\n",
    "        mfm5 = tensorflow.keras.layers.maximum([conv4_1, conv4_2])\n",
    "        batch6 = BatchNormalization(axis=3, scale=False)(mfm5)\n",
    "\n",
    "        conv7_1 = Conv2D(filters = 48, kernel_size =3, strides=(1, 1), padding='same', activation=None)(batch6)\n",
    "        conv7_2 = Conv2D(filters = 48, kernel_size =3, strides=(1, 1), padding='same', activation=None)(batch6)\n",
    "        mfm8 = tensorflow.keras.layers.maximum([conv7_1, conv7_2])\n",
    "\n",
    "        max9 = MaxPool2D(pool_size=(2, 2), strides=(2, 2), padding='same')(mfm8)\n",
    "        batch10 = BatchNormalization(axis=3, scale=False)(max9)\n",
    "\n",
    "        conv11_1 = Conv2D(filters = 48, kernel_size =1, strides=(1, 1), padding='same', activation=None)(batch10)\n",
    "        conv11_2 = Conv2D(filters = 48, kernel_size =1, strides=(1, 1), padding='same', activation=None)(batch10)\n",
    "        mfm12 = tensorflow.keras.layers.maximum([conv11_1, conv11_2])\n",
    "        batch13 = BatchNormalization(axis=3, scale=False)(mfm12)\n",
    "\n",
    "        conv14_1 = Conv2D(filters = 64, kernel_size =3, strides=(1, 1), padding='same', activation=None)(batch13)\n",
    "        conv14_2 = Conv2D(filters = 64, kernel_size =3, strides=(1, 1), padding='same', activation=None)(batch13)\n",
    "        mfm15 = tensorflow.keras.layers.maximum([conv14_1, conv14_2])\n",
    "\n",
    "        max16 = MaxPool2D(pool_size=(2, 2), strides=(2, 2), padding='same')(mfm15)\n",
    "\n",
    "        conv17_1 = Conv2D(filters = 64, kernel_size =1, strides=(1, 1), padding='same', activation=None)(max16)\n",
    "        conv17_2 = Conv2D(filters = 64, kernel_size =1, strides=(1, 1), padding='same', activation=None)(max16)\n",
    "        mfm18 = tensorflow.keras.layers.maximum([conv17_1, conv17_2])\n",
    "        batch19 = BatchNormalization(axis=3, scale=False)(mfm18)\n",
    "\n",
    "        conv20_1 = Conv2D(filters = 32, kernel_size =3, strides=(1, 1), padding='same', activation=None)(batch19)\n",
    "        conv20_2 = Conv2D(filters = 32, kernel_size =3, strides=(1, 1), padding='same', activation=None)(batch19)\n",
    "        mfm21 = tensorflow.keras.layers.maximum([conv20_1, conv20_2])\n",
    "        batch22 = BatchNormalization(axis=3, scale=False)(mfm21)\n",
    "\n",
    "        conv23_1 = Conv2D(filters = 32, kernel_size =1, strides=(1, 1), padding='same', activation=None)(batch22)\n",
    "        conv23_2 = Conv2D(filters = 32, kernel_size =1, strides=(1, 1), padding='same', activation=None)(batch22)\n",
    "        mfm24 = tensorflow.keras.layers.maximum([conv23_1, conv23_2])\n",
    "        batch25 = BatchNormalization(axis=3, scale=False)(mfm24)\n",
    "\n",
    "        conv26_1 = Conv2D(filters = 32, kernel_size =1, strides=(1, 1), padding='same', activation=None)(batch25)\n",
    "        conv26_2 = Conv2D(filters = 32, kernel_size =1, strides=(1, 1), padding='same', activation=None)(batch25)\n",
    "        mfm27 = tensorflow.keras.layers.maximum([conv26_1, conv26_2])\n",
    "        \n",
    "        max28 = MaxPool2D(pool_size=(2, 2), strides=(2, 2), padding='valid')(mfm27)\n",
    "        cqt2 = layers.GlobalAveragePooling2D()(max28)\n",
    "        cqt2 = Dropout(dp)(cqt2)\n",
    "\n",
    "    if use_stft :\n",
    "        ## stft embedding\n",
    "        conv1_1 = Conv2D(filters = 32, kernel_size =5, strides=(1, 1), padding='same', activation=None)(stft1)\n",
    "        conv1_2 = Conv2D(filters = 32, kernel_size =5, strides=(1, 1), padding='same', activation=None)(stft1)\n",
    "        mfm2 = tensorflow.keras.layers.maximum([conv1_1, conv1_2])\n",
    "        max3 = MaxPool2D(pool_size=(2, 2), strides=(2, 2), padding='same')(mfm2)\n",
    "        \n",
    "        conv4_1 = Conv2D(filters = 32, kernel_size =1, strides=(1, 1), padding='same', activation=None)(max3)\n",
    "        conv4_2 = Conv2D(filters = 32, kernel_size =1, strides=(1, 1), padding='same', activation=None)(max3)\n",
    "        mfm5 = tensorflow.keras.layers.maximum([conv4_1, conv4_2])\n",
    "        batch6 = BatchNormalization(axis=3, scale=False)(mfm5)\n",
    "        \n",
    "        conv7_1 = Conv2D(filters = 48, kernel_size =3, strides=(1, 1), padding='same', activation=None)(batch6)\n",
    "        conv7_2 = Conv2D(filters = 48, kernel_size =3, strides=(1, 1), padding='same', activation=None)(batch6)\n",
    "        mfm8 = tensorflow.keras.layers.maximum([conv7_1, conv7_2])\n",
    "        \n",
    "        max9 = MaxPool2D(pool_size=(2, 2), strides=(2, 2), padding='same')(mfm8)\n",
    "        batch10 = BatchNormalization(axis=3, scale=False)(max9)\n",
    "        \n",
    "        conv11_1 = Conv2D(filters = 48, kernel_size =1, strides=(1, 1), padding='same', activation=None)(batch10)\n",
    "        conv11_2 = Conv2D(filters = 48, kernel_size =1, strides=(1, 1), padding='same', activation=None)(batch10)\n",
    "        mfm12 = tensorflow.keras.layers.maximum([conv11_1, conv11_2])\n",
    "        batch13 = BatchNormalization(axis=3, scale=False)(mfm12)\n",
    "\n",
    "        conv14_1 = Conv2D(filters = 64, kernel_size =3, strides=(1, 1), padding='same', activation=None)(batch13)\n",
    "        conv14_2 = Conv2D(filters = 64, kernel_size =3, strides=(1, 1), padding='same', activation=None)(batch13)\n",
    "        mfm15 = tensorflow.keras.layers.maximum([conv14_1, conv14_2])\n",
    "        \n",
    "        max16 = MaxPool2D(pool_size=(2, 2), strides=(2, 2), padding='same')(mfm15)\n",
    "\n",
    "        conv17_1 = Conv2D(filters = 64, kernel_size =1, strides=(1, 1), padding='same', activation=None)(max16)\n",
    "        conv17_2 = Conv2D(filters = 64, kernel_size =1, strides=(1, 1), padding='same', activation=None)(max16)\n",
    "        mfm18 = tensorflow.keras.layers.maximum([conv17_1, conv17_2])\n",
    "        batch19 = BatchNormalization(axis=3, scale=False)(mfm18)\n",
    "\n",
    "        conv20_1 = Conv2D(filters = 32, kernel_size =3, strides=(1, 1), padding='same', activation=None)(batch19)\n",
    "        conv20_2 = Conv2D(filters = 32, kernel_size =3, strides=(1, 1), padding='same', activation=None)(batch19)\n",
    "        mfm21 = tensorflow.keras.layers.maximum([conv20_1, conv20_2])\n",
    "        batch22 = BatchNormalization(axis=3, scale=False)(mfm21)\n",
    "\n",
    "        conv23_1 = Conv2D(filters = 32, kernel_size =1, strides=(1, 1), padding='same', activation=None)(batch22)\n",
    "        conv23_2 = Conv2D(filters = 32, kernel_size =1, strides=(1, 1), padding='same', activation=None)(batch22)\n",
    "        mfm24 = tensorflow.keras.layers.maximum([conv23_1, conv23_2])\n",
    "        batch25 = BatchNormalization(axis=3, scale=False)(mfm24)\n",
    "\n",
    "        conv26_1 = Conv2D(filters = 32, kernel_size =1, strides=(1, 1), padding='same', activation=None)(batch25)\n",
    "        conv26_2 = Conv2D(filters = 32, kernel_size =1, strides=(1, 1), padding='same', activation=None)(batch25)\n",
    "        mfm27 = tensorflow.keras.layers.maximum([conv26_1, conv26_2])\n",
    "        \n",
    "        max28 = MaxPool2D(pool_size=(2, 2), strides=(2, 2), padding='valid')(mfm27)\n",
    "        stft2 = layers.GlobalAveragePooling2D()(max28)\n",
    "        stft2 = Dropout(dp)(stft2)\n",
    "    \n",
    "    \n",
    "    if use_mel and use_cqt and use_stft :\n",
    "        concat2 = layers.Concatenate()([mel2, cqt2, stft2])\n",
    "    if not use_mel and use_cqt and use_stft :\n",
    "        concat2 = layers.Concatenate()([cqt2, stft2])\n",
    "    if use_mel and not use_cqt and use_stft :\n",
    "        concat2 = layers.Concatenate()([mel2, stft2])\n",
    "    if use_mel and use_cqt and not use_stft :\n",
    "        concat2 = layers.Concatenate()([mel2, cqt2])\n",
    "    if not use_mel and not use_cqt and use_stft :  ## stft 만\n",
    "        concat2 = stft2\n",
    "    if use_mel and not use_cqt and not use_stft :  ### mel만\n",
    "        concat2 = mel2\n",
    "    if not use_mel and use_cqt and not use_stft :  ### cqt만\n",
    "        concat2 = cqt2\n",
    "\n",
    "    if ext :\n",
    "        \n",
    "        concat1 = layers.Concatenate()([age1, sex1, hw1, loc1, interval1,preg])\n",
    "        d1 = layers.Dense(10, activation='relu')(concat1)\n",
    "        concat2 = layers.Concatenate()([concat2, d1,wav2_2])\n",
    "        \n",
    "    if fc :\n",
    "        concat2 = layers.Dense(10, activation = \"relu\")(concat2)\n",
    "        concat2 = Dropout(dp)(concat2)\n",
    "        \n",
    "    if ord1 :\n",
    "        res1 = layers.Dense(2, activation = \"softmax\")(concat2)\n",
    "        \n",
    "        \n",
    "\n",
    "        \n",
    "    else :\n",
    "        res1 = layers.Dense(3, activation = \"softmax\")(concat2)\n",
    "\n",
    "        \n",
    "        \n",
    "        \n",
    "#     res2 = layers.Dense(2, activation = \"softmax\")(concat2)\n",
    "\n",
    "    model = keras.Model(inputs = [age,sex,hw,preg,loc,interval,wav2,mel1,stft1,cqt1] , outputs = res1 )\n",
    "    \n",
    "    model.compile(loss=['categorical_crossentropy'], optimizer='adam', metrics=['accuracy','AUC'])\n",
    "    return(model)\n",
    "\n"
   ]
  },
  {
   "cell_type": "code",
   "execution_count": 132,
   "id": "e6ebb744",
   "metadata": {},
   "outputs": [],
   "source": [
    "def get_LCNN_o_4_dr_2(mel_input_shape, cqt_input_shape, stft_input_shape,interval_input_shape,wav2_input_shape,use_mel = True, use_cqt = True, use_stft = True, ord1 = True, dp = .5, fc = False, ext = False):\n",
    "        # Create a towy model.\n",
    "    \n",
    "    from keras.models import Model\n",
    "    from keras.layers import Input \n",
    "    \n",
    "    MobileNet = tf.keras.applications.MobileNet(\n",
    "    input_shape=(224,224,3),\n",
    "    alpha=1.0,\n",
    "    depth_multiplier=1,\n",
    "    dropout=0.001,\n",
    "    include_top=False,\n",
    "    weights=\"imagenet\",\n",
    "    input_tensor=None,\n",
    "    pooling='max',\n",
    "    classes=2,\n",
    "    classifier_activation=\"softmax\")\n",
    "    \n",
    "    age = keras.Input(shape=(6,), name = 'age_cat')\n",
    "    sex = keras.Input(shape=(2,), name = 'sex_cat')\n",
    "    hw = keras.Input(shape=(2,), name = 'height_weight')\n",
    "    preg = keras.Input(shape=(1,), name = 'is_preg')\n",
    "    loc = keras.Input(shape=(5,), name = 'loc')\n",
    "    interval = keras.Input(shape=interval_input_shape, name = 'interval')\n",
    "    wav2 = keras.Input(shape=wav2_input_shape, name = 'wav2')\n",
    "    mel1 = keras.Input(shape=mel_input_shape, name = 'mel')\n",
    "    cqt1 = keras.Input(shape=cqt_input_shape, name = 'cqt')\n",
    "    stft1 = keras.Input(shape=stft_input_shape, name = 'stft')\n",
    "        \n",
    "    ## age embeddig\n",
    "    age1 = layers.Dense(2, activation = None)(age)\n",
    "\n",
    "    ## sex embedding\n",
    "    sex1 = layers.Dense(1, activation = None)(sex)\n",
    "\n",
    "    ## hw embedding\n",
    "    hw1 = layers.Dense(1, activation = None)(hw)\n",
    "\n",
    "    ## loc embedding\n",
    "    loc1 = layers.Dense(3, activation = None)(loc)\n",
    "    \n",
    "    ## interval embedding\n",
    "\n",
    "    interval1 = tf.keras.layers.Conv1D(9, 2, padding=\"causal\",activation='relu',dilation_rate=1)(interval)\n",
    "    interval1 = tf.keras.layers.Conv1D(9, 2, padding=\"causal\",activation='relu',dilation_rate=2)(interval1)\n",
    "    interval1 = tf.keras.layers.Conv1D(9, 2, padding=\"causal\",activation='relu',dilation_rate=4)(interval1)\n",
    "    interval1 = tf.keras.layers.Conv1D(9, 2, padding=\"causal\",activation='relu',dilation_rate=8)(interval1)\n",
    "    interval1 = tf.keras.layers.Conv1D(9, 2, padding=\"causal\",activation='relu',dilation_rate=16)(interval1)\n",
    "    interval1 = tf.keras.layers.Conv1D(9, 2, padding=\"causal\",activation='relu',dilation_rate=32)(interval1)\n",
    "    interval1 = tf.keras.layers.Conv1D(9, 2, padding=\"causal\",activation='relu',dilation_rate=64)(interval1)\n",
    "    interval1 = tf.keras.layers.Conv1D(9, 2, padding=\"causal\",activation='relu',dilation_rate=128)(interval1)\n",
    "    interval1 = tf.keras.layers.Conv1D(9, 2, padding=\"causal\",activation='relu',dilation_rate=256)(interval1)\n",
    "    interval1 = tf.keras.layers.Conv1D(9, 2, padding=\"causal\",activation='relu',dilation_rate=512)(interval1)\n",
    "    interval1 = tf.keras.layers.Conv1D(9, 2, padding=\"causal\",activation='relu',dilation_rate=1024)(interval1)\n",
    "\n",
    "    interval1 = tf.keras.layers.Conv1D(9, 2, padding=\"causal\",activation='relu',dilation_rate=1)(interval1)\n",
    "    interval1 = tf.keras.layers.Conv1D(9, 2, padding=\"causal\",activation='relu',dilation_rate=2)(interval1)\n",
    "    interval1 = tf.keras.layers.Conv1D(9, 2, padding=\"causal\",activation='relu',dilation_rate=4)(interval1)\n",
    "    interval1 = tf.keras.layers.Conv1D(9, 2, padding=\"causal\",activation='relu',dilation_rate=8)(interval1)\n",
    "    interval1 = tf.keras.layers.Conv1D(9, 2, padding=\"causal\",activation='relu',dilation_rate=16)(interval1)\n",
    "    interval1 = tf.keras.layers.Conv1D(9, 2, padding=\"causal\",activation='relu',dilation_rate=32)(interval1)\n",
    "    interval1 = tf.keras.layers.Conv1D(9, 2, padding=\"causal\",activation='relu',dilation_rate=64)(interval1)\n",
    "    interval1 = tf.keras.layers.Conv1D(9, 2, padding=\"causal\",activation='relu',dilation_rate=128)(interval1)\n",
    "    interval1 = tf.keras.layers.Conv1D(9, 2, padding=\"causal\",activation='relu',dilation_rate=256)(interval1)\n",
    "    interval1 = tf.keras.layers.Conv1D(9, 2, padding=\"causal\",activation='relu',dilation_rate=512)(interval1)\n",
    "    interval1 = tf.keras.layers.Conv1D(9, 2, padding=\"causal\",activation='relu',dilation_rate=1024)(interval1)    \n",
    "\n",
    "    interval1 = tf.keras.layers.Conv1D(9, 2, padding=\"causal\",activation='relu',dilation_rate=1)(interval1)\n",
    "    interval1 = tf.keras.layers.Conv1D(9, 2, padding=\"causal\",activation='relu',dilation_rate=2)(interval1)\n",
    "    interval1 = tf.keras.layers.Conv1D(9, 2, padding=\"causal\",activation='relu',dilation_rate=4)(interval1)\n",
    "    interval1 = tf.keras.layers.Conv1D(9, 2, padding=\"causal\",activation='relu',dilation_rate=8)(interval1)\n",
    "    interval1 = tf.keras.layers.Conv1D(9, 2, padding=\"causal\",activation='relu',dilation_rate=16)(interval1)\n",
    "    interval1 = tf.keras.layers.Conv1D(9, 2, padding=\"causal\",activation='relu',dilation_rate=32)(interval1)\n",
    "    interval1 = tf.keras.layers.Conv1D(9, 2, padding=\"causal\",activation='relu',dilation_rate=64)(interval1)\n",
    "    interval1 = tf.keras.layers.Conv1D(9, 2, padding=\"causal\",activation='relu',dilation_rate=128)(interval1)\n",
    "    interval1 = tf.keras.layers.Conv1D(9, 2, padding=\"causal\",activation='relu',dilation_rate=256)(interval1)\n",
    "    interval1 = tf.keras.layers.Conv1D(9, 2, padding=\"causal\",activation='relu',dilation_rate=512)(interval1)\n",
    "    interval1 = tf.keras.layers.Conv1D(9, 2, padding=\"causal\",activation='relu',dilation_rate=1024)(interval1)\n",
    "    \n",
    "    interval1 = tf.keras.layers.GlobalMaxPooling1D()(interval1)\n",
    "    \n",
    "    #### Wav2Vec2 Embedding\n",
    "    \n",
    "    wav2_1 = Conv2D(3,(3,3),padding='same')(wav2)\n",
    "    wav2_2 = MobileNet(wav2_1)\n",
    "\n",
    "    \n",
    "    \n",
    "    \n",
    "    ## mel embedding\n",
    "    if use_mel :\n",
    "        \n",
    "        conv1_1 = Conv2D(filters = 32, kernel_size =5, strides=(1, 1), padding='same', activation=None)(mel1)\n",
    "        conv1_2 = Conv2D(filters = 32, kernel_size =5, strides=(1, 1), padding='same', activation=None)(mel1)\n",
    "        mfm2 = tensorflow.keras.layers.maximum([conv1_1, conv1_2])\n",
    "        max3 = MaxPool2D(pool_size=(2, 2), strides=(2, 2), padding='same')(mfm2)\n",
    "\n",
    "        conv4_1 = Conv2D(filters = 32, kernel_size =1, strides=(1, 1), padding='same', activation=None)(max3)\n",
    "        conv4_2 = Conv2D(filters = 32, kernel_size =1, strides=(1, 1), padding='same', activation=None)(max3)\n",
    "        mfm5 = tensorflow.keras.layers.maximum([conv4_1, conv4_2])\n",
    "        batch6 = BatchNormalization(axis=3, scale=False)(mfm5)\n",
    "\n",
    "        conv7_1 = Conv2D(filters = 48, kernel_size =3, strides=(1, 1), padding='same', activation=None)(batch6)\n",
    "        conv7_2 = Conv2D(filters = 48, kernel_size =3, strides=(1, 1), padding='same', activation=None)(batch6)\n",
    "        mfm8 = tensorflow.keras.layers.maximum([conv7_1, conv7_2])\n",
    "\n",
    "        max9 = MaxPool2D(pool_size=(2, 2), strides=(2, 2), padding='same')(mfm8)\n",
    "        batch10 = BatchNormalization(axis=3, scale=False)(max9)\n",
    "\n",
    "        conv11_1 = Conv2D(filters = 48, kernel_size =1, strides=(1, 1), padding='same', activation=None)(batch10)\n",
    "        conv11_2 = Conv2D(filters = 48, kernel_size =1, strides=(1, 1), padding='same', activation=None)(batch10)\n",
    "        mfm12 = tensorflow.keras.layers.maximum([conv11_1, conv11_2])\n",
    "        batch13 = BatchNormalization(axis=3, scale=False)(mfm12)\n",
    "\n",
    "        conv14_1 = Conv2D(filters = 64, kernel_size =3, strides=(1, 1), padding='same', activation=None)(batch13)\n",
    "        conv14_2 = Conv2D(filters = 64, kernel_size =3, strides=(1, 1), padding='same', activation=None)(batch13)\n",
    "        mfm15 = tensorflow.keras.layers.maximum([conv14_1, conv14_2])\n",
    "\n",
    "        max16 = MaxPool2D(pool_size=(2, 2), strides=(2, 2), padding='same')(mfm15)\n",
    "\n",
    "        conv17_1 = Conv2D(filters = 64, kernel_size =1, strides=(1, 1), padding='same', activation=None)(max16)\n",
    "        conv17_2 = Conv2D(filters = 64, kernel_size =1, strides=(1, 1), padding='same', activation=None)(max16)\n",
    "        mfm18 = tensorflow.keras.layers.maximum([conv17_1, conv17_2])\n",
    "        batch19 = BatchNormalization(axis=3, scale=False)(mfm18)\n",
    "\n",
    "        conv20_1 = Conv2D(filters = 32, kernel_size =3, strides=(1, 1), padding='same', activation=None)(batch19)\n",
    "        conv20_2 = Conv2D(filters = 32, kernel_size =3, strides=(1, 1), padding='same', activation=None)(batch19)\n",
    "        mfm21 = tensorflow.keras.layers.maximum([conv20_1, conv20_2])\n",
    "        batch22 = BatchNormalization(axis=3, scale=False)(mfm21)\n",
    "\n",
    "        conv23_1 = Conv2D(filters = 32, kernel_size =1, strides=(1, 1), padding='same', activation=None)(batch22)\n",
    "        conv23_2 = Conv2D(filters = 32, kernel_size =1, strides=(1, 1), padding='same', activation=None)(batch22)\n",
    "        mfm24 = tensorflow.keras.layers.maximum([conv23_1, conv23_2])\n",
    "        batch25 = BatchNormalization(axis=3, scale=False)(mfm24)\n",
    "\n",
    "        conv26_1 = Conv2D(filters = 32, kernel_size =1, strides=(1, 1), padding='same', activation=None)(batch25)\n",
    "        conv26_2 = Conv2D(filters = 32, kernel_size =1, strides=(1, 1), padding='same', activation=None)(batch25)\n",
    "        mfm27 = tensorflow.keras.layers.maximum([conv26_1, conv26_2])\n",
    "\n",
    "        max28 = MaxPool2D(pool_size=(2, 2), strides=(2, 2), padding='valid')(mfm27)\n",
    "        mel2 = layers.GlobalAveragePooling2D()(max28)\n",
    "        mel2 = Dropout(dp)(mel2)\n",
    "\n",
    "    if use_cqt:\n",
    "        ## cqt embedding\n",
    "        conv1_1 = Conv2D(filters = 32, kernel_size =5, strides=(1, 1), padding='same', activation=None)(cqt1)\n",
    "        conv1_2 = Conv2D(filters = 32, kernel_size =5, strides=(1, 1), padding='same', activation=None)(cqt1)\n",
    "        mfm2 = tensorflow.keras.layers.maximum([conv1_1, conv1_2])\n",
    "        max3 = MaxPool2D(pool_size=(2, 2), strides=(2, 2), padding='same')(mfm2)\n",
    "        \n",
    "        conv4_1 = Conv2D(filters = 32, kernel_size =1, strides=(1, 1), padding='same', activation=None)(max3)\n",
    "        conv4_2 = Conv2D(filters = 32, kernel_size =1, strides=(1, 1), padding='same', activation=None)(max3)\n",
    "        mfm5 = tensorflow.keras.layers.maximum([conv4_1, conv4_2])\n",
    "        batch6 = BatchNormalization(axis=3, scale=False)(mfm5)\n",
    "\n",
    "        conv7_1 = Conv2D(filters = 48, kernel_size =3, strides=(1, 1), padding='same', activation=None)(batch6)\n",
    "        conv7_2 = Conv2D(filters = 48, kernel_size =3, strides=(1, 1), padding='same', activation=None)(batch6)\n",
    "        mfm8 = tensorflow.keras.layers.maximum([conv7_1, conv7_2])\n",
    "\n",
    "        max9 = MaxPool2D(pool_size=(2, 2), strides=(2, 2), padding='same')(mfm8)\n",
    "        batch10 = BatchNormalization(axis=3, scale=False)(max9)\n",
    "\n",
    "        conv11_1 = Conv2D(filters = 48, kernel_size =1, strides=(1, 1), padding='same', activation=None)(batch10)\n",
    "        conv11_2 = Conv2D(filters = 48, kernel_size =1, strides=(1, 1), padding='same', activation=None)(batch10)\n",
    "        mfm12 = tensorflow.keras.layers.maximum([conv11_1, conv11_2])\n",
    "        batch13 = BatchNormalization(axis=3, scale=False)(mfm12)\n",
    "\n",
    "        conv14_1 = Conv2D(filters = 64, kernel_size =3, strides=(1, 1), padding='same', activation=None)(batch13)\n",
    "        conv14_2 = Conv2D(filters = 64, kernel_size =3, strides=(1, 1), padding='same', activation=None)(batch13)\n",
    "        mfm15 = tensorflow.keras.layers.maximum([conv14_1, conv14_2])\n",
    "\n",
    "        max16 = MaxPool2D(pool_size=(2, 2), strides=(2, 2), padding='same')(mfm15)\n",
    "\n",
    "        conv17_1 = Conv2D(filters = 64, kernel_size =1, strides=(1, 1), padding='same', activation=None)(max16)\n",
    "        conv17_2 = Conv2D(filters = 64, kernel_size =1, strides=(1, 1), padding='same', activation=None)(max16)\n",
    "        mfm18 = tensorflow.keras.layers.maximum([conv17_1, conv17_2])\n",
    "        batch19 = BatchNormalization(axis=3, scale=False)(mfm18)\n",
    "\n",
    "        conv20_1 = Conv2D(filters = 32, kernel_size =3, strides=(1, 1), padding='same', activation=None)(batch19)\n",
    "        conv20_2 = Conv2D(filters = 32, kernel_size =3, strides=(1, 1), padding='same', activation=None)(batch19)\n",
    "        mfm21 = tensorflow.keras.layers.maximum([conv20_1, conv20_2])\n",
    "        batch22 = BatchNormalization(axis=3, scale=False)(mfm21)\n",
    "\n",
    "        conv23_1 = Conv2D(filters = 32, kernel_size =1, strides=(1, 1), padding='same', activation=None)(batch22)\n",
    "        conv23_2 = Conv2D(filters = 32, kernel_size =1, strides=(1, 1), padding='same', activation=None)(batch22)\n",
    "        mfm24 = tensorflow.keras.layers.maximum([conv23_1, conv23_2])\n",
    "        batch25 = BatchNormalization(axis=3, scale=False)(mfm24)\n",
    "\n",
    "        conv26_1 = Conv2D(filters = 32, kernel_size =1, strides=(1, 1), padding='same', activation=None)(batch25)\n",
    "        conv26_2 = Conv2D(filters = 32, kernel_size =1, strides=(1, 1), padding='same', activation=None)(batch25)\n",
    "        mfm27 = tensorflow.keras.layers.maximum([conv26_1, conv26_2])\n",
    "        \n",
    "        max28 = MaxPool2D(pool_size=(2, 2), strides=(2, 2), padding='valid')(mfm27)\n",
    "        cqt2 = layers.GlobalAveragePooling2D()(max28)\n",
    "        cqt2 = Dropout(dp)(cqt2)\n",
    "\n",
    "    if use_stft :\n",
    "        ## stft embedding\n",
    "        conv1_1 = Conv2D(filters = 32, kernel_size =5, strides=(1, 1), padding='same', activation=None)(stft1)\n",
    "        conv1_2 = Conv2D(filters = 32, kernel_size =5, strides=(1, 1), padding='same', activation=None)(stft1)\n",
    "        mfm2 = tensorflow.keras.layers.maximum([conv1_1, conv1_2])\n",
    "        max3 = MaxPool2D(pool_size=(2, 2), strides=(2, 2), padding='same')(mfm2)\n",
    "        \n",
    "        conv4_1 = Conv2D(filters = 32, kernel_size =1, strides=(1, 1), padding='same', activation=None)(max3)\n",
    "        conv4_2 = Conv2D(filters = 32, kernel_size =1, strides=(1, 1), padding='same', activation=None)(max3)\n",
    "        mfm5 = tensorflow.keras.layers.maximum([conv4_1, conv4_2])\n",
    "        batch6 = BatchNormalization(axis=3, scale=False)(mfm5)\n",
    "        \n",
    "        conv7_1 = Conv2D(filters = 48, kernel_size =3, strides=(1, 1), padding='same', activation=None)(batch6)\n",
    "        conv7_2 = Conv2D(filters = 48, kernel_size =3, strides=(1, 1), padding='same', activation=None)(batch6)\n",
    "        mfm8 = tensorflow.keras.layers.maximum([conv7_1, conv7_2])\n",
    "        \n",
    "        max9 = MaxPool2D(pool_size=(2, 2), strides=(2, 2), padding='same')(mfm8)\n",
    "        batch10 = BatchNormalization(axis=3, scale=False)(max9)\n",
    "        \n",
    "        conv11_1 = Conv2D(filters = 48, kernel_size =1, strides=(1, 1), padding='same', activation=None)(batch10)\n",
    "        conv11_2 = Conv2D(filters = 48, kernel_size =1, strides=(1, 1), padding='same', activation=None)(batch10)\n",
    "        mfm12 = tensorflow.keras.layers.maximum([conv11_1, conv11_2])\n",
    "        batch13 = BatchNormalization(axis=3, scale=False)(mfm12)\n",
    "\n",
    "        conv14_1 = Conv2D(filters = 64, kernel_size =3, strides=(1, 1), padding='same', activation=None)(batch13)\n",
    "        conv14_2 = Conv2D(filters = 64, kernel_size =3, strides=(1, 1), padding='same', activation=None)(batch13)\n",
    "        mfm15 = tensorflow.keras.layers.maximum([conv14_1, conv14_2])\n",
    "        \n",
    "        max16 = MaxPool2D(pool_size=(2, 2), strides=(2, 2), padding='same')(mfm15)\n",
    "\n",
    "        conv17_1 = Conv2D(filters = 64, kernel_size =1, strides=(1, 1), padding='same', activation=None)(max16)\n",
    "        conv17_2 = Conv2D(filters = 64, kernel_size =1, strides=(1, 1), padding='same', activation=None)(max16)\n",
    "        mfm18 = tensorflow.keras.layers.maximum([conv17_1, conv17_2])\n",
    "        batch19 = BatchNormalization(axis=3, scale=False)(mfm18)\n",
    "\n",
    "        conv20_1 = Conv2D(filters = 32, kernel_size =3, strides=(1, 1), padding='same', activation=None)(batch19)\n",
    "        conv20_2 = Conv2D(filters = 32, kernel_size =3, strides=(1, 1), padding='same', activation=None)(batch19)\n",
    "        mfm21 = tensorflow.keras.layers.maximum([conv20_1, conv20_2])\n",
    "        batch22 = BatchNormalization(axis=3, scale=False)(mfm21)\n",
    "\n",
    "        conv23_1 = Conv2D(filters = 32, kernel_size =1, strides=(1, 1), padding='same', activation=None)(batch22)\n",
    "        conv23_2 = Conv2D(filters = 32, kernel_size =1, strides=(1, 1), padding='same', activation=None)(batch22)\n",
    "        mfm24 = tensorflow.keras.layers.maximum([conv23_1, conv23_2])\n",
    "        batch25 = BatchNormalization(axis=3, scale=False)(mfm24)\n",
    "\n",
    "        conv26_1 = Conv2D(filters = 32, kernel_size =1, strides=(1, 1), padding='same', activation=None)(batch25)\n",
    "        conv26_2 = Conv2D(filters = 32, kernel_size =1, strides=(1, 1), padding='same', activation=None)(batch25)\n",
    "        mfm27 = tensorflow.keras.layers.maximum([conv26_1, conv26_2])\n",
    "        \n",
    "        max28 = MaxPool2D(pool_size=(2, 2), strides=(2, 2), padding='valid')(mfm27)\n",
    "        stft2 = layers.GlobalAveragePooling2D()(max28)\n",
    "        stft2 = Dropout(dp)(stft2)\n",
    "    \n",
    "    \n",
    "    if use_mel and use_cqt and use_stft :\n",
    "        concat2 = layers.Concatenate()([mel2, cqt2, stft2])\n",
    "    if not use_mel and use_cqt and use_stft :\n",
    "        concat2 = layers.Concatenate()([cqt2, stft2])\n",
    "    if use_mel and not use_cqt and use_stft :\n",
    "        concat2 = layers.Concatenate()([mel2, stft2])\n",
    "    if use_mel and use_cqt and not use_stft :\n",
    "        concat2 = layers.Concatenate()([mel2, cqt2])\n",
    "    if not use_mel and not use_cqt and use_stft :  ## stft 만\n",
    "        concat2 = stft2\n",
    "    if use_mel and not use_cqt and not use_stft :  ### mel만\n",
    "        concat2 = mel2\n",
    "    if not use_mel and use_cqt and not use_stft :  ### cqt만\n",
    "        concat2 = cqt2\n",
    "\n",
    "    if ext :\n",
    "        \n",
    "        concat1 = layers.Concatenate()([age1, sex1, hw1, loc1, interval1,preg])\n",
    "        d1 = layers.Dense(10, activation='relu')(concat1)\n",
    "        concat2 = layers.Concatenate()([concat2, d1,wav2_2])\n",
    "        \n",
    "    if fc :\n",
    "        concat2 = layers.Dense(10, activation = \"relu\")(concat2)\n",
    "        concat2 = Dropout(dp)(concat2)\n",
    "        \n",
    "    if ord1 :\n",
    "        res1 = layers.Dense(2, activation = \"softmax\")(concat2)\n",
    "        \n",
    "        \n",
    "\n",
    "        \n",
    "    else :\n",
    "        res1 = layers.Dense(3, activation = \"softmax\")(concat2)\n",
    "\n",
    "        \n",
    "        \n",
    "        \n",
    "#     res2 = layers.Dense(2, activation = \"softmax\")(concat2)\n",
    "\n",
    "    model = keras.Model(inputs = [age,sex,hw,preg,loc,interval,wav2,mel1,stft1,cqt1] , outputs = res1 )\n",
    "    \n",
    "    model.compile(loss=['categorical_crossentropy'], optimizer='adam', metrics=['accuracy','AUC'])\n",
    "    return(model)\n",
    "\n"
   ]
  },
  {
   "cell_type": "code",
   "execution_count": null,
   "id": "37fd9dce",
   "metadata": {},
   "outputs": [],
   "source": []
  },
  {
   "cell_type": "code",
   "execution_count": null,
   "id": "087f2566",
   "metadata": {},
   "outputs": [],
   "source": []
  },
  {
   "cell_type": "code",
   "execution_count": 21,
   "id": "a572e818",
   "metadata": {},
   "outputs": [],
   "source": [
    "features_trn['wav2']=features_trn['wav2'][:,:,:,np.newaxis]"
   ]
  },
  {
   "cell_type": "code",
   "execution_count": 18,
   "id": "8c5c604b",
   "metadata": {},
   "outputs": [],
   "source": [
    "features_test['wav2']=features_test['wav2'][:,:,:,np.newaxis]"
   ]
  },
  {
   "cell_type": "code",
   "execution_count": null,
   "id": "2a48935e",
   "metadata": {},
   "outputs": [],
   "source": []
  },
  {
   "cell_type": "code",
   "execution_count": null,
   "id": "d77cd976",
   "metadata": {},
   "outputs": [],
   "source": []
  },
  {
   "cell_type": "code",
   "execution_count": 133,
   "id": "460de784",
   "metadata": {},
   "outputs": [],
   "source": [
    "mel_input_shape = features_trn['mel1'].shape[1:]"
   ]
  },
  {
   "cell_type": "code",
   "execution_count": 134,
   "id": "5d0291cb",
   "metadata": {},
   "outputs": [
    {
     "data": {
      "text/plain": [
       "(120, 313, 1)"
      ]
     },
     "execution_count": 134,
     "metadata": {},
     "output_type": "execute_result"
    }
   ],
   "source": [
    "mel_input_shape"
   ]
  },
  {
   "cell_type": "code",
   "execution_count": 135,
   "id": "ec06d09a",
   "metadata": {},
   "outputs": [],
   "source": [
    "cqt_input_shape = features_trn['cqt1'].shape[1:]"
   ]
  },
  {
   "cell_type": "code",
   "execution_count": 136,
   "id": "31599947",
   "metadata": {},
   "outputs": [
    {
     "data": {
      "text/plain": [
       "(1, 1, 1)"
      ]
     },
     "execution_count": 136,
     "metadata": {},
     "output_type": "execute_result"
    }
   ],
   "source": [
    "cqt_input_shape"
   ]
  },
  {
   "cell_type": "code",
   "execution_count": 137,
   "id": "861213a4",
   "metadata": {},
   "outputs": [],
   "source": [
    "stft_input_shape = features_trn['stft1'].shape[1:]"
   ]
  },
  {
   "cell_type": "code",
   "execution_count": 138,
   "id": "6e151a70",
   "metadata": {},
   "outputs": [
    {
     "data": {
      "text/plain": [
       "(1, 1, 1)"
      ]
     },
     "execution_count": 138,
     "metadata": {},
     "output_type": "execute_result"
    }
   ],
   "source": [
    "stft_input_shape"
   ]
  },
  {
   "cell_type": "code",
   "execution_count": 139,
   "id": "0b7eb1dd",
   "metadata": {},
   "outputs": [],
   "source": [
    "interval_input_shape= features_trn['interval'].shape[1:]"
   ]
  },
  {
   "cell_type": "code",
   "execution_count": 140,
   "id": "6c31f94d",
   "metadata": {
    "scrolled": true
   },
   "outputs": [
    {
     "data": {
      "text/plain": [
       "(115, 1)"
      ]
     },
     "execution_count": 140,
     "metadata": {},
     "output_type": "execute_result"
    }
   ],
   "source": [
    "interval_input_shape"
   ]
  },
  {
   "cell_type": "code",
   "execution_count": 141,
   "id": "c26d851e",
   "metadata": {},
   "outputs": [],
   "source": [
    "wav2_input_shape= features_trn['wav2'].shape[1:]"
   ]
  },
  {
   "cell_type": "code",
   "execution_count": 142,
   "id": "7553a46c",
   "metadata": {},
   "outputs": [
    {
     "data": {
      "text/plain": [
       "(224, 224, 1)"
      ]
     },
     "execution_count": 142,
     "metadata": {},
     "output_type": "execute_result"
    }
   ],
   "source": [
    "wav2_input_shape"
   ]
  },
  {
   "cell_type": "code",
   "execution_count": 143,
   "id": "a5be4116",
   "metadata": {},
   "outputs": [],
   "source": [
    "for i in range(len(features_trn['interval'])):\n",
    "    features_trn['interval'][i]=np.array(features_trn['interval'][i])"
   ]
  },
  {
   "cell_type": "code",
   "execution_count": 144,
   "id": "7e660a58",
   "metadata": {},
   "outputs": [],
   "source": [
    "for i in range(len(features_trn['mel1'])):\n",
    "    features_trn['mel1'][i]=np.array(features_trn['mel1'][i])"
   ]
  },
  {
   "cell_type": "code",
   "execution_count": null,
   "id": "46889e5a",
   "metadata": {},
   "outputs": [],
   "source": []
  },
  {
   "cell_type": "code",
   "execution_count": null,
   "id": "dbd58a49",
   "metadata": {},
   "outputs": [],
   "source": []
  },
  {
   "cell_type": "code",
   "execution_count": 145,
   "id": "5ffbed82",
   "metadata": {
    "scrolled": true
   },
   "outputs": [],
   "source": [
    "model1 = get_LCNN_o_4_dr_1(mel_input_shape, cqt_input_shape, stft_input_shape,interval_input_shape,wav2_input_shape, use_mel = use_mel, use_cqt = use_cqt, use_stft = use_stft, ord1 = ord1, dp = dp, fc = fc, ext = ext)"
   ]
  },
  {
   "cell_type": "code",
   "execution_count": 146,
   "id": "9ccc8685",
   "metadata": {},
   "outputs": [],
   "source": [
    "\n",
    "model2 = get_LCNN_o_4_dr_2(mel_input_shape, cqt_input_shape, stft_input_shape,interval_input_shape,wav2_input_shape, use_mel = use_mel, use_cqt = use_cqt, use_stft = use_stft, ord1 = ord1, dp = dp, fc = fc, ext = ext)\n"
   ]
  },
  {
   "cell_type": "code",
   "execution_count": 44,
   "id": "4e462fa8",
   "metadata": {},
   "outputs": [],
   "source": [
    "# model1.layers[-5].trainable=False"
   ]
  },
  {
   "cell_type": "code",
   "execution_count": 45,
   "id": "f27671a6",
   "metadata": {},
   "outputs": [],
   "source": [
    "# model2.layers[-5].trainable=False"
   ]
  },
  {
   "cell_type": "code",
   "execution_count": 147,
   "id": "759a0cf3",
   "metadata": {},
   "outputs": [
    {
     "name": "stdout",
     "output_type": "stream",
     "text": [
      "Model: \"model_199\"\n",
      "__________________________________________________________________________________________________\n",
      " Layer (type)                   Output Shape         Param #     Connected to                     \n",
      "==================================================================================================\n",
      " interval (InputLayer)          [(None, 115, 1)]     0           []                               \n",
      "                                                                                                  \n",
      " conv1d_2200 (Conv1D)           (None, 115, 9)       27          ['interval[0][0]']               \n",
      "                                                                                                  \n",
      " conv1d_2201 (Conv1D)           (None, 115, 9)       171         ['conv1d_2200[0][0]']            \n",
      "                                                                                                  \n",
      " conv1d_2202 (Conv1D)           (None, 115, 9)       171         ['conv1d_2201[0][0]']            \n",
      "                                                                                                  \n",
      " conv1d_2203 (Conv1D)           (None, 115, 9)       171         ['conv1d_2202[0][0]']            \n",
      "                                                                                                  \n",
      " conv1d_2204 (Conv1D)           (None, 115, 9)       171         ['conv1d_2203[0][0]']            \n",
      "                                                                                                  \n",
      " mel (InputLayer)               [(None, 120, 313, 1  0           []                               \n",
      "                                )]                                                                \n",
      "                                                                                                  \n",
      " conv1d_2205 (Conv1D)           (None, 115, 9)       171         ['conv1d_2204[0][0]']            \n",
      "                                                                                                  \n",
      " conv2d_3782 (Conv2D)           (None, 120, 313, 32  832         ['mel[0][0]']                    \n",
      "                                )                                                                 \n",
      "                                                                                                  \n",
      " conv2d_3783 (Conv2D)           (None, 120, 313, 32  832         ['mel[0][0]']                    \n",
      "                                )                                                                 \n",
      "                                                                                                  \n",
      " conv1d_2206 (Conv1D)           (None, 115, 9)       171         ['conv1d_2205[0][0]']            \n",
      "                                                                                                  \n",
      " maximum_1791 (Maximum)         (None, 120, 313, 32  0           ['conv2d_3782[0][0]',            \n",
      "                                )                                 'conv2d_3783[0][0]']            \n",
      "                                                                                                  \n",
      " conv1d_2207 (Conv1D)           (None, 115, 9)       171         ['conv1d_2206[0][0]']            \n",
      "                                                                                                  \n",
      " max_pooling2d_796 (MaxPooling2  (None, 60, 157, 32)  0          ['maximum_1791[0][0]']           \n",
      " D)                                                                                               \n",
      "                                                                                                  \n",
      " conv1d_2208 (Conv1D)           (None, 115, 9)       171         ['conv1d_2207[0][0]']            \n",
      "                                                                                                  \n",
      " conv2d_3784 (Conv2D)           (None, 60, 157, 32)  1056        ['max_pooling2d_796[0][0]']      \n",
      "                                                                                                  \n",
      " conv2d_3785 (Conv2D)           (None, 60, 157, 32)  1056        ['max_pooling2d_796[0][0]']      \n",
      "                                                                                                  \n",
      " conv1d_2209 (Conv1D)           (None, 115, 9)       171         ['conv1d_2208[0][0]']            \n",
      "                                                                                                  \n",
      " maximum_1792 (Maximum)         (None, 60, 157, 32)  0           ['conv2d_3784[0][0]',            \n",
      "                                                                  'conv2d_3785[0][0]']            \n",
      "                                                                                                  \n",
      " conv1d_2210 (Conv1D)           (None, 115, 9)       171         ['conv1d_2209[0][0]']            \n",
      "                                                                                                  \n",
      " batch_normalization_1194 (Batc  (None, 60, 157, 32)  96         ['maximum_1792[0][0]']           \n",
      " hNormalization)                                                                                  \n",
      "                                                                                                  \n",
      " conv1d_2211 (Conv1D)           (None, 115, 9)       171         ['conv1d_2210[0][0]']            \n",
      "                                                                                                  \n",
      " conv2d_3786 (Conv2D)           (None, 60, 157, 48)  13872       ['batch_normalization_1194[0][0]'\n",
      "                                                                 ]                                \n",
      "                                                                                                  \n",
      " conv2d_3787 (Conv2D)           (None, 60, 157, 48)  13872       ['batch_normalization_1194[0][0]'\n",
      "                                                                 ]                                \n",
      "                                                                                                  \n",
      " conv1d_2212 (Conv1D)           (None, 115, 9)       171         ['conv1d_2211[0][0]']            \n",
      "                                                                                                  \n",
      " maximum_1793 (Maximum)         (None, 60, 157, 48)  0           ['conv2d_3786[0][0]',            \n",
      "                                                                  'conv2d_3787[0][0]']            \n",
      "                                                                                                  \n",
      " conv1d_2213 (Conv1D)           (None, 115, 9)       171         ['conv1d_2212[0][0]']            \n",
      "                                                                                                  \n",
      " max_pooling2d_797 (MaxPooling2  (None, 30, 79, 48)  0           ['maximum_1793[0][0]']           \n",
      " D)                                                                                               \n",
      "                                                                                                  \n",
      " conv1d_2214 (Conv1D)           (None, 115, 9)       171         ['conv1d_2213[0][0]']            \n",
      "                                                                                                  \n",
      " batch_normalization_1195 (Batc  (None, 30, 79, 48)  144         ['max_pooling2d_797[0][0]']      \n",
      " hNormalization)                                                                                  \n",
      "                                                                                                  \n",
      " conv1d_2215 (Conv1D)           (None, 115, 9)       171         ['conv1d_2214[0][0]']            \n",
      "                                                                                                  \n",
      " conv2d_3788 (Conv2D)           (None, 30, 79, 48)   2352        ['batch_normalization_1195[0][0]'\n",
      "                                                                 ]                                \n",
      "                                                                                                  \n",
      " conv2d_3789 (Conv2D)           (None, 30, 79, 48)   2352        ['batch_normalization_1195[0][0]'\n",
      "                                                                 ]                                \n",
      "                                                                                                  \n"
     ]
    },
    {
     "name": "stdout",
     "output_type": "stream",
     "text": [
      " conv1d_2216 (Conv1D)           (None, 115, 9)       171         ['conv1d_2215[0][0]']            \n",
      "                                                                                                  \n",
      " maximum_1794 (Maximum)         (None, 30, 79, 48)   0           ['conv2d_3788[0][0]',            \n",
      "                                                                  'conv2d_3789[0][0]']            \n",
      "                                                                                                  \n",
      " conv1d_2217 (Conv1D)           (None, 115, 9)       171         ['conv1d_2216[0][0]']            \n",
      "                                                                                                  \n",
      " batch_normalization_1196 (Batc  (None, 30, 79, 48)  144         ['maximum_1794[0][0]']           \n",
      " hNormalization)                                                                                  \n",
      "                                                                                                  \n",
      " conv1d_2218 (Conv1D)           (None, 115, 9)       171         ['conv1d_2217[0][0]']            \n",
      "                                                                                                  \n",
      " conv2d_3790 (Conv2D)           (None, 30, 79, 64)   27712       ['batch_normalization_1196[0][0]'\n",
      "                                                                 ]                                \n",
      "                                                                                                  \n",
      " conv2d_3791 (Conv2D)           (None, 30, 79, 64)   27712       ['batch_normalization_1196[0][0]'\n",
      "                                                                 ]                                \n",
      "                                                                                                  \n",
      " conv1d_2219 (Conv1D)           (None, 115, 9)       171         ['conv1d_2218[0][0]']            \n",
      "                                                                                                  \n",
      " maximum_1795 (Maximum)         (None, 30, 79, 64)   0           ['conv2d_3790[0][0]',            \n",
      "                                                                  'conv2d_3791[0][0]']            \n",
      "                                                                                                  \n",
      " conv1d_2220 (Conv1D)           (None, 115, 9)       171         ['conv1d_2219[0][0]']            \n",
      "                                                                                                  \n",
      " max_pooling2d_798 (MaxPooling2  (None, 15, 40, 64)  0           ['maximum_1795[0][0]']           \n",
      " D)                                                                                               \n",
      "                                                                                                  \n",
      " conv1d_2221 (Conv1D)           (None, 115, 9)       171         ['conv1d_2220[0][0]']            \n",
      "                                                                                                  \n",
      " conv2d_3792 (Conv2D)           (None, 15, 40, 64)   4160        ['max_pooling2d_798[0][0]']      \n",
      "                                                                                                  \n",
      " conv2d_3793 (Conv2D)           (None, 15, 40, 64)   4160        ['max_pooling2d_798[0][0]']      \n",
      "                                                                                                  \n",
      " conv1d_2222 (Conv1D)           (None, 115, 9)       171         ['conv1d_2221[0][0]']            \n",
      "                                                                                                  \n",
      " maximum_1796 (Maximum)         (None, 15, 40, 64)   0           ['conv2d_3792[0][0]',            \n",
      "                                                                  'conv2d_3793[0][0]']            \n",
      "                                                                                                  \n",
      " conv1d_2223 (Conv1D)           (None, 115, 9)       171         ['conv1d_2222[0][0]']            \n",
      "                                                                                                  \n",
      " batch_normalization_1197 (Batc  (None, 15, 40, 64)  192         ['maximum_1796[0][0]']           \n",
      " hNormalization)                                                                                  \n",
      "                                                                                                  \n",
      " conv1d_2224 (Conv1D)           (None, 115, 9)       171         ['conv1d_2223[0][0]']            \n",
      "                                                                                                  \n",
      " conv2d_3794 (Conv2D)           (None, 15, 40, 32)   18464       ['batch_normalization_1197[0][0]'\n",
      "                                                                 ]                                \n",
      "                                                                                                  \n",
      " conv2d_3795 (Conv2D)           (None, 15, 40, 32)   18464       ['batch_normalization_1197[0][0]'\n",
      "                                                                 ]                                \n",
      "                                                                                                  \n",
      " conv1d_2225 (Conv1D)           (None, 115, 9)       171         ['conv1d_2224[0][0]']            \n",
      "                                                                                                  \n",
      " maximum_1797 (Maximum)         (None, 15, 40, 32)   0           ['conv2d_3794[0][0]',            \n",
      "                                                                  'conv2d_3795[0][0]']            \n",
      "                                                                                                  \n",
      " conv1d_2226 (Conv1D)           (None, 115, 9)       171         ['conv1d_2225[0][0]']            \n",
      "                                                                                                  \n",
      " batch_normalization_1198 (Batc  (None, 15, 40, 32)  96          ['maximum_1797[0][0]']           \n",
      " hNormalization)                                                                                  \n",
      "                                                                                                  \n",
      " conv1d_2227 (Conv1D)           (None, 115, 9)       171         ['conv1d_2226[0][0]']            \n",
      "                                                                                                  \n",
      " conv2d_3796 (Conv2D)           (None, 15, 40, 32)   1056        ['batch_normalization_1198[0][0]'\n",
      "                                                                 ]                                \n",
      "                                                                                                  \n",
      " conv2d_3797 (Conv2D)           (None, 15, 40, 32)   1056        ['batch_normalization_1198[0][0]'\n",
      "                                                                 ]                                \n",
      "                                                                                                  \n",
      " conv1d_2228 (Conv1D)           (None, 115, 9)       171         ['conv1d_2227[0][0]']            \n",
      "                                                                                                  \n",
      " maximum_1798 (Maximum)         (None, 15, 40, 32)   0           ['conv2d_3796[0][0]',            \n",
      "                                                                  'conv2d_3797[0][0]']            \n",
      "                                                                                                  \n",
      " conv1d_2229 (Conv1D)           (None, 115, 9)       171         ['conv1d_2228[0][0]']            \n",
      "                                                                                                  \n",
      " batch_normalization_1199 (Batc  (None, 15, 40, 32)  96          ['maximum_1798[0][0]']           \n",
      " hNormalization)                                                                                  \n",
      "                                                                                                  \n",
      " conv1d_2230 (Conv1D)           (None, 115, 9)       171         ['conv1d_2229[0][0]']            \n",
      "                                                                                                  \n",
      " conv2d_3798 (Conv2D)           (None, 15, 40, 32)   1056        ['batch_normalization_1199[0][0]'\n"
     ]
    },
    {
     "name": "stdout",
     "output_type": "stream",
     "text": [
      "                                                                 ]                                \n",
      "                                                                                                  \n",
      " conv2d_3799 (Conv2D)           (None, 15, 40, 32)   1056        ['batch_normalization_1199[0][0]'\n",
      "                                                                 ]                                \n",
      "                                                                                                  \n",
      " conv1d_2231 (Conv1D)           (None, 115, 9)       171         ['conv1d_2230[0][0]']            \n",
      "                                                                                                  \n",
      " maximum_1799 (Maximum)         (None, 15, 40, 32)   0           ['conv2d_3798[0][0]',            \n",
      "                                                                  'conv2d_3799[0][0]']            \n",
      "                                                                                                  \n",
      " age_cat (InputLayer)           [(None, 6)]          0           []                               \n",
      "                                                                                                  \n",
      " sex_cat (InputLayer)           [(None, 2)]          0           []                               \n",
      "                                                                                                  \n",
      " height_weight (InputLayer)     [(None, 2)]          0           []                               \n",
      "                                                                                                  \n",
      " loc (InputLayer)               [(None, 5)]          0           []                               \n",
      "                                                                                                  \n",
      " conv1d_2232 (Conv1D)           (None, 115, 9)       171         ['conv1d_2231[0][0]']            \n",
      "                                                                                                  \n",
      " max_pooling2d_799 (MaxPooling2  (None, 7, 20, 32)   0           ['maximum_1799[0][0]']           \n",
      " D)                                                                                               \n",
      "                                                                                                  \n",
      " dense_1194 (Dense)             (None, 2)            14          ['age_cat[0][0]']                \n",
      "                                                                                                  \n",
      " dense_1195 (Dense)             (None, 1)            3           ['sex_cat[0][0]']                \n",
      "                                                                                                  \n",
      " dense_1196 (Dense)             (None, 1)            3           ['height_weight[0][0]']          \n",
      "                                                                                                  \n",
      " dense_1197 (Dense)             (None, 3)            18          ['loc[0][0]']                    \n",
      "                                                                                                  \n",
      " global_max_pooling1d_199 (Glob  (None, 9)           0           ['conv1d_2232[0][0]']            \n",
      " alMaxPooling1D)                                                                                  \n",
      "                                                                                                  \n",
      " is_preg (InputLayer)           [(None, 1)]          0           []                               \n",
      "                                                                                                  \n",
      " wav2 (InputLayer)              [(None, 224, 224, 1  0           []                               \n",
      "                                )]                                                                \n",
      "                                                                                                  \n",
      " global_average_pooling2d_199 (  (None, 32)          0           ['max_pooling2d_799[0][0]']      \n",
      " GlobalAveragePooling2D)                                                                          \n",
      "                                                                                                  \n",
      " concatenate_398 (Concatenate)  (None, 17)           0           ['dense_1194[0][0]',             \n",
      "                                                                  'dense_1195[0][0]',             \n",
      "                                                                  'dense_1196[0][0]',             \n",
      "                                                                  'dense_1197[0][0]',             \n",
      "                                                                  'global_max_pooling1d_199[0][0]'\n",
      "                                                                 , 'is_preg[0][0]']               \n",
      "                                                                                                  \n",
      " conv2d_3781 (Conv2D)           (None, 224, 224, 3)  30          ['wav2[0][0]']                   \n",
      "                                                                                                  \n",
      " dropout_5437 (Dropout)         (None, 32)           0           ['global_average_pooling2d_199[0]\n",
      "                                                                 [0]']                            \n",
      "                                                                                                  \n",
      " dense_1198 (Dense)             (None, 10)           180         ['concatenate_398[0][0]']        \n",
      "                                                                                                  \n",
      " mobilenet_1.00_224 (Functional  (None, 1024)        3228864     ['conv2d_3781[0][0]']            \n",
      " )                                                                                                \n",
      "                                                                                                  \n",
      " concatenate_399 (Concatenate)  (None, 1066)         0           ['dropout_5437[0][0]',           \n",
      "                                                                  'dense_1198[0][0]',             \n",
      "                                                                  'mobilenet_1.00_224[0][0]']     \n",
      "                                                                                                  \n",
      " stft (InputLayer)              [(None, 1, 1, 1)]    0           []                               \n",
      "                                                                                                  \n",
      " cqt (InputLayer)               [(None, 1, 1, 1)]    0           []                               \n",
      "                                                                                                  \n",
      " dense_1199 (Dense)             (None, 2)            2134        ['concatenate_399[0][0]']        \n",
      "                                                                                                  \n",
      "==================================================================================================\n",
      "Total params: 3,378,633\n",
      "Trainable params: 3,356,233\n",
      "Non-trainable params: 22,400\n",
      "__________________________________________________________________________________________________\n"
     ]
    }
   ],
   "source": [
    "model1.summary()"
   ]
  },
  {
   "cell_type": "code",
   "execution_count": 148,
   "id": "8d2279ce",
   "metadata": {
    "scrolled": true
   },
   "outputs": [
    {
     "name": "stdout",
     "output_type": "stream",
     "text": [
      "Model: \"model_200\"\n",
      "__________________________________________________________________________________________________\n",
      " Layer (type)                   Output Shape         Param #     Connected to                     \n",
      "==================================================================================================\n",
      " interval (InputLayer)          [(None, 115, 1)]     0           []                               \n",
      "                                                                                                  \n",
      " conv1d_2233 (Conv1D)           (None, 115, 9)       27          ['interval[0][0]']               \n",
      "                                                                                                  \n",
      " conv1d_2234 (Conv1D)           (None, 115, 9)       171         ['conv1d_2233[0][0]']            \n",
      "                                                                                                  \n",
      " conv1d_2235 (Conv1D)           (None, 115, 9)       171         ['conv1d_2234[0][0]']            \n",
      "                                                                                                  \n",
      " conv1d_2236 (Conv1D)           (None, 115, 9)       171         ['conv1d_2235[0][0]']            \n",
      "                                                                                                  \n",
      " conv1d_2237 (Conv1D)           (None, 115, 9)       171         ['conv1d_2236[0][0]']            \n",
      "                                                                                                  \n",
      " mel (InputLayer)               [(None, 120, 313, 1  0           []                               \n",
      "                                )]                                                                \n",
      "                                                                                                  \n",
      " conv1d_2238 (Conv1D)           (None, 115, 9)       171         ['conv1d_2237[0][0]']            \n",
      "                                                                                                  \n",
      " conv2d_3801 (Conv2D)           (None, 120, 313, 32  832         ['mel[0][0]']                    \n",
      "                                )                                                                 \n",
      "                                                                                                  \n",
      " conv2d_3802 (Conv2D)           (None, 120, 313, 32  832         ['mel[0][0]']                    \n",
      "                                )                                                                 \n",
      "                                                                                                  \n",
      " conv1d_2239 (Conv1D)           (None, 115, 9)       171         ['conv1d_2238[0][0]']            \n",
      "                                                                                                  \n",
      " maximum_1800 (Maximum)         (None, 120, 313, 32  0           ['conv2d_3801[0][0]',            \n",
      "                                )                                 'conv2d_3802[0][0]']            \n",
      "                                                                                                  \n",
      " conv1d_2240 (Conv1D)           (None, 115, 9)       171         ['conv1d_2239[0][0]']            \n",
      "                                                                                                  \n",
      " max_pooling2d_800 (MaxPooling2  (None, 60, 157, 32)  0          ['maximum_1800[0][0]']           \n",
      " D)                                                                                               \n",
      "                                                                                                  \n",
      " conv1d_2241 (Conv1D)           (None, 115, 9)       171         ['conv1d_2240[0][0]']            \n",
      "                                                                                                  \n",
      " conv2d_3803 (Conv2D)           (None, 60, 157, 32)  1056        ['max_pooling2d_800[0][0]']      \n",
      "                                                                                                  \n",
      " conv2d_3804 (Conv2D)           (None, 60, 157, 32)  1056        ['max_pooling2d_800[0][0]']      \n",
      "                                                                                                  \n",
      " conv1d_2242 (Conv1D)           (None, 115, 9)       171         ['conv1d_2241[0][0]']            \n",
      "                                                                                                  \n",
      " maximum_1801 (Maximum)         (None, 60, 157, 32)  0           ['conv2d_3803[0][0]',            \n",
      "                                                                  'conv2d_3804[0][0]']            \n",
      "                                                                                                  \n",
      " conv1d_2243 (Conv1D)           (None, 115, 9)       171         ['conv1d_2242[0][0]']            \n",
      "                                                                                                  \n",
      " batch_normalization_1200 (Batc  (None, 60, 157, 32)  96         ['maximum_1801[0][0]']           \n",
      " hNormalization)                                                                                  \n",
      "                                                                                                  \n",
      " conv1d_2244 (Conv1D)           (None, 115, 9)       171         ['conv1d_2243[0][0]']            \n",
      "                                                                                                  \n",
      " conv2d_3805 (Conv2D)           (None, 60, 157, 48)  13872       ['batch_normalization_1200[0][0]'\n",
      "                                                                 ]                                \n",
      "                                                                                                  \n",
      " conv2d_3806 (Conv2D)           (None, 60, 157, 48)  13872       ['batch_normalization_1200[0][0]'\n",
      "                                                                 ]                                \n",
      "                                                                                                  \n",
      " conv1d_2245 (Conv1D)           (None, 115, 9)       171         ['conv1d_2244[0][0]']            \n",
      "                                                                                                  \n",
      " maximum_1802 (Maximum)         (None, 60, 157, 48)  0           ['conv2d_3805[0][0]',            \n",
      "                                                                  'conv2d_3806[0][0]']            \n",
      "                                                                                                  \n",
      " conv1d_2246 (Conv1D)           (None, 115, 9)       171         ['conv1d_2245[0][0]']            \n",
      "                                                                                                  \n",
      " max_pooling2d_801 (MaxPooling2  (None, 30, 79, 48)  0           ['maximum_1802[0][0]']           \n",
      " D)                                                                                               \n",
      "                                                                                                  \n",
      " conv1d_2247 (Conv1D)           (None, 115, 9)       171         ['conv1d_2246[0][0]']            \n",
      "                                                                                                  \n",
      " batch_normalization_1201 (Batc  (None, 30, 79, 48)  144         ['max_pooling2d_801[0][0]']      \n",
      " hNormalization)                                                                                  \n",
      "                                                                                                  \n",
      " conv1d_2248 (Conv1D)           (None, 115, 9)       171         ['conv1d_2247[0][0]']            \n",
      "                                                                                                  \n",
      " conv2d_3807 (Conv2D)           (None, 30, 79, 48)   2352        ['batch_normalization_1201[0][0]'\n",
      "                                                                 ]                                \n",
      "                                                                                                  \n",
      " conv2d_3808 (Conv2D)           (None, 30, 79, 48)   2352        ['batch_normalization_1201[0][0]'\n",
      "                                                                 ]                                \n",
      "                                                                                                  \n"
     ]
    },
    {
     "name": "stdout",
     "output_type": "stream",
     "text": [
      " conv1d_2249 (Conv1D)           (None, 115, 9)       171         ['conv1d_2248[0][0]']            \n",
      "                                                                                                  \n",
      " maximum_1803 (Maximum)         (None, 30, 79, 48)   0           ['conv2d_3807[0][0]',            \n",
      "                                                                  'conv2d_3808[0][0]']            \n",
      "                                                                                                  \n",
      " conv1d_2250 (Conv1D)           (None, 115, 9)       171         ['conv1d_2249[0][0]']            \n",
      "                                                                                                  \n",
      " batch_normalization_1202 (Batc  (None, 30, 79, 48)  144         ['maximum_1803[0][0]']           \n",
      " hNormalization)                                                                                  \n",
      "                                                                                                  \n",
      " conv1d_2251 (Conv1D)           (None, 115, 9)       171         ['conv1d_2250[0][0]']            \n",
      "                                                                                                  \n",
      " conv2d_3809 (Conv2D)           (None, 30, 79, 64)   27712       ['batch_normalization_1202[0][0]'\n",
      "                                                                 ]                                \n",
      "                                                                                                  \n",
      " conv2d_3810 (Conv2D)           (None, 30, 79, 64)   27712       ['batch_normalization_1202[0][0]'\n",
      "                                                                 ]                                \n",
      "                                                                                                  \n",
      " conv1d_2252 (Conv1D)           (None, 115, 9)       171         ['conv1d_2251[0][0]']            \n",
      "                                                                                                  \n",
      " maximum_1804 (Maximum)         (None, 30, 79, 64)   0           ['conv2d_3809[0][0]',            \n",
      "                                                                  'conv2d_3810[0][0]']            \n",
      "                                                                                                  \n",
      " conv1d_2253 (Conv1D)           (None, 115, 9)       171         ['conv1d_2252[0][0]']            \n",
      "                                                                                                  \n",
      " max_pooling2d_802 (MaxPooling2  (None, 15, 40, 64)  0           ['maximum_1804[0][0]']           \n",
      " D)                                                                                               \n",
      "                                                                                                  \n",
      " conv1d_2254 (Conv1D)           (None, 115, 9)       171         ['conv1d_2253[0][0]']            \n",
      "                                                                                                  \n",
      " conv2d_3811 (Conv2D)           (None, 15, 40, 64)   4160        ['max_pooling2d_802[0][0]']      \n",
      "                                                                                                  \n",
      " conv2d_3812 (Conv2D)           (None, 15, 40, 64)   4160        ['max_pooling2d_802[0][0]']      \n",
      "                                                                                                  \n",
      " conv1d_2255 (Conv1D)           (None, 115, 9)       171         ['conv1d_2254[0][0]']            \n",
      "                                                                                                  \n",
      " maximum_1805 (Maximum)         (None, 15, 40, 64)   0           ['conv2d_3811[0][0]',            \n",
      "                                                                  'conv2d_3812[0][0]']            \n",
      "                                                                                                  \n",
      " conv1d_2256 (Conv1D)           (None, 115, 9)       171         ['conv1d_2255[0][0]']            \n",
      "                                                                                                  \n",
      " batch_normalization_1203 (Batc  (None, 15, 40, 64)  192         ['maximum_1805[0][0]']           \n",
      " hNormalization)                                                                                  \n",
      "                                                                                                  \n",
      " conv1d_2257 (Conv1D)           (None, 115, 9)       171         ['conv1d_2256[0][0]']            \n",
      "                                                                                                  \n",
      " conv2d_3813 (Conv2D)           (None, 15, 40, 32)   18464       ['batch_normalization_1203[0][0]'\n",
      "                                                                 ]                                \n",
      "                                                                                                  \n",
      " conv2d_3814 (Conv2D)           (None, 15, 40, 32)   18464       ['batch_normalization_1203[0][0]'\n",
      "                                                                 ]                                \n",
      "                                                                                                  \n",
      " conv1d_2258 (Conv1D)           (None, 115, 9)       171         ['conv1d_2257[0][0]']            \n",
      "                                                                                                  \n",
      " maximum_1806 (Maximum)         (None, 15, 40, 32)   0           ['conv2d_3813[0][0]',            \n",
      "                                                                  'conv2d_3814[0][0]']            \n",
      "                                                                                                  \n",
      " conv1d_2259 (Conv1D)           (None, 115, 9)       171         ['conv1d_2258[0][0]']            \n",
      "                                                                                                  \n",
      " batch_normalization_1204 (Batc  (None, 15, 40, 32)  96          ['maximum_1806[0][0]']           \n",
      " hNormalization)                                                                                  \n",
      "                                                                                                  \n",
      " conv1d_2260 (Conv1D)           (None, 115, 9)       171         ['conv1d_2259[0][0]']            \n",
      "                                                                                                  \n",
      " conv2d_3815 (Conv2D)           (None, 15, 40, 32)   1056        ['batch_normalization_1204[0][0]'\n",
      "                                                                 ]                                \n",
      "                                                                                                  \n",
      " conv2d_3816 (Conv2D)           (None, 15, 40, 32)   1056        ['batch_normalization_1204[0][0]'\n",
      "                                                                 ]                                \n",
      "                                                                                                  \n",
      " conv1d_2261 (Conv1D)           (None, 115, 9)       171         ['conv1d_2260[0][0]']            \n",
      "                                                                                                  \n",
      " maximum_1807 (Maximum)         (None, 15, 40, 32)   0           ['conv2d_3815[0][0]',            \n",
      "                                                                  'conv2d_3816[0][0]']            \n",
      "                                                                                                  \n",
      " conv1d_2262 (Conv1D)           (None, 115, 9)       171         ['conv1d_2261[0][0]']            \n",
      "                                                                                                  \n",
      " batch_normalization_1205 (Batc  (None, 15, 40, 32)  96          ['maximum_1807[0][0]']           \n",
      " hNormalization)                                                                                  \n",
      "                                                                                                  \n",
      " conv1d_2263 (Conv1D)           (None, 115, 9)       171         ['conv1d_2262[0][0]']            \n",
      "                                                                                                  \n",
      " conv2d_3817 (Conv2D)           (None, 15, 40, 32)   1056        ['batch_normalization_1205[0][0]'\n"
     ]
    },
    {
     "name": "stdout",
     "output_type": "stream",
     "text": [
      "                                                                 ]                                \n",
      "                                                                                                  \n",
      " conv2d_3818 (Conv2D)           (None, 15, 40, 32)   1056        ['batch_normalization_1205[0][0]'\n",
      "                                                                 ]                                \n",
      "                                                                                                  \n",
      " conv1d_2264 (Conv1D)           (None, 115, 9)       171         ['conv1d_2263[0][0]']            \n",
      "                                                                                                  \n",
      " maximum_1808 (Maximum)         (None, 15, 40, 32)   0           ['conv2d_3817[0][0]',            \n",
      "                                                                  'conv2d_3818[0][0]']            \n",
      "                                                                                                  \n",
      " age_cat (InputLayer)           [(None, 6)]          0           []                               \n",
      "                                                                                                  \n",
      " sex_cat (InputLayer)           [(None, 2)]          0           []                               \n",
      "                                                                                                  \n",
      " height_weight (InputLayer)     [(None, 2)]          0           []                               \n",
      "                                                                                                  \n",
      " loc (InputLayer)               [(None, 5)]          0           []                               \n",
      "                                                                                                  \n",
      " conv1d_2265 (Conv1D)           (None, 115, 9)       171         ['conv1d_2264[0][0]']            \n",
      "                                                                                                  \n",
      " max_pooling2d_803 (MaxPooling2  (None, 7, 20, 32)   0           ['maximum_1808[0][0]']           \n",
      " D)                                                                                               \n",
      "                                                                                                  \n",
      " dense_1200 (Dense)             (None, 2)            14          ['age_cat[0][0]']                \n",
      "                                                                                                  \n",
      " dense_1201 (Dense)             (None, 1)            3           ['sex_cat[0][0]']                \n",
      "                                                                                                  \n",
      " dense_1202 (Dense)             (None, 1)            3           ['height_weight[0][0]']          \n",
      "                                                                                                  \n",
      " dense_1203 (Dense)             (None, 3)            18          ['loc[0][0]']                    \n",
      "                                                                                                  \n",
      " global_max_pooling1d_200 (Glob  (None, 9)           0           ['conv1d_2265[0][0]']            \n",
      " alMaxPooling1D)                                                                                  \n",
      "                                                                                                  \n",
      " is_preg (InputLayer)           [(None, 1)]          0           []                               \n",
      "                                                                                                  \n",
      " wav2 (InputLayer)              [(None, 224, 224, 1  0           []                               \n",
      "                                )]                                                                \n",
      "                                                                                                  \n",
      " global_average_pooling2d_200 (  (None, 32)          0           ['max_pooling2d_803[0][0]']      \n",
      " GlobalAveragePooling2D)                                                                          \n",
      "                                                                                                  \n",
      " concatenate_400 (Concatenate)  (None, 17)           0           ['dense_1200[0][0]',             \n",
      "                                                                  'dense_1201[0][0]',             \n",
      "                                                                  'dense_1202[0][0]',             \n",
      "                                                                  'dense_1203[0][0]',             \n",
      "                                                                  'global_max_pooling1d_200[0][0]'\n",
      "                                                                 , 'is_preg[0][0]']               \n",
      "                                                                                                  \n",
      " conv2d_3800 (Conv2D)           (None, 224, 224, 3)  30          ['wav2[0][0]']                   \n",
      "                                                                                                  \n",
      " dropout_5438 (Dropout)         (None, 32)           0           ['global_average_pooling2d_200[0]\n",
      "                                                                 [0]']                            \n",
      "                                                                                                  \n",
      " dense_1204 (Dense)             (None, 10)           180         ['concatenate_400[0][0]']        \n",
      "                                                                                                  \n",
      " mobilenet_1.00_224 (Functional  (None, 1024)        3228864     ['conv2d_3800[0][0]']            \n",
      " )                                                                                                \n",
      "                                                                                                  \n",
      " concatenate_401 (Concatenate)  (None, 1066)         0           ['dropout_5438[0][0]',           \n",
      "                                                                  'dense_1204[0][0]',             \n",
      "                                                                  'mobilenet_1.00_224[0][0]']     \n",
      "                                                                                                  \n",
      " stft (InputLayer)              [(None, 1, 1, 1)]    0           []                               \n",
      "                                                                                                  \n",
      " cqt (InputLayer)               [(None, 1, 1, 1)]    0           []                               \n",
      "                                                                                                  \n",
      " dense_1205 (Dense)             (None, 2)            2134        ['concatenate_401[0][0]']        \n",
      "                                                                                                  \n",
      "==================================================================================================\n",
      "Total params: 3,378,633\n",
      "Trainable params: 3,356,233\n",
      "Non-trainable params: 22,400\n",
      "__________________________________________________________________________________________________\n"
     ]
    }
   ],
   "source": [
    "model2.summary()"
   ]
  },
  {
   "cell_type": "code",
   "execution_count": null,
   "id": "222b2f6f",
   "metadata": {},
   "outputs": [],
   "source": []
  },
  {
   "cell_type": "code",
   "execution_count": null,
   "id": "48bbf746",
   "metadata": {},
   "outputs": [],
   "source": []
  },
  {
   "cell_type": "code",
   "execution_count": 149,
   "id": "57a145f2",
   "metadata": {
    "scrolled": false
   },
   "outputs": [
    {
     "name": "stdout",
     "output_type": "stream",
     "text": [
      "Epoch 1/100\n",
      "40/40 [==============================] - 16s 306ms/step - loss: 3.2151 - accuracy: 0.5926 - auc: 0.6407 - val_loss: 5.1246 - val_accuracy: 0.7892 - val_auc: 0.7915 - lr: 9.9851e-04\n",
      "Epoch 2/100\n",
      "40/40 [==============================] - 11s 282ms/step - loss: 2.4350 - accuracy: 0.6105 - auc: 0.6527 - val_loss: 4.3216 - val_accuracy: 0.7892 - val_auc: 0.7915 - lr: 9.9831e-04\n",
      "Epoch 3/100\n",
      "40/40 [==============================] - 11s 283ms/step - loss: 1.7847 - accuracy: 0.6379 - auc: 0.6901 - val_loss: 1.7048 - val_accuracy: 0.7908 - val_auc: 0.8159 - lr: 9.9807e-04\n",
      "Epoch 4/100\n",
      "40/40 [==============================] - 11s 283ms/step - loss: 1.3519 - accuracy: 0.6668 - auc: 0.7199 - val_loss: 0.7069 - val_accuracy: 0.8019 - val_auc: 0.8688 - lr: 9.9781e-04\n",
      "Epoch 5/100\n",
      "40/40 [==============================] - 11s 282ms/step - loss: 1.3300 - accuracy: 0.6551 - auc: 0.7139 - val_loss: 0.7628 - val_accuracy: 0.7892 - val_auc: 0.8555 - lr: 9.9750e-04\n",
      "Epoch 6/100\n",
      "40/40 [==============================] - 11s 283ms/step - loss: 1.1537 - accuracy: 0.6727 - auc: 0.7434 - val_loss: 0.6261 - val_accuracy: 0.6910 - val_auc: 0.7691 - lr: 9.9716e-04\n",
      "Epoch 7/100\n",
      "40/40 [==============================] - 11s 284ms/step - loss: 1.1109 - accuracy: 0.6664 - auc: 0.7497 - val_loss: 0.7014 - val_accuracy: 0.5895 - val_auc: 0.6194 - lr: 9.9676e-04\n",
      "Epoch 8/100\n",
      "40/40 [==============================] - 11s 286ms/step - loss: 1.0409 - accuracy: 0.6992 - auc: 0.7684 - val_loss: 0.4468 - val_accuracy: 0.8177 - val_auc: 0.8881 - lr: 9.9632e-04\n",
      "Epoch 9/100\n",
      "40/40 [==============================] - 11s 285ms/step - loss: 1.2672 - accuracy: 0.6559 - auc: 0.7418 - val_loss: 0.4698 - val_accuracy: 0.8510 - val_auc: 0.9049 - lr: 9.9581e-04\n",
      "Epoch 10/100\n",
      "40/40 [==============================] - 11s 285ms/step - loss: 1.4870 - accuracy: 0.6477 - auc: 0.7269 - val_loss: 0.5157 - val_accuracy: 0.8003 - val_auc: 0.8915 - lr: 9.9523e-04\n",
      "Epoch 11/100\n",
      "40/40 [==============================] - 11s 285ms/step - loss: 1.0237 - accuracy: 0.7039 - auc: 0.7882 - val_loss: 0.5812 - val_accuracy: 0.7940 - val_auc: 0.8494 - lr: 9.9457e-04\n",
      "Epoch 12/100\n",
      "40/40 [==============================] - 11s 286ms/step - loss: 1.0559 - accuracy: 0.6953 - auc: 0.7726 - val_loss: 0.4471 - val_accuracy: 0.7829 - val_auc: 0.8851 - lr: 9.9382e-04\n",
      "Epoch 13/100\n",
      "40/40 [==============================] - 11s 286ms/step - loss: 1.0154 - accuracy: 0.7102 - auc: 0.7884 - val_loss: 0.3655 - val_accuracy: 0.8590 - val_auc: 0.9264 - lr: 9.9297e-04\n",
      "Epoch 14/100\n",
      "40/40 [==============================] - 11s 288ms/step - loss: 0.9657 - accuracy: 0.7223 - auc: 0.7965 - val_loss: 0.4902 - val_accuracy: 0.7987 - val_auc: 0.8922 - lr: 9.9200e-04\n",
      "Epoch 15/100\n",
      "40/40 [==============================] - 11s 286ms/step - loss: 0.8631 - accuracy: 0.7762 - auc: 0.8436 - val_loss: 0.4518 - val_accuracy: 0.8067 - val_auc: 0.8841 - lr: 9.9090e-04\n",
      "Epoch 16/100\n",
      "40/40 [==============================] - 11s 284ms/step - loss: 0.9341 - accuracy: 0.7434 - auc: 0.8249 - val_loss: 0.5764 - val_accuracy: 0.8098 - val_auc: 0.9015 - lr: 9.8965e-04\n",
      "Epoch 17/100\n",
      "40/40 [==============================] - 11s 285ms/step - loss: 1.1144 - accuracy: 0.6883 - auc: 0.7623 - val_loss: 0.6170 - val_accuracy: 0.6688 - val_auc: 0.7097 - lr: 9.8823e-04\n",
      "Epoch 18/100\n",
      "40/40 [==============================] - 11s 286ms/step - loss: 1.0710 - accuracy: 0.6629 - auc: 0.7621 - val_loss: 0.3940 - val_accuracy: 0.8304 - val_auc: 0.9099 - lr: 9.8662e-04\n",
      "Epoch 19/100\n",
      "40/40 [==============================] - 12s 294ms/step - loss: 0.8652 - accuracy: 0.7590 - auc: 0.8414 - val_loss: 0.4477 - val_accuracy: 0.8035 - val_auc: 0.8949 - lr: 9.8479e-04\n",
      "Epoch 20/100\n",
      "40/40 [==============================] - 12s 295ms/step - loss: 0.9041 - accuracy: 0.7668 - auc: 0.8347 - val_loss: 0.6368 - val_accuracy: 0.6276 - val_auc: 0.6850 - lr: 9.8271e-04\n",
      "Epoch 21/100\n",
      "40/40 [==============================] - 11s 284ms/step - loss: 0.9252 - accuracy: 0.7609 - auc: 0.8267 - val_loss: 0.3897 - val_accuracy: 0.8304 - val_auc: 0.9107 - lr: 9.8036e-04\n",
      "Epoch 22/100\n",
      "40/40 [==============================] - 11s 285ms/step - loss: 0.8854 - accuracy: 0.7699 - auc: 0.8408 - val_loss: 0.3589 - val_accuracy: 0.8796 - val_auc: 0.9198 - lr: 9.7769e-04\n",
      "Epoch 23/100\n",
      "40/40 [==============================] - 11s 286ms/step - loss: 0.9684 - accuracy: 0.7191 - auc: 0.7994 - val_loss: 0.5550 - val_accuracy: 0.8019 - val_auc: 0.8924 - lr: 9.7468e-04\n",
      "Epoch 24/100\n",
      "40/40 [==============================] - 11s 283ms/step - loss: 0.9551 - accuracy: 0.7281 - auc: 0.8199 - val_loss: 0.4162 - val_accuracy: 0.8384 - val_auc: 0.9167 - lr: 9.7126e-04\n",
      "Epoch 25/100\n",
      "40/40 [==============================] - 11s 286ms/step - loss: 0.8791 - accuracy: 0.7605 - auc: 0.8340 - val_loss: 1.0490 - val_accuracy: 0.2377 - val_auc: 0.3366 - lr: 9.6740e-04\n",
      "Epoch 26/100\n",
      "40/40 [==============================] - 11s 286ms/step - loss: 0.9235 - accuracy: 0.7480 - auc: 0.8318 - val_loss: 0.3846 - val_accuracy: 0.8764 - val_auc: 0.9374 - lr: 9.6305e-04\n",
      "Epoch 27/100\n",
      "40/40 [==============================] - 12s 292ms/step - loss: 1.0274 - accuracy: 0.7004 - auc: 0.7895 - val_loss: 0.3952 - val_accuracy: 0.8384 - val_auc: 0.9142 - lr: 9.5813e-04\n",
      "Epoch 28/100\n",
      "40/40 [==============================] - 12s 290ms/step - loss: 0.8400 - accuracy: 0.7867 - auc: 0.8593 - val_loss: 0.4414 - val_accuracy: 0.8463 - val_auc: 0.9256 - lr: 9.5260e-04\n",
      "Epoch 29/100\n",
      "40/40 [==============================] - 11s 285ms/step - loss: 0.8613 - accuracy: 0.7512 - auc: 0.8406 - val_loss: 0.9179 - val_accuracy: 0.3835 - val_auc: 0.4138 - lr: 9.4637e-04\n",
      "Epoch 30/100\n",
      "40/40 [==============================] - 11s 286ms/step - loss: 0.9150 - accuracy: 0.7590 - auc: 0.8368 - val_loss: 0.4005 - val_accuracy: 0.8177 - val_auc: 0.9092 - lr: 9.3939e-04\n",
      "Epoch 31/100\n",
      "40/40 [==============================] - 11s 286ms/step - loss: 0.8451 - accuracy: 0.7902 - auc: 0.8541 - val_loss: 0.7824 - val_accuracy: 0.4263 - val_auc: 0.4470 - lr: 9.3155e-04\n",
      "Epoch 32/100\n",
      "40/40 [==============================] - 11s 284ms/step - loss: 0.8616 - accuracy: 0.7723 - auc: 0.8600 - val_loss: 0.5128 - val_accuracy: 0.7765 - val_auc: 0.8476 - lr: 9.2279e-04\n",
      "Epoch 33/100\n",
      "40/40 [==============================] - 12s 290ms/step - loss: 0.8405 - accuracy: 0.7863 - auc: 0.8597 - val_loss: 0.3577 - val_accuracy: 0.8796 - val_auc: 0.9171 - lr: 9.1301e-04\n",
      "Epoch 34/100\n",
      "40/40 [==============================] - 11s 286ms/step - loss: 0.8629 - accuracy: 0.7703 - auc: 0.8461 - val_loss: 0.4862 - val_accuracy: 0.8019 - val_auc: 0.8834 - lr: 9.0213e-04\n",
      "Epoch 35/100\n",
      "40/40 [==============================] - 11s 287ms/step - loss: 0.8744 - accuracy: 0.7594 - auc: 0.8432 - val_loss: 0.5950 - val_accuracy: 0.6767 - val_auc: 0.7390 - lr: 8.9005e-04\n",
      "Epoch 36/100\n",
      "40/40 [==============================] - 11s 286ms/step - loss: 0.9382 - accuracy: 0.7441 - auc: 0.8157 - val_loss: 0.7933 - val_accuracy: 0.5024 - val_auc: 0.5129 - lr: 8.7669e-04\n",
      "Epoch 37/100\n",
      "40/40 [==============================] - 11s 286ms/step - loss: 0.9510 - accuracy: 0.7250 - auc: 0.8115 - val_loss: 0.4668 - val_accuracy: 0.7940 - val_auc: 0.8765 - lr: 8.6196e-04\n",
      "Epoch 38/100\n",
      "40/40 [==============================] - 12s 291ms/step - loss: 0.8325 - accuracy: 0.7977 - auc: 0.8668 - val_loss: 0.3558 - val_accuracy: 0.8653 - val_auc: 0.9275 - lr: 8.4578e-04\n",
      "Epoch 39/100\n",
      "40/40 [==============================] - 11s 285ms/step - loss: 0.8350 - accuracy: 0.7863 - auc: 0.8640 - val_loss: 0.3302 - val_accuracy: 0.8954 - val_auc: 0.9406 - lr: 8.2809e-04\n",
      "Epoch 40/100\n",
      "40/40 [==============================] - 12s 298ms/step - loss: 0.9045 - accuracy: 0.7461 - auc: 0.8371 - val_loss: 0.3630 - val_accuracy: 0.8748 - val_auc: 0.9256 - lr: 8.0883e-04\n",
      "Epoch 41/100\n",
      "40/40 [==============================] - 11s 286ms/step - loss: 0.9499 - accuracy: 0.7301 - auc: 0.8235 - val_loss: 0.5864 - val_accuracy: 0.7052 - val_auc: 0.7572 - lr: 7.8798e-04\n",
      "Epoch 42/100\n",
      "40/40 [==============================] - 11s 285ms/step - loss: 1.0221 - accuracy: 0.7016 - auc: 0.8007 - val_loss: 0.3796 - val_accuracy: 0.8542 - val_auc: 0.9284 - lr: 7.6551e-04\n",
      "Epoch 43/100\n"
     ]
    },
    {
     "name": "stdout",
     "output_type": "stream",
     "text": [
      "40/40 [==============================] - 11s 286ms/step - loss: 0.9087 - accuracy: 0.7430 - auc: 0.8249 - val_loss: 0.4177 - val_accuracy: 0.8605 - val_auc: 0.9147 - lr: 7.4146e-04\n",
      "Epoch 44/100\n",
      "40/40 [==============================] - 12s 289ms/step - loss: 0.8866 - accuracy: 0.7426 - auc: 0.8283 - val_loss: 0.4384 - val_accuracy: 0.8114 - val_auc: 0.8838 - lr: 7.1587e-04\n",
      "Epoch 45/100\n",
      "40/40 [==============================] - 11s 287ms/step - loss: 0.9316 - accuracy: 0.7426 - auc: 0.8277 - val_loss: 0.3874 - val_accuracy: 0.8352 - val_auc: 0.9153 - lr: 6.8882e-04\n",
      "Epoch 46/100\n",
      "40/40 [==============================] - 11s 285ms/step - loss: 0.7980 - accuracy: 0.7988 - auc: 0.8726 - val_loss: 0.3335 - val_accuracy: 0.8906 - val_auc: 0.9296 - lr: 6.6044e-04\n",
      "Epoch 47/100\n",
      "40/40 [==============================] - 11s 285ms/step - loss: 0.8614 - accuracy: 0.7719 - auc: 0.8607 - val_loss: 0.4811 - val_accuracy: 0.7892 - val_auc: 0.8836 - lr: 6.3088e-04\n",
      "Epoch 48/100\n",
      "40/40 [==============================] - 12s 302ms/step - loss: 0.8246 - accuracy: 0.7750 - auc: 0.8683 - val_loss: 0.4100 - val_accuracy: 0.8542 - val_auc: 0.9315 - lr: 6.0032e-04\n",
      "Epoch 49/100\n",
      "40/40 [==============================] - 12s 291ms/step - loss: 0.8548 - accuracy: 0.7750 - auc: 0.8562 - val_loss: 0.3808 - val_accuracy: 0.8970 - val_auc: 0.9261 - lr: 5.6899e-04\n",
      "Epoch 50/100\n",
      "40/40 [==============================] - 11s 284ms/step - loss: 0.8183 - accuracy: 0.7934 - auc: 0.8753 - val_loss: 0.4875 - val_accuracy: 0.8003 - val_auc: 0.8784 - lr: 5.3713e-04\n",
      "Epoch 51/100\n",
      "40/40 [==============================] - 11s 285ms/step - loss: 0.8099 - accuracy: 0.8141 - auc: 0.8753 - val_loss: 0.3845 - val_accuracy: 0.8494 - val_auc: 0.9313 - lr: 5.0500e-04\n",
      "Epoch 52/100\n",
      "40/40 [==============================] - 12s 289ms/step - loss: 0.8522 - accuracy: 0.7637 - auc: 0.8549 - val_loss: 0.3897 - val_accuracy: 0.8732 - val_auc: 0.9318 - lr: 4.7287e-04\n",
      "Epoch 53/100\n",
      "40/40 [==============================] - 12s 293ms/step - loss: 0.9374 - accuracy: 0.7328 - auc: 0.8308 - val_loss: 0.4532 - val_accuracy: 0.8130 - val_auc: 0.8846 - lr: 4.4101e-04\n",
      "Epoch 54/100\n",
      "40/40 [==============================] - 12s 293ms/step - loss: 0.8115 - accuracy: 0.8004 - auc: 0.8765 - val_loss: 0.3767 - val_accuracy: 0.8748 - val_auc: 0.9391 - lr: 4.0968e-04\n",
      "Epoch 55/100\n",
      "40/40 [==============================] - 12s 290ms/step - loss: 0.7937 - accuracy: 0.8133 - auc: 0.8869 - val_loss: 0.3538 - val_accuracy: 0.8875 - val_auc: 0.9459 - lr: 3.7912e-04\n",
      "Epoch 56/100\n",
      "40/40 [==============================] - 11s 285ms/step - loss: 0.7735 - accuracy: 0.8207 - auc: 0.8905 - val_loss: 0.3441 - val_accuracy: 0.8732 - val_auc: 0.9299 - lr: 3.4956e-04\n",
      "Epoch 57/100\n",
      "40/40 [==============================] - 11s 286ms/step - loss: 0.8075 - accuracy: 0.8074 - auc: 0.8797 - val_loss: 0.3686 - val_accuracy: 0.8827 - val_auc: 0.9440 - lr: 3.2118e-04\n",
      "Epoch 58/100\n",
      "40/40 [==============================] - 11s 286ms/step - loss: 0.7815 - accuracy: 0.8160 - auc: 0.8912 - val_loss: 0.3985 - val_accuracy: 0.8780 - val_auc: 0.9377 - lr: 2.9413e-04\n",
      "Epoch 59/100\n",
      "40/40 [==============================] - 11s 287ms/step - loss: 0.7857 - accuracy: 0.8082 - auc: 0.8881 - val_loss: 0.3353 - val_accuracy: 0.8906 - val_auc: 0.9332 - lr: 2.6854e-04\n",
      "Epoch 60/100\n",
      "40/40 [==============================] - 11s 285ms/step - loss: 0.7599 - accuracy: 0.8273 - auc: 0.8990 - val_loss: 0.3723 - val_accuracy: 0.8859 - val_auc: 0.9405 - lr: 2.4449e-04\n",
      "Epoch 61/100\n",
      "40/40 [==============================] - 12s 294ms/step - loss: 0.7883 - accuracy: 0.8156 - auc: 0.8867 - val_loss: 0.3289 - val_accuracy: 0.8906 - val_auc: 0.9386 - lr: 2.2202e-04\n",
      "Epoch 62/100\n",
      "40/40 [==============================] - 12s 293ms/step - loss: 0.7827 - accuracy: 0.8160 - auc: 0.8947 - val_loss: 0.3645 - val_accuracy: 0.8891 - val_auc: 0.9416 - lr: 2.0117e-04\n",
      "Epoch 63/100\n",
      "40/40 [==============================] - 11s 287ms/step - loss: 0.7634 - accuracy: 0.8219 - auc: 0.8930 - val_loss: 0.3912 - val_accuracy: 0.8748 - val_auc: 0.9390 - lr: 1.8191e-04\n",
      "Epoch 64/100\n",
      "40/40 [==============================] - 11s 286ms/step - loss: 0.7819 - accuracy: 0.8043 - auc: 0.8855 - val_loss: 0.3218 - val_accuracy: 0.8986 - val_auc: 0.9422 - lr: 1.6422e-04\n",
      "Epoch 65/100\n",
      "40/40 [==============================] - 11s 284ms/step - loss: 0.7508 - accuracy: 0.8242 - auc: 0.8950 - val_loss: 0.3253 - val_accuracy: 0.9002 - val_auc: 0.9433 - lr: 1.4804e-04\n",
      "Epoch 66/100\n",
      "40/40 [==============================] - 11s 287ms/step - loss: 0.7499 - accuracy: 0.8344 - auc: 0.9051 - val_loss: 0.3516 - val_accuracy: 0.8970 - val_auc: 0.9480 - lr: 1.3331e-04\n",
      "Epoch 67/100\n",
      "40/40 [==============================] - 12s 295ms/step - loss: 0.8035 - accuracy: 0.8098 - auc: 0.8913 - val_loss: 0.4244 - val_accuracy: 0.8574 - val_auc: 0.9307 - lr: 1.1995e-04\n",
      "Epoch 68/100\n",
      "40/40 [==============================] - 12s 289ms/step - loss: 0.7546 - accuracy: 0.8223 - auc: 0.8966 - val_loss: 0.3218 - val_accuracy: 0.9002 - val_auc: 0.9451 - lr: 1.0787e-04\n",
      "Epoch 69/100\n",
      "40/40 [==============================] - 11s 286ms/step - loss: 0.7841 - accuracy: 0.8043 - auc: 0.8950 - val_loss: 0.3647 - val_accuracy: 0.8954 - val_auc: 0.9439 - lr: 9.6985e-05\n",
      "Epoch 70/100\n",
      "40/40 [==============================] - 12s 288ms/step - loss: 0.7939 - accuracy: 0.8125 - auc: 0.8879 - val_loss: 0.4657 - val_accuracy: 0.8241 - val_auc: 0.8832 - lr: 8.7208e-05\n",
      "Epoch 71/100\n",
      "40/40 [==============================] - 12s 289ms/step - loss: 0.7390 - accuracy: 0.8293 - auc: 0.9016 - val_loss: 0.3472 - val_accuracy: 0.8986 - val_auc: 0.9462 - lr: 7.8447e-05\n",
      "Epoch 72/100\n",
      "40/40 [==============================] - 12s 288ms/step - loss: 0.7733 - accuracy: 0.8211 - auc: 0.8973 - val_loss: 0.3780 - val_accuracy: 0.8827 - val_auc: 0.9399 - lr: 7.0614e-05\n",
      "Epoch 73/100\n",
      "40/40 [==============================] - 11s 287ms/step - loss: 0.7477 - accuracy: 0.8273 - auc: 0.9042 - val_loss: 0.3752 - val_accuracy: 0.8811 - val_auc: 0.9422 - lr: 6.3625e-05\n",
      "Epoch 74/100\n",
      "40/40 [==============================] - 11s 287ms/step - loss: 0.7508 - accuracy: 0.8328 - auc: 0.9036 - val_loss: 0.4036 - val_accuracy: 0.8653 - val_auc: 0.9275 - lr: 5.7401e-05\n",
      "Epoch 75/100\n",
      "40/40 [==============================] - 11s 288ms/step - loss: 0.7674 - accuracy: 0.8145 - auc: 0.8996 - val_loss: 0.3381 - val_accuracy: 0.9033 - val_auc: 0.9456 - lr: 5.1867e-05\n",
      "Epoch 76/100\n",
      "40/40 [==============================] - 12s 298ms/step - loss: 0.7662 - accuracy: 0.8238 - auc: 0.9005 - val_loss: 0.3551 - val_accuracy: 0.8970 - val_auc: 0.9428 - lr: 4.6954e-05\n",
      "Epoch 77/100\n",
      "40/40 [==============================] - 12s 291ms/step - loss: 0.7831 - accuracy: 0.8168 - auc: 0.9018 - val_loss: 0.3622 - val_accuracy: 0.8827 - val_auc: 0.9437 - lr: 4.2597e-05\n",
      "Epoch 78/100\n",
      "40/40 [==============================] - 11s 287ms/step - loss: 0.7586 - accuracy: 0.8336 - auc: 0.9025 - val_loss: 0.3803 - val_accuracy: 0.8859 - val_auc: 0.9419 - lr: 3.8739e-05\n",
      "Epoch 79/100\n",
      "40/40 [==============================] - 12s 289ms/step - loss: 0.7741 - accuracy: 0.8223 - auc: 0.9075 - val_loss: 0.3824 - val_accuracy: 0.8827 - val_auc: 0.9419 - lr: 3.5325e-05\n",
      "Epoch 80/100\n",
      "40/40 [==============================] - 11s 285ms/step - loss: 0.7657 - accuracy: 0.8203 - auc: 0.9029 - val_loss: 0.3615 - val_accuracy: 0.8986 - val_auc: 0.9448 - lr: 3.2307e-05\n",
      "Epoch 81/100\n",
      "40/40 [==============================] - 11s 286ms/step - loss: 0.7493 - accuracy: 0.8348 - auc: 0.9056 - val_loss: 0.3505 - val_accuracy: 0.9002 - val_auc: 0.9449 - lr: 2.9642e-05\n",
      "Epoch 82/100\n",
      "40/40 [==============================] - 12s 289ms/step - loss: 0.7796 - accuracy: 0.8219 - auc: 0.9011 - val_loss: 0.3708 - val_accuracy: 0.8938 - val_auc: 0.9429 - lr: 2.7289e-05\n",
      "Epoch 83/100\n",
      "40/40 [==============================] - 12s 288ms/step - loss: 0.7431 - accuracy: 0.8332 - auc: 0.9103 - val_loss: 0.3425 - val_accuracy: 0.9002 - val_auc: 0.9426 - lr: 2.5214e-05\n",
      "Epoch 84/100\n",
      "40/40 [==============================] - 11s 287ms/step - loss: 0.7386 - accuracy: 0.8305 - auc: 0.9106 - val_loss: 0.3517 - val_accuracy: 0.8986 - val_auc: 0.9435 - lr: 2.3384e-05\n",
      "Epoch 85/100\n"
     ]
    },
    {
     "name": "stdout",
     "output_type": "stream",
     "text": [
      "40/40 [==============================] - 12s 288ms/step - loss: 0.7550 - accuracy: 0.8336 - auc: 0.9106 - val_loss: 0.3623 - val_accuracy: 0.8922 - val_auc: 0.9436 - lr: 2.1772e-05\n",
      "Epoch 86/100\n",
      "40/40 [==============================] - 12s 288ms/step - loss: 0.7309 - accuracy: 0.8313 - auc: 0.9079 - val_loss: 0.3532 - val_accuracy: 0.8954 - val_auc: 0.9451 - lr: 2.0352e-05\n",
      "Epoch 87/100\n",
      "40/40 [==============================] - 11s 284ms/step - loss: 0.7531 - accuracy: 0.8293 - auc: 0.9044 - val_loss: 0.3483 - val_accuracy: 0.8970 - val_auc: 0.9455 - lr: 1.9102e-05\n",
      "Epoch 88/100\n",
      "40/40 [==============================] - 12s 289ms/step - loss: 0.7374 - accuracy: 0.8250 - auc: 0.9059 - val_loss: 0.3443 - val_accuracy: 0.9002 - val_auc: 0.9458 - lr: 1.8001e-05\n",
      "Epoch 89/100\n",
      "40/40 [==============================] - 12s 292ms/step - loss: 0.7552 - accuracy: 0.8273 - auc: 0.9095 - val_loss: 0.3457 - val_accuracy: 0.8986 - val_auc: 0.9453 - lr: 1.7033e-05\n",
      "Epoch 90/100\n",
      "40/40 [==============================] - 11s 287ms/step - loss: 0.7647 - accuracy: 0.8156 - auc: 0.9039 - val_loss: 0.3614 - val_accuracy: 0.8922 - val_auc: 0.9443 - lr: 1.6181e-05\n",
      "Epoch 91/100\n",
      "40/40 [==============================] - 11s 287ms/step - loss: 0.7843 - accuracy: 0.8094 - auc: 0.9028 - val_loss: 0.3707 - val_accuracy: 0.8859 - val_auc: 0.9431 - lr: 1.5431e-05\n",
      "Epoch 92/100\n",
      "40/40 [==============================] - 11s 285ms/step - loss: 0.7580 - accuracy: 0.8301 - auc: 0.9072 - val_loss: 0.3676 - val_accuracy: 0.8891 - val_auc: 0.9440 - lr: 1.4773e-05\n",
      "Epoch 93/100\n",
      "40/40 [==============================] - 12s 289ms/step - loss: 0.7608 - accuracy: 0.8270 - auc: 0.9032 - val_loss: 0.3736 - val_accuracy: 0.8859 - val_auc: 0.9430 - lr: 1.4193e-05\n",
      "Epoch 94/100\n",
      "40/40 [==============================] - 11s 287ms/step - loss: 0.7526 - accuracy: 0.8297 - auc: 0.9022 - val_loss: 0.3623 - val_accuracy: 0.8875 - val_auc: 0.9450 - lr: 1.3684e-05\n",
      "Epoch 95/100\n",
      "40/40 [==============================] - 11s 285ms/step - loss: 0.7469 - accuracy: 0.8301 - auc: 0.9059 - val_loss: 0.3538 - val_accuracy: 0.8922 - val_auc: 0.9455 - lr: 1.3236e-05\n",
      "Epoch 96/100\n",
      "40/40 [==============================] - 11s 284ms/step - loss: 0.7563 - accuracy: 0.8250 - auc: 0.9142 - val_loss: 0.3720 - val_accuracy: 0.8843 - val_auc: 0.9436 - lr: 1.2843e-05\n",
      "Epoch 97/100\n",
      "40/40 [==============================] - 11s 287ms/step - loss: 0.7698 - accuracy: 0.8172 - auc: 0.9033 - val_loss: 0.3737 - val_accuracy: 0.8859 - val_auc: 0.9439 - lr: 1.2497e-05\n",
      "Epoch 98/100\n",
      "40/40 [==============================] - 11s 287ms/step - loss: 0.7647 - accuracy: 0.8250 - auc: 0.9047 - val_loss: 0.3536 - val_accuracy: 0.8954 - val_auc: 0.9449 - lr: 1.2193e-05\n",
      "Epoch 99/100\n",
      "40/40 [==============================] - 11s 286ms/step - loss: 0.7808 - accuracy: 0.8230 - auc: 0.9093 - val_loss: 0.3700 - val_accuracy: 0.8875 - val_auc: 0.9430 - lr: 1.1927e-05\n",
      "Epoch 100/100\n",
      "40/40 [==============================] - 12s 288ms/step - loss: 0.7838 - accuracy: 0.8137 - auc: 0.8978 - val_loss: 0.3756 - val_accuracy: 0.8875 - val_auc: 0.9421 - lr: 1.1692e-05\n"
     ]
    }
   ],
   "source": [
    "n_epoch = 100\n",
    "lr = LearningRateScheduler(lambda e: sigmoidal_decay(e, end=n_epoch))\n",
    "batch_size = 64\n",
    "\n",
    "if mixup :\n",
    "    beta_param = .7\n",
    "else :\n",
    "    beta_param = 0\n",
    "    \n",
    "\n",
    "\n",
    "params = {'batch_size': batch_size,\n",
    "          #          'input_shape': (100, 313, 1),\n",
    "          'shuffle': True,\n",
    "          'chaug': chaug,\n",
    "          'beta_param': beta_param,\n",
    "          'cout': cout\n",
    "#              'mixup': mixup,\n",
    "          #          'lowpass': [.5, [11,12,13,14,15,16,17,18]]\n",
    "          #          'highpass': [.5, [78,79,80,81,82,83,84,85]]\n",
    "#              'ranfilter2' : [3, [18,19,20,21,22,23]]\n",
    "          #           'dropblock' : [30, 100]\n",
    "          #'device' : device\n",
    "}\n",
    "\n",
    "if mixup :\n",
    "    params['mixup'] = mixup\n",
    "    params['ranfilter2'] = ranfil\n",
    "else :\n",
    "    params['cutout'] = cout\n",
    "\n",
    "params_no_shuffle = {'batch_size': batch_size,\n",
    "                     #          'input_shape': (100, 313, 1),\n",
    "                     'shuffle': False,\n",
    "                     'beta_param': 0.7,\n",
    "                     'mixup': False\n",
    "                     #'device': device\n",
    "}\n",
    "\n",
    "\n",
    "# TrainDGen_1 = Generator0([features_trn['age'],features_trn['sex'], features_trn['hw'], features_trn['preg'], features_trn['loc'],\n",
    "#             features_trn['interval'],features_trn['wav2'],features_trn['mel1'],features_trn['cqt1'],features_trn['stft1']], \n",
    "#            features_trn['mm_labels'],  ## our Y\n",
    "#                         **params)()\n",
    "\n",
    "\n",
    "# ValidDGen_1 = Generator0([features_test['age'],features_test['sex'], features_test['hw'], \n",
    "#                               features_test['preg'], features_test['loc'],features_test['interval'],\n",
    "#                               features_test['wav2'], features_test['mel1'],features_test['cqt1'],features_test['stft1']], \n",
    "#                              features_test['mm_labels'],  ## our Y\n",
    "                         \n",
    "#                          **params)()\n",
    "\n",
    "\n",
    "\n",
    "\n",
    "\n",
    "if ord1 :\n",
    "    class_weight = {0: mm_weight, 1: 1.}\n",
    "else :\n",
    "    class_weight = {0: mm_weight, 1: wunknown, 2:1.}\n",
    "\n",
    "    \n",
    "    \n",
    "    \n",
    "    \n",
    "\n",
    "if mixup :\n",
    "    \n",
    "    \n",
    "    TrainDGen_1 = Generator0([features_trn['age'],features_trn['sex'], features_trn['hw'], \n",
    "                              features_trn['preg'], features_trn['loc'],features_trn['interval'],\n",
    "                              features_trn['wav2'],features_trn['mel1'],features_trn['cqt1'],\n",
    "                              features_trn['stft1']],features_trn['mm_labels'],**params)()\n",
    "    \n",
    "    model1.fit(TrainDGen_1,\n",
    "               validation_data = ([features_test['age'],features_test['sex'], features_test['hw'], \n",
    "                                   features_test['preg'], features_test['loc'],features_test['interval'],\n",
    "                                   features_test['wav2'], features_test['mel1'],features_test['cqt1'],\n",
    "                                   features_test['stft1']],features_test['mm_labels']),\n",
    "               \n",
    "               callbacks=[lr],\n",
    "               steps_per_epoch=np.ceil(len(features_trn['mm_labels'])/batch_size),\n",
    "               class_weight=class_weight, \n",
    "               epochs = n_epoch)\n",
    "    \n",
    "    \n",
    " \n",
    "\n",
    "else :\n",
    "    TrainGen = DataGenerator([features_trn['age'],features_trn['sex'], features_trn['hw'], features_trn['preg'], features_trn['loc'], \n",
    "                      features_trn['mel1'],features_trn['cqt1'],features_trn['stft1']], \n",
    "                     mm_lbs_trn,  ## our Y\n",
    "                     **params)\n",
    "    model1.fit(TrainGen,\n",
    "               validation_data = ([features_test['age'],features_test['sex'], features_test['hw'], \n",
    "                                   features_test['preg'], features_test['loc'], features_test['mel1'], \n",
    "                                   features_test['cqt1'], features_test['stft1']], \n",
    "                                  mm_lbs_test), \n",
    "               callbacks=[lr],\n",
    "               #        steps_per_epoch=np.ceil(len(mm_lbs_trn)/64),\n",
    "               class_weight=class_weight, \n",
    "               epochs = n_epoch)\n",
    "\n"
   ]
  },
  {
   "cell_type": "code",
   "execution_count": 150,
   "id": "e84f3f23",
   "metadata": {},
   "outputs": [],
   "source": [
    "model_checkpoint_callback = tf.keras.callbacks.ModelCheckpoint(\n",
    "    filepath=model_folder,\n",
    "    monitor='val_accuracy',\n",
    "    mode='max',\n",
    "    save_best_only=True)"
   ]
  },
  {
   "cell_type": "code",
   "execution_count": 151,
   "id": "90bdd466",
   "metadata": {
    "scrolled": false
   },
   "outputs": [
    {
     "name": "stdout",
     "output_type": "stream",
     "text": [
      "Epoch 1/100\n",
      "40/40 [==============================] - ETA: 0s - loss: 3.1935 - accuracy: 0.4844 - auc: 0.4761"
     ]
    },
    {
     "name": "stderr",
     "output_type": "stream",
     "text": [
      "2022-08-08 16:29:50.558152: W tensorflow/python/util/util.cc:368] Sets are not currently considered sequences, but this may change in the future, so consider avoiding using them.\n"
     ]
    },
    {
     "name": "stdout",
     "output_type": "stream",
     "text": [
      "INFO:tensorflow:Assets written to: lcnn2/assets\n",
      "40/40 [==============================] - 29s 626ms/step - loss: 3.1935 - accuracy: 0.4844 - auc: 0.4761 - val_loss: 6.4056 - val_accuracy: 0.5008 - val_auc: 0.5008 - lr: 9.9851e-04\n",
      "Epoch 2/100\n",
      "40/40 [==============================] - 11s 274ms/step - loss: 2.1721 - accuracy: 0.4785 - auc: 0.4900 - val_loss: 3.0944 - val_accuracy: 0.5008 - val_auc: 0.5534 - lr: 9.9831e-04\n",
      "Epoch 3/100\n",
      "40/40 [==============================] - ETA: 0s - loss: 1.8680 - accuracy: 0.5164 - auc: 0.5111INFO:tensorflow:Assets written to: lcnn2/assets\n",
      "40/40 [==============================] - 22s 563ms/step - loss: 1.8680 - accuracy: 0.5164 - auc: 0.5111 - val_loss: 0.7768 - val_accuracy: 0.5705 - val_auc: 0.6086 - lr: 9.9807e-04\n",
      "Epoch 4/100\n",
      "40/40 [==============================] - 11s 284ms/step - loss: 1.4434 - accuracy: 0.4973 - auc: 0.5160 - val_loss: 1.2597 - val_accuracy: 0.5055 - val_auc: 0.5515 - lr: 9.9781e-04\n",
      "Epoch 5/100\n",
      "40/40 [==============================] - 11s 278ms/step - loss: 1.4437 - accuracy: 0.5176 - auc: 0.5165 - val_loss: 0.8914 - val_accuracy: 0.5325 - val_auc: 0.5854 - lr: 9.9750e-04\n",
      "Epoch 6/100\n",
      "40/40 [==============================] - ETA: 0s - loss: 1.4874 - accuracy: 0.5082 - auc: 0.5077INFO:tensorflow:Assets written to: lcnn2/assets\n",
      "40/40 [==============================] - 23s 594ms/step - loss: 1.4874 - accuracy: 0.5082 - auc: 0.5077 - val_loss: 0.6661 - val_accuracy: 0.6482 - val_auc: 0.6655 - lr: 9.9716e-04\n",
      "Epoch 7/100\n",
      "40/40 [==============================] - 11s 283ms/step - loss: 1.4834 - accuracy: 0.4984 - auc: 0.4981 - val_loss: 0.6792 - val_accuracy: 0.5943 - val_auc: 0.6242 - lr: 9.9676e-04\n",
      "Epoch 8/100\n",
      "40/40 [==============================] - 11s 285ms/step - loss: 1.3529 - accuracy: 0.5113 - auc: 0.5077 - val_loss: 0.6559 - val_accuracy: 0.6212 - val_auc: 0.6517 - lr: 9.9632e-04\n",
      "Epoch 9/100\n",
      "40/40 [==============================] - ETA: 0s - loss: 1.4605 - accuracy: 0.4883 - auc: 0.4915INFO:tensorflow:Assets written to: lcnn2/assets\n",
      "40/40 [==============================] - 22s 567ms/step - loss: 1.4605 - accuracy: 0.4883 - auc: 0.4915 - val_loss: 0.6309 - val_accuracy: 0.6529 - val_auc: 0.6972 - lr: 9.9581e-04\n",
      "Epoch 10/100\n",
      "40/40 [==============================] - 11s 273ms/step - loss: 1.6804 - accuracy: 0.5012 - auc: 0.5032 - val_loss: 0.7495 - val_accuracy: 0.5483 - val_auc: 0.6182 - lr: 9.9523e-04\n",
      "Epoch 11/100\n",
      "40/40 [==============================] - 11s 275ms/step - loss: 1.3217 - accuracy: 0.4973 - auc: 0.5078 - val_loss: 0.6440 - val_accuracy: 0.6403 - val_auc: 0.6868 - lr: 9.9457e-04\n",
      "Epoch 12/100\n",
      "40/40 [==============================] - 11s 276ms/step - loss: 1.5017 - accuracy: 0.5031 - auc: 0.5031 - val_loss: 1.2502 - val_accuracy: 0.4992 - val_auc: 0.5759 - lr: 9.9382e-04\n",
      "Epoch 13/100\n",
      "40/40 [==============================] - 11s 275ms/step - loss: 1.3165 - accuracy: 0.5094 - auc: 0.5201 - val_loss: 0.6456 - val_accuracy: 0.6149 - val_auc: 0.6785 - lr: 9.9297e-04\n",
      "Epoch 14/100\n",
      "40/40 [==============================] - 11s 282ms/step - loss: 1.3563 - accuracy: 0.4992 - auc: 0.5287 - val_loss: 0.7337 - val_accuracy: 0.4976 - val_auc: 0.6024 - lr: 9.9200e-04\n",
      "Epoch 15/100\n",
      "40/40 [==============================] - 11s 284ms/step - loss: 1.3075 - accuracy: 0.5008 - auc: 0.5347 - val_loss: 1.0723 - val_accuracy: 0.4992 - val_auc: 0.5916 - lr: 9.9090e-04\n",
      "Epoch 16/100\n",
      "40/40 [==============================] - 11s 281ms/step - loss: 1.4240 - accuracy: 0.4957 - auc: 0.5022 - val_loss: 1.1563 - val_accuracy: 0.4992 - val_auc: 0.5869 - lr: 9.8965e-04\n",
      "Epoch 17/100\n",
      "40/40 [==============================] - 11s 280ms/step - loss: 1.3253 - accuracy: 0.5309 - auc: 0.5347 - val_loss: 0.7809 - val_accuracy: 0.4992 - val_auc: 0.6128 - lr: 9.8823e-04\n",
      "Epoch 18/100\n",
      "40/40 [==============================] - 11s 277ms/step - loss: 1.2410 - accuracy: 0.4938 - auc: 0.5231 - val_loss: 0.6666 - val_accuracy: 0.5721 - val_auc: 0.6175 - lr: 9.8662e-04\n",
      "Epoch 19/100\n",
      "40/40 [==============================] - 11s 277ms/step - loss: 1.3070 - accuracy: 0.5246 - auc: 0.5293 - val_loss: 0.6739 - val_accuracy: 0.5135 - val_auc: 0.6076 - lr: 9.8479e-04\n",
      "Epoch 20/100\n",
      "40/40 [==============================] - 11s 284ms/step - loss: 1.3142 - accuracy: 0.5102 - auc: 0.5212 - val_loss: 0.7581 - val_accuracy: 0.5388 - val_auc: 0.5457 - lr: 9.8271e-04\n",
      "Epoch 21/100\n",
      "40/40 [==============================] - 11s 284ms/step - loss: 1.2897 - accuracy: 0.5035 - auc: 0.5153 - val_loss: 0.6461 - val_accuracy: 0.6482 - val_auc: 0.6777 - lr: 9.8036e-04\n",
      "Epoch 22/100\n",
      "40/40 [==============================] - 11s 283ms/step - loss: 1.2738 - accuracy: 0.5094 - auc: 0.5283 - val_loss: 0.6282 - val_accuracy: 0.6387 - val_auc: 0.6833 - lr: 9.7769e-04\n",
      "Epoch 23/100\n",
      "40/40 [==============================] - 11s 280ms/step - loss: 1.2781 - accuracy: 0.5004 - auc: 0.5316 - val_loss: 0.6860 - val_accuracy: 0.5182 - val_auc: 0.6064 - lr: 9.7468e-04\n",
      "Epoch 24/100\n",
      "40/40 [==============================] - 11s 275ms/step - loss: 1.3676 - accuracy: 0.4973 - auc: 0.5307 - val_loss: 0.8138 - val_accuracy: 0.5166 - val_auc: 0.5805 - lr: 9.7126e-04\n",
      "Epoch 25/100\n",
      "40/40 [==============================] - 12s 290ms/step - loss: 1.4073 - accuracy: 0.5090 - auc: 0.5272 - val_loss: 0.6248 - val_accuracy: 0.6323 - val_auc: 0.6913 - lr: 9.6740e-04\n",
      "Epoch 26/100\n",
      "40/40 [==============================] - 11s 283ms/step - loss: 1.2426 - accuracy: 0.5082 - auc: 0.5372 - val_loss: 0.6340 - val_accuracy: 0.6276 - val_auc: 0.6839 - lr: 9.6305e-04\n",
      "Epoch 27/100\n",
      "40/40 [==============================] - 12s 289ms/step - loss: 1.4201 - accuracy: 0.5156 - auc: 0.5390 - val_loss: 0.7939 - val_accuracy: 0.4992 - val_auc: 0.6108 - lr: 9.5813e-04\n",
      "Epoch 28/100\n",
      "40/40 [==============================] - 11s 285ms/step - loss: 1.3277 - accuracy: 0.5266 - auc: 0.5289 - val_loss: 0.7792 - val_accuracy: 0.4976 - val_auc: 0.6036 - lr: 9.5260e-04\n",
      "Epoch 29/100\n",
      "40/40 [==============================] - 11s 281ms/step - loss: 1.3244 - accuracy: 0.5176 - auc: 0.5261 - val_loss: 0.8090 - val_accuracy: 0.4992 - val_auc: 0.5981 - lr: 9.4637e-04\n",
      "Epoch 30/100\n",
      "40/40 [==============================] - 11s 279ms/step - loss: 1.2340 - accuracy: 0.5055 - auc: 0.5384 - val_loss: 0.7481 - val_accuracy: 0.5008 - val_auc: 0.6029 - lr: 9.3939e-04\n",
      "Epoch 31/100\n",
      "40/40 [==============================] - 11s 277ms/step - loss: 1.2998 - accuracy: 0.5344 - auc: 0.5515 - val_loss: 0.9674 - val_accuracy: 0.4976 - val_auc: 0.5882 - lr: 9.3155e-04\n",
      "Epoch 32/100\n",
      "40/40 [==============================] - 11s 280ms/step - loss: 1.3528 - accuracy: 0.5172 - auc: 0.5372 - val_loss: 0.8006 - val_accuracy: 0.4992 - val_auc: 0.6031 - lr: 9.2279e-04\n",
      "Epoch 33/100\n",
      "40/40 [==============================] - 11s 279ms/step - loss: 1.2536 - accuracy: 0.5086 - auc: 0.5412 - val_loss: 1.0328 - val_accuracy: 0.4992 - val_auc: 0.5923 - lr: 9.1301e-04\n",
      "Epoch 34/100\n",
      "40/40 [==============================] - 11s 280ms/step - loss: 1.2404 - accuracy: 0.4969 - auc: 0.5350 - val_loss: 0.6552 - val_accuracy: 0.5578 - val_auc: 0.6240 - lr: 9.0213e-04\n",
      "Epoch 35/100\n",
      "40/40 [==============================] - 11s 281ms/step - loss: 1.2570 - accuracy: 0.5008 - auc: 0.5420 - val_loss: 0.6416 - val_accuracy: 0.6165 - val_auc: 0.6836 - lr: 8.9005e-04\n",
      "Epoch 36/100\n",
      "40/40 [==============================] - 11s 283ms/step - loss: 1.3110 - accuracy: 0.5027 - auc: 0.5346 - val_loss: 0.7191 - val_accuracy: 0.5008 - val_auc: 0.6025 - lr: 8.7669e-04\n",
      "Epoch 37/100\n",
      "40/40 [==============================] - 11s 282ms/step - loss: 1.2873 - accuracy: 0.5074 - auc: 0.5448 - val_loss: 0.7748 - val_accuracy: 0.5008 - val_auc: 0.5814 - lr: 8.6196e-04\n",
      "Epoch 38/100\n",
      "40/40 [==============================] - 11s 275ms/step - loss: 1.2644 - accuracy: 0.5047 - auc: 0.5385 - val_loss: 0.6486 - val_accuracy: 0.6101 - val_auc: 0.6611 - lr: 8.4578e-04\n",
      "Epoch 39/100\n",
      "40/40 [==============================] - 11s 281ms/step - loss: 1.4187 - accuracy: 0.5172 - auc: 0.5325 - val_loss: 0.6833 - val_accuracy: 0.5325 - val_auc: 0.6082 - lr: 8.2809e-04\n",
      "Epoch 40/100\n",
      "40/40 [==============================] - 11s 280ms/step - loss: 1.3085 - accuracy: 0.5207 - auc: 0.5466 - val_loss: 0.6346 - val_accuracy: 0.6165 - val_auc: 0.6789 - lr: 8.0883e-04\n"
     ]
    },
    {
     "name": "stdout",
     "output_type": "stream",
     "text": [
      "Epoch 41/100\n",
      "40/40 [==============================] - 11s 278ms/step - loss: 1.3069 - accuracy: 0.5188 - auc: 0.5468 - val_loss: 0.7423 - val_accuracy: 0.4992 - val_auc: 0.5950 - lr: 7.8798e-04\n",
      "Epoch 42/100\n",
      "40/40 [==============================] - 11s 280ms/step - loss: 1.2365 - accuracy: 0.5168 - auc: 0.5516 - val_loss: 0.6471 - val_accuracy: 0.5832 - val_auc: 0.6537 - lr: 7.6551e-04\n",
      "Epoch 43/100\n",
      "40/40 [==============================] - 11s 274ms/step - loss: 1.2497 - accuracy: 0.5215 - auc: 0.5467 - val_loss: 0.6431 - val_accuracy: 0.6292 - val_auc: 0.6821 - lr: 7.4146e-04\n",
      "Epoch 44/100\n",
      "40/40 [==============================] - 11s 284ms/step - loss: 1.2761 - accuracy: 0.5250 - auc: 0.5493 - val_loss: 0.8700 - val_accuracy: 0.4992 - val_auc: 0.6062 - lr: 7.1587e-04\n",
      "Epoch 45/100\n",
      "40/40 [==============================] - 11s 280ms/step - loss: 1.2412 - accuracy: 0.5242 - auc: 0.5538 - val_loss: 0.6354 - val_accuracy: 0.5864 - val_auc: 0.6666 - lr: 6.8882e-04\n",
      "Epoch 46/100\n",
      "40/40 [==============================] - 11s 279ms/step - loss: 1.2226 - accuracy: 0.5184 - auc: 0.5550 - val_loss: 0.7502 - val_accuracy: 0.5024 - val_auc: 0.6044 - lr: 6.6044e-04\n",
      "Epoch 47/100\n",
      "40/40 [==============================] - 11s 279ms/step - loss: 1.2047 - accuracy: 0.5074 - auc: 0.5664 - val_loss: 0.7678 - val_accuracy: 0.5040 - val_auc: 0.5988 - lr: 6.3088e-04\n",
      "Epoch 48/100\n",
      "40/40 [==============================] - 11s 279ms/step - loss: 1.2186 - accuracy: 0.5152 - auc: 0.5572 - val_loss: 0.6372 - val_accuracy: 0.6276 - val_auc: 0.6740 - lr: 6.0032e-04\n",
      "Epoch 49/100\n",
      "40/40 [==============================] - 11s 282ms/step - loss: 1.2764 - accuracy: 0.5176 - auc: 0.5403 - val_loss: 0.9077 - val_accuracy: 0.4992 - val_auc: 0.6011 - lr: 5.6899e-04\n",
      "Epoch 50/100\n",
      "40/40 [==============================] - 11s 278ms/step - loss: 1.2227 - accuracy: 0.5199 - auc: 0.5620 - val_loss: 0.6234 - val_accuracy: 0.6339 - val_auc: 0.7059 - lr: 5.3713e-04\n",
      "Epoch 51/100\n",
      "40/40 [==============================] - 11s 285ms/step - loss: 1.1966 - accuracy: 0.5238 - auc: 0.5769 - val_loss: 0.7099 - val_accuracy: 0.5198 - val_auc: 0.6043 - lr: 5.0500e-04\n",
      "Epoch 52/100\n",
      "40/40 [==============================] - 11s 279ms/step - loss: 1.2039 - accuracy: 0.5082 - auc: 0.5689 - val_loss: 0.6513 - val_accuracy: 0.6197 - val_auc: 0.6600 - lr: 4.7287e-04\n",
      "Epoch 53/100\n",
      "40/40 [==============================] - 11s 281ms/step - loss: 1.2060 - accuracy: 0.5293 - auc: 0.5710 - val_loss: 0.6985 - val_accuracy: 0.5341 - val_auc: 0.6140 - lr: 4.4101e-04\n",
      "Epoch 54/100\n",
      "40/40 [==============================] - 11s 283ms/step - loss: 1.2481 - accuracy: 0.5324 - auc: 0.5769 - val_loss: 0.6717 - val_accuracy: 0.5483 - val_auc: 0.6190 - lr: 4.0968e-04\n",
      "Epoch 55/100\n",
      "40/40 [==============================] - 11s 278ms/step - loss: 1.1876 - accuracy: 0.5344 - auc: 0.5761 - val_loss: 0.6972 - val_accuracy: 0.5372 - val_auc: 0.6079 - lr: 3.7912e-04\n",
      "Epoch 56/100\n",
      "40/40 [==============================] - 11s 278ms/step - loss: 1.3052 - accuracy: 0.5508 - auc: 0.5761 - val_loss: 0.6659 - val_accuracy: 0.5769 - val_auc: 0.6357 - lr: 3.4956e-04\n",
      "Epoch 57/100\n",
      "40/40 [==============================] - 11s 278ms/step - loss: 1.2050 - accuracy: 0.5344 - auc: 0.5881 - val_loss: 0.8347 - val_accuracy: 0.5024 - val_auc: 0.6011 - lr: 3.2118e-04\n",
      "Epoch 58/100\n",
      "40/40 [==============================] - 11s 280ms/step - loss: 1.1873 - accuracy: 0.5254 - auc: 0.5918 - val_loss: 0.6818 - val_accuracy: 0.5610 - val_auc: 0.6131 - lr: 2.9413e-04\n",
      "Epoch 59/100\n",
      "40/40 [==============================] - 11s 280ms/step - loss: 1.1581 - accuracy: 0.5285 - auc: 0.5946 - val_loss: 0.6422 - val_accuracy: 0.6323 - val_auc: 0.6847 - lr: 2.6854e-04\n",
      "Epoch 60/100\n",
      "40/40 [==============================] - 11s 278ms/step - loss: 1.1762 - accuracy: 0.5219 - auc: 0.5918 - val_loss: 0.7060 - val_accuracy: 0.5151 - val_auc: 0.5914 - lr: 2.4449e-04\n",
      "Epoch 61/100\n",
      "40/40 [==============================] - 11s 284ms/step - loss: 1.1739 - accuracy: 0.5188 - auc: 0.5923 - val_loss: 0.6497 - val_accuracy: 0.6070 - val_auc: 0.6519 - lr: 2.2202e-04\n",
      "Epoch 62/100\n",
      "40/40 [==============================] - 11s 275ms/step - loss: 1.1705 - accuracy: 0.5441 - auc: 0.6074 - val_loss: 0.6619 - val_accuracy: 0.5626 - val_auc: 0.6315 - lr: 2.0117e-04\n",
      "Epoch 63/100\n",
      "40/40 [==============================] - 11s 278ms/step - loss: 1.1601 - accuracy: 0.5309 - auc: 0.5928 - val_loss: 0.7594 - val_accuracy: 0.5135 - val_auc: 0.5898 - lr: 1.8191e-04\n",
      "Epoch 64/100\n",
      "40/40 [==============================] - 11s 277ms/step - loss: 1.1647 - accuracy: 0.5316 - auc: 0.6027 - val_loss: 0.6495 - val_accuracy: 0.5864 - val_auc: 0.6498 - lr: 1.6422e-04\n",
      "Epoch 65/100\n",
      "40/40 [==============================] - 11s 280ms/step - loss: 1.1629 - accuracy: 0.5391 - auc: 0.6092 - val_loss: 0.7636 - val_accuracy: 0.5230 - val_auc: 0.5945 - lr: 1.4804e-04\n",
      "Epoch 66/100\n",
      "40/40 [==============================] - 11s 281ms/step - loss: 1.1754 - accuracy: 0.5395 - auc: 0.5979 - val_loss: 0.7129 - val_accuracy: 0.5452 - val_auc: 0.6008 - lr: 1.3331e-04\n",
      "Epoch 67/100\n",
      "40/40 [==============================] - 11s 283ms/step - loss: 1.1717 - accuracy: 0.5309 - auc: 0.6127 - val_loss: 0.7399 - val_accuracy: 0.5309 - val_auc: 0.5958 - lr: 1.1995e-04\n",
      "Epoch 68/100\n",
      "40/40 [==============================] - 11s 282ms/step - loss: 1.1863 - accuracy: 0.5230 - auc: 0.5981 - val_loss: 0.7084 - val_accuracy: 0.5452 - val_auc: 0.6027 - lr: 1.0787e-04\n",
      "Epoch 69/100\n",
      "40/40 [==============================] - 11s 281ms/step - loss: 1.1820 - accuracy: 0.5215 - auc: 0.6034 - val_loss: 0.8051 - val_accuracy: 0.5071 - val_auc: 0.5790 - lr: 9.6985e-05\n",
      "Epoch 70/100\n",
      "40/40 [==============================] - 11s 275ms/step - loss: 1.1741 - accuracy: 0.5273 - auc: 0.5995 - val_loss: 0.7210 - val_accuracy: 0.5277 - val_auc: 0.5931 - lr: 8.7208e-05\n",
      "Epoch 71/100\n",
      "40/40 [==============================] - 11s 284ms/step - loss: 1.1631 - accuracy: 0.5367 - auc: 0.6117 - val_loss: 0.7035 - val_accuracy: 0.5563 - val_auc: 0.6082 - lr: 7.8447e-05\n",
      "Epoch 72/100\n",
      "40/40 [==============================] - 11s 282ms/step - loss: 1.1653 - accuracy: 0.5137 - auc: 0.6128 - val_loss: 0.6891 - val_accuracy: 0.5563 - val_auc: 0.6161 - lr: 7.0614e-05\n",
      "Epoch 73/100\n",
      "40/40 [==============================] - 11s 281ms/step - loss: 1.1689 - accuracy: 0.5270 - auc: 0.6061 - val_loss: 0.6805 - val_accuracy: 0.5737 - val_auc: 0.6250 - lr: 6.3625e-05\n",
      "Epoch 74/100\n",
      "40/40 [==============================] - 11s 277ms/step - loss: 1.1619 - accuracy: 0.5402 - auc: 0.6098 - val_loss: 0.7348 - val_accuracy: 0.5357 - val_auc: 0.5925 - lr: 5.7401e-05\n",
      "Epoch 75/100\n",
      "40/40 [==============================] - 11s 283ms/step - loss: 1.1480 - accuracy: 0.5375 - auc: 0.6225 - val_loss: 0.6844 - val_accuracy: 0.5721 - val_auc: 0.6220 - lr: 5.1867e-05\n",
      "Epoch 76/100\n",
      "40/40 [==============================] - 11s 285ms/step - loss: 1.1621 - accuracy: 0.5355 - auc: 0.6077 - val_loss: 0.6526 - val_accuracy: 0.6022 - val_auc: 0.6565 - lr: 4.6954e-05\n",
      "Epoch 77/100\n",
      "40/40 [==============================] - 11s 284ms/step - loss: 1.1499 - accuracy: 0.5402 - auc: 0.6210 - val_loss: 0.6547 - val_accuracy: 0.6086 - val_auc: 0.6547 - lr: 4.2597e-05\n",
      "Epoch 78/100\n",
      "40/40 [==============================] - 11s 277ms/step - loss: 1.1519 - accuracy: 0.5352 - auc: 0.6223 - val_loss: 0.6583 - val_accuracy: 0.6117 - val_auc: 0.6500 - lr: 3.8739e-05\n",
      "Epoch 79/100\n",
      "40/40 [==============================] - 11s 278ms/step - loss: 1.1428 - accuracy: 0.5379 - auc: 0.6229 - val_loss: 0.6979 - val_accuracy: 0.5626 - val_auc: 0.6098 - lr: 3.5325e-05\n",
      "Epoch 80/100\n",
      "40/40 [==============================] - 11s 280ms/step - loss: 1.1630 - accuracy: 0.5406 - auc: 0.6172 - val_loss: 0.7411 - val_accuracy: 0.5325 - val_auc: 0.5921 - lr: 3.2307e-05\n",
      "Epoch 81/100\n",
      "40/40 [==============================] - 11s 281ms/step - loss: 1.1312 - accuracy: 0.5547 - auc: 0.6355 - val_loss: 0.7320 - val_accuracy: 0.5420 - val_auc: 0.5988 - lr: 2.9642e-05\n",
      "Epoch 82/100\n",
      "40/40 [==============================] - 11s 285ms/step - loss: 1.1456 - accuracy: 0.5320 - auc: 0.6276 - val_loss: 0.7318 - val_accuracy: 0.5515 - val_auc: 0.5989 - lr: 2.7289e-05\n",
      "Epoch 83/100\n"
     ]
    },
    {
     "name": "stdout",
     "output_type": "stream",
     "text": [
      "40/40 [==============================] - 11s 277ms/step - loss: 1.1189 - accuracy: 0.5391 - auc: 0.6268 - val_loss: 0.6814 - val_accuracy: 0.5705 - val_auc: 0.6219 - lr: 2.5214e-05\n",
      "Epoch 84/100\n",
      "40/40 [==============================] - 11s 281ms/step - loss: 1.1522 - accuracy: 0.5469 - auc: 0.6373 - val_loss: 0.7339 - val_accuracy: 0.5404 - val_auc: 0.5942 - lr: 2.3384e-05\n",
      "Epoch 85/100\n",
      "40/40 [==============================] - 11s 282ms/step - loss: 1.1470 - accuracy: 0.5523 - auc: 0.6331 - val_loss: 0.7078 - val_accuracy: 0.5531 - val_auc: 0.6051 - lr: 2.1772e-05\n",
      "Epoch 86/100\n",
      "40/40 [==============================] - 11s 283ms/step - loss: 1.1302 - accuracy: 0.5426 - auc: 0.6285 - val_loss: 0.7305 - val_accuracy: 0.5341 - val_auc: 0.5939 - lr: 2.0352e-05\n",
      "Epoch 87/100\n",
      "40/40 [==============================] - 11s 275ms/step - loss: 1.1518 - accuracy: 0.5395 - auc: 0.6324 - val_loss: 0.7086 - val_accuracy: 0.5515 - val_auc: 0.6040 - lr: 1.9102e-05\n",
      "Epoch 88/100\n",
      "40/40 [==============================] - 11s 279ms/step - loss: 1.1535 - accuracy: 0.5461 - auc: 0.6234 - val_loss: 0.7345 - val_accuracy: 0.5372 - val_auc: 0.5930 - lr: 1.8001e-05\n",
      "Epoch 89/100\n",
      "40/40 [==============================] - 11s 286ms/step - loss: 1.1477 - accuracy: 0.5492 - auc: 0.6287 - val_loss: 0.7144 - val_accuracy: 0.5531 - val_auc: 0.5998 - lr: 1.7033e-05\n",
      "Epoch 90/100\n",
      "40/40 [==============================] - 11s 278ms/step - loss: 1.1481 - accuracy: 0.5516 - auc: 0.6334 - val_loss: 0.7103 - val_accuracy: 0.5610 - val_auc: 0.6036 - lr: 1.6181e-05\n",
      "Epoch 91/100\n",
      "40/40 [==============================] - 11s 280ms/step - loss: 1.1415 - accuracy: 0.5254 - auc: 0.6222 - val_loss: 0.7125 - val_accuracy: 0.5547 - val_auc: 0.6026 - lr: 1.5431e-05\n",
      "Epoch 92/100\n",
      "40/40 [==============================] - 11s 279ms/step - loss: 1.1470 - accuracy: 0.5449 - auc: 0.6340 - val_loss: 0.7273 - val_accuracy: 0.5388 - val_auc: 0.5983 - lr: 1.4773e-05\n",
      "Epoch 93/100\n",
      "40/40 [==============================] - 11s 286ms/step - loss: 1.1429 - accuracy: 0.5570 - auc: 0.6273 - val_loss: 0.7107 - val_accuracy: 0.5547 - val_auc: 0.6054 - lr: 1.4193e-05\n",
      "Epoch 94/100\n",
      "40/40 [==============================] - 11s 281ms/step - loss: 1.1404 - accuracy: 0.5465 - auc: 0.6373 - val_loss: 0.7325 - val_accuracy: 0.5388 - val_auc: 0.5986 - lr: 1.3684e-05\n",
      "Epoch 95/100\n",
      "40/40 [==============================] - 11s 278ms/step - loss: 1.1363 - accuracy: 0.5441 - auc: 0.6316 - val_loss: 0.7432 - val_accuracy: 0.5341 - val_auc: 0.5914 - lr: 1.3236e-05\n",
      "Epoch 96/100\n",
      "40/40 [==============================] - 11s 277ms/step - loss: 1.1412 - accuracy: 0.5355 - auc: 0.6207 - val_loss: 0.6798 - val_accuracy: 0.5705 - val_auc: 0.6229 - lr: 1.2843e-05\n",
      "Epoch 97/100\n",
      "40/40 [==============================] - 11s 283ms/step - loss: 1.1508 - accuracy: 0.5570 - auc: 0.6314 - val_loss: 0.6937 - val_accuracy: 0.5594 - val_auc: 0.6176 - lr: 1.2497e-05\n",
      "Epoch 98/100\n",
      "40/40 [==============================] - 11s 280ms/step - loss: 1.1394 - accuracy: 0.5441 - auc: 0.6324 - val_loss: 0.6780 - val_accuracy: 0.5832 - val_auc: 0.6290 - lr: 1.2193e-05\n",
      "Epoch 99/100\n",
      "40/40 [==============================] - 11s 281ms/step - loss: 1.1243 - accuracy: 0.5469 - auc: 0.6443 - val_loss: 0.7125 - val_accuracy: 0.5563 - val_auc: 0.6066 - lr: 1.1927e-05\n",
      "Epoch 100/100\n",
      "40/40 [==============================] - 11s 276ms/step - loss: 1.1484 - accuracy: 0.5352 - auc: 0.6237 - val_loss: 0.6985 - val_accuracy: 0.5547 - val_auc: 0.6133 - lr: 1.1692e-05\n"
     ]
    }
   ],
   "source": [
    "n_epoch = 100\n",
    "lr = LearningRateScheduler(lambda e: sigmoidal_decay(e, end=n_epoch))\n",
    "\n",
    "batch_size = 64\n",
    "\n",
    "params = {'batch_size': batch_size,\n",
    "          #          'input_shape': (100, 313, 1),\n",
    "          'shuffle': True,\n",
    "          'chaug': 0,\n",
    "          'beta_param': beta_param,\n",
    "          'cout': cout,\n",
    "#              'mixup': True,\n",
    "          #          'lowpass': [.5, [11,12,13,14,15,16,17,18]]\n",
    "#            'highpass': [.5, [78,79,80,81,82,83,84,85]],\n",
    "#              'ranfilter2' : [3, [18,19,20,21,22,23]]\n",
    "        #           'dropblock' : [30, 100]\n",
    "          #'device' : device\n",
    "}\n",
    "\n",
    "\n",
    "\n",
    "if mixup :\n",
    "    params['mixup'] = mixup\n",
    "    params['ranfilter2'] = ranfil\n",
    "else :\n",
    "    params['cutout'] = cout\n",
    "\n",
    "\n",
    "params_no_shuffle = {'batch_size': batch_size,\n",
    "                     #          'input_shape': (100, 313, 1),\n",
    "                     'shuffle': False,\n",
    "                     'beta_param': 0.7,\n",
    "                     'mixup': False\n",
    "                     #'device': device\n",
    "}\n",
    "\n",
    "\n",
    "\n",
    "\n",
    "if mixup :\n",
    "\n",
    "    \n",
    "    class_weight = {0: oo_weight, 1: 1.}\n",
    "    TrainDGen_1 = Generator0([features_trn['age'],features_trn['sex'], features_trn['hw'], features_trn['preg'],\n",
    "                              features_trn['loc'],features_trn['interval'],features_trn['wav2'],\n",
    "                              features_trn['mel1'],features_trn['cqt1'],features_trn['stft1']],\n",
    "                             features_trn['out_labels'], **params)()\n",
    "\n",
    "    model2.fit(TrainDGen_1,\n",
    "               validation_data = ([features_test['age'],features_test['sex'], features_test['hw'],\n",
    "                                   features_test['preg'], features_test['loc'],features_test['interval'],\n",
    "                                   features_test['wav2'], features_test['mel1'],features_test['cqt1'],\n",
    "                                   features_test['stft1']],features_test['out_labels']), \n",
    "               \n",
    "               callbacks=[lr,model_checkpoint_callback],\n",
    "               steps_per_epoch=np.ceil(len(features_trn['out_labels'])/batch_size),\n",
    "               class_weight=class_weight, \n",
    "               epochs = n_epoch)\n",
    "    \n",
    "else :\n",
    "    TrainGen = DataGenerator([features_trn['age'],features_trn['sex'], features_trn['hw'], features_trn['preg'], features_trn['loc'], \n",
    "                      features_trn['mel1'],features_trn['cqt1'],features_trn['stft1']], \n",
    "                     out_lbs_trn,  ## our Y\n",
    "                     **params)\n",
    "    model2.fit(TrainGen,\n",
    "               validation_data = ([features_test['age'],features_test['sex'], features_test['hw'],\n",
    "                                   features_test['preg'], features_test['loc'],features_test['interval'],\n",
    "                                   features_test['wav2'], features_test['mel1'],features_test['cqt1'],\n",
    "                                   features_test['stft1']],features_test['out_labels']), \n",
    "               callbacks=[lr],\n",
    "               class_weight=class_weight, \n",
    "               epochs = n_epoch)\n",
    "\n",
    "\n",
    "\n",
    "\n",
    "\n",
    "\n",
    "\n",
    "\n",
    "\n",
    "\n",
    "\n",
    "\n",
    "\n",
    "\n",
    "\n",
    "\n"
   ]
  },
  {
   "cell_type": "code",
   "execution_count": null,
   "id": "c4f69250",
   "metadata": {},
   "outputs": [],
   "source": []
  },
  {
   "cell_type": "code",
   "execution_count": 152,
   "id": "5d9abb6a",
   "metadata": {},
   "outputs": [
    {
     "data": {
      "text/plain": [
       "{'samp_sec': 20,\n",
       " 'pre_emphasis': 0,\n",
       " 'hop_length': 256,\n",
       " 'win_length': 512,\n",
       " 'n_mels': 120,\n",
       " 'filter_scale': 1,\n",
       " 'n_bins': 80,\n",
       " 'fmin': 10,\n",
       " 'maxlen1': 120000,\n",
       " 'min_dist': 500,\n",
       " 'max_interval_len': 115,\n",
       " 'trim': 1,\n",
       " 'use_mel': True,\n",
       " 'use_cqt': False,\n",
       " 'use_stft': False,\n",
       " 'use_interval': True,\n",
       " 'use_wav2': True,\n",
       " 'ord1': True,\n",
       " 'mm_mean': False,\n",
       " 'dp': 0,\n",
       " 'fc': False,\n",
       " 'ext': True,\n",
       " 'oo_weight': 3,\n",
       " 'mm_weight': 3,\n",
       " 'chaug': 10,\n",
       " 'cout': 0.8,\n",
       " 'wunknown': 1,\n",
       " 'mixup': True,\n",
       " 'n1': 0}"
      ]
     },
     "execution_count": 152,
     "metadata": {},
     "output_type": "execute_result"
    }
   ],
   "source": [
    "params_feature"
   ]
  },
  {
   "cell_type": "code",
   "execution_count": 153,
   "id": "08f47fb7",
   "metadata": {},
   "outputs": [],
   "source": [
    "params_feature['mel_shape'] = mel_input_shape\n",
    "params_feature['cqt_shape'] = cqt_input_shape\n",
    "params_feature['stft_shape'] = stft_input_shape\n",
    "params_feature['interval_input_shape'] = interval_input_shape\n",
    "params_feature['wav2_input_shape'] = wav2_input_shape"
   ]
  },
  {
   "cell_type": "code",
   "execution_count": 154,
   "id": "0122a0f8",
   "metadata": {},
   "outputs": [
    {
     "data": {
      "text/plain": [
       "{'samp_sec': 20,\n",
       " 'pre_emphasis': 0,\n",
       " 'hop_length': 256,\n",
       " 'win_length': 512,\n",
       " 'n_mels': 120,\n",
       " 'filter_scale': 1,\n",
       " 'n_bins': 80,\n",
       " 'fmin': 10,\n",
       " 'maxlen1': 120000,\n",
       " 'min_dist': 500,\n",
       " 'max_interval_len': 115,\n",
       " 'trim': 1,\n",
       " 'use_mel': True,\n",
       " 'use_cqt': False,\n",
       " 'use_stft': False,\n",
       " 'use_interval': True,\n",
       " 'use_wav2': True,\n",
       " 'ord1': True,\n",
       " 'mm_mean': False,\n",
       " 'dp': 0,\n",
       " 'fc': False,\n",
       " 'ext': True,\n",
       " 'oo_weight': 3,\n",
       " 'mm_weight': 3,\n",
       " 'chaug': 10,\n",
       " 'cout': 0.8,\n",
       " 'wunknown': 1,\n",
       " 'mixup': True,\n",
       " 'n1': 0,\n",
       " 'mel_shape': (120, 313, 1),\n",
       " 'cqt_shape': (1, 1, 1),\n",
       " 'stft_shape': (1, 1, 1),\n",
       " 'interval_input_shape': (115, 1),\n",
       " 'wav2_input_shape': (224, 224, 1)}"
      ]
     },
     "execution_count": 154,
     "metadata": {},
     "output_type": "execute_result"
    }
   ],
   "source": [
    "params_feature"
   ]
  },
  {
   "cell_type": "code",
   "execution_count": 155,
   "id": "786d2ba7",
   "metadata": {},
   "outputs": [],
   "source": [
    "import pickle as pk\n",
    "def save_challenge_model(model_folder, model1, model2, m_name1, m_name2, param_feature) :\n",
    "    os.makedirs(model_folder, exist_ok=True)\n",
    "    info_fnm = os.path.join(model_folder, 'desc.pk')\n",
    "    filename1 = os.path.join(model_folder, m_name1 + '_model1.hdf5')\n",
    "    filename2 = os.path.join(model_folder, m_name2 + '_model2.hdf5')\n",
    "    model1.save(filename1)\n",
    "    model2.save(filename2)\n",
    "    param_feature['model1'] = m_name1\n",
    "    param_feature['model2'] = m_name2\n",
    "    param_feature['model_fnm1'] = filename1\n",
    "    param_feature['model_fnm2'] = filename2\n",
    "    with open(info_fnm, 'wb') as f:\n",
    "        pk.dump(param_feature, f, pk.HIGHEST_PROTOCOL)\n",
    "    return 1\n",
    "\n",
    "    with open(info_fnm, 'wb') as f:\n",
    "        pk.dump(param_feature, f, pk.HIGHEST_PROTOCOL)\n",
    "    return 1\n",
    "    "
   ]
  },
  {
   "cell_type": "code",
   "execution_count": 156,
   "id": "6b9ae924",
   "metadata": {},
   "outputs": [
    {
     "data": {
      "text/plain": [
       "'lcnn2'"
      ]
     },
     "execution_count": 156,
     "metadata": {},
     "output_type": "execute_result"
    }
   ],
   "source": [
    "model_folder"
   ]
  },
  {
   "cell_type": "code",
   "execution_count": 157,
   "id": "ed1124d7",
   "metadata": {},
   "outputs": [
    {
     "data": {
      "text/plain": [
       "1"
      ]
     },
     "execution_count": 157,
     "metadata": {},
     "output_type": "execute_result"
    }
   ],
   "source": [
    "save_challenge_model(model_folder, model1, model2, m_name1 = 'lcnn1', m_name2 = 'lcnn2', param_feature = params_feature)"
   ]
  },
  {
   "cell_type": "code",
   "execution_count": 187,
   "id": "c3ce72aa",
   "metadata": {},
   "outputs": [],
   "source": []
  },
  {
   "cell_type": "code",
   "execution_count": null,
   "id": "7355313d",
   "metadata": {},
   "outputs": [],
   "source": []
  },
  {
   "cell_type": "code",
   "execution_count": 158,
   "id": "ba030c37",
   "metadata": {},
   "outputs": [],
   "source": [
    "def load_challenge_model(model_folder, verbose):\n",
    "    info_fnm = os.path.join(model_folder, 'desc.pk')\n",
    "    with open(info_fnm, 'rb') as f:\n",
    "        info_m = pk.load(f)\n",
    "\n",
    "    return info_m"
   ]
  },
  {
   "cell_type": "code",
   "execution_count": 162,
   "id": "19a747dc",
   "metadata": {},
   "outputs": [],
   "source": [
    "def run_challenge_model(model, data, recordings, verbose):\n",
    "    \n",
    "    murmur_classes = ['Present', 'Unknown', 'Absent']\n",
    "    outcome_classes = ['Abnormal', 'Normal']\n",
    "\n",
    "##########################################################################    \n",
    "    if model['model1'] == 'lcnn1' :\n",
    "        model1 = get_LCNN_o_4_dr_1(model['mel_shape'],model['cqt_shape'],model['stft_shape'], model['interval_input_shape'],model['wav2_input_shape']\n",
    "                                 , use_mel = model['use_mel'],use_cqt = model['use_cqt'], use_stft = model['use_stft'], \n",
    "                                 ord1 = model['ord1'], dp = model['dp'], fc = model['fc'], ext = model['ext'])    \n",
    "    if model['model1'] == 'lcnn2' :\n",
    "        model1 = get_LCNN_o_4_dr_2(model['mel_shape'],model['cqt_shape'],model['stft_shape'], model['interval_input_shape'],model['wav2_input_shape']\n",
    "                                 , use_mel = model['use_mel'],use_cqt = model['use_cqt'], use_stft = model['use_stft'], \n",
    "                                 ord1 = model['ord1'], dp = model['dp'], fc = model['fc'], ext = model['ext'])   \n",
    "#     model1.layers[-5].trainable=False\n",
    "#     model2.layers[-5].trainable=False\n",
    "    \n",
    "    model1.load_weights(model['model_fnm1'])\n",
    "    model2.load_weights(model['model_fnm2'])\n",
    "############################################################################ \n",
    "\n",
    "\n",
    "    max_interval_len = params_feature['max_interval_len']\n",
    "    maxlen1 = params_feature['maxlen1']\n",
    "    min_dist = params_feature['min_dist']\n",
    "    \n",
    "    \n",
    "    # Load features.\n",
    "    features = get_feature_one(data, verbose = 0)\n",
    "\n",
    "    samp_sec = model['samp_sec'] \n",
    "    pre_emphasis = model['pre_emphasis']\n",
    "    hop_length = model['hop_length']\n",
    "    win_length = model['win_length']\n",
    "    n_mels = model['n_mels']\n",
    "    filter_scale = model['filter_scale']\n",
    "    n_bins = model['n_bins']\n",
    "    fmin = model['fmin']\n",
    "    trim = model['trim']\n",
    "    use_mel = model['use_mel']\n",
    "    use_cqt = model['use_cqt']\n",
    "    use_stft = model['use_stft']\n",
    "    use_interval = model['use_interval']\n",
    "    use_wav2 = model['use_wav2']\n",
    "    maxlen1 = model['maxlen1']\n",
    "    min_dist = model['min_dist']\n",
    "    max_interval_len = model['max_interval_len']\n",
    "    \n",
    "#    use_raw = model['use_raw']\n",
    "    \n",
    "\n",
    "    features['interval'] = []\n",
    "    tmp_interval=[]  \n",
    "    \n",
    "    features['wav2'] = []\n",
    "    tmp_raw = []\n",
    "    tmp=[]      \n",
    "    \n",
    "    from wav2vec2 import Wav2Vec2ForCTC, Wav2Vec2Config\n",
    "    import tensorflow as tf\n",
    "    \n",
    "    config = Wav2Vec2Config()\n",
    "    tmp_model = Wav2Vec2ForCTC(config)\n",
    "    tmp_model.trainable=False\n",
    "    \n",
    "    for i in range(len(recordings)):\n",
    "        data = recordings[i]/32768\n",
    "        tmp_raw.append(data)\n",
    "        \n",
    "    tmp_pad =pad_sequences(tmp_raw, maxlen=maxlen1, dtype='float64', padding='post', truncating='post', value=0.0)\n",
    "    tmp_pad = tmp_pad[:,np.newaxis,:]\n",
    "    \n",
    "    for i in range(len(tmp_pad)):\n",
    "        tmp_feature = tmp_model(tmp_pad[i])\n",
    "        tmp.append(tmp_feature)\n",
    "    \n",
    "    tmp=np.array(tmp, dtype=np.float32)\n",
    "    new_tmp1=tmp.reshape(-1,32,374)\n",
    "    features['wav2']=new_tmp1\n",
    "    \n",
    "    tmp_wav2 = np.zeros((len(recordings),224,224,1))\n",
    "    for i in range(len(features['wav2'])):\n",
    "        test_ary=features['wav2'][i]\n",
    "        res = resize(test_ary, (224,224,1))\n",
    "        tmp_wav2[i]=res\n",
    "    features['wav2'] = tmp_wav2\n",
    "    \n",
    "    features['wav2'] = np.array(features['wav2'])\n",
    "    \n",
    "    \n",
    "    for i in tqdm.tqdm(range(len(recordings))) :\n",
    "        datos=recordings[i]\n",
    "        filtros=sio.loadmat('./Filters1')\n",
    "        try:\n",
    "            X=datos\n",
    "            X=X[trim*3:-trim*3]\n",
    "            Fs=4000\n",
    "            \n",
    "            Fpa20=filtros['Fpa20'];\t\t\t        # High pass filter\n",
    "            Fpa20=Fpa20[0];\t\t\t\t\t# High pass filter\n",
    "            Fpb100=filtros['Fpb100'];\t\t        # Low-pass Filter\n",
    "            Fpb100=Fpb100[0];\t\t\t\t# Low-pass Filter\n",
    "            \n",
    "            Xf=FpassBand(X,Fpa20,Fpb100); \t                # Apply a passband filter\n",
    "            Xf=vec_nor(Xf);\t\t\t\n",
    "            \n",
    "                    # Derivate of the Signal\n",
    "            dX=derivate(Xf);\t\t\t\t# Derivate of the signal\n",
    "            dX=vec_nor(dX);\t\t\t\t\t# Vector Normalizing\n",
    "                    # Square of the signal\n",
    "            dy=np.square(Xf);\n",
    "            dy=vec_nor(dy);\n",
    "                    \n",
    "            size=np.shape(Xf)\t\t\t\t# Rank or dimension of the array\n",
    "            fil=size[0];\t\t\t\t\t# Number of rows\n",
    "\n",
    "            positive=np.zeros((1,fil+1));                   # Initializating Positives Values Vector \n",
    "            positive=positive[0];                           # Getting the Vector\n",
    "\n",
    "            points=np.zeros((1,fil));                       # Initializating the all Peak Points Vector\n",
    "            points=points[0];                               # Getting the point vector\n",
    "\n",
    "            peaks=np.zeros((1,fil));                        # Initializating the s1-s1 Peak Vector\n",
    "            peaks=peaks[0];                                 # Getting the point vector\n",
    "\n",
    "            \n",
    "            for i in range(0,fil):\n",
    "                if dX[i]>0:\n",
    "                    positive[i]=1;\n",
    "                else:\n",
    "                    positive[i]=0;\n",
    "\n",
    "            for i in range(0,fil):\n",
    "                if (positive[i]==1 and positive[i+1]==0):\n",
    "                    points[i]=Xf[i];\n",
    "                else:\n",
    "                    points[i]=0;\n",
    "\n",
    "            indexes=peakutils.indexes(points,thres=0.5/max(points), min_dist=min_dist);\n",
    "            lenght=np.shape(indexes)\t\t\t# Get the length of the index vector\t\t\n",
    "            lenght=lenght[0];\t\t\t\t# Get the value of the index vector\n",
    "\n",
    "            for i in range(0,lenght):\n",
    "                p=indexes[i];\n",
    "                peaks[p]=points[p];\n",
    "        \n",
    "            n=np.arange(0,fil);                            # Vector to the X axes (Number of Samples)\n",
    "            \n",
    "            tmp_peaks = np.diff(indexes)\n",
    "                    \n",
    "            tmp_interval.append(tmp_peaks)\n",
    "                    \n",
    "           \n",
    "        except:\n",
    "            print(i)\n",
    "            tmp_peaks = np.zeros(maxlen)\n",
    "            tmp_interval.append(tmp_peaks)\n",
    "                    \n",
    "     \n",
    "    padded =pad_sequences(tmp_interval, maxlen=max_interval_len, dtype='float64', padding='post', truncating='post', value=0.0)\n",
    "        \n",
    "    for i in range(len(padded)):\n",
    "        features['interval'].append(padded[i])\n",
    "        \n",
    "        \n",
    "    for i in range(len(features['interval'])):\n",
    "        features['interval'][i] = np.array(features['interval'][i])\n",
    "        \n",
    "    features['interval'] = np.array(features['interval'])\n",
    "    \n",
    "    \n",
    "    \n",
    "    features['mel1'] = []\n",
    "    for i in range(len(recordings)) :\n",
    "        if use_mel :\n",
    "            mel1 = feature_extract_melspec(recordings[i]/ 32768, samp_sec=samp_sec, pre_emphasis = pre_emphasis, hop_length=hop_length, \n",
    "                                           win_length = win_length, n_mels = n_mels)[0]\n",
    "        else :\n",
    "            mel1 = np.zeros( (1,1) )\n",
    "            \n",
    "        features['mel1'].append(mel1)\n",
    "        \n",
    "    M, N = features['mel1'][0].shape\n",
    "    \n",
    "    if use_mel :\n",
    "        for i in range(len(features['mel1'])) :\n",
    "            features['mel1'][i] = features['mel1'][i].reshape(M,N,1)   \n",
    "    \n",
    "    features['mel1'] = np.array(features['mel1'])\n",
    "\n",
    "    \n",
    "  \n",
    "    features['cqt1'] = []\n",
    "    for i in range(len(recordings)) :\n",
    "        if use_cqt :\n",
    "            mel1 = feature_extract_cqt(recordings[i], samp_sec=samp_sec, pre_emphasis = pre_emphasis, filter_scale = filter_scale, \n",
    "                                        n_bins = n_bins, fmin = fmin)[0]\n",
    "        else:\n",
    "            mel1 = np.zeros( (1,1,1) )\n",
    "            \n",
    "        features['cqt1'].append(mel1)\n",
    "        \n",
    "    M, N,__ = features['cqt1'][0].shape\n",
    "    \n",
    "    if use_cqt :\n",
    "        for i in range(len(features['cqt1'])) :\n",
    "            features['cqt1'][i] = features['cqt1'][i].reshape(M,N,1)   \n",
    "    \n",
    "    features['cqt1'] = np.array(features['cqt1'])\n",
    "    \n",
    "    \n",
    "    features['stft1'] = []\n",
    "    for i in range(len(recordings)) :\n",
    "        if use_stft :\n",
    "            mel1 = feature_extract_stft(recordings[i]/ 32768, samp_sec=samp_sec, pre_emphasis = pre_emphasis, hop_length=hop_length, \n",
    "                                        win_length = win_length)[0]\n",
    "        else :\n",
    "            mel1 = np.zeros( (1,1,1) )\n",
    "        \n",
    "        features['stft1'].append(mel1)\n",
    "        \n",
    "    M, N,__ = features['stft1'][0].shape\n",
    "    if use_stft :\n",
    "        for i in range(len(features['stft1'])) :\n",
    "            features['stft1'][i] = features['stft1'][i].reshape(M,N,1)           \n",
    "    features['stft1'] = np.array(features['stft1'])\n",
    "    \n",
    "#     return features       \n",
    "\n",
    "    #    print(features)\n",
    "    # Impute missing data.\n",
    "    res1 = model1.predict([features['age'], features['sex'], features['hw'], features['preg'], \n",
    "                           features['loc'], features['interval'],features['wav2'],features['mel1'], features['stft1'], features['cqt1']])\n",
    "    res2 = model2.predict([features['age'], features['sex'], features['hw'], features['preg'], \n",
    "                           features['loc'], features['interval'],features['wav2'],features['mel1'], features['stft1'], features['cqt1']])\n",
    "    if model['ord1'] :\n",
    "        idx1 = res1.argmax(axis=0)[0]\n",
    "        murmur_p = res1[idx1,]  ## mumur 확률 최대화 되는 애 뽑기\n",
    "        murmur_probabilities = np.zeros((3,))\n",
    "        murmur_probabilities[0] = murmur_p[0]\n",
    "        murmur_probabilities[1] = 0\n",
    "        murmur_probabilities[2] = murmur_p[1]\n",
    "        outcome_probabilities = res2.mean(axis = 0) ##  outcome 은 그냥 평균으로 뽑기\n",
    "    else :\n",
    "        if model['mm_mean'] :\n",
    "            murmur_probabilities = res1.mean(axis = 0)\n",
    "        else :\n",
    "            idx1 = res1.argmax(axis=0)[0]\n",
    "            murmur_probabilities = res1[idx1,]  ## mumur 확률 최대화 되는 애 뽑기\n",
    "        outcome_probabilities = res2.mean(axis = 0) ##  outcome 은 그냥 평균으로 뽑기\n",
    "\n",
    "        \n",
    "    murmur_labels = np.zeros(len(murmur_classes), dtype=np.int_)\n",
    "    \n",
    "    \n",
    "    if murmur_probabilities[0] > 0.482 :\n",
    "        idx = 0\n",
    "    else :\n",
    "        idx = 2\n",
    "    murmur_labels[idx] = 1\n",
    "\n",
    "    outcome_labels = np.zeros(len(outcome_classes), dtype=np.int_)\n",
    "    if outcome_probabilities[0] > 0.607 :\n",
    "        idx = 0\n",
    "    else :\n",
    "        idx = 1    \n",
    "        # idx = np.argmax(outcome_probabilities)\n",
    "    outcome_labels[idx] = 1\n",
    "    \n",
    "    # Concatenate classes, labels, and probabilities.\n",
    "    classes = murmur_classes + outcome_classes\n",
    "    labels = np.concatenate((murmur_labels, outcome_labels))\n",
    "    probabilities = np.concatenate((murmur_probabilities, outcome_probabilities))\n",
    "    \n",
    "    return classes, labels, probabilities"
   ]
  },
  {
   "cell_type": "code",
   "execution_count": 163,
   "id": "b5eecd4a",
   "metadata": {
    "scrolled": true
   },
   "outputs": [
    {
     "data": {
      "text/plain": [
       "'lcnn2'"
      ]
     },
     "execution_count": 163,
     "metadata": {},
     "output_type": "execute_result"
    }
   ],
   "source": [
    "model_folder"
   ]
  },
  {
   "cell_type": "code",
   "execution_count": 164,
   "id": "cd5b523f",
   "metadata": {},
   "outputs": [],
   "source": [
    "data_folder = test_folder"
   ]
  },
  {
   "cell_type": "code",
   "execution_count": 165,
   "id": "1f523ff0",
   "metadata": {},
   "outputs": [
    {
     "data": {
      "text/plain": [
       "'/home/jk21/Downloads/Data/data/murmur/test'"
      ]
     },
     "execution_count": 165,
     "metadata": {},
     "output_type": "execute_result"
    }
   ],
   "source": [
    "data_folder"
   ]
  },
  {
   "cell_type": "code",
   "execution_count": 166,
   "id": "c67ffdf6",
   "metadata": {},
   "outputs": [],
   "source": [
    "output_folder ='/home/jk21/Documents/hmd/jk_classifier/out_lcnn2'"
   ]
  },
  {
   "cell_type": "code",
   "execution_count": 167,
   "id": "89e8d650",
   "metadata": {},
   "outputs": [],
   "source": [
    "allow_failures=True"
   ]
  },
  {
   "cell_type": "code",
   "execution_count": 168,
   "id": "bccc27ef",
   "metadata": {},
   "outputs": [],
   "source": [
    "verbose=1"
   ]
  },
  {
   "cell_type": "code",
   "execution_count": null,
   "id": "101c582c",
   "metadata": {},
   "outputs": [],
   "source": []
  },
  {
   "cell_type": "code",
   "execution_count": 169,
   "id": "73579324",
   "metadata": {},
   "outputs": [],
   "source": [
    "model = load_challenge_model(model_folder, verbose)"
   ]
  },
  {
   "cell_type": "code",
   "execution_count": 170,
   "id": "20a7edc2",
   "metadata": {},
   "outputs": [],
   "source": [
    "patient_files = find_patient_files(data_folder)"
   ]
  },
  {
   "cell_type": "code",
   "execution_count": 171,
   "id": "450b3026",
   "metadata": {},
   "outputs": [],
   "source": [
    "num_patient_files = len(patient_files)"
   ]
  },
  {
   "cell_type": "code",
   "execution_count": 172,
   "id": "2ed2bb8f",
   "metadata": {},
   "outputs": [],
   "source": [
    "patient_data = load_patient_data(patient_files[0])"
   ]
  },
  {
   "cell_type": "code",
   "execution_count": 173,
   "id": "18f0a77e",
   "metadata": {},
   "outputs": [
    {
     "data": {
      "text/plain": [
       "'33151 4 4000\\nAV 33151_AV.hea 33151_AV.wav 33151_AV.tsv\\nPV 33151_PV.hea 33151_PV.wav 33151_PV.tsv\\nTV 33151_TV.hea 33151_TV.wav 33151_TV.tsv\\nMV 33151_MV.hea 33151_MV.wav 33151_MV.tsv\\n#Age: Child\\n#Sex: Female\\n#Height: 141.0\\n#Weight: 30.9\\n#Pregnancy status: False\\n#Murmur: Present\\n#Murmur locations: MV+TV\\n#Most audible location: TV\\n#Systolic murmur timing: Holosystolic\\n#Systolic murmur shape: Plateau\\n#Systolic murmur grading: I/VI\\n#Systolic murmur pitch: Low\\n#Systolic murmur quality: Harsh\\n#Diastolic murmur timing: nan\\n#Diastolic murmur shape: nan\\n#Diastolic murmur grading: nan\\n#Diastolic murmur pitch: nan\\n#Diastolic murmur quality: nan\\n#Outcome: Abnormal\\n#Campaign: CC2015\\n#Additional ID: nan\\n'"
      ]
     },
     "execution_count": 173,
     "metadata": {},
     "output_type": "execute_result"
    }
   ],
   "source": [
    "patient_data"
   ]
  },
  {
   "cell_type": "code",
   "execution_count": 174,
   "id": "f039e162",
   "metadata": {},
   "outputs": [],
   "source": [
    "recordings = load_recordings(data_folder, patient_data)"
   ]
  },
  {
   "cell_type": "code",
   "execution_count": 175,
   "id": "d3acd534",
   "metadata": {},
   "outputs": [
    {
     "name": "stderr",
     "output_type": "stream",
     "text": [
      "100%|█████████████████████████████████████████████| 4/4 [00:00<00:00,  8.64it/s]\n"
     ]
    }
   ],
   "source": [
    "classes, labels, probabilities = run_challenge_model(model, patient_data, recordings, verbose)"
   ]
  },
  {
   "cell_type": "code",
   "execution_count": 176,
   "id": "970b87e5",
   "metadata": {},
   "outputs": [
    {
     "data": {
      "text/plain": [
       "['Present', 'Unknown', 'Absent', 'Abnormal', 'Normal']"
      ]
     },
     "execution_count": 176,
     "metadata": {},
     "output_type": "execute_result"
    }
   ],
   "source": [
    "classes"
   ]
  },
  {
   "cell_type": "code",
   "execution_count": 177,
   "id": "b6a44c38",
   "metadata": {},
   "outputs": [],
   "source": [
    "# Run model.\n",
    "def run_model(model_folder, data_folder, output_folder, allow_failures, verbose=1):\n",
    "    # Load models.\n",
    "    if verbose >= 1:\n",
    "        print('Loading Challenge model...')\n",
    "\n",
    "    model = load_challenge_model(model_folder, verbose) ### Teams: Implement this function!!!\n",
    "\n",
    "    # Find the patient data files.\n",
    "    patient_files = find_patient_files(data_folder)\n",
    "    num_patient_files = len(patient_files)\n",
    "\n",
    "    if num_patient_files==0:\n",
    "        raise Exception('No data was provided.')\n",
    "\n",
    "    # Create a folder for the Challenge outputs if it does not already exist.\n",
    "    os.makedirs(output_folder, exist_ok=True)\n",
    "\n",
    "    # Run the team's model on the Challenge data.\n",
    "    if verbose >= 1:\n",
    "        print('Running model on Challenge data...')\n",
    "\n",
    "    # Iterate over the patient files.\n",
    "    for i in range(num_patient_files):\n",
    "        if verbose >= 2:\n",
    "            print('    {}/{}...'.format(i+1, num_patient_files))\n",
    "\n",
    "        patient_data = load_patient_data(patient_files[i])\n",
    "        recordings = load_recordings(data_folder, patient_data)\n",
    "\n",
    "        # Allow or disallow the model to fail on parts of the data; helpful for debugging.\n",
    "        try:\n",
    "            classes, labels, probabilities = run_challenge_model(model, patient_data, recordings, verbose) ### Teams: Implement this function!!!\n",
    "        except:\n",
    "            if allow_failures:\n",
    "                if verbose >= 2:\n",
    "                    print('... failed.')\n",
    "                classes, labels, probabilities = list(), list(), list()\n",
    "            else:\n",
    "                raise\n",
    "\n",
    "        # Save Challenge outputs.\n",
    "        head, tail = os.path.split(patient_files[i])\n",
    "        root, extension = os.path.splitext(tail)\n",
    "        output_file = os.path.join(output_folder, root + '.csv')\n",
    "        patient_id = get_patient_id(patient_data)\n",
    "        save_challenge_outputs(output_file, patient_id, classes, labels, probabilities)\n",
    "\n",
    "    if verbose >= 1:\n",
    "        print('Done.')"
   ]
  },
  {
   "cell_type": "code",
   "execution_count": 178,
   "id": "7fe188c6",
   "metadata": {},
   "outputs": [
    {
     "data": {
      "text/plain": [
       "'/home/jk21/Downloads/Data/data/murmur/test'"
      ]
     },
     "execution_count": 178,
     "metadata": {},
     "output_type": "execute_result"
    }
   ],
   "source": [
    "test_folder"
   ]
  },
  {
   "cell_type": "code",
   "execution_count": 179,
   "id": "38ee9f70",
   "metadata": {},
   "outputs": [],
   "source": [
    "output_folder = '/home/jk21/Documents/hmd/jk_classifier/out_lcnn2'"
   ]
  },
  {
   "cell_type": "code",
   "execution_count": 180,
   "id": "d4be81f7",
   "metadata": {},
   "outputs": [
    {
     "name": "stdout",
     "output_type": "stream",
     "text": [
      "Loading Challenge model...\n",
      "Running model on Challenge data...\n",
      "    1/191...\n"
     ]
    },
    {
     "name": "stderr",
     "output_type": "stream",
     "text": [
      "100%|█████████████████████████████████████████████| 4/4 [00:00<00:00,  8.36it/s]\n"
     ]
    },
    {
     "name": "stdout",
     "output_type": "stream",
     "text": [
      "    2/191...\n"
     ]
    },
    {
     "name": "stderr",
     "output_type": "stream",
     "text": [
      "100%|█████████████████████████████████████████████| 2/2 [00:00<00:00,  8.91it/s]\n"
     ]
    },
    {
     "name": "stdout",
     "output_type": "stream",
     "text": [
      "    3/191...\n"
     ]
    },
    {
     "name": "stderr",
     "output_type": "stream",
     "text": [
      "100%|█████████████████████████████████████████████| 4/4 [00:00<00:00,  5.77it/s]\n"
     ]
    },
    {
     "name": "stdout",
     "output_type": "stream",
     "text": [
      "    4/191...\n"
     ]
    },
    {
     "name": "stderr",
     "output_type": "stream",
     "text": [
      "100%|█████████████████████████████████████████████| 2/2 [00:00<00:00,  4.74it/s]\n"
     ]
    },
    {
     "name": "stdout",
     "output_type": "stream",
     "text": [
      "    5/191...\n"
     ]
    },
    {
     "name": "stderr",
     "output_type": "stream",
     "text": [
      "100%|█████████████████████████████████████████████| 3/3 [00:00<00:00,  5.07it/s]\n"
     ]
    },
    {
     "name": "stdout",
     "output_type": "stream",
     "text": [
      "    6/191...\n"
     ]
    },
    {
     "name": "stderr",
     "output_type": "stream",
     "text": [
      "100%|█████████████████████████████████████████████| 1/1 [00:00<00:00,  3.23it/s]\n"
     ]
    },
    {
     "name": "stdout",
     "output_type": "stream",
     "text": [
      "    7/191...\n"
     ]
    },
    {
     "name": "stderr",
     "output_type": "stream",
     "text": [
      "100%|█████████████████████████████████████████████| 4/4 [00:00<00:00,  4.70it/s]\n"
     ]
    },
    {
     "name": "stdout",
     "output_type": "stream",
     "text": [
      "    8/191...\n"
     ]
    },
    {
     "name": "stderr",
     "output_type": "stream",
     "text": [
      "100%|█████████████████████████████████████████████| 4/4 [00:00<00:00,  9.71it/s]\n"
     ]
    },
    {
     "name": "stdout",
     "output_type": "stream",
     "text": [
      "    9/191...\n"
     ]
    },
    {
     "name": "stderr",
     "output_type": "stream",
     "text": [
      "100%|█████████████████████████████████████████████| 4/4 [00:00<00:00,  4.12it/s]\n"
     ]
    },
    {
     "name": "stdout",
     "output_type": "stream",
     "text": [
      "    10/191...\n"
     ]
    },
    {
     "name": "stderr",
     "output_type": "stream",
     "text": [
      "100%|█████████████████████████████████████████████| 4/4 [00:01<00:00,  3.82it/s]\n"
     ]
    },
    {
     "name": "stdout",
     "output_type": "stream",
     "text": [
      "    11/191...\n"
     ]
    },
    {
     "name": "stderr",
     "output_type": "stream",
     "text": [
      "100%|█████████████████████████████████████████████| 4/4 [00:00<00:00,  4.90it/s]\n"
     ]
    },
    {
     "name": "stdout",
     "output_type": "stream",
     "text": [
      "    12/191...\n"
     ]
    },
    {
     "name": "stderr",
     "output_type": "stream",
     "text": [
      "100%|█████████████████████████████████████████████| 2/2 [00:00<00:00,  3.36it/s]\n"
     ]
    },
    {
     "name": "stdout",
     "output_type": "stream",
     "text": [
      "    13/191...\n"
     ]
    },
    {
     "name": "stderr",
     "output_type": "stream",
     "text": [
      "100%|█████████████████████████████████████████████| 3/3 [00:00<00:00,  4.98it/s]\n"
     ]
    },
    {
     "name": "stdout",
     "output_type": "stream",
     "text": [
      "    14/191...\n"
     ]
    },
    {
     "name": "stderr",
     "output_type": "stream",
     "text": [
      "100%|█████████████████████████████████████████████| 4/4 [00:00<00:00,  4.82it/s]\n"
     ]
    },
    {
     "name": "stdout",
     "output_type": "stream",
     "text": [
      "    15/191...\n"
     ]
    },
    {
     "name": "stderr",
     "output_type": "stream",
     "text": [
      "100%|█████████████████████████████████████████████| 2/2 [00:00<00:00,  4.69it/s]\n"
     ]
    },
    {
     "name": "stdout",
     "output_type": "stream",
     "text": [
      "    16/191...\n"
     ]
    },
    {
     "name": "stderr",
     "output_type": "stream",
     "text": [
      "100%|█████████████████████████████████████████████| 4/4 [00:00<00:00,  6.13it/s]\n"
     ]
    },
    {
     "name": "stdout",
     "output_type": "stream",
     "text": [
      "    17/191...\n"
     ]
    },
    {
     "name": "stderr",
     "output_type": "stream",
     "text": [
      "100%|█████████████████████████████████████████████| 5/5 [00:00<00:00,  8.71it/s]\n"
     ]
    },
    {
     "name": "stdout",
     "output_type": "stream",
     "text": [
      "    18/191...\n"
     ]
    },
    {
     "name": "stderr",
     "output_type": "stream",
     "text": [
      "100%|█████████████████████████████████████████████| 1/1 [00:00<00:00,  9.85it/s]\n"
     ]
    },
    {
     "name": "stdout",
     "output_type": "stream",
     "text": [
      "    19/191...\n"
     ]
    },
    {
     "name": "stderr",
     "output_type": "stream",
     "text": [
      "100%|█████████████████████████████████████████████| 4/4 [00:00<00:00,  8.10it/s]\n"
     ]
    },
    {
     "name": "stdout",
     "output_type": "stream",
     "text": [
      "    20/191...\n"
     ]
    },
    {
     "name": "stderr",
     "output_type": "stream",
     "text": [
      "100%|█████████████████████████████████████████████| 4/4 [00:00<00:00,  9.41it/s]\n"
     ]
    },
    {
     "name": "stdout",
     "output_type": "stream",
     "text": [
      "    21/191...\n"
     ]
    },
    {
     "name": "stderr",
     "output_type": "stream",
     "text": [
      "100%|█████████████████████████████████████████████| 2/2 [00:00<00:00,  4.64it/s]\n"
     ]
    },
    {
     "name": "stdout",
     "output_type": "stream",
     "text": [
      "    22/191...\n"
     ]
    },
    {
     "name": "stderr",
     "output_type": "stream",
     "text": [
      "100%|█████████████████████████████████████████████| 1/1 [00:00<00:00,  6.53it/s]\n"
     ]
    },
    {
     "name": "stdout",
     "output_type": "stream",
     "text": [
      "    23/191...\n"
     ]
    },
    {
     "name": "stderr",
     "output_type": "stream",
     "text": [
      "100%|█████████████████████████████████████████████| 2/2 [00:00<00:00,  4.43it/s]\n"
     ]
    },
    {
     "name": "stdout",
     "output_type": "stream",
     "text": [
      "    24/191...\n"
     ]
    },
    {
     "name": "stderr",
     "output_type": "stream",
     "text": [
      "100%|█████████████████████████████████████████████| 3/3 [00:00<00:00,  3.85it/s]\n"
     ]
    },
    {
     "name": "stdout",
     "output_type": "stream",
     "text": [
      "    25/191...\n"
     ]
    },
    {
     "name": "stderr",
     "output_type": "stream",
     "text": [
      "100%|█████████████████████████████████████████████| 4/4 [00:00<00:00,  4.25it/s]\n"
     ]
    },
    {
     "name": "stdout",
     "output_type": "stream",
     "text": [
      "    26/191...\n"
     ]
    },
    {
     "name": "stderr",
     "output_type": "stream",
     "text": [
      "100%|█████████████████████████████████████████████| 3/3 [00:00<00:00,  3.77it/s]\n"
     ]
    },
    {
     "name": "stdout",
     "output_type": "stream",
     "text": [
      "    27/191...\n"
     ]
    },
    {
     "name": "stderr",
     "output_type": "stream",
     "text": [
      "100%|█████████████████████████████████████████████| 2/2 [00:00<00:00,  4.44it/s]\n"
     ]
    },
    {
     "name": "stdout",
     "output_type": "stream",
     "text": [
      "    28/191...\n"
     ]
    },
    {
     "name": "stderr",
     "output_type": "stream",
     "text": [
      "100%|█████████████████████████████████████████████| 3/3 [00:00<00:00,  5.22it/s]\n"
     ]
    },
    {
     "name": "stdout",
     "output_type": "stream",
     "text": [
      "    29/191...\n"
     ]
    },
    {
     "name": "stderr",
     "output_type": "stream",
     "text": [
      "100%|█████████████████████████████████████████████| 3/3 [00:00<00:00,  4.22it/s]\n"
     ]
    },
    {
     "name": "stdout",
     "output_type": "stream",
     "text": [
      "    30/191...\n"
     ]
    },
    {
     "name": "stderr",
     "output_type": "stream",
     "text": [
      "100%|█████████████████████████████████████████████| 4/4 [00:00<00:00,  5.14it/s]\n"
     ]
    },
    {
     "name": "stdout",
     "output_type": "stream",
     "text": [
      "    31/191...\n"
     ]
    },
    {
     "name": "stderr",
     "output_type": "stream",
     "text": [
      "100%|█████████████████████████████████████████████| 3/3 [00:00<00:00,  4.55it/s]\n"
     ]
    },
    {
     "name": "stdout",
     "output_type": "stream",
     "text": [
      "    32/191...\n"
     ]
    },
    {
     "name": "stderr",
     "output_type": "stream",
     "text": [
      "100%|█████████████████████████████████████████████| 2/2 [00:00<00:00,  3.99it/s]\n"
     ]
    },
    {
     "name": "stdout",
     "output_type": "stream",
     "text": [
      "    33/191...\n"
     ]
    },
    {
     "name": "stderr",
     "output_type": "stream",
     "text": [
      "100%|█████████████████████████████████████████████| 1/1 [00:00<00:00,  3.30it/s]\n"
     ]
    },
    {
     "name": "stdout",
     "output_type": "stream",
     "text": [
      "    34/191...\n"
     ]
    },
    {
     "name": "stderr",
     "output_type": "stream",
     "text": [
      "100%|█████████████████████████████████████████████| 3/3 [00:00<00:00,  4.48it/s]\n"
     ]
    },
    {
     "name": "stdout",
     "output_type": "stream",
     "text": [
      "    35/191...\n"
     ]
    },
    {
     "name": "stderr",
     "output_type": "stream",
     "text": [
      "100%|█████████████████████████████████████████████| 3/3 [00:00<00:00,  4.26it/s]\n"
     ]
    },
    {
     "name": "stdout",
     "output_type": "stream",
     "text": [
      "    36/191...\n"
     ]
    },
    {
     "name": "stderr",
     "output_type": "stream",
     "text": [
      "100%|█████████████████████████████████████████████| 3/3 [00:00<00:00,  5.21it/s]\n"
     ]
    },
    {
     "name": "stdout",
     "output_type": "stream",
     "text": [
      "    37/191...\n"
     ]
    },
    {
     "name": "stderr",
     "output_type": "stream",
     "text": [
      "100%|█████████████████████████████████████████████| 3/3 [00:00<00:00,  5.73it/s]\n"
     ]
    },
    {
     "name": "stdout",
     "output_type": "stream",
     "text": [
      "    38/191...\n"
     ]
    },
    {
     "name": "stderr",
     "output_type": "stream",
     "text": [
      "100%|█████████████████████████████████████████████| 5/5 [00:00<00:00,  5.25it/s]\n"
     ]
    },
    {
     "name": "stdout",
     "output_type": "stream",
     "text": [
      "    39/191...\n"
     ]
    },
    {
     "name": "stderr",
     "output_type": "stream",
     "text": [
      "100%|█████████████████████████████████████████████| 4/4 [00:00<00:00,  4.58it/s]\n"
     ]
    },
    {
     "name": "stdout",
     "output_type": "stream",
     "text": [
      "    40/191...\n"
     ]
    },
    {
     "name": "stderr",
     "output_type": "stream",
     "text": [
      "100%|█████████████████████████████████████████████| 2/2 [00:00<00:00,  4.50it/s]\n"
     ]
    },
    {
     "name": "stdout",
     "output_type": "stream",
     "text": [
      "    41/191...\n"
     ]
    },
    {
     "name": "stderr",
     "output_type": "stream",
     "text": [
      "100%|█████████████████████████████████████████████| 4/4 [00:00<00:00,  6.58it/s]\n"
     ]
    },
    {
     "name": "stdout",
     "output_type": "stream",
     "text": [
      "    42/191...\n"
     ]
    },
    {
     "name": "stderr",
     "output_type": "stream",
     "text": [
      "100%|█████████████████████████████████████████████| 3/3 [00:00<00:00,  5.28it/s]\n"
     ]
    },
    {
     "name": "stdout",
     "output_type": "stream",
     "text": [
      "    43/191...\n"
     ]
    },
    {
     "name": "stderr",
     "output_type": "stream",
     "text": [
      "100%|█████████████████████████████████████████████| 3/3 [00:00<00:00,  6.70it/s]\n"
     ]
    },
    {
     "name": "stdout",
     "output_type": "stream",
     "text": [
      "    44/191...\n"
     ]
    },
    {
     "name": "stderr",
     "output_type": "stream",
     "text": [
      "100%|█████████████████████████████████████████████| 2/2 [00:00<00:00,  4.29it/s]\n"
     ]
    },
    {
     "name": "stdout",
     "output_type": "stream",
     "text": [
      "    45/191...\n"
     ]
    },
    {
     "name": "stderr",
     "output_type": "stream",
     "text": [
      "100%|█████████████████████████████████████████████| 4/4 [00:00<00:00,  4.91it/s]\n"
     ]
    },
    {
     "name": "stdout",
     "output_type": "stream",
     "text": [
      "    46/191...\n"
     ]
    },
    {
     "name": "stderr",
     "output_type": "stream",
     "text": [
      "100%|█████████████████████████████████████████████| 4/4 [00:00<00:00,  4.96it/s]\n"
     ]
    },
    {
     "name": "stdout",
     "output_type": "stream",
     "text": [
      "    47/191...\n"
     ]
    },
    {
     "name": "stderr",
     "output_type": "stream",
     "text": [
      "100%|█████████████████████████████████████████████| 4/4 [00:00<00:00,  5.03it/s]\n"
     ]
    },
    {
     "name": "stdout",
     "output_type": "stream",
     "text": [
      "    48/191...\n"
     ]
    },
    {
     "name": "stderr",
     "output_type": "stream",
     "text": [
      "100%|█████████████████████████████████████████████| 4/4 [00:00<00:00,  4.70it/s]\n"
     ]
    },
    {
     "name": "stdout",
     "output_type": "stream",
     "text": [
      "    49/191...\n"
     ]
    },
    {
     "name": "stderr",
     "output_type": "stream",
     "text": [
      "100%|█████████████████████████████████████████████| 2/2 [00:00<00:00,  4.63it/s]\n"
     ]
    },
    {
     "name": "stdout",
     "output_type": "stream",
     "text": [
      "    50/191...\n"
     ]
    },
    {
     "name": "stderr",
     "output_type": "stream",
     "text": [
      "100%|█████████████████████████████████████████████| 2/2 [00:00<00:00,  5.21it/s]\n"
     ]
    },
    {
     "name": "stdout",
     "output_type": "stream",
     "text": [
      "    51/191...\n"
     ]
    },
    {
     "name": "stderr",
     "output_type": "stream",
     "text": [
      "100%|█████████████████████████████████████████████| 2/2 [00:00<00:00,  7.00it/s]\n"
     ]
    },
    {
     "name": "stdout",
     "output_type": "stream",
     "text": [
      "    52/191...\n"
     ]
    },
    {
     "name": "stderr",
     "output_type": "stream",
     "text": [
      "100%|█████████████████████████████████████████████| 5/5 [00:00<00:00,  6.24it/s]\n"
     ]
    },
    {
     "name": "stdout",
     "output_type": "stream",
     "text": [
      "    53/191...\n"
     ]
    },
    {
     "name": "stderr",
     "output_type": "stream",
     "text": [
      "100%|█████████████████████████████████████████████| 2/2 [00:00<00:00,  4.77it/s]\n"
     ]
    },
    {
     "name": "stdout",
     "output_type": "stream",
     "text": [
      "    54/191...\n"
     ]
    },
    {
     "name": "stderr",
     "output_type": "stream",
     "text": [
      "100%|█████████████████████████████████████████████| 4/4 [00:00<00:00,  4.37it/s]\n"
     ]
    },
    {
     "name": "stdout",
     "output_type": "stream",
     "text": [
      "    55/191...\n"
     ]
    },
    {
     "name": "stderr",
     "output_type": "stream",
     "text": [
      "100%|█████████████████████████████████████████████| 4/4 [00:00<00:00,  4.84it/s]\n"
     ]
    },
    {
     "name": "stdout",
     "output_type": "stream",
     "text": [
      "    56/191...\n"
     ]
    },
    {
     "name": "stderr",
     "output_type": "stream",
     "text": [
      "100%|█████████████████████████████████████████████| 4/4 [00:00<00:00,  4.87it/s]\n"
     ]
    },
    {
     "name": "stdout",
     "output_type": "stream",
     "text": [
      "    57/191...\n"
     ]
    },
    {
     "name": "stderr",
     "output_type": "stream",
     "text": [
      "100%|█████████████████████████████████████████████| 2/2 [00:00<00:00,  4.17it/s]\n"
     ]
    },
    {
     "name": "stdout",
     "output_type": "stream",
     "text": [
      "    58/191...\n"
     ]
    },
    {
     "name": "stderr",
     "output_type": "stream",
     "text": [
      "100%|█████████████████████████████████████████████| 1/1 [00:00<00:00,  4.53it/s]\n"
     ]
    },
    {
     "name": "stdout",
     "output_type": "stream",
     "text": [
      "    59/191...\n"
     ]
    },
    {
     "name": "stderr",
     "output_type": "stream",
     "text": [
      "100%|█████████████████████████████████████████████| 3/3 [00:00<00:00,  4.53it/s]\n"
     ]
    },
    {
     "name": "stdout",
     "output_type": "stream",
     "text": [
      "    60/191...\n"
     ]
    },
    {
     "name": "stderr",
     "output_type": "stream",
     "text": [
      "100%|█████████████████████████████████████████████| 2/2 [00:00<00:00,  4.81it/s]\n"
     ]
    },
    {
     "name": "stdout",
     "output_type": "stream",
     "text": [
      "    61/191...\n"
     ]
    },
    {
     "name": "stderr",
     "output_type": "stream",
     "text": [
      "100%|█████████████████████████████████████████████| 2/2 [00:00<00:00,  4.92it/s]\n"
     ]
    },
    {
     "name": "stdout",
     "output_type": "stream",
     "text": [
      "    62/191...\n"
     ]
    },
    {
     "name": "stderr",
     "output_type": "stream",
     "text": [
      "100%|█████████████████████████████████████████████| 5/5 [00:01<00:00,  4.50it/s]\n"
     ]
    },
    {
     "name": "stdout",
     "output_type": "stream",
     "text": [
      "    63/191...\n"
     ]
    },
    {
     "name": "stderr",
     "output_type": "stream",
     "text": [
      "100%|█████████████████████████████████████████████| 4/4 [00:00<00:00,  4.37it/s]\n"
     ]
    },
    {
     "name": "stdout",
     "output_type": "stream",
     "text": [
      "    64/191...\n"
     ]
    },
    {
     "name": "stderr",
     "output_type": "stream",
     "text": [
      "100%|█████████████████████████████████████████████| 2/2 [00:00<00:00,  4.40it/s]\n"
     ]
    },
    {
     "name": "stdout",
     "output_type": "stream",
     "text": [
      "    65/191...\n"
     ]
    },
    {
     "name": "stderr",
     "output_type": "stream",
     "text": [
      "100%|█████████████████████████████████████████████| 1/1 [00:00<00:00,  6.37it/s]\n"
     ]
    },
    {
     "name": "stdout",
     "output_type": "stream",
     "text": [
      "    66/191...\n"
     ]
    },
    {
     "name": "stderr",
     "output_type": "stream",
     "text": [
      "100%|█████████████████████████████████████████████| 3/3 [00:00<00:00,  4.69it/s]\n"
     ]
    },
    {
     "name": "stdout",
     "output_type": "stream",
     "text": [
      "    67/191...\n"
     ]
    },
    {
     "name": "stderr",
     "output_type": "stream",
     "text": [
      "100%|█████████████████████████████████████████████| 4/4 [00:00<00:00,  4.87it/s]\n"
     ]
    },
    {
     "name": "stdout",
     "output_type": "stream",
     "text": [
      "    68/191...\n"
     ]
    },
    {
     "name": "stderr",
     "output_type": "stream",
     "text": [
      "100%|█████████████████████████████████████████████| 4/4 [00:00<00:00,  4.83it/s]\n"
     ]
    },
    {
     "name": "stdout",
     "output_type": "stream",
     "text": [
      "    69/191...\n"
     ]
    },
    {
     "name": "stderr",
     "output_type": "stream",
     "text": [
      "100%|█████████████████████████████████████████████| 4/4 [00:01<00:00,  3.54it/s]\n"
     ]
    },
    {
     "name": "stdout",
     "output_type": "stream",
     "text": [
      "    70/191...\n"
     ]
    },
    {
     "name": "stderr",
     "output_type": "stream",
     "text": [
      "100%|█████████████████████████████████████████████| 5/5 [00:01<00:00,  2.62it/s]\n"
     ]
    },
    {
     "name": "stdout",
     "output_type": "stream",
     "text": [
      "    71/191...\n"
     ]
    },
    {
     "name": "stderr",
     "output_type": "stream",
     "text": [
      "100%|█████████████████████████████████████████████| 3/3 [00:00<00:00,  4.33it/s]\n"
     ]
    },
    {
     "name": "stdout",
     "output_type": "stream",
     "text": [
      "    72/191...\n"
     ]
    },
    {
     "name": "stderr",
     "output_type": "stream",
     "text": [
      "100%|█████████████████████████████████████████████| 4/4 [00:00<00:00,  6.29it/s]\n"
     ]
    },
    {
     "name": "stdout",
     "output_type": "stream",
     "text": [
      "    73/191...\n"
     ]
    },
    {
     "name": "stderr",
     "output_type": "stream",
     "text": [
      "100%|█████████████████████████████████████████████| 4/4 [00:00<00:00,  5.53it/s]\n"
     ]
    },
    {
     "name": "stdout",
     "output_type": "stream",
     "text": [
      "    74/191...\n"
     ]
    },
    {
     "name": "stderr",
     "output_type": "stream",
     "text": [
      "100%|█████████████████████████████████████████████| 4/4 [00:00<00:00,  4.99it/s]\n"
     ]
    },
    {
     "name": "stdout",
     "output_type": "stream",
     "text": [
      "    75/191...\n"
     ]
    },
    {
     "name": "stderr",
     "output_type": "stream",
     "text": [
      "100%|█████████████████████████████████████████████| 3/3 [00:00<00:00,  4.95it/s]\n"
     ]
    },
    {
     "name": "stdout",
     "output_type": "stream",
     "text": [
      "    76/191...\n"
     ]
    },
    {
     "name": "stderr",
     "output_type": "stream",
     "text": [
      "100%|█████████████████████████████████████████████| 4/4 [00:00<00:00,  4.99it/s]\n"
     ]
    },
    {
     "name": "stdout",
     "output_type": "stream",
     "text": [
      "    77/191...\n"
     ]
    },
    {
     "name": "stderr",
     "output_type": "stream",
     "text": [
      "100%|█████████████████████████████████████████████| 4/4 [00:00<00:00,  4.80it/s]\n"
     ]
    },
    {
     "name": "stdout",
     "output_type": "stream",
     "text": [
      "    78/191...\n"
     ]
    },
    {
     "name": "stderr",
     "output_type": "stream",
     "text": [
      "100%|█████████████████████████████████████████████| 4/4 [00:00<00:00,  4.99it/s]\n"
     ]
    },
    {
     "name": "stdout",
     "output_type": "stream",
     "text": [
      "    79/191...\n"
     ]
    },
    {
     "name": "stderr",
     "output_type": "stream",
     "text": [
      "100%|█████████████████████████████████████████████| 1/1 [00:00<00:00,  7.07it/s]\n"
     ]
    },
    {
     "name": "stdout",
     "output_type": "stream",
     "text": [
      "    80/191...\n"
     ]
    },
    {
     "name": "stderr",
     "output_type": "stream",
     "text": [
      "100%|█████████████████████████████████████████████| 2/2 [00:00<00:00,  5.49it/s]\n"
     ]
    },
    {
     "name": "stdout",
     "output_type": "stream",
     "text": [
      "    81/191...\n"
     ]
    },
    {
     "name": "stderr",
     "output_type": "stream",
     "text": [
      "100%|█████████████████████████████████████████████| 4/4 [00:00<00:00, 14.42it/s]\n"
     ]
    },
    {
     "name": "stdout",
     "output_type": "stream",
     "text": [
      "    82/191...\n"
     ]
    },
    {
     "name": "stderr",
     "output_type": "stream",
     "text": [
      "100%|█████████████████████████████████████████████| 4/4 [00:00<00:00,  6.99it/s]\n"
     ]
    },
    {
     "name": "stdout",
     "output_type": "stream",
     "text": [
      "    83/191...\n"
     ]
    },
    {
     "name": "stderr",
     "output_type": "stream",
     "text": [
      "100%|█████████████████████████████████████████████| 4/4 [00:00<00:00,  5.66it/s]\n"
     ]
    },
    {
     "name": "stdout",
     "output_type": "stream",
     "text": [
      "    84/191...\n"
     ]
    },
    {
     "name": "stderr",
     "output_type": "stream",
     "text": [
      "100%|█████████████████████████████████████████████| 4/4 [00:00<00:00,  7.46it/s]\n"
     ]
    },
    {
     "name": "stdout",
     "output_type": "stream",
     "text": [
      "    85/191...\n"
     ]
    },
    {
     "name": "stderr",
     "output_type": "stream",
     "text": [
      "100%|█████████████████████████████████████████████| 1/1 [00:00<00:00,  6.37it/s]\n"
     ]
    },
    {
     "name": "stdout",
     "output_type": "stream",
     "text": [
      "    86/191...\n"
     ]
    },
    {
     "name": "stderr",
     "output_type": "stream",
     "text": [
      "100%|█████████████████████████████████████████████| 3/3 [00:00<00:00, 10.23it/s]\n"
     ]
    },
    {
     "name": "stdout",
     "output_type": "stream",
     "text": [
      "    87/191...\n"
     ]
    },
    {
     "name": "stderr",
     "output_type": "stream",
     "text": [
      "100%|█████████████████████████████████████████████| 4/4 [00:00<00:00,  7.98it/s]\n"
     ]
    },
    {
     "name": "stdout",
     "output_type": "stream",
     "text": [
      "    88/191...\n"
     ]
    },
    {
     "name": "stderr",
     "output_type": "stream",
     "text": [
      "100%|█████████████████████████████████████████████| 4/4 [00:00<00:00, 10.40it/s]\n"
     ]
    },
    {
     "name": "stdout",
     "output_type": "stream",
     "text": [
      "    89/191...\n"
     ]
    },
    {
     "name": "stderr",
     "output_type": "stream",
     "text": [
      "100%|█████████████████████████████████████████████| 4/4 [00:00<00:00,  6.10it/s]\n"
     ]
    },
    {
     "name": "stdout",
     "output_type": "stream",
     "text": [
      "    90/191...\n"
     ]
    },
    {
     "name": "stderr",
     "output_type": "stream",
     "text": [
      "100%|█████████████████████████████████████████████| 2/2 [00:00<00:00,  6.50it/s]\n"
     ]
    },
    {
     "name": "stdout",
     "output_type": "stream",
     "text": [
      "    91/191...\n"
     ]
    },
    {
     "name": "stderr",
     "output_type": "stream",
     "text": [
      "100%|█████████████████████████████████████████████| 4/4 [00:00<00:00,  7.05it/s]\n"
     ]
    },
    {
     "name": "stdout",
     "output_type": "stream",
     "text": [
      "    92/191...\n"
     ]
    },
    {
     "name": "stderr",
     "output_type": "stream",
     "text": [
      "100%|█████████████████████████████████████████████| 3/3 [00:00<00:00,  6.99it/s]\n"
     ]
    },
    {
     "name": "stdout",
     "output_type": "stream",
     "text": [
      "    93/191...\n"
     ]
    },
    {
     "name": "stderr",
     "output_type": "stream",
     "text": [
      "100%|█████████████████████████████████████████████| 4/4 [00:00<00:00,  6.77it/s]\n"
     ]
    },
    {
     "name": "stdout",
     "output_type": "stream",
     "text": [
      "    94/191...\n"
     ]
    },
    {
     "name": "stderr",
     "output_type": "stream",
     "text": [
      "100%|█████████████████████████████████████████████| 4/4 [00:00<00:00, 13.37it/s]\n"
     ]
    },
    {
     "name": "stdout",
     "output_type": "stream",
     "text": [
      "    95/191...\n"
     ]
    },
    {
     "name": "stderr",
     "output_type": "stream",
     "text": [
      "100%|█████████████████████████████████████████████| 4/4 [00:00<00:00,  5.70it/s]\n"
     ]
    },
    {
     "name": "stdout",
     "output_type": "stream",
     "text": [
      "    96/191...\n"
     ]
    },
    {
     "name": "stderr",
     "output_type": "stream",
     "text": [
      "100%|█████████████████████████████████████████████| 4/4 [00:00<00:00, 10.32it/s]\n"
     ]
    },
    {
     "name": "stdout",
     "output_type": "stream",
     "text": [
      "    97/191...\n"
     ]
    },
    {
     "name": "stderr",
     "output_type": "stream",
     "text": [
      "100%|█████████████████████████████████████████████| 4/4 [00:00<00:00, 11.14it/s]\n"
     ]
    },
    {
     "name": "stdout",
     "output_type": "stream",
     "text": [
      "    98/191...\n"
     ]
    },
    {
     "name": "stderr",
     "output_type": "stream",
     "text": [
      "100%|█████████████████████████████████████████████| 4/4 [00:00<00:00,  9.32it/s]\n"
     ]
    },
    {
     "name": "stdout",
     "output_type": "stream",
     "text": [
      "    99/191...\n"
     ]
    },
    {
     "name": "stderr",
     "output_type": "stream",
     "text": [
      "100%|█████████████████████████████████████████████| 4/4 [00:00<00:00,  6.36it/s]\n"
     ]
    },
    {
     "name": "stdout",
     "output_type": "stream",
     "text": [
      "    100/191...\n"
     ]
    },
    {
     "name": "stderr",
     "output_type": "stream",
     "text": [
      "100%|█████████████████████████████████████████████| 3/3 [00:00<00:00,  7.10it/s]\n"
     ]
    },
    {
     "name": "stdout",
     "output_type": "stream",
     "text": [
      "    101/191...\n"
     ]
    },
    {
     "name": "stderr",
     "output_type": "stream",
     "text": [
      "100%|█████████████████████████████████████████████| 4/4 [00:00<00:00,  7.08it/s]\n"
     ]
    },
    {
     "name": "stdout",
     "output_type": "stream",
     "text": [
      "    102/191...\n"
     ]
    },
    {
     "name": "stderr",
     "output_type": "stream",
     "text": [
      "100%|█████████████████████████████████████████████| 4/4 [00:00<00:00,  6.30it/s]\n"
     ]
    },
    {
     "name": "stdout",
     "output_type": "stream",
     "text": [
      "    103/191...\n"
     ]
    },
    {
     "name": "stderr",
     "output_type": "stream",
     "text": [
      "100%|█████████████████████████████████████████████| 4/4 [00:00<00:00,  5.85it/s]\n"
     ]
    },
    {
     "name": "stdout",
     "output_type": "stream",
     "text": [
      "    104/191...\n"
     ]
    },
    {
     "name": "stderr",
     "output_type": "stream",
     "text": [
      "100%|█████████████████████████████████████████████| 4/4 [00:00<00:00, 12.78it/s]\n"
     ]
    },
    {
     "name": "stdout",
     "output_type": "stream",
     "text": [
      "    105/191...\n"
     ]
    },
    {
     "name": "stderr",
     "output_type": "stream",
     "text": [
      "100%|█████████████████████████████████████████████| 4/4 [00:00<00:00,  6.79it/s]\n"
     ]
    },
    {
     "name": "stdout",
     "output_type": "stream",
     "text": [
      "    106/191...\n"
     ]
    },
    {
     "name": "stderr",
     "output_type": "stream",
     "text": [
      "100%|█████████████████████████████████████████████| 4/4 [00:00<00:00,  6.03it/s]\n"
     ]
    },
    {
     "name": "stdout",
     "output_type": "stream",
     "text": [
      "    107/191...\n"
     ]
    },
    {
     "name": "stderr",
     "output_type": "stream",
     "text": [
      "100%|█████████████████████████████████████████████| 4/4 [00:00<00:00,  9.63it/s]\n"
     ]
    },
    {
     "name": "stdout",
     "output_type": "stream",
     "text": [
      "    108/191...\n"
     ]
    },
    {
     "name": "stderr",
     "output_type": "stream",
     "text": [
      "100%|█████████████████████████████████████████████| 2/2 [00:00<00:00,  6.07it/s]\n"
     ]
    },
    {
     "name": "stdout",
     "output_type": "stream",
     "text": [
      "    109/191...\n"
     ]
    },
    {
     "name": "stderr",
     "output_type": "stream",
     "text": [
      "100%|█████████████████████████████████████████████| 4/4 [00:00<00:00,  9.67it/s]\n"
     ]
    },
    {
     "name": "stdout",
     "output_type": "stream",
     "text": [
      "    110/191...\n"
     ]
    },
    {
     "name": "stderr",
     "output_type": "stream",
     "text": [
      "100%|█████████████████████████████████████████████| 4/4 [00:00<00:00, 11.49it/s]\n"
     ]
    },
    {
     "name": "stdout",
     "output_type": "stream",
     "text": [
      "    111/191...\n"
     ]
    },
    {
     "name": "stderr",
     "output_type": "stream",
     "text": [
      "100%|█████████████████████████████████████████████| 4/4 [00:00<00:00,  7.75it/s]\n"
     ]
    },
    {
     "name": "stdout",
     "output_type": "stream",
     "text": [
      "    112/191...\n"
     ]
    },
    {
     "name": "stderr",
     "output_type": "stream",
     "text": [
      "100%|█████████████████████████████████████████████| 1/1 [00:00<00:00,  7.46it/s]\n"
     ]
    },
    {
     "name": "stdout",
     "output_type": "stream",
     "text": [
      "    113/191...\n"
     ]
    },
    {
     "name": "stderr",
     "output_type": "stream",
     "text": [
      "100%|█████████████████████████████████████████████| 4/4 [00:00<00:00,  8.17it/s]\n"
     ]
    },
    {
     "name": "stdout",
     "output_type": "stream",
     "text": [
      "    114/191...\n"
     ]
    },
    {
     "name": "stderr",
     "output_type": "stream",
     "text": [
      "100%|█████████████████████████████████████████████| 2/2 [00:00<00:00,  5.45it/s]\n"
     ]
    },
    {
     "name": "stdout",
     "output_type": "stream",
     "text": [
      "    115/191...\n"
     ]
    },
    {
     "name": "stderr",
     "output_type": "stream",
     "text": [
      "100%|█████████████████████████████████████████████| 4/4 [00:00<00:00,  9.98it/s]\n"
     ]
    },
    {
     "name": "stdout",
     "output_type": "stream",
     "text": [
      "    116/191...\n"
     ]
    },
    {
     "name": "stderr",
     "output_type": "stream",
     "text": [
      "100%|█████████████████████████████████████████████| 1/1 [00:00<00:00,  9.26it/s]\n"
     ]
    },
    {
     "name": "stdout",
     "output_type": "stream",
     "text": [
      "    117/191...\n"
     ]
    },
    {
     "name": "stderr",
     "output_type": "stream",
     "text": [
      "100%|█████████████████████████████████████████████| 4/4 [00:00<00:00,  8.55it/s]\n"
     ]
    },
    {
     "name": "stdout",
     "output_type": "stream",
     "text": [
      "    118/191...\n"
     ]
    },
    {
     "name": "stderr",
     "output_type": "stream",
     "text": [
      "100%|█████████████████████████████████████████████| 4/4 [00:00<00:00,  6.37it/s]\n"
     ]
    },
    {
     "name": "stdout",
     "output_type": "stream",
     "text": [
      "    119/191...\n"
     ]
    },
    {
     "name": "stderr",
     "output_type": "stream",
     "text": [
      "100%|█████████████████████████████████████████████| 4/4 [00:00<00:00,  9.74it/s]\n"
     ]
    },
    {
     "name": "stdout",
     "output_type": "stream",
     "text": [
      "    120/191...\n"
     ]
    },
    {
     "name": "stderr",
     "output_type": "stream",
     "text": [
      "100%|█████████████████████████████████████████████| 4/4 [00:00<00:00,  6.09it/s]\n"
     ]
    },
    {
     "name": "stdout",
     "output_type": "stream",
     "text": [
      "    121/191...\n"
     ]
    },
    {
     "name": "stderr",
     "output_type": "stream",
     "text": [
      "100%|█████████████████████████████████████████████| 3/3 [00:00<00:00,  6.89it/s]\n"
     ]
    },
    {
     "name": "stdout",
     "output_type": "stream",
     "text": [
      "    122/191...\n"
     ]
    },
    {
     "name": "stderr",
     "output_type": "stream",
     "text": [
      "100%|█████████████████████████████████████████████| 4/4 [00:00<00:00, 14.15it/s]\n"
     ]
    },
    {
     "name": "stdout",
     "output_type": "stream",
     "text": [
      "    123/191...\n"
     ]
    },
    {
     "name": "stderr",
     "output_type": "stream",
     "text": [
      "100%|█████████████████████████████████████████████| 2/2 [00:00<00:00,  6.44it/s]\n"
     ]
    },
    {
     "name": "stdout",
     "output_type": "stream",
     "text": [
      "    124/191...\n"
     ]
    },
    {
     "name": "stderr",
     "output_type": "stream",
     "text": [
      "100%|█████████████████████████████████████████████| 4/4 [00:00<00:00,  5.85it/s]\n"
     ]
    },
    {
     "name": "stdout",
     "output_type": "stream",
     "text": [
      "    125/191...\n"
     ]
    },
    {
     "name": "stderr",
     "output_type": "stream",
     "text": [
      "100%|█████████████████████████████████████████████| 4/4 [00:00<00:00,  7.61it/s]\n"
     ]
    },
    {
     "name": "stdout",
     "output_type": "stream",
     "text": [
      "    126/191...\n"
     ]
    },
    {
     "name": "stderr",
     "output_type": "stream",
     "text": [
      "100%|█████████████████████████████████████████████| 4/4 [00:00<00:00,  6.87it/s]\n"
     ]
    },
    {
     "name": "stdout",
     "output_type": "stream",
     "text": [
      "    127/191...\n"
     ]
    },
    {
     "name": "stderr",
     "output_type": "stream",
     "text": [
      "100%|█████████████████████████████████████████████| 2/2 [00:00<00:00, 12.52it/s]\n"
     ]
    },
    {
     "name": "stdout",
     "output_type": "stream",
     "text": [
      "    128/191...\n"
     ]
    },
    {
     "name": "stderr",
     "output_type": "stream",
     "text": [
      "100%|█████████████████████████████████████████████| 4/4 [00:00<00:00,  5.58it/s]\n"
     ]
    },
    {
     "name": "stdout",
     "output_type": "stream",
     "text": [
      "    129/191...\n"
     ]
    },
    {
     "name": "stderr",
     "output_type": "stream",
     "text": [
      "100%|█████████████████████████████████████████████| 3/3 [00:00<00:00,  5.67it/s]\n"
     ]
    },
    {
     "name": "stdout",
     "output_type": "stream",
     "text": [
      "    130/191...\n"
     ]
    },
    {
     "name": "stderr",
     "output_type": "stream",
     "text": [
      "100%|█████████████████████████████████████████████| 4/4 [00:00<00:00,  8.31it/s]\n"
     ]
    },
    {
     "name": "stdout",
     "output_type": "stream",
     "text": [
      "    131/191...\n"
     ]
    },
    {
     "name": "stderr",
     "output_type": "stream",
     "text": [
      "100%|█████████████████████████████████████████████| 2/2 [00:00<00:00,  6.96it/s]\n"
     ]
    },
    {
     "name": "stdout",
     "output_type": "stream",
     "text": [
      "    132/191...\n"
     ]
    },
    {
     "name": "stderr",
     "output_type": "stream",
     "text": [
      "100%|█████████████████████████████████████████████| 4/4 [00:00<00:00,  6.09it/s]\n"
     ]
    },
    {
     "name": "stdout",
     "output_type": "stream",
     "text": [
      "    133/191...\n"
     ]
    },
    {
     "name": "stderr",
     "output_type": "stream",
     "text": [
      "100%|█████████████████████████████████████████████| 4/4 [00:00<00:00, 10.56it/s]\n"
     ]
    },
    {
     "name": "stdout",
     "output_type": "stream",
     "text": [
      "    134/191...\n"
     ]
    },
    {
     "name": "stderr",
     "output_type": "stream",
     "text": [
      "100%|█████████████████████████████████████████████| 4/4 [00:00<00:00,  7.26it/s]\n"
     ]
    },
    {
     "name": "stdout",
     "output_type": "stream",
     "text": [
      "    135/191...\n"
     ]
    },
    {
     "name": "stderr",
     "output_type": "stream",
     "text": [
      "100%|█████████████████████████████████████████████| 2/2 [00:00<00:00,  6.50it/s]\n"
     ]
    },
    {
     "name": "stdout",
     "output_type": "stream",
     "text": [
      "    136/191...\n"
     ]
    },
    {
     "name": "stderr",
     "output_type": "stream",
     "text": [
      "100%|█████████████████████████████████████████████| 4/4 [00:00<00:00,  6.57it/s]\n"
     ]
    },
    {
     "name": "stdout",
     "output_type": "stream",
     "text": [
      "    137/191...\n"
     ]
    },
    {
     "name": "stderr",
     "output_type": "stream",
     "text": [
      "100%|█████████████████████████████████████████████| 2/2 [00:00<00:00,  5.75it/s]\n"
     ]
    },
    {
     "name": "stdout",
     "output_type": "stream",
     "text": [
      "    138/191...\n"
     ]
    },
    {
     "name": "stderr",
     "output_type": "stream",
     "text": [
      "100%|█████████████████████████████████████████████| 4/4 [00:00<00:00,  6.46it/s]\n"
     ]
    },
    {
     "name": "stdout",
     "output_type": "stream",
     "text": [
      "    139/191...\n"
     ]
    },
    {
     "name": "stderr",
     "output_type": "stream",
     "text": [
      "100%|█████████████████████████████████████████████| 4/4 [00:00<00:00,  9.94it/s]\n"
     ]
    },
    {
     "name": "stdout",
     "output_type": "stream",
     "text": [
      "    140/191...\n"
     ]
    },
    {
     "name": "stderr",
     "output_type": "stream",
     "text": [
      "100%|█████████████████████████████████████████████| 4/4 [00:00<00:00, 12.75it/s]\n"
     ]
    },
    {
     "name": "stdout",
     "output_type": "stream",
     "text": [
      "    141/191...\n"
     ]
    },
    {
     "name": "stderr",
     "output_type": "stream",
     "text": [
      "100%|█████████████████████████████████████████████| 4/4 [00:00<00:00,  7.22it/s]\n"
     ]
    },
    {
     "name": "stdout",
     "output_type": "stream",
     "text": [
      "    142/191...\n"
     ]
    },
    {
     "name": "stderr",
     "output_type": "stream",
     "text": [
      "100%|█████████████████████████████████████████████| 3/3 [00:00<00:00,  6.22it/s]\n"
     ]
    },
    {
     "name": "stdout",
     "output_type": "stream",
     "text": [
      "    143/191...\n"
     ]
    },
    {
     "name": "stderr",
     "output_type": "stream",
     "text": [
      "100%|█████████████████████████████████████████████| 4/4 [00:00<00:00,  6.49it/s]\n"
     ]
    },
    {
     "name": "stdout",
     "output_type": "stream",
     "text": [
      "    144/191...\n"
     ]
    },
    {
     "name": "stderr",
     "output_type": "stream",
     "text": [
      "100%|█████████████████████████████████████████████| 4/4 [00:00<00:00,  6.40it/s]\n"
     ]
    },
    {
     "name": "stdout",
     "output_type": "stream",
     "text": [
      "    145/191...\n"
     ]
    },
    {
     "name": "stderr",
     "output_type": "stream",
     "text": [
      "100%|█████████████████████████████████████████████| 4/4 [00:00<00:00,  7.94it/s]\n"
     ]
    },
    {
     "name": "stdout",
     "output_type": "stream",
     "text": [
      "    146/191...\n"
     ]
    },
    {
     "name": "stderr",
     "output_type": "stream",
     "text": [
      "100%|█████████████████████████████████████████████| 4/4 [00:00<00:00,  6.52it/s]\n"
     ]
    },
    {
     "name": "stdout",
     "output_type": "stream",
     "text": [
      "    147/191...\n"
     ]
    },
    {
     "name": "stderr",
     "output_type": "stream",
     "text": [
      "100%|█████████████████████████████████████████████| 4/4 [00:00<00:00,  7.21it/s]\n"
     ]
    },
    {
     "name": "stdout",
     "output_type": "stream",
     "text": [
      "    148/191...\n"
     ]
    },
    {
     "name": "stderr",
     "output_type": "stream",
     "text": [
      "100%|█████████████████████████████████████████████| 4/4 [00:00<00:00, 10.55it/s]\n"
     ]
    },
    {
     "name": "stdout",
     "output_type": "stream",
     "text": [
      "    149/191...\n"
     ]
    },
    {
     "name": "stderr",
     "output_type": "stream",
     "text": [
      "100%|█████████████████████████████████████████████| 4/4 [00:00<00:00,  8.90it/s]\n"
     ]
    },
    {
     "name": "stdout",
     "output_type": "stream",
     "text": [
      "    150/191...\n"
     ]
    },
    {
     "name": "stderr",
     "output_type": "stream",
     "text": [
      "100%|█████████████████████████████████████████████| 4/4 [00:00<00:00,  6.98it/s]\n"
     ]
    },
    {
     "name": "stdout",
     "output_type": "stream",
     "text": [
      "    151/191...\n"
     ]
    },
    {
     "name": "stderr",
     "output_type": "stream",
     "text": [
      "100%|█████████████████████████████████████████████| 4/4 [00:00<00:00,  7.17it/s]\n"
     ]
    },
    {
     "name": "stdout",
     "output_type": "stream",
     "text": [
      "    152/191...\n"
     ]
    },
    {
     "name": "stderr",
     "output_type": "stream",
     "text": [
      "100%|█████████████████████████████████████████████| 3/3 [00:00<00:00,  5.88it/s]\n"
     ]
    },
    {
     "name": "stdout",
     "output_type": "stream",
     "text": [
      "    153/191...\n"
     ]
    },
    {
     "name": "stderr",
     "output_type": "stream",
     "text": [
      "100%|█████████████████████████████████████████████| 4/4 [00:00<00:00, 14.76it/s]\n"
     ]
    },
    {
     "name": "stdout",
     "output_type": "stream",
     "text": [
      "    154/191...\n"
     ]
    },
    {
     "name": "stderr",
     "output_type": "stream",
     "text": [
      "100%|█████████████████████████████████████████████| 4/4 [00:00<00:00,  6.44it/s]\n"
     ]
    },
    {
     "name": "stdout",
     "output_type": "stream",
     "text": [
      "    155/191...\n"
     ]
    },
    {
     "name": "stderr",
     "output_type": "stream",
     "text": [
      "100%|█████████████████████████████████████████████| 2/2 [00:00<00:00,  6.60it/s]\n"
     ]
    },
    {
     "name": "stdout",
     "output_type": "stream",
     "text": [
      "    156/191...\n"
     ]
    },
    {
     "name": "stderr",
     "output_type": "stream",
     "text": [
      "100%|█████████████████████████████████████████████| 3/3 [00:00<00:00,  5.77it/s]\n"
     ]
    },
    {
     "name": "stdout",
     "output_type": "stream",
     "text": [
      "    157/191...\n"
     ]
    },
    {
     "name": "stderr",
     "output_type": "stream",
     "text": [
      "100%|█████████████████████████████████████████████| 2/2 [00:00<00:00,  6.83it/s]\n"
     ]
    },
    {
     "name": "stdout",
     "output_type": "stream",
     "text": [
      "    158/191...\n"
     ]
    },
    {
     "name": "stderr",
     "output_type": "stream",
     "text": [
      "100%|█████████████████████████████████████████████| 4/4 [00:00<00:00, 10.56it/s]\n"
     ]
    },
    {
     "name": "stdout",
     "output_type": "stream",
     "text": [
      "    159/191...\n"
     ]
    },
    {
     "name": "stderr",
     "output_type": "stream",
     "text": [
      "100%|█████████████████████████████████████████████| 4/4 [00:00<00:00,  9.73it/s]\n"
     ]
    },
    {
     "name": "stdout",
     "output_type": "stream",
     "text": [
      "    160/191...\n"
     ]
    },
    {
     "name": "stderr",
     "output_type": "stream",
     "text": [
      "100%|█████████████████████████████████████████████| 4/4 [00:00<00:00,  5.63it/s]\n"
     ]
    },
    {
     "name": "stdout",
     "output_type": "stream",
     "text": [
      "    161/191...\n"
     ]
    },
    {
     "name": "stderr",
     "output_type": "stream",
     "text": [
      "100%|█████████████████████████████████████████████| 4/4 [00:00<00:00,  6.07it/s]\n"
     ]
    },
    {
     "name": "stdout",
     "output_type": "stream",
     "text": [
      "    162/191...\n"
     ]
    },
    {
     "name": "stderr",
     "output_type": "stream",
     "text": [
      "100%|█████████████████████████████████████████████| 4/4 [00:00<00:00,  6.40it/s]\n"
     ]
    },
    {
     "name": "stdout",
     "output_type": "stream",
     "text": [
      "    163/191...\n"
     ]
    },
    {
     "name": "stderr",
     "output_type": "stream",
     "text": [
      "100%|█████████████████████████████████████████████| 4/4 [00:00<00:00,  6.19it/s]\n"
     ]
    },
    {
     "name": "stdout",
     "output_type": "stream",
     "text": [
      "    164/191...\n"
     ]
    },
    {
     "name": "stderr",
     "output_type": "stream",
     "text": [
      "100%|█████████████████████████████████████████████| 4/4 [00:00<00:00,  7.92it/s]\n"
     ]
    },
    {
     "name": "stdout",
     "output_type": "stream",
     "text": [
      "    165/191...\n"
     ]
    },
    {
     "name": "stderr",
     "output_type": "stream",
     "text": [
      "100%|█████████████████████████████████████████████| 4/4 [00:00<00:00,  5.27it/s]\n"
     ]
    },
    {
     "name": "stdout",
     "output_type": "stream",
     "text": [
      "    166/191...\n"
     ]
    },
    {
     "name": "stderr",
     "output_type": "stream",
     "text": [
      "100%|█████████████████████████████████████████████| 3/3 [00:00<00:00,  8.73it/s]\n"
     ]
    },
    {
     "name": "stdout",
     "output_type": "stream",
     "text": [
      "    167/191...\n"
     ]
    },
    {
     "name": "stderr",
     "output_type": "stream",
     "text": [
      "100%|█████████████████████████████████████████████| 2/2 [00:00<00:00,  5.37it/s]\n"
     ]
    },
    {
     "name": "stdout",
     "output_type": "stream",
     "text": [
      "    168/191...\n"
     ]
    },
    {
     "name": "stderr",
     "output_type": "stream",
     "text": [
      "100%|█████████████████████████████████████████████| 1/1 [00:00<00:00,  5.80it/s]\n"
     ]
    },
    {
     "name": "stdout",
     "output_type": "stream",
     "text": [
      "    169/191...\n"
     ]
    },
    {
     "name": "stderr",
     "output_type": "stream",
     "text": [
      "100%|█████████████████████████████████████████████| 4/4 [00:00<00:00,  7.27it/s]\n"
     ]
    },
    {
     "name": "stdout",
     "output_type": "stream",
     "text": [
      "    170/191...\n"
     ]
    },
    {
     "name": "stderr",
     "output_type": "stream",
     "text": [
      "100%|█████████████████████████████████████████████| 1/1 [00:00<00:00,  8.06it/s]\n"
     ]
    },
    {
     "name": "stdout",
     "output_type": "stream",
     "text": [
      "    171/191...\n"
     ]
    },
    {
     "name": "stderr",
     "output_type": "stream",
     "text": [
      "100%|█████████████████████████████████████████████| 4/4 [00:00<00:00,  5.85it/s]\n"
     ]
    },
    {
     "name": "stdout",
     "output_type": "stream",
     "text": [
      "    172/191...\n"
     ]
    },
    {
     "name": "stderr",
     "output_type": "stream",
     "text": [
      "100%|█████████████████████████████████████████████| 2/2 [00:00<00:00,  6.49it/s]\n"
     ]
    },
    {
     "name": "stdout",
     "output_type": "stream",
     "text": [
      "    173/191...\n"
     ]
    },
    {
     "name": "stderr",
     "output_type": "stream",
     "text": [
      "100%|█████████████████████████████████████████████| 4/4 [00:00<00:00,  5.96it/s]\n"
     ]
    },
    {
     "name": "stdout",
     "output_type": "stream",
     "text": [
      "    174/191...\n"
     ]
    },
    {
     "name": "stderr",
     "output_type": "stream",
     "text": [
      "100%|█████████████████████████████████████████████| 2/2 [00:00<00:00,  6.52it/s]\n"
     ]
    },
    {
     "name": "stdout",
     "output_type": "stream",
     "text": [
      "    175/191...\n"
     ]
    },
    {
     "name": "stderr",
     "output_type": "stream",
     "text": [
      "100%|█████████████████████████████████████████████| 2/2 [00:00<00:00,  6.90it/s]\n"
     ]
    },
    {
     "name": "stdout",
     "output_type": "stream",
     "text": [
      "    176/191...\n"
     ]
    },
    {
     "name": "stderr",
     "output_type": "stream",
     "text": [
      "100%|█████████████████████████████████████████████| 4/4 [00:00<00:00,  7.52it/s]\n"
     ]
    },
    {
     "name": "stdout",
     "output_type": "stream",
     "text": [
      "    177/191...\n"
     ]
    },
    {
     "name": "stderr",
     "output_type": "stream",
     "text": [
      "100%|█████████████████████████████████████████████| 4/4 [00:00<00:00,  7.20it/s]\n"
     ]
    },
    {
     "name": "stdout",
     "output_type": "stream",
     "text": [
      "    178/191...\n"
     ]
    },
    {
     "name": "stderr",
     "output_type": "stream",
     "text": [
      "100%|█████████████████████████████████████████████| 4/4 [00:00<00:00,  7.21it/s]\n"
     ]
    },
    {
     "name": "stdout",
     "output_type": "stream",
     "text": [
      "    179/191...\n"
     ]
    },
    {
     "name": "stderr",
     "output_type": "stream",
     "text": [
      "100%|█████████████████████████████████████████████| 4/4 [00:00<00:00,  7.61it/s]\n"
     ]
    },
    {
     "name": "stdout",
     "output_type": "stream",
     "text": [
      "    180/191...\n"
     ]
    },
    {
     "name": "stderr",
     "output_type": "stream",
     "text": [
      "100%|█████████████████████████████████████████████| 1/1 [00:00<00:00,  8.10it/s]\n"
     ]
    },
    {
     "name": "stdout",
     "output_type": "stream",
     "text": [
      "    181/191...\n"
     ]
    },
    {
     "name": "stderr",
     "output_type": "stream",
     "text": [
      "100%|█████████████████████████████████████████████| 4/4 [00:00<00:00,  7.80it/s]\n"
     ]
    },
    {
     "name": "stdout",
     "output_type": "stream",
     "text": [
      "    182/191...\n"
     ]
    },
    {
     "name": "stderr",
     "output_type": "stream",
     "text": [
      "100%|█████████████████████████████████████████████| 4/4 [00:00<00:00,  8.45it/s]\n"
     ]
    },
    {
     "name": "stdout",
     "output_type": "stream",
     "text": [
      "    183/191...\n"
     ]
    },
    {
     "name": "stderr",
     "output_type": "stream",
     "text": [
      "100%|█████████████████████████████████████████████| 4/4 [00:00<00:00,  6.12it/s]\n"
     ]
    },
    {
     "name": "stdout",
     "output_type": "stream",
     "text": [
      "    184/191...\n"
     ]
    },
    {
     "name": "stderr",
     "output_type": "stream",
     "text": [
      "100%|█████████████████████████████████████████████| 4/4 [00:00<00:00,  6.98it/s]\n"
     ]
    },
    {
     "name": "stdout",
     "output_type": "stream",
     "text": [
      "    185/191...\n"
     ]
    },
    {
     "name": "stderr",
     "output_type": "stream",
     "text": [
      "100%|█████████████████████████████████████████████| 4/4 [00:00<00:00,  5.64it/s]\n"
     ]
    },
    {
     "name": "stdout",
     "output_type": "stream",
     "text": [
      "    186/191...\n"
     ]
    },
    {
     "name": "stderr",
     "output_type": "stream",
     "text": [
      "100%|█████████████████████████████████████████████| 2/2 [00:00<00:00,  6.05it/s]\n"
     ]
    },
    {
     "name": "stdout",
     "output_type": "stream",
     "text": [
      "    187/191...\n"
     ]
    },
    {
     "name": "stderr",
     "output_type": "stream",
     "text": [
      "100%|█████████████████████████████████████████████| 4/4 [00:00<00:00,  6.14it/s]\n"
     ]
    },
    {
     "name": "stdout",
     "output_type": "stream",
     "text": [
      "    188/191...\n"
     ]
    },
    {
     "name": "stderr",
     "output_type": "stream",
     "text": [
      "100%|█████████████████████████████████████████████| 2/2 [00:00<00:00,  6.80it/s]\n"
     ]
    },
    {
     "name": "stdout",
     "output_type": "stream",
     "text": [
      "    189/191...\n"
     ]
    },
    {
     "name": "stderr",
     "output_type": "stream",
     "text": [
      "100%|█████████████████████████████████████████████| 4/4 [00:00<00:00,  6.50it/s]\n"
     ]
    },
    {
     "name": "stdout",
     "output_type": "stream",
     "text": [
      "    190/191...\n"
     ]
    },
    {
     "name": "stderr",
     "output_type": "stream",
     "text": [
      "100%|█████████████████████████████████████████████| 4/4 [00:00<00:00,  7.03it/s]\n"
     ]
    },
    {
     "name": "stdout",
     "output_type": "stream",
     "text": [
      "    191/191...\n"
     ]
    },
    {
     "name": "stderr",
     "output_type": "stream",
     "text": [
      "100%|█████████████████████████████████████████████| 1/1 [00:00<00:00,  7.53it/s]\n"
     ]
    },
    {
     "name": "stdout",
     "output_type": "stream",
     "text": [
      "Done.\n"
     ]
    }
   ],
   "source": [
    "run_model(model_folder, test_folder, output_folder, allow_failures = True, verbose = 2)"
   ]
  },
  {
   "cell_type": "code",
   "execution_count": 181,
   "id": "247a6478",
   "metadata": {},
   "outputs": [],
   "source": [
    "from evaluate_model import *\n",
    "\n"
   ]
  },
  {
   "cell_type": "code",
   "execution_count": 182,
   "id": "b770afd6",
   "metadata": {
    "scrolled": false
   },
   "outputs": [
    {
     "name": "stdout",
     "output_type": "stream",
     "text": [
      "#Murmur scores\n",
      "AUROC,AUPRC,F-measure,Accuracy,Weighted Accuracy,Cost\n",
      "0.691,0.475,0.457,0.702,0.706,15988.329\n",
      "\n",
      "#Outcome scores\n",
      "AUROC,AUPRC,F-measure,Accuracy,Weighted Accuracy,Cost\n",
      "0.630,0.624,0.351,0.518,0.842,14922.040\n",
      "\n",
      "#Murmur scores (per class)\n",
      "Classes,Present,Unknown,Absent\n",
      "AUROC,0.828,0.500,0.745\n",
      "AUPRC,0.481,0.073,0.870\n",
      "F-measure,0.577,0.000,0.794\n",
      "Accuracy,0.842,0.000,0.734\n",
      "\n",
      "#Outcome scores (per class)\n",
      "Classes,Abnormal,Normal\n",
      "AUROC,0.630,0.630\n",
      "AUPRC,0.652,0.596\n",
      "F-measure,0.681,0.021\n",
      "Accuracy,1.000,0.011\n",
      "\n"
     ]
    }
   ],
   "source": [
    "murmur_scores, outcome_scores = evaluate_model(test_folder, output_folder)\n",
    "classes, auroc, auprc, auroc_classes, auprc_classes, f_measure, f_measure_classes, accuracy, accuracy_classes, weighted_accuracy, cost = murmur_scores\n",
    "murmur_output_string = 'AUROC,AUPRC,F-measure,Accuracy,Weighted Accuracy,Cost\\n{:.3f},{:.3f},{:.3f},{:.3f},{:.3f},{:.3f}\\n'.format(auroc, auprc, f_measure, accuracy, weighted_accuracy, cost)\n",
    "murmur_class_output_string = 'Classes,{}\\nAUROC,{}\\nAUPRC,{}\\nF-measure,{}\\nAccuracy,{}\\n'.format(\n",
    "    ','.join(classes),\n",
    "    ','.join('{:.3f}'.format(x) for x in auroc_classes),\n",
    "    ','.join('{:.3f}'.format(x) for x in auprc_classes),\n",
    "    ','.join('{:.3f}'.format(x) for x in f_measure_classes),\n",
    "    ','.join('{:.3f}'.format(x) for x in accuracy_classes))\n",
    "\n",
    "classes, auroc, auprc, auroc_classes, auprc_classes, f_measure, f_measure_classes, accuracy, accuracy_classes, weighted_accuracy, cost = outcome_scores\n",
    "outcome_output_string = 'AUROC,AUPRC,F-measure,Accuracy,Weighted Accuracy,Cost\\n{:.3f},{:.3f},{:.3f},{:.3f},{:.3f},{:.3f}\\n'.format(auroc, auprc, f_measure, accuracy, weighted_accuracy, cost)\n",
    "outcome_class_output_string = 'Classes,{}\\nAUROC,{}\\nAUPRC,{}\\nF-measure,{}\\nAccuracy,{}\\n'.format(\n",
    "    ','.join(classes),\n",
    "    ','.join('{:.3f}'.format(x) for x in auroc_classes),\n",
    "    ','.join('{:.3f}'.format(x) for x in auprc_classes),\n",
    "    ','.join('{:.3f}'.format(x) for x in f_measure_classes),\n",
    "    ','.join('{:.3f}'.format(x) for x in accuracy_classes))\n",
    "\n",
    "output_string = '#Murmur scores\\n' + murmur_output_string + '\\n#Outcome scores\\n' + outcome_output_string \\\n",
    "    + '\\n#Murmur scores (per class)\\n' + murmur_class_output_string + '\\n#Outcome scores (per class)\\n' + outcome_class_output_string\n",
    "\n",
    "if len(sys.argv) == 3:\n",
    "    print(output_string)\n",
    "elif len(sys.argv) == 4:\n",
    "    with open(sys.argv[3], 'w') as f:\n",
    "        f.write(output_string)"
   ]
  },
  {
   "cell_type": "code",
   "execution_count": null,
   "id": "72a27458",
   "metadata": {},
   "outputs": [],
   "source": []
  },
  {
   "cell_type": "code",
   "execution_count": 183,
   "id": "4235c97d",
   "metadata": {},
   "outputs": [
    {
     "name": "stdout",
     "output_type": "stream",
     "text": [
      "0.45457602934960606\n",
      "0.5454239744341967\n",
      "0.8931767213406987\n",
      "0.10682327641876346\n"
     ]
    }
   ],
   "source": [
    "label_folder = test_folder\n",
    "murmur_classes = ['Present', 'Unknown', 'Absent']\n",
    "outcome_classes = ['Abnormal', 'Normal']\n",
    "\n",
    "# Load and parse label and model output files.\n",
    "label_files, output_files = find_challenge_files(label_folder, output_folder)\n",
    "murmur_labels = load_murmurs(label_files, murmur_classes)\n",
    "murmur_binary_outputs, murmur_scalar_outputs = load_classifier_outputs(output_files, murmur_classes)\n",
    "outcome_labels = load_outcomes(label_files, outcome_classes)\n",
    "outcome_binary_outputs, outcome_scalar_outputs = load_classifier_outputs(output_files, outcome_classes)\n",
    "\n",
    "\n",
    "print(np.mean(murmur_scalar_outputs[:,0]))\n",
    "print(np.mean(murmur_scalar_outputs[:,2]))\n",
    "print(np.mean(outcome_scalar_outputs[:,0]))\n",
    "print(np.mean(outcome_scalar_outputs[:,1]))"
   ]
  },
  {
   "cell_type": "code",
   "execution_count": 184,
   "id": "3fb59f7c",
   "metadata": {
    "scrolled": false
   },
   "outputs": [
    {
     "name": "stdout",
     "output_type": "stream",
     "text": [
      "threshold:  0.01\n",
      "#Murmur scores\n",
      "AUROC,AUPRC,F-measure,Accuracy,Weighted Accuracy,Cost\n",
      "0.691,0.475,0.111,0.199,0.512,15140.890\n",
      "\n",
      "#Outcome scores\n",
      "AUROC,AUPRC,F-measure,Accuracy,Weighted Accuracy,Cost\n",
      "0.630,0.624,0.339,0.513,0.840,15140.890\n",
      "\n",
      "#Murmur scores (per class)\n",
      "Classes,Present,Unknown,Absent\n",
      "AUROC,0.828,0.500,0.745\n",
      "AUPRC,0.481,0.073,0.870\n",
      "F-measure,0.332,0.000,0.000\n",
      "Accuracy,1.000,0.000,0.000\n",
      "\n",
      "#Outcome scores (per class)\n",
      "Classes,Abnormal,Normal\n",
      "AUROC,0.630,0.630\n",
      "AUPRC,0.652,0.596\n",
      "F-measure,0.678,0.000\n",
      "Accuracy,1.000,0.000\n",
      "\n",
      "-------------\n",
      "threshold:  0.05\n",
      "#Murmur scores\n",
      "AUROC,AUPRC,F-measure,Accuracy,Weighted Accuracy,Cost\n",
      "0.691,0.475,0.116,0.204,0.515,15131.464\n",
      "\n",
      "#Outcome scores\n",
      "AUROC,AUPRC,F-measure,Accuracy,Weighted Accuracy,Cost\n",
      "0.630,0.624,0.339,0.513,0.840,15140.890\n",
      "\n",
      "#Murmur scores (per class)\n",
      "Classes,Present,Unknown,Absent\n",
      "AUROC,0.828,0.500,0.745\n",
      "AUPRC,0.481,0.073,0.870\n",
      "F-measure,0.333,0.000,0.014\n",
      "Accuracy,1.000,0.000,0.007\n",
      "\n",
      "#Outcome scores (per class)\n",
      "Classes,Abnormal,Normal\n",
      "AUROC,0.630,0.630\n",
      "AUPRC,0.652,0.596\n",
      "F-measure,0.678,0.000\n",
      "Accuracy,1.000,0.000\n",
      "\n",
      "-------------\n",
      "threshold:  0.1\n",
      "#Murmur scores\n",
      "AUROC,AUPRC,F-measure,Accuracy,Weighted Accuracy,Cost\n",
      "0.691,0.475,0.121,0.209,0.518,14916.196\n",
      "\n",
      "#Outcome scores\n",
      "AUROC,AUPRC,F-measure,Accuracy,Weighted Accuracy,Cost\n",
      "0.630,0.624,0.339,0.513,0.840,15140.890\n",
      "\n",
      "#Murmur scores (per class)\n",
      "Classes,Present,Unknown,Absent\n",
      "AUROC,0.828,0.500,0.745\n",
      "AUPRC,0.481,0.073,0.870\n",
      "F-measure,0.335,0.000,0.028\n",
      "Accuracy,1.000,0.000,0.014\n",
      "\n",
      "#Outcome scores (per class)\n",
      "Classes,Abnormal,Normal\n",
      "AUROC,0.630,0.630\n",
      "AUPRC,0.652,0.596\n",
      "F-measure,0.678,0.000\n",
      "Accuracy,1.000,0.000\n",
      "\n",
      "-------------\n",
      "threshold:  0.15\n",
      "#Murmur scores\n",
      "AUROC,AUPRC,F-measure,Accuracy,Weighted Accuracy,Cost\n",
      "0.691,0.475,0.146,0.236,0.531,14729.952\n",
      "\n",
      "#Outcome scores\n",
      "AUROC,AUPRC,F-measure,Accuracy,Weighted Accuracy,Cost\n",
      "0.630,0.624,0.339,0.513,0.840,15140.890\n",
      "\n",
      "#Murmur scores (per class)\n",
      "Classes,Present,Unknown,Absent\n",
      "AUROC,0.828,0.500,0.745\n",
      "AUPRC,0.481,0.073,0.870\n",
      "F-measure,0.342,0.000,0.096\n",
      "Accuracy,1.000,0.000,0.050\n",
      "\n",
      "#Outcome scores (per class)\n",
      "Classes,Abnormal,Normal\n",
      "AUROC,0.630,0.630\n",
      "AUPRC,0.652,0.596\n",
      "F-measure,0.678,0.000\n",
      "Accuracy,1.000,0.000\n",
      "\n",
      "-------------\n",
      "threshold:  0.2\n",
      "#Murmur scores\n",
      "AUROC,AUPRC,F-measure,Accuracy,Weighted Accuracy,Cost\n",
      "0.691,0.475,0.189,0.283,0.544,13286.399\n",
      "\n",
      "#Outcome scores\n",
      "AUROC,AUPRC,F-measure,Accuracy,Weighted Accuracy,Cost\n",
      "0.630,0.624,0.339,0.513,0.840,15140.890\n",
      "\n",
      "#Murmur scores (per class)\n",
      "Classes,Present,Unknown,Absent\n",
      "AUROC,0.828,0.500,0.745\n",
      "AUPRC,0.481,0.073,0.870\n",
      "F-measure,0.354,0.000,0.214\n",
      "Accuracy,0.974,0.000,0.122\n",
      "\n",
      "#Outcome scores (per class)\n",
      "Classes,Abnormal,Normal\n",
      "AUROC,0.630,0.630\n",
      "AUPRC,0.652,0.596\n",
      "F-measure,0.678,0.000\n",
      "Accuracy,1.000,0.000\n",
      "\n",
      "-------------\n",
      "threshold:  0.25\n",
      "#Murmur scores\n",
      "AUROC,AUPRC,F-measure,Accuracy,Weighted Accuracy,Cost\n",
      "0.691,0.475,0.261,0.377,0.593,12797.684\n",
      "\n",
      "#Outcome scores\n",
      "AUROC,AUPRC,F-measure,Accuracy,Weighted Accuracy,Cost\n",
      "0.630,0.624,0.339,0.513,0.840,15140.890\n",
      "\n",
      "#Murmur scores (per class)\n",
      "Classes,Present,Unknown,Absent\n",
      "AUROC,0.828,0.500,0.745\n",
      "AUPRC,0.481,0.073,0.870\n",
      "F-measure,0.392,0.000,0.391\n",
      "Accuracy,0.974,0.000,0.252\n",
      "\n",
      "#Outcome scores (per class)\n",
      "Classes,Abnormal,Normal\n",
      "AUROC,0.630,0.630\n",
      "AUPRC,0.652,0.596\n",
      "F-measure,0.678,0.000\n",
      "Accuracy,1.000,0.000\n",
      "\n",
      "-------------\n",
      "threshold:  0.3\n",
      "#Murmur scores\n",
      "AUROC,AUPRC,F-measure,Accuracy,Weighted Accuracy,Cost\n",
      "0.691,0.475,0.325,0.476,0.623,12951.635\n",
      "\n",
      "#Outcome scores\n",
      "AUROC,AUPRC,F-measure,Accuracy,Weighted Accuracy,Cost\n",
      "0.630,0.624,0.339,0.513,0.840,15140.890\n",
      "\n",
      "#Murmur scores (per class)\n",
      "Classes,Present,Unknown,Absent\n",
      "AUROC,0.828,0.500,0.745\n",
      "AUPRC,0.481,0.073,0.870\n",
      "F-measure,0.424,0.000,0.552\n",
      "Accuracy,0.921,0.000,0.403\n",
      "\n",
      "#Outcome scores (per class)\n",
      "Classes,Abnormal,Normal\n",
      "AUROC,0.630,0.630\n",
      "AUPRC,0.652,0.596\n",
      "F-measure,0.678,0.000\n",
      "Accuracy,1.000,0.000\n",
      "\n",
      "-------------\n",
      "threshold:  0.35\n",
      "#Murmur scores\n",
      "AUROC,AUPRC,F-measure,Accuracy,Weighted Accuracy,Cost\n",
      "0.691,0.475,0.394,0.592,0.682,14033.182\n",
      "\n",
      "#Outcome scores\n",
      "AUROC,AUPRC,F-measure,Accuracy,Weighted Accuracy,Cost\n",
      "0.630,0.624,0.339,0.513,0.840,15140.890\n",
      "\n",
      "#Murmur scores (per class)\n",
      "Classes,Present,Unknown,Absent\n",
      "AUROC,0.828,0.500,0.745\n",
      "AUPRC,0.481,0.073,0.870\n",
      "F-measure,0.493,0.000,0.690\n",
      "Accuracy,0.921,0.000,0.561\n",
      "\n",
      "#Outcome scores (per class)\n",
      "Classes,Abnormal,Normal\n",
      "AUROC,0.630,0.630\n",
      "AUPRC,0.652,0.596\n",
      "F-measure,0.678,0.000\n",
      "Accuracy,1.000,0.000\n",
      "\n",
      "-------------\n",
      "threshold:  0.4\n",
      "#Murmur scores\n",
      "AUROC,AUPRC,F-measure,Accuracy,Weighted Accuracy,Cost\n",
      "0.691,0.475,0.432,0.654,0.714,14743.044\n",
      "\n",
      "#Outcome scores\n",
      "AUROC,AUPRC,F-measure,Accuracy,Weighted Accuracy,Cost\n",
      "0.630,0.624,0.339,0.513,0.840,15140.890\n",
      "\n",
      "#Murmur scores (per class)\n",
      "Classes,Present,Unknown,Absent\n",
      "AUROC,0.828,0.500,0.745\n",
      "AUPRC,0.481,0.073,0.870\n",
      "F-measure,0.547,0.000,0.750\n",
      "Accuracy,0.921,0.000,0.647\n",
      "\n",
      "#Outcome scores (per class)\n",
      "Classes,Abnormal,Normal\n",
      "AUROC,0.630,0.630\n",
      "AUPRC,0.652,0.596\n",
      "F-measure,0.678,0.000\n",
      "Accuracy,1.000,0.000\n",
      "\n",
      "-------------\n",
      "threshold:  0.45\n",
      "#Murmur scores\n",
      "AUROC,AUPRC,F-measure,Accuracy,Weighted Accuracy,Cost\n",
      "0.691,0.475,0.439,0.670,0.701,15455.781\n",
      "\n",
      "#Outcome scores\n",
      "AUROC,AUPRC,F-measure,Accuracy,Weighted Accuracy,Cost\n",
      "0.630,0.624,0.339,0.513,0.840,15140.890\n",
      "\n",
      "#Murmur scores (per class)\n",
      "Classes,Present,Unknown,Absent\n",
      "AUROC,0.828,0.500,0.745\n",
      "AUPRC,0.481,0.073,0.870\n",
      "F-measure,0.550,0.000,0.766\n",
      "Accuracy,0.868,0.000,0.683\n",
      "\n",
      "#Outcome scores (per class)\n",
      "Classes,Abnormal,Normal\n",
      "AUROC,0.630,0.630\n",
      "AUPRC,0.652,0.596\n",
      "F-measure,0.678,0.000\n",
      "Accuracy,1.000,0.000\n",
      "\n",
      "-------------\n",
      "threshold:  0.5\n",
      "#Murmur scores\n",
      "AUROC,AUPRC,F-measure,Accuracy,Weighted Accuracy,Cost\n",
      "0.691,0.475,0.471,0.728,0.709,16986.737\n",
      "\n",
      "#Outcome scores\n",
      "AUROC,AUPRC,F-measure,Accuracy,Weighted Accuracy,Cost\n",
      "0.630,0.624,0.339,0.513,0.840,15140.890\n",
      "\n",
      "#Murmur scores (per class)\n",
      "Classes,Present,Unknown,Absent\n",
      "AUROC,0.828,0.500,0.745\n",
      "AUPRC,0.481,0.073,0.870\n",
      "F-measure,0.596,0.000,0.818\n",
      "Accuracy,0.816,0.000,0.777\n",
      "\n",
      "#Outcome scores (per class)\n",
      "Classes,Abnormal,Normal\n",
      "AUROC,0.630,0.630\n",
      "AUPRC,0.652,0.596\n",
      "F-measure,0.678,0.000\n",
      "Accuracy,1.000,0.000\n",
      "\n",
      "-------------\n",
      "threshold:  0.55\n",
      "#Murmur scores\n",
      "AUROC,AUPRC,F-measure,Accuracy,Weighted Accuracy,Cost\n",
      "0.691,0.475,0.469,0.733,0.679,18208.369\n",
      "\n",
      "#Outcome scores\n",
      "AUROC,AUPRC,F-measure,Accuracy,Weighted Accuracy,Cost\n",
      "0.630,0.624,0.339,0.513,0.840,15140.890\n",
      "\n",
      "#Murmur scores (per class)\n",
      "Classes,Present,Unknown,Absent\n",
      "AUROC,0.828,0.500,0.745\n",
      "AUPRC,0.481,0.073,0.870\n",
      "F-measure,0.583,0.000,0.824\n",
      "Accuracy,0.737,0.000,0.806\n",
      "\n",
      "#Outcome scores (per class)\n",
      "Classes,Abnormal,Normal\n",
      "AUROC,0.630,0.630\n",
      "AUPRC,0.652,0.596\n",
      "F-measure,0.678,0.000\n",
      "Accuracy,1.000,0.000\n",
      "\n",
      "-------------\n",
      "threshold:  0.6\n",
      "#Murmur scores\n",
      "AUROC,AUPRC,F-measure,Accuracy,Weighted Accuracy,Cost\n",
      "0.691,0.475,0.475,0.743,0.674,18823.306\n",
      "\n",
      "#Outcome scores\n",
      "AUROC,AUPRC,F-measure,Accuracy,Weighted Accuracy,Cost\n",
      "0.630,0.624,0.351,0.518,0.842,14922.040\n",
      "\n",
      "#Murmur scores (per class)\n",
      "Classes,Present,Unknown,Absent\n",
      "AUROC,0.828,0.500,0.745\n",
      "AUPRC,0.481,0.073,0.870\n",
      "F-measure,0.593,0.000,0.830\n",
      "Accuracy,0.711,0.000,0.827\n",
      "\n",
      "#Outcome scores (per class)\n",
      "Classes,Abnormal,Normal\n",
      "AUROC,0.630,0.630\n",
      "AUPRC,0.652,0.596\n",
      "F-measure,0.681,0.021\n",
      "Accuracy,1.000,0.011\n",
      "\n",
      "-------------\n",
      "threshold:  0.65\n",
      "#Murmur scores\n",
      "AUROC,AUPRC,F-measure,Accuracy,Weighted Accuracy,Cost\n",
      "0.691,0.475,0.487,0.759,0.682,19444.436\n",
      "\n",
      "#Outcome scores\n",
      "AUROC,AUPRC,F-measure,Accuracy,Weighted Accuracy,Cost\n",
      "0.630,0.624,0.349,0.513,0.834,14916.196\n",
      "\n",
      "#Murmur scores (per class)\n",
      "Classes,Present,Unknown,Absent\n",
      "AUROC,0.828,0.500,0.745\n",
      "AUPRC,0.481,0.073,0.870\n",
      "F-measure,0.621,0.000,0.840\n",
      "Accuracy,0.711,0.000,0.849\n",
      "\n",
      "#Outcome scores (per class)\n",
      "Classes,Abnormal,Normal\n",
      "AUROC,0.630,0.630\n",
      "AUPRC,0.652,0.596\n",
      "F-measure,0.676,0.021\n",
      "Accuracy,0.990,0.011\n",
      "\n",
      "-------------\n",
      "threshold:  0.7\n",
      "#Murmur scores\n",
      "AUROC,AUPRC,F-measure,Accuracy,Weighted Accuracy,Cost\n",
      "0.691,0.475,0.461,0.743,0.620,20275.062\n",
      "\n",
      "#Outcome scores\n",
      "AUROC,AUPRC,F-measure,Accuracy,Weighted Accuracy,Cost\n",
      "0.630,0.624,0.380,0.524,0.830,14299.609\n",
      "\n",
      "#Murmur scores (per class)\n",
      "Classes,Present,Unknown,Absent\n",
      "AUROC,0.828,0.500,0.745\n",
      "AUPRC,0.481,0.073,0.870\n",
      "F-measure,0.550,0.000,0.833\n",
      "Accuracy,0.579,0.000,0.863\n",
      "\n",
      "#Outcome scores (per class)\n",
      "Classes,Abnormal,Normal\n",
      "AUROC,0.630,0.630\n",
      "AUPRC,0.652,0.596\n",
      "F-measure,0.678,0.081\n",
      "Accuracy,0.980,0.043\n",
      "\n",
      "-------------\n",
      "threshold:  0.75\n",
      "#Murmur scores\n",
      "AUROC,AUPRC,F-measure,Accuracy,Weighted Accuracy,Cost\n",
      "0.691,0.475,0.426,0.728,0.547,21318.918\n",
      "\n",
      "#Outcome scores\n",
      "AUROC,AUPRC,F-measure,Accuracy,Weighted Accuracy,Cost\n",
      "0.630,0.624,0.405,0.529,0.818,13761.982\n",
      "\n",
      "#Murmur scores (per class)\n",
      "Classes,Present,Unknown,Absent\n",
      "AUROC,0.828,0.500,0.745\n",
      "AUPRC,0.481,0.073,0.870\n",
      "F-measure,0.451,0.000,0.828\n",
      "Accuracy,0.421,0.000,0.885\n",
      "\n",
      "#Outcome scores (per class)\n",
      "Classes,Abnormal,Normal\n",
      "AUROC,0.630,0.630\n",
      "AUPRC,0.652,0.596\n",
      "F-measure,0.676,0.135\n",
      "Accuracy,0.959,0.075\n",
      "\n",
      "-------------\n",
      "threshold:  0.8\n",
      "#Murmur scores\n",
      "AUROC,AUPRC,F-measure,Accuracy,Weighted Accuracy,Cost\n",
      "0.691,0.475,0.408,0.733,0.507,22364.240\n",
      "\n",
      "#Outcome scores\n",
      "AUROC,AUPRC,F-measure,Accuracy,Weighted Accuracy,Cost\n",
      "0.630,0.624,0.468,0.550,0.798,12622.594\n",
      "\n",
      "#Murmur scores (per class)\n",
      "Classes,Present,Unknown,Absent\n",
      "AUROC,0.828,0.500,0.745\n",
      "AUPRC,0.481,0.073,0.870\n",
      "F-measure,0.387,0.000,0.837\n",
      "Accuracy,0.316,0.000,0.921\n",
      "\n",
      "#Outcome scores (per class)\n",
      "Classes,Abnormal,Normal\n",
      "AUROC,0.630,0.630\n",
      "AUPRC,0.652,0.596\n",
      "F-measure,0.677,0.259\n",
      "Accuracy,0.918,0.161\n",
      "\n",
      "-------------\n"
     ]
    }
   ],
   "source": [
    "for th1 in [0.01, 0.05, 0.1, 0.15,0.2, 0.25, 0.3, 0.35, 0.4, 0.45, 0.5, 0.55, 0.6, 0.65, 0.7, 0.75, 0.8] :\n",
    "    murmur_binary_outputs[:,0] = murmur_scalar_outputs[:,0] > th1\n",
    "    murmur_binary_outputs[:,2] = murmur_scalar_outputs[:,2] > 1 - th1\n",
    "    outcome_binary_outputs[:,0] = outcome_scalar_outputs[:,0] > th1\n",
    "    outcome_binary_outputs[:,1] = outcome_scalar_outputs[:,1] > 1 - th1\n",
    "    # For each patient, set the 'Present' or 'Abnormal' class to positive if no class is positive or if multiple classes are positive.\n",
    "    murmur_labels = enforce_positives(murmur_labels, murmur_classes, 'Present')\n",
    "    murmur_binary_outputs = enforce_positives(murmur_binary_outputs, murmur_classes, 'Present')\n",
    "    outcome_labels = enforce_positives(outcome_labels, outcome_classes, 'Abnormal')\n",
    "    outcome_binary_outputs = enforce_positives(outcome_binary_outputs, outcome_classes, 'Abnormal')\n",
    "    # Evaluate the murmur model by comparing the labels and model outputs.\n",
    "    murmur_auroc, murmur_auprc, murmur_auroc_classes, murmur_auprc_classes = compute_auc(murmur_labels, murmur_scalar_outputs)\n",
    "    murmur_f_measure, murmur_f_measure_classes = compute_f_measure(murmur_labels, murmur_binary_outputs)\n",
    "    murmur_accuracy, murmur_accuracy_classes = compute_accuracy(murmur_labels, murmur_binary_outputs)\n",
    "    murmur_weighted_accuracy = compute_weighted_accuracy(murmur_labels, murmur_binary_outputs, murmur_classes) # This is the murmur scoring metric.\n",
    "    murmur_cost = compute_cost(outcome_labels, murmur_binary_outputs, outcome_classes, murmur_classes) # Use *outcomes* to score *murmurs* for the Challenge cost metric, but this is not the actual murmur scoring metric.\n",
    "    murmur_scores = (murmur_classes, murmur_auroc, murmur_auprc, murmur_auroc_classes, murmur_auprc_classes, \\\n",
    "                 murmur_f_measure, murmur_f_measure_classes, murmur_accuracy, murmur_accuracy_classes, murmur_weighted_accuracy, murmur_cost)\n",
    "\n",
    "    # Evaluate the outcome model by comparing the labels and model outputs.\n",
    "    outcome_auroc, outcome_auprc, outcome_auroc_classes, outcome_auprc_classes = compute_auc(outcome_labels, outcome_scalar_outputs)\n",
    "    outcome_f_measure, outcome_f_measure_classes = compute_f_measure(outcome_labels, outcome_binary_outputs)\n",
    "    outcome_accuracy, outcome_accuracy_classes = compute_accuracy(outcome_labels, outcome_binary_outputs)\n",
    "    outcome_weighted_accuracy = compute_weighted_accuracy(outcome_labels, outcome_binary_outputs, outcome_classes)\n",
    "    outcome_cost = compute_cost(outcome_labels, outcome_binary_outputs, outcome_classes, outcome_classes) # This is the clinical outcomes scoring metric.\n",
    "    outcome_scores = (outcome_classes, outcome_auroc, outcome_auprc, outcome_auroc_classes, outcome_auprc_classes, \\\n",
    "                  outcome_f_measure, outcome_f_measure_classes, outcome_accuracy, outcome_accuracy_classes, outcome_weighted_accuracy, outcome_cost)\n",
    "\n",
    "\n",
    "\n",
    "    classes, auroc, auprc, auroc_classes, auprc_classes, f_measure, f_measure_classes, accuracy, accuracy_classes, weighted_accuracy, cost = murmur_scores\n",
    "    murmur_output_string = 'AUROC,AUPRC,F-measure,Accuracy,Weighted Accuracy,Cost\\n{:.3f},{:.3f},{:.3f},{:.3f},{:.3f},{:.3f}\\n'.format(auroc, auprc, f_measure, accuracy, weighted_accuracy, cost)\n",
    "    murmur_class_output_string = 'Classes,{}\\nAUROC,{}\\nAUPRC,{}\\nF-measure,{}\\nAccuracy,{}\\n'.format(\n",
    "    ','.join(classes),\n",
    "    ','.join('{:.3f}'.format(x) for x in auroc_classes),\n",
    "    ','.join('{:.3f}'.format(x) for x in auprc_classes),\n",
    "    ','.join('{:.3f}'.format(x) for x in f_measure_classes),\n",
    "    ','.join('{:.3f}'.format(x) for x in accuracy_classes))\n",
    "\n",
    "    classes, auroc, auprc, auroc_classes, auprc_classes, f_measure, f_measure_classes, accuracy, accuracy_classes, weighted_accuracy, cost = outcome_scores\n",
    "    outcome_output_string = 'AUROC,AUPRC,F-measure,Accuracy,Weighted Accuracy,Cost\\n{:.3f},{:.3f},{:.3f},{:.3f},{:.3f},{:.3f}\\n'.format(auroc, auprc, f_measure, accuracy, weighted_accuracy, cost)\n",
    "    outcome_class_output_string = 'Classes,{}\\nAUROC,{}\\nAUPRC,{}\\nF-measure,{}\\nAccuracy,{}\\n'.format(\n",
    "    ','.join(classes),\n",
    "    ','.join('{:.3f}'.format(x) for x in auroc_classes),\n",
    "    ','.join('{:.3f}'.format(x) for x in auprc_classes),\n",
    "    ','.join('{:.3f}'.format(x) for x in f_measure_classes),\n",
    "    ','.join('{:.3f}'.format(x) for x in accuracy_classes))\n",
    "\n",
    "    output_string = '#Murmur scores\\n' + murmur_output_string + '\\n#Outcome scores\\n' + outcome_output_string \\\n",
    "                + '\\n#Murmur scores (per class)\\n' + murmur_class_output_string + '\\n#Outcome scores (per class)\\n' + outcome_class_output_string\n",
    "    print(\"threshold: \", th1)\n",
    "    print(output_string)\n",
    "    print(\"-------------\")"
   ]
  },
  {
   "cell_type": "code",
   "execution_count": null,
   "id": "e6615bae",
   "metadata": {},
   "outputs": [],
   "source": []
  },
  {
   "cell_type": "code",
   "execution_count": null,
   "id": "5f95548d",
   "metadata": {},
   "outputs": [],
   "source": []
  },
  {
   "cell_type": "code",
   "execution_count": null,
   "id": "8681adbc",
   "metadata": {},
   "outputs": [],
   "source": []
  },
  {
   "cell_type": "code",
   "execution_count": null,
   "id": "f084c345",
   "metadata": {},
   "outputs": [],
   "source": []
  },
  {
   "cell_type": "code",
   "execution_count": null,
   "id": "5c260645",
   "metadata": {},
   "outputs": [],
   "source": []
  },
  {
   "cell_type": "code",
   "execution_count": null,
   "id": "7367ffff",
   "metadata": {},
   "outputs": [],
   "source": []
  },
  {
   "cell_type": "code",
   "execution_count": null,
   "id": "a95bdc02",
   "metadata": {},
   "outputs": [],
   "source": []
  },
  {
   "cell_type": "code",
   "execution_count": null,
   "id": "f085d621",
   "metadata": {},
   "outputs": [],
   "source": []
  },
  {
   "cell_type": "code",
   "execution_count": null,
   "id": "bd2c13c9",
   "metadata": {},
   "outputs": [],
   "source": []
  },
  {
   "cell_type": "code",
   "execution_count": null,
   "id": "5db42aca",
   "metadata": {},
   "outputs": [],
   "source": []
  },
  {
   "cell_type": "code",
   "execution_count": null,
   "id": "bb4f90b1",
   "metadata": {},
   "outputs": [],
   "source": []
  },
  {
   "cell_type": "code",
   "execution_count": null,
   "id": "51aa06e9",
   "metadata": {},
   "outputs": [],
   "source": []
  },
  {
   "cell_type": "code",
   "execution_count": null,
   "id": "4c7407d0",
   "metadata": {},
   "outputs": [],
   "source": []
  },
  {
   "cell_type": "code",
   "execution_count": null,
   "id": "2c27aa5b",
   "metadata": {},
   "outputs": [],
   "source": []
  },
  {
   "cell_type": "code",
   "execution_count": null,
   "id": "205f283a",
   "metadata": {},
   "outputs": [],
   "source": []
  }
 ],
 "metadata": {
  "kernelspec": {
   "display_name": "Python 3 (ipykernel)",
   "language": "python",
   "name": "python3"
  },
  "language_info": {
   "codemirror_mode": {
    "name": "ipython",
    "version": 3
   },
   "file_extension": ".py",
   "mimetype": "text/x-python",
   "name": "python",
   "nbconvert_exporter": "python",
   "pygments_lexer": "ipython3",
   "version": "3.8.13"
  }
 },
 "nbformat": 4,
 "nbformat_minor": 5
}
