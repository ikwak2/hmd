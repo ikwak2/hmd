{
 "cells": [
  {
   "cell_type": "code",
   "execution_count": 1,
   "id": "530feb29",
   "metadata": {},
   "outputs": [],
   "source": [
    "import tensorflow as tf\n",
    "from keras.preprocessing import sequence\n",
    "import numpy as np\n",
    "import matplotlib.pyplot as plt\n",
    "import pickle\n",
    "import pywt\n",
    "import pywt.data\n",
    "import soundfile as sf\n",
    "import numpy as np\n",
    "import librosa\n",
    "from helper_code import *\n",
    "import math\n",
    "import os, numpy as np, scipy as sp, scipy.io, scipy.io.wavfile\n",
    "import neurokit2 as nk\n",
    "import tqdm\n",
    "\n",
    "import os\n",
    "import pandas as pd\n",
    "import numpy as np\n",
    "import scipy as sp\n",
    "import scipy.stats\n",
    "import librosa\n",
    "import librosa.display\n",
    "import math\n",
    "import sys\n",
    "#sys.path.insert(0,'/home/ikwak2/hmd/notebooks')\n",
    "#sys.path.insert(0,'/home/ikwak2/hmd/iy_classifier')\n",
    "sys.path.insert(0,'utils')\n",
    "from helper_code import *\n",
    "from get_feature import *\n",
    "from models import *\n",
    "from Generator0 import *\n",
    "import pickle\n",
    "from tensorflow.keras.layers import Convolution2D, GlobalAveragePooling2D, MaxPool2D, ZeroPadding2D,MaxPool1D,Conv1D\n",
    "import os\n",
    "import pandas as pd\n",
    "import numpy as np\n",
    "import scipy as sp\n",
    "import scipy.stats\n",
    "import librosa\n",
    "import librosa.display\n",
    "import math\n",
    "import sys\n",
    "#sys.path.insert(0,'/home/ikwak2/hmd/notebooks')\n",
    "#sys.path.insert(0,'/home/ikwak2/hmd/iy_classifier')\n",
    "sys.path.insert(0,'utils')\n",
    "from helper_code import *\n",
    "from get_feature import *\n",
    "from models import *\n",
    "from Generator0 import *\n",
    "from keras.preprocessing import sequence\n",
    "from tensorflow import keras\n",
    "from tensorflow.keras import layers\n",
    "from tensorflow.keras.callbacks import LearningRateScheduler, ModelCheckpoint"
   ]
  },
  {
   "cell_type": "code",
   "execution_count": null,
   "id": "2c4d4788",
   "metadata": {},
   "outputs": [],
   "source": []
  },
  {
   "cell_type": "code",
   "execution_count": 2,
   "id": "ca657f78",
   "metadata": {},
   "outputs": [],
   "source": [
    "model_folder = 'lcnn2'"
   ]
  },
  {
   "cell_type": "code",
   "execution_count": null,
   "id": "061e6893",
   "metadata": {},
   "outputs": [],
   "source": []
  },
  {
   "cell_type": "code",
   "execution_count": 3,
   "id": "79f59c5e",
   "metadata": {
    "scrolled": true
   },
   "outputs": [],
   "source": [
    "with open('/home/jk21/Downloads/Data/features_trn_rr_raw.pickle', 'rb') as f:\n",
    "    features_trn = pickle.load(f)"
   ]
  },
  {
   "cell_type": "code",
   "execution_count": 4,
   "id": "dd412feb",
   "metadata": {},
   "outputs": [],
   "source": [
    "with open('/home/jk21/Downloads/Data/features_test_rr_raw.pickle', 'rb') as f:\n",
    "    features_test = pickle.load(f)"
   ]
  },
  {
   "cell_type": "code",
   "execution_count": null,
   "id": "d8d0257e",
   "metadata": {},
   "outputs": [],
   "source": []
  },
  {
   "cell_type": "code",
   "execution_count": 3,
   "id": "fa0a50b3",
   "metadata": {},
   "outputs": [],
   "source": [
    "# data_folder =  'physionet.org/files/circor-heart-sound/1.0.3/training_data'\n",
    "train_folder =  '/home/jk21/Downloads/Data/data/murmur/train'\n",
    "test_folder = '/home/jk21/Downloads/Data/data/murmur/test'\n"
   ]
  },
  {
   "cell_type": "code",
   "execution_count": 4,
   "id": "c4628ec9",
   "metadata": {},
   "outputs": [],
   "source": [
    "patient_files_trn = find_patient_files(train_folder)"
   ]
  },
  {
   "cell_type": "code",
   "execution_count": 5,
   "id": "68ed31c5",
   "metadata": {},
   "outputs": [
    {
     "data": {
      "text/plain": [
       "['/home/jk21/Downloads/Data/data/murmur/train/2530.txt',\n",
       " '/home/jk21/Downloads/Data/data/murmur/train/9979.txt',\n",
       " '/home/jk21/Downloads/Data/data/murmur/train/9983.txt',\n",
       " '/home/jk21/Downloads/Data/data/murmur/train/13918.txt',\n",
       " '/home/jk21/Downloads/Data/data/murmur/train/14241.txt',\n",
       " '/home/jk21/Downloads/Data/data/murmur/train/14998.txt',\n",
       " '/home/jk21/Downloads/Data/data/murmur/train/23625.txt',\n",
       " '/home/jk21/Downloads/Data/data/murmur/train/24160.txt',\n",
       " '/home/jk21/Downloads/Data/data/murmur/train/29045.txt',\n",
       " '/home/jk21/Downloads/Data/data/murmur/train/29378.txt',\n",
       " '/home/jk21/Downloads/Data/data/murmur/train/31737.txt',\n",
       " '/home/jk21/Downloads/Data/data/murmur/train/36327.txt',\n",
       " '/home/jk21/Downloads/Data/data/murmur/train/39043.txt',\n",
       " '/home/jk21/Downloads/Data/data/murmur/train/39403.txt',\n",
       " '/home/jk21/Downloads/Data/data/murmur/train/39456.txt',\n",
       " '/home/jk21/Downloads/Data/data/murmur/train/40058.txt',\n",
       " '/home/jk21/Downloads/Data/data/murmur/train/40840.txt',\n",
       " '/home/jk21/Downloads/Data/data/murmur/train/43852.txt',\n",
       " '/home/jk21/Downloads/Data/data/murmur/train/44514.txt',\n",
       " '/home/jk21/Downloads/Data/data/murmur/train/45843.txt',\n",
       " '/home/jk21/Downloads/Data/data/murmur/train/46065.txt',\n",
       " '/home/jk21/Downloads/Data/data/murmur/train/46532.txt',\n",
       " '/home/jk21/Downloads/Data/data/murmur/train/46579.txt',\n",
       " '/home/jk21/Downloads/Data/data/murmur/train/46778.txt',\n",
       " '/home/jk21/Downloads/Data/data/murmur/train/47002.txt',\n",
       " '/home/jk21/Downloads/Data/data/murmur/train/49561.txt',\n",
       " '/home/jk21/Downloads/Data/data/murmur/train/49562.txt',\n",
       " '/home/jk21/Downloads/Data/data/murmur/train/49568.txt',\n",
       " '/home/jk21/Downloads/Data/data/murmur/train/49574.txt',\n",
       " '/home/jk21/Downloads/Data/data/murmur/train/49577.txt',\n",
       " '/home/jk21/Downloads/Data/data/murmur/train/49585.txt',\n",
       " '/home/jk21/Downloads/Data/data/murmur/train/49595.txt',\n",
       " '/home/jk21/Downloads/Data/data/murmur/train/49598.txt',\n",
       " '/home/jk21/Downloads/Data/data/murmur/train/49610.txt',\n",
       " '/home/jk21/Downloads/Data/data/murmur/train/49618.txt',\n",
       " '/home/jk21/Downloads/Data/data/murmur/train/49622.txt',\n",
       " '/home/jk21/Downloads/Data/data/murmur/train/49627.txt',\n",
       " '/home/jk21/Downloads/Data/data/murmur/train/49630.txt',\n",
       " '/home/jk21/Downloads/Data/data/murmur/train/49631.txt',\n",
       " '/home/jk21/Downloads/Data/data/murmur/train/49638.txt',\n",
       " '/home/jk21/Downloads/Data/data/murmur/train/49659.txt',\n",
       " '/home/jk21/Downloads/Data/data/murmur/train/49661.txt',\n",
       " '/home/jk21/Downloads/Data/data/murmur/train/49669.txt',\n",
       " '/home/jk21/Downloads/Data/data/murmur/train/49678.txt',\n",
       " '/home/jk21/Downloads/Data/data/murmur/train/49687.txt',\n",
       " '/home/jk21/Downloads/Data/data/murmur/train/49704.txt',\n",
       " '/home/jk21/Downloads/Data/data/murmur/train/49712.txt',\n",
       " '/home/jk21/Downloads/Data/data/murmur/train/49719.txt',\n",
       " '/home/jk21/Downloads/Data/data/murmur/train/49729.txt',\n",
       " '/home/jk21/Downloads/Data/data/murmur/train/49735.txt',\n",
       " '/home/jk21/Downloads/Data/data/murmur/train/49745.txt',\n",
       " '/home/jk21/Downloads/Data/data/murmur/train/49748.txt',\n",
       " '/home/jk21/Downloads/Data/data/murmur/train/49751.txt',\n",
       " '/home/jk21/Downloads/Data/data/murmur/train/49754.txt',\n",
       " '/home/jk21/Downloads/Data/data/murmur/train/49776.txt',\n",
       " '/home/jk21/Downloads/Data/data/murmur/train/49808.txt',\n",
       " '/home/jk21/Downloads/Data/data/murmur/train/49821.txt',\n",
       " '/home/jk21/Downloads/Data/data/murmur/train/49823.txt',\n",
       " '/home/jk21/Downloads/Data/data/murmur/train/49838.txt',\n",
       " '/home/jk21/Downloads/Data/data/murmur/train/49839.txt',\n",
       " '/home/jk21/Downloads/Data/data/murmur/train/49842.txt',\n",
       " '/home/jk21/Downloads/Data/data/murmur/train/49850.txt',\n",
       " '/home/jk21/Downloads/Data/data/murmur/train/49853.txt',\n",
       " '/home/jk21/Downloads/Data/data/murmur/train/49854.txt',\n",
       " '/home/jk21/Downloads/Data/data/murmur/train/49873.txt',\n",
       " '/home/jk21/Downloads/Data/data/murmur/train/49876.txt',\n",
       " '/home/jk21/Downloads/Data/data/murmur/train/49897.txt',\n",
       " '/home/jk21/Downloads/Data/data/murmur/train/49900.txt',\n",
       " '/home/jk21/Downloads/Data/data/murmur/train/49930.txt',\n",
       " '/home/jk21/Downloads/Data/data/murmur/train/49931.txt',\n",
       " '/home/jk21/Downloads/Data/data/murmur/train/49946.txt',\n",
       " '/home/jk21/Downloads/Data/data/murmur/train/49959.txt',\n",
       " '/home/jk21/Downloads/Data/data/murmur/train/49960.txt',\n",
       " '/home/jk21/Downloads/Data/data/murmur/train/49963.txt',\n",
       " '/home/jk21/Downloads/Data/data/murmur/train/49966.txt',\n",
       " '/home/jk21/Downloads/Data/data/murmur/train/49968.txt',\n",
       " '/home/jk21/Downloads/Data/data/murmur/train/49969.txt',\n",
       " '/home/jk21/Downloads/Data/data/murmur/train/49970.txt',\n",
       " '/home/jk21/Downloads/Data/data/murmur/train/49974.txt',\n",
       " '/home/jk21/Downloads/Data/data/murmur/train/49979.txt',\n",
       " '/home/jk21/Downloads/Data/data/murmur/train/49986.txt',\n",
       " '/home/jk21/Downloads/Data/data/murmur/train/49987.txt',\n",
       " '/home/jk21/Downloads/Data/data/murmur/train/49988.txt',\n",
       " '/home/jk21/Downloads/Data/data/murmur/train/49989.txt',\n",
       " '/home/jk21/Downloads/Data/data/murmur/train/49990.txt',\n",
       " '/home/jk21/Downloads/Data/data/murmur/train/49993.txt',\n",
       " '/home/jk21/Downloads/Data/data/murmur/train/49994.txt',\n",
       " '/home/jk21/Downloads/Data/data/murmur/train/49995.txt',\n",
       " '/home/jk21/Downloads/Data/data/murmur/train/49998.txt',\n",
       " '/home/jk21/Downloads/Data/data/murmur/train/49999.txt',\n",
       " '/home/jk21/Downloads/Data/data/murmur/train/50001.txt',\n",
       " '/home/jk21/Downloads/Data/data/murmur/train/50004.txt',\n",
       " '/home/jk21/Downloads/Data/data/murmur/train/50005.txt',\n",
       " '/home/jk21/Downloads/Data/data/murmur/train/50007.txt',\n",
       " '/home/jk21/Downloads/Data/data/murmur/train/50008.txt',\n",
       " '/home/jk21/Downloads/Data/data/murmur/train/50009.txt',\n",
       " '/home/jk21/Downloads/Data/data/murmur/train/50014.txt',\n",
       " '/home/jk21/Downloads/Data/data/murmur/train/50015.txt',\n",
       " '/home/jk21/Downloads/Data/data/murmur/train/50017.txt',\n",
       " '/home/jk21/Downloads/Data/data/murmur/train/50018.txt',\n",
       " '/home/jk21/Downloads/Data/data/murmur/train/50023.txt',\n",
       " '/home/jk21/Downloads/Data/data/murmur/train/50027.txt',\n",
       " '/home/jk21/Downloads/Data/data/murmur/train/50029.txt',\n",
       " '/home/jk21/Downloads/Data/data/murmur/train/50030.txt',\n",
       " '/home/jk21/Downloads/Data/data/murmur/train/50032.txt',\n",
       " '/home/jk21/Downloads/Data/data/murmur/train/50034.txt',\n",
       " '/home/jk21/Downloads/Data/data/murmur/train/50037.txt',\n",
       " '/home/jk21/Downloads/Data/data/murmur/train/50043.txt',\n",
       " '/home/jk21/Downloads/Data/data/murmur/train/50048.txt',\n",
       " '/home/jk21/Downloads/Data/data/murmur/train/50053.txt',\n",
       " '/home/jk21/Downloads/Data/data/murmur/train/50054.txt',\n",
       " '/home/jk21/Downloads/Data/data/murmur/train/50056.txt',\n",
       " '/home/jk21/Downloads/Data/data/murmur/train/50057.txt',\n",
       " '/home/jk21/Downloads/Data/data/murmur/train/50061.txt',\n",
       " '/home/jk21/Downloads/Data/data/murmur/train/50066.txt',\n",
       " '/home/jk21/Downloads/Data/data/murmur/train/50070.txt',\n",
       " '/home/jk21/Downloads/Data/data/murmur/train/50072.txt',\n",
       " '/home/jk21/Downloads/Data/data/murmur/train/50074.txt',\n",
       " '/home/jk21/Downloads/Data/data/murmur/train/50076.txt',\n",
       " '/home/jk21/Downloads/Data/data/murmur/train/50077.txt',\n",
       " '/home/jk21/Downloads/Data/data/murmur/train/50078.txt',\n",
       " '/home/jk21/Downloads/Data/data/murmur/train/50080.txt',\n",
       " '/home/jk21/Downloads/Data/data/murmur/train/50085.txt',\n",
       " '/home/jk21/Downloads/Data/data/murmur/train/50089.txt',\n",
       " '/home/jk21/Downloads/Data/data/murmur/train/50092.txt',\n",
       " '/home/jk21/Downloads/Data/data/murmur/train/50094.txt',\n",
       " '/home/jk21/Downloads/Data/data/murmur/train/50096.txt',\n",
       " '/home/jk21/Downloads/Data/data/murmur/train/50099.txt',\n",
       " '/home/jk21/Downloads/Data/data/murmur/train/50100.txt',\n",
       " '/home/jk21/Downloads/Data/data/murmur/train/50103.txt',\n",
       " '/home/jk21/Downloads/Data/data/murmur/train/50109.txt',\n",
       " '/home/jk21/Downloads/Data/data/murmur/train/50111.txt',\n",
       " '/home/jk21/Downloads/Data/data/murmur/train/50113.txt',\n",
       " '/home/jk21/Downloads/Data/data/murmur/train/50115.txt',\n",
       " '/home/jk21/Downloads/Data/data/murmur/train/50116.txt',\n",
       " '/home/jk21/Downloads/Data/data/murmur/train/50117.txt',\n",
       " '/home/jk21/Downloads/Data/data/murmur/train/50118.txt',\n",
       " '/home/jk21/Downloads/Data/data/murmur/train/50119.txt',\n",
       " '/home/jk21/Downloads/Data/data/murmur/train/50121.txt',\n",
       " '/home/jk21/Downloads/Data/data/murmur/train/50122.txt',\n",
       " '/home/jk21/Downloads/Data/data/murmur/train/50123.txt',\n",
       " '/home/jk21/Downloads/Data/data/murmur/train/50125.txt',\n",
       " '/home/jk21/Downloads/Data/data/murmur/train/50126.txt',\n",
       " '/home/jk21/Downloads/Data/data/murmur/train/50127.txt',\n",
       " '/home/jk21/Downloads/Data/data/murmur/train/50128.txt',\n",
       " '/home/jk21/Downloads/Data/data/murmur/train/50129.txt',\n",
       " '/home/jk21/Downloads/Data/data/murmur/train/50133.txt',\n",
       " '/home/jk21/Downloads/Data/data/murmur/train/50136.txt',\n",
       " '/home/jk21/Downloads/Data/data/murmur/train/50137.txt',\n",
       " '/home/jk21/Downloads/Data/data/murmur/train/50138.txt',\n",
       " '/home/jk21/Downloads/Data/data/murmur/train/50141.txt',\n",
       " '/home/jk21/Downloads/Data/data/murmur/train/50142.txt',\n",
       " '/home/jk21/Downloads/Data/data/murmur/train/50146.txt',\n",
       " '/home/jk21/Downloads/Data/data/murmur/train/50149.txt',\n",
       " '/home/jk21/Downloads/Data/data/murmur/train/50150.txt',\n",
       " '/home/jk21/Downloads/Data/data/murmur/train/50151.txt',\n",
       " '/home/jk21/Downloads/Data/data/murmur/train/50152.txt',\n",
       " '/home/jk21/Downloads/Data/data/murmur/train/50153.txt',\n",
       " '/home/jk21/Downloads/Data/data/murmur/train/50159.txt',\n",
       " '/home/jk21/Downloads/Data/data/murmur/train/50160.txt',\n",
       " '/home/jk21/Downloads/Data/data/murmur/train/50161.txt',\n",
       " '/home/jk21/Downloads/Data/data/murmur/train/50166.txt',\n",
       " '/home/jk21/Downloads/Data/data/murmur/train/50174.txt',\n",
       " '/home/jk21/Downloads/Data/data/murmur/train/50204.txt',\n",
       " '/home/jk21/Downloads/Data/data/murmur/train/50206.txt',\n",
       " '/home/jk21/Downloads/Data/data/murmur/train/50207.txt',\n",
       " '/home/jk21/Downloads/Data/data/murmur/train/50209.txt',\n",
       " '/home/jk21/Downloads/Data/data/murmur/train/50216.txt',\n",
       " '/home/jk21/Downloads/Data/data/murmur/train/50217.txt',\n",
       " '/home/jk21/Downloads/Data/data/murmur/train/50220.txt',\n",
       " '/home/jk21/Downloads/Data/data/murmur/train/50221.txt',\n",
       " '/home/jk21/Downloads/Data/data/murmur/train/50222.txt',\n",
       " '/home/jk21/Downloads/Data/data/murmur/train/50225.txt',\n",
       " '/home/jk21/Downloads/Data/data/murmur/train/50228.txt',\n",
       " '/home/jk21/Downloads/Data/data/murmur/train/50229.txt',\n",
       " '/home/jk21/Downloads/Data/data/murmur/train/50230.txt',\n",
       " '/home/jk21/Downloads/Data/data/murmur/train/50231.txt',\n",
       " '/home/jk21/Downloads/Data/data/murmur/train/50233.txt',\n",
       " '/home/jk21/Downloads/Data/data/murmur/train/50238.txt',\n",
       " '/home/jk21/Downloads/Data/data/murmur/train/50239.txt',\n",
       " '/home/jk21/Downloads/Data/data/murmur/train/50241.txt',\n",
       " '/home/jk21/Downloads/Data/data/murmur/train/50244.txt',\n",
       " '/home/jk21/Downloads/Data/data/murmur/train/50247.txt',\n",
       " '/home/jk21/Downloads/Data/data/murmur/train/50248.txt',\n",
       " '/home/jk21/Downloads/Data/data/murmur/train/50250.txt',\n",
       " '/home/jk21/Downloads/Data/data/murmur/train/50251.txt',\n",
       " '/home/jk21/Downloads/Data/data/murmur/train/50254.txt',\n",
       " '/home/jk21/Downloads/Data/data/murmur/train/50256.txt',\n",
       " '/home/jk21/Downloads/Data/data/murmur/train/50258.txt',\n",
       " '/home/jk21/Downloads/Data/data/murmur/train/50261.txt',\n",
       " '/home/jk21/Downloads/Data/data/murmur/train/50263.txt',\n",
       " '/home/jk21/Downloads/Data/data/murmur/train/50264.txt',\n",
       " '/home/jk21/Downloads/Data/data/murmur/train/50271.txt',\n",
       " '/home/jk21/Downloads/Data/data/murmur/train/50272.txt',\n",
       " '/home/jk21/Downloads/Data/data/murmur/train/50273.txt',\n",
       " '/home/jk21/Downloads/Data/data/murmur/train/50276.txt',\n",
       " '/home/jk21/Downloads/Data/data/murmur/train/50277.txt',\n",
       " '/home/jk21/Downloads/Data/data/murmur/train/50278.txt',\n",
       " '/home/jk21/Downloads/Data/data/murmur/train/50280.txt',\n",
       " '/home/jk21/Downloads/Data/data/murmur/train/50281.txt',\n",
       " '/home/jk21/Downloads/Data/data/murmur/train/50284.txt',\n",
       " '/home/jk21/Downloads/Data/data/murmur/train/50285.txt',\n",
       " '/home/jk21/Downloads/Data/data/murmur/train/50291.txt',\n",
       " '/home/jk21/Downloads/Data/data/murmur/train/50295.txt',\n",
       " '/home/jk21/Downloads/Data/data/murmur/train/50296.txt',\n",
       " '/home/jk21/Downloads/Data/data/murmur/train/50297.txt',\n",
       " '/home/jk21/Downloads/Data/data/murmur/train/50298.txt',\n",
       " '/home/jk21/Downloads/Data/data/murmur/train/50300.txt',\n",
       " '/home/jk21/Downloads/Data/data/murmur/train/50303.txt',\n",
       " '/home/jk21/Downloads/Data/data/murmur/train/50304.txt',\n",
       " '/home/jk21/Downloads/Data/data/murmur/train/50306.txt',\n",
       " '/home/jk21/Downloads/Data/data/murmur/train/50311.txt',\n",
       " '/home/jk21/Downloads/Data/data/murmur/train/50312.txt',\n",
       " '/home/jk21/Downloads/Data/data/murmur/train/50314.txt',\n",
       " '/home/jk21/Downloads/Data/data/murmur/train/50316.txt',\n",
       " '/home/jk21/Downloads/Data/data/murmur/train/50317.txt',\n",
       " '/home/jk21/Downloads/Data/data/murmur/train/50318.txt',\n",
       " '/home/jk21/Downloads/Data/data/murmur/train/50319.txt',\n",
       " '/home/jk21/Downloads/Data/data/murmur/train/50321.txt',\n",
       " '/home/jk21/Downloads/Data/data/murmur/train/50323.txt',\n",
       " '/home/jk21/Downloads/Data/data/murmur/train/50325.txt',\n",
       " '/home/jk21/Downloads/Data/data/murmur/train/50326.txt',\n",
       " '/home/jk21/Downloads/Data/data/murmur/train/50327.txt',\n",
       " '/home/jk21/Downloads/Data/data/murmur/train/50331.txt',\n",
       " '/home/jk21/Downloads/Data/data/murmur/train/50332.txt',\n",
       " '/home/jk21/Downloads/Data/data/murmur/train/50334.txt',\n",
       " '/home/jk21/Downloads/Data/data/murmur/train/50335.txt',\n",
       " '/home/jk21/Downloads/Data/data/murmur/train/50336.txt',\n",
       " '/home/jk21/Downloads/Data/data/murmur/train/50337.txt',\n",
       " '/home/jk21/Downloads/Data/data/murmur/train/50339.txt',\n",
       " '/home/jk21/Downloads/Data/data/murmur/train/50343.txt',\n",
       " '/home/jk21/Downloads/Data/data/murmur/train/50345.txt',\n",
       " '/home/jk21/Downloads/Data/data/murmur/train/50349.txt',\n",
       " '/home/jk21/Downloads/Data/data/murmur/train/50350.txt',\n",
       " '/home/jk21/Downloads/Data/data/murmur/train/50352.txt',\n",
       " '/home/jk21/Downloads/Data/data/murmur/train/50354.txt',\n",
       " '/home/jk21/Downloads/Data/data/murmur/train/50359.txt',\n",
       " '/home/jk21/Downloads/Data/data/murmur/train/50379.txt',\n",
       " '/home/jk21/Downloads/Data/data/murmur/train/50384.txt',\n",
       " '/home/jk21/Downloads/Data/data/murmur/train/50385.txt',\n",
       " '/home/jk21/Downloads/Data/data/murmur/train/50388.txt',\n",
       " '/home/jk21/Downloads/Data/data/murmur/train/50391.txt',\n",
       " '/home/jk21/Downloads/Data/data/murmur/train/50393.txt',\n",
       " '/home/jk21/Downloads/Data/data/murmur/train/50620.txt',\n",
       " '/home/jk21/Downloads/Data/data/murmur/train/50621.txt',\n",
       " '/home/jk21/Downloads/Data/data/murmur/train/50625.txt',\n",
       " '/home/jk21/Downloads/Data/data/murmur/train/50626.txt',\n",
       " '/home/jk21/Downloads/Data/data/murmur/train/50628.txt',\n",
       " '/home/jk21/Downloads/Data/data/murmur/train/50629.txt',\n",
       " '/home/jk21/Downloads/Data/data/murmur/train/50635.txt',\n",
       " '/home/jk21/Downloads/Data/data/murmur/train/50636.txt',\n",
       " '/home/jk21/Downloads/Data/data/murmur/train/50639.txt',\n",
       " '/home/jk21/Downloads/Data/data/murmur/train/50645.txt',\n",
       " '/home/jk21/Downloads/Data/data/murmur/train/50646.txt',\n",
       " '/home/jk21/Downloads/Data/data/murmur/train/50647.txt',\n",
       " '/home/jk21/Downloads/Data/data/murmur/train/50649.txt',\n",
       " '/home/jk21/Downloads/Data/data/murmur/train/50652.txt',\n",
       " '/home/jk21/Downloads/Data/data/murmur/train/50654.txt',\n",
       " '/home/jk21/Downloads/Data/data/murmur/train/50655.txt',\n",
       " '/home/jk21/Downloads/Data/data/murmur/train/50657.txt',\n",
       " '/home/jk21/Downloads/Data/data/murmur/train/50658.txt',\n",
       " '/home/jk21/Downloads/Data/data/murmur/train/50661.txt',\n",
       " '/home/jk21/Downloads/Data/data/murmur/train/50665.txt',\n",
       " '/home/jk21/Downloads/Data/data/murmur/train/50667.txt',\n",
       " '/home/jk21/Downloads/Data/data/murmur/train/50668.txt',\n",
       " '/home/jk21/Downloads/Data/data/murmur/train/50669.txt',\n",
       " '/home/jk21/Downloads/Data/data/murmur/train/50673.txt',\n",
       " '/home/jk21/Downloads/Data/data/murmur/train/50676.txt',\n",
       " '/home/jk21/Downloads/Data/data/murmur/train/50677.txt',\n",
       " '/home/jk21/Downloads/Data/data/murmur/train/50678.txt',\n",
       " '/home/jk21/Downloads/Data/data/murmur/train/50680.txt',\n",
       " '/home/jk21/Downloads/Data/data/murmur/train/50687.txt',\n",
       " '/home/jk21/Downloads/Data/data/murmur/train/50688.txt',\n",
       " '/home/jk21/Downloads/Data/data/murmur/train/50689.txt',\n",
       " '/home/jk21/Downloads/Data/data/murmur/train/50690.txt',\n",
       " '/home/jk21/Downloads/Data/data/murmur/train/50691.txt',\n",
       " '/home/jk21/Downloads/Data/data/murmur/train/50704.txt',\n",
       " '/home/jk21/Downloads/Data/data/murmur/train/50707.txt',\n",
       " '/home/jk21/Downloads/Data/data/murmur/train/50713.txt',\n",
       " '/home/jk21/Downloads/Data/data/murmur/train/50715.txt',\n",
       " '/home/jk21/Downloads/Data/data/murmur/train/50720.txt',\n",
       " '/home/jk21/Downloads/Data/data/murmur/train/50721.txt',\n",
       " '/home/jk21/Downloads/Data/data/murmur/train/50722.txt',\n",
       " '/home/jk21/Downloads/Data/data/murmur/train/50723.txt',\n",
       " '/home/jk21/Downloads/Data/data/murmur/train/50725.txt',\n",
       " '/home/jk21/Downloads/Data/data/murmur/train/50727.txt',\n",
       " '/home/jk21/Downloads/Data/data/murmur/train/50729.txt',\n",
       " '/home/jk21/Downloads/Data/data/murmur/train/50731.txt',\n",
       " '/home/jk21/Downloads/Data/data/murmur/train/50732.txt',\n",
       " '/home/jk21/Downloads/Data/data/murmur/train/50735.txt',\n",
       " '/home/jk21/Downloads/Data/data/murmur/train/50736.txt',\n",
       " '/home/jk21/Downloads/Data/data/murmur/train/50738.txt',\n",
       " '/home/jk21/Downloads/Data/data/murmur/train/50739.txt',\n",
       " '/home/jk21/Downloads/Data/data/murmur/train/50740.txt',\n",
       " '/home/jk21/Downloads/Data/data/murmur/train/50742.txt',\n",
       " '/home/jk21/Downloads/Data/data/murmur/train/50744.txt',\n",
       " '/home/jk21/Downloads/Data/data/murmur/train/50746.txt',\n",
       " '/home/jk21/Downloads/Data/data/murmur/train/50747.txt',\n",
       " '/home/jk21/Downloads/Data/data/murmur/train/50748.txt',\n",
       " '/home/jk21/Downloads/Data/data/murmur/train/50749.txt',\n",
       " '/home/jk21/Downloads/Data/data/murmur/train/50751.txt',\n",
       " '/home/jk21/Downloads/Data/data/murmur/train/50752.txt',\n",
       " '/home/jk21/Downloads/Data/data/murmur/train/50753.txt',\n",
       " '/home/jk21/Downloads/Data/data/murmur/train/50754.txt',\n",
       " '/home/jk21/Downloads/Data/data/murmur/train/50756.txt',\n",
       " '/home/jk21/Downloads/Data/data/murmur/train/50758.txt',\n",
       " '/home/jk21/Downloads/Data/data/murmur/train/50762.txt',\n",
       " '/home/jk21/Downloads/Data/data/murmur/train/50763.txt',\n",
       " '/home/jk21/Downloads/Data/data/murmur/train/50766.txt',\n",
       " '/home/jk21/Downloads/Data/data/murmur/train/50768.txt',\n",
       " '/home/jk21/Downloads/Data/data/murmur/train/50771.txt',\n",
       " '/home/jk21/Downloads/Data/data/murmur/train/50772.txt',\n",
       " '/home/jk21/Downloads/Data/data/murmur/train/50773.txt',\n",
       " '/home/jk21/Downloads/Data/data/murmur/train/50776.txt',\n",
       " '/home/jk21/Downloads/Data/data/murmur/train/50782.txt',\n",
       " '/home/jk21/Downloads/Data/data/murmur/train/50784.txt',\n",
       " '/home/jk21/Downloads/Data/data/murmur/train/50787.txt',\n",
       " '/home/jk21/Downloads/Data/data/murmur/train/50788.txt',\n",
       " '/home/jk21/Downloads/Data/data/murmur/train/50789.txt',\n",
       " '/home/jk21/Downloads/Data/data/murmur/train/50790.txt',\n",
       " '/home/jk21/Downloads/Data/data/murmur/train/50793.txt',\n",
       " '/home/jk21/Downloads/Data/data/murmur/train/50795.txt',\n",
       " '/home/jk21/Downloads/Data/data/murmur/train/50796.txt',\n",
       " '/home/jk21/Downloads/Data/data/murmur/train/50797.txt',\n",
       " '/home/jk21/Downloads/Data/data/murmur/train/50798.txt',\n",
       " '/home/jk21/Downloads/Data/data/murmur/train/50802.txt',\n",
       " '/home/jk21/Downloads/Data/data/murmur/train/50803.txt',\n",
       " '/home/jk21/Downloads/Data/data/murmur/train/50805.txt',\n",
       " '/home/jk21/Downloads/Data/data/murmur/train/50807.txt',\n",
       " '/home/jk21/Downloads/Data/data/murmur/train/50812.txt',\n",
       " '/home/jk21/Downloads/Data/data/murmur/train/50818.txt',\n",
       " '/home/jk21/Downloads/Data/data/murmur/train/50819.txt',\n",
       " '/home/jk21/Downloads/Data/data/murmur/train/50820.txt',\n",
       " '/home/jk21/Downloads/Data/data/murmur/train/50822.txt',\n",
       " '/home/jk21/Downloads/Data/data/murmur/train/50826.txt',\n",
       " '/home/jk21/Downloads/Data/data/murmur/train/50829.txt',\n",
       " '/home/jk21/Downloads/Data/data/murmur/train/51331.txt',\n",
       " '/home/jk21/Downloads/Data/data/murmur/train/55945.txt',\n",
       " '/home/jk21/Downloads/Data/data/murmur/train/57700.txt',\n",
       " '/home/jk21/Downloads/Data/data/murmur/train/57706.txt',\n",
       " '/home/jk21/Downloads/Data/data/murmur/train/61610.txt',\n",
       " '/home/jk21/Downloads/Data/data/murmur/train/63456.txt',\n",
       " '/home/jk21/Downloads/Data/data/murmur/train/63581.txt',\n",
       " '/home/jk21/Downloads/Data/data/murmur/train/64256.txt',\n",
       " '/home/jk21/Downloads/Data/data/murmur/train/64715.txt',\n",
       " '/home/jk21/Downloads/Data/data/murmur/train/68175.txt',\n",
       " '/home/jk21/Downloads/Data/data/murmur/train/68182.txt',\n",
       " '/home/jk21/Downloads/Data/data/murmur/train/68186.txt',\n",
       " '/home/jk21/Downloads/Data/data/murmur/train/68194.txt',\n",
       " '/home/jk21/Downloads/Data/data/murmur/train/68204.txt',\n",
       " '/home/jk21/Downloads/Data/data/murmur/train/68213.txt',\n",
       " '/home/jk21/Downloads/Data/data/murmur/train/68219.txt',\n",
       " '/home/jk21/Downloads/Data/data/murmur/train/68222.txt',\n",
       " '/home/jk21/Downloads/Data/data/murmur/train/68260.txt',\n",
       " '/home/jk21/Downloads/Data/data/murmur/train/68269.txt',\n",
       " '/home/jk21/Downloads/Data/data/murmur/train/68279.txt',\n",
       " '/home/jk21/Downloads/Data/data/murmur/train/68292.txt',\n",
       " '/home/jk21/Downloads/Data/data/murmur/train/68298.txt',\n",
       " '/home/jk21/Downloads/Data/data/murmur/train/68303.txt',\n",
       " '/home/jk21/Downloads/Data/data/murmur/train/68316.txt',\n",
       " '/home/jk21/Downloads/Data/data/murmur/train/68318.txt',\n",
       " '/home/jk21/Downloads/Data/data/murmur/train/68337.txt',\n",
       " '/home/jk21/Downloads/Data/data/murmur/train/68347.txt',\n",
       " '/home/jk21/Downloads/Data/data/murmur/train/68359.txt',\n",
       " '/home/jk21/Downloads/Data/data/murmur/train/68363.txt',\n",
       " '/home/jk21/Downloads/Data/data/murmur/train/68368.txt',\n",
       " '/home/jk21/Downloads/Data/data/murmur/train/68374.txt',\n",
       " '/home/jk21/Downloads/Data/data/murmur/train/68377.txt',\n",
       " '/home/jk21/Downloads/Data/data/murmur/train/68379.txt',\n",
       " '/home/jk21/Downloads/Data/data/murmur/train/68394.txt',\n",
       " '/home/jk21/Downloads/Data/data/murmur/train/68395.txt',\n",
       " '/home/jk21/Downloads/Data/data/murmur/train/68407.txt',\n",
       " '/home/jk21/Downloads/Data/data/murmur/train/68412.txt',\n",
       " '/home/jk21/Downloads/Data/data/murmur/train/68413.txt',\n",
       " '/home/jk21/Downloads/Data/data/murmur/train/68419.txt',\n",
       " '/home/jk21/Downloads/Data/data/murmur/train/68425.txt',\n",
       " '/home/jk21/Downloads/Data/data/murmur/train/68427.txt',\n",
       " '/home/jk21/Downloads/Data/data/murmur/train/68431.txt',\n",
       " '/home/jk21/Downloads/Data/data/murmur/train/68444.txt',\n",
       " '/home/jk21/Downloads/Data/data/murmur/train/68456.txt',\n",
       " '/home/jk21/Downloads/Data/data/murmur/train/68465.txt',\n",
       " '/home/jk21/Downloads/Data/data/murmur/train/68470.txt',\n",
       " '/home/jk21/Downloads/Data/data/murmur/train/68477.txt',\n",
       " '/home/jk21/Downloads/Data/data/murmur/train/68478.txt',\n",
       " '/home/jk21/Downloads/Data/data/murmur/train/68482.txt',\n",
       " '/home/jk21/Downloads/Data/data/murmur/train/68487.txt',\n",
       " '/home/jk21/Downloads/Data/data/murmur/train/68498.txt',\n",
       " '/home/jk21/Downloads/Data/data/murmur/train/68504.txt',\n",
       " '/home/jk21/Downloads/Data/data/murmur/train/68532.txt',\n",
       " '/home/jk21/Downloads/Data/data/murmur/train/68556.txt',\n",
       " '/home/jk21/Downloads/Data/data/murmur/train/68560.txt',\n",
       " '/home/jk21/Downloads/Data/data/murmur/train/68567.txt',\n",
       " '/home/jk21/Downloads/Data/data/murmur/train/68576.txt',\n",
       " '/home/jk21/Downloads/Data/data/murmur/train/68582.txt',\n",
       " '/home/jk21/Downloads/Data/data/murmur/train/68624.txt',\n",
       " '/home/jk21/Downloads/Data/data/murmur/train/68632.txt',\n",
       " '/home/jk21/Downloads/Data/data/murmur/train/68646.txt',\n",
       " '/home/jk21/Downloads/Data/data/murmur/train/68659.txt',\n",
       " '/home/jk21/Downloads/Data/data/murmur/train/68660.txt',\n",
       " '/home/jk21/Downloads/Data/data/murmur/train/68702.txt',\n",
       " '/home/jk21/Downloads/Data/data/murmur/train/68705.txt',\n",
       " '/home/jk21/Downloads/Data/data/murmur/train/68708.txt',\n",
       " '/home/jk21/Downloads/Data/data/murmur/train/68711.txt',\n",
       " '/home/jk21/Downloads/Data/data/murmur/train/68737.txt',\n",
       " '/home/jk21/Downloads/Data/data/murmur/train/68740.txt',\n",
       " '/home/jk21/Downloads/Data/data/murmur/train/68741.txt',\n",
       " '/home/jk21/Downloads/Data/data/murmur/train/68752.txt',\n",
       " '/home/jk21/Downloads/Data/data/murmur/train/68755.txt',\n",
       " '/home/jk21/Downloads/Data/data/murmur/train/68756.txt',\n",
       " '/home/jk21/Downloads/Data/data/murmur/train/68757.txt',\n",
       " '/home/jk21/Downloads/Data/data/murmur/train/68827.txt',\n",
       " '/home/jk21/Downloads/Data/data/murmur/train/68831.txt',\n",
       " '/home/jk21/Downloads/Data/data/murmur/train/68849.txt',\n",
       " '/home/jk21/Downloads/Data/data/murmur/train/68857.txt',\n",
       " '/home/jk21/Downloads/Data/data/murmur/train/68861.txt',\n",
       " '/home/jk21/Downloads/Data/data/murmur/train/68864.txt',\n",
       " '/home/jk21/Downloads/Data/data/murmur/train/68874.txt',\n",
       " '/home/jk21/Downloads/Data/data/murmur/train/68886.txt',\n",
       " '/home/jk21/Downloads/Data/data/murmur/train/68888.txt',\n",
       " '/home/jk21/Downloads/Data/data/murmur/train/68895.txt',\n",
       " '/home/jk21/Downloads/Data/data/murmur/train/68901.txt',\n",
       " '/home/jk21/Downloads/Data/data/murmur/train/68908.txt',\n",
       " '/home/jk21/Downloads/Data/data/murmur/train/68909.txt',\n",
       " '/home/jk21/Downloads/Data/data/murmur/train/69066.txt',\n",
       " '/home/jk21/Downloads/Data/data/murmur/train/69067.txt',\n",
       " '/home/jk21/Downloads/Data/data/murmur/train/69079.txt',\n",
       " '/home/jk21/Downloads/Data/data/murmur/train/69093.txt',\n",
       " '/home/jk21/Downloads/Data/data/murmur/train/69095.txt',\n",
       " '/home/jk21/Downloads/Data/data/murmur/train/69096.txt',\n",
       " '/home/jk21/Downloads/Data/data/murmur/train/69106.txt',\n",
       " '/home/jk21/Downloads/Data/data/murmur/train/69120.txt',\n",
       " '/home/jk21/Downloads/Data/data/murmur/train/69129.txt',\n",
       " '/home/jk21/Downloads/Data/data/murmur/train/69141.txt',\n",
       " '/home/jk21/Downloads/Data/data/murmur/train/69152.txt',\n",
       " '/home/jk21/Downloads/Data/data/murmur/train/69155.txt',\n",
       " '/home/jk21/Downloads/Data/data/murmur/train/69159.txt',\n",
       " '/home/jk21/Downloads/Data/data/murmur/train/69161.txt',\n",
       " '/home/jk21/Downloads/Data/data/murmur/train/69174.txt',\n",
       " '/home/jk21/Downloads/Data/data/murmur/train/69176.txt',\n",
       " '/home/jk21/Downloads/Data/data/murmur/train/69188.txt',\n",
       " '/home/jk21/Downloads/Data/data/murmur/train/72283.txt',\n",
       " '/home/jk21/Downloads/Data/data/murmur/train/72288.txt',\n",
       " '/home/jk21/Downloads/Data/data/murmur/train/74420.txt',\n",
       " '/home/jk21/Downloads/Data/data/murmur/train/75440.txt',\n",
       " '/home/jk21/Downloads/Data/data/murmur/train/76240.txt',\n",
       " '/home/jk21/Downloads/Data/data/murmur/train/76758.txt',\n",
       " '/home/jk21/Downloads/Data/data/murmur/train/77373.txt',\n",
       " '/home/jk21/Downloads/Data/data/murmur/train/78280.txt',\n",
       " '/home/jk21/Downloads/Data/data/murmur/train/78582.txt',\n",
       " '/home/jk21/Downloads/Data/data/murmur/train/78592.txt',\n",
       " '/home/jk21/Downloads/Data/data/murmur/train/80348.txt',\n",
       " '/home/jk21/Downloads/Data/data/murmur/train/81297.txt',\n",
       " '/home/jk21/Downloads/Data/data/murmur/train/81501.txt',\n",
       " '/home/jk21/Downloads/Data/data/murmur/train/81638.txt',\n",
       " '/home/jk21/Downloads/Data/data/murmur/train/82275.txt',\n",
       " '/home/jk21/Downloads/Data/data/murmur/train/83094.txt',\n",
       " '/home/jk21/Downloads/Data/data/murmur/train/84687.txt',\n",
       " '/home/jk21/Downloads/Data/data/murmur/train/84688.txt',\n",
       " '/home/jk21/Downloads/Data/data/murmur/train/84689.txt',\n",
       " '/home/jk21/Downloads/Data/data/murmur/train/84690.txt',\n",
       " '/home/jk21/Downloads/Data/data/murmur/train/84693.txt',\n",
       " '/home/jk21/Downloads/Data/data/murmur/train/84695.txt',\n",
       " '/home/jk21/Downloads/Data/data/murmur/train/84696.txt',\n",
       " '/home/jk21/Downloads/Data/data/murmur/train/84697.txt',\n",
       " '/home/jk21/Downloads/Data/data/murmur/train/84699.txt',\n",
       " '/home/jk21/Downloads/Data/data/murmur/train/84702.txt',\n",
       " '/home/jk21/Downloads/Data/data/murmur/train/84704.txt',\n",
       " '/home/jk21/Downloads/Data/data/murmur/train/84706.txt',\n",
       " '/home/jk21/Downloads/Data/data/murmur/train/84709.txt',\n",
       " '/home/jk21/Downloads/Data/data/murmur/train/84710.txt',\n",
       " '/home/jk21/Downloads/Data/data/murmur/train/84713.txt',\n",
       " '/home/jk21/Downloads/Data/data/murmur/train/84714.txt',\n",
       " '/home/jk21/Downloads/Data/data/murmur/train/84716.txt',\n",
       " '/home/jk21/Downloads/Data/data/murmur/train/84718.txt',\n",
       " '/home/jk21/Downloads/Data/data/murmur/train/84721.txt',\n",
       " '/home/jk21/Downloads/Data/data/murmur/train/84724.txt',\n",
       " '/home/jk21/Downloads/Data/data/murmur/train/84725.txt',\n",
       " '/home/jk21/Downloads/Data/data/murmur/train/84727.txt',\n",
       " '/home/jk21/Downloads/Data/data/murmur/train/84730.txt',\n",
       " '/home/jk21/Downloads/Data/data/murmur/train/84731.txt',\n",
       " '/home/jk21/Downloads/Data/data/murmur/train/84732.txt',\n",
       " '/home/jk21/Downloads/Data/data/murmur/train/84735.txt',\n",
       " '/home/jk21/Downloads/Data/data/murmur/train/84736.txt',\n",
       " '/home/jk21/Downloads/Data/data/murmur/train/84738.txt',\n",
       " '/home/jk21/Downloads/Data/data/murmur/train/84740.txt',\n",
       " '/home/jk21/Downloads/Data/data/murmur/train/84742.txt',\n",
       " '/home/jk21/Downloads/Data/data/murmur/train/84746.txt',\n",
       " '/home/jk21/Downloads/Data/data/murmur/train/84747.txt',\n",
       " '/home/jk21/Downloads/Data/data/murmur/train/84749.txt',\n",
       " '/home/jk21/Downloads/Data/data/murmur/train/84750.txt',\n",
       " '/home/jk21/Downloads/Data/data/murmur/train/84751.txt',\n",
       " '/home/jk21/Downloads/Data/data/murmur/train/84753.txt',\n",
       " '/home/jk21/Downloads/Data/data/murmur/train/84754.txt',\n",
       " '/home/jk21/Downloads/Data/data/murmur/train/84755.txt',\n",
       " '/home/jk21/Downloads/Data/data/murmur/train/84761.txt',\n",
       " '/home/jk21/Downloads/Data/data/murmur/train/84762.txt',\n",
       " '/home/jk21/Downloads/Data/data/murmur/train/84764.txt',\n",
       " '/home/jk21/Downloads/Data/data/murmur/train/84765.txt',\n",
       " '/home/jk21/Downloads/Data/data/murmur/train/84768.txt',\n",
       " '/home/jk21/Downloads/Data/data/murmur/train/84769.txt',\n",
       " '/home/jk21/Downloads/Data/data/murmur/train/84775.txt',\n",
       " '/home/jk21/Downloads/Data/data/murmur/train/84776.txt',\n",
       " '/home/jk21/Downloads/Data/data/murmur/train/84778.txt',\n",
       " '/home/jk21/Downloads/Data/data/murmur/train/84779.txt',\n",
       " '/home/jk21/Downloads/Data/data/murmur/train/84780.txt',\n",
       " '/home/jk21/Downloads/Data/data/murmur/train/84784.txt',\n",
       " '/home/jk21/Downloads/Data/data/murmur/train/84785.txt',\n",
       " '/home/jk21/Downloads/Data/data/murmur/train/84786.txt',\n",
       " '/home/jk21/Downloads/Data/data/murmur/train/84790.txt',\n",
       " '/home/jk21/Downloads/Data/data/murmur/train/84793.txt',\n",
       " '/home/jk21/Downloads/Data/data/murmur/train/84796.txt',\n",
       " '/home/jk21/Downloads/Data/data/murmur/train/84798.txt',\n",
       " '/home/jk21/Downloads/Data/data/murmur/train/84799.txt',\n",
       " '/home/jk21/Downloads/Data/data/murmur/train/84802.txt',\n",
       " '/home/jk21/Downloads/Data/data/murmur/train/84803.txt',\n",
       " '/home/jk21/Downloads/Data/data/murmur/train/84804.txt',\n",
       " '/home/jk21/Downloads/Data/data/murmur/train/84805.txt',\n",
       " '/home/jk21/Downloads/Data/data/murmur/train/84807.txt',\n",
       " '/home/jk21/Downloads/Data/data/murmur/train/84808.txt',\n",
       " '/home/jk21/Downloads/Data/data/murmur/train/84809.txt',\n",
       " '/home/jk21/Downloads/Data/data/murmur/train/84815.txt',\n",
       " '/home/jk21/Downloads/Data/data/murmur/train/84823.txt',\n",
       " '/home/jk21/Downloads/Data/data/murmur/train/84824.txt',\n",
       " '/home/jk21/Downloads/Data/data/murmur/train/84831.txt',\n",
       " '/home/jk21/Downloads/Data/data/murmur/train/84834.txt',\n",
       " '/home/jk21/Downloads/Data/data/murmur/train/84835.txt',\n",
       " '/home/jk21/Downloads/Data/data/murmur/train/84837.txt',\n",
       " '/home/jk21/Downloads/Data/data/murmur/train/84838.txt',\n",
       " '/home/jk21/Downloads/Data/data/murmur/train/84839.txt',\n",
       " '/home/jk21/Downloads/Data/data/murmur/train/84851.txt',\n",
       " '/home/jk21/Downloads/Data/data/murmur/train/84853.txt',\n",
       " '/home/jk21/Downloads/Data/data/murmur/train/84854.txt',\n",
       " '/home/jk21/Downloads/Data/data/murmur/train/84859.txt',\n",
       " '/home/jk21/Downloads/Data/data/murmur/train/84861.txt',\n",
       " '/home/jk21/Downloads/Data/data/murmur/train/84863.txt',\n",
       " '/home/jk21/Downloads/Data/data/murmur/train/84864.txt',\n",
       " '/home/jk21/Downloads/Data/data/murmur/train/84866.txt',\n",
       " '/home/jk21/Downloads/Data/data/murmur/train/84868.txt',\n",
       " '/home/jk21/Downloads/Data/data/murmur/train/84870.txt',\n",
       " '/home/jk21/Downloads/Data/data/murmur/train/84875.txt',\n",
       " '/home/jk21/Downloads/Data/data/murmur/train/84876.txt',\n",
       " '/home/jk21/Downloads/Data/data/murmur/train/84877.txt',\n",
       " '/home/jk21/Downloads/Data/data/murmur/train/84878.txt',\n",
       " '/home/jk21/Downloads/Data/data/murmur/train/84881.txt',\n",
       " '/home/jk21/Downloads/Data/data/murmur/train/84882.txt',\n",
       " '/home/jk21/Downloads/Data/data/murmur/train/84883.txt',\n",
       " '/home/jk21/Downloads/Data/data/murmur/train/84884.txt',\n",
       " '/home/jk21/Downloads/Data/data/murmur/train/84885.txt',\n",
       " '/home/jk21/Downloads/Data/data/murmur/train/84886.txt',\n",
       " '/home/jk21/Downloads/Data/data/murmur/train/84887.txt',\n",
       " '/home/jk21/Downloads/Data/data/murmur/train/84890.txt',\n",
       " '/home/jk21/Downloads/Data/data/murmur/train/84892.txt',\n",
       " '/home/jk21/Downloads/Data/data/murmur/train/84894.txt',\n",
       " '/home/jk21/Downloads/Data/data/murmur/train/84912.txt',\n",
       " '/home/jk21/Downloads/Data/data/murmur/train/84918.txt',\n",
       " '/home/jk21/Downloads/Data/data/murmur/train/84919.txt',\n",
       " '/home/jk21/Downloads/Data/data/murmur/train/84921.txt',\n",
       " '/home/jk21/Downloads/Data/data/murmur/train/84922.txt',\n",
       " '/home/jk21/Downloads/Data/data/murmur/train/84928.txt',\n",
       " '/home/jk21/Downloads/Data/data/murmur/train/84930.txt',\n",
       " '/home/jk21/Downloads/Data/data/murmur/train/84933.txt',\n",
       " '/home/jk21/Downloads/Data/data/murmur/train/84934.txt',\n",
       " '/home/jk21/Downloads/Data/data/murmur/train/84935.txt',\n",
       " '/home/jk21/Downloads/Data/data/murmur/train/84936.txt',\n",
       " '/home/jk21/Downloads/Data/data/murmur/train/84937.txt',\n",
       " '/home/jk21/Downloads/Data/data/murmur/train/84939.txt',\n",
       " '/home/jk21/Downloads/Data/data/murmur/train/84942.txt',\n",
       " '/home/jk21/Downloads/Data/data/murmur/train/84945.txt',\n",
       " '/home/jk21/Downloads/Data/data/murmur/train/84946.txt',\n",
       " '/home/jk21/Downloads/Data/data/murmur/train/84947.txt',\n",
       " '/home/jk21/Downloads/Data/data/murmur/train/84949.txt',\n",
       " '/home/jk21/Downloads/Data/data/murmur/train/84950.txt',\n",
       " '/home/jk21/Downloads/Data/data/murmur/train/84957.txt',\n",
       " '/home/jk21/Downloads/Data/data/murmur/train/84960.txt',\n",
       " '/home/jk21/Downloads/Data/data/murmur/train/84962.txt',\n",
       " '/home/jk21/Downloads/Data/data/murmur/train/84965.txt',\n",
       " '/home/jk21/Downloads/Data/data/murmur/train/84966.txt',\n",
       " '/home/jk21/Downloads/Data/data/murmur/train/84969.txt',\n",
       " '/home/jk21/Downloads/Data/data/murmur/train/84970.txt',\n",
       " '/home/jk21/Downloads/Data/data/murmur/train/84971.txt',\n",
       " '/home/jk21/Downloads/Data/data/murmur/train/84976.txt',\n",
       " '/home/jk21/Downloads/Data/data/murmur/train/84977.txt',\n",
       " '/home/jk21/Downloads/Data/data/murmur/train/84983.txt',\n",
       " '/home/jk21/Downloads/Data/data/murmur/train/84984.txt',\n",
       " '/home/jk21/Downloads/Data/data/murmur/train/84985.txt',\n",
       " '/home/jk21/Downloads/Data/data/murmur/train/84987.txt',\n",
       " '/home/jk21/Downloads/Data/data/murmur/train/84988.txt',\n",
       " '/home/jk21/Downloads/Data/data/murmur/train/84991.txt',\n",
       " '/home/jk21/Downloads/Data/data/murmur/train/84992.txt',\n",
       " '/home/jk21/Downloads/Data/data/murmur/train/84994.txt',\n",
       " '/home/jk21/Downloads/Data/data/murmur/train/84995.txt',\n",
       " '/home/jk21/Downloads/Data/data/murmur/train/84996.txt',\n",
       " '/home/jk21/Downloads/Data/data/murmur/train/85000.txt',\n",
       " '/home/jk21/Downloads/Data/data/murmur/train/85002.txt',\n",
       " '/home/jk21/Downloads/Data/data/murmur/train/85004.txt',\n",
       " '/home/jk21/Downloads/Data/data/murmur/train/85010.txt',\n",
       " '/home/jk21/Downloads/Data/data/murmur/train/85011.txt',\n",
       " '/home/jk21/Downloads/Data/data/murmur/train/85012.txt',\n",
       " '/home/jk21/Downloads/Data/data/murmur/train/85018.txt',\n",
       " '/home/jk21/Downloads/Data/data/murmur/train/85019.txt',\n",
       " '/home/jk21/Downloads/Data/data/murmur/train/85020.txt',\n",
       " '/home/jk21/Downloads/Data/data/murmur/train/85023.txt',\n",
       " '/home/jk21/Downloads/Data/data/murmur/train/85026.txt',\n",
       " '/home/jk21/Downloads/Data/data/murmur/train/85027.txt',\n",
       " '/home/jk21/Downloads/Data/data/murmur/train/85028.txt',\n",
       " '/home/jk21/Downloads/Data/data/murmur/train/85029.txt',\n",
       " '/home/jk21/Downloads/Data/data/murmur/train/85030.txt',\n",
       " '/home/jk21/Downloads/Data/data/murmur/train/85031.txt',\n",
       " '/home/jk21/Downloads/Data/data/murmur/train/85033.txt',\n",
       " '/home/jk21/Downloads/Data/data/murmur/train/85034.txt',\n",
       " '/home/jk21/Downloads/Data/data/murmur/train/85035.txt',\n",
       " '/home/jk21/Downloads/Data/data/murmur/train/85036.txt',\n",
       " '/home/jk21/Downloads/Data/data/murmur/train/85037.txt',\n",
       " '/home/jk21/Downloads/Data/data/murmur/train/85038.txt',\n",
       " '/home/jk21/Downloads/Data/data/murmur/train/85042.txt',\n",
       " '/home/jk21/Downloads/Data/data/murmur/train/85044.txt',\n",
       " '/home/jk21/Downloads/Data/data/murmur/train/85046.txt',\n",
       " '/home/jk21/Downloads/Data/data/murmur/train/85048.txt',\n",
       " '/home/jk21/Downloads/Data/data/murmur/train/85052.txt',\n",
       " '/home/jk21/Downloads/Data/data/murmur/train/85053.txt',\n",
       " '/home/jk21/Downloads/Data/data/murmur/train/85055.txt',\n",
       " '/home/jk21/Downloads/Data/data/murmur/train/85057.txt',\n",
       " '/home/jk21/Downloads/Data/data/murmur/train/85062.txt',\n",
       " '/home/jk21/Downloads/Data/data/murmur/train/85063.txt',\n",
       " '/home/jk21/Downloads/Data/data/murmur/train/85064.txt',\n",
       " '/home/jk21/Downloads/Data/data/murmur/train/85066.txt',\n",
       " '/home/jk21/Downloads/Data/data/murmur/train/85075.txt',\n",
       " '/home/jk21/Downloads/Data/data/murmur/train/85076.txt',\n",
       " '/home/jk21/Downloads/Data/data/murmur/train/85077.txt',\n",
       " '/home/jk21/Downloads/Data/data/murmur/train/85080.txt',\n",
       " '/home/jk21/Downloads/Data/data/murmur/train/85086.txt',\n",
       " '/home/jk21/Downloads/Data/data/murmur/train/85087.txt',\n",
       " '/home/jk21/Downloads/Data/data/murmur/train/85090.txt',\n",
       " '/home/jk21/Downloads/Data/data/murmur/train/85091.txt',\n",
       " '/home/jk21/Downloads/Data/data/murmur/train/85093.txt',\n",
       " '/home/jk21/Downloads/Data/data/murmur/train/85094.txt',\n",
       " '/home/jk21/Downloads/Data/data/murmur/train/85096.txt',\n",
       " '/home/jk21/Downloads/Data/data/murmur/train/85099.txt',\n",
       " '/home/jk21/Downloads/Data/data/murmur/train/85102.txt',\n",
       " '/home/jk21/Downloads/Data/data/murmur/train/85103.txt',\n",
       " '/home/jk21/Downloads/Data/data/murmur/train/85105.txt',\n",
       " '/home/jk21/Downloads/Data/data/murmur/train/85109.txt',\n",
       " '/home/jk21/Downloads/Data/data/murmur/train/85110.txt',\n",
       " '/home/jk21/Downloads/Data/data/murmur/train/85112.txt',\n",
       " '/home/jk21/Downloads/Data/data/murmur/train/85113.txt',\n",
       " '/home/jk21/Downloads/Data/data/murmur/train/85114.txt',\n",
       " '/home/jk21/Downloads/Data/data/murmur/train/85116.txt',\n",
       " '/home/jk21/Downloads/Data/data/murmur/train/85119.txt',\n",
       " '/home/jk21/Downloads/Data/data/murmur/train/85122.txt',\n",
       " '/home/jk21/Downloads/Data/data/murmur/train/85123.txt',\n",
       " '/home/jk21/Downloads/Data/data/murmur/train/85124.txt',\n",
       " '/home/jk21/Downloads/Data/data/murmur/train/85127.txt',\n",
       " '/home/jk21/Downloads/Data/data/murmur/train/85131.txt',\n",
       " '/home/jk21/Downloads/Data/data/murmur/train/85135.txt',\n",
       " '/home/jk21/Downloads/Data/data/murmur/train/85136.txt',\n",
       " '/home/jk21/Downloads/Data/data/murmur/train/85139.txt',\n",
       " '/home/jk21/Downloads/Data/data/murmur/train/85143.txt',\n",
       " '/home/jk21/Downloads/Data/data/murmur/train/85147.txt',\n",
       " '/home/jk21/Downloads/Data/data/murmur/train/85148.txt',\n",
       " '/home/jk21/Downloads/Data/data/murmur/train/85150.txt',\n",
       " '/home/jk21/Downloads/Data/data/murmur/train/85151.txt',\n",
       " '/home/jk21/Downloads/Data/data/murmur/train/85153.txt',\n",
       " '/home/jk21/Downloads/Data/data/murmur/train/85154.txt',\n",
       " '/home/jk21/Downloads/Data/data/murmur/train/85157.txt',\n",
       " '/home/jk21/Downloads/Data/data/murmur/train/85159.txt',\n",
       " '/home/jk21/Downloads/Data/data/murmur/train/85161.txt',\n",
       " '/home/jk21/Downloads/Data/data/murmur/train/85163.txt',\n",
       " '/home/jk21/Downloads/Data/data/murmur/train/85164.txt',\n",
       " '/home/jk21/Downloads/Data/data/murmur/train/85168.txt',\n",
       " '/home/jk21/Downloads/Data/data/murmur/train/85169.txt',\n",
       " '/home/jk21/Downloads/Data/data/murmur/train/85172.txt',\n",
       " '/home/jk21/Downloads/Data/data/murmur/train/85174.txt',\n",
       " '/home/jk21/Downloads/Data/data/murmur/train/85175.txt',\n",
       " '/home/jk21/Downloads/Data/data/murmur/train/85176.txt',\n",
       " '/home/jk21/Downloads/Data/data/murmur/train/85180.txt',\n",
       " '/home/jk21/Downloads/Data/data/murmur/train/85182.txt',\n",
       " '/home/jk21/Downloads/Data/data/murmur/train/85186.txt',\n",
       " '/home/jk21/Downloads/Data/data/murmur/train/85192.txt',\n",
       " '/home/jk21/Downloads/Data/data/murmur/train/85196.txt',\n",
       " '/home/jk21/Downloads/Data/data/murmur/train/85197.txt',\n",
       " '/home/jk21/Downloads/Data/data/murmur/train/85198.txt',\n",
       " '/home/jk21/Downloads/Data/data/murmur/train/85199.txt',\n",
       " '/home/jk21/Downloads/Data/data/murmur/train/85202.txt',\n",
       " '/home/jk21/Downloads/Data/data/murmur/train/85203.txt',\n",
       " '/home/jk21/Downloads/Data/data/murmur/train/85207.txt',\n",
       " '/home/jk21/Downloads/Data/data/murmur/train/85210.txt',\n",
       " '/home/jk21/Downloads/Data/data/murmur/train/85212.txt',\n",
       " '/home/jk21/Downloads/Data/data/murmur/train/85213.txt',\n",
       " '/home/jk21/Downloads/Data/data/murmur/train/85214.txt',\n",
       " '/home/jk21/Downloads/Data/data/murmur/train/85217.txt',\n",
       " '/home/jk21/Downloads/Data/data/murmur/train/85222.txt',\n",
       " '/home/jk21/Downloads/Data/data/murmur/train/85226.txt',\n",
       " '/home/jk21/Downloads/Data/data/murmur/train/85227.txt',\n",
       " '/home/jk21/Downloads/Data/data/murmur/train/85229.txt',\n",
       " '/home/jk21/Downloads/Data/data/murmur/train/85230.txt',\n",
       " '/home/jk21/Downloads/Data/data/murmur/train/85234.txt',\n",
       " '/home/jk21/Downloads/Data/data/murmur/train/85235.txt',\n",
       " '/home/jk21/Downloads/Data/data/murmur/train/85236.txt',\n",
       " '/home/jk21/Downloads/Data/data/murmur/train/85239.txt',\n",
       " '/home/jk21/Downloads/Data/data/murmur/train/85240.txt',\n",
       " '/home/jk21/Downloads/Data/data/murmur/train/85241.txt',\n",
       " '/home/jk21/Downloads/Data/data/murmur/train/85243.txt',\n",
       " '/home/jk21/Downloads/Data/data/murmur/train/85244.txt',\n",
       " '/home/jk21/Downloads/Data/data/murmur/train/85245.txt',\n",
       " '/home/jk21/Downloads/Data/data/murmur/train/85246.txt',\n",
       " '/home/jk21/Downloads/Data/data/murmur/train/85249.txt',\n",
       " '/home/jk21/Downloads/Data/data/murmur/train/85250.txt',\n",
       " '/home/jk21/Downloads/Data/data/murmur/train/85252.txt',\n",
       " '/home/jk21/Downloads/Data/data/murmur/train/85253.txt',\n",
       " '/home/jk21/Downloads/Data/data/murmur/train/85258.txt',\n",
       " '/home/jk21/Downloads/Data/data/murmur/train/85259.txt',\n",
       " '/home/jk21/Downloads/Data/data/murmur/train/85262.txt',\n",
       " '/home/jk21/Downloads/Data/data/murmur/train/85264.txt',\n",
       " '/home/jk21/Downloads/Data/data/murmur/train/85265.txt',\n",
       " '/home/jk21/Downloads/Data/data/murmur/train/85269.txt',\n",
       " '/home/jk21/Downloads/Data/data/murmur/train/85270.txt',\n",
       " '/home/jk21/Downloads/Data/data/murmur/train/85276.txt',\n",
       " '/home/jk21/Downloads/Data/data/murmur/train/85277.txt',\n",
       " '/home/jk21/Downloads/Data/data/murmur/train/85278.txt',\n",
       " '/home/jk21/Downloads/Data/data/murmur/train/85285.txt',\n",
       " '/home/jk21/Downloads/Data/data/murmur/train/85286.txt',\n",
       " '/home/jk21/Downloads/Data/data/murmur/train/85287.txt',\n",
       " '/home/jk21/Downloads/Data/data/murmur/train/85293.txt',\n",
       " '/home/jk21/Downloads/Data/data/murmur/train/85296.txt',\n",
       " '/home/jk21/Downloads/Data/data/murmur/train/85299.txt',\n",
       " '/home/jk21/Downloads/Data/data/murmur/train/85300.txt',\n",
       " '/home/jk21/Downloads/Data/data/murmur/train/85301.txt',\n",
       " '/home/jk21/Downloads/Data/data/murmur/train/85308.txt',\n",
       " '/home/jk21/Downloads/Data/data/murmur/train/85312.txt',\n",
       " '/home/jk21/Downloads/Data/data/murmur/train/85313.txt',\n",
       " '/home/jk21/Downloads/Data/data/murmur/train/85315.txt',\n",
       " '/home/jk21/Downloads/Data/data/murmur/train/85316.txt',\n",
       " '/home/jk21/Downloads/Data/data/murmur/train/85317.txt',\n",
       " '/home/jk21/Downloads/Data/data/murmur/train/85319.txt',\n",
       " '/home/jk21/Downloads/Data/data/murmur/train/85321.txt',\n",
       " '/home/jk21/Downloads/Data/data/murmur/train/85322.txt',\n",
       " '/home/jk21/Downloads/Data/data/murmur/train/85323.txt',\n",
       " '/home/jk21/Downloads/Data/data/murmur/train/85326.txt',\n",
       " '/home/jk21/Downloads/Data/data/murmur/train/85327.txt',\n",
       " '/home/jk21/Downloads/Data/data/murmur/train/85328.txt',\n",
       " '/home/jk21/Downloads/Data/data/murmur/train/85331.txt',\n",
       " '/home/jk21/Downloads/Data/data/murmur/train/85332.txt',\n",
       " '/home/jk21/Downloads/Data/data/murmur/train/85334.txt',\n",
       " '/home/jk21/Downloads/Data/data/murmur/train/85335.txt',\n",
       " '/home/jk21/Downloads/Data/data/murmur/train/85336.txt',\n",
       " '/home/jk21/Downloads/Data/data/murmur/train/85337.txt',\n",
       " '/home/jk21/Downloads/Data/data/murmur/train/85340.txt',\n",
       " '/home/jk21/Downloads/Data/data/murmur/train/85341.txt',\n",
       " '/home/jk21/Downloads/Data/data/murmur/train/85343.txt',\n",
       " '/home/jk21/Downloads/Data/data/murmur/train/85345.txt',\n",
       " '/home/jk21/Downloads/Data/data/murmur/train/85349.txt']"
      ]
     },
     "execution_count": 5,
     "metadata": {},
     "output_type": "execute_result"
    }
   ],
   "source": [
    "patient_files_trn"
   ]
  },
  {
   "cell_type": "code",
   "execution_count": 6,
   "id": "1fa4ae45",
   "metadata": {},
   "outputs": [],
   "source": [
    "current_patient_data = load_patient_data(patient_files_trn[200])\n",
    "num_locations = get_num_locations(current_patient_data)\n",
    "recording_information = current_patient_data.split('\\n')[1:num_locations+1]"
   ]
  },
  {
   "cell_type": "code",
   "execution_count": 7,
   "id": "467f4cba",
   "metadata": {},
   "outputs": [
    {
     "data": {
      "text/plain": [
       "['AV 50284_AV.hea 50284_AV.wav 50284_AV.tsv',\n",
       " 'PV 50284_PV.hea 50284_PV.wav 50284_PV.tsv',\n",
       " 'TV 50284_TV.hea 50284_TV.wav 50284_TV.tsv',\n",
       " 'MV 50284_MV.hea 50284_MV.wav 50284_MV.tsv']"
      ]
     },
     "execution_count": 7,
     "metadata": {},
     "output_type": "execute_result"
    }
   ],
   "source": [
    "recording_information"
   ]
  },
  {
   "cell_type": "code",
   "execution_count": 8,
   "id": "f1112ef8",
   "metadata": {},
   "outputs": [],
   "source": [
    "data_folder = train_folder"
   ]
  },
  {
   "cell_type": "code",
   "execution_count": 9,
   "id": "ed007956",
   "metadata": {},
   "outputs": [],
   "source": [
    "entries = recording_information[3].split(' ')\n",
    "recording_file = entries[2]\n",
    "filename = os.path.join(data_folder, recording_file)"
   ]
  },
  {
   "cell_type": "code",
   "execution_count": 10,
   "id": "3a8dd639",
   "metadata": {},
   "outputs": [
    {
     "data": {
      "text/plain": [
       "'/home/jk21/Downloads/Data/data/murmur/train/50284_MV.wav'"
      ]
     },
     "execution_count": 10,
     "metadata": {},
     "output_type": "execute_result"
    }
   ],
   "source": [
    "filename"
   ]
  },
  {
   "cell_type": "code",
   "execution_count": 11,
   "id": "cfc553b2",
   "metadata": {},
   "outputs": [],
   "source": [
    "afile = librosa.load(filename)[0]"
   ]
  },
  {
   "cell_type": "code",
   "execution_count": 12,
   "id": "8021f2b2",
   "metadata": {},
   "outputs": [],
   "source": [
    "widths = np.arange(1, 31)"
   ]
  },
  {
   "cell_type": "code",
   "execution_count": 13,
   "id": "e1bf89f9",
   "metadata": {},
   "outputs": [],
   "source": [
    "wavlist = pywt.wavelist(kind='continuous')"
   ]
  },
  {
   "cell_type": "code",
   "execution_count": 14,
   "id": "8e687f8f",
   "metadata": {},
   "outputs": [
    {
     "data": {
      "text/plain": [
       "['cgau1',\n",
       " 'cgau2',\n",
       " 'cgau3',\n",
       " 'cgau4',\n",
       " 'cgau5',\n",
       " 'cgau6',\n",
       " 'cgau7',\n",
       " 'cgau8',\n",
       " 'cmor',\n",
       " 'fbsp',\n",
       " 'gaus1',\n",
       " 'gaus2',\n",
       " 'gaus3',\n",
       " 'gaus4',\n",
       " 'gaus5',\n",
       " 'gaus6',\n",
       " 'gaus7',\n",
       " 'gaus8',\n",
       " 'mexh',\n",
       " 'morl',\n",
       " 'shan']"
      ]
     },
     "execution_count": 14,
     "metadata": {},
     "output_type": "execute_result"
    }
   ],
   "source": [
    "wavlist"
   ]
  },
  {
   "cell_type": "code",
   "execution_count": 142,
   "id": "f668a0c7",
   "metadata": {},
   "outputs": [],
   "source": [
    "cwtmatr, freqs=pywt.cwt(afile,13,'gaus2')"
   ]
  },
  {
   "cell_type": "code",
   "execution_count": 143,
   "id": "79b9bb3b",
   "metadata": {},
   "outputs": [
    {
     "data": {
      "text/plain": [
       "array([[-0.03715572, -0.03198799, -0.02502273, ...,  0.0229891 ,\n",
       "         0.02832278,  0.03252299]], dtype=float32)"
      ]
     },
     "execution_count": 143,
     "metadata": {},
     "output_type": "execute_result"
    }
   ],
   "source": [
    "cwtmatr"
   ]
  },
  {
   "cell_type": "code",
   "execution_count": 120,
   "id": "15eb9883",
   "metadata": {},
   "outputs": [
    {
     "data": {
      "text/plain": [
       "(1, 680199)"
      ]
     },
     "execution_count": 120,
     "metadata": {},
     "output_type": "execute_result"
    }
   ],
   "source": [
    "cwtmatr.shape"
   ]
  },
  {
   "cell_type": "code",
   "execution_count": 121,
   "id": "a32be0ac",
   "metadata": {},
   "outputs": [
    {
     "data": {
      "text/plain": [
       "array([-0.13443777, -0.14070342, -0.13744186, ..., -0.00675856,\n",
       "       -0.00689578, -0.00703356], dtype=float32)"
      ]
     },
     "execution_count": 121,
     "metadata": {},
     "output_type": "execute_result"
    }
   ],
   "source": [
    "cwtmatr[0][:4000]"
   ]
  },
  {
   "cell_type": "code",
   "execution_count": 122,
   "id": "97936b6c",
   "metadata": {},
   "outputs": [
    {
     "data": {
      "text/plain": [
       "(1,)"
      ]
     },
     "execution_count": 122,
     "metadata": {},
     "output_type": "execute_result"
    }
   ],
   "source": [
    "freqs.shape"
   ]
  },
  {
   "cell_type": "code",
   "execution_count": 123,
   "id": "ebc4bfe2",
   "metadata": {},
   "outputs": [
    {
     "data": {
      "image/png": "[encoded data removed]",
      "text/plain": [
       "<Figure size 432x288 with 1 Axes>"
      ]
     },
     "metadata": {
      "needs_background": "light"
     },
     "output_type": "display_data"
    }
   ],
   "source": [
    "plt.plot(cwtmatr[:,4000:8000],freqs)\n",
    "plt.show()"
   ]
  },
  {
   "cell_type": "code",
   "execution_count": 124,
   "id": "bd1ef08a",
   "metadata": {},
   "outputs": [
    {
     "data": {
      "text/plain": [
       "array([-0.13443777, -0.14070342, -0.13744186, ..., -0.02899176,\n",
       "       -0.02653418, -0.02394494], dtype=float32)"
      ]
     },
     "execution_count": 124,
     "metadata": {},
     "output_type": "execute_result"
    }
   ],
   "source": [
    "cwtmatr[0]"
   ]
  },
  {
   "cell_type": "code",
   "execution_count": 125,
   "id": "0b42b60d",
   "metadata": {
    "scrolled": false
   },
   "outputs": [
    {
     "data": {
      "text/plain": [
       "0.5"
      ]
     },
     "execution_count": 125,
     "metadata": {},
     "output_type": "execute_result"
    }
   ],
   "source": [
    "pywt.central_frequency('gaus5')"
   ]
  },
  {
   "cell_type": "code",
   "execution_count": 126,
   "id": "a5afb095",
   "metadata": {},
   "outputs": [
    {
     "data": {
      "text/plain": [
       "array([[  3.2235103,   0.8934503,   7.640271 , ...,  -0.6267582,\n",
       "         -3.0133686,   1.0079122],\n",
       "       [  3.7213726,   7.4741755,   8.478863 , ...,   5.415107 ,\n",
       "          3.044069 ,   3.7729716],\n",
       "       [  0.868631 ,   7.720468 ,  -1.533304 , ...,   2.4010668,\n",
       "          2.2920256,  -1.3373618],\n",
       "       ...,\n",
       "       [-55.340763 , -55.340763 , -55.340763 , ..., -55.340763 ,\n",
       "        -55.340763 , -55.340763 ],\n",
       "       [-55.340763 , -55.340763 , -55.340763 , ..., -55.340763 ,\n",
       "        -55.340763 , -55.340763 ],\n",
       "       [-55.340763 , -55.340763 , -55.340763 , ..., -55.340763 ,\n",
       "        -55.340763 , -55.340763 ]], dtype=float32)"
      ]
     },
     "execution_count": 126,
     "metadata": {},
     "output_type": "execute_result"
    }
   ],
   "source": [
    "feature_extract_melspec(cwtmatr[0])[0]"
   ]
  },
  {
   "cell_type": "code",
   "execution_count": 144,
   "id": "1d7c38d9",
   "metadata": {
    "scrolled": true
   },
   "outputs": [
    {
     "data": {
      "text/plain": [
       "<matplotlib.collections.QuadMesh at 0x7f62635ca430>"
      ]
     },
     "execution_count": 144,
     "metadata": {},
     "output_type": "execute_result"
    },
    {
     "data": {
      "image/png": "[encoded data removed]",
      "text/plain": [
       "<Figure size 432x288 with 1 Axes>"
      ]
     },
     "metadata": {
      "needs_background": "light"
     },
     "output_type": "display_data"
    }
   ],
   "source": [
    "librosa.display.specshow(feature_extract_melspec(afile)[0], sr=4000, x_axis='time', y_axis='log')"
   ]
  },
  {
   "cell_type": "code",
   "execution_count": 145,
   "id": "48054c09",
   "metadata": {},
   "outputs": [
    {
     "data": {
      "text/plain": [
       "<matplotlib.collections.QuadMesh at 0x7f626356b820>"
      ]
     },
     "execution_count": 145,
     "metadata": {},
     "output_type": "execute_result"
    },
    {
     "data": {
      "image/png": "[encoded data removed]",
      "text/plain": [
       "<Figure size 432x288 with 1 Axes>"
      ]
     },
     "metadata": {
      "needs_background": "light"
     },
     "output_type": "display_data"
    }
   ],
   "source": [
    "librosa.display.specshow(feature_extract_melspec(cwtmatr[0])[0], sr=4000, x_axis='time', y_axis='log')"
   ]
  },
  {
   "cell_type": "code",
   "execution_count": null,
   "id": "3e119c7e",
   "metadata": {},
   "outputs": [],
   "source": []
  },
  {
   "cell_type": "code",
   "execution_count": 100,
   "id": "19a22c27",
   "metadata": {},
   "outputs": [],
   "source": [
    "coeffs2 = pywt.dwt2(feature_extract_melspec(afile)[0], 'bior1.3')"
   ]
  },
  {
   "cell_type": "code",
   "execution_count": 104,
   "id": "0cbc5b9c",
   "metadata": {},
   "outputs": [],
   "source": [
    "LL, (LH, HL, HH) = coeffs2"
   ]
  },
  {
   "cell_type": "code",
   "execution_count": 105,
   "id": "ae17bafc",
   "metadata": {},
   "outputs": [],
   "source": [
    "titles = ['Approximation', ' Horizontal detail',\n",
    "          'Vertical detail', 'Diagonal detail']"
   ]
  },
  {
   "cell_type": "code",
   "execution_count": 111,
   "id": "0083710f",
   "metadata": {},
   "outputs": [
    {
     "data": {
      "image/png": "[encoded data removed]",
      "text/plain": [
       "<Figure size 864x216 with 4 Axes>"
      ]
     },
     "metadata": {},
     "output_type": "display_data"
    }
   ],
   "source": [
    "fig = plt.figure(figsize=(12, 3))\n",
    "for i, a in enumerate([LL, LH, HL, HH]):\n",
    "    ax = fig.add_subplot(1, 4, i + 1)\n",
    "    ax.imshow(a, interpolation=\"nearest\", cmap=plt.cm.Blues)\n",
    "    ax.set_title(titles[i], fontsize=10)\n",
    "    ax.set_xticks([])\n",
    "    ax.set_yticks([])\n",
    "\n",
    "fig.tight_layout()\n",
    "plt.show()"
   ]
  },
  {
   "cell_type": "code",
   "execution_count": null,
   "id": "6d63eab4",
   "metadata": {},
   "outputs": [],
   "source": []
  }
 ],
 "metadata": {
  "kernelspec": {
   "display_name": "tf20",
   "language": "python",
   "name": "tf20"
  },
  "language_info": {
   "codemirror_mode": {
    "name": "ipython",
    "version": 3
   },
   "file_extension": ".py",
   "mimetype": "text/x-python",
   "name": "python",
   "nbconvert_exporter": "python",
   "pygments_lexer": "ipython3",
   "version": "3.8.2"
  }
 },
 "nbformat": 4,
 "nbformat_minor": 5
}
