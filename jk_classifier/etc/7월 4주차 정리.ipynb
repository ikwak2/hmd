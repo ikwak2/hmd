{
 "cells": [
  {
   "cell_type": "code",
   "execution_count": 1,
   "id": "8003559f",
   "metadata": {},
   "outputs": [],
   "source": [
    "import tensorflow as tf"
   ]
  },
  {
   "cell_type": "code",
   "execution_count": 2,
   "id": "1ba5392b",
   "metadata": {},
   "outputs": [],
   "source": [
    "import os\n",
    "import pandas as pd\n",
    "import numpy as np\n",
    "import scipy as sp\n",
    "import scipy.stats\n",
    "import librosa\n",
    "import librosa.display\n",
    "import math\n",
    "import sys\n",
    "#sys.path.insert(0,'/home/ikwak2/hmd/notebooks')\n",
    "#sys.path.insert(0,'/home/ikwak2/hmd/iy_classifier')\n",
    "sys.path.insert(0,'utils')\n",
    "from helper_code import *\n",
    "from get_feature import *\n",
    "from models import *\n",
    "from Generator0 import *\n",
    "from keras.preprocessing import sequence"
   ]
  },
  {
   "cell_type": "code",
   "execution_count": null,
   "id": "144373f6",
   "metadata": {},
   "outputs": [],
   "source": []
  },
  {
   "cell_type": "markdown",
   "id": "b4d0e4b8",
   "metadata": {},
   "source": [
    "#  Feature_ RR Interval "
   ]
  },
  {
   "cell_type": "markdown",
   "id": "4f67c837",
   "metadata": {},
   "source": [
    " - RR 인터벌과 심박동과 관련이 있으므로, 해당 피처를 사용해 보기로함. \n",
    " \n",
    " \n",
    " \n",
    " - 교수님께서 Raw 값으로 넣어보는 것을 추천하여 Raw로 넣어봄.  \n",
    " \n",
    " \n",
    " - RR 인터벌 넣은 값이 조금 더 좋게 나오긴함.    \n",
    " \n",
    " \n",
    " - RR interval 값은 뉴로킷2 이용하여 R peaks 추출 후 각 R peak 들의 간격을 구한 후 전체 평균함.  "
   ]
  },
  {
   "cell_type": "code",
   "execution_count": null,
   "id": "1c353c0e",
   "metadata": {},
   "outputs": [],
   "source": [
    "try:\n",
    "    ____, recording1 = sp.io.wavfile.read(filename)\n",
    "    \n",
    "    ____, info = nk.ecg_process(recording1, sampling_rate=4000)\n",
    "    \n",
    "    rr = np.mean(np.diff(info['ECG_R_Peaks'])/4000)\n",
    "    \n",
    "    current_rr = rr\n",
    "    \n",
    "except:\n",
    "    \n",
    "    print(filename)\n",
    "    \n",
    "    current_rr=np.zeros((1))\n",
    "                #"
   ]
  },
  {
   "cell_type": "markdown",
   "id": "d3ef6e08",
   "metadata": {},
   "source": [
    "# Wavelet 변환"
   ]
  },
  {
   "cell_type": "markdown",
   "id": "1817ce16",
   "metadata": {},
   "source": [
    " - ECG 관련 논문을 찾아보다가..Wavelet 변환이라는 것도 있음을 확인\n",
    " \n",
    " \n",
    " - 자세한건  좀 더 찾아봐야 지만, 대략적으로 이해한 바로는 시간과 주파수를 모두 고려해서?..변환한다라는것..\n",
    " \n",
    " \n",
    " - 성능이 좋을지 한번.. 보기위해서 피처 뽑고 모델 돌려보는 중"
   ]
  },
  {
   "cell_type": "markdown",
   "id": "0f163da6",
   "metadata": {},
   "source": [
    "<img src=http://ataspinar.com/wp-content/uploads/2018/07/Wavelet-Out1.jpg>"
   ]
  },
  {
   "cell_type": "markdown",
   "id": "d42833bf",
   "metadata": {},
   "source": [
    " - 참고 : https://pywavelets.readthedocs.io/en/latest/ref/cwt.html (파이썬툴)"
   ]
  },
  {
   "cell_type": "code",
   "execution_count": 15,
   "id": "d4870e56",
   "metadata": {},
   "outputs": [],
   "source": [
    "# data_folder =  'physionet.org/files/circor-heart-sound/1.0.3/training_data'\n",
    "train_folder =  '/home/jk21/Downloads/Data/data/murmur/train'\n",
    "test_folder = '/home/jk21/Downloads/Data/data/murmur/test'"
   ]
  },
  {
   "cell_type": "code",
   "execution_count": 16,
   "id": "09e1c90a",
   "metadata": {},
   "outputs": [],
   "source": [
    "patient_files_trn = find_patient_files(train_folder)"
   ]
  },
  {
   "cell_type": "code",
   "execution_count": 17,
   "id": "34d34b05",
   "metadata": {},
   "outputs": [],
   "source": [
    "current_patient_data = load_patient_data(patient_files_trn[200])\n",
    "num_locations = get_num_locations(current_patient_data)\n",
    "recording_information = current_patient_data.split('\\n')[1:num_locations+1]"
   ]
  },
  {
   "cell_type": "code",
   "execution_count": 19,
   "id": "9729337c",
   "metadata": {},
   "outputs": [],
   "source": [
    "recording_information\n",
    "\n",
    "data_folder = train_folder\n",
    "\n",
    "entries = recording_information[3].split(' ')\n",
    "recording_file = entries[2]\n",
    "filename = os.path.join(data_folder, recording_file)\n"
   ]
  },
  {
   "cell_type": "code",
   "execution_count": 20,
   "id": "e0d7b6bd",
   "metadata": {},
   "outputs": [
    {
     "data": {
      "text/plain": [
       "'/home/jk21/Downloads/Data/data/murmur/train/50284_MV.wav'"
      ]
     },
     "execution_count": 20,
     "metadata": {},
     "output_type": "execute_result"
    }
   ],
   "source": [
    "\n",
    "filename"
   ]
  },
  {
   "cell_type": "code",
   "execution_count": 21,
   "id": "dd17a6aa",
   "metadata": {},
   "outputs": [],
   "source": [
    "afile = librosa.load(filename)[0]"
   ]
  },
  {
   "cell_type": "code",
   "execution_count": 22,
   "id": "febf7a76",
   "metadata": {},
   "outputs": [],
   "source": [
    "wavlist = pywt.wavelist(kind='continuous')"
   ]
  },
  {
   "cell_type": "code",
   "execution_count": 23,
   "id": "28d87d32",
   "metadata": {},
   "outputs": [
    {
     "data": {
      "text/plain": [
       "['cgau1',\n",
       " 'cgau2',\n",
       " 'cgau3',\n",
       " 'cgau4',\n",
       " 'cgau5',\n",
       " 'cgau6',\n",
       " 'cgau7',\n",
       " 'cgau8',\n",
       " 'cmor',\n",
       " 'fbsp',\n",
       " 'gaus1',\n",
       " 'gaus2',\n",
       " 'gaus3',\n",
       " 'gaus4',\n",
       " 'gaus5',\n",
       " 'gaus6',\n",
       " 'gaus7',\n",
       " 'gaus8',\n",
       " 'mexh',\n",
       " 'morl',\n",
       " 'shan']"
      ]
     },
     "execution_count": 23,
     "metadata": {},
     "output_type": "execute_result"
    }
   ],
   "source": [
    "wavlist"
   ]
  },
  {
   "cell_type": "code",
   "execution_count": 24,
   "id": "1b62782e",
   "metadata": {},
   "outputs": [],
   "source": [
    "cwtmatr, freqs=pywt.cwt(afile,13,'gaus2')"
   ]
  },
  {
   "cell_type": "markdown",
   "id": "0f0b5c15",
   "metadata": {},
   "source": [
    "## 그냥 melspec"
   ]
  },
  {
   "cell_type": "code",
   "execution_count": 25,
   "id": "16f4e9d2",
   "metadata": {
    "scrolled": true
   },
   "outputs": [
    {
     "data": {
      "text/plain": [
       "<matplotlib.collections.QuadMesh at 0x7f03b14334f0>"
      ]
     },
     "execution_count": 25,
     "metadata": {},
     "output_type": "execute_result"
    },
    {
     "data": {
      "image/png": "[encoded data removed]",
      "text/plain": [
       "<Figure size 432x288 with 1 Axes>"
      ]
     },
     "metadata": {
      "needs_background": "light"
     },
     "output_type": "display_data"
    }
   ],
   "source": [
    "librosa.display.specshow(feature_extract_melspec(afile)[0], sr=4000, x_axis='time', y_axis='log')"
   ]
  },
  {
   "cell_type": "markdown",
   "id": "bbc2a63d",
   "metadata": {},
   "source": [
    "## wavelet 변환 후 melspec"
   ]
  },
  {
   "cell_type": "code",
   "execution_count": 26,
   "id": "f8279326",
   "metadata": {},
   "outputs": [
    {
     "data": {
      "text/plain": [
       "<matplotlib.collections.QuadMesh at 0x7f03b1985970>"
      ]
     },
     "execution_count": 26,
     "metadata": {},
     "output_type": "execute_result"
    },
    {
     "data": {
      "image/png": "[encoded data removed]",
      "text/plain": [
       "<Figure size 432x288 with 1 Axes>"
      ]
     },
     "metadata": {
      "needs_background": "light"
     },
     "output_type": "display_data"
    }
   ],
   "source": [
    "librosa.display.specshow(feature_extract_melspec(cwtmatr[0])[0], sr=4000, x_axis='time', y_axis='log')"
   ]
  },
  {
   "cell_type": "code",
   "execution_count": null,
   "id": "45b07826",
   "metadata": {},
   "outputs": [],
   "source": []
  },
  {
   "cell_type": "code",
   "execution_count": null,
   "id": "cbee1ea4",
   "metadata": {},
   "outputs": [],
   "source": []
  },
  {
   "cell_type": "code",
   "execution_count": null,
   "id": "e56d36ea",
   "metadata": {},
   "outputs": [],
   "source": []
  }
 ],
 "metadata": {
  "kernelspec": {
   "display_name": "tf20",
   "language": "python",
   "name": "tf20"
  },
  "language_info": {
   "codemirror_mode": {
    "name": "ipython",
    "version": 3
   },
   "file_extension": ".py",
   "mimetype": "text/x-python",
   "name": "python",
   "nbconvert_exporter": "python",
   "pygments_lexer": "ipython3",
   "version": "3.8.2"
  }
 },
 "nbformat": 4,
 "nbformat_minor": 5
}
