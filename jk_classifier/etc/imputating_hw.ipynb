{
 "cells": [
  {
   "cell_type": "markdown",
   "metadata": {},
   "source": [
    "## imputing heights and weights\n",
    "\n",
    "There are missing values in heights and weights variables. We developed simple imputation rule for it. "
   ]
  },
  {
   "cell_type": "code",
   "execution_count": 1,
   "metadata": {},
   "outputs": [
    {
     "name": "stderr",
     "output_type": "stream",
     "text": [
      "Registered S3 methods overwritten by 'tibble':\n",
      "  method     from  \n",
      "  format.tbl pillar\n",
      "  print.tbl  pillar\n",
      "\n",
      "── \u001b[1mAttaching packages\u001b[22m ───────────────────────────────────────────────────────────────────────────────────────────────────────────────────────── tidyverse 1.3.0 ──\n",
      "\n",
      "\u001b[32m✔\u001b[39m \u001b[34mggplot2\u001b[39m 3.3.2     \u001b[32m✔\u001b[39m \u001b[34mpurrr  \u001b[39m 0.3.4\n",
      "\u001b[32m✔\u001b[39m \u001b[34mtibble \u001b[39m 3.0.2     \u001b[32m✔\u001b[39m \u001b[34mdplyr  \u001b[39m 1.0.7\n",
      "\u001b[32m✔\u001b[39m \u001b[34mtidyr  \u001b[39m 1.1.0     \u001b[32m✔\u001b[39m \u001b[34mstringr\u001b[39m 1.4.0\n",
      "\u001b[32m✔\u001b[39m \u001b[34mreadr  \u001b[39m 1.3.1     \u001b[32m✔\u001b[39m \u001b[34mforcats\u001b[39m 0.5.0\n",
      "\n",
      "── \u001b[1mConflicts\u001b[22m ──────────────────────────────────────────────────────────────────────────────────────────────────────────────────────────── tidyverse_conflicts() ──\n",
      "\u001b[31m✖\u001b[39m \u001b[34mdplyr\u001b[39m::\u001b[32mfilter()\u001b[39m masks \u001b[34mstats\u001b[39m::filter()\n",
      "\u001b[31m✖\u001b[39m \u001b[34mdplyr\u001b[39m::\u001b[32mlag()\u001b[39m    masks \u001b[34mstats\u001b[39m::lag()\n",
      "\n"
     ]
    }
   ],
   "source": [
    "library(tidyverse)"
   ]
  },
  {
   "cell_type": "code",
   "execution_count": 2,
   "metadata": {},
   "outputs": [
    {
     "name": "stderr",
     "output_type": "stream",
     "text": [
      "Parsed with column specification:\n",
      "cols(\n",
      "  Height = \u001b[32mcol_double()\u001b[39m,\n",
      "  Weight = \u001b[32mcol_double()\u001b[39m,\n",
      "  Age = \u001b[31mcol_character()\u001b[39m,\n",
      "  Sex = \u001b[31mcol_character()\u001b[39m\n",
      ")\n",
      "\n"
     ]
    }
   ],
   "source": [
    "dd = read_csv(\"data3.csv\")"
   ]
  },
  {
   "cell_type": "code",
   "execution_count": 4,
   "metadata": {},
   "outputs": [],
   "source": [
    "dd1 = na.omit(dd)"
   ]
  },
  {
   "cell_type": "code",
   "execution_count": 5,
   "metadata": {},
   "outputs": [
    {
     "data": {
      "text/html": [
       "<table>\n",
       "<caption>A tibble: 820 × 4</caption>\n",
       "<thead>\n",
       "\t<tr><th scope=col>Height</th><th scope=col>Weight</th><th scope=col>Age</th><th scope=col>Sex</th></tr>\n",
       "\t<tr><th scope=col>&lt;dbl&gt;</th><th scope=col>&lt;dbl&gt;</th><th scope=col>&lt;chr&gt;</th><th scope=col>&lt;chr&gt;</th></tr>\n",
       "</thead>\n",
       "<tbody>\n",
       "\t<tr><td> 98</td><td> 15.90</td><td>Child     </td><td>Female</td></tr>\n",
       "\t<tr><td>103</td><td> 13.10</td><td>Child     </td><td>Female</td></tr>\n",
       "\t<tr><td>115</td><td> 19.10</td><td>Child     </td><td>Male  </td></tr>\n",
       "\t<tr><td> 98</td><td> 15.90</td><td>Child     </td><td>Male  </td></tr>\n",
       "\t<tr><td> 87</td><td> 11.20</td><td>Child     </td><td>Male  </td></tr>\n",
       "\t<tr><td> 92</td><td> 14.00</td><td>Child     </td><td>Female</td></tr>\n",
       "\t<tr><td> 98</td><td> 17.66</td><td>Child     </td><td>Female</td></tr>\n",
       "\t<tr><td> 88</td><td> 12.50</td><td>Child     </td><td>Female</td></tr>\n",
       "\t<tr><td> 82</td><td> 10.70</td><td>Child     </td><td>Female</td></tr>\n",
       "\t<tr><td> 90</td><td> 14.40</td><td>Child     </td><td>Female</td></tr>\n",
       "\t<tr><td>141</td><td> 30.90</td><td>Child     </td><td>Female</td></tr>\n",
       "\t<tr><td>174</td><td>108.60</td><td>Adolescent</td><td>Male  </td></tr>\n",
       "\t<tr><td> 76</td><td> 10.50</td><td>Child     </td><td>Female</td></tr>\n",
       "\t<tr><td>108</td><td> 17.20</td><td>Child     </td><td>Female</td></tr>\n",
       "\t<tr><td> 76</td><td>  9.05</td><td>Child     </td><td>Female</td></tr>\n",
       "\t<tr><td> 88</td><td> 12.10</td><td>Child     </td><td>Female</td></tr>\n",
       "\t<tr><td>125</td><td> 23.00</td><td>Child     </td><td>Female</td></tr>\n",
       "\t<tr><td>116</td><td> 22.50</td><td>Child     </td><td>Male  </td></tr>\n",
       "\t<tr><td>147</td><td> 36.10</td><td>Adolescent</td><td>Female</td></tr>\n",
       "\t<tr><td> 69</td><td>  9.00</td><td>Child     </td><td>Female</td></tr>\n",
       "\t<tr><td>152</td><td> 39.50</td><td>Adolescent</td><td>Male  </td></tr>\n",
       "\t<tr><td>141</td><td> 34.40</td><td>Adolescent</td><td>Female</td></tr>\n",
       "\t<tr><td>111</td><td> 18.30</td><td>Child     </td><td>Male  </td></tr>\n",
       "\t<tr><td> 70</td><td>  9.00</td><td>Child     </td><td>Female</td></tr>\n",
       "\t<tr><td> 79</td><td>  9.79</td><td>Child     </td><td>Male  </td></tr>\n",
       "\t<tr><td>150</td><td> 54.70</td><td>Adolescent</td><td>Female</td></tr>\n",
       "\t<tr><td> 74</td><td>  8.50</td><td>Child     </td><td>Female</td></tr>\n",
       "\t<tr><td> 79</td><td> 10.50</td><td>Child     </td><td>Male  </td></tr>\n",
       "\t<tr><td>124</td><td> 25.10</td><td>Child     </td><td>Female</td></tr>\n",
       "\t<tr><td>122</td><td> 24.20</td><td>Child     </td><td>Male  </td></tr>\n",
       "\t<tr><td>⋮</td><td>⋮</td><td>⋮</td><td>⋮</td></tr>\n",
       "\t<tr><td> 98</td><td>15.7</td><td>Child     </td><td>Male  </td></tr>\n",
       "\t<tr><td> 62</td><td> 7.6</td><td>Infant    </td><td>Male  </td></tr>\n",
       "\t<tr><td> 99</td><td>17.2</td><td>Child     </td><td>Female</td></tr>\n",
       "\t<tr><td> 98</td><td>16.6</td><td>Child     </td><td>Female</td></tr>\n",
       "\t<tr><td> 62</td><td> 7.3</td><td>Infant    </td><td>Female</td></tr>\n",
       "\t<tr><td> 95</td><td>14.4</td><td>Child     </td><td>Male  </td></tr>\n",
       "\t<tr><td>101</td><td>18.5</td><td>Child     </td><td>Male  </td></tr>\n",
       "\t<tr><td> 77</td><td> 8.9</td><td>Child     </td><td>Female</td></tr>\n",
       "\t<tr><td> 87</td><td>10.2</td><td>Child     </td><td>Female</td></tr>\n",
       "\t<tr><td>142</td><td>37.1</td><td>Child     </td><td>Male  </td></tr>\n",
       "\t<tr><td>125</td><td>22.5</td><td>Child     </td><td>Male  </td></tr>\n",
       "\t<tr><td>112</td><td>22.7</td><td>Child     </td><td>Male  </td></tr>\n",
       "\t<tr><td>139</td><td>34.7</td><td>Child     </td><td>Female</td></tr>\n",
       "\t<tr><td> 60</td><td> 7.0</td><td>Infant    </td><td>Female</td></tr>\n",
       "\t<tr><td>138</td><td>39.8</td><td>Child     </td><td>Female</td></tr>\n",
       "\t<tr><td> 82</td><td>12.1</td><td>Child     </td><td>Female</td></tr>\n",
       "\t<tr><td>167</td><td>89.9</td><td>Adolescent</td><td>Female</td></tr>\n",
       "\t<tr><td>127</td><td>26.1</td><td>Child     </td><td>Male  </td></tr>\n",
       "\t<tr><td>121</td><td>24.9</td><td>Child     </td><td>Male  </td></tr>\n",
       "\t<tr><td>114</td><td>19.6</td><td>Child     </td><td>Male  </td></tr>\n",
       "\t<tr><td>129</td><td>24.9</td><td>Child     </td><td>Female</td></tr>\n",
       "\t<tr><td> 86</td><td>12.8</td><td>Child     </td><td>Female</td></tr>\n",
       "\t<tr><td>106</td><td>20.5</td><td>Child     </td><td>Female</td></tr>\n",
       "\t<tr><td>125</td><td>21.4</td><td>Child     </td><td>Female</td></tr>\n",
       "\t<tr><td> 70</td><td> 8.1</td><td>Child     </td><td>Female</td></tr>\n",
       "\t<tr><td>130</td><td>27.3</td><td>Child     </td><td>Male  </td></tr>\n",
       "\t<tr><td>105</td><td>16.6</td><td>Child     </td><td>Male  </td></tr>\n",
       "\t<tr><td> 92</td><td>15.2</td><td>Child     </td><td>Male  </td></tr>\n",
       "\t<tr><td> 97</td><td>13.5</td><td>Child     </td><td>Female</td></tr>\n",
       "\t<tr><td>132</td><td>38.1</td><td>Child     </td><td>Female</td></tr>\n",
       "</tbody>\n",
       "</table>\n"
      ],
      "text/latex": [
       "A tibble: 820 × 4\n",
       "\\begin{tabular}{llll}\n",
       " Height & Weight & Age & Sex\\\\\n",
       " <dbl> & <dbl> & <chr> & <chr>\\\\\n",
       "\\hline\n",
       "\t  98 &  15.90 & Child      & Female\\\\\n",
       "\t 103 &  13.10 & Child      & Female\\\\\n",
       "\t 115 &  19.10 & Child      & Male  \\\\\n",
       "\t  98 &  15.90 & Child      & Male  \\\\\n",
       "\t  87 &  11.20 & Child      & Male  \\\\\n",
       "\t  92 &  14.00 & Child      & Female\\\\\n",
       "\t  98 &  17.66 & Child      & Female\\\\\n",
       "\t  88 &  12.50 & Child      & Female\\\\\n",
       "\t  82 &  10.70 & Child      & Female\\\\\n",
       "\t  90 &  14.40 & Child      & Female\\\\\n",
       "\t 141 &  30.90 & Child      & Female\\\\\n",
       "\t 174 & 108.60 & Adolescent & Male  \\\\\n",
       "\t  76 &  10.50 & Child      & Female\\\\\n",
       "\t 108 &  17.20 & Child      & Female\\\\\n",
       "\t  76 &   9.05 & Child      & Female\\\\\n",
       "\t  88 &  12.10 & Child      & Female\\\\\n",
       "\t 125 &  23.00 & Child      & Female\\\\\n",
       "\t 116 &  22.50 & Child      & Male  \\\\\n",
       "\t 147 &  36.10 & Adolescent & Female\\\\\n",
       "\t  69 &   9.00 & Child      & Female\\\\\n",
       "\t 152 &  39.50 & Adolescent & Male  \\\\\n",
       "\t 141 &  34.40 & Adolescent & Female\\\\\n",
       "\t 111 &  18.30 & Child      & Male  \\\\\n",
       "\t  70 &   9.00 & Child      & Female\\\\\n",
       "\t  79 &   9.79 & Child      & Male  \\\\\n",
       "\t 150 &  54.70 & Adolescent & Female\\\\\n",
       "\t  74 &   8.50 & Child      & Female\\\\\n",
       "\t  79 &  10.50 & Child      & Male  \\\\\n",
       "\t 124 &  25.10 & Child      & Female\\\\\n",
       "\t 122 &  24.20 & Child      & Male  \\\\\n",
       "\t ⋮ & ⋮ & ⋮ & ⋮\\\\\n",
       "\t  98 & 15.7 & Child      & Male  \\\\\n",
       "\t  62 &  7.6 & Infant     & Male  \\\\\n",
       "\t  99 & 17.2 & Child      & Female\\\\\n",
       "\t  98 & 16.6 & Child      & Female\\\\\n",
       "\t  62 &  7.3 & Infant     & Female\\\\\n",
       "\t  95 & 14.4 & Child      & Male  \\\\\n",
       "\t 101 & 18.5 & Child      & Male  \\\\\n",
       "\t  77 &  8.9 & Child      & Female\\\\\n",
       "\t  87 & 10.2 & Child      & Female\\\\\n",
       "\t 142 & 37.1 & Child      & Male  \\\\\n",
       "\t 125 & 22.5 & Child      & Male  \\\\\n",
       "\t 112 & 22.7 & Child      & Male  \\\\\n",
       "\t 139 & 34.7 & Child      & Female\\\\\n",
       "\t  60 &  7.0 & Infant     & Female\\\\\n",
       "\t 138 & 39.8 & Child      & Female\\\\\n",
       "\t  82 & 12.1 & Child      & Female\\\\\n",
       "\t 167 & 89.9 & Adolescent & Female\\\\\n",
       "\t 127 & 26.1 & Child      & Male  \\\\\n",
       "\t 121 & 24.9 & Child      & Male  \\\\\n",
       "\t 114 & 19.6 & Child      & Male  \\\\\n",
       "\t 129 & 24.9 & Child      & Female\\\\\n",
       "\t  86 & 12.8 & Child      & Female\\\\\n",
       "\t 106 & 20.5 & Child      & Female\\\\\n",
       "\t 125 & 21.4 & Child      & Female\\\\\n",
       "\t  70 &  8.1 & Child      & Female\\\\\n",
       "\t 130 & 27.3 & Child      & Male  \\\\\n",
       "\t 105 & 16.6 & Child      & Male  \\\\\n",
       "\t  92 & 15.2 & Child      & Male  \\\\\n",
       "\t  97 & 13.5 & Child      & Female\\\\\n",
       "\t 132 & 38.1 & Child      & Female\\\\\n",
       "\\end{tabular}\n"
      ],
      "text/markdown": [
       "\n",
       "A tibble: 820 × 4\n",
       "\n",
       "| Height &lt;dbl&gt; | Weight &lt;dbl&gt; | Age &lt;chr&gt; | Sex &lt;chr&gt; |\n",
       "|---|---|---|---|\n",
       "|  98 |  15.90 | Child      | Female |\n",
       "| 103 |  13.10 | Child      | Female |\n",
       "| 115 |  19.10 | Child      | Male   |\n",
       "|  98 |  15.90 | Child      | Male   |\n",
       "|  87 |  11.20 | Child      | Male   |\n",
       "|  92 |  14.00 | Child      | Female |\n",
       "|  98 |  17.66 | Child      | Female |\n",
       "|  88 |  12.50 | Child      | Female |\n",
       "|  82 |  10.70 | Child      | Female |\n",
       "|  90 |  14.40 | Child      | Female |\n",
       "| 141 |  30.90 | Child      | Female |\n",
       "| 174 | 108.60 | Adolescent | Male   |\n",
       "|  76 |  10.50 | Child      | Female |\n",
       "| 108 |  17.20 | Child      | Female |\n",
       "|  76 |   9.05 | Child      | Female |\n",
       "|  88 |  12.10 | Child      | Female |\n",
       "| 125 |  23.00 | Child      | Female |\n",
       "| 116 |  22.50 | Child      | Male   |\n",
       "| 147 |  36.10 | Adolescent | Female |\n",
       "|  69 |   9.00 | Child      | Female |\n",
       "| 152 |  39.50 | Adolescent | Male   |\n",
       "| 141 |  34.40 | Adolescent | Female |\n",
       "| 111 |  18.30 | Child      | Male   |\n",
       "|  70 |   9.00 | Child      | Female |\n",
       "|  79 |   9.79 | Child      | Male   |\n",
       "| 150 |  54.70 | Adolescent | Female |\n",
       "|  74 |   8.50 | Child      | Female |\n",
       "|  79 |  10.50 | Child      | Male   |\n",
       "| 124 |  25.10 | Child      | Female |\n",
       "| 122 |  24.20 | Child      | Male   |\n",
       "| ⋮ | ⋮ | ⋮ | ⋮ |\n",
       "|  98 | 15.7 | Child      | Male   |\n",
       "|  62 |  7.6 | Infant     | Male   |\n",
       "|  99 | 17.2 | Child      | Female |\n",
       "|  98 | 16.6 | Child      | Female |\n",
       "|  62 |  7.3 | Infant     | Female |\n",
       "|  95 | 14.4 | Child      | Male   |\n",
       "| 101 | 18.5 | Child      | Male   |\n",
       "|  77 |  8.9 | Child      | Female |\n",
       "|  87 | 10.2 | Child      | Female |\n",
       "| 142 | 37.1 | Child      | Male   |\n",
       "| 125 | 22.5 | Child      | Male   |\n",
       "| 112 | 22.7 | Child      | Male   |\n",
       "| 139 | 34.7 | Child      | Female |\n",
       "|  60 |  7.0 | Infant     | Female |\n",
       "| 138 | 39.8 | Child      | Female |\n",
       "|  82 | 12.1 | Child      | Female |\n",
       "| 167 | 89.9 | Adolescent | Female |\n",
       "| 127 | 26.1 | Child      | Male   |\n",
       "| 121 | 24.9 | Child      | Male   |\n",
       "| 114 | 19.6 | Child      | Male   |\n",
       "| 129 | 24.9 | Child      | Female |\n",
       "|  86 | 12.8 | Child      | Female |\n",
       "| 106 | 20.5 | Child      | Female |\n",
       "| 125 | 21.4 | Child      | Female |\n",
       "|  70 |  8.1 | Child      | Female |\n",
       "| 130 | 27.3 | Child      | Male   |\n",
       "| 105 | 16.6 | Child      | Male   |\n",
       "|  92 | 15.2 | Child      | Male   |\n",
       "|  97 | 13.5 | Child      | Female |\n",
       "| 132 | 38.1 | Child      | Female |\n",
       "\n"
      ],
      "text/plain": [
       "    Height Weight Age        Sex   \n",
       "1    98     15.90 Child      Female\n",
       "2   103     13.10 Child      Female\n",
       "3   115     19.10 Child      Male  \n",
       "4    98     15.90 Child      Male  \n",
       "5    87     11.20 Child      Male  \n",
       "6    92     14.00 Child      Female\n",
       "7    98     17.66 Child      Female\n",
       "8    88     12.50 Child      Female\n",
       "9    82     10.70 Child      Female\n",
       "10   90     14.40 Child      Female\n",
       "11  141     30.90 Child      Female\n",
       "12  174    108.60 Adolescent Male  \n",
       "13   76     10.50 Child      Female\n",
       "14  108     17.20 Child      Female\n",
       "15   76      9.05 Child      Female\n",
       "16   88     12.10 Child      Female\n",
       "17  125     23.00 Child      Female\n",
       "18  116     22.50 Child      Male  \n",
       "19  147     36.10 Adolescent Female\n",
       "20   69      9.00 Child      Female\n",
       "21  152     39.50 Adolescent Male  \n",
       "22  141     34.40 Adolescent Female\n",
       "23  111     18.30 Child      Male  \n",
       "24   70      9.00 Child      Female\n",
       "25   79      9.79 Child      Male  \n",
       "26  150     54.70 Adolescent Female\n",
       "27   74      8.50 Child      Female\n",
       "28   79     10.50 Child      Male  \n",
       "29  124     25.10 Child      Female\n",
       "30  122     24.20 Child      Male  \n",
       "⋮   ⋮      ⋮      ⋮          ⋮     \n",
       "791  98    15.7   Child      Male  \n",
       "792  62     7.6   Infant     Male  \n",
       "793  99    17.2   Child      Female\n",
       "794  98    16.6   Child      Female\n",
       "795  62     7.3   Infant     Female\n",
       "796  95    14.4   Child      Male  \n",
       "797 101    18.5   Child      Male  \n",
       "798  77     8.9   Child      Female\n",
       "799  87    10.2   Child      Female\n",
       "800 142    37.1   Child      Male  \n",
       "801 125    22.5   Child      Male  \n",
       "802 112    22.7   Child      Male  \n",
       "803 139    34.7   Child      Female\n",
       "804  60     7.0   Infant     Female\n",
       "805 138    39.8   Child      Female\n",
       "806  82    12.1   Child      Female\n",
       "807 167    89.9   Adolescent Female\n",
       "808 127    26.1   Child      Male  \n",
       "809 121    24.9   Child      Male  \n",
       "810 114    19.6   Child      Male  \n",
       "811 129    24.9   Child      Female\n",
       "812  86    12.8   Child      Female\n",
       "813 106    20.5   Child      Female\n",
       "814 125    21.4   Child      Female\n",
       "815  70     8.1   Child      Female\n",
       "816 130    27.3   Child      Male  \n",
       "817 105    16.6   Child      Male  \n",
       "818  92    15.2   Child      Male  \n",
       "819  97    13.5   Child      Female\n",
       "820 132    38.1   Child      Female"
      ]
     },
     "metadata": {},
     "output_type": "display_data"
    }
   ],
   "source": [
    "dd1"
   ]
  },
  {
   "cell_type": "code",
   "execution_count": 6,
   "metadata": {},
   "outputs": [
    {
     "data": {
      "image/png": "[encoded data removed]",
      "text/plain": [
       "plot without title"
      ]
     },
     "metadata": {
      "image/png": {
       "height": 420,
       "width": 420
      }
     },
     "output_type": "display_data"
    }
   ],
   "source": [
    "plot(dd1[[1]], dd1[[2]])"
   ]
  },
  {
   "cell_type": "code",
   "execution_count": 9,
   "metadata": {},
   "outputs": [],
   "source": [
    "dd1$Height2 = dd1$Height^2\n",
    "dd1$Weight2 = dd1$Weight^2"
   ]
  },
  {
   "cell_type": "code",
   "execution_count": 14,
   "metadata": {},
   "outputs": [
    {
     "data": {
      "text/html": [
       "<table>\n",
       "<caption>A tibble: 5 × 6</caption>\n",
       "<thead>\n",
       "\t<tr><th scope=col>Height</th><th scope=col>Weight</th><th scope=col>Age</th><th scope=col>Sex</th><th scope=col>Height2</th><th scope=col>Weight2</th></tr>\n",
       "\t<tr><th scope=col>&lt;dbl&gt;</th><th scope=col>&lt;dbl&gt;</th><th scope=col>&lt;chr&gt;</th><th scope=col>&lt;chr&gt;</th><th scope=col>&lt;dbl&gt;</th><th scope=col>&lt;dbl&gt;</th></tr>\n",
       "</thead>\n",
       "<tbody>\n",
       "\t<tr><td> 98</td><td>15.9</td><td>Child</td><td>Female</td><td> 9604</td><td>252.81</td></tr>\n",
       "\t<tr><td>103</td><td>13.1</td><td>Child</td><td>Female</td><td>10609</td><td>171.61</td></tr>\n",
       "\t<tr><td>115</td><td>19.1</td><td>Child</td><td>Male  </td><td>13225</td><td>364.81</td></tr>\n",
       "\t<tr><td> 98</td><td>15.9</td><td>Child</td><td>Male  </td><td> 9604</td><td>252.81</td></tr>\n",
       "\t<tr><td> 87</td><td>11.2</td><td>Child</td><td>Male  </td><td> 7569</td><td>125.44</td></tr>\n",
       "</tbody>\n",
       "</table>\n"
      ],
      "text/latex": [
       "A tibble: 5 × 6\n",
       "\\begin{tabular}{llllll}\n",
       " Height & Weight & Age & Sex & Height2 & Weight2\\\\\n",
       " <dbl> & <dbl> & <chr> & <chr> & <dbl> & <dbl>\\\\\n",
       "\\hline\n",
       "\t  98 & 15.9 & Child & Female &  9604 & 252.81\\\\\n",
       "\t 103 & 13.1 & Child & Female & 10609 & 171.61\\\\\n",
       "\t 115 & 19.1 & Child & Male   & 13225 & 364.81\\\\\n",
       "\t  98 & 15.9 & Child & Male   &  9604 & 252.81\\\\\n",
       "\t  87 & 11.2 & Child & Male   &  7569 & 125.44\\\\\n",
       "\\end{tabular}\n"
      ],
      "text/markdown": [
       "\n",
       "A tibble: 5 × 6\n",
       "\n",
       "| Height &lt;dbl&gt; | Weight &lt;dbl&gt; | Age &lt;chr&gt; | Sex &lt;chr&gt; | Height2 &lt;dbl&gt; | Weight2 &lt;dbl&gt; |\n",
       "|---|---|---|---|---|---|\n",
       "|  98 | 15.9 | Child | Female |  9604 | 252.81 |\n",
       "| 103 | 13.1 | Child | Female | 10609 | 171.61 |\n",
       "| 115 | 19.1 | Child | Male   | 13225 | 364.81 |\n",
       "|  98 | 15.9 | Child | Male   |  9604 | 252.81 |\n",
       "|  87 | 11.2 | Child | Male   |  7569 | 125.44 |\n",
       "\n"
      ],
      "text/plain": [
       "  Height Weight Age   Sex    Height2 Weight2\n",
       "1  98    15.9   Child Female  9604   252.81 \n",
       "2 103    13.1   Child Female 10609   171.61 \n",
       "3 115    19.1   Child Male   13225   364.81 \n",
       "4  98    15.9   Child Male    9604   252.81 \n",
       "5  87    11.2   Child Male    7569   125.44 "
      ]
     },
     "metadata": {},
     "output_type": "display_data"
    }
   ],
   "source": [
    "dd1[0:5,]"
   ]
  },
  {
   "cell_type": "code",
   "execution_count": 15,
   "metadata": {},
   "outputs": [],
   "source": [
    "lm_h <- lm(Height ~ Weight + Weight2, data = dd1)"
   ]
  },
  {
   "cell_type": "code",
   "execution_count": 16,
   "metadata": {},
   "outputs": [],
   "source": [
    "lm_w <- lm(Weight ~ Height + Height2, data = dd1)"
   ]
  },
  {
   "cell_type": "code",
   "execution_count": 17,
   "metadata": {},
   "outputs": [
    {
     "data": {
      "text/html": [
       "<table>\n",
       "<caption>A tibble: 4 × 3</caption>\n",
       "<thead>\n",
       "\t<tr><th scope=col>Age</th><th scope=col>h</th><th scope=col>w</th></tr>\n",
       "\t<tr><th scope=col>&lt;chr&gt;</th><th scope=col>&lt;dbl&gt;</th><th scope=col>&lt;dbl&gt;</th></tr>\n",
       "</thead>\n",
       "<tbody>\n",
       "\t<tr><td>Adolescent</td><td>153.72727</td><td>50.081818</td></tr>\n",
       "\t<tr><td>Child     </td><td>114.91264</td><td>23.987902</td></tr>\n",
       "\t<tr><td>Infant    </td><td> 63.48598</td><td> 7.358234</td></tr>\n",
       "\t<tr><td>Neonate   </td><td> 49.33333</td><td> 3.423500</td></tr>\n",
       "</tbody>\n",
       "</table>\n"
      ],
      "text/latex": [
       "A tibble: 4 × 3\n",
       "\\begin{tabular}{lll}\n",
       " Age & h & w\\\\\n",
       " <chr> & <dbl> & <dbl>\\\\\n",
       "\\hline\n",
       "\t Adolescent & 153.72727 & 50.081818\\\\\n",
       "\t Child      & 114.91264 & 23.987902\\\\\n",
       "\t Infant     &  63.48598 &  7.358234\\\\\n",
       "\t Neonate    &  49.33333 &  3.423500\\\\\n",
       "\\end{tabular}\n"
      ],
      "text/markdown": [
       "\n",
       "A tibble: 4 × 3\n",
       "\n",
       "| Age &lt;chr&gt; | h &lt;dbl&gt; | w &lt;dbl&gt; |\n",
       "|---|---|---|\n",
       "| Adolescent | 153.72727 | 50.081818 |\n",
       "| Child      | 114.91264 | 23.987902 |\n",
       "| Infant     |  63.48598 |  7.358234 |\n",
       "| Neonate    |  49.33333 |  3.423500 |\n",
       "\n"
      ],
      "text/plain": [
       "  Age        h         w        \n",
       "1 Adolescent 153.72727 50.081818\n",
       "2 Child      114.91264 23.987902\n",
       "3 Infant      63.48598  7.358234\n",
       "4 Neonate     49.33333  3.423500"
      ]
     },
     "metadata": {},
     "output_type": "display_data"
    }
   ],
   "source": [
    "dd1 %>% group_by(Age) %>% summarize(h = mean(Height), w = mean(Weight))"
   ]
  },
  {
   "cell_type": "code",
   "execution_count": 18,
   "metadata": {},
   "outputs": [
    {
     "data": {
      "text/html": [
       "<table>\n",
       "<caption>A tibble: 2 × 3</caption>\n",
       "<thead>\n",
       "\t<tr><th scope=col>Sex</th><th scope=col>h</th><th scope=col>w</th></tr>\n",
       "\t<tr><th scope=col>&lt;chr&gt;</th><th scope=col>&lt;dbl&gt;</th><th scope=col>&lt;dbl&gt;</th></tr>\n",
       "</thead>\n",
       "<tbody>\n",
       "\t<tr><td>Female</td><td>108.4548</td><td>22.15072</td></tr>\n",
       "\t<tr><td>Male  </td><td>113.1019</td><td>25.29273</td></tr>\n",
       "</tbody>\n",
       "</table>\n"
      ],
      "text/latex": [
       "A tibble: 2 × 3\n",
       "\\begin{tabular}{lll}\n",
       " Sex & h & w\\\\\n",
       " <chr> & <dbl> & <dbl>\\\\\n",
       "\\hline\n",
       "\t Female & 108.4548 & 22.15072\\\\\n",
       "\t Male   & 113.1019 & 25.29273\\\\\n",
       "\\end{tabular}\n"
      ],
      "text/markdown": [
       "\n",
       "A tibble: 2 × 3\n",
       "\n",
       "| Sex &lt;chr&gt; | h &lt;dbl&gt; | w &lt;dbl&gt; |\n",
       "|---|---|---|\n",
       "| Female | 108.4548 | 22.15072 |\n",
       "| Male   | 113.1019 | 25.29273 |\n",
       "\n"
      ],
      "text/plain": [
       "  Sex    h        w       \n",
       "1 Female 108.4548 22.15072\n",
       "2 Male   113.1019 25.29273"
      ]
     },
     "metadata": {},
     "output_type": "display_data"
    }
   ],
   "source": [
    "dd1 %>% group_by(Sex) %>% summarize(h = mean(Height), w = mean(Weight))"
   ]
  },
  {
   "cell_type": "code",
   "execution_count": 19,
   "metadata": {},
   "outputs": [
    {
     "name": "stderr",
     "output_type": "stream",
     "text": [
      "`summarise()` has grouped output by 'Age'. You can override using the `.groups` argument.\n",
      "\n"
     ]
    },
    {
     "data": {
      "text/html": [
       "<table>\n",
       "<caption>A grouped_df: 8 × 4</caption>\n",
       "<thead>\n",
       "\t<tr><th scope=col>Age</th><th scope=col>Sex</th><th scope=col>h</th><th scope=col>w</th></tr>\n",
       "\t<tr><th scope=col>&lt;chr&gt;</th><th scope=col>&lt;chr&gt;</th><th scope=col>&lt;dbl&gt;</th><th scope=col>&lt;dbl&gt;</th></tr>\n",
       "</thead>\n",
       "<tbody>\n",
       "\t<tr><td>Adolescent</td><td>Female</td><td>147.25000</td><td>45.950000</td></tr>\n",
       "\t<tr><td>Adolescent</td><td>Male  </td><td>157.42857</td><td>52.442857</td></tr>\n",
       "\t<tr><td>Child     </td><td>Female</td><td>113.62264</td><td>23.090708</td></tr>\n",
       "\t<tr><td>Child     </td><td>Male  </td><td>116.18266</td><td>24.871207</td></tr>\n",
       "\t<tr><td>Infant    </td><td>Female</td><td> 63.26415</td><td> 6.799245</td></tr>\n",
       "\t<tr><td>Infant    </td><td>Male  </td><td> 63.70370</td><td> 7.906870</td></tr>\n",
       "\t<tr><td>Neonate   </td><td>Female</td><td> 48.66667</td><td> 3.327000</td></tr>\n",
       "\t<tr><td>Neonate   </td><td>Male  </td><td> 50.00000</td><td> 3.520000</td></tr>\n",
       "</tbody>\n",
       "</table>\n"
      ],
      "text/latex": [
       "A grouped\\_df: 8 × 4\n",
       "\\begin{tabular}{llll}\n",
       " Age & Sex & h & w\\\\\n",
       " <chr> & <chr> & <dbl> & <dbl>\\\\\n",
       "\\hline\n",
       "\t Adolescent & Female & 147.25000 & 45.950000\\\\\n",
       "\t Adolescent & Male   & 157.42857 & 52.442857\\\\\n",
       "\t Child      & Female & 113.62264 & 23.090708\\\\\n",
       "\t Child      & Male   & 116.18266 & 24.871207\\\\\n",
       "\t Infant     & Female &  63.26415 &  6.799245\\\\\n",
       "\t Infant     & Male   &  63.70370 &  7.906870\\\\\n",
       "\t Neonate    & Female &  48.66667 &  3.327000\\\\\n",
       "\t Neonate    & Male   &  50.00000 &  3.520000\\\\\n",
       "\\end{tabular}\n"
      ],
      "text/markdown": [
       "\n",
       "A grouped_df: 8 × 4\n",
       "\n",
       "| Age &lt;chr&gt; | Sex &lt;chr&gt; | h &lt;dbl&gt; | w &lt;dbl&gt; |\n",
       "|---|---|---|---|\n",
       "| Adolescent | Female | 147.25000 | 45.950000 |\n",
       "| Adolescent | Male   | 157.42857 | 52.442857 |\n",
       "| Child      | Female | 113.62264 | 23.090708 |\n",
       "| Child      | Male   | 116.18266 | 24.871207 |\n",
       "| Infant     | Female |  63.26415 |  6.799245 |\n",
       "| Infant     | Male   |  63.70370 |  7.906870 |\n",
       "| Neonate    | Female |  48.66667 |  3.327000 |\n",
       "| Neonate    | Male   |  50.00000 |  3.520000 |\n",
       "\n"
      ],
      "text/plain": [
       "  Age        Sex    h         w        \n",
       "1 Adolescent Female 147.25000 45.950000\n",
       "2 Adolescent Male   157.42857 52.442857\n",
       "3 Child      Female 113.62264 23.090708\n",
       "4 Child      Male   116.18266 24.871207\n",
       "5 Infant     Female  63.26415  6.799245\n",
       "6 Infant     Male    63.70370  7.906870\n",
       "7 Neonate    Female  48.66667  3.327000\n",
       "8 Neonate    Male    50.00000  3.520000"
      ]
     },
     "metadata": {},
     "output_type": "display_data"
    }
   ],
   "source": [
    "dd1 %>% group_by(Age,Sex) %>% summarize(h = mean(Height), w = mean(Weight))"
   ]
  },
  {
   "cell_type": "code",
   "execution_count": 20,
   "metadata": {},
   "outputs": [
    {
     "data": {
      "text/html": [
       "<table>\n",
       "<caption>A tibble: 1 × 2</caption>\n",
       "<thead>\n",
       "\t<tr><th scope=col>h</th><th scope=col>w</th></tr>\n",
       "\t<tr><th scope=col>&lt;dbl&gt;</th><th scope=col>&lt;dbl&gt;</th></tr>\n",
       "</thead>\n",
       "<tbody>\n",
       "\t<tr><td>110.8463</td><td>23.7677</td></tr>\n",
       "</tbody>\n",
       "</table>\n"
      ],
      "text/latex": [
       "A tibble: 1 × 2\n",
       "\\begin{tabular}{ll}\n",
       " h & w\\\\\n",
       " <dbl> & <dbl>\\\\\n",
       "\\hline\n",
       "\t 110.8463 & 23.7677\\\\\n",
       "\\end{tabular}\n"
      ],
      "text/markdown": [
       "\n",
       "A tibble: 1 × 2\n",
       "\n",
       "| h &lt;dbl&gt; | w &lt;dbl&gt; |\n",
       "|---|---|\n",
       "| 110.8463 | 23.7677 |\n",
       "\n"
      ],
      "text/plain": [
       "  h        w      \n",
       "1 110.8463 23.7677"
      ]
     },
     "metadata": {},
     "output_type": "display_data"
    }
   ],
   "source": [
    "dd1  %>% summarize(h = mean(Height), w = mean(Weight))"
   ]
  },
  {
   "cell_type": "code",
   "execution_count": null,
   "metadata": {},
   "outputs": [],
   "source": []
  }
 ],
 "metadata": {
  "kernelspec": {
   "display_name": "R",
   "language": "R",
   "name": "ir"
  },
  "language_info": {
   "codemirror_mode": "r",
   "file_extension": ".r",
   "mimetype": "text/x-r-source",
   "name": "R",
   "pygments_lexer": "r",
   "version": "3.6.2"
  }
 },
 "nbformat": 4,
 "nbformat_minor": 2
}
