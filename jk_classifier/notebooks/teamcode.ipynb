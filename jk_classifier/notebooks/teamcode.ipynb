{
 "cells": [
  {
   "cell_type": "code",
   "execution_count": 1,
   "metadata": {},
   "outputs": [],
   "source": [
    "import sys\n",
    "sys.path.insert(0,'/home/ikwak2/hmd/notebooks')\n",
    "sys.path.insert(0,'/home/ikwak2/hmd/iy_classifier')\n",
    "sys.path.insert(0,'/home/ikwak2/hmd/notebooks/utils')\n"
   ]
  },
  {
   "cell_type": "code",
   "execution_count": 2,
   "metadata": {},
   "outputs": [],
   "source": [
    "from helper_code import *\n",
    "import numpy as np, scipy as sp, scipy.stats, os, sys, joblib\n",
    "from sklearn.impute import SimpleImputer\n",
    "#from sklearn.ensemble import RandomForestClassifier\n",
    "from models import *\n",
    "from get_feature import *\n",
    "import pickle as pk\n",
    "\n"
   ]
  },
  {
   "cell_type": "code",
   "execution_count": 3,
   "metadata": {},
   "outputs": [],
   "source": [
    "root_dir = '/home/ikwak2/hmd/notebooks/physionet.org/files/circor-heart-sound/1.0.1'\n",
    "training_data_file = root_dir + '/' + 'training_data.csv'\n",
    "training_data_dir = root_dir + '/' + 'training_data'"
   ]
  },
  {
   "cell_type": "code",
   "execution_count": 4,
   "metadata": {},
   "outputs": [],
   "source": [
    "data_folder = training_data_dir"
   ]
  },
  {
   "cell_type": "code",
   "execution_count": 5,
   "metadata": {},
   "outputs": [],
   "source": [
    "model_folder = '/home/ikwak2/hmd/tmpmodel'"
   ]
  },
  {
   "cell_type": "code",
   "execution_count": 6,
   "metadata": {},
   "outputs": [],
   "source": [
    "verbose = 1"
   ]
  },
  {
   "cell_type": "code",
   "execution_count": 7,
   "metadata": {},
   "outputs": [],
   "source": [
    "#data_folder, model_folder, verbose"
   ]
  },
  {
   "cell_type": "code",
   "execution_count": 8,
   "metadata": {},
   "outputs": [],
   "source": [
    "    patient_files = find_patient_files(data_folder)\n",
    "    num_patient_files = len(patient_files)"
   ]
  },
  {
   "cell_type": "code",
   "execution_count": 9,
   "metadata": {},
   "outputs": [
    {
     "name": "stdout",
     "output_type": "stream",
     "text": [
      "Extracting features and labels from the Challenge data...\n"
     ]
    }
   ],
   "source": [
    "    os.makedirs(model_folder, exist_ok=True)\n",
    "\n",
    "    classes = ['Present', 'Unknown', 'Absent']\n",
    "    num_classes = len(classes)\n",
    "\n",
    "    # Extract the features and labels.\n",
    "    if verbose >= 1:\n",
    "        print('Extracting features and labels from the Challenge data...')\n",
    "\n",
    "    features1 = get_features(data_folder, patient_files)\n",
    "    model = get_toy((100, 313, 1))\n",
    "    model.compile(optimizer = \"adam\", \n",
    "             loss = \"categorical_crossentropy\",\n",
    "             metrics = \"accuracy\")\n",
    "    "
   ]
  },
  {
   "cell_type": "code",
   "execution_count": 10,
   "metadata": {},
   "outputs": [],
   "source": [
    "import pandas as pd"
   ]
  },
  {
   "cell_type": "code",
   "execution_count": 11,
   "metadata": {},
   "outputs": [],
   "source": [
    "from sklearn.impute import SimpleImputer\n",
    "\n",
    "imputer = SimpleImputer().fit(features1[0]['hw'])\n",
    "features1[0]['hw'] = imputer.transform(features1[0]['hw'])"
   ]
  },
  {
   "cell_type": "code",
   "execution_count": 12,
   "metadata": {},
   "outputs": [
    {
     "data": {
      "text/plain": [
       "({'id': array(['2530', '2530', '2530', ..., '85349', '85349', '85349'],\n",
       "        dtype='<U5'),\n",
       "  'age': array([[0, 0, 1, 0, 0, 0],\n",
       "         [0, 0, 1, 0, 0, 0],\n",
       "         [0, 0, 1, 0, 0, 0],\n",
       "         ...,\n",
       "         [0, 0, 0, 0, 0, 1],\n",
       "         [0, 0, 0, 0, 0, 1],\n",
       "         [0, 0, 0, 0, 0, 1]]),\n",
       "  'sex': array([[1, 0],\n",
       "         [1, 0],\n",
       "         [1, 0],\n",
       "         ...,\n",
       "         [1, 0],\n",
       "         [1, 0],\n",
       "         [1, 0]]),\n",
       "  'hw': array([[ 98.        ,  15.9       ],\n",
       "         [ 98.        ,  15.9       ],\n",
       "         [ 98.        ,  15.9       ],\n",
       "         ...,\n",
       "         [115.00534188,  24.84538426],\n",
       "         [115.00534188,  24.84538426],\n",
       "         [115.00534188,  24.84538426]]),\n",
       "  'preg': array([False, False, False, ...,  True,  True,  True]),\n",
       "  'loc': array([[1., 0., 0., 0., 0.],\n",
       "         [0., 0., 1., 0., 0.],\n",
       "         [0., 0., 0., 1., 0.],\n",
       "         ...,\n",
       "         [1., 0., 0., 0., 0.],\n",
       "         [0., 0., 1., 0., 0.],\n",
       "         [0., 0., 0., 1., 0.]]),\n",
       "  'mel1': array([[[[-13.808031  ],\n",
       "           [-14.460995  ],\n",
       "           [-12.48743   ],\n",
       "           ...,\n",
       "           [ -8.350793  ],\n",
       "           [ -9.550913  ],\n",
       "           [ -5.8472576 ]],\n",
       "  \n",
       "          [[ -5.4406095 ],\n",
       "           [-11.78526   ],\n",
       "           [-10.376642  ],\n",
       "           ...,\n",
       "           [-10.638776  ],\n",
       "           [-14.766046  ],\n",
       "           [ -2.535646  ]],\n",
       "  \n",
       "          [[ -4.1543574 ],\n",
       "           [-11.942595  ],\n",
       "           [-14.396762  ],\n",
       "           ...,\n",
       "           [-13.780443  ],\n",
       "           [-11.831632  ],\n",
       "           [-10.891909  ]],\n",
       "  \n",
       "          ...,\n",
       "  \n",
       "          [[-41.46351   ],\n",
       "           [-60.107727  ],\n",
       "           [-58.363945  ],\n",
       "           ...,\n",
       "           [-46.31871   ],\n",
       "           [-47.93747   ],\n",
       "           [-46.680492  ]],\n",
       "  \n",
       "          [[-39.148506  ],\n",
       "           [-59.548874  ],\n",
       "           [-57.106033  ],\n",
       "           ...,\n",
       "           [-45.140682  ],\n",
       "           [-53.84076   ],\n",
       "           [-54.491096  ]],\n",
       "  \n",
       "          [[-39.313114  ],\n",
       "           [-60.107727  ],\n",
       "           [-60.107727  ],\n",
       "           ...,\n",
       "           [-51.811592  ],\n",
       "           [-55.905552  ],\n",
       "           [-58.337933  ]]],\n",
       "  \n",
       "  \n",
       "         [[[  2.5235534 ],\n",
       "           [ -7.6956806 ],\n",
       "           [-10.052656  ],\n",
       "           ...,\n",
       "           [ -9.173029  ],\n",
       "           [-11.914167  ],\n",
       "           [ -8.257893  ]],\n",
       "  \n",
       "          [[ -1.0840979 ],\n",
       "           [ -3.0474057 ],\n",
       "           [ -7.9958982 ],\n",
       "           ...,\n",
       "           [  1.1329651 ],\n",
       "           [ -4.414949  ],\n",
       "           [ -3.9205291 ]],\n",
       "  \n",
       "          [[  4.1813407 ],\n",
       "           [ -2.0405993 ],\n",
       "           [ -5.037956  ],\n",
       "           ...,\n",
       "           [ -4.487704  ],\n",
       "           [ -0.9600866 ],\n",
       "           [ -8.083954  ]],\n",
       "  \n",
       "          ...,\n",
       "  \n",
       "          [[-49.26193   ],\n",
       "           [-63.03633   ],\n",
       "           [-63.03633   ],\n",
       "           ...,\n",
       "           [-61.79777   ],\n",
       "           [-62.11518   ],\n",
       "           [-53.581413  ]],\n",
       "  \n",
       "          [[-48.367943  ],\n",
       "           [-61.614613  ],\n",
       "           [-61.01754   ],\n",
       "           ...,\n",
       "           [-60.721893  ],\n",
       "           [-63.03633   ],\n",
       "           [-58.700756  ]],\n",
       "  \n",
       "          [[-50.55242   ],\n",
       "           [-63.03633   ],\n",
       "           [-63.03633   ],\n",
       "           ...,\n",
       "           [-60.77533   ],\n",
       "           [-63.03633   ],\n",
       "           [-56.924137  ]]],\n",
       "  \n",
       "  \n",
       "         [[[  4.08619   ],\n",
       "           [ -8.966303  ],\n",
       "           [-10.68384   ],\n",
       "           ...,\n",
       "           [-13.373146  ],\n",
       "           [-11.818529  ],\n",
       "           [-16.156752  ]],\n",
       "  \n",
       "          [[ -0.28344855],\n",
       "           [ -3.5194979 ],\n",
       "           [-10.456571  ],\n",
       "           ...,\n",
       "           [ -6.1366034 ],\n",
       "           [ -2.9768708 ],\n",
       "           [-18.63428   ]],\n",
       "  \n",
       "          [[ -1.5945361 ],\n",
       "           [ -1.4644456 ],\n",
       "           [-15.686883  ],\n",
       "           ...,\n",
       "           [ -5.8481    ],\n",
       "           [ -1.8919086 ],\n",
       "           [-26.192244  ]],\n",
       "  \n",
       "          ...,\n",
       "  \n",
       "          [[-48.32718   ],\n",
       "           [-53.904076  ],\n",
       "           [-55.073196  ],\n",
       "           ...,\n",
       "           [-58.25992   ],\n",
       "           [-59.272675  ],\n",
       "           [-54.20387   ]],\n",
       "  \n",
       "          [[-50.20839   ],\n",
       "           [-53.5241    ],\n",
       "           [-55.394474  ],\n",
       "           ...,\n",
       "           [-62.856136  ],\n",
       "           [-57.783985  ],\n",
       "           [-58.00611   ]],\n",
       "  \n",
       "          [[-57.466206  ],\n",
       "           [-53.05287   ],\n",
       "           [-58.10594   ],\n",
       "           ...,\n",
       "           [-63.90387   ],\n",
       "           [-58.753086  ],\n",
       "           [-60.63261   ]]],\n",
       "  \n",
       "  \n",
       "         ...,\n",
       "  \n",
       "  \n",
       "         [[[ -9.209777  ],\n",
       "           [-18.107323  ],\n",
       "           [-17.976864  ],\n",
       "           ...,\n",
       "           [-14.135782  ],\n",
       "           [-18.107323  ],\n",
       "           [-17.226093  ]],\n",
       "  \n",
       "          [[ -7.9403553 ],\n",
       "           [-16.760408  ],\n",
       "           [-14.033346  ],\n",
       "           ...,\n",
       "           [ -7.8395514 ],\n",
       "           [-16.760408  ],\n",
       "           [-14.977058  ]],\n",
       "  \n",
       "          [[ -9.9178505 ],\n",
       "           [-18.359219  ],\n",
       "           [-22.17346   ],\n",
       "           ...,\n",
       "           [ -4.9611826 ],\n",
       "           [-18.359219  ],\n",
       "           [-21.23618   ]],\n",
       "  \n",
       "          ...,\n",
       "  \n",
       "          [[-47.748055  ],\n",
       "           [-38.767784  ],\n",
       "           [-31.559723  ],\n",
       "           ...,\n",
       "           [-42.146526  ],\n",
       "           [-38.767784  ],\n",
       "           [-31.772488  ]],\n",
       "  \n",
       "          [[-44.276424  ],\n",
       "           [-41.930885  ],\n",
       "           [-34.90013   ],\n",
       "           ...,\n",
       "           [-44.929703  ],\n",
       "           [-41.930885  ],\n",
       "           [-35.356922  ]],\n",
       "  \n",
       "          [[-46.762688  ],\n",
       "           [-39.866653  ],\n",
       "           [-32.157757  ],\n",
       "           ...,\n",
       "           [-45.438255  ],\n",
       "           [-39.866653  ],\n",
       "           [-32.48228   ]]],\n",
       "  \n",
       "  \n",
       "         [[[ -3.7014258 ],\n",
       "           [-10.250287  ],\n",
       "           [-12.306942  ],\n",
       "           ...,\n",
       "           [ -3.704494  ],\n",
       "           [ -6.7946315 ],\n",
       "           [ -9.865202  ]],\n",
       "  \n",
       "          [[ -3.5709481 ],\n",
       "           [ -7.745696  ],\n",
       "           [ -8.588453  ],\n",
       "           ...,\n",
       "           [ -3.6895442 ],\n",
       "           [ -7.640631  ],\n",
       "           [-11.666166  ]],\n",
       "  \n",
       "          [[-16.417412  ],\n",
       "           [ -6.2341394 ],\n",
       "           [-11.494428  ],\n",
       "           ...,\n",
       "           [ -3.6697078 ],\n",
       "           [ -8.3862505 ],\n",
       "           [-11.735292  ]],\n",
       "  \n",
       "          ...,\n",
       "  \n",
       "          [[-18.510595  ],\n",
       "           [-53.064545  ],\n",
       "           [-46.612274  ],\n",
       "           ...,\n",
       "           [-22.889591  ],\n",
       "           [-37.744118  ],\n",
       "           [-46.49803   ]],\n",
       "  \n",
       "          [[-18.55694   ],\n",
       "           [-51.805695  ],\n",
       "           [-51.13254   ],\n",
       "           ...,\n",
       "           [-22.48648   ],\n",
       "           [-37.517487  ],\n",
       "           [-51.5053    ]],\n",
       "  \n",
       "          [[-18.688423  ],\n",
       "           [-55.55328   ],\n",
       "           [-52.108986  ],\n",
       "           ...,\n",
       "           [-22.580418  ],\n",
       "           [-37.733154  ],\n",
       "           [-51.9313    ]]],\n",
       "  \n",
       "  \n",
       "         [[[-11.181982  ],\n",
       "           [-13.173038  ],\n",
       "           [-13.550617  ],\n",
       "           ...,\n",
       "           [-16.640516  ],\n",
       "           [-25.118172  ],\n",
       "           [-17.097641  ]],\n",
       "  \n",
       "          [[-17.678867  ],\n",
       "           [-14.269699  ],\n",
       "           [ -8.819283  ],\n",
       "           ...,\n",
       "           [-12.831868  ],\n",
       "           [-15.568148  ],\n",
       "           [-12.8059845 ]],\n",
       "  \n",
       "          [[-17.438004  ],\n",
       "           [-14.163376  ],\n",
       "           [ -8.6675415 ],\n",
       "           ...,\n",
       "           [-14.317442  ],\n",
       "           [-13.014982  ],\n",
       "           [-15.358878  ]],\n",
       "  \n",
       "          ...,\n",
       "  \n",
       "          [[-47.458782  ],\n",
       "           [-47.703964  ],\n",
       "           [-48.776764  ],\n",
       "           ...,\n",
       "           [-44.283928  ],\n",
       "           [-42.685905  ],\n",
       "           [-43.68911   ]],\n",
       "  \n",
       "          [[-42.53967   ],\n",
       "           [-47.01891   ],\n",
       "           [-50.17716   ],\n",
       "           ...,\n",
       "           [-47.06401   ],\n",
       "           [-48.967075  ],\n",
       "           [-53.19607   ]],\n",
       "  \n",
       "          [[-49.197086  ],\n",
       "           [-49.40323   ],\n",
       "           [-56.757088  ],\n",
       "           ...,\n",
       "           [-50.458145  ],\n",
       "           [-52.659206  ],\n",
       "           [-48.97956   ]]]], dtype=float32)},\n",
       " array([[0, 0, 1],\n",
       "        [0, 0, 1],\n",
       "        [0, 0, 1],\n",
       "        ...,\n",
       "        [0, 0, 1],\n",
       "        [0, 0, 1],\n",
       "        [0, 0, 1]]))"
      ]
     },
     "execution_count": 12,
     "metadata": {},
     "output_type": "execute_result"
    }
   ],
   "source": [
    "features1"
   ]
  },
  {
   "cell_type": "code",
   "execution_count": 13,
   "metadata": {},
   "outputs": [
    {
     "name": "stdout",
     "output_type": "stream",
     "text": [
      "Epoch 1/2\n",
      "99/99 [==============================] - 22s 221ms/step - loss: 1.1953 - accuracy: 0.7218\n",
      "Epoch 2/2\n",
      "99/99 [==============================] - 22s 221ms/step - loss: 0.6779 - accuracy: 0.7562\n"
     ]
    },
    {
     "data": {
      "text/plain": [
       "<tensorflow.python.keras.callbacks.History at 0x7f1f9c5ed3c8>"
      ]
     },
     "execution_count": 13,
     "metadata": {},
     "output_type": "execute_result"
    }
   ],
   "source": [
    "model.fit([features1[0]['age'],features1[0]['sex'], features1[0]['hw'], features1[0]['preg'], features1[0]['loc'], \n",
    "           features1[0]['mel1']], features1[1],\n",
    "          epochs = 2)"
   ]
  },
  {
   "cell_type": "code",
   "execution_count": 14,
   "metadata": {},
   "outputs": [],
   "source": [
    "def save_challenge_model(model_folder, model, classes, m_name, mel_shape = (100, 313, 1)) :\n",
    "    os.makedirs(model_folder, exist_ok=True)\n",
    "    info_fnm = os.path.join(model_folder, 'desc.pk')\n",
    "    filename = os.path.join(model_folder, m_name + '_model.hdf5')\n",
    "    model.save(filename)\n",
    "    d = {'model': m_name, 'classes': classes, 'mel_shape': mel_shape, 'model_fnm': filename}    \n",
    "    with open(info_fnm, 'wb') as f:\n",
    "        pk.dump(d, f, pk.HIGHEST_PROTOCOL)"
   ]
  },
  {
   "cell_type": "code",
   "execution_count": 15,
   "metadata": {},
   "outputs": [
    {
     "name": "stdout",
     "output_type": "stream",
     "text": [
      "Done.\n"
     ]
    }
   ],
   "source": [
    "    save_challenge_model(model_folder, model, classes, m_name = 'toy', mel_shape = (100, 313, 1) )\n",
    "    if verbose >= 1:\n",
    "        print('Done.')\n"
   ]
  },
  {
   "cell_type": "code",
   "execution_count": 16,
   "metadata": {},
   "outputs": [],
   "source": [
    "def load_challenge_model(model_folder, verbose):\n",
    "    info_fnm = os.path.join(model_folder, 'desc.pk')\n",
    "    with open(info_fnm, 'rb') as f:\n",
    "        info_m = pk.load(f)\n",
    "#    if info_m['model'] == 'toy' :\n",
    "#        model = get_toy(info_m['mel_shape'])\n",
    "#    filename = os.path.join(model_folder, info_m['model'] + '_model.hdf5')\n",
    "#    model.load_weights(filename)\n",
    "    return info_m"
   ]
  },
  {
   "cell_type": "code",
   "execution_count": 17,
   "metadata": {},
   "outputs": [],
   "source": [
    "model1 = load_challenge_model(model_folder, verbose = 1) ### Teams: Implement this function!!!"
   ]
  },
  {
   "cell_type": "code",
   "execution_count": 18,
   "metadata": {},
   "outputs": [
    {
     "data": {
      "text/plain": [
       "{'model': 'toy',\n",
       " 'classes': ['Present', 'Unknown', 'Absent'],\n",
       " 'mel_shape': (100, 313, 1),\n",
       " 'model_fnm': '/home/ikwak2/hmd/tmpmodel/toy_model.hdf5'}"
      ]
     },
     "execution_count": 18,
     "metadata": {},
     "output_type": "execute_result"
    }
   ],
   "source": [
    "model1"
   ]
  },
  {
   "cell_type": "code",
   "execution_count": 19,
   "metadata": {},
   "outputs": [
    {
     "data": {
      "text/plain": [
       "'/home/ikwak2/hmd/notebooks/physionet.org/files/circor-heart-sound/1.0.1/training_data'"
      ]
     },
     "execution_count": 19,
     "metadata": {},
     "output_type": "execute_result"
    }
   ],
   "source": [
    "data_folder"
   ]
  },
  {
   "cell_type": "code",
   "execution_count": 20,
   "metadata": {},
   "outputs": [
    {
     "data": {
      "text/plain": [
       "{'model': 'toy',\n",
       " 'classes': ['Present', 'Unknown', 'Absent'],\n",
       " 'mel_shape': (100, 313, 1),\n",
       " 'model_fnm': '/home/ikwak2/hmd/tmpmodel/toy_model.hdf5'}"
      ]
     },
     "execution_count": 20,
     "metadata": {},
     "output_type": "execute_result"
    }
   ],
   "source": [
    "model1"
   ]
  },
  {
   "cell_type": "code",
   "execution_count": 24,
   "metadata": {},
   "outputs": [
    {
     "ename": "NameError",
     "evalue": "name 'patient_data' is not defined",
     "output_type": "error",
     "traceback": [
      "\u001b[0;31m---------------------------------------------------------------------------\u001b[0m",
      "\u001b[0;31mNameError\u001b[0m                                 Traceback (most recent call last)",
      "\u001b[0;32m<ipython-input-24-0c37b0ea1075>\u001b[0m in \u001b[0;36m<module>\u001b[0;34m\u001b[0m\n\u001b[0;32m----> 1\u001b[0;31m \u001b[0mrecordings\u001b[0m \u001b[0;34m=\u001b[0m \u001b[0mload_recordings\u001b[0m\u001b[0;34m(\u001b[0m\u001b[0mdata_folder\u001b[0m\u001b[0;34m,\u001b[0m \u001b[0mpatient_data\u001b[0m\u001b[0;34m)\u001b[0m\u001b[0;34m\u001b[0m\u001b[0;34m\u001b[0m\u001b[0m\n\u001b[0m",
      "\u001b[0;31mNameError\u001b[0m: name 'patient_data' is not defined"
     ]
    }
   ],
   "source": [
    "recordings = load_recordings(data_folder, patient_data)"
   ]
  },
  {
   "cell_type": "code",
   "execution_count": 73,
   "metadata": {},
   "outputs": [
    {
     "ename": "AttributeError",
     "evalue": "'list' object has no attribute 'shape'",
     "output_type": "error",
     "traceback": [
      "\u001b[0;31m---------------------------------------------------------------------------\u001b[0m",
      "\u001b[0;31mAttributeError\u001b[0m                            Traceback (most recent call last)",
      "\u001b[0;32m<ipython-input-73-3963d3e3e633>\u001b[0m in \u001b[0;36m<module>\u001b[0;34m\u001b[0m\n\u001b[0;32m----> 1\u001b[0;31m \u001b[0mrecordings\u001b[0m\u001b[0;34m.\u001b[0m\u001b[0mshape\u001b[0m\u001b[0;34m\u001b[0m\u001b[0;34m\u001b[0m\u001b[0m\n\u001b[0m",
      "\u001b[0;31mAttributeError\u001b[0m: 'list' object has no attribute 'shape'"
     ]
    }
   ],
   "source": [
    "recordings.shape"
   ]
  },
  {
   "cell_type": "code",
   "execution_count": 72,
   "metadata": {},
   "outputs": [
    {
     "data": {
      "text/plain": [
       "94400"
      ]
     },
     "execution_count": 72,
     "metadata": {},
     "output_type": "execute_result"
    }
   ],
   "source": [
    "len(recordings[0])"
   ]
  },
  {
   "cell_type": "code",
   "execution_count": 83,
   "metadata": {},
   "outputs": [],
   "source": [
    "string1 = 'dfsdfsda'"
   ]
  },
  {
   "cell_type": "code",
   "execution_count": 86,
   "metadata": {},
   "outputs": [
    {
     "data": {
      "text/plain": [
       "True"
      ]
     },
     "execution_count": 86,
     "metadata": {},
     "output_type": "execute_result"
    }
   ],
   "source": [
    "isinstance(string1, str)"
   ]
  },
  {
   "cell_type": "code",
   "execution_count": null,
   "metadata": {},
   "outputs": [],
   "source": []
  },
  {
   "cell_type": "code",
   "execution_count": null,
   "metadata": {},
   "outputs": [],
   "source": []
  },
  {
   "cell_type": "code",
   "execution_count": 36,
   "metadata": {},
   "outputs": [],
   "source": [
    "def run_challenge_model(model, data, recordings, verbose):\n",
    "    \n",
    "    if model['model'] == 'toy' :\n",
    "        model1 = get_toy(model['mel_shape'])\n",
    "    filename = os.path.join(model_folder, model['model'] + '_model.hdf5')\n",
    "    model1.load_weights(filename)\n",
    "    \n",
    "    classes = model['classes']\n",
    "    # Load features.\n",
    "    features = get_feature_one(data, verbose)\n",
    "\n",
    "    features['mel1'] = []\n",
    "    for i in range(len(recordings)) :\n",
    "        mel1 = feature_extract_melspec(recordings[i])[0]\n",
    "        features['mel1'].append(mel1)\n",
    "\n",
    "    M, N = features['mel1'][0].shape\n",
    "    for i in range(len(features['mel1'])) :\n",
    "        features['mel1'][i] = features['mel1'][i].reshape(M,N,1)   \n",
    "        \n",
    "    features['mel1'] = np.array(features['mel1'])\n",
    "#    print(features)\n",
    "    # Impute missing data.\n",
    "    res1 = model1.predict([features['age'], features['sex'], features['hw'], features['preg'], features['loc'], features['mel1']])\n",
    "\n",
    "    # Get classifier probabilities.\n",
    "    prob1 = res1.mean(axis = 0) ## simple rule for now\n",
    "    idx = np.argmax(prob1)\n",
    "    # Choose label with higher probability.\n",
    "    labels = np.zeros(len(classes), dtype=np.int_)\n",
    "    labels[idx] = 1\n",
    "\n",
    "    return classes, labels, prob1"
   ]
  },
  {
   "cell_type": "code",
   "execution_count": 37,
   "metadata": {},
   "outputs": [],
   "source": [
    "def get_feature_one(patient_data, verbose = 0) :\n",
    "\n",
    "    age_classes = ['Neonate', 'Infant', 'Child', 'Adolescent', 'Young Adult']\n",
    "    recording_locations = ['AV', 'MV', 'PV', 'TV', 'PhC']\n",
    "    \n",
    "    num_locations = get_num_locations(patient_data)\n",
    "    recording_information = patient_data.split('\\n')[1:num_locations+1]\n",
    "\n",
    "    features = dict()\n",
    "    features['age'] = []\n",
    "    features['sex'] = []\n",
    "    features['hw'] = []\n",
    "    features['preg'] = []\n",
    "    features['loc'] = []\n",
    "#    features['mel1'] = []\n",
    "    for j in range(num_locations) :\n",
    "        entries = recording_information[j].split(' ')\n",
    "        recording_file = entries[2]\n",
    "#        filename = os.path.join(data_folder, recording_file)\n",
    "\n",
    "        # Extract id\n",
    "    #    id1 = recording_file.split('_')[0]\n",
    "    #    features['id'].append(id1)\n",
    "\n",
    "        # Extract melspec\n",
    "#        mel1 = feature_extract_melspec(filename)[0]\n",
    "#        features['mel1'].append(mel1)\n",
    "\n",
    "        # Extract age_group\n",
    "        age_group = get_age(patient_data)\n",
    "        current_age_group = np.zeros(6, dtype=int)\n",
    "        if age_group in age_classes:\n",
    "            j = age_classes.index(age_group)\n",
    "            current_age_group[j] = 1\n",
    "        else :\n",
    "            current_age_group[5] = 1\n",
    "        features['age'].append(current_age_group)\n",
    "\n",
    "        # Extract sex\n",
    "        sex = get_sex(patient_data)\n",
    "        sex_features = np.zeros(2, dtype=int)\n",
    "        if compare_strings(sex, 'Female'):\n",
    "            sex_features[0] = 1\n",
    "        elif compare_strings(sex, 'Male'):\n",
    "            sex_features[1] = 1\n",
    "        features['sex'].append(sex_features)\n",
    "\n",
    "        # Extract height and weight.\n",
    "        height = get_height(patient_data)\n",
    "        weight = get_weight(patient_data)\n",
    "        features['hw'].append(np.array([height, weight]))\n",
    "\n",
    "        # Extract pregnancy\n",
    "        is_pregnant = get_pregnancy_status(patient_data)\n",
    "        features['preg'].append(is_pregnant)\n",
    "\n",
    "        # Extract location\n",
    "        locations = entries[0]\n",
    "        num_recording_locations = len(recording_locations)\n",
    "        loc_features = np.zeros(num_recording_locations)\n",
    "        if locations in recording_locations:\n",
    "            j = recording_locations.index(locations)\n",
    "            loc_features[j] = 1\n",
    "        features['loc'].append(loc_features)\n",
    "        \n",
    "\n",
    "    for k1 in features.keys() :\n",
    "        features[k1] = np.array(features[k1])\n",
    "        \n",
    "    if verbose :\n",
    "        label = get_label(patient_data)\n",
    "        print(label)\n",
    "    return features"
   ]
  },
  {
   "cell_type": "code",
   "execution_count": 38,
   "metadata": {},
   "outputs": [
    {
     "name": "stdout",
     "output_type": "stream",
     "text": [
      "Absent\n"
     ]
    },
    {
     "data": {
      "text/plain": [
       "(['Present', 'Unknown', 'Absent'],\n",
       " array([1, 0, 0]),\n",
       " array([9.999956e-01, 4.065800e-10, 4.428094e-06], dtype=float32))"
      ]
     },
     "execution_count": 38,
     "metadata": {},
     "output_type": "execute_result"
    }
   ],
   "source": [
    "patient_data = load_patient_data(patient_files[0])\n",
    "recordings = load_recordings(data_folder, patient_data)\n",
    "run_challenge_model(model1, data = patient_data, recordings = recordings, verbose = 1)"
   ]
  },
  {
   "cell_type": "code",
   "execution_count": 39,
   "metadata": {},
   "outputs": [
    {
     "name": "stdout",
     "output_type": "stream",
     "text": [
      "Present\n"
     ]
    },
    {
     "data": {
      "text/plain": [
       "(['Present', 'Unknown', 'Absent'],\n",
       " array([1, 0, 0]),\n",
       " array([9.9999857e-01, 6.0714815e-11, 1.4679399e-06], dtype=float32))"
      ]
     },
     "execution_count": 39,
     "metadata": {},
     "output_type": "execute_result"
    }
   ],
   "source": [
    "patient_data = load_patient_data(patient_files[1])\n",
    "recordings = load_recordings(data_folder, patient_data)\n",
    "run_challenge_model(model1, data = patient_data, recordings = recordings, verbose = 1)"
   ]
  },
  {
   "cell_type": "code",
   "execution_count": null,
   "metadata": {},
   "outputs": [],
   "source": []
  },
  {
   "cell_type": "code",
   "execution_count": null,
   "metadata": {},
   "outputs": [],
   "source": []
  }
 ],
 "metadata": {
  "kernelspec": {
   "display_name": "Python 3",
   "language": "python",
   "name": "python3"
  },
  "language_info": {
   "codemirror_mode": {
    "name": "ipython",
    "version": 3
   },
   "file_extension": ".py",
   "mimetype": "text/x-python",
   "name": "python",
   "nbconvert_exporter": "python",
   "pygments_lexer": "ipython3",
   "version": "3.6.8"
  }
 },
 "nbformat": 4,
 "nbformat_minor": 2
}
