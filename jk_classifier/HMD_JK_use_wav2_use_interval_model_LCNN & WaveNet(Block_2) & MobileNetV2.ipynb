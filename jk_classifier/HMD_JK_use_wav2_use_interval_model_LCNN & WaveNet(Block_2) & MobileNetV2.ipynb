{
 "cells": [
  {
   "cell_type": "code",
   "execution_count": 2,
   "id": "3d55dbd4",
   "metadata": {},
   "outputs": [],
   "source": [
    "import tensorflow as tf"
   ]
  },
  {
   "cell_type": "code",
   "execution_count": 3,
   "id": "ad188626",
   "metadata": {
    "scrolled": true
   },
   "outputs": [
    {
     "name": "stderr",
     "output_type": "stream",
     "text": [
      "2022-08-07 10:44:53.542616: I tensorflow/stream_executor/cuda/cuda_gpu_executor.cc:936] successful NUMA node read from SysFS had negative value (-1), but there must be at least one NUMA node, so returning NUMA node zero\n",
      "2022-08-07 10:44:53.553029: I tensorflow/stream_executor/cuda/cuda_gpu_executor.cc:936] successful NUMA node read from SysFS had negative value (-1), but there must be at least one NUMA node, so returning NUMA node zero\n",
      "2022-08-07 10:44:53.553893: I tensorflow/stream_executor/cuda/cuda_gpu_executor.cc:936] successful NUMA node read from SysFS had negative value (-1), but there must be at least one NUMA node, so returning NUMA node zero\n",
      "2022-08-07 10:44:53.555661: I tensorflow/core/platform/cpu_feature_guard.cc:151] This TensorFlow binary is optimized with oneAPI Deep Neural Network Library (oneDNN) to use the following CPU instructions in performance-critical operations:  AVX2 FMA\n",
      "To enable them in other operations, rebuild TensorFlow with the appropriate compiler flags.\n",
      "2022-08-07 10:44:53.557417: I tensorflow/stream_executor/cuda/cuda_gpu_executor.cc:936] successful NUMA node read from SysFS had negative value (-1), but there must be at least one NUMA node, so returning NUMA node zero\n",
      "2022-08-07 10:44:53.558291: I tensorflow/stream_executor/cuda/cuda_gpu_executor.cc:936] successful NUMA node read from SysFS had negative value (-1), but there must be at least one NUMA node, so returning NUMA node zero\n",
      "2022-08-07 10:44:53.559145: I tensorflow/stream_executor/cuda/cuda_gpu_executor.cc:936] successful NUMA node read from SysFS had negative value (-1), but there must be at least one NUMA node, so returning NUMA node zero\n",
      "2022-08-07 10:44:53.965149: I tensorflow/stream_executor/cuda/cuda_gpu_executor.cc:936] successful NUMA node read from SysFS had negative value (-1), but there must be at least one NUMA node, so returning NUMA node zero\n",
      "2022-08-07 10:44:53.965475: I tensorflow/stream_executor/cuda/cuda_gpu_executor.cc:936] successful NUMA node read from SysFS had negative value (-1), but there must be at least one NUMA node, so returning NUMA node zero\n",
      "2022-08-07 10:44:53.965748: I tensorflow/stream_executor/cuda/cuda_gpu_executor.cc:936] successful NUMA node read from SysFS had negative value (-1), but there must be at least one NUMA node, so returning NUMA node zero\n",
      "2022-08-07 10:44:53.966002: I tensorflow/core/common_runtime/gpu/gpu_device.cc:1525] Created device /job:localhost/replica:0/task:0/device:GPU:0 with 9294 MB memory:  -> device: 0, name: GeForce RTX 2080 Ti, pci bus id: 0000:01:00.0, compute capability: 7.5\n",
      "2022-08-07 10:44:54.493841: I tensorflow/stream_executor/cuda/cuda_dnn.cc:368] Loaded cuDNN version 8101\n"
     ]
    }
   ],
   "source": [
    "import os\n",
    "import pandas as pd\n",
    "import numpy as np\n",
    "import scipy as sp\n",
    "import scipy.stats\n",
    "import librosa\n",
    "import librosa.display\n",
    "import math\n",
    "import sys\n",
    "#sys.path.insert(0,'/home/ikwak2/hmd/notebooks')\n",
    "sys.path.insert(0,'lucashnegri-peakutils-51a679cd8428')\n",
    "# sys.path.insert(0,'S1-S1-Phonocardiogram-Peak-Detection-Method-in-Python')\n",
    "sys.path.insert(0,'utils')\n",
    "from helper_code import *\n",
    "from get_feature import *\n",
    "from models import *\n",
    "from Generator0 import *\n",
    "from keras.preprocessing import sequence\n",
    "# import peakutils\n",
    "from scipy import special\n",
    "import scipy.io as sio\n",
    "from keras.preprocessing.sequence import pad_sequences\n",
    "import peakutils\n",
    "from tensorflow import keras\n",
    "from tensorflow.keras import layers\n",
    "from tensorflow.keras.callbacks import LearningRateScheduler,ModelCheckpoint\n",
    "from keras.models import Model\n",
    "from keras.layers import Input \n",
    "from skimage.transform import resize\n",
    "import matplotlib.pyplot as plt"
   ]
  },
  {
   "cell_type": "code",
   "execution_count": 4,
   "id": "f8c573ff",
   "metadata": {},
   "outputs": [
    {
     "data": {
      "text/plain": [
       "'/home/jk21/Documents/hmd/jk_classifier'"
      ]
     },
     "execution_count": 4,
     "metadata": {},
     "output_type": "execute_result"
    }
   ],
   "source": [
    "pwd"
   ]
  },
  {
   "cell_type": "code",
   "execution_count": 5,
   "id": "42f5dd9c",
   "metadata": {},
   "outputs": [],
   "source": [
    "# data_folder =  'physionet.org/files/circor-heart-sound/1.0.3/training_data'\n",
    "train_folder =  '/home/jk21/Downloads/Data/data/murmur/train'\n",
    "test_folder = '/home/jk21/Downloads/Data/data/murmur/test'\n"
   ]
  },
  {
   "cell_type": "code",
   "execution_count": 6,
   "id": "ca657f78",
   "metadata": {},
   "outputs": [],
   "source": [
    "model_folder = 'lcnn2'"
   ]
  },
  {
   "cell_type": "code",
   "execution_count": 7,
   "id": "e49f868b",
   "metadata": {},
   "outputs": [
    {
     "data": {
      "text/plain": [
       "'lcnn2'"
      ]
     },
     "execution_count": 7,
     "metadata": {},
     "output_type": "execute_result"
    }
   ],
   "source": [
    "model_folder"
   ]
  },
  {
   "cell_type": "code",
   "execution_count": 8,
   "id": "e76c75d5",
   "metadata": {},
   "outputs": [],
   "source": [
    "def sigmoidal_decay(e, start=0, end=100, lr_start=1e-3, lr_end=1e-5):\n",
    "    if e < start:\n",
    "        return lr_start\n",
    "    elif e > end:\n",
    "        return lr_end\n",
    "\n",
    "    middle = (start + end) / 2\n",
    "    s = lambda x: 1 / (1 + np.exp(-x))\n",
    "\n",
    "    return s(13 * (-e + middle) / np.abs(end - start)) * np.abs(lr_start - lr_end) + lr_end"
   ]
  },
  {
   "cell_type": "code",
   "execution_count": 9,
   "id": "ac7432d8",
   "metadata": {},
   "outputs": [],
   "source": [
    "patient_files_trn = find_patient_files(train_folder)\n",
    "patient_files_test = find_patient_files(test_folder)"
   ]
  },
  {
   "cell_type": "code",
   "execution_count": 10,
   "id": "8b20e8c2",
   "metadata": {},
   "outputs": [],
   "source": [
    "winlen = 512\n",
    "hoplen = 256\n",
    "nmel = 120 \n",
    "nsec = 20 \n",
    "trim = 1 \n",
    "use_mel=True\n",
    "use_cqt = False \n",
    "use_stft = False\n",
    "use_raw=False\n",
    "use_interval=True\n",
    "use_wav2=True\n",
    "maxlen1 = 120000\n",
    "min_dist = 500\n",
    "max_interval_len=115\n"
   ]
  },
  {
   "cell_type": "code",
   "execution_count": null,
   "id": "2db6e657",
   "metadata": {},
   "outputs": [],
   "source": []
  },
  {
   "cell_type": "code",
   "execution_count": null,
   "id": "56da5d7c",
   "metadata": {},
   "outputs": [],
   "source": [
    "                        "
   ]
  },
  {
   "cell_type": "code",
   "execution_count": null,
   "id": "86e858e6",
   "metadata": {},
   "outputs": [],
   "source": []
  },
  {
   "cell_type": "code",
   "execution_count": 11,
   "id": "ca1fabdb",
   "metadata": {},
   "outputs": [],
   "source": [
    "params_feature = {'samp_sec': nsec,\n",
    "                  #### melspec, stft 피쳐 옵션들  \n",
    "                  'pre_emphasis': 0,\n",
    "                  'hop_length': hoplen,\n",
    "                  'win_length': winlen,\n",
    "                  'n_mels': nmel,\n",
    "                  #### cqt 피쳐 옵션들  \n",
    "                  'filter_scale': 1,\n",
    "                  'n_bins': 80,\n",
    "                  'fmin': 10,\n",
    "                  'maxlen1': maxlen1,\n",
    "                  'min_dist':min_dist,\n",
    "                  'max_interval_len' : max_interval_len,\n",
    "                  'trim' :1,\n",
    "                  'use_mel' : use_mel,\n",
    "                  'use_cqt' : use_cqt,\n",
    "                  'use_stft' : use_stft,\n",
    "                  'use_interval' : use_interval,\n",
    "                  'use_wav2' : use_wav2\n",
    "}"
   ]
  },
  {
   "cell_type": "code",
   "execution_count": 12,
   "id": "679d69ed",
   "metadata": {},
   "outputs": [],
   "source": [
    "mm_weight = 3 #np.random.choice([2,3,4,5])\n",
    "oo_weight = 3 #np.random.choice([2,3,4,5,6])\n",
    "ord1 = True #np.random.choice([True,False])\n",
    "mm_mean = False #np.random.choice([True,False])\n",
    "dp = 0 #np.random.choice([0, .1, .2, .3])\n",
    "fc = False #np.random.choice([True,False])\n",
    "ext = True\n",
    "chaug = 10 #np.random.choice([0, 10])\n",
    "mixup = True #np.random.choice([True,False])\n",
    "cout = .8 #np.random.choice([0, 0.8])\n",
    "wunknown = 1 #np.random.choice([1, 0.7, .5, .2])\n",
    "n1 = 0 #np.random.choice([0,2])\n",
    "if n1 == 0 :\n",
    "    ranfil = False\n",
    "else :\n",
    "    ranfil = [n1, [18,19,20,21,22,23]]"
   ]
  },
  {
   "cell_type": "code",
   "execution_count": 13,
   "id": "e1184bc8",
   "metadata": {},
   "outputs": [],
   "source": [
    "params_feature['ord1'] = ord1\n",
    "params_feature['mm_mean'] = mm_mean\n",
    "params_feature['dp'] = dp\n",
    "params_feature['fc'] = fc\n",
    "params_feature['ext'] = ext\n",
    "params_feature['oo_weight'] = oo_weight\n",
    "params_feature['mm_weight'] = mm_weight\n",
    "params_feature['chaug'] = chaug\n",
    "params_feature['cout'] = cout\n",
    "params_feature['wunknown'] = wunknown\n",
    "params_feature['mixup'] = mixup\n",
    "params_feature['n1'] = n1"
   ]
  },
  {
   "cell_type": "code",
   "execution_count": null,
   "id": "eb694b3d",
   "metadata": {},
   "outputs": [],
   "source": []
  },
  {
   "cell_type": "code",
   "execution_count": null,
   "id": "a3d69fda",
   "metadata": {},
   "outputs": [],
   "source": []
  },
  {
   "cell_type": "code",
   "execution_count": null,
   "id": "5e42cd25",
   "metadata": {},
   "outputs": [],
   "source": []
  },
  {
   "cell_type": "code",
   "execution_count": null,
   "id": "4ec5a0f0",
   "metadata": {},
   "outputs": [],
   "source": []
  },
  {
   "cell_type": "code",
   "execution_count": 22,
   "id": "0f13c9f2",
   "metadata": {},
   "outputs": [
    {
     "name": "stderr",
     "output_type": "stream",
     "text": [
      "100%|███████████████████████████████████████| 751/751 [1:03:18<00:00,  5.06s/it]\n"
     ]
    },
    {
     "name": "stdout",
     "output_type": "stream",
     "text": [
      "melspec:  120 313\n",
      "cqt:  1 1\n",
      "stft:  1 1\n",
      "interval:  115 1\n",
      "wav2:  32 374\n"
     ]
    }
   ],
   "source": [
    "features_trn, mel_input_shape, cqt_input_shape,stft_input_shape,interval_input_shape,wav2_input_shape = get_features_3lb_all_ord(train_folder, patient_files_trn, **params_feature)\n"
   ]
  },
  {
   "cell_type": "code",
   "execution_count": 23,
   "id": "53382dbd",
   "metadata": {},
   "outputs": [
    {
     "name": "stderr",
     "output_type": "stream",
     "text": [
      "100%|█████████████████████████████████████████| 191/191 [21:04<00:00,  6.62s/it]\n"
     ]
    },
    {
     "name": "stdout",
     "output_type": "stream",
     "text": [
      "melspec:  120 313\n",
      "cqt:  1 1\n",
      "stft:  1 1\n",
      "interval:  115 1\n",
      "wav2:  32 374\n"
     ]
    }
   ],
   "source": [
    "features_test, mel_input_shape, cqt_input_shape,stft_input_shape,interval_input_shape,wav2_input_shape= get_features_3lb_all_ord(test_folder, patient_files_test, **params_feature)"
   ]
  },
  {
   "cell_type": "code",
   "execution_count": null,
   "id": "dd6457f0",
   "metadata": {},
   "outputs": [],
   "source": []
  },
  {
   "cell_type": "code",
   "execution_count": 24,
   "id": "8b2ff2db",
   "metadata": {
    "scrolled": true
   },
   "outputs": [],
   "source": [
    "with open('/home/jk21/Downloads/Data/features_trn_wav2.pickle', 'wb') as f:\n",
    "    pickle.dump(features_trn, f, pickle.HIGHEST_PROTOCOL)"
   ]
  },
  {
   "cell_type": "code",
   "execution_count": 25,
   "id": "b9f7179a",
   "metadata": {
    "scrolled": true
   },
   "outputs": [],
   "source": [
    "with open('/home/jk21/Downloads/Data/features_test_wav2.pickle', 'wb') as f:\n",
    "    pickle.dump(features_test, f, pickle.HIGHEST_PROTOCOL)"
   ]
  },
  {
   "cell_type": "code",
   "execution_count": null,
   "id": "1499b589",
   "metadata": {},
   "outputs": [],
   "source": []
  },
  {
   "cell_type": "code",
   "execution_count": 14,
   "id": "79f59c5e",
   "metadata": {
    "scrolled": true
   },
   "outputs": [],
   "source": [
    "with open('/home/jk21/Downloads/Data/features_trn_wav2.pickle', 'rb') as f:\n",
    "    features_trn = pickle.load(f)"
   ]
  },
  {
   "cell_type": "code",
   "execution_count": 15,
   "id": "dd412feb",
   "metadata": {},
   "outputs": [],
   "source": [
    "with open('/home/jk21/Downloads/Data/features_test_wav2.pickle', 'rb') as f:\n",
    "    features_test = pickle.load(f)"
   ]
  },
  {
   "cell_type": "code",
   "execution_count": null,
   "id": "b9a1f5e4",
   "metadata": {},
   "outputs": [],
   "source": []
  },
  {
   "cell_type": "code",
   "execution_count": 16,
   "id": "c1b5b559",
   "metadata": {},
   "outputs": [],
   "source": [
    "tmp_wav2 = np.zeros((2532,128,128,1))\n",
    "for i in range(len(features_trn['wav2'])):\n",
    "    test_ary=features_trn['wav2'][i]\n",
    "    res = resize(test_ary, (128,128,1))\n",
    "    tmp_wav2[i]=res\n",
    "features_trn['wav2'] = tmp_wav2"
   ]
  },
  {
   "cell_type": "code",
   "execution_count": 17,
   "id": "228136eb",
   "metadata": {},
   "outputs": [],
   "source": [
    "features_trn['wav2'] = tmp_wav2"
   ]
  },
  {
   "cell_type": "code",
   "execution_count": 21,
   "id": "ae3a2210",
   "metadata": {},
   "outputs": [
    {
     "data": {
      "text/plain": [
       "<matplotlib.image.AxesImage at 0x7fd6c00b7cd0>"
      ]
     },
     "execution_count": 21,
     "metadata": {},
     "output_type": "execute_result"
    },
    {
     "data": {
      "image/png": "[encoded data removed]",
      "text/plain": [
       "<Figure size 432x288 with 1 Axes>"
      ]
     },
     "metadata": {
      "needs_background": "light"
     },
     "output_type": "display_data"
    }
   ],
   "source": [
    "plt.imshow(features_trn['wav2'][100])"
   ]
  },
  {
   "cell_type": "code",
   "execution_count": 22,
   "id": "68a87f96",
   "metadata": {},
   "outputs": [],
   "source": [
    "tmp_wav2 = np.zeros((631,128,128,1))\n",
    "for i in range(len(features_test['wav2'])):\n",
    "    test_ary=features_test['wav2'][i]\n",
    "    res = resize(test_ary, (128,128,1))\n",
    "    tmp_wav2[i]=res"
   ]
  },
  {
   "cell_type": "code",
   "execution_count": 23,
   "id": "dd9df66c",
   "metadata": {},
   "outputs": [],
   "source": [
    "features_test['wav2'] = tmp_wav2"
   ]
  },
  {
   "cell_type": "code",
   "execution_count": null,
   "id": "3e252230",
   "metadata": {},
   "outputs": [],
   "source": []
  },
  {
   "cell_type": "code",
   "execution_count": null,
   "id": "38e44749",
   "metadata": {},
   "outputs": [],
   "source": []
  },
  {
   "cell_type": "code",
   "execution_count": 24,
   "id": "6fc8ce3e",
   "metadata": {},
   "outputs": [],
   "source": [
    "def get_LCNN_o_4_dr_1(mel_input_shape, cqt_input_shape, stft_input_shape,interval_input_shape,wav2_input_shape,use_mel = True, use_cqt = True, use_stft = True, ord1 = True, dp = .5, fc = False, ext = False):\n",
    "        # Create a towy model.\n",
    "    \n",
    "    from keras.models import Model\n",
    "    from keras.layers import Input \n",
    "    \n",
    "    MobileNet2 = tf.keras.applications.MobileNetV2(\n",
    "    input_shape=(128,128,3),\n",
    "    alpha=1.0,\n",
    "    include_top=False,\n",
    "    weights=\"imagenet\",\n",
    "    input_tensor=None,\n",
    "    pooling='avg',\n",
    "    classes=3,\n",
    "    classifier_activation=\"softmax\")\n",
    "    \n",
    "    age = keras.Input(shape=(6,), name = 'age_cat')\n",
    "    sex = keras.Input(shape=(2,), name = 'sex_cat')\n",
    "    hw = keras.Input(shape=(2,), name = 'height_weight')\n",
    "    preg = keras.Input(shape=(1,), name = 'is_preg')\n",
    "    loc = keras.Input(shape=(5,), name = 'loc')\n",
    "    interval = keras.Input(shape=interval_input_shape, name = 'interval')\n",
    "    wav2 = keras.Input(shape=wav2_input_shape, name = 'wav2')\n",
    "    mel1 = keras.Input(shape=mel_input_shape, name = 'mel')\n",
    "    cqt1 = keras.Input(shape=cqt_input_shape, name = 'cqt')\n",
    "    stft1 = keras.Input(shape=stft_input_shape, name = 'stft')\n",
    "        \n",
    "    ## age embeddig\n",
    "    age1 = layers.Dense(2, activation = None)(age)\n",
    "\n",
    "    ## sex embedding\n",
    "    sex1 = layers.Dense(1, activation = None)(sex)\n",
    "\n",
    "    ## hw embedding\n",
    "    hw1 = layers.Dense(1, activation = None)(hw)\n",
    "\n",
    "    ## loc embedding\n",
    "    loc1 = layers.Dense(3, activation = None)(loc)\n",
    "    \n",
    "    ## interval embedding\n",
    "\n",
    "    interval1 = tf.keras.layers.Conv1D(9, 2, padding=\"causal\",activation='relu',dilation_rate=1)(interval)\n",
    "    interval1 = tf.keras.layers.Conv1D(9, 2, padding=\"causal\",activation='relu',dilation_rate=2)(interval1)\n",
    "    interval1 = tf.keras.layers.Conv1D(9, 2, padding=\"causal\",activation='relu',dilation_rate=4)(interval1)\n",
    "    interval1 = tf.keras.layers.Conv1D(9, 2, padding=\"causal\",activation='relu',dilation_rate=8)(interval1)\n",
    "    interval1 = tf.keras.layers.Conv1D(9, 2, padding=\"causal\",activation='relu',dilation_rate=16)(interval1)\n",
    "    interval1 = tf.keras.layers.Conv1D(9, 2, padding=\"causal\",activation='relu',dilation_rate=32)(interval1)\n",
    "    interval1 = tf.keras.layers.Conv1D(9, 2, padding=\"causal\",activation='relu',dilation_rate=64)(interval1)\n",
    "    interval1 = tf.keras.layers.Conv1D(9, 2, padding=\"causal\",activation='relu',dilation_rate=128)(interval1)\n",
    "    interval1 = tf.keras.layers.Conv1D(9, 2, padding=\"causal\",activation='relu',dilation_rate=256)(interval1)\n",
    "    interval1 = tf.keras.layers.Conv1D(9, 2, padding=\"causal\",activation='relu',dilation_rate=512)(interval1)\n",
    "    interval1 = tf.keras.layers.Conv1D(9, 2, padding=\"causal\",activation='relu',dilation_rate=1024)(interval1)\n",
    "\n",
    "#     interval1 = tf.keras.layers.Conv1D(9, 2, padding=\"causal\",activation='relu',dilation_rate=1)(interval1)\n",
    "#     interval1 = tf.keras.layers.Conv1D(9, 2, padding=\"causal\",activation='relu',dilation_rate=2)(interval1)\n",
    "#     interval1 = tf.keras.layers.Conv1D(9, 2, padding=\"causal\",activation='relu',dilation_rate=4)(interval1)\n",
    "#     interval1 = tf.keras.layers.Conv1D(9, 2, padding=\"causal\",activation='relu',dilation_rate=8)(interval1)\n",
    "#     interval1 = tf.keras.layers.Conv1D(9, 2, padding=\"causal\",activation='relu',dilation_rate=16)(interval1)\n",
    "#     interval1 = tf.keras.layers.Conv1D(9, 2, padding=\"causal\",activation='relu',dilation_rate=32)(interval1)\n",
    "#     interval1 = tf.keras.layers.Conv1D(9, 2, padding=\"causal\",activation='relu',dilation_rate=64)(interval1)\n",
    "#     interval1 = tf.keras.layers.Conv1D(9, 2, padding=\"causal\",activation='relu',dilation_rate=128)(interval1)\n",
    "#     interval1 = tf.keras.layers.Conv1D(9, 2, padding=\"causal\",activation='relu',dilation_rate=256)(interval1)\n",
    "#     interval1 = tf.keras.layers.Conv1D(9, 2, padding=\"causal\",activation='relu',dilation_rate=512)(interval1)\n",
    "#     interval1 = tf.keras.layers.Conv1D(9, 2, padding=\"causal\",activation='relu',dilation_rate=1024)(interval1)    \n",
    "\n",
    "    interval1 = tf.keras.layers.Conv1D(9, 2, padding=\"causal\",activation='relu',dilation_rate=1)(interval1)\n",
    "    interval1 = tf.keras.layers.Conv1D(9, 2, padding=\"causal\",activation='relu',dilation_rate=2)(interval1)\n",
    "    interval1 = tf.keras.layers.Conv1D(9, 2, padding=\"causal\",activation='relu',dilation_rate=4)(interval1)\n",
    "    interval1 = tf.keras.layers.Conv1D(9, 2, padding=\"causal\",activation='relu',dilation_rate=8)(interval1)\n",
    "    interval1 = tf.keras.layers.Conv1D(9, 2, padding=\"causal\",activation='relu',dilation_rate=16)(interval1)\n",
    "    interval1 = tf.keras.layers.Conv1D(9, 2, padding=\"causal\",activation='relu',dilation_rate=32)(interval1)\n",
    "    interval1 = tf.keras.layers.Conv1D(9, 2, padding=\"causal\",activation='relu',dilation_rate=64)(interval1)\n",
    "    interval1 = tf.keras.layers.Conv1D(9, 2, padding=\"causal\",activation='relu',dilation_rate=128)(interval1)\n",
    "    interval1 = tf.keras.layers.Conv1D(9, 2, padding=\"causal\",activation='relu',dilation_rate=256)(interval1)\n",
    "    interval1 = tf.keras.layers.Conv1D(9, 2, padding=\"causal\",activation='relu',dilation_rate=512)(interval1)\n",
    "    interval1 = tf.keras.layers.Conv1D(9, 2, padding=\"causal\",activation='relu',dilation_rate=1024)(interval1)\n",
    "    \n",
    "    interval1 = tf.keras.layers.GlobalMaxPooling1D()(interval1)\n",
    "    \n",
    "    #### Wav2Vec2 Embedding\n",
    "    \n",
    "    wav2_1 = Conv2D(3,(3,3),padding='same')(wav2)\n",
    "    wav2_2 = MobileNet2(wav2_1)\n",
    "\n",
    "    \n",
    "    \n",
    "    \n",
    "    ## mel embedding\n",
    "    if use_mel :\n",
    "        \n",
    "        conv1_1 = Conv2D(filters = 32, kernel_size =5, strides=(1, 1), padding='same', activation=None)(mel1)\n",
    "        conv1_2 = Conv2D(filters = 32, kernel_size =5, strides=(1, 1), padding='same', activation=None)(mel1)\n",
    "        mfm2 = tensorflow.keras.layers.maximum([conv1_1, conv1_2])\n",
    "        max3 = MaxPool2D(pool_size=(2, 2), strides=(2, 2), padding='same')(mfm2)\n",
    "\n",
    "        conv4_1 = Conv2D(filters = 32, kernel_size =1, strides=(1, 1), padding='same', activation=None)(max3)\n",
    "        conv4_2 = Conv2D(filters = 32, kernel_size =1, strides=(1, 1), padding='same', activation=None)(max3)\n",
    "        mfm5 = tensorflow.keras.layers.maximum([conv4_1, conv4_2])\n",
    "        batch6 = BatchNormalization(axis=3, scale=False)(mfm5)\n",
    "\n",
    "        conv7_1 = Conv2D(filters = 48, kernel_size =3, strides=(1, 1), padding='same', activation=None)(batch6)\n",
    "        conv7_2 = Conv2D(filters = 48, kernel_size =3, strides=(1, 1), padding='same', activation=None)(batch6)\n",
    "        mfm8 = tensorflow.keras.layers.maximum([conv7_1, conv7_2])\n",
    "\n",
    "        max9 = MaxPool2D(pool_size=(2, 2), strides=(2, 2), padding='same')(mfm8)\n",
    "        batch10 = BatchNormalization(axis=3, scale=False)(max9)\n",
    "\n",
    "        conv11_1 = Conv2D(filters = 48, kernel_size =1, strides=(1, 1), padding='same', activation=None)(batch10)\n",
    "        conv11_2 = Conv2D(filters = 48, kernel_size =1, strides=(1, 1), padding='same', activation=None)(batch10)\n",
    "        mfm12 = tensorflow.keras.layers.maximum([conv11_1, conv11_2])\n",
    "        batch13 = BatchNormalization(axis=3, scale=False)(mfm12)\n",
    "\n",
    "        conv14_1 = Conv2D(filters = 64, kernel_size =3, strides=(1, 1), padding='same', activation=None)(batch13)\n",
    "        conv14_2 = Conv2D(filters = 64, kernel_size =3, strides=(1, 1), padding='same', activation=None)(batch13)\n",
    "        mfm15 = tensorflow.keras.layers.maximum([conv14_1, conv14_2])\n",
    "\n",
    "        max16 = MaxPool2D(pool_size=(2, 2), strides=(2, 2), padding='same')(mfm15)\n",
    "\n",
    "        conv17_1 = Conv2D(filters = 64, kernel_size =1, strides=(1, 1), padding='same', activation=None)(max16)\n",
    "        conv17_2 = Conv2D(filters = 64, kernel_size =1, strides=(1, 1), padding='same', activation=None)(max16)\n",
    "        mfm18 = tensorflow.keras.layers.maximum([conv17_1, conv17_2])\n",
    "        batch19 = BatchNormalization(axis=3, scale=False)(mfm18)\n",
    "\n",
    "        conv20_1 = Conv2D(filters = 32, kernel_size =3, strides=(1, 1), padding='same', activation=None)(batch19)\n",
    "        conv20_2 = Conv2D(filters = 32, kernel_size =3, strides=(1, 1), padding='same', activation=None)(batch19)\n",
    "        mfm21 = tensorflow.keras.layers.maximum([conv20_1, conv20_2])\n",
    "        batch22 = BatchNormalization(axis=3, scale=False)(mfm21)\n",
    "\n",
    "        conv23_1 = Conv2D(filters = 32, kernel_size =1, strides=(1, 1), padding='same', activation=None)(batch22)\n",
    "        conv23_2 = Conv2D(filters = 32, kernel_size =1, strides=(1, 1), padding='same', activation=None)(batch22)\n",
    "        mfm24 = tensorflow.keras.layers.maximum([conv23_1, conv23_2])\n",
    "        batch25 = BatchNormalization(axis=3, scale=False)(mfm24)\n",
    "\n",
    "        conv26_1 = Conv2D(filters = 32, kernel_size =1, strides=(1, 1), padding='same', activation=None)(batch25)\n",
    "        conv26_2 = Conv2D(filters = 32, kernel_size =1, strides=(1, 1), padding='same', activation=None)(batch25)\n",
    "        mfm27 = tensorflow.keras.layers.maximum([conv26_1, conv26_2])\n",
    "\n",
    "        max28 = MaxPool2D(pool_size=(2, 2), strides=(2, 2), padding='valid')(mfm27)\n",
    "        mel2 = layers.GlobalAveragePooling2D()(max28)\n",
    "        mel2 = Dropout(dp)(mel2)\n",
    "\n",
    "    if use_cqt:\n",
    "        ## cqt embedding\n",
    "        conv1_1 = Conv2D(filters = 32, kernel_size =5, strides=(1, 1), padding='same', activation=None)(cqt1)\n",
    "        conv1_2 = Conv2D(filters = 32, kernel_size =5, strides=(1, 1), padding='same', activation=None)(cqt1)\n",
    "        mfm2 = tensorflow.keras.layers.maximum([conv1_1, conv1_2])\n",
    "        max3 = MaxPool2D(pool_size=(2, 2), strides=(2, 2), padding='same')(mfm2)\n",
    "        \n",
    "        conv4_1 = Conv2D(filters = 32, kernel_size =1, strides=(1, 1), padding='same', activation=None)(max3)\n",
    "        conv4_2 = Conv2D(filters = 32, kernel_size =1, strides=(1, 1), padding='same', activation=None)(max3)\n",
    "        mfm5 = tensorflow.keras.layers.maximum([conv4_1, conv4_2])\n",
    "        batch6 = BatchNormalization(axis=3, scale=False)(mfm5)\n",
    "\n",
    "        conv7_1 = Conv2D(filters = 48, kernel_size =3, strides=(1, 1), padding='same', activation=None)(batch6)\n",
    "        conv7_2 = Conv2D(filters = 48, kernel_size =3, strides=(1, 1), padding='same', activation=None)(batch6)\n",
    "        mfm8 = tensorflow.keras.layers.maximum([conv7_1, conv7_2])\n",
    "\n",
    "        max9 = MaxPool2D(pool_size=(2, 2), strides=(2, 2), padding='same')(mfm8)\n",
    "        batch10 = BatchNormalization(axis=3, scale=False)(max9)\n",
    "\n",
    "        conv11_1 = Conv2D(filters = 48, kernel_size =1, strides=(1, 1), padding='same', activation=None)(batch10)\n",
    "        conv11_2 = Conv2D(filters = 48, kernel_size =1, strides=(1, 1), padding='same', activation=None)(batch10)\n",
    "        mfm12 = tensorflow.keras.layers.maximum([conv11_1, conv11_2])\n",
    "        batch13 = BatchNormalization(axis=3, scale=False)(mfm12)\n",
    "\n",
    "        conv14_1 = Conv2D(filters = 64, kernel_size =3, strides=(1, 1), padding='same', activation=None)(batch13)\n",
    "        conv14_2 = Conv2D(filters = 64, kernel_size =3, strides=(1, 1), padding='same', activation=None)(batch13)\n",
    "        mfm15 = tensorflow.keras.layers.maximum([conv14_1, conv14_2])\n",
    "\n",
    "        max16 = MaxPool2D(pool_size=(2, 2), strides=(2, 2), padding='same')(mfm15)\n",
    "\n",
    "        conv17_1 = Conv2D(filters = 64, kernel_size =1, strides=(1, 1), padding='same', activation=None)(max16)\n",
    "        conv17_2 = Conv2D(filters = 64, kernel_size =1, strides=(1, 1), padding='same', activation=None)(max16)\n",
    "        mfm18 = tensorflow.keras.layers.maximum([conv17_1, conv17_2])\n",
    "        batch19 = BatchNormalization(axis=3, scale=False)(mfm18)\n",
    "\n",
    "        conv20_1 = Conv2D(filters = 32, kernel_size =3, strides=(1, 1), padding='same', activation=None)(batch19)\n",
    "        conv20_2 = Conv2D(filters = 32, kernel_size =3, strides=(1, 1), padding='same', activation=None)(batch19)\n",
    "        mfm21 = tensorflow.keras.layers.maximum([conv20_1, conv20_2])\n",
    "        batch22 = BatchNormalization(axis=3, scale=False)(mfm21)\n",
    "\n",
    "        conv23_1 = Conv2D(filters = 32, kernel_size =1, strides=(1, 1), padding='same', activation=None)(batch22)\n",
    "        conv23_2 = Conv2D(filters = 32, kernel_size =1, strides=(1, 1), padding='same', activation=None)(batch22)\n",
    "        mfm24 = tensorflow.keras.layers.maximum([conv23_1, conv23_2])\n",
    "        batch25 = BatchNormalization(axis=3, scale=False)(mfm24)\n",
    "\n",
    "        conv26_1 = Conv2D(filters = 32, kernel_size =1, strides=(1, 1), padding='same', activation=None)(batch25)\n",
    "        conv26_2 = Conv2D(filters = 32, kernel_size =1, strides=(1, 1), padding='same', activation=None)(batch25)\n",
    "        mfm27 = tensorflow.keras.layers.maximum([conv26_1, conv26_2])\n",
    "        \n",
    "        max28 = MaxPool2D(pool_size=(2, 2), strides=(2, 2), padding='valid')(mfm27)\n",
    "        cqt2 = layers.GlobalAveragePooling2D()(max28)\n",
    "        cqt2 = Dropout(dp)(cqt2)\n",
    "\n",
    "    if use_stft :\n",
    "        ## stft embedding\n",
    "        conv1_1 = Conv2D(filters = 32, kernel_size =5, strides=(1, 1), padding='same', activation=None)(stft1)\n",
    "        conv1_2 = Conv2D(filters = 32, kernel_size =5, strides=(1, 1), padding='same', activation=None)(stft1)\n",
    "        mfm2 = tensorflow.keras.layers.maximum([conv1_1, conv1_2])\n",
    "        max3 = MaxPool2D(pool_size=(2, 2), strides=(2, 2), padding='same')(mfm2)\n",
    "        \n",
    "        conv4_1 = Conv2D(filters = 32, kernel_size =1, strides=(1, 1), padding='same', activation=None)(max3)\n",
    "        conv4_2 = Conv2D(filters = 32, kernel_size =1, strides=(1, 1), padding='same', activation=None)(max3)\n",
    "        mfm5 = tensorflow.keras.layers.maximum([conv4_1, conv4_2])\n",
    "        batch6 = BatchNormalization(axis=3, scale=False)(mfm5)\n",
    "        \n",
    "        conv7_1 = Conv2D(filters = 48, kernel_size =3, strides=(1, 1), padding='same', activation=None)(batch6)\n",
    "        conv7_2 = Conv2D(filters = 48, kernel_size =3, strides=(1, 1), padding='same', activation=None)(batch6)\n",
    "        mfm8 = tensorflow.keras.layers.maximum([conv7_1, conv7_2])\n",
    "        \n",
    "        max9 = MaxPool2D(pool_size=(2, 2), strides=(2, 2), padding='same')(mfm8)\n",
    "        batch10 = BatchNormalization(axis=3, scale=False)(max9)\n",
    "        \n",
    "        conv11_1 = Conv2D(filters = 48, kernel_size =1, strides=(1, 1), padding='same', activation=None)(batch10)\n",
    "        conv11_2 = Conv2D(filters = 48, kernel_size =1, strides=(1, 1), padding='same', activation=None)(batch10)\n",
    "        mfm12 = tensorflow.keras.layers.maximum([conv11_1, conv11_2])\n",
    "        batch13 = BatchNormalization(axis=3, scale=False)(mfm12)\n",
    "\n",
    "        conv14_1 = Conv2D(filters = 64, kernel_size =3, strides=(1, 1), padding='same', activation=None)(batch13)\n",
    "        conv14_2 = Conv2D(filters = 64, kernel_size =3, strides=(1, 1), padding='same', activation=None)(batch13)\n",
    "        mfm15 = tensorflow.keras.layers.maximum([conv14_1, conv14_2])\n",
    "        \n",
    "        max16 = MaxPool2D(pool_size=(2, 2), strides=(2, 2), padding='same')(mfm15)\n",
    "\n",
    "        conv17_1 = Conv2D(filters = 64, kernel_size =1, strides=(1, 1), padding='same', activation=None)(max16)\n",
    "        conv17_2 = Conv2D(filters = 64, kernel_size =1, strides=(1, 1), padding='same', activation=None)(max16)\n",
    "        mfm18 = tensorflow.keras.layers.maximum([conv17_1, conv17_2])\n",
    "        batch19 = BatchNormalization(axis=3, scale=False)(mfm18)\n",
    "\n",
    "        conv20_1 = Conv2D(filters = 32, kernel_size =3, strides=(1, 1), padding='same', activation=None)(batch19)\n",
    "        conv20_2 = Conv2D(filters = 32, kernel_size =3, strides=(1, 1), padding='same', activation=None)(batch19)\n",
    "        mfm21 = tensorflow.keras.layers.maximum([conv20_1, conv20_2])\n",
    "        batch22 = BatchNormalization(axis=3, scale=False)(mfm21)\n",
    "\n",
    "        conv23_1 = Conv2D(filters = 32, kernel_size =1, strides=(1, 1), padding='same', activation=None)(batch22)\n",
    "        conv23_2 = Conv2D(filters = 32, kernel_size =1, strides=(1, 1), padding='same', activation=None)(batch22)\n",
    "        mfm24 = tensorflow.keras.layers.maximum([conv23_1, conv23_2])\n",
    "        batch25 = BatchNormalization(axis=3, scale=False)(mfm24)\n",
    "\n",
    "        conv26_1 = Conv2D(filters = 32, kernel_size =1, strides=(1, 1), padding='same', activation=None)(batch25)\n",
    "        conv26_2 = Conv2D(filters = 32, kernel_size =1, strides=(1, 1), padding='same', activation=None)(batch25)\n",
    "        mfm27 = tensorflow.keras.layers.maximum([conv26_1, conv26_2])\n",
    "        \n",
    "        max28 = MaxPool2D(pool_size=(2, 2), strides=(2, 2), padding='valid')(mfm27)\n",
    "        stft2 = layers.GlobalAveragePooling2D()(max28)\n",
    "        stft2 = Dropout(dp)(stft2)\n",
    "    \n",
    "    \n",
    "    if use_mel and use_cqt and use_stft :\n",
    "        concat2 = layers.Concatenate()([mel2, cqt2, stft2])\n",
    "    if not use_mel and use_cqt and use_stft :\n",
    "        concat2 = layers.Concatenate()([cqt2, stft2])\n",
    "    if use_mel and not use_cqt and use_stft :\n",
    "        concat2 = layers.Concatenate()([mel2, stft2])\n",
    "    if use_mel and use_cqt and not use_stft :\n",
    "        concat2 = layers.Concatenate()([mel2, cqt2])\n",
    "    if not use_mel and not use_cqt and use_stft :  ## stft 만\n",
    "        concat2 = stft2\n",
    "    if use_mel and not use_cqt and not use_stft :  ### mel만\n",
    "        concat2 = mel2\n",
    "    if not use_mel and use_cqt and not use_stft :  ### cqt만\n",
    "        concat2 = cqt2\n",
    "\n",
    "    if ext :\n",
    "        \n",
    "        concat1 = layers.Concatenate()([age1, sex1, hw1, loc1, interval1,preg])\n",
    "        d1 = layers.Dense(10, activation='relu')(concat1)\n",
    "        concat2 = layers.Concatenate()([concat2, d1,wav2_2])\n",
    "        \n",
    "    if fc :\n",
    "        concat2 = layers.Dense(10, activation = \"relu\")(concat2)\n",
    "        concat2 = Dropout(dp)(concat2)\n",
    "        \n",
    "    if ord1 :\n",
    "        res1 = layers.Dense(2, activation = \"softmax\")(concat2)\n",
    "        \n",
    "        \n",
    "\n",
    "        \n",
    "    else :\n",
    "        res1 = layers.Dense(3, activation = \"softmax\")(concat2)\n",
    "\n",
    "        \n",
    "        \n",
    "        \n",
    "#     res2 = layers.Dense(2, activation = \"softmax\")(concat2)\n",
    "\n",
    "    model = keras.Model(inputs = [age,sex,hw,preg,loc,interval,wav2,mel1,stft1,cqt1] , outputs = res1 )\n",
    "    \n",
    "    model.compile(loss=['categorical_crossentropy'], optimizer='adam', metrics=['accuracy','AUC'])\n",
    "    return(model)\n",
    "\n"
   ]
  },
  {
   "cell_type": "code",
   "execution_count": 25,
   "id": "5dff4566",
   "metadata": {},
   "outputs": [],
   "source": [
    "def get_LCNN_o_4_dr_2(mel_input_shape, cqt_input_shape, stft_input_shape,interval_input_shape,wav2_input_shape,use_mel = True, use_cqt = True, use_stft = True, ord1 = True, dp = .5, fc = False, ext = False):\n",
    "        # Create a towy model.\n",
    "    \n",
    "    from keras.models import Model\n",
    "    from keras.layers import Input \n",
    "    \n",
    "    MobileNet2 = tf.keras.applications.MobileNetV2(\n",
    "    input_shape=(128,128,3),\n",
    "    alpha=1.0,\n",
    "    include_top=False,\n",
    "    weights=\"imagenet\",\n",
    "    input_tensor=None,\n",
    "    pooling='avg',\n",
    "    classes=2,\n",
    "    classifier_activation=\"softmax\")\n",
    "    \n",
    "    age = keras.Input(shape=(6,), name = 'age_cat')\n",
    "    sex = keras.Input(shape=(2,), name = 'sex_cat')\n",
    "    hw = keras.Input(shape=(2,), name = 'height_weight')\n",
    "    preg = keras.Input(shape=(1,), name = 'is_preg')\n",
    "    loc = keras.Input(shape=(5,), name = 'loc')\n",
    "    interval = keras.Input(shape=interval_input_shape, name = 'interval')\n",
    "    wav2 = keras.Input(shape=wav2_input_shape, name = 'wav2')\n",
    "    mel1 = keras.Input(shape=mel_input_shape, name = 'mel')\n",
    "    cqt1 = keras.Input(shape=cqt_input_shape, name = 'cqt')\n",
    "    stft1 = keras.Input(shape=stft_input_shape, name = 'stft')\n",
    "        \n",
    "    ## age embeddig\n",
    "    age1 = layers.Dense(2, activation = None)(age)\n",
    "\n",
    "    ## sex embedding\n",
    "    sex1 = layers.Dense(1, activation = None)(sex)\n",
    "\n",
    "    ## hw embedding\n",
    "    hw1 = layers.Dense(1, activation = None)(hw)\n",
    "\n",
    "    ## loc embedding\n",
    "    loc1 = layers.Dense(3, activation = None)(loc)\n",
    "    \n",
    "    ## interval embedding\n",
    "\n",
    "    interval1 = tf.keras.layers.Conv1D(9, 2, padding=\"causal\",activation='relu',dilation_rate=1)(interval)\n",
    "    interval1 = tf.keras.layers.Conv1D(9, 2, padding=\"causal\",activation='relu',dilation_rate=2)(interval1)\n",
    "    interval1 = tf.keras.layers.Conv1D(9, 2, padding=\"causal\",activation='relu',dilation_rate=4)(interval1)\n",
    "    interval1 = tf.keras.layers.Conv1D(9, 2, padding=\"causal\",activation='relu',dilation_rate=8)(interval1)\n",
    "    interval1 = tf.keras.layers.Conv1D(9, 2, padding=\"causal\",activation='relu',dilation_rate=16)(interval1)\n",
    "    interval1 = tf.keras.layers.Conv1D(9, 2, padding=\"causal\",activation='relu',dilation_rate=32)(interval1)\n",
    "    interval1 = tf.keras.layers.Conv1D(9, 2, padding=\"causal\",activation='relu',dilation_rate=64)(interval1)\n",
    "    interval1 = tf.keras.layers.Conv1D(9, 2, padding=\"causal\",activation='relu',dilation_rate=128)(interval1)\n",
    "    interval1 = tf.keras.layers.Conv1D(9, 2, padding=\"causal\",activation='relu',dilation_rate=256)(interval1)\n",
    "    interval1 = tf.keras.layers.Conv1D(9, 2, padding=\"causal\",activation='relu',dilation_rate=512)(interval1)\n",
    "    interval1 = tf.keras.layers.Conv1D(9, 2, padding=\"causal\",activation='relu',dilation_rate=1024)(interval1)\n",
    "\n",
    "#     interval1 = tf.keras.layers.Conv1D(9, 2, padding=\"causal\",activation='relu',dilation_rate=1)(interval1)\n",
    "#     interval1 = tf.keras.layers.Conv1D(9, 2, padding=\"causal\",activation='relu',dilation_rate=2)(interval1)\n",
    "#     interval1 = tf.keras.layers.Conv1D(9, 2, padding=\"causal\",activation='relu',dilation_rate=4)(interval1)\n",
    "#     interval1 = tf.keras.layers.Conv1D(9, 2, padding=\"causal\",activation='relu',dilation_rate=8)(interval1)\n",
    "#     interval1 = tf.keras.layers.Conv1D(9, 2, padding=\"causal\",activation='relu',dilation_rate=16)(interval1)\n",
    "#     interval1 = tf.keras.layers.Conv1D(9, 2, padding=\"causal\",activation='relu',dilation_rate=32)(interval1)\n",
    "#     interval1 = tf.keras.layers.Conv1D(9, 2, padding=\"causal\",activation='relu',dilation_rate=64)(interval1)\n",
    "#     interval1 = tf.keras.layers.Conv1D(9, 2, padding=\"causal\",activation='relu',dilation_rate=128)(interval1)\n",
    "#     interval1 = tf.keras.layers.Conv1D(9, 2, padding=\"causal\",activation='relu',dilation_rate=256)(interval1)\n",
    "#     interval1 = tf.keras.layers.Conv1D(9, 2, padding=\"causal\",activation='relu',dilation_rate=512)(interval1)\n",
    "#     interval1 = tf.keras.layers.Conv1D(9, 2, padding=\"causal\",activation='relu',dilation_rate=1024)(interval1)    \n",
    "\n",
    "    interval1 = tf.keras.layers.Conv1D(9, 2, padding=\"causal\",activation='relu',dilation_rate=1)(interval1)\n",
    "    interval1 = tf.keras.layers.Conv1D(9, 2, padding=\"causal\",activation='relu',dilation_rate=2)(interval1)\n",
    "    interval1 = tf.keras.layers.Conv1D(9, 2, padding=\"causal\",activation='relu',dilation_rate=4)(interval1)\n",
    "    interval1 = tf.keras.layers.Conv1D(9, 2, padding=\"causal\",activation='relu',dilation_rate=8)(interval1)\n",
    "    interval1 = tf.keras.layers.Conv1D(9, 2, padding=\"causal\",activation='relu',dilation_rate=16)(interval1)\n",
    "    interval1 = tf.keras.layers.Conv1D(9, 2, padding=\"causal\",activation='relu',dilation_rate=32)(interval1)\n",
    "    interval1 = tf.keras.layers.Conv1D(9, 2, padding=\"causal\",activation='relu',dilation_rate=64)(interval1)\n",
    "    interval1 = tf.keras.layers.Conv1D(9, 2, padding=\"causal\",activation='relu',dilation_rate=128)(interval1)\n",
    "    interval1 = tf.keras.layers.Conv1D(9, 2, padding=\"causal\",activation='relu',dilation_rate=256)(interval1)\n",
    "    interval1 = tf.keras.layers.Conv1D(9, 2, padding=\"causal\",activation='relu',dilation_rate=512)(interval1)\n",
    "    interval1 = tf.keras.layers.Conv1D(9, 2, padding=\"causal\",activation='relu',dilation_rate=1024)(interval1)\n",
    "    \n",
    "    interval1 = tf.keras.layers.GlobalMaxPooling1D()(interval1)\n",
    "    \n",
    "    #### Wav2Vec2 Embedding\n",
    "    \n",
    "    wav2_1 = Conv2D(3,(3,3),padding='same')(wav2)\n",
    "    wav2_2 = MobileNet2(wav2_1)\n",
    "\n",
    "    \n",
    "    \n",
    "    \n",
    "    ## mel embedding\n",
    "    if use_mel :\n",
    "        \n",
    "        conv1_1 = Conv2D(filters = 32, kernel_size =5, strides=(1, 1), padding='same', activation=None)(mel1)\n",
    "        conv1_2 = Conv2D(filters = 32, kernel_size =5, strides=(1, 1), padding='same', activation=None)(mel1)\n",
    "        mfm2 = tensorflow.keras.layers.maximum([conv1_1, conv1_2])\n",
    "        max3 = MaxPool2D(pool_size=(2, 2), strides=(2, 2), padding='same')(mfm2)\n",
    "\n",
    "        conv4_1 = Conv2D(filters = 32, kernel_size =1, strides=(1, 1), padding='same', activation=None)(max3)\n",
    "        conv4_2 = Conv2D(filters = 32, kernel_size =1, strides=(1, 1), padding='same', activation=None)(max3)\n",
    "        mfm5 = tensorflow.keras.layers.maximum([conv4_1, conv4_2])\n",
    "        batch6 = BatchNormalization(axis=3, scale=False)(mfm5)\n",
    "\n",
    "        conv7_1 = Conv2D(filters = 48, kernel_size =3, strides=(1, 1), padding='same', activation=None)(batch6)\n",
    "        conv7_2 = Conv2D(filters = 48, kernel_size =3, strides=(1, 1), padding='same', activation=None)(batch6)\n",
    "        mfm8 = tensorflow.keras.layers.maximum([conv7_1, conv7_2])\n",
    "\n",
    "        max9 = MaxPool2D(pool_size=(2, 2), strides=(2, 2), padding='same')(mfm8)\n",
    "        batch10 = BatchNormalization(axis=3, scale=False)(max9)\n",
    "\n",
    "        conv11_1 = Conv2D(filters = 48, kernel_size =1, strides=(1, 1), padding='same', activation=None)(batch10)\n",
    "        conv11_2 = Conv2D(filters = 48, kernel_size =1, strides=(1, 1), padding='same', activation=None)(batch10)\n",
    "        mfm12 = tensorflow.keras.layers.maximum([conv11_1, conv11_2])\n",
    "        batch13 = BatchNormalization(axis=3, scale=False)(mfm12)\n",
    "\n",
    "        conv14_1 = Conv2D(filters = 64, kernel_size =3, strides=(1, 1), padding='same', activation=None)(batch13)\n",
    "        conv14_2 = Conv2D(filters = 64, kernel_size =3, strides=(1, 1), padding='same', activation=None)(batch13)\n",
    "        mfm15 = tensorflow.keras.layers.maximum([conv14_1, conv14_2])\n",
    "\n",
    "        max16 = MaxPool2D(pool_size=(2, 2), strides=(2, 2), padding='same')(mfm15)\n",
    "\n",
    "        conv17_1 = Conv2D(filters = 64, kernel_size =1, strides=(1, 1), padding='same', activation=None)(max16)\n",
    "        conv17_2 = Conv2D(filters = 64, kernel_size =1, strides=(1, 1), padding='same', activation=None)(max16)\n",
    "        mfm18 = tensorflow.keras.layers.maximum([conv17_1, conv17_2])\n",
    "        batch19 = BatchNormalization(axis=3, scale=False)(mfm18)\n",
    "\n",
    "        conv20_1 = Conv2D(filters = 32, kernel_size =3, strides=(1, 1), padding='same', activation=None)(batch19)\n",
    "        conv20_2 = Conv2D(filters = 32, kernel_size =3, strides=(1, 1), padding='same', activation=None)(batch19)\n",
    "        mfm21 = tensorflow.keras.layers.maximum([conv20_1, conv20_2])\n",
    "        batch22 = BatchNormalization(axis=3, scale=False)(mfm21)\n",
    "\n",
    "        conv23_1 = Conv2D(filters = 32, kernel_size =1, strides=(1, 1), padding='same', activation=None)(batch22)\n",
    "        conv23_2 = Conv2D(filters = 32, kernel_size =1, strides=(1, 1), padding='same', activation=None)(batch22)\n",
    "        mfm24 = tensorflow.keras.layers.maximum([conv23_1, conv23_2])\n",
    "        batch25 = BatchNormalization(axis=3, scale=False)(mfm24)\n",
    "\n",
    "        conv26_1 = Conv2D(filters = 32, kernel_size =1, strides=(1, 1), padding='same', activation=None)(batch25)\n",
    "        conv26_2 = Conv2D(filters = 32, kernel_size =1, strides=(1, 1), padding='same', activation=None)(batch25)\n",
    "        mfm27 = tensorflow.keras.layers.maximum([conv26_1, conv26_2])\n",
    "\n",
    "        max28 = MaxPool2D(pool_size=(2, 2), strides=(2, 2), padding='valid')(mfm27)\n",
    "        mel2 = layers.GlobalAveragePooling2D()(max28)\n",
    "        mel2 = Dropout(dp)(mel2)\n",
    "\n",
    "    if use_cqt:\n",
    "        ## cqt embedding\n",
    "        conv1_1 = Conv2D(filters = 32, kernel_size =5, strides=(1, 1), padding='same', activation=None)(cqt1)\n",
    "        conv1_2 = Conv2D(filters = 32, kernel_size =5, strides=(1, 1), padding='same', activation=None)(cqt1)\n",
    "        mfm2 = tensorflow.keras.layers.maximum([conv1_1, conv1_2])\n",
    "        max3 = MaxPool2D(pool_size=(2, 2), strides=(2, 2), padding='same')(mfm2)\n",
    "        \n",
    "        conv4_1 = Conv2D(filters = 32, kernel_size =1, strides=(1, 1), padding='same', activation=None)(max3)\n",
    "        conv4_2 = Conv2D(filters = 32, kernel_size =1, strides=(1, 1), padding='same', activation=None)(max3)\n",
    "        mfm5 = tensorflow.keras.layers.maximum([conv4_1, conv4_2])\n",
    "        batch6 = BatchNormalization(axis=3, scale=False)(mfm5)\n",
    "\n",
    "        conv7_1 = Conv2D(filters = 48, kernel_size =3, strides=(1, 1), padding='same', activation=None)(batch6)\n",
    "        conv7_2 = Conv2D(filters = 48, kernel_size =3, strides=(1, 1), padding='same', activation=None)(batch6)\n",
    "        mfm8 = tensorflow.keras.layers.maximum([conv7_1, conv7_2])\n",
    "\n",
    "        max9 = MaxPool2D(pool_size=(2, 2), strides=(2, 2), padding='same')(mfm8)\n",
    "        batch10 = BatchNormalization(axis=3, scale=False)(max9)\n",
    "\n",
    "        conv11_1 = Conv2D(filters = 48, kernel_size =1, strides=(1, 1), padding='same', activation=None)(batch10)\n",
    "        conv11_2 = Conv2D(filters = 48, kernel_size =1, strides=(1, 1), padding='same', activation=None)(batch10)\n",
    "        mfm12 = tensorflow.keras.layers.maximum([conv11_1, conv11_2])\n",
    "        batch13 = BatchNormalization(axis=3, scale=False)(mfm12)\n",
    "\n",
    "        conv14_1 = Conv2D(filters = 64, kernel_size =3, strides=(1, 1), padding='same', activation=None)(batch13)\n",
    "        conv14_2 = Conv2D(filters = 64, kernel_size =3, strides=(1, 1), padding='same', activation=None)(batch13)\n",
    "        mfm15 = tensorflow.keras.layers.maximum([conv14_1, conv14_2])\n",
    "\n",
    "        max16 = MaxPool2D(pool_size=(2, 2), strides=(2, 2), padding='same')(mfm15)\n",
    "\n",
    "        conv17_1 = Conv2D(filters = 64, kernel_size =1, strides=(1, 1), padding='same', activation=None)(max16)\n",
    "        conv17_2 = Conv2D(filters = 64, kernel_size =1, strides=(1, 1), padding='same', activation=None)(max16)\n",
    "        mfm18 = tensorflow.keras.layers.maximum([conv17_1, conv17_2])\n",
    "        batch19 = BatchNormalization(axis=3, scale=False)(mfm18)\n",
    "\n",
    "        conv20_1 = Conv2D(filters = 32, kernel_size =3, strides=(1, 1), padding='same', activation=None)(batch19)\n",
    "        conv20_2 = Conv2D(filters = 32, kernel_size =3, strides=(1, 1), padding='same', activation=None)(batch19)\n",
    "        mfm21 = tensorflow.keras.layers.maximum([conv20_1, conv20_2])\n",
    "        batch22 = BatchNormalization(axis=3, scale=False)(mfm21)\n",
    "\n",
    "        conv23_1 = Conv2D(filters = 32, kernel_size =1, strides=(1, 1), padding='same', activation=None)(batch22)\n",
    "        conv23_2 = Conv2D(filters = 32, kernel_size =1, strides=(1, 1), padding='same', activation=None)(batch22)\n",
    "        mfm24 = tensorflow.keras.layers.maximum([conv23_1, conv23_2])\n",
    "        batch25 = BatchNormalization(axis=3, scale=False)(mfm24)\n",
    "\n",
    "        conv26_1 = Conv2D(filters = 32, kernel_size =1, strides=(1, 1), padding='same', activation=None)(batch25)\n",
    "        conv26_2 = Conv2D(filters = 32, kernel_size =1, strides=(1, 1), padding='same', activation=None)(batch25)\n",
    "        mfm27 = tensorflow.keras.layers.maximum([conv26_1, conv26_2])\n",
    "        \n",
    "        max28 = MaxPool2D(pool_size=(2, 2), strides=(2, 2), padding='valid')(mfm27)\n",
    "        cqt2 = layers.GlobalAveragePooling2D()(max28)\n",
    "        cqt2 = Dropout(dp)(cqt2)\n",
    "\n",
    "    if use_stft :\n",
    "        ## stft embedding\n",
    "        conv1_1 = Conv2D(filters = 32, kernel_size =5, strides=(1, 1), padding='same', activation=None)(stft1)\n",
    "        conv1_2 = Conv2D(filters = 32, kernel_size =5, strides=(1, 1), padding='same', activation=None)(stft1)\n",
    "        mfm2 = tensorflow.keras.layers.maximum([conv1_1, conv1_2])\n",
    "        max3 = MaxPool2D(pool_size=(2, 2), strides=(2, 2), padding='same')(mfm2)\n",
    "        \n",
    "        conv4_1 = Conv2D(filters = 32, kernel_size =1, strides=(1, 1), padding='same', activation=None)(max3)\n",
    "        conv4_2 = Conv2D(filters = 32, kernel_size =1, strides=(1, 1), padding='same', activation=None)(max3)\n",
    "        mfm5 = tensorflow.keras.layers.maximum([conv4_1, conv4_2])\n",
    "        batch6 = BatchNormalization(axis=3, scale=False)(mfm5)\n",
    "        \n",
    "        conv7_1 = Conv2D(filters = 48, kernel_size =3, strides=(1, 1), padding='same', activation=None)(batch6)\n",
    "        conv7_2 = Conv2D(filters = 48, kernel_size =3, strides=(1, 1), padding='same', activation=None)(batch6)\n",
    "        mfm8 = tensorflow.keras.layers.maximum([conv7_1, conv7_2])\n",
    "        \n",
    "        max9 = MaxPool2D(pool_size=(2, 2), strides=(2, 2), padding='same')(mfm8)\n",
    "        batch10 = BatchNormalization(axis=3, scale=False)(max9)\n",
    "        \n",
    "        conv11_1 = Conv2D(filters = 48, kernel_size =1, strides=(1, 1), padding='same', activation=None)(batch10)\n",
    "        conv11_2 = Conv2D(filters = 48, kernel_size =1, strides=(1, 1), padding='same', activation=None)(batch10)\n",
    "        mfm12 = tensorflow.keras.layers.maximum([conv11_1, conv11_2])\n",
    "        batch13 = BatchNormalization(axis=3, scale=False)(mfm12)\n",
    "\n",
    "        conv14_1 = Conv2D(filters = 64, kernel_size =3, strides=(1, 1), padding='same', activation=None)(batch13)\n",
    "        conv14_2 = Conv2D(filters = 64, kernel_size =3, strides=(1, 1), padding='same', activation=None)(batch13)\n",
    "        mfm15 = tensorflow.keras.layers.maximum([conv14_1, conv14_2])\n",
    "        \n",
    "        max16 = MaxPool2D(pool_size=(2, 2), strides=(2, 2), padding='same')(mfm15)\n",
    "\n",
    "        conv17_1 = Conv2D(filters = 64, kernel_size =1, strides=(1, 1), padding='same', activation=None)(max16)\n",
    "        conv17_2 = Conv2D(filters = 64, kernel_size =1, strides=(1, 1), padding='same', activation=None)(max16)\n",
    "        mfm18 = tensorflow.keras.layers.maximum([conv17_1, conv17_2])\n",
    "        batch19 = BatchNormalization(axis=3, scale=False)(mfm18)\n",
    "\n",
    "        conv20_1 = Conv2D(filters = 32, kernel_size =3, strides=(1, 1), padding='same', activation=None)(batch19)\n",
    "        conv20_2 = Conv2D(filters = 32, kernel_size =3, strides=(1, 1), padding='same', activation=None)(batch19)\n",
    "        mfm21 = tensorflow.keras.layers.maximum([conv20_1, conv20_2])\n",
    "        batch22 = BatchNormalization(axis=3, scale=False)(mfm21)\n",
    "\n",
    "        conv23_1 = Conv2D(filters = 32, kernel_size =1, strides=(1, 1), padding='same', activation=None)(batch22)\n",
    "        conv23_2 = Conv2D(filters = 32, kernel_size =1, strides=(1, 1), padding='same', activation=None)(batch22)\n",
    "        mfm24 = tensorflow.keras.layers.maximum([conv23_1, conv23_2])\n",
    "        batch25 = BatchNormalization(axis=3, scale=False)(mfm24)\n",
    "\n",
    "        conv26_1 = Conv2D(filters = 32, kernel_size =1, strides=(1, 1), padding='same', activation=None)(batch25)\n",
    "        conv26_2 = Conv2D(filters = 32, kernel_size =1, strides=(1, 1), padding='same', activation=None)(batch25)\n",
    "        mfm27 = tensorflow.keras.layers.maximum([conv26_1, conv26_2])\n",
    "        \n",
    "        max28 = MaxPool2D(pool_size=(2, 2), strides=(2, 2), padding='valid')(mfm27)\n",
    "        stft2 = layers.GlobalAveragePooling2D()(max28)\n",
    "        stft2 = Dropout(dp)(stft2)\n",
    "    \n",
    "    \n",
    "    if use_mel and use_cqt and use_stft :\n",
    "        concat2 = layers.Concatenate()([mel2, cqt2, stft2])\n",
    "    if not use_mel and use_cqt and use_stft :\n",
    "        concat2 = layers.Concatenate()([cqt2, stft2])\n",
    "    if use_mel and not use_cqt and use_stft :\n",
    "        concat2 = layers.Concatenate()([mel2, stft2])\n",
    "    if use_mel and use_cqt and not use_stft :\n",
    "        concat2 = layers.Concatenate()([mel2, cqt2])\n",
    "    if not use_mel and not use_cqt and use_stft :  ## stft 만\n",
    "        concat2 = stft2\n",
    "    if use_mel and not use_cqt and not use_stft :  ### mel만\n",
    "        concat2 = mel2\n",
    "    if not use_mel and use_cqt and not use_stft :  ### cqt만\n",
    "        concat2 = cqt2\n",
    "\n",
    "    if ext :\n",
    "        \n",
    "        concat1 = layers.Concatenate()([age1, sex1, hw1, loc1, interval1,preg])\n",
    "        d1 = layers.Dense(10, activation='relu')(concat1)\n",
    "        concat2 = layers.Concatenate()([concat2, d1,wav2_2])\n",
    "        \n",
    "    if fc :\n",
    "        concat2 = layers.Dense(10, activation = \"relu\")(concat2)\n",
    "        concat2 = Dropout(dp)(concat2)\n",
    "        \n",
    "    if ord1 :\n",
    "        res1 = layers.Dense(2, activation = \"softmax\")(concat2)\n",
    "        \n",
    "        \n",
    "\n",
    "        \n",
    "    else :\n",
    "        res1 = layers.Dense(3, activation = \"softmax\")(concat2)\n",
    "\n",
    "        \n",
    "        \n",
    "        \n",
    "#     res2 = layers.Dense(2, activation = \"softmax\")(concat2)\n",
    "\n",
    "    model = keras.Model(inputs = [age,sex,hw,preg,loc,interval,wav2,mel1,stft1,cqt1] , outputs = res1 )\n",
    "    \n",
    "    model.compile(loss=['categorical_crossentropy'], optimizer='adam', metrics=['accuracy','AUC'])\n",
    "    return(model)\n",
    "\n"
   ]
  },
  {
   "cell_type": "code",
   "execution_count": null,
   "id": "53111852",
   "metadata": {},
   "outputs": [],
   "source": []
  },
  {
   "cell_type": "code",
   "execution_count": null,
   "id": "eebc8d87",
   "metadata": {},
   "outputs": [],
   "source": []
  },
  {
   "cell_type": "code",
   "execution_count": 21,
   "id": "c583c51f",
   "metadata": {},
   "outputs": [],
   "source": [
    "features_trn['wav2']=features_trn['wav2'][:,:,:,np.newaxis]"
   ]
  },
  {
   "cell_type": "code",
   "execution_count": 18,
   "id": "0fca3541",
   "metadata": {},
   "outputs": [],
   "source": [
    "features_test['wav2']=features_test['wav2'][:,:,:,np.newaxis]"
   ]
  },
  {
   "cell_type": "code",
   "execution_count": null,
   "id": "b3f858e2",
   "metadata": {},
   "outputs": [],
   "source": []
  },
  {
   "cell_type": "code",
   "execution_count": null,
   "id": "d77cd976",
   "metadata": {},
   "outputs": [],
   "source": []
  },
  {
   "cell_type": "code",
   "execution_count": 26,
   "id": "460de784",
   "metadata": {},
   "outputs": [],
   "source": [
    "mel_input_shape = features_trn['mel1'].shape[1:]"
   ]
  },
  {
   "cell_type": "code",
   "execution_count": 27,
   "id": "5d0291cb",
   "metadata": {},
   "outputs": [
    {
     "data": {
      "text/plain": [
       "(120, 313, 1)"
      ]
     },
     "execution_count": 27,
     "metadata": {},
     "output_type": "execute_result"
    }
   ],
   "source": [
    "mel_input_shape"
   ]
  },
  {
   "cell_type": "code",
   "execution_count": 28,
   "id": "ec06d09a",
   "metadata": {},
   "outputs": [],
   "source": [
    "cqt_input_shape = features_trn['cqt1'].shape[1:]"
   ]
  },
  {
   "cell_type": "code",
   "execution_count": 29,
   "id": "31599947",
   "metadata": {},
   "outputs": [
    {
     "data": {
      "text/plain": [
       "(1, 1, 1)"
      ]
     },
     "execution_count": 29,
     "metadata": {},
     "output_type": "execute_result"
    }
   ],
   "source": [
    "cqt_input_shape"
   ]
  },
  {
   "cell_type": "code",
   "execution_count": 30,
   "id": "861213a4",
   "metadata": {},
   "outputs": [],
   "source": [
    "stft_input_shape = features_trn['stft1'].shape[1:]"
   ]
  },
  {
   "cell_type": "code",
   "execution_count": 31,
   "id": "6e151a70",
   "metadata": {},
   "outputs": [
    {
     "data": {
      "text/plain": [
       "(1, 1, 1)"
      ]
     },
     "execution_count": 31,
     "metadata": {},
     "output_type": "execute_result"
    }
   ],
   "source": [
    "stft_input_shape"
   ]
  },
  {
   "cell_type": "code",
   "execution_count": 32,
   "id": "0b7eb1dd",
   "metadata": {},
   "outputs": [],
   "source": [
    "interval_input_shape= features_trn['interval'].shape[1:]"
   ]
  },
  {
   "cell_type": "code",
   "execution_count": 33,
   "id": "6c31f94d",
   "metadata": {
    "scrolled": true
   },
   "outputs": [
    {
     "data": {
      "text/plain": [
       "(115, 1)"
      ]
     },
     "execution_count": 33,
     "metadata": {},
     "output_type": "execute_result"
    }
   ],
   "source": [
    "interval_input_shape"
   ]
  },
  {
   "cell_type": "code",
   "execution_count": 34,
   "id": "c26d851e",
   "metadata": {},
   "outputs": [],
   "source": [
    "wav2_input_shape= features_trn['wav2'].shape[1:]"
   ]
  },
  {
   "cell_type": "code",
   "execution_count": 35,
   "id": "7553a46c",
   "metadata": {},
   "outputs": [
    {
     "data": {
      "text/plain": [
       "(128, 128, 1)"
      ]
     },
     "execution_count": 35,
     "metadata": {},
     "output_type": "execute_result"
    }
   ],
   "source": [
    "wav2_input_shape"
   ]
  },
  {
   "cell_type": "code",
   "execution_count": 36,
   "id": "a5be4116",
   "metadata": {},
   "outputs": [],
   "source": [
    "for i in range(len(features_trn['interval'])):\n",
    "    features_trn['interval'][i]=np.array(features_trn['interval'][i])"
   ]
  },
  {
   "cell_type": "code",
   "execution_count": 37,
   "id": "7e660a58",
   "metadata": {},
   "outputs": [],
   "source": [
    "for i in range(len(features_trn['mel1'])):\n",
    "    features_trn['mel1'][i]=np.array(features_trn['mel1'][i])"
   ]
  },
  {
   "cell_type": "code",
   "execution_count": null,
   "id": "46889e5a",
   "metadata": {},
   "outputs": [],
   "source": []
  },
  {
   "cell_type": "code",
   "execution_count": null,
   "id": "dbd58a49",
   "metadata": {},
   "outputs": [],
   "source": []
  },
  {
   "cell_type": "code",
   "execution_count": 38,
   "id": "5ffbed82",
   "metadata": {
    "scrolled": true
   },
   "outputs": [],
   "source": [
    "model1 = get_LCNN_o_4_dr_1(mel_input_shape, cqt_input_shape, stft_input_shape,interval_input_shape,wav2_input_shape, use_mel = use_mel, use_cqt = use_cqt, use_stft = use_stft, ord1 = ord1, dp = dp, fc = fc, ext = ext)"
   ]
  },
  {
   "cell_type": "code",
   "execution_count": 39,
   "id": "9ccc8685",
   "metadata": {},
   "outputs": [],
   "source": [
    "\n",
    "model2 = get_LCNN_o_4_dr_2(mel_input_shape, cqt_input_shape, stft_input_shape,interval_input_shape,wav2_input_shape, use_mel = use_mel, use_cqt = use_cqt, use_stft = use_stft, ord1 = ord1, dp = dp, fc = fc, ext = ext)\n"
   ]
  },
  {
   "cell_type": "code",
   "execution_count": 57,
   "id": "4e462fa8",
   "metadata": {},
   "outputs": [],
   "source": [
    "model1.layers[-5].trainable=False"
   ]
  },
  {
   "cell_type": "code",
   "execution_count": 58,
   "id": "7922f66d",
   "metadata": {},
   "outputs": [],
   "source": [
    "model2.layers[-5].trainable=False"
   ]
  },
  {
   "cell_type": "code",
   "execution_count": 59,
   "id": "83ad4ddc",
   "metadata": {},
   "outputs": [
    {
     "name": "stdout",
     "output_type": "stream",
     "text": [
      "Model: \"model_2\"\n",
      "__________________________________________________________________________________________________\n",
      " Layer (type)                   Output Shape         Param #     Connected to                     \n",
      "==================================================================================================\n",
      " mel (InputLayer)               [(None, 120, 313, 1  0           []                               \n",
      "                                )]                                                                \n",
      "                                                                                                  \n",
      " conv2d_39 (Conv2D)             (None, 120, 313, 32  832         ['mel[0][0]']                    \n",
      "                                )                                                                 \n",
      "                                                                                                  \n",
      " conv2d_40 (Conv2D)             (None, 120, 313, 32  832         ['mel[0][0]']                    \n",
      "                                )                                                                 \n",
      "                                                                                                  \n",
      " maximum_18 (Maximum)           (None, 120, 313, 32  0           ['conv2d_39[0][0]',              \n",
      "                                )                                 'conv2d_40[0][0]']              \n",
      "                                                                                                  \n",
      " max_pooling2d_8 (MaxPooling2D)  (None, 60, 157, 32)  0          ['maximum_18[0][0]']             \n",
      "                                                                                                  \n",
      " conv2d_41 (Conv2D)             (None, 60, 157, 32)  1056        ['max_pooling2d_8[0][0]']        \n",
      "                                                                                                  \n",
      " conv2d_42 (Conv2D)             (None, 60, 157, 32)  1056        ['max_pooling2d_8[0][0]']        \n",
      "                                                                                                  \n",
      " maximum_19 (Maximum)           (None, 60, 157, 32)  0           ['conv2d_41[0][0]',              \n",
      "                                                                  'conv2d_42[0][0]']              \n",
      "                                                                                                  \n",
      " interval (InputLayer)          [(None, 115, 1)]     0           []                               \n",
      "                                                                                                  \n",
      " batch_normalization_12 (BatchN  (None, 60, 157, 32)  96         ['maximum_19[0][0]']             \n",
      " ormalization)                                                                                    \n",
      "                                                                                                  \n",
      " conv1d_44 (Conv1D)             (None, 115, 9)       27          ['interval[0][0]']               \n",
      "                                                                                                  \n",
      " conv2d_43 (Conv2D)             (None, 60, 157, 48)  13872       ['batch_normalization_12[0][0]'] \n",
      "                                                                                                  \n",
      " conv2d_44 (Conv2D)             (None, 60, 157, 48)  13872       ['batch_normalization_12[0][0]'] \n",
      "                                                                                                  \n",
      " conv1d_45 (Conv1D)             (None, 115, 9)       171         ['conv1d_44[0][0]']              \n",
      "                                                                                                  \n",
      " maximum_20 (Maximum)           (None, 60, 157, 48)  0           ['conv2d_43[0][0]',              \n",
      "                                                                  'conv2d_44[0][0]']              \n",
      "                                                                                                  \n",
      " conv1d_46 (Conv1D)             (None, 115, 9)       171         ['conv1d_45[0][0]']              \n",
      "                                                                                                  \n",
      " max_pooling2d_9 (MaxPooling2D)  (None, 30, 79, 48)  0           ['maximum_20[0][0]']             \n",
      "                                                                                                  \n",
      " conv1d_47 (Conv1D)             (None, 115, 9)       171         ['conv1d_46[0][0]']              \n",
      "                                                                                                  \n",
      " batch_normalization_13 (BatchN  (None, 30, 79, 48)  144         ['max_pooling2d_9[0][0]']        \n",
      " ormalization)                                                                                    \n",
      "                                                                                                  \n",
      " conv1d_48 (Conv1D)             (None, 115, 9)       171         ['conv1d_47[0][0]']              \n",
      "                                                                                                  \n",
      " conv2d_45 (Conv2D)             (None, 30, 79, 48)   2352        ['batch_normalization_13[0][0]'] \n",
      "                                                                                                  \n",
      " conv2d_46 (Conv2D)             (None, 30, 79, 48)   2352        ['batch_normalization_13[0][0]'] \n",
      "                                                                                                  \n",
      " conv1d_49 (Conv1D)             (None, 115, 9)       171         ['conv1d_48[0][0]']              \n",
      "                                                                                                  \n",
      " maximum_21 (Maximum)           (None, 30, 79, 48)   0           ['conv2d_45[0][0]',              \n",
      "                                                                  'conv2d_46[0][0]']              \n",
      "                                                                                                  \n",
      " conv1d_50 (Conv1D)             (None, 115, 9)       171         ['conv1d_49[0][0]']              \n",
      "                                                                                                  \n",
      " batch_normalization_14 (BatchN  (None, 30, 79, 48)  144         ['maximum_21[0][0]']             \n",
      " ormalization)                                                                                    \n",
      "                                                                                                  \n",
      " conv1d_51 (Conv1D)             (None, 115, 9)       171         ['conv1d_50[0][0]']              \n",
      "                                                                                                  \n",
      " conv2d_47 (Conv2D)             (None, 30, 79, 64)   27712       ['batch_normalization_14[0][0]'] \n",
      "                                                                                                  \n",
      " conv2d_48 (Conv2D)             (None, 30, 79, 64)   27712       ['batch_normalization_14[0][0]'] \n",
      "                                                                                                  \n",
      " conv1d_52 (Conv1D)             (None, 115, 9)       171         ['conv1d_51[0][0]']              \n",
      "                                                                                                  \n",
      " maximum_22 (Maximum)           (None, 30, 79, 64)   0           ['conv2d_47[0][0]',              \n",
      "                                                                  'conv2d_48[0][0]']              \n",
      "                                                                                                  \n",
      " conv1d_53 (Conv1D)             (None, 115, 9)       171         ['conv1d_52[0][0]']              \n",
      "                                                                                                  \n",
      " max_pooling2d_10 (MaxPooling2D  (None, 15, 40, 64)  0           ['maximum_22[0][0]']             \n",
      " )                                                                                                \n",
      "                                                                                                  \n",
      " conv1d_54 (Conv1D)             (None, 115, 9)       171         ['conv1d_53[0][0]']              \n",
      "                                                                                                  \n"
     ]
    },
    {
     "name": "stdout",
     "output_type": "stream",
     "text": [
      " conv2d_49 (Conv2D)             (None, 15, 40, 64)   4160        ['max_pooling2d_10[0][0]']       \n",
      "                                                                                                  \n",
      " conv2d_50 (Conv2D)             (None, 15, 40, 64)   4160        ['max_pooling2d_10[0][0]']       \n",
      "                                                                                                  \n",
      " conv1d_55 (Conv1D)             (None, 115, 9)       171         ['conv1d_54[0][0]']              \n",
      "                                                                                                  \n",
      " maximum_23 (Maximum)           (None, 15, 40, 64)   0           ['conv2d_49[0][0]',              \n",
      "                                                                  'conv2d_50[0][0]']              \n",
      "                                                                                                  \n",
      " conv1d_56 (Conv1D)             (None, 115, 9)       171         ['conv1d_55[0][0]']              \n",
      "                                                                                                  \n",
      " batch_normalization_15 (BatchN  (None, 15, 40, 64)  192         ['maximum_23[0][0]']             \n",
      " ormalization)                                                                                    \n",
      "                                                                                                  \n",
      " conv1d_57 (Conv1D)             (None, 115, 9)       171         ['conv1d_56[0][0]']              \n",
      "                                                                                                  \n",
      " conv2d_51 (Conv2D)             (None, 15, 40, 32)   18464       ['batch_normalization_15[0][0]'] \n",
      "                                                                                                  \n",
      " conv2d_52 (Conv2D)             (None, 15, 40, 32)   18464       ['batch_normalization_15[0][0]'] \n",
      "                                                                                                  \n",
      " conv1d_58 (Conv1D)             (None, 115, 9)       171         ['conv1d_57[0][0]']              \n",
      "                                                                                                  \n",
      " maximum_24 (Maximum)           (None, 15, 40, 32)   0           ['conv2d_51[0][0]',              \n",
      "                                                                  'conv2d_52[0][0]']              \n",
      "                                                                                                  \n",
      " conv1d_59 (Conv1D)             (None, 115, 9)       171         ['conv1d_58[0][0]']              \n",
      "                                                                                                  \n",
      " batch_normalization_16 (BatchN  (None, 15, 40, 32)  96          ['maximum_24[0][0]']             \n",
      " ormalization)                                                                                    \n",
      "                                                                                                  \n",
      " conv1d_60 (Conv1D)             (None, 115, 9)       171         ['conv1d_59[0][0]']              \n",
      "                                                                                                  \n",
      " conv2d_53 (Conv2D)             (None, 15, 40, 32)   1056        ['batch_normalization_16[0][0]'] \n",
      "                                                                                                  \n",
      " conv2d_54 (Conv2D)             (None, 15, 40, 32)   1056        ['batch_normalization_16[0][0]'] \n",
      "                                                                                                  \n",
      " conv1d_61 (Conv1D)             (None, 115, 9)       171         ['conv1d_60[0][0]']              \n",
      "                                                                                                  \n",
      " maximum_25 (Maximum)           (None, 15, 40, 32)   0           ['conv2d_53[0][0]',              \n",
      "                                                                  'conv2d_54[0][0]']              \n",
      "                                                                                                  \n",
      " conv1d_62 (Conv1D)             (None, 115, 9)       171         ['conv1d_61[0][0]']              \n",
      "                                                                                                  \n",
      " batch_normalization_17 (BatchN  (None, 15, 40, 32)  96          ['maximum_25[0][0]']             \n",
      " ormalization)                                                                                    \n",
      "                                                                                                  \n",
      " conv1d_63 (Conv1D)             (None, 115, 9)       171         ['conv1d_62[0][0]']              \n",
      "                                                                                                  \n",
      " conv2d_55 (Conv2D)             (None, 15, 40, 32)   1056        ['batch_normalization_17[0][0]'] \n",
      "                                                                                                  \n",
      " conv2d_56 (Conv2D)             (None, 15, 40, 32)   1056        ['batch_normalization_17[0][0]'] \n",
      "                                                                                                  \n",
      " conv1d_64 (Conv1D)             (None, 115, 9)       171         ['conv1d_63[0][0]']              \n",
      "                                                                                                  \n",
      " maximum_26 (Maximum)           (None, 15, 40, 32)   0           ['conv2d_55[0][0]',              \n",
      "                                                                  'conv2d_56[0][0]']              \n",
      "                                                                                                  \n",
      " age_cat (InputLayer)           [(None, 6)]          0           []                               \n",
      "                                                                                                  \n",
      " sex_cat (InputLayer)           [(None, 2)]          0           []                               \n",
      "                                                                                                  \n",
      " height_weight (InputLayer)     [(None, 2)]          0           []                               \n",
      "                                                                                                  \n",
      " loc (InputLayer)               [(None, 5)]          0           []                               \n",
      "                                                                                                  \n",
      " conv1d_65 (Conv1D)             (None, 115, 9)       171         ['conv1d_64[0][0]']              \n",
      "                                                                                                  \n",
      " max_pooling2d_11 (MaxPooling2D  (None, 7, 20, 32)   0           ['maximum_26[0][0]']             \n",
      " )                                                                                                \n",
      "                                                                                                  \n",
      " dense_12 (Dense)               (None, 2)            14          ['age_cat[0][0]']                \n",
      "                                                                                                  \n",
      " dense_13 (Dense)               (None, 1)            3           ['sex_cat[0][0]']                \n",
      "                                                                                                  \n",
      " dense_14 (Dense)               (None, 1)            3           ['height_weight[0][0]']          \n",
      "                                                                                                  \n",
      " dense_15 (Dense)               (None, 3)            18          ['loc[0][0]']                    \n",
      "                                                                                                  \n",
      " global_max_pooling1d_2 (Global  (None, 9)           0           ['conv1d_65[0][0]']              \n",
      " MaxPooling1D)                                                                                    \n",
      "                                                                                                  \n",
      " is_preg (InputLayer)           [(None, 1)]          0           []                               \n",
      "                                                                                                  \n"
     ]
    },
    {
     "name": "stdout",
     "output_type": "stream",
     "text": [
      " wav2 (InputLayer)              [(None, 128, 128, 1  0           []                               \n",
      "                                )]                                                                \n",
      "                                                                                                  \n",
      " global_average_pooling2d_5 (Gl  (None, 32)          0           ['max_pooling2d_11[0][0]']       \n",
      " obalAveragePooling2D)                                                                            \n",
      "                                                                                                  \n",
      " concatenate_4 (Concatenate)    (None, 17)           0           ['dense_12[0][0]',               \n",
      "                                                                  'dense_13[0][0]',               \n",
      "                                                                  'dense_14[0][0]',               \n",
      "                                                                  'dense_15[0][0]',               \n",
      "                                                                  'global_max_pooling1d_2[0][0]', \n",
      "                                                                  'is_preg[0][0]']                \n",
      "                                                                                                  \n",
      " conv2d_38 (Conv2D)             (None, 128, 128, 3)  30          ['wav2[0][0]']                   \n",
      "                                                                                                  \n",
      " dropout_29 (Dropout)           (None, 32)           0           ['global_average_pooling2d_5[0][0\n",
      "                                                                 ]']                              \n",
      "                                                                                                  \n",
      " dense_16 (Dense)               (None, 10)           180         ['concatenate_4[0][0]']          \n",
      "                                                                                                  \n",
      " mobilenetv2_1.00_128 (Function  (None, 1280)        2257984     ['conv2d_38[0][0]']              \n",
      " al)                                                                                              \n",
      "                                                                                                  \n",
      " concatenate_5 (Concatenate)    (None, 1322)         0           ['dropout_29[0][0]',             \n",
      "                                                                  'dense_16[0][0]',               \n",
      "                                                                  'mobilenetv2_1.00_128[0][0]']   \n",
      "                                                                                                  \n",
      " stft (InputLayer)              [(None, 1, 1, 1)]    0           []                               \n",
      "                                                                                                  \n",
      " cqt (InputLayer)               [(None, 1, 1, 1)]    0           []                               \n",
      "                                                                                                  \n",
      " dense_17 (Dense)               (None, 2)            2646        ['concatenate_5[0][0]']          \n",
      "                                                                                                  \n",
      "==================================================================================================\n",
      "Total params: 2,406,384\n",
      "Trainable params: 147,888\n",
      "Non-trainable params: 2,258,496\n",
      "__________________________________________________________________________________________________\n"
     ]
    }
   ],
   "source": [
    "model1.summary()"
   ]
  },
  {
   "cell_type": "code",
   "execution_count": 60,
   "id": "8d2279ce",
   "metadata": {
    "scrolled": true
   },
   "outputs": [
    {
     "name": "stdout",
     "output_type": "stream",
     "text": [
      "Model: \"model_3\"\n",
      "__________________________________________________________________________________________________\n",
      " Layer (type)                   Output Shape         Param #     Connected to                     \n",
      "==================================================================================================\n",
      " mel (InputLayer)               [(None, 120, 313, 1  0           []                               \n",
      "                                )]                                                                \n",
      "                                                                                                  \n",
      " conv2d_58 (Conv2D)             (None, 120, 313, 32  832         ['mel[0][0]']                    \n",
      "                                )                                                                 \n",
      "                                                                                                  \n",
      " conv2d_59 (Conv2D)             (None, 120, 313, 32  832         ['mel[0][0]']                    \n",
      "                                )                                                                 \n",
      "                                                                                                  \n",
      " maximum_27 (Maximum)           (None, 120, 313, 32  0           ['conv2d_58[0][0]',              \n",
      "                                )                                 'conv2d_59[0][0]']              \n",
      "                                                                                                  \n",
      " max_pooling2d_12 (MaxPooling2D  (None, 60, 157, 32)  0          ['maximum_27[0][0]']             \n",
      " )                                                                                                \n",
      "                                                                                                  \n",
      " conv2d_60 (Conv2D)             (None, 60, 157, 32)  1056        ['max_pooling2d_12[0][0]']       \n",
      "                                                                                                  \n",
      " conv2d_61 (Conv2D)             (None, 60, 157, 32)  1056        ['max_pooling2d_12[0][0]']       \n",
      "                                                                                                  \n",
      " maximum_28 (Maximum)           (None, 60, 157, 32)  0           ['conv2d_60[0][0]',              \n",
      "                                                                  'conv2d_61[0][0]']              \n",
      "                                                                                                  \n",
      " interval (InputLayer)          [(None, 115, 1)]     0           []                               \n",
      "                                                                                                  \n",
      " batch_normalization_18 (BatchN  (None, 60, 157, 32)  96         ['maximum_28[0][0]']             \n",
      " ormalization)                                                                                    \n",
      "                                                                                                  \n",
      " conv1d_66 (Conv1D)             (None, 115, 9)       27          ['interval[0][0]']               \n",
      "                                                                                                  \n",
      " conv2d_62 (Conv2D)             (None, 60, 157, 48)  13872       ['batch_normalization_18[0][0]'] \n",
      "                                                                                                  \n",
      " conv2d_63 (Conv2D)             (None, 60, 157, 48)  13872       ['batch_normalization_18[0][0]'] \n",
      "                                                                                                  \n",
      " conv1d_67 (Conv1D)             (None, 115, 9)       171         ['conv1d_66[0][0]']              \n",
      "                                                                                                  \n",
      " maximum_29 (Maximum)           (None, 60, 157, 48)  0           ['conv2d_62[0][0]',              \n",
      "                                                                  'conv2d_63[0][0]']              \n",
      "                                                                                                  \n",
      " conv1d_68 (Conv1D)             (None, 115, 9)       171         ['conv1d_67[0][0]']              \n",
      "                                                                                                  \n",
      " max_pooling2d_13 (MaxPooling2D  (None, 30, 79, 48)  0           ['maximum_29[0][0]']             \n",
      " )                                                                                                \n",
      "                                                                                                  \n",
      " conv1d_69 (Conv1D)             (None, 115, 9)       171         ['conv1d_68[0][0]']              \n",
      "                                                                                                  \n",
      " batch_normalization_19 (BatchN  (None, 30, 79, 48)  144         ['max_pooling2d_13[0][0]']       \n",
      " ormalization)                                                                                    \n",
      "                                                                                                  \n",
      " conv1d_70 (Conv1D)             (None, 115, 9)       171         ['conv1d_69[0][0]']              \n",
      "                                                                                                  \n",
      " conv2d_64 (Conv2D)             (None, 30, 79, 48)   2352        ['batch_normalization_19[0][0]'] \n",
      "                                                                                                  \n",
      " conv2d_65 (Conv2D)             (None, 30, 79, 48)   2352        ['batch_normalization_19[0][0]'] \n",
      "                                                                                                  \n",
      " conv1d_71 (Conv1D)             (None, 115, 9)       171         ['conv1d_70[0][0]']              \n",
      "                                                                                                  \n",
      " maximum_30 (Maximum)           (None, 30, 79, 48)   0           ['conv2d_64[0][0]',              \n",
      "                                                                  'conv2d_65[0][0]']              \n",
      "                                                                                                  \n",
      " conv1d_72 (Conv1D)             (None, 115, 9)       171         ['conv1d_71[0][0]']              \n",
      "                                                                                                  \n",
      " batch_normalization_20 (BatchN  (None, 30, 79, 48)  144         ['maximum_30[0][0]']             \n",
      " ormalization)                                                                                    \n",
      "                                                                                                  \n",
      " conv1d_73 (Conv1D)             (None, 115, 9)       171         ['conv1d_72[0][0]']              \n",
      "                                                                                                  \n",
      " conv2d_66 (Conv2D)             (None, 30, 79, 64)   27712       ['batch_normalization_20[0][0]'] \n",
      "                                                                                                  \n",
      " conv2d_67 (Conv2D)             (None, 30, 79, 64)   27712       ['batch_normalization_20[0][0]'] \n",
      "                                                                                                  \n",
      " conv1d_74 (Conv1D)             (None, 115, 9)       171         ['conv1d_73[0][0]']              \n",
      "                                                                                                  \n",
      " maximum_31 (Maximum)           (None, 30, 79, 64)   0           ['conv2d_66[0][0]',              \n",
      "                                                                  'conv2d_67[0][0]']              \n",
      "                                                                                                  \n",
      " conv1d_75 (Conv1D)             (None, 115, 9)       171         ['conv1d_74[0][0]']              \n",
      "                                                                                                  \n",
      " max_pooling2d_14 (MaxPooling2D  (None, 15, 40, 64)  0           ['maximum_31[0][0]']             \n",
      " )                                                                                                \n",
      "                                                                                                  \n"
     ]
    },
    {
     "name": "stdout",
     "output_type": "stream",
     "text": [
      " conv1d_76 (Conv1D)             (None, 115, 9)       171         ['conv1d_75[0][0]']              \n",
      "                                                                                                  \n",
      " conv2d_68 (Conv2D)             (None, 15, 40, 64)   4160        ['max_pooling2d_14[0][0]']       \n",
      "                                                                                                  \n",
      " conv2d_69 (Conv2D)             (None, 15, 40, 64)   4160        ['max_pooling2d_14[0][0]']       \n",
      "                                                                                                  \n",
      " conv1d_77 (Conv1D)             (None, 115, 9)       171         ['conv1d_76[0][0]']              \n",
      "                                                                                                  \n",
      " maximum_32 (Maximum)           (None, 15, 40, 64)   0           ['conv2d_68[0][0]',              \n",
      "                                                                  'conv2d_69[0][0]']              \n",
      "                                                                                                  \n",
      " conv1d_78 (Conv1D)             (None, 115, 9)       171         ['conv1d_77[0][0]']              \n",
      "                                                                                                  \n",
      " batch_normalization_21 (BatchN  (None, 15, 40, 64)  192         ['maximum_32[0][0]']             \n",
      " ormalization)                                                                                    \n",
      "                                                                                                  \n",
      " conv1d_79 (Conv1D)             (None, 115, 9)       171         ['conv1d_78[0][0]']              \n",
      "                                                                                                  \n",
      " conv2d_70 (Conv2D)             (None, 15, 40, 32)   18464       ['batch_normalization_21[0][0]'] \n",
      "                                                                                                  \n",
      " conv2d_71 (Conv2D)             (None, 15, 40, 32)   18464       ['batch_normalization_21[0][0]'] \n",
      "                                                                                                  \n",
      " conv1d_80 (Conv1D)             (None, 115, 9)       171         ['conv1d_79[0][0]']              \n",
      "                                                                                                  \n",
      " maximum_33 (Maximum)           (None, 15, 40, 32)   0           ['conv2d_70[0][0]',              \n",
      "                                                                  'conv2d_71[0][0]']              \n",
      "                                                                                                  \n",
      " conv1d_81 (Conv1D)             (None, 115, 9)       171         ['conv1d_80[0][0]']              \n",
      "                                                                                                  \n",
      " batch_normalization_22 (BatchN  (None, 15, 40, 32)  96          ['maximum_33[0][0]']             \n",
      " ormalization)                                                                                    \n",
      "                                                                                                  \n",
      " conv1d_82 (Conv1D)             (None, 115, 9)       171         ['conv1d_81[0][0]']              \n",
      "                                                                                                  \n",
      " conv2d_72 (Conv2D)             (None, 15, 40, 32)   1056        ['batch_normalization_22[0][0]'] \n",
      "                                                                                                  \n",
      " conv2d_73 (Conv2D)             (None, 15, 40, 32)   1056        ['batch_normalization_22[0][0]'] \n",
      "                                                                                                  \n",
      " conv1d_83 (Conv1D)             (None, 115, 9)       171         ['conv1d_82[0][0]']              \n",
      "                                                                                                  \n",
      " maximum_34 (Maximum)           (None, 15, 40, 32)   0           ['conv2d_72[0][0]',              \n",
      "                                                                  'conv2d_73[0][0]']              \n",
      "                                                                                                  \n",
      " conv1d_84 (Conv1D)             (None, 115, 9)       171         ['conv1d_83[0][0]']              \n",
      "                                                                                                  \n",
      " batch_normalization_23 (BatchN  (None, 15, 40, 32)  96          ['maximum_34[0][0]']             \n",
      " ormalization)                                                                                    \n",
      "                                                                                                  \n",
      " conv1d_85 (Conv1D)             (None, 115, 9)       171         ['conv1d_84[0][0]']              \n",
      "                                                                                                  \n",
      " conv2d_74 (Conv2D)             (None, 15, 40, 32)   1056        ['batch_normalization_23[0][0]'] \n",
      "                                                                                                  \n",
      " conv2d_75 (Conv2D)             (None, 15, 40, 32)   1056        ['batch_normalization_23[0][0]'] \n",
      "                                                                                                  \n",
      " conv1d_86 (Conv1D)             (None, 115, 9)       171         ['conv1d_85[0][0]']              \n",
      "                                                                                                  \n",
      " maximum_35 (Maximum)           (None, 15, 40, 32)   0           ['conv2d_74[0][0]',              \n",
      "                                                                  'conv2d_75[0][0]']              \n",
      "                                                                                                  \n",
      " age_cat (InputLayer)           [(None, 6)]          0           []                               \n",
      "                                                                                                  \n",
      " sex_cat (InputLayer)           [(None, 2)]          0           []                               \n",
      "                                                                                                  \n",
      " height_weight (InputLayer)     [(None, 2)]          0           []                               \n",
      "                                                                                                  \n",
      " loc (InputLayer)               [(None, 5)]          0           []                               \n",
      "                                                                                                  \n",
      " conv1d_87 (Conv1D)             (None, 115, 9)       171         ['conv1d_86[0][0]']              \n",
      "                                                                                                  \n",
      " max_pooling2d_15 (MaxPooling2D  (None, 7, 20, 32)   0           ['maximum_35[0][0]']             \n",
      " )                                                                                                \n",
      "                                                                                                  \n",
      " dense_18 (Dense)               (None, 2)            14          ['age_cat[0][0]']                \n",
      "                                                                                                  \n",
      " dense_19 (Dense)               (None, 1)            3           ['sex_cat[0][0]']                \n",
      "                                                                                                  \n",
      " dense_20 (Dense)               (None, 1)            3           ['height_weight[0][0]']          \n",
      "                                                                                                  \n",
      " dense_21 (Dense)               (None, 3)            18          ['loc[0][0]']                    \n",
      "                                                                                                  \n",
      " global_max_pooling1d_3 (Global  (None, 9)           0           ['conv1d_87[0][0]']              \n",
      " MaxPooling1D)                                                                                    \n",
      "                                                                                                  \n"
     ]
    },
    {
     "name": "stdout",
     "output_type": "stream",
     "text": [
      " is_preg (InputLayer)           [(None, 1)]          0           []                               \n",
      "                                                                                                  \n",
      " wav2 (InputLayer)              [(None, 128, 128, 1  0           []                               \n",
      "                                )]                                                                \n",
      "                                                                                                  \n",
      " global_average_pooling2d_7 (Gl  (None, 32)          0           ['max_pooling2d_15[0][0]']       \n",
      " obalAveragePooling2D)                                                                            \n",
      "                                                                                                  \n",
      " concatenate_6 (Concatenate)    (None, 17)           0           ['dense_18[0][0]',               \n",
      "                                                                  'dense_19[0][0]',               \n",
      "                                                                  'dense_20[0][0]',               \n",
      "                                                                  'dense_21[0][0]',               \n",
      "                                                                  'global_max_pooling1d_3[0][0]', \n",
      "                                                                  'is_preg[0][0]']                \n",
      "                                                                                                  \n",
      " conv2d_57 (Conv2D)             (None, 128, 128, 3)  30          ['wav2[0][0]']                   \n",
      "                                                                                                  \n",
      " dropout_30 (Dropout)           (None, 32)           0           ['global_average_pooling2d_7[0][0\n",
      "                                                                 ]']                              \n",
      "                                                                                                  \n",
      " dense_22 (Dense)               (None, 10)           180         ['concatenate_6[0][0]']          \n",
      "                                                                                                  \n",
      " mobilenetv2_1.00_128 (Function  (None, 1280)        2257984     ['conv2d_57[0][0]']              \n",
      " al)                                                                                              \n",
      "                                                                                                  \n",
      " concatenate_7 (Concatenate)    (None, 1322)         0           ['dropout_30[0][0]',             \n",
      "                                                                  'dense_22[0][0]',               \n",
      "                                                                  'mobilenetv2_1.00_128[0][0]']   \n",
      "                                                                                                  \n",
      " stft (InputLayer)              [(None, 1, 1, 1)]    0           []                               \n",
      "                                                                                                  \n",
      " cqt (InputLayer)               [(None, 1, 1, 1)]    0           []                               \n",
      "                                                                                                  \n",
      " dense_23 (Dense)               (None, 2)            2646        ['concatenate_7[0][0]']          \n",
      "                                                                                                  \n",
      "==================================================================================================\n",
      "Total params: 2,406,384\n",
      "Trainable params: 147,888\n",
      "Non-trainable params: 2,258,496\n",
      "__________________________________________________________________________________________________\n"
     ]
    }
   ],
   "source": [
    "model2.summary()"
   ]
  },
  {
   "cell_type": "code",
   "execution_count": null,
   "id": "222b2f6f",
   "metadata": {},
   "outputs": [],
   "source": []
  },
  {
   "cell_type": "code",
   "execution_count": null,
   "id": "48bbf746",
   "metadata": {},
   "outputs": [],
   "source": []
  },
  {
   "cell_type": "code",
   "execution_count": 40,
   "id": "57a145f2",
   "metadata": {
    "scrolled": false
   },
   "outputs": [
    {
     "name": "stdout",
     "output_type": "stream",
     "text": [
      "Epoch 1/100\n",
      "40/40 [==============================] - 14s 195ms/step - loss: 1.3668 - accuracy: 0.6121 - auc: 0.6555 - val_loss: 0.7826 - val_accuracy: 0.4580 - val_auc: 0.4725 - lr: 9.9851e-04\n",
      "Epoch 2/100\n",
      "40/40 [==============================] - 6s 149ms/step - loss: 0.8996 - accuracy: 0.7609 - auc: 0.8232 - val_loss: 1.2371 - val_accuracy: 0.7892 - val_auc: 0.7721 - lr: 9.9831e-04\n",
      "Epoch 3/100\n",
      "40/40 [==============================] - 6s 150ms/step - loss: 0.8481 - accuracy: 0.8035 - auc: 0.8600 - val_loss: 1.1882 - val_accuracy: 0.7892 - val_auc: 0.8067 - lr: 9.9807e-04\n",
      "Epoch 4/100\n",
      "40/40 [==============================] - 6s 149ms/step - loss: 0.8413 - accuracy: 0.7937 - auc: 0.8584 - val_loss: 1.3358 - val_accuracy: 0.7892 - val_auc: 0.7777 - lr: 9.9781e-04\n",
      "Epoch 5/100\n",
      "40/40 [==============================] - 6s 149ms/step - loss: 0.8519 - accuracy: 0.8023 - auc: 0.8479 - val_loss: 0.9368 - val_accuracy: 0.7861 - val_auc: 0.8004 - lr: 9.9750e-04\n",
      "Epoch 6/100\n",
      "40/40 [==============================] - 6s 149ms/step - loss: 0.8277 - accuracy: 0.8051 - auc: 0.8709 - val_loss: 0.6511 - val_accuracy: 0.7924 - val_auc: 0.8318 - lr: 9.9716e-04\n",
      "Epoch 7/100\n",
      "40/40 [==============================] - 6s 149ms/step - loss: 0.8475 - accuracy: 0.8133 - auc: 0.8704 - val_loss: 0.7369 - val_accuracy: 0.5008 - val_auc: 0.5714 - lr: 9.9676e-04\n",
      "Epoch 8/100\n",
      "40/40 [==============================] - 6s 149ms/step - loss: 0.8535 - accuracy: 0.8039 - auc: 0.8676 - val_loss: 0.5061 - val_accuracy: 0.7655 - val_auc: 0.8465 - lr: 9.9632e-04\n",
      "Epoch 9/100\n",
      "40/40 [==============================] - 6s 148ms/step - loss: 0.8221 - accuracy: 0.8160 - auc: 0.8715 - val_loss: 0.5207 - val_accuracy: 0.7892 - val_auc: 0.8604 - lr: 9.9581e-04\n",
      "Epoch 10/100\n",
      "40/40 [==============================] - 6s 150ms/step - loss: 0.8327 - accuracy: 0.7992 - auc: 0.8671 - val_loss: 0.5310 - val_accuracy: 0.7908 - val_auc: 0.8957 - lr: 9.9523e-04\n",
      "Epoch 11/100\n",
      "40/40 [==============================] - 6s 149ms/step - loss: 0.8218 - accuracy: 0.8109 - auc: 0.8746 - val_loss: 0.5368 - val_accuracy: 0.8003 - val_auc: 0.8948 - lr: 9.9457e-04\n",
      "Epoch 12/100\n",
      "40/40 [==============================] - 6s 149ms/step - loss: 0.8310 - accuracy: 0.8164 - auc: 0.8756 - val_loss: 0.4151 - val_accuracy: 0.8574 - val_auc: 0.9148 - lr: 9.9382e-04\n",
      "Epoch 13/100\n",
      "40/40 [==============================] - 6s 150ms/step - loss: 0.8215 - accuracy: 0.8016 - auc: 0.8711 - val_loss: 0.9860 - val_accuracy: 0.2647 - val_auc: 0.2820 - lr: 9.9297e-04\n",
      "Epoch 14/100\n",
      "40/40 [==============================] - 6s 150ms/step - loss: 0.8594 - accuracy: 0.7875 - auc: 0.8739 - val_loss: 0.3722 - val_accuracy: 0.8621 - val_auc: 0.9145 - lr: 9.9200e-04\n",
      "Epoch 15/100\n",
      "40/40 [==============================] - 6s 150ms/step - loss: 0.8317 - accuracy: 0.8121 - auc: 0.8693 - val_loss: 1.2444 - val_accuracy: 0.3043 - val_auc: 0.3014 - lr: 9.9090e-04\n",
      "Epoch 16/100\n",
      "40/40 [==============================] - 6s 149ms/step - loss: 0.8268 - accuracy: 0.8035 - auc: 0.8760 - val_loss: 0.4151 - val_accuracy: 0.8526 - val_auc: 0.9010 - lr: 9.8965e-04\n",
      "Epoch 17/100\n",
      "40/40 [==============================] - 6s 150ms/step - loss: 0.8398 - accuracy: 0.7980 - auc: 0.8703 - val_loss: 0.4086 - val_accuracy: 0.8510 - val_auc: 0.8910 - lr: 9.8823e-04\n",
      "Epoch 18/100\n",
      "40/40 [==============================] - 6s 150ms/step - loss: 0.7907 - accuracy: 0.8266 - auc: 0.8853 - val_loss: 1.2208 - val_accuracy: 0.2235 - val_auc: 0.3362 - lr: 9.8662e-04\n",
      "Epoch 19/100\n",
      "40/40 [==============================] - 6s 150ms/step - loss: 0.8300 - accuracy: 0.8051 - auc: 0.8737 - val_loss: 0.4859 - val_accuracy: 0.8368 - val_auc: 0.8967 - lr: 9.8479e-04\n",
      "Epoch 20/100\n",
      "40/40 [==============================] - 6s 150ms/step - loss: 0.8091 - accuracy: 0.8133 - auc: 0.8752 - val_loss: 0.4458 - val_accuracy: 0.8700 - val_auc: 0.9102 - lr: 9.8271e-04\n",
      "Epoch 21/100\n",
      "40/40 [==============================] - 6s 150ms/step - loss: 0.8297 - accuracy: 0.8086 - auc: 0.8809 - val_loss: 0.3924 - val_accuracy: 0.8875 - val_auc: 0.9290 - lr: 9.8036e-04\n",
      "Epoch 22/100\n",
      "40/40 [==============================] - 6s 148ms/step - loss: 0.8134 - accuracy: 0.8223 - auc: 0.8878 - val_loss: 0.3604 - val_accuracy: 0.8748 - val_auc: 0.9343 - lr: 9.7769e-04\n",
      "Epoch 23/100\n",
      "40/40 [==============================] - 6s 150ms/step - loss: 0.8272 - accuracy: 0.8098 - auc: 0.8780 - val_loss: 0.3850 - val_accuracy: 0.8558 - val_auc: 0.9137 - lr: 9.7468e-04\n",
      "Epoch 24/100\n",
      "40/40 [==============================] - 6s 151ms/step - loss: 0.8175 - accuracy: 0.8137 - auc: 0.8761 - val_loss: 0.4660 - val_accuracy: 0.8352 - val_auc: 0.8817 - lr: 9.7126e-04\n",
      "Epoch 25/100\n",
      "40/40 [==============================] - 6s 150ms/step - loss: 0.7849 - accuracy: 0.8176 - auc: 0.8911 - val_loss: 0.5323 - val_accuracy: 0.7750 - val_auc: 0.8574 - lr: 9.6740e-04\n",
      "Epoch 26/100\n",
      "40/40 [==============================] - 6s 148ms/step - loss: 0.8087 - accuracy: 0.8098 - auc: 0.8885 - val_loss: 0.5516 - val_accuracy: 0.7433 - val_auc: 0.8090 - lr: 9.6305e-04\n",
      "Epoch 27/100\n",
      "40/40 [==============================] - 6s 147ms/step - loss: 0.8241 - accuracy: 0.8082 - auc: 0.8748 - val_loss: 0.6556 - val_accuracy: 0.5816 - val_auc: 0.6170 - lr: 9.5813e-04\n",
      "Epoch 28/100\n",
      "40/40 [==============================] - 6s 150ms/step - loss: 0.8326 - accuracy: 0.8062 - auc: 0.8816 - val_loss: 0.4062 - val_accuracy: 0.8954 - val_auc: 0.9292 - lr: 9.5260e-04\n",
      "Epoch 29/100\n",
      "40/40 [==============================] - 6s 151ms/step - loss: 0.7957 - accuracy: 0.8199 - auc: 0.8794 - val_loss: 0.5720 - val_accuracy: 0.7369 - val_auc: 0.8197 - lr: 9.4637e-04\n",
      "Epoch 30/100\n",
      "40/40 [==============================] - 6s 150ms/step - loss: 0.7819 - accuracy: 0.8254 - auc: 0.8911 - val_loss: 0.8215 - val_accuracy: 0.2235 - val_auc: 0.3299 - lr: 9.3939e-04\n",
      "Epoch 31/100\n",
      "40/40 [==============================] - 6s 149ms/step - loss: 0.8033 - accuracy: 0.8133 - auc: 0.8881 - val_loss: 0.4441 - val_accuracy: 0.8780 - val_auc: 0.9505 - lr: 9.3155e-04\n",
      "Epoch 32/100\n",
      "40/40 [==============================] - 6s 151ms/step - loss: 0.7938 - accuracy: 0.8176 - auc: 0.8857 - val_loss: 0.3374 - val_accuracy: 0.8906 - val_auc: 0.9374 - lr: 9.2279e-04\n",
      "Epoch 33/100\n",
      "40/40 [==============================] - 6s 150ms/step - loss: 0.8183 - accuracy: 0.8090 - auc: 0.8783 - val_loss: 0.3727 - val_accuracy: 0.8748 - val_auc: 0.9202 - lr: 9.1301e-04\n",
      "Epoch 34/100\n",
      "40/40 [==============================] - 6s 151ms/step - loss: 0.7857 - accuracy: 0.8160 - auc: 0.8928 - val_loss: 0.3727 - val_accuracy: 0.8906 - val_auc: 0.9353 - lr: 9.0213e-04\n",
      "Epoch 35/100\n",
      "40/40 [==============================] - 6s 150ms/step - loss: 0.7940 - accuracy: 0.8250 - auc: 0.8903 - val_loss: 0.3847 - val_accuracy: 0.8542 - val_auc: 0.9184 - lr: 8.9005e-04\n",
      "Epoch 36/100\n",
      "40/40 [==============================] - 6s 150ms/step - loss: 0.7857 - accuracy: 0.8258 - auc: 0.8954 - val_loss: 1.0593 - val_accuracy: 0.2615 - val_auc: 0.3229 - lr: 8.7669e-04\n",
      "Epoch 37/100\n",
      "40/40 [==============================] - 6s 152ms/step - loss: 0.8074 - accuracy: 0.8137 - auc: 0.8981 - val_loss: 0.4445 - val_accuracy: 0.8859 - val_auc: 0.9409 - lr: 8.6196e-04\n",
      "Epoch 38/100\n",
      "40/40 [==============================] - 6s 151ms/step - loss: 0.8096 - accuracy: 0.8109 - auc: 0.8865 - val_loss: 0.4059 - val_accuracy: 0.8922 - val_auc: 0.9418 - lr: 8.4578e-04\n",
      "Epoch 39/100\n",
      "40/40 [==============================] - 6s 151ms/step - loss: 0.7917 - accuracy: 0.8145 - auc: 0.9040 - val_loss: 0.4410 - val_accuracy: 0.8479 - val_auc: 0.9174 - lr: 8.2809e-04\n",
      "Epoch 40/100\n",
      "40/40 [==============================] - 6s 153ms/step - loss: 0.7846 - accuracy: 0.8223 - auc: 0.8842 - val_loss: 0.4918 - val_accuracy: 0.7908 - val_auc: 0.8697 - lr: 8.0883e-04\n",
      "Epoch 41/100\n",
      "40/40 [==============================] - 6s 154ms/step - loss: 0.7747 - accuracy: 0.8344 - auc: 0.8962 - val_loss: 0.3645 - val_accuracy: 0.8875 - val_auc: 0.9465 - lr: 7.8798e-04\n",
      "Epoch 42/100\n",
      "40/40 [==============================] - 6s 152ms/step - loss: 0.7853 - accuracy: 0.8176 - auc: 0.8918 - val_loss: 0.3880 - val_accuracy: 0.8796 - val_auc: 0.9432 - lr: 7.6551e-04\n",
      "Epoch 43/100\n"
     ]
    },
    {
     "name": "stdout",
     "output_type": "stream",
     "text": [
      "40/40 [==============================] - 6s 154ms/step - loss: 0.7719 - accuracy: 0.8273 - auc: 0.8924 - val_loss: 0.3495 - val_accuracy: 0.8954 - val_auc: 0.9372 - lr: 7.4146e-04\n",
      "Epoch 44/100\n",
      "40/40 [==============================] - 6s 152ms/step - loss: 0.8016 - accuracy: 0.8215 - auc: 0.8974 - val_loss: 0.4673 - val_accuracy: 0.8796 - val_auc: 0.9428 - lr: 7.1587e-04\n",
      "Epoch 45/100\n",
      "40/40 [==============================] - 6s 152ms/step - loss: 0.7956 - accuracy: 0.8074 - auc: 0.8954 - val_loss: 0.3889 - val_accuracy: 0.9113 - val_auc: 0.9422 - lr: 6.8882e-04\n",
      "Epoch 46/100\n",
      "40/40 [==============================] - 6s 151ms/step - loss: 0.7862 - accuracy: 0.8180 - auc: 0.8897 - val_loss: 0.3530 - val_accuracy: 0.8748 - val_auc: 0.9277 - lr: 6.6044e-04\n",
      "Epoch 47/100\n",
      "40/40 [==============================] - 6s 152ms/step - loss: 0.7917 - accuracy: 0.8168 - auc: 0.8964 - val_loss: 0.3508 - val_accuracy: 0.8669 - val_auc: 0.9236 - lr: 6.3088e-04\n",
      "Epoch 48/100\n",
      "40/40 [==============================] - 6s 150ms/step - loss: 0.7957 - accuracy: 0.8137 - auc: 0.8926 - val_loss: 0.5550 - val_accuracy: 0.8130 - val_auc: 0.8918 - lr: 6.0032e-04\n",
      "Epoch 49/100\n",
      "40/40 [==============================] - 6s 150ms/step - loss: 0.7793 - accuracy: 0.8270 - auc: 0.8994 - val_loss: 0.3441 - val_accuracy: 0.9033 - val_auc: 0.9437 - lr: 5.6899e-04\n",
      "Epoch 50/100\n",
      "40/40 [==============================] - 6s 151ms/step - loss: 0.7493 - accuracy: 0.8328 - auc: 0.8972 - val_loss: 0.3297 - val_accuracy: 0.9128 - val_auc: 0.9452 - lr: 5.3713e-04\n",
      "Epoch 51/100\n",
      "40/40 [==============================] - 6s 153ms/step - loss: 0.7507 - accuracy: 0.8422 - auc: 0.9005 - val_loss: 0.6125 - val_accuracy: 0.6593 - val_auc: 0.7172 - lr: 5.0500e-04\n",
      "Epoch 52/100\n",
      "40/40 [==============================] - 6s 150ms/step - loss: 0.7948 - accuracy: 0.8109 - auc: 0.8912 - val_loss: 0.4030 - val_accuracy: 0.8970 - val_auc: 0.9408 - lr: 4.7287e-04\n",
      "Epoch 53/100\n",
      "40/40 [==============================] - 6s 152ms/step - loss: 0.7543 - accuracy: 0.8250 - auc: 0.8941 - val_loss: 0.3481 - val_accuracy: 0.9192 - val_auc: 0.9402 - lr: 4.4101e-04\n",
      "Epoch 54/100\n",
      "40/40 [==============================] - 6s 151ms/step - loss: 0.7795 - accuracy: 0.8164 - auc: 0.8974 - val_loss: 0.5336 - val_accuracy: 0.7734 - val_auc: 0.8496 - lr: 4.0968e-04\n",
      "Epoch 55/100\n",
      "40/40 [==============================] - 6s 151ms/step - loss: 0.7853 - accuracy: 0.8230 - auc: 0.9021 - val_loss: 0.3689 - val_accuracy: 0.8970 - val_auc: 0.9384 - lr: 3.7912e-04\n",
      "Epoch 56/100\n",
      "40/40 [==============================] - 6s 152ms/step - loss: 0.8000 - accuracy: 0.8242 - auc: 0.8929 - val_loss: 0.3879 - val_accuracy: 0.8891 - val_auc: 0.9428 - lr: 3.4956e-04\n",
      "Epoch 57/100\n",
      "40/40 [==============================] - 6s 150ms/step - loss: 0.7782 - accuracy: 0.8188 - auc: 0.9014 - val_loss: 0.7472 - val_accuracy: 0.4770 - val_auc: 0.4957 - lr: 3.2118e-04\n",
      "Epoch 58/100\n",
      "40/40 [==============================] - 6s 152ms/step - loss: 0.7875 - accuracy: 0.8199 - auc: 0.8977 - val_loss: 0.4802 - val_accuracy: 0.8447 - val_auc: 0.9067 - lr: 2.9413e-04\n",
      "Epoch 59/100\n",
      "40/40 [==============================] - 6s 151ms/step - loss: 0.7983 - accuracy: 0.8164 - auc: 0.8981 - val_loss: 0.4172 - val_accuracy: 0.8811 - val_auc: 0.9361 - lr: 2.6854e-04\n",
      "Epoch 60/100\n",
      "40/40 [==============================] - 6s 151ms/step - loss: 0.7807 - accuracy: 0.8145 - auc: 0.8958 - val_loss: 0.3803 - val_accuracy: 0.9033 - val_auc: 0.9484 - lr: 2.4449e-04\n",
      "Epoch 61/100\n",
      "40/40 [==============================] - 6s 152ms/step - loss: 0.7697 - accuracy: 0.8324 - auc: 0.9016 - val_loss: 0.3945 - val_accuracy: 0.9081 - val_auc: 0.9432 - lr: 2.2202e-04\n",
      "Epoch 62/100\n",
      "40/40 [==============================] - 6s 152ms/step - loss: 0.7609 - accuracy: 0.8293 - auc: 0.9010 - val_loss: 0.3462 - val_accuracy: 0.9097 - val_auc: 0.9448 - lr: 2.0117e-04\n",
      "Epoch 63/100\n",
      "40/40 [==============================] - 6s 152ms/step - loss: 0.7421 - accuracy: 0.8320 - auc: 0.9080 - val_loss: 0.3916 - val_accuracy: 0.8906 - val_auc: 0.9424 - lr: 1.8191e-04\n",
      "Epoch 64/100\n",
      "40/40 [==============================] - 6s 152ms/step - loss: 0.7970 - accuracy: 0.8215 - auc: 0.8970 - val_loss: 0.3950 - val_accuracy: 0.9049 - val_auc: 0.9454 - lr: 1.6422e-04\n",
      "Epoch 65/100\n",
      "40/40 [==============================] - 6s 148ms/step - loss: 0.7623 - accuracy: 0.8293 - auc: 0.9065 - val_loss: 0.3835 - val_accuracy: 0.9017 - val_auc: 0.9416 - lr: 1.4804e-04\n",
      "Epoch 66/100\n",
      "40/40 [==============================] - 6s 152ms/step - loss: 0.7428 - accuracy: 0.8348 - auc: 0.9085 - val_loss: 0.3751 - val_accuracy: 0.8970 - val_auc: 0.9422 - lr: 1.3331e-04\n",
      "Epoch 67/100\n",
      "40/40 [==============================] - 6s 151ms/step - loss: 0.7717 - accuracy: 0.8250 - auc: 0.8936 - val_loss: 0.4176 - val_accuracy: 0.8748 - val_auc: 0.9329 - lr: 1.1995e-04\n",
      "Epoch 68/100\n",
      "40/40 [==============================] - 6s 152ms/step - loss: 0.7506 - accuracy: 0.8355 - auc: 0.9065 - val_loss: 0.3559 - val_accuracy: 0.9033 - val_auc: 0.9458 - lr: 1.0787e-04\n",
      "Epoch 69/100\n",
      "40/40 [==============================] - 6s 152ms/step - loss: 0.7527 - accuracy: 0.8246 - auc: 0.9003 - val_loss: 0.3602 - val_accuracy: 0.9081 - val_auc: 0.9475 - lr: 9.6985e-05\n",
      "Epoch 70/100\n",
      "40/40 [==============================] - 6s 152ms/step - loss: 0.7553 - accuracy: 0.8367 - auc: 0.9038 - val_loss: 0.4056 - val_accuracy: 0.8922 - val_auc: 0.9434 - lr: 8.7208e-05\n",
      "Epoch 71/100\n",
      "40/40 [==============================] - 6s 152ms/step - loss: 0.7799 - accuracy: 0.8281 - auc: 0.9110 - val_loss: 0.3989 - val_accuracy: 0.8970 - val_auc: 0.9430 - lr: 7.8447e-05\n",
      "Epoch 72/100\n",
      "40/40 [==============================] - 6s 152ms/step - loss: 0.7647 - accuracy: 0.8211 - auc: 0.8967 - val_loss: 0.3898 - val_accuracy: 0.8986 - val_auc: 0.9467 - lr: 7.0614e-05\n",
      "Epoch 73/100\n",
      "40/40 [==============================] - 6s 156ms/step - loss: 0.7689 - accuracy: 0.8297 - auc: 0.9052 - val_loss: 0.3856 - val_accuracy: 0.8954 - val_auc: 0.9468 - lr: 6.3625e-05\n",
      "Epoch 74/100\n",
      "40/40 [==============================] - 6s 152ms/step - loss: 0.7389 - accuracy: 0.8391 - auc: 0.9061 - val_loss: 0.3774 - val_accuracy: 0.8986 - val_auc: 0.9469 - lr: 5.7401e-05\n",
      "Epoch 75/100\n",
      "40/40 [==============================] - 6s 152ms/step - loss: 0.7804 - accuracy: 0.8219 - auc: 0.9084 - val_loss: 0.3694 - val_accuracy: 0.9033 - val_auc: 0.9479 - lr: 5.1867e-05\n",
      "Epoch 76/100\n",
      "40/40 [==============================] - 6s 152ms/step - loss: 0.7753 - accuracy: 0.8242 - auc: 0.9049 - val_loss: 0.3662 - val_accuracy: 0.9065 - val_auc: 0.9481 - lr: 4.6954e-05\n",
      "Epoch 77/100\n",
      "40/40 [==============================] - 6s 152ms/step - loss: 0.7554 - accuracy: 0.8180 - auc: 0.9057 - val_loss: 0.3564 - val_accuracy: 0.9097 - val_auc: 0.9471 - lr: 4.2597e-05\n",
      "Epoch 78/100\n",
      "40/40 [==============================] - 6s 152ms/step - loss: 0.7472 - accuracy: 0.8336 - auc: 0.9087 - val_loss: 0.3579 - val_accuracy: 0.9017 - val_auc: 0.9454 - lr: 3.8739e-05\n",
      "Epoch 79/100\n",
      "40/40 [==============================] - 6s 151ms/step - loss: 0.7990 - accuracy: 0.8117 - auc: 0.9009 - val_loss: 0.3674 - val_accuracy: 0.9002 - val_auc: 0.9453 - lr: 3.5325e-05\n",
      "Epoch 80/100\n",
      "40/40 [==============================] - 6s 153ms/step - loss: 0.7445 - accuracy: 0.8348 - auc: 0.9092 - val_loss: 0.3692 - val_accuracy: 0.9002 - val_auc: 0.9452 - lr: 3.2307e-05\n",
      "Epoch 81/100\n",
      "40/40 [==============================] - 6s 153ms/step - loss: 0.7399 - accuracy: 0.8367 - auc: 0.9048 - val_loss: 0.3574 - val_accuracy: 0.9049 - val_auc: 0.9465 - lr: 2.9642e-05\n",
      "Epoch 82/100\n",
      "40/40 [==============================] - 6s 153ms/step - loss: 0.7538 - accuracy: 0.8250 - auc: 0.9029 - val_loss: 0.3692 - val_accuracy: 0.9049 - val_auc: 0.9468 - lr: 2.7289e-05\n",
      "Epoch 83/100\n",
      "40/40 [==============================] - 6s 154ms/step - loss: 0.7851 - accuracy: 0.8113 - auc: 0.9088 - val_loss: 0.3950 - val_accuracy: 0.9002 - val_auc: 0.9436 - lr: 2.5214e-05\n",
      "Epoch 84/100\n",
      "40/40 [==============================] - 6s 151ms/step - loss: 0.7578 - accuracy: 0.8324 - auc: 0.9040 - val_loss: 0.3976 - val_accuracy: 0.8938 - val_auc: 0.9427 - lr: 2.3384e-05\n",
      "Epoch 85/100\n"
     ]
    },
    {
     "name": "stdout",
     "output_type": "stream",
     "text": [
      "40/40 [==============================] - 6s 152ms/step - loss: 0.7618 - accuracy: 0.8277 - auc: 0.9072 - val_loss: 0.3958 - val_accuracy: 0.9002 - val_auc: 0.9427 - lr: 2.1772e-05\n",
      "Epoch 86/100\n",
      "40/40 [==============================] - 6s 152ms/step - loss: 0.7717 - accuracy: 0.8242 - auc: 0.9048 - val_loss: 0.4060 - val_accuracy: 0.8922 - val_auc: 0.9404 - lr: 2.0352e-05\n",
      "Epoch 87/100\n",
      "40/40 [==============================] - 6s 152ms/step - loss: 0.7633 - accuracy: 0.8234 - auc: 0.9017 - val_loss: 0.3969 - val_accuracy: 0.8954 - val_auc: 0.9413 - lr: 1.9102e-05\n",
      "Epoch 88/100\n",
      "40/40 [==============================] - 6s 153ms/step - loss: 0.7628 - accuracy: 0.8234 - auc: 0.9087 - val_loss: 0.4088 - val_accuracy: 0.8938 - val_auc: 0.9401 - lr: 1.8001e-05\n",
      "Epoch 89/100\n",
      "40/40 [==============================] - 6s 153ms/step - loss: 0.7729 - accuracy: 0.8277 - auc: 0.9083 - val_loss: 0.3933 - val_accuracy: 0.8970 - val_auc: 0.9416 - lr: 1.7033e-05\n",
      "Epoch 90/100\n",
      "40/40 [==============================] - 6s 152ms/step - loss: 0.7332 - accuracy: 0.8316 - auc: 0.9085 - val_loss: 0.3830 - val_accuracy: 0.9002 - val_auc: 0.9436 - lr: 1.6181e-05\n",
      "Epoch 91/100\n",
      "40/40 [==============================] - 6s 153ms/step - loss: 0.7629 - accuracy: 0.8266 - auc: 0.9042 - val_loss: 0.3827 - val_accuracy: 0.8954 - val_auc: 0.9428 - lr: 1.5431e-05\n",
      "Epoch 92/100\n",
      "40/40 [==============================] - 6s 152ms/step - loss: 0.7551 - accuracy: 0.8238 - auc: 0.9068 - val_loss: 0.3756 - val_accuracy: 0.8970 - val_auc: 0.9434 - lr: 1.4773e-05\n",
      "Epoch 93/100\n",
      "40/40 [==============================] - 6s 152ms/step - loss: 0.7928 - accuracy: 0.8227 - auc: 0.9016 - val_loss: 0.3928 - val_accuracy: 0.8891 - val_auc: 0.9402 - lr: 1.4193e-05\n",
      "Epoch 94/100\n",
      "40/40 [==============================] - 6s 151ms/step - loss: 0.7692 - accuracy: 0.8156 - auc: 0.9006 - val_loss: 0.3929 - val_accuracy: 0.8922 - val_auc: 0.9416 - lr: 1.3684e-05\n",
      "Epoch 95/100\n",
      "40/40 [==============================] - 6s 152ms/step - loss: 0.7708 - accuracy: 0.8297 - auc: 0.9067 - val_loss: 0.3902 - val_accuracy: 0.8906 - val_auc: 0.9418 - lr: 1.3236e-05\n",
      "Epoch 96/100\n",
      "40/40 [==============================] - 6s 152ms/step - loss: 0.7601 - accuracy: 0.8332 - auc: 0.9059 - val_loss: 0.3943 - val_accuracy: 0.8922 - val_auc: 0.9412 - lr: 1.2843e-05\n",
      "Epoch 97/100\n",
      "40/40 [==============================] - 6s 152ms/step - loss: 0.7425 - accuracy: 0.8270 - auc: 0.9064 - val_loss: 0.3944 - val_accuracy: 0.8938 - val_auc: 0.9425 - lr: 1.2497e-05\n",
      "Epoch 98/100\n",
      "40/40 [==============================] - 6s 153ms/step - loss: 0.7529 - accuracy: 0.8297 - auc: 0.9099 - val_loss: 0.3985 - val_accuracy: 0.8970 - val_auc: 0.9424 - lr: 1.2193e-05\n",
      "Epoch 99/100\n",
      "40/40 [==============================] - 6s 153ms/step - loss: 0.7534 - accuracy: 0.8332 - auc: 0.9074 - val_loss: 0.3900 - val_accuracy: 0.8970 - val_auc: 0.9433 - lr: 1.1927e-05\n",
      "Epoch 100/100\n",
      "40/40 [==============================] - 6s 154ms/step - loss: 0.7411 - accuracy: 0.8336 - auc: 0.9042 - val_loss: 0.3839 - val_accuracy: 0.9017 - val_auc: 0.9438 - lr: 1.1692e-05\n"
     ]
    }
   ],
   "source": [
    "n_epoch = 100\n",
    "lr = LearningRateScheduler(lambda e: sigmoidal_decay(e, end=n_epoch))\n",
    "batch_size = 64\n",
    "\n",
    "if mixup :\n",
    "    beta_param = .7\n",
    "else :\n",
    "    beta_param = 0\n",
    "    \n",
    "\n",
    "\n",
    "params = {'batch_size': batch_size,\n",
    "          #          'input_shape': (100, 313, 1),\n",
    "          'shuffle': True,\n",
    "          'chaug': chaug,\n",
    "          'beta_param': beta_param,\n",
    "          'cout': cout\n",
    "#              'mixup': mixup,\n",
    "          #          'lowpass': [.5, [11,12,13,14,15,16,17,18]]\n",
    "          #          'highpass': [.5, [78,79,80,81,82,83,84,85]]\n",
    "#              'ranfilter2' : [3, [18,19,20,21,22,23]]\n",
    "          #           'dropblock' : [30, 100]\n",
    "          #'device' : device\n",
    "}\n",
    "\n",
    "if mixup :\n",
    "    params['mixup'] = mixup\n",
    "    params['ranfilter2'] = ranfil\n",
    "else :\n",
    "    params['cutout'] = cout\n",
    "\n",
    "params_no_shuffle = {'batch_size': batch_size,\n",
    "                     #          'input_shape': (100, 313, 1),\n",
    "                     'shuffle': False,\n",
    "                     'beta_param': 0.7,\n",
    "                     'mixup': False\n",
    "                     #'device': device\n",
    "}\n",
    "\n",
    "\n",
    "# TrainDGen_1 = Generator0([features_trn['age'],features_trn['sex'], features_trn['hw'], features_trn['preg'], features_trn['loc'],\n",
    "#             features_trn['interval'],features_trn['wav2'],features_trn['mel1'],features_trn['cqt1'],features_trn['stft1']], \n",
    "#            features_trn['mm_labels'],  ## our Y\n",
    "#                         **params)()\n",
    "\n",
    "\n",
    "# ValidDGen_1 = Generator0([features_test['age'],features_test['sex'], features_test['hw'], \n",
    "#                               features_test['preg'], features_test['loc'],features_test['interval'],\n",
    "#                               features_test['wav2'], features_test['mel1'],features_test['cqt1'],features_test['stft1']], \n",
    "#                              features_test['mm_labels'],  ## our Y\n",
    "                         \n",
    "#                          **params)()\n",
    "\n",
    "\n",
    "\n",
    "\n",
    "\n",
    "if ord1 :\n",
    "    class_weight = {0: mm_weight, 1: 1.}\n",
    "else :\n",
    "    class_weight = {0: mm_weight, 1: wunknown, 2:1.}\n",
    "\n",
    "    \n",
    "    \n",
    "    \n",
    "    \n",
    "\n",
    "if mixup :\n",
    "    \n",
    "    \n",
    "    TrainDGen_1 = Generator0([features_trn['age'],features_trn['sex'], features_trn['hw'], \n",
    "                              features_trn['preg'], features_trn['loc'],features_trn['interval'],\n",
    "                              features_trn['wav2'],features_trn['mel1'],features_trn['cqt1'],\n",
    "                              features_trn['stft1']],features_trn['mm_labels'],**params)()\n",
    "    \n",
    "    model1.fit(TrainDGen_1,\n",
    "               validation_data = ([features_test['age'],features_test['sex'], features_test['hw'], \n",
    "                                   features_test['preg'], features_test['loc'],features_test['interval'],\n",
    "                                   features_test['wav2'], features_test['mel1'],features_test['cqt1'],\n",
    "                                   features_test['stft1']],features_test['mm_labels']),\n",
    "               \n",
    "               callbacks=[lr],\n",
    "               steps_per_epoch=np.ceil(len(features_trn['mm_labels'])/batch_size),\n",
    "               class_weight=class_weight, \n",
    "               epochs = n_epoch)\n",
    "    \n",
    "    \n",
    " \n",
    "\n",
    "else :\n",
    "    TrainGen = DataGenerator([features_trn['age'],features_trn['sex'], features_trn['hw'], features_trn['preg'], features_trn['loc'], \n",
    "                      features_trn['mel1'],features_trn['cqt1'],features_trn['stft1']], \n",
    "                     mm_lbs_trn,  ## our Y\n",
    "                     **params)\n",
    "    model1.fit(TrainGen,\n",
    "               validation_data = ([features_test['age'],features_test['sex'], features_test['hw'], \n",
    "                                   features_test['preg'], features_test['loc'], features_test['mel1'], \n",
    "                                   features_test['cqt1'], features_test['stft1']], \n",
    "                                  mm_lbs_test), \n",
    "               callbacks=[lr],\n",
    "               #        steps_per_epoch=np.ceil(len(mm_lbs_trn)/64),\n",
    "               class_weight=class_weight, \n",
    "               epochs = n_epoch)\n",
    "\n"
   ]
  },
  {
   "cell_type": "code",
   "execution_count": null,
   "id": "e84f3f23",
   "metadata": {},
   "outputs": [],
   "source": []
  },
  {
   "cell_type": "code",
   "execution_count": 41,
   "id": "90bdd466",
   "metadata": {
    "scrolled": true
   },
   "outputs": [
    {
     "name": "stdout",
     "output_type": "stream",
     "text": [
      "Epoch 1/100\n",
      "40/40 [==============================] - 13s 181ms/step - loss: 1.6310 - accuracy: 0.4832 - auc: 0.4851 - val_loss: 4.1739 - val_accuracy: 0.4992 - val_auc: 0.4992 - lr: 9.9851e-04\n",
      "Epoch 2/100\n",
      "40/40 [==============================] - 6s 154ms/step - loss: 1.2406 - accuracy: 0.4941 - auc: 0.5161 - val_loss: 0.9442 - val_accuracy: 0.4992 - val_auc: 0.4536 - lr: 9.9831e-04\n",
      "Epoch 3/100\n",
      "40/40 [==============================] - 6s 152ms/step - loss: 1.2305 - accuracy: 0.4750 - auc: 0.5063 - val_loss: 1.5014 - val_accuracy: 0.4992 - val_auc: 0.4915 - lr: 9.9807e-04\n",
      "Epoch 4/100\n",
      "40/40 [==============================] - 6s 152ms/step - loss: 1.2179 - accuracy: 0.4789 - auc: 0.5296 - val_loss: 1.1229 - val_accuracy: 0.4992 - val_auc: 0.5229 - lr: 9.9781e-04\n",
      "Epoch 5/100\n",
      "40/40 [==============================] - 6s 153ms/step - loss: 1.2129 - accuracy: 0.4758 - auc: 0.5233 - val_loss: 0.6872 - val_accuracy: 0.4992 - val_auc: 0.6132 - lr: 9.9750e-04\n",
      "Epoch 6/100\n",
      "40/40 [==============================] - 6s 153ms/step - loss: 1.2242 - accuracy: 0.4910 - auc: 0.5232 - val_loss: 0.7019 - val_accuracy: 0.5261 - val_auc: 0.5326 - lr: 9.9716e-04\n",
      "Epoch 7/100\n",
      "40/40 [==============================] - 6s 153ms/step - loss: 1.2039 - accuracy: 0.4844 - auc: 0.5339 - val_loss: 0.7205 - val_accuracy: 0.4992 - val_auc: 0.6043 - lr: 9.9676e-04\n",
      "Epoch 8/100\n",
      "40/40 [==============================] - 6s 152ms/step - loss: 1.2188 - accuracy: 0.4836 - auc: 0.5298 - val_loss: 0.8329 - val_accuracy: 0.5119 - val_auc: 0.6091 - lr: 9.9632e-04\n",
      "Epoch 9/100\n",
      "40/40 [==============================] - 6s 152ms/step - loss: 1.2163 - accuracy: 0.4730 - auc: 0.5227 - val_loss: 0.6927 - val_accuracy: 0.5578 - val_auc: 0.5902 - lr: 9.9581e-04\n",
      "Epoch 10/100\n",
      "40/40 [==============================] - 6s 153ms/step - loss: 1.2027 - accuracy: 0.4766 - auc: 0.5270 - val_loss: 0.6777 - val_accuracy: 0.5547 - val_auc: 0.5772 - lr: 9.9523e-04\n",
      "Epoch 11/100\n",
      "40/40 [==============================] - 6s 151ms/step - loss: 1.2251 - accuracy: 0.4922 - auc: 0.5253 - val_loss: 0.7546 - val_accuracy: 0.4992 - val_auc: 0.5706 - lr: 9.9457e-04\n",
      "Epoch 12/100\n",
      "40/40 [==============================] - 6s 153ms/step - loss: 1.2356 - accuracy: 0.4812 - auc: 0.5179 - val_loss: 0.6552 - val_accuracy: 0.5737 - val_auc: 0.6303 - lr: 9.9382e-04\n",
      "Epoch 13/100\n",
      "40/40 [==============================] - 6s 153ms/step - loss: 1.2154 - accuracy: 0.4816 - auc: 0.5328 - val_loss: 0.7600 - val_accuracy: 0.5008 - val_auc: 0.5957 - lr: 9.9297e-04\n",
      "Epoch 14/100\n",
      "40/40 [==============================] - 6s 152ms/step - loss: 1.2125 - accuracy: 0.4863 - auc: 0.5361 - val_loss: 0.9285 - val_accuracy: 0.4992 - val_auc: 0.5919 - lr: 9.9200e-04\n",
      "Epoch 15/100\n",
      "40/40 [==============================] - 6s 153ms/step - loss: 1.2057 - accuracy: 0.4805 - auc: 0.5284 - val_loss: 0.6424 - val_accuracy: 0.6292 - val_auc: 0.6823 - lr: 9.9090e-04\n",
      "Epoch 16/100\n",
      "40/40 [==============================] - 6s 152ms/step - loss: 1.2195 - accuracy: 0.4828 - auc: 0.5289 - val_loss: 0.7038 - val_accuracy: 0.5008 - val_auc: 0.5551 - lr: 9.8965e-04\n",
      "Epoch 17/100\n",
      "40/40 [==============================] - 6s 153ms/step - loss: 1.2210 - accuracy: 0.4805 - auc: 0.5222 - val_loss: 0.6674 - val_accuracy: 0.5277 - val_auc: 0.6011 - lr: 9.8823e-04\n",
      "Epoch 18/100\n",
      "40/40 [==============================] - 6s 153ms/step - loss: 1.2091 - accuracy: 0.4844 - auc: 0.5383 - val_loss: 0.7988 - val_accuracy: 0.4992 - val_auc: 0.5664 - lr: 9.8662e-04\n",
      "Epoch 19/100\n",
      "40/40 [==============================] - 6s 153ms/step - loss: 1.2326 - accuracy: 0.5012 - auc: 0.5301 - val_loss: 0.6864 - val_accuracy: 0.4976 - val_auc: 0.6139 - lr: 9.8479e-04\n",
      "Epoch 20/100\n",
      "40/40 [==============================] - 6s 153ms/step - loss: 1.2166 - accuracy: 0.4824 - auc: 0.5280 - val_loss: 0.6773 - val_accuracy: 0.5040 - val_auc: 0.6116 - lr: 9.8271e-04\n",
      "Epoch 21/100\n",
      "40/40 [==============================] - 6s 152ms/step - loss: 1.2012 - accuracy: 0.4867 - auc: 0.5535 - val_loss: 0.6951 - val_accuracy: 0.4992 - val_auc: 0.6068 - lr: 9.8036e-04\n",
      "Epoch 22/100\n",
      "40/40 [==============================] - 6s 153ms/step - loss: 1.2069 - accuracy: 0.4844 - auc: 0.5489 - val_loss: 0.6700 - val_accuracy: 0.5515 - val_auc: 0.6232 - lr: 9.7769e-04\n",
      "Epoch 23/100\n",
      "40/40 [==============================] - 6s 153ms/step - loss: 1.2134 - accuracy: 0.4887 - auc: 0.5399 - val_loss: 0.7719 - val_accuracy: 0.4992 - val_auc: 0.5950 - lr: 9.7468e-04\n",
      "Epoch 24/100\n",
      "40/40 [==============================] - 6s 152ms/step - loss: 1.2092 - accuracy: 0.4730 - auc: 0.5376 - val_loss: 0.6501 - val_accuracy: 0.6260 - val_auc: 0.6633 - lr: 9.7126e-04\n",
      "Epoch 25/100\n",
      "40/40 [==============================] - 6s 153ms/step - loss: 1.2010 - accuracy: 0.4691 - auc: 0.5357 - val_loss: 0.6734 - val_accuracy: 0.5246 - val_auc: 0.5931 - lr: 9.6740e-04\n",
      "Epoch 26/100\n",
      "40/40 [==============================] - 6s 153ms/step - loss: 1.1893 - accuracy: 0.4844 - auc: 0.5584 - val_loss: 0.6432 - val_accuracy: 0.5547 - val_auc: 0.6343 - lr: 9.6305e-04\n",
      "Epoch 27/100\n",
      "40/40 [==============================] - 6s 152ms/step - loss: 1.2042 - accuracy: 0.4859 - auc: 0.5443 - val_loss: 0.7310 - val_accuracy: 0.5261 - val_auc: 0.5211 - lr: 9.5813e-04\n",
      "Epoch 28/100\n",
      "40/40 [==============================] - 6s 154ms/step - loss: 1.1954 - accuracy: 0.4848 - auc: 0.5416 - val_loss: 0.7026 - val_accuracy: 0.5103 - val_auc: 0.6165 - lr: 9.5260e-04\n",
      "Epoch 29/100\n",
      "40/40 [==============================] - 6s 153ms/step - loss: 1.2000 - accuracy: 0.4809 - auc: 0.5518 - val_loss: 0.7420 - val_accuracy: 0.4992 - val_auc: 0.6103 - lr: 9.4637e-04\n",
      "Epoch 30/100\n",
      "40/40 [==============================] - 6s 153ms/step - loss: 1.1887 - accuracy: 0.4836 - auc: 0.5557 - val_loss: 0.7294 - val_accuracy: 0.5103 - val_auc: 0.6183 - lr: 9.3939e-04\n",
      "Epoch 31/100\n",
      "40/40 [==============================] - 6s 153ms/step - loss: 1.1942 - accuracy: 0.4891 - auc: 0.5450 - val_loss: 0.7150 - val_accuracy: 0.5040 - val_auc: 0.5842 - lr: 9.3155e-04\n",
      "Epoch 32/100\n",
      "40/40 [==============================] - 6s 153ms/step - loss: 1.1999 - accuracy: 0.4879 - auc: 0.5513 - val_loss: 0.6618 - val_accuracy: 0.5388 - val_auc: 0.6085 - lr: 9.2279e-04\n",
      "Epoch 33/100\n",
      "40/40 [==============================] - 6s 153ms/step - loss: 1.1955 - accuracy: 0.4887 - auc: 0.5574 - val_loss: 0.6542 - val_accuracy: 0.5911 - val_auc: 0.6420 - lr: 9.1301e-04\n",
      "Epoch 34/100\n",
      "40/40 [==============================] - 6s 154ms/step - loss: 1.1807 - accuracy: 0.4879 - auc: 0.5631 - val_loss: 0.6268 - val_accuracy: 0.6244 - val_auc: 0.6966 - lr: 9.0213e-04\n",
      "Epoch 35/100\n",
      "40/40 [==============================] - 6s 153ms/step - loss: 1.1979 - accuracy: 0.4938 - auc: 0.5557 - val_loss: 0.6483 - val_accuracy: 0.6101 - val_auc: 0.6812 - lr: 8.9005e-04\n",
      "Epoch 36/100\n",
      "40/40 [==============================] - 6s 152ms/step - loss: 1.1808 - accuracy: 0.4820 - auc: 0.5576 - val_loss: 0.6735 - val_accuracy: 0.5483 - val_auc: 0.6237 - lr: 8.7669e-04\n",
      "Epoch 37/100\n",
      "40/40 [==============================] - 6s 151ms/step - loss: 1.2020 - accuracy: 0.4941 - auc: 0.5530 - val_loss: 0.6552 - val_accuracy: 0.5372 - val_auc: 0.6314 - lr: 8.6196e-04\n",
      "Epoch 38/100\n",
      "40/40 [==============================] - 6s 153ms/step - loss: 1.1915 - accuracy: 0.5004 - auc: 0.5603 - val_loss: 0.8313 - val_accuracy: 0.5055 - val_auc: 0.5716 - lr: 8.4578e-04\n",
      "Epoch 39/100\n",
      "40/40 [==============================] - 6s 152ms/step - loss: 1.1873 - accuracy: 0.4926 - auc: 0.5598 - val_loss: 0.7546 - val_accuracy: 0.5135 - val_auc: 0.5855 - lr: 8.2809e-04\n",
      "Epoch 40/100\n",
      "40/40 [==============================] - 6s 154ms/step - loss: 1.1771 - accuracy: 0.4977 - auc: 0.5779 - val_loss: 0.6251 - val_accuracy: 0.6387 - val_auc: 0.7031 - lr: 8.0883e-04\n",
      "Epoch 41/100\n",
      "40/40 [==============================] - 6s 153ms/step - loss: 1.1845 - accuracy: 0.4930 - auc: 0.5639 - val_loss: 0.6332 - val_accuracy: 0.6482 - val_auc: 0.6951 - lr: 7.8798e-04\n",
      "Epoch 42/100\n",
      "40/40 [==============================] - 6s 152ms/step - loss: 1.1915 - accuracy: 0.5129 - auc: 0.5700 - val_loss: 0.8499 - val_accuracy: 0.5071 - val_auc: 0.5505 - lr: 7.6551e-04\n",
      "Epoch 43/100\n"
     ]
    },
    {
     "name": "stdout",
     "output_type": "stream",
     "text": [
      "40/40 [==============================] - 6s 153ms/step - loss: 1.2004 - accuracy: 0.4992 - auc: 0.5572 - val_loss: 0.6310 - val_accuracy: 0.6101 - val_auc: 0.6873 - lr: 7.4146e-04\n",
      "Epoch 44/100\n",
      "40/40 [==============================] - 6s 152ms/step - loss: 1.1820 - accuracy: 0.4934 - auc: 0.5648 - val_loss: 0.6413 - val_accuracy: 0.5943 - val_auc: 0.6621 - lr: 7.1587e-04\n",
      "Epoch 45/100\n",
      "40/40 [==============================] - 6s 153ms/step - loss: 1.1789 - accuracy: 0.4918 - auc: 0.5727 - val_loss: 0.7023 - val_accuracy: 0.5515 - val_auc: 0.5909 - lr: 6.8882e-04\n",
      "Epoch 46/100\n",
      "40/40 [==============================] - 6s 153ms/step - loss: 1.1816 - accuracy: 0.4977 - auc: 0.5707 - val_loss: 0.6764 - val_accuracy: 0.5483 - val_auc: 0.6184 - lr: 6.6044e-04\n",
      "Epoch 47/100\n",
      "40/40 [==============================] - 6s 153ms/step - loss: 1.1939 - accuracy: 0.4957 - auc: 0.5623 - val_loss: 0.6473 - val_accuracy: 0.6054 - val_auc: 0.6540 - lr: 6.3088e-04\n",
      "Epoch 48/100\n",
      "40/40 [==============================] - 6s 149ms/step - loss: 1.1904 - accuracy: 0.5051 - auc: 0.5754 - val_loss: 0.8753 - val_accuracy: 0.5214 - val_auc: 0.5692 - lr: 6.0032e-04\n",
      "Epoch 49/100\n",
      "40/40 [==============================] - 6s 153ms/step - loss: 1.1731 - accuracy: 0.4855 - auc: 0.5719 - val_loss: 0.6422 - val_accuracy: 0.6323 - val_auc: 0.6913 - lr: 5.6899e-04\n",
      "Epoch 50/100\n",
      "40/40 [==============================] - 6s 153ms/step - loss: 1.1899 - accuracy: 0.5098 - auc: 0.5741 - val_loss: 0.7628 - val_accuracy: 0.5166 - val_auc: 0.5849 - lr: 5.3713e-04\n",
      "Epoch 51/100\n",
      "40/40 [==============================] - 6s 153ms/step - loss: 1.1724 - accuracy: 0.5000 - auc: 0.5806 - val_loss: 0.6744 - val_accuracy: 0.5642 - val_auc: 0.6259 - lr: 5.0500e-04\n",
      "Epoch 52/100\n",
      "40/40 [==============================] - 6s 153ms/step - loss: 1.1771 - accuracy: 0.5090 - auc: 0.5755 - val_loss: 0.6341 - val_accuracy: 0.6577 - val_auc: 0.6973 - lr: 4.7287e-04\n",
      "Epoch 53/100\n",
      "40/40 [==============================] - 6s 153ms/step - loss: 1.1800 - accuracy: 0.5027 - auc: 0.5807 - val_loss: 0.6657 - val_accuracy: 0.5800 - val_auc: 0.6440 - lr: 4.4101e-04\n",
      "Epoch 54/100\n",
      "40/40 [==============================] - 6s 153ms/step - loss: 1.1652 - accuracy: 0.5023 - auc: 0.5802 - val_loss: 0.7798 - val_accuracy: 0.5230 - val_auc: 0.6021 - lr: 4.0968e-04\n",
      "Epoch 55/100\n",
      "40/40 [==============================] - 6s 153ms/step - loss: 1.1678 - accuracy: 0.5172 - auc: 0.5865 - val_loss: 0.6233 - val_accuracy: 0.6450 - val_auc: 0.7216 - lr: 3.7912e-04\n",
      "Epoch 56/100\n",
      "40/40 [==============================] - 6s 153ms/step - loss: 1.1832 - accuracy: 0.5184 - auc: 0.5777 - val_loss: 0.6048 - val_accuracy: 0.6529 - val_auc: 0.7261 - lr: 3.4956e-04\n",
      "Epoch 57/100\n",
      "40/40 [==============================] - 6s 152ms/step - loss: 1.1699 - accuracy: 0.5141 - auc: 0.5857 - val_loss: 0.6655 - val_accuracy: 0.5895 - val_auc: 0.6373 - lr: 3.2118e-04\n",
      "Epoch 58/100\n",
      "40/40 [==============================] - 6s 153ms/step - loss: 1.1805 - accuracy: 0.5094 - auc: 0.5841 - val_loss: 0.7189 - val_accuracy: 0.5357 - val_auc: 0.6034 - lr: 2.9413e-04\n",
      "Epoch 59/100\n",
      "40/40 [==============================] - 6s 152ms/step - loss: 1.1665 - accuracy: 0.4918 - auc: 0.5793 - val_loss: 0.7011 - val_accuracy: 0.5452 - val_auc: 0.6136 - lr: 2.6854e-04\n",
      "Epoch 60/100\n",
      "40/40 [==============================] - 6s 153ms/step - loss: 1.1664 - accuracy: 0.5141 - auc: 0.5963 - val_loss: 0.6194 - val_accuracy: 0.6704 - val_auc: 0.7152 - lr: 2.4449e-04\n",
      "Epoch 61/100\n",
      "40/40 [==============================] - 6s 153ms/step - loss: 1.1713 - accuracy: 0.5082 - auc: 0.5851 - val_loss: 0.7508 - val_accuracy: 0.5087 - val_auc: 0.5920 - lr: 2.2202e-04\n",
      "Epoch 62/100\n",
      "40/40 [==============================] - 6s 153ms/step - loss: 1.1525 - accuracy: 0.5000 - auc: 0.5880 - val_loss: 0.6079 - val_accuracy: 0.6513 - val_auc: 0.7222 - lr: 2.0117e-04\n",
      "Epoch 63/100\n",
      "40/40 [==============================] - 6s 153ms/step - loss: 1.1737 - accuracy: 0.5063 - auc: 0.5862 - val_loss: 0.6873 - val_accuracy: 0.5499 - val_auc: 0.6129 - lr: 1.8191e-04\n",
      "Epoch 64/100\n",
      "40/40 [==============================] - 6s 153ms/step - loss: 1.1528 - accuracy: 0.5168 - auc: 0.5951 - val_loss: 0.6126 - val_accuracy: 0.6339 - val_auc: 0.7150 - lr: 1.6422e-04\n",
      "Epoch 65/100\n",
      "40/40 [==============================] - 6s 153ms/step - loss: 1.1673 - accuracy: 0.5180 - auc: 0.5916 - val_loss: 0.6489 - val_accuracy: 0.5943 - val_auc: 0.6547 - lr: 1.4804e-04\n",
      "Epoch 66/100\n",
      "40/40 [==============================] - 6s 153ms/step - loss: 1.1531 - accuracy: 0.5035 - auc: 0.5977 - val_loss: 0.6038 - val_accuracy: 0.6577 - val_auc: 0.7325 - lr: 1.3331e-04\n",
      "Epoch 67/100\n",
      "40/40 [==============================] - 6s 153ms/step - loss: 1.1569 - accuracy: 0.5086 - auc: 0.5986 - val_loss: 0.8446 - val_accuracy: 0.5024 - val_auc: 0.5645 - lr: 1.1995e-04\n",
      "Epoch 68/100\n",
      "40/40 [==============================] - 6s 153ms/step - loss: 1.1675 - accuracy: 0.5129 - auc: 0.5964 - val_loss: 0.6911 - val_accuracy: 0.5452 - val_auc: 0.6151 - lr: 1.0787e-04\n",
      "Epoch 69/100\n",
      "40/40 [==============================] - 6s 154ms/step - loss: 1.1486 - accuracy: 0.5102 - auc: 0.5967 - val_loss: 0.6351 - val_accuracy: 0.6292 - val_auc: 0.6739 - lr: 9.6985e-05\n",
      "Epoch 70/100\n",
      "40/40 [==============================] - 6s 153ms/step - loss: 1.1666 - accuracy: 0.5270 - auc: 0.6028 - val_loss: 0.6651 - val_accuracy: 0.5864 - val_auc: 0.6314 - lr: 8.7208e-05\n",
      "Epoch 71/100\n",
      "40/40 [==============================] - 6s 154ms/step - loss: 1.1507 - accuracy: 0.5203 - auc: 0.6081 - val_loss: 0.6715 - val_accuracy: 0.5658 - val_auc: 0.6322 - lr: 7.8447e-05\n",
      "Epoch 72/100\n",
      "40/40 [==============================] - 6s 153ms/step - loss: 1.1822 - accuracy: 0.5258 - auc: 0.5928 - val_loss: 0.7016 - val_accuracy: 0.5357 - val_auc: 0.6178 - lr: 7.0614e-05\n",
      "Epoch 73/100\n",
      "40/40 [==============================] - 6s 152ms/step - loss: 1.1667 - accuracy: 0.5020 - auc: 0.5939 - val_loss: 0.6627 - val_accuracy: 0.5848 - val_auc: 0.6393 - lr: 6.3625e-05\n",
      "Epoch 74/100\n",
      "40/40 [==============================] - 6s 153ms/step - loss: 1.1537 - accuracy: 0.5133 - auc: 0.6055 - val_loss: 0.6725 - val_accuracy: 0.5737 - val_auc: 0.6341 - lr: 5.7401e-05\n",
      "Epoch 75/100\n",
      "40/40 [==============================] - 6s 153ms/step - loss: 1.1512 - accuracy: 0.5059 - auc: 0.6045 - val_loss: 0.7398 - val_accuracy: 0.5277 - val_auc: 0.5971 - lr: 5.1867e-05\n",
      "Epoch 76/100\n",
      "40/40 [==============================] - 6s 153ms/step - loss: 1.1417 - accuracy: 0.5281 - auc: 0.6163 - val_loss: 0.7175 - val_accuracy: 0.5468 - val_auc: 0.6084 - lr: 4.6954e-05\n",
      "Epoch 77/100\n",
      "40/40 [==============================] - 6s 154ms/step - loss: 1.1647 - accuracy: 0.5395 - auc: 0.6039 - val_loss: 0.7137 - val_accuracy: 0.5404 - val_auc: 0.6079 - lr: 4.2597e-05\n",
      "Epoch 78/100\n",
      "40/40 [==============================] - 6s 153ms/step - loss: 1.1481 - accuracy: 0.5141 - auc: 0.5989 - val_loss: 0.6420 - val_accuracy: 0.6244 - val_auc: 0.6639 - lr: 3.8739e-05\n",
      "Epoch 79/100\n",
      "40/40 [==============================] - 6s 151ms/step - loss: 1.1761 - accuracy: 0.5246 - auc: 0.6070 - val_loss: 0.6636 - val_accuracy: 0.5990 - val_auc: 0.6394 - lr: 3.5325e-05\n",
      "Epoch 80/100\n",
      "40/40 [==============================] - 6s 154ms/step - loss: 1.1621 - accuracy: 0.5195 - auc: 0.6000 - val_loss: 0.6628 - val_accuracy: 0.5880 - val_auc: 0.6343 - lr: 3.2307e-05\n",
      "Epoch 81/100\n",
      "40/40 [==============================] - 6s 153ms/step - loss: 1.1434 - accuracy: 0.5262 - auc: 0.6084 - val_loss: 0.6461 - val_accuracy: 0.6022 - val_auc: 0.6573 - lr: 2.9642e-05\n",
      "Epoch 82/100\n",
      "40/40 [==============================] - 6s 153ms/step - loss: 1.1648 - accuracy: 0.5320 - auc: 0.6061 - val_loss: 0.6541 - val_accuracy: 0.6149 - val_auc: 0.6483 - lr: 2.7289e-05\n",
      "Epoch 83/100\n",
      "40/40 [==============================] - 6s 153ms/step - loss: 1.1319 - accuracy: 0.5051 - auc: 0.6033 - val_loss: 0.6554 - val_accuracy: 0.5927 - val_auc: 0.6492 - lr: 2.5214e-05\n",
      "Epoch 84/100\n",
      "40/40 [==============================] - 6s 154ms/step - loss: 1.1430 - accuracy: 0.5230 - auc: 0.6186 - val_loss: 0.7233 - val_accuracy: 0.5404 - val_auc: 0.6025 - lr: 2.3384e-05\n",
      "Epoch 85/100\n"
     ]
    },
    {
     "name": "stdout",
     "output_type": "stream",
     "text": [
      "40/40 [==============================] - 6s 153ms/step - loss: 1.1687 - accuracy: 0.5262 - auc: 0.6076 - val_loss: 0.7078 - val_accuracy: 0.5483 - val_auc: 0.6068 - lr: 2.1772e-05\n",
      "Epoch 86/100\n",
      "40/40 [==============================] - 6s 153ms/step - loss: 1.1569 - accuracy: 0.5418 - auc: 0.6109 - val_loss: 0.6680 - val_accuracy: 0.5721 - val_auc: 0.6347 - lr: 2.0352e-05\n",
      "Epoch 87/100\n",
      "40/40 [==============================] - 6s 152ms/step - loss: 1.1577 - accuracy: 0.5145 - auc: 0.6036 - val_loss: 0.6917 - val_accuracy: 0.5642 - val_auc: 0.6146 - lr: 1.9102e-05\n",
      "Epoch 88/100\n",
      "40/40 [==============================] - 6s 154ms/step - loss: 1.1486 - accuracy: 0.5219 - auc: 0.6037 - val_loss: 0.6830 - val_accuracy: 0.5658 - val_auc: 0.6247 - lr: 1.8001e-05\n",
      "Epoch 89/100\n",
      "40/40 [==============================] - 6s 153ms/step - loss: 1.1598 - accuracy: 0.5117 - auc: 0.5981 - val_loss: 0.7152 - val_accuracy: 0.5404 - val_auc: 0.6043 - lr: 1.7033e-05\n",
      "Epoch 90/100\n",
      "40/40 [==============================] - 6s 154ms/step - loss: 1.1721 - accuracy: 0.5242 - auc: 0.6077 - val_loss: 0.7096 - val_accuracy: 0.5483 - val_auc: 0.6073 - lr: 1.6181e-05\n",
      "Epoch 91/100\n",
      "40/40 [==============================] - 6s 154ms/step - loss: 1.1522 - accuracy: 0.5145 - auc: 0.6024 - val_loss: 0.7146 - val_accuracy: 0.5388 - val_auc: 0.6040 - lr: 1.5431e-05\n",
      "Epoch 92/100\n",
      "40/40 [==============================] - 6s 153ms/step - loss: 1.1677 - accuracy: 0.5395 - auc: 0.6123 - val_loss: 0.7068 - val_accuracy: 0.5436 - val_auc: 0.6077 - lr: 1.4773e-05\n",
      "Epoch 93/100\n",
      "40/40 [==============================] - 6s 154ms/step - loss: 1.1512 - accuracy: 0.5254 - auc: 0.6119 - val_loss: 0.6878 - val_accuracy: 0.5626 - val_auc: 0.6200 - lr: 1.4193e-05\n",
      "Epoch 94/100\n",
      "40/40 [==============================] - 6s 153ms/step - loss: 1.1475 - accuracy: 0.5320 - auc: 0.6135 - val_loss: 0.6803 - val_accuracy: 0.5737 - val_auc: 0.6270 - lr: 1.3684e-05\n",
      "Epoch 95/100\n",
      "40/40 [==============================] - 6s 154ms/step - loss: 1.1618 - accuracy: 0.5203 - auc: 0.6075 - val_loss: 0.7024 - val_accuracy: 0.5483 - val_auc: 0.6143 - lr: 1.3236e-05\n",
      "Epoch 96/100\n",
      "40/40 [==============================] - 6s 152ms/step - loss: 1.1817 - accuracy: 0.5262 - auc: 0.5935 - val_loss: 0.7060 - val_accuracy: 0.5452 - val_auc: 0.6121 - lr: 1.2843e-05\n",
      "Epoch 97/100\n",
      "40/40 [==============================] - 6s 154ms/step - loss: 1.1504 - accuracy: 0.5176 - auc: 0.6156 - val_loss: 0.6939 - val_accuracy: 0.5642 - val_auc: 0.6172 - lr: 1.2497e-05\n",
      "Epoch 98/100\n",
      "40/40 [==============================] - 6s 153ms/step - loss: 1.1457 - accuracy: 0.5285 - auc: 0.6136 - val_loss: 0.6882 - val_accuracy: 0.5689 - val_auc: 0.6211 - lr: 1.2193e-05\n",
      "Epoch 99/100\n",
      "40/40 [==============================] - 6s 154ms/step - loss: 1.1444 - accuracy: 0.5262 - auc: 0.6110 - val_loss: 0.6995 - val_accuracy: 0.5499 - val_auc: 0.6154 - lr: 1.1927e-05\n",
      "Epoch 100/100\n",
      "40/40 [==============================] - 6s 154ms/step - loss: 1.1698 - accuracy: 0.5227 - auc: 0.6005 - val_loss: 0.6943 - val_accuracy: 0.5578 - val_auc: 0.6194 - lr: 1.1692e-05\n"
     ]
    }
   ],
   "source": [
    "n_epoch = 100\n",
    "lr = LearningRateScheduler(lambda e: sigmoidal_decay(e, end=n_epoch))\n",
    "\n",
    "batch_size = 64\n",
    "\n",
    "params = {'batch_size': batch_size,\n",
    "          #          'input_shape': (100, 313, 1),\n",
    "          'shuffle': True,\n",
    "          'chaug': 0,\n",
    "          'beta_param': beta_param,\n",
    "          'cout': cout,\n",
    "#              'mixup': True,\n",
    "          #          'lowpass': [.5, [11,12,13,14,15,16,17,18]]\n",
    "#            'highpass': [.5, [78,79,80,81,82,83,84,85]],\n",
    "#              'ranfilter2' : [3, [18,19,20,21,22,23]]\n",
    "        #           'dropblock' : [30, 100]\n",
    "          #'device' : device\n",
    "}\n",
    "\n",
    "\n",
    "\n",
    "if mixup :\n",
    "    params['mixup'] = mixup\n",
    "    params['ranfilter2'] = ranfil\n",
    "else :\n",
    "    params['cutout'] = cout\n",
    "\n",
    "\n",
    "params_no_shuffle = {'batch_size': batch_size,\n",
    "                     #          'input_shape': (100, 313, 1),\n",
    "                     'shuffle': False,\n",
    "                     'beta_param': 0.7,\n",
    "                     'mixup': False\n",
    "                     #'device': device\n",
    "}\n",
    "\n",
    "\n",
    "\n",
    "\n",
    "if mixup :\n",
    "\n",
    "    \n",
    "    class_weight = {0: oo_weight, 1: 1.}\n",
    "    TrainDGen_1 = Generator0([features_trn['age'],features_trn['sex'], features_trn['hw'], features_trn['preg'],\n",
    "                              features_trn['loc'],features_trn['interval'],features_trn['wav2'],\n",
    "                              features_trn['mel1'],features_trn['cqt1'],features_trn['stft1']],\n",
    "                             features_trn['out_labels'], **params)()\n",
    "\n",
    "    model2.fit(TrainDGen_1,\n",
    "               validation_data = ([features_test['age'],features_test['sex'], features_test['hw'],\n",
    "                                   features_test['preg'], features_test['loc'],features_test['interval'],\n",
    "                                   features_test['wav2'], features_test['mel1'],features_test['cqt1'],\n",
    "                                   features_test['stft1']],features_test['out_labels']), \n",
    "               \n",
    "               callbacks=[lr],\n",
    "               steps_per_epoch=np.ceil(len(features_trn['out_labels'])/batch_size),\n",
    "               class_weight=class_weight, \n",
    "               epochs = n_epoch)\n",
    "    \n",
    "else :\n",
    "    TrainGen = DataGenerator([features_trn['age'],features_trn['sex'], features_trn['hw'], features_trn['preg'], features_trn['loc'], \n",
    "                      features_trn['mel1'],features_trn['cqt1'],features_trn['stft1']], \n",
    "                     out_lbs_trn,  ## our Y\n",
    "                     **params)\n",
    "    model2.fit(TrainGen,\n",
    "               validation_data = ([features_test['age'],features_test['sex'], features_test['hw'],\n",
    "                                   features_test['preg'], features_test['loc'],features_test['interval'],\n",
    "                                   features_test['wav2'], features_test['mel1'],features_test['cqt1'],\n",
    "                                   features_test['stft1']],features_test['out_labels']), \n",
    "               callbacks=[lr],\n",
    "               class_weight=class_weight, \n",
    "               epochs = n_epoch)\n",
    "\n",
    "\n",
    "\n",
    "\n",
    "\n",
    "\n",
    "\n",
    "\n",
    "\n",
    "\n",
    "\n",
    "\n",
    "\n",
    "\n",
    "\n",
    "\n"
   ]
  },
  {
   "cell_type": "code",
   "execution_count": null,
   "id": "c4f69250",
   "metadata": {},
   "outputs": [],
   "source": []
  },
  {
   "cell_type": "code",
   "execution_count": 42,
   "id": "5d9abb6a",
   "metadata": {},
   "outputs": [
    {
     "data": {
      "text/plain": [
       "{'samp_sec': 20,\n",
       " 'pre_emphasis': 0,\n",
       " 'hop_length': 256,\n",
       " 'win_length': 512,\n",
       " 'n_mels': 120,\n",
       " 'filter_scale': 1,\n",
       " 'n_bins': 80,\n",
       " 'fmin': 10,\n",
       " 'maxlen1': 120000,\n",
       " 'min_dist': 500,\n",
       " 'max_interval_len': 115,\n",
       " 'trim': 1,\n",
       " 'use_mel': True,\n",
       " 'use_cqt': False,\n",
       " 'use_stft': False,\n",
       " 'use_interval': True,\n",
       " 'use_wav2': True,\n",
       " 'ord1': True,\n",
       " 'mm_mean': False,\n",
       " 'dp': 0,\n",
       " 'fc': False,\n",
       " 'ext': True,\n",
       " 'oo_weight': 3,\n",
       " 'mm_weight': 3,\n",
       " 'chaug': 10,\n",
       " 'cout': 0.8,\n",
       " 'wunknown': 1,\n",
       " 'mixup': True,\n",
       " 'n1': 0}"
      ]
     },
     "execution_count": 42,
     "metadata": {},
     "output_type": "execute_result"
    }
   ],
   "source": [
    "params_feature"
   ]
  },
  {
   "cell_type": "code",
   "execution_count": 43,
   "id": "08f47fb7",
   "metadata": {},
   "outputs": [],
   "source": [
    "params_feature['mel_shape'] = mel_input_shape\n",
    "params_feature['cqt_shape'] = cqt_input_shape\n",
    "params_feature['stft_shape'] = stft_input_shape\n",
    "params_feature['interval_input_shape'] = interval_input_shape\n",
    "params_feature['wav2_input_shape'] = wav2_input_shape"
   ]
  },
  {
   "cell_type": "code",
   "execution_count": 44,
   "id": "0122a0f8",
   "metadata": {},
   "outputs": [
    {
     "data": {
      "text/plain": [
       "{'samp_sec': 20,\n",
       " 'pre_emphasis': 0,\n",
       " 'hop_length': 256,\n",
       " 'win_length': 512,\n",
       " 'n_mels': 120,\n",
       " 'filter_scale': 1,\n",
       " 'n_bins': 80,\n",
       " 'fmin': 10,\n",
       " 'maxlen1': 120000,\n",
       " 'min_dist': 500,\n",
       " 'max_interval_len': 115,\n",
       " 'trim': 1,\n",
       " 'use_mel': True,\n",
       " 'use_cqt': False,\n",
       " 'use_stft': False,\n",
       " 'use_interval': True,\n",
       " 'use_wav2': True,\n",
       " 'ord1': True,\n",
       " 'mm_mean': False,\n",
       " 'dp': 0,\n",
       " 'fc': False,\n",
       " 'ext': True,\n",
       " 'oo_weight': 3,\n",
       " 'mm_weight': 3,\n",
       " 'chaug': 10,\n",
       " 'cout': 0.8,\n",
       " 'wunknown': 1,\n",
       " 'mixup': True,\n",
       " 'n1': 0,\n",
       " 'mel_shape': (120, 313, 1),\n",
       " 'cqt_shape': (1, 1, 1),\n",
       " 'stft_shape': (1, 1, 1),\n",
       " 'interval_input_shape': (115, 1),\n",
       " 'wav2_input_shape': (128, 128, 1)}"
      ]
     },
     "execution_count": 44,
     "metadata": {},
     "output_type": "execute_result"
    }
   ],
   "source": [
    "params_feature"
   ]
  },
  {
   "cell_type": "code",
   "execution_count": 45,
   "id": "786d2ba7",
   "metadata": {},
   "outputs": [],
   "source": [
    "import pickle as pk\n",
    "def save_challenge_model(model_folder, model1, model2, m_name1, m_name2, param_feature) :\n",
    "    os.makedirs(model_folder, exist_ok=True)\n",
    "    info_fnm = os.path.join(model_folder, 'desc.pk')\n",
    "    filename1 = os.path.join(model_folder, m_name1 + '_model1.hdf5')\n",
    "    filename2 = os.path.join(model_folder, m_name2 + '_model2.hdf5')\n",
    "    model1.save(filename1)\n",
    "    model2.save(filename2)\n",
    "    param_feature['model1'] = m_name1\n",
    "    param_feature['model2'] = m_name2\n",
    "    param_feature['model_fnm1'] = filename1\n",
    "    param_feature['model_fnm2'] = filename2\n",
    "    with open(info_fnm, 'wb') as f:\n",
    "        pk.dump(param_feature, f, pk.HIGHEST_PROTOCOL)\n",
    "    return 1\n",
    "\n",
    "    with open(info_fnm, 'wb') as f:\n",
    "        pk.dump(param_feature, f, pk.HIGHEST_PROTOCOL)\n",
    "    return 1\n",
    "    "
   ]
  },
  {
   "cell_type": "code",
   "execution_count": 46,
   "id": "6b9ae924",
   "metadata": {},
   "outputs": [
    {
     "data": {
      "text/plain": [
       "'lcnn2'"
      ]
     },
     "execution_count": 46,
     "metadata": {},
     "output_type": "execute_result"
    }
   ],
   "source": [
    "model_folder"
   ]
  },
  {
   "cell_type": "code",
   "execution_count": 47,
   "id": "ed1124d7",
   "metadata": {},
   "outputs": [
    {
     "data": {
      "text/plain": [
       "1"
      ]
     },
     "execution_count": 47,
     "metadata": {},
     "output_type": "execute_result"
    }
   ],
   "source": [
    "save_challenge_model(model_folder, model1, model2, m_name1 = 'lcnn1', m_name2 = 'lcnn2', param_feature = params_feature)"
   ]
  },
  {
   "cell_type": "code",
   "execution_count": 48,
   "id": "ba030c37",
   "metadata": {},
   "outputs": [],
   "source": [
    "def load_challenge_model(model_folder, verbose):\n",
    "    info_fnm = os.path.join(model_folder, 'desc.pk')\n",
    "    with open(info_fnm, 'rb') as f:\n",
    "        info_m = pk.load(f)\n",
    "\n",
    "    return info_m"
   ]
  },
  {
   "cell_type": "code",
   "execution_count": 77,
   "id": "19a747dc",
   "metadata": {},
   "outputs": [],
   "source": [
    "def run_challenge_model(model, data, recordings, verbose):\n",
    "    \n",
    "    murmur_classes = ['Present', 'Unknown', 'Absent']\n",
    "    outcome_classes = ['Abnormal', 'Normal']\n",
    "\n",
    "##########################################################################    \n",
    "    if model['model1'] == 'lcnn1' :\n",
    "        model1 = get_LCNN_o_4_dr_1(model['mel_shape'],model['cqt_shape'],model['stft_shape'], model['interval_input_shape'],model['wav2_input_shape']\n",
    "                                 , use_mel = model['use_mel'],use_cqt = model['use_cqt'], use_stft = model['use_stft'], \n",
    "                                 ord1 = model['ord1'], dp = model['dp'], fc = model['fc'], ext = model['ext'])    \n",
    "    if model['model1'] == 'lcnn2' :\n",
    "        model1 = get_LCNN_o_4_dr_2(model['mel_shape'],model['cqt_shape'],model['stft_shape'], model['interval_input_shape'],model['wav2_input_shape']\n",
    "                                 , use_mel = model['use_mel'],use_cqt = model['use_cqt'], use_stft = model['use_stft'], \n",
    "                                 ord1 = model['ord1'], dp = model['dp'], fc = model['fc'], ext = model['ext'])   \n",
    "    model1.load_weights(model['model_fnm1'])\n",
    "    model2.load_weights(model['model_fnm2'])\n",
    "############################################################################ \n",
    "\n",
    "\n",
    "    max_interval_len = params_feature['max_interval_len']\n",
    "    maxlen1 = params_feature['maxlen1']\n",
    "    min_dist = params_feature['min_dist']\n",
    "    \n",
    "    \n",
    "    # Load features.\n",
    "    features = get_feature_one(data, verbose = 0)\n",
    "\n",
    "    samp_sec = model['samp_sec'] \n",
    "    pre_emphasis = model['pre_emphasis']\n",
    "    hop_length = model['hop_length']\n",
    "    win_length = model['win_length']\n",
    "    n_mels = model['n_mels']\n",
    "    filter_scale = model['filter_scale']\n",
    "    n_bins = model['n_bins']\n",
    "    fmin = model['fmin']\n",
    "    trim = model['trim']\n",
    "    use_mel = model['use_mel']\n",
    "    use_cqt = model['use_cqt']\n",
    "    use_stft = model['use_stft']\n",
    "    use_interval = model['use_interval']\n",
    "    use_wav2 = model['use_wav2']\n",
    "    maxlen1 = model['maxlen1']\n",
    "    min_dist = model['min_dist']\n",
    "    max_interval_len = model['max_interval_len']\n",
    "    \n",
    "#    use_raw = model['use_raw']\n",
    "    \n",
    "\n",
    "    features['interval'] = []\n",
    "    tmp_interval=[]  \n",
    "    \n",
    "    features['wav2'] = []\n",
    "    tmp_raw = []\n",
    "    tmp=[]      \n",
    "    \n",
    "    from wav2vec2 import Wav2Vec2ForCTC, Wav2Vec2Config\n",
    "    import tensorflow as tf\n",
    "    \n",
    "    config = Wav2Vec2Config()\n",
    "    tmp_model = Wav2Vec2ForCTC(config)\n",
    "    tmp_model.trainable=False\n",
    "    \n",
    "    for i in range(len(recordings)):\n",
    "        data = recordings[i]/32768\n",
    "        tmp_raw.append(data)\n",
    "        \n",
    "    tmp_pad =pad_sequences(tmp_raw, maxlen=maxlen1, dtype='float64', padding='post', truncating='post', value=0.0)\n",
    "    tmp_pad = tmp_pad[:,np.newaxis,:]\n",
    "    \n",
    "    for i in range(len(tmp_pad)):\n",
    "        tmp_feature = tmp_model(tmp_pad[i])\n",
    "        tmp.append(tmp_feature)\n",
    "    \n",
    "    tmp=np.array(tmp, dtype=np.float32)\n",
    "    new_tmp1=tmp.reshape(-1,32,374)\n",
    "    features['wav2']=new_tmp1\n",
    "    \n",
    "    tmp_wav2 = np.zeros((len(recordings),128,128,1))\n",
    "    for i in range(len(features['wav2'])):\n",
    "        test_ary=features['wav2'][i]\n",
    "        res = resize(test_ary, (128,128,1))\n",
    "        tmp_wav2[i]=res\n",
    "    features['wav2'] = tmp_wav2\n",
    "    \n",
    "    features['wav2'] = np.array(features['wav2'])\n",
    "    \n",
    "    \n",
    "    for i in tqdm.tqdm(range(len(recordings))) :\n",
    "        datos=recordings[i]\n",
    "        filtros=sio.loadmat('./Filters1')\n",
    "        try:\n",
    "            X=datos\n",
    "            X=X[trim*3:-trim*3]\n",
    "            Fs=4000\n",
    "            \n",
    "            Fpa20=filtros['Fpa20'];\t\t\t        # High pass filter\n",
    "            Fpa20=Fpa20[0];\t\t\t\t\t# High pass filter\n",
    "            Fpb100=filtros['Fpb100'];\t\t        # Low-pass Filter\n",
    "            Fpb100=Fpb100[0];\t\t\t\t# Low-pass Filter\n",
    "            \n",
    "            Xf=FpassBand(X,Fpa20,Fpb100); \t                # Apply a passband filter\n",
    "            Xf=vec_nor(Xf);\t\t\t\n",
    "            \n",
    "                    # Derivate of the Signal\n",
    "            dX=derivate(Xf);\t\t\t\t# Derivate of the signal\n",
    "            dX=vec_nor(dX);\t\t\t\t\t# Vector Normalizing\n",
    "                    # Square of the signal\n",
    "            dy=np.square(Xf);\n",
    "            dy=vec_nor(dy);\n",
    "                    \n",
    "            size=np.shape(Xf)\t\t\t\t# Rank or dimension of the array\n",
    "            fil=size[0];\t\t\t\t\t# Number of rows\n",
    "\n",
    "            positive=np.zeros((1,fil+1));                   # Initializating Positives Values Vector \n",
    "            positive=positive[0];                           # Getting the Vector\n",
    "\n",
    "            points=np.zeros((1,fil));                       # Initializating the all Peak Points Vector\n",
    "            points=points[0];                               # Getting the point vector\n",
    "\n",
    "            peaks=np.zeros((1,fil));                        # Initializating the s1-s1 Peak Vector\n",
    "            peaks=peaks[0];                                 # Getting the point vector\n",
    "\n",
    "            \n",
    "            for i in range(0,fil):\n",
    "                if dX[i]>0:\n",
    "                    positive[i]=1;\n",
    "                else:\n",
    "                    positive[i]=0;\n",
    "\n",
    "            for i in range(0,fil):\n",
    "                if (positive[i]==1 and positive[i+1]==0):\n",
    "                    points[i]=Xf[i];\n",
    "                else:\n",
    "                    points[i]=0;\n",
    "\n",
    "            indexes=peakutils.indexes(points,thres=0.5/max(points), min_dist=min_dist);\n",
    "            lenght=np.shape(indexes)\t\t\t# Get the length of the index vector\t\t\n",
    "            lenght=lenght[0];\t\t\t\t# Get the value of the index vector\n",
    "\n",
    "            for i in range(0,lenght):\n",
    "                p=indexes[i];\n",
    "                peaks[p]=points[p];\n",
    "        \n",
    "            n=np.arange(0,fil);                            # Vector to the X axes (Number of Samples)\n",
    "            \n",
    "            tmp_peaks = np.diff(indexes)\n",
    "                    \n",
    "            tmp_interval.append(tmp_peaks)\n",
    "                    \n",
    "           \n",
    "        except:\n",
    "            print(i)\n",
    "            tmp_peaks = np.zeros(maxlen)\n",
    "            tmp_interval.append(tmp_peaks)\n",
    "                    \n",
    "     \n",
    "    padded =pad_sequences(tmp_interval, maxlen=max_interval_len, dtype='float64', padding='post', truncating='post', value=0.0)\n",
    "        \n",
    "    for i in range(len(padded)):\n",
    "        features['interval'].append(padded[i])\n",
    "        \n",
    "        \n",
    "    for i in range(len(features['interval'])):\n",
    "        features['interval'][i] = np.array(features['interval'][i])\n",
    "        \n",
    "    features['interval'] = np.array(features['interval'])\n",
    "    \n",
    "    \n",
    "    \n",
    "    features['mel1'] = []\n",
    "    for i in range(len(recordings)) :\n",
    "        if use_mel :\n",
    "            mel1 = feature_extract_melspec(recordings[i]/ 32768, samp_sec=samp_sec, pre_emphasis = pre_emphasis, hop_length=hop_length, \n",
    "                                           win_length = win_length, n_mels = n_mels)[0]\n",
    "        else :\n",
    "            mel1 = np.zeros( (1,1) )\n",
    "            \n",
    "        features['mel1'].append(mel1)\n",
    "        \n",
    "    M, N = features['mel1'][0].shape\n",
    "    \n",
    "    if use_mel :\n",
    "        for i in range(len(features['mel1'])) :\n",
    "            features['mel1'][i] = features['mel1'][i].reshape(M,N,1)   \n",
    "    \n",
    "    features['mel1'] = np.array(features['mel1'])\n",
    "\n",
    "    \n",
    "  \n",
    "    features['cqt1'] = []\n",
    "    for i in range(len(recordings)) :\n",
    "        if use_cqt :\n",
    "            mel1 = feature_extract_cqt(recordings[i], samp_sec=samp_sec, pre_emphasis = pre_emphasis, filter_scale = filter_scale, \n",
    "                                        n_bins = n_bins, fmin = fmin)[0]\n",
    "        else:\n",
    "            mel1 = np.zeros( (1,1,1) )\n",
    "            \n",
    "        features['cqt1'].append(mel1)\n",
    "        \n",
    "    M, N,__ = features['cqt1'][0].shape\n",
    "    \n",
    "    if use_cqt :\n",
    "        for i in range(len(features['cqt1'])) :\n",
    "            features['cqt1'][i] = features['cqt1'][i].reshape(M,N,1)   \n",
    "    \n",
    "    features['cqt1'] = np.array(features['cqt1'])\n",
    "    \n",
    "    \n",
    "    features['stft1'] = []\n",
    "    for i in range(len(recordings)) :\n",
    "        if use_stft :\n",
    "            mel1 = feature_extract_stft(recordings[i]/ 32768, samp_sec=samp_sec, pre_emphasis = pre_emphasis, hop_length=hop_length, \n",
    "                                        win_length = win_length)[0]\n",
    "        else :\n",
    "            mel1 = np.zeros( (1,1,1) )\n",
    "        \n",
    "        features['stft1'].append(mel1)\n",
    "        \n",
    "    M, N,__ = features['stft1'][0].shape\n",
    "    if use_stft :\n",
    "        for i in range(len(features['stft1'])) :\n",
    "            features['stft1'][i] = features['stft1'][i].reshape(M,N,1)           \n",
    "    features['stft1'] = np.array(features['stft1'])\n",
    "    \n",
    "#     return features       \n",
    "\n",
    "    #    print(features)\n",
    "    # Impute missing data.\n",
    "    res1 = model1.predict([features['age'], features['sex'], features['hw'], features['preg'], \n",
    "                           features['loc'], features['interval'],features['wav2'],features['mel1'], features['stft1'], features['cqt1']])\n",
    "    res2 = model2.predict([features['age'], features['sex'], features['hw'], features['preg'], \n",
    "                           features['loc'], features['interval'],features['wav2'],features['mel1'], features['stft1'], features['cqt1']])\n",
    "    if model['ord1'] :\n",
    "        idx1 = res1.argmax(axis=0)[0]\n",
    "        murmur_p = res1[idx1,]  ## mumur 확률 최대화 되는 애 뽑기\n",
    "        murmur_probabilities = np.zeros((3,))\n",
    "        murmur_probabilities[0] = murmur_p[0]\n",
    "        murmur_probabilities[1] = 0\n",
    "        murmur_probabilities[2] = murmur_p[1]\n",
    "        outcome_probabilities = res2.mean(axis = 0) ##  outcome 은 그냥 평균으로 뽑기\n",
    "    else :\n",
    "        if model['mm_mean'] :\n",
    "            murmur_probabilities = res1.mean(axis = 0)\n",
    "        else :\n",
    "            idx1 = res1.argmax(axis=0)[0]\n",
    "            murmur_probabilities = res1[idx1,]  ## mumur 확률 최대화 되는 애 뽑기\n",
    "        outcome_probabilities = res2.mean(axis = 0) ##  outcome 은 그냥 평균으로 뽑기\n",
    "\n",
    "        \n",
    "    murmur_labels = np.zeros(len(murmur_classes), dtype=np.int_)\n",
    "    \n",
    "    \n",
    "    if murmur_probabilities[0] > 0.482 :\n",
    "        idx = 0\n",
    "    else :\n",
    "        idx = 2\n",
    "    murmur_labels[idx] = 1\n",
    "\n",
    "    outcome_labels = np.zeros(len(outcome_classes), dtype=np.int_)\n",
    "    if outcome_probabilities[0] > 0.607 :\n",
    "        idx = 0\n",
    "    else :\n",
    "        idx = 1    \n",
    "        # idx = np.argmax(outcome_probabilities)\n",
    "    outcome_labels[idx] = 1\n",
    "    \n",
    "    # Concatenate classes, labels, and probabilities.\n",
    "    classes = murmur_classes + outcome_classes\n",
    "    labels = np.concatenate((murmur_labels, outcome_labels))\n",
    "    probabilities = np.concatenate((murmur_probabilities, outcome_probabilities))\n",
    "    \n",
    "    return classes, labels, probabilities"
   ]
  },
  {
   "cell_type": "code",
   "execution_count": 78,
   "id": "b5eecd4a",
   "metadata": {
    "scrolled": true
   },
   "outputs": [
    {
     "data": {
      "text/plain": [
       "'lcnn2'"
      ]
     },
     "execution_count": 78,
     "metadata": {},
     "output_type": "execute_result"
    }
   ],
   "source": [
    "model_folder"
   ]
  },
  {
   "cell_type": "code",
   "execution_count": 79,
   "id": "cd5b523f",
   "metadata": {},
   "outputs": [],
   "source": [
    "data_folder = test_folder"
   ]
  },
  {
   "cell_type": "code",
   "execution_count": 80,
   "id": "1f523ff0",
   "metadata": {},
   "outputs": [
    {
     "data": {
      "text/plain": [
       "'/home/jk21/Downloads/Data/data/murmur/test'"
      ]
     },
     "execution_count": 80,
     "metadata": {},
     "output_type": "execute_result"
    }
   ],
   "source": [
    "data_folder"
   ]
  },
  {
   "cell_type": "code",
   "execution_count": 81,
   "id": "c67ffdf6",
   "metadata": {},
   "outputs": [],
   "source": [
    "output_folder ='/home/jk21/Documents/hmd/jk_classifier/out_lcnn2'"
   ]
  },
  {
   "cell_type": "code",
   "execution_count": 82,
   "id": "89e8d650",
   "metadata": {},
   "outputs": [],
   "source": [
    "allow_failures=True"
   ]
  },
  {
   "cell_type": "code",
   "execution_count": 83,
   "id": "bccc27ef",
   "metadata": {},
   "outputs": [],
   "source": [
    "verbose=1"
   ]
  },
  {
   "cell_type": "code",
   "execution_count": null,
   "id": "101c582c",
   "metadata": {},
   "outputs": [],
   "source": []
  },
  {
   "cell_type": "code",
   "execution_count": 84,
   "id": "73579324",
   "metadata": {},
   "outputs": [],
   "source": [
    "model = load_challenge_model(model_folder, verbose)"
   ]
  },
  {
   "cell_type": "code",
   "execution_count": 85,
   "id": "20a7edc2",
   "metadata": {},
   "outputs": [],
   "source": [
    "patient_files = find_patient_files(data_folder)"
   ]
  },
  {
   "cell_type": "code",
   "execution_count": 86,
   "id": "450b3026",
   "metadata": {},
   "outputs": [],
   "source": [
    "num_patient_files = len(patient_files)"
   ]
  },
  {
   "cell_type": "code",
   "execution_count": 87,
   "id": "2ed2bb8f",
   "metadata": {},
   "outputs": [],
   "source": [
    "patient_data = load_patient_data(patient_files[0])"
   ]
  },
  {
   "cell_type": "code",
   "execution_count": 88,
   "id": "18f0a77e",
   "metadata": {},
   "outputs": [
    {
     "data": {
      "text/plain": [
       "'33151 4 4000\\nAV 33151_AV.hea 33151_AV.wav 33151_AV.tsv\\nPV 33151_PV.hea 33151_PV.wav 33151_PV.tsv\\nTV 33151_TV.hea 33151_TV.wav 33151_TV.tsv\\nMV 33151_MV.hea 33151_MV.wav 33151_MV.tsv\\n#Age: Child\\n#Sex: Female\\n#Height: 141.0\\n#Weight: 30.9\\n#Pregnancy status: False\\n#Murmur: Present\\n#Murmur locations: MV+TV\\n#Most audible location: TV\\n#Systolic murmur timing: Holosystolic\\n#Systolic murmur shape: Plateau\\n#Systolic murmur grading: I/VI\\n#Systolic murmur pitch: Low\\n#Systolic murmur quality: Harsh\\n#Diastolic murmur timing: nan\\n#Diastolic murmur shape: nan\\n#Diastolic murmur grading: nan\\n#Diastolic murmur pitch: nan\\n#Diastolic murmur quality: nan\\n#Outcome: Abnormal\\n#Campaign: CC2015\\n#Additional ID: nan\\n'"
      ]
     },
     "execution_count": 88,
     "metadata": {},
     "output_type": "execute_result"
    }
   ],
   "source": [
    "patient_data"
   ]
  },
  {
   "cell_type": "code",
   "execution_count": 89,
   "id": "f039e162",
   "metadata": {},
   "outputs": [],
   "source": [
    "recordings = load_recordings(data_folder, patient_data)"
   ]
  },
  {
   "cell_type": "code",
   "execution_count": 90,
   "id": "d3acd534",
   "metadata": {},
   "outputs": [
    {
     "name": "stderr",
     "output_type": "stream",
     "text": [
      "100%|█████████████████████████████████████████████| 4/4 [00:00<00:00,  7.16it/s]\n"
     ]
    }
   ],
   "source": [
    "classes, labels, probabilities = run_challenge_model(model, patient_data, recordings, verbose)"
   ]
  },
  {
   "cell_type": "code",
   "execution_count": 91,
   "id": "970b87e5",
   "metadata": {},
   "outputs": [
    {
     "data": {
      "text/plain": [
       "['Present', 'Unknown', 'Absent', 'Abnormal', 'Normal']"
      ]
     },
     "execution_count": 91,
     "metadata": {},
     "output_type": "execute_result"
    }
   ],
   "source": [
    "classes"
   ]
  },
  {
   "cell_type": "code",
   "execution_count": 92,
   "id": "b6a44c38",
   "metadata": {},
   "outputs": [],
   "source": [
    "# Run model.\n",
    "def run_model(model_folder, data_folder, output_folder, allow_failures, verbose=1):\n",
    "    # Load models.\n",
    "    if verbose >= 1:\n",
    "        print('Loading Challenge model...')\n",
    "\n",
    "    model = load_challenge_model(model_folder, verbose) ### Teams: Implement this function!!!\n",
    "\n",
    "    # Find the patient data files.\n",
    "    patient_files = find_patient_files(data_folder)\n",
    "    num_patient_files = len(patient_files)\n",
    "\n",
    "    if num_patient_files==0:\n",
    "        raise Exception('No data was provided.')\n",
    "\n",
    "    # Create a folder for the Challenge outputs if it does not already exist.\n",
    "    os.makedirs(output_folder, exist_ok=True)\n",
    "\n",
    "    # Run the team's model on the Challenge data.\n",
    "    if verbose >= 1:\n",
    "        print('Running model on Challenge data...')\n",
    "\n",
    "    # Iterate over the patient files.\n",
    "    for i in range(num_patient_files):\n",
    "        if verbose >= 2:\n",
    "            print('    {}/{}...'.format(i+1, num_patient_files))\n",
    "\n",
    "        patient_data = load_patient_data(patient_files[i])\n",
    "        recordings = load_recordings(data_folder, patient_data)\n",
    "\n",
    "        # Allow or disallow the model to fail on parts of the data; helpful for debugging.\n",
    "        try:\n",
    "            classes, labels, probabilities = run_challenge_model(model, patient_data, recordings, verbose) ### Teams: Implement this function!!!\n",
    "        except:\n",
    "            if allow_failures:\n",
    "                if verbose >= 2:\n",
    "                    print('... failed.')\n",
    "                classes, labels, probabilities = list(), list(), list()\n",
    "            else:\n",
    "                raise\n",
    "\n",
    "        # Save Challenge outputs.\n",
    "        head, tail = os.path.split(patient_files[i])\n",
    "        root, extension = os.path.splitext(tail)\n",
    "        output_file = os.path.join(output_folder, root + '.csv')\n",
    "        patient_id = get_patient_id(patient_data)\n",
    "        save_challenge_outputs(output_file, patient_id, classes, labels, probabilities)\n",
    "\n",
    "    if verbose >= 1:\n",
    "        print('Done.')"
   ]
  },
  {
   "cell_type": "code",
   "execution_count": 93,
   "id": "7fe188c6",
   "metadata": {},
   "outputs": [
    {
     "data": {
      "text/plain": [
       "'/home/jk21/Downloads/Data/data/murmur/test'"
      ]
     },
     "execution_count": 93,
     "metadata": {},
     "output_type": "execute_result"
    }
   ],
   "source": [
    "test_folder"
   ]
  },
  {
   "cell_type": "code",
   "execution_count": 94,
   "id": "38ee9f70",
   "metadata": {},
   "outputs": [],
   "source": [
    "output_folder = '/home/jk21/Documents/hmd/jk_classifier/out_lcnn2'"
   ]
  },
  {
   "cell_type": "code",
   "execution_count": 95,
   "id": "d4be81f7",
   "metadata": {},
   "outputs": [
    {
     "name": "stdout",
     "output_type": "stream",
     "text": [
      "Loading Challenge model...\n",
      "Running model on Challenge data...\n",
      "    1/191...\n"
     ]
    },
    {
     "name": "stderr",
     "output_type": "stream",
     "text": [
      "100%|█████████████████████████████████████████████| 4/4 [00:00<00:00,  7.23it/s]\n"
     ]
    },
    {
     "name": "stdout",
     "output_type": "stream",
     "text": [
      "    2/191...\n"
     ]
    },
    {
     "name": "stderr",
     "output_type": "stream",
     "text": [
      "100%|█████████████████████████████████████████████| 2/2 [00:00<00:00,  6.93it/s]\n"
     ]
    },
    {
     "name": "stdout",
     "output_type": "stream",
     "text": [
      "    3/191...\n"
     ]
    },
    {
     "name": "stderr",
     "output_type": "stream",
     "text": [
      "100%|█████████████████████████████████████████████| 4/4 [00:00<00:00,  5.38it/s]\n"
     ]
    },
    {
     "name": "stdout",
     "output_type": "stream",
     "text": [
      "WARNING:tensorflow:5 out of the last 7 calls to <function Model.make_predict_function.<locals>.predict_function at 0x7fd30ff5bca0> triggered tf.function retracing. Tracing is expensive and the excessive number of tracings could be due to (1) creating @tf.function repeatedly in a loop, (2) passing tensors with different shapes, (3) passing Python objects instead of tensors. For (1), please define your @tf.function outside of the loop. For (2), @tf.function has experimental_relax_shapes=True option that relaxes argument shapes that can avoid unnecessary retracing. For (3), please refer to https://www.tensorflow.org/guide/function#controlling_retracing and https://www.tensorflow.org/api_docs/python/tf/function for  more details.\n",
      "    4/191...\n"
     ]
    },
    {
     "name": "stderr",
     "output_type": "stream",
     "text": [
      "100%|█████████████████████████████████████████████| 2/2 [00:00<00:00,  4.20it/s]\n"
     ]
    },
    {
     "name": "stdout",
     "output_type": "stream",
     "text": [
      "WARNING:tensorflow:6 out of the last 9 calls to <function Model.make_predict_function.<locals>.predict_function at 0x7fd310a0d940> triggered tf.function retracing. Tracing is expensive and the excessive number of tracings could be due to (1) creating @tf.function repeatedly in a loop, (2) passing tensors with different shapes, (3) passing Python objects instead of tensors. For (1), please define your @tf.function outside of the loop. For (2), @tf.function has experimental_relax_shapes=True option that relaxes argument shapes that can avoid unnecessary retracing. For (3), please refer to https://www.tensorflow.org/guide/function#controlling_retracing and https://www.tensorflow.org/api_docs/python/tf/function for  more details.\n",
      "    5/191...\n"
     ]
    },
    {
     "name": "stderr",
     "output_type": "stream",
     "text": [
      "100%|█████████████████████████████████████████████| 3/3 [00:00<00:00,  4.25it/s]\n"
     ]
    },
    {
     "name": "stdout",
     "output_type": "stream",
     "text": [
      "    6/191...\n"
     ]
    },
    {
     "name": "stderr",
     "output_type": "stream",
     "text": [
      "100%|█████████████████████████████████████████████| 1/1 [00:00<00:00,  2.98it/s]\n"
     ]
    },
    {
     "name": "stdout",
     "output_type": "stream",
     "text": [
      "    7/191...\n"
     ]
    },
    {
     "name": "stderr",
     "output_type": "stream",
     "text": [
      "100%|█████████████████████████████████████████████| 4/4 [00:00<00:00,  4.35it/s]\n"
     ]
    },
    {
     "name": "stdout",
     "output_type": "stream",
     "text": [
      "    8/191...\n"
     ]
    },
    {
     "name": "stderr",
     "output_type": "stream",
     "text": [
      "100%|█████████████████████████████████████████████| 4/4 [00:00<00:00,  7.00it/s]\n"
     ]
    },
    {
     "name": "stdout",
     "output_type": "stream",
     "text": [
      "    9/191...\n"
     ]
    },
    {
     "name": "stderr",
     "output_type": "stream",
     "text": [
      "100%|█████████████████████████████████████████████| 4/4 [00:00<00:00,  4.31it/s]\n"
     ]
    },
    {
     "name": "stdout",
     "output_type": "stream",
     "text": [
      "    10/191...\n"
     ]
    },
    {
     "name": "stderr",
     "output_type": "stream",
     "text": [
      "100%|█████████████████████████████████████████████| 4/4 [00:00<00:00,  4.16it/s]\n"
     ]
    },
    {
     "name": "stdout",
     "output_type": "stream",
     "text": [
      "    11/191...\n"
     ]
    },
    {
     "name": "stderr",
     "output_type": "stream",
     "text": [
      "100%|█████████████████████████████████████████████| 4/4 [00:00<00:00,  4.18it/s]\n"
     ]
    },
    {
     "name": "stdout",
     "output_type": "stream",
     "text": [
      "    12/191...\n"
     ]
    },
    {
     "name": "stderr",
     "output_type": "stream",
     "text": [
      "100%|█████████████████████████████████████████████| 2/2 [00:00<00:00,  3.94it/s]\n"
     ]
    },
    {
     "name": "stdout",
     "output_type": "stream",
     "text": [
      "    13/191...\n"
     ]
    },
    {
     "name": "stderr",
     "output_type": "stream",
     "text": [
      "100%|█████████████████████████████████████████████| 3/3 [00:00<00:00,  5.68it/s]\n"
     ]
    },
    {
     "name": "stdout",
     "output_type": "stream",
     "text": [
      "    14/191...\n"
     ]
    },
    {
     "name": "stderr",
     "output_type": "stream",
     "text": [
      "100%|█████████████████████████████████████████████| 4/4 [00:00<00:00,  4.12it/s]\n"
     ]
    },
    {
     "name": "stdout",
     "output_type": "stream",
     "text": [
      "    15/191...\n"
     ]
    },
    {
     "name": "stderr",
     "output_type": "stream",
     "text": [
      "100%|█████████████████████████████████████████████| 2/2 [00:00<00:00,  3.68it/s]\n"
     ]
    },
    {
     "name": "stdout",
     "output_type": "stream",
     "text": [
      "    16/191...\n"
     ]
    },
    {
     "name": "stderr",
     "output_type": "stream",
     "text": [
      "100%|█████████████████████████████████████████████| 4/4 [00:00<00:00,  5.15it/s]\n"
     ]
    },
    {
     "name": "stdout",
     "output_type": "stream",
     "text": [
      "    17/191...\n"
     ]
    },
    {
     "name": "stderr",
     "output_type": "stream",
     "text": [
      "100%|█████████████████████████████████████████████| 5/5 [00:00<00:00,  6.88it/s]\n"
     ]
    },
    {
     "name": "stdout",
     "output_type": "stream",
     "text": [
      "    18/191...\n"
     ]
    },
    {
     "name": "stderr",
     "output_type": "stream",
     "text": [
      "100%|█████████████████████████████████████████████| 1/1 [00:00<00:00,  7.92it/s]\n"
     ]
    },
    {
     "name": "stdout",
     "output_type": "stream",
     "text": [
      "    19/191...\n"
     ]
    },
    {
     "name": "stderr",
     "output_type": "stream",
     "text": [
      "100%|█████████████████████████████████████████████| 4/4 [00:00<00:00,  6.39it/s]\n"
     ]
    },
    {
     "name": "stdout",
     "output_type": "stream",
     "text": [
      "    20/191...\n"
     ]
    },
    {
     "name": "stderr",
     "output_type": "stream",
     "text": [
      "100%|█████████████████████████████████████████████| 4/4 [00:00<00:00,  7.04it/s]\n"
     ]
    },
    {
     "name": "stdout",
     "output_type": "stream",
     "text": [
      "    21/191...\n"
     ]
    },
    {
     "name": "stderr",
     "output_type": "stream",
     "text": [
      "100%|█████████████████████████████████████████████| 2/2 [00:00<00:00,  3.81it/s]\n"
     ]
    },
    {
     "name": "stdout",
     "output_type": "stream",
     "text": [
      "    22/191...\n"
     ]
    },
    {
     "name": "stderr",
     "output_type": "stream",
     "text": [
      "100%|█████████████████████████████████████████████| 1/1 [00:00<00:00,  5.64it/s]\n"
     ]
    },
    {
     "name": "stdout",
     "output_type": "stream",
     "text": [
      "    23/191...\n"
     ]
    },
    {
     "name": "stderr",
     "output_type": "stream",
     "text": [
      "100%|█████████████████████████████████████████████| 2/2 [00:00<00:00,  4.29it/s]\n"
     ]
    },
    {
     "name": "stdout",
     "output_type": "stream",
     "text": [
      "    24/191...\n"
     ]
    },
    {
     "name": "stderr",
     "output_type": "stream",
     "text": [
      "100%|█████████████████████████████████████████████| 3/3 [00:00<00:00,  4.11it/s]\n"
     ]
    },
    {
     "name": "stdout",
     "output_type": "stream",
     "text": [
      "    25/191...\n"
     ]
    },
    {
     "name": "stderr",
     "output_type": "stream",
     "text": [
      "100%|█████████████████████████████████████████████| 4/4 [00:00<00:00,  4.81it/s]\n"
     ]
    },
    {
     "name": "stdout",
     "output_type": "stream",
     "text": [
      "    26/191...\n"
     ]
    },
    {
     "name": "stderr",
     "output_type": "stream",
     "text": [
      "100%|█████████████████████████████████████████████| 3/3 [00:00<00:00,  3.35it/s]\n"
     ]
    },
    {
     "name": "stdout",
     "output_type": "stream",
     "text": [
      "    27/191...\n"
     ]
    },
    {
     "name": "stderr",
     "output_type": "stream",
     "text": [
      "100%|█████████████████████████████████████████████| 2/2 [00:00<00:00,  3.93it/s]\n"
     ]
    },
    {
     "name": "stdout",
     "output_type": "stream",
     "text": [
      "    28/191...\n"
     ]
    },
    {
     "name": "stderr",
     "output_type": "stream",
     "text": [
      "100%|█████████████████████████████████████████████| 3/3 [00:00<00:00,  4.79it/s]\n"
     ]
    },
    {
     "name": "stdout",
     "output_type": "stream",
     "text": [
      "    29/191...\n"
     ]
    },
    {
     "name": "stderr",
     "output_type": "stream",
     "text": [
      "100%|█████████████████████████████████████████████| 3/3 [00:00<00:00,  3.97it/s]\n"
     ]
    },
    {
     "name": "stdout",
     "output_type": "stream",
     "text": [
      "    30/191...\n"
     ]
    },
    {
     "name": "stderr",
     "output_type": "stream",
     "text": [
      "100%|█████████████████████████████████████████████| 4/4 [00:00<00:00,  4.62it/s]\n"
     ]
    },
    {
     "name": "stdout",
     "output_type": "stream",
     "text": [
      "    31/191...\n"
     ]
    },
    {
     "name": "stderr",
     "output_type": "stream",
     "text": [
      "100%|█████████████████████████████████████████████| 3/3 [00:00<00:00,  4.90it/s]\n"
     ]
    },
    {
     "name": "stdout",
     "output_type": "stream",
     "text": [
      "    32/191...\n"
     ]
    },
    {
     "name": "stderr",
     "output_type": "stream",
     "text": [
      "100%|█████████████████████████████████████████████| 2/2 [00:00<00:00,  4.13it/s]\n"
     ]
    },
    {
     "name": "stdout",
     "output_type": "stream",
     "text": [
      "    33/191...\n"
     ]
    },
    {
     "name": "stderr",
     "output_type": "stream",
     "text": [
      "100%|█████████████████████████████████████████████| 1/1 [00:00<00:00,  3.43it/s]\n"
     ]
    },
    {
     "name": "stdout",
     "output_type": "stream",
     "text": [
      "    34/191...\n"
     ]
    },
    {
     "name": "stderr",
     "output_type": "stream",
     "text": [
      "100%|█████████████████████████████████████████████| 3/3 [00:00<00:00,  4.16it/s]\n"
     ]
    },
    {
     "name": "stdout",
     "output_type": "stream",
     "text": [
      "    35/191...\n"
     ]
    },
    {
     "name": "stderr",
     "output_type": "stream",
     "text": [
      "100%|█████████████████████████████████████████████| 3/3 [00:00<00:00,  3.92it/s]\n"
     ]
    },
    {
     "name": "stdout",
     "output_type": "stream",
     "text": [
      "    36/191...\n"
     ]
    },
    {
     "name": "stderr",
     "output_type": "stream",
     "text": [
      "100%|█████████████████████████████████████████████| 3/3 [00:00<00:00,  5.66it/s]\n"
     ]
    },
    {
     "name": "stdout",
     "output_type": "stream",
     "text": [
      "    37/191...\n"
     ]
    },
    {
     "name": "stderr",
     "output_type": "stream",
     "text": [
      "100%|█████████████████████████████████████████████| 3/3 [00:00<00:00,  6.26it/s]\n"
     ]
    },
    {
     "name": "stdout",
     "output_type": "stream",
     "text": [
      "    38/191...\n"
     ]
    },
    {
     "name": "stderr",
     "output_type": "stream",
     "text": [
      "100%|█████████████████████████████████████████████| 5/5 [00:01<00:00,  4.39it/s]\n"
     ]
    },
    {
     "name": "stdout",
     "output_type": "stream",
     "text": [
      "    39/191...\n"
     ]
    },
    {
     "name": "stderr",
     "output_type": "stream",
     "text": [
      "100%|█████████████████████████████████████████████| 4/4 [00:00<00:00,  4.07it/s]\n"
     ]
    },
    {
     "name": "stdout",
     "output_type": "stream",
     "text": [
      "    40/191...\n"
     ]
    },
    {
     "name": "stderr",
     "output_type": "stream",
     "text": [
      "100%|█████████████████████████████████████████████| 2/2 [00:00<00:00,  3.84it/s]\n"
     ]
    },
    {
     "name": "stdout",
     "output_type": "stream",
     "text": [
      "    41/191...\n"
     ]
    },
    {
     "name": "stderr",
     "output_type": "stream",
     "text": [
      "100%|█████████████████████████████████████████████| 4/4 [00:00<00:00,  5.99it/s]\n"
     ]
    },
    {
     "name": "stdout",
     "output_type": "stream",
     "text": [
      "    42/191...\n"
     ]
    },
    {
     "name": "stderr",
     "output_type": "stream",
     "text": [
      "100%|█████████████████████████████████████████████| 3/3 [00:00<00:00,  4.48it/s]\n"
     ]
    },
    {
     "name": "stdout",
     "output_type": "stream",
     "text": [
      "    43/191...\n"
     ]
    },
    {
     "name": "stderr",
     "output_type": "stream",
     "text": [
      "100%|█████████████████████████████████████████████| 3/3 [00:00<00:00,  5.52it/s]\n"
     ]
    },
    {
     "name": "stdout",
     "output_type": "stream",
     "text": [
      "    44/191...\n"
     ]
    },
    {
     "name": "stderr",
     "output_type": "stream",
     "text": [
      "100%|█████████████████████████████████████████████| 2/2 [00:00<00:00,  3.65it/s]\n"
     ]
    },
    {
     "name": "stdout",
     "output_type": "stream",
     "text": [
      "    45/191...\n"
     ]
    },
    {
     "name": "stderr",
     "output_type": "stream",
     "text": [
      "100%|█████████████████████████████████████████████| 4/4 [00:00<00:00,  4.17it/s]\n"
     ]
    },
    {
     "name": "stdout",
     "output_type": "stream",
     "text": [
      "    46/191...\n"
     ]
    },
    {
     "name": "stderr",
     "output_type": "stream",
     "text": [
      "100%|█████████████████████████████████████████████| 4/4 [00:00<00:00,  4.61it/s]\n"
     ]
    },
    {
     "name": "stdout",
     "output_type": "stream",
     "text": [
      "    47/191...\n"
     ]
    },
    {
     "name": "stderr",
     "output_type": "stream",
     "text": [
      "100%|█████████████████████████████████████████████| 4/4 [00:00<00:00,  4.49it/s]\n"
     ]
    },
    {
     "name": "stdout",
     "output_type": "stream",
     "text": [
      "    48/191...\n"
     ]
    },
    {
     "name": "stderr",
     "output_type": "stream",
     "text": [
      "100%|█████████████████████████████████████████████| 4/4 [00:00<00:00,  4.15it/s]\n"
     ]
    },
    {
     "name": "stdout",
     "output_type": "stream",
     "text": [
      "    49/191...\n"
     ]
    },
    {
     "name": "stderr",
     "output_type": "stream",
     "text": [
      "100%|█████████████████████████████████████████████| 2/2 [00:00<00:00,  4.07it/s]\n"
     ]
    },
    {
     "name": "stdout",
     "output_type": "stream",
     "text": [
      "    50/191...\n"
     ]
    },
    {
     "name": "stderr",
     "output_type": "stream",
     "text": [
      "100%|█████████████████████████████████████████████| 2/2 [00:00<00:00,  4.26it/s]\n"
     ]
    },
    {
     "name": "stdout",
     "output_type": "stream",
     "text": [
      "    51/191...\n"
     ]
    },
    {
     "name": "stderr",
     "output_type": "stream",
     "text": [
      "100%|█████████████████████████████████████████████| 2/2 [00:00<00:00,  5.54it/s]\n"
     ]
    },
    {
     "name": "stdout",
     "output_type": "stream",
     "text": [
      "    52/191...\n"
     ]
    },
    {
     "name": "stderr",
     "output_type": "stream",
     "text": [
      "100%|█████████████████████████████████████████████| 5/5 [00:00<00:00,  5.39it/s]\n"
     ]
    },
    {
     "name": "stdout",
     "output_type": "stream",
     "text": [
      "    53/191...\n"
     ]
    },
    {
     "name": "stderr",
     "output_type": "stream",
     "text": [
      "100%|█████████████████████████████████████████████| 2/2 [00:00<00:00,  4.00it/s]\n"
     ]
    },
    {
     "name": "stdout",
     "output_type": "stream",
     "text": [
      "    54/191...\n"
     ]
    },
    {
     "name": "stderr",
     "output_type": "stream",
     "text": [
      "100%|█████████████████████████████████████████████| 4/4 [00:01<00:00,  3.78it/s]\n"
     ]
    },
    {
     "name": "stdout",
     "output_type": "stream",
     "text": [
      "    55/191...\n"
     ]
    },
    {
     "name": "stderr",
     "output_type": "stream",
     "text": [
      "100%|█████████████████████████████████████████████| 4/4 [00:00<00:00,  4.31it/s]\n"
     ]
    },
    {
     "name": "stdout",
     "output_type": "stream",
     "text": [
      "    56/191...\n"
     ]
    },
    {
     "name": "stderr",
     "output_type": "stream",
     "text": [
      "100%|█████████████████████████████████████████████| 4/4 [00:00<00:00,  4.10it/s]\n"
     ]
    },
    {
     "name": "stdout",
     "output_type": "stream",
     "text": [
      "    57/191...\n"
     ]
    },
    {
     "name": "stderr",
     "output_type": "stream",
     "text": [
      "100%|█████████████████████████████████████████████| 2/2 [00:00<00:00,  3.72it/s]\n"
     ]
    },
    {
     "name": "stdout",
     "output_type": "stream",
     "text": [
      "    58/191...\n"
     ]
    },
    {
     "name": "stderr",
     "output_type": "stream",
     "text": [
      "100%|█████████████████████████████████████████████| 1/1 [00:00<00:00,  3.62it/s]\n"
     ]
    },
    {
     "name": "stdout",
     "output_type": "stream",
     "text": [
      "    59/191...\n"
     ]
    },
    {
     "name": "stderr",
     "output_type": "stream",
     "text": [
      "100%|█████████████████████████████████████████████| 3/3 [00:00<00:00,  4.02it/s]\n"
     ]
    },
    {
     "name": "stdout",
     "output_type": "stream",
     "text": [
      "    60/191...\n"
     ]
    },
    {
     "name": "stderr",
     "output_type": "stream",
     "text": [
      "100%|█████████████████████████████████████████████| 2/2 [00:00<00:00,  4.22it/s]\n"
     ]
    },
    {
     "name": "stdout",
     "output_type": "stream",
     "text": [
      "    61/191...\n"
     ]
    },
    {
     "name": "stderr",
     "output_type": "stream",
     "text": [
      "100%|█████████████████████████████████████████████| 2/2 [00:00<00:00,  4.04it/s]\n"
     ]
    },
    {
     "name": "stdout",
     "output_type": "stream",
     "text": [
      "    62/191...\n"
     ]
    },
    {
     "name": "stderr",
     "output_type": "stream",
     "text": [
      "100%|█████████████████████████████████████████████| 5/5 [00:01<00:00,  3.79it/s]\n"
     ]
    },
    {
     "name": "stdout",
     "output_type": "stream",
     "text": [
      "    63/191...\n"
     ]
    },
    {
     "name": "stderr",
     "output_type": "stream",
     "text": [
      "100%|█████████████████████████████████████████████| 4/4 [00:01<00:00,  3.95it/s]\n"
     ]
    },
    {
     "name": "stdout",
     "output_type": "stream",
     "text": [
      "    64/191...\n"
     ]
    },
    {
     "name": "stderr",
     "output_type": "stream",
     "text": [
      "100%|█████████████████████████████████████████████| 2/2 [00:00<00:00,  3.78it/s]\n"
     ]
    },
    {
     "name": "stdout",
     "output_type": "stream",
     "text": [
      "    65/191...\n"
     ]
    },
    {
     "name": "stderr",
     "output_type": "stream",
     "text": [
      "100%|█████████████████████████████████████████████| 1/1 [00:00<00:00,  4.57it/s]\n"
     ]
    },
    {
     "name": "stdout",
     "output_type": "stream",
     "text": [
      "    66/191...\n"
     ]
    },
    {
     "name": "stderr",
     "output_type": "stream",
     "text": [
      "100%|█████████████████████████████████████████████| 3/3 [00:00<00:00,  3.95it/s]\n"
     ]
    },
    {
     "name": "stdout",
     "output_type": "stream",
     "text": [
      "    67/191...\n"
     ]
    },
    {
     "name": "stderr",
     "output_type": "stream",
     "text": [
      "100%|█████████████████████████████████████████████| 4/4 [00:00<00:00,  4.17it/s]\n"
     ]
    },
    {
     "name": "stdout",
     "output_type": "stream",
     "text": [
      "    68/191...\n"
     ]
    },
    {
     "name": "stderr",
     "output_type": "stream",
     "text": [
      "100%|█████████████████████████████████████████████| 4/4 [00:00<00:00,  4.18it/s]\n"
     ]
    },
    {
     "name": "stdout",
     "output_type": "stream",
     "text": [
      "    69/191...\n"
     ]
    },
    {
     "name": "stderr",
     "output_type": "stream",
     "text": [
      "100%|█████████████████████████████████████████████| 4/4 [00:01<00:00,  3.99it/s]\n"
     ]
    },
    {
     "name": "stdout",
     "output_type": "stream",
     "text": [
      "    70/191...\n"
     ]
    },
    {
     "name": "stderr",
     "output_type": "stream",
     "text": [
      "100%|█████████████████████████████████████████████| 5/5 [00:02<00:00,  2.27it/s]\n"
     ]
    },
    {
     "name": "stdout",
     "output_type": "stream",
     "text": [
      "    71/191...\n"
     ]
    },
    {
     "name": "stderr",
     "output_type": "stream",
     "text": [
      "100%|█████████████████████████████████████████████| 3/3 [00:00<00:00,  3.56it/s]\n"
     ]
    },
    {
     "name": "stdout",
     "output_type": "stream",
     "text": [
      "    72/191...\n"
     ]
    },
    {
     "name": "stderr",
     "output_type": "stream",
     "text": [
      "100%|█████████████████████████████████████████████| 4/4 [00:00<00:00,  5.26it/s]\n"
     ]
    },
    {
     "name": "stdout",
     "output_type": "stream",
     "text": [
      "    73/191...\n"
     ]
    },
    {
     "name": "stderr",
     "output_type": "stream",
     "text": [
      "100%|█████████████████████████████████████████████| 4/4 [00:00<00:00,  4.54it/s]\n"
     ]
    },
    {
     "name": "stdout",
     "output_type": "stream",
     "text": [
      "    74/191...\n"
     ]
    },
    {
     "name": "stderr",
     "output_type": "stream",
     "text": [
      "100%|█████████████████████████████████████████████| 4/4 [00:00<00:00,  4.25it/s]\n"
     ]
    },
    {
     "name": "stdout",
     "output_type": "stream",
     "text": [
      "    75/191...\n"
     ]
    },
    {
     "name": "stderr",
     "output_type": "stream",
     "text": [
      "100%|█████████████████████████████████████████████| 3/3 [00:00<00:00,  4.14it/s]\n"
     ]
    },
    {
     "name": "stdout",
     "output_type": "stream",
     "text": [
      "    76/191...\n"
     ]
    },
    {
     "name": "stderr",
     "output_type": "stream",
     "text": [
      "100%|█████████████████████████████████████████████| 4/4 [00:00<00:00,  4.11it/s]\n"
     ]
    },
    {
     "name": "stdout",
     "output_type": "stream",
     "text": [
      "    77/191...\n"
     ]
    },
    {
     "name": "stderr",
     "output_type": "stream",
     "text": [
      "100%|█████████████████████████████████████████████| 4/4 [00:00<00:00,  4.30it/s]\n"
     ]
    },
    {
     "name": "stdout",
     "output_type": "stream",
     "text": [
      "    78/191...\n"
     ]
    },
    {
     "name": "stderr",
     "output_type": "stream",
     "text": [
      "100%|█████████████████████████████████████████████| 4/4 [00:00<00:00,  4.35it/s]\n"
     ]
    },
    {
     "name": "stdout",
     "output_type": "stream",
     "text": [
      "    79/191...\n"
     ]
    },
    {
     "name": "stderr",
     "output_type": "stream",
     "text": [
      "100%|█████████████████████████████████████████████| 1/1 [00:00<00:00,  5.39it/s]\n"
     ]
    },
    {
     "name": "stdout",
     "output_type": "stream",
     "text": [
      "    80/191...\n"
     ]
    },
    {
     "name": "stderr",
     "output_type": "stream",
     "text": [
      "100%|█████████████████████████████████████████████| 2/2 [00:00<00:00,  4.36it/s]\n"
     ]
    },
    {
     "name": "stdout",
     "output_type": "stream",
     "text": [
      "    81/191...\n"
     ]
    },
    {
     "name": "stderr",
     "output_type": "stream",
     "text": [
      "100%|█████████████████████████████████████████████| 4/4 [00:00<00:00, 11.81it/s]\n"
     ]
    },
    {
     "name": "stdout",
     "output_type": "stream",
     "text": [
      "    82/191...\n"
     ]
    },
    {
     "name": "stderr",
     "output_type": "stream",
     "text": [
      "100%|█████████████████████████████████████████████| 4/4 [00:00<00:00,  5.47it/s]\n"
     ]
    },
    {
     "name": "stdout",
     "output_type": "stream",
     "text": [
      "    83/191...\n"
     ]
    },
    {
     "name": "stderr",
     "output_type": "stream",
     "text": [
      "100%|█████████████████████████████████████████████| 4/4 [00:00<00:00,  4.66it/s]\n"
     ]
    },
    {
     "name": "stdout",
     "output_type": "stream",
     "text": [
      "    84/191...\n"
     ]
    },
    {
     "name": "stderr",
     "output_type": "stream",
     "text": [
      "100%|█████████████████████████████████████████████| 4/4 [00:00<00:00,  6.75it/s]\n"
     ]
    },
    {
     "name": "stdout",
     "output_type": "stream",
     "text": [
      "    85/191...\n"
     ]
    },
    {
     "name": "stderr",
     "output_type": "stream",
     "text": [
      "100%|█████████████████████████████████████████████| 1/1 [00:00<00:00,  4.72it/s]\n"
     ]
    },
    {
     "name": "stdout",
     "output_type": "stream",
     "text": [
      "    86/191...\n"
     ]
    },
    {
     "name": "stderr",
     "output_type": "stream",
     "text": [
      "100%|█████████████████████████████████████████████| 3/3 [00:00<00:00,  7.83it/s]\n"
     ]
    },
    {
     "name": "stdout",
     "output_type": "stream",
     "text": [
      "    87/191...\n"
     ]
    },
    {
     "name": "stderr",
     "output_type": "stream",
     "text": [
      "100%|█████████████████████████████████████████████| 4/4 [00:00<00:00,  6.07it/s]\n"
     ]
    },
    {
     "name": "stdout",
     "output_type": "stream",
     "text": [
      "    88/191...\n"
     ]
    },
    {
     "name": "stderr",
     "output_type": "stream",
     "text": [
      "100%|█████████████████████████████████████████████| 4/4 [00:00<00:00,  9.51it/s]\n"
     ]
    },
    {
     "name": "stdout",
     "output_type": "stream",
     "text": [
      "    89/191...\n"
     ]
    },
    {
     "name": "stderr",
     "output_type": "stream",
     "text": [
      "100%|█████████████████████████████████████████████| 4/4 [00:00<00:00,  4.84it/s]\n"
     ]
    },
    {
     "name": "stdout",
     "output_type": "stream",
     "text": [
      "    90/191...\n"
     ]
    },
    {
     "name": "stderr",
     "output_type": "stream",
     "text": [
      "100%|█████████████████████████████████████████████| 2/2 [00:00<00:00,  5.45it/s]\n"
     ]
    },
    {
     "name": "stdout",
     "output_type": "stream",
     "text": [
      "    91/191...\n"
     ]
    },
    {
     "name": "stderr",
     "output_type": "stream",
     "text": [
      "100%|█████████████████████████████████████████████| 4/4 [00:00<00:00,  6.45it/s]\n"
     ]
    },
    {
     "name": "stdout",
     "output_type": "stream",
     "text": [
      "    92/191...\n"
     ]
    },
    {
     "name": "stderr",
     "output_type": "stream",
     "text": [
      "100%|█████████████████████████████████████████████| 3/3 [00:00<00:00,  5.78it/s]\n"
     ]
    },
    {
     "name": "stdout",
     "output_type": "stream",
     "text": [
      "    93/191...\n"
     ]
    },
    {
     "name": "stderr",
     "output_type": "stream",
     "text": [
      "100%|█████████████████████████████████████████████| 4/4 [00:00<00:00,  5.71it/s]\n"
     ]
    },
    {
     "name": "stdout",
     "output_type": "stream",
     "text": [
      "    94/191...\n"
     ]
    },
    {
     "name": "stderr",
     "output_type": "stream",
     "text": [
      "100%|█████████████████████████████████████████████| 4/4 [00:00<00:00,  9.85it/s]\n"
     ]
    },
    {
     "name": "stdout",
     "output_type": "stream",
     "text": [
      "    95/191...\n"
     ]
    },
    {
     "name": "stderr",
     "output_type": "stream",
     "text": [
      "100%|█████████████████████████████████████████████| 4/4 [00:00<00:00,  4.74it/s]\n"
     ]
    },
    {
     "name": "stdout",
     "output_type": "stream",
     "text": [
      "    96/191...\n"
     ]
    },
    {
     "name": "stderr",
     "output_type": "stream",
     "text": [
      "100%|█████████████████████████████████████████████| 4/4 [00:00<00:00,  8.76it/s]\n"
     ]
    },
    {
     "name": "stdout",
     "output_type": "stream",
     "text": [
      "    97/191...\n"
     ]
    },
    {
     "name": "stderr",
     "output_type": "stream",
     "text": [
      "100%|█████████████████████████████████████████████| 4/4 [00:00<00:00, 11.23it/s]\n"
     ]
    },
    {
     "name": "stdout",
     "output_type": "stream",
     "text": [
      "    98/191...\n"
     ]
    },
    {
     "name": "stderr",
     "output_type": "stream",
     "text": [
      "100%|█████████████████████████████████████████████| 4/4 [00:00<00:00,  8.18it/s]\n"
     ]
    },
    {
     "name": "stdout",
     "output_type": "stream",
     "text": [
      "    99/191...\n"
     ]
    },
    {
     "name": "stderr",
     "output_type": "stream",
     "text": [
      "100%|█████████████████████████████████████████████| 4/4 [00:00<00:00,  5.37it/s]\n"
     ]
    },
    {
     "name": "stdout",
     "output_type": "stream",
     "text": [
      "    100/191...\n"
     ]
    },
    {
     "name": "stderr",
     "output_type": "stream",
     "text": [
      "100%|█████████████████████████████████████████████| 3/3 [00:00<00:00,  6.28it/s]\n"
     ]
    },
    {
     "name": "stdout",
     "output_type": "stream",
     "text": [
      "    101/191...\n"
     ]
    },
    {
     "name": "stderr",
     "output_type": "stream",
     "text": [
      "100%|█████████████████████████████████████████████| 4/4 [00:00<00:00,  6.49it/s]\n"
     ]
    },
    {
     "name": "stdout",
     "output_type": "stream",
     "text": [
      "    102/191...\n"
     ]
    },
    {
     "name": "stderr",
     "output_type": "stream",
     "text": [
      "100%|█████████████████████████████████████████████| 4/4 [00:00<00:00,  5.63it/s]\n"
     ]
    },
    {
     "name": "stdout",
     "output_type": "stream",
     "text": [
      "    103/191...\n"
     ]
    },
    {
     "name": "stderr",
     "output_type": "stream",
     "text": [
      "100%|█████████████████████████████████████████████| 4/4 [00:00<00:00,  5.34it/s]\n"
     ]
    },
    {
     "name": "stdout",
     "output_type": "stream",
     "text": [
      "    104/191...\n"
     ]
    },
    {
     "name": "stderr",
     "output_type": "stream",
     "text": [
      "100%|█████████████████████████████████████████████| 4/4 [00:00<00:00, 11.16it/s]\n"
     ]
    },
    {
     "name": "stdout",
     "output_type": "stream",
     "text": [
      "    105/191...\n"
     ]
    },
    {
     "name": "stderr",
     "output_type": "stream",
     "text": [
      "100%|█████████████████████████████████████████████| 4/4 [00:00<00:00,  5.62it/s]\n"
     ]
    },
    {
     "name": "stdout",
     "output_type": "stream",
     "text": [
      "    106/191...\n"
     ]
    },
    {
     "name": "stderr",
     "output_type": "stream",
     "text": [
      "100%|█████████████████████████████████████████████| 4/4 [00:00<00:00,  5.26it/s]\n"
     ]
    },
    {
     "name": "stdout",
     "output_type": "stream",
     "text": [
      "    107/191...\n"
     ]
    },
    {
     "name": "stderr",
     "output_type": "stream",
     "text": [
      "100%|█████████████████████████████████████████████| 4/4 [00:00<00:00,  8.22it/s]\n"
     ]
    },
    {
     "name": "stdout",
     "output_type": "stream",
     "text": [
      "    108/191...\n"
     ]
    },
    {
     "name": "stderr",
     "output_type": "stream",
     "text": [
      "100%|█████████████████████████████████████████████| 2/2 [00:00<00:00,  4.68it/s]\n"
     ]
    },
    {
     "name": "stdout",
     "output_type": "stream",
     "text": [
      "    109/191...\n"
     ]
    },
    {
     "name": "stderr",
     "output_type": "stream",
     "text": [
      "100%|█████████████████████████████████████████████| 4/4 [00:00<00:00,  7.82it/s]\n"
     ]
    },
    {
     "name": "stdout",
     "output_type": "stream",
     "text": [
      "    110/191...\n"
     ]
    },
    {
     "name": "stderr",
     "output_type": "stream",
     "text": [
      "100%|█████████████████████████████████████████████| 4/4 [00:00<00:00,  8.96it/s]\n"
     ]
    },
    {
     "name": "stdout",
     "output_type": "stream",
     "text": [
      "    111/191...\n"
     ]
    },
    {
     "name": "stderr",
     "output_type": "stream",
     "text": [
      "100%|█████████████████████████████████████████████| 4/4 [00:00<00:00,  6.22it/s]\n"
     ]
    },
    {
     "name": "stdout",
     "output_type": "stream",
     "text": [
      "    112/191...\n"
     ]
    },
    {
     "name": "stderr",
     "output_type": "stream",
     "text": [
      "100%|█████████████████████████████████████████████| 1/1 [00:00<00:00,  5.61it/s]\n"
     ]
    },
    {
     "name": "stdout",
     "output_type": "stream",
     "text": [
      "    113/191...\n"
     ]
    },
    {
     "name": "stderr",
     "output_type": "stream",
     "text": [
      "100%|█████████████████████████████████████████████| 4/4 [00:00<00:00,  7.83it/s]\n"
     ]
    },
    {
     "name": "stdout",
     "output_type": "stream",
     "text": [
      "    114/191...\n"
     ]
    },
    {
     "name": "stderr",
     "output_type": "stream",
     "text": [
      "100%|█████████████████████████████████████████████| 2/2 [00:00<00:00,  5.05it/s]\n"
     ]
    },
    {
     "name": "stdout",
     "output_type": "stream",
     "text": [
      "    115/191...\n"
     ]
    },
    {
     "name": "stderr",
     "output_type": "stream",
     "text": [
      "100%|█████████████████████████████████████████████| 4/4 [00:00<00:00,  9.09it/s]\n"
     ]
    },
    {
     "name": "stdout",
     "output_type": "stream",
     "text": [
      "    116/191...\n"
     ]
    },
    {
     "name": "stderr",
     "output_type": "stream",
     "text": [
      "100%|█████████████████████████████████████████████| 1/1 [00:00<00:00,  6.89it/s]\n"
     ]
    },
    {
     "name": "stdout",
     "output_type": "stream",
     "text": [
      "    117/191...\n"
     ]
    },
    {
     "name": "stderr",
     "output_type": "stream",
     "text": [
      "100%|█████████████████████████████████████████████| 4/4 [00:00<00:00,  6.91it/s]\n"
     ]
    },
    {
     "name": "stdout",
     "output_type": "stream",
     "text": [
      "    118/191...\n"
     ]
    },
    {
     "name": "stderr",
     "output_type": "stream",
     "text": [
      "100%|█████████████████████████████████████████████| 4/4 [00:00<00:00,  6.31it/s]\n"
     ]
    },
    {
     "name": "stdout",
     "output_type": "stream",
     "text": [
      "    119/191...\n"
     ]
    },
    {
     "name": "stderr",
     "output_type": "stream",
     "text": [
      "100%|█████████████████████████████████████████████| 4/4 [00:00<00:00,  8.12it/s]\n"
     ]
    },
    {
     "name": "stdout",
     "output_type": "stream",
     "text": [
      "    120/191...\n"
     ]
    },
    {
     "name": "stderr",
     "output_type": "stream",
     "text": [
      "100%|█████████████████████████████████████████████| 4/4 [00:00<00:00,  5.47it/s]\n"
     ]
    },
    {
     "name": "stdout",
     "output_type": "stream",
     "text": [
      "    121/191...\n"
     ]
    },
    {
     "name": "stderr",
     "output_type": "stream",
     "text": [
      "100%|█████████████████████████████████████████████| 3/3 [00:00<00:00,  5.86it/s]\n"
     ]
    },
    {
     "name": "stdout",
     "output_type": "stream",
     "text": [
      "    122/191...\n"
     ]
    },
    {
     "name": "stderr",
     "output_type": "stream",
     "text": [
      "100%|█████████████████████████████████████████████| 4/4 [00:00<00:00, 10.77it/s]\n"
     ]
    },
    {
     "name": "stdout",
     "output_type": "stream",
     "text": [
      "    123/191...\n"
     ]
    },
    {
     "name": "stderr",
     "output_type": "stream",
     "text": [
      "100%|█████████████████████████████████████████████| 2/2 [00:00<00:00,  5.54it/s]\n"
     ]
    },
    {
     "name": "stdout",
     "output_type": "stream",
     "text": [
      "    124/191...\n"
     ]
    },
    {
     "name": "stderr",
     "output_type": "stream",
     "text": [
      "100%|█████████████████████████████████████████████| 4/4 [00:00<00:00,  6.14it/s]\n"
     ]
    },
    {
     "name": "stdout",
     "output_type": "stream",
     "text": [
      "    125/191...\n"
     ]
    },
    {
     "name": "stderr",
     "output_type": "stream",
     "text": [
      "100%|█████████████████████████████████████████████| 4/4 [00:00<00:00,  6.53it/s]\n"
     ]
    },
    {
     "name": "stdout",
     "output_type": "stream",
     "text": [
      "    126/191...\n"
     ]
    },
    {
     "name": "stderr",
     "output_type": "stream",
     "text": [
      "100%|█████████████████████████████████████████████| 4/4 [00:00<00:00,  5.75it/s]\n"
     ]
    },
    {
     "name": "stdout",
     "output_type": "stream",
     "text": [
      "    127/191...\n"
     ]
    },
    {
     "name": "stderr",
     "output_type": "stream",
     "text": [
      "100%|█████████████████████████████████████████████| 2/2 [00:00<00:00, 10.80it/s]\n"
     ]
    },
    {
     "name": "stdout",
     "output_type": "stream",
     "text": [
      "    128/191...\n"
     ]
    },
    {
     "name": "stderr",
     "output_type": "stream",
     "text": [
      "100%|█████████████████████████████████████████████| 4/4 [00:00<00:00,  5.04it/s]\n"
     ]
    },
    {
     "name": "stdout",
     "output_type": "stream",
     "text": [
      "    129/191...\n"
     ]
    },
    {
     "name": "stderr",
     "output_type": "stream",
     "text": [
      "100%|█████████████████████████████████████████████| 3/3 [00:00<00:00,  5.55it/s]\n"
     ]
    },
    {
     "name": "stdout",
     "output_type": "stream",
     "text": [
      "    130/191...\n"
     ]
    },
    {
     "name": "stderr",
     "output_type": "stream",
     "text": [
      "100%|█████████████████████████████████████████████| 4/4 [00:00<00:00,  7.20it/s]\n"
     ]
    },
    {
     "name": "stdout",
     "output_type": "stream",
     "text": [
      "    131/191...\n"
     ]
    },
    {
     "name": "stderr",
     "output_type": "stream",
     "text": [
      "100%|█████████████████████████████████████████████| 2/2 [00:00<00:00,  6.10it/s]\n"
     ]
    },
    {
     "name": "stdout",
     "output_type": "stream",
     "text": [
      "    132/191...\n"
     ]
    },
    {
     "name": "stderr",
     "output_type": "stream",
     "text": [
      "100%|█████████████████████████████████████████████| 4/4 [00:00<00:00,  5.31it/s]\n"
     ]
    },
    {
     "name": "stdout",
     "output_type": "stream",
     "text": [
      "    133/191...\n"
     ]
    },
    {
     "name": "stderr",
     "output_type": "stream",
     "text": [
      "100%|█████████████████████████████████████████████| 4/4 [00:00<00:00,  8.74it/s]\n"
     ]
    },
    {
     "name": "stdout",
     "output_type": "stream",
     "text": [
      "    134/191...\n"
     ]
    },
    {
     "name": "stderr",
     "output_type": "stream",
     "text": [
      "100%|█████████████████████████████████████████████| 4/4 [00:00<00:00,  5.56it/s]\n"
     ]
    },
    {
     "name": "stdout",
     "output_type": "stream",
     "text": [
      "    135/191...\n"
     ]
    },
    {
     "name": "stderr",
     "output_type": "stream",
     "text": [
      "100%|█████████████████████████████████████████████| 2/2 [00:00<00:00,  5.05it/s]\n"
     ]
    },
    {
     "name": "stdout",
     "output_type": "stream",
     "text": [
      "    136/191...\n"
     ]
    },
    {
     "name": "stderr",
     "output_type": "stream",
     "text": [
      "100%|█████████████████████████████████████████████| 4/4 [00:00<00:00,  5.58it/s]\n"
     ]
    },
    {
     "name": "stdout",
     "output_type": "stream",
     "text": [
      "    137/191...\n"
     ]
    },
    {
     "name": "stderr",
     "output_type": "stream",
     "text": [
      "100%|█████████████████████████████████████████████| 2/2 [00:00<00:00,  4.74it/s]\n"
     ]
    },
    {
     "name": "stdout",
     "output_type": "stream",
     "text": [
      "    138/191...\n"
     ]
    },
    {
     "name": "stderr",
     "output_type": "stream",
     "text": [
      "100%|█████████████████████████████████████████████| 4/4 [00:00<00:00,  5.46it/s]\n"
     ]
    },
    {
     "name": "stdout",
     "output_type": "stream",
     "text": [
      "    139/191...\n"
     ]
    },
    {
     "name": "stderr",
     "output_type": "stream",
     "text": [
      "100%|█████████████████████████████████████████████| 4/4 [00:00<00:00,  9.17it/s]\n"
     ]
    },
    {
     "name": "stdout",
     "output_type": "stream",
     "text": [
      "    140/191...\n"
     ]
    },
    {
     "name": "stderr",
     "output_type": "stream",
     "text": [
      "100%|█████████████████████████████████████████████| 4/4 [00:00<00:00, 10.54it/s]\n"
     ]
    },
    {
     "name": "stdout",
     "output_type": "stream",
     "text": [
      "    141/191...\n"
     ]
    },
    {
     "name": "stderr",
     "output_type": "stream",
     "text": [
      "100%|█████████████████████████████████████████████| 4/4 [00:00<00:00,  5.84it/s]\n"
     ]
    },
    {
     "name": "stdout",
     "output_type": "stream",
     "text": [
      "    142/191...\n"
     ]
    },
    {
     "name": "stderr",
     "output_type": "stream",
     "text": [
      "100%|█████████████████████████████████████████████| 3/3 [00:00<00:00,  4.98it/s]\n"
     ]
    },
    {
     "name": "stdout",
     "output_type": "stream",
     "text": [
      "    143/191...\n"
     ]
    },
    {
     "name": "stderr",
     "output_type": "stream",
     "text": [
      "100%|█████████████████████████████████████████████| 4/4 [00:00<00:00,  5.48it/s]\n"
     ]
    },
    {
     "name": "stdout",
     "output_type": "stream",
     "text": [
      "    144/191...\n"
     ]
    },
    {
     "name": "stderr",
     "output_type": "stream",
     "text": [
      "100%|█████████████████████████████████████████████| 4/4 [00:00<00:00,  5.28it/s]\n"
     ]
    },
    {
     "name": "stdout",
     "output_type": "stream",
     "text": [
      "    145/191...\n"
     ]
    },
    {
     "name": "stderr",
     "output_type": "stream",
     "text": [
      "100%|█████████████████████████████████████████████| 4/4 [00:00<00:00,  6.42it/s]\n"
     ]
    },
    {
     "name": "stdout",
     "output_type": "stream",
     "text": [
      "    146/191...\n"
     ]
    },
    {
     "name": "stderr",
     "output_type": "stream",
     "text": [
      "100%|█████████████████████████████████████████████| 4/4 [00:00<00:00,  5.12it/s]\n"
     ]
    },
    {
     "name": "stdout",
     "output_type": "stream",
     "text": [
      "    147/191...\n"
     ]
    },
    {
     "name": "stderr",
     "output_type": "stream",
     "text": [
      "100%|█████████████████████████████████████████████| 4/4 [00:00<00:00,  6.37it/s]\n"
     ]
    },
    {
     "name": "stdout",
     "output_type": "stream",
     "text": [
      "    148/191...\n"
     ]
    },
    {
     "name": "stderr",
     "output_type": "stream",
     "text": [
      "100%|█████████████████████████████████████████████| 4/4 [00:00<00:00,  8.85it/s]\n"
     ]
    },
    {
     "name": "stdout",
     "output_type": "stream",
     "text": [
      "    149/191...\n"
     ]
    },
    {
     "name": "stderr",
     "output_type": "stream",
     "text": [
      "100%|█████████████████████████████████████████████| 4/4 [00:00<00:00,  8.13it/s]\n"
     ]
    },
    {
     "name": "stdout",
     "output_type": "stream",
     "text": [
      "    150/191...\n"
     ]
    },
    {
     "name": "stderr",
     "output_type": "stream",
     "text": [
      "100%|█████████████████████████████████████████████| 4/4 [00:00<00:00,  5.98it/s]\n"
     ]
    },
    {
     "name": "stdout",
     "output_type": "stream",
     "text": [
      "    151/191...\n"
     ]
    },
    {
     "name": "stderr",
     "output_type": "stream",
     "text": [
      "100%|█████████████████████████████████████████████| 4/4 [00:00<00:00,  5.92it/s]\n"
     ]
    },
    {
     "name": "stdout",
     "output_type": "stream",
     "text": [
      "    152/191...\n"
     ]
    },
    {
     "name": "stderr",
     "output_type": "stream",
     "text": [
      "100%|█████████████████████████████████████████████| 3/3 [00:00<00:00,  4.90it/s]\n"
     ]
    },
    {
     "name": "stdout",
     "output_type": "stream",
     "text": [
      "    153/191...\n"
     ]
    },
    {
     "name": "stderr",
     "output_type": "stream",
     "text": [
      "100%|█████████████████████████████████████████████| 4/4 [00:00<00:00, 11.34it/s]\n"
     ]
    },
    {
     "name": "stdout",
     "output_type": "stream",
     "text": [
      "    154/191...\n"
     ]
    },
    {
     "name": "stderr",
     "output_type": "stream",
     "text": [
      "100%|█████████████████████████████████████████████| 4/4 [00:00<00:00,  5.20it/s]\n"
     ]
    },
    {
     "name": "stdout",
     "output_type": "stream",
     "text": [
      "    155/191...\n"
     ]
    },
    {
     "name": "stderr",
     "output_type": "stream",
     "text": [
      "100%|█████████████████████████████████████████████| 2/2 [00:00<00:00,  4.83it/s]\n"
     ]
    },
    {
     "name": "stdout",
     "output_type": "stream",
     "text": [
      "    156/191...\n"
     ]
    },
    {
     "name": "stderr",
     "output_type": "stream",
     "text": [
      "100%|█████████████████████████████████████████████| 3/3 [00:00<00:00,  4.43it/s]\n"
     ]
    },
    {
     "name": "stdout",
     "output_type": "stream",
     "text": [
      "    157/191...\n"
     ]
    },
    {
     "name": "stderr",
     "output_type": "stream",
     "text": [
      "100%|█████████████████████████████████████████████| 2/2 [00:00<00:00,  5.41it/s]\n"
     ]
    },
    {
     "name": "stdout",
     "output_type": "stream",
     "text": [
      "    158/191...\n"
     ]
    },
    {
     "name": "stderr",
     "output_type": "stream",
     "text": [
      "100%|█████████████████████████████████████████████| 4/4 [00:00<00:00,  9.15it/s]\n"
     ]
    },
    {
     "name": "stdout",
     "output_type": "stream",
     "text": [
      "    159/191...\n"
     ]
    },
    {
     "name": "stderr",
     "output_type": "stream",
     "text": [
      "100%|█████████████████████████████████████████████| 4/4 [00:00<00:00,  7.69it/s]\n"
     ]
    },
    {
     "name": "stdout",
     "output_type": "stream",
     "text": [
      "    160/191...\n"
     ]
    },
    {
     "name": "stderr",
     "output_type": "stream",
     "text": [
      "100%|█████████████████████████████████████████████| 4/4 [00:00<00:00,  4.96it/s]\n"
     ]
    },
    {
     "name": "stdout",
     "output_type": "stream",
     "text": [
      "    161/191...\n"
     ]
    },
    {
     "name": "stderr",
     "output_type": "stream",
     "text": [
      "100%|█████████████████████████████████████████████| 4/4 [00:00<00:00,  5.77it/s]\n"
     ]
    },
    {
     "name": "stdout",
     "output_type": "stream",
     "text": [
      "    162/191...\n"
     ]
    },
    {
     "name": "stderr",
     "output_type": "stream",
     "text": [
      "100%|█████████████████████████████████████████████| 4/4 [00:00<00:00,  5.90it/s]\n"
     ]
    },
    {
     "name": "stdout",
     "output_type": "stream",
     "text": [
      "    163/191...\n"
     ]
    },
    {
     "name": "stderr",
     "output_type": "stream",
     "text": [
      "100%|█████████████████████████████████████████████| 4/4 [00:00<00:00,  5.47it/s]\n"
     ]
    },
    {
     "name": "stdout",
     "output_type": "stream",
     "text": [
      "    164/191...\n"
     ]
    },
    {
     "name": "stderr",
     "output_type": "stream",
     "text": [
      "100%|█████████████████████████████████████████████| 4/4 [00:00<00:00,  6.93it/s]\n"
     ]
    },
    {
     "name": "stdout",
     "output_type": "stream",
     "text": [
      "    165/191...\n"
     ]
    },
    {
     "name": "stderr",
     "output_type": "stream",
     "text": [
      "100%|█████████████████████████████████████████████| 4/4 [00:00<00:00,  5.28it/s]\n"
     ]
    },
    {
     "name": "stdout",
     "output_type": "stream",
     "text": [
      "    166/191...\n"
     ]
    },
    {
     "name": "stderr",
     "output_type": "stream",
     "text": [
      "100%|█████████████████████████████████████████████| 3/3 [00:00<00:00,  8.26it/s]\n"
     ]
    },
    {
     "name": "stdout",
     "output_type": "stream",
     "text": [
      "    167/191...\n"
     ]
    },
    {
     "name": "stderr",
     "output_type": "stream",
     "text": [
      "100%|█████████████████████████████████████████████| 2/2 [00:00<00:00,  4.29it/s]\n"
     ]
    },
    {
     "name": "stdout",
     "output_type": "stream",
     "text": [
      "    168/191...\n"
     ]
    },
    {
     "name": "stderr",
     "output_type": "stream",
     "text": [
      "100%|█████████████████████████████████████████████| 1/1 [00:00<00:00,  4.53it/s]\n"
     ]
    },
    {
     "name": "stdout",
     "output_type": "stream",
     "text": [
      "    169/191...\n"
     ]
    },
    {
     "name": "stderr",
     "output_type": "stream",
     "text": [
      "100%|█████████████████████████████████████████████| 4/4 [00:00<00:00,  5.89it/s]\n"
     ]
    },
    {
     "name": "stdout",
     "output_type": "stream",
     "text": [
      "    170/191...\n"
     ]
    },
    {
     "name": "stderr",
     "output_type": "stream",
     "text": [
      "100%|█████████████████████████████████████████████| 1/1 [00:00<00:00,  7.16it/s]\n"
     ]
    },
    {
     "name": "stdout",
     "output_type": "stream",
     "text": [
      "    171/191...\n"
     ]
    },
    {
     "name": "stderr",
     "output_type": "stream",
     "text": [
      "100%|█████████████████████████████████████████████| 4/4 [00:00<00:00,  5.36it/s]\n"
     ]
    },
    {
     "name": "stdout",
     "output_type": "stream",
     "text": [
      "    172/191...\n"
     ]
    },
    {
     "name": "stderr",
     "output_type": "stream",
     "text": [
      "100%|█████████████████████████████████████████████| 2/2 [00:00<00:00,  5.43it/s]\n"
     ]
    },
    {
     "name": "stdout",
     "output_type": "stream",
     "text": [
      "    173/191...\n"
     ]
    },
    {
     "name": "stderr",
     "output_type": "stream",
     "text": [
      "100%|█████████████████████████████████████████████| 4/4 [00:00<00:00,  5.91it/s]\n"
     ]
    },
    {
     "name": "stdout",
     "output_type": "stream",
     "text": [
      "    174/191...\n"
     ]
    },
    {
     "name": "stderr",
     "output_type": "stream",
     "text": [
      "100%|█████████████████████████████████████████████| 2/2 [00:00<00:00,  5.02it/s]\n"
     ]
    },
    {
     "name": "stdout",
     "output_type": "stream",
     "text": [
      "    175/191...\n"
     ]
    },
    {
     "name": "stderr",
     "output_type": "stream",
     "text": [
      "100%|█████████████████████████████████████████████| 2/2 [00:00<00:00,  5.82it/s]\n"
     ]
    },
    {
     "name": "stdout",
     "output_type": "stream",
     "text": [
      "    176/191...\n"
     ]
    },
    {
     "name": "stderr",
     "output_type": "stream",
     "text": [
      "100%|█████████████████████████████████████████████| 4/4 [00:00<00:00,  6.07it/s]\n"
     ]
    },
    {
     "name": "stdout",
     "output_type": "stream",
     "text": [
      "    177/191...\n"
     ]
    },
    {
     "name": "stderr",
     "output_type": "stream",
     "text": [
      "100%|█████████████████████████████████████████████| 4/4 [00:00<00:00,  5.86it/s]\n"
     ]
    },
    {
     "name": "stdout",
     "output_type": "stream",
     "text": [
      "    178/191...\n"
     ]
    },
    {
     "name": "stderr",
     "output_type": "stream",
     "text": [
      "100%|█████████████████████████████████████████████| 4/4 [00:00<00:00,  5.85it/s]\n"
     ]
    },
    {
     "name": "stdout",
     "output_type": "stream",
     "text": [
      "    179/191...\n"
     ]
    },
    {
     "name": "stderr",
     "output_type": "stream",
     "text": [
      "100%|█████████████████████████████████████████████| 4/4 [00:00<00:00,  6.30it/s]\n"
     ]
    },
    {
     "name": "stdout",
     "output_type": "stream",
     "text": [
      "    180/191...\n"
     ]
    },
    {
     "name": "stderr",
     "output_type": "stream",
     "text": [
      "100%|█████████████████████████████████████████████| 1/1 [00:00<00:00,  6.31it/s]\n"
     ]
    },
    {
     "name": "stdout",
     "output_type": "stream",
     "text": [
      "    181/191...\n"
     ]
    },
    {
     "name": "stderr",
     "output_type": "stream",
     "text": [
      "100%|█████████████████████████████████████████████| 4/4 [00:00<00:00,  6.35it/s]\n"
     ]
    },
    {
     "name": "stdout",
     "output_type": "stream",
     "text": [
      "    182/191...\n"
     ]
    },
    {
     "name": "stderr",
     "output_type": "stream",
     "text": [
      "100%|█████████████████████████████████████████████| 4/4 [00:00<00:00,  6.35it/s]\n"
     ]
    },
    {
     "name": "stdout",
     "output_type": "stream",
     "text": [
      "    183/191...\n"
     ]
    },
    {
     "name": "stderr",
     "output_type": "stream",
     "text": [
      "100%|█████████████████████████████████████████████| 4/4 [00:00<00:00,  4.97it/s]\n"
     ]
    },
    {
     "name": "stdout",
     "output_type": "stream",
     "text": [
      "    184/191...\n"
     ]
    },
    {
     "name": "stderr",
     "output_type": "stream",
     "text": [
      "100%|█████████████████████████████████████████████| 4/4 [00:00<00:00,  7.49it/s]\n"
     ]
    },
    {
     "name": "stdout",
     "output_type": "stream",
     "text": [
      "    185/191...\n"
     ]
    },
    {
     "name": "stderr",
     "output_type": "stream",
     "text": [
      "100%|█████████████████████████████████████████████| 4/4 [00:00<00:00,  5.83it/s]\n"
     ]
    },
    {
     "name": "stdout",
     "output_type": "stream",
     "text": [
      "    186/191...\n"
     ]
    },
    {
     "name": "stderr",
     "output_type": "stream",
     "text": [
      "100%|█████████████████████████████████████████████| 2/2 [00:00<00:00,  5.11it/s]\n"
     ]
    },
    {
     "name": "stdout",
     "output_type": "stream",
     "text": [
      "    187/191...\n"
     ]
    },
    {
     "name": "stderr",
     "output_type": "stream",
     "text": [
      "100%|█████████████████████████████████████████████| 4/4 [00:00<00:00,  5.41it/s]\n"
     ]
    },
    {
     "name": "stdout",
     "output_type": "stream",
     "text": [
      "    188/191...\n"
     ]
    },
    {
     "name": "stderr",
     "output_type": "stream",
     "text": [
      "100%|█████████████████████████████████████████████| 2/2 [00:00<00:00,  5.04it/s]\n"
     ]
    },
    {
     "name": "stdout",
     "output_type": "stream",
     "text": [
      "    189/191...\n"
     ]
    },
    {
     "name": "stderr",
     "output_type": "stream",
     "text": [
      "100%|█████████████████████████████████████████████| 4/4 [00:00<00:00,  5.41it/s]\n"
     ]
    },
    {
     "name": "stdout",
     "output_type": "stream",
     "text": [
      "    190/191...\n"
     ]
    },
    {
     "name": "stderr",
     "output_type": "stream",
     "text": [
      "100%|█████████████████████████████████████████████| 4/4 [00:00<00:00,  6.06it/s]\n"
     ]
    },
    {
     "name": "stdout",
     "output_type": "stream",
     "text": [
      "    191/191...\n"
     ]
    },
    {
     "name": "stderr",
     "output_type": "stream",
     "text": [
      "100%|█████████████████████████████████████████████| 1/1 [00:00<00:00,  5.89it/s]\n"
     ]
    },
    {
     "name": "stdout",
     "output_type": "stream",
     "text": [
      "Done.\n"
     ]
    }
   ],
   "source": [
    "run_model(model_folder, test_folder, output_folder, allow_failures = True, verbose = 2)"
   ]
  },
  {
   "cell_type": "code",
   "execution_count": 96,
   "id": "247a6478",
   "metadata": {},
   "outputs": [],
   "source": [
    "from evaluate_model import *\n",
    "\n"
   ]
  },
  {
   "cell_type": "code",
   "execution_count": 97,
   "id": "b770afd6",
   "metadata": {
    "scrolled": false
   },
   "outputs": [
    {
     "name": "stdout",
     "output_type": "stream",
     "text": [
      "#Murmur scores\n",
      "AUROC,AUPRC,F-measure,Accuracy,Weighted Accuracy,Cost\n",
      "0.758,0.608,0.509,0.780,0.757,16548.052\n",
      "\n",
      "#Outcome scores\n",
      "AUROC,AUPRC,F-measure,Accuracy,Weighted Accuracy,Cost\n",
      "0.734,0.744,0.644,0.670,0.837,9904.543\n",
      "\n",
      "#Murmur scores (per class)\n",
      "Classes,Present,Unknown,Absent\n",
      "AUROC,0.934,0.500,0.840\n",
      "AUPRC,0.848,0.073,0.903\n",
      "F-measure,0.660,0.000,0.866\n",
      "Accuracy,0.868,0.000,0.835\n",
      "\n",
      "#Outcome scores (per class)\n",
      "Classes,Abnormal,Normal\n",
      "AUROC,0.734,0.734\n",
      "AUPRC,0.756,0.732\n",
      "F-measure,0.741,0.547\n",
      "Accuracy,0.918,0.409\n",
      "\n"
     ]
    }
   ],
   "source": [
    "murmur_scores, outcome_scores = evaluate_model(test_folder, output_folder)\n",
    "classes, auroc, auprc, auroc_classes, auprc_classes, f_measure, f_measure_classes, accuracy, accuracy_classes, weighted_accuracy, cost = murmur_scores\n",
    "murmur_output_string = 'AUROC,AUPRC,F-measure,Accuracy,Weighted Accuracy,Cost\\n{:.3f},{:.3f},{:.3f},{:.3f},{:.3f},{:.3f}\\n'.format(auroc, auprc, f_measure, accuracy, weighted_accuracy, cost)\n",
    "murmur_class_output_string = 'Classes,{}\\nAUROC,{}\\nAUPRC,{}\\nF-measure,{}\\nAccuracy,{}\\n'.format(\n",
    "    ','.join(classes),\n",
    "    ','.join('{:.3f}'.format(x) for x in auroc_classes),\n",
    "    ','.join('{:.3f}'.format(x) for x in auprc_classes),\n",
    "    ','.join('{:.3f}'.format(x) for x in f_measure_classes),\n",
    "    ','.join('{:.3f}'.format(x) for x in accuracy_classes))\n",
    "\n",
    "classes, auroc, auprc, auroc_classes, auprc_classes, f_measure, f_measure_classes, accuracy, accuracy_classes, weighted_accuracy, cost = outcome_scores\n",
    "outcome_output_string = 'AUROC,AUPRC,F-measure,Accuracy,Weighted Accuracy,Cost\\n{:.3f},{:.3f},{:.3f},{:.3f},{:.3f},{:.3f}\\n'.format(auroc, auprc, f_measure, accuracy, weighted_accuracy, cost)\n",
    "outcome_class_output_string = 'Classes,{}\\nAUROC,{}\\nAUPRC,{}\\nF-measure,{}\\nAccuracy,{}\\n'.format(\n",
    "    ','.join(classes),\n",
    "    ','.join('{:.3f}'.format(x) for x in auroc_classes),\n",
    "    ','.join('{:.3f}'.format(x) for x in auprc_classes),\n",
    "    ','.join('{:.3f}'.format(x) for x in f_measure_classes),\n",
    "    ','.join('{:.3f}'.format(x) for x in accuracy_classes))\n",
    "\n",
    "output_string = '#Murmur scores\\n' + murmur_output_string + '\\n#Outcome scores\\n' + outcome_output_string \\\n",
    "    + '\\n#Murmur scores (per class)\\n' + murmur_class_output_string + '\\n#Outcome scores (per class)\\n' + outcome_class_output_string\n",
    "\n",
    "if len(sys.argv) == 3:\n",
    "    print(output_string)\n",
    "elif len(sys.argv) == 4:\n",
    "    with open(sys.argv[3], 'w') as f:\n",
    "        f.write(output_string)"
   ]
  },
  {
   "cell_type": "code",
   "execution_count": null,
   "id": "72a27458",
   "metadata": {},
   "outputs": [],
   "source": []
  },
  {
   "cell_type": "code",
   "execution_count": 61,
   "id": "4235c97d",
   "metadata": {},
   "outputs": [
    {
     "name": "stdout",
     "output_type": "stream",
     "text": [
      "0.4180834297656389\n",
      "0.5819165723017997\n",
      "0.6786078495504968\n",
      "0.3213921528680162\n"
     ]
    }
   ],
   "source": [
    "label_folder = test_folder\n",
    "murmur_classes = ['Present', 'Unknown', 'Absent']\n",
    "outcome_classes = ['Abnormal', 'Normal']\n",
    "\n",
    "# Load and parse label and model output files.\n",
    "label_files, output_files = find_challenge_files(label_folder, output_folder)\n",
    "murmur_labels = load_murmurs(label_files, murmur_classes)\n",
    "murmur_binary_outputs, murmur_scalar_outputs = load_classifier_outputs(output_files, murmur_classes)\n",
    "outcome_labels = load_outcomes(label_files, outcome_classes)\n",
    "outcome_binary_outputs, outcome_scalar_outputs = load_classifier_outputs(output_files, outcome_classes)\n",
    "\n",
    "\n",
    "print(np.mean(murmur_scalar_outputs[:,0]))\n",
    "print(np.mean(murmur_scalar_outputs[:,2]))\n",
    "print(np.mean(outcome_scalar_outputs[:,0]))\n",
    "print(np.mean(outcome_scalar_outputs[:,1]))"
   ]
  },
  {
   "cell_type": "code",
   "execution_count": 62,
   "id": "3fb59f7c",
   "metadata": {
    "scrolled": false
   },
   "outputs": [
    {
     "name": "stdout",
     "output_type": "stream",
     "text": [
      "threshold:  0.01\n",
      "#Murmur scores\n",
      "AUROC,AUPRC,F-measure,Accuracy,Weighted Accuracy,Cost\n",
      "0.765,0.607,0.111,0.199,0.512,15140.890\n",
      "\n",
      "#Outcome scores\n",
      "AUROC,AUPRC,F-measure,Accuracy,Weighted Accuracy,Cost\n",
      "0.722,0.729,0.339,0.513,0.840,15140.890\n",
      "\n",
      "#Murmur scores (per class)\n",
      "Classes,Present,Unknown,Absent\n",
      "AUROC,0.947,0.500,0.849\n",
      "AUPRC,0.842,0.073,0.906\n",
      "F-measure,0.332,0.000,0.000\n",
      "Accuracy,1.000,0.000,0.000\n",
      "\n",
      "#Outcome scores (per class)\n",
      "Classes,Abnormal,Normal\n",
      "AUROC,0.722,0.722\n",
      "AUPRC,0.761,0.697\n",
      "F-measure,0.678,0.000\n",
      "Accuracy,1.000,0.000\n",
      "\n",
      "-------------\n",
      "threshold:  0.05\n",
      "#Murmur scores\n",
      "AUROC,AUPRC,F-measure,Accuracy,Weighted Accuracy,Cost\n",
      "0.765,0.607,0.111,0.199,0.512,15140.890\n",
      "\n",
      "#Outcome scores\n",
      "AUROC,AUPRC,F-measure,Accuracy,Weighted Accuracy,Cost\n",
      "0.722,0.729,0.339,0.513,0.840,15140.890\n",
      "\n",
      "#Murmur scores (per class)\n",
      "Classes,Present,Unknown,Absent\n",
      "AUROC,0.947,0.500,0.849\n",
      "AUPRC,0.842,0.073,0.906\n",
      "F-measure,0.332,0.000,0.000\n",
      "Accuracy,1.000,0.000,0.000\n",
      "\n",
      "#Outcome scores (per class)\n",
      "Classes,Abnormal,Normal\n",
      "AUROC,0.722,0.722\n",
      "AUPRC,0.761,0.697\n",
      "F-measure,0.678,0.000\n",
      "Accuracy,1.000,0.000\n",
      "\n",
      "-------------\n",
      "threshold:  0.1\n",
      "#Murmur scores\n",
      "AUROC,AUPRC,F-measure,Accuracy,Weighted Accuracy,Cost\n",
      "0.765,0.607,0.116,0.204,0.515,14922.040\n",
      "\n",
      "#Outcome scores\n",
      "AUROC,AUPRC,F-measure,Accuracy,Weighted Accuracy,Cost\n",
      "0.722,0.729,0.339,0.513,0.840,15140.890\n",
      "\n",
      "#Murmur scores (per class)\n",
      "Classes,Present,Unknown,Absent\n",
      "AUROC,0.947,0.500,0.849\n",
      "AUPRC,0.842,0.073,0.906\n",
      "F-measure,0.333,0.000,0.014\n",
      "Accuracy,1.000,0.000,0.007\n",
      "\n",
      "#Outcome scores (per class)\n",
      "Classes,Abnormal,Normal\n",
      "AUROC,0.722,0.722\n",
      "AUPRC,0.761,0.697\n",
      "F-measure,0.678,0.000\n",
      "Accuracy,1.000,0.000\n",
      "\n",
      "-------------\n",
      "threshold:  0.15\n",
      "#Murmur scores\n",
      "AUROC,AUPRC,F-measure,Accuracy,Weighted Accuracy,Cost\n",
      "0.765,0.607,0.132,0.220,0.523,14500.929\n",
      "\n",
      "#Outcome scores\n",
      "AUROC,AUPRC,F-measure,Accuracy,Weighted Accuracy,Cost\n",
      "0.722,0.729,0.339,0.513,0.840,15140.890\n",
      "\n",
      "#Murmur scores (per class)\n",
      "Classes,Present,Unknown,Absent\n",
      "AUROC,0.947,0.500,0.849\n",
      "AUPRC,0.842,0.073,0.906\n",
      "F-measure,0.339,0.000,0.056\n",
      "Accuracy,1.000,0.000,0.029\n",
      "\n",
      "#Outcome scores (per class)\n",
      "Classes,Abnormal,Normal\n",
      "AUROC,0.722,0.722\n",
      "AUPRC,0.761,0.697\n",
      "F-measure,0.678,0.000\n",
      "Accuracy,1.000,0.000\n",
      "\n",
      "-------------\n",
      "threshold:  0.2\n",
      "#Murmur scores\n",
      "AUROC,AUPRC,F-measure,Accuracy,Weighted Accuracy,Cost\n",
      "0.765,0.607,0.188,0.283,0.555,13184.834\n",
      "\n",
      "#Outcome scores\n",
      "AUROC,AUPRC,F-measure,Accuracy,Weighted Accuracy,Cost\n",
      "0.722,0.729,0.339,0.513,0.840,15140.890\n",
      "\n",
      "#Murmur scores (per class)\n",
      "Classes,Present,Unknown,Absent\n",
      "AUROC,0.947,0.500,0.849\n",
      "AUPRC,0.842,0.073,0.906\n",
      "F-measure,0.360,0.000,0.204\n",
      "Accuracy,1.000,0.000,0.115\n",
      "\n",
      "#Outcome scores (per class)\n",
      "Classes,Abnormal,Normal\n",
      "AUROC,0.722,0.722\n",
      "AUPRC,0.761,0.697\n",
      "F-measure,0.678,0.000\n",
      "Accuracy,1.000,0.000\n",
      "\n",
      "-------------\n",
      "threshold:  0.25\n",
      "#Murmur scores\n",
      "AUROC,AUPRC,F-measure,Accuracy,Weighted Accuracy,Cost\n",
      "0.765,0.607,0.253,0.366,0.598,11883.952\n",
      "\n",
      "#Outcome scores\n",
      "AUROC,AUPRC,F-measure,Accuracy,Weighted Accuracy,Cost\n",
      "0.722,0.729,0.339,0.513,0.840,15140.890\n",
      "\n",
      "#Murmur scores (per class)\n",
      "Classes,Present,Unknown,Absent\n",
      "AUROC,0.947,0.500,0.849\n",
      "AUPRC,0.842,0.073,0.906\n",
      "F-measure,0.392,0.000,0.368\n",
      "Accuracy,1.000,0.000,0.230\n",
      "\n",
      "#Outcome scores (per class)\n",
      "Classes,Abnormal,Normal\n",
      "AUROC,0.722,0.722\n",
      "AUPRC,0.761,0.697\n",
      "F-measure,0.678,0.000\n",
      "Accuracy,1.000,0.000\n",
      "\n",
      "-------------\n",
      "threshold:  0.3\n",
      "#Murmur scores\n",
      "AUROC,AUPRC,F-measure,Accuracy,Weighted Accuracy,Cost\n",
      "0.765,0.607,0.344,0.503,0.668,11817.545\n",
      "\n",
      "#Outcome scores\n",
      "AUROC,AUPRC,F-measure,Accuracy,Weighted Accuracy,Cost\n",
      "0.722,0.729,0.351,0.518,0.842,14922.040\n",
      "\n",
      "#Murmur scores (per class)\n",
      "Classes,Present,Unknown,Absent\n",
      "AUROC,0.947,0.500,0.849\n",
      "AUPRC,0.842,0.073,0.906\n",
      "F-measure,0.455,0.000,0.577\n",
      "Accuracy,1.000,0.000,0.417\n",
      "\n",
      "#Outcome scores (per class)\n",
      "Classes,Abnormal,Normal\n",
      "AUROC,0.722,0.722\n",
      "AUPRC,0.761,0.697\n",
      "F-measure,0.681,0.021\n",
      "Accuracy,1.000,0.011\n",
      "\n",
      "-------------\n",
      "threshold:  0.35\n",
      "#Murmur scores\n",
      "AUROC,AUPRC,F-measure,Accuracy,Weighted Accuracy,Cost\n",
      "0.765,0.607,0.403,0.602,0.709,12453.839\n",
      "\n",
      "#Outcome scores\n",
      "AUROC,AUPRC,F-measure,Accuracy,Weighted Accuracy,Cost\n",
      "0.722,0.729,0.351,0.518,0.842,14922.040\n",
      "\n",
      "#Murmur scores (per class)\n",
      "Classes,Present,Unknown,Absent\n",
      "AUROC,0.947,0.500,0.849\n",
      "AUPRC,0.842,0.073,0.906\n",
      "F-measure,0.510,0.000,0.700\n",
      "Accuracy,0.974,0.000,0.561\n",
      "\n",
      "#Outcome scores (per class)\n",
      "Classes,Abnormal,Normal\n",
      "AUROC,0.722,0.722\n",
      "AUPRC,0.761,0.697\n",
      "F-measure,0.681,0.021\n",
      "Accuracy,1.000,0.011\n",
      "\n",
      "-------------\n",
      "threshold:  0.4\n",
      "#Murmur scores\n",
      "AUROC,AUPRC,F-measure,Accuracy,Weighted Accuracy,Cost\n",
      "0.765,0.607,0.460,0.696,0.747,14854.862\n",
      "\n",
      "#Outcome scores\n",
      "AUROC,AUPRC,F-measure,Accuracy,Weighted Accuracy,Cost\n",
      "0.722,0.729,0.351,0.518,0.842,14922.040\n",
      "\n",
      "#Murmur scores (per class)\n",
      "Classes,Present,Unknown,Absent\n",
      "AUROC,0.947,0.500,0.849\n",
      "AUPRC,0.842,0.073,0.906\n",
      "F-measure,0.590,0.000,0.789\n",
      "Accuracy,0.947,0.000,0.698\n",
      "\n",
      "#Outcome scores (per class)\n",
      "Classes,Abnormal,Normal\n",
      "AUROC,0.722,0.722\n",
      "AUPRC,0.761,0.697\n",
      "F-measure,0.681,0.021\n",
      "Accuracy,1.000,0.011\n",
      "\n",
      "-------------\n",
      "threshold:  0.45\n",
      "#Murmur scores\n",
      "AUROC,AUPRC,F-measure,Accuracy,Weighted Accuracy,Cost\n",
      "0.765,0.607,0.502,0.764,0.771,16376.968\n",
      "\n",
      "#Outcome scores\n",
      "AUROC,AUPRC,F-measure,Accuracy,Weighted Accuracy,Cost\n",
      "0.722,0.729,0.363,0.524,0.844,14706.772\n",
      "\n",
      "#Murmur scores (per class)\n",
      "Classes,Present,Unknown,Absent\n",
      "AUROC,0.947,0.500,0.849\n",
      "AUPRC,0.842,0.073,0.906\n",
      "F-measure,0.654,0.000,0.851\n",
      "Accuracy,0.921,0.000,0.799\n",
      "\n",
      "#Outcome scores (per class)\n",
      "Classes,Abnormal,Normal\n",
      "AUROC,0.722,0.722\n",
      "AUPRC,0.761,0.697\n",
      "F-measure,0.683,0.042\n",
      "Accuracy,1.000,0.022\n",
      "\n",
      "-------------\n",
      "threshold:  0.5\n",
      "#Murmur scores\n",
      "AUROC,AUPRC,F-measure,Accuracy,Weighted Accuracy,Cost\n",
      "0.765,0.607,0.539,0.817,0.776,17564.714\n",
      "\n",
      "#Outcome scores\n",
      "AUROC,AUPRC,F-measure,Accuracy,Weighted Accuracy,Cost\n",
      "0.722,0.729,0.390,0.529,0.832,14101.680\n",
      "\n",
      "#Murmur scores (per class)\n",
      "Classes,Present,Unknown,Absent\n",
      "AUROC,0.947,0.500,0.849\n",
      "AUPRC,0.842,0.073,0.906\n",
      "F-measure,0.733,0.000,0.885\n",
      "Accuracy,0.868,0.000,0.885\n",
      "\n",
      "#Outcome scores (per class)\n",
      "Classes,Abnormal,Normal\n",
      "AUROC,0.722,0.722\n",
      "AUPRC,0.761,0.697\n",
      "F-measure,0.681,0.100\n",
      "Accuracy,0.980,0.054\n",
      "\n",
      "-------------\n",
      "threshold:  0.55\n",
      "#Murmur scores\n",
      "AUROC,AUPRC,F-measure,Accuracy,Weighted Accuracy,Cost\n",
      "0.765,0.607,0.564,0.848,0.771,18599.072\n",
      "\n",
      "#Outcome scores\n",
      "AUROC,AUPRC,F-measure,Accuracy,Weighted Accuracy,Cost\n",
      "0.722,0.729,0.512,0.592,0.846,11875.557\n",
      "\n",
      "#Murmur scores (per class)\n",
      "Classes,Present,Unknown,Absent\n",
      "AUROC,0.947,0.500,0.849\n",
      "AUPRC,0.842,0.073,0.906\n",
      "F-measure,0.785,0.000,0.907\n",
      "Accuracy,0.816,0.000,0.942\n",
      "\n",
      "#Outcome scores (per class)\n",
      "Classes,Abnormal,Normal\n",
      "AUROC,0.722,0.722\n",
      "AUPRC,0.761,0.697\n",
      "F-measure,0.709,0.316\n",
      "Accuracy,0.969,0.194\n",
      "\n",
      "-------------\n",
      "threshold:  0.6\n",
      "#Murmur scores\n",
      "AUROC,AUPRC,F-measure,Accuracy,Weighted Accuracy,Cost\n",
      "0.765,0.607,0.550,0.838,0.722,19853.149\n",
      "\n",
      "#Outcome scores\n",
      "AUROC,AUPRC,F-measure,Accuracy,Weighted Accuracy,Cost\n",
      "0.722,0.729,0.623,0.649,0.810,10353.020\n",
      "\n",
      "#Murmur scores (per class)\n",
      "Classes,Present,Unknown,Absent\n",
      "AUROC,0.947,0.500,0.849\n",
      "AUPRC,0.842,0.073,0.906\n",
      "F-measure,0.750,0.000,0.899\n",
      "Accuracy,0.711,0.000,0.957\n",
      "\n",
      "#Outcome scores (per class)\n",
      "Classes,Abnormal,Normal\n",
      "AUROC,0.722,0.722\n",
      "AUPRC,0.761,0.697\n",
      "F-measure,0.722,0.525\n",
      "Accuracy,0.888,0.398\n",
      "\n",
      "-------------\n",
      "threshold:  0.65\n",
      "#Murmur scores\n",
      "AUROC,AUPRC,F-measure,Accuracy,Weighted Accuracy,Cost\n",
      "0.765,0.607,0.545,0.838,0.690,20689.573\n",
      "\n",
      "#Outcome scores\n",
      "AUROC,AUPRC,F-measure,Accuracy,Weighted Accuracy,Cost\n",
      "0.722,0.729,0.609,0.613,0.660,12559.538\n",
      "\n",
      "#Murmur scores (per class)\n",
      "Classes,Present,Unknown,Absent\n",
      "AUROC,0.947,0.500,0.849\n",
      "AUPRC,0.842,0.073,0.906\n",
      "F-measure,0.738,0.000,0.898\n",
      "Accuracy,0.632,0.000,0.978\n",
      "\n",
      "#Outcome scores (per class)\n",
      "Classes,Abnormal,Normal\n",
      "AUROC,0.722,0.722\n",
      "AUPRC,0.761,0.697\n",
      "F-measure,0.644,0.575\n",
      "Accuracy,0.684,0.538\n",
      "\n",
      "-------------\n",
      "threshold:  0.7\n",
      "#Murmur scores\n",
      "AUROC,AUPRC,F-measure,Accuracy,Weighted Accuracy,Cost\n",
      "0.765,0.607,0.540,0.838,0.668,21316.814\n",
      "\n",
      "#Outcome scores\n",
      "AUROC,AUPRC,F-measure,Accuracy,Weighted Accuracy,Cost\n",
      "0.722,0.729,0.644,0.644,0.609,13837.593\n",
      "\n",
      "#Murmur scores (per class)\n",
      "Classes,Present,Unknown,Absent\n",
      "AUROC,0.947,0.500,0.849\n",
      "AUPRC,0.842,0.073,0.906\n",
      "F-measure,0.721,0.000,0.899\n",
      "Accuracy,0.579,0.000,0.993\n",
      "\n",
      "#Outcome scores (per class)\n",
      "Classes,Abnormal,Normal\n",
      "AUROC,0.722,0.722\n",
      "AUPRC,0.761,0.697\n",
      "F-measure,0.630,0.657\n",
      "Accuracy,0.592,0.699\n",
      "\n",
      "-------------\n",
      "threshold:  0.75\n",
      "#Murmur scores\n",
      "AUROC,AUPRC,F-measure,Accuracy,Weighted Accuracy,Cost\n",
      "0.765,0.607,0.506,0.817,0.615,22152.839\n",
      "\n",
      "#Outcome scores\n",
      "AUROC,AUPRC,F-measure,Accuracy,Weighted Accuracy,Cost\n",
      "0.722,0.729,0.603,0.628,0.453,18183.159\n",
      "\n",
      "#Murmur scores (per class)\n",
      "Classes,Present,Unknown,Absent\n",
      "AUROC,0.947,0.500,0.849\n",
      "AUPRC,0.842,0.073,0.906\n",
      "F-measure,0.632,0.000,0.887\n",
      "Accuracy,0.474,0.000,0.993\n",
      "\n",
      "#Outcome scores (per class)\n",
      "Classes,Abnormal,Normal\n",
      "AUROC,0.722,0.722\n",
      "AUPRC,0.761,0.697\n",
      "F-measure,0.503,0.703\n",
      "Accuracy,0.367,0.903\n",
      "\n",
      "-------------\n",
      "threshold:  0.8\n",
      "#Murmur scores\n",
      "AUROC,AUPRC,F-measure,Accuracy,Weighted Accuracy,Cost\n",
      "0.765,0.607,0.424,0.775,0.507,23612.499\n",
      "\n",
      "#Outcome scores\n",
      "AUROC,AUPRC,F-measure,Accuracy,Weighted Accuracy,Cost\n",
      "0.722,0.729,0.554,0.607,0.370,20480.149\n",
      "\n",
      "#Murmur scores (per class)\n",
      "Classes,Present,Unknown,Absent\n",
      "AUROC,0.947,0.500,0.849\n",
      "AUPRC,0.842,0.073,0.906\n",
      "F-measure,0.408,0.000,0.865\n",
      "Accuracy,0.263,0.000,0.993\n",
      "\n",
      "#Outcome scores (per class)\n",
      "Classes,Abnormal,Normal\n",
      "AUROC,0.722,0.722\n",
      "AUPRC,0.761,0.697\n",
      "F-measure,0.400,0.708\n",
      "Accuracy,0.255,0.978\n",
      "\n",
      "-------------\n"
     ]
    }
   ],
   "source": [
    "for th1 in [0.01, 0.05, 0.1, 0.15,0.2, 0.25, 0.3, 0.35, 0.4, 0.45, 0.5, 0.55, 0.6, 0.65, 0.7, 0.75, 0.8] :\n",
    "    murmur_binary_outputs[:,0] = murmur_scalar_outputs[:,0] > th1\n",
    "    murmur_binary_outputs[:,2] = murmur_scalar_outputs[:,2] > 1 - th1\n",
    "    outcome_binary_outputs[:,0] = outcome_scalar_outputs[:,0] > th1\n",
    "    outcome_binary_outputs[:,1] = outcome_scalar_outputs[:,1] > 1 - th1\n",
    "    # For each patient, set the 'Present' or 'Abnormal' class to positive if no class is positive or if multiple classes are positive.\n",
    "    murmur_labels = enforce_positives(murmur_labels, murmur_classes, 'Present')\n",
    "    murmur_binary_outputs = enforce_positives(murmur_binary_outputs, murmur_classes, 'Present')\n",
    "    outcome_labels = enforce_positives(outcome_labels, outcome_classes, 'Abnormal')\n",
    "    outcome_binary_outputs = enforce_positives(outcome_binary_outputs, outcome_classes, 'Abnormal')\n",
    "    # Evaluate the murmur model by comparing the labels and model outputs.\n",
    "    murmur_auroc, murmur_auprc, murmur_auroc_classes, murmur_auprc_classes = compute_auc(murmur_labels, murmur_scalar_outputs)\n",
    "    murmur_f_measure, murmur_f_measure_classes = compute_f_measure(murmur_labels, murmur_binary_outputs)\n",
    "    murmur_accuracy, murmur_accuracy_classes = compute_accuracy(murmur_labels, murmur_binary_outputs)\n",
    "    murmur_weighted_accuracy = compute_weighted_accuracy(murmur_labels, murmur_binary_outputs, murmur_classes) # This is the murmur scoring metric.\n",
    "    murmur_cost = compute_cost(outcome_labels, murmur_binary_outputs, outcome_classes, murmur_classes) # Use *outcomes* to score *murmurs* for the Challenge cost metric, but this is not the actual murmur scoring metric.\n",
    "    murmur_scores = (murmur_classes, murmur_auroc, murmur_auprc, murmur_auroc_classes, murmur_auprc_classes, \\\n",
    "                 murmur_f_measure, murmur_f_measure_classes, murmur_accuracy, murmur_accuracy_classes, murmur_weighted_accuracy, murmur_cost)\n",
    "\n",
    "    # Evaluate the outcome model by comparing the labels and model outputs.\n",
    "    outcome_auroc, outcome_auprc, outcome_auroc_classes, outcome_auprc_classes = compute_auc(outcome_labels, outcome_scalar_outputs)\n",
    "    outcome_f_measure, outcome_f_measure_classes = compute_f_measure(outcome_labels, outcome_binary_outputs)\n",
    "    outcome_accuracy, outcome_accuracy_classes = compute_accuracy(outcome_labels, outcome_binary_outputs)\n",
    "    outcome_weighted_accuracy = compute_weighted_accuracy(outcome_labels, outcome_binary_outputs, outcome_classes)\n",
    "    outcome_cost = compute_cost(outcome_labels, outcome_binary_outputs, outcome_classes, outcome_classes) # This is the clinical outcomes scoring metric.\n",
    "    outcome_scores = (outcome_classes, outcome_auroc, outcome_auprc, outcome_auroc_classes, outcome_auprc_classes, \\\n",
    "                  outcome_f_measure, outcome_f_measure_classes, outcome_accuracy, outcome_accuracy_classes, outcome_weighted_accuracy, outcome_cost)\n",
    "\n",
    "\n",
    "\n",
    "    classes, auroc, auprc, auroc_classes, auprc_classes, f_measure, f_measure_classes, accuracy, accuracy_classes, weighted_accuracy, cost = murmur_scores\n",
    "    murmur_output_string = 'AUROC,AUPRC,F-measure,Accuracy,Weighted Accuracy,Cost\\n{:.3f},{:.3f},{:.3f},{:.3f},{:.3f},{:.3f}\\n'.format(auroc, auprc, f_measure, accuracy, weighted_accuracy, cost)\n",
    "    murmur_class_output_string = 'Classes,{}\\nAUROC,{}\\nAUPRC,{}\\nF-measure,{}\\nAccuracy,{}\\n'.format(\n",
    "    ','.join(classes),\n",
    "    ','.join('{:.3f}'.format(x) for x in auroc_classes),\n",
    "    ','.join('{:.3f}'.format(x) for x in auprc_classes),\n",
    "    ','.join('{:.3f}'.format(x) for x in f_measure_classes),\n",
    "    ','.join('{:.3f}'.format(x) for x in accuracy_classes))\n",
    "\n",
    "    classes, auroc, auprc, auroc_classes, auprc_classes, f_measure, f_measure_classes, accuracy, accuracy_classes, weighted_accuracy, cost = outcome_scores\n",
    "    outcome_output_string = 'AUROC,AUPRC,F-measure,Accuracy,Weighted Accuracy,Cost\\n{:.3f},{:.3f},{:.3f},{:.3f},{:.3f},{:.3f}\\n'.format(auroc, auprc, f_measure, accuracy, weighted_accuracy, cost)\n",
    "    outcome_class_output_string = 'Classes,{}\\nAUROC,{}\\nAUPRC,{}\\nF-measure,{}\\nAccuracy,{}\\n'.format(\n",
    "    ','.join(classes),\n",
    "    ','.join('{:.3f}'.format(x) for x in auroc_classes),\n",
    "    ','.join('{:.3f}'.format(x) for x in auprc_classes),\n",
    "    ','.join('{:.3f}'.format(x) for x in f_measure_classes),\n",
    "    ','.join('{:.3f}'.format(x) for x in accuracy_classes))\n",
    "\n",
    "    output_string = '#Murmur scores\\n' + murmur_output_string + '\\n#Outcome scores\\n' + outcome_output_string \\\n",
    "                + '\\n#Murmur scores (per class)\\n' + murmur_class_output_string + '\\n#Outcome scores (per class)\\n' + outcome_class_output_string\n",
    "    print(\"threshold: \", th1)\n",
    "    print(output_string)\n",
    "    print(\"-------------\")"
   ]
  },
  {
   "cell_type": "code",
   "execution_count": null,
   "id": "e6615bae",
   "metadata": {},
   "outputs": [],
   "source": []
  },
  {
   "cell_type": "code",
   "execution_count": null,
   "id": "5f95548d",
   "metadata": {},
   "outputs": [],
   "source": []
  },
  {
   "cell_type": "code",
   "execution_count": null,
   "id": "8681adbc",
   "metadata": {},
   "outputs": [],
   "source": []
  },
  {
   "cell_type": "code",
   "execution_count": null,
   "id": "f084c345",
   "metadata": {},
   "outputs": [],
   "source": []
  },
  {
   "cell_type": "code",
   "execution_count": null,
   "id": "5c260645",
   "metadata": {},
   "outputs": [],
   "source": []
  },
  {
   "cell_type": "code",
   "execution_count": null,
   "id": "7367ffff",
   "metadata": {},
   "outputs": [],
   "source": []
  },
  {
   "cell_type": "code",
   "execution_count": null,
   "id": "a95bdc02",
   "metadata": {},
   "outputs": [],
   "source": []
  },
  {
   "cell_type": "code",
   "execution_count": null,
   "id": "f085d621",
   "metadata": {},
   "outputs": [],
   "source": []
  },
  {
   "cell_type": "code",
   "execution_count": null,
   "id": "bd2c13c9",
   "metadata": {},
   "outputs": [],
   "source": []
  },
  {
   "cell_type": "code",
   "execution_count": null,
   "id": "5db42aca",
   "metadata": {},
   "outputs": [],
   "source": []
  },
  {
   "cell_type": "code",
   "execution_count": null,
   "id": "bb4f90b1",
   "metadata": {},
   "outputs": [],
   "source": []
  },
  {
   "cell_type": "code",
   "execution_count": null,
   "id": "51aa06e9",
   "metadata": {},
   "outputs": [],
   "source": []
  },
  {
   "cell_type": "code",
   "execution_count": null,
   "id": "4c7407d0",
   "metadata": {},
   "outputs": [],
   "source": []
  },
  {
   "cell_type": "code",
   "execution_count": null,
   "id": "2c27aa5b",
   "metadata": {},
   "outputs": [],
   "source": []
  },
  {
   "cell_type": "code",
   "execution_count": null,
   "id": "205f283a",
   "metadata": {},
   "outputs": [],
   "source": []
  }
 ],
 "metadata": {
  "kernelspec": {
   "display_name": "Python 3 (ipykernel)",
   "language": "python",
   "name": "python3"
  },
  "language_info": {
   "codemirror_mode": {
    "name": "ipython",
    "version": 3
   },
   "file_extension": ".py",
   "mimetype": "text/x-python",
   "name": "python",
   "nbconvert_exporter": "python",
   "pygments_lexer": "ipython3",
   "version": "3.8.13"
  }
 },
 "nbformat": 4,
 "nbformat_minor": 5
}
