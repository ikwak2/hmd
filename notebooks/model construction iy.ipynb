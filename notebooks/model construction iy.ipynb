{
 "cells": [
  {
   "cell_type": "code",
   "execution_count": 10,
   "id": "bc273fbb",
   "metadata": {},
   "outputs": [
    {
     "ename": "ModuleNotFoundError",
     "evalue": "No module named 'helper_code'",
     "output_type": "error",
     "traceback": [
      "\u001b[0;31m---------------------------------------------------------------------------\u001b[0m",
      "\u001b[0;31mModuleNotFoundError\u001b[0m                       Traceback (most recent call last)",
      "\u001b[0;32m<ipython-input-10-60abba9b737c>\u001b[0m in \u001b[0;36m<module>\u001b[0;34m\u001b[0m\n\u001b[1;32m      6\u001b[0m \u001b[0;32mimport\u001b[0m \u001b[0mlibrosa\u001b[0m\u001b[0;34m\u001b[0m\u001b[0;34m\u001b[0m\u001b[0m\n\u001b[1;32m      7\u001b[0m \u001b[0;32mimport\u001b[0m \u001b[0mlibrosa\u001b[0m\u001b[0;34m.\u001b[0m\u001b[0mdisplay\u001b[0m\u001b[0;34m\u001b[0m\u001b[0;34m\u001b[0m\u001b[0m\n\u001b[0;32m----> 8\u001b[0;31m \u001b[0;32mfrom\u001b[0m \u001b[0mhelper_code\u001b[0m \u001b[0;32mimport\u001b[0m \u001b[0;34m*\u001b[0m\u001b[0;34m\u001b[0m\u001b[0;34m\u001b[0m\u001b[0m\n\u001b[0m",
      "\u001b[0;31mModuleNotFoundError\u001b[0m: No module named 'helper_code'"
     ]
    }
   ],
   "source": [
    "import os\n",
    "import pandas as pd\n",
    "import numpy as np\n",
    "import scipy as sp\n",
    "import scipy.stats\n",
    "import librosa\n",
    "import librosa.display\n"
   ]
  },
  {
   "cell_type": "code",
   "execution_count": 11,
   "id": "dc47a56e",
   "metadata": {},
   "outputs": [],
   "source": [
    "import sys\n",
    "sys.path.insert(0,'/home/ubuntu/hmd/notebooks')\n",
    "sys.path.insert(0,'/home/ubuntu/hmd/iy_classifier')\n"
   ]
  },
  {
   "cell_type": "code",
   "execution_count": 13,
   "id": "9ab57284",
   "metadata": {},
   "outputs": [],
   "source": [
    "from helper_code import *\n",
    "from utils.get_feature import *"
   ]
  },
  {
   "cell_type": "code",
   "execution_count": 5,
   "id": "134c6379",
   "metadata": {},
   "outputs": [],
   "source": [
    "root_dir = '/home/ubuntu/hmd/notebooks/physionet.org/files/circor-heart-sound/1.0.1'\n",
    "training_data_file = root_dir + '/' + 'training_data.csv'\n",
    "training_data_dir = root_dir + '/' + 'training_data'\n",
    "model_dir = root_dir + '/' + 'model'"
   ]
  },
  {
   "cell_type": "code",
   "execution_count": 6,
   "id": "8e3e6df2",
   "metadata": {},
   "outputs": [
    {
     "name": "stdout",
     "output_type": "stream",
     "text": [
      "Wed Mar 23 16:19:53 2022       \n",
      "+-----------------------------------------------------------------------------+\n",
      "| NVIDIA-SMI 470.57.02    Driver Version: 470.57.02    CUDA Version: 11.4     |\n",
      "|-------------------------------+----------------------+----------------------+\n",
      "| GPU  Name        Persistence-M| Bus-Id        Disp.A | Volatile Uncorr. ECC |\n",
      "| Fan  Temp  Perf  Pwr:Usage/Cap|         Memory-Usage | GPU-Util  Compute M. |\n",
      "|                               |                      |               MIG M. |\n",
      "|===============================+======================+======================|\n",
      "|   0  Tesla V100-SXM2...  On   | 00000000:00:05.0 Off |                  Off |\n",
      "| N/A   32C    P0    37W / 300W |      3MiB / 32510MiB |      0%      Default |\n",
      "|                               |                      |                  N/A |\n",
      "+-------------------------------+----------------------+----------------------+\n",
      "|   1  Tesla V100-SXM2...  On   | 00000000:00:06.0 Off |                  Off |\n",
      "| N/A   56C    P0   184W / 300W |  31098MiB / 32510MiB |     80%      Default |\n",
      "|                               |                      |                  N/A |\n",
      "+-------------------------------+----------------------+----------------------+\n",
      "                                                                               \n",
      "+-----------------------------------------------------------------------------+\n",
      "| Processes:                                                                  |\n",
      "|  GPU   GI   CI        PID   Type   Process name                  GPU Memory |\n",
      "|        ID   ID                                                   Usage      |\n",
      "|=============================================================================|\n",
      "|    1   N/A  N/A     38952      C   ...sorflow2.4_p37/bin/python    31095MiB |\n",
      "+-----------------------------------------------------------------------------+\n"
     ]
    }
   ],
   "source": [
    "import tensorflow as tf\n",
    "\n",
    "gpu_info = !nvidia-smi\n",
    "gpu_info = '\\n'.join(gpu_info)\n",
    "print(gpu_info)"
   ]
  },
  {
   "cell_type": "code",
   "execution_count": 7,
   "id": "9702ff76",
   "metadata": {},
   "outputs": [],
   "source": [
    "gpus = tf.config.experimental.list_physical_devices('GPU')\n",
    "if gpus:\n",
    "    try:\n",
    "        tf.config.experimental.set_visible_devices(gpus[0], 'GPU')\n",
    "    except RuntimeError as e:\n",
    "        print(e)"
   ]
  },
  {
   "cell_type": "code",
   "execution_count": 9,
   "id": "641d9968",
   "metadata": {},
   "outputs": [
    {
     "data": {
      "text/html": [
       "<div>\n",
       "<style scoped>\n",
       "    .dataframe tbody tr th:only-of-type {\n",
       "        vertical-align: middle;\n",
       "    }\n",
       "\n",
       "    .dataframe tbody tr th {\n",
       "        vertical-align: top;\n",
       "    }\n",
       "\n",
       "    .dataframe thead th {\n",
       "        text-align: right;\n",
       "    }\n",
       "</style>\n",
       "<table border=\"1\" class=\"dataframe\">\n",
       "  <thead>\n",
       "    <tr style=\"text-align: right;\">\n",
       "      <th></th>\n",
       "      <th>Patient ID</th>\n",
       "      <th>Locations</th>\n",
       "      <th>Age</th>\n",
       "      <th>Sex</th>\n",
       "      <th>Height</th>\n",
       "      <th>Weight</th>\n",
       "      <th>Pregnancy status</th>\n",
       "      <th>Murmur</th>\n",
       "      <th>Murmur locations</th>\n",
       "      <th>Most audible location</th>\n",
       "      <th>...</th>\n",
       "      <th>Systolic murmur grading</th>\n",
       "      <th>Systolic murmur pitch</th>\n",
       "      <th>Systolic murmur quality</th>\n",
       "      <th>Diastolic murmur timing</th>\n",
       "      <th>Diastolic murmur shape</th>\n",
       "      <th>Diastolic murmur grading</th>\n",
       "      <th>Diastolic murmur pitch</th>\n",
       "      <th>Diastolic murmur quality</th>\n",
       "      <th>Campaign</th>\n",
       "      <th>Additional ID</th>\n",
       "    </tr>\n",
       "  </thead>\n",
       "  <tbody>\n",
       "    <tr>\n",
       "      <th>0</th>\n",
       "      <td>2530</td>\n",
       "      <td>AV+PV+TV+MV</td>\n",
       "      <td>Child</td>\n",
       "      <td>Female</td>\n",
       "      <td>98.0</td>\n",
       "      <td>15.90</td>\n",
       "      <td>False</td>\n",
       "      <td>Absent</td>\n",
       "      <td>NaN</td>\n",
       "      <td>NaN</td>\n",
       "      <td>...</td>\n",
       "      <td>NaN</td>\n",
       "      <td>NaN</td>\n",
       "      <td>NaN</td>\n",
       "      <td>NaN</td>\n",
       "      <td>NaN</td>\n",
       "      <td>NaN</td>\n",
       "      <td>NaN</td>\n",
       "      <td>NaN</td>\n",
       "      <td>CC2015</td>\n",
       "      <td>NaN</td>\n",
       "    </tr>\n",
       "    <tr>\n",
       "      <th>1</th>\n",
       "      <td>9979</td>\n",
       "      <td>AV+PV+TV+MV</td>\n",
       "      <td>Child</td>\n",
       "      <td>Female</td>\n",
       "      <td>103.0</td>\n",
       "      <td>13.10</td>\n",
       "      <td>False</td>\n",
       "      <td>Present</td>\n",
       "      <td>AV+MV+PV+TV</td>\n",
       "      <td>TV</td>\n",
       "      <td>...</td>\n",
       "      <td>III/VI</td>\n",
       "      <td>High</td>\n",
       "      <td>Harsh</td>\n",
       "      <td>NaN</td>\n",
       "      <td>NaN</td>\n",
       "      <td>NaN</td>\n",
       "      <td>NaN</td>\n",
       "      <td>NaN</td>\n",
       "      <td>CC2015</td>\n",
       "      <td>NaN</td>\n",
       "    </tr>\n",
       "    <tr>\n",
       "      <th>2</th>\n",
       "      <td>9983</td>\n",
       "      <td>AV+PV+TV+MV</td>\n",
       "      <td>Child</td>\n",
       "      <td>Male</td>\n",
       "      <td>115.0</td>\n",
       "      <td>19.10</td>\n",
       "      <td>False</td>\n",
       "      <td>Unknown</td>\n",
       "      <td>NaN</td>\n",
       "      <td>NaN</td>\n",
       "      <td>...</td>\n",
       "      <td>NaN</td>\n",
       "      <td>NaN</td>\n",
       "      <td>NaN</td>\n",
       "      <td>NaN</td>\n",
       "      <td>NaN</td>\n",
       "      <td>NaN</td>\n",
       "      <td>NaN</td>\n",
       "      <td>NaN</td>\n",
       "      <td>CC2015</td>\n",
       "      <td>NaN</td>\n",
       "    </tr>\n",
       "    <tr>\n",
       "      <th>3</th>\n",
       "      <td>13918</td>\n",
       "      <td>AV+PV+TV+MV</td>\n",
       "      <td>Child</td>\n",
       "      <td>Male</td>\n",
       "      <td>98.0</td>\n",
       "      <td>15.90</td>\n",
       "      <td>False</td>\n",
       "      <td>Present</td>\n",
       "      <td>TV</td>\n",
       "      <td>TV</td>\n",
       "      <td>...</td>\n",
       "      <td>I/VI</td>\n",
       "      <td>Low</td>\n",
       "      <td>Blowing</td>\n",
       "      <td>NaN</td>\n",
       "      <td>NaN</td>\n",
       "      <td>NaN</td>\n",
       "      <td>NaN</td>\n",
       "      <td>NaN</td>\n",
       "      <td>CC2015</td>\n",
       "      <td>NaN</td>\n",
       "    </tr>\n",
       "    <tr>\n",
       "      <th>4</th>\n",
       "      <td>14241</td>\n",
       "      <td>AV+PV+TV+MV</td>\n",
       "      <td>Child</td>\n",
       "      <td>Male</td>\n",
       "      <td>87.0</td>\n",
       "      <td>11.20</td>\n",
       "      <td>False</td>\n",
       "      <td>Present</td>\n",
       "      <td>AV+MV+PV+TV</td>\n",
       "      <td>PV</td>\n",
       "      <td>...</td>\n",
       "      <td>II/VI</td>\n",
       "      <td>Low</td>\n",
       "      <td>Harsh</td>\n",
       "      <td>NaN</td>\n",
       "      <td>NaN</td>\n",
       "      <td>NaN</td>\n",
       "      <td>NaN</td>\n",
       "      <td>NaN</td>\n",
       "      <td>CC2015</td>\n",
       "      <td>NaN</td>\n",
       "    </tr>\n",
       "    <tr>\n",
       "      <th>5</th>\n",
       "      <td>14998</td>\n",
       "      <td>AV+PV+TV+MV</td>\n",
       "      <td>Child</td>\n",
       "      <td>Male</td>\n",
       "      <td>NaN</td>\n",
       "      <td>NaN</td>\n",
       "      <td>False</td>\n",
       "      <td>Absent</td>\n",
       "      <td>NaN</td>\n",
       "      <td>NaN</td>\n",
       "      <td>...</td>\n",
       "      <td>NaN</td>\n",
       "      <td>NaN</td>\n",
       "      <td>NaN</td>\n",
       "      <td>NaN</td>\n",
       "      <td>NaN</td>\n",
       "      <td>NaN</td>\n",
       "      <td>NaN</td>\n",
       "      <td>NaN</td>\n",
       "      <td>CC2015</td>\n",
       "      <td>NaN</td>\n",
       "    </tr>\n",
       "    <tr>\n",
       "      <th>6</th>\n",
       "      <td>23625</td>\n",
       "      <td>AV+PV+TV+MV</td>\n",
       "      <td>Child</td>\n",
       "      <td>Female</td>\n",
       "      <td>92.0</td>\n",
       "      <td>14.00</td>\n",
       "      <td>False</td>\n",
       "      <td>Absent</td>\n",
       "      <td>NaN</td>\n",
       "      <td>NaN</td>\n",
       "      <td>...</td>\n",
       "      <td>NaN</td>\n",
       "      <td>NaN</td>\n",
       "      <td>NaN</td>\n",
       "      <td>NaN</td>\n",
       "      <td>NaN</td>\n",
       "      <td>NaN</td>\n",
       "      <td>NaN</td>\n",
       "      <td>NaN</td>\n",
       "      <td>CC2015</td>\n",
       "      <td>50379.0</td>\n",
       "    </tr>\n",
       "    <tr>\n",
       "      <th>7</th>\n",
       "      <td>24160</td>\n",
       "      <td>AV+PV+TV+MV</td>\n",
       "      <td>Child</td>\n",
       "      <td>Female</td>\n",
       "      <td>98.0</td>\n",
       "      <td>17.66</td>\n",
       "      <td>False</td>\n",
       "      <td>Absent</td>\n",
       "      <td>NaN</td>\n",
       "      <td>NaN</td>\n",
       "      <td>...</td>\n",
       "      <td>NaN</td>\n",
       "      <td>NaN</td>\n",
       "      <td>NaN</td>\n",
       "      <td>NaN</td>\n",
       "      <td>NaN</td>\n",
       "      <td>NaN</td>\n",
       "      <td>NaN</td>\n",
       "      <td>NaN</td>\n",
       "      <td>CC2015</td>\n",
       "      <td>NaN</td>\n",
       "    </tr>\n",
       "    <tr>\n",
       "      <th>8</th>\n",
       "      <td>29045</td>\n",
       "      <td>AV+PV+TV+MV</td>\n",
       "      <td>Child</td>\n",
       "      <td>Female</td>\n",
       "      <td>88.0</td>\n",
       "      <td>12.50</td>\n",
       "      <td>False</td>\n",
       "      <td>Present</td>\n",
       "      <td>AV+MV+PV+TV</td>\n",
       "      <td>TV</td>\n",
       "      <td>...</td>\n",
       "      <td>II/VI</td>\n",
       "      <td>Low</td>\n",
       "      <td>Blowing</td>\n",
       "      <td>NaN</td>\n",
       "      <td>NaN</td>\n",
       "      <td>NaN</td>\n",
       "      <td>NaN</td>\n",
       "      <td>NaN</td>\n",
       "      <td>CC2015</td>\n",
       "      <td>NaN</td>\n",
       "    </tr>\n",
       "    <tr>\n",
       "      <th>9</th>\n",
       "      <td>29378</td>\n",
       "      <td>AV+MV</td>\n",
       "      <td>Child</td>\n",
       "      <td>Female</td>\n",
       "      <td>82.0</td>\n",
       "      <td>10.70</td>\n",
       "      <td>False</td>\n",
       "      <td>Unknown</td>\n",
       "      <td>NaN</td>\n",
       "      <td>NaN</td>\n",
       "      <td>...</td>\n",
       "      <td>NaN</td>\n",
       "      <td>NaN</td>\n",
       "      <td>NaN</td>\n",
       "      <td>NaN</td>\n",
       "      <td>NaN</td>\n",
       "      <td>NaN</td>\n",
       "      <td>NaN</td>\n",
       "      <td>NaN</td>\n",
       "      <td>CC2015</td>\n",
       "      <td>NaN</td>\n",
       "    </tr>\n",
       "  </tbody>\n",
       "</table>\n",
       "<p>10 rows × 22 columns</p>\n",
       "</div>"
      ],
      "text/plain": [
       "   Patient ID    Locations    Age     Sex  Height  Weight  Pregnancy status  \\\n",
       "0        2530  AV+PV+TV+MV  Child  Female    98.0   15.90             False   \n",
       "1        9979  AV+PV+TV+MV  Child  Female   103.0   13.10             False   \n",
       "2        9983  AV+PV+TV+MV  Child    Male   115.0   19.10             False   \n",
       "3       13918  AV+PV+TV+MV  Child    Male    98.0   15.90             False   \n",
       "4       14241  AV+PV+TV+MV  Child    Male    87.0   11.20             False   \n",
       "5       14998  AV+PV+TV+MV  Child    Male     NaN     NaN             False   \n",
       "6       23625  AV+PV+TV+MV  Child  Female    92.0   14.00             False   \n",
       "7       24160  AV+PV+TV+MV  Child  Female    98.0   17.66             False   \n",
       "8       29045  AV+PV+TV+MV  Child  Female    88.0   12.50             False   \n",
       "9       29378        AV+MV  Child  Female    82.0   10.70             False   \n",
       "\n",
       "    Murmur Murmur locations Most audible location  ...  \\\n",
       "0   Absent              NaN                   NaN  ...   \n",
       "1  Present      AV+MV+PV+TV                    TV  ...   \n",
       "2  Unknown              NaN                   NaN  ...   \n",
       "3  Present               TV                    TV  ...   \n",
       "4  Present      AV+MV+PV+TV                    PV  ...   \n",
       "5   Absent              NaN                   NaN  ...   \n",
       "6   Absent              NaN                   NaN  ...   \n",
       "7   Absent              NaN                   NaN  ...   \n",
       "8  Present      AV+MV+PV+TV                    TV  ...   \n",
       "9  Unknown              NaN                   NaN  ...   \n",
       "\n",
       "  Systolic murmur grading Systolic murmur pitch Systolic murmur quality  \\\n",
       "0                     NaN                   NaN                     NaN   \n",
       "1                  III/VI                  High                   Harsh   \n",
       "2                     NaN                   NaN                     NaN   \n",
       "3                    I/VI                   Low                 Blowing   \n",
       "4                   II/VI                   Low                   Harsh   \n",
       "5                     NaN                   NaN                     NaN   \n",
       "6                     NaN                   NaN                     NaN   \n",
       "7                     NaN                   NaN                     NaN   \n",
       "8                   II/VI                   Low                 Blowing   \n",
       "9                     NaN                   NaN                     NaN   \n",
       "\n",
       "  Diastolic murmur timing Diastolic murmur shape Diastolic murmur grading  \\\n",
       "0                     NaN                    NaN                      NaN   \n",
       "1                     NaN                    NaN                      NaN   \n",
       "2                     NaN                    NaN                      NaN   \n",
       "3                     NaN                    NaN                      NaN   \n",
       "4                     NaN                    NaN                      NaN   \n",
       "5                     NaN                    NaN                      NaN   \n",
       "6                     NaN                    NaN                      NaN   \n",
       "7                     NaN                    NaN                      NaN   \n",
       "8                     NaN                    NaN                      NaN   \n",
       "9                     NaN                    NaN                      NaN   \n",
       "\n",
       "  Diastolic murmur pitch Diastolic murmur quality Campaign Additional ID  \n",
       "0                    NaN                      NaN   CC2015           NaN  \n",
       "1                    NaN                      NaN   CC2015           NaN  \n",
       "2                    NaN                      NaN   CC2015           NaN  \n",
       "3                    NaN                      NaN   CC2015           NaN  \n",
       "4                    NaN                      NaN   CC2015           NaN  \n",
       "5                    NaN                      NaN   CC2015           NaN  \n",
       "6                    NaN                      NaN   CC2015       50379.0  \n",
       "7                    NaN                      NaN   CC2015           NaN  \n",
       "8                    NaN                      NaN   CC2015           NaN  \n",
       "9                    NaN                      NaN   CC2015           NaN  \n",
       "\n",
       "[10 rows x 22 columns]"
      ]
     },
     "execution_count": 9,
     "metadata": {},
     "output_type": "execute_result"
    }
   ],
   "source": [
    "df = pd.read_csv(training_data_file)\n",
    "df[:10]"
   ]
  },
  {
   "cell_type": "code",
   "execution_count": 14,
   "id": "e6f76d3c",
   "metadata": {},
   "outputs": [],
   "source": [
    "data_folder =  '/home/ubuntu/hmd/notebooks/physionet.org/files/circor-heart-sound/1.0.1/training_data'\n",
    "model_folder = 'tmp_model1'"
   ]
  },
  {
   "cell_type": "code",
   "execution_count": 15,
   "id": "c3e136c0",
   "metadata": {},
   "outputs": [
    {
     "data": {
      "text/plain": [
       "'/home/ubuntu/hmd/notebooks/physionet.org/files/circor-heart-sound/1.0.1/training_data'"
      ]
     },
     "execution_count": 15,
     "metadata": {},
     "output_type": "execute_result"
    }
   ],
   "source": [
    "data_folder"
   ]
  },
  {
   "cell_type": "code",
   "execution_count": 16,
   "id": "fba4a58e",
   "metadata": {},
   "outputs": [],
   "source": [
    "patient_files = find_patient_files(data_folder)\n",
    "num_patient_files = len(patient_files)\n"
   ]
  },
  {
   "cell_type": "code",
   "execution_count": 18,
   "id": "822caff3",
   "metadata": {},
   "outputs": [
    {
     "data": {
      "text/plain": [
       "942"
      ]
     },
     "execution_count": 18,
     "metadata": {},
     "output_type": "execute_result"
    }
   ],
   "source": [
    "len(patient_files)"
   ]
  },
  {
   "cell_type": "code",
   "execution_count": 22,
   "id": "3787ab8f",
   "metadata": {},
   "outputs": [],
   "source": [
    "shuffled_idx = np.random.permutation(942)"
   ]
  },
  {
   "cell_type": "code",
   "execution_count": 25,
   "id": "00fcf29f",
   "metadata": {},
   "outputs": [],
   "source": [
    "patient_files_trn = patient_files[:800]\n",
    "patient_files_test = patient_files[800:]\n",
    "num_patient_files = len(patient_files_trn)"
   ]
  },
  {
   "cell_type": "code",
   "execution_count": 24,
   "id": "b6aff7db",
   "metadata": {},
   "outputs": [],
   "source": [
    "os.makedirs(model_folder, exist_ok=True)\n",
    "\n",
    "classes = ['Present', 'Unknown', 'Absent']\n",
    "num_classes = len(classes)\n"
   ]
  },
  {
   "cell_type": "code",
   "execution_count": 28,
   "id": "e79c35ad",
   "metadata": {},
   "outputs": [],
   "source": [
    "i = 0\n",
    "current_patient_data = load_patient_data(patient_files_trn[i])"
   ]
  },
  {
   "cell_type": "code",
   "execution_count": 29,
   "id": "160aa94a",
   "metadata": {},
   "outputs": [
    {
     "data": {
      "text/plain": [
       "'2530 4 4000\\nAV 2530_AV.hea 2530_AV.wav 2530_AV.tsv\\nPV 2530_PV.hea 2530_PV.wav 2530_PV.tsv\\nTV 2530_TV.hea 2530_TV.wav 2530_TV.tsv\\nMV 2530_MV.hea 2530_MV.wav 2530_MV.tsv\\n#Age: Child\\n#Sex: Female\\n#Height: 98.0\\n#Weight: 15.9\\n#Pregnancy status: False\\n#Murmur: Absent\\n#Murmur locations: nan\\n#Most audible location: nan\\n#Systolic murmur timing: nan\\n#Systolic murmur shape: nan\\n#Systolic murmur grading: nan\\n#Systolic murmur pitch: nan\\n#Systolic murmur quality: nan\\n#Diastolic murmur timing: nan\\n#Diastolic murmur shape: nan\\n#Diastolic murmur grading: nan\\n#Diastolic murmur pitch: nan\\n#Diastolic murmur quality: nan\\n#Campaign: CC2015\\n#Additional ID: nan'"
      ]
     },
     "execution_count": 29,
     "metadata": {},
     "output_type": "execute_result"
    }
   ],
   "source": [
    "current_patient_data"
   ]
  },
  {
   "cell_type": "code",
   "execution_count": null,
   "id": "5e340ab5",
   "metadata": {},
   "outputs": [],
   "source": [
    "# Load recordings. wav data recording\n",
    "def load_recordings(data_folder, data, get_frequencies=False):\n",
    "    num_locations = get_num_locations(data)\n",
    "    recording_information = data.split('\\n')[1:num_locations+1]\n",
    "\n",
    "    recordings = list()\n",
    "    frequencies = list()\n",
    "    for i in range(num_locations):\n",
    "        entries = recording_information[i].split(' ')\n",
    "        recording_file = entries[2]\n",
    "        filename = os.path.join(data_folder, recording_file)\n",
    "        recording, frequency = load_wav_file(filename)\n",
    "        recordings.append(recording)\n",
    "        frequencies.append(frequency)\n",
    "\n",
    "    if get_frequencies:\n",
    "        return recordings, frequencies\n",
    "    else:\n",
    "        return recordings"
   ]
  },
  {
   "cell_type": "code",
   "execution_count": 32,
   "id": "cac08046",
   "metadata": {},
   "outputs": [],
   "source": [
    "num_locations = get_num_locations(current_patient_data)\n",
    "recording_information = current_patient_data.split('\\n')[1:num_locations+1]"
   ]
  },
  {
   "cell_type": "code",
   "execution_count": 34,
   "id": "89afef5f",
   "metadata": {},
   "outputs": [
    {
     "name": "stdout",
     "output_type": "stream",
     "text": [
      "4 ['AV 2530_AV.hea 2530_AV.wav 2530_AV.tsv', 'PV 2530_PV.hea 2530_PV.wav 2530_PV.tsv', 'TV 2530_TV.hea 2530_TV.wav 2530_TV.tsv', 'MV 2530_MV.hea 2530_MV.wav 2530_MV.tsv']\n"
     ]
    }
   ],
   "source": [
    "print(num_locations, recording_information)\n"
   ]
  },
  {
   "cell_type": "code",
   "execution_count": 137,
   "id": "f3c81225",
   "metadata": {},
   "outputs": [
    {
     "data": {
      "text/plain": [
       "['AV 2530_AV.hea 2530_AV.wav 2530_AV.tsv',\n",
       " 'PV 2530_PV.hea 2530_PV.wav 2530_PV.tsv',\n",
       " 'TV 2530_TV.hea 2530_TV.wav 2530_TV.tsv',\n",
       " 'MV 2530_MV.hea 2530_MV.wav 2530_MV.tsv']"
      ]
     },
     "execution_count": 137,
     "metadata": {},
     "output_type": "execute_result"
    }
   ],
   "source": [
    "recording_information"
   ]
  },
  {
   "cell_type": "code",
   "execution_count": 35,
   "id": "d539f7ad",
   "metadata": {},
   "outputs": [
    {
     "data": {
      "text/plain": [
       "['AV', '2530_AV.hea', '2530_AV.wav', '2530_AV.tsv']"
      ]
     },
     "execution_count": 35,
     "metadata": {},
     "output_type": "execute_result"
    }
   ],
   "source": [
    "entries = recording_information[i].split(' ')\n",
    "entries"
   ]
  },
  {
   "cell_type": "code",
   "execution_count": 36,
   "id": "65bc9732",
   "metadata": {},
   "outputs": [],
   "source": [
    "recording_file = entries[2]"
   ]
  },
  {
   "cell_type": "code",
   "execution_count": 37,
   "id": "79778e81",
   "metadata": {},
   "outputs": [
    {
     "data": {
      "text/plain": [
       "'2530_AV.wav'"
      ]
     },
     "execution_count": 37,
     "metadata": {},
     "output_type": "execute_result"
    }
   ],
   "source": [
    "recording_file"
   ]
  },
  {
   "cell_type": "code",
   "execution_count": 38,
   "id": "a8c5a5b7",
   "metadata": {},
   "outputs": [
    {
     "data": {
      "text/plain": [
       "'/home/ubuntu/hmd/notebooks/physionet.org/files/circor-heart-sound/1.0.1/training_data/2530_AV.wav'"
      ]
     },
     "execution_count": 38,
     "metadata": {},
     "output_type": "execute_result"
    }
   ],
   "source": [
    "filename = os.path.join(data_folder, recording_file)\n",
    "filename"
   ]
  },
  {
   "cell_type": "code",
   "execution_count": 107,
   "id": "c17b4341",
   "metadata": {},
   "outputs": [],
   "source": [
    "features = dict()"
   ]
  },
  {
   "cell_type": "code",
   "execution_count": 108,
   "id": "8a58f356",
   "metadata": {},
   "outputs": [],
   "source": [
    "features = dict()\n",
    "features['id'] = []\n",
    "features['age'] = []\n",
    "features['sex'] = []\n",
    "features['hw'] = []\n",
    "features['preg'] = []\n",
    "features['loc'] = []\n",
    "features['mel1'] = []\n"
   ]
  },
  {
   "cell_type": "code",
   "execution_count": 109,
   "id": "48bb5d05",
   "metadata": {},
   "outputs": [],
   "source": []
  },
  {
   "cell_type": "code",
   "execution_count": 110,
   "id": "20f29592",
   "metadata": {},
   "outputs": [],
   "source": [
    "id1 = recording_file.split('_')[0]\n",
    "features['id'].append(id1)"
   ]
  },
  {
   "cell_type": "code",
   "execution_count": 111,
   "id": "e58525bf",
   "metadata": {},
   "outputs": [
    {
     "data": {
      "text/plain": [
       "(100, 313)"
      ]
     },
     "execution_count": 111,
     "metadata": {},
     "output_type": "execute_result"
    }
   ],
   "source": [
    "mel1 = feature_extract_melspec(filename)[0]\n",
    "mel1.shape"
   ]
  },
  {
   "cell_type": "code",
   "execution_count": 112,
   "id": "639944c4",
   "metadata": {},
   "outputs": [],
   "source": [
    "features['mel1'].append(mel1)"
   ]
  },
  {
   "cell_type": "code",
   "execution_count": 113,
   "id": "9f742694",
   "metadata": {},
   "outputs": [],
   "source": [
    "import tensorflow as tf"
   ]
  },
  {
   "cell_type": "code",
   "execution_count": 114,
   "id": "3cc15e48",
   "metadata": {},
   "outputs": [],
   "source": [
    "from tensorflow.keras.utils import to_categorical"
   ]
  },
  {
   "cell_type": "code",
   "execution_count": 115,
   "id": "797cc7f0",
   "metadata": {},
   "outputs": [],
   "source": [
    "entries_age = ['Child']\n",
    "age_group = get_age(current_patient_data)"
   ]
  },
  {
   "cell_type": "code",
   "execution_count": 116,
   "id": "252370b1",
   "metadata": {},
   "outputs": [
    {
     "data": {
      "text/plain": [
       "'Child'"
      ]
     },
     "execution_count": 116,
     "metadata": {},
     "output_type": "execute_result"
    }
   ],
   "source": [
    "age_group"
   ]
  },
  {
   "cell_type": "code",
   "execution_count": 117,
   "id": "730bc406",
   "metadata": {},
   "outputs": [],
   "source": [
    "age_group = get_age(current_patient_data)\n",
    "\n",
    "age_classes = ['Neonate', 'Infant', 'Child', 'Adolescent', 'Young Adult']\n",
    "current_age_group = np.zeros(6, dtype=int)\n",
    "\n",
    "if age_group in age_classes:\n",
    "    j = age_classes.index(age_group)\n",
    "    current_age_group[j] = 1\n",
    "else :\n",
    "    current_age_group[5] = 1\n",
    "\n"
   ]
  },
  {
   "cell_type": "code",
   "execution_count": 118,
   "id": "5d1ba0ad",
   "metadata": {},
   "outputs": [
    {
     "data": {
      "text/plain": [
       "'Child'"
      ]
     },
     "execution_count": 118,
     "metadata": {},
     "output_type": "execute_result"
    }
   ],
   "source": [
    "age_group"
   ]
  },
  {
   "cell_type": "code",
   "execution_count": 119,
   "id": "1202339e",
   "metadata": {},
   "outputs": [
    {
     "data": {
      "text/plain": [
       "array([0, 0, 1, 0, 0, 0])"
      ]
     },
     "execution_count": 119,
     "metadata": {},
     "output_type": "execute_result"
    }
   ],
   "source": [
    "current_age_group"
   ]
  },
  {
   "cell_type": "code",
   "execution_count": 120,
   "id": "466281ff",
   "metadata": {},
   "outputs": [],
   "source": [
    "age_group = 'ddd'\n",
    "\n",
    "age_classes = ['Neonate', 'Infant', 'Child', 'Adolescent', 'Young Adult']\n",
    "current_age_group = np.zeros(6, dtype=int)\n",
    "\n",
    "if age_group in age_classes:\n",
    "    j = age_classes.index(age_group)\n",
    "    current_age_group[j] = 1\n",
    "else :\n",
    "    current_age_group[5] = 1"
   ]
  },
  {
   "cell_type": "code",
   "execution_count": 121,
   "id": "d88b168c",
   "metadata": {},
   "outputs": [
    {
     "data": {
      "text/plain": [
       "array([0, 0, 0, 0, 0, 1])"
      ]
     },
     "execution_count": 121,
     "metadata": {},
     "output_type": "execute_result"
    }
   ],
   "source": [
    "current_age_group"
   ]
  },
  {
   "cell_type": "code",
   "execution_count": 122,
   "id": "29d8e3e8",
   "metadata": {},
   "outputs": [],
   "source": [
    "features['age'].append(current_age_group)"
   ]
  },
  {
   "cell_type": "code",
   "execution_count": 123,
   "id": "e249e6cf",
   "metadata": {},
   "outputs": [],
   "source": [
    "# Extract sex. Use one-hot encoding.\n",
    "sex = get_sex(current_patient_data)\n",
    "sex_features = np.zeros(2, dtype=int)\n",
    "if compare_strings(sex, 'Female'):\n",
    "    sex_features[0] = 1\n",
    "elif compare_strings(sex, 'Male'):\n",
    "    sex_features[1] = 1"
   ]
  },
  {
   "cell_type": "code",
   "execution_count": 124,
   "id": "6ebb91cd",
   "metadata": {},
   "outputs": [],
   "source": [
    "features['sex'].append(sex_features)"
   ]
  },
  {
   "cell_type": "code",
   "execution_count": 125,
   "id": "f2fdc785",
   "metadata": {},
   "outputs": [],
   "source": [
    "# Extract height and weight.\n",
    "height = get_height(current_patient_data)\n",
    "weight = get_weight(current_patient_data)\n",
    "features['hw'].append(np.array([height, weight]))"
   ]
  },
  {
   "cell_type": "code",
   "execution_count": 126,
   "id": "82a89762",
   "metadata": {},
   "outputs": [],
   "source": [
    "is_pregnant = get_pregnancy_status(current_patient_data)\n",
    "features['preg'].append(is_pregnant)"
   ]
  },
  {
   "cell_type": "code",
   "execution_count": 127,
   "id": "ec9b7cc2",
   "metadata": {},
   "outputs": [],
   "source": [
    "locations = entries[0]\n",
    "\n",
    "recording_locations = ['AV', 'MV', 'PV', 'TV', 'PhC']\n",
    "num_recording_locations = len(recording_locations)\n",
    "loc_features = np.zeros(num_recording_locations)\n",
    "if locations in recording_locations:\n",
    "    j = recording_locations.index(locations)\n",
    "    loc_features[j] = 1"
   ]
  },
  {
   "cell_type": "code",
   "execution_count": 128,
   "id": "edae9354",
   "metadata": {},
   "outputs": [
    {
     "data": {
      "text/plain": [
       "'AV'"
      ]
     },
     "execution_count": 128,
     "metadata": {},
     "output_type": "execute_result"
    }
   ],
   "source": [
    "locations"
   ]
  },
  {
   "cell_type": "code",
   "execution_count": 129,
   "id": "4eefaf53",
   "metadata": {},
   "outputs": [
    {
     "data": {
      "text/plain": [
       "array([1., 0., 0., 0., 0.])"
      ]
     },
     "execution_count": 129,
     "metadata": {},
     "output_type": "execute_result"
    }
   ],
   "source": [
    "loc_features"
   ]
  },
  {
   "cell_type": "code",
   "execution_count": 130,
   "id": "845705a0",
   "metadata": {},
   "outputs": [],
   "source": [
    "features['loc'].append(loc_features)"
   ]
  },
  {
   "cell_type": "code",
   "execution_count": 131,
   "id": "0610a030",
   "metadata": {},
   "outputs": [
    {
     "data": {
      "text/plain": [
       "{'id': ['2530'],\n",
       " 'age': [array([0, 0, 0, 0, 0, 1])],\n",
       " 'sex': [array([1, 0])],\n",
       " 'hw': [array([98. , 15.9])],\n",
       " 'preg': [False],\n",
       " 'loc': [array([1., 0., 0., 0., 0.])],\n",
       " 'mel1': [array([[-14.24342  , -14.460995 , -12.48743  , ...,  -8.350793 ,\n",
       "           -9.550913 ,  -6.6099434],\n",
       "         [ -8.833427 , -11.78526  , -10.376642 , ..., -10.638776 ,\n",
       "          -14.766047 ,  -2.595482 ],\n",
       "         [ -7.201795 , -11.942595 , -14.396763 , ..., -13.780443 ,\n",
       "          -11.831632 , -10.3140745],\n",
       "         ...,\n",
       "         [-43.652073 , -60.107727 , -58.363945 , ..., -46.318718 ,\n",
       "          -47.93747  , -47.206367 ],\n",
       "         [-42.097    , -59.548874 , -57.106033 , ..., -45.140682 ,\n",
       "          -53.84076  , -53.963337 ],\n",
       "         [-42.240356 , -60.107727 , -60.107727 , ..., -51.811592 ,\n",
       "          -55.905552 , -57.170105 ]], dtype=float32)]}"
      ]
     },
     "execution_count": 131,
     "metadata": {},
     "output_type": "execute_result"
    }
   ],
   "source": [
    "features"
   ]
  },
  {
   "cell_type": "code",
   "execution_count": null,
   "id": "823cdc1b",
   "metadata": {},
   "outputs": [],
   "source": [
    "\n",
    "recording_information = current_patient_data.split('\\n')[1:num_locations+1]"
   ]
  },
  {
   "cell_type": "code",
   "execution_count": 132,
   "id": "9c370dc9",
   "metadata": {},
   "outputs": [],
   "source": [
    "\n",
    "    current_patient_data = load_patient_data(patient_files[i])\n",
    "    current_recordings = load_recordings(data_folder, current_patient_data)"
   ]
  },
  {
   "cell_type": "code",
   "execution_count": 135,
   "id": "a83a1882",
   "metadata": {},
   "outputs": [
    {
     "data": {
      "text/plain": [
       "'2530 4 4000\\nAV 2530_AV.hea 2530_AV.wav 2530_AV.tsv\\nPV 2530_PV.hea 2530_PV.wav 2530_PV.tsv\\nTV 2530_TV.hea 2530_TV.wav 2530_TV.tsv\\nMV 2530_MV.hea 2530_MV.wav 2530_MV.tsv\\n#Age: Child\\n#Sex: Female\\n#Height: 98.0\\n#Weight: 15.9\\n#Pregnancy status: False\\n#Murmur: Absent\\n#Murmur locations: nan\\n#Most audible location: nan\\n#Systolic murmur timing: nan\\n#Systolic murmur shape: nan\\n#Systolic murmur grading: nan\\n#Systolic murmur pitch: nan\\n#Systolic murmur quality: nan\\n#Diastolic murmur timing: nan\\n#Diastolic murmur shape: nan\\n#Diastolic murmur grading: nan\\n#Diastolic murmur pitch: nan\\n#Diastolic murmur quality: nan\\n#Campaign: CC2015\\n#Additional ID: nan'"
      ]
     },
     "execution_count": 135,
     "metadata": {},
     "output_type": "execute_result"
    }
   ],
   "source": [
    "current_patient_data"
   ]
  },
  {
   "cell_type": "code",
   "execution_count": 136,
   "id": "193806ee",
   "metadata": {},
   "outputs": [
    {
     "data": {
      "text/plain": [
       "800"
      ]
     },
     "execution_count": 136,
     "metadata": {},
     "output_type": "execute_result"
    }
   ],
   "source": [
    "num_patient_files"
   ]
  },
  {
   "cell_type": "code",
   "execution_count": 143,
   "id": "d74dc946",
   "metadata": {},
   "outputs": [],
   "source": [
    "features = dict()\n",
    "features['id'] = []\n",
    "features['age'] = []\n",
    "features['sex'] = []\n",
    "features['hw'] = []\n",
    "features['preg'] = []\n",
    "features['loc'] = []\n",
    "features['mel1'] = []\n",
    "labels = []\n",
    "\n",
    "age_classes = ['Neonate', 'Infant', 'Child', 'Adolescent', 'Young Adult']\n",
    "recording_locations = ['AV', 'MV', 'PV', 'TV', 'PhC']\n",
    "\n",
    "for i in range(num_patient_files):\n",
    "\n",
    "    # Load the current patient data and recordings.\n",
    "    current_patient_data = load_patient_data(patient_files_trn[i])\n",
    "    num_locations = get_num_locations(current_patient_data)\n",
    "    recording_information = current_patient_data.split('\\n')[1:num_locations+1]\n",
    "    for j in range(num_locations) :\n",
    "        entries = recording_information[j].split(' ')\n",
    "        recording_file = entries[2]\n",
    "        filename = os.path.join(data_folder, recording_file)\n",
    "        \n",
    "        # Extract id\n",
    "        id1 = recording_file.split('_')[0]\n",
    "        features['id'].append(id1)\n",
    "        \n",
    "        # Extract melspec\n",
    "        mel1 = feature_extract_melspec(filename)[0]\n",
    "        features['mel1'].append(mel1)\n",
    "        \n",
    "        # Extract age_group\n",
    "        age_group = get_age(current_patient_data)\n",
    "        current_age_group = np.zeros(6, dtype=int)\n",
    "        if age_group in age_classes:\n",
    "            j = age_classes.index(age_group)\n",
    "            current_age_group[j] = 1\n",
    "        else :\n",
    "            current_age_group[5] = 1\n",
    "        features['age'].append(current_age_group)\n",
    "        \n",
    "        # Extract sex\n",
    "        sex = get_sex(current_patient_data)\n",
    "        sex_features = np.zeros(2, dtype=int)\n",
    "        if compare_strings(sex, 'Female'):\n",
    "            sex_features[0] = 1\n",
    "        elif compare_strings(sex, 'Male'):\n",
    "            sex_features[1] = 1\n",
    "        features['sex'].append(sex_features)\n",
    "        \n",
    "        # Extract height and weight.\n",
    "        height = get_height(current_patient_data)\n",
    "        weight = get_weight(current_patient_data)\n",
    "        features['hw'].append(np.array([height, weight]))\n",
    "        \n",
    "        # Extract pregnancy\n",
    "        is_pregnant = get_pregnancy_status(current_patient_data)\n",
    "        features['preg'].append(is_pregnant)\n",
    "\n",
    "        # Extract location\n",
    "        locations = entries[0]\n",
    "        num_recording_locations = len(recording_locations)\n",
    "        loc_features = np.zeros(num_recording_locations)\n",
    "        if locations in recording_locations:\n",
    "            j = recording_locations.index(locations)\n",
    "            loc_features[j] = 1\n",
    "        features['loc'].append(loc_features)\n",
    "\n",
    "        # Extract labels and use one-hot encoding.\n",
    "        current_labels = np.zeros(num_classes, dtype=int)\n",
    "        label = get_label(current_patient_data)\n",
    "        if label in classes:\n",
    "            j = classes.index(label)\n",
    "            current_labels[j] = 1\n",
    "        labels.append(current_labels)"
   ]
  },
  {
   "cell_type": "code",
   "execution_count": 145,
   "id": "1986552c",
   "metadata": {},
   "outputs": [
    {
     "data": {
      "text/plain": [
       "2675"
      ]
     },
     "execution_count": 145,
     "metadata": {},
     "output_type": "execute_result"
    }
   ],
   "source": [
    "len(labels)"
   ]
  },
  {
   "cell_type": "code",
   "execution_count": null,
   "id": "7a111f46",
   "metadata": {},
   "outputs": [],
   "source": []
  },
  {
   "cell_type": "code",
   "execution_count": null,
   "id": "e00de1c0",
   "metadata": {},
   "outputs": [],
   "source": []
  },
  {
   "cell_type": "code",
   "execution_count": null,
   "id": "31c2f2d7",
   "metadata": {},
   "outputs": [],
   "source": []
  },
  {
   "cell_type": "code",
   "execution_count": null,
   "id": "ef1dc6d3",
   "metadata": {},
   "outputs": [],
   "source": []
  }
 ],
 "metadata": {
  "kernelspec": {
   "display_name": "Environment (conda_tensorflow2.4_p37)",
   "language": "python",
   "name": "conda_tensorflow2.4_p37"
  },
  "language_info": {
   "codemirror_mode": {
    "name": "ipython",
    "version": 3
   },
   "file_extension": ".py",
   "mimetype": "text/x-python",
   "name": "python",
   "nbconvert_exporter": "python",
   "pygments_lexer": "ipython3",
   "version": "3.7.10"
  }
 },
 "nbformat": 4,
 "nbformat_minor": 5
}
