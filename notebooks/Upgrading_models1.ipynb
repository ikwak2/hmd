{
 "cells": [
  {
   "cell_type": "code",
   "execution_count": 1,
   "id": "f85397e1",
   "metadata": {},
   "outputs": [],
   "source": [
    "import os\n",
    "import pandas as pd\n",
    "import numpy as np\n",
    "import scipy as sp\n",
    "import scipy.stats\n",
    "import librosa\n",
    "import librosa.display\n",
    "import math\n",
    "import sys\n",
    "#sys.path.insert(0,'/home/ikwak2/hmd/notebooks')\n",
    "#sys.path.insert(0,'/home/ikwak2/hmd/iy_classifier')\n",
    "sys.path.insert(0,'utils')\n",
    "from helper_code import *\n",
    "from get_feature import *\n",
    "from models import *\n",
    "from Generator0 import *"
   ]
  },
  {
   "cell_type": "code",
   "execution_count": 2,
   "id": "3f5c8b44",
   "metadata": {},
   "outputs": [],
   "source": [
    "root_dir = 'physionet.org/files/circor-heart-sound/1.0.3'\n",
    "training_data_file = root_dir + '/' + 'training_data.csv'\n",
    "training_data_dir = root_dir + '/' + 'training_data'\n",
    "model_dir = root_dir + '/' + 'model'"
   ]
  },
  {
   "cell_type": "code",
   "execution_count": 3,
   "id": "a6e5ec68",
   "metadata": {},
   "outputs": [
    {
     "name": "stdout",
     "output_type": "stream",
     "text": [
      "Thu Jul  7 15:00:34 2022       \n",
      "+-----------------------------------------------------------------------------+\n",
      "| NVIDIA-SMI 470.57.02    Driver Version: 470.57.02    CUDA Version: 11.4     |\n",
      "|-------------------------------+----------------------+----------------------+\n",
      "| GPU  Name        Persistence-M| Bus-Id        Disp.A | Volatile Uncorr. ECC |\n",
      "| Fan  Temp  Perf  Pwr:Usage/Cap|         Memory-Usage | GPU-Util  Compute M. |\n",
      "|                               |                      |               MIG M. |\n",
      "|===============================+======================+======================|\n",
      "|   0  Tesla V100-SXM2...  On   | 00000000:00:05.0 Off |                  Off |\n",
      "| N/A   41C    P0    42W / 300W |      2MiB / 32510MiB |      0%      Default |\n",
      "|                               |                      |                  N/A |\n",
      "+-------------------------------+----------------------+----------------------+\n",
      "|   1  Tesla V100-SXM2...  On   | 00000000:00:06.0 Off |                  Off |\n",
      "| N/A   41C    P0    63W / 300W |  31097MiB / 32510MiB |      0%      Default |\n",
      "|                               |                      |                  N/A |\n",
      "+-------------------------------+----------------------+----------------------+\n",
      "                                                                               \n",
      "+-----------------------------------------------------------------------------+\n",
      "| Processes:                                                                  |\n",
      "|  GPU   GI   CI        PID   Type   Process name                  GPU Memory |\n",
      "|        ID   ID                                                   Usage      |\n",
      "|=============================================================================|\n",
      "|    1   N/A  N/A     13014      C   ...sorflow2.4_p37/bin/python    31095MiB |\n",
      "+-----------------------------------------------------------------------------+\n"
     ]
    }
   ],
   "source": [
    "import tensorflow as tf\n",
    "\n",
    "gpu_info = !nvidia-smi\n",
    "gpu_info = '\\n'.join(gpu_info)\n",
    "print(gpu_info)"
   ]
  },
  {
   "cell_type": "code",
   "execution_count": 4,
   "id": "37f9ab68",
   "metadata": {},
   "outputs": [],
   "source": [
    "gpus = tf.config.experimental.list_physical_devices('GPU')\n",
    "if gpus:\n",
    "    try:\n",
    "        tf.config.experimental.set_visible_devices(gpus[0], 'GPU')\n",
    "    except RuntimeError as e:\n",
    "        print(e)"
   ]
  },
  {
   "cell_type": "code",
   "execution_count": 5,
   "id": "34497106",
   "metadata": {},
   "outputs": [],
   "source": [
    "data_folder =  'physionet.org/files/circor-heart-sound/1.0.3/training_data'\n",
    "train_folder =  '/home/ubuntu/data/hmd/murmur/train'\n",
    "test_folder = '/home/ubuntu/data/hmd/murmur/test'\n"
   ]
  },
  {
   "cell_type": "code",
   "execution_count": 6,
   "id": "16ee810b",
   "metadata": {},
   "outputs": [],
   "source": [
    "model_folder = 'tmp_model4'"
   ]
  },
  {
   "cell_type": "markdown",
   "id": "25ea4494",
   "metadata": {},
   "source": [
    "## Modeling\n",
    "\n",
    "test 모형이 get_toy4_1, get_toy4_2 라고 하자"
   ]
  },
  {
   "cell_type": "code",
   "execution_count": 7,
   "id": "3eb9ff6f",
   "metadata": {},
   "outputs": [],
   "source": [
    "from tensorflow import keras\n",
    "from tensorflow.keras import layers\n",
    "from tensorflow.keras.callbacks import LearningRateScheduler, ModelCheckpoint"
   ]
  },
  {
   "cell_type": "code",
   "execution_count": 8,
   "id": "e4e1a59b",
   "metadata": {},
   "outputs": [],
   "source": [
    "def sigmoidal_decay(e, start=0, end=100, lr_start=1e-3, lr_end=1e-5):\n",
    "    if e < start:\n",
    "        return lr_start\n",
    "    elif e > end:\n",
    "        return lr_end\n",
    "\n",
    "    middle = (start + end) / 2\n",
    "    s = lambda x: 1 / (1 + np.exp(-x))\n",
    "\n",
    "    return s(13 * (-e + middle) / np.abs(end - start)) * np.abs(lr_start - lr_end) + lr_end"
   ]
  },
  {
   "cell_type": "code",
   "execution_count": 9,
   "id": "a7f06b92",
   "metadata": {},
   "outputs": [],
   "source": [
    "model1 = get_toy4_1((100, 313, 1))\n",
    "model2 = get_toy4_2((100, 313, 1))\n"
   ]
  },
  {
   "cell_type": "code",
   "execution_count": 10,
   "id": "2c279ab9",
   "metadata": {},
   "outputs": [
    {
     "name": "stdout",
     "output_type": "stream",
     "text": [
      "Model: \"model\"\n",
      "__________________________________________________________________________________________________\n",
      "Layer (type)                    Output Shape         Param #     Connected to                     \n",
      "==================================================================================================\n",
      "mel (InputLayer)                [(None, 100, 313, 1) 0                                            \n",
      "__________________________________________________________________________________________________\n",
      "conv2d (Conv2D)                 (None, 98, 311, 16)  160         mel[0][0]                        \n",
      "__________________________________________________________________________________________________\n",
      "max_pooling2d (MaxPooling2D)    (None, 49, 155, 16)  0           conv2d[0][0]                     \n",
      "__________________________________________________________________________________________________\n",
      "conv2d_1 (Conv2D)               (None, 45, 151, 32)  12832       max_pooling2d[0][0]              \n",
      "__________________________________________________________________________________________________\n",
      "max_pooling2d_1 (MaxPooling2D)  (None, 22, 75, 32)   0           conv2d_1[0][0]                   \n",
      "__________________________________________________________________________________________________\n",
      "conv2d_2 (Conv2D)               (None, 20, 73, 32)   9248        max_pooling2d_1[0][0]            \n",
      "__________________________________________________________________________________________________\n",
      "max_pooling2d_2 (MaxPooling2D)  (None, 10, 36, 32)   0           conv2d_2[0][0]                   \n",
      "__________________________________________________________________________________________________\n",
      "conv2d_3 (Conv2D)               (None, 8, 34, 64)    18496       max_pooling2d_2[0][0]            \n",
      "__________________________________________________________________________________________________\n",
      "max_pooling2d_3 (MaxPooling2D)  (None, 4, 17, 64)    0           conv2d_3[0][0]                   \n",
      "__________________________________________________________________________________________________\n",
      "global_average_pooling2d (Globa (None, 64)           0           max_pooling2d_3[0][0]            \n",
      "__________________________________________________________________________________________________\n",
      "age_cat (InputLayer)            [(None, 6)]          0                                            \n",
      "__________________________________________________________________________________________________\n",
      "sex_cat (InputLayer)            [(None, 2)]          0                                            \n",
      "__________________________________________________________________________________________________\n",
      "height_weight (InputLayer)      [(None, 2)]          0                                            \n",
      "__________________________________________________________________________________________________\n",
      "is_preg (InputLayer)            [(None, 1)]          0                                            \n",
      "__________________________________________________________________________________________________\n",
      "loc (InputLayer)                [(None, 5)]          0                                            \n",
      "__________________________________________________________________________________________________\n",
      "dense_4 (Dense)                 (None, 3)            195         global_average_pooling2d[0][0]   \n",
      "==================================================================================================\n",
      "Total params: 40,931\n",
      "Trainable params: 40,931\n",
      "Non-trainable params: 0\n",
      "__________________________________________________________________________________________________\n"
     ]
    }
   ],
   "source": [
    "model1.summary()"
   ]
  },
  {
   "cell_type": "code",
   "execution_count": 11,
   "id": "341a56e7",
   "metadata": {},
   "outputs": [
    {
     "name": "stdout",
     "output_type": "stream",
     "text": [
      "Model: \"model_1\"\n",
      "__________________________________________________________________________________________________\n",
      "Layer (type)                    Output Shape         Param #     Connected to                     \n",
      "==================================================================================================\n",
      "mel (InputLayer)                [(None, 100, 313, 1) 0                                            \n",
      "__________________________________________________________________________________________________\n",
      "conv2d_4 (Conv2D)               (None, 98, 311, 16)  160         mel[0][0]                        \n",
      "__________________________________________________________________________________________________\n",
      "max_pooling2d_4 (MaxPooling2D)  (None, 49, 155, 16)  0           conv2d_4[0][0]                   \n",
      "__________________________________________________________________________________________________\n",
      "conv2d_5 (Conv2D)               (None, 45, 151, 32)  12832       max_pooling2d_4[0][0]            \n",
      "__________________________________________________________________________________________________\n",
      "max_pooling2d_5 (MaxPooling2D)  (None, 22, 75, 32)   0           conv2d_5[0][0]                   \n",
      "__________________________________________________________________________________________________\n",
      "conv2d_6 (Conv2D)               (None, 20, 73, 32)   9248        max_pooling2d_5[0][0]            \n",
      "__________________________________________________________________________________________________\n",
      "max_pooling2d_6 (MaxPooling2D)  (None, 10, 36, 32)   0           conv2d_6[0][0]                   \n",
      "__________________________________________________________________________________________________\n",
      "conv2d_7 (Conv2D)               (None, 8, 34, 64)    18496       max_pooling2d_6[0][0]            \n",
      "__________________________________________________________________________________________________\n",
      "max_pooling2d_7 (MaxPooling2D)  (None, 4, 17, 64)    0           conv2d_7[0][0]                   \n",
      "__________________________________________________________________________________________________\n",
      "global_average_pooling2d_1 (Glo (None, 64)           0           max_pooling2d_7[0][0]            \n",
      "__________________________________________________________________________________________________\n",
      "age_cat (InputLayer)            [(None, 6)]          0                                            \n",
      "__________________________________________________________________________________________________\n",
      "sex_cat (InputLayer)            [(None, 2)]          0                                            \n",
      "__________________________________________________________________________________________________\n",
      "height_weight (InputLayer)      [(None, 2)]          0                                            \n",
      "__________________________________________________________________________________________________\n",
      "is_preg (InputLayer)            [(None, 1)]          0                                            \n",
      "__________________________________________________________________________________________________\n",
      "loc (InputLayer)                [(None, 5)]          0                                            \n",
      "__________________________________________________________________________________________________\n",
      "dense_11 (Dense)                (None, 2)            130         global_average_pooling2d_1[0][0] \n",
      "==================================================================================================\n",
      "Total params: 40,866\n",
      "Trainable params: 40,866\n",
      "Non-trainable params: 0\n",
      "__________________________________________________________________________________________________\n"
     ]
    }
   ],
   "source": [
    "model2.summary()"
   ]
  },
  {
   "cell_type": "code",
   "execution_count": 12,
   "id": "88a116da",
   "metadata": {},
   "outputs": [
    {
     "data": {
      "image/png": "[encoded data removed]",
      "text/plain": [
       "<IPython.core.display.Image object>"
      ]
     },
     "execution_count": 12,
     "metadata": {},
     "output_type": "execute_result"
    }
   ],
   "source": [
    "from tensorflow.keras.utils import plot_model\n",
    "plot_model(model1, to_file='model.png')"
   ]
  },
  {
   "cell_type": "code",
   "execution_count": 13,
   "id": "5c6eecf4",
   "metadata": {},
   "outputs": [
    {
     "data": {
      "image/png": "[encoded data removed]",
      "text/plain": [
       "<IPython.core.display.Image object>"
      ]
     },
     "execution_count": 13,
     "metadata": {},
     "output_type": "execute_result"
    }
   ],
   "source": [
    "plot_model(model2, to_file='model.png')"
   ]
  },
  {
   "cell_type": "code",
   "execution_count": 14,
   "id": "b3a2485f",
   "metadata": {},
   "outputs": [],
   "source": [
    "patient_files = find_patient_files(data_folder)\n",
    "patient_files_trn = find_patient_files(train_folder)\n",
    "patient_files_test = find_patient_files(test_folder)\n",
    "\n",
    "num_patient_files = len(patient_files)"
   ]
  },
  {
   "cell_type": "code",
   "execution_count": 15,
   "id": "76c4fccf",
   "metadata": {},
   "outputs": [],
   "source": [
    "features_trn = get_features_3lb(train_folder, patient_files_trn)\n",
    "features_test = get_features_3lb(test_folder, patient_files_test)"
   ]
  },
  {
   "cell_type": "code",
   "execution_count": null,
   "id": "0cdede27",
   "metadata": {},
   "outputs": [],
   "source": []
  },
  {
   "cell_type": "code",
   "execution_count": 16,
   "id": "90c904d3",
   "metadata": {
    "scrolled": true
   },
   "outputs": [
    {
     "name": "stdout",
     "output_type": "stream",
     "text": [
      "Epoch 1/100\n",
      "40/40 [==============================] - 6s 60ms/step - loss: 1.3347 - accuracy: 0.6854 - val_loss: 0.5993 - val_accuracy: 0.7448\n",
      "Epoch 2/100\n",
      "40/40 [==============================] - 1s 37ms/step - loss: 0.5899 - accuracy: 0.7607 - val_loss: 0.5913 - val_accuracy: 0.7448\n",
      "Epoch 3/100\n",
      "40/40 [==============================] - 1s 37ms/step - loss: 0.5860 - accuracy: 0.7637 - val_loss: 0.5822 - val_accuracy: 0.7448\n",
      "Epoch 4/100\n",
      "40/40 [==============================] - 1s 34ms/step - loss: 0.5764 - accuracy: 0.7615 - val_loss: 0.5786 - val_accuracy: 0.7480\n",
      "Epoch 5/100\n",
      "40/40 [==============================] - 1s 36ms/step - loss: 0.5659 - accuracy: 0.7693 - val_loss: 0.5690 - val_accuracy: 0.7607\n",
      "Epoch 6/100\n",
      "40/40 [==============================] - 1s 33ms/step - loss: 0.5698 - accuracy: 0.7601 - val_loss: 0.5548 - val_accuracy: 0.7655\n",
      "Epoch 7/100\n",
      "40/40 [==============================] - 1s 34ms/step - loss: 0.5632 - accuracy: 0.7825 - val_loss: 0.5561 - val_accuracy: 0.7639\n",
      "Epoch 8/100\n",
      "40/40 [==============================] - 1s 33ms/step - loss: 0.5776 - accuracy: 0.7638 - val_loss: 0.5508 - val_accuracy: 0.7892\n",
      "Epoch 9/100\n",
      "40/40 [==============================] - 1s 32ms/step - loss: 0.5533 - accuracy: 0.7932 - val_loss: 0.5846 - val_accuracy: 0.7480\n",
      "Epoch 10/100\n",
      "40/40 [==============================] - 1s 33ms/step - loss: 0.5762 - accuracy: 0.7678 - val_loss: 0.5547 - val_accuracy: 0.7829\n",
      "Epoch 11/100\n",
      "40/40 [==============================] - 1s 33ms/step - loss: 0.5599 - accuracy: 0.7887 - val_loss: 0.5421 - val_accuracy: 0.7829\n",
      "Epoch 12/100\n",
      "40/40 [==============================] - 1s 33ms/step - loss: 0.5437 - accuracy: 0.7942 - val_loss: 0.5223 - val_accuracy: 0.7987\n",
      "Epoch 13/100\n",
      "40/40 [==============================] - 1s 32ms/step - loss: 0.5485 - accuracy: 0.8013 - val_loss: 0.4903 - val_accuracy: 0.8209\n",
      "Epoch 14/100\n",
      "40/40 [==============================] - 1s 32ms/step - loss: 0.5163 - accuracy: 0.8205 - val_loss: 0.5033 - val_accuracy: 0.8257\n",
      "Epoch 15/100\n",
      "40/40 [==============================] - 1s 32ms/step - loss: 0.5195 - accuracy: 0.8218 - val_loss: 0.4963 - val_accuracy: 0.8273\n",
      "Epoch 16/100\n",
      "40/40 [==============================] - 1s 34ms/step - loss: 0.5022 - accuracy: 0.8327 - val_loss: 0.4914 - val_accuracy: 0.8177\n",
      "Epoch 17/100\n",
      "40/40 [==============================] - 1s 34ms/step - loss: 0.5191 - accuracy: 0.8196 - val_loss: 0.5070 - val_accuracy: 0.8257\n",
      "Epoch 18/100\n",
      "40/40 [==============================] - 1s 33ms/step - loss: 0.5084 - accuracy: 0.8197 - val_loss: 0.4799 - val_accuracy: 0.8241\n",
      "Epoch 19/100\n",
      "40/40 [==============================] - 1s 35ms/step - loss: 0.5031 - accuracy: 0.8357 - val_loss: 0.4644 - val_accuracy: 0.8288\n",
      "Epoch 20/100\n",
      "40/40 [==============================] - 1s 32ms/step - loss: 0.5031 - accuracy: 0.8325 - val_loss: 0.4751 - val_accuracy: 0.8130\n",
      "Epoch 21/100\n",
      "40/40 [==============================] - 1s 35ms/step - loss: 0.4911 - accuracy: 0.8368 - val_loss: 0.4652 - val_accuracy: 0.8352\n",
      "Epoch 22/100\n",
      "40/40 [==============================] - 1s 35ms/step - loss: 0.4920 - accuracy: 0.8313 - val_loss: 0.4722 - val_accuracy: 0.8431\n",
      "Epoch 23/100\n",
      "40/40 [==============================] - 1s 35ms/step - loss: 0.4874 - accuracy: 0.8411 - val_loss: 0.4755 - val_accuracy: 0.8257\n",
      "Epoch 24/100\n",
      "40/40 [==============================] - 1s 34ms/step - loss: 0.4917 - accuracy: 0.8289 - val_loss: 0.4638 - val_accuracy: 0.8225\n",
      "Epoch 25/100\n",
      "40/40 [==============================] - 1s 36ms/step - loss: 0.4908 - accuracy: 0.8335 - val_loss: 0.4647 - val_accuracy: 0.8399\n",
      "Epoch 26/100\n",
      "40/40 [==============================] - 1s 38ms/step - loss: 0.5116 - accuracy: 0.8260 - val_loss: 0.4632 - val_accuracy: 0.8241\n",
      "Epoch 27/100\n",
      "40/40 [==============================] - 1s 35ms/step - loss: 0.4802 - accuracy: 0.8344 - val_loss: 0.4453 - val_accuracy: 0.8384\n",
      "Epoch 28/100\n",
      "40/40 [==============================] - 1s 33ms/step - loss: 0.4886 - accuracy: 0.8330 - val_loss: 0.5015 - val_accuracy: 0.8019\n",
      "Epoch 29/100\n",
      "40/40 [==============================] - 1s 34ms/step - loss: 0.4961 - accuracy: 0.8242 - val_loss: 0.5333 - val_accuracy: 0.8051\n",
      "Epoch 30/100\n",
      "40/40 [==============================] - 1s 32ms/step - loss: 0.5017 - accuracy: 0.8300 - val_loss: 0.4681 - val_accuracy: 0.8431\n",
      "Epoch 31/100\n",
      "40/40 [==============================] - 1s 33ms/step - loss: 0.5011 - accuracy: 0.8288 - val_loss: 0.4559 - val_accuracy: 0.8273\n",
      "Epoch 32/100\n",
      "40/40 [==============================] - 1s 34ms/step - loss: 0.4955 - accuracy: 0.8253 - val_loss: 0.4333 - val_accuracy: 0.8368\n",
      "Epoch 33/100\n",
      "40/40 [==============================] - 1s 36ms/step - loss: 0.4770 - accuracy: 0.8301 - val_loss: 0.4343 - val_accuracy: 0.8368\n",
      "Epoch 34/100\n",
      "40/40 [==============================] - 1s 35ms/step - loss: 0.4839 - accuracy: 0.8415 - val_loss: 0.4272 - val_accuracy: 0.8415\n",
      "Epoch 35/100\n",
      "40/40 [==============================] - 1s 36ms/step - loss: 0.4868 - accuracy: 0.8344 - val_loss: 0.4402 - val_accuracy: 0.8352\n",
      "Epoch 36/100\n",
      "40/40 [==============================] - 1s 35ms/step - loss: 0.4690 - accuracy: 0.8511 - val_loss: 0.4315 - val_accuracy: 0.8399\n",
      "Epoch 37/100\n",
      "40/40 [==============================] - 1s 33ms/step - loss: 0.4809 - accuracy: 0.8419 - val_loss: 0.5093 - val_accuracy: 0.8114\n",
      "Epoch 38/100\n",
      "40/40 [==============================] - 1s 34ms/step - loss: 0.4979 - accuracy: 0.8286 - val_loss: 0.4518 - val_accuracy: 0.8336\n",
      "Epoch 39/100\n",
      "40/40 [==============================] - 1s 35ms/step - loss: 0.4753 - accuracy: 0.8475 - val_loss: 0.4916 - val_accuracy: 0.8225\n",
      "Epoch 40/100\n",
      "40/40 [==============================] - 1s 35ms/step - loss: 0.4654 - accuracy: 0.8440 - val_loss: 0.4479 - val_accuracy: 0.8415\n",
      "Epoch 41/100\n",
      "40/40 [==============================] - 1s 34ms/step - loss: 0.4664 - accuracy: 0.8572 - val_loss: 0.4213 - val_accuracy: 0.8399\n",
      "Epoch 42/100\n",
      "40/40 [==============================] - 1s 33ms/step - loss: 0.4642 - accuracy: 0.8406 - val_loss: 0.4641 - val_accuracy: 0.8384\n",
      "Epoch 43/100\n",
      "40/40 [==============================] - 1s 34ms/step - loss: 0.4834 - accuracy: 0.8316 - val_loss: 0.4239 - val_accuracy: 0.8415\n",
      "Epoch 44/100\n",
      "40/40 [==============================] - 1s 34ms/step - loss: 0.4462 - accuracy: 0.8622 - val_loss: 0.4196 - val_accuracy: 0.8510\n",
      "Epoch 45/100\n",
      "40/40 [==============================] - 1s 35ms/step - loss: 0.4740 - accuracy: 0.8448 - val_loss: 0.4230 - val_accuracy: 0.8494\n",
      "Epoch 46/100\n",
      "40/40 [==============================] - 1s 37ms/step - loss: 0.4628 - accuracy: 0.8507 - val_loss: 0.4559 - val_accuracy: 0.8352\n",
      "Epoch 47/100\n",
      "40/40 [==============================] - 1s 35ms/step - loss: 0.4798 - accuracy: 0.8391 - val_loss: 0.4334 - val_accuracy: 0.8479\n",
      "Epoch 48/100\n",
      "40/40 [==============================] - 1s 34ms/step - loss: 0.4588 - accuracy: 0.8463 - val_loss: 0.4129 - val_accuracy: 0.8510\n",
      "Epoch 49/100\n",
      "40/40 [==============================] - 1s 35ms/step - loss: 0.4469 - accuracy: 0.8513 - val_loss: 0.4125 - val_accuracy: 0.8494\n",
      "Epoch 50/100\n",
      "40/40 [==============================] - 1s 38ms/step - loss: 0.4532 - accuracy: 0.8522 - val_loss: 0.4239 - val_accuracy: 0.8399\n",
      "Epoch 51/100\n",
      "40/40 [==============================] - 1s 37ms/step - loss: 0.4666 - accuracy: 0.8403 - val_loss: 0.4332 - val_accuracy: 0.8447\n",
      "Epoch 52/100\n",
      "40/40 [==============================] - 1s 34ms/step - loss: 0.4504 - accuracy: 0.8564 - val_loss: 0.4125 - val_accuracy: 0.8574\n",
      "Epoch 53/100\n",
      "40/40 [==============================] - 1s 33ms/step - loss: 0.4588 - accuracy: 0.8418 - val_loss: 0.4050 - val_accuracy: 0.8447\n",
      "Epoch 54/100\n",
      "40/40 [==============================] - 1s 36ms/step - loss: 0.4508 - accuracy: 0.8431 - val_loss: 0.4022 - val_accuracy: 0.8494\n",
      "Epoch 55/100\n",
      "40/40 [==============================] - 1s 35ms/step - loss: 0.4463 - accuracy: 0.8641 - val_loss: 0.4127 - val_accuracy: 0.8542\n",
      "Epoch 56/100\n",
      "40/40 [==============================] - 2s 40ms/step - loss: 0.4587 - accuracy: 0.8418 - val_loss: 0.4110 - val_accuracy: 0.8479\n",
      "Epoch 57/100\n",
      "40/40 [==============================] - 1s 34ms/step - loss: 0.4527 - accuracy: 0.8571 - val_loss: 0.4113 - val_accuracy: 0.8479\n",
      "Epoch 58/100\n"
     ]
    },
    {
     "name": "stdout",
     "output_type": "stream",
     "text": [
      "40/40 [==============================] - 1s 35ms/step - loss: 0.4338 - accuracy: 0.8624 - val_loss: 0.4054 - val_accuracy: 0.8510\n",
      "Epoch 59/100\n",
      "40/40 [==============================] - 1s 33ms/step - loss: 0.4435 - accuracy: 0.8492 - val_loss: 0.4098 - val_accuracy: 0.8510\n",
      "Epoch 60/100\n",
      "40/40 [==============================] - 1s 35ms/step - loss: 0.4453 - accuracy: 0.8587 - val_loss: 0.4171 - val_accuracy: 0.8399\n",
      "Epoch 61/100\n",
      "40/40 [==============================] - 1s 34ms/step - loss: 0.4647 - accuracy: 0.8432 - val_loss: 0.4089 - val_accuracy: 0.8590\n",
      "Epoch 62/100\n",
      "40/40 [==============================] - 1s 32ms/step - loss: 0.4437 - accuracy: 0.8632 - val_loss: 0.4112 - val_accuracy: 0.8574\n",
      "Epoch 63/100\n",
      "40/40 [==============================] - 1s 37ms/step - loss: 0.4600 - accuracy: 0.8451 - val_loss: 0.4030 - val_accuracy: 0.8494\n",
      "Epoch 64/100\n",
      "40/40 [==============================] - 1s 35ms/step - loss: 0.4550 - accuracy: 0.8453 - val_loss: 0.4014 - val_accuracy: 0.8526\n",
      "Epoch 65/100\n",
      "40/40 [==============================] - 1s 37ms/step - loss: 0.4468 - accuracy: 0.8560 - val_loss: 0.4128 - val_accuracy: 0.8526\n",
      "Epoch 66/100\n",
      "40/40 [==============================] - 1s 36ms/step - loss: 0.4272 - accuracy: 0.8613 - val_loss: 0.4229 - val_accuracy: 0.8510\n",
      "Epoch 67/100\n",
      "40/40 [==============================] - 1s 35ms/step - loss: 0.4512 - accuracy: 0.8581 - val_loss: 0.4051 - val_accuracy: 0.8494\n",
      "Epoch 68/100\n",
      "40/40 [==============================] - 1s 35ms/step - loss: 0.4346 - accuracy: 0.8669 - val_loss: 0.4033 - val_accuracy: 0.8494\n",
      "Epoch 69/100\n",
      "40/40 [==============================] - 1s 35ms/step - loss: 0.4517 - accuracy: 0.8563 - val_loss: 0.4058 - val_accuracy: 0.8558\n",
      "Epoch 70/100\n",
      "40/40 [==============================] - 2s 39ms/step - loss: 0.4390 - accuracy: 0.8597 - val_loss: 0.4056 - val_accuracy: 0.8526\n",
      "Epoch 71/100\n",
      "40/40 [==============================] - 1s 37ms/step - loss: 0.4476 - accuracy: 0.8492 - val_loss: 0.4067 - val_accuracy: 0.8542\n",
      "Epoch 72/100\n",
      "40/40 [==============================] - 1s 35ms/step - loss: 0.4449 - accuracy: 0.8494 - val_loss: 0.4038 - val_accuracy: 0.8526\n",
      "Epoch 73/100\n",
      "40/40 [==============================] - 1s 33ms/step - loss: 0.4443 - accuracy: 0.8559 - val_loss: 0.4037 - val_accuracy: 0.8510\n",
      "Epoch 74/100\n",
      "40/40 [==============================] - 1s 34ms/step - loss: 0.4250 - accuracy: 0.8622 - val_loss: 0.4098 - val_accuracy: 0.8542\n",
      "Epoch 75/100\n",
      "40/40 [==============================] - 1s 34ms/step - loss: 0.4533 - accuracy: 0.8499 - val_loss: 0.4084 - val_accuracy: 0.8510\n",
      "Epoch 76/100\n",
      "40/40 [==============================] - 1s 34ms/step - loss: 0.4611 - accuracy: 0.8459 - val_loss: 0.4036 - val_accuracy: 0.8494\n",
      "Epoch 77/100\n",
      "40/40 [==============================] - 1s 37ms/step - loss: 0.4405 - accuracy: 0.8585 - val_loss: 0.4050 - val_accuracy: 0.8542\n",
      "Epoch 78/100\n",
      "40/40 [==============================] - 1s 35ms/step - loss: 0.4303 - accuracy: 0.8597 - val_loss: 0.4073 - val_accuracy: 0.8494\n",
      "Epoch 79/100\n",
      "40/40 [==============================] - 1s 35ms/step - loss: 0.4353 - accuracy: 0.8605 - val_loss: 0.4049 - val_accuracy: 0.8590\n",
      "Epoch 80/100\n",
      "40/40 [==============================] - 1s 33ms/step - loss: 0.4504 - accuracy: 0.8465 - val_loss: 0.4025 - val_accuracy: 0.8574\n",
      "Epoch 81/100\n",
      "40/40 [==============================] - 1s 37ms/step - loss: 0.4245 - accuracy: 0.8733 - val_loss: 0.4026 - val_accuracy: 0.8558\n",
      "Epoch 82/100\n",
      "40/40 [==============================] - 1s 35ms/step - loss: 0.4371 - accuracy: 0.8617 - val_loss: 0.4025 - val_accuracy: 0.8542\n",
      "Epoch 83/100\n",
      "40/40 [==============================] - 1s 33ms/step - loss: 0.4482 - accuracy: 0.8487 - val_loss: 0.4088 - val_accuracy: 0.8542\n",
      "Epoch 84/100\n",
      "40/40 [==============================] - 1s 35ms/step - loss: 0.4469 - accuracy: 0.8457 - val_loss: 0.4030 - val_accuracy: 0.8558\n",
      "Epoch 85/100\n",
      "40/40 [==============================] - 1s 36ms/step - loss: 0.4473 - accuracy: 0.8493 - val_loss: 0.4041 - val_accuracy: 0.8526\n",
      "Epoch 86/100\n",
      "40/40 [==============================] - 1s 32ms/step - loss: 0.4235 - accuracy: 0.8688 - val_loss: 0.4026 - val_accuracy: 0.8558\n",
      "Epoch 87/100\n",
      "40/40 [==============================] - 1s 37ms/step - loss: 0.4280 - accuracy: 0.8567 - val_loss: 0.4039 - val_accuracy: 0.8542\n",
      "Epoch 88/100\n",
      "40/40 [==============================] - 1s 37ms/step - loss: 0.4291 - accuracy: 0.8542 - val_loss: 0.4038 - val_accuracy: 0.8558\n",
      "Epoch 89/100\n",
      "40/40 [==============================] - 1s 35ms/step - loss: 0.4381 - accuracy: 0.8648 - val_loss: 0.4066 - val_accuracy: 0.8542\n",
      "Epoch 90/100\n",
      "40/40 [==============================] - 1s 36ms/step - loss: 0.4362 - accuracy: 0.8499 - val_loss: 0.4038 - val_accuracy: 0.8510\n",
      "Epoch 91/100\n",
      "40/40 [==============================] - 1s 38ms/step - loss: 0.4196 - accuracy: 0.8631 - val_loss: 0.4050 - val_accuracy: 0.8558\n",
      "Epoch 92/100\n",
      "40/40 [==============================] - 1s 37ms/step - loss: 0.4257 - accuracy: 0.8581 - val_loss: 0.4056 - val_accuracy: 0.8542\n",
      "Epoch 93/100\n",
      "40/40 [==============================] - 2s 39ms/step - loss: 0.4313 - accuracy: 0.8507 - val_loss: 0.4035 - val_accuracy: 0.8590\n",
      "Epoch 94/100\n",
      "40/40 [==============================] - 1s 36ms/step - loss: 0.4405 - accuracy: 0.8613 - val_loss: 0.4038 - val_accuracy: 0.8590\n",
      "Epoch 95/100\n",
      "40/40 [==============================] - 1s 34ms/step - loss: 0.4343 - accuracy: 0.8643 - val_loss: 0.4047 - val_accuracy: 0.8542\n",
      "Epoch 96/100\n",
      "40/40 [==============================] - 1s 36ms/step - loss: 0.4345 - accuracy: 0.8595 - val_loss: 0.4048 - val_accuracy: 0.8574\n",
      "Epoch 97/100\n",
      "40/40 [==============================] - 1s 34ms/step - loss: 0.4365 - accuracy: 0.8700 - val_loss: 0.4043 - val_accuracy: 0.8574\n",
      "Epoch 98/100\n",
      "40/40 [==============================] - 1s 36ms/step - loss: 0.4209 - accuracy: 0.8799 - val_loss: 0.4031 - val_accuracy: 0.8558\n",
      "Epoch 99/100\n",
      "40/40 [==============================] - 1s 32ms/step - loss: 0.4530 - accuracy: 0.8540 - val_loss: 0.4053 - val_accuracy: 0.8558\n",
      "Epoch 100/100\n",
      "40/40 [==============================] - 1s 36ms/step - loss: 0.4238 - accuracy: 0.8642 - val_loss: 0.4045 - val_accuracy: 0.8542\n"
     ]
    },
    {
     "data": {
      "text/plain": [
       "<tensorflow.python.keras.callbacks.History at 0x7ff0ac33d9d0>"
      ]
     },
     "execution_count": 16,
     "metadata": {},
     "output_type": "execute_result"
    }
   ],
   "source": [
    "n_epoch = 150\n",
    "lr = LearningRateScheduler(lambda e: sigmoidal_decay(e, end=n_epoch))\n",
    "batch_size = 64\n",
    "params = {'batch_size': batch_size,\n",
    "#          'input_shape': (100, 313, 1),\n",
    "          'shuffle': True,\n",
    "          'beta_param': 0.7,\n",
    "          'mixup': True,\n",
    "#          'lowpass': [.5, [11,12,13,14,15,16,17,18]]\n",
    "#          'highpass': [.5, [78,79,80,81,82,83,84,85]]\n",
    "          'ranfilter2' : [3, [18,19,20,21,22,23]]\n",
    "#           'dropblock' : [30, 100]\n",
    "          #'device' : device\n",
    "}\n",
    "\n",
    "params_no_shuffle = {'batch_size': batch_size,\n",
    "#          'input_shape': (100, 313, 1),\n",
    "          'shuffle': False,\n",
    "          'beta_param': 0.7,\n",
    "          'mixup': False\n",
    "          #'device': device\n",
    "}\n",
    "\n",
    "TrainDGen_1 = Generator0([features_trn[0]['age'],features_trn[0]['sex'], features_trn[0]['hw'], features_trn[0]['preg'], features_trn[0]['loc'], \n",
    "           features_trn[0]['mel1']], \n",
    "                        features_trn[1],  ## our Y\n",
    "                        **params)()\n",
    "\n",
    "ValDGen_1 = Generator0([features_test[0]['age'],features_test[0]['sex'], features_test[0]['hw'], features_test[0]['preg'], features_test[0]['loc'], \n",
    "           features_test[0]['mel1']], \n",
    "                        features_test[1],  ## our Y\n",
    "                        **params_no_shuffle)()\n",
    "\n",
    "    \n",
    "model1.fit(TrainDGen_1,\n",
    "          validation_data = ([features_test[0]['age'],features_test[0]['sex'], features_test[0]['hw'], \n",
    "                              features_test[0]['preg'], features_test[0]['loc'], features_test[0]['mel1']], \n",
    "                             features_test[1]), \n",
    "                             callbacks=[lr],\n",
    "                              steps_per_epoch=np.ceil(len(features_trn[1])/64),\n",
    "                             epochs = n_epoch)"
   ]
  },
  {
   "cell_type": "code",
   "execution_count": 17,
   "id": "68690eaa",
   "metadata": {},
   "outputs": [
    {
     "name": "stdout",
     "output_type": "stream",
     "text": [
      "Epoch 1/100\n",
      "40/40 [==============================] - 2s 46ms/step - loss: 1.2134 - accuracy: 0.4917 - val_loss: 0.6831 - val_accuracy: 0.4992\n",
      "Epoch 2/100\n",
      "40/40 [==============================] - 1s 36ms/step - loss: 0.6948 - accuracy: 0.5240 - val_loss: 0.6690 - val_accuracy: 0.5357\n",
      "Epoch 3/100\n",
      "40/40 [==============================] - 2s 41ms/step - loss: 0.6839 - accuracy: 0.5468 - val_loss: 0.6504 - val_accuracy: 0.6450\n",
      "Epoch 4/100\n",
      "40/40 [==============================] - 2s 39ms/step - loss: 0.6851 - accuracy: 0.5499 - val_loss: 0.6630 - val_accuracy: 0.6276\n",
      "Epoch 5/100\n",
      "40/40 [==============================] - 1s 36ms/step - loss: 0.6879 - accuracy: 0.5547 - val_loss: 0.6520 - val_accuracy: 0.6482\n",
      "Epoch 6/100\n",
      "40/40 [==============================] - 2s 38ms/step - loss: 0.6820 - accuracy: 0.5473 - val_loss: 0.6293 - val_accuracy: 0.6482\n",
      "Epoch 7/100\n",
      "40/40 [==============================] - 2s 40ms/step - loss: 0.6806 - accuracy: 0.5509 - val_loss: 0.6360 - val_accuracy: 0.6418\n",
      "Epoch 8/100\n",
      "40/40 [==============================] - 2s 39ms/step - loss: 0.6693 - accuracy: 0.6011 - val_loss: 0.6562 - val_accuracy: 0.6212\n",
      "Epoch 9/100\n",
      "40/40 [==============================] - 2s 39ms/step - loss: 0.6744 - accuracy: 0.5676 - val_loss: 0.6481 - val_accuracy: 0.6292\n",
      "Epoch 10/100\n",
      "40/40 [==============================] - 1s 37ms/step - loss: 0.6762 - accuracy: 0.5810 - val_loss: 0.6399 - val_accuracy: 0.6323\n",
      "Epoch 11/100\n",
      "40/40 [==============================] - 2s 38ms/step - loss: 0.6765 - accuracy: 0.6084 - val_loss: 0.6385 - val_accuracy: 0.6371\n",
      "Epoch 12/100\n",
      "40/40 [==============================] - 2s 39ms/step - loss: 0.6755 - accuracy: 0.5767 - val_loss: 0.6488 - val_accuracy: 0.6149\n",
      "Epoch 13/100\n",
      "40/40 [==============================] - 1s 37ms/step - loss: 0.6757 - accuracy: 0.5655 - val_loss: 0.6357 - val_accuracy: 0.6355\n",
      "Epoch 14/100\n",
      "40/40 [==============================] - 1s 38ms/step - loss: 0.6749 - accuracy: 0.5914 - val_loss: 0.6395 - val_accuracy: 0.6165\n",
      "Epoch 15/100\n",
      "40/40 [==============================] - 1s 38ms/step - loss: 0.6737 - accuracy: 0.5954 - val_loss: 0.6493 - val_accuracy: 0.5198\n",
      "Epoch 16/100\n",
      "40/40 [==============================] - 2s 40ms/step - loss: 0.6724 - accuracy: 0.6097 - val_loss: 0.6199 - val_accuracy: 0.6307\n",
      "Epoch 17/100\n",
      "40/40 [==============================] - 1s 36ms/step - loss: 0.6716 - accuracy: 0.5953 - val_loss: 0.6366 - val_accuracy: 0.5975\n",
      "Epoch 18/100\n",
      "40/40 [==============================] - 1s 35ms/step - loss: 0.6667 - accuracy: 0.6111 - val_loss: 0.6350 - val_accuracy: 0.6022\n",
      "Epoch 19/100\n",
      "40/40 [==============================] - 1s 35ms/step - loss: 0.6918 - accuracy: 0.5703 - val_loss: 0.6350 - val_accuracy: 0.6101\n",
      "Epoch 20/100\n",
      "40/40 [==============================] - 1s 34ms/step - loss: 0.6673 - accuracy: 0.6187 - val_loss: 0.6345 - val_accuracy: 0.6101\n",
      "Epoch 21/100\n",
      "40/40 [==============================] - 1s 37ms/step - loss: 0.6660 - accuracy: 0.6058 - val_loss: 0.6300 - val_accuracy: 0.6149\n",
      "Epoch 22/100\n",
      "40/40 [==============================] - 1s 37ms/step - loss: 0.6623 - accuracy: 0.5952 - val_loss: 0.6226 - val_accuracy: 0.6403\n",
      "Epoch 23/100\n",
      "40/40 [==============================] - 1s 33ms/step - loss: 0.6641 - accuracy: 0.6068 - val_loss: 0.6358 - val_accuracy: 0.6006\n",
      "Epoch 24/100\n",
      "40/40 [==============================] - 2s 38ms/step - loss: 0.6646 - accuracy: 0.6079 - val_loss: 0.6383 - val_accuracy: 0.6038\n",
      "Epoch 25/100\n",
      "40/40 [==============================] - 2s 40ms/step - loss: 0.6722 - accuracy: 0.5900 - val_loss: 0.6431 - val_accuracy: 0.5658\n",
      "Epoch 26/100\n",
      "40/40 [==============================] - 1s 35ms/step - loss: 0.6635 - accuracy: 0.5986 - val_loss: 0.6338 - val_accuracy: 0.6197\n",
      "Epoch 27/100\n",
      "40/40 [==============================] - 1s 36ms/step - loss: 0.6665 - accuracy: 0.6033 - val_loss: 0.6426 - val_accuracy: 0.6323\n",
      "Epoch 28/100\n",
      "40/40 [==============================] - 1s 34ms/step - loss: 0.6605 - accuracy: 0.6063 - val_loss: 0.6616 - val_accuracy: 0.5293\n",
      "Epoch 29/100\n",
      "40/40 [==============================] - 1s 35ms/step - loss: 0.6647 - accuracy: 0.6161 - val_loss: 0.6358 - val_accuracy: 0.6165\n",
      "Epoch 30/100\n",
      "40/40 [==============================] - 1s 35ms/step - loss: 0.6659 - accuracy: 0.5888 - val_loss: 0.6481 - val_accuracy: 0.5689\n",
      "Epoch 31/100\n",
      "40/40 [==============================] - 1s 36ms/step - loss: 0.6655 - accuracy: 0.5977 - val_loss: 0.6357 - val_accuracy: 0.6086\n",
      "Epoch 32/100\n",
      "40/40 [==============================] - 1s 35ms/step - loss: 0.6610 - accuracy: 0.6193 - val_loss: 0.6243 - val_accuracy: 0.6212\n",
      "Epoch 33/100\n",
      "40/40 [==============================] - 1s 36ms/step - loss: 0.6596 - accuracy: 0.6181 - val_loss: 0.6286 - val_accuracy: 0.6228\n",
      "Epoch 34/100\n",
      "40/40 [==============================] - 1s 37ms/step - loss: 0.6669 - accuracy: 0.5928 - val_loss: 0.6676 - val_accuracy: 0.5943\n",
      "Epoch 35/100\n",
      "40/40 [==============================] - 1s 34ms/step - loss: 0.6539 - accuracy: 0.6301 - val_loss: 0.6396 - val_accuracy: 0.5642\n",
      "Epoch 36/100\n",
      "40/40 [==============================] - 2s 38ms/step - loss: 0.6496 - accuracy: 0.6459 - val_loss: 0.6373 - val_accuracy: 0.5911\n",
      "Epoch 37/100\n",
      "40/40 [==============================] - 2s 42ms/step - loss: 0.6524 - accuracy: 0.6267 - val_loss: 0.6517 - val_accuracy: 0.5499\n",
      "Epoch 38/100\n",
      "40/40 [==============================] - 2s 40ms/step - loss: 0.6654 - accuracy: 0.6009 - val_loss: 0.6460 - val_accuracy: 0.5499\n",
      "Epoch 39/100\n",
      "40/40 [==============================] - 1s 37ms/step - loss: 0.6598 - accuracy: 0.6011 - val_loss: 0.6278 - val_accuracy: 0.6276\n",
      "Epoch 40/100\n",
      "40/40 [==============================] - 1s 37ms/step - loss: 0.6542 - accuracy: 0.6451 - val_loss: 0.6331 - val_accuracy: 0.6323\n",
      "Epoch 41/100\n",
      "40/40 [==============================] - 1s 36ms/step - loss: 0.6496 - accuracy: 0.6294 - val_loss: 0.6535 - val_accuracy: 0.6006\n",
      "Epoch 42/100\n",
      "40/40 [==============================] - 1s 35ms/step - loss: 0.6454 - accuracy: 0.6201 - val_loss: 0.6412 - val_accuracy: 0.6006\n",
      "Epoch 43/100\n",
      "40/40 [==============================] - 1s 38ms/step - loss: 0.6492 - accuracy: 0.6254 - val_loss: 0.6430 - val_accuracy: 0.5705\n",
      "Epoch 44/100\n",
      "40/40 [==============================] - 1s 35ms/step - loss: 0.6431 - accuracy: 0.6458 - val_loss: 0.6307 - val_accuracy: 0.6165\n",
      "Epoch 45/100\n",
      "40/40 [==============================] - 2s 39ms/step - loss: 0.6544 - accuracy: 0.6233 - val_loss: 0.6663 - val_accuracy: 0.5943\n",
      "Epoch 46/100\n",
      "40/40 [==============================] - 1s 35ms/step - loss: 0.6461 - accuracy: 0.6311 - val_loss: 0.6498 - val_accuracy: 0.6181\n",
      "Epoch 47/100\n",
      "40/40 [==============================] - 1s 37ms/step - loss: 0.6493 - accuracy: 0.6188 - val_loss: 0.6388 - val_accuracy: 0.6022\n",
      "Epoch 48/100\n",
      "40/40 [==============================] - 1s 34ms/step - loss: 0.6543 - accuracy: 0.6106 - val_loss: 0.6448 - val_accuracy: 0.6101\n",
      "Epoch 49/100\n",
      "40/40 [==============================] - 1s 38ms/step - loss: 0.6471 - accuracy: 0.6282 - val_loss: 0.6324 - val_accuracy: 0.6292\n",
      "Epoch 50/100\n",
      "40/40 [==============================] - 1s 37ms/step - loss: 0.6376 - accuracy: 0.6305 - val_loss: 0.6474 - val_accuracy: 0.6054\n",
      "Epoch 51/100\n",
      "40/40 [==============================] - 1s 35ms/step - loss: 0.6348 - accuracy: 0.6454 - val_loss: 0.6574 - val_accuracy: 0.5737\n",
      "Epoch 52/100\n",
      "40/40 [==============================] - 1s 38ms/step - loss: 0.6426 - accuracy: 0.6427 - val_loss: 0.6439 - val_accuracy: 0.6149\n",
      "Epoch 53/100\n",
      "40/40 [==============================] - 1s 36ms/step - loss: 0.6386 - accuracy: 0.6353 - val_loss: 0.6436 - val_accuracy: 0.6181\n",
      "Epoch 54/100\n",
      "40/40 [==============================] - 1s 36ms/step - loss: 0.6340 - accuracy: 0.6576 - val_loss: 0.6436 - val_accuracy: 0.6228\n",
      "Epoch 55/100\n",
      "40/40 [==============================] - 1s 36ms/step - loss: 0.6340 - accuracy: 0.6718 - val_loss: 0.6676 - val_accuracy: 0.6260\n",
      "Epoch 56/100\n",
      "40/40 [==============================] - 1s 36ms/step - loss: 0.6347 - accuracy: 0.6523 - val_loss: 0.6428 - val_accuracy: 0.6260\n",
      "Epoch 57/100\n",
      "40/40 [==============================] - 1s 36ms/step - loss: 0.6429 - accuracy: 0.6497 - val_loss: 0.6457 - val_accuracy: 0.6228\n",
      "Epoch 58/100\n"
     ]
    },
    {
     "name": "stdout",
     "output_type": "stream",
     "text": [
      "40/40 [==============================] - 1s 34ms/step - loss: 0.6363 - accuracy: 0.6471 - val_loss: 0.6483 - val_accuracy: 0.6212\n",
      "Epoch 59/100\n",
      "40/40 [==============================] - 1s 35ms/step - loss: 0.6371 - accuracy: 0.6391 - val_loss: 0.6739 - val_accuracy: 0.5784\n",
      "Epoch 60/100\n",
      "40/40 [==============================] - 1s 37ms/step - loss: 0.6302 - accuracy: 0.6461 - val_loss: 0.6599 - val_accuracy: 0.6276\n",
      "Epoch 61/100\n",
      "40/40 [==============================] - 1s 34ms/step - loss: 0.6340 - accuracy: 0.6604 - val_loss: 0.6481 - val_accuracy: 0.6228\n",
      "Epoch 62/100\n",
      "40/40 [==============================] - 1s 36ms/step - loss: 0.6220 - accuracy: 0.6624 - val_loss: 0.6493 - val_accuracy: 0.6292\n",
      "Epoch 63/100\n",
      "40/40 [==============================] - 1s 34ms/step - loss: 0.6218 - accuracy: 0.6590 - val_loss: 0.6490 - val_accuracy: 0.6323\n",
      "Epoch 64/100\n",
      "40/40 [==============================] - 1s 33ms/step - loss: 0.6141 - accuracy: 0.6634 - val_loss: 0.6685 - val_accuracy: 0.5864\n",
      "Epoch 65/100\n",
      "40/40 [==============================] - 1s 36ms/step - loss: 0.6249 - accuracy: 0.6580 - val_loss: 0.6458 - val_accuracy: 0.6403\n",
      "Epoch 66/100\n",
      "40/40 [==============================] - 1s 38ms/step - loss: 0.6263 - accuracy: 0.6714 - val_loss: 0.6639 - val_accuracy: 0.6038\n",
      "Epoch 67/100\n",
      "40/40 [==============================] - 2s 39ms/step - loss: 0.6242 - accuracy: 0.6651 - val_loss: 0.6603 - val_accuracy: 0.6181\n",
      "Epoch 68/100\n",
      "40/40 [==============================] - 1s 36ms/step - loss: 0.6232 - accuracy: 0.6575 - val_loss: 0.6586 - val_accuracy: 0.6260\n",
      "Epoch 69/100\n",
      "40/40 [==============================] - 1s 35ms/step - loss: 0.6229 - accuracy: 0.6630 - val_loss: 0.6566 - val_accuracy: 0.6260\n",
      "Epoch 70/100\n",
      "40/40 [==============================] - 1s 34ms/step - loss: 0.6176 - accuracy: 0.6748 - val_loss: 0.6528 - val_accuracy: 0.6307\n",
      "Epoch 71/100\n",
      "40/40 [==============================] - 1s 37ms/step - loss: 0.6041 - accuracy: 0.6868 - val_loss: 0.6581 - val_accuracy: 0.6149\n",
      "Epoch 72/100\n",
      "40/40 [==============================] - 1s 36ms/step - loss: 0.6219 - accuracy: 0.6680 - val_loss: 0.6635 - val_accuracy: 0.6133\n",
      "Epoch 73/100\n",
      "40/40 [==============================] - 1s 37ms/step - loss: 0.6226 - accuracy: 0.6697 - val_loss: 0.6571 - val_accuracy: 0.6292\n",
      "Epoch 74/100\n",
      "40/40 [==============================] - 1s 37ms/step - loss: 0.6169 - accuracy: 0.6755 - val_loss: 0.6566 - val_accuracy: 0.6276\n",
      "Epoch 75/100\n",
      "40/40 [==============================] - 1s 36ms/step - loss: 0.6170 - accuracy: 0.6753 - val_loss: 0.6611 - val_accuracy: 0.6276\n",
      "Epoch 76/100\n",
      "40/40 [==============================] - 1s 37ms/step - loss: 0.6243 - accuracy: 0.6671 - val_loss: 0.6601 - val_accuracy: 0.6339\n",
      "Epoch 77/100\n",
      "40/40 [==============================] - 2s 39ms/step - loss: 0.6143 - accuracy: 0.6608 - val_loss: 0.6664 - val_accuracy: 0.6054\n",
      "Epoch 78/100\n",
      "40/40 [==============================] - 1s 36ms/step - loss: 0.6217 - accuracy: 0.6618 - val_loss: 0.6633 - val_accuracy: 0.6276\n",
      "Epoch 79/100\n",
      "40/40 [==============================] - 1s 35ms/step - loss: 0.6199 - accuracy: 0.6824 - val_loss: 0.6664 - val_accuracy: 0.6276\n",
      "Epoch 80/100\n",
      "40/40 [==============================] - 1s 35ms/step - loss: 0.6165 - accuracy: 0.6778 - val_loss: 0.6622 - val_accuracy: 0.6244\n",
      "Epoch 81/100\n",
      "40/40 [==============================] - 1s 36ms/step - loss: 0.6044 - accuracy: 0.6820 - val_loss: 0.6624 - val_accuracy: 0.6355\n",
      "Epoch 82/100\n",
      "40/40 [==============================] - 1s 36ms/step - loss: 0.6172 - accuracy: 0.6538 - val_loss: 0.6622 - val_accuracy: 0.6323\n",
      "Epoch 83/100\n",
      "40/40 [==============================] - 1s 34ms/step - loss: 0.6217 - accuracy: 0.6739 - val_loss: 0.6658 - val_accuracy: 0.6165\n",
      "Epoch 84/100\n",
      "40/40 [==============================] - 1s 36ms/step - loss: 0.6216 - accuracy: 0.6784 - val_loss: 0.6620 - val_accuracy: 0.6339\n",
      "Epoch 85/100\n",
      "40/40 [==============================] - 1s 35ms/step - loss: 0.6146 - accuracy: 0.6844 - val_loss: 0.6636 - val_accuracy: 0.6339\n",
      "Epoch 86/100\n",
      "40/40 [==============================] - 1s 37ms/step - loss: 0.6123 - accuracy: 0.6794 - val_loss: 0.6630 - val_accuracy: 0.6403\n",
      "Epoch 87/100\n",
      "40/40 [==============================] - 1s 37ms/step - loss: 0.6136 - accuracy: 0.6754 - val_loss: 0.6654 - val_accuracy: 0.6212\n",
      "Epoch 88/100\n",
      "40/40 [==============================] - 1s 36ms/step - loss: 0.6122 - accuracy: 0.6879 - val_loss: 0.6648 - val_accuracy: 0.6292\n",
      "Epoch 89/100\n",
      "40/40 [==============================] - 1s 36ms/step - loss: 0.6173 - accuracy: 0.6848 - val_loss: 0.6608 - val_accuracy: 0.6323\n",
      "Epoch 90/100\n",
      "40/40 [==============================] - 1s 35ms/step - loss: 0.6216 - accuracy: 0.6587 - val_loss: 0.6607 - val_accuracy: 0.6339\n",
      "Epoch 91/100\n",
      "40/40 [==============================] - 1s 34ms/step - loss: 0.6168 - accuracy: 0.6767 - val_loss: 0.6616 - val_accuracy: 0.6371\n",
      "Epoch 92/100\n",
      "40/40 [==============================] - 1s 34ms/step - loss: 0.6176 - accuracy: 0.6887 - val_loss: 0.6617 - val_accuracy: 0.6323\n",
      "Epoch 93/100\n",
      "40/40 [==============================] - 1s 35ms/step - loss: 0.6135 - accuracy: 0.6622 - val_loss: 0.6601 - val_accuracy: 0.6371\n",
      "Epoch 94/100\n",
      "40/40 [==============================] - 1s 34ms/step - loss: 0.6230 - accuracy: 0.6660 - val_loss: 0.6578 - val_accuracy: 0.6403\n",
      "Epoch 95/100\n",
      "40/40 [==============================] - 1s 36ms/step - loss: 0.6164 - accuracy: 0.6690 - val_loss: 0.6588 - val_accuracy: 0.6355\n",
      "Epoch 96/100\n",
      "40/40 [==============================] - 1s 34ms/step - loss: 0.6040 - accuracy: 0.6877 - val_loss: 0.6594 - val_accuracy: 0.6355\n",
      "Epoch 97/100\n",
      "40/40 [==============================] - 1s 34ms/step - loss: 0.6169 - accuracy: 0.6694 - val_loss: 0.6621 - val_accuracy: 0.6307\n",
      "Epoch 98/100\n",
      "40/40 [==============================] - 1s 35ms/step - loss: 0.6116 - accuracy: 0.6717 - val_loss: 0.6618 - val_accuracy: 0.6323\n",
      "Epoch 99/100\n",
      "40/40 [==============================] - 1s 36ms/step - loss: 0.6137 - accuracy: 0.6765 - val_loss: 0.6623 - val_accuracy: 0.6276\n",
      "Epoch 100/100\n",
      "40/40 [==============================] - 1s 37ms/step - loss: 0.6065 - accuracy: 0.6954 - val_loss: 0.6617 - val_accuracy: 0.6418\n"
     ]
    },
    {
     "data": {
      "text/plain": [
       "<tensorflow.python.keras.callbacks.History at 0x7ff0ac023ad0>"
      ]
     },
     "execution_count": 17,
     "metadata": {},
     "output_type": "execute_result"
    }
   ],
   "source": [
    "n_epoch = 100\n",
    "lr = LearningRateScheduler(lambda e: sigmoidal_decay(e, end=n_epoch))\n",
    "batch_size = 64\n",
    "params = {'batch_size': batch_size,\n",
    "#          'input_shape': (100, 313, 1),\n",
    "          'shuffle': True,\n",
    "          'beta_param': 0.7,\n",
    "          'mixup': True,\n",
    "#          'lowpass': [.5, [11,12,13,14,15,16,17,18]]\n",
    "          'highpass': [.5, [78,79,80,81,82,83,84,85]],\n",
    "          'ranfilter2' : [3, [18,19,20,21,22,23]]\n",
    "#           'dropblock' : [30, 100]\n",
    "          #'device' : device\n",
    "}\n",
    "\n",
    "params_no_shuffle = {'batch_size': batch_size,\n",
    "#          'input_shape': (100, 313, 1),\n",
    "          'shuffle': False,\n",
    "          'beta_param': 0.7,\n",
    "          'mixup': False\n",
    "          #'device': device\n",
    "}\n",
    "\n",
    "TrainDGen_1 = Generator0([features_trn[0]['age'],features_trn[0]['sex'], features_trn[0]['hw'], features_trn[0]['preg'], features_trn[0]['loc'], \n",
    "           features_trn[0]['mel1']], \n",
    "                        features_trn[2],  ## our Y\n",
    "                        **params)()\n",
    "\n",
    "ValDGen_1 = Generator0([features_test[0]['age'],features_test[0]['sex'], features_test[0]['hw'], features_test[0]['preg'], features_test[0]['loc'], \n",
    "           features_test[0]['mel1']], \n",
    "                        features_test[2],  ## our Y\n",
    "                        **params_no_shuffle)()\n",
    "\n",
    "    \n",
    "model2.fit(TrainDGen_1,\n",
    "          validation_data = ([features_test[0]['age'],features_test[0]['sex'], features_test[0]['hw'], \n",
    "                              features_test[0]['preg'], features_test[0]['loc'], features_test[0]['mel1']], \n",
    "                             features_test[2]), \n",
    "                             callbacks=[lr],\n",
    "                              steps_per_epoch=np.ceil(len(features_trn[1])/64),\n",
    "                             epochs = n_epoch)"
   ]
  },
  {
   "cell_type": "markdown",
   "id": "5c8a190f",
   "metadata": {},
   "source": [
    "### 팀코드 수정해야 할 함수들.."
   ]
  },
  {
   "cell_type": "code",
   "execution_count": 18,
   "id": "0d1a7eb8",
   "metadata": {},
   "outputs": [],
   "source": [
    "import pickle as pk\n",
    "def save_challenge_model(model_folder, model1, model2, m_name1, m_name2, mel_shape = (100, 313, 1)) :\n",
    "    os.makedirs(model_folder, exist_ok=True)\n",
    "    info_fnm = os.path.join(model_folder, 'desc.pk')\n",
    "    filename1 = os.path.join(model_folder, m_name1 + '_model1.hdf5')\n",
    "    filename2 = os.path.join(model_folder, m_name2 + '_model2.hdf5')\n",
    "    model1.save(filename1)\n",
    "    model2.save(filename2)\n",
    "    d = {'model1': m_name1, 'model2': m_name2, 'mel_shape': mel_shape, 'model_fnm1': filename1, 'model_fnm2': filename2}    \n",
    "    with open(info_fnm, 'wb') as f:\n",
    "        pk.dump(d, f, pk.HIGHEST_PROTOCOL)\n",
    "    return 1\n",
    "    "
   ]
  },
  {
   "cell_type": "code",
   "execution_count": 41,
   "id": "0e580187",
   "metadata": {},
   "outputs": [
    {
     "data": {
      "text/plain": [
       "'tmp_model4'"
      ]
     },
     "execution_count": 41,
     "metadata": {},
     "output_type": "execute_result"
    }
   ],
   "source": [
    "model_folder"
   ]
  },
  {
   "cell_type": "code",
   "execution_count": 42,
   "id": "5aaf8dd4",
   "metadata": {},
   "outputs": [
    {
     "data": {
      "text/plain": [
       "1"
      ]
     },
     "execution_count": 42,
     "metadata": {},
     "output_type": "execute_result"
    }
   ],
   "source": [
    "save_challenge_model(model_folder, model1, model2, m_name1 = 'toy1', m_name2 = 'toy2')"
   ]
  },
  {
   "cell_type": "code",
   "execution_count": 30,
   "id": "f3fb17de",
   "metadata": {},
   "outputs": [],
   "source": [
    "def load_challenge_model(model_folder, verbose):\n",
    "    info_fnm = os.path.join(model_folder, 'desc.pk')\n",
    "    with open(info_fnm, 'rb') as f:\n",
    "        info_m = pk.load(f)\n",
    "#    if info_m['model'] == 'toy' :\n",
    "#        model = get_toy(info_m['mel_shape'])\n",
    "#    filename = os.path.join(model_folder, info_m['model'] + '_model.hdf5')\n",
    "#    model.load_weights(filename)\n",
    "    return info_m"
   ]
  },
  {
   "cell_type": "code",
   "execution_count": 50,
   "id": "196e1c93",
   "metadata": {},
   "outputs": [],
   "source": [
    "def run_challenge_model(model, data, recordings, verbose):\n",
    "    \n",
    "    murmur_classes = ['Present', 'Unknown', 'Absent']\n",
    "    outcome_classes = ['Abnormal', 'Normal']\n",
    "    \n",
    "    if model['model1'] == 'toy1' :\n",
    "        model1 = get_toy4_1(model['mel_shape'])\n",
    "    if model['model2'] == 'toy2' :\n",
    "        model2 = get_toy4_2(model['mel_shape'])\n",
    "    model1.load_weights(model['model_fnm1'])\n",
    "    model2.load_weights(model['model_fnm2'])\n",
    "    \n",
    "#    classes = model['classes']\n",
    "    # Load features.\n",
    "    features = get_feature_one(data, verbose = 0)\n",
    "\n",
    "    features['mel1'] = []\n",
    "    for i in range(len(recordings)) :\n",
    "        mel1 = feature_extract_melspec(recordings[i]/ 32768)[0]\n",
    "        features['mel1'].append(mel1)\n",
    "\n",
    "    M, N = features['mel1'][0].shape\n",
    "    for i in range(len(features['mel1'])) :\n",
    "        features['mel1'][i] = features['mel1'][i].reshape(M,N,1)   \n",
    "        \n",
    "    features['mel1'] = np.array(features['mel1'])\n",
    "#    print(features)\n",
    "    # Impute missing data.\n",
    "    res1 = model1.predict([features['age'], features['sex'], features['hw'], features['preg'], features['loc'], features['mel1']])\n",
    "    res2 = model2.predict([features['age'], features['sex'], features['hw'], features['preg'], features['loc'], features['mel1']])\n",
    "\n",
    "    # Get classifier probabilities.\n",
    "    idx1 = res1.argmax(axis=0)[0]\n",
    "    murmur_probabilities = res1[idx1,]  ## mumur 확률 최대화 되는 애 뽑기\n",
    "    outcome_probabilities = res2.mean(axis = 0) ##  outcome 은 그냥 평균으로 뽑기\n",
    "    idx = np.argmax(prob1)\n",
    "\n",
    "    ## 이부분도 생각 필요.. rule 을 cost를 maximize 하는 기준으로 threshold 탐색 필요할지도..\n",
    "    # Choose label with highest probability.\n",
    "    murmur_labels = np.zeros(len(murmur_classes), dtype=np.int_)\n",
    "    idx = np.argmax(murmur_probabilities)\n",
    "    murmur_labels[idx] = 1\n",
    "    outcome_labels = np.zeros(len(outcome_classes), dtype=np.int_)\n",
    "    idx = np.argmax(outcome_probabilities)\n",
    "    outcome_labels[idx] = 1\n",
    "    \n",
    "    # Concatenate classes, labels, and probabilities.\n",
    "    classes = murmur_classes + outcome_classes\n",
    "    labels = np.concatenate((murmur_labels, outcome_labels))\n",
    "    probabilities = np.concatenate((murmur_probabilities, outcome_probabilities))\n",
    "    \n",
    "    return classes, labels, probabilities"
   ]
  },
  {
   "cell_type": "markdown",
   "id": "4c821383",
   "metadata": {},
   "source": [
    "### 대회 평가용 run_model 함수 (수정 불필요)"
   ]
  },
  {
   "cell_type": "code",
   "execution_count": 32,
   "id": "8791a299",
   "metadata": {},
   "outputs": [],
   "source": [
    "# Run model.\n",
    "def run_model(model_folder, data_folder, output_folder, allow_failures, verbose):\n",
    "    # Load models.\n",
    "    if verbose >= 1:\n",
    "        print('Loading Challenge model...')\n",
    "\n",
    "    model = load_challenge_model(model_folder, verbose) ### Teams: Implement this function!!!\n",
    "\n",
    "    # Find the patient data files.\n",
    "    patient_files = find_patient_files(data_folder)\n",
    "    num_patient_files = len(patient_files)\n",
    "\n",
    "    if num_patient_files==0:\n",
    "        raise Exception('No data was provided.')\n",
    "\n",
    "    # Create a folder for the Challenge outputs if it does not already exist.\n",
    "    os.makedirs(output_folder, exist_ok=True)\n",
    "\n",
    "    # Run the team's model on the Challenge data.\n",
    "    if verbose >= 1:\n",
    "        print('Running model on Challenge data...')\n",
    "\n",
    "    # Iterate over the patient files.\n",
    "    for i in range(num_patient_files):\n",
    "        if verbose >= 2:\n",
    "            print('    {}/{}...'.format(i+1, num_patient_files))\n",
    "\n",
    "        patient_data = load_patient_data(patient_files[i])\n",
    "        recordings = load_recordings(data_folder, patient_data)\n",
    "\n",
    "        # Allow or disallow the model to fail on parts of the data; helpful for debugging.\n",
    "        try:\n",
    "            classes, labels, probabilities = run_challenge_model(model, patient_data, recordings, verbose) ### Teams: Implement this function!!!\n",
    "        except:\n",
    "            if allow_failures:\n",
    "                if verbose >= 2:\n",
    "                    print('... failed.')\n",
    "                classes, labels, probabilities = list(), list(), list()\n",
    "            else:\n",
    "                raise\n",
    "\n",
    "        # Save Challenge outputs.\n",
    "        head, tail = os.path.split(patient_files[i])\n",
    "        root, extension = os.path.splitext(tail)\n",
    "        output_file = os.path.join(output_folder, root + '.csv')\n",
    "        patient_id = get_patient_id(patient_data)\n",
    "        save_challenge_outputs(output_file, patient_id, classes, labels, probabilities)\n",
    "\n",
    "    if verbose >= 1:\n",
    "        print('Done.')"
   ]
  },
  {
   "cell_type": "code",
   "execution_count": 33,
   "id": "fd960579",
   "metadata": {},
   "outputs": [
    {
     "data": {
      "text/plain": [
       "'tmp_model4'"
      ]
     },
     "execution_count": 33,
     "metadata": {},
     "output_type": "execute_result"
    }
   ],
   "source": [
    "## 우리 모형 저장된 폴더이름\n",
    "model_folder"
   ]
  },
  {
   "cell_type": "code",
   "execution_count": 34,
   "id": "635c0544",
   "metadata": {},
   "outputs": [
    {
     "data": {
      "text/plain": [
       "'/home/ubuntu/data/hmd/murmur/test'"
      ]
     },
     "execution_count": 34,
     "metadata": {},
     "output_type": "execute_result"
    }
   ],
   "source": [
    "## 테스트 데이터 폴더\n",
    "test_folder"
   ]
  },
  {
   "cell_type": "code",
   "execution_count": 55,
   "id": "b909c2a5",
   "metadata": {},
   "outputs": [],
   "source": [
    "## 테스트 데이터에 모형 돌려서 스코어 저장할 폴더\n",
    "output_folder = '/home/ubuntu/hmd/notebooks/out2'"
   ]
  },
  {
   "cell_type": "markdown",
   "id": "5de8d095",
   "metadata": {},
   "source": [
    "이거 아래 돌아갈 때 뭔가 잘못된듯..? 디버깅 필요"
   ]
  },
  {
   "cell_type": "code",
   "execution_count": 56,
   "id": "0f720d74",
   "metadata": {},
   "outputs": [
    {
     "name": "stdout",
     "output_type": "stream",
     "text": [
      "Loading Challenge model...\n",
      "Running model on Challenge data...\n",
      "Done.\n"
     ]
    }
   ],
   "source": [
    "run_model(model_folder, test_folder, output_folder, allow_failures = True, verbose = 1)"
   ]
  },
  {
   "cell_type": "markdown",
   "id": "a8cda542",
   "metadata": {},
   "source": []
  },
  {
   "cell_type": "code",
   "execution_count": 64,
   "id": "c138709a",
   "metadata": {},
   "outputs": [
    {
     "name": "stdout",
     "output_type": "stream",
     "text": [
      "#49628\r\n",
      "\r\n",
      "\r\n",
      "\r\n"
     ]
    }
   ],
   "source": [
    "!cat /home/ubuntu/hmd/notebooks/out1/49628.csv"
   ]
  },
  {
   "cell_type": "markdown",
   "id": "ef522148",
   "metadata": {},
   "source": [
    "뭔가  이상함.. 기록이 안되어있음"
   ]
  },
  {
   "cell_type": "code",
   "execution_count": 57,
   "id": "6feecae4",
   "metadata": {},
   "outputs": [],
   "source": [
    "from evaluate_model import *"
   ]
  },
  {
   "cell_type": "code",
   "execution_count": 58,
   "id": "c9cb6f1d",
   "metadata": {},
   "outputs": [
    {
     "name": "stdout",
     "output_type": "stream",
     "text": [
      "#Murmur scores\n",
      "AUROC,AUPRC,F-measure,Accuracy,Weighted Accuracy,Cost\n",
      "0.500,0.333,0.111,0.199,0.512,15140.890\n",
      "\n",
      "#Outcome scores\n",
      "AUROC,AUPRC,F-measure,Accuracy,Weighted Accuracy,Cost\n",
      "0.500,0.500,0.339,0.513,0.840,15140.890\n",
      "\n",
      "#Murmur scores (per class)\n",
      "Classes,Present,Unknown,Absent\n",
      "AUROC,0.500,0.500,0.500\n",
      "AUPRC,0.199,0.073,0.728\n",
      "F-measure,0.332,0.000,0.000\n",
      "Accuracy,1.000,0.000,0.000\n",
      "\n",
      "#Outcome scores (per class)\n",
      "Classes,Abnormal,Normal\n",
      "AUROC,0.500,0.500\n",
      "AUPRC,0.513,0.487\n",
      "F-measure,0.678,0.000\n",
      "Accuracy,1.000,0.000\n",
      "\n"
     ]
    }
   ],
   "source": [
    "murmur_scores, outcome_scores = evaluate_model(test_folder, output_folder)\n",
    "classes, auroc, auprc, auroc_classes, auprc_classes, f_measure, f_measure_classes, accuracy, accuracy_classes, weighted_accuracy, cost = murmur_scores\n",
    "murmur_output_string = 'AUROC,AUPRC,F-measure,Accuracy,Weighted Accuracy,Cost\\n{:.3f},{:.3f},{:.3f},{:.3f},{:.3f},{:.3f}\\n'.format(auroc, auprc, f_measure, accuracy, weighted_accuracy, cost)\n",
    "murmur_class_output_string = 'Classes,{}\\nAUROC,{}\\nAUPRC,{}\\nF-measure,{}\\nAccuracy,{}\\n'.format(\n",
    "    ','.join(classes),\n",
    "    ','.join('{:.3f}'.format(x) for x in auroc_classes),\n",
    "    ','.join('{:.3f}'.format(x) for x in auprc_classes),\n",
    "    ','.join('{:.3f}'.format(x) for x in f_measure_classes),\n",
    "    ','.join('{:.3f}'.format(x) for x in accuracy_classes))\n",
    "\n",
    "classes, auroc, auprc, auroc_classes, auprc_classes, f_measure, f_measure_classes, accuracy, accuracy_classes, weighted_accuracy, cost = outcome_scores\n",
    "outcome_output_string = 'AUROC,AUPRC,F-measure,Accuracy,Weighted Accuracy,Cost\\n{:.3f},{:.3f},{:.3f},{:.3f},{:.3f},{:.3f}\\n'.format(auroc, auprc, f_measure, accuracy, weighted_accuracy, cost)\n",
    "outcome_class_output_string = 'Classes,{}\\nAUROC,{}\\nAUPRC,{}\\nF-measure,{}\\nAccuracy,{}\\n'.format(\n",
    "    ','.join(classes),\n",
    "    ','.join('{:.3f}'.format(x) for x in auroc_classes),\n",
    "    ','.join('{:.3f}'.format(x) for x in auprc_classes),\n",
    "    ','.join('{:.3f}'.format(x) for x in f_measure_classes),\n",
    "    ','.join('{:.3f}'.format(x) for x in accuracy_classes))\n",
    "\n",
    "output_string = '#Murmur scores\\n' + murmur_output_string + '\\n#Outcome scores\\n' + outcome_output_string \\\n",
    "    + '\\n#Murmur scores (per class)\\n' + murmur_class_output_string + '\\n#Outcome scores (per class)\\n' + outcome_class_output_string\n",
    "\n",
    "if len(sys.argv) == 3:\n",
    "    print(output_string)\n",
    "elif len(sys.argv) == 4:\n",
    "    with open(sys.argv[3], 'w') as f:\n",
    "        f.write(output_string)"
   ]
  },
  {
   "cell_type": "markdown",
   "id": "982ed3cc",
   "metadata": {},
   "source": [
    "out 폴더에 기록 안되는 버그 수정 필요"
   ]
  },
  {
   "cell_type": "code",
   "execution_count": null,
   "id": "75d90fd6",
   "metadata": {},
   "outputs": [],
   "source": []
  }
 ],
 "metadata": {
  "kernelspec": {
   "display_name": "Environment (conda_tensorflow2.4_p37)",
   "language": "python",
   "name": "conda_tensorflow2.4_p37"
  },
  "language_info": {
   "codemirror_mode": {
    "name": "ipython",
    "version": 3
   },
   "file_extension": ".py",
   "mimetype": "text/x-python",
   "name": "python",
   "nbconvert_exporter": "python",
   "pygments_lexer": "ipython3",
   "version": "3.7.10"
  }
 },
 "nbformat": 4,
 "nbformat_minor": 5
}
