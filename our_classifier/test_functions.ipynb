{
 "cells": [
  {
   "cell_type": "code",
   "execution_count": 1,
   "id": "8d536bb7",
   "metadata": {},
   "outputs": [],
   "source": [
    "from helper_code import *"
   ]
  },
  {
   "cell_type": "code",
   "execution_count": 2,
   "id": "bf0f8f1d",
   "metadata": {},
   "outputs": [],
   "source": [
    "import numpy as np, scipy as sp, scipy.stats, os, sys, joblib"
   ]
  },
  {
   "cell_type": "code",
   "execution_count": 3,
   "id": "4f3289de",
   "metadata": {},
   "outputs": [],
   "source": [
    "from sklearn.impute import SimpleImputer\n",
    "from sklearn.ensemble import RandomForestClassifier\n"
   ]
  },
  {
   "cell_type": "markdown",
   "id": "b47ace69",
   "metadata": {},
   "source": [
    "python train_model.py training_data model"
   ]
  },
  {
   "cell_type": "code",
   "execution_count": 4,
   "id": "7350cb96",
   "metadata": {},
   "outputs": [],
   "source": [
    "import sys\n",
    "from helper_code import is_integer\n",
    "from team_code import train_challenge_model"
   ]
  },
  {
   "cell_type": "code",
   "execution_count": null,
   "id": "cf21ed82",
   "metadata": {},
   "outputs": [],
   "source": [
    "if __name__ == '__main__':\n",
    "    # Parse the arguments.\n",
    "    if not (len(sys.argv) == 3 or len(sys.argv) == 4):\n",
    "        raise Exception('Include the data and model folders as arguments, e.g., python train_model.py data model.')\n",
    "\n",
    "    # Define the data and model foldes.\n",
    "    data_folder = sys.argv[1]\n",
    "    model_folder = sys.argv[2]\n",
    "\n",
    "    # Change the level of verbosity; helpful for debugging.\n",
    "    if len(sys.argv)==4 and is_integer(sys.argv[3]):\n",
    "        verbose = int(sys.argv[3])\n",
    "    else:\n",
    "        verbose = 1\n",
    "\n",
    "    train_challenge_model(data_folder, model_folder, verbose) ### Teams: Implement this function!!!\n",
    "\n"
   ]
  },
  {
   "cell_type": "code",
   "execution_count": null,
   "id": "00024e19",
   "metadata": {},
   "outputs": [],
   "source": [
    "#root_dir = '/content/physionet.org/files/circor-heart-sound/1.0.1'\n",
    "#training_data_file = root_dir + '/' + 'training_data.csv'\n",
    "#training_data_dir = root_dir + '/' + 'training_data'\n",
    "#model_dir = root_dir + '/' + 'model'"
   ]
  },
  {
   "cell_type": "code",
   "execution_count": 9,
   "id": "622c0c83",
   "metadata": {},
   "outputs": [],
   "source": [
    "# Define the data and model foldes.\n",
    "data_folder =  '/home/ubuntu/hmd/notebooks/physionet.org/files/circor-heart-sound/1.0.1/training_data'\n",
    "model_folder = 'tmp_model1'\n",
    "\n",
    "verbose = 1\n",
    "\n",
    "# train_challenge_model(data_folder, model_folder, verbose) ### Teams: Implement this function!!!\n"
   ]
  },
  {
   "cell_type": "markdown",
   "id": "df4fc320",
   "metadata": {},
   "source": [
    "team_code.py\n"
   ]
  },
  {
   "cell_type": "code",
   "execution_count": 6,
   "id": "807ccf52",
   "metadata": {},
   "outputs": [],
   "source": [
    "from helper_code import *\n",
    "import numpy as np, scipy as sp, scipy.stats, os, sys, joblib\n",
    "from sklearn.impute import SimpleImputer\n",
    "from sklearn.ensemble import RandomForestClassifier"
   ]
  },
  {
   "cell_type": "code",
   "execution_count": null,
   "id": "12c11827",
   "metadata": {},
   "outputs": [],
   "source": [
    "\n",
    "\n",
    "# Train your model.\n",
    "def train_challenge_model(data_folder, model_folder, verbose):\n",
    "    # Find data files.\n",
    "    if verbose >= 1:\n",
    "        print('Finding data files...')\n",
    "\n",
    "\n",
    "    # Find the patient data files.\n",
    "    patient_files = find_patient_files(data_folder)\n",
    "    num_patient_files = len(patient_files)\n",
    "\n",
    "    if num_patient_files==0:\n",
    "        raise Exception('No data was provided.')\n",
    "\n",
    "    # Create a folder for the model if it does not already exist.\n",
    "    os.makedirs(model_folder, exist_ok=True)\n",
    "\n",
    "    classes = ['Present', 'Unknown', 'Absent']\n",
    "    num_classes = len(classes)\n",
    "\n",
    "    # Extract the features and labels.\n",
    "    if verbose >= 1:\n",
    "        print('Extracting features and labels from the Challenge data...')\n",
    "\n",
    "    features = list()\n",
    "    labels = list()\n",
    "\n",
    "    for i in range(num_patient_files):\n",
    "        if verbose >= 2:\n",
    "            print('    {}/{}...'.format(i+1, num_patient_files))\n",
    "\n",
    "        # Load the current patient data and recordings.\n",
    "        current_patient_data = load_patient_data(patient_files[i])\n",
    "        current_recordings = load_recordings(data_folder, current_patient_data)\n",
    "\n",
    "        # Extract features.\n",
    "        current_features = get_features(current_patient_data, current_recordings)\n",
    "        features.append(current_features)\n",
    "\n",
    "        # Extract labels and use one-hot encoding.\n",
    "        current_labels = np.zeros(num_classes, dtype=int)\n",
    "        label = get_label(current_patient_data)\n",
    "        if label in classes:\n",
    "            j = classes.index(label)\n",
    "            current_labels[j] = 1\n",
    "        labels.append(current_labels)\n",
    "\n",
    "    features = np.vstack(features)\n",
    "    labels = np.vstack(labels)\n",
    "\n",
    "    # Train the model.\n",
    "    if verbose >= 1:\n",
    "        print('Training model...')\n",
    "\n",
    "    # Define parameters for random forest classifier.\n",
    "    n_estimators = 10    # Number of trees in the forest.\n",
    "    max_leaf_nodes = 100 # Maximum number of leaf nodes in each tree.\n",
    "    random_state = 123   # Random state; set for reproducibility.\n",
    "\n",
    "    imputer = SimpleImputer().fit(features)\n",
    "    features = imputer.transform(features)\n",
    "    classifier = RandomForestClassifier(n_estimators=n_estimators, max_leaf_nodes=max_leaf_nodes, random_state=random_state).fit(features, labels)\n",
    "\n",
    "    # Save the model.\n",
    "    save_challenge_model(model_folder, classes, imputer, classifier)\n",
    "\n",
    "    if verbose >= 1:\n",
    "        print('Done.')\n"
   ]
  },
  {
   "cell_type": "code",
   "execution_count": 10,
   "id": "95c77a06",
   "metadata": {},
   "outputs": [],
   "source": [
    "patient_files = find_patient_files(data_folder)\n",
    "num_patient_files = len(patient_files)\n"
   ]
  },
  {
   "cell_type": "code",
   "execution_count": 42,
   "id": "d9b464c3",
   "metadata": {},
   "outputs": [
    {
     "data": {
      "text/plain": [
       "['/home/ubuntu/hmd/notebooks/physionet.org/files/circor-heart-sound/1.0.1/training_data/2530.txt',\n",
       " '/home/ubuntu/hmd/notebooks/physionet.org/files/circor-heart-sound/1.0.1/training_data/9979.txt',\n",
       " '/home/ubuntu/hmd/notebooks/physionet.org/files/circor-heart-sound/1.0.1/training_data/9983.txt',\n",
       " '/home/ubuntu/hmd/notebooks/physionet.org/files/circor-heart-sound/1.0.1/training_data/13918.txt',\n",
       " '/home/ubuntu/hmd/notebooks/physionet.org/files/circor-heart-sound/1.0.1/training_data/14241.txt']"
      ]
     },
     "execution_count": 42,
     "metadata": {},
     "output_type": "execute_result"
    }
   ],
   "source": [
    "patient_files[:5]"
   ]
  },
  {
   "cell_type": "code",
   "execution_count": 12,
   "id": "5c800aab",
   "metadata": {},
   "outputs": [],
   "source": [
    "# Create a folder for the model if it does not already exist.\n",
    "os.makedirs(model_folder, exist_ok=True)\n"
   ]
  },
  {
   "cell_type": "code",
   "execution_count": 14,
   "id": "62e8c3a9",
   "metadata": {},
   "outputs": [],
   "source": [
    "classes = ['Present', 'Unknown', 'Absent']\n",
    "num_classes = len(classes)\n",
    "features = list()\n",
    "labels = list()\n"
   ]
  },
  {
   "cell_type": "code",
   "execution_count": 31,
   "id": "67397576",
   "metadata": {},
   "outputs": [],
   "source": [
    "i = 0\n",
    "current_patient_data = load_patient_data(patient_files[i])\n",
    "current_recordings = load_recordings(data_folder, current_patient_data)\n"
   ]
  },
  {
   "cell_type": "code",
   "execution_count": 33,
   "id": "0f01e51e",
   "metadata": {},
   "outputs": [
    {
     "data": {
      "text/plain": [
       "'/home/ubuntu/hmd/notebooks/physionet.org/files/circor-heart-sound/1.0.1/training_data/2530.txt'"
      ]
     },
     "execution_count": 33,
     "metadata": {},
     "output_type": "execute_result"
    }
   ],
   "source": [
    "patient_files[i]"
   ]
  },
  {
   "cell_type": "code",
   "execution_count": 32,
   "id": "f5dd1e16",
   "metadata": {},
   "outputs": [
    {
     "data": {
      "text/plain": [
       "'2530 4 4000\\nAV 2530_AV.hea 2530_AV.wav 2530_AV.tsv\\nPV 2530_PV.hea 2530_PV.wav 2530_PV.tsv\\nTV 2530_TV.hea 2530_TV.wav 2530_TV.tsv\\nMV 2530_MV.hea 2530_MV.wav 2530_MV.tsv\\n#Age: Child\\n#Sex: Female\\n#Height: 98.0\\n#Weight: 15.9\\n#Pregnancy status: False\\n#Murmur: Absent\\n#Murmur locations: nan\\n#Most audible location: nan\\n#Systolic murmur timing: nan\\n#Systolic murmur shape: nan\\n#Systolic murmur grading: nan\\n#Systolic murmur pitch: nan\\n#Systolic murmur quality: nan\\n#Diastolic murmur timing: nan\\n#Diastolic murmur shape: nan\\n#Diastolic murmur grading: nan\\n#Diastolic murmur pitch: nan\\n#Diastolic murmur quality: nan\\n#Campaign: CC2015\\n#Additional ID: nan'"
      ]
     },
     "execution_count": 32,
     "metadata": {},
     "output_type": "execute_result"
    }
   ],
   "source": [
    "current_patient_data"
   ]
  },
  {
   "cell_type": "code",
   "execution_count": 34,
   "id": "0f449abd",
   "metadata": {},
   "outputs": [
    {
     "data": {
      "text/plain": [
       "[array([-425, 1045,  518, ...,  509,  443,  122], dtype=int16),\n",
       " array([2593, 1874, 1370, ..., -637, -255, -243], dtype=int16),\n",
       " array([ 2276,  2343,  2448, ..., -2732, -5634, -4290], dtype=int16),\n",
       " array([12672, 10041,  3215, ...,  -658,     8,   528], dtype=int16)]"
      ]
     },
     "execution_count": 34,
     "metadata": {},
     "output_type": "execute_result"
    }
   ],
   "source": [
    "current_recordings"
   ]
  },
  {
   "cell_type": "markdown",
   "id": "b53f95be",
   "metadata": {},
   "source": []
  },
  {
   "cell_type": "code",
   "execution_count": null,
   "id": "5b9128b1",
   "metadata": {},
   "outputs": [],
   "source": [
    "# Load recordings. wav data recording\n",
    "def load_recordings(data_folder, data, get_frequencies=False):\n",
    "    num_locations = get_num_locations(data)\n",
    "    recording_information = data.split('\\n')[1:num_locations+1]\n",
    "\n",
    "    recordings = list()\n",
    "    frequencies = list()\n",
    "    for i in range(num_locations):\n",
    "        entries = recording_information[i].split(' ')\n",
    "        recording_file = entries[2]\n",
    "        filename = os.path.join(data_folder, recording_file)\n",
    "        recording, frequency = load_wav_file(filename)\n",
    "        recordings.append(recording)\n",
    "        frequencies.append(frequency)\n",
    "\n",
    "    if get_frequencies:\n",
    "        return recordings, frequencies\n",
    "    else:\n",
    "        return recordings\n"
   ]
  },
  {
   "cell_type": "code",
   "execution_count": 36,
   "id": "009429cd",
   "metadata": {},
   "outputs": [
    {
     "data": {
      "text/plain": [
       "4"
      ]
     },
     "execution_count": 36,
     "metadata": {},
     "output_type": "execute_result"
    }
   ],
   "source": [
    "num_locations = get_num_locations(current_patient_data)\n",
    "num_locations"
   ]
  },
  {
   "cell_type": "markdown",
   "id": "493b585e",
   "metadata": {},
   "source": [
    "indicating AV, PV, TV, MV"
   ]
  },
  {
   "cell_type": "code",
   "execution_count": 41,
   "id": "c47e6879",
   "metadata": {},
   "outputs": [
    {
     "data": {
      "text/plain": [
       "['AV 2530_AV.hea 2530_AV.wav 2530_AV.tsv',\n",
       " 'PV 2530_PV.hea 2530_PV.wav 2530_PV.tsv',\n",
       " 'TV 2530_TV.hea 2530_TV.wav 2530_TV.tsv',\n",
       " 'MV 2530_MV.hea 2530_MV.wav 2530_MV.tsv']"
      ]
     },
     "execution_count": 41,
     "metadata": {},
     "output_type": "execute_result"
    }
   ],
   "source": [
    "recording_information = current_patient_data.split('\\n')[1:num_locations+1]\n",
    "recording_information"
   ]
  },
  {
   "cell_type": "code",
   "execution_count": 40,
   "id": "c160bbc5",
   "metadata": {},
   "outputs": [
    {
     "data": {
      "text/plain": [
       "[]"
      ]
     },
     "execution_count": 40,
     "metadata": {},
     "output_type": "execute_result"
    }
   ],
   "source": [
    "data_folder.split('\\n')[1:num_locations+1]"
   ]
  },
  {
   "cell_type": "code",
   "execution_count": null,
   "id": "09881427",
   "metadata": {},
   "outputs": [],
   "source": [
    "age_group = get_age(data)"
   ]
  },
  {
   "cell_type": "code",
   "execution_count": null,
   "id": "6232761e",
   "metadata": {},
   "outputs": [],
   "source": []
  },
  {
   "cell_type": "code",
   "execution_count": null,
   "id": "84f9ae8e",
   "metadata": {},
   "outputs": [],
   "source": []
  },
  {
   "cell_type": "code",
   "execution_count": 22,
   "id": "3fc75954",
   "metadata": {},
   "outputs": [],
   "source": [
    "for i in range(num_patient_files):\n",
    "    if verbose >= 2:\n",
    "        print('    {}/{}...'.format(i+1, num_patient_files))\n",
    "\n",
    "    # Load the current patient data and recordings.\n",
    "    current_patient_data = load_patient_data(patient_files[i])\n",
    "    current_recordings = load_recordings(data_folder, current_patient_data)\n",
    "\n",
    "    # Extract features.\n",
    "    current_features = get_features(current_patient_data, current_recordings)\n",
    "    features.append(current_features)\n",
    "\n",
    "    # Extract labels and use one-hot encoding.\n",
    "    current_labels = np.zeros(num_classes, dtype=int)\n",
    "    label = get_label(current_patient_data)\n",
    "    if label in classes:\n",
    "        j = classes.index(label)\n",
    "        current_labels[j] = 1\n",
    "    labels.append(current_labels)\n"
   ]
  },
  {
   "cell_type": "code",
   "execution_count": 43,
   "id": "1a8f38fb",
   "metadata": {},
   "outputs": [],
   "source": [
    "# Extract features.\n",
    "current_features = get_features(current_patient_data, current_recordings)\n",
    "features.append(current_features)\n"
   ]
  },
  {
   "cell_type": "code",
   "execution_count": 45,
   "id": "1b3f4ed8",
   "metadata": {},
   "outputs": [
    {
     "data": {
      "text/plain": [
       "array([ 7.2000000e+01,  1.0000000e+00,  0.0000000e+00,  9.8000000e+01,\n",
       "        1.5900000e+01,  0.0000000e+00,  1.0000000e+00, -8.3515043e+00,\n",
       "        9.5699970e+06,  2.0275675e-02,  1.0000000e+00, -2.4438324e+00,\n",
       "        1.3575099e+06, -1.5260119e+00,  1.0000000e+00,  1.1003581e+01,\n",
       "        2.9883970e+06,  1.9661852e+00,  1.0000000e+00,  1.2788071e+01,\n",
       "        1.6924965e+06,  3.8769264e+00,  0.0000000e+00,  0.0000000e+00,\n",
       "        0.0000000e+00,  0.0000000e+00], dtype=float32)"
      ]
     },
     "execution_count": 45,
     "metadata": {},
     "output_type": "execute_result"
    }
   ],
   "source": [
    "current_features"
   ]
  },
  {
   "cell_type": "code",
   "execution_count": 21,
   "id": "e5b0d891",
   "metadata": {},
   "outputs": [],
   "source": [
    "# Extract features from the data.\n",
    "def get_features(data, recordings):\n",
    "    # Extract the age group and replace with the (approximate) number of months for the middle of the age group.\n",
    "    age_group = get_age(data)\n",
    "\n",
    "    if compare_strings(age_group, 'Neonate'):\n",
    "        age = 0.5\n",
    "    elif compare_strings(age_group, 'Infant'):\n",
    "        age = 6\n",
    "    elif compare_strings(age_group, 'Child'):\n",
    "        age = 6 * 12\n",
    "    elif compare_strings(age_group, 'Adolescent'):\n",
    "        age = 15 * 12\n",
    "    elif compare_strings(age_group, 'Young Adult'):\n",
    "        age = 20 * 12\n",
    "    else:\n",
    "        age = float('nan')\n",
    "\n",
    "    # Extract sex. Use one-hot encoding.\n",
    "    sex = get_sex(data)\n",
    "\n",
    "    sex_features = np.zeros(2, dtype=int)\n",
    "    if compare_strings(sex, 'Female'):\n",
    "        sex_features[0] = 1\n",
    "    elif compare_strings(sex, 'Male'):\n",
    "        sex_features[1] = 1\n",
    "\n",
    "    # Extract height and weight.\n",
    "    height = get_height(data)\n",
    "    weight = get_weight(data)\n",
    "\n",
    "    # Extract pregnancy status.\n",
    "    is_pregnant = get_pregnancy_status(data)\n",
    "\n",
    "    # Extract recording locations and data. Identify when a location is present, and compute the mean, variance, and skewness of\n",
    "    # each recording. If there are multiple recordings for one location, then extract features from the last recording.\n",
    "    locations = get_locations(data)\n",
    "\n",
    "    recording_locations = ['AV', 'MV', 'PV', 'TV', 'PhC']\n",
    "    num_recording_locations = len(recording_locations)\n",
    "    recording_features = np.zeros((num_recording_locations, 4), dtype=float)\n",
    "    num_locations = len(locations)\n",
    "    num_recordings = len(recordings)\n",
    "    if num_locations==num_recordings:\n",
    "        for i in range(num_locations):\n",
    "            for j in range(num_recording_locations):\n",
    "                if compare_strings(locations[i], recording_locations[j]) and np.size(recordings[i])>0:\n",
    "                    recording_features[j, 0] = 1\n",
    "                    recording_features[j, 1] = np.mean(recordings[i])\n",
    "                    recording_features[j, 2] = np.var(recordings[i])\n",
    "                    recording_features[j, 3] = sp.stats.skew(recordings[i])\n",
    "    recording_features = recording_features.flatten()\n",
    "    features = np.hstack(([age], sex_features, [height], [weight], [is_pregnant], recording_features))\n",
    "\n",
    "    return np.asarray(features, dtype=np.float32)\n"
   ]
  },
  {
   "cell_type": "code",
   "execution_count": 47,
   "id": "91e1b644",
   "metadata": {},
   "outputs": [
    {
     "data": {
      "text/plain": [
       "'Child'"
      ]
     },
     "execution_count": 47,
     "metadata": {},
     "output_type": "execute_result"
    }
   ],
   "source": [
    "age_group = get_age(current_patient_data)\n",
    "age_group"
   ]
  },
  {
   "cell_type": "code",
   "execution_count": 49,
   "id": "13589ffe",
   "metadata": {},
   "outputs": [
    {
     "data": {
      "text/plain": [
       "72"
      ]
     },
     "execution_count": 49,
     "metadata": {},
     "output_type": "execute_result"
    }
   ],
   "source": [
    "if compare_strings(age_group, 'Neonate'):\n",
    "    age = 0.5\n",
    "elif compare_strings(age_group, 'Infant'):\n",
    "    age = 6\n",
    "elif compare_strings(age_group, 'Child'):\n",
    "    age = 6 * 12\n",
    "elif compare_strings(age_group, 'Adolescent'):\n",
    "    age = 15 * 12\n",
    "elif compare_strings(age_group, 'Young Adult'):\n",
    "    age = 20 * 12\n",
    "else:\n",
    "    age = float('nan')\n",
    "age"
   ]
  },
  {
   "cell_type": "code",
   "execution_count": 48,
   "id": "87cbd142",
   "metadata": {},
   "outputs": [
    {
     "data": {
      "text/plain": [
       "'Female'"
      ]
     },
     "execution_count": 48,
     "metadata": {},
     "output_type": "execute_result"
    }
   ],
   "source": [
    "sex = get_sex(current_patient_data)\n",
    "sex"
   ]
  },
  {
   "cell_type": "code",
   "execution_count": 50,
   "id": "98350deb",
   "metadata": {},
   "outputs": [
    {
     "data": {
      "text/plain": [
       "array([1, 0])"
      ]
     },
     "execution_count": 50,
     "metadata": {},
     "output_type": "execute_result"
    }
   ],
   "source": [
    "sex_features = np.zeros(2, dtype=int)\n",
    "if compare_strings(sex, 'Female'):\n",
    "    sex_features[0] = 1\n",
    "elif compare_strings(sex, 'Male'):\n",
    "    sex_features[1] = 1\n",
    "sex_features"
   ]
  },
  {
   "cell_type": "code",
   "execution_count": 52,
   "id": "15d8b047",
   "metadata": {},
   "outputs": [
    {
     "name": "stdout",
     "output_type": "stream",
     "text": [
      "98.0 15.9\n"
     ]
    }
   ],
   "source": [
    "height = get_height(current_patient_data)\n",
    "weight = get_weight(current_patient_data)\n",
    "print(height, weight)"
   ]
  },
  {
   "cell_type": "code",
   "execution_count": 54,
   "id": "3df72be8",
   "metadata": {},
   "outputs": [
    {
     "data": {
      "text/plain": [
       "False"
      ]
     },
     "execution_count": 54,
     "metadata": {},
     "output_type": "execute_result"
    }
   ],
   "source": [
    "is_pregnant = get_pregnancy_status(current_patient_data)\n",
    "is_pregnant"
   ]
  },
  {
   "cell_type": "code",
   "execution_count": 55,
   "id": "d082daf8",
   "metadata": {},
   "outputs": [
    {
     "data": {
      "text/plain": [
       "['AV', 'PV', 'TV', 'MV']"
      ]
     },
     "execution_count": 55,
     "metadata": {},
     "output_type": "execute_result"
    }
   ],
   "source": [
    "locations = get_locations(current_patient_data)\n",
    "locations"
   ]
  },
  {
   "cell_type": "code",
   "execution_count": 58,
   "id": "8b25d48f",
   "metadata": {},
   "outputs": [],
   "source": [
    "recording_locations = ['AV', 'MV', 'PV', 'TV', 'PhC']\n",
    "num_recording_locations = len(recording_locations)\n",
    "recording_features = np.zeros((num_recording_locations, 4), dtype=float)\n",
    "num_locations = len(locations)\n",
    "num_recordings = len(current_recordings)\n",
    "if num_locations==num_recordings:\n",
    "    for i in range(num_locations):\n",
    "        for j in range(num_recording_locations):\n",
    "            if compare_strings(locations[i], recording_locations[j]) and np.size(current_recordings[i])>0:\n",
    "                recording_features[j, 0] = 1\n",
    "                recording_features[j, 1] = np.mean(current_recordings[i])\n",
    "                recording_features[j, 2] = np.var(current_recordings[i])\n",
    "                recording_features[j, 3] = sp.stats.skew(current_recordings[i])\n"
   ]
  },
  {
   "cell_type": "code",
   "execution_count": 59,
   "id": "8ea9401f",
   "metadata": {},
   "outputs": [
    {
     "data": {
      "text/plain": [
       "array([[ 1.00000000e+00, -8.35150424e+00,  9.56999726e+06,\n",
       "         2.02756747e-02],\n",
       "       [ 1.00000000e+00, -2.44383243e+00,  1.35750984e+06,\n",
       "        -1.52601190e+00],\n",
       "       [ 1.00000000e+00,  1.10035807e+01,  2.98839710e+06,\n",
       "         1.96618519e+00],\n",
       "       [ 1.00000000e+00,  1.27880703e+01,  1.69249654e+06,\n",
       "         3.87692643e+00],\n",
       "       [ 0.00000000e+00,  0.00000000e+00,  0.00000000e+00,\n",
       "         0.00000000e+00]])"
      ]
     },
     "execution_count": 59,
     "metadata": {},
     "output_type": "execute_result"
    }
   ],
   "source": [
    "recording_features"
   ]
  },
  {
   "cell_type": "code",
   "execution_count": 60,
   "id": "f39ed53a",
   "metadata": {},
   "outputs": [],
   "source": [
    "recording_features = recording_features.flatten()\n",
    "features = np.hstack(([age], sex_features, [height], [weight], [is_pregnant], recording_features))\n"
   ]
  },
  {
   "cell_type": "code",
   "execution_count": 61,
   "id": "b39259dd",
   "metadata": {},
   "outputs": [
    {
     "data": {
      "text/plain": [
       "array([ 7.20000000e+01,  1.00000000e+00,  0.00000000e+00,  9.80000000e+01,\n",
       "        1.59000000e+01,  0.00000000e+00,  1.00000000e+00, -8.35150424e+00,\n",
       "        9.56999726e+06,  2.02756747e-02,  1.00000000e+00, -2.44383243e+00,\n",
       "        1.35750984e+06, -1.52601190e+00,  1.00000000e+00,  1.10035807e+01,\n",
       "        2.98839710e+06,  1.96618519e+00,  1.00000000e+00,  1.27880703e+01,\n",
       "        1.69249654e+06,  3.87692643e+00,  0.00000000e+00,  0.00000000e+00,\n",
       "        0.00000000e+00,  0.00000000e+00])"
      ]
     },
     "execution_count": 61,
     "metadata": {},
     "output_type": "execute_result"
    }
   ],
   "source": [
    "features"
   ]
  },
  {
   "cell_type": "code",
   "execution_count": 62,
   "id": "09bf3c42",
   "metadata": {},
   "outputs": [],
   "source": [
    "current_labels = np.zeros(num_classes, dtype=int)\n",
    "label = get_label(current_patient_data)\n",
    "if label in classes:\n",
    "    j = classes.index(label)\n",
    "    current_labels[j] = 1\n",
    "labels.append(current_labels)"
   ]
  },
  {
   "cell_type": "code",
   "execution_count": 65,
   "id": "9393b194",
   "metadata": {},
   "outputs": [
    {
     "data": {
      "text/plain": [
       "'Absent'"
      ]
     },
     "execution_count": 65,
     "metadata": {},
     "output_type": "execute_result"
    }
   ],
   "source": [
    "label"
   ]
  },
  {
   "cell_type": "code",
   "execution_count": 68,
   "id": "ea15ea18",
   "metadata": {},
   "outputs": [
    {
     "data": {
      "text/plain": [
       "'2530 4 4000\\nAV 2530_AV.hea 2530_AV.wav 2530_AV.tsv\\nPV 2530_PV.hea 2530_PV.wav 2530_PV.tsv\\nTV 2530_TV.hea 2530_TV.wav 2530_TV.tsv\\nMV 2530_MV.hea 2530_MV.wav 2530_MV.tsv\\n#Age: Child\\n#Sex: Female\\n#Height: 98.0\\n#Weight: 15.9\\n#Pregnancy status: False\\n#Murmur: Absent\\n#Murmur locations: nan\\n#Most audible location: nan\\n#Systolic murmur timing: nan\\n#Systolic murmur shape: nan\\n#Systolic murmur grading: nan\\n#Systolic murmur pitch: nan\\n#Systolic murmur quality: nan\\n#Diastolic murmur timing: nan\\n#Diastolic murmur shape: nan\\n#Diastolic murmur grading: nan\\n#Diastolic murmur pitch: nan\\n#Diastolic murmur quality: nan\\n#Campaign: CC2015\\n#Additional ID: nan'"
      ]
     },
     "execution_count": 68,
     "metadata": {},
     "output_type": "execute_result"
    }
   ],
   "source": [
    "current_patient_data"
   ]
  },
  {
   "cell_type": "code",
   "execution_count": null,
   "id": "da6c1132",
   "metadata": {},
   "outputs": [],
   "source": []
  },
  {
   "cell_type": "code",
   "execution_count": null,
   "id": "7df9209b",
   "metadata": {},
   "outputs": [],
   "source": []
  },
  {
   "cell_type": "code",
   "execution_count": 24,
   "id": "0d9ca541",
   "metadata": {},
   "outputs": [
    {
     "data": {
      "text/plain": [
       "942"
      ]
     },
     "execution_count": 24,
     "metadata": {},
     "output_type": "execute_result"
    }
   ],
   "source": [
    "len(labels)"
   ]
  },
  {
   "cell_type": "code",
   "execution_count": 29,
   "id": "ad9f4314",
   "metadata": {},
   "outputs": [
    {
     "data": {
      "text/plain": [
       "[array([0, 0, 1]), array([1, 0, 0]), array([0, 1, 0])]"
      ]
     },
     "execution_count": 29,
     "metadata": {},
     "output_type": "execute_result"
    }
   ],
   "source": [
    "labels[:3]"
   ]
  },
  {
   "cell_type": "code",
   "execution_count": 30,
   "id": "47c3ef65",
   "metadata": {},
   "outputs": [
    {
     "data": {
      "text/plain": [
       "array([ 7.2000000e+01,  1.0000000e+00,  0.0000000e+00,  9.8000000e+01,\n",
       "        1.5900000e+01,  0.0000000e+00,  1.0000000e+00, -8.3515043e+00,\n",
       "        9.5699970e+06,  2.0275675e-02,  1.0000000e+00, -2.4438324e+00,\n",
       "        1.3575099e+06, -1.5260119e+00,  1.0000000e+00,  1.1003581e+01,\n",
       "        2.9883970e+06,  1.9661852e+00,  1.0000000e+00,  1.2788071e+01,\n",
       "        1.6924965e+06,  3.8769264e+00,  0.0000000e+00,  0.0000000e+00,\n",
       "        0.0000000e+00,  0.0000000e+00], dtype=float32)"
      ]
     },
     "execution_count": 30,
     "metadata": {},
     "output_type": "execute_result"
    }
   ],
   "source": [
    "features[0]"
   ]
  },
  {
   "cell_type": "code",
   "execution_count": 27,
   "id": "2f45047f",
   "metadata": {},
   "outputs": [
    {
     "data": {
      "text/plain": [
       "(26,)"
      ]
     },
     "execution_count": 27,
     "metadata": {},
     "output_type": "execute_result"
    }
   ],
   "source": [
    "features[0].shape"
   ]
  },
  {
   "cell_type": "code",
   "execution_count": null,
   "id": "184a1f72",
   "metadata": {},
   "outputs": [],
   "source": [
    "\n",
    "\n",
    "    # Extract the features and labels.\n",
    "    if verbose >= 1:\n",
    "        print('Extracting features and labels from the Challenge data...')\n",
    "\n",
    "\n",
    "    for i in range(num_patient_files):\n",
    "        if verbose >= 2:\n",
    "            print('    {}/{}...'.format(i+1, num_patient_files))\n",
    "\n",
    "        # Load the current patient data and recordings.\n",
    "        current_patient_data = load_patient_data(patient_files[i])\n",
    "        current_recordings = load_recordings(data_folder, current_patient_data)\n",
    "\n",
    "        # Extract features.\n",
    "        current_features = get_features(current_patient_data, current_recordings)\n",
    "        features.append(current_features)\n",
    "\n",
    "        # Extract labels and use one-hot encoding.\n",
    "        current_labels = np.zeros(num_classes, dtype=int)\n",
    "        label = get_label(current_patient_data)\n",
    "        if label in classes:\n",
    "            j = classes.index(label)\n",
    "            current_labels[j] = 1\n",
    "        labels.append(current_labels)\n",
    "\n",
    "    features = np.vstack(features)\n",
    "    labels = np.vstack(labels)"
   ]
  },
  {
   "cell_type": "code",
   "execution_count": null,
   "id": "db110341",
   "metadata": {},
   "outputs": [],
   "source": [
    "data_folder, model_folder, verbose"
   ]
  },
  {
   "cell_type": "code",
   "execution_count": null,
   "id": "eea89cf1",
   "metadata": {},
   "outputs": [],
   "source": [
    "\n",
    "\n",
    "patient_files = find_patient_files(data_folder)\n",
    "num_patient_files = len(patient_files)\n"
   ]
  },
  {
   "cell_type": "code",
   "execution_count": 69,
   "id": "6918c2c1",
   "metadata": {},
   "outputs": [],
   "source": [
    "    features = list()\n",
    "    labels = list()\n",
    "\n",
    "    for i in range(num_patient_files):\n",
    "        if verbose >= 2:\n",
    "            print('    {}/{}...'.format(i+1, num_patient_files))\n",
    "\n",
    "        # Load the current patient data and recordings.\n",
    "        current_patient_data = load_patient_data(patient_files[i])\n",
    "        current_recordings = load_recordings(data_folder, current_patient_data)\n",
    "\n",
    "        # Extract features.\n",
    "        current_features = get_features(current_patient_data, current_recordings)\n",
    "        features.append(current_features)\n",
    "\n",
    "        # Extract labels and use one-hot encoding.\n",
    "        current_labels = np.zeros(num_classes, dtype=int)\n",
    "        label = get_label(current_patient_data)\n",
    "        if label in classes:\n",
    "            j = classes.index(label)\n",
    "            current_labels[j] = 1\n",
    "        labels.append(current_labels)\n",
    "\n",
    "    features = np.vstack(features)\n",
    "    labels = np.vstack(labels)"
   ]
  },
  {
   "cell_type": "code",
   "execution_count": 71,
   "id": "4e3ac004",
   "metadata": {},
   "outputs": [],
   "source": [
    "# Save your trained model.\n",
    "def save_challenge_model(model_folder, classes, imputer, classifier):\n",
    "    d = {'classes': classes, 'imputer': imputer, 'classifier': classifier}\n",
    "    filename = os.path.join(model_folder, 'model.sav')\n",
    "    joblib.dump(d, filename, protocol=0)\n"
   ]
  },
  {
   "cell_type": "code",
   "execution_count": 72,
   "id": "9819b418",
   "metadata": {},
   "outputs": [
    {
     "name": "stdout",
     "output_type": "stream",
     "text": [
      "Training model...\n",
      "Done.\n"
     ]
    }
   ],
   "source": [
    "    print('Training model...')\n",
    "\n",
    "    # Define parameters for random forest classifier.\n",
    "    n_estimators = 10    # Number of trees in the forest.\n",
    "    max_leaf_nodes = 100 # Maximum number of leaf nodes in each tree.\n",
    "    random_state = 123   # Random state; set for reproducibility.\n",
    "\n",
    "    imputer = SimpleImputer().fit(features)\n",
    "    features = imputer.transform(features)\n",
    "    classifier = RandomForestClassifier(n_estimators=n_estimators, max_leaf_nodes=max_leaf_nodes, random_state=random_state).fit(features, labels)\n",
    "\n",
    "    # Save the model.\n",
    "    save_challenge_model(model_folder, classes, imputer, classifier)\n",
    "\n",
    "    print('Done.')"
   ]
  },
  {
   "cell_type": "code",
   "execution_count": 73,
   "id": "eb530e2c",
   "metadata": {},
   "outputs": [
    {
     "data": {
      "text/plain": [
       "'tmp_model1'"
      ]
     },
     "execution_count": 73,
     "metadata": {},
     "output_type": "execute_result"
    }
   ],
   "source": [
    "model_folder"
   ]
  },
  {
   "cell_type": "code",
   "execution_count": null,
   "id": "11db7f61",
   "metadata": {},
   "outputs": [],
   "source": [
    "3"
   ]
  },
  {
   "cell_type": "markdown",
   "id": "1c11f876",
   "metadata": {},
   "source": [
    "python run_model.py model test_data test_outputs"
   ]
  },
  {
   "cell_type": "code",
   "execution_count": null,
   "id": "f3a87fed",
   "metadata": {},
   "outputs": [],
   "source": [
    "import numpy as np, os, sys\n",
    "from helper_code import *\n",
    "from team_code import load_challenge_model, run_challenge_model\n",
    "\n",
    "# Run model.\n",
    "def run_model(model_folder, data_folder, output_folder, allow_failures, verbose):\n",
    "    # Load models.\n",
    "    if verbose >= 1:\n",
    "        print('Loading Challenge model...')\n",
    "\n",
    "    model = load_challenge_model(model_folder, verbose) ### Teams: Implement this function!!!\n",
    "\n",
    "    # Find the patient data files.\n",
    "    patient_files = find_patient_files(data_folder)\n",
    "    num_patient_files = len(patient_files)\n",
    "\n",
    "    if num_patient_files==0:\n",
    "        raise Exception('No data was provided.')\n",
    "\n",
    "    # Create a folder for the Challenge outputs if it does not already exist.\n",
    "    os.makedirs(output_folder, exist_ok=True)\n",
    "\n",
    "    # Run the team's model on the Challenge data.\n",
    "    if verbose >= 1:\n",
    "        print('Running model on Challenge data...')\n",
    "\n",
    "    # Iterate over the patient files.\n",
    "    for i in range(num_patient_files):\n",
    "        if verbose >= 2:\n",
    "            print('    {}/{}...'.format(i+1, num_patient_files))\n",
    "\n",
    "        patient_data = load_patient_data(patient_files[i])\n",
    "        recordings = load_recordings(data_folder, patient_data)\n",
    "\n",
    "        # Allow or disallow the model to fail on parts of the data; helpful for debugging.\n",
    "        try:\n",
    "            classes, labels, probabilities = run_challenge_model(model, patient_data, recordings, verbose) ### Teams: Implement this function!!!\n",
    "        except:\n",
    "            if allow_failures:\n",
    "                if verbose >= 2:\n",
    "                    print('... failed.')\n",
    "                classes, labels, probabilities = list(), list(), list()\n",
    "            else:\n",
    "                raise\n",
    "\n",
    "        # Save Challenge outputs.\n",
    "        head, tail = os.path.split(patient_files[i])\n",
    "        root, extension = os.path.splitext(tail)\n",
    "        output_file = os.path.join(output_folder, root + '.csv')\n",
    "        patient_id = get_patient_id(patient_data)\n",
    "        save_challenge_outputs(output_file, patient_id, classes, labels, probabilities)\n",
    "\n",
    "    if verbose >= 1:\n",
    "        print('Done.')\n",
    "\n",
    "if __name__ == '__main__':\n",
    "    # Parse the arguments.\n",
    "    if not (len(sys.argv) == 4 or len(sys.argv) == 5):\n",
    "        raise Exception('Include the model, data, and output folders as arguments, e.g., python run_model.py model data outputs.')\n",
    "\n",
    "    # Define the model, data, and output folders.\n",
    "    model_folder = sys.argv[1]\n",
    "    data_folder = sys.argv[2]\n",
    "    output_folder = sys.argv[3]\n",
    "\n",
    "    # Allow or disallow the model to fail on parts of the data; helpful for debugging.\n",
    "    allow_failures = False\n",
    "\n",
    "    # Change the level of verbosity; helpful for debugging.\n",
    "    if len(sys.argv)==5 and is_integer(sys.argv[4]):\n",
    "        verbose = int(sys.argv[4])\n",
    "    else:\n",
    "        verbose = 1\n",
    "\n",
    "    run_model(model_folder, data_folder, output_folder, allow_failures, verbose)\n"
   ]
  },
  {
   "cell_type": "code",
   "execution_count": 74,
   "id": "fd427175",
   "metadata": {},
   "outputs": [],
   "source": [
    "import numpy as np, os, sys\n",
    "from helper_code import *\n",
    "from team_code import load_challenge_model, run_challenge_model"
   ]
  },
  {
   "cell_type": "code",
   "execution_count": null,
   "id": "9eef6744",
   "metadata": {},
   "outputs": [],
   "source": [
    "def run_model(model_folder, data_folder, output_folder, allow_failures, verbose):\n",
    "    # Load models.\n",
    "    if verbose >= 1:\n",
    "        print('Loading Challenge model...')"
   ]
  },
  {
   "cell_type": "code",
   "execution_count": 75,
   "id": "f1a0950a",
   "metadata": {},
   "outputs": [
    {
     "data": {
      "text/plain": [
       "'/home/ubuntu/hmd/notebooks/physionet.org/files/circor-heart-sound/1.0.1/training_data'"
      ]
     },
     "execution_count": 75,
     "metadata": {},
     "output_type": "execute_result"
    }
   ],
   "source": [
    "model_folder = 'tmp_model1'\n",
    "data_folder"
   ]
  },
  {
   "cell_type": "code",
   "execution_count": 78,
   "id": "f8221186",
   "metadata": {},
   "outputs": [],
   "source": [
    "output_folder = 'tmp_out1'\n",
    "verbose = 5"
   ]
  },
  {
   "cell_type": "code",
   "execution_count": null,
   "id": "1253ce4e",
   "metadata": {},
   "outputs": [],
   "source": []
  },
  {
   "cell_type": "code",
   "execution_count": 79,
   "id": "5351bfb1",
   "metadata": {},
   "outputs": [],
   "source": [
    "def load_challenge_model(model_folder, verbose):\n",
    "    filename = os.path.join(model_folder, 'model.sav')\n",
    "    return joblib.load(filename)\n"
   ]
  },
  {
   "cell_type": "code",
   "execution_count": 80,
   "id": "498ea0b7",
   "metadata": {},
   "outputs": [],
   "source": [
    "model = load_challenge_model(model_folder, verbose) ### Teams: Implement this function!!!\n"
   ]
  },
  {
   "cell_type": "code",
   "execution_count": 81,
   "id": "6904cbe3",
   "metadata": {},
   "outputs": [
    {
     "data": {
      "text/plain": [
       "{'classes': ['Present', 'Unknown', 'Absent'],\n",
       " 'imputer': SimpleImputer(),\n",
       " 'classifier': RandomForestClassifier(max_leaf_nodes=100, n_estimators=10, random_state=123)}"
      ]
     },
     "execution_count": 81,
     "metadata": {},
     "output_type": "execute_result"
    }
   ],
   "source": [
    "model"
   ]
  },
  {
   "cell_type": "code",
   "execution_count": 82,
   "id": "6f2bc0eb",
   "metadata": {},
   "outputs": [],
   "source": [
    "patient_files = find_patient_files(data_folder)\n",
    "num_patient_files = len(patient_files)\n"
   ]
  },
  {
   "cell_type": "code",
   "execution_count": 84,
   "id": "732d79c9",
   "metadata": {},
   "outputs": [
    {
     "data": {
      "text/plain": [
       "['/home/ubuntu/hmd/notebooks/physionet.org/files/circor-heart-sound/1.0.1/training_data/2530.txt',\n",
       " '/home/ubuntu/hmd/notebooks/physionet.org/files/circor-heart-sound/1.0.1/training_data/9979.txt',\n",
       " '/home/ubuntu/hmd/notebooks/physionet.org/files/circor-heart-sound/1.0.1/training_data/9983.txt',\n",
       " '/home/ubuntu/hmd/notebooks/physionet.org/files/circor-heart-sound/1.0.1/training_data/13918.txt',\n",
       " '/home/ubuntu/hmd/notebooks/physionet.org/files/circor-heart-sound/1.0.1/training_data/14241.txt',\n",
       " '/home/ubuntu/hmd/notebooks/physionet.org/files/circor-heart-sound/1.0.1/training_data/14998.txt']"
      ]
     },
     "execution_count": 84,
     "metadata": {},
     "output_type": "execute_result"
    }
   ],
   "source": [
    "patient_files[:6]"
   ]
  },
  {
   "cell_type": "code",
   "execution_count": 85,
   "id": "8b45f158",
   "metadata": {},
   "outputs": [],
   "source": [
    "    os.makedirs(output_folder, exist_ok=True)\n"
   ]
  },
  {
   "cell_type": "code",
   "execution_count": null,
   "id": "55b9aa60",
   "metadata": {},
   "outputs": [],
   "source": [
    "for i in range(num_patient_files):\n",
    "    if verbose >= 2:\n",
    "        print('    {}/{}...'.format(i+1, num_patient_files))\n",
    "\n",
    "    patient_data = load_patient_data(patient_files[i])\n",
    "    recordings = load_recordings(data_folder, patient_data)\n",
    "\n",
    "    # Allow or disallow the model to fail on parts of the data; helpful for debugging.\n",
    "    try:\n",
    "        classes, labels, probabilities = run_challenge_model(model, patient_data, recordings, verbose) ### Teams: Implement this function!!!\n",
    "    except:\n",
    "        if allow_failures:\n",
    "            if verbose >= 2:\n",
    "                print('... failed.')\n",
    "            classes, labels, probabilities = list(), list(), list()\n",
    "        else:\n",
    "            raise\n",
    "\n",
    "    # Save Challenge outputs.\n",
    "    head, tail = os.path.split(patient_files[i])\n",
    "    root, extension = os.path.splitext(tail)\n",
    "    output_file = os.path.join(output_folder, root + '.csv')\n",
    "    patient_id = get_patient_id(patient_data)\n",
    "    save_challenge_outputs(output_file, patient_id, classes, labels, probabilities)\n"
   ]
  },
  {
   "cell_type": "code",
   "execution_count": 86,
   "id": "a62a4879",
   "metadata": {},
   "outputs": [],
   "source": [
    "i = 0\n",
    "patient_data = load_patient_data(patient_files[i])\n",
    "recordings = load_recordings(data_folder, patient_data)"
   ]
  },
  {
   "cell_type": "code",
   "execution_count": 87,
   "id": "0409d8f8",
   "metadata": {},
   "outputs": [],
   "source": [
    "classes, labels, probabilities = run_challenge_model(model, patient_data, recordings, verbose) ### Teams: Implement this function!!!\n"
   ]
  },
  {
   "cell_type": "code",
   "execution_count": 88,
   "id": "f7ddf246",
   "metadata": {},
   "outputs": [
    {
     "data": {
      "text/plain": [
       "['Present', 'Unknown', 'Absent']"
      ]
     },
     "execution_count": 88,
     "metadata": {},
     "output_type": "execute_result"
    }
   ],
   "source": [
    "classes"
   ]
  },
  {
   "cell_type": "code",
   "execution_count": 89,
   "id": "ab4610eb",
   "metadata": {},
   "outputs": [
    {
     "data": {
      "text/plain": [
       "array([0, 0, 1])"
      ]
     },
     "execution_count": 89,
     "metadata": {},
     "output_type": "execute_result"
    }
   ],
   "source": [
    "labels"
   ]
  },
  {
   "cell_type": "code",
   "execution_count": 90,
   "id": "62cfd5e4",
   "metadata": {},
   "outputs": [
    {
     "data": {
      "text/plain": [
       "array([0.04654826, 0.01546493, 0.9379868 ], dtype=float32)"
      ]
     },
     "execution_count": 90,
     "metadata": {},
     "output_type": "execute_result"
    }
   ],
   "source": [
    "probabilities"
   ]
  },
  {
   "cell_type": "code",
   "execution_count": 92,
   "id": "64c645b9",
   "metadata": {},
   "outputs": [],
   "source": [
    "for i in range(num_patient_files):\n",
    "#    if verbose >= 2:\n",
    "#        print('    {}/{}...'.format(i+1, num_patient_files))\n",
    "\n",
    "    patient_data = load_patient_data(patient_files[i])\n",
    "    recordings = load_recordings(data_folder, patient_data)\n",
    "\n",
    "    # Allow or disallow the model to fail on parts of the data; helpful for debugging.\n",
    "    try:\n",
    "        classes, labels, probabilities = run_challenge_model(model, patient_data, recordings, verbose) ### Teams: Implement this function!!!\n",
    "    except:\n",
    "        if allow_failures:\n",
    "            if verbose >= 2:\n",
    "                print('... failed.')\n",
    "            classes, labels, probabilities = list(), list(), list()\n",
    "        else:\n",
    "            raise"
   ]
  },
  {
   "cell_type": "code",
   "execution_count": 93,
   "id": "9a4e628c",
   "metadata": {},
   "outputs": [],
   "source": [
    "# Save Challenge outputs.\n",
    "head, tail = os.path.split(patient_files[i])\n",
    "root, extension = os.path.splitext(tail)\n",
    "output_file = os.path.join(output_folder, root + '.csv')\n",
    "patient_id = get_patient_id(patient_data)\n",
    "save_challenge_outputs(output_file, patient_id, classes, labels, probabilities)\n"
   ]
  },
  {
   "cell_type": "code",
   "execution_count": 94,
   "id": "6d037273",
   "metadata": {},
   "outputs": [
    {
     "data": {
      "text/plain": [
       "'85349'"
      ]
     },
     "execution_count": 94,
     "metadata": {},
     "output_type": "execute_result"
    }
   ],
   "source": [
    "patient_id"
   ]
  },
  {
   "cell_type": "code",
   "execution_count": 95,
   "id": "60351d39",
   "metadata": {},
   "outputs": [
    {
     "data": {
      "text/plain": [
       "'tmp_out1/85349.csv'"
      ]
     },
     "execution_count": 95,
     "metadata": {},
     "output_type": "execute_result"
    }
   ],
   "source": [
    "output_file"
   ]
  },
  {
   "cell_type": "code",
   "execution_count": 96,
   "id": "16925eea",
   "metadata": {},
   "outputs": [
    {
     "data": {
      "text/plain": [
       "['Present', 'Unknown', 'Absent']"
      ]
     },
     "execution_count": 96,
     "metadata": {},
     "output_type": "execute_result"
    }
   ],
   "source": [
    "classes"
   ]
  },
  {
   "cell_type": "code",
   "execution_count": 97,
   "id": "0e827bca",
   "metadata": {},
   "outputs": [
    {
     "data": {
      "text/plain": [
       "array([0, 0, 1])"
      ]
     },
     "execution_count": 97,
     "metadata": {},
     "output_type": "execute_result"
    }
   ],
   "source": [
    "labels"
   ]
  },
  {
   "cell_type": "code",
   "execution_count": 98,
   "id": "ef2abc6a",
   "metadata": {},
   "outputs": [
    {
     "data": {
      "text/plain": [
       "array([0.03813211, 0.01305016, 0.94881773], dtype=float32)"
      ]
     },
     "execution_count": 98,
     "metadata": {},
     "output_type": "execute_result"
    }
   ],
   "source": [
    "probabilities"
   ]
  },
  {
   "cell_type": "code",
   "execution_count": 99,
   "id": "b2fbdc0a",
   "metadata": {},
   "outputs": [
    {
     "data": {
      "text/plain": [
       "array([0, 0, 1])"
      ]
     },
     "execution_count": 99,
     "metadata": {},
     "output_type": "execute_result"
    }
   ],
   "source": [
    "labels"
   ]
  },
  {
   "cell_type": "code",
   "execution_count": 102,
   "id": "4f3e3432",
   "metadata": {},
   "outputs": [],
   "source": [
    "for i in range(num_patient_files):\n",
    "#    if verbose >= 2:\n",
    "#        print('    {}/{}...'.format(i+1, num_patient_files))\n",
    "\n",
    "    patient_data = load_patient_data(patient_files[i])\n",
    "    recordings = load_recordings(data_folder, patient_data)\n",
    "\n",
    "    # Allow or disallow the model to fail on parts of the data; helpful for debugging.\n",
    "    try:\n",
    "        classes, labels, probabilities = run_challenge_model(model, patient_data, recordings, verbose) ### Teams: Implement this function!!!\n",
    "    except:\n",
    "        if allow_failures:\n",
    "            if verbose >= 2:\n",
    "                print('... failed.')\n",
    "            classes, labels, probabilities = list(), list(), list()\n",
    "        else:\n",
    "            raise\n",
    "\n",
    "    # Save Challenge outputs.\n",
    "    head, tail = os.path.split(patient_files[i])\n",
    "    root, extension = os.path.splitext(tail)\n",
    "    output_file = os.path.join(output_folder, root + '.csv')\n",
    "    patient_id = get_patient_id(patient_data)\n",
    "    save_challenge_outputs(output_file, patient_id, classes, labels, probabilities)"
   ]
  },
  {
   "cell_type": "code",
   "execution_count": 105,
   "id": "dacc4a76",
   "metadata": {},
   "outputs": [
    {
     "data": {
      "text/plain": [
       "942"
      ]
     },
     "execution_count": 105,
     "metadata": {},
     "output_type": "execute_result"
    }
   ],
   "source": [
    "num_patient_files"
   ]
  },
  {
   "cell_type": "code",
   "execution_count": null,
   "id": "b9ea238e",
   "metadata": {},
   "outputs": [],
   "source": []
  }
 ],
 "metadata": {
  "kernelspec": {
   "display_name": "Environment (conda_tensorflow2.4_p37)",
   "language": "python",
   "name": "conda_tensorflow2.4_p37"
  },
  "language_info": {
   "codemirror_mode": {
    "name": "ipython",
    "version": 3
   },
   "file_extension": ".py",
   "mimetype": "text/x-python",
   "name": "python",
   "nbconvert_exporter": "python",
   "pygments_lexer": "ipython3",
   "version": "3.7.10"
  }
 },
 "nbformat": 4,
 "nbformat_minor": 5
}
