{
 "cells": [
  {
   "cell_type": "code",
   "execution_count": null,
   "id": "824b4f67",
   "metadata": {},
   "outputs": [],
   "source": [
    "import sys\n",
    "sys.path.append(\"/home/jh20/narin/physionet/python-classifier-2022\")\n",
    "from helper_code import *\n",
    "import numpy as np, scipy as sp, scipy.stats, os, joblib\n",
    "import glob\n",
    "import pandas as pd\n",
    "from sklearn.model_selection import train_test_split\n",
    "import time\n",
    "import torch.nn.functional as F\n",
    "import tqdm"
   ]
  },
  {
   "cell_type": "code",
   "execution_count": null,
   "id": "16a9498b",
   "metadata": {},
   "outputs": [],
   "source": [
    "import logging\n",
    "def get_logger(filename):\n",
    "    # Logging configuration: set the basic configuration of the logging system\n",
    "    log_formatter = logging.Formatter(fmt='%(asctime)s [%(processName)s, %(process)s] [%(levelname)-5.5s]  %(message)s',\n",
    "                                      datefmt='%m-%d %H:%M')\n",
    "    logger = logging.getLogger()\n",
    "    logger.setLevel(logging.DEBUG)\n",
    "    # File logger\n",
    "    file_handler = logging.FileHandler(\"{}.log\".format(filename))\n",
    "    file_handler.setFormatter(log_formatter)\n",
    "    file_handler.setLevel(logging.DEBUG)\n",
    "    logger.addHandler(file_handler)\n",
    "    # Stderr logger\n",
    "    std_handler = logging.StreamHandler(sys.stdout)\n",
    "    std_handler.setFormatter(log_formatter)\n",
    "    std_handler.setLevel(logging.DEBUG)\n",
    "    logger.addHandler(std_handler)\n",
    "    return logger"
   ]
  }
 ],
 "metadata": {
  "kernelspec": {
   "display_name": "Python 3 (ipykernel)",
   "language": "python",
   "name": "python3"
  },
  "language_info": {
   "codemirror_mode": {
    "name": "ipython",
    "version": 3
   },
   "file_extension": ".py",
   "mimetype": "text/x-python",
   "name": "python",
   "nbconvert_exporter": "python",
   "pygments_lexer": "ipython3",
   "version": "3.7.6"
  }
 },
 "nbformat": 4,
 "nbformat_minor": 5
}
