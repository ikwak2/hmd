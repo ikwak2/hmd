{
 "cells": [
  {
   "cell_type": "code",
   "execution_count": 1,
   "id": "0d50e1a6",
   "metadata": {},
   "outputs": [],
   "source": [
    "import sys\n",
    "sys.path.append(\"/home/jh20/narin/physionet/python-classifier-2022\")\n",
    "from helper_code import *\n",
    "import numpy as np, scipy as sp, scipy.stats, os, joblib\n",
    "import glob\n",
    "import pandas as pd\n",
    "from sklearn.model_selection import train_test_split\n",
    "import time\n",
    "import torch.nn.functional as F\n",
    "import tqdm"
   ]
  },
  {
   "cell_type": "code",
   "execution_count": 2,
   "id": "015585d2",
   "metadata": {},
   "outputs": [],
   "source": [
    "import argparse, warnings, sys\n",
    "import torch\n",
    "\n",
    "sys.path.append('/home/jh20/narin/dcase/DESED_task')\n",
    "sys.path.append('/home/jh20/narin/dcase/DESED_task/recipes/dcase2022_task4_baseline')\n",
    "\n",
    "\n",
    "parser = argparse.ArgumentParser(description = \"HMD_trainer\")\n",
    "## Training Settings\n",
    "parser.add_argument('--train_data_folder',    default='/home/jh20/Data/nr_data/ECG/Physionet2022/physionet.org/files/circor-heart-sound/1.0.3/train/',     help='train data path')\n",
    "parser.add_argument('--valid_data_folder',    default='/home/jh20/Data/nr_data/ECG/Physionet2022/physionet.org/files/circor-heart-sound/1.0.3/validation/',     help='validation data path')\n",
    "parser.add_argument(\"--lr\",default=1e-3, type=float, help=\"learning rate\")\n",
    "parser.add_argument(\"--minibatchsize_train\", default=64, type=int)\n",
    "parser.add_argument(\"--minibatchsize_valid\", default=8, type=int)\n",
    "parser.add_argument(\"--train_num_workers\", default=6, type=int, help=\"number of training workers\")\n",
    "parser.add_argument(\"--dev_num_workers\", default=1, type=int, help=\"number of validation workers\")\n",
    "parser.add_argument(\"--seed\", default=617, type=int)\n",
    "parser.add_argument(\"--model_path\", default='./hmd_CNN_outcome', type=str)\n",
    "parser.add_argument(\"--logdir\", default='./log_hmd_outcome/', type=str)\n",
    "parser.add_argument(\"--model_name\", default='hmd_CNN_outcome_model', type=str)\n",
    "parser.add_argument(\"--start_iter\", default=0, type=int)\n",
    "parser.add_argument(\"--end_iter\", default=70, type=int)\n",
    "parser.add_argument(\"--gpu\", default=\"0\", type=str)\n",
    "\n",
    "warnings.simplefilter(\"ignore\")\n",
    "torch.multiprocessing.set_sharing_strategy('file_system')\n",
    "args = parser.parse_args(args=[])"
   ]
  },
  {
   "cell_type": "code",
   "execution_count": 3,
   "id": "d3099ef1",
   "metadata": {},
   "outputs": [
    {
     "name": "stdout",
     "output_type": "stream",
     "text": [
      "Available devices  1\n"
     ]
    }
   ],
   "source": [
    "import torch\n",
    "\n",
    "device = torch.device('cuda' if torch.cuda.is_available() else 'cpu')\n",
    "print ('Available devices ', torch.cuda.device_count())"
   ]
  },
  {
   "cell_type": "code",
   "execution_count": 4,
   "id": "ea018703",
   "metadata": {},
   "outputs": [],
   "source": [
    "from torch.utils.data import Dataset,DataLoader, RandomSampler\n",
    "import pandas as pd\n",
    "import numpy as np\n",
    "import sys\n",
    "sys.path.append(\"/home/jh20/narin/physionet/python-classifier-2022\")\n",
    "from helper_code import *\n",
    "import torchaudio\n",
    "import random\n",
    "import numpy as np\n",
    "import librosa\n",
    "import glob\n",
    "import math\n",
    "\n",
    "\n",
    "\n",
    "\n",
    "\n",
    "\n",
    "def read_recording(wav_fn, audio_length= 20, sr= 4000):\n",
    "\n",
    "    recording, frequency = load_wav_file(wav_fn)\n",
    "\n",
    "\n",
    "    length = audio_length*sr\n",
    "    if recording.shape[0] <= length:\n",
    "        shortage = length - recording.shape[0]\n",
    "        recording = np.pad(recording, (0, shortage), 'wrap')\n",
    "    start_frame = np.int64(random.random()*(recording.shape[0]-length))\n",
    "    recording = recording[start_frame:start_frame + length] \n",
    "\n",
    "    return recording\n",
    "\n",
    "\n",
    "\n",
    "class train_loader(Dataset):\n",
    "    def __init__(self,data_folder, **kwargs):\n",
    "        self.data_folder = data_folder\n",
    "        \n",
    "        self.wav_files = glob.glob(data_folder + '*.wav')\n",
    "        self.num_wav_files = len(self.wav_files)\n",
    "        \n",
    "        self.murmur_classes = ['Present', 'Unknown', 'Absent']\n",
    "        self.num_murmur_classes = len(self.murmur_classes)\n",
    "        self.outcome_classes = ['Abnormal', 'Normal']\n",
    "        self.num_outcome_classes = len(self.outcome_classes)\n",
    "        \n",
    "        self.age_classes = ['Neonate', 'Infant', 'Child', 'Adolescent', 'Young Adult']\n",
    "        self.recording_locations = ['AV', 'MV', 'PV', 'TV', 'PhC']\n",
    "\n",
    "        \n",
    "        \n",
    "        examples = {}\n",
    "        for filename in self.wav_files:\n",
    "            current_patient_id = filename.split('/')[-1].split('_')[0]\n",
    "            current_txt_file = self.data_folder + str(current_patient_id) + '.txt'\n",
    "            with open(current_txt_file, 'r') as f:\n",
    "                current_patient_data = f.read()\n",
    "            current_loc = filename.split('/')[-1].split('.')[0].split('_')[1]\n",
    "            if filename.split('/')[-1].split('.')[0]  not in examples.keys():\n",
    "                current_wav_data = filename.split('/')[-1].split('.')[0]\n",
    "                examples[current_wav_data] = {\n",
    "                    \"id\" : current_patient_id,\n",
    "                    \"txt_fn\" : current_txt_file,   #txt,\n",
    "                    \"wav_fn\" : filename,  #wav\n",
    "                    \"num_location\": get_num_locations(current_patient_data),\n",
    "                    \"frequency\" : get_frequency(current_patient_data),\n",
    "                    \"location\" : current_loc,\n",
    "                    \"age\" : get_age(current_patient_data),\n",
    "                    \"sex\" : get_sex(current_patient_data),\n",
    "                    \"height\" : get_height(current_patient_data),\n",
    "                    \"weight\" : get_weight(current_patient_data),\n",
    "                    \"pregnancy_status\" : get_pregnancy_status(current_patient_data),\n",
    "                    \"murmur\" : get_murmur(current_patient_data),\n",
    "                    \"outcome\" : get_outcome(current_patient_data)\n",
    "\n",
    "                }\n",
    "        self.examples = examples\n",
    "        self.examples_list = list(examples.keys())\n",
    "        \n",
    "        \n",
    "        if len(self.examples_list) != self.num_wav_files:\n",
    "            raise ValueError('length is different!')\n",
    "    def __len__(self):\n",
    "        return len(self.examples_list)\n",
    "    \n",
    "        \n",
    "    def __getitem__(self, index):\n",
    "        \n",
    "        # patient info\n",
    "        current_wav_dict = self.examples[self.examples_list[index]]\n",
    "        current_patient_data = load_patient_data(current_wav_dict[\"txt_fn\"])\n",
    "        current_recording = read_recording(current_wav_dict[\"wav_fn\"])\n",
    "        \n",
    "        #log mel feature\n",
    "        log_mel_feature = librosa.power_to_db(librosa.feature.melspectrogram(y = current_recording.astype(np.float32),\n",
    "                                                         sr= 4000,\n",
    "                                                         n_mels=128,\n",
    "                                                         n_fft=400, \n",
    "                                                         hop_length=128, \n",
    "                                                         win_length=400))\n",
    "        \n",
    "        # age\n",
    "        current_patient_age = current_wav_dict[\"age\"]\n",
    "        current_age_group = np.zeros(6, dtype=np.float32)\n",
    "        if current_patient_age in self.age_classes:\n",
    "            j = self.age_classes.index(current_patient_age)\n",
    "            current_age_group[j] = 1.0\n",
    "        else :\n",
    "            current_age_group[5] = 1.0\n",
    "            \n",
    "            \n",
    "        # sex\n",
    "        sex = current_wav_dict[\"sex\"]\n",
    "        sex_feature = np.zeros(2, dtype=np.float32)\n",
    "        if compare_strings(sex, 'Female'):\n",
    "            sex_feature[0] = 1.0\n",
    "        elif compare_strings(sex, 'Male'):\n",
    "            sex_feature[1] = 1.0\n",
    "            \n",
    "        # height and weight.\n",
    "        height = current_wav_dict[\"height\"]\n",
    "        weight = current_wav_dict[\"weight\"]\n",
    "        \n",
    "        ## simple impute\n",
    "        if math.isnan(height) :\n",
    "            height = 110.846  #mean\n",
    "        if math.isnan(weight) :\n",
    "            weight = 23.767   #mean\n",
    "            \n",
    "        height_weight = np.array([height, weight], dtype=np.float32)\n",
    "        \n",
    "        \n",
    "        # Extract pregnancy\n",
    "        preg_feature = np.zeros(2, dtype=np.float32)\n",
    "        is_pregnant = current_wav_dict[\"pregnancy_status\"]\n",
    "        if is_pregnant == True:\n",
    "            preg_feature[0] = 1.0\n",
    "        elif is_pregnant == False:\n",
    "            preg_feature[1] = 1.0\n",
    "\n",
    "        # Extract location\n",
    "        location = current_wav_dict[\"location\"]\n",
    "        num_recording_locations = len(self.recording_locations)\n",
    "        loc_feature = np.zeros(num_recording_locations, dtype=np.float32)\n",
    "        if location in self.recording_locations:\n",
    "            j = self.recording_locations.index(location)\n",
    "            loc_feature[j] = 1.0\n",
    "\n",
    "\n",
    "        \n",
    "\n",
    "        # label\n",
    "        \n",
    "        current_murmur = np.zeros(self.num_murmur_classes, dtype=np.float32)\n",
    "        murmur = get_murmur(current_patient_data)\n",
    "        if murmur in self.murmur_classes:\n",
    "            j = self.murmur_classes.index(murmur)\n",
    "            current_murmur[j] = 1\n",
    "\n",
    "\n",
    "        current_outcome = np.zeros(self.num_outcome_classes, dtype=np.float32)\n",
    "        outcome = get_outcome(current_patient_data)\n",
    "        if outcome in self.outcome_classes:\n",
    "            j = self.outcome_classes.index(outcome)\n",
    "            current_outcome[j] = 1\n",
    "            \n",
    "\n",
    "\n",
    "        \n",
    "        return log_mel_feature, current_age_group, sex_feature, height_weight, preg_feature, loc_feature, current_murmur, current_outcome\n"
   ]
  },
  {
   "cell_type": "code",
   "execution_count": 5,
   "id": "907571c8",
   "metadata": {},
   "outputs": [],
   "source": [
    "warnings.simplefilter(action='ignore', category=FutureWarning)\n",
    "warnings.filterwarnings('ignore')\n",
    "\n",
    "os.makedirs(args.model_path, exist_ok=True)\n",
    "os.makedirs(args.logdir, exist_ok=True)"
   ]
  },
  {
   "cell_type": "code",
   "execution_count": 6,
   "id": "78c7243a",
   "metadata": {},
   "outputs": [],
   "source": [
    "open(args.logdir + 'score_outcome.txt', \"a+\")\n",
    "score_file = open(args.logdir + 'score_outcome.txt', \"a+\")"
   ]
  },
  {
   "cell_type": "code",
   "execution_count": 7,
   "id": "3f76644d",
   "metadata": {},
   "outputs": [],
   "source": [
    "import logging\n",
    "def get_logger(filename):\n",
    "    # Logging configuration: set the basic configuration of the logging system\n",
    "    log_formatter = logging.Formatter(fmt='%(asctime)s [%(processName)s, %(process)s] [%(levelname)-5.5s]  %(message)s',\n",
    "                                      datefmt='%m-%d %H:%M')\n",
    "    logger = logging.getLogger()\n",
    "    logger.setLevel(logging.DEBUG)\n",
    "    # File logger\n",
    "    file_handler = logging.FileHandler(\"{}.log\".format(filename))\n",
    "    file_handler.setFormatter(log_formatter)\n",
    "    file_handler.setLevel(logging.DEBUG)\n",
    "    logger.addHandler(file_handler)\n",
    "    # Stderr logger\n",
    "    std_handler = logging.StreamHandler(sys.stdout)\n",
    "    std_handler.setFormatter(log_formatter)\n",
    "    std_handler.setLevel(logging.DEBUG)\n",
    "    logger.addHandler(std_handler)\n",
    "    return logger"
   ]
  },
  {
   "cell_type": "code",
   "execution_count": 8,
   "id": "eb90f688",
   "metadata": {},
   "outputs": [],
   "source": [
    "model_path = args.model_path\n",
    "log_dir = args.logdir\n",
    "logger = get_logger(log_dir + '/' + model_path)"
   ]
  },
  {
   "cell_type": "code",
   "execution_count": 9,
   "id": "45190d33",
   "metadata": {},
   "outputs": [],
   "source": [
    "import torch.nn as nn\n",
    "import torch\n",
    "\n",
    "\n",
    "class GLU(nn.Module):\n",
    "    def __init__(self, input_num):\n",
    "        super(GLU, self).__init__()\n",
    "        self.sigmoid = nn.Sigmoid()\n",
    "        self.linear = nn.Linear(input_num, input_num)\n",
    "\n",
    "    def forward(self, x):\n",
    "        lin = self.linear(x.permute(0, 2, 3, 1))\n",
    "        lin = lin.permute(0, 3, 1, 2)\n",
    "        sig = self.sigmoid(x)\n",
    "        res = lin * sig\n",
    "        return res\n",
    "\n",
    "\n",
    "class ContextGating(nn.Module):\n",
    "    def __init__(self, input_num):\n",
    "        super(ContextGating, self).__init__()\n",
    "        self.sigmoid = nn.Sigmoid()\n",
    "        self.linear = nn.Linear(input_num, input_num)\n",
    "\n",
    "    def forward(self, x):\n",
    "        lin = self.linear(x.permute(0, 2, 3, 1))\n",
    "        lin = lin.permute(0, 3, 1, 2)\n",
    "        sig = self.sigmoid(lin)\n",
    "        res = x * sig\n",
    "        return res\n",
    "    \n",
    "class Dense(nn.Module):\n",
    "    \n",
    "    def __init__(self,length):\n",
    "        super(Dense, self).__init__()\n",
    "        h1 = nn.Linear(length, 64)\n",
    "        h2 = nn.Linear(64, 32)\n",
    "        h3 = nn.Linear(32, 1)\n",
    "        self.hidden = nn.Sequential(\n",
    "            h1,\n",
    "            nn.ReLU(),\n",
    "            h2,\n",
    "            nn.ReLU(),\n",
    "            h3,\n",
    "        )\n",
    "        \n",
    "    def forward(self, x):\n",
    "        o = self.hidden(x)\n",
    "        return o.view(-1,1)\n",
    "\n",
    "\n",
    "class CNN(nn.Module):\n",
    "    def __init__(\n",
    "        self,\n",
    "        n_in_channel=1,\n",
    "        activation=\"Relu\",\n",
    "        conv_dropout=0,\n",
    "        kernel_size=[3, 3, 3, 3, 3, 3],\n",
    "        padding=[1, 1, 1, 1, 1, 1],\n",
    "        stride=[1, 1, 1, 1, 1, 1],\n",
    "        nb_filters=[16, 32, 64, 128, 256, 256],\n",
    "        pooling=[(2, 2), (2, 2), (1, 2), (1, 2), (1, 2), (1, 2)],\n",
    "        normalization=\"batch\",\n",
    "        **transformer_kwargs\n",
    "    ):\n",
    "        \"\"\"\n",
    "            Initialization of CNN network s\n",
    "        \n",
    "        Args:\n",
    "            n_in_channel: int, number of input channel\n",
    "            activation: str, activation function\n",
    "            conv_dropout: float, dropout\n",
    "            kernel_size: kernel size\n",
    "            padding: padding\n",
    "            stride: list, stride\n",
    "            nb_filters: number of filters\n",
    "            pooling: list of tuples, time and frequency pooling\n",
    "            normalization: choose between \"batch\" for BatchNormalization and \"layer\" for LayerNormalization.\n",
    "        \"\"\"\n",
    "        super(CNN, self).__init__()\n",
    "\n",
    "        self.nb_filters = nb_filters\n",
    "        cnn = nn.Sequential()\n",
    "        self.avgpool = nn.AdaptiveAvgPool2d((1, 1))\n",
    "        self.fc1 = nn.Linear(264,132)\n",
    "        self.fc2 = nn.Linear(132,2)\n",
    "        self.fc_age = nn.Linear(6,3)\n",
    "        self.fc_sex = nn.Linear(2,1)\n",
    "        self.fc_hw = nn.Linear(2,1)\n",
    "        self.fc_preg = nn.Linear(2,1)\n",
    "        self.fc_loc = nn.Linear(5,2)\n",
    "        \n",
    "\n",
    "        def conv(i, normalization=\"batch\", dropout=None, activ=\"relu\"):\n",
    "            nIn = n_in_channel if i == 0 else nb_filters[i - 1]\n",
    "            nOut = nb_filters[i]\n",
    "            cnn.add_module(\n",
    "                \"conv{0}\".format(i),\n",
    "                nn.Conv2d(nIn, nOut, kernel_size[i], stride[i], padding[i]),\n",
    "            )\n",
    "            if normalization == \"batch\":\n",
    "                cnn.add_module(\n",
    "                    \"batchnorm{0}\".format(i),\n",
    "                    nn.BatchNorm2d(nOut, eps=0.001, momentum=0.99),\n",
    "                )\n",
    "            elif normalization == None:\n",
    "                pass\n",
    "                \n",
    "            elif normalization == \"layer\":\n",
    "                cnn.add_module(\"layernorm{0}\".format(i), nn.GroupNorm(1, nOut))\n",
    "\n",
    "            if activ.lower() == \"leakyrelu\":\n",
    "                cnn.add_module(\"relu{0}\".format(i), nn.LeakyReLU(0.2))\n",
    "            elif activ.lower() == \"relu\":\n",
    "                cnn.add_module(\"relu{0}\".format(i), nn.ReLU())\n",
    "            elif activ.lower() == \"glu\":\n",
    "                cnn.add_module(\"glu{0}\".format(i), GLU(nOut))\n",
    "            elif activ.lower() == \"cg\":\n",
    "                cnn.add_module(\"cg{0}\".format(i), ContextGating(nOut))\n",
    "\n",
    "            if dropout is not None:\n",
    "                cnn.add_module(\"dropout{0}\".format(i), nn.Dropout(dropout))\n",
    "            elif dropout is None:\n",
    "                pass\n",
    "\n",
    "        # 128x862x64\n",
    "        for i in range(len(nb_filters)):\n",
    "            conv(i, normalization=normalization, dropout=conv_dropout, activ=activation)\n",
    "            cnn.add_module(\n",
    "                \"pooling{0}\".format(i), nn.MaxPool2d(pooling[i])\n",
    "            )  # bs x tframe x mels\n",
    "\n",
    "        self.cnn = cnn\n",
    "\n",
    "    def forward(self, mel, age, sex, hw, preg, loc):\n",
    "        \"\"\"\n",
    "        Forward step of the CNN module\n",
    "        Args:\n",
    "            x (Tensor): input batch of size (batch_size, n_channels, n_frames, n_freq)\n",
    "        Returns:\n",
    "            Tensor: batch embedded\n",
    "        \"\"\"\n",
    "        # conv features\n",
    "        mel = mel.unsqueeze(1)\n",
    "        mel = self.cnn(mel)\n",
    "        mel = self.avgpool(mel)\n",
    "        mel = mel.view(mel.size(0), -1)\n",
    "#         print(mel.shape)\n",
    "        age = self.fc_age(age)\n",
    "#         print(age.shape)\n",
    "        sex = self.fc_sex(sex)\n",
    "#         print(sex.shape)\n",
    "        hw = self.fc_hw(hw)\n",
    "#         print(hw.shape)\n",
    "        preg = self.fc_preg(preg)\n",
    "#         print(preg.shape)\n",
    "        loc = self.fc_loc(loc)\n",
    "#         print(loc.shape)\n",
    "        x = torch.concat([mel,age,sex,hw,preg,loc],axis=1)\n",
    "#         print(x.shape)\n",
    "#         x = self.avgpool(x)\n",
    "#         x = x.view(x.size(0), -1)\n",
    "        x = self.fc1(x)\n",
    "        x =self.fc2(x)\n",
    "        return x"
   ]
  },
  {
   "cell_type": "code",
   "execution_count": 10,
   "id": "99000ee4",
   "metadata": {},
   "outputs": [],
   "source": [
    "cnn = CNN()\n",
    "cnn = cnn.cuda(device)"
   ]
  },
  {
   "cell_type": "code",
   "execution_count": 11,
   "id": "2f6327d3",
   "metadata": {},
   "outputs": [],
   "source": [
    "from torchmetrics import F1\n",
    "from torchmetrics import Accuracy"
   ]
  },
  {
   "cell_type": "code",
   "execution_count": 12,
   "id": "128b4ba2",
   "metadata": {},
   "outputs": [],
   "source": [
    "accuracy = Accuracy(num_classes=3, multiclass=True)\n",
    "f1 = F1(num_classes=3,average='micro', multiclass=True)"
   ]
  },
  {
   "cell_type": "code",
   "execution_count": 13,
   "id": "212debe8",
   "metadata": {},
   "outputs": [],
   "source": [
    "opt = torch.optim.Adam(cnn.parameters(), lr=args.lr, betas=(0.9, 0.999))\n",
    "scheduler = torch.optim.lr_scheduler.ExponentialLR(opt, 0.91)\n",
    "criterion = torch.nn.CrossEntropyLoss()"
   ]
  },
  {
   "cell_type": "code",
   "execution_count": 14,
   "id": "3b96c9f5",
   "metadata": {},
   "outputs": [],
   "source": [
    "trainset = train_loader(args.train_data_folder)\n",
    "validset = train_loader(args.valid_data_folder)\n",
    "point_sampler = RandomSampler(trainset)"
   ]
  },
  {
   "cell_type": "code",
   "execution_count": 15,
   "id": "06675482",
   "metadata": {},
   "outputs": [],
   "source": [
    "dataloader_train = DataLoader(dataset=trainset,\n",
    "                        batch_size=args.minibatchsize_train,\n",
    "                               sampler =point_sampler,\n",
    "                               num_workers=args.train_num_workers)\n",
    "dataloader_valid = DataLoader(dataset=validset,\n",
    "                        batch_size=args.minibatchsize_valid,\n",
    "                               num_workers=args.dev_num_workers)"
   ]
  },
  {
   "cell_type": "code",
   "execution_count": 16,
   "id": "1d9ee221",
   "metadata": {},
   "outputs": [
    {
     "name": "stderr",
     "output_type": "stream",
     "text": [
      "100%|███████████████████████████████████████████| 40/40 [00:15<00:00,  2.52it/s]"
     ]
    },
    {
     "name": "stdout",
     "output_type": "stream",
     "text": [
      "lr:  0.00091\n",
      "07-18 14:00 [MainProcess, 24686] [INFO ]  Iteration:0, train loss = 0.710188 ,train F1 = 0.540284 ,train ACC = 0.540284 \n"
     ]
    },
    {
     "name": "stderr",
     "output_type": "stream",
     "text": [
      "\n",
      "100%|███████████████████████████████████████████| 79/79 [00:04<00:00, 17.18it/s]"
     ]
    },
    {
     "name": "stdout",
     "output_type": "stream",
     "text": [
      "07-18 14:00 [MainProcess, 24686] [INFO ]  valid Epoch:0, Train loss=0.7102, Valid loss=0.6366,Valid F1=0.6767,Valid ACC=0.6767\n",
      "07-18 14:00 [MainProcess, 24686] [INFO ]  Time used for each epoch training: 20.468891859054565 seconds.\n",
      "07-18 14:00 [MainProcess, 24686] [INFO ]  **************************************************\n"
     ]
    },
    {
     "name": "stderr",
     "output_type": "stream",
     "text": [
      "\n",
      "100%|███████████████████████████████████████████| 40/40 [00:17<00:00,  2.33it/s]"
     ]
    },
    {
     "name": "stdout",
     "output_type": "stream",
     "text": [
      "lr:  0.0008281\n",
      "07-18 14:00 [MainProcess, 24686] [INFO ]  Iteration:1, train loss = 0.663493 ,train F1 = 0.586493 ,train ACC = 0.586493 \n"
     ]
    },
    {
     "name": "stderr",
     "output_type": "stream",
     "text": [
      "\n",
      "100%|███████████████████████████████████████████| 79/79 [00:05<00:00, 15.47it/s]"
     ]
    },
    {
     "name": "stdout",
     "output_type": "stream",
     "text": [
      "07-18 14:00 [MainProcess, 24686] [INFO ]  valid Epoch:1, Train loss=0.6635, Valid loss=0.6213,Valid F1=0.6751,Valid ACC=0.6751\n",
      "07-18 14:00 [MainProcess, 24686] [INFO ]  Time used for each epoch training: 22.274699926376343 seconds.\n",
      "07-18 14:00 [MainProcess, 24686] [INFO ]  **************************************************\n"
     ]
    },
    {
     "name": "stderr",
     "output_type": "stream",
     "text": [
      "\n",
      "100%|███████████████████████████████████████████| 40/40 [00:17<00:00,  2.28it/s]"
     ]
    },
    {
     "name": "stdout",
     "output_type": "stream",
     "text": [
      "lr:  0.0007535710000000001\n",
      "07-18 14:00 [MainProcess, 24686] [INFO ]  Iteration:2, train loss = 0.655445 ,train F1 = 0.600316 ,train ACC = 0.600316 \n"
     ]
    },
    {
     "name": "stderr",
     "output_type": "stream",
     "text": [
      "\n",
      "100%|███████████████████████████████████████████| 79/79 [00:04<00:00, 16.01it/s]"
     ]
    },
    {
     "name": "stdout",
     "output_type": "stream",
     "text": [
      "07-18 14:00 [MainProcess, 24686] [INFO ]  valid Epoch:2, Train loss=0.6554, Valid loss=0.6314,Valid F1=0.5769,Valid ACC=0.5769\n",
      "07-18 14:00 [MainProcess, 24686] [INFO ]  Time used for each epoch training: 22.53494167327881 seconds.\n",
      "07-18 14:00 [MainProcess, 24686] [INFO ]  **************************************************\n"
     ]
    },
    {
     "name": "stderr",
     "output_type": "stream",
     "text": [
      "\n",
      "100%|███████████████████████████████████████████| 40/40 [00:16<00:00,  2.44it/s]"
     ]
    },
    {
     "name": "stdout",
     "output_type": "stream",
     "text": [
      "lr:  0.0006857496100000001\n",
      "07-18 14:01 [MainProcess, 24686] [INFO ]  Iteration:3, train loss = 0.656595 ,train F1 = 0.596367 ,train ACC = 0.596367 \n"
     ]
    },
    {
     "name": "stderr",
     "output_type": "stream",
     "text": [
      "\n",
      "100%|███████████████████████████████████████████| 79/79 [00:04<00:00, 16.12it/s]"
     ]
    },
    {
     "name": "stdout",
     "output_type": "stream",
     "text": [
      "07-18 14:01 [MainProcess, 24686] [INFO ]  valid Epoch:3, Train loss=0.6566, Valid loss=0.6367,Valid F1=0.6292,Valid ACC=0.6292\n",
      "07-18 14:01 [MainProcess, 24686] [INFO ]  Time used for each epoch training: 21.33100390434265 seconds.\n",
      "07-18 14:01 [MainProcess, 24686] [INFO ]  **************************************************\n"
     ]
    },
    {
     "name": "stderr",
     "output_type": "stream",
     "text": [
      "\n",
      "100%|███████████████████████████████████████████| 40/40 [00:17<00:00,  2.24it/s]"
     ]
    },
    {
     "name": "stdout",
     "output_type": "stream",
     "text": [
      "lr:  0.0006240321451000001\n",
      "07-18 14:01 [MainProcess, 24686] [INFO ]  Iteration:4, train loss = 0.642932 ,train F1 = 0.629147 ,train ACC = 0.629147 \n"
     ]
    },
    {
     "name": "stderr",
     "output_type": "stream",
     "text": [
      "\n",
      "100%|███████████████████████████████████████████| 79/79 [00:04<00:00, 16.27it/s]"
     ]
    },
    {
     "name": "stdout",
     "output_type": "stream",
     "text": [
      "07-18 14:01 [MainProcess, 24686] [INFO ]  valid Epoch:4, Train loss=0.6429, Valid loss=0.6018,Valid F1=0.6719,Valid ACC=0.6719\n",
      "07-18 14:01 [MainProcess, 24686] [INFO ]  Time used for each epoch training: 22.760311126708984 seconds.\n",
      "07-18 14:01 [MainProcess, 24686] [INFO ]  **************************************************\n"
     ]
    },
    {
     "name": "stderr",
     "output_type": "stream",
     "text": [
      "\n",
      "100%|███████████████████████████████████████████| 40/40 [00:17<00:00,  2.24it/s]"
     ]
    },
    {
     "name": "stdout",
     "output_type": "stream",
     "text": [
      "lr:  0.0005678692520410001\n",
      "07-18 14:01 [MainProcess, 24686] [INFO ]  Iteration:5, train loss = 0.624325 ,train F1 = 0.642180 ,train ACC = 0.642180 \n"
     ]
    },
    {
     "name": "stderr",
     "output_type": "stream",
     "text": [
      "\n",
      "100%|███████████████████████████████████████████| 79/79 [00:04<00:00, 16.78it/s]"
     ]
    },
    {
     "name": "stdout",
     "output_type": "stream",
     "text": [
      "07-18 14:02 [MainProcess, 24686] [INFO ]  valid Epoch:5, Train loss=0.6243, Valid loss=0.6361,Valid F1=0.6371,Valid ACC=0.6371\n",
      "07-18 14:02 [MainProcess, 24686] [INFO ]  Time used for each epoch training: 22.558483362197876 seconds.\n",
      "07-18 14:02 [MainProcess, 24686] [INFO ]  **************************************************\n"
     ]
    },
    {
     "name": "stderr",
     "output_type": "stream",
     "text": [
      "\n",
      "100%|███████████████████████████████████████████| 40/40 [00:17<00:00,  2.25it/s]"
     ]
    },
    {
     "name": "stdout",
     "output_type": "stream",
     "text": [
      "lr:  0.00051676101935731\n",
      "07-18 14:02 [MainProcess, 24686] [INFO ]  Iteration:6, train loss = 0.628679 ,train F1 = 0.637046 ,train ACC = 0.637046 \n"
     ]
    },
    {
     "name": "stderr",
     "output_type": "stream",
     "text": [
      "\n",
      "100%|███████████████████████████████████████████| 79/79 [00:04<00:00, 16.23it/s]"
     ]
    },
    {
     "name": "stdout",
     "output_type": "stream",
     "text": [
      "07-18 14:02 [MainProcess, 24686] [INFO ]  valid Epoch:6, Train loss=0.6287, Valid loss=0.6262,Valid F1=0.6070,Valid ACC=0.6070\n",
      "07-18 14:02 [MainProcess, 24686] [INFO ]  Time used for each epoch training: 22.698922395706177 seconds.\n",
      "07-18 14:02 [MainProcess, 24686] [INFO ]  **************************************************\n"
     ]
    },
    {
     "name": "stderr",
     "output_type": "stream",
     "text": [
      "\n",
      "100%|███████████████████████████████████████████| 40/40 [00:17<00:00,  2.27it/s]"
     ]
    },
    {
     "name": "stdout",
     "output_type": "stream",
     "text": [
      "lr:  0.00047025252761515214\n",
      "07-18 14:02 [MainProcess, 24686] [INFO ]  Iteration:7, train loss = 0.612972 ,train F1 = 0.650079 ,train ACC = 0.650079 \n"
     ]
    },
    {
     "name": "stderr",
     "output_type": "stream",
     "text": [
      "\n",
      "100%|███████████████████████████████████████████| 79/79 [00:04<00:00, 16.59it/s]"
     ]
    },
    {
     "name": "stdout",
     "output_type": "stream",
     "text": [
      "07-18 14:02 [MainProcess, 24686] [INFO ]  valid Epoch:7, Train loss=0.6130, Valid loss=0.6174,Valid F1=0.6355,Valid ACC=0.6355\n",
      "07-18 14:02 [MainProcess, 24686] [INFO ]  Time used for each epoch training: 22.42297673225403 seconds.\n",
      "07-18 14:02 [MainProcess, 24686] [INFO ]  **************************************************\n"
     ]
    },
    {
     "name": "stderr",
     "output_type": "stream",
     "text": [
      "\n",
      "100%|███████████████████████████████████████████| 40/40 [00:18<00:00,  2.21it/s]"
     ]
    },
    {
     "name": "stdout",
     "output_type": "stream",
     "text": [
      "lr:  0.00042792980012978845\n",
      "07-18 14:03 [MainProcess, 24686] [INFO ]  Iteration:8, train loss = 0.614495 ,train F1 = 0.654028 ,train ACC = 0.654028 \n"
     ]
    },
    {
     "name": "stderr",
     "output_type": "stream",
     "text": [
      "\n",
      "100%|███████████████████████████████████████████| 79/79 [00:04<00:00, 16.13it/s]"
     ]
    },
    {
     "name": "stdout",
     "output_type": "stream",
     "text": [
      "07-18 14:03 [MainProcess, 24686] [INFO ]  valid Epoch:8, Train loss=0.6145, Valid loss=0.5888,Valid F1=0.6815,Valid ACC=0.6815\n",
      "07-18 14:03 [MainProcess, 24686] [INFO ]  Time used for each epoch training: 23.045136213302612 seconds.\n",
      "07-18 14:03 [MainProcess, 24686] [INFO ]  **************************************************\n"
     ]
    },
    {
     "name": "stderr",
     "output_type": "stream",
     "text": [
      "\n",
      "100%|███████████████████████████████████████████| 40/40 [00:18<00:00,  2.20it/s]"
     ]
    },
    {
     "name": "stdout",
     "output_type": "stream",
     "text": [
      "lr:  0.0003894161181181075\n",
      "07-18 14:03 [MainProcess, 24686] [INFO ]  Iteration:9, train loss = 0.602519 ,train F1 = 0.665482 ,train ACC = 0.665482 \n"
     ]
    },
    {
     "name": "stderr",
     "output_type": "stream",
     "text": [
      "\n",
      "100%|███████████████████████████████████████████| 79/79 [00:04<00:00, 16.08it/s]"
     ]
    },
    {
     "name": "stdout",
     "output_type": "stream",
     "text": [
      "07-18 14:03 [MainProcess, 24686] [INFO ]  valid Epoch:9, Train loss=0.6025, Valid loss=0.6663,Valid F1=0.5880,Valid ACC=0.5880\n",
      "07-18 14:03 [MainProcess, 24686] [INFO ]  Time used for each epoch training: 23.140373945236206 seconds.\n",
      "07-18 14:03 [MainProcess, 24686] [INFO ]  **************************************************\n"
     ]
    },
    {
     "name": "stderr",
     "output_type": "stream",
     "text": [
      "\n",
      "100%|███████████████████████████████████████████| 40/40 [00:18<00:00,  2.22it/s]"
     ]
    },
    {
     "name": "stdout",
     "output_type": "stream",
     "text": [
      "lr:  0.0003543686674874778\n",
      "07-18 14:03 [MainProcess, 24686] [INFO ]  Iteration:10, train loss = 0.603984 ,train F1 = 0.658768 ,train ACC = 0.658768 \n"
     ]
    },
    {
     "name": "stderr",
     "output_type": "stream",
     "text": [
      "\n",
      "100%|███████████████████████████████████████████| 79/79 [00:04<00:00, 16.25it/s]"
     ]
    },
    {
     "name": "stdout",
     "output_type": "stream",
     "text": [
      "07-18 14:03 [MainProcess, 24686] [INFO ]  valid Epoch:10, Train loss=0.6040, Valid loss=0.5855,Valid F1=0.6545,Valid ACC=0.6545\n",
      "07-18 14:03 [MainProcess, 24686] [INFO ]  Time used for each epoch training: 22.901409149169922 seconds.\n",
      "07-18 14:03 [MainProcess, 24686] [INFO ]  **************************************************\n"
     ]
    },
    {
     "name": "stderr",
     "output_type": "stream",
     "text": [
      "\n",
      "100%|███████████████████████████████████████████| 40/40 [00:18<00:00,  2.22it/s]"
     ]
    },
    {
     "name": "stdout",
     "output_type": "stream",
     "text": [
      "lr:  0.00032247548741360483\n",
      "07-18 14:04 [MainProcess, 24686] [INFO ]  Iteration:11, train loss = 0.587548 ,train F1 = 0.680885 ,train ACC = 0.680885 \n"
     ]
    },
    {
     "name": "stderr",
     "output_type": "stream",
     "text": [
      "\n",
      "100%|███████████████████████████████████████████| 79/79 [00:05<00:00, 15.58it/s]"
     ]
    },
    {
     "name": "stdout",
     "output_type": "stream",
     "text": [
      "07-18 14:04 [MainProcess, 24686] [INFO ]  valid Epoch:11, Train loss=0.5875, Valid loss=0.6163,Valid F1=0.6149,Valid ACC=0.6149\n",
      "07-18 14:04 [MainProcess, 24686] [INFO ]  Time used for each epoch training: 23.129610538482666 seconds.\n",
      "07-18 14:04 [MainProcess, 24686] [INFO ]  **************************************************\n"
     ]
    },
    {
     "name": "stderr",
     "output_type": "stream",
     "text": [
      "\n",
      "100%|███████████████████████████████████████████| 40/40 [00:18<00:00,  2.22it/s]"
     ]
    },
    {
     "name": "stdout",
     "output_type": "stream",
     "text": [
      "lr:  0.0002934526935463804\n",
      "07-18 14:04 [MainProcess, 24686] [INFO ]  Iteration:12, train loss = 0.594349 ,train F1 = 0.672986 ,train ACC = 0.672986 \n"
     ]
    },
    {
     "name": "stderr",
     "output_type": "stream",
     "text": [
      "\n",
      "100%|███████████████████████████████████████████| 79/79 [00:04<00:00, 16.54it/s]"
     ]
    },
    {
     "name": "stdout",
     "output_type": "stream",
     "text": [
      "07-18 14:04 [MainProcess, 24686] [INFO ]  valid Epoch:12, Train loss=0.5943, Valid loss=0.6063,Valid F1=0.6529,Valid ACC=0.6529\n",
      "07-18 14:04 [MainProcess, 24686] [INFO ]  Time used for each epoch training: 22.831653833389282 seconds.\n",
      "07-18 14:04 [MainProcess, 24686] [INFO ]  **************************************************\n"
     ]
    },
    {
     "name": "stderr",
     "output_type": "stream",
     "text": [
      "\n",
      "100%|███████████████████████████████████████████| 40/40 [00:17<00:00,  2.32it/s]"
     ]
    },
    {
     "name": "stdout",
     "output_type": "stream",
     "text": [
      "lr:  0.00026704195112720616\n",
      "07-18 14:04 [MainProcess, 24686] [INFO ]  Iteration:13, train loss = 0.592408 ,train F1 = 0.669826 ,train ACC = 0.669826 \n"
     ]
    },
    {
     "name": "stderr",
     "output_type": "stream",
     "text": [
      "\n",
      "100%|███████████████████████████████████████████| 79/79 [00:04<00:00, 16.62it/s]"
     ]
    },
    {
     "name": "stdout",
     "output_type": "stream",
     "text": [
      "07-18 14:05 [MainProcess, 24686] [INFO ]  valid Epoch:13, Train loss=0.5924, Valid loss=0.6084,Valid F1=0.6355,Valid ACC=0.6355\n",
      "07-18 14:05 [MainProcess, 24686] [INFO ]  Time used for each epoch training: 21.987048625946045 seconds.\n"
     ]
    },
    {
     "name": "stderr",
     "output_type": "stream",
     "text": [
      "\n"
     ]
    },
    {
     "name": "stdout",
     "output_type": "stream",
     "text": [
      "07-18 14:05 [MainProcess, 24686] [INFO ]  **************************************************\n"
     ]
    },
    {
     "name": "stderr",
     "output_type": "stream",
     "text": [
      "100%|███████████████████████████████████████████| 40/40 [00:16<00:00,  2.44it/s]"
     ]
    },
    {
     "name": "stdout",
     "output_type": "stream",
     "text": [
      "lr:  0.00024300817552575763\n",
      "07-18 14:05 [MainProcess, 24686] [INFO ]  Iteration:14, train loss = 0.575071 ,train F1 = 0.695498 ,train ACC = 0.695498 \n"
     ]
    },
    {
     "name": "stderr",
     "output_type": "stream",
     "text": [
      "\n",
      "100%|███████████████████████████████████████████| 79/79 [00:04<00:00, 16.39it/s]"
     ]
    },
    {
     "name": "stdout",
     "output_type": "stream",
     "text": [
      "07-18 14:05 [MainProcess, 24686] [INFO ]  valid Epoch:14, Train loss=0.5751, Valid loss=0.5971,Valid F1=0.6450,Valid ACC=0.6450\n",
      "07-18 14:05 [MainProcess, 24686] [INFO ]  Time used for each epoch training: 21.229332447052002 seconds.\n",
      "07-18 14:05 [MainProcess, 24686] [INFO ]  **************************************************\n"
     ]
    },
    {
     "name": "stderr",
     "output_type": "stream",
     "text": [
      "\n",
      "100%|███████████████████████████████████████████| 40/40 [00:17<00:00,  2.24it/s]"
     ]
    },
    {
     "name": "stdout",
     "output_type": "stream",
     "text": [
      "lr:  0.00022113743972843945\n",
      "07-18 14:05 [MainProcess, 24686] [INFO ]  Iteration:15, train loss = 0.571733 ,train F1 = 0.682070 ,train ACC = 0.682070 \n"
     ]
    },
    {
     "name": "stderr",
     "output_type": "stream",
     "text": [
      "\n",
      "100%|███████████████████████████████████████████| 79/79 [00:04<00:00, 16.25it/s]"
     ]
    },
    {
     "name": "stdout",
     "output_type": "stream",
     "text": [
      "07-18 14:05 [MainProcess, 24686] [INFO ]  valid Epoch:15, Train loss=0.5717, Valid loss=0.6275,Valid F1=0.6244,Valid ACC=0.6244\n",
      "07-18 14:05 [MainProcess, 24686] [INFO ]  Time used for each epoch training: 22.754825830459595 seconds.\n",
      "07-18 14:05 [MainProcess, 24686] [INFO ]  **************************************************\n"
     ]
    },
    {
     "name": "stderr",
     "output_type": "stream",
     "text": [
      "\n",
      "100%|███████████████████████████████████████████| 40/40 [00:17<00:00,  2.24it/s]"
     ]
    },
    {
     "name": "stdout",
     "output_type": "stream",
     "text": [
      "lr:  0.0002012350701528799\n",
      "07-18 14:06 [MainProcess, 24686] [INFO ]  Iteration:16, train loss = 0.561622 ,train F1 = 0.705766 ,train ACC = 0.705766 \n"
     ]
    },
    {
     "name": "stderr",
     "output_type": "stream",
     "text": [
      "\n",
      "100%|███████████████████████████████████████████| 79/79 [00:04<00:00, 16.35it/s]"
     ]
    },
    {
     "name": "stdout",
     "output_type": "stream",
     "text": [
      "07-18 14:06 [MainProcess, 24686] [INFO ]  valid Epoch:16, Train loss=0.5616, Valid loss=0.6095,Valid F1=0.6307,Valid ACC=0.6307\n",
      "07-18 14:06 [MainProcess, 24686] [INFO ]  Time used for each epoch training: 22.72749352455139 seconds.\n",
      "07-18 14:06 [MainProcess, 24686] [INFO ]  **************************************************\n"
     ]
    },
    {
     "name": "stderr",
     "output_type": "stream",
     "text": [
      "\n",
      "100%|███████████████████████████████████████████| 40/40 [00:18<00:00,  2.20it/s]"
     ]
    },
    {
     "name": "stdout",
     "output_type": "stream",
     "text": [
      "lr:  0.0001831239138391207\n",
      "07-18 14:06 [MainProcess, 24686] [INFO ]  Iteration:17, train loss = 0.550425 ,train F1 = 0.704581 ,train ACC = 0.704581 \n"
     ]
    },
    {
     "name": "stderr",
     "output_type": "stream",
     "text": [
      "\n",
      "100%|███████████████████████████████████████████| 79/79 [00:04<00:00, 16.27it/s]"
     ]
    },
    {
     "name": "stdout",
     "output_type": "stream",
     "text": [
      "07-18 14:06 [MainProcess, 24686] [INFO ]  valid Epoch:17, Train loss=0.5504, Valid loss=0.6161,Valid F1=0.6307,Valid ACC=0.6307\n",
      "07-18 14:06 [MainProcess, 24686] [INFO ]  Time used for each epoch training: 23.065085649490356 seconds.\n",
      "07-18 14:06 [MainProcess, 24686] [INFO ]  **************************************************\n"
     ]
    },
    {
     "name": "stderr",
     "output_type": "stream",
     "text": [
      "\n",
      "100%|███████████████████████████████████████████| 40/40 [00:17<00:00,  2.28it/s]"
     ]
    },
    {
     "name": "stdout",
     "output_type": "stream",
     "text": [
      "lr:  0.00016664276159359984\n",
      "07-18 14:06 [MainProcess, 24686] [INFO ]  Iteration:18, train loss = 0.537393 ,train F1 = 0.720774 ,train ACC = 0.720774 \n"
     ]
    },
    {
     "name": "stderr",
     "output_type": "stream",
     "text": [
      "\n",
      "100%|███████████████████████████████████████████| 79/79 [00:04<00:00, 16.07it/s]"
     ]
    },
    {
     "name": "stdout",
     "output_type": "stream",
     "text": [
      "07-18 14:06 [MainProcess, 24686] [INFO ]  valid Epoch:18, Train loss=0.5374, Valid loss=0.6474,Valid F1=0.6149,Valid ACC=0.6149\n",
      "07-18 14:06 [MainProcess, 24686] [INFO ]  Time used for each epoch training: 22.464629888534546 seconds.\n",
      "07-18 14:06 [MainProcess, 24686] [INFO ]  **************************************************\n"
     ]
    },
    {
     "name": "stderr",
     "output_type": "stream",
     "text": [
      "\n",
      "100%|███████████████████████████████████████████| 40/40 [00:17<00:00,  2.30it/s]"
     ]
    },
    {
     "name": "stdout",
     "output_type": "stream",
     "text": [
      "lr:  0.00015164491305017587\n",
      "07-18 14:07 [MainProcess, 24686] [INFO ]  Iteration:19, train loss = 0.550067 ,train F1 = 0.710506 ,train ACC = 0.710506 \n"
     ]
    },
    {
     "name": "stderr",
     "output_type": "stream",
     "text": [
      "\n",
      "100%|███████████████████████████████████████████| 79/79 [00:04<00:00, 16.38it/s]"
     ]
    },
    {
     "name": "stdout",
     "output_type": "stream",
     "text": [
      "07-18 14:07 [MainProcess, 24686] [INFO ]  valid Epoch:19, Train loss=0.5501, Valid loss=0.6049,Valid F1=0.6498,Valid ACC=0.6498\n",
      "07-18 14:07 [MainProcess, 24686] [INFO ]  Time used for each epoch training: 22.241118907928467 seconds.\n",
      "07-18 14:07 [MainProcess, 24686] [INFO ]  **************************************************\n"
     ]
    },
    {
     "name": "stderr",
     "output_type": "stream",
     "text": [
      "\n",
      "100%|███████████████████████████████████████████| 40/40 [00:18<00:00,  2.21it/s]"
     ]
    },
    {
     "name": "stdout",
     "output_type": "stream",
     "text": [
      "lr:  0.00013799687087566004\n",
      "07-18 14:07 [MainProcess, 24686] [INFO ]  Iteration:20, train loss = 0.531642 ,train F1 = 0.721169 ,train ACC = 0.721169 \n"
     ]
    },
    {
     "name": "stderr",
     "output_type": "stream",
     "text": [
      "\n",
      "100%|███████████████████████████████████████████| 79/79 [00:04<00:00, 16.69it/s]"
     ]
    },
    {
     "name": "stdout",
     "output_type": "stream",
     "text": [
      "07-18 14:07 [MainProcess, 24686] [INFO ]  valid Epoch:20, Train loss=0.5316, Valid loss=0.6651,Valid F1=0.6228,Valid ACC=0.6228\n",
      "07-18 14:07 [MainProcess, 24686] [INFO ]  Time used for each epoch training: 22.835333347320557 seconds.\n",
      "07-18 14:07 [MainProcess, 24686] [INFO ]  **************************************************\n"
     ]
    },
    {
     "name": "stderr",
     "output_type": "stream",
     "text": [
      "\n",
      "100%|███████████████████████████████████████████| 40/40 [00:17<00:00,  2.25it/s]"
     ]
    },
    {
     "name": "stdout",
     "output_type": "stream",
     "text": [
      "lr:  0.00012557715249685063\n",
      "07-18 14:07 [MainProcess, 24686] [INFO ]  Iteration:21, train loss = 0.520653 ,train F1 = 0.735387 ,train ACC = 0.735387 \n"
     ]
    },
    {
     "name": "stderr",
     "output_type": "stream",
     "text": [
      "\n",
      "100%|███████████████████████████████████████████| 79/79 [00:04<00:00, 16.17it/s]"
     ]
    },
    {
     "name": "stdout",
     "output_type": "stream",
     "text": [
      "07-18 14:08 [MainProcess, 24686] [INFO ]  valid Epoch:21, Train loss=0.5207, Valid loss=0.6976,Valid F1=0.6228,Valid ACC=0.6228\n",
      "07-18 14:08 [MainProcess, 24686] [INFO ]  Time used for each epoch training: 22.704834461212158 seconds.\n",
      "07-18 14:08 [MainProcess, 24686] [INFO ]  **************************************************\n"
     ]
    },
    {
     "name": "stderr",
     "output_type": "stream",
     "text": [
      "\n",
      "100%|███████████████████████████████████████████| 40/40 [00:17<00:00,  2.26it/s]"
     ]
    },
    {
     "name": "stdout",
     "output_type": "stream",
     "text": [
      "lr:  0.00011427520877213407\n",
      "07-18 14:08 [MainProcess, 24686] [INFO ]  Iteration:22, train loss = 0.514741 ,train F1 = 0.746051 ,train ACC = 0.746051 \n"
     ]
    },
    {
     "name": "stderr",
     "output_type": "stream",
     "text": [
      "\n",
      "100%|███████████████████████████████████████████| 79/79 [00:04<00:00, 16.27it/s]"
     ]
    },
    {
     "name": "stdout",
     "output_type": "stream",
     "text": [
      "07-18 14:08 [MainProcess, 24686] [INFO ]  valid Epoch:22, Train loss=0.5147, Valid loss=0.6737,Valid F1=0.6165,Valid ACC=0.6165\n",
      "07-18 14:08 [MainProcess, 24686] [INFO ]  Time used for each epoch training: 22.544069528579712 seconds.\n",
      "07-18 14:08 [MainProcess, 24686] [INFO ]  **************************************************\n"
     ]
    },
    {
     "name": "stderr",
     "output_type": "stream",
     "text": [
      "\n",
      "100%|███████████████████████████████████████████| 40/40 [00:17<00:00,  2.32it/s]"
     ]
    },
    {
     "name": "stdout",
     "output_type": "stream",
     "text": [
      "lr:  0.00010399043998264201\n",
      "07-18 14:08 [MainProcess, 24686] [INFO ]  Iteration:23, train loss = 0.507760 ,train F1 = 0.751975 ,train ACC = 0.751975 \n"
     ]
    },
    {
     "name": "stderr",
     "output_type": "stream",
     "text": [
      "\n",
      "100%|███████████████████████████████████████████| 79/79 [00:04<00:00, 16.25it/s]"
     ]
    },
    {
     "name": "stdout",
     "output_type": "stream",
     "text": [
      "07-18 14:08 [MainProcess, 24686] [INFO ]  valid Epoch:23, Train loss=0.5078, Valid loss=0.6522,Valid F1=0.6339,Valid ACC=0.6339\n",
      "07-18 14:08 [MainProcess, 24686] [INFO ]  Time used for each epoch training: 22.097777843475342 seconds.\n",
      "07-18 14:08 [MainProcess, 24686] [INFO ]  **************************************************\n"
     ]
    },
    {
     "name": "stderr",
     "output_type": "stream",
     "text": [
      "\n",
      "100%|███████████████████████████████████████████| 40/40 [00:17<00:00,  2.31it/s]"
     ]
    },
    {
     "name": "stdout",
     "output_type": "stream",
     "text": [
      "lr:  9.463130038420423e-05\n",
      "07-18 14:09 [MainProcess, 24686] [INFO ]  Iteration:24, train loss = 0.501609 ,train F1 = 0.742891 ,train ACC = 0.742891 \n"
     ]
    },
    {
     "name": "stderr",
     "output_type": "stream",
     "text": [
      "\n",
      "100%|███████████████████████████████████████████| 79/79 [00:04<00:00, 16.14it/s]"
     ]
    },
    {
     "name": "stdout",
     "output_type": "stream",
     "text": [
      "07-18 14:09 [MainProcess, 24686] [INFO ]  valid Epoch:24, Train loss=0.5016, Valid loss=0.6537,Valid F1=0.6371,Valid ACC=0.6371\n",
      "07-18 14:09 [MainProcess, 24686] [INFO ]  Time used for each epoch training: 22.231418132781982 seconds.\n",
      "07-18 14:09 [MainProcess, 24686] [INFO ]  **************************************************\n"
     ]
    },
    {
     "name": "stderr",
     "output_type": "stream",
     "text": [
      "\n",
      "100%|███████████████████████████████████████████| 40/40 [00:18<00:00,  2.21it/s]"
     ]
    },
    {
     "name": "stdout",
     "output_type": "stream",
     "text": [
      "lr:  8.611448334962585e-05\n",
      "07-18 14:09 [MainProcess, 24686] [INFO ]  Iteration:25, train loss = 0.499674 ,train F1 = 0.752765 ,train ACC = 0.752765 \n"
     ]
    },
    {
     "name": "stderr",
     "output_type": "stream",
     "text": [
      "\n",
      "100%|███████████████████████████████████████████| 79/79 [00:04<00:00, 16.10it/s]"
     ]
    },
    {
     "name": "stdout",
     "output_type": "stream",
     "text": [
      "07-18 14:09 [MainProcess, 24686] [INFO ]  valid Epoch:25, Train loss=0.4997, Valid loss=0.6246,Valid F1=0.6609,Valid ACC=0.6609\n",
      "07-18 14:09 [MainProcess, 24686] [INFO ]  Time used for each epoch training: 23.03105139732361 seconds.\n",
      "07-18 14:09 [MainProcess, 24686] [INFO ]  **************************************************\n"
     ]
    },
    {
     "name": "stderr",
     "output_type": "stream",
     "text": [
      "\n",
      "100%|███████████████████████████████████████████| 40/40 [00:17<00:00,  2.25it/s]"
     ]
    },
    {
     "name": "stdout",
     "output_type": "stream",
     "text": [
      "lr:  7.836417984815953e-05\n",
      "07-18 14:09 [MainProcess, 24686] [INFO ]  Iteration:26, train loss = 0.484636 ,train F1 = 0.756319 ,train ACC = 0.756319 \n"
     ]
    },
    {
     "name": "stderr",
     "output_type": "stream",
     "text": [
      "\n",
      "100%|███████████████████████████████████████████| 79/79 [00:04<00:00, 16.16it/s]"
     ]
    },
    {
     "name": "stdout",
     "output_type": "stream",
     "text": [
      "07-18 14:09 [MainProcess, 24686] [INFO ]  valid Epoch:26, Train loss=0.4846, Valid loss=0.6666,Valid F1=0.6260,Valid ACC=0.6260\n",
      "07-18 14:09 [MainProcess, 24686] [INFO ]  Time used for each epoch training: 22.681983947753906 seconds.\n",
      "07-18 14:09 [MainProcess, 24686] [INFO ]  **************************************************\n"
     ]
    },
    {
     "name": "stderr",
     "output_type": "stream",
     "text": [
      "\n",
      "100%|███████████████████████████████████████████| 40/40 [00:17<00:00,  2.29it/s]"
     ]
    },
    {
     "name": "stdout",
     "output_type": "stream",
     "text": [
      "lr:  7.131140366182518e-05\n",
      "07-18 14:10 [MainProcess, 24686] [INFO ]  Iteration:27, train loss = 0.477566 ,train F1 = 0.760664 ,train ACC = 0.760664 \n"
     ]
    },
    {
     "name": "stderr",
     "output_type": "stream",
     "text": [
      "\n",
      "100%|███████████████████████████████████████████| 79/79 [00:04<00:00, 16.62it/s]"
     ]
    },
    {
     "name": "stdout",
     "output_type": "stream",
     "text": [
      "07-18 14:10 [MainProcess, 24686] [INFO ]  valid Epoch:27, Train loss=0.4776, Valid loss=0.7031,Valid F1=0.6101,Valid ACC=0.6101\n",
      "07-18 14:10 [MainProcess, 24686] [INFO ]  Time used for each epoch training: 22.21676230430603 seconds.\n",
      "07-18 14:10 [MainProcess, 24686] [INFO ]  **************************************************\n"
     ]
    },
    {
     "name": "stderr",
     "output_type": "stream",
     "text": [
      "\n",
      "100%|███████████████████████████████████████████| 40/40 [00:17<00:00,  2.35it/s]"
     ]
    },
    {
     "name": "stdout",
     "output_type": "stream",
     "text": [
      "lr:  6.489337733226091e-05\n",
      "07-18 14:10 [MainProcess, 24686] [INFO ]  Iteration:28, train loss = 0.481902 ,train F1 = 0.765403 ,train ACC = 0.765403 \n"
     ]
    },
    {
     "name": "stderr",
     "output_type": "stream",
     "text": [
      "\n",
      "100%|███████████████████████████████████████████| 79/79 [00:04<00:00, 16.33it/s]"
     ]
    },
    {
     "name": "stdout",
     "output_type": "stream",
     "text": [
      "07-18 14:10 [MainProcess, 24686] [INFO ]  valid Epoch:28, Train loss=0.4819, Valid loss=0.6969,Valid F1=0.6228,Valid ACC=0.6228\n",
      "07-18 14:10 [MainProcess, 24686] [INFO ]  Time used for each epoch training: 21.872923135757446 seconds.\n",
      "07-18 14:10 [MainProcess, 24686] [INFO ]  **************************************************\n"
     ]
    },
    {
     "name": "stderr",
     "output_type": "stream",
     "text": [
      "\n",
      "100%|███████████████████████████████████████████| 40/40 [00:17<00:00,  2.28it/s]"
     ]
    },
    {
     "name": "stdout",
     "output_type": "stream",
     "text": [
      "lr:  5.905297337235743e-05\n",
      "07-18 14:10 [MainProcess, 24686] [INFO ]  Iteration:29, train loss = 0.472611 ,train F1 = 0.779226 ,train ACC = 0.779226 \n"
     ]
    },
    {
     "name": "stderr",
     "output_type": "stream",
     "text": [
      "\n",
      "100%|███████████████████████████████████████████| 79/79 [00:04<00:00, 16.26it/s]"
     ]
    },
    {
     "name": "stdout",
     "output_type": "stream",
     "text": [
      "07-18 14:11 [MainProcess, 24686] [INFO ]  valid Epoch:29, Train loss=0.4726, Valid loss=0.6824,Valid F1=0.6371,Valid ACC=0.6371\n",
      "07-18 14:11 [MainProcess, 24686] [INFO ]  Time used for each epoch training: 22.41630506515503 seconds.\n",
      "07-18 14:11 [MainProcess, 24686] [INFO ]  **************************************************\n"
     ]
    },
    {
     "name": "stderr",
     "output_type": "stream",
     "text": [
      "\n",
      "100%|███████████████████████████████████████████| 40/40 [00:18<00:00,  2.19it/s]"
     ]
    },
    {
     "name": "stdout",
     "output_type": "stream",
     "text": [
      "lr:  5.373820576884526e-05\n",
      "07-18 14:11 [MainProcess, 24686] [INFO ]  Iteration:30, train loss = 0.465216 ,train F1 = 0.768957 ,train ACC = 0.768957 \n"
     ]
    },
    {
     "name": "stderr",
     "output_type": "stream",
     "text": [
      "\n",
      "100%|███████████████████████████████████████████| 79/79 [00:04<00:00, 16.06it/s]"
     ]
    },
    {
     "name": "stdout",
     "output_type": "stream",
     "text": [
      "07-18 14:11 [MainProcess, 24686] [INFO ]  valid Epoch:30, Train loss=0.4652, Valid loss=0.6877,Valid F1=0.6387,Valid ACC=0.6387\n"
     ]
    },
    {
     "name": "stderr",
     "output_type": "stream",
     "text": [
      "\n"
     ]
    },
    {
     "name": "stdout",
     "output_type": "stream",
     "text": [
      "07-18 14:11 [MainProcess, 24686] [INFO ]  Time used for each epoch training: 23.20582938194275 seconds.\n",
      "07-18 14:11 [MainProcess, 24686] [INFO ]  **************************************************\n"
     ]
    },
    {
     "name": "stderr",
     "output_type": "stream",
     "text": [
      "100%|███████████████████████████████████████████| 40/40 [00:17<00:00,  2.35it/s]"
     ]
    },
    {
     "name": "stdout",
     "output_type": "stream",
     "text": [
      "lr:  4.890176724964919e-05\n",
      "07-18 14:11 [MainProcess, 24686] [INFO ]  Iteration:31, train loss = 0.457042 ,train F1 = 0.779226 ,train ACC = 0.779226 \n"
     ]
    },
    {
     "name": "stderr",
     "output_type": "stream",
     "text": [
      "\n",
      "100%|███████████████████████████████████████████| 79/79 [00:04<00:00, 16.62it/s]"
     ]
    },
    {
     "name": "stdout",
     "output_type": "stream",
     "text": [
      "07-18 14:11 [MainProcess, 24686] [INFO ]  valid Epoch:31, Train loss=0.4570, Valid loss=0.7455,Valid F1=0.6070,Valid ACC=0.6070\n",
      "07-18 14:11 [MainProcess, 24686] [INFO ]  Time used for each epoch training: 21.78767204284668 seconds.\n",
      "07-18 14:11 [MainProcess, 24686] [INFO ]  **************************************************\n"
     ]
    },
    {
     "name": "stderr",
     "output_type": "stream",
     "text": [
      "\n",
      "100%|███████████████████████████████████████████| 40/40 [00:17<00:00,  2.31it/s]"
     ]
    },
    {
     "name": "stdout",
     "output_type": "stream",
     "text": [
      "lr:  4.450060819718076e-05\n",
      "07-18 14:12 [MainProcess, 24686] [INFO ]  Iteration:32, train loss = 0.471911 ,train F1 = 0.776856 ,train ACC = 0.776856 \n"
     ]
    },
    {
     "name": "stderr",
     "output_type": "stream",
     "text": [
      "\n",
      "100%|███████████████████████████████████████████| 79/79 [00:04<00:00, 16.00it/s]"
     ]
    },
    {
     "name": "stdout",
     "output_type": "stream",
     "text": [
      "07-18 14:12 [MainProcess, 24686] [INFO ]  valid Epoch:32, Train loss=0.4719, Valid loss=0.7092,Valid F1=0.6434,Valid ACC=0.6434\n",
      "07-18 14:12 [MainProcess, 24686] [INFO ]  Time used for each epoch training: 22.240946292877197 seconds.\n",
      "07-18 14:12 [MainProcess, 24686] [INFO ]  **************************************************\n"
     ]
    },
    {
     "name": "stderr",
     "output_type": "stream",
     "text": [
      "\n",
      "100%|███████████████████████████████████████████| 40/40 [00:17<00:00,  2.30it/s]"
     ]
    },
    {
     "name": "stdout",
     "output_type": "stream",
     "text": [
      "lr:  4.049555345943449e-05\n",
      "07-18 14:12 [MainProcess, 24686] [INFO ]  Iteration:33, train loss = 0.445021 ,train F1 = 0.784755 ,train ACC = 0.784755 \n"
     ]
    },
    {
     "name": "stderr",
     "output_type": "stream",
     "text": [
      "\n",
      "100%|███████████████████████████████████████████| 79/79 [00:04<00:00, 16.77it/s]"
     ]
    },
    {
     "name": "stdout",
     "output_type": "stream",
     "text": [
      "07-18 14:12 [MainProcess, 24686] [INFO ]  valid Epoch:33, Train loss=0.4450, Valid loss=0.6574,Valid F1=0.6466,Valid ACC=0.6466\n",
      "07-18 14:12 [MainProcess, 24686] [INFO ]  Time used for each epoch training: 22.13889789581299 seconds.\n",
      "07-18 14:12 [MainProcess, 24686] [INFO ]  **************************************************\n"
     ]
    },
    {
     "name": "stderr",
     "output_type": "stream",
     "text": [
      "\n",
      "100%|███████████████████████████████████████████| 40/40 [00:17<00:00,  2.30it/s]"
     ]
    },
    {
     "name": "stdout",
     "output_type": "stream",
     "text": [
      "lr:  3.685095364808539e-05\n",
      "07-18 14:12 [MainProcess, 24686] [INFO ]  Iteration:34, train loss = 0.450046 ,train F1 = 0.784755 ,train ACC = 0.784755 \n"
     ]
    },
    {
     "name": "stderr",
     "output_type": "stream",
     "text": [
      "\n",
      "100%|███████████████████████████████████████████| 79/79 [00:04<00:00, 16.56it/s]"
     ]
    },
    {
     "name": "stdout",
     "output_type": "stream",
     "text": [
      "07-18 14:12 [MainProcess, 24686] [INFO ]  valid Epoch:34, Train loss=0.4500, Valid loss=0.6547,Valid F1=0.6371,Valid ACC=0.6371\n",
      "07-18 14:12 [MainProcess, 24686] [INFO ]  Time used for each epoch training: 22.198347330093384 seconds.\n",
      "07-18 14:12 [MainProcess, 24686] [INFO ]  **************************************************\n"
     ]
    },
    {
     "name": "stderr",
     "output_type": "stream",
     "text": [
      "\n",
      "100%|███████████████████████████████████████████| 40/40 [00:17<00:00,  2.26it/s]"
     ]
    },
    {
     "name": "stdout",
     "output_type": "stream",
     "text": [
      "lr:  3.3534367819757705e-05\n",
      "07-18 14:13 [MainProcess, 24686] [INFO ]  Iteration:35, train loss = 0.440141 ,train F1 = 0.794234 ,train ACC = 0.794234 \n"
     ]
    },
    {
     "name": "stderr",
     "output_type": "stream",
     "text": [
      "\n",
      "100%|███████████████████████████████████████████| 79/79 [00:04<00:00, 16.20it/s]"
     ]
    },
    {
     "name": "stdout",
     "output_type": "stream",
     "text": [
      "07-18 14:13 [MainProcess, 24686] [INFO ]  valid Epoch:35, Train loss=0.4401, Valid loss=0.6680,Valid F1=0.6466,Valid ACC=0.6466\n",
      "07-18 14:13 [MainProcess, 24686] [INFO ]  Time used for each epoch training: 22.624736309051514 seconds.\n",
      "07-18 14:13 [MainProcess, 24686] [INFO ]  **************************************************\n"
     ]
    },
    {
     "name": "stderr",
     "output_type": "stream",
     "text": [
      "\n",
      "100%|███████████████████████████████████████████| 40/40 [00:17<00:00,  2.28it/s]"
     ]
    },
    {
     "name": "stdout",
     "output_type": "stream",
     "text": [
      "lr:  3.051627471597951e-05\n",
      "07-18 14:13 [MainProcess, 24686] [INFO ]  Iteration:36, train loss = 0.433508 ,train F1 = 0.793049 ,train ACC = 0.793049 \n"
     ]
    },
    {
     "name": "stderr",
     "output_type": "stream",
     "text": [
      "\n",
      "100%|███████████████████████████████████████████| 79/79 [00:04<00:00, 16.61it/s]"
     ]
    },
    {
     "name": "stdout",
     "output_type": "stream",
     "text": [
      "07-18 14:13 [MainProcess, 24686] [INFO ]  valid Epoch:36, Train loss=0.4335, Valid loss=0.7090,Valid F1=0.6038,Valid ACC=0.6038\n",
      "07-18 14:13 [MainProcess, 24686] [INFO ]  Time used for each epoch training: 22.289605617523193 seconds.\n",
      "07-18 14:13 [MainProcess, 24686] [INFO ]  **************************************************\n"
     ]
    },
    {
     "name": "stderr",
     "output_type": "stream",
     "text": [
      "\n",
      "100%|███████████████████████████████████████████| 40/40 [00:17<00:00,  2.26it/s]"
     ]
    },
    {
     "name": "stdout",
     "output_type": "stream",
     "text": [
      "lr:  2.7769809991541357e-05\n",
      "07-18 14:13 [MainProcess, 24686] [INFO ]  Iteration:37, train loss = 0.437422 ,train F1 = 0.798183 ,train ACC = 0.798183 \n"
     ]
    },
    {
     "name": "stderr",
     "output_type": "stream",
     "text": [
      "\n",
      "100%|███████████████████████████████████████████| 79/79 [00:04<00:00, 16.51it/s]"
     ]
    },
    {
     "name": "stdout",
     "output_type": "stream",
     "text": [
      "07-18 14:14 [MainProcess, 24686] [INFO ]  valid Epoch:37, Train loss=0.4374, Valid loss=0.7277,Valid F1=0.6054,Valid ACC=0.6054\n",
      "07-18 14:14 [MainProcess, 24686] [INFO ]  Time used for each epoch training: 22.46635127067566 seconds.\n",
      "07-18 14:14 [MainProcess, 24686] [INFO ]  **************************************************\n"
     ]
    },
    {
     "name": "stderr",
     "output_type": "stream",
     "text": [
      "\n",
      "100%|███████████████████████████████████████████| 40/40 [00:18<00:00,  2.21it/s]"
     ]
    },
    {
     "name": "stdout",
     "output_type": "stream",
     "text": [
      "lr:  2.5270527092302636e-05\n",
      "07-18 14:14 [MainProcess, 24686] [INFO ]  Iteration:38, train loss = 0.428667 ,train F1 = 0.798183 ,train ACC = 0.798183 \n"
     ]
    },
    {
     "name": "stderr",
     "output_type": "stream",
     "text": [
      "\n",
      "100%|███████████████████████████████████████████| 79/79 [00:04<00:00, 16.20it/s]"
     ]
    },
    {
     "name": "stdout",
     "output_type": "stream",
     "text": [
      "07-18 14:14 [MainProcess, 24686] [INFO ]  valid Epoch:38, Train loss=0.4287, Valid loss=0.7139,Valid F1=0.6244,Valid ACC=0.6244\n",
      "07-18 14:14 [MainProcess, 24686] [INFO ]  Time used for each epoch training: 22.980764150619507 seconds.\n",
      "07-18 14:14 [MainProcess, 24686] [INFO ]  **************************************************\n"
     ]
    },
    {
     "name": "stderr",
     "output_type": "stream",
     "text": [
      "\n",
      "100%|███████████████████████████████████████████| 40/40 [00:17<00:00,  2.23it/s]"
     ]
    },
    {
     "name": "stdout",
     "output_type": "stream",
     "text": [
      "lr:  2.29961796539954e-05\n",
      "07-18 14:14 [MainProcess, 24686] [INFO ]  Iteration:39, train loss = 0.430157 ,train F1 = 0.796604 ,train ACC = 0.796604 \n"
     ]
    },
    {
     "name": "stderr",
     "output_type": "stream",
     "text": [
      "\n",
      "100%|███████████████████████████████████████████| 79/79 [00:04<00:00, 16.25it/s]"
     ]
    },
    {
     "name": "stdout",
     "output_type": "stream",
     "text": [
      "07-18 14:14 [MainProcess, 24686] [INFO ]  valid Epoch:39, Train loss=0.4302, Valid loss=0.6835,Valid F1=0.6482,Valid ACC=0.6482\n",
      "07-18 14:14 [MainProcess, 24686] [INFO ]  Time used for each epoch training: 22.840205192565918 seconds.\n",
      "07-18 14:14 [MainProcess, 24686] [INFO ]  **************************************************\n"
     ]
    },
    {
     "name": "stderr",
     "output_type": "stream",
     "text": [
      "\n",
      "100%|███████████████████████████████████████████| 40/40 [00:17<00:00,  2.25it/s]"
     ]
    },
    {
     "name": "stdout",
     "output_type": "stream",
     "text": [
      "lr:  2.0926523485135813e-05\n",
      "07-18 14:15 [MainProcess, 24686] [INFO ]  Iteration:40, train loss = 0.433150 ,train F1 = 0.800948 ,train ACC = 0.800948 \n"
     ]
    },
    {
     "name": "stderr",
     "output_type": "stream",
     "text": [
      "\n",
      "100%|███████████████████████████████████████████| 79/79 [00:04<00:00, 17.75it/s]"
     ]
    },
    {
     "name": "stdout",
     "output_type": "stream",
     "text": [
      "07-18 14:15 [MainProcess, 24686] [INFO ]  valid Epoch:40, Train loss=0.4331, Valid loss=0.7277,Valid F1=0.6181,Valid ACC=0.6181\n",
      "07-18 14:15 [MainProcess, 24686] [INFO ]  Time used for each epoch training: 22.263198137283325 seconds.\n",
      "07-18 14:15 [MainProcess, 24686] [INFO ]  **************************************************\n"
     ]
    },
    {
     "name": "stderr",
     "output_type": "stream",
     "text": [
      "\n",
      "100%|███████████████████████████████████████████| 40/40 [00:17<00:00,  2.30it/s]"
     ]
    },
    {
     "name": "stdout",
     "output_type": "stream",
     "text": [
      "lr:  1.904313637147359e-05\n",
      "07-18 14:15 [MainProcess, 24686] [INFO ]  Iteration:41, train loss = 0.427019 ,train F1 = 0.802133 ,train ACC = 0.802133 \n"
     ]
    },
    {
     "name": "stderr",
     "output_type": "stream",
     "text": [
      "\n",
      "100%|███████████████████████████████████████████| 79/79 [00:04<00:00, 16.52it/s]"
     ]
    },
    {
     "name": "stdout",
     "output_type": "stream",
     "text": [
      "07-18 14:15 [MainProcess, 24686] [INFO ]  valid Epoch:41, Train loss=0.4270, Valid loss=0.7565,Valid F1=0.6260,Valid ACC=0.6260\n",
      "07-18 14:15 [MainProcess, 24686] [INFO ]  Time used for each epoch training: 22.18741011619568 seconds.\n",
      "07-18 14:15 [MainProcess, 24686] [INFO ]  **************************************************\n"
     ]
    },
    {
     "name": "stderr",
     "output_type": "stream",
     "text": [
      "\n",
      "100%|███████████████████████████████████████████| 40/40 [00:17<00:00,  2.24it/s]"
     ]
    },
    {
     "name": "stdout",
     "output_type": "stream",
     "text": [
      "lr:  1.7329254098040968e-05\n",
      "07-18 14:15 [MainProcess, 24686] [INFO ]  Iteration:42, train loss = 0.417383 ,train F1 = 0.811611 ,train ACC = 0.811611 \n"
     ]
    },
    {
     "name": "stderr",
     "output_type": "stream",
     "text": [
      "\n",
      "100%|███████████████████████████████████████████| 79/79 [00:04<00:00, 16.16it/s]"
     ]
    },
    {
     "name": "stdout",
     "output_type": "stream",
     "text": [
      "07-18 14:15 [MainProcess, 24686] [INFO ]  valid Epoch:42, Train loss=0.4174, Valid loss=0.6980,Valid F1=0.6197,Valid ACC=0.6197\n",
      "07-18 14:15 [MainProcess, 24686] [INFO ]  Time used for each epoch training: 22.771544694900513 seconds.\n",
      "07-18 14:15 [MainProcess, 24686] [INFO ]  **************************************************\n"
     ]
    },
    {
     "name": "stderr",
     "output_type": "stream",
     "text": [
      "\n",
      "100%|███████████████████████████████████████████| 40/40 [00:17<00:00,  2.24it/s]"
     ]
    },
    {
     "name": "stdout",
     "output_type": "stream",
     "text": [
      "lr:  1.5769621229217283e-05\n",
      "07-18 14:16 [MainProcess, 24686] [INFO ]  Iteration:43, train loss = 0.410827 ,train F1 = 0.817141 ,train ACC = 0.817141 \n"
     ]
    },
    {
     "name": "stderr",
     "output_type": "stream",
     "text": [
      "\n",
      "100%|███████████████████████████████████████████| 79/79 [00:04<00:00, 15.93it/s]"
     ]
    },
    {
     "name": "stdout",
     "output_type": "stream",
     "text": [
      "07-18 14:16 [MainProcess, 24686] [INFO ]  valid Epoch:43, Train loss=0.4108, Valid loss=0.7362,Valid F1=0.6101,Valid ACC=0.6101\n",
      "07-18 14:16 [MainProcess, 24686] [INFO ]  Time used for each epoch training: 22.870340824127197 seconds.\n",
      "07-18 14:16 [MainProcess, 24686] [INFO ]  **************************************************\n"
     ]
    },
    {
     "name": "stderr",
     "output_type": "stream",
     "text": [
      "\n",
      "100%|███████████████████████████████████████████| 40/40 [00:17<00:00,  2.23it/s]"
     ]
    },
    {
     "name": "stdout",
     "output_type": "stream",
     "text": [
      "lr:  1.4350355318587729e-05\n",
      "07-18 14:16 [MainProcess, 24686] [INFO ]  Iteration:44, train loss = 0.416637 ,train F1 = 0.809637 ,train ACC = 0.809637 \n"
     ]
    },
    {
     "name": "stderr",
     "output_type": "stream",
     "text": [
      "\n",
      "100%|███████████████████████████████████████████| 79/79 [00:04<00:00, 16.20it/s]"
     ]
    },
    {
     "name": "stdout",
     "output_type": "stream",
     "text": [
      "07-18 14:16 [MainProcess, 24686] [INFO ]  valid Epoch:44, Train loss=0.4166, Valid loss=0.7006,Valid F1=0.6181,Valid ACC=0.6181\n",
      "07-18 14:16 [MainProcess, 24686] [INFO ]  Time used for each epoch training: 22.812209844589233 seconds.\n",
      "07-18 14:16 [MainProcess, 24686] [INFO ]  **************************************************\n"
     ]
    },
    {
     "name": "stderr",
     "output_type": "stream",
     "text": [
      "\n",
      "100%|███████████████████████████████████████████| 40/40 [00:18<00:00,  2.22it/s]"
     ]
    },
    {
     "name": "stdout",
     "output_type": "stream",
     "text": [
      "lr:  1.3058823339914834e-05\n",
      "07-18 14:16 [MainProcess, 24686] [INFO ]  Iteration:45, train loss = 0.411419 ,train F1 = 0.819905 ,train ACC = 0.819905 \n"
     ]
    },
    {
     "name": "stderr",
     "output_type": "stream",
     "text": [
      "\n",
      "100%|███████████████████████████████████████████| 79/79 [00:04<00:00, 16.23it/s]"
     ]
    },
    {
     "name": "stdout",
     "output_type": "stream",
     "text": [
      "07-18 14:17 [MainProcess, 24686] [INFO ]  valid Epoch:45, Train loss=0.4114, Valid loss=0.7790,Valid F1=0.5800,Valid ACC=0.5800\n",
      "07-18 14:17 [MainProcess, 24686] [INFO ]  Time used for each epoch training: 22.931935787200928 seconds.\n",
      "07-18 14:17 [MainProcess, 24686] [INFO ]  **************************************************\n"
     ]
    },
    {
     "name": "stderr",
     "output_type": "stream",
     "text": [
      "\n",
      "100%|███████████████████████████████████████████| 40/40 [00:17<00:00,  2.29it/s]"
     ]
    },
    {
     "name": "stdout",
     "output_type": "stream",
     "text": [
      "lr:  1.18835292393225e-05\n",
      "07-18 14:17 [MainProcess, 24686] [INFO ]  Iteration:46, train loss = 0.415682 ,train F1 = 0.810427 ,train ACC = 0.810427 \n"
     ]
    },
    {
     "name": "stderr",
     "output_type": "stream",
     "text": [
      "\n",
      "100%|███████████████████████████████████████████| 79/79 [00:04<00:00, 16.64it/s]"
     ]
    },
    {
     "name": "stdout",
     "output_type": "stream",
     "text": [
      "07-18 14:17 [MainProcess, 24686] [INFO ]  valid Epoch:46, Train loss=0.4157, Valid loss=0.6887,Valid F1=0.6292,Valid ACC=0.6292\n",
      "07-18 14:17 [MainProcess, 24686] [INFO ]  Time used for each epoch training: 22.22838020324707 seconds.\n",
      "07-18 14:17 [MainProcess, 24686] [INFO ]  **************************************************\n"
     ]
    },
    {
     "name": "stderr",
     "output_type": "stream",
     "text": [
      "\n",
      "100%|███████████████████████████████████████████| 40/40 [00:17<00:00,  2.26it/s]"
     ]
    },
    {
     "name": "stdout",
     "output_type": "stream",
     "text": [
      "lr:  1.0814011607783475e-05\n",
      "07-18 14:17 [MainProcess, 24686] [INFO ]  Iteration:47, train loss = 0.424256 ,train F1 = 0.805292 ,train ACC = 0.805292 \n"
     ]
    },
    {
     "name": "stderr",
     "output_type": "stream",
     "text": [
      "\n",
      "100%|███████████████████████████████████████████| 79/79 [00:04<00:00, 16.79it/s]"
     ]
    },
    {
     "name": "stdout",
     "output_type": "stream",
     "text": [
      "07-18 14:17 [MainProcess, 24686] [INFO ]  valid Epoch:47, Train loss=0.4243, Valid loss=0.7464,Valid F1=0.6244,Valid ACC=0.6244\n",
      "07-18 14:17 [MainProcess, 24686] [INFO ]  Time used for each epoch training: 22.418102979660034 seconds.\n",
      "07-18 14:17 [MainProcess, 24686] [INFO ]  **************************************************\n"
     ]
    },
    {
     "name": "stderr",
     "output_type": "stream",
     "text": [
      "\n",
      "100%|███████████████████████████████████████████| 40/40 [00:17<00:00,  2.28it/s]"
     ]
    },
    {
     "name": "stdout",
     "output_type": "stream",
     "text": [
      "lr:  9.840750563082964e-06\n",
      "07-18 14:18 [MainProcess, 24686] [INFO ]  Iteration:48, train loss = 0.411802 ,train F1 = 0.809242 ,train ACC = 0.809242 \n"
     ]
    },
    {
     "name": "stderr",
     "output_type": "stream",
     "text": [
      "\n",
      "100%|███████████████████████████████████████████| 79/79 [00:04<00:00, 16.45it/s]"
     ]
    },
    {
     "name": "stdout",
     "output_type": "stream",
     "text": [
      "07-18 14:18 [MainProcess, 24686] [INFO ]  valid Epoch:48, Train loss=0.4118, Valid loss=0.7412,Valid F1=0.6181,Valid ACC=0.6181\n",
      "07-18 14:18 [MainProcess, 24686] [INFO ]  Time used for each epoch training: 22.39227032661438 seconds.\n",
      "07-18 14:18 [MainProcess, 24686] [INFO ]  **************************************************\n"
     ]
    },
    {
     "name": "stderr",
     "output_type": "stream",
     "text": [
      "\n",
      "100%|███████████████████████████████████████████| 40/40 [00:18<00:00,  2.18it/s]"
     ]
    },
    {
     "name": "stdout",
     "output_type": "stream",
     "text": [
      "lr:  8.955083012405497e-06\n",
      "07-18 14:18 [MainProcess, 24686] [INFO ]  Iteration:49, train loss = 0.417853 ,train F1 = 0.812401 ,train ACC = 0.812401 \n"
     ]
    },
    {
     "name": "stderr",
     "output_type": "stream",
     "text": [
      "\n",
      "100%|███████████████████████████████████████████| 79/79 [00:04<00:00, 16.44it/s]"
     ]
    },
    {
     "name": "stdout",
     "output_type": "stream",
     "text": [
      "07-18 14:18 [MainProcess, 24686] [INFO ]  valid Epoch:49, Train loss=0.4179, Valid loss=0.6683,Valid F1=0.6434,Valid ACC=0.6434\n",
      "07-18 14:18 [MainProcess, 24686] [INFO ]  Time used for each epoch training: 23.18998384475708 seconds.\n",
      "07-18 14:18 [MainProcess, 24686] [INFO ]  **************************************************\n"
     ]
    },
    {
     "name": "stderr",
     "output_type": "stream",
     "text": [
      "\n",
      "100%|███████████████████████████████████████████| 40/40 [00:18<00:00,  2.14it/s]"
     ]
    },
    {
     "name": "stdout",
     "output_type": "stream",
     "text": [
      "lr:  8.149125541289003e-06\n",
      "07-18 14:18 [MainProcess, 24686] [INFO ]  Iteration:50, train loss = 0.416899 ,train F1 = 0.807267 ,train ACC = 0.807267 \n"
     ]
    },
    {
     "name": "stderr",
     "output_type": "stream",
     "text": [
      "\n",
      "100%|███████████████████████████████████████████| 79/79 [00:05<00:00, 15.32it/s]"
     ]
    },
    {
     "name": "stdout",
     "output_type": "stream",
     "text": [
      "07-18 14:18 [MainProcess, 24686] [INFO ]  valid Epoch:50, Train loss=0.4169, Valid loss=0.7505,Valid F1=0.6197,Valid ACC=0.6197\n",
      "07-18 14:18 [MainProcess, 24686] [INFO ]  Time used for each epoch training: 23.830936670303345 seconds.\n",
      "07-18 14:18 [MainProcess, 24686] [INFO ]  **************************************************\n"
     ]
    },
    {
     "name": "stderr",
     "output_type": "stream",
     "text": [
      "\n",
      "100%|███████████████████████████████████████████| 40/40 [00:17<00:00,  2.25it/s]"
     ]
    },
    {
     "name": "stdout",
     "output_type": "stream",
     "text": [
      "lr:  7.415704242572993e-06\n",
      "07-18 14:19 [MainProcess, 24686] [INFO ]  Iteration:51, train loss = 0.415237 ,train F1 = 0.805292 ,train ACC = 0.805292 \n"
     ]
    },
    {
     "name": "stderr",
     "output_type": "stream",
     "text": [
      "\n",
      "100%|███████████████████████████████████████████| 79/79 [00:05<00:00, 14.51it/s]"
     ]
    },
    {
     "name": "stdout",
     "output_type": "stream",
     "text": [
      "07-18 14:19 [MainProcess, 24686] [INFO ]  valid Epoch:51, Train loss=0.4152, Valid loss=0.7316,Valid F1=0.6197,Valid ACC=0.6197\n",
      "07-18 14:19 [MainProcess, 24686] [INFO ]  Time used for each epoch training: 23.256601333618164 seconds.\n",
      "07-18 14:19 [MainProcess, 24686] [INFO ]  **************************************************\n"
     ]
    },
    {
     "name": "stderr",
     "output_type": "stream",
     "text": [
      "\n",
      "100%|███████████████████████████████████████████| 40/40 [00:18<00:00,  2.17it/s]"
     ]
    },
    {
     "name": "stdout",
     "output_type": "stream",
     "text": [
      "lr:  6.748290860741424e-06\n",
      "07-18 14:19 [MainProcess, 24686] [INFO ]  Iteration:52, train loss = 0.399302 ,train F1 = 0.825040 ,train ACC = 0.825040 \n"
     ]
    },
    {
     "name": "stderr",
     "output_type": "stream",
     "text": [
      "\n",
      "100%|███████████████████████████████████████████| 79/79 [00:04<00:00, 16.03it/s]"
     ]
    },
    {
     "name": "stdout",
     "output_type": "stream",
     "text": [
      "07-18 14:19 [MainProcess, 24686] [INFO ]  valid Epoch:52, Train loss=0.3993, Valid loss=0.7377,Valid F1=0.6387,Valid ACC=0.6387\n",
      "07-18 14:19 [MainProcess, 24686] [INFO ]  Time used for each epoch training: 23.407658576965332 seconds.\n",
      "07-18 14:19 [MainProcess, 24686] [INFO ]  **************************************************\n"
     ]
    },
    {
     "name": "stderr",
     "output_type": "stream",
     "text": [
      "\n",
      "100%|███████████████████████████████████████████| 40/40 [00:17<00:00,  2.30it/s]"
     ]
    },
    {
     "name": "stdout",
     "output_type": "stream",
     "text": [
      "lr:  6.140944683274696e-06\n",
      "07-18 14:20 [MainProcess, 24686] [INFO ]  Iteration:53, train loss = 0.402255 ,train F1 = 0.814771 ,train ACC = 0.814771 \n"
     ]
    },
    {
     "name": "stderr",
     "output_type": "stream",
     "text": [
      "\n",
      "100%|███████████████████████████████████████████| 79/79 [00:04<00:00, 16.30it/s]"
     ]
    },
    {
     "name": "stdout",
     "output_type": "stream",
     "text": [
      "07-18 14:20 [MainProcess, 24686] [INFO ]  valid Epoch:53, Train loss=0.4023, Valid loss=0.7106,Valid F1=0.6244,Valid ACC=0.6244\n",
      "07-18 14:20 [MainProcess, 24686] [INFO ]  Time used for each epoch training: 22.275360584259033 seconds.\n",
      "07-18 14:20 [MainProcess, 24686] [INFO ]  **************************************************\n"
     ]
    },
    {
     "name": "stderr",
     "output_type": "stream",
     "text": [
      "\n",
      "100%|███████████████████████████████████████████| 40/40 [00:17<00:00,  2.29it/s]"
     ]
    },
    {
     "name": "stdout",
     "output_type": "stream",
     "text": [
      "lr:  5.588259661779973e-06\n",
      "07-18 14:20 [MainProcess, 24686] [INFO ]  Iteration:54, train loss = 0.409584 ,train F1 = 0.810821 ,train ACC = 0.810821 \n"
     ]
    },
    {
     "name": "stderr",
     "output_type": "stream",
     "text": [
      "\n",
      "100%|███████████████████████████████████████████| 79/79 [00:04<00:00, 17.11it/s]"
     ]
    },
    {
     "name": "stdout",
     "output_type": "stream",
     "text": [
      "07-18 14:20 [MainProcess, 24686] [INFO ]  valid Epoch:54, Train loss=0.4096, Valid loss=0.7608,Valid F1=0.6149,Valid ACC=0.6149\n",
      "07-18 14:20 [MainProcess, 24686] [INFO ]  Time used for each epoch training: 22.067244291305542 seconds.\n",
      "07-18 14:20 [MainProcess, 24686] [INFO ]  **************************************************\n"
     ]
    },
    {
     "name": "stderr",
     "output_type": "stream",
     "text": [
      "\n",
      "100%|███████████████████████████████████████████| 40/40 [00:17<00:00,  2.26it/s]"
     ]
    },
    {
     "name": "stdout",
     "output_type": "stream",
     "text": [
      "lr:  5.085316292219776e-06\n",
      "07-18 14:20 [MainProcess, 24686] [INFO ]  Iteration:55, train loss = 0.399853 ,train F1 = 0.824645 ,train ACC = 0.824645 \n"
     ]
    },
    {
     "name": "stderr",
     "output_type": "stream",
     "text": [
      "\n",
      "100%|███████████████████████████████████████████| 79/79 [00:04<00:00, 17.39it/s]"
     ]
    },
    {
     "name": "stdout",
     "output_type": "stream",
     "text": [
      "07-18 14:20 [MainProcess, 24686] [INFO ]  valid Epoch:55, Train loss=0.3999, Valid loss=0.7475,Valid F1=0.6181,Valid ACC=0.6181\n",
      "07-18 14:20 [MainProcess, 24686] [INFO ]  Time used for each epoch training: 22.276644229888916 seconds.\n",
      "07-18 14:20 [MainProcess, 24686] [INFO ]  **************************************************\n"
     ]
    },
    {
     "name": "stderr",
     "output_type": "stream",
     "text": [
      "\n",
      "100%|███████████████████████████████████████████| 40/40 [00:17<00:00,  2.27it/s]"
     ]
    },
    {
     "name": "stdout",
     "output_type": "stream",
     "text": [
      "lr:  4.627637825919996e-06\n",
      "07-18 14:21 [MainProcess, 24686] [INFO ]  Iteration:56, train loss = 0.408265 ,train F1 = 0.808847 ,train ACC = 0.808847 \n"
     ]
    },
    {
     "name": "stderr",
     "output_type": "stream",
     "text": [
      "\n",
      "100%|███████████████████████████████████████████| 79/79 [00:05<00:00, 15.05it/s]"
     ]
    },
    {
     "name": "stdout",
     "output_type": "stream",
     "text": [
      "07-18 14:21 [MainProcess, 24686] [INFO ]  valid Epoch:56, Train loss=0.4083, Valid loss=0.7272,Valid F1=0.6244,Valid ACC=0.6244\n",
      "07-18 14:21 [MainProcess, 24686] [INFO ]  Time used for each epoch training: 22.91281819343567 seconds.\n",
      "07-18 14:21 [MainProcess, 24686] [INFO ]  **************************************************\n"
     ]
    },
    {
     "name": "stderr",
     "output_type": "stream",
     "text": [
      "\n",
      "100%|███████████████████████████████████████████| 40/40 [00:16<00:00,  2.35it/s]"
     ]
    },
    {
     "name": "stdout",
     "output_type": "stream",
     "text": [
      "lr:  4.211150421587196e-06\n",
      "07-18 14:21 [MainProcess, 24686] [INFO ]  Iteration:57, train loss = 0.404197 ,train F1 = 0.817141 ,train ACC = 0.817141 \n"
     ]
    },
    {
     "name": "stderr",
     "output_type": "stream",
     "text": [
      "\n",
      "100%|███████████████████████████████████████████| 79/79 [00:04<00:00, 17.07it/s]"
     ]
    },
    {
     "name": "stdout",
     "output_type": "stream",
     "text": [
      "07-18 14:21 [MainProcess, 24686] [INFO ]  valid Epoch:57, Train loss=0.4042, Valid loss=0.7258,Valid F1=0.6228,Valid ACC=0.6228\n",
      "07-18 14:21 [MainProcess, 24686] [INFO ]  Time used for each epoch training: 21.644911527633667 seconds.\n",
      "07-18 14:21 [MainProcess, 24686] [INFO ]  **************************************************\n"
     ]
    },
    {
     "name": "stderr",
     "output_type": "stream",
     "text": [
      "\n",
      "100%|███████████████████████████████████████████| 40/40 [00:17<00:00,  2.23it/s]"
     ]
    },
    {
     "name": "stdout",
     "output_type": "stream",
     "text": [
      "lr:  3.832146883644349e-06\n",
      "07-18 14:21 [MainProcess, 24686] [INFO ]  Iteration:58, train loss = 0.398057 ,train F1 = 0.821485 ,train ACC = 0.821485 \n"
     ]
    },
    {
     "name": "stderr",
     "output_type": "stream",
     "text": [
      "\n",
      "100%|███████████████████████████████████████████| 79/79 [00:04<00:00, 16.72it/s]"
     ]
    },
    {
     "name": "stdout",
     "output_type": "stream",
     "text": [
      "07-18 14:21 [MainProcess, 24686] [INFO ]  valid Epoch:58, Train loss=0.3981, Valid loss=0.7667,Valid F1=0.6276,Valid ACC=0.6276\n",
      "07-18 14:21 [MainProcess, 24686] [INFO ]  Time used for each epoch training: 22.684664487838745 seconds.\n",
      "07-18 14:21 [MainProcess, 24686] [INFO ]  **************************************************\n"
     ]
    },
    {
     "name": "stderr",
     "output_type": "stream",
     "text": [
      "\n",
      "100%|███████████████████████████████████████████| 40/40 [00:18<00:00,  2.19it/s]"
     ]
    },
    {
     "name": "stdout",
     "output_type": "stream",
     "text": [
      "lr:  3.487253664116358e-06\n",
      "07-18 14:22 [MainProcess, 24686] [INFO ]  Iteration:59, train loss = 0.412297 ,train F1 = 0.814771 ,train ACC = 0.814771 \n"
     ]
    },
    {
     "name": "stderr",
     "output_type": "stream",
     "text": [
      "\n",
      "100%|███████████████████████████████████████████| 79/79 [00:04<00:00, 17.87it/s]"
     ]
    },
    {
     "name": "stdout",
     "output_type": "stream",
     "text": [
      "07-18 14:22 [MainProcess, 24686] [INFO ]  valid Epoch:59, Train loss=0.4123, Valid loss=0.7546,Valid F1=0.6307,Valid ACC=0.6307\n",
      "07-18 14:22 [MainProcess, 24686] [INFO ]  Time used for each epoch training: 22.665322065353394 seconds.\n",
      "07-18 14:22 [MainProcess, 24686] [INFO ]  **************************************************\n"
     ]
    },
    {
     "name": "stderr",
     "output_type": "stream",
     "text": [
      "\n",
      "100%|███████████████████████████████████████████| 40/40 [00:17<00:00,  2.25it/s]"
     ]
    },
    {
     "name": "stdout",
     "output_type": "stream",
     "text": [
      "lr:  3.1734008343458857e-06\n",
      "07-18 14:22 [MainProcess, 24686] [INFO ]  Iteration:60, train loss = 0.412148 ,train F1 = 0.815561 ,train ACC = 0.815561 \n"
     ]
    },
    {
     "name": "stderr",
     "output_type": "stream",
     "text": [
      "\n",
      "100%|███████████████████████████████████████████| 79/79 [00:04<00:00, 17.36it/s]"
     ]
    },
    {
     "name": "stdout",
     "output_type": "stream",
     "text": [
      "07-18 14:22 [MainProcess, 24686] [INFO ]  valid Epoch:60, Train loss=0.4121, Valid loss=0.7376,Valid F1=0.6117,Valid ACC=0.6117\n",
      "07-18 14:22 [MainProcess, 24686] [INFO ]  Time used for each epoch training: 22.33999800682068 seconds.\n",
      "07-18 14:22 [MainProcess, 24686] [INFO ]  **************************************************\n"
     ]
    },
    {
     "name": "stderr",
     "output_type": "stream",
     "text": [
      "\n",
      "100%|███████████████████████████████████████████| 40/40 [00:17<00:00,  2.25it/s]"
     ]
    },
    {
     "name": "stdout",
     "output_type": "stream",
     "text": [
      "lr:  2.887794759254756e-06\n",
      "07-18 14:23 [MainProcess, 24686] [INFO ]  Iteration:61, train loss = 0.401616 ,train F1 = 0.817930 ,train ACC = 0.817930 \n"
     ]
    },
    {
     "name": "stderr",
     "output_type": "stream",
     "text": [
      "\n",
      "100%|███████████████████████████████████████████| 79/79 [00:04<00:00, 17.63it/s]"
     ]
    },
    {
     "name": "stdout",
     "output_type": "stream",
     "text": [
      "07-18 14:23 [MainProcess, 24686] [INFO ]  valid Epoch:61, Train loss=0.4016, Valid loss=0.7369,Valid F1=0.6355,Valid ACC=0.6355\n",
      "07-18 14:23 [MainProcess, 24686] [INFO ]  Time used for each epoch training: 22.311288833618164 seconds.\n",
      "07-18 14:23 [MainProcess, 24686] [INFO ]  **************************************************\n"
     ]
    },
    {
     "name": "stderr",
     "output_type": "stream",
     "text": [
      "\n",
      "100%|███████████████████████████████████████████| 40/40 [00:17<00:00,  2.26it/s]"
     ]
    },
    {
     "name": "stdout",
     "output_type": "stream",
     "text": [
      "lr:  2.627893230921828e-06\n",
      "07-18 14:23 [MainProcess, 24686] [INFO ]  Iteration:62, train loss = 0.404134 ,train F1 = 0.818720 ,train ACC = 0.818720 \n"
     ]
    },
    {
     "name": "stderr",
     "output_type": "stream",
     "text": [
      "\n",
      "100%|███████████████████████████████████████████| 79/79 [00:04<00:00, 16.89it/s]"
     ]
    },
    {
     "name": "stdout",
     "output_type": "stream",
     "text": [
      "07-18 14:23 [MainProcess, 24686] [INFO ]  valid Epoch:62, Train loss=0.4041, Valid loss=0.7454,Valid F1=0.5943,Valid ACC=0.5943\n",
      "07-18 14:23 [MainProcess, 24686] [INFO ]  Time used for each epoch training: 22.366676568984985 seconds.\n",
      "07-18 14:23 [MainProcess, 24686] [INFO ]  **************************************************\n"
     ]
    },
    {
     "name": "stderr",
     "output_type": "stream",
     "text": [
      "\n",
      "100%|███████████████████████████████████████████| 40/40 [00:17<00:00,  2.24it/s]"
     ]
    },
    {
     "name": "stdout",
     "output_type": "stream",
     "text": [
      "lr:  2.3913828401388635e-06\n",
      "07-18 14:23 [MainProcess, 24686] [INFO ]  Iteration:63, train loss = 0.397000 ,train F1 = 0.826224 ,train ACC = 0.826224 \n"
     ]
    },
    {
     "name": "stderr",
     "output_type": "stream",
     "text": [
      "\n",
      "100%|███████████████████████████████████████████| 79/79 [00:04<00:00, 17.08it/s]"
     ]
    },
    {
     "name": "stdout",
     "output_type": "stream",
     "text": [
      "07-18 14:23 [MainProcess, 24686] [INFO ]  valid Epoch:63, Train loss=0.3970, Valid loss=0.7258,Valid F1=0.6387,Valid ACC=0.6387\n",
      "07-18 14:23 [MainProcess, 24686] [INFO ]  Time used for each epoch training: 22.49862027168274 seconds.\n",
      "07-18 14:23 [MainProcess, 24686] [INFO ]  **************************************************\n"
     ]
    },
    {
     "name": "stderr",
     "output_type": "stream",
     "text": [
      "\n",
      "100%|███████████████████████████████████████████| 40/40 [00:17<00:00,  2.35it/s]"
     ]
    },
    {
     "name": "stdout",
     "output_type": "stream",
     "text": [
      "lr:  2.176158384526366e-06\n",
      "07-18 14:24 [MainProcess, 24686] [INFO ]  Iteration:64, train loss = 0.400360 ,train F1 = 0.820300 ,train ACC = 0.820300 \n"
     ]
    },
    {
     "name": "stderr",
     "output_type": "stream",
     "text": [
      "\n",
      "100%|███████████████████████████████████████████| 79/79 [00:05<00:00, 15.77it/s]"
     ]
    },
    {
     "name": "stdout",
     "output_type": "stream",
     "text": [
      "07-18 14:24 [MainProcess, 24686] [INFO ]  valid Epoch:64, Train loss=0.4004, Valid loss=0.7280,Valid F1=0.6133,Valid ACC=0.6133\n",
      "07-18 14:24 [MainProcess, 24686] [INFO ]  Time used for each epoch training: 22.028347492218018 seconds.\n",
      "07-18 14:24 [MainProcess, 24686] [INFO ]  **************************************************\n"
     ]
    },
    {
     "name": "stderr",
     "output_type": "stream",
     "text": [
      "\n",
      "100%|███████████████████████████████████████████| 40/40 [00:17<00:00,  2.24it/s]"
     ]
    },
    {
     "name": "stdout",
     "output_type": "stream",
     "text": [
      "lr:  1.980304129918993e-06\n",
      "07-18 14:24 [MainProcess, 24686] [INFO ]  Iteration:65, train loss = 0.396859 ,train F1 = 0.825434 ,train ACC = 0.825434 \n"
     ]
    },
    {
     "name": "stderr",
     "output_type": "stream",
     "text": [
      "\n",
      "100%|███████████████████████████████████████████| 79/79 [00:05<00:00, 15.67it/s]"
     ]
    },
    {
     "name": "stdout",
     "output_type": "stream",
     "text": [
      "07-18 14:24 [MainProcess, 24686] [INFO ]  valid Epoch:65, Train loss=0.3969, Valid loss=0.7557,Valid F1=0.6339,Valid ACC=0.6339\n",
      "07-18 14:24 [MainProcess, 24686] [INFO ]  Time used for each epoch training: 22.956713676452637 seconds.\n",
      "07-18 14:24 [MainProcess, 24686] [INFO ]  **************************************************\n"
     ]
    },
    {
     "name": "stderr",
     "output_type": "stream",
     "text": [
      "\n",
      "100%|███████████████████████████████████████████| 40/40 [00:18<00:00,  2.15it/s]"
     ]
    },
    {
     "name": "stdout",
     "output_type": "stream",
     "text": [
      "lr:  1.8020767582262836e-06\n",
      "07-18 14:24 [MainProcess, 24686] [INFO ]  Iteration:66, train loss = 0.403965 ,train F1 = 0.819905 ,train ACC = 0.819905 \n"
     ]
    },
    {
     "name": "stderr",
     "output_type": "stream",
     "text": [
      "\n",
      "100%|███████████████████████████████████████████| 79/79 [00:04<00:00, 16.21it/s]"
     ]
    },
    {
     "name": "stdout",
     "output_type": "stream",
     "text": [
      "07-18 14:24 [MainProcess, 24686] [INFO ]  valid Epoch:66, Train loss=0.4040, Valid loss=0.7353,Valid F1=0.6355,Valid ACC=0.6355\n",
      "07-18 14:24 [MainProcess, 24686] [INFO ]  Time used for each epoch training: 23.505903005599976 seconds.\n",
      "07-18 14:24 [MainProcess, 24686] [INFO ]  **************************************************\n"
     ]
    },
    {
     "name": "stderr",
     "output_type": "stream",
     "text": [
      "\n",
      "100%|███████████████████████████████████████████| 40/40 [00:17<00:00,  2.31it/s]"
     ]
    },
    {
     "name": "stdout",
     "output_type": "stream",
     "text": [
      "lr:  1.639889849985918e-06\n",
      "07-18 14:25 [MainProcess, 24686] [INFO ]  Iteration:67, train loss = 0.396692 ,train F1 = 0.821880 ,train ACC = 0.821880 \n"
     ]
    },
    {
     "name": "stderr",
     "output_type": "stream",
     "text": [
      "\n",
      "100%|███████████████████████████████████████████| 79/79 [00:05<00:00, 15.72it/s]"
     ]
    },
    {
     "name": "stdout",
     "output_type": "stream",
     "text": [
      "07-18 14:25 [MainProcess, 24686] [INFO ]  valid Epoch:67, Train loss=0.3967, Valid loss=0.7726,Valid F1=0.5832,Valid ACC=0.5832\n",
      "07-18 14:25 [MainProcess, 24686] [INFO ]  Time used for each epoch training: 22.325690031051636 seconds.\n",
      "07-18 14:25 [MainProcess, 24686] [INFO ]  **************************************************\n"
     ]
    },
    {
     "name": "stderr",
     "output_type": "stream",
     "text": [
      "\n",
      "100%|███████████████████████████████████████████| 40/40 [00:16<00:00,  2.41it/s]"
     ]
    },
    {
     "name": "stdout",
     "output_type": "stream",
     "text": [
      "lr:  1.4922997634871856e-06\n",
      "07-18 14:25 [MainProcess, 24686] [INFO ]  Iteration:68, train loss = 0.407526 ,train F1 = 0.820300 ,train ACC = 0.820300 \n"
     ]
    },
    {
     "name": "stderr",
     "output_type": "stream",
     "text": [
      "\n",
      "100%|███████████████████████████████████████████| 79/79 [00:05<00:00, 14.76it/s]"
     ]
    },
    {
     "name": "stdout",
     "output_type": "stream",
     "text": [
      "07-18 14:25 [MainProcess, 24686] [INFO ]  valid Epoch:68, Train loss=0.4075, Valid loss=0.7482,Valid F1=0.6244,Valid ACC=0.6244\n",
      "07-18 14:25 [MainProcess, 24686] [INFO ]  Time used for each epoch training: 21.99181842803955 seconds.\n",
      "07-18 14:25 [MainProcess, 24686] [INFO ]  **************************************************\n"
     ]
    },
    {
     "name": "stderr",
     "output_type": "stream",
     "text": [
      "\n",
      "100%|███████████████████████████████████████████| 40/40 [00:17<00:00,  2.35it/s]"
     ]
    },
    {
     "name": "stdout",
     "output_type": "stream",
     "text": [
      "lr:  1.357992784773339e-06\n",
      "07-18 14:26 [MainProcess, 24686] [INFO ]  Iteration:69, train loss = 0.405564 ,train F1 = 0.815166 ,train ACC = 0.815166 \n"
     ]
    },
    {
     "name": "stderr",
     "output_type": "stream",
     "text": [
      "\n",
      "100%|███████████████████████████████████████████| 79/79 [00:04<00:00, 16.20it/s]"
     ]
    },
    {
     "name": "stdout",
     "output_type": "stream",
     "text": [
      "07-18 14:26 [MainProcess, 24686] [INFO ]  valid Epoch:69, Train loss=0.4056, Valid loss=0.8049,Valid F1=0.6101,Valid ACC=0.6101\n",
      "07-18 14:26 [MainProcess, 24686] [INFO ]  Time used for each epoch training: 21.90232753753662 seconds.\n",
      "07-18 14:26 [MainProcess, 24686] [INFO ]  **************************************************\n"
     ]
    },
    {
     "name": "stderr",
     "output_type": "stream",
     "text": [
      "\n"
     ]
    }
   ],
   "source": [
    "all_file_train = len(trainset)\n",
    "dataloader_train_len = len(dataloader_train)\n",
    "output_preds_labels_train = torch.empty((all_file_train,))\n",
    "output_preds_probs_train = torch.empty((all_file_train,2))\n",
    "output_gt_labels_train = torch.empty((all_file_train,))\n",
    "for iter_ in range(args.end_iter):\n",
    "    start_time = time.time()\n",
    "    running_loss = 0.0\n",
    "    running_f1 = 0.0\n",
    "    running_acc = 0.0\n",
    "    idx = 0\n",
    "    cnn.train()\n",
    "    for log_mel_feature, current_age_group, sex_feature, height_weight, preg_feature, loc_feature, current_murmur, current_outcome in tqdm.tqdm(dataloader_train):\n",
    "        log_mel_feature = log_mel_feature.cuda()\n",
    "        current_age_group = current_age_group.cuda()\n",
    "        sex_feature = sex_feature.cuda()\n",
    "        height_weight = height_weight.cuda()\n",
    "        preg_feature = preg_feature.cuda()\n",
    "        loc_feature = loc_feature.cuda()\n",
    "        current_murmur = current_murmur.cuda()\n",
    "        current_outcome = current_outcome.cuda()\n",
    "        \n",
    "        \n",
    "        \n",
    "        \n",
    "        output_train = cnn(log_mel_feature,current_age_group,sex_feature,height_weight, preg_feature,loc_feature)\n",
    "        loss = criterion(output_train, current_outcome)\n",
    "        \n",
    "        \n",
    "        \n",
    "        output_probs_train = F.log_softmax(output_train, dim=1)\n",
    "        \n",
    "        _, output_label_argmax = torch.max(output_probs_train, dim=1)\n",
    "        \n",
    "        \n",
    "        output_label_argmax = output_label_argmax.data.detach().cpu()\n",
    "\n",
    "        output_preds_labels_train[idx*args.minibatchsize_train:(idx+1)*args.minibatchsize_train]= output_label_argmax  #murmur 예측 레이블 (0,1,2)\n",
    "        \n",
    "        output_preds_probs_train[idx*args.minibatchsize_train:(idx+1)*args.minibatchsize_train,:] = output_probs_train\n",
    "        \n",
    "        _, outcome_label_argmax = torch.max(current_outcome.data, dim=1)  #murmur groud truth (0,1,2)\n",
    "        \n",
    "        output_gt_labels_train[idx*args.minibatchsize_train:(idx+1)*args.minibatchsize_train] = outcome_label_argmax.data.detach().cpu()\n",
    "        \n",
    "\n",
    "\n",
    "        idx +=1              \n",
    "\n",
    "        opt.zero_grad()\n",
    "        loss.backward()\n",
    "        opt.step()\n",
    "\n",
    "        running_loss += loss.item()\n",
    "\n",
    "    train_f1 = f1(preds = torch.tensor(output_preds_labels_train, dtype=torch.int32), target = torch.tensor(output_gt_labels_train, dtype=torch.int32))\n",
    "    train_acc = accuracy(preds = torch.tensor(output_preds_labels_train, dtype=torch.int32), target = torch.tensor(output_gt_labels_train, dtype=torch.int32))\n",
    "\n",
    "        \n",
    "    scheduler.step()\n",
    "    print(\"lr: \", opt.param_groups[0]['lr'])\n",
    "    logger.info(\"Iteration:{0}, train loss = {1:.6f} ,train F1 = {2:.6f} ,train ACC = {3:.6f} \".format(iter_, \n",
    "                 running_loss/dataloader_train_len,train_f1,train_acc))\n",
    "        \n",
    "    # eval\n",
    "    all_file_valid = len(validset)\n",
    "    dataloader_valid_len = len(dataloader_valid)\n",
    "    cnn.eval()\n",
    "\n",
    "    with torch.no_grad():\n",
    "        running_loss_dev = 0.0\n",
    "        running_f1_dev = 0.0\n",
    "        running_acc_dev = 0.0\n",
    "        index = 0\n",
    "        output_preds_labels_dev = torch.empty((all_file_valid,))\n",
    "        output_preds_probs_dev = torch.empty((all_file_valid,2))\n",
    "        output_gt_labels_dev= torch.empty((all_file_valid,))\n",
    "        for log_mel_feature, current_age_group, sex_feature, height_weight, preg_feature, loc_feature, current_murmur, current_outcome in tqdm.tqdm(dataloader_valid):\n",
    "            log_mel_feature_dev = log_mel_feature.cuda()\n",
    "            current_age_group_dev = current_age_group.cuda()\n",
    "            sex_feature_dev = sex_feature.cuda()\n",
    "            height_weight_dev = height_weight.cuda()\n",
    "            preg_feature_dev = preg_feature.cuda()\n",
    "            loc_feature_dev = loc_feature.cuda()\n",
    "            current_murmur_dev = current_murmur.cuda()\n",
    "            current_outcome_dev = current_outcome.cuda()\n",
    "\n",
    "\n",
    "            output_dev = cnn(log_mel_feature_dev,current_age_group_dev,sex_feature_dev,height_weight_dev,preg_feature_dev,loc_feature_dev)\n",
    "            loss_dev = criterion(output_dev, current_outcome_dev)                   \n",
    "            running_loss_dev += loss_dev.item()\n",
    "            \n",
    "            \n",
    "            \n",
    "            \n",
    "            output_probs_dev = F.log_softmax(output_dev, dim=1)\n",
    "            \n",
    "            _, output_label_argmax_dev = torch.max(output_probs_dev, dim=1)\n",
    "            \n",
    "            \n",
    "            output_label_argmax_dev = output_label_argmax_dev.data.detach().cpu()\n",
    "\n",
    "            output_preds_labels_dev[index*args.minibatchsize_valid:(index+1)*args.minibatchsize_valid]= output_label_argmax_dev  #outcome 예측 레이블 (0,1,2)\n",
    "            \n",
    "            output_preds_probs_dev[index*args.minibatchsize_valid:(index+1)*args.minibatchsize_valid,:] = output_probs_dev\n",
    "            \n",
    "            _, outcome_label_argmax_dev = torch.max(current_outcome_dev.data, dim=1)  #outcome groud truth (0,1,2)\n",
    "            \n",
    "            output_gt_labels_dev[index*args.minibatchsize_valid:(index+1)*args.minibatchsize_valid] = outcome_label_argmax_dev\n",
    "\n",
    "            index = index+1           \n",
    "\n",
    "        \n",
    "        dev_f1 = f1(preds = torch.tensor(output_preds_labels_dev, dtype=torch.int32), target = torch.tensor(output_gt_labels_dev, dtype=torch.int32))\n",
    "        dev_acc = accuracy(preds = torch.tensor(output_preds_labels_dev, dtype=torch.int32),target =  torch.tensor(output_gt_labels_dev, dtype=torch.int32))\n",
    "            \n",
    "            \n",
    "\n",
    "\n",
    "            \n",
    "\n",
    "    logger.info(\"valid Epoch:%d, Train loss=%.4f, Valid loss=%.4f,Valid F1=%.4f,Valid ACC=%.4f\" %( iter_,\n",
    "            running_loss/dataloader_train_len, running_loss_dev/dataloader_valid_len, dev_f1, dev_acc))\n",
    "    score_file.write(\"%d epoch, VALID LOSS %f, VALID F1 %2.2f%% VALID ACC %2.2f%%\\n\"%(iter_, \n",
    "                            running_loss_dev/dataloader_valid_len, dev_f1, dev_acc))\n",
    "    score_file.flush()\n",
    "    \n",
    "    torch.save(cnn.state_dict(), os.path.join(model_path, \"{}_{}.model\".format(args.model_name, iter_)))\n",
    "    \n",
    "    end_time = time.time()\n",
    "    logger.info(\"Time used for each epoch training: {} seconds.\".format(end_time - start_time))\n",
    "    logger.info(\"*\" * 50)"
   ]
  },
  {
   "cell_type": "code",
   "execution_count": 1,
   "id": "a869bee7",
   "metadata": {},
   "outputs": [
    {
     "ename": "NameError",
     "evalue": "name 'load_patient_data' is not defined",
     "output_type": "error",
     "traceback": [
      "\u001b[0;31m---------------------------------------------------------------------------\u001b[0m",
      "\u001b[0;31mNameError\u001b[0m                                 Traceback (most recent call last)",
      "\u001b[0;32m/tmp/ipykernel_9521/3773144949.py\u001b[0m in \u001b[0;36m<module>\u001b[0;34m\u001b[0m\n\u001b[0;32m----> 1\u001b[0;31m \u001b[0mpatient_data\u001b[0m \u001b[0;34m=\u001b[0m \u001b[0mload_patient_data\u001b[0m\u001b[0;34m(\u001b[0m\u001b[0mpatient_files\u001b[0m\u001b[0;34m[\u001b[0m\u001b[0;36m1\u001b[0m\u001b[0;34m]\u001b[0m\u001b[0;34m)\u001b[0m\u001b[0;34m\u001b[0m\u001b[0;34m\u001b[0m\u001b[0m\n\u001b[0m\u001b[1;32m      2\u001b[0m \u001b[0mrecordings\u001b[0m \u001b[0;34m=\u001b[0m \u001b[0mload_recordings\u001b[0m\u001b[0;34m(\u001b[0m\u001b[0margs\u001b[0m\u001b[0;34m.\u001b[0m\u001b[0mtrain_data_folder\u001b[0m\u001b[0;34m,\u001b[0m \u001b[0mpatient_data\u001b[0m\u001b[0;34m)\u001b[0m\u001b[0;34m\u001b[0m\u001b[0;34m\u001b[0m\u001b[0m\n",
      "\u001b[0;31mNameError\u001b[0m: name 'load_patient_data' is not defined"
     ]
    }
   ],
   "source": [
    "patient_data = load_patient_data(patient_files[1])\n",
    "recordings = load_recordings(args.train_data_folder, patient_data)"
   ]
  },
  {
   "cell_type": "code",
   "execution_count": null,
   "id": "651f2586",
   "metadata": {},
   "outputs": [],
   "source": []
  }
 ],
 "metadata": {
  "kernelspec": {
   "display_name": "Python 3 (ipykernel)",
   "language": "python",
   "name": "python3"
  },
  "language_info": {
   "codemirror_mode": {
    "name": "ipython",
    "version": 3
   },
   "file_extension": ".py",
   "mimetype": "text/x-python",
   "name": "python",
   "nbconvert_exporter": "python",
   "pygments_lexer": "ipython3",
   "version": "3.7.6"
  }
 },
 "nbformat": 4,
 "nbformat_minor": 5
}
