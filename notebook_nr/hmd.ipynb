{
 "cells": [
  {
   "cell_type": "code",
   "execution_count": 18,
   "metadata": {},
   "outputs": [],
   "source": [
    "import sys\n",
    "sys.path.append(\"/home/jh20/narin/physionet/python-classifier-2022\")\n",
    "from helper_code import *\n",
    "import numpy as np, scipy as sp, scipy.stats, os, joblib\n",
    "import glob\n",
    "import pandas as pd\n",
    "import librosa"
   ]
  },
  {
   "cell_type": "code",
   "execution_count": 7,
   "metadata": {},
   "outputs": [],
   "source": [
    "train_csv = pd.read_csv('/home/jh20/Data/nr_data/ECG/Physionet2022/physionet.org/files/circor-heart-sound/1.0.3/training_data.csv')"
   ]
  },
  {
   "cell_type": "code",
   "execution_count": 8,
   "metadata": {},
   "outputs": [
    {
     "data": {
      "text/html": [
       "<div>\n",
       "<style scoped>\n",
       "    .dataframe tbody tr th:only-of-type {\n",
       "        vertical-align: middle;\n",
       "    }\n",
       "\n",
       "    .dataframe tbody tr th {\n",
       "        vertical-align: top;\n",
       "    }\n",
       "\n",
       "    .dataframe thead th {\n",
       "        text-align: right;\n",
       "    }\n",
       "</style>\n",
       "<table border=\"1\" class=\"dataframe\">\n",
       "  <thead>\n",
       "    <tr style=\"text-align: right;\">\n",
       "      <th></th>\n",
       "      <th>Patient ID</th>\n",
       "      <th>Recording locations:</th>\n",
       "      <th>Age</th>\n",
       "      <th>Sex</th>\n",
       "      <th>Height</th>\n",
       "      <th>Weight</th>\n",
       "      <th>Pregnancy status</th>\n",
       "      <th>Murmur</th>\n",
       "      <th>Murmur locations</th>\n",
       "      <th>Most audible location</th>\n",
       "      <th>...</th>\n",
       "      <th>Systolic murmur pitch</th>\n",
       "      <th>Systolic murmur quality</th>\n",
       "      <th>Diastolic murmur timing</th>\n",
       "      <th>Diastolic murmur shape</th>\n",
       "      <th>Diastolic murmur grading</th>\n",
       "      <th>Diastolic murmur pitch</th>\n",
       "      <th>Diastolic murmur quality</th>\n",
       "      <th>Outcome</th>\n",
       "      <th>Campaign</th>\n",
       "      <th>Additional ID</th>\n",
       "    </tr>\n",
       "  </thead>\n",
       "  <tbody>\n",
       "    <tr>\n",
       "      <th>0</th>\n",
       "      <td>2530</td>\n",
       "      <td>AV+PV+TV+MV</td>\n",
       "      <td>Child</td>\n",
       "      <td>Female</td>\n",
       "      <td>98.0</td>\n",
       "      <td>15.9</td>\n",
       "      <td>False</td>\n",
       "      <td>Absent</td>\n",
       "      <td>NaN</td>\n",
       "      <td>NaN</td>\n",
       "      <td>...</td>\n",
       "      <td>NaN</td>\n",
       "      <td>NaN</td>\n",
       "      <td>NaN</td>\n",
       "      <td>NaN</td>\n",
       "      <td>NaN</td>\n",
       "      <td>NaN</td>\n",
       "      <td>NaN</td>\n",
       "      <td>Abnormal</td>\n",
       "      <td>CC2015</td>\n",
       "      <td>NaN</td>\n",
       "    </tr>\n",
       "    <tr>\n",
       "      <th>1</th>\n",
       "      <td>9979</td>\n",
       "      <td>AV+PV+TV+MV</td>\n",
       "      <td>Child</td>\n",
       "      <td>Female</td>\n",
       "      <td>103.0</td>\n",
       "      <td>13.1</td>\n",
       "      <td>False</td>\n",
       "      <td>Present</td>\n",
       "      <td>AV+MV+PV+TV</td>\n",
       "      <td>TV</td>\n",
       "      <td>...</td>\n",
       "      <td>High</td>\n",
       "      <td>Harsh</td>\n",
       "      <td>NaN</td>\n",
       "      <td>NaN</td>\n",
       "      <td>NaN</td>\n",
       "      <td>NaN</td>\n",
       "      <td>NaN</td>\n",
       "      <td>Abnormal</td>\n",
       "      <td>CC2015</td>\n",
       "      <td>NaN</td>\n",
       "    </tr>\n",
       "    <tr>\n",
       "      <th>2</th>\n",
       "      <td>9983</td>\n",
       "      <td>AV+PV+TV+MV</td>\n",
       "      <td>Child</td>\n",
       "      <td>Male</td>\n",
       "      <td>115.0</td>\n",
       "      <td>19.1</td>\n",
       "      <td>False</td>\n",
       "      <td>Unknown</td>\n",
       "      <td>NaN</td>\n",
       "      <td>NaN</td>\n",
       "      <td>...</td>\n",
       "      <td>NaN</td>\n",
       "      <td>NaN</td>\n",
       "      <td>NaN</td>\n",
       "      <td>NaN</td>\n",
       "      <td>NaN</td>\n",
       "      <td>NaN</td>\n",
       "      <td>NaN</td>\n",
       "      <td>Abnormal</td>\n",
       "      <td>CC2015</td>\n",
       "      <td>NaN</td>\n",
       "    </tr>\n",
       "    <tr>\n",
       "      <th>3</th>\n",
       "      <td>13918</td>\n",
       "      <td>AV+PV+TV+MV</td>\n",
       "      <td>Child</td>\n",
       "      <td>Male</td>\n",
       "      <td>98.0</td>\n",
       "      <td>15.9</td>\n",
       "      <td>False</td>\n",
       "      <td>Present</td>\n",
       "      <td>TV</td>\n",
       "      <td>TV</td>\n",
       "      <td>...</td>\n",
       "      <td>Low</td>\n",
       "      <td>Blowing</td>\n",
       "      <td>NaN</td>\n",
       "      <td>NaN</td>\n",
       "      <td>NaN</td>\n",
       "      <td>NaN</td>\n",
       "      <td>NaN</td>\n",
       "      <td>Abnormal</td>\n",
       "      <td>CC2015</td>\n",
       "      <td>NaN</td>\n",
       "    </tr>\n",
       "    <tr>\n",
       "      <th>4</th>\n",
       "      <td>14241</td>\n",
       "      <td>AV+PV+TV+MV</td>\n",
       "      <td>Child</td>\n",
       "      <td>Male</td>\n",
       "      <td>87.0</td>\n",
       "      <td>11.2</td>\n",
       "      <td>False</td>\n",
       "      <td>Present</td>\n",
       "      <td>AV+MV+PV+TV</td>\n",
       "      <td>PV</td>\n",
       "      <td>...</td>\n",
       "      <td>Low</td>\n",
       "      <td>Harsh</td>\n",
       "      <td>NaN</td>\n",
       "      <td>NaN</td>\n",
       "      <td>NaN</td>\n",
       "      <td>NaN</td>\n",
       "      <td>NaN</td>\n",
       "      <td>Abnormal</td>\n",
       "      <td>CC2015</td>\n",
       "      <td>NaN</td>\n",
       "    </tr>\n",
       "    <tr>\n",
       "      <th>...</th>\n",
       "      <td>...</td>\n",
       "      <td>...</td>\n",
       "      <td>...</td>\n",
       "      <td>...</td>\n",
       "      <td>...</td>\n",
       "      <td>...</td>\n",
       "      <td>...</td>\n",
       "      <td>...</td>\n",
       "      <td>...</td>\n",
       "      <td>...</td>\n",
       "      <td>...</td>\n",
       "      <td>...</td>\n",
       "      <td>...</td>\n",
       "      <td>...</td>\n",
       "      <td>...</td>\n",
       "      <td>...</td>\n",
       "      <td>...</td>\n",
       "      <td>...</td>\n",
       "      <td>...</td>\n",
       "      <td>...</td>\n",
       "      <td>...</td>\n",
       "    </tr>\n",
       "    <tr>\n",
       "      <th>937</th>\n",
       "      <td>85340</td>\n",
       "      <td>AV+PV+TV+MV</td>\n",
       "      <td>Child</td>\n",
       "      <td>Male</td>\n",
       "      <td>105.0</td>\n",
       "      <td>16.6</td>\n",
       "      <td>False</td>\n",
       "      <td>Absent</td>\n",
       "      <td>NaN</td>\n",
       "      <td>NaN</td>\n",
       "      <td>...</td>\n",
       "      <td>NaN</td>\n",
       "      <td>NaN</td>\n",
       "      <td>NaN</td>\n",
       "      <td>NaN</td>\n",
       "      <td>NaN</td>\n",
       "      <td>NaN</td>\n",
       "      <td>NaN</td>\n",
       "      <td>Normal</td>\n",
       "      <td>CC2015</td>\n",
       "      <td>NaN</td>\n",
       "    </tr>\n",
       "    <tr>\n",
       "      <th>938</th>\n",
       "      <td>85341</td>\n",
       "      <td>AV+PV+TV+MV</td>\n",
       "      <td>Child</td>\n",
       "      <td>Male</td>\n",
       "      <td>92.0</td>\n",
       "      <td>15.2</td>\n",
       "      <td>False</td>\n",
       "      <td>Absent</td>\n",
       "      <td>NaN</td>\n",
       "      <td>NaN</td>\n",
       "      <td>...</td>\n",
       "      <td>NaN</td>\n",
       "      <td>NaN</td>\n",
       "      <td>NaN</td>\n",
       "      <td>NaN</td>\n",
       "      <td>NaN</td>\n",
       "      <td>NaN</td>\n",
       "      <td>NaN</td>\n",
       "      <td>Normal</td>\n",
       "      <td>CC2015</td>\n",
       "      <td>NaN</td>\n",
       "    </tr>\n",
       "    <tr>\n",
       "      <th>939</th>\n",
       "      <td>85343</td>\n",
       "      <td>AV+PV+TV+MV</td>\n",
       "      <td>Child</td>\n",
       "      <td>Female</td>\n",
       "      <td>97.0</td>\n",
       "      <td>13.5</td>\n",
       "      <td>False</td>\n",
       "      <td>Present</td>\n",
       "      <td>MV+TV</td>\n",
       "      <td>TV</td>\n",
       "      <td>...</td>\n",
       "      <td>Low</td>\n",
       "      <td>Blowing</td>\n",
       "      <td>NaN</td>\n",
       "      <td>NaN</td>\n",
       "      <td>NaN</td>\n",
       "      <td>NaN</td>\n",
       "      <td>NaN</td>\n",
       "      <td>Abnormal</td>\n",
       "      <td>CC2015</td>\n",
       "      <td>NaN</td>\n",
       "    </tr>\n",
       "    <tr>\n",
       "      <th>940</th>\n",
       "      <td>85345</td>\n",
       "      <td>AV+PV</td>\n",
       "      <td>Child</td>\n",
       "      <td>Female</td>\n",
       "      <td>132.0</td>\n",
       "      <td>38.1</td>\n",
       "      <td>False</td>\n",
       "      <td>Absent</td>\n",
       "      <td>NaN</td>\n",
       "      <td>NaN</td>\n",
       "      <td>...</td>\n",
       "      <td>NaN</td>\n",
       "      <td>NaN</td>\n",
       "      <td>NaN</td>\n",
       "      <td>NaN</td>\n",
       "      <td>NaN</td>\n",
       "      <td>NaN</td>\n",
       "      <td>NaN</td>\n",
       "      <td>Normal</td>\n",
       "      <td>CC2015</td>\n",
       "      <td>NaN</td>\n",
       "    </tr>\n",
       "    <tr>\n",
       "      <th>941</th>\n",
       "      <td>85349</td>\n",
       "      <td>AV+PV+TV</td>\n",
       "      <td>NaN</td>\n",
       "      <td>Female</td>\n",
       "      <td>NaN</td>\n",
       "      <td>NaN</td>\n",
       "      <td>True</td>\n",
       "      <td>Absent</td>\n",
       "      <td>NaN</td>\n",
       "      <td>NaN</td>\n",
       "      <td>...</td>\n",
       "      <td>NaN</td>\n",
       "      <td>NaN</td>\n",
       "      <td>NaN</td>\n",
       "      <td>NaN</td>\n",
       "      <td>NaN</td>\n",
       "      <td>NaN</td>\n",
       "      <td>NaN</td>\n",
       "      <td>Normal</td>\n",
       "      <td>CC2015</td>\n",
       "      <td>NaN</td>\n",
       "    </tr>\n",
       "  </tbody>\n",
       "</table>\n",
       "<p>942 rows × 23 columns</p>\n",
       "</div>"
      ],
      "text/plain": [
       "     Patient ID Recording locations:    Age     Sex  Height  Weight  \\\n",
       "0          2530          AV+PV+TV+MV  Child  Female    98.0    15.9   \n",
       "1          9979          AV+PV+TV+MV  Child  Female   103.0    13.1   \n",
       "2          9983          AV+PV+TV+MV  Child    Male   115.0    19.1   \n",
       "3         13918          AV+PV+TV+MV  Child    Male    98.0    15.9   \n",
       "4         14241          AV+PV+TV+MV  Child    Male    87.0    11.2   \n",
       "..          ...                  ...    ...     ...     ...     ...   \n",
       "937       85340          AV+PV+TV+MV  Child    Male   105.0    16.6   \n",
       "938       85341          AV+PV+TV+MV  Child    Male    92.0    15.2   \n",
       "939       85343          AV+PV+TV+MV  Child  Female    97.0    13.5   \n",
       "940       85345                AV+PV  Child  Female   132.0    38.1   \n",
       "941       85349             AV+PV+TV    NaN  Female     NaN     NaN   \n",
       "\n",
       "     Pregnancy status   Murmur Murmur locations Most audible location  ...  \\\n",
       "0               False   Absent              NaN                   NaN  ...   \n",
       "1               False  Present      AV+MV+PV+TV                    TV  ...   \n",
       "2               False  Unknown              NaN                   NaN  ...   \n",
       "3               False  Present               TV                    TV  ...   \n",
       "4               False  Present      AV+MV+PV+TV                    PV  ...   \n",
       "..                ...      ...              ...                   ...  ...   \n",
       "937             False   Absent              NaN                   NaN  ...   \n",
       "938             False   Absent              NaN                   NaN  ...   \n",
       "939             False  Present            MV+TV                    TV  ...   \n",
       "940             False   Absent              NaN                   NaN  ...   \n",
       "941              True   Absent              NaN                   NaN  ...   \n",
       "\n",
       "    Systolic murmur pitch Systolic murmur quality Diastolic murmur timing  \\\n",
       "0                     NaN                     NaN                     NaN   \n",
       "1                    High                   Harsh                     NaN   \n",
       "2                     NaN                     NaN                     NaN   \n",
       "3                     Low                 Blowing                     NaN   \n",
       "4                     Low                   Harsh                     NaN   \n",
       "..                    ...                     ...                     ...   \n",
       "937                   NaN                     NaN                     NaN   \n",
       "938                   NaN                     NaN                     NaN   \n",
       "939                   Low                 Blowing                     NaN   \n",
       "940                   NaN                     NaN                     NaN   \n",
       "941                   NaN                     NaN                     NaN   \n",
       "\n",
       "    Diastolic murmur shape Diastolic murmur grading Diastolic murmur pitch  \\\n",
       "0                      NaN                      NaN                    NaN   \n",
       "1                      NaN                      NaN                    NaN   \n",
       "2                      NaN                      NaN                    NaN   \n",
       "3                      NaN                      NaN                    NaN   \n",
       "4                      NaN                      NaN                    NaN   \n",
       "..                     ...                      ...                    ...   \n",
       "937                    NaN                      NaN                    NaN   \n",
       "938                    NaN                      NaN                    NaN   \n",
       "939                    NaN                      NaN                    NaN   \n",
       "940                    NaN                      NaN                    NaN   \n",
       "941                    NaN                      NaN                    NaN   \n",
       "\n",
       "    Diastolic murmur quality   Outcome Campaign Additional ID  \n",
       "0                        NaN  Abnormal   CC2015           NaN  \n",
       "1                        NaN  Abnormal   CC2015           NaN  \n",
       "2                        NaN  Abnormal   CC2015           NaN  \n",
       "3                        NaN  Abnormal   CC2015           NaN  \n",
       "4                        NaN  Abnormal   CC2015           NaN  \n",
       "..                       ...       ...      ...           ...  \n",
       "937                      NaN    Normal   CC2015           NaN  \n",
       "938                      NaN    Normal   CC2015           NaN  \n",
       "939                      NaN  Abnormal   CC2015           NaN  \n",
       "940                      NaN    Normal   CC2015           NaN  \n",
       "941                      NaN    Normal   CC2015           NaN  \n",
       "\n",
       "[942 rows x 23 columns]"
      ]
     },
     "execution_count": 8,
     "metadata": {},
     "output_type": "execute_result"
    }
   ],
   "source": [
    "train_csv"
   ]
  },
  {
   "cell_type": "code",
   "execution_count": 9,
   "metadata": {},
   "outputs": [],
   "source": [
    "all_wav_file = glob.glob(data_folder + '*.wav')"
   ]
  },
  {
   "cell_type": "code",
   "execution_count": 10,
   "metadata": {},
   "outputs": [
    {
     "data": {
      "text/plain": [
       "2532"
      ]
     },
     "execution_count": 10,
     "metadata": {},
     "output_type": "execute_result"
    }
   ],
   "source": [
    "len(all_wav_file)"
   ]
  },
  {
   "cell_type": "code",
   "execution_count": 11,
   "metadata": {},
   "outputs": [
    {
     "data": {
      "text/plain": [
       "['/home/jh20/anaconda3/lib/python3.7/site-packages/ipykernel_launcher.py',\n",
       " '-f',\n",
       " '/home/jh20/.local/share/jupyter/runtime/kernel-2576eb8c-41e1-4dd2-9249-4a9736e9020e.json']"
      ]
     },
     "execution_count": 11,
     "metadata": {},
     "output_type": "execute_result"
    }
   ],
   "source": [
    "sys.argv"
   ]
  },
  {
   "cell_type": "code",
   "execution_count": 12,
   "metadata": {},
   "outputs": [],
   "source": [
    "data_folder = '/home/jh20/Data/nr_data/ECG/Physionet2022/physionet.org/files/circor-heart-sound/1.0.3/train/'\n",
    "model_folder = '/home/jh20/narin/physionet/python-classifier-2022/model'"
   ]
  },
  {
   "cell_type": "code",
   "execution_count": 13,
   "metadata": {},
   "outputs": [],
   "source": [
    "patient_files = find_patient_files(data_folder)\n",
    "num_patient_files = len(patient_files)"
   ]
  },
  {
   "cell_type": "code",
   "execution_count": 14,
   "metadata": {},
   "outputs": [],
   "source": [
    "murmur_classes = ['Present', 'Unknown', 'Absent']\n",
    "num_murmur_classes = len(murmur_classes)\n",
    "outcome_classes = ['Abnormal', 'Normal']\n",
    "num_outcome_classes = len(outcome_classes)"
   ]
  },
  {
   "cell_type": "code",
   "execution_count": 18,
   "metadata": {},
   "outputs": [],
   "source": [
    "os.makedirs(model_folder, exist_ok=True)"
   ]
  },
  {
   "cell_type": "code",
   "execution_count": 19,
   "metadata": {},
   "outputs": [],
   "source": [
    "features = list()\n",
    "murmurs = list()\n",
    "outcomes = list()"
   ]
  },
  {
   "cell_type": "code",
   "execution_count": 15,
   "metadata": {},
   "outputs": [],
   "source": [
    "current_patient_data = load_patient_data(patient_files[0])\n",
    "current_recordings = load_recordings(data_folder, current_patient_data)"
   ]
  },
  {
   "cell_type": "code",
   "execution_count": 16,
   "metadata": {},
   "outputs": [],
   "source": [
    "with open(patient_files[0], 'r') as f:\n",
    "    data = f.readlines()"
   ]
  },
  {
   "cell_type": "code",
   "execution_count": 17,
   "metadata": {},
   "outputs": [
    {
     "data": {
      "text/plain": [
       "['2530 4 4000\\n',\n",
       " 'AV 2530_AV.hea 2530_AV.wav 2530_AV.tsv\\n',\n",
       " 'PV 2530_PV.hea 2530_PV.wav 2530_PV.tsv\\n',\n",
       " 'TV 2530_TV.hea 2530_TV.wav 2530_TV.tsv\\n',\n",
       " 'MV 2530_MV.hea 2530_MV.wav 2530_MV.tsv\\n',\n",
       " '#Age: Child\\n',\n",
       " '#Sex: Female\\n',\n",
       " '#Height: 98.0\\n',\n",
       " '#Weight: 15.9\\n',\n",
       " '#Pregnancy status: False\\n',\n",
       " '#Murmur: Absent\\n',\n",
       " '#Murmur locations: nan\\n',\n",
       " '#Most audible location: nan\\n',\n",
       " '#Systolic murmur timing: nan\\n',\n",
       " '#Systolic murmur shape: nan\\n',\n",
       " '#Systolic murmur grading: nan\\n',\n",
       " '#Systolic murmur pitch: nan\\n',\n",
       " '#Systolic murmur quality: nan\\n',\n",
       " '#Diastolic murmur timing: nan\\n',\n",
       " '#Diastolic murmur shape: nan\\n',\n",
       " '#Diastolic murmur grading: nan\\n',\n",
       " '#Diastolic murmur pitch: nan\\n',\n",
       " '#Diastolic murmur quality: nan\\n',\n",
       " '#Outcome: Abnormal\\n',\n",
       " '#Campaign: CC2015\\n',\n",
       " '#Additional ID: nan\\n']"
      ]
     },
     "execution_count": 17,
     "metadata": {},
     "output_type": "execute_result"
    }
   ],
   "source": [
    "data"
   ]
  },
  {
   "cell_type": "code",
   "execution_count": 34,
   "metadata": {},
   "outputs": [
    {
     "data": {
      "text/plain": [
       "'2530 4 4000\\nAV 2530_AV.hea 2530_AV.wav 2530_AV.tsv\\nPV 2530_PV.hea 2530_PV.wav 2530_PV.tsv\\nTV 2530_TV.hea 2530_TV.wav 2530_TV.tsv\\nMV 2530_MV.hea 2530_MV.wav 2530_MV.tsv\\n#Age: Child\\n#Sex: Female\\n#Height: 98.0\\n#Weight: 15.9\\n#Pregnancy status: False\\n#Murmur: Absent\\n#Murmur locations: nan\\n#Most audible location: nan\\n#Systolic murmur timing: nan\\n#Systolic murmur shape: nan\\n#Systolic murmur grading: nan\\n#Systolic murmur pitch: nan\\n#Systolic murmur quality: nan\\n#Diastolic murmur timing: nan\\n#Diastolic murmur shape: nan\\n#Diastolic murmur grading: nan\\n#Diastolic murmur pitch: nan\\n#Diastolic murmur quality: nan\\n#Outcome: Abnormal\\n#Campaign: CC2015\\n#Additional ID: nan\\n'"
      ]
     },
     "execution_count": 34,
     "metadata": {},
     "output_type": "execute_result"
    }
   ],
   "source": [
    "current_patient_data"
   ]
  },
  {
   "cell_type": "code",
   "execution_count": 19,
   "metadata": {},
   "outputs": [
    {
     "data": {
      "text/plain": [
       "[array([-425, 1045,  518, ...,  509,  443,  122], dtype=int16),\n",
       " array([2593, 1874, 1370, ..., -637, -255, -243], dtype=int16),\n",
       " array([ 2276,  2343,  2448, ..., -2732, -5634, -4290], dtype=int16),\n",
       " array([12672, 10041,  3215, ...,  -658,     8,   528], dtype=int16)]"
      ]
     },
     "execution_count": 19,
     "metadata": {},
     "output_type": "execute_result"
    }
   ],
   "source": [
    "current_recordings"
   ]
  },
  {
   "cell_type": "code",
   "execution_count": 23,
   "metadata": {},
   "outputs": [],
   "source": [
    "mel = librosa.feature.melspectrogram(  y = current_recordings[0].astype(np.float32) ,sr= 4000, n_mels=128, n_fft=400, hop_length=128, win_length=400)"
   ]
  },
  {
   "cell_type": "code",
   "execution_count": 26,
   "metadata": {},
   "outputs": [
    {
     "data": {
      "text/plain": [
       "(128, 738)"
      ]
     },
     "execution_count": 26,
     "metadata": {},
     "output_type": "execute_result"
    }
   ],
   "source": [
    "librosa.power_to_db(mel).shape"
   ]
  },
  {
   "cell_type": "code",
   "execution_count": 26,
   "metadata": {},
   "outputs": [
    {
     "data": {
      "text/plain": [
       "(94400,)"
      ]
     },
     "execution_count": 26,
     "metadata": {},
     "output_type": "execute_result"
    }
   ],
   "source": [
    "current_recordings[0].shape"
   ]
  },
  {
   "cell_type": "code",
   "execution_count": 27,
   "metadata": {},
   "outputs": [
    {
     "data": {
      "text/plain": [
       "(52224,)"
      ]
     },
     "execution_count": 27,
     "metadata": {},
     "output_type": "execute_result"
    }
   ],
   "source": [
    "current_recordings[1].shape"
   ]
  },
  {
   "cell_type": "code",
   "execution_count": 28,
   "metadata": {},
   "outputs": [
    {
     "data": {
      "text/plain": [
       "(59968,)"
      ]
     },
     "execution_count": 28,
     "metadata": {},
     "output_type": "execute_result"
    }
   ],
   "source": [
    "current_recordings[2].shape"
   ]
  },
  {
   "cell_type": "code",
   "execution_count": 29,
   "metadata": {},
   "outputs": [
    {
     "data": {
      "text/plain": [
       "(106752,)"
      ]
     },
     "execution_count": 29,
     "metadata": {},
     "output_type": "execute_result"
    }
   ],
   "source": [
    "current_recordings[3].shape"
   ]
  },
  {
   "cell_type": "code",
   "execution_count": 42,
   "metadata": {},
   "outputs": [
    {
     "data": {
      "text/plain": [
       "[array([-425, 1045,  518, ...,  509,  443,  122], dtype=int16),\n",
       " array([2593, 1874, 1370, ..., -637, -255, -243], dtype=int16),\n",
       " array([ 2276,  2343,  2448, ..., -2732, -5634, -4290], dtype=int16),\n",
       " array([12672, 10041,  3215, ...,  -658,     8,   528], dtype=int16)]"
      ]
     },
     "execution_count": 42,
     "metadata": {},
     "output_type": "execute_result"
    }
   ],
   "source": [
    "current_recordings"
   ]
  },
  {
   "cell_type": "code",
   "execution_count": null,
   "metadata": {},
   "outputs": [],
   "source": [
    "parser = argparse.ArgumentParser(description = \"HMD_trainer\")\n",
    "## Training Settings\n",
    "parser.add_argument('--num_frames', type=int,   default=200,     help='Duration of the input segments, eg: 200 for 2 second')\n",
    "parser.add_argument(\"--lr\",default=2e-5, type=float, help=\"learning rate\")\n",
    "parser.add_argument(\"--minibatchsize_train\", default=64, type=int)\n",
    "parser.add_argument(\"--minibatchsize_dev\", default=1, type=int)\n",
    "parser.add_argument(\"--train_num_workers\", default=8, type=int, help=\"number of training workers\")\n",
    "parser.add_argument(\"--dev_num_workers\", default=1, type=int, help=\"number of validation workers\")\n",
    "\n",
    "\n",
    "\n",
    "\n",
    "warnings.simplefilter(\"ignore\")\n",
    "args = parser.parse_args(args=[])"
   ]
  },
  {
   "cell_type": "code",
   "execution_count": 33,
   "metadata": {},
   "outputs": [
    {
     "data": {
      "text/plain": [
       "'2530'"
      ]
     },
     "execution_count": 33,
     "metadata": {},
     "output_type": "execute_result"
    }
   ],
   "source": [
    "patient_files[0].split('/')[-1].split('.')[0]"
   ]
  },
  {
   "cell_type": "code",
   "execution_count": 44,
   "metadata": {},
   "outputs": [],
   "source": [
    "with open(patient_files[500], 'r') as f:\n",
    "    data = f.read()"
   ]
  },
  {
   "cell_type": "code",
   "execution_count": 45,
   "metadata": {},
   "outputs": [
    {
     "data": {
      "text/plain": [
       "'68737'"
      ]
     },
     "execution_count": 45,
     "metadata": {},
     "output_type": "execute_result"
    }
   ],
   "source": [
    "get_patient_id(data)"
   ]
  },
  {
   "cell_type": "code",
   "execution_count": 46,
   "metadata": {},
   "outputs": [
    {
     "data": {
      "text/plain": [
       "4"
      ]
     },
     "execution_count": 46,
     "metadata": {},
     "output_type": "execute_result"
    }
   ],
   "source": [
    "get_num_locations(data)"
   ]
  },
  {
   "cell_type": "code",
   "execution_count": 47,
   "metadata": {},
   "outputs": [
    {
     "data": {
      "text/plain": [
       "['AV', 'PV', 'TV', 'MV']"
      ]
     },
     "execution_count": 47,
     "metadata": {},
     "output_type": "execute_result"
    }
   ],
   "source": [
    "get_locations(data)"
   ]
  },
  {
   "cell_type": "code",
   "execution_count": 40,
   "metadata": {},
   "outputs": [
    {
     "data": {
      "text/plain": [
       "'Absent'"
      ]
     },
     "execution_count": 40,
     "metadata": {},
     "output_type": "execute_result"
    }
   ],
   "source": [
    "get_murmur(data)"
   ]
  },
  {
   "cell_type": "code",
   "execution_count": 41,
   "metadata": {},
   "outputs": [
    {
     "data": {
      "text/plain": [
       "942"
      ]
     },
     "execution_count": 41,
     "metadata": {},
     "output_type": "execute_result"
    }
   ],
   "source": [
    "len(patient_files)"
   ]
  },
  {
   "cell_type": "code",
   "execution_count": 48,
   "metadata": {},
   "outputs": [],
   "source": [
    "num_locations = get_num_locations(data)\n",
    "recording_information = data.split('\\n')[1:num_locations+1]"
   ]
  },
  {
   "cell_type": "code",
   "execution_count": 81,
   "metadata": {},
   "outputs": [
    {
     "data": {
      "text/plain": [
       "['AV 68737_AV.hea 68737_AV.wav 68737_AV.tsv',\n",
       " 'PV 68737_PV.hea 68737_PV.wav 68737_PV.tsv',\n",
       " 'TV 68737_TV.hea 68737_TV.wav 68737_TV.tsv',\n",
       " 'MV 68737_MV.hea 68737_MV.wav 68737_MV.tsv']"
      ]
     },
     "execution_count": 81,
     "metadata": {},
     "output_type": "execute_result"
    }
   ],
   "source": [
    "recording_information"
   ]
  },
  {
   "cell_type": "code",
   "execution_count": 109,
   "metadata": {},
   "outputs": [],
   "source": [
    "import random\n",
    "import numpy as np\n",
    "\n",
    "\n",
    "recordings = {}\n",
    "\n",
    "for i in range(4):\n",
    "    entries = recording_information[i].split(' ')\n",
    "    recording_file = entries[2]\n",
    "    location = entries[0]\n",
    "    filename = os.path.join(data_folder, recording_file)\n",
    "    recording, frequency = load_wav_file(filename)\n",
    "    \n",
    "    \n",
    "    length = 20*4000\n",
    "    if recording.shape[0] <= length:\n",
    "        shortage = length - recording.shape[0]\n",
    "        recording = np.pad(recording, (0, shortage), 'wrap')\n",
    "    start_frame = np.int64(random.random()*(recording.shape[0]-length))\n",
    "    recording = recording[start_frame:start_frame + length] \n",
    "    recordings[location] = recording.astype(np.float32)"
   ]
  },
  {
   "cell_type": "code",
   "execution_count": 82,
   "metadata": {},
   "outputs": [],
   "source": [
    "recording, frequency = load_wav_file(filename)"
   ]
  },
  {
   "cell_type": "code",
   "execution_count": 110,
   "metadata": {},
   "outputs": [
    {
     "data": {
      "text/plain": [
       "{'AV': array([1891., 1860.,  505., ..., -243., -261., -164.], dtype=float32),\n",
       " 'PV': array([ -356.,  -423.,    99., ..., -1927., -1922., -1903.], dtype=float32),\n",
       " 'TV': array([715., 669., 773., ...,  32.,   8., 119.], dtype=float32),\n",
       " 'MV': array([-414., -258., -179., ...,   10.,   19.,  142.], dtype=float32)}"
      ]
     },
     "execution_count": 110,
     "metadata": {},
     "output_type": "execute_result"
    }
   ],
   "source": [
    "recordings"
   ]
  },
  {
   "cell_type": "code",
   "execution_count": null,
   "metadata": {},
   "outputs": [],
   "source": [
    "for k,v in recordings.items():\n",
    "    log_mel = take_log(mel_spec(torch.from_numpy(v)))\n",
    "    log_mel = log_mel.unsqueeze(0)\n",
    "    \n",
    "    "
   ]
  },
  {
   "cell_type": "code",
   "execution_count": 93,
   "metadata": {},
   "outputs": [
    {
     "data": {
      "text/plain": [
       "4"
      ]
     },
     "execution_count": 93,
     "metadata": {},
     "output_type": "execute_result"
    }
   ],
   "source": [
    "len(recordings)"
   ]
  },
  {
   "cell_type": "code",
   "execution_count": 119,
   "metadata": {},
   "outputs": [
    {
     "data": {
      "text/plain": [
       "{'AV': array([1891., 1860.,  505., ..., -243., -261., -164.], dtype=float32),\n",
       " 'PV': array([ -356.,  -423.,    99., ..., -1927., -1922., -1903.], dtype=float32),\n",
       " 'TV': array([715., 669., 773., ...,  32.,   8., 119.], dtype=float32),\n",
       " 'MV': array([-414., -258., -179., ...,   10.,   19.,  142.], dtype=float32)}"
      ]
     },
     "execution_count": 119,
     "metadata": {},
     "output_type": "execute_result"
    }
   ],
   "source": [
    "recordings"
   ]
  },
  {
   "cell_type": "code",
   "execution_count": 129,
   "metadata": {},
   "outputs": [],
   "source": [
    "num_location= len(recordings)\n",
    "current_feature = np.zeros((num_location, 80000))\n",
    "i = 0\n",
    "for k,v in recordings.items():\n",
    "    current_feature[i,:] = v\n",
    "    i+=1"
   ]
  },
  {
   "cell_type": "code",
   "execution_count": 126,
   "metadata": {},
   "outputs": [],
   "source": [
    "current_feature = np.zeros((num_location, 80000))"
   ]
  },
  {
   "cell_type": "code",
   "execution_count": 145,
   "metadata": {},
   "outputs": [
    {
     "data": {
      "text/plain": [
       "array([[ 1891.,  1860.,   505., ...,  -243.,  -261.,  -164.],\n",
       "       [ -356.,  -423.,    99., ..., -1927., -1922., -1903.],\n",
       "       [  715.,   669.,   773., ...,    32.,     8.,   119.],\n",
       "       [ -414.,  -258.,  -179., ...,    10.,    19.,   142.]])"
      ]
     },
     "execution_count": 145,
     "metadata": {},
     "output_type": "execute_result"
    }
   ],
   "source": [
    "current_feature"
   ]
  },
  {
   "cell_type": "code",
   "execution_count": 154,
   "metadata": {},
   "outputs": [
    {
     "data": {
      "text/plain": [
       "array([ 459. ,  462. ,  299.5, ..., -532. , -539. , -451.5], dtype=float32)"
      ]
     },
     "execution_count": 154,
     "metadata": {},
     "output_type": "execute_result"
    }
   ],
   "source": [
    "np.mean(current_feature, axis=0).astype(np.float32)"
   ]
  },
  {
   "cell_type": "code",
   "execution_count": 155,
   "metadata": {},
   "outputs": [
    {
     "data": {
      "text/plain": [
       "array([-414., -258., -179., ...,   10.,   19.,  142.], dtype=float32)"
      ]
     },
     "execution_count": 155,
     "metadata": {},
     "output_type": "execute_result"
    }
   ],
   "source": [
    "recordings['MV']"
   ]
  },
  {
   "cell_type": "code",
   "execution_count": null,
   "metadata": {},
   "outputs": [],
   "source": []
  },
  {
   "cell_type": "code",
   "execution_count": 95,
   "metadata": {},
   "outputs": [],
   "source": [
    "from torchaudio.transforms import AmplitudeToDB, MelSpectrogram\n",
    "mel_spec = MelSpectrogram(\n",
    "            sample_rate=4000,\n",
    "            n_fft=400,\n",
    "            win_length=400,\n",
    "            hop_length=128,\n",
    "            f_min=0,\n",
    "            n_mels=128,\n",
    "            window_fn=torch.hamming_window,\n",
    "            wkwargs={\"periodic\": False},\n",
    "            power=1,\n",
    "        )"
   ]
  },
  {
   "cell_type": "code",
   "execution_count": 195,
   "metadata": {},
   "outputs": [],
   "source": [
    "mel = mel_spec(torch.from_numpy(recordings['AV'].astype(np.float32)))"
   ]
  },
  {
   "cell_type": "code",
   "execution_count": 106,
   "metadata": {},
   "outputs": [],
   "source": [
    "def take_log(mels):\n",
    "\n",
    "    amp_to_db = AmplitudeToDB(stype=\"amplitude\")\n",
    "    amp_to_db.amin = 1e-5  \n",
    "    return amp_to_db(mels)"
   ]
  },
  {
   "cell_type": "code",
   "execution_count": 196,
   "metadata": {},
   "outputs": [
    {
     "data": {
      "text/plain": [
       "tensor([[80.3810, 62.7282, 66.8454,  ..., 71.9923, 58.5625, 68.6145],\n",
       "        [80.9390, 72.3045, 68.8841,  ..., 78.1348, 71.0171, 72.4136],\n",
       "        [81.6487, 77.5446, 70.9289,  ..., 82.3820, 76.7865, 75.6011],\n",
       "        ...,\n",
       "        [61.3785, 53.9913, 48.7594,  ..., 43.2049, 44.6559, 47.4078],\n",
       "        [59.8013, 51.9922, 43.7277,  ..., 41.0759, 42.5014, 42.4430],\n",
       "        [58.0107, 51.9606, 45.5729,  ..., 37.6095, 38.8560, 38.5879]])"
      ]
     },
     "execution_count": 196,
     "metadata": {},
     "output_type": "execute_result"
    }
   ],
   "source": [
    "take_log(mel)"
   ]
  },
  {
   "cell_type": "code",
   "execution_count": 111,
   "metadata": {},
   "outputs": [
    {
     "data": {
      "text/plain": [
       "'Child'"
      ]
     },
     "execution_count": 111,
     "metadata": {},
     "output_type": "execute_result"
    }
   ],
   "source": [
    "get_age(data)"
   ]
  },
  {
   "cell_type": "code",
   "execution_count": 53,
   "metadata": {},
   "outputs": [
    {
     "name": "stderr",
     "output_type": "stream",
     "text": [
      "/home/jh20/anaconda3/envs/ECAPA/lib/python3.7/site-packages/torchaudio/backend/utils.py:54: UserWarning: \"sox\" backend is being deprecated. The default backend will be changed to \"sox_io\" backend in 0.8.0 and \"sox\" backend will be removed in 0.9.0. Please migrate to \"sox_io\" backend. Please refer to https://github.com/pytorch/audio/issues/903 for the detail.\n",
      "  '\"sox\" backend is being deprecated. '\n"
     ]
    }
   ],
   "source": [
    "import torchaudio\n",
    "\n",
    "audio, sr = torchaudio.load(filename)"
   ]
  },
  {
   "cell_type": "code",
   "execution_count": 169,
   "metadata": {},
   "outputs": [],
   "source": [
    "current_murmur = np.zeros(num_murmur_classes, dtype=np.float32)\n",
    "murmur = get_murmur(current_patient_data)\n",
    "if murmur in murmur_classes:\n",
    "    j = murmur_classes.index(murmur)\n",
    "    current_murmur[j] = 1\n",
    "\n",
    "\n",
    "current_outcome = np.zeros(num_outcome_classes, dtype=np.float32)\n",
    "outcome = get_outcome(current_patient_data)\n",
    "if outcome in outcome_classes:\n",
    "    j = outcome_classes.index(outcome)\n",
    "    current_outcome[j] = 1\n"
   ]
  },
  {
   "cell_type": "code",
   "execution_count": 157,
   "metadata": {},
   "outputs": [],
   "source": [
    "current_murmur = np.zeros(num_murmur_classes, dtype=np.float32)"
   ]
  },
  {
   "cell_type": "code",
   "execution_count": 163,
   "metadata": {},
   "outputs": [],
   "source": [
    "murmur = get_murmur(data)"
   ]
  },
  {
   "cell_type": "code",
   "execution_count": 170,
   "metadata": {},
   "outputs": [
    {
     "data": {
      "text/plain": [
       "[array([0., 1.]),\n",
       " array([0., 1.], dtype=float32),\n",
       " array([0., 1.], dtype=float32)]"
      ]
     },
     "execution_count": 170,
     "metadata": {},
     "output_type": "execute_result"
    }
   ],
   "source": [
    "outcomes"
   ]
  },
  {
   "cell_type": "code",
   "execution_count": 112,
   "metadata": {},
   "outputs": [],
   "source": [
    "num_location_list = []\n",
    "for filename in patient_files:\n",
    "    with open(filename, 'r') as f:\n",
    "        current_patient_data = f.read()\n",
    "    num_location = get_num_locations(current_patient_data)\n",
    "    num_location_list.append(num_location)"
   ]
  },
  {
   "cell_type": "code",
   "execution_count": 115,
   "metadata": {},
   "outputs": [
    {
     "data": {
      "text/plain": [
       "6"
      ]
     },
     "execution_count": 115,
     "metadata": {},
     "output_type": "execute_result"
    }
   ],
   "source": [
    "max(num_location_list)"
   ]
  },
  {
   "cell_type": "code",
   "execution_count": 116,
   "metadata": {},
   "outputs": [
    {
     "data": {
      "text/plain": [
       "1"
      ]
     },
     "execution_count": 116,
     "metadata": {},
     "output_type": "execute_result"
    }
   ],
   "source": [
    "min(num_location_list)"
   ]
  },
  {
   "cell_type": "code",
   "execution_count": 118,
   "metadata": {},
   "outputs": [
    {
     "data": {
      "text/plain": [
       "False"
      ]
     },
     "execution_count": 118,
     "metadata": {},
     "output_type": "execute_result"
    }
   ],
   "source": [
    "get_pregnancy_status(data)"
   ]
  },
  {
   "cell_type": "code",
   "execution_count": 140,
   "metadata": {},
   "outputs": [
    {
     "data": {
      "text/plain": [
       "4"
      ]
     },
     "execution_count": 140,
     "metadata": {},
     "output_type": "execute_result"
    }
   ],
   "source": [
    "len(recordings.keys())"
   ]
  },
  {
   "cell_type": "code",
   "execution_count": 141,
   "metadata": {},
   "outputs": [],
   "source": [
    "dic = {'a': 12}"
   ]
  },
  {
   "cell_type": "code",
   "execution_count": 144,
   "metadata": {},
   "outputs": [
    {
     "data": {
      "text/plain": [
       "'a'"
      ]
     },
     "execution_count": 144,
     "metadata": {},
     "output_type": "execute_result"
    }
   ],
   "source": [
    "list(dic.keys())[0]"
   ]
  },
  {
   "cell_type": "code",
   "execution_count": 183,
   "metadata": {},
   "outputs": [],
   "source": [
    "examples = {}\n",
    "for filename in patient_files:\n",
    "    with open(filename, 'r') as f:\n",
    "        current_patient_data = f.read()\n",
    "    \n",
    "    if filename.split('/')[-1].split('.')[0] not in examples.keys():\n",
    "        current_patient = patient_files[0].split('/')[-1].split('.')[0]\n",
    "        examples[current_patient] = {\n",
    "            \"filename\": filename,\n",
    "            \"num_location\": get_num_locations(current_patient_data),\n",
    "            \"frequency\" : get_frequency(current_patient_data),\n",
    "            \"location\" : get_locations(current_patient_data),\n",
    "            \"age\" : get_age(current_patient_data),\n",
    "            \"sex\" : get_sex(current_patient_data),\n",
    "            \"height\" : get_height(current_patient_data),\n",
    "            \"weight\" : get_weight(current_patient_data),\n",
    "            \"pregnancy_status\" : get_pregnancy_status(current_patient_data),\n",
    "            \"murmur\" : get_murmur(current_patient_data),\n",
    "            \"outcome\" : get_outcome(current_patient_data)\n",
    "               \n",
    "        }"
   ]
  },
  {
   "cell_type": "code",
   "execution_count": 184,
   "metadata": {},
   "outputs": [
    {
     "data": {
      "text/plain": [
       "{'2530': {'filename': '/home/jh20/Data/nr_data/ECG/Physionet2022/physionet.org/files/circor-heart-sound/1.0.3/training_data/2530.txt',\n",
       "  'num_location': 4,\n",
       "  'frequency': 4000.0,\n",
       "  'location': ['AV', 'PV', 'TV', 'MV'],\n",
       "  'age': 'Child',\n",
       "  'sex': 'Female',\n",
       "  'height': 98.0,\n",
       "  'weight': 15.9,\n",
       "  'pregnancy_status': False,\n",
       "  'murmur': 'Absent',\n",
       "  'outcome': 'Abnormal'}}"
      ]
     },
     "execution_count": 184,
     "metadata": {},
     "output_type": "execute_result"
    }
   ],
   "source": [
    "examples"
   ]
  },
  {
   "cell_type": "code",
   "execution_count": null,
   "metadata": {},
   "outputs": [],
   "source": []
  },
  {
   "cell_type": "code",
   "execution_count": 338,
   "metadata": {},
   "outputs": [],
   "source": [
    "from torch.utils.data import Dataset,DataLoader\n",
    "import pandas as pd\n",
    "import numpy as np\n",
    "import sys\n",
    "sys.path.append(\"/home/jh20/narin/physionet/python-classifier-2022\")\n",
    "from helper_code import *\n",
    "import torchaudio\n",
    "import random\n",
    "import numpy as np\n",
    "from torchaudio.transforms import AmplitudeToDB, MelSpectrogram\n",
    "\n",
    "\n",
    "def to_mono(recordings, random_ch=False):\n",
    "    \n",
    "    num_location = len(recordings)\n",
    "\n",
    "    if num_location > 1:  # multi channel\n",
    "        if not random_ch:\n",
    "            current_feature = np.zeros((num_location, 80000))\n",
    "            i = 0\n",
    "            for k,v in recordings.items():\n",
    "                current_feature[i,:] = v\n",
    "                i+=1\n",
    "            current_feature = np.mean(current_feature, axis=0).astype(np.float32)\n",
    "            \n",
    "    else:\n",
    "        one_loc = list(recordings.keys())[0]\n",
    "        current_feature = recordings[one_loc].astype(np.float32)\n",
    "        \n",
    "    return current_feature    \n",
    "    \n",
    "\n",
    "def read_recordings(data_folder, data):\n",
    "    num_locations = get_num_locations(data)\n",
    "    recording_information = data.split('\\n')[1:num_locations+1]\n",
    "\n",
    "    recordings = {}\n",
    "\n",
    "    for i in range(num_locations):\n",
    "        entries = recording_information[i].split(' ')\n",
    "        recording_file = entries[2]\n",
    "        location = entries[0]\n",
    "        filename = os.path.join(data_folder, recording_file)\n",
    "        recording, frequency = load_wav_file(filename)\n",
    "\n",
    "\n",
    "        length = 20*4000\n",
    "        if recording.shape[0] <= length:\n",
    "            shortage = length - recording.shape[0]\n",
    "            recording = np.pad(recording, (0, shortage), 'wrap')\n",
    "        start_frame = np.int64(random.random()*(recording.shape[0]-length))\n",
    "        recording = recording[start_frame:start_frame + length] \n",
    "        recordings[location] = recording.astype(np.float32)\n",
    "\n",
    "    return recordings\n",
    "\n",
    "\n",
    "def take_log(mels):\n",
    "\n",
    "    amp_to_db = AmplitudeToDB(stype=\"amplitude\")\n",
    "    amp_to_db.amin = 1e-5  \n",
    "    return amp_to_db(mels)\n",
    "\n",
    "\n",
    "\n",
    "class train_loader(Dataset):\n",
    "    def __init__(self,data_folder, **kwargs):\n",
    "        self.data_folder = data_folder\n",
    "        self.mel_spec = MelSpectrogram(\n",
    "            sample_rate=4000,\n",
    "            n_fft=400,\n",
    "            win_length=400,\n",
    "            hop_length=128,\n",
    "            f_min=0,\n",
    "            n_mels=128,\n",
    "            window_fn=torch.hamming_window,\n",
    "            wkwargs={\"periodic\": False},\n",
    "            power=1,\n",
    "        )\n",
    "\n",
    "        \n",
    "        \n",
    "        patient_files = find_patient_files(data_folder)\n",
    "        num_patient_files = len(patient_files)\n",
    "        \n",
    "        murmur_classes = ['Present', 'Unknown', 'Absent']\n",
    "        num_murmur_classes = len(murmur_classes)\n",
    "        outcome_classes = ['Abnormal', 'Normal']\n",
    "        num_outcome_classes = len(outcome_classes)\n",
    "        \n",
    "        \n",
    "        examples = {}\n",
    "        for filename in patient_files:\n",
    "            with open(filename, 'r') as f:\n",
    "                current_patient_data = f.read()\n",
    "            \n",
    "            if filename.split('/')[-1].split('.')[0] not in examples.keys():\n",
    "                current_patient = filename.split('/')[-1].split('.')[0]\n",
    "                examples[current_patient] = {\n",
    "                    \"filename\": filename,\n",
    "                    \"num_location\": get_num_locations(current_patient_data),\n",
    "                    \"frequency\" : get_frequency(current_patient_data),\n",
    "                    \"location\" : get_locations(current_patient_data),\n",
    "                    \"age\" : get_age(current_patient_data),\n",
    "                    \"sex\" : get_sex(current_patient_data),\n",
    "                    \"height\" : get_height(current_patient_data),\n",
    "                    \"weight\" : get_weight(current_patient_data),\n",
    "                    \"pregnancy_status\" : get_pregnancy_status(current_patient_data),\n",
    "                    \"murmur\" : get_murmur(current_patient_data),\n",
    "                    \"outcome\" : get_outcome(current_patient_data)\n",
    "                       \n",
    "                }\n",
    "        self.examples = examples\n",
    "        self.examples_list = list(examples.keys())\n",
    "        \n",
    "        \n",
    "        if len(self.examples_list) != len(patient_files):\n",
    "            raise ValueError('length is different!')\n",
    "    \n",
    "        \n",
    "    def __getitem__(self, index):\n",
    "        \n",
    "        # log mel feature\n",
    "        current_ex_dict = self.examples[self.examples_list[index]]\n",
    "        current_data = load_patient_data(current_ex_dict[\"filename\"])\n",
    "        current_recordings = read_recordings(data_folder, current_data)\n",
    "        \n",
    "        current_recordings = to_mono(current_recordings, random_ch=False)\n",
    "        \n",
    "#         current_recordings = torch.tensor(current_recordings, dtype=torch.float32).clone().detach()\n",
    "        \n",
    "        log_mel_feature = take_log(mel_spec(torch.from_numpy(current_recordings)))\n",
    "        \n",
    "        data_feature = torch.tensor(log_mel_feature, dtype=torch.float32, requires_grad=F)\n",
    "        # label\n",
    "        \n",
    "        current_murmur = torch.zeros(num_murmur_classes, dtype=torch.float32)\n",
    "        murmur = get_murmur(current_data)\n",
    "        if murmur in murmur_classes:\n",
    "            j = murmur_classes.index(murmur)\n",
    "            current_murmur[j] = 1\n",
    "        murmur_label =  torch.as_tensor(current_murmur, dtype=torch.float32, requires_grad=True)\n",
    "\n",
    "        current_outcome = torch.zeros(num_outcome_classes, dtype=torch.float32)\n",
    "        outcome = get_outcome(current_data)\n",
    "        if outcome in outcome_classes:\n",
    "            j = outcome_classes.index(outcome)\n",
    "            current_outcome[j] = 1\n",
    "        outcome_label = torch.tensor(current_outcome, dtype=torch.float32, requires_grad=True)    \n",
    "        \n",
    "        return data_feature, murmur_label, outcome_label\n",
    "    def __len__(self):\n",
    "        return len(self.examples_list)"
   ]
  },
  {
   "cell_type": "code",
   "execution_count": null,
   "metadata": {},
   "outputs": [],
   "source": [
    "# def myCollateFn(sample_batch):\n",
    "#     sample_batch = sorted(sample_batch, key=lambda x: x[0].shape[0], reverse=True)\n",
    "#     log_mel_feature = [torch.tensor(x[0]) for x in sample_batch]\n",
    "#     current_murmur = [torch.tensor(x[1]) for x in sample_batch]\n",
    "#     current_outcome = [torch.tensor(x[2]) for x in sample_batch]\n",
    "\n",
    "#     return log_mel_feature, current_murmur, current_outcome\n",
    "\n",
    "# class myDataLoader(DataLoader):\n",
    "#     def __init__(self, *args, **kwargs):\n",
    "#         super(myDataLoader, self).__init__(*args, **kwargs)\n",
    "#         self.collate_fn = myCollateFn"
   ]
  },
  {
   "cell_type": "code",
   "execution_count": 292,
   "metadata": {},
   "outputs": [],
   "source": [
    "from torch.utils.data import Dataset,DataLoader , RandomSampler"
   ]
  },
  {
   "cell_type": "code",
   "execution_count": 340,
   "metadata": {},
   "outputs": [],
   "source": [
    "point_sampler = RandomSampler(trainset)"
   ]
  },
  {
   "cell_type": "code",
   "execution_count": 339,
   "metadata": {},
   "outputs": [],
   "source": [
    "trainset = train_loader(data_folder)"
   ]
  },
  {
   "cell_type": "code",
   "execution_count": 264,
   "metadata": {},
   "outputs": [
    {
     "data": {
      "text/plain": [
       "(tensor([[93.5905, 84.8715, 54.2976,  ..., 61.4996, 76.1757, 68.7957],\n",
       "         [93.2550, 85.1750, 61.1994,  ..., 70.4779, 78.1291, 64.5556],\n",
       "         [92.9053, 85.6067, 65.7122,  ..., 75.5789, 80.1079, 52.0486],\n",
       "         ...,\n",
       "         [41.9424, 45.5729, 46.1398,  ..., 48.5557, 52.0632, 52.0810],\n",
       "         [40.7872, 46.2383, 46.4158,  ..., 48.4979, 46.0868, 48.9658],\n",
       "         [33.4897, 44.9085, 46.0755,  ..., 46.2945, 41.5224, 46.3135]]),\n",
       " tensor([0., 0., 1.]),\n",
       " tensor([1., 0.]))"
      ]
     },
     "execution_count": 264,
     "metadata": {},
     "output_type": "execute_result"
    }
   ],
   "source": [
    "trainset[0]"
   ]
  },
  {
   "cell_type": "code",
   "execution_count": 282,
   "metadata": {},
   "outputs": [],
   "source": [
    "audio, murmur, outcome = next(iter(trainloader))"
   ]
  },
  {
   "cell_type": "code",
   "execution_count": 288,
   "metadata": {},
   "outputs": [
    {
     "ename": "NameError",
     "evalue": "name 'RandomSampler' is not defined",
     "output_type": "error",
     "traceback": [
      "\u001b[0;31m---------------------------------------------------------------------------\u001b[0m",
      "\u001b[0;31mNameError\u001b[0m                                 Traceback (most recent call last)",
      "\u001b[0;32m<ipython-input-288-3f8b42399c01>\u001b[0m in \u001b[0;36m<module>\u001b[0;34m\u001b[0m\n\u001b[0;32m----> 1\u001b[0;31m \u001b[0mpoint_sampler\u001b[0m \u001b[0;34m=\u001b[0m \u001b[0mRandomSampler\u001b[0m\u001b[0;34m(\u001b[0m\u001b[0mmap_dataset\u001b[0m\u001b[0;34m)\u001b[0m\u001b[0;34m\u001b[0m\u001b[0;34m\u001b[0m\u001b[0m\n\u001b[0m",
      "\u001b[0;31mNameError\u001b[0m: name 'RandomSampler' is not defined"
     ]
    }
   ],
   "source": [
    "point_sampler = RandomSampler(map_dataset)"
   ]
  },
  {
   "cell_type": "code",
   "execution_count": 341,
   "metadata": {},
   "outputs": [],
   "source": [
    "dataloader_train = myDataLoader(dataset=trainset,\n",
    "                        batch_size=32,\n",
    "                               sampler =point_sampler,\n",
    "                               num_workers=6)"
   ]
  },
  {
   "cell_type": "code",
   "execution_count": 342,
   "metadata": {},
   "outputs": [
    {
     "name": "stderr",
     "output_type": "stream",
     "text": [
      "/home/jh20/anaconda3/envs/ECAPA/lib/python3.7/site-packages/ipykernel_launcher.py:134: UserWarning: To copy construct from a tensor, it is recommended to use sourceTensor.clone().detach() or sourceTensor.clone().detach().requires_grad_(True), rather than torch.tensor(sourceTensor).\n",
      "/home/jh20/anaconda3/envs/ECAPA/lib/python3.7/site-packages/ipykernel_launcher.py:134: UserWarning: To copy construct from a tensor, it is recommended to use sourceTensor.clone().detach() or sourceTensor.clone().detach().requires_grad_(True), rather than torch.tensor(sourceTensor).\n",
      "/home/jh20/anaconda3/envs/ECAPA/lib/python3.7/site-packages/ipykernel_launcher.py:134: UserWarning: To copy construct from a tensor, it is recommended to use sourceTensor.clone().detach() or sourceTensor.clone().detach().requires_grad_(True), rather than torch.tensor(sourceTensor).\n",
      "/home/jh20/anaconda3/envs/ECAPA/lib/python3.7/site-packages/ipykernel_launcher.py:134: UserWarning: To copy construct from a tensor, it is recommended to use sourceTensor.clone().detach() or sourceTensor.clone().detach().requires_grad_(True), rather than torch.tensor(sourceTensor).\n",
      "/home/jh20/anaconda3/envs/ECAPA/lib/python3.7/site-packages/ipykernel_launcher.py:134: UserWarning: To copy construct from a tensor, it is recommended to use sourceTensor.clone().detach() or sourceTensor.clone().detach().requires_grad_(True), rather than torch.tensor(sourceTensor).\n",
      "/home/jh20/anaconda3/envs/ECAPA/lib/python3.7/site-packages/ipykernel_launcher.py:134: UserWarning: To copy construct from a tensor, it is recommended to use sourceTensor.clone().detach() or sourceTensor.clone().detach().requires_grad_(True), rather than torch.tensor(sourceTensor).\n"
     ]
    },
    {
     "ename": "TypeError",
     "evalue": "Caught TypeError in DataLoader worker process 0.\nOriginal Traceback (most recent call last):\n  File \"/home/jh20/anaconda3/envs/ECAPA/lib/python3.7/site-packages/torch/utils/data/_utils/worker.py\", line 198, in _worker_loop\n    data = fetcher.fetch(index)\n  File \"/home/jh20/anaconda3/envs/ECAPA/lib/python3.7/site-packages/torch/utils/data/_utils/fetch.py\", line 44, in fetch\n    data = [self.dataset[idx] for idx in possibly_batched_index]\n  File \"/home/jh20/anaconda3/envs/ECAPA/lib/python3.7/site-packages/torch/utils/data/_utils/fetch.py\", line 44, in <listcomp>\n    data = [self.dataset[idx] for idx in possibly_batched_index]\n  File \"<ipython-input-338-2462352190a6>\", line 142, in __getitem__\n    murmur_label =  torch.as_tensor(current_murmur, dtype=torch.float32, requires_grad=True)\nTypeError: as_tensor() got an unexpected keyword argument 'requires_grad'\n",
     "output_type": "error",
     "traceback": [
      "\u001b[0;31m---------------------------------------------------------------------------\u001b[0m",
      "\u001b[0;31mTypeError\u001b[0m                                 Traceback (most recent call last)",
      "\u001b[0;32m<ipython-input-342-a9c2d5726acb>\u001b[0m in \u001b[0;36m<module>\u001b[0;34m\u001b[0m\n\u001b[0;32m----> 1\u001b[0;31m \u001b[0ma\u001b[0m\u001b[0;34m,\u001b[0m \u001b[0mb\u001b[0m\u001b[0;34m,\u001b[0m \u001b[0mc\u001b[0m \u001b[0;34m=\u001b[0m \u001b[0mnext\u001b[0m\u001b[0;34m(\u001b[0m\u001b[0miter\u001b[0m\u001b[0;34m(\u001b[0m\u001b[0mdataloader_train\u001b[0m\u001b[0;34m)\u001b[0m\u001b[0;34m)\u001b[0m\u001b[0;34m\u001b[0m\u001b[0;34m\u001b[0m\u001b[0m\n\u001b[0m",
      "\u001b[0;32m~/anaconda3/envs/ECAPA/lib/python3.7/site-packages/torch/utils/data/dataloader.py\u001b[0m in \u001b[0;36m__next__\u001b[0;34m(self)\u001b[0m\n\u001b[1;32m    433\u001b[0m         \u001b[0;32mif\u001b[0m \u001b[0mself\u001b[0m\u001b[0;34m.\u001b[0m\u001b[0m_sampler_iter\u001b[0m \u001b[0;32mis\u001b[0m \u001b[0;32mNone\u001b[0m\u001b[0;34m:\u001b[0m\u001b[0;34m\u001b[0m\u001b[0;34m\u001b[0m\u001b[0m\n\u001b[1;32m    434\u001b[0m             \u001b[0mself\u001b[0m\u001b[0;34m.\u001b[0m\u001b[0m_reset\u001b[0m\u001b[0;34m(\u001b[0m\u001b[0;34m)\u001b[0m\u001b[0;34m\u001b[0m\u001b[0;34m\u001b[0m\u001b[0m\n\u001b[0;32m--> 435\u001b[0;31m         \u001b[0mdata\u001b[0m \u001b[0;34m=\u001b[0m \u001b[0mself\u001b[0m\u001b[0;34m.\u001b[0m\u001b[0m_next_data\u001b[0m\u001b[0;34m(\u001b[0m\u001b[0;34m)\u001b[0m\u001b[0;34m\u001b[0m\u001b[0;34m\u001b[0m\u001b[0m\n\u001b[0m\u001b[1;32m    436\u001b[0m         \u001b[0mself\u001b[0m\u001b[0;34m.\u001b[0m\u001b[0m_num_yielded\u001b[0m \u001b[0;34m+=\u001b[0m \u001b[0;36m1\u001b[0m\u001b[0;34m\u001b[0m\u001b[0;34m\u001b[0m\u001b[0m\n\u001b[1;32m    437\u001b[0m         \u001b[0;32mif\u001b[0m \u001b[0mself\u001b[0m\u001b[0;34m.\u001b[0m\u001b[0m_dataset_kind\u001b[0m \u001b[0;34m==\u001b[0m \u001b[0m_DatasetKind\u001b[0m\u001b[0;34m.\u001b[0m\u001b[0mIterable\u001b[0m \u001b[0;32mand\u001b[0m\u001b[0;31m \u001b[0m\u001b[0;31m\\\u001b[0m\u001b[0;34m\u001b[0m\u001b[0;34m\u001b[0m\u001b[0m\n",
      "\u001b[0;32m~/anaconda3/envs/ECAPA/lib/python3.7/site-packages/torch/utils/data/dataloader.py\u001b[0m in \u001b[0;36m_next_data\u001b[0;34m(self)\u001b[0m\n\u001b[1;32m   1083\u001b[0m             \u001b[0;32melse\u001b[0m\u001b[0;34m:\u001b[0m\u001b[0;34m\u001b[0m\u001b[0;34m\u001b[0m\u001b[0m\n\u001b[1;32m   1084\u001b[0m                 \u001b[0;32mdel\u001b[0m \u001b[0mself\u001b[0m\u001b[0;34m.\u001b[0m\u001b[0m_task_info\u001b[0m\u001b[0;34m[\u001b[0m\u001b[0midx\u001b[0m\u001b[0;34m]\u001b[0m\u001b[0;34m\u001b[0m\u001b[0;34m\u001b[0m\u001b[0m\n\u001b[0;32m-> 1085\u001b[0;31m                 \u001b[0;32mreturn\u001b[0m \u001b[0mself\u001b[0m\u001b[0;34m.\u001b[0m\u001b[0m_process_data\u001b[0m\u001b[0;34m(\u001b[0m\u001b[0mdata\u001b[0m\u001b[0;34m)\u001b[0m\u001b[0;34m\u001b[0m\u001b[0;34m\u001b[0m\u001b[0m\n\u001b[0m\u001b[1;32m   1086\u001b[0m \u001b[0;34m\u001b[0m\u001b[0m\n\u001b[1;32m   1087\u001b[0m     \u001b[0;32mdef\u001b[0m \u001b[0m_try_put_index\u001b[0m\u001b[0;34m(\u001b[0m\u001b[0mself\u001b[0m\u001b[0;34m)\u001b[0m\u001b[0;34m:\u001b[0m\u001b[0;34m\u001b[0m\u001b[0;34m\u001b[0m\u001b[0m\n",
      "\u001b[0;32m~/anaconda3/envs/ECAPA/lib/python3.7/site-packages/torch/utils/data/dataloader.py\u001b[0m in \u001b[0;36m_process_data\u001b[0;34m(self, data)\u001b[0m\n\u001b[1;32m   1109\u001b[0m         \u001b[0mself\u001b[0m\u001b[0;34m.\u001b[0m\u001b[0m_try_put_index\u001b[0m\u001b[0;34m(\u001b[0m\u001b[0;34m)\u001b[0m\u001b[0;34m\u001b[0m\u001b[0;34m\u001b[0m\u001b[0m\n\u001b[1;32m   1110\u001b[0m         \u001b[0;32mif\u001b[0m \u001b[0misinstance\u001b[0m\u001b[0;34m(\u001b[0m\u001b[0mdata\u001b[0m\u001b[0;34m,\u001b[0m \u001b[0mExceptionWrapper\u001b[0m\u001b[0;34m)\u001b[0m\u001b[0;34m:\u001b[0m\u001b[0;34m\u001b[0m\u001b[0;34m\u001b[0m\u001b[0m\n\u001b[0;32m-> 1111\u001b[0;31m             \u001b[0mdata\u001b[0m\u001b[0;34m.\u001b[0m\u001b[0mreraise\u001b[0m\u001b[0;34m(\u001b[0m\u001b[0;34m)\u001b[0m\u001b[0;34m\u001b[0m\u001b[0;34m\u001b[0m\u001b[0m\n\u001b[0m\u001b[1;32m   1112\u001b[0m         \u001b[0;32mreturn\u001b[0m \u001b[0mdata\u001b[0m\u001b[0;34m\u001b[0m\u001b[0;34m\u001b[0m\u001b[0m\n\u001b[1;32m   1113\u001b[0m \u001b[0;34m\u001b[0m\u001b[0m\n",
      "\u001b[0;32m~/anaconda3/envs/ECAPA/lib/python3.7/site-packages/torch/_utils.py\u001b[0m in \u001b[0;36mreraise\u001b[0;34m(self)\u001b[0m\n\u001b[1;32m    426\u001b[0m             \u001b[0;31m# have message field\u001b[0m\u001b[0;34m\u001b[0m\u001b[0;34m\u001b[0m\u001b[0;34m\u001b[0m\u001b[0m\n\u001b[1;32m    427\u001b[0m             \u001b[0;32mraise\u001b[0m \u001b[0mself\u001b[0m\u001b[0;34m.\u001b[0m\u001b[0mexc_type\u001b[0m\u001b[0;34m(\u001b[0m\u001b[0mmessage\u001b[0m\u001b[0;34m=\u001b[0m\u001b[0mmsg\u001b[0m\u001b[0;34m)\u001b[0m\u001b[0;34m\u001b[0m\u001b[0;34m\u001b[0m\u001b[0m\n\u001b[0;32m--> 428\u001b[0;31m         \u001b[0;32mraise\u001b[0m \u001b[0mself\u001b[0m\u001b[0;34m.\u001b[0m\u001b[0mexc_type\u001b[0m\u001b[0;34m(\u001b[0m\u001b[0mmsg\u001b[0m\u001b[0;34m)\u001b[0m\u001b[0;34m\u001b[0m\u001b[0;34m\u001b[0m\u001b[0m\n\u001b[0m\u001b[1;32m    429\u001b[0m \u001b[0;34m\u001b[0m\u001b[0m\n\u001b[1;32m    430\u001b[0m \u001b[0;34m\u001b[0m\u001b[0m\n",
      "\u001b[0;31mTypeError\u001b[0m: Caught TypeError in DataLoader worker process 0.\nOriginal Traceback (most recent call last):\n  File \"/home/jh20/anaconda3/envs/ECAPA/lib/python3.7/site-packages/torch/utils/data/_utils/worker.py\", line 198, in _worker_loop\n    data = fetcher.fetch(index)\n  File \"/home/jh20/anaconda3/envs/ECAPA/lib/python3.7/site-packages/torch/utils/data/_utils/fetch.py\", line 44, in fetch\n    data = [self.dataset[idx] for idx in possibly_batched_index]\n  File \"/home/jh20/anaconda3/envs/ECAPA/lib/python3.7/site-packages/torch/utils/data/_utils/fetch.py\", line 44, in <listcomp>\n    data = [self.dataset[idx] for idx in possibly_batched_index]\n  File \"<ipython-input-338-2462352190a6>\", line 142, in __getitem__\n    murmur_label =  torch.as_tensor(current_murmur, dtype=torch.float32, requires_grad=True)\nTypeError: as_tensor() got an unexpected keyword argument 'requires_grad'\n"
     ]
    }
   ],
   "source": [
    "a, b, c = next(iter(dataloader_train))"
   ]
  },
  {
   "cell_type": "code",
   "execution_count": 287,
   "metadata": {},
   "outputs": [
    {
     "data": {
      "text/plain": [
       "[tensor([[68.6683, 75.1568, 74.4430,  ..., 74.3135, 75.4665, 72.1969],\n",
       "         [63.5838, 76.4039, 76.3497,  ..., 78.9415, 79.1801, 76.7821],\n",
       "         [33.9292, 77.7890, 78.2919,  ..., 82.5523, 82.3204, 80.3725],\n",
       "         ...,\n",
       "         [41.5171, 46.6283, 48.5438,  ..., 56.9770, 60.9018, 50.3342],\n",
       "         [39.3141, 48.5832, 49.6623,  ..., 56.1821, 60.3242, 48.3023],\n",
       "         [41.4528, 51.9555, 48.8688,  ..., 56.1280, 60.8780, 49.9353]]),\n",
       " tensor([[73.8207, 74.6053, 71.2825,  ..., 81.1578, 81.7733, 78.9637],\n",
       "         [75.7456, 74.4874, 76.5250,  ..., 81.7968, 81.5786, 75.2309],\n",
       "         [77.7021, 74.4182, 80.4133,  ..., 82.5917, 81.4121, 66.1206],\n",
       "         ...,\n",
       "         [61.0917, 52.4004, 49.3426,  ..., 48.4785, 50.8986, 57.2339],\n",
       "         [60.5735, 52.3945, 47.9301,  ..., 51.6270, 54.1112, 57.9481],\n",
       "         [59.2988, 49.4595, 45.2043,  ..., 50.5741, 49.6934, 52.9861]]),\n",
       " tensor([[80.2390, 77.4743, 77.5777,  ..., 73.4035, 67.9269, 69.5096],\n",
       "         [79.1911, 74.8747, 77.0203,  ..., 72.2685, 67.1977, 70.6563],\n",
       "         [77.7954, 70.1567, 76.3670,  ..., 70.7294, 66.2963, 71.9493],\n",
       "         ...,\n",
       "         [53.2040, 48.2947, 44.0490,  ..., 43.7328, 46.8748, 54.6367],\n",
       "         [57.9266, 49.5987, 40.2684,  ..., 36.4846, 43.0889, 52.0531],\n",
       "         [57.1697, 48.2424, 39.3600,  ..., 39.7801, 44.4117, 53.2742]]),\n",
       " tensor([[56.9189, 74.1070, 65.6976,  ..., 69.9786, 72.0419, 79.2044],\n",
       "         [70.9694, 71.9232, 69.0224,  ..., 75.5732, 77.5968, 81.5790],\n",
       "         [76.9554, 68.2907, 71.9383,  ..., 79.6081, 81.6156, 83.8726],\n",
       "         ...,\n",
       "         [44.8732, 41.4785, 32.3198,  ..., 44.5897, 41.9182, 42.2384],\n",
       "         [41.0942, 42.3483, 36.0642,  ..., 45.1309, 36.6996, 40.3010],\n",
       "         [40.7714, 40.8652, 37.1125,  ..., 44.0937, 39.3814, 47.2518]]),\n",
       " tensor([[90.0780, 79.1876, 58.7475,  ..., 74.2784, 65.1948, 68.9785],\n",
       "         [90.5542, 81.0053, 69.8594,  ..., 76.2037, 67.4903, 66.3523],\n",
       "         [91.1764, 82.8768, 75.4075,  ..., 78.1605, 69.7270, 61.5583],\n",
       "         ...,\n",
       "         [69.3162, 60.3923, 43.2471,  ..., 37.0862, 37.9355, 45.1751],\n",
       "         [70.6936, 61.5222, 40.5150,  ..., 37.2825, 41.2690, 47.2982],\n",
       "         [71.5039, 62.2942, 41.2941,  ..., 37.1220, 38.2292, 48.0015]]),\n",
       " tensor([[87.1355, 87.3745, 86.9470,  ..., 70.2956, 66.4491, 70.7210],\n",
       "         [86.2329, 85.3297, 88.0620,  ..., 71.0753, 69.4125, 70.5756],\n",
       "         [85.0681, 82.0214, 89.3257,  ..., 72.0141, 72.1049, 70.4720],\n",
       "         ...,\n",
       "         [58.2881, 58.1695, 52.3676,  ..., 45.9389, 49.1735, 46.5380],\n",
       "         [59.6178, 50.7722, 49.9126,  ..., 48.7802, 48.6461, 41.0495],\n",
       "         [60.7906, 53.1901, 50.3330,  ..., 49.5824, 47.4388, 46.5561]]),\n",
       " tensor([[82.3331, 73.3951, 78.3553,  ..., 70.9025, 77.0197, 86.2638],\n",
       "         [86.9629, 81.1161, 73.9030,  ..., 78.0893, 81.0315, 89.0946],\n",
       "         [90.5747, 85.8828, 59.3644,  ..., 82.6940, 84.3335, 91.7011],\n",
       "         ...,\n",
       "         [53.5835, 57.2603, 56.8918,  ..., 55.0053, 53.5591, 52.2267],\n",
       "         [65.3734, 58.5926, 57.0467,  ..., 55.8905, 53.3837, 51.1958],\n",
       "         [73.6211, 65.2073, 52.7132,  ..., 55.3105, 51.5552, 52.1328]]),\n",
       " tensor([[86.3508, 78.0919, 74.7772,  ..., 67.2440, 75.3024, 73.0021],\n",
       "         [87.0365, 79.1097, 75.6364,  ..., 72.7563, 75.3620, 70.7604],\n",
       "         [87.8797, 80.2817, 76.6546,  ..., 76.7576, 75.5102, 66.9874],\n",
       "         ...,\n",
       "         [86.7948, 77.5821, 64.7265,  ..., 62.9604, 60.2637, 59.9128],\n",
       "         [87.0628, 77.9850, 66.1273,  ..., 64.4907, 62.4425, 57.5105],\n",
       "         [86.6457, 77.4246, 59.0260,  ..., 61.0102, 57.6408, 52.9674]]),\n",
       " tensor([[47.8932, 76.6721, 70.4163,  ..., 69.0545, 72.0619, 74.6040],\n",
       "         [70.8990, 81.4903, 81.6078,  ..., 69.1174, 71.7891, 70.5757],\n",
       "         [77.5422, 85.1901, 87.1702,  ..., 69.2696, 71.5218, 59.6757],\n",
       "         ...,\n",
       "         [40.7798, 40.8644, 37.0351,  ..., 68.1952, 65.4831, 67.5343],\n",
       "         [42.6605, 35.6518, 36.5653,  ..., 66.7277, 62.8017, 64.5063],\n",
       "         [39.3431, 35.2104, 36.4595,  ..., 63.8780, 62.3107, 69.9116]]),\n",
       " tensor([[81.2490, 72.4367, 73.5597,  ..., 72.5948, 72.0440, 77.5918],\n",
       "         [78.4904, 74.4544, 70.4739,  ..., 73.9447, 77.3666, 78.0541],\n",
       "         [73.3027, 76.4831, 64.2005,  ..., 75.4218, 81.2889, 78.6614],\n",
       "         ...,\n",
       "         [48.5664, 54.2463, 50.2950,  ..., 36.9323, 31.4071, 39.0489],\n",
       "         [54.8389, 57.5076, 51.7321,  ..., 28.7106, 37.2532, 42.4159],\n",
       "         [50.7959, 53.6126, 49.0360,  ..., 30.4527, 35.2797, 34.0109]]),\n",
       " tensor([[85.0132, 77.8107, 62.4166,  ..., 64.1705, 77.9277, 78.3940],\n",
       "         [84.5064, 76.1322, 71.1375,  ..., 77.1522, 78.5349, 77.8433],\n",
       "         [83.9239, 73.6027, 76.1749,  ..., 82.9982, 79.2965, 77.1995],\n",
       "         ...,\n",
       "         [71.9743, 69.2901, 52.4736,  ..., 46.2736, 45.7855, 47.3078],\n",
       "         [69.5443, 68.7613, 50.9846,  ..., 44.4136, 44.0523, 41.5934],\n",
       "         [72.8696, 69.9867, 54.8689,  ..., 46.8489, 44.7313, 50.9839]]),\n",
       " tensor([[88.3811, 82.6648, 74.6156,  ..., 70.9686, 62.2275, 66.9138],\n",
       "         [89.5708, 83.9693, 73.2461,  ..., 75.7959, 63.1453, 61.9827],\n",
       "         [90.9035, 85.4059, 71.3009,  ..., 79.4999, 64.2209, 39.0664],\n",
       "         ...,\n",
       "         [50.4758, 47.0034, 47.1977,  ..., 50.0707, 54.6754, 47.8579],\n",
       "         [48.5566, 43.6679, 45.8522,  ..., 42.3087, 48.1790, 44.6506],\n",
       "         [55.3983, 47.3085, 40.9058,  ..., 47.5100, 45.5965, 44.5577]]),\n",
       " tensor([[69.7413, 66.2335, 65.5721,  ..., 63.7288, 65.8021, 67.8637],\n",
       "         [65.7593, 71.8358, 70.4224,  ..., 71.6415, 73.6683, 73.6816],\n",
       "         [55.1695, 75.8737, 74.1370,  ..., 76.4632, 78.4767, 77.8052],\n",
       "         ...,\n",
       "         [51.7927, 46.3435, 44.8303,  ..., 55.9484, 55.9895, 54.3497],\n",
       "         [49.5102, 44.1707, 43.4397,  ..., 55.6333, 54.6362, 55.6446],\n",
       "         [49.5028, 41.6589, 39.3711,  ..., 54.6186, 56.6154, 54.8724]]),\n",
       " tensor([[72.6072, 73.8634, 74.4464,  ..., 78.3848, 76.8676, 77.9047],\n",
       "         [69.7152, 72.3223, 71.5772,  ..., 81.9789, 80.2355, 76.8532],\n",
       "         [64.1059, 70.0601, 66.0418,  ..., 85.0519, 83.1770, 75.4518],\n",
       "         ...,\n",
       "         [47.0069, 48.1834, 46.0671,  ..., 50.4461, 56.0833, 65.1465],\n",
       "         [47.6983, 44.3082, 45.9322,  ..., 46.8611, 55.0824, 64.2675],\n",
       "         [43.1117, 44.2529, 42.9620,  ..., 47.9856, 56.0922, 64.9744]]),\n",
       " tensor([[78.8966, 83.0596, 78.1512,  ..., 75.9655, 70.5495, 79.2505],\n",
       "         [79.5172, 85.1094, 83.9279,  ..., 81.8325, 77.7384, 79.9282],\n",
       "         [80.2928, 87.1627, 88.0355,  ..., 85.9753, 82.3437, 80.7632],\n",
       "         ...,\n",
       "         [65.2898, 54.6283, 71.2287,  ..., 48.6737, 53.5746, 59.5691],\n",
       "         [66.8676, 58.5387, 66.3409,  ..., 45.5155, 53.0842, 62.1815],\n",
       "         [68.2052, 58.4851, 62.2604,  ..., 40.8128, 55.5478, 63.7558]]),\n",
       " tensor([[69.1012, 67.1934, 73.1889,  ..., 76.7171, 75.5621, 83.0817],\n",
       "         [68.6273, 71.6510, 75.7518,  ..., 84.2836, 83.8674, 80.3133],\n",
       "         [68.0904, 75.1798, 78.1779,  ..., 89.0048, 88.7971, 75.0955],\n",
       "         ...,\n",
       "         [49.9395, 48.2503, 50.9150,  ..., 54.7160, 59.7692, 63.3623],\n",
       "         [40.1639, 43.8502, 46.4948,  ..., 55.5981, 60.0123, 59.7836],\n",
       "         [44.4754, 48.6247, 49.5437,  ..., 57.5406, 59.4015, 62.8624]]),\n",
       " tensor([[108.9760,  94.5844,  92.3098,  ...,  81.5133,  88.9619,  89.9827],\n",
       "         [111.2985, 103.2000,  94.7327,  ...,  85.5772,  89.4269,  86.4024],\n",
       "         [113.5547, 108.2109,  97.0608,  ...,  88.9067,  90.0370,  78.0691],\n",
       "         ...,\n",
       "         [ 81.3273,  86.8991,  88.0953,  ...,  59.0116,  65.2308,  73.9453],\n",
       "         [ 81.0977,  85.9078,  84.4463,  ...,  59.0190,  64.6864,  73.9826],\n",
       "         [ 75.7889,  82.8799,  81.9635,  ...,  61.7659,  64.3919,  73.0822]]),\n",
       " tensor([[69.8217, 69.9735, 65.2711,  ..., 78.0852, 77.7331, 72.9432],\n",
       "         [66.7746, 65.7797, 63.6349,  ..., 76.1164, 79.6031, 76.7350],\n",
       "         [60.6388, 53.6539, 61.1892,  ..., 72.9784, 81.5163, 79.9186],\n",
       "         ...,\n",
       "         [32.5602, 36.1120, 36.3692,  ..., 41.4243, 38.3099, 32.0402],\n",
       "         [30.1390, 33.9977, 35.0533,  ..., 42.0156, 38.9852, 37.3416],\n",
       "         [28.3141, 33.2639, 30.3483,  ..., 35.8129, 38.3274, 42.5300]]),\n",
       " tensor([[74.1672, 63.2473, 69.4028,  ..., 45.4446, 65.9706, 71.1115],\n",
       "         [71.0910, 68.8902, 71.7617,  ..., 54.9078, 68.0103, 71.1754],\n",
       "         [64.8518, 72.9446, 74.0442,  ..., 60.1225, 70.0558, 71.3288],\n",
       "         ...,\n",
       "         [57.0815, 55.5569, 43.3278,  ..., 40.2230, 41.6104, 38.0384],\n",
       "         [55.3477, 52.7863, 42.2281,  ..., 41.7818, 40.5481, 30.5028],\n",
       "         [52.8646, 54.5931, 42.5735,  ..., 42.8681, 40.2723, 38.6471]]),\n",
       " tensor([[66.5133, 71.3640, 72.4877,  ..., 74.3913, 73.4651, 68.9266],\n",
       "         [66.4095, 70.6343, 74.8766,  ..., 75.6168, 74.5302, 75.9514],\n",
       "         [66.3580, 69.7320, 77.1805,  ..., 76.9821, 75.7471, 80.5043],\n",
       "         ...,\n",
       "         [70.7271, 65.4005, 49.0241,  ..., 48.0940, 46.2966, 46.8024],\n",
       "         [74.7832, 72.3265, 57.0467,  ..., 46.8058, 41.5671, 41.9583],\n",
       "         [72.6837, 70.1216, 56.8004,  ..., 46.5675, 41.2499, 38.9637]]),\n",
       " tensor([[86.2918, 76.2483, 55.0670,  ..., 63.8734, 61.1852, 64.9454],\n",
       "         [86.6314, 76.8457, 58.4711,  ..., 59.9346, 59.5135, 62.4212],\n",
       "         [87.1035, 77.5971, 61.4341,  ..., 49.6232, 56.9975, 57.9142],\n",
       "         ...,\n",
       "         [74.0385, 65.0889, 47.9308,  ..., 59.6425, 58.9455, 55.8189],\n",
       "         [70.4034, 61.1625, 49.3008,  ..., 61.0502, 59.0694, 56.8522],\n",
       "         [73.5851, 64.5151, 46.6752,  ..., 63.1464, 58.5799, 48.3831]]),\n",
       " tensor([[89.2430, 91.4521, 89.3976,  ..., 82.8006, 87.7867, 93.7728],\n",
       "         [84.1175, 88.8667, 91.0653,  ..., 87.2508, 85.7426, 94.3281],\n",
       "         [51.1611, 84.1889, 92.8146,  ..., 90.7759, 82.4359, 95.0350],\n",
       "         ...,\n",
       "         [46.4562, 68.6107, 79.7955,  ..., 51.5378, 42.2644, 38.3902],\n",
       "         [43.6828, 76.5425, 86.7965,  ..., 51.3443, 42.0470, 44.7699],\n",
       "         [52.2942, 78.7543, 86.6725,  ..., 51.5104, 45.4184, 41.6107]]),\n",
       " tensor([[74.2752, 87.2433, 86.2802,  ..., 91.2722, 86.9561, 71.9193],\n",
       "         [74.9446, 84.7508, 84.2238,  ..., 93.4310, 87.4028, 83.0002],\n",
       "         [75.7710, 80.3307, 80.8892,  ..., 95.5667, 87.9930, 88.5427],\n",
       "         ...,\n",
       "         [79.3026, 75.2024, 71.0752,  ..., 44.9900, 62.1790, 68.9081],\n",
       "         [82.6157, 76.9783, 73.7381,  ..., 42.1949, 57.1452, 67.9362],\n",
       "         [80.7740, 77.0086, 71.9070,  ..., 48.4787, 61.4213, 67.8708]]),\n",
       " tensor([[62.9111, 68.6175, 62.6680,  ..., 68.8974, 72.3887, 79.6891],\n",
       "         [61.2547, 68.0384, 62.9217,  ..., 70.4075, 70.7453, 78.5998],\n",
       "         [58.7693, 67.3543, 63.2969,  ..., 72.0242, 68.2853, 77.1364],\n",
       "         ...,\n",
       "         [48.2494, 45.5256, 44.0843,  ..., 53.7817, 54.5275, 46.2787],\n",
       "         [45.1095, 48.0761, 44.0194,  ..., 53.9173, 54.2179, 48.7626],\n",
       "         [48.7064, 48.6187, 45.5212,  ..., 53.7617, 56.4299, 54.6272]]),\n",
       " tensor([[ 85.2512,  71.6081,  76.7853,  ...,  92.1966,  88.9121,  84.0361],\n",
       "         [ 80.7111,  81.4649,  80.9287,  ...,  97.2559,  90.1508,  81.4444],\n",
       "         [ 65.1514,  86.7662,  84.2996,  ..., 101.0643,  91.5282,  76.7486],\n",
       "         ...,\n",
       "         [ 74.3836,  72.8353,  58.1427,  ...,  52.1509,  63.0592,  47.2623],\n",
       "         [ 71.6803,  70.7442,  56.0550,  ...,  52.0236,  62.7075,  48.9707],\n",
       "         [ 68.6558,  68.8775,  56.5508,  ...,  51.4035,  63.2420,  44.9736]]),\n",
       " tensor([[86.6258, 84.7187, 79.4195,  ..., 78.1892, 71.5855, 87.4692],\n",
       "         [86.4099, 83.3300, 80.6468,  ..., 75.7520, 82.0975, 90.8127],\n",
       "         [86.2163, 81.3503, 82.0138,  ..., 71.4807, 87.5330, 93.7397],\n",
       "         ...,\n",
       "         [73.7379, 72.9091, 71.6445,  ..., 68.7397, 77.3386, 86.3655],\n",
       "         [75.5251, 70.8341, 67.2484,  ..., 64.1460, 76.3944, 85.8328],\n",
       "         [74.5431, 73.5696, 68.3501,  ..., 63.9625, 76.9202, 86.1786]]),\n",
       " tensor([[77.4150, 81.3931, 73.7612,  ..., 74.9548, 84.5721, 86.7553],\n",
       "         [74.1442, 82.1523, 73.9415,  ..., 76.9146, 87.9836, 85.4663],\n",
       "         [67.1691, 83.0703, 74.2321,  ..., 78.8984, 90.9509, 83.6640],\n",
       "         ...,\n",
       "         [54.8322, 48.6477, 43.3852,  ..., 49.8586, 50.7597, 49.6018],\n",
       "         [53.5603, 47.7545, 46.3346,  ..., 53.7896, 50.1363, 48.2664],\n",
       "         [48.0726, 51.4745, 50.3373,  ..., 53.8453, 51.7593, 51.3350]]),\n",
       " tensor([[77.0320, 74.8175, 70.0882,  ..., 76.7841, 73.3702, 62.6269],\n",
       "         [78.8883, 77.1658, 74.2871,  ..., 81.7242, 80.0713, 74.2285],\n",
       "         [80.7906, 79.4406, 77.6865,  ..., 85.4794, 84.5168, 79.8619],\n",
       "         ...,\n",
       "         [40.9388, 47.4876, 50.2484,  ..., 73.7298, 68.4632, 40.6480],\n",
       "         [43.1192, 45.8214, 44.8210,  ..., 75.4185, 70.4726, 44.0673],\n",
       "         [39.2778, 46.3010, 46.6126,  ..., 76.5596, 71.6828, 45.0393]]),\n",
       " tensor([[71.5779, 83.2546, 86.2646,  ..., 63.2653, 75.1993, 79.8093],\n",
       "         [86.4949, 88.1060, 83.5846,  ..., 67.7616, 76.3105, 81.7843],\n",
       "         [92.5811, 91.8211, 78.6335,  ..., 71.3092, 77.5706, 83.7800],\n",
       "         ...,\n",
       "         [51.2921, 44.2979, 49.6688,  ..., 35.7585, 36.1407, 39.4210],\n",
       "         [50.2482, 43.9275, 43.3817,  ..., 33.4472, 41.0103, 36.4363],\n",
       "         [50.4660, 44.1580, 46.6660,  ..., 34.7941, 41.0184, 37.9876]]),\n",
       " tensor([[97.8295, 88.5856, 75.7455,  ..., 72.2231, 71.5780, 81.6461],\n",
       "         [98.3727, 89.7477, 77.0476,  ..., 73.9117, 78.8834, 84.2618],\n",
       "         [99.0667, 91.0550, 78.4823,  ..., 75.6783, 83.5252, 86.7243],\n",
       "         ...,\n",
       "         [66.3224, 60.2820, 53.2616,  ..., 48.0727, 53.8792, 61.7570],\n",
       "         [65.3638, 61.5049, 50.0590,  ..., 53.2694, 50.8626, 58.9088],\n",
       "         [64.3734, 57.2267, 47.8148,  ..., 49.3473, 51.7901, 58.8957]]),\n",
       " tensor([[59.5660, 74.8115, 78.6384,  ..., 62.1807, 76.1135, 81.0234],\n",
       "         [56.6912, 72.5483, 79.9562,  ..., 69.3503, 75.4970, 79.6341],\n",
       "         [51.1378, 68.7226, 81.4049,  ..., 73.9495, 74.7597, 77.6533],\n",
       "         ...,\n",
       "         [56.5682, 47.9414, 47.8587,  ..., 43.4372, 45.1192, 35.8868],\n",
       "         [52.5792, 44.9323, 49.9648,  ..., 45.0995, 51.5345, 46.4954],\n",
       "         [55.1032, 48.5884, 50.0118,  ..., 46.9888, 52.4317, 43.2452]]),\n",
       " tensor([[88.4605, 88.4051, 85.6615,  ..., 70.6883, 73.8613, 71.1535],\n",
       "         [83.2650, 86.0036, 85.8068,  ..., 69.7248, 76.4877, 72.4119],\n",
       "         [36.5319, 81.8264, 86.0567,  ..., 68.4647, 78.9574, 73.8073],\n",
       "         ...,\n",
       "         [53.1573, 56.4272, 57.1618,  ..., 55.9108, 54.3595, 48.7223],\n",
       "         [46.0977, 50.6140, 53.5322,  ..., 54.3127, 54.9386, 49.6333],\n",
       "         [50.2949, 52.7034, 46.9497,  ..., 50.5033, 55.4844, 50.2248]])]"
      ]
     },
     "execution_count": 287,
     "metadata": {},
     "output_type": "execute_result"
    }
   ],
   "source": [
    "a"
   ]
  },
  {
   "cell_type": "code",
   "execution_count": 272,
   "metadata": {},
   "outputs": [
    {
     "data": {
      "text/plain": [
       "torch.Size([32, 128, 626])"
      ]
     },
     "execution_count": 272,
     "metadata": {},
     "output_type": "execute_result"
    }
   ],
   "source": [
    "a.shape"
   ]
  },
  {
   "cell_type": "code",
   "execution_count": 273,
   "metadata": {},
   "outputs": [
    {
     "data": {
      "text/plain": [
       "tensor([[0., 0., 1.],\n",
       "        [0., 0., 1.],\n",
       "        [0., 0., 1.],\n",
       "        [0., 1., 0.],\n",
       "        [1., 0., 0.],\n",
       "        [1., 0., 0.],\n",
       "        [0., 0., 1.],\n",
       "        [0., 0., 1.],\n",
       "        [0., 0., 1.],\n",
       "        [0., 1., 0.],\n",
       "        [0., 0., 1.],\n",
       "        [0., 0., 1.],\n",
       "        [0., 0., 1.],\n",
       "        [1., 0., 0.],\n",
       "        [0., 0., 1.],\n",
       "        [1., 0., 0.],\n",
       "        [0., 0., 1.],\n",
       "        [0., 0., 1.],\n",
       "        [0., 0., 1.],\n",
       "        [0., 0., 1.],\n",
       "        [1., 0., 0.],\n",
       "        [0., 1., 0.],\n",
       "        [0., 0., 1.],\n",
       "        [0., 0., 1.],\n",
       "        [1., 0., 0.],\n",
       "        [0., 0., 1.],\n",
       "        [0., 0., 1.],\n",
       "        [0., 0., 1.],\n",
       "        [0., 0., 1.],\n",
       "        [0., 0., 1.],\n",
       "        [0., 0., 1.],\n",
       "        [0., 0., 1.]])"
      ]
     },
     "execution_count": 273,
     "metadata": {},
     "output_type": "execute_result"
    }
   ],
   "source": [
    "b"
   ]
  },
  {
   "cell_type": "code",
   "execution_count": 21,
   "metadata": {},
   "outputs": [
    {
     "ename": "NameError",
     "evalue": "name 'get_features' is not defined",
     "output_type": "error",
     "traceback": [
      "\u001b[0;31m---------------------------------------------------------------------------\u001b[0m",
      "\u001b[0;31mNameError\u001b[0m                                 Traceback (most recent call last)",
      "\u001b[0;32m<ipython-input-21-506c36cbee9e>\u001b[0m in \u001b[0;36m<module>\u001b[0;34m\u001b[0m\n\u001b[1;32m      6\u001b[0m \u001b[0;34m\u001b[0m\u001b[0m\n\u001b[1;32m      7\u001b[0m     \u001b[0;31m# Extract features.\u001b[0m\u001b[0;34m\u001b[0m\u001b[0;34m\u001b[0m\u001b[0;34m\u001b[0m\u001b[0m\n\u001b[0;32m----> 8\u001b[0;31m     \u001b[0mcurrent_features\u001b[0m \u001b[0;34m=\u001b[0m \u001b[0mget_features\u001b[0m\u001b[0;34m(\u001b[0m\u001b[0mcurrent_patient_data\u001b[0m\u001b[0;34m,\u001b[0m \u001b[0mcurrent_recordings\u001b[0m\u001b[0;34m)\u001b[0m\u001b[0;34m\u001b[0m\u001b[0;34m\u001b[0m\u001b[0m\n\u001b[0m\u001b[1;32m      9\u001b[0m     \u001b[0mfeatures\u001b[0m\u001b[0;34m.\u001b[0m\u001b[0mappend\u001b[0m\u001b[0;34m(\u001b[0m\u001b[0mcurrent_features\u001b[0m\u001b[0;34m)\u001b[0m\u001b[0;34m\u001b[0m\u001b[0;34m\u001b[0m\u001b[0m\n\u001b[1;32m     10\u001b[0m \u001b[0;34m\u001b[0m\u001b[0m\n",
      "\u001b[0;31mNameError\u001b[0m: name 'get_features' is not defined"
     ]
    }
   ],
   "source": [
    "for i in range(num_patient_files):\n",
    "\n",
    "    # Load the current patient data and recordings.\n",
    "    current_patient_data = load_patient_data(patient_files[i])\n",
    "    current_recordings = load_recordings(data_folder, current_patient_data)\n",
    "\n",
    "    # Extract features.\n",
    "    current_features = get_patient_id(current_patient_data, current_recordings)\n",
    "    features.append(current_features)\n",
    "\n",
    "    # Extract labels and use one-hot encoding.\n",
    "    current_murmur = np.zeros(num_murmur_classes, dtype=int)\n",
    "    murmur = get_murmur(current_patient_data)\n",
    "    if murmur in murmur_classes:\n",
    "        j = murmur_classes.index(murmur)\n",
    "        current_murmur[j] = 1\n",
    "    murmurs.append(current_murmur)\n",
    "\n",
    "    current_outcome = np.zeros(num_outcome_classes, dtype=int)\n",
    "    outcome = get_outcome(current_patient_data)\n",
    "    if outcome in outcome_classes:\n",
    "        j = outcome_classes.index(outcome)\n",
    "        current_outcome[j] = 1\n",
    "    outcomes.append(current_outcome)\n",
    "\n",
    "features = np.vstack(features)\n",
    "murmurs = np.vstack(murmurs)\n",
    "outcomes = np.vstack(outcomes)"
   ]
  },
  {
   "cell_type": "code",
   "execution_count": null,
   "metadata": {},
   "outputs": [],
   "source": [
    "def train_challenge_model(data_folder, model_folder, verbose):\n",
    "    # Find data files.\n",
    "    if verbose >= 1:\n",
    "        print('Finding data files...')\n",
    "\n",
    "    # Find the patient data files.\n",
    "    patient_files = find_patient_files(data_folder)\n",
    "    num_patient_files = len(patient_files)\n",
    "\n",
    "    if num_patient_files==0:\n",
    "        raise Exception('No data was provided.')\n",
    "\n",
    "    # Create a folder for the model if it does not already exist.\n",
    "    os.makedirs(model_folder, exist_ok=True)\n",
    "\n",
    "    # Extract the features and labels.\n",
    "    if verbose >= 1:\n",
    "        print('Extracting features and labels from the Challenge data...')\n",
    "\n",
    "    murmur_classes = ['Present', 'Unknown', 'Absent']\n",
    "    num_murmur_classes = len(murmur_classes)\n",
    "    outcome_classes = ['Abnormal', 'Normal']\n",
    "    num_outcome_classes = len(outcome_classes)\n",
    "\n",
    "    features = list()\n",
    "    murmurs = list()\n",
    "    outcomes = list()\n",
    "\n",
    "    for i in range(num_patient_files):\n",
    "        if verbose >= 2:\n",
    "            print('    {}/{}...'.format(i+1, num_patient_files))\n",
    "\n",
    "        # Load the current patient data and recordings.\n",
    "        current_patient_data = load_patient_data(patient_files[i])\n",
    "        current_recordings = load_recordings(data_folder, current_patient_data)\n",
    "\n",
    "        # Extract features.\n",
    "        current_features = get_features(current_patient_data, current_recordings)\n",
    "        features.append(current_features)\n",
    "\n",
    "        # Extract labels and use one-hot encoding.\n",
    "        current_murmur = np.zeros(num_murmur_classes, dtype=int)\n",
    "        murmur = get_murmur(current_patient_data)\n",
    "        if murmur in murmur_classes:\n",
    "            j = murmur_classes.index(murmur)\n",
    "            current_murmur[j] = 1\n",
    "        murmurs.append(current_murmur)\n",
    "\n",
    "        current_outcome = np.zeros(num_outcome_classes, dtype=int)\n",
    "        outcome = get_outcome(current_patient_data)\n",
    "        if outcome in outcome_classes:\n",
    "            j = outcome_classes.index(outcome)\n",
    "            current_outcome[j] = 1\n",
    "        outcomes.append(current_outcome)\n",
    "\n",
    "    features = np.vstack(features)\n",
    "    murmurs = np.vstack(murmurs)\n",
    "    outcomes = np.vstack(outcomes)\n",
    "\n",
    "    # Train the model.\n",
    "    if verbose >= 1:\n",
    "        print('Training model...')\n",
    "\n",
    "    # Define parameters for random forest classifier.\n",
    "    n_estimators   = 123  # Number of trees in the forest.\n",
    "    max_leaf_nodes = 45   # Maximum number of leaf nodes in each tree.\n",
    "    random_state   = 6789 # Random state; set for reproducibility.\n",
    "\n",
    "    imputer = SimpleImputer().fit(features)\n",
    "    features = imputer.transform(features)\n",
    "    murmur_classifier = RandomForestClassifier(n_estimators=n_estimators, max_leaf_nodes=max_leaf_nodes, random_state=random_state).fit(features, murmurs)\n",
    "    outcome_classifier = RandomForestClassifier(n_estimators=n_estimators, max_leaf_nodes=max_leaf_nodes, random_state=random_state).fit(features, outcomes)\n",
    "\n",
    "    # Save the model.\n",
    "    save_challenge_model(model_folder, imputer, murmur_classes, murmur_classifier, outcome_classes, outcome_classifier)\n",
    "\n",
    "    if verbose >= 1:\n",
    "        print('Done.')"
   ]
  },
  {
   "cell_type": "code",
   "execution_count": 358,
   "metadata": {},
   "outputs": [
    {
     "data": {
      "text/plain": [
       "1"
      ]
     },
     "execution_count": 358,
     "metadata": {},
     "output_type": "execute_result"
    }
   ],
   "source": [
    "90000// 80000"
   ]
  },
  {
   "cell_type": "code",
   "execution_count": 359,
   "metadata": {},
   "outputs": [
    {
     "data": {
      "text/plain": [
       "1"
      ]
     },
     "execution_count": 359,
     "metadata": {},
     "output_type": "execute_result"
    }
   ],
   "source": [
    "100000//80000"
   ]
  },
  {
   "cell_type": "code",
   "execution_count": 362,
   "metadata": {},
   "outputs": [
    {
     "name": "stderr",
     "output_type": "stream",
     "text": [
      "Exception ignored in: <function _MultiProcessingDataLoaderIter.__del__ at 0x7f6958dafcb0>\n",
      "Traceback (most recent call last):\n",
      "  File \"/home/jh20/anaconda3/envs/ECAPA/lib/python3.7/site-packages/torch/utils/data/dataloader.py\", line 1203, in __del__\n",
      "    self._shutdown_workers()\n",
      "  File \"/home/jh20/anaconda3/envs/ECAPA/lib/python3.7/site-packages/torch/utils/data/dataloader.py\", line 1177, in _shutdown_workers\n",
      "    w.join(timeout=_utils.MP_STATUS_CHECK_INTERVAL)\n",
      "  File \"/home/jh20/anaconda3/envs/ECAPA/lib/python3.7/multiprocessing/process.py\", line 140, in join\n",
      "    res = self._popen.wait(timeout)\n",
      "  File \"/home/jh20/anaconda3/envs/ECAPA/lib/python3.7/multiprocessing/popen_fork.py\", line 45, in wait\n",
      "    if not wait([self.sentinel], timeout):\n",
      "  File \"/home/jh20/anaconda3/envs/ECAPA/lib/python3.7/multiprocessing/connection.py\", line 921, in wait\n",
      "    ready = selector.select(timeout)\n",
      "  File \"/home/jh20/anaconda3/envs/ECAPA/lib/python3.7/selectors.py\", line 415, in select\n",
      "    fd_event_list = self._selector.poll(timeout)\n",
      "KeyboardInterrupt: \n"
     ]
    }
   ],
   "source": [
    "import librosa"
   ]
  },
  {
   "cell_type": "code",
   "execution_count": 363,
   "metadata": {},
   "outputs": [
    {
     "data": {
      "text/plain": [
       "['/home/jh20/anaconda3/envs/ECAPA/lib/python3.7/site-packages/ipykernel_launcher.py',\n",
       " '-f',\n",
       " '/home/jh20/.local/share/jupyter/runtime/kernel-988a635e-7b60-4334-bbbd-92f7856c231a.json']"
      ]
     },
     "execution_count": 363,
     "metadata": {},
     "output_type": "execute_result"
    }
   ],
   "source": [
    "import sys\n",
    "sys.argv"
   ]
  },
  {
   "cell_type": "code",
   "execution_count": null,
   "metadata": {},
   "outputs": [],
   "source": [
    "feature.melspectrogram( y = sr= 4000, n_mels=128, n_fft=400, hop_length=128, win_length=400)"
   ]
  },
  {
   "cell_type": "code",
   "execution_count": null,
   "metadata": {},
   "outputs": [],
   "source": []
  },
  {
   "cell_type": "code",
   "execution_count": null,
   "metadata": {},
   "outputs": [],
   "source": []
  },
  {
   "cell_type": "code",
   "execution_count": null,
   "metadata": {},
   "outputs": [],
   "source": []
  },
  {
   "cell_type": "code",
   "execution_count": null,
   "metadata": {},
   "outputs": [],
   "source": []
  }
 ],
 "metadata": {
  "kernelspec": {
   "display_name": "Python 3 (ipykernel)",
   "language": "python",
   "name": "python3"
  },
  "language_info": {
   "codemirror_mode": {
    "name": "ipython",
    "version": 3
   },
   "file_extension": ".py",
   "mimetype": "text/x-python",
   "name": "python",
   "nbconvert_exporter": "python",
   "pygments_lexer": "ipython3",
   "version": "3.7.6"
  }
 },
 "nbformat": 4,
 "nbformat_minor": 4
}
