{
 "cells": [
  {
   "cell_type": "code",
   "execution_count": 1,
   "id": "b2076dfb",
   "metadata": {},
   "outputs": [],
   "source": [
    "import sys\n",
    "sys.path.append(\"/home/jh20/narin/physionet/python-classifier-2022\")\n",
    "from helper_code import *\n",
    "import numpy as np, scipy as sp, scipy.stats, os, joblib\n",
    "import glob\n",
    "import pandas as pd\n",
    "from sklearn.model_selection import train_test_split\n",
    "import time\n",
    "import torch.nn.functional as F\n",
    "import tqdm"
   ]
  },
  {
   "cell_type": "code",
   "execution_count": 2,
   "id": "544d84a9",
   "metadata": {},
   "outputs": [],
   "source": [
    "import logging\n",
    "def get_logger(filename):\n",
    "    # Logging configuration: set the basic configuration of the logging system\n",
    "    log_formatter = logging.Formatter(fmt='%(asctime)s [%(processName)s, %(process)s] [%(levelname)-5.5s]  %(message)s',\n",
    "                                      datefmt='%m-%d %H:%M')\n",
    "    logger = logging.getLogger()\n",
    "    logger.setLevel(logging.DEBUG)\n",
    "    # File logger\n",
    "    file_handler = logging.FileHandler(\"{}.log\".format(filename))\n",
    "    file_handler.setFormatter(log_formatter)\n",
    "    file_handler.setLevel(logging.DEBUG)\n",
    "    logger.addHandler(file_handler)\n",
    "    # Stderr logger\n",
    "    std_handler = logging.StreamHandler(sys.stdout)\n",
    "    std_handler.setFormatter(log_formatter)\n",
    "    std_handler.setLevel(logging.DEBUG)\n",
    "    logger.addHandler(std_handler)\n",
    "    return logger"
   ]
  },
  {
   "cell_type": "code",
   "execution_count": 3,
   "id": "ac931e7b",
   "metadata": {},
   "outputs": [],
   "source": [
    "from torchmetrics import F1\n",
    "from torchmetrics import Accuracy"
   ]
  },
  {
   "cell_type": "code",
   "execution_count": 4,
   "id": "69fe4703",
   "metadata": {},
   "outputs": [],
   "source": [
    "import torch.nn as nn\n",
    "import torch\n",
    "\n",
    "\n",
    "\n",
    "class CNN(nn.Module):\n",
    "    def __init__(\n",
    "        self,\n",
    "        n_in_channel=1,\n",
    "        activation=\"Relu\",\n",
    "        conv_dropout=0,\n",
    "        kernel_size=[3, 3, 3, 3, 3, 3],\n",
    "        padding=[1, 1, 1, 1, 1, 1],\n",
    "        stride=[1, 1, 1, 1, 1, 1],\n",
    "        nb_filters=[16, 32, 64, 128, 256, 256],\n",
    "        pooling=[(2, 2), (2, 2), (1, 2), (1, 2), (1, 2), (1, 2)],\n",
    "        normalization=\"batch\",\n",
    "        **transformer_kwargs\n",
    "    ):\n",
    "        \"\"\"\n",
    "            Initialization of CNN network s\n",
    "        \n",
    "        Args:\n",
    "            n_in_channel: int, number of input channel\n",
    "            activation: str, activation function\n",
    "            conv_dropout: float, dropout\n",
    "            kernel_size: kernel size\n",
    "            padding: padding\n",
    "            stride: list, stride\n",
    "            nb_filters: number of filters\n",
    "            pooling: list of tuples, time and frequency pooling\n",
    "            normalization: choose between \"batch\" for BatchNormalization and \"layer\" for LayerNormalization.\n",
    "        \"\"\"\n",
    "        super(CNN, self).__init__()\n",
    "\n",
    "        self.nb_filters = nb_filters\n",
    "        cnn = nn.Sequential()\n",
    "        self.avgpool = nn.AdaptiveAvgPool2d((1, 1))\n",
    "        self.fc1 = nn.Linear(264,132)\n",
    "        self.fc2 = nn.Linear(132,3)\n",
    "        self.fc_age = nn.Linear(6,3)\n",
    "        self.fc_sex = nn.Linear(2,1)\n",
    "        self.fc_hw = nn.Linear(2,1)\n",
    "        self.fc_preg = nn.Linear(2,1)\n",
    "        self.fc_loc = nn.Linear(5,2)\n",
    "        \n",
    "\n",
    "        def conv(i, normalization=\"batch\", dropout=None, activ=\"relu\"):\n",
    "            nIn = n_in_channel if i == 0 else nb_filters[i - 1]\n",
    "            nOut = nb_filters[i]\n",
    "            cnn.add_module(\n",
    "                \"conv{0}\".format(i),\n",
    "                nn.Conv2d(nIn, nOut, kernel_size[i], stride[i], padding[i]),\n",
    "            )\n",
    "            if normalization == \"batch\":\n",
    "                cnn.add_module(\n",
    "                    \"batchnorm{0}\".format(i),\n",
    "                    nn.BatchNorm2d(nOut, eps=0.001, momentum=0.99),\n",
    "                )\n",
    "            elif normalization == None:\n",
    "                pass\n",
    "                \n",
    "            elif normalization == \"layer\":\n",
    "                cnn.add_module(\"layernorm{0}\".format(i), nn.GroupNorm(1, nOut))\n",
    "\n",
    "            if activ.lower() == \"leakyrelu\":\n",
    "                cnn.add_module(\"relu{0}\".format(i), nn.LeakyReLU(0.2))\n",
    "            elif activ.lower() == \"relu\":\n",
    "                cnn.add_module(\"relu{0}\".format(i), nn.ReLU())\n",
    "            elif activ.lower() == \"glu\":\n",
    "                cnn.add_module(\"glu{0}\".format(i), GLU(nOut))\n",
    "            elif activ.lower() == \"cg\":\n",
    "                cnn.add_module(\"cg{0}\".format(i), ContextGating(nOut))\n",
    "\n",
    "            if dropout is not None:\n",
    "                cnn.add_module(\"dropout{0}\".format(i), nn.Dropout(dropout))\n",
    "            elif dropout is None:\n",
    "                pass\n",
    "\n",
    "        # 128x862x64\n",
    "        for i in range(len(nb_filters)):\n",
    "            conv(i, normalization=normalization, dropout=conv_dropout, activ=activation)\n",
    "            cnn.add_module(\n",
    "                \"pooling{0}\".format(i), nn.MaxPool2d(pooling[i])\n",
    "            )  # bs x tframe x mels\n",
    "\n",
    "        self.cnn = cnn\n",
    "\n",
    "    def forward(self, mel, age, sex, hw, preg, loc):\n",
    "        \"\"\"\n",
    "        Forward step of the CNN module\n",
    "        Args:\n",
    "            x (Tensor): input batch of size (batch_size, n_channels, n_frames, n_freq)\n",
    "        Returns:\n",
    "            Tensor: batch embedded\n",
    "        \"\"\"\n",
    "        # conv features\n",
    "        mel = mel.unsqueeze(1)\n",
    "        mel = self.cnn(mel)\n",
    "        mel = self.avgpool(mel)\n",
    "        mel = mel.view(mel.size(0), -1)\n",
    "#         print(mel.shape)\n",
    "        age = self.fc_age(age)\n",
    "#         print(age.shape)\n",
    "        sex = self.fc_sex(sex)\n",
    "#         print(sex.shape)\n",
    "        hw = self.fc_hw(hw)\n",
    "#         print(hw.shape)\n",
    "        preg = self.fc_preg(preg)\n",
    "#         print(preg.shape)\n",
    "        loc = self.fc_loc(loc)\n",
    "#         print(loc.shape)\n",
    "        x = torch.concat([mel,age,sex,hw,preg,loc],axis=1)\n",
    "#         print(x.shape)\n",
    "#         x = self.avgpool(x)\n",
    "#         x = x.view(x.size(0), -1)\n",
    "        x = self.fc1(x)\n",
    "        x =self.fc2(x)\n",
    "        return x"
   ]
  },
  {
   "cell_type": "code",
   "execution_count": 5,
   "id": "00679fdb",
   "metadata": {},
   "outputs": [],
   "source": [
    "import argparse, warnings, sys\n",
    "import torch\n",
    "\n",
    "sys.path.append('/home/jh20/narin/dcase/DESED_task')\n",
    "sys.path.append('/home/jh20/narin/dcase/DESED_task/recipes/dcase2022_task4_baseline')\n",
    "\n",
    "\n",
    "parser = argparse.ArgumentParser(description = \"HMD_trainer\")\n",
    "## Training Settings\n",
    "parser.add_argument('--train_data_folder',    default='/home/jh20/Data/nr_data/ECG/Physionet2022/physionet.org/files/circor-heart-sound/1.0.3/train/',     help='train data path')\n",
    "parser.add_argument('--valid_data_folder',    default='/home/jh20/Data/nr_data/ECG/Physionet2022/physionet.org/files/circor-heart-sound/1.0.3/validation/',     help='validation data path')\n",
    "parser.add_argument('--output_folder',    default='./output_folder',     help='output folder')\n",
    "parser.add_argument(\"--label_type\",default=\"murmur\", type=str, help=\"label type\")\n",
    "parser.add_argument(\"--lr\",default=1e-3, type=float, help=\"learning rate\")\n",
    "parser.add_argument(\"--minibatchsize_train\", default=64, type=int)\n",
    "parser.add_argument(\"--minibatchsize_valid\", default=1, type=int)\n",
    "parser.add_argument(\"--train_num_workers\", default=6, type=int, help=\"number of training workers\")\n",
    "parser.add_argument(\"--dev_num_workers\", default=1, type=int, help=\"number of validation workers\")\n",
    "parser.add_argument(\"--seed\", default=617, type=int)\n",
    "parser.add_argument(\"--model_path\", default='./hmd_CNN', type=str)\n",
    "parser.add_argument(\"--logdir\", default='./log_hmd/', type=str)\n",
    "parser.add_argument(\"--model_name\", default='hmd_CNN_model', type=str)\n",
    "parser.add_argument(\"--start_iter\", default=0, type=int)\n",
    "parser.add_argument(\"--end_iter\", default=200, type=int)\n",
    "parser.add_argument(\"--gpu\", default=\"0\", type=str)\n",
    "\n",
    "\n",
    "\n",
    "\n",
    "warnings.simplefilter(action='ignore', category=FutureWarning)\n",
    "warnings.filterwarnings('ignore')\n",
    "warnings.simplefilter(\"ignore\")\n",
    "torch.multiprocessing.set_sharing_strategy('file_system')\n",
    "args = parser.parse_args(args=[])"
   ]
  },
  {
   "cell_type": "code",
   "execution_count": 6,
   "id": "8b31f838",
   "metadata": {},
   "outputs": [],
   "source": [
    "from torch.utils.data import Dataset,DataLoader, RandomSampler\n",
    "import pandas as pd\n",
    "import numpy as np\n",
    "import sys\n",
    "sys.path.append(\"/home/jh20/narin/physionet/python-classifier-2022\")\n",
    "from helper_code import *\n",
    "import torchaudio\n",
    "import random\n",
    "import numpy as np\n",
    "import librosa\n",
    "import glob\n",
    "import math\n",
    "\n",
    "\n",
    "\n",
    "\n",
    "\n",
    "\n",
    "def read_recording(wav_fn, audio_length= 20, sr= 4000):\n",
    "\n",
    "    recording, frequency = load_wav_file(wav_fn)\n",
    "\n",
    "\n",
    "    length = audio_length*sr\n",
    "    if recording.shape[0] <= length:\n",
    "        shortage = length - recording.shape[0]\n",
    "        recording = np.pad(recording, (0, shortage), 'wrap')\n",
    "    start_frame = np.int64(random.random()*(recording.shape[0]-length))\n",
    "    recording = recording[start_frame:start_frame + length] \n",
    "\n",
    "    return recording\n",
    "\n",
    "\n",
    "\n",
    "class train_loader(Dataset):\n",
    "    def __init__(self,data_folder, **kwargs):\n",
    "        self.data_folder = data_folder\n",
    "        \n",
    "        self.wav_files = glob.glob(data_folder + '*.wav')\n",
    "        self.num_wav_files = len(self.wav_files)\n",
    "        \n",
    "        self.murmur_classes = ['Present', 'Unknown', 'Absent']\n",
    "        self.num_murmur_classes = len(self.murmur_classes)\n",
    "        self.outcome_classes = ['Abnormal', 'Normal']\n",
    "        self.num_outcome_classes = len(self.outcome_classes)\n",
    "        \n",
    "        self.age_classes = ['Neonate', 'Infant', 'Child', 'Adolescent', 'Young Adult']\n",
    "        self.recording_locations = ['AV', 'MV', 'PV', 'TV', 'PhC']\n",
    "\n",
    "        \n",
    "        \n",
    "        examples = {}\n",
    "        for filename in self.wav_files:\n",
    "            current_patient_id = filename.split('/')[-1].split('_')[0]\n",
    "            current_txt_file = self.data_folder + str(current_patient_id) + '.txt'\n",
    "            with open(current_txt_file, 'r') as f:\n",
    "                current_patient_data = f.read()\n",
    "            current_loc = filename.split('/')[-1].split('.')[0].split('_')[1]\n",
    "            if filename.split('/')[-1].split('.')[0]  not in examples.keys():\n",
    "                current_wav_data = filename.split('/')[-1].split('.')[0]\n",
    "                examples[current_wav_data] = {\n",
    "                    \"id\" : current_patient_id,\n",
    "                    \"txt_fn\" : current_txt_file,   #txt,\n",
    "                    \"wav_fn\" : filename,  #wav\n",
    "                    \"num_location\": get_num_locations(current_patient_data),\n",
    "                    \"frequency\" : get_frequency(current_patient_data),\n",
    "                    \"location\" : current_loc,\n",
    "                    \"age\" : get_age(current_patient_data),\n",
    "                    \"sex\" : get_sex(current_patient_data),\n",
    "                    \"height\" : get_height(current_patient_data),\n",
    "                    \"weight\" : get_weight(current_patient_data),\n",
    "                    \"pregnancy_status\" : get_pregnancy_status(current_patient_data),\n",
    "                    \"murmur\" : get_murmur(current_patient_data),\n",
    "                    \"outcome\" : get_outcome(current_patient_data)\n",
    "\n",
    "                }\n",
    "        self.examples = examples\n",
    "        self.examples_list = list(examples.keys())\n",
    "        \n",
    "        \n",
    "        if len(self.examples_list) != self.num_wav_files:\n",
    "            raise ValueError('length is different!')\n",
    "    def __len__(self):\n",
    "        return len(self.examples_list)\n",
    "    \n",
    "        \n",
    "    def __getitem__(self, index):\n",
    "        \n",
    "        # patient info\n",
    "        current_wav_dict = self.examples[self.examples_list[index]]\n",
    "        current_patient_data = load_patient_data(current_wav_dict[\"txt_fn\"])\n",
    "        current_recording = read_recording(current_wav_dict[\"wav_fn\"])\n",
    "        \n",
    "        #log mel feature\n",
    "        log_mel_feature = librosa.power_to_db(librosa.feature.melspectrogram(y = current_recording.astype(np.float32),\n",
    "                                                         sr= 4000,\n",
    "                                                         n_mels=128,\n",
    "                                                         n_fft=400, \n",
    "                                                         hop_length=128, \n",
    "                                                         win_length=400))\n",
    "        \n",
    "        # age\n",
    "        current_patient_age = current_wav_dict[\"age\"]\n",
    "        current_age_group = np.zeros(6, dtype=np.float32)\n",
    "        if current_patient_age in self.age_classes:\n",
    "            j = self.age_classes.index(current_patient_age)\n",
    "            current_age_group[j] = 1.0\n",
    "        else :\n",
    "            current_age_group[5] = 1.0\n",
    "            \n",
    "            \n",
    "        # sex\n",
    "        sex = current_wav_dict[\"sex\"]\n",
    "        sex_feature = np.zeros(2, dtype=np.float32)\n",
    "        if compare_strings(sex, 'Female'):\n",
    "            sex_feature[0] = 1.0\n",
    "        elif compare_strings(sex, 'Male'):\n",
    "            sex_feature[1] = 1.0\n",
    "            \n",
    "        # height and weight.\n",
    "        height = current_wav_dict[\"height\"]\n",
    "        weight = current_wav_dict[\"weight\"]\n",
    "        \n",
    "        ## simple impute\n",
    "        if math.isnan(height) :\n",
    "            height = 110.846  #mean\n",
    "        if math.isnan(weight) :\n",
    "            weight = 23.767   #mean\n",
    "            \n",
    "        height_weight = np.array([height, weight], dtype=np.float32)\n",
    "        \n",
    "        \n",
    "        # Extract pregnancy\n",
    "        preg_feature = np.zeros(2, dtype=np.float32)\n",
    "        is_pregnant = current_wav_dict[\"pregnancy_status\"]\n",
    "        if is_pregnant == True:\n",
    "            preg_feature[0] = 1.0\n",
    "        elif is_pregnant == False:\n",
    "            preg_feature[1] = 1.0\n",
    "\n",
    "        # Extract location\n",
    "        location = current_wav_dict[\"location\"]\n",
    "        num_recording_locations = len(self.recording_locations)\n",
    "        loc_feature = np.zeros(num_recording_locations, dtype=np.float32)\n",
    "        if location in self.recording_locations:\n",
    "            j = self.recording_locations.index(location)\n",
    "            loc_feature[j] = 1.0\n",
    "\n",
    "\n",
    "        \n",
    "\n",
    "        # label\n",
    "        \n",
    "        current_murmur = np.zeros(self.num_murmur_classes, dtype=np.float32)\n",
    "        murmur = get_murmur(current_patient_data)\n",
    "        if murmur in self.murmur_classes:\n",
    "            j = self.murmur_classes.index(murmur)\n",
    "            current_murmur[j] = 1\n",
    "\n",
    "\n",
    "        current_outcome = np.zeros(self.num_outcome_classes, dtype=np.float32)\n",
    "        outcome = get_outcome(current_patient_data)\n",
    "        if outcome in self.outcome_classes:\n",
    "            j = self.outcome_classes.index(outcome)\n",
    "            current_outcome[j] = 1\n",
    "            \n",
    "\n",
    "\n",
    "        \n",
    "        return log_mel_feature, current_age_group, sex_feature, height_weight, preg_feature, loc_feature, current_murmur, current_outcome\n"
   ]
  },
  {
   "cell_type": "code",
   "execution_count": 13,
   "id": "fcca1e3c",
   "metadata": {},
   "outputs": [],
   "source": [
    "def train_challenge_model(data_folder, model_folder, verbose):\n",
    "    # Find data files.\n",
    "    if verbose >= 1:\n",
    "        print('Finding data files...')\n",
    "    device = torch.device('cuda' if torch.cuda.is_available() else 'cpu')\n",
    "    print ('Available devices ', torch.cuda.device_count())\n",
    "        \n",
    "    GPU_NUM = args.gpu # 원하는 GPU 번호 입력\n",
    "    device = torch.device(f'cuda:{GPU_NUM}' if torch.cuda.is_available() else 'cpu')\n",
    "    torch.cuda.set_device(device) # change allocation of current GPU\n",
    "\n",
    "    # Find the patient data files.\n",
    "    patient_files = find_patient_files(data_folder)\n",
    "    num_patient_files = len(patient_files)\n",
    "\n",
    "    if num_patient_files==0:\n",
    "        raise Exception('No data was provided.')\n",
    "\n",
    "    # Create a folder for the model if it does not already exist.\n",
    "    os.makedirs(model_folder, exist_ok=True)\n",
    "    os.makedirs(args.logdir, exist_ok=True)\n",
    "\n",
    "    open(args.logdir + 'score.txt', \"a+\")\n",
    "    score_file = open(args.logdir + 'score.txt', \"a+\")\n",
    "    \n",
    "    \n",
    "    model_folder = model_folder\n",
    "    log_dir = args.logdir\n",
    "    logger = get_logger(log_dir + '/' + model_folder)\n",
    "    \n",
    "    # Define the model\n",
    "    cnn = CNN()\n",
    "    cnn = cnn.cuda(device)\n",
    "    \n",
    "    # Define the metrics\n",
    "    accuracy = Accuracy(num_classes=3, multiclass=True)\n",
    "    f1 = F1(num_classes=3,average='macro', multiclass=True)\n",
    "    \n",
    "    # optimizer, loss\n",
    "    opt = torch.optim.Adam(cnn.parameters(), lr=args.lr, betas=(0.9, 0.999))\n",
    "    scheduler = torch.optim.lr_scheduler.ExponentialLR(opt, 0.91)\n",
    "    criterion = torch.nn.CrossEntropyLoss()\n",
    "    \n",
    "    \n",
    "    #data loader\n",
    "    trainset = train_loader(data_folder)\n",
    "    validset = train_loader(args.valid_data_folder)\n",
    "    point_sampler = RandomSampler(trainset)\n",
    "    \n",
    "    dataloader_train = DataLoader(dataset=trainset,\n",
    "                        batch_size=args.minibatchsize_train,\n",
    "                               sampler =point_sampler,\n",
    "                               num_workers=args.train_num_workers)\n",
    "    dataloader_valid = DataLoader(dataset=validset,\n",
    "                        batch_size=args.minibatchsize_valid,\n",
    "                               num_workers=args.dev_num_workers)\n",
    "    \n",
    "    # Train the model.\n",
    "    if verbose >= 1:\n",
    "        print('Training model...')\n",
    "        \n",
    "    murmur_classes = ['Present', 'Unknown', 'Absent']\n",
    "    outcome_classes = ['Abnormal', 'Normal']\n",
    "    if args.label_type=='murmur':\n",
    "        classes =  murmur_classes \n",
    "    elif args.label_type =='outcome':\n",
    "        classes = outcome_classes\n",
    "    \n",
    "    \n",
    "        \n",
    "    all_file_train = len(trainset)\n",
    "    dataloader_train_len = len(dataloader_train)\n",
    "    output_preds_labels_train = torch.empty((all_file_train,))\n",
    "    output_preds_probs_train = torch.empty((all_file_train,3))\n",
    "    output_gt_labels_train = torch.empty((all_file_train,))\n",
    "\n",
    "    for iter_ in range(args.end_iter):\n",
    "        start_time = time.time()\n",
    "        running_loss = 0.0\n",
    "        idx = 0\n",
    "        cnn.train()\n",
    "        for log_mel_feature, current_age_group, sex_feature, height_weight, preg_feature, loc_feature, current_murmur, current_outcome in tqdm.tqdm(dataloader_train):\n",
    "            log_mel_feature = log_mel_feature.cuda()\n",
    "            current_age_group = current_age_group.cuda()\n",
    "            sex_feature = sex_feature.cuda()\n",
    "            height_weight = height_weight.cuda()\n",
    "            preg_feature = preg_feature.cuda()\n",
    "            loc_feature = loc_feature.cuda()\n",
    "            current_murmur = current_murmur.cuda()\n",
    "            current_outcome = current_outcome.cuda()\n",
    "\n",
    "\n",
    "\n",
    "\n",
    "            output_train = cnn(log_mel_feature,current_age_group,sex_feature,height_weight, preg_feature,loc_feature)\n",
    "            loss = criterion(output_train, current_murmur)\n",
    "\n",
    "\n",
    "\n",
    "            output_probs_train = F.log_softmax(output_train, dim=1)\n",
    "\n",
    "            _, output_label_argmax = torch.max(output_probs_train, dim=1)\n",
    "\n",
    "\n",
    "            output_label_argmax = output_label_argmax.data.detach().cpu()\n",
    "\n",
    "            output_preds_labels_train[idx*args.minibatchsize_train:(idx+1)*args.minibatchsize_train]= output_label_argmax  #murmur 예측 레이블 (0,1,2)\n",
    "\n",
    "            output_preds_probs_train[idx*args.minibatchsize_train:(idx+1)*args.minibatchsize_train,:] = output_probs_train\n",
    "            \n",
    "            \n",
    "\n",
    "            _, murmur_label_argmax = torch.max(current_murmur.data, dim=1)  #murmur groud truth (0,1,2)\n",
    "\n",
    "            output_gt_labels_train[idx*args.minibatchsize_train:(idx+1)*args.minibatchsize_train] = murmur_label_argmax.data.detach().cpu()\n",
    "\n",
    "\n",
    "\n",
    "            idx +=1              \n",
    "\n",
    "            opt.zero_grad()\n",
    "            loss.backward()\n",
    "            opt.step()\n",
    "\n",
    "            running_loss += loss.item()\n",
    "\n",
    "        train_f1 = f1(preds = torch.tensor(output_preds_labels_train, dtype=torch.int32), target = torch.tensor(output_gt_labels_train, dtype=torch.int32))\n",
    "        train_acc = accuracy(preds = torch.tensor(output_preds_labels_train, dtype=torch.int32), target = torch.tensor(output_gt_labels_train, dtype=torch.int32))\n",
    "        \n",
    "\n",
    "        scheduler.step()\n",
    "        print(\"lr: \", opt.param_groups[0]['lr'])\n",
    "        logger.info(\"Iteration:{0}, train loss = {1:.6f} ,train F1 = {2:.6f} ,train ACC = {3:.6f} \".format(iter_, \n",
    "                     running_loss/dataloader_train_len,train_f1,train_acc))\n",
    "\n",
    "        # eval\n",
    "        all_file_valid = len(validset)\n",
    "        dataloader_valid_len = len(dataloader_valid)\n",
    "        cnn.eval()\n",
    "        \n",
    "        with torch.no_grad():\n",
    "            running_loss_dev = 0.0\n",
    "            index = 0\n",
    "            output_preds_labels_dev = torch.empty((all_file_valid,))\n",
    "            output_preds_labels_onehot_dev = torch.zeros((all_file_valid,3))\n",
    "            output_preds_probs_dev = torch.empty((all_file_valid,3))\n",
    "            output_gt_labels_dev= torch.empty((all_file_valid,))\n",
    "            output_gt_labels_onehot_dev = torch.empty((all_file_valid,3))\n",
    "            for log_mel_feature, current_age_group, sex_feature, height_weight, preg_feature, loc_feature, current_murmur, current_outcome in tqdm.tqdm(dataloader_valid):\n",
    "                log_mel_feature_dev = log_mel_feature.cuda()\n",
    "                current_age_group_dev = current_age_group.cuda()\n",
    "                sex_feature_dev = sex_feature.cuda()\n",
    "                height_weight_dev = height_weight.cuda()\n",
    "                preg_feature_dev = preg_feature.cuda()\n",
    "                loc_feature_dev = loc_feature.cuda()\n",
    "                current_murmur_dev = current_murmur.cuda()\n",
    "                current_outcome_dev = current_outcome.cuda()\n",
    "\n",
    "\n",
    "                output_dev = cnn(log_mel_feature_dev,current_age_group_dev,sex_feature_dev,height_weight_dev,preg_feature_dev,loc_feature_dev)\n",
    "                loss_dev = criterion(output_dev, current_murmur_dev)                   \n",
    "                running_loss_dev += loss_dev.item()\n",
    "\n",
    "\n",
    "\n",
    "\n",
    "                output_probs_dev = F.log_softmax(output_dev, dim=1)\n",
    "\n",
    "                _, output_label_argmax_dev = torch.max(output_probs_dev, dim=1)\n",
    "                \n",
    "                output_preds_labels_onehot_dev[index,output_label_argmax_dev]=1\n",
    "\n",
    "\n",
    "                output_label_argmax_dev = output_label_argmax_dev.data.detach().cpu()\n",
    "\n",
    "                output_preds_labels_dev[index*args.minibatchsize_valid:(index+1)*args.minibatchsize_valid]= output_label_argmax_dev  #murmur 예측 레이블 (0,1,2)\n",
    "\n",
    "                output_preds_probs_dev[index*args.minibatchsize_valid:(index+1)*args.minibatchsize_valid,:] = output_probs_dev\n",
    "\n",
    "                _, murmur_label_argmax_dev = torch.max(current_murmur_dev.data, dim=1)  #murmur groud truth (0,1,2)\n",
    "\n",
    "                output_gt_labels_dev[index*args.minibatchsize_valid:(index+1)*args.minibatchsize_valid] = murmur_label_argmax_dev\n",
    "                \n",
    "                output_gt_labels_onehot_dev[index*args.minibatchsize_valid:(index+1)*args.minibatchsize_valid] = current_murmur_dev\n",
    "\n",
    "                index = index+1   \n",
    "                \n",
    "            \n",
    "            \n",
    "            outputs = output_preds_labels_onehot_dev.data.detach().cpu().numpy()\n",
    "            labels = output_gt_labels_onehot_dev.data.detach().cpu().numpy()\n",
    "\n",
    "\n",
    "            dev_f1 = f1(preds = torch.tensor(output_preds_labels_dev, dtype=torch.int32), target = torch.tensor(output_gt_labels_dev, dtype=torch.int32))\n",
    "            dev_acc = accuracy(preds = torch.tensor(output_preds_labels_dev, dtype=torch.int32),target =  torch.tensor(output_gt_labels_dev, dtype=torch.int32))\n",
    "            weighted_acc = compute_weighted_accuracy(labels, outputs, classes)\n",
    "\n",
    "            \n",
    "\n",
    "\n",
    "\n",
    "        logger.info(\"valid Epoch:%d, Train loss=%.4f, Valid loss=%.4f,Valid F1=%.4f,Valid ACC=%.4f, Valid weighted acc=%.4f\" %( iter_,\n",
    "                running_loss/dataloader_train_len, running_loss_dev/dataloader_valid_len, dev_f1, dev_acc,weighted_acc ))\n",
    "        score_file.write(\"%d epoch, VALID LOSS %f, VALID F1 %2.2f%% VALID ACC %2.2f%% VALID WEIGHTED ACC%2.2f%%\\n\"%(iter_, \n",
    "                                running_loss_dev/dataloader_valid_len, dev_f1, dev_acc,weighted_acc ))\n",
    "        score_file.flush()\n",
    "\n",
    "        torch.save(cnn.state_dict(), os.path.join(model_folder, \"{}_{}.model\".format(args.model_name, iter_)))\n",
    "\n",
    "        end_time = time.time()\n",
    "        logger.info(\"Time used for each epoch training: {} seconds.\".format(end_time - start_time))\n",
    "        logger.info(\"*\" * 50)\n",
    "\n",
    "\n",
    "    if verbose >= 1:\n",
    "        print('Done.')"
   ]
  },
  {
   "cell_type": "code",
   "execution_count": 14,
   "id": "754f651c",
   "metadata": {},
   "outputs": [
    {
     "name": "stderr",
     "output_type": "stream",
     "text": [
      "\r",
      "  0%|                                                    | 0/40 [00:00<?, ?it/s]"
     ]
    },
    {
     "name": "stdout",
     "output_type": "stream",
     "text": [
      "Finding data files...\n",
      "Available devices  1\n",
      "Training model...\n"
     ]
    },
    {
     "name": "stderr",
     "output_type": "stream",
     "text": [
      "100%|███████████████████████████████████████████| 40/40 [00:15<00:00,  2.51it/s]"
     ]
    },
    {
     "name": "stdout",
     "output_type": "stream",
     "text": [
      "lr:  0.00091\n",
      "07-28 23:51 [MainProcess, 3068] [INFO ]  Iteration:0, train loss = 0.643706 ,train F1 = 0.407393 ,train ACC = 0.767772 \n",
      "07-28 23:51 [MainProcess, 3068] [INFO ]  Iteration:0, train loss = 0.643706 ,train F1 = 0.407393 ,train ACC = 0.767772 \n",
      "07-28 23:51 [MainProcess, 3068] [INFO ]  Iteration:0, train loss = 0.643706 ,train F1 = 0.407393 ,train ACC = 0.767772 \n"
     ]
    },
    {
     "name": "stderr",
     "output_type": "stream",
     "text": [
      "\n",
      "100%|████████████████████████████████████████| 631/631 [00:05<00:00, 112.89it/s]"
     ]
    },
    {
     "name": "stdout",
     "output_type": "stream",
     "text": [
      "07-28 23:51 [MainProcess, 3068] [INFO ]  valid Epoch:0, Train loss=0.6437, Valid loss=0.6031,Valid F1=0.4151,Valid ACC=0.7829, Valid weighted acc=0.5135\n",
      "07-28 23:51 [MainProcess, 3068] [INFO ]  valid Epoch:0, Train loss=0.6437, Valid loss=0.6031,Valid F1=0.4151,Valid ACC=0.7829, Valid weighted acc=0.5135\n",
      "07-28 23:51 [MainProcess, 3068] [INFO ]  valid Epoch:0, Train loss=0.6437, Valid loss=0.6031,Valid F1=0.4151,Valid ACC=0.7829, Valid weighted acc=0.5135\n",
      "07-28 23:51 [MainProcess, 3068] [INFO ]  Time used for each epoch training: 21.562360048294067 seconds.\n",
      "07-28 23:51 [MainProcess, 3068] [INFO ]  Time used for each epoch training: 21.562360048294067 seconds.\n",
      "07-28 23:51 [MainProcess, 3068] [INFO ]  Time used for each epoch training: 21.562360048294067 seconds.\n",
      "07-28 23:51 [MainProcess, 3068] [INFO ]  **************************************************\n",
      "07-28 23:51 [MainProcess, 3068] [INFO ]  **************************************************\n",
      "07-28 23:51 [MainProcess, 3068] [INFO ]  **************************************************\n"
     ]
    },
    {
     "name": "stderr",
     "output_type": "stream",
     "text": [
      "\n",
      "100%|███████████████████████████████████████████| 40/40 [00:17<00:00,  2.29it/s]"
     ]
    },
    {
     "name": "stdout",
     "output_type": "stream",
     "text": [
      "lr:  0.0008281\n",
      "07-28 23:52 [MainProcess, 3068] [INFO ]  Iteration:1, train loss = 0.535279 ,train F1 = 0.497486 ,train ACC = 0.819510 \n",
      "07-28 23:52 [MainProcess, 3068] [INFO ]  Iteration:1, train loss = 0.535279 ,train F1 = 0.497486 ,train ACC = 0.819510 \n",
      "07-28 23:52 [MainProcess, 3068] [INFO ]  Iteration:1, train loss = 0.535279 ,train F1 = 0.497486 ,train ACC = 0.819510 \n"
     ]
    },
    {
     "name": "stderr",
     "output_type": "stream",
     "text": [
      "\n",
      "100%|████████████████████████████████████████| 631/631 [00:05<00:00, 110.22it/s]"
     ]
    },
    {
     "name": "stdout",
     "output_type": "stream",
     "text": [
      "07-28 23:52 [MainProcess, 3068] [INFO ]  valid Epoch:1, Train loss=0.5353, Valid loss=0.5186,Valid F1=0.4951,Valid ACC=0.8273, Valid weighted acc=0.6251\n",
      "07-28 23:52 [MainProcess, 3068] [INFO ]  valid Epoch:1, Train loss=0.5353, Valid loss=0.5186,Valid F1=0.4951,Valid ACC=0.8273, Valid weighted acc=0.6251\n",
      "07-28 23:52 [MainProcess, 3068] [INFO ]  valid Epoch:1, Train loss=0.5353, Valid loss=0.5186,Valid F1=0.4951,Valid ACC=0.8273, Valid weighted acc=0.6251\n",
      "07-28 23:52 [MainProcess, 3068] [INFO ]  Time used for each epoch training: 23.247626543045044 seconds.\n",
      "07-28 23:52 [MainProcess, 3068] [INFO ]  Time used for each epoch training: 23.247626543045044 seconds.\n",
      "07-28 23:52 [MainProcess, 3068] [INFO ]  Time used for each epoch training: 23.247626543045044 seconds.\n",
      "07-28 23:52 [MainProcess, 3068] [INFO ]  **************************************************\n",
      "07-28 23:52 [MainProcess, 3068] [INFO ]  **************************************************\n",
      "07-28 23:52 [MainProcess, 3068] [INFO ]  **************************************************\n"
     ]
    },
    {
     "name": "stderr",
     "output_type": "stream",
     "text": [
      "\n",
      "100%|███████████████████████████████████████████| 40/40 [00:17<00:00,  2.24it/s]"
     ]
    },
    {
     "name": "stdout",
     "output_type": "stream",
     "text": [
      "lr:  0.0007535710000000001\n",
      "07-28 23:52 [MainProcess, 3068] [INFO ]  Iteration:2, train loss = 0.511117 ,train F1 = 0.507771 ,train ACC = 0.834123 \n",
      "07-28 23:52 [MainProcess, 3068] [INFO ]  Iteration:2, train loss = 0.511117 ,train F1 = 0.507771 ,train ACC = 0.834123 \n",
      "07-28 23:52 [MainProcess, 3068] [INFO ]  Iteration:2, train loss = 0.511117 ,train F1 = 0.507771 ,train ACC = 0.834123 \n"
     ]
    },
    {
     "name": "stderr",
     "output_type": "stream",
     "text": [
      "\n",
      "100%|████████████████████████████████████████| 631/631 [00:05<00:00, 109.06it/s]"
     ]
    },
    {
     "name": "stdout",
     "output_type": "stream",
     "text": [
      "07-28 23:52 [MainProcess, 3068] [INFO ]  valid Epoch:2, Train loss=0.5111, Valid loss=0.5377,Valid F1=0.4800,Valid ACC=0.8051, Valid weighted acc=0.6202\n",
      "07-28 23:52 [MainProcess, 3068] [INFO ]  valid Epoch:2, Train loss=0.5111, Valid loss=0.5377,Valid F1=0.4800,Valid ACC=0.8051, Valid weighted acc=0.6202\n",
      "07-28 23:52 [MainProcess, 3068] [INFO ]  valid Epoch:2, Train loss=0.5111, Valid loss=0.5377,Valid F1=0.4800,Valid ACC=0.8051, Valid weighted acc=0.6202\n",
      "07-28 23:52 [MainProcess, 3068] [INFO ]  Time used for each epoch training: 23.69180154800415 seconds.\n",
      "07-28 23:52 [MainProcess, 3068] [INFO ]  Time used for each epoch training: 23.69180154800415 seconds.\n",
      "07-28 23:52 [MainProcess, 3068] [INFO ]  Time used for each epoch training: 23.69180154800415 seconds.\n",
      "07-28 23:52 [MainProcess, 3068] [INFO ]  **************************************************\n",
      "07-28 23:52 [MainProcess, 3068] [INFO ]  **************************************************\n",
      "07-28 23:52 [MainProcess, 3068] [INFO ]  **************************************************\n"
     ]
    },
    {
     "name": "stderr",
     "output_type": "stream",
     "text": [
      "\n",
      "100%|███████████████████████████████████████████| 40/40 [00:17<00:00,  2.30it/s]"
     ]
    },
    {
     "name": "stdout",
     "output_type": "stream",
     "text": [
      "lr:  0.0006857496100000001\n",
      "07-28 23:52 [MainProcess, 3068] [INFO ]  Iteration:3, train loss = 0.485470 ,train F1 = 0.530513 ,train ACC = 0.836888 \n",
      "07-28 23:52 [MainProcess, 3068] [INFO ]  Iteration:3, train loss = 0.485470 ,train F1 = 0.530513 ,train ACC = 0.836888 \n",
      "07-28 23:52 [MainProcess, 3068] [INFO ]  Iteration:3, train loss = 0.485470 ,train F1 = 0.530513 ,train ACC = 0.836888 \n"
     ]
    },
    {
     "name": "stderr",
     "output_type": "stream",
     "text": [
      "\n",
      "100%|█████████████████████████████████████████| 631/631 [00:06<00:00, 99.48it/s]\n"
     ]
    },
    {
     "name": "stdout",
     "output_type": "stream",
     "text": [
      "07-28 23:53 [MainProcess, 3068] [INFO ]  valid Epoch:3, Train loss=0.4855, Valid loss=0.5125,Valid F1=0.4912,Valid ACC=0.8241, Valid weighted acc=0.6169\n",
      "07-28 23:53 [MainProcess, 3068] [INFO ]  valid Epoch:3, Train loss=0.4855, Valid loss=0.5125,Valid F1=0.4912,Valid ACC=0.8241, Valid weighted acc=0.6169\n",
      "07-28 23:53 [MainProcess, 3068] [INFO ]  valid Epoch:3, Train loss=0.4855, Valid loss=0.5125,Valid F1=0.4912,Valid ACC=0.8241, Valid weighted acc=0.6169\n",
      "07-28 23:53 [MainProcess, 3068] [INFO ]  Time used for each epoch training: 23.73085331916809 seconds.\n",
      "07-28 23:53 [MainProcess, 3068] [INFO ]  Time used for each epoch training: 23.73085331916809 seconds.\n",
      "07-28 23:53 [MainProcess, 3068] [INFO ]  Time used for each epoch training: 23.73085331916809 seconds.\n",
      "07-28 23:53 [MainProcess, 3068] [INFO ]  **************************************************\n",
      "07-28 23:53 [MainProcess, 3068] [INFO ]  **************************************************\n",
      "07-28 23:53 [MainProcess, 3068] [INFO ]  **************************************************\n"
     ]
    },
    {
     "name": "stderr",
     "output_type": "stream",
     "text": [
      "100%|███████████████████████████████████████████| 40/40 [00:17<00:00,  2.24it/s]"
     ]
    },
    {
     "name": "stdout",
     "output_type": "stream",
     "text": [
      "lr:  0.0006240321451000001\n",
      "07-28 23:53 [MainProcess, 3068] [INFO ]  Iteration:4, train loss = 0.454931 ,train F1 = 0.550947 ,train ACC = 0.846761 \n",
      "07-28 23:53 [MainProcess, 3068] [INFO ]  Iteration:4, train loss = 0.454931 ,train F1 = 0.550947 ,train ACC = 0.846761 \n",
      "07-28 23:53 [MainProcess, 3068] [INFO ]  Iteration:4, train loss = 0.454931 ,train F1 = 0.550947 ,train ACC = 0.846761 \n"
     ]
    },
    {
     "name": "stderr",
     "output_type": "stream",
     "text": [
      "\n",
      "100%|████████████████████████████████████████| 631/631 [00:06<00:00, 101.18it/s]"
     ]
    },
    {
     "name": "stdout",
     "output_type": "stream",
     "text": [
      "07-28 23:53 [MainProcess, 3068] [INFO ]  valid Epoch:4, Train loss=0.4549, Valid loss=0.5522,Valid F1=0.4925,Valid ACC=0.8241, Valid weighted acc=0.6202\n",
      "07-28 23:53 [MainProcess, 3068] [INFO ]  valid Epoch:4, Train loss=0.4549, Valid loss=0.5522,Valid F1=0.4925,Valid ACC=0.8241, Valid weighted acc=0.6202\n",
      "07-28 23:53 [MainProcess, 3068] [INFO ]  valid Epoch:4, Train loss=0.4549, Valid loss=0.5522,Valid F1=0.4925,Valid ACC=0.8241, Valid weighted acc=0.6202\n",
      "07-28 23:53 [MainProcess, 3068] [INFO ]  Time used for each epoch training: 24.1469304561615 seconds.\n",
      "07-28 23:53 [MainProcess, 3068] [INFO ]  Time used for each epoch training: 24.1469304561615 seconds.\n",
      "07-28 23:53 [MainProcess, 3068] [INFO ]  Time used for each epoch training: 24.1469304561615 seconds.\n",
      "07-28 23:53 [MainProcess, 3068] [INFO ]  **************************************************\n",
      "07-28 23:53 [MainProcess, 3068] [INFO ]  **************************************************\n",
      "07-28 23:53 [MainProcess, 3068] [INFO ]  **************************************************\n"
     ]
    },
    {
     "name": "stderr",
     "output_type": "stream",
     "text": [
      "\n",
      "100%|███████████████████████████████████████████| 40/40 [00:17<00:00,  2.28it/s]"
     ]
    },
    {
     "name": "stdout",
     "output_type": "stream",
     "text": [
      "lr:  0.0005678692520410001\n",
      "07-28 23:53 [MainProcess, 3068] [INFO ]  Iteration:5, train loss = 0.433930 ,train F1 = 0.549026 ,train ACC = 0.859795 \n",
      "07-28 23:53 [MainProcess, 3068] [INFO ]  Iteration:5, train loss = 0.433930 ,train F1 = 0.549026 ,train ACC = 0.859795 \n",
      "07-28 23:53 [MainProcess, 3068] [INFO ]  Iteration:5, train loss = 0.433930 ,train F1 = 0.549026 ,train ACC = 0.859795 \n"
     ]
    },
    {
     "name": "stderr",
     "output_type": "stream",
     "text": [
      "\n",
      "100%|████████████████████████████████████████| 631/631 [00:05<00:00, 110.49it/s]"
     ]
    },
    {
     "name": "stdout",
     "output_type": "stream",
     "text": [
      "07-28 23:53 [MainProcess, 3068] [INFO ]  valid Epoch:5, Train loss=0.4339, Valid loss=0.4439,Valid F1=0.5322,Valid ACC=0.8384, Valid weighted acc=0.7227\n",
      "07-28 23:53 [MainProcess, 3068] [INFO ]  valid Epoch:5, Train loss=0.4339, Valid loss=0.4439,Valid F1=0.5322,Valid ACC=0.8384, Valid weighted acc=0.7227\n",
      "07-28 23:53 [MainProcess, 3068] [INFO ]  valid Epoch:5, Train loss=0.4339, Valid loss=0.4439,Valid F1=0.5322,Valid ACC=0.8384, Valid weighted acc=0.7227\n",
      "07-28 23:53 [MainProcess, 3068] [INFO ]  Time used for each epoch training: 23.31063961982727 seconds.\n",
      "07-28 23:53 [MainProcess, 3068] [INFO ]  Time used for each epoch training: 23.31063961982727 seconds.\n",
      "07-28 23:53 [MainProcess, 3068] [INFO ]  Time used for each epoch training: 23.31063961982727 seconds.\n",
      "07-28 23:53 [MainProcess, 3068] [INFO ]  **************************************************\n",
      "07-28 23:53 [MainProcess, 3068] [INFO ]  **************************************************\n",
      "07-28 23:53 [MainProcess, 3068] [INFO ]  **************************************************\n"
     ]
    },
    {
     "name": "stderr",
     "output_type": "stream",
     "text": [
      "\n",
      "100%|███████████████████████████████████████████| 40/40 [00:17<00:00,  2.23it/s]"
     ]
    },
    {
     "name": "stdout",
     "output_type": "stream",
     "text": [
      "lr:  0.00051676101935731\n",
      "07-28 23:54 [MainProcess, 3068] [INFO ]  Iteration:6, train loss = 0.430945 ,train F1 = 0.538213 ,train ACC = 0.855845 \n",
      "07-28 23:54 [MainProcess, 3068] [INFO ]  Iteration:6, train loss = 0.430945 ,train F1 = 0.538213 ,train ACC = 0.855845 \n",
      "07-28 23:54 [MainProcess, 3068] [INFO ]  Iteration:6, train loss = 0.430945 ,train F1 = 0.538213 ,train ACC = 0.855845 \n"
     ]
    },
    {
     "name": "stderr",
     "output_type": "stream",
     "text": [
      "\n",
      "100%|████████████████████████████████████████| 631/631 [00:06<00:00, 101.28it/s]"
     ]
    },
    {
     "name": "stdout",
     "output_type": "stream",
     "text": [
      "07-28 23:54 [MainProcess, 3068] [INFO ]  valid Epoch:6, Train loss=0.4309, Valid loss=0.4352,Valid F1=0.5329,Valid ACC=0.8494, Valid weighted acc=0.6858\n",
      "07-28 23:54 [MainProcess, 3068] [INFO ]  valid Epoch:6, Train loss=0.4309, Valid loss=0.4352,Valid F1=0.5329,Valid ACC=0.8494, Valid weighted acc=0.6858\n",
      "07-28 23:54 [MainProcess, 3068] [INFO ]  valid Epoch:6, Train loss=0.4309, Valid loss=0.4352,Valid F1=0.5329,Valid ACC=0.8494, Valid weighted acc=0.6858\n",
      "07-28 23:54 [MainProcess, 3068] [INFO ]  Time used for each epoch training: 24.222013473510742 seconds.\n",
      "07-28 23:54 [MainProcess, 3068] [INFO ]  Time used for each epoch training: 24.222013473510742 seconds.\n",
      "07-28 23:54 [MainProcess, 3068] [INFO ]  Time used for each epoch training: 24.222013473510742 seconds.\n",
      "07-28 23:54 [MainProcess, 3068] [INFO ]  **************************************************\n",
      "07-28 23:54 [MainProcess, 3068] [INFO ]  **************************************************\n"
     ]
    },
    {
     "name": "stderr",
     "output_type": "stream",
     "text": [
      "\n"
     ]
    },
    {
     "name": "stdout",
     "output_type": "stream",
     "text": [
      "07-28 23:54 [MainProcess, 3068] [INFO ]  **************************************************\n"
     ]
    },
    {
     "name": "stderr",
     "output_type": "stream",
     "text": [
      "100%|███████████████████████████████████████████| 40/40 [00:15<00:00,  2.56it/s]"
     ]
    },
    {
     "name": "stdout",
     "output_type": "stream",
     "text": [
      "lr:  0.00047025252761515214\n",
      "07-28 23:54 [MainProcess, 3068] [INFO ]  Iteration:7, train loss = 0.393885 ,train F1 = 0.561115 ,train ACC = 0.870063 \n",
      "07-28 23:54 [MainProcess, 3068] [INFO ]  Iteration:7, train loss = 0.393885 ,train F1 = 0.561115 ,train ACC = 0.870063 \n",
      "07-28 23:54 [MainProcess, 3068] [INFO ]  Iteration:7, train loss = 0.393885 ,train F1 = 0.561115 ,train ACC = 0.870063 \n"
     ]
    },
    {
     "name": "stderr",
     "output_type": "stream",
     "text": [
      "\n",
      "100%|█████████████████████████████████████████| 631/631 [00:06<00:00, 93.73it/s]"
     ]
    },
    {
     "name": "stdout",
     "output_type": "stream",
     "text": [
      "07-28 23:54 [MainProcess, 3068] [INFO ]  valid Epoch:7, Train loss=0.3939, Valid loss=0.4349,Valid F1=0.5414,Valid ACC=0.8542, Valid weighted acc=0.7112\n",
      "07-28 23:54 [MainProcess, 3068] [INFO ]  valid Epoch:7, Train loss=0.3939, Valid loss=0.4349,Valid F1=0.5414,Valid ACC=0.8542, Valid weighted acc=0.7112\n",
      "07-28 23:54 [MainProcess, 3068] [INFO ]  valid Epoch:7, Train loss=0.3939, Valid loss=0.4349,Valid F1=0.5414,Valid ACC=0.8542, Valid weighted acc=0.7112\n",
      "07-28 23:54 [MainProcess, 3068] [INFO ]  Time used for each epoch training: 22.401991367340088 seconds.\n",
      "07-28 23:54 [MainProcess, 3068] [INFO ]  Time used for each epoch training: 22.401991367340088 seconds.\n",
      "07-28 23:54 [MainProcess, 3068] [INFO ]  Time used for each epoch training: 22.401991367340088 seconds.\n",
      "07-28 23:54 [MainProcess, 3068] [INFO ]  **************************************************\n",
      "07-28 23:54 [MainProcess, 3068] [INFO ]  **************************************************\n",
      "07-28 23:54 [MainProcess, 3068] [INFO ]  **************************************************\n"
     ]
    },
    {
     "name": "stderr",
     "output_type": "stream",
     "text": [
      "\n",
      "100%|███████████████████████████████████████████| 40/40 [00:17<00:00,  2.33it/s]"
     ]
    },
    {
     "name": "stdout",
     "output_type": "stream",
     "text": [
      "lr:  0.00042792980012978845\n",
      "07-28 23:54 [MainProcess, 3068] [INFO ]  Iteration:8, train loss = 0.376016 ,train F1 = 0.584254 ,train ACC = 0.868878 \n",
      "07-28 23:54 [MainProcess, 3068] [INFO ]  Iteration:8, train loss = 0.376016 ,train F1 = 0.584254 ,train ACC = 0.868878 \n",
      "07-28 23:54 [MainProcess, 3068] [INFO ]  Iteration:8, train loss = 0.376016 ,train F1 = 0.584254 ,train ACC = 0.868878 \n"
     ]
    },
    {
     "name": "stderr",
     "output_type": "stream",
     "text": [
      "\n",
      "100%|████████████████████████████████████████| 631/631 [00:05<00:00, 118.94it/s]"
     ]
    },
    {
     "name": "stdout",
     "output_type": "stream",
     "text": [
      "07-28 23:54 [MainProcess, 3068] [INFO ]  valid Epoch:8, Train loss=0.3760, Valid loss=0.4983,Valid F1=0.5776,Valid ACC=0.8225, Valid weighted acc=0.6637\n",
      "07-28 23:54 [MainProcess, 3068] [INFO ]  valid Epoch:8, Train loss=0.3760, Valid loss=0.4983,Valid F1=0.5776,Valid ACC=0.8225, Valid weighted acc=0.6637\n",
      "07-28 23:54 [MainProcess, 3068] [INFO ]  valid Epoch:8, Train loss=0.3760, Valid loss=0.4983,Valid F1=0.5776,Valid ACC=0.8225, Valid weighted acc=0.6637\n"
     ]
    },
    {
     "name": "stderr",
     "output_type": "stream",
     "text": [
      "\n"
     ]
    },
    {
     "name": "stdout",
     "output_type": "stream",
     "text": [
      "07-28 23:54 [MainProcess, 3068] [INFO ]  Time used for each epoch training: 22.50690984725952 seconds.\n",
      "07-28 23:54 [MainProcess, 3068] [INFO ]  Time used for each epoch training: 22.50690984725952 seconds.\n",
      "07-28 23:54 [MainProcess, 3068] [INFO ]  Time used for each epoch training: 22.50690984725952 seconds.\n",
      "07-28 23:54 [MainProcess, 3068] [INFO ]  **************************************************\n",
      "07-28 23:54 [MainProcess, 3068] [INFO ]  **************************************************\n",
      "07-28 23:54 [MainProcess, 3068] [INFO ]  **************************************************\n"
     ]
    },
    {
     "name": "stderr",
     "output_type": "stream",
     "text": [
      "100%|███████████████████████████████████████████| 40/40 [00:17<00:00,  2.31it/s]"
     ]
    },
    {
     "name": "stdout",
     "output_type": "stream",
     "text": [
      "lr:  0.0003894161181181075\n",
      "07-28 23:55 [MainProcess, 3068] [INFO ]  Iteration:9, train loss = 0.376042 ,train F1 = 0.610536 ,train ACC = 0.875592 \n",
      "07-28 23:55 [MainProcess, 3068] [INFO ]  Iteration:9, train loss = 0.376042 ,train F1 = 0.610536 ,train ACC = 0.875592 \n",
      "07-28 23:55 [MainProcess, 3068] [INFO ]  Iteration:9, train loss = 0.376042 ,train F1 = 0.610536 ,train ACC = 0.875592 \n"
     ]
    },
    {
     "name": "stderr",
     "output_type": "stream",
     "text": [
      "\n",
      "100%|████████████████████████████████████████| 631/631 [00:05<00:00, 111.64it/s]"
     ]
    },
    {
     "name": "stdout",
     "output_type": "stream",
     "text": [
      "07-28 23:55 [MainProcess, 3068] [INFO ]  valid Epoch:9, Train loss=0.3760, Valid loss=0.4338,Valid F1=0.5300,Valid ACC=0.8336, Valid weighted acc=0.7334\n",
      "07-28 23:55 [MainProcess, 3068] [INFO ]  valid Epoch:9, Train loss=0.3760, Valid loss=0.4338,Valid F1=0.5300,Valid ACC=0.8336, Valid weighted acc=0.7334\n",
      "07-28 23:55 [MainProcess, 3068] [INFO ]  valid Epoch:9, Train loss=0.3760, Valid loss=0.4338,Valid F1=0.5300,Valid ACC=0.8336, Valid weighted acc=0.7334\n"
     ]
    },
    {
     "name": "stderr",
     "output_type": "stream",
     "text": [
      "\n"
     ]
    },
    {
     "name": "stdout",
     "output_type": "stream",
     "text": [
      "07-28 23:55 [MainProcess, 3068] [INFO ]  Time used for each epoch training: 22.995771169662476 seconds.\n",
      "07-28 23:55 [MainProcess, 3068] [INFO ]  Time used for each epoch training: 22.995771169662476 seconds.\n",
      "07-28 23:55 [MainProcess, 3068] [INFO ]  Time used for each epoch training: 22.995771169662476 seconds.\n",
      "07-28 23:55 [MainProcess, 3068] [INFO ]  **************************************************\n",
      "07-28 23:55 [MainProcess, 3068] [INFO ]  **************************************************\n",
      "07-28 23:55 [MainProcess, 3068] [INFO ]  **************************************************\n"
     ]
    },
    {
     "name": "stderr",
     "output_type": "stream",
     "text": [
      "100%|███████████████████████████████████████████| 40/40 [00:17<00:00,  2.31it/s]"
     ]
    },
    {
     "name": "stdout",
     "output_type": "stream",
     "text": [
      "lr:  0.0003543686674874778\n",
      "07-28 23:55 [MainProcess, 3068] [INFO ]  Iteration:10, train loss = 0.353046 ,train F1 = 0.581322 ,train ACC = 0.877962 \n",
      "07-28 23:55 [MainProcess, 3068] [INFO ]  Iteration:10, train loss = 0.353046 ,train F1 = 0.581322 ,train ACC = 0.877962 \n",
      "07-28 23:55 [MainProcess, 3068] [INFO ]  Iteration:10, train loss = 0.353046 ,train F1 = 0.581322 ,train ACC = 0.877962 \n"
     ]
    },
    {
     "name": "stderr",
     "output_type": "stream",
     "text": [
      "\n",
      "100%|████████████████████████████████████████| 631/631 [00:05<00:00, 123.34it/s]"
     ]
    },
    {
     "name": "stdout",
     "output_type": "stream",
     "text": [
      "07-28 23:55 [MainProcess, 3068] [INFO ]  valid Epoch:10, Train loss=0.3530, Valid loss=0.4991,Valid F1=0.5299,Valid ACC=0.8494, Valid weighted acc=0.6792\n",
      "07-28 23:55 [MainProcess, 3068] [INFO ]  valid Epoch:10, Train loss=0.3530, Valid loss=0.4991,Valid F1=0.5299,Valid ACC=0.8494, Valid weighted acc=0.6792\n",
      "07-28 23:55 [MainProcess, 3068] [INFO ]  valid Epoch:10, Train loss=0.3530, Valid loss=0.4991,Valid F1=0.5299,Valid ACC=0.8494, Valid weighted acc=0.6792\n"
     ]
    },
    {
     "name": "stderr",
     "output_type": "stream",
     "text": [
      "\n"
     ]
    },
    {
     "name": "stdout",
     "output_type": "stream",
     "text": [
      "07-28 23:55 [MainProcess, 3068] [INFO ]  Time used for each epoch training: 22.494012594223022 seconds.\n",
      "07-28 23:55 [MainProcess, 3068] [INFO ]  Time used for each epoch training: 22.494012594223022 seconds.\n",
      "07-28 23:55 [MainProcess, 3068] [INFO ]  Time used for each epoch training: 22.494012594223022 seconds.\n",
      "07-28 23:55 [MainProcess, 3068] [INFO ]  **************************************************\n",
      "07-28 23:55 [MainProcess, 3068] [INFO ]  **************************************************\n",
      "07-28 23:55 [MainProcess, 3068] [INFO ]  **************************************************\n"
     ]
    },
    {
     "name": "stderr",
     "output_type": "stream",
     "text": [
      "100%|███████████████████████████████████████████| 40/40 [00:17<00:00,  2.29it/s]"
     ]
    },
    {
     "name": "stdout",
     "output_type": "stream",
     "text": [
      "lr:  0.00032247548741360483\n",
      "07-28 23:55 [MainProcess, 3068] [INFO ]  Iteration:11, train loss = 0.353527 ,train F1 = 0.596527 ,train ACC = 0.871643 \n",
      "07-28 23:55 [MainProcess, 3068] [INFO ]  Iteration:11, train loss = 0.353527 ,train F1 = 0.596527 ,train ACC = 0.871643 \n",
      "07-28 23:55 [MainProcess, 3068] [INFO ]  Iteration:11, train loss = 0.353527 ,train F1 = 0.596527 ,train ACC = 0.871643 \n"
     ]
    },
    {
     "name": "stderr",
     "output_type": "stream",
     "text": [
      "\n",
      "100%|█████████████████████████████████████████| 631/631 [00:06<00:00, 98.68it/s]"
     ]
    },
    {
     "name": "stdout",
     "output_type": "stream",
     "text": [
      "07-28 23:56 [MainProcess, 3068] [INFO ]  valid Epoch:11, Train loss=0.3535, Valid loss=0.4855,Valid F1=0.5172,Valid ACC=0.8352, Valid weighted acc=0.6653\n",
      "07-28 23:56 [MainProcess, 3068] [INFO ]  valid Epoch:11, Train loss=0.3535, Valid loss=0.4855,Valid F1=0.5172,Valid ACC=0.8352, Valid weighted acc=0.6653\n",
      "07-28 23:56 [MainProcess, 3068] [INFO ]  valid Epoch:11, Train loss=0.3535, Valid loss=0.4855,Valid F1=0.5172,Valid ACC=0.8352, Valid weighted acc=0.6653\n",
      "07-28 23:56 [MainProcess, 3068] [INFO ]  Time used for each epoch training: 23.873008489608765 seconds.\n",
      "07-28 23:56 [MainProcess, 3068] [INFO ]  Time used for each epoch training: 23.873008489608765 seconds.\n",
      "07-28 23:56 [MainProcess, 3068] [INFO ]  Time used for each epoch training: 23.873008489608765 seconds.\n",
      "07-28 23:56 [MainProcess, 3068] [INFO ]  **************************************************\n",
      "07-28 23:56 [MainProcess, 3068] [INFO ]  **************************************************\n",
      "07-28 23:56 [MainProcess, 3068] [INFO ]  **************************************************\n"
     ]
    },
    {
     "name": "stderr",
     "output_type": "stream",
     "text": [
      "\n",
      "100%|███████████████████████████████████████████| 40/40 [00:16<00:00,  2.37it/s]"
     ]
    },
    {
     "name": "stdout",
     "output_type": "stream",
     "text": [
      "lr:  0.0002934526935463804\n",
      "07-28 23:56 [MainProcess, 3068] [INFO ]  Iteration:12, train loss = 0.345114 ,train F1 = 0.618476 ,train ACC = 0.876382 \n",
      "07-28 23:56 [MainProcess, 3068] [INFO ]  Iteration:12, train loss = 0.345114 ,train F1 = 0.618476 ,train ACC = 0.876382 \n",
      "07-28 23:56 [MainProcess, 3068] [INFO ]  Iteration:12, train loss = 0.345114 ,train F1 = 0.618476 ,train ACC = 0.876382 \n"
     ]
    },
    {
     "name": "stderr",
     "output_type": "stream",
     "text": [
      "\n",
      "100%|████████████████████████████████████████| 631/631 [00:05<00:00, 118.84it/s]"
     ]
    },
    {
     "name": "stdout",
     "output_type": "stream",
     "text": [
      "07-28 23:56 [MainProcess, 3068] [INFO ]  valid Epoch:12, Train loss=0.3451, Valid loss=0.4960,Valid F1=0.5212,Valid ACC=0.8447, Valid weighted acc=0.6571\n",
      "07-28 23:56 [MainProcess, 3068] [INFO ]  valid Epoch:12, Train loss=0.3451, Valid loss=0.4960,Valid F1=0.5212,Valid ACC=0.8447, Valid weighted acc=0.6571\n",
      "07-28 23:56 [MainProcess, 3068] [INFO ]  valid Epoch:12, Train loss=0.3451, Valid loss=0.4960,Valid F1=0.5212,Valid ACC=0.8447, Valid weighted acc=0.6571\n",
      "07-28 23:56 [MainProcess, 3068] [INFO ]  Time used for each epoch training: 22.238274812698364 seconds.\n",
      "07-28 23:56 [MainProcess, 3068] [INFO ]  Time used for each epoch training: 22.238274812698364 seconds.\n",
      "07-28 23:56 [MainProcess, 3068] [INFO ]  Time used for each epoch training: 22.238274812698364 seconds.\n",
      "07-28 23:56 [MainProcess, 3068] [INFO ]  **************************************************\n",
      "07-28 23:56 [MainProcess, 3068] [INFO ]  **************************************************\n",
      "07-28 23:56 [MainProcess, 3068] [INFO ]  **************************************************\n"
     ]
    },
    {
     "name": "stderr",
     "output_type": "stream",
     "text": [
      "\n",
      "100%|███████████████████████████████████████████| 40/40 [00:16<00:00,  2.37it/s]"
     ]
    },
    {
     "name": "stdout",
     "output_type": "stream",
     "text": [
      "lr:  0.00026704195112720616\n",
      "07-28 23:56 [MainProcess, 3068] [INFO ]  Iteration:13, train loss = 0.332521 ,train F1 = 0.635248 ,train ACC = 0.883491 \n",
      "07-28 23:56 [MainProcess, 3068] [INFO ]  Iteration:13, train loss = 0.332521 ,train F1 = 0.635248 ,train ACC = 0.883491 \n",
      "07-28 23:56 [MainProcess, 3068] [INFO ]  Iteration:13, train loss = 0.332521 ,train F1 = 0.635248 ,train ACC = 0.883491 \n"
     ]
    },
    {
     "name": "stderr",
     "output_type": "stream",
     "text": [
      "\n",
      "100%|████████████████████████████████████████| 631/631 [00:06<00:00, 102.87it/s]"
     ]
    },
    {
     "name": "stdout",
     "output_type": "stream",
     "text": [
      "07-28 23:56 [MainProcess, 3068] [INFO ]  valid Epoch:13, Train loss=0.3325, Valid loss=0.4446,Valid F1=0.5405,Valid ACC=0.8558, Valid weighted acc=0.7055\n",
      "07-28 23:56 [MainProcess, 3068] [INFO ]  valid Epoch:13, Train loss=0.3325, Valid loss=0.4446,Valid F1=0.5405,Valid ACC=0.8558, Valid weighted acc=0.7055\n",
      "07-28 23:56 [MainProcess, 3068] [INFO ]  valid Epoch:13, Train loss=0.3325, Valid loss=0.4446,Valid F1=0.5405,Valid ACC=0.8558, Valid weighted acc=0.7055\n",
      "07-28 23:56 [MainProcess, 3068] [INFO ]  Time used for each epoch training: 23.05320167541504 seconds.\n",
      "07-28 23:56 [MainProcess, 3068] [INFO ]  Time used for each epoch training: 23.05320167541504 seconds.\n",
      "07-28 23:56 [MainProcess, 3068] [INFO ]  Time used for each epoch training: 23.05320167541504 seconds.\n",
      "07-28 23:56 [MainProcess, 3068] [INFO ]  **************************************************\n",
      "07-28 23:56 [MainProcess, 3068] [INFO ]  **************************************************\n",
      "07-28 23:56 [MainProcess, 3068] [INFO ]  **************************************************\n"
     ]
    },
    {
     "name": "stderr",
     "output_type": "stream",
     "text": [
      "\n",
      "100%|███████████████████████████████████████████| 40/40 [00:17<00:00,  2.30it/s]"
     ]
    },
    {
     "name": "stdout",
     "output_type": "stream",
     "text": [
      "lr:  0.00024300817552575763\n",
      "07-28 23:57 [MainProcess, 3068] [INFO ]  Iteration:14, train loss = 0.316473 ,train F1 = 0.668700 ,train ACC = 0.892575 \n",
      "07-28 23:57 [MainProcess, 3068] [INFO ]  Iteration:14, train loss = 0.316473 ,train F1 = 0.668700 ,train ACC = 0.892575 \n",
      "07-28 23:57 [MainProcess, 3068] [INFO ]  Iteration:14, train loss = 0.316473 ,train F1 = 0.668700 ,train ACC = 0.892575 \n"
     ]
    },
    {
     "name": "stderr",
     "output_type": "stream",
     "text": [
      "\n",
      "100%|████████████████████████████████████████| 631/631 [00:05<00:00, 109.34it/s]"
     ]
    },
    {
     "name": "stdout",
     "output_type": "stream",
     "text": [
      "07-28 23:57 [MainProcess, 3068] [INFO ]  valid Epoch:14, Train loss=0.3165, Valid loss=0.4562,Valid F1=0.5642,Valid ACC=0.8526, Valid weighted acc=0.7252\n",
      "07-28 23:57 [MainProcess, 3068] [INFO ]  valid Epoch:14, Train loss=0.3165, Valid loss=0.4562,Valid F1=0.5642,Valid ACC=0.8526, Valid weighted acc=0.7252\n",
      "07-28 23:57 [MainProcess, 3068] [INFO ]  valid Epoch:14, Train loss=0.3165, Valid loss=0.4562,Valid F1=0.5642,Valid ACC=0.8526, Valid weighted acc=0.7252\n"
     ]
    },
    {
     "name": "stderr",
     "output_type": "stream",
     "text": [
      "\n"
     ]
    },
    {
     "name": "stdout",
     "output_type": "stream",
     "text": [
      "07-28 23:57 [MainProcess, 3068] [INFO ]  Time used for each epoch training: 23.177974939346313 seconds.\n",
      "07-28 23:57 [MainProcess, 3068] [INFO ]  Time used for each epoch training: 23.177974939346313 seconds.\n",
      "07-28 23:57 [MainProcess, 3068] [INFO ]  Time used for each epoch training: 23.177974939346313 seconds.\n",
      "07-28 23:57 [MainProcess, 3068] [INFO ]  **************************************************\n",
      "07-28 23:57 [MainProcess, 3068] [INFO ]  **************************************************\n",
      "07-28 23:57 [MainProcess, 3068] [INFO ]  **************************************************\n"
     ]
    },
    {
     "name": "stderr",
     "output_type": "stream",
     "text": [
      "100%|███████████████████████████████████████████| 40/40 [00:17<00:00,  2.29it/s]"
     ]
    },
    {
     "name": "stdout",
     "output_type": "stream",
     "text": [
      "lr:  0.00022113743972843945\n",
      "07-28 23:57 [MainProcess, 3068] [INFO ]  Iteration:15, train loss = 0.334984 ,train F1 = 0.627002 ,train ACC = 0.882306 \n",
      "07-28 23:57 [MainProcess, 3068] [INFO ]  Iteration:15, train loss = 0.334984 ,train F1 = 0.627002 ,train ACC = 0.882306 \n",
      "07-28 23:57 [MainProcess, 3068] [INFO ]  Iteration:15, train loss = 0.334984 ,train F1 = 0.627002 ,train ACC = 0.882306 \n"
     ]
    },
    {
     "name": "stderr",
     "output_type": "stream",
     "text": [
      "\n",
      "100%|████████████████████████████████████████| 631/631 [00:05<00:00, 111.89it/s]"
     ]
    },
    {
     "name": "stdout",
     "output_type": "stream",
     "text": [
      "07-28 23:57 [MainProcess, 3068] [INFO ]  valid Epoch:15, Train loss=0.3350, Valid loss=0.4999,Valid F1=0.5782,Valid ACC=0.8479, Valid weighted acc=0.6637\n",
      "07-28 23:57 [MainProcess, 3068] [INFO ]  valid Epoch:15, Train loss=0.3350, Valid loss=0.4999,Valid F1=0.5782,Valid ACC=0.8479, Valid weighted acc=0.6637\n",
      "07-28 23:57 [MainProcess, 3068] [INFO ]  valid Epoch:15, Train loss=0.3350, Valid loss=0.4999,Valid F1=0.5782,Valid ACC=0.8479, Valid weighted acc=0.6637\n"
     ]
    },
    {
     "name": "stderr",
     "output_type": "stream",
     "text": [
      "\n"
     ]
    },
    {
     "name": "stdout",
     "output_type": "stream",
     "text": [
      "07-28 23:57 [MainProcess, 3068] [INFO ]  Time used for each epoch training: 23.136085033416748 seconds.\n",
      "07-28 23:57 [MainProcess, 3068] [INFO ]  Time used for each epoch training: 23.136085033416748 seconds.\n",
      "07-28 23:57 [MainProcess, 3068] [INFO ]  Time used for each epoch training: 23.136085033416748 seconds.\n",
      "07-28 23:57 [MainProcess, 3068] [INFO ]  **************************************************\n",
      "07-28 23:57 [MainProcess, 3068] [INFO ]  **************************************************\n",
      "07-28 23:57 [MainProcess, 3068] [INFO ]  **************************************************\n"
     ]
    },
    {
     "name": "stderr",
     "output_type": "stream",
     "text": [
      "100%|███████████████████████████████████████████| 40/40 [00:17<00:00,  2.23it/s]"
     ]
    },
    {
     "name": "stdout",
     "output_type": "stream",
     "text": [
      "lr:  0.0002012350701528799\n",
      "07-28 23:57 [MainProcess, 3068] [INFO ]  Iteration:16, train loss = 0.303766 ,train F1 = 0.649930 ,train ACC = 0.892575 \n",
      "07-28 23:57 [MainProcess, 3068] [INFO ]  Iteration:16, train loss = 0.303766 ,train F1 = 0.649930 ,train ACC = 0.892575 \n",
      "07-28 23:57 [MainProcess, 3068] [INFO ]  Iteration:16, train loss = 0.303766 ,train F1 = 0.649930 ,train ACC = 0.892575 \n"
     ]
    },
    {
     "name": "stderr",
     "output_type": "stream",
     "text": [
      "\n",
      "100%|████████████████████████████████████████| 631/631 [00:05<00:00, 105.78it/s]"
     ]
    },
    {
     "name": "stdout",
     "output_type": "stream",
     "text": [
      "07-28 23:58 [MainProcess, 3068] [INFO ]  valid Epoch:16, Train loss=0.3038, Valid loss=0.4621,Valid F1=0.5595,Valid ACC=0.8479, Valid weighted acc=0.7162\n",
      "07-28 23:58 [MainProcess, 3068] [INFO ]  valid Epoch:16, Train loss=0.3038, Valid loss=0.4621,Valid F1=0.5595,Valid ACC=0.8479, Valid weighted acc=0.7162\n",
      "07-28 23:58 [MainProcess, 3068] [INFO ]  valid Epoch:16, Train loss=0.3038, Valid loss=0.4621,Valid F1=0.5595,Valid ACC=0.8479, Valid weighted acc=0.7162\n",
      "07-28 23:58 [MainProcess, 3068] [INFO ]  Time used for each epoch training: 23.958914518356323 seconds.\n",
      "07-28 23:58 [MainProcess, 3068] [INFO ]  Time used for each epoch training: 23.958914518356323 seconds.\n",
      "07-28 23:58 [MainProcess, 3068] [INFO ]  Time used for each epoch training: 23.958914518356323 seconds.\n"
     ]
    },
    {
     "name": "stderr",
     "output_type": "stream",
     "text": [
      "\n"
     ]
    },
    {
     "name": "stdout",
     "output_type": "stream",
     "text": [
      "07-28 23:58 [MainProcess, 3068] [INFO ]  **************************************************\n",
      "07-28 23:58 [MainProcess, 3068] [INFO ]  **************************************************\n",
      "07-28 23:58 [MainProcess, 3068] [INFO ]  **************************************************\n"
     ]
    },
    {
     "name": "stderr",
     "output_type": "stream",
     "text": [
      "100%|███████████████████████████████████████████| 40/40 [00:17<00:00,  2.24it/s]"
     ]
    },
    {
     "name": "stdout",
     "output_type": "stream",
     "text": [
      "lr:  0.0001831239138391207\n",
      "07-28 23:58 [MainProcess, 3068] [INFO ]  Iteration:17, train loss = 0.307298 ,train F1 = 0.658890 ,train ACC = 0.894550 \n",
      "07-28 23:58 [MainProcess, 3068] [INFO ]  Iteration:17, train loss = 0.307298 ,train F1 = 0.658890 ,train ACC = 0.894550 \n",
      "07-28 23:58 [MainProcess, 3068] [INFO ]  Iteration:17, train loss = 0.307298 ,train F1 = 0.658890 ,train ACC = 0.894550 \n"
     ]
    },
    {
     "name": "stderr",
     "output_type": "stream",
     "text": [
      "\n",
      "100%|████████████████████████████████████████| 631/631 [00:05<00:00, 109.71it/s]"
     ]
    },
    {
     "name": "stdout",
     "output_type": "stream",
     "text": [
      "07-28 23:58 [MainProcess, 3068] [INFO ]  valid Epoch:17, Train loss=0.3073, Valid loss=0.5002,Valid F1=0.5433,Valid ACC=0.8463, Valid weighted acc=0.6628\n",
      "07-28 23:58 [MainProcess, 3068] [INFO ]  valid Epoch:17, Train loss=0.3073, Valid loss=0.5002,Valid F1=0.5433,Valid ACC=0.8463, Valid weighted acc=0.6628\n",
      "07-28 23:58 [MainProcess, 3068] [INFO ]  valid Epoch:17, Train loss=0.3073, Valid loss=0.5002,Valid F1=0.5433,Valid ACC=0.8463, Valid weighted acc=0.6628\n",
      "07-28 23:58 [MainProcess, 3068] [INFO ]  Time used for each epoch training: 23.66458296775818 seconds.\n",
      "07-28 23:58 [MainProcess, 3068] [INFO ]  Time used for each epoch training: 23.66458296775818 seconds.\n",
      "07-28 23:58 [MainProcess, 3068] [INFO ]  Time used for each epoch training: 23.66458296775818 seconds.\n",
      "07-28 23:58 [MainProcess, 3068] [INFO ]  **************************************************\n",
      "07-28 23:58 [MainProcess, 3068] [INFO ]  **************************************************\n",
      "07-28 23:58 [MainProcess, 3068] [INFO ]  **************************************************\n"
     ]
    },
    {
     "name": "stderr",
     "output_type": "stream",
     "text": [
      "\n",
      "100%|███████████████████████████████████████████| 40/40 [00:16<00:00,  2.38it/s]"
     ]
    },
    {
     "name": "stdout",
     "output_type": "stream",
     "text": [
      "lr:  0.00016664276159359984\n",
      "07-28 23:58 [MainProcess, 3068] [INFO ]  Iteration:18, train loss = 0.287495 ,train F1 = 0.678945 ,train ACC = 0.898499 \n",
      "07-28 23:58 [MainProcess, 3068] [INFO ]  Iteration:18, train loss = 0.287495 ,train F1 = 0.678945 ,train ACC = 0.898499 \n",
      "07-28 23:58 [MainProcess, 3068] [INFO ]  Iteration:18, train loss = 0.287495 ,train F1 = 0.678945 ,train ACC = 0.898499 \n"
     ]
    },
    {
     "name": "stderr",
     "output_type": "stream",
     "text": [
      "\n",
      "100%|████████████████████████████████████████| 631/631 [00:05<00:00, 111.00it/s]"
     ]
    },
    {
     "name": "stdout",
     "output_type": "stream",
     "text": [
      "07-28 23:58 [MainProcess, 3068] [INFO ]  valid Epoch:18, Train loss=0.2875, Valid loss=0.4495,Valid F1=0.6312,Valid ACC=0.8431, Valid weighted acc=0.7121\n",
      "07-28 23:58 [MainProcess, 3068] [INFO ]  valid Epoch:18, Train loss=0.2875, Valid loss=0.4495,Valid F1=0.6312,Valid ACC=0.8431, Valid weighted acc=0.7121\n",
      "07-28 23:58 [MainProcess, 3068] [INFO ]  valid Epoch:18, Train loss=0.2875, Valid loss=0.4495,Valid F1=0.6312,Valid ACC=0.8431, Valid weighted acc=0.7121\n",
      "07-28 23:58 [MainProcess, 3068] [INFO ]  Time used for each epoch training: 22.53693127632141 seconds.\n",
      "07-28 23:58 [MainProcess, 3068] [INFO ]  Time used for each epoch training: 22.53693127632141 seconds.\n",
      "07-28 23:58 [MainProcess, 3068] [INFO ]  Time used for each epoch training: 22.53693127632141 seconds.\n",
      "07-28 23:58 [MainProcess, 3068] [INFO ]  **************************************************\n",
      "07-28 23:58 [MainProcess, 3068] [INFO ]  **************************************************\n",
      "07-28 23:58 [MainProcess, 3068] [INFO ]  **************************************************\n"
     ]
    },
    {
     "name": "stderr",
     "output_type": "stream",
     "text": [
      "\n",
      "100%|███████████████████████████████████████████| 40/40 [00:15<00:00,  2.59it/s]"
     ]
    },
    {
     "name": "stdout",
     "output_type": "stream",
     "text": [
      "lr:  0.00015164491305017587\n",
      "07-28 23:59 [MainProcess, 3068] [INFO ]  Iteration:19, train loss = 0.281671 ,train F1 = 0.677404 ,train ACC = 0.898894 \n",
      "07-28 23:59 [MainProcess, 3068] [INFO ]  Iteration:19, train loss = 0.281671 ,train F1 = 0.677404 ,train ACC = 0.898894 \n",
      "07-28 23:59 [MainProcess, 3068] [INFO ]  Iteration:19, train loss = 0.281671 ,train F1 = 0.677404 ,train ACC = 0.898894 \n"
     ]
    },
    {
     "name": "stderr",
     "output_type": "stream",
     "text": [
      "\n",
      "100%|████████████████████████████████████████| 631/631 [00:06<00:00, 102.04it/s]"
     ]
    },
    {
     "name": "stdout",
     "output_type": "stream",
     "text": [
      "07-28 23:59 [MainProcess, 3068] [INFO ]  valid Epoch:19, Train loss=0.2817, Valid loss=0.4386,Valid F1=0.5806,Valid ACC=0.8494, Valid weighted acc=0.7285\n",
      "07-28 23:59 [MainProcess, 3068] [INFO ]  valid Epoch:19, Train loss=0.2817, Valid loss=0.4386,Valid F1=0.5806,Valid ACC=0.8494, Valid weighted acc=0.7285\n",
      "07-28 23:59 [MainProcess, 3068] [INFO ]  valid Epoch:19, Train loss=0.2817, Valid loss=0.4386,Valid F1=0.5806,Valid ACC=0.8494, Valid weighted acc=0.7285\n"
     ]
    },
    {
     "name": "stderr",
     "output_type": "stream",
     "text": [
      "\n"
     ]
    },
    {
     "name": "stdout",
     "output_type": "stream",
     "text": [
      "07-28 23:59 [MainProcess, 3068] [INFO ]  Time used for each epoch training: 21.66908025741577 seconds.\n",
      "07-28 23:59 [MainProcess, 3068] [INFO ]  Time used for each epoch training: 21.66908025741577 seconds.\n",
      "07-28 23:59 [MainProcess, 3068] [INFO ]  Time used for each epoch training: 21.66908025741577 seconds.\n",
      "07-28 23:59 [MainProcess, 3068] [INFO ]  **************************************************\n",
      "07-28 23:59 [MainProcess, 3068] [INFO ]  **************************************************\n",
      "07-28 23:59 [MainProcess, 3068] [INFO ]  **************************************************\n"
     ]
    },
    {
     "name": "stderr",
     "output_type": "stream",
     "text": [
      "100%|███████████████████████████████████████████| 40/40 [00:17<00:00,  2.35it/s]"
     ]
    },
    {
     "name": "stdout",
     "output_type": "stream",
     "text": [
      "lr:  0.00013799687087566004\n",
      "07-28 23:59 [MainProcess, 3068] [INFO ]  Iteration:20, train loss = 0.276808 ,train F1 = 0.681201 ,train ACC = 0.900079 \n",
      "07-28 23:59 [MainProcess, 3068] [INFO ]  Iteration:20, train loss = 0.276808 ,train F1 = 0.681201 ,train ACC = 0.900079 \n",
      "07-28 23:59 [MainProcess, 3068] [INFO ]  Iteration:20, train loss = 0.276808 ,train F1 = 0.681201 ,train ACC = 0.900079 \n"
     ]
    },
    {
     "name": "stderr",
     "output_type": "stream",
     "text": [
      "\n",
      "100%|████████████████████████████████████████| 631/631 [00:05<00:00, 108.93it/s]"
     ]
    },
    {
     "name": "stdout",
     "output_type": "stream",
     "text": [
      "07-28 23:59 [MainProcess, 3068] [INFO ]  valid Epoch:20, Train loss=0.2768, Valid loss=0.4398,Valid F1=0.6448,Valid ACC=0.8463, Valid weighted acc=0.7301\n",
      "07-28 23:59 [MainProcess, 3068] [INFO ]  valid Epoch:20, Train loss=0.2768, Valid loss=0.4398,Valid F1=0.6448,Valid ACC=0.8463, Valid weighted acc=0.7301\n",
      "07-28 23:59 [MainProcess, 3068] [INFO ]  valid Epoch:20, Train loss=0.2768, Valid loss=0.4398,Valid F1=0.6448,Valid ACC=0.8463, Valid weighted acc=0.7301\n",
      "07-28 23:59 [MainProcess, 3068] [INFO ]  Time used for each epoch training: 22.845852375030518 seconds.\n",
      "07-28 23:59 [MainProcess, 3068] [INFO ]  Time used for each epoch training: 22.845852375030518 seconds.\n",
      "07-28 23:59 [MainProcess, 3068] [INFO ]  Time used for each epoch training: 22.845852375030518 seconds.\n",
      "07-28 23:59 [MainProcess, 3068] [INFO ]  **************************************************\n",
      "07-28 23:59 [MainProcess, 3068] [INFO ]  **************************************************\n",
      "07-28 23:59 [MainProcess, 3068] [INFO ]  **************************************************\n"
     ]
    },
    {
     "name": "stderr",
     "output_type": "stream",
     "text": [
      "\n",
      "100%|███████████████████████████████████████████| 40/40 [00:17<00:00,  2.27it/s]"
     ]
    },
    {
     "name": "stdout",
     "output_type": "stream",
     "text": [
      "lr:  0.00012557715249685063\n",
      "07-28 23:59 [MainProcess, 3068] [INFO ]  Iteration:21, train loss = 0.273474 ,train F1 = 0.685287 ,train ACC = 0.905213 \n",
      "07-28 23:59 [MainProcess, 3068] [INFO ]  Iteration:21, train loss = 0.273474 ,train F1 = 0.685287 ,train ACC = 0.905213 \n",
      "07-28 23:59 [MainProcess, 3068] [INFO ]  Iteration:21, train loss = 0.273474 ,train F1 = 0.685287 ,train ACC = 0.905213 \n"
     ]
    },
    {
     "name": "stderr",
     "output_type": "stream",
     "text": [
      "\n",
      "100%|████████████████████████████████████████| 631/631 [00:05<00:00, 112.13it/s]"
     ]
    },
    {
     "name": "stdout",
     "output_type": "stream",
     "text": [
      "07-28 23:59 [MainProcess, 3068] [INFO ]  valid Epoch:21, Train loss=0.2735, Valid loss=0.4477,Valid F1=0.6154,Valid ACC=0.8590, Valid weighted acc=0.7400\n",
      "07-28 23:59 [MainProcess, 3068] [INFO ]  valid Epoch:21, Train loss=0.2735, Valid loss=0.4477,Valid F1=0.6154,Valid ACC=0.8590, Valid weighted acc=0.7400\n",
      "07-28 23:59 [MainProcess, 3068] [INFO ]  valid Epoch:21, Train loss=0.2735, Valid loss=0.4477,Valid F1=0.6154,Valid ACC=0.8590, Valid weighted acc=0.7400\n",
      "07-28 23:59 [MainProcess, 3068] [INFO ]  Time used for each epoch training: 23.286035537719727 seconds.\n",
      "07-28 23:59 [MainProcess, 3068] [INFO ]  Time used for each epoch training: 23.286035537719727 seconds.\n",
      "07-28 23:59 [MainProcess, 3068] [INFO ]  Time used for each epoch training: 23.286035537719727 seconds.\n",
      "07-28 23:59 [MainProcess, 3068] [INFO ]  **************************************************\n",
      "07-28 23:59 [MainProcess, 3068] [INFO ]  **************************************************\n",
      "07-28 23:59 [MainProcess, 3068] [INFO ]  **************************************************\n"
     ]
    },
    {
     "name": "stderr",
     "output_type": "stream",
     "text": [
      "\n",
      "100%|███████████████████████████████████████████| 40/40 [00:18<00:00,  2.21it/s]"
     ]
    },
    {
     "name": "stdout",
     "output_type": "stream",
     "text": [
      "lr:  0.00011427520877213407\n",
      "07-29 00:00 [MainProcess, 3068] [INFO ]  Iteration:22, train loss = 0.271312 ,train F1 = 0.691065 ,train ACC = 0.906398 \n",
      "07-29 00:00 [MainProcess, 3068] [INFO ]  Iteration:22, train loss = 0.271312 ,train F1 = 0.691065 ,train ACC = 0.906398 \n",
      "07-29 00:00 [MainProcess, 3068] [INFO ]  Iteration:22, train loss = 0.271312 ,train F1 = 0.691065 ,train ACC = 0.906398 \n"
     ]
    },
    {
     "name": "stderr",
     "output_type": "stream",
     "text": [
      "\n",
      "100%|████████████████████████████████████████| 631/631 [00:05<00:00, 106.67it/s]"
     ]
    },
    {
     "name": "stdout",
     "output_type": "stream",
     "text": [
      "07-29 00:00 [MainProcess, 3068] [INFO ]  valid Epoch:22, Train loss=0.2713, Valid loss=0.4421,Valid F1=0.6092,Valid ACC=0.8526, Valid weighted acc=0.7301\n",
      "07-29 00:00 [MainProcess, 3068] [INFO ]  valid Epoch:22, Train loss=0.2713, Valid loss=0.4421,Valid F1=0.6092,Valid ACC=0.8526, Valid weighted acc=0.7301\n",
      "07-29 00:00 [MainProcess, 3068] [INFO ]  valid Epoch:22, Train loss=0.2713, Valid loss=0.4421,Valid F1=0.6092,Valid ACC=0.8526, Valid weighted acc=0.7301\n"
     ]
    },
    {
     "name": "stderr",
     "output_type": "stream",
     "text": [
      "\n"
     ]
    },
    {
     "name": "stdout",
     "output_type": "stream",
     "text": [
      "07-29 00:00 [MainProcess, 3068] [INFO ]  Time used for each epoch training: 24.0526065826416 seconds.\n",
      "07-29 00:00 [MainProcess, 3068] [INFO ]  Time used for each epoch training: 24.0526065826416 seconds.\n",
      "07-29 00:00 [MainProcess, 3068] [INFO ]  Time used for each epoch training: 24.0526065826416 seconds.\n",
      "07-29 00:00 [MainProcess, 3068] [INFO ]  **************************************************\n",
      "07-29 00:00 [MainProcess, 3068] [INFO ]  **************************************************\n",
      "07-29 00:00 [MainProcess, 3068] [INFO ]  **************************************************\n"
     ]
    },
    {
     "name": "stderr",
     "output_type": "stream",
     "text": [
      "100%|███████████████████████████████████████████| 40/40 [00:16<00:00,  2.47it/s]"
     ]
    },
    {
     "name": "stdout",
     "output_type": "stream",
     "text": [
      "lr:  0.00010399043998264201\n",
      "07-29 00:00 [MainProcess, 3068] [INFO ]  Iteration:23, train loss = 0.263615 ,train F1 = 0.688128 ,train ACC = 0.904423 \n",
      "07-29 00:00 [MainProcess, 3068] [INFO ]  Iteration:23, train loss = 0.263615 ,train F1 = 0.688128 ,train ACC = 0.904423 \n",
      "07-29 00:00 [MainProcess, 3068] [INFO ]  Iteration:23, train loss = 0.263615 ,train F1 = 0.688128 ,train ACC = 0.904423 \n"
     ]
    },
    {
     "name": "stderr",
     "output_type": "stream",
     "text": [
      "\n",
      "100%|████████████████████████████████████████| 631/631 [00:05<00:00, 110.74it/s]"
     ]
    },
    {
     "name": "stdout",
     "output_type": "stream",
     "text": [
      "07-29 00:00 [MainProcess, 3068] [INFO ]  valid Epoch:23, Train loss=0.2636, Valid loss=0.4694,Valid F1=0.5968,Valid ACC=0.8479, Valid weighted acc=0.7358\n",
      "07-29 00:00 [MainProcess, 3068] [INFO ]  valid Epoch:23, Train loss=0.2636, Valid loss=0.4694,Valid F1=0.5968,Valid ACC=0.8479, Valid weighted acc=0.7358\n",
      "07-29 00:00 [MainProcess, 3068] [INFO ]  valid Epoch:23, Train loss=0.2636, Valid loss=0.4694,Valid F1=0.5968,Valid ACC=0.8479, Valid weighted acc=0.7358\n",
      "07-29 00:00 [MainProcess, 3068] [INFO ]  Time used for each epoch training: 21.896766662597656 seconds.\n",
      "07-29 00:00 [MainProcess, 3068] [INFO ]  Time used for each epoch training: 21.896766662597656 seconds.\n",
      "07-29 00:00 [MainProcess, 3068] [INFO ]  Time used for each epoch training: 21.896766662597656 seconds.\n",
      "07-29 00:00 [MainProcess, 3068] [INFO ]  **************************************************\n",
      "07-29 00:00 [MainProcess, 3068] [INFO ]  **************************************************\n",
      "07-29 00:00 [MainProcess, 3068] [INFO ]  **************************************************\n"
     ]
    },
    {
     "name": "stderr",
     "output_type": "stream",
     "text": [
      "\n",
      "100%|███████████████████████████████████████████| 40/40 [00:17<00:00,  2.28it/s]"
     ]
    },
    {
     "name": "stdout",
     "output_type": "stream",
     "text": [
      "lr:  9.463130038420423e-05\n",
      "07-29 00:00 [MainProcess, 3068] [INFO ]  Iteration:24, train loss = 0.259997 ,train F1 = 0.702448 ,train ACC = 0.904423 \n",
      "07-29 00:00 [MainProcess, 3068] [INFO ]  Iteration:24, train loss = 0.259997 ,train F1 = 0.702448 ,train ACC = 0.904423 \n",
      "07-29 00:00 [MainProcess, 3068] [INFO ]  Iteration:24, train loss = 0.259997 ,train F1 = 0.702448 ,train ACC = 0.904423 \n"
     ]
    },
    {
     "name": "stderr",
     "output_type": "stream",
     "text": [
      "\n",
      "100%|████████████████████████████████████████| 631/631 [00:05<00:00, 119.55it/s]"
     ]
    },
    {
     "name": "stdout",
     "output_type": "stream",
     "text": [
      "07-29 00:01 [MainProcess, 3068] [INFO ]  valid Epoch:24, Train loss=0.2600, Valid loss=0.4834,Valid F1=0.6181,Valid ACC=0.8320, Valid weighted acc=0.7375\n",
      "07-29 00:01 [MainProcess, 3068] [INFO ]  valid Epoch:24, Train loss=0.2600, Valid loss=0.4834,Valid F1=0.6181,Valid ACC=0.8320, Valid weighted acc=0.7375\n",
      "07-29 00:01 [MainProcess, 3068] [INFO ]  valid Epoch:24, Train loss=0.2600, Valid loss=0.4834,Valid F1=0.6181,Valid ACC=0.8320, Valid weighted acc=0.7375\n"
     ]
    },
    {
     "name": "stderr",
     "output_type": "stream",
     "text": [
      "\n"
     ]
    },
    {
     "name": "stdout",
     "output_type": "stream",
     "text": [
      "07-29 00:01 [MainProcess, 3068] [INFO ]  Time used for each epoch training: 22.83655834197998 seconds.\n",
      "07-29 00:01 [MainProcess, 3068] [INFO ]  Time used for each epoch training: 22.83655834197998 seconds.\n",
      "07-29 00:01 [MainProcess, 3068] [INFO ]  Time used for each epoch training: 22.83655834197998 seconds.\n",
      "07-29 00:01 [MainProcess, 3068] [INFO ]  **************************************************\n",
      "07-29 00:01 [MainProcess, 3068] [INFO ]  **************************************************\n",
      "07-29 00:01 [MainProcess, 3068] [INFO ]  **************************************************\n"
     ]
    },
    {
     "name": "stderr",
     "output_type": "stream",
     "text": [
      "100%|███████████████████████████████████████████| 40/40 [00:17<00:00,  2.27it/s]"
     ]
    },
    {
     "name": "stdout",
     "output_type": "stream",
     "text": [
      "lr:  8.611448334962585e-05\n",
      "07-29 00:01 [MainProcess, 3068] [INFO ]  Iteration:25, train loss = 0.248797 ,train F1 = 0.721119 ,train ACC = 0.913112 \n",
      "07-29 00:01 [MainProcess, 3068] [INFO ]  Iteration:25, train loss = 0.248797 ,train F1 = 0.721119 ,train ACC = 0.913112 \n",
      "07-29 00:01 [MainProcess, 3068] [INFO ]  Iteration:25, train loss = 0.248797 ,train F1 = 0.721119 ,train ACC = 0.913112 \n"
     ]
    },
    {
     "name": "stderr",
     "output_type": "stream",
     "text": [
      "\n",
      "100%|████████████████████████████████████████| 631/631 [00:06<00:00, 104.63it/s]"
     ]
    },
    {
     "name": "stdout",
     "output_type": "stream",
     "text": [
      "07-29 00:01 [MainProcess, 3068] [INFO ]  valid Epoch:25, Train loss=0.2488, Valid loss=0.5580,Valid F1=0.5548,Valid ACC=0.8526, Valid weighted acc=0.6858\n",
      "07-29 00:01 [MainProcess, 3068] [INFO ]  valid Epoch:25, Train loss=0.2488, Valid loss=0.5580,Valid F1=0.5548,Valid ACC=0.8526, Valid weighted acc=0.6858\n",
      "07-29 00:01 [MainProcess, 3068] [INFO ]  valid Epoch:25, Train loss=0.2488, Valid loss=0.5580,Valid F1=0.5548,Valid ACC=0.8526, Valid weighted acc=0.6858\n",
      "07-29 00:01 [MainProcess, 3068] [INFO ]  Time used for each epoch training: 23.660341501235962 seconds.\n",
      "07-29 00:01 [MainProcess, 3068] [INFO ]  Time used for each epoch training: 23.660341501235962 seconds.\n",
      "07-29 00:01 [MainProcess, 3068] [INFO ]  Time used for each epoch training: 23.660341501235962 seconds.\n",
      "07-29 00:01 [MainProcess, 3068] [INFO ]  **************************************************\n",
      "07-29 00:01 [MainProcess, 3068] [INFO ]  **************************************************\n",
      "07-29 00:01 [MainProcess, 3068] [INFO ]  **************************************************\n"
     ]
    },
    {
     "name": "stderr",
     "output_type": "stream",
     "text": [
      "\n",
      "100%|███████████████████████████████████████████| 40/40 [00:17<00:00,  2.31it/s]"
     ]
    },
    {
     "name": "stdout",
     "output_type": "stream",
     "text": [
      "lr:  7.836417984815953e-05\n",
      "07-29 00:01 [MainProcess, 3068] [INFO ]  Iteration:26, train loss = 0.240029 ,train F1 = 0.736099 ,train ACC = 0.913112 \n",
      "07-29 00:01 [MainProcess, 3068] [INFO ]  Iteration:26, train loss = 0.240029 ,train F1 = 0.736099 ,train ACC = 0.913112 \n",
      "07-29 00:01 [MainProcess, 3068] [INFO ]  Iteration:26, train loss = 0.240029 ,train F1 = 0.736099 ,train ACC = 0.913112 \n"
     ]
    },
    {
     "name": "stderr",
     "output_type": "stream",
     "text": [
      "\n",
      "100%|████████████████████████████████████████| 631/631 [00:04<00:00, 134.67it/s]"
     ]
    },
    {
     "name": "stdout",
     "output_type": "stream",
     "text": [
      "07-29 00:01 [MainProcess, 3068] [INFO ]  valid Epoch:26, Train loss=0.2400, Valid loss=0.4385,Valid F1=0.5809,Valid ACC=0.8510, Valid weighted acc=0.7293\n",
      "07-29 00:01 [MainProcess, 3068] [INFO ]  valid Epoch:26, Train loss=0.2400, Valid loss=0.4385,Valid F1=0.5809,Valid ACC=0.8510, Valid weighted acc=0.7293\n",
      "07-29 00:01 [MainProcess, 3068] [INFO ]  valid Epoch:26, Train loss=0.2400, Valid loss=0.4385,Valid F1=0.5809,Valid ACC=0.8510, Valid weighted acc=0.7293\n",
      "07-29 00:01 [MainProcess, 3068] [INFO ]  Time used for each epoch training: 22.017064332962036 seconds.\n",
      "07-29 00:01 [MainProcess, 3068] [INFO ]  Time used for each epoch training: 22.017064332962036 seconds.\n",
      "07-29 00:01 [MainProcess, 3068] [INFO ]  Time used for each epoch training: 22.017064332962036 seconds.\n",
      "07-29 00:01 [MainProcess, 3068] [INFO ]  **************************************************\n",
      "07-29 00:01 [MainProcess, 3068] [INFO ]  **************************************************\n",
      "07-29 00:01 [MainProcess, 3068] [INFO ]  **************************************************\n"
     ]
    },
    {
     "name": "stderr",
     "output_type": "stream",
     "text": [
      "\n",
      "100%|███████████████████████████████████████████| 40/40 [00:17<00:00,  2.29it/s]"
     ]
    },
    {
     "name": "stdout",
     "output_type": "stream",
     "text": [
      "lr:  7.131140366182518e-05\n",
      "07-29 00:02 [MainProcess, 3068] [INFO ]  Iteration:27, train loss = 0.249775 ,train F1 = 0.705327 ,train ACC = 0.908373 \n",
      "07-29 00:02 [MainProcess, 3068] [INFO ]  Iteration:27, train loss = 0.249775 ,train F1 = 0.705327 ,train ACC = 0.908373 \n",
      "07-29 00:02 [MainProcess, 3068] [INFO ]  Iteration:27, train loss = 0.249775 ,train F1 = 0.705327 ,train ACC = 0.908373 \n"
     ]
    },
    {
     "name": "stderr",
     "output_type": "stream",
     "text": [
      "\n",
      "100%|████████████████████████████████████████| 631/631 [00:05<00:00, 110.45it/s]"
     ]
    },
    {
     "name": "stdout",
     "output_type": "stream",
     "text": [
      "07-29 00:02 [MainProcess, 3068] [INFO ]  valid Epoch:27, Train loss=0.2498, Valid loss=0.4641,Valid F1=0.6267,Valid ACC=0.8653, Valid weighted acc=0.7432\n",
      "07-29 00:02 [MainProcess, 3068] [INFO ]  valid Epoch:27, Train loss=0.2498, Valid loss=0.4641,Valid F1=0.6267,Valid ACC=0.8653, Valid weighted acc=0.7432\n",
      "07-29 00:02 [MainProcess, 3068] [INFO ]  valid Epoch:27, Train loss=0.2498, Valid loss=0.4641,Valid F1=0.6267,Valid ACC=0.8653, Valid weighted acc=0.7432\n",
      "07-29 00:02 [MainProcess, 3068] [INFO ]  Time used for each epoch training: 23.19124126434326 seconds.\n",
      "07-29 00:02 [MainProcess, 3068] [INFO ]  Time used for each epoch training: 23.19124126434326 seconds.\n",
      "07-29 00:02 [MainProcess, 3068] [INFO ]  Time used for each epoch training: 23.19124126434326 seconds.\n",
      "07-29 00:02 [MainProcess, 3068] [INFO ]  **************************************************\n",
      "07-29 00:02 [MainProcess, 3068] [INFO ]  **************************************************\n",
      "07-29 00:02 [MainProcess, 3068] [INFO ]  **************************************************\n"
     ]
    },
    {
     "name": "stderr",
     "output_type": "stream",
     "text": [
      "\n",
      "100%|███████████████████████████████████████████| 40/40 [00:17<00:00,  2.29it/s]"
     ]
    },
    {
     "name": "stdout",
     "output_type": "stream",
     "text": [
      "lr:  6.489337733226091e-05\n",
      "07-29 00:02 [MainProcess, 3068] [INFO ]  Iteration:28, train loss = 0.228942 ,train F1 = 0.744384 ,train ACC = 0.918246 \n",
      "07-29 00:02 [MainProcess, 3068] [INFO ]  Iteration:28, train loss = 0.228942 ,train F1 = 0.744384 ,train ACC = 0.918246 \n",
      "07-29 00:02 [MainProcess, 3068] [INFO ]  Iteration:28, train loss = 0.228942 ,train F1 = 0.744384 ,train ACC = 0.918246 \n"
     ]
    },
    {
     "name": "stderr",
     "output_type": "stream",
     "text": [
      "\n",
      "100%|████████████████████████████████████████| 631/631 [00:04<00:00, 129.17it/s]"
     ]
    },
    {
     "name": "stdout",
     "output_type": "stream",
     "text": [
      "07-29 00:02 [MainProcess, 3068] [INFO ]  valid Epoch:28, Train loss=0.2289, Valid loss=0.4711,Valid F1=0.5684,Valid ACC=0.8558, Valid weighted acc=0.7301\n",
      "07-29 00:02 [MainProcess, 3068] [INFO ]  valid Epoch:28, Train loss=0.2289, Valid loss=0.4711,Valid F1=0.5684,Valid ACC=0.8558, Valid weighted acc=0.7301\n",
      "07-29 00:02 [MainProcess, 3068] [INFO ]  valid Epoch:28, Train loss=0.2289, Valid loss=0.4711,Valid F1=0.5684,Valid ACC=0.8558, Valid weighted acc=0.7301\n",
      "07-29 00:02 [MainProcess, 3068] [INFO ]  Time used for each epoch training: 22.403589725494385 seconds.\n",
      "07-29 00:02 [MainProcess, 3068] [INFO ]  Time used for each epoch training: 22.403589725494385 seconds.\n",
      "07-29 00:02 [MainProcess, 3068] [INFO ]  Time used for each epoch training: 22.403589725494385 seconds.\n",
      "07-29 00:02 [MainProcess, 3068] [INFO ]  **************************************************\n",
      "07-29 00:02 [MainProcess, 3068] [INFO ]  **************************************************\n",
      "07-29 00:02 [MainProcess, 3068] [INFO ]  **************************************************\n"
     ]
    },
    {
     "name": "stderr",
     "output_type": "stream",
     "text": [
      "\n",
      "100%|███████████████████████████████████████████| 40/40 [00:16<00:00,  2.41it/s]"
     ]
    },
    {
     "name": "stdout",
     "output_type": "stream",
     "text": [
      "lr:  5.905297337235743e-05\n",
      "07-29 00:02 [MainProcess, 3068] [INFO ]  Iteration:29, train loss = 0.233605 ,train F1 = 0.741867 ,train ACC = 0.916667 \n",
      "07-29 00:02 [MainProcess, 3068] [INFO ]  Iteration:29, train loss = 0.233605 ,train F1 = 0.741867 ,train ACC = 0.916667 \n",
      "07-29 00:02 [MainProcess, 3068] [INFO ]  Iteration:29, train loss = 0.233605 ,train F1 = 0.741867 ,train ACC = 0.916667 \n"
     ]
    },
    {
     "name": "stderr",
     "output_type": "stream",
     "text": [
      "\n",
      "100%|████████████████████████████████████████| 631/631 [00:05<00:00, 112.34it/s]"
     ]
    },
    {
     "name": "stdout",
     "output_type": "stream",
     "text": [
      "07-29 00:02 [MainProcess, 3068] [INFO ]  valid Epoch:29, Train loss=0.2336, Valid loss=0.5055,Valid F1=0.5850,Valid ACC=0.8590, Valid weighted acc=0.7203\n",
      "07-29 00:02 [MainProcess, 3068] [INFO ]  valid Epoch:29, Train loss=0.2336, Valid loss=0.5055,Valid F1=0.5850,Valid ACC=0.8590, Valid weighted acc=0.7203\n",
      "07-29 00:02 [MainProcess, 3068] [INFO ]  valid Epoch:29, Train loss=0.2336, Valid loss=0.5055,Valid F1=0.5850,Valid ACC=0.8590, Valid weighted acc=0.7203\n",
      "07-29 00:02 [MainProcess, 3068] [INFO ]  Time used for each epoch training: 22.28243660926819 seconds.\n",
      "07-29 00:02 [MainProcess, 3068] [INFO ]  Time used for each epoch training: 22.28243660926819 seconds.\n",
      "07-29 00:02 [MainProcess, 3068] [INFO ]  Time used for each epoch training: 22.28243660926819 seconds.\n",
      "07-29 00:02 [MainProcess, 3068] [INFO ]  **************************************************\n",
      "07-29 00:02 [MainProcess, 3068] [INFO ]  **************************************************\n",
      "07-29 00:02 [MainProcess, 3068] [INFO ]  **************************************************\n"
     ]
    },
    {
     "name": "stderr",
     "output_type": "stream",
     "text": [
      "\n",
      "100%|███████████████████████████████████████████| 40/40 [00:17<00:00,  2.23it/s]"
     ]
    },
    {
     "name": "stdout",
     "output_type": "stream",
     "text": [
      "lr:  5.373820576884526e-05\n",
      "07-29 00:03 [MainProcess, 3068] [INFO ]  Iteration:30, train loss = 0.230143 ,train F1 = 0.744461 ,train ACC = 0.919431 \n",
      "07-29 00:03 [MainProcess, 3068] [INFO ]  Iteration:30, train loss = 0.230143 ,train F1 = 0.744461 ,train ACC = 0.919431 \n",
      "07-29 00:03 [MainProcess, 3068] [INFO ]  Iteration:30, train loss = 0.230143 ,train F1 = 0.744461 ,train ACC = 0.919431 \n"
     ]
    },
    {
     "name": "stderr",
     "output_type": "stream",
     "text": [
      "\n",
      "100%|████████████████████████████████████████| 631/631 [00:05<00:00, 124.08it/s]"
     ]
    },
    {
     "name": "stdout",
     "output_type": "stream",
     "text": [
      "07-29 00:03 [MainProcess, 3068] [INFO ]  valid Epoch:30, Train loss=0.2301, Valid loss=0.4599,Valid F1=0.5989,Valid ACC=0.8637, Valid weighted acc=0.7457\n",
      "07-29 00:03 [MainProcess, 3068] [INFO ]  valid Epoch:30, Train loss=0.2301, Valid loss=0.4599,Valid F1=0.5989,Valid ACC=0.8637, Valid weighted acc=0.7457\n",
      "07-29 00:03 [MainProcess, 3068] [INFO ]  valid Epoch:30, Train loss=0.2301, Valid loss=0.4599,Valid F1=0.5989,Valid ACC=0.8637, Valid weighted acc=0.7457\n",
      "07-29 00:03 [MainProcess, 3068] [INFO ]  Time used for each epoch training: 23.05634641647339 seconds.\n",
      "07-29 00:03 [MainProcess, 3068] [INFO ]  Time used for each epoch training: 23.05634641647339 seconds.\n",
      "07-29 00:03 [MainProcess, 3068] [INFO ]  Time used for each epoch training: 23.05634641647339 seconds.\n",
      "07-29 00:03 [MainProcess, 3068] [INFO ]  **************************************************\n",
      "07-29 00:03 [MainProcess, 3068] [INFO ]  **************************************************\n",
      "07-29 00:03 [MainProcess, 3068] [INFO ]  **************************************************\n"
     ]
    },
    {
     "name": "stderr",
     "output_type": "stream",
     "text": [
      "\n",
      "100%|███████████████████████████████████████████| 40/40 [00:18<00:00,  2.21it/s]"
     ]
    },
    {
     "name": "stdout",
     "output_type": "stream",
     "text": [
      "lr:  4.890176724964919e-05\n",
      "07-29 00:03 [MainProcess, 3068] [INFO ]  Iteration:31, train loss = 0.228976 ,train F1 = 0.752758 ,train ACC = 0.920221 \n",
      "07-29 00:03 [MainProcess, 3068] [INFO ]  Iteration:31, train loss = 0.228976 ,train F1 = 0.752758 ,train ACC = 0.920221 \n",
      "07-29 00:03 [MainProcess, 3068] [INFO ]  Iteration:31, train loss = 0.228976 ,train F1 = 0.752758 ,train ACC = 0.920221 \n"
     ]
    },
    {
     "name": "stderr",
     "output_type": "stream",
     "text": [
      "\n",
      "100%|████████████████████████████████████████| 631/631 [00:05<00:00, 118.44it/s]"
     ]
    },
    {
     "name": "stdout",
     "output_type": "stream",
     "text": [
      "07-29 00:03 [MainProcess, 3068] [INFO ]  valid Epoch:31, Train loss=0.2290, Valid loss=0.5388,Valid F1=0.5591,Valid ACC=0.8526, Valid weighted acc=0.7022\n",
      "07-29 00:03 [MainProcess, 3068] [INFO ]  valid Epoch:31, Train loss=0.2290, Valid loss=0.5388,Valid F1=0.5591,Valid ACC=0.8526, Valid weighted acc=0.7022\n",
      "07-29 00:03 [MainProcess, 3068] [INFO ]  valid Epoch:31, Train loss=0.2290, Valid loss=0.5388,Valid F1=0.5591,Valid ACC=0.8526, Valid weighted acc=0.7022\n",
      "07-29 00:03 [MainProcess, 3068] [INFO ]  Time used for each epoch training: 23.43810725212097 seconds.\n",
      "07-29 00:03 [MainProcess, 3068] [INFO ]  Time used for each epoch training: 23.43810725212097 seconds.\n",
      "07-29 00:03 [MainProcess, 3068] [INFO ]  Time used for each epoch training: 23.43810725212097 seconds.\n",
      "07-29 00:03 [MainProcess, 3068] [INFO ]  **************************************************\n",
      "07-29 00:03 [MainProcess, 3068] [INFO ]  **************************************************\n",
      "07-29 00:03 [MainProcess, 3068] [INFO ]  **************************************************\n"
     ]
    },
    {
     "name": "stderr",
     "output_type": "stream",
     "text": [
      "\n",
      "100%|███████████████████████████████████████████| 40/40 [00:17<00:00,  2.25it/s]"
     ]
    },
    {
     "name": "stdout",
     "output_type": "stream",
     "text": [
      "lr:  4.450060819718076e-05\n",
      "07-29 00:04 [MainProcess, 3068] [INFO ]  Iteration:32, train loss = 0.214092 ,train F1 = 0.767219 ,train ACC = 0.926145 \n",
      "07-29 00:04 [MainProcess, 3068] [INFO ]  Iteration:32, train loss = 0.214092 ,train F1 = 0.767219 ,train ACC = 0.926145 \n",
      "07-29 00:04 [MainProcess, 3068] [INFO ]  Iteration:32, train loss = 0.214092 ,train F1 = 0.767219 ,train ACC = 0.926145 \n"
     ]
    },
    {
     "name": "stderr",
     "output_type": "stream",
     "text": [
      "\n",
      "100%|████████████████████████████████████████| 631/631 [00:04<00:00, 132.56it/s]"
     ]
    },
    {
     "name": "stdout",
     "output_type": "stream",
     "text": [
      "07-29 00:04 [MainProcess, 3068] [INFO ]  valid Epoch:32, Train loss=0.2141, Valid loss=0.4907,Valid F1=0.5765,Valid ACC=0.8415, Valid weighted acc=0.7342\n",
      "07-29 00:04 [MainProcess, 3068] [INFO ]  valid Epoch:32, Train loss=0.2141, Valid loss=0.4907,Valid F1=0.5765,Valid ACC=0.8415, Valid weighted acc=0.7342\n",
      "07-29 00:04 [MainProcess, 3068] [INFO ]  valid Epoch:32, Train loss=0.2141, Valid loss=0.4907,Valid F1=0.5765,Valid ACC=0.8415, Valid weighted acc=0.7342\n"
     ]
    },
    {
     "name": "stderr",
     "output_type": "stream",
     "text": [
      "\n"
     ]
    },
    {
     "name": "stdout",
     "output_type": "stream",
     "text": [
      "07-29 00:04 [MainProcess, 3068] [INFO ]  Time used for each epoch training: 22.57650065422058 seconds.\n",
      "07-29 00:04 [MainProcess, 3068] [INFO ]  Time used for each epoch training: 22.57650065422058 seconds.\n",
      "07-29 00:04 [MainProcess, 3068] [INFO ]  Time used for each epoch training: 22.57650065422058 seconds.\n",
      "07-29 00:04 [MainProcess, 3068] [INFO ]  **************************************************\n",
      "07-29 00:04 [MainProcess, 3068] [INFO ]  **************************************************\n",
      "07-29 00:04 [MainProcess, 3068] [INFO ]  **************************************************\n"
     ]
    },
    {
     "name": "stderr",
     "output_type": "stream",
     "text": [
      "100%|███████████████████████████████████████████| 40/40 [00:17<00:00,  2.29it/s]"
     ]
    },
    {
     "name": "stdout",
     "output_type": "stream",
     "text": [
      "lr:  4.049555345943449e-05\n",
      "07-29 00:04 [MainProcess, 3068] [INFO ]  Iteration:33, train loss = 0.210670 ,train F1 = 0.763638 ,train ACC = 0.918641 \n",
      "07-29 00:04 [MainProcess, 3068] [INFO ]  Iteration:33, train loss = 0.210670 ,train F1 = 0.763638 ,train ACC = 0.918641 \n",
      "07-29 00:04 [MainProcess, 3068] [INFO ]  Iteration:33, train loss = 0.210670 ,train F1 = 0.763638 ,train ACC = 0.918641 \n"
     ]
    },
    {
     "name": "stderr",
     "output_type": "stream",
     "text": [
      "\n",
      "100%|████████████████████████████████████████| 631/631 [00:06<00:00, 104.07it/s]"
     ]
    },
    {
     "name": "stdout",
     "output_type": "stream",
     "text": [
      "07-29 00:04 [MainProcess, 3068] [INFO ]  valid Epoch:33, Train loss=0.2107, Valid loss=0.4633,Valid F1=0.5620,Valid ACC=0.8479, Valid weighted acc=0.7326\n",
      "07-29 00:04 [MainProcess, 3068] [INFO ]  valid Epoch:33, Train loss=0.2107, Valid loss=0.4633,Valid F1=0.5620,Valid ACC=0.8479, Valid weighted acc=0.7326\n",
      "07-29 00:04 [MainProcess, 3068] [INFO ]  valid Epoch:33, Train loss=0.2107, Valid loss=0.4633,Valid F1=0.5620,Valid ACC=0.8479, Valid weighted acc=0.7326\n",
      "07-29 00:04 [MainProcess, 3068] [INFO ]  Time used for each epoch training: 23.528291702270508 seconds.\n",
      "07-29 00:04 [MainProcess, 3068] [INFO ]  Time used for each epoch training: 23.528291702270508 seconds.\n",
      "07-29 00:04 [MainProcess, 3068] [INFO ]  Time used for each epoch training: 23.528291702270508 seconds.\n",
      "07-29 00:04 [MainProcess, 3068] [INFO ]  **************************************************\n",
      "07-29 00:04 [MainProcess, 3068] [INFO ]  **************************************************\n",
      "07-29 00:04 [MainProcess, 3068] [INFO ]  **************************************************\n"
     ]
    },
    {
     "name": "stderr",
     "output_type": "stream",
     "text": [
      "\n",
      "100%|███████████████████████████████████████████| 40/40 [00:18<00:00,  2.22it/s]"
     ]
    },
    {
     "name": "stdout",
     "output_type": "stream",
     "text": [
      "lr:  3.685095364808539e-05\n",
      "07-29 00:04 [MainProcess, 3068] [INFO ]  Iteration:34, train loss = 0.209170 ,train F1 = 0.759171 ,train ACC = 0.923381 \n",
      "07-29 00:04 [MainProcess, 3068] [INFO ]  Iteration:34, train loss = 0.209170 ,train F1 = 0.759171 ,train ACC = 0.923381 \n",
      "07-29 00:04 [MainProcess, 3068] [INFO ]  Iteration:34, train loss = 0.209170 ,train F1 = 0.759171 ,train ACC = 0.923381 \n"
     ]
    },
    {
     "name": "stderr",
     "output_type": "stream",
     "text": [
      "\n",
      "100%|████████████████████████████████████████| 631/631 [00:06<00:00, 103.26it/s]"
     ]
    },
    {
     "name": "stdout",
     "output_type": "stream",
     "text": [
      "07-29 00:04 [MainProcess, 3068] [INFO ]  valid Epoch:34, Train loss=0.2092, Valid loss=0.4678,Valid F1=0.5851,Valid ACC=0.8526, Valid weighted acc=0.7432\n",
      "07-29 00:04 [MainProcess, 3068] [INFO ]  valid Epoch:34, Train loss=0.2092, Valid loss=0.4678,Valid F1=0.5851,Valid ACC=0.8526, Valid weighted acc=0.7432\n",
      "07-29 00:04 [MainProcess, 3068] [INFO ]  valid Epoch:34, Train loss=0.2092, Valid loss=0.4678,Valid F1=0.5851,Valid ACC=0.8526, Valid weighted acc=0.7432\n",
      "07-29 00:04 [MainProcess, 3068] [INFO ]  Time used for each epoch training: 24.15546202659607 seconds.\n",
      "07-29 00:04 [MainProcess, 3068] [INFO ]  Time used for each epoch training: 24.15546202659607 seconds.\n",
      "07-29 00:04 [MainProcess, 3068] [INFO ]  Time used for each epoch training: 24.15546202659607 seconds.\n",
      "07-29 00:04 [MainProcess, 3068] [INFO ]  **************************************************\n",
      "07-29 00:04 [MainProcess, 3068] [INFO ]  **************************************************\n",
      "07-29 00:04 [MainProcess, 3068] [INFO ]  **************************************************\n"
     ]
    },
    {
     "name": "stderr",
     "output_type": "stream",
     "text": [
      "\n",
      "100%|███████████████████████████████████████████| 40/40 [00:17<00:00,  2.28it/s]"
     ]
    },
    {
     "name": "stdout",
     "output_type": "stream",
     "text": [
      "lr:  3.3534367819757705e-05\n",
      "07-29 00:05 [MainProcess, 3068] [INFO ]  Iteration:35, train loss = 0.196530 ,train F1 = 0.792877 ,train ACC = 0.930095 \n",
      "07-29 00:05 [MainProcess, 3068] [INFO ]  Iteration:35, train loss = 0.196530 ,train F1 = 0.792877 ,train ACC = 0.930095 \n",
      "07-29 00:05 [MainProcess, 3068] [INFO ]  Iteration:35, train loss = 0.196530 ,train F1 = 0.792877 ,train ACC = 0.930095 \n"
     ]
    },
    {
     "name": "stderr",
     "output_type": "stream",
     "text": [
      "\n",
      "100%|████████████████████████████████████████| 631/631 [00:04<00:00, 132.56it/s]"
     ]
    },
    {
     "name": "stdout",
     "output_type": "stream",
     "text": [
      "07-29 00:05 [MainProcess, 3068] [INFO ]  valid Epoch:35, Train loss=0.1965, Valid loss=0.4793,Valid F1=0.5615,Valid ACC=0.8479, Valid weighted acc=0.7194\n",
      "07-29 00:05 [MainProcess, 3068] [INFO ]  valid Epoch:35, Train loss=0.1965, Valid loss=0.4793,Valid F1=0.5615,Valid ACC=0.8479, Valid weighted acc=0.7194\n",
      "07-29 00:05 [MainProcess, 3068] [INFO ]  valid Epoch:35, Train loss=0.1965, Valid loss=0.4793,Valid F1=0.5615,Valid ACC=0.8479, Valid weighted acc=0.7194\n",
      "07-29 00:05 [MainProcess, 3068] [INFO ]  Time used for each epoch training: 22.311949968338013 seconds.\n",
      "07-29 00:05 [MainProcess, 3068] [INFO ]  Time used for each epoch training: 22.311949968338013 seconds.\n",
      "07-29 00:05 [MainProcess, 3068] [INFO ]  Time used for each epoch training: 22.311949968338013 seconds.\n",
      "07-29 00:05 [MainProcess, 3068] [INFO ]  **************************************************\n",
      "07-29 00:05 [MainProcess, 3068] [INFO ]  **************************************************\n",
      "07-29 00:05 [MainProcess, 3068] [INFO ]  **************************************************\n"
     ]
    },
    {
     "name": "stderr",
     "output_type": "stream",
     "text": [
      "\n",
      "100%|███████████████████████████████████████████| 40/40 [00:17<00:00,  2.29it/s]"
     ]
    },
    {
     "name": "stdout",
     "output_type": "stream",
     "text": [
      "lr:  3.051627471597951e-05\n",
      "07-29 00:05 [MainProcess, 3068] [INFO ]  Iteration:36, train loss = 0.193659 ,train F1 = 0.781006 ,train ACC = 0.930885 \n",
      "07-29 00:05 [MainProcess, 3068] [INFO ]  Iteration:36, train loss = 0.193659 ,train F1 = 0.781006 ,train ACC = 0.930885 \n",
      "07-29 00:05 [MainProcess, 3068] [INFO ]  Iteration:36, train loss = 0.193659 ,train F1 = 0.781006 ,train ACC = 0.930885 \n"
     ]
    },
    {
     "name": "stderr",
     "output_type": "stream",
     "text": [
      "\n",
      "100%|████████████████████████████████████████| 631/631 [00:05<00:00, 106.21it/s]"
     ]
    },
    {
     "name": "stdout",
     "output_type": "stream",
     "text": [
      "07-29 00:05 [MainProcess, 3068] [INFO ]  valid Epoch:36, Train loss=0.1937, Valid loss=0.5874,Valid F1=0.5557,Valid ACC=0.8479, Valid weighted acc=0.6965\n",
      "07-29 00:05 [MainProcess, 3068] [INFO ]  valid Epoch:36, Train loss=0.1937, Valid loss=0.5874,Valid F1=0.5557,Valid ACC=0.8479, Valid weighted acc=0.6965\n",
      "07-29 00:05 [MainProcess, 3068] [INFO ]  valid Epoch:36, Train loss=0.1937, Valid loss=0.5874,Valid F1=0.5557,Valid ACC=0.8479, Valid weighted acc=0.6965\n",
      "07-29 00:05 [MainProcess, 3068] [INFO ]  Time used for each epoch training: 23.40950107574463 seconds.\n",
      "07-29 00:05 [MainProcess, 3068] [INFO ]  Time used for each epoch training: 23.40950107574463 seconds.\n",
      "07-29 00:05 [MainProcess, 3068] [INFO ]  Time used for each epoch training: 23.40950107574463 seconds.\n",
      "07-29 00:05 [MainProcess, 3068] [INFO ]  **************************************************\n",
      "07-29 00:05 [MainProcess, 3068] [INFO ]  **************************************************\n",
      "07-29 00:05 [MainProcess, 3068] [INFO ]  **************************************************\n"
     ]
    },
    {
     "name": "stderr",
     "output_type": "stream",
     "text": [
      "\n",
      "100%|███████████████████████████████████████████| 40/40 [00:17<00:00,  2.23it/s]"
     ]
    },
    {
     "name": "stdout",
     "output_type": "stream",
     "text": [
      "lr:  2.7769809991541357e-05\n",
      "07-29 00:05 [MainProcess, 3068] [INFO ]  Iteration:37, train loss = 0.202446 ,train F1 = 0.771001 ,train ACC = 0.930885 \n",
      "07-29 00:05 [MainProcess, 3068] [INFO ]  Iteration:37, train loss = 0.202446 ,train F1 = 0.771001 ,train ACC = 0.930885 \n",
      "07-29 00:05 [MainProcess, 3068] [INFO ]  Iteration:37, train loss = 0.202446 ,train F1 = 0.771001 ,train ACC = 0.930885 \n"
     ]
    },
    {
     "name": "stderr",
     "output_type": "stream",
     "text": [
      "\n",
      "100%|████████████████████████████████████████| 631/631 [00:04<00:00, 130.28it/s]"
     ]
    },
    {
     "name": "stdout",
     "output_type": "stream",
     "text": [
      "07-29 00:06 [MainProcess, 3068] [INFO ]  valid Epoch:37, Train loss=0.2024, Valid loss=0.4808,Valid F1=0.6095,Valid ACC=0.8574, Valid weighted acc=0.7572\n",
      "07-29 00:06 [MainProcess, 3068] [INFO ]  valid Epoch:37, Train loss=0.2024, Valid loss=0.4808,Valid F1=0.6095,Valid ACC=0.8574, Valid weighted acc=0.7572\n",
      "07-29 00:06 [MainProcess, 3068] [INFO ]  valid Epoch:37, Train loss=0.2024, Valid loss=0.4808,Valid F1=0.6095,Valid ACC=0.8574, Valid weighted acc=0.7572\n",
      "07-29 00:06 [MainProcess, 3068] [INFO ]  Time used for each epoch training: 22.774624586105347 seconds.\n",
      "07-29 00:06 [MainProcess, 3068] [INFO ]  Time used for each epoch training: 22.774624586105347 seconds.\n",
      "07-29 00:06 [MainProcess, 3068] [INFO ]  Time used for each epoch training: 22.774624586105347 seconds.\n",
      "07-29 00:06 [MainProcess, 3068] [INFO ]  **************************************************\n",
      "07-29 00:06 [MainProcess, 3068] [INFO ]  **************************************************\n",
      "07-29 00:06 [MainProcess, 3068] [INFO ]  **************************************************\n"
     ]
    },
    {
     "name": "stderr",
     "output_type": "stream",
     "text": [
      "\n",
      "100%|███████████████████████████████████████████| 40/40 [00:17<00:00,  2.31it/s]"
     ]
    },
    {
     "name": "stdout",
     "output_type": "stream",
     "text": [
      "lr:  2.5270527092302636e-05\n",
      "07-29 00:06 [MainProcess, 3068] [INFO ]  Iteration:38, train loss = 0.196749 ,train F1 = 0.789914 ,train ACC = 0.932859 \n",
      "07-29 00:06 [MainProcess, 3068] [INFO ]  Iteration:38, train loss = 0.196749 ,train F1 = 0.789914 ,train ACC = 0.932859 \n",
      "07-29 00:06 [MainProcess, 3068] [INFO ]  Iteration:38, train loss = 0.196749 ,train F1 = 0.789914 ,train ACC = 0.932859 \n"
     ]
    },
    {
     "name": "stderr",
     "output_type": "stream",
     "text": [
      "\n",
      "100%|████████████████████████████████████████| 631/631 [00:05<00:00, 122.83it/s]"
     ]
    },
    {
     "name": "stdout",
     "output_type": "stream",
     "text": [
      "07-29 00:06 [MainProcess, 3068] [INFO ]  valid Epoch:38, Train loss=0.1967, Valid loss=0.5101,Valid F1=0.5995,Valid ACC=0.8415, Valid weighted acc=0.7276\n",
      "07-29 00:06 [MainProcess, 3068] [INFO ]  valid Epoch:38, Train loss=0.1967, Valid loss=0.5101,Valid F1=0.5995,Valid ACC=0.8415, Valid weighted acc=0.7276\n",
      "07-29 00:06 [MainProcess, 3068] [INFO ]  valid Epoch:38, Train loss=0.1967, Valid loss=0.5101,Valid F1=0.5995,Valid ACC=0.8415, Valid weighted acc=0.7276\n",
      "07-29 00:06 [MainProcess, 3068] [INFO ]  Time used for each epoch training: 22.50775671005249 seconds.\n",
      "07-29 00:06 [MainProcess, 3068] [INFO ]  Time used for each epoch training: 22.50775671005249 seconds.\n",
      "07-29 00:06 [MainProcess, 3068] [INFO ]  Time used for each epoch training: 22.50775671005249 seconds.\n",
      "07-29 00:06 [MainProcess, 3068] [INFO ]  **************************************************\n",
      "07-29 00:06 [MainProcess, 3068] [INFO ]  **************************************************\n",
      "07-29 00:06 [MainProcess, 3068] [INFO ]  **************************************************\n"
     ]
    },
    {
     "name": "stderr",
     "output_type": "stream",
     "text": [
      "\n",
      "100%|███████████████████████████████████████████| 40/40 [00:17<00:00,  2.33it/s]"
     ]
    },
    {
     "name": "stdout",
     "output_type": "stream",
     "text": [
      "lr:  2.29961796539954e-05\n",
      "07-29 00:06 [MainProcess, 3068] [INFO ]  Iteration:39, train loss = 0.190070 ,train F1 = 0.803575 ,train ACC = 0.935229 \n",
      "07-29 00:06 [MainProcess, 3068] [INFO ]  Iteration:39, train loss = 0.190070 ,train F1 = 0.803575 ,train ACC = 0.935229 \n",
      "07-29 00:06 [MainProcess, 3068] [INFO ]  Iteration:39, train loss = 0.190070 ,train F1 = 0.803575 ,train ACC = 0.935229 \n"
     ]
    },
    {
     "name": "stderr",
     "output_type": "stream",
     "text": [
      "\n",
      "100%|████████████████████████████████████████| 631/631 [00:06<00:00, 103.15it/s]"
     ]
    },
    {
     "name": "stdout",
     "output_type": "stream",
     "text": [
      "07-29 00:06 [MainProcess, 3068] [INFO ]  valid Epoch:39, Train loss=0.1901, Valid loss=0.4687,Valid F1=0.6007,Valid ACC=0.8510, Valid weighted acc=0.7539\n",
      "07-29 00:06 [MainProcess, 3068] [INFO ]  valid Epoch:39, Train loss=0.1901, Valid loss=0.4687,Valid F1=0.6007,Valid ACC=0.8510, Valid weighted acc=0.7539\n",
      "07-29 00:06 [MainProcess, 3068] [INFO ]  valid Epoch:39, Train loss=0.1901, Valid loss=0.4687,Valid F1=0.6007,Valid ACC=0.8510, Valid weighted acc=0.7539\n",
      "07-29 00:06 [MainProcess, 3068] [INFO ]  Time used for each epoch training: 23.329100847244263 seconds.\n",
      "07-29 00:06 [MainProcess, 3068] [INFO ]  Time used for each epoch training: 23.329100847244263 seconds.\n",
      "07-29 00:06 [MainProcess, 3068] [INFO ]  Time used for each epoch training: 23.329100847244263 seconds.\n",
      "07-29 00:06 [MainProcess, 3068] [INFO ]  **************************************************\n",
      "07-29 00:06 [MainProcess, 3068] [INFO ]  **************************************************\n",
      "07-29 00:06 [MainProcess, 3068] [INFO ]  **************************************************\n"
     ]
    },
    {
     "name": "stderr",
     "output_type": "stream",
     "text": [
      "\n",
      "100%|███████████████████████████████████████████| 40/40 [00:18<00:00,  2.21it/s]"
     ]
    },
    {
     "name": "stdout",
     "output_type": "stream",
     "text": [
      "lr:  2.0926523485135813e-05\n",
      "07-29 00:07 [MainProcess, 3068] [INFO ]  Iteration:40, train loss = 0.195603 ,train F1 = 0.788976 ,train ACC = 0.930885 \n",
      "07-29 00:07 [MainProcess, 3068] [INFO ]  Iteration:40, train loss = 0.195603 ,train F1 = 0.788976 ,train ACC = 0.930885 \n",
      "07-29 00:07 [MainProcess, 3068] [INFO ]  Iteration:40, train loss = 0.195603 ,train F1 = 0.788976 ,train ACC = 0.930885 \n"
     ]
    },
    {
     "name": "stderr",
     "output_type": "stream",
     "text": [
      "\n",
      "100%|████████████████████████████████████████| 631/631 [00:05<00:00, 120.08it/s]"
     ]
    },
    {
     "name": "stdout",
     "output_type": "stream",
     "text": [
      "07-29 00:07 [MainProcess, 3068] [INFO ]  valid Epoch:40, Train loss=0.1956, Valid loss=0.4552,Valid F1=0.6169,Valid ACC=0.8526, Valid weighted acc=0.7662\n",
      "07-29 00:07 [MainProcess, 3068] [INFO ]  valid Epoch:40, Train loss=0.1956, Valid loss=0.4552,Valid F1=0.6169,Valid ACC=0.8526, Valid weighted acc=0.7662\n",
      "07-29 00:07 [MainProcess, 3068] [INFO ]  valid Epoch:40, Train loss=0.1956, Valid loss=0.4552,Valid F1=0.6169,Valid ACC=0.8526, Valid weighted acc=0.7662\n",
      "07-29 00:07 [MainProcess, 3068] [INFO ]  Time used for each epoch training: 23.417203426361084 seconds.\n",
      "07-29 00:07 [MainProcess, 3068] [INFO ]  Time used for each epoch training: 23.417203426361084 seconds.\n",
      "07-29 00:07 [MainProcess, 3068] [INFO ]  Time used for each epoch training: 23.417203426361084 seconds.\n",
      "07-29 00:07 [MainProcess, 3068] [INFO ]  **************************************************\n",
      "07-29 00:07 [MainProcess, 3068] [INFO ]  **************************************************\n",
      "07-29 00:07 [MainProcess, 3068] [INFO ]  **************************************************\n"
     ]
    },
    {
     "name": "stderr",
     "output_type": "stream",
     "text": [
      "\n",
      "100%|███████████████████████████████████████████| 40/40 [00:17<00:00,  2.27it/s]"
     ]
    },
    {
     "name": "stdout",
     "output_type": "stream",
     "text": [
      "lr:  1.904313637147359e-05\n",
      "07-29 00:07 [MainProcess, 3068] [INFO ]  Iteration:41, train loss = 0.193529 ,train F1 = 0.783580 ,train ACC = 0.932070 \n",
      "07-29 00:07 [MainProcess, 3068] [INFO ]  Iteration:41, train loss = 0.193529 ,train F1 = 0.783580 ,train ACC = 0.932070 \n",
      "07-29 00:07 [MainProcess, 3068] [INFO ]  Iteration:41, train loss = 0.193529 ,train F1 = 0.783580 ,train ACC = 0.932070 \n"
     ]
    },
    {
     "name": "stderr",
     "output_type": "stream",
     "text": [
      "\n",
      "100%|████████████████████████████████████████| 631/631 [00:04<00:00, 126.89it/s]\n"
     ]
    },
    {
     "name": "stdout",
     "output_type": "stream",
     "text": [
      "07-29 00:07 [MainProcess, 3068] [INFO ]  valid Epoch:41, Train loss=0.1935, Valid loss=0.5236,Valid F1=0.5708,Valid ACC=0.8590, Valid weighted acc=0.7285\n",
      "07-29 00:07 [MainProcess, 3068] [INFO ]  valid Epoch:41, Train loss=0.1935, Valid loss=0.5236,Valid F1=0.5708,Valid ACC=0.8590, Valid weighted acc=0.7285\n",
      "07-29 00:07 [MainProcess, 3068] [INFO ]  valid Epoch:41, Train loss=0.1935, Valid loss=0.5236,Valid F1=0.5708,Valid ACC=0.8590, Valid weighted acc=0.7285\n",
      "07-29 00:07 [MainProcess, 3068] [INFO ]  Time used for each epoch training: 22.62949228286743 seconds.\n",
      "07-29 00:07 [MainProcess, 3068] [INFO ]  Time used for each epoch training: 22.62949228286743 seconds.\n",
      "07-29 00:07 [MainProcess, 3068] [INFO ]  Time used for each epoch training: 22.62949228286743 seconds.\n",
      "07-29 00:07 [MainProcess, 3068] [INFO ]  **************************************************\n",
      "07-29 00:07 [MainProcess, 3068] [INFO ]  **************************************************\n",
      "07-29 00:07 [MainProcess, 3068] [INFO ]  **************************************************\n"
     ]
    },
    {
     "name": "stderr",
     "output_type": "stream",
     "text": [
      "100%|███████████████████████████████████████████| 40/40 [00:18<00:00,  2.21it/s]"
     ]
    },
    {
     "name": "stdout",
     "output_type": "stream",
     "text": [
      "lr:  1.7329254098040968e-05\n",
      "07-29 00:07 [MainProcess, 3068] [INFO ]  Iteration:42, train loss = 0.184876 ,train F1 = 0.811913 ,train ACC = 0.937599 \n",
      "07-29 00:07 [MainProcess, 3068] [INFO ]  Iteration:42, train loss = 0.184876 ,train F1 = 0.811913 ,train ACC = 0.937599 \n",
      "07-29 00:07 [MainProcess, 3068] [INFO ]  Iteration:42, train loss = 0.184876 ,train F1 = 0.811913 ,train ACC = 0.937599 \n"
     ]
    },
    {
     "name": "stderr",
     "output_type": "stream",
     "text": [
      "\n",
      "100%|████████████████████████████████████████| 631/631 [00:05<00:00, 117.85it/s]"
     ]
    },
    {
     "name": "stdout",
     "output_type": "stream",
     "text": [
      "07-29 00:07 [MainProcess, 3068] [INFO ]  valid Epoch:42, Train loss=0.1849, Valid loss=0.5247,Valid F1=0.5621,Valid ACC=0.8479, Valid weighted acc=0.7260\n",
      "07-29 00:07 [MainProcess, 3068] [INFO ]  valid Epoch:42, Train loss=0.1849, Valid loss=0.5247,Valid F1=0.5621,Valid ACC=0.8479, Valid weighted acc=0.7260\n",
      "07-29 00:07 [MainProcess, 3068] [INFO ]  valid Epoch:42, Train loss=0.1849, Valid loss=0.5247,Valid F1=0.5621,Valid ACC=0.8479, Valid weighted acc=0.7260\n",
      "07-29 00:07 [MainProcess, 3068] [INFO ]  Time used for each epoch training: 23.472150802612305 seconds.\n",
      "07-29 00:07 [MainProcess, 3068] [INFO ]  Time used for each epoch training: 23.472150802612305 seconds.\n",
      "07-29 00:07 [MainProcess, 3068] [INFO ]  Time used for each epoch training: 23.472150802612305 seconds.\n",
      "07-29 00:07 [MainProcess, 3068] [INFO ]  **************************************************\n"
     ]
    },
    {
     "name": "stderr",
     "output_type": "stream",
     "text": [
      "\n"
     ]
    },
    {
     "name": "stdout",
     "output_type": "stream",
     "text": [
      "07-29 00:07 [MainProcess, 3068] [INFO ]  **************************************************\n",
      "07-29 00:07 [MainProcess, 3068] [INFO ]  **************************************************\n"
     ]
    },
    {
     "name": "stderr",
     "output_type": "stream",
     "text": [
      "100%|███████████████████████████████████████████| 40/40 [00:17<00:00,  2.24it/s]"
     ]
    },
    {
     "name": "stdout",
     "output_type": "stream",
     "text": [
      "lr:  1.5769621229217283e-05\n",
      "07-29 00:08 [MainProcess, 3068] [INFO ]  Iteration:43, train loss = 0.191123 ,train F1 = 0.787012 ,train ACC = 0.932070 \n",
      "07-29 00:08 [MainProcess, 3068] [INFO ]  Iteration:43, train loss = 0.191123 ,train F1 = 0.787012 ,train ACC = 0.932070 \n",
      "07-29 00:08 [MainProcess, 3068] [INFO ]  Iteration:43, train loss = 0.191123 ,train F1 = 0.787012 ,train ACC = 0.932070 \n"
     ]
    },
    {
     "name": "stderr",
     "output_type": "stream",
     "text": [
      "\n",
      "100%|████████████████████████████████████████| 631/631 [00:05<00:00, 114.94it/s]"
     ]
    },
    {
     "name": "stdout",
     "output_type": "stream",
     "text": [
      "07-29 00:08 [MainProcess, 3068] [INFO ]  valid Epoch:43, Train loss=0.1911, Valid loss=0.5055,Valid F1=0.5929,Valid ACC=0.8621, Valid weighted acc=0.7383\n",
      "07-29 00:08 [MainProcess, 3068] [INFO ]  valid Epoch:43, Train loss=0.1911, Valid loss=0.5055,Valid F1=0.5929,Valid ACC=0.8621, Valid weighted acc=0.7383\n",
      "07-29 00:08 [MainProcess, 3068] [INFO ]  valid Epoch:43, Train loss=0.1911, Valid loss=0.5055,Valid F1=0.5929,Valid ACC=0.8621, Valid weighted acc=0.7383\n",
      "07-29 00:08 [MainProcess, 3068] [INFO ]  Time used for each epoch training: 23.40677285194397 seconds.\n",
      "07-29 00:08 [MainProcess, 3068] [INFO ]  Time used for each epoch training: 23.40677285194397 seconds.\n",
      "07-29 00:08 [MainProcess, 3068] [INFO ]  Time used for each epoch training: 23.40677285194397 seconds.\n",
      "07-29 00:08 [MainProcess, 3068] [INFO ]  **************************************************\n",
      "07-29 00:08 [MainProcess, 3068] [INFO ]  **************************************************\n",
      "07-29 00:08 [MainProcess, 3068] [INFO ]  **************************************************\n"
     ]
    },
    {
     "name": "stderr",
     "output_type": "stream",
     "text": [
      "\n",
      "100%|███████████████████████████████████████████| 40/40 [00:17<00:00,  2.28it/s]"
     ]
    },
    {
     "name": "stdout",
     "output_type": "stream",
     "text": [
      "lr:  1.4350355318587729e-05\n",
      "07-29 00:08 [MainProcess, 3068] [INFO ]  Iteration:44, train loss = 0.189594 ,train F1 = 0.798764 ,train ACC = 0.932464 \n",
      "07-29 00:08 [MainProcess, 3068] [INFO ]  Iteration:44, train loss = 0.189594 ,train F1 = 0.798764 ,train ACC = 0.932464 \n",
      "07-29 00:08 [MainProcess, 3068] [INFO ]  Iteration:44, train loss = 0.189594 ,train F1 = 0.798764 ,train ACC = 0.932464 \n"
     ]
    },
    {
     "name": "stderr",
     "output_type": "stream",
     "text": [
      "\n",
      "100%|████████████████████████████████████████| 631/631 [00:05<00:00, 113.79it/s]"
     ]
    },
    {
     "name": "stdout",
     "output_type": "stream",
     "text": [
      "07-29 00:08 [MainProcess, 3068] [INFO ]  valid Epoch:44, Train loss=0.1896, Valid loss=0.5173,Valid F1=0.5581,Valid ACC=0.8431, Valid weighted acc=0.7203\n",
      "07-29 00:08 [MainProcess, 3068] [INFO ]  valid Epoch:44, Train loss=0.1896, Valid loss=0.5173,Valid F1=0.5581,Valid ACC=0.8431, Valid weighted acc=0.7203\n",
      "07-29 00:08 [MainProcess, 3068] [INFO ]  valid Epoch:44, Train loss=0.1896, Valid loss=0.5173,Valid F1=0.5581,Valid ACC=0.8431, Valid weighted acc=0.7203\n",
      "07-29 00:08 [MainProcess, 3068] [INFO ]  Time used for each epoch training: 23.152575492858887 seconds.\n",
      "07-29 00:08 [MainProcess, 3068] [INFO ]  Time used for each epoch training: 23.152575492858887 seconds.\n",
      "07-29 00:08 [MainProcess, 3068] [INFO ]  Time used for each epoch training: 23.152575492858887 seconds.\n",
      "07-29 00:08 [MainProcess, 3068] [INFO ]  **************************************************\n",
      "07-29 00:08 [MainProcess, 3068] [INFO ]  **************************************************\n",
      "07-29 00:08 [MainProcess, 3068] [INFO ]  **************************************************\n"
     ]
    },
    {
     "name": "stderr",
     "output_type": "stream",
     "text": [
      "\n",
      "100%|███████████████████████████████████████████| 40/40 [00:17<00:00,  2.28it/s]"
     ]
    },
    {
     "name": "stdout",
     "output_type": "stream",
     "text": [
      "lr:  1.3058823339914834e-05\n",
      "07-29 00:09 [MainProcess, 3068] [INFO ]  Iteration:45, train loss = 0.190546 ,train F1 = 0.801953 ,train ACC = 0.934044 \n",
      "07-29 00:09 [MainProcess, 3068] [INFO ]  Iteration:45, train loss = 0.190546 ,train F1 = 0.801953 ,train ACC = 0.934044 \n",
      "07-29 00:09 [MainProcess, 3068] [INFO ]  Iteration:45, train loss = 0.190546 ,train F1 = 0.801953 ,train ACC = 0.934044 \n"
     ]
    },
    {
     "name": "stderr",
     "output_type": "stream",
     "text": [
      "\n",
      "100%|████████████████████████████████████████| 631/631 [00:05<00:00, 125.02it/s]"
     ]
    },
    {
     "name": "stdout",
     "output_type": "stream",
     "text": [
      "07-29 00:09 [MainProcess, 3068] [INFO ]  valid Epoch:45, Train loss=0.1905, Valid loss=0.5282,Valid F1=0.5890,Valid ACC=0.8494, Valid weighted acc=0.7137\n",
      "07-29 00:09 [MainProcess, 3068] [INFO ]  valid Epoch:45, Train loss=0.1905, Valid loss=0.5282,Valid F1=0.5890,Valid ACC=0.8494, Valid weighted acc=0.7137\n",
      "07-29 00:09 [MainProcess, 3068] [INFO ]  valid Epoch:45, Train loss=0.1905, Valid loss=0.5282,Valid F1=0.5890,Valid ACC=0.8494, Valid weighted acc=0.7137\n",
      "07-29 00:09 [MainProcess, 3068] [INFO ]  Time used for each epoch training: 22.626031637191772 seconds.\n",
      "07-29 00:09 [MainProcess, 3068] [INFO ]  Time used for each epoch training: 22.626031637191772 seconds.\n",
      "07-29 00:09 [MainProcess, 3068] [INFO ]  Time used for each epoch training: 22.626031637191772 seconds.\n",
      "07-29 00:09 [MainProcess, 3068] [INFO ]  **************************************************\n",
      "07-29 00:09 [MainProcess, 3068] [INFO ]  **************************************************\n",
      "07-29 00:09 [MainProcess, 3068] [INFO ]  **************************************************\n"
     ]
    },
    {
     "name": "stderr",
     "output_type": "stream",
     "text": [
      "\n",
      "100%|███████████████████████████████████████████| 40/40 [00:17<00:00,  2.32it/s]"
     ]
    },
    {
     "name": "stdout",
     "output_type": "stream",
     "text": [
      "lr:  1.18835292393225e-05\n",
      "07-29 00:09 [MainProcess, 3068] [INFO ]  Iteration:46, train loss = 0.181643 ,train F1 = 0.812805 ,train ACC = 0.937204 \n",
      "07-29 00:09 [MainProcess, 3068] [INFO ]  Iteration:46, train loss = 0.181643 ,train F1 = 0.812805 ,train ACC = 0.937204 \n",
      "07-29 00:09 [MainProcess, 3068] [INFO ]  Iteration:46, train loss = 0.181643 ,train F1 = 0.812805 ,train ACC = 0.937204 \n"
     ]
    },
    {
     "name": "stderr",
     "output_type": "stream",
     "text": [
      "\n",
      "100%|████████████████████████████████████████| 631/631 [00:05<00:00, 110.27it/s]"
     ]
    },
    {
     "name": "stdout",
     "output_type": "stream",
     "text": [
      "07-29 00:09 [MainProcess, 3068] [INFO ]  valid Epoch:46, Train loss=0.1816, Valid loss=0.4719,Valid F1=0.6283,Valid ACC=0.8479, Valid weighted acc=0.7506\n",
      "07-29 00:09 [MainProcess, 3068] [INFO ]  valid Epoch:46, Train loss=0.1816, Valid loss=0.4719,Valid F1=0.6283,Valid ACC=0.8479, Valid weighted acc=0.7506\n",
      "07-29 00:09 [MainProcess, 3068] [INFO ]  valid Epoch:46, Train loss=0.1816, Valid loss=0.4719,Valid F1=0.6283,Valid ACC=0.8479, Valid weighted acc=0.7506\n"
     ]
    },
    {
     "name": "stderr",
     "output_type": "stream",
     "text": [
      "\n"
     ]
    },
    {
     "name": "stdout",
     "output_type": "stream",
     "text": [
      "07-29 00:09 [MainProcess, 3068] [INFO ]  Time used for each epoch training: 22.998049020767212 seconds.\n",
      "07-29 00:09 [MainProcess, 3068] [INFO ]  Time used for each epoch training: 22.998049020767212 seconds.\n",
      "07-29 00:09 [MainProcess, 3068] [INFO ]  Time used for each epoch training: 22.998049020767212 seconds.\n",
      "07-29 00:09 [MainProcess, 3068] [INFO ]  **************************************************\n",
      "07-29 00:09 [MainProcess, 3068] [INFO ]  **************************************************\n",
      "07-29 00:09 [MainProcess, 3068] [INFO ]  **************************************************\n"
     ]
    },
    {
     "name": "stderr",
     "output_type": "stream",
     "text": [
      "100%|███████████████████████████████████████████| 40/40 [00:17<00:00,  2.27it/s]"
     ]
    },
    {
     "name": "stdout",
     "output_type": "stream",
     "text": [
      "lr:  1.0814011607783475e-05\n",
      "07-29 00:09 [MainProcess, 3068] [INFO ]  Iteration:47, train loss = 0.191005 ,train F1 = 0.797439 ,train ACC = 0.935229 \n",
      "07-29 00:09 [MainProcess, 3068] [INFO ]  Iteration:47, train loss = 0.191005 ,train F1 = 0.797439 ,train ACC = 0.935229 \n",
      "07-29 00:09 [MainProcess, 3068] [INFO ]  Iteration:47, train loss = 0.191005 ,train F1 = 0.797439 ,train ACC = 0.935229 \n"
     ]
    },
    {
     "name": "stderr",
     "output_type": "stream",
     "text": [
      "\n",
      "100%|████████████████████████████████████████| 631/631 [00:05<00:00, 114.88it/s]"
     ]
    },
    {
     "name": "stdout",
     "output_type": "stream",
     "text": [
      "07-29 00:09 [MainProcess, 3068] [INFO ]  valid Epoch:47, Train loss=0.1910, Valid loss=0.6052,Valid F1=0.5534,Valid ACC=0.8494, Valid weighted acc=0.6874\n",
      "07-29 00:09 [MainProcess, 3068] [INFO ]  valid Epoch:47, Train loss=0.1910, Valid loss=0.6052,Valid F1=0.5534,Valid ACC=0.8494, Valid weighted acc=0.6874\n",
      "07-29 00:09 [MainProcess, 3068] [INFO ]  valid Epoch:47, Train loss=0.1910, Valid loss=0.6052,Valid F1=0.5534,Valid ACC=0.8494, Valid weighted acc=0.6874\n",
      "07-29 00:09 [MainProcess, 3068] [INFO ]  Time used for each epoch training: 23.10988211631775 seconds.\n",
      "07-29 00:09 [MainProcess, 3068] [INFO ]  Time used for each epoch training: 23.10988211631775 seconds.\n",
      "07-29 00:09 [MainProcess, 3068] [INFO ]  Time used for each epoch training: 23.10988211631775 seconds.\n",
      "07-29 00:09 [MainProcess, 3068] [INFO ]  **************************************************\n",
      "07-29 00:09 [MainProcess, 3068] [INFO ]  **************************************************\n",
      "07-29 00:09 [MainProcess, 3068] [INFO ]  **************************************************\n"
     ]
    },
    {
     "name": "stderr",
     "output_type": "stream",
     "text": [
      "\n",
      "100%|███████████████████████████████████████████| 40/40 [00:17<00:00,  2.28it/s]"
     ]
    },
    {
     "name": "stdout",
     "output_type": "stream",
     "text": [
      "lr:  9.840750563082964e-06\n",
      "07-29 00:10 [MainProcess, 3068] [INFO ]  Iteration:48, train loss = 0.178196 ,train F1 = 0.838177 ,train ACC = 0.943523 \n",
      "07-29 00:10 [MainProcess, 3068] [INFO ]  Iteration:48, train loss = 0.178196 ,train F1 = 0.838177 ,train ACC = 0.943523 \n",
      "07-29 00:10 [MainProcess, 3068] [INFO ]  Iteration:48, train loss = 0.178196 ,train F1 = 0.838177 ,train ACC = 0.943523 \n"
     ]
    },
    {
     "name": "stderr",
     "output_type": "stream",
     "text": [
      "\n",
      "100%|████████████████████████████████████████| 631/631 [00:04<00:00, 128.76it/s]"
     ]
    },
    {
     "name": "stdout",
     "output_type": "stream",
     "text": [
      "07-29 00:10 [MainProcess, 3068] [INFO ]  valid Epoch:48, Train loss=0.1782, Valid loss=0.5047,Valid F1=0.5612,Valid ACC=0.8415, Valid weighted acc=0.7457\n",
      "07-29 00:10 [MainProcess, 3068] [INFO ]  valid Epoch:48, Train loss=0.1782, Valid loss=0.5047,Valid F1=0.5612,Valid ACC=0.8415, Valid weighted acc=0.7457\n",
      "07-29 00:10 [MainProcess, 3068] [INFO ]  valid Epoch:48, Train loss=0.1782, Valid loss=0.5047,Valid F1=0.5612,Valid ACC=0.8415, Valid weighted acc=0.7457\n",
      "07-29 00:10 [MainProcess, 3068] [INFO ]  Time used for each epoch training: 22.47160816192627 seconds.\n",
      "07-29 00:10 [MainProcess, 3068] [INFO ]  Time used for each epoch training: 22.47160816192627 seconds.\n",
      "07-29 00:10 [MainProcess, 3068] [INFO ]  Time used for each epoch training: 22.47160816192627 seconds.\n",
      "07-29 00:10 [MainProcess, 3068] [INFO ]  **************************************************\n",
      "07-29 00:10 [MainProcess, 3068] [INFO ]  **************************************************\n",
      "07-29 00:10 [MainProcess, 3068] [INFO ]  **************************************************\n"
     ]
    },
    {
     "name": "stderr",
     "output_type": "stream",
     "text": [
      "\n",
      "100%|███████████████████████████████████████████| 40/40 [00:17<00:00,  2.24it/s]"
     ]
    },
    {
     "name": "stdout",
     "output_type": "stream",
     "text": [
      "lr:  8.955083012405497e-06\n",
      "07-29 00:10 [MainProcess, 3068] [INFO ]  Iteration:49, train loss = 0.181990 ,train F1 = 0.811253 ,train ACC = 0.935229 \n",
      "07-29 00:10 [MainProcess, 3068] [INFO ]  Iteration:49, train loss = 0.181990 ,train F1 = 0.811253 ,train ACC = 0.935229 \n",
      "07-29 00:10 [MainProcess, 3068] [INFO ]  Iteration:49, train loss = 0.181990 ,train F1 = 0.811253 ,train ACC = 0.935229 \n"
     ]
    },
    {
     "name": "stderr",
     "output_type": "stream",
     "text": [
      "\n",
      "100%|████████████████████████████████████████| 631/631 [00:04<00:00, 134.01it/s]"
     ]
    },
    {
     "name": "stdout",
     "output_type": "stream",
     "text": [
      "07-29 00:10 [MainProcess, 3068] [INFO ]  valid Epoch:49, Train loss=0.1820, Valid loss=0.5174,Valid F1=0.5849,Valid ACC=0.8177, Valid weighted acc=0.7449\n",
      "07-29 00:10 [MainProcess, 3068] [INFO ]  valid Epoch:49, Train loss=0.1820, Valid loss=0.5174,Valid F1=0.5849,Valid ACC=0.8177, Valid weighted acc=0.7449\n",
      "07-29 00:10 [MainProcess, 3068] [INFO ]  valid Epoch:49, Train loss=0.1820, Valid loss=0.5174,Valid F1=0.5849,Valid ACC=0.8177, Valid weighted acc=0.7449\n",
      "07-29 00:10 [MainProcess, 3068] [INFO ]  Time used for each epoch training: 22.631258249282837 seconds.\n",
      "07-29 00:10 [MainProcess, 3068] [INFO ]  Time used for each epoch training: 22.631258249282837 seconds.\n",
      "07-29 00:10 [MainProcess, 3068] [INFO ]  Time used for each epoch training: 22.631258249282837 seconds.\n",
      "07-29 00:10 [MainProcess, 3068] [INFO ]  **************************************************\n",
      "07-29 00:10 [MainProcess, 3068] [INFO ]  **************************************************\n",
      "07-29 00:10 [MainProcess, 3068] [INFO ]  **************************************************\n"
     ]
    },
    {
     "name": "stderr",
     "output_type": "stream",
     "text": [
      "\n",
      "100%|███████████████████████████████████████████| 40/40 [00:17<00:00,  2.26it/s]"
     ]
    },
    {
     "name": "stdout",
     "output_type": "stream",
     "text": [
      "lr:  8.149125541289003e-06\n",
      "07-29 00:10 [MainProcess, 3068] [INFO ]  Iteration:50, train loss = 0.179110 ,train F1 = 0.813514 ,train ACC = 0.937204 \n",
      "07-29 00:10 [MainProcess, 3068] [INFO ]  Iteration:50, train loss = 0.179110 ,train F1 = 0.813514 ,train ACC = 0.937204 \n",
      "07-29 00:10 [MainProcess, 3068] [INFO ]  Iteration:50, train loss = 0.179110 ,train F1 = 0.813514 ,train ACC = 0.937204 \n"
     ]
    },
    {
     "name": "stderr",
     "output_type": "stream",
     "text": [
      "\n",
      "100%|████████████████████████████████████████| 631/631 [00:04<00:00, 133.29it/s]"
     ]
    },
    {
     "name": "stdout",
     "output_type": "stream",
     "text": [
      "07-29 00:11 [MainProcess, 3068] [INFO ]  valid Epoch:50, Train loss=0.1791, Valid loss=0.5639,Valid F1=0.5563,Valid ACC=0.8510, Valid weighted acc=0.6981\n",
      "07-29 00:11 [MainProcess, 3068] [INFO ]  valid Epoch:50, Train loss=0.1791, Valid loss=0.5639,Valid F1=0.5563,Valid ACC=0.8510, Valid weighted acc=0.6981\n",
      "07-29 00:11 [MainProcess, 3068] [INFO ]  valid Epoch:50, Train loss=0.1791, Valid loss=0.5639,Valid F1=0.5563,Valid ACC=0.8510, Valid weighted acc=0.6981\n",
      "07-29 00:11 [MainProcess, 3068] [INFO ]  Time used for each epoch training: 22.451496839523315 seconds.\n",
      "07-29 00:11 [MainProcess, 3068] [INFO ]  Time used for each epoch training: 22.451496839523315 seconds.\n",
      "07-29 00:11 [MainProcess, 3068] [INFO ]  Time used for each epoch training: 22.451496839523315 seconds.\n",
      "07-29 00:11 [MainProcess, 3068] [INFO ]  **************************************************\n",
      "07-29 00:11 [MainProcess, 3068] [INFO ]  **************************************************\n",
      "07-29 00:11 [MainProcess, 3068] [INFO ]  **************************************************\n"
     ]
    },
    {
     "name": "stderr",
     "output_type": "stream",
     "text": [
      "\n",
      "100%|███████████████████████████████████████████| 40/40 [00:17<00:00,  2.25it/s]"
     ]
    },
    {
     "name": "stdout",
     "output_type": "stream",
     "text": [
      "lr:  7.415704242572993e-06\n",
      "07-29 00:11 [MainProcess, 3068] [INFO ]  Iteration:51, train loss = 0.179511 ,train F1 = 0.806211 ,train ACC = 0.937204 \n",
      "07-29 00:11 [MainProcess, 3068] [INFO ]  Iteration:51, train loss = 0.179511 ,train F1 = 0.806211 ,train ACC = 0.937204 \n",
      "07-29 00:11 [MainProcess, 3068] [INFO ]  Iteration:51, train loss = 0.179511 ,train F1 = 0.806211 ,train ACC = 0.937204 \n"
     ]
    },
    {
     "name": "stderr",
     "output_type": "stream",
     "text": [
      "\n",
      "100%|████████████████████████████████████████| 631/631 [00:06<00:00, 103.16it/s]"
     ]
    },
    {
     "name": "stdout",
     "output_type": "stream",
     "text": [
      "07-29 00:11 [MainProcess, 3068] [INFO ]  valid Epoch:51, Train loss=0.1795, Valid loss=0.5006,Valid F1=0.6138,Valid ACC=0.8352, Valid weighted acc=0.7621\n",
      "07-29 00:11 [MainProcess, 3068] [INFO ]  valid Epoch:51, Train loss=0.1795, Valid loss=0.5006,Valid F1=0.6138,Valid ACC=0.8352, Valid weighted acc=0.7621\n",
      "07-29 00:11 [MainProcess, 3068] [INFO ]  valid Epoch:51, Train loss=0.1795, Valid loss=0.5006,Valid F1=0.6138,Valid ACC=0.8352, Valid weighted acc=0.7621\n",
      "07-29 00:11 [MainProcess, 3068] [INFO ]  Time used for each epoch training: 23.908979654312134 seconds.\n",
      "07-29 00:11 [MainProcess, 3068] [INFO ]  Time used for each epoch training: 23.908979654312134 seconds.\n",
      "07-29 00:11 [MainProcess, 3068] [INFO ]  Time used for each epoch training: 23.908979654312134 seconds.\n",
      "07-29 00:11 [MainProcess, 3068] [INFO ]  **************************************************\n",
      "07-29 00:11 [MainProcess, 3068] [INFO ]  **************************************************\n",
      "07-29 00:11 [MainProcess, 3068] [INFO ]  **************************************************\n"
     ]
    },
    {
     "name": "stderr",
     "output_type": "stream",
     "text": [
      "\n",
      "100%|███████████████████████████████████████████| 40/40 [00:17<00:00,  2.26it/s]"
     ]
    },
    {
     "name": "stdout",
     "output_type": "stream",
     "text": [
      "lr:  6.748290860741424e-06\n",
      "07-29 00:11 [MainProcess, 3068] [INFO ]  Iteration:52, train loss = 0.182014 ,train F1 = 0.813396 ,train ACC = 0.936019 \n",
      "07-29 00:11 [MainProcess, 3068] [INFO ]  Iteration:52, train loss = 0.182014 ,train F1 = 0.813396 ,train ACC = 0.936019 \n",
      "07-29 00:11 [MainProcess, 3068] [INFO ]  Iteration:52, train loss = 0.182014 ,train F1 = 0.813396 ,train ACC = 0.936019 \n"
     ]
    },
    {
     "name": "stderr",
     "output_type": "stream",
     "text": [
      "\n",
      "100%|████████████████████████████████████████| 631/631 [00:05<00:00, 123.69it/s]"
     ]
    },
    {
     "name": "stdout",
     "output_type": "stream",
     "text": [
      "07-29 00:11 [MainProcess, 3068] [INFO ]  valid Epoch:52, Train loss=0.1820, Valid loss=0.4989,Valid F1=0.5824,Valid ACC=0.8494, Valid weighted acc=0.7350\n",
      "07-29 00:11 [MainProcess, 3068] [INFO ]  valid Epoch:52, Train loss=0.1820, Valid loss=0.4989,Valid F1=0.5824,Valid ACC=0.8494, Valid weighted acc=0.7350\n",
      "07-29 00:11 [MainProcess, 3068] [INFO ]  valid Epoch:52, Train loss=0.1820, Valid loss=0.4989,Valid F1=0.5824,Valid ACC=0.8494, Valid weighted acc=0.7350\n"
     ]
    },
    {
     "name": "stderr",
     "output_type": "stream",
     "text": [
      "\n"
     ]
    },
    {
     "name": "stdout",
     "output_type": "stream",
     "text": [
      "07-29 00:11 [MainProcess, 3068] [INFO ]  Time used for each epoch training: 22.849085807800293 seconds.\n",
      "07-29 00:11 [MainProcess, 3068] [INFO ]  Time used for each epoch training: 22.849085807800293 seconds.\n",
      "07-29 00:11 [MainProcess, 3068] [INFO ]  Time used for each epoch training: 22.849085807800293 seconds.\n",
      "07-29 00:11 [MainProcess, 3068] [INFO ]  **************************************************\n",
      "07-29 00:11 [MainProcess, 3068] [INFO ]  **************************************************\n",
      "07-29 00:11 [MainProcess, 3068] [INFO ]  **************************************************\n"
     ]
    },
    {
     "name": "stderr",
     "output_type": "stream",
     "text": [
      "100%|███████████████████████████████████████████| 40/40 [00:18<00:00,  2.21it/s]"
     ]
    },
    {
     "name": "stdout",
     "output_type": "stream",
     "text": [
      "lr:  6.140944683274696e-06\n",
      "07-29 00:12 [MainProcess, 3068] [INFO ]  Iteration:53, train loss = 0.179413 ,train F1 = 0.815930 ,train ACC = 0.937994 \n",
      "07-29 00:12 [MainProcess, 3068] [INFO ]  Iteration:53, train loss = 0.179413 ,train F1 = 0.815930 ,train ACC = 0.937994 \n",
      "07-29 00:12 [MainProcess, 3068] [INFO ]  Iteration:53, train loss = 0.179413 ,train F1 = 0.815930 ,train ACC = 0.937994 \n"
     ]
    },
    {
     "name": "stderr",
     "output_type": "stream",
     "text": [
      "\n",
      "100%|████████████████████████████████████████| 631/631 [00:05<00:00, 116.94it/s]"
     ]
    },
    {
     "name": "stdout",
     "output_type": "stream",
     "text": [
      "07-29 00:12 [MainProcess, 3068] [INFO ]  valid Epoch:53, Train loss=0.1794, Valid loss=0.5147,Valid F1=0.6049,Valid ACC=0.8288, Valid weighted acc=0.7555\n",
      "07-29 00:12 [MainProcess, 3068] [INFO ]  valid Epoch:53, Train loss=0.1794, Valid loss=0.5147,Valid F1=0.6049,Valid ACC=0.8288, Valid weighted acc=0.7555\n",
      "07-29 00:12 [MainProcess, 3068] [INFO ]  valid Epoch:53, Train loss=0.1794, Valid loss=0.5147,Valid F1=0.6049,Valid ACC=0.8288, Valid weighted acc=0.7555\n",
      "07-29 00:12 [MainProcess, 3068] [INFO ]  Time used for each epoch training: 23.52364468574524 seconds.\n",
      "07-29 00:12 [MainProcess, 3068] [INFO ]  Time used for each epoch training: 23.52364468574524 seconds.\n",
      "07-29 00:12 [MainProcess, 3068] [INFO ]  Time used for each epoch training: 23.52364468574524 seconds.\n",
      "07-29 00:12 [MainProcess, 3068] [INFO ]  **************************************************\n",
      "07-29 00:12 [MainProcess, 3068] [INFO ]  **************************************************\n",
      "07-29 00:12 [MainProcess, 3068] [INFO ]  **************************************************\n"
     ]
    },
    {
     "name": "stderr",
     "output_type": "stream",
     "text": [
      "\n",
      "100%|███████████████████████████████████████████| 40/40 [00:18<00:00,  2.20it/s]"
     ]
    },
    {
     "name": "stdout",
     "output_type": "stream",
     "text": [
      "lr:  5.588259661779973e-06\n",
      "07-29 00:12 [MainProcess, 3068] [INFO ]  Iteration:54, train loss = 0.174027 ,train F1 = 0.816302 ,train ACC = 0.939573 \n",
      "07-29 00:12 [MainProcess, 3068] [INFO ]  Iteration:54, train loss = 0.174027 ,train F1 = 0.816302 ,train ACC = 0.939573 \n",
      "07-29 00:12 [MainProcess, 3068] [INFO ]  Iteration:54, train loss = 0.174027 ,train F1 = 0.816302 ,train ACC = 0.939573 \n"
     ]
    },
    {
     "name": "stderr",
     "output_type": "stream",
     "text": [
      "\n",
      "100%|████████████████████████████████████████| 631/631 [00:05<00:00, 106.67it/s]"
     ]
    },
    {
     "name": "stdout",
     "output_type": "stream",
     "text": [
      "07-29 00:12 [MainProcess, 3068] [INFO ]  valid Epoch:54, Train loss=0.1740, Valid loss=0.5521,Valid F1=0.5536,Valid ACC=0.8415, Valid weighted acc=0.6965\n",
      "07-29 00:12 [MainProcess, 3068] [INFO ]  valid Epoch:54, Train loss=0.1740, Valid loss=0.5521,Valid F1=0.5536,Valid ACC=0.8415, Valid weighted acc=0.6965\n",
      "07-29 00:12 [MainProcess, 3068] [INFO ]  valid Epoch:54, Train loss=0.1740, Valid loss=0.5521,Valid F1=0.5536,Valid ACC=0.8415, Valid weighted acc=0.6965\n",
      "07-29 00:12 [MainProcess, 3068] [INFO ]  Time used for each epoch training: 24.158247709274292 seconds.\n",
      "07-29 00:12 [MainProcess, 3068] [INFO ]  Time used for each epoch training: 24.158247709274292 seconds.\n",
      "07-29 00:12 [MainProcess, 3068] [INFO ]  Time used for each epoch training: 24.158247709274292 seconds.\n",
      "07-29 00:12 [MainProcess, 3068] [INFO ]  **************************************************\n",
      "07-29 00:12 [MainProcess, 3068] [INFO ]  **************************************************\n",
      "07-29 00:12 [MainProcess, 3068] [INFO ]  **************************************************\n"
     ]
    },
    {
     "name": "stderr",
     "output_type": "stream",
     "text": [
      "\n",
      "100%|███████████████████████████████████████████| 40/40 [00:17<00:00,  2.29it/s]"
     ]
    },
    {
     "name": "stdout",
     "output_type": "stream",
     "text": [
      "lr:  5.085316292219776e-06\n",
      "07-29 00:12 [MainProcess, 3068] [INFO ]  Iteration:55, train loss = 0.178854 ,train F1 = 0.812159 ,train ACC = 0.937599 \n",
      "07-29 00:12 [MainProcess, 3068] [INFO ]  Iteration:55, train loss = 0.178854 ,train F1 = 0.812159 ,train ACC = 0.937599 \n",
      "07-29 00:12 [MainProcess, 3068] [INFO ]  Iteration:55, train loss = 0.178854 ,train F1 = 0.812159 ,train ACC = 0.937599 \n"
     ]
    },
    {
     "name": "stderr",
     "output_type": "stream",
     "text": [
      "\n",
      "100%|████████████████████████████████████████| 631/631 [00:05<00:00, 107.77it/s]"
     ]
    },
    {
     "name": "stdout",
     "output_type": "stream",
     "text": [
      "07-29 00:12 [MainProcess, 3068] [INFO ]  valid Epoch:55, Train loss=0.1789, Valid loss=0.5267,Valid F1=0.5889,Valid ACC=0.8479, Valid weighted acc=0.7194\n",
      "07-29 00:12 [MainProcess, 3068] [INFO ]  valid Epoch:55, Train loss=0.1789, Valid loss=0.5267,Valid F1=0.5889,Valid ACC=0.8479, Valid weighted acc=0.7194\n",
      "07-29 00:12 [MainProcess, 3068] [INFO ]  valid Epoch:55, Train loss=0.1789, Valid loss=0.5267,Valid F1=0.5889,Valid ACC=0.8479, Valid weighted acc=0.7194\n"
     ]
    },
    {
     "name": "stderr",
     "output_type": "stream",
     "text": [
      "\n"
     ]
    },
    {
     "name": "stdout",
     "output_type": "stream",
     "text": [
      "07-29 00:12 [MainProcess, 3068] [INFO ]  Time used for each epoch training: 23.361021041870117 seconds.\n",
      "07-29 00:12 [MainProcess, 3068] [INFO ]  Time used for each epoch training: 23.361021041870117 seconds.\n",
      "07-29 00:12 [MainProcess, 3068] [INFO ]  Time used for each epoch training: 23.361021041870117 seconds.\n",
      "07-29 00:12 [MainProcess, 3068] [INFO ]  **************************************************\n",
      "07-29 00:12 [MainProcess, 3068] [INFO ]  **************************************************\n",
      "07-29 00:12 [MainProcess, 3068] [INFO ]  **************************************************\n"
     ]
    },
    {
     "name": "stderr",
     "output_type": "stream",
     "text": [
      "100%|███████████████████████████████████████████| 40/40 [00:17<00:00,  2.24it/s]"
     ]
    },
    {
     "name": "stdout",
     "output_type": "stream",
     "text": [
      "lr:  4.627637825919996e-06\n",
      "07-29 00:13 [MainProcess, 3068] [INFO ]  Iteration:56, train loss = 0.178422 ,train F1 = 0.819728 ,train ACC = 0.937599 \n",
      "07-29 00:13 [MainProcess, 3068] [INFO ]  Iteration:56, train loss = 0.178422 ,train F1 = 0.819728 ,train ACC = 0.937599 \n",
      "07-29 00:13 [MainProcess, 3068] [INFO ]  Iteration:56, train loss = 0.178422 ,train F1 = 0.819728 ,train ACC = 0.937599 \n"
     ]
    },
    {
     "name": "stderr",
     "output_type": "stream",
     "text": [
      "\n",
      "100%|████████████████████████████████████████| 631/631 [00:05<00:00, 122.30it/s]"
     ]
    },
    {
     "name": "stdout",
     "output_type": "stream",
     "text": [
      "07-29 00:13 [MainProcess, 3068] [INFO ]  valid Epoch:56, Train loss=0.1784, Valid loss=0.4782,Valid F1=0.5796,Valid ACC=0.8415, Valid weighted acc=0.7506\n",
      "07-29 00:13 [MainProcess, 3068] [INFO ]  valid Epoch:56, Train loss=0.1784, Valid loss=0.4782,Valid F1=0.5796,Valid ACC=0.8415, Valid weighted acc=0.7506\n",
      "07-29 00:13 [MainProcess, 3068] [INFO ]  valid Epoch:56, Train loss=0.1784, Valid loss=0.4782,Valid F1=0.5796,Valid ACC=0.8415, Valid weighted acc=0.7506\n",
      "07-29 00:13 [MainProcess, 3068] [INFO ]  Time used for each epoch training: 23.032894611358643 seconds.\n",
      "07-29 00:13 [MainProcess, 3068] [INFO ]  Time used for each epoch training: 23.032894611358643 seconds.\n",
      "07-29 00:13 [MainProcess, 3068] [INFO ]  Time used for each epoch training: 23.032894611358643 seconds.\n",
      "07-29 00:13 [MainProcess, 3068] [INFO ]  **************************************************\n",
      "07-29 00:13 [MainProcess, 3068] [INFO ]  **************************************************\n",
      "07-29 00:13 [MainProcess, 3068] [INFO ]  **************************************************\n"
     ]
    },
    {
     "name": "stderr",
     "output_type": "stream",
     "text": [
      "\n",
      "100%|███████████████████████████████████████████| 40/40 [00:18<00:00,  2.19it/s]"
     ]
    },
    {
     "name": "stdout",
     "output_type": "stream",
     "text": [
      "lr:  4.211150421587196e-06\n",
      "07-29 00:13 [MainProcess, 3068] [INFO ]  Iteration:57, train loss = 0.175308 ,train F1 = 0.824624 ,train ACC = 0.938784 \n",
      "07-29 00:13 [MainProcess, 3068] [INFO ]  Iteration:57, train loss = 0.175308 ,train F1 = 0.824624 ,train ACC = 0.938784 \n",
      "07-29 00:13 [MainProcess, 3068] [INFO ]  Iteration:57, train loss = 0.175308 ,train F1 = 0.824624 ,train ACC = 0.938784 \n"
     ]
    },
    {
     "name": "stderr",
     "output_type": "stream",
     "text": [
      "\n",
      "100%|████████████████████████████████████████| 631/631 [00:04<00:00, 132.55it/s]\n"
     ]
    },
    {
     "name": "stdout",
     "output_type": "stream",
     "text": [
      "07-29 00:13 [MainProcess, 3068] [INFO ]  valid Epoch:57, Train loss=0.1753, Valid loss=0.5487,Valid F1=0.5499,Valid ACC=0.8352, Valid weighted acc=0.6866\n",
      "07-29 00:13 [MainProcess, 3068] [INFO ]  valid Epoch:57, Train loss=0.1753, Valid loss=0.5487,Valid F1=0.5499,Valid ACC=0.8352, Valid weighted acc=0.6866\n",
      "07-29 00:13 [MainProcess, 3068] [INFO ]  valid Epoch:57, Train loss=0.1753, Valid loss=0.5487,Valid F1=0.5499,Valid ACC=0.8352, Valid weighted acc=0.6866\n",
      "07-29 00:13 [MainProcess, 3068] [INFO ]  Time used for each epoch training: 23.069422960281372 seconds.\n",
      "07-29 00:13 [MainProcess, 3068] [INFO ]  Time used for each epoch training: 23.069422960281372 seconds.\n",
      "07-29 00:13 [MainProcess, 3068] [INFO ]  Time used for each epoch training: 23.069422960281372 seconds.\n",
      "07-29 00:13 [MainProcess, 3068] [INFO ]  **************************************************\n",
      "07-29 00:13 [MainProcess, 3068] [INFO ]  **************************************************\n",
      "07-29 00:13 [MainProcess, 3068] [INFO ]  **************************************************\n"
     ]
    },
    {
     "name": "stderr",
     "output_type": "stream",
     "text": [
      "100%|███████████████████████████████████████████| 40/40 [00:18<00:00,  2.20it/s]"
     ]
    },
    {
     "name": "stdout",
     "output_type": "stream",
     "text": [
      "lr:  3.832146883644349e-06\n",
      "07-29 00:14 [MainProcess, 3068] [INFO ]  Iteration:58, train loss = 0.173784 ,train F1 = 0.809556 ,train ACC = 0.938389 \n",
      "07-29 00:14 [MainProcess, 3068] [INFO ]  Iteration:58, train loss = 0.173784 ,train F1 = 0.809556 ,train ACC = 0.938389 \n",
      "07-29 00:14 [MainProcess, 3068] [INFO ]  Iteration:58, train loss = 0.173784 ,train F1 = 0.809556 ,train ACC = 0.938389 \n"
     ]
    },
    {
     "name": "stderr",
     "output_type": "stream",
     "text": [
      "\n",
      "100%|████████████████████████████████████████| 631/631 [00:05<00:00, 108.53it/s]"
     ]
    },
    {
     "name": "stdout",
     "output_type": "stream",
     "text": [
      "07-29 00:14 [MainProcess, 3068] [INFO ]  valid Epoch:58, Train loss=0.1738, Valid loss=0.5507,Valid F1=0.5694,Valid ACC=0.8558, Valid weighted acc=0.7334\n",
      "07-29 00:14 [MainProcess, 3068] [INFO ]  valid Epoch:58, Train loss=0.1738, Valid loss=0.5507,Valid F1=0.5694,Valid ACC=0.8558, Valid weighted acc=0.7334\n",
      "07-29 00:14 [MainProcess, 3068] [INFO ]  valid Epoch:58, Train loss=0.1738, Valid loss=0.5507,Valid F1=0.5694,Valid ACC=0.8558, Valid weighted acc=0.7334\n",
      "07-29 00:14 [MainProcess, 3068] [INFO ]  Time used for each epoch training: 24.017189741134644 seconds.\n",
      "07-29 00:14 [MainProcess, 3068] [INFO ]  Time used for each epoch training: 24.017189741134644 seconds.\n",
      "07-29 00:14 [MainProcess, 3068] [INFO ]  Time used for each epoch training: 24.017189741134644 seconds.\n",
      "07-29 00:14 [MainProcess, 3068] [INFO ]  **************************************************\n",
      "07-29 00:14 [MainProcess, 3068] [INFO ]  **************************************************\n",
      "07-29 00:14 [MainProcess, 3068] [INFO ]  **************************************************\n"
     ]
    },
    {
     "name": "stderr",
     "output_type": "stream",
     "text": [
      "\n",
      "100%|███████████████████████████████████████████| 40/40 [00:18<00:00,  2.22it/s]"
     ]
    },
    {
     "name": "stdout",
     "output_type": "stream",
     "text": [
      "lr:  3.487253664116358e-06\n",
      "07-29 00:14 [MainProcess, 3068] [INFO ]  Iteration:59, train loss = 0.183543 ,train F1 = 0.812135 ,train ACC = 0.934439 \n",
      "07-29 00:14 [MainProcess, 3068] [INFO ]  Iteration:59, train loss = 0.183543 ,train F1 = 0.812135 ,train ACC = 0.934439 \n",
      "07-29 00:14 [MainProcess, 3068] [INFO ]  Iteration:59, train loss = 0.183543 ,train F1 = 0.812135 ,train ACC = 0.934439 \n"
     ]
    },
    {
     "name": "stderr",
     "output_type": "stream",
     "text": [
      "\n",
      "100%|████████████████████████████████████████| 631/631 [00:05<00:00, 121.05it/s]\n"
     ]
    },
    {
     "name": "stdout",
     "output_type": "stream",
     "text": [
      "07-29 00:14 [MainProcess, 3068] [INFO ]  valid Epoch:59, Train loss=0.1835, Valid loss=0.5185,Valid F1=0.5877,Valid ACC=0.8399, Valid weighted acc=0.7416\n",
      "07-29 00:14 [MainProcess, 3068] [INFO ]  valid Epoch:59, Train loss=0.1835, Valid loss=0.5185,Valid F1=0.5877,Valid ACC=0.8399, Valid weighted acc=0.7416\n",
      "07-29 00:14 [MainProcess, 3068] [INFO ]  valid Epoch:59, Train loss=0.1835, Valid loss=0.5185,Valid F1=0.5877,Valid ACC=0.8399, Valid weighted acc=0.7416\n",
      "07-29 00:14 [MainProcess, 3068] [INFO ]  Time used for each epoch training: 23.2702157497406 seconds.\n",
      "07-29 00:14 [MainProcess, 3068] [INFO ]  Time used for each epoch training: 23.2702157497406 seconds.\n",
      "07-29 00:14 [MainProcess, 3068] [INFO ]  Time used for each epoch training: 23.2702157497406 seconds.\n",
      "07-29 00:14 [MainProcess, 3068] [INFO ]  **************************************************\n",
      "07-29 00:14 [MainProcess, 3068] [INFO ]  **************************************************\n",
      "07-29 00:14 [MainProcess, 3068] [INFO ]  **************************************************\n"
     ]
    },
    {
     "name": "stderr",
     "output_type": "stream",
     "text": [
      "100%|███████████████████████████████████████████| 40/40 [00:17<00:00,  2.23it/s]"
     ]
    },
    {
     "name": "stdout",
     "output_type": "stream",
     "text": [
      "lr:  3.1734008343458857e-06\n",
      "07-29 00:14 [MainProcess, 3068] [INFO ]  Iteration:60, train loss = 0.175213 ,train F1 = 0.822499 ,train ACC = 0.937994 \n",
      "07-29 00:14 [MainProcess, 3068] [INFO ]  Iteration:60, train loss = 0.175213 ,train F1 = 0.822499 ,train ACC = 0.937994 \n",
      "07-29 00:14 [MainProcess, 3068] [INFO ]  Iteration:60, train loss = 0.175213 ,train F1 = 0.822499 ,train ACC = 0.937994 \n"
     ]
    },
    {
     "name": "stderr",
     "output_type": "stream",
     "text": [
      "\n",
      "100%|████████████████████████████████████████| 631/631 [00:05<00:00, 106.83it/s]"
     ]
    },
    {
     "name": "stdout",
     "output_type": "stream",
     "text": [
      "07-29 00:14 [MainProcess, 3068] [INFO ]  valid Epoch:60, Train loss=0.1752, Valid loss=0.5321,Valid F1=0.6296,Valid ACC=0.8431, Valid weighted acc=0.7400\n",
      "07-29 00:14 [MainProcess, 3068] [INFO ]  valid Epoch:60, Train loss=0.1752, Valid loss=0.5321,Valid F1=0.6296,Valid ACC=0.8431, Valid weighted acc=0.7400\n",
      "07-29 00:14 [MainProcess, 3068] [INFO ]  valid Epoch:60, Train loss=0.1752, Valid loss=0.5321,Valid F1=0.6296,Valid ACC=0.8431, Valid weighted acc=0.7400\n",
      "07-29 00:14 [MainProcess, 3068] [INFO ]  Time used for each epoch training: 23.893292903900146 seconds.\n",
      "07-29 00:14 [MainProcess, 3068] [INFO ]  Time used for each epoch training: 23.893292903900146 seconds.\n",
      "07-29 00:14 [MainProcess, 3068] [INFO ]  Time used for each epoch training: 23.893292903900146 seconds.\n",
      "07-29 00:14 [MainProcess, 3068] [INFO ]  **************************************************\n",
      "07-29 00:14 [MainProcess, 3068] [INFO ]  **************************************************\n",
      "07-29 00:14 [MainProcess, 3068] [INFO ]  **************************************************\n"
     ]
    },
    {
     "name": "stderr",
     "output_type": "stream",
     "text": [
      "\n",
      "100%|███████████████████████████████████████████| 40/40 [00:17<00:00,  2.27it/s]"
     ]
    },
    {
     "name": "stdout",
     "output_type": "stream",
     "text": [
      "lr:  2.887794759254756e-06\n",
      "07-29 00:15 [MainProcess, 3068] [INFO ]  Iteration:61, train loss = 0.169013 ,train F1 = 0.819672 ,train ACC = 0.941153 \n",
      "07-29 00:15 [MainProcess, 3068] [INFO ]  Iteration:61, train loss = 0.169013 ,train F1 = 0.819672 ,train ACC = 0.941153 \n",
      "07-29 00:15 [MainProcess, 3068] [INFO ]  Iteration:61, train loss = 0.169013 ,train F1 = 0.819672 ,train ACC = 0.941153 \n"
     ]
    },
    {
     "name": "stderr",
     "output_type": "stream",
     "text": [
      "\n",
      "100%|████████████████████████████████████████| 631/631 [00:04<00:00, 131.61it/s]"
     ]
    },
    {
     "name": "stdout",
     "output_type": "stream",
     "text": [
      "07-29 00:15 [MainProcess, 3068] [INFO ]  valid Epoch:61, Train loss=0.1690, Valid loss=0.5217,Valid F1=0.6138,Valid ACC=0.8463, Valid weighted acc=0.7153\n",
      "07-29 00:15 [MainProcess, 3068] [INFO ]  valid Epoch:61, Train loss=0.1690, Valid loss=0.5217,Valid F1=0.6138,Valid ACC=0.8463, Valid weighted acc=0.7153\n",
      "07-29 00:15 [MainProcess, 3068] [INFO ]  valid Epoch:61, Train loss=0.1690, Valid loss=0.5217,Valid F1=0.6138,Valid ACC=0.8463, Valid weighted acc=0.7153\n",
      "07-29 00:15 [MainProcess, 3068] [INFO ]  Time used for each epoch training: 22.491332054138184 seconds.\n",
      "07-29 00:15 [MainProcess, 3068] [INFO ]  Time used for each epoch training: 22.491332054138184 seconds.\n",
      "07-29 00:15 [MainProcess, 3068] [INFO ]  Time used for each epoch training: 22.491332054138184 seconds.\n",
      "07-29 00:15 [MainProcess, 3068] [INFO ]  **************************************************\n",
      "07-29 00:15 [MainProcess, 3068] [INFO ]  **************************************************\n",
      "07-29 00:15 [MainProcess, 3068] [INFO ]  **************************************************\n"
     ]
    },
    {
     "name": "stderr",
     "output_type": "stream",
     "text": [
      "\n",
      "100%|███████████████████████████████████████████| 40/40 [00:17<00:00,  2.23it/s]"
     ]
    },
    {
     "name": "stdout",
     "output_type": "stream",
     "text": [
      "lr:  2.627893230921828e-06\n",
      "07-29 00:15 [MainProcess, 3068] [INFO ]  Iteration:62, train loss = 0.178723 ,train F1 = 0.818707 ,train ACC = 0.938784 \n",
      "07-29 00:15 [MainProcess, 3068] [INFO ]  Iteration:62, train loss = 0.178723 ,train F1 = 0.818707 ,train ACC = 0.938784 \n",
      "07-29 00:15 [MainProcess, 3068] [INFO ]  Iteration:62, train loss = 0.178723 ,train F1 = 0.818707 ,train ACC = 0.938784 \n"
     ]
    },
    {
     "name": "stderr",
     "output_type": "stream",
     "text": [
      "\n",
      "100%|████████████████████████████████████████| 631/631 [00:05<00:00, 112.79it/s]"
     ]
    },
    {
     "name": "stdout",
     "output_type": "stream",
     "text": [
      "07-29 00:15 [MainProcess, 3068] [INFO ]  valid Epoch:62, Train loss=0.1787, Valid loss=0.5819,Valid F1=0.5582,Valid ACC=0.8510, Valid weighted acc=0.6981\n",
      "07-29 00:15 [MainProcess, 3068] [INFO ]  valid Epoch:62, Train loss=0.1787, Valid loss=0.5819,Valid F1=0.5582,Valid ACC=0.8510, Valid weighted acc=0.6981\n",
      "07-29 00:15 [MainProcess, 3068] [INFO ]  valid Epoch:62, Train loss=0.1787, Valid loss=0.5819,Valid F1=0.5582,Valid ACC=0.8510, Valid weighted acc=0.6981\n",
      "07-29 00:15 [MainProcess, 3068] [INFO ]  Time used for each epoch training: 23.575850009918213 seconds.\n",
      "07-29 00:15 [MainProcess, 3068] [INFO ]  Time used for each epoch training: 23.575850009918213 seconds.\n",
      "07-29 00:15 [MainProcess, 3068] [INFO ]  Time used for each epoch training: 23.575850009918213 seconds.\n",
      "07-29 00:15 [MainProcess, 3068] [INFO ]  **************************************************\n",
      "07-29 00:15 [MainProcess, 3068] [INFO ]  **************************************************\n",
      "07-29 00:15 [MainProcess, 3068] [INFO ]  **************************************************\n"
     ]
    },
    {
     "name": "stderr",
     "output_type": "stream",
     "text": [
      "\n",
      "100%|███████████████████████████████████████████| 40/40 [00:17<00:00,  2.26it/s]"
     ]
    },
    {
     "name": "stdout",
     "output_type": "stream",
     "text": [
      "lr:  2.3913828401388635e-06\n",
      "07-29 00:16 [MainProcess, 3068] [INFO ]  Iteration:63, train loss = 0.178399 ,train F1 = 0.812442 ,train ACC = 0.936414 \n",
      "07-29 00:16 [MainProcess, 3068] [INFO ]  Iteration:63, train loss = 0.178399 ,train F1 = 0.812442 ,train ACC = 0.936414 \n",
      "07-29 00:16 [MainProcess, 3068] [INFO ]  Iteration:63, train loss = 0.178399 ,train F1 = 0.812442 ,train ACC = 0.936414 \n"
     ]
    },
    {
     "name": "stderr",
     "output_type": "stream",
     "text": [
      "\n",
      "100%|████████████████████████████████████████| 631/631 [00:05<00:00, 105.78it/s]"
     ]
    },
    {
     "name": "stdout",
     "output_type": "stream",
     "text": [
      "07-29 00:16 [MainProcess, 3068] [INFO ]  valid Epoch:63, Train loss=0.1784, Valid loss=0.5693,Valid F1=0.5676,Valid ACC=0.8542, Valid weighted acc=0.7293\n",
      "07-29 00:16 [MainProcess, 3068] [INFO ]  valid Epoch:63, Train loss=0.1784, Valid loss=0.5693,Valid F1=0.5676,Valid ACC=0.8542, Valid weighted acc=0.7293\n",
      "07-29 00:16 [MainProcess, 3068] [INFO ]  valid Epoch:63, Train loss=0.1784, Valid loss=0.5693,Valid F1=0.5676,Valid ACC=0.8542, Valid weighted acc=0.7293\n"
     ]
    },
    {
     "name": "stderr",
     "output_type": "stream",
     "text": [
      "\n"
     ]
    },
    {
     "name": "stdout",
     "output_type": "stream",
     "text": [
      "07-29 00:16 [MainProcess, 3068] [INFO ]  Time used for each epoch training: 23.746646642684937 seconds.\n",
      "07-29 00:16 [MainProcess, 3068] [INFO ]  Time used for each epoch training: 23.746646642684937 seconds.\n",
      "07-29 00:16 [MainProcess, 3068] [INFO ]  Time used for each epoch training: 23.746646642684937 seconds.\n",
      "07-29 00:16 [MainProcess, 3068] [INFO ]  **************************************************\n",
      "07-29 00:16 [MainProcess, 3068] [INFO ]  **************************************************\n",
      "07-29 00:16 [MainProcess, 3068] [INFO ]  **************************************************\n"
     ]
    },
    {
     "name": "stderr",
     "output_type": "stream",
     "text": [
      "100%|███████████████████████████████████████████| 40/40 [00:16<00:00,  2.36it/s]"
     ]
    },
    {
     "name": "stdout",
     "output_type": "stream",
     "text": [
      "lr:  2.176158384526366e-06\n",
      "07-29 00:16 [MainProcess, 3068] [INFO ]  Iteration:64, train loss = 0.184331 ,train F1 = 0.814774 ,train ACC = 0.936019 \n",
      "07-29 00:16 [MainProcess, 3068] [INFO ]  Iteration:64, train loss = 0.184331 ,train F1 = 0.814774 ,train ACC = 0.936019 \n",
      "07-29 00:16 [MainProcess, 3068] [INFO ]  Iteration:64, train loss = 0.184331 ,train F1 = 0.814774 ,train ACC = 0.936019 \n"
     ]
    },
    {
     "name": "stderr",
     "output_type": "stream",
     "text": [
      "\n",
      "100%|████████████████████████████████████████| 631/631 [00:05<00:00, 112.33it/s]"
     ]
    },
    {
     "name": "stdout",
     "output_type": "stream",
     "text": [
      "07-29 00:16 [MainProcess, 3068] [INFO ]  valid Epoch:64, Train loss=0.1843, Valid loss=0.5023,Valid F1=0.5596,Valid ACC=0.8415, Valid weighted acc=0.7358\n",
      "07-29 00:16 [MainProcess, 3068] [INFO ]  valid Epoch:64, Train loss=0.1843, Valid loss=0.5023,Valid F1=0.5596,Valid ACC=0.8415, Valid weighted acc=0.7358\n",
      "07-29 00:16 [MainProcess, 3068] [INFO ]  valid Epoch:64, Train loss=0.1843, Valid loss=0.5023,Valid F1=0.5596,Valid ACC=0.8415, Valid weighted acc=0.7358\n",
      "07-29 00:16 [MainProcess, 3068] [INFO ]  Time used for each epoch training: 22.620097398757935 seconds.\n",
      "07-29 00:16 [MainProcess, 3068] [INFO ]  Time used for each epoch training: 22.620097398757935 seconds.\n",
      "07-29 00:16 [MainProcess, 3068] [INFO ]  Time used for each epoch training: 22.620097398757935 seconds.\n",
      "07-29 00:16 [MainProcess, 3068] [INFO ]  **************************************************\n",
      "07-29 00:16 [MainProcess, 3068] [INFO ]  **************************************************\n",
      "07-29 00:16 [MainProcess, 3068] [INFO ]  **************************************************\n"
     ]
    },
    {
     "name": "stderr",
     "output_type": "stream",
     "text": [
      "\n",
      "100%|███████████████████████████████████████████| 40/40 [00:17<00:00,  2.24it/s]"
     ]
    },
    {
     "name": "stdout",
     "output_type": "stream",
     "text": [
      "lr:  1.980304129918993e-06\n",
      "07-29 00:16 [MainProcess, 3068] [INFO ]  Iteration:65, train loss = 0.173127 ,train F1 = 0.816100 ,train ACC = 0.939573 \n",
      "07-29 00:16 [MainProcess, 3068] [INFO ]  Iteration:65, train loss = 0.173127 ,train F1 = 0.816100 ,train ACC = 0.939573 \n",
      "07-29 00:16 [MainProcess, 3068] [INFO ]  Iteration:65, train loss = 0.173127 ,train F1 = 0.816100 ,train ACC = 0.939573 \n"
     ]
    },
    {
     "name": "stderr",
     "output_type": "stream",
     "text": [
      "\n",
      "100%|████████████████████████████████████████| 631/631 [00:05<00:00, 109.13it/s]"
     ]
    },
    {
     "name": "stdout",
     "output_type": "stream",
     "text": [
      "07-29 00:16 [MainProcess, 3068] [INFO ]  valid Epoch:65, Train loss=0.1731, Valid loss=0.4994,Valid F1=0.5730,Valid ACC=0.8352, Valid weighted acc=0.7441\n",
      "07-29 00:16 [MainProcess, 3068] [INFO ]  valid Epoch:65, Train loss=0.1731, Valid loss=0.4994,Valid F1=0.5730,Valid ACC=0.8352, Valid weighted acc=0.7441\n",
      "07-29 00:16 [MainProcess, 3068] [INFO ]  valid Epoch:65, Train loss=0.1731, Valid loss=0.4994,Valid F1=0.5730,Valid ACC=0.8352, Valid weighted acc=0.7441\n",
      "07-29 00:16 [MainProcess, 3068] [INFO ]  Time used for each epoch training: 23.657881498336792 seconds.\n",
      "07-29 00:16 [MainProcess, 3068] [INFO ]  Time used for each epoch training: 23.657881498336792 seconds.\n",
      "07-29 00:16 [MainProcess, 3068] [INFO ]  Time used for each epoch training: 23.657881498336792 seconds.\n",
      "07-29 00:16 [MainProcess, 3068] [INFO ]  **************************************************\n",
      "07-29 00:16 [MainProcess, 3068] [INFO ]  **************************************************\n",
      "07-29 00:16 [MainProcess, 3068] [INFO ]  **************************************************\n"
     ]
    },
    {
     "name": "stderr",
     "output_type": "stream",
     "text": [
      "\n",
      "100%|███████████████████████████████████████████| 40/40 [00:16<00:00,  2.37it/s]"
     ]
    },
    {
     "name": "stdout",
     "output_type": "stream",
     "text": [
      "lr:  1.8020767582262836e-06\n",
      "07-29 00:17 [MainProcess, 3068] [INFO ]  Iteration:66, train loss = 0.174499 ,train F1 = 0.824226 ,train ACC = 0.939573 \n",
      "07-29 00:17 [MainProcess, 3068] [INFO ]  Iteration:66, train loss = 0.174499 ,train F1 = 0.824226 ,train ACC = 0.939573 \n",
      "07-29 00:17 [MainProcess, 3068] [INFO ]  Iteration:66, train loss = 0.174499 ,train F1 = 0.824226 ,train ACC = 0.939573 \n"
     ]
    },
    {
     "name": "stderr",
     "output_type": "stream",
     "text": [
      "\n",
      "100%|████████████████████████████████████████| 631/631 [00:04<00:00, 132.44it/s]"
     ]
    },
    {
     "name": "stdout",
     "output_type": "stream",
     "text": [
      "07-29 00:17 [MainProcess, 3068] [INFO ]  valid Epoch:66, Train loss=0.1745, Valid loss=0.5972,Valid F1=0.5740,Valid ACC=0.8637, Valid weighted acc=0.7276\n",
      "07-29 00:17 [MainProcess, 3068] [INFO ]  valid Epoch:66, Train loss=0.1745, Valid loss=0.5972,Valid F1=0.5740,Valid ACC=0.8637, Valid weighted acc=0.7276\n",
      "07-29 00:17 [MainProcess, 3068] [INFO ]  valid Epoch:66, Train loss=0.1745, Valid loss=0.5972,Valid F1=0.5740,Valid ACC=0.8637, Valid weighted acc=0.7276\n",
      "07-29 00:17 [MainProcess, 3068] [INFO ]  Time used for each epoch training: 21.687731981277466 seconds.\n",
      "07-29 00:17 [MainProcess, 3068] [INFO ]  Time used for each epoch training: 21.687731981277466 seconds.\n",
      "07-29 00:17 [MainProcess, 3068] [INFO ]  Time used for each epoch training: 21.687731981277466 seconds.\n",
      "07-29 00:17 [MainProcess, 3068] [INFO ]  **************************************************\n",
      "07-29 00:17 [MainProcess, 3068] [INFO ]  **************************************************\n",
      "07-29 00:17 [MainProcess, 3068] [INFO ]  **************************************************\n"
     ]
    },
    {
     "name": "stderr",
     "output_type": "stream",
     "text": [
      "\n",
      "100%|███████████████████████████████████████████| 40/40 [00:18<00:00,  2.22it/s]"
     ]
    },
    {
     "name": "stdout",
     "output_type": "stream",
     "text": [
      "lr:  1.639889849985918e-06\n",
      "07-29 00:17 [MainProcess, 3068] [INFO ]  Iteration:67, train loss = 0.175137 ,train F1 = 0.814468 ,train ACC = 0.937204 \n",
      "07-29 00:17 [MainProcess, 3068] [INFO ]  Iteration:67, train loss = 0.175137 ,train F1 = 0.814468 ,train ACC = 0.937204 \n",
      "07-29 00:17 [MainProcess, 3068] [INFO ]  Iteration:67, train loss = 0.175137 ,train F1 = 0.814468 ,train ACC = 0.937204 \n"
     ]
    },
    {
     "name": "stderr",
     "output_type": "stream",
     "text": [
      "\n",
      "100%|████████████████████████████████████████| 631/631 [00:05<00:00, 115.52it/s]"
     ]
    },
    {
     "name": "stdout",
     "output_type": "stream",
     "text": [
      "07-29 00:17 [MainProcess, 3068] [INFO ]  valid Epoch:67, Train loss=0.1751, Valid loss=0.5171,Valid F1=0.5679,Valid ACC=0.8510, Valid weighted acc=0.7309\n",
      "07-29 00:17 [MainProcess, 3068] [INFO ]  valid Epoch:67, Train loss=0.1751, Valid loss=0.5171,Valid F1=0.5679,Valid ACC=0.8510, Valid weighted acc=0.7309\n",
      "07-29 00:17 [MainProcess, 3068] [INFO ]  valid Epoch:67, Train loss=0.1751, Valid loss=0.5171,Valid F1=0.5679,Valid ACC=0.8510, Valid weighted acc=0.7309\n",
      "07-29 00:17 [MainProcess, 3068] [INFO ]  Time used for each epoch training: 23.551141023635864 seconds.\n",
      "07-29 00:17 [MainProcess, 3068] [INFO ]  Time used for each epoch training: 23.551141023635864 seconds.\n",
      "07-29 00:17 [MainProcess, 3068] [INFO ]  Time used for each epoch training: 23.551141023635864 seconds.\n",
      "07-29 00:17 [MainProcess, 3068] [INFO ]  **************************************************\n",
      "07-29 00:17 [MainProcess, 3068] [INFO ]  **************************************************\n",
      "07-29 00:17 [MainProcess, 3068] [INFO ]  **************************************************\n"
     ]
    },
    {
     "name": "stderr",
     "output_type": "stream",
     "text": [
      "\n",
      "100%|███████████████████████████████████████████| 40/40 [00:17<00:00,  2.27it/s]"
     ]
    },
    {
     "name": "stdout",
     "output_type": "stream",
     "text": [
      "lr:  1.4922997634871856e-06\n",
      "07-29 00:17 [MainProcess, 3068] [INFO ]  Iteration:68, train loss = 0.177959 ,train F1 = 0.817522 ,train ACC = 0.937204 \n",
      "07-29 00:17 [MainProcess, 3068] [INFO ]  Iteration:68, train loss = 0.177959 ,train F1 = 0.817522 ,train ACC = 0.937204 \n",
      "07-29 00:17 [MainProcess, 3068] [INFO ]  Iteration:68, train loss = 0.177959 ,train F1 = 0.817522 ,train ACC = 0.937204 \n"
     ]
    },
    {
     "name": "stderr",
     "output_type": "stream",
     "text": [
      "\n",
      "100%|████████████████████████████████████████| 631/631 [00:05<00:00, 105.23it/s]"
     ]
    },
    {
     "name": "stdout",
     "output_type": "stream",
     "text": [
      "07-29 00:18 [MainProcess, 3068] [INFO ]  valid Epoch:68, Train loss=0.1780, Valid loss=0.5264,Valid F1=0.5882,Valid ACC=0.8510, Valid weighted acc=0.7588\n",
      "07-29 00:18 [MainProcess, 3068] [INFO ]  valid Epoch:68, Train loss=0.1780, Valid loss=0.5264,Valid F1=0.5882,Valid ACC=0.8510, Valid weighted acc=0.7588\n",
      "07-29 00:18 [MainProcess, 3068] [INFO ]  valid Epoch:68, Train loss=0.1780, Valid loss=0.5264,Valid F1=0.5882,Valid ACC=0.8510, Valid weighted acc=0.7588\n",
      "07-29 00:18 [MainProcess, 3068] [INFO ]  Time used for each epoch training: 23.671084880828857 seconds.\n",
      "07-29 00:18 [MainProcess, 3068] [INFO ]  Time used for each epoch training: 23.671084880828857 seconds.\n",
      "07-29 00:18 [MainProcess, 3068] [INFO ]  Time used for each epoch training: 23.671084880828857 seconds.\n",
      "07-29 00:18 [MainProcess, 3068] [INFO ]  **************************************************\n",
      "07-29 00:18 [MainProcess, 3068] [INFO ]  **************************************************\n",
      "07-29 00:18 [MainProcess, 3068] [INFO ]  **************************************************\n"
     ]
    },
    {
     "name": "stderr",
     "output_type": "stream",
     "text": [
      "\n",
      "100%|███████████████████████████████████████████| 40/40 [00:17<00:00,  2.28it/s]"
     ]
    },
    {
     "name": "stdout",
     "output_type": "stream",
     "text": [
      "lr:  1.357992784773339e-06\n",
      "07-29 00:18 [MainProcess, 3068] [INFO ]  Iteration:69, train loss = 0.178653 ,train F1 = 0.822195 ,train ACC = 0.937994 \n",
      "07-29 00:18 [MainProcess, 3068] [INFO ]  Iteration:69, train loss = 0.178653 ,train F1 = 0.822195 ,train ACC = 0.937994 \n",
      "07-29 00:18 [MainProcess, 3068] [INFO ]  Iteration:69, train loss = 0.178653 ,train F1 = 0.822195 ,train ACC = 0.937994 \n"
     ]
    },
    {
     "name": "stderr",
     "output_type": "stream",
     "text": [
      "\n",
      "100%|████████████████████████████████████████| 631/631 [00:04<00:00, 134.82it/s]"
     ]
    },
    {
     "name": "stdout",
     "output_type": "stream",
     "text": [
      "07-29 00:18 [MainProcess, 3068] [INFO ]  valid Epoch:69, Train loss=0.1787, Valid loss=0.5093,Valid F1=0.6012,Valid ACC=0.8510, Valid weighted acc=0.7441\n",
      "07-29 00:18 [MainProcess, 3068] [INFO ]  valid Epoch:69, Train loss=0.1787, Valid loss=0.5093,Valid F1=0.6012,Valid ACC=0.8510, Valid weighted acc=0.7441\n",
      "07-29 00:18 [MainProcess, 3068] [INFO ]  valid Epoch:69, Train loss=0.1787, Valid loss=0.5093,Valid F1=0.6012,Valid ACC=0.8510, Valid weighted acc=0.7441\n",
      "07-29 00:18 [MainProcess, 3068] [INFO ]  Time used for each epoch training: 22.251983880996704 seconds.\n",
      "07-29 00:18 [MainProcess, 3068] [INFO ]  Time used for each epoch training: 22.251983880996704 seconds.\n",
      "07-29 00:18 [MainProcess, 3068] [INFO ]  Time used for each epoch training: 22.251983880996704 seconds.\n",
      "07-29 00:18 [MainProcess, 3068] [INFO ]  **************************************************\n",
      "07-29 00:18 [MainProcess, 3068] [INFO ]  **************************************************\n",
      "07-29 00:18 [MainProcess, 3068] [INFO ]  **************************************************\n"
     ]
    },
    {
     "name": "stderr",
     "output_type": "stream",
     "text": [
      "\n",
      "100%|███████████████████████████████████████████| 40/40 [00:17<00:00,  2.27it/s]"
     ]
    },
    {
     "name": "stdout",
     "output_type": "stream",
     "text": [
      "lr:  1.2357734341437386e-06\n",
      "07-29 00:18 [MainProcess, 3068] [INFO ]  Iteration:70, train loss = 0.169771 ,train F1 = 0.812853 ,train ACC = 0.939968 \n",
      "07-29 00:18 [MainProcess, 3068] [INFO ]  Iteration:70, train loss = 0.169771 ,train F1 = 0.812853 ,train ACC = 0.939968 \n",
      "07-29 00:18 [MainProcess, 3068] [INFO ]  Iteration:70, train loss = 0.169771 ,train F1 = 0.812853 ,train ACC = 0.939968 \n"
     ]
    },
    {
     "name": "stderr",
     "output_type": "stream",
     "text": [
      "\n",
      "100%|████████████████████████████████████████| 631/631 [00:05<00:00, 121.27it/s]\n"
     ]
    },
    {
     "name": "stdout",
     "output_type": "stream",
     "text": [
      "07-29 00:18 [MainProcess, 3068] [INFO ]  valid Epoch:70, Train loss=0.1698, Valid loss=0.5211,Valid F1=0.6077,Valid ACC=0.8368, Valid weighted acc=0.7121\n",
      "07-29 00:18 [MainProcess, 3068] [INFO ]  valid Epoch:70, Train loss=0.1698, Valid loss=0.5211,Valid F1=0.6077,Valid ACC=0.8368, Valid weighted acc=0.7121\n",
      "07-29 00:18 [MainProcess, 3068] [INFO ]  valid Epoch:70, Train loss=0.1698, Valid loss=0.5211,Valid F1=0.6077,Valid ACC=0.8368, Valid weighted acc=0.7121\n",
      "07-29 00:18 [MainProcess, 3068] [INFO ]  Time used for each epoch training: 22.82582926750183 seconds.\n",
      "07-29 00:18 [MainProcess, 3068] [INFO ]  Time used for each epoch training: 22.82582926750183 seconds.\n",
      "07-29 00:18 [MainProcess, 3068] [INFO ]  Time used for each epoch training: 22.82582926750183 seconds.\n",
      "07-29 00:18 [MainProcess, 3068] [INFO ]  **************************************************\n",
      "07-29 00:18 [MainProcess, 3068] [INFO ]  **************************************************\n",
      "07-29 00:18 [MainProcess, 3068] [INFO ]  **************************************************\n"
     ]
    },
    {
     "name": "stderr",
     "output_type": "stream",
     "text": [
      "100%|███████████████████████████████████████████| 40/40 [00:17<00:00,  2.31it/s]"
     ]
    },
    {
     "name": "stdout",
     "output_type": "stream",
     "text": [
      "lr:  1.1245538250708021e-06\n",
      "07-29 00:19 [MainProcess, 3068] [INFO ]  Iteration:71, train loss = 0.178784 ,train F1 = 0.820362 ,train ACC = 0.938784 \n",
      "07-29 00:19 [MainProcess, 3068] [INFO ]  Iteration:71, train loss = 0.178784 ,train F1 = 0.820362 ,train ACC = 0.938784 \n",
      "07-29 00:19 [MainProcess, 3068] [INFO ]  Iteration:71, train loss = 0.178784 ,train F1 = 0.820362 ,train ACC = 0.938784 \n"
     ]
    },
    {
     "name": "stderr",
     "output_type": "stream",
     "text": [
      "\n",
      "100%|████████████████████████████████████████| 631/631 [00:04<00:00, 131.20it/s]"
     ]
    },
    {
     "name": "stdout",
     "output_type": "stream",
     "text": [
      "07-29 00:19 [MainProcess, 3068] [INFO ]  valid Epoch:71, Train loss=0.1788, Valid loss=0.4998,Valid F1=0.6028,Valid ACC=0.8574, Valid weighted acc=0.7408\n",
      "07-29 00:19 [MainProcess, 3068] [INFO ]  valid Epoch:71, Train loss=0.1788, Valid loss=0.4998,Valid F1=0.6028,Valid ACC=0.8574, Valid weighted acc=0.7408\n",
      "07-29 00:19 [MainProcess, 3068] [INFO ]  valid Epoch:71, Train loss=0.1788, Valid loss=0.4998,Valid F1=0.6028,Valid ACC=0.8574, Valid weighted acc=0.7408\n",
      "07-29 00:19 [MainProcess, 3068] [INFO ]  Time used for each epoch training: 22.19222331047058 seconds.\n",
      "07-29 00:19 [MainProcess, 3068] [INFO ]  Time used for each epoch training: 22.19222331047058 seconds.\n",
      "07-29 00:19 [MainProcess, 3068] [INFO ]  Time used for each epoch training: 22.19222331047058 seconds.\n",
      "07-29 00:19 [MainProcess, 3068] [INFO ]  **************************************************\n",
      "07-29 00:19 [MainProcess, 3068] [INFO ]  **************************************************\n",
      "07-29 00:19 [MainProcess, 3068] [INFO ]  **************************************************\n"
     ]
    },
    {
     "name": "stderr",
     "output_type": "stream",
     "text": [
      "\n",
      "100%|███████████████████████████████████████████| 40/40 [00:18<00:00,  2.16it/s]"
     ]
    },
    {
     "name": "stdout",
     "output_type": "stream",
     "text": [
      "lr:  1.02334398081443e-06\n",
      "07-29 00:19 [MainProcess, 3068] [INFO ]  Iteration:72, train loss = 0.171476 ,train F1 = 0.817222 ,train ACC = 0.937994 \n",
      "07-29 00:19 [MainProcess, 3068] [INFO ]  Iteration:72, train loss = 0.171476 ,train F1 = 0.817222 ,train ACC = 0.937994 \n",
      "07-29 00:19 [MainProcess, 3068] [INFO ]  Iteration:72, train loss = 0.171476 ,train F1 = 0.817222 ,train ACC = 0.937994 \n"
     ]
    },
    {
     "name": "stderr",
     "output_type": "stream",
     "text": [
      "\n",
      "100%|████████████████████████████████████████| 631/631 [00:05<00:00, 115.23it/s]"
     ]
    },
    {
     "name": "stdout",
     "output_type": "stream",
     "text": [
      "07-29 00:19 [MainProcess, 3068] [INFO ]  valid Epoch:72, Train loss=0.1715, Valid loss=0.5359,Valid F1=0.5819,Valid ACC=0.8384, Valid weighted acc=0.7145\n",
      "07-29 00:19 [MainProcess, 3068] [INFO ]  valid Epoch:72, Train loss=0.1715, Valid loss=0.5359,Valid F1=0.5819,Valid ACC=0.8384, Valid weighted acc=0.7145\n",
      "07-29 00:19 [MainProcess, 3068] [INFO ]  valid Epoch:72, Train loss=0.1715, Valid loss=0.5359,Valid F1=0.5819,Valid ACC=0.8384, Valid weighted acc=0.7145\n",
      "07-29 00:19 [MainProcess, 3068] [INFO ]  Time used for each epoch training: 24.04296112060547 seconds.\n",
      "07-29 00:19 [MainProcess, 3068] [INFO ]  Time used for each epoch training: 24.04296112060547 seconds.\n",
      "07-29 00:19 [MainProcess, 3068] [INFO ]  Time used for each epoch training: 24.04296112060547 seconds.\n",
      "07-29 00:19 [MainProcess, 3068] [INFO ]  **************************************************\n",
      "07-29 00:19 [MainProcess, 3068] [INFO ]  **************************************************\n",
      "07-29 00:19 [MainProcess, 3068] [INFO ]  **************************************************\n"
     ]
    },
    {
     "name": "stderr",
     "output_type": "stream",
     "text": [
      "\n",
      "100%|███████████████████████████████████████████| 40/40 [00:17<00:00,  2.29it/s]"
     ]
    },
    {
     "name": "stdout",
     "output_type": "stream",
     "text": [
      "lr:  9.312430225411312e-07\n",
      "07-29 00:19 [MainProcess, 3068] [INFO ]  Iteration:73, train loss = 0.177529 ,train F1 = 0.817548 ,train ACC = 0.937204 \n",
      "07-29 00:19 [MainProcess, 3068] [INFO ]  Iteration:73, train loss = 0.177529 ,train F1 = 0.817548 ,train ACC = 0.937204 \n",
      "07-29 00:19 [MainProcess, 3068] [INFO ]  Iteration:73, train loss = 0.177529 ,train F1 = 0.817548 ,train ACC = 0.937204 \n"
     ]
    },
    {
     "name": "stderr",
     "output_type": "stream",
     "text": [
      "\n",
      "100%|████████████████████████████████████████| 631/631 [00:05<00:00, 117.31it/s]"
     ]
    },
    {
     "name": "stdout",
     "output_type": "stream",
     "text": [
      "07-29 00:19 [MainProcess, 3068] [INFO ]  valid Epoch:73, Train loss=0.1775, Valid loss=0.5467,Valid F1=0.5943,Valid ACC=0.8526, Valid weighted acc=0.7153\n",
      "07-29 00:19 [MainProcess, 3068] [INFO ]  valid Epoch:73, Train loss=0.1775, Valid loss=0.5467,Valid F1=0.5943,Valid ACC=0.8526, Valid weighted acc=0.7153\n",
      "07-29 00:19 [MainProcess, 3068] [INFO ]  valid Epoch:73, Train loss=0.1775, Valid loss=0.5467,Valid F1=0.5943,Valid ACC=0.8526, Valid weighted acc=0.7153\n",
      "07-29 00:19 [MainProcess, 3068] [INFO ]  Time used for each epoch training: 22.875357151031494 seconds.\n",
      "07-29 00:19 [MainProcess, 3068] [INFO ]  Time used for each epoch training: 22.875357151031494 seconds.\n",
      "07-29 00:19 [MainProcess, 3068] [INFO ]  Time used for each epoch training: 22.875357151031494 seconds.\n",
      "07-29 00:19 [MainProcess, 3068] [INFO ]  **************************************************\n",
      "07-29 00:19 [MainProcess, 3068] [INFO ]  **************************************************\n",
      "07-29 00:19 [MainProcess, 3068] [INFO ]  **************************************************\n"
     ]
    },
    {
     "name": "stderr",
     "output_type": "stream",
     "text": [
      "\n",
      "100%|███████████████████████████████████████████| 40/40 [00:16<00:00,  2.39it/s]"
     ]
    },
    {
     "name": "stdout",
     "output_type": "stream",
     "text": [
      "lr:  8.474311505124295e-07\n",
      "07-29 00:20 [MainProcess, 3068] [INFO ]  Iteration:74, train loss = 0.173639 ,train F1 = 0.825021 ,train ACC = 0.939968 \n",
      "07-29 00:20 [MainProcess, 3068] [INFO ]  Iteration:74, train loss = 0.173639 ,train F1 = 0.825021 ,train ACC = 0.939968 \n",
      "07-29 00:20 [MainProcess, 3068] [INFO ]  Iteration:74, train loss = 0.173639 ,train F1 = 0.825021 ,train ACC = 0.939968 \n"
     ]
    },
    {
     "name": "stderr",
     "output_type": "stream",
     "text": [
      "\n",
      "100%|█████████████████████████████████████████| 631/631 [00:06<00:00, 99.59it/s]"
     ]
    },
    {
     "name": "stdout",
     "output_type": "stream",
     "text": [
      "07-29 00:20 [MainProcess, 3068] [INFO ]  valid Epoch:74, Train loss=0.1736, Valid loss=0.5383,Valid F1=0.5946,Valid ACC=0.8257, Valid weighted acc=0.7654\n",
      "07-29 00:20 [MainProcess, 3068] [INFO ]  valid Epoch:74, Train loss=0.1736, Valid loss=0.5383,Valid F1=0.5946,Valid ACC=0.8257, Valid weighted acc=0.7654\n",
      "07-29 00:20 [MainProcess, 3068] [INFO ]  valid Epoch:74, Train loss=0.1736, Valid loss=0.5383,Valid F1=0.5946,Valid ACC=0.8257, Valid weighted acc=0.7654\n",
      "07-29 00:20 [MainProcess, 3068] [INFO ]  Time used for each epoch training: 23.11693024635315 seconds.\n",
      "07-29 00:20 [MainProcess, 3068] [INFO ]  Time used for each epoch training: 23.11693024635315 seconds.\n",
      "07-29 00:20 [MainProcess, 3068] [INFO ]  Time used for each epoch training: 23.11693024635315 seconds.\n",
      "07-29 00:20 [MainProcess, 3068] [INFO ]  **************************************************\n",
      "07-29 00:20 [MainProcess, 3068] [INFO ]  **************************************************\n",
      "07-29 00:20 [MainProcess, 3068] [INFO ]  **************************************************\n"
     ]
    },
    {
     "name": "stderr",
     "output_type": "stream",
     "text": [
      "\n",
      "100%|███████████████████████████████████████████| 40/40 [00:18<00:00,  2.20it/s]"
     ]
    },
    {
     "name": "stdout",
     "output_type": "stream",
     "text": [
      "lr:  7.711623469663109e-07\n",
      "07-29 00:20 [MainProcess, 3068] [INFO ]  Iteration:75, train loss = 0.163900 ,train F1 = 0.824251 ,train ACC = 0.942338 \n",
      "07-29 00:20 [MainProcess, 3068] [INFO ]  Iteration:75, train loss = 0.163900 ,train F1 = 0.824251 ,train ACC = 0.942338 \n",
      "07-29 00:20 [MainProcess, 3068] [INFO ]  Iteration:75, train loss = 0.163900 ,train F1 = 0.824251 ,train ACC = 0.942338 \n"
     ]
    },
    {
     "name": "stderr",
     "output_type": "stream",
     "text": [
      "\n",
      "100%|████████████████████████████████████████| 631/631 [00:05<00:00, 111.69it/s]"
     ]
    },
    {
     "name": "stdout",
     "output_type": "stream",
     "text": [
      "07-29 00:20 [MainProcess, 3068] [INFO ]  valid Epoch:75, Train loss=0.1639, Valid loss=0.5481,Valid F1=0.6067,Valid ACC=0.8526, Valid weighted acc=0.7203\n",
      "07-29 00:20 [MainProcess, 3068] [INFO ]  valid Epoch:75, Train loss=0.1639, Valid loss=0.5481,Valid F1=0.6067,Valid ACC=0.8526, Valid weighted acc=0.7203\n",
      "07-29 00:20 [MainProcess, 3068] [INFO ]  valid Epoch:75, Train loss=0.1639, Valid loss=0.5481,Valid F1=0.6067,Valid ACC=0.8526, Valid weighted acc=0.7203\n",
      "07-29 00:20 [MainProcess, 3068] [INFO ]  Time used for each epoch training: 23.84387230873108 seconds.\n",
      "07-29 00:20 [MainProcess, 3068] [INFO ]  Time used for each epoch training: 23.84387230873108 seconds.\n",
      "07-29 00:20 [MainProcess, 3068] [INFO ]  Time used for each epoch training: 23.84387230873108 seconds.\n",
      "07-29 00:20 [MainProcess, 3068] [INFO ]  **************************************************\n",
      "07-29 00:20 [MainProcess, 3068] [INFO ]  **************************************************\n",
      "07-29 00:20 [MainProcess, 3068] [INFO ]  **************************************************\n"
     ]
    },
    {
     "name": "stderr",
     "output_type": "stream",
     "text": [
      "\n",
      "100%|███████████████████████████████████████████| 40/40 [00:17<00:00,  2.27it/s]"
     ]
    },
    {
     "name": "stdout",
     "output_type": "stream",
     "text": [
      "lr:  7.017577357393429e-07\n",
      "07-29 00:21 [MainProcess, 3068] [INFO ]  Iteration:76, train loss = 0.168505 ,train F1 = 0.832178 ,train ACC = 0.942338 \n",
      "07-29 00:21 [MainProcess, 3068] [INFO ]  Iteration:76, train loss = 0.168505 ,train F1 = 0.832178 ,train ACC = 0.942338 \n",
      "07-29 00:21 [MainProcess, 3068] [INFO ]  Iteration:76, train loss = 0.168505 ,train F1 = 0.832178 ,train ACC = 0.942338 \n"
     ]
    },
    {
     "name": "stderr",
     "output_type": "stream",
     "text": [
      "\n",
      "100%|████████████████████████████████████████| 631/631 [00:05<00:00, 114.24it/s]"
     ]
    },
    {
     "name": "stdout",
     "output_type": "stream",
     "text": [
      "07-29 00:21 [MainProcess, 3068] [INFO ]  valid Epoch:76, Train loss=0.1685, Valid loss=0.5069,Valid F1=0.5712,Valid ACC=0.8542, Valid weighted acc=0.7490\n",
      "07-29 00:21 [MainProcess, 3068] [INFO ]  valid Epoch:76, Train loss=0.1685, Valid loss=0.5069,Valid F1=0.5712,Valid ACC=0.8542, Valid weighted acc=0.7490\n",
      "07-29 00:21 [MainProcess, 3068] [INFO ]  valid Epoch:76, Train loss=0.1685, Valid loss=0.5069,Valid F1=0.5712,Valid ACC=0.8542, Valid weighted acc=0.7490\n",
      "07-29 00:21 [MainProcess, 3068] [INFO ]  Time used for each epoch training: 23.212666749954224 seconds.\n",
      "07-29 00:21 [MainProcess, 3068] [INFO ]  Time used for each epoch training: 23.212666749954224 seconds.\n",
      "07-29 00:21 [MainProcess, 3068] [INFO ]  Time used for each epoch training: 23.212666749954224 seconds.\n",
      "07-29 00:21 [MainProcess, 3068] [INFO ]  **************************************************\n",
      "07-29 00:21 [MainProcess, 3068] [INFO ]  **************************************************\n",
      "07-29 00:21 [MainProcess, 3068] [INFO ]  **************************************************\n"
     ]
    },
    {
     "name": "stderr",
     "output_type": "stream",
     "text": [
      "\n",
      "100%|███████████████████████████████████████████| 40/40 [00:16<00:00,  2.43it/s]"
     ]
    },
    {
     "name": "stdout",
     "output_type": "stream",
     "text": [
      "lr:  6.38599539522802e-07\n",
      "07-29 00:21 [MainProcess, 3068] [INFO ]  Iteration:77, train loss = 0.175592 ,train F1 = 0.817175 ,train ACC = 0.938389 \n",
      "07-29 00:21 [MainProcess, 3068] [INFO ]  Iteration:77, train loss = 0.175592 ,train F1 = 0.817175 ,train ACC = 0.938389 \n",
      "07-29 00:21 [MainProcess, 3068] [INFO ]  Iteration:77, train loss = 0.175592 ,train F1 = 0.817175 ,train ACC = 0.938389 \n"
     ]
    },
    {
     "name": "stderr",
     "output_type": "stream",
     "text": [
      "\n",
      "100%|████████████████████████████████████████| 631/631 [00:05<00:00, 107.93it/s]"
     ]
    },
    {
     "name": "stdout",
     "output_type": "stream",
     "text": [
      "07-29 00:21 [MainProcess, 3068] [INFO ]  valid Epoch:77, Train loss=0.1756, Valid loss=0.5279,Valid F1=0.5829,Valid ACC=0.8479, Valid weighted acc=0.7506\n",
      "07-29 00:21 [MainProcess, 3068] [INFO ]  valid Epoch:77, Train loss=0.1756, Valid loss=0.5279,Valid F1=0.5829,Valid ACC=0.8479, Valid weighted acc=0.7506\n",
      "07-29 00:21 [MainProcess, 3068] [INFO ]  valid Epoch:77, Train loss=0.1756, Valid loss=0.5279,Valid F1=0.5829,Valid ACC=0.8479, Valid weighted acc=0.7506\n",
      "07-29 00:21 [MainProcess, 3068] [INFO ]  Time used for each epoch training: 22.333152532577515 seconds.\n",
      "07-29 00:21 [MainProcess, 3068] [INFO ]  Time used for each epoch training: 22.333152532577515 seconds.\n",
      "07-29 00:21 [MainProcess, 3068] [INFO ]  Time used for each epoch training: 22.333152532577515 seconds.\n",
      "07-29 00:21 [MainProcess, 3068] [INFO ]  **************************************************\n",
      "07-29 00:21 [MainProcess, 3068] [INFO ]  **************************************************\n",
      "07-29 00:21 [MainProcess, 3068] [INFO ]  **************************************************\n"
     ]
    },
    {
     "name": "stderr",
     "output_type": "stream",
     "text": [
      "\n",
      "100%|███████████████████████████████████████████| 40/40 [00:18<00:00,  2.21it/s]"
     ]
    },
    {
     "name": "stdout",
     "output_type": "stream",
     "text": [
      "lr:  5.811255809657499e-07\n",
      "07-29 00:21 [MainProcess, 3068] [INFO ]  Iteration:78, train loss = 0.174833 ,train F1 = 0.812058 ,train ACC = 0.937994 \n",
      "07-29 00:21 [MainProcess, 3068] [INFO ]  Iteration:78, train loss = 0.174833 ,train F1 = 0.812058 ,train ACC = 0.937994 \n",
      "07-29 00:21 [MainProcess, 3068] [INFO ]  Iteration:78, train loss = 0.174833 ,train F1 = 0.812058 ,train ACC = 0.937994 \n"
     ]
    },
    {
     "name": "stderr",
     "output_type": "stream",
     "text": [
      "\n",
      "100%|████████████████████████████████████████| 631/631 [00:05<00:00, 119.75it/s]"
     ]
    },
    {
     "name": "stdout",
     "output_type": "stream",
     "text": [
      "07-29 00:21 [MainProcess, 3068] [INFO ]  valid Epoch:78, Train loss=0.1748, Valid loss=0.5134,Valid F1=0.5974,Valid ACC=0.8304, Valid weighted acc=0.7646\n",
      "07-29 00:21 [MainProcess, 3068] [INFO ]  valid Epoch:78, Train loss=0.1748, Valid loss=0.5134,Valid F1=0.5974,Valid ACC=0.8304, Valid weighted acc=0.7646\n",
      "07-29 00:21 [MainProcess, 3068] [INFO ]  valid Epoch:78, Train loss=0.1748, Valid loss=0.5134,Valid F1=0.5974,Valid ACC=0.8304, Valid weighted acc=0.7646\n",
      "07-29 00:21 [MainProcess, 3068] [INFO ]  Time used for each epoch training: 23.426331758499146 seconds.\n",
      "07-29 00:21 [MainProcess, 3068] [INFO ]  Time used for each epoch training: 23.426331758499146 seconds.\n",
      "07-29 00:21 [MainProcess, 3068] [INFO ]  Time used for each epoch training: 23.426331758499146 seconds.\n",
      "07-29 00:21 [MainProcess, 3068] [INFO ]  **************************************************\n",
      "07-29 00:21 [MainProcess, 3068] [INFO ]  **************************************************\n",
      "07-29 00:21 [MainProcess, 3068] [INFO ]  **************************************************\n"
     ]
    },
    {
     "name": "stderr",
     "output_type": "stream",
     "text": [
      "\n",
      "100%|███████████████████████████████████████████| 40/40 [00:17<00:00,  2.24it/s]"
     ]
    },
    {
     "name": "stdout",
     "output_type": "stream",
     "text": [
      "lr:  5.288242786788324e-07\n",
      "07-29 00:22 [MainProcess, 3068] [INFO ]  Iteration:79, train loss = 0.169976 ,train F1 = 0.824263 ,train ACC = 0.939968 \n",
      "07-29 00:22 [MainProcess, 3068] [INFO ]  Iteration:79, train loss = 0.169976 ,train F1 = 0.824263 ,train ACC = 0.939968 \n",
      "07-29 00:22 [MainProcess, 3068] [INFO ]  Iteration:79, train loss = 0.169976 ,train F1 = 0.824263 ,train ACC = 0.939968 \n"
     ]
    },
    {
     "name": "stderr",
     "output_type": "stream",
     "text": [
      "\n",
      "100%|████████████████████████████████████████| 631/631 [00:05<00:00, 118.37it/s]"
     ]
    },
    {
     "name": "stdout",
     "output_type": "stream",
     "text": [
      "07-29 00:22 [MainProcess, 3068] [INFO ]  valid Epoch:79, Train loss=0.1700, Valid loss=0.5257,Valid F1=0.5635,Valid ACC=0.8494, Valid weighted acc=0.7334\n",
      "07-29 00:22 [MainProcess, 3068] [INFO ]  valid Epoch:79, Train loss=0.1700, Valid loss=0.5257,Valid F1=0.5635,Valid ACC=0.8494, Valid weighted acc=0.7334\n",
      "07-29 00:22 [MainProcess, 3068] [INFO ]  valid Epoch:79, Train loss=0.1700, Valid loss=0.5257,Valid F1=0.5635,Valid ACC=0.8494, Valid weighted acc=0.7334\n",
      "07-29 00:22 [MainProcess, 3068] [INFO ]  Time used for each epoch training: 23.190114974975586 seconds.\n",
      "07-29 00:22 [MainProcess, 3068] [INFO ]  Time used for each epoch training: 23.190114974975586 seconds.\n",
      "07-29 00:22 [MainProcess, 3068] [INFO ]  Time used for each epoch training: 23.190114974975586 seconds.\n",
      "07-29 00:22 [MainProcess, 3068] [INFO ]  **************************************************\n",
      "07-29 00:22 [MainProcess, 3068] [INFO ]  **************************************************\n",
      "07-29 00:22 [MainProcess, 3068] [INFO ]  **************************************************\n"
     ]
    },
    {
     "name": "stderr",
     "output_type": "stream",
     "text": [
      "\n",
      "100%|███████████████████████████████████████████| 40/40 [00:18<00:00,  2.21it/s]"
     ]
    },
    {
     "name": "stdout",
     "output_type": "stream",
     "text": [
      "lr:  4.812300935977375e-07\n",
      "07-29 00:22 [MainProcess, 3068] [INFO ]  Iteration:80, train loss = 0.177853 ,train F1 = 0.815013 ,train ACC = 0.933649 \n",
      "07-29 00:22 [MainProcess, 3068] [INFO ]  Iteration:80, train loss = 0.177853 ,train F1 = 0.815013 ,train ACC = 0.933649 \n",
      "07-29 00:22 [MainProcess, 3068] [INFO ]  Iteration:80, train loss = 0.177853 ,train F1 = 0.815013 ,train ACC = 0.933649 \n"
     ]
    },
    {
     "name": "stderr",
     "output_type": "stream",
     "text": [
      "\n",
      "100%|████████████████████████████████████████| 631/631 [00:04<00:00, 131.26it/s]\n"
     ]
    },
    {
     "name": "stdout",
     "output_type": "stream",
     "text": [
      "07-29 00:22 [MainProcess, 3068] [INFO ]  valid Epoch:80, Train loss=0.1779, Valid loss=0.5215,Valid F1=0.6043,Valid ACC=0.8574, Valid weighted acc=0.7342\n",
      "07-29 00:22 [MainProcess, 3068] [INFO ]  valid Epoch:80, Train loss=0.1779, Valid loss=0.5215,Valid F1=0.6043,Valid ACC=0.8574, Valid weighted acc=0.7342\n",
      "07-29 00:22 [MainProcess, 3068] [INFO ]  valid Epoch:80, Train loss=0.1779, Valid loss=0.5215,Valid F1=0.6043,Valid ACC=0.8574, Valid weighted acc=0.7342\n",
      "07-29 00:22 [MainProcess, 3068] [INFO ]  Time used for each epoch training: 22.939013957977295 seconds.\n",
      "07-29 00:22 [MainProcess, 3068] [INFO ]  Time used for each epoch training: 22.939013957977295 seconds.\n",
      "07-29 00:22 [MainProcess, 3068] [INFO ]  Time used for each epoch training: 22.939013957977295 seconds.\n",
      "07-29 00:22 [MainProcess, 3068] [INFO ]  **************************************************\n",
      "07-29 00:22 [MainProcess, 3068] [INFO ]  **************************************************\n",
      "07-29 00:22 [MainProcess, 3068] [INFO ]  **************************************************\n"
     ]
    },
    {
     "name": "stderr",
     "output_type": "stream",
     "text": [
      "100%|███████████████████████████████████████████| 40/40 [00:17<00:00,  2.31it/s]"
     ]
    },
    {
     "name": "stdout",
     "output_type": "stream",
     "text": [
      "lr:  4.3791938517394117e-07\n",
      "07-29 00:22 [MainProcess, 3068] [INFO ]  Iteration:81, train loss = 0.172067 ,train F1 = 0.817738 ,train ACC = 0.939573 \n",
      "07-29 00:22 [MainProcess, 3068] [INFO ]  Iteration:81, train loss = 0.172067 ,train F1 = 0.817738 ,train ACC = 0.939573 \n",
      "07-29 00:22 [MainProcess, 3068] [INFO ]  Iteration:81, train loss = 0.172067 ,train F1 = 0.817738 ,train ACC = 0.939573 \n"
     ]
    },
    {
     "name": "stderr",
     "output_type": "stream",
     "text": [
      "\n",
      "100%|████████████████████████████████████████| 631/631 [00:06<00:00, 104.11it/s]"
     ]
    },
    {
     "name": "stdout",
     "output_type": "stream",
     "text": [
      "07-29 00:23 [MainProcess, 3068] [INFO ]  valid Epoch:81, Train loss=0.1721, Valid loss=0.5522,Valid F1=0.5475,Valid ACC=0.8193, Valid weighted acc=0.7572\n",
      "07-29 00:23 [MainProcess, 3068] [INFO ]  valid Epoch:81, Train loss=0.1721, Valid loss=0.5522,Valid F1=0.5475,Valid ACC=0.8193, Valid weighted acc=0.7572\n",
      "07-29 00:23 [MainProcess, 3068] [INFO ]  valid Epoch:81, Train loss=0.1721, Valid loss=0.5522,Valid F1=0.5475,Valid ACC=0.8193, Valid weighted acc=0.7572\n",
      "07-29 00:23 [MainProcess, 3068] [INFO ]  Time used for each epoch training: 23.450047254562378 seconds.\n",
      "07-29 00:23 [MainProcess, 3068] [INFO ]  Time used for each epoch training: 23.450047254562378 seconds.\n",
      "07-29 00:23 [MainProcess, 3068] [INFO ]  Time used for each epoch training: 23.450047254562378 seconds.\n",
      "07-29 00:23 [MainProcess, 3068] [INFO ]  **************************************************\n",
      "07-29 00:23 [MainProcess, 3068] [INFO ]  **************************************************\n",
      "07-29 00:23 [MainProcess, 3068] [INFO ]  **************************************************\n"
     ]
    },
    {
     "name": "stderr",
     "output_type": "stream",
     "text": [
      "\n",
      "100%|███████████████████████████████████████████| 40/40 [00:17<00:00,  2.34it/s]"
     ]
    },
    {
     "name": "stdout",
     "output_type": "stream",
     "text": [
      "lr:  3.985066405082865e-07\n",
      "07-29 00:23 [MainProcess, 3068] [INFO ]  Iteration:82, train loss = 0.170425 ,train F1 = 0.812739 ,train ACC = 0.939573 \n",
      "07-29 00:23 [MainProcess, 3068] [INFO ]  Iteration:82, train loss = 0.170425 ,train F1 = 0.812739 ,train ACC = 0.939573 \n",
      "07-29 00:23 [MainProcess, 3068] [INFO ]  Iteration:82, train loss = 0.170425 ,train F1 = 0.812739 ,train ACC = 0.939573 \n"
     ]
    },
    {
     "name": "stderr",
     "output_type": "stream",
     "text": [
      "\n",
      "100%|████████████████████████████████████████| 631/631 [00:05<00:00, 122.96it/s]"
     ]
    },
    {
     "name": "stdout",
     "output_type": "stream",
     "text": [
      "07-29 00:23 [MainProcess, 3068] [INFO ]  valid Epoch:82, Train loss=0.1704, Valid loss=0.5027,Valid F1=0.5767,Valid ACC=0.8368, Valid weighted acc=0.7482\n",
      "07-29 00:23 [MainProcess, 3068] [INFO ]  valid Epoch:82, Train loss=0.1704, Valid loss=0.5027,Valid F1=0.5767,Valid ACC=0.8368, Valid weighted acc=0.7482\n",
      "07-29 00:23 [MainProcess, 3068] [INFO ]  valid Epoch:82, Train loss=0.1704, Valid loss=0.5027,Valid F1=0.5767,Valid ACC=0.8368, Valid weighted acc=0.7482\n",
      "07-29 00:23 [MainProcess, 3068] [INFO ]  Time used for each epoch training: 22.227297067642212 seconds.\n",
      "07-29 00:23 [MainProcess, 3068] [INFO ]  Time used for each epoch training: 22.227297067642212 seconds.\n",
      "07-29 00:23 [MainProcess, 3068] [INFO ]  Time used for each epoch training: 22.227297067642212 seconds.\n",
      "07-29 00:23 [MainProcess, 3068] [INFO ]  **************************************************\n",
      "07-29 00:23 [MainProcess, 3068] [INFO ]  **************************************************\n",
      "07-29 00:23 [MainProcess, 3068] [INFO ]  **************************************************\n"
     ]
    },
    {
     "name": "stderr",
     "output_type": "stream",
     "text": [
      "\n",
      "100%|███████████████████████████████████████████| 40/40 [00:17<00:00,  2.25it/s]"
     ]
    },
    {
     "name": "stdout",
     "output_type": "stream",
     "text": [
      "lr:  3.6264104286254074e-07\n",
      "07-29 00:23 [MainProcess, 3068] [INFO ]  Iteration:83, train loss = 0.174074 ,train F1 = 0.816432 ,train ACC = 0.940363 \n",
      "07-29 00:23 [MainProcess, 3068] [INFO ]  Iteration:83, train loss = 0.174074 ,train F1 = 0.816432 ,train ACC = 0.940363 \n",
      "07-29 00:23 [MainProcess, 3068] [INFO ]  Iteration:83, train loss = 0.174074 ,train F1 = 0.816432 ,train ACC = 0.940363 \n"
     ]
    },
    {
     "name": "stderr",
     "output_type": "stream",
     "text": [
      "\n",
      "100%|████████████████████████████████████████| 631/631 [00:05<00:00, 124.93it/s]"
     ]
    },
    {
     "name": "stdout",
     "output_type": "stream",
     "text": [
      "07-29 00:23 [MainProcess, 3068] [INFO ]  valid Epoch:83, Train loss=0.1741, Valid loss=0.5018,Valid F1=0.5947,Valid ACC=0.8463, Valid weighted acc=0.7416\n",
      "07-29 00:23 [MainProcess, 3068] [INFO ]  valid Epoch:83, Train loss=0.1741, Valid loss=0.5018,Valid F1=0.5947,Valid ACC=0.8463, Valid weighted acc=0.7416\n",
      "07-29 00:23 [MainProcess, 3068] [INFO ]  valid Epoch:83, Train loss=0.1741, Valid loss=0.5018,Valid F1=0.5947,Valid ACC=0.8463, Valid weighted acc=0.7416\n",
      "07-29 00:23 [MainProcess, 3068] [INFO ]  Time used for each epoch training: 22.909485340118408 seconds.\n",
      "07-29 00:23 [MainProcess, 3068] [INFO ]  Time used for each epoch training: 22.909485340118408 seconds.\n",
      "07-29 00:23 [MainProcess, 3068] [INFO ]  Time used for each epoch training: 22.909485340118408 seconds.\n",
      "07-29 00:23 [MainProcess, 3068] [INFO ]  **************************************************\n",
      "07-29 00:23 [MainProcess, 3068] [INFO ]  **************************************************\n",
      "07-29 00:23 [MainProcess, 3068] [INFO ]  **************************************************\n"
     ]
    },
    {
     "name": "stderr",
     "output_type": "stream",
     "text": [
      "\n",
      "100%|███████████████████████████████████████████| 40/40 [00:18<00:00,  2.19it/s]"
     ]
    },
    {
     "name": "stdout",
     "output_type": "stream",
     "text": [
      "lr:  3.300033490049121e-07\n",
      "07-29 00:24 [MainProcess, 3068] [INFO ]  Iteration:84, train loss = 0.174010 ,train F1 = 0.832863 ,train ACC = 0.943128 \n",
      "07-29 00:24 [MainProcess, 3068] [INFO ]  Iteration:84, train loss = 0.174010 ,train F1 = 0.832863 ,train ACC = 0.943128 \n",
      "07-29 00:24 [MainProcess, 3068] [INFO ]  Iteration:84, train loss = 0.174010 ,train F1 = 0.832863 ,train ACC = 0.943128 \n"
     ]
    },
    {
     "name": "stderr",
     "output_type": "stream",
     "text": [
      "\n",
      "100%|████████████████████████████████████████| 631/631 [00:06<00:00, 103.30it/s]"
     ]
    },
    {
     "name": "stdout",
     "output_type": "stream",
     "text": [
      "07-29 00:24 [MainProcess, 3068] [INFO ]  valid Epoch:84, Train loss=0.1740, Valid loss=0.5403,Valid F1=0.5733,Valid ACC=0.8574, Valid weighted acc=0.7408\n",
      "07-29 00:24 [MainProcess, 3068] [INFO ]  valid Epoch:84, Train loss=0.1740, Valid loss=0.5403,Valid F1=0.5733,Valid ACC=0.8574, Valid weighted acc=0.7408\n",
      "07-29 00:24 [MainProcess, 3068] [INFO ]  valid Epoch:84, Train loss=0.1740, Valid loss=0.5403,Valid F1=0.5733,Valid ACC=0.8574, Valid weighted acc=0.7408\n",
      "07-29 00:24 [MainProcess, 3068] [INFO ]  Time used for each epoch training: 24.39548373222351 seconds.\n",
      "07-29 00:24 [MainProcess, 3068] [INFO ]  Time used for each epoch training: 24.39548373222351 seconds.\n",
      "07-29 00:24 [MainProcess, 3068] [INFO ]  Time used for each epoch training: 24.39548373222351 seconds.\n",
      "07-29 00:24 [MainProcess, 3068] [INFO ]  **************************************************\n",
      "07-29 00:24 [MainProcess, 3068] [INFO ]  **************************************************\n",
      "07-29 00:24 [MainProcess, 3068] [INFO ]  **************************************************\n"
     ]
    },
    {
     "name": "stderr",
     "output_type": "stream",
     "text": [
      "\n",
      "100%|███████████████████████████████████████████| 40/40 [00:15<00:00,  2.51it/s]"
     ]
    },
    {
     "name": "stdout",
     "output_type": "stream",
     "text": [
      "lr:  3.0030304759447e-07\n",
      "07-29 00:24 [MainProcess, 3068] [INFO ]  Iteration:85, train loss = 0.170357 ,train F1 = 0.827000 ,train ACC = 0.941153 \n",
      "07-29 00:24 [MainProcess, 3068] [INFO ]  Iteration:85, train loss = 0.170357 ,train F1 = 0.827000 ,train ACC = 0.941153 \n",
      "07-29 00:24 [MainProcess, 3068] [INFO ]  Iteration:85, train loss = 0.170357 ,train F1 = 0.827000 ,train ACC = 0.941153 \n"
     ]
    },
    {
     "name": "stderr",
     "output_type": "stream",
     "text": [
      "\n",
      "100%|█████████████████████████████████████████| 631/631 [00:06<00:00, 97.76it/s]"
     ]
    },
    {
     "name": "stdout",
     "output_type": "stream",
     "text": [
      "07-29 00:24 [MainProcess, 3068] [INFO ]  valid Epoch:85, Train loss=0.1704, Valid loss=0.5205,Valid F1=0.5602,Valid ACC=0.8415, Valid weighted acc=0.7358\n",
      "07-29 00:24 [MainProcess, 3068] [INFO ]  valid Epoch:85, Train loss=0.1704, Valid loss=0.5205,Valid F1=0.5602,Valid ACC=0.8415, Valid weighted acc=0.7358\n",
      "07-29 00:24 [MainProcess, 3068] [INFO ]  valid Epoch:85, Train loss=0.1704, Valid loss=0.5205,Valid F1=0.5602,Valid ACC=0.8415, Valid weighted acc=0.7358\n",
      "07-29 00:24 [MainProcess, 3068] [INFO ]  Time used for each epoch training: 22.463448524475098 seconds.\n",
      "07-29 00:24 [MainProcess, 3068] [INFO ]  Time used for each epoch training: 22.463448524475098 seconds.\n",
      "07-29 00:24 [MainProcess, 3068] [INFO ]  Time used for each epoch training: 22.463448524475098 seconds.\n",
      "07-29 00:24 [MainProcess, 3068] [INFO ]  **************************************************\n",
      "07-29 00:24 [MainProcess, 3068] [INFO ]  **************************************************\n",
      "07-29 00:24 [MainProcess, 3068] [INFO ]  **************************************************\n"
     ]
    },
    {
     "name": "stderr",
     "output_type": "stream",
     "text": [
      "\n",
      "100%|███████████████████████████████████████████| 40/40 [00:18<00:00,  2.19it/s]"
     ]
    },
    {
     "name": "stdout",
     "output_type": "stream",
     "text": [
      "lr:  2.732757733109677e-07\n",
      "07-29 00:24 [MainProcess, 3068] [INFO ]  Iteration:86, train loss = 0.166578 ,train F1 = 0.818251 ,train ACC = 0.937994 \n",
      "07-29 00:24 [MainProcess, 3068] [INFO ]  Iteration:86, train loss = 0.166578 ,train F1 = 0.818251 ,train ACC = 0.937994 \n",
      "07-29 00:24 [MainProcess, 3068] [INFO ]  Iteration:86, train loss = 0.166578 ,train F1 = 0.818251 ,train ACC = 0.937994 \n"
     ]
    },
    {
     "name": "stderr",
     "output_type": "stream",
     "text": [
      "\n",
      "100%|█████████████████████████████████████████| 631/631 [00:06<00:00, 91.25it/s]"
     ]
    },
    {
     "name": "stdout",
     "output_type": "stream",
     "text": [
      "07-29 00:24 [MainProcess, 3068] [INFO ]  valid Epoch:86, Train loss=0.1666, Valid loss=0.5463,Valid F1=0.5799,Valid ACC=0.8494, Valid weighted acc=0.7252\n",
      "07-29 00:24 [MainProcess, 3068] [INFO ]  valid Epoch:86, Train loss=0.1666, Valid loss=0.5463,Valid F1=0.5799,Valid ACC=0.8494, Valid weighted acc=0.7252\n",
      "07-29 00:24 [MainProcess, 3068] [INFO ]  valid Epoch:86, Train loss=0.1666, Valid loss=0.5463,Valid F1=0.5799,Valid ACC=0.8494, Valid weighted acc=0.7252\n",
      "07-29 00:24 [MainProcess, 3068] [INFO ]  Time used for each epoch training: 25.25600838661194 seconds.\n",
      "07-29 00:24 [MainProcess, 3068] [INFO ]  Time used for each epoch training: 25.25600838661194 seconds.\n",
      "07-29 00:24 [MainProcess, 3068] [INFO ]  Time used for each epoch training: 25.25600838661194 seconds.\n",
      "07-29 00:24 [MainProcess, 3068] [INFO ]  **************************************************\n",
      "07-29 00:24 [MainProcess, 3068] [INFO ]  **************************************************\n",
      "07-29 00:24 [MainProcess, 3068] [INFO ]  **************************************************\n"
     ]
    },
    {
     "name": "stderr",
     "output_type": "stream",
     "text": [
      "\n",
      "100%|███████████████████████████████████████████| 40/40 [00:17<00:00,  2.34it/s]"
     ]
    },
    {
     "name": "stdout",
     "output_type": "stream",
     "text": [
      "lr:  2.486809537129806e-07\n",
      "07-29 00:25 [MainProcess, 3068] [INFO ]  Iteration:87, train loss = 0.178361 ,train F1 = 0.811034 ,train ACC = 0.937994 \n",
      "07-29 00:25 [MainProcess, 3068] [INFO ]  Iteration:87, train loss = 0.178361 ,train F1 = 0.811034 ,train ACC = 0.937994 \n",
      "07-29 00:25 [MainProcess, 3068] [INFO ]  Iteration:87, train loss = 0.178361 ,train F1 = 0.811034 ,train ACC = 0.937994 \n"
     ]
    },
    {
     "name": "stderr",
     "output_type": "stream",
     "text": [
      "\n",
      "100%|█████████████████████████████████████████| 631/631 [00:06<00:00, 94.50it/s]\n"
     ]
    },
    {
     "name": "stdout",
     "output_type": "stream",
     "text": [
      "07-29 00:25 [MainProcess, 3068] [INFO ]  valid Epoch:87, Train loss=0.1784, Valid loss=0.5222,Valid F1=0.5878,Valid ACC=0.8510, Valid weighted acc=0.7523\n",
      "07-29 00:25 [MainProcess, 3068] [INFO ]  valid Epoch:87, Train loss=0.1784, Valid loss=0.5222,Valid F1=0.5878,Valid ACC=0.8510, Valid weighted acc=0.7523\n",
      "07-29 00:25 [MainProcess, 3068] [INFO ]  valid Epoch:87, Train loss=0.1784, Valid loss=0.5222,Valid F1=0.5878,Valid ACC=0.8510, Valid weighted acc=0.7523\n",
      "07-29 00:25 [MainProcess, 3068] [INFO ]  Time used for each epoch training: 23.796895265579224 seconds.\n",
      "07-29 00:25 [MainProcess, 3068] [INFO ]  Time used for each epoch training: 23.796895265579224 seconds.\n",
      "07-29 00:25 [MainProcess, 3068] [INFO ]  Time used for each epoch training: 23.796895265579224 seconds.\n",
      "07-29 00:25 [MainProcess, 3068] [INFO ]  **************************************************\n",
      "07-29 00:25 [MainProcess, 3068] [INFO ]  **************************************************\n",
      "07-29 00:25 [MainProcess, 3068] [INFO ]  **************************************************\n"
     ]
    },
    {
     "name": "stderr",
     "output_type": "stream",
     "text": [
      "100%|███████████████████████████████████████████| 40/40 [00:16<00:00,  2.36it/s]"
     ]
    },
    {
     "name": "stdout",
     "output_type": "stream",
     "text": [
      "lr:  2.2629966787881234e-07\n",
      "07-29 00:25 [MainProcess, 3068] [INFO ]  Iteration:88, train loss = 0.168649 ,train F1 = 0.823125 ,train ACC = 0.939179 \n",
      "07-29 00:25 [MainProcess, 3068] [INFO ]  Iteration:88, train loss = 0.168649 ,train F1 = 0.823125 ,train ACC = 0.939179 \n",
      "07-29 00:25 [MainProcess, 3068] [INFO ]  Iteration:88, train loss = 0.168649 ,train F1 = 0.823125 ,train ACC = 0.939179 \n"
     ]
    },
    {
     "name": "stderr",
     "output_type": "stream",
     "text": [
      "\n",
      " 69%|███████████████████████████▍            | 433/631 [00:03<00:01, 117.90it/s]"
     ]
    },
    {
     "ename": "KeyboardInterrupt",
     "evalue": "",
     "output_type": "error",
     "traceback": [
      "\u001b[0;31m---------------------------------------------------------------------------\u001b[0m",
      "\u001b[0;31mKeyboardInterrupt\u001b[0m                         Traceback (most recent call last)",
      "\u001b[0;32m/tmp/ipykernel_3068/3461623567.py\u001b[0m in \u001b[0;36m<module>\u001b[0;34m\u001b[0m\n\u001b[0;32m----> 1\u001b[0;31m \u001b[0mtrain_challenge_model\u001b[0m\u001b[0;34m(\u001b[0m\u001b[0margs\u001b[0m\u001b[0;34m.\u001b[0m\u001b[0mtrain_data_folder\u001b[0m\u001b[0;34m,\u001b[0m \u001b[0margs\u001b[0m\u001b[0;34m.\u001b[0m\u001b[0mmodel_path\u001b[0m\u001b[0;34m,\u001b[0m \u001b[0mverbose\u001b[0m\u001b[0;34m=\u001b[0m\u001b[0;36m2\u001b[0m\u001b[0;34m)\u001b[0m\u001b[0;34m\u001b[0m\u001b[0;34m\u001b[0m\u001b[0m\n\u001b[0m",
      "\u001b[0;32m/tmp/ipykernel_3068/189523101.py\u001b[0m in \u001b[0;36mtrain_challenge_model\u001b[0;34m(data_folder, model_folder, verbose)\u001b[0m\n\u001b[1;32m    147\u001b[0m             \u001b[0moutput_gt_labels_dev\u001b[0m\u001b[0;34m=\u001b[0m \u001b[0mtorch\u001b[0m\u001b[0;34m.\u001b[0m\u001b[0mempty\u001b[0m\u001b[0;34m(\u001b[0m\u001b[0;34m(\u001b[0m\u001b[0mall_file_valid\u001b[0m\u001b[0;34m,\u001b[0m\u001b[0;34m)\u001b[0m\u001b[0;34m)\u001b[0m\u001b[0;34m\u001b[0m\u001b[0;34m\u001b[0m\u001b[0m\n\u001b[1;32m    148\u001b[0m             \u001b[0moutput_gt_labels_onehot_dev\u001b[0m \u001b[0;34m=\u001b[0m \u001b[0mtorch\u001b[0m\u001b[0;34m.\u001b[0m\u001b[0mempty\u001b[0m\u001b[0;34m(\u001b[0m\u001b[0;34m(\u001b[0m\u001b[0mall_file_valid\u001b[0m\u001b[0;34m,\u001b[0m\u001b[0;36m3\u001b[0m\u001b[0;34m)\u001b[0m\u001b[0;34m)\u001b[0m\u001b[0;34m\u001b[0m\u001b[0;34m\u001b[0m\u001b[0m\n\u001b[0;32m--> 149\u001b[0;31m             \u001b[0;32mfor\u001b[0m \u001b[0mlog_mel_feature\u001b[0m\u001b[0;34m,\u001b[0m \u001b[0mcurrent_age_group\u001b[0m\u001b[0;34m,\u001b[0m \u001b[0msex_feature\u001b[0m\u001b[0;34m,\u001b[0m \u001b[0mheight_weight\u001b[0m\u001b[0;34m,\u001b[0m \u001b[0mpreg_feature\u001b[0m\u001b[0;34m,\u001b[0m \u001b[0mloc_feature\u001b[0m\u001b[0;34m,\u001b[0m \u001b[0mcurrent_murmur\u001b[0m\u001b[0;34m,\u001b[0m \u001b[0mcurrent_outcome\u001b[0m \u001b[0;32min\u001b[0m \u001b[0mtqdm\u001b[0m\u001b[0;34m.\u001b[0m\u001b[0mtqdm\u001b[0m\u001b[0;34m(\u001b[0m\u001b[0mdataloader_valid\u001b[0m\u001b[0;34m)\u001b[0m\u001b[0;34m:\u001b[0m\u001b[0;34m\u001b[0m\u001b[0;34m\u001b[0m\u001b[0m\n\u001b[0m\u001b[1;32m    150\u001b[0m                 \u001b[0mlog_mel_feature_dev\u001b[0m \u001b[0;34m=\u001b[0m \u001b[0mlog_mel_feature\u001b[0m\u001b[0;34m.\u001b[0m\u001b[0mcuda\u001b[0m\u001b[0;34m(\u001b[0m\u001b[0;34m)\u001b[0m\u001b[0;34m\u001b[0m\u001b[0;34m\u001b[0m\u001b[0m\n\u001b[1;32m    151\u001b[0m                 \u001b[0mcurrent_age_group_dev\u001b[0m \u001b[0;34m=\u001b[0m \u001b[0mcurrent_age_group\u001b[0m\u001b[0;34m.\u001b[0m\u001b[0mcuda\u001b[0m\u001b[0;34m(\u001b[0m\u001b[0;34m)\u001b[0m\u001b[0;34m\u001b[0m\u001b[0;34m\u001b[0m\u001b[0m\n",
      "\u001b[0;32m~/anaconda3/lib/python3.7/site-packages/tqdm/std.py\u001b[0m in \u001b[0;36m__iter__\u001b[0;34m(self)\u001b[0m\n\u001b[1;32m   1105\u001b[0m                 fp_write=getattr(self.fp, 'write', sys.stderr.write))\n\u001b[1;32m   1106\u001b[0m \u001b[0;34m\u001b[0m\u001b[0m\n\u001b[0;32m-> 1107\u001b[0;31m         \u001b[0;32mfor\u001b[0m \u001b[0mobj\u001b[0m \u001b[0;32min\u001b[0m \u001b[0miterable\u001b[0m\u001b[0;34m:\u001b[0m\u001b[0;34m\u001b[0m\u001b[0;34m\u001b[0m\u001b[0m\n\u001b[0m\u001b[1;32m   1108\u001b[0m             \u001b[0;32myield\u001b[0m \u001b[0mobj\u001b[0m\u001b[0;34m\u001b[0m\u001b[0;34m\u001b[0m\u001b[0m\n\u001b[1;32m   1109\u001b[0m             \u001b[0;31m# Update and possibly print the progressbar.\u001b[0m\u001b[0;34m\u001b[0m\u001b[0;34m\u001b[0m\u001b[0;34m\u001b[0m\u001b[0m\n",
      "\u001b[0;32m~/anaconda3/lib/python3.7/site-packages/torch/utils/data/dataloader.py\u001b[0m in \u001b[0;36m__next__\u001b[0;34m(self)\u001b[0m\n\u001b[1;32m    519\u001b[0m             \u001b[0;32mif\u001b[0m \u001b[0mself\u001b[0m\u001b[0;34m.\u001b[0m\u001b[0m_sampler_iter\u001b[0m \u001b[0;32mis\u001b[0m \u001b[0;32mNone\u001b[0m\u001b[0;34m:\u001b[0m\u001b[0;34m\u001b[0m\u001b[0;34m\u001b[0m\u001b[0m\n\u001b[1;32m    520\u001b[0m                 \u001b[0mself\u001b[0m\u001b[0;34m.\u001b[0m\u001b[0m_reset\u001b[0m\u001b[0;34m(\u001b[0m\u001b[0;34m)\u001b[0m\u001b[0;34m\u001b[0m\u001b[0;34m\u001b[0m\u001b[0m\n\u001b[0;32m--> 521\u001b[0;31m             \u001b[0mdata\u001b[0m \u001b[0;34m=\u001b[0m \u001b[0mself\u001b[0m\u001b[0;34m.\u001b[0m\u001b[0m_next_data\u001b[0m\u001b[0;34m(\u001b[0m\u001b[0;34m)\u001b[0m\u001b[0;34m\u001b[0m\u001b[0;34m\u001b[0m\u001b[0m\n\u001b[0m\u001b[1;32m    522\u001b[0m             \u001b[0mself\u001b[0m\u001b[0;34m.\u001b[0m\u001b[0m_num_yielded\u001b[0m \u001b[0;34m+=\u001b[0m \u001b[0;36m1\u001b[0m\u001b[0;34m\u001b[0m\u001b[0;34m\u001b[0m\u001b[0m\n\u001b[1;32m    523\u001b[0m             \u001b[0;32mif\u001b[0m \u001b[0mself\u001b[0m\u001b[0;34m.\u001b[0m\u001b[0m_dataset_kind\u001b[0m \u001b[0;34m==\u001b[0m \u001b[0m_DatasetKind\u001b[0m\u001b[0;34m.\u001b[0m\u001b[0mIterable\u001b[0m \u001b[0;32mand\u001b[0m\u001b[0;31m \u001b[0m\u001b[0;31m\\\u001b[0m\u001b[0;34m\u001b[0m\u001b[0;34m\u001b[0m\u001b[0m\n",
      "\u001b[0;32m~/anaconda3/lib/python3.7/site-packages/torch/utils/data/dataloader.py\u001b[0m in \u001b[0;36m_next_data\u001b[0;34m(self)\u001b[0m\n\u001b[1;32m   1184\u001b[0m \u001b[0;34m\u001b[0m\u001b[0m\n\u001b[1;32m   1185\u001b[0m             \u001b[0;32massert\u001b[0m \u001b[0;32mnot\u001b[0m \u001b[0mself\u001b[0m\u001b[0;34m.\u001b[0m\u001b[0m_shutdown\u001b[0m \u001b[0;32mand\u001b[0m \u001b[0mself\u001b[0m\u001b[0;34m.\u001b[0m\u001b[0m_tasks_outstanding\u001b[0m \u001b[0;34m>\u001b[0m \u001b[0;36m0\u001b[0m\u001b[0;34m\u001b[0m\u001b[0;34m\u001b[0m\u001b[0m\n\u001b[0;32m-> 1186\u001b[0;31m             \u001b[0midx\u001b[0m\u001b[0;34m,\u001b[0m \u001b[0mdata\u001b[0m \u001b[0;34m=\u001b[0m \u001b[0mself\u001b[0m\u001b[0;34m.\u001b[0m\u001b[0m_get_data\u001b[0m\u001b[0;34m(\u001b[0m\u001b[0;34m)\u001b[0m\u001b[0;34m\u001b[0m\u001b[0;34m\u001b[0m\u001b[0m\n\u001b[0m\u001b[1;32m   1187\u001b[0m             \u001b[0mself\u001b[0m\u001b[0;34m.\u001b[0m\u001b[0m_tasks_outstanding\u001b[0m \u001b[0;34m-=\u001b[0m \u001b[0;36m1\u001b[0m\u001b[0;34m\u001b[0m\u001b[0;34m\u001b[0m\u001b[0m\n\u001b[1;32m   1188\u001b[0m             \u001b[0;32mif\u001b[0m \u001b[0mself\u001b[0m\u001b[0;34m.\u001b[0m\u001b[0m_dataset_kind\u001b[0m \u001b[0;34m==\u001b[0m \u001b[0m_DatasetKind\u001b[0m\u001b[0;34m.\u001b[0m\u001b[0mIterable\u001b[0m\u001b[0;34m:\u001b[0m\u001b[0;34m\u001b[0m\u001b[0;34m\u001b[0m\u001b[0m\n",
      "\u001b[0;32m~/anaconda3/lib/python3.7/site-packages/torch/utils/data/dataloader.py\u001b[0m in \u001b[0;36m_get_data\u001b[0;34m(self)\u001b[0m\n\u001b[1;32m   1150\u001b[0m         \u001b[0;32melse\u001b[0m\u001b[0;34m:\u001b[0m\u001b[0;34m\u001b[0m\u001b[0;34m\u001b[0m\u001b[0m\n\u001b[1;32m   1151\u001b[0m             \u001b[0;32mwhile\u001b[0m \u001b[0;32mTrue\u001b[0m\u001b[0;34m:\u001b[0m\u001b[0;34m\u001b[0m\u001b[0;34m\u001b[0m\u001b[0m\n\u001b[0;32m-> 1152\u001b[0;31m                 \u001b[0msuccess\u001b[0m\u001b[0;34m,\u001b[0m \u001b[0mdata\u001b[0m \u001b[0;34m=\u001b[0m \u001b[0mself\u001b[0m\u001b[0;34m.\u001b[0m\u001b[0m_try_get_data\u001b[0m\u001b[0;34m(\u001b[0m\u001b[0;34m)\u001b[0m\u001b[0;34m\u001b[0m\u001b[0;34m\u001b[0m\u001b[0m\n\u001b[0m\u001b[1;32m   1153\u001b[0m                 \u001b[0;32mif\u001b[0m \u001b[0msuccess\u001b[0m\u001b[0;34m:\u001b[0m\u001b[0;34m\u001b[0m\u001b[0;34m\u001b[0m\u001b[0m\n\u001b[1;32m   1154\u001b[0m                     \u001b[0;32mreturn\u001b[0m \u001b[0mdata\u001b[0m\u001b[0;34m\u001b[0m\u001b[0;34m\u001b[0m\u001b[0m\n",
      "\u001b[0;32m~/anaconda3/lib/python3.7/site-packages/torch/utils/data/dataloader.py\u001b[0m in \u001b[0;36m_try_get_data\u001b[0;34m(self, timeout)\u001b[0m\n\u001b[1;32m    988\u001b[0m         \u001b[0;31m#   (bool: whether successfully get data, any: data if successful else None)\u001b[0m\u001b[0;34m\u001b[0m\u001b[0;34m\u001b[0m\u001b[0;34m\u001b[0m\u001b[0m\n\u001b[1;32m    989\u001b[0m         \u001b[0;32mtry\u001b[0m\u001b[0;34m:\u001b[0m\u001b[0;34m\u001b[0m\u001b[0;34m\u001b[0m\u001b[0m\n\u001b[0;32m--> 990\u001b[0;31m             \u001b[0mdata\u001b[0m \u001b[0;34m=\u001b[0m \u001b[0mself\u001b[0m\u001b[0;34m.\u001b[0m\u001b[0m_data_queue\u001b[0m\u001b[0;34m.\u001b[0m\u001b[0mget\u001b[0m\u001b[0;34m(\u001b[0m\u001b[0mtimeout\u001b[0m\u001b[0;34m=\u001b[0m\u001b[0mtimeout\u001b[0m\u001b[0;34m)\u001b[0m\u001b[0;34m\u001b[0m\u001b[0;34m\u001b[0m\u001b[0m\n\u001b[0m\u001b[1;32m    991\u001b[0m             \u001b[0;32mreturn\u001b[0m \u001b[0;34m(\u001b[0m\u001b[0;32mTrue\u001b[0m\u001b[0;34m,\u001b[0m \u001b[0mdata\u001b[0m\u001b[0;34m)\u001b[0m\u001b[0;34m\u001b[0m\u001b[0;34m\u001b[0m\u001b[0m\n\u001b[1;32m    992\u001b[0m         \u001b[0;32mexcept\u001b[0m \u001b[0mException\u001b[0m \u001b[0;32mas\u001b[0m \u001b[0me\u001b[0m\u001b[0;34m:\u001b[0m\u001b[0;34m\u001b[0m\u001b[0;34m\u001b[0m\u001b[0m\n",
      "\u001b[0;32m~/anaconda3/lib/python3.7/multiprocessing/queues.py\u001b[0m in \u001b[0;36mget\u001b[0;34m(self, block, timeout)\u001b[0m\n\u001b[1;32m    102\u001b[0m                 \u001b[0;32mif\u001b[0m \u001b[0mblock\u001b[0m\u001b[0;34m:\u001b[0m\u001b[0;34m\u001b[0m\u001b[0;34m\u001b[0m\u001b[0m\n\u001b[1;32m    103\u001b[0m                     \u001b[0mtimeout\u001b[0m \u001b[0;34m=\u001b[0m \u001b[0mdeadline\u001b[0m \u001b[0;34m-\u001b[0m \u001b[0mtime\u001b[0m\u001b[0;34m.\u001b[0m\u001b[0mmonotonic\u001b[0m\u001b[0;34m(\u001b[0m\u001b[0;34m)\u001b[0m\u001b[0;34m\u001b[0m\u001b[0;34m\u001b[0m\u001b[0m\n\u001b[0;32m--> 104\u001b[0;31m                     \u001b[0;32mif\u001b[0m \u001b[0;32mnot\u001b[0m \u001b[0mself\u001b[0m\u001b[0;34m.\u001b[0m\u001b[0m_poll\u001b[0m\u001b[0;34m(\u001b[0m\u001b[0mtimeout\u001b[0m\u001b[0;34m)\u001b[0m\u001b[0;34m:\u001b[0m\u001b[0;34m\u001b[0m\u001b[0;34m\u001b[0m\u001b[0m\n\u001b[0m\u001b[1;32m    105\u001b[0m                         \u001b[0;32mraise\u001b[0m \u001b[0mEmpty\u001b[0m\u001b[0;34m\u001b[0m\u001b[0;34m\u001b[0m\u001b[0m\n\u001b[1;32m    106\u001b[0m                 \u001b[0;32melif\u001b[0m \u001b[0;32mnot\u001b[0m \u001b[0mself\u001b[0m\u001b[0;34m.\u001b[0m\u001b[0m_poll\u001b[0m\u001b[0;34m(\u001b[0m\u001b[0;34m)\u001b[0m\u001b[0;34m:\u001b[0m\u001b[0;34m\u001b[0m\u001b[0;34m\u001b[0m\u001b[0m\n",
      "\u001b[0;32m~/anaconda3/lib/python3.7/multiprocessing/connection.py\u001b[0m in \u001b[0;36mpoll\u001b[0;34m(self, timeout)\u001b[0m\n\u001b[1;32m    255\u001b[0m         \u001b[0mself\u001b[0m\u001b[0;34m.\u001b[0m\u001b[0m_check_closed\u001b[0m\u001b[0;34m(\u001b[0m\u001b[0;34m)\u001b[0m\u001b[0;34m\u001b[0m\u001b[0;34m\u001b[0m\u001b[0m\n\u001b[1;32m    256\u001b[0m         \u001b[0mself\u001b[0m\u001b[0;34m.\u001b[0m\u001b[0m_check_readable\u001b[0m\u001b[0;34m(\u001b[0m\u001b[0;34m)\u001b[0m\u001b[0;34m\u001b[0m\u001b[0;34m\u001b[0m\u001b[0m\n\u001b[0;32m--> 257\u001b[0;31m         \u001b[0;32mreturn\u001b[0m \u001b[0mself\u001b[0m\u001b[0;34m.\u001b[0m\u001b[0m_poll\u001b[0m\u001b[0;34m(\u001b[0m\u001b[0mtimeout\u001b[0m\u001b[0;34m)\u001b[0m\u001b[0;34m\u001b[0m\u001b[0;34m\u001b[0m\u001b[0m\n\u001b[0m\u001b[1;32m    258\u001b[0m \u001b[0;34m\u001b[0m\u001b[0m\n\u001b[1;32m    259\u001b[0m     \u001b[0;32mdef\u001b[0m \u001b[0m__enter__\u001b[0m\u001b[0;34m(\u001b[0m\u001b[0mself\u001b[0m\u001b[0;34m)\u001b[0m\u001b[0;34m:\u001b[0m\u001b[0;34m\u001b[0m\u001b[0;34m\u001b[0m\u001b[0m\n",
      "\u001b[0;32m~/anaconda3/lib/python3.7/multiprocessing/connection.py\u001b[0m in \u001b[0;36m_poll\u001b[0;34m(self, timeout)\u001b[0m\n\u001b[1;32m    412\u001b[0m \u001b[0;34m\u001b[0m\u001b[0m\n\u001b[1;32m    413\u001b[0m     \u001b[0;32mdef\u001b[0m \u001b[0m_poll\u001b[0m\u001b[0;34m(\u001b[0m\u001b[0mself\u001b[0m\u001b[0;34m,\u001b[0m \u001b[0mtimeout\u001b[0m\u001b[0;34m)\u001b[0m\u001b[0;34m:\u001b[0m\u001b[0;34m\u001b[0m\u001b[0;34m\u001b[0m\u001b[0m\n\u001b[0;32m--> 414\u001b[0;31m         \u001b[0mr\u001b[0m \u001b[0;34m=\u001b[0m \u001b[0mwait\u001b[0m\u001b[0;34m(\u001b[0m\u001b[0;34m[\u001b[0m\u001b[0mself\u001b[0m\u001b[0;34m]\u001b[0m\u001b[0;34m,\u001b[0m \u001b[0mtimeout\u001b[0m\u001b[0;34m)\u001b[0m\u001b[0;34m\u001b[0m\u001b[0;34m\u001b[0m\u001b[0m\n\u001b[0m\u001b[1;32m    415\u001b[0m         \u001b[0;32mreturn\u001b[0m \u001b[0mbool\u001b[0m\u001b[0;34m(\u001b[0m\u001b[0mr\u001b[0m\u001b[0;34m)\u001b[0m\u001b[0;34m\u001b[0m\u001b[0;34m\u001b[0m\u001b[0m\n\u001b[1;32m    416\u001b[0m \u001b[0;34m\u001b[0m\u001b[0m\n",
      "\u001b[0;32m~/anaconda3/lib/python3.7/multiprocessing/connection.py\u001b[0m in \u001b[0;36mwait\u001b[0;34m(object_list, timeout)\u001b[0m\n\u001b[1;32m    918\u001b[0m \u001b[0;34m\u001b[0m\u001b[0m\n\u001b[1;32m    919\u001b[0m             \u001b[0;32mwhile\u001b[0m \u001b[0;32mTrue\u001b[0m\u001b[0;34m:\u001b[0m\u001b[0;34m\u001b[0m\u001b[0;34m\u001b[0m\u001b[0m\n\u001b[0;32m--> 920\u001b[0;31m                 \u001b[0mready\u001b[0m \u001b[0;34m=\u001b[0m \u001b[0mselector\u001b[0m\u001b[0;34m.\u001b[0m\u001b[0mselect\u001b[0m\u001b[0;34m(\u001b[0m\u001b[0mtimeout\u001b[0m\u001b[0;34m)\u001b[0m\u001b[0;34m\u001b[0m\u001b[0;34m\u001b[0m\u001b[0m\n\u001b[0m\u001b[1;32m    921\u001b[0m                 \u001b[0;32mif\u001b[0m \u001b[0mready\u001b[0m\u001b[0;34m:\u001b[0m\u001b[0;34m\u001b[0m\u001b[0;34m\u001b[0m\u001b[0m\n\u001b[1;32m    922\u001b[0m                     \u001b[0;32mreturn\u001b[0m \u001b[0;34m[\u001b[0m\u001b[0mkey\u001b[0m\u001b[0;34m.\u001b[0m\u001b[0mfileobj\u001b[0m \u001b[0;32mfor\u001b[0m \u001b[0;34m(\u001b[0m\u001b[0mkey\u001b[0m\u001b[0;34m,\u001b[0m \u001b[0mevents\u001b[0m\u001b[0;34m)\u001b[0m \u001b[0;32min\u001b[0m \u001b[0mready\u001b[0m\u001b[0;34m]\u001b[0m\u001b[0;34m\u001b[0m\u001b[0;34m\u001b[0m\u001b[0m\n",
      "\u001b[0;32m~/anaconda3/lib/python3.7/selectors.py\u001b[0m in \u001b[0;36mselect\u001b[0;34m(self, timeout)\u001b[0m\n\u001b[1;32m    413\u001b[0m         \u001b[0mready\u001b[0m \u001b[0;34m=\u001b[0m \u001b[0;34m[\u001b[0m\u001b[0;34m]\u001b[0m\u001b[0;34m\u001b[0m\u001b[0;34m\u001b[0m\u001b[0m\n\u001b[1;32m    414\u001b[0m         \u001b[0;32mtry\u001b[0m\u001b[0;34m:\u001b[0m\u001b[0;34m\u001b[0m\u001b[0;34m\u001b[0m\u001b[0m\n\u001b[0;32m--> 415\u001b[0;31m             \u001b[0mfd_event_list\u001b[0m \u001b[0;34m=\u001b[0m \u001b[0mself\u001b[0m\u001b[0;34m.\u001b[0m\u001b[0m_selector\u001b[0m\u001b[0;34m.\u001b[0m\u001b[0mpoll\u001b[0m\u001b[0;34m(\u001b[0m\u001b[0mtimeout\u001b[0m\u001b[0;34m)\u001b[0m\u001b[0;34m\u001b[0m\u001b[0;34m\u001b[0m\u001b[0m\n\u001b[0m\u001b[1;32m    416\u001b[0m         \u001b[0;32mexcept\u001b[0m \u001b[0mInterruptedError\u001b[0m\u001b[0;34m:\u001b[0m\u001b[0;34m\u001b[0m\u001b[0;34m\u001b[0m\u001b[0m\n\u001b[1;32m    417\u001b[0m             \u001b[0;32mreturn\u001b[0m \u001b[0mready\u001b[0m\u001b[0;34m\u001b[0m\u001b[0;34m\u001b[0m\u001b[0m\n",
      "\u001b[0;31mKeyboardInterrupt\u001b[0m: "
     ]
    }
   ],
   "source": [
    "train_challenge_model(args.train_data_folder, args.model_path, verbose=2)"
   ]
  },
  {
   "cell_type": "code",
   "execution_count": null,
   "id": "582209b6",
   "metadata": {},
   "outputs": [],
   "source": [
    "def get_features(data, recordings):\n",
    "    \n",
    "    \n",
    "    \n",
    "\n",
    "\n",
    "    return "
   ]
  },
  {
   "cell_type": "code",
   "execution_count": null,
   "id": "c82b6228",
   "metadata": {},
   "outputs": [],
   "source": [
    "def load_challenge_model(model_folder, verbose):\n",
    "    murmur_train_model = torch.load(model_folder + '/' + args.murmur_model_name + '_63.model')\n",
    "    outcome_train_model = torch.load(model_folder + '/' + args.outcome_model_name + '_63.model')\n",
    "    return [murmur_train_model,outcome_train_model]\n",
    "\n",
    "# Run your trained model. This function is *required*. You should edit this function to add your code, but do *not* change the\n",
    "# arguments of this function.\n",
    "def run_challenge_model(model, data, recordings, verbose):\n",
    "    murmur_model , outcome_model = model\n",
    "    murmur_classifier.load_state_dict(murmur_model)\n",
    "    outcome_classifier.load_state_dict(outcome_model)\n",
    "    \n",
    "    wav_files = glob.glob(data_folder + '*.wav')\n",
    "    num_wav_files = len(wav_files)\n",
    "    \n",
    "    murmur_classes = ['Present', 'Unknown', 'Absent']\n",
    "    num_murmur_classes = len(murmur_classes)\n",
    "    outcome_classes = ['Abnormal', 'Normal']\n",
    "    num_outcome_classes = len(outcome_classes)\n",
    "    \n",
    "    age_classes = ['Neonate', 'Infant', 'Child', 'Adolescent', 'Young Adult']\n",
    "    recording_locations = ['AV', 'MV', 'PV', 'TV', 'PhC']\n",
    "    \n",
    "    \n",
    "    \n",
    "    \n",
    "    \n",
    "    \n",
    "\n",
    "    \n",
    "    \n",
    "   \n",
    "    # Get classifier probabilities.\n",
    "    murmur_outputs = murmur_classifier(log_mel_feature_dev,current_age_group_dev,sex_feature_dev,height_weight_dev,preg_feature_dev,loc_feature_dev)\n",
    "    murmur_probabilities = np.asarray(murmur_probabilities, dtype=np.float32)[:, 0, 1]\n",
    "    outcome_probabilities = outcome_classifier.predict_proba(features)\n",
    "    outcome_probabilities = np.asarray(outcome_probabilities, dtype=np.float32)[:, 0, 1]\n",
    "\n",
    "    # Choose label with highest probability.\n",
    "    murmur_labels = np.zeros(len(murmur_classes), dtype=np.int_)\n",
    "    idx = np.argmax(murmur_probabilities)\n",
    "    murmur_labels[idx] = 1\n",
    "    outcome_labels = np.zeros(len(outcome_classes), dtype=np.int_)\n",
    "    idx = np.argmax(outcome_probabilities)\n",
    "    outcome_labels[idx] = 1\n",
    "\n",
    "    # Concatenate classes, labels, and probabilities.\n",
    "    classes = murmur_classes + outcome_classes\n",
    "    labels = np.concatenate((murmur_labels, outcome_labels))\n",
    "    probabilities = np.concatenate((murmur_probabilities, outcome_probabilities))\n",
    "\n",
    "    return classes, labels, probabilities\n",
    "\n",
    "################################################################################\n",
    "#\n",
    "# Optional functions. You can change or remove these functions and/or add new functions.\n",
    "#\n",
    "################################################################################\n",
    "\n",
    "# Save your trained model.\n",
    "# def save_challenge_model(model_folder, imputer, murmur_classes, murmur_classifier, outcome_classes, outcome_classifier):\n",
    "#     d = {'imputer': imputer, 'murmur_classes': murmur_classes, 'murmur_classifier': murmur_classifier, 'outcome_classes': outcome_classes, 'outcome_classifier': outcome_classifier}\n",
    "#     filename = os.path.join(model_folder, 'model.sav')\n",
    "#     joblib.dump(d, filename, protocol=0)"
   ]
  },
  {
   "cell_type": "code",
   "execution_count": null,
   "id": "dda7d21f",
   "metadata": {},
   "outputs": [],
   "source": []
  },
  {
   "cell_type": "code",
   "execution_count": 3,
   "id": "9511e2fb",
   "metadata": {},
   "outputs": [],
   "source": [
    "patient_files = find_patient_files(args.train_data_folder)"
   ]
  },
  {
   "cell_type": "code",
   "execution_count": 15,
   "id": "5327bb1b",
   "metadata": {},
   "outputs": [
    {
     "data": {
      "text/plain": [
       "'2530 4 4000\\nAV 2530_AV.hea 2530_AV.wav 2530_AV.tsv\\nPV 2530_PV.hea 2530_PV.wav 2530_PV.tsv\\nTV 2530_TV.hea 2530_TV.wav 2530_TV.tsv\\nMV 2530_MV.hea 2530_MV.wav 2530_MV.tsv\\n#Age: Child\\n#Sex: Female\\n#Height: 98.0\\n#Weight: 15.9\\n#Pregnancy status: False\\n#Murmur: Absent\\n#Murmur locations: nan\\n#Most audible location: nan\\n#Systolic murmur timing: nan\\n#Systolic murmur shape: nan\\n#Systolic murmur grading: nan\\n#Systolic murmur pitch: nan\\n#Systolic murmur quality: nan\\n#Diastolic murmur timing: nan\\n#Diastolic murmur shape: nan\\n#Diastolic murmur grading: nan\\n#Diastolic murmur pitch: nan\\n#Diastolic murmur quality: nan\\n#Outcome: Abnormal\\n#Campaign: CC2015\\n#Additional ID: nan\\n'"
      ]
     },
     "execution_count": 15,
     "metadata": {},
     "output_type": "execute_result"
    }
   ],
   "source": [
    "patient_data"
   ]
  },
  {
   "cell_type": "code",
   "execution_count": 7,
   "id": "4d9693a2",
   "metadata": {},
   "outputs": [],
   "source": [
    "os.makedirs(args.output_folder, exist_ok=True)"
   ]
  },
  {
   "cell_type": "code",
   "execution_count": 8,
   "id": "c2e2ee18",
   "metadata": {},
   "outputs": [],
   "source": [
    "num_patient_files = len(patient_files)"
   ]
  },
  {
   "cell_type": "code",
   "execution_count": 12,
   "id": "1ff9ae53",
   "metadata": {},
   "outputs": [],
   "source": [
    "patient_data = load_patient_data(patient_files[0])\n",
    "recordings = load_recordings(args.train_data_folder, patient_data)"
   ]
  },
  {
   "cell_type": "code",
   "execution_count": 13,
   "id": "14634849",
   "metadata": {},
   "outputs": [],
   "source": [
    "head, tail = os.path.split(patient_files[0])\n",
    "root, extension = os.path.splitext(tail)\n",
    "output_file = os.path.join(args.output_folder, root + '.csv')\n",
    "patient_id = get_patient_id(patient_data)\n"
   ]
  },
  {
   "cell_type": "code",
   "execution_count": 14,
   "id": "dafac565",
   "metadata": {},
   "outputs": [
    {
     "data": {
      "text/plain": [
       "'./output_folder/2530.csv'"
      ]
     },
     "execution_count": 14,
     "metadata": {},
     "output_type": "execute_result"
    }
   ],
   "source": [
    "output_file"
   ]
  },
  {
   "cell_type": "code",
   "execution_count": 44,
   "id": "032aac26",
   "metadata": {},
   "outputs": [],
   "source": [
    "a = torch.zeros((10,3))"
   ]
  },
  {
   "cell_type": "code",
   "execution_count": 45,
   "id": "b057e6a6",
   "metadata": {},
   "outputs": [],
   "source": [
    "a[3:8,torch.tensor(0)]=1"
   ]
  },
  {
   "cell_type": "code",
   "execution_count": 46,
   "id": "1bd7a0cf",
   "metadata": {},
   "outputs": [
    {
     "data": {
      "text/plain": [
       "tensor([[0., 0., 0.],\n",
       "        [0., 0., 0.],\n",
       "        [0., 0., 0.],\n",
       "        [1., 0., 0.],\n",
       "        [1., 0., 0.],\n",
       "        [1., 0., 0.],\n",
       "        [1., 0., 0.],\n",
       "        [1., 0., 0.],\n",
       "        [0., 0., 0.],\n",
       "        [0., 0., 0.]])"
      ]
     },
     "execution_count": 46,
     "metadata": {},
     "output_type": "execute_result"
    }
   ],
   "source": [
    "a"
   ]
  },
  {
   "cell_type": "code",
   "execution_count": null,
   "id": "adcbfb86",
   "metadata": {},
   "outputs": [],
   "source": []
  },
  {
   "cell_type": "code",
   "execution_count": null,
   "id": "79bd7a5b",
   "metadata": {},
   "outputs": [],
   "source": []
  },
  {
   "cell_type": "code",
   "execution_count": null,
   "id": "1e46b1c3",
   "metadata": {},
   "outputs": [],
   "source": [
    "def save_challenge_outputs(filename, patient_id, classes, labels, probabilities):\n",
    "    # Format Challenge outputs.\n",
    "    patient_string = '#{}'.format(patient_id)\n",
    "    class_string = ','.join(str(c) for c in classes)\n",
    "    label_string = ','.join(str(l) for l in labels)\n",
    "    probabilities_string = ','.join(str(p) for p in probabilities)\n",
    "    output_string = patient_string + '\\n' + class_string + '\\n' + label_string + '\\n' + probabilities_string + '\\n'\n",
    "\n",
    "    # Write the Challenge outputs.\n",
    "    with open(filename, 'w') as f:\n",
    "        f.write(output_string)\n"
   ]
  },
  {
   "cell_type": "code",
   "execution_count": 20,
   "id": "ac0ec114",
   "metadata": {},
   "outputs": [
    {
     "data": {
      "text/plain": [
       "0.25"
      ]
     },
     "execution_count": 20,
     "metadata": {},
     "output_type": "execute_result"
    }
   ],
   "source": [
    "compute_weighted_accuracy(labels, outputs, classes)"
   ]
  },
  {
   "cell_type": "code",
   "execution_count": 19,
   "id": "3c44bcc4",
   "metadata": {},
   "outputs": [],
   "source": [
    "labels = np.array([[0,0,1],[0,1,0]])\n",
    "outputs = np.array([[0,0,1],[1,0,0]])\n",
    "classes = ['Present', 'Unknown', 'Absent']"
   ]
  },
  {
   "cell_type": "code",
   "execution_count": null,
   "id": "3428034d",
   "metadata": {},
   "outputs": [],
   "source": []
  },
  {
   "cell_type": "code",
   "execution_count": 10,
   "id": "191b1819",
   "metadata": {},
   "outputs": [],
   "source": [
    "\n",
    "# Compute a binary confusion matrix, where the columns are the expert labels and the rows are the classifier labels.\n",
    "def compute_confusion_matrix(labels, outputs):\n",
    "    assert(np.shape(labels)[0] == np.shape(outputs)[0])\n",
    "    assert(all(value in (0, 1, True, False) for value in np.unique(labels)))\n",
    "    assert(all(value in (0, 1, True, False) for value in np.unique(outputs)))\n",
    "\n",
    "    num_patients = np.shape(labels)[0]\n",
    "    num_label_classes = np.shape(labels)[1]\n",
    "    num_output_classes = np.shape(outputs)[1]\n",
    "\n",
    "    A = np.zeros((num_output_classes, num_label_classes))\n",
    "    for k in range(num_patients):\n",
    "        for i in range(num_output_classes):\n",
    "            for j in range(num_label_classes):\n",
    "                if outputs[k, i] == 1 and labels[k, j] == 1:\n",
    "                    A[i, j] += 1\n",
    "\n",
    "    return A\n",
    "\n",
    "# Compute binary one-vs-rest confusion matrices, where the columns are the expert labels and the rows are the classifier labels.\n",
    "def compute_one_vs_rest_confusion_matrix(labels, outputs):\n",
    "    assert(np.shape(labels) == np.shape(outputs))\n",
    "    assert(all(value in (0, 1, True, False) for value in np.unique(labels)))\n",
    "    assert(all(value in (0, 1, True, False) for value in np.unique(outputs)))\n",
    "\n",
    "    num_patients, num_classes = np.shape(labels)\n",
    "\n",
    "    A = np.zeros((num_classes, 2, 2))\n",
    "    for i in range(num_patients):\n",
    "        for j in range(num_classes):\n",
    "            if labels[i, j] == 1 and outputs[i, j] == 1: # TP\n",
    "                A[j, 0, 0] += 1\n",
    "            elif labels[i, j] == 0 and outputs[i, j] == 1: # FP\n",
    "                A[j, 0, 1] += 1\n",
    "            elif labels[i, j] == 1 and outputs[i, j] == 0: # FN\n",
    "                A[j, 1, 0] += 1\n",
    "            elif labels[i, j] == 0 and outputs[i, j] == 0: # TN\n",
    "                A[j, 1, 1] += 1\n",
    "\n",
    "    return A\n",
    "\n",
    "# Compute macro F-measure.\n",
    "def compute_f_measure(labels, outputs):\n",
    "    num_patients, num_classes = np.shape(labels)\n",
    "\n",
    "    A = compute_one_vs_rest_confusion_matrix(labels, outputs)\n",
    "\n",
    "    f_measure = np.zeros(num_classes)\n",
    "    for k in range(num_classes):\n",
    "        tp, fp, fn, tn = A[k, 0, 0], A[k, 0, 1], A[k, 1, 0], A[k, 1, 1]\n",
    "        if 2 * tp + fp + fn > 0:\n",
    "            f_measure[k] = float(2 * tp) / float(2 * tp + fp + fn)\n",
    "        else:\n",
    "            f_measure[k] = float('nan')\n",
    "\n",
    "    if np.any(np.isfinite(f_measure)):\n",
    "        macro_f_measure = np.nanmean(f_measure)\n",
    "    else:\n",
    "        macro_f_measure = float('nan')\n",
    "\n",
    "    return macro_f_measure, f_measure\n",
    "\n",
    "# Compute accuracy.\n",
    "def compute_accuracy(labels, outputs):\n",
    "    # Compute confusion matrix.\n",
    "    assert(np.shape(labels) == np.shape(outputs))\n",
    "    num_patients, num_classes = np.shape(labels)\n",
    "    A = compute_confusion_matrix(labels, outputs)\n",
    "\n",
    "    # Compute accuracy.\n",
    "    if np.sum(A) > 0:\n",
    "        accuracy = np.trace(A) / np.sum(A)\n",
    "    else:\n",
    "        accuracy = float('nan')\n",
    "\n",
    "    # Compute per-class accuracy.\n",
    "    accuracy_classes = np.zeros(num_classes)\n",
    "    for i in range(num_classes):\n",
    "        if np.sum(A[:, i]) > 0:\n",
    "            accuracy_classes[i] = A[i, i] / np.sum(A[:, i])\n",
    "        else:\n",
    "            accuracy_classes[i] = float('nan')\n",
    "\n",
    "    return accuracy, accuracy_classes\n",
    "\n",
    "# Compute accuracy.\n",
    "def compute_weighted_accuracy(labels, outputs, classes):\n",
    "    # Define constants.\n",
    "    if classes == ['Present', 'Unknown', 'Absent']:\n",
    "        weights = np.array([[5, 3, 1], [5, 3, 1], [5, 3, 1]])\n",
    "    elif classes == ['Abnormal', 'Normal']:\n",
    "        weights = np.array([[5, 1], [5, 1]])\n",
    "    else:\n",
    "        raise NotImplementedError('Weighted accuracy undefined for classes {}'.format(', '.join(classes)))\n",
    "\n",
    "    # Compute confusion matrix.\n",
    "    assert(np.shape(labels) == np.shape(outputs))\n",
    "    A = compute_confusion_matrix(labels, outputs)\n",
    "\n",
    "    # Multiply the confusion matrix by the weight matrix.\n",
    "    assert(np.shape(A) == np.shape(weights))\n",
    "    B = weights * A\n",
    "\n",
    "    # Compute weighted_accuracy.\n",
    "    if np.sum(B) > 0:\n",
    "        weighted_accuracy = np.trace(B) / np.sum(B)\n",
    "    else:\n",
    "        weighted_accuracy = float('nan')\n",
    "\n",
    "    return weighted_accuracy\n"
   ]
  },
  {
   "cell_type": "code",
   "execution_count": null,
   "id": "6bb737f2",
   "metadata": {},
   "outputs": [],
   "source": []
  }
 ],
 "metadata": {
  "kernelspec": {
   "display_name": "Python 3 (ipykernel)",
   "language": "python",
   "name": "python3"
  },
  "language_info": {
   "codemirror_mode": {
    "name": "ipython",
    "version": 3
   },
   "file_extension": ".py",
   "mimetype": "text/x-python",
   "name": "python",
   "nbconvert_exporter": "python",
   "pygments_lexer": "ipython3",
   "version": "3.7.6"
  }
 },
 "nbformat": 4,
 "nbformat_minor": 5
}
