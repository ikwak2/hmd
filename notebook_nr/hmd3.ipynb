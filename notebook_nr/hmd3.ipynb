{
 "cells": [
  {
   "cell_type": "code",
   "execution_count": 1,
   "id": "5b840ba2",
   "metadata": {},
   "outputs": [],
   "source": [
    "import sys\n",
    "sys.path.append(\"/home/jh20/narin/physionet/python-classifier-2022\")\n",
    "from helper_code import *\n",
    "import numpy as np, scipy as sp, scipy.stats, os, joblib\n",
    "import glob\n",
    "import pandas as pd\n",
    "from sklearn.model_selection import train_test_split\n",
    "import time\n",
    "import torch.nn.functional as F\n",
    "import tqdm"
   ]
  },
  {
   "cell_type": "code",
   "execution_count": 2,
   "id": "50a131c9",
   "metadata": {},
   "outputs": [],
   "source": [
    "import argparse, warnings, sys\n",
    "import torch\n",
    "\n",
    "sys.path.append('/home/jh20/narin/dcase/DESED_task')\n",
    "sys.path.append('/home/jh20/narin/dcase/DESED_task/recipes/dcase2022_task4_baseline')\n",
    "\n",
    "\n",
    "parser = argparse.ArgumentParser(description = \"HMD_trainer\")\n",
    "## Training Settings\n",
    "parser.add_argument('--train_data_folder',    default='/home/jh20/Data/nr_data/ECG/Physionet2022/physionet.org/files/circor-heart-sound/1.0.3/train/',     help='train data path')\n",
    "parser.add_argument('--valid_data_folder',    default='/home/jh20/Data/nr_data/ECG/Physionet2022/physionet.org/files/circor-heart-sound/1.0.3/validation/',     help='validation data path')\n",
    "parser.add_argument(\"--lr\",default=1e-3, type=float, help=\"learning rate\")\n",
    "parser.add_argument(\"--minibatchsize_train\", default=64, type=int)\n",
    "parser.add_argument(\"--minibatchsize_valid\", default=8, type=int)\n",
    "parser.add_argument(\"--train_num_workers\", default=6, type=int, help=\"number of training workers\")\n",
    "parser.add_argument(\"--dev_num_workers\", default=1, type=int, help=\"number of validation workers\")\n",
    "parser.add_argument(\"--seed\", default=617, type=int)\n",
    "parser.add_argument(\"--model_path\", default='./hmd_CNN', type=str)\n",
    "parser.add_argument(\"--logdir\", default='./log_hmd/', type=str)\n",
    "parser.add_argument(\"--model_name\", default='hmd_CNN_model', type=str)\n",
    "parser.add_argument(\"--start_iter\", default=0, type=int)\n",
    "parser.add_argument(\"--end_iter\", default=70, type=int)\n",
    "parser.add_argument(\"--gpu\", default=\"0\", type=str)\n",
    "\n",
    "warnings.simplefilter(\"ignore\")\n",
    "torch.multiprocessing.set_sharing_strategy('file_system')\n",
    "args = parser.parse_args(args=[])"
   ]
  },
  {
   "cell_type": "code",
   "execution_count": 3,
   "id": "13190018",
   "metadata": {},
   "outputs": [
    {
     "name": "stdout",
     "output_type": "stream",
     "text": [
      "Available devices  1\n"
     ]
    }
   ],
   "source": [
    "import torch\n",
    "\n",
    "device = torch.device('cuda' if torch.cuda.is_available() else 'cpu')\n",
    "print ('Available devices ', torch.cuda.device_count())"
   ]
  },
  {
   "cell_type": "code",
   "execution_count": 4,
   "id": "08e0277a",
   "metadata": {},
   "outputs": [],
   "source": [
    "GPU_NUM = args.gpu # 원하는 GPU 번호 입력\n",
    "device = torch.device(f'cuda:{GPU_NUM}' if torch.cuda.is_available() else 'cpu')\n",
    "torch.cuda.set_device(device) # change allocation of current GPU"
   ]
  },
  {
   "cell_type": "code",
   "execution_count": 13,
   "id": "79014540",
   "metadata": {},
   "outputs": [],
   "source": [
    "train_csv = pd.read_csv('/home/jh20/Data/nr_data/ECG/Physionet2022/physionet.org/files/circor-heart-sound/1.0.3/training_data.csv')"
   ]
  },
  {
   "cell_type": "code",
   "execution_count": 14,
   "id": "b2738991",
   "metadata": {},
   "outputs": [
    {
     "data": {
      "text/html": [
       "<div>\n",
       "<style scoped>\n",
       "    .dataframe tbody tr th:only-of-type {\n",
       "        vertical-align: middle;\n",
       "    }\n",
       "\n",
       "    .dataframe tbody tr th {\n",
       "        vertical-align: top;\n",
       "    }\n",
       "\n",
       "    .dataframe thead th {\n",
       "        text-align: right;\n",
       "    }\n",
       "</style>\n",
       "<table border=\"1\" class=\"dataframe\">\n",
       "  <thead>\n",
       "    <tr style=\"text-align: right;\">\n",
       "      <th></th>\n",
       "      <th>Patient ID</th>\n",
       "      <th>Recording locations:</th>\n",
       "      <th>Age</th>\n",
       "      <th>Sex</th>\n",
       "      <th>Height</th>\n",
       "      <th>Weight</th>\n",
       "      <th>Pregnancy status</th>\n",
       "      <th>Murmur</th>\n",
       "      <th>Murmur locations</th>\n",
       "      <th>Most audible location</th>\n",
       "      <th>...</th>\n",
       "      <th>Systolic murmur pitch</th>\n",
       "      <th>Systolic murmur quality</th>\n",
       "      <th>Diastolic murmur timing</th>\n",
       "      <th>Diastolic murmur shape</th>\n",
       "      <th>Diastolic murmur grading</th>\n",
       "      <th>Diastolic murmur pitch</th>\n",
       "      <th>Diastolic murmur quality</th>\n",
       "      <th>Outcome</th>\n",
       "      <th>Campaign</th>\n",
       "      <th>Additional ID</th>\n",
       "    </tr>\n",
       "  </thead>\n",
       "  <tbody>\n",
       "    <tr>\n",
       "      <th>0</th>\n",
       "      <td>2530</td>\n",
       "      <td>AV+PV+TV+MV</td>\n",
       "      <td>Child</td>\n",
       "      <td>Female</td>\n",
       "      <td>98.0</td>\n",
       "      <td>15.9</td>\n",
       "      <td>False</td>\n",
       "      <td>Absent</td>\n",
       "      <td>NaN</td>\n",
       "      <td>NaN</td>\n",
       "      <td>...</td>\n",
       "      <td>NaN</td>\n",
       "      <td>NaN</td>\n",
       "      <td>NaN</td>\n",
       "      <td>NaN</td>\n",
       "      <td>NaN</td>\n",
       "      <td>NaN</td>\n",
       "      <td>NaN</td>\n",
       "      <td>Abnormal</td>\n",
       "      <td>CC2015</td>\n",
       "      <td>NaN</td>\n",
       "    </tr>\n",
       "    <tr>\n",
       "      <th>1</th>\n",
       "      <td>9979</td>\n",
       "      <td>AV+PV+TV+MV</td>\n",
       "      <td>Child</td>\n",
       "      <td>Female</td>\n",
       "      <td>103.0</td>\n",
       "      <td>13.1</td>\n",
       "      <td>False</td>\n",
       "      <td>Present</td>\n",
       "      <td>AV+MV+PV+TV</td>\n",
       "      <td>TV</td>\n",
       "      <td>...</td>\n",
       "      <td>High</td>\n",
       "      <td>Harsh</td>\n",
       "      <td>NaN</td>\n",
       "      <td>NaN</td>\n",
       "      <td>NaN</td>\n",
       "      <td>NaN</td>\n",
       "      <td>NaN</td>\n",
       "      <td>Abnormal</td>\n",
       "      <td>CC2015</td>\n",
       "      <td>NaN</td>\n",
       "    </tr>\n",
       "    <tr>\n",
       "      <th>2</th>\n",
       "      <td>9983</td>\n",
       "      <td>AV+PV+TV+MV</td>\n",
       "      <td>Child</td>\n",
       "      <td>Male</td>\n",
       "      <td>115.0</td>\n",
       "      <td>19.1</td>\n",
       "      <td>False</td>\n",
       "      <td>Unknown</td>\n",
       "      <td>NaN</td>\n",
       "      <td>NaN</td>\n",
       "      <td>...</td>\n",
       "      <td>NaN</td>\n",
       "      <td>NaN</td>\n",
       "      <td>NaN</td>\n",
       "      <td>NaN</td>\n",
       "      <td>NaN</td>\n",
       "      <td>NaN</td>\n",
       "      <td>NaN</td>\n",
       "      <td>Abnormal</td>\n",
       "      <td>CC2015</td>\n",
       "      <td>NaN</td>\n",
       "    </tr>\n",
       "    <tr>\n",
       "      <th>3</th>\n",
       "      <td>13918</td>\n",
       "      <td>AV+PV+TV+MV</td>\n",
       "      <td>Child</td>\n",
       "      <td>Male</td>\n",
       "      <td>98.0</td>\n",
       "      <td>15.9</td>\n",
       "      <td>False</td>\n",
       "      <td>Present</td>\n",
       "      <td>TV</td>\n",
       "      <td>TV</td>\n",
       "      <td>...</td>\n",
       "      <td>Low</td>\n",
       "      <td>Blowing</td>\n",
       "      <td>NaN</td>\n",
       "      <td>NaN</td>\n",
       "      <td>NaN</td>\n",
       "      <td>NaN</td>\n",
       "      <td>NaN</td>\n",
       "      <td>Abnormal</td>\n",
       "      <td>CC2015</td>\n",
       "      <td>NaN</td>\n",
       "    </tr>\n",
       "    <tr>\n",
       "      <th>4</th>\n",
       "      <td>14241</td>\n",
       "      <td>AV+PV+TV+MV</td>\n",
       "      <td>Child</td>\n",
       "      <td>Male</td>\n",
       "      <td>87.0</td>\n",
       "      <td>11.2</td>\n",
       "      <td>False</td>\n",
       "      <td>Present</td>\n",
       "      <td>AV+MV+PV+TV</td>\n",
       "      <td>PV</td>\n",
       "      <td>...</td>\n",
       "      <td>Low</td>\n",
       "      <td>Harsh</td>\n",
       "      <td>NaN</td>\n",
       "      <td>NaN</td>\n",
       "      <td>NaN</td>\n",
       "      <td>NaN</td>\n",
       "      <td>NaN</td>\n",
       "      <td>Abnormal</td>\n",
       "      <td>CC2015</td>\n",
       "      <td>NaN</td>\n",
       "    </tr>\n",
       "    <tr>\n",
       "      <th>...</th>\n",
       "      <td>...</td>\n",
       "      <td>...</td>\n",
       "      <td>...</td>\n",
       "      <td>...</td>\n",
       "      <td>...</td>\n",
       "      <td>...</td>\n",
       "      <td>...</td>\n",
       "      <td>...</td>\n",
       "      <td>...</td>\n",
       "      <td>...</td>\n",
       "      <td>...</td>\n",
       "      <td>...</td>\n",
       "      <td>...</td>\n",
       "      <td>...</td>\n",
       "      <td>...</td>\n",
       "      <td>...</td>\n",
       "      <td>...</td>\n",
       "      <td>...</td>\n",
       "      <td>...</td>\n",
       "      <td>...</td>\n",
       "      <td>...</td>\n",
       "    </tr>\n",
       "    <tr>\n",
       "      <th>937</th>\n",
       "      <td>85340</td>\n",
       "      <td>AV+PV+TV+MV</td>\n",
       "      <td>Child</td>\n",
       "      <td>Male</td>\n",
       "      <td>105.0</td>\n",
       "      <td>16.6</td>\n",
       "      <td>False</td>\n",
       "      <td>Absent</td>\n",
       "      <td>NaN</td>\n",
       "      <td>NaN</td>\n",
       "      <td>...</td>\n",
       "      <td>NaN</td>\n",
       "      <td>NaN</td>\n",
       "      <td>NaN</td>\n",
       "      <td>NaN</td>\n",
       "      <td>NaN</td>\n",
       "      <td>NaN</td>\n",
       "      <td>NaN</td>\n",
       "      <td>Normal</td>\n",
       "      <td>CC2015</td>\n",
       "      <td>NaN</td>\n",
       "    </tr>\n",
       "    <tr>\n",
       "      <th>938</th>\n",
       "      <td>85341</td>\n",
       "      <td>AV+PV+TV+MV</td>\n",
       "      <td>Child</td>\n",
       "      <td>Male</td>\n",
       "      <td>92.0</td>\n",
       "      <td>15.2</td>\n",
       "      <td>False</td>\n",
       "      <td>Absent</td>\n",
       "      <td>NaN</td>\n",
       "      <td>NaN</td>\n",
       "      <td>...</td>\n",
       "      <td>NaN</td>\n",
       "      <td>NaN</td>\n",
       "      <td>NaN</td>\n",
       "      <td>NaN</td>\n",
       "      <td>NaN</td>\n",
       "      <td>NaN</td>\n",
       "      <td>NaN</td>\n",
       "      <td>Normal</td>\n",
       "      <td>CC2015</td>\n",
       "      <td>NaN</td>\n",
       "    </tr>\n",
       "    <tr>\n",
       "      <th>939</th>\n",
       "      <td>85343</td>\n",
       "      <td>AV+PV+TV+MV</td>\n",
       "      <td>Child</td>\n",
       "      <td>Female</td>\n",
       "      <td>97.0</td>\n",
       "      <td>13.5</td>\n",
       "      <td>False</td>\n",
       "      <td>Present</td>\n",
       "      <td>MV+TV</td>\n",
       "      <td>TV</td>\n",
       "      <td>...</td>\n",
       "      <td>Low</td>\n",
       "      <td>Blowing</td>\n",
       "      <td>NaN</td>\n",
       "      <td>NaN</td>\n",
       "      <td>NaN</td>\n",
       "      <td>NaN</td>\n",
       "      <td>NaN</td>\n",
       "      <td>Abnormal</td>\n",
       "      <td>CC2015</td>\n",
       "      <td>NaN</td>\n",
       "    </tr>\n",
       "    <tr>\n",
       "      <th>940</th>\n",
       "      <td>85345</td>\n",
       "      <td>AV+PV</td>\n",
       "      <td>Child</td>\n",
       "      <td>Female</td>\n",
       "      <td>132.0</td>\n",
       "      <td>38.1</td>\n",
       "      <td>False</td>\n",
       "      <td>Absent</td>\n",
       "      <td>NaN</td>\n",
       "      <td>NaN</td>\n",
       "      <td>...</td>\n",
       "      <td>NaN</td>\n",
       "      <td>NaN</td>\n",
       "      <td>NaN</td>\n",
       "      <td>NaN</td>\n",
       "      <td>NaN</td>\n",
       "      <td>NaN</td>\n",
       "      <td>NaN</td>\n",
       "      <td>Normal</td>\n",
       "      <td>CC2015</td>\n",
       "      <td>NaN</td>\n",
       "    </tr>\n",
       "    <tr>\n",
       "      <th>941</th>\n",
       "      <td>85349</td>\n",
       "      <td>AV+PV+TV</td>\n",
       "      <td>NaN</td>\n",
       "      <td>Female</td>\n",
       "      <td>NaN</td>\n",
       "      <td>NaN</td>\n",
       "      <td>True</td>\n",
       "      <td>Absent</td>\n",
       "      <td>NaN</td>\n",
       "      <td>NaN</td>\n",
       "      <td>...</td>\n",
       "      <td>NaN</td>\n",
       "      <td>NaN</td>\n",
       "      <td>NaN</td>\n",
       "      <td>NaN</td>\n",
       "      <td>NaN</td>\n",
       "      <td>NaN</td>\n",
       "      <td>NaN</td>\n",
       "      <td>Normal</td>\n",
       "      <td>CC2015</td>\n",
       "      <td>NaN</td>\n",
       "    </tr>\n",
       "  </tbody>\n",
       "</table>\n",
       "<p>942 rows × 23 columns</p>\n",
       "</div>"
      ],
      "text/plain": [
       "     Patient ID Recording locations:    Age     Sex  Height  Weight  \\\n",
       "0          2530          AV+PV+TV+MV  Child  Female    98.0    15.9   \n",
       "1          9979          AV+PV+TV+MV  Child  Female   103.0    13.1   \n",
       "2          9983          AV+PV+TV+MV  Child    Male   115.0    19.1   \n",
       "3         13918          AV+PV+TV+MV  Child    Male    98.0    15.9   \n",
       "4         14241          AV+PV+TV+MV  Child    Male    87.0    11.2   \n",
       "..          ...                  ...    ...     ...     ...     ...   \n",
       "937       85340          AV+PV+TV+MV  Child    Male   105.0    16.6   \n",
       "938       85341          AV+PV+TV+MV  Child    Male    92.0    15.2   \n",
       "939       85343          AV+PV+TV+MV  Child  Female    97.0    13.5   \n",
       "940       85345                AV+PV  Child  Female   132.0    38.1   \n",
       "941       85349             AV+PV+TV    NaN  Female     NaN     NaN   \n",
       "\n",
       "     Pregnancy status   Murmur Murmur locations Most audible location  ...  \\\n",
       "0               False   Absent              NaN                   NaN  ...   \n",
       "1               False  Present      AV+MV+PV+TV                    TV  ...   \n",
       "2               False  Unknown              NaN                   NaN  ...   \n",
       "3               False  Present               TV                    TV  ...   \n",
       "4               False  Present      AV+MV+PV+TV                    PV  ...   \n",
       "..                ...      ...              ...                   ...  ...   \n",
       "937             False   Absent              NaN                   NaN  ...   \n",
       "938             False   Absent              NaN                   NaN  ...   \n",
       "939             False  Present            MV+TV                    TV  ...   \n",
       "940             False   Absent              NaN                   NaN  ...   \n",
       "941              True   Absent              NaN                   NaN  ...   \n",
       "\n",
       "    Systolic murmur pitch Systolic murmur quality Diastolic murmur timing  \\\n",
       "0                     NaN                     NaN                     NaN   \n",
       "1                    High                   Harsh                     NaN   \n",
       "2                     NaN                     NaN                     NaN   \n",
       "3                     Low                 Blowing                     NaN   \n",
       "4                     Low                   Harsh                     NaN   \n",
       "..                    ...                     ...                     ...   \n",
       "937                   NaN                     NaN                     NaN   \n",
       "938                   NaN                     NaN                     NaN   \n",
       "939                   Low                 Blowing                     NaN   \n",
       "940                   NaN                     NaN                     NaN   \n",
       "941                   NaN                     NaN                     NaN   \n",
       "\n",
       "    Diastolic murmur shape Diastolic murmur grading Diastolic murmur pitch  \\\n",
       "0                      NaN                      NaN                    NaN   \n",
       "1                      NaN                      NaN                    NaN   \n",
       "2                      NaN                      NaN                    NaN   \n",
       "3                      NaN                      NaN                    NaN   \n",
       "4                      NaN                      NaN                    NaN   \n",
       "..                     ...                      ...                    ...   \n",
       "937                    NaN                      NaN                    NaN   \n",
       "938                    NaN                      NaN                    NaN   \n",
       "939                    NaN                      NaN                    NaN   \n",
       "940                    NaN                      NaN                    NaN   \n",
       "941                    NaN                      NaN                    NaN   \n",
       "\n",
       "    Diastolic murmur quality   Outcome Campaign Additional ID  \n",
       "0                        NaN  Abnormal   CC2015           NaN  \n",
       "1                        NaN  Abnormal   CC2015           NaN  \n",
       "2                        NaN  Abnormal   CC2015           NaN  \n",
       "3                        NaN  Abnormal   CC2015           NaN  \n",
       "4                        NaN  Abnormal   CC2015           NaN  \n",
       "..                       ...       ...      ...           ...  \n",
       "937                      NaN    Normal   CC2015           NaN  \n",
       "938                      NaN    Normal   CC2015           NaN  \n",
       "939                      NaN  Abnormal   CC2015           NaN  \n",
       "940                      NaN    Normal   CC2015           NaN  \n",
       "941                      NaN    Normal   CC2015           NaN  \n",
       "\n",
       "[942 rows x 23 columns]"
      ]
     },
     "execution_count": 14,
     "metadata": {},
     "output_type": "execute_result"
    }
   ],
   "source": [
    "train_csv"
   ]
  },
  {
   "cell_type": "code",
   "execution_count": 3,
   "id": "1ff0eb8c",
   "metadata": {},
   "outputs": [],
   "source": [
    "from torch.utils.data import Dataset,DataLoader, RandomSampler\n",
    "import pandas as pd\n",
    "import numpy as np\n",
    "import sys\n",
    "sys.path.append(\"/home/jh20/narin/physionet/python-classifier-2022\")\n",
    "from helper_code import *\n",
    "import torchaudio\n",
    "import random\n",
    "import numpy as np\n",
    "import librosa\n",
    "import glob\n",
    "import math\n",
    "\n",
    "\n",
    "\n",
    "\n",
    "\n",
    "\n",
    "def read_recording(wav_fn, audio_length= 20, sr= 4000):\n",
    "\n",
    "    recording, frequency = load_wav_file(wav_fn)\n",
    "\n",
    "\n",
    "    length = audio_length*sr\n",
    "    if recording.shape[0] <= length:\n",
    "        shortage = length - recording.shape[0]\n",
    "        recording = np.pad(recording, (0, shortage), 'wrap')\n",
    "    start_frame = np.int64(random.random()*(recording.shape[0]-length))\n",
    "    recording = recording[start_frame:start_frame + length] \n",
    "\n",
    "    return recording\n",
    "\n",
    "\n",
    "\n",
    "class train_loader(Dataset):\n",
    "    def __init__(self,data_folder, **kwargs):\n",
    "        self.data_folder = data_folder\n",
    "        \n",
    "        self.wav_files = glob.glob(data_folder + '*.wav')\n",
    "        self.num_wav_files = len(self.wav_files)\n",
    "        \n",
    "        self.murmur_classes = ['Present', 'Unknown', 'Absent']\n",
    "        self.num_murmur_classes = len(self.murmur_classes)\n",
    "        self.outcome_classes = ['Abnormal', 'Normal']\n",
    "        self.num_outcome_classes = len(self.outcome_classes)\n",
    "        \n",
    "        self.age_classes = ['Neonate', 'Infant', 'Child', 'Adolescent', 'Young Adult']\n",
    "        self.recording_locations = ['AV', 'MV', 'PV', 'TV', 'PhC']\n",
    "\n",
    "        \n",
    "        \n",
    "        examples = {}\n",
    "        for filename in self.wav_files:\n",
    "            current_patient_id = filename.split('/')[-1].split('_')[0]\n",
    "            current_txt_file = self.data_folder + str(current_patient_id) + '.txt'\n",
    "            with open(current_txt_file, 'r') as f:\n",
    "                current_patient_data = f.read()\n",
    "            current_loc = filename.split('/')[-1].split('.')[0].split('_')[1]\n",
    "            if filename.split('/')[-1].split('.')[0]  not in examples.keys():\n",
    "                current_wav_data = filename.split('/')[-1].split('.')[0]\n",
    "                examples[current_wav_data] = {\n",
    "                    \"id\" : current_patient_id,\n",
    "                    \"txt_fn\" : current_txt_file,   #txt,\n",
    "                    \"wav_fn\" : filename,  #wav\n",
    "                    \"num_location\": get_num_locations(current_patient_data),\n",
    "                    \"frequency\" : get_frequency(current_patient_data),\n",
    "                    \"location\" : current_loc,\n",
    "                    \"age\" : get_age(current_patient_data),\n",
    "                    \"sex\" : get_sex(current_patient_data),\n",
    "                    \"height\" : get_height(current_patient_data),\n",
    "                    \"weight\" : get_weight(current_patient_data),\n",
    "                    \"pregnancy_status\" : get_pregnancy_status(current_patient_data),\n",
    "                    \"murmur\" : get_murmur(current_patient_data),\n",
    "                    \"outcome\" : get_outcome(current_patient_data)\n",
    "\n",
    "                }\n",
    "        self.examples = examples\n",
    "        self.examples_list = list(examples.keys())\n",
    "        \n",
    "        \n",
    "        if len(self.examples_list) != self.num_wav_files:\n",
    "            raise ValueError('length is different!')\n",
    "    def __len__(self):\n",
    "        return len(self.examples_list)\n",
    "    \n",
    "        \n",
    "    def __getitem__(self, index):\n",
    "        \n",
    "        # patient info\n",
    "        current_wav_dict = self.examples[self.examples_list[index]]\n",
    "        current_patient_data = load_patient_data(current_wav_dict[\"txt_fn\"])\n",
    "        current_recording = read_recording(current_wav_dict[\"wav_fn\"])\n",
    "        \n",
    "        #log mel feature\n",
    "        log_mel_feature = librosa.power_to_db(librosa.feature.melspectrogram(y = current_recording.astype(np.float32),\n",
    "                                                         sr= 4000,\n",
    "                                                         n_mels=128,\n",
    "                                                         n_fft=400, \n",
    "                                                         hop_length=128, \n",
    "                                                         win_length=400))\n",
    "        \n",
    "        # age\n",
    "        current_patient_age = current_wav_dict[\"age\"]\n",
    "        current_age_group = np.zeros(6, dtype=np.float32)\n",
    "        if current_patient_age in self.age_classes:\n",
    "            j = self.age_classes.index(current_patient_age)\n",
    "            current_age_group[j] = 1.0\n",
    "        else :\n",
    "            current_age_group[5] = 1.0\n",
    "            \n",
    "            \n",
    "        # sex\n",
    "        sex = current_wav_dict[\"sex\"]\n",
    "        sex_feature = np.zeros(2, dtype=np.float32)\n",
    "        if compare_strings(sex, 'Female'):\n",
    "            sex_feature[0] = 1.0\n",
    "        elif compare_strings(sex, 'Male'):\n",
    "            sex_feature[1] = 1.0\n",
    "            \n",
    "        # height and weight.\n",
    "        height = current_wav_dict[\"height\"]\n",
    "        weight = current_wav_dict[\"weight\"]\n",
    "        \n",
    "        ## simple impute\n",
    "        if math.isnan(height) :\n",
    "            height = 110.846  #mean\n",
    "        if math.isnan(weight) :\n",
    "            weight = 23.767   #mean\n",
    "            \n",
    "        height_weight = np.array([height, weight], dtype=np.float32)\n",
    "        \n",
    "        \n",
    "        # Extract pregnancy\n",
    "        preg_feature = np.zeros(2, dtype=np.float32)\n",
    "        is_pregnant = current_wav_dict[\"pregnancy_status\"]\n",
    "        if is_pregnant == True:\n",
    "            preg_feature[0] = 1.0\n",
    "        elif is_pregnant == False:\n",
    "            preg_feature[1] = 1.0\n",
    "\n",
    "        # Extract location\n",
    "        location = current_wav_dict[\"location\"]\n",
    "        num_recording_locations = len(self.recording_locations)\n",
    "        loc_feature = np.zeros(num_recording_locations, dtype=np.float32)\n",
    "        if location in self.recording_locations:\n",
    "            j = self.recording_locations.index(location)\n",
    "            loc_feature[j] = 1.0\n",
    "\n",
    "\n",
    "        \n",
    "\n",
    "        # label\n",
    "        \n",
    "        current_murmur = np.zeros(self.num_murmur_classes, dtype=np.float32)\n",
    "        murmur = get_murmur(current_patient_data)\n",
    "        if murmur in self.murmur_classes:\n",
    "            j = self.murmur_classes.index(murmur)\n",
    "            current_murmur[j] = 1\n",
    "\n",
    "\n",
    "        current_outcome = np.zeros(self.num_outcome_classes, dtype=np.float32)\n",
    "        outcome = get_outcome(current_patient_data)\n",
    "        if outcome in self.outcome_classes:\n",
    "            j = self.outcome_classes.index(outcome)\n",
    "            current_outcome[j] = 1\n",
    "            \n",
    "\n",
    "\n",
    "        \n",
    "        return log_mel_feature, current_age_group, sex_feature, height_weight, preg_feature, loc_feature, current_murmur, current_outcome"
   ]
  },
  {
   "cell_type": "code",
   "execution_count": 6,
   "id": "2d417869",
   "metadata": {},
   "outputs": [],
   "source": [
    "warnings.simplefilter(action='ignore', category=FutureWarning)\n",
    "warnings.filterwarnings('ignore')\n",
    "\n",
    "os.makedirs(args.model_path, exist_ok=True)\n",
    "os.makedirs(args.logdir, exist_ok=True)"
   ]
  },
  {
   "cell_type": "code",
   "execution_count": 7,
   "id": "167c6b4a",
   "metadata": {},
   "outputs": [],
   "source": [
    "open(args.logdir + 'score.txt', \"a+\")\n",
    "score_file = open(args.logdir + 'score.txt', \"a+\")"
   ]
  },
  {
   "cell_type": "code",
   "execution_count": 8,
   "id": "9c80a02f",
   "metadata": {},
   "outputs": [],
   "source": [
    "import logging\n",
    "def get_logger(filename):\n",
    "    # Logging configuration: set the basic configuration of the logging system\n",
    "    log_formatter = logging.Formatter(fmt='%(asctime)s [%(processName)s, %(process)s] [%(levelname)-5.5s]  %(message)s',\n",
    "                                      datefmt='%m-%d %H:%M')\n",
    "    logger = logging.getLogger()\n",
    "    logger.setLevel(logging.DEBUG)\n",
    "    # File logger\n",
    "    file_handler = logging.FileHandler(\"{}.log\".format(filename))\n",
    "    file_handler.setFormatter(log_formatter)\n",
    "    file_handler.setLevel(logging.DEBUG)\n",
    "    logger.addHandler(file_handler)\n",
    "    # Stderr logger\n",
    "    std_handler = logging.StreamHandler(sys.stdout)\n",
    "    std_handler.setFormatter(log_formatter)\n",
    "    std_handler.setLevel(logging.DEBUG)\n",
    "    logger.addHandler(std_handler)\n",
    "    return logger"
   ]
  },
  {
   "cell_type": "code",
   "execution_count": 9,
   "id": "6bdb7a3e",
   "metadata": {},
   "outputs": [],
   "source": [
    "model_path = args.model_path\n",
    "log_dir = args.logdir\n",
    "logger = get_logger(log_dir + '/' + model_path)"
   ]
  },
  {
   "cell_type": "code",
   "execution_count": 10,
   "id": "df5f6d05",
   "metadata": {},
   "outputs": [],
   "source": [
    "import torch.nn as nn\n",
    "import torch\n",
    "\n",
    "\n",
    "class GLU(nn.Module):\n",
    "    def __init__(self, input_num):\n",
    "        super(GLU, self).__init__()\n",
    "        self.sigmoid = nn.Sigmoid()\n",
    "        self.linear = nn.Linear(input_num, input_num)\n",
    "\n",
    "    def forward(self, x):\n",
    "        lin = self.linear(x.permute(0, 2, 3, 1))\n",
    "        lin = lin.permute(0, 3, 1, 2)\n",
    "        sig = self.sigmoid(x)\n",
    "        res = lin * sig\n",
    "        return res\n",
    "\n",
    "\n",
    "class ContextGating(nn.Module):\n",
    "    def __init__(self, input_num):\n",
    "        super(ContextGating, self).__init__()\n",
    "        self.sigmoid = nn.Sigmoid()\n",
    "        self.linear = nn.Linear(input_num, input_num)\n",
    "\n",
    "    def forward(self, x):\n",
    "        lin = self.linear(x.permute(0, 2, 3, 1))\n",
    "        lin = lin.permute(0, 3, 1, 2)\n",
    "        sig = self.sigmoid(lin)\n",
    "        res = x * sig\n",
    "        return res\n",
    "    \n",
    "class Dense(nn.Module):\n",
    "    \n",
    "    def __init__(self,length):\n",
    "        super(Dense, self).__init__()\n",
    "        h1 = nn.Linear(length, 64)\n",
    "        h2 = nn.Linear(64, 32)\n",
    "        h3 = nn.Linear(32, 1)\n",
    "        self.hidden = nn.Sequential(\n",
    "            h1,\n",
    "            nn.ReLU(),\n",
    "            h2,\n",
    "            nn.ReLU(),\n",
    "            h3,\n",
    "        )\n",
    "        \n",
    "    def forward(self, x):\n",
    "        o = self.hidden(x)\n",
    "        return o.view(-1,1)\n",
    "\n",
    "\n",
    "class CNN(nn.Module):\n",
    "    def __init__(\n",
    "        self,\n",
    "        n_in_channel=1,\n",
    "        activation=\"Relu\",\n",
    "        conv_dropout=0,\n",
    "        kernel_size=[3, 3, 3, 3, 3, 3],\n",
    "        padding=[1, 1, 1, 1, 1, 1],\n",
    "        stride=[1, 1, 1, 1, 1, 1],\n",
    "        nb_filters=[16, 32, 64, 128, 256, 256],\n",
    "        pooling=[(2, 2), (2, 2), (1, 2), (1, 2), (1, 2), (1, 2)],\n",
    "        normalization=\"batch\",\n",
    "        **transformer_kwargs\n",
    "    ):\n",
    "        \"\"\"\n",
    "            Initialization of CNN network s\n",
    "        \n",
    "        Args:\n",
    "            n_in_channel: int, number of input channel\n",
    "            activation: str, activation function\n",
    "            conv_dropout: float, dropout\n",
    "            kernel_size: kernel size\n",
    "            padding: padding\n",
    "            stride: list, stride\n",
    "            nb_filters: number of filters\n",
    "            pooling: list of tuples, time and frequency pooling\n",
    "            normalization: choose between \"batch\" for BatchNormalization and \"layer\" for LayerNormalization.\n",
    "        \"\"\"\n",
    "        super(CNN, self).__init__()\n",
    "\n",
    "        self.nb_filters = nb_filters\n",
    "        cnn = nn.Sequential()\n",
    "        self.avgpool = nn.AdaptiveAvgPool2d((1, 1))\n",
    "        self.fc1 = nn.Linear(264,132)\n",
    "        self.fc2 = nn.Linear(132,3)\n",
    "        self.fc_age = nn.Linear(6,3)\n",
    "        self.fc_sex = nn.Linear(2,1)\n",
    "        self.fc_hw = nn.Linear(2,1)\n",
    "        self.fc_preg = nn.Linear(2,1)\n",
    "        self.fc_loc = nn.Linear(5,2)\n",
    "        \n",
    "\n",
    "        def conv(i, normalization=\"batch\", dropout=None, activ=\"relu\"):\n",
    "            nIn = n_in_channel if i == 0 else nb_filters[i - 1]\n",
    "            nOut = nb_filters[i]\n",
    "            cnn.add_module(\n",
    "                \"conv{0}\".format(i),\n",
    "                nn.Conv2d(nIn, nOut, kernel_size[i], stride[i], padding[i]),\n",
    "            )\n",
    "            if normalization == \"batch\":\n",
    "                cnn.add_module(\n",
    "                    \"batchnorm{0}\".format(i),\n",
    "                    nn.BatchNorm2d(nOut, eps=0.001, momentum=0.99),\n",
    "                )\n",
    "            elif normalization == None:\n",
    "                pass\n",
    "                \n",
    "            elif normalization == \"layer\":\n",
    "                cnn.add_module(\"layernorm{0}\".format(i), nn.GroupNorm(1, nOut))\n",
    "\n",
    "            if activ.lower() == \"leakyrelu\":\n",
    "                cnn.add_module(\"relu{0}\".format(i), nn.LeakyReLU(0.2))\n",
    "            elif activ.lower() == \"relu\":\n",
    "                cnn.add_module(\"relu{0}\".format(i), nn.ReLU())\n",
    "            elif activ.lower() == \"glu\":\n",
    "                cnn.add_module(\"glu{0}\".format(i), GLU(nOut))\n",
    "            elif activ.lower() == \"cg\":\n",
    "                cnn.add_module(\"cg{0}\".format(i), ContextGating(nOut))\n",
    "\n",
    "            if dropout is not None:\n",
    "                cnn.add_module(\"dropout{0}\".format(i), nn.Dropout(dropout))\n",
    "            elif dropout is None:\n",
    "                pass\n",
    "\n",
    "        # 128x862x64\n",
    "        for i in range(len(nb_filters)):\n",
    "            conv(i, normalization=normalization, dropout=conv_dropout, activ=activation)\n",
    "            cnn.add_module(\n",
    "                \"pooling{0}\".format(i), nn.MaxPool2d(pooling[i])\n",
    "            )  # bs x tframe x mels\n",
    "\n",
    "        self.cnn = cnn\n",
    "\n",
    "    def forward(self, mel, age, sex, hw, preg, loc):\n",
    "        \"\"\"\n",
    "        Forward step of the CNN module\n",
    "        Args:\n",
    "            x (Tensor): input batch of size (batch_size, n_channels, n_frames, n_freq)\n",
    "        Returns:\n",
    "            Tensor: batch embedded\n",
    "        \"\"\"\n",
    "        # conv features\n",
    "        mel = mel.unsqueeze(1)\n",
    "        mel = self.cnn(mel)\n",
    "        mel = self.avgpool(mel)\n",
    "        mel = mel.view(mel.size(0), -1)\n",
    "#         print(mel.shape)\n",
    "        age = self.fc_age(age)\n",
    "#         print(age.shape)\n",
    "        sex = self.fc_sex(sex)\n",
    "#         print(sex.shape)\n",
    "        hw = self.fc_hw(hw)\n",
    "#         print(hw.shape)\n",
    "        preg = self.fc_preg(preg)\n",
    "#         print(preg.shape)\n",
    "        loc = self.fc_loc(loc)\n",
    "#         print(loc.shape)\n",
    "        x = torch.concat([mel,age,sex,hw,preg,loc],axis=1)\n",
    "#         print(x.shape)\n",
    "#         x = self.avgpool(x)\n",
    "#         x = x.view(x.size(0), -1)\n",
    "        x = self.fc1(x)\n",
    "        x =self.fc2(x)\n",
    "        return x"
   ]
  },
  {
   "cell_type": "code",
   "execution_count": 36,
   "id": "f4baf81a",
   "metadata": {},
   "outputs": [],
   "source": [
    "x = torch.randn((32,128,600))\n",
    "age = torch.randn((32,6))\n",
    "sex = torch.randn((32,2))\n",
    "hw = torch.randn((32,2))\n",
    "preg = torch.randn((32,2))\n",
    "loc = torch.randn((32,5))"
   ]
  },
  {
   "cell_type": "code",
   "execution_count": 37,
   "id": "80b4c3b3",
   "metadata": {},
   "outputs": [],
   "source": [
    "model =CNN()"
   ]
  },
  {
   "cell_type": "code",
   "execution_count": 38,
   "id": "3f91c94e",
   "metadata": {},
   "outputs": [],
   "source": [
    "output = model(x, age, sex, hw, preg, loc)"
   ]
  },
  {
   "cell_type": "code",
   "execution_count": 11,
   "id": "c5b4cf5e",
   "metadata": {},
   "outputs": [],
   "source": [
    "cnn = CNN()\n",
    "cnn = cnn.cuda(device)"
   ]
  },
  {
   "cell_type": "code",
   "execution_count": 12,
   "id": "62296f79",
   "metadata": {},
   "outputs": [],
   "source": [
    "from torchmetrics import F1\n",
    "from torchmetrics import Accuracy"
   ]
  },
  {
   "cell_type": "code",
   "execution_count": 13,
   "id": "9f181b2a",
   "metadata": {},
   "outputs": [],
   "source": [
    "accuracy = Accuracy(num_classes=3, multiclass=True)\n",
    "f1 = F1(num_classes=3,average='micro', multiclass=True)"
   ]
  },
  {
   "cell_type": "code",
   "execution_count": 14,
   "id": "7e7801a5",
   "metadata": {},
   "outputs": [],
   "source": [
    "opt = torch.optim.Adam(cnn.parameters(), lr=args.lr, betas=(0.9, 0.999))\n",
    "scheduler = torch.optim.lr_scheduler.ExponentialLR(opt, 0.91)\n",
    "criterion = torch.nn.CrossEntropyLoss()"
   ]
  },
  {
   "cell_type": "code",
   "execution_count": 4,
   "id": "a0c49c43",
   "metadata": {},
   "outputs": [],
   "source": [
    "trainset = train_loader(args.train_data_folder)\n",
    "validset = train_loader(args.valid_data_folder)\n",
    "point_sampler = RandomSampler(trainset)"
   ]
  },
  {
   "cell_type": "code",
   "execution_count": 5,
   "id": "09a838e2",
   "metadata": {},
   "outputs": [],
   "source": [
    "dataloader_train = DataLoader(dataset=trainset,\n",
    "                        batch_size=args.minibatchsize_train,\n",
    "                               sampler =point_sampler,\n",
    "                               num_workers=args.train_num_workers)\n",
    "dataloader_valid = DataLoader(dataset=validset,\n",
    "                        batch_size=args.minibatchsize_valid,\n",
    "                               num_workers=args.dev_num_workers)"
   ]
  },
  {
   "cell_type": "code",
   "execution_count": 11,
   "id": "b8589bfb",
   "metadata": {},
   "outputs": [],
   "source": [
    "a, b, c, d, e, f, g, h = next(iter(dataloader_valid))"
   ]
  },
  {
   "cell_type": "code",
   "execution_count": 13,
   "id": "449296ad",
   "metadata": {},
   "outputs": [
    {
     "data": {
      "text/plain": [
       "torch.Size([8, 6])"
      ]
     },
     "execution_count": 13,
     "metadata": {},
     "output_type": "execute_result"
    }
   ],
   "source": [
    "b.shape"
   ]
  },
  {
   "cell_type": "code",
   "execution_count": 17,
   "id": "3ec4e166",
   "metadata": {},
   "outputs": [
    {
     "name": "stderr",
     "output_type": "stream",
     "text": [
      "100%|███████████████████████████████████████████| 40/40 [00:15<00:00,  2.52it/s]"
     ]
    },
    {
     "name": "stdout",
     "output_type": "stream",
     "text": [
      "lr:  0.00091\n",
      "07-14 20:42 [MainProcess, 16958] [INFO ]  Iteration:0, train loss = 0.674786 ,train F1 = 0.401319 ,train ACC = 0.768167 \n"
     ]
    },
    {
     "name": "stderr",
     "output_type": "stream",
     "text": [
      "\n",
      "100%|███████████████████████████████████████████| 79/79 [00:04<00:00, 17.89it/s]"
     ]
    },
    {
     "name": "stdout",
     "output_type": "stream",
     "text": [
      "07-14 20:42 [MainProcess, 16958] [INFO ]  valid Epoch:0, Train loss=0.6748, Valid loss=0.5817,Valid F1=0.3644,Valid ACC=0.7718\n",
      "07-14 20:42 [MainProcess, 16958] [INFO ]  Time used for each epoch training: 20.32616639137268 seconds.\n",
      "07-14 20:42 [MainProcess, 16958] [INFO ]  **************************************************\n"
     ]
    },
    {
     "name": "stderr",
     "output_type": "stream",
     "text": [
      "\n",
      "100%|███████████████████████████████████████████| 40/40 [00:17<00:00,  2.32it/s]"
     ]
    },
    {
     "name": "stdout",
     "output_type": "stream",
     "text": [
      "lr:  0.0008281\n",
      "07-14 20:43 [MainProcess, 16958] [INFO ]  Iteration:1, train loss = 0.515837 ,train F1 = 0.481768 ,train ACC = 0.825040 \n"
     ]
    },
    {
     "name": "stderr",
     "output_type": "stream",
     "text": [
      "\n",
      "100%|███████████████████████████████████████████| 79/79 [00:04<00:00, 17.03it/s]"
     ]
    },
    {
     "name": "stdout",
     "output_type": "stream",
     "text": [
      "07-14 20:43 [MainProcess, 16958] [INFO ]  valid Epoch:1, Train loss=0.5158, Valid loss=0.5885,Valid F1=0.5061,Valid ACC=0.7734\n",
      "07-14 20:43 [MainProcess, 16958] [INFO ]  Time used for each epoch training: 21.93052887916565 seconds.\n",
      "07-14 20:43 [MainProcess, 16958] [INFO ]  **************************************************\n"
     ]
    },
    {
     "name": "stderr",
     "output_type": "stream",
     "text": [
      "\n",
      "100%|███████████████████████████████████████████| 40/40 [00:17<00:00,  2.31it/s]"
     ]
    },
    {
     "name": "stdout",
     "output_type": "stream",
     "text": [
      "lr:  0.0007535710000000001\n",
      "07-14 20:43 [MainProcess, 16958] [INFO ]  Iteration:2, train loss = 0.454271 ,train F1 = 0.527737 ,train ACC = 0.845182 \n"
     ]
    },
    {
     "name": "stderr",
     "output_type": "stream",
     "text": [
      "\n",
      "100%|███████████████████████████████████████████| 79/79 [00:04<00:00, 16.64it/s]"
     ]
    },
    {
     "name": "stdout",
     "output_type": "stream",
     "text": [
      "07-14 20:43 [MainProcess, 16958] [INFO ]  valid Epoch:2, Train loss=0.4543, Valid loss=0.5842,Valid F1=0.5200,Valid ACC=0.7861\n",
      "07-14 20:43 [MainProcess, 16958] [INFO ]  Time used for each epoch training: 22.124797344207764 seconds.\n",
      "07-14 20:43 [MainProcess, 16958] [INFO ]  **************************************************\n"
     ]
    },
    {
     "name": "stderr",
     "output_type": "stream",
     "text": [
      "\n",
      "100%|███████████████████████████████████████████| 40/40 [00:17<00:00,  2.28it/s]"
     ]
    },
    {
     "name": "stdout",
     "output_type": "stream",
     "text": [
      "lr:  0.0006857496100000001\n",
      "07-14 20:43 [MainProcess, 16958] [INFO ]  Iteration:3, train loss = 0.422542 ,train F1 = 0.564535 ,train ACC = 0.857030 \n"
     ]
    },
    {
     "name": "stderr",
     "output_type": "stream",
     "text": [
      "\n",
      "100%|███████████████████████████████████████████| 79/79 [00:04<00:00, 16.70it/s]"
     ]
    },
    {
     "name": "stdout",
     "output_type": "stream",
     "text": [
      "07-14 20:43 [MainProcess, 16958] [INFO ]  valid Epoch:3, Train loss=0.4225, Valid loss=0.4998,Valid F1=0.5025,Valid ACC=0.8162\n",
      "07-14 20:43 [MainProcess, 16958] [INFO ]  Time used for each epoch training: 22.34578227996826 seconds.\n",
      "07-14 20:43 [MainProcess, 16958] [INFO ]  **************************************************\n"
     ]
    },
    {
     "name": "stderr",
     "output_type": "stream",
     "text": [
      "\n",
      "100%|███████████████████████████████████████████| 40/40 [00:17<00:00,  2.28it/s]\n"
     ]
    },
    {
     "name": "stdout",
     "output_type": "stream",
     "text": [
      "lr:  0.0006240321451000001\n",
      "07-14 20:44 [MainProcess, 16958] [INFO ]  Iteration:4, train loss = 0.405496 ,train F1 = 0.569971 ,train ACC = 0.861769 \n"
     ]
    },
    {
     "name": "stderr",
     "output_type": "stream",
     "text": [
      "100%|███████████████████████████████████████████| 79/79 [00:04<00:00, 16.74it/s]"
     ]
    },
    {
     "name": "stdout",
     "output_type": "stream",
     "text": [
      "07-14 20:44 [MainProcess, 16958] [INFO ]  valid Epoch:4, Train loss=0.4055, Valid loss=0.5378,Valid F1=0.4773,Valid ACC=0.8225\n",
      "07-14 20:44 [MainProcess, 16958] [INFO ]  Time used for each epoch training: 22.31504487991333 seconds.\n",
      "07-14 20:44 [MainProcess, 16958] [INFO ]  **************************************************\n"
     ]
    },
    {
     "name": "stderr",
     "output_type": "stream",
     "text": [
      "\n",
      "100%|███████████████████████████████████████████| 40/40 [00:17<00:00,  2.33it/s]"
     ]
    },
    {
     "name": "stdout",
     "output_type": "stream",
     "text": [
      "lr:  0.0005678692520410001\n",
      "07-14 20:44 [MainProcess, 16958] [INFO ]  Iteration:5, train loss = 0.380878 ,train F1 = 0.578865 ,train ACC = 0.868878 \n"
     ]
    },
    {
     "name": "stderr",
     "output_type": "stream",
     "text": [
      "\n",
      "100%|███████████████████████████████████████████| 79/79 [00:04<00:00, 16.28it/s]"
     ]
    },
    {
     "name": "stdout",
     "output_type": "stream",
     "text": [
      "07-14 20:44 [MainProcess, 16958] [INFO ]  valid Epoch:5, Train loss=0.3809, Valid loss=0.5553,Valid F1=0.5054,Valid ACC=0.8368\n",
      "07-14 20:44 [MainProcess, 16958] [INFO ]  Time used for each epoch training: 22.08265519142151 seconds.\n",
      "07-14 20:44 [MainProcess, 16958] [INFO ]  **************************************************\n"
     ]
    },
    {
     "name": "stderr",
     "output_type": "stream",
     "text": [
      "\n",
      "100%|███████████████████████████████████████████| 40/40 [00:17<00:00,  2.25it/s]"
     ]
    },
    {
     "name": "stdout",
     "output_type": "stream",
     "text": [
      "lr:  0.00051676101935731\n",
      "07-14 20:44 [MainProcess, 16958] [INFO ]  Iteration:6, train loss = 0.376813 ,train F1 = 0.593003 ,train ACC = 0.868483 \n"
     ]
    },
    {
     "name": "stderr",
     "output_type": "stream",
     "text": [
      "\n",
      "100%|███████████████████████████████████████████| 79/79 [00:04<00:00, 16.92it/s]"
     ]
    },
    {
     "name": "stdout",
     "output_type": "stream",
     "text": [
      "07-14 20:45 [MainProcess, 16958] [INFO ]  valid Epoch:6, Train loss=0.3768, Valid loss=0.4584,Valid F1=0.5363,Valid ACC=0.8526\n",
      "07-14 20:45 [MainProcess, 16958] [INFO ]  Time used for each epoch training: 22.525368213653564 seconds.\n",
      "07-14 20:45 [MainProcess, 16958] [INFO ]  **************************************************\n"
     ]
    },
    {
     "name": "stderr",
     "output_type": "stream",
     "text": [
      "\n",
      "100%|███████████████████████████████████████████| 40/40 [00:17<00:00,  2.24it/s]"
     ]
    },
    {
     "name": "stdout",
     "output_type": "stream",
     "text": [
      "lr:  0.00047025252761515214\n",
      "07-14 20:45 [MainProcess, 16958] [INFO ]  Iteration:7, train loss = 0.373501 ,train F1 = 0.594443 ,train ACC = 0.868878 \n"
     ]
    },
    {
     "name": "stderr",
     "output_type": "stream",
     "text": [
      "\n",
      "100%|███████████████████████████████████████████| 79/79 [00:04<00:00, 17.98it/s]"
     ]
    },
    {
     "name": "stdout",
     "output_type": "stream",
     "text": [
      "07-14 20:45 [MainProcess, 16958] [INFO ]  valid Epoch:7, Train loss=0.3735, Valid loss=0.4454,Valid F1=0.5618,Valid ACC=0.8463\n",
      "07-14 20:45 [MainProcess, 16958] [INFO ]  Time used for each epoch training: 22.30042815208435 seconds.\n",
      "07-14 20:45 [MainProcess, 16958] [INFO ]  **************************************************\n"
     ]
    },
    {
     "name": "stderr",
     "output_type": "stream",
     "text": [
      "\n",
      "100%|███████████████████████████████████████████| 40/40 [00:18<00:00,  2.19it/s]"
     ]
    },
    {
     "name": "stdout",
     "output_type": "stream",
     "text": [
      "lr:  0.00042792980012978845\n",
      "07-14 20:45 [MainProcess, 16958] [INFO ]  Iteration:8, train loss = 0.356686 ,train F1 = 0.626482 ,train ACC = 0.877567 \n"
     ]
    },
    {
     "name": "stderr",
     "output_type": "stream",
     "text": [
      "\n",
      "100%|███████████████████████████████████████████| 79/79 [00:04<00:00, 16.73it/s]"
     ]
    },
    {
     "name": "stdout",
     "output_type": "stream",
     "text": [
      "07-14 20:45 [MainProcess, 16958] [INFO ]  valid Epoch:8, Train loss=0.3567, Valid loss=0.4114,Valid F1=0.5959,Valid ACC=0.8685\n",
      "07-14 20:45 [MainProcess, 16958] [INFO ]  Time used for each epoch training: 22.97632622718811 seconds.\n",
      "07-14 20:45 [MainProcess, 16958] [INFO ]  **************************************************\n"
     ]
    },
    {
     "name": "stderr",
     "output_type": "stream",
     "text": [
      "\n",
      "100%|███████████████████████████████████████████| 40/40 [00:18<00:00,  2.15it/s]"
     ]
    },
    {
     "name": "stdout",
     "output_type": "stream",
     "text": [
      "lr:  0.0003894161181181075\n",
      "07-14 20:46 [MainProcess, 16958] [INFO ]  Iteration:9, train loss = 0.340062 ,train F1 = 0.631359 ,train ACC = 0.883491 \n"
     ]
    },
    {
     "name": "stderr",
     "output_type": "stream",
     "text": [
      "\n",
      "100%|███████████████████████████████████████████| 79/79 [00:04<00:00, 15.81it/s]"
     ]
    },
    {
     "name": "stdout",
     "output_type": "stream",
     "text": [
      "07-14 20:46 [MainProcess, 16958] [INFO ]  valid Epoch:9, Train loss=0.3401, Valid loss=0.4903,Valid F1=0.5587,Valid ACC=0.8431\n"
     ]
    },
    {
     "name": "stderr",
     "output_type": "stream",
     "text": [
      "\n"
     ]
    },
    {
     "name": "stdout",
     "output_type": "stream",
     "text": [
      "07-14 20:46 [MainProcess, 16958] [INFO ]  Time used for each epoch training: 23.66055417060852 seconds.\n",
      "07-14 20:46 [MainProcess, 16958] [INFO ]  **************************************************\n"
     ]
    },
    {
     "name": "stderr",
     "output_type": "stream",
     "text": [
      "100%|███████████████████████████████████████████| 40/40 [00:17<00:00,  2.29it/s]"
     ]
    },
    {
     "name": "stdout",
     "output_type": "stream",
     "text": [
      "lr:  0.0003543686674874778\n",
      "07-14 20:46 [MainProcess, 16958] [INFO ]  Iteration:10, train loss = 0.335607 ,train F1 = 0.646594 ,train ACC = 0.884281 \n"
     ]
    },
    {
     "name": "stderr",
     "output_type": "stream",
     "text": [
      "\n",
      "100%|███████████████████████████████████████████| 79/79 [00:05<00:00, 15.79it/s]"
     ]
    },
    {
     "name": "stdout",
     "output_type": "stream",
     "text": [
      "07-14 20:46 [MainProcess, 16958] [INFO ]  valid Epoch:10, Train loss=0.3356, Valid loss=0.4309,Valid F1=0.5851,Valid ACC=0.8574\n",
      "07-14 20:46 [MainProcess, 16958] [INFO ]  Time used for each epoch training: 22.50021767616272 seconds.\n",
      "07-14 20:46 [MainProcess, 16958] [INFO ]  **************************************************\n"
     ]
    },
    {
     "name": "stderr",
     "output_type": "stream",
     "text": [
      "\n",
      "100%|███████████████████████████████████████████| 40/40 [00:17<00:00,  2.28it/s]"
     ]
    },
    {
     "name": "stdout",
     "output_type": "stream",
     "text": [
      "lr:  0.00032247548741360483\n",
      "07-14 20:46 [MainProcess, 16958] [INFO ]  Iteration:11, train loss = 0.323416 ,train F1 = 0.658353 ,train ACC = 0.887441 \n"
     ]
    },
    {
     "name": "stderr",
     "output_type": "stream",
     "text": [
      "\n",
      "100%|███████████████████████████████████████████| 79/79 [00:04<00:00, 16.96it/s]"
     ]
    },
    {
     "name": "stdout",
     "output_type": "stream",
     "text": [
      "07-14 20:46 [MainProcess, 16958] [INFO ]  valid Epoch:11, Train loss=0.3234, Valid loss=0.4309,Valid F1=0.5711,Valid ACC=0.8637\n",
      "07-14 20:46 [MainProcess, 16958] [INFO ]  Time used for each epoch training: 22.26872968673706 seconds.\n",
      "07-14 20:46 [MainProcess, 16958] [INFO ]  **************************************************\n"
     ]
    },
    {
     "name": "stderr",
     "output_type": "stream",
     "text": [
      "\n",
      "100%|███████████████████████████████████████████| 40/40 [00:17<00:00,  2.28it/s]"
     ]
    },
    {
     "name": "stdout",
     "output_type": "stream",
     "text": [
      "lr:  0.0002934526935463804\n",
      "07-14 20:47 [MainProcess, 16958] [INFO ]  Iteration:12, train loss = 0.312037 ,train F1 = 0.666719 ,train ACC = 0.894550 \n"
     ]
    },
    {
     "name": "stderr",
     "output_type": "stream",
     "text": [
      "\n",
      "100%|███████████████████████████████████████████| 79/79 [00:04<00:00, 15.99it/s]"
     ]
    },
    {
     "name": "stdout",
     "output_type": "stream",
     "text": [
      "07-14 20:47 [MainProcess, 16958] [INFO ]  valid Epoch:12, Train loss=0.3120, Valid loss=0.4385,Valid F1=0.5852,Valid ACC=0.8558\n",
      "07-14 20:47 [MainProcess, 16958] [INFO ]  Time used for each epoch training: 22.4755961894989 seconds.\n",
      "07-14 20:47 [MainProcess, 16958] [INFO ]  **************************************************\n"
     ]
    },
    {
     "name": "stderr",
     "output_type": "stream",
     "text": [
      "\n",
      "100%|███████████████████████████████████████████| 40/40 [00:16<00:00,  2.41it/s]\n"
     ]
    },
    {
     "name": "stdout",
     "output_type": "stream",
     "text": [
      "lr:  0.00026704195112720616\n",
      "07-14 20:47 [MainProcess, 16958] [INFO ]  Iteration:13, train loss = 0.297051 ,train F1 = 0.675247 ,train ACC = 0.895340 \n"
     ]
    },
    {
     "name": "stderr",
     "output_type": "stream",
     "text": [
      "100%|███████████████████████████████████████████| 79/79 [00:04<00:00, 15.98it/s]"
     ]
    },
    {
     "name": "stdout",
     "output_type": "stream",
     "text": [
      "07-14 20:47 [MainProcess, 16958] [INFO ]  valid Epoch:13, Train loss=0.2971, Valid loss=0.4647,Valid F1=0.6305,Valid ACC=0.8415\n",
      "07-14 20:47 [MainProcess, 16958] [INFO ]  Time used for each epoch training: 21.584934949874878 seconds.\n",
      "07-14 20:47 [MainProcess, 16958] [INFO ]  **************************************************\n"
     ]
    },
    {
     "name": "stderr",
     "output_type": "stream",
     "text": [
      "\n",
      "100%|███████████████████████████████████████████| 40/40 [00:16<00:00,  2.38it/s]"
     ]
    },
    {
     "name": "stdout",
     "output_type": "stream",
     "text": [
      "lr:  0.00024300817552575763\n",
      "07-14 20:47 [MainProcess, 16958] [INFO ]  Iteration:14, train loss = 0.292898 ,train F1 = 0.663487 ,train ACC = 0.891390 \n"
     ]
    },
    {
     "name": "stderr",
     "output_type": "stream",
     "text": [
      "\n",
      "100%|███████████████████████████████████████████| 79/79 [00:04<00:00, 16.73it/s]"
     ]
    },
    {
     "name": "stdout",
     "output_type": "stream",
     "text": [
      "07-14 20:48 [MainProcess, 16958] [INFO ]  valid Epoch:14, Train loss=0.2929, Valid loss=0.4190,Valid F1=0.5959,Valid ACC=0.8479\n",
      "07-14 20:48 [MainProcess, 16958] [INFO ]  Time used for each epoch training: 21.514893054962158 seconds.\n",
      "07-14 20:48 [MainProcess, 16958] [INFO ]  **************************************************\n"
     ]
    },
    {
     "name": "stderr",
     "output_type": "stream",
     "text": [
      "\n",
      "100%|███████████████████████████████████████████| 40/40 [00:18<00:00,  2.19it/s]"
     ]
    },
    {
     "name": "stdout",
     "output_type": "stream",
     "text": [
      "lr:  0.00022113743972843945\n",
      "07-14 20:48 [MainProcess, 16958] [INFO ]  Iteration:15, train loss = 0.304390 ,train F1 = 0.684096 ,train ACC = 0.899289 \n"
     ]
    },
    {
     "name": "stderr",
     "output_type": "stream",
     "text": [
      "\n",
      "100%|███████████████████████████████████████████| 79/79 [00:04<00:00, 16.61it/s]"
     ]
    },
    {
     "name": "stdout",
     "output_type": "stream",
     "text": [
      "07-14 20:48 [MainProcess, 16958] [INFO ]  valid Epoch:15, Train loss=0.3044, Valid loss=0.4712,Valid F1=0.6091,Valid ACC=0.8510\n",
      "07-14 20:48 [MainProcess, 16958] [INFO ]  Time used for each epoch training: 23.045864820480347 seconds.\n",
      "07-14 20:48 [MainProcess, 16958] [INFO ]  **************************************************\n"
     ]
    },
    {
     "name": "stderr",
     "output_type": "stream",
     "text": [
      "\n",
      "100%|███████████████████████████████████████████| 40/40 [00:17<00:00,  2.28it/s]"
     ]
    },
    {
     "name": "stdout",
     "output_type": "stream",
     "text": [
      "lr:  0.0002012350701528799\n",
      "07-14 20:48 [MainProcess, 16958] [INFO ]  Iteration:16, train loss = 0.290050 ,train F1 = 0.690732 ,train ACC = 0.894945 \n"
     ]
    },
    {
     "name": "stderr",
     "output_type": "stream",
     "text": [
      "\n",
      "100%|███████████████████████████████████████████| 79/79 [00:05<00:00, 15.76it/s]"
     ]
    },
    {
     "name": "stdout",
     "output_type": "stream",
     "text": [
      "07-14 20:48 [MainProcess, 16958] [INFO ]  valid Epoch:16, Train loss=0.2900, Valid loss=0.4660,Valid F1=0.5909,Valid ACC=0.8653\n",
      "07-14 20:48 [MainProcess, 16958] [INFO ]  Time used for each epoch training: 22.586219787597656 seconds.\n",
      "07-14 20:48 [MainProcess, 16958] [INFO ]  **************************************************\n"
     ]
    },
    {
     "name": "stderr",
     "output_type": "stream",
     "text": [
      "\n",
      "100%|███████████████████████████████████████████| 40/40 [00:17<00:00,  2.30it/s]"
     ]
    },
    {
     "name": "stdout",
     "output_type": "stream",
     "text": [
      "lr:  0.0001831239138391207\n",
      "07-14 20:49 [MainProcess, 16958] [INFO ]  Iteration:17, train loss = 0.269591 ,train F1 = 0.712718 ,train ACC = 0.906398 \n"
     ]
    },
    {
     "name": "stderr",
     "output_type": "stream",
     "text": [
      "\n",
      "100%|███████████████████████████████████████████| 79/79 [00:04<00:00, 16.70it/s]"
     ]
    },
    {
     "name": "stdout",
     "output_type": "stream",
     "text": [
      "07-14 20:49 [MainProcess, 16958] [INFO ]  valid Epoch:17, Train loss=0.2696, Valid loss=0.5010,Valid F1=0.5748,Valid ACC=0.8542\n",
      "07-14 20:49 [MainProcess, 16958] [INFO ]  Time used for each epoch training: 22.143145322799683 seconds.\n",
      "07-14 20:49 [MainProcess, 16958] [INFO ]  **************************************************\n"
     ]
    },
    {
     "name": "stderr",
     "output_type": "stream",
     "text": [
      "\n",
      "100%|███████████████████████████████████████████| 40/40 [00:17<00:00,  2.25it/s]"
     ]
    },
    {
     "name": "stdout",
     "output_type": "stream",
     "text": [
      "lr:  0.00016664276159359984\n",
      "07-14 20:49 [MainProcess, 16958] [INFO ]  Iteration:18, train loss = 0.258417 ,train F1 = 0.720990 ,train ACC = 0.908768 \n"
     ]
    },
    {
     "name": "stderr",
     "output_type": "stream",
     "text": [
      "\n",
      "100%|███████████████████████████████████████████| 79/79 [00:04<00:00, 17.68it/s]"
     ]
    },
    {
     "name": "stdout",
     "output_type": "stream",
     "text": [
      "07-14 20:49 [MainProcess, 16958] [INFO ]  valid Epoch:18, Train loss=0.2584, Valid loss=0.4728,Valid F1=0.5522,Valid ACC=0.8637\n",
      "07-14 20:49 [MainProcess, 16958] [INFO ]  Time used for each epoch training: 22.254796504974365 seconds.\n",
      "07-14 20:49 [MainProcess, 16958] [INFO ]  **************************************************\n"
     ]
    },
    {
     "name": "stderr",
     "output_type": "stream",
     "text": [
      "\n",
      "100%|███████████████████████████████████████████| 40/40 [00:18<00:00,  2.20it/s]"
     ]
    },
    {
     "name": "stdout",
     "output_type": "stream",
     "text": [
      "lr:  0.00015164491305017587\n",
      "07-14 20:49 [MainProcess, 16958] [INFO ]  Iteration:19, train loss = 0.251192 ,train F1 = 0.713858 ,train ACC = 0.906003 \n"
     ]
    },
    {
     "name": "stderr",
     "output_type": "stream",
     "text": [
      "\n",
      "100%|███████████████████████████████████████████| 79/79 [00:04<00:00, 17.62it/s]"
     ]
    },
    {
     "name": "stdout",
     "output_type": "stream",
     "text": [
      "07-14 20:49 [MainProcess, 16958] [INFO ]  valid Epoch:19, Train loss=0.2512, Valid loss=0.4688,Valid F1=0.5837,Valid ACC=0.8526\n",
      "07-14 20:49 [MainProcess, 16958] [INFO ]  Time used for each epoch training: 22.686691999435425 seconds.\n",
      "07-14 20:49 [MainProcess, 16958] [INFO ]  **************************************************\n"
     ]
    },
    {
     "name": "stderr",
     "output_type": "stream",
     "text": [
      "\n",
      "100%|███████████████████████████████████████████| 40/40 [00:18<00:00,  2.21it/s]"
     ]
    },
    {
     "name": "stdout",
     "output_type": "stream",
     "text": [
      "lr:  0.00013799687087566004\n",
      "07-14 20:50 [MainProcess, 16958] [INFO ]  Iteration:20, train loss = 0.239262 ,train F1 = 0.736010 ,train ACC = 0.910348 \n"
     ]
    },
    {
     "name": "stderr",
     "output_type": "stream",
     "text": [
      "\n",
      "100%|███████████████████████████████████████████| 79/79 [00:04<00:00, 17.34it/s]"
     ]
    },
    {
     "name": "stdout",
     "output_type": "stream",
     "text": [
      "07-14 20:50 [MainProcess, 16958] [INFO ]  valid Epoch:20, Train loss=0.2393, Valid loss=0.4318,Valid F1=0.6201,Valid ACC=0.8590\n",
      "07-14 20:50 [MainProcess, 16958] [INFO ]  Time used for each epoch training: 22.67476749420166 seconds.\n",
      "07-14 20:50 [MainProcess, 16958] [INFO ]  **************************************************\n"
     ]
    },
    {
     "name": "stderr",
     "output_type": "stream",
     "text": [
      "\n",
      "100%|███████████████████████████████████████████| 40/40 [00:17<00:00,  2.23it/s]"
     ]
    },
    {
     "name": "stdout",
     "output_type": "stream",
     "text": [
      "lr:  0.00012557715249685063\n",
      "07-14 20:50 [MainProcess, 16958] [INFO ]  Iteration:21, train loss = 0.229879 ,train F1 = 0.762720 ,train ACC = 0.919826 \n"
     ]
    },
    {
     "name": "stderr",
     "output_type": "stream",
     "text": [
      "\n",
      "100%|███████████████████████████████████████████| 79/79 [00:04<00:00, 17.12it/s]"
     ]
    },
    {
     "name": "stdout",
     "output_type": "stream",
     "text": [
      "07-14 20:50 [MainProcess, 16958] [INFO ]  valid Epoch:21, Train loss=0.2299, Valid loss=0.6041,Valid F1=0.5556,Valid ACC=0.8384\n",
      "07-14 20:50 [MainProcess, 16958] [INFO ]  Time used for each epoch training: 22.581786155700684 seconds.\n",
      "07-14 20:50 [MainProcess, 16958] [INFO ]  **************************************************\n"
     ]
    },
    {
     "name": "stderr",
     "output_type": "stream",
     "text": [
      "\n",
      "100%|███████████████████████████████████████████| 40/40 [00:17<00:00,  2.28it/s]"
     ]
    },
    {
     "name": "stdout",
     "output_type": "stream",
     "text": [
      "lr:  0.00011427520877213407\n",
      "07-14 20:50 [MainProcess, 16958] [INFO ]  Iteration:22, train loss = 0.223041 ,train F1 = 0.787105 ,train ACC = 0.923776 \n"
     ]
    },
    {
     "name": "stderr",
     "output_type": "stream",
     "text": [
      "\n",
      "100%|███████████████████████████████████████████| 79/79 [00:04<00:00, 16.53it/s]"
     ]
    },
    {
     "name": "stdout",
     "output_type": "stream",
     "text": [
      "07-14 20:51 [MainProcess, 16958] [INFO ]  valid Epoch:22, Train loss=0.2230, Valid loss=0.4600,Valid F1=0.6471,Valid ACC=0.8574\n",
      "07-14 20:51 [MainProcess, 16958] [INFO ]  Time used for each epoch training: 22.386943340301514 seconds.\n",
      "07-14 20:51 [MainProcess, 16958] [INFO ]  **************************************************\n"
     ]
    },
    {
     "name": "stderr",
     "output_type": "stream",
     "text": [
      "\n",
      "100%|███████████████████████████████████████████| 40/40 [00:18<00:00,  2.22it/s]"
     ]
    },
    {
     "name": "stdout",
     "output_type": "stream",
     "text": [
      "lr:  0.00010399043998264201\n",
      "07-14 20:51 [MainProcess, 16958] [INFO ]  Iteration:23, train loss = 0.222062 ,train F1 = 0.769145 ,train ACC = 0.917457 \n"
     ]
    },
    {
     "name": "stderr",
     "output_type": "stream",
     "text": [
      "\n",
      "100%|███████████████████████████████████████████| 79/79 [00:04<00:00, 17.12it/s]"
     ]
    },
    {
     "name": "stdout",
     "output_type": "stream",
     "text": [
      "07-14 20:51 [MainProcess, 16958] [INFO ]  valid Epoch:23, Train loss=0.2221, Valid loss=0.5401,Valid F1=0.5770,Valid ACC=0.8431\n",
      "07-14 20:51 [MainProcess, 16958] [INFO ]  Time used for each epoch training: 22.64845633506775 seconds.\n",
      "07-14 20:51 [MainProcess, 16958] [INFO ]  **************************************************\n"
     ]
    },
    {
     "name": "stderr",
     "output_type": "stream",
     "text": [
      "\n",
      "100%|███████████████████████████████████████████| 40/40 [00:17<00:00,  2.23it/s]"
     ]
    },
    {
     "name": "stdout",
     "output_type": "stream",
     "text": [
      "lr:  9.463130038420423e-05\n",
      "07-14 20:51 [MainProcess, 16958] [INFO ]  Iteration:24, train loss = 0.208313 ,train F1 = 0.779161 ,train ACC = 0.924960 \n"
     ]
    },
    {
     "name": "stderr",
     "output_type": "stream",
     "text": [
      "\n",
      "100%|███████████████████████████████████████████| 79/79 [00:04<00:00, 16.99it/s]"
     ]
    },
    {
     "name": "stdout",
     "output_type": "stream",
     "text": [
      "07-14 20:51 [MainProcess, 16958] [INFO ]  valid Epoch:24, Train loss=0.2083, Valid loss=0.5351,Valid F1=0.6123,Valid ACC=0.8399\n",
      "07-14 20:51 [MainProcess, 16958] [INFO ]  Time used for each epoch training: 22.6194806098938 seconds.\n",
      "07-14 20:51 [MainProcess, 16958] [INFO ]  **************************************************\n"
     ]
    },
    {
     "name": "stderr",
     "output_type": "stream",
     "text": [
      "\n",
      "100%|███████████████████████████████████████████| 40/40 [00:15<00:00,  2.53it/s]"
     ]
    },
    {
     "name": "stdout",
     "output_type": "stream",
     "text": [
      "lr:  8.611448334962585e-05\n",
      "07-14 20:52 [MainProcess, 16958] [INFO ]  Iteration:25, train loss = 0.207784 ,train F1 = 0.799437 ,train ACC = 0.930885 \n"
     ]
    },
    {
     "name": "stderr",
     "output_type": "stream",
     "text": [
      "\n",
      "100%|███████████████████████████████████████████| 79/79 [00:04<00:00, 16.97it/s]"
     ]
    },
    {
     "name": "stdout",
     "output_type": "stream",
     "text": [
      "07-14 20:52 [MainProcess, 16958] [INFO ]  valid Epoch:25, Train loss=0.2078, Valid loss=0.5164,Valid F1=0.5569,Valid ACC=0.8558\n",
      "07-14 20:52 [MainProcess, 16958] [INFO ]  Time used for each epoch training: 20.502201080322266 seconds.\n",
      "07-14 20:52 [MainProcess, 16958] [INFO ]  **************************************************\n"
     ]
    },
    {
     "name": "stderr",
     "output_type": "stream",
     "text": [
      "\n",
      "100%|███████████████████████████████████████████| 40/40 [00:17<00:00,  2.23it/s]"
     ]
    },
    {
     "name": "stdout",
     "output_type": "stream",
     "text": [
      "lr:  7.836417984815953e-05\n",
      "07-14 20:52 [MainProcess, 16958] [INFO ]  Iteration:26, train loss = 0.194457 ,train F1 = 0.800541 ,train ACC = 0.931280 \n"
     ]
    },
    {
     "name": "stderr",
     "output_type": "stream",
     "text": [
      "\n",
      "100%|███████████████████████████████████████████| 79/79 [00:04<00:00, 17.01it/s]"
     ]
    },
    {
     "name": "stdout",
     "output_type": "stream",
     "text": [
      "07-14 20:52 [MainProcess, 16958] [INFO ]  valid Epoch:26, Train loss=0.1945, Valid loss=0.4921,Valid F1=0.5772,Valid ACC=0.8431\n",
      "07-14 20:52 [MainProcess, 16958] [INFO ]  Time used for each epoch training: 22.59734058380127 seconds.\n",
      "07-14 20:52 [MainProcess, 16958] [INFO ]  **************************************************\n"
     ]
    },
    {
     "name": "stderr",
     "output_type": "stream",
     "text": [
      "\n",
      "100%|███████████████████████████████████████████| 40/40 [00:17<00:00,  2.24it/s]"
     ]
    },
    {
     "name": "stdout",
     "output_type": "stream",
     "text": [
      "lr:  7.131140366182518e-05\n",
      "07-14 20:52 [MainProcess, 16958] [INFO ]  Iteration:27, train loss = 0.194064 ,train F1 = 0.813554 ,train ACC = 0.935229 \n"
     ]
    },
    {
     "name": "stderr",
     "output_type": "stream",
     "text": [
      "\n",
      "100%|███████████████████████████████████████████| 79/79 [00:04<00:00, 17.10it/s]"
     ]
    },
    {
     "name": "stdout",
     "output_type": "stream",
     "text": [
      "07-14 20:52 [MainProcess, 16958] [INFO ]  valid Epoch:27, Train loss=0.1941, Valid loss=0.6107,Valid F1=0.5699,Valid ACC=0.8637\n",
      "07-14 20:52 [MainProcess, 16958] [INFO ]  Time used for each epoch training: 22.48699426651001 seconds.\n",
      "07-14 20:52 [MainProcess, 16958] [INFO ]  **************************************************\n"
     ]
    },
    {
     "name": "stderr",
     "output_type": "stream",
     "text": [
      "\n",
      "100%|███████████████████████████████████████████| 40/40 [00:17<00:00,  2.23it/s]"
     ]
    },
    {
     "name": "stdout",
     "output_type": "stream",
     "text": [
      "lr:  6.489337733226091e-05\n",
      "07-14 20:53 [MainProcess, 16958] [INFO ]  Iteration:28, train loss = 0.183396 ,train F1 = 0.826839 ,train ACC = 0.935624 \n"
     ]
    },
    {
     "name": "stderr",
     "output_type": "stream",
     "text": [
      "\n",
      "100%|███████████████████████████████████████████| 79/79 [00:04<00:00, 16.84it/s]"
     ]
    },
    {
     "name": "stdout",
     "output_type": "stream",
     "text": [
      "07-14 20:53 [MainProcess, 16958] [INFO ]  valid Epoch:28, Train loss=0.1834, Valid loss=0.5327,Valid F1=0.5791,Valid ACC=0.8098\n",
      "07-14 20:53 [MainProcess, 16958] [INFO ]  Time used for each epoch training: 22.675765991210938 seconds.\n",
      "07-14 20:53 [MainProcess, 16958] [INFO ]  **************************************************\n"
     ]
    },
    {
     "name": "stderr",
     "output_type": "stream",
     "text": [
      "\n",
      "100%|███████████████████████████████████████████| 40/40 [00:18<00:00,  2.21it/s]"
     ]
    },
    {
     "name": "stdout",
     "output_type": "stream",
     "text": [
      "lr:  5.905297337235743e-05\n",
      "07-14 20:53 [MainProcess, 16958] [INFO ]  Iteration:29, train loss = 0.179445 ,train F1 = 0.821781 ,train ACC = 0.937994 \n"
     ]
    },
    {
     "name": "stderr",
     "output_type": "stream",
     "text": [
      "\n",
      "100%|███████████████████████████████████████████| 79/79 [00:04<00:00, 18.08it/s]"
     ]
    },
    {
     "name": "stdout",
     "output_type": "stream",
     "text": [
      "07-14 20:53 [MainProcess, 16958] [INFO ]  valid Epoch:29, Train loss=0.1794, Valid loss=0.4924,Valid F1=0.5701,Valid ACC=0.8558\n",
      "07-14 20:53 [MainProcess, 16958] [INFO ]  Time used for each epoch training: 22.45199966430664 seconds.\n",
      "07-14 20:53 [MainProcess, 16958] [INFO ]  **************************************************\n"
     ]
    },
    {
     "name": "stderr",
     "output_type": "stream",
     "text": [
      "\n",
      "100%|███████████████████████████████████████████| 40/40 [00:17<00:00,  2.28it/s]"
     ]
    },
    {
     "name": "stdout",
     "output_type": "stream",
     "text": [
      "lr:  5.373820576884526e-05\n",
      "07-14 20:53 [MainProcess, 16958] [INFO ]  Iteration:30, train loss = 0.159465 ,train F1 = 0.843810 ,train ACC = 0.943128 \n"
     ]
    },
    {
     "name": "stderr",
     "output_type": "stream",
     "text": [
      "\n",
      "100%|███████████████████████████████████████████| 79/79 [00:04<00:00, 16.52it/s]"
     ]
    },
    {
     "name": "stdout",
     "output_type": "stream",
     "text": [
      "07-14 20:54 [MainProcess, 16958] [INFO ]  valid Epoch:30, Train loss=0.1595, Valid loss=0.5346,Valid F1=0.5852,Valid ACC=0.8510\n",
      "07-14 20:54 [MainProcess, 16958] [INFO ]  Time used for each epoch training: 22.325512886047363 seconds.\n",
      "07-14 20:54 [MainProcess, 16958] [INFO ]  **************************************************\n"
     ]
    },
    {
     "name": "stderr",
     "output_type": "stream",
     "text": [
      "\n",
      "100%|███████████████████████████████████████████| 40/40 [00:17<00:00,  2.27it/s]"
     ]
    },
    {
     "name": "stdout",
     "output_type": "stream",
     "text": [
      "lr:  4.890176724964919e-05\n",
      "07-14 20:54 [MainProcess, 16958] [INFO ]  Iteration:31, train loss = 0.168753 ,train F1 = 0.836855 ,train ACC = 0.941548 \n"
     ]
    },
    {
     "name": "stderr",
     "output_type": "stream",
     "text": [
      "\n",
      "100%|███████████████████████████████████████████| 79/79 [00:04<00:00, 17.69it/s]"
     ]
    },
    {
     "name": "stdout",
     "output_type": "stream",
     "text": [
      "07-14 20:54 [MainProcess, 16958] [INFO ]  valid Epoch:31, Train loss=0.1688, Valid loss=0.5074,Valid F1=0.5658,Valid ACC=0.8494\n",
      "07-14 20:54 [MainProcess, 16958] [INFO ]  Time used for each epoch training: 22.11992073059082 seconds.\n",
      "07-14 20:54 [MainProcess, 16958] [INFO ]  **************************************************\n"
     ]
    },
    {
     "name": "stderr",
     "output_type": "stream",
     "text": [
      "\n",
      "100%|███████████████████████████████████████████| 40/40 [00:18<00:00,  2.17it/s]"
     ]
    },
    {
     "name": "stdout",
     "output_type": "stream",
     "text": [
      "lr:  4.450060819718076e-05\n",
      "07-14 20:54 [MainProcess, 16958] [INFO ]  Iteration:32, train loss = 0.171599 ,train F1 = 0.832383 ,train ACC = 0.941153 \n"
     ]
    },
    {
     "name": "stderr",
     "output_type": "stream",
     "text": [
      "\n",
      "100%|███████████████████████████████████████████| 79/79 [00:04<00:00, 16.97it/s]"
     ]
    },
    {
     "name": "stdout",
     "output_type": "stream",
     "text": [
      "07-14 20:54 [MainProcess, 16958] [INFO ]  valid Epoch:32, Train loss=0.1716, Valid loss=0.5021,Valid F1=0.6116,Valid ACC=0.8558\n",
      "07-14 20:54 [MainProcess, 16958] [INFO ]  Time used for each epoch training: 23.11718511581421 seconds.\n",
      "07-14 20:54 [MainProcess, 16958] [INFO ]  **************************************************\n"
     ]
    },
    {
     "name": "stderr",
     "output_type": "stream",
     "text": [
      "\n",
      "100%|███████████████████████████████████████████| 40/40 [00:18<00:00,  2.15it/s]"
     ]
    },
    {
     "name": "stdout",
     "output_type": "stream",
     "text": [
      "lr:  4.049555345943449e-05\n",
      "07-14 20:55 [MainProcess, 16958] [INFO ]  Iteration:33, train loss = 0.163337 ,train F1 = 0.847523 ,train ACC = 0.943523 \n"
     ]
    },
    {
     "name": "stderr",
     "output_type": "stream",
     "text": [
      "\n",
      "100%|███████████████████████████████████████████| 79/79 [00:04<00:00, 17.42it/s]"
     ]
    },
    {
     "name": "stdout",
     "output_type": "stream",
     "text": [
      "07-14 20:55 [MainProcess, 16958] [INFO ]  valid Epoch:33, Train loss=0.1633, Valid loss=0.5290,Valid F1=0.5507,Valid ACC=0.8494\n",
      "07-14 20:55 [MainProcess, 16958] [INFO ]  Time used for each epoch training: 23.207757234573364 seconds.\n",
      "07-14 20:55 [MainProcess, 16958] [INFO ]  **************************************************\n"
     ]
    },
    {
     "name": "stderr",
     "output_type": "stream",
     "text": [
      "\n",
      "100%|███████████████████████████████████████████| 40/40 [00:17<00:00,  2.30it/s]"
     ]
    },
    {
     "name": "stdout",
     "output_type": "stream",
     "text": [
      "lr:  3.685095364808539e-05\n",
      "07-14 20:55 [MainProcess, 16958] [INFO ]  Iteration:34, train loss = 0.160887 ,train F1 = 0.856661 ,train ACC = 0.946288 \n"
     ]
    },
    {
     "name": "stderr",
     "output_type": "stream",
     "text": [
      "\n",
      "100%|███████████████████████████████████████████| 79/79 [00:04<00:00, 17.31it/s]"
     ]
    },
    {
     "name": "stdout",
     "output_type": "stream",
     "text": [
      "07-14 20:55 [MainProcess, 16958] [INFO ]  valid Epoch:34, Train loss=0.1609, Valid loss=0.5931,Valid F1=0.5895,Valid ACC=0.8352\n",
      "07-14 20:55 [MainProcess, 16958] [INFO ]  Time used for each epoch training: 22.000932216644287 seconds.\n",
      "07-14 20:55 [MainProcess, 16958] [INFO ]  **************************************************\n"
     ]
    },
    {
     "name": "stderr",
     "output_type": "stream",
     "text": [
      "\n",
      "100%|███████████████████████████████████████████| 40/40 [00:18<00:00,  2.18it/s]"
     ]
    },
    {
     "name": "stdout",
     "output_type": "stream",
     "text": [
      "lr:  3.3534367819757705e-05\n",
      "07-14 20:55 [MainProcess, 16958] [INFO ]  Iteration:35, train loss = 0.160375 ,train F1 = 0.843003 ,train ACC = 0.940758 \n"
     ]
    },
    {
     "name": "stderr",
     "output_type": "stream",
     "text": [
      "\n",
      "100%|███████████████████████████████████████████| 79/79 [00:04<00:00, 16.95it/s]"
     ]
    },
    {
     "name": "stdout",
     "output_type": "stream",
     "text": [
      "07-14 20:55 [MainProcess, 16958] [INFO ]  valid Epoch:35, Train loss=0.1604, Valid loss=0.5964,Valid F1=0.6318,Valid ACC=0.8257\n",
      "07-14 20:55 [MainProcess, 16958] [INFO ]  Time used for each epoch training: 23.07122230529785 seconds.\n",
      "07-14 20:55 [MainProcess, 16958] [INFO ]  **************************************************\n"
     ]
    },
    {
     "name": "stderr",
     "output_type": "stream",
     "text": [
      "\n",
      "100%|███████████████████████████████████████████| 40/40 [00:17<00:00,  2.25it/s]"
     ]
    },
    {
     "name": "stdout",
     "output_type": "stream",
     "text": [
      "lr:  3.051627471597951e-05\n",
      "07-14 20:56 [MainProcess, 16958] [INFO ]  Iteration:36, train loss = 0.153648 ,train F1 = 0.854818 ,train ACC = 0.945498 \n"
     ]
    },
    {
     "name": "stderr",
     "output_type": "stream",
     "text": [
      "\n",
      "100%|███████████████████████████████████████████| 79/79 [00:04<00:00, 16.84it/s]"
     ]
    },
    {
     "name": "stdout",
     "output_type": "stream",
     "text": [
      "07-14 20:56 [MainProcess, 16958] [INFO ]  valid Epoch:36, Train loss=0.1536, Valid loss=0.5042,Valid F1=0.6225,Valid ACC=0.8621\n",
      "07-14 20:56 [MainProcess, 16958] [INFO ]  Time used for each epoch training: 22.471203088760376 seconds.\n",
      "07-14 20:56 [MainProcess, 16958] [INFO ]  **************************************************\n"
     ]
    },
    {
     "name": "stderr",
     "output_type": "stream",
     "text": [
      "\n",
      "100%|███████████████████████████████████████████| 40/40 [00:18<00:00,  2.21it/s]"
     ]
    },
    {
     "name": "stdout",
     "output_type": "stream",
     "text": [
      "lr:  2.7769809991541357e-05\n",
      "07-14 20:56 [MainProcess, 16958] [INFO ]  Iteration:37, train loss = 0.146509 ,train F1 = 0.854366 ,train ACC = 0.943918 \n"
     ]
    },
    {
     "name": "stderr",
     "output_type": "stream",
     "text": [
      "\n",
      "100%|███████████████████████████████████████████| 79/79 [00:04<00:00, 16.53it/s]"
     ]
    },
    {
     "name": "stdout",
     "output_type": "stream",
     "text": [
      "07-14 20:56 [MainProcess, 16958] [INFO ]  valid Epoch:37, Train loss=0.1465, Valid loss=0.6241,Valid F1=0.5961,Valid ACC=0.8368\n",
      "07-14 20:56 [MainProcess, 16958] [INFO ]  Time used for each epoch training: 22.872840642929077 seconds.\n",
      "07-14 20:56 [MainProcess, 16958] [INFO ]  **************************************************\n"
     ]
    },
    {
     "name": "stderr",
     "output_type": "stream",
     "text": [
      "\n",
      "100%|███████████████████████████████████████████| 40/40 [00:18<00:00,  2.19it/s]"
     ]
    },
    {
     "name": "stdout",
     "output_type": "stream",
     "text": [
      "lr:  2.5270527092302636e-05\n",
      "07-14 20:56 [MainProcess, 16958] [INFO ]  Iteration:38, train loss = 0.155925 ,train F1 = 0.852888 ,train ACC = 0.943523 \n"
     ]
    },
    {
     "name": "stderr",
     "output_type": "stream",
     "text": [
      "\n",
      "100%|███████████████████████████████████████████| 79/79 [00:04<00:00, 17.20it/s]"
     ]
    },
    {
     "name": "stdout",
     "output_type": "stream",
     "text": [
      "07-14 20:57 [MainProcess, 16958] [INFO ]  valid Epoch:38, Train loss=0.1559, Valid loss=0.5406,Valid F1=0.6311,Valid ACC=0.8415\n",
      "07-14 20:57 [MainProcess, 16958] [INFO ]  Time used for each epoch training: 22.869834661483765 seconds.\n",
      "07-14 20:57 [MainProcess, 16958] [INFO ]  **************************************************\n"
     ]
    },
    {
     "name": "stderr",
     "output_type": "stream",
     "text": [
      "\n",
      "100%|███████████████████████████████████████████| 40/40 [00:17<00:00,  2.24it/s]"
     ]
    },
    {
     "name": "stdout",
     "output_type": "stream",
     "text": [
      "lr:  2.29961796539954e-05\n",
      "07-14 20:57 [MainProcess, 16958] [INFO ]  Iteration:39, train loss = 0.149466 ,train F1 = 0.870514 ,train ACC = 0.949052 \n"
     ]
    },
    {
     "name": "stderr",
     "output_type": "stream",
     "text": [
      "\n",
      "100%|███████████████████████████████████████████| 79/79 [00:04<00:00, 17.63it/s]"
     ]
    },
    {
     "name": "stdout",
     "output_type": "stream",
     "text": [
      "07-14 20:57 [MainProcess, 16958] [INFO ]  valid Epoch:39, Train loss=0.1495, Valid loss=0.5328,Valid F1=0.5881,Valid ACC=0.8542\n",
      "07-14 20:57 [MainProcess, 16958] [INFO ]  Time used for each epoch training: 22.36599826812744 seconds.\n",
      "07-14 20:57 [MainProcess, 16958] [INFO ]  **************************************************\n"
     ]
    },
    {
     "name": "stderr",
     "output_type": "stream",
     "text": [
      "\n",
      "100%|███████████████████████████████████████████| 40/40 [00:17<00:00,  2.29it/s]"
     ]
    },
    {
     "name": "stdout",
     "output_type": "stream",
     "text": [
      "lr:  2.0926523485135813e-05\n",
      "07-14 20:57 [MainProcess, 16958] [INFO ]  Iteration:40, train loss = 0.141307 ,train F1 = 0.876908 ,train ACC = 0.953396 \n"
     ]
    },
    {
     "name": "stderr",
     "output_type": "stream",
     "text": [
      "\n",
      "100%|███████████████████████████████████████████| 79/79 [00:04<00:00, 16.57it/s]"
     ]
    },
    {
     "name": "stdout",
     "output_type": "stream",
     "text": [
      "07-14 20:57 [MainProcess, 16958] [INFO ]  valid Epoch:40, Train loss=0.1413, Valid loss=0.5678,Valid F1=0.5668,Valid ACC=0.8510\n",
      "07-14 20:57 [MainProcess, 16958] [INFO ]  Time used for each epoch training: 22.234992504119873 seconds.\n",
      "07-14 20:57 [MainProcess, 16958] [INFO ]  **************************************************\n"
     ]
    },
    {
     "name": "stderr",
     "output_type": "stream",
     "text": [
      "\n",
      "100%|███████████████████████████████████████████| 40/40 [00:18<00:00,  2.21it/s]"
     ]
    },
    {
     "name": "stdout",
     "output_type": "stream",
     "text": [
      "lr:  1.904313637147359e-05\n",
      "07-14 20:58 [MainProcess, 16958] [INFO ]  Iteration:41, train loss = 0.146391 ,train F1 = 0.881378 ,train ACC = 0.951817 \n"
     ]
    },
    {
     "name": "stderr",
     "output_type": "stream",
     "text": [
      "\n",
      "100%|███████████████████████████████████████████| 79/79 [00:04<00:00, 16.36it/s]"
     ]
    },
    {
     "name": "stdout",
     "output_type": "stream",
     "text": [
      "07-14 20:58 [MainProcess, 16958] [INFO ]  valid Epoch:41, Train loss=0.1464, Valid loss=0.5537,Valid F1=0.5693,Valid ACC=0.8558\n",
      "07-14 20:58 [MainProcess, 16958] [INFO ]  Time used for each epoch training: 22.938896656036377 seconds.\n",
      "07-14 20:58 [MainProcess, 16958] [INFO ]  **************************************************\n"
     ]
    },
    {
     "name": "stderr",
     "output_type": "stream",
     "text": [
      "\n",
      "100%|███████████████████████████████████████████| 40/40 [00:17<00:00,  2.25it/s]"
     ]
    },
    {
     "name": "stdout",
     "output_type": "stream",
     "text": [
      "lr:  1.7329254098040968e-05\n",
      "07-14 20:58 [MainProcess, 16958] [INFO ]  Iteration:42, train loss = 0.137661 ,train F1 = 0.873878 ,train ACC = 0.952607 \n"
     ]
    },
    {
     "name": "stderr",
     "output_type": "stream",
     "text": [
      "\n",
      "100%|███████████████████████████████████████████| 79/79 [00:04<00:00, 16.95it/s]"
     ]
    },
    {
     "name": "stdout",
     "output_type": "stream",
     "text": [
      "07-14 20:58 [MainProcess, 16958] [INFO ]  valid Epoch:42, Train loss=0.1377, Valid loss=0.5261,Valid F1=0.5838,Valid ACC=0.8463\n",
      "07-14 20:58 [MainProcess, 16958] [INFO ]  Time used for each epoch training: 22.430596351623535 seconds.\n",
      "07-14 20:58 [MainProcess, 16958] [INFO ]  **************************************************\n"
     ]
    },
    {
     "name": "stderr",
     "output_type": "stream",
     "text": [
      "\n",
      "100%|███████████████████████████████████████████| 40/40 [00:18<00:00,  2.20it/s]"
     ]
    },
    {
     "name": "stdout",
     "output_type": "stream",
     "text": [
      "lr:  1.5769621229217283e-05\n",
      "07-14 20:58 [MainProcess, 16958] [INFO ]  Iteration:43, train loss = 0.138020 ,train F1 = 0.880809 ,train ACC = 0.952607 \n"
     ]
    },
    {
     "name": "stderr",
     "output_type": "stream",
     "text": [
      "\n",
      "100%|███████████████████████████████████████████| 79/79 [00:04<00:00, 16.12it/s]"
     ]
    },
    {
     "name": "stdout",
     "output_type": "stream",
     "text": [
      "07-14 20:58 [MainProcess, 16958] [INFO ]  valid Epoch:43, Train loss=0.1380, Valid loss=0.5081,Valid F1=0.6150,Valid ACC=0.8542\n",
      "07-14 20:58 [MainProcess, 16958] [INFO ]  Time used for each epoch training: 23.07688856124878 seconds.\n",
      "07-14 20:58 [MainProcess, 16958] [INFO ]  **************************************************\n"
     ]
    },
    {
     "name": "stderr",
     "output_type": "stream",
     "text": [
      "\n",
      "100%|███████████████████████████████████████████| 40/40 [00:17<00:00,  2.26it/s]"
     ]
    },
    {
     "name": "stdout",
     "output_type": "stream",
     "text": [
      "lr:  1.4350355318587729e-05\n",
      "07-14 20:59 [MainProcess, 16958] [INFO ]  Iteration:44, train loss = 0.136680 ,train F1 = 0.870972 ,train ACC = 0.951027 \n"
     ]
    },
    {
     "name": "stderr",
     "output_type": "stream",
     "text": [
      "\n",
      "100%|███████████████████████████████████████████| 79/79 [00:05<00:00, 15.35it/s]"
     ]
    },
    {
     "name": "stdout",
     "output_type": "stream",
     "text": [
      "07-14 20:59 [MainProcess, 16958] [INFO ]  valid Epoch:44, Train loss=0.1367, Valid loss=0.5400,Valid F1=0.5736,Valid ACC=0.8558\n",
      "07-14 20:59 [MainProcess, 16958] [INFO ]  Time used for each epoch training: 22.90579628944397 seconds.\n",
      "07-14 20:59 [MainProcess, 16958] [INFO ]  **************************************************\n"
     ]
    },
    {
     "name": "stderr",
     "output_type": "stream",
     "text": [
      "\n",
      "100%|███████████████████████████████████████████| 40/40 [00:17<00:00,  2.27it/s]"
     ]
    },
    {
     "name": "stdout",
     "output_type": "stream",
     "text": [
      "lr:  1.3058823339914834e-05\n",
      "07-14 20:59 [MainProcess, 16958] [INFO ]  Iteration:45, train loss = 0.146020 ,train F1 = 0.874299 ,train ACC = 0.951027 \n"
     ]
    },
    {
     "name": "stderr",
     "output_type": "stream",
     "text": [
      "\n",
      "100%|███████████████████████████████████████████| 79/79 [00:04<00:00, 16.71it/s]"
     ]
    },
    {
     "name": "stdout",
     "output_type": "stream",
     "text": [
      "07-14 20:59 [MainProcess, 16958] [INFO ]  valid Epoch:45, Train loss=0.1460, Valid loss=0.6153,Valid F1=0.5640,Valid ACC=0.8510\n",
      "07-14 20:59 [MainProcess, 16958] [INFO ]  Time used for each epoch training: 22.39162302017212 seconds.\n",
      "07-14 20:59 [MainProcess, 16958] [INFO ]  **************************************************\n"
     ]
    },
    {
     "name": "stderr",
     "output_type": "stream",
     "text": [
      "\n",
      "100%|███████████████████████████████████████████| 40/40 [00:17<00:00,  2.23it/s]"
     ]
    },
    {
     "name": "stdout",
     "output_type": "stream",
     "text": [
      "lr:  1.18835292393225e-05\n",
      "07-14 21:00 [MainProcess, 16958] [INFO ]  Iteration:46, train loss = 0.137706 ,train F1 = 0.887734 ,train ACC = 0.955766 \n"
     ]
    },
    {
     "name": "stderr",
     "output_type": "stream",
     "text": [
      "\n",
      "100%|███████████████████████████████████████████| 79/79 [00:04<00:00, 17.21it/s]"
     ]
    },
    {
     "name": "stdout",
     "output_type": "stream",
     "text": [
      "07-14 21:00 [MainProcess, 16958] [INFO ]  valid Epoch:46, Train loss=0.1377, Valid loss=0.5587,Valid F1=0.6107,Valid ACC=0.8431\n",
      "07-14 21:00 [MainProcess, 16958] [INFO ]  Time used for each epoch training: 22.527879238128662 seconds.\n",
      "07-14 21:00 [MainProcess, 16958] [INFO ]  **************************************************\n"
     ]
    },
    {
     "name": "stderr",
     "output_type": "stream",
     "text": [
      "\n",
      "100%|███████████████████████████████████████████| 40/40 [00:17<00:00,  2.28it/s]"
     ]
    },
    {
     "name": "stdout",
     "output_type": "stream",
     "text": [
      "lr:  1.0814011607783475e-05\n",
      "07-14 21:00 [MainProcess, 16958] [INFO ]  Iteration:47, train loss = 0.137142 ,train F1 = 0.884838 ,train ACC = 0.956556 \n"
     ]
    },
    {
     "name": "stderr",
     "output_type": "stream",
     "text": [
      "\n",
      "100%|███████████████████████████████████████████| 79/79 [00:04<00:00, 17.04it/s]"
     ]
    },
    {
     "name": "stdout",
     "output_type": "stream",
     "text": [
      "07-14 21:00 [MainProcess, 16958] [INFO ]  valid Epoch:47, Train loss=0.1371, Valid loss=0.5503,Valid F1=0.6132,Valid ACC=0.8320\n",
      "07-14 21:00 [MainProcess, 16958] [INFO ]  Time used for each epoch training: 22.21394157409668 seconds.\n",
      "07-14 21:00 [MainProcess, 16958] [INFO ]  **************************************************\n"
     ]
    },
    {
     "name": "stderr",
     "output_type": "stream",
     "text": [
      "\n",
      "100%|███████████████████████████████████████████| 40/40 [00:17<00:00,  2.33it/s]"
     ]
    },
    {
     "name": "stdout",
     "output_type": "stream",
     "text": [
      "lr:  9.840750563082964e-06\n",
      "07-14 21:00 [MainProcess, 16958] [INFO ]  Iteration:48, train loss = 0.131778 ,train F1 = 0.884313 ,train ACC = 0.955371 \n"
     ]
    },
    {
     "name": "stderr",
     "output_type": "stream",
     "text": [
      "\n",
      "100%|███████████████████████████████████████████| 79/79 [00:04<00:00, 17.17it/s]"
     ]
    },
    {
     "name": "stdout",
     "output_type": "stream",
     "text": [
      "07-14 21:00 [MainProcess, 16958] [INFO ]  valid Epoch:48, Train loss=0.1318, Valid loss=0.5608,Valid F1=0.5675,Valid ACC=0.8510\n",
      "07-14 21:00 [MainProcess, 16958] [INFO ]  Time used for each epoch training: 21.792274236679077 seconds.\n",
      "07-14 21:00 [MainProcess, 16958] [INFO ]  **************************************************\n"
     ]
    },
    {
     "name": "stderr",
     "output_type": "stream",
     "text": [
      "\n",
      "100%|███████████████████████████████████████████| 40/40 [00:16<00:00,  2.43it/s]"
     ]
    },
    {
     "name": "stdout",
     "output_type": "stream",
     "text": [
      "lr:  8.955083012405497e-06\n",
      "07-14 21:01 [MainProcess, 16958] [INFO ]  Iteration:49, train loss = 0.137625 ,train F1 = 0.886052 ,train ACC = 0.954581 \n"
     ]
    },
    {
     "name": "stderr",
     "output_type": "stream",
     "text": [
      "\n",
      "100%|███████████████████████████████████████████| 79/79 [00:05<00:00, 15.44it/s]"
     ]
    },
    {
     "name": "stdout",
     "output_type": "stream",
     "text": [
      "07-14 21:01 [MainProcess, 16958] [INFO ]  valid Epoch:49, Train loss=0.1376, Valid loss=0.5351,Valid F1=0.6293,Valid ACC=0.8574\n",
      "07-14 21:01 [MainProcess, 16958] [INFO ]  Time used for each epoch training: 21.593729734420776 seconds.\n",
      "07-14 21:01 [MainProcess, 16958] [INFO ]  **************************************************\n"
     ]
    },
    {
     "name": "stderr",
     "output_type": "stream",
     "text": [
      "\n",
      "100%|███████████████████████████████████████████| 40/40 [00:16<00:00,  2.39it/s]"
     ]
    },
    {
     "name": "stdout",
     "output_type": "stream",
     "text": [
      "lr:  8.149125541289003e-06\n",
      "07-14 21:01 [MainProcess, 16958] [INFO ]  Iteration:50, train loss = 0.138558 ,train F1 = 0.880000 ,train ACC = 0.952212 \n"
     ]
    },
    {
     "name": "stderr",
     "output_type": "stream",
     "text": [
      "\n",
      "100%|███████████████████████████████████████████| 79/79 [00:04<00:00, 16.63it/s]"
     ]
    },
    {
     "name": "stdout",
     "output_type": "stream",
     "text": [
      "07-14 21:01 [MainProcess, 16958] [INFO ]  valid Epoch:50, Train loss=0.1386, Valid loss=0.5947,Valid F1=0.6037,Valid ACC=0.8399\n",
      "07-14 21:01 [MainProcess, 16958] [INFO ]  Time used for each epoch training: 21.522294521331787 seconds.\n",
      "07-14 21:01 [MainProcess, 16958] [INFO ]  **************************************************\n"
     ]
    },
    {
     "name": "stderr",
     "output_type": "stream",
     "text": [
      "\n",
      "100%|███████████████████████████████████████████| 40/40 [00:17<00:00,  2.26it/s]"
     ]
    },
    {
     "name": "stdout",
     "output_type": "stream",
     "text": [
      "lr:  7.415704242572993e-06\n",
      "07-14 21:01 [MainProcess, 16958] [INFO ]  Iteration:51, train loss = 0.133941 ,train F1 = 0.882672 ,train ACC = 0.953791 \n"
     ]
    },
    {
     "name": "stderr",
     "output_type": "stream",
     "text": [
      "\n",
      "100%|███████████████████████████████████████████| 79/79 [00:04<00:00, 16.14it/s]"
     ]
    },
    {
     "name": "stdout",
     "output_type": "stream",
     "text": [
      "07-14 21:01 [MainProcess, 16958] [INFO ]  valid Epoch:51, Train loss=0.1339, Valid loss=0.5539,Valid F1=0.6048,Valid ACC=0.8463\n",
      "07-14 21:01 [MainProcess, 16958] [INFO ]  Time used for each epoch training: 22.617173194885254 seconds.\n",
      "07-14 21:01 [MainProcess, 16958] [INFO ]  **************************************************\n"
     ]
    },
    {
     "name": "stderr",
     "output_type": "stream",
     "text": [
      "\n",
      "100%|███████████████████████████████████████████| 40/40 [00:17<00:00,  2.29it/s]"
     ]
    },
    {
     "name": "stdout",
     "output_type": "stream",
     "text": [
      "lr:  6.748290860741424e-06\n",
      "07-14 21:02 [MainProcess, 16958] [INFO ]  Iteration:52, train loss = 0.127752 ,train F1 = 0.882500 ,train ACC = 0.956556 \n"
     ]
    },
    {
     "name": "stderr",
     "output_type": "stream",
     "text": [
      "\n",
      "100%|███████████████████████████████████████████| 79/79 [00:04<00:00, 17.17it/s]"
     ]
    },
    {
     "name": "stdout",
     "output_type": "stream",
     "text": [
      "07-14 21:02 [MainProcess, 16958] [INFO ]  valid Epoch:52, Train loss=0.1278, Valid loss=0.5730,Valid F1=0.5780,Valid ACC=0.8241\n",
      "07-14 21:02 [MainProcess, 16958] [INFO ]  Time used for each epoch training: 22.096191883087158 seconds.\n",
      "07-14 21:02 [MainProcess, 16958] [INFO ]  **************************************************\n"
     ]
    },
    {
     "name": "stderr",
     "output_type": "stream",
     "text": [
      "\n",
      "100%|███████████████████████████████████████████| 40/40 [00:17<00:00,  2.27it/s]"
     ]
    },
    {
     "name": "stdout",
     "output_type": "stream",
     "text": [
      "lr:  6.140944683274696e-06\n",
      "07-14 21:02 [MainProcess, 16958] [INFO ]  Iteration:53, train loss = 0.139596 ,train F1 = 0.872087 ,train ACC = 0.952607 \n"
     ]
    },
    {
     "name": "stderr",
     "output_type": "stream",
     "text": [
      "\n",
      "100%|███████████████████████████████████████████| 79/79 [00:04<00:00, 16.70it/s]"
     ]
    },
    {
     "name": "stdout",
     "output_type": "stream",
     "text": [
      "07-14 21:02 [MainProcess, 16958] [INFO ]  valid Epoch:53, Train loss=0.1396, Valid loss=0.5667,Valid F1=0.5660,Valid ACC=0.8526\n",
      "07-14 21:02 [MainProcess, 16958] [INFO ]  Time used for each epoch training: 22.348883390426636 seconds.\n",
      "07-14 21:02 [MainProcess, 16958] [INFO ]  **************************************************\n"
     ]
    },
    {
     "name": "stderr",
     "output_type": "stream",
     "text": [
      "\n",
      "100%|███████████████████████████████████████████| 40/40 [00:17<00:00,  2.27it/s]"
     ]
    },
    {
     "name": "stdout",
     "output_type": "stream",
     "text": [
      "lr:  5.588259661779973e-06\n",
      "07-14 21:02 [MainProcess, 16958] [INFO ]  Iteration:54, train loss = 0.135436 ,train F1 = 0.887685 ,train ACC = 0.955371 \n"
     ]
    },
    {
     "name": "stderr",
     "output_type": "stream",
     "text": [
      "\n",
      "100%|███████████████████████████████████████████| 79/79 [00:04<00:00, 17.54it/s]"
     ]
    },
    {
     "name": "stdout",
     "output_type": "stream",
     "text": [
      "07-14 21:03 [MainProcess, 16958] [INFO ]  valid Epoch:54, Train loss=0.1354, Valid loss=0.5781,Valid F1=0.5619,Valid ACC=0.8146\n",
      "07-14 21:03 [MainProcess, 16958] [INFO ]  Time used for each epoch training: 22.156046390533447 seconds.\n",
      "07-14 21:03 [MainProcess, 16958] [INFO ]  **************************************************\n"
     ]
    },
    {
     "name": "stderr",
     "output_type": "stream",
     "text": [
      "\n",
      "100%|███████████████████████████████████████████| 40/40 [00:17<00:00,  2.26it/s]"
     ]
    },
    {
     "name": "stdout",
     "output_type": "stream",
     "text": [
      "lr:  5.085316292219776e-06\n",
      "07-14 21:03 [MainProcess, 16958] [INFO ]  Iteration:55, train loss = 0.129623 ,train F1 = 0.884507 ,train ACC = 0.957741 \n"
     ]
    },
    {
     "name": "stderr",
     "output_type": "stream",
     "text": [
      "\n",
      "100%|███████████████████████████████████████████| 79/79 [00:04<00:00, 18.21it/s]"
     ]
    },
    {
     "name": "stdout",
     "output_type": "stream",
     "text": [
      "07-14 21:03 [MainProcess, 16958] [INFO ]  valid Epoch:55, Train loss=0.1296, Valid loss=0.5616,Valid F1=0.5655,Valid ACC=0.8463\n",
      "07-14 21:03 [MainProcess, 16958] [INFO ]  Time used for each epoch training: 22.07395362854004 seconds.\n",
      "07-14 21:03 [MainProcess, 16958] [INFO ]  **************************************************\n"
     ]
    },
    {
     "name": "stderr",
     "output_type": "stream",
     "text": [
      "\n",
      "100%|███████████████████████████████████████████| 40/40 [00:18<00:00,  2.22it/s]"
     ]
    },
    {
     "name": "stdout",
     "output_type": "stream",
     "text": [
      "lr:  4.627637825919996e-06\n",
      "07-14 21:03 [MainProcess, 16958] [INFO ]  Iteration:56, train loss = 0.129503 ,train F1 = 0.884228 ,train ACC = 0.953791 \n"
     ]
    },
    {
     "name": "stderr",
     "output_type": "stream",
     "text": [
      "\n",
      "100%|███████████████████████████████████████████| 79/79 [00:04<00:00, 16.79it/s]"
     ]
    },
    {
     "name": "stdout",
     "output_type": "stream",
     "text": [
      "07-14 21:03 [MainProcess, 16958] [INFO ]  valid Epoch:56, Train loss=0.1295, Valid loss=0.5405,Valid F1=0.5587,Valid ACC=0.8336\n",
      "07-14 21:03 [MainProcess, 16958] [INFO ]  Time used for each epoch training: 22.782050371170044 seconds.\n",
      "07-14 21:03 [MainProcess, 16958] [INFO ]  **************************************************\n"
     ]
    },
    {
     "name": "stderr",
     "output_type": "stream",
     "text": [
      "\n",
      "100%|███████████████████████████████████████████| 40/40 [00:18<00:00,  2.22it/s]"
     ]
    },
    {
     "name": "stdout",
     "output_type": "stream",
     "text": [
      "lr:  4.211150421587196e-06\n",
      "07-14 21:04 [MainProcess, 16958] [INFO ]  Iteration:57, train loss = 0.120448 ,train F1 = 0.901086 ,train ACC = 0.960506 \n"
     ]
    },
    {
     "name": "stderr",
     "output_type": "stream",
     "text": [
      "\n",
      "100%|███████████████████████████████████████████| 79/79 [00:04<00:00, 17.31it/s]"
     ]
    },
    {
     "name": "stdout",
     "output_type": "stream",
     "text": [
      "07-14 21:04 [MainProcess, 16958] [INFO ]  valid Epoch:57, Train loss=0.1204, Valid loss=0.5196,Valid F1=0.6295,Valid ACC=0.8352\n",
      "07-14 21:04 [MainProcess, 16958] [INFO ]  Time used for each epoch training: 22.65319299697876 seconds.\n",
      "07-14 21:04 [MainProcess, 16958] [INFO ]  **************************************************\n"
     ]
    },
    {
     "name": "stderr",
     "output_type": "stream",
     "text": [
      "\n",
      "100%|███████████████████████████████████████████| 40/40 [00:17<00:00,  2.24it/s]"
     ]
    },
    {
     "name": "stdout",
     "output_type": "stream",
     "text": [
      "lr:  3.832146883644349e-06\n",
      "07-14 21:04 [MainProcess, 16958] [INFO ]  Iteration:58, train loss = 0.129161 ,train F1 = 0.893592 ,train ACC = 0.959716 \n"
     ]
    },
    {
     "name": "stderr",
     "output_type": "stream",
     "text": [
      "\n",
      "100%|███████████████████████████████████████████| 79/79 [00:04<00:00, 17.28it/s]"
     ]
    },
    {
     "name": "stdout",
     "output_type": "stream",
     "text": [
      "07-14 21:04 [MainProcess, 16958] [INFO ]  valid Epoch:58, Train loss=0.1292, Valid loss=0.5578,Valid F1=0.5803,Valid ACC=0.8494\n",
      "07-14 21:04 [MainProcess, 16958] [INFO ]  Time used for each epoch training: 22.46107268333435 seconds.\n",
      "07-14 21:04 [MainProcess, 16958] [INFO ]  **************************************************\n"
     ]
    },
    {
     "name": "stderr",
     "output_type": "stream",
     "text": [
      "\n",
      "100%|███████████████████████████████████████████| 40/40 [00:17<00:00,  2.24it/s]"
     ]
    },
    {
     "name": "stdout",
     "output_type": "stream",
     "text": [
      "lr:  3.487253664116358e-06\n",
      "07-14 21:04 [MainProcess, 16958] [INFO ]  Iteration:59, train loss = 0.124003 ,train F1 = 0.891508 ,train ACC = 0.955766 \n"
     ]
    },
    {
     "name": "stderr",
     "output_type": "stream",
     "text": [
      "\n",
      "100%|███████████████████████████████████████████| 79/79 [00:04<00:00, 18.10it/s]"
     ]
    },
    {
     "name": "stdout",
     "output_type": "stream",
     "text": [
      "07-14 21:04 [MainProcess, 16958] [INFO ]  valid Epoch:59, Train loss=0.1240, Valid loss=0.5667,Valid F1=0.5784,Valid ACC=0.8352\n",
      "07-14 21:04 [MainProcess, 16958] [INFO ]  Time used for each epoch training: 22.29194688796997 seconds.\n",
      "07-14 21:04 [MainProcess, 16958] [INFO ]  **************************************************\n"
     ]
    },
    {
     "name": "stderr",
     "output_type": "stream",
     "text": [
      "\n",
      "100%|███████████████████████████████████████████| 40/40 [00:17<00:00,  2.31it/s]"
     ]
    },
    {
     "name": "stdout",
     "output_type": "stream",
     "text": [
      "lr:  3.1734008343458857e-06\n",
      "07-14 21:05 [MainProcess, 16958] [INFO ]  Iteration:60, train loss = 0.129676 ,train F1 = 0.896821 ,train ACC = 0.958926 \n"
     ]
    },
    {
     "name": "stderr",
     "output_type": "stream",
     "text": [
      "\n",
      "100%|███████████████████████████████████████████| 79/79 [00:04<00:00, 17.05it/s]"
     ]
    },
    {
     "name": "stdout",
     "output_type": "stream",
     "text": [
      "07-14 21:05 [MainProcess, 16958] [INFO ]  valid Epoch:60, Train loss=0.1297, Valid loss=0.5110,Valid F1=0.5737,Valid ACC=0.8510\n",
      "07-14 21:05 [MainProcess, 16958] [INFO ]  Time used for each epoch training: 22.000805616378784 seconds.\n",
      "07-14 21:05 [MainProcess, 16958] [INFO ]  **************************************************\n"
     ]
    },
    {
     "name": "stderr",
     "output_type": "stream",
     "text": [
      "\n",
      "100%|███████████████████████████████████████████| 40/40 [00:16<00:00,  2.38it/s]"
     ]
    },
    {
     "name": "stdout",
     "output_type": "stream",
     "text": [
      "lr:  2.887794759254756e-06\n",
      "07-14 21:05 [MainProcess, 16958] [INFO ]  Iteration:61, train loss = 0.120816 ,train F1 = 0.895767 ,train ACC = 0.959716 \n"
     ]
    },
    {
     "name": "stderr",
     "output_type": "stream",
     "text": [
      "\n",
      "100%|███████████████████████████████████████████| 79/79 [00:04<00:00, 16.90it/s]"
     ]
    },
    {
     "name": "stdout",
     "output_type": "stream",
     "text": [
      "07-14 21:05 [MainProcess, 16958] [INFO ]  valid Epoch:61, Train loss=0.1208, Valid loss=0.5723,Valid F1=0.5503,Valid ACC=0.8447\n",
      "07-14 21:05 [MainProcess, 16958] [INFO ]  Time used for each epoch training: 21.525078296661377 seconds.\n",
      "07-14 21:05 [MainProcess, 16958] [INFO ]  **************************************************\n"
     ]
    },
    {
     "name": "stderr",
     "output_type": "stream",
     "text": [
      "\n",
      "100%|███████████████████████████████████████████| 40/40 [00:17<00:00,  2.26it/s]"
     ]
    },
    {
     "name": "stdout",
     "output_type": "stream",
     "text": [
      "lr:  2.627893230921828e-06\n",
      "07-14 21:05 [MainProcess, 16958] [INFO ]  Iteration:62, train loss = 0.127421 ,train F1 = 0.892129 ,train ACC = 0.958136 \n"
     ]
    },
    {
     "name": "stderr",
     "output_type": "stream",
     "text": [
      "\n",
      "100%|███████████████████████████████████████████| 79/79 [00:04<00:00, 16.76it/s]"
     ]
    },
    {
     "name": "stdout",
     "output_type": "stream",
     "text": [
      "07-14 21:05 [MainProcess, 16958] [INFO ]  valid Epoch:62, Train loss=0.1274, Valid loss=0.5661,Valid F1=0.5554,Valid ACC=0.8463\n",
      "07-14 21:05 [MainProcess, 16958] [INFO ]  Time used for each epoch training: 22.461026430130005 seconds.\n",
      "07-14 21:05 [MainProcess, 16958] [INFO ]  **************************************************\n"
     ]
    },
    {
     "name": "stderr",
     "output_type": "stream",
     "text": [
      "\n",
      "100%|███████████████████████████████████████████| 40/40 [00:17<00:00,  2.31it/s]"
     ]
    },
    {
     "name": "stdout",
     "output_type": "stream",
     "text": [
      "lr:  2.3913828401388635e-06\n",
      "07-14 21:06 [MainProcess, 16958] [INFO ]  Iteration:63, train loss = 0.135236 ,train F1 = 0.881338 ,train ACC = 0.951027 \n"
     ]
    },
    {
     "name": "stderr",
     "output_type": "stream",
     "text": [
      "\n",
      "100%|███████████████████████████████████████████| 79/79 [00:04<00:00, 16.70it/s]"
     ]
    },
    {
     "name": "stdout",
     "output_type": "stream",
     "text": [
      "07-14 21:06 [MainProcess, 16958] [INFO ]  valid Epoch:63, Train loss=0.1352, Valid loss=0.5765,Valid F1=0.5792,Valid ACC=0.8621\n",
      "07-14 21:06 [MainProcess, 16958] [INFO ]  Time used for each epoch training: 22.042789697647095 seconds.\n",
      "07-14 21:06 [MainProcess, 16958] [INFO ]  **************************************************\n"
     ]
    },
    {
     "name": "stderr",
     "output_type": "stream",
     "text": [
      "\n",
      "100%|███████████████████████████████████████████| 40/40 [00:17<00:00,  2.23it/s]"
     ]
    },
    {
     "name": "stdout",
     "output_type": "stream",
     "text": [
      "lr:  2.176158384526366e-06\n",
      "07-14 21:06 [MainProcess, 16958] [INFO ]  Iteration:64, train loss = 0.130966 ,train F1 = 0.884219 ,train ACC = 0.953396 \n"
     ]
    },
    {
     "name": "stderr",
     "output_type": "stream",
     "text": [
      "\n",
      "100%|███████████████████████████████████████████| 79/79 [00:04<00:00, 17.02it/s]"
     ]
    },
    {
     "name": "stdout",
     "output_type": "stream",
     "text": [
      "07-14 21:06 [MainProcess, 16958] [INFO ]  valid Epoch:64, Train loss=0.1310, Valid loss=0.5492,Valid F1=0.5652,Valid ACC=0.8463\n",
      "07-14 21:06 [MainProcess, 16958] [INFO ]  Time used for each epoch training: 22.602937936782837 seconds.\n",
      "07-14 21:06 [MainProcess, 16958] [INFO ]  **************************************************\n"
     ]
    },
    {
     "name": "stderr",
     "output_type": "stream",
     "text": [
      "\n",
      "100%|███████████████████████████████████████████| 40/40 [00:17<00:00,  2.23it/s]"
     ]
    },
    {
     "name": "stdout",
     "output_type": "stream",
     "text": [
      "lr:  1.980304129918993e-06\n",
      "07-14 21:07 [MainProcess, 16958] [INFO ]  Iteration:65, train loss = 0.129447 ,train F1 = 0.899988 ,train ACC = 0.958136 \n"
     ]
    },
    {
     "name": "stderr",
     "output_type": "stream",
     "text": [
      "\n",
      "100%|███████████████████████████████████████████| 79/79 [00:04<00:00, 17.02it/s]"
     ]
    },
    {
     "name": "stdout",
     "output_type": "stream",
     "text": [
      "07-14 21:07 [MainProcess, 16958] [INFO ]  valid Epoch:65, Train loss=0.1294, Valid loss=0.5381,Valid F1=0.6037,Valid ACC=0.8574\n",
      "07-14 21:07 [MainProcess, 16958] [INFO ]  Time used for each epoch training: 22.581194400787354 seconds.\n",
      "07-14 21:07 [MainProcess, 16958] [INFO ]  **************************************************\n"
     ]
    },
    {
     "name": "stderr",
     "output_type": "stream",
     "text": [
      "\n",
      "100%|███████████████████████████████████████████| 40/40 [00:18<00:00,  2.21it/s]"
     ]
    },
    {
     "name": "stdout",
     "output_type": "stream",
     "text": [
      "lr:  1.8020767582262836e-06\n",
      "07-14 21:07 [MainProcess, 16958] [INFO ]  Iteration:66, train loss = 0.124855 ,train F1 = 0.883303 ,train ACC = 0.956556 \n"
     ]
    },
    {
     "name": "stderr",
     "output_type": "stream",
     "text": [
      "\n",
      "100%|███████████████████████████████████████████| 79/79 [00:04<00:00, 17.19it/s]"
     ]
    },
    {
     "name": "stdout",
     "output_type": "stream",
     "text": [
      "07-14 21:07 [MainProcess, 16958] [INFO ]  valid Epoch:66, Train loss=0.1249, Valid loss=0.5959,Valid F1=0.5579,Valid ACC=0.8352\n",
      "07-14 21:07 [MainProcess, 16958] [INFO ]  Time used for each epoch training: 22.697486877441406 seconds.\n",
      "07-14 21:07 [MainProcess, 16958] [INFO ]  **************************************************\n"
     ]
    },
    {
     "name": "stderr",
     "output_type": "stream",
     "text": [
      "\n",
      "100%|███████████████████████████████████████████| 40/40 [00:18<00:00,  2.19it/s]"
     ]
    },
    {
     "name": "stdout",
     "output_type": "stream",
     "text": [
      "lr:  1.639889849985918e-06\n",
      "07-14 21:07 [MainProcess, 16958] [INFO ]  Iteration:67, train loss = 0.124407 ,train F1 = 0.880220 ,train ACC = 0.954581 \n"
     ]
    },
    {
     "name": "stderr",
     "output_type": "stream",
     "text": [
      "\n",
      "100%|███████████████████████████████████████████| 79/79 [00:04<00:00, 16.25it/s]"
     ]
    },
    {
     "name": "stdout",
     "output_type": "stream",
     "text": [
      "07-14 21:07 [MainProcess, 16958] [INFO ]  valid Epoch:67, Train loss=0.1244, Valid loss=0.5455,Valid F1=0.5721,Valid ACC=0.8542\n",
      "07-14 21:07 [MainProcess, 16958] [INFO ]  Time used for each epoch training: 23.126439809799194 seconds.\n",
      "07-14 21:07 [MainProcess, 16958] [INFO ]  **************************************************\n"
     ]
    },
    {
     "name": "stderr",
     "output_type": "stream",
     "text": [
      "\n",
      "100%|███████████████████████████████████████████| 40/40 [00:18<00:00,  2.22it/s]"
     ]
    },
    {
     "name": "stdout",
     "output_type": "stream",
     "text": [
      "lr:  1.4922997634871856e-06\n",
      "07-14 21:08 [MainProcess, 16958] [INFO ]  Iteration:68, train loss = 0.124629 ,train F1 = 0.890968 ,train ACC = 0.958136 \n"
     ]
    },
    {
     "name": "stderr",
     "output_type": "stream",
     "text": [
      "\n",
      "100%|███████████████████████████████████████████| 79/79 [00:04<00:00, 17.20it/s]"
     ]
    },
    {
     "name": "stdout",
     "output_type": "stream",
     "text": [
      "07-14 21:08 [MainProcess, 16958] [INFO ]  valid Epoch:68, Train loss=0.1246, Valid loss=0.5676,Valid F1=0.5954,Valid ACC=0.8494\n",
      "07-14 21:08 [MainProcess, 16958] [INFO ]  Time used for each epoch training: 22.678502798080444 seconds.\n",
      "07-14 21:08 [MainProcess, 16958] [INFO ]  **************************************************\n"
     ]
    },
    {
     "name": "stderr",
     "output_type": "stream",
     "text": [
      "\n",
      "100%|███████████████████████████████████████████| 40/40 [00:17<00:00,  2.24it/s]"
     ]
    },
    {
     "name": "stdout",
     "output_type": "stream",
     "text": [
      "lr:  1.357992784773339e-06\n",
      "07-14 21:08 [MainProcess, 16958] [INFO ]  Iteration:69, train loss = 0.123159 ,train F1 = 0.905923 ,train ACC = 0.961690 \n"
     ]
    },
    {
     "name": "stderr",
     "output_type": "stream",
     "text": [
      "\n",
      "100%|███████████████████████████████████████████| 79/79 [00:04<00:00, 16.64it/s]"
     ]
    },
    {
     "name": "stdout",
     "output_type": "stream",
     "text": [
      "07-14 21:08 [MainProcess, 16958] [INFO ]  valid Epoch:69, Train loss=0.1232, Valid loss=0.5718,Valid F1=0.5853,Valid ACC=0.8542\n",
      "07-14 21:08 [MainProcess, 16958] [INFO ]  Time used for each epoch training: 22.62842893600464 seconds.\n",
      "07-14 21:08 [MainProcess, 16958] [INFO ]  **************************************************\n"
     ]
    },
    {
     "name": "stderr",
     "output_type": "stream",
     "text": [
      "\n",
      "100%|███████████████████████████████████████████| 40/40 [00:17<00:00,  2.30it/s]"
     ]
    },
    {
     "name": "stdout",
     "output_type": "stream",
     "text": [
      "lr:  1.2357734341437386e-06\n",
      "07-14 21:08 [MainProcess, 16958] [INFO ]  Iteration:70, train loss = 0.132291 ,train F1 = 0.896285 ,train ACC = 0.953396 \n"
     ]
    },
    {
     "name": "stderr",
     "output_type": "stream",
     "text": [
      "\n",
      "100%|███████████████████████████████████████████| 79/79 [00:04<00:00, 16.10it/s]"
     ]
    },
    {
     "name": "stdout",
     "output_type": "stream",
     "text": [
      "07-14 21:09 [MainProcess, 16958] [INFO ]  valid Epoch:70, Train loss=0.1323, Valid loss=0.5699,Valid F1=0.5881,Valid ACC=0.8574\n",
      "07-14 21:09 [MainProcess, 16958] [INFO ]  Time used for each epoch training: 22.3512864112854 seconds.\n",
      "07-14 21:09 [MainProcess, 16958] [INFO ]  **************************************************\n"
     ]
    },
    {
     "name": "stderr",
     "output_type": "stream",
     "text": [
      "\n",
      "100%|███████████████████████████████████████████| 40/40 [00:15<00:00,  2.52it/s]"
     ]
    },
    {
     "name": "stdout",
     "output_type": "stream",
     "text": [
      "lr:  1.1245538250708021e-06\n",
      "07-14 21:09 [MainProcess, 16958] [INFO ]  Iteration:71, train loss = 0.126903 ,train F1 = 0.889099 ,train ACC = 0.956556 \n"
     ]
    },
    {
     "name": "stderr",
     "output_type": "stream",
     "text": [
      "\n",
      "100%|███████████████████████████████████████████| 79/79 [00:04<00:00, 17.02it/s]"
     ]
    },
    {
     "name": "stdout",
     "output_type": "stream",
     "text": [
      "07-14 21:09 [MainProcess, 16958] [INFO ]  valid Epoch:71, Train loss=0.1269, Valid loss=0.5870,Valid F1=0.5633,Valid ACC=0.8399\n",
      "07-14 21:09 [MainProcess, 16958] [INFO ]  Time used for each epoch training: 20.51958656311035 seconds.\n",
      "07-14 21:09 [MainProcess, 16958] [INFO ]  **************************************************\n"
     ]
    },
    {
     "name": "stderr",
     "output_type": "stream",
     "text": [
      "\n",
      "100%|███████████████████████████████████████████| 40/40 [00:18<00:00,  2.16it/s]"
     ]
    },
    {
     "name": "stdout",
     "output_type": "stream",
     "text": [
      "lr:  1.02334398081443e-06\n",
      "07-14 21:09 [MainProcess, 16958] [INFO ]  Iteration:72, train loss = 0.130936 ,train F1 = 0.879427 ,train ACC = 0.956161 \n"
     ]
    },
    {
     "name": "stderr",
     "output_type": "stream",
     "text": [
      "\n",
      "100%|███████████████████████████████████████████| 79/79 [00:04<00:00, 16.69it/s]"
     ]
    },
    {
     "name": "stdout",
     "output_type": "stream",
     "text": [
      "07-14 21:09 [MainProcess, 16958] [INFO ]  valid Epoch:72, Train loss=0.1309, Valid loss=0.5623,Valid F1=0.5749,Valid ACC=0.8384\n",
      "07-14 21:09 [MainProcess, 16958] [INFO ]  Time used for each epoch training: 23.309577226638794 seconds.\n",
      "07-14 21:09 [MainProcess, 16958] [INFO ]  **************************************************\n"
     ]
    },
    {
     "name": "stderr",
     "output_type": "stream",
     "text": [
      "\n",
      "100%|███████████████████████████████████████████| 40/40 [00:17<00:00,  2.23it/s]"
     ]
    },
    {
     "name": "stdout",
     "output_type": "stream",
     "text": [
      "lr:  9.312430225411312e-07\n",
      "07-14 21:10 [MainProcess, 16958] [INFO ]  Iteration:73, train loss = 0.127851 ,train F1 = 0.873687 ,train ACC = 0.952212 \n"
     ]
    },
    {
     "name": "stderr",
     "output_type": "stream",
     "text": [
      "\n",
      "100%|███████████████████████████████████████████| 79/79 [00:04<00:00, 17.00it/s]"
     ]
    },
    {
     "name": "stdout",
     "output_type": "stream",
     "text": [
      "07-14 21:10 [MainProcess, 16958] [INFO ]  valid Epoch:73, Train loss=0.1279, Valid loss=0.5311,Valid F1=0.5749,Valid ACC=0.8526\n",
      "07-14 21:10 [MainProcess, 16958] [INFO ]  Time used for each epoch training: 22.59004044532776 seconds.\n",
      "07-14 21:10 [MainProcess, 16958] [INFO ]  **************************************************\n"
     ]
    },
    {
     "name": "stderr",
     "output_type": "stream",
     "text": [
      "\n",
      "100%|███████████████████████████████████████████| 40/40 [00:17<00:00,  2.26it/s]"
     ]
    },
    {
     "name": "stdout",
     "output_type": "stream",
     "text": [
      "lr:  8.474311505124295e-07\n",
      "07-14 21:10 [MainProcess, 16958] [INFO ]  Iteration:74, train loss = 0.123986 ,train F1 = 0.888131 ,train ACC = 0.958136 \n"
     ]
    },
    {
     "name": "stderr",
     "output_type": "stream",
     "text": [
      "\n",
      "100%|███████████████████████████████████████████| 79/79 [00:04<00:00, 16.97it/s]"
     ]
    },
    {
     "name": "stdout",
     "output_type": "stream",
     "text": [
      "07-14 21:10 [MainProcess, 16958] [INFO ]  valid Epoch:74, Train loss=0.1240, Valid loss=0.5483,Valid F1=0.5747,Valid ACC=0.8447\n",
      "07-14 21:10 [MainProcess, 16958] [INFO ]  Time used for each epoch training: 22.367546319961548 seconds.\n",
      "07-14 21:10 [MainProcess, 16958] [INFO ]  **************************************************\n"
     ]
    },
    {
     "name": "stderr",
     "output_type": "stream",
     "text": [
      "\n",
      "100%|███████████████████████████████████████████| 40/40 [00:17<00:00,  2.26it/s]"
     ]
    },
    {
     "name": "stdout",
     "output_type": "stream",
     "text": [
      "lr:  7.711623469663109e-07\n",
      "07-14 21:10 [MainProcess, 16958] [INFO ]  Iteration:75, train loss = 0.133276 ,train F1 = 0.883810 ,train ACC = 0.953396 \n"
     ]
    },
    {
     "name": "stderr",
     "output_type": "stream",
     "text": [
      "\n",
      "100%|███████████████████████████████████████████| 79/79 [00:04<00:00, 16.65it/s]"
     ]
    },
    {
     "name": "stdout",
     "output_type": "stream",
     "text": [
      "07-14 21:10 [MainProcess, 16958] [INFO ]  valid Epoch:75, Train loss=0.1333, Valid loss=0.5562,Valid F1=0.5675,Valid ACC=0.8510\n",
      "07-14 21:10 [MainProcess, 16958] [INFO ]  Time used for each epoch training: 22.44010066986084 seconds.\n",
      "07-14 21:10 [MainProcess, 16958] [INFO ]  **************************************************\n"
     ]
    },
    {
     "name": "stderr",
     "output_type": "stream",
     "text": [
      "\n",
      "100%|███████████████████████████████████████████| 40/40 [00:17<00:00,  2.27it/s]"
     ]
    },
    {
     "name": "stdout",
     "output_type": "stream",
     "text": [
      "lr:  7.017577357393429e-07\n",
      "07-14 21:11 [MainProcess, 16958] [INFO ]  Iteration:76, train loss = 0.124557 ,train F1 = 0.889139 ,train ACC = 0.959321 \n"
     ]
    },
    {
     "name": "stderr",
     "output_type": "stream",
     "text": [
      "\n",
      "100%|███████████████████████████████████████████| 79/79 [00:04<00:00, 17.24it/s]"
     ]
    },
    {
     "name": "stdout",
     "output_type": "stream",
     "text": [
      "07-14 21:11 [MainProcess, 16958] [INFO ]  valid Epoch:76, Train loss=0.1246, Valid loss=0.6043,Valid F1=0.5682,Valid ACC=0.8574\n",
      "07-14 21:11 [MainProcess, 16958] [INFO ]  Time used for each epoch training: 22.215221643447876 seconds.\n",
      "07-14 21:11 [MainProcess, 16958] [INFO ]  **************************************************\n"
     ]
    },
    {
     "name": "stderr",
     "output_type": "stream",
     "text": [
      "\n",
      "100%|███████████████████████████████████████████| 40/40 [00:17<00:00,  2.23it/s]"
     ]
    },
    {
     "name": "stdout",
     "output_type": "stream",
     "text": [
      "lr:  6.38599539522802e-07\n",
      "07-14 21:11 [MainProcess, 16958] [INFO ]  Iteration:77, train loss = 0.123755 ,train F1 = 0.886955 ,train ACC = 0.956161 \n"
     ]
    },
    {
     "name": "stderr",
     "output_type": "stream",
     "text": [
      "\n",
      "100%|███████████████████████████████████████████| 79/79 [00:04<00:00, 17.26it/s]"
     ]
    },
    {
     "name": "stdout",
     "output_type": "stream",
     "text": [
      "07-14 21:11 [MainProcess, 16958] [INFO ]  valid Epoch:77, Train loss=0.1238, Valid loss=0.6109,Valid F1=0.5885,Valid ACC=0.8257\n",
      "07-14 21:11 [MainProcess, 16958] [INFO ]  Time used for each epoch training: 22.509840965270996 seconds.\n",
      "07-14 21:11 [MainProcess, 16958] [INFO ]  **************************************************\n"
     ]
    },
    {
     "name": "stderr",
     "output_type": "stream",
     "text": [
      "\n",
      "100%|███████████████████████████████████████████| 40/40 [00:18<00:00,  2.19it/s]"
     ]
    },
    {
     "name": "stdout",
     "output_type": "stream",
     "text": [
      "lr:  5.811255809657499e-07\n",
      "07-14 21:11 [MainProcess, 16958] [INFO ]  Iteration:78, train loss = 0.128427 ,train F1 = 0.878543 ,train ACC = 0.954581 \n"
     ]
    },
    {
     "name": "stderr",
     "output_type": "stream",
     "text": [
      "\n",
      "100%|███████████████████████████████████████████| 79/79 [00:04<00:00, 17.45it/s]"
     ]
    },
    {
     "name": "stdout",
     "output_type": "stream",
     "text": [
      "07-14 21:11 [MainProcess, 16958] [INFO ]  valid Epoch:78, Train loss=0.1284, Valid loss=0.5598,Valid F1=0.5644,Valid ACC=0.8162\n",
      "07-14 21:11 [MainProcess, 16958] [INFO ]  Time used for each epoch training: 22.790675163269043 seconds.\n",
      "07-14 21:11 [MainProcess, 16958] [INFO ]  **************************************************\n"
     ]
    },
    {
     "name": "stderr",
     "output_type": "stream",
     "text": [
      "\n",
      "100%|███████████████████████████████████████████| 40/40 [00:18<00:00,  2.20it/s]"
     ]
    },
    {
     "name": "stdout",
     "output_type": "stream",
     "text": [
      "lr:  5.288242786788324e-07\n",
      "07-14 21:12 [MainProcess, 16958] [INFO ]  Iteration:79, train loss = 0.122347 ,train F1 = 0.893884 ,train ACC = 0.958531 \n"
     ]
    },
    {
     "name": "stderr",
     "output_type": "stream",
     "text": [
      "\n",
      "100%|███████████████████████████████████████████| 79/79 [00:05<00:00, 15.23it/s]"
     ]
    },
    {
     "name": "stdout",
     "output_type": "stream",
     "text": [
      "07-14 21:12 [MainProcess, 16958] [INFO ]  valid Epoch:79, Train loss=0.1223, Valid loss=0.5893,Valid F1=0.5683,Valid ACC=0.8542\n",
      "07-14 21:12 [MainProcess, 16958] [INFO ]  Time used for each epoch training: 23.373321533203125 seconds.\n",
      "07-14 21:12 [MainProcess, 16958] [INFO ]  **************************************************\n"
     ]
    },
    {
     "name": "stderr",
     "output_type": "stream",
     "text": [
      "\n",
      "100%|███████████████████████████████████████████| 40/40 [00:17<00:00,  2.24it/s]"
     ]
    },
    {
     "name": "stdout",
     "output_type": "stream",
     "text": [
      "lr:  4.812300935977375e-07\n",
      "07-14 21:12 [MainProcess, 16958] [INFO ]  Iteration:80, train loss = 0.118009 ,train F1 = 0.899986 ,train ACC = 0.960506 \n"
     ]
    },
    {
     "name": "stderr",
     "output_type": "stream",
     "text": [
      "\n",
      "100%|███████████████████████████████████████████| 79/79 [00:04<00:00, 16.70it/s]"
     ]
    },
    {
     "name": "stdout",
     "output_type": "stream",
     "text": [
      "07-14 21:12 [MainProcess, 16958] [INFO ]  valid Epoch:80, Train loss=0.1180, Valid loss=0.5607,Valid F1=0.5840,Valid ACC=0.8431\n",
      "07-14 21:12 [MainProcess, 16958] [INFO ]  Time used for each epoch training: 22.58993625640869 seconds.\n",
      "07-14 21:12 [MainProcess, 16958] [INFO ]  **************************************************\n"
     ]
    },
    {
     "name": "stderr",
     "output_type": "stream",
     "text": [
      "\n",
      "100%|███████████████████████████████████████████| 40/40 [00:17<00:00,  2.23it/s]"
     ]
    },
    {
     "name": "stdout",
     "output_type": "stream",
     "text": [
      "lr:  4.3791938517394117e-07\n",
      "07-14 21:13 [MainProcess, 16958] [INFO ]  Iteration:81, train loss = 0.126921 ,train F1 = 0.893494 ,train ACC = 0.955766 \n"
     ]
    },
    {
     "name": "stderr",
     "output_type": "stream",
     "text": [
      "\n",
      "100%|███████████████████████████████████████████| 79/79 [00:05<00:00, 15.44it/s]"
     ]
    },
    {
     "name": "stdout",
     "output_type": "stream",
     "text": [
      "07-14 21:13 [MainProcess, 16958] [INFO ]  valid Epoch:81, Train loss=0.1269, Valid loss=0.6329,Valid F1=0.5643,Valid ACC=0.8558\n",
      "07-14 21:13 [MainProcess, 16958] [INFO ]  Time used for each epoch training: 23.112539529800415 seconds.\n",
      "07-14 21:13 [MainProcess, 16958] [INFO ]  **************************************************\n"
     ]
    },
    {
     "name": "stderr",
     "output_type": "stream",
     "text": [
      "\n",
      "100%|███████████████████████████████████████████| 40/40 [00:17<00:00,  2.27it/s]"
     ]
    },
    {
     "name": "stdout",
     "output_type": "stream",
     "text": [
      "lr:  3.985066405082865e-07\n",
      "07-14 21:13 [MainProcess, 16958] [INFO ]  Iteration:82, train loss = 0.125688 ,train F1 = 0.882387 ,train ACC = 0.953791 \n"
     ]
    },
    {
     "name": "stderr",
     "output_type": "stream",
     "text": [
      "\n",
      "100%|███████████████████████████████████████████| 79/79 [00:04<00:00, 16.14it/s]"
     ]
    },
    {
     "name": "stdout",
     "output_type": "stream",
     "text": [
      "07-14 21:13 [MainProcess, 16958] [INFO ]  valid Epoch:82, Train loss=0.1257, Valid loss=0.6011,Valid F1=0.5879,Valid ACC=0.8431\n",
      "07-14 21:13 [MainProcess, 16958] [INFO ]  Time used for each epoch training: 22.538450956344604 seconds.\n",
      "07-14 21:13 [MainProcess, 16958] [INFO ]  **************************************************\n"
     ]
    },
    {
     "name": "stderr",
     "output_type": "stream",
     "text": [
      "\n",
      "100%|███████████████████████████████████████████| 40/40 [00:17<00:00,  2.32it/s]"
     ]
    },
    {
     "name": "stdout",
     "output_type": "stream",
     "text": [
      "lr:  3.6264104286254074e-07\n",
      "07-14 21:13 [MainProcess, 16958] [INFO ]  Iteration:83, train loss = 0.121070 ,train F1 = 0.889806 ,train ACC = 0.956556 \n"
     ]
    },
    {
     "name": "stderr",
     "output_type": "stream",
     "text": [
      "\n",
      "100%|███████████████████████████████████████████| 79/79 [00:04<00:00, 16.75it/s]"
     ]
    },
    {
     "name": "stdout",
     "output_type": "stream",
     "text": [
      "07-14 21:13 [MainProcess, 16958] [INFO ]  valid Epoch:83, Train loss=0.1211, Valid loss=0.6003,Valid F1=0.5924,Valid ACC=0.8479\n",
      "07-14 21:13 [MainProcess, 16958] [INFO ]  Time used for each epoch training: 21.99262309074402 seconds.\n",
      "07-14 21:13 [MainProcess, 16958] [INFO ]  **************************************************\n"
     ]
    },
    {
     "name": "stderr",
     "output_type": "stream",
     "text": [
      "\n",
      "100%|███████████████████████████████████████████| 40/40 [00:17<00:00,  2.23it/s]"
     ]
    },
    {
     "name": "stdout",
     "output_type": "stream",
     "text": [
      "lr:  3.300033490049121e-07\n",
      "07-14 21:14 [MainProcess, 16958] [INFO ]  Iteration:84, train loss = 0.122165 ,train F1 = 0.898089 ,train ACC = 0.961295 \n"
     ]
    },
    {
     "name": "stderr",
     "output_type": "stream",
     "text": [
      "\n",
      "100%|███████████████████████████████████████████| 79/79 [00:04<00:00, 16.41it/s]"
     ]
    },
    {
     "name": "stdout",
     "output_type": "stream",
     "text": [
      "07-14 21:14 [MainProcess, 16958] [INFO ]  valid Epoch:84, Train loss=0.1222, Valid loss=0.5325,Valid F1=0.5806,Valid ACC=0.8399\n",
      "07-14 21:14 [MainProcess, 16958] [INFO ]  Time used for each epoch training: 22.806792736053467 seconds.\n",
      "07-14 21:14 [MainProcess, 16958] [INFO ]  **************************************************\n"
     ]
    },
    {
     "name": "stderr",
     "output_type": "stream",
     "text": [
      "\n",
      "100%|███████████████████████████████████████████| 40/40 [00:17<00:00,  2.29it/s]"
     ]
    },
    {
     "name": "stdout",
     "output_type": "stream",
     "text": [
      "lr:  3.0030304759447e-07\n",
      "07-14 21:14 [MainProcess, 16958] [INFO ]  Iteration:85, train loss = 0.125637 ,train F1 = 0.895943 ,train ACC = 0.958531 \n"
     ]
    },
    {
     "name": "stderr",
     "output_type": "stream",
     "text": [
      "\n",
      "100%|███████████████████████████████████████████| 79/79 [00:04<00:00, 16.92it/s]"
     ]
    },
    {
     "name": "stdout",
     "output_type": "stream",
     "text": [
      "07-14 21:14 [MainProcess, 16958] [INFO ]  valid Epoch:85, Train loss=0.1256, Valid loss=0.5594,Valid F1=0.5735,Valid ACC=0.8558\n",
      "07-14 21:14 [MainProcess, 16958] [INFO ]  Time used for each epoch training: 22.137660264968872 seconds.\n",
      "07-14 21:14 [MainProcess, 16958] [INFO ]  **************************************************\n"
     ]
    },
    {
     "name": "stderr",
     "output_type": "stream",
     "text": [
      "\n",
      "100%|███████████████████████████████████████████| 40/40 [00:17<00:00,  2.23it/s]"
     ]
    },
    {
     "name": "stdout",
     "output_type": "stream",
     "text": [
      "lr:  2.732757733109677e-07\n",
      "07-14 21:14 [MainProcess, 16958] [INFO ]  Iteration:86, train loss = 0.127922 ,train F1 = 0.892552 ,train ACC = 0.954976 \n"
     ]
    },
    {
     "name": "stderr",
     "output_type": "stream",
     "text": [
      "\n",
      "100%|███████████████████████████████████████████| 79/79 [00:04<00:00, 17.19it/s]"
     ]
    },
    {
     "name": "stdout",
     "output_type": "stream",
     "text": [
      "07-14 21:15 [MainProcess, 16958] [INFO ]  valid Epoch:86, Train loss=0.1279, Valid loss=0.6186,Valid F1=0.5590,Valid ACC=0.8352\n",
      "07-14 21:15 [MainProcess, 16958] [INFO ]  Time used for each epoch training: 22.52795672416687 seconds.\n",
      "07-14 21:15 [MainProcess, 16958] [INFO ]  **************************************************\n"
     ]
    },
    {
     "name": "stderr",
     "output_type": "stream",
     "text": [
      "\n",
      "100%|███████████████████████████████████████████| 40/40 [00:17<00:00,  2.23it/s]"
     ]
    },
    {
     "name": "stdout",
     "output_type": "stream",
     "text": [
      "lr:  2.486809537129806e-07\n",
      "07-14 21:15 [MainProcess, 16958] [INFO ]  Iteration:87, train loss = 0.125586 ,train F1 = 0.892418 ,train ACC = 0.957741 \n"
     ]
    },
    {
     "name": "stderr",
     "output_type": "stream",
     "text": [
      "\n",
      "100%|███████████████████████████████████████████| 79/79 [00:04<00:00, 18.01it/s]"
     ]
    },
    {
     "name": "stdout",
     "output_type": "stream",
     "text": [
      "07-14 21:15 [MainProcess, 16958] [INFO ]  valid Epoch:87, Train loss=0.1256, Valid loss=0.5648,Valid F1=0.5753,Valid ACC=0.8431\n",
      "07-14 21:15 [MainProcess, 16958] [INFO ]  Time used for each epoch training: 22.323000192642212 seconds.\n",
      "07-14 21:15 [MainProcess, 16958] [INFO ]  **************************************************\n"
     ]
    },
    {
     "name": "stderr",
     "output_type": "stream",
     "text": [
      "\n",
      "100%|███████████████████████████████████████████| 40/40 [00:18<00:00,  2.19it/s]"
     ]
    },
    {
     "name": "stdout",
     "output_type": "stream",
     "text": [
      "lr:  2.2629966787881234e-07\n",
      "07-14 21:15 [MainProcess, 16958] [INFO ]  Iteration:88, train loss = 0.128723 ,train F1 = 0.889500 ,train ACC = 0.954976 \n"
     ]
    },
    {
     "name": "stderr",
     "output_type": "stream",
     "text": [
      "\n",
      "100%|███████████████████████████████████████████| 79/79 [00:04<00:00, 17.70it/s]"
     ]
    },
    {
     "name": "stdout",
     "output_type": "stream",
     "text": [
      "07-14 21:15 [MainProcess, 16958] [INFO ]  valid Epoch:88, Train loss=0.1287, Valid loss=0.6280,Valid F1=0.5521,Valid ACC=0.8384\n",
      "07-14 21:15 [MainProcess, 16958] [INFO ]  Time used for each epoch training: 22.721189975738525 seconds.\n",
      "07-14 21:15 [MainProcess, 16958] [INFO ]  **************************************************\n"
     ]
    },
    {
     "name": "stderr",
     "output_type": "stream",
     "text": [
      "\n",
      "100%|███████████████████████████████████████████| 40/40 [00:18<00:00,  2.21it/s]"
     ]
    },
    {
     "name": "stdout",
     "output_type": "stream",
     "text": [
      "lr:  2.0593269776971923e-07\n",
      "07-14 21:16 [MainProcess, 16958] [INFO ]  Iteration:89, train loss = 0.126512 ,train F1 = 0.887632 ,train ACC = 0.955766 \n"
     ]
    },
    {
     "name": "stderr",
     "output_type": "stream",
     "text": [
      "\n",
      "100%|███████████████████████████████████████████| 79/79 [00:05<00:00, 15.58it/s]"
     ]
    },
    {
     "name": "stdout",
     "output_type": "stream",
     "text": [
      "07-14 21:16 [MainProcess, 16958] [INFO ]  valid Epoch:89, Train loss=0.1265, Valid loss=0.5969,Valid F1=0.5830,Valid ACC=0.8399\n",
      "07-14 21:16 [MainProcess, 16958] [INFO ]  Time used for each epoch training: 23.189613342285156 seconds.\n",
      "07-14 21:16 [MainProcess, 16958] [INFO ]  **************************************************\n"
     ]
    },
    {
     "name": "stderr",
     "output_type": "stream",
     "text": [
      "\n",
      "100%|███████████████████████████████████████████| 40/40 [00:17<00:00,  2.32it/s]"
     ]
    },
    {
     "name": "stdout",
     "output_type": "stream",
     "text": [
      "lr:  1.873987549704445e-07\n",
      "07-14 21:16 [MainProcess, 16958] [INFO ]  Iteration:90, train loss = 0.126911 ,train F1 = 0.889101 ,train ACC = 0.955766 \n"
     ]
    },
    {
     "name": "stderr",
     "output_type": "stream",
     "text": [
      "\n",
      "100%|███████████████████████████████████████████| 79/79 [00:04<00:00, 16.67it/s]"
     ]
    },
    {
     "name": "stdout",
     "output_type": "stream",
     "text": [
      "07-14 21:16 [MainProcess, 16958] [INFO ]  valid Epoch:90, Train loss=0.1269, Valid loss=0.5481,Valid F1=0.5695,Valid ACC=0.8463\n",
      "07-14 21:16 [MainProcess, 16958] [INFO ]  Time used for each epoch training: 22.021233797073364 seconds.\n",
      "07-14 21:16 [MainProcess, 16958] [INFO ]  **************************************************\n"
     ]
    },
    {
     "name": "stderr",
     "output_type": "stream",
     "text": [
      "\n",
      "100%|███████████████████████████████████████████| 40/40 [00:17<00:00,  2.27it/s]"
     ]
    },
    {
     "name": "stdout",
     "output_type": "stream",
     "text": [
      "lr:  1.7053286702310452e-07\n",
      "07-14 21:16 [MainProcess, 16958] [INFO ]  Iteration:91, train loss = 0.128565 ,train F1 = 0.885484 ,train ACC = 0.954581 \n"
     ]
    },
    {
     "name": "stderr",
     "output_type": "stream",
     "text": [
      "\n",
      "100%|███████████████████████████████████████████| 79/79 [00:04<00:00, 16.75it/s]"
     ]
    },
    {
     "name": "stdout",
     "output_type": "stream",
     "text": [
      "07-14 21:16 [MainProcess, 16958] [INFO ]  valid Epoch:91, Train loss=0.1286, Valid loss=0.5305,Valid F1=0.5689,Valid ACC=0.8431\n",
      "07-14 21:16 [MainProcess, 16958] [INFO ]  Time used for each epoch training: 22.37013030052185 seconds.\n",
      "07-14 21:16 [MainProcess, 16958] [INFO ]  **************************************************\n"
     ]
    },
    {
     "name": "stderr",
     "output_type": "stream",
     "text": [
      "\n",
      "100%|███████████████████████████████████████████| 40/40 [00:17<00:00,  2.29it/s]"
     ]
    },
    {
     "name": "stdout",
     "output_type": "stream",
     "text": [
      "lr:  1.5518490899102511e-07\n",
      "07-14 21:17 [MainProcess, 16958] [INFO ]  Iteration:92, train loss = 0.126306 ,train F1 = 0.899041 ,train ACC = 0.959321 \n"
     ]
    },
    {
     "name": "stderr",
     "output_type": "stream",
     "text": [
      "\n",
      "100%|███████████████████████████████████████████| 79/79 [00:05<00:00, 15.57it/s]"
     ]
    },
    {
     "name": "stdout",
     "output_type": "stream",
     "text": [
      "07-14 21:17 [MainProcess, 16958] [INFO ]  valid Epoch:92, Train loss=0.1263, Valid loss=0.6494,Valid F1=0.5800,Valid ACC=0.8431\n"
     ]
    },
    {
     "name": "stderr",
     "output_type": "stream",
     "text": [
      "\n"
     ]
    },
    {
     "name": "stdout",
     "output_type": "stream",
     "text": [
      "07-14 21:17 [MainProcess, 16958] [INFO ]  Time used for each epoch training: 22.611250162124634 seconds.\n",
      "07-14 21:17 [MainProcess, 16958] [INFO ]  **************************************************\n"
     ]
    },
    {
     "name": "stderr",
     "output_type": "stream",
     "text": [
      "100%|███████████████████████████████████████████| 40/40 [00:17<00:00,  2.23it/s]"
     ]
    },
    {
     "name": "stdout",
     "output_type": "stream",
     "text": [
      "lr:  1.4121826718183286e-07\n",
      "07-14 21:17 [MainProcess, 16958] [INFO ]  Iteration:93, train loss = 0.117356 ,train F1 = 0.899341 ,train ACC = 0.960111 \n"
     ]
    },
    {
     "name": "stderr",
     "output_type": "stream",
     "text": [
      "\n",
      "100%|███████████████████████████████████████████| 79/79 [00:05<00:00, 15.70it/s]"
     ]
    },
    {
     "name": "stdout",
     "output_type": "stream",
     "text": [
      "07-14 21:17 [MainProcess, 16958] [INFO ]  valid Epoch:93, Train loss=0.1174, Valid loss=0.5209,Valid F1=0.5857,Valid ACC=0.8637\n",
      "07-14 21:17 [MainProcess, 16958] [INFO ]  Time used for each epoch training: 23.023127794265747 seconds.\n",
      "07-14 21:17 [MainProcess, 16958] [INFO ]  **************************************************\n"
     ]
    },
    {
     "name": "stderr",
     "output_type": "stream",
     "text": [
      "\n",
      "100%|███████████████████████████████████████████| 40/40 [00:17<00:00,  2.33it/s]"
     ]
    },
    {
     "name": "stdout",
     "output_type": "stream",
     "text": [
      "lr:  1.285086231354679e-07\n",
      "07-14 21:17 [MainProcess, 16958] [INFO ]  Iteration:94, train loss = 0.133183 ,train F1 = 0.872001 ,train ACC = 0.951027 \n"
     ]
    },
    {
     "name": "stderr",
     "output_type": "stream",
     "text": [
      "\n",
      "100%|███████████████████████████████████████████| 79/79 [00:04<00:00, 16.38it/s]"
     ]
    },
    {
     "name": "stdout",
     "output_type": "stream",
     "text": [
      "07-14 21:18 [MainProcess, 16958] [INFO ]  valid Epoch:94, Train loss=0.1332, Valid loss=0.5450,Valid F1=0.5704,Valid ACC=0.8510\n",
      "07-14 21:18 [MainProcess, 16958] [INFO ]  Time used for each epoch training: 22.014987230300903 seconds.\n",
      "07-14 21:18 [MainProcess, 16958] [INFO ]  **************************************************\n"
     ]
    },
    {
     "name": "stderr",
     "output_type": "stream",
     "text": [
      "\n",
      "100%|███████████████████████████████████████████| 40/40 [00:18<00:00,  2.16it/s]"
     ]
    },
    {
     "name": "stdout",
     "output_type": "stream",
     "text": [
      "lr:  1.169428470532758e-07\n",
      "07-14 21:18 [MainProcess, 16958] [INFO ]  Iteration:95, train loss = 0.118507 ,train F1 = 0.898117 ,train ACC = 0.957346 \n"
     ]
    },
    {
     "name": "stderr",
     "output_type": "stream",
     "text": [
      "\n",
      "100%|███████████████████████████████████████████| 79/79 [00:04<00:00, 16.31it/s]"
     ]
    },
    {
     "name": "stdout",
     "output_type": "stream",
     "text": [
      "07-14 21:18 [MainProcess, 16958] [INFO ]  valid Epoch:95, Train loss=0.1185, Valid loss=0.5896,Valid F1=0.5677,Valid ACC=0.8542\n",
      "07-14 21:18 [MainProcess, 16958] [INFO ]  Time used for each epoch training: 23.369836807250977 seconds.\n",
      "07-14 21:18 [MainProcess, 16958] [INFO ]  **************************************************\n"
     ]
    },
    {
     "name": "stderr",
     "output_type": "stream",
     "text": [
      "\n",
      "100%|███████████████████████████████████████████| 40/40 [00:16<00:00,  2.37it/s]"
     ]
    },
    {
     "name": "stdout",
     "output_type": "stream",
     "text": [
      "lr:  1.0641799081848097e-07\n",
      "07-14 21:18 [MainProcess, 16958] [INFO ]  Iteration:96, train loss = 0.120644 ,train F1 = 0.907238 ,train ACC = 0.964455 \n"
     ]
    },
    {
     "name": "stderr",
     "output_type": "stream",
     "text": [
      "\n",
      "100%|███████████████████████████████████████████| 79/79 [00:04<00:00, 16.67it/s]"
     ]
    },
    {
     "name": "stdout",
     "output_type": "stream",
     "text": [
      "07-14 21:18 [MainProcess, 16958] [INFO ]  valid Epoch:96, Train loss=0.1206, Valid loss=0.6044,Valid F1=0.5417,Valid ACC=0.8130\n",
      "07-14 21:18 [MainProcess, 16958] [INFO ]  Time used for each epoch training: 21.62506651878357 seconds.\n",
      "07-14 21:18 [MainProcess, 16958] [INFO ]  **************************************************\n"
     ]
    },
    {
     "name": "stderr",
     "output_type": "stream",
     "text": [
      "\n",
      "100%|███████████████████████████████████████████| 40/40 [00:18<00:00,  2.21it/s]"
     ]
    },
    {
     "name": "stdout",
     "output_type": "stream",
     "text": [
      "lr:  9.684037164481768e-08\n",
      "07-14 21:19 [MainProcess, 16958] [INFO ]  Iteration:97, train loss = 0.119694 ,train F1 = 0.902018 ,train ACC = 0.960506 \n"
     ]
    },
    {
     "name": "stderr",
     "output_type": "stream",
     "text": [
      "\n",
      "100%|███████████████████████████████████████████| 79/79 [00:04<00:00, 16.59it/s]"
     ]
    },
    {
     "name": "stdout",
     "output_type": "stream",
     "text": [
      "07-14 21:19 [MainProcess, 16958] [INFO ]  valid Epoch:97, Train loss=0.1197, Valid loss=0.5567,Valid F1=0.6089,Valid ACC=0.8304\n",
      "07-14 21:19 [MainProcess, 16958] [INFO ]  Time used for each epoch training: 22.929580688476562 seconds.\n",
      "07-14 21:19 [MainProcess, 16958] [INFO ]  **************************************************\n"
     ]
    },
    {
     "name": "stderr",
     "output_type": "stream",
     "text": [
      "\n",
      "100%|███████████████████████████████████████████| 40/40 [00:17<00:00,  2.29it/s]"
     ]
    },
    {
     "name": "stdout",
     "output_type": "stream",
     "text": [
      "lr:  8.812473819678409e-08\n",
      "07-14 21:19 [MainProcess, 16958] [INFO ]  Iteration:98, train loss = 0.117802 ,train F1 = 0.906604 ,train ACC = 0.964455 \n"
     ]
    },
    {
     "name": "stderr",
     "output_type": "stream",
     "text": [
      "\n",
      "100%|███████████████████████████████████████████| 79/79 [00:04<00:00, 17.14it/s]"
     ]
    },
    {
     "name": "stdout",
     "output_type": "stream",
     "text": [
      "07-14 21:19 [MainProcess, 16958] [INFO ]  valid Epoch:98, Train loss=0.1178, Valid loss=0.5487,Valid F1=0.6082,Valid ACC=0.8368\n",
      "07-14 21:19 [MainProcess, 16958] [INFO ]  Time used for each epoch training: 22.140817642211914 seconds.\n",
      "07-14 21:19 [MainProcess, 16958] [INFO ]  **************************************************\n"
     ]
    },
    {
     "name": "stderr",
     "output_type": "stream",
     "text": [
      "\n",
      "100%|███████████████████████████████████████████| 40/40 [00:17<00:00,  2.26it/s]"
     ]
    },
    {
     "name": "stdout",
     "output_type": "stream",
     "text": [
      "lr:  8.019351175907352e-08\n",
      "07-14 21:19 [MainProcess, 16958] [INFO ]  Iteration:99, train loss = 0.124740 ,train F1 = 0.890031 ,train ACC = 0.957346 \n"
     ]
    },
    {
     "name": "stderr",
     "output_type": "stream",
     "text": [
      "\n",
      "100%|███████████████████████████████████████████| 79/79 [00:04<00:00, 16.64it/s]"
     ]
    },
    {
     "name": "stdout",
     "output_type": "stream",
     "text": [
      "07-14 21:19 [MainProcess, 16958] [INFO ]  valid Epoch:99, Train loss=0.1247, Valid loss=0.5279,Valid F1=0.5977,Valid ACC=0.8653\n",
      "07-14 21:19 [MainProcess, 16958] [INFO ]  Time used for each epoch training: 22.518429040908813 seconds.\n",
      "07-14 21:19 [MainProcess, 16958] [INFO ]  **************************************************\n"
     ]
    },
    {
     "name": "stderr",
     "output_type": "stream",
     "text": [
      "\n",
      "100%|███████████████████████████████████████████| 40/40 [00:17<00:00,  2.23it/s]"
     ]
    },
    {
     "name": "stdout",
     "output_type": "stream",
     "text": [
      "lr:  7.297609570075691e-08\n",
      "07-14 21:20 [MainProcess, 16958] [INFO ]  Iteration:100, train loss = 0.126051 ,train F1 = 0.883911 ,train ACC = 0.954976 \n"
     ]
    },
    {
     "name": "stderr",
     "output_type": "stream",
     "text": [
      "\n",
      "100%|███████████████████████████████████████████| 79/79 [00:04<00:00, 16.22it/s]"
     ]
    },
    {
     "name": "stdout",
     "output_type": "stream",
     "text": [
      "07-14 21:20 [MainProcess, 16958] [INFO ]  valid Epoch:100, Train loss=0.1261, Valid loss=0.5537,Valid F1=0.5775,Valid ACC=0.8574\n",
      "07-14 21:20 [MainProcess, 16958] [INFO ]  Time used for each epoch training: 22.810856580734253 seconds.\n",
      "07-14 21:20 [MainProcess, 16958] [INFO ]  **************************************************\n"
     ]
    },
    {
     "name": "stderr",
     "output_type": "stream",
     "text": [
      "\n",
      "100%|███████████████████████████████████████████| 40/40 [00:16<00:00,  2.37it/s]"
     ]
    },
    {
     "name": "stdout",
     "output_type": "stream",
     "text": [
      "lr:  6.64082470876888e-08\n",
      "07-14 21:20 [MainProcess, 16958] [INFO ]  Iteration:101, train loss = 0.131202 ,train F1 = 0.896473 ,train ACC = 0.954976 \n"
     ]
    },
    {
     "name": "stderr",
     "output_type": "stream",
     "text": [
      "\n",
      "100%|███████████████████████████████████████████| 79/79 [00:04<00:00, 16.92it/s]"
     ]
    },
    {
     "name": "stdout",
     "output_type": "stream",
     "text": [
      "07-14 21:20 [MainProcess, 16958] [INFO ]  valid Epoch:101, Train loss=0.1312, Valid loss=0.5849,Valid F1=0.5835,Valid ACC=0.8526\n",
      "07-14 21:20 [MainProcess, 16958] [INFO ]  Time used for each epoch training: 21.563281536102295 seconds.\n",
      "07-14 21:20 [MainProcess, 16958] [INFO ]  **************************************************\n"
     ]
    },
    {
     "name": "stderr",
     "output_type": "stream",
     "text": [
      "\n",
      "100%|███████████████████████████████████████████| 40/40 [00:17<00:00,  2.26it/s]"
     ]
    },
    {
     "name": "stdout",
     "output_type": "stream",
     "text": [
      "lr:  6.043150484979681e-08\n",
      "07-14 21:20 [MainProcess, 16958] [INFO ]  Iteration:102, train loss = 0.127717 ,train F1 = 0.900479 ,train ACC = 0.961295 \n"
     ]
    },
    {
     "name": "stderr",
     "output_type": "stream",
     "text": [
      "\n",
      "100%|███████████████████████████████████████████| 79/79 [00:04<00:00, 16.70it/s]"
     ]
    },
    {
     "name": "stdout",
     "output_type": "stream",
     "text": [
      "07-14 21:20 [MainProcess, 16958] [INFO ]  valid Epoch:102, Train loss=0.1277, Valid loss=0.5448,Valid F1=0.6154,Valid ACC=0.8542\n",
      "07-14 21:20 [MainProcess, 16958] [INFO ]  Time used for each epoch training: 22.405850410461426 seconds.\n",
      "07-14 21:20 [MainProcess, 16958] [INFO ]  **************************************************\n"
     ]
    },
    {
     "name": "stderr",
     "output_type": "stream",
     "text": [
      "\n",
      "100%|███████████████████████████████████████████| 40/40 [00:17<00:00,  2.29it/s]"
     ]
    },
    {
     "name": "stdout",
     "output_type": "stream",
     "text": [
      "lr:  5.49926694133151e-08\n",
      "07-14 21:21 [MainProcess, 16958] [INFO ]  Iteration:103, train loss = 0.123836 ,train F1 = 0.884954 ,train ACC = 0.953396 \n"
     ]
    },
    {
     "name": "stderr",
     "output_type": "stream",
     "text": [
      "\n",
      "100%|███████████████████████████████████████████| 79/79 [00:05<00:00, 15.78it/s]"
     ]
    },
    {
     "name": "stdout",
     "output_type": "stream",
     "text": [
      "07-14 21:21 [MainProcess, 16958] [INFO ]  valid Epoch:103, Train loss=0.1238, Valid loss=0.6022,Valid F1=0.5809,Valid ACC=0.8479\n",
      "07-14 21:21 [MainProcess, 16958] [INFO ]  Time used for each epoch training: 22.523799896240234 seconds.\n",
      "07-14 21:21 [MainProcess, 16958] [INFO ]  **************************************************\n"
     ]
    },
    {
     "name": "stderr",
     "output_type": "stream",
     "text": [
      "\n",
      "100%|███████████████████████████████████████████| 40/40 [00:17<00:00,  2.28it/s]"
     ]
    },
    {
     "name": "stdout",
     "output_type": "stream",
     "text": [
      "lr:  5.004332916611674e-08\n",
      "07-14 21:21 [MainProcess, 16958] [INFO ]  Iteration:104, train loss = 0.125043 ,train F1 = 0.894993 ,train ACC = 0.955371 \n"
     ]
    },
    {
     "name": "stderr",
     "output_type": "stream",
     "text": [
      "\n",
      "100%|███████████████████████████████████████████| 79/79 [00:04<00:00, 15.89it/s]"
     ]
    },
    {
     "name": "stdout",
     "output_type": "stream",
     "text": [
      "07-14 21:21 [MainProcess, 16958] [INFO ]  valid Epoch:104, Train loss=0.1250, Valid loss=0.5980,Valid F1=0.6489,Valid ACC=0.8399\n",
      "07-14 21:21 [MainProcess, 16958] [INFO ]  Time used for each epoch training: 22.539928436279297 seconds.\n",
      "07-14 21:21 [MainProcess, 16958] [INFO ]  **************************************************\n"
     ]
    },
    {
     "name": "stderr",
     "output_type": "stream",
     "text": [
      "\n",
      "100%|███████████████████████████████████████████| 40/40 [00:15<00:00,  2.56it/s]"
     ]
    },
    {
     "name": "stdout",
     "output_type": "stream",
     "text": [
      "lr:  4.5539429541166236e-08\n",
      "07-14 21:22 [MainProcess, 16958] [INFO ]  Iteration:105, train loss = 0.117690 ,train F1 = 0.898956 ,train ACC = 0.960506 \n"
     ]
    },
    {
     "name": "stderr",
     "output_type": "stream",
     "text": [
      "\n",
      "100%|███████████████████████████████████████████| 79/79 [00:04<00:00, 16.38it/s]"
     ]
    },
    {
     "name": "stdout",
     "output_type": "stream",
     "text": [
      "07-14 21:22 [MainProcess, 16958] [INFO ]  valid Epoch:105, Train loss=0.1177, Valid loss=0.5920,Valid F1=0.5852,Valid ACC=0.8574\n",
      "07-14 21:22 [MainProcess, 16958] [INFO ]  Time used for each epoch training: 20.445995092391968 seconds.\n",
      "07-14 21:22 [MainProcess, 16958] [INFO ]  **************************************************\n"
     ]
    },
    {
     "name": "stderr",
     "output_type": "stream",
     "text": [
      "\n",
      "100%|███████████████████████████████████████████| 40/40 [00:16<00:00,  2.40it/s]"
     ]
    },
    {
     "name": "stdout",
     "output_type": "stream",
     "text": [
      "lr:  4.1440880882461273e-08\n",
      "07-14 21:22 [MainProcess, 16958] [INFO ]  Iteration:106, train loss = 0.124794 ,train F1 = 0.889133 ,train ACC = 0.957346 \n"
     ]
    },
    {
     "name": "stderr",
     "output_type": "stream",
     "text": [
      "\n",
      "100%|███████████████████████████████████████████| 79/79 [00:04<00:00, 16.41it/s]"
     ]
    },
    {
     "name": "stdout",
     "output_type": "stream",
     "text": [
      "07-14 21:22 [MainProcess, 16958] [INFO ]  valid Epoch:106, Train loss=0.1248, Valid loss=0.5275,Valid F1=0.6067,Valid ACC=0.8304\n",
      "07-14 21:22 [MainProcess, 16958] [INFO ]  Time used for each epoch training: 21.499945640563965 seconds.\n",
      "07-14 21:22 [MainProcess, 16958] [INFO ]  **************************************************\n"
     ]
    },
    {
     "name": "stderr",
     "output_type": "stream",
     "text": [
      "\n",
      "100%|███████████████████████████████████████████| 40/40 [00:18<00:00,  2.19it/s]"
     ]
    },
    {
     "name": "stdout",
     "output_type": "stream",
     "text": [
      "lr:  3.771120160303976e-08\n",
      "07-14 21:22 [MainProcess, 16958] [INFO ]  Iteration:107, train loss = 0.127219 ,train F1 = 0.890129 ,train ACC = 0.958136 \n"
     ]
    },
    {
     "name": "stderr",
     "output_type": "stream",
     "text": [
      "\n",
      "100%|███████████████████████████████████████████| 79/79 [00:04<00:00, 16.02it/s]"
     ]
    },
    {
     "name": "stdout",
     "output_type": "stream",
     "text": [
      "07-14 21:22 [MainProcess, 16958] [INFO ]  valid Epoch:107, Train loss=0.1272, Valid loss=0.5616,Valid F1=0.5890,Valid ACC=0.8542\n",
      "07-14 21:22 [MainProcess, 16958] [INFO ]  Time used for each epoch training: 23.20757555961609 seconds.\n",
      "07-14 21:22 [MainProcess, 16958] [INFO ]  **************************************************\n"
     ]
    },
    {
     "name": "stderr",
     "output_type": "stream",
     "text": [
      "\n",
      "100%|███████████████████████████████████████████| 40/40 [00:17<00:00,  2.34it/s]"
     ]
    },
    {
     "name": "stdout",
     "output_type": "stream",
     "text": [
      "lr:  3.431719345876618e-08\n",
      "07-14 21:23 [MainProcess, 16958] [INFO ]  Iteration:108, train loss = 0.120462 ,train F1 = 0.889038 ,train ACC = 0.958926 \n"
     ]
    },
    {
     "name": "stderr",
     "output_type": "stream",
     "text": [
      "\n",
      "100%|███████████████████████████████████████████| 79/79 [00:04<00:00, 16.98it/s]"
     ]
    },
    {
     "name": "stdout",
     "output_type": "stream",
     "text": [
      "07-14 21:23 [MainProcess, 16958] [INFO ]  valid Epoch:108, Train loss=0.1205, Valid loss=0.5945,Valid F1=0.5606,Valid ACC=0.8510\n",
      "07-14 21:23 [MainProcess, 16958] [INFO ]  Time used for each epoch training: 21.797797918319702 seconds.\n",
      "07-14 21:23 [MainProcess, 16958] [INFO ]  **************************************************\n"
     ]
    },
    {
     "name": "stderr",
     "output_type": "stream",
     "text": [
      "\n",
      "100%|███████████████████████████████████████████| 40/40 [00:17<00:00,  2.30it/s]"
     ]
    },
    {
     "name": "stdout",
     "output_type": "stream",
     "text": [
      "lr:  3.122864604747722e-08\n",
      "07-14 21:23 [MainProcess, 16958] [INFO ]  Iteration:109, train loss = 0.133797 ,train F1 = 0.900616 ,train ACC = 0.956951 \n"
     ]
    },
    {
     "name": "stderr",
     "output_type": "stream",
     "text": [
      "\n",
      "100%|███████████████████████████████████████████| 79/79 [00:04<00:00, 16.55it/s]"
     ]
    },
    {
     "name": "stdout",
     "output_type": "stream",
     "text": [
      "07-14 21:23 [MainProcess, 16958] [INFO ]  valid Epoch:109, Train loss=0.1338, Valid loss=0.5802,Valid F1=0.6129,Valid ACC=0.8463\n",
      "07-14 21:23 [MainProcess, 16958] [INFO ]  Time used for each epoch training: 22.203575372695923 seconds.\n",
      "07-14 21:23 [MainProcess, 16958] [INFO ]  **************************************************\n"
     ]
    },
    {
     "name": "stderr",
     "output_type": "stream",
     "text": [
      "\n",
      "100%|███████████████████████████████████████████| 40/40 [00:17<00:00,  2.26it/s]"
     ]
    },
    {
     "name": "stdout",
     "output_type": "stream",
     "text": [
      "lr:  2.8418067903204273e-08\n",
      "07-14 21:23 [MainProcess, 16958] [INFO ]  Iteration:110, train loss = 0.122856 ,train F1 = 0.898797 ,train ACC = 0.958136 \n"
     ]
    },
    {
     "name": "stderr",
     "output_type": "stream",
     "text": [
      "\n",
      "100%|███████████████████████████████████████████| 79/79 [00:04<00:00, 16.88it/s]"
     ]
    },
    {
     "name": "stdout",
     "output_type": "stream",
     "text": [
      "07-14 21:23 [MainProcess, 16958] [INFO ]  valid Epoch:110, Train loss=0.1229, Valid loss=0.7024,Valid F1=0.6037,Valid ACC=0.8114\n",
      "07-14 21:23 [MainProcess, 16958] [INFO ]  Time used for each epoch training: 22.429550647735596 seconds.\n",
      "07-14 21:23 [MainProcess, 16958] [INFO ]  **************************************************\n"
     ]
    },
    {
     "name": "stderr",
     "output_type": "stream",
     "text": [
      "\n",
      "100%|███████████████████████████████████████████| 40/40 [00:17<00:00,  2.27it/s]"
     ]
    },
    {
     "name": "stdout",
     "output_type": "stream",
     "text": [
      "lr:  2.5860441791915888e-08\n",
      "07-14 21:24 [MainProcess, 16958] [INFO ]  Iteration:111, train loss = 0.124884 ,train F1 = 0.888704 ,train ACC = 0.954186 \n"
     ]
    },
    {
     "name": "stderr",
     "output_type": "stream",
     "text": [
      "\n",
      "100%|███████████████████████████████████████████| 79/79 [00:04<00:00, 17.05it/s]"
     ]
    },
    {
     "name": "stdout",
     "output_type": "stream",
     "text": [
      "07-14 21:24 [MainProcess, 16958] [INFO ]  valid Epoch:111, Train loss=0.1249, Valid loss=0.5724,Valid F1=0.5679,Valid ACC=0.8463\n",
      "07-14 21:24 [MainProcess, 16958] [INFO ]  Time used for each epoch training: 22.30424952507019 seconds.\n",
      "07-14 21:24 [MainProcess, 16958] [INFO ]  **************************************************\n"
     ]
    },
    {
     "name": "stderr",
     "output_type": "stream",
     "text": [
      "\n",
      "100%|███████████████████████████████████████████| 40/40 [00:17<00:00,  2.28it/s]"
     ]
    },
    {
     "name": "stdout",
     "output_type": "stream",
     "text": [
      "lr:  2.353300203064346e-08\n",
      "07-14 21:24 [MainProcess, 16958] [INFO ]  Iteration:112, train loss = 0.126794 ,train F1 = 0.903082 ,train ACC = 0.960506 \n"
     ]
    },
    {
     "name": "stderr",
     "output_type": "stream",
     "text": [
      "\n",
      "100%|███████████████████████████████████████████| 79/79 [00:04<00:00, 17.13it/s]"
     ]
    },
    {
     "name": "stdout",
     "output_type": "stream",
     "text": [
      "07-14 21:24 [MainProcess, 16958] [INFO ]  valid Epoch:112, Train loss=0.1268, Valid loss=0.5650,Valid F1=0.6226,Valid ACC=0.8558\n",
      "07-14 21:24 [MainProcess, 16958] [INFO ]  Time used for each epoch training: 22.182781457901 seconds.\n",
      "07-14 21:24 [MainProcess, 16958] [INFO ]  **************************************************\n"
     ]
    },
    {
     "name": "stderr",
     "output_type": "stream",
     "text": [
      "\n",
      "100%|███████████████████████████████████████████| 40/40 [00:17<00:00,  2.35it/s]"
     ]
    },
    {
     "name": "stdout",
     "output_type": "stream",
     "text": [
      "lr:  2.141503184788555e-08\n",
      "07-14 21:24 [MainProcess, 16958] [INFO ]  Iteration:113, train loss = 0.127376 ,train F1 = 0.894477 ,train ACC = 0.958531 \n"
     ]
    },
    {
     "name": "stderr",
     "output_type": "stream",
     "text": [
      "\n",
      "100%|███████████████████████████████████████████| 79/79 [00:04<00:00, 16.66it/s]"
     ]
    },
    {
     "name": "stdout",
     "output_type": "stream",
     "text": [
      "07-14 21:25 [MainProcess, 16958] [INFO ]  valid Epoch:113, Train loss=0.1274, Valid loss=0.5382,Valid F1=0.5904,Valid ACC=0.8590\n",
      "07-14 21:25 [MainProcess, 16958] [INFO ]  Time used for each epoch training: 21.79966378211975 seconds.\n",
      "07-14 21:25 [MainProcess, 16958] [INFO ]  **************************************************\n"
     ]
    },
    {
     "name": "stderr",
     "output_type": "stream",
     "text": [
      "\n",
      "100%|███████████████████████████████████████████| 40/40 [00:18<00:00,  2.22it/s]"
     ]
    },
    {
     "name": "stdout",
     "output_type": "stream",
     "text": [
      "lr:  1.948767898157585e-08\n",
      "07-14 21:25 [MainProcess, 16958] [INFO ]  Iteration:114, train loss = 0.119669 ,train F1 = 0.914140 ,train ACC = 0.961690 \n"
     ]
    },
    {
     "name": "stderr",
     "output_type": "stream",
     "text": [
      "\n",
      "100%|███████████████████████████████████████████| 79/79 [00:04<00:00, 17.00it/s]"
     ]
    },
    {
     "name": "stdout",
     "output_type": "stream",
     "text": [
      "07-14 21:25 [MainProcess, 16958] [INFO ]  valid Epoch:114, Train loss=0.1197, Valid loss=0.5606,Valid F1=0.5958,Valid ACC=0.8621\n",
      "07-14 21:25 [MainProcess, 16958] [INFO ]  Time used for each epoch training: 22.709819078445435 seconds.\n",
      "07-14 21:25 [MainProcess, 16958] [INFO ]  **************************************************\n"
     ]
    },
    {
     "name": "stderr",
     "output_type": "stream",
     "text": [
      "\n",
      "100%|███████████████████████████████████████████| 40/40 [00:18<00:00,  2.21it/s]"
     ]
    },
    {
     "name": "stdout",
     "output_type": "stream",
     "text": [
      "lr:  1.7733787873234026e-08\n",
      "07-14 21:25 [MainProcess, 16958] [INFO ]  Iteration:115, train loss = 0.126296 ,train F1 = 0.890850 ,train ACC = 0.957346 \n"
     ]
    },
    {
     "name": "stderr",
     "output_type": "stream",
     "text": [
      "\n",
      "100%|███████████████████████████████████████████| 79/79 [00:04<00:00, 16.88it/s]"
     ]
    },
    {
     "name": "stdout",
     "output_type": "stream",
     "text": [
      "07-14 21:25 [MainProcess, 16958] [INFO ]  valid Epoch:115, Train loss=0.1263, Valid loss=0.5681,Valid F1=0.5738,Valid ACC=0.8384\n",
      "07-14 21:25 [MainProcess, 16958] [INFO ]  Time used for each epoch training: 22.829068899154663 seconds.\n",
      "07-14 21:25 [MainProcess, 16958] [INFO ]  **************************************************\n"
     ]
    },
    {
     "name": "stderr",
     "output_type": "stream",
     "text": [
      "\n",
      "100%|███████████████████████████████████████████| 40/40 [00:18<00:00,  2.19it/s]"
     ]
    },
    {
     "name": "stdout",
     "output_type": "stream",
     "text": [
      "lr:  1.6137746964642963e-08\n",
      "07-14 21:26 [MainProcess, 16958] [INFO ]  Iteration:116, train loss = 0.124740 ,train F1 = 0.898465 ,train ACC = 0.958926 \n"
     ]
    },
    {
     "name": "stderr",
     "output_type": "stream",
     "text": [
      "\n",
      "100%|███████████████████████████████████████████| 79/79 [00:04<00:00, 15.94it/s]"
     ]
    },
    {
     "name": "stdout",
     "output_type": "stream",
     "text": [
      "07-14 21:26 [MainProcess, 16958] [INFO ]  valid Epoch:116, Train loss=0.1247, Valid loss=0.5562,Valid F1=0.6029,Valid ACC=0.8526\n",
      "07-14 21:26 [MainProcess, 16958] [INFO ]  Time used for each epoch training: 23.20388126373291 seconds.\n",
      "07-14 21:26 [MainProcess, 16958] [INFO ]  **************************************************\n"
     ]
    },
    {
     "name": "stderr",
     "output_type": "stream",
     "text": [
      "\n",
      "100%|███████████████████████████████████████████| 40/40 [00:18<00:00,  2.22it/s]"
     ]
    },
    {
     "name": "stdout",
     "output_type": "stream",
     "text": [
      "lr:  1.4685349737825096e-08\n",
      "07-14 21:26 [MainProcess, 16958] [INFO ]  Iteration:117, train loss = 0.126678 ,train F1 = 0.890214 ,train ACC = 0.957741 \n"
     ]
    },
    {
     "name": "stderr",
     "output_type": "stream",
     "text": [
      "\n",
      "100%|███████████████████████████████████████████| 79/79 [00:05<00:00, 14.54it/s]"
     ]
    },
    {
     "name": "stdout",
     "output_type": "stream",
     "text": [
      "07-14 21:26 [MainProcess, 16958] [INFO ]  valid Epoch:117, Train loss=0.1267, Valid loss=0.5915,Valid F1=0.5778,Valid ACC=0.8399\n",
      "07-14 21:26 [MainProcess, 16958] [INFO ]  Time used for each epoch training: 23.449644804000854 seconds.\n",
      "07-14 21:26 [MainProcess, 16958] [INFO ]  **************************************************\n"
     ]
    },
    {
     "name": "stderr",
     "output_type": "stream",
     "text": [
      "\n",
      "100%|███████████████████████████████████████████| 40/40 [00:17<00:00,  2.30it/s]"
     ]
    },
    {
     "name": "stdout",
     "output_type": "stream",
     "text": [
      "lr:  1.3363668261420837e-08\n",
      "07-14 21:26 [MainProcess, 16958] [INFO ]  Iteration:118, train loss = 0.123895 ,train F1 = 0.897416 ,train ACC = 0.958531 \n"
     ]
    },
    {
     "name": "stderr",
     "output_type": "stream",
     "text": [
      "\n",
      "100%|███████████████████████████████████████████| 79/79 [00:04<00:00, 16.25it/s]"
     ]
    },
    {
     "name": "stdout",
     "output_type": "stream",
     "text": [
      "07-14 21:26 [MainProcess, 16958] [INFO ]  valid Epoch:118, Train loss=0.1239, Valid loss=0.5869,Valid F1=0.6006,Valid ACC=0.8431\n",
      "07-14 21:26 [MainProcess, 16958] [INFO ]  Time used for each epoch training: 22.30547833442688 seconds.\n",
      "07-14 21:26 [MainProcess, 16958] [INFO ]  **************************************************\n"
     ]
    },
    {
     "name": "stderr",
     "output_type": "stream",
     "text": [
      "\n",
      "100%|███████████████████████████████████████████| 40/40 [00:17<00:00,  2.27it/s]"
     ]
    },
    {
     "name": "stdout",
     "output_type": "stream",
     "text": [
      "lr:  1.2160938117892963e-08\n",
      "07-14 21:27 [MainProcess, 16958] [INFO ]  Iteration:119, train loss = 0.127190 ,train F1 = 0.890998 ,train ACC = 0.954976 \n"
     ]
    },
    {
     "name": "stderr",
     "output_type": "stream",
     "text": [
      "\n",
      "100%|███████████████████████████████████████████| 79/79 [00:04<00:00, 16.38it/s]"
     ]
    },
    {
     "name": "stdout",
     "output_type": "stream",
     "text": [
      "07-14 21:27 [MainProcess, 16958] [INFO ]  valid Epoch:119, Train loss=0.1272, Valid loss=0.6676,Valid F1=0.5559,Valid ACC=0.8415\n",
      "07-14 21:27 [MainProcess, 16958] [INFO ]  Time used for each epoch training: 22.458272695541382 seconds.\n",
      "07-14 21:27 [MainProcess, 16958] [INFO ]  **************************************************\n"
     ]
    },
    {
     "name": "stderr",
     "output_type": "stream",
     "text": [
      "\n",
      "100%|███████████████████████████████████████████| 40/40 [00:17<00:00,  2.24it/s]"
     ]
    },
    {
     "name": "stdout",
     "output_type": "stream",
     "text": [
      "lr:  1.1066453687282596e-08\n",
      "07-14 21:27 [MainProcess, 16958] [INFO ]  Iteration:120, train loss = 0.135383 ,train F1 = 0.888643 ,train ACC = 0.955766 \n"
     ]
    },
    {
     "name": "stderr",
     "output_type": "stream",
     "text": [
      "\n",
      "100%|███████████████████████████████████████████| 79/79 [00:05<00:00, 15.67it/s]"
     ]
    },
    {
     "name": "stdout",
     "output_type": "stream",
     "text": [
      "07-14 21:27 [MainProcess, 16958] [INFO ]  valid Epoch:120, Train loss=0.1354, Valid loss=0.5750,Valid F1=0.5690,Valid ACC=0.8526\n",
      "07-14 21:27 [MainProcess, 16958] [INFO ]  Time used for each epoch training: 22.92830753326416 seconds.\n",
      "07-14 21:27 [MainProcess, 16958] [INFO ]  **************************************************\n"
     ]
    },
    {
     "name": "stderr",
     "output_type": "stream",
     "text": [
      "\n",
      "100%|███████████████████████████████████████████| 40/40 [00:17<00:00,  2.35it/s]"
     ]
    },
    {
     "name": "stdout",
     "output_type": "stream",
     "text": [
      "lr:  1.0070472855427163e-08\n",
      "07-14 21:27 [MainProcess, 16958] [INFO ]  Iteration:121, train loss = 0.121628 ,train F1 = 0.889968 ,train ACC = 0.959321 \n"
     ]
    },
    {
     "name": "stderr",
     "output_type": "stream",
     "text": [
      "\n",
      "100%|███████████████████████████████████████████| 79/79 [00:04<00:00, 16.53it/s]"
     ]
    },
    {
     "name": "stdout",
     "output_type": "stream",
     "text": [
      "07-14 21:28 [MainProcess, 16958] [INFO ]  valid Epoch:121, Train loss=0.1216, Valid loss=0.5833,Valid F1=0.5724,Valid ACC=0.8463\n",
      "07-14 21:28 [MainProcess, 16958] [INFO ]  Time used for each epoch training: 21.81495761871338 seconds.\n",
      "07-14 21:28 [MainProcess, 16958] [INFO ]  **************************************************\n"
     ]
    },
    {
     "name": "stderr",
     "output_type": "stream",
     "text": [
      "\n",
      "100%|███████████████████████████████████████████| 40/40 [00:17<00:00,  2.27it/s]"
     ]
    },
    {
     "name": "stdout",
     "output_type": "stream",
     "text": [
      "lr:  9.164130298438718e-09\n",
      "07-14 21:28 [MainProcess, 16958] [INFO ]  Iteration:122, train loss = 0.132248 ,train F1 = 0.888603 ,train ACC = 0.955766 \n"
     ]
    },
    {
     "name": "stderr",
     "output_type": "stream",
     "text": [
      "\n",
      "100%|███████████████████████████████████████████| 79/79 [00:04<00:00, 16.41it/s]"
     ]
    },
    {
     "name": "stdout",
     "output_type": "stream",
     "text": [
      "07-14 21:28 [MainProcess, 16958] [INFO ]  valid Epoch:122, Train loss=0.1322, Valid loss=0.6552,Valid F1=0.5591,Valid ACC=0.8399\n",
      "07-14 21:28 [MainProcess, 16958] [INFO ]  Time used for each epoch training: 22.423378467559814 seconds.\n",
      "07-14 21:28 [MainProcess, 16958] [INFO ]  **************************************************\n"
     ]
    },
    {
     "name": "stderr",
     "output_type": "stream",
     "text": [
      "\n",
      " 78%|█████████████████████████████████▎         | 31/40 [00:14<00:02,  3.32it/s]"
     ]
    },
    {
     "ename": "KeyboardInterrupt",
     "evalue": "",
     "output_type": "error",
     "traceback": [
      "\u001b[0;31m---------------------------------------------------------------------------\u001b[0m",
      "\u001b[0;31mKeyboardInterrupt\u001b[0m                         Traceback (most recent call last)",
      "\u001b[0;32m/tmp/ipykernel_16958/2877896995.py\u001b[0m in \u001b[0;36m<module>\u001b[0;34m\u001b[0m\n\u001b[1;32m     11\u001b[0m     \u001b[0midx\u001b[0m \u001b[0;34m=\u001b[0m \u001b[0;36m0\u001b[0m\u001b[0;34m\u001b[0m\u001b[0;34m\u001b[0m\u001b[0m\n\u001b[1;32m     12\u001b[0m     \u001b[0mcnn\u001b[0m\u001b[0;34m.\u001b[0m\u001b[0mtrain\u001b[0m\u001b[0;34m(\u001b[0m\u001b[0;34m)\u001b[0m\u001b[0;34m\u001b[0m\u001b[0;34m\u001b[0m\u001b[0m\n\u001b[0;32m---> 13\u001b[0;31m     \u001b[0;32mfor\u001b[0m \u001b[0mlog_mel_feature\u001b[0m\u001b[0;34m,\u001b[0m \u001b[0mcurrent_age_group\u001b[0m\u001b[0;34m,\u001b[0m \u001b[0msex_feature\u001b[0m\u001b[0;34m,\u001b[0m \u001b[0mheight_weight\u001b[0m\u001b[0;34m,\u001b[0m \u001b[0mpreg_feature\u001b[0m\u001b[0;34m,\u001b[0m \u001b[0mloc_feature\u001b[0m\u001b[0;34m,\u001b[0m \u001b[0mcurrent_murmur\u001b[0m\u001b[0;34m,\u001b[0m \u001b[0mcurrent_outcome\u001b[0m \u001b[0;32min\u001b[0m \u001b[0mtqdm\u001b[0m\u001b[0;34m.\u001b[0m\u001b[0mtqdm\u001b[0m\u001b[0;34m(\u001b[0m\u001b[0mdataloader_train\u001b[0m\u001b[0;34m)\u001b[0m\u001b[0;34m:\u001b[0m\u001b[0;34m\u001b[0m\u001b[0;34m\u001b[0m\u001b[0m\n\u001b[0m\u001b[1;32m     14\u001b[0m         \u001b[0mlog_mel_feature\u001b[0m \u001b[0;34m=\u001b[0m \u001b[0mlog_mel_feature\u001b[0m\u001b[0;34m.\u001b[0m\u001b[0mcuda\u001b[0m\u001b[0;34m(\u001b[0m\u001b[0;34m)\u001b[0m\u001b[0;34m\u001b[0m\u001b[0;34m\u001b[0m\u001b[0m\n\u001b[1;32m     15\u001b[0m         \u001b[0mcurrent_age_group\u001b[0m \u001b[0;34m=\u001b[0m \u001b[0mcurrent_age_group\u001b[0m\u001b[0;34m.\u001b[0m\u001b[0mcuda\u001b[0m\u001b[0;34m(\u001b[0m\u001b[0;34m)\u001b[0m\u001b[0;34m\u001b[0m\u001b[0;34m\u001b[0m\u001b[0m\n",
      "\u001b[0;32m~/anaconda3/lib/python3.7/site-packages/tqdm/std.py\u001b[0m in \u001b[0;36m__iter__\u001b[0;34m(self)\u001b[0m\n\u001b[1;32m   1105\u001b[0m                 fp_write=getattr(self.fp, 'write', sys.stderr.write))\n\u001b[1;32m   1106\u001b[0m \u001b[0;34m\u001b[0m\u001b[0m\n\u001b[0;32m-> 1107\u001b[0;31m         \u001b[0;32mfor\u001b[0m \u001b[0mobj\u001b[0m \u001b[0;32min\u001b[0m \u001b[0miterable\u001b[0m\u001b[0;34m:\u001b[0m\u001b[0;34m\u001b[0m\u001b[0;34m\u001b[0m\u001b[0m\n\u001b[0m\u001b[1;32m   1108\u001b[0m             \u001b[0;32myield\u001b[0m \u001b[0mobj\u001b[0m\u001b[0;34m\u001b[0m\u001b[0;34m\u001b[0m\u001b[0m\n\u001b[1;32m   1109\u001b[0m             \u001b[0;31m# Update and possibly print the progressbar.\u001b[0m\u001b[0;34m\u001b[0m\u001b[0;34m\u001b[0m\u001b[0;34m\u001b[0m\u001b[0m\n",
      "\u001b[0;32m~/anaconda3/lib/python3.7/site-packages/torch/utils/data/dataloader.py\u001b[0m in \u001b[0;36m__next__\u001b[0;34m(self)\u001b[0m\n\u001b[1;32m    519\u001b[0m             \u001b[0;32mif\u001b[0m \u001b[0mself\u001b[0m\u001b[0;34m.\u001b[0m\u001b[0m_sampler_iter\u001b[0m \u001b[0;32mis\u001b[0m \u001b[0;32mNone\u001b[0m\u001b[0;34m:\u001b[0m\u001b[0;34m\u001b[0m\u001b[0;34m\u001b[0m\u001b[0m\n\u001b[1;32m    520\u001b[0m                 \u001b[0mself\u001b[0m\u001b[0;34m.\u001b[0m\u001b[0m_reset\u001b[0m\u001b[0;34m(\u001b[0m\u001b[0;34m)\u001b[0m\u001b[0;34m\u001b[0m\u001b[0;34m\u001b[0m\u001b[0m\n\u001b[0;32m--> 521\u001b[0;31m             \u001b[0mdata\u001b[0m \u001b[0;34m=\u001b[0m \u001b[0mself\u001b[0m\u001b[0;34m.\u001b[0m\u001b[0m_next_data\u001b[0m\u001b[0;34m(\u001b[0m\u001b[0;34m)\u001b[0m\u001b[0;34m\u001b[0m\u001b[0;34m\u001b[0m\u001b[0m\n\u001b[0m\u001b[1;32m    522\u001b[0m             \u001b[0mself\u001b[0m\u001b[0;34m.\u001b[0m\u001b[0m_num_yielded\u001b[0m \u001b[0;34m+=\u001b[0m \u001b[0;36m1\u001b[0m\u001b[0;34m\u001b[0m\u001b[0;34m\u001b[0m\u001b[0m\n\u001b[1;32m    523\u001b[0m             \u001b[0;32mif\u001b[0m \u001b[0mself\u001b[0m\u001b[0;34m.\u001b[0m\u001b[0m_dataset_kind\u001b[0m \u001b[0;34m==\u001b[0m \u001b[0m_DatasetKind\u001b[0m\u001b[0;34m.\u001b[0m\u001b[0mIterable\u001b[0m \u001b[0;32mand\u001b[0m\u001b[0;31m \u001b[0m\u001b[0;31m\\\u001b[0m\u001b[0;34m\u001b[0m\u001b[0;34m\u001b[0m\u001b[0m\n",
      "\u001b[0;32m~/anaconda3/lib/python3.7/site-packages/torch/utils/data/dataloader.py\u001b[0m in \u001b[0;36m_next_data\u001b[0;34m(self)\u001b[0m\n\u001b[1;32m   1184\u001b[0m \u001b[0;34m\u001b[0m\u001b[0m\n\u001b[1;32m   1185\u001b[0m             \u001b[0;32massert\u001b[0m \u001b[0;32mnot\u001b[0m \u001b[0mself\u001b[0m\u001b[0;34m.\u001b[0m\u001b[0m_shutdown\u001b[0m \u001b[0;32mand\u001b[0m \u001b[0mself\u001b[0m\u001b[0;34m.\u001b[0m\u001b[0m_tasks_outstanding\u001b[0m \u001b[0;34m>\u001b[0m \u001b[0;36m0\u001b[0m\u001b[0;34m\u001b[0m\u001b[0;34m\u001b[0m\u001b[0m\n\u001b[0;32m-> 1186\u001b[0;31m             \u001b[0midx\u001b[0m\u001b[0;34m,\u001b[0m \u001b[0mdata\u001b[0m \u001b[0;34m=\u001b[0m \u001b[0mself\u001b[0m\u001b[0;34m.\u001b[0m\u001b[0m_get_data\u001b[0m\u001b[0;34m(\u001b[0m\u001b[0;34m)\u001b[0m\u001b[0;34m\u001b[0m\u001b[0;34m\u001b[0m\u001b[0m\n\u001b[0m\u001b[1;32m   1187\u001b[0m             \u001b[0mself\u001b[0m\u001b[0;34m.\u001b[0m\u001b[0m_tasks_outstanding\u001b[0m \u001b[0;34m-=\u001b[0m \u001b[0;36m1\u001b[0m\u001b[0;34m\u001b[0m\u001b[0;34m\u001b[0m\u001b[0m\n\u001b[1;32m   1188\u001b[0m             \u001b[0;32mif\u001b[0m \u001b[0mself\u001b[0m\u001b[0;34m.\u001b[0m\u001b[0m_dataset_kind\u001b[0m \u001b[0;34m==\u001b[0m \u001b[0m_DatasetKind\u001b[0m\u001b[0;34m.\u001b[0m\u001b[0mIterable\u001b[0m\u001b[0;34m:\u001b[0m\u001b[0;34m\u001b[0m\u001b[0;34m\u001b[0m\u001b[0m\n",
      "\u001b[0;32m~/anaconda3/lib/python3.7/site-packages/torch/utils/data/dataloader.py\u001b[0m in \u001b[0;36m_get_data\u001b[0;34m(self)\u001b[0m\n\u001b[1;32m   1150\u001b[0m         \u001b[0;32melse\u001b[0m\u001b[0;34m:\u001b[0m\u001b[0;34m\u001b[0m\u001b[0;34m\u001b[0m\u001b[0m\n\u001b[1;32m   1151\u001b[0m             \u001b[0;32mwhile\u001b[0m \u001b[0;32mTrue\u001b[0m\u001b[0;34m:\u001b[0m\u001b[0;34m\u001b[0m\u001b[0;34m\u001b[0m\u001b[0m\n\u001b[0;32m-> 1152\u001b[0;31m                 \u001b[0msuccess\u001b[0m\u001b[0;34m,\u001b[0m \u001b[0mdata\u001b[0m \u001b[0;34m=\u001b[0m \u001b[0mself\u001b[0m\u001b[0;34m.\u001b[0m\u001b[0m_try_get_data\u001b[0m\u001b[0;34m(\u001b[0m\u001b[0;34m)\u001b[0m\u001b[0;34m\u001b[0m\u001b[0;34m\u001b[0m\u001b[0m\n\u001b[0m\u001b[1;32m   1153\u001b[0m                 \u001b[0;32mif\u001b[0m \u001b[0msuccess\u001b[0m\u001b[0;34m:\u001b[0m\u001b[0;34m\u001b[0m\u001b[0;34m\u001b[0m\u001b[0m\n\u001b[1;32m   1154\u001b[0m                     \u001b[0;32mreturn\u001b[0m \u001b[0mdata\u001b[0m\u001b[0;34m\u001b[0m\u001b[0;34m\u001b[0m\u001b[0m\n",
      "\u001b[0;32m~/anaconda3/lib/python3.7/site-packages/torch/utils/data/dataloader.py\u001b[0m in \u001b[0;36m_try_get_data\u001b[0;34m(self, timeout)\u001b[0m\n\u001b[1;32m    988\u001b[0m         \u001b[0;31m#   (bool: whether successfully get data, any: data if successful else None)\u001b[0m\u001b[0;34m\u001b[0m\u001b[0;34m\u001b[0m\u001b[0;34m\u001b[0m\u001b[0m\n\u001b[1;32m    989\u001b[0m         \u001b[0;32mtry\u001b[0m\u001b[0;34m:\u001b[0m\u001b[0;34m\u001b[0m\u001b[0;34m\u001b[0m\u001b[0m\n\u001b[0;32m--> 990\u001b[0;31m             \u001b[0mdata\u001b[0m \u001b[0;34m=\u001b[0m \u001b[0mself\u001b[0m\u001b[0;34m.\u001b[0m\u001b[0m_data_queue\u001b[0m\u001b[0;34m.\u001b[0m\u001b[0mget\u001b[0m\u001b[0;34m(\u001b[0m\u001b[0mtimeout\u001b[0m\u001b[0;34m=\u001b[0m\u001b[0mtimeout\u001b[0m\u001b[0;34m)\u001b[0m\u001b[0;34m\u001b[0m\u001b[0;34m\u001b[0m\u001b[0m\n\u001b[0m\u001b[1;32m    991\u001b[0m             \u001b[0;32mreturn\u001b[0m \u001b[0;34m(\u001b[0m\u001b[0;32mTrue\u001b[0m\u001b[0;34m,\u001b[0m \u001b[0mdata\u001b[0m\u001b[0;34m)\u001b[0m\u001b[0;34m\u001b[0m\u001b[0;34m\u001b[0m\u001b[0m\n\u001b[1;32m    992\u001b[0m         \u001b[0;32mexcept\u001b[0m \u001b[0mException\u001b[0m \u001b[0;32mas\u001b[0m \u001b[0me\u001b[0m\u001b[0;34m:\u001b[0m\u001b[0;34m\u001b[0m\u001b[0;34m\u001b[0m\u001b[0m\n",
      "\u001b[0;32m~/anaconda3/lib/python3.7/multiprocessing/queues.py\u001b[0m in \u001b[0;36mget\u001b[0;34m(self, block, timeout)\u001b[0m\n\u001b[1;32m    102\u001b[0m                 \u001b[0;32mif\u001b[0m \u001b[0mblock\u001b[0m\u001b[0;34m:\u001b[0m\u001b[0;34m\u001b[0m\u001b[0;34m\u001b[0m\u001b[0m\n\u001b[1;32m    103\u001b[0m                     \u001b[0mtimeout\u001b[0m \u001b[0;34m=\u001b[0m \u001b[0mdeadline\u001b[0m \u001b[0;34m-\u001b[0m \u001b[0mtime\u001b[0m\u001b[0;34m.\u001b[0m\u001b[0mmonotonic\u001b[0m\u001b[0;34m(\u001b[0m\u001b[0;34m)\u001b[0m\u001b[0;34m\u001b[0m\u001b[0;34m\u001b[0m\u001b[0m\n\u001b[0;32m--> 104\u001b[0;31m                     \u001b[0;32mif\u001b[0m \u001b[0;32mnot\u001b[0m \u001b[0mself\u001b[0m\u001b[0;34m.\u001b[0m\u001b[0m_poll\u001b[0m\u001b[0;34m(\u001b[0m\u001b[0mtimeout\u001b[0m\u001b[0;34m)\u001b[0m\u001b[0;34m:\u001b[0m\u001b[0;34m\u001b[0m\u001b[0;34m\u001b[0m\u001b[0m\n\u001b[0m\u001b[1;32m    105\u001b[0m                         \u001b[0;32mraise\u001b[0m \u001b[0mEmpty\u001b[0m\u001b[0;34m\u001b[0m\u001b[0;34m\u001b[0m\u001b[0m\n\u001b[1;32m    106\u001b[0m                 \u001b[0;32melif\u001b[0m \u001b[0;32mnot\u001b[0m \u001b[0mself\u001b[0m\u001b[0;34m.\u001b[0m\u001b[0m_poll\u001b[0m\u001b[0;34m(\u001b[0m\u001b[0;34m)\u001b[0m\u001b[0;34m:\u001b[0m\u001b[0;34m\u001b[0m\u001b[0;34m\u001b[0m\u001b[0m\n",
      "\u001b[0;32m~/anaconda3/lib/python3.7/multiprocessing/connection.py\u001b[0m in \u001b[0;36mpoll\u001b[0;34m(self, timeout)\u001b[0m\n\u001b[1;32m    255\u001b[0m         \u001b[0mself\u001b[0m\u001b[0;34m.\u001b[0m\u001b[0m_check_closed\u001b[0m\u001b[0;34m(\u001b[0m\u001b[0;34m)\u001b[0m\u001b[0;34m\u001b[0m\u001b[0;34m\u001b[0m\u001b[0m\n\u001b[1;32m    256\u001b[0m         \u001b[0mself\u001b[0m\u001b[0;34m.\u001b[0m\u001b[0m_check_readable\u001b[0m\u001b[0;34m(\u001b[0m\u001b[0;34m)\u001b[0m\u001b[0;34m\u001b[0m\u001b[0;34m\u001b[0m\u001b[0m\n\u001b[0;32m--> 257\u001b[0;31m         \u001b[0;32mreturn\u001b[0m \u001b[0mself\u001b[0m\u001b[0;34m.\u001b[0m\u001b[0m_poll\u001b[0m\u001b[0;34m(\u001b[0m\u001b[0mtimeout\u001b[0m\u001b[0;34m)\u001b[0m\u001b[0;34m\u001b[0m\u001b[0;34m\u001b[0m\u001b[0m\n\u001b[0m\u001b[1;32m    258\u001b[0m \u001b[0;34m\u001b[0m\u001b[0m\n\u001b[1;32m    259\u001b[0m     \u001b[0;32mdef\u001b[0m \u001b[0m__enter__\u001b[0m\u001b[0;34m(\u001b[0m\u001b[0mself\u001b[0m\u001b[0;34m)\u001b[0m\u001b[0;34m:\u001b[0m\u001b[0;34m\u001b[0m\u001b[0;34m\u001b[0m\u001b[0m\n",
      "\u001b[0;32m~/anaconda3/lib/python3.7/multiprocessing/connection.py\u001b[0m in \u001b[0;36m_poll\u001b[0;34m(self, timeout)\u001b[0m\n\u001b[1;32m    412\u001b[0m \u001b[0;34m\u001b[0m\u001b[0m\n\u001b[1;32m    413\u001b[0m     \u001b[0;32mdef\u001b[0m \u001b[0m_poll\u001b[0m\u001b[0;34m(\u001b[0m\u001b[0mself\u001b[0m\u001b[0;34m,\u001b[0m \u001b[0mtimeout\u001b[0m\u001b[0;34m)\u001b[0m\u001b[0;34m:\u001b[0m\u001b[0;34m\u001b[0m\u001b[0;34m\u001b[0m\u001b[0m\n\u001b[0;32m--> 414\u001b[0;31m         \u001b[0mr\u001b[0m \u001b[0;34m=\u001b[0m \u001b[0mwait\u001b[0m\u001b[0;34m(\u001b[0m\u001b[0;34m[\u001b[0m\u001b[0mself\u001b[0m\u001b[0;34m]\u001b[0m\u001b[0;34m,\u001b[0m \u001b[0mtimeout\u001b[0m\u001b[0;34m)\u001b[0m\u001b[0;34m\u001b[0m\u001b[0;34m\u001b[0m\u001b[0m\n\u001b[0m\u001b[1;32m    415\u001b[0m         \u001b[0;32mreturn\u001b[0m \u001b[0mbool\u001b[0m\u001b[0;34m(\u001b[0m\u001b[0mr\u001b[0m\u001b[0;34m)\u001b[0m\u001b[0;34m\u001b[0m\u001b[0;34m\u001b[0m\u001b[0m\n\u001b[1;32m    416\u001b[0m \u001b[0;34m\u001b[0m\u001b[0m\n",
      "\u001b[0;32m~/anaconda3/lib/python3.7/multiprocessing/connection.py\u001b[0m in \u001b[0;36mwait\u001b[0;34m(object_list, timeout)\u001b[0m\n\u001b[1;32m    918\u001b[0m \u001b[0;34m\u001b[0m\u001b[0m\n\u001b[1;32m    919\u001b[0m             \u001b[0;32mwhile\u001b[0m \u001b[0;32mTrue\u001b[0m\u001b[0;34m:\u001b[0m\u001b[0;34m\u001b[0m\u001b[0;34m\u001b[0m\u001b[0m\n\u001b[0;32m--> 920\u001b[0;31m                 \u001b[0mready\u001b[0m \u001b[0;34m=\u001b[0m \u001b[0mselector\u001b[0m\u001b[0;34m.\u001b[0m\u001b[0mselect\u001b[0m\u001b[0;34m(\u001b[0m\u001b[0mtimeout\u001b[0m\u001b[0;34m)\u001b[0m\u001b[0;34m\u001b[0m\u001b[0;34m\u001b[0m\u001b[0m\n\u001b[0m\u001b[1;32m    921\u001b[0m                 \u001b[0;32mif\u001b[0m \u001b[0mready\u001b[0m\u001b[0;34m:\u001b[0m\u001b[0;34m\u001b[0m\u001b[0;34m\u001b[0m\u001b[0m\n\u001b[1;32m    922\u001b[0m                     \u001b[0;32mreturn\u001b[0m \u001b[0;34m[\u001b[0m\u001b[0mkey\u001b[0m\u001b[0;34m.\u001b[0m\u001b[0mfileobj\u001b[0m \u001b[0;32mfor\u001b[0m \u001b[0;34m(\u001b[0m\u001b[0mkey\u001b[0m\u001b[0;34m,\u001b[0m \u001b[0mevents\u001b[0m\u001b[0;34m)\u001b[0m \u001b[0;32min\u001b[0m \u001b[0mready\u001b[0m\u001b[0;34m]\u001b[0m\u001b[0;34m\u001b[0m\u001b[0;34m\u001b[0m\u001b[0m\n",
      "\u001b[0;32m~/anaconda3/lib/python3.7/selectors.py\u001b[0m in \u001b[0;36mselect\u001b[0;34m(self, timeout)\u001b[0m\n\u001b[1;32m    413\u001b[0m         \u001b[0mready\u001b[0m \u001b[0;34m=\u001b[0m \u001b[0;34m[\u001b[0m\u001b[0;34m]\u001b[0m\u001b[0;34m\u001b[0m\u001b[0;34m\u001b[0m\u001b[0m\n\u001b[1;32m    414\u001b[0m         \u001b[0;32mtry\u001b[0m\u001b[0;34m:\u001b[0m\u001b[0;34m\u001b[0m\u001b[0;34m\u001b[0m\u001b[0m\n\u001b[0;32m--> 415\u001b[0;31m             \u001b[0mfd_event_list\u001b[0m \u001b[0;34m=\u001b[0m \u001b[0mself\u001b[0m\u001b[0;34m.\u001b[0m\u001b[0m_selector\u001b[0m\u001b[0;34m.\u001b[0m\u001b[0mpoll\u001b[0m\u001b[0;34m(\u001b[0m\u001b[0mtimeout\u001b[0m\u001b[0;34m)\u001b[0m\u001b[0;34m\u001b[0m\u001b[0;34m\u001b[0m\u001b[0m\n\u001b[0m\u001b[1;32m    416\u001b[0m         \u001b[0;32mexcept\u001b[0m \u001b[0mInterruptedError\u001b[0m\u001b[0;34m:\u001b[0m\u001b[0;34m\u001b[0m\u001b[0;34m\u001b[0m\u001b[0m\n\u001b[1;32m    417\u001b[0m             \u001b[0;32mreturn\u001b[0m \u001b[0mready\u001b[0m\u001b[0;34m\u001b[0m\u001b[0;34m\u001b[0m\u001b[0m\n",
      "\u001b[0;31mKeyboardInterrupt\u001b[0m: "
     ]
    }
   ],
   "source": [
    "all_file_train = len(trainset)\n",
    "dataloader_train_len = len(dataloader_train)\n",
    "output_preds_labels_train = torch.empty((all_file_train,))\n",
    "output_preds_probs_train = torch.empty((all_file_train,3))\n",
    "output_gt_labels_train = torch.empty((all_file_train,))\n",
    "for iter_ in range(args.end_iter):\n",
    "    start_time = time.time()\n",
    "    running_loss = 0.0\n",
    "    running_f1 = 0.0\n",
    "    running_acc = 0.0\n",
    "    idx = 0\n",
    "    cnn.train()\n",
    "    for log_mel_feature, current_age_group, sex_feature, height_weight, preg_feature, loc_feature, current_murmur, current_outcome in tqdm.tqdm(dataloader_train):\n",
    "        log_mel_feature = log_mel_feature.cuda()\n",
    "        current_age_group = current_age_group.cuda()\n",
    "        sex_feature = sex_feature.cuda()\n",
    "        height_weight = height_weight.cuda()\n",
    "        preg_feature = preg_feature.cuda()\n",
    "        loc_feature = loc_feature.cuda()\n",
    "        current_murmur = current_murmur.cuda()\n",
    "        current_outcome = current_outcome.cuda()\n",
    "        \n",
    "        \n",
    "        \n",
    "        \n",
    "        output_train = cnn(log_mel_feature,current_age_group,sex_feature,height_weight, preg_feature,loc_feature)\n",
    "        loss = criterion(output_train, current_murmur)\n",
    "        \n",
    "        \n",
    "        \n",
    "        output_probs_train = F.log_softmax(output_train, dim=1)\n",
    "        \n",
    "        _, output_label_argmax = torch.max(output_probs_train, dim=1)\n",
    "        \n",
    "        \n",
    "        output_label_argmax = output_label_argmax.data.detach().cpu()\n",
    "\n",
    "        output_preds_labels_train[idx*args.minibatchsize_train:(idx+1)*args.minibatchsize_train]= output_label_argmax  #murmur 예측 레이블 (0,1,2)\n",
    "        \n",
    "        output_preds_probs_train[idx*args.minibatchsize_train:(idx+1)*args.minibatchsize_train,:] = output_probs_train\n",
    "        \n",
    "        _, murmur_label_argmax = torch.max(current_murmur.data, dim=1)  #murmur groud truth (0,1,2)\n",
    "        \n",
    "        output_gt_labels_train[idx*args.minibatchsize_train:(idx+1)*args.minibatchsize_train] = murmur_label_argmax.data.detach().cpu()\n",
    "        \n",
    "\n",
    "\n",
    "        idx +=1              \n",
    "\n",
    "        opt.zero_grad()\n",
    "        loss.backward()\n",
    "        opt.step()\n",
    "\n",
    "        running_loss += loss.item()\n",
    "\n",
    "    train_f1 = f1(preds = torch.tensor(output_preds_labels_train, dtype=torch.int32), target = torch.tensor(output_gt_labels_train, dtype=torch.int32))\n",
    "    train_acc = accuracy(preds = torch.tensor(output_preds_labels_train, dtype=torch.int32), target = torch.tensor(output_gt_labels_train, dtype=torch.int32))\n",
    "\n",
    "        \n",
    "    scheduler.step()\n",
    "    print(\"lr: \", opt.param_groups[0]['lr'])\n",
    "    logger.info(\"Iteration:{0}, train loss = {1:.6f} ,train F1 = {2:.6f} ,train ACC = {3:.6f} \".format(iter_, \n",
    "                 running_loss/dataloader_train_len,train_f1,train_acc))\n",
    "        \n",
    "    # eval\n",
    "    all_file_valid = len(validset)\n",
    "    dataloader_valid_len = len(dataloader_valid)\n",
    "    cnn.eval()\n",
    "\n",
    "    with torch.no_grad():\n",
    "        running_loss_dev = 0.0\n",
    "        running_f1_dev = 0.0\n",
    "        running_acc_dev = 0.0\n",
    "        index = 0\n",
    "        output_preds_labels_dev = torch.empty((all_file_valid,))\n",
    "        output_preds_probs_dev = torch.empty((all_file_valid,3))\n",
    "        output_gt_labels_dev= torch.empty((all_file_valid,))\n",
    "        for log_mel_feature, current_age_group, sex_feature, height_weight, preg_feature, loc_feature, current_murmur, current_outcome in tqdm.tqdm(dataloader_valid):\n",
    "            log_mel_feature_dev = log_mel_feature.cuda()\n",
    "            current_age_group_dev = current_age_group.cuda()\n",
    "            sex_feature_dev = sex_feature.cuda()\n",
    "            height_weight_dev = height_weight.cuda()\n",
    "            preg_feature_dev = preg_feature.cuda()\n",
    "            loc_feature_dev = loc_feature.cuda()\n",
    "            current_murmur_dev = current_murmur.cuda()\n",
    "            current_outcome_dev = current_outcome.cuda()\n",
    "\n",
    "\n",
    "            output_dev = cnn(log_mel_feature_dev,current_age_group_dev,sex_feature_dev,height_weight_dev,preg_feature_dev,loc_feature_dev)\n",
    "            loss_dev = criterion(output_dev, current_murmur_dev)                   \n",
    "            running_loss_dev += loss_dev.item()\n",
    "            \n",
    "            \n",
    "            \n",
    "            \n",
    "            output_probs_dev = F.log_softmax(output_dev, dim=1)\n",
    "            \n",
    "            _, output_label_argmax_dev = torch.max(output_probs_dev, dim=1)\n",
    "            \n",
    "            \n",
    "            output_label_argmax_dev = output_label_argmax_dev.data.detach().cpu()\n",
    "\n",
    "            output_preds_labels_dev[index*args.minibatchsize_valid:(index+1)*args.minibatchsize_valid]= output_label_argmax_dev  #murmur 예측 레이블 (0,1,2)\n",
    "            \n",
    "            output_preds_probs_dev[index*args.minibatchsize_valid:(index+1)*args.minibatchsize_valid,:] = output_probs_dev\n",
    "            \n",
    "            _, murmur_label_argmax_dev = torch.max(current_murmur_dev.data, dim=1)  #murmur groud truth (0,1,2)\n",
    "            \n",
    "            output_gt_labels_dev[index*args.minibatchsize_valid:(index+1)*args.minibatchsize_valid] = murmur_label_argmax_dev\n",
    "\n",
    "            index = index+1           \n",
    "\n",
    "        \n",
    "        dev_f1 = f1(preds = torch.tensor(output_preds_labels_dev, dtype=torch.int32), target = torch.tensor(output_gt_labels_dev, dtype=torch.int32))\n",
    "        dev_acc = accuracy(preds = torch.tensor(output_preds_labels_dev, dtype=torch.int32),target =  torch.tensor(output_gt_labels_dev, dtype=torch.int32))\n",
    "            \n",
    "            \n",
    "\n",
    "\n",
    "            \n",
    "\n",
    "    logger.info(\"valid Epoch:%d, Train loss=%.4f, Valid loss=%.4f,Valid F1=%.4f,Valid ACC=%.4f\" %( iter_,\n",
    "            running_loss/dataloader_train_len, running_loss_dev/dataloader_valid_len, dev_f1, dev_acc))\n",
    "    score_file.write(\"%d epoch, VALID LOSS %f, VALID F1 %2.2f%% VALID ACC %2.2f%%\\n\"%(iter_, \n",
    "                            running_loss_dev/dataloader_valid_len, dev_f1, dev_acc))\n",
    "    score_file.flush()\n",
    "    \n",
    "    torch.save(cnn.state_dict(), os.path.join(model_path, \"{}_{}.model\".format(args.model_name, iter_)))\n",
    "    \n",
    "    end_time = time.time()\n",
    "    logger.info(\"Time used for each epoch training: {} seconds.\".format(end_time - start_time))\n",
    "    logger.info(\"*\" * 50)"
   ]
  },
  {
   "cell_type": "code",
   "execution_count": null,
   "id": "263459b0",
   "metadata": {},
   "outputs": [],
   "source": []
  }
 ],
 "metadata": {
  "kernelspec": {
   "display_name": "Python 3 (ipykernel)",
   "language": "python",
   "name": "python3"
  },
  "language_info": {
   "codemirror_mode": {
    "name": "ipython",
    "version": 3
   },
   "file_extension": ".py",
   "mimetype": "text/x-python",
   "name": "python",
   "nbconvert_exporter": "python",
   "pygments_lexer": "ipython3",
   "version": "3.7.6"
  }
 },
 "nbformat": 4,
 "nbformat_minor": 5
}
