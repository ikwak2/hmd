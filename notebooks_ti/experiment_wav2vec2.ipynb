{
 "cells": [
  {
   "cell_type": "code",
   "execution_count": 4,
   "id": "d0b3204e",
   "metadata": {
    "collapsed": true
   },
   "outputs": [
    {
     "name": "stdout",
     "output_type": "stream",
     "text": [
      "\u001b[33mWARNING: Running pip as the 'root' user can result in broken permissions and conflicting behaviour with the system package manager. It is recommended to use a virtual environment instead: https://pip.pypa.io/warnings/venv\u001b[0m\n",
      "Collecting transformers==4.11.3\n",
      "  Downloading transformers-4.11.3-py3-none-any.whl (2.9 MB)\n",
      "\u001b[K     |████████████████████████████████| 2.9 MB 2.6 MB/s eta 0:00:01\n",
      "\u001b[?25hRequirement already satisfied: packaging>=20.0 in /opt/conda/lib/python3.8/site-packages (from transformers==4.11.3) (20.9)\n",
      "Requirement already satisfied: numpy>=1.17 in /opt/conda/lib/python3.8/site-packages (from transformers==4.11.3) (1.20.3)\n",
      "Collecting regex!=2019.12.17\n",
      "  Downloading regex-2022.7.25-cp38-cp38-manylinux_2_17_x86_64.manylinux2014_x86_64.whl (768 kB)\n",
      "\u001b[K     |████████████████████████████████| 768 kB 2.7 MB/s eta 0:00:01\n",
      "\u001b[?25hCollecting tokenizers<0.11,>=0.10.1\n",
      "  Downloading tokenizers-0.10.3-cp38-cp38-manylinux_2_5_x86_64.manylinux1_x86_64.manylinux_2_12_x86_64.manylinux2010_x86_64.whl (3.3 MB)\n",
      "\u001b[K     |████████████████████████████████| 3.3 MB 2.8 MB/s eta 0:00:01\n",
      "\u001b[?25hRequirement already satisfied: pyyaml>=5.1 in /opt/conda/lib/python3.8/site-packages (from transformers==4.11.3) (5.4.1)\n",
      "Requirement already satisfied: huggingface-hub>=0.0.17 in /opt/conda/lib/python3.8/site-packages (from transformers==4.11.3) (0.8.1)\n",
      "Requirement already satisfied: filelock in /opt/conda/lib/python3.8/site-packages (from transformers==4.11.3) (3.6.0)\n",
      "Collecting sacremoses\n",
      "  Downloading sacremoses-0.0.53.tar.gz (880 kB)\n",
      "\u001b[K     |████████████████████████████████| 880 kB 2.6 MB/s eta 0:00:01\n",
      "\u001b[?25hRequirement already satisfied: tqdm>=4.27 in /opt/conda/lib/python3.8/site-packages (from transformers==4.11.3) (4.64.0)\n",
      "Requirement already satisfied: requests in /opt/conda/lib/python3.8/site-packages (from transformers==4.11.3) (2.25.1)\n",
      "Requirement already satisfied: typing-extensions>=3.7.4.3 in /opt/conda/lib/python3.8/site-packages (from huggingface-hub>=0.0.17->transformers==4.11.3) (3.10.0.0)\n",
      "Requirement already satisfied: pyparsing>=2.0.2 in /opt/conda/lib/python3.8/site-packages (from packaging>=20.0->transformers==4.11.3) (2.4.7)\n",
      "Requirement already satisfied: certifi>=2017.4.17 in /opt/conda/lib/python3.8/site-packages (from requests->transformers==4.11.3) (2020.12.5)\n",
      "Requirement already satisfied: idna<3,>=2.5 in /opt/conda/lib/python3.8/site-packages (from requests->transformers==4.11.3) (2.10)\n",
      "Requirement already satisfied: chardet<5,>=3.0.2 in /opt/conda/lib/python3.8/site-packages (from requests->transformers==4.11.3) (4.0.0)\n",
      "Requirement already satisfied: urllib3<1.27,>=1.21.1 in /opt/conda/lib/python3.8/site-packages (from requests->transformers==4.11.3) (1.26.5)\n",
      "Requirement already satisfied: six in /opt/conda/lib/python3.8/site-packages (from sacremoses->transformers==4.11.3) (1.16.0)\n",
      "Collecting click\n",
      "  Downloading click-8.1.3-py3-none-any.whl (96 kB)\n",
      "\u001b[K     |████████████████████████████████| 96 kB 2.6 MB/s eta 0:00:01\n",
      "\u001b[?25hRequirement already satisfied: joblib in /opt/conda/lib/python3.8/site-packages (from sacremoses->transformers==4.11.3) (1.0.1)\n",
      "Building wheels for collected packages: sacremoses\n",
      "  Building wheel for sacremoses (setup.py) ... \u001b[?25ldone\n",
      "\u001b[?25h  Created wheel for sacremoses: filename=sacremoses-0.0.53-py3-none-any.whl size=895260 sha256=f43bc280a4e6c5944a942a669a8e5124dfcd7932a983dd5285005fe556b6c97b\n",
      "  Stored in directory: /root/.cache/pip/wheels/82/ab/9b/c15899bf659ba74f623ac776e861cf2eb8608c1825ddec66a4\n",
      "Successfully built sacremoses\n",
      "Installing collected packages: regex, click, tokenizers, sacremoses, transformers\n",
      "Successfully installed click-8.1.3 regex-2022.7.25 sacremoses-0.0.53 tokenizers-0.10.3 transformers-4.11.3\n",
      "\u001b[33mWARNING: Running pip as the 'root' user can result in broken permissions and conflicting behaviour with the system package manager. It is recommended to use a virtual environment instead: https://pip.pypa.io/warnings/venv\u001b[0m\n",
      "Requirement already satisfied: librosa in /opt/conda/lib/python3.8/site-packages (0.8.0)\n",
      "Requirement already satisfied: numpy>=1.15.0 in /opt/conda/lib/python3.8/site-packages (from librosa) (1.20.3)\n",
      "Requirement already satisfied: resampy>=0.2.2 in /opt/conda/lib/python3.8/site-packages (from librosa) (0.2.2)\n",
      "Requirement already satisfied: numba>=0.43.0 in /opt/conda/lib/python3.8/site-packages (from librosa) (0.53.1)\n",
      "Requirement already satisfied: soundfile>=0.9.0 in /opt/conda/lib/python3.8/site-packages (from librosa) (0.10.3.post1)\n",
      "Requirement already satisfied: pooch>=1.0 in /opt/conda/lib/python3.8/site-packages (from librosa) (1.3.0)\n",
      "Requirement already satisfied: joblib>=0.14 in /opt/conda/lib/python3.8/site-packages (from librosa) (1.0.1)\n",
      "Requirement already satisfied: decorator>=3.0.0 in /opt/conda/lib/python3.8/site-packages (from librosa) (5.0.9)\n",
      "Requirement already satisfied: scipy>=1.0.0 in /opt/conda/lib/python3.8/site-packages (from librosa) (1.6.3)\n",
      "Requirement already satisfied: scikit-learn!=0.19.0,>=0.14.0 in /opt/conda/lib/python3.8/site-packages (from librosa) (1.1.1)\n",
      "Requirement already satisfied: audioread>=2.0.0 in /opt/conda/lib/python3.8/site-packages (from librosa) (2.1.9)\n",
      "Requirement already satisfied: llvmlite<0.37,>=0.36.0rc1 in /opt/conda/lib/python3.8/site-packages (from numba>=0.43.0->librosa) (0.36.0)\n",
      "Requirement already satisfied: setuptools in /opt/conda/lib/python3.8/site-packages (from numba>=0.43.0->librosa) (58.0.4)\n",
      "Requirement already satisfied: requests in /opt/conda/lib/python3.8/site-packages (from pooch>=1.0->librosa) (2.25.1)\n",
      "Requirement already satisfied: appdirs in /opt/conda/lib/python3.8/site-packages (from pooch>=1.0->librosa) (1.4.4)\n",
      "Requirement already satisfied: packaging in /opt/conda/lib/python3.8/site-packages (from pooch>=1.0->librosa) (20.9)\n",
      "Requirement already satisfied: six>=1.3 in /opt/conda/lib/python3.8/site-packages (from resampy>=0.2.2->librosa) (1.16.0)\n",
      "Requirement already satisfied: threadpoolctl>=2.0.0 in /opt/conda/lib/python3.8/site-packages (from scikit-learn!=0.19.0,>=0.14.0->librosa) (2.1.0)\n",
      "Requirement already satisfied: cffi>=1.0 in /opt/conda/lib/python3.8/site-packages (from soundfile>=0.9.0->librosa) (1.14.5)\n",
      "Requirement already satisfied: pycparser in /opt/conda/lib/python3.8/site-packages (from cffi>=1.0->soundfile>=0.9.0->librosa) (2.20)\n",
      "Requirement already satisfied: pyparsing>=2.0.2 in /opt/conda/lib/python3.8/site-packages (from packaging->pooch>=1.0->librosa) (2.4.7)\n",
      "Requirement already satisfied: chardet<5,>=3.0.2 in /opt/conda/lib/python3.8/site-packages (from requests->pooch>=1.0->librosa) (4.0.0)\n",
      "Requirement already satisfied: idna<3,>=2.5 in /opt/conda/lib/python3.8/site-packages (from requests->pooch>=1.0->librosa) (2.10)\n",
      "Requirement already satisfied: certifi>=2017.4.17 in /opt/conda/lib/python3.8/site-packages (from requests->pooch>=1.0->librosa) (2020.12.5)\n",
      "Requirement already satisfied: urllib3<1.27,>=1.21.1 in /opt/conda/lib/python3.8/site-packages (from requests->pooch>=1.0->librosa) (1.26.5)\n",
      "\u001b[33mWARNING: Running pip as the 'root' user can result in broken permissions and conflicting behaviour with the system package manager. It is recommended to use a virtual environment instead: https://pip.pypa.io/warnings/venv\u001b[0m\n",
      "Collecting jiwer\n",
      "  Downloading jiwer-2.3.0-py3-none-any.whl (15 kB)\n",
      "Collecting python-Levenshtein==0.12.2\n",
      "  Downloading python-Levenshtein-0.12.2.tar.gz (50 kB)\n",
      "\u001b[K     |████████████████████████████████| 50 kB 2.6 MB/s eta 0:00:01\n",
      "\u001b[?25hRequirement already satisfied: setuptools in /opt/conda/lib/python3.8/site-packages (from python-Levenshtein==0.12.2->jiwer) (58.0.4)\n",
      "Building wheels for collected packages: python-Levenshtein\n",
      "  Building wheel for python-Levenshtein (setup.py) ... \u001b[?25ldone\n",
      "\u001b[?25h  Created wheel for python-Levenshtein: filename=python_Levenshtein-0.12.2-cp38-cp38-linux_x86_64.whl size=172291 sha256=4d2b007267be89a90cd30d461486c1870513524e6e8fa649d31e2f5aee24a20e\n",
      "  Stored in directory: /root/.cache/pip/wheels/d7/0c/76/042b46eb0df65c3ccd0338f791210c55ab79d209bcc269e2c7\n",
      "Successfully built python-Levenshtein\n",
      "Installing collected packages: python-Levenshtein, jiwer\n",
      "Successfully installed jiwer-2.3.0 python-Levenshtein-0.12.2\n",
      "\u001b[33mWARNING: Running pip as the 'root' user can result in broken permissions and conflicting behaviour with the system package manager. It is recommended to use a virtual environment instead: https://pip.pypa.io/warnings/venv\u001b[0m\n"
     ]
    }
   ],
   "source": [
    "!pip install datasets>=1.18.3\n",
    "!pip install transformers==4.11.3\n",
    "!pip install librosa\n",
    "!pip install jiwer"
   ]
  },
  {
   "cell_type": "code",
   "execution_count": 32,
   "id": "fceda6c5",
   "metadata": {
    "collapsed": true
   },
   "outputs": [
    {
     "name": "stdout",
     "output_type": "stream",
     "text": [
      "Collecting torchaudio==0.8.1\n",
      "  Using cached torchaudio-0.8.1-cp38-cp38-manylinux1_x86_64.whl (1.9 MB)\n",
      "Collecting torch==1.8.1\n",
      "  Using cached torch-1.8.1-cp38-cp38-manylinux1_x86_64.whl (804.1 MB)\n",
      "Requirement already satisfied: numpy in /opt/conda/lib/python3.8/site-packages (from torch==1.8.1->torchaudio==0.8.1) (1.20.3)\n",
      "Requirement already satisfied: typing-extensions in /opt/conda/lib/python3.8/site-packages (from torch==1.8.1->torchaudio==0.8.1) (3.10.0.0)\n",
      "Installing collected packages: torch, torchaudio\n",
      "  Attempting uninstall: torch\n",
      "    Found existing installation: torch 1.12.0\n",
      "    Uninstalling torch-1.12.0:\n",
      "      Successfully uninstalled torch-1.12.0\n",
      "  Attempting uninstall: torchaudio\n",
      "    Found existing installation: torchaudio 0.12.0\n",
      "    Uninstalling torchaudio-0.12.0:\n",
      "      Successfully uninstalled torchaudio-0.12.0\n",
      "Successfully installed torch-1.8.1 torchaudio-0.8.1\n",
      "\u001b[33mWARNING: Running pip as the 'root' user can result in broken permissions and conflicting behaviour with the system package manager. It is recommended to use a virtual environment instead: https://pip.pypa.io/warnings/venv\u001b[0m\n"
     ]
    }
   ],
   "source": [
    "!pip install torchaudio==0.8.1"
   ]
  },
  {
   "cell_type": "code",
   "execution_count": 9,
   "id": "92a12440",
   "metadata": {
    "collapsed": true
   },
   "outputs": [
    {
     "data": {
      "application/vnd.jupyter.widget-view+json": {
       "model_id": "0d35a652392842e590f058d273c83b60",
       "version_major": 2,
       "version_minor": 0
      },
      "text/plain": [
       "Downloading:   0%|          | 0.00/159 [00:00<?, ?B/s]"
      ]
     },
     "metadata": {},
     "output_type": "display_data"
    },
    {
     "data": {
      "application/vnd.jupyter.widget-view+json": {
       "model_id": "3575d320429f4574b917ec29ea7a2dfa",
       "version_major": 2,
       "version_minor": 0
      },
      "text/plain": [
       "Downloading:   0%|          | 0.00/291 [00:00<?, ?B/s]"
      ]
     },
     "metadata": {},
     "output_type": "display_data"
    },
    {
     "data": {
      "application/vnd.jupyter.widget-view+json": {
       "model_id": "fc7695f217b144d88ee4a745c89d73d2",
       "version_major": 2,
       "version_minor": 0
      },
      "text/plain": [
       "Downloading:   0%|          | 0.00/163 [00:00<?, ?B/s]"
      ]
     },
     "metadata": {},
     "output_type": "display_data"
    },
    {
     "data": {
      "application/vnd.jupyter.widget-view+json": {
       "model_id": "621147bbaea24ed499daf149210c797b",
       "version_major": 2,
       "version_minor": 0
      },
      "text/plain": [
       "Downloading:   0%|          | 0.00/85.0 [00:00<?, ?B/s]"
      ]
     },
     "metadata": {},
     "output_type": "display_data"
    },
    {
     "data": {
      "application/vnd.jupyter.widget-view+json": {
       "model_id": "0435a64c4a654ea8b501b2430e1f3705",
       "version_major": 2,
       "version_minor": 0
      },
      "text/plain": [
       "Downloading:   0%|          | 0.00/1.56k [00:00<?, ?B/s]"
      ]
     },
     "metadata": {},
     "output_type": "display_data"
    },
    {
     "data": {
      "application/vnd.jupyter.widget-view+json": {
       "model_id": "5dc2f4362d9f4765acc649b84868b736",
       "version_major": 2,
       "version_minor": 0
      },
      "text/plain": [
       "Downloading:   0%|          | 0.00/360M [00:00<?, ?B/s]"
      ]
     },
     "metadata": {},
     "output_type": "display_data"
    },
    {
     "name": "stderr",
     "output_type": "stream",
     "text": [
      "Some weights of Wav2Vec2ForCTC were not initialized from the model checkpoint at facebook/wav2vec2-base-960h and are newly initialized: ['wav2vec2.masked_spec_embed']\n",
      "You should probably TRAIN this model on a down-stream task to be able to use it for predictions and inference.\n"
     ]
    },
    {
     "data": {
      "application/vnd.jupyter.widget-view+json": {
       "model_id": "a0f30d5bbc4e4e73851585a9cb2104aa",
       "version_major": 2,
       "version_minor": 0
      },
      "text/plain": [
       "Downloading builder script:   0%|          | 0.00/5.16k [00:00<?, ?B/s]"
      ]
     },
     "metadata": {},
     "output_type": "display_data"
    },
    {
     "name": "stdout",
     "output_type": "stream",
     "text": [
      "Downloading and preparing dataset librispeech_asr_dummy/clean to /root/.cache/huggingface/datasets/patrickvonplaten___librispeech_asr_dummy/clean/2.1.0/f2c70a4d03ab4410954901bde48c54b85ca1b7f9bf7d616e7e2a72b5ee6ddbfc...\n"
     ]
    },
    {
     "data": {
      "application/vnd.jupyter.widget-view+json": {
       "model_id": "8085abbf445748d08ca953bd2d7020bc",
       "version_major": 2,
       "version_minor": 0
      },
      "text/plain": [
       "Downloading data files:   0%|          | 0/1 [00:00<?, ?it/s]"
      ]
     },
     "metadata": {},
     "output_type": "display_data"
    },
    {
     "data": {
      "application/vnd.jupyter.widget-view+json": {
       "model_id": "0d57f84fe90443789ebdc411c09664c4",
       "version_major": 2,
       "version_minor": 0
      },
      "text/plain": [
       "Downloading data:   0%|          | 0.00/9.08M [00:00<?, ?B/s]"
      ]
     },
     "metadata": {},
     "output_type": "display_data"
    },
    {
     "data": {
      "application/vnd.jupyter.widget-view+json": {
       "model_id": "a4e22ee5453b4510a3760e6ebb48ba5e",
       "version_major": 2,
       "version_minor": 0
      },
      "text/plain": [
       "Extracting data files:   0%|          | 0/1 [00:00<?, ?it/s]"
      ]
     },
     "metadata": {},
     "output_type": "display_data"
    },
    {
     "data": {
      "application/vnd.jupyter.widget-view+json": {
       "model_id": "",
       "version_major": 2,
       "version_minor": 0
      },
      "text/plain": [
       "Generating validation split: 0 examples [00:00, ? examples/s]"
      ]
     },
     "metadata": {},
     "output_type": "display_data"
    },
    {
     "name": "stdout",
     "output_type": "stream",
     "text": [
      "Dataset librispeech_asr_dummy downloaded and prepared to /root/.cache/huggingface/datasets/patrickvonplaten___librispeech_asr_dummy/clean/2.1.0/f2c70a4d03ab4410954901bde48c54b85ca1b7f9bf7d616e7e2a72b5ee6ddbfc. Subsequent calls will reuse this data.\n"
     ]
    },
    {
     "name": "stderr",
     "output_type": "stream",
     "text": [
      "It is strongly recommended to pass the ``sampling_rate`` argument to this function.Failing to do so can result in silent errors that might be hard to debug.\n"
     ]
    }
   ],
   "source": [
    "from transformers import Wav2Vec2Processor, Wav2Vec2ForCTC\n",
    "from datasets import load_dataset\n",
    "import torch\n",
    "\n",
    "# load model and tokenizer\n",
    "processor = Wav2Vec2Processor.from_pretrained(\"facebook/wav2vec2-base-960h\")\n",
    "model = Wav2Vec2ForCTC.from_pretrained(\"facebook/wav2vec2-base-960h\")\n",
    "\n",
    "# load dummy dataset and read soundfiles\n",
    "ds = load_dataset(\"patrickvonplaten/librispeech_asr_dummy\", \"clean\", split=\"validation\")\n",
    "\n",
    "# tokenize\n",
    "input_values = processor(ds[0][\"audio\"][\"array\"], return_tensors=\"pt\", padding=\"longest\").input_values  # Batch size 1\n",
    "\n",
    "# retrieve logits\n",
    "logits = model(input_values).logits\n",
    "\n",
    "# take argmax and decode\n",
    "predicted_ids = torch.argmax(logits, dim=-1)\n",
    "transcription = processor.batch_decode(predicted_ids)\n"
   ]
  },
  {
   "cell_type": "code",
   "execution_count": 10,
   "id": "99e0bb59",
   "metadata": {
    "collapsed": true
   },
   "outputs": [
    {
     "data": {
      "application/vnd.jupyter.widget-view+json": {
       "model_id": "657c4eb330a045108c7ed6a36bc98386",
       "version_major": 2,
       "version_minor": 0
      },
      "text/plain": [
       "Downloading builder script:   0%|          | 0.00/2.62k [00:00<?, ?B/s]"
      ]
     },
     "metadata": {},
     "output_type": "display_data"
    },
    {
     "data": {
      "application/vnd.jupyter.widget-view+json": {
       "model_id": "1ef7a85cdd7845918dea3994fb249934",
       "version_major": 2,
       "version_minor": 0
      },
      "text/plain": [
       "Downloading metadata:   0%|          | 0.00/2.04k [00:00<?, ?B/s]"
      ]
     },
     "metadata": {},
     "output_type": "display_data"
    },
    {
     "name": "stdout",
     "output_type": "stream",
     "text": [
      "Downloading and preparing dataset librispeech_asr/clean (download: 28.05 GiB, generated: 29.10 GiB, post-processed: Unknown size, total: 57.15 GiB) to /root/.cache/huggingface/datasets/librispeech_asr/clean/2.1.0/14c8bffddb861b4b3a4fcdff648a56980dbb808f3fc56f5a3d56b18ee88458eb...\n"
     ]
    },
    {
     "data": {
      "application/vnd.jupyter.widget-view+json": {
       "model_id": "dd6f22b0d01941afa4e5c03e410495d4",
       "version_major": 2,
       "version_minor": 0
      },
      "text/plain": [
       "Downloading data files:   0%|          | 0/4 [00:00<?, ?it/s]"
      ]
     },
     "metadata": {},
     "output_type": "display_data"
    },
    {
     "data": {
      "application/vnd.jupyter.widget-view+json": {
       "model_id": "b112b8ecff68417d85f8d25d24f43cf7",
       "version_major": 2,
       "version_minor": 0
      },
      "text/plain": [
       "Downloading data:   0%|          | 0.00/338M [00:00<?, ?B/s]"
      ]
     },
     "metadata": {},
     "output_type": "display_data"
    },
    {
     "ename": "KeyboardInterrupt",
     "evalue": "",
     "output_type": "error",
     "traceback": [
      "\u001b[0;31m---------------------------------------------------------------------------\u001b[0m",
      "\u001b[0;31mKeyboardInterrupt\u001b[0m                         Traceback (most recent call last)",
      "Input \u001b[0;32mIn [10]\u001b[0m, in \u001b[0;36m<cell line: 7>\u001b[0;34m()\u001b[0m\n\u001b[1;32m      3\u001b[0m \u001b[38;5;28;01mimport\u001b[39;00m \u001b[38;5;21;01mtorch\u001b[39;00m\n\u001b[1;32m      4\u001b[0m \u001b[38;5;28;01mfrom\u001b[39;00m \u001b[38;5;21;01mjiwer\u001b[39;00m \u001b[38;5;28;01mimport\u001b[39;00m wer\n\u001b[0;32m----> 7\u001b[0m librispeech_eval \u001b[38;5;241m=\u001b[39m \u001b[43mload_dataset\u001b[49m\u001b[43m(\u001b[49m\u001b[38;5;124;43m\"\u001b[39;49m\u001b[38;5;124;43mlibrispeech_asr\u001b[39;49m\u001b[38;5;124;43m\"\u001b[39;49m\u001b[43m,\u001b[49m\u001b[43m \u001b[49m\u001b[38;5;124;43m\"\u001b[39;49m\u001b[38;5;124;43mclean\u001b[39;49m\u001b[38;5;124;43m\"\u001b[39;49m\u001b[43m,\u001b[49m\u001b[43m \u001b[49m\u001b[43msplit\u001b[49m\u001b[38;5;241;43m=\u001b[39;49m\u001b[38;5;124;43m\"\u001b[39;49m\u001b[38;5;124;43mtest\u001b[39;49m\u001b[38;5;124;43m\"\u001b[39;49m\u001b[43m)\u001b[49m\n\u001b[1;32m      9\u001b[0m model \u001b[38;5;241m=\u001b[39m Wav2Vec2ForCTC\u001b[38;5;241m.\u001b[39mfrom_pretrained(\u001b[38;5;124m\"\u001b[39m\u001b[38;5;124mfacebook/wav2vec2-base-960h\u001b[39m\u001b[38;5;124m\"\u001b[39m)\u001b[38;5;241m.\u001b[39mto(\u001b[38;5;124m\"\u001b[39m\u001b[38;5;124mcuda\u001b[39m\u001b[38;5;124m\"\u001b[39m)\n\u001b[1;32m     10\u001b[0m processor \u001b[38;5;241m=\u001b[39m Wav2Vec2Processor\u001b[38;5;241m.\u001b[39mfrom_pretrained(\u001b[38;5;124m\"\u001b[39m\u001b[38;5;124mfacebook/wav2vec2-base-960h\u001b[39m\u001b[38;5;124m\"\u001b[39m)\n",
      "File \u001b[0;32m/opt/conda/lib/python3.8/site-packages/datasets/load.py:1746\u001b[0m, in \u001b[0;36mload_dataset\u001b[0;34m(path, name, data_dir, data_files, split, cache_dir, features, download_config, download_mode, ignore_verifications, keep_in_memory, save_infos, revision, use_auth_token, task, streaming, **config_kwargs)\u001b[0m\n\u001b[1;32m   1743\u001b[0m try_from_hf_gcs \u001b[38;5;241m=\u001b[39m path \u001b[38;5;129;01mnot\u001b[39;00m \u001b[38;5;129;01min\u001b[39;00m _PACKAGED_DATASETS_MODULES\n\u001b[1;32m   1745\u001b[0m \u001b[38;5;66;03m# Download and prepare data\u001b[39;00m\n\u001b[0;32m-> 1746\u001b[0m \u001b[43mbuilder_instance\u001b[49m\u001b[38;5;241;43m.\u001b[39;49m\u001b[43mdownload_and_prepare\u001b[49m\u001b[43m(\u001b[49m\n\u001b[1;32m   1747\u001b[0m \u001b[43m    \u001b[49m\u001b[43mdownload_config\u001b[49m\u001b[38;5;241;43m=\u001b[39;49m\u001b[43mdownload_config\u001b[49m\u001b[43m,\u001b[49m\n\u001b[1;32m   1748\u001b[0m \u001b[43m    \u001b[49m\u001b[43mdownload_mode\u001b[49m\u001b[38;5;241;43m=\u001b[39;49m\u001b[43mdownload_mode\u001b[49m\u001b[43m,\u001b[49m\n\u001b[1;32m   1749\u001b[0m \u001b[43m    \u001b[49m\u001b[43mignore_verifications\u001b[49m\u001b[38;5;241;43m=\u001b[39;49m\u001b[43mignore_verifications\u001b[49m\u001b[43m,\u001b[49m\n\u001b[1;32m   1750\u001b[0m \u001b[43m    \u001b[49m\u001b[43mtry_from_hf_gcs\u001b[49m\u001b[38;5;241;43m=\u001b[39;49m\u001b[43mtry_from_hf_gcs\u001b[49m\u001b[43m,\u001b[49m\n\u001b[1;32m   1751\u001b[0m \u001b[43m    \u001b[49m\u001b[43muse_auth_token\u001b[49m\u001b[38;5;241;43m=\u001b[39;49m\u001b[43muse_auth_token\u001b[49m\u001b[43m,\u001b[49m\n\u001b[1;32m   1752\u001b[0m \u001b[43m\u001b[49m\u001b[43m)\u001b[49m\n\u001b[1;32m   1754\u001b[0m \u001b[38;5;66;03m# Build dataset for splits\u001b[39;00m\n\u001b[1;32m   1755\u001b[0m keep_in_memory \u001b[38;5;241m=\u001b[39m (\n\u001b[1;32m   1756\u001b[0m     keep_in_memory \u001b[38;5;28;01mif\u001b[39;00m keep_in_memory \u001b[38;5;129;01mis\u001b[39;00m \u001b[38;5;129;01mnot\u001b[39;00m \u001b[38;5;28;01mNone\u001b[39;00m \u001b[38;5;28;01melse\u001b[39;00m is_small_dataset(builder_instance\u001b[38;5;241m.\u001b[39minfo\u001b[38;5;241m.\u001b[39mdataset_size)\n\u001b[1;32m   1757\u001b[0m )\n",
      "File \u001b[0;32m/opt/conda/lib/python3.8/site-packages/datasets/builder.py:704\u001b[0m, in \u001b[0;36mDatasetBuilder.download_and_prepare\u001b[0;34m(self, download_config, download_mode, ignore_verifications, try_from_hf_gcs, dl_manager, base_path, use_auth_token, **download_and_prepare_kwargs)\u001b[0m\n\u001b[1;32m    702\u001b[0m         logger\u001b[38;5;241m.\u001b[39mwarning(\u001b[38;5;124m\"\u001b[39m\u001b[38;5;124mHF google storage unreachable. Downloading and preparing it from source\u001b[39m\u001b[38;5;124m\"\u001b[39m)\n\u001b[1;32m    703\u001b[0m \u001b[38;5;28;01mif\u001b[39;00m \u001b[38;5;129;01mnot\u001b[39;00m downloaded_from_gcs:\n\u001b[0;32m--> 704\u001b[0m     \u001b[38;5;28;43mself\u001b[39;49m\u001b[38;5;241;43m.\u001b[39;49m\u001b[43m_download_and_prepare\u001b[49m\u001b[43m(\u001b[49m\n\u001b[1;32m    705\u001b[0m \u001b[43m        \u001b[49m\u001b[43mdl_manager\u001b[49m\u001b[38;5;241;43m=\u001b[39;49m\u001b[43mdl_manager\u001b[49m\u001b[43m,\u001b[49m\u001b[43m \u001b[49m\u001b[43mverify_infos\u001b[49m\u001b[38;5;241;43m=\u001b[39;49m\u001b[43mverify_infos\u001b[49m\u001b[43m,\u001b[49m\u001b[43m \u001b[49m\u001b[38;5;241;43m*\u001b[39;49m\u001b[38;5;241;43m*\u001b[39;49m\u001b[43mdownload_and_prepare_kwargs\u001b[49m\n\u001b[1;32m    706\u001b[0m \u001b[43m    \u001b[49m\u001b[43m)\u001b[49m\n\u001b[1;32m    707\u001b[0m \u001b[38;5;66;03m# Sync info\u001b[39;00m\n\u001b[1;32m    708\u001b[0m \u001b[38;5;28mself\u001b[39m\u001b[38;5;241m.\u001b[39minfo\u001b[38;5;241m.\u001b[39mdataset_size \u001b[38;5;241m=\u001b[39m \u001b[38;5;28msum\u001b[39m(split\u001b[38;5;241m.\u001b[39mnum_bytes \u001b[38;5;28;01mfor\u001b[39;00m split \u001b[38;5;129;01min\u001b[39;00m \u001b[38;5;28mself\u001b[39m\u001b[38;5;241m.\u001b[39minfo\u001b[38;5;241m.\u001b[39msplits\u001b[38;5;241m.\u001b[39mvalues())\n",
      "File \u001b[0;32m/opt/conda/lib/python3.8/site-packages/datasets/builder.py:1227\u001b[0m, in \u001b[0;36mGeneratorBasedBuilder._download_and_prepare\u001b[0;34m(self, dl_manager, verify_infos)\u001b[0m\n\u001b[1;32m   1226\u001b[0m \u001b[38;5;28;01mdef\u001b[39;00m \u001b[38;5;21m_download_and_prepare\u001b[39m(\u001b[38;5;28mself\u001b[39m, dl_manager, verify_infos):\n\u001b[0;32m-> 1227\u001b[0m     \u001b[38;5;28;43msuper\u001b[39;49m\u001b[43m(\u001b[49m\u001b[43m)\u001b[49m\u001b[38;5;241;43m.\u001b[39;49m\u001b[43m_download_and_prepare\u001b[49m\u001b[43m(\u001b[49m\u001b[43mdl_manager\u001b[49m\u001b[43m,\u001b[49m\u001b[43m \u001b[49m\u001b[43mverify_infos\u001b[49m\u001b[43m,\u001b[49m\u001b[43m \u001b[49m\u001b[43mcheck_duplicate_keys\u001b[49m\u001b[38;5;241;43m=\u001b[39;49m\u001b[43mverify_infos\u001b[49m\u001b[43m)\u001b[49m\n",
      "File \u001b[0;32m/opt/conda/lib/python3.8/site-packages/datasets/builder.py:771\u001b[0m, in \u001b[0;36mDatasetBuilder._download_and_prepare\u001b[0;34m(self, dl_manager, verify_infos, **prepare_split_kwargs)\u001b[0m\n\u001b[1;32m    769\u001b[0m split_dict \u001b[38;5;241m=\u001b[39m SplitDict(dataset_name\u001b[38;5;241m=\u001b[39m\u001b[38;5;28mself\u001b[39m\u001b[38;5;241m.\u001b[39mname)\n\u001b[1;32m    770\u001b[0m split_generators_kwargs \u001b[38;5;241m=\u001b[39m \u001b[38;5;28mself\u001b[39m\u001b[38;5;241m.\u001b[39m_make_split_generators_kwargs(prepare_split_kwargs)\n\u001b[0;32m--> 771\u001b[0m split_generators \u001b[38;5;241m=\u001b[39m \u001b[38;5;28;43mself\u001b[39;49m\u001b[38;5;241;43m.\u001b[39;49m\u001b[43m_split_generators\u001b[49m\u001b[43m(\u001b[49m\u001b[43mdl_manager\u001b[49m\u001b[43m,\u001b[49m\u001b[43m \u001b[49m\u001b[38;5;241;43m*\u001b[39;49m\u001b[38;5;241;43m*\u001b[39;49m\u001b[43msplit_generators_kwargs\u001b[49m\u001b[43m)\u001b[49m\n\u001b[1;32m    773\u001b[0m \u001b[38;5;66;03m# Checksums verification\u001b[39;00m\n\u001b[1;32m    774\u001b[0m \u001b[38;5;28;01mif\u001b[39;00m verify_infos \u001b[38;5;129;01mand\u001b[39;00m dl_manager\u001b[38;5;241m.\u001b[39mrecord_checksums:\n",
      "File \u001b[0;32m~/.cache/huggingface/modules/datasets_modules/datasets/librispeech_asr/14c8bffddb861b4b3a4fcdff648a56980dbb808f3fc56f5a3d56b18ee88458eb/librispeech_asr.py:117\u001b[0m, in \u001b[0;36mLibrispeechASR._split_generators\u001b[0;34m(self, dl_manager)\u001b[0m\n\u001b[1;32m    116\u001b[0m \u001b[38;5;28;01mdef\u001b[39;00m \u001b[38;5;21m_split_generators\u001b[39m(\u001b[38;5;28mself\u001b[39m, dl_manager):\n\u001b[0;32m--> 117\u001b[0m     archive_path \u001b[38;5;241m=\u001b[39m \u001b[43mdl_manager\u001b[49m\u001b[38;5;241;43m.\u001b[39;49m\u001b[43mdownload\u001b[49m\u001b[43m(\u001b[49m\u001b[43m_DL_URLS\u001b[49m\u001b[43m[\u001b[49m\u001b[38;5;28;43mself\u001b[39;49m\u001b[38;5;241;43m.\u001b[39;49m\u001b[43mconfig\u001b[49m\u001b[38;5;241;43m.\u001b[39;49m\u001b[43mname\u001b[49m\u001b[43m]\u001b[49m\u001b[43m)\u001b[49m\n\u001b[1;32m    118\u001b[0m     \u001b[38;5;66;03m# (Optional) In non-streaming mode, we can extract the archive locally to have actual local audio files:\u001b[39;00m\n\u001b[1;32m    119\u001b[0m     local_extracted_archive \u001b[38;5;241m=\u001b[39m dl_manager\u001b[38;5;241m.\u001b[39mextract(archive_path) \u001b[38;5;28;01mif\u001b[39;00m \u001b[38;5;129;01mnot\u001b[39;00m dl_manager\u001b[38;5;241m.\u001b[39mis_streaming \u001b[38;5;28;01melse\u001b[39;00m {}\n",
      "File \u001b[0;32m/opt/conda/lib/python3.8/site-packages/datasets/download/download_manager.py:309\u001b[0m, in \u001b[0;36mDownloadManager.download\u001b[0;34m(self, url_or_urls)\u001b[0m\n\u001b[1;32m    306\u001b[0m download_func \u001b[38;5;241m=\u001b[39m partial(\u001b[38;5;28mself\u001b[39m\u001b[38;5;241m.\u001b[39m_download, download_config\u001b[38;5;241m=\u001b[39mdownload_config)\n\u001b[1;32m    308\u001b[0m start_time \u001b[38;5;241m=\u001b[39m datetime\u001b[38;5;241m.\u001b[39mnow()\n\u001b[0;32m--> 309\u001b[0m downloaded_path_or_paths \u001b[38;5;241m=\u001b[39m \u001b[43mmap_nested\u001b[49m\u001b[43m(\u001b[49m\n\u001b[1;32m    310\u001b[0m \u001b[43m    \u001b[49m\u001b[43mdownload_func\u001b[49m\u001b[43m,\u001b[49m\n\u001b[1;32m    311\u001b[0m \u001b[43m    \u001b[49m\u001b[43murl_or_urls\u001b[49m\u001b[43m,\u001b[49m\n\u001b[1;32m    312\u001b[0m \u001b[43m    \u001b[49m\u001b[43mmap_tuple\u001b[49m\u001b[38;5;241;43m=\u001b[39;49m\u001b[38;5;28;43;01mTrue\u001b[39;49;00m\u001b[43m,\u001b[49m\n\u001b[1;32m    313\u001b[0m \u001b[43m    \u001b[49m\u001b[43mnum_proc\u001b[49m\u001b[38;5;241;43m=\u001b[39;49m\u001b[43mdownload_config\u001b[49m\u001b[38;5;241;43m.\u001b[39;49m\u001b[43mnum_proc\u001b[49m\u001b[43m,\u001b[49m\n\u001b[1;32m    314\u001b[0m \u001b[43m    \u001b[49m\u001b[43mdisable_tqdm\u001b[49m\u001b[38;5;241;43m=\u001b[39;49m\u001b[38;5;129;43;01mnot\u001b[39;49;00m\u001b[43m \u001b[49m\u001b[43mis_progress_bar_enabled\u001b[49m\u001b[43m(\u001b[49m\u001b[43m)\u001b[49m\u001b[43m,\u001b[49m\n\u001b[1;32m    315\u001b[0m \u001b[43m    \u001b[49m\u001b[43mdesc\u001b[49m\u001b[38;5;241;43m=\u001b[39;49m\u001b[38;5;124;43m\"\u001b[39;49m\u001b[38;5;124;43mDownloading data files\u001b[39;49m\u001b[38;5;124;43m\"\u001b[39;49m\u001b[43m,\u001b[49m\n\u001b[1;32m    316\u001b[0m \u001b[43m\u001b[49m\u001b[43m)\u001b[49m\n\u001b[1;32m    317\u001b[0m duration \u001b[38;5;241m=\u001b[39m datetime\u001b[38;5;241m.\u001b[39mnow() \u001b[38;5;241m-\u001b[39m start_time\n\u001b[1;32m    318\u001b[0m logger\u001b[38;5;241m.\u001b[39minfo(\u001b[38;5;124mf\u001b[39m\u001b[38;5;124m\"\u001b[39m\u001b[38;5;124mDownloading took \u001b[39m\u001b[38;5;132;01m{\u001b[39;00mduration\u001b[38;5;241m.\u001b[39mtotal_seconds() \u001b[38;5;241m/\u001b[39m\u001b[38;5;241m/\u001b[39m \u001b[38;5;241m60\u001b[39m\u001b[38;5;132;01m}\u001b[39;00m\u001b[38;5;124m min\u001b[39m\u001b[38;5;124m\"\u001b[39m)\n",
      "File \u001b[0;32m/opt/conda/lib/python3.8/site-packages/datasets/utils/py_utils.py:393\u001b[0m, in \u001b[0;36mmap_nested\u001b[0;34m(function, data_struct, dict_only, map_list, map_tuple, map_numpy, num_proc, types, disable_tqdm, desc)\u001b[0m\n\u001b[1;32m    391\u001b[0m     num_proc \u001b[38;5;241m=\u001b[39m \u001b[38;5;241m1\u001b[39m\n\u001b[1;32m    392\u001b[0m \u001b[38;5;28;01mif\u001b[39;00m num_proc \u001b[38;5;241m<\u001b[39m\u001b[38;5;241m=\u001b[39m \u001b[38;5;241m1\u001b[39m \u001b[38;5;129;01mor\u001b[39;00m \u001b[38;5;28mlen\u001b[39m(iterable) \u001b[38;5;241m<\u001b[39m\u001b[38;5;241m=\u001b[39m num_proc:\n\u001b[0;32m--> 393\u001b[0m     mapped \u001b[38;5;241m=\u001b[39m [\n\u001b[1;32m    394\u001b[0m         _single_map_nested((function, obj, types, \u001b[38;5;28;01mNone\u001b[39;00m, \u001b[38;5;28;01mTrue\u001b[39;00m, \u001b[38;5;28;01mNone\u001b[39;00m))\n\u001b[1;32m    395\u001b[0m         \u001b[38;5;28;01mfor\u001b[39;00m obj \u001b[38;5;129;01min\u001b[39;00m logging\u001b[38;5;241m.\u001b[39mtqdm(iterable, disable\u001b[38;5;241m=\u001b[39mdisable_tqdm, desc\u001b[38;5;241m=\u001b[39mdesc)\n\u001b[1;32m    396\u001b[0m     ]\n\u001b[1;32m    397\u001b[0m \u001b[38;5;28;01melse\u001b[39;00m:\n\u001b[1;32m    398\u001b[0m     split_kwds \u001b[38;5;241m=\u001b[39m []  \u001b[38;5;66;03m# We organize the splits ourselve (contiguous splits)\u001b[39;00m\n",
      "File \u001b[0;32m/opt/conda/lib/python3.8/site-packages/datasets/utils/py_utils.py:394\u001b[0m, in \u001b[0;36m<listcomp>\u001b[0;34m(.0)\u001b[0m\n\u001b[1;32m    391\u001b[0m     num_proc \u001b[38;5;241m=\u001b[39m \u001b[38;5;241m1\u001b[39m\n\u001b[1;32m    392\u001b[0m \u001b[38;5;28;01mif\u001b[39;00m num_proc \u001b[38;5;241m<\u001b[39m\u001b[38;5;241m=\u001b[39m \u001b[38;5;241m1\u001b[39m \u001b[38;5;129;01mor\u001b[39;00m \u001b[38;5;28mlen\u001b[39m(iterable) \u001b[38;5;241m<\u001b[39m\u001b[38;5;241m=\u001b[39m num_proc:\n\u001b[1;32m    393\u001b[0m     mapped \u001b[38;5;241m=\u001b[39m [\n\u001b[0;32m--> 394\u001b[0m         \u001b[43m_single_map_nested\u001b[49m\u001b[43m(\u001b[49m\u001b[43m(\u001b[49m\u001b[43mfunction\u001b[49m\u001b[43m,\u001b[49m\u001b[43m \u001b[49m\u001b[43mobj\u001b[49m\u001b[43m,\u001b[49m\u001b[43m \u001b[49m\u001b[43mtypes\u001b[49m\u001b[43m,\u001b[49m\u001b[43m \u001b[49m\u001b[38;5;28;43;01mNone\u001b[39;49;00m\u001b[43m,\u001b[49m\u001b[43m \u001b[49m\u001b[38;5;28;43;01mTrue\u001b[39;49;00m\u001b[43m,\u001b[49m\u001b[43m \u001b[49m\u001b[38;5;28;43;01mNone\u001b[39;49;00m\u001b[43m)\u001b[49m\u001b[43m)\u001b[49m\n\u001b[1;32m    395\u001b[0m         \u001b[38;5;28;01mfor\u001b[39;00m obj \u001b[38;5;129;01min\u001b[39;00m logging\u001b[38;5;241m.\u001b[39mtqdm(iterable, disable\u001b[38;5;241m=\u001b[39mdisable_tqdm, desc\u001b[38;5;241m=\u001b[39mdesc)\n\u001b[1;32m    396\u001b[0m     ]\n\u001b[1;32m    397\u001b[0m \u001b[38;5;28;01melse\u001b[39;00m:\n\u001b[1;32m    398\u001b[0m     split_kwds \u001b[38;5;241m=\u001b[39m []  \u001b[38;5;66;03m# We organize the splits ourselve (contiguous splits)\u001b[39;00m\n",
      "File \u001b[0;32m/opt/conda/lib/python3.8/site-packages/datasets/utils/py_utils.py:330\u001b[0m, in \u001b[0;36m_single_map_nested\u001b[0;34m(args)\u001b[0m\n\u001b[1;32m    328\u001b[0m \u001b[38;5;66;03m# Singleton first to spare some computation\u001b[39;00m\n\u001b[1;32m    329\u001b[0m \u001b[38;5;28;01mif\u001b[39;00m \u001b[38;5;129;01mnot\u001b[39;00m \u001b[38;5;28misinstance\u001b[39m(data_struct, \u001b[38;5;28mdict\u001b[39m) \u001b[38;5;129;01mand\u001b[39;00m \u001b[38;5;129;01mnot\u001b[39;00m \u001b[38;5;28misinstance\u001b[39m(data_struct, types):\n\u001b[0;32m--> 330\u001b[0m     \u001b[38;5;28;01mreturn\u001b[39;00m \u001b[43mfunction\u001b[49m\u001b[43m(\u001b[49m\u001b[43mdata_struct\u001b[49m\u001b[43m)\u001b[49m\n\u001b[1;32m    332\u001b[0m \u001b[38;5;66;03m# Reduce logging to keep things readable in multiprocessing with tqdm\u001b[39;00m\n\u001b[1;32m    333\u001b[0m \u001b[38;5;28;01mif\u001b[39;00m rank \u001b[38;5;129;01mis\u001b[39;00m \u001b[38;5;129;01mnot\u001b[39;00m \u001b[38;5;28;01mNone\u001b[39;00m \u001b[38;5;129;01mand\u001b[39;00m logging\u001b[38;5;241m.\u001b[39mget_verbosity() \u001b[38;5;241m<\u001b[39m logging\u001b[38;5;241m.\u001b[39mWARNING:\n",
      "File \u001b[0;32m/opt/conda/lib/python3.8/site-packages/datasets/download/download_manager.py:335\u001b[0m, in \u001b[0;36mDownloadManager._download\u001b[0;34m(self, url_or_filename, download_config)\u001b[0m\n\u001b[1;32m    332\u001b[0m \u001b[38;5;28;01mif\u001b[39;00m is_relative_path(url_or_filename):\n\u001b[1;32m    333\u001b[0m     \u001b[38;5;66;03m# append the relative path to the base_path\u001b[39;00m\n\u001b[1;32m    334\u001b[0m     url_or_filename \u001b[38;5;241m=\u001b[39m url_or_path_join(\u001b[38;5;28mself\u001b[39m\u001b[38;5;241m.\u001b[39m_base_path, url_or_filename)\n\u001b[0;32m--> 335\u001b[0m \u001b[38;5;28;01mreturn\u001b[39;00m \u001b[43mcached_path\u001b[49m\u001b[43m(\u001b[49m\u001b[43murl_or_filename\u001b[49m\u001b[43m,\u001b[49m\u001b[43m \u001b[49m\u001b[43mdownload_config\u001b[49m\u001b[38;5;241;43m=\u001b[39;49m\u001b[43mdownload_config\u001b[49m\u001b[43m)\u001b[49m\n",
      "File \u001b[0;32m/opt/conda/lib/python3.8/site-packages/datasets/utils/file_utils.py:185\u001b[0m, in \u001b[0;36mcached_path\u001b[0;34m(url_or_filename, download_config, **download_kwargs)\u001b[0m\n\u001b[1;32m    181\u001b[0m     url_or_filename \u001b[38;5;241m=\u001b[39m \u001b[38;5;28mstr\u001b[39m(url_or_filename)\n\u001b[1;32m    183\u001b[0m \u001b[38;5;28;01mif\u001b[39;00m is_remote_url(url_or_filename):\n\u001b[1;32m    184\u001b[0m     \u001b[38;5;66;03m# URL, so get it from the cache (downloading if necessary)\u001b[39;00m\n\u001b[0;32m--> 185\u001b[0m     output_path \u001b[38;5;241m=\u001b[39m \u001b[43mget_from_cache\u001b[49m\u001b[43m(\u001b[49m\n\u001b[1;32m    186\u001b[0m \u001b[43m        \u001b[49m\u001b[43murl_or_filename\u001b[49m\u001b[43m,\u001b[49m\n\u001b[1;32m    187\u001b[0m \u001b[43m        \u001b[49m\u001b[43mcache_dir\u001b[49m\u001b[38;5;241;43m=\u001b[39;49m\u001b[43mcache_dir\u001b[49m\u001b[43m,\u001b[49m\n\u001b[1;32m    188\u001b[0m \u001b[43m        \u001b[49m\u001b[43mforce_download\u001b[49m\u001b[38;5;241;43m=\u001b[39;49m\u001b[43mdownload_config\u001b[49m\u001b[38;5;241;43m.\u001b[39;49m\u001b[43mforce_download\u001b[49m\u001b[43m,\u001b[49m\n\u001b[1;32m    189\u001b[0m \u001b[43m        \u001b[49m\u001b[43mproxies\u001b[49m\u001b[38;5;241;43m=\u001b[39;49m\u001b[43mdownload_config\u001b[49m\u001b[38;5;241;43m.\u001b[39;49m\u001b[43mproxies\u001b[49m\u001b[43m,\u001b[49m\n\u001b[1;32m    190\u001b[0m \u001b[43m        \u001b[49m\u001b[43mresume_download\u001b[49m\u001b[38;5;241;43m=\u001b[39;49m\u001b[43mdownload_config\u001b[49m\u001b[38;5;241;43m.\u001b[39;49m\u001b[43mresume_download\u001b[49m\u001b[43m,\u001b[49m\n\u001b[1;32m    191\u001b[0m \u001b[43m        \u001b[49m\u001b[43muser_agent\u001b[49m\u001b[38;5;241;43m=\u001b[39;49m\u001b[43mdownload_config\u001b[49m\u001b[38;5;241;43m.\u001b[39;49m\u001b[43muser_agent\u001b[49m\u001b[43m,\u001b[49m\n\u001b[1;32m    192\u001b[0m \u001b[43m        \u001b[49m\u001b[43mlocal_files_only\u001b[49m\u001b[38;5;241;43m=\u001b[39;49m\u001b[43mdownload_config\u001b[49m\u001b[38;5;241;43m.\u001b[39;49m\u001b[43mlocal_files_only\u001b[49m\u001b[43m,\u001b[49m\n\u001b[1;32m    193\u001b[0m \u001b[43m        \u001b[49m\u001b[43muse_etag\u001b[49m\u001b[38;5;241;43m=\u001b[39;49m\u001b[43mdownload_config\u001b[49m\u001b[38;5;241;43m.\u001b[39;49m\u001b[43muse_etag\u001b[49m\u001b[43m,\u001b[49m\n\u001b[1;32m    194\u001b[0m \u001b[43m        \u001b[49m\u001b[43mmax_retries\u001b[49m\u001b[38;5;241;43m=\u001b[39;49m\u001b[43mdownload_config\u001b[49m\u001b[38;5;241;43m.\u001b[39;49m\u001b[43mmax_retries\u001b[49m\u001b[43m,\u001b[49m\n\u001b[1;32m    195\u001b[0m \u001b[43m        \u001b[49m\u001b[43muse_auth_token\u001b[49m\u001b[38;5;241;43m=\u001b[39;49m\u001b[43mdownload_config\u001b[49m\u001b[38;5;241;43m.\u001b[39;49m\u001b[43muse_auth_token\u001b[49m\u001b[43m,\u001b[49m\n\u001b[1;32m    196\u001b[0m \u001b[43m        \u001b[49m\u001b[43mignore_url_params\u001b[49m\u001b[38;5;241;43m=\u001b[39;49m\u001b[43mdownload_config\u001b[49m\u001b[38;5;241;43m.\u001b[39;49m\u001b[43mignore_url_params\u001b[49m\u001b[43m,\u001b[49m\n\u001b[1;32m    197\u001b[0m \u001b[43m        \u001b[49m\u001b[43mdownload_desc\u001b[49m\u001b[38;5;241;43m=\u001b[39;49m\u001b[43mdownload_config\u001b[49m\u001b[38;5;241;43m.\u001b[39;49m\u001b[43mdownload_desc\u001b[49m\u001b[43m,\u001b[49m\n\u001b[1;32m    198\u001b[0m \u001b[43m    \u001b[49m\u001b[43m)\u001b[49m\n\u001b[1;32m    199\u001b[0m \u001b[38;5;28;01melif\u001b[39;00m os\u001b[38;5;241m.\u001b[39mpath\u001b[38;5;241m.\u001b[39mexists(url_or_filename):\n\u001b[1;32m    200\u001b[0m     \u001b[38;5;66;03m# File, and it exists.\u001b[39;00m\n\u001b[1;32m    201\u001b[0m     output_path \u001b[38;5;241m=\u001b[39m url_or_filename\n",
      "File \u001b[0;32m/opt/conda/lib/python3.8/site-packages/datasets/utils/file_utils.py:577\u001b[0m, in \u001b[0;36mget_from_cache\u001b[0;34m(url, cache_dir, force_download, proxies, etag_timeout, resume_download, user_agent, local_files_only, use_etag, max_retries, use_auth_token, ignore_url_params, download_desc)\u001b[0m\n\u001b[1;32m    575\u001b[0m         ftp_get(url, temp_file)\n\u001b[1;32m    576\u001b[0m     \u001b[38;5;28;01melse\u001b[39;00m:\n\u001b[0;32m--> 577\u001b[0m         \u001b[43mhttp_get\u001b[49m\u001b[43m(\u001b[49m\n\u001b[1;32m    578\u001b[0m \u001b[43m            \u001b[49m\u001b[43murl\u001b[49m\u001b[43m,\u001b[49m\n\u001b[1;32m    579\u001b[0m \u001b[43m            \u001b[49m\u001b[43mtemp_file\u001b[49m\u001b[43m,\u001b[49m\n\u001b[1;32m    580\u001b[0m \u001b[43m            \u001b[49m\u001b[43mproxies\u001b[49m\u001b[38;5;241;43m=\u001b[39;49m\u001b[43mproxies\u001b[49m\u001b[43m,\u001b[49m\n\u001b[1;32m    581\u001b[0m \u001b[43m            \u001b[49m\u001b[43mresume_size\u001b[49m\u001b[38;5;241;43m=\u001b[39;49m\u001b[43mresume_size\u001b[49m\u001b[43m,\u001b[49m\n\u001b[1;32m    582\u001b[0m \u001b[43m            \u001b[49m\u001b[43mheaders\u001b[49m\u001b[38;5;241;43m=\u001b[39;49m\u001b[43mheaders\u001b[49m\u001b[43m,\u001b[49m\n\u001b[1;32m    583\u001b[0m \u001b[43m            \u001b[49m\u001b[43mcookies\u001b[49m\u001b[38;5;241;43m=\u001b[39;49m\u001b[43mcookies\u001b[49m\u001b[43m,\u001b[49m\n\u001b[1;32m    584\u001b[0m \u001b[43m            \u001b[49m\u001b[43mmax_retries\u001b[49m\u001b[38;5;241;43m=\u001b[39;49m\u001b[43mmax_retries\u001b[49m\u001b[43m,\u001b[49m\n\u001b[1;32m    585\u001b[0m \u001b[43m            \u001b[49m\u001b[43mdesc\u001b[49m\u001b[38;5;241;43m=\u001b[39;49m\u001b[43mdownload_desc\u001b[49m\u001b[43m,\u001b[49m\n\u001b[1;32m    586\u001b[0m \u001b[43m        \u001b[49m\u001b[43m)\u001b[49m\n\u001b[1;32m    588\u001b[0m logger\u001b[38;5;241m.\u001b[39minfo(\u001b[38;5;124mf\u001b[39m\u001b[38;5;124m\"\u001b[39m\u001b[38;5;124mstoring \u001b[39m\u001b[38;5;132;01m{\u001b[39;00murl\u001b[38;5;132;01m}\u001b[39;00m\u001b[38;5;124m in cache at \u001b[39m\u001b[38;5;132;01m{\u001b[39;00mcache_path\u001b[38;5;132;01m}\u001b[39;00m\u001b[38;5;124m\"\u001b[39m)\n\u001b[1;32m    589\u001b[0m shutil\u001b[38;5;241m.\u001b[39mmove(temp_file\u001b[38;5;241m.\u001b[39mname, cache_path)\n",
      "File \u001b[0;32m/opt/conda/lib/python3.8/site-packages/datasets/utils/file_utils.py:380\u001b[0m, in \u001b[0;36mhttp_get\u001b[0;34m(url, temp_file, proxies, resume_size, headers, cookies, timeout, max_retries, desc)\u001b[0m\n\u001b[1;32m    371\u001b[0m total \u001b[38;5;241m=\u001b[39m resume_size \u001b[38;5;241m+\u001b[39m \u001b[38;5;28mint\u001b[39m(content_length) \u001b[38;5;28;01mif\u001b[39;00m content_length \u001b[38;5;129;01mis\u001b[39;00m \u001b[38;5;129;01mnot\u001b[39;00m \u001b[38;5;28;01mNone\u001b[39;00m \u001b[38;5;28;01melse\u001b[39;00m \u001b[38;5;28;01mNone\u001b[39;00m\n\u001b[1;32m    372\u001b[0m \u001b[38;5;28;01mwith\u001b[39;00m logging\u001b[38;5;241m.\u001b[39mtqdm(\n\u001b[1;32m    373\u001b[0m     unit\u001b[38;5;241m=\u001b[39m\u001b[38;5;124m\"\u001b[39m\u001b[38;5;124mB\u001b[39m\u001b[38;5;124m\"\u001b[39m,\n\u001b[1;32m    374\u001b[0m     unit_scale\u001b[38;5;241m=\u001b[39m\u001b[38;5;28;01mTrue\u001b[39;00m,\n\u001b[0;32m   (...)\u001b[0m\n\u001b[1;32m    378\u001b[0m     disable\u001b[38;5;241m=\u001b[39m\u001b[38;5;129;01mnot\u001b[39;00m logging\u001b[38;5;241m.\u001b[39mis_progress_bar_enabled(),\n\u001b[1;32m    379\u001b[0m ) \u001b[38;5;28;01mas\u001b[39;00m progress:\n\u001b[0;32m--> 380\u001b[0m     \u001b[38;5;28;01mfor\u001b[39;00m chunk \u001b[38;5;129;01min\u001b[39;00m response\u001b[38;5;241m.\u001b[39miter_content(chunk_size\u001b[38;5;241m=\u001b[39m\u001b[38;5;241m1024\u001b[39m):\n\u001b[1;32m    381\u001b[0m         progress\u001b[38;5;241m.\u001b[39mupdate(\u001b[38;5;28mlen\u001b[39m(chunk))\n\u001b[1;32m    382\u001b[0m         temp_file\u001b[38;5;241m.\u001b[39mwrite(chunk)\n",
      "File \u001b[0;32m/opt/conda/lib/python3.8/site-packages/requests/models.py:753\u001b[0m, in \u001b[0;36mResponse.iter_content.<locals>.generate\u001b[0;34m()\u001b[0m\n\u001b[1;32m    751\u001b[0m \u001b[38;5;28;01mif\u001b[39;00m \u001b[38;5;28mhasattr\u001b[39m(\u001b[38;5;28mself\u001b[39m\u001b[38;5;241m.\u001b[39mraw, \u001b[38;5;124m'\u001b[39m\u001b[38;5;124mstream\u001b[39m\u001b[38;5;124m'\u001b[39m):\n\u001b[1;32m    752\u001b[0m     \u001b[38;5;28;01mtry\u001b[39;00m:\n\u001b[0;32m--> 753\u001b[0m         \u001b[38;5;28;01mfor\u001b[39;00m chunk \u001b[38;5;129;01min\u001b[39;00m \u001b[38;5;28mself\u001b[39m\u001b[38;5;241m.\u001b[39mraw\u001b[38;5;241m.\u001b[39mstream(chunk_size, decode_content\u001b[38;5;241m=\u001b[39m\u001b[38;5;28;01mTrue\u001b[39;00m):\n\u001b[1;32m    754\u001b[0m             \u001b[38;5;28;01myield\u001b[39;00m chunk\n\u001b[1;32m    755\u001b[0m     \u001b[38;5;28;01mexcept\u001b[39;00m ProtocolError \u001b[38;5;28;01mas\u001b[39;00m e:\n",
      "File \u001b[0;32m/opt/conda/lib/python3.8/site-packages/urllib3/response.py:576\u001b[0m, in \u001b[0;36mHTTPResponse.stream\u001b[0;34m(self, amt, decode_content)\u001b[0m\n\u001b[1;32m    574\u001b[0m \u001b[38;5;28;01melse\u001b[39;00m:\n\u001b[1;32m    575\u001b[0m     \u001b[38;5;28;01mwhile\u001b[39;00m \u001b[38;5;129;01mnot\u001b[39;00m is_fp_closed(\u001b[38;5;28mself\u001b[39m\u001b[38;5;241m.\u001b[39m_fp):\n\u001b[0;32m--> 576\u001b[0m         data \u001b[38;5;241m=\u001b[39m \u001b[38;5;28;43mself\u001b[39;49m\u001b[38;5;241;43m.\u001b[39;49m\u001b[43mread\u001b[49m\u001b[43m(\u001b[49m\u001b[43mamt\u001b[49m\u001b[38;5;241;43m=\u001b[39;49m\u001b[43mamt\u001b[49m\u001b[43m,\u001b[49m\u001b[43m \u001b[49m\u001b[43mdecode_content\u001b[49m\u001b[38;5;241;43m=\u001b[39;49m\u001b[43mdecode_content\u001b[49m\u001b[43m)\u001b[49m\n\u001b[1;32m    578\u001b[0m         \u001b[38;5;28;01mif\u001b[39;00m data:\n\u001b[1;32m    579\u001b[0m             \u001b[38;5;28;01myield\u001b[39;00m data\n",
      "File \u001b[0;32m/opt/conda/lib/python3.8/site-packages/urllib3/response.py:519\u001b[0m, in \u001b[0;36mHTTPResponse.read\u001b[0;34m(self, amt, decode_content, cache_content)\u001b[0m\n\u001b[1;32m    517\u001b[0m \u001b[38;5;28;01melse\u001b[39;00m:\n\u001b[1;32m    518\u001b[0m     cache_content \u001b[38;5;241m=\u001b[39m \u001b[38;5;28;01mFalse\u001b[39;00m\n\u001b[0;32m--> 519\u001b[0m     data \u001b[38;5;241m=\u001b[39m \u001b[38;5;28;43mself\u001b[39;49m\u001b[38;5;241;43m.\u001b[39;49m\u001b[43m_fp\u001b[49m\u001b[38;5;241;43m.\u001b[39;49m\u001b[43mread\u001b[49m\u001b[43m(\u001b[49m\u001b[43mamt\u001b[49m\u001b[43m)\u001b[49m \u001b[38;5;28;01mif\u001b[39;00m \u001b[38;5;129;01mnot\u001b[39;00m fp_closed \u001b[38;5;28;01melse\u001b[39;00m \u001b[38;5;124mb\u001b[39m\u001b[38;5;124m\"\u001b[39m\u001b[38;5;124m\"\u001b[39m\n\u001b[1;32m    520\u001b[0m     \u001b[38;5;28;01mif\u001b[39;00m (\n\u001b[1;32m    521\u001b[0m         amt \u001b[38;5;241m!=\u001b[39m \u001b[38;5;241m0\u001b[39m \u001b[38;5;129;01mand\u001b[39;00m \u001b[38;5;129;01mnot\u001b[39;00m data\n\u001b[1;32m    522\u001b[0m     ):  \u001b[38;5;66;03m# Platform-specific: Buggy versions of Python.\u001b[39;00m\n\u001b[0;32m   (...)\u001b[0m\n\u001b[1;32m    528\u001b[0m         \u001b[38;5;66;03m# not properly close the connection in all cases. There is\u001b[39;00m\n\u001b[1;32m    529\u001b[0m         \u001b[38;5;66;03m# no harm in redundantly calling close.\u001b[39;00m\n\u001b[1;32m    530\u001b[0m         \u001b[38;5;28mself\u001b[39m\u001b[38;5;241m.\u001b[39m_fp\u001b[38;5;241m.\u001b[39mclose()\n",
      "File \u001b[0;32m/opt/conda/lib/python3.8/http/client.py:458\u001b[0m, in \u001b[0;36mHTTPResponse.read\u001b[0;34m(self, amt)\u001b[0m\n\u001b[1;32m    455\u001b[0m \u001b[38;5;28;01mif\u001b[39;00m amt \u001b[38;5;129;01mis\u001b[39;00m \u001b[38;5;129;01mnot\u001b[39;00m \u001b[38;5;28;01mNone\u001b[39;00m:\n\u001b[1;32m    456\u001b[0m     \u001b[38;5;66;03m# Amount is given, implement using readinto\u001b[39;00m\n\u001b[1;32m    457\u001b[0m     b \u001b[38;5;241m=\u001b[39m \u001b[38;5;28mbytearray\u001b[39m(amt)\n\u001b[0;32m--> 458\u001b[0m     n \u001b[38;5;241m=\u001b[39m \u001b[38;5;28;43mself\u001b[39;49m\u001b[38;5;241;43m.\u001b[39;49m\u001b[43mreadinto\u001b[49m\u001b[43m(\u001b[49m\u001b[43mb\u001b[49m\u001b[43m)\u001b[49m\n\u001b[1;32m    459\u001b[0m     \u001b[38;5;28;01mreturn\u001b[39;00m \u001b[38;5;28mmemoryview\u001b[39m(b)[:n]\u001b[38;5;241m.\u001b[39mtobytes()\n\u001b[1;32m    460\u001b[0m \u001b[38;5;28;01melse\u001b[39;00m:\n\u001b[1;32m    461\u001b[0m     \u001b[38;5;66;03m# Amount is not given (unbounded read) so we must check self.length\u001b[39;00m\n\u001b[1;32m    462\u001b[0m     \u001b[38;5;66;03m# and self.chunked\u001b[39;00m\n",
      "File \u001b[0;32m/opt/conda/lib/python3.8/http/client.py:502\u001b[0m, in \u001b[0;36mHTTPResponse.readinto\u001b[0;34m(self, b)\u001b[0m\n\u001b[1;32m    497\u001b[0m         b \u001b[38;5;241m=\u001b[39m \u001b[38;5;28mmemoryview\u001b[39m(b)[\u001b[38;5;241m0\u001b[39m:\u001b[38;5;28mself\u001b[39m\u001b[38;5;241m.\u001b[39mlength]\n\u001b[1;32m    499\u001b[0m \u001b[38;5;66;03m# we do not use _safe_read() here because this may be a .will_close\u001b[39;00m\n\u001b[1;32m    500\u001b[0m \u001b[38;5;66;03m# connection, and the user is reading more bytes than will be provided\u001b[39;00m\n\u001b[1;32m    501\u001b[0m \u001b[38;5;66;03m# (for example, reading in 1k chunks)\u001b[39;00m\n\u001b[0;32m--> 502\u001b[0m n \u001b[38;5;241m=\u001b[39m \u001b[38;5;28;43mself\u001b[39;49m\u001b[38;5;241;43m.\u001b[39;49m\u001b[43mfp\u001b[49m\u001b[38;5;241;43m.\u001b[39;49m\u001b[43mreadinto\u001b[49m\u001b[43m(\u001b[49m\u001b[43mb\u001b[49m\u001b[43m)\u001b[49m\n\u001b[1;32m    503\u001b[0m \u001b[38;5;28;01mif\u001b[39;00m \u001b[38;5;129;01mnot\u001b[39;00m n \u001b[38;5;129;01mand\u001b[39;00m b:\n\u001b[1;32m    504\u001b[0m     \u001b[38;5;66;03m# Ideally, we would raise IncompleteRead if the content-length\u001b[39;00m\n\u001b[1;32m    505\u001b[0m     \u001b[38;5;66;03m# wasn't satisfied, but it might break compatibility.\u001b[39;00m\n\u001b[1;32m    506\u001b[0m     \u001b[38;5;28mself\u001b[39m\u001b[38;5;241m.\u001b[39m_close_conn()\n",
      "File \u001b[0;32m/opt/conda/lib/python3.8/socket.py:669\u001b[0m, in \u001b[0;36mSocketIO.readinto\u001b[0;34m(self, b)\u001b[0m\n\u001b[1;32m    667\u001b[0m \u001b[38;5;28;01mwhile\u001b[39;00m \u001b[38;5;28;01mTrue\u001b[39;00m:\n\u001b[1;32m    668\u001b[0m     \u001b[38;5;28;01mtry\u001b[39;00m:\n\u001b[0;32m--> 669\u001b[0m         \u001b[38;5;28;01mreturn\u001b[39;00m \u001b[38;5;28;43mself\u001b[39;49m\u001b[38;5;241;43m.\u001b[39;49m\u001b[43m_sock\u001b[49m\u001b[38;5;241;43m.\u001b[39;49m\u001b[43mrecv_into\u001b[49m\u001b[43m(\u001b[49m\u001b[43mb\u001b[49m\u001b[43m)\u001b[49m\n\u001b[1;32m    670\u001b[0m     \u001b[38;5;28;01mexcept\u001b[39;00m timeout:\n\u001b[1;32m    671\u001b[0m         \u001b[38;5;28mself\u001b[39m\u001b[38;5;241m.\u001b[39m_timeout_occurred \u001b[38;5;241m=\u001b[39m \u001b[38;5;28;01mTrue\u001b[39;00m\n",
      "\u001b[0;31mKeyboardInterrupt\u001b[0m: "
     ]
    }
   ],
   "source": [
    "from datasets import load_dataset\n",
    "from transformers import Wav2Vec2ForCTC, Wav2Vec2Processor\n",
    "import torch\n",
    "from jiwer import wer\n",
    "\n",
    "\n",
    "librispeech_eval = load_dataset(\"librispeech_asr\", \"clean\", split=\"test\")\n",
    "\n",
    "model = Wav2Vec2ForCTC.from_pretrained(\"facebook/wav2vec2-base-960h\").to(\"cuda\")\n",
    "processor = Wav2Vec2Processor.from_pretrained(\"facebook/wav2vec2-base-960h\")\n",
    "\n",
    "def map_to_pred(batch):\n",
    "    input_values = processor(batch[\"audio\"][\"array\"], return_tensors=\"pt\", padding=\"longest\").input_values\n",
    "    with torch.no_grad():\n",
    "        logits = model(input_values.to(\"cuda\")).logits\n",
    "\n",
    "    predicted_ids = torch.argmax(logits, dim=-1)\n",
    "    transcription = processor.batch_decode(predicted_ids)\n",
    "    batch[\"transcription\"] = transcription\n",
    "    return batch\n",
    "\n",
    "result = librispeech_eval.map(map_to_pred, batched=True, batch_size=1, remove_columns=[\"audio\"])\n",
    "\n",
    "print(\"WER:\", wer(result[\"text\"], result[\"transcription\"]))\n"
   ]
  },
  {
   "cell_type": "code",
   "execution_count": 1,
   "id": "db2254ee",
   "metadata": {},
   "outputs": [
    {
     "name": "stderr",
     "output_type": "stream",
     "text": [
      "Some weights of Wav2Vec2ForCTC were not initialized from the model checkpoint at facebook/wav2vec2-base-960h and are newly initialized: ['wav2vec2.masked_spec_embed']\n",
      "You should probably TRAIN this model on a down-stream task to be able to use it for predictions and inference.\n"
     ]
    }
   ],
   "source": [
    "from jiwer import wer\n",
    "from transformers import Wav2Vec2Processor, Wav2Vec2ForCTC\n",
    "from datasets import load_dataset\n",
    "import torch\n",
    "\n",
    "# load model and tokenizer\n",
    "\n",
    "processor = Wav2Vec2Processor.from_pretrained(\"facebook/wav2vec2-base-960h\")\n",
    "model = Wav2Vec2ForCTC.from_pretrained(\"facebook/wav2vec2-base-960h\")"
   ]
  },
  {
   "cell_type": "code",
   "execution_count": 2,
   "id": "a177e796",
   "metadata": {},
   "outputs": [],
   "source": [
    "import torch\n",
    "import torch.nn as nn\n",
    "model.lm_head = nn.Sequential(\n",
    "                nn.Flatten(),\n",
    "                nn.Linear(249*768,1),\n",
    "                nn.Sigmoid()\n",
    ")"
   ]
  },
  {
   "cell_type": "code",
   "execution_count": 3,
   "id": "bd37a3aa",
   "metadata": {},
   "outputs": [
    {
     "data": {
      "text/plain": [
       "Wav2Vec2ForCTC(\n",
       "  (wav2vec2): Wav2Vec2Model(\n",
       "    (feature_extractor): Wav2Vec2FeatureExtractor(\n",
       "      (conv_layers): ModuleList(\n",
       "        (0): Wav2Vec2GroupNormConvLayer(\n",
       "          (conv): Conv1d(1, 512, kernel_size=(10,), stride=(5,), bias=False)\n",
       "          (layer_norm): GroupNorm(512, 512, eps=1e-05, affine=True)\n",
       "        )\n",
       "        (1): Wav2Vec2NoLayerNormConvLayer(\n",
       "          (conv): Conv1d(512, 512, kernel_size=(3,), stride=(2,), bias=False)\n",
       "        )\n",
       "        (2): Wav2Vec2NoLayerNormConvLayer(\n",
       "          (conv): Conv1d(512, 512, kernel_size=(3,), stride=(2,), bias=False)\n",
       "        )\n",
       "        (3): Wav2Vec2NoLayerNormConvLayer(\n",
       "          (conv): Conv1d(512, 512, kernel_size=(3,), stride=(2,), bias=False)\n",
       "        )\n",
       "        (4): Wav2Vec2NoLayerNormConvLayer(\n",
       "          (conv): Conv1d(512, 512, kernel_size=(3,), stride=(2,), bias=False)\n",
       "        )\n",
       "        (5): Wav2Vec2NoLayerNormConvLayer(\n",
       "          (conv): Conv1d(512, 512, kernel_size=(2,), stride=(2,), bias=False)\n",
       "        )\n",
       "        (6): Wav2Vec2NoLayerNormConvLayer(\n",
       "          (conv): Conv1d(512, 512, kernel_size=(2,), stride=(2,), bias=False)\n",
       "        )\n",
       "      )\n",
       "    )\n",
       "    (feature_projection): Wav2Vec2FeatureProjection(\n",
       "      (layer_norm): LayerNorm((512,), eps=1e-05, elementwise_affine=True)\n",
       "      (projection): Linear(in_features=512, out_features=768, bias=True)\n",
       "      (dropout): Dropout(p=0.1, inplace=False)\n",
       "    )\n",
       "    (encoder): Wav2Vec2Encoder(\n",
       "      (pos_conv_embed): Wav2Vec2PositionalConvEmbedding(\n",
       "        (conv): Conv1d(768, 768, kernel_size=(128,), stride=(1,), padding=(64,), groups=16)\n",
       "        (padding): Wav2Vec2SamePadLayer()\n",
       "      )\n",
       "      (layer_norm): LayerNorm((768,), eps=1e-05, elementwise_affine=True)\n",
       "      (dropout): Dropout(p=0.1, inplace=False)\n",
       "      (layers): ModuleList(\n",
       "        (0): Wav2Vec2EncoderLayer(\n",
       "          (attention): Wav2Vec2Attention(\n",
       "            (k_proj): Linear(in_features=768, out_features=768, bias=True)\n",
       "            (v_proj): Linear(in_features=768, out_features=768, bias=True)\n",
       "            (q_proj): Linear(in_features=768, out_features=768, bias=True)\n",
       "            (out_proj): Linear(in_features=768, out_features=768, bias=True)\n",
       "          )\n",
       "          (dropout): Dropout(p=0.1, inplace=False)\n",
       "          (layer_norm): LayerNorm((768,), eps=1e-05, elementwise_affine=True)\n",
       "          (feed_forward): Wav2Vec2FeedForward(\n",
       "            (intermediate_dropout): Dropout(p=0.1, inplace=False)\n",
       "            (intermediate_dense): Linear(in_features=768, out_features=3072, bias=True)\n",
       "            (output_dense): Linear(in_features=3072, out_features=768, bias=True)\n",
       "            (output_dropout): Dropout(p=0.1, inplace=False)\n",
       "          )\n",
       "          (final_layer_norm): LayerNorm((768,), eps=1e-05, elementwise_affine=True)\n",
       "        )\n",
       "        (1): Wav2Vec2EncoderLayer(\n",
       "          (attention): Wav2Vec2Attention(\n",
       "            (k_proj): Linear(in_features=768, out_features=768, bias=True)\n",
       "            (v_proj): Linear(in_features=768, out_features=768, bias=True)\n",
       "            (q_proj): Linear(in_features=768, out_features=768, bias=True)\n",
       "            (out_proj): Linear(in_features=768, out_features=768, bias=True)\n",
       "          )\n",
       "          (dropout): Dropout(p=0.1, inplace=False)\n",
       "          (layer_norm): LayerNorm((768,), eps=1e-05, elementwise_affine=True)\n",
       "          (feed_forward): Wav2Vec2FeedForward(\n",
       "            (intermediate_dropout): Dropout(p=0.1, inplace=False)\n",
       "            (intermediate_dense): Linear(in_features=768, out_features=3072, bias=True)\n",
       "            (output_dense): Linear(in_features=3072, out_features=768, bias=True)\n",
       "            (output_dropout): Dropout(p=0.1, inplace=False)\n",
       "          )\n",
       "          (final_layer_norm): LayerNorm((768,), eps=1e-05, elementwise_affine=True)\n",
       "        )\n",
       "        (2): Wav2Vec2EncoderLayer(\n",
       "          (attention): Wav2Vec2Attention(\n",
       "            (k_proj): Linear(in_features=768, out_features=768, bias=True)\n",
       "            (v_proj): Linear(in_features=768, out_features=768, bias=True)\n",
       "            (q_proj): Linear(in_features=768, out_features=768, bias=True)\n",
       "            (out_proj): Linear(in_features=768, out_features=768, bias=True)\n",
       "          )\n",
       "          (dropout): Dropout(p=0.1, inplace=False)\n",
       "          (layer_norm): LayerNorm((768,), eps=1e-05, elementwise_affine=True)\n",
       "          (feed_forward): Wav2Vec2FeedForward(\n",
       "            (intermediate_dropout): Dropout(p=0.1, inplace=False)\n",
       "            (intermediate_dense): Linear(in_features=768, out_features=3072, bias=True)\n",
       "            (output_dense): Linear(in_features=3072, out_features=768, bias=True)\n",
       "            (output_dropout): Dropout(p=0.1, inplace=False)\n",
       "          )\n",
       "          (final_layer_norm): LayerNorm((768,), eps=1e-05, elementwise_affine=True)\n",
       "        )\n",
       "        (3): Wav2Vec2EncoderLayer(\n",
       "          (attention): Wav2Vec2Attention(\n",
       "            (k_proj): Linear(in_features=768, out_features=768, bias=True)\n",
       "            (v_proj): Linear(in_features=768, out_features=768, bias=True)\n",
       "            (q_proj): Linear(in_features=768, out_features=768, bias=True)\n",
       "            (out_proj): Linear(in_features=768, out_features=768, bias=True)\n",
       "          )\n",
       "          (dropout): Dropout(p=0.1, inplace=False)\n",
       "          (layer_norm): LayerNorm((768,), eps=1e-05, elementwise_affine=True)\n",
       "          (feed_forward): Wav2Vec2FeedForward(\n",
       "            (intermediate_dropout): Dropout(p=0.1, inplace=False)\n",
       "            (intermediate_dense): Linear(in_features=768, out_features=3072, bias=True)\n",
       "            (output_dense): Linear(in_features=3072, out_features=768, bias=True)\n",
       "            (output_dropout): Dropout(p=0.1, inplace=False)\n",
       "          )\n",
       "          (final_layer_norm): LayerNorm((768,), eps=1e-05, elementwise_affine=True)\n",
       "        )\n",
       "        (4): Wav2Vec2EncoderLayer(\n",
       "          (attention): Wav2Vec2Attention(\n",
       "            (k_proj): Linear(in_features=768, out_features=768, bias=True)\n",
       "            (v_proj): Linear(in_features=768, out_features=768, bias=True)\n",
       "            (q_proj): Linear(in_features=768, out_features=768, bias=True)\n",
       "            (out_proj): Linear(in_features=768, out_features=768, bias=True)\n",
       "          )\n",
       "          (dropout): Dropout(p=0.1, inplace=False)\n",
       "          (layer_norm): LayerNorm((768,), eps=1e-05, elementwise_affine=True)\n",
       "          (feed_forward): Wav2Vec2FeedForward(\n",
       "            (intermediate_dropout): Dropout(p=0.1, inplace=False)\n",
       "            (intermediate_dense): Linear(in_features=768, out_features=3072, bias=True)\n",
       "            (output_dense): Linear(in_features=3072, out_features=768, bias=True)\n",
       "            (output_dropout): Dropout(p=0.1, inplace=False)\n",
       "          )\n",
       "          (final_layer_norm): LayerNorm((768,), eps=1e-05, elementwise_affine=True)\n",
       "        )\n",
       "        (5): Wav2Vec2EncoderLayer(\n",
       "          (attention): Wav2Vec2Attention(\n",
       "            (k_proj): Linear(in_features=768, out_features=768, bias=True)\n",
       "            (v_proj): Linear(in_features=768, out_features=768, bias=True)\n",
       "            (q_proj): Linear(in_features=768, out_features=768, bias=True)\n",
       "            (out_proj): Linear(in_features=768, out_features=768, bias=True)\n",
       "          )\n",
       "          (dropout): Dropout(p=0.1, inplace=False)\n",
       "          (layer_norm): LayerNorm((768,), eps=1e-05, elementwise_affine=True)\n",
       "          (feed_forward): Wav2Vec2FeedForward(\n",
       "            (intermediate_dropout): Dropout(p=0.1, inplace=False)\n",
       "            (intermediate_dense): Linear(in_features=768, out_features=3072, bias=True)\n",
       "            (output_dense): Linear(in_features=3072, out_features=768, bias=True)\n",
       "            (output_dropout): Dropout(p=0.1, inplace=False)\n",
       "          )\n",
       "          (final_layer_norm): LayerNorm((768,), eps=1e-05, elementwise_affine=True)\n",
       "        )\n",
       "        (6): Wav2Vec2EncoderLayer(\n",
       "          (attention): Wav2Vec2Attention(\n",
       "            (k_proj): Linear(in_features=768, out_features=768, bias=True)\n",
       "            (v_proj): Linear(in_features=768, out_features=768, bias=True)\n",
       "            (q_proj): Linear(in_features=768, out_features=768, bias=True)\n",
       "            (out_proj): Linear(in_features=768, out_features=768, bias=True)\n",
       "          )\n",
       "          (dropout): Dropout(p=0.1, inplace=False)\n",
       "          (layer_norm): LayerNorm((768,), eps=1e-05, elementwise_affine=True)\n",
       "          (feed_forward): Wav2Vec2FeedForward(\n",
       "            (intermediate_dropout): Dropout(p=0.1, inplace=False)\n",
       "            (intermediate_dense): Linear(in_features=768, out_features=3072, bias=True)\n",
       "            (output_dense): Linear(in_features=3072, out_features=768, bias=True)\n",
       "            (output_dropout): Dropout(p=0.1, inplace=False)\n",
       "          )\n",
       "          (final_layer_norm): LayerNorm((768,), eps=1e-05, elementwise_affine=True)\n",
       "        )\n",
       "        (7): Wav2Vec2EncoderLayer(\n",
       "          (attention): Wav2Vec2Attention(\n",
       "            (k_proj): Linear(in_features=768, out_features=768, bias=True)\n",
       "            (v_proj): Linear(in_features=768, out_features=768, bias=True)\n",
       "            (q_proj): Linear(in_features=768, out_features=768, bias=True)\n",
       "            (out_proj): Linear(in_features=768, out_features=768, bias=True)\n",
       "          )\n",
       "          (dropout): Dropout(p=0.1, inplace=False)\n",
       "          (layer_norm): LayerNorm((768,), eps=1e-05, elementwise_affine=True)\n",
       "          (feed_forward): Wav2Vec2FeedForward(\n",
       "            (intermediate_dropout): Dropout(p=0.1, inplace=False)\n",
       "            (intermediate_dense): Linear(in_features=768, out_features=3072, bias=True)\n",
       "            (output_dense): Linear(in_features=3072, out_features=768, bias=True)\n",
       "            (output_dropout): Dropout(p=0.1, inplace=False)\n",
       "          )\n",
       "          (final_layer_norm): LayerNorm((768,), eps=1e-05, elementwise_affine=True)\n",
       "        )\n",
       "        (8): Wav2Vec2EncoderLayer(\n",
       "          (attention): Wav2Vec2Attention(\n",
       "            (k_proj): Linear(in_features=768, out_features=768, bias=True)\n",
       "            (v_proj): Linear(in_features=768, out_features=768, bias=True)\n",
       "            (q_proj): Linear(in_features=768, out_features=768, bias=True)\n",
       "            (out_proj): Linear(in_features=768, out_features=768, bias=True)\n",
       "          )\n",
       "          (dropout): Dropout(p=0.1, inplace=False)\n",
       "          (layer_norm): LayerNorm((768,), eps=1e-05, elementwise_affine=True)\n",
       "          (feed_forward): Wav2Vec2FeedForward(\n",
       "            (intermediate_dropout): Dropout(p=0.1, inplace=False)\n",
       "            (intermediate_dense): Linear(in_features=768, out_features=3072, bias=True)\n",
       "            (output_dense): Linear(in_features=3072, out_features=768, bias=True)\n",
       "            (output_dropout): Dropout(p=0.1, inplace=False)\n",
       "          )\n",
       "          (final_layer_norm): LayerNorm((768,), eps=1e-05, elementwise_affine=True)\n",
       "        )\n",
       "        (9): Wav2Vec2EncoderLayer(\n",
       "          (attention): Wav2Vec2Attention(\n",
       "            (k_proj): Linear(in_features=768, out_features=768, bias=True)\n",
       "            (v_proj): Linear(in_features=768, out_features=768, bias=True)\n",
       "            (q_proj): Linear(in_features=768, out_features=768, bias=True)\n",
       "            (out_proj): Linear(in_features=768, out_features=768, bias=True)\n",
       "          )\n",
       "          (dropout): Dropout(p=0.1, inplace=False)\n",
       "          (layer_norm): LayerNorm((768,), eps=1e-05, elementwise_affine=True)\n",
       "          (feed_forward): Wav2Vec2FeedForward(\n",
       "            (intermediate_dropout): Dropout(p=0.1, inplace=False)\n",
       "            (intermediate_dense): Linear(in_features=768, out_features=3072, bias=True)\n",
       "            (output_dense): Linear(in_features=3072, out_features=768, bias=True)\n",
       "            (output_dropout): Dropout(p=0.1, inplace=False)\n",
       "          )\n",
       "          (final_layer_norm): LayerNorm((768,), eps=1e-05, elementwise_affine=True)\n",
       "        )\n",
       "        (10): Wav2Vec2EncoderLayer(\n",
       "          (attention): Wav2Vec2Attention(\n",
       "            (k_proj): Linear(in_features=768, out_features=768, bias=True)\n",
       "            (v_proj): Linear(in_features=768, out_features=768, bias=True)\n",
       "            (q_proj): Linear(in_features=768, out_features=768, bias=True)\n",
       "            (out_proj): Linear(in_features=768, out_features=768, bias=True)\n",
       "          )\n",
       "          (dropout): Dropout(p=0.1, inplace=False)\n",
       "          (layer_norm): LayerNorm((768,), eps=1e-05, elementwise_affine=True)\n",
       "          (feed_forward): Wav2Vec2FeedForward(\n",
       "            (intermediate_dropout): Dropout(p=0.1, inplace=False)\n",
       "            (intermediate_dense): Linear(in_features=768, out_features=3072, bias=True)\n",
       "            (output_dense): Linear(in_features=3072, out_features=768, bias=True)\n",
       "            (output_dropout): Dropout(p=0.1, inplace=False)\n",
       "          )\n",
       "          (final_layer_norm): LayerNorm((768,), eps=1e-05, elementwise_affine=True)\n",
       "        )\n",
       "        (11): Wav2Vec2EncoderLayer(\n",
       "          (attention): Wav2Vec2Attention(\n",
       "            (k_proj): Linear(in_features=768, out_features=768, bias=True)\n",
       "            (v_proj): Linear(in_features=768, out_features=768, bias=True)\n",
       "            (q_proj): Linear(in_features=768, out_features=768, bias=True)\n",
       "            (out_proj): Linear(in_features=768, out_features=768, bias=True)\n",
       "          )\n",
       "          (dropout): Dropout(p=0.1, inplace=False)\n",
       "          (layer_norm): LayerNorm((768,), eps=1e-05, elementwise_affine=True)\n",
       "          (feed_forward): Wav2Vec2FeedForward(\n",
       "            (intermediate_dropout): Dropout(p=0.1, inplace=False)\n",
       "            (intermediate_dense): Linear(in_features=768, out_features=3072, bias=True)\n",
       "            (output_dense): Linear(in_features=3072, out_features=768, bias=True)\n",
       "            (output_dropout): Dropout(p=0.1, inplace=False)\n",
       "          )\n",
       "          (final_layer_norm): LayerNorm((768,), eps=1e-05, elementwise_affine=True)\n",
       "        )\n",
       "      )\n",
       "    )\n",
       "  )\n",
       "  (dropout): Dropout(p=0.1, inplace=False)\n",
       "  (lm_head): Sequential(\n",
       "    (0): Flatten(start_dim=1, end_dim=-1)\n",
       "    (1): Linear(in_features=191232, out_features=1, bias=True)\n",
       "    (2): Sigmoid()\n",
       "  )\n",
       ")"
      ]
     },
     "execution_count": 3,
     "metadata": {},
     "output_type": "execute_result"
    }
   ],
   "source": [
    "model"
   ]
  },
  {
   "cell_type": "code",
   "execution_count": 4,
   "id": "99835470",
   "metadata": {},
   "outputs": [],
   "source": [
    "import numpy as np\n",
    "import librosa\n",
    "from helper_code import *\n",
    "from tqdm import tqdm\n",
    "import pywt\n",
    "from sklearn.preprocessing import MinMaxScaler\n",
    "import pickle as pk\n",
    "import glob\n",
    "import os\n",
    "import time\n",
    "import torch\n",
    "import numpy as np\n",
    "import torch.optim as optim\n",
    "import torch.nn as nn\n",
    "import sys\n",
    "import random\n",
    "from tqdm import tqdm\n",
    "from tools.utils import  get_class_distribution,get_class_distribution2,get_logger,  murmur_score,compute_weighted_accuracy\n",
    "sys.path.append(\"..\")\n",
    "from reader.data_reader_physionet import myDataLoader, myDataset\n",
    "import gc\n",
    "#from torch.utils.tensorboard import SummaryWriter\n",
    "from helper_code import *\n",
    "import numpy as np, scipy as sp, scipy.stats, os, sys, joblib\n",
    "from sklearn.impute import SimpleImputer\n",
    "#from sklearn.ensemble import RandomForestClassifier\n",
    "from models import *\n",
    "from get_feature import feature_extract_raw, get_feature_one, feature_extract_wavelet_raw\n",
    "import pickle as pk\n",
    "from sklearn.metrics import f1_score\n",
    "import numpy as np, os, sys\n",
    "from helper_code import *\n",
    "from team_code import load_challenge_model, save_challenge_model\n",
    "from tqdm import tqdm"
   ]
  },
  {
   "cell_type": "code",
   "execution_count": 11,
   "id": "a8a6f220",
   "metadata": {},
   "outputs": [],
   "source": [
    "gc.collect()\n",
    "torch.cuda.empty_cache()\n",
    "GPU_NUM = 4 # 원하는 GPU 번호 입력\n",
    "device = torch.device(f'cuda:{GPU_NUM}' if torch.cuda.is_available() else 'cpu')\n",
    "torch.cuda.set_device(device)"
   ]
  },
  {
   "cell_type": "code",
   "execution_count": 6,
   "id": "3f299938",
   "metadata": {},
   "outputs": [],
   "source": [
    "data_folder = '/Data1/physionet/data_split/murmur/train'\n",
    "dev_folder = '/Data1/physionet/data_split/murmur/test'\n",
    "verbose = 1"
   ]
  },
  {
   "cell_type": "code",
   "execution_count": 7,
   "id": "4f2f4175",
   "metadata": {},
   "outputs": [],
   "source": [
    "def get_features(data_folder, patient_files_trn, raw = True,rand = False) :\n",
    "    features = dict()\n",
    "\n",
    "    features['pw_raw'] = []\n",
    "    features['raw'] = []\n",
    "    features['mel1'] = []\n",
    "    murmurs = np.empty((0,2))#3))\n",
    "    labels = {}\n",
    "    \n",
    "    murmur_classes = ['Present', 'Absent'] # ,'Unknown'\n",
    "    num_murmur_classes = len(murmur_classes)\n",
    "\n",
    "    recording_locations = ['AV', 'MV', 'PV', 'TV', 'PhC']\n",
    "\n",
    "    num_patient_files = len(patient_files_trn)\n",
    "\n",
    "    for i in tqdm(range(num_patient_files)):\n",
    "\n",
    "        # Load the current patient data and recordings.\n",
    "        current_patient_data = load_patient_data(patient_files_trn[i])\n",
    "        num_locations = get_num_locations(current_patient_data)\n",
    "        recording_information = current_patient_data.split('\\n')[1:num_locations+1]\n",
    "        if get_murmur(current_patient_data) != 'Present' :\n",
    "            murmur_location_information = 'nan'\n",
    "        else :\n",
    "            murmur_location_information = current_patient_data.split('\\n')[-15].split()[2].split('+')\n",
    "        \n",
    "        for j in range(num_locations) :\n",
    "            entries = recording_information[j].split(' ')\n",
    "            recording_file = entries[2]\n",
    "            filename = os.path.join(data_folder, recording_file)\n",
    "            filename_location = recording_file.split('_')[1].split('.')[0]\n",
    "            \n",
    "            if raw :\n",
    "                raw1, n_samp = feature_extract_raw(filename,samp_sec=20)\n",
    "#                raw2, n_samp = feature_extract_wavelet_raw(filename,samp_sec=20)\n",
    "                features['raw'].extend(raw1)\n",
    "#                features['pw_raw'].extend(raw2)\n",
    "            # Extract melspec\n",
    "            else :\n",
    "                mel1 = feature_extract_raw_melspec(filename,rand)  # np > shape (n_samp,n_mels,time)(n,64,201)\n",
    "                \n",
    "                \n",
    "                n_samp = len(mel1)\n",
    "                features['mel1'].extend(mel1)\n",
    "\n",
    "\n",
    "            # Extract labels and use one-hot encoding.\n",
    "            \n",
    "            # 클래스 일단 3개지만 학습 데이터에선 loc 아니면 absent로 봄\n",
    "            \n",
    "            current_murmur = np.zeros((1,num_murmur_classes), dtype=int)  \n",
    "#            if (filename_location in murmur_location_information)  :\n",
    "#                murmur = get_murmur(current_patient_data)\n",
    "#            else :\n",
    "#                murmur = 'Absent'\n",
    "            murmur = get_murmur(current_patient_data)\n",
    "            if murmur in murmur_classes:\n",
    "                j = murmur_classes.index(murmur)\n",
    "                current_murmur[0][j] = 1\n",
    "            elif murmur == 'Unknown' :\n",
    "                current_murmur[0][0] = 0\n",
    "                current_murmur[0][1] = 1\n",
    "            current_murmur = np.repeat(current_murmur,n_samp,0)\n",
    "            murmurs = np.concatenate((murmurs,current_murmur),axis=0)\n",
    "            \n",
    "    \n",
    "    labels['murmur'] = murmurs\n",
    "    labels['outcome'] = []\n",
    "#    features['pw_raw'] = np.array(features['pw_raw'])\n",
    "    features['raw'] = np.array(features['raw'])\n",
    "    \n",
    "    \n",
    "    return features, labels"
   ]
  },
  {
   "cell_type": "code",
   "execution_count": 8,
   "id": "ed0a8aa4",
   "metadata": {},
   "outputs": [
    {
     "name": "stdout",
     "output_type": "stream",
     "text": [
      "0\n"
     ]
    }
   ],
   "source": [
    "a = [1,0]\n",
    "b = [0.5,0.5]\n",
    "print(b.index(0.5))"
   ]
  },
  {
   "cell_type": "markdown",
   "id": "5200b460",
   "metadata": {},
   "source": [
    "# wav2vec2"
   ]
  },
  {
   "cell_type": "code",
   "execution_count": 9,
   "id": "80f78c2c",
   "metadata": {},
   "outputs": [
    {
     "name": "stdout",
     "output_type": "stream",
     "text": [
      "Extracting features and labels from the Challenge data...\n"
     ]
    },
    {
     "name": "stderr",
     "output_type": "stream",
     "text": [
      "100%|████████████████████████████████████████| 751/751 [00:02<00:00, 365.32it/s]\n",
      "100%|████████████████████████████████████████| 191/191 [00:00<00:00, 485.34it/s]\n"
     ]
    }
   ],
   "source": [
    "# Find the patient data files.\n",
    "patient_files = find_patient_files(data_folder)\n",
    "dev_patient_files = find_patient_files(dev_folder)\n",
    "\n",
    "num_patient_files = len(patient_files)\n",
    "dev_num_patient_files = len(dev_patient_files)\n",
    "\n",
    "if num_patient_files==0:\n",
    "    raise Exception('No data was provided.')\n",
    "\n",
    "\n",
    "murmur_classes = ['Present', 'Absent'] # ,'Unknown'\n",
    "num_murmur_classes = len(murmur_classes)\n",
    "\n",
    "\n",
    "# Extract the features and labels.\n",
    "if verbose >= 1:\n",
    "    print('Extracting features and labels from the Challenge data...')\n",
    "\n",
    "features, labels = get_features(data_folder, patient_files)\n",
    "features_dev, labels_dev = get_features(dev_folder, dev_patient_files)"
   ]
  },
  {
   "cell_type": "code",
   "execution_count": 11,
   "id": "5313e9b5",
   "metadata": {},
   "outputs": [
    {
     "data": {
      "text/plain": [
       "2545"
      ]
     },
     "execution_count": 11,
     "metadata": {},
     "output_type": "execute_result"
    }
   ],
   "source": [
    "features['raw'].shape[0]"
   ]
  },
  {
   "cell_type": "code",
   "execution_count": 12,
   "id": "37f45a4d",
   "metadata": {},
   "outputs": [
    {
     "data": {
      "text/plain": [
       "(2545, 2)"
      ]
     },
     "execution_count": 12,
     "metadata": {},
     "output_type": "execute_result"
    }
   ],
   "source": [
    "labels['murmur'].shape"
   ]
  },
  {
   "cell_type": "code",
   "execution_count": 13,
   "id": "17fe8f78",
   "metadata": {},
   "outputs": [],
   "source": [
    "#torch.cuda.empty_cache()"
   ]
  },
  {
   "cell_type": "code",
   "execution_count": 12,
   "id": "f7fe217a",
   "metadata": {
    "scrolled": true
   },
   "outputs": [
    {
     "name": "stdout",
     "output_type": "stream",
     "text": [
      "- 2545 training samples\n",
      "- 80 training batches\n",
      "- 639 testing samples\n",
      "- 20 testing batches\n",
      "Training model...\n"
     ]
    },
    {
     "name": "stderr",
     "output_type": "stream",
     "text": [
      "100%|███████████████████████████████████████████| 80/80 [01:26<00:00,  1.08s/it]"
     ]
    },
    {
     "name": "stdout",
     "output_type": "stream",
     "text": [
      "08-05 08:56 [MainProcess, 90738] [INFO ]  Iteration:0, loss = 0.427275, mur_f1 = 0.902, mur_score = 0.000\n",
      "08-05 08:56 [MainProcess, 90738] [INFO ]  Iteration:0, loss = 0.427275, mur_f1 = 0.902, mur_score = 0.000\n"
     ]
    },
    {
     "name": "stderr",
     "output_type": "stream",
     "text": [
      "\n",
      "100%|███████████████████████████████████████████| 20/20 [00:05<00:00,  3.91it/s]"
     ]
    },
    {
     "name": "stdout",
     "output_type": "stream",
     "text": [
      "08-05 08:56 [MainProcess, 90738] [INFO ]  Iteration:0, valid_loss = 0.427750, valid_mur_f1 = 0.897, valid_mur_score = 0.000\n",
      "08-05 08:56 [MainProcess, 90738] [INFO ]  Iteration:0, valid_loss = 0.427750, valid_mur_f1 = 0.897, valid_mur_score = 0.000\n"
     ]
    },
    {
     "name": "stderr",
     "output_type": "stream",
     "text": [
      "\n",
      "100%|███████████████████████████████████████████| 80/80 [01:25<00:00,  1.07s/it]"
     ]
    },
    {
     "name": "stdout",
     "output_type": "stream",
     "text": [
      "08-05 08:58 [MainProcess, 90738] [INFO ]  Iteration:1, loss = 0.322763, mur_f1 = 0.938, mur_score = 0.000\n",
      "08-05 08:58 [MainProcess, 90738] [INFO ]  Iteration:1, loss = 0.322763, mur_f1 = 0.938, mur_score = 0.000\n"
     ]
    },
    {
     "name": "stderr",
     "output_type": "stream",
     "text": [
      "\n",
      "100%|███████████████████████████████████████████| 20/20 [00:05<00:00,  3.66it/s]"
     ]
    },
    {
     "name": "stdout",
     "output_type": "stream",
     "text": [
      "08-05 08:58 [MainProcess, 90738] [INFO ]  Iteration:1, valid_loss = 0.363657, valid_mur_f1 = 0.925, valid_mur_score = 0.000\n",
      "08-05 08:58 [MainProcess, 90738] [INFO ]  Iteration:1, valid_loss = 0.363657, valid_mur_f1 = 0.925, valid_mur_score = 0.000\n"
     ]
    },
    {
     "name": "stderr",
     "output_type": "stream",
     "text": [
      "\n",
      "100%|███████████████████████████████████████████| 80/80 [01:26<00:00,  1.08s/it]"
     ]
    },
    {
     "name": "stdout",
     "output_type": "stream",
     "text": [
      "08-05 08:59 [MainProcess, 90738] [INFO ]  Iteration:2, loss = 0.271775, mur_f1 = 0.943, mur_score = 0.000\n",
      "08-05 08:59 [MainProcess, 90738] [INFO ]  Iteration:2, loss = 0.271775, mur_f1 = 0.943, mur_score = 0.000\n"
     ]
    },
    {
     "name": "stderr",
     "output_type": "stream",
     "text": [
      "\n",
      "100%|███████████████████████████████████████████| 20/20 [00:05<00:00,  3.65it/s]"
     ]
    },
    {
     "name": "stdout",
     "output_type": "stream",
     "text": [
      "08-05 08:59 [MainProcess, 90738] [INFO ]  Iteration:2, valid_loss = 0.305951, valid_mur_f1 = 0.937, valid_mur_score = 0.000\n",
      "08-05 08:59 [MainProcess, 90738] [INFO ]  Iteration:2, valid_loss = 0.305951, valid_mur_f1 = 0.937, valid_mur_score = 0.000\n"
     ]
    },
    {
     "name": "stderr",
     "output_type": "stream",
     "text": [
      "\n",
      "100%|███████████████████████████████████████████| 80/80 [01:25<00:00,  1.06s/it]"
     ]
    },
    {
     "name": "stdout",
     "output_type": "stream",
     "text": [
      "08-05 09:01 [MainProcess, 90738] [INFO ]  Iteration:3, loss = 0.251195, mur_f1 = 0.947, mur_score = 0.000\n",
      "08-05 09:01 [MainProcess, 90738] [INFO ]  Iteration:3, loss = 0.251195, mur_f1 = 0.947, mur_score = 0.000\n"
     ]
    },
    {
     "name": "stderr",
     "output_type": "stream",
     "text": [
      "\n",
      "100%|███████████████████████████████████████████| 20/20 [00:05<00:00,  3.56it/s]"
     ]
    },
    {
     "name": "stdout",
     "output_type": "stream",
     "text": [
      "08-05 09:01 [MainProcess, 90738] [INFO ]  Iteration:3, valid_loss = 0.284442, valid_mur_f1 = 0.939, valid_mur_score = 0.000\n",
      "08-05 09:01 [MainProcess, 90738] [INFO ]  Iteration:3, valid_loss = 0.284442, valid_mur_f1 = 0.939, valid_mur_score = 0.000\n"
     ]
    },
    {
     "name": "stderr",
     "output_type": "stream",
     "text": [
      "\n",
      "100%|███████████████████████████████████████████| 80/80 [01:28<00:00,  1.11s/it]"
     ]
    },
    {
     "name": "stdout",
     "output_type": "stream",
     "text": [
      "08-05 09:02 [MainProcess, 90738] [INFO ]  Iteration:4, loss = 0.226144, mur_f1 = 0.954, mur_score = 0.000\n",
      "08-05 09:02 [MainProcess, 90738] [INFO ]  Iteration:4, loss = 0.226144, mur_f1 = 0.954, mur_score = 0.000\n"
     ]
    },
    {
     "name": "stderr",
     "output_type": "stream",
     "text": [
      "\n",
      "100%|███████████████████████████████████████████| 20/20 [00:05<00:00,  3.71it/s]"
     ]
    },
    {
     "name": "stdout",
     "output_type": "stream",
     "text": [
      "08-05 09:02 [MainProcess, 90738] [INFO ]  Iteration:4, valid_loss = 0.263537, valid_mur_f1 = 0.941, valid_mur_score = 0.000\n",
      "08-05 09:02 [MainProcess, 90738] [INFO ]  Iteration:4, valid_loss = 0.263537, valid_mur_f1 = 0.941, valid_mur_score = 0.000\n"
     ]
    },
    {
     "name": "stderr",
     "output_type": "stream",
     "text": [
      "\n",
      "100%|███████████████████████████████████████████| 80/80 [01:26<00:00,  1.08s/it]"
     ]
    },
    {
     "name": "stdout",
     "output_type": "stream",
     "text": [
      "08-05 09:04 [MainProcess, 90738] [INFO ]  Iteration:5, loss = 0.203227, mur_f1 = 0.956, mur_score = 0.000\n",
      "08-05 09:04 [MainProcess, 90738] [INFO ]  Iteration:5, loss = 0.203227, mur_f1 = 0.956, mur_score = 0.000\n"
     ]
    },
    {
     "name": "stderr",
     "output_type": "stream",
     "text": [
      "\n",
      "100%|███████████████████████████████████████████| 20/20 [00:05<00:00,  3.49it/s]"
     ]
    },
    {
     "name": "stdout",
     "output_type": "stream",
     "text": [
      "08-05 09:04 [MainProcess, 90738] [INFO ]  Iteration:5, valid_loss = 0.276500, valid_mur_f1 = 0.932, valid_mur_score = 0.000\n",
      "08-05 09:04 [MainProcess, 90738] [INFO ]  Iteration:5, valid_loss = 0.276500, valid_mur_f1 = 0.932, valid_mur_score = 0.000\n"
     ]
    },
    {
     "name": "stderr",
     "output_type": "stream",
     "text": [
      "\n",
      "100%|███████████████████████████████████████████| 80/80 [01:27<00:00,  1.10s/it]"
     ]
    },
    {
     "name": "stdout",
     "output_type": "stream",
     "text": [
      "08-05 09:05 [MainProcess, 90738] [INFO ]  Iteration:6, loss = 0.192880, mur_f1 = 0.957, mur_score = 0.000\n",
      "08-05 09:05 [MainProcess, 90738] [INFO ]  Iteration:6, loss = 0.192880, mur_f1 = 0.957, mur_score = 0.000\n"
     ]
    },
    {
     "name": "stderr",
     "output_type": "stream",
     "text": [
      "\n",
      "100%|███████████████████████████████████████████| 20/20 [00:05<00:00,  3.40it/s]"
     ]
    },
    {
     "name": "stdout",
     "output_type": "stream",
     "text": [
      "08-05 09:06 [MainProcess, 90738] [INFO ]  Iteration:6, valid_loss = 0.291926, valid_mur_f1 = 0.945, valid_mur_score = 0.000\n",
      "08-05 09:06 [MainProcess, 90738] [INFO ]  Iteration:6, valid_loss = 0.291926, valid_mur_f1 = 0.945, valid_mur_score = 0.000\n"
     ]
    },
    {
     "name": "stderr",
     "output_type": "stream",
     "text": [
      "\n",
      "100%|███████████████████████████████████████████| 80/80 [01:27<00:00,  1.09s/it]"
     ]
    },
    {
     "name": "stdout",
     "output_type": "stream",
     "text": [
      "08-05 09:07 [MainProcess, 90738] [INFO ]  Iteration:7, loss = 0.164994, mur_f1 = 0.965, mur_score = 0.000\n",
      "08-05 09:07 [MainProcess, 90738] [INFO ]  Iteration:7, loss = 0.164994, mur_f1 = 0.965, mur_score = 0.000\n"
     ]
    },
    {
     "name": "stderr",
     "output_type": "stream",
     "text": [
      "\n",
      "100%|███████████████████████████████████████████| 20/20 [00:05<00:00,  3.58it/s]"
     ]
    },
    {
     "name": "stdout",
     "output_type": "stream",
     "text": [
      "08-05 09:07 [MainProcess, 90738] [INFO ]  Iteration:7, valid_loss = 0.267836, valid_mur_f1 = 0.944, valid_mur_score = 0.000\n",
      "08-05 09:07 [MainProcess, 90738] [INFO ]  Iteration:7, valid_loss = 0.267836, valid_mur_f1 = 0.944, valid_mur_score = 0.000\n"
     ]
    },
    {
     "name": "stderr",
     "output_type": "stream",
     "text": [
      "\n",
      "100%|███████████████████████████████████████████| 80/80 [01:28<00:00,  1.10s/it]"
     ]
    },
    {
     "name": "stdout",
     "output_type": "stream",
     "text": [
      "08-05 09:09 [MainProcess, 90738] [INFO ]  Iteration:8, loss = 0.153269, mur_f1 = 0.969, mur_score = 0.000\n",
      "08-05 09:09 [MainProcess, 90738] [INFO ]  Iteration:8, loss = 0.153269, mur_f1 = 0.969, mur_score = 0.000\n"
     ]
    },
    {
     "name": "stderr",
     "output_type": "stream",
     "text": [
      "\n",
      "100%|███████████████████████████████████████████| 20/20 [00:05<00:00,  3.44it/s]"
     ]
    },
    {
     "name": "stdout",
     "output_type": "stream",
     "text": [
      "08-05 09:09 [MainProcess, 90738] [INFO ]  Iteration:8, valid_loss = 0.299516, valid_mur_f1 = 0.944, valid_mur_score = 0.000\n",
      "08-05 09:09 [MainProcess, 90738] [INFO ]  Iteration:8, valid_loss = 0.299516, valid_mur_f1 = 0.944, valid_mur_score = 0.000\n"
     ]
    },
    {
     "name": "stderr",
     "output_type": "stream",
     "text": [
      "\n",
      "100%|███████████████████████████████████████████| 80/80 [01:28<00:00,  1.11s/it]"
     ]
    },
    {
     "name": "stdout",
     "output_type": "stream",
     "text": [
      "08-05 09:10 [MainProcess, 90738] [INFO ]  Iteration:9, loss = 0.157726, mur_f1 = 0.964, mur_score = 0.000\n",
      "08-05 09:10 [MainProcess, 90738] [INFO ]  Iteration:9, loss = 0.157726, mur_f1 = 0.964, mur_score = 0.000\n"
     ]
    },
    {
     "name": "stderr",
     "output_type": "stream",
     "text": [
      "\n",
      "100%|███████████████████████████████████████████| 20/20 [00:05<00:00,  3.39it/s]"
     ]
    },
    {
     "name": "stdout",
     "output_type": "stream",
     "text": [
      "08-05 09:10 [MainProcess, 90738] [INFO ]  Iteration:9, valid_loss = 0.310955, valid_mur_f1 = 0.942, valid_mur_score = 0.000\n",
      "08-05 09:10 [MainProcess, 90738] [INFO ]  Iteration:9, valid_loss = 0.310955, valid_mur_f1 = 0.942, valid_mur_score = 0.000\n"
     ]
    },
    {
     "name": "stderr",
     "output_type": "stream",
     "text": [
      "\n",
      "100%|███████████████████████████████████████████| 80/80 [01:28<00:00,  1.10s/it]"
     ]
    },
    {
     "name": "stdout",
     "output_type": "stream",
     "text": [
      "08-05 09:12 [MainProcess, 90738] [INFO ]  Iteration:10, loss = 0.132452, mur_f1 = 0.971, mur_score = 0.000\n",
      "08-05 09:12 [MainProcess, 90738] [INFO ]  Iteration:10, loss = 0.132452, mur_f1 = 0.971, mur_score = 0.000\n"
     ]
    },
    {
     "name": "stderr",
     "output_type": "stream",
     "text": [
      "\n",
      "100%|███████████████████████████████████████████| 20/20 [00:05<00:00,  3.53it/s]"
     ]
    },
    {
     "name": "stdout",
     "output_type": "stream",
     "text": [
      "08-05 09:12 [MainProcess, 90738] [INFO ]  Iteration:10, valid_loss = 0.351833, valid_mur_f1 = 0.940, valid_mur_score = 0.000\n",
      "08-05 09:12 [MainProcess, 90738] [INFO ]  Iteration:10, valid_loss = 0.351833, valid_mur_f1 = 0.940, valid_mur_score = 0.000\n"
     ]
    },
    {
     "name": "stderr",
     "output_type": "stream",
     "text": [
      "\n",
      "100%|███████████████████████████████████████████| 80/80 [01:25<00:00,  1.06s/it]"
     ]
    },
    {
     "name": "stdout",
     "output_type": "stream",
     "text": [
      "08-05 09:13 [MainProcess, 90738] [INFO ]  Iteration:11, loss = 0.144272, mur_f1 = 0.967, mur_score = 0.000\n",
      "08-05 09:13 [MainProcess, 90738] [INFO ]  Iteration:11, loss = 0.144272, mur_f1 = 0.967, mur_score = 0.000\n"
     ]
    },
    {
     "name": "stderr",
     "output_type": "stream",
     "text": [
      "\n",
      "100%|███████████████████████████████████████████| 20/20 [00:05<00:00,  3.77it/s]"
     ]
    },
    {
     "name": "stdout",
     "output_type": "stream",
     "text": [
      "08-05 09:13 [MainProcess, 90738] [INFO ]  Iteration:11, valid_loss = 0.301268, valid_mur_f1 = 0.938, valid_mur_score = 0.000\n",
      "08-05 09:13 [MainProcess, 90738] [INFO ]  Iteration:11, valid_loss = 0.301268, valid_mur_f1 = 0.938, valid_mur_score = 0.000\n"
     ]
    },
    {
     "name": "stderr",
     "output_type": "stream",
     "text": [
      "\n",
      "100%|███████████████████████████████████████████| 80/80 [01:25<00:00,  1.07s/it]"
     ]
    },
    {
     "name": "stdout",
     "output_type": "stream",
     "text": [
      "08-05 09:15 [MainProcess, 90738] [INFO ]  Iteration:12, loss = 0.104019, mur_f1 = 0.978, mur_score = 0.000\n",
      "08-05 09:15 [MainProcess, 90738] [INFO ]  Iteration:12, loss = 0.104019, mur_f1 = 0.978, mur_score = 0.000\n"
     ]
    },
    {
     "name": "stderr",
     "output_type": "stream",
     "text": [
      "\n",
      "100%|███████████████████████████████████████████| 20/20 [00:05<00:00,  3.71it/s]"
     ]
    },
    {
     "name": "stdout",
     "output_type": "stream",
     "text": [
      "08-05 09:15 [MainProcess, 90738] [INFO ]  Iteration:12, valid_loss = 0.351475, valid_mur_f1 = 0.936, valid_mur_score = 0.000\n",
      "08-05 09:15 [MainProcess, 90738] [INFO ]  Iteration:12, valid_loss = 0.351475, valid_mur_f1 = 0.936, valid_mur_score = 0.000\n"
     ]
    },
    {
     "name": "stderr",
     "output_type": "stream",
     "text": [
      "\n",
      "100%|███████████████████████████████████████████| 80/80 [01:25<00:00,  1.06s/it]"
     ]
    },
    {
     "name": "stdout",
     "output_type": "stream",
     "text": [
      "08-05 09:16 [MainProcess, 90738] [INFO ]  Iteration:13, loss = 0.102089, mur_f1 = 0.977, mur_score = 0.000\n",
      "08-05 09:16 [MainProcess, 90738] [INFO ]  Iteration:13, loss = 0.102089, mur_f1 = 0.977, mur_score = 0.000\n"
     ]
    },
    {
     "name": "stderr",
     "output_type": "stream",
     "text": [
      "\n",
      "100%|███████████████████████████████████████████| 20/20 [00:05<00:00,  3.88it/s]"
     ]
    },
    {
     "name": "stdout",
     "output_type": "stream",
     "text": [
      "08-05 09:16 [MainProcess, 90738] [INFO ]  Iteration:13, valid_loss = 0.320252, valid_mur_f1 = 0.935, valid_mur_score = 0.000\n",
      "08-05 09:16 [MainProcess, 90738] [INFO ]  Iteration:13, valid_loss = 0.320252, valid_mur_f1 = 0.935, valid_mur_score = 0.000\n"
     ]
    },
    {
     "name": "stderr",
     "output_type": "stream",
     "text": [
      "\n",
      "100%|███████████████████████████████████████████| 80/80 [01:24<00:00,  1.06s/it]"
     ]
    },
    {
     "name": "stdout",
     "output_type": "stream",
     "text": [
      "08-05 09:18 [MainProcess, 90738] [INFO ]  Iteration:14, loss = 0.092868, mur_f1 = 0.980, mur_score = 0.000\n",
      "08-05 09:18 [MainProcess, 90738] [INFO ]  Iteration:14, loss = 0.092868, mur_f1 = 0.980, mur_score = 0.000\n"
     ]
    },
    {
     "name": "stderr",
     "output_type": "stream",
     "text": [
      "\n",
      "100%|███████████████████████████████████████████| 20/20 [00:05<00:00,  3.78it/s]"
     ]
    },
    {
     "name": "stdout",
     "output_type": "stream",
     "text": [
      "08-05 09:18 [MainProcess, 90738] [INFO ]  Iteration:14, valid_loss = 0.396366, valid_mur_f1 = 0.940, valid_mur_score = 0.000\n",
      "08-05 09:18 [MainProcess, 90738] [INFO ]  Iteration:14, valid_loss = 0.396366, valid_mur_f1 = 0.940, valid_mur_score = 0.000\n"
     ]
    },
    {
     "name": "stderr",
     "output_type": "stream",
     "text": [
      "\n",
      "100%|███████████████████████████████████████████| 80/80 [01:25<00:00,  1.07s/it]"
     ]
    },
    {
     "name": "stdout",
     "output_type": "stream",
     "text": [
      "08-05 09:19 [MainProcess, 90738] [INFO ]  Iteration:15, loss = 0.066747, mur_f1 = 0.986, mur_score = 0.000\n",
      "08-05 09:19 [MainProcess, 90738] [INFO ]  Iteration:15, loss = 0.066747, mur_f1 = 0.986, mur_score = 0.000\n"
     ]
    },
    {
     "name": "stderr",
     "output_type": "stream",
     "text": [
      "\n",
      "100%|███████████████████████████████████████████| 20/20 [00:05<00:00,  3.76it/s]"
     ]
    },
    {
     "name": "stdout",
     "output_type": "stream",
     "text": [
      "08-05 09:19 [MainProcess, 90738] [INFO ]  Iteration:15, valid_loss = 0.421658, valid_mur_f1 = 0.948, valid_mur_score = 0.000\n",
      "08-05 09:19 [MainProcess, 90738] [INFO ]  Iteration:15, valid_loss = 0.421658, valid_mur_f1 = 0.948, valid_mur_score = 0.000\n"
     ]
    },
    {
     "name": "stderr",
     "output_type": "stream",
     "text": [
      "\n",
      "100%|███████████████████████████████████████████| 80/80 [01:24<00:00,  1.05s/it]"
     ]
    },
    {
     "name": "stdout",
     "output_type": "stream",
     "text": [
      "08-05 09:21 [MainProcess, 90738] [INFO ]  Iteration:16, loss = 0.055537, mur_f1 = 0.990, mur_score = 0.000\n",
      "08-05 09:21 [MainProcess, 90738] [INFO ]  Iteration:16, loss = 0.055537, mur_f1 = 0.990, mur_score = 0.000\n"
     ]
    },
    {
     "name": "stderr",
     "output_type": "stream",
     "text": [
      "\n",
      "100%|███████████████████████████████████████████| 20/20 [00:05<00:00,  3.75it/s]"
     ]
    },
    {
     "name": "stdout",
     "output_type": "stream",
     "text": [
      "08-05 09:21 [MainProcess, 90738] [INFO ]  Iteration:16, valid_loss = 0.417964, valid_mur_f1 = 0.940, valid_mur_score = 0.000\n",
      "08-05 09:21 [MainProcess, 90738] [INFO ]  Iteration:16, valid_loss = 0.417964, valid_mur_f1 = 0.940, valid_mur_score = 0.000\n"
     ]
    },
    {
     "name": "stderr",
     "output_type": "stream",
     "text": [
      "\n",
      "100%|███████████████████████████████████████████| 80/80 [01:25<00:00,  1.07s/it]"
     ]
    },
    {
     "name": "stdout",
     "output_type": "stream",
     "text": [
      "08-05 09:22 [MainProcess, 90738] [INFO ]  Iteration:17, loss = 0.060962, mur_f1 = 0.987, mur_score = 0.000\n",
      "08-05 09:22 [MainProcess, 90738] [INFO ]  Iteration:17, loss = 0.060962, mur_f1 = 0.987, mur_score = 0.000\n"
     ]
    },
    {
     "name": "stderr",
     "output_type": "stream",
     "text": [
      "\n",
      "100%|███████████████████████████████████████████| 20/20 [00:05<00:00,  3.86it/s]"
     ]
    },
    {
     "name": "stdout",
     "output_type": "stream",
     "text": [
      "08-05 09:22 [MainProcess, 90738] [INFO ]  Iteration:17, valid_loss = 0.442119, valid_mur_f1 = 0.935, valid_mur_score = 0.000\n",
      "08-05 09:22 [MainProcess, 90738] [INFO ]  Iteration:17, valid_loss = 0.442119, valid_mur_f1 = 0.935, valid_mur_score = 0.000\n"
     ]
    },
    {
     "name": "stderr",
     "output_type": "stream",
     "text": [
      "\n",
      "100%|███████████████████████████████████████████| 80/80 [01:24<00:00,  1.06s/it]"
     ]
    },
    {
     "name": "stdout",
     "output_type": "stream",
     "text": [
      "08-05 09:24 [MainProcess, 90738] [INFO ]  Iteration:18, loss = 0.064949, mur_f1 = 0.984, mur_score = 0.000\n",
      "08-05 09:24 [MainProcess, 90738] [INFO ]  Iteration:18, loss = 0.064949, mur_f1 = 0.984, mur_score = 0.000\n"
     ]
    },
    {
     "name": "stderr",
     "output_type": "stream",
     "text": [
      "\n",
      "100%|███████████████████████████████████████████| 20/20 [00:05<00:00,  3.71it/s]"
     ]
    },
    {
     "name": "stdout",
     "output_type": "stream",
     "text": [
      "08-05 09:24 [MainProcess, 90738] [INFO ]  Iteration:18, valid_loss = 0.447252, valid_mur_f1 = 0.944, valid_mur_score = 0.000\n",
      "08-05 09:24 [MainProcess, 90738] [INFO ]  Iteration:18, valid_loss = 0.447252, valid_mur_f1 = 0.944, valid_mur_score = 0.000\n"
     ]
    },
    {
     "name": "stderr",
     "output_type": "stream",
     "text": [
      "\n",
      "100%|███████████████████████████████████████████| 80/80 [01:25<00:00,  1.07s/it]"
     ]
    },
    {
     "name": "stdout",
     "output_type": "stream",
     "text": [
      "08-05 09:25 [MainProcess, 90738] [INFO ]  Iteration:19, loss = 0.042682, mur_f1 = 0.990, mur_score = 0.000\n",
      "08-05 09:25 [MainProcess, 90738] [INFO ]  Iteration:19, loss = 0.042682, mur_f1 = 0.990, mur_score = 0.000\n"
     ]
    },
    {
     "name": "stderr",
     "output_type": "stream",
     "text": [
      "\n",
      "100%|███████████████████████████████████████████| 20/20 [00:05<00:00,  3.76it/s]"
     ]
    },
    {
     "name": "stdout",
     "output_type": "stream",
     "text": [
      "08-05 09:25 [MainProcess, 90738] [INFO ]  Iteration:19, valid_loss = 0.422546, valid_mur_f1 = 0.941, valid_mur_score = 0.000\n",
      "08-05 09:25 [MainProcess, 90738] [INFO ]  Iteration:19, valid_loss = 0.422546, valid_mur_f1 = 0.941, valid_mur_score = 0.000\n"
     ]
    },
    {
     "name": "stderr",
     "output_type": "stream",
     "text": [
      "\n"
     ]
    }
   ],
   "source": [
    "#torch.cuda.empty_cache()\n",
    "\n",
    "\n",
    "log_dir = './log/'\n",
    "project = 'toy0'\n",
    "logger = get_logger(log_dir + '/' + project)\n",
    "\n",
    "#train\n",
    "label_mur = np.empty(len(labels['murmur']))\n",
    "for i,l in enumerate(labels['murmur']) :\n",
    "    try :\n",
    "        label_mur[i] = int(list(l).index(1))\n",
    "    except :\n",
    "        label_mur[i] = 0.5\n",
    "label_out = np.empty(len(labels['outcome']))\n",
    "for i,l in enumerate(labels['outcome']) :\n",
    "    label_out[i] = int(list(l).index(1))\n",
    "label = {'murmur':label_mur, 'outcome':label_out}\n",
    "\n",
    "#dev\n",
    "label_mur_dev = np.empty(len(labels_dev['murmur']))\n",
    "for i,l in enumerate(labels_dev['murmur']) :\n",
    "    try :\n",
    "        label_mur_dev[i] = int(list(l).index(1))\n",
    "    except :\n",
    "        label_mur_dev[i] = 0.5\n",
    "label_out_dev = np.empty(len(labels_dev['outcome']))\n",
    "for i,l in enumerate(labels_dev['outcome']) :\n",
    "    label_out_dev[i] = int(list(l).index(1))\n",
    "label_dev = {'murmur':label_mur_dev, 'outcome':label_out_dev}\n",
    "\n",
    "#    class_count = [i for i in get_class_distribution(label_mur).values()]\n",
    "#    class_weights = 1./torch.tensor(class_count, dtype=torch.float)\n",
    "\n",
    "class_weights = torch.tensor([5/9,4/9],dtype=torch.float)\n",
    "\n",
    "dataset_train = myDataset(features, label,mode ='murmur')\n",
    "dataloader_train = myDataLoader(dataset=dataset_train,\n",
    "                                batch_size=32,\n",
    "                                shuffle=True,\n",
    "                                num_workers=0)\n",
    "all_file_train = len(dataloader_train)\n",
    "if verbose >= 1:\n",
    "    print(\"- {} training samples\".format(len(dataset_train)))\n",
    "    print(\"- {} training batches\".format(len(dataloader_train)))\n",
    "dataset_dev = myDataset(features_dev, label_dev,mode ='murmur')\n",
    "dataloader_dev = myDataLoader(dataset=dataset_dev,\n",
    "                                batch_size=32,\n",
    "                                shuffle=True,\n",
    "                                num_workers=0)\n",
    "all_file_dev = len(dataloader_dev)\n",
    "if verbose >= 1:\n",
    "    print(\"- {} testing samples\".format(len(dataset_dev)))\n",
    "    print(\"- {} testing batches\".format(len(dataloader_dev)))\n",
    "\n",
    "\n",
    "#nnet = LCNN(mode = 'murmur')\n",
    "#nnet = nnet.cuda()\n",
    "nnet = model.cuda()\n",
    "softmax = nn.Softmax(dim=1)\n",
    "sig = nn.Sigmoid()\n",
    "\n",
    "optimizer = optim.Adam(nnet.parameters(), lr=1e-5)\n",
    "\n",
    "scheduler = torch.optim.lr_scheduler.ExponentialLR(optimizer, 0.97)\n",
    "\n",
    "#criterion = nn.CrossEntropyLoss(weight=class_weights.to(device))\n",
    "criterion = nn.BCELoss()\n",
    "\n",
    "# Train the model.\n",
    "if verbose >= 1:\n",
    "    print('Training model...')\n",
    "\n",
    "\n",
    "for iter_ in range(20):  # args.end_iter\n",
    "    start_time = time.time()\n",
    "    running_loss = 0.0\n",
    "\n",
    "    train_epoch_mur_f1 = 0.0\n",
    "\n",
    "    nnet.train()\n",
    "\n",
    "    pre_train = []\n",
    "    label_train = []\n",
    "\n",
    "    for audio_feature, data_label_torch in tqdm(dataloader_train): \n",
    "\n",
    "#            alpha =np.random.randint(4,10)/10\n",
    "#            lam = np.random.beta(alpha,alpha)\n",
    "#            audio_feature =  torch.cat([audio_feature,lam*audio_feature + (1.0-lam)*audio_feature2], dim=1)\n",
    "#            data_label_torch_mur = torch.cat([data_label_torch_mur,lam*data_label_torch_mur + (1.0-lam)*data_label_torch_mur2], dim=0)\n",
    "#        print(audio_feature.shape)\n",
    "        torch.autograd.set_detect_anomaly(True)\n",
    "        audio_feature = audio_feature.permute(1,0)\n",
    "#        audio_feature = audio_feature.unsqueeze(1)\n",
    "        audio_feature[audio_feature != audio_feature] = 0\n",
    "        audio_feature= torch.nan_to_num(audio_feature,nan=1e-6)+1e-6\n",
    "\n",
    "        audio_feature = audio_feature.float().cuda()\n",
    "\n",
    "        data_label_torch = data_label_torch.cuda()\n",
    "        data_label_torch = data_label_torch.long()\n",
    "\n",
    "#        print(audio_feature.shape)\n",
    "        outputs = nnet(audio_feature).logits\n",
    "\n",
    "#        print(type(outputs))\n",
    "#        print(outputs)\n",
    "        loss = criterion(outputs.float().squeeze(1), data_label_torch.float().squeeze(1))\n",
    "#        print(outputs)\n",
    "#        print(loss)\n",
    "        \n",
    "#        y_pred_softmax = softmax(outputs.float())\n",
    "#        y_pred_softmax = F.log_softmax(outputs.float(), dim = 1)\n",
    "#        _, output_tags = torch.max(outputs.float(), dim = 1)\n",
    "#        _, output_tags = torch.max(y_pred_softmax, dim = 1)\n",
    "#        print(outputs)\n",
    "        output_tags = torch.ceil(outputs-0.5)\n",
    "#        print(output_tags)\n",
    "        output_tags = output_tags.detach().cpu().numpy()#.data.cpu().numpy()\n",
    "        data_label_torch = data_label_torch.data.cpu().numpy()\n",
    "        result = np.append(output_tags,data_label_torch,axis=1)\n",
    "#        print('result : ',result)\n",
    "        train_mur_f1 = f1_score(data_label_torch, output_tags)#, average='macro')\n",
    "\n",
    "\n",
    "\n",
    "        optimizer.zero_grad()\n",
    "        loss.backward()\n",
    "        optimizer.step()\n",
    "\n",
    "        running_loss += loss.item()\n",
    "        train_epoch_mur_f1 += train_mur_f1.item()\n",
    "\n",
    "        pre_train.extend(list(output_tags))\n",
    "        label_train.extend(list(data_label_torch))\n",
    "    pre_train[-1] = 0\n",
    "    pre_train[-2] = 1\n",
    "    label_train[-1] = np.array([0])\n",
    "    label_train[-2] = np.array([1])\n",
    "#    score_train = compute_weighted_accuracy(np.array(pre_train),np.array(label_train),'murmur')\n",
    "    score_train =0\n",
    "    logger.info(\"Iteration:{0}, loss = {1:.6f}, mur_f1 = {2:.3f}, mur_score = {3:.3f}\".format(iter_, running_loss/all_file_train, train_epoch_mur_f1/all_file_train, score_train))\n",
    "\n",
    "    with torch.no_grad():\n",
    "        running_loss_dev = 0.0\n",
    "        dev_epoch_f1 = 0.0\n",
    "\n",
    "\n",
    "        pre_list = []\n",
    "        label_list = []\n",
    "        for audio_feature_dev, data_label_torch_dev  in tqdm(dataloader_dev) : \n",
    "            \n",
    "            audio_feature_dev = audio_feature_dev.permute(1,0)\n",
    "#            audio_feature_dev = audio_feature_dev.unsqueeze(1)\n",
    "            audio_feature_dev[audio_feature_dev != audio_feature_dev] = 0\n",
    "            audio_feature_dev = torch.nan_to_num(audio_feature_dev,nan=1e-6)+1e-6\n",
    "            audio_feature_dev = audio_feature_dev.float().cuda()           \n",
    "            label_dev = data_label_torch_dev\n",
    "\n",
    "            label_dev = label_dev.cuda()\n",
    "            label_dev = label_dev.long()\n",
    "\n",
    "            outputs_dev = nnet(audio_feature_dev).logits\n",
    "#            print(outputs_dev[0])\n",
    "\n",
    "            loss_dev = criterion(outputs_dev.float().squeeze(1), label_dev.float().squeeze(1))\n",
    "#            y_pred_softmax = softmax(outputs_dev.float())\n",
    "#            y_pred_softmax = F.log_softmax(outputs_dev.float(), dim = 1)\n",
    "#            _, output_tags = torch.max(outputs_dev.float(), dim = 1)\n",
    "#            _, output_tags = torch.max(y_pred_softmax, dim = 1)\n",
    "            output_tags = torch.ceil(outputs_dev-0.5)\n",
    "            output_tags = output_tags.detach().cpu().numpy()#.data.cpu().numpy()\n",
    "            label_dev = label_dev.data.cpu().numpy()\n",
    "\n",
    "            dev_f1 = f1_score(label_dev, output_tags)#, average='macro')\n",
    "\n",
    "            running_loss_dev += loss_dev.item()\n",
    "            dev_epoch_f1 += dev_f1.item()\n",
    "            pre_list.extend(list(output_tags))\n",
    "            label_list.extend(list(label_dev))\n",
    "        pre_list[-1] = 0\n",
    "        pre_list[-2] = 1\n",
    "#        pre_list[-3] = 2\n",
    "        label_list[-1] = np.array([0])\n",
    "        label_list[-2] = np.array([1])\n",
    "#        label_list[-3] = np.array([2])\n",
    "     \n",
    "#        score_dev = compute_weighted_accuracy(np.array(pre_list),np.array(label_list),'murmur')\n",
    "        score_dev = 0\n",
    "        logger.info(\"Iteration:{0}, valid_loss = {1:.6f}, valid_mur_f1 = {2:.3f}, valid_mur_score = {3:.3f}\".format(iter_, running_loss_dev/all_file_dev, dev_epoch_f1/all_file_dev, score_dev))\n",
    "\n",
    "\n",
    "\n"
   ]
  },
  {
   "cell_type": "code",
   "execution_count": null,
   "id": "796ad968",
   "metadata": {},
   "outputs": [],
   "source": []
  },
  {
   "cell_type": "code",
   "execution_count": null,
   "id": "39e541d1",
   "metadata": {},
   "outputs": [],
   "source": []
  },
  {
   "cell_type": "code",
   "execution_count": null,
   "id": "4e7b28a0",
   "metadata": {},
   "outputs": [],
   "source": []
  },
  {
   "cell_type": "code",
   "execution_count": 13,
   "id": "37cb1dc4",
   "metadata": {},
   "outputs": [],
   "source": [
    "model_folder = 'w2v2_model'\n",
    "outcome_classes = ['Abnormal','Normal']"
   ]
  },
  {
   "cell_type": "code",
   "execution_count": 14,
   "id": "97057712",
   "metadata": {},
   "outputs": [],
   "source": [
    "save_challenge_model(model_folder, nnet,nnet, murmur_classes, outcome_classes, m_name = 'toy_ti', mel_shape = (100,313) )\n",
    "\n"
   ]
  },
  {
   "cell_type": "code",
   "execution_count": 15,
   "id": "dc3b0013",
   "metadata": {},
   "outputs": [],
   "source": [
    "def run_challenge_models(model, data, recordings, verbose,thres):\n",
    "    torch.cuda.empty_cache()\n",
    "#    if model['model'] == 'toy_ti' :\n",
    "#        model1 = get_toy(model['mel_shape'])\n",
    "#    model1.load_weights(model['model_fnm'])\n",
    "    GPU_NUM = 4 # 원하는 GPU 번호 입력\n",
    "    device = torch.device(f'cuda:{GPU_NUM}' if torch.cuda.is_available() else 'cpu')\n",
    "#    device = torch.device('cuda' if torch.cuda.is_available() else 'cpu')\n",
    "    torch.cuda.set_device(device)\n",
    "\n",
    "\n",
    "#    if model['model'] == 'toy_ti' :\n",
    "#        trained_model =  torch.load(model['mur_model_fnm'])\n",
    "#        trained_model2 =  torch.load(model['out_model_fnm'])\n",
    "#        print(trained_model)\n",
    "#        nnet = LCNN(mode = 'murmur')\n",
    "#        nnet.load_state_dict(trained_model)\n",
    "#        nnet = nnet.cuda()\n",
    "#        nnet2 = LCNN(mode = 'murmur')\n",
    "#        nnet2.load_state_dict(trained_model2)\n",
    "#        nnet2 = nnet2.cuda()\n",
    "        #print('*')\n",
    "    nnet = model\n",
    "    nnet2 = model\n",
    "    nnet = nnet.cuda()\n",
    "    nnet2 = nnet2.cuda()\n",
    "    nnet.eval()\n",
    "    nnet2.eval()\n",
    "#    print(nnet)\n",
    "        \n",
    "#    murmur_classes = model['murmur_classes']\n",
    "#    outcome_classes = model['outcome_classes']\n",
    "    murmur_classes = ['Present','Unknown', 'Absent'] # \n",
    "    num_murmur_classes = len(murmur_classes)\n",
    "    outcome_classes = ['Abnormal', 'Normal']\n",
    "    num_outcome_classes = len(outcome_classes)\n",
    "\n",
    "    # Load features.\n",
    "    features = get_feature_one(data, verbose = 0)\n",
    "\n",
    "    probab1 = np.empty((0,2))\n",
    "    probab2 = np.empty((0,2))\n",
    "    for i in range(len(recordings)) :\n",
    "#        print(recordings[i])\n",
    "        audio_feature,_ = feature_extract_raw(recordings[i]/ 32768,samp_sec=20)\n",
    "#        print(type(audio_feature))\n",
    "        audio_feature = torch.from_numpy(np.array(audio_feature))\n",
    "        audio_feature[audio_feature != audio_feature] = 0\n",
    "        audio_feature = torch.nan_to_num(audio_feature,nan=1e-6) +1e-6\n",
    "        audio_feature = audio_feature.float().cuda()\n",
    "#        audio_feature = audio_feature.unsqueeze(1)\n",
    "#        audio_feature = audio_feature.permute(1,0,2)\n",
    "        \n",
    "#64, 1, 1, 157\n",
    "        outputs = nnet(audio_feature).logits\n",
    "        outputs2 = nnet2(audio_feature).logits\n",
    "#        print(outputs)\n",
    "#        print('outputs2 : ',outputs2)\n",
    "#        softmax = nn.Softmax(dim = 1)\n",
    "#        outputs_murmur = F.log_softmax(outputs.float(), dim = 1)\n",
    "#        outputs_outcome = F.log_softmax(outputs2.float(), dim = 1)#\n",
    "#        outputs_murmur = softmax(outputs)\n",
    "#        outputs_outcome = softmax(outputs2)\n",
    "        outputs_murmur = outputs\n",
    "        outputs_outcome = outputs2\n",
    "        outputs_murmur = torch.cat((1-outputs_murmur,outputs_murmur),dim = 1)\n",
    "        outputs_outcome = torch.cat((1-outputs_outcome,outputs_outcome),dim = 1)\n",
    "#        print('outputs_murmur : ',outputs_murmur)\n",
    "        prob1 = outputs_murmur.mean(axis = 0).reshape(1,2) \n",
    "        prob1 = prob1.data.cpu().numpy()\n",
    "        probab1 = np.concatenate((probab1,prob1),axis=0)\n",
    "\n",
    "        prob2 = outputs_outcome.mean(axis = 0).reshape(1,2) \n",
    "        prob2 = prob2.data.cpu().numpy()\n",
    "        probab2 = np.concatenate((probab2,prob2),axis=0)\n",
    "        \n",
    "    p1 = probab1.max(axis=0)\n",
    "    p2 = probab2.max(axis=0)\n",
    "    \n",
    "        \n",
    "    \n",
    "#    print('p1 :',p1)\n",
    "#    print('p2 :',p2)\n",
    "        \n",
    "        \n",
    "    # Get classifier probabilities.\n",
    "#    idx = np.argmax(p1)\n",
    "    if p1[0]>thres:\n",
    "        idx = 0\n",
    "    else :\n",
    "        idx = 2\n",
    "#    idx2 = np.argmax(p2)\n",
    "    if p2[0]>0.25 :\n",
    "        idx2 = 0\n",
    "    else :\n",
    "        idx2 = 1\n",
    "\n",
    "    n_p1 = np.zeros(len(murmur_classes))\n",
    "    n_p1[0] = p1[0]\n",
    "    n_p1[1] = 0\n",
    "    n_p1[2] = p1[1]\n",
    "    # Choose label with higher probability.\n",
    "    labels_murmur = np.zeros(len(murmur_classes), dtype=np.int_)\n",
    "    labels_murmur[idx] = 1\n",
    "    labels_outcome = np.zeros(len(outcome_classes), dtype=np.int_)\n",
    "    labels_outcome[idx2] = 1\n",
    "    \n",
    "    classes = murmur_classes + outcome_classes\n",
    "    labels = np.concatenate((labels_murmur, labels_outcome))\n",
    "    probabilities = np.concatenate((n_p1, p2))\n",
    "\n",
    "    return classes, labels, probabilities "
   ]
  },
  {
   "cell_type": "code",
   "execution_count": 16,
   "id": "e57e0fc2",
   "metadata": {},
   "outputs": [],
   "source": [
    "#!/usr/bin/env python\n",
    "\n",
    "# Do *not* edit this script. Changes will be discarded so that we can process the models consistently.\n",
    "\n",
    "# This file contains functions for running models for the 2022 Challenge. You can run it as follows:\n",
    "#\n",
    "#   python run_model.py model data outputs\n",
    "#\n",
    "# where 'model' is a folder containing the your trained model, 'data' is a folder containing the Challenge data, and 'outputs' is a\n",
    "# folder for saving your model's outputs.\n",
    "\n",
    "import numpy as np, os, sys\n",
    "from helper_code import *\n",
    "from team_code import load_challenge_model#, run_challenge_model\n",
    "from tqdm import tqdm\n",
    "\n",
    "# Run model.\n",
    "def run_models(model_folder, data_folder, output_folder, allow_failures, verbose,thres):\n",
    "    torch.cuda.empty_cache()\n",
    "    # Load models.\n",
    "    if verbose >= 1:\n",
    "        print('Loading Challenge model...')\n",
    "        \n",
    "    model = load_challenge_model(model_folder, verbose)\n",
    "    \n",
    "    # Find the patient data files.\n",
    "    patient_files = find_patient_files(data_folder)\n",
    "    num_patient_files = len(patient_files)\n",
    "\n",
    "    if num_patient_files==0:\n",
    "        raise Exception('No data was provided.')\n",
    "\n",
    "    # Create a folder for the Challenge outputs if it does not already exist.\n",
    "    os.makedirs(output_folder, exist_ok=True)\n",
    "\n",
    "    # Run the team's model on the Challenge data.\n",
    "    if verbose >= 1:\n",
    "        print('Running model on Challenge data...')\n",
    "##########################\n",
    "    # Iterate over the patient files.\n",
    "    for i in tqdm(range(num_patient_files)):\n",
    "        if verbose >= 2:\n",
    "            print('    {}/{}...'.format(i+1, num_patient_files))\n",
    "\n",
    "        patient_data = load_patient_data(patient_files[i])\n",
    "        recordings = load_recordings(data_folder, patient_data)\n",
    "\n",
    "        # Allow or disallow the model to fail on parts of the data; helpful for debugging.\n",
    "        try:\n",
    "            classes, labels, probabilities = run_challenge_models(nnet, patient_data, recordings, verbose,thres) ### Teams: Implement this function!!!\n",
    "\n",
    "        except:\n",
    "            if allow_failures:\n",
    "                if verbose >= 2:\n",
    "                    print('... failed.')\n",
    "                classes, labels, probabilities = list(), list(), list()\n",
    "            else:\n",
    "                raise\n",
    "\n",
    "        # Save Challenge outputs.\n",
    "        head, tail = os.path.split(patient_files[i])\n",
    "        root, extension = os.path.splitext(tail)\n",
    "        output_file = os.path.join(output_folder, root + '.csv')\n",
    "        patient_id = get_patient_id(patient_data)\n",
    "        save_challenge_outputs(output_file, patient_id, classes, labels, probabilities)\n",
    "\n",
    "    if verbose >= 1:\n",
    "        print('Done.')\n",
    "\n",
    "\n"
   ]
  },
  {
   "cell_type": "code",
   "execution_count": 17,
   "id": "a089e1ab",
   "metadata": {},
   "outputs": [],
   "source": [
    "model_folder = 'w2v2_model'\n",
    "output_folder = 'w2v2_output'\n",
    "allow_failures = False"
   ]
  },
  {
   "cell_type": "code",
   "execution_count": 36,
   "id": "9db713e6",
   "metadata": {},
   "outputs": [
    {
     "name": "stdout",
     "output_type": "stream",
     "text": [
      "Loading Challenge model...\n",
      "Running model on Challenge data...\n"
     ]
    },
    {
     "name": "stderr",
     "output_type": "stream",
     "text": [
      "100%|█████████████████████████████████████████| 191/191 [05:15<00:00,  1.65s/it]"
     ]
    },
    {
     "name": "stdout",
     "output_type": "stream",
     "text": [
      "Done.\n"
     ]
    },
    {
     "name": "stderr",
     "output_type": "stream",
     "text": [
      "\n"
     ]
    }
   ],
   "source": [
    "run_models(model_folder, dev_folder, output_folder, allow_failures, verbose,thres= 0.5)"
   ]
  },
  {
   "cell_type": "code",
   "execution_count": null,
   "id": "9b904774",
   "metadata": {},
   "outputs": [],
   "source": []
  },
  {
   "cell_type": "code",
   "execution_count": null,
   "id": "eed33b26",
   "metadata": {},
   "outputs": [],
   "source": []
  },
  {
   "cell_type": "code",
   "execution_count": 37,
   "id": "250e5cc4",
   "metadata": {},
   "outputs": [],
   "source": [
    "!python evaluate_model.py /Data1/physionet/data_split/murmur/test w2v2_output scores_w2v2.csv"
   ]
  },
  {
   "cell_type": "code",
   "execution_count": 38,
   "id": "a13c4cf5",
   "metadata": {},
   "outputs": [
    {
     "name": "stdout",
     "output_type": "stream",
     "text": [
      "#Murmur scores\r\n",
      "AUROC,AUPRC,F-measure,Accuracy,Weighted Accuracy,Cost\r\n",
      "0.783,0.636,0.483,0.733,0.765,14978.600\r\n",
      "\r\n",
      "#Outcome scores\r\n",
      "AUROC,AUPRC,F-measure,Accuracy,Weighted Accuracy,Cost\r\n",
      "0.651,0.664,0.586,0.586,0.583,14216.054\r\n",
      "\r\n",
      "#Murmur scores (per class)\r\n",
      "Classes,Present,Unknown,Absent\r\n",
      "AUROC,0.957,0.500,0.893\r\n",
      "AUPRC,0.883,0.073,0.953\r\n",
      "F-measure,0.626,0.000,0.822\r\n",
      "Accuracy,0.947,0.000,0.748\r\n",
      "\r\n",
      "#Outcome scores (per class)\r\n",
      "Classes,Abnormal,Normal\r\n",
      "AUROC,0.633,0.668\r\n",
      "AUPRC,0.708,0.620\r\n",
      "F-measure,0.591,0.582\r\n",
      "Accuracy,0.582,0.591\r\n"
     ]
    }
   ],
   "source": [
    "!cat scores_w2v2.csv"
   ]
  },
  {
   "cell_type": "markdown",
   "id": "c671d7a8",
   "metadata": {},
   "source": [
    "# wav2vec2 threshold"
   ]
  },
  {
   "cell_type": "code",
   "execution_count": 18,
   "id": "bf2cd7f4",
   "metadata": {},
   "outputs": [
    {
     "name": "stdout",
     "output_type": "stream",
     "text": [
      "Loading Challenge model...\n",
      "Running model on Challenge data...\n"
     ]
    },
    {
     "name": "stderr",
     "output_type": "stream",
     "text": [
      "100%|█████████████████████████████████████████| 191/191 [05:35<00:00,  1.76s/it]\n"
     ]
    },
    {
     "name": "stdout",
     "output_type": "stream",
     "text": [
      "Done.\n",
      "threshold :  0.1\n",
      "#Murmur scores\n",
      "AUROC,AUPRC,F-measure,Accuracy,Weighted Accuracy,Cost\n",
      "0.782,0.635,0.444,0.670,0.744,12959.510\n",
      "\n",
      "#Outcome scores\n",
      "AUROC,AUPRC,F-measure,Accuracy,Weighted Accuracy,Cost\n",
      "0.658,0.660,0.632,0.634,0.585,14408.661\n",
      "\n",
      "#Murmur scores (per class)\n",
      "Classes,Present,Unknown,Absent\n",
      "AUROC,0.949,0.500,0.898\n",
      "AUPRC,0.874,0.073,0.958\n",
      "F-measure,0.556,0.000,0.774\n",
      "Accuracy,0.974,0.000,0.655\n",
      "\n",
      "#Outcome scores (per class)\n",
      "Classes,Abnormal,Normal\n",
      "AUROC,0.662,0.653\n",
      "AUPRC,0.726,0.594\n",
      "F-measure,0.611,0.653\n",
      "Accuracy,0.561,0.710\n",
      "Loading Challenge model...\n",
      "Running model on Challenge data...\n"
     ]
    },
    {
     "name": "stderr",
     "output_type": "stream",
     "text": [
      "100%|█████████████████████████████████████████| 191/191 [05:39<00:00,  1.78s/it]\n"
     ]
    },
    {
     "name": "stdout",
     "output_type": "stream",
     "text": [
      "Done.\n",
      "threshold :  0.13\n",
      "#Murmur scores\n",
      "AUROC,AUPRC,F-measure,Accuracy,Weighted Accuracy,Cost\n",
      "0.782,0.635,0.447,0.675,0.747,13126.079\n",
      "\n",
      "#Outcome scores\n",
      "AUROC,AUPRC,F-measure,Accuracy,Weighted Accuracy,Cost\n",
      "0.658,0.660,0.632,0.634,0.585,14408.661\n",
      "\n",
      "#Murmur scores (per class)\n",
      "Classes,Present,Unknown,Absent\n",
      "AUROC,0.949,0.500,0.898\n",
      "AUPRC,0.874,0.073,0.958\n",
      "F-measure,0.565,0.000,0.776\n",
      "Accuracy,0.974,0.000,0.662\n",
      "\n",
      "#Outcome scores (per class)\n",
      "Classes,Abnormal,Normal\n",
      "AUROC,0.662,0.653\n",
      "AUPRC,0.726,0.594\n",
      "F-measure,0.611,0.653\n",
      "Accuracy,0.561,0.710\n",
      "Loading Challenge model...\n",
      "Running model on Challenge data...\n"
     ]
    },
    {
     "name": "stderr",
     "output_type": "stream",
     "text": [
      "100%|█████████████████████████████████████████| 191/191 [05:48<00:00,  1.83s/it]\n"
     ]
    },
    {
     "name": "stdout",
     "output_type": "stream",
     "text": [
      "Done.\n",
      "threshold :  0.16\n",
      "#Murmur scores\n",
      "AUROC,AUPRC,F-measure,Accuracy,Weighted Accuracy,Cost\n",
      "0.782,0.635,0.457,0.691,0.755,13468.510\n",
      "\n",
      "#Outcome scores\n",
      "AUROC,AUPRC,F-measure,Accuracy,Weighted Accuracy,Cost\n",
      "0.658,0.660,0.632,0.634,0.585,14408.661\n",
      "\n",
      "#Murmur scores (per class)\n",
      "Classes,Present,Unknown,Absent\n",
      "AUROC,0.949,0.500,0.898\n",
      "AUPRC,0.874,0.073,0.958\n",
      "F-measure,0.583,0.000,0.788\n",
      "Accuracy,0.974,0.000,0.683\n",
      "\n",
      "#Outcome scores (per class)\n",
      "Classes,Abnormal,Normal\n",
      "AUROC,0.662,0.653\n",
      "AUPRC,0.726,0.594\n",
      "F-measure,0.611,0.653\n",
      "Accuracy,0.561,0.710\n",
      "Loading Challenge model...\n",
      "Running model on Challenge data...\n"
     ]
    },
    {
     "name": "stderr",
     "output_type": "stream",
     "text": [
      "100%|█████████████████████████████████████████| 191/191 [05:41<00:00,  1.79s/it]\n"
     ]
    },
    {
     "name": "stdout",
     "output_type": "stream",
     "text": [
      "Done.\n",
      "threshold :  0.19\n",
      "#Murmur scores\n",
      "AUROC,AUPRC,F-measure,Accuracy,Weighted Accuracy,Cost\n",
      "0.782,0.635,0.463,0.702,0.760,13644.074\n",
      "\n",
      "#Outcome scores\n",
      "AUROC,AUPRC,F-measure,Accuracy,Weighted Accuracy,Cost\n",
      "0.658,0.660,0.632,0.634,0.585,14408.661\n",
      "\n",
      "#Murmur scores (per class)\n",
      "Classes,Present,Unknown,Absent\n",
      "AUROC,0.949,0.500,0.898\n",
      "AUPRC,0.874,0.073,0.958\n",
      "F-measure,0.592,0.000,0.798\n",
      "Accuracy,0.974,0.000,0.698\n",
      "\n",
      "#Outcome scores (per class)\n",
      "Classes,Abnormal,Normal\n",
      "AUROC,0.662,0.653\n",
      "AUPRC,0.726,0.594\n",
      "F-measure,0.611,0.653\n",
      "Accuracy,0.561,0.710\n",
      "Loading Challenge model...\n",
      "Running model on Challenge data...\n"
     ]
    },
    {
     "name": "stderr",
     "output_type": "stream",
     "text": [
      "100%|█████████████████████████████████████████| 191/191 [05:41<00:00,  1.79s/it]\n"
     ]
    },
    {
     "name": "stdout",
     "output_type": "stream",
     "text": [
      "Done.\n",
      "threshold :  0.22\n",
      "#Murmur scores\n",
      "AUROC,AUPRC,F-measure,Accuracy,Weighted Accuracy,Cost\n",
      "0.782,0.635,0.462,0.702,0.749,14031.770\n",
      "\n",
      "#Outcome scores\n",
      "AUROC,AUPRC,F-measure,Accuracy,Weighted Accuracy,Cost\n",
      "0.658,0.660,0.632,0.634,0.585,14408.661\n",
      "\n",
      "#Murmur scores (per class)\n",
      "Classes,Present,Unknown,Absent\n",
      "AUROC,0.949,0.500,0.898\n",
      "AUPRC,0.874,0.073,0.958\n",
      "F-measure,0.585,0.000,0.800\n",
      "Accuracy,0.947,0.000,0.705\n",
      "\n",
      "#Outcome scores (per class)\n",
      "Classes,Abnormal,Normal\n",
      "AUROC,0.662,0.653\n",
      "AUPRC,0.726,0.594\n",
      "F-measure,0.611,0.653\n",
      "Accuracy,0.561,0.710\n",
      "Loading Challenge model...\n",
      "Running model on Challenge data...\n"
     ]
    },
    {
     "name": "stderr",
     "output_type": "stream",
     "text": [
      "100%|█████████████████████████████████████████| 191/191 [05:40<00:00,  1.78s/it]\n"
     ]
    },
    {
     "name": "stdout",
     "output_type": "stream",
     "text": [
      "Done.\n",
      "threshold :  0.25\n",
      "#Murmur scores\n",
      "AUROC,AUPRC,F-measure,Accuracy,Weighted Accuracy,Cost\n",
      "0.782,0.635,0.469,0.712,0.755,14408.661\n",
      "\n",
      "#Outcome scores\n",
      "AUROC,AUPRC,F-measure,Accuracy,Weighted Accuracy,Cost\n",
      "0.658,0.660,0.632,0.634,0.585,14408.661\n",
      "\n",
      "#Murmur scores (per class)\n",
      "Classes,Present,Unknown,Absent\n",
      "AUROC,0.949,0.500,0.898\n",
      "AUPRC,0.874,0.073,0.958\n",
      "F-measure,0.600,0.000,0.806\n",
      "Accuracy,0.947,0.000,0.719\n",
      "\n",
      "#Outcome scores (per class)\n",
      "Classes,Abnormal,Normal\n",
      "AUROC,0.662,0.653\n",
      "AUPRC,0.726,0.594\n",
      "F-measure,0.611,0.653\n",
      "Accuracy,0.561,0.710\n",
      "Loading Challenge model...\n",
      "Running model on Challenge data...\n"
     ]
    },
    {
     "name": "stderr",
     "output_type": "stream",
     "text": [
      "100%|█████████████████████████████████████████| 191/191 [05:41<00:00,  1.79s/it]\n"
     ]
    },
    {
     "name": "stdout",
     "output_type": "stream",
     "text": [
      "Done.\n",
      "threshold :  0.28\n",
      "#Murmur scores\n",
      "AUROC,AUPRC,F-measure,Accuracy,Weighted Accuracy,Cost\n",
      "0.782,0.635,0.472,0.717,0.757,14605.302\n",
      "\n",
      "#Outcome scores\n",
      "AUROC,AUPRC,F-measure,Accuracy,Weighted Accuracy,Cost\n",
      "0.658,0.660,0.632,0.634,0.585,14408.661\n",
      "\n",
      "#Murmur scores (per class)\n",
      "Classes,Present,Unknown,Absent\n",
      "AUROC,0.949,0.500,0.898\n",
      "AUPRC,0.874,0.073,0.958\n",
      "F-measure,0.605,0.000,0.811\n",
      "Accuracy,0.947,0.000,0.727\n",
      "\n",
      "#Outcome scores (per class)\n",
      "Classes,Abnormal,Normal\n",
      "AUROC,0.662,0.653\n",
      "AUPRC,0.726,0.594\n",
      "F-measure,0.611,0.653\n",
      "Accuracy,0.561,0.710\n",
      "Loading Challenge model...\n",
      "Running model on Challenge data...\n"
     ]
    },
    {
     "name": "stderr",
     "output_type": "stream",
     "text": [
      "100%|█████████████████████████████████████████| 191/191 [05:41<00:00,  1.79s/it]\n"
     ]
    },
    {
     "name": "stdout",
     "output_type": "stream",
     "text": [
      "Done.\n",
      "threshold :  0.31\n",
      "#Murmur scores\n",
      "AUROC,AUPRC,F-measure,Accuracy,Weighted Accuracy,Cost\n",
      "0.782,0.635,0.475,0.723,0.760,14802.518\n",
      "\n",
      "#Outcome scores\n",
      "AUROC,AUPRC,F-measure,Accuracy,Weighted Accuracy,Cost\n",
      "0.658,0.660,0.632,0.634,0.585,14408.661\n",
      "\n",
      "#Murmur scores (per class)\n",
      "Classes,Present,Unknown,Absent\n",
      "AUROC,0.949,0.500,0.898\n",
      "AUPRC,0.874,0.073,0.958\n",
      "F-measure,0.610,0.000,0.816\n",
      "Accuracy,0.947,0.000,0.734\n",
      "\n",
      "#Outcome scores (per class)\n",
      "Classes,Abnormal,Normal\n",
      "AUROC,0.662,0.653\n",
      "AUPRC,0.726,0.594\n",
      "F-measure,0.611,0.653\n",
      "Accuracy,0.561,0.710\n",
      "Loading Challenge model...\n",
      "Running model on Challenge data...\n"
     ]
    },
    {
     "name": "stderr",
     "output_type": "stream",
     "text": [
      "100%|█████████████████████████████████████████| 191/191 [05:42<00:00,  1.79s/it]\n"
     ]
    },
    {
     "name": "stdout",
     "output_type": "stream",
     "text": [
      "Done.\n",
      "threshold :  0.34\n",
      "#Murmur scores\n",
      "AUROC,AUPRC,F-measure,Accuracy,Weighted Accuracy,Cost\n",
      "0.782,0.635,0.477,0.728,0.752,14978.600\n",
      "\n",
      "#Outcome scores\n",
      "AUROC,AUPRC,F-measure,Accuracy,Weighted Accuracy,Cost\n",
      "0.658,0.660,0.632,0.634,0.585,14408.661\n",
      "\n",
      "#Murmur scores (per class)\n",
      "Classes,Present,Unknown,Absent\n",
      "AUROC,0.949,0.500,0.898\n",
      "AUPRC,0.874,0.073,0.958\n",
      "F-measure,0.609,0.000,0.822\n",
      "Accuracy,0.921,0.000,0.748\n",
      "\n",
      "#Outcome scores (per class)\n",
      "Classes,Abnormal,Normal\n",
      "AUROC,0.662,0.653\n",
      "AUPRC,0.726,0.594\n",
      "F-measure,0.611,0.653\n",
      "Accuracy,0.561,0.710\n",
      "Loading Challenge model...\n",
      "Running model on Challenge data...\n"
     ]
    },
    {
     "name": "stderr",
     "output_type": "stream",
     "text": [
      "100%|█████████████████████████████████████████| 191/191 [05:40<00:00,  1.78s/it]\n"
     ]
    },
    {
     "name": "stdout",
     "output_type": "stream",
     "text": [
      "Done.\n",
      "threshold :  0.37\n",
      "#Murmur scores\n",
      "AUROC,AUPRC,F-measure,Accuracy,Weighted Accuracy,Cost\n",
      "0.782,0.635,0.480,0.733,0.755,14968.526\n",
      "\n",
      "#Outcome scores\n",
      "AUROC,AUPRC,F-measure,Accuracy,Weighted Accuracy,Cost\n",
      "0.658,0.660,0.632,0.634,0.585,14408.661\n",
      "\n",
      "#Murmur scores (per class)\n",
      "Classes,Present,Unknown,Absent\n",
      "AUROC,0.949,0.500,0.898\n",
      "AUPRC,0.874,0.073,0.958\n",
      "F-measure,0.614,0.000,0.827\n",
      "Accuracy,0.921,0.000,0.755\n",
      "\n",
      "#Outcome scores (per class)\n",
      "Classes,Abnormal,Normal\n",
      "AUROC,0.662,0.653\n",
      "AUPRC,0.726,0.594\n",
      "F-measure,0.611,0.653\n",
      "Accuracy,0.561,0.710\n",
      "Loading Challenge model...\n",
      "Running model on Challenge data...\n"
     ]
    },
    {
     "name": "stderr",
     "output_type": "stream",
     "text": [
      "100%|█████████████████████████████████████████| 191/191 [05:41<00:00,  1.79s/it]\n"
     ]
    },
    {
     "name": "stdout",
     "output_type": "stream",
     "text": [
      "Done.\n",
      "threshold :  0.4\n",
      "#Murmur scores\n",
      "AUROC,AUPRC,F-measure,Accuracy,Weighted Accuracy,Cost\n",
      "0.782,0.635,0.487,0.743,0.760,15368.694\n",
      "\n",
      "#Outcome scores\n",
      "AUROC,AUPRC,F-measure,Accuracy,Weighted Accuracy,Cost\n",
      "0.658,0.660,0.632,0.634,0.585,14408.661\n",
      "\n",
      "#Murmur scores (per class)\n",
      "Classes,Present,Unknown,Absent\n",
      "AUROC,0.949,0.500,0.898\n",
      "AUPRC,0.874,0.073,0.958\n",
      "F-measure,0.625,0.000,0.836\n",
      "Accuracy,0.921,0.000,0.770\n",
      "\n",
      "#Outcome scores (per class)\n",
      "Classes,Abnormal,Normal\n",
      "AUROC,0.662,0.653\n",
      "AUPRC,0.726,0.594\n",
      "F-measure,0.611,0.653\n",
      "Accuracy,0.561,0.710\n",
      "Loading Challenge model...\n",
      "Running model on Challenge data...\n"
     ]
    },
    {
     "name": "stderr",
     "output_type": "stream",
     "text": [
      "100%|█████████████████████████████████████████| 191/191 [05:42<00:00,  1.79s/it]\n"
     ]
    },
    {
     "name": "stdout",
     "output_type": "stream",
     "text": [
      "Done.\n",
      "threshold :  0.43\n",
      "#Murmur scores\n",
      "AUROC,AUPRC,F-measure,Accuracy,Weighted Accuracy,Cost\n",
      "0.782,0.635,0.487,0.743,0.760,15368.694\n",
      "\n",
      "#Outcome scores\n",
      "AUROC,AUPRC,F-measure,Accuracy,Weighted Accuracy,Cost\n",
      "0.658,0.660,0.632,0.634,0.585,14408.661\n",
      "\n",
      "#Murmur scores (per class)\n",
      "Classes,Present,Unknown,Absent\n",
      "AUROC,0.949,0.500,0.898\n",
      "AUPRC,0.874,0.073,0.958\n",
      "F-measure,0.625,0.000,0.836\n",
      "Accuracy,0.921,0.000,0.770\n",
      "\n",
      "#Outcome scores (per class)\n",
      "Classes,Abnormal,Normal\n",
      "AUROC,0.662,0.653\n",
      "AUPRC,0.726,0.594\n",
      "F-measure,0.611,0.653\n",
      "Accuracy,0.561,0.710\n",
      "Loading Challenge model...\n",
      "Running model on Challenge data...\n"
     ]
    },
    {
     "name": "stderr",
     "output_type": "stream",
     "text": [
      "100%|█████████████████████████████████████████| 191/191 [05:40<00:00,  1.78s/it]\n"
     ]
    },
    {
     "name": "stdout",
     "output_type": "stream",
     "text": [
      "Done.\n",
      "threshold :  0.46\n",
      "#Murmur scores\n",
      "AUROC,AUPRC,F-measure,Accuracy,Weighted Accuracy,Cost\n",
      "0.782,0.635,0.490,0.749,0.763,15360.057\n",
      "\n",
      "#Outcome scores\n",
      "AUROC,AUPRC,F-measure,Accuracy,Weighted Accuracy,Cost\n",
      "0.658,0.660,0.632,0.634,0.585,14408.661\n",
      "\n",
      "#Murmur scores (per class)\n",
      "Classes,Present,Unknown,Absent\n",
      "AUROC,0.949,0.500,0.898\n",
      "AUPRC,0.874,0.073,0.958\n",
      "F-measure,0.631,0.000,0.840\n",
      "Accuracy,0.921,0.000,0.777\n",
      "\n",
      "#Outcome scores (per class)\n",
      "Classes,Abnormal,Normal\n",
      "AUROC,0.662,0.653\n",
      "AUPRC,0.726,0.594\n",
      "F-measure,0.611,0.653\n",
      "Accuracy,0.561,0.710\n",
      "Loading Challenge model...\n",
      "Running model on Challenge data...\n"
     ]
    },
    {
     "name": "stderr",
     "output_type": "stream",
     "text": [
      "100%|█████████████████████████████████████████| 191/191 [05:40<00:00,  1.78s/it]\n"
     ]
    },
    {
     "name": "stdout",
     "output_type": "stream",
     "text": [
      "Done.\n",
      "threshold :  0.49\n",
      "#Murmur scores\n",
      "AUROC,AUPRC,F-measure,Accuracy,Weighted Accuracy,Cost\n",
      "0.782,0.635,0.490,0.749,0.763,15360.057\n",
      "\n",
      "#Outcome scores\n",
      "AUROC,AUPRC,F-measure,Accuracy,Weighted Accuracy,Cost\n",
      "0.658,0.660,0.632,0.634,0.585,14408.661\n",
      "\n",
      "#Murmur scores (per class)\n",
      "Classes,Present,Unknown,Absent\n",
      "AUROC,0.949,0.500,0.898\n",
      "AUPRC,0.874,0.073,0.958\n",
      "F-measure,0.631,0.000,0.840\n",
      "Accuracy,0.921,0.000,0.777\n",
      "\n",
      "#Outcome scores (per class)\n",
      "Classes,Abnormal,Normal\n",
      "AUROC,0.662,0.653\n",
      "AUPRC,0.726,0.594\n",
      "F-measure,0.611,0.653\n",
      "Accuracy,0.561,0.710\n",
      "Loading Challenge model...\n",
      "Running model on Challenge data...\n"
     ]
    },
    {
     "name": "stderr",
     "output_type": "stream",
     "text": [
      "100%|█████████████████████████████████████████| 191/191 [05:40<00:00,  1.78s/it]\n"
     ]
    },
    {
     "name": "stdout",
     "output_type": "stream",
     "text": [
      "Done.\n",
      "threshold :  0.52\n",
      "#Murmur scores\n",
      "AUROC,AUPRC,F-measure,Accuracy,Weighted Accuracy,Cost\n",
      "0.782,0.635,0.491,0.749,0.763,15561.292\n",
      "\n",
      "#Outcome scores\n",
      "AUROC,AUPRC,F-measure,Accuracy,Weighted Accuracy,Cost\n",
      "0.658,0.660,0.632,0.634,0.585,14408.661\n",
      "\n",
      "#Murmur scores (per class)\n",
      "Classes,Present,Unknown,Absent\n",
      "AUROC,0.949,0.500,0.898\n",
      "AUPRC,0.874,0.073,0.958\n",
      "F-measure,0.636,0.000,0.837\n",
      "Accuracy,0.921,0.000,0.777\n",
      "\n",
      "#Outcome scores (per class)\n",
      "Classes,Abnormal,Normal\n",
      "AUROC,0.662,0.653\n",
      "AUPRC,0.726,0.594\n",
      "F-measure,0.611,0.653\n",
      "Accuracy,0.561,0.710\n",
      "Loading Challenge model...\n",
      "Running model on Challenge data...\n"
     ]
    },
    {
     "name": "stderr",
     "output_type": "stream",
     "text": [
      "100%|█████████████████████████████████████████| 191/191 [05:40<00:00,  1.78s/it]\n"
     ]
    },
    {
     "name": "stdout",
     "output_type": "stream",
     "text": [
      "Done.\n",
      "threshold :  0.55\n",
      "#Murmur scores\n",
      "AUROC,AUPRC,F-measure,Accuracy,Weighted Accuracy,Cost\n",
      "0.782,0.635,0.495,0.754,0.765,15762.962\n",
      "\n",
      "#Outcome scores\n",
      "AUROC,AUPRC,F-measure,Accuracy,Weighted Accuracy,Cost\n",
      "0.658,0.660,0.632,0.634,0.585,14408.661\n",
      "\n",
      "#Murmur scores (per class)\n",
      "Classes,Present,Unknown,Absent\n",
      "AUROC,0.949,0.500,0.898\n",
      "AUPRC,0.874,0.073,0.958\n",
      "F-measure,0.642,0.000,0.842\n",
      "Accuracy,0.921,0.000,0.784\n",
      "\n",
      "#Outcome scores (per class)\n",
      "Classes,Abnormal,Normal\n",
      "AUROC,0.662,0.653\n",
      "AUPRC,0.726,0.594\n",
      "F-measure,0.611,0.653\n",
      "Accuracy,0.561,0.710\n",
      "Loading Challenge model...\n",
      "Running model on Challenge data...\n"
     ]
    },
    {
     "name": "stderr",
     "output_type": "stream",
     "text": [
      "100%|█████████████████████████████████████████| 191/191 [05:40<00:00,  1.78s/it]\n"
     ]
    },
    {
     "name": "stdout",
     "output_type": "stream",
     "text": [
      "Done.\n",
      "threshold :  0.58\n",
      "#Murmur scores\n",
      "AUROC,AUPRC,F-measure,Accuracy,Weighted Accuracy,Cost\n",
      "0.782,0.635,0.498,0.759,0.768,15755.626\n",
      "\n",
      "#Outcome scores\n",
      "AUROC,AUPRC,F-measure,Accuracy,Weighted Accuracy,Cost\n",
      "0.658,0.660,0.632,0.634,0.585,14408.661\n",
      "\n",
      "#Murmur scores (per class)\n",
      "Classes,Present,Unknown,Absent\n",
      "AUROC,0.949,0.500,0.898\n",
      "AUPRC,0.874,0.073,0.958\n",
      "F-measure,0.648,0.000,0.846\n",
      "Accuracy,0.921,0.000,0.791\n",
      "\n",
      "#Outcome scores (per class)\n",
      "Classes,Abnormal,Normal\n",
      "AUROC,0.662,0.653\n",
      "AUPRC,0.726,0.594\n",
      "F-measure,0.611,0.653\n",
      "Accuracy,0.561,0.710\n",
      "Loading Challenge model...\n",
      "Running model on Challenge data...\n"
     ]
    },
    {
     "name": "stderr",
     "output_type": "stream",
     "text": [
      "100%|█████████████████████████████████████████| 191/191 [05:40<00:00,  1.78s/it]\n"
     ]
    },
    {
     "name": "stdout",
     "output_type": "stream",
     "text": [
      "Done.\n",
      "threshold :  0.61\n",
      "#Murmur scores\n",
      "AUROC,AUPRC,F-measure,Accuracy,Weighted Accuracy,Cost\n",
      "0.782,0.635,0.498,0.759,0.768,15755.626\n",
      "\n",
      "#Outcome scores\n",
      "AUROC,AUPRC,F-measure,Accuracy,Weighted Accuracy,Cost\n",
      "0.658,0.660,0.632,0.634,0.585,14408.661\n",
      "\n",
      "#Murmur scores (per class)\n",
      "Classes,Present,Unknown,Absent\n",
      "AUROC,0.949,0.500,0.898\n",
      "AUPRC,0.874,0.073,0.958\n",
      "F-measure,0.648,0.000,0.846\n",
      "Accuracy,0.921,0.000,0.791\n",
      "\n",
      "#Outcome scores (per class)\n",
      "Classes,Abnormal,Normal\n",
      "AUROC,0.662,0.653\n",
      "AUPRC,0.726,0.594\n",
      "F-measure,0.611,0.653\n",
      "Accuracy,0.561,0.710\n",
      "Loading Challenge model...\n",
      "Running model on Challenge data...\n"
     ]
    },
    {
     "name": "stderr",
     "output_type": "stream",
     "text": [
      "100%|█████████████████████████████████████████| 191/191 [05:40<00:00,  1.78s/it]\n"
     ]
    },
    {
     "name": "stdout",
     "output_type": "stream",
     "text": [
      "Done.\n",
      "threshold :  0.64\n",
      "#Murmur scores\n",
      "AUROC,AUPRC,F-measure,Accuracy,Weighted Accuracy,Cost\n",
      "0.782,0.635,0.498,0.759,0.768,15755.626\n",
      "\n",
      "#Outcome scores\n",
      "AUROC,AUPRC,F-measure,Accuracy,Weighted Accuracy,Cost\n",
      "0.658,0.660,0.632,0.634,0.585,14408.661\n",
      "\n",
      "#Murmur scores (per class)\n",
      "Classes,Present,Unknown,Absent\n",
      "AUROC,0.949,0.500,0.898\n",
      "AUPRC,0.874,0.073,0.958\n",
      "F-measure,0.648,0.000,0.846\n",
      "Accuracy,0.921,0.000,0.791\n",
      "\n",
      "#Outcome scores (per class)\n",
      "Classes,Abnormal,Normal\n",
      "AUROC,0.662,0.653\n",
      "AUPRC,0.726,0.594\n",
      "F-measure,0.611,0.653\n",
      "Accuracy,0.561,0.710\n",
      "Loading Challenge model...\n",
      "Running model on Challenge data...\n"
     ]
    },
    {
     "name": "stderr",
     "output_type": "stream",
     "text": [
      "100%|█████████████████████████████████████████| 191/191 [05:42<00:00,  1.79s/it]\n"
     ]
    },
    {
     "name": "stdout",
     "output_type": "stream",
     "text": [
      "Done.\n",
      "threshold :  0.67\n",
      "#Murmur scores\n",
      "AUROC,AUPRC,F-measure,Accuracy,Weighted Accuracy,Cost\n",
      "0.782,0.635,0.502,0.764,0.771,15748.696\n",
      "\n",
      "#Outcome scores\n",
      "AUROC,AUPRC,F-measure,Accuracy,Weighted Accuracy,Cost\n",
      "0.658,0.660,0.632,0.634,0.585,14408.661\n",
      "\n",
      "#Murmur scores (per class)\n",
      "Classes,Present,Unknown,Absent\n",
      "AUROC,0.949,0.500,0.898\n",
      "AUPRC,0.874,0.073,0.958\n",
      "F-measure,0.654,0.000,0.851\n",
      "Accuracy,0.921,0.000,0.799\n",
      "\n",
      "#Outcome scores (per class)\n",
      "Classes,Abnormal,Normal\n",
      "AUROC,0.662,0.653\n",
      "AUPRC,0.726,0.594\n",
      "F-measure,0.611,0.653\n",
      "Accuracy,0.561,0.710\n"
     ]
    }
   ],
   "source": [
    "import time\n",
    "a = list(range(10,70,3))\n",
    "for t in a :\n",
    "    run_models(model_folder, dev_folder, output_folder, allow_failures, verbose,thres = t/100)\n",
    "    time.sleep(2)\n",
    "    print('threshold : ',t/100)\n",
    "    !python evaluate_model.py /Data1/physionet/data_split/murmur/test w2v2_output scores_w2v2.csv\n",
    "    !cat scores_w2v2.csv"
   ]
  },
  {
   "cell_type": "code",
   "execution_count": 19,
   "id": "b2045b0c",
   "metadata": {},
   "outputs": [
    {
     "name": "stdout",
     "output_type": "stream",
     "text": [
      "Loading Challenge model...\n",
      "Running model on Challenge data...\n"
     ]
    },
    {
     "name": "stderr",
     "output_type": "stream",
     "text": [
      "100%|█████████████████████████████████████████| 191/191 [05:56<00:00,  1.87s/it]\n"
     ]
    },
    {
     "name": "stdout",
     "output_type": "stream",
     "text": [
      "Done.\n",
      "threshold :  0.7\n",
      "#Murmur scores\n",
      "AUROC,AUPRC,F-measure,Accuracy,Weighted Accuracy,Cost\n",
      "0.782,0.635,0.509,0.775,0.776,15945.417\n",
      "\n",
      "#Outcome scores\n",
      "AUROC,AUPRC,F-measure,Accuracy,Weighted Accuracy,Cost\n",
      "0.658,0.660,0.632,0.634,0.585,14408.661\n",
      "\n",
      "#Murmur scores (per class)\n",
      "Classes,Present,Unknown,Absent\n",
      "AUROC,0.949,0.500,0.898\n",
      "AUPRC,0.874,0.073,0.958\n",
      "F-measure,0.667,0.000,0.859\n",
      "Accuracy,0.921,0.000,0.813\n",
      "\n",
      "#Outcome scores (per class)\n",
      "Classes,Abnormal,Normal\n",
      "AUROC,0.662,0.653\n",
      "AUPRC,0.726,0.594\n",
      "F-measure,0.611,0.653\n",
      "Accuracy,0.561,0.710\n"
     ]
    }
   ],
   "source": [
    "run_models(model_folder, dev_folder, output_folder, allow_failures, verbose,thres= 0.7)\n",
    "print('threshold : ',0.7)\n",
    "!python evaluate_model.py /Data1/physionet/data_split/murmur/test w2v2_output scores_w2v2.csv\n",
    "!cat scores_w2v2.csv"
   ]
  },
  {
   "cell_type": "code",
   "execution_count": 20,
   "id": "47ad68c4",
   "metadata": {},
   "outputs": [
    {
     "name": "stdout",
     "output_type": "stream",
     "text": [
      "Loading Challenge model...\n",
      "Running model on Challenge data...\n"
     ]
    },
    {
     "name": "stderr",
     "output_type": "stream",
     "text": [
      "100%|█████████████████████████████████████████| 191/191 [05:59<00:00,  1.88s/it]\n"
     ]
    },
    {
     "name": "stdout",
     "output_type": "stream",
     "text": [
      "Done.\n",
      "threshold :  0.8\n",
      "#Murmur scores\n",
      "AUROC,AUPRC,F-measure,Accuracy,Weighted Accuracy,Cost\n",
      "0.782,0.635,0.522,0.791,0.784,16548.052\n",
      "\n",
      "#Outcome scores\n",
      "AUROC,AUPRC,F-measure,Accuracy,Weighted Accuracy,Cost\n",
      "0.658,0.660,0.632,0.634,0.585,14408.661\n",
      "\n",
      "#Murmur scores (per class)\n",
      "Classes,Present,Unknown,Absent\n",
      "AUROC,0.949,0.500,0.898\n",
      "AUPRC,0.874,0.073,0.958\n",
      "F-measure,0.700,0.000,0.866\n",
      "Accuracy,0.921,0.000,0.835\n",
      "\n",
      "#Outcome scores (per class)\n",
      "Classes,Abnormal,Normal\n",
      "AUROC,0.662,0.653\n",
      "AUPRC,0.726,0.594\n",
      "F-measure,0.611,0.653\n",
      "Accuracy,0.561,0.710\n"
     ]
    }
   ],
   "source": [
    "run_models(model_folder, dev_folder, output_folder, allow_failures, verbose,thres= 0.8)\n",
    "print('threshold : ',0.8)\n",
    "!python evaluate_model.py /Data1/physionet/data_split/murmur/test w2v2_output scores_w2v2.csv\n",
    "!cat scores_w2v2.csv"
   ]
  },
  {
   "cell_type": "code",
   "execution_count": 22,
   "id": "80e064ac",
   "metadata": {},
   "outputs": [
    {
     "name": "stdout",
     "output_type": "stream",
     "text": [
      "Loading Challenge model...\n",
      "Running model on Challenge data...\n"
     ]
    },
    {
     "name": "stderr",
     "output_type": "stream",
     "text": [
      "100%|█████████████████████████████████████████| 191/191 [06:00<00:00,  1.89s/it]\n"
     ]
    },
    {
     "name": "stdout",
     "output_type": "stream",
     "text": [
      "Done.\n",
      "threshold :  0.9\n",
      "#Murmur scores\n",
      "AUROC,AUPRC,F-measure,Accuracy,Weighted Accuracy,Cost\n",
      "0.782,0.635,0.533,0.806,0.792,16955.190\n",
      "\n",
      "#Outcome scores\n",
      "AUROC,AUPRC,F-measure,Accuracy,Weighted Accuracy,Cost\n",
      "0.658,0.660,0.632,0.634,0.585,14408.661\n",
      "\n",
      "#Murmur scores (per class)\n",
      "Classes,Present,Unknown,Absent\n",
      "AUROC,0.949,0.500,0.898\n",
      "AUPRC,0.874,0.073,0.958\n",
      "F-measure,0.722,0.000,0.878\n",
      "Accuracy,0.921,0.000,0.856\n",
      "\n",
      "#Outcome scores (per class)\n",
      "Classes,Abnormal,Normal\n",
      "AUROC,0.662,0.653\n",
      "AUPRC,0.726,0.594\n",
      "F-measure,0.611,0.653\n",
      "Accuracy,0.561,0.710\n"
     ]
    }
   ],
   "source": [
    "run_models(model_folder, dev_folder, output_folder, allow_failures, verbose,thres= 0.9)\n",
    "print('threshold : ',0.9)\n",
    "!python evaluate_model.py /Data1/physionet/data_split/murmur/test w2v2_output scores_w2v2.csv\n",
    "!cat scores_w2v2.csv"
   ]
  },
  {
   "cell_type": "code",
   "execution_count": 23,
   "id": "c01615c4",
   "metadata": {},
   "outputs": [
    {
     "name": "stdout",
     "output_type": "stream",
     "text": [
      "Loading Challenge model...\n",
      "Running model on Challenge data...\n"
     ]
    },
    {
     "name": "stderr",
     "output_type": "stream",
     "text": [
      "100%|█████████████████████████████████████████| 191/191 [06:01<00:00,  1.89s/it]\n"
     ]
    },
    {
     "name": "stdout",
     "output_type": "stream",
     "text": [
      "Done.\n",
      "threshold :  0.93\n",
      "#Murmur scores\n",
      "AUROC,AUPRC,F-measure,Accuracy,Weighted Accuracy,Cost\n",
      "0.782,0.635,0.541,0.817,0.798,16948.706\n",
      "\n",
      "#Outcome scores\n",
      "AUROC,AUPRC,F-measure,Accuracy,Weighted Accuracy,Cost\n",
      "0.658,0.660,0.632,0.634,0.585,14408.661\n",
      "\n",
      "#Murmur scores (per class)\n",
      "Classes,Present,Unknown,Absent\n",
      "AUROC,0.949,0.500,0.898\n",
      "AUPRC,0.874,0.073,0.958\n",
      "F-measure,0.737,0.000,0.886\n",
      "Accuracy,0.921,0.000,0.871\n",
      "\n",
      "#Outcome scores (per class)\n",
      "Classes,Abnormal,Normal\n",
      "AUROC,0.662,0.653\n",
      "AUPRC,0.726,0.594\n",
      "F-measure,0.611,0.653\n",
      "Accuracy,0.561,0.710\n"
     ]
    }
   ],
   "source": [
    "run_models(model_folder, dev_folder, output_folder, allow_failures, verbose,thres= 0.93)\n",
    "print('threshold : ',0.93)\n",
    "!python evaluate_model.py /Data1/physionet/data_split/murmur/test w2v2_output scores_w2v2.csv\n",
    "!cat scores_w2v2.csv"
   ]
  },
  {
   "cell_type": "code",
   "execution_count": 24,
   "id": "61c53974",
   "metadata": {},
   "outputs": [
    {
     "name": "stdout",
     "output_type": "stream",
     "text": [
      "Loading Challenge model...\n",
      "Running model on Challenge data...\n"
     ]
    },
    {
     "name": "stderr",
     "output_type": "stream",
     "text": [
      "100%|█████████████████████████████████████████| 191/191 [06:03<00:00,  1.90s/it]\n"
     ]
    },
    {
     "name": "stdout",
     "output_type": "stream",
     "text": [
      "Done.\n",
      "threshold :  0.91\n",
      "#Murmur scores\n",
      "AUROC,AUPRC,F-measure,Accuracy,Weighted Accuracy,Cost\n",
      "0.782,0.635,0.533,0.806,0.792,16955.190\n",
      "\n",
      "#Outcome scores\n",
      "AUROC,AUPRC,F-measure,Accuracy,Weighted Accuracy,Cost\n",
      "0.658,0.660,0.632,0.634,0.585,14408.661\n",
      "\n",
      "#Murmur scores (per class)\n",
      "Classes,Present,Unknown,Absent\n",
      "AUROC,0.949,0.500,0.898\n",
      "AUPRC,0.874,0.073,0.958\n",
      "F-measure,0.722,0.000,0.878\n",
      "Accuracy,0.921,0.000,0.856\n",
      "\n",
      "#Outcome scores (per class)\n",
      "Classes,Abnormal,Normal\n",
      "AUROC,0.662,0.653\n",
      "AUPRC,0.726,0.594\n",
      "F-measure,0.611,0.653\n",
      "Accuracy,0.561,0.710\n",
      "Loading Challenge model...\n",
      "Running model on Challenge data...\n"
     ]
    },
    {
     "name": "stderr",
     "output_type": "stream",
     "text": [
      "100%|█████████████████████████████████████████| 191/191 [06:02<00:00,  1.90s/it]\n"
     ]
    },
    {
     "name": "stdout",
     "output_type": "stream",
     "text": [
      "Done.\n",
      "threshold :  0.92\n",
      "#Murmur scores\n",
      "AUROC,AUPRC,F-measure,Accuracy,Weighted Accuracy,Cost\n",
      "0.782,0.635,0.533,0.806,0.792,16955.190\n",
      "\n",
      "#Outcome scores\n",
      "AUROC,AUPRC,F-measure,Accuracy,Weighted Accuracy,Cost\n",
      "0.658,0.660,0.632,0.634,0.585,14408.661\n",
      "\n",
      "#Murmur scores (per class)\n",
      "Classes,Present,Unknown,Absent\n",
      "AUROC,0.949,0.500,0.898\n",
      "AUPRC,0.874,0.073,0.958\n",
      "F-measure,0.722,0.000,0.878\n",
      "Accuracy,0.921,0.000,0.856\n",
      "\n",
      "#Outcome scores (per class)\n",
      "Classes,Abnormal,Normal\n",
      "AUROC,0.662,0.653\n",
      "AUPRC,0.726,0.594\n",
      "F-measure,0.611,0.653\n",
      "Accuracy,0.561,0.710\n",
      "Loading Challenge model...\n",
      "Running model on Challenge data...\n"
     ]
    },
    {
     "name": "stderr",
     "output_type": "stream",
     "text": [
      "100%|█████████████████████████████████████████| 191/191 [06:00<00:00,  1.89s/it]\n"
     ]
    },
    {
     "name": "stdout",
     "output_type": "stream",
     "text": [
      "Done.\n",
      "threshold :  0.93\n",
      "#Murmur scores\n",
      "AUROC,AUPRC,F-measure,Accuracy,Weighted Accuracy,Cost\n",
      "0.782,0.635,0.541,0.817,0.798,16948.706\n",
      "\n",
      "#Outcome scores\n",
      "AUROC,AUPRC,F-measure,Accuracy,Weighted Accuracy,Cost\n",
      "0.658,0.660,0.632,0.634,0.585,14408.661\n",
      "\n",
      "#Murmur scores (per class)\n",
      "Classes,Present,Unknown,Absent\n",
      "AUROC,0.949,0.500,0.898\n",
      "AUPRC,0.874,0.073,0.958\n",
      "F-measure,0.737,0.000,0.886\n",
      "Accuracy,0.921,0.000,0.871\n",
      "\n",
      "#Outcome scores (per class)\n",
      "Classes,Abnormal,Normal\n",
      "AUROC,0.662,0.653\n",
      "AUPRC,0.726,0.594\n",
      "F-measure,0.611,0.653\n",
      "Accuracy,0.561,0.710\n",
      "Loading Challenge model...\n",
      "Running model on Challenge data...\n"
     ]
    },
    {
     "name": "stderr",
     "output_type": "stream",
     "text": [
      "100%|█████████████████████████████████████████| 191/191 [06:00<00:00,  1.89s/it]\n"
     ]
    },
    {
     "name": "stdout",
     "output_type": "stream",
     "text": [
      "Done.\n",
      "threshold :  0.94\n",
      "#Murmur scores\n",
      "AUROC,AUPRC,F-measure,Accuracy,Weighted Accuracy,Cost\n",
      "0.782,0.635,0.545,0.822,0.801,16945.825\n",
      "\n",
      "#Outcome scores\n",
      "AUROC,AUPRC,F-measure,Accuracy,Weighted Accuracy,Cost\n",
      "0.658,0.660,0.632,0.634,0.585,14408.661\n",
      "\n",
      "#Murmur scores (per class)\n",
      "Classes,Present,Unknown,Absent\n",
      "AUROC,0.949,0.500,0.898\n",
      "AUPRC,0.874,0.073,0.958\n",
      "F-measure,0.745,0.000,0.891\n",
      "Accuracy,0.921,0.000,0.878\n",
      "\n",
      "#Outcome scores (per class)\n",
      "Classes,Abnormal,Normal\n",
      "AUROC,0.662,0.653\n",
      "AUPRC,0.726,0.594\n",
      "F-measure,0.611,0.653\n",
      "Accuracy,0.561,0.710\n",
      "Loading Challenge model...\n",
      "Running model on Challenge data...\n"
     ]
    },
    {
     "name": "stderr",
     "output_type": "stream",
     "text": [
      "100%|█████████████████████████████████████████| 191/191 [05:59<00:00,  1.88s/it]\n"
     ]
    },
    {
     "name": "stdout",
     "output_type": "stream",
     "text": [
      "Done.\n",
      "threshold :  0.95\n",
      "#Murmur scores\n",
      "AUROC,AUPRC,F-measure,Accuracy,Weighted Accuracy,Cost\n",
      "0.782,0.635,0.543,0.822,0.790,17359.576\n",
      "\n",
      "#Outcome scores\n",
      "AUROC,AUPRC,F-measure,Accuracy,Weighted Accuracy,Cost\n",
      "0.658,0.660,0.632,0.634,0.585,14408.661\n",
      "\n",
      "#Murmur scores (per class)\n",
      "Classes,Present,Unknown,Absent\n",
      "AUROC,0.949,0.500,0.898\n",
      "AUPRC,0.874,0.073,0.958\n",
      "F-measure,0.739,0.000,0.891\n",
      "Accuracy,0.895,0.000,0.885\n",
      "\n",
      "#Outcome scores (per class)\n",
      "Classes,Abnormal,Normal\n",
      "AUROC,0.662,0.653\n",
      "AUPRC,0.726,0.594\n",
      "F-measure,0.611,0.653\n",
      "Accuracy,0.561,0.710\n",
      "Loading Challenge model...\n",
      "Running model on Challenge data...\n"
     ]
    },
    {
     "name": "stderr",
     "output_type": "stream",
     "text": [
      "100%|█████████████████████████████████████████| 191/191 [06:02<00:00,  1.90s/it]\n"
     ]
    },
    {
     "name": "stdout",
     "output_type": "stream",
     "text": [
      "Done.\n",
      "threshold :  0.96\n",
      "#Murmur scores\n",
      "AUROC,AUPRC,F-measure,Accuracy,Weighted Accuracy,Cost\n",
      "0.782,0.635,0.555,0.832,0.795,18189.426\n",
      "\n",
      "#Outcome scores\n",
      "AUROC,AUPRC,F-measure,Accuracy,Weighted Accuracy,Cost\n",
      "0.658,0.660,0.632,0.634,0.585,14408.661\n",
      "\n",
      "#Murmur scores (per class)\n",
      "Classes,Present,Unknown,Absent\n",
      "AUROC,0.949,0.500,0.898\n",
      "AUPRC,0.874,0.073,0.958\n",
      "F-measure,0.773,0.000,0.893\n",
      "Accuracy,0.895,0.000,0.899\n",
      "\n",
      "#Outcome scores (per class)\n",
      "Classes,Abnormal,Normal\n",
      "AUROC,0.662,0.653\n",
      "AUPRC,0.726,0.594\n",
      "F-measure,0.611,0.653\n",
      "Accuracy,0.561,0.710\n",
      "Loading Challenge model...\n",
      "Running model on Challenge data...\n"
     ]
    },
    {
     "name": "stderr",
     "output_type": "stream",
     "text": [
      "100%|█████████████████████████████████████████| 191/191 [06:00<00:00,  1.89s/it]\n"
     ]
    },
    {
     "name": "stdout",
     "output_type": "stream",
     "text": [
      "Done.\n",
      "threshold :  0.97\n",
      "#Murmur scores\n",
      "AUROC,AUPRC,F-measure,Accuracy,Weighted Accuracy,Cost\n",
      "0.782,0.635,0.561,0.838,0.798,18605.355\n",
      "\n",
      "#Outcome scores\n",
      "AUROC,AUPRC,F-measure,Accuracy,Weighted Accuracy,Cost\n",
      "0.658,0.660,0.632,0.634,0.585,14408.661\n",
      "\n",
      "#Murmur scores (per class)\n",
      "Classes,Present,Unknown,Absent\n",
      "AUROC,0.949,0.500,0.898\n",
      "AUPRC,0.874,0.073,0.958\n",
      "F-measure,0.791,0.000,0.894\n",
      "Accuracy,0.895,0.000,0.906\n",
      "\n",
      "#Outcome scores (per class)\n",
      "Classes,Abnormal,Normal\n",
      "AUROC,0.662,0.653\n",
      "AUPRC,0.726,0.594\n",
      "F-measure,0.611,0.653\n",
      "Accuracy,0.561,0.710\n",
      "Loading Challenge model...\n",
      "Running model on Challenge data...\n"
     ]
    },
    {
     "name": "stderr",
     "output_type": "stream",
     "text": [
      " 73%|█████████████████████████████▊           | 139/191 [04:19<01:41,  1.95s/it]"
     ]
    },
    {
     "name": "stdout",
     "output_type": "stream",
     "text": [
      "#Murmur scores\n",
      "AUROC,AUPRC,F-measure,Accuracy,Weighted Accuracy,Cost\n",
      "0.782,0.635,0.566,0.843,0.801,18604.111\n",
      "\n",
      "#Outcome scores\n",
      "AUROC,AUPRC,F-measure,Accuracy,Weighted Accuracy,Cost\n",
      "0.658,0.660,0.632,0.634,0.585,14408.661\n",
      "\n",
      "#Murmur scores (per class)\n",
      "Classes,Present,Unknown,Absent\n",
      "AUROC,0.949,0.500,0.898\n",
      "AUPRC,0.874,0.073,0.958\n",
      "F-measure,0.800,0.000,0.898\n",
      "Accuracy,0.895,0.000,0.914\n",
      "\n",
      "#Outcome scores (per class)\n",
      "Classes,Abnormal,Normal\n",
      "AUROC,0.662,0.653\n",
      "AUPRC,0.726,0.594\n",
      "F-measure,0.611,0.653\n",
      "Accuracy,0.561,0.710\n",
      "Loading Challenge model...\n",
      "Running model on Challenge data...\n"
     ]
    },
    {
     "name": "stderr",
     "output_type": "stream",
     "text": [
      "100%|█████████████████████████████████████████| 191/191 [06:02<00:00,  1.90s/it]\n"
     ]
    },
    {
     "name": "stdout",
     "output_type": "stream",
     "text": [
      "Done.\n",
      "threshold :  0.99\n",
      "#Murmur scores\n",
      "AUROC,AUPRC,F-measure,Accuracy,Weighted Accuracy,Cost\n",
      "0.782,0.635,0.570,0.848,0.803,18812.423\n",
      "\n",
      "#Outcome scores\n",
      "AUROC,AUPRC,F-measure,Accuracy,Weighted Accuracy,Cost\n",
      "0.658,0.660,0.632,0.634,0.585,14408.661\n",
      "\n",
      "#Murmur scores (per class)\n",
      "Classes,Present,Unknown,Absent\n",
      "AUROC,0.949,0.500,0.898\n",
      "AUPRC,0.874,0.073,0.958\n",
      "F-measure,0.810,0.000,0.901\n",
      "Accuracy,0.895,0.000,0.921\n",
      "\n",
      "#Outcome scores (per class)\n",
      "Classes,Abnormal,Normal\n",
      "AUROC,0.662,0.653\n",
      "AUPRC,0.726,0.594\n",
      "F-measure,0.611,0.653\n",
      "Accuracy,0.561,0.710\n"
     ]
    }
   ],
   "source": [
    "import time\n",
    "a = list(range(91,100,1))\n",
    "for t in a :\n",
    "    run_models(model_folder, dev_folder, output_folder, allow_failures, verbose,thres = t/100)\n",
    "    time.sleep(2)\n",
    "    print('threshold : ',t/100)\n",
    "    !python evaluate_model.py /Data1/physionet/data_split/murmur/test w2v2_output scores_w2v2.csv\n",
    "    !cat scores_w2v2.csv"
   ]
  },
  {
   "cell_type": "code",
   "execution_count": null,
   "id": "44388284",
   "metadata": {},
   "outputs": [],
   "source": []
  }
 ],
 "metadata": {
  "kernelspec": {
   "display_name": "Python 3 (ipykernel)",
   "language": "python",
   "name": "python3"
  },
  "language_info": {
   "codemirror_mode": {
    "name": "ipython",
    "version": 3
   },
   "file_extension": ".py",
   "mimetype": "text/x-python",
   "name": "python",
   "nbconvert_exporter": "python",
   "pygments_lexer": "ipython3",
   "version": "3.8.8"
  }
 },
 "nbformat": 4,
 "nbformat_minor": 5
}
