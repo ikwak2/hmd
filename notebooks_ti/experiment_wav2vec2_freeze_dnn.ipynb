{
 "cells": [
  {
   "cell_type": "code",
   "execution_count": 1,
   "id": "f50df52d",
   "metadata": {},
   "outputs": [
    {
     "name": "stderr",
     "output_type": "stream",
     "text": [
      "Some weights of Wav2Vec2ForCTC were not initialized from the model checkpoint at facebook/wav2vec2-base-960h and are newly initialized: ['wav2vec2.masked_spec_embed']\n",
      "You should probably TRAIN this model on a down-stream task to be able to use it for predictions and inference.\n"
     ]
    }
   ],
   "source": [
    "from jiwer import wer\n",
    "from transformers import Wav2Vec2Processor, Wav2Vec2ForCTC\n",
    "from datasets import load_dataset\n",
    "import torch\n",
    "\n",
    "# load model and tokenizer\n",
    "\n",
    "processor = Wav2Vec2Processor.from_pretrained(\"facebook/wav2vec2-base-960h\")\n",
    "model = Wav2Vec2ForCTC.from_pretrained(\"facebook/wav2vec2-base-960h\")"
   ]
  },
  {
   "cell_type": "code",
   "execution_count": 2,
   "id": "b239ce96",
   "metadata": {},
   "outputs": [],
   "source": [
    "import torch\n",
    "import torch.nn as nn\n",
    "model.lm_head = nn.Linear(768,1)"
   ]
  },
  {
   "cell_type": "code",
   "execution_count": 4,
   "id": "a69655b8",
   "metadata": {},
   "outputs": [],
   "source": [
    "model.lm_head = nn.Sequential(\n",
    "                nn.Flatten(),\n",
    "                nn.Linear(249*768,128),\n",
    "                nn.ReLU(),\n",
    "                nn.Linear(128,1024),\n",
    "                nn.ReLU(),\n",
    "                nn.Linear(1024,1),\n",
    "                nn.Sigmoid()\n",
    ")"
   ]
  },
  {
   "cell_type": "code",
   "execution_count": 4,
   "id": "7e598fc0",
   "metadata": {},
   "outputs": [
    {
     "data": {
      "text/plain": [
       "Wav2Vec2ForCTC(\n",
       "  (wav2vec2): Wav2Vec2Model(\n",
       "    (feature_extractor): Wav2Vec2FeatureExtractor(\n",
       "      (conv_layers): ModuleList(\n",
       "        (0): Wav2Vec2GroupNormConvLayer(\n",
       "          (conv): Conv1d(1, 512, kernel_size=(10,), stride=(5,), bias=False)\n",
       "          (layer_norm): GroupNorm(512, 512, eps=1e-05, affine=True)\n",
       "        )\n",
       "        (1): Wav2Vec2NoLayerNormConvLayer(\n",
       "          (conv): Conv1d(512, 512, kernel_size=(3,), stride=(2,), bias=False)\n",
       "        )\n",
       "        (2): Wav2Vec2NoLayerNormConvLayer(\n",
       "          (conv): Conv1d(512, 512, kernel_size=(3,), stride=(2,), bias=False)\n",
       "        )\n",
       "        (3): Wav2Vec2NoLayerNormConvLayer(\n",
       "          (conv): Conv1d(512, 512, kernel_size=(3,), stride=(2,), bias=False)\n",
       "        )\n",
       "        (4): Wav2Vec2NoLayerNormConvLayer(\n",
       "          (conv): Conv1d(512, 512, kernel_size=(3,), stride=(2,), bias=False)\n",
       "        )\n",
       "        (5): Wav2Vec2NoLayerNormConvLayer(\n",
       "          (conv): Conv1d(512, 512, kernel_size=(2,), stride=(2,), bias=False)\n",
       "        )\n",
       "        (6): Wav2Vec2NoLayerNormConvLayer(\n",
       "          (conv): Conv1d(512, 512, kernel_size=(2,), stride=(2,), bias=False)\n",
       "        )\n",
       "      )\n",
       "    )\n",
       "    (feature_projection): Wav2Vec2FeatureProjection(\n",
       "      (layer_norm): LayerNorm((512,), eps=1e-05, elementwise_affine=True)\n",
       "      (projection): Linear(in_features=512, out_features=768, bias=True)\n",
       "      (dropout): Dropout(p=0.1, inplace=False)\n",
       "    )\n",
       "    (encoder): Wav2Vec2Encoder(\n",
       "      (pos_conv_embed): Wav2Vec2PositionalConvEmbedding(\n",
       "        (conv): Conv1d(768, 768, kernel_size=(128,), stride=(1,), padding=(64,), groups=16)\n",
       "        (padding): Wav2Vec2SamePadLayer()\n",
       "      )\n",
       "      (layer_norm): LayerNorm((768,), eps=1e-05, elementwise_affine=True)\n",
       "      (dropout): Dropout(p=0.1, inplace=False)\n",
       "      (layers): ModuleList(\n",
       "        (0): Wav2Vec2EncoderLayer(\n",
       "          (attention): Wav2Vec2Attention(\n",
       "            (k_proj): Linear(in_features=768, out_features=768, bias=True)\n",
       "            (v_proj): Linear(in_features=768, out_features=768, bias=True)\n",
       "            (q_proj): Linear(in_features=768, out_features=768, bias=True)\n",
       "            (out_proj): Linear(in_features=768, out_features=768, bias=True)\n",
       "          )\n",
       "          (dropout): Dropout(p=0.1, inplace=False)\n",
       "          (layer_norm): LayerNorm((768,), eps=1e-05, elementwise_affine=True)\n",
       "          (feed_forward): Wav2Vec2FeedForward(\n",
       "            (intermediate_dropout): Dropout(p=0.1, inplace=False)\n",
       "            (intermediate_dense): Linear(in_features=768, out_features=3072, bias=True)\n",
       "            (output_dense): Linear(in_features=3072, out_features=768, bias=True)\n",
       "            (output_dropout): Dropout(p=0.1, inplace=False)\n",
       "          )\n",
       "          (final_layer_norm): LayerNorm((768,), eps=1e-05, elementwise_affine=True)\n",
       "        )\n",
       "        (1): Wav2Vec2EncoderLayer(\n",
       "          (attention): Wav2Vec2Attention(\n",
       "            (k_proj): Linear(in_features=768, out_features=768, bias=True)\n",
       "            (v_proj): Linear(in_features=768, out_features=768, bias=True)\n",
       "            (q_proj): Linear(in_features=768, out_features=768, bias=True)\n",
       "            (out_proj): Linear(in_features=768, out_features=768, bias=True)\n",
       "          )\n",
       "          (dropout): Dropout(p=0.1, inplace=False)\n",
       "          (layer_norm): LayerNorm((768,), eps=1e-05, elementwise_affine=True)\n",
       "          (feed_forward): Wav2Vec2FeedForward(\n",
       "            (intermediate_dropout): Dropout(p=0.1, inplace=False)\n",
       "            (intermediate_dense): Linear(in_features=768, out_features=3072, bias=True)\n",
       "            (output_dense): Linear(in_features=3072, out_features=768, bias=True)\n",
       "            (output_dropout): Dropout(p=0.1, inplace=False)\n",
       "          )\n",
       "          (final_layer_norm): LayerNorm((768,), eps=1e-05, elementwise_affine=True)\n",
       "        )\n",
       "        (2): Wav2Vec2EncoderLayer(\n",
       "          (attention): Wav2Vec2Attention(\n",
       "            (k_proj): Linear(in_features=768, out_features=768, bias=True)\n",
       "            (v_proj): Linear(in_features=768, out_features=768, bias=True)\n",
       "            (q_proj): Linear(in_features=768, out_features=768, bias=True)\n",
       "            (out_proj): Linear(in_features=768, out_features=768, bias=True)\n",
       "          )\n",
       "          (dropout): Dropout(p=0.1, inplace=False)\n",
       "          (layer_norm): LayerNorm((768,), eps=1e-05, elementwise_affine=True)\n",
       "          (feed_forward): Wav2Vec2FeedForward(\n",
       "            (intermediate_dropout): Dropout(p=0.1, inplace=False)\n",
       "            (intermediate_dense): Linear(in_features=768, out_features=3072, bias=True)\n",
       "            (output_dense): Linear(in_features=3072, out_features=768, bias=True)\n",
       "            (output_dropout): Dropout(p=0.1, inplace=False)\n",
       "          )\n",
       "          (final_layer_norm): LayerNorm((768,), eps=1e-05, elementwise_affine=True)\n",
       "        )\n",
       "        (3): Wav2Vec2EncoderLayer(\n",
       "          (attention): Wav2Vec2Attention(\n",
       "            (k_proj): Linear(in_features=768, out_features=768, bias=True)\n",
       "            (v_proj): Linear(in_features=768, out_features=768, bias=True)\n",
       "            (q_proj): Linear(in_features=768, out_features=768, bias=True)\n",
       "            (out_proj): Linear(in_features=768, out_features=768, bias=True)\n",
       "          )\n",
       "          (dropout): Dropout(p=0.1, inplace=False)\n",
       "          (layer_norm): LayerNorm((768,), eps=1e-05, elementwise_affine=True)\n",
       "          (feed_forward): Wav2Vec2FeedForward(\n",
       "            (intermediate_dropout): Dropout(p=0.1, inplace=False)\n",
       "            (intermediate_dense): Linear(in_features=768, out_features=3072, bias=True)\n",
       "            (output_dense): Linear(in_features=3072, out_features=768, bias=True)\n",
       "            (output_dropout): Dropout(p=0.1, inplace=False)\n",
       "          )\n",
       "          (final_layer_norm): LayerNorm((768,), eps=1e-05, elementwise_affine=True)\n",
       "        )\n",
       "        (4): Wav2Vec2EncoderLayer(\n",
       "          (attention): Wav2Vec2Attention(\n",
       "            (k_proj): Linear(in_features=768, out_features=768, bias=True)\n",
       "            (v_proj): Linear(in_features=768, out_features=768, bias=True)\n",
       "            (q_proj): Linear(in_features=768, out_features=768, bias=True)\n",
       "            (out_proj): Linear(in_features=768, out_features=768, bias=True)\n",
       "          )\n",
       "          (dropout): Dropout(p=0.1, inplace=False)\n",
       "          (layer_norm): LayerNorm((768,), eps=1e-05, elementwise_affine=True)\n",
       "          (feed_forward): Wav2Vec2FeedForward(\n",
       "            (intermediate_dropout): Dropout(p=0.1, inplace=False)\n",
       "            (intermediate_dense): Linear(in_features=768, out_features=3072, bias=True)\n",
       "            (output_dense): Linear(in_features=3072, out_features=768, bias=True)\n",
       "            (output_dropout): Dropout(p=0.1, inplace=False)\n",
       "          )\n",
       "          (final_layer_norm): LayerNorm((768,), eps=1e-05, elementwise_affine=True)\n",
       "        )\n",
       "        (5): Wav2Vec2EncoderLayer(\n",
       "          (attention): Wav2Vec2Attention(\n",
       "            (k_proj): Linear(in_features=768, out_features=768, bias=True)\n",
       "            (v_proj): Linear(in_features=768, out_features=768, bias=True)\n",
       "            (q_proj): Linear(in_features=768, out_features=768, bias=True)\n",
       "            (out_proj): Linear(in_features=768, out_features=768, bias=True)\n",
       "          )\n",
       "          (dropout): Dropout(p=0.1, inplace=False)\n",
       "          (layer_norm): LayerNorm((768,), eps=1e-05, elementwise_affine=True)\n",
       "          (feed_forward): Wav2Vec2FeedForward(\n",
       "            (intermediate_dropout): Dropout(p=0.1, inplace=False)\n",
       "            (intermediate_dense): Linear(in_features=768, out_features=3072, bias=True)\n",
       "            (output_dense): Linear(in_features=3072, out_features=768, bias=True)\n",
       "            (output_dropout): Dropout(p=0.1, inplace=False)\n",
       "          )\n",
       "          (final_layer_norm): LayerNorm((768,), eps=1e-05, elementwise_affine=True)\n",
       "        )\n",
       "        (6): Wav2Vec2EncoderLayer(\n",
       "          (attention): Wav2Vec2Attention(\n",
       "            (k_proj): Linear(in_features=768, out_features=768, bias=True)\n",
       "            (v_proj): Linear(in_features=768, out_features=768, bias=True)\n",
       "            (q_proj): Linear(in_features=768, out_features=768, bias=True)\n",
       "            (out_proj): Linear(in_features=768, out_features=768, bias=True)\n",
       "          )\n",
       "          (dropout): Dropout(p=0.1, inplace=False)\n",
       "          (layer_norm): LayerNorm((768,), eps=1e-05, elementwise_affine=True)\n",
       "          (feed_forward): Wav2Vec2FeedForward(\n",
       "            (intermediate_dropout): Dropout(p=0.1, inplace=False)\n",
       "            (intermediate_dense): Linear(in_features=768, out_features=3072, bias=True)\n",
       "            (output_dense): Linear(in_features=3072, out_features=768, bias=True)\n",
       "            (output_dropout): Dropout(p=0.1, inplace=False)\n",
       "          )\n",
       "          (final_layer_norm): LayerNorm((768,), eps=1e-05, elementwise_affine=True)\n",
       "        )\n",
       "        (7): Wav2Vec2EncoderLayer(\n",
       "          (attention): Wav2Vec2Attention(\n",
       "            (k_proj): Linear(in_features=768, out_features=768, bias=True)\n",
       "            (v_proj): Linear(in_features=768, out_features=768, bias=True)\n",
       "            (q_proj): Linear(in_features=768, out_features=768, bias=True)\n",
       "            (out_proj): Linear(in_features=768, out_features=768, bias=True)\n",
       "          )\n",
       "          (dropout): Dropout(p=0.1, inplace=False)\n",
       "          (layer_norm): LayerNorm((768,), eps=1e-05, elementwise_affine=True)\n",
       "          (feed_forward): Wav2Vec2FeedForward(\n",
       "            (intermediate_dropout): Dropout(p=0.1, inplace=False)\n",
       "            (intermediate_dense): Linear(in_features=768, out_features=3072, bias=True)\n",
       "            (output_dense): Linear(in_features=3072, out_features=768, bias=True)\n",
       "            (output_dropout): Dropout(p=0.1, inplace=False)\n",
       "          )\n",
       "          (final_layer_norm): LayerNorm((768,), eps=1e-05, elementwise_affine=True)\n",
       "        )\n",
       "        (8): Wav2Vec2EncoderLayer(\n",
       "          (attention): Wav2Vec2Attention(\n",
       "            (k_proj): Linear(in_features=768, out_features=768, bias=True)\n",
       "            (v_proj): Linear(in_features=768, out_features=768, bias=True)\n",
       "            (q_proj): Linear(in_features=768, out_features=768, bias=True)\n",
       "            (out_proj): Linear(in_features=768, out_features=768, bias=True)\n",
       "          )\n",
       "          (dropout): Dropout(p=0.1, inplace=False)\n",
       "          (layer_norm): LayerNorm((768,), eps=1e-05, elementwise_affine=True)\n",
       "          (feed_forward): Wav2Vec2FeedForward(\n",
       "            (intermediate_dropout): Dropout(p=0.1, inplace=False)\n",
       "            (intermediate_dense): Linear(in_features=768, out_features=3072, bias=True)\n",
       "            (output_dense): Linear(in_features=3072, out_features=768, bias=True)\n",
       "            (output_dropout): Dropout(p=0.1, inplace=False)\n",
       "          )\n",
       "          (final_layer_norm): LayerNorm((768,), eps=1e-05, elementwise_affine=True)\n",
       "        )\n",
       "        (9): Wav2Vec2EncoderLayer(\n",
       "          (attention): Wav2Vec2Attention(\n",
       "            (k_proj): Linear(in_features=768, out_features=768, bias=True)\n",
       "            (v_proj): Linear(in_features=768, out_features=768, bias=True)\n",
       "            (q_proj): Linear(in_features=768, out_features=768, bias=True)\n",
       "            (out_proj): Linear(in_features=768, out_features=768, bias=True)\n",
       "          )\n",
       "          (dropout): Dropout(p=0.1, inplace=False)\n",
       "          (layer_norm): LayerNorm((768,), eps=1e-05, elementwise_affine=True)\n",
       "          (feed_forward): Wav2Vec2FeedForward(\n",
       "            (intermediate_dropout): Dropout(p=0.1, inplace=False)\n",
       "            (intermediate_dense): Linear(in_features=768, out_features=3072, bias=True)\n",
       "            (output_dense): Linear(in_features=3072, out_features=768, bias=True)\n",
       "            (output_dropout): Dropout(p=0.1, inplace=False)\n",
       "          )\n",
       "          (final_layer_norm): LayerNorm((768,), eps=1e-05, elementwise_affine=True)\n",
       "        )\n",
       "        (10): Wav2Vec2EncoderLayer(\n",
       "          (attention): Wav2Vec2Attention(\n",
       "            (k_proj): Linear(in_features=768, out_features=768, bias=True)\n",
       "            (v_proj): Linear(in_features=768, out_features=768, bias=True)\n",
       "            (q_proj): Linear(in_features=768, out_features=768, bias=True)\n",
       "            (out_proj): Linear(in_features=768, out_features=768, bias=True)\n",
       "          )\n",
       "          (dropout): Dropout(p=0.1, inplace=False)\n",
       "          (layer_norm): LayerNorm((768,), eps=1e-05, elementwise_affine=True)\n",
       "          (feed_forward): Wav2Vec2FeedForward(\n",
       "            (intermediate_dropout): Dropout(p=0.1, inplace=False)\n",
       "            (intermediate_dense): Linear(in_features=768, out_features=3072, bias=True)\n",
       "            (output_dense): Linear(in_features=3072, out_features=768, bias=True)\n",
       "            (output_dropout): Dropout(p=0.1, inplace=False)\n",
       "          )\n",
       "          (final_layer_norm): LayerNorm((768,), eps=1e-05, elementwise_affine=True)\n",
       "        )\n",
       "        (11): Wav2Vec2EncoderLayer(\n",
       "          (attention): Wav2Vec2Attention(\n",
       "            (k_proj): Linear(in_features=768, out_features=768, bias=True)\n",
       "            (v_proj): Linear(in_features=768, out_features=768, bias=True)\n",
       "            (q_proj): Linear(in_features=768, out_features=768, bias=True)\n",
       "            (out_proj): Linear(in_features=768, out_features=768, bias=True)\n",
       "          )\n",
       "          (dropout): Dropout(p=0.1, inplace=False)\n",
       "          (layer_norm): LayerNorm((768,), eps=1e-05, elementwise_affine=True)\n",
       "          (feed_forward): Wav2Vec2FeedForward(\n",
       "            (intermediate_dropout): Dropout(p=0.1, inplace=False)\n",
       "            (intermediate_dense): Linear(in_features=768, out_features=3072, bias=True)\n",
       "            (output_dense): Linear(in_features=3072, out_features=768, bias=True)\n",
       "            (output_dropout): Dropout(p=0.1, inplace=False)\n",
       "          )\n",
       "          (final_layer_norm): LayerNorm((768,), eps=1e-05, elementwise_affine=True)\n",
       "        )\n",
       "      )\n",
       "    )\n",
       "  )\n",
       "  (dropout): Dropout(p=0.1, inplace=False)\n",
       "  (lm_head): Sequential(\n",
       "    (0): Flatten(start_dim=1, end_dim=-1)\n",
       "    (1): Linear(in_features=191232, out_features=1, bias=True)\n",
       "    (2): Sigmoid()\n",
       "  )\n",
       ")"
      ]
     },
     "execution_count": 4,
     "metadata": {},
     "output_type": "execute_result"
    }
   ],
   "source": [
    "model"
   ]
  },
  {
   "cell_type": "code",
   "execution_count": 7,
   "id": "8c4e309a",
   "metadata": {},
   "outputs": [
    {
     "data": {
      "text/plain": [
       "Linear(in_features=128, out_features=1024, bias=True)"
      ]
     },
     "execution_count": 7,
     "metadata": {},
     "output_type": "execute_result"
    }
   ],
   "source": [
    "model.lm_head[3]"
   ]
  },
  {
   "cell_type": "code",
   "execution_count": 8,
   "id": "56daac43",
   "metadata": {},
   "outputs": [],
   "source": [
    "def freeze(model):\n",
    "    for para in model.parameters():\n",
    "       # print(para)\n",
    "        para.requires_grad = False\n",
    "    model.lm_head[1].weight.requires_grad = True\n",
    "    model.lm_head[3].weight.requires_grad = True\n",
    "    model.lm_head[5].weight.requires_grad = True\n",
    "\n",
    "    return model"
   ]
  },
  {
   "cell_type": "code",
   "execution_count": 9,
   "id": "dec2ffd2",
   "metadata": {},
   "outputs": [],
   "source": [
    "model = freeze(model)\n"
   ]
  },
  {
   "cell_type": "code",
   "execution_count": 10,
   "id": "99835470",
   "metadata": {},
   "outputs": [],
   "source": [
    "import numpy as np\n",
    "import librosa\n",
    "from helper_code import *\n",
    "from tqdm import tqdm\n",
    "import pywt\n",
    "from sklearn.preprocessing import MinMaxScaler\n",
    "import pickle as pk\n",
    "import glob\n",
    "import os\n",
    "import time\n",
    "import torch\n",
    "import numpy as np\n",
    "import torch.optim as optim\n",
    "import torch.nn as nn\n",
    "import sys\n",
    "import random\n",
    "from tqdm import tqdm\n",
    "from tools.utils import  get_class_distribution,get_class_distribution2,get_logger,  murmur_score,compute_weighted_accuracy\n",
    "sys.path.append(\"..\")\n",
    "from reader.data_reader_physionet import myDataLoader, myDataset\n",
    "import gc\n",
    "#from torch.utils.tensorboard import SummaryWriter\n",
    "from helper_code import *\n",
    "import numpy as np, scipy as sp, scipy.stats, os, sys, joblib\n",
    "from sklearn.impute import SimpleImputer\n",
    "#from sklearn.ensemble import RandomForestClassifier\n",
    "from models import *\n",
    "from get_feature import feature_extract_raw, get_feature_one, feature_extract_wavelet_raw\n",
    "import pickle as pk\n",
    "from sklearn.metrics import f1_score\n",
    "import numpy as np, os, sys\n",
    "from helper_code import *\n",
    "from team_code import load_challenge_model, save_challenge_model\n",
    "from tqdm import tqdm"
   ]
  },
  {
   "cell_type": "code",
   "execution_count": 11,
   "id": "a8a6f220",
   "metadata": {},
   "outputs": [],
   "source": [
    "gc.collect()\n",
    "torch.cuda.empty_cache()\n",
    "GPU_NUM = 3 # 원하는 GPU 번호 입력\n",
    "device = torch.device(f'cuda:{GPU_NUM}' if torch.cuda.is_available() else 'cpu')\n",
    "torch.cuda.set_device(device)"
   ]
  },
  {
   "cell_type": "code",
   "execution_count": 12,
   "id": "3f299938",
   "metadata": {},
   "outputs": [],
   "source": [
    "data_folder = '/Data1/physionet/data_split/murmur/train'\n",
    "dev_folder = '/Data1/physionet/data_split/murmur/test'\n",
    "verbose = 1"
   ]
  },
  {
   "cell_type": "code",
   "execution_count": 13,
   "id": "4f2f4175",
   "metadata": {},
   "outputs": [],
   "source": [
    "def get_features(data_folder, patient_files_trn, raw = True,rand = False) :\n",
    "    features = dict()\n",
    "\n",
    "    features['pw_raw'] = []\n",
    "    features['raw'] = []\n",
    "    features['mel1'] = []\n",
    "    murmurs = np.empty((0,2))#3))\n",
    "    labels = {}\n",
    "    \n",
    "    murmur_classes = ['Present', 'Absent'] # ,'Unknown'\n",
    "    num_murmur_classes = len(murmur_classes)\n",
    "\n",
    "    recording_locations = ['AV', 'MV', 'PV', 'TV', 'PhC']\n",
    "\n",
    "    num_patient_files = len(patient_files_trn)\n",
    "\n",
    "    for i in tqdm(range(num_patient_files)):\n",
    "\n",
    "        # Load the current patient data and recordings.\n",
    "        current_patient_data = load_patient_data(patient_files_trn[i])\n",
    "        num_locations = get_num_locations(current_patient_data)\n",
    "        recording_information = current_patient_data.split('\\n')[1:num_locations+1]\n",
    "        if get_murmur(current_patient_data) != 'Present' :\n",
    "            murmur_location_information = 'nan'\n",
    "        else :\n",
    "            murmur_location_information = current_patient_data.split('\\n')[-15].split()[2].split('+')\n",
    "        \n",
    "        for j in range(num_locations) :\n",
    "            entries = recording_information[j].split(' ')\n",
    "            recording_file = entries[2]\n",
    "            filename = os.path.join(data_folder, recording_file)\n",
    "            filename_location = recording_file.split('_')[1].split('.')[0]\n",
    "            \n",
    "            if raw :\n",
    "                raw1, n_samp = feature_extract_raw(filename,samp_sec=20)\n",
    "#                raw2, n_samp = feature_extract_wavelet_raw(filename,samp_sec=20)\n",
    "                features['raw'].extend(raw1)\n",
    "#                features['pw_raw'].extend(raw2)\n",
    "            # Extract melspec\n",
    "            else :\n",
    "                mel1 = feature_extract_raw_melspec(filename,rand)  # np > shape (n_samp,n_mels,time)(n,64,201)\n",
    "                \n",
    "                \n",
    "                n_samp = len(mel1)\n",
    "                features['mel1'].extend(mel1)\n",
    "\n",
    "\n",
    "            # Extract labels and use one-hot encoding.\n",
    "            \n",
    "            # 클래스 일단 3개지만 학습 데이터에선 loc 아니면 absent로 봄\n",
    "            \n",
    "            current_murmur = np.zeros((1,num_murmur_classes), dtype=int)  \n",
    "#            if (filename_location in murmur_location_information)  :\n",
    "#                murmur = get_murmur(current_patient_data)\n",
    "#            else :\n",
    "#                murmur = 'Absent'\n",
    "            murmur = get_murmur(current_patient_data)\n",
    "            if murmur in murmur_classes:\n",
    "                j = murmur_classes.index(murmur)\n",
    "                current_murmur[0][j] = 1\n",
    "            elif murmur == 'Unknown' :\n",
    "                current_murmur[0][0] = 0\n",
    "                current_murmur[0][1] = 1\n",
    "            current_murmur = np.repeat(current_murmur,n_samp,0)\n",
    "            murmurs = np.concatenate((murmurs,current_murmur),axis=0)\n",
    "            \n",
    "    \n",
    "    labels['murmur'] = murmurs\n",
    "    labels['outcome'] = []\n",
    "#    features['pw_raw'] = np.array(features['pw_raw'])\n",
    "    features['raw'] = np.array(features['raw'])\n",
    "    \n",
    "    \n",
    "    return features, labels"
   ]
  },
  {
   "cell_type": "code",
   "execution_count": 14,
   "id": "ed0a8aa4",
   "metadata": {},
   "outputs": [
    {
     "name": "stdout",
     "output_type": "stream",
     "text": [
      "0\n"
     ]
    }
   ],
   "source": [
    "a = [1,0]\n",
    "b = [0.5,0.5]\n",
    "print(b.index(0.5))"
   ]
  },
  {
   "cell_type": "markdown",
   "id": "5200b460",
   "metadata": {},
   "source": [
    "# wav2vec2"
   ]
  },
  {
   "cell_type": "code",
   "execution_count": 15,
   "id": "bf719905",
   "metadata": {},
   "outputs": [
    {
     "name": "stdout",
     "output_type": "stream",
     "text": [
      "Extracting features and labels from the Challenge data...\n"
     ]
    },
    {
     "name": "stderr",
     "output_type": "stream",
     "text": [
      "100%|████████████████████████████████████████| 751/751 [00:01<00:00, 381.68it/s]\n",
      "100%|████████████████████████████████████████| 191/191 [00:00<00:00, 461.25it/s]\n"
     ]
    }
   ],
   "source": [
    "# Find the patient data files.\n",
    "patient_files = find_patient_files(data_folder)\n",
    "dev_patient_files = find_patient_files(dev_folder)\n",
    "\n",
    "num_patient_files = len(patient_files)\n",
    "dev_num_patient_files = len(dev_patient_files)\n",
    "\n",
    "if num_patient_files==0:\n",
    "    raise Exception('No data was provided.')\n",
    "\n",
    "\n",
    "murmur_classes = ['Present', 'Absent'] # ,'Unknown'\n",
    "num_murmur_classes = len(murmur_classes)\n",
    "\n",
    "\n",
    "# Extract the features and labels.\n",
    "if verbose >= 1:\n",
    "    print('Extracting features and labels from the Challenge data...')\n",
    "\n",
    "features, labels = get_features(data_folder, patient_files)\n",
    "features_dev, labels_dev = get_features(dev_folder, dev_patient_files)"
   ]
  },
  {
   "cell_type": "code",
   "execution_count": 16,
   "id": "ef510baf",
   "metadata": {},
   "outputs": [
    {
     "data": {
      "text/plain": [
       "2545"
      ]
     },
     "execution_count": 16,
     "metadata": {},
     "output_type": "execute_result"
    }
   ],
   "source": [
    "features['raw'].shape[0]"
   ]
  },
  {
   "cell_type": "code",
   "execution_count": 17,
   "id": "766fe5f0",
   "metadata": {},
   "outputs": [
    {
     "data": {
      "text/plain": [
       "(2545, 2)"
      ]
     },
     "execution_count": 17,
     "metadata": {},
     "output_type": "execute_result"
    }
   ],
   "source": [
    "labels['murmur'].shape"
   ]
  },
  {
   "cell_type": "code",
   "execution_count": 15,
   "id": "838ac39e",
   "metadata": {},
   "outputs": [],
   "source": [
    "#torch.cuda.empty_cache()"
   ]
  },
  {
   "cell_type": "code",
   "execution_count": 18,
   "id": "f7fe217a",
   "metadata": {
    "scrolled": true
   },
   "outputs": [
    {
     "name": "stdout",
     "output_type": "stream",
     "text": [
      "- 2545 training samples\n",
      "- 80 training batches\n",
      "- 639 testing samples\n",
      "- 20 testing batches\n",
      "Training model...\n"
     ]
    },
    {
     "name": "stderr",
     "output_type": "stream",
     "text": [
      "100%|███████████████████████████████████████████| 80/80 [00:21<00:00,  3.70it/s]"
     ]
    },
    {
     "name": "stdout",
     "output_type": "stream",
     "text": [
      "08-05 09:22 [MainProcess, 92285] [INFO ]  Iteration:0, loss = 0.478289, mur_f1 = 0.900, mur_score = 0.000\n"
     ]
    },
    {
     "name": "stderr",
     "output_type": "stream",
     "text": [
      "\n",
      "100%|███████████████████████████████████████████| 20/20 [00:05<00:00,  3.85it/s]"
     ]
    },
    {
     "name": "stdout",
     "output_type": "stream",
     "text": [
      "08-05 09:22 [MainProcess, 92285] [INFO ]  Iteration:0, valid_loss = 0.466179, valid_mur_f1 = 0.898, valid_mur_score = 0.000\n"
     ]
    },
    {
     "name": "stderr",
     "output_type": "stream",
     "text": [
      "\n",
      "100%|███████████████████████████████████████████| 80/80 [00:21<00:00,  3.81it/s]"
     ]
    },
    {
     "name": "stdout",
     "output_type": "stream",
     "text": [
      "08-05 09:22 [MainProcess, 92285] [INFO ]  Iteration:1, loss = 0.437933, mur_f1 = 0.906, mur_score = 0.000\n"
     ]
    },
    {
     "name": "stderr",
     "output_type": "stream",
     "text": [
      "\n",
      "100%|███████████████████████████████████████████| 20/20 [00:05<00:00,  3.60it/s]"
     ]
    },
    {
     "name": "stdout",
     "output_type": "stream",
     "text": [
      "08-05 09:22 [MainProcess, 92285] [INFO ]  Iteration:1, valid_loss = 0.486750, valid_mur_f1 = 0.890, valid_mur_score = 0.000\n"
     ]
    },
    {
     "name": "stderr",
     "output_type": "stream",
     "text": [
      "\n",
      "100%|███████████████████████████████████████████| 80/80 [00:21<00:00,  3.80it/s]"
     ]
    },
    {
     "name": "stdout",
     "output_type": "stream",
     "text": [
      "08-05 09:23 [MainProcess, 92285] [INFO ]  Iteration:2, loss = 0.424430, mur_f1 = 0.913, mur_score = 0.000\n"
     ]
    },
    {
     "name": "stderr",
     "output_type": "stream",
     "text": [
      "\n",
      "100%|███████████████████████████████████████████| 20/20 [00:05<00:00,  3.82it/s]"
     ]
    },
    {
     "name": "stdout",
     "output_type": "stream",
     "text": [
      "08-05 09:23 [MainProcess, 92285] [INFO ]  Iteration:2, valid_loss = 0.464516, valid_mur_f1 = 0.902, valid_mur_score = 0.000\n"
     ]
    },
    {
     "name": "stderr",
     "output_type": "stream",
     "text": [
      "\n",
      "100%|███████████████████████████████████████████| 80/80 [00:21<00:00,  3.77it/s]"
     ]
    },
    {
     "name": "stdout",
     "output_type": "stream",
     "text": [
      "08-05 09:23 [MainProcess, 92285] [INFO ]  Iteration:3, loss = 0.393303, mur_f1 = 0.917, mur_score = 0.000\n"
     ]
    },
    {
     "name": "stderr",
     "output_type": "stream",
     "text": [
      "\n",
      "100%|███████████████████████████████████████████| 20/20 [00:05<00:00,  3.87it/s]"
     ]
    },
    {
     "name": "stdout",
     "output_type": "stream",
     "text": [
      "08-05 09:23 [MainProcess, 92285] [INFO ]  Iteration:3, valid_loss = 0.465972, valid_mur_f1 = 0.895, valid_mur_score = 0.000\n"
     ]
    },
    {
     "name": "stderr",
     "output_type": "stream",
     "text": [
      "\n",
      "100%|███████████████████████████████████████████| 80/80 [00:22<00:00,  3.58it/s]"
     ]
    },
    {
     "name": "stdout",
     "output_type": "stream",
     "text": [
      "08-05 09:23 [MainProcess, 92285] [INFO ]  Iteration:4, loss = 0.414639, mur_f1 = 0.906, mur_score = 0.000\n"
     ]
    },
    {
     "name": "stderr",
     "output_type": "stream",
     "text": [
      "\n",
      "100%|███████████████████████████████████████████| 20/20 [00:06<00:00,  3.32it/s]"
     ]
    },
    {
     "name": "stdout",
     "output_type": "stream",
     "text": [
      "08-05 09:24 [MainProcess, 92285] [INFO ]  Iteration:4, valid_loss = 0.470369, valid_mur_f1 = 0.897, valid_mur_score = 0.000\n"
     ]
    },
    {
     "name": "stderr",
     "output_type": "stream",
     "text": [
      "\n",
      "100%|███████████████████████████████████████████| 80/80 [00:21<00:00,  3.73it/s]"
     ]
    },
    {
     "name": "stdout",
     "output_type": "stream",
     "text": [
      "08-05 09:24 [MainProcess, 92285] [INFO ]  Iteration:5, loss = 0.395378, mur_f1 = 0.915, mur_score = 0.000\n"
     ]
    },
    {
     "name": "stderr",
     "output_type": "stream",
     "text": [
      "\n",
      "100%|███████████████████████████████████████████| 20/20 [00:05<00:00,  3.82it/s]"
     ]
    },
    {
     "name": "stdout",
     "output_type": "stream",
     "text": [
      "08-05 09:24 [MainProcess, 92285] [INFO ]  Iteration:5, valid_loss = 0.438415, valid_mur_f1 = 0.903, valid_mur_score = 0.000\n"
     ]
    },
    {
     "name": "stderr",
     "output_type": "stream",
     "text": [
      "\n",
      "100%|███████████████████████████████████████████| 80/80 [00:21<00:00,  3.80it/s]"
     ]
    },
    {
     "name": "stdout",
     "output_type": "stream",
     "text": [
      "08-05 09:24 [MainProcess, 92285] [INFO ]  Iteration:6, loss = 0.411185, mur_f1 = 0.904, mur_score = 0.000\n"
     ]
    },
    {
     "name": "stderr",
     "output_type": "stream",
     "text": [
      "\n",
      "100%|███████████████████████████████████████████| 20/20 [00:05<00:00,  3.80it/s]"
     ]
    },
    {
     "name": "stdout",
     "output_type": "stream",
     "text": [
      "08-05 09:24 [MainProcess, 92285] [INFO ]  Iteration:6, valid_loss = 0.482422, valid_mur_f1 = 0.897, valid_mur_score = 0.000\n"
     ]
    },
    {
     "name": "stderr",
     "output_type": "stream",
     "text": [
      "\n",
      "100%|███████████████████████████████████████████| 80/80 [00:21<00:00,  3.72it/s]"
     ]
    },
    {
     "name": "stdout",
     "output_type": "stream",
     "text": [
      "08-05 09:25 [MainProcess, 92285] [INFO ]  Iteration:7, loss = 0.383240, mur_f1 = 0.917, mur_score = 0.000\n"
     ]
    },
    {
     "name": "stderr",
     "output_type": "stream",
     "text": [
      "\n",
      "100%|███████████████████████████████████████████| 20/20 [00:05<00:00,  3.79it/s]"
     ]
    },
    {
     "name": "stdout",
     "output_type": "stream",
     "text": [
      "08-05 09:25 [MainProcess, 92285] [INFO ]  Iteration:7, valid_loss = 0.418806, valid_mur_f1 = 0.911, valid_mur_score = 0.000\n"
     ]
    },
    {
     "name": "stderr",
     "output_type": "stream",
     "text": [
      "\n",
      "100%|███████████████████████████████████████████| 80/80 [00:21<00:00,  3.72it/s]"
     ]
    },
    {
     "name": "stdout",
     "output_type": "stream",
     "text": [
      "08-05 09:25 [MainProcess, 92285] [INFO ]  Iteration:8, loss = 0.370649, mur_f1 = 0.922, mur_score = 0.000\n"
     ]
    },
    {
     "name": "stderr",
     "output_type": "stream",
     "text": [
      "\n",
      "100%|███████████████████████████████████████████| 20/20 [00:05<00:00,  3.79it/s]"
     ]
    },
    {
     "name": "stdout",
     "output_type": "stream",
     "text": [
      "08-05 09:25 [MainProcess, 92285] [INFO ]  Iteration:8, valid_loss = 0.452161, valid_mur_f1 = 0.898, valid_mur_score = 0.000\n"
     ]
    },
    {
     "name": "stderr",
     "output_type": "stream",
     "text": [
      "\n",
      "100%|███████████████████████████████████████████| 80/80 [00:21<00:00,  3.72it/s]"
     ]
    },
    {
     "name": "stdout",
     "output_type": "stream",
     "text": [
      "08-05 09:26 [MainProcess, 92285] [INFO ]  Iteration:9, loss = 0.384488, mur_f1 = 0.920, mur_score = 0.000\n"
     ]
    },
    {
     "name": "stderr",
     "output_type": "stream",
     "text": [
      "\n",
      "100%|███████████████████████████████████████████| 20/20 [00:05<00:00,  3.75it/s]"
     ]
    },
    {
     "name": "stdout",
     "output_type": "stream",
     "text": [
      "08-05 09:26 [MainProcess, 92285] [INFO ]  Iteration:9, valid_loss = 0.436814, valid_mur_f1 = 0.905, valid_mur_score = 0.000\n"
     ]
    },
    {
     "name": "stderr",
     "output_type": "stream",
     "text": [
      "\n",
      "100%|███████████████████████████████████████████| 80/80 [00:21<00:00,  3.76it/s]"
     ]
    },
    {
     "name": "stdout",
     "output_type": "stream",
     "text": [
      "08-05 09:26 [MainProcess, 92285] [INFO ]  Iteration:10, loss = 0.406035, mur_f1 = 0.905, mur_score = 0.000\n"
     ]
    },
    {
     "name": "stderr",
     "output_type": "stream",
     "text": [
      "\n",
      "100%|███████████████████████████████████████████| 20/20 [00:05<00:00,  3.90it/s]"
     ]
    },
    {
     "name": "stdout",
     "output_type": "stream",
     "text": [
      "08-05 09:26 [MainProcess, 92285] [INFO ]  Iteration:10, valid_loss = 0.454730, valid_mur_f1 = 0.904, valid_mur_score = 0.000\n"
     ]
    },
    {
     "name": "stderr",
     "output_type": "stream",
     "text": [
      "\n",
      "100%|███████████████████████████████████████████| 80/80 [00:21<00:00,  3.76it/s]"
     ]
    },
    {
     "name": "stdout",
     "output_type": "stream",
     "text": [
      "08-05 09:27 [MainProcess, 92285] [INFO ]  Iteration:11, loss = 0.383848, mur_f1 = 0.920, mur_score = 0.000\n"
     ]
    },
    {
     "name": "stderr",
     "output_type": "stream",
     "text": [
      "\n",
      "100%|███████████████████████████████████████████| 20/20 [00:05<00:00,  3.63it/s]"
     ]
    },
    {
     "name": "stdout",
     "output_type": "stream",
     "text": [
      "08-05 09:27 [MainProcess, 92285] [INFO ]  Iteration:11, valid_loss = 0.439697, valid_mur_f1 = 0.901, valid_mur_score = 0.000\n"
     ]
    },
    {
     "name": "stderr",
     "output_type": "stream",
     "text": [
      "\n",
      "100%|███████████████████████████████████████████| 80/80 [00:20<00:00,  3.81it/s]"
     ]
    },
    {
     "name": "stdout",
     "output_type": "stream",
     "text": [
      "08-05 09:27 [MainProcess, 92285] [INFO ]  Iteration:12, loss = 0.382697, mur_f1 = 0.917, mur_score = 0.000\n"
     ]
    },
    {
     "name": "stderr",
     "output_type": "stream",
     "text": [
      "\n",
      "100%|███████████████████████████████████████████| 20/20 [00:05<00:00,  3.62it/s]"
     ]
    },
    {
     "name": "stdout",
     "output_type": "stream",
     "text": [
      "08-05 09:27 [MainProcess, 92285] [INFO ]  Iteration:12, valid_loss = 0.474935, valid_mur_f1 = 0.902, valid_mur_score = 0.000\n"
     ]
    },
    {
     "name": "stderr",
     "output_type": "stream",
     "text": [
      "\n",
      "100%|███████████████████████████████████████████| 80/80 [00:22<00:00,  3.53it/s]"
     ]
    },
    {
     "name": "stdout",
     "output_type": "stream",
     "text": [
      "08-05 09:28 [MainProcess, 92285] [INFO ]  Iteration:13, loss = 0.389708, mur_f1 = 0.916, mur_score = 0.000\n"
     ]
    },
    {
     "name": "stderr",
     "output_type": "stream",
     "text": [
      "\n",
      "100%|███████████████████████████████████████████| 20/20 [00:05<00:00,  3.85it/s]"
     ]
    },
    {
     "name": "stdout",
     "output_type": "stream",
     "text": [
      "08-05 09:28 [MainProcess, 92285] [INFO ]  Iteration:13, valid_loss = 0.447381, valid_mur_f1 = 0.899, valid_mur_score = 0.000\n"
     ]
    },
    {
     "name": "stderr",
     "output_type": "stream",
     "text": [
      "\n",
      "100%|███████████████████████████████████████████| 80/80 [00:21<00:00,  3.77it/s]"
     ]
    },
    {
     "name": "stdout",
     "output_type": "stream",
     "text": [
      "08-05 09:28 [MainProcess, 92285] [INFO ]  Iteration:14, loss = 0.384940, mur_f1 = 0.918, mur_score = 0.000\n"
     ]
    },
    {
     "name": "stderr",
     "output_type": "stream",
     "text": [
      "\n",
      "100%|███████████████████████████████████████████| 20/20 [00:05<00:00,  3.91it/s]"
     ]
    },
    {
     "name": "stdout",
     "output_type": "stream",
     "text": [
      "08-05 09:28 [MainProcess, 92285] [INFO ]  Iteration:14, valid_loss = 0.450637, valid_mur_f1 = 0.909, valid_mur_score = 0.000\n"
     ]
    },
    {
     "name": "stderr",
     "output_type": "stream",
     "text": [
      "\n",
      "100%|███████████████████████████████████████████| 80/80 [00:21<00:00,  3.70it/s]"
     ]
    },
    {
     "name": "stdout",
     "output_type": "stream",
     "text": [
      "08-05 09:28 [MainProcess, 92285] [INFO ]  Iteration:15, loss = 0.374242, mur_f1 = 0.918, mur_score = 0.000\n"
     ]
    },
    {
     "name": "stderr",
     "output_type": "stream",
     "text": [
      "\n",
      "100%|███████████████████████████████████████████| 20/20 [00:05<00:00,  3.74it/s]"
     ]
    },
    {
     "name": "stdout",
     "output_type": "stream",
     "text": [
      "08-05 09:28 [MainProcess, 92285] [INFO ]  Iteration:15, valid_loss = 0.457976, valid_mur_f1 = 0.896, valid_mur_score = 0.000\n"
     ]
    },
    {
     "name": "stderr",
     "output_type": "stream",
     "text": [
      "\n",
      "100%|███████████████████████████████████████████| 80/80 [00:21<00:00,  3.80it/s]"
     ]
    },
    {
     "name": "stdout",
     "output_type": "stream",
     "text": [
      "08-05 09:29 [MainProcess, 92285] [INFO ]  Iteration:16, loss = 0.373555, mur_f1 = 0.921, mur_score = 0.000\n"
     ]
    },
    {
     "name": "stderr",
     "output_type": "stream",
     "text": [
      "\n",
      "100%|███████████████████████████████████████████| 20/20 [00:05<00:00,  3.82it/s]"
     ]
    },
    {
     "name": "stdout",
     "output_type": "stream",
     "text": [
      "08-05 09:29 [MainProcess, 92285] [INFO ]  Iteration:16, valid_loss = 0.465144, valid_mur_f1 = 0.900, valid_mur_score = 0.000\n"
     ]
    },
    {
     "name": "stderr",
     "output_type": "stream",
     "text": [
      "\n",
      "100%|███████████████████████████████████████████| 80/80 [00:21<00:00,  3.70it/s]"
     ]
    },
    {
     "name": "stdout",
     "output_type": "stream",
     "text": [
      "08-05 09:29 [MainProcess, 92285] [INFO ]  Iteration:17, loss = 0.359951, mur_f1 = 0.921, mur_score = 0.000\n"
     ]
    },
    {
     "name": "stderr",
     "output_type": "stream",
     "text": [
      "\n",
      "100%|███████████████████████████████████████████| 20/20 [00:05<00:00,  3.85it/s]"
     ]
    },
    {
     "name": "stdout",
     "output_type": "stream",
     "text": [
      "08-05 09:29 [MainProcess, 92285] [INFO ]  Iteration:17, valid_loss = 0.449604, valid_mur_f1 = 0.905, valid_mur_score = 0.000\n"
     ]
    },
    {
     "name": "stderr",
     "output_type": "stream",
     "text": [
      "\n",
      "100%|███████████████████████████████████████████| 80/80 [00:21<00:00,  3.77it/s]"
     ]
    },
    {
     "name": "stdout",
     "output_type": "stream",
     "text": [
      "08-05 09:30 [MainProcess, 92285] [INFO ]  Iteration:18, loss = 0.370664, mur_f1 = 0.922, mur_score = 0.000\n"
     ]
    },
    {
     "name": "stderr",
     "output_type": "stream",
     "text": [
      "\n",
      "100%|███████████████████████████████████████████| 20/20 [00:05<00:00,  3.76it/s]"
     ]
    },
    {
     "name": "stdout",
     "output_type": "stream",
     "text": [
      "08-05 09:30 [MainProcess, 92285] [INFO ]  Iteration:18, valid_loss = 0.458191, valid_mur_f1 = 0.900, valid_mur_score = 0.000\n"
     ]
    },
    {
     "name": "stderr",
     "output_type": "stream",
     "text": [
      "\n",
      "100%|███████████████████████████████████████████| 80/80 [00:21<00:00,  3.75it/s]"
     ]
    },
    {
     "name": "stdout",
     "output_type": "stream",
     "text": [
      "08-05 09:30 [MainProcess, 92285] [INFO ]  Iteration:19, loss = 0.378328, mur_f1 = 0.916, mur_score = 0.000\n"
     ]
    },
    {
     "name": "stderr",
     "output_type": "stream",
     "text": [
      "\n",
      "100%|███████████████████████████████████████████| 20/20 [00:05<00:00,  3.87it/s]"
     ]
    },
    {
     "name": "stdout",
     "output_type": "stream",
     "text": [
      "08-05 09:30 [MainProcess, 92285] [INFO ]  Iteration:19, valid_loss = 0.444318, valid_mur_f1 = 0.904, valid_mur_score = 0.000\n"
     ]
    },
    {
     "name": "stderr",
     "output_type": "stream",
     "text": [
      "\n",
      "100%|███████████████████████████████████████████| 80/80 [00:21<00:00,  3.74it/s]"
     ]
    },
    {
     "name": "stdout",
     "output_type": "stream",
     "text": [
      "08-05 09:31 [MainProcess, 92285] [INFO ]  Iteration:20, loss = 0.380719, mur_f1 = 0.917, mur_score = 0.000\n"
     ]
    },
    {
     "name": "stderr",
     "output_type": "stream",
     "text": [
      "\n",
      "100%|███████████████████████████████████████████| 20/20 [00:05<00:00,  3.82it/s]"
     ]
    },
    {
     "name": "stdout",
     "output_type": "stream",
     "text": [
      "08-05 09:31 [MainProcess, 92285] [INFO ]  Iteration:20, valid_loss = 0.506592, valid_mur_f1 = 0.898, valid_mur_score = 0.000\n"
     ]
    },
    {
     "name": "stderr",
     "output_type": "stream",
     "text": [
      "\n",
      "100%|███████████████████████████████████████████| 80/80 [00:21<00:00,  3.80it/s]"
     ]
    },
    {
     "name": "stdout",
     "output_type": "stream",
     "text": [
      "08-05 09:31 [MainProcess, 92285] [INFO ]  Iteration:21, loss = 0.379607, mur_f1 = 0.920, mur_score = 0.000\n"
     ]
    },
    {
     "name": "stderr",
     "output_type": "stream",
     "text": [
      "\n",
      "100%|███████████████████████████████████████████| 20/20 [00:05<00:00,  3.86it/s]"
     ]
    },
    {
     "name": "stdout",
     "output_type": "stream",
     "text": [
      "08-05 09:31 [MainProcess, 92285] [INFO ]  Iteration:21, valid_loss = 0.438219, valid_mur_f1 = 0.904, valid_mur_score = 0.000\n"
     ]
    },
    {
     "name": "stderr",
     "output_type": "stream",
     "text": [
      "\n",
      "100%|███████████████████████████████████████████| 80/80 [00:21<00:00,  3.76it/s]"
     ]
    },
    {
     "name": "stdout",
     "output_type": "stream",
     "text": [
      "08-05 09:31 [MainProcess, 92285] [INFO ]  Iteration:22, loss = 0.358143, mur_f1 = 0.924, mur_score = 0.000\n"
     ]
    },
    {
     "name": "stderr",
     "output_type": "stream",
     "text": [
      "\n",
      "100%|███████████████████████████████████████████| 20/20 [00:05<00:00,  3.80it/s]"
     ]
    },
    {
     "name": "stdout",
     "output_type": "stream",
     "text": [
      "08-05 09:32 [MainProcess, 92285] [INFO ]  Iteration:22, valid_loss = 0.446674, valid_mur_f1 = 0.896, valid_mur_score = 0.000\n"
     ]
    },
    {
     "name": "stderr",
     "output_type": "stream",
     "text": [
      "\n",
      "100%|███████████████████████████████████████████| 80/80 [00:21<00:00,  3.76it/s]"
     ]
    },
    {
     "name": "stdout",
     "output_type": "stream",
     "text": [
      "08-05 09:32 [MainProcess, 92285] [INFO ]  Iteration:23, loss = 0.363425, mur_f1 = 0.924, mur_score = 0.000\n"
     ]
    },
    {
     "name": "stderr",
     "output_type": "stream",
     "text": [
      "\n",
      "100%|███████████████████████████████████████████| 20/20 [00:05<00:00,  3.85it/s]"
     ]
    },
    {
     "name": "stdout",
     "output_type": "stream",
     "text": [
      "08-05 09:32 [MainProcess, 92285] [INFO ]  Iteration:23, valid_loss = 0.457496, valid_mur_f1 = 0.903, valid_mur_score = 0.000\n"
     ]
    },
    {
     "name": "stderr",
     "output_type": "stream",
     "text": [
      "\n",
      "100%|███████████████████████████████████████████| 80/80 [00:21<00:00,  3.69it/s]"
     ]
    },
    {
     "name": "stdout",
     "output_type": "stream",
     "text": [
      "08-05 09:32 [MainProcess, 92285] [INFO ]  Iteration:24, loss = 0.366952, mur_f1 = 0.921, mur_score = 0.000\n"
     ]
    },
    {
     "name": "stderr",
     "output_type": "stream",
     "text": [
      "\n",
      "100%|███████████████████████████████████████████| 20/20 [00:05<00:00,  3.93it/s]"
     ]
    },
    {
     "name": "stdout",
     "output_type": "stream",
     "text": [
      "08-05 09:32 [MainProcess, 92285] [INFO ]  Iteration:24, valid_loss = 0.455609, valid_mur_f1 = 0.896, valid_mur_score = 0.000\n"
     ]
    },
    {
     "name": "stderr",
     "output_type": "stream",
     "text": [
      "\n",
      "100%|███████████████████████████████████████████| 80/80 [00:21<00:00,  3.79it/s]"
     ]
    },
    {
     "name": "stdout",
     "output_type": "stream",
     "text": [
      "08-05 09:33 [MainProcess, 92285] [INFO ]  Iteration:25, loss = 0.355928, mur_f1 = 0.920, mur_score = 0.000\n"
     ]
    },
    {
     "name": "stderr",
     "output_type": "stream",
     "text": [
      "\n",
      "100%|███████████████████████████████████████████| 20/20 [00:05<00:00,  3.80it/s]"
     ]
    },
    {
     "name": "stdout",
     "output_type": "stream",
     "text": [
      "08-05 09:33 [MainProcess, 92285] [INFO ]  Iteration:25, valid_loss = 0.445153, valid_mur_f1 = 0.900, valid_mur_score = 0.000\n"
     ]
    },
    {
     "name": "stderr",
     "output_type": "stream",
     "text": [
      "\n",
      "100%|███████████████████████████████████████████| 80/80 [00:22<00:00,  3.58it/s]"
     ]
    },
    {
     "name": "stdout",
     "output_type": "stream",
     "text": [
      "08-05 09:33 [MainProcess, 92285] [INFO ]  Iteration:26, loss = 0.359664, mur_f1 = 0.923, mur_score = 0.000\n"
     ]
    },
    {
     "name": "stderr",
     "output_type": "stream",
     "text": [
      "\n",
      "100%|███████████████████████████████████████████| 20/20 [00:05<00:00,  3.47it/s]"
     ]
    },
    {
     "name": "stdout",
     "output_type": "stream",
     "text": [
      "08-05 09:33 [MainProcess, 92285] [INFO ]  Iteration:26, valid_loss = 0.434403, valid_mur_f1 = 0.902, valid_mur_score = 0.000\n"
     ]
    },
    {
     "name": "stderr",
     "output_type": "stream",
     "text": [
      "\n",
      "100%|███████████████████████████████████████████| 80/80 [00:22<00:00,  3.61it/s]"
     ]
    },
    {
     "name": "stdout",
     "output_type": "stream",
     "text": [
      "08-05 09:34 [MainProcess, 92285] [INFO ]  Iteration:27, loss = 0.349002, mur_f1 = 0.924, mur_score = 0.000\n"
     ]
    },
    {
     "name": "stderr",
     "output_type": "stream",
     "text": [
      "\n",
      "100%|███████████████████████████████████████████| 20/20 [00:05<00:00,  3.79it/s]"
     ]
    },
    {
     "name": "stdout",
     "output_type": "stream",
     "text": [
      "08-05 09:34 [MainProcess, 92285] [INFO ]  Iteration:27, valid_loss = 0.479565, valid_mur_f1 = 0.906, valid_mur_score = 0.000\n"
     ]
    },
    {
     "name": "stderr",
     "output_type": "stream",
     "text": [
      "\n",
      "100%|███████████████████████████████████████████| 80/80 [00:21<00:00,  3.75it/s]"
     ]
    },
    {
     "name": "stdout",
     "output_type": "stream",
     "text": [
      "08-05 09:34 [MainProcess, 92285] [INFO ]  Iteration:28, loss = 0.347457, mur_f1 = 0.926, mur_score = 0.000\n"
     ]
    },
    {
     "name": "stderr",
     "output_type": "stream",
     "text": [
      "\n",
      "100%|███████████████████████████████████████████| 20/20 [00:05<00:00,  3.91it/s]"
     ]
    },
    {
     "name": "stdout",
     "output_type": "stream",
     "text": [
      "08-05 09:34 [MainProcess, 92285] [INFO ]  Iteration:28, valid_loss = 0.471892, valid_mur_f1 = 0.881, valid_mur_score = 0.000\n"
     ]
    },
    {
     "name": "stderr",
     "output_type": "stream",
     "text": [
      "\n",
      "100%|███████████████████████████████████████████| 80/80 [00:21<00:00,  3.74it/s]"
     ]
    },
    {
     "name": "stdout",
     "output_type": "stream",
     "text": [
      "08-05 09:35 [MainProcess, 92285] [INFO ]  Iteration:29, loss = 0.358746, mur_f1 = 0.921, mur_score = 0.000\n"
     ]
    },
    {
     "name": "stderr",
     "output_type": "stream",
     "text": [
      "\n",
      "100%|███████████████████████████████████████████| 20/20 [00:05<00:00,  3.79it/s]"
     ]
    },
    {
     "name": "stdout",
     "output_type": "stream",
     "text": [
      "08-05 09:35 [MainProcess, 92285] [INFO ]  Iteration:29, valid_loss = 0.453250, valid_mur_f1 = 0.901, valid_mur_score = 0.000\n"
     ]
    },
    {
     "name": "stderr",
     "output_type": "stream",
     "text": [
      "\n"
     ]
    }
   ],
   "source": [
    "#torch.cuda.empty_cache()\n",
    "\n",
    "\n",
    "log_dir = './log/'\n",
    "project = 'toy0'\n",
    "logger = get_logger(log_dir + '/' + project)\n",
    "\n",
    "#train\n",
    "label_mur = np.empty(len(labels['murmur']))\n",
    "for i,l in enumerate(labels['murmur']) :\n",
    "    try :\n",
    "        label_mur[i] = int(list(l).index(1))\n",
    "    except :\n",
    "        label_mur[i] = 0.5\n",
    "label_out = np.empty(len(labels['outcome']))\n",
    "for i,l in enumerate(labels['outcome']) :\n",
    "    label_out[i] = int(list(l).index(1))\n",
    "label = {'murmur':label_mur, 'outcome':label_out}\n",
    "\n",
    "#dev\n",
    "label_mur_dev = np.empty(len(labels_dev['murmur']))\n",
    "for i,l in enumerate(labels_dev['murmur']) :\n",
    "    try :\n",
    "        label_mur_dev[i] = int(list(l).index(1))\n",
    "    except :\n",
    "        label_mur_dev[i] = 0.5\n",
    "label_out_dev = np.empty(len(labels_dev['outcome']))\n",
    "for i,l in enumerate(labels_dev['outcome']) :\n",
    "    label_out_dev[i] = int(list(l).index(1))\n",
    "label_dev = {'murmur':label_mur_dev, 'outcome':label_out_dev}\n",
    "\n",
    "#    class_count = [i for i in get_class_distribution(label_mur).values()]\n",
    "#    class_weights = 1./torch.tensor(class_count, dtype=torch.float)\n",
    "\n",
    "class_weights = torch.tensor([5/9,4/9],dtype=torch.float)\n",
    "\n",
    "dataset_train = myDataset(features, label,mode ='murmur')\n",
    "dataloader_train = myDataLoader(dataset=dataset_train,\n",
    "                                batch_size=32,\n",
    "                                shuffle=True,\n",
    "                                num_workers=0)\n",
    "all_file_train = len(dataloader_train)\n",
    "if verbose >= 1:\n",
    "    print(\"- {} training samples\".format(len(dataset_train)))\n",
    "    print(\"- {} training batches\".format(len(dataloader_train)))\n",
    "dataset_dev = myDataset(features_dev, label_dev,mode ='murmur')\n",
    "dataloader_dev = myDataLoader(dataset=dataset_dev,\n",
    "                                batch_size=32,\n",
    "                                shuffle=True,\n",
    "                                num_workers=0)\n",
    "all_file_dev = len(dataloader_dev)\n",
    "if verbose >= 1:\n",
    "    print(\"- {} testing samples\".format(len(dataset_dev)))\n",
    "    print(\"- {} testing batches\".format(len(dataloader_dev)))\n",
    "\n",
    "\n",
    "#nnet = LCNN(mode = 'murmur')\n",
    "#nnet = nnet.cuda()\n",
    "nnet = model.cuda()\n",
    "softmax = nn.Softmax(dim=1)\n",
    "sig = nn.Sigmoid()\n",
    "\n",
    "optimizer = optim.Adam(nnet.parameters(), lr=1e-4)\n",
    "\n",
    "scheduler = torch.optim.lr_scheduler.ExponentialLR(optimizer, 0.97)\n",
    "\n",
    "#criterion = nn.CrossEntropyLoss(weight=class_weights.to(device))\n",
    "criterion = nn.BCELoss()\n",
    "\n",
    "# Train the model.\n",
    "if verbose >= 1:\n",
    "    print('Training model...')\n",
    "\n",
    "\n",
    "for iter_ in range(30):  # args.end_iter\n",
    "    start_time = time.time()\n",
    "    running_loss = 0.0\n",
    "\n",
    "    train_epoch_mur_f1 = 0.0\n",
    "\n",
    "    nnet.train()\n",
    "\n",
    "    pre_train = []\n",
    "    label_train = []\n",
    "\n",
    "    for audio_feature, data_label_torch in tqdm(dataloader_train): \n",
    "\n",
    "#            alpha =np.random.randint(4,10)/10\n",
    "#            lam = np.random.beta(alpha,alpha)\n",
    "#            audio_feature =  torch.cat([audio_feature,lam*audio_feature + (1.0-lam)*audio_feature2], dim=1)\n",
    "#            data_label_torch_mur = torch.cat([data_label_torch_mur,lam*data_label_torch_mur + (1.0-lam)*data_label_torch_mur2], dim=0)\n",
    "#        print(audio_feature.shape)\n",
    "        torch.autograd.set_detect_anomaly(True)\n",
    "        audio_feature = audio_feature.permute(1,0)\n",
    "#        audio_feature = audio_feature.unsqueeze(1)\n",
    "        audio_feature[audio_feature != audio_feature] = 0\n",
    "        audio_feature= torch.nan_to_num(audio_feature,nan=1e-6)+1e-6\n",
    "\n",
    "        audio_feature = audio_feature.float().cuda()\n",
    "\n",
    "        data_label_torch = data_label_torch.cuda()\n",
    "        data_label_torch = data_label_torch.long()\n",
    "\n",
    "#        print(audio_feature.shape)\n",
    "        outputs = nnet(audio_feature).logits\n",
    "\n",
    "#        print(type(outputs))\n",
    "#        print(outputs)\n",
    "        loss = criterion(outputs.float().squeeze(1), data_label_torch.float().squeeze(1))\n",
    "#        print(outputs)\n",
    "#        print(loss)\n",
    "        \n",
    "#        y_pred_softmax = softmax(outputs.float())\n",
    "#        y_pred_softmax = F.log_softmax(outputs.float(), dim = 1)\n",
    "#        _, output_tags = torch.max(outputs.float(), dim = 1)\n",
    "#        _, output_tags = torch.max(y_pred_softmax, dim = 1)\n",
    "#        print(outputs)\n",
    "        output_tags = torch.ceil(outputs-0.5)\n",
    "#        print(output_tags)\n",
    "        output_tags = output_tags.detach().cpu().numpy()#.data.cpu().numpy()\n",
    "        data_label_torch = data_label_torch.data.cpu().numpy()\n",
    "        result = np.append(output_tags,data_label_torch,axis=1)\n",
    "#        print('result : ',result)\n",
    "        train_mur_f1 = f1_score(data_label_torch, output_tags)#, average='macro')\n",
    "\n",
    "\n",
    "\n",
    "        optimizer.zero_grad()\n",
    "        loss.backward()\n",
    "        optimizer.step()\n",
    "\n",
    "        running_loss += loss.item()\n",
    "        train_epoch_mur_f1 += train_mur_f1.item()\n",
    "\n",
    "        pre_train.extend(list(output_tags))\n",
    "        label_train.extend(list(data_label_torch))\n",
    "    pre_train[-1] = 0\n",
    "    pre_train[-2] = 1\n",
    "    label_train[-1] = np.array([0])\n",
    "    label_train[-2] = np.array([1])\n",
    "#    score_train = compute_weighted_accuracy(np.array(pre_train),np.array(label_train),'murmur')\n",
    "    score_train =0\n",
    "    logger.info(\"Iteration:{0}, loss = {1:.6f}, mur_f1 = {2:.3f}, mur_score = {3:.3f}\".format(iter_, running_loss/all_file_train, train_epoch_mur_f1/all_file_train, score_train))\n",
    "\n",
    "    with torch.no_grad():\n",
    "        running_loss_dev = 0.0\n",
    "        dev_epoch_f1 = 0.0\n",
    "\n",
    "\n",
    "        pre_list = []\n",
    "        label_list = []\n",
    "        for audio_feature_dev, data_label_torch_dev  in tqdm(dataloader_dev) : \n",
    "            \n",
    "            audio_feature_dev = audio_feature_dev.permute(1,0)\n",
    "#            audio_feature_dev = audio_feature_dev.unsqueeze(1)\n",
    "            audio_feature_dev[audio_feature_dev != audio_feature_dev] = 0\n",
    "            audio_feature_dev = torch.nan_to_num(audio_feature_dev,nan=1e-6)+1e-6\n",
    "            audio_feature_dev = audio_feature_dev.float().cuda()           \n",
    "            label_dev = data_label_torch_dev\n",
    "\n",
    "            label_dev = label_dev.cuda()\n",
    "            label_dev = label_dev.long()\n",
    "\n",
    "            outputs_dev = nnet(audio_feature_dev).logits\n",
    "#            print(outputs_dev[0])\n",
    "\n",
    "            loss_dev = criterion(outputs_dev.float().squeeze(1), label_dev.float().squeeze(1))\n",
    "#            y_pred_softmax = softmax(outputs_dev.float())\n",
    "#            y_pred_softmax = F.log_softmax(outputs_dev.float(), dim = 1)\n",
    "#            _, output_tags = torch.max(outputs_dev.float(), dim = 1)\n",
    "#            _, output_tags = torch.max(y_pred_softmax, dim = 1)\n",
    "            output_tags = torch.ceil(outputs_dev-0.5)\n",
    "            output_tags = output_tags.detach().cpu().numpy()#.data.cpu().numpy()\n",
    "            label_dev = label_dev.data.cpu().numpy()\n",
    "\n",
    "            dev_f1 = f1_score(label_dev, output_tags)#, average='macro')\n",
    "\n",
    "            running_loss_dev += loss_dev.item()\n",
    "            dev_epoch_f1 += dev_f1.item()\n",
    "            pre_list.extend(list(output_tags))\n",
    "            label_list.extend(list(label_dev))\n",
    "        pre_list[-1] = 0\n",
    "        pre_list[-2] = 1\n",
    "#        pre_list[-3] = 2\n",
    "        label_list[-1] = np.array([0])\n",
    "        label_list[-2] = np.array([1])\n",
    "#        label_list[-3] = np.array([2])\n",
    "     \n",
    "#        score_dev = compute_weighted_accuracy(np.array(pre_list),np.array(label_list),'murmur')\n",
    "        score_dev = 0\n",
    "        logger.info(\"Iteration:{0}, valid_loss = {1:.6f}, valid_mur_f1 = {2:.3f}, valid_mur_score = {3:.3f}\".format(iter_, running_loss_dev/all_file_dev, dev_epoch_f1/all_file_dev, score_dev))\n",
    "\n",
    "\n",
    "\n"
   ]
  },
  {
   "cell_type": "code",
   "execution_count": null,
   "id": "796ad968",
   "metadata": {},
   "outputs": [],
   "source": []
  },
  {
   "cell_type": "code",
   "execution_count": null,
   "id": "39e541d1",
   "metadata": {},
   "outputs": [],
   "source": []
  },
  {
   "cell_type": "code",
   "execution_count": null,
   "id": "4e7b28a0",
   "metadata": {},
   "outputs": [],
   "source": []
  },
  {
   "cell_type": "code",
   "execution_count": 19,
   "id": "37cb1dc4",
   "metadata": {},
   "outputs": [],
   "source": [
    "model_folder = 'w2v2_model_frz_dnn'\n",
    "outcome_classes = ['Abnormal','Normal']"
   ]
  },
  {
   "cell_type": "code",
   "execution_count": 20,
   "id": "97057712",
   "metadata": {},
   "outputs": [],
   "source": [
    "save_challenge_model(model_folder, nnet,nnet, murmur_classes, outcome_classes, m_name = 'toy_ti', mel_shape = (100,313) )\n",
    "\n"
   ]
  },
  {
   "cell_type": "code",
   "execution_count": 21,
   "id": "dc3b0013",
   "metadata": {},
   "outputs": [],
   "source": [
    "def run_challenge_models(model, data, recordings, verbose,thres):\n",
    "    torch.cuda.empty_cache()\n",
    "#    if model['model'] == 'toy_ti' :\n",
    "#        model1 = get_toy(model['mel_shape'])\n",
    "#    model1.load_weights(model['model_fnm'])\n",
    "    GPU_NUM = 3 # 원하는 GPU 번호 입력\n",
    "    device = torch.device(f'cuda:{GPU_NUM}' if torch.cuda.is_available() else 'cpu')\n",
    "#    device = torch.device('cuda' if torch.cuda.is_available() else 'cpu')\n",
    "    torch.cuda.set_device(device)\n",
    "\n",
    "\n",
    "#    if model['model'] == 'toy_ti' :\n",
    "#        trained_model =  torch.load(model['mur_model_fnm'])\n",
    "#        trained_model2 =  torch.load(model['out_model_fnm'])\n",
    "#        print(trained_model)\n",
    "#        nnet = LCNN(mode = 'murmur')\n",
    "#        nnet.load_state_dict(trained_model)\n",
    "#        nnet = nnet.cuda()\n",
    "#        nnet2 = LCNN(mode = 'murmur')\n",
    "#        nnet2.load_state_dict(trained_model2)\n",
    "#        nnet2 = nnet2.cuda()\n",
    "        #print('*')\n",
    "    nnet = model\n",
    "    nnet2 = model\n",
    "    nnet = nnet.cuda()\n",
    "    nnet2 = nnet2.cuda()\n",
    "    nnet.eval()\n",
    "    nnet2.eval()\n",
    "#    print(nnet)\n",
    "        \n",
    "#    murmur_classes = model['murmur_classes']\n",
    "#    outcome_classes = model['outcome_classes']\n",
    "    murmur_classes = ['Present','Unknown', 'Absent'] # \n",
    "    num_murmur_classes = len(murmur_classes)\n",
    "    outcome_classes = ['Abnormal', 'Normal']\n",
    "    num_outcome_classes = len(outcome_classes)\n",
    "\n",
    "    # Load features.\n",
    "    features = get_feature_one(data, verbose = 0)\n",
    "\n",
    "    probab1 = np.empty((0,2))\n",
    "    probab2 = np.empty((0,2))\n",
    "    for i in range(len(recordings)) :\n",
    "#        print(recordings[i])\n",
    "        audio_feature,_ = feature_extract_raw(recordings[i]/ 32768,samp_sec=20)\n",
    "#        print(type(audio_feature))\n",
    "        audio_feature = torch.from_numpy(np.array(audio_feature))\n",
    "        audio_feature[audio_feature != audio_feature] = 0\n",
    "        audio_feature = torch.nan_to_num(audio_feature,nan=1e-6) +1e-6\n",
    "        audio_feature = audio_feature.float().cuda()\n",
    "#        audio_feature = audio_feature.unsqueeze(1)\n",
    "#        audio_feature = audio_feature.permute(1,0,2)\n",
    "        \n",
    "#64, 1, 1, 157\n",
    "        outputs = nnet(audio_feature).logits\n",
    "        outputs2 = nnet2(audio_feature).logits\n",
    "#        print(outputs)\n",
    "#        print('outputs2 : ',outputs2)\n",
    "#        softmax = nn.Softmax(dim = 1)\n",
    "#        outputs_murmur = F.log_softmax(outputs.float(), dim = 1)\n",
    "#        outputs_outcome = F.log_softmax(outputs2.float(), dim = 1)#\n",
    "#        outputs_murmur = softmax(outputs)\n",
    "#        outputs_outcome = softmax(outputs2)\n",
    "        outputs_murmur = outputs\n",
    "        outputs_outcome = outputs2\n",
    "        outputs_murmur = torch.cat((1-outputs_murmur,outputs_murmur),dim = 1)\n",
    "        outputs_outcome = torch.cat((1-outputs_outcome,outputs_outcome),dim = 1)\n",
    "#        print('outputs_murmur : ',outputs_murmur)\n",
    "        prob1 = outputs_murmur.mean(axis = 0).reshape(1,2) \n",
    "        prob1 = prob1.data.cpu().numpy()\n",
    "        probab1 = np.concatenate((probab1,prob1),axis=0)\n",
    "\n",
    "        prob2 = outputs_outcome.mean(axis = 0).reshape(1,2) \n",
    "        prob2 = prob2.data.cpu().numpy()\n",
    "        probab2 = np.concatenate((probab2,prob2),axis=0)\n",
    "        \n",
    "    p1 = probab1.max(axis=0)\n",
    "    p2 = probab2.max(axis=0)\n",
    "    \n",
    "        \n",
    "    \n",
    "#    print('p1 :',p1)\n",
    "#    print('p2 :',p2)\n",
    "        \n",
    "        \n",
    "    # Get classifier probabilities.\n",
    "#    idx = np.argmax(p1)\n",
    "    if p1[0]>thres:\n",
    "        idx = 0\n",
    "    else :\n",
    "        idx = 2\n",
    "#    idx2 = np.argmax(p2)\n",
    "    if p2[0]>0.25 :\n",
    "        idx2 = 0\n",
    "    else :\n",
    "        idx2 = 1\n",
    "\n",
    "    n_p1 = np.zeros(len(murmur_classes))\n",
    "    n_p1[0] = p1[0]\n",
    "    n_p1[1] = 0\n",
    "    n_p1[2] = p1[1]\n",
    "    # Choose label with higher probability.\n",
    "    labels_murmur = np.zeros(len(murmur_classes), dtype=np.int_)\n",
    "    labels_murmur[idx] = 1\n",
    "    labels_outcome = np.zeros(len(outcome_classes), dtype=np.int_)\n",
    "    labels_outcome[idx2] = 1\n",
    "    \n",
    "    classes = murmur_classes + outcome_classes\n",
    "    labels = np.concatenate((labels_murmur, labels_outcome))\n",
    "    probabilities = np.concatenate((n_p1, p2))\n",
    "\n",
    "    return classes, labels, probabilities "
   ]
  },
  {
   "cell_type": "code",
   "execution_count": 22,
   "id": "e57e0fc2",
   "metadata": {},
   "outputs": [],
   "source": [
    "#!/usr/bin/env python\n",
    "\n",
    "# Do *not* edit this script. Changes will be discarded so that we can process the models consistently.\n",
    "\n",
    "# This file contains functions for running models for the 2022 Challenge. You can run it as follows:\n",
    "#\n",
    "#   python run_model.py model data outputs\n",
    "#\n",
    "# where 'model' is a folder containing the your trained model, 'data' is a folder containing the Challenge data, and 'outputs' is a\n",
    "# folder for saving your model's outputs.\n",
    "\n",
    "import numpy as np, os, sys\n",
    "from helper_code import *\n",
    "from team_code import load_challenge_model#, run_challenge_model\n",
    "from tqdm import tqdm\n",
    "\n",
    "# Run model.\n",
    "def run_models(model_folder, data_folder, output_folder, allow_failures, verbose,thres):\n",
    "    torch.cuda.empty_cache()\n",
    "    # Load models.\n",
    "    if verbose >= 1:\n",
    "        print('Loading Challenge model...')\n",
    "        \n",
    "    model = load_challenge_model(model_folder, verbose)\n",
    "    \n",
    "    # Find the patient data files.\n",
    "    patient_files = find_patient_files(data_folder)\n",
    "    num_patient_files = len(patient_files)\n",
    "\n",
    "    if num_patient_files==0:\n",
    "        raise Exception('No data was provided.')\n",
    "\n",
    "    # Create a folder for the Challenge outputs if it does not already exist.\n",
    "    os.makedirs(output_folder, exist_ok=True)\n",
    "\n",
    "    # Run the team's model on the Challenge data.\n",
    "    if verbose >= 1:\n",
    "        print('Running model on Challenge data...')\n",
    "##########################\n",
    "    # Iterate over the patient files.\n",
    "    for i in tqdm(range(num_patient_files)):\n",
    "        if verbose >= 2:\n",
    "            print('    {}/{}...'.format(i+1, num_patient_files))\n",
    "\n",
    "        patient_data = load_patient_data(patient_files[i])\n",
    "        recordings = load_recordings(data_folder, patient_data)\n",
    "\n",
    "        # Allow or disallow the model to fail on parts of the data; helpful for debugging.\n",
    "        try:\n",
    "            classes, labels, probabilities = run_challenge_models(nnet, patient_data, recordings, verbose,thres) ### Teams: Implement this function!!!\n",
    "\n",
    "        except:\n",
    "            if allow_failures:\n",
    "                if verbose >= 2:\n",
    "                    print('... failed.')\n",
    "                classes, labels, probabilities = list(), list(), list()\n",
    "            else:\n",
    "                raise\n",
    "\n",
    "        # Save Challenge outputs.\n",
    "        head, tail = os.path.split(patient_files[i])\n",
    "        root, extension = os.path.splitext(tail)\n",
    "        output_file = os.path.join(output_folder, root + '.csv')\n",
    "        patient_id = get_patient_id(patient_data)\n",
    "        save_challenge_outputs(output_file, patient_id, classes, labels, probabilities)\n",
    "\n",
    "    if verbose >= 1:\n",
    "        print('Done.')\n",
    "\n",
    "\n"
   ]
  },
  {
   "cell_type": "code",
   "execution_count": 23,
   "id": "a089e1ab",
   "metadata": {},
   "outputs": [],
   "source": [
    "model_folder = 'w2v2_model_frz_dnn'\n",
    "output_folder = 'w2v2_output_frz_dnn'\n",
    "allow_failures = False"
   ]
  },
  {
   "cell_type": "code",
   "execution_count": 36,
   "id": "9db713e6",
   "metadata": {},
   "outputs": [
    {
     "name": "stdout",
     "output_type": "stream",
     "text": [
      "Loading Challenge model...\n",
      "Running model on Challenge data...\n"
     ]
    },
    {
     "name": "stderr",
     "output_type": "stream",
     "text": [
      "100%|█████████████████████████████████████████| 191/191 [05:15<00:00,  1.65s/it]"
     ]
    },
    {
     "name": "stdout",
     "output_type": "stream",
     "text": [
      "Done.\n"
     ]
    },
    {
     "name": "stderr",
     "output_type": "stream",
     "text": [
      "\n"
     ]
    }
   ],
   "source": [
    "run_models(model_folder, dev_folder, output_folder, allow_failures, verbose,thres= 0.5)"
   ]
  },
  {
   "cell_type": "code",
   "execution_count": null,
   "id": "d0c07263",
   "metadata": {},
   "outputs": [],
   "source": []
  },
  {
   "cell_type": "code",
   "execution_count": null,
   "id": "09dd6bbd",
   "metadata": {},
   "outputs": [],
   "source": []
  },
  {
   "cell_type": "markdown",
   "id": "c671d7a8",
   "metadata": {},
   "source": [
    "# wav2vec2 threshold"
   ]
  },
  {
   "cell_type": "code",
   "execution_count": 24,
   "id": "bf2cd7f4",
   "metadata": {},
   "outputs": [
    {
     "name": "stdout",
     "output_type": "stream",
     "text": [
      "Loading Challenge model...\n",
      "Running model on Challenge data...\n"
     ]
    },
    {
     "name": "stderr",
     "output_type": "stream",
     "text": [
      "100%|█████████████████████████████████████████| 191/191 [00:19<00:00,  9.83it/s]\n"
     ]
    },
    {
     "name": "stdout",
     "output_type": "stream",
     "text": [
      "Done.\n",
      "threshold :  0.1\n",
      "#Murmur scores\n",
      "AUROC,AUPRC,F-measure,Accuracy,Weighted Accuracy,Cost\n",
      "0.635,0.492,0.432,0.775,0.518,23405.090\n",
      "\n",
      "#Outcome scores\n",
      "AUROC,AUPRC,F-measure,Accuracy,Weighted Accuracy,Cost\n",
      "0.575,0.604,0.585,0.607,0.446,18187.891\n",
      "\n",
      "#Murmur scores (per class)\n",
      "Classes,Present,Unknown,Absent\n",
      "AUROC,0.728,0.500,0.678\n",
      "AUPRC,0.567,0.073,0.837\n",
      "F-measure,0.431,0.000,0.864\n",
      "Accuracy,0.289,0.000,0.986\n",
      "\n",
      "#Outcome scores (per class)\n",
      "Classes,Abnormal,Normal\n",
      "AUROC,0.576,0.575\n",
      "AUPRC,0.660,0.548\n",
      "F-measure,0.490,0.681\n",
      "Accuracy,0.367,0.860\n",
      "Loading Challenge model...\n",
      "Running model on Challenge data...\n"
     ]
    },
    {
     "name": "stderr",
     "output_type": "stream",
     "text": [
      "100%|█████████████████████████████████████████| 191/191 [00:18<00:00, 10.19it/s]\n"
     ]
    },
    {
     "name": "stdout",
     "output_type": "stream",
     "text": [
      "Done.\n",
      "threshold :  0.13\n",
      "#Murmur scores\n",
      "AUROC,AUPRC,F-measure,Accuracy,Weighted Accuracy,Cost\n",
      "0.635,0.492,0.432,0.775,0.518,23405.090\n",
      "\n",
      "#Outcome scores\n",
      "AUROC,AUPRC,F-measure,Accuracy,Weighted Accuracy,Cost\n",
      "0.575,0.604,0.585,0.607,0.446,18187.891\n",
      "\n",
      "#Murmur scores (per class)\n",
      "Classes,Present,Unknown,Absent\n",
      "AUROC,0.728,0.500,0.678\n",
      "AUPRC,0.567,0.073,0.837\n",
      "F-measure,0.431,0.000,0.864\n",
      "Accuracy,0.289,0.000,0.986\n",
      "\n",
      "#Outcome scores (per class)\n",
      "Classes,Abnormal,Normal\n",
      "AUROC,0.576,0.575\n",
      "AUPRC,0.660,0.548\n",
      "F-measure,0.490,0.681\n",
      "Accuracy,0.367,0.860\n",
      "Loading Challenge model...\n",
      "Running model on Challenge data...\n"
     ]
    },
    {
     "name": "stderr",
     "output_type": "stream",
     "text": [
      "100%|█████████████████████████████████████████| 191/191 [00:18<00:00, 10.29it/s]\n"
     ]
    },
    {
     "name": "stdout",
     "output_type": "stream",
     "text": [
      "Done.\n",
      "threshold :  0.16\n",
      "#Murmur scores\n",
      "AUROC,AUPRC,F-measure,Accuracy,Weighted Accuracy,Cost\n",
      "0.635,0.492,0.432,0.775,0.518,23405.090\n",
      "\n",
      "#Outcome scores\n",
      "AUROC,AUPRC,F-measure,Accuracy,Weighted Accuracy,Cost\n",
      "0.575,0.604,0.585,0.607,0.446,18187.891\n",
      "\n",
      "#Murmur scores (per class)\n",
      "Classes,Present,Unknown,Absent\n",
      "AUROC,0.728,0.500,0.678\n",
      "AUPRC,0.567,0.073,0.837\n",
      "F-measure,0.431,0.000,0.864\n",
      "Accuracy,0.289,0.000,0.986\n",
      "\n",
      "#Outcome scores (per class)\n",
      "Classes,Abnormal,Normal\n",
      "AUROC,0.576,0.575\n",
      "AUPRC,0.660,0.548\n",
      "F-measure,0.490,0.681\n",
      "Accuracy,0.367,0.860\n",
      "Loading Challenge model...\n",
      "Running model on Challenge data...\n"
     ]
    },
    {
     "name": "stderr",
     "output_type": "stream",
     "text": [
      "100%|█████████████████████████████████████████| 191/191 [00:18<00:00, 10.19it/s]\n"
     ]
    },
    {
     "name": "stdout",
     "output_type": "stream",
     "text": [
      "Done.\n",
      "threshold :  0.19\n",
      "#Murmur scores\n",
      "AUROC,AUPRC,F-measure,Accuracy,Weighted Accuracy,Cost\n",
      "0.635,0.492,0.432,0.775,0.518,23405.090\n",
      "\n",
      "#Outcome scores\n",
      "AUROC,AUPRC,F-measure,Accuracy,Weighted Accuracy,Cost\n",
      "0.575,0.604,0.585,0.607,0.446,18187.891\n",
      "\n",
      "#Murmur scores (per class)\n",
      "Classes,Present,Unknown,Absent\n",
      "AUROC,0.728,0.500,0.678\n",
      "AUPRC,0.567,0.073,0.837\n",
      "F-measure,0.431,0.000,0.864\n",
      "Accuracy,0.289,0.000,0.986\n",
      "\n",
      "#Outcome scores (per class)\n",
      "Classes,Abnormal,Normal\n",
      "AUROC,0.576,0.575\n",
      "AUPRC,0.660,0.548\n",
      "F-measure,0.490,0.681\n",
      "Accuracy,0.367,0.860\n",
      "Loading Challenge model...\n",
      "Running model on Challenge data...\n"
     ]
    },
    {
     "name": "stderr",
     "output_type": "stream",
     "text": [
      "100%|█████████████████████████████████████████| 191/191 [00:19<00:00, 10.03it/s]\n"
     ]
    },
    {
     "name": "stdout",
     "output_type": "stream",
     "text": [
      "Done.\n",
      "threshold :  0.22\n",
      "#Murmur scores\n",
      "AUROC,AUPRC,F-measure,Accuracy,Weighted Accuracy,Cost\n",
      "0.635,0.492,0.432,0.775,0.518,23405.090\n",
      "\n",
      "#Outcome scores\n",
      "AUROC,AUPRC,F-measure,Accuracy,Weighted Accuracy,Cost\n",
      "0.575,0.604,0.585,0.607,0.446,18187.891\n",
      "\n",
      "#Murmur scores (per class)\n",
      "Classes,Present,Unknown,Absent\n",
      "AUROC,0.728,0.500,0.678\n",
      "AUPRC,0.567,0.073,0.837\n",
      "F-measure,0.431,0.000,0.864\n",
      "Accuracy,0.289,0.000,0.986\n",
      "\n",
      "#Outcome scores (per class)\n",
      "Classes,Abnormal,Normal\n",
      "AUROC,0.576,0.575\n",
      "AUPRC,0.660,0.548\n",
      "F-measure,0.490,0.681\n",
      "Accuracy,0.367,0.860\n",
      "Loading Challenge model...\n",
      "Running model on Challenge data...\n"
     ]
    },
    {
     "name": "stderr",
     "output_type": "stream",
     "text": [
      "100%|█████████████████████████████████████████| 191/191 [00:18<00:00, 10.32it/s]\n"
     ]
    },
    {
     "name": "stdout",
     "output_type": "stream",
     "text": [
      "Done.\n",
      "threshold :  0.25\n",
      "#Murmur scores\n",
      "AUROC,AUPRC,F-measure,Accuracy,Weighted Accuracy,Cost\n",
      "0.635,0.492,0.432,0.775,0.518,23405.090\n",
      "\n",
      "#Outcome scores\n",
      "AUROC,AUPRC,F-measure,Accuracy,Weighted Accuracy,Cost\n",
      "0.575,0.604,0.585,0.607,0.446,18187.891\n",
      "\n",
      "#Murmur scores (per class)\n",
      "Classes,Present,Unknown,Absent\n",
      "AUROC,0.728,0.500,0.678\n",
      "AUPRC,0.567,0.073,0.837\n",
      "F-measure,0.431,0.000,0.864\n",
      "Accuracy,0.289,0.000,0.986\n",
      "\n",
      "#Outcome scores (per class)\n",
      "Classes,Abnormal,Normal\n",
      "AUROC,0.576,0.575\n",
      "AUPRC,0.660,0.548\n",
      "F-measure,0.490,0.681\n",
      "Accuracy,0.367,0.860\n",
      "Loading Challenge model...\n",
      "Running model on Challenge data...\n"
     ]
    },
    {
     "name": "stderr",
     "output_type": "stream",
     "text": [
      "100%|█████████████████████████████████████████| 191/191 [00:18<00:00, 10.47it/s]\n"
     ]
    },
    {
     "name": "stdout",
     "output_type": "stream",
     "text": [
      "Done.\n",
      "threshold :  0.28\n",
      "#Murmur scores\n",
      "AUROC,AUPRC,F-measure,Accuracy,Weighted Accuracy,Cost\n",
      "0.635,0.492,0.432,0.775,0.518,23405.090\n",
      "\n",
      "#Outcome scores\n",
      "AUROC,AUPRC,F-measure,Accuracy,Weighted Accuracy,Cost\n",
      "0.575,0.604,0.585,0.607,0.446,18187.891\n",
      "\n",
      "#Murmur scores (per class)\n",
      "Classes,Present,Unknown,Absent\n",
      "AUROC,0.728,0.500,0.678\n",
      "AUPRC,0.567,0.073,0.837\n",
      "F-measure,0.431,0.000,0.864\n",
      "Accuracy,0.289,0.000,0.986\n",
      "\n",
      "#Outcome scores (per class)\n",
      "Classes,Abnormal,Normal\n",
      "AUROC,0.576,0.575\n",
      "AUPRC,0.660,0.548\n",
      "F-measure,0.490,0.681\n",
      "Accuracy,0.367,0.860\n",
      "Loading Challenge model...\n",
      "Running model on Challenge data...\n"
     ]
    },
    {
     "name": "stderr",
     "output_type": "stream",
     "text": [
      "100%|█████████████████████████████████████████| 191/191 [00:18<00:00, 10.21it/s]\n"
     ]
    },
    {
     "name": "stdout",
     "output_type": "stream",
     "text": [
      "Done.\n",
      "threshold :  0.31\n",
      "#Murmur scores\n",
      "AUROC,AUPRC,F-measure,Accuracy,Weighted Accuracy,Cost\n",
      "0.635,0.492,0.432,0.775,0.518,23405.090\n",
      "\n",
      "#Outcome scores\n",
      "AUROC,AUPRC,F-measure,Accuracy,Weighted Accuracy,Cost\n",
      "0.575,0.604,0.585,0.607,0.446,18187.891\n",
      "\n",
      "#Murmur scores (per class)\n",
      "Classes,Present,Unknown,Absent\n",
      "AUROC,0.728,0.500,0.678\n",
      "AUPRC,0.567,0.073,0.837\n",
      "F-measure,0.431,0.000,0.864\n",
      "Accuracy,0.289,0.000,0.986\n",
      "\n",
      "#Outcome scores (per class)\n",
      "Classes,Abnormal,Normal\n",
      "AUROC,0.576,0.575\n",
      "AUPRC,0.660,0.548\n",
      "F-measure,0.490,0.681\n",
      "Accuracy,0.367,0.860\n",
      "Loading Challenge model...\n",
      "Running model on Challenge data...\n"
     ]
    },
    {
     "name": "stderr",
     "output_type": "stream",
     "text": [
      "100%|█████████████████████████████████████████| 191/191 [00:23<00:00,  8.13it/s]\n"
     ]
    },
    {
     "name": "stdout",
     "output_type": "stream",
     "text": [
      "Done.\n",
      "threshold :  0.34\n",
      "#Murmur scores\n",
      "AUROC,AUPRC,F-measure,Accuracy,Weighted Accuracy,Cost\n",
      "0.635,0.492,0.432,0.775,0.518,23405.090\n",
      "\n",
      "#Outcome scores\n",
      "AUROC,AUPRC,F-measure,Accuracy,Weighted Accuracy,Cost\n",
      "0.575,0.604,0.585,0.607,0.446,18187.891\n",
      "\n",
      "#Murmur scores (per class)\n",
      "Classes,Present,Unknown,Absent\n",
      "AUROC,0.728,0.500,0.678\n",
      "AUPRC,0.567,0.073,0.837\n",
      "F-measure,0.431,0.000,0.864\n",
      "Accuracy,0.289,0.000,0.986\n",
      "\n",
      "#Outcome scores (per class)\n",
      "Classes,Abnormal,Normal\n",
      "AUROC,0.576,0.575\n",
      "AUPRC,0.660,0.548\n",
      "F-measure,0.490,0.681\n",
      "Accuracy,0.367,0.860\n",
      "Loading Challenge model...\n",
      "Running model on Challenge data...\n"
     ]
    },
    {
     "name": "stderr",
     "output_type": "stream",
     "text": [
      "100%|█████████████████████████████████████████| 191/191 [00:18<00:00, 10.23it/s]\n"
     ]
    },
    {
     "name": "stdout",
     "output_type": "stream",
     "text": [
      "Done.\n",
      "threshold :  0.37\n",
      "#Murmur scores\n",
      "AUROC,AUPRC,F-measure,Accuracy,Weighted Accuracy,Cost\n",
      "0.635,0.492,0.432,0.775,0.518,23405.090\n",
      "\n",
      "#Outcome scores\n",
      "AUROC,AUPRC,F-measure,Accuracy,Weighted Accuracy,Cost\n",
      "0.575,0.604,0.585,0.607,0.446,18187.891\n",
      "\n",
      "#Murmur scores (per class)\n",
      "Classes,Present,Unknown,Absent\n",
      "AUROC,0.728,0.500,0.678\n",
      "AUPRC,0.567,0.073,0.837\n",
      "F-measure,0.431,0.000,0.864\n",
      "Accuracy,0.289,0.000,0.986\n",
      "\n",
      "#Outcome scores (per class)\n",
      "Classes,Abnormal,Normal\n",
      "AUROC,0.576,0.575\n",
      "AUPRC,0.660,0.548\n",
      "F-measure,0.490,0.681\n",
      "Accuracy,0.367,0.860\n",
      "Loading Challenge model...\n",
      "Running model on Challenge data...\n"
     ]
    },
    {
     "name": "stderr",
     "output_type": "stream",
     "text": [
      "100%|█████████████████████████████████████████| 191/191 [00:18<00:00, 10.17it/s]\n"
     ]
    },
    {
     "name": "stdout",
     "output_type": "stream",
     "text": [
      "Done.\n",
      "threshold :  0.4\n",
      "#Murmur scores\n",
      "AUROC,AUPRC,F-measure,Accuracy,Weighted Accuracy,Cost\n",
      "0.635,0.492,0.432,0.775,0.518,23405.090\n",
      "\n",
      "#Outcome scores\n",
      "AUROC,AUPRC,F-measure,Accuracy,Weighted Accuracy,Cost\n",
      "0.575,0.604,0.585,0.607,0.446,18187.891\n",
      "\n",
      "#Murmur scores (per class)\n",
      "Classes,Present,Unknown,Absent\n",
      "AUROC,0.728,0.500,0.678\n",
      "AUPRC,0.567,0.073,0.837\n",
      "F-measure,0.431,0.000,0.864\n",
      "Accuracy,0.289,0.000,0.986\n",
      "\n",
      "#Outcome scores (per class)\n",
      "Classes,Abnormal,Normal\n",
      "AUROC,0.576,0.575\n",
      "AUPRC,0.660,0.548\n",
      "F-measure,0.490,0.681\n",
      "Accuracy,0.367,0.860\n",
      "Loading Challenge model...\n",
      "Running model on Challenge data...\n"
     ]
    },
    {
     "name": "stderr",
     "output_type": "stream",
     "text": [
      "100%|█████████████████████████████████████████| 191/191 [00:21<00:00,  9.08it/s]\n"
     ]
    },
    {
     "name": "stdout",
     "output_type": "stream",
     "text": [
      "Done.\n",
      "threshold :  0.43\n",
      "#Murmur scores\n",
      "AUROC,AUPRC,F-measure,Accuracy,Weighted Accuracy,Cost\n",
      "0.635,0.492,0.432,0.775,0.518,23405.090\n",
      "\n",
      "#Outcome scores\n",
      "AUROC,AUPRC,F-measure,Accuracy,Weighted Accuracy,Cost\n",
      "0.575,0.604,0.585,0.607,0.446,18187.891\n",
      "\n",
      "#Murmur scores (per class)\n",
      "Classes,Present,Unknown,Absent\n",
      "AUROC,0.728,0.500,0.678\n",
      "AUPRC,0.567,0.073,0.837\n",
      "F-measure,0.431,0.000,0.864\n",
      "Accuracy,0.289,0.000,0.986\n",
      "\n",
      "#Outcome scores (per class)\n",
      "Classes,Abnormal,Normal\n",
      "AUROC,0.576,0.575\n",
      "AUPRC,0.660,0.548\n",
      "F-measure,0.490,0.681\n",
      "Accuracy,0.367,0.860\n",
      "Loading Challenge model...\n",
      "Running model on Challenge data...\n"
     ]
    },
    {
     "name": "stderr",
     "output_type": "stream",
     "text": [
      "100%|█████████████████████████████████████████| 191/191 [00:23<00:00,  8.05it/s]\n"
     ]
    },
    {
     "name": "stdout",
     "output_type": "stream",
     "text": [
      "Done.\n",
      "threshold :  0.46\n",
      "#Murmur scores\n",
      "AUROC,AUPRC,F-measure,Accuracy,Weighted Accuracy,Cost\n",
      "0.635,0.492,0.432,0.775,0.518,23405.090\n",
      "\n",
      "#Outcome scores\n",
      "AUROC,AUPRC,F-measure,Accuracy,Weighted Accuracy,Cost\n",
      "0.575,0.604,0.585,0.607,0.446,18187.891\n",
      "\n",
      "#Murmur scores (per class)\n",
      "Classes,Present,Unknown,Absent\n",
      "AUROC,0.728,0.500,0.678\n",
      "AUPRC,0.567,0.073,0.837\n",
      "F-measure,0.431,0.000,0.864\n",
      "Accuracy,0.289,0.000,0.986\n",
      "\n",
      "#Outcome scores (per class)\n",
      "Classes,Abnormal,Normal\n",
      "AUROC,0.576,0.575\n",
      "AUPRC,0.660,0.548\n",
      "F-measure,0.490,0.681\n",
      "Accuracy,0.367,0.860\n",
      "Loading Challenge model...\n",
      "Running model on Challenge data...\n"
     ]
    },
    {
     "name": "stderr",
     "output_type": "stream",
     "text": [
      "100%|█████████████████████████████████████████| 191/191 [00:18<00:00, 10.21it/s]\n"
     ]
    },
    {
     "name": "stdout",
     "output_type": "stream",
     "text": [
      "Done.\n",
      "threshold :  0.49\n",
      "#Murmur scores\n",
      "AUROC,AUPRC,F-measure,Accuracy,Weighted Accuracy,Cost\n",
      "0.635,0.492,0.432,0.775,0.518,23405.090\n",
      "\n",
      "#Outcome scores\n",
      "AUROC,AUPRC,F-measure,Accuracy,Weighted Accuracy,Cost\n",
      "0.575,0.604,0.585,0.607,0.446,18187.891\n",
      "\n",
      "#Murmur scores (per class)\n",
      "Classes,Present,Unknown,Absent\n",
      "AUROC,0.728,0.500,0.678\n",
      "AUPRC,0.567,0.073,0.837\n",
      "F-measure,0.431,0.000,0.864\n",
      "Accuracy,0.289,0.000,0.986\n",
      "\n",
      "#Outcome scores (per class)\n",
      "Classes,Abnormal,Normal\n",
      "AUROC,0.576,0.575\n",
      "AUPRC,0.660,0.548\n",
      "F-measure,0.490,0.681\n",
      "Accuracy,0.367,0.860\n",
      "Loading Challenge model...\n",
      "Running model on Challenge data...\n"
     ]
    },
    {
     "name": "stderr",
     "output_type": "stream",
     "text": [
      "100%|█████████████████████████████████████████| 191/191 [00:18<00:00, 10.08it/s]\n"
     ]
    },
    {
     "name": "stdout",
     "output_type": "stream",
     "text": [
      "Done.\n",
      "threshold :  0.52\n",
      "#Murmur scores\n",
      "AUROC,AUPRC,F-measure,Accuracy,Weighted Accuracy,Cost\n",
      "0.635,0.492,0.432,0.775,0.518,23405.090\n",
      "\n",
      "#Outcome scores\n",
      "AUROC,AUPRC,F-measure,Accuracy,Weighted Accuracy,Cost\n",
      "0.575,0.604,0.585,0.607,0.446,18187.891\n",
      "\n",
      "#Murmur scores (per class)\n",
      "Classes,Present,Unknown,Absent\n",
      "AUROC,0.728,0.500,0.678\n",
      "AUPRC,0.567,0.073,0.837\n",
      "F-measure,0.431,0.000,0.864\n",
      "Accuracy,0.289,0.000,0.986\n",
      "\n",
      "#Outcome scores (per class)\n",
      "Classes,Abnormal,Normal\n",
      "AUROC,0.576,0.575\n",
      "AUPRC,0.660,0.548\n",
      "F-measure,0.490,0.681\n",
      "Accuracy,0.367,0.860\n",
      "Loading Challenge model...\n",
      "Running model on Challenge data...\n"
     ]
    },
    {
     "name": "stderr",
     "output_type": "stream",
     "text": [
      "100%|█████████████████████████████████████████| 191/191 [00:18<00:00, 10.27it/s]\n"
     ]
    },
    {
     "name": "stdout",
     "output_type": "stream",
     "text": [
      "Done.\n",
      "threshold :  0.55\n",
      "#Murmur scores\n",
      "AUROC,AUPRC,F-measure,Accuracy,Weighted Accuracy,Cost\n",
      "0.635,0.492,0.432,0.775,0.518,23405.090\n",
      "\n",
      "#Outcome scores\n",
      "AUROC,AUPRC,F-measure,Accuracy,Weighted Accuracy,Cost\n",
      "0.575,0.604,0.585,0.607,0.446,18187.891\n",
      "\n",
      "#Murmur scores (per class)\n",
      "Classes,Present,Unknown,Absent\n",
      "AUROC,0.728,0.500,0.678\n",
      "AUPRC,0.567,0.073,0.837\n",
      "F-measure,0.431,0.000,0.864\n",
      "Accuracy,0.289,0.000,0.986\n",
      "\n",
      "#Outcome scores (per class)\n",
      "Classes,Abnormal,Normal\n",
      "AUROC,0.576,0.575\n",
      "AUPRC,0.660,0.548\n",
      "F-measure,0.490,0.681\n",
      "Accuracy,0.367,0.860\n",
      "Loading Challenge model...\n",
      "Running model on Challenge data...\n"
     ]
    },
    {
     "name": "stderr",
     "output_type": "stream",
     "text": [
      "100%|█████████████████████████████████████████| 191/191 [00:23<00:00,  7.97it/s]\n"
     ]
    },
    {
     "name": "stdout",
     "output_type": "stream",
     "text": [
      "Done.\n",
      "threshold :  0.58\n",
      "#Murmur scores\n",
      "AUROC,AUPRC,F-measure,Accuracy,Weighted Accuracy,Cost\n",
      "0.635,0.492,0.432,0.775,0.518,23405.090\n",
      "\n",
      "#Outcome scores\n",
      "AUROC,AUPRC,F-measure,Accuracy,Weighted Accuracy,Cost\n",
      "0.575,0.604,0.585,0.607,0.446,18187.891\n",
      "\n",
      "#Murmur scores (per class)\n",
      "Classes,Present,Unknown,Absent\n",
      "AUROC,0.728,0.500,0.678\n",
      "AUPRC,0.567,0.073,0.837\n",
      "F-measure,0.431,0.000,0.864\n",
      "Accuracy,0.289,0.000,0.986\n",
      "\n",
      "#Outcome scores (per class)\n",
      "Classes,Abnormal,Normal\n",
      "AUROC,0.576,0.575\n",
      "AUPRC,0.660,0.548\n",
      "F-measure,0.490,0.681\n",
      "Accuracy,0.367,0.860\n",
      "Loading Challenge model...\n",
      "Running model on Challenge data...\n"
     ]
    },
    {
     "name": "stderr",
     "output_type": "stream",
     "text": [
      "100%|█████████████████████████████████████████| 191/191 [00:19<00:00,  9.88it/s]\n"
     ]
    },
    {
     "name": "stdout",
     "output_type": "stream",
     "text": [
      "Done.\n",
      "threshold :  0.61\n",
      "#Murmur scores\n",
      "AUROC,AUPRC,F-measure,Accuracy,Weighted Accuracy,Cost\n",
      "0.635,0.492,0.432,0.775,0.518,23405.090\n",
      "\n",
      "#Outcome scores\n",
      "AUROC,AUPRC,F-measure,Accuracy,Weighted Accuracy,Cost\n",
      "0.575,0.604,0.585,0.607,0.446,18187.891\n",
      "\n",
      "#Murmur scores (per class)\n",
      "Classes,Present,Unknown,Absent\n",
      "AUROC,0.728,0.500,0.678\n",
      "AUPRC,0.567,0.073,0.837\n",
      "F-measure,0.431,0.000,0.864\n",
      "Accuracy,0.289,0.000,0.986\n",
      "\n",
      "#Outcome scores (per class)\n",
      "Classes,Abnormal,Normal\n",
      "AUROC,0.576,0.575\n",
      "AUPRC,0.660,0.548\n",
      "F-measure,0.490,0.681\n",
      "Accuracy,0.367,0.860\n",
      "Loading Challenge model...\n",
      "Running model on Challenge data...\n"
     ]
    },
    {
     "name": "stderr",
     "output_type": "stream",
     "text": [
      "100%|█████████████████████████████████████████| 191/191 [00:18<00:00, 10.08it/s]\n"
     ]
    },
    {
     "name": "stdout",
     "output_type": "stream",
     "text": [
      "Done.\n",
      "threshold :  0.64\n",
      "#Murmur scores\n",
      "AUROC,AUPRC,F-measure,Accuracy,Weighted Accuracy,Cost\n",
      "0.635,0.492,0.432,0.775,0.518,23405.090\n",
      "\n",
      "#Outcome scores\n",
      "AUROC,AUPRC,F-measure,Accuracy,Weighted Accuracy,Cost\n",
      "0.575,0.604,0.585,0.607,0.446,18187.891\n",
      "\n",
      "#Murmur scores (per class)\n",
      "Classes,Present,Unknown,Absent\n",
      "AUROC,0.728,0.500,0.678\n",
      "AUPRC,0.567,0.073,0.837\n",
      "F-measure,0.431,0.000,0.864\n",
      "Accuracy,0.289,0.000,0.986\n",
      "\n",
      "#Outcome scores (per class)\n",
      "Classes,Abnormal,Normal\n",
      "AUROC,0.576,0.575\n",
      "AUPRC,0.660,0.548\n",
      "F-measure,0.490,0.681\n",
      "Accuracy,0.367,0.860\n",
      "Loading Challenge model...\n",
      "Running model on Challenge data...\n"
     ]
    },
    {
     "name": "stderr",
     "output_type": "stream",
     "text": [
      "100%|█████████████████████████████████████████| 191/191 [00:19<00:00, 10.01it/s]\n"
     ]
    },
    {
     "name": "stdout",
     "output_type": "stream",
     "text": [
      "Done.\n",
      "threshold :  0.67\n",
      "#Murmur scores\n",
      "AUROC,AUPRC,F-measure,Accuracy,Weighted Accuracy,Cost\n",
      "0.635,0.492,0.432,0.775,0.518,23405.090\n",
      "\n",
      "#Outcome scores\n",
      "AUROC,AUPRC,F-measure,Accuracy,Weighted Accuracy,Cost\n",
      "0.575,0.604,0.585,0.607,0.446,18187.891\n",
      "\n",
      "#Murmur scores (per class)\n",
      "Classes,Present,Unknown,Absent\n",
      "AUROC,0.728,0.500,0.678\n",
      "AUPRC,0.567,0.073,0.837\n",
      "F-measure,0.431,0.000,0.864\n",
      "Accuracy,0.289,0.000,0.986\n",
      "\n",
      "#Outcome scores (per class)\n",
      "Classes,Abnormal,Normal\n",
      "AUROC,0.576,0.575\n",
      "AUPRC,0.660,0.548\n",
      "F-measure,0.490,0.681\n",
      "Accuracy,0.367,0.860\n"
     ]
    }
   ],
   "source": [
    "import time\n",
    "a = list(range(10,70,3))\n",
    "for t in a :\n",
    "    run_models(model_folder, dev_folder, output_folder, allow_failures, verbose,thres = t/100)\n",
    "    time.sleep(2)\n",
    "    print('threshold : ',t/100)\n",
    "    !python evaluate_model.py /Data1/physionet/data_split/murmur/test w2v2_output_frz scores_w2v2_frz.csv\n",
    "    !cat scores_w2v2_frz.csv"
   ]
  },
  {
   "cell_type": "code",
   "execution_count": null,
   "id": "eb3732b9",
   "metadata": {},
   "outputs": [],
   "source": []
  },
  {
   "cell_type": "code",
   "execution_count": null,
   "id": "4f124d71",
   "metadata": {},
   "outputs": [],
   "source": []
  },
  {
   "cell_type": "code",
   "execution_count": null,
   "id": "f20e15ef",
   "metadata": {},
   "outputs": [],
   "source": []
  },
  {
   "cell_type": "code",
   "execution_count": null,
   "id": "8d55678e",
   "metadata": {},
   "outputs": [],
   "source": []
  },
  {
   "cell_type": "code",
   "execution_count": null,
   "id": "61c53974",
   "metadata": {},
   "outputs": [],
   "source": []
  }
 ],
 "metadata": {
  "kernelspec": {
   "display_name": "Python 3 (ipykernel)",
   "language": "python",
   "name": "python3"
  },
  "language_info": {
   "codemirror_mode": {
    "name": "ipython",
    "version": 3
   },
   "file_extension": ".py",
   "mimetype": "text/x-python",
   "name": "python",
   "nbconvert_exporter": "python",
   "pygments_lexer": "ipython3",
   "version": "3.8.8"
  }
 },
 "nbformat": 4,
 "nbformat_minor": 5
}
