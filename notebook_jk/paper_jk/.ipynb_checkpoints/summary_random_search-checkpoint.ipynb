{
 "cells": [
  {
   "cell_type": "code",
   "execution_count": 30,
   "id": "669cf35c",
   "metadata": {},
   "outputs": [],
   "source": [
    "import numpy as np\n",
    "\n",
    "import os\n",
    "import pandas as pd\n",
    "import pickle\n",
    "\n",
    "reslist = ['res16/'+fnm for fnm in os.listdir('res16/')]\n",
    "\n",
    "data = []\n",
    "allkeys = []\n",
    "for i in range(len(reslist)) :\n",
    "    with open(reslist[i], 'rb') as f:\n",
    "        data1 = pickle.load(f)\n",
    "    data.append(data1)\n",
    "    allkeys += data1.keys()\n",
    "\n",
    "allkeys = list(set(allkeys))\n",
    "\n",
    "newlist = {}\n",
    "for i in range(len(data)) :\n",
    "    if i == 0 :\n",
    "        for k1 in allkeys :\n",
    "            try :\n",
    "                newlist[k1] = [ data[i][k1] ]\n",
    "            except :\n",
    "                newlist[k1] = [-999]\n",
    "    else :\n",
    "        for k1 in allkeys :\n",
    "            try :\n",
    "                newlist[k1].append(data[i][k1])\n",
    "            except :\n",
    "                newlist[k1].append(-999)\n",
    "\n",
    "df1 = pd.DataFrame(newlist)\n",
    "\n",
    "df1[df1.use_mel == True][df1.samp_sec==20][['min_cost', 'min_th', 'max_wc','max_th','mm_weighted_accuracy', 'out_cost']]\n",
    "\n",
    "# df1[df1.use_mel == True][df1.samp_sec==30][['min_cost', 'min_th', 'max_wc','max_th','mm_weighted_accuracy', 'out_cost']]\n",
    "\n",
    "# df1[df1.use_mel == True][df1.samp_sec==40][['min_cost', 'min_th', 'max_wc','max_th','mm_weighted_accuracy', 'out_cost']]\n",
    "\n",
    "\n",
    "df1.to_csv(\"res.csv\")"
   ]
  },
  {
   "cell_type": "code",
   "execution_count": 31,
   "id": "9fb479e6",
   "metadata": {},
   "outputs": [
    {
     "data": {
      "text/plain": [
       "Index(['use_cqt', 'ext', 'mm_weight', 'out_cost', 'min_th', 'dp', 'stft_shape',\n",
       "       'pre_emphasis', 'use_rr', 'model1', 'use_mel', 'ord1', 'model_fnm2',\n",
       "       'min_cost', 'cout', 'filter_scale', 'win_length', 'model2', 'use_stft',\n",
       "       'mel_shape', 'wunknown', 'mm_mean', 'max_th', 'oo_weight', 'fc', 'trim',\n",
       "       'n1', 'samp_sec', 'model_fnm1', 'mixup', 'n_bins', 'cqt_shape',\n",
       "       'hop_length', 'fmin', 'max_wc', 'ext2', 'chaug', 'n_mels',\n",
       "       'mm_weighted_accuracy'],\n",
       "      dtype='object')"
      ]
     },
     "execution_count": 31,
     "metadata": {},
     "output_type": "execute_result"
    }
   ],
   "source": [
    "df1.columns"
   ]
  },
  {
   "cell_type": "code",
   "execution_count": 32,
   "id": "3ba9168b",
   "metadata": {},
   "outputs": [
    {
     "data": {
      "text/html": [
       "<div>\n",
       "<style scoped>\n",
       "    .dataframe tbody tr th:only-of-type {\n",
       "        vertical-align: middle;\n",
       "    }\n",
       "\n",
       "    .dataframe tbody tr th {\n",
       "        vertical-align: top;\n",
       "    }\n",
       "\n",
       "    .dataframe thead th {\n",
       "        text-align: right;\n",
       "    }\n",
       "</style>\n",
       "<table border=\"1\" class=\"dataframe\">\n",
       "  <thead>\n",
       "    <tr style=\"text-align: right;\">\n",
       "      <th></th>\n",
       "      <th>min_cost</th>\n",
       "      <th>min_th</th>\n",
       "      <th>max_wc</th>\n",
       "      <th>max_th</th>\n",
       "      <th>mm_weighted_accuracy</th>\n",
       "      <th>out_cost</th>\n",
       "    </tr>\n",
       "  </thead>\n",
       "  <tbody>\n",
       "    <tr>\n",
       "      <th>0</th>\n",
       "      <td>10267.342984</td>\n",
       "      <td>0.61</td>\n",
       "      <td>0.789757</td>\n",
       "      <td>0.48</td>\n",
       "      <td>0.760108</td>\n",
       "      <td>14496.255505</td>\n",
       "    </tr>\n",
       "    <tr>\n",
       "      <th>1</th>\n",
       "      <td>11140.589292</td>\n",
       "      <td>0.60</td>\n",
       "      <td>0.795148</td>\n",
       "      <td>0.48</td>\n",
       "      <td>0.776280</td>\n",
       "      <td>15125.620581</td>\n",
       "    </tr>\n",
       "    <tr>\n",
       "      <th>2</th>\n",
       "      <td>10835.193085</td>\n",
       "      <td>0.60</td>\n",
       "      <td>0.789757</td>\n",
       "      <td>0.59</td>\n",
       "      <td>0.760108</td>\n",
       "      <td>14090.184785</td>\n",
       "    </tr>\n",
       "    <tr>\n",
       "      <th>3</th>\n",
       "      <td>11437.500518</td>\n",
       "      <td>0.57</td>\n",
       "      <td>0.792453</td>\n",
       "      <td>0.48</td>\n",
       "      <td>0.768194</td>\n",
       "      <td>14299.608869</td>\n",
       "    </tr>\n",
       "    <tr>\n",
       "      <th>4</th>\n",
       "      <td>10899.282270</td>\n",
       "      <td>0.63</td>\n",
       "      <td>0.800539</td>\n",
       "      <td>0.49</td>\n",
       "      <td>0.787062</td>\n",
       "      <td>14916.196498</td>\n",
       "    </tr>\n",
       "    <tr>\n",
       "      <th>5</th>\n",
       "      <td>11161.087584</td>\n",
       "      <td>0.60</td>\n",
       "      <td>0.797844</td>\n",
       "      <td>0.50</td>\n",
       "      <td>0.797844</td>\n",
       "      <td>15131.463961</td>\n",
       "    </tr>\n",
       "  </tbody>\n",
       "</table>\n",
       "</div>"
      ],
      "text/plain": [
       "       min_cost  min_th    max_wc  max_th  mm_weighted_accuracy      out_cost\n",
       "0  10267.342984    0.61  0.789757    0.48              0.760108  14496.255505\n",
       "1  11140.589292    0.60  0.795148    0.48              0.776280  15125.620581\n",
       "2  10835.193085    0.60  0.789757    0.59              0.760108  14090.184785\n",
       "3  11437.500518    0.57  0.792453    0.48              0.768194  14299.608869\n",
       "4  10899.282270    0.63  0.800539    0.49              0.787062  14916.196498\n",
       "5  11161.087584    0.60  0.797844    0.50              0.797844  15131.463961"
      ]
     },
     "execution_count": 32,
     "metadata": {},
     "output_type": "execute_result"
    }
   ],
   "source": [
    "df1[df1.use_mel == True][df1.samp_sec==20][['min_cost', 'min_th', 'max_wc','max_th','mm_weighted_accuracy', 'out_cost']]"
   ]
  },
  {
   "cell_type": "code",
   "execution_count": 33,
   "id": "bf360693",
   "metadata": {},
   "outputs": [
    {
     "data": {
      "text/html": [
       "<div>\n",
       "<style scoped>\n",
       "    .dataframe tbody tr th:only-of-type {\n",
       "        vertical-align: middle;\n",
       "    }\n",
       "\n",
       "    .dataframe tbody tr th {\n",
       "        vertical-align: top;\n",
       "    }\n",
       "\n",
       "    .dataframe thead th {\n",
       "        text-align: right;\n",
       "    }\n",
       "</style>\n",
       "<table border=\"1\" class=\"dataframe\">\n",
       "  <thead>\n",
       "    <tr style=\"text-align: right;\">\n",
       "      <th></th>\n",
       "      <th>min_cost</th>\n",
       "      <th>min_th</th>\n",
       "      <th>max_wc</th>\n",
       "      <th>max_th</th>\n",
       "      <th>mm_weighted_accuracy</th>\n",
       "      <th>out_cost</th>\n",
       "    </tr>\n",
       "    <tr>\n",
       "      <th>ext2</th>\n",
       "      <th></th>\n",
       "      <th></th>\n",
       "      <th></th>\n",
       "      <th></th>\n",
       "      <th></th>\n",
       "      <th></th>\n",
       "    </tr>\n",
       "  </thead>\n",
       "  <tbody>\n",
       "    <tr>\n",
       "      <th>False</th>\n",
       "      <td>10754.541218</td>\n",
       "      <td>0.603333</td>\n",
       "      <td>0.792453</td>\n",
       "      <td>0.523333</td>\n",
       "      <td>0.772686</td>\n",
       "      <td>14572.634750</td>\n",
       "    </tr>\n",
       "    <tr>\n",
       "      <th>True</th>\n",
       "      <td>11159.124027</td>\n",
       "      <td>0.600000</td>\n",
       "      <td>0.796047</td>\n",
       "      <td>0.483333</td>\n",
       "      <td>0.777179</td>\n",
       "      <td>14780.475316</td>\n",
       "    </tr>\n",
       "  </tbody>\n",
       "</table>\n",
       "</div>"
      ],
      "text/plain": [
       "           min_cost    min_th    max_wc    max_th  mm_weighted_accuracy  \\\n",
       "ext2                                                                      \n",
       "False  10754.541218  0.603333  0.792453  0.523333              0.772686   \n",
       "True   11159.124027  0.600000  0.796047  0.483333              0.777179   \n",
       "\n",
       "           out_cost  \n",
       "ext2                 \n",
       "False  14572.634750  \n",
       "True   14780.475316  "
      ]
     },
     "execution_count": 33,
     "metadata": {},
     "output_type": "execute_result"
    }
   ],
   "source": [
    "df1[df1.use_mel == True][df1.model1=='lcnn1_dr_rr'][df1.samp_sec==20].groupby('ext2').mean()[['min_cost', 'min_th', 'max_wc','max_th','mm_weighted_accuracy', 'out_cost']]"
   ]
  },
  {
   "cell_type": "code",
   "execution_count": null,
   "id": "d0c68ffb",
   "metadata": {},
   "outputs": [],
   "source": []
  },
  {
   "cell_type": "code",
   "execution_count": null,
   "id": "89637bda",
   "metadata": {},
   "outputs": [],
   "source": []
  },
  {
   "cell_type": "code",
   "execution_count": null,
   "id": "08360cd6",
   "metadata": {},
   "outputs": [],
   "source": []
  },
  {
   "cell_type": "code",
   "execution_count": null,
   "id": "ef1db676",
   "metadata": {},
   "outputs": [],
   "source": []
  },
  {
   "cell_type": "code",
   "execution_count": null,
   "id": "4bc51e7f",
   "metadata": {},
   "outputs": [],
   "source": []
  },
  {
   "cell_type": "code",
   "execution_count": 29,
   "id": "eb4bfc87",
   "metadata": {},
   "outputs": [
    {
     "data": {
      "text/html": [
       "<div>\n",
       "<style scoped>\n",
       "    .dataframe tbody tr th:only-of-type {\n",
       "        vertical-align: middle;\n",
       "    }\n",
       "\n",
       "    .dataframe tbody tr th {\n",
       "        vertical-align: top;\n",
       "    }\n",
       "\n",
       "    .dataframe thead th {\n",
       "        text-align: right;\n",
       "    }\n",
       "</style>\n",
       "<table border=\"1\" class=\"dataframe\">\n",
       "  <thead>\n",
       "    <tr style=\"text-align: right;\">\n",
       "      <th></th>\n",
       "      <th>use_cqt</th>\n",
       "      <th>ext</th>\n",
       "      <th>mm_weight</th>\n",
       "      <th>out_cost</th>\n",
       "      <th>min_th</th>\n",
       "      <th>dp</th>\n",
       "      <th>stft_shape</th>\n",
       "      <th>pre_emphasis</th>\n",
       "      <th>use_rr</th>\n",
       "      <th>model1</th>\n",
       "      <th>...</th>\n",
       "      <th>mixup</th>\n",
       "      <th>n_bins</th>\n",
       "      <th>cqt_shape</th>\n",
       "      <th>hop_length</th>\n",
       "      <th>fmin</th>\n",
       "      <th>max_wc</th>\n",
       "      <th>chaug</th>\n",
       "      <th>ext2</th>\n",
       "      <th>n_mels</th>\n",
       "      <th>mm_weighted_accuracy</th>\n",
       "    </tr>\n",
       "  </thead>\n",
       "  <tbody>\n",
       "  </tbody>\n",
       "</table>\n",
       "<p>0 rows × 39 columns</p>\n",
       "</div>"
      ],
      "text/plain": [
       "Empty DataFrame\n",
       "Columns: [use_cqt, ext, mm_weight, out_cost, min_th, dp, stft_shape, pre_emphasis, use_rr, model1, use_mel, ord1, model_fnm2, min_cost, cout, filter_scale, win_length, model2, use_stft, mel_shape, wunknown, mm_mean, max_th, oo_weight, fc, trim, n1, samp_sec, model_fnm1, mixup, n_bins, cqt_shape, hop_length, fmin, max_wc, chaug, ext2, n_mels, mm_weighted_accuracy]\n",
       "Index: []\n",
       "\n",
       "[0 rows x 39 columns]"
      ]
     },
     "execution_count": 29,
     "metadata": {},
     "output_type": "execute_result"
    }
   ],
   "source": [
    "df1[df1.use_mel == True][df1.samp_sec==20].groupby('ext2').mean()[['min_cost', 'min_th', 'max_wc','max_th','mm_weighted_accuracy', 'out_cost']]"
   ]
  },
  {
   "cell_type": "code",
   "execution_count": 6,
   "id": "c1b3d498",
   "metadata": {},
   "outputs": [
    {
     "name": "stderr",
     "output_type": "stream",
     "text": [
      "/tmp/ipykernel_206903/2487798206.py:1: UserWarning: Boolean Series key will be reindexed to match DataFrame index.\n",
      "  df1[df1.use_mel == True][df1.model1=='lcnn1_dr'][df1.samp_sec==20].groupby('dp').mean()[['min_cost', 'min_th', 'max_wc','max_th','mm_weighted_accuracy', 'out_cost']]\n"
     ]
    },
    {
     "data": {
      "text/html": [
       "<div>\n",
       "<style scoped>\n",
       "    .dataframe tbody tr th:only-of-type {\n",
       "        vertical-align: middle;\n",
       "    }\n",
       "\n",
       "    .dataframe tbody tr th {\n",
       "        vertical-align: top;\n",
       "    }\n",
       "\n",
       "    .dataframe thead th {\n",
       "        text-align: right;\n",
       "    }\n",
       "</style>\n",
       "<table border=\"1\" class=\"dataframe\">\n",
       "  <thead>\n",
       "    <tr style=\"text-align: right;\">\n",
       "      <th></th>\n",
       "      <th>min_cost</th>\n",
       "      <th>min_th</th>\n",
       "      <th>max_wc</th>\n",
       "      <th>max_th</th>\n",
       "      <th>mm_weighted_accuracy</th>\n",
       "      <th>out_cost</th>\n",
       "    </tr>\n",
       "    <tr>\n",
       "      <th>dp</th>\n",
       "      <th></th>\n",
       "      <th></th>\n",
       "      <th></th>\n",
       "      <th></th>\n",
       "      <th></th>\n",
       "      <th></th>\n",
       "    </tr>\n",
       "  </thead>\n",
       "  <tbody>\n",
       "  </tbody>\n",
       "</table>\n",
       "</div>"
      ],
      "text/plain": [
       "Empty DataFrame\n",
       "Columns: [min_cost, min_th, max_wc, max_th, mm_weighted_accuracy, out_cost]\n",
       "Index: []"
      ]
     },
     "execution_count": 6,
     "metadata": {},
     "output_type": "execute_result"
    }
   ],
   "source": [
    "df1[df1.use_mel == True][df1.model1=='lcnn1_dr'][df1.samp_sec==20].groupby('dp').mean()[['min_cost', 'min_th', 'max_wc','max_th','mm_weighted_accuracy', 'out_cost']]"
   ]
  },
  {
   "cell_type": "code",
   "execution_count": 7,
   "id": "be25477d",
   "metadata": {},
   "outputs": [
    {
     "name": "stderr",
     "output_type": "stream",
     "text": [
      "/tmp/ipykernel_206903/4208191679.py:1: UserWarning: Boolean Series key will be reindexed to match DataFrame index.\n",
      "  df1[df1.use_mel == True][df1.model1=='lcnn1_dr'][df1.samp_sec==20].groupby('win_length').mean()[['min_cost', 'min_th', 'max_wc','max_th','mm_weighted_accuracy', 'out_cost']]\n"
     ]
    },
    {
     "data": {
      "text/html": [
       "<div>\n",
       "<style scoped>\n",
       "    .dataframe tbody tr th:only-of-type {\n",
       "        vertical-align: middle;\n",
       "    }\n",
       "\n",
       "    .dataframe tbody tr th {\n",
       "        vertical-align: top;\n",
       "    }\n",
       "\n",
       "    .dataframe thead th {\n",
       "        text-align: right;\n",
       "    }\n",
       "</style>\n",
       "<table border=\"1\" class=\"dataframe\">\n",
       "  <thead>\n",
       "    <tr style=\"text-align: right;\">\n",
       "      <th></th>\n",
       "      <th>min_cost</th>\n",
       "      <th>min_th</th>\n",
       "      <th>max_wc</th>\n",
       "      <th>max_th</th>\n",
       "      <th>mm_weighted_accuracy</th>\n",
       "      <th>out_cost</th>\n",
       "    </tr>\n",
       "    <tr>\n",
       "      <th>win_length</th>\n",
       "      <th></th>\n",
       "      <th></th>\n",
       "      <th></th>\n",
       "      <th></th>\n",
       "      <th></th>\n",
       "      <th></th>\n",
       "    </tr>\n",
       "  </thead>\n",
       "  <tbody>\n",
       "  </tbody>\n",
       "</table>\n",
       "</div>"
      ],
      "text/plain": [
       "Empty DataFrame\n",
       "Columns: [min_cost, min_th, max_wc, max_th, mm_weighted_accuracy, out_cost]\n",
       "Index: []"
      ]
     },
     "execution_count": 7,
     "metadata": {},
     "output_type": "execute_result"
    }
   ],
   "source": [
    "df1[df1.use_mel == True][df1.model1=='lcnn1_dr'][df1.samp_sec==20].groupby('win_length').mean()[['min_cost', 'min_th', 'max_wc','max_th','mm_weighted_accuracy', 'out_cost']]"
   ]
  },
  {
   "cell_type": "code",
   "execution_count": 8,
   "id": "7cf71901",
   "metadata": {},
   "outputs": [
    {
     "name": "stderr",
     "output_type": "stream",
     "text": [
      "/tmp/ipykernel_206903/3418545181.py:1: UserWarning: Boolean Series key will be reindexed to match DataFrame index.\n",
      "  df1[df1.use_mel == True][df1.model1=='lcnn1_dr'][df1.samp_sec==20].groupby('use_cqt').mean()[['min_cost', 'min_th', 'max_wc','max_th','mm_weighted_accuracy', 'out_cost']]\n"
     ]
    },
    {
     "data": {
      "text/html": [
       "<div>\n",
       "<style scoped>\n",
       "    .dataframe tbody tr th:only-of-type {\n",
       "        vertical-align: middle;\n",
       "    }\n",
       "\n",
       "    .dataframe tbody tr th {\n",
       "        vertical-align: top;\n",
       "    }\n",
       "\n",
       "    .dataframe thead th {\n",
       "        text-align: right;\n",
       "    }\n",
       "</style>\n",
       "<table border=\"1\" class=\"dataframe\">\n",
       "  <thead>\n",
       "    <tr style=\"text-align: right;\">\n",
       "      <th></th>\n",
       "      <th>min_cost</th>\n",
       "      <th>min_th</th>\n",
       "      <th>max_wc</th>\n",
       "      <th>max_th</th>\n",
       "      <th>mm_weighted_accuracy</th>\n",
       "      <th>out_cost</th>\n",
       "    </tr>\n",
       "    <tr>\n",
       "      <th>use_cqt</th>\n",
       "      <th></th>\n",
       "      <th></th>\n",
       "      <th></th>\n",
       "      <th></th>\n",
       "      <th></th>\n",
       "      <th></th>\n",
       "    </tr>\n",
       "  </thead>\n",
       "  <tbody>\n",
       "  </tbody>\n",
       "</table>\n",
       "</div>"
      ],
      "text/plain": [
       "Empty DataFrame\n",
       "Columns: [min_cost, min_th, max_wc, max_th, mm_weighted_accuracy, out_cost]\n",
       "Index: []"
      ]
     },
     "execution_count": 8,
     "metadata": {},
     "output_type": "execute_result"
    }
   ],
   "source": [
    "df1[df1.use_mel == True][df1.model1=='lcnn1_dr'][df1.samp_sec==20].groupby('use_cqt').mean()[['min_cost', 'min_th', 'max_wc','max_th','mm_weighted_accuracy', 'out_cost']]"
   ]
  },
  {
   "cell_type": "code",
   "execution_count": 9,
   "id": "6b0d0dc0",
   "metadata": {},
   "outputs": [
    {
     "name": "stderr",
     "output_type": "stream",
     "text": [
      "/tmp/ipykernel_206903/2405184312.py:1: UserWarning: Boolean Series key will be reindexed to match DataFrame index.\n",
      "  df1[df1.use_mel == True][df1.model1=='lcnn1_dr'][df1.samp_sec==20].groupby('use_stft').mean()[['min_cost', 'min_th', 'max_wc','max_th','mm_weighted_accuracy', 'out_cost']]\n"
     ]
    },
    {
     "data": {
      "text/html": [
       "<div>\n",
       "<style scoped>\n",
       "    .dataframe tbody tr th:only-of-type {\n",
       "        vertical-align: middle;\n",
       "    }\n",
       "\n",
       "    .dataframe tbody tr th {\n",
       "        vertical-align: top;\n",
       "    }\n",
       "\n",
       "    .dataframe thead th {\n",
       "        text-align: right;\n",
       "    }\n",
       "</style>\n",
       "<table border=\"1\" class=\"dataframe\">\n",
       "  <thead>\n",
       "    <tr style=\"text-align: right;\">\n",
       "      <th></th>\n",
       "      <th>min_cost</th>\n",
       "      <th>min_th</th>\n",
       "      <th>max_wc</th>\n",
       "      <th>max_th</th>\n",
       "      <th>mm_weighted_accuracy</th>\n",
       "      <th>out_cost</th>\n",
       "    </tr>\n",
       "    <tr>\n",
       "      <th>use_stft</th>\n",
       "      <th></th>\n",
       "      <th></th>\n",
       "      <th></th>\n",
       "      <th></th>\n",
       "      <th></th>\n",
       "      <th></th>\n",
       "    </tr>\n",
       "  </thead>\n",
       "  <tbody>\n",
       "  </tbody>\n",
       "</table>\n",
       "</div>"
      ],
      "text/plain": [
       "Empty DataFrame\n",
       "Columns: [min_cost, min_th, max_wc, max_th, mm_weighted_accuracy, out_cost]\n",
       "Index: []"
      ]
     },
     "execution_count": 9,
     "metadata": {},
     "output_type": "execute_result"
    }
   ],
   "source": [
    "df1[df1.use_mel == True][df1.model1=='lcnn1_dr'][df1.samp_sec==20].groupby('use_stft').mean()[['min_cost', 'min_th', 'max_wc','max_th','mm_weighted_accuracy', 'out_cost']]"
   ]
  },
  {
   "cell_type": "code",
   "execution_count": 10,
   "id": "8636b8de",
   "metadata": {},
   "outputs": [
    {
     "name": "stderr",
     "output_type": "stream",
     "text": [
      "/tmp/ipykernel_206903/1625680927.py:1: UserWarning: Boolean Series key will be reindexed to match DataFrame index.\n",
      "  df1[df1.use_mel == True][df1.model1=='lcnn1_dr'][df1.samp_sec==20].groupby('mm_mean').mean()[['min_cost', 'min_th', 'max_wc','max_th','mm_weighted_accuracy', 'out_cost']]\n"
     ]
    },
    {
     "data": {
      "text/html": [
       "<div>\n",
       "<style scoped>\n",
       "    .dataframe tbody tr th:only-of-type {\n",
       "        vertical-align: middle;\n",
       "    }\n",
       "\n",
       "    .dataframe tbody tr th {\n",
       "        vertical-align: top;\n",
       "    }\n",
       "\n",
       "    .dataframe thead th {\n",
       "        text-align: right;\n",
       "    }\n",
       "</style>\n",
       "<table border=\"1\" class=\"dataframe\">\n",
       "  <thead>\n",
       "    <tr style=\"text-align: right;\">\n",
       "      <th></th>\n",
       "      <th>min_cost</th>\n",
       "      <th>min_th</th>\n",
       "      <th>max_wc</th>\n",
       "      <th>max_th</th>\n",
       "      <th>mm_weighted_accuracy</th>\n",
       "      <th>out_cost</th>\n",
       "    </tr>\n",
       "    <tr>\n",
       "      <th>mm_mean</th>\n",
       "      <th></th>\n",
       "      <th></th>\n",
       "      <th></th>\n",
       "      <th></th>\n",
       "      <th></th>\n",
       "      <th></th>\n",
       "    </tr>\n",
       "  </thead>\n",
       "  <tbody>\n",
       "  </tbody>\n",
       "</table>\n",
       "</div>"
      ],
      "text/plain": [
       "Empty DataFrame\n",
       "Columns: [min_cost, min_th, max_wc, max_th, mm_weighted_accuracy, out_cost]\n",
       "Index: []"
      ]
     },
     "execution_count": 10,
     "metadata": {},
     "output_type": "execute_result"
    }
   ],
   "source": [
    "df1[df1.use_mel == True][df1.model1=='lcnn1_dr'][df1.samp_sec==20].groupby('mm_mean').mean()[['min_cost', 'min_th', 'max_wc','max_th','mm_weighted_accuracy', 'out_cost']]"
   ]
  },
  {
   "cell_type": "code",
   "execution_count": 11,
   "id": "105bd806",
   "metadata": {},
   "outputs": [
    {
     "name": "stderr",
     "output_type": "stream",
     "text": [
      "/tmp/ipykernel_206903/2863082002.py:1: UserWarning: Boolean Series key will be reindexed to match DataFrame index.\n",
      "  df1[df1.use_mel == True][df1.model1=='lcnn1_dr'][df1.samp_sec==20].groupby('trim').mean()[['min_cost', 'min_th', 'max_wc','max_th','mm_weighted_accuracy', 'out_cost']]\n"
     ]
    },
    {
     "data": {
      "text/html": [
       "<div>\n",
       "<style scoped>\n",
       "    .dataframe tbody tr th:only-of-type {\n",
       "        vertical-align: middle;\n",
       "    }\n",
       "\n",
       "    .dataframe tbody tr th {\n",
       "        vertical-align: top;\n",
       "    }\n",
       "\n",
       "    .dataframe thead th {\n",
       "        text-align: right;\n",
       "    }\n",
       "</style>\n",
       "<table border=\"1\" class=\"dataframe\">\n",
       "  <thead>\n",
       "    <tr style=\"text-align: right;\">\n",
       "      <th></th>\n",
       "      <th>min_cost</th>\n",
       "      <th>min_th</th>\n",
       "      <th>max_wc</th>\n",
       "      <th>max_th</th>\n",
       "      <th>mm_weighted_accuracy</th>\n",
       "      <th>out_cost</th>\n",
       "    </tr>\n",
       "    <tr>\n",
       "      <th>trim</th>\n",
       "      <th></th>\n",
       "      <th></th>\n",
       "      <th></th>\n",
       "      <th></th>\n",
       "      <th></th>\n",
       "      <th></th>\n",
       "    </tr>\n",
       "  </thead>\n",
       "  <tbody>\n",
       "  </tbody>\n",
       "</table>\n",
       "</div>"
      ],
      "text/plain": [
       "Empty DataFrame\n",
       "Columns: [min_cost, min_th, max_wc, max_th, mm_weighted_accuracy, out_cost]\n",
       "Index: []"
      ]
     },
     "execution_count": 11,
     "metadata": {},
     "output_type": "execute_result"
    }
   ],
   "source": [
    "df1[df1.use_mel == True][df1.model1=='lcnn1_dr'][df1.samp_sec==20].groupby('trim').mean()[['min_cost', 'min_th', 'max_wc','max_th','mm_weighted_accuracy', 'out_cost']]"
   ]
  },
  {
   "cell_type": "code",
   "execution_count": 12,
   "id": "60896490",
   "metadata": {},
   "outputs": [
    {
     "name": "stderr",
     "output_type": "stream",
     "text": [
      "/tmp/ipykernel_206903/1358378743.py:1: UserWarning: Boolean Series key will be reindexed to match DataFrame index.\n",
      "  df1[df1.use_mel == True][df1.model1=='lcnn1_dr'][df1.samp_sec==20].groupby('ord1').mean()[['min_cost', 'min_th', 'max_wc','max_th','mm_weighted_accuracy', 'out_cost']]\n"
     ]
    },
    {
     "data": {
      "text/html": [
       "<div>\n",
       "<style scoped>\n",
       "    .dataframe tbody tr th:only-of-type {\n",
       "        vertical-align: middle;\n",
       "    }\n",
       "\n",
       "    .dataframe tbody tr th {\n",
       "        vertical-align: top;\n",
       "    }\n",
       "\n",
       "    .dataframe thead th {\n",
       "        text-align: right;\n",
       "    }\n",
       "</style>\n",
       "<table border=\"1\" class=\"dataframe\">\n",
       "  <thead>\n",
       "    <tr style=\"text-align: right;\">\n",
       "      <th></th>\n",
       "      <th>min_cost</th>\n",
       "      <th>min_th</th>\n",
       "      <th>max_wc</th>\n",
       "      <th>max_th</th>\n",
       "      <th>mm_weighted_accuracy</th>\n",
       "      <th>out_cost</th>\n",
       "    </tr>\n",
       "    <tr>\n",
       "      <th>ord1</th>\n",
       "      <th></th>\n",
       "      <th></th>\n",
       "      <th></th>\n",
       "      <th></th>\n",
       "      <th></th>\n",
       "      <th></th>\n",
       "    </tr>\n",
       "  </thead>\n",
       "  <tbody>\n",
       "  </tbody>\n",
       "</table>\n",
       "</div>"
      ],
      "text/plain": [
       "Empty DataFrame\n",
       "Columns: [min_cost, min_th, max_wc, max_th, mm_weighted_accuracy, out_cost]\n",
       "Index: []"
      ]
     },
     "execution_count": 12,
     "metadata": {},
     "output_type": "execute_result"
    }
   ],
   "source": [
    "df1[df1.use_mel == True][df1.model1=='lcnn1_dr'][df1.samp_sec==20].groupby('ord1').mean()[['min_cost', 'min_th', 'max_wc','max_th','mm_weighted_accuracy', 'out_cost']]"
   ]
  },
  {
   "cell_type": "code",
   "execution_count": 13,
   "id": "29031fec",
   "metadata": {},
   "outputs": [
    {
     "name": "stderr",
     "output_type": "stream",
     "text": [
      "/tmp/ipykernel_206903/51337986.py:1: UserWarning: Boolean Series key will be reindexed to match DataFrame index.\n",
      "  df1[df1.use_mel == True][df1.model1=='lcnn1_dr'][df1.samp_sec==20].groupby('mm_weight').mean()[['min_cost', 'min_th', 'max_wc','max_th','mm_weighted_accuracy', 'out_cost']]\n"
     ]
    },
    {
     "data": {
      "text/html": [
       "<div>\n",
       "<style scoped>\n",
       "    .dataframe tbody tr th:only-of-type {\n",
       "        vertical-align: middle;\n",
       "    }\n",
       "\n",
       "    .dataframe tbody tr th {\n",
       "        vertical-align: top;\n",
       "    }\n",
       "\n",
       "    .dataframe thead th {\n",
       "        text-align: right;\n",
       "    }\n",
       "</style>\n",
       "<table border=\"1\" class=\"dataframe\">\n",
       "  <thead>\n",
       "    <tr style=\"text-align: right;\">\n",
       "      <th></th>\n",
       "      <th>min_cost</th>\n",
       "      <th>min_th</th>\n",
       "      <th>max_wc</th>\n",
       "      <th>max_th</th>\n",
       "      <th>mm_weighted_accuracy</th>\n",
       "      <th>out_cost</th>\n",
       "    </tr>\n",
       "    <tr>\n",
       "      <th>mm_weight</th>\n",
       "      <th></th>\n",
       "      <th></th>\n",
       "      <th></th>\n",
       "      <th></th>\n",
       "      <th></th>\n",
       "      <th></th>\n",
       "    </tr>\n",
       "  </thead>\n",
       "  <tbody>\n",
       "  </tbody>\n",
       "</table>\n",
       "</div>"
      ],
      "text/plain": [
       "Empty DataFrame\n",
       "Columns: [min_cost, min_th, max_wc, max_th, mm_weighted_accuracy, out_cost]\n",
       "Index: []"
      ]
     },
     "execution_count": 13,
     "metadata": {},
     "output_type": "execute_result"
    }
   ],
   "source": [
    "df1[df1.use_mel == True][df1.model1=='lcnn1_dr'][df1.samp_sec==20].groupby('mm_weight').mean()[['min_cost', 'min_th', 'max_wc','max_th','mm_weighted_accuracy', 'out_cost']]"
   ]
  },
  {
   "cell_type": "code",
   "execution_count": 14,
   "id": "4e3b7261",
   "metadata": {},
   "outputs": [
    {
     "name": "stderr",
     "output_type": "stream",
     "text": [
      "/tmp/ipykernel_206903/2832153405.py:1: UserWarning: Boolean Series key will be reindexed to match DataFrame index.\n",
      "  df1[df1.use_mel == True][df1.model1=='lcnn1_dr'][df1.samp_sec==20].groupby('oo_weight').mean()[['min_cost', 'min_th', 'max_wc','max_th','mm_weighted_accuracy', 'out_cost']]\n"
     ]
    },
    {
     "data": {
      "text/html": [
       "<div>\n",
       "<style scoped>\n",
       "    .dataframe tbody tr th:only-of-type {\n",
       "        vertical-align: middle;\n",
       "    }\n",
       "\n",
       "    .dataframe tbody tr th {\n",
       "        vertical-align: top;\n",
       "    }\n",
       "\n",
       "    .dataframe thead th {\n",
       "        text-align: right;\n",
       "    }\n",
       "</style>\n",
       "<table border=\"1\" class=\"dataframe\">\n",
       "  <thead>\n",
       "    <tr style=\"text-align: right;\">\n",
       "      <th></th>\n",
       "      <th>min_cost</th>\n",
       "      <th>min_th</th>\n",
       "      <th>max_wc</th>\n",
       "      <th>max_th</th>\n",
       "      <th>mm_weighted_accuracy</th>\n",
       "      <th>out_cost</th>\n",
       "    </tr>\n",
       "    <tr>\n",
       "      <th>oo_weight</th>\n",
       "      <th></th>\n",
       "      <th></th>\n",
       "      <th></th>\n",
       "      <th></th>\n",
       "      <th></th>\n",
       "      <th></th>\n",
       "    </tr>\n",
       "  </thead>\n",
       "  <tbody>\n",
       "  </tbody>\n",
       "</table>\n",
       "</div>"
      ],
      "text/plain": [
       "Empty DataFrame\n",
       "Columns: [min_cost, min_th, max_wc, max_th, mm_weighted_accuracy, out_cost]\n",
       "Index: []"
      ]
     },
     "execution_count": 14,
     "metadata": {},
     "output_type": "execute_result"
    }
   ],
   "source": [
    "df1[df1.use_mel == True][df1.model1=='lcnn1_dr'][df1.samp_sec==20].groupby('oo_weight').mean()[['min_cost', 'min_th', 'max_wc','max_th','mm_weighted_accuracy', 'out_cost']]"
   ]
  },
  {
   "cell_type": "code",
   "execution_count": 15,
   "id": "f847ae0a",
   "metadata": {},
   "outputs": [
    {
     "name": "stderr",
     "output_type": "stream",
     "text": [
      "/tmp/ipykernel_206903/572914904.py:1: UserWarning: Boolean Series key will be reindexed to match DataFrame index.\n",
      "  df1[df1.use_mel == True][df1.model1=='lcnn1_dr'][df1.samp_sec==20].groupby('n_mels').mean()[['min_cost', 'min_th', 'max_wc','max_th','mm_weighted_accuracy', 'out_cost']]\n"
     ]
    },
    {
     "data": {
      "text/html": [
       "<div>\n",
       "<style scoped>\n",
       "    .dataframe tbody tr th:only-of-type {\n",
       "        vertical-align: middle;\n",
       "    }\n",
       "\n",
       "    .dataframe tbody tr th {\n",
       "        vertical-align: top;\n",
       "    }\n",
       "\n",
       "    .dataframe thead th {\n",
       "        text-align: right;\n",
       "    }\n",
       "</style>\n",
       "<table border=\"1\" class=\"dataframe\">\n",
       "  <thead>\n",
       "    <tr style=\"text-align: right;\">\n",
       "      <th></th>\n",
       "      <th>min_cost</th>\n",
       "      <th>min_th</th>\n",
       "      <th>max_wc</th>\n",
       "      <th>max_th</th>\n",
       "      <th>mm_weighted_accuracy</th>\n",
       "      <th>out_cost</th>\n",
       "    </tr>\n",
       "    <tr>\n",
       "      <th>n_mels</th>\n",
       "      <th></th>\n",
       "      <th></th>\n",
       "      <th></th>\n",
       "      <th></th>\n",
       "      <th></th>\n",
       "      <th></th>\n",
       "    </tr>\n",
       "  </thead>\n",
       "  <tbody>\n",
       "  </tbody>\n",
       "</table>\n",
       "</div>"
      ],
      "text/plain": [
       "Empty DataFrame\n",
       "Columns: [min_cost, min_th, max_wc, max_th, mm_weighted_accuracy, out_cost]\n",
       "Index: []"
      ]
     },
     "execution_count": 15,
     "metadata": {},
     "output_type": "execute_result"
    }
   ],
   "source": [
    "df1[df1.use_mel == True][df1.model1=='lcnn1_dr'][df1.samp_sec==20].groupby('n_mels').mean()[['min_cost', 'min_th', 'max_wc','max_th','mm_weighted_accuracy', 'out_cost']]"
   ]
  },
  {
   "cell_type": "code",
   "execution_count": null,
   "id": "23b8cc7a",
   "metadata": {},
   "outputs": [],
   "source": []
  },
  {
   "cell_type": "code",
   "execution_count": null,
   "id": "61105d9c",
   "metadata": {},
   "outputs": [],
   "source": []
  },
  {
   "cell_type": "code",
   "execution_count": null,
   "id": "8b97e61d",
   "metadata": {},
   "outputs": [],
   "source": []
  }
 ],
 "metadata": {
  "kernelspec": {
   "display_name": "Python 3 (ipykernel)",
   "language": "python",
   "name": "python3"
  },
  "language_info": {
   "codemirror_mode": {
    "name": "ipython",
    "version": 3
   },
   "file_extension": ".py",
   "mimetype": "text/x-python",
   "name": "python",
   "nbconvert_exporter": "python",
   "pygments_lexer": "ipython3",
   "version": "3.8.13"
  }
 },
 "nbformat": 4,
 "nbformat_minor": 5
}
