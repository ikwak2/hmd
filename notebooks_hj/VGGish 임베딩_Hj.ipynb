{
 "cells": [
  {
   "cell_type": "markdown",
   "id": "d80adc65",
   "metadata": {},
   "source": [
    "# feature vggish"
   ]
  },
  {
   "cell_type": "markdown",
   "id": "28d4728c",
   "metadata": {},
   "source": [
    "기존 코드 "
   ]
  },
  {
   "cell_type": "code",
   "execution_count": 1,
   "id": "b5ffa501",
   "metadata": {},
   "outputs": [],
   "source": [
    "import pickle as pk\n",
    "import glob\n",
    "import os\n",
    "import time\n",
    "import torch\n",
    "import numpy as np\n",
    "import torch.optim as optim\n",
    "import torch.nn as nn\n",
    "import sys\n",
    "import random\n",
    "from tqdm import tqdm\n",
    "from tools.utils import load_train_valid, get_class_distribution,get_logger, multi_acc, load_test\n",
    "\n",
    "\n",
    "import gc\n",
    "#from torch.utils.tensorboard import SummaryWriter\n",
    "from helper_code import *\n",
    "import numpy as np, scipy as sp, scipy.stats, os, sys, joblib\n",
    "from sklearn.impute import SimpleImputer\n",
    "#from sklearn.ensemble import RandomForestClassifier\n",
    "from models import *\n",
    "from get_feature import *\n",
    "import pickle as pk"
   ]
  },
  {
   "cell_type": "code",
   "execution_count": 2,
   "id": "dd2c04ae",
   "metadata": {},
   "outputs": [],
   "source": [
    "data_folder = '/Data2/hmd/data_split/murmur/train'"
   ]
  },
  {
   "cell_type": "code",
   "execution_count": 3,
   "id": "d9c79579",
   "metadata": {},
   "outputs": [],
   "source": [
    "model_folder = 'model'"
   ]
  },
  {
   "cell_type": "code",
   "execution_count": 4,
   "id": "8003a21f",
   "metadata": {},
   "outputs": [],
   "source": [
    "patient_files = find_patient_files(data_folder)"
   ]
  },
  {
   "cell_type": "code",
   "execution_count": 5,
   "id": "51f05488",
   "metadata": {},
   "outputs": [
    {
     "data": {
      "text/plain": [
       "['/Data2/hmd/data_split/murmur/train/2530.txt',\n",
       " '/Data2/hmd/data_split/murmur/train/9979.txt',\n",
       " '/Data2/hmd/data_split/murmur/train/9983.txt',\n",
       " '/Data2/hmd/data_split/murmur/train/13918.txt',\n",
       " '/Data2/hmd/data_split/murmur/train/14241.txt',\n",
       " '/Data2/hmd/data_split/murmur/train/14998.txt',\n",
       " '/Data2/hmd/data_split/murmur/train/23625.txt',\n",
       " '/Data2/hmd/data_split/murmur/train/24160.txt',\n",
       " '/Data2/hmd/data_split/murmur/train/29045.txt',\n",
       " '/Data2/hmd/data_split/murmur/train/29378.txt',\n",
       " '/Data2/hmd/data_split/murmur/train/31737.txt',\n",
       " '/Data2/hmd/data_split/murmur/train/36327.txt',\n",
       " '/Data2/hmd/data_split/murmur/train/39043.txt',\n",
       " '/Data2/hmd/data_split/murmur/train/39403.txt',\n",
       " '/Data2/hmd/data_split/murmur/train/39456.txt',\n",
       " '/Data2/hmd/data_split/murmur/train/40058.txt',\n",
       " '/Data2/hmd/data_split/murmur/train/40840.txt',\n",
       " '/Data2/hmd/data_split/murmur/train/43852.txt',\n",
       " '/Data2/hmd/data_split/murmur/train/44514.txt',\n",
       " '/Data2/hmd/data_split/murmur/train/45843.txt',\n",
       " '/Data2/hmd/data_split/murmur/train/46065.txt',\n",
       " '/Data2/hmd/data_split/murmur/train/46532.txt',\n",
       " '/Data2/hmd/data_split/murmur/train/46579.txt',\n",
       " '/Data2/hmd/data_split/murmur/train/46778.txt',\n",
       " '/Data2/hmd/data_split/murmur/train/47002.txt',\n",
       " '/Data2/hmd/data_split/murmur/train/49561.txt',\n",
       " '/Data2/hmd/data_split/murmur/train/49562.txt',\n",
       " '/Data2/hmd/data_split/murmur/train/49568.txt',\n",
       " '/Data2/hmd/data_split/murmur/train/49574.txt',\n",
       " '/Data2/hmd/data_split/murmur/train/49577.txt',\n",
       " '/Data2/hmd/data_split/murmur/train/49585.txt',\n",
       " '/Data2/hmd/data_split/murmur/train/49595.txt',\n",
       " '/Data2/hmd/data_split/murmur/train/49598.txt',\n",
       " '/Data2/hmd/data_split/murmur/train/49610.txt',\n",
       " '/Data2/hmd/data_split/murmur/train/49618.txt',\n",
       " '/Data2/hmd/data_split/murmur/train/49622.txt',\n",
       " '/Data2/hmd/data_split/murmur/train/49627.txt',\n",
       " '/Data2/hmd/data_split/murmur/train/49630.txt',\n",
       " '/Data2/hmd/data_split/murmur/train/49631.txt',\n",
       " '/Data2/hmd/data_split/murmur/train/49638.txt',\n",
       " '/Data2/hmd/data_split/murmur/train/49659.txt',\n",
       " '/Data2/hmd/data_split/murmur/train/49661.txt',\n",
       " '/Data2/hmd/data_split/murmur/train/49669.txt',\n",
       " '/Data2/hmd/data_split/murmur/train/49678.txt',\n",
       " '/Data2/hmd/data_split/murmur/train/49687.txt',\n",
       " '/Data2/hmd/data_split/murmur/train/49704.txt',\n",
       " '/Data2/hmd/data_split/murmur/train/49712.txt',\n",
       " '/Data2/hmd/data_split/murmur/train/49719.txt',\n",
       " '/Data2/hmd/data_split/murmur/train/49729.txt',\n",
       " '/Data2/hmd/data_split/murmur/train/49735.txt',\n",
       " '/Data2/hmd/data_split/murmur/train/49745.txt',\n",
       " '/Data2/hmd/data_split/murmur/train/49748.txt',\n",
       " '/Data2/hmd/data_split/murmur/train/49751.txt',\n",
       " '/Data2/hmd/data_split/murmur/train/49754.txt',\n",
       " '/Data2/hmd/data_split/murmur/train/49776.txt',\n",
       " '/Data2/hmd/data_split/murmur/train/49808.txt',\n",
       " '/Data2/hmd/data_split/murmur/train/49821.txt',\n",
       " '/Data2/hmd/data_split/murmur/train/49823.txt',\n",
       " '/Data2/hmd/data_split/murmur/train/49838.txt',\n",
       " '/Data2/hmd/data_split/murmur/train/49839.txt',\n",
       " '/Data2/hmd/data_split/murmur/train/49842.txt',\n",
       " '/Data2/hmd/data_split/murmur/train/49850.txt',\n",
       " '/Data2/hmd/data_split/murmur/train/49853.txt',\n",
       " '/Data2/hmd/data_split/murmur/train/49854.txt',\n",
       " '/Data2/hmd/data_split/murmur/train/49873.txt',\n",
       " '/Data2/hmd/data_split/murmur/train/49876.txt',\n",
       " '/Data2/hmd/data_split/murmur/train/49897.txt',\n",
       " '/Data2/hmd/data_split/murmur/train/49900.txt',\n",
       " '/Data2/hmd/data_split/murmur/train/49930.txt',\n",
       " '/Data2/hmd/data_split/murmur/train/49931.txt',\n",
       " '/Data2/hmd/data_split/murmur/train/49946.txt',\n",
       " '/Data2/hmd/data_split/murmur/train/49959.txt',\n",
       " '/Data2/hmd/data_split/murmur/train/49960.txt',\n",
       " '/Data2/hmd/data_split/murmur/train/49963.txt',\n",
       " '/Data2/hmd/data_split/murmur/train/49966.txt',\n",
       " '/Data2/hmd/data_split/murmur/train/49968.txt',\n",
       " '/Data2/hmd/data_split/murmur/train/49969.txt',\n",
       " '/Data2/hmd/data_split/murmur/train/49970.txt',\n",
       " '/Data2/hmd/data_split/murmur/train/49974.txt',\n",
       " '/Data2/hmd/data_split/murmur/train/49979.txt',\n",
       " '/Data2/hmd/data_split/murmur/train/49986.txt',\n",
       " '/Data2/hmd/data_split/murmur/train/49987.txt',\n",
       " '/Data2/hmd/data_split/murmur/train/49988.txt',\n",
       " '/Data2/hmd/data_split/murmur/train/49989.txt',\n",
       " '/Data2/hmd/data_split/murmur/train/49990.txt',\n",
       " '/Data2/hmd/data_split/murmur/train/49993.txt',\n",
       " '/Data2/hmd/data_split/murmur/train/49994.txt',\n",
       " '/Data2/hmd/data_split/murmur/train/49995.txt',\n",
       " '/Data2/hmd/data_split/murmur/train/49998.txt',\n",
       " '/Data2/hmd/data_split/murmur/train/49999.txt',\n",
       " '/Data2/hmd/data_split/murmur/train/50001.txt',\n",
       " '/Data2/hmd/data_split/murmur/train/50004.txt',\n",
       " '/Data2/hmd/data_split/murmur/train/50005.txt',\n",
       " '/Data2/hmd/data_split/murmur/train/50007.txt',\n",
       " '/Data2/hmd/data_split/murmur/train/50008.txt',\n",
       " '/Data2/hmd/data_split/murmur/train/50009.txt',\n",
       " '/Data2/hmd/data_split/murmur/train/50014.txt',\n",
       " '/Data2/hmd/data_split/murmur/train/50015.txt',\n",
       " '/Data2/hmd/data_split/murmur/train/50017.txt',\n",
       " '/Data2/hmd/data_split/murmur/train/50018.txt',\n",
       " '/Data2/hmd/data_split/murmur/train/50023.txt',\n",
       " '/Data2/hmd/data_split/murmur/train/50027.txt',\n",
       " '/Data2/hmd/data_split/murmur/train/50029.txt',\n",
       " '/Data2/hmd/data_split/murmur/train/50030.txt',\n",
       " '/Data2/hmd/data_split/murmur/train/50032.txt',\n",
       " '/Data2/hmd/data_split/murmur/train/50034.txt',\n",
       " '/Data2/hmd/data_split/murmur/train/50037.txt',\n",
       " '/Data2/hmd/data_split/murmur/train/50043.txt',\n",
       " '/Data2/hmd/data_split/murmur/train/50048.txt',\n",
       " '/Data2/hmd/data_split/murmur/train/50053.txt',\n",
       " '/Data2/hmd/data_split/murmur/train/50054.txt',\n",
       " '/Data2/hmd/data_split/murmur/train/50056.txt',\n",
       " '/Data2/hmd/data_split/murmur/train/50057.txt',\n",
       " '/Data2/hmd/data_split/murmur/train/50061.txt',\n",
       " '/Data2/hmd/data_split/murmur/train/50066.txt',\n",
       " '/Data2/hmd/data_split/murmur/train/50070.txt',\n",
       " '/Data2/hmd/data_split/murmur/train/50072.txt',\n",
       " '/Data2/hmd/data_split/murmur/train/50074.txt',\n",
       " '/Data2/hmd/data_split/murmur/train/50076.txt',\n",
       " '/Data2/hmd/data_split/murmur/train/50077.txt',\n",
       " '/Data2/hmd/data_split/murmur/train/50078.txt',\n",
       " '/Data2/hmd/data_split/murmur/train/50080.txt',\n",
       " '/Data2/hmd/data_split/murmur/train/50085.txt',\n",
       " '/Data2/hmd/data_split/murmur/train/50089.txt',\n",
       " '/Data2/hmd/data_split/murmur/train/50092.txt',\n",
       " '/Data2/hmd/data_split/murmur/train/50094.txt',\n",
       " '/Data2/hmd/data_split/murmur/train/50096.txt',\n",
       " '/Data2/hmd/data_split/murmur/train/50099.txt',\n",
       " '/Data2/hmd/data_split/murmur/train/50100.txt',\n",
       " '/Data2/hmd/data_split/murmur/train/50103.txt',\n",
       " '/Data2/hmd/data_split/murmur/train/50109.txt',\n",
       " '/Data2/hmd/data_split/murmur/train/50111.txt',\n",
       " '/Data2/hmd/data_split/murmur/train/50113.txt',\n",
       " '/Data2/hmd/data_split/murmur/train/50115.txt',\n",
       " '/Data2/hmd/data_split/murmur/train/50116.txt',\n",
       " '/Data2/hmd/data_split/murmur/train/50117.txt',\n",
       " '/Data2/hmd/data_split/murmur/train/50118.txt',\n",
       " '/Data2/hmd/data_split/murmur/train/50119.txt',\n",
       " '/Data2/hmd/data_split/murmur/train/50121.txt',\n",
       " '/Data2/hmd/data_split/murmur/train/50122.txt',\n",
       " '/Data2/hmd/data_split/murmur/train/50123.txt',\n",
       " '/Data2/hmd/data_split/murmur/train/50125.txt',\n",
       " '/Data2/hmd/data_split/murmur/train/50126.txt',\n",
       " '/Data2/hmd/data_split/murmur/train/50127.txt',\n",
       " '/Data2/hmd/data_split/murmur/train/50128.txt',\n",
       " '/Data2/hmd/data_split/murmur/train/50129.txt',\n",
       " '/Data2/hmd/data_split/murmur/train/50133.txt',\n",
       " '/Data2/hmd/data_split/murmur/train/50136.txt',\n",
       " '/Data2/hmd/data_split/murmur/train/50137.txt',\n",
       " '/Data2/hmd/data_split/murmur/train/50138.txt',\n",
       " '/Data2/hmd/data_split/murmur/train/50141.txt',\n",
       " '/Data2/hmd/data_split/murmur/train/50142.txt',\n",
       " '/Data2/hmd/data_split/murmur/train/50146.txt',\n",
       " '/Data2/hmd/data_split/murmur/train/50149.txt',\n",
       " '/Data2/hmd/data_split/murmur/train/50150.txt',\n",
       " '/Data2/hmd/data_split/murmur/train/50151.txt',\n",
       " '/Data2/hmd/data_split/murmur/train/50152.txt',\n",
       " '/Data2/hmd/data_split/murmur/train/50153.txt',\n",
       " '/Data2/hmd/data_split/murmur/train/50159.txt',\n",
       " '/Data2/hmd/data_split/murmur/train/50160.txt',\n",
       " '/Data2/hmd/data_split/murmur/train/50161.txt',\n",
       " '/Data2/hmd/data_split/murmur/train/50166.txt',\n",
       " '/Data2/hmd/data_split/murmur/train/50174.txt',\n",
       " '/Data2/hmd/data_split/murmur/train/50204.txt',\n",
       " '/Data2/hmd/data_split/murmur/train/50206.txt',\n",
       " '/Data2/hmd/data_split/murmur/train/50207.txt',\n",
       " '/Data2/hmd/data_split/murmur/train/50209.txt',\n",
       " '/Data2/hmd/data_split/murmur/train/50216.txt',\n",
       " '/Data2/hmd/data_split/murmur/train/50217.txt',\n",
       " '/Data2/hmd/data_split/murmur/train/50220.txt',\n",
       " '/Data2/hmd/data_split/murmur/train/50221.txt',\n",
       " '/Data2/hmd/data_split/murmur/train/50222.txt',\n",
       " '/Data2/hmd/data_split/murmur/train/50225.txt',\n",
       " '/Data2/hmd/data_split/murmur/train/50228.txt',\n",
       " '/Data2/hmd/data_split/murmur/train/50229.txt',\n",
       " '/Data2/hmd/data_split/murmur/train/50230.txt',\n",
       " '/Data2/hmd/data_split/murmur/train/50231.txt',\n",
       " '/Data2/hmd/data_split/murmur/train/50233.txt',\n",
       " '/Data2/hmd/data_split/murmur/train/50238.txt',\n",
       " '/Data2/hmd/data_split/murmur/train/50239.txt',\n",
       " '/Data2/hmd/data_split/murmur/train/50241.txt',\n",
       " '/Data2/hmd/data_split/murmur/train/50244.txt',\n",
       " '/Data2/hmd/data_split/murmur/train/50247.txt',\n",
       " '/Data2/hmd/data_split/murmur/train/50248.txt',\n",
       " '/Data2/hmd/data_split/murmur/train/50250.txt',\n",
       " '/Data2/hmd/data_split/murmur/train/50251.txt',\n",
       " '/Data2/hmd/data_split/murmur/train/50254.txt',\n",
       " '/Data2/hmd/data_split/murmur/train/50256.txt',\n",
       " '/Data2/hmd/data_split/murmur/train/50258.txt',\n",
       " '/Data2/hmd/data_split/murmur/train/50261.txt',\n",
       " '/Data2/hmd/data_split/murmur/train/50263.txt',\n",
       " '/Data2/hmd/data_split/murmur/train/50264.txt',\n",
       " '/Data2/hmd/data_split/murmur/train/50271.txt',\n",
       " '/Data2/hmd/data_split/murmur/train/50272.txt',\n",
       " '/Data2/hmd/data_split/murmur/train/50273.txt',\n",
       " '/Data2/hmd/data_split/murmur/train/50276.txt',\n",
       " '/Data2/hmd/data_split/murmur/train/50277.txt',\n",
       " '/Data2/hmd/data_split/murmur/train/50278.txt',\n",
       " '/Data2/hmd/data_split/murmur/train/50280.txt',\n",
       " '/Data2/hmd/data_split/murmur/train/50281.txt',\n",
       " '/Data2/hmd/data_split/murmur/train/50284.txt',\n",
       " '/Data2/hmd/data_split/murmur/train/50285.txt',\n",
       " '/Data2/hmd/data_split/murmur/train/50291.txt',\n",
       " '/Data2/hmd/data_split/murmur/train/50295.txt',\n",
       " '/Data2/hmd/data_split/murmur/train/50296.txt',\n",
       " '/Data2/hmd/data_split/murmur/train/50297.txt',\n",
       " '/Data2/hmd/data_split/murmur/train/50298.txt',\n",
       " '/Data2/hmd/data_split/murmur/train/50300.txt',\n",
       " '/Data2/hmd/data_split/murmur/train/50303.txt',\n",
       " '/Data2/hmd/data_split/murmur/train/50304.txt',\n",
       " '/Data2/hmd/data_split/murmur/train/50306.txt',\n",
       " '/Data2/hmd/data_split/murmur/train/50311.txt',\n",
       " '/Data2/hmd/data_split/murmur/train/50312.txt',\n",
       " '/Data2/hmd/data_split/murmur/train/50314.txt',\n",
       " '/Data2/hmd/data_split/murmur/train/50316.txt',\n",
       " '/Data2/hmd/data_split/murmur/train/50317.txt',\n",
       " '/Data2/hmd/data_split/murmur/train/50318.txt',\n",
       " '/Data2/hmd/data_split/murmur/train/50319.txt',\n",
       " '/Data2/hmd/data_split/murmur/train/50321.txt',\n",
       " '/Data2/hmd/data_split/murmur/train/50323.txt',\n",
       " '/Data2/hmd/data_split/murmur/train/50325.txt',\n",
       " '/Data2/hmd/data_split/murmur/train/50326.txt',\n",
       " '/Data2/hmd/data_split/murmur/train/50327.txt',\n",
       " '/Data2/hmd/data_split/murmur/train/50331.txt',\n",
       " '/Data2/hmd/data_split/murmur/train/50332.txt',\n",
       " '/Data2/hmd/data_split/murmur/train/50334.txt',\n",
       " '/Data2/hmd/data_split/murmur/train/50335.txt',\n",
       " '/Data2/hmd/data_split/murmur/train/50336.txt',\n",
       " '/Data2/hmd/data_split/murmur/train/50337.txt',\n",
       " '/Data2/hmd/data_split/murmur/train/50339.txt',\n",
       " '/Data2/hmd/data_split/murmur/train/50343.txt',\n",
       " '/Data2/hmd/data_split/murmur/train/50345.txt',\n",
       " '/Data2/hmd/data_split/murmur/train/50349.txt',\n",
       " '/Data2/hmd/data_split/murmur/train/50350.txt',\n",
       " '/Data2/hmd/data_split/murmur/train/50352.txt',\n",
       " '/Data2/hmd/data_split/murmur/train/50354.txt',\n",
       " '/Data2/hmd/data_split/murmur/train/50359.txt',\n",
       " '/Data2/hmd/data_split/murmur/train/50379.txt',\n",
       " '/Data2/hmd/data_split/murmur/train/50384.txt',\n",
       " '/Data2/hmd/data_split/murmur/train/50385.txt',\n",
       " '/Data2/hmd/data_split/murmur/train/50388.txt',\n",
       " '/Data2/hmd/data_split/murmur/train/50391.txt',\n",
       " '/Data2/hmd/data_split/murmur/train/50393.txt',\n",
       " '/Data2/hmd/data_split/murmur/train/50620.txt',\n",
       " '/Data2/hmd/data_split/murmur/train/50621.txt',\n",
       " '/Data2/hmd/data_split/murmur/train/50625.txt',\n",
       " '/Data2/hmd/data_split/murmur/train/50626.txt',\n",
       " '/Data2/hmd/data_split/murmur/train/50628.txt',\n",
       " '/Data2/hmd/data_split/murmur/train/50629.txt',\n",
       " '/Data2/hmd/data_split/murmur/train/50635.txt',\n",
       " '/Data2/hmd/data_split/murmur/train/50636.txt',\n",
       " '/Data2/hmd/data_split/murmur/train/50639.txt',\n",
       " '/Data2/hmd/data_split/murmur/train/50645.txt',\n",
       " '/Data2/hmd/data_split/murmur/train/50646.txt',\n",
       " '/Data2/hmd/data_split/murmur/train/50647.txt',\n",
       " '/Data2/hmd/data_split/murmur/train/50649.txt',\n",
       " '/Data2/hmd/data_split/murmur/train/50652.txt',\n",
       " '/Data2/hmd/data_split/murmur/train/50654.txt',\n",
       " '/Data2/hmd/data_split/murmur/train/50655.txt',\n",
       " '/Data2/hmd/data_split/murmur/train/50657.txt',\n",
       " '/Data2/hmd/data_split/murmur/train/50658.txt',\n",
       " '/Data2/hmd/data_split/murmur/train/50661.txt',\n",
       " '/Data2/hmd/data_split/murmur/train/50665.txt',\n",
       " '/Data2/hmd/data_split/murmur/train/50667.txt',\n",
       " '/Data2/hmd/data_split/murmur/train/50668.txt',\n",
       " '/Data2/hmd/data_split/murmur/train/50669.txt',\n",
       " '/Data2/hmd/data_split/murmur/train/50673.txt',\n",
       " '/Data2/hmd/data_split/murmur/train/50676.txt',\n",
       " '/Data2/hmd/data_split/murmur/train/50677.txt',\n",
       " '/Data2/hmd/data_split/murmur/train/50678.txt',\n",
       " '/Data2/hmd/data_split/murmur/train/50680.txt',\n",
       " '/Data2/hmd/data_split/murmur/train/50687.txt',\n",
       " '/Data2/hmd/data_split/murmur/train/50688.txt',\n",
       " '/Data2/hmd/data_split/murmur/train/50689.txt',\n",
       " '/Data2/hmd/data_split/murmur/train/50690.txt',\n",
       " '/Data2/hmd/data_split/murmur/train/50691.txt',\n",
       " '/Data2/hmd/data_split/murmur/train/50704.txt',\n",
       " '/Data2/hmd/data_split/murmur/train/50707.txt',\n",
       " '/Data2/hmd/data_split/murmur/train/50713.txt',\n",
       " '/Data2/hmd/data_split/murmur/train/50715.txt',\n",
       " '/Data2/hmd/data_split/murmur/train/50720.txt',\n",
       " '/Data2/hmd/data_split/murmur/train/50721.txt',\n",
       " '/Data2/hmd/data_split/murmur/train/50722.txt',\n",
       " '/Data2/hmd/data_split/murmur/train/50723.txt',\n",
       " '/Data2/hmd/data_split/murmur/train/50725.txt',\n",
       " '/Data2/hmd/data_split/murmur/train/50727.txt',\n",
       " '/Data2/hmd/data_split/murmur/train/50729.txt',\n",
       " '/Data2/hmd/data_split/murmur/train/50731.txt',\n",
       " '/Data2/hmd/data_split/murmur/train/50732.txt',\n",
       " '/Data2/hmd/data_split/murmur/train/50735.txt',\n",
       " '/Data2/hmd/data_split/murmur/train/50736.txt',\n",
       " '/Data2/hmd/data_split/murmur/train/50738.txt',\n",
       " '/Data2/hmd/data_split/murmur/train/50739.txt',\n",
       " '/Data2/hmd/data_split/murmur/train/50740.txt',\n",
       " '/Data2/hmd/data_split/murmur/train/50742.txt',\n",
       " '/Data2/hmd/data_split/murmur/train/50744.txt',\n",
       " '/Data2/hmd/data_split/murmur/train/50746.txt',\n",
       " '/Data2/hmd/data_split/murmur/train/50747.txt',\n",
       " '/Data2/hmd/data_split/murmur/train/50748.txt',\n",
       " '/Data2/hmd/data_split/murmur/train/50749.txt',\n",
       " '/Data2/hmd/data_split/murmur/train/50751.txt',\n",
       " '/Data2/hmd/data_split/murmur/train/50752.txt',\n",
       " '/Data2/hmd/data_split/murmur/train/50753.txt',\n",
       " '/Data2/hmd/data_split/murmur/train/50754.txt',\n",
       " '/Data2/hmd/data_split/murmur/train/50756.txt',\n",
       " '/Data2/hmd/data_split/murmur/train/50758.txt',\n",
       " '/Data2/hmd/data_split/murmur/train/50762.txt',\n",
       " '/Data2/hmd/data_split/murmur/train/50763.txt',\n",
       " '/Data2/hmd/data_split/murmur/train/50766.txt',\n",
       " '/Data2/hmd/data_split/murmur/train/50768.txt',\n",
       " '/Data2/hmd/data_split/murmur/train/50771.txt',\n",
       " '/Data2/hmd/data_split/murmur/train/50772.txt',\n",
       " '/Data2/hmd/data_split/murmur/train/50773.txt',\n",
       " '/Data2/hmd/data_split/murmur/train/50776.txt',\n",
       " '/Data2/hmd/data_split/murmur/train/50782.txt',\n",
       " '/Data2/hmd/data_split/murmur/train/50784.txt',\n",
       " '/Data2/hmd/data_split/murmur/train/50787.txt',\n",
       " '/Data2/hmd/data_split/murmur/train/50788.txt',\n",
       " '/Data2/hmd/data_split/murmur/train/50789.txt',\n",
       " '/Data2/hmd/data_split/murmur/train/50790.txt',\n",
       " '/Data2/hmd/data_split/murmur/train/50793.txt',\n",
       " '/Data2/hmd/data_split/murmur/train/50795.txt',\n",
       " '/Data2/hmd/data_split/murmur/train/50796.txt',\n",
       " '/Data2/hmd/data_split/murmur/train/50797.txt',\n",
       " '/Data2/hmd/data_split/murmur/train/50798.txt',\n",
       " '/Data2/hmd/data_split/murmur/train/50802.txt',\n",
       " '/Data2/hmd/data_split/murmur/train/50803.txt',\n",
       " '/Data2/hmd/data_split/murmur/train/50805.txt',\n",
       " '/Data2/hmd/data_split/murmur/train/50807.txt',\n",
       " '/Data2/hmd/data_split/murmur/train/50812.txt',\n",
       " '/Data2/hmd/data_split/murmur/train/50818.txt',\n",
       " '/Data2/hmd/data_split/murmur/train/50819.txt',\n",
       " '/Data2/hmd/data_split/murmur/train/50820.txt',\n",
       " '/Data2/hmd/data_split/murmur/train/50822.txt',\n",
       " '/Data2/hmd/data_split/murmur/train/50826.txt',\n",
       " '/Data2/hmd/data_split/murmur/train/50829.txt',\n",
       " '/Data2/hmd/data_split/murmur/train/51331.txt',\n",
       " '/Data2/hmd/data_split/murmur/train/55945.txt',\n",
       " '/Data2/hmd/data_split/murmur/train/57700.txt',\n",
       " '/Data2/hmd/data_split/murmur/train/57706.txt',\n",
       " '/Data2/hmd/data_split/murmur/train/61610.txt',\n",
       " '/Data2/hmd/data_split/murmur/train/63456.txt',\n",
       " '/Data2/hmd/data_split/murmur/train/63581.txt',\n",
       " '/Data2/hmd/data_split/murmur/train/64256.txt',\n",
       " '/Data2/hmd/data_split/murmur/train/64715.txt',\n",
       " '/Data2/hmd/data_split/murmur/train/68175.txt',\n",
       " '/Data2/hmd/data_split/murmur/train/68182.txt',\n",
       " '/Data2/hmd/data_split/murmur/train/68186.txt',\n",
       " '/Data2/hmd/data_split/murmur/train/68194.txt',\n",
       " '/Data2/hmd/data_split/murmur/train/68204.txt',\n",
       " '/Data2/hmd/data_split/murmur/train/68213.txt',\n",
       " '/Data2/hmd/data_split/murmur/train/68219.txt',\n",
       " '/Data2/hmd/data_split/murmur/train/68222.txt',\n",
       " '/Data2/hmd/data_split/murmur/train/68260.txt',\n",
       " '/Data2/hmd/data_split/murmur/train/68269.txt',\n",
       " '/Data2/hmd/data_split/murmur/train/68279.txt',\n",
       " '/Data2/hmd/data_split/murmur/train/68292.txt',\n",
       " '/Data2/hmd/data_split/murmur/train/68298.txt',\n",
       " '/Data2/hmd/data_split/murmur/train/68303.txt',\n",
       " '/Data2/hmd/data_split/murmur/train/68316.txt',\n",
       " '/Data2/hmd/data_split/murmur/train/68318.txt',\n",
       " '/Data2/hmd/data_split/murmur/train/68337.txt',\n",
       " '/Data2/hmd/data_split/murmur/train/68347.txt',\n",
       " '/Data2/hmd/data_split/murmur/train/68359.txt',\n",
       " '/Data2/hmd/data_split/murmur/train/68363.txt',\n",
       " '/Data2/hmd/data_split/murmur/train/68368.txt',\n",
       " '/Data2/hmd/data_split/murmur/train/68374.txt',\n",
       " '/Data2/hmd/data_split/murmur/train/68377.txt',\n",
       " '/Data2/hmd/data_split/murmur/train/68379.txt',\n",
       " '/Data2/hmd/data_split/murmur/train/68394.txt',\n",
       " '/Data2/hmd/data_split/murmur/train/68395.txt',\n",
       " '/Data2/hmd/data_split/murmur/train/68407.txt',\n",
       " '/Data2/hmd/data_split/murmur/train/68412.txt',\n",
       " '/Data2/hmd/data_split/murmur/train/68413.txt',\n",
       " '/Data2/hmd/data_split/murmur/train/68419.txt',\n",
       " '/Data2/hmd/data_split/murmur/train/68425.txt',\n",
       " '/Data2/hmd/data_split/murmur/train/68427.txt',\n",
       " '/Data2/hmd/data_split/murmur/train/68431.txt',\n",
       " '/Data2/hmd/data_split/murmur/train/68444.txt',\n",
       " '/Data2/hmd/data_split/murmur/train/68456.txt',\n",
       " '/Data2/hmd/data_split/murmur/train/68465.txt',\n",
       " '/Data2/hmd/data_split/murmur/train/68470.txt',\n",
       " '/Data2/hmd/data_split/murmur/train/68477.txt',\n",
       " '/Data2/hmd/data_split/murmur/train/68478.txt',\n",
       " '/Data2/hmd/data_split/murmur/train/68482.txt',\n",
       " '/Data2/hmd/data_split/murmur/train/68487.txt',\n",
       " '/Data2/hmd/data_split/murmur/train/68498.txt',\n",
       " '/Data2/hmd/data_split/murmur/train/68504.txt',\n",
       " '/Data2/hmd/data_split/murmur/train/68532.txt',\n",
       " '/Data2/hmd/data_split/murmur/train/68556.txt',\n",
       " '/Data2/hmd/data_split/murmur/train/68560.txt',\n",
       " '/Data2/hmd/data_split/murmur/train/68567.txt',\n",
       " '/Data2/hmd/data_split/murmur/train/68576.txt',\n",
       " '/Data2/hmd/data_split/murmur/train/68582.txt',\n",
       " '/Data2/hmd/data_split/murmur/train/68624.txt',\n",
       " '/Data2/hmd/data_split/murmur/train/68632.txt',\n",
       " '/Data2/hmd/data_split/murmur/train/68646.txt',\n",
       " '/Data2/hmd/data_split/murmur/train/68659.txt',\n",
       " '/Data2/hmd/data_split/murmur/train/68660.txt',\n",
       " '/Data2/hmd/data_split/murmur/train/68702.txt',\n",
       " '/Data2/hmd/data_split/murmur/train/68705.txt',\n",
       " '/Data2/hmd/data_split/murmur/train/68708.txt',\n",
       " '/Data2/hmd/data_split/murmur/train/68711.txt',\n",
       " '/Data2/hmd/data_split/murmur/train/68737.txt',\n",
       " '/Data2/hmd/data_split/murmur/train/68740.txt',\n",
       " '/Data2/hmd/data_split/murmur/train/68741.txt',\n",
       " '/Data2/hmd/data_split/murmur/train/68752.txt',\n",
       " '/Data2/hmd/data_split/murmur/train/68755.txt',\n",
       " '/Data2/hmd/data_split/murmur/train/68756.txt',\n",
       " '/Data2/hmd/data_split/murmur/train/68757.txt',\n",
       " '/Data2/hmd/data_split/murmur/train/68827.txt',\n",
       " '/Data2/hmd/data_split/murmur/train/68831.txt',\n",
       " '/Data2/hmd/data_split/murmur/train/68849.txt',\n",
       " '/Data2/hmd/data_split/murmur/train/68857.txt',\n",
       " '/Data2/hmd/data_split/murmur/train/68861.txt',\n",
       " '/Data2/hmd/data_split/murmur/train/68864.txt',\n",
       " '/Data2/hmd/data_split/murmur/train/68874.txt',\n",
       " '/Data2/hmd/data_split/murmur/train/68886.txt',\n",
       " '/Data2/hmd/data_split/murmur/train/68888.txt',\n",
       " '/Data2/hmd/data_split/murmur/train/68895.txt',\n",
       " '/Data2/hmd/data_split/murmur/train/68901.txt',\n",
       " '/Data2/hmd/data_split/murmur/train/68908.txt',\n",
       " '/Data2/hmd/data_split/murmur/train/68909.txt',\n",
       " '/Data2/hmd/data_split/murmur/train/69066.txt',\n",
       " '/Data2/hmd/data_split/murmur/train/69067.txt',\n",
       " '/Data2/hmd/data_split/murmur/train/69079.txt',\n",
       " '/Data2/hmd/data_split/murmur/train/69093.txt',\n",
       " '/Data2/hmd/data_split/murmur/train/69095.txt',\n",
       " '/Data2/hmd/data_split/murmur/train/69096.txt',\n",
       " '/Data2/hmd/data_split/murmur/train/69106.txt',\n",
       " '/Data2/hmd/data_split/murmur/train/69120.txt',\n",
       " '/Data2/hmd/data_split/murmur/train/69129.txt',\n",
       " '/Data2/hmd/data_split/murmur/train/69141.txt',\n",
       " '/Data2/hmd/data_split/murmur/train/69152.txt',\n",
       " '/Data2/hmd/data_split/murmur/train/69155.txt',\n",
       " '/Data2/hmd/data_split/murmur/train/69159.txt',\n",
       " '/Data2/hmd/data_split/murmur/train/69161.txt',\n",
       " '/Data2/hmd/data_split/murmur/train/69174.txt',\n",
       " '/Data2/hmd/data_split/murmur/train/69176.txt',\n",
       " '/Data2/hmd/data_split/murmur/train/69188.txt',\n",
       " '/Data2/hmd/data_split/murmur/train/72283.txt',\n",
       " '/Data2/hmd/data_split/murmur/train/72288.txt',\n",
       " '/Data2/hmd/data_split/murmur/train/74420.txt',\n",
       " '/Data2/hmd/data_split/murmur/train/75440.txt',\n",
       " '/Data2/hmd/data_split/murmur/train/76240.txt',\n",
       " '/Data2/hmd/data_split/murmur/train/76758.txt',\n",
       " '/Data2/hmd/data_split/murmur/train/77373.txt',\n",
       " '/Data2/hmd/data_split/murmur/train/78280.txt',\n",
       " '/Data2/hmd/data_split/murmur/train/78582.txt',\n",
       " '/Data2/hmd/data_split/murmur/train/78592.txt',\n",
       " '/Data2/hmd/data_split/murmur/train/80348.txt',\n",
       " '/Data2/hmd/data_split/murmur/train/81297.txt',\n",
       " '/Data2/hmd/data_split/murmur/train/81501.txt',\n",
       " '/Data2/hmd/data_split/murmur/train/81638.txt',\n",
       " '/Data2/hmd/data_split/murmur/train/82275.txt',\n",
       " '/Data2/hmd/data_split/murmur/train/83094.txt',\n",
       " '/Data2/hmd/data_split/murmur/train/84687.txt',\n",
       " '/Data2/hmd/data_split/murmur/train/84688.txt',\n",
       " '/Data2/hmd/data_split/murmur/train/84689.txt',\n",
       " '/Data2/hmd/data_split/murmur/train/84690.txt',\n",
       " '/Data2/hmd/data_split/murmur/train/84693.txt',\n",
       " '/Data2/hmd/data_split/murmur/train/84695.txt',\n",
       " '/Data2/hmd/data_split/murmur/train/84696.txt',\n",
       " '/Data2/hmd/data_split/murmur/train/84697.txt',\n",
       " '/Data2/hmd/data_split/murmur/train/84699.txt',\n",
       " '/Data2/hmd/data_split/murmur/train/84702.txt',\n",
       " '/Data2/hmd/data_split/murmur/train/84704.txt',\n",
       " '/Data2/hmd/data_split/murmur/train/84706.txt',\n",
       " '/Data2/hmd/data_split/murmur/train/84709.txt',\n",
       " '/Data2/hmd/data_split/murmur/train/84710.txt',\n",
       " '/Data2/hmd/data_split/murmur/train/84713.txt',\n",
       " '/Data2/hmd/data_split/murmur/train/84714.txt',\n",
       " '/Data2/hmd/data_split/murmur/train/84716.txt',\n",
       " '/Data2/hmd/data_split/murmur/train/84718.txt',\n",
       " '/Data2/hmd/data_split/murmur/train/84721.txt',\n",
       " '/Data2/hmd/data_split/murmur/train/84724.txt',\n",
       " '/Data2/hmd/data_split/murmur/train/84725.txt',\n",
       " '/Data2/hmd/data_split/murmur/train/84727.txt',\n",
       " '/Data2/hmd/data_split/murmur/train/84730.txt',\n",
       " '/Data2/hmd/data_split/murmur/train/84731.txt',\n",
       " '/Data2/hmd/data_split/murmur/train/84732.txt',\n",
       " '/Data2/hmd/data_split/murmur/train/84735.txt',\n",
       " '/Data2/hmd/data_split/murmur/train/84736.txt',\n",
       " '/Data2/hmd/data_split/murmur/train/84738.txt',\n",
       " '/Data2/hmd/data_split/murmur/train/84740.txt',\n",
       " '/Data2/hmd/data_split/murmur/train/84742.txt',\n",
       " '/Data2/hmd/data_split/murmur/train/84746.txt',\n",
       " '/Data2/hmd/data_split/murmur/train/84747.txt',\n",
       " '/Data2/hmd/data_split/murmur/train/84749.txt',\n",
       " '/Data2/hmd/data_split/murmur/train/84750.txt',\n",
       " '/Data2/hmd/data_split/murmur/train/84751.txt',\n",
       " '/Data2/hmd/data_split/murmur/train/84753.txt',\n",
       " '/Data2/hmd/data_split/murmur/train/84754.txt',\n",
       " '/Data2/hmd/data_split/murmur/train/84755.txt',\n",
       " '/Data2/hmd/data_split/murmur/train/84761.txt',\n",
       " '/Data2/hmd/data_split/murmur/train/84762.txt',\n",
       " '/Data2/hmd/data_split/murmur/train/84764.txt',\n",
       " '/Data2/hmd/data_split/murmur/train/84765.txt',\n",
       " '/Data2/hmd/data_split/murmur/train/84768.txt',\n",
       " '/Data2/hmd/data_split/murmur/train/84769.txt',\n",
       " '/Data2/hmd/data_split/murmur/train/84775.txt',\n",
       " '/Data2/hmd/data_split/murmur/train/84776.txt',\n",
       " '/Data2/hmd/data_split/murmur/train/84778.txt',\n",
       " '/Data2/hmd/data_split/murmur/train/84779.txt',\n",
       " '/Data2/hmd/data_split/murmur/train/84780.txt',\n",
       " '/Data2/hmd/data_split/murmur/train/84784.txt',\n",
       " '/Data2/hmd/data_split/murmur/train/84785.txt',\n",
       " '/Data2/hmd/data_split/murmur/train/84786.txt',\n",
       " '/Data2/hmd/data_split/murmur/train/84790.txt',\n",
       " '/Data2/hmd/data_split/murmur/train/84793.txt',\n",
       " '/Data2/hmd/data_split/murmur/train/84796.txt',\n",
       " '/Data2/hmd/data_split/murmur/train/84798.txt',\n",
       " '/Data2/hmd/data_split/murmur/train/84799.txt',\n",
       " '/Data2/hmd/data_split/murmur/train/84802.txt',\n",
       " '/Data2/hmd/data_split/murmur/train/84803.txt',\n",
       " '/Data2/hmd/data_split/murmur/train/84804.txt',\n",
       " '/Data2/hmd/data_split/murmur/train/84805.txt',\n",
       " '/Data2/hmd/data_split/murmur/train/84807.txt',\n",
       " '/Data2/hmd/data_split/murmur/train/84808.txt',\n",
       " '/Data2/hmd/data_split/murmur/train/84809.txt',\n",
       " '/Data2/hmd/data_split/murmur/train/84815.txt',\n",
       " '/Data2/hmd/data_split/murmur/train/84823.txt',\n",
       " '/Data2/hmd/data_split/murmur/train/84824.txt',\n",
       " '/Data2/hmd/data_split/murmur/train/84831.txt',\n",
       " '/Data2/hmd/data_split/murmur/train/84834.txt',\n",
       " '/Data2/hmd/data_split/murmur/train/84835.txt',\n",
       " '/Data2/hmd/data_split/murmur/train/84837.txt',\n",
       " '/Data2/hmd/data_split/murmur/train/84838.txt',\n",
       " '/Data2/hmd/data_split/murmur/train/84839.txt',\n",
       " '/Data2/hmd/data_split/murmur/train/84851.txt',\n",
       " '/Data2/hmd/data_split/murmur/train/84853.txt',\n",
       " '/Data2/hmd/data_split/murmur/train/84854.txt',\n",
       " '/Data2/hmd/data_split/murmur/train/84859.txt',\n",
       " '/Data2/hmd/data_split/murmur/train/84861.txt',\n",
       " '/Data2/hmd/data_split/murmur/train/84863.txt',\n",
       " '/Data2/hmd/data_split/murmur/train/84864.txt',\n",
       " '/Data2/hmd/data_split/murmur/train/84866.txt',\n",
       " '/Data2/hmd/data_split/murmur/train/84868.txt',\n",
       " '/Data2/hmd/data_split/murmur/train/84870.txt',\n",
       " '/Data2/hmd/data_split/murmur/train/84875.txt',\n",
       " '/Data2/hmd/data_split/murmur/train/84876.txt',\n",
       " '/Data2/hmd/data_split/murmur/train/84877.txt',\n",
       " '/Data2/hmd/data_split/murmur/train/84878.txt',\n",
       " '/Data2/hmd/data_split/murmur/train/84881.txt',\n",
       " '/Data2/hmd/data_split/murmur/train/84882.txt',\n",
       " '/Data2/hmd/data_split/murmur/train/84883.txt',\n",
       " '/Data2/hmd/data_split/murmur/train/84884.txt',\n",
       " '/Data2/hmd/data_split/murmur/train/84885.txt',\n",
       " '/Data2/hmd/data_split/murmur/train/84886.txt',\n",
       " '/Data2/hmd/data_split/murmur/train/84887.txt',\n",
       " '/Data2/hmd/data_split/murmur/train/84890.txt',\n",
       " '/Data2/hmd/data_split/murmur/train/84892.txt',\n",
       " '/Data2/hmd/data_split/murmur/train/84894.txt',\n",
       " '/Data2/hmd/data_split/murmur/train/84912.txt',\n",
       " '/Data2/hmd/data_split/murmur/train/84918.txt',\n",
       " '/Data2/hmd/data_split/murmur/train/84919.txt',\n",
       " '/Data2/hmd/data_split/murmur/train/84921.txt',\n",
       " '/Data2/hmd/data_split/murmur/train/84922.txt',\n",
       " '/Data2/hmd/data_split/murmur/train/84928.txt',\n",
       " '/Data2/hmd/data_split/murmur/train/84930.txt',\n",
       " '/Data2/hmd/data_split/murmur/train/84933.txt',\n",
       " '/Data2/hmd/data_split/murmur/train/84934.txt',\n",
       " '/Data2/hmd/data_split/murmur/train/84935.txt',\n",
       " '/Data2/hmd/data_split/murmur/train/84936.txt',\n",
       " '/Data2/hmd/data_split/murmur/train/84937.txt',\n",
       " '/Data2/hmd/data_split/murmur/train/84939.txt',\n",
       " '/Data2/hmd/data_split/murmur/train/84942.txt',\n",
       " '/Data2/hmd/data_split/murmur/train/84945.txt',\n",
       " '/Data2/hmd/data_split/murmur/train/84946.txt',\n",
       " '/Data2/hmd/data_split/murmur/train/84947.txt',\n",
       " '/Data2/hmd/data_split/murmur/train/84949.txt',\n",
       " '/Data2/hmd/data_split/murmur/train/84950.txt',\n",
       " '/Data2/hmd/data_split/murmur/train/84957.txt',\n",
       " '/Data2/hmd/data_split/murmur/train/84960.txt',\n",
       " '/Data2/hmd/data_split/murmur/train/84962.txt',\n",
       " '/Data2/hmd/data_split/murmur/train/84965.txt',\n",
       " '/Data2/hmd/data_split/murmur/train/84966.txt',\n",
       " '/Data2/hmd/data_split/murmur/train/84969.txt',\n",
       " '/Data2/hmd/data_split/murmur/train/84970.txt',\n",
       " '/Data2/hmd/data_split/murmur/train/84971.txt',\n",
       " '/Data2/hmd/data_split/murmur/train/84976.txt',\n",
       " '/Data2/hmd/data_split/murmur/train/84977.txt',\n",
       " '/Data2/hmd/data_split/murmur/train/84983.txt',\n",
       " '/Data2/hmd/data_split/murmur/train/84984.txt',\n",
       " '/Data2/hmd/data_split/murmur/train/84985.txt',\n",
       " '/Data2/hmd/data_split/murmur/train/84987.txt',\n",
       " '/Data2/hmd/data_split/murmur/train/84988.txt',\n",
       " '/Data2/hmd/data_split/murmur/train/84991.txt',\n",
       " '/Data2/hmd/data_split/murmur/train/84992.txt',\n",
       " '/Data2/hmd/data_split/murmur/train/84994.txt',\n",
       " '/Data2/hmd/data_split/murmur/train/84995.txt',\n",
       " '/Data2/hmd/data_split/murmur/train/84996.txt',\n",
       " '/Data2/hmd/data_split/murmur/train/85000.txt',\n",
       " '/Data2/hmd/data_split/murmur/train/85002.txt',\n",
       " '/Data2/hmd/data_split/murmur/train/85004.txt',\n",
       " '/Data2/hmd/data_split/murmur/train/85010.txt',\n",
       " '/Data2/hmd/data_split/murmur/train/85011.txt',\n",
       " '/Data2/hmd/data_split/murmur/train/85012.txt',\n",
       " '/Data2/hmd/data_split/murmur/train/85018.txt',\n",
       " '/Data2/hmd/data_split/murmur/train/85019.txt',\n",
       " '/Data2/hmd/data_split/murmur/train/85020.txt',\n",
       " '/Data2/hmd/data_split/murmur/train/85023.txt',\n",
       " '/Data2/hmd/data_split/murmur/train/85026.txt',\n",
       " '/Data2/hmd/data_split/murmur/train/85027.txt',\n",
       " '/Data2/hmd/data_split/murmur/train/85028.txt',\n",
       " '/Data2/hmd/data_split/murmur/train/85029.txt',\n",
       " '/Data2/hmd/data_split/murmur/train/85030.txt',\n",
       " '/Data2/hmd/data_split/murmur/train/85031.txt',\n",
       " '/Data2/hmd/data_split/murmur/train/85033.txt',\n",
       " '/Data2/hmd/data_split/murmur/train/85034.txt',\n",
       " '/Data2/hmd/data_split/murmur/train/85035.txt',\n",
       " '/Data2/hmd/data_split/murmur/train/85036.txt',\n",
       " '/Data2/hmd/data_split/murmur/train/85037.txt',\n",
       " '/Data2/hmd/data_split/murmur/train/85038.txt',\n",
       " '/Data2/hmd/data_split/murmur/train/85042.txt',\n",
       " '/Data2/hmd/data_split/murmur/train/85044.txt',\n",
       " '/Data2/hmd/data_split/murmur/train/85046.txt',\n",
       " '/Data2/hmd/data_split/murmur/train/85048.txt',\n",
       " '/Data2/hmd/data_split/murmur/train/85052.txt',\n",
       " '/Data2/hmd/data_split/murmur/train/85053.txt',\n",
       " '/Data2/hmd/data_split/murmur/train/85055.txt',\n",
       " '/Data2/hmd/data_split/murmur/train/85057.txt',\n",
       " '/Data2/hmd/data_split/murmur/train/85062.txt',\n",
       " '/Data2/hmd/data_split/murmur/train/85063.txt',\n",
       " '/Data2/hmd/data_split/murmur/train/85064.txt',\n",
       " '/Data2/hmd/data_split/murmur/train/85066.txt',\n",
       " '/Data2/hmd/data_split/murmur/train/85075.txt',\n",
       " '/Data2/hmd/data_split/murmur/train/85076.txt',\n",
       " '/Data2/hmd/data_split/murmur/train/85077.txt',\n",
       " '/Data2/hmd/data_split/murmur/train/85080.txt',\n",
       " '/Data2/hmd/data_split/murmur/train/85086.txt',\n",
       " '/Data2/hmd/data_split/murmur/train/85087.txt',\n",
       " '/Data2/hmd/data_split/murmur/train/85090.txt',\n",
       " '/Data2/hmd/data_split/murmur/train/85091.txt',\n",
       " '/Data2/hmd/data_split/murmur/train/85093.txt',\n",
       " '/Data2/hmd/data_split/murmur/train/85094.txt',\n",
       " '/Data2/hmd/data_split/murmur/train/85096.txt',\n",
       " '/Data2/hmd/data_split/murmur/train/85099.txt',\n",
       " '/Data2/hmd/data_split/murmur/train/85102.txt',\n",
       " '/Data2/hmd/data_split/murmur/train/85103.txt',\n",
       " '/Data2/hmd/data_split/murmur/train/85105.txt',\n",
       " '/Data2/hmd/data_split/murmur/train/85109.txt',\n",
       " '/Data2/hmd/data_split/murmur/train/85110.txt',\n",
       " '/Data2/hmd/data_split/murmur/train/85112.txt',\n",
       " '/Data2/hmd/data_split/murmur/train/85113.txt',\n",
       " '/Data2/hmd/data_split/murmur/train/85114.txt',\n",
       " '/Data2/hmd/data_split/murmur/train/85116.txt',\n",
       " '/Data2/hmd/data_split/murmur/train/85119.txt',\n",
       " '/Data2/hmd/data_split/murmur/train/85122.txt',\n",
       " '/Data2/hmd/data_split/murmur/train/85123.txt',\n",
       " '/Data2/hmd/data_split/murmur/train/85124.txt',\n",
       " '/Data2/hmd/data_split/murmur/train/85127.txt',\n",
       " '/Data2/hmd/data_split/murmur/train/85131.txt',\n",
       " '/Data2/hmd/data_split/murmur/train/85135.txt',\n",
       " '/Data2/hmd/data_split/murmur/train/85136.txt',\n",
       " '/Data2/hmd/data_split/murmur/train/85139.txt',\n",
       " '/Data2/hmd/data_split/murmur/train/85143.txt',\n",
       " '/Data2/hmd/data_split/murmur/train/85147.txt',\n",
       " '/Data2/hmd/data_split/murmur/train/85148.txt',\n",
       " '/Data2/hmd/data_split/murmur/train/85150.txt',\n",
       " '/Data2/hmd/data_split/murmur/train/85151.txt',\n",
       " '/Data2/hmd/data_split/murmur/train/85153.txt',\n",
       " '/Data2/hmd/data_split/murmur/train/85154.txt',\n",
       " '/Data2/hmd/data_split/murmur/train/85157.txt',\n",
       " '/Data2/hmd/data_split/murmur/train/85159.txt',\n",
       " '/Data2/hmd/data_split/murmur/train/85161.txt',\n",
       " '/Data2/hmd/data_split/murmur/train/85163.txt',\n",
       " '/Data2/hmd/data_split/murmur/train/85164.txt',\n",
       " '/Data2/hmd/data_split/murmur/train/85168.txt',\n",
       " '/Data2/hmd/data_split/murmur/train/85169.txt',\n",
       " '/Data2/hmd/data_split/murmur/train/85172.txt',\n",
       " '/Data2/hmd/data_split/murmur/train/85174.txt',\n",
       " '/Data2/hmd/data_split/murmur/train/85175.txt',\n",
       " '/Data2/hmd/data_split/murmur/train/85176.txt',\n",
       " '/Data2/hmd/data_split/murmur/train/85180.txt',\n",
       " '/Data2/hmd/data_split/murmur/train/85182.txt',\n",
       " '/Data2/hmd/data_split/murmur/train/85186.txt',\n",
       " '/Data2/hmd/data_split/murmur/train/85192.txt',\n",
       " '/Data2/hmd/data_split/murmur/train/85196.txt',\n",
       " '/Data2/hmd/data_split/murmur/train/85197.txt',\n",
       " '/Data2/hmd/data_split/murmur/train/85198.txt',\n",
       " '/Data2/hmd/data_split/murmur/train/85199.txt',\n",
       " '/Data2/hmd/data_split/murmur/train/85202.txt',\n",
       " '/Data2/hmd/data_split/murmur/train/85203.txt',\n",
       " '/Data2/hmd/data_split/murmur/train/85207.txt',\n",
       " '/Data2/hmd/data_split/murmur/train/85210.txt',\n",
       " '/Data2/hmd/data_split/murmur/train/85212.txt',\n",
       " '/Data2/hmd/data_split/murmur/train/85213.txt',\n",
       " '/Data2/hmd/data_split/murmur/train/85214.txt',\n",
       " '/Data2/hmd/data_split/murmur/train/85217.txt',\n",
       " '/Data2/hmd/data_split/murmur/train/85222.txt',\n",
       " '/Data2/hmd/data_split/murmur/train/85226.txt',\n",
       " '/Data2/hmd/data_split/murmur/train/85227.txt',\n",
       " '/Data2/hmd/data_split/murmur/train/85229.txt',\n",
       " '/Data2/hmd/data_split/murmur/train/85230.txt',\n",
       " '/Data2/hmd/data_split/murmur/train/85234.txt',\n",
       " '/Data2/hmd/data_split/murmur/train/85235.txt',\n",
       " '/Data2/hmd/data_split/murmur/train/85236.txt',\n",
       " '/Data2/hmd/data_split/murmur/train/85239.txt',\n",
       " '/Data2/hmd/data_split/murmur/train/85240.txt',\n",
       " '/Data2/hmd/data_split/murmur/train/85241.txt',\n",
       " '/Data2/hmd/data_split/murmur/train/85243.txt',\n",
       " '/Data2/hmd/data_split/murmur/train/85244.txt',\n",
       " '/Data2/hmd/data_split/murmur/train/85245.txt',\n",
       " '/Data2/hmd/data_split/murmur/train/85246.txt',\n",
       " '/Data2/hmd/data_split/murmur/train/85249.txt',\n",
       " '/Data2/hmd/data_split/murmur/train/85250.txt',\n",
       " '/Data2/hmd/data_split/murmur/train/85252.txt',\n",
       " '/Data2/hmd/data_split/murmur/train/85253.txt',\n",
       " '/Data2/hmd/data_split/murmur/train/85258.txt',\n",
       " '/Data2/hmd/data_split/murmur/train/85259.txt',\n",
       " '/Data2/hmd/data_split/murmur/train/85262.txt',\n",
       " '/Data2/hmd/data_split/murmur/train/85264.txt',\n",
       " '/Data2/hmd/data_split/murmur/train/85265.txt',\n",
       " '/Data2/hmd/data_split/murmur/train/85269.txt',\n",
       " '/Data2/hmd/data_split/murmur/train/85270.txt',\n",
       " '/Data2/hmd/data_split/murmur/train/85276.txt',\n",
       " '/Data2/hmd/data_split/murmur/train/85277.txt',\n",
       " '/Data2/hmd/data_split/murmur/train/85278.txt',\n",
       " '/Data2/hmd/data_split/murmur/train/85285.txt',\n",
       " '/Data2/hmd/data_split/murmur/train/85286.txt',\n",
       " '/Data2/hmd/data_split/murmur/train/85287.txt',\n",
       " '/Data2/hmd/data_split/murmur/train/85293.txt',\n",
       " '/Data2/hmd/data_split/murmur/train/85296.txt',\n",
       " '/Data2/hmd/data_split/murmur/train/85299.txt',\n",
       " '/Data2/hmd/data_split/murmur/train/85300.txt',\n",
       " '/Data2/hmd/data_split/murmur/train/85301.txt',\n",
       " '/Data2/hmd/data_split/murmur/train/85308.txt',\n",
       " '/Data2/hmd/data_split/murmur/train/85312.txt',\n",
       " '/Data2/hmd/data_split/murmur/train/85313.txt',\n",
       " '/Data2/hmd/data_split/murmur/train/85315.txt',\n",
       " '/Data2/hmd/data_split/murmur/train/85316.txt',\n",
       " '/Data2/hmd/data_split/murmur/train/85317.txt',\n",
       " '/Data2/hmd/data_split/murmur/train/85319.txt',\n",
       " '/Data2/hmd/data_split/murmur/train/85321.txt',\n",
       " '/Data2/hmd/data_split/murmur/train/85322.txt',\n",
       " '/Data2/hmd/data_split/murmur/train/85323.txt',\n",
       " '/Data2/hmd/data_split/murmur/train/85326.txt',\n",
       " '/Data2/hmd/data_split/murmur/train/85327.txt',\n",
       " '/Data2/hmd/data_split/murmur/train/85328.txt',\n",
       " '/Data2/hmd/data_split/murmur/train/85331.txt',\n",
       " '/Data2/hmd/data_split/murmur/train/85332.txt',\n",
       " '/Data2/hmd/data_split/murmur/train/85334.txt',\n",
       " '/Data2/hmd/data_split/murmur/train/85335.txt',\n",
       " '/Data2/hmd/data_split/murmur/train/85336.txt',\n",
       " '/Data2/hmd/data_split/murmur/train/85337.txt',\n",
       " '/Data2/hmd/data_split/murmur/train/85340.txt',\n",
       " '/Data2/hmd/data_split/murmur/train/85341.txt',\n",
       " '/Data2/hmd/data_split/murmur/train/85343.txt',\n",
       " '/Data2/hmd/data_split/murmur/train/85345.txt',\n",
       " '/Data2/hmd/data_split/murmur/train/85349.txt']"
      ]
     },
     "execution_count": 5,
     "metadata": {},
     "output_type": "execute_result"
    }
   ],
   "source": [
    "patient_files"
   ]
  },
  {
   "cell_type": "code",
   "execution_count": 8,
   "id": "bd23fe07",
   "metadata": {},
   "outputs": [],
   "source": [
    "num_patient_files = len(patient_files)"
   ]
  },
  {
   "cell_type": "code",
   "execution_count": 9,
   "id": "f118e95c",
   "metadata": {},
   "outputs": [
    {
     "data": {
      "text/plain": [
       "751"
      ]
     },
     "execution_count": 9,
     "metadata": {},
     "output_type": "execute_result"
    }
   ],
   "source": [
    "num_patient_files #751명의 환자 데이터"
   ]
  },
  {
   "cell_type": "code",
   "execution_count": 10,
   "id": "075b5ff5",
   "metadata": {},
   "outputs": [],
   "source": [
    "features, labels = get_features(data_folder, patient_files)"
   ]
  },
  {
   "cell_type": "code",
   "execution_count": 12,
   "id": "e070b395",
   "metadata": {},
   "outputs": [
    {
     "data": {
      "text/plain": [
       "(2532, 64, 313, 1)"
      ]
     },
     "execution_count": 12,
     "metadata": {},
     "output_type": "execute_result"
    }
   ],
   "source": [
    "features['mel1'].shape"
   ]
  },
  {
   "cell_type": "code",
   "execution_count": 6,
   "id": "9e58fc33",
   "metadata": {},
   "outputs": [
    {
     "name": "stdout",
     "output_type": "stream",
     "text": [
      "Mon Jul  4 08:45:15 2022       \n",
      "+-----------------------------------------------------------------------------+\n",
      "| NVIDIA-SMI 460.39       Driver Version: 460.39       CUDA Version: 11.2     |\n",
      "|-------------------------------+----------------------+----------------------+\n",
      "| GPU  Name        Persistence-M| Bus-Id        Disp.A | Volatile Uncorr. ECC |\n",
      "| Fan  Temp  Perf  Pwr:Usage/Cap|         Memory-Usage | GPU-Util  Compute M. |\n",
      "|                               |                      |               MIG M. |\n",
      "|===============================+======================+======================|\n",
      "|   0  Quadro RTX 8000     On   | 00000000:1A:00.0 Off |                  Off |\n",
      "| 33%   31C    P8    25W / 260W |   2100MiB / 48601MiB |      0%      Default |\n",
      "|                               |                      |                  N/A |\n",
      "+-------------------------------+----------------------+----------------------+\n",
      "|   1  Quadro RTX 8000     On   | 00000000:3D:00.0 Off |                  Off |\n",
      "| 33%   28C    P8     5W / 260W |      3MiB / 48601MiB |      0%      Default |\n",
      "|                               |                      |                  N/A |\n",
      "+-------------------------------+----------------------+----------------------+\n",
      "|   2  Quadro RTX 8000     On   | 00000000:3E:00.0 Off |                  Off |\n",
      "| 33%   60C    P2   269W / 260W |  21824MiB / 48601MiB |    100%      Default |\n",
      "|                               |                      |                  N/A |\n",
      "+-------------------------------+----------------------+----------------------+\n",
      "|   3  Quadro RTX 8000     On   | 00000000:40:00.0 Off |                  Off |\n",
      "| 33%   26C    P8     7W / 260W |   1255MiB / 48601MiB |      0%      Default |\n",
      "|                               |                      |                  N/A |\n",
      "+-------------------------------+----------------------+----------------------+\n",
      "|   4  Quadro RTX 8000     On   | 00000000:41:00.0 Off |                  Off |\n",
      "| 51%   72C    P2   250W / 260W |  47768MiB / 48601MiB |    100%      Default |\n",
      "|                               |                      |                  N/A |\n",
      "+-------------------------------+----------------------+----------------------+\n",
      "                                                                               \n",
      "+-----------------------------------------------------------------------------+\n",
      "| Processes:                                                                  |\n",
      "|  GPU   GI   CI        PID   Type   Process name                  GPU Memory |\n",
      "|        ID   ID                                                   Usage      |\n",
      "|=============================================================================|\n",
      "+-----------------------------------------------------------------------------+\n"
     ]
    }
   ],
   "source": [
    "!nvidia-smi"
   ]
  },
  {
   "cell_type": "code",
   "execution_count": null,
   "id": "ecedcaf2",
   "metadata": {},
   "outputs": [],
   "source": []
  },
  {
   "cell_type": "code",
   "execution_count": null,
   "id": "84a10795",
   "metadata": {},
   "outputs": [],
   "source": []
  },
  {
   "cell_type": "code",
   "execution_count": 37,
   "id": "379ab273",
   "metadata": {},
   "outputs": [
    {
     "name": "stderr",
     "output_type": "stream",
     "text": [
      "100%|█████████████████████████████████████████████████████████████████████████████████████████████████████████████████████████████████| 751/751 [14:56<00:00,  1.19s/it]\n"
     ]
    }
   ],
   "source": [
    "features, labels = get_features_vgg(data_folder, patient_files)"
   ]
  },
  {
   "cell_type": "code",
   "execution_count": 57,
   "id": "ed336756",
   "metadata": {},
   "outputs": [
    {
     "data": {
      "text/plain": [
       "'/Data2/hmd/data_split/murmur/train'"
      ]
     },
     "execution_count": 57,
     "metadata": {},
     "output_type": "execute_result"
    }
   ],
   "source": [
    "data_folder"
   ]
  },
  {
   "cell_type": "code",
   "execution_count": 74,
   "id": "8a00c633",
   "metadata": {},
   "outputs": [
    {
     "data": {
      "text/plain": [
       "(2532, 128)"
      ]
     },
     "execution_count": 74,
     "metadata": {},
     "output_type": "execute_result"
    }
   ],
   "source": [
    "features['mel1'].shape"
   ]
  },
  {
   "cell_type": "code",
   "execution_count": null,
   "id": "2c978412",
   "metadata": {},
   "outputs": [],
   "source": []
  },
  {
   "cell_type": "code",
   "execution_count": null,
   "id": "a5af52ae",
   "metadata": {},
   "outputs": [],
   "source": []
  },
  {
   "cell_type": "code",
   "execution_count": null,
   "id": "9ee4628c",
   "metadata": {},
   "outputs": [],
   "source": []
  },
  {
   "cell_type": "code",
   "execution_count": null,
   "id": "9d7a3411",
   "metadata": {},
   "outputs": [],
   "source": []
  },
  {
   "cell_type": "code",
   "execution_count": null,
   "id": "4b04a77a",
   "metadata": {},
   "outputs": [],
   "source": []
  },
  {
   "cell_type": "code",
   "execution_count": 25,
   "id": "d5af591b",
   "metadata": {},
   "outputs": [
    {
     "data": {
      "text/plain": [
       "(64, 313, 1)"
      ]
     },
     "execution_count": 25,
     "metadata": {},
     "output_type": "execute_result"
    }
   ],
   "source": [
    "features['mel1'][0].shape"
   ]
  },
  {
   "cell_type": "code",
   "execution_count": 9,
   "id": "d31abbb9",
   "metadata": {},
   "outputs": [
    {
     "data": {
      "text/plain": [
       "['/Data2/hmd/data_split/murmur/train/2530.txt',\n",
       " '/Data2/hmd/data_split/murmur/train/9979.txt',\n",
       " '/Data2/hmd/data_split/murmur/train/9983.txt',\n",
       " '/Data2/hmd/data_split/murmur/train/13918.txt',\n",
       " '/Data2/hmd/data_split/murmur/train/14241.txt',\n",
       " '/Data2/hmd/data_split/murmur/train/14998.txt',\n",
       " '/Data2/hmd/data_split/murmur/train/23625.txt',\n",
       " '/Data2/hmd/data_split/murmur/train/24160.txt',\n",
       " '/Data2/hmd/data_split/murmur/train/29045.txt',\n",
       " '/Data2/hmd/data_split/murmur/train/29378.txt',\n",
       " '/Data2/hmd/data_split/murmur/train/31737.txt',\n",
       " '/Data2/hmd/data_split/murmur/train/36327.txt',\n",
       " '/Data2/hmd/data_split/murmur/train/39043.txt',\n",
       " '/Data2/hmd/data_split/murmur/train/39403.txt',\n",
       " '/Data2/hmd/data_split/murmur/train/39456.txt',\n",
       " '/Data2/hmd/data_split/murmur/train/40058.txt',\n",
       " '/Data2/hmd/data_split/murmur/train/40840.txt',\n",
       " '/Data2/hmd/data_split/murmur/train/43852.txt',\n",
       " '/Data2/hmd/data_split/murmur/train/44514.txt',\n",
       " '/Data2/hmd/data_split/murmur/train/45843.txt',\n",
       " '/Data2/hmd/data_split/murmur/train/46065.txt',\n",
       " '/Data2/hmd/data_split/murmur/train/46532.txt',\n",
       " '/Data2/hmd/data_split/murmur/train/46579.txt',\n",
       " '/Data2/hmd/data_split/murmur/train/46778.txt',\n",
       " '/Data2/hmd/data_split/murmur/train/47002.txt',\n",
       " '/Data2/hmd/data_split/murmur/train/49561.txt',\n",
       " '/Data2/hmd/data_split/murmur/train/49562.txt',\n",
       " '/Data2/hmd/data_split/murmur/train/49568.txt',\n",
       " '/Data2/hmd/data_split/murmur/train/49574.txt',\n",
       " '/Data2/hmd/data_split/murmur/train/49577.txt',\n",
       " '/Data2/hmd/data_split/murmur/train/49585.txt',\n",
       " '/Data2/hmd/data_split/murmur/train/49595.txt',\n",
       " '/Data2/hmd/data_split/murmur/train/49598.txt',\n",
       " '/Data2/hmd/data_split/murmur/train/49610.txt',\n",
       " '/Data2/hmd/data_split/murmur/train/49618.txt',\n",
       " '/Data2/hmd/data_split/murmur/train/49622.txt',\n",
       " '/Data2/hmd/data_split/murmur/train/49627.txt',\n",
       " '/Data2/hmd/data_split/murmur/train/49630.txt',\n",
       " '/Data2/hmd/data_split/murmur/train/49631.txt',\n",
       " '/Data2/hmd/data_split/murmur/train/49638.txt',\n",
       " '/Data2/hmd/data_split/murmur/train/49659.txt',\n",
       " '/Data2/hmd/data_split/murmur/train/49661.txt',\n",
       " '/Data2/hmd/data_split/murmur/train/49669.txt',\n",
       " '/Data2/hmd/data_split/murmur/train/49678.txt',\n",
       " '/Data2/hmd/data_split/murmur/train/49687.txt',\n",
       " '/Data2/hmd/data_split/murmur/train/49704.txt',\n",
       " '/Data2/hmd/data_split/murmur/train/49712.txt',\n",
       " '/Data2/hmd/data_split/murmur/train/49719.txt',\n",
       " '/Data2/hmd/data_split/murmur/train/49729.txt',\n",
       " '/Data2/hmd/data_split/murmur/train/49735.txt',\n",
       " '/Data2/hmd/data_split/murmur/train/49745.txt',\n",
       " '/Data2/hmd/data_split/murmur/train/49748.txt',\n",
       " '/Data2/hmd/data_split/murmur/train/49751.txt',\n",
       " '/Data2/hmd/data_split/murmur/train/49754.txt',\n",
       " '/Data2/hmd/data_split/murmur/train/49776.txt',\n",
       " '/Data2/hmd/data_split/murmur/train/49808.txt',\n",
       " '/Data2/hmd/data_split/murmur/train/49821.txt',\n",
       " '/Data2/hmd/data_split/murmur/train/49823.txt',\n",
       " '/Data2/hmd/data_split/murmur/train/49838.txt',\n",
       " '/Data2/hmd/data_split/murmur/train/49839.txt',\n",
       " '/Data2/hmd/data_split/murmur/train/49842.txt',\n",
       " '/Data2/hmd/data_split/murmur/train/49850.txt',\n",
       " '/Data2/hmd/data_split/murmur/train/49853.txt',\n",
       " '/Data2/hmd/data_split/murmur/train/49854.txt',\n",
       " '/Data2/hmd/data_split/murmur/train/49873.txt',\n",
       " '/Data2/hmd/data_split/murmur/train/49876.txt',\n",
       " '/Data2/hmd/data_split/murmur/train/49897.txt',\n",
       " '/Data2/hmd/data_split/murmur/train/49900.txt',\n",
       " '/Data2/hmd/data_split/murmur/train/49930.txt',\n",
       " '/Data2/hmd/data_split/murmur/train/49931.txt',\n",
       " '/Data2/hmd/data_split/murmur/train/49946.txt',\n",
       " '/Data2/hmd/data_split/murmur/train/49959.txt',\n",
       " '/Data2/hmd/data_split/murmur/train/49960.txt',\n",
       " '/Data2/hmd/data_split/murmur/train/49963.txt',\n",
       " '/Data2/hmd/data_split/murmur/train/49966.txt',\n",
       " '/Data2/hmd/data_split/murmur/train/49968.txt',\n",
       " '/Data2/hmd/data_split/murmur/train/49969.txt',\n",
       " '/Data2/hmd/data_split/murmur/train/49970.txt',\n",
       " '/Data2/hmd/data_split/murmur/train/49974.txt',\n",
       " '/Data2/hmd/data_split/murmur/train/49979.txt',\n",
       " '/Data2/hmd/data_split/murmur/train/49986.txt',\n",
       " '/Data2/hmd/data_split/murmur/train/49987.txt',\n",
       " '/Data2/hmd/data_split/murmur/train/49988.txt',\n",
       " '/Data2/hmd/data_split/murmur/train/49989.txt',\n",
       " '/Data2/hmd/data_split/murmur/train/49990.txt',\n",
       " '/Data2/hmd/data_split/murmur/train/49993.txt',\n",
       " '/Data2/hmd/data_split/murmur/train/49994.txt',\n",
       " '/Data2/hmd/data_split/murmur/train/49995.txt',\n",
       " '/Data2/hmd/data_split/murmur/train/49998.txt',\n",
       " '/Data2/hmd/data_split/murmur/train/49999.txt',\n",
       " '/Data2/hmd/data_split/murmur/train/50001.txt',\n",
       " '/Data2/hmd/data_split/murmur/train/50004.txt',\n",
       " '/Data2/hmd/data_split/murmur/train/50005.txt',\n",
       " '/Data2/hmd/data_split/murmur/train/50007.txt',\n",
       " '/Data2/hmd/data_split/murmur/train/50008.txt',\n",
       " '/Data2/hmd/data_split/murmur/train/50009.txt',\n",
       " '/Data2/hmd/data_split/murmur/train/50014.txt',\n",
       " '/Data2/hmd/data_split/murmur/train/50015.txt',\n",
       " '/Data2/hmd/data_split/murmur/train/50017.txt',\n",
       " '/Data2/hmd/data_split/murmur/train/50018.txt',\n",
       " '/Data2/hmd/data_split/murmur/train/50023.txt',\n",
       " '/Data2/hmd/data_split/murmur/train/50027.txt',\n",
       " '/Data2/hmd/data_split/murmur/train/50029.txt',\n",
       " '/Data2/hmd/data_split/murmur/train/50030.txt',\n",
       " '/Data2/hmd/data_split/murmur/train/50032.txt',\n",
       " '/Data2/hmd/data_split/murmur/train/50034.txt',\n",
       " '/Data2/hmd/data_split/murmur/train/50037.txt',\n",
       " '/Data2/hmd/data_split/murmur/train/50043.txt',\n",
       " '/Data2/hmd/data_split/murmur/train/50048.txt',\n",
       " '/Data2/hmd/data_split/murmur/train/50053.txt',\n",
       " '/Data2/hmd/data_split/murmur/train/50054.txt',\n",
       " '/Data2/hmd/data_split/murmur/train/50056.txt',\n",
       " '/Data2/hmd/data_split/murmur/train/50057.txt',\n",
       " '/Data2/hmd/data_split/murmur/train/50061.txt',\n",
       " '/Data2/hmd/data_split/murmur/train/50066.txt',\n",
       " '/Data2/hmd/data_split/murmur/train/50070.txt',\n",
       " '/Data2/hmd/data_split/murmur/train/50072.txt',\n",
       " '/Data2/hmd/data_split/murmur/train/50074.txt',\n",
       " '/Data2/hmd/data_split/murmur/train/50076.txt',\n",
       " '/Data2/hmd/data_split/murmur/train/50077.txt',\n",
       " '/Data2/hmd/data_split/murmur/train/50078.txt',\n",
       " '/Data2/hmd/data_split/murmur/train/50080.txt',\n",
       " '/Data2/hmd/data_split/murmur/train/50085.txt',\n",
       " '/Data2/hmd/data_split/murmur/train/50089.txt',\n",
       " '/Data2/hmd/data_split/murmur/train/50092.txt',\n",
       " '/Data2/hmd/data_split/murmur/train/50094.txt',\n",
       " '/Data2/hmd/data_split/murmur/train/50096.txt',\n",
       " '/Data2/hmd/data_split/murmur/train/50099.txt',\n",
       " '/Data2/hmd/data_split/murmur/train/50100.txt',\n",
       " '/Data2/hmd/data_split/murmur/train/50103.txt',\n",
       " '/Data2/hmd/data_split/murmur/train/50109.txt',\n",
       " '/Data2/hmd/data_split/murmur/train/50111.txt',\n",
       " '/Data2/hmd/data_split/murmur/train/50113.txt',\n",
       " '/Data2/hmd/data_split/murmur/train/50115.txt',\n",
       " '/Data2/hmd/data_split/murmur/train/50116.txt',\n",
       " '/Data2/hmd/data_split/murmur/train/50117.txt',\n",
       " '/Data2/hmd/data_split/murmur/train/50118.txt',\n",
       " '/Data2/hmd/data_split/murmur/train/50119.txt',\n",
       " '/Data2/hmd/data_split/murmur/train/50121.txt',\n",
       " '/Data2/hmd/data_split/murmur/train/50122.txt',\n",
       " '/Data2/hmd/data_split/murmur/train/50123.txt',\n",
       " '/Data2/hmd/data_split/murmur/train/50125.txt',\n",
       " '/Data2/hmd/data_split/murmur/train/50126.txt',\n",
       " '/Data2/hmd/data_split/murmur/train/50127.txt',\n",
       " '/Data2/hmd/data_split/murmur/train/50128.txt',\n",
       " '/Data2/hmd/data_split/murmur/train/50129.txt',\n",
       " '/Data2/hmd/data_split/murmur/train/50133.txt',\n",
       " '/Data2/hmd/data_split/murmur/train/50136.txt',\n",
       " '/Data2/hmd/data_split/murmur/train/50137.txt',\n",
       " '/Data2/hmd/data_split/murmur/train/50138.txt',\n",
       " '/Data2/hmd/data_split/murmur/train/50141.txt',\n",
       " '/Data2/hmd/data_split/murmur/train/50142.txt',\n",
       " '/Data2/hmd/data_split/murmur/train/50146.txt',\n",
       " '/Data2/hmd/data_split/murmur/train/50149.txt',\n",
       " '/Data2/hmd/data_split/murmur/train/50150.txt',\n",
       " '/Data2/hmd/data_split/murmur/train/50151.txt',\n",
       " '/Data2/hmd/data_split/murmur/train/50152.txt',\n",
       " '/Data2/hmd/data_split/murmur/train/50153.txt',\n",
       " '/Data2/hmd/data_split/murmur/train/50159.txt',\n",
       " '/Data2/hmd/data_split/murmur/train/50160.txt',\n",
       " '/Data2/hmd/data_split/murmur/train/50161.txt',\n",
       " '/Data2/hmd/data_split/murmur/train/50166.txt',\n",
       " '/Data2/hmd/data_split/murmur/train/50174.txt',\n",
       " '/Data2/hmd/data_split/murmur/train/50204.txt',\n",
       " '/Data2/hmd/data_split/murmur/train/50206.txt',\n",
       " '/Data2/hmd/data_split/murmur/train/50207.txt',\n",
       " '/Data2/hmd/data_split/murmur/train/50209.txt',\n",
       " '/Data2/hmd/data_split/murmur/train/50216.txt',\n",
       " '/Data2/hmd/data_split/murmur/train/50217.txt',\n",
       " '/Data2/hmd/data_split/murmur/train/50220.txt',\n",
       " '/Data2/hmd/data_split/murmur/train/50221.txt',\n",
       " '/Data2/hmd/data_split/murmur/train/50222.txt',\n",
       " '/Data2/hmd/data_split/murmur/train/50225.txt',\n",
       " '/Data2/hmd/data_split/murmur/train/50228.txt',\n",
       " '/Data2/hmd/data_split/murmur/train/50229.txt',\n",
       " '/Data2/hmd/data_split/murmur/train/50230.txt',\n",
       " '/Data2/hmd/data_split/murmur/train/50231.txt',\n",
       " '/Data2/hmd/data_split/murmur/train/50233.txt',\n",
       " '/Data2/hmd/data_split/murmur/train/50238.txt',\n",
       " '/Data2/hmd/data_split/murmur/train/50239.txt',\n",
       " '/Data2/hmd/data_split/murmur/train/50241.txt',\n",
       " '/Data2/hmd/data_split/murmur/train/50244.txt',\n",
       " '/Data2/hmd/data_split/murmur/train/50247.txt',\n",
       " '/Data2/hmd/data_split/murmur/train/50248.txt',\n",
       " '/Data2/hmd/data_split/murmur/train/50250.txt',\n",
       " '/Data2/hmd/data_split/murmur/train/50251.txt',\n",
       " '/Data2/hmd/data_split/murmur/train/50254.txt',\n",
       " '/Data2/hmd/data_split/murmur/train/50256.txt',\n",
       " '/Data2/hmd/data_split/murmur/train/50258.txt',\n",
       " '/Data2/hmd/data_split/murmur/train/50261.txt',\n",
       " '/Data2/hmd/data_split/murmur/train/50263.txt',\n",
       " '/Data2/hmd/data_split/murmur/train/50264.txt',\n",
       " '/Data2/hmd/data_split/murmur/train/50271.txt',\n",
       " '/Data2/hmd/data_split/murmur/train/50272.txt',\n",
       " '/Data2/hmd/data_split/murmur/train/50273.txt',\n",
       " '/Data2/hmd/data_split/murmur/train/50276.txt',\n",
       " '/Data2/hmd/data_split/murmur/train/50277.txt',\n",
       " '/Data2/hmd/data_split/murmur/train/50278.txt',\n",
       " '/Data2/hmd/data_split/murmur/train/50280.txt',\n",
       " '/Data2/hmd/data_split/murmur/train/50281.txt',\n",
       " '/Data2/hmd/data_split/murmur/train/50284.txt',\n",
       " '/Data2/hmd/data_split/murmur/train/50285.txt',\n",
       " '/Data2/hmd/data_split/murmur/train/50291.txt',\n",
       " '/Data2/hmd/data_split/murmur/train/50295.txt',\n",
       " '/Data2/hmd/data_split/murmur/train/50296.txt',\n",
       " '/Data2/hmd/data_split/murmur/train/50297.txt',\n",
       " '/Data2/hmd/data_split/murmur/train/50298.txt',\n",
       " '/Data2/hmd/data_split/murmur/train/50300.txt',\n",
       " '/Data2/hmd/data_split/murmur/train/50303.txt',\n",
       " '/Data2/hmd/data_split/murmur/train/50304.txt',\n",
       " '/Data2/hmd/data_split/murmur/train/50306.txt',\n",
       " '/Data2/hmd/data_split/murmur/train/50311.txt',\n",
       " '/Data2/hmd/data_split/murmur/train/50312.txt',\n",
       " '/Data2/hmd/data_split/murmur/train/50314.txt',\n",
       " '/Data2/hmd/data_split/murmur/train/50316.txt',\n",
       " '/Data2/hmd/data_split/murmur/train/50317.txt',\n",
       " '/Data2/hmd/data_split/murmur/train/50318.txt',\n",
       " '/Data2/hmd/data_split/murmur/train/50319.txt',\n",
       " '/Data2/hmd/data_split/murmur/train/50321.txt',\n",
       " '/Data2/hmd/data_split/murmur/train/50323.txt',\n",
       " '/Data2/hmd/data_split/murmur/train/50325.txt',\n",
       " '/Data2/hmd/data_split/murmur/train/50326.txt',\n",
       " '/Data2/hmd/data_split/murmur/train/50327.txt',\n",
       " '/Data2/hmd/data_split/murmur/train/50331.txt',\n",
       " '/Data2/hmd/data_split/murmur/train/50332.txt',\n",
       " '/Data2/hmd/data_split/murmur/train/50334.txt',\n",
       " '/Data2/hmd/data_split/murmur/train/50335.txt',\n",
       " '/Data2/hmd/data_split/murmur/train/50336.txt',\n",
       " '/Data2/hmd/data_split/murmur/train/50337.txt',\n",
       " '/Data2/hmd/data_split/murmur/train/50339.txt',\n",
       " '/Data2/hmd/data_split/murmur/train/50343.txt',\n",
       " '/Data2/hmd/data_split/murmur/train/50345.txt',\n",
       " '/Data2/hmd/data_split/murmur/train/50349.txt',\n",
       " '/Data2/hmd/data_split/murmur/train/50350.txt',\n",
       " '/Data2/hmd/data_split/murmur/train/50352.txt',\n",
       " '/Data2/hmd/data_split/murmur/train/50354.txt',\n",
       " '/Data2/hmd/data_split/murmur/train/50359.txt',\n",
       " '/Data2/hmd/data_split/murmur/train/50379.txt',\n",
       " '/Data2/hmd/data_split/murmur/train/50384.txt',\n",
       " '/Data2/hmd/data_split/murmur/train/50385.txt',\n",
       " '/Data2/hmd/data_split/murmur/train/50388.txt',\n",
       " '/Data2/hmd/data_split/murmur/train/50391.txt',\n",
       " '/Data2/hmd/data_split/murmur/train/50393.txt',\n",
       " '/Data2/hmd/data_split/murmur/train/50620.txt',\n",
       " '/Data2/hmd/data_split/murmur/train/50621.txt',\n",
       " '/Data2/hmd/data_split/murmur/train/50625.txt',\n",
       " '/Data2/hmd/data_split/murmur/train/50626.txt',\n",
       " '/Data2/hmd/data_split/murmur/train/50628.txt',\n",
       " '/Data2/hmd/data_split/murmur/train/50629.txt',\n",
       " '/Data2/hmd/data_split/murmur/train/50635.txt',\n",
       " '/Data2/hmd/data_split/murmur/train/50636.txt',\n",
       " '/Data2/hmd/data_split/murmur/train/50639.txt',\n",
       " '/Data2/hmd/data_split/murmur/train/50645.txt',\n",
       " '/Data2/hmd/data_split/murmur/train/50646.txt',\n",
       " '/Data2/hmd/data_split/murmur/train/50647.txt',\n",
       " '/Data2/hmd/data_split/murmur/train/50649.txt',\n",
       " '/Data2/hmd/data_split/murmur/train/50652.txt',\n",
       " '/Data2/hmd/data_split/murmur/train/50654.txt',\n",
       " '/Data2/hmd/data_split/murmur/train/50655.txt',\n",
       " '/Data2/hmd/data_split/murmur/train/50657.txt',\n",
       " '/Data2/hmd/data_split/murmur/train/50658.txt',\n",
       " '/Data2/hmd/data_split/murmur/train/50661.txt',\n",
       " '/Data2/hmd/data_split/murmur/train/50665.txt',\n",
       " '/Data2/hmd/data_split/murmur/train/50667.txt',\n",
       " '/Data2/hmd/data_split/murmur/train/50668.txt',\n",
       " '/Data2/hmd/data_split/murmur/train/50669.txt',\n",
       " '/Data2/hmd/data_split/murmur/train/50673.txt',\n",
       " '/Data2/hmd/data_split/murmur/train/50676.txt',\n",
       " '/Data2/hmd/data_split/murmur/train/50677.txt',\n",
       " '/Data2/hmd/data_split/murmur/train/50678.txt',\n",
       " '/Data2/hmd/data_split/murmur/train/50680.txt',\n",
       " '/Data2/hmd/data_split/murmur/train/50687.txt',\n",
       " '/Data2/hmd/data_split/murmur/train/50688.txt',\n",
       " '/Data2/hmd/data_split/murmur/train/50689.txt',\n",
       " '/Data2/hmd/data_split/murmur/train/50690.txt',\n",
       " '/Data2/hmd/data_split/murmur/train/50691.txt',\n",
       " '/Data2/hmd/data_split/murmur/train/50704.txt',\n",
       " '/Data2/hmd/data_split/murmur/train/50707.txt',\n",
       " '/Data2/hmd/data_split/murmur/train/50713.txt',\n",
       " '/Data2/hmd/data_split/murmur/train/50715.txt',\n",
       " '/Data2/hmd/data_split/murmur/train/50720.txt',\n",
       " '/Data2/hmd/data_split/murmur/train/50721.txt',\n",
       " '/Data2/hmd/data_split/murmur/train/50722.txt',\n",
       " '/Data2/hmd/data_split/murmur/train/50723.txt',\n",
       " '/Data2/hmd/data_split/murmur/train/50725.txt',\n",
       " '/Data2/hmd/data_split/murmur/train/50727.txt',\n",
       " '/Data2/hmd/data_split/murmur/train/50729.txt',\n",
       " '/Data2/hmd/data_split/murmur/train/50731.txt',\n",
       " '/Data2/hmd/data_split/murmur/train/50732.txt',\n",
       " '/Data2/hmd/data_split/murmur/train/50735.txt',\n",
       " '/Data2/hmd/data_split/murmur/train/50736.txt',\n",
       " '/Data2/hmd/data_split/murmur/train/50738.txt',\n",
       " '/Data2/hmd/data_split/murmur/train/50739.txt',\n",
       " '/Data2/hmd/data_split/murmur/train/50740.txt',\n",
       " '/Data2/hmd/data_split/murmur/train/50742.txt',\n",
       " '/Data2/hmd/data_split/murmur/train/50744.txt',\n",
       " '/Data2/hmd/data_split/murmur/train/50746.txt',\n",
       " '/Data2/hmd/data_split/murmur/train/50747.txt',\n",
       " '/Data2/hmd/data_split/murmur/train/50748.txt',\n",
       " '/Data2/hmd/data_split/murmur/train/50749.txt',\n",
       " '/Data2/hmd/data_split/murmur/train/50751.txt',\n",
       " '/Data2/hmd/data_split/murmur/train/50752.txt',\n",
       " '/Data2/hmd/data_split/murmur/train/50753.txt',\n",
       " '/Data2/hmd/data_split/murmur/train/50754.txt',\n",
       " '/Data2/hmd/data_split/murmur/train/50756.txt',\n",
       " '/Data2/hmd/data_split/murmur/train/50758.txt',\n",
       " '/Data2/hmd/data_split/murmur/train/50762.txt',\n",
       " '/Data2/hmd/data_split/murmur/train/50763.txt',\n",
       " '/Data2/hmd/data_split/murmur/train/50766.txt',\n",
       " '/Data2/hmd/data_split/murmur/train/50768.txt',\n",
       " '/Data2/hmd/data_split/murmur/train/50771.txt',\n",
       " '/Data2/hmd/data_split/murmur/train/50772.txt',\n",
       " '/Data2/hmd/data_split/murmur/train/50773.txt',\n",
       " '/Data2/hmd/data_split/murmur/train/50776.txt',\n",
       " '/Data2/hmd/data_split/murmur/train/50782.txt',\n",
       " '/Data2/hmd/data_split/murmur/train/50784.txt',\n",
       " '/Data2/hmd/data_split/murmur/train/50787.txt',\n",
       " '/Data2/hmd/data_split/murmur/train/50788.txt',\n",
       " '/Data2/hmd/data_split/murmur/train/50789.txt',\n",
       " '/Data2/hmd/data_split/murmur/train/50790.txt',\n",
       " '/Data2/hmd/data_split/murmur/train/50793.txt',\n",
       " '/Data2/hmd/data_split/murmur/train/50795.txt',\n",
       " '/Data2/hmd/data_split/murmur/train/50796.txt',\n",
       " '/Data2/hmd/data_split/murmur/train/50797.txt',\n",
       " '/Data2/hmd/data_split/murmur/train/50798.txt',\n",
       " '/Data2/hmd/data_split/murmur/train/50802.txt',\n",
       " '/Data2/hmd/data_split/murmur/train/50803.txt',\n",
       " '/Data2/hmd/data_split/murmur/train/50805.txt',\n",
       " '/Data2/hmd/data_split/murmur/train/50807.txt',\n",
       " '/Data2/hmd/data_split/murmur/train/50812.txt',\n",
       " '/Data2/hmd/data_split/murmur/train/50818.txt',\n",
       " '/Data2/hmd/data_split/murmur/train/50819.txt',\n",
       " '/Data2/hmd/data_split/murmur/train/50820.txt',\n",
       " '/Data2/hmd/data_split/murmur/train/50822.txt',\n",
       " '/Data2/hmd/data_split/murmur/train/50826.txt',\n",
       " '/Data2/hmd/data_split/murmur/train/50829.txt',\n",
       " '/Data2/hmd/data_split/murmur/train/51331.txt',\n",
       " '/Data2/hmd/data_split/murmur/train/55945.txt',\n",
       " '/Data2/hmd/data_split/murmur/train/57700.txt',\n",
       " '/Data2/hmd/data_split/murmur/train/57706.txt',\n",
       " '/Data2/hmd/data_split/murmur/train/61610.txt',\n",
       " '/Data2/hmd/data_split/murmur/train/63456.txt',\n",
       " '/Data2/hmd/data_split/murmur/train/63581.txt',\n",
       " '/Data2/hmd/data_split/murmur/train/64256.txt',\n",
       " '/Data2/hmd/data_split/murmur/train/64715.txt',\n",
       " '/Data2/hmd/data_split/murmur/train/68175.txt',\n",
       " '/Data2/hmd/data_split/murmur/train/68182.txt',\n",
       " '/Data2/hmd/data_split/murmur/train/68186.txt',\n",
       " '/Data2/hmd/data_split/murmur/train/68194.txt',\n",
       " '/Data2/hmd/data_split/murmur/train/68204.txt',\n",
       " '/Data2/hmd/data_split/murmur/train/68213.txt',\n",
       " '/Data2/hmd/data_split/murmur/train/68219.txt',\n",
       " '/Data2/hmd/data_split/murmur/train/68222.txt',\n",
       " '/Data2/hmd/data_split/murmur/train/68260.txt',\n",
       " '/Data2/hmd/data_split/murmur/train/68269.txt',\n",
       " '/Data2/hmd/data_split/murmur/train/68279.txt',\n",
       " '/Data2/hmd/data_split/murmur/train/68292.txt',\n",
       " '/Data2/hmd/data_split/murmur/train/68298.txt',\n",
       " '/Data2/hmd/data_split/murmur/train/68303.txt',\n",
       " '/Data2/hmd/data_split/murmur/train/68316.txt',\n",
       " '/Data2/hmd/data_split/murmur/train/68318.txt',\n",
       " '/Data2/hmd/data_split/murmur/train/68337.txt',\n",
       " '/Data2/hmd/data_split/murmur/train/68347.txt',\n",
       " '/Data2/hmd/data_split/murmur/train/68359.txt',\n",
       " '/Data2/hmd/data_split/murmur/train/68363.txt',\n",
       " '/Data2/hmd/data_split/murmur/train/68368.txt',\n",
       " '/Data2/hmd/data_split/murmur/train/68374.txt',\n",
       " '/Data2/hmd/data_split/murmur/train/68377.txt',\n",
       " '/Data2/hmd/data_split/murmur/train/68379.txt',\n",
       " '/Data2/hmd/data_split/murmur/train/68394.txt',\n",
       " '/Data2/hmd/data_split/murmur/train/68395.txt',\n",
       " '/Data2/hmd/data_split/murmur/train/68407.txt',\n",
       " '/Data2/hmd/data_split/murmur/train/68412.txt',\n",
       " '/Data2/hmd/data_split/murmur/train/68413.txt',\n",
       " '/Data2/hmd/data_split/murmur/train/68419.txt',\n",
       " '/Data2/hmd/data_split/murmur/train/68425.txt',\n",
       " '/Data2/hmd/data_split/murmur/train/68427.txt',\n",
       " '/Data2/hmd/data_split/murmur/train/68431.txt',\n",
       " '/Data2/hmd/data_split/murmur/train/68444.txt',\n",
       " '/Data2/hmd/data_split/murmur/train/68456.txt',\n",
       " '/Data2/hmd/data_split/murmur/train/68465.txt',\n",
       " '/Data2/hmd/data_split/murmur/train/68470.txt',\n",
       " '/Data2/hmd/data_split/murmur/train/68477.txt',\n",
       " '/Data2/hmd/data_split/murmur/train/68478.txt',\n",
       " '/Data2/hmd/data_split/murmur/train/68482.txt',\n",
       " '/Data2/hmd/data_split/murmur/train/68487.txt',\n",
       " '/Data2/hmd/data_split/murmur/train/68498.txt',\n",
       " '/Data2/hmd/data_split/murmur/train/68504.txt',\n",
       " '/Data2/hmd/data_split/murmur/train/68532.txt',\n",
       " '/Data2/hmd/data_split/murmur/train/68556.txt',\n",
       " '/Data2/hmd/data_split/murmur/train/68560.txt',\n",
       " '/Data2/hmd/data_split/murmur/train/68567.txt',\n",
       " '/Data2/hmd/data_split/murmur/train/68576.txt',\n",
       " '/Data2/hmd/data_split/murmur/train/68582.txt',\n",
       " '/Data2/hmd/data_split/murmur/train/68624.txt',\n",
       " '/Data2/hmd/data_split/murmur/train/68632.txt',\n",
       " '/Data2/hmd/data_split/murmur/train/68646.txt',\n",
       " '/Data2/hmd/data_split/murmur/train/68659.txt',\n",
       " '/Data2/hmd/data_split/murmur/train/68660.txt',\n",
       " '/Data2/hmd/data_split/murmur/train/68702.txt',\n",
       " '/Data2/hmd/data_split/murmur/train/68705.txt',\n",
       " '/Data2/hmd/data_split/murmur/train/68708.txt',\n",
       " '/Data2/hmd/data_split/murmur/train/68711.txt',\n",
       " '/Data2/hmd/data_split/murmur/train/68737.txt',\n",
       " '/Data2/hmd/data_split/murmur/train/68740.txt',\n",
       " '/Data2/hmd/data_split/murmur/train/68741.txt',\n",
       " '/Data2/hmd/data_split/murmur/train/68752.txt',\n",
       " '/Data2/hmd/data_split/murmur/train/68755.txt',\n",
       " '/Data2/hmd/data_split/murmur/train/68756.txt',\n",
       " '/Data2/hmd/data_split/murmur/train/68757.txt',\n",
       " '/Data2/hmd/data_split/murmur/train/68827.txt',\n",
       " '/Data2/hmd/data_split/murmur/train/68831.txt',\n",
       " '/Data2/hmd/data_split/murmur/train/68849.txt',\n",
       " '/Data2/hmd/data_split/murmur/train/68857.txt',\n",
       " '/Data2/hmd/data_split/murmur/train/68861.txt',\n",
       " '/Data2/hmd/data_split/murmur/train/68864.txt',\n",
       " '/Data2/hmd/data_split/murmur/train/68874.txt',\n",
       " '/Data2/hmd/data_split/murmur/train/68886.txt',\n",
       " '/Data2/hmd/data_split/murmur/train/68888.txt',\n",
       " '/Data2/hmd/data_split/murmur/train/68895.txt',\n",
       " '/Data2/hmd/data_split/murmur/train/68901.txt',\n",
       " '/Data2/hmd/data_split/murmur/train/68908.txt',\n",
       " '/Data2/hmd/data_split/murmur/train/68909.txt',\n",
       " '/Data2/hmd/data_split/murmur/train/69066.txt',\n",
       " '/Data2/hmd/data_split/murmur/train/69067.txt',\n",
       " '/Data2/hmd/data_split/murmur/train/69079.txt',\n",
       " '/Data2/hmd/data_split/murmur/train/69093.txt',\n",
       " '/Data2/hmd/data_split/murmur/train/69095.txt',\n",
       " '/Data2/hmd/data_split/murmur/train/69096.txt',\n",
       " '/Data2/hmd/data_split/murmur/train/69106.txt',\n",
       " '/Data2/hmd/data_split/murmur/train/69120.txt',\n",
       " '/Data2/hmd/data_split/murmur/train/69129.txt',\n",
       " '/Data2/hmd/data_split/murmur/train/69141.txt',\n",
       " '/Data2/hmd/data_split/murmur/train/69152.txt',\n",
       " '/Data2/hmd/data_split/murmur/train/69155.txt',\n",
       " '/Data2/hmd/data_split/murmur/train/69159.txt',\n",
       " '/Data2/hmd/data_split/murmur/train/69161.txt',\n",
       " '/Data2/hmd/data_split/murmur/train/69174.txt',\n",
       " '/Data2/hmd/data_split/murmur/train/69176.txt',\n",
       " '/Data2/hmd/data_split/murmur/train/69188.txt',\n",
       " '/Data2/hmd/data_split/murmur/train/72283.txt',\n",
       " '/Data2/hmd/data_split/murmur/train/72288.txt',\n",
       " '/Data2/hmd/data_split/murmur/train/74420.txt',\n",
       " '/Data2/hmd/data_split/murmur/train/75440.txt',\n",
       " '/Data2/hmd/data_split/murmur/train/76240.txt',\n",
       " '/Data2/hmd/data_split/murmur/train/76758.txt',\n",
       " '/Data2/hmd/data_split/murmur/train/77373.txt',\n",
       " '/Data2/hmd/data_split/murmur/train/78280.txt',\n",
       " '/Data2/hmd/data_split/murmur/train/78582.txt',\n",
       " '/Data2/hmd/data_split/murmur/train/78592.txt',\n",
       " '/Data2/hmd/data_split/murmur/train/80348.txt',\n",
       " '/Data2/hmd/data_split/murmur/train/81297.txt',\n",
       " '/Data2/hmd/data_split/murmur/train/81501.txt',\n",
       " '/Data2/hmd/data_split/murmur/train/81638.txt',\n",
       " '/Data2/hmd/data_split/murmur/train/82275.txt',\n",
       " '/Data2/hmd/data_split/murmur/train/83094.txt',\n",
       " '/Data2/hmd/data_split/murmur/train/84687.txt',\n",
       " '/Data2/hmd/data_split/murmur/train/84688.txt',\n",
       " '/Data2/hmd/data_split/murmur/train/84689.txt',\n",
       " '/Data2/hmd/data_split/murmur/train/84690.txt',\n",
       " '/Data2/hmd/data_split/murmur/train/84693.txt',\n",
       " '/Data2/hmd/data_split/murmur/train/84695.txt',\n",
       " '/Data2/hmd/data_split/murmur/train/84696.txt',\n",
       " '/Data2/hmd/data_split/murmur/train/84697.txt',\n",
       " '/Data2/hmd/data_split/murmur/train/84699.txt',\n",
       " '/Data2/hmd/data_split/murmur/train/84702.txt',\n",
       " '/Data2/hmd/data_split/murmur/train/84704.txt',\n",
       " '/Data2/hmd/data_split/murmur/train/84706.txt',\n",
       " '/Data2/hmd/data_split/murmur/train/84709.txt',\n",
       " '/Data2/hmd/data_split/murmur/train/84710.txt',\n",
       " '/Data2/hmd/data_split/murmur/train/84713.txt',\n",
       " '/Data2/hmd/data_split/murmur/train/84714.txt',\n",
       " '/Data2/hmd/data_split/murmur/train/84716.txt',\n",
       " '/Data2/hmd/data_split/murmur/train/84718.txt',\n",
       " '/Data2/hmd/data_split/murmur/train/84721.txt',\n",
       " '/Data2/hmd/data_split/murmur/train/84724.txt',\n",
       " '/Data2/hmd/data_split/murmur/train/84725.txt',\n",
       " '/Data2/hmd/data_split/murmur/train/84727.txt',\n",
       " '/Data2/hmd/data_split/murmur/train/84730.txt',\n",
       " '/Data2/hmd/data_split/murmur/train/84731.txt',\n",
       " '/Data2/hmd/data_split/murmur/train/84732.txt',\n",
       " '/Data2/hmd/data_split/murmur/train/84735.txt',\n",
       " '/Data2/hmd/data_split/murmur/train/84736.txt',\n",
       " '/Data2/hmd/data_split/murmur/train/84738.txt',\n",
       " '/Data2/hmd/data_split/murmur/train/84740.txt',\n",
       " '/Data2/hmd/data_split/murmur/train/84742.txt',\n",
       " '/Data2/hmd/data_split/murmur/train/84746.txt',\n",
       " '/Data2/hmd/data_split/murmur/train/84747.txt',\n",
       " '/Data2/hmd/data_split/murmur/train/84749.txt',\n",
       " '/Data2/hmd/data_split/murmur/train/84750.txt',\n",
       " '/Data2/hmd/data_split/murmur/train/84751.txt',\n",
       " '/Data2/hmd/data_split/murmur/train/84753.txt',\n",
       " '/Data2/hmd/data_split/murmur/train/84754.txt',\n",
       " '/Data2/hmd/data_split/murmur/train/84755.txt',\n",
       " '/Data2/hmd/data_split/murmur/train/84761.txt',\n",
       " '/Data2/hmd/data_split/murmur/train/84762.txt',\n",
       " '/Data2/hmd/data_split/murmur/train/84764.txt',\n",
       " '/Data2/hmd/data_split/murmur/train/84765.txt',\n",
       " '/Data2/hmd/data_split/murmur/train/84768.txt',\n",
       " '/Data2/hmd/data_split/murmur/train/84769.txt',\n",
       " '/Data2/hmd/data_split/murmur/train/84775.txt',\n",
       " '/Data2/hmd/data_split/murmur/train/84776.txt',\n",
       " '/Data2/hmd/data_split/murmur/train/84778.txt',\n",
       " '/Data2/hmd/data_split/murmur/train/84779.txt',\n",
       " '/Data2/hmd/data_split/murmur/train/84780.txt',\n",
       " '/Data2/hmd/data_split/murmur/train/84784.txt',\n",
       " '/Data2/hmd/data_split/murmur/train/84785.txt',\n",
       " '/Data2/hmd/data_split/murmur/train/84786.txt',\n",
       " '/Data2/hmd/data_split/murmur/train/84790.txt',\n",
       " '/Data2/hmd/data_split/murmur/train/84793.txt',\n",
       " '/Data2/hmd/data_split/murmur/train/84796.txt',\n",
       " '/Data2/hmd/data_split/murmur/train/84798.txt',\n",
       " '/Data2/hmd/data_split/murmur/train/84799.txt',\n",
       " '/Data2/hmd/data_split/murmur/train/84802.txt',\n",
       " '/Data2/hmd/data_split/murmur/train/84803.txt',\n",
       " '/Data2/hmd/data_split/murmur/train/84804.txt',\n",
       " '/Data2/hmd/data_split/murmur/train/84805.txt',\n",
       " '/Data2/hmd/data_split/murmur/train/84807.txt',\n",
       " '/Data2/hmd/data_split/murmur/train/84808.txt',\n",
       " '/Data2/hmd/data_split/murmur/train/84809.txt',\n",
       " '/Data2/hmd/data_split/murmur/train/84815.txt',\n",
       " '/Data2/hmd/data_split/murmur/train/84823.txt',\n",
       " '/Data2/hmd/data_split/murmur/train/84824.txt',\n",
       " '/Data2/hmd/data_split/murmur/train/84831.txt',\n",
       " '/Data2/hmd/data_split/murmur/train/84834.txt',\n",
       " '/Data2/hmd/data_split/murmur/train/84835.txt',\n",
       " '/Data2/hmd/data_split/murmur/train/84837.txt',\n",
       " '/Data2/hmd/data_split/murmur/train/84838.txt',\n",
       " '/Data2/hmd/data_split/murmur/train/84839.txt',\n",
       " '/Data2/hmd/data_split/murmur/train/84851.txt',\n",
       " '/Data2/hmd/data_split/murmur/train/84853.txt',\n",
       " '/Data2/hmd/data_split/murmur/train/84854.txt',\n",
       " '/Data2/hmd/data_split/murmur/train/84859.txt',\n",
       " '/Data2/hmd/data_split/murmur/train/84861.txt',\n",
       " '/Data2/hmd/data_split/murmur/train/84863.txt',\n",
       " '/Data2/hmd/data_split/murmur/train/84864.txt',\n",
       " '/Data2/hmd/data_split/murmur/train/84866.txt',\n",
       " '/Data2/hmd/data_split/murmur/train/84868.txt',\n",
       " '/Data2/hmd/data_split/murmur/train/84870.txt',\n",
       " '/Data2/hmd/data_split/murmur/train/84875.txt',\n",
       " '/Data2/hmd/data_split/murmur/train/84876.txt',\n",
       " '/Data2/hmd/data_split/murmur/train/84877.txt',\n",
       " '/Data2/hmd/data_split/murmur/train/84878.txt',\n",
       " '/Data2/hmd/data_split/murmur/train/84881.txt',\n",
       " '/Data2/hmd/data_split/murmur/train/84882.txt',\n",
       " '/Data2/hmd/data_split/murmur/train/84883.txt',\n",
       " '/Data2/hmd/data_split/murmur/train/84884.txt',\n",
       " '/Data2/hmd/data_split/murmur/train/84885.txt',\n",
       " '/Data2/hmd/data_split/murmur/train/84886.txt',\n",
       " '/Data2/hmd/data_split/murmur/train/84887.txt',\n",
       " '/Data2/hmd/data_split/murmur/train/84890.txt',\n",
       " '/Data2/hmd/data_split/murmur/train/84892.txt',\n",
       " '/Data2/hmd/data_split/murmur/train/84894.txt',\n",
       " '/Data2/hmd/data_split/murmur/train/84912.txt',\n",
       " '/Data2/hmd/data_split/murmur/train/84918.txt',\n",
       " '/Data2/hmd/data_split/murmur/train/84919.txt',\n",
       " '/Data2/hmd/data_split/murmur/train/84921.txt',\n",
       " '/Data2/hmd/data_split/murmur/train/84922.txt',\n",
       " '/Data2/hmd/data_split/murmur/train/84928.txt',\n",
       " '/Data2/hmd/data_split/murmur/train/84930.txt',\n",
       " '/Data2/hmd/data_split/murmur/train/84933.txt',\n",
       " '/Data2/hmd/data_split/murmur/train/84934.txt',\n",
       " '/Data2/hmd/data_split/murmur/train/84935.txt',\n",
       " '/Data2/hmd/data_split/murmur/train/84936.txt',\n",
       " '/Data2/hmd/data_split/murmur/train/84937.txt',\n",
       " '/Data2/hmd/data_split/murmur/train/84939.txt',\n",
       " '/Data2/hmd/data_split/murmur/train/84942.txt',\n",
       " '/Data2/hmd/data_split/murmur/train/84945.txt',\n",
       " '/Data2/hmd/data_split/murmur/train/84946.txt',\n",
       " '/Data2/hmd/data_split/murmur/train/84947.txt',\n",
       " '/Data2/hmd/data_split/murmur/train/84949.txt',\n",
       " '/Data2/hmd/data_split/murmur/train/84950.txt',\n",
       " '/Data2/hmd/data_split/murmur/train/84957.txt',\n",
       " '/Data2/hmd/data_split/murmur/train/84960.txt',\n",
       " '/Data2/hmd/data_split/murmur/train/84962.txt',\n",
       " '/Data2/hmd/data_split/murmur/train/84965.txt',\n",
       " '/Data2/hmd/data_split/murmur/train/84966.txt',\n",
       " '/Data2/hmd/data_split/murmur/train/84969.txt',\n",
       " '/Data2/hmd/data_split/murmur/train/84970.txt',\n",
       " '/Data2/hmd/data_split/murmur/train/84971.txt',\n",
       " '/Data2/hmd/data_split/murmur/train/84976.txt',\n",
       " '/Data2/hmd/data_split/murmur/train/84977.txt',\n",
       " '/Data2/hmd/data_split/murmur/train/84983.txt',\n",
       " '/Data2/hmd/data_split/murmur/train/84984.txt',\n",
       " '/Data2/hmd/data_split/murmur/train/84985.txt',\n",
       " '/Data2/hmd/data_split/murmur/train/84987.txt',\n",
       " '/Data2/hmd/data_split/murmur/train/84988.txt',\n",
       " '/Data2/hmd/data_split/murmur/train/84991.txt',\n",
       " '/Data2/hmd/data_split/murmur/train/84992.txt',\n",
       " '/Data2/hmd/data_split/murmur/train/84994.txt',\n",
       " '/Data2/hmd/data_split/murmur/train/84995.txt',\n",
       " '/Data2/hmd/data_split/murmur/train/84996.txt',\n",
       " '/Data2/hmd/data_split/murmur/train/85000.txt',\n",
       " '/Data2/hmd/data_split/murmur/train/85002.txt',\n",
       " '/Data2/hmd/data_split/murmur/train/85004.txt',\n",
       " '/Data2/hmd/data_split/murmur/train/85010.txt',\n",
       " '/Data2/hmd/data_split/murmur/train/85011.txt',\n",
       " '/Data2/hmd/data_split/murmur/train/85012.txt',\n",
       " '/Data2/hmd/data_split/murmur/train/85018.txt',\n",
       " '/Data2/hmd/data_split/murmur/train/85019.txt',\n",
       " '/Data2/hmd/data_split/murmur/train/85020.txt',\n",
       " '/Data2/hmd/data_split/murmur/train/85023.txt',\n",
       " '/Data2/hmd/data_split/murmur/train/85026.txt',\n",
       " '/Data2/hmd/data_split/murmur/train/85027.txt',\n",
       " '/Data2/hmd/data_split/murmur/train/85028.txt',\n",
       " '/Data2/hmd/data_split/murmur/train/85029.txt',\n",
       " '/Data2/hmd/data_split/murmur/train/85030.txt',\n",
       " '/Data2/hmd/data_split/murmur/train/85031.txt',\n",
       " '/Data2/hmd/data_split/murmur/train/85033.txt',\n",
       " '/Data2/hmd/data_split/murmur/train/85034.txt',\n",
       " '/Data2/hmd/data_split/murmur/train/85035.txt',\n",
       " '/Data2/hmd/data_split/murmur/train/85036.txt',\n",
       " '/Data2/hmd/data_split/murmur/train/85037.txt',\n",
       " '/Data2/hmd/data_split/murmur/train/85038.txt',\n",
       " '/Data2/hmd/data_split/murmur/train/85042.txt',\n",
       " '/Data2/hmd/data_split/murmur/train/85044.txt',\n",
       " '/Data2/hmd/data_split/murmur/train/85046.txt',\n",
       " '/Data2/hmd/data_split/murmur/train/85048.txt',\n",
       " '/Data2/hmd/data_split/murmur/train/85052.txt',\n",
       " '/Data2/hmd/data_split/murmur/train/85053.txt',\n",
       " '/Data2/hmd/data_split/murmur/train/85055.txt',\n",
       " '/Data2/hmd/data_split/murmur/train/85057.txt',\n",
       " '/Data2/hmd/data_split/murmur/train/85062.txt',\n",
       " '/Data2/hmd/data_split/murmur/train/85063.txt',\n",
       " '/Data2/hmd/data_split/murmur/train/85064.txt',\n",
       " '/Data2/hmd/data_split/murmur/train/85066.txt',\n",
       " '/Data2/hmd/data_split/murmur/train/85075.txt',\n",
       " '/Data2/hmd/data_split/murmur/train/85076.txt',\n",
       " '/Data2/hmd/data_split/murmur/train/85077.txt',\n",
       " '/Data2/hmd/data_split/murmur/train/85080.txt',\n",
       " '/Data2/hmd/data_split/murmur/train/85086.txt',\n",
       " '/Data2/hmd/data_split/murmur/train/85087.txt',\n",
       " '/Data2/hmd/data_split/murmur/train/85090.txt',\n",
       " '/Data2/hmd/data_split/murmur/train/85091.txt',\n",
       " '/Data2/hmd/data_split/murmur/train/85093.txt',\n",
       " '/Data2/hmd/data_split/murmur/train/85094.txt',\n",
       " '/Data2/hmd/data_split/murmur/train/85096.txt',\n",
       " '/Data2/hmd/data_split/murmur/train/85099.txt',\n",
       " '/Data2/hmd/data_split/murmur/train/85102.txt',\n",
       " '/Data2/hmd/data_split/murmur/train/85103.txt',\n",
       " '/Data2/hmd/data_split/murmur/train/85105.txt',\n",
       " '/Data2/hmd/data_split/murmur/train/85109.txt',\n",
       " '/Data2/hmd/data_split/murmur/train/85110.txt',\n",
       " '/Data2/hmd/data_split/murmur/train/85112.txt',\n",
       " '/Data2/hmd/data_split/murmur/train/85113.txt',\n",
       " '/Data2/hmd/data_split/murmur/train/85114.txt',\n",
       " '/Data2/hmd/data_split/murmur/train/85116.txt',\n",
       " '/Data2/hmd/data_split/murmur/train/85119.txt',\n",
       " '/Data2/hmd/data_split/murmur/train/85122.txt',\n",
       " '/Data2/hmd/data_split/murmur/train/85123.txt',\n",
       " '/Data2/hmd/data_split/murmur/train/85124.txt',\n",
       " '/Data2/hmd/data_split/murmur/train/85127.txt',\n",
       " '/Data2/hmd/data_split/murmur/train/85131.txt',\n",
       " '/Data2/hmd/data_split/murmur/train/85135.txt',\n",
       " '/Data2/hmd/data_split/murmur/train/85136.txt',\n",
       " '/Data2/hmd/data_split/murmur/train/85139.txt',\n",
       " '/Data2/hmd/data_split/murmur/train/85143.txt',\n",
       " '/Data2/hmd/data_split/murmur/train/85147.txt',\n",
       " '/Data2/hmd/data_split/murmur/train/85148.txt',\n",
       " '/Data2/hmd/data_split/murmur/train/85150.txt',\n",
       " '/Data2/hmd/data_split/murmur/train/85151.txt',\n",
       " '/Data2/hmd/data_split/murmur/train/85153.txt',\n",
       " '/Data2/hmd/data_split/murmur/train/85154.txt',\n",
       " '/Data2/hmd/data_split/murmur/train/85157.txt',\n",
       " '/Data2/hmd/data_split/murmur/train/85159.txt',\n",
       " '/Data2/hmd/data_split/murmur/train/85161.txt',\n",
       " '/Data2/hmd/data_split/murmur/train/85163.txt',\n",
       " '/Data2/hmd/data_split/murmur/train/85164.txt',\n",
       " '/Data2/hmd/data_split/murmur/train/85168.txt',\n",
       " '/Data2/hmd/data_split/murmur/train/85169.txt',\n",
       " '/Data2/hmd/data_split/murmur/train/85172.txt',\n",
       " '/Data2/hmd/data_split/murmur/train/85174.txt',\n",
       " '/Data2/hmd/data_split/murmur/train/85175.txt',\n",
       " '/Data2/hmd/data_split/murmur/train/85176.txt',\n",
       " '/Data2/hmd/data_split/murmur/train/85180.txt',\n",
       " '/Data2/hmd/data_split/murmur/train/85182.txt',\n",
       " '/Data2/hmd/data_split/murmur/train/85186.txt',\n",
       " '/Data2/hmd/data_split/murmur/train/85192.txt',\n",
       " '/Data2/hmd/data_split/murmur/train/85196.txt',\n",
       " '/Data2/hmd/data_split/murmur/train/85197.txt',\n",
       " '/Data2/hmd/data_split/murmur/train/85198.txt',\n",
       " '/Data2/hmd/data_split/murmur/train/85199.txt',\n",
       " '/Data2/hmd/data_split/murmur/train/85202.txt',\n",
       " '/Data2/hmd/data_split/murmur/train/85203.txt',\n",
       " '/Data2/hmd/data_split/murmur/train/85207.txt',\n",
       " '/Data2/hmd/data_split/murmur/train/85210.txt',\n",
       " '/Data2/hmd/data_split/murmur/train/85212.txt',\n",
       " '/Data2/hmd/data_split/murmur/train/85213.txt',\n",
       " '/Data2/hmd/data_split/murmur/train/85214.txt',\n",
       " '/Data2/hmd/data_split/murmur/train/85217.txt',\n",
       " '/Data2/hmd/data_split/murmur/train/85222.txt',\n",
       " '/Data2/hmd/data_split/murmur/train/85226.txt',\n",
       " '/Data2/hmd/data_split/murmur/train/85227.txt',\n",
       " '/Data2/hmd/data_split/murmur/train/85229.txt',\n",
       " '/Data2/hmd/data_split/murmur/train/85230.txt',\n",
       " '/Data2/hmd/data_split/murmur/train/85234.txt',\n",
       " '/Data2/hmd/data_split/murmur/train/85235.txt',\n",
       " '/Data2/hmd/data_split/murmur/train/85236.txt',\n",
       " '/Data2/hmd/data_split/murmur/train/85239.txt',\n",
       " '/Data2/hmd/data_split/murmur/train/85240.txt',\n",
       " '/Data2/hmd/data_split/murmur/train/85241.txt',\n",
       " '/Data2/hmd/data_split/murmur/train/85243.txt',\n",
       " '/Data2/hmd/data_split/murmur/train/85244.txt',\n",
       " '/Data2/hmd/data_split/murmur/train/85245.txt',\n",
       " '/Data2/hmd/data_split/murmur/train/85246.txt',\n",
       " '/Data2/hmd/data_split/murmur/train/85249.txt',\n",
       " '/Data2/hmd/data_split/murmur/train/85250.txt',\n",
       " '/Data2/hmd/data_split/murmur/train/85252.txt',\n",
       " '/Data2/hmd/data_split/murmur/train/85253.txt',\n",
       " '/Data2/hmd/data_split/murmur/train/85258.txt',\n",
       " '/Data2/hmd/data_split/murmur/train/85259.txt',\n",
       " '/Data2/hmd/data_split/murmur/train/85262.txt',\n",
       " '/Data2/hmd/data_split/murmur/train/85264.txt',\n",
       " '/Data2/hmd/data_split/murmur/train/85265.txt',\n",
       " '/Data2/hmd/data_split/murmur/train/85269.txt',\n",
       " '/Data2/hmd/data_split/murmur/train/85270.txt',\n",
       " '/Data2/hmd/data_split/murmur/train/85276.txt',\n",
       " '/Data2/hmd/data_split/murmur/train/85277.txt',\n",
       " '/Data2/hmd/data_split/murmur/train/85278.txt',\n",
       " '/Data2/hmd/data_split/murmur/train/85285.txt',\n",
       " '/Data2/hmd/data_split/murmur/train/85286.txt',\n",
       " '/Data2/hmd/data_split/murmur/train/85287.txt',\n",
       " '/Data2/hmd/data_split/murmur/train/85293.txt',\n",
       " '/Data2/hmd/data_split/murmur/train/85296.txt',\n",
       " '/Data2/hmd/data_split/murmur/train/85299.txt',\n",
       " '/Data2/hmd/data_split/murmur/train/85300.txt',\n",
       " '/Data2/hmd/data_split/murmur/train/85301.txt',\n",
       " '/Data2/hmd/data_split/murmur/train/85308.txt',\n",
       " '/Data2/hmd/data_split/murmur/train/85312.txt',\n",
       " '/Data2/hmd/data_split/murmur/train/85313.txt',\n",
       " '/Data2/hmd/data_split/murmur/train/85315.txt',\n",
       " '/Data2/hmd/data_split/murmur/train/85316.txt',\n",
       " '/Data2/hmd/data_split/murmur/train/85317.txt',\n",
       " '/Data2/hmd/data_split/murmur/train/85319.txt',\n",
       " '/Data2/hmd/data_split/murmur/train/85321.txt',\n",
       " '/Data2/hmd/data_split/murmur/train/85322.txt',\n",
       " '/Data2/hmd/data_split/murmur/train/85323.txt',\n",
       " '/Data2/hmd/data_split/murmur/train/85326.txt',\n",
       " '/Data2/hmd/data_split/murmur/train/85327.txt',\n",
       " '/Data2/hmd/data_split/murmur/train/85328.txt',\n",
       " '/Data2/hmd/data_split/murmur/train/85331.txt',\n",
       " '/Data2/hmd/data_split/murmur/train/85332.txt',\n",
       " '/Data2/hmd/data_split/murmur/train/85334.txt',\n",
       " '/Data2/hmd/data_split/murmur/train/85335.txt',\n",
       " '/Data2/hmd/data_split/murmur/train/85336.txt',\n",
       " '/Data2/hmd/data_split/murmur/train/85337.txt',\n",
       " '/Data2/hmd/data_split/murmur/train/85340.txt',\n",
       " '/Data2/hmd/data_split/murmur/train/85341.txt',\n",
       " '/Data2/hmd/data_split/murmur/train/85343.txt',\n",
       " '/Data2/hmd/data_split/murmur/train/85345.txt',\n",
       " '/Data2/hmd/data_split/murmur/train/85349.txt']"
      ]
     },
     "execution_count": 9,
     "metadata": {},
     "output_type": "execute_result"
    }
   ],
   "source": [
    "patient_files"
   ]
  },
  {
   "cell_type": "code",
   "execution_count": null,
   "id": "0d249938",
   "metadata": {},
   "outputs": [],
   "source": []
  },
  {
   "cell_type": "code",
   "execution_count": 16,
   "id": "d8ddfddb",
   "metadata": {},
   "outputs": [],
   "source": [
    " for i in range(num_patient_files):\n",
    "    # Load the current patient data and recordings.\n",
    "    current_patient_data = load_patient_data(patient_files[i])\n",
    "    num_locations = get_num_locations(current_patient_data)\n",
    "    recording_information = current_patient_data.split('\\n')[1:num_locations+1]\n",
    "    for j in range(num_locations) :\n",
    "        entries = recording_information[j].split(' ')\n",
    "        recording_file = entries[2]#음성기록 \n",
    "        filename = os.path.join(data_folder, recording_file)"
   ]
  },
  {
   "cell_type": "code",
   "execution_count": 17,
   "id": "06984330",
   "metadata": {},
   "outputs": [
    {
     "data": {
      "text/plain": [
       "'85349 3 4000\\nAV 85349_AV.hea 85349_AV.wav 85349_AV.tsv\\nPV 85349_PV.hea 85349_PV.wav 85349_PV.tsv\\nTV 85349_TV.hea 85349_TV.wav 85349_TV.tsv\\n#Age: nan\\n#Sex: Female\\n#Height: nan\\n#Weight: nan\\n#Pregnancy status: True\\n#Murmur: Absent\\n#Murmur locations: nan\\n#Most audible location: nan\\n#Systolic murmur timing: nan\\n#Systolic murmur shape: nan\\n#Systolic murmur grading: nan\\n#Systolic murmur pitch: nan\\n#Systolic murmur quality: nan\\n#Diastolic murmur timing: nan\\n#Diastolic murmur shape: nan\\n#Diastolic murmur grading: nan\\n#Diastolic murmur pitch: nan\\n#Diastolic murmur quality: nan\\n#Outcome: Normal\\n#Campaign: CC2015\\n#Additional ID: nan\\n'"
      ]
     },
     "execution_count": 17,
     "metadata": {},
     "output_type": "execute_result"
    }
   ],
   "source": [
    "current_patient_data"
   ]
  },
  {
   "cell_type": "code",
   "execution_count": 18,
   "id": "76751446",
   "metadata": {},
   "outputs": [
    {
     "data": {
      "text/plain": [
       "3"
      ]
     },
     "execution_count": 18,
     "metadata": {},
     "output_type": "execute_result"
    }
   ],
   "source": [
    "num_locations"
   ]
  },
  {
   "cell_type": "code",
   "execution_count": 19,
   "id": "629e0ae9",
   "metadata": {},
   "outputs": [
    {
     "data": {
      "text/plain": [
       "['AV 85349_AV.hea 85349_AV.wav 85349_AV.tsv',\n",
       " 'PV 85349_PV.hea 85349_PV.wav 85349_PV.tsv',\n",
       " 'TV 85349_TV.hea 85349_TV.wav 85349_TV.tsv']"
      ]
     },
     "execution_count": 19,
     "metadata": {},
     "output_type": "execute_result"
    }
   ],
   "source": [
    "recording_information"
   ]
  },
  {
   "cell_type": "code",
   "execution_count": 21,
   "id": "bb9a3f33",
   "metadata": {},
   "outputs": [
    {
     "data": {
      "text/plain": [
       "(20, 128)"
      ]
     },
     "execution_count": 21,
     "metadata": {},
     "output_type": "execute_result"
    }
   ],
   "source": [
    "vgg_feature(filename).shape #길이가 다름."
   ]
  },
  {
   "cell_type": "code",
   "execution_count": null,
   "id": "379b63ff",
   "metadata": {},
   "outputs": [],
   "source": []
  },
  {
   "cell_type": "code",
   "execution_count": null,
   "id": "164d8dd1",
   "metadata": {},
   "outputs": [],
   "source": []
  },
  {
   "cell_type": "code",
   "execution_count": null,
   "id": "a12d1a28",
   "metadata": {},
   "outputs": [],
   "source": []
  },
  {
   "cell_type": "code",
   "execution_count": null,
   "id": "6b581a9f",
   "metadata": {},
   "outputs": [],
   "source": []
  },
  {
   "cell_type": "code",
   "execution_count": null,
   "id": "8a708e74",
   "metadata": {},
   "outputs": [],
   "source": []
  },
  {
   "cell_type": "code",
   "execution_count": null,
   "id": "7ef44724",
   "metadata": {},
   "outputs": [],
   "source": []
  },
  {
   "cell_type": "code",
   "execution_count": 15,
   "id": "0dfba1be",
   "metadata": {},
   "outputs": [
    {
     "ename": "NameError",
     "evalue": "name 'filename' is not defined",
     "output_type": "error",
     "traceback": [
      "\u001b[0;31m---------------------------------------------------------------------------\u001b[0m",
      "\u001b[0;31mNameError\u001b[0m                                 Traceback (most recent call last)",
      "Input \u001b[0;32mIn [15]\u001b[0m, in \u001b[0;36m<cell line: 1>\u001b[0;34m()\u001b[0m\n\u001b[0;32m----> 1\u001b[0m \u001b[43mfilename\u001b[49m\n",
      "\u001b[0;31mNameError\u001b[0m: name 'filename' is not defined"
     ]
    }
   ],
   "source": [
    "filename"
   ]
  },
  {
   "cell_type": "markdown",
   "id": "8c3d00d6",
   "metadata": {},
   "source": [
    "vgg 임베딩 코드"
   ]
  },
  {
   "cell_type": "code",
   "execution_count": 9,
   "id": "3b7c7024",
   "metadata": {},
   "outputs": [
    {
     "name": "stderr",
     "output_type": "stream",
     "text": [
      "Using cache found in /root/.cache/torch/hub/harritaylor_torchvggish_master\n"
     ]
    }
   ],
   "source": [
    "vggish_model = torch.hub.load('harritaylor/torchvggish', 'vggish')\n",
    "def vgg_feature(fnm):\n",
    "    vggish_model.eval()\n",
    "    vggish_model.postprocess = False\n",
    "    vggish_model.embeddings[5] = torch.nn.Sequential() # Remove last ReLU\n",
    "    vggish_embeddings = vggish_model.forward(fnm).detach().cpu().numpy()\n",
    "    return vggish_embeddings"
   ]
  },
  {
   "cell_type": "code",
   "execution_count": null,
   "id": "b5e8c992",
   "metadata": {},
   "outputs": [],
   "source": []
  },
  {
   "cell_type": "code",
   "execution_count": null,
   "id": "84d99aee",
   "metadata": {},
   "outputs": [],
   "source": [
    "num_patient_files = len(patient_files_trn)"
   ]
  },
  {
   "cell_type": "code",
   "execution_count": null,
   "id": "21b08fbb",
   "metadata": {},
   "outputs": [],
   "source": [
    "for i in range(num_patient_files):\n",
    "\n",
    "    # Load the current patient data and recordings.\n",
    "    current_patient_data = load_patient_data(patient_files_trn[i])\n",
    "    num_locations = get_num_locations(current_patient_data)\n",
    "    recording_information = current_patient_data.split('\\n')[1:num_locations+1]\n",
    "    for j in range(num_locations) :\n",
    "        entries = recording_information[j].split(' ')\n",
    "        recording_file = entries[2]\n",
    "        filename = os.path.join(data_folder, recording_file)\n",
    "\n",
    "        # Extract id\n",
    "        id1 = recording_file.split('_')[0]\n",
    "        features['id'].append(id1)\n",
    "\n",
    "        # Extract melspec\n",
    "        mel1 = feature_extract_melspec(filename)[0]\n",
    "        features['mel1'].append(mel1)\n"
   ]
  },
  {
   "cell_type": "code",
   "execution_count": 22,
   "id": "b78263df",
   "metadata": {},
   "outputs": [],
   "source": [
    "mel1 = feature_extract_melspec(filename)[0]"
   ]
  },
  {
   "cell_type": "code",
   "execution_count": 23,
   "id": "d3e3a50f",
   "metadata": {},
   "outputs": [
    {
     "data": {
      "text/plain": [
       "(64, 313)"
      ]
     },
     "execution_count": 23,
     "metadata": {},
     "output_type": "execute_result"
    }
   ],
   "source": [
    "mel1.shape"
   ]
  },
  {
   "cell_type": "code",
   "execution_count": 1,
   "id": "06116ea8",
   "metadata": {},
   "outputs": [
    {
     "ename": "NameError",
     "evalue": "name 'filename' is not defined",
     "output_type": "error",
     "traceback": [
      "\u001b[0;31m---------------------------------------------------------------------------\u001b[0m",
      "\u001b[0;31mNameError\u001b[0m                                 Traceback (most recent call last)",
      "Input \u001b[0;32mIn [1]\u001b[0m, in \u001b[0;36m<cell line: 1>\u001b[0;34m()\u001b[0m\n\u001b[0;32m----> 1\u001b[0m \u001b[43mfilename\u001b[49m\n",
      "\u001b[0;31mNameError\u001b[0m: name 'filename' is not defined"
     ]
    }
   ],
   "source": [
    "filename"
   ]
  },
  {
   "cell_type": "code",
   "execution_count": null,
   "id": "47ef6b53",
   "metadata": {},
   "outputs": [],
   "source": []
  },
  {
   "cell_type": "code",
   "execution_count": null,
   "id": "1afa8717",
   "metadata": {},
   "outputs": [],
   "source": []
  },
  {
   "cell_type": "code",
   "execution_count": null,
   "id": "01800b9d",
   "metadata": {},
   "outputs": [],
   "source": [
    "def get_features(data_folder, patient_files_trn) :\n",
    "    features = dict()\n",
    "    features['id'] = []\n",
    "    features['age'] = []\n",
    "    features['sex'] = []\n",
    "    features['hw'] = []\n",
    "    features['preg'] = []\n",
    "    features['loc'] = []\n",
    "    features['mel1'] = []\n",
    "    labels = []\n",
    "\n",
    "    classes = ['Present', 'Unknown', 'Absent']\n",
    "    num_classes = len(classes)\n",
    "    \n",
    "    age_classes = ['Neonate', 'Infant', 'Child', 'Adolescent', 'Young Adult']\n",
    "    recording_locations = ['AV', 'MV', 'PV', 'TV', 'PhC']\n",
    "\n",
    "    num_patient_files = len(patient_files_trn)\n",
    "\n",
    "    for i in range(num_patient_files):\n",
    "\n",
    "        # Load the current patient data and recordings.\n",
    "        current_patient_data = load_patient_data(patient_files_trn[i])\n",
    "        num_locations = get_num_locations(current_patient_data)\n",
    "        recording_information = current_patient_data.split('\\n')[1:num_locations+1]\n",
    "        for j in range(num_locations) :\n",
    "            entries = recording_information[j].split(' ')\n",
    "            recording_file = entries[2]\n",
    "            filename = os.path.join(data_folder, recording_file)\n",
    "\n",
    "            # Extract id\n",
    "            id1 = recording_file.split('_')[0]\n",
    "            features['id'].append(id1)\n",
    "\n",
    "            # Extract melspec\n",
    "            mel1 = feature_extract_melspec(filename)[0]\n",
    "            features['mel1'].append(mel1)\n",
    "\n",
    "            # Extract age_group\n",
    "            age_group = get_age(current_patient_data)\n",
    "            current_age_group = np.zeros(6, dtype=int)\n",
    "            if age_group in age_classes:\n",
    "                j = age_classes.index(age_group)\n",
    "                current_age_group[j] = 1\n",
    "            else :\n",
    "                current_age_group[5] = 1\n",
    "            features['age'].append(current_age_group)\n",
    "\n",
    "            # Extract sex\n",
    "            sex = get_sex(current_patient_data)\n",
    "            sex_features = np.zeros(2, dtype=int)\n",
    "            if compare_strings(sex, 'Female'):\n",
    "                sex_features[0] = 1\n",
    "            elif compare_strings(sex, 'Male'):\n",
    "                sex_features[1] = 1\n",
    "            features['sex'].append(sex_features)\n",
    "\n",
    "            # Extract height and weight.\n",
    "            height = get_height(current_patient_data)\n",
    "            weight = get_weight(current_patient_data)\n",
    "            features['hw'].append(np.array([height, weight]))\n",
    "\n",
    "            # Extract pregnancy\n",
    "            is_pregnant = get_pregnancy_status(current_patient_data)\n",
    "            features['preg'].append(is_pregnant)\n",
    "\n",
    "            # Extract location\n",
    "            locations = entries[0]\n",
    "            num_recording_locations = len(recording_locations)\n",
    "            loc_features = np.zeros(num_recording_locations)\n",
    "            if locations in recording_locations:\n",
    "                j = recording_locations.index(locations)\n",
    "                loc_features[j] = 1\n",
    "            features['loc'].append(loc_features)\n",
    "\n",
    "            # Extract labels and use one-hot encoding.\n",
    "            current_labels = np.zeros(num_classes, dtype=int)\n",
    "            label = get_label(current_patient_data)\n",
    "            if label in classes:\n",
    "                j = classes.index(label)\n",
    "                current_labels[j] = 1\n",
    "            labels.append(current_labels)\n",
    "        \n",
    "    M, N = features['mel1'][i].shape\n",
    "    for i in range(len(features['mel1'])) :\n",
    "        features['mel1'][i] = features['mel1'][i].reshape(M,N,1)\n",
    "\n",
    "    labels = np.array(labels)\n",
    "    \n",
    "    for k1 in features.keys() :\n",
    "        features[k1] = np.array(features[k1])\n",
    "    \n",
    "    return features, labels"
   ]
  },
  {
   "cell_type": "code",
   "execution_count": null,
   "id": "ee2c08c9",
   "metadata": {},
   "outputs": [],
   "source": []
  },
  {
   "cell_type": "code",
   "execution_count": null,
   "id": "d7766338",
   "metadata": {},
   "outputs": [],
   "source": []
  },
  {
   "cell_type": "code",
   "execution_count": null,
   "id": "b082c457",
   "metadata": {},
   "outputs": [],
   "source": []
  },
  {
   "cell_type": "code",
   "execution_count": null,
   "id": "e9334540",
   "metadata": {},
   "outputs": [],
   "source": []
  },
  {
   "cell_type": "code",
   "execution_count": null,
   "id": "879c4e57",
   "metadata": {},
   "outputs": [],
   "source": []
  },
  {
   "cell_type": "code",
   "execution_count": null,
   "id": "32cdc961",
   "metadata": {},
   "outputs": [],
   "source": []
  },
  {
   "cell_type": "code",
   "execution_count": null,
   "id": "3db0b26e",
   "metadata": {},
   "outputs": [],
   "source": []
  },
  {
   "cell_type": "code",
   "execution_count": null,
   "id": "4bcb1fb5",
   "metadata": {},
   "outputs": [],
   "source": []
  },
  {
   "cell_type": "code",
   "execution_count": null,
   "id": "9c7fcf89",
   "metadata": {},
   "outputs": [],
   "source": []
  },
  {
   "cell_type": "code",
   "execution_count": null,
   "id": "62512c5e",
   "metadata": {},
   "outputs": [],
   "source": []
  },
  {
   "cell_type": "code",
   "execution_count": null,
   "id": "5ebe3e89",
   "metadata": {},
   "outputs": [],
   "source": [
    "current_murmur = np.zeros(num_murmur_classes, dtype=int)\n",
    "    murmur = get_murmur(current_patient_data)\n",
    "    if murmur in murmur_classes:\n",
    "        j = murmur_classes.index(murmur)\n",
    "        current_murmur[j] = 1\n",
    "    murmurs.append(current_murmur)\n",
    "\n",
    "    current_outcome = np.zeros(num_outcome_classes, dtype=int)\n",
    "    outcome = get_outcome(current_patient_data)\n",
    "    if outcome in outcome_classes:\n",
    "        j = outcome_classes.index(outcome)\n",
    "        current_outcome[j] = 1\n",
    "    outcomes.append(current_outcome)\n"
   ]
  },
  {
   "cell_type": "code",
   "execution_count": 75,
   "id": "8c772936",
   "metadata": {},
   "outputs": [],
   "source": [
    "mel1 = vgg_feature(filename)"
   ]
  },
  {
   "cell_type": "code",
   "execution_count": 77,
   "id": "5d35620d",
   "metadata": {},
   "outputs": [
    {
     "data": {
      "text/plain": [
       "(20, 128)"
      ]
     },
     "execution_count": 77,
     "metadata": {},
     "output_type": "execute_result"
    }
   ],
   "source": [
    "mel1.shape"
   ]
  },
  {
   "cell_type": "code",
   "execution_count": 33,
   "id": "0571dcd4",
   "metadata": {},
   "outputs": [],
   "source": [
    "from tqdm import tqdm"
   ]
  },
  {
   "cell_type": "code",
   "execution_count": 10,
   "id": "e64e02f2",
   "metadata": {},
   "outputs": [],
   "source": [
    "def get_features_vgg(data_folder, patient_files_trn) :\n",
    "    features = dict()\n",
    "    features['id'] = []\n",
    "    features['age'] = []\n",
    "    features['sex'] = []\n",
    "    features['hw'] = []\n",
    "    features['preg'] = []\n",
    "    features['loc'] = []\n",
    "    features['mel1'] = []\n",
    "    murmurs=[] \n",
    "    outcomes=[]\n",
    "\n",
    "    murmur_classes = ['Present', 'Unknown', 'Absent']\n",
    "    num_murmur_classes = len(murmur_classes)\n",
    "    outcome_classes = ['Abnormal', 'Normal']\n",
    "    num_outcome_classes = len(outcome_classes)\n",
    "    \n",
    "    age_classes = ['Neonate', 'Infant', 'Child', 'Adolescent', 'Young Adult']\n",
    "    recording_locations = ['AV', 'MV', 'PV', 'TV', 'PhC']\n",
    "\n",
    "    num_patient_files = len(patient_files_trn)\n",
    "\n",
    "    for i in tqdm(range(num_patient_files)):\n",
    "\n",
    "        # Load the current patient data and recordings.\n",
    "        current_patient_data = load_patient_data(patient_files_trn[i])\n",
    "        num_locations = get_num_locations(current_patient_data)\n",
    "        recording_information = current_patient_data.split('\\n')[1:num_locations+1]\n",
    "        for j in range(num_locations) :\n",
    "            entries = recording_information[j].split(' ')\n",
    "            recording_file = entries[2]\n",
    "            filename = os.path.join(data_folder, recording_file)\n",
    "\n",
    "            # Extract id\n",
    "            id1 = recording_file.split('_')[0]\n",
    "            features['id'].append(id1)\n",
    "\n",
    "            # Extract melspec\n",
    "            mel1 = vgg_feature(filename)\n",
    "            features['mel1'].append(mel1)\n",
    "\n",
    "            # Extract age_group\n",
    "            age_group = get_age(current_patient_data)\n",
    "            current_age_group = np.zeros(6, dtype=int)\n",
    "            if age_group in age_classes:\n",
    "                j = age_classes.index(age_group)\n",
    "                current_age_group[j] = 1\n",
    "            else :\n",
    "                current_age_group[5] = 1\n",
    "            features['age'].append(current_age_group)\n",
    "\n",
    "            # Extract sex\n",
    "            sex = get_sex(current_patient_data)\n",
    "            sex_features = np.zeros(2, dtype=int)\n",
    "            if compare_strings(sex, 'Female'):\n",
    "                sex_features[0] = 1\n",
    "            elif compare_strings(sex, 'Male'):\n",
    "                sex_features[1] = 1\n",
    "            features['sex'].append(sex_features)\n",
    "\n",
    "            # Extract height and weight.\n",
    "            height = get_height(current_patient_data)\n",
    "            weight = get_weight(current_patient_data)\n",
    "            features['hw'].append(np.array([height, weight]))\n",
    "\n",
    "            # Extract pregnancy\n",
    "            is_pregnant = get_pregnancy_status(current_patient_data)\n",
    "            features['preg'].append(is_pregnant)\n",
    "\n",
    "            # Extract location\n",
    "            locations = entries[0]\n",
    "            num_recording_locations = len(recording_locations)\n",
    "            loc_features = np.zeros(num_recording_locations)\n",
    "            if locations in recording_locations:\n",
    "                j = recording_locations.index(locations)\n",
    "                loc_features[j] = 1\n",
    "            features['loc'].append(loc_features)\n",
    "\n",
    "            # Extract labels and use one-hot encoding.\n",
    "            current_murmur = np.zeros(num_murmur_classes, dtype=int)\n",
    "            murmur = get_murmur(current_patient_data)\n",
    "            if murmur in murmur_classes:\n",
    "                j = murmur_classes.index(murmur)\n",
    "                current_murmur[j] = 1\n",
    "            murmurs.append(current_murmur)\n",
    "            \n",
    "            \n",
    "            current_outcome = np.zeros(num_outcome_classes, dtype=int)\n",
    "            outcome = get_outcome(current_patient_data)\n",
    "            if outcome in outcome_classes:\n",
    "                j = outcome_classes.index(outcome)\n",
    "                current_outcome[j] = 1\n",
    "            outcomes.append(current_outcome)\n",
    "            \n",
    "            \n",
    "            \n",
    "            \n",
    "            \n",
    "    #M, N = features['mel1'][i].shape\n",
    "    #for i in range(len(features['mel1'])) :\n",
    "    #    features['mel1'][i] = features['mel1'][i].reshape(M,N,1)\n",
    "\n",
    "    murmurs = np.array(murmurs)\n",
    "    outcomes = np.array(outcomes)\n",
    "    \n",
    "    for k1 in features.keys() :\n",
    "        features[k1] = np.array(features[k1])\n",
    "    \n",
    "    return features, murmurs, outcomes"
   ]
  },
  {
   "cell_type": "code",
   "execution_count": null,
   "id": "81230994",
   "metadata": {},
   "outputs": [],
   "source": []
  },
  {
   "cell_type": "code",
   "execution_count": null,
   "id": "29579e0d",
   "metadata": {},
   "outputs": [],
   "source": []
  },
  {
   "cell_type": "code",
   "execution_count": 99,
   "id": "679dd3d8",
   "metadata": {},
   "outputs": [
    {
     "data": {
      "text/plain": [
       "(24, 128)"
      ]
     },
     "execution_count": 99,
     "metadata": {},
     "output_type": "execute_result"
    }
   ],
   "source": [
    "features['mel1'][0].shape"
   ]
  },
  {
   "cell_type": "code",
   "execution_count": 11,
   "id": "78452b26",
   "metadata": {},
   "outputs": [
    {
     "name": "stderr",
     "output_type": "stream",
     "text": [
      "100%|█████████████████████████████████████████| 751/751 [14:58<00:00,  1.20s/it]\n",
      "/tmp/ipykernel_23066/3885234799.py:107: VisibleDeprecationWarning: Creating an ndarray from ragged nested sequences (which is a list-or-tuple of lists-or-tuples-or ndarrays with different lengths or shapes) is deprecated. If you meant to do this, you must specify 'dtype=object' when creating the ndarray.\n",
      "  features[k1] = np.array(features[k1])\n"
     ]
    }
   ],
   "source": [
    "features,murmurs, outcomes= get_features_vgg(data_folder, patient_files)"
   ]
  },
  {
   "cell_type": "code",
   "execution_count": 90,
   "id": "72d7748a",
   "metadata": {},
   "outputs": [
    {
     "data": {
      "text/plain": [
       "(15, 128)"
      ]
     },
     "execution_count": 90,
     "metadata": {},
     "output_type": "execute_result"
    }
   ],
   "source": [
    "features['mel1']"
   ]
  },
  {
   "cell_type": "code",
   "execution_count": null,
   "id": "eee75881",
   "metadata": {},
   "outputs": [],
   "source": []
  },
  {
   "cell_type": "code",
   "execution_count": null,
   "id": "6eb7036a",
   "metadata": {},
   "outputs": [],
   "source": []
  },
  {
   "cell_type": "code",
   "execution_count": null,
   "id": "46c30c73",
   "metadata": {},
   "outputs": [],
   "source": []
  },
  {
   "cell_type": "code",
   "execution_count": null,
   "id": "b94cc6e0",
   "metadata": {},
   "outputs": [],
   "source": []
  },
  {
   "cell_type": "code",
   "execution_count": null,
   "id": "b8ce48c9",
   "metadata": {},
   "outputs": [],
   "source": []
  },
  {
   "cell_type": "code",
   "execution_count": null,
   "id": "9dd7ce9e",
   "metadata": {},
   "outputs": [],
   "source": []
  },
  {
   "cell_type": "code",
   "execution_count": null,
   "id": "8d9c5e00",
   "metadata": {},
   "outputs": [],
   "source": []
  },
  {
   "cell_type": "code",
   "execution_count": null,
   "id": "defd78c5",
   "metadata": {},
   "outputs": [],
   "source": []
  },
  {
   "cell_type": "code",
   "execution_count": null,
   "id": "6eeaa35e",
   "metadata": {},
   "outputs": [],
   "source": []
  },
  {
   "cell_type": "code",
   "execution_count": null,
   "id": "71c81b7a",
   "metadata": {},
   "outputs": [],
   "source": []
  },
  {
   "cell_type": "code",
   "execution_count": null,
   "id": "ae935834",
   "metadata": {},
   "outputs": [],
   "source": []
  },
  {
   "cell_type": "code",
   "execution_count": null,
   "id": "b82387fd",
   "metadata": {},
   "outputs": [],
   "source": []
  },
  {
   "cell_type": "code",
   "execution_count": null,
   "id": "07f1f85a",
   "metadata": {},
   "outputs": [],
   "source": []
  },
  {
   "cell_type": "code",
   "execution_count": null,
   "id": "1b3b6324",
   "metadata": {},
   "outputs": [],
   "source": []
  },
  {
   "cell_type": "code",
   "execution_count": null,
   "id": "777c38b1",
   "metadata": {},
   "outputs": [],
   "source": []
  },
  {
   "cell_type": "code",
   "execution_count": null,
   "id": "1d02b1de",
   "metadata": {},
   "outputs": [],
   "source": []
  },
  {
   "cell_type": "code",
   "execution_count": null,
   "id": "99affa1b",
   "metadata": {},
   "outputs": [],
   "source": []
  },
  {
   "cell_type": "code",
   "execution_count": null,
   "id": "9df9eef6",
   "metadata": {},
   "outputs": [],
   "source": []
  },
  {
   "cell_type": "code",
   "execution_count": null,
   "id": "874d039e",
   "metadata": {},
   "outputs": [],
   "source": []
  },
  {
   "cell_type": "code",
   "execution_count": null,
   "id": "8997d5e0",
   "metadata": {},
   "outputs": [],
   "source": []
  },
  {
   "cell_type": "code",
   "execution_count": null,
   "id": "cd6d1217",
   "metadata": {},
   "outputs": [],
   "source": []
  },
  {
   "cell_type": "code",
   "execution_count": null,
   "id": "2d974845",
   "metadata": {},
   "outputs": [],
   "source": []
  },
  {
   "cell_type": "code",
   "execution_count": null,
   "id": "43066da2",
   "metadata": {},
   "outputs": [],
   "source": []
  },
  {
   "cell_type": "code",
   "execution_count": null,
   "id": "9dd6dafd",
   "metadata": {},
   "outputs": [],
   "source": []
  },
  {
   "cell_type": "code",
   "execution_count": null,
   "id": "f771d8bb",
   "metadata": {},
   "outputs": [],
   "source": []
  },
  {
   "cell_type": "code",
   "execution_count": null,
   "id": "aa024d80",
   "metadata": {},
   "outputs": [],
   "source": []
  },
  {
   "cell_type": "code",
   "execution_count": null,
   "id": "165bccc4",
   "metadata": {},
   "outputs": [],
   "source": []
  },
  {
   "cell_type": "code",
   "execution_count": null,
   "id": "df48db93",
   "metadata": {},
   "outputs": [],
   "source": []
  },
  {
   "cell_type": "code",
   "execution_count": null,
   "id": "12fdc2f1",
   "metadata": {},
   "outputs": [],
   "source": []
  },
  {
   "cell_type": "code",
   "execution_count": null,
   "id": "da245919",
   "metadata": {},
   "outputs": [],
   "source": []
  },
  {
   "cell_type": "code",
   "execution_count": 12,
   "id": "6a8e64a1",
   "metadata": {},
   "outputs": [],
   "source": [
    "#from tensorflow import keras\n",
    "#from tensorflow.keras import layers\n",
    "\n",
    "# -*- coding: utf-8 -*-\n",
    "import argparse\n",
    "import os\n",
    "import time\n",
    "import torch\n",
    "import numpy as np\n",
    "import torch.optim as optim\n",
    "import torch.nn as nn\n",
    "import sys\n",
    "import random\n",
    "from tqdm import tqdm\n",
    "from tools import utils\n",
    "from torch import Tensor\n",
    "import torch.nn.functional as F\n",
    "\n",
    "\n",
    "\n",
    "def init_layer(layer):\n",
    "    \"\"\"Initialize a Linear or Convolutional layer. \"\"\"\n",
    "    nn.init.xavier_uniform_(layer.weight)\n",
    " \n",
    "    if hasattr(layer, 'bias'):\n",
    "        if layer.bias is not None:\n",
    "            layer.bias.data.fill_(0.)\n",
    "            \n",
    "    \n",
    "def init_bn(bn):\n",
    "    \"\"\"Initialize a Batchnorm layer. \"\"\"\n",
    "    bn.bias.data.fill_(0.)\n",
    "    bn.weight.data.fill_(1.)\n",
    "\n",
    "\n",
    "class ConvBlock(nn.Module):\n",
    "    def __init__(self, in_channels, out_channels):\n",
    "        \n",
    "        super(ConvBlock, self).__init__()\n",
    "        \n",
    "        self.conv1 = nn.Conv2d(in_channels=in_channels, \n",
    "                              out_channels=out_channels,\n",
    "                              kernel_size=(3, 3), stride=(1, 1),\n",
    "                              padding=(1, 1), bias=False)\n",
    "                              \n",
    "        self.conv2 = nn.Conv2d(in_channels=out_channels, \n",
    "                              out_channels=out_channels,\n",
    "                              kernel_size=(3, 3), stride=(1, 1),\n",
    "                              padding=(1, 1), bias=False)\n",
    "                              \n",
    "        self.bn1 = nn.BatchNorm2d(out_channels)\n",
    "        self.bn2 = nn.BatchNorm2d(out_channels)\n",
    "\n",
    "        self.init_weight()\n",
    "        \n",
    "    def init_weight(self):\n",
    "        init_layer(self.conv1)\n",
    "        init_layer(self.conv2)\n",
    "        init_bn(self.bn1)\n",
    "        init_bn(self.bn2)\n",
    "\n",
    "        \n",
    "    def forward(self, input, pool_size=(2, 2), pool_type='avg'):\n",
    "        \n",
    "        x = input\n",
    "        x = F.relu_(self.bn1(self.conv1(x)))\n",
    "        x = F.relu_(self.bn2(self.conv2(x)))\n",
    "        if pool_type == 'max':\n",
    "            x = F.max_pool2d(x, kernel_size=pool_size)\n",
    "        elif pool_type == 'avg':\n",
    "            x = F.avg_pool2d(x, kernel_size=pool_size)\n",
    "        elif pool_type == 'avg+max':\n",
    "            x1 = F.avg_pool2d(x, kernel_size=pool_size)\n",
    "            x2 = F.max_pool2d(x, kernel_size=pool_size)\n",
    "            x = x1 + x2\n",
    "        else:\n",
    "            raise Exception('Incorrect argument!')\n",
    "        \n",
    "        return x\n",
    "\n",
    "class Dense(nn.Module):\n",
    "    \n",
    "    def __init__(self,length):\n",
    "        super(Dense, self).__init__()\n",
    "        h1 = nn.Linear(length, 64)\n",
    "        h2 = nn.Linear(64, 32)\n",
    "        h3 = nn.Linear(32, 1)\n",
    "        self.hidden = nn.Sequential(\n",
    "            h1,\n",
    "            nn.ReLU(),\n",
    "            h2,\n",
    "            nn.ReLU(),\n",
    "            h3,\n",
    "        )\n",
    "        if torch.cuda.is_available():\n",
    "            self.hidden = self.hidden.cuda()\n",
    "        \n",
    "    def forward(self, x):\n",
    "        o = self.hidden(x)\n",
    "        return o.view(-1,1)\n",
    "    \n",
    "    \n",
    "    \n",
    "class cnn_ti(nn.Module):\n",
    "    def __init__(self, classes_num):\n",
    "        \n",
    "        super(cnn_ti, self).__init__() \n",
    "\n",
    "        self.bn0 = nn.BatchNorm2d(64)\n",
    "        self.conv_block1 = ConvBlock(in_channels=1, out_channels=64)\n",
    "        self.conv_block2 = ConvBlock(in_channels=64, out_channels=128)\n",
    "        self.conv_block3 = ConvBlock(in_channels=128, out_channels=256)\n",
    "        self.conv_block4 = ConvBlock(in_channels=256, out_channels=512)\n",
    "        self.dense_age = Dense(6)\n",
    "        self.dense_sex = Dense(2)\n",
    "        self.dense_hw = Dense(2)\n",
    "        self.dense_preg = Dense(1)\n",
    "        self.dense_loc = Dense(5)\n",
    "        \n",
    "        #self.conv_block5 = ConvBlock(in_channels=512, out_channels=1024) \n",
    "        #self.conv_block6 = ConvBlock(in_channels=1024, out_channels=2048)\n",
    "\n",
    "        self.fc1 = nn.Linear(512, 507, bias=True)\n",
    "        self.fc_audioset = nn.Linear(512, classes_num, bias=True)\n",
    "        \n",
    "        self.init_weight()\n",
    "\n",
    "    def init_weight(self):\n",
    "        init_bn(self.bn0)\n",
    "        init_layer(self.fc1)\n",
    "        init_layer(self.fc_audioset)\n",
    "        \n",
    "        \n",
    "    def forward(self, input, age, sex, hw, preg, loc):\n",
    "\n",
    "        \"\"\"\n",
    "        Input: (batch_size, data_length)\"\"\"\n",
    "\n",
    "        #x = self.spectrogram_extractor(input)   # (batch_size, 1, time_steps, freq_bins)\n",
    "        #x = self.logmel_extractor(x)    # (batch_size, 1, time_steps, mel_bins)\n",
    "        #print(input.shape)\n",
    "        #x = input.permute(1, 2, 0) \n",
    "        input = input.float()\n",
    "        #x =input.unsqueeze(1)\n",
    "        x = input.permute(0, 2,1, 3) \n",
    "        #print(x.shape)\n",
    "        #x = x.transpose(1, 3)\n",
    "        #print(x.shape)\n",
    "        x = self.bn0(x)\n",
    "        #print(x.shape)\n",
    "        x = x.permute(0, 2,1, 3) \n",
    "        #x = x.transpose(1, 3)\n",
    "        print(x.shape)\n",
    "        \n",
    "        x = self.conv_block1(x, pool_size=(1, 2), pool_type='avg')\n",
    "        print(x.shape)\n",
    "        x = F.dropout(x, p=0.2, training=self.training)\n",
    "        print(x.shape)\n",
    "        x = self.conv_block2(x, pool_size=(1, 2), pool_type='avg')\n",
    "        print(x.shape)\n",
    "        x = F.dropout(x, p=0.2, training=self.training)\n",
    "        #print(x.shape)\n",
    "        x = self.conv_block3(x, pool_size=(2, 2), pool_type='avg')\n",
    "        #print(x.shape)\n",
    "        x = F.dropout(x, p=0.2, training=self.training)\n",
    "        #print(x.shape)\n",
    "        x = self.conv_block4(x, pool_size=(2, 2), pool_type='avg')\n",
    "        #print(x.shape)\n",
    "        x = F.dropout(x, p=0.2, training=self.training)\n",
    "        #x = self.conv_block5(x, pool_size=(2, 2), pool_type='avg')\n",
    "        #x = F.dropout(x, p=0.2, training=self.training)\n",
    "        #x = self.conv_block6(x, pool_size=(1, 1), pool_type='avg')\n",
    "        #x = F.dropout(x, p=0.2, training=self.training)\n",
    "        print(x.shape)\n",
    "        #print(x)\n",
    "        x = torch.mean(x, dim=3)\n",
    "        #print(x)\n",
    "        #print(x.shape)\n",
    "        (x1, _) = torch.max(x, dim=2)\n",
    "        print(x1.shape)\n",
    "        x2 = torch.mean(x, dim=2)\n",
    "        print(x2.shape)\n",
    "        x = x1 + x2\n",
    "        #print(x.shape)\n",
    "        x = F.dropout(x, p=0.5, training=self.training)\n",
    "        print(x.shape)\n",
    "        x = F.relu_(self.fc1(x))\n",
    "        print('fc통과:',x.shape)\n",
    "        age_ = self.dense_age(age)\n",
    "        sex_ = self.dense_sex(sex)\n",
    "        hw_ = self.dense_hw(hw)\n",
    "        preg_ = self.dense_preg(preg)\n",
    "        loc_ = self.dense_loc(loc)\n",
    "        \n",
    "        #print(x.shape)\n",
    "        cat = torch.cat([x, age_,sex_,hw_,preg_,loc_],axis = 1)\n",
    "        print(cat.shape)\n",
    "        #embedding = F.dropout(x, p=0.5, training=self.training)\n",
    "        out = self.fc_audioset(cat)\n",
    "        #print(out.shape)\n",
    "        #clipwise_output = torch.sigmoid(self.fc_audioset(x))\n",
    "        \n",
    "        #output_dict = {'clipwise_output': clipwise_output, 'embedding': embedding}\n",
    "\n",
    "        return out\n"
   ]
  },
  {
   "cell_type": "code",
   "execution_count": 87,
   "id": "599bf575",
   "metadata": {},
   "outputs": [],
   "source": [
    "label = np.empty(len(murmurs))\n",
    "for i,l in enumerate(murmurs) :\n",
    "    label[i] = int(list(l).index(1))"
   ]
  },
  {
   "cell_type": "code",
   "execution_count": 88,
   "id": "2b09135e",
   "metadata": {},
   "outputs": [
    {
     "data": {
      "text/plain": [
       "array([2., 2., 2., ..., 2., 2., 2.])"
      ]
     },
     "execution_count": 88,
     "metadata": {},
     "output_type": "execute_result"
    }
   ],
   "source": [
    "label"
   ]
  },
  {
   "cell_type": "code",
   "execution_count": null,
   "id": "a551e1a6",
   "metadata": {},
   "outputs": [],
   "source": []
  },
  {
   "cell_type": "code",
   "execution_count": null,
   "id": "a88b4557",
   "metadata": {},
   "outputs": [],
   "source": []
  },
  {
   "cell_type": "code",
   "execution_count": null,
   "id": "3ac2fab9",
   "metadata": {},
   "outputs": [],
   "source": []
  },
  {
   "cell_type": "code",
   "execution_count": null,
   "id": "585c9dd3",
   "metadata": {},
   "outputs": [],
   "source": []
  },
  {
   "cell_type": "code",
   "execution_count": null,
   "id": "58339a4f",
   "metadata": {},
   "outputs": [],
   "source": []
  },
  {
   "cell_type": "code",
   "execution_count": null,
   "id": "9f9716ea",
   "metadata": {},
   "outputs": [],
   "source": []
  },
  {
   "cell_type": "code",
   "execution_count": null,
   "id": "c154e580",
   "metadata": {},
   "outputs": [],
   "source": []
  },
  {
   "cell_type": "code",
   "execution_count": null,
   "id": "ef537cc0",
   "metadata": {},
   "outputs": [],
   "source": []
  },
  {
   "cell_type": "code",
   "execution_count": null,
   "id": "7abf1e41",
   "metadata": {},
   "outputs": [],
   "source": []
  },
  {
   "cell_type": "code",
   "execution_count": null,
   "id": "f4e2847d",
   "metadata": {},
   "outputs": [],
   "source": []
  },
  {
   "cell_type": "code",
   "execution_count": null,
   "id": "026b5fa9",
   "metadata": {},
   "outputs": [],
   "source": []
  },
  {
   "cell_type": "code",
   "execution_count": null,
   "id": "6d38d9d5",
   "metadata": {},
   "outputs": [],
   "source": []
  },
  {
   "cell_type": "code",
   "execution_count": null,
   "id": "2aba679a",
   "metadata": {},
   "outputs": [],
   "source": []
  },
  {
   "cell_type": "code",
   "execution_count": null,
   "id": "738020fd",
   "metadata": {},
   "outputs": [],
   "source": []
  },
  {
   "cell_type": "code",
   "execution_count": null,
   "id": "4846219f",
   "metadata": {},
   "outputs": [],
   "source": []
  },
  {
   "cell_type": "code",
   "execution_count": null,
   "id": "b6fecd3e",
   "metadata": {},
   "outputs": [],
   "source": []
  },
  {
   "cell_type": "code",
   "execution_count": null,
   "id": "68b66bc7",
   "metadata": {},
   "outputs": [],
   "source": []
  },
  {
   "cell_type": "code",
   "execution_count": null,
   "id": "758304b4",
   "metadata": {},
   "outputs": [],
   "source": []
  },
  {
   "cell_type": "code",
   "execution_count": null,
   "id": "554b4bba",
   "metadata": {},
   "outputs": [],
   "source": []
  },
  {
   "cell_type": "code",
   "execution_count": 15,
   "id": "d3f2c4d4",
   "metadata": {},
   "outputs": [
    {
     "name": "stderr",
     "output_type": "stream",
     "text": [
      "Using cache found in /root/.cache/torch/hub/harritaylor_torchvggish_master\n"
     ]
    }
   ],
   "source": [
    "vggish_model = torch.hub.load('harritaylor/torchvggish', 'vggish')"
   ]
  },
  {
   "cell_type": "code",
   "execution_count": 16,
   "id": "ebbc18b9",
   "metadata": {},
   "outputs": [],
   "source": [
    "vggish_model.eval()\n",
    "vggish_model.postprocess = False\n",
    "vggish_model.embeddings[5] = torch.nn.Sequential() # Remove last ReLU"
   ]
  },
  {
   "cell_type": "code",
   "execution_count": 17,
   "id": "d4115fee",
   "metadata": {},
   "outputs": [],
   "source": [
    "vggish_embeddings = vggish_model.forward(filename).detach().cpu().numpy()"
   ]
  },
  {
   "cell_type": "code",
   "execution_count": 18,
   "id": "411ece0c",
   "metadata": {},
   "outputs": [
    {
     "data": {
      "text/plain": [
       "(20, 128)"
      ]
     },
     "execution_count": 18,
     "metadata": {},
     "output_type": "execute_result"
    }
   ],
   "source": [
    "vggish_embeddings.shape # t.melbin"
   ]
  },
  {
   "cell_type": "code",
   "execution_count": null,
   "id": "edae477e",
   "metadata": {},
   "outputs": [],
   "source": [
    "Sig=[]\n",
    "\n",
    "for i in range\n"
   ]
  },
  {
   "cell_type": "code",
   "execution_count": 43,
   "id": "ff5a4259",
   "metadata": {},
   "outputs": [],
   "source": [
    "model = cnn_ti(3)"
   ]
  },
  {
   "cell_type": "code",
   "execution_count": 46,
   "id": "b082dd74",
   "metadata": {},
   "outputs": [],
   "source": [
    "x = torch.from_numpy(vggish_embeddings) #torch로 변환"
   ]
  },
  {
   "cell_type": "code",
   "execution_count": 47,
   "id": "e7a3c45f",
   "metadata": {},
   "outputs": [
    {
     "data": {
      "text/plain": [
       "torch.Size([20, 128])"
      ]
     },
     "execution_count": 47,
     "metadata": {},
     "output_type": "execute_result"
    }
   ],
   "source": [
    "x.shape"
   ]
  },
  {
   "cell_type": "code",
   "execution_count": 49,
   "id": "b32395af",
   "metadata": {},
   "outputs": [],
   "source": [
    "x = x.unsqueeze(0)"
   ]
  },
  {
   "cell_type": "code",
   "execution_count": null,
   "id": "2598b3ac",
   "metadata": {},
   "outputs": [],
   "source": []
  },
  {
   "cell_type": "code",
   "execution_count": 50,
   "id": "99bdc180",
   "metadata": {},
   "outputs": [
    {
     "data": {
      "text/plain": [
       "torch.Size([1, 20, 128])"
      ]
     },
     "execution_count": 50,
     "metadata": {},
     "output_type": "execute_result"
    }
   ],
   "source": [
    "x.shape"
   ]
  },
  {
   "cell_type": "code",
   "execution_count": 52,
   "id": "bdc615a0",
   "metadata": {},
   "outputs": [
    {
     "data": {
      "text/plain": [
       "cnn_ti(\n",
       "  (bn0): BatchNorm2d(64, eps=1e-05, momentum=0.1, affine=True, track_running_stats=True)\n",
       "  (conv_block1): ConvBlock(\n",
       "    (conv1): Conv2d(1, 64, kernel_size=(3, 3), stride=(1, 1), padding=(1, 1), bias=False)\n",
       "    (conv2): Conv2d(64, 64, kernel_size=(3, 3), stride=(1, 1), padding=(1, 1), bias=False)\n",
       "    (bn1): BatchNorm2d(64, eps=1e-05, momentum=0.1, affine=True, track_running_stats=True)\n",
       "    (bn2): BatchNorm2d(64, eps=1e-05, momentum=0.1, affine=True, track_running_stats=True)\n",
       "  )\n",
       "  (conv_block2): ConvBlock(\n",
       "    (conv1): Conv2d(64, 128, kernel_size=(3, 3), stride=(1, 1), padding=(1, 1), bias=False)\n",
       "    (conv2): Conv2d(128, 128, kernel_size=(3, 3), stride=(1, 1), padding=(1, 1), bias=False)\n",
       "    (bn1): BatchNorm2d(128, eps=1e-05, momentum=0.1, affine=True, track_running_stats=True)\n",
       "    (bn2): BatchNorm2d(128, eps=1e-05, momentum=0.1, affine=True, track_running_stats=True)\n",
       "  )\n",
       "  (conv_block3): ConvBlock(\n",
       "    (conv1): Conv2d(128, 256, kernel_size=(3, 3), stride=(1, 1), padding=(1, 1), bias=False)\n",
       "    (conv2): Conv2d(256, 256, kernel_size=(3, 3), stride=(1, 1), padding=(1, 1), bias=False)\n",
       "    (bn1): BatchNorm2d(256, eps=1e-05, momentum=0.1, affine=True, track_running_stats=True)\n",
       "    (bn2): BatchNorm2d(256, eps=1e-05, momentum=0.1, affine=True, track_running_stats=True)\n",
       "  )\n",
       "  (conv_block4): ConvBlock(\n",
       "    (conv1): Conv2d(256, 512, kernel_size=(3, 3), stride=(1, 1), padding=(1, 1), bias=False)\n",
       "    (conv2): Conv2d(512, 512, kernel_size=(3, 3), stride=(1, 1), padding=(1, 1), bias=False)\n",
       "    (bn1): BatchNorm2d(512, eps=1e-05, momentum=0.1, affine=True, track_running_stats=True)\n",
       "    (bn2): BatchNorm2d(512, eps=1e-05, momentum=0.1, affine=True, track_running_stats=True)\n",
       "  )\n",
       "  (dense_age): Dense(\n",
       "    (hidden): Sequential(\n",
       "      (0): Linear(in_features=6, out_features=64, bias=True)\n",
       "      (1): ReLU()\n",
       "      (2): Linear(in_features=64, out_features=32, bias=True)\n",
       "      (3): ReLU()\n",
       "      (4): Linear(in_features=32, out_features=1, bias=True)\n",
       "    )\n",
       "  )\n",
       "  (dense_sex): Dense(\n",
       "    (hidden): Sequential(\n",
       "      (0): Linear(in_features=2, out_features=64, bias=True)\n",
       "      (1): ReLU()\n",
       "      (2): Linear(in_features=64, out_features=32, bias=True)\n",
       "      (3): ReLU()\n",
       "      (4): Linear(in_features=32, out_features=1, bias=True)\n",
       "    )\n",
       "  )\n",
       "  (dense_hw): Dense(\n",
       "    (hidden): Sequential(\n",
       "      (0): Linear(in_features=2, out_features=64, bias=True)\n",
       "      (1): ReLU()\n",
       "      (2): Linear(in_features=64, out_features=32, bias=True)\n",
       "      (3): ReLU()\n",
       "      (4): Linear(in_features=32, out_features=1, bias=True)\n",
       "    )\n",
       "  )\n",
       "  (dense_preg): Dense(\n",
       "    (hidden): Sequential(\n",
       "      (0): Linear(in_features=1, out_features=64, bias=True)\n",
       "      (1): ReLU()\n",
       "      (2): Linear(in_features=64, out_features=32, bias=True)\n",
       "      (3): ReLU()\n",
       "      (4): Linear(in_features=32, out_features=1, bias=True)\n",
       "    )\n",
       "  )\n",
       "  (dense_loc): Dense(\n",
       "    (hidden): Sequential(\n",
       "      (0): Linear(in_features=5, out_features=64, bias=True)\n",
       "      (1): ReLU()\n",
       "      (2): Linear(in_features=64, out_features=32, bias=True)\n",
       "      (3): ReLU()\n",
       "      (4): Linear(in_features=32, out_features=1, bias=True)\n",
       "    )\n",
       "  )\n",
       "  (fc1): Linear(in_features=512, out_features=507, bias=True)\n",
       "  (fc_audioset): Linear(in_features=512, out_features=3, bias=True)\n",
       ")"
      ]
     },
     "execution_count": 52,
     "metadata": {},
     "output_type": "execute_result"
    }
   ],
   "source": [
    "model"
   ]
  },
  {
   "cell_type": "code",
   "execution_count": null,
   "id": "050ab495",
   "metadata": {},
   "outputs": [],
   "source": [
    "audio_feature, age, sex, hw, preg, loc, data_label_torch =next(iter(dataloader_train_murmurs)) "
   ]
  },
  {
   "cell_type": "code",
   "execution_count": null,
   "id": "2d112f11",
   "metadata": {},
   "outputs": [],
   "source": []
  },
  {
   "cell_type": "code",
   "execution_count": 44,
   "id": "a4e7c2d8",
   "metadata": {},
   "outputs": [
    {
     "ename": "AttributeError",
     "evalue": "'numpy.ndarray' object has no attribute 'unsqueeze'",
     "output_type": "error",
     "traceback": [
      "\u001b[0;31m---------------------------------------------------------------------------\u001b[0m",
      "\u001b[0;31mAttributeError\u001b[0m                            Traceback (most recent call last)",
      "Input \u001b[0;32mIn [44]\u001b[0m, in \u001b[0;36m<cell line: 1>\u001b[0;34m()\u001b[0m\n\u001b[0;32m----> 1\u001b[0m vggish_embeddings\u001b[38;5;241m=\u001b[39m\u001b[43mvggish_embeddings\u001b[49m\u001b[38;5;241;43m.\u001b[39;49m\u001b[43munsqueeze\u001b[49m(\u001b[38;5;241m0\u001b[39m)\n",
      "\u001b[0;31mAttributeError\u001b[0m: 'numpy.ndarray' object has no attribute 'unsqueeze'"
     ]
    }
   ],
   "source": [
    "vggish_embeddings=vggish_embeddings.unsqueeze(0)"
   ]
  },
  {
   "cell_type": "code",
   "execution_count": null,
   "id": "2c0485a1",
   "metadata": {},
   "outputs": [],
   "source": [
    "model(vggish_embeddings)"
   ]
  },
  {
   "cell_type": "code",
   "execution_count": null,
   "id": "b854ceeb",
   "metadata": {},
   "outputs": [],
   "source": []
  },
  {
   "cell_type": "code",
   "execution_count": null,
   "id": "efc22a98",
   "metadata": {},
   "outputs": [],
   "source": []
  },
  {
   "cell_type": "code",
   "execution_count": null,
   "id": "8113680a",
   "metadata": {},
   "outputs": [],
   "source": []
  },
  {
   "cell_type": "code",
   "execution_count": 13,
   "id": "bde170a3",
   "metadata": {},
   "outputs": [],
   "source": [
    "import numpy as np\n",
    "import torch\n",
    "import sys\n",
    "import os\n",
    "sys.path.append(\"..\")\n",
    "from torch.nn.utils.rnn import pad_sequence\n",
    "from torch.utils.data import Dataset,DataLoader\n",
    "import torch\n",
    "import torch.nn as nn\n",
    "\n",
    "\n",
    "from scipy.io import wavfile\n",
    "import random\n",
    "\n",
    "\n",
    "class myDataset(Dataset):\n",
    "    def __init__(self, x_npy, y_npy):    # spec or mel_spec\n",
    "        self.x_npy = x_npy\n",
    "        self.y_npy = y_npy\n",
    "\n",
    "        \n",
    "    def __getitem__(self, idx):\n",
    "        cur_idx = idx\n",
    "        while 1:\n",
    "            try:\n",
    "                data_feature = self.x_npy['mel1'][cur_idx]\n",
    "                age = self.x_npy['age'][cur_idx]\n",
    "                sex = self.x_npy['sex'][cur_idx]\n",
    "                hw = self.x_npy['hw'][cur_idx]\n",
    "                if self.x_npy['preg'][cur_idx] :\n",
    "                    preg = np.array([1])\n",
    "                else:\n",
    "                    preg = np.array([0])\n",
    "                \n",
    "                loc = self.x_npy['loc'][cur_idx]\n",
    "                break\n",
    "            except:\n",
    "                cur_idx += 1 \n",
    "        \n",
    "        data_label = self.y_npy[cur_idx]\n",
    "        return data_feature,age,sex,hw,preg,loc, data_label\n",
    "\n",
    "    def __len__(self):\n",
    "        return self.x_npy['mel1'].shape[0]\n",
    "\n",
    "def myCollateFn(sample_batch):\n",
    "    sample_batch = sorted(sample_batch, key=lambda x: x[0].shape[0], reverse=True)\n",
    "    #data_feature = [spec_augment(torch.from_numpy(x[0])) for x in sample_batch]#spec\n",
    "    data_feature =[torch.from_numpy(x[0]) for x in sample_batch]\n",
    "    age = [torch.from_numpy(x[1]) for x in sample_batch]\n",
    "    sex = [torch.from_numpy(x[2]) for x in sample_batch]\n",
    "    hw = [torch.from_numpy(x[3]) for x in sample_batch]\n",
    "    preg = [torch.from_numpy(x[4]) for x in sample_batch]\n",
    "    loc = [torch.from_numpy(x[5]) for x in sample_batch]\n",
    "    \n",
    "    data_feature = pad_sequence(data_feature, batch_first=False, padding_value=0.0)\n",
    "    age = pad_sequence(age, batch_first=False, padding_value=0.0)\n",
    "    sex = pad_sequence(sex, batch_first=False, padding_value=0.0)\n",
    "    hw = pad_sequence(hw, batch_first=False, padding_value=0.0)\n",
    "    preg = pad_sequence(preg, batch_first=False, padding_value=0.0)\n",
    "    loc = pad_sequence(loc, batch_first=False, padding_value=0.0)\n",
    "    \n",
    "    data_label = torch.tensor([x[-1] for x in sample_batch]).unsqueeze(-1)\n",
    "    return data_feature, age, sex, hw, preg, loc, data_label\n",
    "\n",
    "class myDataLoader(DataLoader):\n",
    "    def __init__(self, *args, **kwargs):\n",
    "        super(myDataLoader, self).__init__(*args, **kwargs)\n",
    "        self.collate_fn = myCollateFn\n"
   ]
  },
  {
   "cell_type": "code",
   "execution_count": 240,
   "id": "1603e230",
   "metadata": {},
   "outputs": [],
   "source": [
    "#from tensorflow import keras\n",
    "#from tensorflow.keras import layers\n",
    "\n",
    "# -*- coding: utf-8 -*-\n",
    "import argparse\n",
    "import os\n",
    "import time\n",
    "import torch\n",
    "import numpy as np\n",
    "import torch.optim as optim\n",
    "import torch.nn as nn\n",
    "import sys\n",
    "import random\n",
    "from tqdm import tqdm\n",
    "from tools import utils\n",
    "from torch import Tensor\n",
    "import torch.nn.functional as F\n",
    "\n",
    "\n",
    "\n",
    "def init_layer(layer):\n",
    "    \"\"\"Initialize a Linear or Convolutional layer. \"\"\"\n",
    "    nn.init.xavier_uniform_(layer.weight)\n",
    " \n",
    "    if hasattr(layer, 'bias'):\n",
    "        if layer.bias is not None:\n",
    "            layer.bias.data.fill_(0.)\n",
    "            \n",
    "    \n",
    "def init_bn(bn):\n",
    "    \"\"\"Initialize a Batchnorm layer. \"\"\"\n",
    "    bn.bias.data.fill_(0.)\n",
    "    bn.weight.data.fill_(1.)\n",
    "\n",
    "\n",
    "class ConvBlock(nn.Module):\n",
    "    def __init__(self, in_channels, out_channels):\n",
    "        \n",
    "        super(ConvBlock, self).__init__()\n",
    "        \n",
    "        self.conv1 = nn.Conv2d(in_channels=in_channels, \n",
    "                              out_channels=out_channels,\n",
    "                              kernel_size=(3, 3), stride=(1, 1),\n",
    "                              padding=(1, 1), bias=False)\n",
    "                              \n",
    "        self.conv2 = nn.Conv2d(in_channels=out_channels, \n",
    "                              out_channels=out_channels,\n",
    "                              kernel_size=(3, 3), stride=(1, 1),\n",
    "                              padding=(1, 1), bias=False)\n",
    "                              \n",
    "        self.bn1 = nn.BatchNorm2d(out_channels)\n",
    "        self.bn2 = nn.BatchNorm2d(out_channels)\n",
    "\n",
    "        self.init_weight()\n",
    "        \n",
    "    def init_weight(self):\n",
    "        init_layer(self.conv1)\n",
    "        init_layer(self.conv2)\n",
    "        init_bn(self.bn1)\n",
    "        init_bn(self.bn2)\n",
    "\n",
    "        \n",
    "    def forward(self, input, pool_size=(2, 2), pool_type='avg'):\n",
    "        \n",
    "        x = input\n",
    "        x = F.relu_(self.bn1(self.conv1(x)))\n",
    "        x = F.relu_(self.bn2(self.conv2(x)))\n",
    "        if pool_type == 'max':\n",
    "            x = F.max_pool2d(x, kernel_size=pool_size)\n",
    "        elif pool_type == 'avg':\n",
    "            x = F.avg_pool2d(x, kernel_size=pool_size)\n",
    "        elif pool_type == 'avg+max':\n",
    "            x1 = F.avg_pool2d(x, kernel_size=pool_size)\n",
    "            x2 = F.max_pool2d(x, kernel_size=pool_size)\n",
    "            x = x1 + x2\n",
    "        else:\n",
    "            raise Exception('Incorrect argument!')\n",
    "        \n",
    "        return x\n",
    "\n",
    "class Dense(nn.Module):\n",
    "    \n",
    "    def __init__(self,length):\n",
    "        super(Dense, self).__init__()\n",
    "        h1 = nn.Linear(length, 64)\n",
    "        h2 = nn.Linear(64, 32)\n",
    "        h3 = nn.Linear(32, 1)\n",
    "        self.hidden = nn.Sequential(\n",
    "            h1,\n",
    "            nn.ReLU(),\n",
    "            h2,\n",
    "            nn.ReLU(),\n",
    "            h3,\n",
    "        )\n",
    "        if torch.cuda.is_available():\n",
    "            self.hidden = self.hidden.cuda()\n",
    "        \n",
    "    def forward(self, x):\n",
    "        o = self.hidden(x)\n",
    "        return o.view(-1,1)\n",
    "    \n",
    "    \n",
    "    \n",
    "class vgg_hj(nn.Module):\n",
    "    def __init__(self, classes_num):\n",
    "        \n",
    "        super(vgg_hj, self).__init__() \n",
    "        \n",
    "\n",
    "\n",
    "        self.bn0 = nn.BatchNorm2d(64)\n",
    "        self.conv_block1 = ConvBlock(in_channels=1, out_channels=64)\n",
    "        self.conv_block2 = ConvBlock(in_channels=64, out_channels=128)\n",
    "        self.conv_block3 = ConvBlock(in_channels=128, out_channels=256)\n",
    "        self.conv_block4 = ConvBlock(in_channels=256, out_channels=512)\n",
    "        self.dense_age = Dense(6)\n",
    "        self.dense_sex = Dense(2)\n",
    "        self.dense_hw = Dense(2)\n",
    "        self.dense_preg = Dense(1)\n",
    "        self.dense_loc = Dense(5)\n",
    "        \n",
    "        #self.conv_block5 = ConvBlock(in_channels=512, out_channels=1024) \n",
    "        #self.conv_block6 = ConvBlock(in_channels=1024, out_channels=2048)\n",
    "\n",
    "        self.fc1 = nn.Linear(512, 507, bias=True)\n",
    "        self.fc_audioset = nn.Linear(512, classes_num, bias=True)\n",
    "        \n",
    "        self.init_weight()\n",
    "\n",
    "    def init_weight(self):\n",
    "        init_bn(self.bn0)\n",
    "        init_layer(self.fc1)\n",
    "        init_layer(self.fc_audioset)\n",
    "        \n",
    "        \n",
    "    def forward(self, input, age, sex, hw, preg, loc):\n",
    "\n",
    "        \"\"\"\n",
    "        Input: (batch_size, data_length)\"\"\"\n",
    "\n",
    "        #x = self.spectrogram_extractor(input)   # (batch_size, 1, time_steps, freq_bins)\n",
    "        #x = self.logmel_extractor(x)    # (batch_size, 1, time_steps, mel_bins)\n",
    "        #print(input.shape)\n",
    "        #x = input.permute(1, 2, 0) \n",
    "        input = input.float()\n",
    "        #x =input.unsqueeze(1)\n",
    "        x = input.permute(0, 2,1, 3) \n",
    "        #print(x.shape)\n",
    "        #x = x.transpose(1, 3)\n",
    "        #print(x.shape)\n",
    "        x = self.bn0(x)\n",
    "        #print(x.shape)\n",
    "        x = x.permute(0, 2,1, 3) \n",
    "        #x = x.transpose(1, 3)\n",
    "        #print(x.shape)\n",
    "        \n",
    "        x = self.conv_block1(x, pool_size=(1, 2), pool_type='avg')\n",
    "        #print(x.shape)\n",
    "        x = F.dropout(x, p=0.2, training=self.training)\n",
    "        #print(x.shape)\n",
    "        x = self.conv_block2(x, pool_size=(1, 2), pool_type='avg')\n",
    "        #print(x.shape)\n",
    "        x = F.dropout(x, p=0.2, training=self.training)\n",
    "        #print(x.shape)\n",
    "        x = self.conv_block3(x, pool_size=(2, 2), pool_type='avg')\n",
    "        #print(x.shape)\n",
    "        x = F.dropout(x, p=0.2, training=self.training)\n",
    "        #print(x.shape)\n",
    "        x = self.conv_block4(x, pool_size=(2, 2), pool_type='avg')\n",
    "        #print(x.shape)\n",
    "        x = F.dropout(x, p=0.2, training=self.training)\n",
    "        #x = self.conv_block5(x, pool_size=(2, 2), pool_type='avg')\n",
    "        #x = F.dropout(x, p=0.2, training=self.training)\n",
    "        #x = self.conv_block6(x, pool_size=(1, 1), pool_type='avg')\n",
    "        #x = F.dropout(x, p=0.2, training=self.training)\n",
    "        #print(x.shape)\n",
    "        #print(x)\n",
    "        x = torch.mean(x, dim=3)\n",
    "        #print(x)\n",
    "        #print(x.shape)\n",
    "        (x1, _) = torch.max(x, dim=2)\n",
    "        #print(x1.shape)\n",
    "        x2 = torch.mean(x, dim=2)\n",
    "        #print(x2.shape)\n",
    "        x = x1 + x2\n",
    "        #print(x.shape)\n",
    "        x = F.dropout(x, p=0.5, training=self.training)\n",
    "        #print(x.shape)\n",
    "        x = F.relu_(self.fc1(x))\n",
    "        #print('fc통과:',x.shape)\n",
    "        age_ = self.dense_age(age)\n",
    "        sex_ = self.dense_sex(sex)\n",
    "        hw_ = self.dense_hw(hw)\n",
    "        preg_ = self.dense_preg(preg)\n",
    "        loc_ = self.dense_loc(loc)\n",
    "        \n",
    "        #print(x.shape)\n",
    "        cat = torch.cat([x, age_,sex_,hw_,preg_,loc_],axis = 1)\n",
    "        #print(cat.shape)\n",
    "        #embedding = F.dropout(x, p=0.5, training=self.training)\n",
    "        out = self.fc_audioset(cat)\n",
    "        #print(out.shape)\n",
    "        #clipwise_output = torch.sigmoid(self.fc_audioset(x))\n",
    "        \n",
    "        #output_dict = {'clipwise_output': clipwise_output, 'embedding': embedding}\n",
    "\n",
    "        return out\n"
   ]
  },
  {
   "cell_type": "code",
   "execution_count": null,
   "id": "a352719d",
   "metadata": {},
   "outputs": [],
   "source": []
  },
  {
   "cell_type": "code",
   "execution_count": null,
   "id": "e398eb8e",
   "metadata": {},
   "outputs": [],
   "source": []
  },
  {
   "cell_type": "code",
   "execution_count": null,
   "id": "b46284d4",
   "metadata": {},
   "outputs": [],
   "source": []
  },
  {
   "cell_type": "code",
   "execution_count": null,
   "id": "5099ae40",
   "metadata": {},
   "outputs": [],
   "source": []
  },
  {
   "cell_type": "code",
   "execution_count": null,
   "id": "1044acaf",
   "metadata": {},
   "outputs": [],
   "source": []
  },
  {
   "cell_type": "code",
   "execution_count": null,
   "id": "fe522413",
   "metadata": {},
   "outputs": [],
   "source": []
  },
  {
   "cell_type": "code",
   "execution_count": null,
   "id": "1a45ad66",
   "metadata": {},
   "outputs": [],
   "source": []
  },
  {
   "cell_type": "code",
   "execution_count": null,
   "id": "4cae4b9e",
   "metadata": {},
   "outputs": [],
   "source": []
  },
  {
   "cell_type": "code",
   "execution_count": null,
   "id": "83845bdb",
   "metadata": {},
   "outputs": [],
   "source": []
  },
  {
   "cell_type": "code",
   "execution_count": null,
   "id": "27a9bb5f",
   "metadata": {},
   "outputs": [],
   "source": []
  },
  {
   "cell_type": "code",
   "execution_count": null,
   "id": "a9f5fcc7",
   "metadata": {},
   "outputs": [],
   "source": []
  },
  {
   "cell_type": "code",
   "execution_count": null,
   "id": "17a4b371",
   "metadata": {},
   "outputs": [],
   "source": []
  },
  {
   "cell_type": "code",
   "execution_count": 53,
   "id": "a55a0218",
   "metadata": {},
   "outputs": [],
   "source": [
    "outcome_classes = ['Abnormal', 'Normal']"
   ]
  },
  {
   "cell_type": "code",
   "execution_count": null,
   "id": "bd9ef277",
   "metadata": {},
   "outputs": [],
   "source": [
    "data_folder, patient_files"
   ]
  },
  {
   "cell_type": "code",
   "execution_count": 58,
   "id": "3f2f0e3c",
   "metadata": {},
   "outputs": [
    {
     "data": {
      "text/plain": [
       "'2530 4 4000\\nAV 2530_AV.hea 2530_AV.wav 2530_AV.tsv\\nPV 2530_PV.hea 2530_PV.wav 2530_PV.tsv\\nTV 2530_TV.hea 2530_TV.wav 2530_TV.tsv\\nMV 2530_MV.hea 2530_MV.wav 2530_MV.tsv\\n#Age: Child\\n#Sex: Female\\n#Height: 98.0\\n#Weight: 15.9\\n#Pregnancy status: False\\n#Murmur: Absent\\n#Murmur locations: nan\\n#Most audible location: nan\\n#Systolic murmur timing: nan\\n#Systolic murmur shape: nan\\n#Systolic murmur grading: nan\\n#Systolic murmur pitch: nan\\n#Systolic murmur quality: nan\\n#Diastolic murmur timing: nan\\n#Diastolic murmur shape: nan\\n#Diastolic murmur grading: nan\\n#Diastolic murmur pitch: nan\\n#Diastolic murmur quality: nan\\n#Outcome: Abnormal\\n#Campaign: CC2015\\n#Additional ID: nan\\n'"
      ]
     },
     "execution_count": 58,
     "metadata": {},
     "output_type": "execute_result"
    }
   ],
   "source": [
    "current_patient_data"
   ]
  },
  {
   "cell_type": "code",
   "execution_count": 59,
   "id": "519b1fab",
   "metadata": {},
   "outputs": [
    {
     "data": {
      "text/plain": [
       "[array([-425, 1045,  518, ...,  509,  443,  122], dtype=int16),\n",
       " array([2593, 1874, 1370, ..., -637, -255, -243], dtype=int16),\n",
       " array([ 2276,  2343,  2448, ..., -2732, -5634, -4290], dtype=int16),\n",
       " array([12672, 10041,  3215, ...,  -658,     8,   528], dtype=int16)]"
      ]
     },
     "execution_count": 59,
     "metadata": {},
     "output_type": "execute_result"
    }
   ],
   "source": [
    "current_recordings"
   ]
  },
  {
   "cell_type": "code",
   "execution_count": 62,
   "id": "2908c1d4",
   "metadata": {},
   "outputs": [
    {
     "data": {
      "text/plain": [
       "[array([-425, 1045,  518, ...,  509,  443,  122], dtype=int16),\n",
       " array([2593, 1874, 1370, ..., -637, -255, -243], dtype=int16),\n",
       " array([ 2276,  2343,  2448, ..., -2732, -5634, -4290], dtype=int16),\n",
       " array([12672, 10041,  3215, ...,  -658,     8,   528], dtype=int16)]"
      ]
     },
     "execution_count": 62,
     "metadata": {},
     "output_type": "execute_result"
    }
   ],
   "source": [
    "current_recordings"
   ]
  },
  {
   "cell_type": "code",
   "execution_count": 63,
   "id": "445077b8",
   "metadata": {},
   "outputs": [
    {
     "data": {
      "text/plain": [
       "751"
      ]
     },
     "execution_count": 63,
     "metadata": {},
     "output_type": "execute_result"
    }
   ],
   "source": [
    "num_patient_files"
   ]
  },
  {
   "cell_type": "code",
   "execution_count": 247,
   "id": "e1ef9721",
   "metadata": {},
   "outputs": [],
   "source": [
    "#from tensorflow import keras\n",
    "#from tensorflow.keras import layers\n",
    "\n",
    "# -*- coding: utf-8 -*-\n",
    "import argparse\n",
    "import os\n",
    "import time\n",
    "import torch\n",
    "import numpy as np\n",
    "import torch.optim as optim\n",
    "import torch.nn as nn\n",
    "import sys\n",
    "import random\n",
    "from tqdm import tqdm\n",
    "from tools import utils\n",
    "from torch import Tensor\n",
    "import torch.nn.functional as F\n",
    "\n",
    "\n",
    "\n",
    "def init_layer(layer):\n",
    "    \"\"\"Initialize a Linear or Convolutional layer. \"\"\"\n",
    "    nn.init.xavier_uniform_(layer.weight)\n",
    " \n",
    "    if hasattr(layer, 'bias'):\n",
    "        if layer.bias is not None:\n",
    "            layer.bias.data.fill_(0.)\n",
    "            \n",
    "    \n",
    "def init_bn(bn):\n",
    "    \"\"\"Initialize a Batchnorm layer. \"\"\"\n",
    "    bn.bias.data.fill_(0.)\n",
    "    bn.weight.data.fill_(1.)\n",
    "\n",
    "\n",
    "class ConvBlock(nn.Module):\n",
    "    def __init__(self, in_channels, out_channels):\n",
    "        \n",
    "        super(ConvBlock, self).__init__()\n",
    "        \n",
    "        self.conv1 = nn.Conv2d(in_channels=in_channels, \n",
    "                              out_channels=out_channels,\n",
    "                              kernel_size=(3, 3), stride=(1, 1),\n",
    "                              padding=(1, 1), bias=False)\n",
    "                              \n",
    "        self.conv2 = nn.Conv2d(in_channels=out_channels, \n",
    "                              out_channels=out_channels,\n",
    "                              kernel_size=(3, 3), stride=(1, 1),\n",
    "                              padding=(1, 1), bias=False)\n",
    "                              \n",
    "        self.bn1 = nn.BatchNorm2d(out_channels)\n",
    "        self.bn2 = nn.BatchNorm2d(out_channels)\n",
    "\n",
    "        self.init_weight()\n",
    "        \n",
    "    def init_weight(self):\n",
    "        init_layer(self.conv1)\n",
    "        init_layer(self.conv2)\n",
    "        init_bn(self.bn1)\n",
    "        init_bn(self.bn2)\n",
    "\n",
    "        \n",
    "    def forward(self, input, pool_size=(2, 2), pool_type='avg'):\n",
    "        \n",
    "        x = input\n",
    "        x = F.relu_(self.bn1(self.conv1(x)))\n",
    "        x = F.relu_(self.bn2(self.conv2(x)))\n",
    "        if pool_type == 'max':\n",
    "            x = F.max_pool2d(x, kernel_size=pool_size)\n",
    "        elif pool_type == 'avg':\n",
    "            x = F.avg_pool2d(x, kernel_size=pool_size)\n",
    "        elif pool_type == 'avg+max':\n",
    "            x1 = F.avg_pool2d(x, kernel_size=pool_size)\n",
    "            x2 = F.max_pool2d(x, kernel_size=pool_size)\n",
    "            x = x1 + x2\n",
    "        else:\n",
    "            raise Exception('Incorrect argument!')\n",
    "        \n",
    "        return x\n",
    "\n",
    "class Dense(nn.Module):\n",
    "    \n",
    "    def __init__(self,length):\n",
    "        super(Dense, self).__init__()\n",
    "        h1 = nn.Linear(length, 64)\n",
    "        h2 = nn.Linear(64, 32)\n",
    "        h3 = nn.Linear(32, 1)\n",
    "        self.hidden = nn.Sequential(\n",
    "            h1,\n",
    "            nn.ReLU(),\n",
    "            h2,\n",
    "            nn.ReLU(),\n",
    "            h3,\n",
    "        )\n",
    "        if torch.cuda.is_available():\n",
    "            self.hidden = self.hidden.cuda()\n",
    "        \n",
    "    def forward(self, x):\n",
    "        o = self.hidden(x)\n",
    "        return o.view(-1,1)"
   ]
  },
  {
   "cell_type": "code",
   "execution_count": 248,
   "id": "dab0a308",
   "metadata": {},
   "outputs": [],
   "source": [
    "class vgg_hj(nn.Module):\n",
    "    def __init__(self, classes_num):\n",
    "        \n",
    "        super(vgg_hj, self).__init__() \n",
    "        \n",
    "\n",
    "\n",
    "        self.bn0 = nn.BatchNorm2d(128)\n",
    "        self.conv_block1 = ConvBlock(in_channels=1, out_channels=64)\n",
    "        self.conv_block2 = ConvBlock(in_channels=64, out_channels=128)\n",
    "        self.conv_block3 = ConvBlock(in_channels=128, out_channels=256)\n",
    "        self.conv_block4 = ConvBlock(in_channels=256, out_channels=512)\n",
    "        self.dense_age = Dense(6)\n",
    "        self.dense_sex = Dense(2)\n",
    "        self.dense_hw = Dense(2)\n",
    "        self.dense_preg = Dense(1)\n",
    "        self.dense_loc = Dense(5)\n",
    "        \n",
    "        #self.conv_block5 = ConvBlock(in_channels=512, out_channels=1024) \n",
    "        #self.conv_block6 = ConvBlock(in_channels=1024, out_channels=2048)\n",
    "\n",
    "        self.fc1 = nn.Linear(512, 507, bias=True)\n",
    "        self.fc_audioset = nn.Linear(512, classes_num, bias=True)\n",
    "        \n",
    "        self.init_weight()\n",
    "\n",
    "    def init_weight(self):\n",
    "        init_bn(self.bn0)\n",
    "        init_layer(self.fc1)\n",
    "        init_layer(self.fc_audioset)\n",
    "        \n",
    "        \n",
    "    def forward(self, input, age, sex, hw, preg, loc):\n",
    "\n",
    "        \"\"\"\n",
    "        Input: (batch_size, data_length)\"\"\"\n",
    "\n",
    "        #x = self.spectrogram_extractor(input)   # (batch_size, 1, time_steps, freq_bins)\n",
    "        #x = self.logmel_extractor(x)    # (batch_size, 1, time_steps, mel_bins)\n",
    "        #print(input.shape)\n",
    "        #x = input.permute(1, 2, 0) \n",
    "        input = input.float()\n",
    "        x =input.unsqueeze(1)\n",
    "        x = x.permute(2, 3,0, 1) \n",
    "        print(x.shape)\n",
    "        #x = x.transpose(1, 3)\n",
    "        #print(x.shape)\n",
    "        x = self.bn0(x)\n",
    "        #print(x.shape)\n",
    "        x = x.permute(0, 2,1, 3) \n",
    "        x = x.transpose(1, 3)\n",
    "        print(x.shape)\n",
    "        \n",
    "        x = self.conv_block1(x, pool_size=(1, 2), pool_type='avg')\n",
    "        print(x.shape)\n",
    "        x = F.dropout(x, p=0.2, training=self.training)\n",
    "        print(x.shape)\n",
    "        x = self.conv_block2(x, pool_size=(1, 2), pool_type='avg')\n",
    "        print(x.shape)\n",
    "        x = F.dropout(x, p=0.2, training=self.training)\n",
    "        #print(x.shape)\n",
    "        x = self.conv_block3(x, pool_size=(2, 2), pool_type='avg')\n",
    "        #print(x.shape)\n",
    "        x = F.dropout(x, p=0.2, training=self.training)\n",
    "        #print(x.shape)\n",
    "        x = self.conv_block4(x, pool_size=(2, 2), pool_type='avg')\n",
    "        #print(x.shape)\n",
    "        x = F.dropout(x, p=0.2, training=self.training)\n",
    "        #x = self.conv_block5(x, pool_size=(2, 2), pool_type='avg')\n",
    "        #x = F.dropout(x, p=0.2, training=self.training)\n",
    "        #x = self.conv_block6(x, pool_size=(1, 1), pool_type='avg')\n",
    "        #x = F.dropout(x, p=0.2, training=self.training)\n",
    "        print(x.shape)\n",
    "        #print(x)\n",
    "        x = torch.mean(x, dim=3)\n",
    "        #print(x)\n",
    "        #print(x.shape)\n",
    "        (x1, _) = torch.max(x, dim=2)\n",
    "        print(x1.shape)\n",
    "        x2 = torch.mean(x, dim=2)\n",
    "        print(x2.shape)\n",
    "        x = x1 + x2\n",
    "        #print(x.shape)\n",
    "        x = F.dropout(x, p=0.5, training=self.training)\n",
    "        print(x.shape)\n",
    "        x = F.relu_(self.fc1(x))\n",
    "        print('fc통과:',x.shape)#1,507\n",
    "       \n",
    "        age_ = self.dense_age(age)\n",
    "        sex_ = self.dense_sex(sex)\n",
    "        hw_ = self.dense_hw(hw)\n",
    "        preg_ = self.dense_preg(preg)\n",
    "        loc_ = self.dense_loc(loc)\n",
    "        \n",
    "        #print(x.shape)\n",
    "        cat = torch.cat([x, age_,sex_,hw_,preg_,loc_],axis = 1)\n",
    "        print(cat.shape)\n",
    "        #embedding = F.dropout(x, p=0.5, training=self.training)\n",
    "        out = self.fc_audioset(cat)\n",
    "        #print(out.shape)\n",
    "        #clipwise_output = torch.sigmoid(self.fc_audioset(x))\n",
    "        \n",
    "        #output_dict = {'clipwise_output': clipwise_output, 'embedding': embedding}\n",
    "\n",
    "        return out\n"
   ]
  },
  {
   "cell_type": "code",
   "execution_count": 69,
   "id": "baf9ebe8",
   "metadata": {},
   "outputs": [
    {
     "data": {
      "text/plain": [
       "7"
      ]
     },
     "execution_count": 69,
     "metadata": {},
     "output_type": "execute_result"
    }
   ],
   "source": []
  },
  {
   "cell_type": "code",
   "execution_count": 71,
   "id": "fd244078",
   "metadata": {},
   "outputs": [
    {
     "data": {
      "text/plain": [
       "array([[0, 0, 1],\n",
       "       [0, 0, 1],\n",
       "       [0, 0, 1],\n",
       "       ...,\n",
       "       [0, 0, 1],\n",
       "       [0, 0, 1],\n",
       "       [0, 0, 1]])"
      ]
     },
     "execution_count": 71,
     "metadata": {},
     "output_type": "execute_result"
    }
   ],
   "source": [
    "murmurs"
   ]
  },
  {
   "cell_type": "code",
   "execution_count": 72,
   "id": "2fd7195e",
   "metadata": {},
   "outputs": [],
   "source": [
    "dataset_train = myDataset(features, murmurs)\n",
    "dataloader_train = myDataLoader(dataset=dataset_train,\n",
    "                                    batch_size=64,\n",
    "                                    shuffle=False,\n",
    "                                    num_workers=0)"
   ]
  },
  {
   "cell_type": "code",
   "execution_count": 73,
   "id": "9f406e7a",
   "metadata": {},
   "outputs": [],
   "source": [
    "x = next(iter(dataloader_train))"
   ]
  },
  {
   "cell_type": "code",
   "execution_count": 85,
   "id": "2be5821a",
   "metadata": {},
   "outputs": [
    {
     "data": {
      "text/plain": [
       "tensor([[[[1]],\n",
       "\n",
       "         [[0]],\n",
       "\n",
       "         [[0]]],\n",
       "\n",
       "\n",
       "        [[[0]],\n",
       "\n",
       "         [[0]],\n",
       "\n",
       "         [[1]]],\n",
       "\n",
       "\n",
       "        [[[0]],\n",
       "\n",
       "         [[0]],\n",
       "\n",
       "         [[1]]],\n",
       "\n",
       "\n",
       "        [[[0]],\n",
       "\n",
       "         [[1]],\n",
       "\n",
       "         [[0]]],\n",
       "\n",
       "\n",
       "        [[[1]],\n",
       "\n",
       "         [[0]],\n",
       "\n",
       "         [[0]]],\n",
       "\n",
       "\n",
       "        [[[0]],\n",
       "\n",
       "         [[0]],\n",
       "\n",
       "         [[1]]],\n",
       "\n",
       "\n",
       "        [[[0]],\n",
       "\n",
       "         [[0]],\n",
       "\n",
       "         [[1]]],\n",
       "\n",
       "\n",
       "        [[[0]],\n",
       "\n",
       "         [[1]],\n",
       "\n",
       "         [[0]]],\n",
       "\n",
       "\n",
       "        [[[0]],\n",
       "\n",
       "         [[0]],\n",
       "\n",
       "         [[1]]],\n",
       "\n",
       "\n",
       "        [[[0]],\n",
       "\n",
       "         [[1]],\n",
       "\n",
       "         [[0]]],\n",
       "\n",
       "\n",
       "        [[[0]],\n",
       "\n",
       "         [[0]],\n",
       "\n",
       "         [[1]]],\n",
       "\n",
       "\n",
       "        [[[1]],\n",
       "\n",
       "         [[0]],\n",
       "\n",
       "         [[0]]],\n",
       "\n",
       "\n",
       "        [[[0]],\n",
       "\n",
       "         [[0]],\n",
       "\n",
       "         [[1]]],\n",
       "\n",
       "\n",
       "        [[[0]],\n",
       "\n",
       "         [[0]],\n",
       "\n",
       "         [[1]]],\n",
       "\n",
       "\n",
       "        [[[1]],\n",
       "\n",
       "         [[0]],\n",
       "\n",
       "         [[0]]],\n",
       "\n",
       "\n",
       "        [[[1]],\n",
       "\n",
       "         [[0]],\n",
       "\n",
       "         [[0]]],\n",
       "\n",
       "\n",
       "        [[[1]],\n",
       "\n",
       "         [[0]],\n",
       "\n",
       "         [[0]]],\n",
       "\n",
       "\n",
       "        [[[1]],\n",
       "\n",
       "         [[0]],\n",
       "\n",
       "         [[0]]],\n",
       "\n",
       "\n",
       "        [[[0]],\n",
       "\n",
       "         [[0]],\n",
       "\n",
       "         [[1]]],\n",
       "\n",
       "\n",
       "        [[[0]],\n",
       "\n",
       "         [[0]],\n",
       "\n",
       "         [[1]]],\n",
       "\n",
       "\n",
       "        [[[1]],\n",
       "\n",
       "         [[0]],\n",
       "\n",
       "         [[0]]],\n",
       "\n",
       "\n",
       "        [[[0]],\n",
       "\n",
       "         [[1]],\n",
       "\n",
       "         [[0]]],\n",
       "\n",
       "\n",
       "        [[[1]],\n",
       "\n",
       "         [[0]],\n",
       "\n",
       "         [[0]]],\n",
       "\n",
       "\n",
       "        [[[1]],\n",
       "\n",
       "         [[0]],\n",
       "\n",
       "         [[0]]],\n",
       "\n",
       "\n",
       "        [[[1]],\n",
       "\n",
       "         [[0]],\n",
       "\n",
       "         [[0]]],\n",
       "\n",
       "\n",
       "        [[[0]],\n",
       "\n",
       "         [[0]],\n",
       "\n",
       "         [[1]]],\n",
       "\n",
       "\n",
       "        [[[0]],\n",
       "\n",
       "         [[0]],\n",
       "\n",
       "         [[1]]],\n",
       "\n",
       "\n",
       "        [[[0]],\n",
       "\n",
       "         [[0]],\n",
       "\n",
       "         [[1]]],\n",
       "\n",
       "\n",
       "        [[[1]],\n",
       "\n",
       "         [[0]],\n",
       "\n",
       "         [[0]]],\n",
       "\n",
       "\n",
       "        [[[1]],\n",
       "\n",
       "         [[0]],\n",
       "\n",
       "         [[0]]],\n",
       "\n",
       "\n",
       "        [[[1]],\n",
       "\n",
       "         [[0]],\n",
       "\n",
       "         [[0]]],\n",
       "\n",
       "\n",
       "        [[[1]],\n",
       "\n",
       "         [[0]],\n",
       "\n",
       "         [[0]]],\n",
       "\n",
       "\n",
       "        [[[0]],\n",
       "\n",
       "         [[1]],\n",
       "\n",
       "         [[0]]],\n",
       "\n",
       "\n",
       "        [[[0]],\n",
       "\n",
       "         [[1]],\n",
       "\n",
       "         [[0]]],\n",
       "\n",
       "\n",
       "        [[[1]],\n",
       "\n",
       "         [[0]],\n",
       "\n",
       "         [[0]]],\n",
       "\n",
       "\n",
       "        [[[1]],\n",
       "\n",
       "         [[0]],\n",
       "\n",
       "         [[0]]],\n",
       "\n",
       "\n",
       "        [[[1]],\n",
       "\n",
       "         [[0]],\n",
       "\n",
       "         [[0]]],\n",
       "\n",
       "\n",
       "        [[[0]],\n",
       "\n",
       "         [[1]],\n",
       "\n",
       "         [[0]]],\n",
       "\n",
       "\n",
       "        [[[1]],\n",
       "\n",
       "         [[0]],\n",
       "\n",
       "         [[0]]],\n",
       "\n",
       "\n",
       "        [[[0]],\n",
       "\n",
       "         [[0]],\n",
       "\n",
       "         [[1]]],\n",
       "\n",
       "\n",
       "        [[[0]],\n",
       "\n",
       "         [[0]],\n",
       "\n",
       "         [[1]]],\n",
       "\n",
       "\n",
       "        [[[1]],\n",
       "\n",
       "         [[0]],\n",
       "\n",
       "         [[0]]],\n",
       "\n",
       "\n",
       "        [[[0]],\n",
       "\n",
       "         [[1]],\n",
       "\n",
       "         [[0]]],\n",
       "\n",
       "\n",
       "        [[[0]],\n",
       "\n",
       "         [[0]],\n",
       "\n",
       "         [[1]]],\n",
       "\n",
       "\n",
       "        [[[0]],\n",
       "\n",
       "         [[0]],\n",
       "\n",
       "         [[1]]],\n",
       "\n",
       "\n",
       "        [[[0]],\n",
       "\n",
       "         [[0]],\n",
       "\n",
       "         [[1]]],\n",
       "\n",
       "\n",
       "        [[[0]],\n",
       "\n",
       "         [[0]],\n",
       "\n",
       "         [[1]]],\n",
       "\n",
       "\n",
       "        [[[0]],\n",
       "\n",
       "         [[0]],\n",
       "\n",
       "         [[1]]],\n",
       "\n",
       "\n",
       "        [[[0]],\n",
       "\n",
       "         [[0]],\n",
       "\n",
       "         [[1]]],\n",
       "\n",
       "\n",
       "        [[[0]],\n",
       "\n",
       "         [[0]],\n",
       "\n",
       "         [[1]]],\n",
       "\n",
       "\n",
       "        [[[0]],\n",
       "\n",
       "         [[0]],\n",
       "\n",
       "         [[1]]],\n",
       "\n",
       "\n",
       "        [[[0]],\n",
       "\n",
       "         [[0]],\n",
       "\n",
       "         [[1]]],\n",
       "\n",
       "\n",
       "        [[[0]],\n",
       "\n",
       "         [[0]],\n",
       "\n",
       "         [[1]]],\n",
       "\n",
       "\n",
       "        [[[0]],\n",
       "\n",
       "         [[0]],\n",
       "\n",
       "         [[1]]],\n",
       "\n",
       "\n",
       "        [[[0]],\n",
       "\n",
       "         [[0]],\n",
       "\n",
       "         [[1]]],\n",
       "\n",
       "\n",
       "        [[[0]],\n",
       "\n",
       "         [[0]],\n",
       "\n",
       "         [[1]]],\n",
       "\n",
       "\n",
       "        [[[0]],\n",
       "\n",
       "         [[1]],\n",
       "\n",
       "         [[0]]],\n",
       "\n",
       "\n",
       "        [[[0]],\n",
       "\n",
       "         [[0]],\n",
       "\n",
       "         [[1]]],\n",
       "\n",
       "\n",
       "        [[[0]],\n",
       "\n",
       "         [[0]],\n",
       "\n",
       "         [[1]]],\n",
       "\n",
       "\n",
       "        [[[0]],\n",
       "\n",
       "         [[0]],\n",
       "\n",
       "         [[1]]],\n",
       "\n",
       "\n",
       "        [[[1]],\n",
       "\n",
       "         [[0]],\n",
       "\n",
       "         [[0]]],\n",
       "\n",
       "\n",
       "        [[[1]],\n",
       "\n",
       "         [[0]],\n",
       "\n",
       "         [[0]]],\n",
       "\n",
       "\n",
       "        [[[0]],\n",
       "\n",
       "         [[0]],\n",
       "\n",
       "         [[1]]],\n",
       "\n",
       "\n",
       "        [[[1]],\n",
       "\n",
       "         [[0]],\n",
       "\n",
       "         [[0]]]])"
      ]
     },
     "execution_count": 85,
     "metadata": {},
     "output_type": "execute_result"
    }
   ],
   "source": [
    "x[-1].unsqueeze(-1)"
   ]
  },
  {
   "cell_type": "code",
   "execution_count": 107,
   "id": "3c904712",
   "metadata": {},
   "outputs": [],
   "source": [
    "nnet = vgg_hj(num_murmur_classes)"
   ]
  },
  {
   "cell_type": "code",
   "execution_count": null,
   "id": "9fce50ed",
   "metadata": {},
   "outputs": [],
   "source": []
  },
  {
   "cell_type": "code",
   "execution_count": null,
   "id": "3900255f",
   "metadata": {},
   "outputs": [],
   "source": []
  },
  {
   "cell_type": "code",
   "execution_count": null,
   "id": "6d000ca5",
   "metadata": {},
   "outputs": [],
   "source": []
  },
  {
   "cell_type": "code",
   "execution_count": 106,
   "id": "8333a351",
   "metadata": {},
   "outputs": [],
   "source": [
    "num_murmur_classes = len(murmur_classes)"
   ]
  },
  {
   "cell_type": "code",
   "execution_count": 105,
   "id": "fcaf704e",
   "metadata": {},
   "outputs": [],
   "source": [
    "murmur_classes = ['Present', 'Unknown', 'Absent']"
   ]
  },
  {
   "cell_type": "code",
   "execution_count": null,
   "id": "a267a1cc",
   "metadata": {},
   "outputs": [],
   "source": []
  },
  {
   "cell_type": "code",
   "execution_count": null,
   "id": "d16c8ff6",
   "metadata": {},
   "outputs": [],
   "source": []
  },
  {
   "cell_type": "code",
   "execution_count": null,
   "id": "7499b926",
   "metadata": {},
   "outputs": [],
   "source": []
  },
  {
   "cell_type": "code",
   "execution_count": null,
   "id": "ae175bbc",
   "metadata": {},
   "outputs": [],
   "source": []
  },
  {
   "cell_type": "code",
   "execution_count": null,
   "id": "f35b0b0f",
   "metadata": {},
   "outputs": [],
   "source": []
  },
  {
   "cell_type": "code",
   "execution_count": null,
   "id": "6ff2fc87",
   "metadata": {},
   "outputs": [],
   "source": []
  },
  {
   "cell_type": "code",
   "execution_count": 257,
   "id": "0de2315e",
   "metadata": {},
   "outputs": [],
   "source": [
    "# Train your model.\n",
    "def train_challenge_model(data_folder, model_folder, verbose):\n",
    "    gc.collect()\n",
    "    torch.cuda.empty_cache()\n",
    "    GPU_NUM = 0 # 원하는 GPU 번호 입력\n",
    "    device = torch.device(f'cuda:{GPU_NUM}' if torch.cuda.is_available() else 'cpu')\n",
    "#    device = torch.device('cuda' if torch.cuda.is_available() else 'cpu')\n",
    "    torch.cuda.set_device(device)\n",
    "    # Find data files.\n",
    "    if verbose >= 1:\n",
    "        print('Finding data files...')\n",
    "\n",
    "    # Find the patient data files.\n",
    "    patient_files = find_patient_files(data_folder)\n",
    "    num_patient_files = len(patient_files)\n",
    "\n",
    "    if num_patient_files==0:\n",
    "        raise Exception('No data was provided.')\n",
    "\n",
    "    # Create a folder for the model if it does not already exist.\n",
    "    os.makedirs(model_folder, exist_ok=True)\n",
    "\n",
    "    # Extract the features and labels.\n",
    "    if verbose >= 1:\n",
    "        print('Extracting features and labels from the Challenge data...')\n",
    "\n",
    "    murmur_classes = ['Present', 'Unknown', 'Absent']\n",
    "    num_murmur_classes = len(murmur_classes)\n",
    "    outcome_classes = ['Abnormal', 'Normal']\n",
    "    num_outcome_classes = len(outcome_classes)\n",
    "    \n",
    "    \n",
    "    #features = np.vstack(features)\n",
    "    #murmurs = np.vstack(murmurs)\n",
    "    #outcomes = np.vstack(outcomes)\n",
    "    # Train the model.\n",
    "    log_dir = './log/'\n",
    "    project = 'hj0'\n",
    "    logger = get_logger(log_dir + '/' + project)\n",
    "    \n",
    "    #label \n",
    "    murmurs_label = np.empty(len(murmurs))\n",
    "    for i,l in enumerate(murmurs) :\n",
    "        murmurs_label[i] = int(list(l).index(1))\n",
    "    \n",
    "    outcomes_label = np.empty(len(outcomes))\n",
    "    for i,l in enumerate(outcomes) :\n",
    "        outcomes_label[i] = int(list(l).index(1))\n",
    "    \n",
    "    \n",
    "    dataset_train_murmurs = myDataset(features,murmurs_label)\n",
    "    dataloader_train_murmurs = myDataLoader(dataset=dataset_train_murmurs,\n",
    "                                    batch_size=64,\n",
    "                                    shuffle=False,\n",
    "                                    num_workers=0)\n",
    "    \n",
    "    \n",
    "    dataset_train_outcomes = myDataset(features,outcomes_label)\n",
    "    dataloader_train_outcoms = myDataLoader(dataset=dataset_train_outcomes,\n",
    "                                    batch_size=64,\n",
    "                                    shuffle=False,\n",
    "                                    num_workers=0)\n",
    "\n",
    "    all_file_train = len(dataloader_train_murmurs)\n",
    "    # Define model\n",
    "    nnet = vgg_hj(num_murmur_classes) \n",
    "    nnet = nnet.cuda()\n",
    "    optimizer = optim.Adam(nnet.parameters(), lr=4e-4)\n",
    "    scheduler = torch.optim.lr_scheduler.ExponentialLR(optimizer, 0.91)\n",
    "    criterion = nn.CrossEntropyLoss()\n",
    "    # Train the model.\n",
    "    if verbose >= 1:\n",
    "        print('Training model...')\n",
    "    imputer = SimpleImputer().fit(features['hw'])\n",
    "    features['hw'] = imputer.transform(features['hw'])\n",
    "    \n",
    "    \n",
    "    for iter_ in range(15):  # args.end_iter\n",
    "        start_time = time.time()\n",
    "        running_loss = 0.0\n",
    "        train_epoch_acc = 0.0\n",
    "        nnet.train()\n",
    "        labels=[]\n",
    "        idx = 0\n",
    "#    epoch[str(iter_)] = {}\n",
    "        for audio_feature, age, sex, hw, preg, loc, data_label_torch in tqdm(dataloader_train_murmurs):  \n",
    "            #print(audio_feature.shape)\n",
    "        \n",
    "            idx = idx + 1\n",
    "            #audio_feature = torch.nan_to_num(audio_feature, nan=0)\n",
    "            audio_feature[audio_feature != audio_feature] = 0\n",
    "        \n",
    "            #audio_feature = audio_feature.permute(1,3,0,2)\n",
    "            #print(audio_feature.shape)\n",
    "            audio_feature = audio_feature.cuda()\n",
    "            age = age.permute(1,0).float().cuda()\n",
    "            #print(age.shape)\n",
    "            sex = sex.permute(1,0).float().cuda()\n",
    "            #print(sex.shape)\n",
    "            hw = hw.permute(1,0).float().cuda()\n",
    "            #print(hw.shape)\n",
    "            preg = preg.permute(1,0).float().cuda()\n",
    "            #print(preg.shape)\n",
    "            loc = loc.permute(1,0).float().cuda()\n",
    "            #print(loc.shape)\n",
    "    #        for idx in range(len(data_label_torch)) :\n",
    "    #            data_label_torch[idx][0] = mapping[int(data_label_torch[idx][0])]\n",
    "            data_label_torch = data_label_torch.cuda()\n",
    "                \n",
    "            data_label_torch = data_label_torch.long()\n",
    "            outputs = nnet(input=audio_feature, age = age , sex = sex, hw = hw, preg = preg, loc = loc)\n",
    "            \n",
    "            #softmax = nn.Softmax(dim = 1)\n",
    "            \n",
    "            #outputs = softmax(outputs)\n",
    "            \n",
    "            #labels = np.argmax(outputs.detach().cpu().numpy())\n",
    "            \n",
    "            \n",
    "            loss = criterion(outputs.float(), data_label_torch.squeeze(1))\n",
    "            #train_acc = compute_weighted_accuracy(data_label_torch.squeeze(1), outputs,murmur_classes )\n",
    "            train_acc = multi_acc(outputs, data_label_torch.squeeze(1))\n",
    "            #print(outputs.shape)\n",
    "            #print(data_label_torch.squeeze(1).shape)\n",
    "            #print(train_acc)\n",
    "                \n",
    "            optimizer.zero_grad()\n",
    "            loss.backward()\n",
    "            optimizer.step()\n",
    "\n",
    "            running_loss += loss.item()\n",
    "            train_epoch_acc += train_acc.item()\n",
    "            #if idx % 100 == 0 :\n",
    "            #    print(\"lr: \", optimizer.param_groups[0]['lr'])\n",
    "            #    print('batch : ',idx, ' done')\n",
    "        logger.info(\"Iteration:{0}, loss = {1:.6f}, acc = {2:.3f} \".format(iter_, running_loss/all_file_train, train_epoch_acc/all_file_train))\n",
    "    \n",
    "    save_challenge_model(model_folder, murmur_classes, nnet,m_name='vgg_hj')\n",
    "                "
   ]
  },
  {
   "cell_type": "code",
   "execution_count": 256,
   "id": "02b6b1d1",
   "metadata": {},
   "outputs": [],
   "source": [
    "def save_challenge_model(model_folder,murmur_classes, model,m_name):\n",
    "    os.makedirs(model_folder, exist_ok=True)\n",
    "    info_fnm = os.path.join(model_folder, 'desc.pk')\n",
    "    filename = os.path.join(model_folder, m_name + '_model.hdf5')\n",
    "    torch.save(model.state_dict(), filename)\n",
    "    d = {'murmur_classes': murmur_classes, 'murmur_classifier': model}\n",
    "    with open(info_fnm, 'wb') as f:\n",
    "        pk.dump(d, f, pk.HIGHEST_PROTOCOL)"
   ]
  },
  {
   "cell_type": "code",
   "execution_count": null,
   "id": "462991ed",
   "metadata": {},
   "outputs": [],
   "source": [
    "save_challenge_model(model_folder, nnet, classes, m_name = 'toy_ti', mel_shape = (100, 313, 1) )"
   ]
  },
  {
   "cell_type": "code",
   "execution_count": 154,
   "id": "b6ad5cba",
   "metadata": {},
   "outputs": [
    {
     "data": {
      "text/plain": [
       "<function __main__.save_challenge_model(model_folder, m_name, murmur_classes, murmur_classifier)>"
      ]
     },
     "execution_count": 154,
     "metadata": {},
     "output_type": "execute_result"
    }
   ],
   "source": [
    "save_challenge_model"
   ]
  },
  {
   "cell_type": "code",
   "execution_count": 29,
   "id": "491cd14d",
   "metadata": {},
   "outputs": [
    {
     "data": {
      "text/plain": [
       "BCEWithLogitsLoss()"
      ]
     },
     "execution_count": 29,
     "metadata": {},
     "output_type": "execute_result"
    }
   ],
   "source": [
    "#outcome \n",
    "nn.BCEWithLogitsLoss()"
   ]
  },
  {
   "cell_type": "code",
   "execution_count": 219,
   "id": "6f347533",
   "metadata": {},
   "outputs": [
    {
     "data": {
      "text/plain": [
       "tensor(0, device='cuda:0')"
      ]
     },
     "execution_count": 219,
     "metadata": {},
     "output_type": "execute_result"
    }
   ],
   "source": [
    "data_label_torch[0][0]"
   ]
  },
  {
   "cell_type": "code",
   "execution_count": 217,
   "id": "7f23d37d",
   "metadata": {},
   "outputs": [],
   "source": [
    "labels = np.zeros((64,3), dtype=np.int_)"
   ]
  },
  {
   "cell_type": "code",
   "execution_count": 232,
   "id": "f945c00e",
   "metadata": {},
   "outputs": [
    {
     "data": {
      "text/plain": [
       "array([[0, 0, 1],\n",
       "       [0, 0, 1],\n",
       "       [0, 0, 1],\n",
       "       ...,\n",
       "       [0, 0, 1],\n",
       "       [0, 0, 1],\n",
       "       [0, 0, 1]])"
      ]
     },
     "execution_count": 232,
     "metadata": {},
     "output_type": "execute_result"
    }
   ],
   "source": [
    "murmurs"
   ]
  },
  {
   "cell_type": "code",
   "execution_count": 226,
   "id": "0365b7a6",
   "metadata": {},
   "outputs": [
    {
     "data": {
      "text/plain": [
       "64"
      ]
     },
     "execution_count": 226,
     "metadata": {},
     "output_type": "execute_result"
    }
   ],
   "source": [
    "len(data_label_torch)"
   ]
  },
  {
   "cell_type": "code",
   "execution_count": 227,
   "id": "e4c7d541",
   "metadata": {},
   "outputs": [
    {
     "ename": "IndexError",
     "evalue": "index 3 is out of bounds for axis 0 with size 3",
     "output_type": "error",
     "traceback": [
      "\u001b[0;31m---------------------------------------------------------------------------\u001b[0m",
      "\u001b[0;31mIndexError\u001b[0m                                Traceback (most recent call last)",
      "Input \u001b[0;32mIn [227]\u001b[0m, in \u001b[0;36m<cell line: 1>\u001b[0;34m()\u001b[0m\n\u001b[1;32m      1\u001b[0m \u001b[38;5;28;01mfor\u001b[39;00m idx \u001b[38;5;129;01min\u001b[39;00m \u001b[38;5;28mrange\u001b[39m(\u001b[38;5;28mlen\u001b[39m(data_label_torch)):\n\u001b[0;32m----> 2\u001b[0m     labels[\u001b[38;5;241m0\u001b[39m][idx]\u001b[38;5;241m=\u001b[39m data_label_torch[idx][\u001b[38;5;241m0\u001b[39m]\n",
      "\u001b[0;31mIndexError\u001b[0m: index 3 is out of bounds for axis 0 with size 3"
     ]
    }
   ],
   "source": [
    "for idx in range(len(data_label_torch)):\n",
    "    labels[0][idx]= data_label_torch[idx][0]"
   ]
  },
  {
   "cell_type": "code",
   "execution_count": 230,
   "id": "777e42e7",
   "metadata": {},
   "outputs": [
    {
     "data": {
      "text/plain": [
       "array([[0, 2, 2],\n",
       "       [0, 0, 0],\n",
       "       [0, 0, 0],\n",
       "       [0, 0, 0],\n",
       "       [0, 0, 0],\n",
       "       [0, 0, 0],\n",
       "       [0, 0, 0],\n",
       "       [0, 0, 0],\n",
       "       [0, 0, 0],\n",
       "       [0, 0, 0],\n",
       "       [0, 0, 0],\n",
       "       [0, 0, 0],\n",
       "       [0, 0, 0],\n",
       "       [0, 0, 0],\n",
       "       [0, 0, 0],\n",
       "       [0, 0, 0],\n",
       "       [0, 0, 0],\n",
       "       [0, 0, 0],\n",
       "       [0, 0, 0],\n",
       "       [0, 0, 0],\n",
       "       [0, 0, 0],\n",
       "       [0, 0, 0],\n",
       "       [0, 0, 0],\n",
       "       [0, 0, 0],\n",
       "       [0, 0, 0],\n",
       "       [0, 0, 0],\n",
       "       [0, 0, 0],\n",
       "       [0, 0, 0],\n",
       "       [0, 0, 0],\n",
       "       [0, 0, 0],\n",
       "       [0, 0, 0],\n",
       "       [0, 0, 0],\n",
       "       [0, 0, 0],\n",
       "       [0, 0, 0],\n",
       "       [0, 0, 0],\n",
       "       [0, 0, 0],\n",
       "       [0, 0, 0],\n",
       "       [0, 0, 0],\n",
       "       [0, 0, 0],\n",
       "       [0, 0, 0],\n",
       "       [0, 0, 0],\n",
       "       [0, 0, 0],\n",
       "       [0, 0, 0],\n",
       "       [0, 0, 0],\n",
       "       [0, 0, 0],\n",
       "       [0, 0, 0],\n",
       "       [0, 0, 0],\n",
       "       [0, 0, 0],\n",
       "       [0, 0, 0],\n",
       "       [0, 0, 0],\n",
       "       [0, 0, 0],\n",
       "       [0, 0, 0],\n",
       "       [0, 0, 0],\n",
       "       [0, 0, 0],\n",
       "       [0, 0, 0],\n",
       "       [0, 0, 0],\n",
       "       [0, 0, 0],\n",
       "       [0, 0, 0],\n",
       "       [0, 0, 0],\n",
       "       [0, 0, 0],\n",
       "       [0, 0, 0],\n",
       "       [0, 0, 0],\n",
       "       [0, 0, 0],\n",
       "       [0, 0, 0]])"
      ]
     },
     "execution_count": 230,
     "metadata": {},
     "output_type": "execute_result"
    }
   ],
   "source": [
    "labels"
   ]
  },
  {
   "cell_type": "code",
   "execution_count": 229,
   "id": "bee0cb94",
   "metadata": {},
   "outputs": [
    {
     "data": {
      "text/plain": [
       "tensor(0, device='cuda:0')"
      ]
     },
     "execution_count": 229,
     "metadata": {},
     "output_type": "execute_result"
    }
   ],
   "source": [
    "data_label_torch[0][0]"
   ]
  },
  {
   "cell_type": "code",
   "execution_count": null,
   "id": "979a0cca",
   "metadata": {},
   "outputs": [],
   "source": []
  },
  {
   "cell_type": "code",
   "execution_count": null,
   "id": "b236e0aa",
   "metadata": {},
   "outputs": [],
   "source": []
  },
  {
   "cell_type": "code",
   "execution_count": null,
   "id": "9a02d31f",
   "metadata": {},
   "outputs": [],
   "source": []
  },
  {
   "cell_type": "code",
   "execution_count": null,
   "id": "947b46f0",
   "metadata": {},
   "outputs": [],
   "source": []
  },
  {
   "cell_type": "code",
   "execution_count": null,
   "id": "8d47ba08",
   "metadata": {},
   "outputs": [],
   "source": []
  },
  {
   "cell_type": "code",
   "execution_count": null,
   "id": "8e4b0e38",
   "metadata": {},
   "outputs": [],
   "source": []
  },
  {
   "cell_type": "code",
   "execution_count": null,
   "id": "59c562c8",
   "metadata": {},
   "outputs": [],
   "source": []
  },
  {
   "cell_type": "code",
   "execution_count": 189,
   "id": "e048840d",
   "metadata": {},
   "outputs": [
    {
     "data": {
      "text/plain": [
       "tensor([[0.],\n",
       "        [2.],\n",
       "        [2.],\n",
       "        [1.],\n",
       "        [0.],\n",
       "        [2.],\n",
       "        [2.],\n",
       "        [1.],\n",
       "        [2.],\n",
       "        [1.],\n",
       "        [2.],\n",
       "        [0.],\n",
       "        [2.],\n",
       "        [2.],\n",
       "        [0.],\n",
       "        [0.],\n",
       "        [0.],\n",
       "        [0.],\n",
       "        [2.],\n",
       "        [2.],\n",
       "        [0.],\n",
       "        [1.],\n",
       "        [0.],\n",
       "        [0.],\n",
       "        [0.],\n",
       "        [2.],\n",
       "        [2.],\n",
       "        [2.],\n",
       "        [0.],\n",
       "        [0.],\n",
       "        [0.],\n",
       "        [0.],\n",
       "        [1.],\n",
       "        [1.],\n",
       "        [0.],\n",
       "        [0.],\n",
       "        [0.],\n",
       "        [1.],\n",
       "        [0.],\n",
       "        [2.],\n",
       "        [2.],\n",
       "        [0.],\n",
       "        [1.],\n",
       "        [2.],\n",
       "        [2.],\n",
       "        [2.],\n",
       "        [2.],\n",
       "        [2.],\n",
       "        [2.],\n",
       "        [2.],\n",
       "        [2.],\n",
       "        [2.],\n",
       "        [2.],\n",
       "        [2.],\n",
       "        [2.],\n",
       "        [2.],\n",
       "        [1.],\n",
       "        [2.],\n",
       "        [2.],\n",
       "        [2.],\n",
       "        [0.],\n",
       "        [0.],\n",
       "        [2.],\n",
       "        [0.]], dtype=torch.float64)"
      ]
     },
     "execution_count": 189,
     "metadata": {},
     "output_type": "execute_result"
    }
   ],
   "source": [
    "data_label_torch"
   ]
  },
  {
   "cell_type": "code",
   "execution_count": null,
   "id": "a68160a8",
   "metadata": {},
   "outputs": [],
   "source": []
  },
  {
   "cell_type": "code",
   "execution_count": null,
   "id": "876eb9cb",
   "metadata": {},
   "outputs": [],
   "source": []
  },
  {
   "cell_type": "code",
   "execution_count": null,
   "id": "d4d6a0a2",
   "metadata": {},
   "outputs": [],
   "source": [
    "save_challenge_model"
   ]
  },
  {
   "cell_type": "code",
   "execution_count": 45,
   "id": "39b7e58a",
   "metadata": {},
   "outputs": [
    {
     "data": {
      "text/plain": [
       "array([[0, 0, 1],\n",
       "       [0, 0, 1],\n",
       "       [0, 0, 1],\n",
       "       ...,\n",
       "       [0, 0, 1],\n",
       "       [0, 0, 1],\n",
       "       [0, 0, 1]])"
      ]
     },
     "execution_count": 45,
     "metadata": {},
     "output_type": "execute_result"
    }
   ],
   "source": [
    "murmurs"
   ]
  },
  {
   "cell_type": "code",
   "execution_count": 46,
   "id": "40ad194d",
   "metadata": {},
   "outputs": [
    {
     "data": {
      "text/plain": [
       "array([2., 2., 2., ..., 2., 2., 2.])"
      ]
     },
     "execution_count": 46,
     "metadata": {},
     "output_type": "execute_result"
    }
   ],
   "source": [
    "murmurs_label."
   ]
  },
  {
   "cell_type": "code",
   "execution_count": 75,
   "id": "cbedb577",
   "metadata": {},
   "outputs": [],
   "source": [
    "murmurs_label = np.empty(len(murmurs))\n",
    "for i,l in enumerate(murmurs) :\n",
    "    murmurs_label[i] = int(list(l).index(1))\n",
    "    \n",
    "outcomes_label = np.empty(len(outcomes))\n",
    "for i,l in enumerate(outcomes) :\n",
    "    outcomes_label[i] = int(list(l).index(1))"
   ]
  },
  {
   "cell_type": "code",
   "execution_count": 188,
   "id": "9ff8c10b",
   "metadata": {},
   "outputs": [
    {
     "data": {
      "text/plain": [
       "array([2., 2., 2., ..., 2., 2., 2.])"
      ]
     },
     "execution_count": 188,
     "metadata": {},
     "output_type": "execute_result"
    }
   ],
   "source": [
    "murmurs_label"
   ]
  },
  {
   "cell_type": "code",
   "execution_count": null,
   "id": "abbdf686",
   "metadata": {},
   "outputs": [],
   "source": []
  },
  {
   "cell_type": "code",
   "execution_count": null,
   "id": "a8172f88",
   "metadata": {},
   "outputs": [],
   "source": []
  },
  {
   "cell_type": "code",
   "execution_count": 76,
   "id": "220b3551",
   "metadata": {},
   "outputs": [],
   "source": [
    "dataset_train_murmurs = myDataset(features,murmurs_label)\n",
    "dataloader_train_murmurs = myDataLoader(dataset=dataset_train_murmurs,\n",
    "                                    batch_size=64,\n",
    "                                    shuffle=False,\n",
    "                                    num_workers=0)"
   ]
  },
  {
   "cell_type": "code",
   "execution_count": 34,
   "id": "cc4742df",
   "metadata": {},
   "outputs": [],
   "source": [
    "murmur_classes = ['Present', 'Unknown', 'Absent']\n",
    "num_murmur_classes = len(murmur_classes)"
   ]
  },
  {
   "cell_type": "code",
   "execution_count": 35,
   "id": "523a6455",
   "metadata": {},
   "outputs": [],
   "source": [
    "nnet = vgg_hj(num_murmur_classes) \n",
    "nnet = nnet.cuda()\n",
    "optimizer = optim.Adam(nnet.parameters(), lr=4e-4)\n",
    "scheduler = torch.optim.lr_scheduler.ExponentialLR(optimizer, 0.91)\n",
    "\n",
    "criterion = nn.CrossEntropyLoss()"
   ]
  },
  {
   "cell_type": "code",
   "execution_count": 187,
   "id": "1d42e740",
   "metadata": {},
   "outputs": [],
   "source": [
    "audio_feature, age, sex, hw, preg, loc, data_label_torch = next(iter(dataloader_train_murmurs))"
   ]
  },
  {
   "cell_type": "code",
   "execution_count": 206,
   "id": "af21cd2b",
   "metadata": {},
   "outputs": [],
   "source": [
    "data_label_torch = data_label_torch.cuda()\n",
    "                \n",
    "data_label_torch = data_label_torch.long()"
   ]
  },
  {
   "cell_type": "code",
   "execution_count": 207,
   "id": "30a05d1f",
   "metadata": {},
   "outputs": [
    {
     "data": {
      "text/plain": [
       "tensor([[0],\n",
       "        [2],\n",
       "        [2],\n",
       "        [1],\n",
       "        [0],\n",
       "        [2],\n",
       "        [2],\n",
       "        [1],\n",
       "        [2],\n",
       "        [1],\n",
       "        [2],\n",
       "        [0],\n",
       "        [2],\n",
       "        [2],\n",
       "        [0],\n",
       "        [0],\n",
       "        [0],\n",
       "        [0],\n",
       "        [2],\n",
       "        [2],\n",
       "        [0],\n",
       "        [1],\n",
       "        [0],\n",
       "        [0],\n",
       "        [0],\n",
       "        [2],\n",
       "        [2],\n",
       "        [2],\n",
       "        [0],\n",
       "        [0],\n",
       "        [0],\n",
       "        [0],\n",
       "        [1],\n",
       "        [1],\n",
       "        [0],\n",
       "        [0],\n",
       "        [0],\n",
       "        [1],\n",
       "        [0],\n",
       "        [2],\n",
       "        [2],\n",
       "        [0],\n",
       "        [1],\n",
       "        [2],\n",
       "        [2],\n",
       "        [2],\n",
       "        [2],\n",
       "        [2],\n",
       "        [2],\n",
       "        [2],\n",
       "        [2],\n",
       "        [2],\n",
       "        [2],\n",
       "        [2],\n",
       "        [2],\n",
       "        [2],\n",
       "        [1],\n",
       "        [2],\n",
       "        [2],\n",
       "        [2],\n",
       "        [0],\n",
       "        [0],\n",
       "        [2],\n",
       "        [0]], device='cuda:0')"
      ]
     },
     "execution_count": 207,
     "metadata": {},
     "output_type": "execute_result"
    }
   ],
   "source": [
    "data_label_torch "
   ]
  },
  {
   "cell_type": "code",
   "execution_count": 78,
   "id": "40417a62",
   "metadata": {},
   "outputs": [
    {
     "name": "stdout",
     "output_type": "stream",
     "text": [
      "torch.Size([64, 128, 34, 1])\n",
      "torch.Size([64, 1, 128, 34])\n",
      "torch.Size([64, 64, 128, 17])\n",
      "torch.Size([64, 64, 128, 17])\n",
      "torch.Size([64, 128, 128, 8])\n",
      "torch.Size([64, 512, 32, 2])\n",
      "torch.Size([64, 512])\n",
      "torch.Size([64, 512])\n",
      "torch.Size([64, 512])\n",
      "fc통과: torch.Size([64, 507])\n",
      "torch.Size([64, 512])\n"
     ]
    }
   ],
   "source": [
    "audio_feature = audio_feature.cuda()\n",
    "age = age.permute(1,0).float().cuda()\n",
    "            #print(age.shape)\n",
    "sex = sex.permute(1,0).float().cuda()\n",
    "            #print(sex.shape)\n",
    "hw = hw.permute(1,0).float().cuda()\n",
    "            #print(hw.shape)\n",
    "preg = preg.permute(1,0).float().cuda()\n",
    "            #print(preg.shape)\n",
    "loc = loc.permute(1,0).float().cuda()\n",
    "            #print(loc.shape)\n",
    "    #        for idx in range(len(data_label_torch)) :\n",
    "    #            data_label_torch[idx][0] = mapping[int(data_label_torch[idx][0])]\n",
    "data_label_torch = data_label_torch.cuda()\n",
    "                \n",
    "data_label_torch = data_label_torch.long()\n",
    "outputs = nnet(input=audio_feature, age = age , sex = sex, hw = hw, preg = preg, loc = loc)"
   ]
  },
  {
   "cell_type": "code",
   "execution_count": 58,
   "id": "e66c18ae",
   "metadata": {},
   "outputs": [
    {
     "data": {
      "text/plain": [
       "(2532, 3)"
      ]
     },
     "execution_count": 58,
     "metadata": {},
     "output_type": "execute_result"
    }
   ],
   "source": [
    "murmurs.shape"
   ]
  },
  {
   "cell_type": "code",
   "execution_count": 85,
   "id": "1b026d8a",
   "metadata": {},
   "outputs": [
    {
     "data": {
      "text/plain": [
       "0"
      ]
     },
     "execution_count": 85,
     "metadata": {},
     "output_type": "execute_result"
    }
   ],
   "source": [
    "np.argmax(outputs.detach().cpu().numpy()[0]) # label"
   ]
  },
  {
   "cell_type": "code",
   "execution_count": 87,
   "id": "1b34e414",
   "metadata": {},
   "outputs": [],
   "source": [
    "softmax = nn.Softmax(dim = 1)\n",
    "outputs = softmax(outputs)\n",
    "    \n",
    "prob1 = outputs.mean(axis = 0)\n",
    "    \n",
    "prob1 = prob1.data.cpu().numpy()"
   ]
  },
  {
   "cell_type": "code",
   "execution_count": 104,
   "id": "fa1c496a",
   "metadata": {},
   "outputs": [
    {
     "data": {
      "text/plain": [
       "tensor([0.3853, 0.2572, 0.3575], device='cuda:0', grad_fn=<SelectBackward>)"
      ]
     },
     "execution_count": 104,
     "metadata": {},
     "output_type": "execute_result"
    }
   ],
   "source": [
    "outputs[0]"
   ]
  },
  {
   "cell_type": "code",
   "execution_count": null,
   "id": "7462baba",
   "metadata": {},
   "outputs": [],
   "source": [
    "outputs[0]"
   ]
  },
  {
   "cell_type": "code",
   "execution_count": null,
   "id": "57dbd455",
   "metadata": {},
   "outputs": [],
   "source": [
    "labels = np.zeros(3, dtype=np.int_)\n",
    "labels[idx] = 1"
   ]
  },
  {
   "cell_type": "code",
   "execution_count": null,
   "id": "39f9a1ae",
   "metadata": {},
   "outputs": [],
   "source": []
  },
  {
   "cell_type": "code",
   "execution_count": null,
   "id": "67e9ef8c",
   "metadata": {},
   "outputs": [],
   "source": []
  },
  {
   "cell_type": "code",
   "execution_count": null,
   "id": "8fb49410",
   "metadata": {},
   "outputs": [],
   "source": []
  },
  {
   "cell_type": "code",
   "execution_count": 88,
   "id": "fecc2789",
   "metadata": {},
   "outputs": [
    {
     "data": {
      "text/plain": [
       "array([0.40404636, 0.25722697, 0.3387267 ], dtype=float32)"
      ]
     },
     "execution_count": 88,
     "metadata": {},
     "output_type": "execute_result"
    }
   ],
   "source": [
    "prob1"
   ]
  },
  {
   "cell_type": "code",
   "execution_count": 95,
   "id": "cf81c741",
   "metadata": {},
   "outputs": [
    {
     "data": {
      "text/plain": [
       "tensor([[0.3853, 0.2572, 0.3575],\n",
       "        [0.4270, 0.2319, 0.3411],\n",
       "        [0.3851, 0.2847, 0.3302],\n",
       "        [0.3279, 0.2757, 0.3964],\n",
       "        [0.5627, 0.2178, 0.2194],\n",
       "        [0.3402, 0.3603, 0.2995],\n",
       "        [0.5247, 0.2314, 0.2438],\n",
       "        [0.4454, 0.2543, 0.3003],\n",
       "        [0.4354, 0.2383, 0.3263],\n",
       "        [0.2537, 0.3609, 0.3854],\n",
       "        [0.5419, 0.2309, 0.2272],\n",
       "        [0.2717, 0.4402, 0.2881],\n",
       "        [0.4025, 0.3599, 0.2376],\n",
       "        [0.3929, 0.2348, 0.3723],\n",
       "        [0.2607, 0.2236, 0.5157],\n",
       "        [0.5612, 0.2177, 0.2211],\n",
       "        [0.5098, 0.2283, 0.2620],\n",
       "        [0.5145, 0.2363, 0.2492],\n",
       "        [0.3438, 0.2432, 0.4130],\n",
       "        [0.3287, 0.2527, 0.4186],\n",
       "        [0.2597, 0.2335, 0.5068],\n",
       "        [0.4649, 0.2315, 0.3035],\n",
       "        [0.5163, 0.2237, 0.2599],\n",
       "        [0.3802, 0.3440, 0.2758],\n",
       "        [0.5036, 0.2404, 0.2560],\n",
       "        [0.5578, 0.2159, 0.2263],\n",
       "        [0.5755, 0.2121, 0.2123],\n",
       "        [0.4593, 0.2539, 0.2867],\n",
       "        [0.5738, 0.2125, 0.2137],\n",
       "        [0.5400, 0.2247, 0.2353],\n",
       "        [0.5421, 0.2186, 0.2393],\n",
       "        [0.5526, 0.2232, 0.2242],\n",
       "        [0.4708, 0.2391, 0.2901],\n",
       "        [0.2952, 0.2384, 0.4664],\n",
       "        [0.3614, 0.2721, 0.3665],\n",
       "        [0.4195, 0.2440, 0.3365],\n",
       "        [0.2450, 0.2244, 0.5306],\n",
       "        [0.3684, 0.3773, 0.2544],\n",
       "        [0.4947, 0.2572, 0.2481],\n",
       "        [0.4577, 0.2934, 0.2490],\n",
       "        [0.4566, 0.2831, 0.2603],\n",
       "        [0.2517, 0.2272, 0.5211],\n",
       "        [0.3443, 0.2359, 0.4198],\n",
       "        [0.2187, 0.2144, 0.5669],\n",
       "        [0.2447, 0.2283, 0.5270],\n",
       "        [0.2480, 0.2712, 0.4808],\n",
       "        [0.2176, 0.2183, 0.5641],\n",
       "        [0.3020, 0.2498, 0.4482],\n",
       "        [0.4964, 0.2316, 0.2720],\n",
       "        [0.2890, 0.2543, 0.4567],\n",
       "        [0.4424, 0.3149, 0.2426],\n",
       "        [0.2792, 0.3285, 0.3923],\n",
       "        [0.2957, 0.2853, 0.4190],\n",
       "        [0.2776, 0.2272, 0.4953],\n",
       "        [0.4393, 0.2745, 0.2862],\n",
       "        [0.5632, 0.2153, 0.2215],\n",
       "        [0.4964, 0.2361, 0.2675],\n",
       "        [0.5199, 0.2270, 0.2531],\n",
       "        [0.3383, 0.2419, 0.4197],\n",
       "        [0.5043, 0.2266, 0.2691],\n",
       "        [0.4393, 0.2412, 0.3195],\n",
       "        [0.3698, 0.3726, 0.2576],\n",
       "        [0.2443, 0.2207, 0.5351],\n",
       "        [0.3264, 0.2766, 0.3971]], device='cuda:0', grad_fn=<SoftmaxBackward>)"
      ]
     },
     "execution_count": 95,
     "metadata": {},
     "output_type": "execute_result"
    }
   ],
   "source": [
    "outputs"
   ]
  },
  {
   "cell_type": "code",
   "execution_count": null,
   "id": "d4907766",
   "metadata": {},
   "outputs": [],
   "source": []
  },
  {
   "cell_type": "code",
   "execution_count": null,
   "id": "f99ce163",
   "metadata": {},
   "outputs": [],
   "source": []
  },
  {
   "cell_type": "code",
   "execution_count": null,
   "id": "1ce8e76d",
   "metadata": {},
   "outputs": [],
   "source": []
  },
  {
   "cell_type": "code",
   "execution_count": null,
   "id": "66519e9a",
   "metadata": {},
   "outputs": [],
   "source": []
  },
  {
   "cell_type": "code",
   "execution_count": null,
   "id": "648bea5a",
   "metadata": {},
   "outputs": [],
   "source": []
  },
  {
   "cell_type": "code",
   "execution_count": 123,
   "id": "7c160a86",
   "metadata": {},
   "outputs": [
    {
     "data": {
      "text/plain": [
       "torch.Size([64])"
      ]
     },
     "execution_count": 123,
     "metadata": {},
     "output_type": "execute_result"
    }
   ],
   "source": [
    "data_label_torch.squeeze(1).shape"
   ]
  },
  {
   "cell_type": "code",
   "execution_count": null,
   "id": "37d1b483",
   "metadata": {},
   "outputs": [],
   "source": []
  },
  {
   "cell_type": "code",
   "execution_count": null,
   "id": "2eaaf5dc",
   "metadata": {},
   "outputs": [],
   "source": []
  },
  {
   "cell_type": "code",
   "execution_count": null,
   "id": "0e59c3af",
   "metadata": {},
   "outputs": [],
   "source": []
  },
  {
   "cell_type": "code",
   "execution_count": null,
   "id": "69405c28",
   "metadata": {},
   "outputs": [],
   "source": []
  },
  {
   "cell_type": "code",
   "execution_count": null,
   "id": "8729fd07",
   "metadata": {},
   "outputs": [],
   "source": []
  },
  {
   "cell_type": "code",
   "execution_count": 99,
   "id": "8e8caa9e",
   "metadata": {},
   "outputs": [
    {
     "data": {
      "text/plain": [
       "tensor([[0.3853, 0.2572, 0.3575],\n",
       "        [0.4270, 0.2319, 0.3411],\n",
       "        [0.3851, 0.2847, 0.3302],\n",
       "        [0.3279, 0.2757, 0.3964],\n",
       "        [0.5627, 0.2178, 0.2194],\n",
       "        [0.3402, 0.3603, 0.2995],\n",
       "        [0.5247, 0.2314, 0.2438],\n",
       "        [0.4454, 0.2543, 0.3003],\n",
       "        [0.4354, 0.2383, 0.3263],\n",
       "        [0.2537, 0.3609, 0.3854],\n",
       "        [0.5419, 0.2309, 0.2272],\n",
       "        [0.2717, 0.4402, 0.2881],\n",
       "        [0.4025, 0.3599, 0.2376],\n",
       "        [0.3929, 0.2348, 0.3723],\n",
       "        [0.2607, 0.2236, 0.5157],\n",
       "        [0.5612, 0.2177, 0.2211],\n",
       "        [0.5098, 0.2283, 0.2620],\n",
       "        [0.5145, 0.2363, 0.2492],\n",
       "        [0.3438, 0.2432, 0.4130],\n",
       "        [0.3287, 0.2527, 0.4186],\n",
       "        [0.2597, 0.2335, 0.5068],\n",
       "        [0.4649, 0.2315, 0.3035],\n",
       "        [0.5163, 0.2237, 0.2599],\n",
       "        [0.3802, 0.3440, 0.2758],\n",
       "        [0.5036, 0.2404, 0.2560],\n",
       "        [0.5578, 0.2159, 0.2263],\n",
       "        [0.5755, 0.2121, 0.2123],\n",
       "        [0.4593, 0.2539, 0.2867],\n",
       "        [0.5738, 0.2125, 0.2137],\n",
       "        [0.5400, 0.2247, 0.2353],\n",
       "        [0.5421, 0.2186, 0.2393],\n",
       "        [0.5526, 0.2232, 0.2242],\n",
       "        [0.4708, 0.2391, 0.2901],\n",
       "        [0.2952, 0.2384, 0.4664],\n",
       "        [0.3614, 0.2721, 0.3665],\n",
       "        [0.4195, 0.2440, 0.3365],\n",
       "        [0.2450, 0.2244, 0.5306],\n",
       "        [0.3684, 0.3773, 0.2544],\n",
       "        [0.4947, 0.2572, 0.2481],\n",
       "        [0.4577, 0.2934, 0.2490],\n",
       "        [0.4566, 0.2831, 0.2603],\n",
       "        [0.2517, 0.2272, 0.5211],\n",
       "        [0.3443, 0.2359, 0.4198],\n",
       "        [0.2187, 0.2144, 0.5669],\n",
       "        [0.2447, 0.2283, 0.5270],\n",
       "        [0.2480, 0.2712, 0.4808],\n",
       "        [0.2176, 0.2183, 0.5641],\n",
       "        [0.3020, 0.2498, 0.4482],\n",
       "        [0.4964, 0.2316, 0.2720],\n",
       "        [0.2890, 0.2543, 0.4567],\n",
       "        [0.4424, 0.3149, 0.2426],\n",
       "        [0.2792, 0.3285, 0.3923],\n",
       "        [0.2957, 0.2853, 0.4190],\n",
       "        [0.2776, 0.2272, 0.4953],\n",
       "        [0.4393, 0.2745, 0.2862],\n",
       "        [0.5632, 0.2153, 0.2215],\n",
       "        [0.4964, 0.2361, 0.2675],\n",
       "        [0.5199, 0.2270, 0.2531],\n",
       "        [0.3383, 0.2419, 0.4197],\n",
       "        [0.5043, 0.2266, 0.2691],\n",
       "        [0.4393, 0.2412, 0.3195],\n",
       "        [0.3698, 0.3726, 0.2576],\n",
       "        [0.2443, 0.2207, 0.5351],\n",
       "        [0.3264, 0.2766, 0.3971]], device='cuda:0', grad_fn=<SoftmaxBackward>)"
      ]
     },
     "execution_count": 99,
     "metadata": {},
     "output_type": "execute_result"
    }
   ],
   "source": [
    "outputs"
   ]
  },
  {
   "cell_type": "code",
   "execution_count": null,
   "id": "bcac6561",
   "metadata": {},
   "outputs": [],
   "source": []
  },
  {
   "cell_type": "code",
   "execution_count": null,
   "id": "f8964174",
   "metadata": {},
   "outputs": [],
   "source": []
  },
  {
   "cell_type": "code",
   "execution_count": null,
   "id": "93d39286",
   "metadata": {},
   "outputs": [],
   "source": []
  },
  {
   "cell_type": "code",
   "execution_count": null,
   "id": "582ef0bc",
   "metadata": {},
   "outputs": [],
   "source": []
  },
  {
   "cell_type": "code",
   "execution_count": null,
   "id": "f6e29d92",
   "metadata": {},
   "outputs": [],
   "source": []
  },
  {
   "cell_type": "code",
   "execution_count": null,
   "id": "65c14bdb",
   "metadata": {},
   "outputs": [],
   "source": []
  },
  {
   "cell_type": "code",
   "execution_count": null,
   "id": "49ef12aa",
   "metadata": {},
   "outputs": [],
   "source": []
  },
  {
   "cell_type": "code",
   "execution_count": null,
   "id": "6434833e",
   "metadata": {},
   "outputs": [],
   "source": []
  },
  {
   "cell_type": "code",
   "execution_count": null,
   "id": "3a9b1375",
   "metadata": {},
   "outputs": [],
   "source": []
  },
  {
   "cell_type": "code",
   "execution_count": 86,
   "id": "77c95be5",
   "metadata": {},
   "outputs": [
    {
     "ename": "NameError",
     "evalue": "name 'classes' is not defined",
     "output_type": "error",
     "traceback": [
      "\u001b[0;31m---------------------------------------------------------------------------\u001b[0m",
      "\u001b[0;31mNameError\u001b[0m                                 Traceback (most recent call last)",
      "Input \u001b[0;32mIn [86]\u001b[0m, in \u001b[0;36m<cell line: 20>\u001b[0;34m()\u001b[0m\n\u001b[1;32m     18\u001b[0m idx \u001b[38;5;241m=\u001b[39m np\u001b[38;5;241m.\u001b[39margmax(prob1)\n\u001b[1;32m     19\u001b[0m     \u001b[38;5;66;03m# Choose label with higher probability.\u001b[39;00m\n\u001b[0;32m---> 20\u001b[0m labels \u001b[38;5;241m=\u001b[39m np\u001b[38;5;241m.\u001b[39mzeros(\u001b[38;5;28mlen\u001b[39m(\u001b[43mclasses\u001b[49m), dtype\u001b[38;5;241m=\u001b[39mnp\u001b[38;5;241m.\u001b[39mint_)\n\u001b[1;32m     21\u001b[0m labels[idx] \u001b[38;5;241m=\u001b[39m \u001b[38;5;241m1\u001b[39m\n",
      "\u001b[0;31mNameError\u001b[0m: name 'classes' is not defined"
     ]
    }
   ],
   "source": [
    "softmax = nn.Softmax(dim = 1)\n",
    "outputs = softmax(outputs)\n",
    "    \n",
    "prob1 = outputs.mean(axis = 0)\n",
    "    \n",
    "prob1 = prob1.data.cpu().numpy()\n",
    "    \n",
    "    \n",
    "    \n",
    "    \n",
    "    \n",
    "#    print(prob1.shape)\n",
    "    \n",
    "#    res1 = model1.predict([features['age'], features['sex'], features['hw'], features['preg'], features['loc'], features['mel1']])\n",
    "\n",
    "    # Get classifier probabilities.\n",
    "#    prob1 = res1.mean(axis = 0) ## simple rule for now\n",
    "idx = np.argmax(outputs)\n",
    "    # Choose label with higher probability.\n",
    "labels = np.zeros(len(classes), dtype=np.int_)\n",
    "labels[idx] = 1"
   ]
  },
  {
   "cell_type": "code",
   "execution_count": null,
   "id": "11b8eb49",
   "metadata": {},
   "outputs": [],
   "source": []
  },
  {
   "cell_type": "code",
   "execution_count": null,
   "id": "8838fb8b",
   "metadata": {},
   "outputs": [],
   "source": []
  },
  {
   "cell_type": "code",
   "execution_count": null,
   "id": "c08ce6ef",
   "metadata": {},
   "outputs": [],
   "source": []
  },
  {
   "cell_type": "code",
   "execution_count": null,
   "id": "96f08531",
   "metadata": {},
   "outputs": [],
   "source": []
  },
  {
   "cell_type": "code",
   "execution_count": 163,
   "id": "bb620f6d",
   "metadata": {},
   "outputs": [],
   "source": [
    "idx = np.argmax(outputs[0].detach().cpu().numpy())"
   ]
  },
  {
   "cell_type": "code",
   "execution_count": 162,
   "id": "1e0bacf5",
   "metadata": {},
   "outputs": [],
   "source": [
    "del labels"
   ]
  },
  {
   "cell_type": "code",
   "execution_count": 164,
   "id": "93749628",
   "metadata": {},
   "outputs": [],
   "source": [
    "labels = np.zeros(3, dtype=np.int_)\n",
    "labels[idx] = 1"
   ]
  },
  {
   "cell_type": "code",
   "execution_count": 165,
   "id": "fdc2240b",
   "metadata": {},
   "outputs": [
    {
     "data": {
      "text/plain": [
       "array([1, 0, 0])"
      ]
     },
     "execution_count": 165,
     "metadata": {},
     "output_type": "execute_result"
    }
   ],
   "source": [
    "labels"
   ]
  },
  {
   "cell_type": "code",
   "execution_count": 178,
   "id": "5f07e675",
   "metadata": {},
   "outputs": [
    {
     "data": {
      "text/plain": [
       "tensor([2], device='cuda:0')"
      ]
     },
     "execution_count": 178,
     "metadata": {},
     "output_type": "execute_result"
    }
   ],
   "source": [
    "data_label_torch[1]"
   ]
  },
  {
   "cell_type": "code",
   "execution_count": 176,
   "id": "77d58143",
   "metadata": {},
   "outputs": [],
   "source": [
    "label_ = np.zeros(3, dtype=np.int_)\n",
    "label_[data_label_torch[1]]=1"
   ]
  },
  {
   "cell_type": "code",
   "execution_count": 177,
   "id": "1bdc28cc",
   "metadata": {},
   "outputs": [
    {
     "data": {
      "text/plain": [
       "array([0, 0, 1])"
      ]
     },
     "execution_count": 177,
     "metadata": {},
     "output_type": "execute_result"
    }
   ],
   "source": [
    "label_"
   ]
  },
  {
   "cell_type": "code",
   "execution_count": null,
   "id": "9ccc797e",
   "metadata": {},
   "outputs": [],
   "source": []
  },
  {
   "cell_type": "code",
   "execution_count": null,
   "id": "cc567b93",
   "metadata": {},
   "outputs": [],
   "source": []
  },
  {
   "cell_type": "code",
   "execution_count": null,
   "id": "865d3998",
   "metadata": {},
   "outputs": [],
   "source": []
  },
  {
   "cell_type": "code",
   "execution_count": null,
   "id": "0a8b60df",
   "metadata": {},
   "outputs": [],
   "source": []
  },
  {
   "cell_type": "code",
   "execution_count": null,
   "id": "c6d185eb",
   "metadata": {},
   "outputs": [],
   "source": []
  },
  {
   "cell_type": "code",
   "execution_count": null,
   "id": "3b406a64",
   "metadata": {},
   "outputs": [],
   "source": []
  },
  {
   "cell_type": "code",
   "execution_count": null,
   "id": "1e2fd656",
   "metadata": {},
   "outputs": [],
   "source": []
  },
  {
   "cell_type": "code",
   "execution_count": null,
   "id": "984c2f60",
   "metadata": {},
   "outputs": [],
   "source": []
  },
  {
   "cell_type": "code",
   "execution_count": 170,
   "id": "f7518e3f",
   "metadata": {},
   "outputs": [
    {
     "data": {
      "text/plain": [
       "tensor([0.3853, 0.4270, 0.3851, 0.3279, 0.5627, 0.3402, 0.5247, 0.4454, 0.4354,\n",
       "        0.2537, 0.5419, 0.2717, 0.4025, 0.3929, 0.2607, 0.5612, 0.5098, 0.5145,\n",
       "        0.3438, 0.3287, 0.2597, 0.4649, 0.5163, 0.3802, 0.5036, 0.5578, 0.5755,\n",
       "        0.4593, 0.5738, 0.5400, 0.5421, 0.5526, 0.4708, 0.2952, 0.3614, 0.4195,\n",
       "        0.2450, 0.3684, 0.4947, 0.4577, 0.4566, 0.2517, 0.3443, 0.2187, 0.2447,\n",
       "        0.2480, 0.2176, 0.3020, 0.4964, 0.2890, 0.4424, 0.2792, 0.2957, 0.2776,\n",
       "        0.4393, 0.5632, 0.4964, 0.5199, 0.3383, 0.5043, 0.4393, 0.3698, 0.2443,\n",
       "        0.3264], device='cuda:0', grad_fn=<SelectBackward>)"
      ]
     },
     "execution_count": 170,
     "metadata": {},
     "output_type": "execute_result"
    }
   ],
   "source": [
    "outputs[:,0]"
   ]
  },
  {
   "cell_type": "code",
   "execution_count": 103,
   "id": "e08b2925",
   "metadata": {},
   "outputs": [
    {
     "data": {
      "text/plain": [
       "array([[0.38526216, 0.257211  , 0.35752684],\n",
       "       [0.42696187, 0.23190613, 0.34113193],\n",
       "       [0.38505796, 0.2847491 , 0.3301929 ],\n",
       "       [0.32790118, 0.27574858, 0.3963502 ],\n",
       "       [0.5627348 , 0.21784575, 0.21941945],\n",
       "       [0.34019533, 0.36029583, 0.29950884],\n",
       "       [0.5247269 , 0.2314361 , 0.243837  ],\n",
       "       [0.44539705, 0.25432134, 0.30028158],\n",
       "       [0.43542477, 0.23829024, 0.32628495],\n",
       "       [0.25373155, 0.3609107 , 0.38535774],\n",
       "       [0.54185414, 0.23090911, 0.2272367 ],\n",
       "       [0.27172163, 0.44016278, 0.28811562],\n",
       "       [0.40252703, 0.35985273, 0.23762017],\n",
       "       [0.39293835, 0.2347685 , 0.37229314],\n",
       "       [0.26067933, 0.22357851, 0.5157422 ],\n",
       "       [0.5612148 , 0.21773253, 0.22105263],\n",
       "       [0.50975186, 0.22829086, 0.26195726],\n",
       "       [0.5145244 , 0.23630229, 0.2491733 ],\n",
       "       [0.34382272, 0.24318837, 0.41298893],\n",
       "       [0.3287089 , 0.2526513 , 0.4186398 ],\n",
       "       [0.25971118, 0.23347774, 0.5068111 ],\n",
       "       [0.46492252, 0.23154938, 0.3035281 ],\n",
       "       [0.51634884, 0.22374849, 0.25990272],\n",
       "       [0.38015762, 0.34402266, 0.2758197 ],\n",
       "       [0.5036383 , 0.2404032 , 0.2559584 ],\n",
       "       [0.557804  , 0.21590921, 0.22628681],\n",
       "       [0.5755447 , 0.2121157 , 0.21233958],\n",
       "       [0.45933533, 0.25392747, 0.2867372 ],\n",
       "       [0.5737864 , 0.21251771, 0.21369585],\n",
       "       [0.5399995 , 0.22467022, 0.23533027],\n",
       "       [0.5421226 , 0.21859802, 0.23927934],\n",
       "       [0.5525747 , 0.22324051, 0.2241848 ],\n",
       "       [0.47083077, 0.23907937, 0.29008988],\n",
       "       [0.29519576, 0.23842627, 0.46637797],\n",
       "       [0.36135817, 0.2721086 , 0.36653322],\n",
       "       [0.4194961 , 0.24400133, 0.33650258],\n",
       "       [0.24498858, 0.22443274, 0.53057873],\n",
       "       [0.36838344, 0.37725157, 0.25436503],\n",
       "       [0.4946552 , 0.25723514, 0.24810965],\n",
       "       [0.45766133, 0.2933866 , 0.248952  ],\n",
       "       [0.45663127, 0.28307268, 0.26029602],\n",
       "       [0.25170714, 0.22722436, 0.5210685 ],\n",
       "       [0.3442835 , 0.23587336, 0.4198432 ],\n",
       "       [0.21873538, 0.21438888, 0.56687576],\n",
       "       [0.24472934, 0.22828871, 0.52698195],\n",
       "       [0.24796273, 0.27124688, 0.4807904 ],\n",
       "       [0.21763466, 0.21827807, 0.5640873 ],\n",
       "       [0.30203867, 0.2497566 , 0.44820476],\n",
       "       [0.4964302 , 0.23159628, 0.2719735 ],\n",
       "       [0.28901848, 0.2542732 , 0.45670834],\n",
       "       [0.44244888, 0.31494   , 0.24261111],\n",
       "       [0.27922222, 0.32848248, 0.39229533],\n",
       "       [0.29570457, 0.28527007, 0.41902527],\n",
       "       [0.2775659 , 0.22717936, 0.49525476],\n",
       "       [0.43934932, 0.27447647, 0.2861742 ],\n",
       "       [0.5631593 , 0.21529213, 0.22154863],\n",
       "       [0.49644142, 0.23606001, 0.26749855],\n",
       "       [0.5198763 , 0.22700925, 0.25311446],\n",
       "       [0.33833396, 0.24193972, 0.41972625],\n",
       "       [0.5043212 , 0.22660019, 0.26907858],\n",
       "       [0.43928608, 0.24117407, 0.31953984],\n",
       "       [0.36982787, 0.37260643, 0.2575657 ],\n",
       "       [0.24425408, 0.22065152, 0.5350944 ],\n",
       "       [0.32635137, 0.27659222, 0.39705643]], dtype=float32)"
      ]
     },
     "execution_count": 103,
     "metadata": {},
     "output_type": "execute_result"
    }
   ],
   "source": [
    "outputs.detach().cpu().numpy()"
   ]
  },
  {
   "cell_type": "code",
   "execution_count": null,
   "id": "3f3927b4",
   "metadata": {},
   "outputs": [],
   "source": []
  },
  {
   "cell_type": "code",
   "execution_count": null,
   "id": "9d1e346a",
   "metadata": {},
   "outputs": [],
   "source": []
  },
  {
   "cell_type": "code",
   "execution_count": null,
   "id": "4ede3ae6",
   "metadata": {},
   "outputs": [],
   "source": []
  },
  {
   "cell_type": "code",
   "execution_count": null,
   "id": "1372fef1",
   "metadata": {},
   "outputs": [],
   "source": []
  },
  {
   "cell_type": "code",
   "execution_count": null,
   "id": "ccd70f09",
   "metadata": {},
   "outputs": [],
   "source": []
  },
  {
   "cell_type": "code",
   "execution_count": null,
   "id": "5c0f457e",
   "metadata": {},
   "outputs": [],
   "source": []
  },
  {
   "cell_type": "code",
   "execution_count": null,
   "id": "41c55dcb",
   "metadata": {},
   "outputs": [],
   "source": []
  },
  {
   "cell_type": "code",
   "execution_count": null,
   "id": "4daff94a",
   "metadata": {},
   "outputs": [],
   "source": []
  },
  {
   "cell_type": "code",
   "execution_count": null,
   "id": "ec97a81e",
   "metadata": {},
   "outputs": [],
   "source": []
  },
  {
   "cell_type": "code",
   "execution_count": 84,
   "id": "31527764",
   "metadata": {},
   "outputs": [
    {
     "data": {
      "text/plain": [
       "tensor([[ 0.2285, -1.4845,  0.0641],\n",
       "        [ 1.8936, -4.3125,  1.4363],\n",
       "        [-0.3833, -1.3562, -0.7643],\n",
       "        [ 0.5407, -0.2107,  0.9970],\n",
       "        [ 1.9575, -2.2326, -1.8317],\n",
       "        [-0.0910,  0.0583, -0.5328],\n",
       "        [ 1.5309, -1.4650, -0.6712],\n",
       "        [ 1.6120, -0.3546,  0.6829],\n",
       "        [ 2.0264, -1.1012,  1.4145],\n",
       "        [-0.4176,  1.3053,  1.4475],\n",
       "        [ 1.3385, -1.4765, -1.8260],\n",
       "        [-0.9681,  0.4556, -0.6440],\n",
       "        [ 0.2031, -0.0264, -3.1403],\n",
       "        [ 2.3220, -1.8637,  2.2131],\n",
       "        [ 0.6018, -3.1901,  2.2778],\n",
       "        [ 2.2294, -2.0972, -1.3116],\n",
       "        [ 3.3409, -0.3908,  1.6859],\n",
       "        [ 1.8482, -0.8482, -0.1843],\n",
       "        [ 0.5708, -1.6667,  0.9579],\n",
       "        [-1.1437, -2.6266, -0.6070],\n",
       "        [ 0.5302, -0.7772,  2.2494],\n",
       "        [ 1.0810, -3.1065,  0.1587],\n",
       "        [ 2.5195, -2.6777,  0.8248],\n",
       "        [ 1.5948,  1.3579,  0.4632],\n",
       "        [ 1.1415, -1.3615, -0.6931],\n",
       "        [ 3.6383, -2.9549,  0.6577],\n",
       "        [ 5.7888, -2.4904, -0.8487],\n",
       "        [ 1.1681, -0.8091,  0.0132],\n",
       "        [ 1.8736, -5.9115, -3.2458],\n",
       "        [ 2.3798, -1.1840, -0.1497],\n",
       "        [ 4.1144, -3.4999,  1.8116],\n",
       "        [ 2.3310, -1.1158, -0.9834],\n",
       "        [ 1.0673, -1.7525, -0.0475],\n",
       "        [-0.7981, -2.6773,  0.2366],\n",
       "        [-0.1270, -1.2368, -0.0939],\n",
       "        [ 1.2992, -1.2575,  0.8288],\n",
       "        [-1.6688, -3.4703,  0.4550],\n",
       "        [-0.0610, -0.0094, -1.8046],\n",
       "        [ 1.0619, -0.7516, -1.0849],\n",
       "        [ 1.9266,  0.8780, -0.2762],\n",
       "        [ 1.1947, -0.0197, -0.5566],\n",
       "        [ 0.4144, -1.2963,  2.3351],\n",
       "        [ 1.5491, -1.7119,  1.9576],\n",
       "        [-0.5731, -2.7640,  3.1914],\n",
       "        [-0.3560, -1.5259,  1.7965],\n",
       "        [-0.5798,  0.1551,  1.6181],\n",
       "        [-0.7531, -0.5721,  3.4210],\n",
       "        [ 0.8500, -0.4120,  1.7617],\n",
       "        [-0.1400, -3.5664, -1.5821],\n",
       "        [ 1.2244,  0.3733,  2.3386],\n",
       "        [ 1.5613,  0.8159, -1.0808],\n",
       "        [-1.8321, -1.1491, -0.7169],\n",
       "        [-0.1236, -0.2941,  0.8012],\n",
       "        [ 1.3275, -2.0912,  2.6614],\n",
       "        [ 0.7285, -0.6307, -0.4022],\n",
       "        [ 3.9501, -1.7394,  0.5410],\n",
       "        [ 1.0760, -1.8115, -0.4633],\n",
       "        [ 0.8183, -2.8890, -1.0611],\n",
       "        [ 1.3911, -0.8959,  1.8469],\n",
       "        [ 1.0037, -3.4534, -0.4930],\n",
       "        [ 1.2105, -1.5693,  0.5217],\n",
       "        [ 1.1891,  1.2055, -0.4273],\n",
       "        [ 0.4127, -2.8203,  2.5425],\n",
       "        [-0.1990, -0.9164,  0.2753]], device='cuda:0', grad_fn=<AddmmBackward>)"
      ]
     },
     "execution_count": 84,
     "metadata": {},
     "output_type": "execute_result"
    }
   ],
   "source": [
    "outputs"
   ]
  },
  {
   "cell_type": "code",
   "execution_count": null,
   "id": "0294de77",
   "metadata": {},
   "outputs": [],
   "source": []
  },
  {
   "cell_type": "code",
   "execution_count": null,
   "id": "c7b52d1e",
   "metadata": {},
   "outputs": [],
   "source": []
  },
  {
   "cell_type": "code",
   "execution_count": null,
   "id": "c329f803",
   "metadata": {},
   "outputs": [],
   "source": []
  },
  {
   "cell_type": "code",
   "execution_count": null,
   "id": "3be5000e",
   "metadata": {},
   "outputs": [],
   "source": []
  },
  {
   "cell_type": "code",
   "execution_count": null,
   "id": "d17dcbdc",
   "metadata": {},
   "outputs": [],
   "source": []
  },
  {
   "cell_type": "code",
   "execution_count": null,
   "id": "08a9d08c",
   "metadata": {},
   "outputs": [],
   "source": []
  },
  {
   "cell_type": "code",
   "execution_count": null,
   "id": "07c8ac70",
   "metadata": {},
   "outputs": [],
   "source": []
  },
  {
   "cell_type": "code",
   "execution_count": null,
   "id": "93848e20",
   "metadata": {},
   "outputs": [],
   "source": []
  },
  {
   "cell_type": "code",
   "execution_count": null,
   "id": "fa22ff55",
   "metadata": {},
   "outputs": [],
   "source": []
  },
  {
   "cell_type": "code",
   "execution_count": null,
   "id": "33778e4c",
   "metadata": {},
   "outputs": [],
   "source": []
  },
  {
   "cell_type": "code",
   "execution_count": 65,
   "id": "82e57147",
   "metadata": {},
   "outputs": [
    {
     "data": {
      "text/plain": [
       "tensor([[1, 0, 0],\n",
       "        [0, 0, 1],\n",
       "        [0, 0, 1],\n",
       "        [0, 1, 0],\n",
       "        [1, 0, 0],\n",
       "        [0, 0, 1],\n",
       "        [0, 0, 1],\n",
       "        [0, 1, 0],\n",
       "        [0, 0, 1],\n",
       "        [0, 1, 0],\n",
       "        [0, 0, 1],\n",
       "        [1, 0, 0],\n",
       "        [0, 0, 1],\n",
       "        [0, 0, 1],\n",
       "        [1, 0, 0],\n",
       "        [1, 0, 0],\n",
       "        [1, 0, 0],\n",
       "        [1, 0, 0],\n",
       "        [0, 0, 1],\n",
       "        [0, 0, 1],\n",
       "        [1, 0, 0],\n",
       "        [0, 1, 0],\n",
       "        [1, 0, 0],\n",
       "        [1, 0, 0],\n",
       "        [1, 0, 0],\n",
       "        [0, 0, 1],\n",
       "        [0, 0, 1],\n",
       "        [0, 0, 1],\n",
       "        [1, 0, 0],\n",
       "        [1, 0, 0],\n",
       "        [1, 0, 0],\n",
       "        [1, 0, 0],\n",
       "        [0, 1, 0],\n",
       "        [0, 1, 0],\n",
       "        [1, 0, 0],\n",
       "        [1, 0, 0],\n",
       "        [1, 0, 0],\n",
       "        [0, 1, 0],\n",
       "        [1, 0, 0],\n",
       "        [0, 0, 1],\n",
       "        [0, 0, 1],\n",
       "        [1, 0, 0],\n",
       "        [0, 1, 0],\n",
       "        [0, 0, 1],\n",
       "        [0, 0, 1],\n",
       "        [0, 0, 1],\n",
       "        [0, 0, 1],\n",
       "        [0, 0, 1],\n",
       "        [0, 0, 1],\n",
       "        [0, 0, 1],\n",
       "        [0, 0, 1],\n",
       "        [0, 0, 1],\n",
       "        [0, 0, 1],\n",
       "        [0, 0, 1],\n",
       "        [0, 0, 1],\n",
       "        [0, 0, 1],\n",
       "        [0, 1, 0],\n",
       "        [0, 0, 1],\n",
       "        [0, 0, 1],\n",
       "        [0, 0, 1],\n",
       "        [1, 0, 0],\n",
       "        [1, 0, 0],\n",
       "        [0, 0, 1],\n",
       "        [1, 0, 0]], device='cuda:0')"
      ]
     },
     "execution_count": 65,
     "metadata": {},
     "output_type": "execute_result"
    }
   ],
   "source": [
    "data_label_torch.squeeze(2)"
   ]
  },
  {
   "cell_type": "code",
   "execution_count": null,
   "id": "0870ca26",
   "metadata": {},
   "outputs": [],
   "source": [
    "loss = criterion(outputs.float(), data_label_torch.squeeze(1))"
   ]
  },
  {
   "cell_type": "code",
   "execution_count": 44,
   "id": "fe6f64c5",
   "metadata": {},
   "outputs": [
    {
     "data": {
      "text/plain": [
       "torch.Size([64])"
      ]
     },
     "execution_count": 44,
     "metadata": {},
     "output_type": "execute_result"
    }
   ],
   "source": [
    "data_label_torch.squeeze(1).shape"
   ]
  },
  {
   "cell_type": "code",
   "execution_count": 51,
   "id": "c03a8d48",
   "metadata": {},
   "outputs": [],
   "source": [
    "dataset_train_murmurs = myDataset(features,murmurs)\n",
    "dataloader_train_murmurs = myDataLoader(dataset=dataset_train_murmurs,\n",
    "                                    batch_size=64,\n",
    "                                    shuffle=False,\n",
    "                                    num_workers=0)"
   ]
  },
  {
   "cell_type": "code",
   "execution_count": 55,
   "id": "b04276fc",
   "metadata": {},
   "outputs": [
    {
     "data": {
      "text/plain": [
       "(array([[-0.26812872,  0.1456995 ,  0.2229015 , ..., -0.37224373,\n",
       "          0.06185362, -0.20789492],\n",
       "        [-0.3532718 , -0.06782424,  0.15311153, ..., -0.53001344,\n",
       "          0.15046059, -0.30170864],\n",
       "        [-0.15403742,  0.12375794,  0.19781077, ..., -0.2646627 ,\n",
       "          0.1298432 , -0.09531417],\n",
       "        ...,\n",
       "        [-0.1602506 ,  0.27430457,  0.12100403, ..., -0.3193402 ,\n",
       "          0.07736264, -0.19237593],\n",
       "        [-0.2800865 , -0.12960649, -0.07742852, ..., -0.61623394,\n",
       "          0.07834175, -0.4003654 ],\n",
       "        [-0.33421162, -0.00154565,  0.26805216, ..., -0.5752419 ,\n",
       "         -0.07102329, -0.20493415]], dtype=float32),\n",
       " array([0, 0, 1, 0, 0, 0]),\n",
       " array([1, 0]),\n",
       " array([98. , 15.9]),\n",
       " array([0]),\n",
       " array([0., 0., 0., 1., 0.]),\n",
       " array([0, 0, 1]))"
      ]
     },
     "execution_count": 55,
     "metadata": {},
     "output_type": "execute_result"
    }
   ],
   "source": [
    "dataset_train_murmurs[2]"
   ]
  },
  {
   "cell_type": "code",
   "execution_count": 69,
   "id": "f20669fb",
   "metadata": {},
   "outputs": [
    {
     "data": {
      "text/plain": [
       "tensor([[1, 0, 0],\n",
       "        [0, 0, 1],\n",
       "        [0, 0, 1],\n",
       "        [0, 1, 0],\n",
       "        [1, 0, 0],\n",
       "        [0, 0, 1],\n",
       "        [0, 0, 1],\n",
       "        [0, 1, 0],\n",
       "        [0, 0, 1],\n",
       "        [0, 1, 0],\n",
       "        [0, 0, 1],\n",
       "        [1, 0, 0],\n",
       "        [0, 0, 1],\n",
       "        [0, 0, 1],\n",
       "        [1, 0, 0],\n",
       "        [1, 0, 0],\n",
       "        [1, 0, 0],\n",
       "        [1, 0, 0],\n",
       "        [0, 0, 1],\n",
       "        [0, 0, 1],\n",
       "        [1, 0, 0],\n",
       "        [0, 1, 0],\n",
       "        [1, 0, 0],\n",
       "        [1, 0, 0],\n",
       "        [1, 0, 0],\n",
       "        [0, 0, 1],\n",
       "        [0, 0, 1],\n",
       "        [0, 0, 1],\n",
       "        [1, 0, 0],\n",
       "        [1, 0, 0],\n",
       "        [1, 0, 0],\n",
       "        [1, 0, 0],\n",
       "        [0, 1, 0],\n",
       "        [0, 1, 0],\n",
       "        [1, 0, 0],\n",
       "        [1, 0, 0],\n",
       "        [1, 0, 0],\n",
       "        [0, 1, 0],\n",
       "        [1, 0, 0],\n",
       "        [0, 0, 1],\n",
       "        [0, 0, 1],\n",
       "        [1, 0, 0],\n",
       "        [0, 1, 0],\n",
       "        [0, 0, 1],\n",
       "        [0, 0, 1],\n",
       "        [0, 0, 1],\n",
       "        [0, 0, 1],\n",
       "        [0, 0, 1],\n",
       "        [0, 0, 1],\n",
       "        [0, 0, 1],\n",
       "        [0, 0, 1],\n",
       "        [0, 0, 1],\n",
       "        [0, 0, 1],\n",
       "        [0, 0, 1],\n",
       "        [0, 0, 1],\n",
       "        [0, 0, 1],\n",
       "        [0, 1, 0],\n",
       "        [0, 0, 1],\n",
       "        [0, 0, 1],\n",
       "        [0, 0, 1],\n",
       "        [1, 0, 0],\n",
       "        [1, 0, 0],\n",
       "        [0, 0, 1],\n",
       "        [1, 0, 0]], device='cuda:0')"
      ]
     },
     "execution_count": 69,
     "metadata": {},
     "output_type": "execute_result"
    }
   ],
   "source": [
    "data_label_torch.squeeze(2)"
   ]
  },
  {
   "cell_type": "code",
   "execution_count": 70,
   "id": "d8960f53",
   "metadata": {},
   "outputs": [
    {
     "data": {
      "text/plain": [
       "tensor([[ 1.7412e+00, -2.3447e+00, -4.8400e-01],\n",
       "        [-5.1983e-01, -3.1038e+00,  1.8714e+00],\n",
       "        [ 1.6744e+00, -3.9311e+00, -1.6019e+00],\n",
       "        [-9.0416e-01, -6.9645e-01, -1.2474e+00],\n",
       "        [ 1.7310e+00, -3.3657e+00, -3.7368e+00],\n",
       "        [ 3.5154e+00, -2.7164e+00,  4.4905e-01],\n",
       "        [ 3.6265e+00, -2.2319e+00, -4.1153e-01],\n",
       "        [ 1.9146e+00, -4.9297e-01,  1.2156e+00],\n",
       "        [ 4.7234e-01, -2.2077e-01,  1.5240e+00],\n",
       "        [-1.3380e+00, -2.1316e+00, -2.9917e-01],\n",
       "        [ 3.3243e+00, -1.3581e+00,  2.2266e+00],\n",
       "        [ 2.0434e+00, -4.5338e+00,  5.9820e-01],\n",
       "        [ 8.3841e-01,  1.0704e+00, -1.0717e-01],\n",
       "        [ 6.2175e-01, -1.6871e+00, -7.0502e-01],\n",
       "        [-1.0158e+00, -3.2028e+00, -1.3146e+00],\n",
       "        [-1.8057e-02, -3.1254e+00,  1.3839e+00],\n",
       "        [-7.6661e-01, -3.3410e+00,  9.8358e-02],\n",
       "        [ 9.6963e-01, -5.3035e-01,  1.8502e+00],\n",
       "        [ 1.7504e+00, -4.1564e+00,  8.2769e-01],\n",
       "        [ 3.5583e+00, -1.9731e+00,  1.6008e+00],\n",
       "        [-1.6832e+00, -2.7287e+00, -1.4140e+00],\n",
       "        [ 2.1843e+00, -1.1828e+00, -4.8670e-02],\n",
       "        [-7.5242e-01, -2.4544e+00,  1.8942e-01],\n",
       "        [-1.0406e+00, -3.6708e+00,  2.3864e-01],\n",
       "        [ 8.6464e-01, -3.0856e+00, -2.5704e+00],\n",
       "        [ 1.8868e+00, -5.0834e+00,  3.0458e+00],\n",
       "        [ 1.7386e+00, -3.1768e+00,  1.8425e+00],\n",
       "        [ 4.1525e-01, -1.5843e+00, -7.6185e-02],\n",
       "        [ 1.1259e+00, -1.8083e+00, -1.7071e+00],\n",
       "        [ 1.7879e+00, -1.6088e+00,  4.7958e-01],\n",
       "        [-2.7126e-01, -3.4252e+00,  1.4357e+00],\n",
       "        [-1.4473e+00, -9.0287e-01,  2.9768e-01],\n",
       "        [ 5.1423e-01, -3.3976e-01,  1.0573e+00],\n",
       "        [ 1.1581e+00, -1.7230e+00,  4.3041e-01],\n",
       "        [-5.8906e-01, -2.3608e+00, -1.6230e+00],\n",
       "        [ 1.7616e+00, -3.5568e+00, -2.3228e+00],\n",
       "        [-1.4775e+00, -1.2491e+00,  2.1915e+00],\n",
       "        [ 3.6199e-03, -1.3561e+00,  2.2172e+00],\n",
       "        [ 1.0603e-01, -1.3399e+00,  2.9609e-01],\n",
       "        [ 3.8650e-01,  2.2248e-01, -2.3134e+00],\n",
       "        [ 1.9924e-01, -7.4487e-01,  1.9171e+00],\n",
       "        [-2.1156e+00, -1.0257e+00,  5.0698e-01],\n",
       "        [ 2.8086e+00, -1.3895e+00, -3.4630e+00],\n",
       "        [-1.3076e-01,  2.4414e-01,  1.3068e-01],\n",
       "        [ 2.3358e+00, -1.8656e+00, -4.9387e-02],\n",
       "        [ 2.0043e+00, -3.2686e+00,  1.9151e+00],\n",
       "        [ 1.7578e+00, -2.2308e+00,  4.4512e-01],\n",
       "        [-5.3108e-01, -3.3789e+00,  1.8610e+00],\n",
       "        [ 2.5600e+00,  8.2010e-01,  2.1318e+00],\n",
       "        [-5.3165e-01, -4.4074e-01, -1.3423e+00],\n",
       "        [ 2.2795e+00, -6.7696e-01,  2.6156e+00],\n",
       "        [-7.6298e-01, -2.2808e-01,  8.0734e-01],\n",
       "        [ 1.5792e+00, -2.2640e+00,  6.7709e-01],\n",
       "        [ 1.2910e+00, -9.9600e-01,  4.9185e-02],\n",
       "        [ 1.2793e+00, -1.9276e+00,  4.0601e-01],\n",
       "        [ 1.6820e+00, -2.9388e+00, -2.8451e-01],\n",
       "        [ 9.7506e-01,  3.0793e-01,  1.9748e-01],\n",
       "        [ 6.5585e-01, -2.3477e+00,  5.0456e-01],\n",
       "        [-6.4666e-01, -1.5821e+00,  5.9306e-01],\n",
       "        [ 2.3444e+00, -1.7770e+00,  6.9955e-01],\n",
       "        [ 1.1567e+00, -2.2545e+00,  1.7743e+00],\n",
       "        [ 1.1051e+00,  4.4219e-02,  1.5379e+00],\n",
       "        [ 1.4895e+00, -3.5923e+00,  1.3293e+00],\n",
       "        [ 1.3814e+00, -1.8338e+00, -1.1402e+00]], device='cuda:0',\n",
       "       grad_fn=<AddmmBackward>)"
      ]
     },
     "execution_count": 70,
     "metadata": {},
     "output_type": "execute_result"
    }
   ],
   "source": [
    "outputs"
   ]
  },
  {
   "cell_type": "code",
   "execution_count": 130,
   "id": "c201543b",
   "metadata": {},
   "outputs": [
    {
     "ename": "TypeError",
     "evalue": "can't convert cuda:0 device type tensor to numpy. Use Tensor.cpu() to copy the tensor to host memory first.",
     "output_type": "error",
     "traceback": [
      "\u001b[0;31m---------------------------------------------------------------------------\u001b[0m",
      "\u001b[0;31mTypeError\u001b[0m                                 Traceback (most recent call last)",
      "File \u001b[0;32m/opt/conda/lib/python3.8/site-packages/numpy/core/fromnumeric.py:57\u001b[0m, in \u001b[0;36m_wrapfunc\u001b[0;34m(obj, method, *args, **kwds)\u001b[0m\n\u001b[1;32m     56\u001b[0m \u001b[38;5;28;01mtry\u001b[39;00m:\n\u001b[0;32m---> 57\u001b[0m     \u001b[38;5;28;01mreturn\u001b[39;00m \u001b[43mbound\u001b[49m\u001b[43m(\u001b[49m\u001b[38;5;241;43m*\u001b[39;49m\u001b[43margs\u001b[49m\u001b[43m,\u001b[49m\u001b[43m \u001b[49m\u001b[38;5;241;43m*\u001b[39;49m\u001b[38;5;241;43m*\u001b[39;49m\u001b[43mkwds\u001b[49m\u001b[43m)\u001b[49m\n\u001b[1;32m     58\u001b[0m \u001b[38;5;28;01mexcept\u001b[39;00m \u001b[38;5;167;01mTypeError\u001b[39;00m:\n\u001b[1;32m     59\u001b[0m     \u001b[38;5;66;03m# A TypeError occurs if the object does have such a method in its\u001b[39;00m\n\u001b[1;32m     60\u001b[0m     \u001b[38;5;66;03m# class, but its signature is not identical to that of NumPy's. This\u001b[39;00m\n\u001b[0;32m   (...)\u001b[0m\n\u001b[1;32m     64\u001b[0m     \u001b[38;5;66;03m# Call _wrapit from within the except clause to ensure a potential\u001b[39;00m\n\u001b[1;32m     65\u001b[0m     \u001b[38;5;66;03m# exception has a traceback chain.\u001b[39;00m\n",
      "\u001b[0;31mTypeError\u001b[0m: argmax() got an unexpected keyword argument 'axis'",
      "\nDuring handling of the above exception, another exception occurred:\n",
      "\u001b[0;31mTypeError\u001b[0m                                 Traceback (most recent call last)",
      "Input \u001b[0;32mIn [130]\u001b[0m, in \u001b[0;36m<cell line: 1>\u001b[0;34m()\u001b[0m\n\u001b[0;32m----> 1\u001b[0m \u001b[43mnp\u001b[49m\u001b[38;5;241;43m.\u001b[39;49m\u001b[43margmax\u001b[49m\u001b[43m(\u001b[49m\u001b[43moutputs\u001b[49m\u001b[43m)\u001b[49m\n",
      "File \u001b[0;32m<__array_function__ internals>:5\u001b[0m, in \u001b[0;36margmax\u001b[0;34m(*args, **kwargs)\u001b[0m\n",
      "File \u001b[0;32m/opt/conda/lib/python3.8/site-packages/numpy/core/fromnumeric.py:1195\u001b[0m, in \u001b[0;36margmax\u001b[0;34m(a, axis, out)\u001b[0m\n\u001b[1;32m   1121\u001b[0m \u001b[38;5;129m@array_function_dispatch\u001b[39m(_argmax_dispatcher)\n\u001b[1;32m   1122\u001b[0m \u001b[38;5;28;01mdef\u001b[39;00m \u001b[38;5;21margmax\u001b[39m(a, axis\u001b[38;5;241m=\u001b[39m\u001b[38;5;28;01mNone\u001b[39;00m, out\u001b[38;5;241m=\u001b[39m\u001b[38;5;28;01mNone\u001b[39;00m):\n\u001b[1;32m   1123\u001b[0m     \u001b[38;5;124;03m\"\"\"\u001b[39;00m\n\u001b[1;32m   1124\u001b[0m \u001b[38;5;124;03m    Returns the indices of the maximum values along an axis.\u001b[39;00m\n\u001b[1;32m   1125\u001b[0m \n\u001b[0;32m   (...)\u001b[0m\n\u001b[1;32m   1193\u001b[0m \n\u001b[1;32m   1194\u001b[0m \u001b[38;5;124;03m    \"\"\"\u001b[39;00m\n\u001b[0;32m-> 1195\u001b[0m     \u001b[38;5;28;01mreturn\u001b[39;00m \u001b[43m_wrapfunc\u001b[49m\u001b[43m(\u001b[49m\u001b[43ma\u001b[49m\u001b[43m,\u001b[49m\u001b[43m \u001b[49m\u001b[38;5;124;43m'\u001b[39;49m\u001b[38;5;124;43margmax\u001b[39;49m\u001b[38;5;124;43m'\u001b[39;49m\u001b[43m,\u001b[49m\u001b[43m \u001b[49m\u001b[43maxis\u001b[49m\u001b[38;5;241;43m=\u001b[39;49m\u001b[43maxis\u001b[49m\u001b[43m,\u001b[49m\u001b[43m \u001b[49m\u001b[43mout\u001b[49m\u001b[38;5;241;43m=\u001b[39;49m\u001b[43mout\u001b[49m\u001b[43m)\u001b[49m\n",
      "File \u001b[0;32m/opt/conda/lib/python3.8/site-packages/numpy/core/fromnumeric.py:66\u001b[0m, in \u001b[0;36m_wrapfunc\u001b[0;34m(obj, method, *args, **kwds)\u001b[0m\n\u001b[1;32m     57\u001b[0m     \u001b[38;5;28;01mreturn\u001b[39;00m bound(\u001b[38;5;241m*\u001b[39margs, \u001b[38;5;241m*\u001b[39m\u001b[38;5;241m*\u001b[39mkwds)\n\u001b[1;32m     58\u001b[0m \u001b[38;5;28;01mexcept\u001b[39;00m \u001b[38;5;167;01mTypeError\u001b[39;00m:\n\u001b[1;32m     59\u001b[0m     \u001b[38;5;66;03m# A TypeError occurs if the object does have such a method in its\u001b[39;00m\n\u001b[1;32m     60\u001b[0m     \u001b[38;5;66;03m# class, but its signature is not identical to that of NumPy's. This\u001b[39;00m\n\u001b[0;32m   (...)\u001b[0m\n\u001b[1;32m     64\u001b[0m     \u001b[38;5;66;03m# Call _wrapit from within the except clause to ensure a potential\u001b[39;00m\n\u001b[1;32m     65\u001b[0m     \u001b[38;5;66;03m# exception has a traceback chain.\u001b[39;00m\n\u001b[0;32m---> 66\u001b[0m     \u001b[38;5;28;01mreturn\u001b[39;00m \u001b[43m_wrapit\u001b[49m\u001b[43m(\u001b[49m\u001b[43mobj\u001b[49m\u001b[43m,\u001b[49m\u001b[43m \u001b[49m\u001b[43mmethod\u001b[49m\u001b[43m,\u001b[49m\u001b[43m \u001b[49m\u001b[38;5;241;43m*\u001b[39;49m\u001b[43margs\u001b[49m\u001b[43m,\u001b[49m\u001b[43m \u001b[49m\u001b[38;5;241;43m*\u001b[39;49m\u001b[38;5;241;43m*\u001b[39;49m\u001b[43mkwds\u001b[49m\u001b[43m)\u001b[49m\n",
      "File \u001b[0;32m/opt/conda/lib/python3.8/site-packages/numpy/core/fromnumeric.py:43\u001b[0m, in \u001b[0;36m_wrapit\u001b[0;34m(obj, method, *args, **kwds)\u001b[0m\n\u001b[1;32m     41\u001b[0m \u001b[38;5;28;01mexcept\u001b[39;00m \u001b[38;5;167;01mAttributeError\u001b[39;00m:\n\u001b[1;32m     42\u001b[0m     wrap \u001b[38;5;241m=\u001b[39m \u001b[38;5;28;01mNone\u001b[39;00m\n\u001b[0;32m---> 43\u001b[0m result \u001b[38;5;241m=\u001b[39m \u001b[38;5;28mgetattr\u001b[39m(\u001b[43masarray\u001b[49m\u001b[43m(\u001b[49m\u001b[43mobj\u001b[49m\u001b[43m)\u001b[49m, method)(\u001b[38;5;241m*\u001b[39margs, \u001b[38;5;241m*\u001b[39m\u001b[38;5;241m*\u001b[39mkwds)\n\u001b[1;32m     44\u001b[0m \u001b[38;5;28;01mif\u001b[39;00m wrap:\n\u001b[1;32m     45\u001b[0m     \u001b[38;5;28;01mif\u001b[39;00m \u001b[38;5;129;01mnot\u001b[39;00m \u001b[38;5;28misinstance\u001b[39m(result, mu\u001b[38;5;241m.\u001b[39mndarray):\n",
      "File \u001b[0;32m/opt/conda/lib/python3.8/site-packages/torch/tensor.py:492\u001b[0m, in \u001b[0;36mTensor.__array__\u001b[0;34m(self, dtype)\u001b[0m\n\u001b[1;32m    490\u001b[0m \u001b[38;5;28;01mdef\u001b[39;00m \u001b[38;5;21m__array__\u001b[39m(\u001b[38;5;28mself\u001b[39m, dtype\u001b[38;5;241m=\u001b[39m\u001b[38;5;28;01mNone\u001b[39;00m):\n\u001b[1;32m    491\u001b[0m     \u001b[38;5;28;01mif\u001b[39;00m dtype \u001b[38;5;129;01mis\u001b[39;00m \u001b[38;5;28;01mNone\u001b[39;00m:\n\u001b[0;32m--> 492\u001b[0m         \u001b[38;5;28;01mreturn\u001b[39;00m \u001b[38;5;28;43mself\u001b[39;49m\u001b[38;5;241;43m.\u001b[39;49m\u001b[43mnumpy\u001b[49m\u001b[43m(\u001b[49m\u001b[43m)\u001b[49m\n\u001b[1;32m    493\u001b[0m     \u001b[38;5;28;01melse\u001b[39;00m:\n\u001b[1;32m    494\u001b[0m         \u001b[38;5;28;01mreturn\u001b[39;00m \u001b[38;5;28mself\u001b[39m\u001b[38;5;241m.\u001b[39mnumpy()\u001b[38;5;241m.\u001b[39mastype(dtype, copy\u001b[38;5;241m=\u001b[39m\u001b[38;5;28;01mFalse\u001b[39;00m)\n",
      "\u001b[0;31mTypeError\u001b[0m: can't convert cuda:0 device type tensor to numpy. Use Tensor.cpu() to copy the tensor to host memory first."
     ]
    }
   ],
   "source": [
    "np.argmax(outputs)"
   ]
  },
  {
   "cell_type": "code",
   "execution_count": 179,
   "id": "d07b01d5",
   "metadata": {},
   "outputs": [
    {
     "ename": "IndexError",
     "evalue": "tuple index out of range",
     "output_type": "error",
     "traceback": [
      "\u001b[0;31m---------------------------------------------------------------------------\u001b[0m",
      "\u001b[0;31mIndexError\u001b[0m                                Traceback (most recent call last)",
      "Input \u001b[0;32mIn [179]\u001b[0m, in \u001b[0;36m<cell line: 1>\u001b[0;34m()\u001b[0m\n\u001b[0;32m----> 1\u001b[0m \u001b[43mcompute_weighted_accuracy\u001b[49m\u001b[43m(\u001b[49m\u001b[43mlabel_\u001b[49m\u001b[43m,\u001b[49m\u001b[43mlabels\u001b[49m\u001b[43m,\u001b[49m\u001b[43mmurmur_classes\u001b[49m\u001b[43m)\u001b[49m\n",
      "Input \u001b[0;32mIn [19]\u001b[0m, in \u001b[0;36mcompute_weighted_accuracy\u001b[0;34m(labels, outputs, classes)\u001b[0m\n\u001b[1;32m     10\u001b[0m \u001b[38;5;66;03m# Compute confusion matrix.\u001b[39;00m\n\u001b[1;32m     11\u001b[0m \u001b[38;5;28;01massert\u001b[39;00m(np\u001b[38;5;241m.\u001b[39mshape(labels) \u001b[38;5;241m==\u001b[39m np\u001b[38;5;241m.\u001b[39mshape(outputs))\n\u001b[0;32m---> 12\u001b[0m A \u001b[38;5;241m=\u001b[39m \u001b[43mcompute_confusion_matrix\u001b[49m\u001b[43m(\u001b[49m\u001b[43mlabels\u001b[49m\u001b[43m,\u001b[49m\u001b[43m \u001b[49m\u001b[43moutputs\u001b[49m\u001b[43m)\u001b[49m\n\u001b[1;32m     14\u001b[0m \u001b[38;5;66;03m# Multiply the confusion matrix by the weight matrix.\u001b[39;00m\n\u001b[1;32m     15\u001b[0m \u001b[38;5;28;01massert\u001b[39;00m(np\u001b[38;5;241m.\u001b[39mshape(A) \u001b[38;5;241m==\u001b[39m np\u001b[38;5;241m.\u001b[39mshape(weights))\n",
      "Input \u001b[0;32mIn [28]\u001b[0m, in \u001b[0;36mcompute_confusion_matrix\u001b[0;34m(labels, outputs)\u001b[0m\n\u001b[1;32m      4\u001b[0m \u001b[38;5;28;01massert\u001b[39;00m(\u001b[38;5;28mall\u001b[39m(value \u001b[38;5;129;01min\u001b[39;00m (\u001b[38;5;241m0\u001b[39m, \u001b[38;5;241m1\u001b[39m, \u001b[38;5;28;01mTrue\u001b[39;00m, \u001b[38;5;28;01mFalse\u001b[39;00m) \u001b[38;5;28;01mfor\u001b[39;00m value \u001b[38;5;129;01min\u001b[39;00m np\u001b[38;5;241m.\u001b[39munique(outputs)))\n\u001b[1;32m      6\u001b[0m num_patients \u001b[38;5;241m=\u001b[39m np\u001b[38;5;241m.\u001b[39mshape(labels)[\u001b[38;5;241m0\u001b[39m]\n\u001b[0;32m----> 7\u001b[0m num_label_classes \u001b[38;5;241m=\u001b[39m \u001b[43mnp\u001b[49m\u001b[38;5;241;43m.\u001b[39;49m\u001b[43mshape\u001b[49m\u001b[43m(\u001b[49m\u001b[43mlabels\u001b[49m\u001b[43m)\u001b[49m\u001b[43m[\u001b[49m\u001b[38;5;241;43m1\u001b[39;49m\u001b[43m]\u001b[49m\n\u001b[1;32m      8\u001b[0m num_output_classes \u001b[38;5;241m=\u001b[39m np\u001b[38;5;241m.\u001b[39mshape(outputs)[\u001b[38;5;241m1\u001b[39m]\n\u001b[1;32m     10\u001b[0m A \u001b[38;5;241m=\u001b[39m np\u001b[38;5;241m.\u001b[39mzeros((num_output_classes, num_label_classes))\n",
      "\u001b[0;31mIndexError\u001b[0m: tuple index out of range"
     ]
    }
   ],
   "source": [
    "compute_weighted_accuracy(label_,labels,murmur_classes)"
   ]
  },
  {
   "cell_type": "code",
   "execution_count": 180,
   "id": "c22e9013",
   "metadata": {},
   "outputs": [
    {
     "data": {
      "text/plain": [
       "array([0, 0, 1])"
      ]
     },
     "execution_count": 180,
     "metadata": {},
     "output_type": "execute_result"
    }
   ],
   "source": [
    "label_"
   ]
  },
  {
   "cell_type": "code",
   "execution_count": null,
   "id": "b4df4ef6",
   "metadata": {},
   "outputs": [],
   "source": []
  },
  {
   "cell_type": "code",
   "execution_count": null,
   "id": "70d1eabf",
   "metadata": {},
   "outputs": [],
   "source": []
  },
  {
   "cell_type": "code",
   "execution_count": 141,
   "id": "00fecf3a",
   "metadata": {},
   "outputs": [
    {
     "data": {
      "text/plain": [
       "0"
      ]
     },
     "execution_count": 141,
     "metadata": {},
     "output_type": "execute_result"
    }
   ],
   "source": [
    "np.argmax(outputs[0].detach().cpu().numpy())"
   ]
  },
  {
   "cell_type": "code",
   "execution_count": 156,
   "id": "c13fc1c6",
   "metadata": {},
   "outputs": [
    {
     "data": {
      "text/plain": [
       "array([1, 0, 0])"
      ]
     },
     "execution_count": 156,
     "metadata": {},
     "output_type": "execute_result"
    }
   ],
   "source": [
    "labels"
   ]
  },
  {
   "cell_type": "code",
   "execution_count": 147,
   "id": "c6d8fe4b",
   "metadata": {},
   "outputs": [
    {
     "data": {
      "text/plain": [
       "3"
      ]
     },
     "execution_count": 147,
     "metadata": {},
     "output_type": "execute_result"
    }
   ],
   "source": [
    "np.shape(labels)[0]"
   ]
  },
  {
   "cell_type": "code",
   "execution_count": 150,
   "id": "24d8cc3b",
   "metadata": {},
   "outputs": [
    {
     "data": {
      "text/plain": [
       "tensor([[0.3853, 0.2572, 0.3575],\n",
       "        [0.4270, 0.2319, 0.3411],\n",
       "        [0.3851, 0.2847, 0.3302],\n",
       "        [0.3279, 0.2757, 0.3964],\n",
       "        [0.5627, 0.2178, 0.2194],\n",
       "        [0.3402, 0.3603, 0.2995],\n",
       "        [0.5247, 0.2314, 0.2438],\n",
       "        [0.4454, 0.2543, 0.3003],\n",
       "        [0.4354, 0.2383, 0.3263],\n",
       "        [0.2537, 0.3609, 0.3854],\n",
       "        [0.5419, 0.2309, 0.2272],\n",
       "        [0.2717, 0.4402, 0.2881],\n",
       "        [0.4025, 0.3599, 0.2376],\n",
       "        [0.3929, 0.2348, 0.3723],\n",
       "        [0.2607, 0.2236, 0.5157],\n",
       "        [0.5612, 0.2177, 0.2211],\n",
       "        [0.5098, 0.2283, 0.2620],\n",
       "        [0.5145, 0.2363, 0.2492],\n",
       "        [0.3438, 0.2432, 0.4130],\n",
       "        [0.3287, 0.2527, 0.4186],\n",
       "        [0.2597, 0.2335, 0.5068],\n",
       "        [0.4649, 0.2315, 0.3035],\n",
       "        [0.5163, 0.2237, 0.2599],\n",
       "        [0.3802, 0.3440, 0.2758],\n",
       "        [0.5036, 0.2404, 0.2560],\n",
       "        [0.5578, 0.2159, 0.2263],\n",
       "        [0.5755, 0.2121, 0.2123],\n",
       "        [0.4593, 0.2539, 0.2867],\n",
       "        [0.5738, 0.2125, 0.2137],\n",
       "        [0.5400, 0.2247, 0.2353],\n",
       "        [0.5421, 0.2186, 0.2393],\n",
       "        [0.5526, 0.2232, 0.2242],\n",
       "        [0.4708, 0.2391, 0.2901],\n",
       "        [0.2952, 0.2384, 0.4664],\n",
       "        [0.3614, 0.2721, 0.3665],\n",
       "        [0.4195, 0.2440, 0.3365],\n",
       "        [0.2450, 0.2244, 0.5306],\n",
       "        [0.3684, 0.3773, 0.2544],\n",
       "        [0.4947, 0.2572, 0.2481],\n",
       "        [0.4577, 0.2934, 0.2490],\n",
       "        [0.4566, 0.2831, 0.2603],\n",
       "        [0.2517, 0.2272, 0.5211],\n",
       "        [0.3443, 0.2359, 0.4198],\n",
       "        [0.2187, 0.2144, 0.5669],\n",
       "        [0.2447, 0.2283, 0.5270],\n",
       "        [0.2480, 0.2712, 0.4808],\n",
       "        [0.2176, 0.2183, 0.5641],\n",
       "        [0.3020, 0.2498, 0.4482],\n",
       "        [0.4964, 0.2316, 0.2720],\n",
       "        [0.2890, 0.2543, 0.4567],\n",
       "        [0.4424, 0.3149, 0.2426],\n",
       "        [0.2792, 0.3285, 0.3923],\n",
       "        [0.2957, 0.2853, 0.4190],\n",
       "        [0.2776, 0.2272, 0.4953],\n",
       "        [0.4393, 0.2745, 0.2862],\n",
       "        [0.5632, 0.2153, 0.2215],\n",
       "        [0.4964, 0.2361, 0.2675],\n",
       "        [0.5199, 0.2270, 0.2531],\n",
       "        [0.3383, 0.2419, 0.4197],\n",
       "        [0.5043, 0.2266, 0.2691],\n",
       "        [0.4393, 0.2412, 0.3195],\n",
       "        [0.3698, 0.3726, 0.2576],\n",
       "        [0.2443, 0.2207, 0.5351],\n",
       "        [0.3264, 0.2766, 0.3971]], device='cuda:0', grad_fn=<SoftmaxBackward>)"
      ]
     },
     "execution_count": 150,
     "metadata": {},
     "output_type": "execute_result"
    }
   ],
   "source": [
    "outputs[0]"
   ]
  },
  {
   "cell_type": "code",
   "execution_count": null,
   "id": "2f7f7a26",
   "metadata": {},
   "outputs": [],
   "source": []
  },
  {
   "cell_type": "code",
   "execution_count": null,
   "id": "e5333522",
   "metadata": {},
   "outputs": [],
   "source": []
  },
  {
   "cell_type": "code",
   "execution_count": null,
   "id": "5b88c73f",
   "metadata": {},
   "outputs": [],
   "source": []
  },
  {
   "cell_type": "code",
   "execution_count": null,
   "id": "aa877bb2",
   "metadata": {},
   "outputs": [],
   "source": []
  },
  {
   "cell_type": "code",
   "execution_count": null,
   "id": "77c86bdf",
   "metadata": {},
   "outputs": [],
   "source": []
  },
  {
   "cell_type": "code",
   "execution_count": 67,
   "id": "add99354",
   "metadata": {},
   "outputs": [
    {
     "data": {
      "text/plain": [
       "torch.Size([64, 3])"
      ]
     },
     "execution_count": 67,
     "metadata": {},
     "output_type": "execute_result"
    }
   ],
   "source": [
    "outputs.shape"
   ]
  },
  {
   "cell_type": "code",
   "execution_count": 74,
   "id": "b7c13050",
   "metadata": {},
   "outputs": [
    {
     "data": {
      "text/plain": [
       "array([[ 1.74118125e+00, -2.34474921e+00, -4.83996868e-01],\n",
       "       [-5.19827724e-01, -3.10376549e+00,  1.87137878e+00],\n",
       "       [ 1.67438555e+00, -3.93106389e+00, -1.60185516e+00],\n",
       "       [-9.04158950e-01, -6.96449280e-01, -1.24741912e+00],\n",
       "       [ 1.73096657e+00, -3.36571002e+00, -3.73683977e+00],\n",
       "       [ 3.51535273e+00, -2.71639967e+00,  4.49049413e-01],\n",
       "       [ 3.62653971e+00, -2.23185706e+00, -4.11525726e-01],\n",
       "       [ 1.91455400e+00, -4.92971212e-01,  1.21561074e+00],\n",
       "       [ 4.72339749e-01, -2.20769346e-01,  1.52400374e+00],\n",
       "       [-1.33798409e+00, -2.13157940e+00, -2.99171746e-01],\n",
       "       [ 3.32426023e+00, -1.35805535e+00,  2.22655392e+00],\n",
       "       [ 2.04335165e+00, -4.53378868e+00,  5.98198414e-01],\n",
       "       [ 8.38408887e-01,  1.07036185e+00, -1.07173055e-01],\n",
       "       [ 6.21749282e-01, -1.68705130e+00, -7.05020308e-01],\n",
       "       [-1.01577783e+00, -3.20283747e+00, -1.31457114e+00],\n",
       "       [-1.80573463e-02, -3.12538695e+00,  1.38385272e+00],\n",
       "       [-7.66605973e-01, -3.34095573e+00,  9.83579159e-02],\n",
       "       [ 9.69627380e-01, -5.30346632e-01,  1.85018742e+00],\n",
       "       [ 1.75036597e+00, -4.15643215e+00,  8.27692688e-01],\n",
       "       [ 3.55834818e+00, -1.97312176e+00,  1.60076714e+00],\n",
       "       [-1.68322456e+00, -2.72867036e+00, -1.41403699e+00],\n",
       "       [ 2.18434381e+00, -1.18275046e+00, -4.86703366e-02],\n",
       "       [-7.52420306e-01, -2.45437479e+00,  1.89418554e-01],\n",
       "       [-1.04063988e+00, -3.67082977e+00,  2.38636553e-01],\n",
       "       [ 8.64638209e-01, -3.08556557e+00, -2.57038140e+00],\n",
       "       [ 1.88676143e+00, -5.08335876e+00,  3.04579043e+00],\n",
       "       [ 1.73858643e+00, -3.17679691e+00,  1.84250259e+00],\n",
       "       [ 4.15249348e-01, -1.58434391e+00, -7.61847496e-02],\n",
       "       [ 1.12592435e+00, -1.80829275e+00, -1.70709729e+00],\n",
       "       [ 1.78794837e+00, -1.60879016e+00,  4.79576558e-01],\n",
       "       [-2.71255255e-01, -3.42517853e+00,  1.43574190e+00],\n",
       "       [-1.44725800e+00, -9.02867198e-01,  2.97680140e-01],\n",
       "       [ 5.14226556e-01, -3.39764416e-01,  1.05728555e+00],\n",
       "       [ 1.15813005e+00, -1.72297156e+00,  4.30406213e-01],\n",
       "       [-5.89063764e-01, -2.36079454e+00, -1.62297738e+00],\n",
       "       [ 1.76159000e+00, -3.55676746e+00, -2.32279158e+00],\n",
       "       [-1.47746897e+00, -1.24905205e+00,  2.19151998e+00],\n",
       "       [ 3.61990929e-03, -1.35606885e+00,  2.21724486e+00],\n",
       "       [ 1.06032133e-01, -1.33993912e+00,  2.96087176e-01],\n",
       "       [ 3.86502981e-01,  2.22482562e-01, -2.31337261e+00],\n",
       "       [ 1.99242473e-01, -7.44865179e-01,  1.91713107e+00],\n",
       "       [-2.11562419e+00, -1.02567649e+00,  5.06984591e-01],\n",
       "       [ 2.80860233e+00, -1.38945913e+00, -3.46295309e+00],\n",
       "       [-1.30757213e-01,  2.44138062e-01,  1.30677104e-01],\n",
       "       [ 2.33576393e+00, -1.86559296e+00, -4.93870974e-02],\n",
       "       [ 2.00427032e+00, -3.26860285e+00,  1.91514635e+00],\n",
       "       [ 1.75783694e+00, -2.23079681e+00,  4.45122182e-01],\n",
       "       [-5.31083465e-01, -3.37891889e+00,  1.86099732e+00],\n",
       "       [ 2.55995488e+00,  8.20104122e-01,  2.13184261e+00],\n",
       "       [-5.31647563e-01, -4.40739751e-01, -1.34234440e+00],\n",
       "       [ 2.27947450e+00, -6.76956415e-01,  2.61563635e+00],\n",
       "       [-7.62975931e-01, -2.28078544e-01,  8.07342112e-01],\n",
       "       [ 1.57915294e+00, -2.26396394e+00,  6.77088618e-01],\n",
       "       [ 1.29098010e+00, -9.95998561e-01,  4.91846800e-02],\n",
       "       [ 1.27929735e+00, -1.92762792e+00,  4.06010389e-01],\n",
       "       [ 1.68204820e+00, -2.93882608e+00, -2.84514904e-01],\n",
       "       [ 9.75058138e-01,  3.07926595e-01,  1.97484136e-01],\n",
       "       [ 6.55845881e-01, -2.34768796e+00,  5.04563749e-01],\n",
       "       [-6.46657467e-01, -1.58208668e+00,  5.93059659e-01],\n",
       "       [ 2.34444714e+00, -1.77702856e+00,  6.99547887e-01],\n",
       "       [ 1.15674794e+00, -2.25454998e+00,  1.77434206e+00],\n",
       "       [ 1.10509372e+00,  4.42186594e-02,  1.53792405e+00],\n",
       "       [ 1.48954451e+00, -3.59225726e+00,  1.32934844e+00],\n",
       "       [ 1.38136292e+00, -1.83379853e+00, -1.14015412e+00]], dtype=float32)"
      ]
     },
     "execution_count": 74,
     "metadata": {},
     "output_type": "execute_result"
    }
   ],
   "source": [
    "outputs.detach().cpu().numpy()"
   ]
  },
  {
   "cell_type": "code",
   "execution_count": 235,
   "id": "4650899e",
   "metadata": {},
   "outputs": [
    {
     "ename": "NameError",
     "evalue": "name 'output' is not defined",
     "output_type": "error",
     "traceback": [
      "\u001b[0;31m---------------------------------------------------------------------------\u001b[0m",
      "\u001b[0;31mNameError\u001b[0m                                 Traceback (most recent call last)",
      "Input \u001b[0;32mIn [235]\u001b[0m, in \u001b[0;36m<cell line: 1>\u001b[0;34m()\u001b[0m\n\u001b[0;32m----> 1\u001b[0m \u001b[43moutput\u001b[49m\n",
      "\u001b[0;31mNameError\u001b[0m: name 'output' is not defined"
     ]
    }
   ],
   "source": [
    "outputs"
   ]
  },
  {
   "cell_type": "code",
   "execution_count": null,
   "id": "bc9ef6c3",
   "metadata": {},
   "outputs": [],
   "source": [
    "compute_weighted_accuracy(murmurs)"
   ]
  },
  {
   "cell_type": "code",
   "execution_count": 19,
   "id": "88fc1e46",
   "metadata": {},
   "outputs": [],
   "source": [
    "def compute_weighted_accuracy(labels, outputs, classes):\n",
    "    # Define constants.\n",
    "    if classes == ['Present', 'Unknown', 'Absent']:\n",
    "        weights = np.array([[5, 3, 1], [5, 3, 1], [5, 3, 1]])\n",
    "    elif classes == ['Abnormal', 'Normal']:\n",
    "        weights = np.array([[5, 1], [5, 1]])\n",
    "    else:\n",
    "        raise NotImplementedError('Weighted accuracy undefined for classes {}'.format(', '.join(classes)))\n",
    "\n",
    "    # Compute confusion matrix.\n",
    "    assert(np.shape(labels) == np.shape(outputs))\n",
    "    A = compute_confusion_matrix(labels, outputs)\n",
    "\n",
    "    # Multiply the confusion matrix by the weight matrix.\n",
    "    assert(np.shape(A) == np.shape(weights))\n",
    "    B = weights * A\n",
    "\n",
    "    # Compute weighted_accuracy.\n",
    "    if np.sum(B) > 0:\n",
    "        weighted_accuracy = np.trace(B) / np.sum(B)\n",
    "    else:\n",
    "        weighted_accuracy = float('nan')\n",
    "\n",
    "    return weighted_accuracy"
   ]
  },
  {
   "cell_type": "code",
   "execution_count": 28,
   "id": "71183ef4",
   "metadata": {},
   "outputs": [],
   "source": [
    "def compute_confusion_matrix(labels, outputs):\n",
    "    assert(np.shape(labels)[0] == np.shape(outputs)[0])\n",
    "    assert(all(value in (0, 1, True, False) for value in np.unique(labels)))\n",
    "    assert(all(value in (0, 1, True, False) for value in np.unique(outputs)))\n",
    "\n",
    "    num_patients = np.shape(labels)[0]\n",
    "    num_label_classes = np.shape(labels)[1]\n",
    "    num_output_classes = np.shape(outputs)[1]\n",
    "\n",
    "    A = np.zeros((num_output_classes, num_label_classes))\n",
    "    for k in range(num_patients):\n",
    "        for i in range(num_output_classes):\n",
    "            for j in range(num_label_classes):\n",
    "                if outputs[k, i] == 1 and labels[k, j] == 1:\n",
    "                    A[i, j] += 1\n",
    "\n",
    "    return A"
   ]
  },
  {
   "cell_type": "code",
   "execution_count": 151,
   "id": "2644ead9",
   "metadata": {},
   "outputs": [
    {
     "data": {
      "text/plain": [
       "3"
      ]
     },
     "execution_count": 151,
     "metadata": {},
     "output_type": "execute_result"
    }
   ],
   "source": [
    "np.shape(labels)[0]"
   ]
  },
  {
   "cell_type": "code",
   "execution_count": 152,
   "id": "0af64a34",
   "metadata": {},
   "outputs": [
    {
     "ename": "IndexError",
     "evalue": "tuple index out of range",
     "output_type": "error",
     "traceback": [
      "\u001b[0;31m---------------------------------------------------------------------------\u001b[0m",
      "\u001b[0;31mIndexError\u001b[0m                                Traceback (most recent call last)",
      "Input \u001b[0;32mIn [152]\u001b[0m, in \u001b[0;36m<cell line: 1>\u001b[0;34m()\u001b[0m\n\u001b[0;32m----> 1\u001b[0m \u001b[43mnp\u001b[49m\u001b[38;5;241;43m.\u001b[39;49m\u001b[43mshape\u001b[49m\u001b[43m(\u001b[49m\u001b[43mlabels\u001b[49m\u001b[43m)\u001b[49m\u001b[43m[\u001b[49m\u001b[38;5;241;43m1\u001b[39;49m\u001b[43m]\u001b[49m\n",
      "\u001b[0;31mIndexError\u001b[0m: tuple index out of range"
     ]
    }
   ],
   "source": [
    "np.shape(labels)[1]"
   ]
  },
  {
   "cell_type": "code",
   "execution_count": null,
   "id": "4d45cda0",
   "metadata": {},
   "outputs": [],
   "source": []
  },
  {
   "cell_type": "code",
   "execution_count": null,
   "id": "dc34268f",
   "metadata": {},
   "outputs": [],
   "source": []
  },
  {
   "cell_type": "code",
   "execution_count": null,
   "id": "0b57d9e9",
   "metadata": {},
   "outputs": [],
   "source": []
  },
  {
   "cell_type": "code",
   "execution_count": null,
   "id": "2b164858",
   "metadata": {},
   "outputs": [],
   "source": []
  },
  {
   "cell_type": "code",
   "execution_count": null,
   "id": "5e01d7bb",
   "metadata": {},
   "outputs": [],
   "source": []
  },
  {
   "cell_type": "code",
   "execution_count": null,
   "id": "29b84d02",
   "metadata": {},
   "outputs": [],
   "source": []
  },
  {
   "cell_type": "code",
   "execution_count": null,
   "id": "7f5df837",
   "metadata": {},
   "outputs": [],
   "source": []
  },
  {
   "cell_type": "code",
   "execution_count": null,
   "id": "85acff69",
   "metadata": {},
   "outputs": [],
   "source": []
  },
  {
   "cell_type": "code",
   "execution_count": null,
   "id": "a5064ef0",
   "metadata": {},
   "outputs": [],
   "source": []
  },
  {
   "cell_type": "code",
   "execution_count": 258,
   "id": "f1d6520e",
   "metadata": {
    "scrolled": true
   },
   "outputs": [
    {
     "name": "stdout",
     "output_type": "stream",
     "text": [
      "Finding data files...\n",
      "Extracting features and labels from the Challenge data...\n",
      "Training model...\n"
     ]
    },
    {
     "name": "stderr",
     "output_type": "stream",
     "text": [
      "  0%|                                                    | 0/40 [00:00<?, ?it/s]"
     ]
    },
    {
     "name": "stdout",
     "output_type": "stream",
     "text": [
      "torch.Size([64, 128, 34, 1])\n",
      "torch.Size([64, 1, 128, 34])\n",
      "torch.Size([64, 64, 128, 17])\n",
      "torch.Size([64, 64, 128, 17])\n",
      "torch.Size([64, 128, 128, 8])\n",
      "torch.Size([64, 512, 32, 2])\n",
      "torch.Size([64, 512])\n",
      "torch.Size([64, 512])\n",
      "torch.Size([64, 512])\n",
      "fc통과: torch.Size([64, 507])\n",
      "torch.Size([64, 512])\n"
     ]
    },
    {
     "name": "stderr",
     "output_type": "stream",
     "text": [
      "  2%|█                                           | 1/40 [00:00<00:08,  4.72it/s]"
     ]
    },
    {
     "name": "stdout",
     "output_type": "stream",
     "text": [
      "torch.Size([64, 128, 39, 1])\n",
      "torch.Size([64, 1, 128, 39])\n",
      "torch.Size([64, 64, 128, 19])\n",
      "torch.Size([64, 64, 128, 19])\n",
      "torch.Size([64, 128, 128, 9])\n",
      "torch.Size([64, 512, 32, 2])\n",
      "torch.Size([64, 512])\n",
      "torch.Size([64, 512])\n",
      "torch.Size([64, 512])\n",
      "fc통과: torch.Size([64, 507])\n",
      "torch.Size([64, 512])\n"
     ]
    },
    {
     "name": "stderr",
     "output_type": "stream",
     "text": [
      "  5%|██▏                                         | 2/40 [00:00<00:08,  4.59it/s]"
     ]
    },
    {
     "name": "stdout",
     "output_type": "stream",
     "text": [
      "torch.Size([64, 128, 48, 1])\n",
      "torch.Size([64, 1, 128, 48])\n",
      "torch.Size([64, 64, 128, 24])\n",
      "torch.Size([64, 64, 128, 24])\n",
      "torch.Size([64, 128, 128, 12])\n",
      "torch.Size([64, 512, 32, 3])\n",
      "torch.Size([64, 512])\n",
      "torch.Size([64, 512])\n",
      "torch.Size([64, 512])\n",
      "fc통과: torch.Size([64, 507])\n",
      "torch.Size([64, 512])\n"
     ]
    },
    {
     "name": "stderr",
     "output_type": "stream",
     "text": [
      "  8%|███▎                                        | 3/40 [00:00<00:08,  4.31it/s]"
     ]
    },
    {
     "name": "stdout",
     "output_type": "stream",
     "text": [
      "torch.Size([64, 128, 40, 1])\n",
      "torch.Size([64, 1, 128, 40])\n",
      "torch.Size([64, 64, 128, 20])\n",
      "torch.Size([64, 64, 128, 20])\n",
      "torch.Size([64, 128, 128, 10])\n",
      "torch.Size([64, 512, 32, 2])\n",
      "torch.Size([64, 512])\n",
      "torch.Size([64, 512])\n",
      "torch.Size([64, 512])\n",
      "fc통과: torch.Size([64, 507])\n",
      "torch.Size([64, 512])\n"
     ]
    },
    {
     "name": "stderr",
     "output_type": "stream",
     "text": [
      " 10%|████▍                                       | 4/40 [00:00<00:08,  4.37it/s]"
     ]
    },
    {
     "name": "stdout",
     "output_type": "stream",
     "text": [
      "torch.Size([64, 128, 42, 1])\n",
      "torch.Size([64, 1, 128, 42])\n",
      "torch.Size([64, 64, 128, 21])\n",
      "torch.Size([64, 64, 128, 21])\n",
      "torch.Size([64, 128, 128, 10])\n",
      "torch.Size([64, 512, 32, 2])\n",
      "torch.Size([64, 512])\n",
      "torch.Size([64, 512])\n",
      "torch.Size([64, 512])\n",
      "fc통과: torch.Size([64, 507])\n",
      "torch.Size([64, 512])\n"
     ]
    },
    {
     "name": "stderr",
     "output_type": "stream",
     "text": [
      " 12%|█████▌                                      | 5/40 [00:01<00:08,  4.33it/s]"
     ]
    },
    {
     "name": "stdout",
     "output_type": "stream",
     "text": [
      "torch.Size([64, 128, 52, 1])\n",
      "torch.Size([64, 1, 128, 52])\n",
      "torch.Size([64, 64, 128, 26])\n",
      "torch.Size([64, 64, 128, 26])\n",
      "torch.Size([64, 128, 128, 13])\n",
      "torch.Size([64, 512, 32, 3])\n",
      "torch.Size([64, 512])\n",
      "torch.Size([64, 512])\n",
      "torch.Size([64, 512])\n",
      "fc통과: torch.Size([64, 507])\n",
      "torch.Size([64, 512])\n"
     ]
    },
    {
     "name": "stderr",
     "output_type": "stream",
     "text": [
      " 15%|██████▌                                     | 6/40 [00:01<00:08,  4.09it/s]"
     ]
    },
    {
     "name": "stdout",
     "output_type": "stream",
     "text": [
      "torch.Size([64, 128, 40, 1])\n",
      "torch.Size([64, 1, 128, 40])\n",
      "torch.Size([64, 64, 128, 20])\n",
      "torch.Size([64, 64, 128, 20])\n",
      "torch.Size([64, 128, 128, 10])\n",
      "torch.Size([64, 512, 32, 2])\n",
      "torch.Size([64, 512])\n",
      "torch.Size([64, 512])\n",
      "torch.Size([64, 512])\n",
      "fc통과: torch.Size([64, 507])\n",
      "torch.Size([64, 512])\n"
     ]
    },
    {
     "name": "stderr",
     "output_type": "stream",
     "text": [
      " 18%|███████▋                                    | 7/40 [00:01<00:07,  4.17it/s]"
     ]
    },
    {
     "name": "stdout",
     "output_type": "stream",
     "text": [
      "torch.Size([64, 128, 64, 1])\n",
      "torch.Size([64, 1, 128, 64])\n",
      "torch.Size([64, 64, 128, 32])\n",
      "torch.Size([64, 64, 128, 32])\n",
      "torch.Size([64, 128, 128, 16])\n",
      "torch.Size([64, 512, 32, 4])\n",
      "torch.Size([64, 512])\n",
      "torch.Size([64, 512])\n",
      "torch.Size([64, 512])\n",
      "fc통과: torch.Size([64, 507])\n",
      "torch.Size([64, 512])\n"
     ]
    },
    {
     "name": "stderr",
     "output_type": "stream",
     "text": [
      " 20%|████████▊                                   | 8/40 [00:01<00:07,  4.02it/s]"
     ]
    },
    {
     "name": "stdout",
     "output_type": "stream",
     "text": [
      "torch.Size([64, 128, 42, 1])\n",
      "torch.Size([64, 1, 128, 42])\n",
      "torch.Size([64, 64, 128, 21])\n",
      "torch.Size([64, 64, 128, 21])\n",
      "torch.Size([64, 128, 128, 10])\n",
      "torch.Size([64, 512, 32, 2])\n",
      "torch.Size([64, 512])\n",
      "torch.Size([64, 512])\n",
      "torch.Size([64, 512])\n",
      "fc통과: torch.Size([64, 507])\n",
      "torch.Size([64, 512])\n"
     ]
    },
    {
     "name": "stderr",
     "output_type": "stream",
     "text": [
      " 22%|█████████▉                                  | 9/40 [00:02<00:07,  4.10it/s]"
     ]
    },
    {
     "name": "stdout",
     "output_type": "stream",
     "text": [
      "torch.Size([64, 128, 38, 1])\n",
      "torch.Size([64, 1, 128, 38])\n",
      "torch.Size([64, 64, 128, 19])\n",
      "torch.Size([64, 64, 128, 19])\n",
      "torch.Size([64, 128, 128, 9])\n",
      "torch.Size([64, 512, 32, 2])\n",
      "torch.Size([64, 512])\n",
      "torch.Size([64, 512])\n",
      "torch.Size([64, 512])\n",
      "fc통과: torch.Size([64, 507])\n",
      "torch.Size([64, 512])\n"
     ]
    },
    {
     "name": "stderr",
     "output_type": "stream",
     "text": [
      " 25%|██████████▊                                | 10/40 [00:02<00:07,  4.27it/s]"
     ]
    },
    {
     "name": "stdout",
     "output_type": "stream",
     "text": [
      "torch.Size([64, 128, 54, 1])\n",
      "torch.Size([64, 1, 128, 54])\n",
      "torch.Size([64, 64, 128, 27])\n",
      "torch.Size([64, 64, 128, 27])\n",
      "torch.Size([64, 128, 128, 13])\n",
      "torch.Size([64, 512, 32, 3])\n",
      "torch.Size([64, 512])\n",
      "torch.Size([64, 512])\n",
      "torch.Size([64, 512])\n",
      "fc통과: torch.Size([64, 507])\n",
      "torch.Size([64, 512])\n"
     ]
    },
    {
     "name": "stderr",
     "output_type": "stream",
     "text": [
      " 28%|███████████▊                               | 11/40 [00:02<00:07,  4.05it/s]"
     ]
    },
    {
     "name": "stdout",
     "output_type": "stream",
     "text": [
      "torch.Size([64, 128, 58, 1])\n",
      "torch.Size([64, 1, 128, 58])\n",
      "torch.Size([64, 64, 128, 29])\n",
      "torch.Size([64, 64, 128, 29])\n",
      "torch.Size([64, 128, 128, 14])\n",
      "torch.Size([64, 512, 32, 3])\n",
      "torch.Size([64, 512])\n",
      "torch.Size([64, 512])\n",
      "torch.Size([64, 512])\n",
      "fc통과: torch.Size([64, 507])\n",
      "torch.Size([64, 512])\n"
     ]
    },
    {
     "name": "stderr",
     "output_type": "stream",
     "text": [
      " 30%|████████████▉                              | 12/40 [00:02<00:07,  3.83it/s]"
     ]
    },
    {
     "name": "stdout",
     "output_type": "stream",
     "text": [
      "torch.Size([64, 128, 61, 1])\n",
      "torch.Size([64, 1, 128, 61])\n",
      "torch.Size([64, 64, 128, 30])\n",
      "torch.Size([64, 64, 128, 30])\n",
      "torch.Size([64, 128, 128, 15])\n",
      "torch.Size([64, 512, 32, 3])\n",
      "torch.Size([64, 512])\n",
      "torch.Size([64, 512])\n",
      "torch.Size([64, 512])\n",
      "fc통과: torch.Size([64, 507])\n",
      "torch.Size([64, 512])\n"
     ]
    },
    {
     "name": "stderr",
     "output_type": "stream",
     "text": [
      " 32%|█████████████▉                             | 13/40 [00:03<00:11,  2.27it/s]"
     ]
    },
    {
     "name": "stdout",
     "output_type": "stream",
     "text": [
      "torch.Size([64, 128, 37, 1])\n",
      "torch.Size([64, 1, 128, 37])\n",
      "torch.Size([64, 64, 128, 18])\n",
      "torch.Size([64, 64, 128, 18])\n",
      "torch.Size([64, 128, 128, 9])\n",
      "torch.Size([64, 512, 32, 2])\n",
      "torch.Size([64, 512])\n",
      "torch.Size([64, 512])\n",
      "torch.Size([64, 512])\n",
      "fc통과: torch.Size([64, 507])\n",
      "torch.Size([64, 512])\n"
     ]
    },
    {
     "name": "stderr",
     "output_type": "stream",
     "text": [
      " 35%|███████████████                            | 14/40 [00:03<00:09,  2.69it/s]"
     ]
    },
    {
     "name": "stdout",
     "output_type": "stream",
     "text": [
      "torch.Size([64, 128, 41, 1])\n",
      "torch.Size([64, 1, 128, 41])\n",
      "torch.Size([64, 64, 128, 20])\n",
      "torch.Size([64, 64, 128, 20])\n",
      "torch.Size([64, 128, 128, 10])\n",
      "torch.Size([64, 512, 32, 2])\n",
      "torch.Size([64, 512])\n",
      "torch.Size([64, 512])\n",
      "torch.Size([64, 512])\n",
      "fc통과: torch.Size([64, 507])\n",
      "torch.Size([64, 512])\n"
     ]
    },
    {
     "name": "stderr",
     "output_type": "stream",
     "text": [
      " 40%|█████████████████▏                         | 16/40 [00:04<00:06,  3.45it/s]"
     ]
    },
    {
     "name": "stdout",
     "output_type": "stream",
     "text": [
      "torch.Size([64, 128, 35, 1])\n",
      "torch.Size([64, 1, 128, 35])\n",
      "torch.Size([64, 64, 128, 17])\n",
      "torch.Size([64, 64, 128, 17])\n",
      "torch.Size([64, 128, 128, 8])\n",
      "torch.Size([64, 512, 32, 2])\n",
      "torch.Size([64, 512])\n",
      "torch.Size([64, 512])\n",
      "torch.Size([64, 512])\n",
      "fc통과: torch.Size([64, 507])\n",
      "torch.Size([64, 512])\n",
      "torch.Size([64, 128, 48, 1])\n",
      "torch.Size([64, 1, 128, 48])\n",
      "torch.Size([64, 64, 128, 24])\n",
      "torch.Size([64, 64, 128, 24])\n",
      "torch.Size([64, 128, 128, 12])\n",
      "torch.Size([64, 512, 32, 3])\n",
      "torch.Size([64, 512])\n",
      "torch.Size([64, 512])\n",
      "torch.Size([64, 512])\n",
      "fc통과: torch.Size([64, 507])\n",
      "torch.Size([64, 512])\n"
     ]
    },
    {
     "name": "stderr",
     "output_type": "stream",
     "text": [
      " 42%|██████████████████▎                        | 17/40 [00:04<00:06,  3.60it/s]"
     ]
    },
    {
     "name": "stdout",
     "output_type": "stream",
     "text": [
      "torch.Size([64, 128, 40, 1])\n",
      "torch.Size([64, 1, 128, 40])\n",
      "torch.Size([64, 64, 128, 20])\n",
      "torch.Size([64, 64, 128, 20])\n",
      "torch.Size([64, 128, 128, 10])\n",
      "torch.Size([64, 512, 32, 2])\n",
      "torch.Size([64, 512])\n",
      "torch.Size([64, 512])\n",
      "torch.Size([64, 512])\n",
      "fc통과: torch.Size([64, 507])\n",
      "torch.Size([64, 512])\n"
     ]
    },
    {
     "name": "stderr",
     "output_type": "stream",
     "text": [
      " 48%|████████████████████▍                      | 19/40 [00:05<00:05,  4.15it/s]"
     ]
    },
    {
     "name": "stdout",
     "output_type": "stream",
     "text": [
      "torch.Size([64, 128, 33, 1])\n",
      "torch.Size([64, 1, 128, 33])\n",
      "torch.Size([64, 64, 128, 16])\n",
      "torch.Size([64, 64, 128, 16])\n",
      "torch.Size([64, 128, 128, 8])\n",
      "torch.Size([64, 512, 32, 2])\n",
      "torch.Size([64, 512])\n",
      "torch.Size([64, 512])\n",
      "torch.Size([64, 512])\n",
      "fc통과: torch.Size([64, 507])\n",
      "torch.Size([64, 512])\n",
      "torch.Size([64, 128, 33, 1])\n",
      "torch.Size([64, 1, 128, 33])\n",
      "torch.Size([64, 64, 128, 16])\n",
      "torch.Size([64, 64, 128, 16])\n",
      "torch.Size([64, 128, 128, 8])\n",
      "torch.Size([64, 512, 32, 2])\n",
      "torch.Size([64, 512])\n",
      "torch.Size([64, 512])\n",
      "torch.Size([64, 512])\n",
      "fc통과: torch.Size([64, 507])\n",
      "torch.Size([64, 512])\n"
     ]
    },
    {
     "name": "stderr",
     "output_type": "stream",
     "text": [
      " 52%|██████████████████████▌                    | 21/40 [00:05<00:04,  4.58it/s]"
     ]
    },
    {
     "name": "stdout",
     "output_type": "stream",
     "text": [
      "torch.Size([64, 128, 35, 1])\n",
      "torch.Size([64, 1, 128, 35])\n",
      "torch.Size([64, 64, 128, 17])\n",
      "torch.Size([64, 64, 128, 17])\n",
      "torch.Size([64, 128, 128, 8])\n",
      "torch.Size([64, 512, 32, 2])\n",
      "torch.Size([64, 512])\n",
      "torch.Size([64, 512])\n",
      "torch.Size([64, 512])\n",
      "fc통과: torch.Size([64, 507])\n",
      "torch.Size([64, 512])\n"
     ]
    },
    {
     "name": "stderr",
     "output_type": "stream",
     "text": [
      " 55%|███████████████████████▋                   | 22/40 [00:05<00:03,  4.68it/s]"
     ]
    },
    {
     "name": "stdout",
     "output_type": "stream",
     "text": [
      "torch.Size([64, 128, 35, 1])\n",
      "torch.Size([64, 1, 128, 35])\n",
      "torch.Size([64, 64, 128, 17])\n",
      "torch.Size([64, 64, 128, 17])\n",
      "torch.Size([64, 128, 128, 8])\n",
      "torch.Size([64, 512, 32, 2])\n",
      "torch.Size([64, 512])\n",
      "torch.Size([64, 512])\n",
      "torch.Size([64, 512])\n",
      "fc통과: torch.Size([64, 507])\n",
      "torch.Size([64, 512])\n",
      "torch.Size([64, 128, 32, 1])\n"
     ]
    },
    {
     "name": "stderr",
     "output_type": "stream",
     "text": [
      " 57%|████████████████████████▋                  | 23/40 [00:05<00:03,  4.78it/s]"
     ]
    },
    {
     "name": "stdout",
     "output_type": "stream",
     "text": [
      "torch.Size([64, 1, 128, 32])\n",
      "torch.Size([64, 64, 128, 16])\n",
      "torch.Size([64, 64, 128, 16])\n",
      "torch.Size([64, 128, 128, 8])\n",
      "torch.Size([64, 512, 32, 2])\n",
      "torch.Size([64, 512])\n",
      "torch.Size([64, 512])\n",
      "torch.Size([64, 512])\n",
      "fc통과: torch.Size([64, 507])\n",
      "torch.Size([64, 512])\n",
      "torch.Size([64, 128, 37, 1])\n",
      "torch.Size([64, 1, 128, 37])\n",
      "torch.Size([64, 64, 128, 18])\n",
      "torch.Size([64, 64, 128, 18])\n",
      "torch.Size([64, 128, 128, 9])\n",
      "torch.Size([64, 512, 32, 2])\n",
      "torch.Size([64, 512])\n",
      "torch.Size([64, 512])\n",
      "torch.Size([64, 512])\n",
      "fc통과: torch.Size([64, 507])\n",
      "torch.Size([64, 512])\n"
     ]
    },
    {
     "name": "stderr",
     "output_type": "stream",
     "text": [
      " 60%|█████████████████████████▊                 | 24/40 [00:06<00:03,  4.79it/s]"
     ]
    },
    {
     "name": "stdout",
     "output_type": "stream",
     "text": [
      "torch.Size([64, 128, 47, 1])\n",
      "torch.Size([64, 1, 128, 47])\n",
      "torch.Size([64, 64, 128, 23])\n",
      "torch.Size([64, 64, 128, 23])\n",
      "torch.Size([64, 128, 128, 11])\n",
      "torch.Size([64, 512, 32, 2])\n",
      "torch.Size([64, 512])\n",
      "torch.Size([64, 512])\n",
      "torch.Size([64, 512])\n",
      "fc통과: torch.Size([64, 507])\n",
      "torch.Size([64, 512])\n"
     ]
    },
    {
     "name": "stderr",
     "output_type": "stream",
     "text": [
      " 65%|███████████████████████████▉               | 26/40 [00:06<00:02,  4.71it/s]"
     ]
    },
    {
     "name": "stdout",
     "output_type": "stream",
     "text": [
      "torch.Size([64, 128, 34, 1])\n",
      "torch.Size([64, 1, 128, 34])\n",
      "torch.Size([64, 64, 128, 17])\n",
      "torch.Size([64, 64, 128, 17])\n",
      "torch.Size([64, 128, 128, 8])\n",
      "torch.Size([64, 512, 32, 2])\n",
      "torch.Size([64, 512])\n",
      "torch.Size([64, 512])\n",
      "torch.Size([64, 512])\n",
      "fc통과: torch.Size([64, 507])\n",
      "torch.Size([64, 512])\n",
      "torch.Size([64, 128, 24, 1])\n",
      "torch.Size([64, 1, 128, 24])\n",
      "torch.Size([64, 64, 128, 12])\n",
      "torch.Size([64, 64, 128, 12])\n",
      "torch.Size([64, 128, 128, 6])\n",
      "torch.Size([64, 512, 32, 1])\n",
      "torch.Size([64, 512])\n",
      "torch.Size([64, 512])\n",
      "torch.Size([64, 512])\n",
      "fc통과: torch.Size([64, 507])\n",
      "torch.Size([64, 512])\n"
     ]
    },
    {
     "name": "stderr",
     "output_type": "stream",
     "text": [
      " 70%|██████████████████████████████             | 28/40 [00:06<00:02,  5.28it/s]"
     ]
    },
    {
     "name": "stdout",
     "output_type": "stream",
     "text": [
      "torch.Size([64, 128, 25, 1])\n",
      "torch.Size([64, 1, 128, 25])\n",
      "torch.Size([64, 64, 128, 12])\n",
      "torch.Size([64, 64, 128, 12])\n",
      "torch.Size([64, 128, 128, 6])\n",
      "torch.Size([64, 512, 32, 1])\n",
      "torch.Size([64, 512])\n",
      "torch.Size([64, 512])\n",
      "torch.Size([64, 512])\n",
      "fc통과: torch.Size([64, 507])\n",
      "torch.Size([64, 512])\n",
      "torch.Size([64, 128, 30, 1])\n",
      "torch.Size([64, 1, 128, 30])\n",
      "torch.Size([64, 64, 128, 15])\n",
      "torch.Size([64, 64, 128, 15])\n",
      "torch.Size([64, 128, 128, 7])\n",
      "torch.Size([64, 512, 32, 1])\n",
      "torch.Size([64, 512])\n",
      "torch.Size([64, 512])\n",
      "torch.Size([64, 512])\n",
      "fc통과: torch.Size([64, 507])\n",
      "torch.Size([64, 512])\n"
     ]
    },
    {
     "name": "stderr",
     "output_type": "stream",
     "text": [
      " 72%|███████████████████████████████▏           | 29/40 [00:07<00:02,  5.31it/s]"
     ]
    },
    {
     "name": "stdout",
     "output_type": "stream",
     "text": [
      "torch.Size([64, 128, 37, 1])\n",
      "torch.Size([64, 1, 128, 37])\n",
      "torch.Size([64, 64, 128, 18])\n",
      "torch.Size([64, 64, 128, 18])\n",
      "torch.Size([64, 128, 128, 9])\n",
      "torch.Size([64, 512, 32, 2])\n",
      "torch.Size([64, 512])\n",
      "torch.Size([64, 512])\n",
      "torch.Size([64, 512])\n",
      "fc통과: torch.Size([64, 507])\n",
      "torch.Size([64, 512])\n"
     ]
    },
    {
     "name": "stderr",
     "output_type": "stream",
     "text": [
      " 78%|█████████████████████████████████▎         | 31/40 [00:07<00:01,  5.16it/s]"
     ]
    },
    {
     "name": "stdout",
     "output_type": "stream",
     "text": [
      "torch.Size([64, 128, 33, 1])\n",
      "torch.Size([64, 1, 128, 33])\n",
      "torch.Size([64, 64, 128, 16])\n",
      "torch.Size([64, 64, 128, 16])\n",
      "torch.Size([64, 128, 128, 8])\n",
      "torch.Size([64, 512, 32, 2])\n",
      "torch.Size([64, 512])\n",
      "torch.Size([64, 512])\n",
      "torch.Size([64, 512])\n",
      "fc통과: torch.Size([64, 507])\n",
      "torch.Size([64, 512])\n",
      "torch.Size([64, 128, 36, 1])\n",
      "torch.Size([64, 1, 128, 36])\n",
      "torch.Size([64, 64, 128, 18])\n",
      "torch.Size([64, 64, 128, 18])\n",
      "torch.Size([64, 128, 128, 9])\n",
      "torch.Size([64, 512, 32, 2])\n",
      "torch.Size([64, 512])\n",
      "torch.Size([64, 512])\n",
      "torch.Size([64, 512])\n",
      "fc통과: torch.Size([64, 507])\n",
      "torch.Size([64, 512])\n"
     ]
    },
    {
     "name": "stderr",
     "output_type": "stream",
     "text": [
      " 82%|███████████████████████████████████▍       | 33/40 [00:07<00:01,  5.08it/s]"
     ]
    },
    {
     "name": "stdout",
     "output_type": "stream",
     "text": [
      "torch.Size([64, 128, 34, 1])\n",
      "torch.Size([64, 1, 128, 34])\n",
      "torch.Size([64, 64, 128, 17])\n",
      "torch.Size([64, 64, 128, 17])\n",
      "torch.Size([64, 128, 128, 8])\n",
      "torch.Size([64, 512, 32, 2])\n",
      "torch.Size([64, 512])\n",
      "torch.Size([64, 512])\n",
      "torch.Size([64, 512])\n",
      "fc통과: torch.Size([64, 507])\n",
      "torch.Size([64, 512])\n",
      "torch.Size([64, 128, 33, 1])\n",
      "torch.Size([64, 1, 128, 33])\n",
      "torch.Size([64, 64, 128, 16])\n",
      "torch.Size([64, 64, 128, 16])\n",
      "torch.Size([64, 128, 128, 8])\n",
      "torch.Size([64, 512, 32, 2])\n",
      "torch.Size([64, 512])\n",
      "torch.Size([64, 512])\n",
      "torch.Size([64, 512])\n",
      "fc통과: torch.Size([64, 507])\n",
      "torch.Size([64, 512])\n"
     ]
    },
    {
     "name": "stderr",
     "output_type": "stream",
     "text": [
      " 88%|█████████████████████████████████████▋     | 35/40 [00:08<00:00,  5.15it/s]"
     ]
    },
    {
     "name": "stdout",
     "output_type": "stream",
     "text": [
      "torch.Size([64, 128, 32, 1])\n",
      "torch.Size([64, 1, 128, 32])\n",
      "torch.Size([64, 64, 128, 16])\n",
      "torch.Size([64, 64, 128, 16])\n",
      "torch.Size([64, 128, 128, 8])\n",
      "torch.Size([64, 512, 32, 2])\n",
      "torch.Size([64, 512])\n",
      "torch.Size([64, 512])\n",
      "torch.Size([64, 512])\n",
      "fc통과: torch.Size([64, 507])\n",
      "torch.Size([64, 512])\n",
      "torch.Size([64, 128, 36, 1])\n",
      "torch.Size([64, 1, 128, 36])\n",
      "torch.Size([64, 64, 128, 18])\n",
      "torch.Size([64, 64, 128, 18])\n",
      "torch.Size([64, 128, 128, 9])\n",
      "torch.Size([64, 512, 32, 2])\n",
      "torch.Size([64, 512])\n",
      "torch.Size([64, 512])\n",
      "torch.Size([64, 512])\n",
      "fc통과: torch.Size([64, 507])\n",
      "torch.Size([64, 512])\n"
     ]
    },
    {
     "name": "stderr",
     "output_type": "stream",
     "text": [
      " 92%|███████████████████████████████████████▊   | 37/40 [00:08<00:00,  5.07it/s]"
     ]
    },
    {
     "name": "stdout",
     "output_type": "stream",
     "text": [
      "torch.Size([64, 128, 34, 1])\n",
      "torch.Size([64, 1, 128, 34])\n",
      "torch.Size([64, 64, 128, 17])\n",
      "torch.Size([64, 64, 128, 17])\n",
      "torch.Size([64, 128, 128, 8])\n",
      "torch.Size([64, 512, 32, 2])\n",
      "torch.Size([64, 512])\n",
      "torch.Size([64, 512])\n",
      "torch.Size([64, 512])\n",
      "fc통과: torch.Size([64, 507])\n",
      "torch.Size([64, 512])\n",
      "torch.Size([64, 128, 35, 1])\n",
      "torch.Size([64, 1, 128, 35])\n",
      "torch.Size([64, 64, 128, 17])\n",
      "torch.Size([64, 64, 128, 17])\n",
      "torch.Size([64, 128, 128, 8])\n",
      "torch.Size([64, 512, 32, 2])\n",
      "torch.Size([64, 512])\n",
      "torch.Size([64, 512])\n",
      "torch.Size([64, 512])\n",
      "fc통과: torch.Size([64, 507])\n",
      "torch.Size([64, 512])\n"
     ]
    },
    {
     "name": "stderr",
     "output_type": "stream",
     "text": [
      " 98%|█████████████████████████████████████████▉ | 39/40 [00:09<00:00,  5.11it/s]"
     ]
    },
    {
     "name": "stdout",
     "output_type": "stream",
     "text": [
      "torch.Size([64, 128, 33, 1])\n",
      "torch.Size([64, 1, 128, 33])\n",
      "torch.Size([64, 64, 128, 16])\n",
      "torch.Size([64, 64, 128, 16])\n",
      "torch.Size([64, 128, 128, 8])\n",
      "torch.Size([64, 512, 32, 2])\n",
      "torch.Size([64, 512])\n",
      "torch.Size([64, 512])\n",
      "torch.Size([64, 512])\n",
      "fc통과: torch.Size([64, 507])\n",
      "torch.Size([64, 512])\n",
      "torch.Size([36, 128, 33, 1])\n",
      "torch.Size([36, 1, 128, 33])\n",
      "torch.Size([36, 64, 128, 16])\n",
      "torch.Size([36, 64, 128, 16])\n",
      "torch.Size([36, 128, 128, 8])\n",
      "torch.Size([36, 512, 32, 2])\n",
      "torch.Size([36, 512])\n",
      "torch.Size([36, 512])\n",
      "torch.Size([36, 512])\n",
      "fc통과: torch.Size([36, 507])\n",
      "torch.Size([36, 512])\n"
     ]
    },
    {
     "name": "stderr",
     "output_type": "stream",
     "text": [
      "100%|███████████████████████████████████████████| 40/40 [00:09<00:00,  4.40it/s]"
     ]
    },
    {
     "name": "stdout",
     "output_type": "stream",
     "text": [
      "07-04 16:49 [MainProcess, 23066] [INFO ]  Iteration:0, loss = 1.196524, acc = 85.000 \n",
      "07-04 16:49 [MainProcess, 23066] [INFO ]  Iteration:0, loss = 1.196524, acc = 85.000 \n",
      "07-04 16:49 [MainProcess, 23066] [INFO ]  Iteration:0, loss = 1.196524, acc = 85.000 \n",
      "07-04 16:49 [MainProcess, 23066] [INFO ]  Iteration:0, loss = 1.196524, acc = 85.000 \n",
      "07-04 16:49 [MainProcess, 23066] [INFO ]  Iteration:0, loss = 1.196524, acc = 85.000 \n",
      "07-04 16:49 [MainProcess, 23066] [INFO ]  Iteration:0, loss = 1.196524, acc = 85.000 \n",
      "07-04 16:49 [MainProcess, 23066] [INFO ]  Iteration:0, loss = 1.196524, acc = 85.000 \n",
      "07-04 16:49 [MainProcess, 23066] [INFO ]  Iteration:0, loss = 1.196524, acc = 85.000 \n"
     ]
    },
    {
     "name": "stderr",
     "output_type": "stream",
     "text": [
      "\n",
      "  0%|                                                    | 0/40 [00:00<?, ?it/s]"
     ]
    },
    {
     "name": "stdout",
     "output_type": "stream",
     "text": [
      "torch.Size([64, 128, 34, 1])\n",
      "torch.Size([64, 1, 128, 34])\n",
      "torch.Size([64, 64, 128, 17])\n",
      "torch.Size([64, 64, 128, 17])\n",
      "torch.Size([64, 128, 128, 8])\n",
      "torch.Size([64, 512, 32, 2])\n",
      "torch.Size([64, 512])\n",
      "torch.Size([64, 512])\n",
      "torch.Size([64, 512])\n",
      "fc통과: torch.Size([64, 507])\n",
      "torch.Size([64, 512])\n"
     ]
    },
    {
     "name": "stderr",
     "output_type": "stream",
     "text": [
      "  2%|█                                           | 1/40 [00:00<00:07,  5.13it/s]"
     ]
    },
    {
     "name": "stdout",
     "output_type": "stream",
     "text": [
      "torch.Size([64, 128, 39, 1])\n",
      "torch.Size([64, 1, 128, 39])\n",
      "torch.Size([64, 64, 128, 19])\n",
      "torch.Size([64, 64, 128, 19])\n",
      "torch.Size([64, 128, 128, 9])\n",
      "torch.Size([64, 512, 32, 2])\n",
      "torch.Size([64, 512])\n",
      "torch.Size([64, 512])\n",
      "torch.Size([64, 512])\n",
      "fc통과: torch.Size([64, 507])\n",
      "torch.Size([64, 512])\n"
     ]
    },
    {
     "name": "stderr",
     "output_type": "stream",
     "text": [
      "  5%|██▏                                         | 2/40 [00:00<00:07,  4.85it/s]"
     ]
    },
    {
     "name": "stdout",
     "output_type": "stream",
     "text": [
      "torch.Size([64, 128, 48, 1])\n",
      "torch.Size([64, 1, 128, 48])\n",
      "torch.Size([64, 64, 128, 24])\n",
      "torch.Size([64, 64, 128, 24])\n",
      "torch.Size([64, 128, 128, 12])\n",
      "torch.Size([64, 512, 32, 3])\n",
      "torch.Size([64, 512])\n",
      "torch.Size([64, 512])\n",
      "torch.Size([64, 512])\n",
      "fc통과: torch.Size([64, 507])\n",
      "torch.Size([64, 512])\n"
     ]
    },
    {
     "name": "stderr",
     "output_type": "stream",
     "text": [
      "  8%|███▎                                        | 3/40 [00:00<00:08,  4.43it/s]"
     ]
    },
    {
     "name": "stdout",
     "output_type": "stream",
     "text": [
      "torch.Size([64, 128, 40, 1])\n",
      "torch.Size([64, 1, 128, 40])\n",
      "torch.Size([64, 64, 128, 20])\n",
      "torch.Size([64, 64, 128, 20])\n",
      "torch.Size([64, 128, 128, 10])\n",
      "torch.Size([64, 512, 32, 2])\n",
      "torch.Size([64, 512])\n",
      "torch.Size([64, 512])\n",
      "torch.Size([64, 512])\n",
      "fc통과: torch.Size([64, 507])\n",
      "torch.Size([64, 512])\n"
     ]
    },
    {
     "name": "stderr",
     "output_type": "stream",
     "text": [
      " 10%|████▍                                       | 4/40 [00:00<00:08,  4.44it/s]"
     ]
    },
    {
     "name": "stdout",
     "output_type": "stream",
     "text": [
      "torch.Size([64, 128, 42, 1])\n",
      "torch.Size([64, 1, 128, 42])\n",
      "torch.Size([64, 64, 128, 21])\n",
      "torch.Size([64, 64, 128, 21])\n",
      "torch.Size([64, 128, 128, 10])\n",
      "torch.Size([64, 512, 32, 2])\n",
      "torch.Size([64, 512])\n",
      "torch.Size([64, 512])\n",
      "torch.Size([64, 512])\n",
      "fc통과: torch.Size([64, 507])\n",
      "torch.Size([64, 512])\n"
     ]
    },
    {
     "name": "stderr",
     "output_type": "stream",
     "text": [
      " 12%|█████▌                                      | 5/40 [00:01<00:07,  4.38it/s]"
     ]
    },
    {
     "name": "stdout",
     "output_type": "stream",
     "text": [
      "torch.Size([64, 128, 52, 1])\n",
      "torch.Size([64, 1, 128, 52])\n",
      "torch.Size([64, 64, 128, 26])\n",
      "torch.Size([64, 64, 128, 26])\n",
      "torch.Size([64, 128, 128, 13])\n",
      "torch.Size([64, 512, 32, 3])\n",
      "torch.Size([64, 512])\n",
      "torch.Size([64, 512])\n",
      "torch.Size([64, 512])\n",
      "fc통과: torch.Size([64, 507])\n",
      "torch.Size([64, 512])\n"
     ]
    },
    {
     "name": "stderr",
     "output_type": "stream",
     "text": [
      " 15%|██████▌                                     | 6/40 [00:01<00:08,  4.13it/s]"
     ]
    },
    {
     "name": "stdout",
     "output_type": "stream",
     "text": [
      "torch.Size([64, 128, 40, 1])\n",
      "torch.Size([64, 1, 128, 40])\n",
      "torch.Size([64, 64, 128, 20])\n",
      "torch.Size([64, 64, 128, 20])\n",
      "torch.Size([64, 128, 128, 10])\n",
      "torch.Size([64, 512, 32, 2])\n",
      "torch.Size([64, 512])\n",
      "torch.Size([64, 512])\n",
      "torch.Size([64, 512])\n",
      "fc통과: torch.Size([64, 507])\n",
      "torch.Size([64, 512])\n"
     ]
    },
    {
     "name": "stderr",
     "output_type": "stream",
     "text": [
      " 18%|███████▋                                    | 7/40 [00:01<00:07,  4.23it/s]"
     ]
    },
    {
     "name": "stdout",
     "output_type": "stream",
     "text": [
      "torch.Size([64, 128, 64, 1])\n",
      "torch.Size([64, 1, 128, 64])\n",
      "torch.Size([64, 64, 128, 32])\n",
      "torch.Size([64, 64, 128, 32])\n",
      "torch.Size([64, 128, 128, 16])\n",
      "torch.Size([64, 512, 32, 4])\n",
      "torch.Size([64, 512])\n",
      "torch.Size([64, 512])\n",
      "torch.Size([64, 512])\n",
      "fc통과: torch.Size([64, 507])\n",
      "torch.Size([64, 512])\n"
     ]
    },
    {
     "name": "stderr",
     "output_type": "stream",
     "text": [
      " 20%|████████▊                                   | 8/40 [00:01<00:07,  4.07it/s]"
     ]
    },
    {
     "name": "stdout",
     "output_type": "stream",
     "text": [
      "torch.Size([64, 128, 42, 1])\n",
      "torch.Size([64, 1, 128, 42])\n",
      "torch.Size([64, 64, 128, 21])\n",
      "torch.Size([64, 64, 128, 21])\n",
      "torch.Size([64, 128, 128, 10])\n",
      "torch.Size([64, 512, 32, 2])\n",
      "torch.Size([64, 512])\n",
      "torch.Size([64, 512])\n",
      "torch.Size([64, 512])\n",
      "fc통과: torch.Size([64, 507])\n",
      "torch.Size([64, 512])\n"
     ]
    },
    {
     "name": "stderr",
     "output_type": "stream",
     "text": [
      " 22%|█████████▉                                  | 9/40 [00:02<00:07,  4.14it/s]"
     ]
    },
    {
     "name": "stdout",
     "output_type": "stream",
     "text": [
      "torch.Size([64, 128, 38, 1])\n",
      "torch.Size([64, 1, 128, 38])\n",
      "torch.Size([64, 64, 128, 19])\n",
      "torch.Size([64, 64, 128, 19])\n",
      "torch.Size([64, 128, 128, 9])\n",
      "torch.Size([64, 512, 32, 2])\n",
      "torch.Size([64, 512])\n",
      "torch.Size([64, 512])\n",
      "torch.Size([64, 512])\n",
      "fc통과: torch.Size([64, 507])\n",
      "torch.Size([64, 512])\n"
     ]
    },
    {
     "name": "stderr",
     "output_type": "stream",
     "text": [
      " 25%|██████████▊                                | 10/40 [00:02<00:06,  4.31it/s]"
     ]
    },
    {
     "name": "stdout",
     "output_type": "stream",
     "text": [
      "torch.Size([64, 128, 54, 1])\n",
      "torch.Size([64, 1, 128, 54])\n",
      "torch.Size([64, 64, 128, 27])\n",
      "torch.Size([64, 64, 128, 27])\n",
      "torch.Size([64, 128, 128, 13])\n",
      "torch.Size([64, 512, 32, 3])\n",
      "torch.Size([64, 512])\n",
      "torch.Size([64, 512])\n",
      "torch.Size([64, 512])\n",
      "fc통과: torch.Size([64, 507])\n",
      "torch.Size([64, 512])\n"
     ]
    },
    {
     "name": "stderr",
     "output_type": "stream",
     "text": [
      " 28%|███████████▊                               | 11/40 [00:02<00:07,  4.07it/s]"
     ]
    },
    {
     "name": "stdout",
     "output_type": "stream",
     "text": [
      "torch.Size([64, 128, 58, 1])\n",
      "torch.Size([64, 1, 128, 58])\n",
      "torch.Size([64, 64, 128, 29])\n",
      "torch.Size([64, 64, 128, 29])\n",
      "torch.Size([64, 128, 128, 14])\n",
      "torch.Size([64, 512, 32, 3])\n",
      "torch.Size([64, 512])\n",
      "torch.Size([64, 512])\n",
      "torch.Size([64, 512])\n",
      "fc통과: torch.Size([64, 507])\n",
      "torch.Size([64, 512])\n"
     ]
    },
    {
     "name": "stderr",
     "output_type": "stream",
     "text": [
      " 30%|████████████▉                              | 12/40 [00:02<00:07,  3.84it/s]"
     ]
    },
    {
     "name": "stdout",
     "output_type": "stream",
     "text": [
      "torch.Size([64, 128, 61, 1])\n",
      "torch.Size([64, 1, 128, 61])\n",
      "torch.Size([64, 64, 128, 30])\n",
      "torch.Size([64, 64, 128, 30])\n",
      "torch.Size([64, 128, 128, 15])\n",
      "torch.Size([64, 512, 32, 3])\n",
      "torch.Size([64, 512])\n",
      "torch.Size([64, 512])\n",
      "torch.Size([64, 512])\n",
      "fc통과: torch.Size([64, 507])\n",
      "torch.Size([64, 512])\n"
     ]
    },
    {
     "name": "stderr",
     "output_type": "stream",
     "text": [
      " 32%|█████████████▉                             | 13/40 [00:03<00:07,  3.65it/s]"
     ]
    },
    {
     "name": "stdout",
     "output_type": "stream",
     "text": [
      "torch.Size([64, 128, 37, 1])\n",
      "torch.Size([64, 1, 128, 37])\n",
      "torch.Size([64, 64, 128, 18])\n",
      "torch.Size([64, 64, 128, 18])\n",
      "torch.Size([64, 128, 128, 9])\n",
      "torch.Size([64, 512, 32, 2])\n",
      "torch.Size([64, 512])\n",
      "torch.Size([64, 512])\n",
      "torch.Size([64, 512])\n",
      "fc통과: torch.Size([64, 507])\n",
      "torch.Size([64, 512])\n"
     ]
    },
    {
     "name": "stderr",
     "output_type": "stream",
     "text": [
      " 35%|███████████████                            | 14/40 [00:03<00:06,  3.93it/s]"
     ]
    },
    {
     "name": "stdout",
     "output_type": "stream",
     "text": [
      "torch.Size([64, 128, 41, 1])\n",
      "torch.Size([64, 1, 128, 41])\n",
      "torch.Size([64, 64, 128, 20])\n",
      "torch.Size([64, 64, 128, 20])\n",
      "torch.Size([64, 128, 128, 10])\n",
      "torch.Size([64, 512, 32, 2])\n",
      "torch.Size([64, 512])\n",
      "torch.Size([64, 512])\n",
      "torch.Size([64, 512])\n",
      "fc통과: torch.Size([64, 507])\n",
      "torch.Size([64, 512])\n"
     ]
    },
    {
     "name": "stderr",
     "output_type": "stream",
     "text": [
      " 40%|█████████████████▏                         | 16/40 [00:03<00:05,  4.31it/s]"
     ]
    },
    {
     "name": "stdout",
     "output_type": "stream",
     "text": [
      "torch.Size([64, 128, 35, 1])\n",
      "torch.Size([64, 1, 128, 35])\n",
      "torch.Size([64, 64, 128, 17])\n",
      "torch.Size([64, 64, 128, 17])\n",
      "torch.Size([64, 128, 128, 8])\n",
      "torch.Size([64, 512, 32, 2])\n",
      "torch.Size([64, 512])\n",
      "torch.Size([64, 512])\n",
      "torch.Size([64, 512])\n",
      "fc통과: torch.Size([64, 507])\n",
      "torch.Size([64, 512])\n",
      "torch.Size([64, 128, 48, 1])\n",
      "torch.Size([64, 1, 128, 48])\n",
      "torch.Size([64, 64, 128, 24])\n",
      "torch.Size([64, 64, 128, 24])\n",
      "torch.Size([64, 128, 128, 12])\n",
      "torch.Size([64, 512, 32, 3])\n",
      "torch.Size([64, 512])\n",
      "torch.Size([64, 512])\n",
      "torch.Size([64, 512])\n",
      "fc통과: torch.Size([64, 507])\n",
      "torch.Size([64, 512])\n"
     ]
    },
    {
     "name": "stderr",
     "output_type": "stream",
     "text": [
      " 42%|██████████████████▎                        | 17/40 [00:04<00:05,  4.22it/s]"
     ]
    },
    {
     "name": "stdout",
     "output_type": "stream",
     "text": [
      "torch.Size([64, 128, 40, 1])\n",
      "torch.Size([64, 1, 128, 40])\n",
      "torch.Size([64, 64, 128, 20])\n",
      "torch.Size([64, 64, 128, 20])\n",
      "torch.Size([64, 128, 128, 10])\n",
      "torch.Size([64, 512, 32, 2])\n",
      "torch.Size([64, 512])\n",
      "torch.Size([64, 512])\n",
      "torch.Size([64, 512])\n",
      "fc통과: torch.Size([64, 507])\n",
      "torch.Size([64, 512])\n"
     ]
    },
    {
     "name": "stderr",
     "output_type": "stream",
     "text": [
      " 48%|████████████████████▍                      | 19/40 [00:04<00:04,  4.51it/s]"
     ]
    },
    {
     "name": "stdout",
     "output_type": "stream",
     "text": [
      "torch.Size([64, 128, 33, 1])\n",
      "torch.Size([64, 1, 128, 33])\n",
      "torch.Size([64, 64, 128, 16])\n",
      "torch.Size([64, 64, 128, 16])\n",
      "torch.Size([64, 128, 128, 8])\n",
      "torch.Size([64, 512, 32, 2])\n",
      "torch.Size([64, 512])\n",
      "torch.Size([64, 512])\n",
      "torch.Size([64, 512])\n",
      "fc통과: torch.Size([64, 507])\n",
      "torch.Size([64, 512])\n",
      "torch.Size([64, 128, 33, 1])\n",
      "torch.Size([64, 1, 128, 33])\n",
      "torch.Size([64, 64, 128, 16])\n",
      "torch.Size([64, 64, 128, 16])\n",
      "torch.Size([64, 128, 128, 8])\n",
      "torch.Size([64, 512, 32, 2])\n",
      "torch.Size([64, 512])\n",
      "torch.Size([64, 512])\n",
      "torch.Size([64, 512])\n",
      "fc통과: torch.Size([64, 507])\n",
      "torch.Size([64, 512])\n"
     ]
    },
    {
     "name": "stderr",
     "output_type": "stream",
     "text": [
      " 52%|██████████████████████▌                    | 21/40 [00:04<00:03,  4.80it/s]"
     ]
    },
    {
     "name": "stdout",
     "output_type": "stream",
     "text": [
      "torch.Size([64, 128, 35, 1])\n",
      "torch.Size([64, 1, 128, 35])\n",
      "torch.Size([64, 64, 128, 17])\n",
      "torch.Size([64, 64, 128, 17])\n",
      "torch.Size([64, 128, 128, 8])\n",
      "torch.Size([64, 512, 32, 2])\n",
      "torch.Size([64, 512])\n",
      "torch.Size([64, 512])\n",
      "torch.Size([64, 512])\n",
      "fc통과: torch.Size([64, 507])\n",
      "torch.Size([64, 512])\n",
      "torch.Size([64, 128, 35, 1])\n",
      "torch.Size([64, 1, 128, 35])\n",
      "torch.Size([64, 64, 128, 17])\n",
      "torch.Size([64, 64, 128, 17])\n",
      "torch.Size([64, 128, 128, 8])\n",
      "torch.Size([64, 512, 32, 2])\n",
      "torch.Size([64, 512])\n",
      "torch.Size([64, 512])\n",
      "torch.Size([64, 512])\n",
      "fc통과: torch.Size([64, 507])\n"
     ]
    },
    {
     "name": "stderr",
     "output_type": "stream",
     "text": [
      " 55%|███████████████████████▋                   | 22/40 [00:05<00:03,  4.88it/s]"
     ]
    },
    {
     "name": "stdout",
     "output_type": "stream",
     "text": [
      "torch.Size([64, 512])\n",
      "torch.Size([64, 128, 32, 1])\n",
      "torch.Size([64, 1, 128, 32])\n",
      "torch.Size([64, 64, 128, 16])\n",
      "torch.Size([64, 64, 128, 16])\n",
      "torch.Size([64, 128, 128, 8])\n",
      "torch.Size([64, 512, 32, 2])\n",
      "torch.Size([64, 512])\n",
      "torch.Size([64, 512])\n",
      "torch.Size([64, 512])\n",
      "fc통과: torch.Size([64, 507])\n"
     ]
    },
    {
     "name": "stderr",
     "output_type": "stream",
     "text": [
      " 57%|████████████████████████▋                  | 23/40 [00:05<00:03,  4.96it/s]"
     ]
    },
    {
     "name": "stdout",
     "output_type": "stream",
     "text": [
      "torch.Size([64, 512])\n",
      "torch.Size([64, 128, 37, 1])\n",
      "torch.Size([64, 1, 128, 37])\n",
      "torch.Size([64, 64, 128, 18])\n",
      "torch.Size([64, 64, 128, 18])\n",
      "torch.Size([64, 128, 128, 9])\n",
      "torch.Size([64, 512, 32, 2])\n",
      "torch.Size([64, 512])\n",
      "torch.Size([64, 512])\n",
      "torch.Size([64, 512])\n",
      "fc통과: torch.Size([64, 507])\n",
      "torch.Size([64, 512])\n"
     ]
    },
    {
     "name": "stderr",
     "output_type": "stream",
     "text": [
      " 60%|█████████████████████████▊                 | 24/40 [00:05<00:03,  4.92it/s]"
     ]
    },
    {
     "name": "stdout",
     "output_type": "stream",
     "text": [
      "torch.Size([64, 128, 47, 1])\n",
      "torch.Size([64, 1, 128, 47])\n",
      "torch.Size([64, 64, 128, 23])\n",
      "torch.Size([64, 64, 128, 23])\n",
      "torch.Size([64, 128, 128, 11])\n",
      "torch.Size([64, 512, 32, 2])\n",
      "torch.Size([64, 512])\n",
      "torch.Size([64, 512])\n",
      "torch.Size([64, 512])\n",
      "fc통과: torch.Size([64, 507])\n",
      "torch.Size([64, 512])\n"
     ]
    },
    {
     "name": "stderr",
     "output_type": "stream",
     "text": [
      " 65%|███████████████████████████▉               | 26/40 [00:05<00:02,  4.76it/s]"
     ]
    },
    {
     "name": "stdout",
     "output_type": "stream",
     "text": [
      "torch.Size([64, 128, 34, 1])\n",
      "torch.Size([64, 1, 128, 34])\n",
      "torch.Size([64, 64, 128, 17])\n",
      "torch.Size([64, 64, 128, 17])\n",
      "torch.Size([64, 128, 128, 8])\n",
      "torch.Size([64, 512, 32, 2])\n",
      "torch.Size([64, 512])\n",
      "torch.Size([64, 512])\n",
      "torch.Size([64, 512])\n",
      "fc통과: torch.Size([64, 507])\n",
      "torch.Size([64, 512])\n",
      "torch.Size([64, 128, 24, 1])\n",
      "torch.Size([64, 1, 128, 24])\n",
      "torch.Size([64, 64, 128, 12])\n",
      "torch.Size([64, 64, 128, 12])\n",
      "torch.Size([64, 128, 128, 6])\n",
      "torch.Size([64, 512, 32, 1])\n",
      "torch.Size([64, 512])\n",
      "torch.Size([64, 512])\n",
      "torch.Size([64, 512])\n",
      "fc통과: torch.Size([64, 507])\n",
      "torch.Size([64, 512])\n"
     ]
    },
    {
     "name": "stderr",
     "output_type": "stream",
     "text": [
      " 70%|██████████████████████████████             | 28/40 [00:06<00:02,  5.32it/s]"
     ]
    },
    {
     "name": "stdout",
     "output_type": "stream",
     "text": [
      "torch.Size([64, 128, 25, 1])\n",
      "torch.Size([64, 1, 128, 25])\n",
      "torch.Size([64, 64, 128, 12])\n",
      "torch.Size([64, 64, 128, 12])\n",
      "torch.Size([64, 128, 128, 6])\n",
      "torch.Size([64, 512, 32, 1])\n",
      "torch.Size([64, 512])\n",
      "torch.Size([64, 512])\n",
      "torch.Size([64, 512])\n",
      "fc통과: torch.Size([64, 507])\n",
      "torch.Size([64, 512])\n",
      "torch.Size([64, 128, 30, 1])\n",
      "torch.Size([64, 1, 128, 30])\n",
      "torch.Size([64, 64, 128, 15])\n",
      "torch.Size([64, 64, 128, 15])\n",
      "torch.Size([64, 128, 128, 7])\n",
      "torch.Size([64, 512, 32, 1])\n",
      "torch.Size([64, 512])\n",
      "torch.Size([64, 512])\n",
      "torch.Size([64, 512])\n",
      "fc통과: torch.Size([64, 507])\n",
      "torch.Size([64, 512])\n"
     ]
    },
    {
     "name": "stderr",
     "output_type": "stream",
     "text": [
      " 72%|███████████████████████████████▏           | 29/40 [00:06<00:02,  5.34it/s]"
     ]
    },
    {
     "name": "stdout",
     "output_type": "stream",
     "text": [
      "torch.Size([64, 128, 37, 1])\n",
      "torch.Size([64, 1, 128, 37])\n",
      "torch.Size([64, 64, 128, 18])\n",
      "torch.Size([64, 64, 128, 18])\n",
      "torch.Size([64, 128, 128, 9])\n",
      "torch.Size([64, 512, 32, 2])\n",
      "torch.Size([64, 512])\n",
      "torch.Size([64, 512])\n",
      "torch.Size([64, 512])\n",
      "fc통과: torch.Size([64, 507])\n",
      "torch.Size([64, 512])\n"
     ]
    },
    {
     "name": "stderr",
     "output_type": "stream",
     "text": [
      " 78%|█████████████████████████████████▎         | 31/40 [00:06<00:01,  5.18it/s]"
     ]
    },
    {
     "name": "stdout",
     "output_type": "stream",
     "text": [
      "torch.Size([64, 128, 33, 1])\n",
      "torch.Size([64, 1, 128, 33])\n",
      "torch.Size([64, 64, 128, 16])\n",
      "torch.Size([64, 64, 128, 16])\n",
      "torch.Size([64, 128, 128, 8])\n",
      "torch.Size([64, 512, 32, 2])\n",
      "torch.Size([64, 512])\n",
      "torch.Size([64, 512])\n",
      "torch.Size([64, 512])\n",
      "fc통과: torch.Size([64, 507])\n",
      "torch.Size([64, 512])\n",
      "torch.Size([64, 128, 36, 1])\n",
      "torch.Size([64, 1, 128, 36])\n",
      "torch.Size([64, 64, 128, 18])\n",
      "torch.Size([64, 64, 128, 18])\n",
      "torch.Size([64, 128, 128, 9])\n",
      "torch.Size([64, 512, 32, 2])\n",
      "torch.Size([64, 512])\n",
      "torch.Size([64, 512])\n",
      "torch.Size([64, 512])\n",
      "fc통과: torch.Size([64, 507])\n",
      "torch.Size([64, 512])\n"
     ]
    },
    {
     "name": "stderr",
     "output_type": "stream",
     "text": [
      " 82%|███████████████████████████████████▍       | 33/40 [00:07<00:01,  5.09it/s]"
     ]
    },
    {
     "name": "stdout",
     "output_type": "stream",
     "text": [
      "torch.Size([64, 128, 34, 1])\n",
      "torch.Size([64, 1, 128, 34])\n",
      "torch.Size([64, 64, 128, 17])\n",
      "torch.Size([64, 64, 128, 17])\n",
      "torch.Size([64, 128, 128, 8])\n",
      "torch.Size([64, 512, 32, 2])\n",
      "torch.Size([64, 512])\n",
      "torch.Size([64, 512])\n",
      "torch.Size([64, 512])\n",
      "fc통과: torch.Size([64, 507])\n",
      "torch.Size([64, 512])\n",
      "torch.Size([64, 128, 33, 1])\n",
      "torch.Size([64, 1, 128, 33])\n",
      "torch.Size([64, 64, 128, 16])\n",
      "torch.Size([64, 64, 128, 16])\n",
      "torch.Size([64, 128, 128, 8])\n",
      "torch.Size([64, 512, 32, 2])\n",
      "torch.Size([64, 512])\n",
      "torch.Size([64, 512])\n",
      "torch.Size([64, 512])\n",
      "fc통과: torch.Size([64, 507])\n",
      "torch.Size([64, 512])\n"
     ]
    },
    {
     "name": "stderr",
     "output_type": "stream",
     "text": [
      " 88%|█████████████████████████████████████▋     | 35/40 [00:07<00:00,  5.16it/s]"
     ]
    },
    {
     "name": "stdout",
     "output_type": "stream",
     "text": [
      "torch.Size([64, 128, 32, 1])\n",
      "torch.Size([64, 1, 128, 32])\n",
      "torch.Size([64, 64, 128, 16])\n",
      "torch.Size([64, 64, 128, 16])\n",
      "torch.Size([64, 128, 128, 8])\n",
      "torch.Size([64, 512, 32, 2])\n",
      "torch.Size([64, 512])\n",
      "torch.Size([64, 512])\n",
      "torch.Size([64, 512])\n",
      "fc통과: torch.Size([64, 507])\n",
      "torch.Size([64, 512])\n",
      "torch.Size([64, 128, 36, 1])\n",
      "torch.Size([64, 1, 128, 36])\n",
      "torch.Size([64, 64, 128, 18])\n",
      "torch.Size([64, 64, 128, 18])\n",
      "torch.Size([64, 128, 128, 9])\n",
      "torch.Size([64, 512, 32, 2])\n",
      "torch.Size([64, 512])\n",
      "torch.Size([64, 512])\n",
      "torch.Size([64, 512])\n",
      "fc통과: torch.Size([64, 507])\n",
      "torch.Size([64, 512])\n"
     ]
    },
    {
     "name": "stderr",
     "output_type": "stream",
     "text": [
      " 92%|███████████████████████████████████████▊   | 37/40 [00:08<00:00,  5.08it/s]"
     ]
    },
    {
     "name": "stdout",
     "output_type": "stream",
     "text": [
      "torch.Size([64, 128, 34, 1])\n",
      "torch.Size([64, 1, 128, 34])\n",
      "torch.Size([64, 64, 128, 17])\n",
      "torch.Size([64, 64, 128, 17])\n",
      "torch.Size([64, 128, 128, 8])\n",
      "torch.Size([64, 512, 32, 2])\n",
      "torch.Size([64, 512])\n",
      "torch.Size([64, 512])\n",
      "torch.Size([64, 512])\n",
      "fc통과: torch.Size([64, 507])\n",
      "torch.Size([64, 512])\n",
      "torch.Size([64, 128, 35, 1])\n",
      "torch.Size([64, 1, 128, 35])\n",
      "torch.Size([64, 64, 128, 17])\n",
      "torch.Size([64, 64, 128, 17])\n",
      "torch.Size([64, 128, 128, 8])\n",
      "torch.Size([64, 512, 32, 2])\n",
      "torch.Size([64, 512])\n",
      "torch.Size([64, 512])\n",
      "torch.Size([64, 512])\n",
      "fc통과: torch.Size([64, 507])\n",
      "torch.Size([64, 512])\n"
     ]
    },
    {
     "name": "stderr",
     "output_type": "stream",
     "text": [
      " 98%|█████████████████████████████████████████▉ | 39/40 [00:08<00:00,  5.11it/s]"
     ]
    },
    {
     "name": "stdout",
     "output_type": "stream",
     "text": [
      "torch.Size([64, 128, 33, 1])\n",
      "torch.Size([64, 1, 128, 33])\n",
      "torch.Size([64, 64, 128, 16])\n",
      "torch.Size([64, 64, 128, 16])\n",
      "torch.Size([64, 128, 128, 8])\n",
      "torch.Size([64, 512, 32, 2])\n",
      "torch.Size([64, 512])\n",
      "torch.Size([64, 512])\n",
      "torch.Size([64, 512])\n",
      "fc통과: torch.Size([64, 507])\n",
      "torch.Size([64, 512])\n",
      "torch.Size([36, 128, 33, 1])\n",
      "torch.Size([36, 1, 128, 33])\n",
      "torch.Size([36, 64, 128, 16])\n",
      "torch.Size([36, 64, 128, 16])\n",
      "torch.Size([36, 128, 128, 8])\n",
      "torch.Size([36, 512, 32, 2])\n",
      "torch.Size([36, 512])\n",
      "torch.Size([36, 512])\n",
      "torch.Size([36, 512])\n",
      "fc통과: torch.Size([36, 507])\n",
      "torch.Size([36, 512])\n"
     ]
    },
    {
     "name": "stderr",
     "output_type": "stream",
     "text": [
      "100%|███████████████████████████████████████████| 40/40 [00:08<00:00,  4.71it/s]"
     ]
    },
    {
     "name": "stdout",
     "output_type": "stream",
     "text": [
      "07-04 16:49 [MainProcess, 23066] [INFO ]  Iteration:1, loss = 0.792118, acc = 87.500 \n",
      "07-04 16:49 [MainProcess, 23066] [INFO ]  Iteration:1, loss = 0.792118, acc = 87.500 \n",
      "07-04 16:49 [MainProcess, 23066] [INFO ]  Iteration:1, loss = 0.792118, acc = 87.500 \n",
      "07-04 16:49 [MainProcess, 23066] [INFO ]  Iteration:1, loss = 0.792118, acc = 87.500 \n",
      "07-04 16:49 [MainProcess, 23066] [INFO ]  Iteration:1, loss = 0.792118, acc = 87.500 \n",
      "07-04 16:49 [MainProcess, 23066] [INFO ]  Iteration:1, loss = 0.792118, acc = 87.500 \n",
      "07-04 16:49 [MainProcess, 23066] [INFO ]  Iteration:1, loss = 0.792118, acc = 87.500 \n",
      "07-04 16:49 [MainProcess, 23066] [INFO ]  Iteration:1, loss = 0.792118, acc = 87.500 \n"
     ]
    },
    {
     "name": "stderr",
     "output_type": "stream",
     "text": [
      "\n",
      "  0%|                                                    | 0/40 [00:00<?, ?it/s]"
     ]
    },
    {
     "name": "stdout",
     "output_type": "stream",
     "text": [
      "torch.Size([64, 128, 34, 1])\n",
      "torch.Size([64, 1, 128, 34])\n",
      "torch.Size([64, 64, 128, 17])\n",
      "torch.Size([64, 64, 128, 17])\n",
      "torch.Size([64, 128, 128, 8])\n",
      "torch.Size([64, 512, 32, 2])\n",
      "torch.Size([64, 512])\n",
      "torch.Size([64, 512])\n",
      "torch.Size([64, 512])\n",
      "fc통과: torch.Size([64, 507])\n",
      "torch.Size([64, 512])\n"
     ]
    },
    {
     "name": "stderr",
     "output_type": "stream",
     "text": [
      "  2%|█                                           | 1/40 [00:00<00:07,  5.10it/s]"
     ]
    },
    {
     "name": "stdout",
     "output_type": "stream",
     "text": [
      "torch.Size([64, 128, 39, 1])\n",
      "torch.Size([64, 1, 128, 39])\n",
      "torch.Size([64, 64, 128, 19])\n",
      "torch.Size([64, 64, 128, 19])\n",
      "torch.Size([64, 128, 128, 9])\n",
      "torch.Size([64, 512, 32, 2])\n",
      "torch.Size([64, 512])\n",
      "torch.Size([64, 512])\n",
      "torch.Size([64, 512])\n",
      "fc통과: torch.Size([64, 507])\n",
      "torch.Size([64, 512])\n"
     ]
    },
    {
     "name": "stderr",
     "output_type": "stream",
     "text": [
      "  5%|██▏                                         | 2/40 [00:00<00:07,  4.84it/s]"
     ]
    },
    {
     "name": "stdout",
     "output_type": "stream",
     "text": [
      "torch.Size([64, 128, 48, 1])\n",
      "torch.Size([64, 1, 128, 48])\n",
      "torch.Size([64, 64, 128, 24])\n",
      "torch.Size([64, 64, 128, 24])\n",
      "torch.Size([64, 128, 128, 12])\n",
      "torch.Size([64, 512, 32, 3])\n",
      "torch.Size([64, 512])\n",
      "torch.Size([64, 512])\n",
      "torch.Size([64, 512])\n",
      "fc통과: torch.Size([64, 507])\n",
      "torch.Size([64, 512])\n"
     ]
    },
    {
     "name": "stderr",
     "output_type": "stream",
     "text": [
      "  8%|███▎                                        | 3/40 [00:00<00:08,  4.41it/s]"
     ]
    },
    {
     "name": "stdout",
     "output_type": "stream",
     "text": [
      "torch.Size([64, 128, 40, 1])\n",
      "torch.Size([64, 1, 128, 40])\n",
      "torch.Size([64, 64, 128, 20])\n",
      "torch.Size([64, 64, 128, 20])\n",
      "torch.Size([64, 128, 128, 10])\n",
      "torch.Size([64, 512, 32, 2])\n",
      "torch.Size([64, 512])\n",
      "torch.Size([64, 512])\n",
      "torch.Size([64, 512])\n",
      "fc통과: torch.Size([64, 507])\n",
      "torch.Size([64, 512])\n"
     ]
    },
    {
     "name": "stderr",
     "output_type": "stream",
     "text": [
      " 10%|████▍                                       | 4/40 [00:00<00:08,  4.41it/s]"
     ]
    },
    {
     "name": "stdout",
     "output_type": "stream",
     "text": [
      "torch.Size([64, 128, 42, 1])\n",
      "torch.Size([64, 1, 128, 42])\n",
      "torch.Size([64, 64, 128, 21])\n",
      "torch.Size([64, 64, 128, 21])\n",
      "torch.Size([64, 128, 128, 10])\n",
      "torch.Size([64, 512, 32, 2])\n",
      "torch.Size([64, 512])\n",
      "torch.Size([64, 512])\n",
      "torch.Size([64, 512])\n",
      "fc통과: torch.Size([64, 507])\n",
      "torch.Size([64, 512])\n"
     ]
    },
    {
     "name": "stderr",
     "output_type": "stream",
     "text": [
      " 12%|█████▌                                      | 5/40 [00:01<00:08,  4.37it/s]"
     ]
    },
    {
     "name": "stdout",
     "output_type": "stream",
     "text": [
      "torch.Size([64, 128, 52, 1])\n",
      "torch.Size([64, 1, 128, 52])\n",
      "torch.Size([64, 64, 128, 26])\n",
      "torch.Size([64, 64, 128, 26])\n",
      "torch.Size([64, 128, 128, 13])\n",
      "torch.Size([64, 512, 32, 3])\n",
      "torch.Size([64, 512])\n",
      "torch.Size([64, 512])\n",
      "torch.Size([64, 512])\n",
      "fc통과: torch.Size([64, 507])\n",
      "torch.Size([64, 512])\n"
     ]
    },
    {
     "name": "stderr",
     "output_type": "stream",
     "text": [
      " 15%|██████▌                                     | 6/40 [00:01<00:08,  4.12it/s]"
     ]
    },
    {
     "name": "stdout",
     "output_type": "stream",
     "text": [
      "torch.Size([64, 128, 40, 1])\n",
      "torch.Size([64, 1, 128, 40])\n",
      "torch.Size([64, 64, 128, 20])\n",
      "torch.Size([64, 64, 128, 20])\n",
      "torch.Size([64, 128, 128, 10])\n",
      "torch.Size([64, 512, 32, 2])\n",
      "torch.Size([64, 512])\n",
      "torch.Size([64, 512])\n",
      "torch.Size([64, 512])\n",
      "fc통과: torch.Size([64, 507])\n",
      "torch.Size([64, 512])\n"
     ]
    },
    {
     "name": "stderr",
     "output_type": "stream",
     "text": [
      " 18%|███████▋                                    | 7/40 [00:01<00:07,  4.21it/s]"
     ]
    },
    {
     "name": "stdout",
     "output_type": "stream",
     "text": [
      "torch.Size([64, 128, 64, 1])\n",
      "torch.Size([64, 1, 128, 64])\n",
      "torch.Size([64, 64, 128, 32])\n",
      "torch.Size([64, 64, 128, 32])\n",
      "torch.Size([64, 128, 128, 16])\n",
      "torch.Size([64, 512, 32, 4])\n",
      "torch.Size([64, 512])\n",
      "torch.Size([64, 512])\n",
      "torch.Size([64, 512])\n",
      "fc통과: torch.Size([64, 507])\n",
      "torch.Size([64, 512])\n"
     ]
    },
    {
     "name": "stderr",
     "output_type": "stream",
     "text": [
      " 20%|████████▊                                   | 8/40 [00:01<00:07,  4.06it/s]"
     ]
    },
    {
     "name": "stdout",
     "output_type": "stream",
     "text": [
      "torch.Size([64, 128, 42, 1])\n",
      "torch.Size([64, 1, 128, 42])\n",
      "torch.Size([64, 64, 128, 21])\n",
      "torch.Size([64, 64, 128, 21])\n",
      "torch.Size([64, 128, 128, 10])\n",
      "torch.Size([64, 512, 32, 2])\n",
      "torch.Size([64, 512])\n",
      "torch.Size([64, 512])\n",
      "torch.Size([64, 512])\n",
      "fc통과: torch.Size([64, 507])\n",
      "torch.Size([64, 512])\n"
     ]
    },
    {
     "name": "stderr",
     "output_type": "stream",
     "text": [
      " 22%|█████████▉                                  | 9/40 [00:02<00:07,  4.13it/s]"
     ]
    },
    {
     "name": "stdout",
     "output_type": "stream",
     "text": [
      "torch.Size([64, 128, 38, 1])\n",
      "torch.Size([64, 1, 128, 38])\n",
      "torch.Size([64, 64, 128, 19])\n",
      "torch.Size([64, 64, 128, 19])\n",
      "torch.Size([64, 128, 128, 9])\n",
      "torch.Size([64, 512, 32, 2])\n",
      "torch.Size([64, 512])\n",
      "torch.Size([64, 512])\n",
      "torch.Size([64, 512])\n",
      "fc통과: torch.Size([64, 507])\n",
      "torch.Size([64, 512])\n"
     ]
    },
    {
     "name": "stderr",
     "output_type": "stream",
     "text": [
      " 25%|██████████▊                                | 10/40 [00:02<00:06,  4.30it/s]"
     ]
    },
    {
     "name": "stdout",
     "output_type": "stream",
     "text": [
      "torch.Size([64, 128, 54, 1])\n",
      "torch.Size([64, 1, 128, 54])\n",
      "torch.Size([64, 64, 128, 27])\n",
      "torch.Size([64, 64, 128, 27])\n",
      "torch.Size([64, 128, 128, 13])\n",
      "torch.Size([64, 512, 32, 3])\n",
      "torch.Size([64, 512])\n",
      "torch.Size([64, 512])\n",
      "torch.Size([64, 512])\n",
      "fc통과: torch.Size([64, 507])\n",
      "torch.Size([64, 512])\n"
     ]
    },
    {
     "name": "stderr",
     "output_type": "stream",
     "text": [
      " 28%|███████████▊                               | 11/40 [00:02<00:07,  4.06it/s]"
     ]
    },
    {
     "name": "stdout",
     "output_type": "stream",
     "text": [
      "torch.Size([64, 128, 58, 1])\n",
      "torch.Size([64, 1, 128, 58])\n",
      "torch.Size([64, 64, 128, 29])\n",
      "torch.Size([64, 64, 128, 29])\n",
      "torch.Size([64, 128, 128, 14])\n",
      "torch.Size([64, 512, 32, 3])\n",
      "torch.Size([64, 512])\n",
      "torch.Size([64, 512])\n",
      "torch.Size([64, 512])\n",
      "fc통과: torch.Size([64, 507])\n",
      "torch.Size([64, 512])\n"
     ]
    },
    {
     "name": "stderr",
     "output_type": "stream",
     "text": [
      " 30%|████████████▉                              | 12/40 [00:02<00:07,  3.84it/s]"
     ]
    },
    {
     "name": "stdout",
     "output_type": "stream",
     "text": [
      "torch.Size([64, 128, 61, 1])\n",
      "torch.Size([64, 1, 128, 61])\n",
      "torch.Size([64, 64, 128, 30])\n",
      "torch.Size([64, 64, 128, 30])\n",
      "torch.Size([64, 128, 128, 15])\n",
      "torch.Size([64, 512, 32, 3])\n",
      "torch.Size([64, 512])\n",
      "torch.Size([64, 512])\n",
      "torch.Size([64, 512])\n",
      "fc통과: torch.Size([64, 507])\n",
      "torch.Size([64, 512])\n"
     ]
    },
    {
     "name": "stderr",
     "output_type": "stream",
     "text": [
      " 32%|█████████████▉                             | 13/40 [00:03<00:07,  3.65it/s]"
     ]
    },
    {
     "name": "stdout",
     "output_type": "stream",
     "text": [
      "torch.Size([64, 128, 37, 1])\n",
      "torch.Size([64, 1, 128, 37])\n",
      "torch.Size([64, 64, 128, 18])\n",
      "torch.Size([64, 64, 128, 18])\n",
      "torch.Size([64, 128, 128, 9])\n",
      "torch.Size([64, 512, 32, 2])\n",
      "torch.Size([64, 512])\n",
      "torch.Size([64, 512])\n",
      "torch.Size([64, 512])\n",
      "fc통과: torch.Size([64, 507])\n",
      "torch.Size([64, 512])\n"
     ]
    },
    {
     "name": "stderr",
     "output_type": "stream",
     "text": [
      " 35%|███████████████                            | 14/40 [00:03<00:06,  3.93it/s]"
     ]
    },
    {
     "name": "stdout",
     "output_type": "stream",
     "text": [
      "torch.Size([64, 128, 41, 1])\n",
      "torch.Size([64, 1, 128, 41])\n",
      "torch.Size([64, 64, 128, 20])\n",
      "torch.Size([64, 64, 128, 20])\n",
      "torch.Size([64, 128, 128, 10])\n",
      "torch.Size([64, 512, 32, 2])\n",
      "torch.Size([64, 512])\n",
      "torch.Size([64, 512])\n",
      "torch.Size([64, 512])\n",
      "fc통과: torch.Size([64, 507])\n",
      "torch.Size([64, 512])\n"
     ]
    },
    {
     "name": "stderr",
     "output_type": "stream",
     "text": [
      " 40%|█████████████████▏                         | 16/40 [00:03<00:05,  4.31it/s]"
     ]
    },
    {
     "name": "stdout",
     "output_type": "stream",
     "text": [
      "torch.Size([64, 128, 35, 1])\n",
      "torch.Size([64, 1, 128, 35])\n",
      "torch.Size([64, 64, 128, 17])\n",
      "torch.Size([64, 64, 128, 17])\n",
      "torch.Size([64, 128, 128, 8])\n",
      "torch.Size([64, 512, 32, 2])\n",
      "torch.Size([64, 512])\n",
      "torch.Size([64, 512])\n",
      "torch.Size([64, 512])\n",
      "fc통과: torch.Size([64, 507])\n",
      "torch.Size([64, 512])\n",
      "torch.Size([64, 128, 48, 1])\n",
      "torch.Size([64, 1, 128, 48])\n",
      "torch.Size([64, 64, 128, 24])\n",
      "torch.Size([64, 64, 128, 24])\n",
      "torch.Size([64, 128, 128, 12])\n",
      "torch.Size([64, 512, 32, 3])\n",
      "torch.Size([64, 512])\n",
      "torch.Size([64, 512])\n",
      "torch.Size([64, 512])\n",
      "fc통과: torch.Size([64, 507])\n",
      "torch.Size([64, 512])\n"
     ]
    },
    {
     "name": "stderr",
     "output_type": "stream",
     "text": [
      " 42%|██████████████████▎                        | 17/40 [00:04<00:05,  4.21it/s]"
     ]
    },
    {
     "name": "stdout",
     "output_type": "stream",
     "text": [
      "torch.Size([64, 128, 40, 1])\n",
      "torch.Size([64, 1, 128, 40])\n",
      "torch.Size([64, 64, 128, 20])\n",
      "torch.Size([64, 64, 128, 20])\n",
      "torch.Size([64, 128, 128, 10])\n",
      "torch.Size([64, 512, 32, 2])\n",
      "torch.Size([64, 512])\n",
      "torch.Size([64, 512])\n",
      "torch.Size([64, 512])\n",
      "fc통과: torch.Size([64, 507])\n",
      "torch.Size([64, 512])\n"
     ]
    },
    {
     "name": "stderr",
     "output_type": "stream",
     "text": [
      " 48%|████████████████████▍                      | 19/40 [00:04<00:04,  4.52it/s]"
     ]
    },
    {
     "name": "stdout",
     "output_type": "stream",
     "text": [
      "torch.Size([64, 128, 33, 1])\n",
      "torch.Size([64, 1, 128, 33])\n",
      "torch.Size([64, 64, 128, 16])\n",
      "torch.Size([64, 64, 128, 16])\n",
      "torch.Size([64, 128, 128, 8])\n",
      "torch.Size([64, 512, 32, 2])\n",
      "torch.Size([64, 512])\n",
      "torch.Size([64, 512])\n",
      "torch.Size([64, 512])\n",
      "fc통과: torch.Size([64, 507])\n",
      "torch.Size([64, 512])\n",
      "torch.Size([64, 128, 33, 1])\n",
      "torch.Size([64, 1, 128, 33])\n",
      "torch.Size([64, 64, 128, 16])\n",
      "torch.Size([64, 64, 128, 16])\n",
      "torch.Size([64, 128, 128, 8])\n",
      "torch.Size([64, 512, 32, 2])\n",
      "torch.Size([64, 512])\n",
      "torch.Size([64, 512])\n",
      "torch.Size([64, 512])\n",
      "fc통과: torch.Size([64, 507])\n",
      "torch.Size([64, 512])\n"
     ]
    },
    {
     "name": "stderr",
     "output_type": "stream",
     "text": [
      " 52%|██████████████████████▌                    | 21/40 [00:04<00:03,  4.80it/s]"
     ]
    },
    {
     "name": "stdout",
     "output_type": "stream",
     "text": [
      "torch.Size([64, 128, 35, 1])\n",
      "torch.Size([64, 1, 128, 35])\n",
      "torch.Size([64, 64, 128, 17])\n",
      "torch.Size([64, 64, 128, 17])\n",
      "torch.Size([64, 128, 128, 8])\n",
      "torch.Size([64, 512, 32, 2])\n",
      "torch.Size([64, 512])\n",
      "torch.Size([64, 512])\n",
      "torch.Size([64, 512])\n",
      "fc통과: torch.Size([64, 507])\n",
      "torch.Size([64, 512])\n",
      "torch.Size([64, 128, 35, 1])\n",
      "torch.Size([64, 1, 128, 35])\n",
      "torch.Size([64, 64, 128, 17])\n",
      "torch.Size([64, 64, 128, 17])\n",
      "torch.Size([64, 128, 128, 8])\n",
      "torch.Size([64, 512, 32, 2])\n"
     ]
    },
    {
     "name": "stderr",
     "output_type": "stream",
     "text": [
      " 55%|███████████████████████▋                   | 22/40 [00:05<00:03,  4.88it/s]"
     ]
    },
    {
     "name": "stdout",
     "output_type": "stream",
     "text": [
      "torch.Size([64, 512])\n",
      "torch.Size([64, 512])\n",
      "torch.Size([64, 512])\n",
      "fc통과: torch.Size([64, 507])\n",
      "torch.Size([64, 512])\n",
      "torch.Size([64, 128, 32, 1])\n",
      "torch.Size([64, 1, 128, 32])\n",
      "torch.Size([64, 64, 128, 16])\n",
      "torch.Size([64, 64, 128, 16])\n",
      "torch.Size([64, 128, 128, 8])\n",
      "torch.Size([64, 512, 32, 2])\n",
      "torch.Size([64, 512])\n",
      "torch.Size([64, 512])\n",
      "torch.Size([64, 512])\n",
      "fc통과: torch.Size([64, 507])\n",
      "torch.Size([64, 512])\n"
     ]
    },
    {
     "name": "stderr",
     "output_type": "stream",
     "text": [
      " 57%|████████████████████████▋                  | 23/40 [00:05<00:03,  4.99it/s]"
     ]
    },
    {
     "name": "stdout",
     "output_type": "stream",
     "text": [
      "torch.Size([64, 128, 37, 1])\n",
      "torch.Size([64, 1, 128, 37])\n",
      "torch.Size([64, 64, 128, 18])\n",
      "torch.Size([64, 64, 128, 18])\n",
      "torch.Size([64, 128, 128, 9])\n",
      "torch.Size([64, 512, 32, 2])\n",
      "torch.Size([64, 512])\n",
      "torch.Size([64, 512])\n",
      "torch.Size([64, 512])\n",
      "fc통과: torch.Size([64, 507])\n",
      "torch.Size([64, 512])\n"
     ]
    },
    {
     "name": "stderr",
     "output_type": "stream",
     "text": [
      " 60%|█████████████████████████▊                 | 24/40 [00:05<00:03,  4.92it/s]"
     ]
    },
    {
     "name": "stdout",
     "output_type": "stream",
     "text": [
      "torch.Size([64, 128, 47, 1])\n",
      "torch.Size([64, 1, 128, 47])\n",
      "torch.Size([64, 64, 128, 23])\n",
      "torch.Size([64, 64, 128, 23])\n",
      "torch.Size([64, 128, 128, 11])\n",
      "torch.Size([64, 512, 32, 2])\n",
      "torch.Size([64, 512])\n",
      "torch.Size([64, 512])\n",
      "torch.Size([64, 512])\n",
      "fc통과: torch.Size([64, 507])\n",
      "torch.Size([64, 512])\n"
     ]
    },
    {
     "name": "stderr",
     "output_type": "stream",
     "text": [
      " 65%|███████████████████████████▉               | 26/40 [00:05<00:02,  4.76it/s]"
     ]
    },
    {
     "name": "stdout",
     "output_type": "stream",
     "text": [
      "torch.Size([64, 128, 34, 1])\n",
      "torch.Size([64, 1, 128, 34])\n",
      "torch.Size([64, 64, 128, 17])\n",
      "torch.Size([64, 64, 128, 17])\n",
      "torch.Size([64, 128, 128, 8])\n",
      "torch.Size([64, 512, 32, 2])\n",
      "torch.Size([64, 512])\n",
      "torch.Size([64, 512])\n",
      "torch.Size([64, 512])\n",
      "fc통과: torch.Size([64, 507])\n",
      "torch.Size([64, 512])\n",
      "torch.Size([64, 128, 24, 1])\n",
      "torch.Size([64, 1, 128, 24])\n",
      "torch.Size([64, 64, 128, 12])\n",
      "torch.Size([64, 64, 128, 12])\n",
      "torch.Size([64, 128, 128, 6])\n",
      "torch.Size([64, 512, 32, 1])\n",
      "torch.Size([64, 512])\n",
      "torch.Size([64, 512])\n",
      "torch.Size([64, 512])\n",
      "fc통과: torch.Size([64, 507])\n",
      "torch.Size([64, 512])\n"
     ]
    },
    {
     "name": "stderr",
     "output_type": "stream",
     "text": [
      " 70%|██████████████████████████████             | 28/40 [00:06<00:02,  5.31it/s]"
     ]
    },
    {
     "name": "stdout",
     "output_type": "stream",
     "text": [
      "torch.Size([64, 128, 25, 1])\n",
      "torch.Size([64, 1, 128, 25])\n",
      "torch.Size([64, 64, 128, 12])\n",
      "torch.Size([64, 64, 128, 12])\n",
      "torch.Size([64, 128, 128, 6])\n",
      "torch.Size([64, 512, 32, 1])\n",
      "torch.Size([64, 512])\n",
      "torch.Size([64, 512])\n",
      "torch.Size([64, 512])\n",
      "fc통과: torch.Size([64, 507])\n",
      "torch.Size([64, 512])\n",
      "torch.Size([64, 128, 30, 1])\n",
      "torch.Size([64, 1, 128, 30])\n",
      "torch.Size([64, 64, 128, 15])\n",
      "torch.Size([64, 64, 128, 15])\n",
      "torch.Size([64, 128, 128, 7])\n",
      "torch.Size([64, 512, 32, 1])\n",
      "torch.Size([64, 512])\n",
      "torch.Size([64, 512])\n",
      "torch.Size([64, 512])\n",
      "fc통과: torch.Size([64, 507])\n",
      "torch.Size([64, 512])\n"
     ]
    },
    {
     "name": "stderr",
     "output_type": "stream",
     "text": [
      " 72%|███████████████████████████████▏           | 29/40 [00:06<00:02,  5.33it/s]"
     ]
    },
    {
     "name": "stdout",
     "output_type": "stream",
     "text": [
      "torch.Size([64, 128, 37, 1])\n",
      "torch.Size([64, 1, 128, 37])\n",
      "torch.Size([64, 64, 128, 18])\n",
      "torch.Size([64, 64, 128, 18])\n",
      "torch.Size([64, 128, 128, 9])\n",
      "torch.Size([64, 512, 32, 2])\n",
      "torch.Size([64, 512])\n",
      "torch.Size([64, 512])\n",
      "torch.Size([64, 512])\n",
      "fc통과: torch.Size([64, 507])\n",
      "torch.Size([64, 512])\n"
     ]
    },
    {
     "name": "stderr",
     "output_type": "stream",
     "text": [
      " 78%|█████████████████████████████████▎         | 31/40 [00:06<00:01,  5.17it/s]"
     ]
    },
    {
     "name": "stdout",
     "output_type": "stream",
     "text": [
      "torch.Size([64, 128, 33, 1])\n",
      "torch.Size([64, 1, 128, 33])\n",
      "torch.Size([64, 64, 128, 16])\n",
      "torch.Size([64, 64, 128, 16])\n",
      "torch.Size([64, 128, 128, 8])\n",
      "torch.Size([64, 512, 32, 2])\n",
      "torch.Size([64, 512])\n",
      "torch.Size([64, 512])\n",
      "torch.Size([64, 512])\n",
      "fc통과: torch.Size([64, 507])\n",
      "torch.Size([64, 512])\n",
      "torch.Size([64, 128, 36, 1])\n",
      "torch.Size([64, 1, 128, 36])\n",
      "torch.Size([64, 64, 128, 18])\n",
      "torch.Size([64, 64, 128, 18])\n",
      "torch.Size([64, 128, 128, 9])\n",
      "torch.Size([64, 512, 32, 2])\n",
      "torch.Size([64, 512])\n",
      "torch.Size([64, 512])\n",
      "torch.Size([64, 512])\n",
      "fc통과: torch.Size([64, 507])\n",
      "torch.Size([64, 512])\n"
     ]
    },
    {
     "name": "stderr",
     "output_type": "stream",
     "text": [
      " 82%|███████████████████████████████████▍       | 33/40 [00:07<00:01,  5.08it/s]"
     ]
    },
    {
     "name": "stdout",
     "output_type": "stream",
     "text": [
      "torch.Size([64, 128, 34, 1])\n",
      "torch.Size([64, 1, 128, 34])\n",
      "torch.Size([64, 64, 128, 17])\n",
      "torch.Size([64, 64, 128, 17])\n",
      "torch.Size([64, 128, 128, 8])\n",
      "torch.Size([64, 512, 32, 2])\n",
      "torch.Size([64, 512])\n",
      "torch.Size([64, 512])\n",
      "torch.Size([64, 512])\n",
      "fc통과: torch.Size([64, 507])\n",
      "torch.Size([64, 512])\n",
      "torch.Size([64, 128, 33, 1])\n",
      "torch.Size([64, 1, 128, 33])\n",
      "torch.Size([64, 64, 128, 16])\n",
      "torch.Size([64, 64, 128, 16])\n",
      "torch.Size([64, 128, 128, 8])\n",
      "torch.Size([64, 512, 32, 2])\n",
      "torch.Size([64, 512])\n",
      "torch.Size([64, 512])\n",
      "torch.Size([64, 512])\n",
      "fc통과: torch.Size([64, 507])\n",
      "torch.Size([64, 512])\n"
     ]
    },
    {
     "name": "stderr",
     "output_type": "stream",
     "text": [
      " 88%|█████████████████████████████████████▋     | 35/40 [00:07<00:00,  5.15it/s]"
     ]
    },
    {
     "name": "stdout",
     "output_type": "stream",
     "text": [
      "torch.Size([64, 128, 32, 1])\n",
      "torch.Size([64, 1, 128, 32])\n",
      "torch.Size([64, 64, 128, 16])\n",
      "torch.Size([64, 64, 128, 16])\n",
      "torch.Size([64, 128, 128, 8])\n",
      "torch.Size([64, 512, 32, 2])\n",
      "torch.Size([64, 512])\n",
      "torch.Size([64, 512])\n",
      "torch.Size([64, 512])\n",
      "fc통과: torch.Size([64, 507])\n",
      "torch.Size([64, 512])\n",
      "torch.Size([64, 128, 36, 1])\n",
      "torch.Size([64, 1, 128, 36])\n",
      "torch.Size([64, 64, 128, 18])\n",
      "torch.Size([64, 64, 128, 18])\n",
      "torch.Size([64, 128, 128, 9])\n",
      "torch.Size([64, 512, 32, 2])\n",
      "torch.Size([64, 512])\n",
      "torch.Size([64, 512])\n",
      "torch.Size([64, 512])\n",
      "fc통과: torch.Size([64, 507])\n",
      "torch.Size([64, 512])\n"
     ]
    },
    {
     "name": "stderr",
     "output_type": "stream",
     "text": [
      " 92%|███████████████████████████████████████▊   | 37/40 [00:08<00:00,  5.08it/s]"
     ]
    },
    {
     "name": "stdout",
     "output_type": "stream",
     "text": [
      "torch.Size([64, 128, 34, 1])\n",
      "torch.Size([64, 1, 128, 34])\n",
      "torch.Size([64, 64, 128, 17])\n",
      "torch.Size([64, 64, 128, 17])\n",
      "torch.Size([64, 128, 128, 8])\n",
      "torch.Size([64, 512, 32, 2])\n",
      "torch.Size([64, 512])\n",
      "torch.Size([64, 512])\n",
      "torch.Size([64, 512])\n",
      "fc통과: torch.Size([64, 507])\n",
      "torch.Size([64, 512])\n",
      "torch.Size([64, 128, 35, 1])\n",
      "torch.Size([64, 1, 128, 35])\n",
      "torch.Size([64, 64, 128, 17])\n",
      "torch.Size([64, 64, 128, 17])\n",
      "torch.Size([64, 128, 128, 8])\n",
      "torch.Size([64, 512, 32, 2])\n",
      "torch.Size([64, 512])\n",
      "torch.Size([64, 512])\n",
      "torch.Size([64, 512])\n",
      "fc통과: torch.Size([64, 507])\n",
      "torch.Size([64, 512])\n"
     ]
    },
    {
     "name": "stderr",
     "output_type": "stream",
     "text": [
      " 98%|█████████████████████████████████████████▉ | 39/40 [00:08<00:00,  5.10it/s]"
     ]
    },
    {
     "name": "stdout",
     "output_type": "stream",
     "text": [
      "torch.Size([64, 128, 33, 1])\n",
      "torch.Size([64, 1, 128, 33])\n",
      "torch.Size([64, 64, 128, 16])\n",
      "torch.Size([64, 64, 128, 16])\n",
      "torch.Size([64, 128, 128, 8])\n",
      "torch.Size([64, 512, 32, 2])\n",
      "torch.Size([64, 512])\n",
      "torch.Size([64, 512])\n",
      "torch.Size([64, 512])\n",
      "fc통과: torch.Size([64, 507])\n",
      "torch.Size([64, 512])\n",
      "torch.Size([36, 128, 33, 1])\n",
      "torch.Size([36, 1, 128, 33])\n",
      "torch.Size([36, 64, 128, 16])\n",
      "torch.Size([36, 64, 128, 16])\n",
      "torch.Size([36, 128, 128, 8])\n",
      "torch.Size([36, 512, 32, 2])\n",
      "torch.Size([36, 512])\n",
      "torch.Size([36, 512])\n",
      "torch.Size([36, 512])\n",
      "fc통과: torch.Size([36, 507])\n",
      "torch.Size([36, 512])\n"
     ]
    },
    {
     "name": "stderr",
     "output_type": "stream",
     "text": [
      "100%|███████████████████████████████████████████| 40/40 [00:08<00:00,  4.70it/s]"
     ]
    },
    {
     "name": "stdout",
     "output_type": "stream",
     "text": [
      "07-04 16:49 [MainProcess, 23066] [INFO ]  Iteration:2, loss = 0.793704, acc = 85.000 \n",
      "07-04 16:49 [MainProcess, 23066] [INFO ]  Iteration:2, loss = 0.793704, acc = 85.000 \n",
      "07-04 16:49 [MainProcess, 23066] [INFO ]  Iteration:2, loss = 0.793704, acc = 85.000 \n",
      "07-04 16:49 [MainProcess, 23066] [INFO ]  Iteration:2, loss = 0.793704, acc = 85.000 \n",
      "07-04 16:49 [MainProcess, 23066] [INFO ]  Iteration:2, loss = 0.793704, acc = 85.000 \n",
      "07-04 16:49 [MainProcess, 23066] [INFO ]  Iteration:2, loss = 0.793704, acc = 85.000 \n",
      "07-04 16:49 [MainProcess, 23066] [INFO ]  Iteration:2, loss = 0.793704, acc = 85.000 \n",
      "07-04 16:49 [MainProcess, 23066] [INFO ]  Iteration:2, loss = 0.793704, acc = 85.000 \n"
     ]
    },
    {
     "name": "stderr",
     "output_type": "stream",
     "text": [
      "\n",
      "  0%|                                                    | 0/40 [00:00<?, ?it/s]"
     ]
    },
    {
     "name": "stdout",
     "output_type": "stream",
     "text": [
      "torch.Size([64, 128, 34, 1])\n",
      "torch.Size([64, 1, 128, 34])\n",
      "torch.Size([64, 64, 128, 17])\n",
      "torch.Size([64, 64, 128, 17])\n",
      "torch.Size([64, 128, 128, 8])\n",
      "torch.Size([64, 512, 32, 2])\n",
      "torch.Size([64, 512])\n",
      "torch.Size([64, 512])\n",
      "torch.Size([64, 512])\n",
      "fc통과: torch.Size([64, 507])\n",
      "torch.Size([64, 512])\n"
     ]
    },
    {
     "name": "stderr",
     "output_type": "stream",
     "text": [
      "  2%|█                                           | 1/40 [00:00<00:07,  5.08it/s]"
     ]
    },
    {
     "name": "stdout",
     "output_type": "stream",
     "text": [
      "torch.Size([64, 128, 39, 1])\n",
      "torch.Size([64, 1, 128, 39])\n",
      "torch.Size([64, 64, 128, 19])\n",
      "torch.Size([64, 64, 128, 19])\n",
      "torch.Size([64, 128, 128, 9])\n",
      "torch.Size([64, 512, 32, 2])\n",
      "torch.Size([64, 512])\n",
      "torch.Size([64, 512])\n",
      "torch.Size([64, 512])\n",
      "fc통과: torch.Size([64, 507])\n",
      "torch.Size([64, 512])\n"
     ]
    },
    {
     "name": "stderr",
     "output_type": "stream",
     "text": [
      "  5%|██▏                                         | 2/40 [00:00<00:07,  4.83it/s]"
     ]
    },
    {
     "name": "stdout",
     "output_type": "stream",
     "text": [
      "torch.Size([64, 128, 48, 1])\n",
      "torch.Size([64, 1, 128, 48])\n",
      "torch.Size([64, 64, 128, 24])\n",
      "torch.Size([64, 64, 128, 24])\n",
      "torch.Size([64, 128, 128, 12])\n",
      "torch.Size([64, 512, 32, 3])\n",
      "torch.Size([64, 512])\n",
      "torch.Size([64, 512])\n",
      "torch.Size([64, 512])\n",
      "fc통과: torch.Size([64, 507])\n",
      "torch.Size([64, 512])\n"
     ]
    },
    {
     "name": "stderr",
     "output_type": "stream",
     "text": [
      "  8%|███▎                                        | 3/40 [00:00<00:08,  4.42it/s]"
     ]
    },
    {
     "name": "stdout",
     "output_type": "stream",
     "text": [
      "torch.Size([64, 128, 40, 1])\n",
      "torch.Size([64, 1, 128, 40])\n",
      "torch.Size([64, 64, 128, 20])\n",
      "torch.Size([64, 64, 128, 20])\n",
      "torch.Size([64, 128, 128, 10])\n",
      "torch.Size([64, 512, 32, 2])\n",
      "torch.Size([64, 512])\n",
      "torch.Size([64, 512])\n",
      "torch.Size([64, 512])\n",
      "fc통과: torch.Size([64, 507])\n",
      "torch.Size([64, 512])\n"
     ]
    },
    {
     "name": "stderr",
     "output_type": "stream",
     "text": [
      " 10%|████▍                                       | 4/40 [00:00<00:08,  4.42it/s]"
     ]
    },
    {
     "name": "stdout",
     "output_type": "stream",
     "text": [
      "torch.Size([64, 128, 42, 1])\n",
      "torch.Size([64, 1, 128, 42])\n",
      "torch.Size([64, 64, 128, 21])\n",
      "torch.Size([64, 64, 128, 21])\n",
      "torch.Size([64, 128, 128, 10])\n",
      "torch.Size([64, 512, 32, 2])\n",
      "torch.Size([64, 512])\n",
      "torch.Size([64, 512])\n",
      "torch.Size([64, 512])\n",
      "fc통과: torch.Size([64, 507])\n",
      "torch.Size([64, 512])\n"
     ]
    },
    {
     "name": "stderr",
     "output_type": "stream",
     "text": [
      " 12%|█████▌                                      | 5/40 [00:01<00:08,  4.37it/s]"
     ]
    },
    {
     "name": "stdout",
     "output_type": "stream",
     "text": [
      "torch.Size([64, 128, 52, 1])\n",
      "torch.Size([64, 1, 128, 52])\n",
      "torch.Size([64, 64, 128, 26])\n",
      "torch.Size([64, 64, 128, 26])\n",
      "torch.Size([64, 128, 128, 13])\n",
      "torch.Size([64, 512, 32, 3])\n",
      "torch.Size([64, 512])\n",
      "torch.Size([64, 512])\n",
      "torch.Size([64, 512])\n",
      "fc통과: torch.Size([64, 507])\n",
      "torch.Size([64, 512])\n"
     ]
    },
    {
     "name": "stderr",
     "output_type": "stream",
     "text": [
      " 15%|██████▌                                     | 6/40 [00:01<00:08,  4.12it/s]"
     ]
    },
    {
     "name": "stdout",
     "output_type": "stream",
     "text": [
      "torch.Size([64, 128, 40, 1])\n",
      "torch.Size([64, 1, 128, 40])\n",
      "torch.Size([64, 64, 128, 20])\n",
      "torch.Size([64, 64, 128, 20])\n",
      "torch.Size([64, 128, 128, 10])\n",
      "torch.Size([64, 512, 32, 2])\n",
      "torch.Size([64, 512])\n",
      "torch.Size([64, 512])\n",
      "torch.Size([64, 512])\n",
      "fc통과: torch.Size([64, 507])\n",
      "torch.Size([64, 512])\n"
     ]
    },
    {
     "name": "stderr",
     "output_type": "stream",
     "text": [
      " 18%|███████▋                                    | 7/40 [00:01<00:07,  4.21it/s]"
     ]
    },
    {
     "name": "stdout",
     "output_type": "stream",
     "text": [
      "torch.Size([64, 128, 64, 1])\n",
      "torch.Size([64, 1, 128, 64])\n",
      "torch.Size([64, 64, 128, 32])\n",
      "torch.Size([64, 64, 128, 32])\n",
      "torch.Size([64, 128, 128, 16])\n",
      "torch.Size([64, 512, 32, 4])\n",
      "torch.Size([64, 512])\n",
      "torch.Size([64, 512])\n",
      "torch.Size([64, 512])\n",
      "fc통과: torch.Size([64, 507])\n",
      "torch.Size([64, 512])\n"
     ]
    },
    {
     "name": "stderr",
     "output_type": "stream",
     "text": [
      " 20%|████████▊                                   | 8/40 [00:01<00:07,  4.06it/s]"
     ]
    },
    {
     "name": "stdout",
     "output_type": "stream",
     "text": [
      "torch.Size([64, 128, 42, 1])\n",
      "torch.Size([64, 1, 128, 42])\n",
      "torch.Size([64, 64, 128, 21])\n",
      "torch.Size([64, 64, 128, 21])\n",
      "torch.Size([64, 128, 128, 10])\n",
      "torch.Size([64, 512, 32, 2])\n",
      "torch.Size([64, 512])\n",
      "torch.Size([64, 512])\n",
      "torch.Size([64, 512])\n",
      "fc통과: torch.Size([64, 507])\n",
      "torch.Size([64, 512])\n"
     ]
    },
    {
     "name": "stderr",
     "output_type": "stream",
     "text": [
      " 22%|█████████▉                                  | 9/40 [00:02<00:07,  4.12it/s]"
     ]
    },
    {
     "name": "stdout",
     "output_type": "stream",
     "text": [
      "torch.Size([64, 128, 38, 1])\n",
      "torch.Size([64, 1, 128, 38])\n",
      "torch.Size([64, 64, 128, 19])\n",
      "torch.Size([64, 64, 128, 19])\n",
      "torch.Size([64, 128, 128, 9])\n",
      "torch.Size([64, 512, 32, 2])\n",
      "torch.Size([64, 512])\n",
      "torch.Size([64, 512])\n",
      "torch.Size([64, 512])\n",
      "fc통과: torch.Size([64, 507])\n",
      "torch.Size([64, 512])\n"
     ]
    },
    {
     "name": "stderr",
     "output_type": "stream",
     "text": [
      " 25%|██████████▊                                | 10/40 [00:02<00:06,  4.30it/s]"
     ]
    },
    {
     "name": "stdout",
     "output_type": "stream",
     "text": [
      "torch.Size([64, 128, 54, 1])\n",
      "torch.Size([64, 1, 128, 54])\n",
      "torch.Size([64, 64, 128, 27])\n",
      "torch.Size([64, 64, 128, 27])\n",
      "torch.Size([64, 128, 128, 13])\n",
      "torch.Size([64, 512, 32, 3])\n",
      "torch.Size([64, 512])\n",
      "torch.Size([64, 512])\n",
      "torch.Size([64, 512])\n",
      "fc통과: torch.Size([64, 507])\n",
      "torch.Size([64, 512])\n"
     ]
    },
    {
     "name": "stderr",
     "output_type": "stream",
     "text": [
      " 28%|███████████▊                               | 11/40 [00:02<00:07,  4.06it/s]"
     ]
    },
    {
     "name": "stdout",
     "output_type": "stream",
     "text": [
      "torch.Size([64, 128, 58, 1])\n",
      "torch.Size([64, 1, 128, 58])\n",
      "torch.Size([64, 64, 128, 29])\n",
      "torch.Size([64, 64, 128, 29])\n",
      "torch.Size([64, 128, 128, 14])\n",
      "torch.Size([64, 512, 32, 3])\n",
      "torch.Size([64, 512])\n",
      "torch.Size([64, 512])\n",
      "torch.Size([64, 512])\n",
      "fc통과: torch.Size([64, 507])\n",
      "torch.Size([64, 512])\n"
     ]
    },
    {
     "name": "stderr",
     "output_type": "stream",
     "text": [
      " 30%|████████████▉                              | 12/40 [00:02<00:07,  3.84it/s]"
     ]
    },
    {
     "name": "stdout",
     "output_type": "stream",
     "text": [
      "torch.Size([64, 128, 61, 1])\n",
      "torch.Size([64, 1, 128, 61])\n",
      "torch.Size([64, 64, 128, 30])\n",
      "torch.Size([64, 64, 128, 30])\n",
      "torch.Size([64, 128, 128, 15])\n",
      "torch.Size([64, 512, 32, 3])\n",
      "torch.Size([64, 512])\n",
      "torch.Size([64, 512])\n",
      "torch.Size([64, 512])\n",
      "fc통과: torch.Size([64, 507])\n",
      "torch.Size([64, 512])\n"
     ]
    },
    {
     "name": "stderr",
     "output_type": "stream",
     "text": [
      " 32%|█████████████▉                             | 13/40 [00:03<00:07,  3.65it/s]"
     ]
    },
    {
     "name": "stdout",
     "output_type": "stream",
     "text": [
      "torch.Size([64, 128, 37, 1])\n",
      "torch.Size([64, 1, 128, 37])\n",
      "torch.Size([64, 64, 128, 18])\n",
      "torch.Size([64, 64, 128, 18])\n",
      "torch.Size([64, 128, 128, 9])\n",
      "torch.Size([64, 512, 32, 2])\n",
      "torch.Size([64, 512])\n",
      "torch.Size([64, 512])\n",
      "torch.Size([64, 512])\n",
      "fc통과: torch.Size([64, 507])\n",
      "torch.Size([64, 512])\n"
     ]
    },
    {
     "name": "stderr",
     "output_type": "stream",
     "text": [
      " 35%|███████████████                            | 14/40 [00:03<00:06,  3.93it/s]"
     ]
    },
    {
     "name": "stdout",
     "output_type": "stream",
     "text": [
      "torch.Size([64, 128, 41, 1])\n",
      "torch.Size([64, 1, 128, 41])\n",
      "torch.Size([64, 64, 128, 20])\n",
      "torch.Size([64, 64, 128, 20])\n",
      "torch.Size([64, 128, 128, 10])\n",
      "torch.Size([64, 512, 32, 2])\n",
      "torch.Size([64, 512])\n",
      "torch.Size([64, 512])\n",
      "torch.Size([64, 512])\n",
      "fc통과: torch.Size([64, 507])\n",
      "torch.Size([64, 512])\n"
     ]
    },
    {
     "name": "stderr",
     "output_type": "stream",
     "text": [
      " 40%|█████████████████▏                         | 16/40 [00:03<00:05,  4.31it/s]"
     ]
    },
    {
     "name": "stdout",
     "output_type": "stream",
     "text": [
      "torch.Size([64, 128, 35, 1])\n",
      "torch.Size([64, 1, 128, 35])\n",
      "torch.Size([64, 64, 128, 17])\n",
      "torch.Size([64, 64, 128, 17])\n",
      "torch.Size([64, 128, 128, 8])\n",
      "torch.Size([64, 512, 32, 2])\n",
      "torch.Size([64, 512])\n",
      "torch.Size([64, 512])\n",
      "torch.Size([64, 512])\n",
      "fc통과: torch.Size([64, 507])\n",
      "torch.Size([64, 512])\n",
      "torch.Size([64, 128, 48, 1])\n",
      "torch.Size([64, 1, 128, 48])\n",
      "torch.Size([64, 64, 128, 24])\n",
      "torch.Size([64, 64, 128, 24])\n",
      "torch.Size([64, 128, 128, 12])\n",
      "torch.Size([64, 512, 32, 3])\n",
      "torch.Size([64, 512])\n",
      "torch.Size([64, 512])\n",
      "torch.Size([64, 512])\n",
      "fc통과: torch.Size([64, 507])\n",
      "torch.Size([64, 512])\n"
     ]
    },
    {
     "name": "stderr",
     "output_type": "stream",
     "text": [
      " 42%|██████████████████▎                        | 17/40 [00:04<00:05,  4.21it/s]"
     ]
    },
    {
     "name": "stdout",
     "output_type": "stream",
     "text": [
      "torch.Size([64, 128, 40, 1])\n",
      "torch.Size([64, 1, 128, 40])\n",
      "torch.Size([64, 64, 128, 20])\n",
      "torch.Size([64, 64, 128, 20])\n",
      "torch.Size([64, 128, 128, 10])\n",
      "torch.Size([64, 512, 32, 2])\n",
      "torch.Size([64, 512])\n",
      "torch.Size([64, 512])\n",
      "torch.Size([64, 512])\n",
      "fc통과: torch.Size([64, 507])\n",
      "torch.Size([64, 512])\n"
     ]
    },
    {
     "name": "stderr",
     "output_type": "stream",
     "text": [
      " 48%|████████████████████▍                      | 19/40 [00:04<00:04,  4.51it/s]"
     ]
    },
    {
     "name": "stdout",
     "output_type": "stream",
     "text": [
      "torch.Size([64, 128, 33, 1])\n",
      "torch.Size([64, 1, 128, 33])\n",
      "torch.Size([64, 64, 128, 16])\n",
      "torch.Size([64, 64, 128, 16])\n",
      "torch.Size([64, 128, 128, 8])\n",
      "torch.Size([64, 512, 32, 2])\n",
      "torch.Size([64, 512])\n",
      "torch.Size([64, 512])\n",
      "torch.Size([64, 512])\n",
      "fc통과: torch.Size([64, 507])\n",
      "torch.Size([64, 512])\n",
      "torch.Size([64, 128, 33, 1])\n",
      "torch.Size([64, 1, 128, 33])\n",
      "torch.Size([64, 64, 128, 16])\n",
      "torch.Size([64, 64, 128, 16])\n",
      "torch.Size([64, 128, 128, 8])\n",
      "torch.Size([64, 512, 32, 2])\n",
      "torch.Size([64, 512])\n",
      "torch.Size([64, 512])\n",
      "torch.Size([64, 512])\n",
      "fc통과: torch.Size([64, 507])\n",
      "torch.Size([64, 512])\n"
     ]
    },
    {
     "name": "stderr",
     "output_type": "stream",
     "text": [
      " 52%|██████████████████████▌                    | 21/40 [00:04<00:03,  4.79it/s]"
     ]
    },
    {
     "name": "stdout",
     "output_type": "stream",
     "text": [
      "torch.Size([64, 128, 35, 1])\n",
      "torch.Size([64, 1, 128, 35])\n",
      "torch.Size([64, 64, 128, 17])\n",
      "torch.Size([64, 64, 128, 17])\n",
      "torch.Size([64, 128, 128, 8])\n",
      "torch.Size([64, 512, 32, 2])\n",
      "torch.Size([64, 512])\n",
      "torch.Size([64, 512])\n",
      "torch.Size([64, 512])\n",
      "fc통과: torch.Size([64, 507])\n",
      "torch.Size([64, 512])\n",
      "torch.Size([64, 128, 35, 1])\n",
      "torch.Size([64, 1, 128, 35])\n",
      "torch.Size([64, 64, 128, 17])\n",
      "torch.Size([64, 64, 128, 17])\n",
      "torch.Size([64, 128, 128, 8])\n"
     ]
    },
    {
     "name": "stderr",
     "output_type": "stream",
     "text": [
      " 55%|███████████████████████▋                   | 22/40 [00:05<00:03,  4.86it/s]"
     ]
    },
    {
     "name": "stdout",
     "output_type": "stream",
     "text": [
      "torch.Size([64, 512, 32, 2])\n",
      "torch.Size([64, 512])\n",
      "torch.Size([64, 512])\n",
      "torch.Size([64, 512])\n",
      "fc통과: torch.Size([64, 507])\n",
      "torch.Size([64, 512])\n",
      "torch.Size([64, 128, 32, 1])\n",
      "torch.Size([64, 1, 128, 32])\n",
      "torch.Size([64, 64, 128, 16])\n",
      "torch.Size([64, 64, 128, 16])\n",
      "torch.Size([64, 128, 128, 8])\n",
      "torch.Size([64, 512, 32, 2])\n",
      "torch.Size([64, 512])\n",
      "torch.Size([64, 512])\n",
      "torch.Size([64, 512])\n",
      "fc통과: torch.Size([64, 507])\n",
      "torch.Size([64, 512])\n"
     ]
    },
    {
     "name": "stderr",
     "output_type": "stream",
     "text": [
      " 57%|████████████████████████▋                  | 23/40 [00:05<00:03,  4.98it/s]"
     ]
    },
    {
     "name": "stdout",
     "output_type": "stream",
     "text": [
      "torch.Size([64, 128, 37, 1])\n",
      "torch.Size([64, 1, 128, 37])\n",
      "torch.Size([64, 64, 128, 18])\n",
      "torch.Size([64, 64, 128, 18])\n",
      "torch.Size([64, 128, 128, 9])\n",
      "torch.Size([64, 512, 32, 2])\n",
      "torch.Size([64, 512])\n",
      "torch.Size([64, 512])\n",
      "torch.Size([64, 512])\n",
      "fc통과: torch.Size([64, 507])\n",
      "torch.Size([64, 512])\n"
     ]
    },
    {
     "name": "stderr",
     "output_type": "stream",
     "text": [
      " 60%|█████████████████████████▊                 | 24/40 [00:05<00:03,  4.91it/s]"
     ]
    },
    {
     "name": "stdout",
     "output_type": "stream",
     "text": [
      "torch.Size([64, 128, 47, 1])\n",
      "torch.Size([64, 1, 128, 47])\n",
      "torch.Size([64, 64, 128, 23])\n",
      "torch.Size([64, 64, 128, 23])\n",
      "torch.Size([64, 128, 128, 11])\n",
      "torch.Size([64, 512, 32, 2])\n",
      "torch.Size([64, 512])\n",
      "torch.Size([64, 512])\n",
      "torch.Size([64, 512])\n",
      "fc통과: torch.Size([64, 507])\n",
      "torch.Size([64, 512])\n"
     ]
    },
    {
     "name": "stderr",
     "output_type": "stream",
     "text": [
      " 65%|███████████████████████████▉               | 26/40 [00:05<00:02,  4.76it/s]"
     ]
    },
    {
     "name": "stdout",
     "output_type": "stream",
     "text": [
      "torch.Size([64, 128, 34, 1])\n",
      "torch.Size([64, 1, 128, 34])\n",
      "torch.Size([64, 64, 128, 17])\n",
      "torch.Size([64, 64, 128, 17])\n",
      "torch.Size([64, 128, 128, 8])\n",
      "torch.Size([64, 512, 32, 2])\n",
      "torch.Size([64, 512])\n",
      "torch.Size([64, 512])\n",
      "torch.Size([64, 512])\n",
      "fc통과: torch.Size([64, 507])\n",
      "torch.Size([64, 512])\n",
      "torch.Size([64, 128, 24, 1])\n",
      "torch.Size([64, 1, 128, 24])\n",
      "torch.Size([64, 64, 128, 12])\n",
      "torch.Size([64, 64, 128, 12])\n",
      "torch.Size([64, 128, 128, 6])\n",
      "torch.Size([64, 512, 32, 1])\n",
      "torch.Size([64, 512])\n",
      "torch.Size([64, 512])\n",
      "torch.Size([64, 512])\n",
      "fc통과: torch.Size([64, 507])\n",
      "torch.Size([64, 512])\n"
     ]
    },
    {
     "name": "stderr",
     "output_type": "stream",
     "text": [
      " 70%|██████████████████████████████             | 28/40 [00:06<00:02,  5.31it/s]"
     ]
    },
    {
     "name": "stdout",
     "output_type": "stream",
     "text": [
      "torch.Size([64, 128, 25, 1])\n",
      "torch.Size([64, 1, 128, 25])\n",
      "torch.Size([64, 64, 128, 12])\n",
      "torch.Size([64, 64, 128, 12])\n",
      "torch.Size([64, 128, 128, 6])\n",
      "torch.Size([64, 512, 32, 1])\n",
      "torch.Size([64, 512])\n",
      "torch.Size([64, 512])\n",
      "torch.Size([64, 512])\n",
      "fc통과: torch.Size([64, 507])\n",
      "torch.Size([64, 512])\n",
      "torch.Size([64, 128, 30, 1])\n",
      "torch.Size([64, 1, 128, 30])\n",
      "torch.Size([64, 64, 128, 15])\n",
      "torch.Size([64, 64, 128, 15])\n",
      "torch.Size([64, 128, 128, 7])\n",
      "torch.Size([64, 512, 32, 1])\n",
      "torch.Size([64, 512])\n",
      "torch.Size([64, 512])\n",
      "torch.Size([64, 512])\n",
      "fc통과: torch.Size([64, 507])\n",
      "torch.Size([64, 512])\n"
     ]
    },
    {
     "name": "stderr",
     "output_type": "stream",
     "text": [
      " 72%|███████████████████████████████▏           | 29/40 [00:06<00:02,  5.33it/s]"
     ]
    },
    {
     "name": "stdout",
     "output_type": "stream",
     "text": [
      "torch.Size([64, 128, 37, 1])\n",
      "torch.Size([64, 1, 128, 37])\n",
      "torch.Size([64, 64, 128, 18])\n",
      "torch.Size([64, 64, 128, 18])\n",
      "torch.Size([64, 128, 128, 9])\n",
      "torch.Size([64, 512, 32, 2])\n",
      "torch.Size([64, 512])\n",
      "torch.Size([64, 512])\n",
      "torch.Size([64, 512])\n",
      "fc통과: torch.Size([64, 507])\n",
      "torch.Size([64, 512])\n"
     ]
    },
    {
     "name": "stderr",
     "output_type": "stream",
     "text": [
      " 78%|█████████████████████████████████▎         | 31/40 [00:06<00:01,  5.16it/s]"
     ]
    },
    {
     "name": "stdout",
     "output_type": "stream",
     "text": [
      "torch.Size([64, 128, 33, 1])\n",
      "torch.Size([64, 1, 128, 33])\n",
      "torch.Size([64, 64, 128, 16])\n",
      "torch.Size([64, 64, 128, 16])\n",
      "torch.Size([64, 128, 128, 8])\n",
      "torch.Size([64, 512, 32, 2])\n",
      "torch.Size([64, 512])\n",
      "torch.Size([64, 512])\n",
      "torch.Size([64, 512])\n",
      "fc통과: torch.Size([64, 507])\n",
      "torch.Size([64, 512])\n",
      "torch.Size([64, 128, 36, 1])\n",
      "torch.Size([64, 1, 128, 36])\n",
      "torch.Size([64, 64, 128, 18])\n",
      "torch.Size([64, 64, 128, 18])\n",
      "torch.Size([64, 128, 128, 9])\n",
      "torch.Size([64, 512, 32, 2])\n",
      "torch.Size([64, 512])\n",
      "torch.Size([64, 512])\n",
      "torch.Size([64, 512])\n",
      "fc통과: torch.Size([64, 507])\n",
      "torch.Size([64, 512])\n"
     ]
    },
    {
     "name": "stderr",
     "output_type": "stream",
     "text": [
      " 82%|███████████████████████████████████▍       | 33/40 [00:07<00:01,  5.07it/s]"
     ]
    },
    {
     "name": "stdout",
     "output_type": "stream",
     "text": [
      "torch.Size([64, 128, 34, 1])\n",
      "torch.Size([64, 1, 128, 34])\n",
      "torch.Size([64, 64, 128, 17])\n",
      "torch.Size([64, 64, 128, 17])\n",
      "torch.Size([64, 128, 128, 8])\n",
      "torch.Size([64, 512, 32, 2])\n",
      "torch.Size([64, 512])\n",
      "torch.Size([64, 512])\n",
      "torch.Size([64, 512])\n",
      "fc통과: torch.Size([64, 507])\n",
      "torch.Size([64, 512])\n",
      "torch.Size([64, 128, 33, 1])\n",
      "torch.Size([64, 1, 128, 33])\n",
      "torch.Size([64, 64, 128, 16])\n",
      "torch.Size([64, 64, 128, 16])\n",
      "torch.Size([64, 128, 128, 8])\n",
      "torch.Size([64, 512, 32, 2])\n",
      "torch.Size([64, 512])\n",
      "torch.Size([64, 512])\n",
      "torch.Size([64, 512])\n",
      "fc통과: torch.Size([64, 507])\n",
      "torch.Size([64, 512])\n"
     ]
    },
    {
     "name": "stderr",
     "output_type": "stream",
     "text": [
      " 88%|█████████████████████████████████████▋     | 35/40 [00:07<00:00,  5.15it/s]"
     ]
    },
    {
     "name": "stdout",
     "output_type": "stream",
     "text": [
      "torch.Size([64, 128, 32, 1])\n",
      "torch.Size([64, 1, 128, 32])\n",
      "torch.Size([64, 64, 128, 16])\n",
      "torch.Size([64, 64, 128, 16])\n",
      "torch.Size([64, 128, 128, 8])\n",
      "torch.Size([64, 512, 32, 2])\n",
      "torch.Size([64, 512])\n",
      "torch.Size([64, 512])\n",
      "torch.Size([64, 512])\n",
      "fc통과: torch.Size([64, 507])\n",
      "torch.Size([64, 512])\n",
      "torch.Size([64, 128, 36, 1])\n",
      "torch.Size([64, 1, 128, 36])\n",
      "torch.Size([64, 64, 128, 18])\n",
      "torch.Size([64, 64, 128, 18])\n",
      "torch.Size([64, 128, 128, 9])\n",
      "torch.Size([64, 512, 32, 2])\n",
      "torch.Size([64, 512])\n",
      "torch.Size([64, 512])\n",
      "torch.Size([64, 512])\n",
      "fc통과: torch.Size([64, 507])\n",
      "torch.Size([64, 512])\n"
     ]
    },
    {
     "name": "stderr",
     "output_type": "stream",
     "text": [
      " 92%|███████████████████████████████████████▊   | 37/40 [00:08<00:00,  5.07it/s]"
     ]
    },
    {
     "name": "stdout",
     "output_type": "stream",
     "text": [
      "torch.Size([64, 128, 34, 1])\n",
      "torch.Size([64, 1, 128, 34])\n",
      "torch.Size([64, 64, 128, 17])\n",
      "torch.Size([64, 64, 128, 17])\n",
      "torch.Size([64, 128, 128, 8])\n",
      "torch.Size([64, 512, 32, 2])\n",
      "torch.Size([64, 512])\n",
      "torch.Size([64, 512])\n",
      "torch.Size([64, 512])\n",
      "fc통과: torch.Size([64, 507])\n",
      "torch.Size([64, 512])\n",
      "torch.Size([64, 128, 35, 1])\n",
      "torch.Size([64, 1, 128, 35])\n",
      "torch.Size([64, 64, 128, 17])\n",
      "torch.Size([64, 64, 128, 17])\n",
      "torch.Size([64, 128, 128, 8])\n",
      "torch.Size([64, 512, 32, 2])\n",
      "torch.Size([64, 512])\n",
      "torch.Size([64, 512])\n",
      "torch.Size([64, 512])\n",
      "fc통과: torch.Size([64, 507])\n",
      "torch.Size([64, 512])\n"
     ]
    },
    {
     "name": "stderr",
     "output_type": "stream",
     "text": [
      " 98%|█████████████████████████████████████████▉ | 39/40 [00:08<00:00,  5.10it/s]"
     ]
    },
    {
     "name": "stdout",
     "output_type": "stream",
     "text": [
      "torch.Size([64, 128, 33, 1])\n",
      "torch.Size([64, 1, 128, 33])\n",
      "torch.Size([64, 64, 128, 16])\n",
      "torch.Size([64, 64, 128, 16])\n",
      "torch.Size([64, 128, 128, 8])\n",
      "torch.Size([64, 512, 32, 2])\n",
      "torch.Size([64, 512])\n",
      "torch.Size([64, 512])\n",
      "torch.Size([64, 512])\n",
      "fc통과: torch.Size([64, 507])\n",
      "torch.Size([64, 512])\n",
      "torch.Size([36, 128, 33, 1])\n",
      "torch.Size([36, 1, 128, 33])\n",
      "torch.Size([36, 64, 128, 16])\n",
      "torch.Size([36, 64, 128, 16])\n",
      "torch.Size([36, 128, 128, 8])\n",
      "torch.Size([36, 512, 32, 2])\n",
      "torch.Size([36, 512])\n",
      "torch.Size([36, 512])\n",
      "torch.Size([36, 512])\n",
      "fc통과: torch.Size([36, 507])\n",
      "torch.Size([36, 512])\n"
     ]
    },
    {
     "name": "stderr",
     "output_type": "stream",
     "text": [
      "100%|███████████████████████████████████████████| 40/40 [00:08<00:00,  4.70it/s]"
     ]
    },
    {
     "name": "stdout",
     "output_type": "stream",
     "text": [
      "07-04 16:50 [MainProcess, 23066] [INFO ]  Iteration:3, loss = 0.791280, acc = 97.500 \n",
      "07-04 16:50 [MainProcess, 23066] [INFO ]  Iteration:3, loss = 0.791280, acc = 97.500 \n",
      "07-04 16:50 [MainProcess, 23066] [INFO ]  Iteration:3, loss = 0.791280, acc = 97.500 \n",
      "07-04 16:50 [MainProcess, 23066] [INFO ]  Iteration:3, loss = 0.791280, acc = 97.500 \n",
      "07-04 16:50 [MainProcess, 23066] [INFO ]  Iteration:3, loss = 0.791280, acc = 97.500 \n",
      "07-04 16:50 [MainProcess, 23066] [INFO ]  Iteration:3, loss = 0.791280, acc = 97.500 \n",
      "07-04 16:50 [MainProcess, 23066] [INFO ]  Iteration:3, loss = 0.791280, acc = 97.500 \n",
      "07-04 16:50 [MainProcess, 23066] [INFO ]  Iteration:3, loss = 0.791280, acc = 97.500 \n"
     ]
    },
    {
     "name": "stderr",
     "output_type": "stream",
     "text": [
      "\n",
      "  0%|                                                    | 0/40 [00:00<?, ?it/s]"
     ]
    },
    {
     "name": "stdout",
     "output_type": "stream",
     "text": [
      "torch.Size([64, 128, 34, 1])\n",
      "torch.Size([64, 1, 128, 34])\n",
      "torch.Size([64, 64, 128, 17])\n",
      "torch.Size([64, 64, 128, 17])\n",
      "torch.Size([64, 128, 128, 8])\n",
      "torch.Size([64, 512, 32, 2])\n",
      "torch.Size([64, 512])\n",
      "torch.Size([64, 512])\n",
      "torch.Size([64, 512])\n",
      "fc통과: torch.Size([64, 507])\n",
      "torch.Size([64, 512])\n"
     ]
    },
    {
     "name": "stderr",
     "output_type": "stream",
     "text": [
      "  2%|█                                           | 1/40 [00:00<00:07,  5.09it/s]"
     ]
    },
    {
     "name": "stdout",
     "output_type": "stream",
     "text": [
      "torch.Size([64, 128, 39, 1])\n",
      "torch.Size([64, 1, 128, 39])\n",
      "torch.Size([64, 64, 128, 19])\n",
      "torch.Size([64, 64, 128, 19])\n",
      "torch.Size([64, 128, 128, 9])\n",
      "torch.Size([64, 512, 32, 2])\n",
      "torch.Size([64, 512])\n",
      "torch.Size([64, 512])\n",
      "torch.Size([64, 512])\n",
      "fc통과: torch.Size([64, 507])\n",
      "torch.Size([64, 512])\n"
     ]
    },
    {
     "name": "stderr",
     "output_type": "stream",
     "text": [
      "  5%|██▏                                         | 2/40 [00:00<00:07,  4.83it/s]"
     ]
    },
    {
     "name": "stdout",
     "output_type": "stream",
     "text": [
      "torch.Size([64, 128, 48, 1])\n",
      "torch.Size([64, 1, 128, 48])\n",
      "torch.Size([64, 64, 128, 24])\n",
      "torch.Size([64, 64, 128, 24])\n",
      "torch.Size([64, 128, 128, 12])\n",
      "torch.Size([64, 512, 32, 3])\n",
      "torch.Size([64, 512])\n",
      "torch.Size([64, 512])\n",
      "torch.Size([64, 512])\n",
      "fc통과: torch.Size([64, 507])\n",
      "torch.Size([64, 512])\n"
     ]
    },
    {
     "name": "stderr",
     "output_type": "stream",
     "text": [
      "  8%|███▎                                        | 3/40 [00:00<00:08,  4.42it/s]"
     ]
    },
    {
     "name": "stdout",
     "output_type": "stream",
     "text": [
      "torch.Size([64, 128, 40, 1])\n",
      "torch.Size([64, 1, 128, 40])\n",
      "torch.Size([64, 64, 128, 20])\n",
      "torch.Size([64, 64, 128, 20])\n",
      "torch.Size([64, 128, 128, 10])\n",
      "torch.Size([64, 512, 32, 2])\n",
      "torch.Size([64, 512])\n",
      "torch.Size([64, 512])\n",
      "torch.Size([64, 512])\n",
      "fc통과: torch.Size([64, 507])\n",
      "torch.Size([64, 512])\n"
     ]
    },
    {
     "name": "stderr",
     "output_type": "stream",
     "text": [
      " 10%|████▍                                       | 4/40 [00:00<00:08,  4.41it/s]"
     ]
    },
    {
     "name": "stdout",
     "output_type": "stream",
     "text": [
      "torch.Size([64, 128, 42, 1])\n",
      "torch.Size([64, 1, 128, 42])\n",
      "torch.Size([64, 64, 128, 21])\n",
      "torch.Size([64, 64, 128, 21])\n",
      "torch.Size([64, 128, 128, 10])\n",
      "torch.Size([64, 512, 32, 2])\n",
      "torch.Size([64, 512])\n",
      "torch.Size([64, 512])\n",
      "torch.Size([64, 512])\n",
      "fc통과: torch.Size([64, 507])\n",
      "torch.Size([64, 512])\n"
     ]
    },
    {
     "name": "stderr",
     "output_type": "stream",
     "text": [
      " 12%|█████▌                                      | 5/40 [00:01<00:08,  4.36it/s]"
     ]
    },
    {
     "name": "stdout",
     "output_type": "stream",
     "text": [
      "torch.Size([64, 128, 52, 1])\n",
      "torch.Size([64, 1, 128, 52])\n",
      "torch.Size([64, 64, 128, 26])\n",
      "torch.Size([64, 64, 128, 26])\n",
      "torch.Size([64, 128, 128, 13])\n",
      "torch.Size([64, 512, 32, 3])\n",
      "torch.Size([64, 512])\n",
      "torch.Size([64, 512])\n",
      "torch.Size([64, 512])\n",
      "fc통과: torch.Size([64, 507])\n",
      "torch.Size([64, 512])\n"
     ]
    },
    {
     "name": "stderr",
     "output_type": "stream",
     "text": [
      " 15%|██████▌                                     | 6/40 [00:01<00:08,  4.11it/s]"
     ]
    },
    {
     "name": "stdout",
     "output_type": "stream",
     "text": [
      "torch.Size([64, 128, 40, 1])\n",
      "torch.Size([64, 1, 128, 40])\n",
      "torch.Size([64, 64, 128, 20])\n",
      "torch.Size([64, 64, 128, 20])\n",
      "torch.Size([64, 128, 128, 10])\n",
      "torch.Size([64, 512, 32, 2])\n",
      "torch.Size([64, 512])\n",
      "torch.Size([64, 512])\n",
      "torch.Size([64, 512])\n",
      "fc통과: torch.Size([64, 507])\n",
      "torch.Size([64, 512])\n"
     ]
    },
    {
     "name": "stderr",
     "output_type": "stream",
     "text": [
      " 18%|███████▋                                    | 7/40 [00:01<00:07,  4.20it/s]"
     ]
    },
    {
     "name": "stdout",
     "output_type": "stream",
     "text": [
      "torch.Size([64, 128, 64, 1])\n",
      "torch.Size([64, 1, 128, 64])\n",
      "torch.Size([64, 64, 128, 32])\n",
      "torch.Size([64, 64, 128, 32])\n",
      "torch.Size([64, 128, 128, 16])\n",
      "torch.Size([64, 512, 32, 4])\n",
      "torch.Size([64, 512])\n",
      "torch.Size([64, 512])\n",
      "torch.Size([64, 512])\n",
      "fc통과: torch.Size([64, 507])\n",
      "torch.Size([64, 512])\n"
     ]
    },
    {
     "name": "stderr",
     "output_type": "stream",
     "text": [
      " 20%|████████▊                                   | 8/40 [00:01<00:07,  4.05it/s]"
     ]
    },
    {
     "name": "stdout",
     "output_type": "stream",
     "text": [
      "torch.Size([64, 128, 42, 1])\n",
      "torch.Size([64, 1, 128, 42])\n",
      "torch.Size([64, 64, 128, 21])\n",
      "torch.Size([64, 64, 128, 21])\n",
      "torch.Size([64, 128, 128, 10])\n",
      "torch.Size([64, 512, 32, 2])\n",
      "torch.Size([64, 512])\n",
      "torch.Size([64, 512])\n",
      "torch.Size([64, 512])\n",
      "fc통과: torch.Size([64, 507])\n",
      "torch.Size([64, 512])\n"
     ]
    },
    {
     "name": "stderr",
     "output_type": "stream",
     "text": [
      " 22%|█████████▉                                  | 9/40 [00:02<00:07,  4.11it/s]"
     ]
    },
    {
     "name": "stdout",
     "output_type": "stream",
     "text": [
      "torch.Size([64, 128, 38, 1])\n",
      "torch.Size([64, 1, 128, 38])\n",
      "torch.Size([64, 64, 128, 19])\n",
      "torch.Size([64, 64, 128, 19])\n",
      "torch.Size([64, 128, 128, 9])\n",
      "torch.Size([64, 512, 32, 2])\n",
      "torch.Size([64, 512])\n",
      "torch.Size([64, 512])\n",
      "torch.Size([64, 512])\n",
      "fc통과: torch.Size([64, 507])\n",
      "torch.Size([64, 512])\n"
     ]
    },
    {
     "name": "stderr",
     "output_type": "stream",
     "text": [
      " 25%|██████████▊                                | 10/40 [00:02<00:07,  4.29it/s]"
     ]
    },
    {
     "name": "stdout",
     "output_type": "stream",
     "text": [
      "torch.Size([64, 128, 54, 1])\n",
      "torch.Size([64, 1, 128, 54])\n",
      "torch.Size([64, 64, 128, 27])\n",
      "torch.Size([64, 64, 128, 27])\n",
      "torch.Size([64, 128, 128, 13])\n",
      "torch.Size([64, 512, 32, 3])\n",
      "torch.Size([64, 512])\n",
      "torch.Size([64, 512])\n",
      "torch.Size([64, 512])\n",
      "fc통과: torch.Size([64, 507])\n",
      "torch.Size([64, 512])\n"
     ]
    },
    {
     "name": "stderr",
     "output_type": "stream",
     "text": [
      " 28%|███████████▊                               | 11/40 [00:02<00:07,  4.05it/s]"
     ]
    },
    {
     "name": "stdout",
     "output_type": "stream",
     "text": [
      "torch.Size([64, 128, 58, 1])\n",
      "torch.Size([64, 1, 128, 58])\n",
      "torch.Size([64, 64, 128, 29])\n",
      "torch.Size([64, 64, 128, 29])\n",
      "torch.Size([64, 128, 128, 14])\n",
      "torch.Size([64, 512, 32, 3])\n",
      "torch.Size([64, 512])\n",
      "torch.Size([64, 512])\n",
      "torch.Size([64, 512])\n",
      "fc통과: torch.Size([64, 507])\n",
      "torch.Size([64, 512])\n"
     ]
    },
    {
     "name": "stderr",
     "output_type": "stream",
     "text": [
      " 30%|████████████▉                              | 12/40 [00:02<00:07,  3.83it/s]"
     ]
    },
    {
     "name": "stdout",
     "output_type": "stream",
     "text": [
      "torch.Size([64, 128, 61, 1])\n",
      "torch.Size([64, 1, 128, 61])\n",
      "torch.Size([64, 64, 128, 30])\n",
      "torch.Size([64, 64, 128, 30])\n",
      "torch.Size([64, 128, 128, 15])\n",
      "torch.Size([64, 512, 32, 3])\n",
      "torch.Size([64, 512])\n",
      "torch.Size([64, 512])\n",
      "torch.Size([64, 512])\n",
      "fc통과: torch.Size([64, 507])\n",
      "torch.Size([64, 512])\n"
     ]
    },
    {
     "name": "stderr",
     "output_type": "stream",
     "text": [
      " 32%|█████████████▉                             | 13/40 [00:03<00:07,  3.64it/s]"
     ]
    },
    {
     "name": "stdout",
     "output_type": "stream",
     "text": [
      "torch.Size([64, 128, 37, 1])\n",
      "torch.Size([64, 1, 128, 37])\n",
      "torch.Size([64, 64, 128, 18])\n",
      "torch.Size([64, 64, 128, 18])\n",
      "torch.Size([64, 128, 128, 9])\n",
      "torch.Size([64, 512, 32, 2])\n",
      "torch.Size([64, 512])\n",
      "torch.Size([64, 512])\n",
      "torch.Size([64, 512])\n",
      "fc통과: torch.Size([64, 507])\n",
      "torch.Size([64, 512])\n"
     ]
    },
    {
     "name": "stderr",
     "output_type": "stream",
     "text": [
      " 35%|███████████████                            | 14/40 [00:03<00:06,  3.92it/s]"
     ]
    },
    {
     "name": "stdout",
     "output_type": "stream",
     "text": [
      "torch.Size([64, 128, 41, 1])\n",
      "torch.Size([64, 1, 128, 41])\n",
      "torch.Size([64, 64, 128, 20])\n",
      "torch.Size([64, 64, 128, 20])\n",
      "torch.Size([64, 128, 128, 10])\n",
      "torch.Size([64, 512, 32, 2])\n",
      "torch.Size([64, 512])\n",
      "torch.Size([64, 512])\n",
      "torch.Size([64, 512])\n",
      "fc통과: torch.Size([64, 507])\n",
      "torch.Size([64, 512])\n"
     ]
    },
    {
     "name": "stderr",
     "output_type": "stream",
     "text": [
      " 40%|█████████████████▏                         | 16/40 [00:03<00:05,  4.30it/s]"
     ]
    },
    {
     "name": "stdout",
     "output_type": "stream",
     "text": [
      "torch.Size([64, 128, 35, 1])\n",
      "torch.Size([64, 1, 128, 35])\n",
      "torch.Size([64, 64, 128, 17])\n",
      "torch.Size([64, 64, 128, 17])\n",
      "torch.Size([64, 128, 128, 8])\n",
      "torch.Size([64, 512, 32, 2])\n",
      "torch.Size([64, 512])\n",
      "torch.Size([64, 512])\n",
      "torch.Size([64, 512])\n",
      "fc통과: torch.Size([64, 507])\n",
      "torch.Size([64, 512])\n",
      "torch.Size([64, 128, 48, 1])\n",
      "torch.Size([64, 1, 128, 48])\n",
      "torch.Size([64, 64, 128, 24])\n",
      "torch.Size([64, 64, 128, 24])\n",
      "torch.Size([64, 128, 128, 12])\n",
      "torch.Size([64, 512, 32, 3])\n",
      "torch.Size([64, 512])\n",
      "torch.Size([64, 512])\n",
      "torch.Size([64, 512])\n",
      "fc통과: torch.Size([64, 507])\n",
      "torch.Size([64, 512])\n"
     ]
    },
    {
     "name": "stderr",
     "output_type": "stream",
     "text": [
      " 42%|██████████████████▎                        | 17/40 [00:04<00:05,  4.21it/s]"
     ]
    },
    {
     "name": "stdout",
     "output_type": "stream",
     "text": [
      "torch.Size([64, 128, 40, 1])\n",
      "torch.Size([64, 1, 128, 40])\n",
      "torch.Size([64, 64, 128, 20])\n",
      "torch.Size([64, 64, 128, 20])\n",
      "torch.Size([64, 128, 128, 10])\n",
      "torch.Size([64, 512, 32, 2])\n",
      "torch.Size([64, 512])\n",
      "torch.Size([64, 512])\n",
      "torch.Size([64, 512])\n",
      "fc통과: torch.Size([64, 507])\n",
      "torch.Size([64, 512])\n"
     ]
    },
    {
     "name": "stderr",
     "output_type": "stream",
     "text": [
      " 48%|████████████████████▍                      | 19/40 [00:04<00:04,  4.51it/s]"
     ]
    },
    {
     "name": "stdout",
     "output_type": "stream",
     "text": [
      "torch.Size([64, 128, 33, 1])\n",
      "torch.Size([64, 1, 128, 33])\n",
      "torch.Size([64, 64, 128, 16])\n",
      "torch.Size([64, 64, 128, 16])\n",
      "torch.Size([64, 128, 128, 8])\n",
      "torch.Size([64, 512, 32, 2])\n",
      "torch.Size([64, 512])\n",
      "torch.Size([64, 512])\n",
      "torch.Size([64, 512])\n",
      "fc통과: torch.Size([64, 507])\n",
      "torch.Size([64, 512])\n",
      "torch.Size([64, 128, 33, 1])\n",
      "torch.Size([64, 1, 128, 33])\n",
      "torch.Size([64, 64, 128, 16])\n",
      "torch.Size([64, 64, 128, 16])\n",
      "torch.Size([64, 128, 128, 8])\n",
      "torch.Size([64, 512, 32, 2])\n",
      "torch.Size([64, 512])\n",
      "torch.Size([64, 512])\n",
      "torch.Size([64, 512])\n",
      "fc통과: torch.Size([64, 507])\n",
      "torch.Size([64, 512])\n"
     ]
    },
    {
     "name": "stderr",
     "output_type": "stream",
     "text": [
      " 52%|██████████████████████▌                    | 21/40 [00:04<00:03,  4.79it/s]"
     ]
    },
    {
     "name": "stdout",
     "output_type": "stream",
     "text": [
      "torch.Size([64, 128, 35, 1])\n",
      "torch.Size([64, 1, 128, 35])\n",
      "torch.Size([64, 64, 128, 17])\n",
      "torch.Size([64, 64, 128, 17])\n",
      "torch.Size([64, 128, 128, 8])\n",
      "torch.Size([64, 512, 32, 2])\n",
      "torch.Size([64, 512])\n",
      "torch.Size([64, 512])\n",
      "torch.Size([64, 512])\n",
      "fc통과: torch.Size([64, 507])\n",
      "torch.Size([64, 512])\n",
      "torch.Size([64, 128, 35, 1])\n",
      "torch.Size([64, 1, 128, 35])\n",
      "torch.Size([64, 64, 128, 17])\n",
      "torch.Size([64, 64, 128, 17])\n"
     ]
    },
    {
     "name": "stderr",
     "output_type": "stream",
     "text": [
      " 55%|███████████████████████▋                   | 22/40 [00:05<00:03,  4.85it/s]"
     ]
    },
    {
     "name": "stdout",
     "output_type": "stream",
     "text": [
      "torch.Size([64, 128, 128, 8])\n",
      "torch.Size([64, 512, 32, 2])\n",
      "torch.Size([64, 512])\n",
      "torch.Size([64, 512])\n",
      "torch.Size([64, 512])\n",
      "fc통과: torch.Size([64, 507])\n",
      "torch.Size([64, 512])\n",
      "torch.Size([64, 128, 32, 1])\n",
      "torch.Size([64, 1, 128, 32])\n",
      "torch.Size([64, 64, 128, 16])\n",
      "torch.Size([64, 64, 128, 16])\n",
      "torch.Size([64, 128, 128, 8])\n",
      "torch.Size([64, 512, 32, 2])\n",
      "torch.Size([64, 512])\n",
      "torch.Size([64, 512])\n",
      "torch.Size([64, 512])\n",
      "fc통과: torch.Size([64, 507])\n",
      "torch.Size([64, 512])\n"
     ]
    },
    {
     "name": "stderr",
     "output_type": "stream",
     "text": [
      " 57%|████████████████████████▋                  | 23/40 [00:05<00:03,  4.96it/s]"
     ]
    },
    {
     "name": "stdout",
     "output_type": "stream",
     "text": [
      "torch.Size([64, 128, 37, 1])\n",
      "torch.Size([64, 1, 128, 37])\n",
      "torch.Size([64, 64, 128, 18])\n",
      "torch.Size([64, 64, 128, 18])\n",
      "torch.Size([64, 128, 128, 9])\n",
      "torch.Size([64, 512, 32, 2])\n",
      "torch.Size([64, 512])\n",
      "torch.Size([64, 512])\n",
      "torch.Size([64, 512])\n",
      "fc통과: torch.Size([64, 507])\n",
      "torch.Size([64, 512])\n"
     ]
    },
    {
     "name": "stderr",
     "output_type": "stream",
     "text": [
      " 60%|█████████████████████████▊                 | 24/40 [00:05<00:03,  4.90it/s]"
     ]
    },
    {
     "name": "stdout",
     "output_type": "stream",
     "text": [
      "torch.Size([64, 128, 47, 1])\n",
      "torch.Size([64, 1, 128, 47])\n",
      "torch.Size([64, 64, 128, 23])\n",
      "torch.Size([64, 64, 128, 23])\n",
      "torch.Size([64, 128, 128, 11])\n",
      "torch.Size([64, 512, 32, 2])\n",
      "torch.Size([64, 512])\n",
      "torch.Size([64, 512])\n",
      "torch.Size([64, 512])\n",
      "fc통과: torch.Size([64, 507])\n",
      "torch.Size([64, 512])\n"
     ]
    },
    {
     "name": "stderr",
     "output_type": "stream",
     "text": [
      " 65%|███████████████████████████▉               | 26/40 [00:05<00:02,  4.75it/s]"
     ]
    },
    {
     "name": "stdout",
     "output_type": "stream",
     "text": [
      "torch.Size([64, 128, 34, 1])\n",
      "torch.Size([64, 1, 128, 34])\n",
      "torch.Size([64, 64, 128, 17])\n",
      "torch.Size([64, 64, 128, 17])\n",
      "torch.Size([64, 128, 128, 8])\n",
      "torch.Size([64, 512, 32, 2])\n",
      "torch.Size([64, 512])\n",
      "torch.Size([64, 512])\n",
      "torch.Size([64, 512])\n",
      "fc통과: torch.Size([64, 507])\n",
      "torch.Size([64, 512])\n",
      "torch.Size([64, 128, 24, 1])\n",
      "torch.Size([64, 1, 128, 24])\n",
      "torch.Size([64, 64, 128, 12])\n",
      "torch.Size([64, 64, 128, 12])\n",
      "torch.Size([64, 128, 128, 6])\n",
      "torch.Size([64, 512, 32, 1])\n",
      "torch.Size([64, 512])\n",
      "torch.Size([64, 512])\n",
      "torch.Size([64, 512])\n",
      "fc통과: torch.Size([64, 507])\n",
      "torch.Size([64, 512])\n"
     ]
    },
    {
     "name": "stderr",
     "output_type": "stream",
     "text": [
      " 70%|██████████████████████████████             | 28/40 [00:06<00:02,  5.30it/s]"
     ]
    },
    {
     "name": "stdout",
     "output_type": "stream",
     "text": [
      "torch.Size([64, 128, 25, 1])\n",
      "torch.Size([64, 1, 128, 25])\n",
      "torch.Size([64, 64, 128, 12])\n",
      "torch.Size([64, 64, 128, 12])\n",
      "torch.Size([64, 128, 128, 6])\n",
      "torch.Size([64, 512, 32, 1])\n",
      "torch.Size([64, 512])\n",
      "torch.Size([64, 512])\n",
      "torch.Size([64, 512])\n",
      "fc통과: torch.Size([64, 507])\n",
      "torch.Size([64, 512])\n",
      "torch.Size([64, 128, 30, 1])\n",
      "torch.Size([64, 1, 128, 30])\n",
      "torch.Size([64, 64, 128, 15])\n",
      "torch.Size([64, 64, 128, 15])\n",
      "torch.Size([64, 128, 128, 7])\n",
      "torch.Size([64, 512, 32, 1])\n",
      "torch.Size([64, 512])\n",
      "torch.Size([64, 512])\n",
      "torch.Size([64, 512])\n",
      "fc통과: torch.Size([64, 507])\n",
      "torch.Size([64, 512])\n"
     ]
    },
    {
     "name": "stderr",
     "output_type": "stream",
     "text": [
      " 72%|███████████████████████████████▏           | 29/40 [00:06<00:02,  5.32it/s]"
     ]
    },
    {
     "name": "stdout",
     "output_type": "stream",
     "text": [
      "torch.Size([64, 128, 37, 1])\n",
      "torch.Size([64, 1, 128, 37])\n",
      "torch.Size([64, 64, 128, 18])\n",
      "torch.Size([64, 64, 128, 18])\n",
      "torch.Size([64, 128, 128, 9])\n",
      "torch.Size([64, 512, 32, 2])\n",
      "torch.Size([64, 512])\n",
      "torch.Size([64, 512])\n",
      "torch.Size([64, 512])\n",
      "fc통과: torch.Size([64, 507])\n",
      "torch.Size([64, 512])\n"
     ]
    },
    {
     "name": "stderr",
     "output_type": "stream",
     "text": [
      " 78%|█████████████████████████████████▎         | 31/40 [00:06<00:01,  5.16it/s]"
     ]
    },
    {
     "name": "stdout",
     "output_type": "stream",
     "text": [
      "torch.Size([64, 128, 33, 1])\n",
      "torch.Size([64, 1, 128, 33])\n",
      "torch.Size([64, 64, 128, 16])\n",
      "torch.Size([64, 64, 128, 16])\n",
      "torch.Size([64, 128, 128, 8])\n",
      "torch.Size([64, 512, 32, 2])\n",
      "torch.Size([64, 512])\n",
      "torch.Size([64, 512])\n",
      "torch.Size([64, 512])\n",
      "fc통과: torch.Size([64, 507])\n",
      "torch.Size([64, 512])\n",
      "torch.Size([64, 128, 36, 1])\n",
      "torch.Size([64, 1, 128, 36])\n",
      "torch.Size([64, 64, 128, 18])\n",
      "torch.Size([64, 64, 128, 18])\n",
      "torch.Size([64, 128, 128, 9])\n",
      "torch.Size([64, 512, 32, 2])\n",
      "torch.Size([64, 512])\n",
      "torch.Size([64, 512])\n",
      "torch.Size([64, 512])\n",
      "fc통과: torch.Size([64, 507])\n",
      "torch.Size([64, 512])\n"
     ]
    },
    {
     "name": "stderr",
     "output_type": "stream",
     "text": [
      " 82%|███████████████████████████████████▍       | 33/40 [00:07<00:01,  5.07it/s]"
     ]
    },
    {
     "name": "stdout",
     "output_type": "stream",
     "text": [
      "torch.Size([64, 128, 34, 1])\n",
      "torch.Size([64, 1, 128, 34])\n",
      "torch.Size([64, 64, 128, 17])\n",
      "torch.Size([64, 64, 128, 17])\n",
      "torch.Size([64, 128, 128, 8])\n",
      "torch.Size([64, 512, 32, 2])\n",
      "torch.Size([64, 512])\n",
      "torch.Size([64, 512])\n",
      "torch.Size([64, 512])\n",
      "fc통과: torch.Size([64, 507])\n",
      "torch.Size([64, 512])\n",
      "torch.Size([64, 128, 33, 1])\n",
      "torch.Size([64, 1, 128, 33])\n",
      "torch.Size([64, 64, 128, 16])\n",
      "torch.Size([64, 64, 128, 16])\n",
      "torch.Size([64, 128, 128, 8])\n",
      "torch.Size([64, 512, 32, 2])\n",
      "torch.Size([64, 512])\n",
      "torch.Size([64, 512])\n",
      "torch.Size([64, 512])\n",
      "fc통과: torch.Size([64, 507])\n",
      "torch.Size([64, 512])\n"
     ]
    },
    {
     "name": "stderr",
     "output_type": "stream",
     "text": [
      " 88%|█████████████████████████████████████▋     | 35/40 [00:07<00:00,  5.15it/s]"
     ]
    },
    {
     "name": "stdout",
     "output_type": "stream",
     "text": [
      "torch.Size([64, 128, 32, 1])\n",
      "torch.Size([64, 1, 128, 32])\n",
      "torch.Size([64, 64, 128, 16])\n",
      "torch.Size([64, 64, 128, 16])\n",
      "torch.Size([64, 128, 128, 8])\n",
      "torch.Size([64, 512, 32, 2])\n",
      "torch.Size([64, 512])\n",
      "torch.Size([64, 512])\n",
      "torch.Size([64, 512])\n",
      "fc통과: torch.Size([64, 507])\n",
      "torch.Size([64, 512])\n",
      "torch.Size([64, 128, 36, 1])\n",
      "torch.Size([64, 1, 128, 36])\n",
      "torch.Size([64, 64, 128, 18])\n",
      "torch.Size([64, 64, 128, 18])\n",
      "torch.Size([64, 128, 128, 9])\n",
      "torch.Size([64, 512, 32, 2])\n",
      "torch.Size([64, 512])\n",
      "torch.Size([64, 512])\n",
      "torch.Size([64, 512])\n",
      "fc통과: torch.Size([64, 507])\n",
      "torch.Size([64, 512])\n"
     ]
    },
    {
     "name": "stderr",
     "output_type": "stream",
     "text": [
      " 92%|███████████████████████████████████████▊   | 37/40 [00:08<00:00,  5.06it/s]"
     ]
    },
    {
     "name": "stdout",
     "output_type": "stream",
     "text": [
      "torch.Size([64, 128, 34, 1])\n",
      "torch.Size([64, 1, 128, 34])\n",
      "torch.Size([64, 64, 128, 17])\n",
      "torch.Size([64, 64, 128, 17])\n",
      "torch.Size([64, 128, 128, 8])\n",
      "torch.Size([64, 512, 32, 2])\n",
      "torch.Size([64, 512])\n",
      "torch.Size([64, 512])\n",
      "torch.Size([64, 512])\n",
      "fc통과: torch.Size([64, 507])\n",
      "torch.Size([64, 512])\n",
      "torch.Size([64, 128, 35, 1])\n",
      "torch.Size([64, 1, 128, 35])\n",
      "torch.Size([64, 64, 128, 17])\n",
      "torch.Size([64, 64, 128, 17])\n",
      "torch.Size([64, 128, 128, 8])\n",
      "torch.Size([64, 512, 32, 2])\n",
      "torch.Size([64, 512])\n",
      "torch.Size([64, 512])\n",
      "torch.Size([64, 512])\n",
      "fc통과: torch.Size([64, 507])\n",
      "torch.Size([64, 512])\n"
     ]
    },
    {
     "name": "stderr",
     "output_type": "stream",
     "text": [
      " 98%|█████████████████████████████████████████▉ | 39/40 [00:08<00:00,  5.09it/s]"
     ]
    },
    {
     "name": "stdout",
     "output_type": "stream",
     "text": [
      "torch.Size([64, 128, 33, 1])\n",
      "torch.Size([64, 1, 128, 33])\n",
      "torch.Size([64, 64, 128, 16])\n",
      "torch.Size([64, 64, 128, 16])\n",
      "torch.Size([64, 128, 128, 8])\n",
      "torch.Size([64, 512, 32, 2])\n",
      "torch.Size([64, 512])\n",
      "torch.Size([64, 512])\n",
      "torch.Size([64, 512])\n",
      "fc통과: torch.Size([64, 507])\n",
      "torch.Size([64, 512])\n",
      "torch.Size([36, 128, 33, 1])\n",
      "torch.Size([36, 1, 128, 33])\n",
      "torch.Size([36, 64, 128, 16])\n",
      "torch.Size([36, 64, 128, 16])\n",
      "torch.Size([36, 128, 128, 8])\n",
      "torch.Size([36, 512, 32, 2])\n",
      "torch.Size([36, 512])\n",
      "torch.Size([36, 512])\n",
      "torch.Size([36, 512])\n",
      "fc통과: torch.Size([36, 507])\n",
      "torch.Size([36, 512])\n"
     ]
    },
    {
     "name": "stderr",
     "output_type": "stream",
     "text": [
      "100%|███████████████████████████████████████████| 40/40 [00:08<00:00,  4.69it/s]"
     ]
    },
    {
     "name": "stdout",
     "output_type": "stream",
     "text": [
      "07-04 16:50 [MainProcess, 23066] [INFO ]  Iteration:4, loss = 0.692998, acc = 100.000 \n",
      "07-04 16:50 [MainProcess, 23066] [INFO ]  Iteration:4, loss = 0.692998, acc = 100.000 \n",
      "07-04 16:50 [MainProcess, 23066] [INFO ]  Iteration:4, loss = 0.692998, acc = 100.000 \n",
      "07-04 16:50 [MainProcess, 23066] [INFO ]  Iteration:4, loss = 0.692998, acc = 100.000 \n",
      "07-04 16:50 [MainProcess, 23066] [INFO ]  Iteration:4, loss = 0.692998, acc = 100.000 \n",
      "07-04 16:50 [MainProcess, 23066] [INFO ]  Iteration:4, loss = 0.692998, acc = 100.000 \n",
      "07-04 16:50 [MainProcess, 23066] [INFO ]  Iteration:4, loss = 0.692998, acc = 100.000 \n",
      "07-04 16:50 [MainProcess, 23066] [INFO ]  Iteration:4, loss = 0.692998, acc = 100.000 \n"
     ]
    },
    {
     "name": "stderr",
     "output_type": "stream",
     "text": [
      "\n",
      "  0%|                                                    | 0/40 [00:00<?, ?it/s]"
     ]
    },
    {
     "name": "stdout",
     "output_type": "stream",
     "text": [
      "torch.Size([64, 128, 34, 1])\n",
      "torch.Size([64, 1, 128, 34])\n",
      "torch.Size([64, 64, 128, 17])\n",
      "torch.Size([64, 64, 128, 17])\n",
      "torch.Size([64, 128, 128, 8])\n",
      "torch.Size([64, 512, 32, 2])\n",
      "torch.Size([64, 512])\n",
      "torch.Size([64, 512])\n",
      "torch.Size([64, 512])\n",
      "fc통과: torch.Size([64, 507])\n",
      "torch.Size([64, 512])\n"
     ]
    },
    {
     "name": "stderr",
     "output_type": "stream",
     "text": [
      "  2%|█                                           | 1/40 [00:00<00:07,  5.10it/s]"
     ]
    },
    {
     "name": "stdout",
     "output_type": "stream",
     "text": [
      "torch.Size([64, 128, 39, 1])\n",
      "torch.Size([64, 1, 128, 39])\n",
      "torch.Size([64, 64, 128, 19])\n",
      "torch.Size([64, 64, 128, 19])\n",
      "torch.Size([64, 128, 128, 9])\n",
      "torch.Size([64, 512, 32, 2])\n",
      "torch.Size([64, 512])\n",
      "torch.Size([64, 512])\n",
      "torch.Size([64, 512])\n",
      "fc통과: torch.Size([64, 507])\n",
      "torch.Size([64, 512])\n"
     ]
    },
    {
     "name": "stderr",
     "output_type": "stream",
     "text": [
      "  5%|██▏                                         | 2/40 [00:00<00:07,  4.83it/s]"
     ]
    },
    {
     "name": "stdout",
     "output_type": "stream",
     "text": [
      "torch.Size([64, 128, 48, 1])\n",
      "torch.Size([64, 1, 128, 48])\n",
      "torch.Size([64, 64, 128, 24])\n",
      "torch.Size([64, 64, 128, 24])\n",
      "torch.Size([64, 128, 128, 12])\n",
      "torch.Size([64, 512, 32, 3])\n",
      "torch.Size([64, 512])\n",
      "torch.Size([64, 512])\n",
      "torch.Size([64, 512])\n",
      "fc통과: torch.Size([64, 507])\n",
      "torch.Size([64, 512])\n"
     ]
    },
    {
     "name": "stderr",
     "output_type": "stream",
     "text": [
      "  8%|███▎                                        | 3/40 [00:00<00:08,  4.41it/s]"
     ]
    },
    {
     "name": "stdout",
     "output_type": "stream",
     "text": [
      "torch.Size([64, 128, 40, 1])\n",
      "torch.Size([64, 1, 128, 40])\n",
      "torch.Size([64, 64, 128, 20])\n",
      "torch.Size([64, 64, 128, 20])\n",
      "torch.Size([64, 128, 128, 10])\n",
      "torch.Size([64, 512, 32, 2])\n",
      "torch.Size([64, 512])\n",
      "torch.Size([64, 512])\n",
      "torch.Size([64, 512])\n",
      "fc통과: torch.Size([64, 507])\n",
      "torch.Size([64, 512])\n"
     ]
    },
    {
     "name": "stderr",
     "output_type": "stream",
     "text": [
      " 10%|████▍                                       | 4/40 [00:00<00:08,  4.40it/s]"
     ]
    },
    {
     "name": "stdout",
     "output_type": "stream",
     "text": [
      "torch.Size([64, 128, 42, 1])\n",
      "torch.Size([64, 1, 128, 42])\n",
      "torch.Size([64, 64, 128, 21])\n",
      "torch.Size([64, 64, 128, 21])\n",
      "torch.Size([64, 128, 128, 10])\n",
      "torch.Size([64, 512, 32, 2])\n",
      "torch.Size([64, 512])\n",
      "torch.Size([64, 512])\n",
      "torch.Size([64, 512])\n",
      "fc통과: torch.Size([64, 507])\n",
      "torch.Size([64, 512])\n"
     ]
    },
    {
     "name": "stderr",
     "output_type": "stream",
     "text": [
      " 12%|█████▌                                      | 5/40 [00:01<00:08,  4.36it/s]"
     ]
    },
    {
     "name": "stdout",
     "output_type": "stream",
     "text": [
      "torch.Size([64, 128, 52, 1])\n",
      "torch.Size([64, 1, 128, 52])\n",
      "torch.Size([64, 64, 128, 26])\n",
      "torch.Size([64, 64, 128, 26])\n",
      "torch.Size([64, 128, 128, 13])\n",
      "torch.Size([64, 512, 32, 3])\n",
      "torch.Size([64, 512])\n",
      "torch.Size([64, 512])\n",
      "torch.Size([64, 512])\n",
      "fc통과: torch.Size([64, 507])\n",
      "torch.Size([64, 512])\n"
     ]
    },
    {
     "name": "stderr",
     "output_type": "stream",
     "text": [
      " 15%|██████▌                                     | 6/40 [00:01<00:08,  4.11it/s]"
     ]
    },
    {
     "name": "stdout",
     "output_type": "stream",
     "text": [
      "torch.Size([64, 128, 40, 1])\n",
      "torch.Size([64, 1, 128, 40])\n",
      "torch.Size([64, 64, 128, 20])\n",
      "torch.Size([64, 64, 128, 20])\n",
      "torch.Size([64, 128, 128, 10])\n",
      "torch.Size([64, 512, 32, 2])\n",
      "torch.Size([64, 512])\n",
      "torch.Size([64, 512])\n",
      "torch.Size([64, 512])\n",
      "fc통과: torch.Size([64, 507])\n",
      "torch.Size([64, 512])\n"
     ]
    },
    {
     "name": "stderr",
     "output_type": "stream",
     "text": [
      " 18%|███████▋                                    | 7/40 [00:01<00:07,  4.20it/s]"
     ]
    },
    {
     "name": "stdout",
     "output_type": "stream",
     "text": [
      "torch.Size([64, 128, 64, 1])\n",
      "torch.Size([64, 1, 128, 64])\n",
      "torch.Size([64, 64, 128, 32])\n",
      "torch.Size([64, 64, 128, 32])\n",
      "torch.Size([64, 128, 128, 16])\n",
      "torch.Size([64, 512, 32, 4])\n",
      "torch.Size([64, 512])\n",
      "torch.Size([64, 512])\n",
      "torch.Size([64, 512])\n",
      "fc통과: torch.Size([64, 507])\n",
      "torch.Size([64, 512])\n"
     ]
    },
    {
     "name": "stderr",
     "output_type": "stream",
     "text": [
      " 20%|████████▊                                   | 8/40 [00:01<00:07,  4.06it/s]"
     ]
    },
    {
     "name": "stdout",
     "output_type": "stream",
     "text": [
      "torch.Size([64, 128, 42, 1])\n",
      "torch.Size([64, 1, 128, 42])\n",
      "torch.Size([64, 64, 128, 21])\n",
      "torch.Size([64, 64, 128, 21])\n",
      "torch.Size([64, 128, 128, 10])\n",
      "torch.Size([64, 512, 32, 2])\n",
      "torch.Size([64, 512])\n",
      "torch.Size([64, 512])\n",
      "torch.Size([64, 512])\n",
      "fc통과: torch.Size([64, 507])\n",
      "torch.Size([64, 512])\n"
     ]
    },
    {
     "name": "stderr",
     "output_type": "stream",
     "text": [
      " 22%|█████████▉                                  | 9/40 [00:02<00:07,  4.12it/s]"
     ]
    },
    {
     "name": "stdout",
     "output_type": "stream",
     "text": [
      "torch.Size([64, 128, 38, 1])\n",
      "torch.Size([64, 1, 128, 38])\n",
      "torch.Size([64, 64, 128, 19])\n",
      "torch.Size([64, 64, 128, 19])\n",
      "torch.Size([64, 128, 128, 9])\n",
      "torch.Size([64, 512, 32, 2])\n",
      "torch.Size([64, 512])\n",
      "torch.Size([64, 512])\n",
      "torch.Size([64, 512])\n",
      "fc통과: torch.Size([64, 507])\n",
      "torch.Size([64, 512])\n"
     ]
    },
    {
     "name": "stderr",
     "output_type": "stream",
     "text": [
      " 25%|██████████▊                                | 10/40 [00:02<00:06,  4.29it/s]"
     ]
    },
    {
     "name": "stdout",
     "output_type": "stream",
     "text": [
      "torch.Size([64, 128, 54, 1])\n",
      "torch.Size([64, 1, 128, 54])\n",
      "torch.Size([64, 64, 128, 27])\n",
      "torch.Size([64, 64, 128, 27])\n",
      "torch.Size([64, 128, 128, 13])\n",
      "torch.Size([64, 512, 32, 3])\n",
      "torch.Size([64, 512])\n",
      "torch.Size([64, 512])\n",
      "torch.Size([64, 512])\n",
      "fc통과: torch.Size([64, 507])\n",
      "torch.Size([64, 512])\n"
     ]
    },
    {
     "name": "stderr",
     "output_type": "stream",
     "text": [
      " 28%|███████████▊                               | 11/40 [00:02<00:07,  4.05it/s]"
     ]
    },
    {
     "name": "stdout",
     "output_type": "stream",
     "text": [
      "torch.Size([64, 128, 58, 1])\n",
      "torch.Size([64, 1, 128, 58])\n",
      "torch.Size([64, 64, 128, 29])\n",
      "torch.Size([64, 64, 128, 29])\n",
      "torch.Size([64, 128, 128, 14])\n",
      "torch.Size([64, 512, 32, 3])\n",
      "torch.Size([64, 512])\n",
      "torch.Size([64, 512])\n",
      "torch.Size([64, 512])\n",
      "fc통과: torch.Size([64, 507])\n",
      "torch.Size([64, 512])\n"
     ]
    },
    {
     "name": "stderr",
     "output_type": "stream",
     "text": [
      " 30%|████████████▉                              | 12/40 [00:02<00:07,  3.83it/s]"
     ]
    },
    {
     "name": "stdout",
     "output_type": "stream",
     "text": [
      "torch.Size([64, 128, 61, 1])\n",
      "torch.Size([64, 1, 128, 61])\n",
      "torch.Size([64, 64, 128, 30])\n",
      "torch.Size([64, 64, 128, 30])\n",
      "torch.Size([64, 128, 128, 15])\n",
      "torch.Size([64, 512, 32, 3])\n",
      "torch.Size([64, 512])\n",
      "torch.Size([64, 512])\n",
      "torch.Size([64, 512])\n",
      "fc통과: torch.Size([64, 507])\n",
      "torch.Size([64, 512])\n"
     ]
    },
    {
     "name": "stderr",
     "output_type": "stream",
     "text": [
      " 32%|█████████████▉                             | 13/40 [00:03<00:07,  3.64it/s]"
     ]
    },
    {
     "name": "stdout",
     "output_type": "stream",
     "text": [
      "torch.Size([64, 128, 37, 1])\n",
      "torch.Size([64, 1, 128, 37])\n",
      "torch.Size([64, 64, 128, 18])\n",
      "torch.Size([64, 64, 128, 18])\n",
      "torch.Size([64, 128, 128, 9])\n",
      "torch.Size([64, 512, 32, 2])\n",
      "torch.Size([64, 512])\n",
      "torch.Size([64, 512])\n",
      "torch.Size([64, 512])\n",
      "fc통과: torch.Size([64, 507])\n",
      "torch.Size([64, 512])\n"
     ]
    },
    {
     "name": "stderr",
     "output_type": "stream",
     "text": [
      " 35%|███████████████                            | 14/40 [00:03<00:06,  3.92it/s]"
     ]
    },
    {
     "name": "stdout",
     "output_type": "stream",
     "text": [
      "torch.Size([64, 128, 41, 1])\n",
      "torch.Size([64, 1, 128, 41])\n",
      "torch.Size([64, 64, 128, 20])\n",
      "torch.Size([64, 64, 128, 20])\n",
      "torch.Size([64, 128, 128, 10])\n",
      "torch.Size([64, 512, 32, 2])\n",
      "torch.Size([64, 512])\n",
      "torch.Size([64, 512])\n",
      "torch.Size([64, 512])\n",
      "fc통과: torch.Size([64, 507])\n",
      "torch.Size([64, 512])\n"
     ]
    },
    {
     "name": "stderr",
     "output_type": "stream",
     "text": [
      " 40%|█████████████████▏                         | 16/40 [00:03<00:05,  4.29it/s]"
     ]
    },
    {
     "name": "stdout",
     "output_type": "stream",
     "text": [
      "torch.Size([64, 128, 35, 1])\n",
      "torch.Size([64, 1, 128, 35])\n",
      "torch.Size([64, 64, 128, 17])\n",
      "torch.Size([64, 64, 128, 17])\n",
      "torch.Size([64, 128, 128, 8])\n",
      "torch.Size([64, 512, 32, 2])\n",
      "torch.Size([64, 512])\n",
      "torch.Size([64, 512])\n",
      "torch.Size([64, 512])\n",
      "fc통과: torch.Size([64, 507])\n",
      "torch.Size([64, 512])\n",
      "torch.Size([64, 128, 48, 1])\n",
      "torch.Size([64, 1, 128, 48])\n",
      "torch.Size([64, 64, 128, 24])\n",
      "torch.Size([64, 64, 128, 24])\n",
      "torch.Size([64, 128, 128, 12])\n",
      "torch.Size([64, 512, 32, 3])\n",
      "torch.Size([64, 512])\n",
      "torch.Size([64, 512])\n",
      "torch.Size([64, 512])\n",
      "fc통과: torch.Size([64, 507])\n",
      "torch.Size([64, 512])\n"
     ]
    },
    {
     "name": "stderr",
     "output_type": "stream",
     "text": [
      " 42%|██████████████████▎                        | 17/40 [00:04<00:05,  4.20it/s]"
     ]
    },
    {
     "name": "stdout",
     "output_type": "stream",
     "text": [
      "torch.Size([64, 128, 40, 1])\n",
      "torch.Size([64, 1, 128, 40])\n",
      "torch.Size([64, 64, 128, 20])\n",
      "torch.Size([64, 64, 128, 20])\n",
      "torch.Size([64, 128, 128, 10])\n",
      "torch.Size([64, 512, 32, 2])\n",
      "torch.Size([64, 512])\n",
      "torch.Size([64, 512])\n",
      "torch.Size([64, 512])\n",
      "fc통과: torch.Size([64, 507])\n",
      "torch.Size([64, 512])\n"
     ]
    },
    {
     "name": "stderr",
     "output_type": "stream",
     "text": [
      " 48%|████████████████████▍                      | 19/40 [00:04<00:04,  4.50it/s]"
     ]
    },
    {
     "name": "stdout",
     "output_type": "stream",
     "text": [
      "torch.Size([64, 128, 33, 1])\n",
      "torch.Size([64, 1, 128, 33])\n",
      "torch.Size([64, 64, 128, 16])\n",
      "torch.Size([64, 64, 128, 16])\n",
      "torch.Size([64, 128, 128, 8])\n",
      "torch.Size([64, 512, 32, 2])\n",
      "torch.Size([64, 512])\n",
      "torch.Size([64, 512])\n",
      "torch.Size([64, 512])\n",
      "fc통과: torch.Size([64, 507])\n",
      "torch.Size([64, 512])\n",
      "torch.Size([64, 128, 33, 1])\n",
      "torch.Size([64, 1, 128, 33])\n",
      "torch.Size([64, 64, 128, 16])\n",
      "torch.Size([64, 64, 128, 16])\n",
      "torch.Size([64, 128, 128, 8])\n",
      "torch.Size([64, 512, 32, 2])\n",
      "torch.Size([64, 512])\n",
      "torch.Size([64, 512])\n",
      "torch.Size([64, 512])\n",
      "fc통과: torch.Size([64, 507])\n",
      "torch.Size([64, 512])\n"
     ]
    },
    {
     "name": "stderr",
     "output_type": "stream",
     "text": [
      " 52%|██████████████████████▌                    | 21/40 [00:04<00:03,  4.79it/s]"
     ]
    },
    {
     "name": "stdout",
     "output_type": "stream",
     "text": [
      "torch.Size([64, 128, 35, 1])\n",
      "torch.Size([64, 1, 128, 35])\n",
      "torch.Size([64, 64, 128, 17])\n",
      "torch.Size([64, 64, 128, 17])\n",
      "torch.Size([64, 128, 128, 8])\n",
      "torch.Size([64, 512, 32, 2])\n",
      "torch.Size([64, 512])\n",
      "torch.Size([64, 512])\n",
      "torch.Size([64, 512])\n",
      "fc통과: torch.Size([64, 507])\n",
      "torch.Size([64, 512])\n",
      "torch.Size([64, 128, 35, 1])\n",
      "torch.Size([64, 1, 128, 35])\n",
      "torch.Size([64, 64, 128, 17])\n",
      "torch.Size([64, 64, 128, 17])\n",
      "torch.Size([64, 128, 128, 8])\n",
      "torch.Size([64, 512, 32, 2])\n"
     ]
    },
    {
     "name": "stderr",
     "output_type": "stream",
     "text": [
      " 55%|███████████████████████▋                   | 22/40 [00:05<00:03,  4.86it/s]"
     ]
    },
    {
     "name": "stdout",
     "output_type": "stream",
     "text": [
      "torch.Size([64, 512])\n",
      "torch.Size([64, 512])\n",
      "torch.Size([64, 512])\n",
      "fc통과: torch.Size([64, 507])\n",
      "torch.Size([64, 512])\n",
      "torch.Size([64, 128, 32, 1])\n",
      "torch.Size([64, 1, 128, 32])\n",
      "torch.Size([64, 64, 128, 16])\n",
      "torch.Size([64, 64, 128, 16])\n",
      "torch.Size([64, 128, 128, 8])\n",
      "torch.Size([64, 512, 32, 2])\n",
      "torch.Size([64, 512])\n",
      "torch.Size([64, 512])\n",
      "torch.Size([64, 512])\n",
      "fc통과: torch.Size([64, 507])\n",
      "torch.Size([64, 512])\n"
     ]
    },
    {
     "name": "stderr",
     "output_type": "stream",
     "text": [
      " 57%|████████████████████████▋                  | 23/40 [00:05<00:03,  4.97it/s]"
     ]
    },
    {
     "name": "stdout",
     "output_type": "stream",
     "text": [
      "torch.Size([64, 128, 37, 1])\n",
      "torch.Size([64, 1, 128, 37])\n",
      "torch.Size([64, 64, 128, 18])\n",
      "torch.Size([64, 64, 128, 18])\n",
      "torch.Size([64, 128, 128, 9])\n",
      "torch.Size([64, 512, 32, 2])\n",
      "torch.Size([64, 512])\n",
      "torch.Size([64, 512])\n",
      "torch.Size([64, 512])\n",
      "fc통과: torch.Size([64, 507])\n",
      "torch.Size([64, 512])\n"
     ]
    },
    {
     "name": "stderr",
     "output_type": "stream",
     "text": [
      " 60%|█████████████████████████▊                 | 24/40 [00:05<00:03,  4.91it/s]"
     ]
    },
    {
     "name": "stdout",
     "output_type": "stream",
     "text": [
      "torch.Size([64, 128, 47, 1])\n",
      "torch.Size([64, 1, 128, 47])\n",
      "torch.Size([64, 64, 128, 23])\n",
      "torch.Size([64, 64, 128, 23])\n",
      "torch.Size([64, 128, 128, 11])\n",
      "torch.Size([64, 512, 32, 2])\n",
      "torch.Size([64, 512])\n",
      "torch.Size([64, 512])\n",
      "torch.Size([64, 512])\n",
      "fc통과: torch.Size([64, 507])\n",
      "torch.Size([64, 512])\n"
     ]
    },
    {
     "name": "stderr",
     "output_type": "stream",
     "text": [
      " 65%|███████████████████████████▉               | 26/40 [00:05<00:02,  4.75it/s]"
     ]
    },
    {
     "name": "stdout",
     "output_type": "stream",
     "text": [
      "torch.Size([64, 128, 34, 1])\n",
      "torch.Size([64, 1, 128, 34])\n",
      "torch.Size([64, 64, 128, 17])\n",
      "torch.Size([64, 64, 128, 17])\n",
      "torch.Size([64, 128, 128, 8])\n",
      "torch.Size([64, 512, 32, 2])\n",
      "torch.Size([64, 512])\n",
      "torch.Size([64, 512])\n",
      "torch.Size([64, 512])\n",
      "fc통과: torch.Size([64, 507])\n",
      "torch.Size([64, 512])\n",
      "torch.Size([64, 128, 24, 1])\n",
      "torch.Size([64, 1, 128, 24])\n",
      "torch.Size([64, 64, 128, 12])\n",
      "torch.Size([64, 64, 128, 12])\n",
      "torch.Size([64, 128, 128, 6])\n",
      "torch.Size([64, 512, 32, 1])\n",
      "torch.Size([64, 512])\n",
      "torch.Size([64, 512])\n",
      "torch.Size([64, 512])\n",
      "fc통과: torch.Size([64, 507])\n",
      "torch.Size([64, 512])\n"
     ]
    },
    {
     "name": "stderr",
     "output_type": "stream",
     "text": [
      " 70%|██████████████████████████████             | 28/40 [00:06<00:02,  5.29it/s]"
     ]
    },
    {
     "name": "stdout",
     "output_type": "stream",
     "text": [
      "torch.Size([64, 128, 25, 1])\n",
      "torch.Size([64, 1, 128, 25])\n",
      "torch.Size([64, 64, 128, 12])\n",
      "torch.Size([64, 64, 128, 12])\n",
      "torch.Size([64, 128, 128, 6])\n",
      "torch.Size([64, 512, 32, 1])\n",
      "torch.Size([64, 512])\n",
      "torch.Size([64, 512])\n",
      "torch.Size([64, 512])\n",
      "fc통과: torch.Size([64, 507])\n",
      "torch.Size([64, 512])\n",
      "torch.Size([64, 128, 30, 1])\n",
      "torch.Size([64, 1, 128, 30])\n",
      "torch.Size([64, 64, 128, 15])\n",
      "torch.Size([64, 64, 128, 15])\n",
      "torch.Size([64, 128, 128, 7])\n",
      "torch.Size([64, 512, 32, 1])\n",
      "torch.Size([64, 512])\n",
      "torch.Size([64, 512])\n",
      "torch.Size([64, 512])\n",
      "fc통과: torch.Size([64, 507])\n",
      "torch.Size([64, 512])\n"
     ]
    },
    {
     "name": "stderr",
     "output_type": "stream",
     "text": [
      " 72%|███████████████████████████████▏           | 29/40 [00:06<00:02,  5.31it/s]"
     ]
    },
    {
     "name": "stdout",
     "output_type": "stream",
     "text": [
      "torch.Size([64, 128, 37, 1])\n",
      "torch.Size([64, 1, 128, 37])\n",
      "torch.Size([64, 64, 128, 18])\n",
      "torch.Size([64, 64, 128, 18])\n",
      "torch.Size([64, 128, 128, 9])\n",
      "torch.Size([64, 512, 32, 2])\n",
      "torch.Size([64, 512])\n",
      "torch.Size([64, 512])\n",
      "torch.Size([64, 512])\n",
      "fc통과: torch.Size([64, 507])\n",
      "torch.Size([64, 512])\n"
     ]
    },
    {
     "name": "stderr",
     "output_type": "stream",
     "text": [
      " 78%|█████████████████████████████████▎         | 31/40 [00:06<00:01,  5.16it/s]"
     ]
    },
    {
     "name": "stdout",
     "output_type": "stream",
     "text": [
      "torch.Size([64, 128, 33, 1])\n",
      "torch.Size([64, 1, 128, 33])\n",
      "torch.Size([64, 64, 128, 16])\n",
      "torch.Size([64, 64, 128, 16])\n",
      "torch.Size([64, 128, 128, 8])\n",
      "torch.Size([64, 512, 32, 2])\n",
      "torch.Size([64, 512])\n",
      "torch.Size([64, 512])\n",
      "torch.Size([64, 512])\n",
      "fc통과: torch.Size([64, 507])\n",
      "torch.Size([64, 512])\n",
      "torch.Size([64, 128, 36, 1])\n",
      "torch.Size([64, 1, 128, 36])\n",
      "torch.Size([64, 64, 128, 18])\n",
      "torch.Size([64, 64, 128, 18])\n",
      "torch.Size([64, 128, 128, 9])\n",
      "torch.Size([64, 512, 32, 2])\n",
      "torch.Size([64, 512])\n",
      "torch.Size([64, 512])\n",
      "torch.Size([64, 512])\n",
      "fc통과: torch.Size([64, 507])\n",
      "torch.Size([64, 512])\n"
     ]
    },
    {
     "name": "stderr",
     "output_type": "stream",
     "text": [
      " 82%|███████████████████████████████████▍       | 33/40 [00:07<00:01,  5.08it/s]"
     ]
    },
    {
     "name": "stdout",
     "output_type": "stream",
     "text": [
      "torch.Size([64, 128, 34, 1])\n",
      "torch.Size([64, 1, 128, 34])\n",
      "torch.Size([64, 64, 128, 17])\n",
      "torch.Size([64, 64, 128, 17])\n",
      "torch.Size([64, 128, 128, 8])\n",
      "torch.Size([64, 512, 32, 2])\n",
      "torch.Size([64, 512])\n",
      "torch.Size([64, 512])\n",
      "torch.Size([64, 512])\n",
      "fc통과: torch.Size([64, 507])\n",
      "torch.Size([64, 512])\n",
      "torch.Size([64, 128, 33, 1])\n",
      "torch.Size([64, 1, 128, 33])\n",
      "torch.Size([64, 64, 128, 16])\n",
      "torch.Size([64, 64, 128, 16])\n",
      "torch.Size([64, 128, 128, 8])\n",
      "torch.Size([64, 512, 32, 2])\n",
      "torch.Size([64, 512])\n",
      "torch.Size([64, 512])\n",
      "torch.Size([64, 512])\n",
      "fc통과: torch.Size([64, 507])\n",
      "torch.Size([64, 512])\n"
     ]
    },
    {
     "name": "stderr",
     "output_type": "stream",
     "text": [
      " 88%|█████████████████████████████████████▋     | 35/40 [00:07<00:00,  5.14it/s]"
     ]
    },
    {
     "name": "stdout",
     "output_type": "stream",
     "text": [
      "torch.Size([64, 128, 32, 1])\n",
      "torch.Size([64, 1, 128, 32])\n",
      "torch.Size([64, 64, 128, 16])\n",
      "torch.Size([64, 64, 128, 16])\n",
      "torch.Size([64, 128, 128, 8])\n",
      "torch.Size([64, 512, 32, 2])\n",
      "torch.Size([64, 512])\n",
      "torch.Size([64, 512])\n",
      "torch.Size([64, 512])\n",
      "fc통과: torch.Size([64, 507])\n",
      "torch.Size([64, 512])\n",
      "torch.Size([64, 128, 36, 1])\n",
      "torch.Size([64, 1, 128, 36])\n",
      "torch.Size([64, 64, 128, 18])\n",
      "torch.Size([64, 64, 128, 18])\n",
      "torch.Size([64, 128, 128, 9])\n",
      "torch.Size([64, 512, 32, 2])\n",
      "torch.Size([64, 512])\n",
      "torch.Size([64, 512])\n",
      "torch.Size([64, 512])\n",
      "fc통과: torch.Size([64, 507])\n",
      "torch.Size([64, 512])\n"
     ]
    },
    {
     "name": "stderr",
     "output_type": "stream",
     "text": [
      " 92%|███████████████████████████████████████▊   | 37/40 [00:08<00:00,  5.06it/s]"
     ]
    },
    {
     "name": "stdout",
     "output_type": "stream",
     "text": [
      "torch.Size([64, 128, 34, 1])\n",
      "torch.Size([64, 1, 128, 34])\n",
      "torch.Size([64, 64, 128, 17])\n",
      "torch.Size([64, 64, 128, 17])\n",
      "torch.Size([64, 128, 128, 8])\n",
      "torch.Size([64, 512, 32, 2])\n",
      "torch.Size([64, 512])\n",
      "torch.Size([64, 512])\n",
      "torch.Size([64, 512])\n",
      "fc통과: torch.Size([64, 507])\n",
      "torch.Size([64, 512])\n",
      "torch.Size([64, 128, 35, 1])\n",
      "torch.Size([64, 1, 128, 35])\n",
      "torch.Size([64, 64, 128, 17])\n",
      "torch.Size([64, 64, 128, 17])\n",
      "torch.Size([64, 128, 128, 8])\n",
      "torch.Size([64, 512, 32, 2])\n",
      "torch.Size([64, 512])\n",
      "torch.Size([64, 512])\n",
      "torch.Size([64, 512])\n",
      "fc통과: torch.Size([64, 507])\n",
      "torch.Size([64, 512])\n"
     ]
    },
    {
     "name": "stderr",
     "output_type": "stream",
     "text": [
      " 98%|█████████████████████████████████████████▉ | 39/40 [00:08<00:00,  5.10it/s]"
     ]
    },
    {
     "name": "stdout",
     "output_type": "stream",
     "text": [
      "torch.Size([64, 128, 33, 1])\n",
      "torch.Size([64, 1, 128, 33])\n",
      "torch.Size([64, 64, 128, 16])\n",
      "torch.Size([64, 64, 128, 16])\n",
      "torch.Size([64, 128, 128, 8])\n",
      "torch.Size([64, 512, 32, 2])\n",
      "torch.Size([64, 512])\n",
      "torch.Size([64, 512])\n",
      "torch.Size([64, 512])\n",
      "fc통과: torch.Size([64, 507])\n",
      "torch.Size([64, 512])\n",
      "torch.Size([36, 128, 33, 1])\n",
      "torch.Size([36, 1, 128, 33])\n",
      "torch.Size([36, 64, 128, 16])\n",
      "torch.Size([36, 64, 128, 16])\n",
      "torch.Size([36, 128, 128, 8])\n",
      "torch.Size([36, 512, 32, 2])\n",
      "torch.Size([36, 512])\n",
      "torch.Size([36, 512])\n",
      "torch.Size([36, 512])\n",
      "fc통과: torch.Size([36, 507])\n",
      "torch.Size([36, 512])\n"
     ]
    },
    {
     "name": "stderr",
     "output_type": "stream",
     "text": [
      "100%|███████████████████████████████████████████| 40/40 [00:08<00:00,  4.69it/s]"
     ]
    },
    {
     "name": "stdout",
     "output_type": "stream",
     "text": [
      "07-04 16:50 [MainProcess, 23066] [INFO ]  Iteration:5, loss = 0.677839, acc = 100.000 \n",
      "07-04 16:50 [MainProcess, 23066] [INFO ]  Iteration:5, loss = 0.677839, acc = 100.000 \n",
      "07-04 16:50 [MainProcess, 23066] [INFO ]  Iteration:5, loss = 0.677839, acc = 100.000 \n",
      "07-04 16:50 [MainProcess, 23066] [INFO ]  Iteration:5, loss = 0.677839, acc = 100.000 \n",
      "07-04 16:50 [MainProcess, 23066] [INFO ]  Iteration:5, loss = 0.677839, acc = 100.000 \n",
      "07-04 16:50 [MainProcess, 23066] [INFO ]  Iteration:5, loss = 0.677839, acc = 100.000 \n",
      "07-04 16:50 [MainProcess, 23066] [INFO ]  Iteration:5, loss = 0.677839, acc = 100.000 \n",
      "07-04 16:50 [MainProcess, 23066] [INFO ]  Iteration:5, loss = 0.677839, acc = 100.000 \n"
     ]
    },
    {
     "name": "stderr",
     "output_type": "stream",
     "text": [
      "\n",
      "  0%|                                                    | 0/40 [00:00<?, ?it/s]"
     ]
    },
    {
     "name": "stdout",
     "output_type": "stream",
     "text": [
      "torch.Size([64, 128, 34, 1])\n",
      "torch.Size([64, 1, 128, 34])\n",
      "torch.Size([64, 64, 128, 17])\n",
      "torch.Size([64, 64, 128, 17])\n",
      "torch.Size([64, 128, 128, 8])\n",
      "torch.Size([64, 512, 32, 2])\n",
      "torch.Size([64, 512])\n",
      "torch.Size([64, 512])\n",
      "torch.Size([64, 512])\n",
      "fc통과: torch.Size([64, 507])\n",
      "torch.Size([64, 512])\n"
     ]
    },
    {
     "name": "stderr",
     "output_type": "stream",
     "text": [
      "  2%|█                                           | 1/40 [00:00<00:07,  5.09it/s]"
     ]
    },
    {
     "name": "stdout",
     "output_type": "stream",
     "text": [
      "torch.Size([64, 128, 39, 1])\n",
      "torch.Size([64, 1, 128, 39])\n",
      "torch.Size([64, 64, 128, 19])\n",
      "torch.Size([64, 64, 128, 19])\n",
      "torch.Size([64, 128, 128, 9])\n",
      "torch.Size([64, 512, 32, 2])\n",
      "torch.Size([64, 512])\n",
      "torch.Size([64, 512])\n",
      "torch.Size([64, 512])\n",
      "fc통과: torch.Size([64, 507])\n",
      "torch.Size([64, 512])\n"
     ]
    },
    {
     "name": "stderr",
     "output_type": "stream",
     "text": [
      "  5%|██▏                                         | 2/40 [00:00<00:07,  4.83it/s]"
     ]
    },
    {
     "name": "stdout",
     "output_type": "stream",
     "text": [
      "torch.Size([64, 128, 48, 1])\n",
      "torch.Size([64, 1, 128, 48])\n",
      "torch.Size([64, 64, 128, 24])\n",
      "torch.Size([64, 64, 128, 24])\n",
      "torch.Size([64, 128, 128, 12])\n",
      "torch.Size([64, 512, 32, 3])\n",
      "torch.Size([64, 512])\n",
      "torch.Size([64, 512])\n",
      "torch.Size([64, 512])\n",
      "fc통과: torch.Size([64, 507])\n",
      "torch.Size([64, 512])\n"
     ]
    },
    {
     "name": "stderr",
     "output_type": "stream",
     "text": [
      "  8%|███▎                                        | 3/40 [00:00<00:08,  4.41it/s]"
     ]
    },
    {
     "name": "stdout",
     "output_type": "stream",
     "text": [
      "torch.Size([64, 128, 40, 1])\n",
      "torch.Size([64, 1, 128, 40])\n",
      "torch.Size([64, 64, 128, 20])\n",
      "torch.Size([64, 64, 128, 20])\n",
      "torch.Size([64, 128, 128, 10])\n",
      "torch.Size([64, 512, 32, 2])\n",
      "torch.Size([64, 512])\n",
      "torch.Size([64, 512])\n",
      "torch.Size([64, 512])\n",
      "fc통과: torch.Size([64, 507])\n",
      "torch.Size([64, 512])\n"
     ]
    },
    {
     "name": "stderr",
     "output_type": "stream",
     "text": [
      " 10%|████▍                                       | 4/40 [00:00<00:08,  4.41it/s]"
     ]
    },
    {
     "name": "stdout",
     "output_type": "stream",
     "text": [
      "torch.Size([64, 128, 42, 1])\n",
      "torch.Size([64, 1, 128, 42])\n",
      "torch.Size([64, 64, 128, 21])\n",
      "torch.Size([64, 64, 128, 21])\n",
      "torch.Size([64, 128, 128, 10])\n",
      "torch.Size([64, 512, 32, 2])\n",
      "torch.Size([64, 512])\n",
      "torch.Size([64, 512])\n",
      "torch.Size([64, 512])\n",
      "fc통과: torch.Size([64, 507])\n",
      "torch.Size([64, 512])\n"
     ]
    },
    {
     "name": "stderr",
     "output_type": "stream",
     "text": [
      " 12%|█████▌                                      | 5/40 [00:01<00:08,  4.36it/s]"
     ]
    },
    {
     "name": "stdout",
     "output_type": "stream",
     "text": [
      "torch.Size([64, 128, 52, 1])\n",
      "torch.Size([64, 1, 128, 52])\n",
      "torch.Size([64, 64, 128, 26])\n",
      "torch.Size([64, 64, 128, 26])\n",
      "torch.Size([64, 128, 128, 13])\n",
      "torch.Size([64, 512, 32, 3])\n",
      "torch.Size([64, 512])\n",
      "torch.Size([64, 512])\n",
      "torch.Size([64, 512])\n",
      "fc통과: torch.Size([64, 507])\n",
      "torch.Size([64, 512])\n"
     ]
    },
    {
     "name": "stderr",
     "output_type": "stream",
     "text": [
      " 15%|██████▌                                     | 6/40 [00:01<00:08,  4.11it/s]"
     ]
    },
    {
     "name": "stdout",
     "output_type": "stream",
     "text": [
      "torch.Size([64, 128, 40, 1])\n",
      "torch.Size([64, 1, 128, 40])\n",
      "torch.Size([64, 64, 128, 20])\n",
      "torch.Size([64, 64, 128, 20])\n",
      "torch.Size([64, 128, 128, 10])\n",
      "torch.Size([64, 512, 32, 2])\n",
      "torch.Size([64, 512])\n",
      "torch.Size([64, 512])\n",
      "torch.Size([64, 512])\n",
      "fc통과: torch.Size([64, 507])\n",
      "torch.Size([64, 512])\n"
     ]
    },
    {
     "name": "stderr",
     "output_type": "stream",
     "text": [
      " 18%|███████▋                                    | 7/40 [00:01<00:07,  4.20it/s]"
     ]
    },
    {
     "name": "stdout",
     "output_type": "stream",
     "text": [
      "torch.Size([64, 128, 64, 1])\n",
      "torch.Size([64, 1, 128, 64])\n",
      "torch.Size([64, 64, 128, 32])\n",
      "torch.Size([64, 64, 128, 32])\n",
      "torch.Size([64, 128, 128, 16])\n",
      "torch.Size([64, 512, 32, 4])\n",
      "torch.Size([64, 512])\n",
      "torch.Size([64, 512])\n",
      "torch.Size([64, 512])\n",
      "fc통과: torch.Size([64, 507])\n",
      "torch.Size([64, 512])\n"
     ]
    },
    {
     "name": "stderr",
     "output_type": "stream",
     "text": [
      " 20%|████████▊                                   | 8/40 [00:01<00:07,  4.05it/s]"
     ]
    },
    {
     "name": "stdout",
     "output_type": "stream",
     "text": [
      "torch.Size([64, 128, 42, 1])\n",
      "torch.Size([64, 1, 128, 42])\n",
      "torch.Size([64, 64, 128, 21])\n",
      "torch.Size([64, 64, 128, 21])\n",
      "torch.Size([64, 128, 128, 10])\n",
      "torch.Size([64, 512, 32, 2])\n",
      "torch.Size([64, 512])\n",
      "torch.Size([64, 512])\n",
      "torch.Size([64, 512])\n",
      "fc통과: torch.Size([64, 507])\n",
      "torch.Size([64, 512])\n"
     ]
    },
    {
     "name": "stderr",
     "output_type": "stream",
     "text": [
      " 22%|█████████▉                                  | 9/40 [00:02<00:07,  4.11it/s]"
     ]
    },
    {
     "name": "stdout",
     "output_type": "stream",
     "text": [
      "torch.Size([64, 128, 38, 1])\n",
      "torch.Size([64, 1, 128, 38])\n",
      "torch.Size([64, 64, 128, 19])\n",
      "torch.Size([64, 64, 128, 19])\n",
      "torch.Size([64, 128, 128, 9])\n",
      "torch.Size([64, 512, 32, 2])\n",
      "torch.Size([64, 512])\n",
      "torch.Size([64, 512])\n",
      "torch.Size([64, 512])\n",
      "fc통과: torch.Size([64, 507])\n",
      "torch.Size([64, 512])\n"
     ]
    },
    {
     "name": "stderr",
     "output_type": "stream",
     "text": [
      " 25%|██████████▊                                | 10/40 [00:02<00:07,  4.28it/s]"
     ]
    },
    {
     "name": "stdout",
     "output_type": "stream",
     "text": [
      "torch.Size([64, 128, 54, 1])\n",
      "torch.Size([64, 1, 128, 54])\n",
      "torch.Size([64, 64, 128, 27])\n",
      "torch.Size([64, 64, 128, 27])\n",
      "torch.Size([64, 128, 128, 13])\n",
      "torch.Size([64, 512, 32, 3])\n",
      "torch.Size([64, 512])\n",
      "torch.Size([64, 512])\n",
      "torch.Size([64, 512])\n",
      "fc통과: torch.Size([64, 507])\n",
      "torch.Size([64, 512])\n"
     ]
    },
    {
     "name": "stderr",
     "output_type": "stream",
     "text": [
      " 28%|███████████▊                               | 11/40 [00:02<00:07,  4.05it/s]"
     ]
    },
    {
     "name": "stdout",
     "output_type": "stream",
     "text": [
      "torch.Size([64, 128, 58, 1])\n",
      "torch.Size([64, 1, 128, 58])\n",
      "torch.Size([64, 64, 128, 29])\n",
      "torch.Size([64, 64, 128, 29])\n",
      "torch.Size([64, 128, 128, 14])\n",
      "torch.Size([64, 512, 32, 3])\n",
      "torch.Size([64, 512])\n",
      "torch.Size([64, 512])\n",
      "torch.Size([64, 512])\n",
      "fc통과: torch.Size([64, 507])\n",
      "torch.Size([64, 512])\n"
     ]
    },
    {
     "name": "stderr",
     "output_type": "stream",
     "text": [
      " 30%|████████████▉                              | 12/40 [00:02<00:07,  3.83it/s]"
     ]
    },
    {
     "name": "stdout",
     "output_type": "stream",
     "text": [
      "torch.Size([64, 128, 61, 1])\n",
      "torch.Size([64, 1, 128, 61])\n",
      "torch.Size([64, 64, 128, 30])\n",
      "torch.Size([64, 64, 128, 30])\n",
      "torch.Size([64, 128, 128, 15])\n",
      "torch.Size([64, 512, 32, 3])\n",
      "torch.Size([64, 512])\n",
      "torch.Size([64, 512])\n",
      "torch.Size([64, 512])\n",
      "fc통과: torch.Size([64, 507])\n",
      "torch.Size([64, 512])\n"
     ]
    },
    {
     "name": "stderr",
     "output_type": "stream",
     "text": [
      " 32%|█████████████▉                             | 13/40 [00:03<00:07,  3.63it/s]"
     ]
    },
    {
     "name": "stdout",
     "output_type": "stream",
     "text": [
      "torch.Size([64, 128, 37, 1])\n",
      "torch.Size([64, 1, 128, 37])\n",
      "torch.Size([64, 64, 128, 18])\n",
      "torch.Size([64, 64, 128, 18])\n",
      "torch.Size([64, 128, 128, 9])\n",
      "torch.Size([64, 512, 32, 2])\n",
      "torch.Size([64, 512])\n",
      "torch.Size([64, 512])\n",
      "torch.Size([64, 512])\n",
      "fc통과: torch.Size([64, 507])\n",
      "torch.Size([64, 512])\n"
     ]
    },
    {
     "name": "stderr",
     "output_type": "stream",
     "text": [
      " 35%|███████████████                            | 14/40 [00:03<00:06,  3.92it/s]"
     ]
    },
    {
     "name": "stdout",
     "output_type": "stream",
     "text": [
      "torch.Size([64, 128, 41, 1])\n",
      "torch.Size([64, 1, 128, 41])\n",
      "torch.Size([64, 64, 128, 20])\n",
      "torch.Size([64, 64, 128, 20])\n",
      "torch.Size([64, 128, 128, 10])\n",
      "torch.Size([64, 512, 32, 2])\n",
      "torch.Size([64, 512])\n",
      "torch.Size([64, 512])\n",
      "torch.Size([64, 512])\n",
      "fc통과: torch.Size([64, 507])\n",
      "torch.Size([64, 512])\n"
     ]
    },
    {
     "name": "stderr",
     "output_type": "stream",
     "text": [
      " 40%|█████████████████▏                         | 16/40 [00:03<00:05,  4.29it/s]"
     ]
    },
    {
     "name": "stdout",
     "output_type": "stream",
     "text": [
      "torch.Size([64, 128, 35, 1])\n",
      "torch.Size([64, 1, 128, 35])\n",
      "torch.Size([64, 64, 128, 17])\n",
      "torch.Size([64, 64, 128, 17])\n",
      "torch.Size([64, 128, 128, 8])\n",
      "torch.Size([64, 512, 32, 2])\n",
      "torch.Size([64, 512])\n",
      "torch.Size([64, 512])\n",
      "torch.Size([64, 512])\n",
      "fc통과: torch.Size([64, 507])\n",
      "torch.Size([64, 512])\n",
      "torch.Size([64, 128, 48, 1])\n",
      "torch.Size([64, 1, 128, 48])\n",
      "torch.Size([64, 64, 128, 24])\n",
      "torch.Size([64, 64, 128, 24])\n",
      "torch.Size([64, 128, 128, 12])\n",
      "torch.Size([64, 512, 32, 3])\n",
      "torch.Size([64, 512])\n",
      "torch.Size([64, 512])\n",
      "torch.Size([64, 512])\n",
      "fc통과: torch.Size([64, 507])\n",
      "torch.Size([64, 512])\n"
     ]
    },
    {
     "name": "stderr",
     "output_type": "stream",
     "text": [
      " 42%|██████████████████▎                        | 17/40 [00:04<00:05,  4.20it/s]"
     ]
    },
    {
     "name": "stdout",
     "output_type": "stream",
     "text": [
      "torch.Size([64, 128, 40, 1])\n",
      "torch.Size([64, 1, 128, 40])\n",
      "torch.Size([64, 64, 128, 20])\n",
      "torch.Size([64, 64, 128, 20])\n",
      "torch.Size([64, 128, 128, 10])\n",
      "torch.Size([64, 512, 32, 2])\n",
      "torch.Size([64, 512])\n",
      "torch.Size([64, 512])\n",
      "torch.Size([64, 512])\n",
      "fc통과: torch.Size([64, 507])\n",
      "torch.Size([64, 512])\n"
     ]
    },
    {
     "name": "stderr",
     "output_type": "stream",
     "text": [
      " 48%|████████████████████▍                      | 19/40 [00:04<00:04,  4.50it/s]"
     ]
    },
    {
     "name": "stdout",
     "output_type": "stream",
     "text": [
      "torch.Size([64, 128, 33, 1])\n",
      "torch.Size([64, 1, 128, 33])\n",
      "torch.Size([64, 64, 128, 16])\n",
      "torch.Size([64, 64, 128, 16])\n",
      "torch.Size([64, 128, 128, 8])\n",
      "torch.Size([64, 512, 32, 2])\n",
      "torch.Size([64, 512])\n",
      "torch.Size([64, 512])\n",
      "torch.Size([64, 512])\n",
      "fc통과: torch.Size([64, 507])\n",
      "torch.Size([64, 512])\n",
      "torch.Size([64, 128, 33, 1])\n",
      "torch.Size([64, 1, 128, 33])\n",
      "torch.Size([64, 64, 128, 16])\n",
      "torch.Size([64, 64, 128, 16])\n",
      "torch.Size([64, 128, 128, 8])\n",
      "torch.Size([64, 512, 32, 2])\n",
      "torch.Size([64, 512])\n",
      "torch.Size([64, 512])\n",
      "torch.Size([64, 512])\n",
      "fc통과: torch.Size([64, 507])\n",
      "torch.Size([64, 512])\n"
     ]
    },
    {
     "name": "stderr",
     "output_type": "stream",
     "text": [
      " 52%|██████████████████████▌                    | 21/40 [00:04<00:03,  4.78it/s]"
     ]
    },
    {
     "name": "stdout",
     "output_type": "stream",
     "text": [
      "torch.Size([64, 128, 35, 1])\n",
      "torch.Size([64, 1, 128, 35])\n",
      "torch.Size([64, 64, 128, 17])\n",
      "torch.Size([64, 64, 128, 17])\n",
      "torch.Size([64, 128, 128, 8])\n",
      "torch.Size([64, 512, 32, 2])\n",
      "torch.Size([64, 512])\n",
      "torch.Size([64, 512])\n",
      "torch.Size([64, 512])\n",
      "fc통과: torch.Size([64, 507])\n",
      "torch.Size([64, 512])\n",
      "torch.Size([64, 128, 35, 1])\n",
      "torch.Size([64, 1, 128, 35])\n",
      "torch.Size([64, 64, 128, 17])\n",
      "torch.Size([64, 64, 128, 17])\n",
      "torch.Size([64, 128, 128, 8])\n",
      "torch.Size([64, 512, 32, 2])\n"
     ]
    },
    {
     "name": "stderr",
     "output_type": "stream",
     "text": [
      " 55%|███████████████████████▋                   | 22/40 [00:05<00:03,  4.86it/s]"
     ]
    },
    {
     "name": "stdout",
     "output_type": "stream",
     "text": [
      "torch.Size([64, 512])\n",
      "torch.Size([64, 512])\n",
      "torch.Size([64, 512])\n",
      "fc통과: torch.Size([64, 507])\n",
      "torch.Size([64, 512])\n",
      "torch.Size([64, 128, 32, 1])\n",
      "torch.Size([64, 1, 128, 32])\n",
      "torch.Size([64, 64, 128, 16])\n",
      "torch.Size([64, 64, 128, 16])\n",
      "torch.Size([64, 128, 128, 8])\n",
      "torch.Size([64, 512, 32, 2])\n",
      "torch.Size([64, 512])\n",
      "torch.Size([64, 512])\n",
      "torch.Size([64, 512])\n",
      "fc통과: torch.Size([64, 507])\n",
      "torch.Size([64, 512])\n"
     ]
    },
    {
     "name": "stderr",
     "output_type": "stream",
     "text": [
      " 57%|████████████████████████▋                  | 23/40 [00:05<00:03,  4.97it/s]"
     ]
    },
    {
     "name": "stdout",
     "output_type": "stream",
     "text": [
      "torch.Size([64, 128, 37, 1])\n",
      "torch.Size([64, 1, 128, 37])\n",
      "torch.Size([64, 64, 128, 18])\n",
      "torch.Size([64, 64, 128, 18])\n",
      "torch.Size([64, 128, 128, 9])\n",
      "torch.Size([64, 512, 32, 2])\n",
      "torch.Size([64, 512])\n",
      "torch.Size([64, 512])\n",
      "torch.Size([64, 512])\n",
      "fc통과: torch.Size([64, 507])\n",
      "torch.Size([64, 512])\n"
     ]
    },
    {
     "name": "stderr",
     "output_type": "stream",
     "text": [
      " 60%|█████████████████████████▊                 | 24/40 [00:05<00:03,  4.91it/s]"
     ]
    },
    {
     "name": "stdout",
     "output_type": "stream",
     "text": [
      "torch.Size([64, 128, 47, 1])\n",
      "torch.Size([64, 1, 128, 47])\n",
      "torch.Size([64, 64, 128, 23])\n",
      "torch.Size([64, 64, 128, 23])\n",
      "torch.Size([64, 128, 128, 11])\n",
      "torch.Size([64, 512, 32, 2])\n",
      "torch.Size([64, 512])\n",
      "torch.Size([64, 512])\n",
      "torch.Size([64, 512])\n",
      "fc통과: torch.Size([64, 507])\n",
      "torch.Size([64, 512])\n"
     ]
    },
    {
     "name": "stderr",
     "output_type": "stream",
     "text": [
      " 65%|███████████████████████████▉               | 26/40 [00:05<00:02,  4.75it/s]"
     ]
    },
    {
     "name": "stdout",
     "output_type": "stream",
     "text": [
      "torch.Size([64, 128, 34, 1])\n",
      "torch.Size([64, 1, 128, 34])\n",
      "torch.Size([64, 64, 128, 17])\n",
      "torch.Size([64, 64, 128, 17])\n",
      "torch.Size([64, 128, 128, 8])\n",
      "torch.Size([64, 512, 32, 2])\n",
      "torch.Size([64, 512])\n",
      "torch.Size([64, 512])\n",
      "torch.Size([64, 512])\n",
      "fc통과: torch.Size([64, 507])\n",
      "torch.Size([64, 512])\n",
      "torch.Size([64, 128, 24, 1])\n",
      "torch.Size([64, 1, 128, 24])\n",
      "torch.Size([64, 64, 128, 12])\n",
      "torch.Size([64, 64, 128, 12])\n",
      "torch.Size([64, 128, 128, 6])\n",
      "torch.Size([64, 512, 32, 1])\n",
      "torch.Size([64, 512])\n",
      "torch.Size([64, 512])\n",
      "torch.Size([64, 512])\n",
      "fc통과: torch.Size([64, 507])\n",
      "torch.Size([64, 512])\n"
     ]
    },
    {
     "name": "stderr",
     "output_type": "stream",
     "text": [
      " 70%|██████████████████████████████             | 28/40 [00:06<00:02,  5.29it/s]"
     ]
    },
    {
     "name": "stdout",
     "output_type": "stream",
     "text": [
      "torch.Size([64, 128, 25, 1])\n",
      "torch.Size([64, 1, 128, 25])\n",
      "torch.Size([64, 64, 128, 12])\n",
      "torch.Size([64, 64, 128, 12])\n",
      "torch.Size([64, 128, 128, 6])\n",
      "torch.Size([64, 512, 32, 1])\n",
      "torch.Size([64, 512])\n",
      "torch.Size([64, 512])\n",
      "torch.Size([64, 512])\n",
      "fc통과: torch.Size([64, 507])\n",
      "torch.Size([64, 512])\n",
      "torch.Size([64, 128, 30, 1])\n",
      "torch.Size([64, 1, 128, 30])\n",
      "torch.Size([64, 64, 128, 15])\n",
      "torch.Size([64, 64, 128, 15])\n",
      "torch.Size([64, 128, 128, 7])\n",
      "torch.Size([64, 512, 32, 1])\n",
      "torch.Size([64, 512])\n",
      "torch.Size([64, 512])\n",
      "torch.Size([64, 512])\n",
      "fc통과: torch.Size([64, 507])\n",
      "torch.Size([64, 512])\n"
     ]
    },
    {
     "name": "stderr",
     "output_type": "stream",
     "text": [
      " 72%|███████████████████████████████▏           | 29/40 [00:06<00:02,  5.31it/s]"
     ]
    },
    {
     "name": "stdout",
     "output_type": "stream",
     "text": [
      "torch.Size([64, 128, 37, 1])\n",
      "torch.Size([64, 1, 128, 37])\n",
      "torch.Size([64, 64, 128, 18])\n",
      "torch.Size([64, 64, 128, 18])\n",
      "torch.Size([64, 128, 128, 9])\n",
      "torch.Size([64, 512, 32, 2])\n",
      "torch.Size([64, 512])\n",
      "torch.Size([64, 512])\n",
      "torch.Size([64, 512])\n",
      "fc통과: torch.Size([64, 507])\n",
      "torch.Size([64, 512])\n"
     ]
    },
    {
     "name": "stderr",
     "output_type": "stream",
     "text": [
      " 78%|█████████████████████████████████▎         | 31/40 [00:06<00:01,  5.16it/s]"
     ]
    },
    {
     "name": "stdout",
     "output_type": "stream",
     "text": [
      "torch.Size([64, 128, 33, 1])\n",
      "torch.Size([64, 1, 128, 33])\n",
      "torch.Size([64, 64, 128, 16])\n",
      "torch.Size([64, 64, 128, 16])\n",
      "torch.Size([64, 128, 128, 8])\n",
      "torch.Size([64, 512, 32, 2])\n",
      "torch.Size([64, 512])\n",
      "torch.Size([64, 512])\n",
      "torch.Size([64, 512])\n",
      "fc통과: torch.Size([64, 507])\n",
      "torch.Size([64, 512])\n",
      "torch.Size([64, 128, 36, 1])\n",
      "torch.Size([64, 1, 128, 36])\n",
      "torch.Size([64, 64, 128, 18])\n",
      "torch.Size([64, 64, 128, 18])\n",
      "torch.Size([64, 128, 128, 9])\n",
      "torch.Size([64, 512, 32, 2])\n",
      "torch.Size([64, 512])\n",
      "torch.Size([64, 512])\n",
      "torch.Size([64, 512])\n",
      "fc통과: torch.Size([64, 507])\n",
      "torch.Size([64, 512])\n"
     ]
    },
    {
     "name": "stderr",
     "output_type": "stream",
     "text": [
      " 82%|███████████████████████████████████▍       | 33/40 [00:07<00:01,  5.06it/s]"
     ]
    },
    {
     "name": "stdout",
     "output_type": "stream",
     "text": [
      "torch.Size([64, 128, 34, 1])\n",
      "torch.Size([64, 1, 128, 34])\n",
      "torch.Size([64, 64, 128, 17])\n",
      "torch.Size([64, 64, 128, 17])\n",
      "torch.Size([64, 128, 128, 8])\n",
      "torch.Size([64, 512, 32, 2])\n",
      "torch.Size([64, 512])\n",
      "torch.Size([64, 512])\n",
      "torch.Size([64, 512])\n",
      "fc통과: torch.Size([64, 507])\n",
      "torch.Size([64, 512])\n",
      "torch.Size([64, 128, 33, 1])\n",
      "torch.Size([64, 1, 128, 33])\n",
      "torch.Size([64, 64, 128, 16])\n",
      "torch.Size([64, 64, 128, 16])\n",
      "torch.Size([64, 128, 128, 8])\n",
      "torch.Size([64, 512, 32, 2])\n",
      "torch.Size([64, 512])\n",
      "torch.Size([64, 512])\n",
      "torch.Size([64, 512])\n",
      "fc통과: torch.Size([64, 507])\n",
      "torch.Size([64, 512])\n"
     ]
    },
    {
     "name": "stderr",
     "output_type": "stream",
     "text": [
      " 88%|█████████████████████████████████████▋     | 35/40 [00:07<00:00,  5.15it/s]"
     ]
    },
    {
     "name": "stdout",
     "output_type": "stream",
     "text": [
      "torch.Size([64, 128, 32, 1])\n",
      "torch.Size([64, 1, 128, 32])\n",
      "torch.Size([64, 64, 128, 16])\n",
      "torch.Size([64, 64, 128, 16])\n",
      "torch.Size([64, 128, 128, 8])\n",
      "torch.Size([64, 512, 32, 2])\n",
      "torch.Size([64, 512])\n",
      "torch.Size([64, 512])\n",
      "torch.Size([64, 512])\n",
      "fc통과: torch.Size([64, 507])\n",
      "torch.Size([64, 512])\n",
      "torch.Size([64, 128, 36, 1])\n",
      "torch.Size([64, 1, 128, 36])\n",
      "torch.Size([64, 64, 128, 18])\n",
      "torch.Size([64, 64, 128, 18])\n",
      "torch.Size([64, 128, 128, 9])\n",
      "torch.Size([64, 512, 32, 2])\n",
      "torch.Size([64, 512])\n",
      "torch.Size([64, 512])\n",
      "torch.Size([64, 512])\n",
      "fc통과: torch.Size([64, 507])\n",
      "torch.Size([64, 512])\n"
     ]
    },
    {
     "name": "stderr",
     "output_type": "stream",
     "text": [
      " 92%|███████████████████████████████████████▊   | 37/40 [00:08<00:00,  5.06it/s]"
     ]
    },
    {
     "name": "stdout",
     "output_type": "stream",
     "text": [
      "torch.Size([64, 128, 34, 1])\n",
      "torch.Size([64, 1, 128, 34])\n",
      "torch.Size([64, 64, 128, 17])\n",
      "torch.Size([64, 64, 128, 17])\n",
      "torch.Size([64, 128, 128, 8])\n",
      "torch.Size([64, 512, 32, 2])\n",
      "torch.Size([64, 512])\n",
      "torch.Size([64, 512])\n",
      "torch.Size([64, 512])\n",
      "fc통과: torch.Size([64, 507])\n",
      "torch.Size([64, 512])\n",
      "torch.Size([64, 128, 35, 1])\n",
      "torch.Size([64, 1, 128, 35])\n",
      "torch.Size([64, 64, 128, 17])\n",
      "torch.Size([64, 64, 128, 17])\n",
      "torch.Size([64, 128, 128, 8])\n",
      "torch.Size([64, 512, 32, 2])\n",
      "torch.Size([64, 512])\n",
      "torch.Size([64, 512])\n",
      "torch.Size([64, 512])\n",
      "fc통과: torch.Size([64, 507])\n",
      "torch.Size([64, 512])\n"
     ]
    },
    {
     "name": "stderr",
     "output_type": "stream",
     "text": [
      " 98%|█████████████████████████████████████████▉ | 39/40 [00:08<00:00,  5.10it/s]"
     ]
    },
    {
     "name": "stdout",
     "output_type": "stream",
     "text": [
      "torch.Size([64, 128, 33, 1])\n",
      "torch.Size([64, 1, 128, 33])\n",
      "torch.Size([64, 64, 128, 16])\n",
      "torch.Size([64, 64, 128, 16])\n",
      "torch.Size([64, 128, 128, 8])\n",
      "torch.Size([64, 512, 32, 2])\n",
      "torch.Size([64, 512])\n",
      "torch.Size([64, 512])\n",
      "torch.Size([64, 512])\n",
      "fc통과: torch.Size([64, 507])\n",
      "torch.Size([64, 512])\n",
      "torch.Size([36, 128, 33, 1])\n",
      "torch.Size([36, 1, 128, 33])\n",
      "torch.Size([36, 64, 128, 16])\n",
      "torch.Size([36, 64, 128, 16])\n",
      "torch.Size([36, 128, 128, 8])\n",
      "torch.Size([36, 512, 32, 2])\n",
      "torch.Size([36, 512])\n",
      "torch.Size([36, 512])\n",
      "torch.Size([36, 512])\n",
      "fc통과: torch.Size([36, 507])\n",
      "torch.Size([36, 512])\n"
     ]
    },
    {
     "name": "stderr",
     "output_type": "stream",
     "text": [
      "100%|███████████████████████████████████████████| 40/40 [00:08<00:00,  4.69it/s]"
     ]
    },
    {
     "name": "stdout",
     "output_type": "stream",
     "text": [
      "07-04 16:50 [MainProcess, 23066] [INFO ]  Iteration:6, loss = 0.663332, acc = 97.500 \n",
      "07-04 16:50 [MainProcess, 23066] [INFO ]  Iteration:6, loss = 0.663332, acc = 97.500 \n",
      "07-04 16:50 [MainProcess, 23066] [INFO ]  Iteration:6, loss = 0.663332, acc = 97.500 \n",
      "07-04 16:50 [MainProcess, 23066] [INFO ]  Iteration:6, loss = 0.663332, acc = 97.500 \n",
      "07-04 16:50 [MainProcess, 23066] [INFO ]  Iteration:6, loss = 0.663332, acc = 97.500 \n",
      "07-04 16:50 [MainProcess, 23066] [INFO ]  Iteration:6, loss = 0.663332, acc = 97.500 \n",
      "07-04 16:50 [MainProcess, 23066] [INFO ]  Iteration:6, loss = 0.663332, acc = 97.500 \n",
      "07-04 16:50 [MainProcess, 23066] [INFO ]  Iteration:6, loss = 0.663332, acc = 97.500 \n"
     ]
    },
    {
     "name": "stderr",
     "output_type": "stream",
     "text": [
      "\n",
      "  0%|                                                    | 0/40 [00:00<?, ?it/s]"
     ]
    },
    {
     "name": "stdout",
     "output_type": "stream",
     "text": [
      "torch.Size([64, 128, 34, 1])\n",
      "torch.Size([64, 1, 128, 34])\n",
      "torch.Size([64, 64, 128, 17])\n",
      "torch.Size([64, 64, 128, 17])\n",
      "torch.Size([64, 128, 128, 8])\n",
      "torch.Size([64, 512, 32, 2])\n",
      "torch.Size([64, 512])\n",
      "torch.Size([64, 512])\n",
      "torch.Size([64, 512])\n",
      "fc통과: torch.Size([64, 507])\n",
      "torch.Size([64, 512])\n"
     ]
    },
    {
     "name": "stderr",
     "output_type": "stream",
     "text": [
      "  2%|█                                           | 1/40 [00:00<00:07,  5.09it/s]"
     ]
    },
    {
     "name": "stdout",
     "output_type": "stream",
     "text": [
      "torch.Size([64, 128, 39, 1])\n",
      "torch.Size([64, 1, 128, 39])\n",
      "torch.Size([64, 64, 128, 19])\n",
      "torch.Size([64, 64, 128, 19])\n",
      "torch.Size([64, 128, 128, 9])\n",
      "torch.Size([64, 512, 32, 2])\n",
      "torch.Size([64, 512])\n",
      "torch.Size([64, 512])\n",
      "torch.Size([64, 512])\n",
      "fc통과: torch.Size([64, 507])\n",
      "torch.Size([64, 512])\n"
     ]
    },
    {
     "name": "stderr",
     "output_type": "stream",
     "text": [
      "  5%|██▏                                         | 2/40 [00:00<00:07,  4.83it/s]"
     ]
    },
    {
     "name": "stdout",
     "output_type": "stream",
     "text": [
      "torch.Size([64, 128, 48, 1])\n",
      "torch.Size([64, 1, 128, 48])\n",
      "torch.Size([64, 64, 128, 24])\n",
      "torch.Size([64, 64, 128, 24])\n",
      "torch.Size([64, 128, 128, 12])\n",
      "torch.Size([64, 512, 32, 3])\n",
      "torch.Size([64, 512])\n",
      "torch.Size([64, 512])\n",
      "torch.Size([64, 512])\n",
      "fc통과: torch.Size([64, 507])\n",
      "torch.Size([64, 512])\n"
     ]
    },
    {
     "name": "stderr",
     "output_type": "stream",
     "text": [
      "  8%|███▎                                        | 3/40 [00:00<00:08,  4.41it/s]"
     ]
    },
    {
     "name": "stdout",
     "output_type": "stream",
     "text": [
      "torch.Size([64, 128, 40, 1])\n",
      "torch.Size([64, 1, 128, 40])\n",
      "torch.Size([64, 64, 128, 20])\n",
      "torch.Size([64, 64, 128, 20])\n",
      "torch.Size([64, 128, 128, 10])\n",
      "torch.Size([64, 512, 32, 2])\n",
      "torch.Size([64, 512])\n",
      "torch.Size([64, 512])\n",
      "torch.Size([64, 512])\n",
      "fc통과: torch.Size([64, 507])\n",
      "torch.Size([64, 512])\n"
     ]
    },
    {
     "name": "stderr",
     "output_type": "stream",
     "text": [
      " 10%|████▍                                       | 4/40 [00:00<00:08,  4.41it/s]"
     ]
    },
    {
     "name": "stdout",
     "output_type": "stream",
     "text": [
      "torch.Size([64, 128, 42, 1])\n",
      "torch.Size([64, 1, 128, 42])\n",
      "torch.Size([64, 64, 128, 21])\n",
      "torch.Size([64, 64, 128, 21])\n",
      "torch.Size([64, 128, 128, 10])\n",
      "torch.Size([64, 512, 32, 2])\n",
      "torch.Size([64, 512])\n",
      "torch.Size([64, 512])\n",
      "torch.Size([64, 512])\n",
      "fc통과: torch.Size([64, 507])\n",
      "torch.Size([64, 512])\n"
     ]
    },
    {
     "name": "stderr",
     "output_type": "stream",
     "text": [
      " 12%|█████▌                                      | 5/40 [00:01<00:08,  4.36it/s]"
     ]
    },
    {
     "name": "stdout",
     "output_type": "stream",
     "text": [
      "torch.Size([64, 128, 52, 1])\n",
      "torch.Size([64, 1, 128, 52])\n",
      "torch.Size([64, 64, 128, 26])\n",
      "torch.Size([64, 64, 128, 26])\n",
      "torch.Size([64, 128, 128, 13])\n",
      "torch.Size([64, 512, 32, 3])\n",
      "torch.Size([64, 512])\n",
      "torch.Size([64, 512])\n",
      "torch.Size([64, 512])\n",
      "fc통과: torch.Size([64, 507])\n",
      "torch.Size([64, 512])\n"
     ]
    },
    {
     "name": "stderr",
     "output_type": "stream",
     "text": [
      " 15%|██████▌                                     | 6/40 [00:01<00:08,  4.11it/s]"
     ]
    },
    {
     "name": "stdout",
     "output_type": "stream",
     "text": [
      "torch.Size([64, 128, 40, 1])\n",
      "torch.Size([64, 1, 128, 40])\n",
      "torch.Size([64, 64, 128, 20])\n",
      "torch.Size([64, 64, 128, 20])\n",
      "torch.Size([64, 128, 128, 10])\n",
      "torch.Size([64, 512, 32, 2])\n",
      "torch.Size([64, 512])\n",
      "torch.Size([64, 512])\n",
      "torch.Size([64, 512])\n",
      "fc통과: torch.Size([64, 507])\n",
      "torch.Size([64, 512])\n"
     ]
    },
    {
     "name": "stderr",
     "output_type": "stream",
     "text": [
      " 18%|███████▋                                    | 7/40 [00:01<00:07,  4.20it/s]"
     ]
    },
    {
     "name": "stdout",
     "output_type": "stream",
     "text": [
      "torch.Size([64, 128, 64, 1])\n",
      "torch.Size([64, 1, 128, 64])\n",
      "torch.Size([64, 64, 128, 32])\n",
      "torch.Size([64, 64, 128, 32])\n",
      "torch.Size([64, 128, 128, 16])\n",
      "torch.Size([64, 512, 32, 4])\n",
      "torch.Size([64, 512])\n",
      "torch.Size([64, 512])\n",
      "torch.Size([64, 512])\n",
      "fc통과: torch.Size([64, 507])\n",
      "torch.Size([64, 512])\n"
     ]
    },
    {
     "name": "stderr",
     "output_type": "stream",
     "text": [
      " 20%|████████▊                                   | 8/40 [00:01<00:07,  4.05it/s]"
     ]
    },
    {
     "name": "stdout",
     "output_type": "stream",
     "text": [
      "torch.Size([64, 128, 42, 1])\n",
      "torch.Size([64, 1, 128, 42])\n",
      "torch.Size([64, 64, 128, 21])\n",
      "torch.Size([64, 64, 128, 21])\n",
      "torch.Size([64, 128, 128, 10])\n",
      "torch.Size([64, 512, 32, 2])\n",
      "torch.Size([64, 512])\n",
      "torch.Size([64, 512])\n",
      "torch.Size([64, 512])\n",
      "fc통과: torch.Size([64, 507])\n",
      "torch.Size([64, 512])\n"
     ]
    },
    {
     "name": "stderr",
     "output_type": "stream",
     "text": [
      " 22%|█████████▉                                  | 9/40 [00:02<00:07,  4.12it/s]"
     ]
    },
    {
     "name": "stdout",
     "output_type": "stream",
     "text": [
      "torch.Size([64, 128, 38, 1])\n",
      "torch.Size([64, 1, 128, 38])\n",
      "torch.Size([64, 64, 128, 19])\n",
      "torch.Size([64, 64, 128, 19])\n",
      "torch.Size([64, 128, 128, 9])\n",
      "torch.Size([64, 512, 32, 2])\n",
      "torch.Size([64, 512])\n",
      "torch.Size([64, 512])\n",
      "torch.Size([64, 512])\n",
      "fc통과: torch.Size([64, 507])\n",
      "torch.Size([64, 512])\n"
     ]
    },
    {
     "name": "stderr",
     "output_type": "stream",
     "text": [
      " 25%|██████████▊                                | 10/40 [00:02<00:06,  4.29it/s]"
     ]
    },
    {
     "name": "stdout",
     "output_type": "stream",
     "text": [
      "torch.Size([64, 128, 54, 1])\n",
      "torch.Size([64, 1, 128, 54])\n",
      "torch.Size([64, 64, 128, 27])\n",
      "torch.Size([64, 64, 128, 27])\n",
      "torch.Size([64, 128, 128, 13])\n",
      "torch.Size([64, 512, 32, 3])\n",
      "torch.Size([64, 512])\n",
      "torch.Size([64, 512])\n",
      "torch.Size([64, 512])\n",
      "fc통과: torch.Size([64, 507])\n",
      "torch.Size([64, 512])\n"
     ]
    },
    {
     "name": "stderr",
     "output_type": "stream",
     "text": [
      " 28%|███████████▊                               | 11/40 [00:02<00:07,  4.05it/s]"
     ]
    },
    {
     "name": "stdout",
     "output_type": "stream",
     "text": [
      "torch.Size([64, 128, 58, 1])\n",
      "torch.Size([64, 1, 128, 58])\n",
      "torch.Size([64, 64, 128, 29])\n",
      "torch.Size([64, 64, 128, 29])\n",
      "torch.Size([64, 128, 128, 14])\n",
      "torch.Size([64, 512, 32, 3])\n",
      "torch.Size([64, 512])\n",
      "torch.Size([64, 512])\n",
      "torch.Size([64, 512])\n",
      "fc통과: torch.Size([64, 507])\n",
      "torch.Size([64, 512])\n"
     ]
    },
    {
     "name": "stderr",
     "output_type": "stream",
     "text": [
      " 30%|████████████▉                              | 12/40 [00:02<00:07,  3.84it/s]"
     ]
    },
    {
     "name": "stdout",
     "output_type": "stream",
     "text": [
      "torch.Size([64, 128, 61, 1])\n",
      "torch.Size([64, 1, 128, 61])\n",
      "torch.Size([64, 64, 128, 30])\n",
      "torch.Size([64, 64, 128, 30])\n",
      "torch.Size([64, 128, 128, 15])\n",
      "torch.Size([64, 512, 32, 3])\n",
      "torch.Size([64, 512])\n",
      "torch.Size([64, 512])\n",
      "torch.Size([64, 512])\n",
      "fc통과: torch.Size([64, 507])\n",
      "torch.Size([64, 512])\n"
     ]
    },
    {
     "name": "stderr",
     "output_type": "stream",
     "text": [
      " 32%|█████████████▉                             | 13/40 [00:03<00:07,  3.65it/s]"
     ]
    },
    {
     "name": "stdout",
     "output_type": "stream",
     "text": [
      "torch.Size([64, 128, 37, 1])\n",
      "torch.Size([64, 1, 128, 37])\n",
      "torch.Size([64, 64, 128, 18])\n",
      "torch.Size([64, 64, 128, 18])\n",
      "torch.Size([64, 128, 128, 9])\n",
      "torch.Size([64, 512, 32, 2])\n",
      "torch.Size([64, 512])\n",
      "torch.Size([64, 512])\n",
      "torch.Size([64, 512])\n",
      "fc통과: torch.Size([64, 507])\n",
      "torch.Size([64, 512])\n"
     ]
    },
    {
     "name": "stderr",
     "output_type": "stream",
     "text": [
      " 35%|███████████████                            | 14/40 [00:03<00:06,  3.93it/s]"
     ]
    },
    {
     "name": "stdout",
     "output_type": "stream",
     "text": [
      "torch.Size([64, 128, 41, 1])\n",
      "torch.Size([64, 1, 128, 41])\n",
      "torch.Size([64, 64, 128, 20])\n",
      "torch.Size([64, 64, 128, 20])\n",
      "torch.Size([64, 128, 128, 10])\n",
      "torch.Size([64, 512, 32, 2])\n",
      "torch.Size([64, 512])\n",
      "torch.Size([64, 512])\n",
      "torch.Size([64, 512])\n",
      "fc통과: torch.Size([64, 507])\n",
      "torch.Size([64, 512])\n"
     ]
    },
    {
     "name": "stderr",
     "output_type": "stream",
     "text": [
      " 40%|█████████████████▏                         | 16/40 [00:03<00:05,  4.30it/s]"
     ]
    },
    {
     "name": "stdout",
     "output_type": "stream",
     "text": [
      "torch.Size([64, 128, 35, 1])\n",
      "torch.Size([64, 1, 128, 35])\n",
      "torch.Size([64, 64, 128, 17])\n",
      "torch.Size([64, 64, 128, 17])\n",
      "torch.Size([64, 128, 128, 8])\n",
      "torch.Size([64, 512, 32, 2])\n",
      "torch.Size([64, 512])\n",
      "torch.Size([64, 512])\n",
      "torch.Size([64, 512])\n",
      "fc통과: torch.Size([64, 507])\n",
      "torch.Size([64, 512])\n",
      "torch.Size([64, 128, 48, 1])\n",
      "torch.Size([64, 1, 128, 48])\n",
      "torch.Size([64, 64, 128, 24])\n",
      "torch.Size([64, 64, 128, 24])\n",
      "torch.Size([64, 128, 128, 12])\n",
      "torch.Size([64, 512, 32, 3])\n",
      "torch.Size([64, 512])\n",
      "torch.Size([64, 512])\n",
      "torch.Size([64, 512])\n",
      "fc통과: torch.Size([64, 507])\n",
      "torch.Size([64, 512])\n"
     ]
    },
    {
     "name": "stderr",
     "output_type": "stream",
     "text": [
      " 42%|██████████████████▎                        | 17/40 [00:04<00:05,  4.20it/s]"
     ]
    },
    {
     "name": "stdout",
     "output_type": "stream",
     "text": [
      "torch.Size([64, 128, 40, 1])\n",
      "torch.Size([64, 1, 128, 40])\n",
      "torch.Size([64, 64, 128, 20])\n",
      "torch.Size([64, 64, 128, 20])\n",
      "torch.Size([64, 128, 128, 10])\n",
      "torch.Size([64, 512, 32, 2])\n",
      "torch.Size([64, 512])\n",
      "torch.Size([64, 512])\n",
      "torch.Size([64, 512])\n",
      "fc통과: torch.Size([64, 507])\n",
      "torch.Size([64, 512])\n"
     ]
    },
    {
     "name": "stderr",
     "output_type": "stream",
     "text": [
      " 48%|████████████████████▍                      | 19/40 [00:04<00:04,  4.50it/s]"
     ]
    },
    {
     "name": "stdout",
     "output_type": "stream",
     "text": [
      "torch.Size([64, 128, 33, 1])\n",
      "torch.Size([64, 1, 128, 33])\n",
      "torch.Size([64, 64, 128, 16])\n",
      "torch.Size([64, 64, 128, 16])\n",
      "torch.Size([64, 128, 128, 8])\n",
      "torch.Size([64, 512, 32, 2])\n",
      "torch.Size([64, 512])\n",
      "torch.Size([64, 512])\n",
      "torch.Size([64, 512])\n",
      "fc통과: torch.Size([64, 507])\n",
      "torch.Size([64, 512])\n",
      "torch.Size([64, 128, 33, 1])\n",
      "torch.Size([64, 1, 128, 33])\n",
      "torch.Size([64, 64, 128, 16])\n",
      "torch.Size([64, 64, 128, 16])\n",
      "torch.Size([64, 128, 128, 8])\n",
      "torch.Size([64, 512, 32, 2])\n",
      "torch.Size([64, 512])\n",
      "torch.Size([64, 512])\n",
      "torch.Size([64, 512])\n",
      "fc통과: torch.Size([64, 507])\n",
      "torch.Size([64, 512])\n"
     ]
    },
    {
     "name": "stderr",
     "output_type": "stream",
     "text": [
      " 52%|██████████████████████▌                    | 21/40 [00:04<00:03,  4.79it/s]"
     ]
    },
    {
     "name": "stdout",
     "output_type": "stream",
     "text": [
      "torch.Size([64, 128, 35, 1])\n",
      "torch.Size([64, 1, 128, 35])\n",
      "torch.Size([64, 64, 128, 17])\n",
      "torch.Size([64, 64, 128, 17])\n",
      "torch.Size([64, 128, 128, 8])\n",
      "torch.Size([64, 512, 32, 2])\n",
      "torch.Size([64, 512])\n",
      "torch.Size([64, 512])\n",
      "torch.Size([64, 512])\n",
      "fc통과: torch.Size([64, 507])\n",
      "torch.Size([64, 512])\n",
      "torch.Size([64, 128, 35, 1])\n",
      "torch.Size([64, 1, 128, 35])\n",
      "torch.Size([64, 64, 128, 17])\n",
      "torch.Size([64, 64, 128, 17])\n",
      "torch.Size([64, 128, 128, 8])\n",
      "torch.Size([64, 512, 32, 2])\n",
      "torch.Size([64, 512])\n",
      "torch.Size([64, 512])\n",
      "torch.Size([64, 512])\n",
      "fc통과: torch.Size([64, 507])\n"
     ]
    },
    {
     "name": "stderr",
     "output_type": "stream",
     "text": [
      " 55%|███████████████████████▋                   | 22/40 [00:05<00:03,  4.86it/s]"
     ]
    },
    {
     "name": "stdout",
     "output_type": "stream",
     "text": [
      "torch.Size([64, 512])\n",
      "torch.Size([64, 128, 32, 1])\n",
      "torch.Size([64, 1, 128, 32])\n",
      "torch.Size([64, 64, 128, 16])\n",
      "torch.Size([64, 64, 128, 16])\n",
      "torch.Size([64, 128, 128, 8])\n",
      "torch.Size([64, 512, 32, 2])\n",
      "torch.Size([64, 512])\n",
      "torch.Size([64, 512])\n",
      "torch.Size([64, 512])\n",
      "fc통과: torch.Size([64, 507])\n",
      "torch.Size([64, 512])\n"
     ]
    },
    {
     "name": "stderr",
     "output_type": "stream",
     "text": [
      " 57%|████████████████████████▋                  | 23/40 [00:05<00:03,  4.96it/s]"
     ]
    },
    {
     "name": "stdout",
     "output_type": "stream",
     "text": [
      "torch.Size([64, 128, 37, 1])\n",
      "torch.Size([64, 1, 128, 37])\n",
      "torch.Size([64, 64, 128, 18])\n",
      "torch.Size([64, 64, 128, 18])\n",
      "torch.Size([64, 128, 128, 9])\n",
      "torch.Size([64, 512, 32, 2])\n",
      "torch.Size([64, 512])\n",
      "torch.Size([64, 512])\n",
      "torch.Size([64, 512])\n",
      "fc통과: torch.Size([64, 507])\n",
      "torch.Size([64, 512])\n"
     ]
    },
    {
     "name": "stderr",
     "output_type": "stream",
     "text": [
      " 60%|█████████████████████████▊                 | 24/40 [00:05<00:03,  4.89it/s]"
     ]
    },
    {
     "name": "stdout",
     "output_type": "stream",
     "text": [
      "torch.Size([64, 128, 47, 1])\n",
      "torch.Size([64, 1, 128, 47])\n",
      "torch.Size([64, 64, 128, 23])\n",
      "torch.Size([64, 64, 128, 23])\n",
      "torch.Size([64, 128, 128, 11])\n",
      "torch.Size([64, 512, 32, 2])\n",
      "torch.Size([64, 512])\n",
      "torch.Size([64, 512])\n",
      "torch.Size([64, 512])\n",
      "fc통과: torch.Size([64, 507])\n",
      "torch.Size([64, 512])\n"
     ]
    },
    {
     "name": "stderr",
     "output_type": "stream",
     "text": [
      " 65%|███████████████████████████▉               | 26/40 [00:05<00:02,  4.75it/s]"
     ]
    },
    {
     "name": "stdout",
     "output_type": "stream",
     "text": [
      "torch.Size([64, 128, 34, 1])\n",
      "torch.Size([64, 1, 128, 34])\n",
      "torch.Size([64, 64, 128, 17])\n",
      "torch.Size([64, 64, 128, 17])\n",
      "torch.Size([64, 128, 128, 8])\n",
      "torch.Size([64, 512, 32, 2])\n",
      "torch.Size([64, 512])\n",
      "torch.Size([64, 512])\n",
      "torch.Size([64, 512])\n",
      "fc통과: torch.Size([64, 507])\n",
      "torch.Size([64, 512])\n",
      "torch.Size([64, 128, 24, 1])\n",
      "torch.Size([64, 1, 128, 24])\n",
      "torch.Size([64, 64, 128, 12])\n",
      "torch.Size([64, 64, 128, 12])\n",
      "torch.Size([64, 128, 128, 6])\n",
      "torch.Size([64, 512, 32, 1])\n",
      "torch.Size([64, 512])\n",
      "torch.Size([64, 512])\n",
      "torch.Size([64, 512])\n",
      "fc통과: torch.Size([64, 507])\n",
      "torch.Size([64, 512])\n"
     ]
    },
    {
     "name": "stderr",
     "output_type": "stream",
     "text": [
      " 70%|██████████████████████████████             | 28/40 [00:06<00:02,  5.29it/s]"
     ]
    },
    {
     "name": "stdout",
     "output_type": "stream",
     "text": [
      "torch.Size([64, 128, 25, 1])\n",
      "torch.Size([64, 1, 128, 25])\n",
      "torch.Size([64, 64, 128, 12])\n",
      "torch.Size([64, 64, 128, 12])\n",
      "torch.Size([64, 128, 128, 6])\n",
      "torch.Size([64, 512, 32, 1])\n",
      "torch.Size([64, 512])\n",
      "torch.Size([64, 512])\n",
      "torch.Size([64, 512])\n",
      "fc통과: torch.Size([64, 507])\n",
      "torch.Size([64, 512])\n",
      "torch.Size([64, 128, 30, 1])\n",
      "torch.Size([64, 1, 128, 30])\n",
      "torch.Size([64, 64, 128, 15])\n",
      "torch.Size([64, 64, 128, 15])\n",
      "torch.Size([64, 128, 128, 7])\n",
      "torch.Size([64, 512, 32, 1])\n",
      "torch.Size([64, 512])\n",
      "torch.Size([64, 512])\n",
      "torch.Size([64, 512])\n",
      "fc통과: torch.Size([64, 507])\n",
      "torch.Size([64, 512])\n"
     ]
    },
    {
     "name": "stderr",
     "output_type": "stream",
     "text": [
      " 72%|███████████████████████████████▏           | 29/40 [00:06<00:02,  5.32it/s]"
     ]
    },
    {
     "name": "stdout",
     "output_type": "stream",
     "text": [
      "torch.Size([64, 128, 37, 1])\n",
      "torch.Size([64, 1, 128, 37])\n",
      "torch.Size([64, 64, 128, 18])\n",
      "torch.Size([64, 64, 128, 18])\n",
      "torch.Size([64, 128, 128, 9])\n",
      "torch.Size([64, 512, 32, 2])\n",
      "torch.Size([64, 512])\n",
      "torch.Size([64, 512])\n",
      "torch.Size([64, 512])\n",
      "fc통과: torch.Size([64, 507])\n",
      "torch.Size([64, 512])\n"
     ]
    },
    {
     "name": "stderr",
     "output_type": "stream",
     "text": [
      " 78%|█████████████████████████████████▎         | 31/40 [00:06<00:01,  5.15it/s]"
     ]
    },
    {
     "name": "stdout",
     "output_type": "stream",
     "text": [
      "torch.Size([64, 128, 33, 1])\n",
      "torch.Size([64, 1, 128, 33])\n",
      "torch.Size([64, 64, 128, 16])\n",
      "torch.Size([64, 64, 128, 16])\n",
      "torch.Size([64, 128, 128, 8])\n",
      "torch.Size([64, 512, 32, 2])\n",
      "torch.Size([64, 512])\n",
      "torch.Size([64, 512])\n",
      "torch.Size([64, 512])\n",
      "fc통과: torch.Size([64, 507])\n",
      "torch.Size([64, 512])\n",
      "torch.Size([64, 128, 36, 1])\n",
      "torch.Size([64, 1, 128, 36])\n",
      "torch.Size([64, 64, 128, 18])\n",
      "torch.Size([64, 64, 128, 18])\n",
      "torch.Size([64, 128, 128, 9])\n",
      "torch.Size([64, 512, 32, 2])\n",
      "torch.Size([64, 512])\n",
      "torch.Size([64, 512])\n",
      "torch.Size([64, 512])\n",
      "fc통과: torch.Size([64, 507])\n",
      "torch.Size([64, 512])\n"
     ]
    },
    {
     "name": "stderr",
     "output_type": "stream",
     "text": [
      " 82%|███████████████████████████████████▍       | 33/40 [00:07<00:01,  5.07it/s]"
     ]
    },
    {
     "name": "stdout",
     "output_type": "stream",
     "text": [
      "torch.Size([64, 128, 34, 1])\n",
      "torch.Size([64, 1, 128, 34])\n",
      "torch.Size([64, 64, 128, 17])\n",
      "torch.Size([64, 64, 128, 17])\n",
      "torch.Size([64, 128, 128, 8])\n",
      "torch.Size([64, 512, 32, 2])\n",
      "torch.Size([64, 512])\n",
      "torch.Size([64, 512])\n",
      "torch.Size([64, 512])\n",
      "fc통과: torch.Size([64, 507])\n",
      "torch.Size([64, 512])\n",
      "torch.Size([64, 128, 33, 1])\n",
      "torch.Size([64, 1, 128, 33])\n",
      "torch.Size([64, 64, 128, 16])\n",
      "torch.Size([64, 64, 128, 16])\n",
      "torch.Size([64, 128, 128, 8])\n",
      "torch.Size([64, 512, 32, 2])\n",
      "torch.Size([64, 512])\n",
      "torch.Size([64, 512])\n",
      "torch.Size([64, 512])\n",
      "fc통과: torch.Size([64, 507])\n",
      "torch.Size([64, 512])\n"
     ]
    },
    {
     "name": "stderr",
     "output_type": "stream",
     "text": [
      " 88%|█████████████████████████████████████▋     | 35/40 [00:07<00:00,  5.14it/s]"
     ]
    },
    {
     "name": "stdout",
     "output_type": "stream",
     "text": [
      "torch.Size([64, 128, 32, 1])\n",
      "torch.Size([64, 1, 128, 32])\n",
      "torch.Size([64, 64, 128, 16])\n",
      "torch.Size([64, 64, 128, 16])\n",
      "torch.Size([64, 128, 128, 8])\n",
      "torch.Size([64, 512, 32, 2])\n",
      "torch.Size([64, 512])\n",
      "torch.Size([64, 512])\n",
      "torch.Size([64, 512])\n",
      "fc통과: torch.Size([64, 507])\n",
      "torch.Size([64, 512])\n",
      "torch.Size([64, 128, 36, 1])\n",
      "torch.Size([64, 1, 128, 36])\n",
      "torch.Size([64, 64, 128, 18])\n",
      "torch.Size([64, 64, 128, 18])\n",
      "torch.Size([64, 128, 128, 9])\n",
      "torch.Size([64, 512, 32, 2])\n",
      "torch.Size([64, 512])\n",
      "torch.Size([64, 512])\n",
      "torch.Size([64, 512])\n",
      "fc통과: torch.Size([64, 507])\n",
      "torch.Size([64, 512])\n"
     ]
    },
    {
     "name": "stderr",
     "output_type": "stream",
     "text": [
      " 92%|███████████████████████████████████████▊   | 37/40 [00:08<00:00,  5.05it/s]"
     ]
    },
    {
     "name": "stdout",
     "output_type": "stream",
     "text": [
      "torch.Size([64, 128, 34, 1])\n",
      "torch.Size([64, 1, 128, 34])\n",
      "torch.Size([64, 64, 128, 17])\n",
      "torch.Size([64, 64, 128, 17])\n",
      "torch.Size([64, 128, 128, 8])\n",
      "torch.Size([64, 512, 32, 2])\n",
      "torch.Size([64, 512])\n",
      "torch.Size([64, 512])\n",
      "torch.Size([64, 512])\n",
      "fc통과: torch.Size([64, 507])\n",
      "torch.Size([64, 512])\n",
      "torch.Size([64, 128, 35, 1])\n",
      "torch.Size([64, 1, 128, 35])\n",
      "torch.Size([64, 64, 128, 17])\n",
      "torch.Size([64, 64, 128, 17])\n",
      "torch.Size([64, 128, 128, 8])\n",
      "torch.Size([64, 512, 32, 2])\n",
      "torch.Size([64, 512])\n",
      "torch.Size([64, 512])\n",
      "torch.Size([64, 512])\n",
      "fc통과: torch.Size([64, 507])\n",
      "torch.Size([64, 512])\n"
     ]
    },
    {
     "name": "stderr",
     "output_type": "stream",
     "text": [
      " 98%|█████████████████████████████████████████▉ | 39/40 [00:08<00:00,  5.08it/s]"
     ]
    },
    {
     "name": "stdout",
     "output_type": "stream",
     "text": [
      "torch.Size([64, 128, 33, 1])\n",
      "torch.Size([64, 1, 128, 33])\n",
      "torch.Size([64, 64, 128, 16])\n",
      "torch.Size([64, 64, 128, 16])\n",
      "torch.Size([64, 128, 128, 8])\n",
      "torch.Size([64, 512, 32, 2])\n",
      "torch.Size([64, 512])\n",
      "torch.Size([64, 512])\n",
      "torch.Size([64, 512])\n",
      "fc통과: torch.Size([64, 507])\n",
      "torch.Size([64, 512])\n",
      "torch.Size([36, 128, 33, 1])\n",
      "torch.Size([36, 1, 128, 33])\n",
      "torch.Size([36, 64, 128, 16])\n",
      "torch.Size([36, 64, 128, 16])\n",
      "torch.Size([36, 128, 128, 8])\n",
      "torch.Size([36, 512, 32, 2])\n",
      "torch.Size([36, 512])\n",
      "torch.Size([36, 512])\n",
      "torch.Size([36, 512])\n",
      "fc통과: torch.Size([36, 507])\n",
      "torch.Size([36, 512])\n"
     ]
    },
    {
     "name": "stderr",
     "output_type": "stream",
     "text": [
      "100%|███████████████████████████████████████████| 40/40 [00:08<00:00,  4.69it/s]"
     ]
    },
    {
     "name": "stdout",
     "output_type": "stream",
     "text": [
      "07-04 16:50 [MainProcess, 23066] [INFO ]  Iteration:7, loss = 0.630943, acc = 100.000 \n",
      "07-04 16:50 [MainProcess, 23066] [INFO ]  Iteration:7, loss = 0.630943, acc = 100.000 \n",
      "07-04 16:50 [MainProcess, 23066] [INFO ]  Iteration:7, loss = 0.630943, acc = 100.000 \n",
      "07-04 16:50 [MainProcess, 23066] [INFO ]  Iteration:7, loss = 0.630943, acc = 100.000 \n",
      "07-04 16:50 [MainProcess, 23066] [INFO ]  Iteration:7, loss = 0.630943, acc = 100.000 \n",
      "07-04 16:50 [MainProcess, 23066] [INFO ]  Iteration:7, loss = 0.630943, acc = 100.000 \n",
      "07-04 16:50 [MainProcess, 23066] [INFO ]  Iteration:7, loss = 0.630943, acc = 100.000 \n",
      "07-04 16:50 [MainProcess, 23066] [INFO ]  Iteration:7, loss = 0.630943, acc = 100.000 \n"
     ]
    },
    {
     "name": "stderr",
     "output_type": "stream",
     "text": [
      "\n",
      "  0%|                                                    | 0/40 [00:00<?, ?it/s]"
     ]
    },
    {
     "name": "stdout",
     "output_type": "stream",
     "text": [
      "torch.Size([64, 128, 34, 1])\n",
      "torch.Size([64, 1, 128, 34])\n",
      "torch.Size([64, 64, 128, 17])\n",
      "torch.Size([64, 64, 128, 17])\n",
      "torch.Size([64, 128, 128, 8])\n",
      "torch.Size([64, 512, 32, 2])\n",
      "torch.Size([64, 512])\n",
      "torch.Size([64, 512])\n",
      "torch.Size([64, 512])\n",
      "fc통과: torch.Size([64, 507])\n",
      "torch.Size([64, 512])\n"
     ]
    },
    {
     "name": "stderr",
     "output_type": "stream",
     "text": [
      "  2%|█                                           | 1/40 [00:00<00:07,  5.07it/s]"
     ]
    },
    {
     "name": "stdout",
     "output_type": "stream",
     "text": [
      "torch.Size([64, 128, 39, 1])\n",
      "torch.Size([64, 1, 128, 39])\n",
      "torch.Size([64, 64, 128, 19])\n",
      "torch.Size([64, 64, 128, 19])\n",
      "torch.Size([64, 128, 128, 9])\n",
      "torch.Size([64, 512, 32, 2])\n",
      "torch.Size([64, 512])\n",
      "torch.Size([64, 512])\n",
      "torch.Size([64, 512])\n",
      "fc통과: torch.Size([64, 507])\n",
      "torch.Size([64, 512])\n"
     ]
    },
    {
     "name": "stderr",
     "output_type": "stream",
     "text": [
      "  5%|██▏                                         | 2/40 [00:00<00:07,  4.81it/s]"
     ]
    },
    {
     "name": "stdout",
     "output_type": "stream",
     "text": [
      "torch.Size([64, 128, 48, 1])\n",
      "torch.Size([64, 1, 128, 48])\n",
      "torch.Size([64, 64, 128, 24])\n",
      "torch.Size([64, 64, 128, 24])\n",
      "torch.Size([64, 128, 128, 12])\n",
      "torch.Size([64, 512, 32, 3])\n",
      "torch.Size([64, 512])\n",
      "torch.Size([64, 512])\n",
      "torch.Size([64, 512])\n",
      "fc통과: torch.Size([64, 507])\n",
      "torch.Size([64, 512])\n"
     ]
    },
    {
     "name": "stderr",
     "output_type": "stream",
     "text": [
      "  8%|███▎                                        | 3/40 [00:00<00:08,  4.40it/s]"
     ]
    },
    {
     "name": "stdout",
     "output_type": "stream",
     "text": [
      "torch.Size([64, 128, 40, 1])\n",
      "torch.Size([64, 1, 128, 40])\n",
      "torch.Size([64, 64, 128, 20])\n",
      "torch.Size([64, 64, 128, 20])\n",
      "torch.Size([64, 128, 128, 10])\n",
      "torch.Size([64, 512, 32, 2])\n",
      "torch.Size([64, 512])\n",
      "torch.Size([64, 512])\n",
      "torch.Size([64, 512])\n",
      "fc통과: torch.Size([64, 507])\n",
      "torch.Size([64, 512])\n"
     ]
    },
    {
     "name": "stderr",
     "output_type": "stream",
     "text": [
      " 10%|████▍                                       | 4/40 [00:00<00:08,  4.39it/s]"
     ]
    },
    {
     "name": "stdout",
     "output_type": "stream",
     "text": [
      "torch.Size([64, 128, 42, 1])\n",
      "torch.Size([64, 1, 128, 42])\n",
      "torch.Size([64, 64, 128, 21])\n",
      "torch.Size([64, 64, 128, 21])\n",
      "torch.Size([64, 128, 128, 10])\n",
      "torch.Size([64, 512, 32, 2])\n",
      "torch.Size([64, 512])\n",
      "torch.Size([64, 512])\n",
      "torch.Size([64, 512])\n",
      "fc통과: torch.Size([64, 507])\n",
      "torch.Size([64, 512])\n"
     ]
    },
    {
     "name": "stderr",
     "output_type": "stream",
     "text": [
      " 12%|█████▌                                      | 5/40 [00:01<00:08,  4.34it/s]"
     ]
    },
    {
     "name": "stdout",
     "output_type": "stream",
     "text": [
      "torch.Size([64, 128, 52, 1])\n",
      "torch.Size([64, 1, 128, 52])\n",
      "torch.Size([64, 64, 128, 26])\n",
      "torch.Size([64, 64, 128, 26])\n",
      "torch.Size([64, 128, 128, 13])\n",
      "torch.Size([64, 512, 32, 3])\n",
      "torch.Size([64, 512])\n",
      "torch.Size([64, 512])\n",
      "torch.Size([64, 512])\n",
      "fc통과: torch.Size([64, 507])\n",
      "torch.Size([64, 512])\n"
     ]
    },
    {
     "name": "stderr",
     "output_type": "stream",
     "text": [
      " 15%|██████▌                                     | 6/40 [00:01<00:08,  4.09it/s]"
     ]
    },
    {
     "name": "stdout",
     "output_type": "stream",
     "text": [
      "torch.Size([64, 128, 40, 1])\n",
      "torch.Size([64, 1, 128, 40])\n",
      "torch.Size([64, 64, 128, 20])\n",
      "torch.Size([64, 64, 128, 20])\n",
      "torch.Size([64, 128, 128, 10])\n",
      "torch.Size([64, 512, 32, 2])\n",
      "torch.Size([64, 512])\n",
      "torch.Size([64, 512])\n",
      "torch.Size([64, 512])\n",
      "fc통과: torch.Size([64, 507])\n",
      "torch.Size([64, 512])\n"
     ]
    },
    {
     "name": "stderr",
     "output_type": "stream",
     "text": [
      " 18%|███████▋                                    | 7/40 [00:01<00:07,  4.18it/s]"
     ]
    },
    {
     "name": "stdout",
     "output_type": "stream",
     "text": [
      "torch.Size([64, 128, 64, 1])\n",
      "torch.Size([64, 1, 128, 64])\n",
      "torch.Size([64, 64, 128, 32])\n",
      "torch.Size([64, 64, 128, 32])\n",
      "torch.Size([64, 128, 128, 16])\n",
      "torch.Size([64, 512, 32, 4])\n",
      "torch.Size([64, 512])\n",
      "torch.Size([64, 512])\n",
      "torch.Size([64, 512])\n",
      "fc통과: torch.Size([64, 507])\n",
      "torch.Size([64, 512])\n"
     ]
    },
    {
     "name": "stderr",
     "output_type": "stream",
     "text": [
      " 20%|████████▊                                   | 8/40 [00:01<00:07,  4.03it/s]"
     ]
    },
    {
     "name": "stdout",
     "output_type": "stream",
     "text": [
      "torch.Size([64, 128, 42, 1])\n",
      "torch.Size([64, 1, 128, 42])\n",
      "torch.Size([64, 64, 128, 21])\n",
      "torch.Size([64, 64, 128, 21])\n",
      "torch.Size([64, 128, 128, 10])\n",
      "torch.Size([64, 512, 32, 2])\n",
      "torch.Size([64, 512])\n",
      "torch.Size([64, 512])\n",
      "torch.Size([64, 512])\n",
      "fc통과: torch.Size([64, 507])\n",
      "torch.Size([64, 512])\n"
     ]
    },
    {
     "name": "stderr",
     "output_type": "stream",
     "text": [
      " 22%|█████████▉                                  | 9/40 [00:02<00:07,  4.10it/s]"
     ]
    },
    {
     "name": "stdout",
     "output_type": "stream",
     "text": [
      "torch.Size([64, 128, 38, 1])\n",
      "torch.Size([64, 1, 128, 38])\n",
      "torch.Size([64, 64, 128, 19])\n",
      "torch.Size([64, 64, 128, 19])\n",
      "torch.Size([64, 128, 128, 9])\n",
      "torch.Size([64, 512, 32, 2])\n",
      "torch.Size([64, 512])\n",
      "torch.Size([64, 512])\n",
      "torch.Size([64, 512])\n",
      "fc통과: torch.Size([64, 507])\n",
      "torch.Size([64, 512])\n"
     ]
    },
    {
     "name": "stderr",
     "output_type": "stream",
     "text": [
      " 25%|██████████▊                                | 10/40 [00:02<00:07,  4.26it/s]"
     ]
    },
    {
     "name": "stdout",
     "output_type": "stream",
     "text": [
      "torch.Size([64, 128, 54, 1])\n",
      "torch.Size([64, 1, 128, 54])\n",
      "torch.Size([64, 64, 128, 27])\n",
      "torch.Size([64, 64, 128, 27])\n",
      "torch.Size([64, 128, 128, 13])\n",
      "torch.Size([64, 512, 32, 3])\n",
      "torch.Size([64, 512])\n",
      "torch.Size([64, 512])\n",
      "torch.Size([64, 512])\n",
      "fc통과: torch.Size([64, 507])\n",
      "torch.Size([64, 512])\n"
     ]
    },
    {
     "name": "stderr",
     "output_type": "stream",
     "text": [
      " 28%|███████████▊                               | 11/40 [00:02<00:07,  4.03it/s]"
     ]
    },
    {
     "name": "stdout",
     "output_type": "stream",
     "text": [
      "torch.Size([64, 128, 58, 1])\n",
      "torch.Size([64, 1, 128, 58])\n",
      "torch.Size([64, 64, 128, 29])\n",
      "torch.Size([64, 64, 128, 29])\n",
      "torch.Size([64, 128, 128, 14])\n",
      "torch.Size([64, 512, 32, 3])\n",
      "torch.Size([64, 512])\n",
      "torch.Size([64, 512])\n",
      "torch.Size([64, 512])\n",
      "fc통과: torch.Size([64, 507])\n",
      "torch.Size([64, 512])\n"
     ]
    },
    {
     "name": "stderr",
     "output_type": "stream",
     "text": [
      " 30%|████████████▉                              | 12/40 [00:02<00:07,  3.82it/s]"
     ]
    },
    {
     "name": "stdout",
     "output_type": "stream",
     "text": [
      "torch.Size([64, 128, 61, 1])\n",
      "torch.Size([64, 1, 128, 61])\n",
      "torch.Size([64, 64, 128, 30])\n",
      "torch.Size([64, 64, 128, 30])\n",
      "torch.Size([64, 128, 128, 15])\n",
      "torch.Size([64, 512, 32, 3])\n",
      "torch.Size([64, 512])\n",
      "torch.Size([64, 512])\n",
      "torch.Size([64, 512])\n",
      "fc통과: torch.Size([64, 507])\n",
      "torch.Size([64, 512])\n"
     ]
    },
    {
     "name": "stderr",
     "output_type": "stream",
     "text": [
      " 32%|█████████████▉                             | 13/40 [00:03<00:07,  3.63it/s]"
     ]
    },
    {
     "name": "stdout",
     "output_type": "stream",
     "text": [
      "torch.Size([64, 128, 37, 1])\n",
      "torch.Size([64, 1, 128, 37])\n",
      "torch.Size([64, 64, 128, 18])\n",
      "torch.Size([64, 64, 128, 18])\n",
      "torch.Size([64, 128, 128, 9])\n",
      "torch.Size([64, 512, 32, 2])\n",
      "torch.Size([64, 512])\n",
      "torch.Size([64, 512])\n",
      "torch.Size([64, 512])\n",
      "fc통과: torch.Size([64, 507])\n",
      "torch.Size([64, 512])\n"
     ]
    },
    {
     "name": "stderr",
     "output_type": "stream",
     "text": [
      " 35%|███████████████                            | 14/40 [00:03<00:06,  3.90it/s]"
     ]
    },
    {
     "name": "stdout",
     "output_type": "stream",
     "text": [
      "torch.Size([64, 128, 41, 1])\n",
      "torch.Size([64, 1, 128, 41])\n",
      "torch.Size([64, 64, 128, 20])\n",
      "torch.Size([64, 64, 128, 20])\n",
      "torch.Size([64, 128, 128, 10])\n",
      "torch.Size([64, 512, 32, 2])\n",
      "torch.Size([64, 512])\n",
      "torch.Size([64, 512])\n",
      "torch.Size([64, 512])\n",
      "fc통과: torch.Size([64, 507])\n",
      "torch.Size([64, 512])\n"
     ]
    },
    {
     "name": "stderr",
     "output_type": "stream",
     "text": [
      " 40%|█████████████████▏                         | 16/40 [00:03<00:05,  4.27it/s]"
     ]
    },
    {
     "name": "stdout",
     "output_type": "stream",
     "text": [
      "torch.Size([64, 128, 35, 1])\n",
      "torch.Size([64, 1, 128, 35])\n",
      "torch.Size([64, 64, 128, 17])\n",
      "torch.Size([64, 64, 128, 17])\n",
      "torch.Size([64, 128, 128, 8])\n",
      "torch.Size([64, 512, 32, 2])\n",
      "torch.Size([64, 512])\n",
      "torch.Size([64, 512])\n",
      "torch.Size([64, 512])\n",
      "fc통과: torch.Size([64, 507])\n",
      "torch.Size([64, 512])\n",
      "torch.Size([64, 128, 48, 1])\n",
      "torch.Size([64, 1, 128, 48])\n",
      "torch.Size([64, 64, 128, 24])\n",
      "torch.Size([64, 64, 128, 24])\n",
      "torch.Size([64, 128, 128, 12])\n",
      "torch.Size([64, 512, 32, 3])\n",
      "torch.Size([64, 512])\n",
      "torch.Size([64, 512])\n",
      "torch.Size([64, 512])\n",
      "fc통과: torch.Size([64, 507])\n",
      "torch.Size([64, 512])\n"
     ]
    },
    {
     "name": "stderr",
     "output_type": "stream",
     "text": [
      " 42%|██████████████████▎                        | 17/40 [00:04<00:05,  4.18it/s]"
     ]
    },
    {
     "name": "stdout",
     "output_type": "stream",
     "text": [
      "torch.Size([64, 128, 40, 1])\n",
      "torch.Size([64, 1, 128, 40])\n",
      "torch.Size([64, 64, 128, 20])\n",
      "torch.Size([64, 64, 128, 20])\n",
      "torch.Size([64, 128, 128, 10])\n",
      "torch.Size([64, 512, 32, 2])\n",
      "torch.Size([64, 512])\n",
      "torch.Size([64, 512])\n",
      "torch.Size([64, 512])\n",
      "fc통과: torch.Size([64, 507])\n",
      "torch.Size([64, 512])\n"
     ]
    },
    {
     "name": "stderr",
     "output_type": "stream",
     "text": [
      " 48%|████████████████████▍                      | 19/40 [00:04<00:04,  4.48it/s]"
     ]
    },
    {
     "name": "stdout",
     "output_type": "stream",
     "text": [
      "torch.Size([64, 128, 33, 1])\n",
      "torch.Size([64, 1, 128, 33])\n",
      "torch.Size([64, 64, 128, 16])\n",
      "torch.Size([64, 64, 128, 16])\n",
      "torch.Size([64, 128, 128, 8])\n",
      "torch.Size([64, 512, 32, 2])\n",
      "torch.Size([64, 512])\n",
      "torch.Size([64, 512])\n",
      "torch.Size([64, 512])\n",
      "fc통과: torch.Size([64, 507])\n",
      "torch.Size([64, 512])\n",
      "torch.Size([64, 128, 33, 1])\n",
      "torch.Size([64, 1, 128, 33])\n",
      "torch.Size([64, 64, 128, 16])\n",
      "torch.Size([64, 64, 128, 16])\n",
      "torch.Size([64, 128, 128, 8])\n",
      "torch.Size([64, 512, 32, 2])\n",
      "torch.Size([64, 512])\n",
      "torch.Size([64, 512])\n",
      "torch.Size([64, 512])\n",
      "fc통과: torch.Size([64, 507])\n",
      "torch.Size([64, 512])\n"
     ]
    },
    {
     "name": "stderr",
     "output_type": "stream",
     "text": [
      " 52%|██████████████████████▌                    | 21/40 [00:04<00:03,  4.76it/s]"
     ]
    },
    {
     "name": "stdout",
     "output_type": "stream",
     "text": [
      "torch.Size([64, 128, 35, 1])\n",
      "torch.Size([64, 1, 128, 35])\n",
      "torch.Size([64, 64, 128, 17])\n",
      "torch.Size([64, 64, 128, 17])\n",
      "torch.Size([64, 128, 128, 8])\n",
      "torch.Size([64, 512, 32, 2])\n",
      "torch.Size([64, 512])\n",
      "torch.Size([64, 512])\n",
      "torch.Size([64, 512])\n",
      "fc통과: torch.Size([64, 507])\n",
      "torch.Size([64, 512])\n",
      "torch.Size([64, 128, 35, 1])\n",
      "torch.Size([64, 1, 128, 35])\n",
      "torch.Size([64, 64, 128, 17])\n",
      "torch.Size([64, 64, 128, 17])\n"
     ]
    },
    {
     "name": "stderr",
     "output_type": "stream",
     "text": [
      " 55%|███████████████████████▋                   | 22/40 [00:05<00:03,  4.83it/s]"
     ]
    },
    {
     "name": "stdout",
     "output_type": "stream",
     "text": [
      "torch.Size([64, 128, 128, 8])\n",
      "torch.Size([64, 512, 32, 2])\n",
      "torch.Size([64, 512])\n",
      "torch.Size([64, 512])\n",
      "torch.Size([64, 512])\n",
      "fc통과: torch.Size([64, 507])\n",
      "torch.Size([64, 512])\n",
      "torch.Size([64, 128, 32, 1])\n",
      "torch.Size([64, 1, 128, 32])\n",
      "torch.Size([64, 64, 128, 16])\n",
      "torch.Size([64, 64, 128, 16])\n",
      "torch.Size([64, 128, 128, 8])\n",
      "torch.Size([64, 512, 32, 2])\n",
      "torch.Size([64, 512])\n",
      "torch.Size([64, 512])\n",
      "torch.Size([64, 512])\n",
      "fc통과: torch.Size([64, 507])\n"
     ]
    },
    {
     "name": "stderr",
     "output_type": "stream",
     "text": [
      " 57%|████████████████████████▋                  | 23/40 [00:05<00:03,  4.94it/s]"
     ]
    },
    {
     "name": "stdout",
     "output_type": "stream",
     "text": [
      "torch.Size([64, 512])\n",
      "torch.Size([64, 128, 37, 1])\n",
      "torch.Size([64, 1, 128, 37])\n",
      "torch.Size([64, 64, 128, 18])\n",
      "torch.Size([64, 64, 128, 18])\n",
      "torch.Size([64, 128, 128, 9])\n",
      "torch.Size([64, 512, 32, 2])\n",
      "torch.Size([64, 512])\n",
      "torch.Size([64, 512])\n",
      "torch.Size([64, 512])\n",
      "fc통과: torch.Size([64, 507])\n",
      "torch.Size([64, 512])\n"
     ]
    },
    {
     "name": "stderr",
     "output_type": "stream",
     "text": [
      " 60%|█████████████████████████▊                 | 24/40 [00:05<00:03,  4.89it/s]"
     ]
    },
    {
     "name": "stdout",
     "output_type": "stream",
     "text": [
      "torch.Size([64, 128, 47, 1])\n",
      "torch.Size([64, 1, 128, 47])\n",
      "torch.Size([64, 64, 128, 23])\n",
      "torch.Size([64, 64, 128, 23])\n",
      "torch.Size([64, 128, 128, 11])\n",
      "torch.Size([64, 512, 32, 2])\n",
      "torch.Size([64, 512])\n",
      "torch.Size([64, 512])\n",
      "torch.Size([64, 512])\n",
      "fc통과: torch.Size([64, 507])\n",
      "torch.Size([64, 512])\n"
     ]
    },
    {
     "name": "stderr",
     "output_type": "stream",
     "text": [
      " 65%|███████████████████████████▉               | 26/40 [00:05<00:02,  4.73it/s]"
     ]
    },
    {
     "name": "stdout",
     "output_type": "stream",
     "text": [
      "torch.Size([64, 128, 34, 1])\n",
      "torch.Size([64, 1, 128, 34])\n",
      "torch.Size([64, 64, 128, 17])\n",
      "torch.Size([64, 64, 128, 17])\n",
      "torch.Size([64, 128, 128, 8])\n",
      "torch.Size([64, 512, 32, 2])\n",
      "torch.Size([64, 512])\n",
      "torch.Size([64, 512])\n",
      "torch.Size([64, 512])\n",
      "fc통과: torch.Size([64, 507])\n",
      "torch.Size([64, 512])\n",
      "torch.Size([64, 128, 24, 1])\n",
      "torch.Size([64, 1, 128, 24])\n",
      "torch.Size([64, 64, 128, 12])\n",
      "torch.Size([64, 64, 128, 12])\n",
      "torch.Size([64, 128, 128, 6])\n",
      "torch.Size([64, 512, 32, 1])\n",
      "torch.Size([64, 512])\n",
      "torch.Size([64, 512])\n",
      "torch.Size([64, 512])\n",
      "fc통과: torch.Size([64, 507])\n",
      "torch.Size([64, 512])\n"
     ]
    },
    {
     "name": "stderr",
     "output_type": "stream",
     "text": [
      " 70%|██████████████████████████████             | 28/40 [00:06<00:02,  5.28it/s]"
     ]
    },
    {
     "name": "stdout",
     "output_type": "stream",
     "text": [
      "torch.Size([64, 128, 25, 1])\n",
      "torch.Size([64, 1, 128, 25])\n",
      "torch.Size([64, 64, 128, 12])\n",
      "torch.Size([64, 64, 128, 12])\n",
      "torch.Size([64, 128, 128, 6])\n",
      "torch.Size([64, 512, 32, 1])\n",
      "torch.Size([64, 512])\n",
      "torch.Size([64, 512])\n",
      "torch.Size([64, 512])\n",
      "fc통과: torch.Size([64, 507])\n",
      "torch.Size([64, 512])\n",
      "torch.Size([64, 128, 30, 1])\n",
      "torch.Size([64, 1, 128, 30])\n",
      "torch.Size([64, 64, 128, 15])\n",
      "torch.Size([64, 64, 128, 15])\n",
      "torch.Size([64, 128, 128, 7])\n",
      "torch.Size([64, 512, 32, 1])\n",
      "torch.Size([64, 512])\n",
      "torch.Size([64, 512])\n",
      "torch.Size([64, 512])\n",
      "fc통과: torch.Size([64, 507])\n",
      "torch.Size([64, 512])\n"
     ]
    },
    {
     "name": "stderr",
     "output_type": "stream",
     "text": [
      " 72%|███████████████████████████████▏           | 29/40 [00:06<00:02,  5.30it/s]"
     ]
    },
    {
     "name": "stdout",
     "output_type": "stream",
     "text": [
      "torch.Size([64, 128, 37, 1])\n",
      "torch.Size([64, 1, 128, 37])\n",
      "torch.Size([64, 64, 128, 18])\n",
      "torch.Size([64, 64, 128, 18])\n",
      "torch.Size([64, 128, 128, 9])\n",
      "torch.Size([64, 512, 32, 2])\n",
      "torch.Size([64, 512])\n",
      "torch.Size([64, 512])\n",
      "torch.Size([64, 512])\n",
      "fc통과: torch.Size([64, 507])\n",
      "torch.Size([64, 512])\n"
     ]
    },
    {
     "name": "stderr",
     "output_type": "stream",
     "text": [
      " 78%|█████████████████████████████████▎         | 31/40 [00:06<00:01,  5.13it/s]"
     ]
    },
    {
     "name": "stdout",
     "output_type": "stream",
     "text": [
      "torch.Size([64, 128, 33, 1])\n",
      "torch.Size([64, 1, 128, 33])\n",
      "torch.Size([64, 64, 128, 16])\n",
      "torch.Size([64, 64, 128, 16])\n",
      "torch.Size([64, 128, 128, 8])\n",
      "torch.Size([64, 512, 32, 2])\n",
      "torch.Size([64, 512])\n",
      "torch.Size([64, 512])\n",
      "torch.Size([64, 512])\n",
      "fc통과: torch.Size([64, 507])\n",
      "torch.Size([64, 512])\n",
      "torch.Size([64, 128, 36, 1])\n",
      "torch.Size([64, 1, 128, 36])\n",
      "torch.Size([64, 64, 128, 18])\n",
      "torch.Size([64, 64, 128, 18])\n",
      "torch.Size([64, 128, 128, 9])\n",
      "torch.Size([64, 512, 32, 2])\n",
      "torch.Size([64, 512])\n",
      "torch.Size([64, 512])\n",
      "torch.Size([64, 512])\n",
      "fc통과: torch.Size([64, 507])\n",
      "torch.Size([64, 512])\n"
     ]
    },
    {
     "name": "stderr",
     "output_type": "stream",
     "text": [
      " 82%|███████████████████████████████████▍       | 33/40 [00:07<00:01,  5.04it/s]"
     ]
    },
    {
     "name": "stdout",
     "output_type": "stream",
     "text": [
      "torch.Size([64, 128, 34, 1])\n",
      "torch.Size([64, 1, 128, 34])\n",
      "torch.Size([64, 64, 128, 17])\n",
      "torch.Size([64, 64, 128, 17])\n",
      "torch.Size([64, 128, 128, 8])\n",
      "torch.Size([64, 512, 32, 2])\n",
      "torch.Size([64, 512])\n",
      "torch.Size([64, 512])\n",
      "torch.Size([64, 512])\n",
      "fc통과: torch.Size([64, 507])\n",
      "torch.Size([64, 512])\n",
      "torch.Size([64, 128, 33, 1])\n",
      "torch.Size([64, 1, 128, 33])\n",
      "torch.Size([64, 64, 128, 16])\n",
      "torch.Size([64, 64, 128, 16])\n",
      "torch.Size([64, 128, 128, 8])\n",
      "torch.Size([64, 512, 32, 2])\n",
      "torch.Size([64, 512])\n",
      "torch.Size([64, 512])\n",
      "torch.Size([64, 512])\n",
      "fc통과: torch.Size([64, 507])\n",
      "torch.Size([64, 512])\n"
     ]
    },
    {
     "name": "stderr",
     "output_type": "stream",
     "text": [
      " 88%|█████████████████████████████████████▋     | 35/40 [00:07<00:00,  5.12it/s]"
     ]
    },
    {
     "name": "stdout",
     "output_type": "stream",
     "text": [
      "torch.Size([64, 128, 32, 1])\n",
      "torch.Size([64, 1, 128, 32])\n",
      "torch.Size([64, 64, 128, 16])\n",
      "torch.Size([64, 64, 128, 16])\n",
      "torch.Size([64, 128, 128, 8])\n",
      "torch.Size([64, 512, 32, 2])\n",
      "torch.Size([64, 512])\n",
      "torch.Size([64, 512])\n",
      "torch.Size([64, 512])\n",
      "fc통과: torch.Size([64, 507])\n",
      "torch.Size([64, 512])\n",
      "torch.Size([64, 128, 36, 1])\n",
      "torch.Size([64, 1, 128, 36])\n",
      "torch.Size([64, 64, 128, 18])\n",
      "torch.Size([64, 64, 128, 18])\n",
      "torch.Size([64, 128, 128, 9])\n",
      "torch.Size([64, 512, 32, 2])\n",
      "torch.Size([64, 512])\n",
      "torch.Size([64, 512])\n",
      "torch.Size([64, 512])\n",
      "fc통과: torch.Size([64, 507])\n",
      "torch.Size([64, 512])\n"
     ]
    },
    {
     "name": "stderr",
     "output_type": "stream",
     "text": [
      " 92%|███████████████████████████████████████▊   | 37/40 [00:08<00:00,  5.03it/s]"
     ]
    },
    {
     "name": "stdout",
     "output_type": "stream",
     "text": [
      "torch.Size([64, 128, 34, 1])\n",
      "torch.Size([64, 1, 128, 34])\n",
      "torch.Size([64, 64, 128, 17])\n",
      "torch.Size([64, 64, 128, 17])\n",
      "torch.Size([64, 128, 128, 8])\n",
      "torch.Size([64, 512, 32, 2])\n",
      "torch.Size([64, 512])\n",
      "torch.Size([64, 512])\n",
      "torch.Size([64, 512])\n",
      "fc통과: torch.Size([64, 507])\n",
      "torch.Size([64, 512])\n",
      "torch.Size([64, 128, 35, 1])\n",
      "torch.Size([64, 1, 128, 35])\n",
      "torch.Size([64, 64, 128, 17])\n",
      "torch.Size([64, 64, 128, 17])\n",
      "torch.Size([64, 128, 128, 8])\n",
      "torch.Size([64, 512, 32, 2])\n",
      "torch.Size([64, 512])\n",
      "torch.Size([64, 512])\n",
      "torch.Size([64, 512])\n",
      "fc통과: torch.Size([64, 507])\n"
     ]
    },
    {
     "name": "stderr",
     "output_type": "stream",
     "text": [
      " 95%|████████████████████████████████████████▊  | 38/40 [00:08<00:00,  5.03it/s]"
     ]
    },
    {
     "name": "stdout",
     "output_type": "stream",
     "text": [
      "torch.Size([64, 512])\n",
      "torch.Size([64, 128, 33, 1])\n",
      "torch.Size([64, 1, 128, 33])\n",
      "torch.Size([64, 64, 128, 16])\n",
      "torch.Size([64, 64, 128, 16])\n",
      "torch.Size([64, 128, 128, 8])\n",
      "torch.Size([64, 512, 32, 2])\n",
      "torch.Size([64, 512])\n",
      "torch.Size([64, 512])\n",
      "torch.Size([64, 512])\n",
      "fc통과: torch.Size([64, 507])\n",
      "torch.Size([64, 512])\n"
     ]
    },
    {
     "name": "stderr",
     "output_type": "stream",
     "text": [
      "100%|███████████████████████████████████████████| 40/40 [00:08<00:00,  4.67it/s]"
     ]
    },
    {
     "name": "stdout",
     "output_type": "stream",
     "text": [
      "torch.Size([36, 128, 33, 1])\n",
      "torch.Size([36, 1, 128, 33])\n",
      "torch.Size([36, 64, 128, 16])\n",
      "torch.Size([36, 64, 128, 16])\n",
      "torch.Size([36, 128, 128, 8])\n",
      "torch.Size([36, 512, 32, 2])\n",
      "torch.Size([36, 512])\n",
      "torch.Size([36, 512])\n",
      "torch.Size([36, 512])\n",
      "fc통과: torch.Size([36, 507])\n",
      "torch.Size([36, 512])\n",
      "07-04 16:50 [MainProcess, 23066] [INFO ]  Iteration:8, loss = 0.642529, acc = 100.000 \n",
      "07-04 16:50 [MainProcess, 23066] [INFO ]  Iteration:8, loss = 0.642529, acc = 100.000 \n",
      "07-04 16:50 [MainProcess, 23066] [INFO ]  Iteration:8, loss = 0.642529, acc = 100.000 \n",
      "07-04 16:50 [MainProcess, 23066] [INFO ]  Iteration:8, loss = 0.642529, acc = 100.000 \n",
      "07-04 16:50 [MainProcess, 23066] [INFO ]  Iteration:8, loss = 0.642529, acc = 100.000 \n",
      "07-04 16:50 [MainProcess, 23066] [INFO ]  Iteration:8, loss = 0.642529, acc = 100.000 \n",
      "07-04 16:50 [MainProcess, 23066] [INFO ]  Iteration:8, loss = 0.642529, acc = 100.000 \n",
      "07-04 16:50 [MainProcess, 23066] [INFO ]  Iteration:8, loss = 0.642529, acc = 100.000 \n"
     ]
    },
    {
     "name": "stderr",
     "output_type": "stream",
     "text": [
      "\n",
      "  0%|                                                    | 0/40 [00:00<?, ?it/s]"
     ]
    },
    {
     "name": "stdout",
     "output_type": "stream",
     "text": [
      "torch.Size([64, 128, 34, 1])\n",
      "torch.Size([64, 1, 128, 34])\n",
      "torch.Size([64, 64, 128, 17])\n",
      "torch.Size([64, 64, 128, 17])\n",
      "torch.Size([64, 128, 128, 8])\n",
      "torch.Size([64, 512, 32, 2])\n",
      "torch.Size([64, 512])\n",
      "torch.Size([64, 512])\n",
      "torch.Size([64, 512])\n",
      "fc통과: torch.Size([64, 507])\n",
      "torch.Size([64, 512])\n"
     ]
    },
    {
     "name": "stderr",
     "output_type": "stream",
     "text": [
      "  2%|█                                           | 1/40 [00:00<00:07,  5.06it/s]"
     ]
    },
    {
     "name": "stdout",
     "output_type": "stream",
     "text": [
      "torch.Size([64, 128, 39, 1])\n",
      "torch.Size([64, 1, 128, 39])\n",
      "torch.Size([64, 64, 128, 19])\n",
      "torch.Size([64, 64, 128, 19])\n",
      "torch.Size([64, 128, 128, 9])\n",
      "torch.Size([64, 512, 32, 2])\n",
      "torch.Size([64, 512])\n",
      "torch.Size([64, 512])\n",
      "torch.Size([64, 512])\n",
      "fc통과: torch.Size([64, 507])\n",
      "torch.Size([64, 512])\n"
     ]
    },
    {
     "name": "stderr",
     "output_type": "stream",
     "text": [
      "  5%|██▏                                         | 2/40 [00:00<00:07,  4.81it/s]"
     ]
    },
    {
     "name": "stdout",
     "output_type": "stream",
     "text": [
      "torch.Size([64, 128, 48, 1])\n",
      "torch.Size([64, 1, 128, 48])\n",
      "torch.Size([64, 64, 128, 24])\n",
      "torch.Size([64, 64, 128, 24])\n",
      "torch.Size([64, 128, 128, 12])\n",
      "torch.Size([64, 512, 32, 3])\n",
      "torch.Size([64, 512])\n",
      "torch.Size([64, 512])\n",
      "torch.Size([64, 512])\n",
      "fc통과: torch.Size([64, 507])\n",
      "torch.Size([64, 512])\n"
     ]
    },
    {
     "name": "stderr",
     "output_type": "stream",
     "text": [
      "  8%|███▎                                        | 3/40 [00:00<00:08,  4.39it/s]"
     ]
    },
    {
     "name": "stdout",
     "output_type": "stream",
     "text": [
      "torch.Size([64, 128, 40, 1])\n",
      "torch.Size([64, 1, 128, 40])\n",
      "torch.Size([64, 64, 128, 20])\n",
      "torch.Size([64, 64, 128, 20])\n",
      "torch.Size([64, 128, 128, 10])\n",
      "torch.Size([64, 512, 32, 2])\n",
      "torch.Size([64, 512])\n",
      "torch.Size([64, 512])\n",
      "torch.Size([64, 512])\n",
      "fc통과: torch.Size([64, 507])\n",
      "torch.Size([64, 512])\n"
     ]
    },
    {
     "name": "stderr",
     "output_type": "stream",
     "text": [
      " 10%|████▍                                       | 4/40 [00:00<00:08,  4.39it/s]"
     ]
    },
    {
     "name": "stdout",
     "output_type": "stream",
     "text": [
      "torch.Size([64, 128, 42, 1])\n",
      "torch.Size([64, 1, 128, 42])\n",
      "torch.Size([64, 64, 128, 21])\n",
      "torch.Size([64, 64, 128, 21])\n",
      "torch.Size([64, 128, 128, 10])\n",
      "torch.Size([64, 512, 32, 2])\n",
      "torch.Size([64, 512])\n",
      "torch.Size([64, 512])\n",
      "torch.Size([64, 512])\n",
      "fc통과: torch.Size([64, 507])\n",
      "torch.Size([64, 512])\n"
     ]
    },
    {
     "name": "stderr",
     "output_type": "stream",
     "text": [
      " 12%|█████▌                                      | 5/40 [00:01<00:08,  4.34it/s]"
     ]
    },
    {
     "name": "stdout",
     "output_type": "stream",
     "text": [
      "torch.Size([64, 128, 52, 1])\n",
      "torch.Size([64, 1, 128, 52])\n",
      "torch.Size([64, 64, 128, 26])\n",
      "torch.Size([64, 64, 128, 26])\n",
      "torch.Size([64, 128, 128, 13])\n",
      "torch.Size([64, 512, 32, 3])\n",
      "torch.Size([64, 512])\n",
      "torch.Size([64, 512])\n",
      "torch.Size([64, 512])\n",
      "fc통과: torch.Size([64, 507])\n",
      "torch.Size([64, 512])\n"
     ]
    },
    {
     "name": "stderr",
     "output_type": "stream",
     "text": [
      " 15%|██████▌                                     | 6/40 [00:01<00:08,  4.09it/s]"
     ]
    },
    {
     "name": "stdout",
     "output_type": "stream",
     "text": [
      "torch.Size([64, 128, 40, 1])\n",
      "torch.Size([64, 1, 128, 40])\n",
      "torch.Size([64, 64, 128, 20])\n",
      "torch.Size([64, 64, 128, 20])\n",
      "torch.Size([64, 128, 128, 10])\n",
      "torch.Size([64, 512, 32, 2])\n",
      "torch.Size([64, 512])\n",
      "torch.Size([64, 512])\n",
      "torch.Size([64, 512])\n",
      "fc통과: torch.Size([64, 507])\n",
      "torch.Size([64, 512])\n"
     ]
    },
    {
     "name": "stderr",
     "output_type": "stream",
     "text": [
      " 18%|███████▋                                    | 7/40 [00:01<00:07,  4.18it/s]"
     ]
    },
    {
     "name": "stdout",
     "output_type": "stream",
     "text": [
      "torch.Size([64, 128, 64, 1])\n",
      "torch.Size([64, 1, 128, 64])\n",
      "torch.Size([64, 64, 128, 32])\n",
      "torch.Size([64, 64, 128, 32])\n",
      "torch.Size([64, 128, 128, 16])\n",
      "torch.Size([64, 512, 32, 4])\n",
      "torch.Size([64, 512])\n",
      "torch.Size([64, 512])\n",
      "torch.Size([64, 512])\n",
      "fc통과: torch.Size([64, 507])\n",
      "torch.Size([64, 512])\n"
     ]
    },
    {
     "name": "stderr",
     "output_type": "stream",
     "text": [
      " 20%|████████▊                                   | 8/40 [00:01<00:07,  4.03it/s]"
     ]
    },
    {
     "name": "stdout",
     "output_type": "stream",
     "text": [
      "torch.Size([64, 128, 42, 1])\n",
      "torch.Size([64, 1, 128, 42])\n",
      "torch.Size([64, 64, 128, 21])\n",
      "torch.Size([64, 64, 128, 21])\n",
      "torch.Size([64, 128, 128, 10])\n",
      "torch.Size([64, 512, 32, 2])\n",
      "torch.Size([64, 512])\n",
      "torch.Size([64, 512])\n",
      "torch.Size([64, 512])\n",
      "fc통과: torch.Size([64, 507])\n",
      "torch.Size([64, 512])\n"
     ]
    },
    {
     "name": "stderr",
     "output_type": "stream",
     "text": [
      " 22%|█████████▉                                  | 9/40 [00:02<00:07,  4.10it/s]"
     ]
    },
    {
     "name": "stdout",
     "output_type": "stream",
     "text": [
      "torch.Size([64, 128, 38, 1])\n",
      "torch.Size([64, 1, 128, 38])\n",
      "torch.Size([64, 64, 128, 19])\n",
      "torch.Size([64, 64, 128, 19])\n",
      "torch.Size([64, 128, 128, 9])\n",
      "torch.Size([64, 512, 32, 2])\n",
      "torch.Size([64, 512])\n",
      "torch.Size([64, 512])\n",
      "torch.Size([64, 512])\n",
      "fc통과: torch.Size([64, 507])\n",
      "torch.Size([64, 512])\n"
     ]
    },
    {
     "name": "stderr",
     "output_type": "stream",
     "text": [
      " 25%|██████████▊                                | 10/40 [00:02<00:07,  4.27it/s]"
     ]
    },
    {
     "name": "stdout",
     "output_type": "stream",
     "text": [
      "torch.Size([64, 128, 54, 1])\n",
      "torch.Size([64, 1, 128, 54])\n",
      "torch.Size([64, 64, 128, 27])\n",
      "torch.Size([64, 64, 128, 27])\n",
      "torch.Size([64, 128, 128, 13])\n",
      "torch.Size([64, 512, 32, 3])\n",
      "torch.Size([64, 512])\n",
      "torch.Size([64, 512])\n",
      "torch.Size([64, 512])\n",
      "fc통과: torch.Size([64, 507])\n",
      "torch.Size([64, 512])\n"
     ]
    },
    {
     "name": "stderr",
     "output_type": "stream",
     "text": [
      " 28%|███████████▊                               | 11/40 [00:02<00:07,  4.03it/s]"
     ]
    },
    {
     "name": "stdout",
     "output_type": "stream",
     "text": [
      "torch.Size([64, 128, 58, 1])\n",
      "torch.Size([64, 1, 128, 58])\n",
      "torch.Size([64, 64, 128, 29])\n",
      "torch.Size([64, 64, 128, 29])\n",
      "torch.Size([64, 128, 128, 14])\n",
      "torch.Size([64, 512, 32, 3])\n",
      "torch.Size([64, 512])\n",
      "torch.Size([64, 512])\n",
      "torch.Size([64, 512])\n",
      "fc통과: torch.Size([64, 507])\n",
      "torch.Size([64, 512])\n"
     ]
    },
    {
     "name": "stderr",
     "output_type": "stream",
     "text": [
      " 30%|████████████▉                              | 12/40 [00:02<00:07,  3.81it/s]"
     ]
    },
    {
     "name": "stdout",
     "output_type": "stream",
     "text": [
      "torch.Size([64, 128, 61, 1])\n",
      "torch.Size([64, 1, 128, 61])\n",
      "torch.Size([64, 64, 128, 30])\n",
      "torch.Size([64, 64, 128, 30])\n",
      "torch.Size([64, 128, 128, 15])\n",
      "torch.Size([64, 512, 32, 3])\n",
      "torch.Size([64, 512])\n",
      "torch.Size([64, 512])\n",
      "torch.Size([64, 512])\n",
      "fc통과: torch.Size([64, 507])\n",
      "torch.Size([64, 512])\n"
     ]
    },
    {
     "name": "stderr",
     "output_type": "stream",
     "text": [
      " 32%|█████████████▉                             | 13/40 [00:03<00:07,  3.62it/s]"
     ]
    },
    {
     "name": "stdout",
     "output_type": "stream",
     "text": [
      "torch.Size([64, 128, 37, 1])\n",
      "torch.Size([64, 1, 128, 37])\n",
      "torch.Size([64, 64, 128, 18])\n",
      "torch.Size([64, 64, 128, 18])\n",
      "torch.Size([64, 128, 128, 9])\n",
      "torch.Size([64, 512, 32, 2])\n",
      "torch.Size([64, 512])\n",
      "torch.Size([64, 512])\n",
      "torch.Size([64, 512])\n",
      "fc통과: torch.Size([64, 507])\n",
      "torch.Size([64, 512])\n"
     ]
    },
    {
     "name": "stderr",
     "output_type": "stream",
     "text": [
      " 35%|███████████████                            | 14/40 [00:03<00:06,  3.90it/s]"
     ]
    },
    {
     "name": "stdout",
     "output_type": "stream",
     "text": [
      "torch.Size([64, 128, 41, 1])\n",
      "torch.Size([64, 1, 128, 41])\n",
      "torch.Size([64, 64, 128, 20])\n",
      "torch.Size([64, 64, 128, 20])\n",
      "torch.Size([64, 128, 128, 10])\n",
      "torch.Size([64, 512, 32, 2])\n",
      "torch.Size([64, 512])\n",
      "torch.Size([64, 512])\n",
      "torch.Size([64, 512])\n",
      "fc통과: torch.Size([64, 507])\n",
      "torch.Size([64, 512])\n"
     ]
    },
    {
     "name": "stderr",
     "output_type": "stream",
     "text": [
      " 40%|█████████████████▏                         | 16/40 [00:03<00:05,  4.27it/s]"
     ]
    },
    {
     "name": "stdout",
     "output_type": "stream",
     "text": [
      "torch.Size([64, 128, 35, 1])\n",
      "torch.Size([64, 1, 128, 35])\n",
      "torch.Size([64, 64, 128, 17])\n",
      "torch.Size([64, 64, 128, 17])\n",
      "torch.Size([64, 128, 128, 8])\n",
      "torch.Size([64, 512, 32, 2])\n",
      "torch.Size([64, 512])\n",
      "torch.Size([64, 512])\n",
      "torch.Size([64, 512])\n",
      "fc통과: torch.Size([64, 507])\n",
      "torch.Size([64, 512])\n",
      "torch.Size([64, 128, 48, 1])\n",
      "torch.Size([64, 1, 128, 48])\n",
      "torch.Size([64, 64, 128, 24])\n",
      "torch.Size([64, 64, 128, 24])\n",
      "torch.Size([64, 128, 128, 12])\n",
      "torch.Size([64, 512, 32, 3])\n",
      "torch.Size([64, 512])\n",
      "torch.Size([64, 512])\n",
      "torch.Size([64, 512])\n",
      "fc통과: torch.Size([64, 507])\n",
      "torch.Size([64, 512])\n"
     ]
    },
    {
     "name": "stderr",
     "output_type": "stream",
     "text": [
      " 42%|██████████████████▎                        | 17/40 [00:04<00:05,  4.18it/s]"
     ]
    },
    {
     "name": "stdout",
     "output_type": "stream",
     "text": [
      "torch.Size([64, 128, 40, 1])\n",
      "torch.Size([64, 1, 128, 40])\n",
      "torch.Size([64, 64, 128, 20])\n",
      "torch.Size([64, 64, 128, 20])\n",
      "torch.Size([64, 128, 128, 10])\n",
      "torch.Size([64, 512, 32, 2])\n",
      "torch.Size([64, 512])\n",
      "torch.Size([64, 512])\n",
      "torch.Size([64, 512])\n",
      "fc통과: torch.Size([64, 507])\n",
      "torch.Size([64, 512])\n"
     ]
    },
    {
     "name": "stderr",
     "output_type": "stream",
     "text": [
      " 48%|████████████████████▍                      | 19/40 [00:04<00:04,  4.47it/s]"
     ]
    },
    {
     "name": "stdout",
     "output_type": "stream",
     "text": [
      "torch.Size([64, 128, 33, 1])\n",
      "torch.Size([64, 1, 128, 33])\n",
      "torch.Size([64, 64, 128, 16])\n",
      "torch.Size([64, 64, 128, 16])\n",
      "torch.Size([64, 128, 128, 8])\n",
      "torch.Size([64, 512, 32, 2])\n",
      "torch.Size([64, 512])\n",
      "torch.Size([64, 512])\n",
      "torch.Size([64, 512])\n",
      "fc통과: torch.Size([64, 507])\n",
      "torch.Size([64, 512])\n",
      "torch.Size([64, 128, 33, 1])\n",
      "torch.Size([64, 1, 128, 33])\n",
      "torch.Size([64, 64, 128, 16])\n",
      "torch.Size([64, 64, 128, 16])\n",
      "torch.Size([64, 128, 128, 8])\n",
      "torch.Size([64, 512, 32, 2])\n",
      "torch.Size([64, 512])\n",
      "torch.Size([64, 512])\n",
      "torch.Size([64, 512])\n",
      "fc통과: torch.Size([64, 507])\n",
      "torch.Size([64, 512])\n"
     ]
    },
    {
     "name": "stderr",
     "output_type": "stream",
     "text": [
      " 52%|██████████████████████▌                    | 21/40 [00:04<00:03,  4.75it/s]"
     ]
    },
    {
     "name": "stdout",
     "output_type": "stream",
     "text": [
      "torch.Size([64, 128, 35, 1])\n",
      "torch.Size([64, 1, 128, 35])\n",
      "torch.Size([64, 64, 128, 17])\n",
      "torch.Size([64, 64, 128, 17])\n",
      "torch.Size([64, 128, 128, 8])\n",
      "torch.Size([64, 512, 32, 2])\n",
      "torch.Size([64, 512])\n",
      "torch.Size([64, 512])\n",
      "torch.Size([64, 512])\n",
      "fc통과: torch.Size([64, 507])\n",
      "torch.Size([64, 512])\n",
      "torch.Size([64, 128, 35, 1])\n",
      "torch.Size([64, 1, 128, 35])\n",
      "torch.Size([64, 64, 128, 17])\n",
      "torch.Size([64, 64, 128, 17])\n"
     ]
    },
    {
     "name": "stderr",
     "output_type": "stream",
     "text": [
      " 55%|███████████████████████▋                   | 22/40 [00:05<00:03,  4.83it/s]"
     ]
    },
    {
     "name": "stdout",
     "output_type": "stream",
     "text": [
      "torch.Size([64, 128, 128, 8])\n",
      "torch.Size([64, 512, 32, 2])\n",
      "torch.Size([64, 512])\n",
      "torch.Size([64, 512])\n",
      "torch.Size([64, 512])\n",
      "fc통과: torch.Size([64, 507])\n",
      "torch.Size([64, 512])\n",
      "torch.Size([64, 128, 32, 1])\n",
      "torch.Size([64, 1, 128, 32])\n",
      "torch.Size([64, 64, 128, 16])\n",
      "torch.Size([64, 64, 128, 16])\n",
      "torch.Size([64, 128, 128, 8])\n",
      "torch.Size([64, 512, 32, 2])\n",
      "torch.Size([64, 512])\n",
      "torch.Size([64, 512])\n",
      "torch.Size([64, 512])\n",
      "fc통과: torch.Size([64, 507])\n",
      "torch.Size([64, 512])\n"
     ]
    },
    {
     "name": "stderr",
     "output_type": "stream",
     "text": [
      " 57%|████████████████████████▋                  | 23/40 [00:05<00:03,  4.94it/s]"
     ]
    },
    {
     "name": "stdout",
     "output_type": "stream",
     "text": [
      "torch.Size([64, 128, 37, 1])\n",
      "torch.Size([64, 1, 128, 37])\n",
      "torch.Size([64, 64, 128, 18])\n",
      "torch.Size([64, 64, 128, 18])\n",
      "torch.Size([64, 128, 128, 9])\n",
      "torch.Size([64, 512, 32, 2])\n",
      "torch.Size([64, 512])\n",
      "torch.Size([64, 512])\n",
      "torch.Size([64, 512])\n",
      "fc통과: torch.Size([64, 507])\n",
      "torch.Size([64, 512])\n"
     ]
    },
    {
     "name": "stderr",
     "output_type": "stream",
     "text": [
      " 60%|█████████████████████████▊                 | 24/40 [00:05<00:03,  4.88it/s]"
     ]
    },
    {
     "name": "stdout",
     "output_type": "stream",
     "text": [
      "torch.Size([64, 128, 47, 1])\n",
      "torch.Size([64, 1, 128, 47])\n",
      "torch.Size([64, 64, 128, 23])\n",
      "torch.Size([64, 64, 128, 23])\n",
      "torch.Size([64, 128, 128, 11])\n",
      "torch.Size([64, 512, 32, 2])\n",
      "torch.Size([64, 512])\n",
      "torch.Size([64, 512])\n",
      "torch.Size([64, 512])\n",
      "fc통과: torch.Size([64, 507])\n",
      "torch.Size([64, 512])\n"
     ]
    },
    {
     "name": "stderr",
     "output_type": "stream",
     "text": [
      " 65%|███████████████████████████▉               | 26/40 [00:05<00:02,  4.73it/s]"
     ]
    },
    {
     "name": "stdout",
     "output_type": "stream",
     "text": [
      "torch.Size([64, 128, 34, 1])\n",
      "torch.Size([64, 1, 128, 34])\n",
      "torch.Size([64, 64, 128, 17])\n",
      "torch.Size([64, 64, 128, 17])\n",
      "torch.Size([64, 128, 128, 8])\n",
      "torch.Size([64, 512, 32, 2])\n",
      "torch.Size([64, 512])\n",
      "torch.Size([64, 512])\n",
      "torch.Size([64, 512])\n",
      "fc통과: torch.Size([64, 507])\n",
      "torch.Size([64, 512])\n",
      "torch.Size([64, 128, 24, 1])\n",
      "torch.Size([64, 1, 128, 24])\n",
      "torch.Size([64, 64, 128, 12])\n",
      "torch.Size([64, 64, 128, 12])\n",
      "torch.Size([64, 128, 128, 6])\n",
      "torch.Size([64, 512, 32, 1])\n",
      "torch.Size([64, 512])\n",
      "torch.Size([64, 512])\n",
      "torch.Size([64, 512])\n",
      "fc통과: torch.Size([64, 507])\n",
      "torch.Size([64, 512])\n"
     ]
    },
    {
     "name": "stderr",
     "output_type": "stream",
     "text": [
      " 70%|██████████████████████████████             | 28/40 [00:06<00:02,  5.27it/s]"
     ]
    },
    {
     "name": "stdout",
     "output_type": "stream",
     "text": [
      "torch.Size([64, 128, 25, 1])\n",
      "torch.Size([64, 1, 128, 25])\n",
      "torch.Size([64, 64, 128, 12])\n",
      "torch.Size([64, 64, 128, 12])\n",
      "torch.Size([64, 128, 128, 6])\n",
      "torch.Size([64, 512, 32, 1])\n",
      "torch.Size([64, 512])\n",
      "torch.Size([64, 512])\n",
      "torch.Size([64, 512])\n",
      "fc통과: torch.Size([64, 507])\n",
      "torch.Size([64, 512])\n",
      "torch.Size([64, 128, 30, 1])\n",
      "torch.Size([64, 1, 128, 30])\n",
      "torch.Size([64, 64, 128, 15])\n",
      "torch.Size([64, 64, 128, 15])\n",
      "torch.Size([64, 128, 128, 7])\n",
      "torch.Size([64, 512, 32, 1])\n",
      "torch.Size([64, 512])\n",
      "torch.Size([64, 512])\n",
      "torch.Size([64, 512])\n",
      "fc통과: torch.Size([64, 507])\n",
      "torch.Size([64, 512])\n"
     ]
    },
    {
     "name": "stderr",
     "output_type": "stream",
     "text": [
      " 72%|███████████████████████████████▏           | 29/40 [00:06<00:02,  5.29it/s]"
     ]
    },
    {
     "name": "stdout",
     "output_type": "stream",
     "text": [
      "torch.Size([64, 128, 37, 1])\n",
      "torch.Size([64, 1, 128, 37])\n",
      "torch.Size([64, 64, 128, 18])\n",
      "torch.Size([64, 64, 128, 18])\n",
      "torch.Size([64, 128, 128, 9])\n",
      "torch.Size([64, 512, 32, 2])\n",
      "torch.Size([64, 512])\n",
      "torch.Size([64, 512])\n",
      "torch.Size([64, 512])\n",
      "fc통과: torch.Size([64, 507])\n",
      "torch.Size([64, 512])\n"
     ]
    },
    {
     "name": "stderr",
     "output_type": "stream",
     "text": [
      " 78%|█████████████████████████████████▎         | 31/40 [00:06<00:01,  5.13it/s]"
     ]
    },
    {
     "name": "stdout",
     "output_type": "stream",
     "text": [
      "torch.Size([64, 128, 33, 1])\n",
      "torch.Size([64, 1, 128, 33])\n",
      "torch.Size([64, 64, 128, 16])\n",
      "torch.Size([64, 64, 128, 16])\n",
      "torch.Size([64, 128, 128, 8])\n",
      "torch.Size([64, 512, 32, 2])\n",
      "torch.Size([64, 512])\n",
      "torch.Size([64, 512])\n",
      "torch.Size([64, 512])\n",
      "fc통과: torch.Size([64, 507])\n",
      "torch.Size([64, 512])\n",
      "torch.Size([64, 128, 36, 1])\n",
      "torch.Size([64, 1, 128, 36])\n",
      "torch.Size([64, 64, 128, 18])\n",
      "torch.Size([64, 64, 128, 18])\n",
      "torch.Size([64, 128, 128, 9])\n",
      "torch.Size([64, 512, 32, 2])\n",
      "torch.Size([64, 512])\n",
      "torch.Size([64, 512])\n",
      "torch.Size([64, 512])\n",
      "fc통과: torch.Size([64, 507])\n",
      "torch.Size([64, 512])\n"
     ]
    },
    {
     "name": "stderr",
     "output_type": "stream",
     "text": [
      " 82%|███████████████████████████████████▍       | 33/40 [00:07<00:01,  5.03it/s]"
     ]
    },
    {
     "name": "stdout",
     "output_type": "stream",
     "text": [
      "torch.Size([64, 128, 34, 1])\n",
      "torch.Size([64, 1, 128, 34])\n",
      "torch.Size([64, 64, 128, 17])\n",
      "torch.Size([64, 64, 128, 17])\n",
      "torch.Size([64, 128, 128, 8])\n",
      "torch.Size([64, 512, 32, 2])\n",
      "torch.Size([64, 512])\n",
      "torch.Size([64, 512])\n",
      "torch.Size([64, 512])\n",
      "fc통과: torch.Size([64, 507])\n",
      "torch.Size([64, 512])\n",
      "torch.Size([64, 128, 33, 1])\n",
      "torch.Size([64, 1, 128, 33])\n",
      "torch.Size([64, 64, 128, 16])\n",
      "torch.Size([64, 64, 128, 16])\n",
      "torch.Size([64, 128, 128, 8])\n",
      "torch.Size([64, 512, 32, 2])\n",
      "torch.Size([64, 512])\n",
      "torch.Size([64, 512])\n",
      "torch.Size([64, 512])\n",
      "fc통과: torch.Size([64, 507])\n",
      "torch.Size([64, 512])\n"
     ]
    },
    {
     "name": "stderr",
     "output_type": "stream",
     "text": [
      " 88%|█████████████████████████████████████▋     | 35/40 [00:07<00:00,  5.11it/s]"
     ]
    },
    {
     "name": "stdout",
     "output_type": "stream",
     "text": [
      "torch.Size([64, 128, 32, 1])\n",
      "torch.Size([64, 1, 128, 32])\n",
      "torch.Size([64, 64, 128, 16])\n",
      "torch.Size([64, 64, 128, 16])\n",
      "torch.Size([64, 128, 128, 8])\n",
      "torch.Size([64, 512, 32, 2])\n",
      "torch.Size([64, 512])\n",
      "torch.Size([64, 512])\n",
      "torch.Size([64, 512])\n",
      "fc통과: torch.Size([64, 507])\n",
      "torch.Size([64, 512])\n",
      "torch.Size([64, 128, 36, 1])\n",
      "torch.Size([64, 1, 128, 36])\n",
      "torch.Size([64, 64, 128, 18])\n",
      "torch.Size([64, 64, 128, 18])\n",
      "torch.Size([64, 128, 128, 9])\n",
      "torch.Size([64, 512, 32, 2])\n",
      "torch.Size([64, 512])\n",
      "torch.Size([64, 512])\n",
      "torch.Size([64, 512])\n",
      "fc통과: torch.Size([64, 507])\n",
      "torch.Size([64, 512])\n"
     ]
    },
    {
     "name": "stderr",
     "output_type": "stream",
     "text": [
      " 92%|███████████████████████████████████████▊   | 37/40 [00:08<00:00,  5.02it/s]"
     ]
    },
    {
     "name": "stdout",
     "output_type": "stream",
     "text": [
      "torch.Size([64, 128, 34, 1])\n",
      "torch.Size([64, 1, 128, 34])\n",
      "torch.Size([64, 64, 128, 17])\n",
      "torch.Size([64, 64, 128, 17])\n",
      "torch.Size([64, 128, 128, 8])\n",
      "torch.Size([64, 512, 32, 2])\n",
      "torch.Size([64, 512])\n",
      "torch.Size([64, 512])\n",
      "torch.Size([64, 512])\n",
      "fc통과: torch.Size([64, 507])\n",
      "torch.Size([64, 512])\n",
      "torch.Size([64, 128, 35, 1])\n",
      "torch.Size([64, 1, 128, 35])\n",
      "torch.Size([64, 64, 128, 17])\n",
      "torch.Size([64, 64, 128, 17])\n",
      "torch.Size([64, 128, 128, 8])\n",
      "torch.Size([64, 512, 32, 2])\n",
      "torch.Size([64, 512])\n",
      "torch.Size([64, 512])\n",
      "torch.Size([64, 512])\n",
      "fc통과: torch.Size([64, 507])\n"
     ]
    },
    {
     "name": "stderr",
     "output_type": "stream",
     "text": [
      " 95%|████████████████████████████████████████▊  | 38/40 [00:08<00:00,  5.02it/s]"
     ]
    },
    {
     "name": "stdout",
     "output_type": "stream",
     "text": [
      "torch.Size([64, 512])\n",
      "torch.Size([64, 128, 33, 1])\n",
      "torch.Size([64, 1, 128, 33])\n",
      "torch.Size([64, 64, 128, 16])\n",
      "torch.Size([64, 64, 128, 16])\n",
      "torch.Size([64, 128, 128, 8])\n",
      "torch.Size([64, 512, 32, 2])\n",
      "torch.Size([64, 512])\n",
      "torch.Size([64, 512])\n",
      "torch.Size([64, 512])\n",
      "fc통과: torch.Size([64, 507])\n",
      "torch.Size([64, 512])\n"
     ]
    },
    {
     "name": "stderr",
     "output_type": "stream",
     "text": [
      "100%|███████████████████████████████████████████| 40/40 [00:08<00:00,  4.66it/s]"
     ]
    },
    {
     "name": "stdout",
     "output_type": "stream",
     "text": [
      "torch.Size([36, 128, 33, 1])\n",
      "torch.Size([36, 1, 128, 33])\n",
      "torch.Size([36, 64, 128, 16])\n",
      "torch.Size([36, 64, 128, 16])\n",
      "torch.Size([36, 128, 128, 8])\n",
      "torch.Size([36, 512, 32, 2])\n",
      "torch.Size([36, 512])\n",
      "torch.Size([36, 512])\n",
      "torch.Size([36, 512])\n",
      "fc통과: torch.Size([36, 507])\n",
      "torch.Size([36, 512])\n",
      "07-04 16:50 [MainProcess, 23066] [INFO ]  Iteration:9, loss = 0.623543, acc = 100.000 \n",
      "07-04 16:50 [MainProcess, 23066] [INFO ]  Iteration:9, loss = 0.623543, acc = 100.000 \n",
      "07-04 16:50 [MainProcess, 23066] [INFO ]  Iteration:9, loss = 0.623543, acc = 100.000 \n",
      "07-04 16:50 [MainProcess, 23066] [INFO ]  Iteration:9, loss = 0.623543, acc = 100.000 \n",
      "07-04 16:50 [MainProcess, 23066] [INFO ]  Iteration:9, loss = 0.623543, acc = 100.000 \n",
      "07-04 16:50 [MainProcess, 23066] [INFO ]  Iteration:9, loss = 0.623543, acc = 100.000 \n",
      "07-04 16:50 [MainProcess, 23066] [INFO ]  Iteration:9, loss = 0.623543, acc = 100.000 \n",
      "07-04 16:50 [MainProcess, 23066] [INFO ]  Iteration:9, loss = 0.623543, acc = 100.000 \n"
     ]
    },
    {
     "name": "stderr",
     "output_type": "stream",
     "text": [
      "\n",
      "  0%|                                                    | 0/40 [00:00<?, ?it/s]"
     ]
    },
    {
     "name": "stdout",
     "output_type": "stream",
     "text": [
      "torch.Size([64, 128, 34, 1])\n",
      "torch.Size([64, 1, 128, 34])\n",
      "torch.Size([64, 64, 128, 17])\n",
      "torch.Size([64, 64, 128, 17])\n",
      "torch.Size([64, 128, 128, 8])\n",
      "torch.Size([64, 512, 32, 2])\n",
      "torch.Size([64, 512])\n",
      "torch.Size([64, 512])\n",
      "torch.Size([64, 512])\n",
      "fc통과: torch.Size([64, 507])\n",
      "torch.Size([64, 512])\n"
     ]
    },
    {
     "name": "stderr",
     "output_type": "stream",
     "text": [
      "  2%|█                                           | 1/40 [00:00<00:07,  5.02it/s]"
     ]
    },
    {
     "name": "stdout",
     "output_type": "stream",
     "text": [
      "torch.Size([64, 128, 39, 1])\n",
      "torch.Size([64, 1, 128, 39])\n",
      "torch.Size([64, 64, 128, 19])\n",
      "torch.Size([64, 64, 128, 19])\n",
      "torch.Size([64, 128, 128, 9])\n",
      "torch.Size([64, 512, 32, 2])\n",
      "torch.Size([64, 512])\n",
      "torch.Size([64, 512])\n",
      "torch.Size([64, 512])\n",
      "fc통과: torch.Size([64, 507])\n",
      "torch.Size([64, 512])\n"
     ]
    },
    {
     "name": "stderr",
     "output_type": "stream",
     "text": [
      "  5%|██▏                                         | 2/40 [00:00<00:07,  4.79it/s]"
     ]
    },
    {
     "name": "stdout",
     "output_type": "stream",
     "text": [
      "torch.Size([64, 128, 48, 1])\n",
      "torch.Size([64, 1, 128, 48])\n",
      "torch.Size([64, 64, 128, 24])\n",
      "torch.Size([64, 64, 128, 24])\n",
      "torch.Size([64, 128, 128, 12])\n",
      "torch.Size([64, 512, 32, 3])\n",
      "torch.Size([64, 512])\n",
      "torch.Size([64, 512])\n",
      "torch.Size([64, 512])\n",
      "fc통과: torch.Size([64, 507])\n",
      "torch.Size([64, 512])\n"
     ]
    },
    {
     "name": "stderr",
     "output_type": "stream",
     "text": [
      "  8%|███▎                                        | 3/40 [00:00<00:08,  4.38it/s]"
     ]
    },
    {
     "name": "stdout",
     "output_type": "stream",
     "text": [
      "torch.Size([64, 128, 40, 1])\n",
      "torch.Size([64, 1, 128, 40])\n",
      "torch.Size([64, 64, 128, 20])\n",
      "torch.Size([64, 64, 128, 20])\n",
      "torch.Size([64, 128, 128, 10])\n",
      "torch.Size([64, 512, 32, 2])\n",
      "torch.Size([64, 512])\n",
      "torch.Size([64, 512])\n",
      "torch.Size([64, 512])\n",
      "fc통과: torch.Size([64, 507])\n",
      "torch.Size([64, 512])\n"
     ]
    },
    {
     "name": "stderr",
     "output_type": "stream",
     "text": [
      " 10%|████▍                                       | 4/40 [00:00<00:08,  4.33it/s]"
     ]
    },
    {
     "name": "stdout",
     "output_type": "stream",
     "text": [
      "torch.Size([64, 128, 42, 1])\n",
      "torch.Size([64, 1, 128, 42])\n",
      "torch.Size([64, 64, 128, 21])\n",
      "torch.Size([64, 64, 128, 21])\n",
      "torch.Size([64, 128, 128, 10])\n",
      "torch.Size([64, 512, 32, 2])\n",
      "torch.Size([64, 512])\n",
      "torch.Size([64, 512])\n",
      "torch.Size([64, 512])\n",
      "fc통과: torch.Size([64, 507])\n",
      "torch.Size([64, 512])\n"
     ]
    },
    {
     "name": "stderr",
     "output_type": "stream",
     "text": [
      " 12%|█████▌                                      | 5/40 [00:01<00:08,  4.30it/s]"
     ]
    },
    {
     "name": "stdout",
     "output_type": "stream",
     "text": [
      "torch.Size([64, 128, 52, 1])\n",
      "torch.Size([64, 1, 128, 52])\n",
      "torch.Size([64, 64, 128, 26])\n",
      "torch.Size([64, 64, 128, 26])\n",
      "torch.Size([64, 128, 128, 13])\n",
      "torch.Size([64, 512, 32, 3])\n",
      "torch.Size([64, 512])\n",
      "torch.Size([64, 512])\n",
      "torch.Size([64, 512])\n",
      "fc통과: torch.Size([64, 507])\n",
      "torch.Size([64, 512])\n"
     ]
    },
    {
     "name": "stderr",
     "output_type": "stream",
     "text": [
      " 15%|██████▌                                     | 6/40 [00:01<00:08,  4.07it/s]"
     ]
    },
    {
     "name": "stdout",
     "output_type": "stream",
     "text": [
      "torch.Size([64, 128, 40, 1])\n",
      "torch.Size([64, 1, 128, 40])\n",
      "torch.Size([64, 64, 128, 20])\n",
      "torch.Size([64, 64, 128, 20])\n",
      "torch.Size([64, 128, 128, 10])\n",
      "torch.Size([64, 512, 32, 2])\n",
      "torch.Size([64, 512])\n",
      "torch.Size([64, 512])\n",
      "torch.Size([64, 512])\n",
      "fc통과: torch.Size([64, 507])\n",
      "torch.Size([64, 512])\n"
     ]
    },
    {
     "name": "stderr",
     "output_type": "stream",
     "text": [
      " 18%|███████▋                                    | 7/40 [00:01<00:07,  4.17it/s]"
     ]
    },
    {
     "name": "stdout",
     "output_type": "stream",
     "text": [
      "torch.Size([64, 128, 64, 1])\n",
      "torch.Size([64, 1, 128, 64])\n",
      "torch.Size([64, 64, 128, 32])\n",
      "torch.Size([64, 64, 128, 32])\n",
      "torch.Size([64, 128, 128, 16])\n",
      "torch.Size([64, 512, 32, 4])\n",
      "torch.Size([64, 512])\n",
      "torch.Size([64, 512])\n",
      "torch.Size([64, 512])\n",
      "fc통과: torch.Size([64, 507])\n",
      "torch.Size([64, 512])\n"
     ]
    },
    {
     "name": "stderr",
     "output_type": "stream",
     "text": [
      " 20%|████████▊                                   | 8/40 [00:01<00:07,  4.03it/s]"
     ]
    },
    {
     "name": "stdout",
     "output_type": "stream",
     "text": [
      "torch.Size([64, 128, 42, 1])\n",
      "torch.Size([64, 1, 128, 42])\n",
      "torch.Size([64, 64, 128, 21])\n",
      "torch.Size([64, 64, 128, 21])\n",
      "torch.Size([64, 128, 128, 10])\n",
      "torch.Size([64, 512, 32, 2])\n",
      "torch.Size([64, 512])\n",
      "torch.Size([64, 512])\n",
      "torch.Size([64, 512])\n",
      "fc통과: torch.Size([64, 507])\n",
      "torch.Size([64, 512])\n"
     ]
    },
    {
     "name": "stderr",
     "output_type": "stream",
     "text": [
      " 22%|█████████▉                                  | 9/40 [00:02<00:07,  4.09it/s]"
     ]
    },
    {
     "name": "stdout",
     "output_type": "stream",
     "text": [
      "torch.Size([64, 128, 38, 1])\n",
      "torch.Size([64, 1, 128, 38])\n",
      "torch.Size([64, 64, 128, 19])\n",
      "torch.Size([64, 64, 128, 19])\n",
      "torch.Size([64, 128, 128, 9])\n",
      "torch.Size([64, 512, 32, 2])\n",
      "torch.Size([64, 512])\n",
      "torch.Size([64, 512])\n",
      "torch.Size([64, 512])\n",
      "fc통과: torch.Size([64, 507])\n",
      "torch.Size([64, 512])\n"
     ]
    },
    {
     "name": "stderr",
     "output_type": "stream",
     "text": [
      " 25%|██████████▊                                | 10/40 [00:02<00:07,  4.26it/s]"
     ]
    },
    {
     "name": "stdout",
     "output_type": "stream",
     "text": [
      "torch.Size([64, 128, 54, 1])\n",
      "torch.Size([64, 1, 128, 54])\n",
      "torch.Size([64, 64, 128, 27])\n",
      "torch.Size([64, 64, 128, 27])\n",
      "torch.Size([64, 128, 128, 13])\n",
      "torch.Size([64, 512, 32, 3])\n",
      "torch.Size([64, 512])\n",
      "torch.Size([64, 512])\n",
      "torch.Size([64, 512])\n",
      "fc통과: torch.Size([64, 507])\n",
      "torch.Size([64, 512])\n"
     ]
    },
    {
     "name": "stderr",
     "output_type": "stream",
     "text": [
      " 28%|███████████▊                               | 11/40 [00:02<00:07,  4.03it/s]"
     ]
    },
    {
     "name": "stdout",
     "output_type": "stream",
     "text": [
      "torch.Size([64, 128, 58, 1])\n",
      "torch.Size([64, 1, 128, 58])\n",
      "torch.Size([64, 64, 128, 29])\n",
      "torch.Size([64, 64, 128, 29])\n",
      "torch.Size([64, 128, 128, 14])\n",
      "torch.Size([64, 512, 32, 3])\n",
      "torch.Size([64, 512])\n",
      "torch.Size([64, 512])\n",
      "torch.Size([64, 512])\n",
      "fc통과: torch.Size([64, 507])\n",
      "torch.Size([64, 512])\n"
     ]
    },
    {
     "name": "stderr",
     "output_type": "stream",
     "text": [
      " 30%|████████████▉                              | 12/40 [00:02<00:07,  3.81it/s]"
     ]
    },
    {
     "name": "stdout",
     "output_type": "stream",
     "text": [
      "torch.Size([64, 128, 61, 1])\n",
      "torch.Size([64, 1, 128, 61])\n",
      "torch.Size([64, 64, 128, 30])\n",
      "torch.Size([64, 64, 128, 30])\n",
      "torch.Size([64, 128, 128, 15])\n",
      "torch.Size([64, 512, 32, 3])\n",
      "torch.Size([64, 512])\n",
      "torch.Size([64, 512])\n",
      "torch.Size([64, 512])\n",
      "fc통과: torch.Size([64, 507])\n",
      "torch.Size([64, 512])\n"
     ]
    },
    {
     "name": "stderr",
     "output_type": "stream",
     "text": [
      " 32%|█████████████▉                             | 13/40 [00:03<00:07,  3.62it/s]"
     ]
    },
    {
     "name": "stdout",
     "output_type": "stream",
     "text": [
      "torch.Size([64, 128, 37, 1])\n",
      "torch.Size([64, 1, 128, 37])\n",
      "torch.Size([64, 64, 128, 18])\n",
      "torch.Size([64, 64, 128, 18])\n",
      "torch.Size([64, 128, 128, 9])\n",
      "torch.Size([64, 512, 32, 2])\n",
      "torch.Size([64, 512])\n",
      "torch.Size([64, 512])\n",
      "torch.Size([64, 512])\n",
      "fc통과: torch.Size([64, 507])\n",
      "torch.Size([64, 512])\n"
     ]
    },
    {
     "name": "stderr",
     "output_type": "stream",
     "text": [
      " 35%|███████████████                            | 14/40 [00:03<00:06,  3.90it/s]"
     ]
    },
    {
     "name": "stdout",
     "output_type": "stream",
     "text": [
      "torch.Size([64, 128, 41, 1])\n",
      "torch.Size([64, 1, 128, 41])\n",
      "torch.Size([64, 64, 128, 20])\n",
      "torch.Size([64, 64, 128, 20])\n",
      "torch.Size([64, 128, 128, 10])\n",
      "torch.Size([64, 512, 32, 2])\n",
      "torch.Size([64, 512])\n",
      "torch.Size([64, 512])\n",
      "torch.Size([64, 512])\n",
      "fc통과: torch.Size([64, 507])\n",
      "torch.Size([64, 512])\n"
     ]
    },
    {
     "name": "stderr",
     "output_type": "stream",
     "text": [
      " 40%|█████████████████▏                         | 16/40 [00:03<00:05,  4.27it/s]"
     ]
    },
    {
     "name": "stdout",
     "output_type": "stream",
     "text": [
      "torch.Size([64, 128, 35, 1])\n",
      "torch.Size([64, 1, 128, 35])\n",
      "torch.Size([64, 64, 128, 17])\n",
      "torch.Size([64, 64, 128, 17])\n",
      "torch.Size([64, 128, 128, 8])\n",
      "torch.Size([64, 512, 32, 2])\n",
      "torch.Size([64, 512])\n",
      "torch.Size([64, 512])\n",
      "torch.Size([64, 512])\n",
      "fc통과: torch.Size([64, 507])\n",
      "torch.Size([64, 512])\n",
      "torch.Size([64, 128, 48, 1])\n",
      "torch.Size([64, 1, 128, 48])\n",
      "torch.Size([64, 64, 128, 24])\n",
      "torch.Size([64, 64, 128, 24])\n",
      "torch.Size([64, 128, 128, 12])\n",
      "torch.Size([64, 512, 32, 3])\n",
      "torch.Size([64, 512])\n",
      "torch.Size([64, 512])\n",
      "torch.Size([64, 512])\n",
      "fc통과: torch.Size([64, 507])\n",
      "torch.Size([64, 512])\n"
     ]
    },
    {
     "name": "stderr",
     "output_type": "stream",
     "text": [
      " 42%|██████████████████▎                        | 17/40 [00:04<00:05,  4.18it/s]"
     ]
    },
    {
     "name": "stdout",
     "output_type": "stream",
     "text": [
      "torch.Size([64, 128, 40, 1])\n",
      "torch.Size([64, 1, 128, 40])\n",
      "torch.Size([64, 64, 128, 20])\n",
      "torch.Size([64, 64, 128, 20])\n",
      "torch.Size([64, 128, 128, 10])\n",
      "torch.Size([64, 512, 32, 2])\n",
      "torch.Size([64, 512])\n",
      "torch.Size([64, 512])\n",
      "torch.Size([64, 512])\n",
      "fc통과: torch.Size([64, 507])\n",
      "torch.Size([64, 512])\n"
     ]
    },
    {
     "name": "stderr",
     "output_type": "stream",
     "text": [
      " 48%|████████████████████▍                      | 19/40 [00:04<00:04,  4.48it/s]"
     ]
    },
    {
     "name": "stdout",
     "output_type": "stream",
     "text": [
      "torch.Size([64, 128, 33, 1])\n",
      "torch.Size([64, 1, 128, 33])\n",
      "torch.Size([64, 64, 128, 16])\n",
      "torch.Size([64, 64, 128, 16])\n",
      "torch.Size([64, 128, 128, 8])\n",
      "torch.Size([64, 512, 32, 2])\n",
      "torch.Size([64, 512])\n",
      "torch.Size([64, 512])\n",
      "torch.Size([64, 512])\n",
      "fc통과: torch.Size([64, 507])\n",
      "torch.Size([64, 512])\n",
      "torch.Size([64, 128, 33, 1])\n",
      "torch.Size([64, 1, 128, 33])\n",
      "torch.Size([64, 64, 128, 16])\n",
      "torch.Size([64, 64, 128, 16])\n",
      "torch.Size([64, 128, 128, 8])\n",
      "torch.Size([64, 512, 32, 2])\n",
      "torch.Size([64, 512])\n",
      "torch.Size([64, 512])\n",
      "torch.Size([64, 512])\n",
      "fc통과: torch.Size([64, 507])\n",
      "torch.Size([64, 512])\n"
     ]
    },
    {
     "name": "stderr",
     "output_type": "stream",
     "text": [
      " 52%|██████████████████████▌                    | 21/40 [00:04<00:03,  4.76it/s]"
     ]
    },
    {
     "name": "stdout",
     "output_type": "stream",
     "text": [
      "torch.Size([64, 128, 35, 1])\n",
      "torch.Size([64, 1, 128, 35])\n",
      "torch.Size([64, 64, 128, 17])\n",
      "torch.Size([64, 64, 128, 17])\n",
      "torch.Size([64, 128, 128, 8])\n",
      "torch.Size([64, 512, 32, 2])\n",
      "torch.Size([64, 512])\n",
      "torch.Size([64, 512])\n",
      "torch.Size([64, 512])\n",
      "fc통과: torch.Size([64, 507])\n",
      "torch.Size([64, 512])\n",
      "torch.Size([64, 128, 35, 1])\n",
      "torch.Size([64, 1, 128, 35])\n",
      "torch.Size([64, 64, 128, 17])\n",
      "torch.Size([64, 64, 128, 17])\n"
     ]
    },
    {
     "name": "stderr",
     "output_type": "stream",
     "text": [
      " 55%|███████████████████████▋                   | 22/40 [00:05<00:03,  4.84it/s]"
     ]
    },
    {
     "name": "stdout",
     "output_type": "stream",
     "text": [
      "torch.Size([64, 128, 128, 8])\n",
      "torch.Size([64, 512, 32, 2])\n",
      "torch.Size([64, 512])\n",
      "torch.Size([64, 512])\n",
      "torch.Size([64, 512])\n",
      "fc통과: torch.Size([64, 507])\n",
      "torch.Size([64, 512])\n",
      "torch.Size([64, 128, 32, 1])\n",
      "torch.Size([64, 1, 128, 32])\n",
      "torch.Size([64, 64, 128, 16])\n",
      "torch.Size([64, 64, 128, 16])\n",
      "torch.Size([64, 128, 128, 8])\n",
      "torch.Size([64, 512, 32, 2])\n",
      "torch.Size([64, 512])\n",
      "torch.Size([64, 512])\n",
      "torch.Size([64, 512])\n",
      "fc통과: torch.Size([64, 507])\n"
     ]
    },
    {
     "name": "stderr",
     "output_type": "stream",
     "text": [
      " 57%|████████████████████████▋                  | 23/40 [00:05<00:03,  4.95it/s]"
     ]
    },
    {
     "name": "stdout",
     "output_type": "stream",
     "text": [
      "torch.Size([64, 512])\n",
      "torch.Size([64, 128, 37, 1])\n",
      "torch.Size([64, 1, 128, 37])\n",
      "torch.Size([64, 64, 128, 18])\n",
      "torch.Size([64, 64, 128, 18])\n",
      "torch.Size([64, 128, 128, 9])\n",
      "torch.Size([64, 512, 32, 2])\n",
      "torch.Size([64, 512])\n",
      "torch.Size([64, 512])\n",
      "torch.Size([64, 512])\n",
      "fc통과: torch.Size([64, 507])\n",
      "torch.Size([64, 512])\n"
     ]
    },
    {
     "name": "stderr",
     "output_type": "stream",
     "text": [
      " 60%|█████████████████████████▊                 | 24/40 [00:05<00:03,  4.89it/s]"
     ]
    },
    {
     "name": "stdout",
     "output_type": "stream",
     "text": [
      "torch.Size([64, 128, 47, 1])\n",
      "torch.Size([64, 1, 128, 47])\n",
      "torch.Size([64, 64, 128, 23])\n",
      "torch.Size([64, 64, 128, 23])\n",
      "torch.Size([64, 128, 128, 11])\n",
      "torch.Size([64, 512, 32, 2])\n",
      "torch.Size([64, 512])\n",
      "torch.Size([64, 512])\n",
      "torch.Size([64, 512])\n",
      "fc통과: torch.Size([64, 507])\n",
      "torch.Size([64, 512])\n"
     ]
    },
    {
     "name": "stderr",
     "output_type": "stream",
     "text": [
      " 65%|███████████████████████████▉               | 26/40 [00:05<00:02,  4.73it/s]"
     ]
    },
    {
     "name": "stdout",
     "output_type": "stream",
     "text": [
      "torch.Size([64, 128, 34, 1])\n",
      "torch.Size([64, 1, 128, 34])\n",
      "torch.Size([64, 64, 128, 17])\n",
      "torch.Size([64, 64, 128, 17])\n",
      "torch.Size([64, 128, 128, 8])\n",
      "torch.Size([64, 512, 32, 2])\n",
      "torch.Size([64, 512])\n",
      "torch.Size([64, 512])\n",
      "torch.Size([64, 512])\n",
      "fc통과: torch.Size([64, 507])\n",
      "torch.Size([64, 512])\n",
      "torch.Size([64, 128, 24, 1])\n",
      "torch.Size([64, 1, 128, 24])\n",
      "torch.Size([64, 64, 128, 12])\n",
      "torch.Size([64, 64, 128, 12])\n",
      "torch.Size([64, 128, 128, 6])\n",
      "torch.Size([64, 512, 32, 1])\n",
      "torch.Size([64, 512])\n",
      "torch.Size([64, 512])\n",
      "torch.Size([64, 512])\n",
      "fc통과: torch.Size([64, 507])\n",
      "torch.Size([64, 512])\n"
     ]
    },
    {
     "name": "stderr",
     "output_type": "stream",
     "text": [
      " 70%|██████████████████████████████             | 28/40 [00:06<00:02,  5.27it/s]"
     ]
    },
    {
     "name": "stdout",
     "output_type": "stream",
     "text": [
      "torch.Size([64, 128, 25, 1])\n",
      "torch.Size([64, 1, 128, 25])\n",
      "torch.Size([64, 64, 128, 12])\n",
      "torch.Size([64, 64, 128, 12])\n",
      "torch.Size([64, 128, 128, 6])\n",
      "torch.Size([64, 512, 32, 1])\n",
      "torch.Size([64, 512])\n",
      "torch.Size([64, 512])\n",
      "torch.Size([64, 512])\n",
      "fc통과: torch.Size([64, 507])\n",
      "torch.Size([64, 512])\n",
      "torch.Size([64, 128, 30, 1])\n",
      "torch.Size([64, 1, 128, 30])\n",
      "torch.Size([64, 64, 128, 15])\n",
      "torch.Size([64, 64, 128, 15])\n",
      "torch.Size([64, 128, 128, 7])\n",
      "torch.Size([64, 512, 32, 1])\n",
      "torch.Size([64, 512])\n",
      "torch.Size([64, 512])\n",
      "torch.Size([64, 512])\n",
      "fc통과: torch.Size([64, 507])\n",
      "torch.Size([64, 512])\n"
     ]
    },
    {
     "name": "stderr",
     "output_type": "stream",
     "text": [
      " 72%|███████████████████████████████▏           | 29/40 [00:06<00:02,  5.30it/s]"
     ]
    },
    {
     "name": "stdout",
     "output_type": "stream",
     "text": [
      "torch.Size([64, 128, 37, 1])\n",
      "torch.Size([64, 1, 128, 37])\n",
      "torch.Size([64, 64, 128, 18])\n",
      "torch.Size([64, 64, 128, 18])\n",
      "torch.Size([64, 128, 128, 9])\n",
      "torch.Size([64, 512, 32, 2])\n",
      "torch.Size([64, 512])\n",
      "torch.Size([64, 512])\n",
      "torch.Size([64, 512])\n",
      "fc통과: torch.Size([64, 507])\n",
      "torch.Size([64, 512])\n"
     ]
    },
    {
     "name": "stderr",
     "output_type": "stream",
     "text": [
      " 78%|█████████████████████████████████▎         | 31/40 [00:06<00:01,  5.14it/s]"
     ]
    },
    {
     "name": "stdout",
     "output_type": "stream",
     "text": [
      "torch.Size([64, 128, 33, 1])\n",
      "torch.Size([64, 1, 128, 33])\n",
      "torch.Size([64, 64, 128, 16])\n",
      "torch.Size([64, 64, 128, 16])\n",
      "torch.Size([64, 128, 128, 8])\n",
      "torch.Size([64, 512, 32, 2])\n",
      "torch.Size([64, 512])\n",
      "torch.Size([64, 512])\n",
      "torch.Size([64, 512])\n",
      "fc통과: torch.Size([64, 507])\n",
      "torch.Size([64, 512])\n",
      "torch.Size([64, 128, 36, 1])\n",
      "torch.Size([64, 1, 128, 36])\n",
      "torch.Size([64, 64, 128, 18])\n",
      "torch.Size([64, 64, 128, 18])\n",
      "torch.Size([64, 128, 128, 9])\n",
      "torch.Size([64, 512, 32, 2])\n",
      "torch.Size([64, 512])\n",
      "torch.Size([64, 512])\n",
      "torch.Size([64, 512])\n",
      "fc통과: torch.Size([64, 507])\n",
      "torch.Size([64, 512])\n"
     ]
    },
    {
     "name": "stderr",
     "output_type": "stream",
     "text": [
      " 82%|███████████████████████████████████▍       | 33/40 [00:07<00:01,  5.04it/s]"
     ]
    },
    {
     "name": "stdout",
     "output_type": "stream",
     "text": [
      "torch.Size([64, 128, 34, 1])\n",
      "torch.Size([64, 1, 128, 34])\n",
      "torch.Size([64, 64, 128, 17])\n",
      "torch.Size([64, 64, 128, 17])\n",
      "torch.Size([64, 128, 128, 8])\n",
      "torch.Size([64, 512, 32, 2])\n",
      "torch.Size([64, 512])\n",
      "torch.Size([64, 512])\n",
      "torch.Size([64, 512])\n",
      "fc통과: torch.Size([64, 507])\n",
      "torch.Size([64, 512])\n",
      "torch.Size([64, 128, 33, 1])\n",
      "torch.Size([64, 1, 128, 33])\n",
      "torch.Size([64, 64, 128, 16])\n",
      "torch.Size([64, 64, 128, 16])\n",
      "torch.Size([64, 128, 128, 8])\n",
      "torch.Size([64, 512, 32, 2])\n",
      "torch.Size([64, 512])\n",
      "torch.Size([64, 512])\n",
      "torch.Size([64, 512])\n",
      "fc통과: torch.Size([64, 507])\n"
     ]
    },
    {
     "name": "stderr",
     "output_type": "stream",
     "text": [
      " 85%|████████████████████████████████████▌      | 34/40 [00:07<00:01,  5.07it/s]"
     ]
    },
    {
     "name": "stdout",
     "output_type": "stream",
     "text": [
      "torch.Size([64, 512])\n",
      "torch.Size([64, 128, 32, 1])\n",
      "torch.Size([64, 1, 128, 32])\n",
      "torch.Size([64, 64, 128, 16])\n",
      "torch.Size([64, 64, 128, 16])\n",
      "torch.Size([64, 128, 128, 8])\n"
     ]
    },
    {
     "name": "stderr",
     "output_type": "stream",
     "text": [
      " 88%|█████████████████████████████████████▋     | 35/40 [00:07<00:00,  5.06it/s]"
     ]
    },
    {
     "name": "stdout",
     "output_type": "stream",
     "text": [
      "torch.Size([64, 512, 32, 2])\n",
      "torch.Size([64, 512])\n",
      "torch.Size([64, 512])\n",
      "torch.Size([64, 512])\n",
      "fc통과: torch.Size([64, 507])\n",
      "torch.Size([64, 512])\n",
      "torch.Size([64, 128, 36, 1])\n",
      "torch.Size([64, 1, 128, 36])\n",
      "torch.Size([64, 64, 128, 18])\n",
      "torch.Size([64, 64, 128, 18])\n",
      "torch.Size([64, 128, 128, 9])\n",
      "torch.Size([64, 512, 32, 2])\n",
      "torch.Size([64, 512])\n",
      "torch.Size([64, 512])\n",
      "torch.Size([64, 512])\n",
      "fc통과: torch.Size([64, 507])\n",
      "torch.Size([64, 512])\n"
     ]
    },
    {
     "name": "stderr",
     "output_type": "stream",
     "text": [
      " 92%|███████████████████████████████████████▊   | 37/40 [00:08<00:00,  5.01it/s]"
     ]
    },
    {
     "name": "stdout",
     "output_type": "stream",
     "text": [
      "torch.Size([64, 128, 34, 1])\n",
      "torch.Size([64, 1, 128, 34])\n",
      "torch.Size([64, 64, 128, 17])\n",
      "torch.Size([64, 64, 128, 17])\n",
      "torch.Size([64, 128, 128, 8])\n",
      "torch.Size([64, 512, 32, 2])\n",
      "torch.Size([64, 512])\n",
      "torch.Size([64, 512])\n",
      "torch.Size([64, 512])\n",
      "fc통과: torch.Size([64, 507])\n",
      "torch.Size([64, 512])\n",
      "torch.Size([64, 128, 35, 1])\n",
      "torch.Size([64, 1, 128, 35])\n",
      "torch.Size([64, 64, 128, 17])\n",
      "torch.Size([64, 64, 128, 17])\n",
      "torch.Size([64, 128, 128, 8])\n",
      "torch.Size([64, 512, 32, 2])\n",
      "torch.Size([64, 512])\n",
      "torch.Size([64, 512])\n",
      "torch.Size([64, 512])\n",
      "fc통과: torch.Size([64, 507])\n",
      "torch.Size([64, 512])\n"
     ]
    },
    {
     "name": "stderr",
     "output_type": "stream",
     "text": [
      " 98%|█████████████████████████████████████████▉ | 39/40 [00:08<00:00,  5.05it/s]"
     ]
    },
    {
     "name": "stdout",
     "output_type": "stream",
     "text": [
      "torch.Size([64, 128, 33, 1])\n",
      "torch.Size([64, 1, 128, 33])\n",
      "torch.Size([64, 64, 128, 16])\n",
      "torch.Size([64, 64, 128, 16])\n",
      "torch.Size([64, 128, 128, 8])\n",
      "torch.Size([64, 512, 32, 2])\n",
      "torch.Size([64, 512])\n",
      "torch.Size([64, 512])\n",
      "torch.Size([64, 512])\n",
      "fc통과: torch.Size([64, 507])\n",
      "torch.Size([64, 512])\n",
      "torch.Size([36, 128, 33, 1])\n",
      "torch.Size([36, 1, 128, 33])\n",
      "torch.Size([36, 64, 128, 16])\n",
      "torch.Size([36, 64, 128, 16])\n",
      "torch.Size([36, 128, 128, 8])\n",
      "torch.Size([36, 512, 32, 2])\n",
      "torch.Size([36, 512])\n",
      "torch.Size([36, 512])\n",
      "torch.Size([36, 512])\n",
      "fc통과: torch.Size([36, 507])\n",
      "torch.Size([36, 512])\n"
     ]
    },
    {
     "name": "stderr",
     "output_type": "stream",
     "text": [
      "100%|███████████████████████████████████████████| 40/40 [00:08<00:00,  4.66it/s]"
     ]
    },
    {
     "name": "stdout",
     "output_type": "stream",
     "text": [
      "07-04 16:51 [MainProcess, 23066] [INFO ]  Iteration:10, loss = 0.602732, acc = 100.000 \n",
      "07-04 16:51 [MainProcess, 23066] [INFO ]  Iteration:10, loss = 0.602732, acc = 100.000 \n",
      "07-04 16:51 [MainProcess, 23066] [INFO ]  Iteration:10, loss = 0.602732, acc = 100.000 \n",
      "07-04 16:51 [MainProcess, 23066] [INFO ]  Iteration:10, loss = 0.602732, acc = 100.000 \n",
      "07-04 16:51 [MainProcess, 23066] [INFO ]  Iteration:10, loss = 0.602732, acc = 100.000 \n",
      "07-04 16:51 [MainProcess, 23066] [INFO ]  Iteration:10, loss = 0.602732, acc = 100.000 \n",
      "07-04 16:51 [MainProcess, 23066] [INFO ]  Iteration:10, loss = 0.602732, acc = 100.000 \n",
      "07-04 16:51 [MainProcess, 23066] [INFO ]  Iteration:10, loss = 0.602732, acc = 100.000 \n"
     ]
    },
    {
     "name": "stderr",
     "output_type": "stream",
     "text": [
      "\n",
      "  0%|                                                    | 0/40 [00:00<?, ?it/s]"
     ]
    },
    {
     "name": "stdout",
     "output_type": "stream",
     "text": [
      "torch.Size([64, 128, 34, 1])\n",
      "torch.Size([64, 1, 128, 34])\n",
      "torch.Size([64, 64, 128, 17])\n",
      "torch.Size([64, 64, 128, 17])\n",
      "torch.Size([64, 128, 128, 8])\n",
      "torch.Size([64, 512, 32, 2])\n",
      "torch.Size([64, 512])\n",
      "torch.Size([64, 512])\n",
      "torch.Size([64, 512])\n",
      "fc통과: torch.Size([64, 507])\n",
      "torch.Size([64, 512])\n"
     ]
    },
    {
     "name": "stderr",
     "output_type": "stream",
     "text": [
      "  2%|█                                           | 1/40 [00:00<00:07,  5.08it/s]"
     ]
    },
    {
     "name": "stdout",
     "output_type": "stream",
     "text": [
      "torch.Size([64, 128, 39, 1])\n",
      "torch.Size([64, 1, 128, 39])\n",
      "torch.Size([64, 64, 128, 19])\n",
      "torch.Size([64, 64, 128, 19])\n",
      "torch.Size([64, 128, 128, 9])\n",
      "torch.Size([64, 512, 32, 2])\n",
      "torch.Size([64, 512])\n",
      "torch.Size([64, 512])\n",
      "torch.Size([64, 512])\n",
      "fc통과: torch.Size([64, 507])\n",
      "torch.Size([64, 512])\n"
     ]
    },
    {
     "name": "stderr",
     "output_type": "stream",
     "text": [
      "  5%|██▏                                         | 2/40 [00:00<00:07,  4.81it/s]"
     ]
    },
    {
     "name": "stdout",
     "output_type": "stream",
     "text": [
      "torch.Size([64, 128, 48, 1])\n",
      "torch.Size([64, 1, 128, 48])\n",
      "torch.Size([64, 64, 128, 24])\n",
      "torch.Size([64, 64, 128, 24])\n",
      "torch.Size([64, 128, 128, 12])\n",
      "torch.Size([64, 512, 32, 3])\n",
      "torch.Size([64, 512])\n",
      "torch.Size([64, 512])\n",
      "torch.Size([64, 512])\n",
      "fc통과: torch.Size([64, 507])\n",
      "torch.Size([64, 512])\n"
     ]
    },
    {
     "name": "stderr",
     "output_type": "stream",
     "text": [
      "  8%|███▎                                        | 3/40 [00:00<00:08,  4.39it/s]"
     ]
    },
    {
     "name": "stdout",
     "output_type": "stream",
     "text": [
      "torch.Size([64, 128, 40, 1])\n",
      "torch.Size([64, 1, 128, 40])\n",
      "torch.Size([64, 64, 128, 20])\n",
      "torch.Size([64, 64, 128, 20])\n",
      "torch.Size([64, 128, 128, 10])\n",
      "torch.Size([64, 512, 32, 2])\n",
      "torch.Size([64, 512])\n",
      "torch.Size([64, 512])\n",
      "torch.Size([64, 512])\n",
      "fc통과: torch.Size([64, 507])\n",
      "torch.Size([64, 512])\n"
     ]
    },
    {
     "name": "stderr",
     "output_type": "stream",
     "text": [
      " 10%|████▍                                       | 4/40 [00:00<00:08,  4.39it/s]"
     ]
    },
    {
     "name": "stdout",
     "output_type": "stream",
     "text": [
      "torch.Size([64, 128, 42, 1])\n",
      "torch.Size([64, 1, 128, 42])\n",
      "torch.Size([64, 64, 128, 21])\n",
      "torch.Size([64, 64, 128, 21])\n",
      "torch.Size([64, 128, 128, 10])\n",
      "torch.Size([64, 512, 32, 2])\n",
      "torch.Size([64, 512])\n",
      "torch.Size([64, 512])\n",
      "torch.Size([64, 512])\n",
      "fc통과: torch.Size([64, 507])\n",
      "torch.Size([64, 512])\n"
     ]
    },
    {
     "name": "stderr",
     "output_type": "stream",
     "text": [
      " 12%|█████▌                                      | 5/40 [00:01<00:08,  4.34it/s]"
     ]
    },
    {
     "name": "stdout",
     "output_type": "stream",
     "text": [
      "torch.Size([64, 128, 52, 1])\n",
      "torch.Size([64, 1, 128, 52])\n",
      "torch.Size([64, 64, 128, 26])\n",
      "torch.Size([64, 64, 128, 26])\n",
      "torch.Size([64, 128, 128, 13])\n",
      "torch.Size([64, 512, 32, 3])\n",
      "torch.Size([64, 512])\n",
      "torch.Size([64, 512])\n",
      "torch.Size([64, 512])\n",
      "fc통과: torch.Size([64, 507])\n",
      "torch.Size([64, 512])\n"
     ]
    },
    {
     "name": "stderr",
     "output_type": "stream",
     "text": [
      " 15%|██████▌                                     | 6/40 [00:01<00:08,  4.09it/s]"
     ]
    },
    {
     "name": "stdout",
     "output_type": "stream",
     "text": [
      "torch.Size([64, 128, 40, 1])\n",
      "torch.Size([64, 1, 128, 40])\n",
      "torch.Size([64, 64, 128, 20])\n",
      "torch.Size([64, 64, 128, 20])\n",
      "torch.Size([64, 128, 128, 10])\n",
      "torch.Size([64, 512, 32, 2])\n",
      "torch.Size([64, 512])\n",
      "torch.Size([64, 512])\n",
      "torch.Size([64, 512])\n",
      "fc통과: torch.Size([64, 507])\n",
      "torch.Size([64, 512])\n"
     ]
    },
    {
     "name": "stderr",
     "output_type": "stream",
     "text": [
      " 18%|███████▋                                    | 7/40 [00:01<00:07,  4.18it/s]"
     ]
    },
    {
     "name": "stdout",
     "output_type": "stream",
     "text": [
      "torch.Size([64, 128, 64, 1])\n",
      "torch.Size([64, 1, 128, 64])\n",
      "torch.Size([64, 64, 128, 32])\n",
      "torch.Size([64, 64, 128, 32])\n",
      "torch.Size([64, 128, 128, 16])\n",
      "torch.Size([64, 512, 32, 4])\n",
      "torch.Size([64, 512])\n",
      "torch.Size([64, 512])\n",
      "torch.Size([64, 512])\n",
      "fc통과: torch.Size([64, 507])\n",
      "torch.Size([64, 512])\n"
     ]
    },
    {
     "name": "stderr",
     "output_type": "stream",
     "text": [
      " 20%|████████▊                                   | 8/40 [00:01<00:07,  4.03it/s]"
     ]
    },
    {
     "name": "stdout",
     "output_type": "stream",
     "text": [
      "torch.Size([64, 128, 42, 1])\n",
      "torch.Size([64, 1, 128, 42])\n",
      "torch.Size([64, 64, 128, 21])\n",
      "torch.Size([64, 64, 128, 21])\n",
      "torch.Size([64, 128, 128, 10])\n",
      "torch.Size([64, 512, 32, 2])\n",
      "torch.Size([64, 512])\n",
      "torch.Size([64, 512])\n",
      "torch.Size([64, 512])\n",
      "fc통과: torch.Size([64, 507])\n",
      "torch.Size([64, 512])\n"
     ]
    },
    {
     "name": "stderr",
     "output_type": "stream",
     "text": [
      " 22%|█████████▉                                  | 9/40 [00:02<00:07,  4.09it/s]"
     ]
    },
    {
     "name": "stdout",
     "output_type": "stream",
     "text": [
      "torch.Size([64, 128, 38, 1])\n",
      "torch.Size([64, 1, 128, 38])\n",
      "torch.Size([64, 64, 128, 19])\n",
      "torch.Size([64, 64, 128, 19])\n",
      "torch.Size([64, 128, 128, 9])\n",
      "torch.Size([64, 512, 32, 2])\n",
      "torch.Size([64, 512])\n",
      "torch.Size([64, 512])\n",
      "torch.Size([64, 512])\n",
      "fc통과: torch.Size([64, 507])\n",
      "torch.Size([64, 512])\n"
     ]
    },
    {
     "name": "stderr",
     "output_type": "stream",
     "text": [
      " 25%|██████████▊                                | 10/40 [00:02<00:07,  4.27it/s]"
     ]
    },
    {
     "name": "stdout",
     "output_type": "stream",
     "text": [
      "torch.Size([64, 128, 54, 1])\n",
      "torch.Size([64, 1, 128, 54])\n",
      "torch.Size([64, 64, 128, 27])\n",
      "torch.Size([64, 64, 128, 27])\n",
      "torch.Size([64, 128, 128, 13])\n",
      "torch.Size([64, 512, 32, 3])\n",
      "torch.Size([64, 512])\n",
      "torch.Size([64, 512])\n",
      "torch.Size([64, 512])\n",
      "fc통과: torch.Size([64, 507])\n",
      "torch.Size([64, 512])\n"
     ]
    },
    {
     "name": "stderr",
     "output_type": "stream",
     "text": [
      " 28%|███████████▊                               | 11/40 [00:02<00:07,  4.03it/s]"
     ]
    },
    {
     "name": "stdout",
     "output_type": "stream",
     "text": [
      "torch.Size([64, 128, 58, 1])\n",
      "torch.Size([64, 1, 128, 58])\n",
      "torch.Size([64, 64, 128, 29])\n",
      "torch.Size([64, 64, 128, 29])\n",
      "torch.Size([64, 128, 128, 14])\n",
      "torch.Size([64, 512, 32, 3])\n",
      "torch.Size([64, 512])\n",
      "torch.Size([64, 512])\n",
      "torch.Size([64, 512])\n",
      "fc통과: torch.Size([64, 507])\n",
      "torch.Size([64, 512])\n"
     ]
    },
    {
     "name": "stderr",
     "output_type": "stream",
     "text": [
      " 30%|████████████▉                              | 12/40 [00:02<00:07,  3.82it/s]"
     ]
    },
    {
     "name": "stdout",
     "output_type": "stream",
     "text": [
      "torch.Size([64, 128, 61, 1])\n",
      "torch.Size([64, 1, 128, 61])\n",
      "torch.Size([64, 64, 128, 30])\n",
      "torch.Size([64, 64, 128, 30])\n",
      "torch.Size([64, 128, 128, 15])\n",
      "torch.Size([64, 512, 32, 3])\n",
      "torch.Size([64, 512])\n",
      "torch.Size([64, 512])\n",
      "torch.Size([64, 512])\n",
      "fc통과: torch.Size([64, 507])\n",
      "torch.Size([64, 512])\n"
     ]
    },
    {
     "name": "stderr",
     "output_type": "stream",
     "text": [
      " 32%|█████████████▉                             | 13/40 [00:03<00:07,  3.63it/s]"
     ]
    },
    {
     "name": "stdout",
     "output_type": "stream",
     "text": [
      "torch.Size([64, 128, 37, 1])\n",
      "torch.Size([64, 1, 128, 37])\n",
      "torch.Size([64, 64, 128, 18])\n",
      "torch.Size([64, 64, 128, 18])\n",
      "torch.Size([64, 128, 128, 9])\n",
      "torch.Size([64, 512, 32, 2])\n",
      "torch.Size([64, 512])\n",
      "torch.Size([64, 512])\n",
      "torch.Size([64, 512])\n",
      "fc통과: torch.Size([64, 507])\n",
      "torch.Size([64, 512])\n"
     ]
    },
    {
     "name": "stderr",
     "output_type": "stream",
     "text": [
      " 35%|███████████████                            | 14/40 [00:03<00:06,  3.91it/s]"
     ]
    },
    {
     "name": "stdout",
     "output_type": "stream",
     "text": [
      "torch.Size([64, 128, 41, 1])\n",
      "torch.Size([64, 1, 128, 41])\n",
      "torch.Size([64, 64, 128, 20])\n",
      "torch.Size([64, 64, 128, 20])\n",
      "torch.Size([64, 128, 128, 10])\n",
      "torch.Size([64, 512, 32, 2])\n",
      "torch.Size([64, 512])\n",
      "torch.Size([64, 512])\n",
      "torch.Size([64, 512])\n",
      "fc통과: torch.Size([64, 507])\n",
      "torch.Size([64, 512])\n"
     ]
    },
    {
     "name": "stderr",
     "output_type": "stream",
     "text": [
      " 40%|█████████████████▏                         | 16/40 [00:03<00:05,  4.28it/s]"
     ]
    },
    {
     "name": "stdout",
     "output_type": "stream",
     "text": [
      "torch.Size([64, 128, 35, 1])\n",
      "torch.Size([64, 1, 128, 35])\n",
      "torch.Size([64, 64, 128, 17])\n",
      "torch.Size([64, 64, 128, 17])\n",
      "torch.Size([64, 128, 128, 8])\n",
      "torch.Size([64, 512, 32, 2])\n",
      "torch.Size([64, 512])\n",
      "torch.Size([64, 512])\n",
      "torch.Size([64, 512])\n",
      "fc통과: torch.Size([64, 507])\n",
      "torch.Size([64, 512])\n",
      "torch.Size([64, 128, 48, 1])\n",
      "torch.Size([64, 1, 128, 48])\n",
      "torch.Size([64, 64, 128, 24])\n",
      "torch.Size([64, 64, 128, 24])\n",
      "torch.Size([64, 128, 128, 12])\n",
      "torch.Size([64, 512, 32, 3])\n",
      "torch.Size([64, 512])\n",
      "torch.Size([64, 512])\n",
      "torch.Size([64, 512])\n",
      "fc통과: torch.Size([64, 507])\n",
      "torch.Size([64, 512])\n"
     ]
    },
    {
     "name": "stderr",
     "output_type": "stream",
     "text": [
      " 42%|██████████████████▎                        | 17/40 [00:04<00:05,  4.19it/s]"
     ]
    },
    {
     "name": "stdout",
     "output_type": "stream",
     "text": [
      "torch.Size([64, 128, 40, 1])\n",
      "torch.Size([64, 1, 128, 40])\n",
      "torch.Size([64, 64, 128, 20])\n",
      "torch.Size([64, 64, 128, 20])\n",
      "torch.Size([64, 128, 128, 10])\n",
      "torch.Size([64, 512, 32, 2])\n",
      "torch.Size([64, 512])\n",
      "torch.Size([64, 512])\n",
      "torch.Size([64, 512])\n",
      "fc통과: torch.Size([64, 507])\n",
      "torch.Size([64, 512])\n"
     ]
    },
    {
     "name": "stderr",
     "output_type": "stream",
     "text": [
      " 48%|████████████████████▍                      | 19/40 [00:04<00:04,  4.50it/s]"
     ]
    },
    {
     "name": "stdout",
     "output_type": "stream",
     "text": [
      "torch.Size([64, 128, 33, 1])\n",
      "torch.Size([64, 1, 128, 33])\n",
      "torch.Size([64, 64, 128, 16])\n",
      "torch.Size([64, 64, 128, 16])\n",
      "torch.Size([64, 128, 128, 8])\n",
      "torch.Size([64, 512, 32, 2])\n",
      "torch.Size([64, 512])\n",
      "torch.Size([64, 512])\n",
      "torch.Size([64, 512])\n",
      "fc통과: torch.Size([64, 507])\n",
      "torch.Size([64, 512])\n",
      "torch.Size([64, 128, 33, 1])\n",
      "torch.Size([64, 1, 128, 33])\n",
      "torch.Size([64, 64, 128, 16])\n",
      "torch.Size([64, 64, 128, 16])\n",
      "torch.Size([64, 128, 128, 8])\n",
      "torch.Size([64, 512, 32, 2])\n",
      "torch.Size([64, 512])\n",
      "torch.Size([64, 512])\n",
      "torch.Size([64, 512])\n",
      "fc통과: torch.Size([64, 507])\n",
      "torch.Size([64, 512])\n"
     ]
    },
    {
     "name": "stderr",
     "output_type": "stream",
     "text": [
      " 52%|██████████████████████▌                    | 21/40 [00:04<00:03,  4.78it/s]"
     ]
    },
    {
     "name": "stdout",
     "output_type": "stream",
     "text": [
      "torch.Size([64, 128, 35, 1])\n",
      "torch.Size([64, 1, 128, 35])\n",
      "torch.Size([64, 64, 128, 17])\n",
      "torch.Size([64, 64, 128, 17])\n",
      "torch.Size([64, 128, 128, 8])\n",
      "torch.Size([64, 512, 32, 2])\n",
      "torch.Size([64, 512])\n",
      "torch.Size([64, 512])\n",
      "torch.Size([64, 512])\n",
      "fc통과: torch.Size([64, 507])\n",
      "torch.Size([64, 512])\n",
      "torch.Size([64, 128, 35, 1])\n",
      "torch.Size([64, 1, 128, 35])\n",
      "torch.Size([64, 64, 128, 17])\n",
      "torch.Size([64, 64, 128, 17])\n",
      "torch.Size([64, 128, 128, 8])\n",
      "torch.Size([64, 512, 32, 2])\n"
     ]
    },
    {
     "name": "stderr",
     "output_type": "stream",
     "text": [
      " 55%|███████████████████████▋                   | 22/40 [00:05<00:03,  4.85it/s]"
     ]
    },
    {
     "name": "stdout",
     "output_type": "stream",
     "text": [
      "torch.Size([64, 512])\n",
      "torch.Size([64, 512])\n",
      "torch.Size([64, 512])\n",
      "fc통과: torch.Size([64, 507])\n",
      "torch.Size([64, 512])\n",
      "torch.Size([64, 128, 32, 1])\n",
      "torch.Size([64, 1, 128, 32])\n",
      "torch.Size([64, 64, 128, 16])\n",
      "torch.Size([64, 64, 128, 16])\n",
      "torch.Size([64, 128, 128, 8])\n",
      "torch.Size([64, 512, 32, 2])\n",
      "torch.Size([64, 512])\n",
      "torch.Size([64, 512])\n",
      "torch.Size([64, 512])\n",
      "fc통과: torch.Size([64, 507])\n",
      "torch.Size([64, 512])\n"
     ]
    },
    {
     "name": "stderr",
     "output_type": "stream",
     "text": [
      " 57%|████████████████████████▋                  | 23/40 [00:05<00:03,  4.96it/s]"
     ]
    },
    {
     "name": "stdout",
     "output_type": "stream",
     "text": [
      "torch.Size([64, 128, 37, 1])\n",
      "torch.Size([64, 1, 128, 37])\n",
      "torch.Size([64, 64, 128, 18])\n",
      "torch.Size([64, 64, 128, 18])\n",
      "torch.Size([64, 128, 128, 9])\n",
      "torch.Size([64, 512, 32, 2])\n",
      "torch.Size([64, 512])\n",
      "torch.Size([64, 512])\n",
      "torch.Size([64, 512])\n",
      "fc통과: torch.Size([64, 507])\n",
      "torch.Size([64, 512])\n"
     ]
    },
    {
     "name": "stderr",
     "output_type": "stream",
     "text": [
      " 60%|█████████████████████████▊                 | 24/40 [00:05<00:03,  4.89it/s]"
     ]
    },
    {
     "name": "stdout",
     "output_type": "stream",
     "text": [
      "torch.Size([64, 128, 47, 1])\n",
      "torch.Size([64, 1, 128, 47])\n",
      "torch.Size([64, 64, 128, 23])\n",
      "torch.Size([64, 64, 128, 23])\n",
      "torch.Size([64, 128, 128, 11])\n",
      "torch.Size([64, 512, 32, 2])\n",
      "torch.Size([64, 512])\n",
      "torch.Size([64, 512])\n",
      "torch.Size([64, 512])\n",
      "fc통과: torch.Size([64, 507])\n",
      "torch.Size([64, 512])\n"
     ]
    },
    {
     "name": "stderr",
     "output_type": "stream",
     "text": [
      " 65%|███████████████████████████▉               | 26/40 [00:05<00:02,  4.74it/s]"
     ]
    },
    {
     "name": "stdout",
     "output_type": "stream",
     "text": [
      "torch.Size([64, 128, 34, 1])\n",
      "torch.Size([64, 1, 128, 34])\n",
      "torch.Size([64, 64, 128, 17])\n",
      "torch.Size([64, 64, 128, 17])\n",
      "torch.Size([64, 128, 128, 8])\n",
      "torch.Size([64, 512, 32, 2])\n",
      "torch.Size([64, 512])\n",
      "torch.Size([64, 512])\n",
      "torch.Size([64, 512])\n",
      "fc통과: torch.Size([64, 507])\n",
      "torch.Size([64, 512])\n",
      "torch.Size([64, 128, 24, 1])\n",
      "torch.Size([64, 1, 128, 24])\n",
      "torch.Size([64, 64, 128, 12])\n",
      "torch.Size([64, 64, 128, 12])\n",
      "torch.Size([64, 128, 128, 6])\n",
      "torch.Size([64, 512, 32, 1])\n",
      "torch.Size([64, 512])\n",
      "torch.Size([64, 512])\n",
      "torch.Size([64, 512])\n",
      "fc통과: torch.Size([64, 507])\n",
      "torch.Size([64, 512])\n"
     ]
    },
    {
     "name": "stderr",
     "output_type": "stream",
     "text": [
      " 70%|██████████████████████████████             | 28/40 [00:06<00:02,  5.29it/s]"
     ]
    },
    {
     "name": "stdout",
     "output_type": "stream",
     "text": [
      "torch.Size([64, 128, 25, 1])\n",
      "torch.Size([64, 1, 128, 25])\n",
      "torch.Size([64, 64, 128, 12])\n",
      "torch.Size([64, 64, 128, 12])\n",
      "torch.Size([64, 128, 128, 6])\n",
      "torch.Size([64, 512, 32, 1])\n",
      "torch.Size([64, 512])\n",
      "torch.Size([64, 512])\n",
      "torch.Size([64, 512])\n",
      "fc통과: torch.Size([64, 507])\n",
      "torch.Size([64, 512])\n",
      "torch.Size([64, 128, 30, 1])\n",
      "torch.Size([64, 1, 128, 30])\n",
      "torch.Size([64, 64, 128, 15])\n",
      "torch.Size([64, 64, 128, 15])\n",
      "torch.Size([64, 128, 128, 7])\n",
      "torch.Size([64, 512, 32, 1])\n",
      "torch.Size([64, 512])\n",
      "torch.Size([64, 512])\n",
      "torch.Size([64, 512])\n",
      "fc통과: torch.Size([64, 507])\n",
      "torch.Size([64, 512])\n"
     ]
    },
    {
     "name": "stderr",
     "output_type": "stream",
     "text": [
      " 72%|███████████████████████████████▏           | 29/40 [00:06<00:02,  5.31it/s]"
     ]
    },
    {
     "name": "stdout",
     "output_type": "stream",
     "text": [
      "torch.Size([64, 128, 37, 1])\n",
      "torch.Size([64, 1, 128, 37])\n",
      "torch.Size([64, 64, 128, 18])\n",
      "torch.Size([64, 64, 128, 18])\n",
      "torch.Size([64, 128, 128, 9])\n",
      "torch.Size([64, 512, 32, 2])\n",
      "torch.Size([64, 512])\n",
      "torch.Size([64, 512])\n",
      "torch.Size([64, 512])\n",
      "fc통과: torch.Size([64, 507])\n",
      "torch.Size([64, 512])\n"
     ]
    },
    {
     "name": "stderr",
     "output_type": "stream",
     "text": [
      " 78%|█████████████████████████████████▎         | 31/40 [00:06<00:01,  5.15it/s]"
     ]
    },
    {
     "name": "stdout",
     "output_type": "stream",
     "text": [
      "torch.Size([64, 128, 33, 1])\n",
      "torch.Size([64, 1, 128, 33])\n",
      "torch.Size([64, 64, 128, 16])\n",
      "torch.Size([64, 64, 128, 16])\n",
      "torch.Size([64, 128, 128, 8])\n",
      "torch.Size([64, 512, 32, 2])\n",
      "torch.Size([64, 512])\n",
      "torch.Size([64, 512])\n",
      "torch.Size([64, 512])\n",
      "fc통과: torch.Size([64, 507])\n",
      "torch.Size([64, 512])\n",
      "torch.Size([64, 128, 36, 1])\n",
      "torch.Size([64, 1, 128, 36])\n",
      "torch.Size([64, 64, 128, 18])\n",
      "torch.Size([64, 64, 128, 18])\n",
      "torch.Size([64, 128, 128, 9])\n",
      "torch.Size([64, 512, 32, 2])\n",
      "torch.Size([64, 512])\n",
      "torch.Size([64, 512])\n",
      "torch.Size([64, 512])\n",
      "fc통과: torch.Size([64, 507])\n",
      "torch.Size([64, 512])\n"
     ]
    },
    {
     "name": "stderr",
     "output_type": "stream",
     "text": [
      " 82%|███████████████████████████████████▍       | 33/40 [00:07<00:01,  5.06it/s]"
     ]
    },
    {
     "name": "stdout",
     "output_type": "stream",
     "text": [
      "torch.Size([64, 128, 34, 1])\n",
      "torch.Size([64, 1, 128, 34])\n",
      "torch.Size([64, 64, 128, 17])\n",
      "torch.Size([64, 64, 128, 17])\n",
      "torch.Size([64, 128, 128, 8])\n",
      "torch.Size([64, 512, 32, 2])\n",
      "torch.Size([64, 512])\n",
      "torch.Size([64, 512])\n",
      "torch.Size([64, 512])\n",
      "fc통과: torch.Size([64, 507])\n",
      "torch.Size([64, 512])\n",
      "torch.Size([64, 128, 33, 1])\n",
      "torch.Size([64, 1, 128, 33])\n",
      "torch.Size([64, 64, 128, 16])\n",
      "torch.Size([64, 64, 128, 16])\n",
      "torch.Size([64, 128, 128, 8])\n",
      "torch.Size([64, 512, 32, 2])\n",
      "torch.Size([64, 512])\n",
      "torch.Size([64, 512])\n",
      "torch.Size([64, 512])\n",
      "fc통과: torch.Size([64, 507])\n",
      "torch.Size([64, 512])\n"
     ]
    },
    {
     "name": "stderr",
     "output_type": "stream",
     "text": [
      " 88%|█████████████████████████████████████▋     | 35/40 [00:07<00:00,  5.14it/s]"
     ]
    },
    {
     "name": "stdout",
     "output_type": "stream",
     "text": [
      "torch.Size([64, 128, 32, 1])\n",
      "torch.Size([64, 1, 128, 32])\n",
      "torch.Size([64, 64, 128, 16])\n",
      "torch.Size([64, 64, 128, 16])\n",
      "torch.Size([64, 128, 128, 8])\n",
      "torch.Size([64, 512, 32, 2])\n",
      "torch.Size([64, 512])\n",
      "torch.Size([64, 512])\n",
      "torch.Size([64, 512])\n",
      "fc통과: torch.Size([64, 507])\n",
      "torch.Size([64, 512])\n",
      "torch.Size([64, 128, 36, 1])\n",
      "torch.Size([64, 1, 128, 36])\n",
      "torch.Size([64, 64, 128, 18])\n",
      "torch.Size([64, 64, 128, 18])\n",
      "torch.Size([64, 128, 128, 9])\n",
      "torch.Size([64, 512, 32, 2])\n",
      "torch.Size([64, 512])\n",
      "torch.Size([64, 512])\n",
      "torch.Size([64, 512])\n",
      "fc통과: torch.Size([64, 507])\n",
      "torch.Size([64, 512])\n"
     ]
    },
    {
     "name": "stderr",
     "output_type": "stream",
     "text": [
      " 92%|███████████████████████████████████████▊   | 37/40 [00:08<00:00,  5.05it/s]"
     ]
    },
    {
     "name": "stdout",
     "output_type": "stream",
     "text": [
      "torch.Size([64, 128, 34, 1])\n",
      "torch.Size([64, 1, 128, 34])\n",
      "torch.Size([64, 64, 128, 17])\n",
      "torch.Size([64, 64, 128, 17])\n",
      "torch.Size([64, 128, 128, 8])\n",
      "torch.Size([64, 512, 32, 2])\n",
      "torch.Size([64, 512])\n",
      "torch.Size([64, 512])\n",
      "torch.Size([64, 512])\n",
      "fc통과: torch.Size([64, 507])\n",
      "torch.Size([64, 512])\n",
      "torch.Size([64, 128, 35, 1])\n",
      "torch.Size([64, 1, 128, 35])\n",
      "torch.Size([64, 64, 128, 17])\n",
      "torch.Size([64, 64, 128, 17])\n",
      "torch.Size([64, 128, 128, 8])\n",
      "torch.Size([64, 512, 32, 2])\n",
      "torch.Size([64, 512])\n",
      "torch.Size([64, 512])\n",
      "torch.Size([64, 512])\n",
      "fc통과: torch.Size([64, 507])\n",
      "torch.Size([64, 512])\n"
     ]
    },
    {
     "name": "stderr",
     "output_type": "stream",
     "text": [
      " 98%|█████████████████████████████████████████▉ | 39/40 [00:08<00:00,  5.08it/s]"
     ]
    },
    {
     "name": "stdout",
     "output_type": "stream",
     "text": [
      "torch.Size([64, 128, 33, 1])\n",
      "torch.Size([64, 1, 128, 33])\n",
      "torch.Size([64, 64, 128, 16])\n",
      "torch.Size([64, 64, 128, 16])\n",
      "torch.Size([64, 128, 128, 8])\n",
      "torch.Size([64, 512, 32, 2])\n",
      "torch.Size([64, 512])\n",
      "torch.Size([64, 512])\n",
      "torch.Size([64, 512])\n",
      "fc통과: torch.Size([64, 507])\n",
      "torch.Size([64, 512])\n",
      "torch.Size([36, 128, 33, 1])\n",
      "torch.Size([36, 1, 128, 33])\n",
      "torch.Size([36, 64, 128, 16])\n",
      "torch.Size([36, 64, 128, 16])\n",
      "torch.Size([36, 128, 128, 8])\n",
      "torch.Size([36, 512, 32, 2])\n",
      "torch.Size([36, 512])\n",
      "torch.Size([36, 512])\n",
      "torch.Size([36, 512])\n",
      "fc통과: torch.Size([36, 507])\n",
      "torch.Size([36, 512])\n"
     ]
    },
    {
     "name": "stderr",
     "output_type": "stream",
     "text": [
      "100%|███████████████████████████████████████████| 40/40 [00:08<00:00,  4.68it/s]"
     ]
    },
    {
     "name": "stdout",
     "output_type": "stream",
     "text": [
      "07-04 16:51 [MainProcess, 23066] [INFO ]  Iteration:11, loss = 0.582124, acc = 100.000 \n",
      "07-04 16:51 [MainProcess, 23066] [INFO ]  Iteration:11, loss = 0.582124, acc = 100.000 \n",
      "07-04 16:51 [MainProcess, 23066] [INFO ]  Iteration:11, loss = 0.582124, acc = 100.000 \n",
      "07-04 16:51 [MainProcess, 23066] [INFO ]  Iteration:11, loss = 0.582124, acc = 100.000 \n",
      "07-04 16:51 [MainProcess, 23066] [INFO ]  Iteration:11, loss = 0.582124, acc = 100.000 \n",
      "07-04 16:51 [MainProcess, 23066] [INFO ]  Iteration:11, loss = 0.582124, acc = 100.000 \n",
      "07-04 16:51 [MainProcess, 23066] [INFO ]  Iteration:11, loss = 0.582124, acc = 100.000 \n",
      "07-04 16:51 [MainProcess, 23066] [INFO ]  Iteration:11, loss = 0.582124, acc = 100.000 \n"
     ]
    },
    {
     "name": "stderr",
     "output_type": "stream",
     "text": [
      "\n",
      "  0%|                                                    | 0/40 [00:00<?, ?it/s]"
     ]
    },
    {
     "name": "stdout",
     "output_type": "stream",
     "text": [
      "torch.Size([64, 128, 34, 1])\n",
      "torch.Size([64, 1, 128, 34])\n",
      "torch.Size([64, 64, 128, 17])\n",
      "torch.Size([64, 64, 128, 17])\n",
      "torch.Size([64, 128, 128, 8])\n",
      "torch.Size([64, 512, 32, 2])\n",
      "torch.Size([64, 512])\n",
      "torch.Size([64, 512])\n",
      "torch.Size([64, 512])\n",
      "fc통과: torch.Size([64, 507])\n",
      "torch.Size([64, 512])\n"
     ]
    },
    {
     "name": "stderr",
     "output_type": "stream",
     "text": [
      "  2%|█                                           | 1/40 [00:00<00:07,  5.10it/s]"
     ]
    },
    {
     "name": "stdout",
     "output_type": "stream",
     "text": [
      "torch.Size([64, 128, 39, 1])\n",
      "torch.Size([64, 1, 128, 39])\n",
      "torch.Size([64, 64, 128, 19])\n",
      "torch.Size([64, 64, 128, 19])\n",
      "torch.Size([64, 128, 128, 9])\n",
      "torch.Size([64, 512, 32, 2])\n",
      "torch.Size([64, 512])\n",
      "torch.Size([64, 512])\n",
      "torch.Size([64, 512])\n",
      "fc통과: torch.Size([64, 507])\n",
      "torch.Size([64, 512])\n"
     ]
    },
    {
     "name": "stderr",
     "output_type": "stream",
     "text": [
      "  5%|██▏                                         | 2/40 [00:00<00:07,  4.83it/s]"
     ]
    },
    {
     "name": "stdout",
     "output_type": "stream",
     "text": [
      "torch.Size([64, 128, 48, 1])\n",
      "torch.Size([64, 1, 128, 48])\n",
      "torch.Size([64, 64, 128, 24])\n",
      "torch.Size([64, 64, 128, 24])\n",
      "torch.Size([64, 128, 128, 12])\n",
      "torch.Size([64, 512, 32, 3])\n",
      "torch.Size([64, 512])\n",
      "torch.Size([64, 512])\n",
      "torch.Size([64, 512])\n",
      "fc통과: torch.Size([64, 507])\n",
      "torch.Size([64, 512])\n"
     ]
    },
    {
     "name": "stderr",
     "output_type": "stream",
     "text": [
      "  8%|███▎                                        | 3/40 [00:00<00:08,  4.41it/s]"
     ]
    },
    {
     "name": "stdout",
     "output_type": "stream",
     "text": [
      "torch.Size([64, 128, 40, 1])\n",
      "torch.Size([64, 1, 128, 40])\n",
      "torch.Size([64, 64, 128, 20])\n",
      "torch.Size([64, 64, 128, 20])\n",
      "torch.Size([64, 128, 128, 10])\n",
      "torch.Size([64, 512, 32, 2])\n",
      "torch.Size([64, 512])\n",
      "torch.Size([64, 512])\n",
      "torch.Size([64, 512])\n",
      "fc통과: torch.Size([64, 507])\n",
      "torch.Size([64, 512])\n"
     ]
    },
    {
     "name": "stderr",
     "output_type": "stream",
     "text": [
      " 10%|████▍                                       | 4/40 [00:00<00:08,  4.40it/s]"
     ]
    },
    {
     "name": "stdout",
     "output_type": "stream",
     "text": [
      "torch.Size([64, 128, 42, 1])\n",
      "torch.Size([64, 1, 128, 42])\n",
      "torch.Size([64, 64, 128, 21])\n",
      "torch.Size([64, 64, 128, 21])\n",
      "torch.Size([64, 128, 128, 10])\n",
      "torch.Size([64, 512, 32, 2])\n",
      "torch.Size([64, 512])\n",
      "torch.Size([64, 512])\n",
      "torch.Size([64, 512])\n",
      "fc통과: torch.Size([64, 507])\n",
      "torch.Size([64, 512])\n"
     ]
    },
    {
     "name": "stderr",
     "output_type": "stream",
     "text": [
      " 12%|█████▌                                      | 5/40 [00:01<00:08,  4.35it/s]"
     ]
    },
    {
     "name": "stdout",
     "output_type": "stream",
     "text": [
      "torch.Size([64, 128, 52, 1])\n",
      "torch.Size([64, 1, 128, 52])\n",
      "torch.Size([64, 64, 128, 26])\n",
      "torch.Size([64, 64, 128, 26])\n",
      "torch.Size([64, 128, 128, 13])\n",
      "torch.Size([64, 512, 32, 3])\n",
      "torch.Size([64, 512])\n",
      "torch.Size([64, 512])\n",
      "torch.Size([64, 512])\n",
      "fc통과: torch.Size([64, 507])\n",
      "torch.Size([64, 512])\n"
     ]
    },
    {
     "name": "stderr",
     "output_type": "stream",
     "text": [
      " 15%|██████▌                                     | 6/40 [00:01<00:08,  4.10it/s]"
     ]
    },
    {
     "name": "stdout",
     "output_type": "stream",
     "text": [
      "torch.Size([64, 128, 40, 1])\n",
      "torch.Size([64, 1, 128, 40])\n",
      "torch.Size([64, 64, 128, 20])\n",
      "torch.Size([64, 64, 128, 20])\n",
      "torch.Size([64, 128, 128, 10])\n",
      "torch.Size([64, 512, 32, 2])\n",
      "torch.Size([64, 512])\n",
      "torch.Size([64, 512])\n",
      "torch.Size([64, 512])\n",
      "fc통과: torch.Size([64, 507])\n",
      "torch.Size([64, 512])\n"
     ]
    },
    {
     "name": "stderr",
     "output_type": "stream",
     "text": [
      " 18%|███████▋                                    | 7/40 [00:01<00:07,  4.19it/s]"
     ]
    },
    {
     "name": "stdout",
     "output_type": "stream",
     "text": [
      "torch.Size([64, 128, 64, 1])\n",
      "torch.Size([64, 1, 128, 64])\n",
      "torch.Size([64, 64, 128, 32])\n",
      "torch.Size([64, 64, 128, 32])\n",
      "torch.Size([64, 128, 128, 16])\n",
      "torch.Size([64, 512, 32, 4])\n",
      "torch.Size([64, 512])\n",
      "torch.Size([64, 512])\n",
      "torch.Size([64, 512])\n",
      "fc통과: torch.Size([64, 507])\n",
      "torch.Size([64, 512])\n"
     ]
    },
    {
     "name": "stderr",
     "output_type": "stream",
     "text": [
      " 20%|████████▊                                   | 8/40 [00:01<00:07,  4.04it/s]"
     ]
    },
    {
     "name": "stdout",
     "output_type": "stream",
     "text": [
      "torch.Size([64, 128, 42, 1])\n",
      "torch.Size([64, 1, 128, 42])\n",
      "torch.Size([64, 64, 128, 21])\n",
      "torch.Size([64, 64, 128, 21])\n",
      "torch.Size([64, 128, 128, 10])\n",
      "torch.Size([64, 512, 32, 2])\n",
      "torch.Size([64, 512])\n",
      "torch.Size([64, 512])\n",
      "torch.Size([64, 512])\n",
      "fc통과: torch.Size([64, 507])\n",
      "torch.Size([64, 512])\n"
     ]
    },
    {
     "name": "stderr",
     "output_type": "stream",
     "text": [
      " 22%|█████████▉                                  | 9/40 [00:02<00:07,  4.11it/s]"
     ]
    },
    {
     "name": "stdout",
     "output_type": "stream",
     "text": [
      "torch.Size([64, 128, 38, 1])\n",
      "torch.Size([64, 1, 128, 38])\n",
      "torch.Size([64, 64, 128, 19])\n",
      "torch.Size([64, 64, 128, 19])\n",
      "torch.Size([64, 128, 128, 9])\n",
      "torch.Size([64, 512, 32, 2])\n",
      "torch.Size([64, 512])\n",
      "torch.Size([64, 512])\n",
      "torch.Size([64, 512])\n",
      "fc통과: torch.Size([64, 507])\n",
      "torch.Size([64, 512])\n"
     ]
    },
    {
     "name": "stderr",
     "output_type": "stream",
     "text": [
      " 25%|██████████▊                                | 10/40 [00:02<00:07,  4.28it/s]"
     ]
    },
    {
     "name": "stdout",
     "output_type": "stream",
     "text": [
      "torch.Size([64, 128, 54, 1])\n",
      "torch.Size([64, 1, 128, 54])\n",
      "torch.Size([64, 64, 128, 27])\n",
      "torch.Size([64, 64, 128, 27])\n",
      "torch.Size([64, 128, 128, 13])\n",
      "torch.Size([64, 512, 32, 3])\n",
      "torch.Size([64, 512])\n",
      "torch.Size([64, 512])\n",
      "torch.Size([64, 512])\n",
      "fc통과: torch.Size([64, 507])\n",
      "torch.Size([64, 512])\n"
     ]
    },
    {
     "name": "stderr",
     "output_type": "stream",
     "text": [
      " 28%|███████████▊                               | 11/40 [00:02<00:07,  4.04it/s]"
     ]
    },
    {
     "name": "stdout",
     "output_type": "stream",
     "text": [
      "torch.Size([64, 128, 58, 1])\n",
      "torch.Size([64, 1, 128, 58])\n",
      "torch.Size([64, 64, 128, 29])\n",
      "torch.Size([64, 64, 128, 29])\n",
      "torch.Size([64, 128, 128, 14])\n",
      "torch.Size([64, 512, 32, 3])\n",
      "torch.Size([64, 512])\n",
      "torch.Size([64, 512])\n",
      "torch.Size([64, 512])\n",
      "fc통과: torch.Size([64, 507])\n",
      "torch.Size([64, 512])\n"
     ]
    },
    {
     "name": "stderr",
     "output_type": "stream",
     "text": [
      " 30%|████████████▉                              | 12/40 [00:02<00:07,  3.82it/s]"
     ]
    },
    {
     "name": "stdout",
     "output_type": "stream",
     "text": [
      "torch.Size([64, 128, 61, 1])\n",
      "torch.Size([64, 1, 128, 61])\n",
      "torch.Size([64, 64, 128, 30])\n",
      "torch.Size([64, 64, 128, 30])\n",
      "torch.Size([64, 128, 128, 15])\n",
      "torch.Size([64, 512, 32, 3])\n",
      "torch.Size([64, 512])\n",
      "torch.Size([64, 512])\n",
      "torch.Size([64, 512])\n",
      "fc통과: torch.Size([64, 507])\n",
      "torch.Size([64, 512])\n"
     ]
    },
    {
     "name": "stderr",
     "output_type": "stream",
     "text": [
      " 32%|█████████████▉                             | 13/40 [00:03<00:07,  3.63it/s]"
     ]
    },
    {
     "name": "stdout",
     "output_type": "stream",
     "text": [
      "torch.Size([64, 128, 37, 1])\n",
      "torch.Size([64, 1, 128, 37])\n",
      "torch.Size([64, 64, 128, 18])\n",
      "torch.Size([64, 64, 128, 18])\n",
      "torch.Size([64, 128, 128, 9])\n",
      "torch.Size([64, 512, 32, 2])\n",
      "torch.Size([64, 512])\n",
      "torch.Size([64, 512])\n",
      "torch.Size([64, 512])\n",
      "fc통과: torch.Size([64, 507])\n",
      "torch.Size([64, 512])\n"
     ]
    },
    {
     "name": "stderr",
     "output_type": "stream",
     "text": [
      " 35%|███████████████                            | 14/40 [00:03<00:06,  3.91it/s]"
     ]
    },
    {
     "name": "stdout",
     "output_type": "stream",
     "text": [
      "torch.Size([64, 128, 41, 1])\n",
      "torch.Size([64, 1, 128, 41])\n",
      "torch.Size([64, 64, 128, 20])\n",
      "torch.Size([64, 64, 128, 20])\n",
      "torch.Size([64, 128, 128, 10])\n",
      "torch.Size([64, 512, 32, 2])\n",
      "torch.Size([64, 512])\n",
      "torch.Size([64, 512])\n",
      "torch.Size([64, 512])\n",
      "fc통과: torch.Size([64, 507])\n",
      "torch.Size([64, 512])\n"
     ]
    },
    {
     "name": "stderr",
     "output_type": "stream",
     "text": [
      " 40%|█████████████████▏                         | 16/40 [00:03<00:05,  4.28it/s]"
     ]
    },
    {
     "name": "stdout",
     "output_type": "stream",
     "text": [
      "torch.Size([64, 128, 35, 1])\n",
      "torch.Size([64, 1, 128, 35])\n",
      "torch.Size([64, 64, 128, 17])\n",
      "torch.Size([64, 64, 128, 17])\n",
      "torch.Size([64, 128, 128, 8])\n",
      "torch.Size([64, 512, 32, 2])\n",
      "torch.Size([64, 512])\n",
      "torch.Size([64, 512])\n",
      "torch.Size([64, 512])\n",
      "fc통과: torch.Size([64, 507])\n",
      "torch.Size([64, 512])\n",
      "torch.Size([64, 128, 48, 1])\n",
      "torch.Size([64, 1, 128, 48])\n",
      "torch.Size([64, 64, 128, 24])\n",
      "torch.Size([64, 64, 128, 24])\n",
      "torch.Size([64, 128, 128, 12])\n",
      "torch.Size([64, 512, 32, 3])\n",
      "torch.Size([64, 512])\n",
      "torch.Size([64, 512])\n",
      "torch.Size([64, 512])\n",
      "fc통과: torch.Size([64, 507])\n",
      "torch.Size([64, 512])\n"
     ]
    },
    {
     "name": "stderr",
     "output_type": "stream",
     "text": [
      " 42%|██████████████████▎                        | 17/40 [00:04<00:05,  4.19it/s]"
     ]
    },
    {
     "name": "stdout",
     "output_type": "stream",
     "text": [
      "torch.Size([64, 128, 40, 1])\n",
      "torch.Size([64, 1, 128, 40])\n",
      "torch.Size([64, 64, 128, 20])\n",
      "torch.Size([64, 64, 128, 20])\n",
      "torch.Size([64, 128, 128, 10])\n",
      "torch.Size([64, 512, 32, 2])\n",
      "torch.Size([64, 512])\n",
      "torch.Size([64, 512])\n",
      "torch.Size([64, 512])\n",
      "fc통과: torch.Size([64, 507])\n",
      "torch.Size([64, 512])\n"
     ]
    },
    {
     "name": "stderr",
     "output_type": "stream",
     "text": [
      " 48%|████████████████████▍                      | 19/40 [00:04<00:04,  4.50it/s]"
     ]
    },
    {
     "name": "stdout",
     "output_type": "stream",
     "text": [
      "torch.Size([64, 128, 33, 1])\n",
      "torch.Size([64, 1, 128, 33])\n",
      "torch.Size([64, 64, 128, 16])\n",
      "torch.Size([64, 64, 128, 16])\n",
      "torch.Size([64, 128, 128, 8])\n",
      "torch.Size([64, 512, 32, 2])\n",
      "torch.Size([64, 512])\n",
      "torch.Size([64, 512])\n",
      "torch.Size([64, 512])\n",
      "fc통과: torch.Size([64, 507])\n",
      "torch.Size([64, 512])\n",
      "torch.Size([64, 128, 33, 1])\n",
      "torch.Size([64, 1, 128, 33])\n",
      "torch.Size([64, 64, 128, 16])\n",
      "torch.Size([64, 64, 128, 16])\n",
      "torch.Size([64, 128, 128, 8])\n",
      "torch.Size([64, 512, 32, 2])\n",
      "torch.Size([64, 512])\n",
      "torch.Size([64, 512])\n",
      "torch.Size([64, 512])\n",
      "fc통과: torch.Size([64, 507])\n",
      "torch.Size([64, 512])\n"
     ]
    },
    {
     "name": "stderr",
     "output_type": "stream",
     "text": [
      " 52%|██████████████████████▌                    | 21/40 [00:04<00:03,  4.77it/s]"
     ]
    },
    {
     "name": "stdout",
     "output_type": "stream",
     "text": [
      "torch.Size([64, 128, 35, 1])\n",
      "torch.Size([64, 1, 128, 35])\n",
      "torch.Size([64, 64, 128, 17])\n",
      "torch.Size([64, 64, 128, 17])\n",
      "torch.Size([64, 128, 128, 8])\n",
      "torch.Size([64, 512, 32, 2])\n",
      "torch.Size([64, 512])\n",
      "torch.Size([64, 512])\n",
      "torch.Size([64, 512])\n",
      "fc통과: torch.Size([64, 507])\n",
      "torch.Size([64, 512])\n",
      "torch.Size([64, 128, 35, 1])\n",
      "torch.Size([64, 1, 128, 35])\n",
      "torch.Size([64, 64, 128, 17])\n",
      "torch.Size([64, 64, 128, 17])\n"
     ]
    },
    {
     "name": "stderr",
     "output_type": "stream",
     "text": [
      " 55%|███████████████████████▋                   | 22/40 [00:05<00:03,  4.84it/s]"
     ]
    },
    {
     "name": "stdout",
     "output_type": "stream",
     "text": [
      "torch.Size([64, 128, 128, 8])\n",
      "torch.Size([64, 512, 32, 2])\n",
      "torch.Size([64, 512])\n",
      "torch.Size([64, 512])\n",
      "torch.Size([64, 512])\n",
      "fc통과: torch.Size([64, 507])\n",
      "torch.Size([64, 512])\n",
      "torch.Size([64, 128, 32, 1])\n",
      "torch.Size([64, 1, 128, 32])\n",
      "torch.Size([64, 64, 128, 16])\n",
      "torch.Size([64, 64, 128, 16])\n",
      "torch.Size([64, 128, 128, 8])\n",
      "torch.Size([64, 512, 32, 2])\n",
      "torch.Size([64, 512])\n",
      "torch.Size([64, 512])\n",
      "torch.Size([64, 512])\n",
      "fc통과: torch.Size([64, 507])\n"
     ]
    },
    {
     "name": "stderr",
     "output_type": "stream",
     "text": [
      " 57%|████████████████████████▋                  | 23/40 [00:05<00:03,  4.96it/s]"
     ]
    },
    {
     "name": "stdout",
     "output_type": "stream",
     "text": [
      "torch.Size([64, 512])\n",
      "torch.Size([64, 128, 37, 1])\n",
      "torch.Size([64, 1, 128, 37])\n",
      "torch.Size([64, 64, 128, 18])\n",
      "torch.Size([64, 64, 128, 18])\n",
      "torch.Size([64, 128, 128, 9])\n",
      "torch.Size([64, 512, 32, 2])\n",
      "torch.Size([64, 512])\n",
      "torch.Size([64, 512])\n",
      "torch.Size([64, 512])\n",
      "fc통과: torch.Size([64, 507])\n",
      "torch.Size([64, 512])\n"
     ]
    },
    {
     "name": "stderr",
     "output_type": "stream",
     "text": [
      " 60%|█████████████████████████▊                 | 24/40 [00:05<00:03,  4.90it/s]"
     ]
    },
    {
     "name": "stdout",
     "output_type": "stream",
     "text": [
      "torch.Size([64, 128, 47, 1])\n",
      "torch.Size([64, 1, 128, 47])\n",
      "torch.Size([64, 64, 128, 23])\n",
      "torch.Size([64, 64, 128, 23])\n",
      "torch.Size([64, 128, 128, 11])\n",
      "torch.Size([64, 512, 32, 2])\n",
      "torch.Size([64, 512])\n",
      "torch.Size([64, 512])\n",
      "torch.Size([64, 512])\n",
      "fc통과: torch.Size([64, 507])\n",
      "torch.Size([64, 512])\n"
     ]
    },
    {
     "name": "stderr",
     "output_type": "stream",
     "text": [
      " 65%|███████████████████████████▉               | 26/40 [00:05<00:02,  4.75it/s]"
     ]
    },
    {
     "name": "stdout",
     "output_type": "stream",
     "text": [
      "torch.Size([64, 128, 34, 1])\n",
      "torch.Size([64, 1, 128, 34])\n",
      "torch.Size([64, 64, 128, 17])\n",
      "torch.Size([64, 64, 128, 17])\n",
      "torch.Size([64, 128, 128, 8])\n",
      "torch.Size([64, 512, 32, 2])\n",
      "torch.Size([64, 512])\n",
      "torch.Size([64, 512])\n",
      "torch.Size([64, 512])\n",
      "fc통과: torch.Size([64, 507])\n",
      "torch.Size([64, 512])\n",
      "torch.Size([64, 128, 24, 1])\n",
      "torch.Size([64, 1, 128, 24])\n",
      "torch.Size([64, 64, 128, 12])\n",
      "torch.Size([64, 64, 128, 12])\n",
      "torch.Size([64, 128, 128, 6])\n",
      "torch.Size([64, 512, 32, 1])\n",
      "torch.Size([64, 512])\n",
      "torch.Size([64, 512])\n",
      "torch.Size([64, 512])\n",
      "fc통과: torch.Size([64, 507])\n",
      "torch.Size([64, 512])\n"
     ]
    },
    {
     "name": "stderr",
     "output_type": "stream",
     "text": [
      " 70%|██████████████████████████████             | 28/40 [00:06<00:02,  5.30it/s]"
     ]
    },
    {
     "name": "stdout",
     "output_type": "stream",
     "text": [
      "torch.Size([64, 128, 25, 1])\n",
      "torch.Size([64, 1, 128, 25])\n",
      "torch.Size([64, 64, 128, 12])\n",
      "torch.Size([64, 64, 128, 12])\n",
      "torch.Size([64, 128, 128, 6])\n",
      "torch.Size([64, 512, 32, 1])\n",
      "torch.Size([64, 512])\n",
      "torch.Size([64, 512])\n",
      "torch.Size([64, 512])\n",
      "fc통과: torch.Size([64, 507])\n",
      "torch.Size([64, 512])\n",
      "torch.Size([64, 128, 30, 1])\n",
      "torch.Size([64, 1, 128, 30])\n",
      "torch.Size([64, 64, 128, 15])\n",
      "torch.Size([64, 64, 128, 15])\n",
      "torch.Size([64, 128, 128, 7])\n",
      "torch.Size([64, 512, 32, 1])\n",
      "torch.Size([64, 512])\n",
      "torch.Size([64, 512])\n",
      "torch.Size([64, 512])\n",
      "fc통과: torch.Size([64, 507])\n",
      "torch.Size([64, 512])\n"
     ]
    },
    {
     "name": "stderr",
     "output_type": "stream",
     "text": [
      " 72%|███████████████████████████████▏           | 29/40 [00:06<00:02,  5.31it/s]"
     ]
    },
    {
     "name": "stdout",
     "output_type": "stream",
     "text": [
      "torch.Size([64, 128, 37, 1])\n",
      "torch.Size([64, 1, 128, 37])\n",
      "torch.Size([64, 64, 128, 18])\n",
      "torch.Size([64, 64, 128, 18])\n",
      "torch.Size([64, 128, 128, 9])\n",
      "torch.Size([64, 512, 32, 2])\n",
      "torch.Size([64, 512])\n",
      "torch.Size([64, 512])\n",
      "torch.Size([64, 512])\n",
      "fc통과: torch.Size([64, 507])\n",
      "torch.Size([64, 512])\n"
     ]
    },
    {
     "name": "stderr",
     "output_type": "stream",
     "text": [
      " 78%|█████████████████████████████████▎         | 31/40 [00:06<00:01,  5.15it/s]"
     ]
    },
    {
     "name": "stdout",
     "output_type": "stream",
     "text": [
      "torch.Size([64, 128, 33, 1])\n",
      "torch.Size([64, 1, 128, 33])\n",
      "torch.Size([64, 64, 128, 16])\n",
      "torch.Size([64, 64, 128, 16])\n",
      "torch.Size([64, 128, 128, 8])\n",
      "torch.Size([64, 512, 32, 2])\n",
      "torch.Size([64, 512])\n",
      "torch.Size([64, 512])\n",
      "torch.Size([64, 512])\n",
      "fc통과: torch.Size([64, 507])\n",
      "torch.Size([64, 512])\n",
      "torch.Size([64, 128, 36, 1])\n",
      "torch.Size([64, 1, 128, 36])\n",
      "torch.Size([64, 64, 128, 18])\n",
      "torch.Size([64, 64, 128, 18])\n",
      "torch.Size([64, 128, 128, 9])\n",
      "torch.Size([64, 512, 32, 2])\n",
      "torch.Size([64, 512])\n",
      "torch.Size([64, 512])\n",
      "torch.Size([64, 512])\n",
      "fc통과: torch.Size([64, 507])\n",
      "torch.Size([64, 512])\n"
     ]
    },
    {
     "name": "stderr",
     "output_type": "stream",
     "text": [
      " 82%|███████████████████████████████████▍       | 33/40 [00:07<00:01,  5.06it/s]"
     ]
    },
    {
     "name": "stdout",
     "output_type": "stream",
     "text": [
      "torch.Size([64, 128, 34, 1])\n",
      "torch.Size([64, 1, 128, 34])\n",
      "torch.Size([64, 64, 128, 17])\n",
      "torch.Size([64, 64, 128, 17])\n",
      "torch.Size([64, 128, 128, 8])\n",
      "torch.Size([64, 512, 32, 2])\n",
      "torch.Size([64, 512])\n",
      "torch.Size([64, 512])\n",
      "torch.Size([64, 512])\n",
      "fc통과: torch.Size([64, 507])\n",
      "torch.Size([64, 512])\n",
      "torch.Size([64, 128, 33, 1])\n",
      "torch.Size([64, 1, 128, 33])\n",
      "torch.Size([64, 64, 128, 16])\n",
      "torch.Size([64, 64, 128, 16])\n",
      "torch.Size([64, 128, 128, 8])\n",
      "torch.Size([64, 512, 32, 2])\n",
      "torch.Size([64, 512])\n",
      "torch.Size([64, 512])\n",
      "torch.Size([64, 512])\n",
      "fc통과: torch.Size([64, 507])\n",
      "torch.Size([64, 512])\n"
     ]
    },
    {
     "name": "stderr",
     "output_type": "stream",
     "text": [
      " 88%|█████████████████████████████████████▋     | 35/40 [00:07<00:00,  5.14it/s]"
     ]
    },
    {
     "name": "stdout",
     "output_type": "stream",
     "text": [
      "torch.Size([64, 128, 32, 1])\n",
      "torch.Size([64, 1, 128, 32])\n",
      "torch.Size([64, 64, 128, 16])\n",
      "torch.Size([64, 64, 128, 16])\n",
      "torch.Size([64, 128, 128, 8])\n",
      "torch.Size([64, 512, 32, 2])\n",
      "torch.Size([64, 512])\n",
      "torch.Size([64, 512])\n",
      "torch.Size([64, 512])\n",
      "fc통과: torch.Size([64, 507])\n",
      "torch.Size([64, 512])\n",
      "torch.Size([64, 128, 36, 1])\n",
      "torch.Size([64, 1, 128, 36])\n",
      "torch.Size([64, 64, 128, 18])\n",
      "torch.Size([64, 64, 128, 18])\n",
      "torch.Size([64, 128, 128, 9])\n",
      "torch.Size([64, 512, 32, 2])\n",
      "torch.Size([64, 512])\n",
      "torch.Size([64, 512])\n",
      "torch.Size([64, 512])\n",
      "fc통과: torch.Size([64, 507])\n",
      "torch.Size([64, 512])\n"
     ]
    },
    {
     "name": "stderr",
     "output_type": "stream",
     "text": [
      " 92%|███████████████████████████████████████▊   | 37/40 [00:08<00:00,  5.05it/s]"
     ]
    },
    {
     "name": "stdout",
     "output_type": "stream",
     "text": [
      "torch.Size([64, 128, 34, 1])\n",
      "torch.Size([64, 1, 128, 34])\n",
      "torch.Size([64, 64, 128, 17])\n",
      "torch.Size([64, 64, 128, 17])\n",
      "torch.Size([64, 128, 128, 8])\n",
      "torch.Size([64, 512, 32, 2])\n",
      "torch.Size([64, 512])\n",
      "torch.Size([64, 512])\n",
      "torch.Size([64, 512])\n",
      "fc통과: torch.Size([64, 507])\n",
      "torch.Size([64, 512])\n",
      "torch.Size([64, 128, 35, 1])\n",
      "torch.Size([64, 1, 128, 35])\n",
      "torch.Size([64, 64, 128, 17])\n",
      "torch.Size([64, 64, 128, 17])\n",
      "torch.Size([64, 128, 128, 8])\n",
      "torch.Size([64, 512, 32, 2])\n",
      "torch.Size([64, 512])\n",
      "torch.Size([64, 512])\n",
      "torch.Size([64, 512])\n",
      "fc통과: torch.Size([64, 507])\n",
      "torch.Size([64, 512])\n"
     ]
    },
    {
     "name": "stderr",
     "output_type": "stream",
     "text": [
      " 98%|█████████████████████████████████████████▉ | 39/40 [00:08<00:00,  5.08it/s]"
     ]
    },
    {
     "name": "stdout",
     "output_type": "stream",
     "text": [
      "torch.Size([64, 128, 33, 1])\n",
      "torch.Size([64, 1, 128, 33])\n",
      "torch.Size([64, 64, 128, 16])\n",
      "torch.Size([64, 64, 128, 16])\n",
      "torch.Size([64, 128, 128, 8])\n",
      "torch.Size([64, 512, 32, 2])\n",
      "torch.Size([64, 512])\n",
      "torch.Size([64, 512])\n",
      "torch.Size([64, 512])\n",
      "fc통과: torch.Size([64, 507])\n",
      "torch.Size([64, 512])\n",
      "torch.Size([36, 128, 33, 1])\n",
      "torch.Size([36, 1, 128, 33])\n",
      "torch.Size([36, 64, 128, 16])\n",
      "torch.Size([36, 64, 128, 16])\n",
      "torch.Size([36, 128, 128, 8])\n",
      "torch.Size([36, 512, 32, 2])\n",
      "torch.Size([36, 512])\n",
      "torch.Size([36, 512])\n",
      "torch.Size([36, 512])\n",
      "fc통과: torch.Size([36, 507])\n",
      "torch.Size([36, 512])\n"
     ]
    },
    {
     "name": "stderr",
     "output_type": "stream",
     "text": [
      "100%|███████████████████████████████████████████| 40/40 [00:08<00:00,  4.68it/s]"
     ]
    },
    {
     "name": "stdout",
     "output_type": "stream",
     "text": [
      "07-04 16:51 [MainProcess, 23066] [INFO ]  Iteration:12, loss = 0.575358, acc = 100.000 \n",
      "07-04 16:51 [MainProcess, 23066] [INFO ]  Iteration:12, loss = 0.575358, acc = 100.000 \n",
      "07-04 16:51 [MainProcess, 23066] [INFO ]  Iteration:12, loss = 0.575358, acc = 100.000 \n",
      "07-04 16:51 [MainProcess, 23066] [INFO ]  Iteration:12, loss = 0.575358, acc = 100.000 \n",
      "07-04 16:51 [MainProcess, 23066] [INFO ]  Iteration:12, loss = 0.575358, acc = 100.000 \n",
      "07-04 16:51 [MainProcess, 23066] [INFO ]  Iteration:12, loss = 0.575358, acc = 100.000 \n",
      "07-04 16:51 [MainProcess, 23066] [INFO ]  Iteration:12, loss = 0.575358, acc = 100.000 \n",
      "07-04 16:51 [MainProcess, 23066] [INFO ]  Iteration:12, loss = 0.575358, acc = 100.000 \n"
     ]
    },
    {
     "name": "stderr",
     "output_type": "stream",
     "text": [
      "\n",
      "  0%|                                                    | 0/40 [00:00<?, ?it/s]"
     ]
    },
    {
     "name": "stdout",
     "output_type": "stream",
     "text": [
      "torch.Size([64, 128, 34, 1])\n",
      "torch.Size([64, 1, 128, 34])\n",
      "torch.Size([64, 64, 128, 17])\n",
      "torch.Size([64, 64, 128, 17])\n",
      "torch.Size([64, 128, 128, 8])\n",
      "torch.Size([64, 512, 32, 2])\n",
      "torch.Size([64, 512])\n",
      "torch.Size([64, 512])\n",
      "torch.Size([64, 512])\n",
      "fc통과: torch.Size([64, 507])\n",
      "torch.Size([64, 512])\n"
     ]
    },
    {
     "name": "stderr",
     "output_type": "stream",
     "text": [
      "  2%|█                                           | 1/40 [00:00<00:07,  5.07it/s]"
     ]
    },
    {
     "name": "stdout",
     "output_type": "stream",
     "text": [
      "torch.Size([64, 128, 39, 1])\n",
      "torch.Size([64, 1, 128, 39])\n",
      "torch.Size([64, 64, 128, 19])\n",
      "torch.Size([64, 64, 128, 19])\n",
      "torch.Size([64, 128, 128, 9])\n",
      "torch.Size([64, 512, 32, 2])\n",
      "torch.Size([64, 512])\n",
      "torch.Size([64, 512])\n",
      "torch.Size([64, 512])\n",
      "fc통과: torch.Size([64, 507])\n",
      "torch.Size([64, 512])\n"
     ]
    },
    {
     "name": "stderr",
     "output_type": "stream",
     "text": [
      "  5%|██▏                                         | 2/40 [00:00<00:07,  4.81it/s]"
     ]
    },
    {
     "name": "stdout",
     "output_type": "stream",
     "text": [
      "torch.Size([64, 128, 48, 1])\n",
      "torch.Size([64, 1, 128, 48])\n",
      "torch.Size([64, 64, 128, 24])\n",
      "torch.Size([64, 64, 128, 24])\n",
      "torch.Size([64, 128, 128, 12])\n",
      "torch.Size([64, 512, 32, 3])\n",
      "torch.Size([64, 512])\n",
      "torch.Size([64, 512])\n",
      "torch.Size([64, 512])\n",
      "fc통과: torch.Size([64, 507])\n",
      "torch.Size([64, 512])\n"
     ]
    },
    {
     "name": "stderr",
     "output_type": "stream",
     "text": [
      "  8%|███▎                                        | 3/40 [00:00<00:08,  4.40it/s]"
     ]
    },
    {
     "name": "stdout",
     "output_type": "stream",
     "text": [
      "torch.Size([64, 128, 40, 1])\n",
      "torch.Size([64, 1, 128, 40])\n",
      "torch.Size([64, 64, 128, 20])\n",
      "torch.Size([64, 64, 128, 20])\n",
      "torch.Size([64, 128, 128, 10])\n",
      "torch.Size([64, 512, 32, 2])\n",
      "torch.Size([64, 512])\n",
      "torch.Size([64, 512])\n",
      "torch.Size([64, 512])\n",
      "fc통과: torch.Size([64, 507])\n",
      "torch.Size([64, 512])\n"
     ]
    },
    {
     "name": "stderr",
     "output_type": "stream",
     "text": [
      " 10%|████▍                                       | 4/40 [00:00<00:08,  4.40it/s]"
     ]
    },
    {
     "name": "stdout",
     "output_type": "stream",
     "text": [
      "torch.Size([64, 128, 42, 1])\n",
      "torch.Size([64, 1, 128, 42])\n",
      "torch.Size([64, 64, 128, 21])\n",
      "torch.Size([64, 64, 128, 21])\n",
      "torch.Size([64, 128, 128, 10])\n",
      "torch.Size([64, 512, 32, 2])\n",
      "torch.Size([64, 512])\n",
      "torch.Size([64, 512])\n",
      "torch.Size([64, 512])\n",
      "fc통과: torch.Size([64, 507])\n",
      "torch.Size([64, 512])\n"
     ]
    },
    {
     "name": "stderr",
     "output_type": "stream",
     "text": [
      " 12%|█████▌                                      | 5/40 [00:01<00:08,  4.34it/s]"
     ]
    },
    {
     "name": "stdout",
     "output_type": "stream",
     "text": [
      "torch.Size([64, 128, 52, 1])\n",
      "torch.Size([64, 1, 128, 52])\n",
      "torch.Size([64, 64, 128, 26])\n",
      "torch.Size([64, 64, 128, 26])\n",
      "torch.Size([64, 128, 128, 13])\n",
      "torch.Size([64, 512, 32, 3])\n",
      "torch.Size([64, 512])\n",
      "torch.Size([64, 512])\n",
      "torch.Size([64, 512])\n",
      "fc통과: torch.Size([64, 507])\n",
      "torch.Size([64, 512])\n"
     ]
    },
    {
     "name": "stderr",
     "output_type": "stream",
     "text": [
      " 15%|██████▌                                     | 6/40 [00:01<00:08,  4.10it/s]"
     ]
    },
    {
     "name": "stdout",
     "output_type": "stream",
     "text": [
      "torch.Size([64, 128, 40, 1])\n",
      "torch.Size([64, 1, 128, 40])\n",
      "torch.Size([64, 64, 128, 20])\n",
      "torch.Size([64, 64, 128, 20])\n",
      "torch.Size([64, 128, 128, 10])\n",
      "torch.Size([64, 512, 32, 2])\n",
      "torch.Size([64, 512])\n",
      "torch.Size([64, 512])\n",
      "torch.Size([64, 512])\n",
      "fc통과: torch.Size([64, 507])\n",
      "torch.Size([64, 512])\n"
     ]
    },
    {
     "name": "stderr",
     "output_type": "stream",
     "text": [
      " 18%|███████▋                                    | 7/40 [00:01<00:07,  4.19it/s]"
     ]
    },
    {
     "name": "stdout",
     "output_type": "stream",
     "text": [
      "torch.Size([64, 128, 64, 1])\n",
      "torch.Size([64, 1, 128, 64])\n",
      "torch.Size([64, 64, 128, 32])\n",
      "torch.Size([64, 64, 128, 32])\n",
      "torch.Size([64, 128, 128, 16])\n",
      "torch.Size([64, 512, 32, 4])\n",
      "torch.Size([64, 512])\n",
      "torch.Size([64, 512])\n",
      "torch.Size([64, 512])\n",
      "fc통과: torch.Size([64, 507])\n",
      "torch.Size([64, 512])\n"
     ]
    },
    {
     "name": "stderr",
     "output_type": "stream",
     "text": [
      " 20%|████████▊                                   | 8/40 [00:01<00:07,  4.04it/s]"
     ]
    },
    {
     "name": "stdout",
     "output_type": "stream",
     "text": [
      "torch.Size([64, 128, 42, 1])\n",
      "torch.Size([64, 1, 128, 42])\n",
      "torch.Size([64, 64, 128, 21])\n",
      "torch.Size([64, 64, 128, 21])\n",
      "torch.Size([64, 128, 128, 10])\n",
      "torch.Size([64, 512, 32, 2])\n",
      "torch.Size([64, 512])\n",
      "torch.Size([64, 512])\n",
      "torch.Size([64, 512])\n",
      "fc통과: torch.Size([64, 507])\n",
      "torch.Size([64, 512])\n"
     ]
    },
    {
     "name": "stderr",
     "output_type": "stream",
     "text": [
      " 22%|█████████▉                                  | 9/40 [00:02<00:07,  4.11it/s]"
     ]
    },
    {
     "name": "stdout",
     "output_type": "stream",
     "text": [
      "torch.Size([64, 128, 38, 1])\n",
      "torch.Size([64, 1, 128, 38])\n",
      "torch.Size([64, 64, 128, 19])\n",
      "torch.Size([64, 64, 128, 19])\n",
      "torch.Size([64, 128, 128, 9])\n",
      "torch.Size([64, 512, 32, 2])\n",
      "torch.Size([64, 512])\n",
      "torch.Size([64, 512])\n",
      "torch.Size([64, 512])\n",
      "fc통과: torch.Size([64, 507])\n",
      "torch.Size([64, 512])\n"
     ]
    },
    {
     "name": "stderr",
     "output_type": "stream",
     "text": [
      " 25%|██████████▊                                | 10/40 [00:02<00:07,  4.27it/s]"
     ]
    },
    {
     "name": "stdout",
     "output_type": "stream",
     "text": [
      "torch.Size([64, 128, 54, 1])\n",
      "torch.Size([64, 1, 128, 54])\n",
      "torch.Size([64, 64, 128, 27])\n",
      "torch.Size([64, 64, 128, 27])\n",
      "torch.Size([64, 128, 128, 13])\n",
      "torch.Size([64, 512, 32, 3])\n",
      "torch.Size([64, 512])\n",
      "torch.Size([64, 512])\n",
      "torch.Size([64, 512])\n",
      "fc통과: torch.Size([64, 507])\n",
      "torch.Size([64, 512])\n"
     ]
    },
    {
     "name": "stderr",
     "output_type": "stream",
     "text": [
      " 28%|███████████▊                               | 11/40 [00:02<00:07,  4.04it/s]"
     ]
    },
    {
     "name": "stdout",
     "output_type": "stream",
     "text": [
      "torch.Size([64, 128, 58, 1])\n",
      "torch.Size([64, 1, 128, 58])\n",
      "torch.Size([64, 64, 128, 29])\n",
      "torch.Size([64, 64, 128, 29])\n",
      "torch.Size([64, 128, 128, 14])\n",
      "torch.Size([64, 512, 32, 3])\n",
      "torch.Size([64, 512])\n",
      "torch.Size([64, 512])\n",
      "torch.Size([64, 512])\n",
      "fc통과: torch.Size([64, 507])\n",
      "torch.Size([64, 512])\n"
     ]
    },
    {
     "name": "stderr",
     "output_type": "stream",
     "text": [
      " 30%|████████████▉                              | 12/40 [00:02<00:07,  3.82it/s]"
     ]
    },
    {
     "name": "stdout",
     "output_type": "stream",
     "text": [
      "torch.Size([64, 128, 61, 1])\n",
      "torch.Size([64, 1, 128, 61])\n",
      "torch.Size([64, 64, 128, 30])\n",
      "torch.Size([64, 64, 128, 30])\n",
      "torch.Size([64, 128, 128, 15])\n",
      "torch.Size([64, 512, 32, 3])\n",
      "torch.Size([64, 512])\n",
      "torch.Size([64, 512])\n",
      "torch.Size([64, 512])\n",
      "fc통과: torch.Size([64, 507])\n",
      "torch.Size([64, 512])\n"
     ]
    },
    {
     "name": "stderr",
     "output_type": "stream",
     "text": [
      " 32%|█████████████▉                             | 13/40 [00:03<00:07,  3.63it/s]"
     ]
    },
    {
     "name": "stdout",
     "output_type": "stream",
     "text": [
      "torch.Size([64, 128, 37, 1])\n",
      "torch.Size([64, 1, 128, 37])\n",
      "torch.Size([64, 64, 128, 18])\n",
      "torch.Size([64, 64, 128, 18])\n",
      "torch.Size([64, 128, 128, 9])\n",
      "torch.Size([64, 512, 32, 2])\n",
      "torch.Size([64, 512])\n",
      "torch.Size([64, 512])\n",
      "torch.Size([64, 512])\n",
      "fc통과: torch.Size([64, 507])\n",
      "torch.Size([64, 512])\n"
     ]
    },
    {
     "name": "stderr",
     "output_type": "stream",
     "text": [
      " 35%|███████████████                            | 14/40 [00:03<00:06,  3.91it/s]"
     ]
    },
    {
     "name": "stdout",
     "output_type": "stream",
     "text": [
      "torch.Size([64, 128, 41, 1])\n",
      "torch.Size([64, 1, 128, 41])\n",
      "torch.Size([64, 64, 128, 20])\n",
      "torch.Size([64, 64, 128, 20])\n",
      "torch.Size([64, 128, 128, 10])\n",
      "torch.Size([64, 512, 32, 2])\n",
      "torch.Size([64, 512])\n",
      "torch.Size([64, 512])\n",
      "torch.Size([64, 512])\n",
      "fc통과: torch.Size([64, 507])\n",
      "torch.Size([64, 512])\n"
     ]
    },
    {
     "name": "stderr",
     "output_type": "stream",
     "text": [
      " 40%|█████████████████▏                         | 16/40 [00:03<00:05,  4.29it/s]"
     ]
    },
    {
     "name": "stdout",
     "output_type": "stream",
     "text": [
      "torch.Size([64, 128, 35, 1])\n",
      "torch.Size([64, 1, 128, 35])\n",
      "torch.Size([64, 64, 128, 17])\n",
      "torch.Size([64, 64, 128, 17])\n",
      "torch.Size([64, 128, 128, 8])\n",
      "torch.Size([64, 512, 32, 2])\n",
      "torch.Size([64, 512])\n",
      "torch.Size([64, 512])\n",
      "torch.Size([64, 512])\n",
      "fc통과: torch.Size([64, 507])\n",
      "torch.Size([64, 512])\n",
      "torch.Size([64, 128, 48, 1])\n",
      "torch.Size([64, 1, 128, 48])\n",
      "torch.Size([64, 64, 128, 24])\n",
      "torch.Size([64, 64, 128, 24])\n",
      "torch.Size([64, 128, 128, 12])\n",
      "torch.Size([64, 512, 32, 3])\n",
      "torch.Size([64, 512])\n",
      "torch.Size([64, 512])\n",
      "torch.Size([64, 512])\n",
      "fc통과: torch.Size([64, 507])\n",
      "torch.Size([64, 512])\n"
     ]
    },
    {
     "name": "stderr",
     "output_type": "stream",
     "text": [
      " 42%|██████████████████▎                        | 17/40 [00:04<00:05,  4.20it/s]"
     ]
    },
    {
     "name": "stdout",
     "output_type": "stream",
     "text": [
      "torch.Size([64, 128, 40, 1])\n",
      "torch.Size([64, 1, 128, 40])\n",
      "torch.Size([64, 64, 128, 20])\n",
      "torch.Size([64, 64, 128, 20])\n",
      "torch.Size([64, 128, 128, 10])\n",
      "torch.Size([64, 512, 32, 2])\n",
      "torch.Size([64, 512])\n",
      "torch.Size([64, 512])\n",
      "torch.Size([64, 512])\n",
      "fc통과: torch.Size([64, 507])\n",
      "torch.Size([64, 512])\n"
     ]
    },
    {
     "name": "stderr",
     "output_type": "stream",
     "text": [
      " 48%|████████████████████▍                      | 19/40 [00:04<00:04,  4.50it/s]"
     ]
    },
    {
     "name": "stdout",
     "output_type": "stream",
     "text": [
      "torch.Size([64, 128, 33, 1])\n",
      "torch.Size([64, 1, 128, 33])\n",
      "torch.Size([64, 64, 128, 16])\n",
      "torch.Size([64, 64, 128, 16])\n",
      "torch.Size([64, 128, 128, 8])\n",
      "torch.Size([64, 512, 32, 2])\n",
      "torch.Size([64, 512])\n",
      "torch.Size([64, 512])\n",
      "torch.Size([64, 512])\n",
      "fc통과: torch.Size([64, 507])\n",
      "torch.Size([64, 512])\n",
      "torch.Size([64, 128, 33, 1])\n",
      "torch.Size([64, 1, 128, 33])\n",
      "torch.Size([64, 64, 128, 16])\n",
      "torch.Size([64, 64, 128, 16])\n",
      "torch.Size([64, 128, 128, 8])\n",
      "torch.Size([64, 512, 32, 2])\n",
      "torch.Size([64, 512])\n",
      "torch.Size([64, 512])\n",
      "torch.Size([64, 512])\n",
      "fc통과: torch.Size([64, 507])\n",
      "torch.Size([64, 512])\n"
     ]
    },
    {
     "name": "stderr",
     "output_type": "stream",
     "text": [
      " 52%|██████████████████████▌                    | 21/40 [00:04<00:03,  4.78it/s]"
     ]
    },
    {
     "name": "stdout",
     "output_type": "stream",
     "text": [
      "torch.Size([64, 128, 35, 1])\n",
      "torch.Size([64, 1, 128, 35])\n",
      "torch.Size([64, 64, 128, 17])\n",
      "torch.Size([64, 64, 128, 17])\n",
      "torch.Size([64, 128, 128, 8])\n",
      "torch.Size([64, 512, 32, 2])\n",
      "torch.Size([64, 512])\n",
      "torch.Size([64, 512])\n",
      "torch.Size([64, 512])\n",
      "fc통과: torch.Size([64, 507])\n",
      "torch.Size([64, 512])\n",
      "torch.Size([64, 128, 35, 1])\n",
      "torch.Size([64, 1, 128, 35])\n",
      "torch.Size([64, 64, 128, 17])\n",
      "torch.Size([64, 64, 128, 17])\n",
      "torch.Size([64, 128, 128, 8])\n",
      "torch.Size([64, 512, 32, 2])\n"
     ]
    },
    {
     "name": "stderr",
     "output_type": "stream",
     "text": [
      " 55%|███████████████████████▋                   | 22/40 [00:05<00:03,  4.85it/s]"
     ]
    },
    {
     "name": "stdout",
     "output_type": "stream",
     "text": [
      "torch.Size([64, 512])\n",
      "torch.Size([64, 512])\n",
      "torch.Size([64, 512])\n",
      "fc통과: torch.Size([64, 507])\n",
      "torch.Size([64, 512])\n",
      "torch.Size([64, 128, 32, 1])\n",
      "torch.Size([64, 1, 128, 32])\n",
      "torch.Size([64, 64, 128, 16])\n",
      "torch.Size([64, 64, 128, 16])\n",
      "torch.Size([64, 128, 128, 8])\n",
      "torch.Size([64, 512, 32, 2])\n",
      "torch.Size([64, 512])\n",
      "torch.Size([64, 512])\n",
      "torch.Size([64, 512])\n",
      "fc통과: torch.Size([64, 507])\n",
      "torch.Size([64, 512])\n"
     ]
    },
    {
     "name": "stderr",
     "output_type": "stream",
     "text": [
      " 57%|████████████████████████▋                  | 23/40 [00:05<00:03,  4.96it/s]"
     ]
    },
    {
     "name": "stdout",
     "output_type": "stream",
     "text": [
      "torch.Size([64, 128, 37, 1])\n",
      "torch.Size([64, 1, 128, 37])\n",
      "torch.Size([64, 64, 128, 18])\n",
      "torch.Size([64, 64, 128, 18])\n",
      "torch.Size([64, 128, 128, 9])\n",
      "torch.Size([64, 512, 32, 2])\n",
      "torch.Size([64, 512])\n",
      "torch.Size([64, 512])\n",
      "torch.Size([64, 512])\n",
      "fc통과: torch.Size([64, 507])\n",
      "torch.Size([64, 512])\n"
     ]
    },
    {
     "name": "stderr",
     "output_type": "stream",
     "text": [
      " 60%|█████████████████████████▊                 | 24/40 [00:05<00:03,  4.90it/s]"
     ]
    },
    {
     "name": "stdout",
     "output_type": "stream",
     "text": [
      "torch.Size([64, 128, 47, 1])\n",
      "torch.Size([64, 1, 128, 47])\n",
      "torch.Size([64, 64, 128, 23])\n",
      "torch.Size([64, 64, 128, 23])\n",
      "torch.Size([64, 128, 128, 11])\n",
      "torch.Size([64, 512, 32, 2])\n",
      "torch.Size([64, 512])\n",
      "torch.Size([64, 512])\n",
      "torch.Size([64, 512])\n",
      "fc통과: torch.Size([64, 507])\n",
      "torch.Size([64, 512])\n"
     ]
    },
    {
     "name": "stderr",
     "output_type": "stream",
     "text": [
      " 65%|███████████████████████████▉               | 26/40 [00:05<00:02,  4.74it/s]"
     ]
    },
    {
     "name": "stdout",
     "output_type": "stream",
     "text": [
      "torch.Size([64, 128, 34, 1])\n",
      "torch.Size([64, 1, 128, 34])\n",
      "torch.Size([64, 64, 128, 17])\n",
      "torch.Size([64, 64, 128, 17])\n",
      "torch.Size([64, 128, 128, 8])\n",
      "torch.Size([64, 512, 32, 2])\n",
      "torch.Size([64, 512])\n",
      "torch.Size([64, 512])\n",
      "torch.Size([64, 512])\n",
      "fc통과: torch.Size([64, 507])\n",
      "torch.Size([64, 512])\n",
      "torch.Size([64, 128, 24, 1])\n",
      "torch.Size([64, 1, 128, 24])\n",
      "torch.Size([64, 64, 128, 12])\n",
      "torch.Size([64, 64, 128, 12])\n",
      "torch.Size([64, 128, 128, 6])\n",
      "torch.Size([64, 512, 32, 1])\n",
      "torch.Size([64, 512])\n",
      "torch.Size([64, 512])\n",
      "torch.Size([64, 512])\n",
      "fc통과: torch.Size([64, 507])\n",
      "torch.Size([64, 512])\n"
     ]
    },
    {
     "name": "stderr",
     "output_type": "stream",
     "text": [
      " 70%|██████████████████████████████             | 28/40 [00:06<00:02,  5.28it/s]"
     ]
    },
    {
     "name": "stdout",
     "output_type": "stream",
     "text": [
      "torch.Size([64, 128, 25, 1])\n",
      "torch.Size([64, 1, 128, 25])\n",
      "torch.Size([64, 64, 128, 12])\n",
      "torch.Size([64, 64, 128, 12])\n",
      "torch.Size([64, 128, 128, 6])\n",
      "torch.Size([64, 512, 32, 1])\n",
      "torch.Size([64, 512])\n",
      "torch.Size([64, 512])\n",
      "torch.Size([64, 512])\n",
      "fc통과: torch.Size([64, 507])\n",
      "torch.Size([64, 512])\n",
      "torch.Size([64, 128, 30, 1])\n",
      "torch.Size([64, 1, 128, 30])\n",
      "torch.Size([64, 64, 128, 15])\n",
      "torch.Size([64, 64, 128, 15])\n",
      "torch.Size([64, 128, 128, 7])\n",
      "torch.Size([64, 512, 32, 1])\n",
      "torch.Size([64, 512])\n",
      "torch.Size([64, 512])\n",
      "torch.Size([64, 512])\n",
      "fc통과: torch.Size([64, 507])\n",
      "torch.Size([64, 512])\n"
     ]
    },
    {
     "name": "stderr",
     "output_type": "stream",
     "text": [
      " 72%|███████████████████████████████▏           | 29/40 [00:06<00:02,  5.30it/s]"
     ]
    },
    {
     "name": "stdout",
     "output_type": "stream",
     "text": [
      "torch.Size([64, 128, 37, 1])\n",
      "torch.Size([64, 1, 128, 37])\n",
      "torch.Size([64, 64, 128, 18])\n",
      "torch.Size([64, 64, 128, 18])\n",
      "torch.Size([64, 128, 128, 9])\n",
      "torch.Size([64, 512, 32, 2])\n",
      "torch.Size([64, 512])\n",
      "torch.Size([64, 512])\n",
      "torch.Size([64, 512])\n",
      "fc통과: torch.Size([64, 507])\n",
      "torch.Size([64, 512])\n"
     ]
    },
    {
     "name": "stderr",
     "output_type": "stream",
     "text": [
      " 78%|█████████████████████████████████▎         | 31/40 [00:06<00:01,  5.14it/s]"
     ]
    },
    {
     "name": "stdout",
     "output_type": "stream",
     "text": [
      "torch.Size([64, 128, 33, 1])\n",
      "torch.Size([64, 1, 128, 33])\n",
      "torch.Size([64, 64, 128, 16])\n",
      "torch.Size([64, 64, 128, 16])\n",
      "torch.Size([64, 128, 128, 8])\n",
      "torch.Size([64, 512, 32, 2])\n",
      "torch.Size([64, 512])\n",
      "torch.Size([64, 512])\n",
      "torch.Size([64, 512])\n",
      "fc통과: torch.Size([64, 507])\n",
      "torch.Size([64, 512])\n",
      "torch.Size([64, 128, 36, 1])\n",
      "torch.Size([64, 1, 128, 36])\n",
      "torch.Size([64, 64, 128, 18])\n",
      "torch.Size([64, 64, 128, 18])\n",
      "torch.Size([64, 128, 128, 9])\n",
      "torch.Size([64, 512, 32, 2])\n",
      "torch.Size([64, 512])\n",
      "torch.Size([64, 512])\n",
      "torch.Size([64, 512])\n",
      "fc통과: torch.Size([64, 507])\n",
      "torch.Size([64, 512])\n"
     ]
    },
    {
     "name": "stderr",
     "output_type": "stream",
     "text": [
      " 82%|███████████████████████████████████▍       | 33/40 [00:07<00:01,  5.06it/s]"
     ]
    },
    {
     "name": "stdout",
     "output_type": "stream",
     "text": [
      "torch.Size([64, 128, 34, 1])\n",
      "torch.Size([64, 1, 128, 34])\n",
      "torch.Size([64, 64, 128, 17])\n",
      "torch.Size([64, 64, 128, 17])\n",
      "torch.Size([64, 128, 128, 8])\n",
      "torch.Size([64, 512, 32, 2])\n",
      "torch.Size([64, 512])\n",
      "torch.Size([64, 512])\n",
      "torch.Size([64, 512])\n",
      "fc통과: torch.Size([64, 507])\n",
      "torch.Size([64, 512])\n",
      "torch.Size([64, 128, 33, 1])\n",
      "torch.Size([64, 1, 128, 33])\n",
      "torch.Size([64, 64, 128, 16])\n",
      "torch.Size([64, 64, 128, 16])\n",
      "torch.Size([64, 128, 128, 8])\n",
      "torch.Size([64, 512, 32, 2])\n",
      "torch.Size([64, 512])\n",
      "torch.Size([64, 512])\n",
      "torch.Size([64, 512])\n",
      "fc통과: torch.Size([64, 507])\n",
      "torch.Size([64, 512])\n"
     ]
    },
    {
     "name": "stderr",
     "output_type": "stream",
     "text": [
      " 88%|█████████████████████████████████████▋     | 35/40 [00:07<00:00,  5.14it/s]"
     ]
    },
    {
     "name": "stdout",
     "output_type": "stream",
     "text": [
      "torch.Size([64, 128, 32, 1])\n",
      "torch.Size([64, 1, 128, 32])\n",
      "torch.Size([64, 64, 128, 16])\n",
      "torch.Size([64, 64, 128, 16])\n",
      "torch.Size([64, 128, 128, 8])\n",
      "torch.Size([64, 512, 32, 2])\n",
      "torch.Size([64, 512])\n",
      "torch.Size([64, 512])\n",
      "torch.Size([64, 512])\n",
      "fc통과: torch.Size([64, 507])\n",
      "torch.Size([64, 512])\n",
      "torch.Size([64, 128, 36, 1])\n",
      "torch.Size([64, 1, 128, 36])\n",
      "torch.Size([64, 64, 128, 18])\n",
      "torch.Size([64, 64, 128, 18])\n",
      "torch.Size([64, 128, 128, 9])\n",
      "torch.Size([64, 512, 32, 2])\n",
      "torch.Size([64, 512])\n",
      "torch.Size([64, 512])\n",
      "torch.Size([64, 512])\n",
      "fc통과: torch.Size([64, 507])\n",
      "torch.Size([64, 512])\n"
     ]
    },
    {
     "name": "stderr",
     "output_type": "stream",
     "text": [
      " 92%|███████████████████████████████████████▊   | 37/40 [00:08<00:00,  5.06it/s]"
     ]
    },
    {
     "name": "stdout",
     "output_type": "stream",
     "text": [
      "torch.Size([64, 128, 34, 1])\n",
      "torch.Size([64, 1, 128, 34])\n",
      "torch.Size([64, 64, 128, 17])\n",
      "torch.Size([64, 64, 128, 17])\n",
      "torch.Size([64, 128, 128, 8])\n",
      "torch.Size([64, 512, 32, 2])\n",
      "torch.Size([64, 512])\n",
      "torch.Size([64, 512])\n",
      "torch.Size([64, 512])\n",
      "fc통과: torch.Size([64, 507])\n",
      "torch.Size([64, 512])\n",
      "torch.Size([64, 128, 35, 1])\n",
      "torch.Size([64, 1, 128, 35])\n",
      "torch.Size([64, 64, 128, 17])\n",
      "torch.Size([64, 64, 128, 17])\n",
      "torch.Size([64, 128, 128, 8])\n",
      "torch.Size([64, 512, 32, 2])\n",
      "torch.Size([64, 512])\n",
      "torch.Size([64, 512])\n",
      "torch.Size([64, 512])\n",
      "fc통과: torch.Size([64, 507])\n",
      "torch.Size([64, 512])\n"
     ]
    },
    {
     "name": "stderr",
     "output_type": "stream",
     "text": [
      " 98%|█████████████████████████████████████████▉ | 39/40 [00:08<00:00,  5.08it/s]"
     ]
    },
    {
     "name": "stdout",
     "output_type": "stream",
     "text": [
      "torch.Size([64, 128, 33, 1])\n",
      "torch.Size([64, 1, 128, 33])\n",
      "torch.Size([64, 64, 128, 16])\n",
      "torch.Size([64, 64, 128, 16])\n",
      "torch.Size([64, 128, 128, 8])\n",
      "torch.Size([64, 512, 32, 2])\n",
      "torch.Size([64, 512])\n",
      "torch.Size([64, 512])\n",
      "torch.Size([64, 512])\n",
      "fc통과: torch.Size([64, 507])\n",
      "torch.Size([64, 512])\n",
      "torch.Size([36, 128, 33, 1])\n",
      "torch.Size([36, 1, 128, 33])\n",
      "torch.Size([36, 64, 128, 16])\n",
      "torch.Size([36, 64, 128, 16])\n",
      "torch.Size([36, 128, 128, 8])\n",
      "torch.Size([36, 512, 32, 2])\n",
      "torch.Size([36, 512])\n",
      "torch.Size([36, 512])\n",
      "torch.Size([36, 512])\n",
      "fc통과: torch.Size([36, 507])\n",
      "torch.Size([36, 512])\n"
     ]
    },
    {
     "name": "stderr",
     "output_type": "stream",
     "text": [
      "100%|███████████████████████████████████████████| 40/40 [00:08<00:00,  4.68it/s]"
     ]
    },
    {
     "name": "stdout",
     "output_type": "stream",
     "text": [
      "07-04 16:51 [MainProcess, 23066] [INFO ]  Iteration:13, loss = 0.567630, acc = 100.000 \n",
      "07-04 16:51 [MainProcess, 23066] [INFO ]  Iteration:13, loss = 0.567630, acc = 100.000 \n",
      "07-04 16:51 [MainProcess, 23066] [INFO ]  Iteration:13, loss = 0.567630, acc = 100.000 \n",
      "07-04 16:51 [MainProcess, 23066] [INFO ]  Iteration:13, loss = 0.567630, acc = 100.000 \n",
      "07-04 16:51 [MainProcess, 23066] [INFO ]  Iteration:13, loss = 0.567630, acc = 100.000 \n",
      "07-04 16:51 [MainProcess, 23066] [INFO ]  Iteration:13, loss = 0.567630, acc = 100.000 \n",
      "07-04 16:51 [MainProcess, 23066] [INFO ]  Iteration:13, loss = 0.567630, acc = 100.000 \n",
      "07-04 16:51 [MainProcess, 23066] [INFO ]  Iteration:13, loss = 0.567630, acc = 100.000 \n"
     ]
    },
    {
     "name": "stderr",
     "output_type": "stream",
     "text": [
      "\n",
      "  0%|                                                    | 0/40 [00:00<?, ?it/s]"
     ]
    },
    {
     "name": "stdout",
     "output_type": "stream",
     "text": [
      "torch.Size([64, 128, 34, 1])\n",
      "torch.Size([64, 1, 128, 34])\n",
      "torch.Size([64, 64, 128, 17])\n",
      "torch.Size([64, 64, 128, 17])\n",
      "torch.Size([64, 128, 128, 8])\n",
      "torch.Size([64, 512, 32, 2])\n",
      "torch.Size([64, 512])\n",
      "torch.Size([64, 512])\n",
      "torch.Size([64, 512])\n",
      "fc통과: torch.Size([64, 507])\n",
      "torch.Size([64, 512])\n"
     ]
    },
    {
     "name": "stderr",
     "output_type": "stream",
     "text": [
      "  2%|█                                           | 1/40 [00:00<00:07,  5.08it/s]"
     ]
    },
    {
     "name": "stdout",
     "output_type": "stream",
     "text": [
      "torch.Size([64, 128, 39, 1])\n",
      "torch.Size([64, 1, 128, 39])\n",
      "torch.Size([64, 64, 128, 19])\n",
      "torch.Size([64, 64, 128, 19])\n",
      "torch.Size([64, 128, 128, 9])\n",
      "torch.Size([64, 512, 32, 2])\n",
      "torch.Size([64, 512])\n",
      "torch.Size([64, 512])\n",
      "torch.Size([64, 512])\n",
      "fc통과: torch.Size([64, 507])\n",
      "torch.Size([64, 512])\n"
     ]
    },
    {
     "name": "stderr",
     "output_type": "stream",
     "text": [
      "  5%|██▏                                         | 2/40 [00:00<00:07,  4.81it/s]"
     ]
    },
    {
     "name": "stdout",
     "output_type": "stream",
     "text": [
      "torch.Size([64, 128, 48, 1])\n",
      "torch.Size([64, 1, 128, 48])\n",
      "torch.Size([64, 64, 128, 24])\n",
      "torch.Size([64, 64, 128, 24])\n",
      "torch.Size([64, 128, 128, 12])\n",
      "torch.Size([64, 512, 32, 3])\n",
      "torch.Size([64, 512])\n",
      "torch.Size([64, 512])\n",
      "torch.Size([64, 512])\n",
      "fc통과: torch.Size([64, 507])\n",
      "torch.Size([64, 512])\n"
     ]
    },
    {
     "name": "stderr",
     "output_type": "stream",
     "text": [
      "  8%|███▎                                        | 3/40 [00:00<00:08,  4.39it/s]"
     ]
    },
    {
     "name": "stdout",
     "output_type": "stream",
     "text": [
      "torch.Size([64, 128, 40, 1])\n",
      "torch.Size([64, 1, 128, 40])\n",
      "torch.Size([64, 64, 128, 20])\n",
      "torch.Size([64, 64, 128, 20])\n",
      "torch.Size([64, 128, 128, 10])\n",
      "torch.Size([64, 512, 32, 2])\n",
      "torch.Size([64, 512])\n",
      "torch.Size([64, 512])\n",
      "torch.Size([64, 512])\n",
      "fc통과: torch.Size([64, 507])\n",
      "torch.Size([64, 512])\n"
     ]
    },
    {
     "name": "stderr",
     "output_type": "stream",
     "text": [
      " 10%|████▍                                       | 4/40 [00:00<00:08,  4.39it/s]"
     ]
    },
    {
     "name": "stdout",
     "output_type": "stream",
     "text": [
      "torch.Size([64, 128, 42, 1])\n",
      "torch.Size([64, 1, 128, 42])\n",
      "torch.Size([64, 64, 128, 21])\n",
      "torch.Size([64, 64, 128, 21])\n",
      "torch.Size([64, 128, 128, 10])\n",
      "torch.Size([64, 512, 32, 2])\n",
      "torch.Size([64, 512])\n",
      "torch.Size([64, 512])\n",
      "torch.Size([64, 512])\n",
      "fc통과: torch.Size([64, 507])\n",
      "torch.Size([64, 512])\n"
     ]
    },
    {
     "name": "stderr",
     "output_type": "stream",
     "text": [
      " 12%|█████▌                                      | 5/40 [00:01<00:08,  4.34it/s]"
     ]
    },
    {
     "name": "stdout",
     "output_type": "stream",
     "text": [
      "torch.Size([64, 128, 52, 1])\n",
      "torch.Size([64, 1, 128, 52])\n",
      "torch.Size([64, 64, 128, 26])\n",
      "torch.Size([64, 64, 128, 26])\n",
      "torch.Size([64, 128, 128, 13])\n",
      "torch.Size([64, 512, 32, 3])\n",
      "torch.Size([64, 512])\n",
      "torch.Size([64, 512])\n",
      "torch.Size([64, 512])\n",
      "fc통과: torch.Size([64, 507])\n",
      "torch.Size([64, 512])\n"
     ]
    },
    {
     "name": "stderr",
     "output_type": "stream",
     "text": [
      " 15%|██████▌                                     | 6/40 [00:01<00:08,  4.09it/s]"
     ]
    },
    {
     "name": "stdout",
     "output_type": "stream",
     "text": [
      "torch.Size([64, 128, 40, 1])\n",
      "torch.Size([64, 1, 128, 40])\n",
      "torch.Size([64, 64, 128, 20])\n",
      "torch.Size([64, 64, 128, 20])\n",
      "torch.Size([64, 128, 128, 10])\n",
      "torch.Size([64, 512, 32, 2])\n",
      "torch.Size([64, 512])\n",
      "torch.Size([64, 512])\n",
      "torch.Size([64, 512])\n",
      "fc통과: torch.Size([64, 507])\n",
      "torch.Size([64, 512])\n"
     ]
    },
    {
     "name": "stderr",
     "output_type": "stream",
     "text": [
      " 18%|███████▋                                    | 7/40 [00:01<00:07,  4.19it/s]"
     ]
    },
    {
     "name": "stdout",
     "output_type": "stream",
     "text": [
      "torch.Size([64, 128, 64, 1])\n",
      "torch.Size([64, 1, 128, 64])\n",
      "torch.Size([64, 64, 128, 32])\n",
      "torch.Size([64, 64, 128, 32])\n",
      "torch.Size([64, 128, 128, 16])\n",
      "torch.Size([64, 512, 32, 4])\n",
      "torch.Size([64, 512])\n",
      "torch.Size([64, 512])\n",
      "torch.Size([64, 512])\n",
      "fc통과: torch.Size([64, 507])\n",
      "torch.Size([64, 512])\n"
     ]
    },
    {
     "name": "stderr",
     "output_type": "stream",
     "text": [
      " 20%|████████▊                                   | 8/40 [00:01<00:07,  4.05it/s]"
     ]
    },
    {
     "name": "stdout",
     "output_type": "stream",
     "text": [
      "torch.Size([64, 128, 42, 1])\n",
      "torch.Size([64, 1, 128, 42])\n",
      "torch.Size([64, 64, 128, 21])\n",
      "torch.Size([64, 64, 128, 21])\n",
      "torch.Size([64, 128, 128, 10])\n",
      "torch.Size([64, 512, 32, 2])\n",
      "torch.Size([64, 512])\n",
      "torch.Size([64, 512])\n",
      "torch.Size([64, 512])\n",
      "fc통과: torch.Size([64, 507])\n",
      "torch.Size([64, 512])\n"
     ]
    },
    {
     "name": "stderr",
     "output_type": "stream",
     "text": [
      " 22%|█████████▉                                  | 9/40 [00:02<00:07,  4.11it/s]"
     ]
    },
    {
     "name": "stdout",
     "output_type": "stream",
     "text": [
      "torch.Size([64, 128, 38, 1])\n",
      "torch.Size([64, 1, 128, 38])\n",
      "torch.Size([64, 64, 128, 19])\n",
      "torch.Size([64, 64, 128, 19])\n",
      "torch.Size([64, 128, 128, 9])\n",
      "torch.Size([64, 512, 32, 2])\n",
      "torch.Size([64, 512])\n",
      "torch.Size([64, 512])\n",
      "torch.Size([64, 512])\n",
      "fc통과: torch.Size([64, 507])\n",
      "torch.Size([64, 512])\n"
     ]
    },
    {
     "name": "stderr",
     "output_type": "stream",
     "text": [
      " 25%|██████████▊                                | 10/40 [00:02<00:07,  4.28it/s]"
     ]
    },
    {
     "name": "stdout",
     "output_type": "stream",
     "text": [
      "torch.Size([64, 128, 54, 1])\n",
      "torch.Size([64, 1, 128, 54])\n",
      "torch.Size([64, 64, 128, 27])\n",
      "torch.Size([64, 64, 128, 27])\n",
      "torch.Size([64, 128, 128, 13])\n",
      "torch.Size([64, 512, 32, 3])\n",
      "torch.Size([64, 512])\n",
      "torch.Size([64, 512])\n",
      "torch.Size([64, 512])\n",
      "fc통과: torch.Size([64, 507])\n",
      "torch.Size([64, 512])\n"
     ]
    },
    {
     "name": "stderr",
     "output_type": "stream",
     "text": [
      " 28%|███████████▊                               | 11/40 [00:02<00:07,  4.04it/s]"
     ]
    },
    {
     "name": "stdout",
     "output_type": "stream",
     "text": [
      "torch.Size([64, 128, 58, 1])\n",
      "torch.Size([64, 1, 128, 58])\n",
      "torch.Size([64, 64, 128, 29])\n",
      "torch.Size([64, 64, 128, 29])\n",
      "torch.Size([64, 128, 128, 14])\n",
      "torch.Size([64, 512, 32, 3])\n",
      "torch.Size([64, 512])\n",
      "torch.Size([64, 512])\n",
      "torch.Size([64, 512])\n",
      "fc통과: torch.Size([64, 507])\n",
      "torch.Size([64, 512])\n"
     ]
    },
    {
     "name": "stderr",
     "output_type": "stream",
     "text": [
      " 30%|████████████▉                              | 12/40 [00:02<00:07,  3.82it/s]"
     ]
    },
    {
     "name": "stdout",
     "output_type": "stream",
     "text": [
      "torch.Size([64, 128, 61, 1])\n",
      "torch.Size([64, 1, 128, 61])\n",
      "torch.Size([64, 64, 128, 30])\n",
      "torch.Size([64, 64, 128, 30])\n",
      "torch.Size([64, 128, 128, 15])\n",
      "torch.Size([64, 512, 32, 3])\n",
      "torch.Size([64, 512])\n",
      "torch.Size([64, 512])\n",
      "torch.Size([64, 512])\n",
      "fc통과: torch.Size([64, 507])\n",
      "torch.Size([64, 512])\n"
     ]
    },
    {
     "name": "stderr",
     "output_type": "stream",
     "text": [
      " 32%|█████████████▉                             | 13/40 [00:03<00:07,  3.63it/s]"
     ]
    },
    {
     "name": "stdout",
     "output_type": "stream",
     "text": [
      "torch.Size([64, 128, 37, 1])\n",
      "torch.Size([64, 1, 128, 37])\n",
      "torch.Size([64, 64, 128, 18])\n",
      "torch.Size([64, 64, 128, 18])\n",
      "torch.Size([64, 128, 128, 9])\n",
      "torch.Size([64, 512, 32, 2])\n",
      "torch.Size([64, 512])\n",
      "torch.Size([64, 512])\n",
      "torch.Size([64, 512])\n",
      "fc통과: torch.Size([64, 507])\n",
      "torch.Size([64, 512])\n"
     ]
    },
    {
     "name": "stderr",
     "output_type": "stream",
     "text": [
      " 35%|███████████████                            | 14/40 [00:03<00:06,  3.91it/s]"
     ]
    },
    {
     "name": "stdout",
     "output_type": "stream",
     "text": [
      "torch.Size([64, 128, 41, 1])\n",
      "torch.Size([64, 1, 128, 41])\n",
      "torch.Size([64, 64, 128, 20])\n",
      "torch.Size([64, 64, 128, 20])\n",
      "torch.Size([64, 128, 128, 10])\n",
      "torch.Size([64, 512, 32, 2])\n",
      "torch.Size([64, 512])\n",
      "torch.Size([64, 512])\n",
      "torch.Size([64, 512])\n",
      "fc통과: torch.Size([64, 507])\n",
      "torch.Size([64, 512])\n"
     ]
    },
    {
     "name": "stderr",
     "output_type": "stream",
     "text": [
      " 40%|█████████████████▏                         | 16/40 [00:03<00:05,  4.28it/s]"
     ]
    },
    {
     "name": "stdout",
     "output_type": "stream",
     "text": [
      "torch.Size([64, 128, 35, 1])\n",
      "torch.Size([64, 1, 128, 35])\n",
      "torch.Size([64, 64, 128, 17])\n",
      "torch.Size([64, 64, 128, 17])\n",
      "torch.Size([64, 128, 128, 8])\n",
      "torch.Size([64, 512, 32, 2])\n",
      "torch.Size([64, 512])\n",
      "torch.Size([64, 512])\n",
      "torch.Size([64, 512])\n",
      "fc통과: torch.Size([64, 507])\n",
      "torch.Size([64, 512])\n",
      "torch.Size([64, 128, 48, 1])\n",
      "torch.Size([64, 1, 128, 48])\n",
      "torch.Size([64, 64, 128, 24])\n",
      "torch.Size([64, 64, 128, 24])\n",
      "torch.Size([64, 128, 128, 12])\n",
      "torch.Size([64, 512, 32, 3])\n",
      "torch.Size([64, 512])\n",
      "torch.Size([64, 512])\n",
      "torch.Size([64, 512])\n",
      "fc통과: torch.Size([64, 507])\n",
      "torch.Size([64, 512])\n"
     ]
    },
    {
     "name": "stderr",
     "output_type": "stream",
     "text": [
      " 42%|██████████████████▎                        | 17/40 [00:04<00:05,  4.19it/s]"
     ]
    },
    {
     "name": "stdout",
     "output_type": "stream",
     "text": [
      "torch.Size([64, 128, 40, 1])\n",
      "torch.Size([64, 1, 128, 40])\n",
      "torch.Size([64, 64, 128, 20])\n",
      "torch.Size([64, 64, 128, 20])\n",
      "torch.Size([64, 128, 128, 10])\n",
      "torch.Size([64, 512, 32, 2])\n",
      "torch.Size([64, 512])\n",
      "torch.Size([64, 512])\n",
      "torch.Size([64, 512])\n",
      "fc통과: torch.Size([64, 507])\n",
      "torch.Size([64, 512])\n"
     ]
    },
    {
     "name": "stderr",
     "output_type": "stream",
     "text": [
      " 48%|████████████████████▍                      | 19/40 [00:04<00:04,  4.49it/s]"
     ]
    },
    {
     "name": "stdout",
     "output_type": "stream",
     "text": [
      "torch.Size([64, 128, 33, 1])\n",
      "torch.Size([64, 1, 128, 33])\n",
      "torch.Size([64, 64, 128, 16])\n",
      "torch.Size([64, 64, 128, 16])\n",
      "torch.Size([64, 128, 128, 8])\n",
      "torch.Size([64, 512, 32, 2])\n",
      "torch.Size([64, 512])\n",
      "torch.Size([64, 512])\n",
      "torch.Size([64, 512])\n",
      "fc통과: torch.Size([64, 507])\n",
      "torch.Size([64, 512])\n",
      "torch.Size([64, 128, 33, 1])\n",
      "torch.Size([64, 1, 128, 33])\n",
      "torch.Size([64, 64, 128, 16])\n",
      "torch.Size([64, 64, 128, 16])\n",
      "torch.Size([64, 128, 128, 8])\n",
      "torch.Size([64, 512, 32, 2])\n",
      "torch.Size([64, 512])\n",
      "torch.Size([64, 512])\n",
      "torch.Size([64, 512])\n",
      "fc통과: torch.Size([64, 507])\n",
      "torch.Size([64, 512])\n"
     ]
    },
    {
     "name": "stderr",
     "output_type": "stream",
     "text": [
      " 52%|██████████████████████▌                    | 21/40 [00:04<00:03,  4.77it/s]"
     ]
    },
    {
     "name": "stdout",
     "output_type": "stream",
     "text": [
      "torch.Size([64, 128, 35, 1])\n",
      "torch.Size([64, 1, 128, 35])\n",
      "torch.Size([64, 64, 128, 17])\n",
      "torch.Size([64, 64, 128, 17])\n",
      "torch.Size([64, 128, 128, 8])\n",
      "torch.Size([64, 512, 32, 2])\n",
      "torch.Size([64, 512])\n",
      "torch.Size([64, 512])\n",
      "torch.Size([64, 512])\n",
      "fc통과: torch.Size([64, 507])\n",
      "torch.Size([64, 512])\n",
      "torch.Size([64, 128, 35, 1])\n",
      "torch.Size([64, 1, 128, 35])\n",
      "torch.Size([64, 64, 128, 17])\n",
      "torch.Size([64, 64, 128, 17])\n",
      "torch.Size([64, 128, 128, 8])\n",
      "torch.Size([64, 512, 32, 2])\n"
     ]
    },
    {
     "name": "stderr",
     "output_type": "stream",
     "text": [
      " 55%|███████████████████████▋                   | 22/40 [00:05<00:03,  4.84it/s]"
     ]
    },
    {
     "name": "stdout",
     "output_type": "stream",
     "text": [
      "torch.Size([64, 512])\n",
      "torch.Size([64, 512])\n",
      "torch.Size([64, 512])\n",
      "fc통과: torch.Size([64, 507])\n",
      "torch.Size([64, 512])\n",
      "torch.Size([64, 128, 32, 1])\n",
      "torch.Size([64, 1, 128, 32])\n",
      "torch.Size([64, 64, 128, 16])\n",
      "torch.Size([64, 64, 128, 16])\n",
      "torch.Size([64, 128, 128, 8])\n",
      "torch.Size([64, 512, 32, 2])\n",
      "torch.Size([64, 512])\n",
      "torch.Size([64, 512])\n",
      "torch.Size([64, 512])\n",
      "fc통과: torch.Size([64, 507])\n",
      "torch.Size([64, 512])\n"
     ]
    },
    {
     "name": "stderr",
     "output_type": "stream",
     "text": [
      " 57%|████████████████████████▋                  | 23/40 [00:05<00:03,  4.96it/s]"
     ]
    },
    {
     "name": "stdout",
     "output_type": "stream",
     "text": [
      "torch.Size([64, 128, 37, 1])\n",
      "torch.Size([64, 1, 128, 37])\n",
      "torch.Size([64, 64, 128, 18])\n",
      "torch.Size([64, 64, 128, 18])\n",
      "torch.Size([64, 128, 128, 9])\n",
      "torch.Size([64, 512, 32, 2])\n",
      "torch.Size([64, 512])\n",
      "torch.Size([64, 512])\n",
      "torch.Size([64, 512])\n",
      "fc통과: torch.Size([64, 507])\n",
      "torch.Size([64, 512])\n"
     ]
    },
    {
     "name": "stderr",
     "output_type": "stream",
     "text": [
      " 60%|█████████████████████████▊                 | 24/40 [00:05<00:03,  4.89it/s]"
     ]
    },
    {
     "name": "stdout",
     "output_type": "stream",
     "text": [
      "torch.Size([64, 128, 47, 1])\n",
      "torch.Size([64, 1, 128, 47])\n",
      "torch.Size([64, 64, 128, 23])\n",
      "torch.Size([64, 64, 128, 23])\n",
      "torch.Size([64, 128, 128, 11])\n",
      "torch.Size([64, 512, 32, 2])\n",
      "torch.Size([64, 512])\n",
      "torch.Size([64, 512])\n",
      "torch.Size([64, 512])\n",
      "fc통과: torch.Size([64, 507])\n",
      "torch.Size([64, 512])\n"
     ]
    },
    {
     "name": "stderr",
     "output_type": "stream",
     "text": [
      " 65%|███████████████████████████▉               | 26/40 [00:05<00:02,  4.73it/s]"
     ]
    },
    {
     "name": "stdout",
     "output_type": "stream",
     "text": [
      "torch.Size([64, 128, 34, 1])\n",
      "torch.Size([64, 1, 128, 34])\n",
      "torch.Size([64, 64, 128, 17])\n",
      "torch.Size([64, 64, 128, 17])\n",
      "torch.Size([64, 128, 128, 8])\n",
      "torch.Size([64, 512, 32, 2])\n",
      "torch.Size([64, 512])\n",
      "torch.Size([64, 512])\n",
      "torch.Size([64, 512])\n",
      "fc통과: torch.Size([64, 507])\n",
      "torch.Size([64, 512])\n",
      "torch.Size([64, 128, 24, 1])\n",
      "torch.Size([64, 1, 128, 24])\n",
      "torch.Size([64, 64, 128, 12])\n",
      "torch.Size([64, 64, 128, 12])\n",
      "torch.Size([64, 128, 128, 6])\n",
      "torch.Size([64, 512, 32, 1])\n",
      "torch.Size([64, 512])\n",
      "torch.Size([64, 512])\n",
      "torch.Size([64, 512])\n",
      "fc통과: torch.Size([64, 507])\n",
      "torch.Size([64, 512])\n"
     ]
    },
    {
     "name": "stderr",
     "output_type": "stream",
     "text": [
      " 70%|██████████████████████████████             | 28/40 [00:06<00:02,  5.27it/s]"
     ]
    },
    {
     "name": "stdout",
     "output_type": "stream",
     "text": [
      "torch.Size([64, 128, 25, 1])\n",
      "torch.Size([64, 1, 128, 25])\n",
      "torch.Size([64, 64, 128, 12])\n",
      "torch.Size([64, 64, 128, 12])\n",
      "torch.Size([64, 128, 128, 6])\n",
      "torch.Size([64, 512, 32, 1])\n",
      "torch.Size([64, 512])\n",
      "torch.Size([64, 512])\n",
      "torch.Size([64, 512])\n",
      "fc통과: torch.Size([64, 507])\n",
      "torch.Size([64, 512])\n",
      "torch.Size([64, 128, 30, 1])\n",
      "torch.Size([64, 1, 128, 30])\n",
      "torch.Size([64, 64, 128, 15])\n",
      "torch.Size([64, 64, 128, 15])\n",
      "torch.Size([64, 128, 128, 7])\n",
      "torch.Size([64, 512, 32, 1])\n",
      "torch.Size([64, 512])\n",
      "torch.Size([64, 512])\n",
      "torch.Size([64, 512])\n",
      "fc통과: torch.Size([64, 507])\n",
      "torch.Size([64, 512])\n"
     ]
    },
    {
     "name": "stderr",
     "output_type": "stream",
     "text": [
      " 72%|███████████████████████████████▏           | 29/40 [00:06<00:02,  5.29it/s]"
     ]
    },
    {
     "name": "stdout",
     "output_type": "stream",
     "text": [
      "torch.Size([64, 128, 37, 1])\n",
      "torch.Size([64, 1, 128, 37])\n",
      "torch.Size([64, 64, 128, 18])\n",
      "torch.Size([64, 64, 128, 18])\n",
      "torch.Size([64, 128, 128, 9])\n",
      "torch.Size([64, 512, 32, 2])\n",
      "torch.Size([64, 512])\n",
      "torch.Size([64, 512])\n",
      "torch.Size([64, 512])\n",
      "fc통과: torch.Size([64, 507])\n",
      "torch.Size([64, 512])\n"
     ]
    },
    {
     "name": "stderr",
     "output_type": "stream",
     "text": [
      " 78%|█████████████████████████████████▎         | 31/40 [00:06<00:01,  5.12it/s]"
     ]
    },
    {
     "name": "stdout",
     "output_type": "stream",
     "text": [
      "torch.Size([64, 128, 33, 1])\n",
      "torch.Size([64, 1, 128, 33])\n",
      "torch.Size([64, 64, 128, 16])\n",
      "torch.Size([64, 64, 128, 16])\n",
      "torch.Size([64, 128, 128, 8])\n",
      "torch.Size([64, 512, 32, 2])\n",
      "torch.Size([64, 512])\n",
      "torch.Size([64, 512])\n",
      "torch.Size([64, 512])\n",
      "fc통과: torch.Size([64, 507])\n",
      "torch.Size([64, 512])\n",
      "torch.Size([64, 128, 36, 1])\n",
      "torch.Size([64, 1, 128, 36])\n",
      "torch.Size([64, 64, 128, 18])\n",
      "torch.Size([64, 64, 128, 18])\n",
      "torch.Size([64, 128, 128, 9])\n",
      "torch.Size([64, 512, 32, 2])\n",
      "torch.Size([64, 512])\n",
      "torch.Size([64, 512])\n",
      "torch.Size([64, 512])\n",
      "fc통과: torch.Size([64, 507])\n",
      "torch.Size([64, 512])\n"
     ]
    },
    {
     "name": "stderr",
     "output_type": "stream",
     "text": [
      " 82%|███████████████████████████████████▍       | 33/40 [00:07<00:01,  5.03it/s]"
     ]
    },
    {
     "name": "stdout",
     "output_type": "stream",
     "text": [
      "torch.Size([64, 128, 34, 1])\n",
      "torch.Size([64, 1, 128, 34])\n",
      "torch.Size([64, 64, 128, 17])\n",
      "torch.Size([64, 64, 128, 17])\n",
      "torch.Size([64, 128, 128, 8])\n",
      "torch.Size([64, 512, 32, 2])\n",
      "torch.Size([64, 512])\n",
      "torch.Size([64, 512])\n",
      "torch.Size([64, 512])\n",
      "fc통과: torch.Size([64, 507])\n",
      "torch.Size([64, 512])\n",
      "torch.Size([64, 128, 33, 1])\n",
      "torch.Size([64, 1, 128, 33])\n",
      "torch.Size([64, 64, 128, 16])\n",
      "torch.Size([64, 64, 128, 16])\n",
      "torch.Size([64, 128, 128, 8])\n",
      "torch.Size([64, 512, 32, 2])\n",
      "torch.Size([64, 512])\n",
      "torch.Size([64, 512])\n",
      "torch.Size([64, 512])\n",
      "fc통과: torch.Size([64, 507])\n"
     ]
    },
    {
     "name": "stderr",
     "output_type": "stream",
     "text": [
      " 85%|████████████████████████████████████▌      | 34/40 [00:07<00:01,  5.06it/s]"
     ]
    },
    {
     "name": "stdout",
     "output_type": "stream",
     "text": [
      "torch.Size([64, 512])\n",
      "torch.Size([64, 128, 32, 1])\n",
      "torch.Size([64, 1, 128, 32])\n",
      "torch.Size([64, 64, 128, 16])\n",
      "torch.Size([64, 64, 128, 16])\n",
      "torch.Size([64, 128, 128, 8])\n",
      "torch.Size([64, 512, 32, 2])\n",
      "torch.Size([64, 512])\n",
      "torch.Size([64, 512])\n",
      "torch.Size([64, 512])\n",
      "fc통과: torch.Size([64, 507])\n",
      "torch.Size([64, 512])\n"
     ]
    },
    {
     "name": "stderr",
     "output_type": "stream",
     "text": [
      " 88%|█████████████████████████████████████▋     | 35/40 [00:07<00:00,  5.10it/s]"
     ]
    },
    {
     "name": "stdout",
     "output_type": "stream",
     "text": [
      "torch.Size([64, 128, 36, 1])\n",
      "torch.Size([64, 1, 128, 36])\n",
      "torch.Size([64, 64, 128, 18])\n",
      "torch.Size([64, 64, 128, 18])\n",
      "torch.Size([64, 128, 128, 9])\n",
      "torch.Size([64, 512, 32, 2])\n",
      "torch.Size([64, 512])\n",
      "torch.Size([64, 512])\n",
      "torch.Size([64, 512])\n",
      "fc통과: torch.Size([64, 507])\n",
      "torch.Size([64, 512])\n"
     ]
    },
    {
     "name": "stderr",
     "output_type": "stream",
     "text": [
      " 92%|███████████████████████████████████████▊   | 37/40 [00:08<00:00,  5.03it/s]"
     ]
    },
    {
     "name": "stdout",
     "output_type": "stream",
     "text": [
      "torch.Size([64, 128, 34, 1])\n",
      "torch.Size([64, 1, 128, 34])\n",
      "torch.Size([64, 64, 128, 17])\n",
      "torch.Size([64, 64, 128, 17])\n",
      "torch.Size([64, 128, 128, 8])\n",
      "torch.Size([64, 512, 32, 2])\n",
      "torch.Size([64, 512])\n",
      "torch.Size([64, 512])\n",
      "torch.Size([64, 512])\n",
      "fc통과: torch.Size([64, 507])\n",
      "torch.Size([64, 512])\n",
      "torch.Size([64, 128, 35, 1])\n",
      "torch.Size([64, 1, 128, 35])\n",
      "torch.Size([64, 64, 128, 17])\n",
      "torch.Size([64, 64, 128, 17])\n",
      "torch.Size([64, 128, 128, 8])\n",
      "torch.Size([64, 512, 32, 2])\n",
      "torch.Size([64, 512])\n",
      "torch.Size([64, 512])\n",
      "torch.Size([64, 512])\n",
      "fc통과: torch.Size([64, 507])\n",
      "torch.Size([64, 512])\n"
     ]
    },
    {
     "name": "stderr",
     "output_type": "stream",
     "text": [
      " 98%|█████████████████████████████████████████▉ | 39/40 [00:08<00:00,  5.05it/s]"
     ]
    },
    {
     "name": "stdout",
     "output_type": "stream",
     "text": [
      "torch.Size([64, 128, 33, 1])\n",
      "torch.Size([64, 1, 128, 33])\n",
      "torch.Size([64, 64, 128, 16])\n",
      "torch.Size([64, 64, 128, 16])\n",
      "torch.Size([64, 128, 128, 8])\n",
      "torch.Size([64, 512, 32, 2])\n",
      "torch.Size([64, 512])\n",
      "torch.Size([64, 512])\n",
      "torch.Size([64, 512])\n",
      "fc통과: torch.Size([64, 507])\n",
      "torch.Size([64, 512])\n",
      "torch.Size([36, 128, 33, 1])\n",
      "torch.Size([36, 1, 128, 33])\n",
      "torch.Size([36, 64, 128, 16])\n",
      "torch.Size([36, 64, 128, 16])\n",
      "torch.Size([36, 128, 128, 8])\n",
      "torch.Size([36, 512, 32, 2])\n",
      "torch.Size([36, 512])\n",
      "torch.Size([36, 512])\n",
      "torch.Size([36, 512])\n",
      "fc통과: torch.Size([36, 507])\n",
      "torch.Size([36, 512])\n"
     ]
    },
    {
     "name": "stderr",
     "output_type": "stream",
     "text": [
      "100%|███████████████████████████████████████████| 40/40 [00:08<00:00,  4.67it/s]"
     ]
    },
    {
     "name": "stdout",
     "output_type": "stream",
     "text": [
      "07-04 16:51 [MainProcess, 23066] [INFO ]  Iteration:14, loss = 0.557267, acc = 100.000 \n",
      "07-04 16:51 [MainProcess, 23066] [INFO ]  Iteration:14, loss = 0.557267, acc = 100.000 \n",
      "07-04 16:51 [MainProcess, 23066] [INFO ]  Iteration:14, loss = 0.557267, acc = 100.000 \n",
      "07-04 16:51 [MainProcess, 23066] [INFO ]  Iteration:14, loss = 0.557267, acc = 100.000 \n",
      "07-04 16:51 [MainProcess, 23066] [INFO ]  Iteration:14, loss = 0.557267, acc = 100.000 \n",
      "07-04 16:51 [MainProcess, 23066] [INFO ]  Iteration:14, loss = 0.557267, acc = 100.000 \n",
      "07-04 16:51 [MainProcess, 23066] [INFO ]  Iteration:14, loss = 0.557267, acc = 100.000 \n",
      "07-04 16:51 [MainProcess, 23066] [INFO ]  Iteration:14, loss = 0.557267, acc = 100.000 \n"
     ]
    },
    {
     "name": "stderr",
     "output_type": "stream",
     "text": [
      "\n",
      "/opt/conda/lib/python3.8/site-packages/torch/storage.py:34: FutureWarning: pickle support for Storage will be removed in 1.5. Use `torch.save` instead\n",
      "  warnings.warn(\"pickle support for Storage will be removed in 1.5. Use `torch.save` instead\", FutureWarning)\n"
     ]
    }
   ],
   "source": [
    "import sys\n",
    "from helper_code import is_integer\n",
    "#from team_code import train_challenge_model\n",
    "\n",
    "if __name__ == '__main__':\n",
    "    # Parse the arguments.\n",
    "    if not (len(sys.argv) == 3 or len(sys.argv) == 4):\n",
    "        raise Exception('Include the data and model folders as arguments, e.g., python train_model.py data model.')\n",
    "\n",
    "    # Define the data and model foldes.\n",
    "    train_folder = '/Data2/hmd/data_split/murmur/train'\n",
    "    #test_folder ='/Data2/hmd/data_split/murmur/test'\n",
    "    model_folder = 'model'\n",
    "\n",
    "    # Change the level of verbosity; helpful for debugging.\n",
    "    if len(sys.argv)==4 and is_integer(sys.argv[3]):\n",
    "        verbose = int(sys.argv[3])\n",
    "    else:\n",
    "        verbose = 1\n",
    "\n",
    "        \n",
    "        \n",
    "        \n",
    "    train_challenge_model(train_folder, model_folder, verbose) ### Teams: Implement this function!!!"
   ]
  },
  {
   "cell_type": "code",
   "execution_count": null,
   "id": "5055b211",
   "metadata": {},
   "outputs": [],
   "source": [
    "def run_challenge_model(model, data, recordings, verbose):\n",
    "    imputer = model['imputer']\n",
    "    murmur_classes = model['murmur_classes']\n",
    "    murmur_classifier = model['murmur_classifier']\n",
    "    outcome_classes = model['outcome_classes']\n",
    "    outcome_classifier = model['outcome_classifier']\n",
    "\n",
    "    # Load features.\n",
    "    features = get_features(data, recordings)\n",
    "\n",
    "    # Impute missing data.\n",
    "    features = features.reshape(1, -1)\n",
    "    features = imputer.transform(features)\n",
    "\n",
    "    # Get classifier probabilities.\n",
    "    murmur_probabilities = murmur_classifier.predict_proba(features)\n",
    "    murmur_probabilities = np.asarray(murmur_probabilities, dtype=np.float32)[:, 0, 1]\n",
    "    outcome_probabilities = outcome_classifier.predict_proba(features)\n",
    "    outcome_probabilities = np.asarray(outcome_probabilities, dtype=np.float32)[:, 0, 1]\n",
    "\n",
    "    # Choose label with highest probability.\n",
    "    murmur_labels = np.zeros(len(murmur_classes), dtype=np.int_)\n",
    "    idx = np.argmax(murmur_probabilities)\n",
    "    murmur_labels[idx] = 1\n",
    "    outcome_labels = np.zeros(len(outcome_classes), dtype=np.int_)\n",
    "    idx = np.argmax(outcome_probabilities)\n",
    "    outcome_labels[idx] = 1\n",
    "\n",
    "    # Concatenate classes, labels, and probabilities.\n",
    "    classes = murmur_classes + outcome_classes\n",
    "    labels = np.concatenate((murmur_labels, outcome_labels))\n",
    "    probabilities = np.concatenate((murmur_probabilities, outcome_probabilities))\n",
    "\n",
    "    return classes, labels, probabilities"
   ]
  },
  {
   "cell_type": "code",
   "execution_count": null,
   "id": "250989dc",
   "metadata": {},
   "outputs": [],
   "source": []
  },
  {
   "cell_type": "code",
   "execution_count": null,
   "id": "f0edad98",
   "metadata": {},
   "outputs": [],
   "source": []
  },
  {
   "cell_type": "code",
   "execution_count": null,
   "id": "51a0fdb6",
   "metadata": {},
   "outputs": [],
   "source": []
  },
  {
   "cell_type": "code",
   "execution_count": null,
   "id": "dbe8a09b",
   "metadata": {},
   "outputs": [],
   "source": []
  },
  {
   "cell_type": "code",
   "execution_count": null,
   "id": "bfe83d1c",
   "metadata": {},
   "outputs": [],
   "source": []
  },
  {
   "cell_type": "code",
   "execution_count": null,
   "id": "f124939b",
   "metadata": {},
   "outputs": [],
   "source": []
  },
  {
   "cell_type": "code",
   "execution_count": null,
   "id": "f6523770",
   "metadata": {},
   "outputs": [],
   "source": []
  },
  {
   "cell_type": "code",
   "execution_count": null,
   "id": "e0a1491c",
   "metadata": {},
   "outputs": [],
   "source": []
  },
  {
   "cell_type": "code",
   "execution_count": null,
   "id": "d1b5a56d",
   "metadata": {},
   "outputs": [],
   "source": []
  },
  {
   "cell_type": "code",
   "execution_count": null,
   "id": "c655afd3",
   "metadata": {},
   "outputs": [],
   "source": []
  },
  {
   "cell_type": "code",
   "execution_count": null,
   "id": "4fa03755",
   "metadata": {},
   "outputs": [],
   "source": []
  },
  {
   "cell_type": "code",
   "execution_count": null,
   "id": "c50a8a93",
   "metadata": {},
   "outputs": [],
   "source": []
  },
  {
   "cell_type": "code",
   "execution_count": null,
   "id": "0ba52ba0",
   "metadata": {},
   "outputs": [],
   "source": []
  },
  {
   "cell_type": "code",
   "execution_count": null,
   "id": "2c25e073",
   "metadata": {},
   "outputs": [],
   "source": []
  },
  {
   "cell_type": "code",
   "execution_count": null,
   "id": "54e4e99b",
   "metadata": {},
   "outputs": [],
   "source": [
    "enforce_positives(outputs,)"
   ]
  },
  {
   "cell_type": "code",
   "execution_count": 236,
   "id": "2b106726",
   "metadata": {},
   "outputs": [],
   "source": [
    "def enforce_positives(outputs, classes, positive_class):\n",
    "    num_patients, num_classes = np.shape(outputs)\n",
    "    j = classes.index(positive_class)\n",
    "\n",
    "    for i in range(num_patients):\n",
    "        if np.sum(outputs[i, :]) != 1:\n",
    "            outputs[i, :] = 0\n",
    "            outputs[i, j] = 1\n",
    "    return outputs\n"
   ]
  },
  {
   "cell_type": "code",
   "execution_count": 238,
   "id": "b4fc73cb",
   "metadata": {},
   "outputs": [
    {
     "data": {
      "text/plain": [
       "tensor([[0.3853, 0.2572, 0.3575],\n",
       "        [0.4270, 0.2319, 0.3411],\n",
       "        [0.3851, 0.2847, 0.3302],\n",
       "        [0.3279, 0.2757, 0.3964],\n",
       "        [0.5627, 0.2178, 0.2194],\n",
       "        [0.3402, 0.3603, 0.2995],\n",
       "        [0.5247, 0.2314, 0.2438],\n",
       "        [0.4454, 0.2543, 0.3003],\n",
       "        [0.4354, 0.2383, 0.3263],\n",
       "        [0.2537, 0.3609, 0.3854],\n",
       "        [0.5419, 0.2309, 0.2272],\n",
       "        [0.2717, 0.4402, 0.2881],\n",
       "        [0.4025, 0.3599, 0.2376],\n",
       "        [0.3929, 0.2348, 0.3723],\n",
       "        [0.2607, 0.2236, 0.5157],\n",
       "        [0.5612, 0.2177, 0.2211],\n",
       "        [0.5098, 0.2283, 0.2620],\n",
       "        [0.5145, 0.2363, 0.2492],\n",
       "        [0.3438, 0.2432, 0.4130],\n",
       "        [0.3287, 0.2527, 0.4186],\n",
       "        [0.2597, 0.2335, 0.5068],\n",
       "        [0.4649, 0.2315, 0.3035],\n",
       "        [0.5163, 0.2237, 0.2599],\n",
       "        [0.3802, 0.3440, 0.2758],\n",
       "        [0.5036, 0.2404, 0.2560],\n",
       "        [0.5578, 0.2159, 0.2263],\n",
       "        [0.5755, 0.2121, 0.2123],\n",
       "        [0.4593, 0.2539, 0.2867],\n",
       "        [0.5738, 0.2125, 0.2137],\n",
       "        [0.5400, 0.2247, 0.2353],\n",
       "        [0.5421, 0.2186, 0.2393],\n",
       "        [0.5526, 0.2232, 0.2242],\n",
       "        [0.4708, 0.2391, 0.2901],\n",
       "        [0.2952, 0.2384, 0.4664],\n",
       "        [0.3614, 0.2721, 0.3665],\n",
       "        [0.4195, 0.2440, 0.3365],\n",
       "        [0.2450, 0.2244, 0.5306],\n",
       "        [0.3684, 0.3773, 0.2544],\n",
       "        [0.4947, 0.2572, 0.2481],\n",
       "        [0.4577, 0.2934, 0.2490],\n",
       "        [0.4566, 0.2831, 0.2603],\n",
       "        [0.2517, 0.2272, 0.5211],\n",
       "        [0.3443, 0.2359, 0.4198],\n",
       "        [0.2187, 0.2144, 0.5669],\n",
       "        [0.2447, 0.2283, 0.5270],\n",
       "        [0.2480, 0.2712, 0.4808],\n",
       "        [0.2176, 0.2183, 0.5641],\n",
       "        [0.3020, 0.2498, 0.4482],\n",
       "        [0.4964, 0.2316, 0.2720],\n",
       "        [0.2890, 0.2543, 0.4567],\n",
       "        [0.4424, 0.3149, 0.2426],\n",
       "        [0.2792, 0.3285, 0.3923],\n",
       "        [0.2957, 0.2853, 0.4190],\n",
       "        [0.2776, 0.2272, 0.4953],\n",
       "        [0.4393, 0.2745, 0.2862],\n",
       "        [0.5632, 0.2153, 0.2215],\n",
       "        [0.4964, 0.2361, 0.2675],\n",
       "        [0.5199, 0.2270, 0.2531],\n",
       "        [0.3383, 0.2419, 0.4197],\n",
       "        [0.5043, 0.2266, 0.2691],\n",
       "        [0.4393, 0.2412, 0.3195],\n",
       "        [0.3698, 0.3726, 0.2576],\n",
       "        [0.2443, 0.2207, 0.5351],\n",
       "        [0.3264, 0.2766, 0.3971]], device='cuda:0', grad_fn=<SoftmaxBackward>)"
      ]
     },
     "execution_count": 238,
     "metadata": {},
     "output_type": "execute_result"
    }
   ],
   "source": [
    "outputs"
   ]
  },
  {
   "cell_type": "code",
   "execution_count": null,
   "id": "2119a0c8",
   "metadata": {},
   "outputs": [],
   "source": []
  },
  {
   "cell_type": "code",
   "execution_count": null,
   "id": "fb905640",
   "metadata": {},
   "outputs": [],
   "source": []
  },
  {
   "cell_type": "code",
   "execution_count": null,
   "id": "979e6cb6",
   "metadata": {},
   "outputs": [],
   "source": []
  },
  {
   "cell_type": "code",
   "execution_count": null,
   "id": "004557a5",
   "metadata": {},
   "outputs": [],
   "source": []
  },
  {
   "cell_type": "code",
   "execution_count": null,
   "id": "f5d18c57",
   "metadata": {},
   "outputs": [],
   "source": []
  },
  {
   "cell_type": "code",
   "execution_count": 239,
   "id": "4f980625",
   "metadata": {},
   "outputs": [],
   "source": [
    "murmur_classes = ['Present', 'Unknown', 'Absent']"
   ]
  },
  {
   "cell_type": "code",
   "execution_count": null,
   "id": "161f2f2e",
   "metadata": {},
   "outputs": [],
   "source": []
  },
  {
   "cell_type": "code",
   "execution_count": null,
   "id": "ac5fc1fd",
   "metadata": {},
   "outputs": [],
   "source": [
    " # Load and parse label and model output files.\n",
    "label_files, output_files = find_challenge_files(label_folder, output_folder)\n",
    "murmur_labels = load_murmurs(label_files, murmur_classes)\n",
    "murmur_binary_outputs, murmur_scalar_outputs = load_classifier_outputs(output_files, murmur_classes)\n",
    "#    outcome_labels = load_outcomes(label_files, outcome_classes)\n",
    "#    outcome_binary_outputs, outcome_scalar_outputs = load_classifier_outputs(output_files, outcome_classes)\n",
    "\n",
    "# For each patient, set the 'Present' or 'Abnormal' class to positive if no class is positive or if multiple classes are positive.\n",
    "murmur_labels = enforce_positives(murmur_labels, murmur_classes, 'Present')\n",
    "murmur_binary_outputs = enforce_positives(murmur_binary_outputs, murmur_classes, 'Present')\n",
    "#outcome_labels = enforce_positives(outcome_labels, outcome_classes, 'Abnormal')\n",
    "#outcome_binary_outputs = enforce_positives(outcome_binary_outputs, outcome_classes, 'Abnormal')"
   ]
  },
  {
   "cell_type": "code",
   "execution_count": null,
   "id": "d1558ecc",
   "metadata": {},
   "outputs": [],
   "source": []
  },
  {
   "cell_type": "code",
   "execution_count": null,
   "id": "12aaa15b",
   "metadata": {},
   "outputs": [],
   "source": []
  },
  {
   "cell_type": "code",
   "execution_count": null,
   "id": "e8ee16ce",
   "metadata": {},
   "outputs": [],
   "source": []
  },
  {
   "cell_type": "code",
   "execution_count": null,
   "id": "66d33255",
   "metadata": {},
   "outputs": [],
   "source": []
  },
  {
   "cell_type": "code",
   "execution_count": null,
   "id": "53997421",
   "metadata": {},
   "outputs": [],
   "source": []
  },
  {
   "cell_type": "code",
   "execution_count": null,
   "id": "66031d13",
   "metadata": {},
   "outputs": [],
   "source": []
  },
  {
   "cell_type": "code",
   "execution_count": null,
   "id": "a6a77a6b",
   "metadata": {},
   "outputs": [],
   "source": []
  },
  {
   "cell_type": "code",
   "execution_count": null,
   "id": "32c4935f",
   "metadata": {},
   "outputs": [],
   "source": []
  },
  {
   "cell_type": "code",
   "execution_count": null,
   "id": "3370644d",
   "metadata": {},
   "outputs": [],
   "source": []
  },
  {
   "cell_type": "code",
   "execution_count": null,
   "id": "dbc7b64b",
   "metadata": {},
   "outputs": [],
   "source": []
  },
  {
   "cell_type": "code",
   "execution_count": null,
   "id": "4b8eec2d",
   "metadata": {},
   "outputs": [],
   "source": []
  },
  {
   "cell_type": "code",
   "execution_count": null,
   "id": "33155a3b",
   "metadata": {},
   "outputs": [],
   "source": []
  },
  {
   "cell_type": "code",
   "execution_count": null,
   "id": "e4a0e960",
   "metadata": {},
   "outputs": [],
   "source": []
  },
  {
   "cell_type": "code",
   "execution_count": null,
   "id": "33b05c25",
   "metadata": {},
   "outputs": [],
   "source": []
  },
  {
   "cell_type": "code",
   "execution_count": null,
   "id": "21eb8f00",
   "metadata": {},
   "outputs": [],
   "source": []
  },
  {
   "cell_type": "code",
   "execution_count": null,
   "id": "46ff4ba9",
   "metadata": {},
   "outputs": [],
   "source": []
  },
  {
   "cell_type": "code",
   "execution_count": null,
   "id": "59371966",
   "metadata": {},
   "outputs": [],
   "source": []
  },
  {
   "cell_type": "code",
   "execution_count": 97,
   "id": "24f3241f",
   "metadata": {},
   "outputs": [
    {
     "name": "stdout",
     "output_type": "stream",
     "text": [
      "Finding data files...\n",
      "Extracting features and labels from the Challenge data...\n",
      "Training model...\n",
      "Training model...\n"
     ]
    },
    {
     "name": "stderr",
     "output_type": "stream",
     "text": [
      "  0%|                                                    | 0/40 [00:00<?, ?it/s]"
     ]
    },
    {
     "name": "stdout",
     "output_type": "stream",
     "text": [
      "torch.Size([64, 128, 34, 1])\n",
      "torch.Size([64, 1, 128, 34])\n",
      "torch.Size([64, 64, 128, 17])\n",
      "torch.Size([64, 64, 128, 17])\n",
      "torch.Size([64, 128, 128, 8])\n",
      "torch.Size([64, 512, 32, 2])\n",
      "torch.Size([64, 512])\n",
      "torch.Size([64, 512])\n",
      "torch.Size([64, 512])\n",
      "fc통과: torch.Size([64, 507])\n",
      "torch.Size([64, 512])\n"
     ]
    },
    {
     "name": "stderr",
     "output_type": "stream",
     "text": [
      "  2%|█                                           | 1/40 [00:00<00:08,  4.42it/s]"
     ]
    },
    {
     "name": "stdout",
     "output_type": "stream",
     "text": [
      "torch.Size([64, 128, 39, 1])\n",
      "torch.Size([64, 1, 128, 39])\n",
      "torch.Size([64, 64, 128, 19])\n",
      "torch.Size([64, 64, 128, 19])\n",
      "torch.Size([64, 128, 128, 9])\n",
      "torch.Size([64, 512, 32, 2])\n",
      "torch.Size([64, 512])\n",
      "torch.Size([64, 512])\n",
      "torch.Size([64, 512])\n",
      "fc통과: torch.Size([64, 507])\n",
      "torch.Size([64, 512])\n"
     ]
    },
    {
     "name": "stderr",
     "output_type": "stream",
     "text": [
      "  5%|██▏                                         | 2/40 [00:00<00:08,  4.54it/s]"
     ]
    },
    {
     "name": "stdout",
     "output_type": "stream",
     "text": [
      "torch.Size([64, 128, 48, 1])\n",
      "torch.Size([64, 1, 128, 48])\n",
      "torch.Size([64, 64, 128, 24])\n",
      "torch.Size([64, 64, 128, 24])\n",
      "torch.Size([64, 128, 128, 12])\n",
      "torch.Size([64, 512, 32, 3])\n",
      "torch.Size([64, 512])\n",
      "torch.Size([64, 512])\n",
      "torch.Size([64, 512])\n",
      "fc통과: torch.Size([64, 507])\n",
      "torch.Size([64, 512])\n"
     ]
    },
    {
     "name": "stderr",
     "output_type": "stream",
     "text": [
      "  8%|███▎                                        | 3/40 [00:00<00:08,  4.28it/s]"
     ]
    },
    {
     "name": "stdout",
     "output_type": "stream",
     "text": [
      "torch.Size([64, 128, 40, 1])\n",
      "torch.Size([64, 1, 128, 40])\n",
      "torch.Size([64, 64, 128, 20])\n",
      "torch.Size([64, 64, 128, 20])\n",
      "torch.Size([64, 128, 128, 10])\n",
      "torch.Size([64, 512, 32, 2])\n",
      "torch.Size([64, 512])\n",
      "torch.Size([64, 512])\n",
      "torch.Size([64, 512])\n",
      "fc통과: torch.Size([64, 507])\n",
      "torch.Size([64, 512])\n"
     ]
    },
    {
     "name": "stderr",
     "output_type": "stream",
     "text": [
      " 10%|████▍                                       | 4/40 [00:00<00:08,  4.33it/s]"
     ]
    },
    {
     "name": "stdout",
     "output_type": "stream",
     "text": [
      "torch.Size([64, 128, 42, 1])\n",
      "torch.Size([64, 1, 128, 42])\n",
      "torch.Size([64, 64, 128, 21])\n",
      "torch.Size([64, 64, 128, 21])\n",
      "torch.Size([64, 128, 128, 10])\n",
      "torch.Size([64, 512, 32, 2])\n",
      "torch.Size([64, 512])\n",
      "torch.Size([64, 512])\n",
      "torch.Size([64, 512])\n",
      "fc통과: torch.Size([64, 507])\n",
      "torch.Size([64, 512])\n"
     ]
    },
    {
     "name": "stderr",
     "output_type": "stream",
     "text": [
      " 12%|█████▌                                      | 5/40 [00:01<00:08,  4.32it/s]"
     ]
    },
    {
     "name": "stdout",
     "output_type": "stream",
     "text": [
      "torch.Size([64, 128, 52, 1])\n",
      "torch.Size([64, 1, 128, 52])\n",
      "torch.Size([64, 64, 128, 26])\n",
      "torch.Size([64, 64, 128, 26])\n",
      "torch.Size([64, 128, 128, 13])\n",
      "torch.Size([64, 512, 32, 3])\n",
      "torch.Size([64, 512])\n",
      "torch.Size([64, 512])\n",
      "torch.Size([64, 512])\n",
      "fc통과: torch.Size([64, 507])\n",
      "torch.Size([64, 512])\n"
     ]
    },
    {
     "name": "stderr",
     "output_type": "stream",
     "text": [
      " 15%|██████▌                                     | 6/40 [00:01<00:08,  4.09it/s]"
     ]
    },
    {
     "name": "stdout",
     "output_type": "stream",
     "text": [
      "torch.Size([64, 128, 40, 1])\n",
      "torch.Size([64, 1, 128, 40])\n",
      "torch.Size([64, 64, 128, 20])\n",
      "torch.Size([64, 64, 128, 20])\n",
      "torch.Size([64, 128, 128, 10])\n",
      "torch.Size([64, 512, 32, 2])\n",
      "torch.Size([64, 512])\n",
      "torch.Size([64, 512])\n",
      "torch.Size([64, 512])\n",
      "fc통과: torch.Size([64, 507])\n",
      "torch.Size([64, 512])\n"
     ]
    },
    {
     "name": "stderr",
     "output_type": "stream",
     "text": [
      " 18%|███████▋                                    | 7/40 [00:01<00:07,  4.19it/s]"
     ]
    },
    {
     "name": "stdout",
     "output_type": "stream",
     "text": [
      "torch.Size([64, 128, 64, 1])\n",
      "torch.Size([64, 1, 128, 64])\n",
      "torch.Size([64, 64, 128, 32])\n",
      "torch.Size([64, 64, 128, 32])\n",
      "torch.Size([64, 128, 128, 16])\n",
      "torch.Size([64, 512, 32, 4])\n",
      "torch.Size([64, 512])\n",
      "torch.Size([64, 512])\n",
      "torch.Size([64, 512])\n",
      "fc통과: torch.Size([64, 507])\n",
      "torch.Size([64, 512])\n"
     ]
    },
    {
     "name": "stderr",
     "output_type": "stream",
     "text": [
      " 20%|████████▊                                   | 8/40 [00:01<00:07,  4.07it/s]"
     ]
    },
    {
     "name": "stdout",
     "output_type": "stream",
     "text": [
      "torch.Size([64, 128, 42, 1])\n",
      "torch.Size([64, 1, 128, 42])\n",
      "torch.Size([64, 64, 128, 21])\n",
      "torch.Size([64, 64, 128, 21])\n",
      "torch.Size([64, 128, 128, 10])\n",
      "torch.Size([64, 512, 32, 2])\n",
      "torch.Size([64, 512])\n",
      "torch.Size([64, 512])\n",
      "torch.Size([64, 512])\n",
      "fc통과: torch.Size([64, 507])\n",
      "torch.Size([64, 512])\n"
     ]
    },
    {
     "name": "stderr",
     "output_type": "stream",
     "text": [
      " 22%|█████████▉                                  | 9/40 [00:02<00:07,  4.14it/s]"
     ]
    },
    {
     "name": "stdout",
     "output_type": "stream",
     "text": [
      "torch.Size([64, 128, 38, 1])\n",
      "torch.Size([64, 1, 128, 38])\n",
      "torch.Size([64, 64, 128, 19])\n",
      "torch.Size([64, 64, 128, 19])\n",
      "torch.Size([64, 128, 128, 9])\n",
      "torch.Size([64, 512, 32, 2])\n",
      "torch.Size([64, 512])\n",
      "torch.Size([64, 512])\n",
      "torch.Size([64, 512])\n",
      "fc통과: torch.Size([64, 507])\n",
      "torch.Size([64, 512])\n"
     ]
    },
    {
     "name": "stderr",
     "output_type": "stream",
     "text": [
      " 25%|██████████▊                                | 10/40 [00:02<00:06,  4.30it/s]"
     ]
    },
    {
     "name": "stdout",
     "output_type": "stream",
     "text": [
      "torch.Size([64, 128, 54, 1])\n",
      "torch.Size([64, 1, 128, 54])\n",
      "torch.Size([64, 64, 128, 27])\n",
      "torch.Size([64, 64, 128, 27])\n",
      "torch.Size([64, 128, 128, 13])\n",
      "torch.Size([64, 512, 32, 3])\n",
      "torch.Size([64, 512])\n",
      "torch.Size([64, 512])\n",
      "torch.Size([64, 512])\n",
      "fc통과: torch.Size([64, 507])\n",
      "torch.Size([64, 512])\n"
     ]
    },
    {
     "name": "stderr",
     "output_type": "stream",
     "text": [
      " 28%|███████████▊                               | 11/40 [00:02<00:07,  4.07it/s]"
     ]
    },
    {
     "name": "stdout",
     "output_type": "stream",
     "text": [
      "torch.Size([64, 128, 58, 1])\n",
      "torch.Size([64, 1, 128, 58])\n",
      "torch.Size([64, 64, 128, 29])\n",
      "torch.Size([64, 64, 128, 29])\n",
      "torch.Size([64, 128, 128, 14])\n",
      "torch.Size([64, 512, 32, 3])\n",
      "torch.Size([64, 512])\n",
      "torch.Size([64, 512])\n",
      "torch.Size([64, 512])\n",
      "fc통과: torch.Size([64, 507])\n",
      "torch.Size([64, 512])\n"
     ]
    },
    {
     "name": "stderr",
     "output_type": "stream",
     "text": [
      " 30%|████████████▉                              | 12/40 [00:02<00:07,  3.85it/s]"
     ]
    },
    {
     "name": "stdout",
     "output_type": "stream",
     "text": [
      "torch.Size([64, 128, 61, 1])\n",
      "torch.Size([64, 1, 128, 61])\n",
      "torch.Size([64, 64, 128, 30])\n",
      "torch.Size([64, 64, 128, 30])\n",
      "torch.Size([64, 128, 128, 15])\n",
      "torch.Size([64, 512, 32, 3])\n",
      "torch.Size([64, 512])\n",
      "torch.Size([64, 512])\n",
      "torch.Size([64, 512])\n",
      "fc통과: torch.Size([64, 507])\n",
      "torch.Size([64, 512])\n"
     ]
    },
    {
     "name": "stderr",
     "output_type": "stream",
     "text": [
      " 32%|█████████████▉                             | 13/40 [00:03<00:07,  3.65it/s]"
     ]
    },
    {
     "name": "stdout",
     "output_type": "stream",
     "text": [
      "torch.Size([64, 128, 37, 1])\n",
      "torch.Size([64, 1, 128, 37])\n",
      "torch.Size([64, 64, 128, 18])\n",
      "torch.Size([64, 64, 128, 18])\n",
      "torch.Size([64, 128, 128, 9])\n",
      "torch.Size([64, 512, 32, 2])\n",
      "torch.Size([64, 512])\n",
      "torch.Size([64, 512])\n",
      "torch.Size([64, 512])\n",
      "fc통과: torch.Size([64, 507])\n",
      "torch.Size([64, 512])\n"
     ]
    },
    {
     "name": "stderr",
     "output_type": "stream",
     "text": [
      " 35%|███████████████                            | 14/40 [00:03<00:06,  3.94it/s]"
     ]
    },
    {
     "name": "stdout",
     "output_type": "stream",
     "text": [
      "torch.Size([64, 128, 41, 1])\n",
      "torch.Size([64, 1, 128, 41])\n",
      "torch.Size([64, 64, 128, 20])\n",
      "torch.Size([64, 64, 128, 20])\n",
      "torch.Size([64, 128, 128, 10])\n",
      "torch.Size([64, 512, 32, 2])\n",
      "torch.Size([64, 512])\n",
      "torch.Size([64, 512])\n",
      "torch.Size([64, 512])\n",
      "fc통과: torch.Size([64, 507])\n",
      "torch.Size([64, 512])\n"
     ]
    },
    {
     "name": "stderr",
     "output_type": "stream",
     "text": [
      " 40%|█████████████████▏                         | 16/40 [00:03<00:05,  4.32it/s]"
     ]
    },
    {
     "name": "stdout",
     "output_type": "stream",
     "text": [
      "torch.Size([64, 128, 35, 1])\n",
      "torch.Size([64, 1, 128, 35])\n",
      "torch.Size([64, 64, 128, 17])\n",
      "torch.Size([64, 64, 128, 17])\n",
      "torch.Size([64, 128, 128, 8])\n",
      "torch.Size([64, 512, 32, 2])\n",
      "torch.Size([64, 512])\n",
      "torch.Size([64, 512])\n",
      "torch.Size([64, 512])\n",
      "fc통과: torch.Size([64, 507])\n",
      "torch.Size([64, 512])\n",
      "torch.Size([64, 128, 48, 1])\n",
      "torch.Size([64, 1, 128, 48])\n",
      "torch.Size([64, 64, 128, 24])\n",
      "torch.Size([64, 64, 128, 24])\n",
      "torch.Size([64, 128, 128, 12])\n",
      "torch.Size([64, 512, 32, 3])\n",
      "torch.Size([64, 512])\n",
      "torch.Size([64, 512])\n",
      "torch.Size([64, 512])\n",
      "fc통과: torch.Size([64, 507])\n",
      "torch.Size([64, 512])\n"
     ]
    },
    {
     "name": "stderr",
     "output_type": "stream",
     "text": [
      " 42%|██████████████████▎                        | 17/40 [00:04<00:05,  4.22it/s]"
     ]
    },
    {
     "name": "stdout",
     "output_type": "stream",
     "text": [
      "torch.Size([64, 128, 40, 1])\n",
      "torch.Size([64, 1, 128, 40])\n",
      "torch.Size([64, 64, 128, 20])\n",
      "torch.Size([64, 64, 128, 20])\n",
      "torch.Size([64, 128, 128, 10])\n",
      "torch.Size([64, 512, 32, 2])\n",
      "torch.Size([64, 512])\n",
      "torch.Size([64, 512])\n",
      "torch.Size([64, 512])\n",
      "fc통과: torch.Size([64, 507])\n",
      "torch.Size([64, 512])\n"
     ]
    },
    {
     "name": "stderr",
     "output_type": "stream",
     "text": [
      " 48%|████████████████████▍                      | 19/40 [00:04<00:04,  4.52it/s]"
     ]
    },
    {
     "name": "stdout",
     "output_type": "stream",
     "text": [
      "torch.Size([64, 128, 33, 1])\n",
      "torch.Size([64, 1, 128, 33])\n",
      "torch.Size([64, 64, 128, 16])\n",
      "torch.Size([64, 64, 128, 16])\n",
      "torch.Size([64, 128, 128, 8])\n",
      "torch.Size([64, 512, 32, 2])\n",
      "torch.Size([64, 512])\n",
      "torch.Size([64, 512])\n",
      "torch.Size([64, 512])\n",
      "fc통과: torch.Size([64, 507])\n",
      "torch.Size([64, 512])\n"
     ]
    },
    {
     "name": "stderr",
     "output_type": "stream",
     "text": [
      " 50%|█████████████████████▌                     | 20/40 [00:04<00:04,  4.53it/s]"
     ]
    },
    {
     "name": "stdout",
     "output_type": "stream",
     "text": [
      "torch.Size([64, 128, 33, 1])\n",
      "torch.Size([64, 1, 128, 33])\n",
      "torch.Size([64, 64, 128, 16])\n",
      "torch.Size([64, 64, 128, 16])\n",
      "torch.Size([64, 128, 128, 8])\n",
      "torch.Size([64, 512, 32, 2])\n",
      "torch.Size([64, 512])\n",
      "torch.Size([64, 512])\n",
      "torch.Size([64, 512])\n",
      "fc통과: torch.Size([64, 507])\n",
      "torch.Size([64, 512])\n",
      "torch.Size([64, 128, 35, 1])\n",
      "torch.Size([64, 1, 128, 35])\n",
      "torch.Size([64, 64, 128, 17])\n",
      "torch.Size([64, 64, 128, 17])\n",
      "torch.Size([64, 128, 128, 8])\n",
      "torch.Size([64, 512, 32, 2])\n",
      "torch.Size([64, 512])\n",
      "torch.Size([64, 512])\n",
      "torch.Size([64, 512])\n",
      "fc통과: torch.Size([64, 507])\n",
      "torch.Size([64, 512])\n"
     ]
    },
    {
     "name": "stderr",
     "output_type": "stream",
     "text": [
      " 55%|███████████████████████▋                   | 22/40 [00:05<00:03,  4.79it/s]"
     ]
    },
    {
     "name": "stdout",
     "output_type": "stream",
     "text": [
      "torch.Size([64, 128, 35, 1])\n",
      "torch.Size([64, 1, 128, 35])\n",
      "torch.Size([64, 64, 128, 17])\n",
      "torch.Size([64, 64, 128, 17])\n",
      "torch.Size([64, 128, 128, 8])\n",
      "torch.Size([64, 512, 32, 2])\n",
      "torch.Size([64, 512])\n",
      "torch.Size([64, 512])\n",
      "torch.Size([64, 512])\n",
      "fc통과: torch.Size([64, 507])\n",
      "torch.Size([64, 512])\n",
      "torch.Size([64, 128, 32, 1])\n",
      "torch.Size([64, 1, 128, 32])\n",
      "torch.Size([64, 64, 128, 16])\n",
      "torch.Size([64, 64, 128, 16])\n",
      "torch.Size([64, 128, 128, 8])\n",
      "torch.Size([64, 512, 32, 2])\n",
      "torch.Size([64, 512])\n",
      "torch.Size([64, 512])\n",
      "torch.Size([64, 512])\n",
      "fc통과: torch.Size([64, 507])\n"
     ]
    },
    {
     "name": "stderr",
     "output_type": "stream",
     "text": [
      " 57%|████████████████████████▋                  | 23/40 [00:05<00:03,  4.92it/s]"
     ]
    },
    {
     "name": "stdout",
     "output_type": "stream",
     "text": [
      "torch.Size([64, 512])\n",
      "torch.Size([64, 128, 37, 1])\n",
      "torch.Size([64, 1, 128, 37])\n",
      "torch.Size([64, 64, 128, 18])\n",
      "torch.Size([64, 64, 128, 18])\n",
      "torch.Size([64, 128, 128, 9])\n",
      "torch.Size([64, 512, 32, 2])\n",
      "torch.Size([64, 512])\n",
      "torch.Size([64, 512])\n",
      "torch.Size([64, 512])\n",
      "fc통과: torch.Size([64, 507])\n",
      "torch.Size([64, 512])\n"
     ]
    },
    {
     "name": "stderr",
     "output_type": "stream",
     "text": [
      " 60%|█████████████████████████▊                 | 24/40 [00:05<00:03,  4.89it/s]"
     ]
    },
    {
     "name": "stdout",
     "output_type": "stream",
     "text": [
      "torch.Size([64, 128, 47, 1])\n",
      "torch.Size([64, 1, 128, 47])\n",
      "torch.Size([64, 64, 128, 23])\n",
      "torch.Size([64, 64, 128, 23])\n",
      "torch.Size([64, 128, 128, 11])\n",
      "torch.Size([64, 512, 32, 2])\n",
      "torch.Size([64, 512])\n",
      "torch.Size([64, 512])\n",
      "torch.Size([64, 512])\n",
      "fc통과: torch.Size([64, 507])\n",
      "torch.Size([64, 512])\n"
     ]
    },
    {
     "name": "stderr",
     "output_type": "stream",
     "text": [
      " 60%|█████████████████████████▊                 | 24/40 [00:05<00:03,  4.15it/s]\n"
     ]
    },
    {
     "ename": "KeyboardInterrupt",
     "evalue": "",
     "output_type": "error",
     "traceback": [
      "\u001b[0;31m---------------------------------------------------------------------------\u001b[0m",
      "\u001b[0;31mKeyboardInterrupt\u001b[0m                         Traceback (most recent call last)",
      "Input \u001b[0;32mIn [97]\u001b[0m, in \u001b[0;36m<cell line: 5>\u001b[0;34m()\u001b[0m\n\u001b[1;32m     18\u001b[0m \u001b[38;5;28;01melse\u001b[39;00m:\n\u001b[1;32m     19\u001b[0m     verbose \u001b[38;5;241m=\u001b[39m \u001b[38;5;241m1\u001b[39m\n\u001b[0;32m---> 24\u001b[0m \u001b[43mtrain_challenge_model\u001b[49m\u001b[43m(\u001b[49m\u001b[43mtrain_folder\u001b[49m\u001b[43m,\u001b[49m\u001b[43m \u001b[49m\u001b[43mmodel_folder\u001b[49m\u001b[43m,\u001b[49m\u001b[43m \u001b[49m\u001b[43mverbose\u001b[49m\u001b[43m)\u001b[49m\n",
      "Input \u001b[0;32mIn [91]\u001b[0m, in \u001b[0;36mtrain_challenge_model\u001b[0;34m(data_folder, model_folder, verbose)\u001b[0m\n\u001b[1;32m    141\u001b[0m loss\u001b[38;5;241m.\u001b[39mbackward()\n\u001b[1;32m    142\u001b[0m optimizer\u001b[38;5;241m.\u001b[39mstep()\n\u001b[0;32m--> 144\u001b[0m running_loss \u001b[38;5;241m+\u001b[39m\u001b[38;5;241m=\u001b[39m \u001b[43mloss\u001b[49m\u001b[38;5;241;43m.\u001b[39;49m\u001b[43mitem\u001b[49m\u001b[43m(\u001b[49m\u001b[43m)\u001b[49m\n\u001b[1;32m    145\u001b[0m train_epoch_acc \u001b[38;5;241m+\u001b[39m\u001b[38;5;241m=\u001b[39m train_acc\u001b[38;5;241m.\u001b[39mitem()\n\u001b[1;32m    146\u001b[0m \u001b[38;5;66;03m#if idx % 100 == 0 :\u001b[39;00m\n\u001b[1;32m    147\u001b[0m \u001b[38;5;66;03m#    print(\"lr: \", optimizer.param_groups[0]['lr'])\u001b[39;00m\n\u001b[1;32m    148\u001b[0m \u001b[38;5;66;03m#    print('batch : ',idx, ' done')\u001b[39;00m\n",
      "\u001b[0;31mKeyboardInterrupt\u001b[0m: "
     ]
    }
   ],
   "source": [
    "import sys\n",
    "from helper_code import is_integer\n",
    "#from team_code import train_challenge_model\n",
    "\n",
    "if __name__ == '__main__':\n",
    "    # Parse the arguments.\n",
    "    if not (len(sys.argv) == 3 or len(sys.argv) == 4):\n",
    "        raise Exception('Include the data and model folders as arguments, e.g., python train_model.py data model.')\n",
    "\n",
    "    # Define the data and model foldes.\n",
    "    train_folder = '/Data2/hmd/data_split/murmur/train'\n",
    "    #test_folder ='/Data2/hmd/data_split/murmur/test'\n",
    "    model_folder = 'model'\n",
    "\n",
    "    # Change the level of verbosity; helpful for debugging.\n",
    "    if len(sys.argv)==4 and is_integer(sys.argv[3]):\n",
    "        verbose = int(sys.argv[3])\n",
    "    else:\n",
    "        verbose = 1\n",
    "\n",
    "        \n",
    "        \n",
    "        \n",
    "    train_challenge_model(train_folder, model_folder, verbose) ### Teams: Implement this function!!!"
   ]
  },
  {
   "cell_type": "code",
   "execution_count": 109,
   "id": "70b8c247",
   "metadata": {},
   "outputs": [],
   "source": [
    "nnet = vgg_hj(num_murmur_classes)\n",
    "nnet = nnet.cuda()\n",
    "optimizer = optim.Adam(nnet.parameters(), lr=4e-4)\n",
    "scheduler = torch.optim.lr_scheduler.ExponentialLR(optimizer, 0.91)\n",
    "criterion = nn.CrossEntropyLoss()"
   ]
  },
  {
   "cell_type": "code",
   "execution_count": 110,
   "id": "2323dccf",
   "metadata": {},
   "outputs": [],
   "source": [
    "imputer = SimpleImputer().fit(features['hw'])\n",
    "features['hw'] = imputer.transform(features['hw'])"
   ]
  },
  {
   "cell_type": "code",
   "execution_count": 115,
   "id": "8acf2136",
   "metadata": {},
   "outputs": [
    {
     "ename": "SyntaxError",
     "evalue": "unexpected EOF while parsing (1011045553.py, line 54)",
     "output_type": "error",
     "traceback": [
      "\u001b[0;36m  Input \u001b[0;32mIn [115]\u001b[0;36m\u001b[0m\n\u001b[0;31m    \u001b[0m\n\u001b[0m    ^\u001b[0m\n\u001b[0;31mSyntaxError\u001b[0m\u001b[0;31m:\u001b[0m unexpected EOF while parsing\n"
     ]
    }
   ],
   "source": [
    "for iter_ in range(15):  # args.end_iter\n",
    "    start_time = time.time()\n",
    "    running_loss = 0.0\n",
    "    train_epoch_acc = 0.0\n",
    "    nnet.train()\n",
    "        \n",
    "    idx = 0\n",
    "#    epoch[str(iter_)] = {}\n",
    "    for audio_feature, age, sex, hw, preg, loc, data_label_torch in tqdm(dataloader_train_murmurs):  \n",
    "            #print(audio_feature.shape)\n",
    "        \n",
    "        idx = idx + 1\n",
    "            #audio_feature = torch.nan_to_num(audio_feature, nan=0)\n",
    "        audio_feature[audio_feature != audio_feature] = 0\n",
    "        \n",
    "            #audio_feature = audio_feature.permute(1,3,0,2)\n",
    "            #print(audio_feature.shape)\n",
    "        audio_feature = audio_feature.cuda()\n",
    "        age = age.permute(1,0).float().cuda()\n",
    "            #print(age.shape)\n",
    "        sex = sex.permute(1,0).float().cuda()\n",
    "            #print(sex.shape)\n",
    "        hw = hw.permute(1,0).float().cuda()\n",
    "            #print(hw.shape)\n",
    "        preg = preg.permute(1,0).float().cuda()\n",
    "            #print(preg.shape)\n",
    "        loc = loc.permute(1,0).float().cuda()\n",
    "            #print(loc.shape)\n",
    "    #        for idx in range(len(data_label_torch)) :\n",
    "    #            data_label_torch[idx][0] = mapping[int(data_label_torch[idx][0])]\n",
    "        data_label_torch = data_label_torch.cuda()\n",
    "                \n",
    "        data_label_torch = data_label_torch.long()\n",
    "        outputs = nnet(input=audio_feature, age = age , sex = sex, hw = hw, preg = preg, loc = loc)\n",
    "        \n",
    "        loss = criterion(outputs.float(), data_label_torch.squeeze(1))\n",
    "        train_acc = multi_acc(outputs, data_label_torch.squeeze(1))\n",
    "            #print(outputs.shape)\n",
    "            #print(data_label_torch.squeeze(1).shape)\n",
    "            #print(train_acc)\n",
    "                \n",
    "        optimizer.zero_grad()\n",
    "        loss.backward()\n",
    "        optimizer.step()\n",
    "\n",
    "        running_loss += loss.item()\n",
    "        train_epoch_acc += train_acc.item()\n",
    "            #if idx % 100 == 0 :\n",
    "            #    print(\"lr: \", optimizer.param_groups[0]['lr'])\n",
    "            #    print('batch : ',idx, ' done')\n",
    "            \n",
    "    logger.info(\"Iteration:{0}, murmur_loss = {1:.6f}, murmur_acc = {2:.3f} \".format(iter_, running_loss/len(dataloader_train_murmurs), train_epoch_acc/len(dataloader_train_murmurs))\n"
   ]
  },
  {
   "cell_type": "code",
   "execution_count": null,
   "id": "d540023e",
   "metadata": {},
   "outputs": [],
   "source": [
    "save_challenge_model"
   ]
  },
  {
   "cell_type": "code",
   "execution_count": null,
   "id": "5a678ff8",
   "metadata": {},
   "outputs": [],
   "source": []
  },
  {
   "cell_type": "code",
   "execution_count": null,
   "id": "b2ae4f8b",
   "metadata": {},
   "outputs": [],
   "source": []
  },
  {
   "cell_type": "code",
   "execution_count": null,
   "id": "b5ac3bb3",
   "metadata": {},
   "outputs": [],
   "source": []
  },
  {
   "cell_type": "code",
   "execution_count": 111,
   "id": "d32f3a89",
   "metadata": {},
   "outputs": [],
   "source": [
    "def save_challenge_model(model_folder, model, classes, m_name) :\n",
    "    os.makedirs(model_folder, exist_ok=True)\n",
    "    info_fnm = os.path.join(model_folder, 'desc.pk')\n",
    "    filename = os.path.join(model_folder, m_name + '_model.hdf5')\n",
    "#    model.save(filename)\n",
    "    torch.save(model.state_dict(), filename)\n",
    "    d = {'model': m_name, 'classes': classes,'model_fnm': filename}    \n",
    "    with open(info_fnm, 'wb') as f:\n",
    "        pk.dump(d, f, pk.HIGHEST_PROTOCOL)"
   ]
  },
  {
   "cell_type": "code",
   "execution_count": null,
   "id": "43dc6094",
   "metadata": {},
   "outputs": [],
   "source": []
  },
  {
   "cell_type": "code",
   "execution_count": null,
   "id": "b92ad2d0",
   "metadata": {},
   "outputs": [],
   "source": [
    "nnet = vgg_hj(num_outcome_classes)\n",
    "nnet = nnet.cuda()\n",
    "nnet.train()\n",
    "\n",
    "for iter_ in range(15):  # args.end_iter\n",
    "    start_time = time.time()\n",
    "    running_loss = 0.0\n",
    "    train_epoch_acc = 0.0\n",
    "    nnet.train()\n",
    "        \n",
    "    for audio_feature, age, sex, hw, preg, loc, data_label_torch in tqdm(dataloader_train_outcoms):  \n",
    "            #print(audio_feature.shape)\n",
    "        \n",
    "            idx = idx + 1\n",
    "            #audio_feature = torch.nan_to_num(audio_feature, nan=0)\n",
    "            audio_feature[audio_feature != audio_feature] = 0\n",
    "        \n",
    "            audio_feature = audio_feature.permute(1,3,0,2)\n",
    "            #print(audio_feature.shape)\n",
    "            audio_feature = audio_feature.cuda()\n",
    "            age = age.permute(1,0).float().cuda()\n",
    "            #print(age.shape)\n",
    "            sex = sex.permute(1,0).float().cuda()\n",
    "            #print(sex.shape)\n",
    "            hw = hw.permute(1,0).float().cuda()\n",
    "            #print(hw.shape)\n",
    "            preg = preg.permute(1,0).float().cuda()\n",
    "            #print(preg.shape)\n",
    "            loc = loc.permute(1,0).float().cuda()\n",
    "            #print(loc.shape)\n",
    "    #        for idx in range(len(data_label_torch)) :\n",
    "    #            data_label_torch[idx][0] = mapping[int(data_label_torch[idx][0])]\n",
    "            data_label_torch = data_label_torch.cuda()\n",
    "                \n",
    "            data_label_torch = data_label_torch.long()\n",
    "            outputs = nnet(input=audio_feature, age = age , sex = sex, hw = hw, preg = preg, loc = loc)\n",
    "        \n",
    "            loss = criterion(outputs.float(), data_label_torch.squeeze(1))\n",
    "            train_acc = multi_acc(outputs, data_label_torch.squeeze(1))\n",
    "            #print(outputs.shape)\n",
    "            #print(data_label_torch.squeeze(1).shape)\n",
    "            #print(train_acc)\n",
    "                \n",
    "            optimizer.zero_grad()\n",
    "            loss.backward()\n",
    "            optimizer.step()\n",
    "\n",
    "            running_loss += loss.item()\n",
    "            train_epoch_acc += train_acc.item()\n",
    "            #if idx % 100 == 0 :\n",
    "            #    print(\"lr: \", optimizer.param_groups[0]['lr'])\n",
    "            #    print('batch : ',idx, ' done')\n",
    "            \n",
    "        logger.info(\"Iteration:{0}, outcome_loss = {1:.6f}, outcome_loss = {2:.3f} \".format(iter_, running_loss/len(dataloader_train_outcoms), train_epoch_acc/len(dataloader_train_outcoms)))\n",
    "    \n",
    "    \n",
    "    # Save the model.\n",
    "    save_challenge_model(model_folder, imputer, murmur_classes, murmur_classifier, outcome_classes, outcome_classifier)\n",
    "\n",
    "    if verbose >= 1:\n",
    "        print('Done.')\n"
   ]
  },
  {
   "cell_type": "code",
   "execution_count": 143,
   "id": "62aebce2",
   "metadata": {},
   "outputs": [],
   "source": [
    "def save_challenge_model(model_folder, murmur_classes, murmur_classifier, outcome_classes, outcome_classifier):\n",
    "    os.makedirs(model_folder, exist_ok=True)\n",
    "    info_fnm = os.path.join(model_folder, 'desc.pk')\n",
    "    filename = os.path.join(model_folder, m_name + '_model.hdf5')\n",
    "    torch.save(model.state_dict(), filename)\n",
    "    d = {'murmur_classes': murmur_classes, 'murmur_classifier': murmur_classifier, 'outcome_classes': outcome_classes, 'outcome_classifier': outcome_classifier}\n",
    "    with open(info_fnm, 'wb') as f:\n",
    "        pk.dump(d, f, pk.HIGHEST_PROTOCOL)"
   ]
  },
  {
   "cell_type": "code",
   "execution_count": null,
   "id": "b469d1f4",
   "metadata": {},
   "outputs": [],
   "source": []
  },
  {
   "cell_type": "code",
   "execution_count": null,
   "id": "4648cf5b",
   "metadata": {},
   "outputs": [],
   "source": []
  },
  {
   "cell_type": "code",
   "execution_count": null,
   "id": "449d4e37",
   "metadata": {},
   "outputs": [],
   "source": []
  },
  {
   "cell_type": "code",
   "execution_count": null,
   "id": "17cdaf47",
   "metadata": {},
   "outputs": [],
   "source": []
  },
  {
   "cell_type": "code",
   "execution_count": null,
   "id": "4a9dc956",
   "metadata": {},
   "outputs": [],
   "source": []
  },
  {
   "cell_type": "code",
   "execution_count": null,
   "id": "05cff39e",
   "metadata": {},
   "outputs": [],
   "source": []
  },
  {
   "cell_type": "code",
   "execution_count": null,
   "id": "b57ee065",
   "metadata": {},
   "outputs": [],
   "source": []
  },
  {
   "cell_type": "code",
   "execution_count": null,
   "id": "7c8bd325",
   "metadata": {},
   "outputs": [],
   "source": []
  },
  {
   "cell_type": "code",
   "execution_count": null,
   "id": "c9a39865",
   "metadata": {},
   "outputs": [],
   "source": []
  },
  {
   "cell_type": "code",
   "execution_count": null,
   "id": "003e17a7",
   "metadata": {},
   "outputs": [],
   "source": []
  },
  {
   "cell_type": "code",
   "execution_count": null,
   "id": "327745a3",
   "metadata": {},
   "outputs": [],
   "source": []
  },
  {
   "cell_type": "code",
   "execution_count": null,
   "id": "69ee86e5",
   "metadata": {},
   "outputs": [],
   "source": []
  },
  {
   "cell_type": "code",
   "execution_count": null,
   "id": "ba3e2f9d",
   "metadata": {},
   "outputs": [],
   "source": []
  },
  {
   "cell_type": "code",
   "execution_count": null,
   "id": "ab9d1244",
   "metadata": {},
   "outputs": [],
   "source": []
  },
  {
   "cell_type": "code",
   "execution_count": null,
   "id": "320c5509",
   "metadata": {},
   "outputs": [],
   "source": []
  },
  {
   "cell_type": "code",
   "execution_count": null,
   "id": "a879ad45",
   "metadata": {},
   "outputs": [],
   "source": [
    "python run_model.py model test_data test_outputs"
   ]
  },
  {
   "cell_type": "code",
   "execution_count": null,
   "id": "0389b3aa",
   "metadata": {},
   "outputs": [],
   "source": []
  },
  {
   "cell_type": "code",
   "execution_count": null,
   "id": "8da2762b",
   "metadata": {},
   "outputs": [],
   "source": []
  },
  {
   "cell_type": "code",
   "execution_count": null,
   "id": "ccec0ddd",
   "metadata": {},
   "outputs": [],
   "source": []
  },
  {
   "cell_type": "code",
   "execution_count": null,
   "id": "b640f60b",
   "metadata": {},
   "outputs": [],
   "source": []
  },
  {
   "cell_type": "code",
   "execution_count": null,
   "id": "6dda4780",
   "metadata": {},
   "outputs": [],
   "source": []
  }
 ],
 "metadata": {
  "kernelspec": {
   "display_name": "Python 3",
   "language": "python",
   "name": "python3"
  },
  "language_info": {
   "codemirror_mode": {
    "name": "ipython",
    "version": 3
   },
   "file_extension": ".py",
   "mimetype": "text/x-python",
   "name": "python",
   "nbconvert_exporter": "python",
   "pygments_lexer": "ipython3",
   "version": "3.7.10"
  },
  "toc": {
   "base_numbering": 1,
   "nav_menu": {},
   "number_sections": true,
   "sideBar": true,
   "skip_h1_title": false,
   "title_cell": "Table of Contents",
   "title_sidebar": "Contents",
   "toc_cell": false,
   "toc_position": {},
   "toc_section_display": true,
   "toc_window_display": false
  }
 },
 "nbformat": 4,
 "nbformat_minor": 5
}
